{
 "cells": [
  {
   "cell_type": "code",
   "execution_count": 17,
   "metadata": {
    "ExecuteTime": {
     "end_time": "2021-06-06T06:33:23.587743Z",
     "start_time": "2021-06-06T06:33:23.570232Z"
    }
   },
   "outputs": [],
   "source": [
    "import numpy as np\n",
    "import pandas as pd\n",
    "from numpy.testing import assert_equal, assert_almost_equal\n",
    "\n",
    "class MovieDBError(ValueError):\n",
    "    \"\"\"insert docstring here\"\"\"\n",
    "    pass\n",
    "\n",
    "class MovieDB:\n",
    "    \"\"\"insert docstring here\"\"\"\n",
    "    \n",
    "    def __init__(self, path):\n",
    "        \"\"\"insert docstring here\"\"\"\n",
    "        self.data_dir = path\n",
    "        self.movies = pd.DataFrame(columns=['movie_id', 'title', 'year',\n",
    "                                            'genre', 'director_id'])\n",
    "                                            .set_index('movie_id')\n",
    "        self.directors = pd.DataFrame(columns=['director_id', 'given_name',\n",
    "                                               'last_name'])\n",
    "        self.movies.to_csv(\"movies.csv\",path=path, index='movie_id')\n",
    "        self.directors.to_csv(\"directors.csv\",path=path, index=False)  \n",
    "        \n",
    "        d\n",
    "    def add_movie(self, title, year, genre, director):\n",
    "        \"\"\"insert docstring here\"\"\"\n",
    "        self.movies.title = title\n",
    "        self.movies.title = year\n",
    "        self.movies.genre = genre\n",
    "        self.movies.director = director\n",
    "        \n",
    "    \n",
    "    def add_movies(self, **movies):\n",
    "        \"\"\"insert docstring here\"\"\"\n",
    "    \n",
    "    def delete_movie(self, movie_id):\n",
    "        \"\"\"insert docstring here\"\"\"\n",
    "        \n",
    "    def search_movies(self, title, year, genre, director_id):\n",
    "        \"\"\"insert docstring here\"\"\"\n",
    "    \n",
    "    def export_data(self, title, year, genre, director_last_name,\n",
    "                    director_given_name):\n",
    "        \"\"\"insert docstring here\"\"\"\n",
    "        \n",
    "    def generate_statistics(self):\n",
    "        \"\"\"insert docstring here\"\"\"\n",
    "        \n",
    "    def plot_statistics(self):\n",
    "        \"\"\"insert docstring here\"\"\"\n",
    "        \n",
    "    def token_freq(self):\n",
    "        \"\"\"insert docstring here\"\"\"\n",
    "    \n",
    "        \n"
   ]
  },
  {
   "cell_type": "code",
   "execution_count": 16,
   "metadata": {
    "ExecuteTime": {
     "end_time": "2021-06-06T06:31:06.184985Z",
     "start_time": "2021-06-06T06:31:06.166989Z"
    }
   },
   "outputs": [],
   "source": [
    "movies = pd.DataFrame(columns = ['movie_id', 'title', 'year', 'genre', 'director_id'])\n",
    "directors = pd.DataFrame(columns = ['director_id', 'given_name', 'last_name'])"
   ]
  },
  {
   "cell_type": "code",
   "execution_count": null,
   "metadata": {},
   "outputs": [],
   "source": [
    "def add_movie(title, year, genre, director):\n",
    "    if ti"
   ]
  },
  {
   "cell_type": "code",
   "execution_count": 47,
   "metadata": {
    "ExecuteTime": {
     "end_time": "2021-06-06T06:52:43.525667Z",
     "start_time": "2021-06-06T06:52:43.517509Z"
    }
   },
   "outputs": [],
   "source": [
    "class MovieDB:\n",
    "    \"\"\"insert docstring here\"\"\"\n",
    "    \n",
    "    def __init__(self):\n",
    "        \"\"\"insert docstring here\"\"\"\n",
    "#         self.data_dir = path\n",
    "        self.movies = pd.DataFrame(columns=['movie_id', 'title', 'year',\n",
    "                                            'genre', 'director_id'],\n",
    "                                  index=False)\n",
    "        self.directors = pd.DataFrame(columns=['director_id', 'given_name',\n",
    "                                               'last_name'])\n",
    "#         self.movies.to_csv(\"movies.csv\",path=path, index=False)\n",
    "#         self.directors.to_csv(\"directors.csv\",path=path, index=False)  \n",
    "        \n",
    "        \n",
    "    def add_movie(self, title, year, genre, director):\n",
    "        \"\"\"insert docstring here\"\"\"\n",
    "        temp = pd.DataFrame({'title':[title],\n",
    "                                  'genre':[year],\n",
    "                                  'genre':[genre],\n",
    "                                  'director':[director]})\n",
    "        self.movies.append(temp, ignore_index=True)"
   ]
  },
  {
   "cell_type": "code",
   "execution_count": 42,
   "metadata": {
    "ExecuteTime": {
     "end_time": "2021-06-06T06:50:59.753838Z",
     "start_time": "2021-06-06T06:50:59.747842Z"
    }
   },
   "outputs": [],
   "source": [
    "movie_db = MovieDB()\n",
    "movie_db.add_movie('Shrek', 2001, 'Comedy', 'Adamson, Andrew')"
   ]
  },
  {
   "cell_type": "code",
   "execution_count": 43,
   "metadata": {
    "ExecuteTime": {
     "end_time": "2021-06-06T06:51:00.949862Z",
     "start_time": "2021-06-06T06:51:00.938859Z"
    }
   },
   "outputs": [
    {
     "data": {
      "text/html": [
       "<div>\n",
       "<style scoped>\n",
       "    .dataframe tbody tr th:only-of-type {\n",
       "        vertical-align: middle;\n",
       "    }\n",
       "\n",
       "    .dataframe tbody tr th {\n",
       "        vertical-align: top;\n",
       "    }\n",
       "\n",
       "    .dataframe thead th {\n",
       "        text-align: right;\n",
       "    }\n",
       "</style>\n",
       "<table border=\"1\" class=\"dataframe\">\n",
       "  <thead>\n",
       "    <tr style=\"text-align: right;\">\n",
       "      <th></th>\n",
       "      <th>movie_id</th>\n",
       "      <th>title</th>\n",
       "      <th>year</th>\n",
       "      <th>genre</th>\n",
       "      <th>director_id</th>\n",
       "    </tr>\n",
       "  </thead>\n",
       "  <tbody>\n",
       "  </tbody>\n",
       "</table>\n",
       "</div>"
      ],
      "text/plain": [
       "Empty DataFrame\n",
       "Columns: [movie_id, title, year, genre, director_id]\n",
       "Index: []"
      ]
     },
     "execution_count": 43,
     "metadata": {},
     "output_type": "execute_result"
    }
   ],
   "source": [
    "movies"
   ]
  },
  {
   "cell_type": "code",
   "execution_count": 54,
   "metadata": {
    "ExecuteTime": {
     "end_time": "2021-06-06T06:56:13.019842Z",
     "start_time": "2021-06-06T06:56:13.005722Z"
    }
   },
   "outputs": [
    {
     "data": {
      "text/html": [
       "<div>\n",
       "<style scoped>\n",
       "    .dataframe tbody tr th:only-of-type {\n",
       "        vertical-align: middle;\n",
       "    }\n",
       "\n",
       "    .dataframe tbody tr th {\n",
       "        vertical-align: top;\n",
       "    }\n",
       "\n",
       "    .dataframe thead th {\n",
       "        text-align: right;\n",
       "    }\n",
       "</style>\n",
       "<table border=\"1\" class=\"dataframe\">\n",
       "  <thead>\n",
       "    <tr style=\"text-align: right;\">\n",
       "      <th></th>\n",
       "      <th>title</th>\n",
       "      <th>year</th>\n",
       "      <th>genre</th>\n",
       "      <th>director_id</th>\n",
       "    </tr>\n",
       "    <tr>\n",
       "      <th>movie_id</th>\n",
       "      <th></th>\n",
       "      <th></th>\n",
       "      <th></th>\n",
       "      <th></th>\n",
       "    </tr>\n",
       "  </thead>\n",
       "  <tbody>\n",
       "  </tbody>\n",
       "</table>\n",
       "</div>"
      ],
      "text/plain": [
       "Empty DataFrame\n",
       "Columns: [title, year, genre, director_id]\n",
       "Index: []"
      ]
     },
     "execution_count": 54,
     "metadata": {},
     "output_type": "execute_result"
    }
   ],
   "source": [
    "movies = (pd.DataFrame(columns=['movie_id', 'title', 'year',\n",
    "                                            'genre', 'director_id'])\n",
    "                                            .set_index('movie_id'))\n",
    "movies"
   ]
  },
  {
   "cell_type": "code",
   "execution_count": 60,
   "metadata": {
    "ExecuteTime": {
     "end_time": "2021-06-06T06:57:17.332395Z",
     "start_time": "2021-06-06T06:57:17.323394Z"
    }
   },
   "outputs": [
    {
     "data": {
      "text/html": [
       "<div>\n",
       "<style scoped>\n",
       "    .dataframe tbody tr th:only-of-type {\n",
       "        vertical-align: middle;\n",
       "    }\n",
       "\n",
       "    .dataframe tbody tr th {\n",
       "        vertical-align: top;\n",
       "    }\n",
       "\n",
       "    .dataframe thead th {\n",
       "        text-align: right;\n",
       "    }\n",
       "</style>\n",
       "<table border=\"1\" class=\"dataframe\">\n",
       "  <thead>\n",
       "    <tr style=\"text-align: right;\">\n",
       "      <th></th>\n",
       "      <th>title</th>\n",
       "      <th>year</th>\n",
       "      <th>genre</th>\n",
       "      <th>director_id</th>\n",
       "      <th>director</th>\n",
       "    </tr>\n",
       "  </thead>\n",
       "  <tbody>\n",
       "    <tr>\n",
       "      <th>0</th>\n",
       "      <td>Shrek</td>\n",
       "      <td>NaN</td>\n",
       "      <td>Comedy</td>\n",
       "      <td>NaN</td>\n",
       "      <td>Adamson, Andrew</td>\n",
       "    </tr>\n",
       "  </tbody>\n",
       "</table>\n",
       "</div>"
      ],
      "text/plain": [
       "   title year   genre director_id         director\n",
       "0  Shrek  NaN  Comedy         NaN  Adamson, Andrew"
      ]
     },
     "execution_count": 60,
     "metadata": {},
     "output_type": "execute_result"
    }
   ],
   "source": [
    "\n",
    "temp = pd.DataFrame({'title':['Shrek'],\n",
    "                     'genre':2001,\n",
    "                     'genre':['Comedy'],\n",
    "                     'director':['Adamson, Andrew']})\n",
    "movies.append(temp)"
   ]
  },
  {
   "cell_type": "code",
   "execution_count": null,
   "metadata": {},
   "outputs": [],
   "source": []
  },
  {
   "cell_type": "code",
   "execution_count": null,
   "metadata": {},
   "outputs": [],
   "source": []
  }
 ],
 "metadata": {
  "kernelspec": {
   "display_name": "Python 3",
   "language": "python",
   "name": "python3"
  },
  "language_info": {
   "codemirror_mode": {
    "name": "ipython",
    "version": 3
   },
   "file_extension": ".py",
   "mimetype": "text/x-python",
   "name": "python",
   "nbconvert_exporter": "python",
   "pygments_lexer": "ipython3",
   "version": "3.7.7"
  },
  "toc": {
   "base_numbering": 1,
   "nav_menu": {},
   "number_sections": true,
   "sideBar": true,
   "skip_h1_title": false,
   "title_cell": "Table of Contents",
   "title_sidebar": "Contents",
   "toc_cell": false,
   "toc_position": {},
   "toc_section_display": true,
   "toc_window_display": false
  },
  "varInspector": {
   "cols": {
    "lenName": 16,
    "lenType": 16,
    "lenVar": 40
   },
   "kernels_config": {
    "python": {
     "delete_cmd_postfix": "",
     "delete_cmd_prefix": "del ",
     "library": "var_list.py",
     "varRefreshCmd": "print(var_dic_list())"
    },
    "r": {
     "delete_cmd_postfix": ") ",
     "delete_cmd_prefix": "rm(",
     "library": "var_list.r",
     "varRefreshCmd": "cat(var_dic_list()) "
    }
   },
   "types_to_exclude": [
    "module",
    "function",
    "builtin_function_or_method",
    "instance",
    "_Feature"
   ],
   "window_display": false
  }
 },
 "nbformat": 4,
 "nbformat_minor": 4
}
