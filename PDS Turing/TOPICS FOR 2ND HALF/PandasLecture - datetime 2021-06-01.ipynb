{
 "cells": [
  {
   "cell_type": "code",
   "execution_count": 1,
   "id": "0e6fb070",
   "metadata": {
    "ExecuteTime": {
     "end_time": "2021-06-01T05:37:38.449007Z",
     "start_time": "2021-06-01T05:37:38.444146Z"
    }
   },
   "outputs": [],
   "source": [
    "import datetime\n",
    "import numpy as np\n",
    "import pandas as pd"
   ]
  },
  {
   "cell_type": "code",
   "execution_count": 43,
   "id": "d9f0a0ea",
   "metadata": {
    "ExecuteTime": {
     "end_time": "2021-06-01T05:15:21.083697Z",
     "start_time": "2021-06-01T05:15:21.075442Z"
    }
   },
   "outputs": [
    {
     "data": {
      "text/plain": [
       "datetime.datetime(2021, 6, 1, 0, 0)"
      ]
     },
     "execution_count": 43,
     "metadata": {},
     "output_type": "execute_result"
    }
   ],
   "source": [
    "datetime.datetime(2021, 6, 1)"
   ]
  },
  {
   "cell_type": "code",
   "execution_count": 44,
   "id": "9d536a3a",
   "metadata": {
    "ExecuteTime": {
     "end_time": "2021-06-01T05:19:08.914601Z",
     "start_time": "2021-06-01T05:19:08.906312Z"
    }
   },
   "outputs": [
    {
     "data": {
      "text/plain": [
       "datetime.datetime(2021, 6, 1, 13, 0)"
      ]
     },
     "execution_count": 44,
     "metadata": {},
     "output_type": "execute_result"
    }
   ],
   "source": [
    "datetime.datetime(2021, 6, 1, 13) # timezone-naive"
   ]
  },
  {
   "cell_type": "code",
   "execution_count": 45,
   "id": "349c0568",
   "metadata": {
    "ExecuteTime": {
     "end_time": "2021-06-01T05:22:23.376713Z",
     "start_time": "2021-06-01T05:22:23.368114Z"
    }
   },
   "outputs": [
    {
     "data": {
      "text/plain": [
       "datetime.datetime(2021, 6, 1, 13, 0, tzinfo=datetime.timezone.utc)"
      ]
     },
     "execution_count": 45,
     "metadata": {},
     "output_type": "execute_result"
    }
   ],
   "source": [
    "datetime.datetime(2021, 6, 1, 13, tzinfo=datetime.timezone.utc) # timezone-aware"
   ]
  },
  {
   "cell_type": "code",
   "execution_count": 46,
   "id": "f7a68f3b",
   "metadata": {
    "ExecuteTime": {
     "end_time": "2021-06-01T05:25:26.874525Z",
     "start_time": "2021-06-01T05:25:26.865496Z"
    }
   },
   "outputs": [
    {
     "data": {
      "text/plain": [
       "Timestamp('2021-06-01 13:00:00')"
      ]
     },
     "execution_count": 46,
     "metadata": {},
     "output_type": "execute_result"
    }
   ],
   "source": [
    "pd.Timestamp(datetime.datetime(2021, 6, 1, 13))"
   ]
  },
  {
   "cell_type": "code",
   "execution_count": 47,
   "id": "0c0bc1a2",
   "metadata": {
    "ExecuteTime": {
     "end_time": "2021-06-01T05:25:51.493652Z",
     "start_time": "2021-06-01T05:25:51.484568Z"
    },
    "scrolled": true
   },
   "outputs": [
    {
     "data": {
      "text/plain": [
       "Timestamp('2021-06-01 13:00:00+0000', tz='UTC')"
      ]
     },
     "execution_count": 47,
     "metadata": {},
     "output_type": "execute_result"
    }
   ],
   "source": [
    "pd.Timestamp(datetime.datetime(2021, 6, 1, 13, tzinfo=datetime.timezone.utc))"
   ]
  },
  {
   "cell_type": "code",
   "execution_count": 48,
   "id": "24b8f324",
   "metadata": {},
   "outputs": [
    {
     "data": {
      "text/plain": [
       "['2021-06-01', '2021-05-02']"
      ]
     },
     "execution_count": 48,
     "metadata": {},
     "output_type": "execute_result"
    }
   ],
   "source": [
    "['2021-06-01', '2021-05-02']"
   ]
  },
  {
   "cell_type": "code",
   "execution_count": 49,
   "id": "964bdbfc",
   "metadata": {},
   "outputs": [
    {
     "data": {
      "text/plain": [
       "['06-01-2021', '05-02-2021']"
      ]
     },
     "execution_count": 49,
     "metadata": {},
     "output_type": "execute_result"
    }
   ],
   "source": [
    "['06-01-2021', '05-02-2021']"
   ]
  },
  {
   "cell_type": "code",
   "execution_count": 50,
   "id": "50a0d398",
   "metadata": {},
   "outputs": [
    {
     "data": {
      "text/plain": [
       "['01-06-2021', '02-05-2021']"
      ]
     },
     "execution_count": 50,
     "metadata": {},
     "output_type": "execute_result"
    }
   ],
   "source": [
    "['01-06-2021', '02-05-2021']"
   ]
  },
  {
   "cell_type": "code",
   "execution_count": 51,
   "id": "92c8ed0d",
   "metadata": {
    "ExecuteTime": {
     "end_time": "2021-06-01T05:29:56.605074Z",
     "start_time": "2021-06-01T05:29:56.597070Z"
    }
   },
   "outputs": [
    {
     "data": {
      "text/plain": [
       "Timestamp('2021-06-01 00:00:00')"
      ]
     },
     "execution_count": 51,
     "metadata": {},
     "output_type": "execute_result"
    }
   ],
   "source": [
    "pd.Timestamp('2021-06-01')"
   ]
  },
  {
   "cell_type": "code",
   "execution_count": 52,
   "id": "94df4106",
   "metadata": {
    "ExecuteTime": {
     "end_time": "2021-06-01T05:30:11.496227Z",
     "start_time": "2021-06-01T05:30:11.488450Z"
    }
   },
   "outputs": [
    {
     "data": {
      "text/plain": [
       "Timestamp('2021-06-01 13:00:00')"
      ]
     },
     "execution_count": 52,
     "metadata": {},
     "output_type": "execute_result"
    }
   ],
   "source": [
    "pd.Timestamp('2021-06-01 13:00')"
   ]
  },
  {
   "cell_type": "code",
   "execution_count": 53,
   "id": "0abceddd",
   "metadata": {
    "ExecuteTime": {
     "end_time": "2021-06-01T05:30:23.483502Z",
     "start_time": "2021-06-01T05:30:23.472173Z"
    }
   },
   "outputs": [
    {
     "data": {
      "text/plain": [
       "Timestamp('2021-06-01 13:00:00+0000', tz='tzutc()')"
      ]
     },
     "execution_count": 53,
     "metadata": {},
     "output_type": "execute_result"
    }
   ],
   "source": [
    "pd.Timestamp('2021-06-01 13:00 UTC')"
   ]
  },
  {
   "cell_type": "code",
   "execution_count": 54,
   "id": "c2c3fc16",
   "metadata": {
    "ExecuteTime": {
     "end_time": "2021-06-01T05:33:44.694307Z",
     "start_time": "2021-06-01T05:33:44.685760Z"
    }
   },
   "outputs": [
    {
     "data": {
      "text/plain": [
       "Timestamp('2021-06-01 13:00:00-0800', tz='tzoffset(None, -28800)')"
      ]
     },
     "execution_count": 54,
     "metadata": {},
     "output_type": "execute_result"
    }
   ],
   "source": [
    "pd.Timestamp('2021-06-01 13:00 UTC+08:00')"
   ]
  },
  {
   "cell_type": "code",
   "execution_count": 55,
   "id": "35e0747e",
   "metadata": {
    "ExecuteTime": {
     "end_time": "2021-06-01T05:34:20.305931Z",
     "start_time": "2021-06-01T05:34:20.270237Z"
    }
   },
   "outputs": [
    {
     "data": {
      "text/plain": [
       "Timestamp('2021-06-01 21:00:00+0800', tz='Asia/Manila')"
      ]
     },
     "execution_count": 55,
     "metadata": {},
     "output_type": "execute_result"
    }
   ],
   "source": [
    "pd.Timestamp('06-01-2021 13:00 UTC', tz='Asia/Manila')"
   ]
  },
  {
   "cell_type": "code",
   "execution_count": 56,
   "id": "b6e38cd0",
   "metadata": {
    "ExecuteTime": {
     "end_time": "2021-06-01T05:35:14.355061Z",
     "start_time": "2021-06-01T05:35:14.346126Z"
    }
   },
   "outputs": [
    {
     "data": {
      "text/plain": [
       "Period('2021-06-01', 'D')"
      ]
     },
     "execution_count": 56,
     "metadata": {},
     "output_type": "execute_result"
    }
   ],
   "source": [
    "pd.Period('2021-06-01')"
   ]
  },
  {
   "cell_type": "code",
   "execution_count": 57,
   "id": "ac079894",
   "metadata": {
    "ExecuteTime": {
     "end_time": "2021-06-01T05:35:46.218837Z",
     "start_time": "2021-06-01T05:35:46.210129Z"
    }
   },
   "outputs": [
    {
     "data": {
      "text/plain": [
       "Period('2021-05-31/2021-06-06', 'W-SUN')"
      ]
     },
     "execution_count": 57,
     "metadata": {},
     "output_type": "execute_result"
    }
   ],
   "source": [
    "pd.Period('2021-06-01', freq='W')"
   ]
  },
  {
   "cell_type": "code",
   "execution_count": 4,
   "id": "6ca21810",
   "metadata": {
    "ExecuteTime": {
     "end_time": "2021-06-01T05:37:15.822234Z",
     "start_time": "2021-06-01T05:37:15.816818Z"
    }
   },
   "outputs": [],
   "source": [
    "dates = [\n",
    "    pd.Timestamp('2021-06-01'), \n",
    "    pd.Timestamp('2021-06-02'), \n",
    "    pd.Timestamp('2021-06-03')\n",
    "]"
   ]
  },
  {
   "cell_type": "code",
   "execution_count": 5,
   "id": "b17d1d6c",
   "metadata": {
    "ExecuteTime": {
     "end_time": "2021-06-01T05:37:48.834389Z",
     "start_time": "2021-06-01T05:37:48.826724Z"
    }
   },
   "outputs": [],
   "source": [
    "ts = pd.Series([1, 2, 3], index=dates)"
   ]
  },
  {
   "cell_type": "code",
   "execution_count": 60,
   "id": "e803c4c8",
   "metadata": {
    "ExecuteTime": {
     "end_time": "2021-06-01T05:37:50.244694Z",
     "start_time": "2021-06-01T05:37:50.234592Z"
    }
   },
   "outputs": [
    {
     "data": {
      "text/plain": [
       "2021-06-01    1\n",
       "2021-06-02    2\n",
       "2021-06-03    3\n",
       "dtype: int64"
      ]
     },
     "execution_count": 60,
     "metadata": {},
     "output_type": "execute_result"
    }
   ],
   "source": [
    "ts"
   ]
  },
  {
   "cell_type": "code",
   "execution_count": 61,
   "id": "5a25f67a",
   "metadata": {
    "ExecuteTime": {
     "end_time": "2021-06-01T05:38:04.557974Z",
     "start_time": "2021-06-01T05:38:04.548600Z"
    }
   },
   "outputs": [
    {
     "data": {
      "text/plain": [
       "DatetimeIndex(['2021-06-01', '2021-06-02', '2021-06-03'], dtype='datetime64[ns]', freq=None)"
      ]
     },
     "execution_count": 61,
     "metadata": {},
     "output_type": "execute_result"
    }
   ],
   "source": [
    "ts.index"
   ]
  },
  {
   "cell_type": "code",
   "execution_count": 62,
   "id": "05a37af0",
   "metadata": {
    "ExecuteTime": {
     "end_time": "2021-06-01T05:39:10.015633Z",
     "start_time": "2021-06-01T05:39:10.005396Z"
    }
   },
   "outputs": [],
   "source": [
    "periods = [\n",
    "    pd.Period('2021-06-01', freq='W'), \n",
    "    pd.Period('2021-06-02', freq='W'), \n",
    "    pd.Period('2021-06-03', freq='W')\n",
    "]\n",
    "ps = pd.Series([10, 20, 30], index=periods)"
   ]
  },
  {
   "cell_type": "code",
   "execution_count": 63,
   "id": "a84b04f7",
   "metadata": {
    "ExecuteTime": {
     "end_time": "2021-06-01T05:39:12.894083Z",
     "start_time": "2021-06-01T05:39:12.884591Z"
    }
   },
   "outputs": [
    {
     "data": {
      "text/plain": [
       "2021-05-31/2021-06-06    10\n",
       "2021-05-31/2021-06-06    20\n",
       "2021-05-31/2021-06-06    30\n",
       "Freq: W-SUN, dtype: int64"
      ]
     },
     "execution_count": 63,
     "metadata": {},
     "output_type": "execute_result"
    }
   ],
   "source": [
    "ps"
   ]
  },
  {
   "cell_type": "code",
   "execution_count": 64,
   "id": "7e311f86",
   "metadata": {
    "ExecuteTime": {
     "end_time": "2021-06-01T05:39:21.665029Z",
     "start_time": "2021-06-01T05:39:21.656746Z"
    }
   },
   "outputs": [
    {
     "data": {
      "text/plain": [
       "PeriodIndex(['2021-05-31/2021-06-06', '2021-05-31/2021-06-06',\n",
       "             '2021-05-31/2021-06-06'],\n",
       "            dtype='period[W-SUN]', freq='W-SUN')"
      ]
     },
     "execution_count": 64,
     "metadata": {},
     "output_type": "execute_result"
    }
   ],
   "source": [
    "ps.index"
   ]
  },
  {
   "cell_type": "code",
   "execution_count": 65,
   "id": "69377374",
   "metadata": {
    "ExecuteTime": {
     "end_time": "2021-06-01T05:40:54.511872Z",
     "start_time": "2021-06-01T05:40:54.501898Z"
    }
   },
   "outputs": [],
   "source": [
    "periods = [\n",
    "    pd.Period('2021-06-01', freq='W-MON'), \n",
    "    pd.Period('2021-06-02', freq='W-MON'), \n",
    "    pd.Period('2021-06-03', freq='W-MON')\n",
    "]\n",
    "ps = pd.Series([10, 20, 30], index=periods)"
   ]
  },
  {
   "cell_type": "code",
   "execution_count": 66,
   "id": "802b91a8",
   "metadata": {
    "ExecuteTime": {
     "end_time": "2021-06-01T05:40:57.975261Z",
     "start_time": "2021-06-01T05:40:57.965909Z"
    }
   },
   "outputs": [
    {
     "data": {
      "text/plain": [
       "2021-06-01/2021-06-07    10\n",
       "2021-06-01/2021-06-07    20\n",
       "2021-06-01/2021-06-07    30\n",
       "Freq: W-MON, dtype: int64"
      ]
     },
     "execution_count": 66,
     "metadata": {},
     "output_type": "execute_result"
    }
   ],
   "source": [
    "ps"
   ]
  },
  {
   "cell_type": "code",
   "execution_count": 67,
   "id": "1cbdcb20",
   "metadata": {
    "ExecuteTime": {
     "end_time": "2021-06-01T05:42:16.987006Z",
     "start_time": "2021-06-01T05:42:16.977406Z"
    }
   },
   "outputs": [],
   "source": [
    "periods = [\n",
    "    pd.Period('2021-06-01', freq='W-WED'), \n",
    "    pd.Period('2021-06-02', freq='W-WED'), \n",
    "    pd.Period('2021-06-03', freq='W-WED')\n",
    "]\n",
    "ps = pd.Series([10, 20, 30], index=periods)"
   ]
  },
  {
   "cell_type": "code",
   "execution_count": 68,
   "id": "398c8d68",
   "metadata": {
    "ExecuteTime": {
     "end_time": "2021-06-01T05:42:19.590020Z",
     "start_time": "2021-06-01T05:42:19.580716Z"
    }
   },
   "outputs": [
    {
     "data": {
      "text/plain": [
       "2021-05-27/2021-06-02    10\n",
       "2021-05-27/2021-06-02    20\n",
       "2021-06-03/2021-06-09    30\n",
       "Freq: W-WED, dtype: int64"
      ]
     },
     "execution_count": 68,
     "metadata": {},
     "output_type": "execute_result"
    }
   ],
   "source": [
    "ps"
   ]
  },
  {
   "cell_type": "code",
   "execution_count": 69,
   "id": "f566d2a2",
   "metadata": {
    "ExecuteTime": {
     "end_time": "2021-06-01T05:44:28.039757Z",
     "start_time": "2021-06-01T05:44:28.029803Z"
    }
   },
   "outputs": [
    {
     "data": {
      "text/plain": [
       "DatetimeIndex(['2021-06-01', '2021-06-02', '2021-06-03', '2021-06-04',\n",
       "               '2021-06-05', '2021-06-06', '2021-06-07'],\n",
       "              dtype='datetime64[ns]', freq='D')"
      ]
     },
     "execution_count": 69,
     "metadata": {},
     "output_type": "execute_result"
    }
   ],
   "source": [
    "pd.date_range('2021-06-01', '2021-6-07')"
   ]
  },
  {
   "cell_type": "code",
   "execution_count": 70,
   "id": "c30d43a2",
   "metadata": {
    "ExecuteTime": {
     "end_time": "2021-06-01T05:44:55.671978Z",
     "start_time": "2021-06-01T05:44:55.659561Z"
    }
   },
   "outputs": [
    {
     "data": {
      "text/plain": [
       "DatetimeIndex(['2021-06-01 00:00:00', '2021-06-01 01:00:00',\n",
       "               '2021-06-01 02:00:00', '2021-06-01 03:00:00',\n",
       "               '2021-06-01 04:00:00', '2021-06-01 05:00:00',\n",
       "               '2021-06-01 06:00:00', '2021-06-01 07:00:00',\n",
       "               '2021-06-01 08:00:00', '2021-06-01 09:00:00',\n",
       "               ...\n",
       "               '2021-06-06 15:00:00', '2021-06-06 16:00:00',\n",
       "               '2021-06-06 17:00:00', '2021-06-06 18:00:00',\n",
       "               '2021-06-06 19:00:00', '2021-06-06 20:00:00',\n",
       "               '2021-06-06 21:00:00', '2021-06-06 22:00:00',\n",
       "               '2021-06-06 23:00:00', '2021-06-07 00:00:00'],\n",
       "              dtype='datetime64[ns]', length=145, freq='H')"
      ]
     },
     "execution_count": 70,
     "metadata": {},
     "output_type": "execute_result"
    }
   ],
   "source": [
    "pd.date_range('2021-06-01', '2021-6-07', freq='H')"
   ]
  },
  {
   "cell_type": "code",
   "execution_count": 71,
   "id": "27f832a3",
   "metadata": {
    "ExecuteTime": {
     "end_time": "2021-06-01T05:46:12.508596Z",
     "start_time": "2021-06-01T05:46:12.497974Z"
    }
   },
   "outputs": [
    {
     "data": {
      "text/plain": [
       "DatetimeIndex(['2021-06-01 00:00:00', '2021-06-01 02:00:00',\n",
       "               '2021-06-01 04:00:00', '2021-06-01 06:00:00',\n",
       "               '2021-06-01 08:00:00', '2021-06-01 10:00:00',\n",
       "               '2021-06-01 12:00:00', '2021-06-01 14:00:00',\n",
       "               '2021-06-01 16:00:00', '2021-06-01 18:00:00',\n",
       "               '2021-06-01 20:00:00', '2021-06-01 22:00:00'],\n",
       "              dtype='datetime64[ns]', freq='2H')"
      ]
     },
     "execution_count": 71,
     "metadata": {},
     "output_type": "execute_result"
    }
   ],
   "source": [
    "pd.date_range('2021-06-01', periods=12, freq='2H')"
   ]
  },
  {
   "cell_type": "code",
   "execution_count": 72,
   "id": "c17493a4",
   "metadata": {
    "ExecuteTime": {
     "end_time": "2021-06-01T05:47:45.896262Z",
     "start_time": "2021-06-01T05:47:45.885557Z"
    }
   },
   "outputs": [
    {
     "data": {
      "text/plain": [
       "DatetimeIndex(['2021-06-01', '2021-06-02', '2021-06-03', '2021-06-04',\n",
       "               '2021-06-05', '2021-06-06', '2021-06-07'],\n",
       "              dtype='datetime64[ns]', freq='D')"
      ]
     },
     "execution_count": 72,
     "metadata": {},
     "output_type": "execute_result"
    }
   ],
   "source": [
    "pd.date_range('June 1, 2021', '7 June 2021')"
   ]
  },
  {
   "cell_type": "code",
   "execution_count": 73,
   "id": "cfd5e957",
   "metadata": {
    "ExecuteTime": {
     "end_time": "2021-06-01T05:48:13.289243Z",
     "start_time": "2021-06-01T05:48:13.278384Z"
    }
   },
   "outputs": [
    {
     "data": {
      "text/plain": [
       "DatetimeIndex(['2021-06-01', '2021-06-02', '2021-06-03', '2021-06-04',\n",
       "               '2021-06-05', '2021-06-06', '2021-06-07'],\n",
       "              dtype='datetime64[ns]', freq='D')"
      ]
     },
     "execution_count": 73,
     "metadata": {},
     "output_type": "execute_result"
    }
   ],
   "source": [
    "pd.date_range('Jun 1, 2021', '7 June 2021')"
   ]
  },
  {
   "cell_type": "code",
   "execution_count": 74,
   "id": "587ee703",
   "metadata": {
    "ExecuteTime": {
     "end_time": "2021-06-01T05:50:02.491641Z",
     "start_time": "2021-06-01T05:50:02.479739Z"
    }
   },
   "outputs": [
    {
     "data": {
      "text/plain": [
       "DatetimeIndex(['2021-06-01', '2021-06-02', '2021-06-03', '2021-06-04',\n",
       "               '2021-06-07', '2021-06-08', '2021-06-09', '2021-06-10',\n",
       "               '2021-06-11', '2021-06-14', '2021-06-15', '2021-06-16',\n",
       "               '2021-06-17', '2021-06-18', '2021-06-21', '2021-06-22',\n",
       "               '2021-06-23', '2021-06-24', '2021-06-25', '2021-06-28',\n",
       "               '2021-06-29', '2021-06-30'],\n",
       "              dtype='datetime64[ns]', freq='B')"
      ]
     },
     "execution_count": 74,
     "metadata": {},
     "output_type": "execute_result"
    }
   ],
   "source": [
    "pd.bdate_range('Jun 1, 2021', '30 June 2021')"
   ]
  },
  {
   "cell_type": "code",
   "execution_count": 75,
   "id": "a87dc6b1",
   "metadata": {
    "ExecuteTime": {
     "end_time": "2021-06-01T05:52:26.427645Z",
     "start_time": "2021-06-01T05:52:26.417677Z"
    }
   },
   "outputs": [
    {
     "data": {
      "text/plain": [
       "PeriodIndex(['2021-01', '2021-02', '2021-03', '2021-04', '2021-05', '2021-06',\n",
       "             '2021-07', '2021-08', '2021-09', '2021-10', '2021-11', '2021-12'],\n",
       "            dtype='period[M]', freq='M')"
      ]
     },
     "execution_count": 75,
     "metadata": {},
     "output_type": "execute_result"
    }
   ],
   "source": [
    "pd.period_range('Jan 2021', 'Dec 2021', freq='M')"
   ]
  },
  {
   "cell_type": "code",
   "execution_count": 76,
   "id": "3b8f9435",
   "metadata": {
    "ExecuteTime": {
     "end_time": "2021-06-01T05:54:00.849265Z",
     "start_time": "2021-06-01T05:54:00.838219Z"
    }
   },
   "outputs": [
    {
     "data": {
      "text/plain": [
       "PeriodIndex(['2021-06', '2021-07', '2021-08', '2021-09', '2021-10', '2021-11',\n",
       "             '2021-12', '2022-01', '2022-02', '2022-03', '2022-04', '2022-05',\n",
       "             '2022-06'],\n",
       "            dtype='period[M]', freq='M')"
      ]
     },
     "execution_count": 76,
     "metadata": {},
     "output_type": "execute_result"
    }
   ],
   "source": [
    "pd.period_range('June 30, 2021', 'June 30, 2022', freq='M')"
   ]
  },
  {
   "cell_type": "code",
   "execution_count": 77,
   "id": "886fa5d0",
   "metadata": {
    "ExecuteTime": {
     "end_time": "2021-06-01T05:54:22.310274Z",
     "start_time": "2021-06-01T05:54:22.298638Z"
    }
   },
   "outputs": [
    {
     "data": {
      "text/plain": [
       "DatetimeIndex(['2021-06-30', '2021-07-31', '2021-08-31', '2021-09-30',\n",
       "               '2021-10-31', '2021-11-30', '2021-12-31', '2022-01-31',\n",
       "               '2022-02-28', '2022-03-31', '2022-04-30', '2022-05-31',\n",
       "               '2022-06-30'],\n",
       "              dtype='datetime64[ns]', freq='M')"
      ]
     },
     "execution_count": 77,
     "metadata": {},
     "output_type": "execute_result"
    }
   ],
   "source": [
    "pd.date_range('June 30, 2021', 'June 30, 2022', freq='M')"
   ]
  },
  {
   "cell_type": "code",
   "execution_count": 78,
   "id": "8b3c00a1",
   "metadata": {
    "ExecuteTime": {
     "end_time": "2021-06-01T05:58:20.296433Z",
     "start_time": "2021-06-01T05:58:20.282181Z"
    }
   },
   "outputs": [
    {
     "data": {
      "text/plain": [
       "DatetimeIndex(['2020-02-29', '2020-03-31', '2020-04-30', '2020-05-31',\n",
       "               '2020-06-30', '2020-07-31', '2020-08-31', '2020-09-30',\n",
       "               '2020-10-31', '2020-11-30', '2020-12-31', '2021-01-31',\n",
       "               '2021-02-28', '2021-03-31', '2021-04-30', '2021-05-31',\n",
       "               '2021-06-30', '2021-07-31', '2021-08-31', '2021-09-30',\n",
       "               '2021-10-31', '2021-11-30', '2021-12-31', '2022-01-31',\n",
       "               '2022-02-28', '2022-03-31', '2022-04-30', '2022-05-31',\n",
       "               '2022-06-30', '2022-07-31', '2022-08-31', '2022-09-30',\n",
       "               '2022-10-31', '2022-11-30', '2022-12-31', '2023-01-31',\n",
       "               '2023-02-28', '2023-03-31', '2023-04-30', '2023-05-31',\n",
       "               '2023-06-30', '2023-07-31', '2023-08-31', '2023-09-30',\n",
       "               '2023-10-31', '2023-11-30', '2023-12-31', '2024-01-31',\n",
       "               '2024-02-29', '2024-03-31', '2024-04-30', '2024-05-31',\n",
       "               '2024-06-30', '2024-07-31', '2024-08-31', '2024-09-30',\n",
       "               '2024-10-31', '2024-11-30', '2024-12-31', '2025-01-31',\n",
       "               '2025-02-28', '2025-03-31', '2025-04-30', '2025-05-31',\n",
       "               '2025-06-30', '2025-07-31', '2025-08-31', '2025-09-30',\n",
       "               '2025-10-31', '2025-11-30', '2025-12-31', '2026-01-31',\n",
       "               '2026-02-28', '2026-03-31', '2026-04-30', '2026-05-31',\n",
       "               '2026-06-30', '2026-07-31', '2026-08-31', '2026-09-30',\n",
       "               '2026-10-31', '2026-11-30', '2026-12-31', '2027-01-31',\n",
       "               '2027-02-28', '2027-03-31', '2027-04-30', '2027-05-31',\n",
       "               '2027-06-30', '2027-07-31', '2027-08-31', '2027-09-30',\n",
       "               '2027-10-31', '2027-11-30', '2027-12-31', '2028-01-31',\n",
       "               '2028-02-29'],\n",
       "              dtype='datetime64[ns]', freq='M')"
      ]
     },
     "execution_count": 78,
     "metadata": {},
     "output_type": "execute_result"
    }
   ],
   "source": [
    "pd.date_range('29 Feb 2020', '29 Feb 2028', freq='M')"
   ]
  },
  {
   "cell_type": "code",
   "execution_count": 79,
   "id": "779860cb",
   "metadata": {
    "ExecuteTime": {
     "end_time": "2021-06-01T06:04:58.350317Z",
     "start_time": "2021-06-01T06:04:58.341113Z"
    }
   },
   "outputs": [
    {
     "data": {
      "text/plain": [
       "Timestamp('2021-06-01 00:00:00')"
      ]
     },
     "execution_count": 79,
     "metadata": {},
     "output_type": "execute_result"
    }
   ],
   "source": [
    "pd.to_datetime('2021-06-01')"
   ]
  },
  {
   "cell_type": "code",
   "execution_count": 80,
   "id": "c9513331",
   "metadata": {
    "ExecuteTime": {
     "end_time": "2021-06-01T06:05:36.366897Z",
     "start_time": "2021-06-01T06:05:36.355194Z"
    }
   },
   "outputs": [
    {
     "data": {
      "text/plain": [
       "DatetimeIndex(['2021-06-01', '2021-06-02', '2021-06-03'], dtype='datetime64[ns]', freq=None)"
      ]
     },
     "execution_count": 80,
     "metadata": {},
     "output_type": "execute_result"
    }
   ],
   "source": [
    "pd.to_datetime(['2021-06-01', '2021-06-02', '2021-06-03'])"
   ]
  },
  {
   "cell_type": "code",
   "execution_count": 81,
   "id": "1a05347f",
   "metadata": {
    "ExecuteTime": {
     "end_time": "2021-06-01T06:06:45.346929Z",
     "start_time": "2021-06-01T06:06:45.335606Z"
    }
   },
   "outputs": [
    {
     "data": {
      "text/plain": [
       "DatetimeIndex(['2021-06-01', '2021-06-02', '2021-06-03'], dtype='datetime64[ns]', freq=None)"
      ]
     },
     "execution_count": 81,
     "metadata": {},
     "output_type": "execute_result"
    }
   ],
   "source": [
    "pd.to_datetime(['2021 06 01', '2021 06 02', '2021 06 03'], format='%Y %m %d')"
   ]
  },
  {
   "cell_type": "code",
   "execution_count": 41,
   "id": "b47c318a",
   "metadata": {},
   "outputs": [
    {
     "ename": "TypeError",
     "evalue": "fromtimestamp() missing required argument 'timestamp' (pos 1)",
     "output_type": "error",
     "traceback": [
      "\u001b[1;31m---------------------------------------------------------------------------\u001b[0m",
      "\u001b[1;31mTypeError\u001b[0m                                 Traceback (most recent call last)",
      "\u001b[1;32m<ipython-input-41-b717f30571f9>\u001b[0m in \u001b[0;36m<module>\u001b[1;34m\u001b[0m\n\u001b[1;32m----> 1\u001b[1;33m \u001b[0mdatetime\u001b[0m\u001b[1;33m.\u001b[0m\u001b[0mdatetime\u001b[0m\u001b[1;33m.\u001b[0m\u001b[0mfromtimestamp\u001b[0m\u001b[1;33m(\u001b[0m\u001b[1;33m)\u001b[0m\u001b[1;33m\u001b[0m\u001b[1;33m\u001b[0m\u001b[0m\n\u001b[0m",
      "\u001b[1;31mTypeError\u001b[0m: fromtimestamp() missing required argument 'timestamp' (pos 1)"
     ]
    }
   ],
   "source": [
    "datetime.datetime.fromtimestamp()"
   ]
  },
  {
   "cell_type": "code",
   "execution_count": 82,
   "id": "ca2ce042",
   "metadata": {
    "ExecuteTime": {
     "end_time": "2021-06-01T06:13:33.003016Z",
     "start_time": "2021-06-01T06:13:32.994198Z"
    }
   },
   "outputs": [
    {
     "data": {
      "text/plain": [
       "DatetimeIndex(['2021-06-01', '2021-06-02', '2021-06-03'], dtype='datetime64[ns]', freq=None)"
      ]
     },
     "execution_count": 82,
     "metadata": {},
     "output_type": "execute_result"
    }
   ],
   "source": [
    "ts.index"
   ]
  },
  {
   "cell_type": "code",
   "execution_count": 83,
   "id": "4d912434",
   "metadata": {
    "ExecuteTime": {
     "end_time": "2021-06-01T06:14:04.285322Z",
     "start_time": "2021-06-01T06:14:04.275025Z"
    }
   },
   "outputs": [
    {
     "data": {
      "text/plain": [
       "DatetimeIndex(['2021-06-01 00:00:00+08:00', '2021-06-02 00:00:00+08:00',\n",
       "               '2021-06-03 00:00:00+08:00'],\n",
       "              dtype='datetime64[ns, Asia/Manila]', freq=None)"
      ]
     },
     "execution_count": 83,
     "metadata": {},
     "output_type": "execute_result"
    }
   ],
   "source": [
    "ts.index.tz_localize('Asia/Manila')"
   ]
  },
  {
   "cell_type": "code",
   "execution_count": 84,
   "id": "5d51779d",
   "metadata": {
    "ExecuteTime": {
     "end_time": "2021-06-01T06:15:23.108134Z",
     "start_time": "2021-06-01T06:15:23.088693Z"
    }
   },
   "outputs": [
    {
     "data": {
      "text/plain": [
       "DatetimeIndex(['2021-05-31 17:00:00+01:00', '2021-06-01 17:00:00+01:00',\n",
       "               '2021-06-02 17:00:00+01:00'],\n",
       "              dtype='datetime64[ns, Europe/London]', freq=None)"
      ]
     },
     "execution_count": 84,
     "metadata": {},
     "output_type": "execute_result"
    }
   ],
   "source": [
    "ts.index.tz_localize('Asia/Manila').tz_convert('Europe/London')"
   ]
  },
  {
   "cell_type": "code",
   "execution_count": 85,
   "id": "3c6f294b",
   "metadata": {
    "ExecuteTime": {
     "end_time": "2021-06-01T06:19:06.471912Z",
     "start_time": "2021-06-01T06:19:06.465916Z"
    }
   },
   "outputs": [],
   "source": [
    "ts2 = pd.date_range('2021-06-01', '2021-06-07')"
   ]
  },
  {
   "cell_type": "code",
   "execution_count": 86,
   "id": "4d730387",
   "metadata": {
    "ExecuteTime": {
     "end_time": "2021-06-01T06:19:09.862485Z",
     "start_time": "2021-06-01T06:19:09.853484Z"
    }
   },
   "outputs": [
    {
     "data": {
      "text/plain": [
       "DatetimeIndex(['2021-06-01', '2021-06-02', '2021-06-03', '2021-06-04',\n",
       "               '2021-06-05', '2021-06-06', '2021-06-07'],\n",
       "              dtype='datetime64[ns]', freq='D')"
      ]
     },
     "execution_count": 86,
     "metadata": {},
     "output_type": "execute_result"
    }
   ],
   "source": [
    "ts2"
   ]
  },
  {
   "cell_type": "code",
   "execution_count": 87,
   "id": "68456081",
   "metadata": {
    "ExecuteTime": {
     "end_time": "2021-06-01T06:20:21.873207Z",
     "start_time": "2021-06-01T06:20:21.863717Z"
    }
   },
   "outputs": [
    {
     "data": {
      "text/plain": [
       "2021-06-01    1\n",
       "2021-06-02    2\n",
       "2021-06-03    3\n",
       "dtype: int64"
      ]
     },
     "execution_count": 87,
     "metadata": {},
     "output_type": "execute_result"
    }
   ],
   "source": [
    "ts"
   ]
  },
  {
   "cell_type": "code",
   "execution_count": 88,
   "id": "bdae592f",
   "metadata": {
    "ExecuteTime": {
     "end_time": "2021-06-01T06:23:04.613212Z",
     "start_time": "2021-06-01T06:23:04.597824Z"
    }
   },
   "outputs": [
    {
     "data": {
      "text/plain": [
       "2021-06-01 00:00:00    1.0\n",
       "2021-06-01 01:00:00    NaN\n",
       "2021-06-01 02:00:00    NaN\n",
       "2021-06-01 03:00:00    NaN\n",
       "2021-06-01 04:00:00    NaN\n",
       "2021-06-01 05:00:00    NaN\n",
       "2021-06-01 06:00:00    NaN\n",
       "2021-06-01 07:00:00    NaN\n",
       "2021-06-01 08:00:00    NaN\n",
       "2021-06-01 09:00:00    NaN\n",
       "2021-06-01 10:00:00    NaN\n",
       "2021-06-01 11:00:00    NaN\n",
       "2021-06-01 12:00:00    NaN\n",
       "2021-06-01 13:00:00    NaN\n",
       "2021-06-01 14:00:00    NaN\n",
       "2021-06-01 15:00:00    NaN\n",
       "2021-06-01 16:00:00    NaN\n",
       "2021-06-01 17:00:00    NaN\n",
       "2021-06-01 18:00:00    NaN\n",
       "2021-06-01 19:00:00    NaN\n",
       "2021-06-01 20:00:00    NaN\n",
       "2021-06-01 21:00:00    NaN\n",
       "2021-06-01 22:00:00    NaN\n",
       "2021-06-01 23:00:00    NaN\n",
       "2021-06-02 00:00:00    2.0\n",
       "2021-06-02 01:00:00    NaN\n",
       "2021-06-02 02:00:00    NaN\n",
       "2021-06-02 03:00:00    NaN\n",
       "2021-06-02 04:00:00    NaN\n",
       "2021-06-02 05:00:00    NaN\n",
       "2021-06-02 06:00:00    NaN\n",
       "2021-06-02 07:00:00    NaN\n",
       "2021-06-02 08:00:00    NaN\n",
       "2021-06-02 09:00:00    NaN\n",
       "2021-06-02 10:00:00    NaN\n",
       "2021-06-02 11:00:00    NaN\n",
       "2021-06-02 12:00:00    NaN\n",
       "2021-06-02 13:00:00    NaN\n",
       "2021-06-02 14:00:00    NaN\n",
       "2021-06-02 15:00:00    NaN\n",
       "2021-06-02 16:00:00    NaN\n",
       "2021-06-02 17:00:00    NaN\n",
       "2021-06-02 18:00:00    NaN\n",
       "2021-06-02 19:00:00    NaN\n",
       "2021-06-02 20:00:00    NaN\n",
       "2021-06-02 21:00:00    NaN\n",
       "2021-06-02 22:00:00    NaN\n",
       "2021-06-02 23:00:00    NaN\n",
       "2021-06-03 00:00:00    3.0\n",
       "Freq: H, dtype: float64"
      ]
     },
     "execution_count": 88,
     "metadata": {},
     "output_type": "execute_result"
    }
   ],
   "source": [
    "ts.asfreq('H')"
   ]
  },
  {
   "cell_type": "code",
   "execution_count": 89,
   "id": "bce99421",
   "metadata": {
    "ExecuteTime": {
     "end_time": "2021-06-01T06:23:38.370149Z",
     "start_time": "2021-06-01T06:23:38.357869Z"
    }
   },
   "outputs": [
    {
     "data": {
      "text/plain": [
       "2021-06-01 00:00:00    1\n",
       "2021-06-01 01:00:00    1\n",
       "2021-06-01 02:00:00    1\n",
       "2021-06-01 03:00:00    1\n",
       "2021-06-01 04:00:00    1\n",
       "2021-06-01 05:00:00    1\n",
       "2021-06-01 06:00:00    1\n",
       "2021-06-01 07:00:00    1\n",
       "2021-06-01 08:00:00    1\n",
       "2021-06-01 09:00:00    1\n",
       "2021-06-01 10:00:00    1\n",
       "2021-06-01 11:00:00    1\n",
       "2021-06-01 12:00:00    1\n",
       "2021-06-01 13:00:00    1\n",
       "2021-06-01 14:00:00    1\n",
       "2021-06-01 15:00:00    1\n",
       "2021-06-01 16:00:00    1\n",
       "2021-06-01 17:00:00    1\n",
       "2021-06-01 18:00:00    1\n",
       "2021-06-01 19:00:00    1\n",
       "2021-06-01 20:00:00    1\n",
       "2021-06-01 21:00:00    1\n",
       "2021-06-01 22:00:00    1\n",
       "2021-06-01 23:00:00    1\n",
       "2021-06-02 00:00:00    2\n",
       "2021-06-02 01:00:00    2\n",
       "2021-06-02 02:00:00    2\n",
       "2021-06-02 03:00:00    2\n",
       "2021-06-02 04:00:00    2\n",
       "2021-06-02 05:00:00    2\n",
       "2021-06-02 06:00:00    2\n",
       "2021-06-02 07:00:00    2\n",
       "2021-06-02 08:00:00    2\n",
       "2021-06-02 09:00:00    2\n",
       "2021-06-02 10:00:00    2\n",
       "2021-06-02 11:00:00    2\n",
       "2021-06-02 12:00:00    2\n",
       "2021-06-02 13:00:00    2\n",
       "2021-06-02 14:00:00    2\n",
       "2021-06-02 15:00:00    2\n",
       "2021-06-02 16:00:00    2\n",
       "2021-06-02 17:00:00    2\n",
       "2021-06-02 18:00:00    2\n",
       "2021-06-02 19:00:00    2\n",
       "2021-06-02 20:00:00    2\n",
       "2021-06-02 21:00:00    2\n",
       "2021-06-02 22:00:00    2\n",
       "2021-06-02 23:00:00    2\n",
       "2021-06-03 00:00:00    3\n",
       "Freq: H, dtype: int64"
      ]
     },
     "execution_count": 89,
     "metadata": {},
     "output_type": "execute_result"
    }
   ],
   "source": [
    "ts.asfreq('H', method='ffill')"
   ]
  },
  {
   "cell_type": "code",
   "execution_count": 90,
   "id": "b6683444",
   "metadata": {
    "ExecuteTime": {
     "end_time": "2021-06-01T06:24:21.681490Z",
     "start_time": "2021-06-01T06:24:21.668655Z"
    }
   },
   "outputs": [
    {
     "data": {
      "text/plain": [
       "2021-06-01 00:00:00    1\n",
       "2021-06-01 01:00:00    2\n",
       "2021-06-01 02:00:00    2\n",
       "2021-06-01 03:00:00    2\n",
       "2021-06-01 04:00:00    2\n",
       "2021-06-01 05:00:00    2\n",
       "2021-06-01 06:00:00    2\n",
       "2021-06-01 07:00:00    2\n",
       "2021-06-01 08:00:00    2\n",
       "2021-06-01 09:00:00    2\n",
       "2021-06-01 10:00:00    2\n",
       "2021-06-01 11:00:00    2\n",
       "2021-06-01 12:00:00    2\n",
       "2021-06-01 13:00:00    2\n",
       "2021-06-01 14:00:00    2\n",
       "2021-06-01 15:00:00    2\n",
       "2021-06-01 16:00:00    2\n",
       "2021-06-01 17:00:00    2\n",
       "2021-06-01 18:00:00    2\n",
       "2021-06-01 19:00:00    2\n",
       "2021-06-01 20:00:00    2\n",
       "2021-06-01 21:00:00    2\n",
       "2021-06-01 22:00:00    2\n",
       "2021-06-01 23:00:00    2\n",
       "2021-06-02 00:00:00    2\n",
       "2021-06-02 01:00:00    3\n",
       "2021-06-02 02:00:00    3\n",
       "2021-06-02 03:00:00    3\n",
       "2021-06-02 04:00:00    3\n",
       "2021-06-02 05:00:00    3\n",
       "2021-06-02 06:00:00    3\n",
       "2021-06-02 07:00:00    3\n",
       "2021-06-02 08:00:00    3\n",
       "2021-06-02 09:00:00    3\n",
       "2021-06-02 10:00:00    3\n",
       "2021-06-02 11:00:00    3\n",
       "2021-06-02 12:00:00    3\n",
       "2021-06-02 13:00:00    3\n",
       "2021-06-02 14:00:00    3\n",
       "2021-06-02 15:00:00    3\n",
       "2021-06-02 16:00:00    3\n",
       "2021-06-02 17:00:00    3\n",
       "2021-06-02 18:00:00    3\n",
       "2021-06-02 19:00:00    3\n",
       "2021-06-02 20:00:00    3\n",
       "2021-06-02 21:00:00    3\n",
       "2021-06-02 22:00:00    3\n",
       "2021-06-02 23:00:00    3\n",
       "2021-06-03 00:00:00    3\n",
       "Freq: H, dtype: int64"
      ]
     },
     "execution_count": 90,
     "metadata": {},
     "output_type": "execute_result"
    }
   ],
   "source": [
    "ts.asfreq('H', method='bfill')"
   ]
  },
  {
   "cell_type": "code",
   "execution_count": 91,
   "id": "7980fe5b",
   "metadata": {
    "ExecuteTime": {
     "end_time": "2021-06-01T06:26:29.111437Z",
     "start_time": "2021-06-01T06:26:29.104287Z"
    }
   },
   "outputs": [],
   "source": [
    "ts2 = ts.asfreq('H', method='ffill')"
   ]
  },
  {
   "cell_type": "code",
   "execution_count": 92,
   "id": "5cec9c2a",
   "metadata": {
    "ExecuteTime": {
     "end_time": "2021-06-01T06:26:34.164045Z",
     "start_time": "2021-06-01T06:26:34.153502Z"
    }
   },
   "outputs": [
    {
     "data": {
      "text/plain": [
       "2021-06-01 00:00:00    1\n",
       "2021-06-01 01:00:00    1\n",
       "2021-06-01 02:00:00    1\n",
       "2021-06-01 03:00:00    1\n",
       "2021-06-01 04:00:00    1\n",
       "2021-06-01 05:00:00    1\n",
       "2021-06-01 06:00:00    1\n",
       "2021-06-01 07:00:00    1\n",
       "2021-06-01 08:00:00    1\n",
       "2021-06-01 09:00:00    1\n",
       "2021-06-01 10:00:00    1\n",
       "2021-06-01 11:00:00    1\n",
       "2021-06-01 12:00:00    1\n",
       "2021-06-01 13:00:00    1\n",
       "2021-06-01 14:00:00    1\n",
       "2021-06-01 15:00:00    1\n",
       "2021-06-01 16:00:00    1\n",
       "2021-06-01 17:00:00    1\n",
       "2021-06-01 18:00:00    1\n",
       "2021-06-01 19:00:00    1\n",
       "2021-06-01 20:00:00    1\n",
       "2021-06-01 21:00:00    1\n",
       "2021-06-01 22:00:00    1\n",
       "2021-06-01 23:00:00    1\n",
       "2021-06-02 00:00:00    2\n",
       "2021-06-02 01:00:00    2\n",
       "2021-06-02 02:00:00    2\n",
       "2021-06-02 03:00:00    2\n",
       "2021-06-02 04:00:00    2\n",
       "2021-06-02 05:00:00    2\n",
       "2021-06-02 06:00:00    2\n",
       "2021-06-02 07:00:00    2\n",
       "2021-06-02 08:00:00    2\n",
       "2021-06-02 09:00:00    2\n",
       "2021-06-02 10:00:00    2\n",
       "2021-06-02 11:00:00    2\n",
       "2021-06-02 12:00:00    2\n",
       "2021-06-02 13:00:00    2\n",
       "2021-06-02 14:00:00    2\n",
       "2021-06-02 15:00:00    2\n",
       "2021-06-02 16:00:00    2\n",
       "2021-06-02 17:00:00    2\n",
       "2021-06-02 18:00:00    2\n",
       "2021-06-02 19:00:00    2\n",
       "2021-06-02 20:00:00    2\n",
       "2021-06-02 21:00:00    2\n",
       "2021-06-02 22:00:00    2\n",
       "2021-06-02 23:00:00    2\n",
       "2021-06-03 00:00:00    3\n",
       "Freq: H, dtype: int64"
      ]
     },
     "execution_count": 92,
     "metadata": {},
     "output_type": "execute_result"
    }
   ],
   "source": [
    "ts2"
   ]
  },
  {
   "cell_type": "code",
   "execution_count": 93,
   "id": "80c02f78",
   "metadata": {
    "ExecuteTime": {
     "end_time": "2021-06-01T06:27:18.486471Z",
     "start_time": "2021-06-01T06:27:18.468749Z"
    }
   },
   "outputs": [
    {
     "data": {
      "text/plain": [
       "2021-06-01 00:00:00    1\n",
       "2021-06-01 06:00:00    1\n",
       "2021-06-01 12:00:00    1\n",
       "2021-06-01 18:00:00    1\n",
       "2021-06-02 00:00:00    2\n",
       "2021-06-02 06:00:00    2\n",
       "2021-06-02 12:00:00    2\n",
       "2021-06-02 18:00:00    2\n",
       "2021-06-03 00:00:00    3\n",
       "Freq: 6H, dtype: int64"
      ]
     },
     "execution_count": 93,
     "metadata": {},
     "output_type": "execute_result"
    }
   ],
   "source": [
    "ts2.resample('6H').mean()"
   ]
  },
  {
   "cell_type": "code",
   "execution_count": 94,
   "id": "1cc77c75",
   "metadata": {
    "ExecuteTime": {
     "end_time": "2021-06-01T06:27:26.496472Z",
     "start_time": "2021-06-01T06:27:26.475036Z"
    }
   },
   "outputs": [
    {
     "data": {
      "text/plain": [
       "2021-06-01 00:00:00    1\n",
       "2021-06-01 01:00:00    1\n",
       "2021-06-01 02:00:00    1\n",
       "2021-06-01 03:00:00    1\n",
       "2021-06-01 04:00:00    1\n",
       "2021-06-01 05:00:00    1\n",
       "2021-06-01 06:00:00    1\n",
       "2021-06-01 07:00:00    1\n",
       "2021-06-01 08:00:00    1\n",
       "2021-06-01 09:00:00    1\n",
       "2021-06-01 10:00:00    1\n",
       "2021-06-01 11:00:00    1\n",
       "2021-06-01 12:00:00    1\n",
       "2021-06-01 13:00:00    1\n",
       "2021-06-01 14:00:00    1\n",
       "2021-06-01 15:00:00    1\n",
       "2021-06-01 16:00:00    1\n",
       "2021-06-01 17:00:00    1\n",
       "2021-06-01 18:00:00    1\n",
       "2021-06-01 19:00:00    1\n",
       "2021-06-01 20:00:00    1\n",
       "2021-06-01 21:00:00    1\n",
       "2021-06-01 22:00:00    1\n",
       "2021-06-01 23:00:00    1\n",
       "2021-06-02 00:00:00    2\n",
       "2021-06-02 01:00:00    2\n",
       "2021-06-02 02:00:00    2\n",
       "2021-06-02 03:00:00    2\n",
       "2021-06-02 04:00:00    2\n",
       "2021-06-02 05:00:00    2\n",
       "2021-06-02 06:00:00    2\n",
       "2021-06-02 07:00:00    2\n",
       "2021-06-02 08:00:00    2\n",
       "2021-06-02 09:00:00    2\n",
       "2021-06-02 10:00:00    2\n",
       "2021-06-02 11:00:00    2\n",
       "2021-06-02 12:00:00    2\n",
       "2021-06-02 13:00:00    2\n",
       "2021-06-02 14:00:00    2\n",
       "2021-06-02 15:00:00    2\n",
       "2021-06-02 16:00:00    2\n",
       "2021-06-02 17:00:00    2\n",
       "2021-06-02 18:00:00    2\n",
       "2021-06-02 19:00:00    2\n",
       "2021-06-02 20:00:00    2\n",
       "2021-06-02 21:00:00    2\n",
       "2021-06-02 22:00:00    2\n",
       "2021-06-02 23:00:00    2\n",
       "2021-06-03 00:00:00    3\n",
       "Freq: H, dtype: int64"
      ]
     },
     "execution_count": 94,
     "metadata": {},
     "output_type": "execute_result"
    }
   ],
   "source": [
    "ts2.resample('H').min()"
   ]
  },
  {
   "cell_type": "code",
   "execution_count": 95,
   "id": "a8818128",
   "metadata": {
    "ExecuteTime": {
     "end_time": "2021-06-01T06:32:10.156034Z",
     "start_time": "2021-06-01T06:32:10.148208Z"
    }
   },
   "outputs": [],
   "source": [
    "df = pd.DataFrame({\n",
    "    'a': pd.date_range('2021-06-01', '2021-06-07', freq='H'),\n",
    "    'b': np.arange(145)\n",
    "})"
   ]
  },
  {
   "cell_type": "code",
   "execution_count": 96,
   "id": "3ae4e3b1",
   "metadata": {
    "ExecuteTime": {
     "end_time": "2021-06-01T06:32:14.260416Z",
     "start_time": "2021-06-01T06:32:14.235384Z"
    }
   },
   "outputs": [
    {
     "data": {
      "text/html": [
       "<div>\n",
       "<style scoped>\n",
       "    .dataframe tbody tr th:only-of-type {\n",
       "        vertical-align: middle;\n",
       "    }\n",
       "\n",
       "    .dataframe tbody tr th {\n",
       "        vertical-align: top;\n",
       "    }\n",
       "\n",
       "    .dataframe thead th {\n",
       "        text-align: right;\n",
       "    }\n",
       "</style>\n",
       "<table border=\"1\" class=\"dataframe\">\n",
       "  <thead>\n",
       "    <tr style=\"text-align: right;\">\n",
       "      <th></th>\n",
       "      <th>a</th>\n",
       "      <th>b</th>\n",
       "    </tr>\n",
       "  </thead>\n",
       "  <tbody>\n",
       "    <tr>\n",
       "      <th>0</th>\n",
       "      <td>2021-06-01 00:00:00</td>\n",
       "      <td>0</td>\n",
       "    </tr>\n",
       "    <tr>\n",
       "      <th>1</th>\n",
       "      <td>2021-06-01 01:00:00</td>\n",
       "      <td>1</td>\n",
       "    </tr>\n",
       "    <tr>\n",
       "      <th>2</th>\n",
       "      <td>2021-06-01 02:00:00</td>\n",
       "      <td>2</td>\n",
       "    </tr>\n",
       "    <tr>\n",
       "      <th>3</th>\n",
       "      <td>2021-06-01 03:00:00</td>\n",
       "      <td>3</td>\n",
       "    </tr>\n",
       "    <tr>\n",
       "      <th>4</th>\n",
       "      <td>2021-06-01 04:00:00</td>\n",
       "      <td>4</td>\n",
       "    </tr>\n",
       "    <tr>\n",
       "      <th>...</th>\n",
       "      <td>...</td>\n",
       "      <td>...</td>\n",
       "    </tr>\n",
       "    <tr>\n",
       "      <th>140</th>\n",
       "      <td>2021-06-06 20:00:00</td>\n",
       "      <td>140</td>\n",
       "    </tr>\n",
       "    <tr>\n",
       "      <th>141</th>\n",
       "      <td>2021-06-06 21:00:00</td>\n",
       "      <td>141</td>\n",
       "    </tr>\n",
       "    <tr>\n",
       "      <th>142</th>\n",
       "      <td>2021-06-06 22:00:00</td>\n",
       "      <td>142</td>\n",
       "    </tr>\n",
       "    <tr>\n",
       "      <th>143</th>\n",
       "      <td>2021-06-06 23:00:00</td>\n",
       "      <td>143</td>\n",
       "    </tr>\n",
       "    <tr>\n",
       "      <th>144</th>\n",
       "      <td>2021-06-07 00:00:00</td>\n",
       "      <td>144</td>\n",
       "    </tr>\n",
       "  </tbody>\n",
       "</table>\n",
       "<p>145 rows × 2 columns</p>\n",
       "</div>"
      ],
      "text/plain": [
       "                      a    b\n",
       "0   2021-06-01 00:00:00    0\n",
       "1   2021-06-01 01:00:00    1\n",
       "2   2021-06-01 02:00:00    2\n",
       "3   2021-06-01 03:00:00    3\n",
       "4   2021-06-01 04:00:00    4\n",
       "..                  ...  ...\n",
       "140 2021-06-06 20:00:00  140\n",
       "141 2021-06-06 21:00:00  141\n",
       "142 2021-06-06 22:00:00  142\n",
       "143 2021-06-06 23:00:00  143\n",
       "144 2021-06-07 00:00:00  144\n",
       "\n",
       "[145 rows x 2 columns]"
      ]
     },
     "execution_count": 96,
     "metadata": {},
     "output_type": "execute_result"
    }
   ],
   "source": [
    "df"
   ]
  },
  {
   "cell_type": "code",
   "execution_count": 97,
   "id": "0fde51ae",
   "metadata": {
    "ExecuteTime": {
     "end_time": "2021-06-01T06:33:27.888894Z",
     "start_time": "2021-06-01T06:33:27.864063Z"
    }
   },
   "outputs": [
    {
     "data": {
      "text/html": [
       "<div>\n",
       "<style scoped>\n",
       "    .dataframe tbody tr th:only-of-type {\n",
       "        vertical-align: middle;\n",
       "    }\n",
       "\n",
       "    .dataframe tbody tr th {\n",
       "        vertical-align: top;\n",
       "    }\n",
       "\n",
       "    .dataframe thead th {\n",
       "        text-align: right;\n",
       "    }\n",
       "</style>\n",
       "<table border=\"1\" class=\"dataframe\">\n",
       "  <thead>\n",
       "    <tr style=\"text-align: right;\">\n",
       "      <th></th>\n",
       "      <th>b</th>\n",
       "    </tr>\n",
       "    <tr>\n",
       "      <th>a</th>\n",
       "      <th></th>\n",
       "    </tr>\n",
       "  </thead>\n",
       "  <tbody>\n",
       "    <tr>\n",
       "      <th>2021-06-01 00:00:00</th>\n",
       "      <td>2.5</td>\n",
       "    </tr>\n",
       "    <tr>\n",
       "      <th>2021-06-01 06:00:00</th>\n",
       "      <td>8.5</td>\n",
       "    </tr>\n",
       "    <tr>\n",
       "      <th>2021-06-01 12:00:00</th>\n",
       "      <td>14.5</td>\n",
       "    </tr>\n",
       "    <tr>\n",
       "      <th>2021-06-01 18:00:00</th>\n",
       "      <td>20.5</td>\n",
       "    </tr>\n",
       "    <tr>\n",
       "      <th>2021-06-02 00:00:00</th>\n",
       "      <td>26.5</td>\n",
       "    </tr>\n",
       "    <tr>\n",
       "      <th>2021-06-02 06:00:00</th>\n",
       "      <td>32.5</td>\n",
       "    </tr>\n",
       "    <tr>\n",
       "      <th>2021-06-02 12:00:00</th>\n",
       "      <td>38.5</td>\n",
       "    </tr>\n",
       "    <tr>\n",
       "      <th>2021-06-02 18:00:00</th>\n",
       "      <td>44.5</td>\n",
       "    </tr>\n",
       "    <tr>\n",
       "      <th>2021-06-03 00:00:00</th>\n",
       "      <td>50.5</td>\n",
       "    </tr>\n",
       "    <tr>\n",
       "      <th>2021-06-03 06:00:00</th>\n",
       "      <td>56.5</td>\n",
       "    </tr>\n",
       "    <tr>\n",
       "      <th>2021-06-03 12:00:00</th>\n",
       "      <td>62.5</td>\n",
       "    </tr>\n",
       "    <tr>\n",
       "      <th>2021-06-03 18:00:00</th>\n",
       "      <td>68.5</td>\n",
       "    </tr>\n",
       "    <tr>\n",
       "      <th>2021-06-04 00:00:00</th>\n",
       "      <td>74.5</td>\n",
       "    </tr>\n",
       "    <tr>\n",
       "      <th>2021-06-04 06:00:00</th>\n",
       "      <td>80.5</td>\n",
       "    </tr>\n",
       "    <tr>\n",
       "      <th>2021-06-04 12:00:00</th>\n",
       "      <td>86.5</td>\n",
       "    </tr>\n",
       "    <tr>\n",
       "      <th>2021-06-04 18:00:00</th>\n",
       "      <td>92.5</td>\n",
       "    </tr>\n",
       "    <tr>\n",
       "      <th>2021-06-05 00:00:00</th>\n",
       "      <td>98.5</td>\n",
       "    </tr>\n",
       "    <tr>\n",
       "      <th>2021-06-05 06:00:00</th>\n",
       "      <td>104.5</td>\n",
       "    </tr>\n",
       "    <tr>\n",
       "      <th>2021-06-05 12:00:00</th>\n",
       "      <td>110.5</td>\n",
       "    </tr>\n",
       "    <tr>\n",
       "      <th>2021-06-05 18:00:00</th>\n",
       "      <td>116.5</td>\n",
       "    </tr>\n",
       "    <tr>\n",
       "      <th>2021-06-06 00:00:00</th>\n",
       "      <td>122.5</td>\n",
       "    </tr>\n",
       "    <tr>\n",
       "      <th>2021-06-06 06:00:00</th>\n",
       "      <td>128.5</td>\n",
       "    </tr>\n",
       "    <tr>\n",
       "      <th>2021-06-06 12:00:00</th>\n",
       "      <td>134.5</td>\n",
       "    </tr>\n",
       "    <tr>\n",
       "      <th>2021-06-06 18:00:00</th>\n",
       "      <td>140.5</td>\n",
       "    </tr>\n",
       "    <tr>\n",
       "      <th>2021-06-07 00:00:00</th>\n",
       "      <td>144.0</td>\n",
       "    </tr>\n",
       "  </tbody>\n",
       "</table>\n",
       "</div>"
      ],
      "text/plain": [
       "                         b\n",
       "a                         \n",
       "2021-06-01 00:00:00    2.5\n",
       "2021-06-01 06:00:00    8.5\n",
       "2021-06-01 12:00:00   14.5\n",
       "2021-06-01 18:00:00   20.5\n",
       "2021-06-02 00:00:00   26.5\n",
       "2021-06-02 06:00:00   32.5\n",
       "2021-06-02 12:00:00   38.5\n",
       "2021-06-02 18:00:00   44.5\n",
       "2021-06-03 00:00:00   50.5\n",
       "2021-06-03 06:00:00   56.5\n",
       "2021-06-03 12:00:00   62.5\n",
       "2021-06-03 18:00:00   68.5\n",
       "2021-06-04 00:00:00   74.5\n",
       "2021-06-04 06:00:00   80.5\n",
       "2021-06-04 12:00:00   86.5\n",
       "2021-06-04 18:00:00   92.5\n",
       "2021-06-05 00:00:00   98.5\n",
       "2021-06-05 06:00:00  104.5\n",
       "2021-06-05 12:00:00  110.5\n",
       "2021-06-05 18:00:00  116.5\n",
       "2021-06-06 00:00:00  122.5\n",
       "2021-06-06 06:00:00  128.5\n",
       "2021-06-06 12:00:00  134.5\n",
       "2021-06-06 18:00:00  140.5\n",
       "2021-06-07 00:00:00  144.0"
      ]
     },
     "execution_count": 97,
     "metadata": {},
     "output_type": "execute_result"
    }
   ],
   "source": [
    "df.groupby(pd.Grouper(key='a', freq='6H')).mean()"
   ]
  },
  {
   "cell_type": "code",
   "execution_count": 98,
   "id": "471c32d0",
   "metadata": {
    "ExecuteTime": {
     "end_time": "2021-06-01T06:34:03.400535Z",
     "start_time": "2021-06-01T06:34:03.382337Z"
    }
   },
   "outputs": [
    {
     "data": {
      "text/plain": [
       "a\n",
       "2021-06-01 00:00:00      2.5\n",
       "2021-06-01 06:00:00      8.5\n",
       "2021-06-01 12:00:00     14.5\n",
       "2021-06-01 18:00:00     20.5\n",
       "2021-06-02 00:00:00     26.5\n",
       "2021-06-02 06:00:00     32.5\n",
       "2021-06-02 12:00:00     38.5\n",
       "2021-06-02 18:00:00     44.5\n",
       "2021-06-03 00:00:00     50.5\n",
       "2021-06-03 06:00:00     56.5\n",
       "2021-06-03 12:00:00     62.5\n",
       "2021-06-03 18:00:00     68.5\n",
       "2021-06-04 00:00:00     74.5\n",
       "2021-06-04 06:00:00     80.5\n",
       "2021-06-04 12:00:00     86.5\n",
       "2021-06-04 18:00:00     92.5\n",
       "2021-06-05 00:00:00     98.5\n",
       "2021-06-05 06:00:00    104.5\n",
       "2021-06-05 12:00:00    110.5\n",
       "2021-06-05 18:00:00    116.5\n",
       "2021-06-06 00:00:00    122.5\n",
       "2021-06-06 06:00:00    128.5\n",
       "2021-06-06 12:00:00    134.5\n",
       "2021-06-06 18:00:00    140.5\n",
       "2021-06-07 00:00:00    144.0\n",
       "Freq: 6H, Name: b, dtype: float64"
      ]
     },
     "execution_count": 98,
     "metadata": {},
     "output_type": "execute_result"
    }
   ],
   "source": [
    "df.groupby(pd.Grouper(key='a', freq='6H'))['b'].mean()"
   ]
  },
  {
   "cell_type": "code",
   "execution_count": 99,
   "id": "30108cf0",
   "metadata": {
    "ExecuteTime": {
     "end_time": "2021-06-01T06:38:25.551031Z",
     "start_time": "2021-06-01T06:38:25.524633Z"
    }
   },
   "outputs": [
    {
     "data": {
      "text/html": [
       "<div>\n",
       "<style scoped>\n",
       "    .dataframe tbody tr th:only-of-type {\n",
       "        vertical-align: middle;\n",
       "    }\n",
       "\n",
       "    .dataframe tbody tr th {\n",
       "        vertical-align: top;\n",
       "    }\n",
       "\n",
       "    .dataframe thead th {\n",
       "        text-align: right;\n",
       "    }\n",
       "</style>\n",
       "<table border=\"1\" class=\"dataframe\">\n",
       "  <thead>\n",
       "    <tr style=\"text-align: right;\">\n",
       "      <th></th>\n",
       "      <th>b</th>\n",
       "    </tr>\n",
       "    <tr>\n",
       "      <th>a</th>\n",
       "      <th></th>\n",
       "    </tr>\n",
       "  </thead>\n",
       "  <tbody>\n",
       "    <tr>\n",
       "      <th>2021-06-01</th>\n",
       "      <td>12.5</td>\n",
       "    </tr>\n",
       "    <tr>\n",
       "      <th>2021-06-02</th>\n",
       "      <td>36.5</td>\n",
       "    </tr>\n",
       "    <tr>\n",
       "      <th>2021-06-03</th>\n",
       "      <td>60.5</td>\n",
       "    </tr>\n",
       "    <tr>\n",
       "      <th>2021-06-04</th>\n",
       "      <td>84.5</td>\n",
       "    </tr>\n",
       "    <tr>\n",
       "      <th>2021-06-05</th>\n",
       "      <td>108.5</td>\n",
       "    </tr>\n",
       "    <tr>\n",
       "      <th>2021-06-06</th>\n",
       "      <td>132.5</td>\n",
       "    </tr>\n",
       "  </tbody>\n",
       "</table>\n",
       "</div>"
      ],
      "text/plain": [
       "                b\n",
       "a                \n",
       "2021-06-01   12.5\n",
       "2021-06-02   36.5\n",
       "2021-06-03   60.5\n",
       "2021-06-04   84.5\n",
       "2021-06-05  108.5\n",
       "2021-06-06  132.5"
      ]
     },
     "execution_count": 99,
     "metadata": {},
     "output_type": "execute_result"
    }
   ],
   "source": [
    "df2 = df[(df['a'].dt.hour >= 9) & (df['a'].dt.hour < 17)]\n",
    "df2.groupby(df2['a'].dt.date).mean()"
   ]
  },
  {
   "cell_type": "code",
   "execution_count": 100,
   "id": "bccbeb41",
   "metadata": {
    "ExecuteTime": {
     "end_time": "2021-06-01T06:43:44.018994Z",
     "start_time": "2021-06-01T06:43:44.013875Z"
    }
   },
   "outputs": [],
   "source": [
    "df3 = df.copy()"
   ]
  },
  {
   "cell_type": "code",
   "execution_count": 101,
   "id": "f557ee06",
   "metadata": {
    "ExecuteTime": {
     "end_time": "2021-06-01T06:43:47.085264Z",
     "start_time": "2021-06-01T06:43:47.064991Z"
    }
   },
   "outputs": [
    {
     "data": {
      "text/html": [
       "<div>\n",
       "<style scoped>\n",
       "    .dataframe tbody tr th:only-of-type {\n",
       "        vertical-align: middle;\n",
       "    }\n",
       "\n",
       "    .dataframe tbody tr th {\n",
       "        vertical-align: top;\n",
       "    }\n",
       "\n",
       "    .dataframe thead th {\n",
       "        text-align: right;\n",
       "    }\n",
       "</style>\n",
       "<table border=\"1\" class=\"dataframe\">\n",
       "  <thead>\n",
       "    <tr style=\"text-align: right;\">\n",
       "      <th></th>\n",
       "      <th>a</th>\n",
       "      <th>b</th>\n",
       "    </tr>\n",
       "  </thead>\n",
       "  <tbody>\n",
       "    <tr>\n",
       "      <th>0</th>\n",
       "      <td>2021-06-01 00:00:00</td>\n",
       "      <td>0</td>\n",
       "    </tr>\n",
       "    <tr>\n",
       "      <th>1</th>\n",
       "      <td>2021-06-01 01:00:00</td>\n",
       "      <td>1</td>\n",
       "    </tr>\n",
       "    <tr>\n",
       "      <th>2</th>\n",
       "      <td>2021-06-01 02:00:00</td>\n",
       "      <td>2</td>\n",
       "    </tr>\n",
       "    <tr>\n",
       "      <th>3</th>\n",
       "      <td>2021-06-01 03:00:00</td>\n",
       "      <td>3</td>\n",
       "    </tr>\n",
       "    <tr>\n",
       "      <th>4</th>\n",
       "      <td>2021-06-01 04:00:00</td>\n",
       "      <td>4</td>\n",
       "    </tr>\n",
       "    <tr>\n",
       "      <th>...</th>\n",
       "      <td>...</td>\n",
       "      <td>...</td>\n",
       "    </tr>\n",
       "    <tr>\n",
       "      <th>140</th>\n",
       "      <td>2021-06-06 20:00:00</td>\n",
       "      <td>140</td>\n",
       "    </tr>\n",
       "    <tr>\n",
       "      <th>141</th>\n",
       "      <td>2021-06-06 21:00:00</td>\n",
       "      <td>141</td>\n",
       "    </tr>\n",
       "    <tr>\n",
       "      <th>142</th>\n",
       "      <td>2021-06-06 22:00:00</td>\n",
       "      <td>142</td>\n",
       "    </tr>\n",
       "    <tr>\n",
       "      <th>143</th>\n",
       "      <td>2021-06-06 23:00:00</td>\n",
       "      <td>143</td>\n",
       "    </tr>\n",
       "    <tr>\n",
       "      <th>144</th>\n",
       "      <td>2021-06-07 00:00:00</td>\n",
       "      <td>144</td>\n",
       "    </tr>\n",
       "  </tbody>\n",
       "</table>\n",
       "<p>145 rows × 2 columns</p>\n",
       "</div>"
      ],
      "text/plain": [
       "                      a    b\n",
       "0   2021-06-01 00:00:00    0\n",
       "1   2021-06-01 01:00:00    1\n",
       "2   2021-06-01 02:00:00    2\n",
       "3   2021-06-01 03:00:00    3\n",
       "4   2021-06-01 04:00:00    4\n",
       "..                  ...  ...\n",
       "140 2021-06-06 20:00:00  140\n",
       "141 2021-06-06 21:00:00  141\n",
       "142 2021-06-06 22:00:00  142\n",
       "143 2021-06-06 23:00:00  143\n",
       "144 2021-06-07 00:00:00  144\n",
       "\n",
       "[145 rows x 2 columns]"
      ]
     },
     "execution_count": 101,
     "metadata": {},
     "output_type": "execute_result"
    }
   ],
   "source": [
    "df3"
   ]
  },
  {
   "cell_type": "code",
   "execution_count": 102,
   "id": "ab25a51f",
   "metadata": {
    "ExecuteTime": {
     "end_time": "2021-06-01T07:03:54.696743Z",
     "start_time": "2021-06-01T07:03:54.673083Z"
    }
   },
   "outputs": [
    {
     "data": {
      "text/html": [
       "<div>\n",
       "<style scoped>\n",
       "    .dataframe tbody tr th:only-of-type {\n",
       "        vertical-align: middle;\n",
       "    }\n",
       "\n",
       "    .dataframe tbody tr th {\n",
       "        vertical-align: top;\n",
       "    }\n",
       "\n",
       "    .dataframe thead th {\n",
       "        text-align: right;\n",
       "    }\n",
       "</style>\n",
       "<table border=\"1\" class=\"dataframe\">\n",
       "  <thead>\n",
       "    <tr style=\"text-align: right;\">\n",
       "      <th></th>\n",
       "      <th>b</th>\n",
       "    </tr>\n",
       "    <tr>\n",
       "      <th>a</th>\n",
       "      <th></th>\n",
       "    </tr>\n",
       "  </thead>\n",
       "  <tbody>\n",
       "    <tr>\n",
       "      <th>1.0</th>\n",
       "      <td>10</td>\n",
       "    </tr>\n",
       "    <tr>\n",
       "      <th>2.0</th>\n",
       "      <td>14</td>\n",
       "    </tr>\n",
       "    <tr>\n",
       "      <th>5.0</th>\n",
       "      <td>34</td>\n",
       "    </tr>\n",
       "    <tr>\n",
       "      <th>6.0</th>\n",
       "      <td>38</td>\n",
       "    </tr>\n",
       "    <tr>\n",
       "      <th>9.0</th>\n",
       "      <td>58</td>\n",
       "    </tr>\n",
       "    <tr>\n",
       "      <th>10.0</th>\n",
       "      <td>62</td>\n",
       "    </tr>\n",
       "    <tr>\n",
       "      <th>13.0</th>\n",
       "      <td>82</td>\n",
       "    </tr>\n",
       "    <tr>\n",
       "      <th>14.0</th>\n",
       "      <td>86</td>\n",
       "    </tr>\n",
       "    <tr>\n",
       "      <th>17.0</th>\n",
       "      <td>106</td>\n",
       "    </tr>\n",
       "    <tr>\n",
       "      <th>18.0</th>\n",
       "      <td>110</td>\n",
       "    </tr>\n",
       "    <tr>\n",
       "      <th>21.0</th>\n",
       "      <td>130</td>\n",
       "    </tr>\n",
       "    <tr>\n",
       "      <th>22.0</th>\n",
       "      <td>134</td>\n",
       "    </tr>\n",
       "  </tbody>\n",
       "</table>\n",
       "</div>"
      ],
      "text/plain": [
       "        b\n",
       "a        \n",
       "1.0    10\n",
       "2.0    14\n",
       "5.0    34\n",
       "6.0    38\n",
       "9.0    58\n",
       "10.0   62\n",
       "13.0   82\n",
       "14.0   86\n",
       "17.0  106\n",
       "18.0  110\n",
       "21.0  130\n",
       "22.0  134"
      ]
     },
     "execution_count": 102,
     "metadata": {},
     "output_type": "execute_result"
    }
   ],
   "source": [
    "(df2.groupby((df['a'] - df['a'].min().replace(hour=0)).dt.total_seconds() // \n",
    "             (3600 * 6)).mean())"
   ]
  },
  {
   "cell_type": "code",
   "execution_count": 103,
   "id": "c0c46fb3",
   "metadata": {
    "ExecuteTime": {
     "end_time": "2021-06-01T07:06:02.980726Z",
     "start_time": "2021-06-01T07:06:02.973972Z"
    }
   },
   "outputs": [],
   "source": [
    "def gen_sample_df(cols, ind): \n",
    "    return pd.DataFrame([[s1+str(s2) for s1 in cols] for s2 in ind], \n",
    "                        columns=list(cols), index=ind)"
   ]
  },
  {
   "cell_type": "code",
   "execution_count": 104,
   "id": "969c83c5",
   "metadata": {
    "ExecuteTime": {
     "end_time": "2021-06-01T07:06:11.091199Z",
     "start_time": "2021-06-01T07:06:11.072518Z"
    }
   },
   "outputs": [
    {
     "data": {
      "text/html": [
       "<div>\n",
       "<style scoped>\n",
       "    .dataframe tbody tr th:only-of-type {\n",
       "        vertical-align: middle;\n",
       "    }\n",
       "\n",
       "    .dataframe tbody tr th {\n",
       "        vertical-align: top;\n",
       "    }\n",
       "\n",
       "    .dataframe thead th {\n",
       "        text-align: right;\n",
       "    }\n",
       "</style>\n",
       "<table border=\"1\" class=\"dataframe\">\n",
       "  <thead>\n",
       "    <tr style=\"text-align: right;\">\n",
       "      <th></th>\n",
       "      <th>A</th>\n",
       "      <th>B</th>\n",
       "      <th>C</th>\n",
       "      <th>D</th>\n",
       "    </tr>\n",
       "  </thead>\n",
       "  <tbody>\n",
       "    <tr>\n",
       "      <th>0</th>\n",
       "      <td>A0</td>\n",
       "      <td>B0</td>\n",
       "      <td>C0</td>\n",
       "      <td>D0</td>\n",
       "    </tr>\n",
       "    <tr>\n",
       "      <th>1</th>\n",
       "      <td>A1</td>\n",
       "      <td>B1</td>\n",
       "      <td>C1</td>\n",
       "      <td>D1</td>\n",
       "    </tr>\n",
       "    <tr>\n",
       "      <th>2</th>\n",
       "      <td>A2</td>\n",
       "      <td>B2</td>\n",
       "      <td>C2</td>\n",
       "      <td>D2</td>\n",
       "    </tr>\n",
       "    <tr>\n",
       "      <th>3</th>\n",
       "      <td>A3</td>\n",
       "      <td>B3</td>\n",
       "      <td>C3</td>\n",
       "      <td>D3</td>\n",
       "    </tr>\n",
       "  </tbody>\n",
       "</table>\n",
       "</div>"
      ],
      "text/plain": [
       "    A   B   C   D\n",
       "0  A0  B0  C0  D0\n",
       "1  A1  B1  C1  D1\n",
       "2  A2  B2  C2  D2\n",
       "3  A3  B3  C3  D3"
      ]
     },
     "execution_count": 104,
     "metadata": {},
     "output_type": "execute_result"
    }
   ],
   "source": [
    "df2 = gen_sample_df('ABCD', range(4))\n",
    "df2"
   ]
  },
  {
   "cell_type": "code",
   "execution_count": 105,
   "id": "4b83fea9",
   "metadata": {
    "ExecuteTime": {
     "end_time": "2021-06-01T07:06:23.749305Z",
     "start_time": "2021-06-01T07:06:23.729219Z"
    }
   },
   "outputs": [
    {
     "data": {
      "text/html": [
       "<div>\n",
       "<style scoped>\n",
       "    .dataframe tbody tr th:only-of-type {\n",
       "        vertical-align: middle;\n",
       "    }\n",
       "\n",
       "    .dataframe tbody tr th {\n",
       "        vertical-align: top;\n",
       "    }\n",
       "\n",
       "    .dataframe thead th {\n",
       "        text-align: right;\n",
       "    }\n",
       "</style>\n",
       "<table border=\"1\" class=\"dataframe\">\n",
       "  <thead>\n",
       "    <tr style=\"text-align: right;\">\n",
       "      <th></th>\n",
       "      <th>A</th>\n",
       "      <th>B</th>\n",
       "      <th>C</th>\n",
       "      <th>D</th>\n",
       "    </tr>\n",
       "  </thead>\n",
       "  <tbody>\n",
       "    <tr>\n",
       "      <th>4</th>\n",
       "      <td>A4</td>\n",
       "      <td>B4</td>\n",
       "      <td>C4</td>\n",
       "      <td>D4</td>\n",
       "    </tr>\n",
       "    <tr>\n",
       "      <th>5</th>\n",
       "      <td>A5</td>\n",
       "      <td>B5</td>\n",
       "      <td>C5</td>\n",
       "      <td>D5</td>\n",
       "    </tr>\n",
       "    <tr>\n",
       "      <th>6</th>\n",
       "      <td>A6</td>\n",
       "      <td>B6</td>\n",
       "      <td>C6</td>\n",
       "      <td>D6</td>\n",
       "    </tr>\n",
       "    <tr>\n",
       "      <th>7</th>\n",
       "      <td>A7</td>\n",
       "      <td>B7</td>\n",
       "      <td>C7</td>\n",
       "      <td>D7</td>\n",
       "    </tr>\n",
       "  </tbody>\n",
       "</table>\n",
       "</div>"
      ],
      "text/plain": [
       "    A   B   C   D\n",
       "4  A4  B4  C4  D4\n",
       "5  A5  B5  C5  D5\n",
       "6  A6  B6  C6  D6\n",
       "7  A7  B7  C7  D7"
      ]
     },
     "execution_count": 105,
     "metadata": {},
     "output_type": "execute_result"
    }
   ],
   "source": [
    "df3 = gen_sample_df('ABCD', range(4,8))\n",
    "df3"
   ]
  },
  {
   "cell_type": "code",
   "execution_count": 106,
   "id": "b4336859",
   "metadata": {
    "ExecuteTime": {
     "end_time": "2021-06-01T07:06:37.405454Z",
     "start_time": "2021-06-01T07:06:37.386965Z"
    }
   },
   "outputs": [
    {
     "data": {
      "text/html": [
       "<div>\n",
       "<style scoped>\n",
       "    .dataframe tbody tr th:only-of-type {\n",
       "        vertical-align: middle;\n",
       "    }\n",
       "\n",
       "    .dataframe tbody tr th {\n",
       "        vertical-align: top;\n",
       "    }\n",
       "\n",
       "    .dataframe thead th {\n",
       "        text-align: right;\n",
       "    }\n",
       "</style>\n",
       "<table border=\"1\" class=\"dataframe\">\n",
       "  <thead>\n",
       "    <tr style=\"text-align: right;\">\n",
       "      <th></th>\n",
       "      <th>A</th>\n",
       "      <th>B</th>\n",
       "      <th>C</th>\n",
       "      <th>D</th>\n",
       "    </tr>\n",
       "  </thead>\n",
       "  <tbody>\n",
       "    <tr>\n",
       "      <th>8</th>\n",
       "      <td>A8</td>\n",
       "      <td>B8</td>\n",
       "      <td>C8</td>\n",
       "      <td>D8</td>\n",
       "    </tr>\n",
       "    <tr>\n",
       "      <th>9</th>\n",
       "      <td>A9</td>\n",
       "      <td>B9</td>\n",
       "      <td>C9</td>\n",
       "      <td>D9</td>\n",
       "    </tr>\n",
       "    <tr>\n",
       "      <th>10</th>\n",
       "      <td>A10</td>\n",
       "      <td>B10</td>\n",
       "      <td>C10</td>\n",
       "      <td>D10</td>\n",
       "    </tr>\n",
       "    <tr>\n",
       "      <th>11</th>\n",
       "      <td>A11</td>\n",
       "      <td>B11</td>\n",
       "      <td>C11</td>\n",
       "      <td>D11</td>\n",
       "    </tr>\n",
       "  </tbody>\n",
       "</table>\n",
       "</div>"
      ],
      "text/plain": [
       "      A    B    C    D\n",
       "8    A8   B8   C8   D8\n",
       "9    A9   B9   C9   D9\n",
       "10  A10  B10  C10  D10\n",
       "11  A11  B11  C11  D11"
      ]
     },
     "execution_count": 106,
     "metadata": {},
     "output_type": "execute_result"
    }
   ],
   "source": [
    "df4 = gen_sample_df('ABCD', range(8,12))\n",
    "df4"
   ]
  },
  {
   "cell_type": "code",
   "execution_count": 107,
   "id": "1a1ba5b5",
   "metadata": {
    "ExecuteTime": {
     "end_time": "2021-06-01T07:07:00.910702Z",
     "start_time": "2021-06-01T07:07:00.890735Z"
    }
   },
   "outputs": [
    {
     "data": {
      "text/html": [
       "<div>\n",
       "<style scoped>\n",
       "    .dataframe tbody tr th:only-of-type {\n",
       "        vertical-align: middle;\n",
       "    }\n",
       "\n",
       "    .dataframe tbody tr th {\n",
       "        vertical-align: top;\n",
       "    }\n",
       "\n",
       "    .dataframe thead th {\n",
       "        text-align: right;\n",
       "    }\n",
       "</style>\n",
       "<table border=\"1\" class=\"dataframe\">\n",
       "  <thead>\n",
       "    <tr style=\"text-align: right;\">\n",
       "      <th></th>\n",
       "      <th>B</th>\n",
       "      <th>D</th>\n",
       "      <th>F</th>\n",
       "    </tr>\n",
       "  </thead>\n",
       "  <tbody>\n",
       "    <tr>\n",
       "      <th>2</th>\n",
       "      <td>B2</td>\n",
       "      <td>D2</td>\n",
       "      <td>F2</td>\n",
       "    </tr>\n",
       "    <tr>\n",
       "      <th>3</th>\n",
       "      <td>B3</td>\n",
       "      <td>D3</td>\n",
       "      <td>F3</td>\n",
       "    </tr>\n",
       "    <tr>\n",
       "      <th>6</th>\n",
       "      <td>B6</td>\n",
       "      <td>D6</td>\n",
       "      <td>F6</td>\n",
       "    </tr>\n",
       "    <tr>\n",
       "      <th>7</th>\n",
       "      <td>B7</td>\n",
       "      <td>D7</td>\n",
       "      <td>F7</td>\n",
       "    </tr>\n",
       "  </tbody>\n",
       "</table>\n",
       "</div>"
      ],
      "text/plain": [
       "    B   D   F\n",
       "2  B2  D2  F2\n",
       "3  B3  D3  F3\n",
       "6  B6  D6  F6\n",
       "7  B7  D7  F7"
      ]
     },
     "execution_count": 107,
     "metadata": {},
     "output_type": "execute_result"
    }
   ],
   "source": [
    "df5 = gen_sample_df('BDF', [2,3,6,7])\n",
    "df5 "
   ]
  },
  {
   "cell_type": "code",
   "execution_count": 108,
   "id": "fe936422",
   "metadata": {
    "ExecuteTime": {
     "end_time": "2021-06-01T07:07:22.507950Z",
     "start_time": "2021-06-01T07:07:22.483432Z"
    }
   },
   "outputs": [
    {
     "data": {
      "text/html": [
       "<div>\n",
       "<style scoped>\n",
       "    .dataframe tbody tr th:only-of-type {\n",
       "        vertical-align: middle;\n",
       "    }\n",
       "\n",
       "    .dataframe tbody tr th {\n",
       "        vertical-align: top;\n",
       "    }\n",
       "\n",
       "    .dataframe thead th {\n",
       "        text-align: right;\n",
       "    }\n",
       "</style>\n",
       "<table border=\"1\" class=\"dataframe\">\n",
       "  <thead>\n",
       "    <tr style=\"text-align: right;\">\n",
       "      <th></th>\n",
       "      <th>A</th>\n",
       "      <th>B</th>\n",
       "      <th>C</th>\n",
       "      <th>D</th>\n",
       "    </tr>\n",
       "  </thead>\n",
       "  <tbody>\n",
       "    <tr>\n",
       "      <th>0</th>\n",
       "      <td>A0</td>\n",
       "      <td>B0</td>\n",
       "      <td>C0</td>\n",
       "      <td>D0</td>\n",
       "    </tr>\n",
       "    <tr>\n",
       "      <th>1</th>\n",
       "      <td>A1</td>\n",
       "      <td>B1</td>\n",
       "      <td>C1</td>\n",
       "      <td>D1</td>\n",
       "    </tr>\n",
       "    <tr>\n",
       "      <th>2</th>\n",
       "      <td>A2</td>\n",
       "      <td>B2</td>\n",
       "      <td>C2</td>\n",
       "      <td>D2</td>\n",
       "    </tr>\n",
       "    <tr>\n",
       "      <th>3</th>\n",
       "      <td>A3</td>\n",
       "      <td>B3</td>\n",
       "      <td>C3</td>\n",
       "      <td>D3</td>\n",
       "    </tr>\n",
       "    <tr>\n",
       "      <th>4</th>\n",
       "      <td>A4</td>\n",
       "      <td>B4</td>\n",
       "      <td>C4</td>\n",
       "      <td>D4</td>\n",
       "    </tr>\n",
       "    <tr>\n",
       "      <th>5</th>\n",
       "      <td>A5</td>\n",
       "      <td>B5</td>\n",
       "      <td>C5</td>\n",
       "      <td>D5</td>\n",
       "    </tr>\n",
       "    <tr>\n",
       "      <th>6</th>\n",
       "      <td>A6</td>\n",
       "      <td>B6</td>\n",
       "      <td>C6</td>\n",
       "      <td>D6</td>\n",
       "    </tr>\n",
       "    <tr>\n",
       "      <th>7</th>\n",
       "      <td>A7</td>\n",
       "      <td>B7</td>\n",
       "      <td>C7</td>\n",
       "      <td>D7</td>\n",
       "    </tr>\n",
       "    <tr>\n",
       "      <th>8</th>\n",
       "      <td>A8</td>\n",
       "      <td>B8</td>\n",
       "      <td>C8</td>\n",
       "      <td>D8</td>\n",
       "    </tr>\n",
       "    <tr>\n",
       "      <th>9</th>\n",
       "      <td>A9</td>\n",
       "      <td>B9</td>\n",
       "      <td>C9</td>\n",
       "      <td>D9</td>\n",
       "    </tr>\n",
       "    <tr>\n",
       "      <th>10</th>\n",
       "      <td>A10</td>\n",
       "      <td>B10</td>\n",
       "      <td>C10</td>\n",
       "      <td>D10</td>\n",
       "    </tr>\n",
       "    <tr>\n",
       "      <th>11</th>\n",
       "      <td>A11</td>\n",
       "      <td>B11</td>\n",
       "      <td>C11</td>\n",
       "      <td>D11</td>\n",
       "    </tr>\n",
       "  </tbody>\n",
       "</table>\n",
       "</div>"
      ],
      "text/plain": [
       "      A    B    C    D\n",
       "0    A0   B0   C0   D0\n",
       "1    A1   B1   C1   D1\n",
       "2    A2   B2   C2   D2\n",
       "3    A3   B3   C3   D3\n",
       "4    A4   B4   C4   D4\n",
       "5    A5   B5   C5   D5\n",
       "6    A6   B6   C6   D6\n",
       "7    A7   B7   C7   D7\n",
       "8    A8   B8   C8   D8\n",
       "9    A9   B9   C9   D9\n",
       "10  A10  B10  C10  D10\n",
       "11  A11  B11  C11  D11"
      ]
     },
     "execution_count": 108,
     "metadata": {},
     "output_type": "execute_result"
    }
   ],
   "source": [
    "pd.concat([df2, df3, df4])"
   ]
  },
  {
   "cell_type": "code",
   "execution_count": 109,
   "id": "0c51919f",
   "metadata": {
    "ExecuteTime": {
     "end_time": "2021-06-01T07:08:41.868809Z",
     "start_time": "2021-06-01T07:08:41.849254Z"
    }
   },
   "outputs": [
    {
     "data": {
      "text/html": [
       "<div>\n",
       "<style scoped>\n",
       "    .dataframe tbody tr th:only-of-type {\n",
       "        vertical-align: middle;\n",
       "    }\n",
       "\n",
       "    .dataframe tbody tr th {\n",
       "        vertical-align: top;\n",
       "    }\n",
       "\n",
       "    .dataframe thead th {\n",
       "        text-align: right;\n",
       "    }\n",
       "</style>\n",
       "<table border=\"1\" class=\"dataframe\">\n",
       "  <thead>\n",
       "    <tr style=\"text-align: right;\">\n",
       "      <th></th>\n",
       "      <th>A</th>\n",
       "      <th>B</th>\n",
       "      <th>C</th>\n",
       "      <th>D</th>\n",
       "    </tr>\n",
       "  </thead>\n",
       "  <tbody>\n",
       "    <tr>\n",
       "      <th>0</th>\n",
       "      <td>A0</td>\n",
       "      <td>B0</td>\n",
       "      <td>C0</td>\n",
       "      <td>D0</td>\n",
       "    </tr>\n",
       "    <tr>\n",
       "      <th>1</th>\n",
       "      <td>A1</td>\n",
       "      <td>B1</td>\n",
       "      <td>C1</td>\n",
       "      <td>D1</td>\n",
       "    </tr>\n",
       "    <tr>\n",
       "      <th>2</th>\n",
       "      <td>A2</td>\n",
       "      <td>B2</td>\n",
       "      <td>C2</td>\n",
       "      <td>D2</td>\n",
       "    </tr>\n",
       "    <tr>\n",
       "      <th>3</th>\n",
       "      <td>A3</td>\n",
       "      <td>B3</td>\n",
       "      <td>C3</td>\n",
       "      <td>D3</td>\n",
       "    </tr>\n",
       "    <tr>\n",
       "      <th>4</th>\n",
       "      <td>A4</td>\n",
       "      <td>B4</td>\n",
       "      <td>C4</td>\n",
       "      <td>D4</td>\n",
       "    </tr>\n",
       "    <tr>\n",
       "      <th>5</th>\n",
       "      <td>A5</td>\n",
       "      <td>B5</td>\n",
       "      <td>C5</td>\n",
       "      <td>D5</td>\n",
       "    </tr>\n",
       "    <tr>\n",
       "      <th>6</th>\n",
       "      <td>A6</td>\n",
       "      <td>B6</td>\n",
       "      <td>C6</td>\n",
       "      <td>D6</td>\n",
       "    </tr>\n",
       "    <tr>\n",
       "      <th>7</th>\n",
       "      <td>A7</td>\n",
       "      <td>B7</td>\n",
       "      <td>C7</td>\n",
       "      <td>D7</td>\n",
       "    </tr>\n",
       "  </tbody>\n",
       "</table>\n",
       "</div>"
      ],
      "text/plain": [
       "    A   B   C   D\n",
       "0  A0  B0  C0  D0\n",
       "1  A1  B1  C1  D1\n",
       "2  A2  B2  C2  D2\n",
       "3  A3  B3  C3  D3\n",
       "4  A4  B4  C4  D4\n",
       "5  A5  B5  C5  D5\n",
       "6  A6  B6  C6  D6\n",
       "7  A7  B7  C7  D7"
      ]
     },
     "execution_count": 109,
     "metadata": {},
     "output_type": "execute_result"
    }
   ],
   "source": [
    "df2.append(df3)"
   ]
  },
  {
   "cell_type": "code",
   "execution_count": 110,
   "id": "31083302",
   "metadata": {
    "ExecuteTime": {
     "end_time": "2021-06-01T07:09:23.711431Z",
     "start_time": "2021-06-01T07:09:23.691640Z"
    }
   },
   "outputs": [
    {
     "data": {
      "text/html": [
       "<div>\n",
       "<style scoped>\n",
       "    .dataframe tbody tr th:only-of-type {\n",
       "        vertical-align: middle;\n",
       "    }\n",
       "\n",
       "    .dataframe tbody tr th {\n",
       "        vertical-align: top;\n",
       "    }\n",
       "\n",
       "    .dataframe thead th {\n",
       "        text-align: right;\n",
       "    }\n",
       "</style>\n",
       "<table border=\"1\" class=\"dataframe\">\n",
       "  <thead>\n",
       "    <tr style=\"text-align: right;\">\n",
       "      <th></th>\n",
       "      <th>A</th>\n",
       "      <th>B</th>\n",
       "      <th>C</th>\n",
       "      <th>D</th>\n",
       "    </tr>\n",
       "  </thead>\n",
       "  <tbody>\n",
       "    <tr>\n",
       "      <th>0</th>\n",
       "      <td>A0</td>\n",
       "      <td>B0</td>\n",
       "      <td>C0</td>\n",
       "      <td>D0</td>\n",
       "    </tr>\n",
       "    <tr>\n",
       "      <th>1</th>\n",
       "      <td>A1</td>\n",
       "      <td>B1</td>\n",
       "      <td>C1</td>\n",
       "      <td>D1</td>\n",
       "    </tr>\n",
       "    <tr>\n",
       "      <th>2</th>\n",
       "      <td>A2</td>\n",
       "      <td>B2</td>\n",
       "      <td>C2</td>\n",
       "      <td>D2</td>\n",
       "    </tr>\n",
       "    <tr>\n",
       "      <th>3</th>\n",
       "      <td>A3</td>\n",
       "      <td>B3</td>\n",
       "      <td>C3</td>\n",
       "      <td>D3</td>\n",
       "    </tr>\n",
       "    <tr>\n",
       "      <th>4</th>\n",
       "      <td>A4</td>\n",
       "      <td>B4</td>\n",
       "      <td>C4</td>\n",
       "      <td>D4</td>\n",
       "    </tr>\n",
       "    <tr>\n",
       "      <th>5</th>\n",
       "      <td>A5</td>\n",
       "      <td>B5</td>\n",
       "      <td>C5</td>\n",
       "      <td>D5</td>\n",
       "    </tr>\n",
       "    <tr>\n",
       "      <th>6</th>\n",
       "      <td>A6</td>\n",
       "      <td>B6</td>\n",
       "      <td>C6</td>\n",
       "      <td>D6</td>\n",
       "    </tr>\n",
       "    <tr>\n",
       "      <th>7</th>\n",
       "      <td>A7</td>\n",
       "      <td>B7</td>\n",
       "      <td>C7</td>\n",
       "      <td>D7</td>\n",
       "    </tr>\n",
       "    <tr>\n",
       "      <th>8</th>\n",
       "      <td>A8</td>\n",
       "      <td>B8</td>\n",
       "      <td>C8</td>\n",
       "      <td>D8</td>\n",
       "    </tr>\n",
       "    <tr>\n",
       "      <th>9</th>\n",
       "      <td>A9</td>\n",
       "      <td>B9</td>\n",
       "      <td>C9</td>\n",
       "      <td>D9</td>\n",
       "    </tr>\n",
       "    <tr>\n",
       "      <th>10</th>\n",
       "      <td>A10</td>\n",
       "      <td>B10</td>\n",
       "      <td>C10</td>\n",
       "      <td>D10</td>\n",
       "    </tr>\n",
       "    <tr>\n",
       "      <th>11</th>\n",
       "      <td>A11</td>\n",
       "      <td>B11</td>\n",
       "      <td>C11</td>\n",
       "      <td>D11</td>\n",
       "    </tr>\n",
       "  </tbody>\n",
       "</table>\n",
       "</div>"
      ],
      "text/plain": [
       "      A    B    C    D\n",
       "0    A0   B0   C0   D0\n",
       "1    A1   B1   C1   D1\n",
       "2    A2   B2   C2   D2\n",
       "3    A3   B3   C3   D3\n",
       "4    A4   B4   C4   D4\n",
       "5    A5   B5   C5   D5\n",
       "6    A6   B6   C6   D6\n",
       "7    A7   B7   C7   D7\n",
       "8    A8   B8   C8   D8\n",
       "9    A9   B9   C9   D9\n",
       "10  A10  B10  C10  D10\n",
       "11  A11  B11  C11  D11"
      ]
     },
     "execution_count": 110,
     "metadata": {},
     "output_type": "execute_result"
    }
   ],
   "source": [
    "df2.append([df3, df4])"
   ]
  },
  {
   "cell_type": "code",
   "execution_count": 111,
   "id": "b3579dde",
   "metadata": {
    "ExecuteTime": {
     "end_time": "2021-06-01T07:10:16.760090Z",
     "start_time": "2021-06-01T07:10:16.735683Z"
    }
   },
   "outputs": [
    {
     "data": {
      "text/html": [
       "<div>\n",
       "<style scoped>\n",
       "    .dataframe tbody tr th:only-of-type {\n",
       "        vertical-align: middle;\n",
       "    }\n",
       "\n",
       "    .dataframe tbody tr th {\n",
       "        vertical-align: top;\n",
       "    }\n",
       "\n",
       "    .dataframe thead th {\n",
       "        text-align: right;\n",
       "    }\n",
       "</style>\n",
       "<table border=\"1\" class=\"dataframe\">\n",
       "  <thead>\n",
       "    <tr style=\"text-align: right;\">\n",
       "      <th></th>\n",
       "      <th>A</th>\n",
       "      <th>B</th>\n",
       "      <th>C</th>\n",
       "      <th>D</th>\n",
       "      <th>F</th>\n",
       "    </tr>\n",
       "  </thead>\n",
       "  <tbody>\n",
       "    <tr>\n",
       "      <th>0</th>\n",
       "      <td>A0</td>\n",
       "      <td>B0</td>\n",
       "      <td>C0</td>\n",
       "      <td>D0</td>\n",
       "      <td>NaN</td>\n",
       "    </tr>\n",
       "    <tr>\n",
       "      <th>1</th>\n",
       "      <td>A1</td>\n",
       "      <td>B1</td>\n",
       "      <td>C1</td>\n",
       "      <td>D1</td>\n",
       "      <td>NaN</td>\n",
       "    </tr>\n",
       "    <tr>\n",
       "      <th>2</th>\n",
       "      <td>A2</td>\n",
       "      <td>B2</td>\n",
       "      <td>C2</td>\n",
       "      <td>D2</td>\n",
       "      <td>NaN</td>\n",
       "    </tr>\n",
       "    <tr>\n",
       "      <th>3</th>\n",
       "      <td>A3</td>\n",
       "      <td>B3</td>\n",
       "      <td>C3</td>\n",
       "      <td>D3</td>\n",
       "      <td>NaN</td>\n",
       "    </tr>\n",
       "    <tr>\n",
       "      <th>2</th>\n",
       "      <td>NaN</td>\n",
       "      <td>B2</td>\n",
       "      <td>NaN</td>\n",
       "      <td>D2</td>\n",
       "      <td>F2</td>\n",
       "    </tr>\n",
       "    <tr>\n",
       "      <th>3</th>\n",
       "      <td>NaN</td>\n",
       "      <td>B3</td>\n",
       "      <td>NaN</td>\n",
       "      <td>D3</td>\n",
       "      <td>F3</td>\n",
       "    </tr>\n",
       "    <tr>\n",
       "      <th>6</th>\n",
       "      <td>NaN</td>\n",
       "      <td>B6</td>\n",
       "      <td>NaN</td>\n",
       "      <td>D6</td>\n",
       "      <td>F6</td>\n",
       "    </tr>\n",
       "    <tr>\n",
       "      <th>7</th>\n",
       "      <td>NaN</td>\n",
       "      <td>B7</td>\n",
       "      <td>NaN</td>\n",
       "      <td>D7</td>\n",
       "      <td>F7</td>\n",
       "    </tr>\n",
       "  </tbody>\n",
       "</table>\n",
       "</div>"
      ],
      "text/plain": [
       "     A   B    C   D    F\n",
       "0   A0  B0   C0  D0  NaN\n",
       "1   A1  B1   C1  D1  NaN\n",
       "2   A2  B2   C2  D2  NaN\n",
       "3   A3  B3   C3  D3  NaN\n",
       "2  NaN  B2  NaN  D2   F2\n",
       "3  NaN  B3  NaN  D3   F3\n",
       "6  NaN  B6  NaN  D6   F6\n",
       "7  NaN  B7  NaN  D7   F7"
      ]
     },
     "execution_count": 111,
     "metadata": {},
     "output_type": "execute_result"
    }
   ],
   "source": [
    "pd.concat([df2, df5])"
   ]
  },
  {
   "cell_type": "code",
   "execution_count": 112,
   "id": "5e82af5d",
   "metadata": {
    "ExecuteTime": {
     "end_time": "2021-06-01T07:12:11.875114Z",
     "start_time": "2021-06-01T07:12:11.851952Z"
    }
   },
   "outputs": [
    {
     "data": {
      "text/html": [
       "<div>\n",
       "<style scoped>\n",
       "    .dataframe tbody tr th:only-of-type {\n",
       "        vertical-align: middle;\n",
       "    }\n",
       "\n",
       "    .dataframe tbody tr th {\n",
       "        vertical-align: top;\n",
       "    }\n",
       "\n",
       "    .dataframe thead th {\n",
       "        text-align: right;\n",
       "    }\n",
       "</style>\n",
       "<table border=\"1\" class=\"dataframe\">\n",
       "  <thead>\n",
       "    <tr style=\"text-align: right;\">\n",
       "      <th></th>\n",
       "      <th>B</th>\n",
       "      <th>D</th>\n",
       "      <th>F</th>\n",
       "      <th>A</th>\n",
       "      <th>C</th>\n",
       "    </tr>\n",
       "  </thead>\n",
       "  <tbody>\n",
       "    <tr>\n",
       "      <th>2</th>\n",
       "      <td>B2</td>\n",
       "      <td>D2</td>\n",
       "      <td>F2</td>\n",
       "      <td>NaN</td>\n",
       "      <td>NaN</td>\n",
       "    </tr>\n",
       "    <tr>\n",
       "      <th>3</th>\n",
       "      <td>B3</td>\n",
       "      <td>D3</td>\n",
       "      <td>F3</td>\n",
       "      <td>NaN</td>\n",
       "      <td>NaN</td>\n",
       "    </tr>\n",
       "    <tr>\n",
       "      <th>6</th>\n",
       "      <td>B6</td>\n",
       "      <td>D6</td>\n",
       "      <td>F6</td>\n",
       "      <td>NaN</td>\n",
       "      <td>NaN</td>\n",
       "    </tr>\n",
       "    <tr>\n",
       "      <th>7</th>\n",
       "      <td>B7</td>\n",
       "      <td>D7</td>\n",
       "      <td>F7</td>\n",
       "      <td>NaN</td>\n",
       "      <td>NaN</td>\n",
       "    </tr>\n",
       "    <tr>\n",
       "      <th>0</th>\n",
       "      <td>B0</td>\n",
       "      <td>D0</td>\n",
       "      <td>NaN</td>\n",
       "      <td>A0</td>\n",
       "      <td>C0</td>\n",
       "    </tr>\n",
       "    <tr>\n",
       "      <th>1</th>\n",
       "      <td>B1</td>\n",
       "      <td>D1</td>\n",
       "      <td>NaN</td>\n",
       "      <td>A1</td>\n",
       "      <td>C1</td>\n",
       "    </tr>\n",
       "    <tr>\n",
       "      <th>2</th>\n",
       "      <td>B2</td>\n",
       "      <td>D2</td>\n",
       "      <td>NaN</td>\n",
       "      <td>A2</td>\n",
       "      <td>C2</td>\n",
       "    </tr>\n",
       "    <tr>\n",
       "      <th>3</th>\n",
       "      <td>B3</td>\n",
       "      <td>D3</td>\n",
       "      <td>NaN</td>\n",
       "      <td>A3</td>\n",
       "      <td>C3</td>\n",
       "    </tr>\n",
       "  </tbody>\n",
       "</table>\n",
       "</div>"
      ],
      "text/plain": [
       "    B   D    F    A    C\n",
       "2  B2  D2   F2  NaN  NaN\n",
       "3  B3  D3   F3  NaN  NaN\n",
       "6  B6  D6   F6  NaN  NaN\n",
       "7  B7  D7   F7  NaN  NaN\n",
       "0  B0  D0  NaN   A0   C0\n",
       "1  B1  D1  NaN   A1   C1\n",
       "2  B2  D2  NaN   A2   C2\n",
       "3  B3  D3  NaN   A3   C3"
      ]
     },
     "execution_count": 112,
     "metadata": {},
     "output_type": "execute_result"
    }
   ],
   "source": [
    "pd.concat([df5, df2])"
   ]
  },
  {
   "cell_type": "code",
   "execution_count": 113,
   "id": "be5e5601",
   "metadata": {
    "ExecuteTime": {
     "end_time": "2021-06-01T07:18:11.955691Z",
     "start_time": "2021-06-01T07:18:11.941784Z"
    }
   },
   "outputs": [
    {
     "data": {
      "text/plain": [
       "2    B2\n",
       "3    B3\n",
       "6    B6\n",
       "7    B7\n",
       "0    B0\n",
       "1    B1\n",
       "2    B2\n",
       "3    B3\n",
       "Name: B, dtype: object"
      ]
     },
     "execution_count": 113,
     "metadata": {},
     "output_type": "execute_result"
    }
   ],
   "source": [
    "pd.concat([df5, df2])['B']"
   ]
  },
  {
   "cell_type": "code",
   "execution_count": 114,
   "id": "93a54edb",
   "metadata": {
    "ExecuteTime": {
     "end_time": "2021-06-01T07:18:39.548582Z",
     "start_time": "2021-06-01T07:18:39.533708Z"
    }
   },
   "outputs": [
    {
     "data": {
      "text/plain": [
       "2    B2\n",
       "2    B2\n",
       "Name: B, dtype: object"
      ]
     },
     "execution_count": 114,
     "metadata": {},
     "output_type": "execute_result"
    }
   ],
   "source": [
    "pd.concat([df5, df2])['B'][2]"
   ]
  },
  {
   "cell_type": "code",
   "execution_count": 115,
   "id": "3ac3772b",
   "metadata": {
    "ExecuteTime": {
     "end_time": "2021-06-01T07:15:25.014161Z",
     "start_time": "2021-06-01T07:15:24.991912Z"
    }
   },
   "outputs": [
    {
     "data": {
      "text/html": [
       "<div>\n",
       "<style scoped>\n",
       "    .dataframe tbody tr th:only-of-type {\n",
       "        vertical-align: middle;\n",
       "    }\n",
       "\n",
       "    .dataframe tbody tr th {\n",
       "        vertical-align: top;\n",
       "    }\n",
       "\n",
       "    .dataframe thead th {\n",
       "        text-align: right;\n",
       "    }\n",
       "</style>\n",
       "<table border=\"1\" class=\"dataframe\">\n",
       "  <thead>\n",
       "    <tr style=\"text-align: right;\">\n",
       "      <th></th>\n",
       "      <th>A</th>\n",
       "      <th>B</th>\n",
       "      <th>C</th>\n",
       "      <th>D</th>\n",
       "      <th>F</th>\n",
       "    </tr>\n",
       "  </thead>\n",
       "  <tbody>\n",
       "    <tr>\n",
       "      <th>0</th>\n",
       "      <td>A0</td>\n",
       "      <td>B0</td>\n",
       "      <td>C0</td>\n",
       "      <td>D0</td>\n",
       "      <td>NaN</td>\n",
       "    </tr>\n",
       "    <tr>\n",
       "      <th>1</th>\n",
       "      <td>A1</td>\n",
       "      <td>B1</td>\n",
       "      <td>C1</td>\n",
       "      <td>D1</td>\n",
       "      <td>NaN</td>\n",
       "    </tr>\n",
       "    <tr>\n",
       "      <th>2</th>\n",
       "      <td>A2</td>\n",
       "      <td>B2</td>\n",
       "      <td>C2</td>\n",
       "      <td>D2</td>\n",
       "      <td>NaN</td>\n",
       "    </tr>\n",
       "    <tr>\n",
       "      <th>3</th>\n",
       "      <td>A3</td>\n",
       "      <td>B3</td>\n",
       "      <td>C3</td>\n",
       "      <td>D3</td>\n",
       "      <td>NaN</td>\n",
       "    </tr>\n",
       "    <tr>\n",
       "      <th>4</th>\n",
       "      <td>NaN</td>\n",
       "      <td>B2</td>\n",
       "      <td>NaN</td>\n",
       "      <td>D2</td>\n",
       "      <td>F2</td>\n",
       "    </tr>\n",
       "    <tr>\n",
       "      <th>5</th>\n",
       "      <td>NaN</td>\n",
       "      <td>B3</td>\n",
       "      <td>NaN</td>\n",
       "      <td>D3</td>\n",
       "      <td>F3</td>\n",
       "    </tr>\n",
       "    <tr>\n",
       "      <th>6</th>\n",
       "      <td>NaN</td>\n",
       "      <td>B6</td>\n",
       "      <td>NaN</td>\n",
       "      <td>D6</td>\n",
       "      <td>F6</td>\n",
       "    </tr>\n",
       "    <tr>\n",
       "      <th>7</th>\n",
       "      <td>NaN</td>\n",
       "      <td>B7</td>\n",
       "      <td>NaN</td>\n",
       "      <td>D7</td>\n",
       "      <td>F7</td>\n",
       "    </tr>\n",
       "  </tbody>\n",
       "</table>\n",
       "</div>"
      ],
      "text/plain": [
       "     A   B    C   D    F\n",
       "0   A0  B0   C0  D0  NaN\n",
       "1   A1  B1   C1  D1  NaN\n",
       "2   A2  B2   C2  D2  NaN\n",
       "3   A3  B3   C3  D3  NaN\n",
       "4  NaN  B2  NaN  D2   F2\n",
       "5  NaN  B3  NaN  D3   F3\n",
       "6  NaN  B6  NaN  D6   F6\n",
       "7  NaN  B7  NaN  D7   F7"
      ]
     },
     "execution_count": 115,
     "metadata": {},
     "output_type": "execute_result"
    }
   ],
   "source": [
    "pd.concat([df2, df5], ignore_index=True)"
   ]
  },
  {
   "cell_type": "code",
   "execution_count": 116,
   "id": "ae50824a",
   "metadata": {
    "ExecuteTime": {
     "end_time": "2021-06-01T07:20:40.246981Z",
     "start_time": "2021-06-01T07:20:40.214248Z"
    }
   },
   "outputs": [
    {
     "data": {
      "text/html": [
       "<div>\n",
       "<style scoped>\n",
       "    .dataframe tbody tr th:only-of-type {\n",
       "        vertical-align: middle;\n",
       "    }\n",
       "\n",
       "    .dataframe tbody tr th {\n",
       "        vertical-align: top;\n",
       "    }\n",
       "\n",
       "    .dataframe thead th {\n",
       "        text-align: right;\n",
       "    }\n",
       "</style>\n",
       "<table border=\"1\" class=\"dataframe\">\n",
       "  <thead>\n",
       "    <tr style=\"text-align: right;\">\n",
       "      <th></th>\n",
       "      <th>A</th>\n",
       "      <th>B</th>\n",
       "      <th>C</th>\n",
       "      <th>D</th>\n",
       "      <th>B</th>\n",
       "      <th>D</th>\n",
       "      <th>F</th>\n",
       "    </tr>\n",
       "  </thead>\n",
       "  <tbody>\n",
       "    <tr>\n",
       "      <th>0</th>\n",
       "      <td>A0</td>\n",
       "      <td>B0</td>\n",
       "      <td>C0</td>\n",
       "      <td>D0</td>\n",
       "      <td>NaN</td>\n",
       "      <td>NaN</td>\n",
       "      <td>NaN</td>\n",
       "    </tr>\n",
       "    <tr>\n",
       "      <th>1</th>\n",
       "      <td>A1</td>\n",
       "      <td>B1</td>\n",
       "      <td>C1</td>\n",
       "      <td>D1</td>\n",
       "      <td>NaN</td>\n",
       "      <td>NaN</td>\n",
       "      <td>NaN</td>\n",
       "    </tr>\n",
       "    <tr>\n",
       "      <th>2</th>\n",
       "      <td>A2</td>\n",
       "      <td>B2</td>\n",
       "      <td>C2</td>\n",
       "      <td>D2</td>\n",
       "      <td>B2</td>\n",
       "      <td>D2</td>\n",
       "      <td>F2</td>\n",
       "    </tr>\n",
       "    <tr>\n",
       "      <th>3</th>\n",
       "      <td>A3</td>\n",
       "      <td>B3</td>\n",
       "      <td>C3</td>\n",
       "      <td>D3</td>\n",
       "      <td>B3</td>\n",
       "      <td>D3</td>\n",
       "      <td>F3</td>\n",
       "    </tr>\n",
       "    <tr>\n",
       "      <th>6</th>\n",
       "      <td>NaN</td>\n",
       "      <td>NaN</td>\n",
       "      <td>NaN</td>\n",
       "      <td>NaN</td>\n",
       "      <td>B6</td>\n",
       "      <td>D6</td>\n",
       "      <td>F6</td>\n",
       "    </tr>\n",
       "    <tr>\n",
       "      <th>7</th>\n",
       "      <td>NaN</td>\n",
       "      <td>NaN</td>\n",
       "      <td>NaN</td>\n",
       "      <td>NaN</td>\n",
       "      <td>B7</td>\n",
       "      <td>D7</td>\n",
       "      <td>F7</td>\n",
       "    </tr>\n",
       "  </tbody>\n",
       "</table>\n",
       "</div>"
      ],
      "text/plain": [
       "     A    B    C    D    B    D    F\n",
       "0   A0   B0   C0   D0  NaN  NaN  NaN\n",
       "1   A1   B1   C1   D1  NaN  NaN  NaN\n",
       "2   A2   B2   C2   D2   B2   D2   F2\n",
       "3   A3   B3   C3   D3   B3   D3   F3\n",
       "6  NaN  NaN  NaN  NaN   B6   D6   F6\n",
       "7  NaN  NaN  NaN  NaN   B7   D7   F7"
      ]
     },
     "execution_count": 116,
     "metadata": {},
     "output_type": "execute_result"
    }
   ],
   "source": [
    "pd.concat([df2, df5], axis=1)"
   ]
  },
  {
   "cell_type": "code",
   "execution_count": 117,
   "id": "bcce4b25",
   "metadata": {
    "ExecuteTime": {
     "end_time": "2021-06-01T07:26:27.944997Z",
     "start_time": "2021-06-01T07:26:27.931006Z"
    }
   },
   "outputs": [],
   "source": [
    "df6 = df2.copy()\n",
    "df6['key1'] = ['K0', 'K0', 'K1', 'K2']\n",
    "df6['key2'] = ['K0', 'K1', 'K0', 'K1']\n",
    "df7 = df5.copy()\n",
    "df7['key1'] = ['K0', 'K1', 'K1', 'K2']\n",
    "df7['key2'] = ['K0', 'K0', 'K0', 'K0']\n"
   ]
  },
  {
   "cell_type": "code",
   "execution_count": 118,
   "id": "4ad9b5b1",
   "metadata": {
    "ExecuteTime": {
     "end_time": "2021-06-01T07:46:52.945734Z",
     "start_time": "2021-06-01T07:46:52.915688Z"
    }
   },
   "outputs": [
    {
     "data": {
      "text/html": [
       "<div>\n",
       "<style scoped>\n",
       "    .dataframe tbody tr th:only-of-type {\n",
       "        vertical-align: middle;\n",
       "    }\n",
       "\n",
       "    .dataframe tbody tr th {\n",
       "        vertical-align: top;\n",
       "    }\n",
       "\n",
       "    .dataframe thead th {\n",
       "        text-align: right;\n",
       "    }\n",
       "</style>\n",
       "<table border=\"1\" class=\"dataframe\">\n",
       "  <thead>\n",
       "    <tr style=\"text-align: right;\">\n",
       "      <th></th>\n",
       "      <th>A</th>\n",
       "      <th>B (left)</th>\n",
       "      <th>C</th>\n",
       "      <th>D (left)</th>\n",
       "      <th>key1</th>\n",
       "      <th>key2 (left)</th>\n",
       "      <th>B (right)</th>\n",
       "      <th>D (right)</th>\n",
       "      <th>F</th>\n",
       "      <th>key2 (right)</th>\n",
       "    </tr>\n",
       "  </thead>\n",
       "  <tbody>\n",
       "    <tr>\n",
       "      <th>0</th>\n",
       "      <td>A0</td>\n",
       "      <td>B0</td>\n",
       "      <td>C0</td>\n",
       "      <td>D0</td>\n",
       "      <td>K0</td>\n",
       "      <td>K0</td>\n",
       "      <td>B2</td>\n",
       "      <td>D2</td>\n",
       "      <td>F2</td>\n",
       "      <td>K0</td>\n",
       "    </tr>\n",
       "    <tr>\n",
       "      <th>1</th>\n",
       "      <td>A1</td>\n",
       "      <td>B1</td>\n",
       "      <td>C1</td>\n",
       "      <td>D1</td>\n",
       "      <td>K0</td>\n",
       "      <td>K1</td>\n",
       "      <td>B2</td>\n",
       "      <td>D2</td>\n",
       "      <td>F2</td>\n",
       "      <td>K0</td>\n",
       "    </tr>\n",
       "    <tr>\n",
       "      <th>2</th>\n",
       "      <td>A2</td>\n",
       "      <td>B2</td>\n",
       "      <td>C2</td>\n",
       "      <td>D2</td>\n",
       "      <td>K1</td>\n",
       "      <td>K0</td>\n",
       "      <td>B3</td>\n",
       "      <td>D3</td>\n",
       "      <td>F3</td>\n",
       "      <td>K0</td>\n",
       "    </tr>\n",
       "    <tr>\n",
       "      <th>3</th>\n",
       "      <td>A2</td>\n",
       "      <td>B2</td>\n",
       "      <td>C2</td>\n",
       "      <td>D2</td>\n",
       "      <td>K1</td>\n",
       "      <td>K0</td>\n",
       "      <td>B6</td>\n",
       "      <td>D6</td>\n",
       "      <td>F6</td>\n",
       "      <td>K0</td>\n",
       "    </tr>\n",
       "    <tr>\n",
       "      <th>4</th>\n",
       "      <td>A3</td>\n",
       "      <td>B3</td>\n",
       "      <td>C3</td>\n",
       "      <td>D3</td>\n",
       "      <td>K2</td>\n",
       "      <td>K1</td>\n",
       "      <td>B7</td>\n",
       "      <td>D7</td>\n",
       "      <td>F7</td>\n",
       "      <td>K0</td>\n",
       "    </tr>\n",
       "  </tbody>\n",
       "</table>\n",
       "</div>"
      ],
      "text/plain": [
       "    A B (left)   C D (left) key1 key2 (left) B (right) D (right)   F  \\\n",
       "0  A0       B0  C0       D0   K0          K0        B2        D2  F2   \n",
       "1  A1       B1  C1       D1   K0          K1        B2        D2  F2   \n",
       "2  A2       B2  C2       D2   K1          K0        B3        D3  F3   \n",
       "3  A2       B2  C2       D2   K1          K0        B6        D6  F6   \n",
       "4  A3       B3  C3       D3   K2          K1        B7        D7  F7   \n",
       "\n",
       "  key2 (right)  \n",
       "0           K0  \n",
       "1           K0  \n",
       "2           K0  \n",
       "3           K0  \n",
       "4           K0  "
      ]
     },
     "execution_count": 118,
     "metadata": {},
     "output_type": "execute_result"
    }
   ],
   "source": [
    "pd.merge(df6, df7, left_on='key1', right_on='key1',\n",
    "        suffixes=[' (left)', ' (right)'])"
   ]
  },
  {
   "cell_type": "code",
   "execution_count": 119,
   "id": "cc83df1e",
   "metadata": {
    "ExecuteTime": {
     "end_time": "2021-06-01T07:49:02.283489Z",
     "start_time": "2021-06-01T07:49:02.252687Z"
    }
   },
   "outputs": [
    {
     "data": {
      "text/html": [
       "<div>\n",
       "<style scoped>\n",
       "    .dataframe tbody tr th:only-of-type {\n",
       "        vertical-align: middle;\n",
       "    }\n",
       "\n",
       "    .dataframe tbody tr th {\n",
       "        vertical-align: top;\n",
       "    }\n",
       "\n",
       "    .dataframe thead th {\n",
       "        text-align: right;\n",
       "    }\n",
       "</style>\n",
       "<table border=\"1\" class=\"dataframe\">\n",
       "  <thead>\n",
       "    <tr style=\"text-align: right;\">\n",
       "      <th></th>\n",
       "      <th>A</th>\n",
       "      <th>B_x</th>\n",
       "      <th>C</th>\n",
       "      <th>D_x</th>\n",
       "      <th>key1</th>\n",
       "      <th>key2_x</th>\n",
       "      <th>B_y</th>\n",
       "      <th>D_y</th>\n",
       "      <th>F</th>\n",
       "      <th>key2_y</th>\n",
       "    </tr>\n",
       "  </thead>\n",
       "  <tbody>\n",
       "    <tr>\n",
       "      <th>0</th>\n",
       "      <td>A0</td>\n",
       "      <td>B0</td>\n",
       "      <td>C0</td>\n",
       "      <td>D0</td>\n",
       "      <td>K0</td>\n",
       "      <td>K0</td>\n",
       "      <td>B2</td>\n",
       "      <td>D2</td>\n",
       "      <td>F2</td>\n",
       "      <td>K0</td>\n",
       "    </tr>\n",
       "    <tr>\n",
       "      <th>1</th>\n",
       "      <td>A1</td>\n",
       "      <td>B1</td>\n",
       "      <td>C1</td>\n",
       "      <td>D1</td>\n",
       "      <td>K0</td>\n",
       "      <td>K1</td>\n",
       "      <td>B2</td>\n",
       "      <td>D2</td>\n",
       "      <td>F2</td>\n",
       "      <td>K0</td>\n",
       "    </tr>\n",
       "    <tr>\n",
       "      <th>2</th>\n",
       "      <td>A2</td>\n",
       "      <td>B2</td>\n",
       "      <td>C2</td>\n",
       "      <td>D2</td>\n",
       "      <td>K1</td>\n",
       "      <td>K0</td>\n",
       "      <td>B3</td>\n",
       "      <td>D3</td>\n",
       "      <td>F3</td>\n",
       "      <td>K0</td>\n",
       "    </tr>\n",
       "    <tr>\n",
       "      <th>3</th>\n",
       "      <td>A2</td>\n",
       "      <td>B2</td>\n",
       "      <td>C2</td>\n",
       "      <td>D2</td>\n",
       "      <td>K1</td>\n",
       "      <td>K0</td>\n",
       "      <td>B6</td>\n",
       "      <td>D6</td>\n",
       "      <td>F6</td>\n",
       "      <td>K0</td>\n",
       "    </tr>\n",
       "    <tr>\n",
       "      <th>4</th>\n",
       "      <td>A3</td>\n",
       "      <td>B3</td>\n",
       "      <td>C3</td>\n",
       "      <td>D3</td>\n",
       "      <td>K2</td>\n",
       "      <td>K1</td>\n",
       "      <td>B7</td>\n",
       "      <td>D7</td>\n",
       "      <td>F7</td>\n",
       "      <td>K0</td>\n",
       "    </tr>\n",
       "  </tbody>\n",
       "</table>\n",
       "</div>"
      ],
      "text/plain": [
       "    A B_x   C D_x key1 key2_x B_y D_y   F key2_y\n",
       "0  A0  B0  C0  D0   K0     K0  B2  D2  F2     K0\n",
       "1  A1  B1  C1  D1   K0     K1  B2  D2  F2     K0\n",
       "2  A2  B2  C2  D2   K1     K0  B3  D3  F3     K0\n",
       "3  A2  B2  C2  D2   K1     K0  B6  D6  F6     K0\n",
       "4  A3  B3  C3  D3   K2     K1  B7  D7  F7     K0"
      ]
     },
     "execution_count": 119,
     "metadata": {},
     "output_type": "execute_result"
    }
   ],
   "source": [
    "pd.merge(df6, df7, on='key1')"
   ]
  },
  {
   "cell_type": "code",
   "execution_count": 120,
   "id": "b46c4a18",
   "metadata": {
    "ExecuteTime": {
     "end_time": "2021-06-01T07:49:42.151446Z",
     "start_time": "2021-06-01T07:49:42.121082Z"
    }
   },
   "outputs": [
    {
     "data": {
      "text/html": [
       "<div>\n",
       "<style scoped>\n",
       "    .dataframe tbody tr th:only-of-type {\n",
       "        vertical-align: middle;\n",
       "    }\n",
       "\n",
       "    .dataframe tbody tr th {\n",
       "        vertical-align: top;\n",
       "    }\n",
       "\n",
       "    .dataframe thead th {\n",
       "        text-align: right;\n",
       "    }\n",
       "</style>\n",
       "<table border=\"1\" class=\"dataframe\">\n",
       "  <thead>\n",
       "    <tr style=\"text-align: right;\">\n",
       "      <th></th>\n",
       "      <th>A</th>\n",
       "      <th>B_x</th>\n",
       "      <th>C</th>\n",
       "      <th>D_x</th>\n",
       "      <th>key1_x</th>\n",
       "      <th>key2_x</th>\n",
       "      <th>B_y</th>\n",
       "      <th>D_y</th>\n",
       "      <th>F</th>\n",
       "      <th>key1_y</th>\n",
       "      <th>key2_y</th>\n",
       "    </tr>\n",
       "  </thead>\n",
       "  <tbody>\n",
       "    <tr>\n",
       "      <th>0</th>\n",
       "      <td>A0</td>\n",
       "      <td>B0</td>\n",
       "      <td>C0</td>\n",
       "      <td>D0</td>\n",
       "      <td>K0</td>\n",
       "      <td>K0</td>\n",
       "      <td>B2</td>\n",
       "      <td>D2</td>\n",
       "      <td>F2</td>\n",
       "      <td>K0</td>\n",
       "      <td>K0</td>\n",
       "    </tr>\n",
       "    <tr>\n",
       "      <th>1</th>\n",
       "      <td>A0</td>\n",
       "      <td>B0</td>\n",
       "      <td>C0</td>\n",
       "      <td>D0</td>\n",
       "      <td>K0</td>\n",
       "      <td>K0</td>\n",
       "      <td>B3</td>\n",
       "      <td>D3</td>\n",
       "      <td>F3</td>\n",
       "      <td>K1</td>\n",
       "      <td>K0</td>\n",
       "    </tr>\n",
       "    <tr>\n",
       "      <th>2</th>\n",
       "      <td>A0</td>\n",
       "      <td>B0</td>\n",
       "      <td>C0</td>\n",
       "      <td>D0</td>\n",
       "      <td>K0</td>\n",
       "      <td>K0</td>\n",
       "      <td>B6</td>\n",
       "      <td>D6</td>\n",
       "      <td>F6</td>\n",
       "      <td>K1</td>\n",
       "      <td>K0</td>\n",
       "    </tr>\n",
       "    <tr>\n",
       "      <th>3</th>\n",
       "      <td>A0</td>\n",
       "      <td>B0</td>\n",
       "      <td>C0</td>\n",
       "      <td>D0</td>\n",
       "      <td>K0</td>\n",
       "      <td>K0</td>\n",
       "      <td>B7</td>\n",
       "      <td>D7</td>\n",
       "      <td>F7</td>\n",
       "      <td>K2</td>\n",
       "      <td>K0</td>\n",
       "    </tr>\n",
       "    <tr>\n",
       "      <th>4</th>\n",
       "      <td>A1</td>\n",
       "      <td>B1</td>\n",
       "      <td>C1</td>\n",
       "      <td>D1</td>\n",
       "      <td>K0</td>\n",
       "      <td>K1</td>\n",
       "      <td>B2</td>\n",
       "      <td>D2</td>\n",
       "      <td>F2</td>\n",
       "      <td>K0</td>\n",
       "      <td>K0</td>\n",
       "    </tr>\n",
       "    <tr>\n",
       "      <th>5</th>\n",
       "      <td>A1</td>\n",
       "      <td>B1</td>\n",
       "      <td>C1</td>\n",
       "      <td>D1</td>\n",
       "      <td>K0</td>\n",
       "      <td>K1</td>\n",
       "      <td>B3</td>\n",
       "      <td>D3</td>\n",
       "      <td>F3</td>\n",
       "      <td>K1</td>\n",
       "      <td>K0</td>\n",
       "    </tr>\n",
       "    <tr>\n",
       "      <th>6</th>\n",
       "      <td>A1</td>\n",
       "      <td>B1</td>\n",
       "      <td>C1</td>\n",
       "      <td>D1</td>\n",
       "      <td>K0</td>\n",
       "      <td>K1</td>\n",
       "      <td>B6</td>\n",
       "      <td>D6</td>\n",
       "      <td>F6</td>\n",
       "      <td>K1</td>\n",
       "      <td>K0</td>\n",
       "    </tr>\n",
       "    <tr>\n",
       "      <th>7</th>\n",
       "      <td>A1</td>\n",
       "      <td>B1</td>\n",
       "      <td>C1</td>\n",
       "      <td>D1</td>\n",
       "      <td>K0</td>\n",
       "      <td>K1</td>\n",
       "      <td>B7</td>\n",
       "      <td>D7</td>\n",
       "      <td>F7</td>\n",
       "      <td>K2</td>\n",
       "      <td>K0</td>\n",
       "    </tr>\n",
       "  </tbody>\n",
       "</table>\n",
       "</div>"
      ],
      "text/plain": [
       "    A B_x   C D_x key1_x key2_x B_y D_y   F key1_y key2_y\n",
       "0  A0  B0  C0  D0     K0     K0  B2  D2  F2     K0     K0\n",
       "1  A0  B0  C0  D0     K0     K0  B3  D3  F3     K1     K0\n",
       "2  A0  B0  C0  D0     K0     K0  B6  D6  F6     K1     K0\n",
       "3  A0  B0  C0  D0     K0     K0  B7  D7  F7     K2     K0\n",
       "4  A1  B1  C1  D1     K0     K1  B2  D2  F2     K0     K0\n",
       "5  A1  B1  C1  D1     K0     K1  B3  D3  F3     K1     K0\n",
       "6  A1  B1  C1  D1     K0     K1  B6  D6  F6     K1     K0\n",
       "7  A1  B1  C1  D1     K0     K1  B7  D7  F7     K2     K0"
      ]
     },
     "execution_count": 120,
     "metadata": {},
     "output_type": "execute_result"
    }
   ],
   "source": [
    "pd.merge(df6, df7, left_on='key1', right_on='key2')"
   ]
  },
  {
   "cell_type": "code",
   "execution_count": 121,
   "id": "373e2ec4",
   "metadata": {
    "ExecuteTime": {
     "end_time": "2021-06-01T07:54:10.932306Z",
     "start_time": "2021-06-01T07:54:10.902242Z"
    }
   },
   "outputs": [
    {
     "data": {
      "text/html": [
       "<div>\n",
       "<style scoped>\n",
       "    .dataframe tbody tr th:only-of-type {\n",
       "        vertical-align: middle;\n",
       "    }\n",
       "\n",
       "    .dataframe tbody tr th {\n",
       "        vertical-align: top;\n",
       "    }\n",
       "\n",
       "    .dataframe thead th {\n",
       "        text-align: right;\n",
       "    }\n",
       "</style>\n",
       "<table border=\"1\" class=\"dataframe\">\n",
       "  <thead>\n",
       "    <tr style=\"text-align: right;\">\n",
       "      <th></th>\n",
       "      <th>A</th>\n",
       "      <th>B_x</th>\n",
       "      <th>C</th>\n",
       "      <th>D_x</th>\n",
       "      <th>key1</th>\n",
       "      <th>B_y</th>\n",
       "      <th>D_y</th>\n",
       "      <th>F</th>\n",
       "      <th>key2</th>\n",
       "    </tr>\n",
       "  </thead>\n",
       "  <tbody>\n",
       "    <tr>\n",
       "      <th>0</th>\n",
       "      <td>A0</td>\n",
       "      <td>B0</td>\n",
       "      <td>C0</td>\n",
       "      <td>D0</td>\n",
       "      <td>K0</td>\n",
       "      <td>B2</td>\n",
       "      <td>D2</td>\n",
       "      <td>F2</td>\n",
       "      <td>K0</td>\n",
       "    </tr>\n",
       "    <tr>\n",
       "      <th>1</th>\n",
       "      <td>A0</td>\n",
       "      <td>B0</td>\n",
       "      <td>C0</td>\n",
       "      <td>D0</td>\n",
       "      <td>K0</td>\n",
       "      <td>B3</td>\n",
       "      <td>D3</td>\n",
       "      <td>F3</td>\n",
       "      <td>K0</td>\n",
       "    </tr>\n",
       "    <tr>\n",
       "      <th>2</th>\n",
       "      <td>A0</td>\n",
       "      <td>B0</td>\n",
       "      <td>C0</td>\n",
       "      <td>D0</td>\n",
       "      <td>K0</td>\n",
       "      <td>B6</td>\n",
       "      <td>D6</td>\n",
       "      <td>F6</td>\n",
       "      <td>K0</td>\n",
       "    </tr>\n",
       "    <tr>\n",
       "      <th>3</th>\n",
       "      <td>A0</td>\n",
       "      <td>B0</td>\n",
       "      <td>C0</td>\n",
       "      <td>D0</td>\n",
       "      <td>K0</td>\n",
       "      <td>B7</td>\n",
       "      <td>D7</td>\n",
       "      <td>F7</td>\n",
       "      <td>K0</td>\n",
       "    </tr>\n",
       "    <tr>\n",
       "      <th>4</th>\n",
       "      <td>A1</td>\n",
       "      <td>B1</td>\n",
       "      <td>C1</td>\n",
       "      <td>D1</td>\n",
       "      <td>K0</td>\n",
       "      <td>B2</td>\n",
       "      <td>D2</td>\n",
       "      <td>F2</td>\n",
       "      <td>K0</td>\n",
       "    </tr>\n",
       "    <tr>\n",
       "      <th>5</th>\n",
       "      <td>A1</td>\n",
       "      <td>B1</td>\n",
       "      <td>C1</td>\n",
       "      <td>D1</td>\n",
       "      <td>K0</td>\n",
       "      <td>B3</td>\n",
       "      <td>D3</td>\n",
       "      <td>F3</td>\n",
       "      <td>K0</td>\n",
       "    </tr>\n",
       "    <tr>\n",
       "      <th>6</th>\n",
       "      <td>A1</td>\n",
       "      <td>B1</td>\n",
       "      <td>C1</td>\n",
       "      <td>D1</td>\n",
       "      <td>K0</td>\n",
       "      <td>B6</td>\n",
       "      <td>D6</td>\n",
       "      <td>F6</td>\n",
       "      <td>K0</td>\n",
       "    </tr>\n",
       "    <tr>\n",
       "      <th>7</th>\n",
       "      <td>A1</td>\n",
       "      <td>B1</td>\n",
       "      <td>C1</td>\n",
       "      <td>D1</td>\n",
       "      <td>K0</td>\n",
       "      <td>B7</td>\n",
       "      <td>D7</td>\n",
       "      <td>F7</td>\n",
       "      <td>K0</td>\n",
       "    </tr>\n",
       "  </tbody>\n",
       "</table>\n",
       "</div>"
      ],
      "text/plain": [
       "    A B_x   C D_x key1 B_y D_y   F key2\n",
       "0  A0  B0  C0  D0   K0  B2  D2  F2   K0\n",
       "1  A0  B0  C0  D0   K0  B3  D3  F3   K0\n",
       "2  A0  B0  C0  D0   K0  B6  D6  F6   K0\n",
       "3  A0  B0  C0  D0   K0  B7  D7  F7   K0\n",
       "4  A1  B1  C1  D1   K0  B2  D2  F2   K0\n",
       "5  A1  B1  C1  D1   K0  B3  D3  F3   K0\n",
       "6  A1  B1  C1  D1   K0  B6  D6  F6   K0\n",
       "7  A1  B1  C1  D1   K0  B7  D7  F7   K0"
      ]
     },
     "execution_count": 121,
     "metadata": {},
     "output_type": "execute_result"
    }
   ],
   "source": [
    "pd.merge(df6.iloc[:,:-1], \n",
    "         df7.loc[:,df7.columns != 'key1'], \n",
    "         left_on='key1', right_on='key2')"
   ]
  },
  {
   "cell_type": "code",
   "execution_count": 122,
   "id": "005e245e",
   "metadata": {
    "ExecuteTime": {
     "end_time": "2021-06-01T07:55:35.235013Z",
     "start_time": "2021-06-01T07:55:35.203452Z"
    }
   },
   "outputs": [
    {
     "data": {
      "text/html": [
       "<div>\n",
       "<style scoped>\n",
       "    .dataframe tbody tr th:only-of-type {\n",
       "        vertical-align: middle;\n",
       "    }\n",
       "\n",
       "    .dataframe tbody tr th {\n",
       "        vertical-align: top;\n",
       "    }\n",
       "\n",
       "    .dataframe thead th {\n",
       "        text-align: right;\n",
       "    }\n",
       "</style>\n",
       "<table border=\"1\" class=\"dataframe\">\n",
       "  <thead>\n",
       "    <tr style=\"text-align: right;\">\n",
       "      <th></th>\n",
       "      <th>A</th>\n",
       "      <th>B_x</th>\n",
       "      <th>C</th>\n",
       "      <th>D_x</th>\n",
       "      <th>key1</th>\n",
       "      <th>key2_x</th>\n",
       "      <th>B_y</th>\n",
       "      <th>D_y</th>\n",
       "      <th>F</th>\n",
       "      <th>key2_y</th>\n",
       "    </tr>\n",
       "  </thead>\n",
       "  <tbody>\n",
       "    <tr>\n",
       "      <th>0</th>\n",
       "      <td>A0</td>\n",
       "      <td>B0</td>\n",
       "      <td>C0</td>\n",
       "      <td>D0</td>\n",
       "      <td>K0</td>\n",
       "      <td>K0</td>\n",
       "      <td>B2</td>\n",
       "      <td>D2</td>\n",
       "      <td>F2</td>\n",
       "      <td>K0</td>\n",
       "    </tr>\n",
       "    <tr>\n",
       "      <th>1</th>\n",
       "      <td>A1</td>\n",
       "      <td>B1</td>\n",
       "      <td>C1</td>\n",
       "      <td>D1</td>\n",
       "      <td>K0</td>\n",
       "      <td>K1</td>\n",
       "      <td>B2</td>\n",
       "      <td>D2</td>\n",
       "      <td>F2</td>\n",
       "      <td>K0</td>\n",
       "    </tr>\n",
       "    <tr>\n",
       "      <th>2</th>\n",
       "      <td>A2</td>\n",
       "      <td>B2</td>\n",
       "      <td>C2</td>\n",
       "      <td>D2</td>\n",
       "      <td>K1</td>\n",
       "      <td>K0</td>\n",
       "      <td>B3</td>\n",
       "      <td>D3</td>\n",
       "      <td>F3</td>\n",
       "      <td>K0</td>\n",
       "    </tr>\n",
       "    <tr>\n",
       "      <th>3</th>\n",
       "      <td>A2</td>\n",
       "      <td>B2</td>\n",
       "      <td>C2</td>\n",
       "      <td>D2</td>\n",
       "      <td>K1</td>\n",
       "      <td>K0</td>\n",
       "      <td>B6</td>\n",
       "      <td>D6</td>\n",
       "      <td>F6</td>\n",
       "      <td>K0</td>\n",
       "    </tr>\n",
       "    <tr>\n",
       "      <th>4</th>\n",
       "      <td>A3</td>\n",
       "      <td>B3</td>\n",
       "      <td>C3</td>\n",
       "      <td>D3</td>\n",
       "      <td>K2</td>\n",
       "      <td>K1</td>\n",
       "      <td>B7</td>\n",
       "      <td>D7</td>\n",
       "      <td>F7</td>\n",
       "      <td>K0</td>\n",
       "    </tr>\n",
       "  </tbody>\n",
       "</table>\n",
       "</div>"
      ],
      "text/plain": [
       "    A B_x   C D_x key1 key2_x B_y D_y   F key2_y\n",
       "0  A0  B0  C0  D0   K0     K0  B2  D2  F2     K0\n",
       "1  A1  B1  C1  D1   K0     K1  B2  D2  F2     K0\n",
       "2  A2  B2  C2  D2   K1     K0  B3  D3  F3     K0\n",
       "3  A2  B2  C2  D2   K1     K0  B6  D6  F6     K0\n",
       "4  A3  B3  C3  D3   K2     K1  B7  D7  F7     K0"
      ]
     },
     "execution_count": 122,
     "metadata": {},
     "output_type": "execute_result"
    }
   ],
   "source": [
    "pd.merge(df6, df7, on='key1')"
   ]
  },
  {
   "cell_type": "code",
   "execution_count": 123,
   "id": "93474790",
   "metadata": {
    "ExecuteTime": {
     "end_time": "2021-06-01T07:55:50.225187Z",
     "start_time": "2021-06-01T07:55:50.195351Z"
    }
   },
   "outputs": [
    {
     "data": {
      "text/html": [
       "<div>\n",
       "<style scoped>\n",
       "    .dataframe tbody tr th:only-of-type {\n",
       "        vertical-align: middle;\n",
       "    }\n",
       "\n",
       "    .dataframe tbody tr th {\n",
       "        vertical-align: top;\n",
       "    }\n",
       "\n",
       "    .dataframe thead th {\n",
       "        text-align: right;\n",
       "    }\n",
       "</style>\n",
       "<table border=\"1\" class=\"dataframe\">\n",
       "  <thead>\n",
       "    <tr style=\"text-align: right;\">\n",
       "      <th></th>\n",
       "      <th>A</th>\n",
       "      <th>B_x</th>\n",
       "      <th>C</th>\n",
       "      <th>D_x</th>\n",
       "      <th>key1_x</th>\n",
       "      <th>key2</th>\n",
       "      <th>B_y</th>\n",
       "      <th>D_y</th>\n",
       "      <th>F</th>\n",
       "      <th>key1_y</th>\n",
       "    </tr>\n",
       "  </thead>\n",
       "  <tbody>\n",
       "    <tr>\n",
       "      <th>0</th>\n",
       "      <td>A0</td>\n",
       "      <td>B0</td>\n",
       "      <td>C0</td>\n",
       "      <td>D0</td>\n",
       "      <td>K0</td>\n",
       "      <td>K0</td>\n",
       "      <td>B2</td>\n",
       "      <td>D2</td>\n",
       "      <td>F2</td>\n",
       "      <td>K0</td>\n",
       "    </tr>\n",
       "    <tr>\n",
       "      <th>1</th>\n",
       "      <td>A0</td>\n",
       "      <td>B0</td>\n",
       "      <td>C0</td>\n",
       "      <td>D0</td>\n",
       "      <td>K0</td>\n",
       "      <td>K0</td>\n",
       "      <td>B3</td>\n",
       "      <td>D3</td>\n",
       "      <td>F3</td>\n",
       "      <td>K1</td>\n",
       "    </tr>\n",
       "    <tr>\n",
       "      <th>2</th>\n",
       "      <td>A0</td>\n",
       "      <td>B0</td>\n",
       "      <td>C0</td>\n",
       "      <td>D0</td>\n",
       "      <td>K0</td>\n",
       "      <td>K0</td>\n",
       "      <td>B6</td>\n",
       "      <td>D6</td>\n",
       "      <td>F6</td>\n",
       "      <td>K1</td>\n",
       "    </tr>\n",
       "    <tr>\n",
       "      <th>3</th>\n",
       "      <td>A0</td>\n",
       "      <td>B0</td>\n",
       "      <td>C0</td>\n",
       "      <td>D0</td>\n",
       "      <td>K0</td>\n",
       "      <td>K0</td>\n",
       "      <td>B7</td>\n",
       "      <td>D7</td>\n",
       "      <td>F7</td>\n",
       "      <td>K2</td>\n",
       "    </tr>\n",
       "    <tr>\n",
       "      <th>4</th>\n",
       "      <td>A2</td>\n",
       "      <td>B2</td>\n",
       "      <td>C2</td>\n",
       "      <td>D2</td>\n",
       "      <td>K1</td>\n",
       "      <td>K0</td>\n",
       "      <td>B2</td>\n",
       "      <td>D2</td>\n",
       "      <td>F2</td>\n",
       "      <td>K0</td>\n",
       "    </tr>\n",
       "    <tr>\n",
       "      <th>5</th>\n",
       "      <td>A2</td>\n",
       "      <td>B2</td>\n",
       "      <td>C2</td>\n",
       "      <td>D2</td>\n",
       "      <td>K1</td>\n",
       "      <td>K0</td>\n",
       "      <td>B3</td>\n",
       "      <td>D3</td>\n",
       "      <td>F3</td>\n",
       "      <td>K1</td>\n",
       "    </tr>\n",
       "    <tr>\n",
       "      <th>6</th>\n",
       "      <td>A2</td>\n",
       "      <td>B2</td>\n",
       "      <td>C2</td>\n",
       "      <td>D2</td>\n",
       "      <td>K1</td>\n",
       "      <td>K0</td>\n",
       "      <td>B6</td>\n",
       "      <td>D6</td>\n",
       "      <td>F6</td>\n",
       "      <td>K1</td>\n",
       "    </tr>\n",
       "    <tr>\n",
       "      <th>7</th>\n",
       "      <td>A2</td>\n",
       "      <td>B2</td>\n",
       "      <td>C2</td>\n",
       "      <td>D2</td>\n",
       "      <td>K1</td>\n",
       "      <td>K0</td>\n",
       "      <td>B7</td>\n",
       "      <td>D7</td>\n",
       "      <td>F7</td>\n",
       "      <td>K2</td>\n",
       "    </tr>\n",
       "  </tbody>\n",
       "</table>\n",
       "</div>"
      ],
      "text/plain": [
       "    A B_x   C D_x key1_x key2 B_y D_y   F key1_y\n",
       "0  A0  B0  C0  D0     K0   K0  B2  D2  F2     K0\n",
       "1  A0  B0  C0  D0     K0   K0  B3  D3  F3     K1\n",
       "2  A0  B0  C0  D0     K0   K0  B6  D6  F6     K1\n",
       "3  A0  B0  C0  D0     K0   K0  B7  D7  F7     K2\n",
       "4  A2  B2  C2  D2     K1   K0  B2  D2  F2     K0\n",
       "5  A2  B2  C2  D2     K1   K0  B3  D3  F3     K1\n",
       "6  A2  B2  C2  D2     K1   K0  B6  D6  F6     K1\n",
       "7  A2  B2  C2  D2     K1   K0  B7  D7  F7     K2"
      ]
     },
     "execution_count": 123,
     "metadata": {},
     "output_type": "execute_result"
    }
   ],
   "source": [
    "pd.merge(df6, df7, on='key2')"
   ]
  },
  {
   "cell_type": "code",
   "execution_count": 124,
   "id": "4e277d2c",
   "metadata": {
    "ExecuteTime": {
     "end_time": "2021-06-01T07:56:09.210161Z",
     "start_time": "2021-06-01T07:56:09.182769Z"
    }
   },
   "outputs": [
    {
     "data": {
      "text/html": [
       "<div>\n",
       "<style scoped>\n",
       "    .dataframe tbody tr th:only-of-type {\n",
       "        vertical-align: middle;\n",
       "    }\n",
       "\n",
       "    .dataframe tbody tr th {\n",
       "        vertical-align: top;\n",
       "    }\n",
       "\n",
       "    .dataframe thead th {\n",
       "        text-align: right;\n",
       "    }\n",
       "</style>\n",
       "<table border=\"1\" class=\"dataframe\">\n",
       "  <thead>\n",
       "    <tr style=\"text-align: right;\">\n",
       "      <th></th>\n",
       "      <th>A</th>\n",
       "      <th>B_x</th>\n",
       "      <th>C</th>\n",
       "      <th>D_x</th>\n",
       "      <th>key1</th>\n",
       "      <th>key2</th>\n",
       "      <th>B_y</th>\n",
       "      <th>D_y</th>\n",
       "      <th>F</th>\n",
       "    </tr>\n",
       "  </thead>\n",
       "  <tbody>\n",
       "    <tr>\n",
       "      <th>0</th>\n",
       "      <td>A0</td>\n",
       "      <td>B0</td>\n",
       "      <td>C0</td>\n",
       "      <td>D0</td>\n",
       "      <td>K0</td>\n",
       "      <td>K0</td>\n",
       "      <td>B2</td>\n",
       "      <td>D2</td>\n",
       "      <td>F2</td>\n",
       "    </tr>\n",
       "    <tr>\n",
       "      <th>1</th>\n",
       "      <td>A2</td>\n",
       "      <td>B2</td>\n",
       "      <td>C2</td>\n",
       "      <td>D2</td>\n",
       "      <td>K1</td>\n",
       "      <td>K0</td>\n",
       "      <td>B3</td>\n",
       "      <td>D3</td>\n",
       "      <td>F3</td>\n",
       "    </tr>\n",
       "    <tr>\n",
       "      <th>2</th>\n",
       "      <td>A2</td>\n",
       "      <td>B2</td>\n",
       "      <td>C2</td>\n",
       "      <td>D2</td>\n",
       "      <td>K1</td>\n",
       "      <td>K0</td>\n",
       "      <td>B6</td>\n",
       "      <td>D6</td>\n",
       "      <td>F6</td>\n",
       "    </tr>\n",
       "  </tbody>\n",
       "</table>\n",
       "</div>"
      ],
      "text/plain": [
       "    A B_x   C D_x key1 key2 B_y D_y   F\n",
       "0  A0  B0  C0  D0   K0   K0  B2  D2  F2\n",
       "1  A2  B2  C2  D2   K1   K0  B3  D3  F3\n",
       "2  A2  B2  C2  D2   K1   K0  B6  D6  F6"
      ]
     },
     "execution_count": 124,
     "metadata": {},
     "output_type": "execute_result"
    }
   ],
   "source": [
    "pd.merge(df6, df7, on=['key1', 'key2'])"
   ]
  },
  {
   "cell_type": "code",
   "execution_count": 125,
   "id": "eeefb268",
   "metadata": {
    "ExecuteTime": {
     "end_time": "2021-06-01T08:01:49.466147Z",
     "start_time": "2021-06-01T08:01:49.437516Z"
    }
   },
   "outputs": [
    {
     "data": {
      "text/html": [
       "<div>\n",
       "<style scoped>\n",
       "    .dataframe tbody tr th:only-of-type {\n",
       "        vertical-align: middle;\n",
       "    }\n",
       "\n",
       "    .dataframe tbody tr th {\n",
       "        vertical-align: top;\n",
       "    }\n",
       "\n",
       "    .dataframe thead th {\n",
       "        text-align: right;\n",
       "    }\n",
       "</style>\n",
       "<table border=\"1\" class=\"dataframe\">\n",
       "  <thead>\n",
       "    <tr style=\"text-align: right;\">\n",
       "      <th></th>\n",
       "      <th>A</th>\n",
       "      <th>B_x</th>\n",
       "      <th>C</th>\n",
       "      <th>D_x</th>\n",
       "      <th>key1</th>\n",
       "      <th>key2</th>\n",
       "      <th>B_y</th>\n",
       "      <th>D_y</th>\n",
       "      <th>F</th>\n",
       "    </tr>\n",
       "  </thead>\n",
       "  <tbody>\n",
       "    <tr>\n",
       "      <th>0</th>\n",
       "      <td>A0</td>\n",
       "      <td>B0</td>\n",
       "      <td>C0</td>\n",
       "      <td>D0</td>\n",
       "      <td>K0</td>\n",
       "      <td>K0</td>\n",
       "      <td>B2</td>\n",
       "      <td>D2</td>\n",
       "      <td>F2</td>\n",
       "    </tr>\n",
       "    <tr>\n",
       "      <th>1</th>\n",
       "      <td>A2</td>\n",
       "      <td>B2</td>\n",
       "      <td>C2</td>\n",
       "      <td>D2</td>\n",
       "      <td>K1</td>\n",
       "      <td>K0</td>\n",
       "      <td>B3</td>\n",
       "      <td>D3</td>\n",
       "      <td>F3</td>\n",
       "    </tr>\n",
       "    <tr>\n",
       "      <th>2</th>\n",
       "      <td>A2</td>\n",
       "      <td>B2</td>\n",
       "      <td>C2</td>\n",
       "      <td>D2</td>\n",
       "      <td>K1</td>\n",
       "      <td>K0</td>\n",
       "      <td>B6</td>\n",
       "      <td>D6</td>\n",
       "      <td>F6</td>\n",
       "    </tr>\n",
       "  </tbody>\n",
       "</table>\n",
       "</div>"
      ],
      "text/plain": [
       "    A B_x   C D_x key1 key2 B_y D_y   F\n",
       "0  A0  B0  C0  D0   K0   K0  B2  D2  F2\n",
       "1  A2  B2  C2  D2   K1   K0  B3  D3  F3\n",
       "2  A2  B2  C2  D2   K1   K0  B6  D6  F6"
      ]
     },
     "execution_count": 125,
     "metadata": {},
     "output_type": "execute_result"
    }
   ],
   "source": [
    "pd.merge(df6, df7, on=['key1', 'key2'], how='inner')"
   ]
  },
  {
   "cell_type": "code",
   "execution_count": 126,
   "id": "76b3afb9",
   "metadata": {
    "ExecuteTime": {
     "end_time": "2021-06-01T08:02:29.238121Z",
     "start_time": "2021-06-01T08:02:29.209126Z"
    }
   },
   "outputs": [
    {
     "data": {
      "text/html": [
       "<div>\n",
       "<style scoped>\n",
       "    .dataframe tbody tr th:only-of-type {\n",
       "        vertical-align: middle;\n",
       "    }\n",
       "\n",
       "    .dataframe tbody tr th {\n",
       "        vertical-align: top;\n",
       "    }\n",
       "\n",
       "    .dataframe thead th {\n",
       "        text-align: right;\n",
       "    }\n",
       "</style>\n",
       "<table border=\"1\" class=\"dataframe\">\n",
       "  <thead>\n",
       "    <tr style=\"text-align: right;\">\n",
       "      <th></th>\n",
       "      <th>A</th>\n",
       "      <th>B_x</th>\n",
       "      <th>C</th>\n",
       "      <th>D_x</th>\n",
       "      <th>key1</th>\n",
       "      <th>key2</th>\n",
       "      <th>B_y</th>\n",
       "      <th>D_y</th>\n",
       "      <th>F</th>\n",
       "    </tr>\n",
       "  </thead>\n",
       "  <tbody>\n",
       "    <tr>\n",
       "      <th>0</th>\n",
       "      <td>A0</td>\n",
       "      <td>B0</td>\n",
       "      <td>C0</td>\n",
       "      <td>D0</td>\n",
       "      <td>K0</td>\n",
       "      <td>K0</td>\n",
       "      <td>B2</td>\n",
       "      <td>D2</td>\n",
       "      <td>F2</td>\n",
       "    </tr>\n",
       "    <tr>\n",
       "      <th>1</th>\n",
       "      <td>A1</td>\n",
       "      <td>B1</td>\n",
       "      <td>C1</td>\n",
       "      <td>D1</td>\n",
       "      <td>K0</td>\n",
       "      <td>K1</td>\n",
       "      <td>NaN</td>\n",
       "      <td>NaN</td>\n",
       "      <td>NaN</td>\n",
       "    </tr>\n",
       "    <tr>\n",
       "      <th>2</th>\n",
       "      <td>A2</td>\n",
       "      <td>B2</td>\n",
       "      <td>C2</td>\n",
       "      <td>D2</td>\n",
       "      <td>K1</td>\n",
       "      <td>K0</td>\n",
       "      <td>B3</td>\n",
       "      <td>D3</td>\n",
       "      <td>F3</td>\n",
       "    </tr>\n",
       "    <tr>\n",
       "      <th>3</th>\n",
       "      <td>A2</td>\n",
       "      <td>B2</td>\n",
       "      <td>C2</td>\n",
       "      <td>D2</td>\n",
       "      <td>K1</td>\n",
       "      <td>K0</td>\n",
       "      <td>B6</td>\n",
       "      <td>D6</td>\n",
       "      <td>F6</td>\n",
       "    </tr>\n",
       "    <tr>\n",
       "      <th>4</th>\n",
       "      <td>A3</td>\n",
       "      <td>B3</td>\n",
       "      <td>C3</td>\n",
       "      <td>D3</td>\n",
       "      <td>K2</td>\n",
       "      <td>K1</td>\n",
       "      <td>NaN</td>\n",
       "      <td>NaN</td>\n",
       "      <td>NaN</td>\n",
       "    </tr>\n",
       "  </tbody>\n",
       "</table>\n",
       "</div>"
      ],
      "text/plain": [
       "    A B_x   C D_x key1 key2  B_y  D_y    F\n",
       "0  A0  B0  C0  D0   K0   K0   B2   D2   F2\n",
       "1  A1  B1  C1  D1   K0   K1  NaN  NaN  NaN\n",
       "2  A2  B2  C2  D2   K1   K0   B3   D3   F3\n",
       "3  A2  B2  C2  D2   K1   K0   B6   D6   F6\n",
       "4  A3  B3  C3  D3   K2   K1  NaN  NaN  NaN"
      ]
     },
     "execution_count": 126,
     "metadata": {},
     "output_type": "execute_result"
    }
   ],
   "source": [
    "pd.merge(df6, df7, on=['key1', 'key2'], how='left')"
   ]
  },
  {
   "cell_type": "code",
   "execution_count": 127,
   "id": "f940f007",
   "metadata": {
    "ExecuteTime": {
     "end_time": "2021-06-01T08:03:16.553473Z",
     "start_time": "2021-06-01T08:03:16.525394Z"
    }
   },
   "outputs": [
    {
     "data": {
      "text/html": [
       "<div>\n",
       "<style scoped>\n",
       "    .dataframe tbody tr th:only-of-type {\n",
       "        vertical-align: middle;\n",
       "    }\n",
       "\n",
       "    .dataframe tbody tr th {\n",
       "        vertical-align: top;\n",
       "    }\n",
       "\n",
       "    .dataframe thead th {\n",
       "        text-align: right;\n",
       "    }\n",
       "</style>\n",
       "<table border=\"1\" class=\"dataframe\">\n",
       "  <thead>\n",
       "    <tr style=\"text-align: right;\">\n",
       "      <th></th>\n",
       "      <th>A</th>\n",
       "      <th>B_x</th>\n",
       "      <th>C</th>\n",
       "      <th>D_x</th>\n",
       "      <th>key1</th>\n",
       "      <th>key2</th>\n",
       "      <th>B_y</th>\n",
       "      <th>D_y</th>\n",
       "      <th>F</th>\n",
       "    </tr>\n",
       "  </thead>\n",
       "  <tbody>\n",
       "    <tr>\n",
       "      <th>0</th>\n",
       "      <td>A0</td>\n",
       "      <td>B0</td>\n",
       "      <td>C0</td>\n",
       "      <td>D0</td>\n",
       "      <td>K0</td>\n",
       "      <td>K0</td>\n",
       "      <td>B2</td>\n",
       "      <td>D2</td>\n",
       "      <td>F2</td>\n",
       "    </tr>\n",
       "    <tr>\n",
       "      <th>1</th>\n",
       "      <td>A2</td>\n",
       "      <td>B2</td>\n",
       "      <td>C2</td>\n",
       "      <td>D2</td>\n",
       "      <td>K1</td>\n",
       "      <td>K0</td>\n",
       "      <td>B3</td>\n",
       "      <td>D3</td>\n",
       "      <td>F3</td>\n",
       "    </tr>\n",
       "    <tr>\n",
       "      <th>2</th>\n",
       "      <td>A2</td>\n",
       "      <td>B2</td>\n",
       "      <td>C2</td>\n",
       "      <td>D2</td>\n",
       "      <td>K1</td>\n",
       "      <td>K0</td>\n",
       "      <td>B6</td>\n",
       "      <td>D6</td>\n",
       "      <td>F6</td>\n",
       "    </tr>\n",
       "    <tr>\n",
       "      <th>3</th>\n",
       "      <td>NaN</td>\n",
       "      <td>NaN</td>\n",
       "      <td>NaN</td>\n",
       "      <td>NaN</td>\n",
       "      <td>K2</td>\n",
       "      <td>K0</td>\n",
       "      <td>B7</td>\n",
       "      <td>D7</td>\n",
       "      <td>F7</td>\n",
       "    </tr>\n",
       "  </tbody>\n",
       "</table>\n",
       "</div>"
      ],
      "text/plain": [
       "     A  B_x    C  D_x key1 key2 B_y D_y   F\n",
       "0   A0   B0   C0   D0   K0   K0  B2  D2  F2\n",
       "1   A2   B2   C2   D2   K1   K0  B3  D3  F3\n",
       "2   A2   B2   C2   D2   K1   K0  B6  D6  F6\n",
       "3  NaN  NaN  NaN  NaN   K2   K0  B7  D7  F7"
      ]
     },
     "execution_count": 127,
     "metadata": {},
     "output_type": "execute_result"
    }
   ],
   "source": [
    "pd.merge(df6, df7, on=['key1', 'key2'], how='right')"
   ]
  },
  {
   "cell_type": "code",
   "execution_count": 128,
   "id": "ae4d31d0",
   "metadata": {
    "ExecuteTime": {
     "end_time": "2021-06-01T08:03:47.878708Z",
     "start_time": "2021-06-01T08:03:47.847318Z"
    }
   },
   "outputs": [
    {
     "data": {
      "text/html": [
       "<div>\n",
       "<style scoped>\n",
       "    .dataframe tbody tr th:only-of-type {\n",
       "        vertical-align: middle;\n",
       "    }\n",
       "\n",
       "    .dataframe tbody tr th {\n",
       "        vertical-align: top;\n",
       "    }\n",
       "\n",
       "    .dataframe thead th {\n",
       "        text-align: right;\n",
       "    }\n",
       "</style>\n",
       "<table border=\"1\" class=\"dataframe\">\n",
       "  <thead>\n",
       "    <tr style=\"text-align: right;\">\n",
       "      <th></th>\n",
       "      <th>A</th>\n",
       "      <th>B_x</th>\n",
       "      <th>C</th>\n",
       "      <th>D_x</th>\n",
       "      <th>key1</th>\n",
       "      <th>key2</th>\n",
       "      <th>B_y</th>\n",
       "      <th>D_y</th>\n",
       "      <th>F</th>\n",
       "    </tr>\n",
       "  </thead>\n",
       "  <tbody>\n",
       "    <tr>\n",
       "      <th>0</th>\n",
       "      <td>A0</td>\n",
       "      <td>B0</td>\n",
       "      <td>C0</td>\n",
       "      <td>D0</td>\n",
       "      <td>K0</td>\n",
       "      <td>K0</td>\n",
       "      <td>B2</td>\n",
       "      <td>D2</td>\n",
       "      <td>F2</td>\n",
       "    </tr>\n",
       "    <tr>\n",
       "      <th>1</th>\n",
       "      <td>A1</td>\n",
       "      <td>B1</td>\n",
       "      <td>C1</td>\n",
       "      <td>D1</td>\n",
       "      <td>K0</td>\n",
       "      <td>K1</td>\n",
       "      <td>NaN</td>\n",
       "      <td>NaN</td>\n",
       "      <td>NaN</td>\n",
       "    </tr>\n",
       "    <tr>\n",
       "      <th>2</th>\n",
       "      <td>A2</td>\n",
       "      <td>B2</td>\n",
       "      <td>C2</td>\n",
       "      <td>D2</td>\n",
       "      <td>K1</td>\n",
       "      <td>K0</td>\n",
       "      <td>B3</td>\n",
       "      <td>D3</td>\n",
       "      <td>F3</td>\n",
       "    </tr>\n",
       "    <tr>\n",
       "      <th>3</th>\n",
       "      <td>A2</td>\n",
       "      <td>B2</td>\n",
       "      <td>C2</td>\n",
       "      <td>D2</td>\n",
       "      <td>K1</td>\n",
       "      <td>K0</td>\n",
       "      <td>B6</td>\n",
       "      <td>D6</td>\n",
       "      <td>F6</td>\n",
       "    </tr>\n",
       "    <tr>\n",
       "      <th>4</th>\n",
       "      <td>A3</td>\n",
       "      <td>B3</td>\n",
       "      <td>C3</td>\n",
       "      <td>D3</td>\n",
       "      <td>K2</td>\n",
       "      <td>K1</td>\n",
       "      <td>NaN</td>\n",
       "      <td>NaN</td>\n",
       "      <td>NaN</td>\n",
       "    </tr>\n",
       "    <tr>\n",
       "      <th>5</th>\n",
       "      <td>NaN</td>\n",
       "      <td>NaN</td>\n",
       "      <td>NaN</td>\n",
       "      <td>NaN</td>\n",
       "      <td>K2</td>\n",
       "      <td>K0</td>\n",
       "      <td>B7</td>\n",
       "      <td>D7</td>\n",
       "      <td>F7</td>\n",
       "    </tr>\n",
       "  </tbody>\n",
       "</table>\n",
       "</div>"
      ],
      "text/plain": [
       "     A  B_x    C  D_x key1 key2  B_y  D_y    F\n",
       "0   A0   B0   C0   D0   K0   K0   B2   D2   F2\n",
       "1   A1   B1   C1   D1   K0   K1  NaN  NaN  NaN\n",
       "2   A2   B2   C2   D2   K1   K0   B3   D3   F3\n",
       "3   A2   B2   C2   D2   K1   K0   B6   D6   F6\n",
       "4   A3   B3   C3   D3   K2   K1  NaN  NaN  NaN\n",
       "5  NaN  NaN  NaN  NaN   K2   K0   B7   D7   F7"
      ]
     },
     "execution_count": 128,
     "metadata": {},
     "output_type": "execute_result"
    }
   ],
   "source": [
    "pd.merge(df6, df7, on=['key1', 'key2'], how='outer')"
   ]
  },
  {
   "cell_type": "code",
   "execution_count": 129,
   "id": "4d64f315",
   "metadata": {
    "ExecuteTime": {
     "end_time": "2021-06-01T08:07:39.121430Z",
     "start_time": "2021-06-01T08:07:39.093531Z"
    }
   },
   "outputs": [
    {
     "data": {
      "text/html": [
       "<div>\n",
       "<style scoped>\n",
       "    .dataframe tbody tr th:only-of-type {\n",
       "        vertical-align: middle;\n",
       "    }\n",
       "\n",
       "    .dataframe tbody tr th {\n",
       "        vertical-align: top;\n",
       "    }\n",
       "\n",
       "    .dataframe thead th {\n",
       "        text-align: right;\n",
       "    }\n",
       "</style>\n",
       "<table border=\"1\" class=\"dataframe\">\n",
       "  <thead>\n",
       "    <tr style=\"text-align: right;\">\n",
       "      <th></th>\n",
       "      <th>A</th>\n",
       "      <th>B_x</th>\n",
       "      <th>C</th>\n",
       "      <th>D_x</th>\n",
       "      <th>key1_x</th>\n",
       "      <th>key2_x</th>\n",
       "      <th>B_y</th>\n",
       "      <th>D_y</th>\n",
       "      <th>F</th>\n",
       "      <th>key1_y</th>\n",
       "      <th>key2_y</th>\n",
       "    </tr>\n",
       "  </thead>\n",
       "  <tbody>\n",
       "    <tr>\n",
       "      <th>2</th>\n",
       "      <td>A2</td>\n",
       "      <td>B2</td>\n",
       "      <td>C2</td>\n",
       "      <td>D2</td>\n",
       "      <td>K1</td>\n",
       "      <td>K0</td>\n",
       "      <td>B2</td>\n",
       "      <td>D2</td>\n",
       "      <td>F2</td>\n",
       "      <td>K0</td>\n",
       "      <td>K0</td>\n",
       "    </tr>\n",
       "    <tr>\n",
       "      <th>3</th>\n",
       "      <td>A3</td>\n",
       "      <td>B3</td>\n",
       "      <td>C3</td>\n",
       "      <td>D3</td>\n",
       "      <td>K2</td>\n",
       "      <td>K1</td>\n",
       "      <td>B3</td>\n",
       "      <td>D3</td>\n",
       "      <td>F3</td>\n",
       "      <td>K1</td>\n",
       "      <td>K0</td>\n",
       "    </tr>\n",
       "  </tbody>\n",
       "</table>\n",
       "</div>"
      ],
      "text/plain": [
       "    A B_x   C D_x key1_x key2_x B_y D_y   F key1_y key2_y\n",
       "2  A2  B2  C2  D2     K1     K0  B2  D2  F2     K0     K0\n",
       "3  A3  B3  C3  D3     K2     K1  B3  D3  F3     K1     K0"
      ]
     },
     "execution_count": 129,
     "metadata": {},
     "output_type": "execute_result"
    }
   ],
   "source": [
    "pd.merge(df6, df7, left_index=True, right_index=True)"
   ]
  },
  {
   "cell_type": "code",
   "execution_count": 130,
   "id": "af94f945",
   "metadata": {
    "ExecuteTime": {
     "end_time": "2021-06-01T08:08:18.237879Z",
     "start_time": "2021-06-01T08:08:18.211317Z"
    }
   },
   "outputs": [
    {
     "data": {
      "text/html": [
       "<div>\n",
       "<style scoped>\n",
       "    .dataframe tbody tr th:only-of-type {\n",
       "        vertical-align: middle;\n",
       "    }\n",
       "\n",
       "    .dataframe tbody tr th {\n",
       "        vertical-align: top;\n",
       "    }\n",
       "\n",
       "    .dataframe thead th {\n",
       "        text-align: right;\n",
       "    }\n",
       "</style>\n",
       "<table border=\"1\" class=\"dataframe\">\n",
       "  <thead>\n",
       "    <tr style=\"text-align: right;\">\n",
       "      <th></th>\n",
       "      <th>A</th>\n",
       "      <th>B_x</th>\n",
       "      <th>C</th>\n",
       "      <th>D_x</th>\n",
       "      <th>key1_x</th>\n",
       "      <th>key2_x</th>\n",
       "      <th>B_y</th>\n",
       "      <th>D_y</th>\n",
       "      <th>F</th>\n",
       "      <th>key1_y</th>\n",
       "      <th>key2_y</th>\n",
       "    </tr>\n",
       "  </thead>\n",
       "  <tbody>\n",
       "    <tr>\n",
       "      <th>0</th>\n",
       "      <td>A0</td>\n",
       "      <td>B0</td>\n",
       "      <td>C0</td>\n",
       "      <td>D0</td>\n",
       "      <td>K0</td>\n",
       "      <td>K0</td>\n",
       "      <td>NaN</td>\n",
       "      <td>NaN</td>\n",
       "      <td>NaN</td>\n",
       "      <td>NaN</td>\n",
       "      <td>NaN</td>\n",
       "    </tr>\n",
       "    <tr>\n",
       "      <th>1</th>\n",
       "      <td>A1</td>\n",
       "      <td>B1</td>\n",
       "      <td>C1</td>\n",
       "      <td>D1</td>\n",
       "      <td>K0</td>\n",
       "      <td>K1</td>\n",
       "      <td>NaN</td>\n",
       "      <td>NaN</td>\n",
       "      <td>NaN</td>\n",
       "      <td>NaN</td>\n",
       "      <td>NaN</td>\n",
       "    </tr>\n",
       "    <tr>\n",
       "      <th>2</th>\n",
       "      <td>A2</td>\n",
       "      <td>B2</td>\n",
       "      <td>C2</td>\n",
       "      <td>D2</td>\n",
       "      <td>K1</td>\n",
       "      <td>K0</td>\n",
       "      <td>B2</td>\n",
       "      <td>D2</td>\n",
       "      <td>F2</td>\n",
       "      <td>K0</td>\n",
       "      <td>K0</td>\n",
       "    </tr>\n",
       "    <tr>\n",
       "      <th>3</th>\n",
       "      <td>A3</td>\n",
       "      <td>B3</td>\n",
       "      <td>C3</td>\n",
       "      <td>D3</td>\n",
       "      <td>K2</td>\n",
       "      <td>K1</td>\n",
       "      <td>B3</td>\n",
       "      <td>D3</td>\n",
       "      <td>F3</td>\n",
       "      <td>K1</td>\n",
       "      <td>K0</td>\n",
       "    </tr>\n",
       "  </tbody>\n",
       "</table>\n",
       "</div>"
      ],
      "text/plain": [
       "    A B_x   C D_x key1_x key2_x  B_y  D_y    F key1_y key2_y\n",
       "0  A0  B0  C0  D0     K0     K0  NaN  NaN  NaN    NaN    NaN\n",
       "1  A1  B1  C1  D1     K0     K1  NaN  NaN  NaN    NaN    NaN\n",
       "2  A2  B2  C2  D2     K1     K0   B2   D2   F2     K0     K0\n",
       "3  A3  B3  C3  D3     K2     K1   B3   D3   F3     K1     K0"
      ]
     },
     "execution_count": 130,
     "metadata": {},
     "output_type": "execute_result"
    }
   ],
   "source": [
    "pd.merge(df6, df7, left_index=True, right_index=True,\n",
    "         how='left')"
   ]
  },
  {
   "cell_type": "code",
   "execution_count": 131,
   "id": "3804e8d9",
   "metadata": {
    "ExecuteTime": {
     "end_time": "2021-06-01T08:09:33.402581Z",
     "start_time": "2021-06-01T08:09:33.375279Z"
    }
   },
   "outputs": [
    {
     "data": {
      "text/html": [
       "<div>\n",
       "<style scoped>\n",
       "    .dataframe tbody tr th:only-of-type {\n",
       "        vertical-align: middle;\n",
       "    }\n",
       "\n",
       "    .dataframe tbody tr th {\n",
       "        vertical-align: top;\n",
       "    }\n",
       "\n",
       "    .dataframe thead th {\n",
       "        text-align: right;\n",
       "    }\n",
       "</style>\n",
       "<table border=\"1\" class=\"dataframe\">\n",
       "  <thead>\n",
       "    <tr style=\"text-align: right;\">\n",
       "      <th></th>\n",
       "      <th>A</th>\n",
       "      <th>B_x</th>\n",
       "      <th>C</th>\n",
       "      <th>D_x</th>\n",
       "      <th>key1_x</th>\n",
       "      <th>key2_x</th>\n",
       "      <th>B_y</th>\n",
       "      <th>D_y</th>\n",
       "      <th>F</th>\n",
       "      <th>key1_y</th>\n",
       "      <th>key2_y</th>\n",
       "    </tr>\n",
       "  </thead>\n",
       "  <tbody>\n",
       "    <tr>\n",
       "      <th>0</th>\n",
       "      <td>A0</td>\n",
       "      <td>B0</td>\n",
       "      <td>C0</td>\n",
       "      <td>D0</td>\n",
       "      <td>K0</td>\n",
       "      <td>K0</td>\n",
       "      <td>NaN</td>\n",
       "      <td>NaN</td>\n",
       "      <td>NaN</td>\n",
       "      <td>NaN</td>\n",
       "      <td>NaN</td>\n",
       "    </tr>\n",
       "    <tr>\n",
       "      <th>1</th>\n",
       "      <td>A1</td>\n",
       "      <td>B1</td>\n",
       "      <td>C1</td>\n",
       "      <td>D1</td>\n",
       "      <td>K0</td>\n",
       "      <td>K1</td>\n",
       "      <td>NaN</td>\n",
       "      <td>NaN</td>\n",
       "      <td>NaN</td>\n",
       "      <td>NaN</td>\n",
       "      <td>NaN</td>\n",
       "    </tr>\n",
       "    <tr>\n",
       "      <th>2</th>\n",
       "      <td>A2</td>\n",
       "      <td>B2</td>\n",
       "      <td>C2</td>\n",
       "      <td>D2</td>\n",
       "      <td>K1</td>\n",
       "      <td>K0</td>\n",
       "      <td>B2</td>\n",
       "      <td>D2</td>\n",
       "      <td>F2</td>\n",
       "      <td>K0</td>\n",
       "      <td>K0</td>\n",
       "    </tr>\n",
       "    <tr>\n",
       "      <th>3</th>\n",
       "      <td>A3</td>\n",
       "      <td>B3</td>\n",
       "      <td>C3</td>\n",
       "      <td>D3</td>\n",
       "      <td>K2</td>\n",
       "      <td>K1</td>\n",
       "      <td>B3</td>\n",
       "      <td>D3</td>\n",
       "      <td>F3</td>\n",
       "      <td>K1</td>\n",
       "      <td>K0</td>\n",
       "    </tr>\n",
       "  </tbody>\n",
       "</table>\n",
       "</div>"
      ],
      "text/plain": [
       "    A B_x   C D_x key1_x key2_x  B_y  D_y    F key1_y key2_y\n",
       "0  A0  B0  C0  D0     K0     K0  NaN  NaN  NaN    NaN    NaN\n",
       "1  A1  B1  C1  D1     K0     K1  NaN  NaN  NaN    NaN    NaN\n",
       "2  A2  B2  C2  D2     K1     K0   B2   D2   F2     K0     K0\n",
       "3  A3  B3  C3  D3     K2     K1   B3   D3   F3     K1     K0"
      ]
     },
     "execution_count": 131,
     "metadata": {},
     "output_type": "execute_result"
    }
   ],
   "source": [
    "df6.join(df7, lsuffix='_x', rsuffix='_y')"
   ]
  },
  {
   "cell_type": "code",
   "execution_count": 132,
   "id": "7002e5f2",
   "metadata": {},
   "outputs": [
    {
     "data": {
      "text/html": [
       "<div>\n",
       "<style scoped>\n",
       "    .dataframe tbody tr th:only-of-type {\n",
       "        vertical-align: middle;\n",
       "    }\n",
       "\n",
       "    .dataframe tbody tr th {\n",
       "        vertical-align: top;\n",
       "    }\n",
       "\n",
       "    .dataframe thead th {\n",
       "        text-align: right;\n",
       "    }\n",
       "</style>\n",
       "<table border=\"1\" class=\"dataframe\">\n",
       "  <thead>\n",
       "    <tr style=\"text-align: right;\">\n",
       "      <th></th>\n",
       "      <th>A</th>\n",
       "      <th>B_x</th>\n",
       "      <th>C</th>\n",
       "      <th>D_x</th>\n",
       "      <th>key1_x</th>\n",
       "      <th>key2_x</th>\n",
       "      <th>B_y</th>\n",
       "      <th>D_y</th>\n",
       "      <th>F</th>\n",
       "      <th>key1_y</th>\n",
       "      <th>key2_y</th>\n",
       "    </tr>\n",
       "  </thead>\n",
       "  <tbody>\n",
       "    <tr>\n",
       "      <th>0</th>\n",
       "      <td>A0</td>\n",
       "      <td>B0</td>\n",
       "      <td>C0</td>\n",
       "      <td>D0</td>\n",
       "      <td>K0</td>\n",
       "      <td>K0</td>\n",
       "      <td>NaN</td>\n",
       "      <td>NaN</td>\n",
       "      <td>NaN</td>\n",
       "      <td>NaN</td>\n",
       "      <td>NaN</td>\n",
       "    </tr>\n",
       "    <tr>\n",
       "      <th>1</th>\n",
       "      <td>A1</td>\n",
       "      <td>B1</td>\n",
       "      <td>C1</td>\n",
       "      <td>D1</td>\n",
       "      <td>K0</td>\n",
       "      <td>K1</td>\n",
       "      <td>NaN</td>\n",
       "      <td>NaN</td>\n",
       "      <td>NaN</td>\n",
       "      <td>NaN</td>\n",
       "      <td>NaN</td>\n",
       "    </tr>\n",
       "    <tr>\n",
       "      <th>2</th>\n",
       "      <td>A2</td>\n",
       "      <td>B2</td>\n",
       "      <td>C2</td>\n",
       "      <td>D2</td>\n",
       "      <td>K1</td>\n",
       "      <td>K0</td>\n",
       "      <td>B2</td>\n",
       "      <td>D2</td>\n",
       "      <td>F2</td>\n",
       "      <td>K0</td>\n",
       "      <td>K0</td>\n",
       "    </tr>\n",
       "    <tr>\n",
       "      <th>3</th>\n",
       "      <td>A3</td>\n",
       "      <td>B3</td>\n",
       "      <td>C3</td>\n",
       "      <td>D3</td>\n",
       "      <td>K2</td>\n",
       "      <td>K1</td>\n",
       "      <td>B3</td>\n",
       "      <td>D3</td>\n",
       "      <td>F3</td>\n",
       "      <td>K1</td>\n",
       "      <td>K0</td>\n",
       "    </tr>\n",
       "  </tbody>\n",
       "</table>\n",
       "</div>"
      ],
      "text/plain": [
       "    A B_x   C D_x key1_x key2_x  B_y  D_y    F key1_y key2_y\n",
       "0  A0  B0  C0  D0     K0     K0  NaN  NaN  NaN    NaN    NaN\n",
       "1  A1  B1  C1  D1     K0     K1  NaN  NaN  NaN    NaN    NaN\n",
       "2  A2  B2  C2  D2     K1     K0   B2   D2   F2     K0     K0\n",
       "3  A3  B3  C3  D3     K2     K1   B3   D3   F3     K1     K0"
      ]
     },
     "execution_count": 132,
     "metadata": {},
     "output_type": "execute_result"
    }
   ],
   "source": [
    "df6.join(df7, lsuffix='_x', rsuffix='_y')"
   ]
  }
 ],
 "metadata": {
  "kernelspec": {
   "display_name": "Python 3",
   "language": "python",
   "name": "python3"
  },
  "language_info": {
   "codemirror_mode": {
    "name": "ipython",
    "version": 3
   },
   "file_extension": ".py",
   "mimetype": "text/x-python",
   "name": "python",
   "nbconvert_exporter": "python",
   "pygments_lexer": "ipython3",
   "version": "3.7.7"
  }
 },
 "nbformat": 4,
 "nbformat_minor": 5
}
