{
 "cells": [
  {
   "cell_type": "code",
   "execution_count": 1,
   "id": "ecfcd9ac",
   "metadata": {
    "ExecuteTime": {
     "end_time": "2021-05-17T05:17:20.242878Z",
     "start_time": "2021-05-17T05:17:20.221897Z"
    }
   },
   "outputs": [],
   "source": [
    "a = [1, 2, 3]"
   ]
  },
  {
   "cell_type": "code",
   "execution_count": 2,
   "id": "b9b1e835",
   "metadata": {
    "ExecuteTime": {
     "end_time": "2021-05-17T05:17:32.760153Z",
     "start_time": "2021-05-17T05:17:32.755326Z"
    }
   },
   "outputs": [],
   "source": [
    "a_list = [a, 'b', 'c']"
   ]
  },
  {
   "cell_type": "code",
   "execution_count": 3,
   "id": "fb028c45",
   "metadata": {
    "ExecuteTime": {
     "end_time": "2021-05-17T05:17:42.166949Z",
     "start_time": "2021-05-17T05:17:42.161543Z"
    }
   },
   "outputs": [],
   "source": [
    "b_list = [1, 2, a]"
   ]
  },
  {
   "cell_type": "code",
   "execution_count": 4,
   "id": "a24ab354",
   "metadata": {
    "ExecuteTime": {
     "end_time": "2021-05-17T05:17:44.861377Z",
     "start_time": "2021-05-17T05:17:44.839239Z"
    }
   },
   "outputs": [
    {
     "data": {
      "text/plain": [
       "[[1, 2, 3], 'b', 'c']"
      ]
     },
     "execution_count": 4,
     "metadata": {},
     "output_type": "execute_result"
    }
   ],
   "source": [
    "a_list"
   ]
  },
  {
   "cell_type": "code",
   "execution_count": 5,
   "id": "68b82944",
   "metadata": {
    "ExecuteTime": {
     "end_time": "2021-05-17T05:17:48.138189Z",
     "start_time": "2021-05-17T05:17:48.129960Z"
    }
   },
   "outputs": [
    {
     "data": {
      "text/plain": [
       "[1, 2, [1, 2, 3]]"
      ]
     },
     "execution_count": 5,
     "metadata": {},
     "output_type": "execute_result"
    }
   ],
   "source": [
    "b_list"
   ]
  },
  {
   "cell_type": "code",
   "execution_count": 6,
   "id": "307cf025",
   "metadata": {
    "ExecuteTime": {
     "end_time": "2021-05-17T05:17:55.911889Z",
     "start_time": "2021-05-17T05:17:55.903834Z"
    }
   },
   "outputs": [
    {
     "data": {
      "text/plain": [
       "[1, 2, 3]"
      ]
     },
     "execution_count": 6,
     "metadata": {},
     "output_type": "execute_result"
    }
   ],
   "source": [
    "a_list[0]"
   ]
  },
  {
   "cell_type": "code",
   "execution_count": 7,
   "id": "a2baf5d6",
   "metadata": {
    "ExecuteTime": {
     "end_time": "2021-05-17T05:18:09.781810Z",
     "start_time": "2021-05-17T05:18:09.776398Z"
    }
   },
   "outputs": [],
   "source": [
    "a_list[0][0] = 10"
   ]
  },
  {
   "cell_type": "code",
   "execution_count": 8,
   "id": "04d5b3f3",
   "metadata": {
    "ExecuteTime": {
     "end_time": "2021-05-17T05:18:13.222286Z",
     "start_time": "2021-05-17T05:18:13.214557Z"
    }
   },
   "outputs": [
    {
     "data": {
      "text/plain": [
       "[[10, 2, 3], 'b', 'c']"
      ]
     },
     "execution_count": 8,
     "metadata": {},
     "output_type": "execute_result"
    }
   ],
   "source": [
    "a_list"
   ]
  },
  {
   "cell_type": "code",
   "execution_count": 9,
   "id": "323a2361",
   "metadata": {
    "ExecuteTime": {
     "end_time": "2021-05-17T05:18:17.406510Z",
     "start_time": "2021-05-17T05:18:17.398515Z"
    }
   },
   "outputs": [
    {
     "data": {
      "text/plain": [
       "[1, 2, [10, 2, 3]]"
      ]
     },
     "execution_count": 9,
     "metadata": {},
     "output_type": "execute_result"
    }
   ],
   "source": [
    "b_list"
   ]
  },
  {
   "cell_type": "code",
   "execution_count": 11,
   "id": "0f88cbdc",
   "metadata": {
    "ExecuteTime": {
     "end_time": "2021-05-17T05:18:57.359324Z",
     "start_time": "2021-05-17T05:18:57.354359Z"
    }
   },
   "outputs": [],
   "source": [
    "c_list = list(a_list)"
   ]
  },
  {
   "cell_type": "code",
   "execution_count": 12,
   "id": "1f65ec58",
   "metadata": {
    "ExecuteTime": {
     "end_time": "2021-05-17T05:19:02.247201Z",
     "start_time": "2021-05-17T05:19:02.239233Z"
    }
   },
   "outputs": [
    {
     "data": {
      "text/plain": [
       "[[10, 2, 3], 'b', 'c']"
      ]
     },
     "execution_count": 12,
     "metadata": {},
     "output_type": "execute_result"
    }
   ],
   "source": [
    "c_list"
   ]
  },
  {
   "cell_type": "code",
   "execution_count": 13,
   "id": "c06a87b2",
   "metadata": {
    "ExecuteTime": {
     "end_time": "2021-05-17T05:19:12.570027Z",
     "start_time": "2021-05-17T05:19:12.564378Z"
    }
   },
   "outputs": [],
   "source": [
    "c_list[0][1] = 20"
   ]
  },
  {
   "cell_type": "code",
   "execution_count": 14,
   "id": "b1e3ee52",
   "metadata": {
    "ExecuteTime": {
     "end_time": "2021-05-17T05:19:43.570332Z",
     "start_time": "2021-05-17T05:19:43.562196Z"
    }
   },
   "outputs": [
    {
     "data": {
      "text/plain": [
       "[[10, 20, 3], 'b', 'c']"
      ]
     },
     "execution_count": 14,
     "metadata": {},
     "output_type": "execute_result"
    }
   ],
   "source": [
    "a_list"
   ]
  },
  {
   "cell_type": "code",
   "execution_count": 16,
   "id": "f5215ce8",
   "metadata": {
    "ExecuteTime": {
     "end_time": "2021-05-17T05:20:43.686550Z",
     "start_time": "2021-05-17T05:20:43.681551Z"
    }
   },
   "outputs": [],
   "source": [
    "from copy import deepcopy"
   ]
  },
  {
   "cell_type": "code",
   "execution_count": 17,
   "id": "43f378d0",
   "metadata": {
    "ExecuteTime": {
     "end_time": "2021-05-17T05:21:06.221285Z",
     "start_time": "2021-05-17T05:21:06.216392Z"
    }
   },
   "outputs": [],
   "source": [
    "d_list = deepcopy(a_list)"
   ]
  },
  {
   "cell_type": "code",
   "execution_count": 18,
   "id": "3fd202f0",
   "metadata": {
    "ExecuteTime": {
     "end_time": "2021-05-17T05:21:09.473655Z",
     "start_time": "2021-05-17T05:21:09.465557Z"
    }
   },
   "outputs": [
    {
     "data": {
      "text/plain": [
       "[[10, 20, 3], 'b', 'c']"
      ]
     },
     "execution_count": 18,
     "metadata": {},
     "output_type": "execute_result"
    }
   ],
   "source": [
    "d_list"
   ]
  },
  {
   "cell_type": "code",
   "execution_count": 19,
   "id": "cffcec70",
   "metadata": {
    "ExecuteTime": {
     "end_time": "2021-05-17T05:21:13.059988Z",
     "start_time": "2021-05-17T05:21:13.051537Z"
    }
   },
   "outputs": [
    {
     "data": {
      "text/plain": [
       "[[10, 20, 3], 'b', 'c']"
      ]
     },
     "execution_count": 19,
     "metadata": {},
     "output_type": "execute_result"
    }
   ],
   "source": [
    "a_list"
   ]
  },
  {
   "cell_type": "code",
   "execution_count": 21,
   "id": "2d62ce11",
   "metadata": {
    "ExecuteTime": {
     "end_time": "2021-05-17T05:21:36.740628Z",
     "start_time": "2021-05-17T05:21:36.735344Z"
    }
   },
   "outputs": [],
   "source": [
    "d_list[0][2] = 30"
   ]
  },
  {
   "cell_type": "code",
   "execution_count": 22,
   "id": "60c5210a",
   "metadata": {
    "ExecuteTime": {
     "end_time": "2021-05-17T05:21:40.407153Z",
     "start_time": "2021-05-17T05:21:40.399475Z"
    }
   },
   "outputs": [
    {
     "data": {
      "text/plain": [
       "[[10, 20, 30], 'b', 'c']"
      ]
     },
     "execution_count": 22,
     "metadata": {},
     "output_type": "execute_result"
    }
   ],
   "source": [
    "d_list"
   ]
  },
  {
   "cell_type": "code",
   "execution_count": 23,
   "id": "5417608c",
   "metadata": {
    "ExecuteTime": {
     "end_time": "2021-05-17T05:21:45.224451Z",
     "start_time": "2021-05-17T05:21:45.216162Z"
    }
   },
   "outputs": [
    {
     "data": {
      "text/plain": [
       "[[10, 20, 3], 'b', 'c']"
      ]
     },
     "execution_count": 23,
     "metadata": {},
     "output_type": "execute_result"
    }
   ],
   "source": [
    "a_list"
   ]
  },
  {
   "cell_type": "code",
   "execution_count": null,
   "id": "39e0dca2",
   "metadata": {},
   "outputs": [],
   "source": []
  },
  {
   "cell_type": "code",
   "execution_count": 24,
   "id": "d62e8bc4",
   "metadata": {
    "ExecuteTime": {
     "end_time": "2021-05-17T05:23:37.463936Z",
     "start_time": "2021-05-17T05:23:37.149516Z"
    }
   },
   "outputs": [],
   "source": [
    "import numpy as np"
   ]
  },
  {
   "cell_type": "code",
   "execution_count": 32,
   "id": "e48315b4",
   "metadata": {
    "ExecuteTime": {
     "end_time": "2021-05-17T05:27:30.727124Z",
     "start_time": "2021-05-17T05:27:30.718534Z"
    }
   },
   "outputs": [
    {
     "data": {
      "text/plain": [
       "array([[1, 2, 3],\n",
       "       [4, 5, 6]])"
      ]
     },
     "execution_count": 32,
     "metadata": {},
     "output_type": "execute_result"
    }
   ],
   "source": [
    "np.array([[1, 2, 3], \n",
    "          [4, 5, 6]])"
   ]
  },
  {
   "cell_type": "code",
   "execution_count": 48,
   "id": "819ce8c9",
   "metadata": {
    "ExecuteTime": {
     "end_time": "2021-05-17T05:37:42.050047Z",
     "start_time": "2021-05-17T05:37:42.039556Z"
    }
   },
   "outputs": [
    {
     "data": {
      "text/plain": [
       "array([[[1, 2],\n",
       "        [2, 3],\n",
       "        [4, 5]],\n",
       "\n",
       "       [[4, 5],\n",
       "        [6, 7],\n",
       "        [8, 9]]])"
      ]
     },
     "execution_count": 48,
     "metadata": {},
     "output_type": "execute_result"
    }
   ],
   "source": [
    "np.array([\n",
    "        [\n",
    "            [1, 2], \n",
    "            [2, 3],\n",
    "            [4, 5]\n",
    "        ],\n",
    "        [\n",
    "            [4, 5],\n",
    "            [6, 7],\n",
    "            [8, 9]\n",
    "        ]\n",
    "    ])"
   ]
  },
  {
   "cell_type": "code",
   "execution_count": 42,
   "id": "d348aa8f",
   "metadata": {
    "ExecuteTime": {
     "end_time": "2021-05-17T05:35:34.789462Z",
     "start_time": "2021-05-17T05:35:34.780740Z"
    }
   },
   "outputs": [
    {
     "data": {
      "text/plain": [
       "(3,)"
      ]
     },
     "execution_count": 42,
     "metadata": {},
     "output_type": "execute_result"
    }
   ],
   "source": [
    "np.array([1, 2, 3]).shape"
   ]
  },
  {
   "cell_type": "code",
   "execution_count": 41,
   "id": "fa3e76a7",
   "metadata": {
    "ExecuteTime": {
     "end_time": "2021-05-17T05:35:22.641880Z",
     "start_time": "2021-05-17T05:35:22.633335Z"
    }
   },
   "outputs": [
    {
     "data": {
      "text/plain": [
       "()"
      ]
     },
     "execution_count": 41,
     "metadata": {},
     "output_type": "execute_result"
    }
   ],
   "source": [
    "np.array(0).shape"
   ]
  },
  {
   "cell_type": "code",
   "execution_count": 51,
   "id": "4c984570",
   "metadata": {
    "ExecuteTime": {
     "end_time": "2021-05-17T05:38:53.172025Z",
     "start_time": "2021-05-17T05:38:53.162598Z"
    }
   },
   "outputs": [
    {
     "data": {
      "text/plain": [
       "array([[1., 1., 1.],\n",
       "       [1., 1., 1.]])"
      ]
     },
     "execution_count": 51,
     "metadata": {},
     "output_type": "execute_result"
    }
   ],
   "source": [
    "np.ones([2, 3])"
   ]
  },
  {
   "cell_type": "code",
   "execution_count": 57,
   "id": "3eb1a504",
   "metadata": {
    "ExecuteTime": {
     "end_time": "2021-05-17T05:45:38.406681Z",
     "start_time": "2021-05-17T05:45:38.397776Z"
    }
   },
   "outputs": [
    {
     "data": {
      "text/plain": [
       "array([[3, 3],\n",
       "       [3, 3],\n",
       "       [3, 3],\n",
       "       [3, 3],\n",
       "       [3, 3]])"
      ]
     },
     "execution_count": 57,
     "metadata": {},
     "output_type": "execute_result"
    }
   ],
   "source": [
    "np.ones([5, 2], dtype=int) * 3"
   ]
  },
  {
   "cell_type": "code",
   "execution_count": 53,
   "id": "d72ef889",
   "metadata": {
    "ExecuteTime": {
     "end_time": "2021-05-17T05:42:27.968711Z",
     "start_time": "2021-05-17T05:42:27.959816Z"
    }
   },
   "outputs": [
    {
     "data": {
      "text/plain": [
       "array([[0., 0., 0.],\n",
       "       [0., 0., 0.],\n",
       "       [0., 0., 0.],\n",
       "       [0., 0., 0.],\n",
       "       [0., 0., 0.]])"
      ]
     },
     "execution_count": 53,
     "metadata": {},
     "output_type": "execute_result"
    }
   ],
   "source": [
    "np.zeros([5, 3])"
   ]
  },
  {
   "cell_type": "code",
   "execution_count": 63,
   "id": "26e792fa",
   "metadata": {
    "ExecuteTime": {
     "end_time": "2021-05-17T05:47:30.689276Z",
     "start_time": "2021-05-17T05:47:30.680543Z"
    }
   },
   "outputs": [
    {
     "data": {
      "text/plain": [
       "array([5. , 5.5, 6. , 6.5, 7. , 7.5, 8. , 8.5, 9. , 9.5])"
      ]
     },
     "execution_count": 63,
     "metadata": {},
     "output_type": "execute_result"
    }
   ],
   "source": [
    "np.arange(5, 10, 0.5)"
   ]
  },
  {
   "cell_type": "code",
   "execution_count": 64,
   "id": "14b167d8",
   "metadata": {
    "ExecuteTime": {
     "end_time": "2021-05-17T05:48:52.960692Z",
     "start_time": "2021-05-17T05:48:52.952379Z"
    }
   },
   "outputs": [
    {
     "data": {
      "text/plain": [
       "array([0, 1, 2, 3, 4, 5, 6, 7, 8, 9])"
      ]
     },
     "execution_count": 64,
     "metadata": {},
     "output_type": "execute_result"
    }
   ],
   "source": [
    "np.array(range(10))"
   ]
  },
  {
   "cell_type": "code",
   "execution_count": 69,
   "id": "12133402",
   "metadata": {
    "ExecuteTime": {
     "end_time": "2021-05-17T05:52:28.542539Z",
     "start_time": "2021-05-17T05:52:28.533814Z"
    }
   },
   "outputs": [
    {
     "data": {
      "text/plain": [
       "array([ 10,  19,  28,  37,  46,  55,  64,  73,  82,  91, 100])"
      ]
     },
     "execution_count": 69,
     "metadata": {},
     "output_type": "execute_result"
    }
   ],
   "source": [
    "np.linspace(10, 100, 11, dtype=int)"
   ]
  },
  {
   "cell_type": "code",
   "execution_count": 71,
   "id": "4766386f",
   "metadata": {
    "ExecuteTime": {
     "end_time": "2021-05-17T05:54:52.756857Z",
     "start_time": "2021-05-17T05:54:52.746402Z"
    }
   },
   "outputs": [
    {
     "data": {
      "text/plain": [
       "array([4.        , 4.05698555, 4.11478293, 4.17340372, 4.23285965,\n",
       "       4.2931626 , 4.35432466, 4.41635805, 4.4792752 , 4.54308869,\n",
       "       4.60781129, 4.67345595, 4.74003581, 4.8075642 , 4.87605462,\n",
       "       4.94552078, 5.01597658, 5.08743612, 5.15991371, 5.23342383,\n",
       "       5.30798122, 5.38360077, 5.46029763, 5.53808714, 5.61698488,\n",
       "       5.69700662, 5.77816838, 5.8604864 , 5.94397716, 6.02865736,\n",
       "       6.11454394, 6.2016541 , 6.29000526, 6.37961511, 6.47050158,\n",
       "       6.56268285, 6.65617737, 6.75100385, 6.84718126, 6.94472885,\n",
       "       7.04366615, 7.14401294, 7.24578931, 7.34901563, 7.45371255,\n",
       "       7.55990103, 7.6676023 , 7.77683793, 7.88762977, 8.        ])"
      ]
     },
     "execution_count": 71,
     "metadata": {},
     "output_type": "execute_result"
    }
   ],
   "source": [
    "np.logspace(2, 3, base=2)"
   ]
  },
  {
   "cell_type": "code",
   "execution_count": 72,
   "id": "ca499dbe",
   "metadata": {
    "ExecuteTime": {
     "end_time": "2021-05-17T05:55:16.542095Z",
     "start_time": "2021-05-17T05:55:16.530544Z"
    }
   },
   "outputs": [
    {
     "data": {
      "text/plain": [
       "array([4.        , 4.05698555, 4.11478293, 4.17340372, 4.23285965,\n",
       "       4.2931626 , 4.35432466, 4.41635805, 4.4792752 , 4.54308869,\n",
       "       4.60781129, 4.67345595, 4.74003581, 4.8075642 , 4.87605462,\n",
       "       4.94552078, 5.01597658, 5.08743612, 5.15991371, 5.23342383,\n",
       "       5.30798122, 5.38360077, 5.46029763, 5.53808714, 5.61698488,\n",
       "       5.69700662, 5.77816838, 5.8604864 , 5.94397716, 6.02865736,\n",
       "       6.11454394, 6.2016541 , 6.29000526, 6.37961511, 6.47050158,\n",
       "       6.56268285, 6.65617737, 6.75100385, 6.84718126, 6.94472885,\n",
       "       7.04366615, 7.14401294, 7.24578931, 7.34901563, 7.45371255,\n",
       "       7.55990103, 7.6676023 , 7.77683793, 7.88762977, 8.        ])"
      ]
     },
     "execution_count": 72,
     "metadata": {},
     "output_type": "execute_result"
    }
   ],
   "source": [
    "2**np.linspace(2, 3)"
   ]
  },
  {
   "cell_type": "code",
   "execution_count": 75,
   "id": "8ff9d9ff",
   "metadata": {
    "ExecuteTime": {
     "end_time": "2021-05-17T05:56:34.226608Z",
     "start_time": "2021-05-17T05:56:34.217640Z"
    }
   },
   "outputs": [
    {
     "data": {
      "text/plain": [
       "array([[1, 3, 4],\n",
       "       [4, 5, 6]])"
      ]
     },
     "execution_count": 75,
     "metadata": {},
     "output_type": "execute_result"
    }
   ],
   "source": [
    "a = np.array([[1, 3, 4],\n",
    "              [4, 5, 6]])\n",
    "a"
   ]
  },
  {
   "cell_type": "code",
   "execution_count": 77,
   "id": "69ddcccf",
   "metadata": {
    "ExecuteTime": {
     "end_time": "2021-05-17T05:57:08.281628Z",
     "start_time": "2021-05-17T05:57:08.272751Z"
    }
   },
   "outputs": [
    {
     "data": {
      "text/plain": [
       "array([[10, 20, 30],\n",
       "       [40, 50, 60]])"
      ]
     },
     "execution_count": 77,
     "metadata": {},
     "output_type": "execute_result"
    }
   ],
   "source": [
    "b = np.array([[10, 20, 30],\n",
    "              [40, 50, 60]])\n",
    "b"
   ]
  },
  {
   "cell_type": "code",
   "execution_count": 78,
   "id": "f3ea9088",
   "metadata": {
    "ExecuteTime": {
     "end_time": "2021-05-17T05:57:16.181063Z",
     "start_time": "2021-05-17T05:57:16.172936Z"
    }
   },
   "outputs": [
    {
     "data": {
      "text/plain": [
       "array([[11, 23, 34],\n",
       "       [44, 55, 66]])"
      ]
     },
     "execution_count": 78,
     "metadata": {},
     "output_type": "execute_result"
    }
   ],
   "source": [
    "a + b"
   ]
  },
  {
   "cell_type": "code",
   "execution_count": 79,
   "id": "457bb078",
   "metadata": {
    "ExecuteTime": {
     "end_time": "2021-05-17T05:57:26.761642Z",
     "start_time": "2021-05-17T05:57:26.753737Z"
    }
   },
   "outputs": [
    {
     "data": {
      "text/plain": [
       "array([[ -9, -17, -26],\n",
       "       [-36, -45, -54]])"
      ]
     },
     "execution_count": 79,
     "metadata": {},
     "output_type": "execute_result"
    }
   ],
   "source": [
    "a - b"
   ]
  },
  {
   "cell_type": "code",
   "execution_count": 80,
   "id": "3450c251",
   "metadata": {
    "ExecuteTime": {
     "end_time": "2021-05-17T05:57:34.638936Z",
     "start_time": "2021-05-17T05:57:34.631082Z"
    }
   },
   "outputs": [
    {
     "data": {
      "text/plain": [
       "array([[ 10,  60, 120],\n",
       "       [160, 250, 360]])"
      ]
     },
     "execution_count": 80,
     "metadata": {},
     "output_type": "execute_result"
    }
   ],
   "source": [
    "a * b"
   ]
  },
  {
   "cell_type": "code",
   "execution_count": 81,
   "id": "9170f648",
   "metadata": {
    "ExecuteTime": {
     "end_time": "2021-05-17T05:57:39.298140Z",
     "start_time": "2021-05-17T05:57:39.289930Z"
    }
   },
   "outputs": [
    {
     "data": {
      "text/plain": [
       "array([[0.1       , 0.15      , 0.13333333],\n",
       "       [0.1       , 0.1       , 0.1       ]])"
      ]
     },
     "execution_count": 81,
     "metadata": {},
     "output_type": "execute_result"
    }
   ],
   "source": [
    "a / b"
   ]
  },
  {
   "cell_type": "code",
   "execution_count": 82,
   "id": "2f20d026",
   "metadata": {
    "ExecuteTime": {
     "end_time": "2021-05-17T05:57:55.146236Z",
     "start_time": "2021-05-17T05:57:55.138259Z"
    }
   },
   "outputs": [
    {
     "data": {
      "text/plain": [
       "array([[ 5, 15, 20],\n",
       "       [20, 25, 30]])"
      ]
     },
     "execution_count": 82,
     "metadata": {},
     "output_type": "execute_result"
    }
   ],
   "source": [
    "5 * a"
   ]
  },
  {
   "cell_type": "code",
   "execution_count": 84,
   "id": "483a5ae6",
   "metadata": {
    "ExecuteTime": {
     "end_time": "2021-05-17T05:59:17.839882Z",
     "start_time": "2021-05-17T05:59:17.831048Z"
    }
   },
   "outputs": [
    {
     "data": {
      "text/plain": [
       "array([[190, 430],\n",
       "       [320, 770]])"
      ]
     },
     "execution_count": 84,
     "metadata": {},
     "output_type": "execute_result"
    }
   ],
   "source": [
    "np.matmul(a, b.T)"
   ]
  },
  {
   "cell_type": "code",
   "execution_count": 85,
   "id": "574345f5",
   "metadata": {
    "ExecuteTime": {
     "end_time": "2021-05-17T05:59:28.304595Z",
     "start_time": "2021-05-17T05:59:28.295471Z"
    }
   },
   "outputs": [
    {
     "data": {
      "text/plain": [
       "array([[190, 430],\n",
       "       [320, 770]])"
      ]
     },
     "execution_count": 85,
     "metadata": {},
     "output_type": "execute_result"
    }
   ],
   "source": [
    "np.dot(a, b.T)"
   ]
  },
  {
   "cell_type": "code",
   "execution_count": 88,
   "id": "242ad9fc",
   "metadata": {
    "ExecuteTime": {
     "end_time": "2021-05-17T06:01:06.842920Z",
     "start_time": "2021-05-17T06:01:06.834515Z"
    }
   },
   "outputs": [
    {
     "data": {
      "text/plain": [
       "23"
      ]
     },
     "execution_count": 88,
     "metadata": {},
     "output_type": "execute_result"
    }
   ],
   "source": [
    "a.sum()"
   ]
  },
  {
   "cell_type": "code",
   "execution_count": 89,
   "id": "23d9fd2b",
   "metadata": {
    "ExecuteTime": {
     "end_time": "2021-05-17T06:01:16.002383Z",
     "start_time": "2021-05-17T06:01:15.994086Z"
    }
   },
   "outputs": [
    {
     "data": {
      "text/plain": [
       "array([ 1,  4,  8, 12, 17, 23])"
      ]
     },
     "execution_count": 89,
     "metadata": {},
     "output_type": "execute_result"
    }
   ],
   "source": [
    "a.cumsum()"
   ]
  },
  {
   "cell_type": "code",
   "execution_count": 90,
   "id": "5ee6c587",
   "metadata": {
    "ExecuteTime": {
     "end_time": "2021-05-17T06:01:37.126393Z",
     "start_time": "2021-05-17T06:01:37.118295Z"
    }
   },
   "outputs": [
    {
     "data": {
      "text/plain": [
       "1440"
      ]
     },
     "execution_count": 90,
     "metadata": {},
     "output_type": "execute_result"
    }
   ],
   "source": [
    "a.prod()"
   ]
  },
  {
   "cell_type": "code",
   "execution_count": 91,
   "id": "fdce8103",
   "metadata": {
    "ExecuteTime": {
     "end_time": "2021-05-17T06:01:43.562891Z",
     "start_time": "2021-05-17T06:01:43.554936Z"
    }
   },
   "outputs": [
    {
     "data": {
      "text/plain": [
       "array([   1,    3,   12,   48,  240, 1440])"
      ]
     },
     "execution_count": 91,
     "metadata": {},
     "output_type": "execute_result"
    }
   ],
   "source": [
    "a.cumprod()"
   ]
  },
  {
   "cell_type": "code",
   "execution_count": 93,
   "id": "d61b373d",
   "metadata": {
    "ExecuteTime": {
     "end_time": "2021-05-17T06:01:58.021759Z",
     "start_time": "2021-05-17T06:01:58.013532Z"
    }
   },
   "outputs": [
    {
     "data": {
      "text/plain": [
       "array([[2, 1],\n",
       "       [1, 1]])"
      ]
     },
     "execution_count": 93,
     "metadata": {},
     "output_type": "execute_result"
    }
   ],
   "source": [
    "np.diff(a)"
   ]
  },
  {
   "cell_type": "code",
   "execution_count": 94,
   "id": "967bd93a",
   "metadata": {
    "ExecuteTime": {
     "end_time": "2021-05-17T06:02:17.347694Z",
     "start_time": "2021-05-17T06:02:17.340205Z"
    }
   },
   "outputs": [
    {
     "data": {
      "text/plain": [
       "array([[1, 3, 4],\n",
       "       [4, 5, 6]])"
      ]
     },
     "execution_count": 94,
     "metadata": {},
     "output_type": "execute_result"
    }
   ],
   "source": [
    "a"
   ]
  },
  {
   "cell_type": "code",
   "execution_count": 96,
   "id": "2c47f626",
   "metadata": {
    "ExecuteTime": {
     "end_time": "2021-05-17T06:03:56.212606Z",
     "start_time": "2021-05-17T06:03:56.204291Z"
    }
   },
   "outputs": [
    {
     "data": {
      "text/plain": [
       "array([[3, 2, 2]])"
      ]
     },
     "execution_count": 96,
     "metadata": {},
     "output_type": "execute_result"
    }
   ],
   "source": [
    "np.diff(a, axis=0)"
   ]
  },
  {
   "cell_type": "code",
   "execution_count": 97,
   "id": "de2d122f",
   "metadata": {
    "ExecuteTime": {
     "end_time": "2021-05-17T06:04:16.412187Z",
     "start_time": "2021-05-17T06:04:16.404090Z"
    }
   },
   "outputs": [
    {
     "data": {
      "text/plain": [
       "array([ 5,  8, 10])"
      ]
     },
     "execution_count": 97,
     "metadata": {},
     "output_type": "execute_result"
    }
   ],
   "source": [
    "a.sum(axis=0)"
   ]
  },
  {
   "cell_type": "code",
   "execution_count": 98,
   "id": "76f272c3",
   "metadata": {
    "ExecuteTime": {
     "end_time": "2021-05-17T06:04:31.826447Z",
     "start_time": "2021-05-17T06:04:31.818077Z"
    }
   },
   "outputs": [
    {
     "data": {
      "text/plain": [
       "array([ 8, 15])"
      ]
     },
     "execution_count": 98,
     "metadata": {},
     "output_type": "execute_result"
    }
   ],
   "source": [
    "a.sum(axis=1)"
   ]
  },
  {
   "cell_type": "code",
   "execution_count": 99,
   "id": "6eaa4dbc",
   "metadata": {
    "ExecuteTime": {
     "end_time": "2021-05-17T06:18:29.380908Z",
     "start_time": "2021-05-17T06:18:29.375569Z"
    }
   },
   "outputs": [],
   "source": [
    "c = np.arange(1, 51).reshape((10, 5))"
   ]
  },
  {
   "cell_type": "code",
   "execution_count": 100,
   "id": "3b0c9fca",
   "metadata": {
    "ExecuteTime": {
     "end_time": "2021-05-17T06:18:33.536415Z",
     "start_time": "2021-05-17T06:18:33.528407Z"
    }
   },
   "outputs": [
    {
     "data": {
      "text/plain": [
       "array([[ 1,  2,  3,  4,  5],\n",
       "       [ 6,  7,  8,  9, 10],\n",
       "       [11, 12, 13, 14, 15],\n",
       "       [16, 17, 18, 19, 20],\n",
       "       [21, 22, 23, 24, 25],\n",
       "       [26, 27, 28, 29, 30],\n",
       "       [31, 32, 33, 34, 35],\n",
       "       [36, 37, 38, 39, 40],\n",
       "       [41, 42, 43, 44, 45],\n",
       "       [46, 47, 48, 49, 50]])"
      ]
     },
     "execution_count": 100,
     "metadata": {},
     "output_type": "execute_result"
    }
   ],
   "source": [
    "c"
   ]
  },
  {
   "cell_type": "code",
   "execution_count": 101,
   "id": "e6196113",
   "metadata": {
    "ExecuteTime": {
     "end_time": "2021-05-17T06:19:26.440665Z",
     "start_time": "2021-05-17T06:19:26.432862Z"
    }
   },
   "outputs": [
    {
     "data": {
      "text/plain": [
       "1"
      ]
     },
     "execution_count": 101,
     "metadata": {},
     "output_type": "execute_result"
    }
   ],
   "source": [
    "c[0, 0]"
   ]
  },
  {
   "cell_type": "code",
   "execution_count": 102,
   "id": "aaf2d12b",
   "metadata": {
    "ExecuteTime": {
     "end_time": "2021-05-17T06:19:36.504212Z",
     "start_time": "2021-05-17T06:19:36.496569Z"
    }
   },
   "outputs": [
    {
     "data": {
      "text/plain": [
       "2"
      ]
     },
     "execution_count": 102,
     "metadata": {},
     "output_type": "execute_result"
    }
   ],
   "source": [
    "c[0, 1]"
   ]
  },
  {
   "cell_type": "code",
   "execution_count": 103,
   "id": "ba4ecb03",
   "metadata": {
    "ExecuteTime": {
     "end_time": "2021-05-17T06:20:40.375736Z",
     "start_time": "2021-05-17T06:20:40.367905Z"
    }
   },
   "outputs": [
    {
     "data": {
      "text/plain": [
       "49"
      ]
     },
     "execution_count": 103,
     "metadata": {},
     "output_type": "execute_result"
    }
   ],
   "source": [
    "c[-1, -2]"
   ]
  },
  {
   "cell_type": "code",
   "execution_count": 104,
   "id": "7fcb90cb",
   "metadata": {
    "ExecuteTime": {
     "end_time": "2021-05-17T06:20:56.647927Z",
     "start_time": "2021-05-17T06:20:56.640433Z"
    }
   },
   "outputs": [
    {
     "data": {
      "text/plain": [
       "array([1, 2, 3, 4, 5])"
      ]
     },
     "execution_count": 104,
     "metadata": {},
     "output_type": "execute_result"
    }
   ],
   "source": [
    "c[0]"
   ]
  },
  {
   "cell_type": "code",
   "execution_count": 105,
   "id": "47f3280f",
   "metadata": {
    "ExecuteTime": {
     "end_time": "2021-05-17T06:21:08.997931Z",
     "start_time": "2021-05-17T06:21:08.989998Z"
    }
   },
   "outputs": [
    {
     "data": {
      "text/plain": [
       "array([46, 47, 48, 49, 50])"
      ]
     },
     "execution_count": 105,
     "metadata": {},
     "output_type": "execute_result"
    }
   ],
   "source": [
    "c[-1]"
   ]
  },
  {
   "cell_type": "code",
   "execution_count": 107,
   "id": "c634e62c",
   "metadata": {
    "ExecuteTime": {
     "end_time": "2021-05-17T06:22:02.379706Z",
     "start_time": "2021-05-17T06:22:02.366991Z"
    }
   },
   "outputs": [
    {
     "data": {
      "text/plain": [
       "array([ 5, 10, 15, 20, 25, 30, 35, 40, 45, 50])"
      ]
     },
     "execution_count": 107,
     "metadata": {},
     "output_type": "execute_result"
    }
   ],
   "source": [
    "c[:,-1]"
   ]
  },
  {
   "cell_type": "code",
   "execution_count": 108,
   "id": "817db49d",
   "metadata": {
    "ExecuteTime": {
     "end_time": "2021-05-17T06:22:26.664625Z",
     "start_time": "2021-05-17T06:22:26.656861Z"
    }
   },
   "outputs": [
    {
     "data": {
      "text/plain": [
       "array([ 1,  6, 11, 16, 21, 26, 31, 36, 41, 46])"
      ]
     },
     "execution_count": 108,
     "metadata": {},
     "output_type": "execute_result"
    }
   ],
   "source": [
    "c[:, 0]"
   ]
  },
  {
   "cell_type": "code",
   "execution_count": 110,
   "id": "fe3cbade",
   "metadata": {
    "ExecuteTime": {
     "end_time": "2021-05-17T06:23:53.384269Z",
     "start_time": "2021-05-17T06:23:53.376078Z"
    }
   },
   "outputs": [
    {
     "data": {
      "text/plain": [
       "array([ 9, 14, 19, 24])"
      ]
     },
     "execution_count": 110,
     "metadata": {},
     "output_type": "execute_result"
    }
   ],
   "source": [
    "c[1:5, 3]"
   ]
  },
  {
   "cell_type": "code",
   "execution_count": 112,
   "id": "6a76f53c",
   "metadata": {
    "ExecuteTime": {
     "end_time": "2021-05-17T06:26:01.434016Z",
     "start_time": "2021-05-17T06:26:01.429017Z"
    }
   },
   "outputs": [],
   "source": [
    "c[2, ::2] = 20"
   ]
  },
  {
   "cell_type": "code",
   "execution_count": 115,
   "id": "ab5e622c",
   "metadata": {
    "ExecuteTime": {
     "end_time": "2021-05-17T06:28:06.277070Z",
     "start_time": "2021-05-17T06:28:06.269696Z"
    }
   },
   "outputs": [
    {
     "data": {
      "text/plain": [
       "10"
      ]
     },
     "execution_count": 115,
     "metadata": {},
     "output_type": "execute_result"
    }
   ],
   "source": [
    "len(c)"
   ]
  },
  {
   "cell_type": "code",
   "execution_count": 116,
   "id": "7d6e0811",
   "metadata": {
    "ExecuteTime": {
     "end_time": "2021-05-17T06:31:48.627523Z",
     "start_time": "2021-05-17T06:31:48.619973Z"
    }
   },
   "outputs": [
    {
     "data": {
      "text/plain": [
       "(2, 3)"
      ]
     },
     "execution_count": 116,
     "metadata": {},
     "output_type": "execute_result"
    }
   ],
   "source": [
    "a.shape"
   ]
  },
  {
   "cell_type": "code",
   "execution_count": 117,
   "id": "7095e6ff",
   "metadata": {
    "ExecuteTime": {
     "end_time": "2021-05-17T06:31:56.784370Z",
     "start_time": "2021-05-17T06:31:56.777063Z"
    }
   },
   "outputs": [
    {
     "data": {
      "text/plain": [
       "(2, 3)"
      ]
     },
     "execution_count": 117,
     "metadata": {},
     "output_type": "execute_result"
    }
   ],
   "source": [
    "b.shape"
   ]
  },
  {
   "cell_type": "code",
   "execution_count": 118,
   "id": "63a31a03",
   "metadata": {
    "ExecuteTime": {
     "end_time": "2021-05-17T06:32:09.162173Z",
     "start_time": "2021-05-17T06:32:09.154099Z"
    }
   },
   "outputs": [
    {
     "data": {
      "text/plain": [
       "(10, 5)"
      ]
     },
     "execution_count": 118,
     "metadata": {},
     "output_type": "execute_result"
    }
   ],
   "source": [
    "c.shape"
   ]
  },
  {
   "cell_type": "code",
   "execution_count": 119,
   "id": "52c05af5",
   "metadata": {
    "ExecuteTime": {
     "end_time": "2021-05-17T06:32:18.213263Z",
     "start_time": "2021-05-17T06:32:18.205614Z"
    }
   },
   "outputs": [
    {
     "data": {
      "text/plain": [
       "array([[11, 23, 34],\n",
       "       [44, 55, 66]])"
      ]
     },
     "execution_count": 119,
     "metadata": {},
     "output_type": "execute_result"
    }
   ],
   "source": [
    "a + b"
   ]
  },
  {
   "cell_type": "code",
   "execution_count": 120,
   "id": "e38c6615",
   "metadata": {
    "ExecuteTime": {
     "end_time": "2021-05-17T06:32:41.983255Z",
     "start_time": "2021-05-17T06:32:41.975316Z"
    }
   },
   "outputs": [
    {
     "data": {
      "text/plain": [
       "array([[ 44,  92, 136],\n",
       "       [176, 220, 264]])"
      ]
     },
     "execution_count": 120,
     "metadata": {},
     "output_type": "execute_result"
    }
   ],
   "source": [
    "(a + b) * 4 "
   ]
  },
  {
   "cell_type": "code",
   "execution_count": 121,
   "id": "3bb48103",
   "metadata": {
    "ExecuteTime": {
     "end_time": "2021-05-17T06:33:08.523699Z",
     "start_time": "2021-05-17T06:33:08.510966Z"
    }
   },
   "outputs": [
    {
     "ename": "ValueError",
     "evalue": "operands could not be broadcast together with shapes (2,3) (10,5) ",
     "output_type": "error",
     "traceback": [
      "\u001b[0;31m---------------------------------------------------------------------------\u001b[0m",
      "\u001b[0;31mValueError\u001b[0m                                Traceback (most recent call last)",
      "\u001b[0;32m<ipython-input-121-e81e582b6fa9>\u001b[0m in \u001b[0;36m<module>\u001b[0;34m\u001b[0m\n\u001b[0;32m----> 1\u001b[0;31m \u001b[0ma\u001b[0m \u001b[0;34m+\u001b[0m \u001b[0mc\u001b[0m\u001b[0;34m\u001b[0m\u001b[0;34m\u001b[0m\u001b[0m\n\u001b[0m",
      "\u001b[0;31mValueError\u001b[0m: operands could not be broadcast together with shapes (2,3) (10,5) "
     ]
    }
   ],
   "source": [
    "a + c"
   ]
  },
  {
   "cell_type": "code",
   "execution_count": 122,
   "id": "768ea262",
   "metadata": {
    "ExecuteTime": {
     "end_time": "2021-05-17T06:33:34.123730Z",
     "start_time": "2021-05-17T06:33:34.118309Z"
    }
   },
   "outputs": [],
   "source": [
    "d = np.array([1, 2, 3, 4, 5])"
   ]
  },
  {
   "cell_type": "code",
   "execution_count": 123,
   "id": "eaef8731",
   "metadata": {
    "ExecuteTime": {
     "end_time": "2021-05-17T06:33:37.546425Z",
     "start_time": "2021-05-17T06:33:37.538729Z"
    }
   },
   "outputs": [
    {
     "data": {
      "text/plain": [
       "array([1, 2, 3, 4, 5])"
      ]
     },
     "execution_count": 123,
     "metadata": {},
     "output_type": "execute_result"
    }
   ],
   "source": [
    "d"
   ]
  },
  {
   "cell_type": "code",
   "execution_count": 124,
   "id": "11ff9ede",
   "metadata": {
    "ExecuteTime": {
     "end_time": "2021-05-17T06:34:10.082905Z",
     "start_time": "2021-05-17T06:34:10.070024Z"
    }
   },
   "outputs": [
    {
     "ename": "ValueError",
     "evalue": "operands could not be broadcast together with shapes (2,3) (5,) ",
     "output_type": "error",
     "traceback": [
      "\u001b[0;31m---------------------------------------------------------------------------\u001b[0m",
      "\u001b[0;31mValueError\u001b[0m                                Traceback (most recent call last)",
      "\u001b[0;32m<ipython-input-124-4fbab87c839c>\u001b[0m in \u001b[0;36m<module>\u001b[0;34m\u001b[0m\n\u001b[0;32m----> 1\u001b[0;31m \u001b[0ma\u001b[0m \u001b[0;34m+\u001b[0m \u001b[0md\u001b[0m\u001b[0;34m\u001b[0m\u001b[0;34m\u001b[0m\u001b[0m\n\u001b[0m",
      "\u001b[0;31mValueError\u001b[0m: operands could not be broadcast together with shapes (2,3) (5,) "
     ]
    }
   ],
   "source": [
    "a + d"
   ]
  },
  {
   "cell_type": "code",
   "execution_count": 125,
   "id": "f48f2fb0",
   "metadata": {
    "ExecuteTime": {
     "end_time": "2021-05-17T06:34:24.413630Z",
     "start_time": "2021-05-17T06:34:24.405318Z"
    }
   },
   "outputs": [
    {
     "data": {
      "text/plain": [
       "array([[ 2,  4,  6,  8, 10],\n",
       "       [ 7,  9, 11, 13, 15],\n",
       "       [21, 14, 23, 18, 25],\n",
       "       [17, 19, 21, 23, 25],\n",
       "       [22, 24, 26, 28, 30],\n",
       "       [27, 29, 31, 33, 35],\n",
       "       [32, 34, 36, 38, 40],\n",
       "       [37, 39, 41, 43, 45],\n",
       "       [42, 44, 46, 48, 50],\n",
       "       [47, 49, 51, 53, 55]])"
      ]
     },
     "execution_count": 125,
     "metadata": {},
     "output_type": "execute_result"
    }
   ],
   "source": [
    "c + d"
   ]
  },
  {
   "cell_type": "code",
   "execution_count": 126,
   "id": "1e1f5ae4",
   "metadata": {
    "ExecuteTime": {
     "end_time": "2021-05-17T06:37:10.430307Z",
     "start_time": "2021-05-17T06:37:10.422907Z"
    }
   },
   "outputs": [
    {
     "data": {
      "text/plain": [
       "(10, 5)"
      ]
     },
     "execution_count": 126,
     "metadata": {},
     "output_type": "execute_result"
    }
   ],
   "source": [
    "c.shape"
   ]
  },
  {
   "cell_type": "code",
   "execution_count": 127,
   "id": "923bccdd",
   "metadata": {
    "ExecuteTime": {
     "end_time": "2021-05-17T06:37:50.431957Z",
     "start_time": "2021-05-17T06:37:50.426859Z"
    }
   },
   "outputs": [],
   "source": [
    "e = np.ones((2, 5))"
   ]
  },
  {
   "cell_type": "markdown",
   "id": "d41ba0bc",
   "metadata": {
    "ExecuteTime": {
     "end_time": "2021-05-17T06:37:56.739594Z",
     "start_time": "2021-05-17T06:37:56.726661Z"
    }
   },
   "source": [
    "(5, 3, 2)\n",
    "(3, 2) -> (1, 3, 2) -> (5, 3, 2)"
   ]
  },
  {
   "cell_type": "markdown",
   "id": "1f48dcea",
   "metadata": {},
   "source": [
    "(5, 3, 2)\n",
    "(5, 3, 1) -> np.newaxis or None"
   ]
  },
  {
   "cell_type": "code",
   "execution_count": 129,
   "id": "9568d04d",
   "metadata": {
    "ExecuteTime": {
     "end_time": "2021-05-17T06:51:56.563765Z",
     "start_time": "2021-05-17T06:51:56.558206Z"
    }
   },
   "outputs": [],
   "source": [
    "mat1 = np.ones((5, 3, 2))\n",
    "mat2 = np.ones((5, 3))"
   ]
  },
  {
   "cell_type": "code",
   "execution_count": 132,
   "id": "a784834e",
   "metadata": {
    "ExecuteTime": {
     "end_time": "2021-05-17T06:52:43.214803Z",
     "start_time": "2021-05-17T06:52:43.206745Z"
    }
   },
   "outputs": [
    {
     "data": {
      "text/plain": [
       "(5, 3, 2)"
      ]
     },
     "execution_count": 132,
     "metadata": {},
     "output_type": "execute_result"
    }
   ],
   "source": [
    "(mat1 + mat2[:, :, np.newaxis]).shape"
   ]
  },
  {
   "cell_type": "code",
   "execution_count": 133,
   "id": "20a2f7c4",
   "metadata": {
    "ExecuteTime": {
     "end_time": "2021-05-17T06:53:11.519592Z",
     "start_time": "2021-05-17T06:53:11.511384Z"
    }
   },
   "outputs": [
    {
     "data": {
      "text/plain": [
       "(5, 3, 2)"
      ]
     },
     "execution_count": 133,
     "metadata": {},
     "output_type": "execute_result"
    }
   ],
   "source": [
    "(mat1 + mat2[:, :, None]).shape"
   ]
  },
  {
   "cell_type": "markdown",
   "id": "54ee2d72",
   "metadata": {},
   "source": [
    "(5, 1, 6) -> (5, 2, 6)\n",
    "(1, 2, 1) -> (5, 2, 6)"
   ]
  },
  {
   "cell_type": "code",
   "execution_count": 134,
   "id": "3988d4a4",
   "metadata": {
    "ExecuteTime": {
     "end_time": "2021-05-17T06:55:02.644533Z",
     "start_time": "2021-05-17T06:55:02.635671Z"
    }
   },
   "outputs": [
    {
     "data": {
      "text/plain": [
       "(5, 2, 6)"
      ]
     },
     "execution_count": 134,
     "metadata": {},
     "output_type": "execute_result"
    }
   ],
   "source": [
    "(np.ones((5, 1, 6)) + np.ones((1, 2, 1))).shape"
   ]
  },
  {
   "cell_type": "code",
   "execution_count": 135,
   "id": "9a4b40e8",
   "metadata": {
    "ExecuteTime": {
     "end_time": "2021-05-17T06:56:31.832896Z",
     "start_time": "2021-05-17T06:56:31.825479Z"
    }
   },
   "outputs": [
    {
     "data": {
      "text/plain": [
       "(5, 3, 2)"
      ]
     },
     "execution_count": 135,
     "metadata": {},
     "output_type": "execute_result"
    }
   ],
   "source": [
    "mat1.shape"
   ]
  },
  {
   "cell_type": "code",
   "execution_count": 137,
   "id": "52473c10",
   "metadata": {
    "ExecuteTime": {
     "end_time": "2021-05-17T07:02:09.741074Z",
     "start_time": "2021-05-17T07:02:09.732379Z"
    }
   },
   "outputs": [
    {
     "data": {
      "text/plain": [
       "array([[1., 1., 1.],\n",
       "       [1., 1., 1.],\n",
       "       [1., 1., 1.],\n",
       "       [1., 1., 1.],\n",
       "       [1., 1., 1.]])"
      ]
     },
     "execution_count": 137,
     "metadata": {},
     "output_type": "execute_result"
    }
   ],
   "source": [
    "mat1[:, :, 0]"
   ]
  },
  {
   "cell_type": "code",
   "execution_count": 138,
   "id": "1d7f67d5",
   "metadata": {
    "ExecuteTime": {
     "end_time": "2021-05-17T07:02:33.472455Z",
     "start_time": "2021-05-17T07:02:33.463976Z"
    }
   },
   "outputs": [
    {
     "data": {
      "text/plain": [
       "array([[1., 1., 1.],\n",
       "       [1., 1., 1.],\n",
       "       [1., 1., 1.],\n",
       "       [1., 1., 1.],\n",
       "       [1., 1., 1.]])"
      ]
     },
     "execution_count": 138,
     "metadata": {},
     "output_type": "execute_result"
    }
   ],
   "source": [
    "mat1[..., 0]"
   ]
  },
  {
   "cell_type": "code",
   "execution_count": 139,
   "id": "4020e465",
   "metadata": {
    "ExecuteTime": {
     "end_time": "2021-05-17T07:03:03.446094Z",
     "start_time": "2021-05-17T07:03:03.437863Z"
    }
   },
   "outputs": [
    {
     "data": {
      "text/plain": [
       "array([1., 1., 1.])"
      ]
     },
     "execution_count": 139,
     "metadata": {},
     "output_type": "execute_result"
    }
   ],
   "source": [
    "mat1[1, ..., 0]"
   ]
  },
  {
   "cell_type": "code",
   "execution_count": 164,
   "id": "168e8c17",
   "metadata": {
    "ExecuteTime": {
     "end_time": "2021-05-17T07:27:18.906742Z",
     "start_time": "2021-05-17T07:27:18.898969Z"
    }
   },
   "outputs": [
    {
     "data": {
      "text/plain": [
       "array([[1, 3, 4],\n",
       "       [4, 5, 6]])"
      ]
     },
     "execution_count": 164,
     "metadata": {},
     "output_type": "execute_result"
    }
   ],
   "source": [
    "a"
   ]
  },
  {
   "cell_type": "code",
   "execution_count": 165,
   "id": "b5b004bb",
   "metadata": {
    "ExecuteTime": {
     "end_time": "2021-05-17T07:27:26.538132Z",
     "start_time": "2021-05-17T07:27:26.529983Z"
    }
   },
   "outputs": [
    {
     "data": {
      "text/plain": [
       "array([[False, False,  True],\n",
       "       [ True,  True,  True]])"
      ]
     },
     "execution_count": 165,
     "metadata": {},
     "output_type": "execute_result"
    }
   ],
   "source": [
    "a > 3"
   ]
  },
  {
   "cell_type": "code",
   "execution_count": 142,
   "id": "cbad9793",
   "metadata": {
    "ExecuteTime": {
     "end_time": "2021-05-17T07:16:30.897192Z",
     "start_time": "2021-05-17T07:16:30.889435Z"
    }
   },
   "outputs": [
    {
     "data": {
      "text/plain": [
       "array([4, 4, 5, 6])"
      ]
     },
     "execution_count": 142,
     "metadata": {},
     "output_type": "execute_result"
    }
   ],
   "source": [
    "a[a > 3]"
   ]
  },
  {
   "cell_type": "code",
   "execution_count": 147,
   "id": "a7f6bca0",
   "metadata": {
    "ExecuteTime": {
     "end_time": "2021-05-17T07:18:26.141624Z",
     "start_time": "2021-05-17T07:18:26.133185Z"
    }
   },
   "outputs": [
    {
     "data": {
      "text/plain": [
       "array([20, 17, 23])"
      ]
     },
     "execution_count": 147,
     "metadata": {},
     "output_type": "execute_result"
    }
   ],
   "source": [
    "c[[2, 3, 4], [0, 1, 2]]"
   ]
  },
  {
   "cell_type": "code",
   "execution_count": 162,
   "id": "6a79f106",
   "metadata": {
    "ExecuteTime": {
     "end_time": "2021-05-17T07:26:14.601414Z",
     "start_time": "2021-05-17T07:26:14.593155Z"
    }
   },
   "outputs": [
    {
     "data": {
      "text/plain": [
       "array([[41, 42, 43, 44, 45],\n",
       "       [46, 47, 48, 49, 50]])"
      ]
     },
     "execution_count": 162,
     "metadata": {},
     "output_type": "execute_result"
    }
   ],
   "source": [
    "c[-2:10]"
   ]
  },
  {
   "cell_type": "code",
   "execution_count": 163,
   "id": "3976e8ef",
   "metadata": {
    "ExecuteTime": {
     "end_time": "2021-05-17T07:26:43.385116Z",
     "start_time": "2021-05-17T07:26:43.376780Z"
    }
   },
   "outputs": [
    {
     "data": {
      "text/plain": [
       "array([[26, 27, 28, 29, 30],\n",
       "       [31, 32, 33, 34, 35],\n",
       "       [36, 37, 38, 39, 40],\n",
       "       [41, 42, 43, 44, 45]])"
      ]
     },
     "execution_count": 163,
     "metadata": {},
     "output_type": "execute_result"
    }
   ],
   "source": [
    "c[5:-1]"
   ]
  },
  {
   "cell_type": "code",
   "execution_count": 166,
   "id": "5ebe011b",
   "metadata": {
    "ExecuteTime": {
     "end_time": "2021-05-17T07:29:17.719329Z",
     "start_time": "2021-05-17T07:29:17.711502Z"
    }
   },
   "outputs": [
    {
     "data": {
      "text/plain": [
       "array([], shape=(0, 5), dtype=int64)"
      ]
     },
     "execution_count": 166,
     "metadata": {},
     "output_type": "execute_result"
    }
   ],
   "source": [
    "c[-2:8]"
   ]
  },
  {
   "cell_type": "code",
   "execution_count": null,
   "id": "3a00f681",
   "metadata": {},
   "outputs": [],
   "source": []
  },
  {
   "cell_type": "code",
   "execution_count": 149,
   "id": "be1e5c99",
   "metadata": {
    "ExecuteTime": {
     "end_time": "2021-05-17T07:20:33.848245Z",
     "start_time": "2021-05-17T07:20:33.835232Z"
    }
   },
   "outputs": [
    {
     "data": {
      "text/plain": [
       "0.8101368131480211"
      ]
     },
     "execution_count": 149,
     "metadata": {},
     "output_type": "execute_result"
    }
   ],
   "source": [
    "np.random.random()"
   ]
  },
  {
   "cell_type": "code",
   "execution_count": 153,
   "id": "21e732f6",
   "metadata": {
    "ExecuteTime": {
     "end_time": "2021-05-17T07:22:03.572407Z",
     "start_time": "2021-05-17T07:22:03.566928Z"
    }
   },
   "outputs": [],
   "source": [
    "rng = np.random.default_rng(seed=42)"
   ]
  },
  {
   "cell_type": "code",
   "execution_count": 154,
   "id": "05cd2c3c",
   "metadata": {
    "ExecuteTime": {
     "end_time": "2021-05-17T07:22:05.150122Z",
     "start_time": "2021-05-17T07:22:05.140051Z"
    }
   },
   "outputs": [
    {
     "data": {
      "text/plain": [
       "array([[0.77395605, 0.43887844, 0.85859792],\n",
       "       [0.69736803, 0.09417735, 0.97562235],\n",
       "       [0.7611397 , 0.78606431, 0.12811363],\n",
       "       [0.45038594, 0.37079802, 0.92676499],\n",
       "       [0.64386512, 0.82276161, 0.4434142 ]])"
      ]
     },
     "execution_count": 154,
     "metadata": {},
     "output_type": "execute_result"
    }
   ],
   "source": [
    "rng.random((5, 3))"
   ]
  },
  {
   "cell_type": "code",
   "execution_count": 161,
   "id": "464b3040",
   "metadata": {
    "ExecuteTime": {
     "end_time": "2021-05-17T07:24:34.617769Z",
     "start_time": "2021-05-17T07:24:34.607962Z"
    }
   },
   "outputs": [
    {
     "data": {
      "text/plain": [
       "array([[9, 5],\n",
       "       [9, 9],\n",
       "       [6, 8],\n",
       "       [5, 8],\n",
       "       [8, 6],\n",
       "       [5, 9],\n",
       "       [7, 9],\n",
       "       [8, 8],\n",
       "       [8, 5],\n",
       "       [6, 7]])"
      ]
     },
     "execution_count": 161,
     "metadata": {},
     "output_type": "execute_result"
    }
   ],
   "source": [
    "rng.integers(5, 10, size=(10, 2))"
   ]
  },
  {
   "cell_type": "code",
   "execution_count": 167,
   "id": "ba2ff1a0",
   "metadata": {
    "ExecuteTime": {
     "end_time": "2021-05-17T07:30:01.469653Z",
     "start_time": "2021-05-17T07:30:01.461889Z"
    }
   },
   "outputs": [
    {
     "data": {
      "text/plain": [
       "0.36544406436407834"
      ]
     },
     "execution_count": 167,
     "metadata": {},
     "output_type": "execute_result"
    }
   ],
   "source": [
    "rng.normal()"
   ]
  },
  {
   "cell_type": "code",
   "execution_count": 172,
   "id": "9db71a9a",
   "metadata": {
    "ExecuteTime": {
     "end_time": "2021-05-17T07:33:28.335179Z",
     "start_time": "2021-05-17T07:33:28.326144Z"
    }
   },
   "outputs": [
    {
     "data": {
      "text/plain": [
       "array([3, 4, 1, 3, 1, 4, 3, 2, 2, 3])"
      ]
     },
     "execution_count": 172,
     "metadata": {},
     "output_type": "execute_result"
    }
   ],
   "source": [
    "rng.choice([1, 2, 3, 4, 5], size=10)"
   ]
  },
  {
   "cell_type": "code",
   "execution_count": 173,
   "id": "2bcf9c7c",
   "metadata": {
    "ExecuteTime": {
     "end_time": "2021-05-17T07:34:16.410695Z",
     "start_time": "2021-05-17T07:34:16.403216Z"
    }
   },
   "outputs": [
    {
     "data": {
      "text/plain": [
       "[[10, 20, 3], 'b', 'c']"
      ]
     },
     "execution_count": 173,
     "metadata": {},
     "output_type": "execute_result"
    }
   ],
   "source": [
    "a_list"
   ]
  },
  {
   "cell_type": "code",
   "execution_count": 174,
   "id": "39a2da32",
   "metadata": {
    "ExecuteTime": {
     "end_time": "2021-05-17T07:34:42.221023Z",
     "start_time": "2021-05-17T07:34:42.210773Z"
    }
   },
   "outputs": [],
   "source": [
    "rng.shuffle(a_list)"
   ]
  },
  {
   "cell_type": "code",
   "execution_count": 175,
   "id": "a04aa017",
   "metadata": {
    "ExecuteTime": {
     "end_time": "2021-05-17T07:34:54.986400Z",
     "start_time": "2021-05-17T07:34:54.978786Z"
    }
   },
   "outputs": [
    {
     "data": {
      "text/plain": [
       "['b', [10, 20, 3], 'c']"
      ]
     },
     "execution_count": 175,
     "metadata": {},
     "output_type": "execute_result"
    }
   ],
   "source": [
    "a_list"
   ]
  },
  {
   "cell_type": "code",
   "execution_count": 176,
   "id": "a2ba061b",
   "metadata": {
    "ExecuteTime": {
     "end_time": "2021-05-17T07:35:44.313639Z",
     "start_time": "2021-05-17T07:35:44.298382Z"
    }
   },
   "outputs": [
    {
     "name": "stderr",
     "output_type": "stream",
     "text": [
      "/opt/conda/lib/python3.8/site-packages/numpy/core/_asarray.py:83: VisibleDeprecationWarning: Creating an ndarray from ragged nested sequences (which is a list-or-tuple of lists-or-tuples-or ndarrays with different lengths or shapes) is deprecated. If you meant to do this, you must specify 'dtype=object' when creating the ndarray\n",
      "  return array(a, dtype, copy=False, order=order)\n",
      "<__array_function__ internals>:5: VisibleDeprecationWarning: Creating an ndarray from ragged nested sequences (which is a list-or-tuple of lists-or-tuples-or ndarrays with different lengths or shapes) is deprecated. If you meant to do this, you must specify 'dtype=object' when creating the ndarray\n"
     ]
    },
    {
     "data": {
      "text/plain": [
       "array(['c', 'b', list([10, 20, 3])], dtype=object)"
      ]
     },
     "execution_count": 176,
     "metadata": {},
     "output_type": "execute_result"
    }
   ],
   "source": [
    "rng.permutation(a_list)"
   ]
  },
  {
   "cell_type": "code",
   "execution_count": 177,
   "id": "83bdeede",
   "metadata": {
    "ExecuteTime": {
     "end_time": "2021-05-17T07:35:52.487134Z",
     "start_time": "2021-05-17T07:35:52.479109Z"
    }
   },
   "outputs": [
    {
     "data": {
      "text/plain": [
       "['b', [10, 20, 3], 'c']"
      ]
     },
     "execution_count": 177,
     "metadata": {},
     "output_type": "execute_result"
    }
   ],
   "source": [
    "a_list"
   ]
  },
  {
   "cell_type": "code",
   "execution_count": null,
   "id": "94259284",
   "metadata": {},
   "outputs": [],
   "source": []
  },
  {
   "cell_type": "code",
   "execution_count": null,
   "id": "119ac091",
   "metadata": {},
   "outputs": [],
   "source": []
  },
  {
   "cell_type": "code",
   "execution_count": 178,
   "id": "d60e90d4",
   "metadata": {
    "ExecuteTime": {
     "end_time": "2021-05-17T07:49:19.999187Z",
     "start_time": "2021-05-17T07:49:19.723469Z"
    }
   },
   "outputs": [],
   "source": [
    "import pandas as pd"
   ]
  },
  {
   "cell_type": "code",
   "execution_count": 187,
   "id": "e0c08d27",
   "metadata": {
    "ExecuteTime": {
     "end_time": "2021-05-17T07:57:19.766726Z",
     "start_time": "2021-05-17T07:57:19.760140Z"
    }
   },
   "outputs": [],
   "source": [
    "s1 = pd.Series([1, 2, 3], index=list('abc'))"
   ]
  },
  {
   "cell_type": "code",
   "execution_count": 188,
   "id": "0a6364c7",
   "metadata": {
    "ExecuteTime": {
     "end_time": "2021-05-17T07:57:34.206604Z",
     "start_time": "2021-05-17T07:57:34.199523Z"
    }
   },
   "outputs": [],
   "source": [
    "s2 = pd.Series({\n",
    "    'f': 10,\n",
    "    'g': 11,\n",
    "    'h': 12,\n",
    "    'i': 13,\n",
    "    'j': 14\n",
    "})"
   ]
  },
  {
   "cell_type": "code",
   "execution_count": 186,
   "id": "3ce12e4e",
   "metadata": {
    "ExecuteTime": {
     "end_time": "2021-05-17T07:55:48.955377Z",
     "start_time": "2021-05-17T07:55:48.944060Z"
    }
   },
   "outputs": [
    {
     "data": {
      "text/plain": [
       "b    5\n",
       "c    5\n",
       "d    5\n",
       "dtype: int64"
      ]
     },
     "execution_count": 186,
     "metadata": {},
     "output_type": "execute_result"
    }
   ],
   "source": [
    "pd.Series(5, index=list('bcd'))"
   ]
  },
  {
   "cell_type": "code",
   "execution_count": 191,
   "id": "63dde8da",
   "metadata": {
    "ExecuteTime": {
     "end_time": "2021-05-17T07:58:14.281244Z",
     "start_time": "2021-05-17T07:58:14.273424Z"
    }
   },
   "outputs": [
    {
     "data": {
      "text/plain": [
       "12"
      ]
     },
     "execution_count": 191,
     "metadata": {},
     "output_type": "execute_result"
    }
   ],
   "source": [
    "s2[2]"
   ]
  },
  {
   "cell_type": "code",
   "execution_count": 193,
   "id": "ade91622",
   "metadata": {
    "ExecuteTime": {
     "end_time": "2021-05-17T07:58:35.611041Z",
     "start_time": "2021-05-17T07:58:35.603128Z"
    }
   },
   "outputs": [
    {
     "data": {
      "text/plain": [
       "10"
      ]
     },
     "execution_count": 193,
     "metadata": {},
     "output_type": "execute_result"
    }
   ],
   "source": [
    "s2['f']"
   ]
  },
  {
   "cell_type": "code",
   "execution_count": 194,
   "id": "17bd4e80",
   "metadata": {
    "ExecuteTime": {
     "end_time": "2021-05-17T08:00:46.088180Z",
     "start_time": "2021-05-17T08:00:46.078182Z"
    }
   },
   "outputs": [
    {
     "data": {
      "text/plain": [
       "f    10\n",
       "h    12\n",
       "j    14\n",
       "dtype: int64"
      ]
     },
     "execution_count": 194,
     "metadata": {},
     "output_type": "execute_result"
    }
   ],
   "source": [
    "s2[::2]"
   ]
  },
  {
   "cell_type": "code",
   "execution_count": 195,
   "id": "af043d4a",
   "metadata": {
    "ExecuteTime": {
     "end_time": "2021-05-17T08:01:00.037552Z",
     "start_time": "2021-05-17T08:01:00.027740Z"
    }
   },
   "outputs": [
    {
     "data": {
      "text/plain": [
       "f    10\n",
       "g    11\n",
       "h    12\n",
       "dtype: int64"
      ]
     },
     "execution_count": 195,
     "metadata": {},
     "output_type": "execute_result"
    }
   ],
   "source": [
    "s2[:3]"
   ]
  },
  {
   "cell_type": "code",
   "execution_count": 196,
   "id": "b3d616b2",
   "metadata": {
    "ExecuteTime": {
     "end_time": "2021-05-17T08:01:49.287314Z",
     "start_time": "2021-05-17T08:01:49.279905Z"
    }
   },
   "outputs": [
    {
     "data": {
      "text/plain": [
       "dtype('int64')"
      ]
     },
     "execution_count": 196,
     "metadata": {},
     "output_type": "execute_result"
    }
   ],
   "source": [
    "s2.dtype"
   ]
  },
  {
   "cell_type": "code",
   "execution_count": 197,
   "id": "a16cc1fb",
   "metadata": {
    "ExecuteTime": {
     "end_time": "2021-05-17T08:02:21.247569Z",
     "start_time": "2021-05-17T08:02:21.214394Z"
    }
   },
   "outputs": [
    {
     "data": {
      "text/plain": [
       "h    12\n",
       "i    13\n",
       "j    14\n",
       "dtype: int64"
      ]
     },
     "execution_count": 197,
     "metadata": {},
     "output_type": "execute_result"
    }
   ],
   "source": [
    "s2[s2>11]"
   ]
  },
  {
   "cell_type": "code",
   "execution_count": 198,
   "id": "00b6da83",
   "metadata": {
    "ExecuteTime": {
     "end_time": "2021-05-17T08:02:42.295628Z",
     "start_time": "2021-05-17T08:02:42.287977Z"
    }
   },
   "outputs": [
    {
     "data": {
      "text/plain": [
       "(5,)"
      ]
     },
     "execution_count": 198,
     "metadata": {},
     "output_type": "execute_result"
    }
   ],
   "source": [
    "s2.shape"
   ]
  },
  {
   "cell_type": "code",
   "execution_count": 200,
   "id": "14fb4914",
   "metadata": {
    "ExecuteTime": {
     "end_time": "2021-05-17T08:06:49.000467Z",
     "start_time": "2021-05-17T08:06:48.989877Z"
    }
   },
   "outputs": [
    {
     "data": {
      "text/plain": [
       "f    2.202647e+04\n",
       "g    5.987414e+04\n",
       "h    1.627548e+05\n",
       "i    4.424134e+05\n",
       "j    1.202604e+06\n",
       "dtype: float64"
      ]
     },
     "execution_count": 200,
     "metadata": {},
     "output_type": "execute_result"
    }
   ],
   "source": [
    "np.exp(s2)"
   ]
  },
  {
   "cell_type": "code",
   "execution_count": null,
   "id": "8227c8a9",
   "metadata": {},
   "outputs": [],
   "source": []
  }
 ],
 "metadata": {
  "kernelspec": {
   "display_name": "Python 3",
   "language": "python",
   "name": "python3"
  },
  "language_info": {
   "codemirror_mode": {
    "name": "ipython",
    "version": 3
   },
   "file_extension": ".py",
   "mimetype": "text/x-python",
   "name": "python",
   "nbconvert_exporter": "python",
   "pygments_lexer": "ipython3",
   "version": "3.7.7"
  }
 },
 "nbformat": 4,
 "nbformat_minor": 5
}
