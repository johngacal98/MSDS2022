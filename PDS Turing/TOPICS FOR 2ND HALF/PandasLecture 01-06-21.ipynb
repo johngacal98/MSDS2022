{
 "cells": [
  {
   "cell_type": "code",
   "execution_count": 49,
   "id": "f3532af3",
   "metadata": {},
   "outputs": [],
   "source": [
    "import datetime\n",
    "import pandas as pd\n",
    "import numpy as np"
   ]
  },
  {
   "cell_type": "code",
   "execution_count": 3,
   "id": "4826289a",
   "metadata": {},
   "outputs": [],
   "source": [
    "datetime.datetime? #datetime(year, month, day[, hour[, minute[, second[, microsecond[,tzinfo]]]]])"
   ]
  },
  {
   "cell_type": "code",
   "execution_count": 4,
   "id": "2f59c672",
   "metadata": {},
   "outputs": [
    {
     "data": {
      "text/plain": [
       "datetime.datetime(2021, 6, 1, 0, 0)"
      ]
     },
     "execution_count": 4,
     "metadata": {},
     "output_type": "execute_result"
    }
   ],
   "source": [
    "datetime.datetime(2021, 6, 1)"
   ]
  },
  {
   "cell_type": "code",
   "execution_count": 5,
   "id": "4d599d67",
   "metadata": {},
   "outputs": [
    {
     "data": {
      "text/plain": [
       "datetime.datetime(2021, 6, 1, 13, 0)"
      ]
     },
     "execution_count": 5,
     "metadata": {},
     "output_type": "execute_result"
    }
   ],
   "source": [
    "datetime.datetime(2021, 6, 1, 13) #timezone-naive, no timezone specified"
   ]
  },
  {
   "cell_type": "code",
   "execution_count": 6,
   "id": "dc5c2935",
   "metadata": {},
   "outputs": [
    {
     "data": {
      "text/plain": [
       "datetime.datetime(2021, 6, 1, 13, 0, tzinfo=datetime.timezone.utc)"
      ]
     },
     "execution_count": 6,
     "metadata": {},
     "output_type": "execute_result"
    }
   ],
   "source": [
    "datetime.datetime(2021, 6, 1, 13, tzinfo = datetime.timezone.utc) #timezone-aware"
   ]
  },
  {
   "cell_type": "code",
   "execution_count": 11,
   "id": "d86a78af",
   "metadata": {},
   "outputs": [
    {
     "data": {
      "text/plain": [
       "Timestamp('2021-06-01 13:00:00+0000', tz='UTC')"
      ]
     },
     "execution_count": 11,
     "metadata": {},
     "output_type": "execute_result"
    }
   ],
   "source": [
    "pd.Timestamp(datetime.datetime(2021, 6, 1, 13, tzinfo=datetime.timezone.utc))"
   ]
  },
  {
   "cell_type": "code",
   "execution_count": null,
   "id": "b683e75e",
   "metadata": {},
   "outputs": [],
   "source": [
    "['2021-06-01', '2021-05-02']"
   ]
  },
  {
   "cell_type": "code",
   "execution_count": 16,
   "id": "0c822be0",
   "metadata": {},
   "outputs": [
    {
     "data": {
      "text/plain": [
       "Timestamp('2021-06-01 13:00:00+0800', tz='Asia/Manila')"
      ]
     },
     "execution_count": 16,
     "metadata": {},
     "output_type": "execute_result"
    }
   ],
   "source": [
    "pd.Timestamp('2021-06-01 13:00', tz='Asia/Manila')"
   ]
  },
  {
   "cell_type": "code",
   "execution_count": 17,
   "id": "93202500",
   "metadata": {},
   "outputs": [
    {
     "data": {
      "text/plain": [
       "Period('2021-06-01', 'D')"
      ]
     },
     "execution_count": 17,
     "metadata": {},
     "output_type": "execute_result"
    }
   ],
   "source": [
    "pd.Period('2021-06-01')"
   ]
  },
  {
   "cell_type": "code",
   "execution_count": 18,
   "id": "31b06bab",
   "metadata": {},
   "outputs": [
    {
     "data": {
      "text/plain": [
       "Period('2021-05-31/2021-06-06', 'W-SUN')"
      ]
     },
     "execution_count": 18,
     "metadata": {},
     "output_type": "execute_result"
    }
   ],
   "source": [
    "pd.Period('2021-06-01', freq='W')"
   ]
  },
  {
   "cell_type": "code",
   "execution_count": 19,
   "id": "dc1711a5",
   "metadata": {},
   "outputs": [],
   "source": [
    "dates = [\n",
    "    pd.Timestamp('2021-06-01'), pd.Timestamp('2021-06-02'), \n",
    "    pd.Timestamp('2021-06-03')\n",
    "]"
   ]
  },
  {
   "cell_type": "code",
   "execution_count": 20,
   "id": "35443b59",
   "metadata": {},
   "outputs": [],
   "source": [
    "ts = pd.Series([1,2,3], index=dates)"
   ]
  },
  {
   "cell_type": "code",
   "execution_count": 21,
   "id": "8cc081e5",
   "metadata": {},
   "outputs": [
    {
     "data": {
      "text/plain": [
       "2021-06-01    1\n",
       "2021-06-02    2\n",
       "2021-06-03    3\n",
       "dtype: int64"
      ]
     },
     "execution_count": 21,
     "metadata": {},
     "output_type": "execute_result"
    }
   ],
   "source": [
    "ts"
   ]
  },
  {
   "cell_type": "code",
   "execution_count": 22,
   "id": "3f229b91",
   "metadata": {},
   "outputs": [
    {
     "data": {
      "text/plain": [
       "DatetimeIndex(['2021-06-01', '2021-06-02', '2021-06-03'], dtype='datetime64[ns]', freq=None)"
      ]
     },
     "execution_count": 22,
     "metadata": {},
     "output_type": "execute_result"
    }
   ],
   "source": [
    "ts.index"
   ]
  },
  {
   "cell_type": "code",
   "execution_count": 23,
   "id": "5c3d453c",
   "metadata": {},
   "outputs": [
    {
     "data": {
      "text/plain": [
       "2021-05-31/2021-06-06    10\n",
       "2021-05-31/2021-06-06    20\n",
       "2021-05-31/2021-06-06    30\n",
       "Freq: W-SUN, dtype: int64"
      ]
     },
     "execution_count": 23,
     "metadata": {},
     "output_type": "execute_result"
    }
   ],
   "source": [
    "periods = [\n",
    "    pd.Period('2021-06-01', freq='W'), pd.Period('2021-06-02', freq='W'), \n",
    "    pd.Period('2021-06-03', freq='W')\n",
    "]\n",
    "ps = pd.Series([10,20,30], index=periods)\n",
    "ps"
   ]
  },
  {
   "cell_type": "code",
   "execution_count": 25,
   "id": "b53006eb",
   "metadata": {},
   "outputs": [
    {
     "data": {
      "text/plain": [
       "PeriodIndex(['2021-05-31/2021-06-06', '2021-05-31/2021-06-06',\n",
       "             '2021-05-31/2021-06-06'],\n",
       "            dtype='period[W-SUN]', freq='W-SUN')"
      ]
     },
     "execution_count": 25,
     "metadata": {},
     "output_type": "execute_result"
    }
   ],
   "source": [
    "ps.index"
   ]
  },
  {
   "cell_type": "code",
   "execution_count": 26,
   "id": "1c55ffb7",
   "metadata": {},
   "outputs": [
    {
     "data": {
      "text/plain": [
       "2021-06-01/2021-06-07    10\n",
       "2021-06-01/2021-06-07    20\n",
       "2021-06-01/2021-06-07    30\n",
       "Freq: W-MON, dtype: int64"
      ]
     },
     "execution_count": 26,
     "metadata": {},
     "output_type": "execute_result"
    }
   ],
   "source": [
    "periods = [\n",
    "    pd.Period('2021-06-01', freq='W-MON'), pd.Period('2021-06-02', freq='W-MON'), \n",
    "    pd.Period('2021-06-03', freq='W-MON')\n",
    "]\n",
    "ps = pd.Series([10,20,30], index=periods)\n",
    "ps"
   ]
  },
  {
   "cell_type": "code",
   "execution_count": 27,
   "id": "4026ea1f",
   "metadata": {},
   "outputs": [
    {
     "data": {
      "text/plain": [
       "DatetimeIndex(['2021-06-01', '2021-06-02', '2021-06-03', '2021-06-04',\n",
       "               '2021-06-05', '2021-06-06', '2021-06-07'],\n",
       "              dtype='datetime64[ns]', freq='D')"
      ]
     },
     "execution_count": 27,
     "metadata": {},
     "output_type": "execute_result"
    }
   ],
   "source": [
    "pd.date_range('2021-06-01', '2021-6-07')"
   ]
  },
  {
   "cell_type": "code",
   "execution_count": 28,
   "id": "20c67d61",
   "metadata": {},
   "outputs": [
    {
     "data": {
      "text/plain": [
       "DatetimeIndex(['2021-06-01 00:00:00', '2021-06-01 01:00:00',\n",
       "               '2021-06-01 02:00:00', '2021-06-01 03:00:00',\n",
       "               '2021-06-01 04:00:00', '2021-06-01 05:00:00',\n",
       "               '2021-06-01 06:00:00', '2021-06-01 07:00:00',\n",
       "               '2021-06-01 08:00:00', '2021-06-01 09:00:00',\n",
       "               ...\n",
       "               '2021-06-06 15:00:00', '2021-06-06 16:00:00',\n",
       "               '2021-06-06 17:00:00', '2021-06-06 18:00:00',\n",
       "               '2021-06-06 19:00:00', '2021-06-06 20:00:00',\n",
       "               '2021-06-06 21:00:00', '2021-06-06 22:00:00',\n",
       "               '2021-06-06 23:00:00', '2021-06-07 00:00:00'],\n",
       "              dtype='datetime64[ns]', length=145, freq='H')"
      ]
     },
     "execution_count": 28,
     "metadata": {},
     "output_type": "execute_result"
    }
   ],
   "source": [
    "pd.date_range('2021-06-01', '2021-6-07', freq='H')"
   ]
  },
  {
   "cell_type": "code",
   "execution_count": 29,
   "id": "c1e4ec0a",
   "metadata": {},
   "outputs": [
    {
     "data": {
      "text/plain": [
       "DatetimeIndex(['2021-06-01 00:00:00', '2021-06-01 02:00:00',\n",
       "               '2021-06-01 04:00:00', '2021-06-01 06:00:00',\n",
       "               '2021-06-01 08:00:00', '2021-06-01 10:00:00',\n",
       "               '2021-06-01 12:00:00', '2021-06-01 14:00:00',\n",
       "               '2021-06-01 16:00:00', '2021-06-01 18:00:00',\n",
       "               '2021-06-01 20:00:00', '2021-06-01 22:00:00'],\n",
       "              dtype='datetime64[ns]', freq='2H')"
      ]
     },
     "execution_count": 29,
     "metadata": {},
     "output_type": "execute_result"
    }
   ],
   "source": [
    "pd.date_range('2021-06-01', periods=12, freq='2H')"
   ]
  },
  {
   "cell_type": "code",
   "execution_count": 30,
   "id": "89e302b7",
   "metadata": {},
   "outputs": [
    {
     "data": {
      "text/plain": [
       "DatetimeIndex(['2021-06-01', '2021-06-02', '2021-06-03', '2021-06-04',\n",
       "               '2021-06-07', '2021-06-08', '2021-06-09', '2021-06-10',\n",
       "               '2021-06-11', '2021-06-14', '2021-06-15', '2021-06-16',\n",
       "               '2021-06-17', '2021-06-18', '2021-06-21', '2021-06-22',\n",
       "               '2021-06-23', '2021-06-24', '2021-06-25', '2021-06-28',\n",
       "               '2021-06-29', '2021-06-30'],\n",
       "              dtype='datetime64[ns]', freq='B')"
      ]
     },
     "execution_count": 30,
     "metadata": {},
     "output_type": "execute_result"
    }
   ],
   "source": [
    "pd.bdate_range('Jun 1 2021', '30 june 2021') #only counts business days"
   ]
  },
  {
   "cell_type": "code",
   "execution_count": 31,
   "id": "68009628",
   "metadata": {},
   "outputs": [
    {
     "data": {
      "text/plain": [
       "PeriodIndex(['2021-01', '2021-02', '2021-03', '2021-04', '2021-05', '2021-06',\n",
       "             '2021-07', '2021-08', '2021-09', '2021-10', '2021-11', '2021-12'],\n",
       "            dtype='period[M]', freq='M')"
      ]
     },
     "execution_count": 31,
     "metadata": {},
     "output_type": "execute_result"
    }
   ],
   "source": [
    "pd.period_range('Jan 2021', 'Dec 2021', freq='M')"
   ]
  },
  {
   "cell_type": "code",
   "execution_count": 32,
   "id": "027d77bc",
   "metadata": {},
   "outputs": [
    {
     "data": {
      "text/plain": [
       "DatetimeIndex(['2021-06-01', '2021-06-02', '2021-06-03'], dtype='datetime64[ns]', freq=None)"
      ]
     },
     "execution_count": 32,
     "metadata": {},
     "output_type": "execute_result"
    }
   ],
   "source": [
    "pd.to_datetime(['2021-06-01', '2021-06-02', '2021-06-03'])"
   ]
  },
  {
   "cell_type": "code",
   "execution_count": 33,
   "id": "b888ea99",
   "metadata": {},
   "outputs": [
    {
     "data": {
      "text/plain": [
       "DatetimeIndex(['2021-06-01', '2021-06-02', '2021-06-03'], dtype='datetime64[ns]', freq=None)"
      ]
     },
     "execution_count": 33,
     "metadata": {},
     "output_type": "execute_result"
    }
   ],
   "source": [
    "pd.to_datetime(['2021 06 01', '2021 06 02', '2021 06 03'], format ='%Y %m %d')"
   ]
  },
  {
   "cell_type": "code",
   "execution_count": null,
   "id": "408329d2",
   "metadata": {},
   "outputs": [],
   "source": [
    "datetime.datetime.fromtimestamp()"
   ]
  },
  {
   "cell_type": "code",
   "execution_count": 34,
   "id": "45a007d9",
   "metadata": {},
   "outputs": [
    {
     "data": {
      "text/plain": [
       "DatetimeIndex(['2021-06-01', '2021-06-02', '2021-06-03'], dtype='datetime64[ns]', freq=None)"
      ]
     },
     "execution_count": 34,
     "metadata": {},
     "output_type": "execute_result"
    }
   ],
   "source": [
    "ts.index"
   ]
  },
  {
   "cell_type": "code",
   "execution_count": 36,
   "id": "ff017f89",
   "metadata": {},
   "outputs": [
    {
     "data": {
      "text/plain": [
       "DatetimeIndex(['2021-06-01 00:00:00+08:00', '2021-06-02 00:00:00+08:00',\n",
       "               '2021-06-03 00:00:00+08:00'],\n",
       "              dtype='datetime64[ns, Asia/Manila]', freq=None)"
      ]
     },
     "execution_count": 36,
     "metadata": {},
     "output_type": "execute_result"
    }
   ],
   "source": [
    "ts.index.tz_localize('Asia/Manila') #make timezone-naive to timezone-aware"
   ]
  },
  {
   "cell_type": "code",
   "execution_count": 37,
   "id": "05d577dd",
   "metadata": {},
   "outputs": [
    {
     "data": {
      "text/plain": [
       "DatetimeIndex(['2021-05-31 17:00:00+01:00', '2021-06-01 17:00:00+01:00',\n",
       "               '2021-06-02 17:00:00+01:00'],\n",
       "              dtype='datetime64[ns, Europe/London]', freq=None)"
      ]
     },
     "execution_count": 37,
     "metadata": {},
     "output_type": "execute_result"
    }
   ],
   "source": [
    "ts.index.tz_localize('Asia/Manila').tz_convert('Europe/London') #converting timezones for timezone-aware"
   ]
  },
  {
   "cell_type": "code",
   "execution_count": 39,
   "id": "ba88743d",
   "metadata": {},
   "outputs": [
    {
     "data": {
      "text/plain": [
       "0   2021-06-01\n",
       "1   2021-06-02\n",
       "2   2021-06-03\n",
       "3   2021-06-04\n",
       "4   2021-06-05\n",
       "5   2021-06-06\n",
       "6   2021-06-07\n",
       "dtype: datetime64[ns]"
      ]
     },
     "execution_count": 39,
     "metadata": {},
     "output_type": "execute_result"
    }
   ],
   "source": [
    "ts2 = pd.date_range('2021-06-01','2021-06-07')\n",
    "ts2 = pd.Series(ts2)\n",
    "ts2"
   ]
  },
  {
   "cell_type": "code",
   "execution_count": 40,
   "id": "65121132",
   "metadata": {},
   "outputs": [
    {
     "data": {
      "text/plain": [
       "2021-06-01 00:00:00    1.0\n",
       "2021-06-01 01:00:00    NaN\n",
       "2021-06-01 02:00:00    NaN\n",
       "2021-06-01 03:00:00    NaN\n",
       "2021-06-01 04:00:00    NaN\n",
       "2021-06-01 05:00:00    NaN\n",
       "2021-06-01 06:00:00    NaN\n",
       "2021-06-01 07:00:00    NaN\n",
       "2021-06-01 08:00:00    NaN\n",
       "2021-06-01 09:00:00    NaN\n",
       "2021-06-01 10:00:00    NaN\n",
       "2021-06-01 11:00:00    NaN\n",
       "2021-06-01 12:00:00    NaN\n",
       "2021-06-01 13:00:00    NaN\n",
       "2021-06-01 14:00:00    NaN\n",
       "2021-06-01 15:00:00    NaN\n",
       "2021-06-01 16:00:00    NaN\n",
       "2021-06-01 17:00:00    NaN\n",
       "2021-06-01 18:00:00    NaN\n",
       "2021-06-01 19:00:00    NaN\n",
       "2021-06-01 20:00:00    NaN\n",
       "2021-06-01 21:00:00    NaN\n",
       "2021-06-01 22:00:00    NaN\n",
       "2021-06-01 23:00:00    NaN\n",
       "2021-06-02 00:00:00    2.0\n",
       "2021-06-02 01:00:00    NaN\n",
       "2021-06-02 02:00:00    NaN\n",
       "2021-06-02 03:00:00    NaN\n",
       "2021-06-02 04:00:00    NaN\n",
       "2021-06-02 05:00:00    NaN\n",
       "2021-06-02 06:00:00    NaN\n",
       "2021-06-02 07:00:00    NaN\n",
       "2021-06-02 08:00:00    NaN\n",
       "2021-06-02 09:00:00    NaN\n",
       "2021-06-02 10:00:00    NaN\n",
       "2021-06-02 11:00:00    NaN\n",
       "2021-06-02 12:00:00    NaN\n",
       "2021-06-02 13:00:00    NaN\n",
       "2021-06-02 14:00:00    NaN\n",
       "2021-06-02 15:00:00    NaN\n",
       "2021-06-02 16:00:00    NaN\n",
       "2021-06-02 17:00:00    NaN\n",
       "2021-06-02 18:00:00    NaN\n",
       "2021-06-02 19:00:00    NaN\n",
       "2021-06-02 20:00:00    NaN\n",
       "2021-06-02 21:00:00    NaN\n",
       "2021-06-02 22:00:00    NaN\n",
       "2021-06-02 23:00:00    NaN\n",
       "2021-06-03 00:00:00    3.0\n",
       "Freq: H, dtype: float64"
      ]
     },
     "execution_count": 40,
     "metadata": {},
     "output_type": "execute_result"
    }
   ],
   "source": [
    "ts.asfreq('H')"
   ]
  },
  {
   "cell_type": "code",
   "execution_count": 42,
   "id": "c067cfd2",
   "metadata": {},
   "outputs": [
    {
     "data": {
      "text/plain": [
       "2021-06-01 00:00:00    1\n",
       "2021-06-01 01:00:00    1\n",
       "2021-06-01 02:00:00    1\n",
       "2021-06-01 03:00:00    1\n",
       "2021-06-01 04:00:00    1\n",
       "2021-06-01 05:00:00    1\n",
       "2021-06-01 06:00:00    1\n",
       "2021-06-01 07:00:00    1\n",
       "2021-06-01 08:00:00    1\n",
       "2021-06-01 09:00:00    1\n",
       "2021-06-01 10:00:00    1\n",
       "2021-06-01 11:00:00    1\n",
       "2021-06-01 12:00:00    1\n",
       "2021-06-01 13:00:00    1\n",
       "2021-06-01 14:00:00    1\n",
       "2021-06-01 15:00:00    1\n",
       "2021-06-01 16:00:00    1\n",
       "2021-06-01 17:00:00    1\n",
       "2021-06-01 18:00:00    1\n",
       "2021-06-01 19:00:00    1\n",
       "2021-06-01 20:00:00    1\n",
       "2021-06-01 21:00:00    1\n",
       "2021-06-01 22:00:00    1\n",
       "2021-06-01 23:00:00    1\n",
       "2021-06-02 00:00:00    2\n",
       "2021-06-02 01:00:00    2\n",
       "2021-06-02 02:00:00    2\n",
       "2021-06-02 03:00:00    2\n",
       "2021-06-02 04:00:00    2\n",
       "2021-06-02 05:00:00    2\n",
       "2021-06-02 06:00:00    2\n",
       "2021-06-02 07:00:00    2\n",
       "2021-06-02 08:00:00    2\n",
       "2021-06-02 09:00:00    2\n",
       "2021-06-02 10:00:00    2\n",
       "2021-06-02 11:00:00    2\n",
       "2021-06-02 12:00:00    2\n",
       "2021-06-02 13:00:00    2\n",
       "2021-06-02 14:00:00    2\n",
       "2021-06-02 15:00:00    2\n",
       "2021-06-02 16:00:00    2\n",
       "2021-06-02 17:00:00    2\n",
       "2021-06-02 18:00:00    2\n",
       "2021-06-02 19:00:00    2\n",
       "2021-06-02 20:00:00    2\n",
       "2021-06-02 21:00:00    2\n",
       "2021-06-02 22:00:00    2\n",
       "2021-06-02 23:00:00    2\n",
       "2021-06-03 00:00:00    3\n",
       "Freq: H, dtype: int64"
      ]
     },
     "execution_count": 42,
     "metadata": {},
     "output_type": "execute_result"
    }
   ],
   "source": [
    "ts.asfreq('H', method='ffill') #forward-filling missing values, try 'bfill'"
   ]
  },
  {
   "cell_type": "code",
   "execution_count": 44,
   "id": "f4c8a050",
   "metadata": {},
   "outputs": [],
   "source": [
    "ts2 = ts.asfreq('H', method='ffill')"
   ]
  },
  {
   "cell_type": "code",
   "execution_count": 46,
   "id": "984baa11",
   "metadata": {},
   "outputs": [
    {
     "data": {
      "text/plain": [
       "2021-06-01 00:00:00    1\n",
       "2021-06-01 06:00:00    1\n",
       "2021-06-01 12:00:00    1\n",
       "2021-06-01 18:00:00    1\n",
       "2021-06-02 00:00:00    2\n",
       "2021-06-02 06:00:00    2\n",
       "2021-06-02 12:00:00    2\n",
       "2021-06-02 18:00:00    2\n",
       "2021-06-03 00:00:00    3\n",
       "Freq: 6H, dtype: int64"
      ]
     },
     "execution_count": 46,
     "metadata": {},
     "output_type": "execute_result"
    }
   ],
   "source": [
    "ts2.resample('6H').mean()"
   ]
  },
  {
   "cell_type": "code",
   "execution_count": 51,
   "id": "3797a5be",
   "metadata": {},
   "outputs": [
    {
     "data": {
      "text/html": [
       "<div>\n",
       "<style scoped>\n",
       "    .dataframe tbody tr th:only-of-type {\n",
       "        vertical-align: middle;\n",
       "    }\n",
       "\n",
       "    .dataframe tbody tr th {\n",
       "        vertical-align: top;\n",
       "    }\n",
       "\n",
       "    .dataframe thead th {\n",
       "        text-align: right;\n",
       "    }\n",
       "</style>\n",
       "<table border=\"1\" class=\"dataframe\">\n",
       "  <thead>\n",
       "    <tr style=\"text-align: right;\">\n",
       "      <th></th>\n",
       "      <th>a</th>\n",
       "      <th>b</th>\n",
       "    </tr>\n",
       "  </thead>\n",
       "  <tbody>\n",
       "    <tr>\n",
       "      <th>0</th>\n",
       "      <td>2021-06-01 00:00:00</td>\n",
       "      <td>0</td>\n",
       "    </tr>\n",
       "    <tr>\n",
       "      <th>1</th>\n",
       "      <td>2021-06-01 01:00:00</td>\n",
       "      <td>1</td>\n",
       "    </tr>\n",
       "    <tr>\n",
       "      <th>2</th>\n",
       "      <td>2021-06-01 02:00:00</td>\n",
       "      <td>2</td>\n",
       "    </tr>\n",
       "    <tr>\n",
       "      <th>3</th>\n",
       "      <td>2021-06-01 03:00:00</td>\n",
       "      <td>3</td>\n",
       "    </tr>\n",
       "    <tr>\n",
       "      <th>4</th>\n",
       "      <td>2021-06-01 04:00:00</td>\n",
       "      <td>4</td>\n",
       "    </tr>\n",
       "    <tr>\n",
       "      <th>...</th>\n",
       "      <td>...</td>\n",
       "      <td>...</td>\n",
       "    </tr>\n",
       "    <tr>\n",
       "      <th>140</th>\n",
       "      <td>2021-06-06 20:00:00</td>\n",
       "      <td>140</td>\n",
       "    </tr>\n",
       "    <tr>\n",
       "      <th>141</th>\n",
       "      <td>2021-06-06 21:00:00</td>\n",
       "      <td>141</td>\n",
       "    </tr>\n",
       "    <tr>\n",
       "      <th>142</th>\n",
       "      <td>2021-06-06 22:00:00</td>\n",
       "      <td>142</td>\n",
       "    </tr>\n",
       "    <tr>\n",
       "      <th>143</th>\n",
       "      <td>2021-06-06 23:00:00</td>\n",
       "      <td>143</td>\n",
       "    </tr>\n",
       "    <tr>\n",
       "      <th>144</th>\n",
       "      <td>2021-06-07 00:00:00</td>\n",
       "      <td>144</td>\n",
       "    </tr>\n",
       "  </tbody>\n",
       "</table>\n",
       "<p>145 rows × 2 columns</p>\n",
       "</div>"
      ],
      "text/plain": [
       "                      a    b\n",
       "0   2021-06-01 00:00:00    0\n",
       "1   2021-06-01 01:00:00    1\n",
       "2   2021-06-01 02:00:00    2\n",
       "3   2021-06-01 03:00:00    3\n",
       "4   2021-06-01 04:00:00    4\n",
       "..                  ...  ...\n",
       "140 2021-06-06 20:00:00  140\n",
       "141 2021-06-06 21:00:00  141\n",
       "142 2021-06-06 22:00:00  142\n",
       "143 2021-06-06 23:00:00  143\n",
       "144 2021-06-07 00:00:00  144\n",
       "\n",
       "[145 rows x 2 columns]"
      ]
     },
     "execution_count": 51,
     "metadata": {},
     "output_type": "execute_result"
    }
   ],
   "source": [
    "df = pd.DataFrame({\n",
    "    'a':pd.date_range('2021-06-01', '2021-06-07', freq='H'),\n",
    "    'b':np.arange(145)\n",
    "})\n",
    "df"
   ]
  },
  {
   "cell_type": "code",
   "execution_count": 53,
   "id": "57aced29",
   "metadata": {},
   "outputs": [
    {
     "data": {
      "text/plain": [
       "a\n",
       "2021-06-01 00:00:00      2.5\n",
       "2021-06-01 06:00:00      8.5\n",
       "2021-06-01 12:00:00     14.5\n",
       "2021-06-01 18:00:00     20.5\n",
       "2021-06-02 00:00:00     26.5\n",
       "2021-06-02 06:00:00     32.5\n",
       "2021-06-02 12:00:00     38.5\n",
       "2021-06-02 18:00:00     44.5\n",
       "2021-06-03 00:00:00     50.5\n",
       "2021-06-03 06:00:00     56.5\n",
       "2021-06-03 12:00:00     62.5\n",
       "2021-06-03 18:00:00     68.5\n",
       "2021-06-04 00:00:00     74.5\n",
       "2021-06-04 06:00:00     80.5\n",
       "2021-06-04 12:00:00     86.5\n",
       "2021-06-04 18:00:00     92.5\n",
       "2021-06-05 00:00:00     98.5\n",
       "2021-06-05 06:00:00    104.5\n",
       "2021-06-05 12:00:00    110.5\n",
       "2021-06-05 18:00:00    116.5\n",
       "2021-06-06 00:00:00    122.5\n",
       "2021-06-06 06:00:00    128.5\n",
       "2021-06-06 12:00:00    134.5\n",
       "2021-06-06 18:00:00    140.5\n",
       "2021-06-07 00:00:00    144.0\n",
       "Freq: 6H, Name: b, dtype: float64"
      ]
     },
     "execution_count": 53,
     "metadata": {},
     "output_type": "execute_result"
    }
   ],
   "source": [
    "df.groupby(pd.Grouper(key='a', freq='6H'))['b'].mean()"
   ]
  },
  {
   "cell_type": "code",
   "execution_count": 56,
   "id": "ac184654",
   "metadata": {},
   "outputs": [
    {
     "data": {
      "text/html": [
       "<div>\n",
       "<style scoped>\n",
       "    .dataframe tbody tr th:only-of-type {\n",
       "        vertical-align: middle;\n",
       "    }\n",
       "\n",
       "    .dataframe tbody tr th {\n",
       "        vertical-align: top;\n",
       "    }\n",
       "\n",
       "    .dataframe thead th {\n",
       "        text-align: right;\n",
       "    }\n",
       "</style>\n",
       "<table border=\"1\" class=\"dataframe\">\n",
       "  <thead>\n",
       "    <tr style=\"text-align: right;\">\n",
       "      <th></th>\n",
       "      <th>b</th>\n",
       "    </tr>\n",
       "    <tr>\n",
       "      <th>a</th>\n",
       "      <th></th>\n",
       "    </tr>\n",
       "  </thead>\n",
       "  <tbody>\n",
       "    <tr>\n",
       "      <th>2021-06-01</th>\n",
       "      <td>12.5</td>\n",
       "    </tr>\n",
       "    <tr>\n",
       "      <th>2021-06-02</th>\n",
       "      <td>36.5</td>\n",
       "    </tr>\n",
       "    <tr>\n",
       "      <th>2021-06-03</th>\n",
       "      <td>60.5</td>\n",
       "    </tr>\n",
       "    <tr>\n",
       "      <th>2021-06-04</th>\n",
       "      <td>84.5</td>\n",
       "    </tr>\n",
       "    <tr>\n",
       "      <th>2021-06-05</th>\n",
       "      <td>108.5</td>\n",
       "    </tr>\n",
       "    <tr>\n",
       "      <th>2021-06-06</th>\n",
       "      <td>132.5</td>\n",
       "    </tr>\n",
       "  </tbody>\n",
       "</table>\n",
       "</div>"
      ],
      "text/plain": [
       "                b\n",
       "a                \n",
       "2021-06-01   12.5\n",
       "2021-06-02   36.5\n",
       "2021-06-03   60.5\n",
       "2021-06-04   84.5\n",
       "2021-06-05  108.5\n",
       "2021-06-06  132.5"
      ]
     },
     "execution_count": 56,
     "metadata": {},
     "output_type": "execute_result"
    }
   ],
   "source": [
    "df2 = df[(df['a'].dt.hour >= 9) & (df['a'].dt.hour<17)]\n",
    "df2.groupby(df2['a'].dt.date).mean()"
   ]
  },
  {
   "cell_type": "code",
   "execution_count": 57,
   "id": "b8aa35bc",
   "metadata": {},
   "outputs": [
    {
     "data": {
      "text/html": [
       "<div>\n",
       "<style scoped>\n",
       "    .dataframe tbody tr th:only-of-type {\n",
       "        vertical-align: middle;\n",
       "    }\n",
       "\n",
       "    .dataframe tbody tr th {\n",
       "        vertical-align: top;\n",
       "    }\n",
       "\n",
       "    .dataframe thead th {\n",
       "        text-align: right;\n",
       "    }\n",
       "</style>\n",
       "<table border=\"1\" class=\"dataframe\">\n",
       "  <thead>\n",
       "    <tr style=\"text-align: right;\">\n",
       "      <th></th>\n",
       "      <th>a</th>\n",
       "      <th>b</th>\n",
       "    </tr>\n",
       "  </thead>\n",
       "  <tbody>\n",
       "    <tr>\n",
       "      <th>0</th>\n",
       "      <td>2021-06-01 00:00:00</td>\n",
       "      <td>0</td>\n",
       "    </tr>\n",
       "    <tr>\n",
       "      <th>1</th>\n",
       "      <td>2021-06-01 01:00:00</td>\n",
       "      <td>1</td>\n",
       "    </tr>\n",
       "    <tr>\n",
       "      <th>2</th>\n",
       "      <td>2021-06-01 02:00:00</td>\n",
       "      <td>2</td>\n",
       "    </tr>\n",
       "    <tr>\n",
       "      <th>3</th>\n",
       "      <td>2021-06-01 03:00:00</td>\n",
       "      <td>3</td>\n",
       "    </tr>\n",
       "    <tr>\n",
       "      <th>4</th>\n",
       "      <td>2021-06-01 04:00:00</td>\n",
       "      <td>4</td>\n",
       "    </tr>\n",
       "    <tr>\n",
       "      <th>...</th>\n",
       "      <td>...</td>\n",
       "      <td>...</td>\n",
       "    </tr>\n",
       "    <tr>\n",
       "      <th>140</th>\n",
       "      <td>2021-06-06 20:00:00</td>\n",
       "      <td>140</td>\n",
       "    </tr>\n",
       "    <tr>\n",
       "      <th>141</th>\n",
       "      <td>2021-06-06 21:00:00</td>\n",
       "      <td>141</td>\n",
       "    </tr>\n",
       "    <tr>\n",
       "      <th>142</th>\n",
       "      <td>2021-06-06 22:00:00</td>\n",
       "      <td>142</td>\n",
       "    </tr>\n",
       "    <tr>\n",
       "      <th>143</th>\n",
       "      <td>2021-06-06 23:00:00</td>\n",
       "      <td>143</td>\n",
       "    </tr>\n",
       "    <tr>\n",
       "      <th>144</th>\n",
       "      <td>2021-06-07 00:00:00</td>\n",
       "      <td>144</td>\n",
       "    </tr>\n",
       "  </tbody>\n",
       "</table>\n",
       "<p>145 rows × 2 columns</p>\n",
       "</div>"
      ],
      "text/plain": [
       "                      a    b\n",
       "0   2021-06-01 00:00:00    0\n",
       "1   2021-06-01 01:00:00    1\n",
       "2   2021-06-01 02:00:00    2\n",
       "3   2021-06-01 03:00:00    3\n",
       "4   2021-06-01 04:00:00    4\n",
       "..                  ...  ...\n",
       "140 2021-06-06 20:00:00  140\n",
       "141 2021-06-06 21:00:00  141\n",
       "142 2021-06-06 22:00:00  142\n",
       "143 2021-06-06 23:00:00  143\n",
       "144 2021-06-07 00:00:00  144\n",
       "\n",
       "[145 rows x 2 columns]"
      ]
     },
     "execution_count": 57,
     "metadata": {},
     "output_type": "execute_result"
    }
   ],
   "source": [
    "df3 = df.copy()\n",
    "df3"
   ]
  },
  {
   "cell_type": "code",
   "execution_count": null,
   "id": "915f05b9",
   "metadata": {},
   "outputs": [],
   "source": [
    "df3['a'] = df3['a']."
   ]
  }
 ],
 "metadata": {
  "kernelspec": {
   "display_name": "Python 3",
   "language": "python",
   "name": "python3"
  },
  "language_info": {
   "codemirror_mode": {
    "name": "ipython",
    "version": 3
   },
   "file_extension": ".py",
   "mimetype": "text/x-python",
   "name": "python",
   "nbconvert_exporter": "python",
   "pygments_lexer": "ipython3",
   "version": "3.8.8"
  }
 },
 "nbformat": 4,
 "nbformat_minor": 5
}
