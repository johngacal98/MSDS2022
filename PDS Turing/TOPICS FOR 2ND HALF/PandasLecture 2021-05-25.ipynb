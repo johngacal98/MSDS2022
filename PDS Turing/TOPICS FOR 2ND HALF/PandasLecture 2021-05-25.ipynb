{
 "cells": [
  {
   "cell_type": "code",
   "execution_count": 1,
   "id": "85b55935",
   "metadata": {
    "ExecuteTime": {
     "end_time": "2021-05-25T05:09:51.207349Z",
     "start_time": "2021-05-25T05:09:50.812039Z"
    }
   },
   "outputs": [],
   "source": [
    "import numpy as np\n",
    "import pandas as pd"
   ]
  },
  {
   "cell_type": "code",
   "execution_count": 3,
   "id": "dac1e872",
   "metadata": {
    "ExecuteTime": {
     "end_time": "2021-05-25T05:09:57.448966Z",
     "start_time": "2021-05-25T05:09:57.435073Z"
    }
   },
   "outputs": [
    {
     "data": {
      "text/plain": [
       "a      1.0\n",
       "b     12.0\n",
       "c     23.0\n",
       "d     34.0\n",
       "e     45.0\n",
       "f     56.0\n",
       "g     67.0\n",
       "h     78.0\n",
       "i     89.0\n",
       "j    100.0\n",
       "dtype: float64"
      ]
     },
     "execution_count": 3,
     "metadata": {},
     "output_type": "execute_result"
    }
   ],
   "source": [
    "s1 = pd.Series(np.linspace(1, 100, 10), index=list('abcdefghij'))\n",
    "s1"
   ]
  },
  {
   "cell_type": "code",
   "execution_count": 4,
   "id": "d71a2041",
   "metadata": {
    "ExecuteTime": {
     "end_time": "2021-05-25T05:10:00.855791Z",
     "start_time": "2021-05-25T05:10:00.846874Z"
    },
    "scrolled": true
   },
   "outputs": [
    {
     "data": {
      "text/plain": [
       "{'f': 0,\n",
       " 'g': 1,\n",
       " 'h': 2,\n",
       " 'i': 3,\n",
       " 'j': 4,\n",
       " 'k': 5,\n",
       " 'l': 6,\n",
       " 'm': 7,\n",
       " 'n': 8,\n",
       " 'o': 9}"
      ]
     },
     "execution_count": 4,
     "metadata": {},
     "output_type": "execute_result"
    }
   ],
   "source": [
    "d = dict(zip('fghijklmno', range(10)))\n",
    "d"
   ]
  },
  {
   "cell_type": "code",
   "execution_count": 5,
   "id": "fdae55f5",
   "metadata": {
    "ExecuteTime": {
     "end_time": "2021-05-25T05:10:02.322687Z",
     "start_time": "2021-05-25T05:10:02.311036Z"
    }
   },
   "outputs": [
    {
     "data": {
      "text/plain": [
       "f    0\n",
       "g    1\n",
       "h    2\n",
       "i    3\n",
       "j    4\n",
       "k    5\n",
       "l    6\n",
       "m    7\n",
       "n    8\n",
       "o    9\n",
       "dtype: int64"
      ]
     },
     "execution_count": 5,
     "metadata": {},
     "output_type": "execute_result"
    }
   ],
   "source": [
    "s2 = pd.Series(d)\n",
    "s2"
   ]
  },
  {
   "cell_type": "code",
   "execution_count": 6,
   "id": "2df8c6cc",
   "metadata": {
    "ExecuteTime": {
     "end_time": "2021-05-25T05:10:04.387682Z",
     "start_time": "2021-05-25T05:10:04.373935Z"
    }
   },
   "outputs": [
    {
     "data": {
      "text/plain": [
       "x    5\n",
       "y    5\n",
       "z    5\n",
       "dtype: int64"
      ]
     },
     "execution_count": 6,
     "metadata": {},
     "output_type": "execute_result"
    }
   ],
   "source": [
    "s3 = pd.Series(5, index=list('xyz'))\n",
    "s3"
   ]
  },
  {
   "cell_type": "code",
   "execution_count": 7,
   "id": "d07d0cc8",
   "metadata": {
    "ExecuteTime": {
     "end_time": "2021-05-25T05:10:23.376610Z",
     "start_time": "2021-05-25T05:10:23.355057Z"
    }
   },
   "outputs": [
    {
     "data": {
      "text/html": [
       "<div>\n",
       "<style scoped>\n",
       "    .dataframe tbody tr th:only-of-type {\n",
       "        vertical-align: middle;\n",
       "    }\n",
       "\n",
       "    .dataframe tbody tr th {\n",
       "        vertical-align: top;\n",
       "    }\n",
       "\n",
       "    .dataframe thead th {\n",
       "        text-align: right;\n",
       "    }\n",
       "</style>\n",
       "<table border=\"1\" class=\"dataframe\">\n",
       "  <thead>\n",
       "    <tr style=\"text-align: right;\">\n",
       "      <th></th>\n",
       "      <th>0</th>\n",
       "    </tr>\n",
       "  </thead>\n",
       "  <tbody>\n",
       "    <tr>\n",
       "      <th>a</th>\n",
       "      <td>1.0</td>\n",
       "    </tr>\n",
       "    <tr>\n",
       "      <th>b</th>\n",
       "      <td>12.0</td>\n",
       "    </tr>\n",
       "    <tr>\n",
       "      <th>c</th>\n",
       "      <td>23.0</td>\n",
       "    </tr>\n",
       "    <tr>\n",
       "      <th>d</th>\n",
       "      <td>34.0</td>\n",
       "    </tr>\n",
       "    <tr>\n",
       "      <th>e</th>\n",
       "      <td>45.0</td>\n",
       "    </tr>\n",
       "    <tr>\n",
       "      <th>f</th>\n",
       "      <td>56.0</td>\n",
       "    </tr>\n",
       "    <tr>\n",
       "      <th>g</th>\n",
       "      <td>67.0</td>\n",
       "    </tr>\n",
       "    <tr>\n",
       "      <th>h</th>\n",
       "      <td>78.0</td>\n",
       "    </tr>\n",
       "    <tr>\n",
       "      <th>i</th>\n",
       "      <td>89.0</td>\n",
       "    </tr>\n",
       "    <tr>\n",
       "      <th>j</th>\n",
       "      <td>100.0</td>\n",
       "    </tr>\n",
       "  </tbody>\n",
       "</table>\n",
       "</div>"
      ],
      "text/plain": [
       "       0\n",
       "a    1.0\n",
       "b   12.0\n",
       "c   23.0\n",
       "d   34.0\n",
       "e   45.0\n",
       "f   56.0\n",
       "g   67.0\n",
       "h   78.0\n",
       "i   89.0\n",
       "j  100.0"
      ]
     },
     "execution_count": 7,
     "metadata": {},
     "output_type": "execute_result"
    }
   ],
   "source": [
    "df1 = pd.DataFrame(s1)\n",
    "df1"
   ]
  },
  {
   "cell_type": "code",
   "execution_count": 8,
   "id": "eb719e2d",
   "metadata": {
    "ExecuteTime": {
     "end_time": "2021-05-25T05:10:30.863023Z",
     "start_time": "2021-05-25T05:10:30.839185Z"
    }
   },
   "outputs": [
    {
     "data": {
      "text/html": [
       "<div>\n",
       "<style scoped>\n",
       "    .dataframe tbody tr th:only-of-type {\n",
       "        vertical-align: middle;\n",
       "    }\n",
       "\n",
       "    .dataframe tbody tr th {\n",
       "        vertical-align: top;\n",
       "    }\n",
       "\n",
       "    .dataframe thead th {\n",
       "        text-align: right;\n",
       "    }\n",
       "</style>\n",
       "<table border=\"1\" class=\"dataframe\">\n",
       "  <thead>\n",
       "    <tr style=\"text-align: right;\">\n",
       "      <th></th>\n",
       "      <th>series1</th>\n",
       "      <th>series2</th>\n",
       "    </tr>\n",
       "  </thead>\n",
       "  <tbody>\n",
       "    <tr>\n",
       "      <th>a</th>\n",
       "      <td>1.0</td>\n",
       "      <td>NaN</td>\n",
       "    </tr>\n",
       "    <tr>\n",
       "      <th>b</th>\n",
       "      <td>12.0</td>\n",
       "      <td>NaN</td>\n",
       "    </tr>\n",
       "    <tr>\n",
       "      <th>c</th>\n",
       "      <td>23.0</td>\n",
       "      <td>NaN</td>\n",
       "    </tr>\n",
       "    <tr>\n",
       "      <th>d</th>\n",
       "      <td>34.0</td>\n",
       "      <td>NaN</td>\n",
       "    </tr>\n",
       "    <tr>\n",
       "      <th>e</th>\n",
       "      <td>45.0</td>\n",
       "      <td>NaN</td>\n",
       "    </tr>\n",
       "    <tr>\n",
       "      <th>f</th>\n",
       "      <td>56.0</td>\n",
       "      <td>0.0</td>\n",
       "    </tr>\n",
       "    <tr>\n",
       "      <th>g</th>\n",
       "      <td>67.0</td>\n",
       "      <td>1.0</td>\n",
       "    </tr>\n",
       "    <tr>\n",
       "      <th>h</th>\n",
       "      <td>78.0</td>\n",
       "      <td>2.0</td>\n",
       "    </tr>\n",
       "    <tr>\n",
       "      <th>i</th>\n",
       "      <td>89.0</td>\n",
       "      <td>3.0</td>\n",
       "    </tr>\n",
       "    <tr>\n",
       "      <th>j</th>\n",
       "      <td>100.0</td>\n",
       "      <td>4.0</td>\n",
       "    </tr>\n",
       "    <tr>\n",
       "      <th>k</th>\n",
       "      <td>NaN</td>\n",
       "      <td>5.0</td>\n",
       "    </tr>\n",
       "    <tr>\n",
       "      <th>l</th>\n",
       "      <td>NaN</td>\n",
       "      <td>6.0</td>\n",
       "    </tr>\n",
       "    <tr>\n",
       "      <th>m</th>\n",
       "      <td>NaN</td>\n",
       "      <td>7.0</td>\n",
       "    </tr>\n",
       "    <tr>\n",
       "      <th>n</th>\n",
       "      <td>NaN</td>\n",
       "      <td>8.0</td>\n",
       "    </tr>\n",
       "    <tr>\n",
       "      <th>o</th>\n",
       "      <td>NaN</td>\n",
       "      <td>9.0</td>\n",
       "    </tr>\n",
       "  </tbody>\n",
       "</table>\n",
       "</div>"
      ],
      "text/plain": [
       "   series1  series2\n",
       "a      1.0      NaN\n",
       "b     12.0      NaN\n",
       "c     23.0      NaN\n",
       "d     34.0      NaN\n",
       "e     45.0      NaN\n",
       "f     56.0      0.0\n",
       "g     67.0      1.0\n",
       "h     78.0      2.0\n",
       "i     89.0      3.0\n",
       "j    100.0      4.0\n",
       "k      NaN      5.0\n",
       "l      NaN      6.0\n",
       "m      NaN      7.0\n",
       "n      NaN      8.0\n",
       "o      NaN      9.0"
      ]
     },
     "execution_count": 8,
     "metadata": {},
     "output_type": "execute_result"
    }
   ],
   "source": [
    "df2 = pd.DataFrame({'series1': s1, 'series2': s2})\n",
    "df2"
   ]
  },
  {
   "cell_type": "code",
   "execution_count": 14,
   "id": "a93c48ca",
   "metadata": {
    "ExecuteTime": {
     "end_time": "2021-05-25T05:13:50.039170Z",
     "start_time": "2021-05-25T05:13:50.021528Z"
    }
   },
   "outputs": [
    {
     "data": {
      "text/html": [
       "<div>\n",
       "<style scoped>\n",
       "    .dataframe tbody tr th:only-of-type {\n",
       "        vertical-align: middle;\n",
       "    }\n",
       "\n",
       "    .dataframe tbody tr th {\n",
       "        vertical-align: top;\n",
       "    }\n",
       "\n",
       "    .dataframe thead th {\n",
       "        text-align: right;\n",
       "    }\n",
       "</style>\n",
       "<table border=\"1\" class=\"dataframe\">\n",
       "  <thead>\n",
       "    <tr style=\"text-align: right;\">\n",
       "      <th></th>\n",
       "      <th>series1</th>\n",
       "      <th>series2</th>\n",
       "    </tr>\n",
       "  </thead>\n",
       "  <tbody>\n",
       "    <tr>\n",
       "      <th>f</th>\n",
       "      <td>56.0</td>\n",
       "      <td>0.0</td>\n",
       "    </tr>\n",
       "    <tr>\n",
       "      <th>g</th>\n",
       "      <td>67.0</td>\n",
       "      <td>1.0</td>\n",
       "    </tr>\n",
       "    <tr>\n",
       "      <th>h</th>\n",
       "      <td>78.0</td>\n",
       "      <td>2.0</td>\n",
       "    </tr>\n",
       "    <tr>\n",
       "      <th>i</th>\n",
       "      <td>89.0</td>\n",
       "      <td>3.0</td>\n",
       "    </tr>\n",
       "    <tr>\n",
       "      <th>j</th>\n",
       "      <td>100.0</td>\n",
       "      <td>4.0</td>\n",
       "    </tr>\n",
       "  </tbody>\n",
       "</table>\n",
       "</div>"
      ],
      "text/plain": [
       "   series1  series2\n",
       "f     56.0      0.0\n",
       "g     67.0      1.0\n",
       "h     78.0      2.0\n",
       "i     89.0      3.0\n",
       "j    100.0      4.0"
      ]
     },
     "execution_count": 14,
     "metadata": {},
     "output_type": "execute_result"
    }
   ],
   "source": [
    "df2.dropna()"
   ]
  },
  {
   "cell_type": "code",
   "execution_count": 13,
   "id": "11a7d95b",
   "metadata": {
    "ExecuteTime": {
     "end_time": "2021-05-25T05:13:43.339817Z",
     "start_time": "2021-05-25T05:13:43.315969Z"
    }
   },
   "outputs": [
    {
     "data": {
      "text/html": [
       "<div>\n",
       "<style scoped>\n",
       "    .dataframe tbody tr th:only-of-type {\n",
       "        vertical-align: middle;\n",
       "    }\n",
       "\n",
       "    .dataframe tbody tr th {\n",
       "        vertical-align: top;\n",
       "    }\n",
       "\n",
       "    .dataframe thead th {\n",
       "        text-align: right;\n",
       "    }\n",
       "</style>\n",
       "<table border=\"1\" class=\"dataframe\">\n",
       "  <thead>\n",
       "    <tr style=\"text-align: right;\">\n",
       "      <th></th>\n",
       "      <th>series1</th>\n",
       "      <th>series2</th>\n",
       "    </tr>\n",
       "  </thead>\n",
       "  <tbody>\n",
       "    <tr>\n",
       "      <th>a</th>\n",
       "      <td>1.0</td>\n",
       "      <td>NaN</td>\n",
       "    </tr>\n",
       "    <tr>\n",
       "      <th>b</th>\n",
       "      <td>12.0</td>\n",
       "      <td>NaN</td>\n",
       "    </tr>\n",
       "    <tr>\n",
       "      <th>c</th>\n",
       "      <td>23.0</td>\n",
       "      <td>NaN</td>\n",
       "    </tr>\n",
       "    <tr>\n",
       "      <th>d</th>\n",
       "      <td>34.0</td>\n",
       "      <td>NaN</td>\n",
       "    </tr>\n",
       "    <tr>\n",
       "      <th>e</th>\n",
       "      <td>45.0</td>\n",
       "      <td>NaN</td>\n",
       "    </tr>\n",
       "    <tr>\n",
       "      <th>f</th>\n",
       "      <td>56.0</td>\n",
       "      <td>0.0</td>\n",
       "    </tr>\n",
       "    <tr>\n",
       "      <th>g</th>\n",
       "      <td>67.0</td>\n",
       "      <td>1.0</td>\n",
       "    </tr>\n",
       "    <tr>\n",
       "      <th>h</th>\n",
       "      <td>78.0</td>\n",
       "      <td>2.0</td>\n",
       "    </tr>\n",
       "    <tr>\n",
       "      <th>i</th>\n",
       "      <td>89.0</td>\n",
       "      <td>3.0</td>\n",
       "    </tr>\n",
       "    <tr>\n",
       "      <th>j</th>\n",
       "      <td>100.0</td>\n",
       "      <td>4.0</td>\n",
       "    </tr>\n",
       "  </tbody>\n",
       "</table>\n",
       "</div>"
      ],
      "text/plain": [
       "   series1  series2\n",
       "a      1.0      NaN\n",
       "b     12.0      NaN\n",
       "c     23.0      NaN\n",
       "d     34.0      NaN\n",
       "e     45.0      NaN\n",
       "f     56.0      0.0\n",
       "g     67.0      1.0\n",
       "h     78.0      2.0\n",
       "i     89.0      3.0\n",
       "j    100.0      4.0"
      ]
     },
     "execution_count": 13,
     "metadata": {},
     "output_type": "execute_result"
    }
   ],
   "source": [
    "df2.dropna(subset=['series1'])"
   ]
  },
  {
   "cell_type": "code",
   "execution_count": 17,
   "id": "e4b09d92",
   "metadata": {
    "ExecuteTime": {
     "end_time": "2021-05-25T05:14:59.086990Z",
     "start_time": "2021-05-25T05:14:59.062636Z"
    }
   },
   "outputs": [
    {
     "data": {
      "text/html": [
       "<div>\n",
       "<style scoped>\n",
       "    .dataframe tbody tr th:only-of-type {\n",
       "        vertical-align: middle;\n",
       "    }\n",
       "\n",
       "    .dataframe tbody tr th {\n",
       "        vertical-align: top;\n",
       "    }\n",
       "\n",
       "    .dataframe thead th {\n",
       "        text-align: right;\n",
       "    }\n",
       "</style>\n",
       "<table border=\"1\" class=\"dataframe\">\n",
       "  <thead>\n",
       "    <tr style=\"text-align: right;\">\n",
       "      <th></th>\n",
       "      <th>series2</th>\n",
       "    </tr>\n",
       "  </thead>\n",
       "  <tbody>\n",
       "    <tr>\n",
       "      <th>a</th>\n",
       "      <td>NaN</td>\n",
       "    </tr>\n",
       "    <tr>\n",
       "      <th>b</th>\n",
       "      <td>NaN</td>\n",
       "    </tr>\n",
       "    <tr>\n",
       "      <th>c</th>\n",
       "      <td>NaN</td>\n",
       "    </tr>\n",
       "    <tr>\n",
       "      <th>d</th>\n",
       "      <td>NaN</td>\n",
       "    </tr>\n",
       "    <tr>\n",
       "      <th>e</th>\n",
       "      <td>NaN</td>\n",
       "    </tr>\n",
       "    <tr>\n",
       "      <th>f</th>\n",
       "      <td>0.0</td>\n",
       "    </tr>\n",
       "    <tr>\n",
       "      <th>g</th>\n",
       "      <td>1.0</td>\n",
       "    </tr>\n",
       "    <tr>\n",
       "      <th>h</th>\n",
       "      <td>2.0</td>\n",
       "    </tr>\n",
       "    <tr>\n",
       "      <th>i</th>\n",
       "      <td>3.0</td>\n",
       "    </tr>\n",
       "    <tr>\n",
       "      <th>j</th>\n",
       "      <td>4.0</td>\n",
       "    </tr>\n",
       "    <tr>\n",
       "      <th>k</th>\n",
       "      <td>5.0</td>\n",
       "    </tr>\n",
       "    <tr>\n",
       "      <th>l</th>\n",
       "      <td>6.0</td>\n",
       "    </tr>\n",
       "    <tr>\n",
       "      <th>m</th>\n",
       "      <td>7.0</td>\n",
       "    </tr>\n",
       "    <tr>\n",
       "      <th>n</th>\n",
       "      <td>8.0</td>\n",
       "    </tr>\n",
       "    <tr>\n",
       "      <th>o</th>\n",
       "      <td>9.0</td>\n",
       "    </tr>\n",
       "  </tbody>\n",
       "</table>\n",
       "</div>"
      ],
      "text/plain": [
       "   series2\n",
       "a      NaN\n",
       "b      NaN\n",
       "c      NaN\n",
       "d      NaN\n",
       "e      NaN\n",
       "f      0.0\n",
       "g      1.0\n",
       "h      2.0\n",
       "i      3.0\n",
       "j      4.0\n",
       "k      5.0\n",
       "l      6.0\n",
       "m      7.0\n",
       "n      8.0\n",
       "o      9.0"
      ]
     },
     "execution_count": 17,
     "metadata": {},
     "output_type": "execute_result"
    }
   ],
   "source": [
    "df2.dropna(axis=1, subset=['k'])"
   ]
  },
  {
   "cell_type": "code",
   "execution_count": 18,
   "id": "c4e07ad5",
   "metadata": {
    "ExecuteTime": {
     "end_time": "2021-05-25T05:15:57.016329Z",
     "start_time": "2021-05-25T05:15:57.000872Z"
    }
   },
   "outputs": [
    {
     "data": {
      "text/html": [
       "<div>\n",
       "<style scoped>\n",
       "    .dataframe tbody tr th:only-of-type {\n",
       "        vertical-align: middle;\n",
       "    }\n",
       "\n",
       "    .dataframe tbody tr th {\n",
       "        vertical-align: top;\n",
       "    }\n",
       "\n",
       "    .dataframe thead th {\n",
       "        text-align: right;\n",
       "    }\n",
       "</style>\n",
       "<table border=\"1\" class=\"dataframe\">\n",
       "  <thead>\n",
       "    <tr style=\"text-align: right;\">\n",
       "      <th></th>\n",
       "      <th>series1</th>\n",
       "      <th>series2</th>\n",
       "    </tr>\n",
       "  </thead>\n",
       "  <tbody>\n",
       "    <tr>\n",
       "      <th>a</th>\n",
       "      <td>1.0</td>\n",
       "      <td>NaN</td>\n",
       "    </tr>\n",
       "    <tr>\n",
       "      <th>b</th>\n",
       "      <td>12.0</td>\n",
       "      <td>NaN</td>\n",
       "    </tr>\n",
       "    <tr>\n",
       "      <th>c</th>\n",
       "      <td>23.0</td>\n",
       "      <td>NaN</td>\n",
       "    </tr>\n",
       "    <tr>\n",
       "      <th>d</th>\n",
       "      <td>34.0</td>\n",
       "      <td>NaN</td>\n",
       "    </tr>\n",
       "    <tr>\n",
       "      <th>e</th>\n",
       "      <td>45.0</td>\n",
       "      <td>NaN</td>\n",
       "    </tr>\n",
       "    <tr>\n",
       "      <th>f</th>\n",
       "      <td>56.0</td>\n",
       "      <td>0.0</td>\n",
       "    </tr>\n",
       "    <tr>\n",
       "      <th>g</th>\n",
       "      <td>67.0</td>\n",
       "      <td>1.0</td>\n",
       "    </tr>\n",
       "    <tr>\n",
       "      <th>h</th>\n",
       "      <td>78.0</td>\n",
       "      <td>2.0</td>\n",
       "    </tr>\n",
       "    <tr>\n",
       "      <th>i</th>\n",
       "      <td>89.0</td>\n",
       "      <td>3.0</td>\n",
       "    </tr>\n",
       "    <tr>\n",
       "      <th>j</th>\n",
       "      <td>100.0</td>\n",
       "      <td>4.0</td>\n",
       "    </tr>\n",
       "    <tr>\n",
       "      <th>k</th>\n",
       "      <td>NaN</td>\n",
       "      <td>5.0</td>\n",
       "    </tr>\n",
       "    <tr>\n",
       "      <th>l</th>\n",
       "      <td>NaN</td>\n",
       "      <td>6.0</td>\n",
       "    </tr>\n",
       "    <tr>\n",
       "      <th>m</th>\n",
       "      <td>NaN</td>\n",
       "      <td>7.0</td>\n",
       "    </tr>\n",
       "    <tr>\n",
       "      <th>n</th>\n",
       "      <td>NaN</td>\n",
       "      <td>8.0</td>\n",
       "    </tr>\n",
       "    <tr>\n",
       "      <th>o</th>\n",
       "      <td>NaN</td>\n",
       "      <td>9.0</td>\n",
       "    </tr>\n",
       "  </tbody>\n",
       "</table>\n",
       "</div>"
      ],
      "text/plain": [
       "   series1  series2\n",
       "a      1.0      NaN\n",
       "b     12.0      NaN\n",
       "c     23.0      NaN\n",
       "d     34.0      NaN\n",
       "e     45.0      NaN\n",
       "f     56.0      0.0\n",
       "g     67.0      1.0\n",
       "h     78.0      2.0\n",
       "i     89.0      3.0\n",
       "j    100.0      4.0\n",
       "k      NaN      5.0\n",
       "l      NaN      6.0\n",
       "m      NaN      7.0\n",
       "n      NaN      8.0\n",
       "o      NaN      9.0"
      ]
     },
     "execution_count": 18,
     "metadata": {},
     "output_type": "execute_result"
    }
   ],
   "source": [
    "df2.dropna(how='all')"
   ]
  },
  {
   "cell_type": "code",
   "execution_count": 19,
   "id": "44bc3457",
   "metadata": {
    "ExecuteTime": {
     "end_time": "2021-05-25T05:18:08.530000Z",
     "start_time": "2021-05-25T05:18:08.509023Z"
    }
   },
   "outputs": [
    {
     "data": {
      "text/html": [
       "<div>\n",
       "<style scoped>\n",
       "    .dataframe tbody tr th:only-of-type {\n",
       "        vertical-align: middle;\n",
       "    }\n",
       "\n",
       "    .dataframe tbody tr th {\n",
       "        vertical-align: top;\n",
       "    }\n",
       "\n",
       "    .dataframe thead th {\n",
       "        text-align: right;\n",
       "    }\n",
       "</style>\n",
       "<table border=\"1\" class=\"dataframe\">\n",
       "  <thead>\n",
       "    <tr style=\"text-align: right;\">\n",
       "      <th></th>\n",
       "      <th>series1</th>\n",
       "      <th>series2</th>\n",
       "    </tr>\n",
       "  </thead>\n",
       "  <tbody>\n",
       "    <tr>\n",
       "      <th>a</th>\n",
       "      <td>1.0</td>\n",
       "      <td>0.0</td>\n",
       "    </tr>\n",
       "    <tr>\n",
       "      <th>b</th>\n",
       "      <td>12.0</td>\n",
       "      <td>0.0</td>\n",
       "    </tr>\n",
       "    <tr>\n",
       "      <th>c</th>\n",
       "      <td>23.0</td>\n",
       "      <td>0.0</td>\n",
       "    </tr>\n",
       "    <tr>\n",
       "      <th>d</th>\n",
       "      <td>34.0</td>\n",
       "      <td>0.0</td>\n",
       "    </tr>\n",
       "    <tr>\n",
       "      <th>e</th>\n",
       "      <td>45.0</td>\n",
       "      <td>0.0</td>\n",
       "    </tr>\n",
       "    <tr>\n",
       "      <th>f</th>\n",
       "      <td>56.0</td>\n",
       "      <td>0.0</td>\n",
       "    </tr>\n",
       "    <tr>\n",
       "      <th>g</th>\n",
       "      <td>67.0</td>\n",
       "      <td>1.0</td>\n",
       "    </tr>\n",
       "    <tr>\n",
       "      <th>h</th>\n",
       "      <td>78.0</td>\n",
       "      <td>2.0</td>\n",
       "    </tr>\n",
       "    <tr>\n",
       "      <th>i</th>\n",
       "      <td>89.0</td>\n",
       "      <td>3.0</td>\n",
       "    </tr>\n",
       "    <tr>\n",
       "      <th>j</th>\n",
       "      <td>100.0</td>\n",
       "      <td>4.0</td>\n",
       "    </tr>\n",
       "    <tr>\n",
       "      <th>k</th>\n",
       "      <td>0.0</td>\n",
       "      <td>5.0</td>\n",
       "    </tr>\n",
       "    <tr>\n",
       "      <th>l</th>\n",
       "      <td>0.0</td>\n",
       "      <td>6.0</td>\n",
       "    </tr>\n",
       "    <tr>\n",
       "      <th>m</th>\n",
       "      <td>0.0</td>\n",
       "      <td>7.0</td>\n",
       "    </tr>\n",
       "    <tr>\n",
       "      <th>n</th>\n",
       "      <td>0.0</td>\n",
       "      <td>8.0</td>\n",
       "    </tr>\n",
       "    <tr>\n",
       "      <th>o</th>\n",
       "      <td>0.0</td>\n",
       "      <td>9.0</td>\n",
       "    </tr>\n",
       "  </tbody>\n",
       "</table>\n",
       "</div>"
      ],
      "text/plain": [
       "   series1  series2\n",
       "a      1.0      0.0\n",
       "b     12.0      0.0\n",
       "c     23.0      0.0\n",
       "d     34.0      0.0\n",
       "e     45.0      0.0\n",
       "f     56.0      0.0\n",
       "g     67.0      1.0\n",
       "h     78.0      2.0\n",
       "i     89.0      3.0\n",
       "j    100.0      4.0\n",
       "k      0.0      5.0\n",
       "l      0.0      6.0\n",
       "m      0.0      7.0\n",
       "n      0.0      8.0\n",
       "o      0.0      9.0"
      ]
     },
     "execution_count": 19,
     "metadata": {},
     "output_type": "execute_result"
    }
   ],
   "source": [
    "df2.fillna(0)"
   ]
  },
  {
   "cell_type": "code",
   "execution_count": 25,
   "id": "4b217cc7",
   "metadata": {
    "ExecuteTime": {
     "end_time": "2021-05-25T05:21:56.349186Z",
     "start_time": "2021-05-25T05:21:56.328428Z"
    }
   },
   "outputs": [
    {
     "data": {
      "text/html": [
       "<div>\n",
       "<style scoped>\n",
       "    .dataframe tbody tr th:only-of-type {\n",
       "        vertical-align: middle;\n",
       "    }\n",
       "\n",
       "    .dataframe tbody tr th {\n",
       "        vertical-align: top;\n",
       "    }\n",
       "\n",
       "    .dataframe thead th {\n",
       "        text-align: right;\n",
       "    }\n",
       "</style>\n",
       "<table border=\"1\" class=\"dataframe\">\n",
       "  <thead>\n",
       "    <tr style=\"text-align: right;\">\n",
       "      <th></th>\n",
       "      <th>series1</th>\n",
       "      <th>series2</th>\n",
       "    </tr>\n",
       "  </thead>\n",
       "  <tbody>\n",
       "    <tr>\n",
       "      <th>a</th>\n",
       "      <td>1.0</td>\n",
       "      <td>NaN</td>\n",
       "    </tr>\n",
       "    <tr>\n",
       "      <th>b</th>\n",
       "      <td>12.0</td>\n",
       "      <td>NaN</td>\n",
       "    </tr>\n",
       "    <tr>\n",
       "      <th>c</th>\n",
       "      <td>23.0</td>\n",
       "      <td>NaN</td>\n",
       "    </tr>\n",
       "    <tr>\n",
       "      <th>d</th>\n",
       "      <td>34.0</td>\n",
       "      <td>NaN</td>\n",
       "    </tr>\n",
       "    <tr>\n",
       "      <th>e</th>\n",
       "      <td>45.0</td>\n",
       "      <td>NaN</td>\n",
       "    </tr>\n",
       "    <tr>\n",
       "      <th>k</th>\n",
       "      <td>NaN</td>\n",
       "      <td>5.0</td>\n",
       "    </tr>\n",
       "    <tr>\n",
       "      <th>l</th>\n",
       "      <td>NaN</td>\n",
       "      <td>6.0</td>\n",
       "    </tr>\n",
       "    <tr>\n",
       "      <th>m</th>\n",
       "      <td>NaN</td>\n",
       "      <td>7.0</td>\n",
       "    </tr>\n",
       "    <tr>\n",
       "      <th>n</th>\n",
       "      <td>NaN</td>\n",
       "      <td>8.0</td>\n",
       "    </tr>\n",
       "    <tr>\n",
       "      <th>o</th>\n",
       "      <td>NaN</td>\n",
       "      <td>9.0</td>\n",
       "    </tr>\n",
       "  </tbody>\n",
       "</table>\n",
       "</div>"
      ],
      "text/plain": [
       "   series1  series2\n",
       "a      1.0      NaN\n",
       "b     12.0      NaN\n",
       "c     23.0      NaN\n",
       "d     34.0      NaN\n",
       "e     45.0      NaN\n",
       "k      NaN      5.0\n",
       "l      NaN      6.0\n",
       "m      NaN      7.0\n",
       "n      NaN      8.0\n",
       "o      NaN      9.0"
      ]
     },
     "execution_count": 25,
     "metadata": {},
     "output_type": "execute_result"
    }
   ],
   "source": [
    "df2[df2.isnull().sum(axis=1) == 1]"
   ]
  },
  {
   "cell_type": "code",
   "execution_count": 52,
   "id": "046c393c",
   "metadata": {
    "ExecuteTime": {
     "end_time": "2021-05-25T05:31:22.103897Z",
     "start_time": "2021-05-25T05:31:22.095435Z"
    }
   },
   "outputs": [],
   "source": [
    "df3 = pd.DataFrame({'A': list('abbb'), 'B': list('baad')})"
   ]
  },
  {
   "cell_type": "code",
   "execution_count": 54,
   "id": "e19eba8b",
   "metadata": {
    "ExecuteTime": {
     "end_time": "2021-05-25T05:31:27.513505Z",
     "start_time": "2021-05-25T05:31:27.501797Z"
    }
   },
   "outputs": [
    {
     "data": {
      "text/plain": [
       "b    3\n",
       "a    1\n",
       "Name: A, dtype: int64"
      ]
     },
     "execution_count": 54,
     "metadata": {},
     "output_type": "execute_result"
    }
   ],
   "source": [
    "df3['A'].value_counts()"
   ]
  },
  {
   "cell_type": "code",
   "execution_count": 55,
   "id": "b329dd12",
   "metadata": {
    "ExecuteTime": {
     "end_time": "2021-05-25T05:31:32.344214Z",
     "start_time": "2021-05-25T05:31:32.330595Z"
    }
   },
   "outputs": [
    {
     "data": {
      "text/plain": [
       "A  B\n",
       "b  a    2\n",
       "a  b    1\n",
       "b  d    1\n",
       "dtype: int64"
      ]
     },
     "execution_count": 55,
     "metadata": {},
     "output_type": "execute_result"
    }
   ],
   "source": [
    "df3.value_counts()"
   ]
  },
  {
   "cell_type": "code",
   "execution_count": 60,
   "id": "cb529500",
   "metadata": {
    "ExecuteTime": {
     "end_time": "2021-05-25T05:35:56.229943Z",
     "start_time": "2021-05-25T05:35:56.202887Z"
    }
   },
   "outputs": [
    {
     "data": {
      "text/html": [
       "<div>\n",
       "<style scoped>\n",
       "    .dataframe tbody tr th:only-of-type {\n",
       "        vertical-align: middle;\n",
       "    }\n",
       "\n",
       "    .dataframe tbody tr th {\n",
       "        vertical-align: top;\n",
       "    }\n",
       "\n",
       "    .dataframe thead th {\n",
       "        text-align: right;\n",
       "    }\n",
       "</style>\n",
       "<table border=\"1\" class=\"dataframe\">\n",
       "  <thead>\n",
       "    <tr style=\"text-align: right;\">\n",
       "      <th></th>\n",
       "      <th>series1</th>\n",
       "      <th>series2</th>\n",
       "    </tr>\n",
       "  </thead>\n",
       "  <tbody>\n",
       "    <tr>\n",
       "      <th>o</th>\n",
       "      <td>NaN</td>\n",
       "      <td>9.0</td>\n",
       "    </tr>\n",
       "    <tr>\n",
       "      <th>n</th>\n",
       "      <td>NaN</td>\n",
       "      <td>8.0</td>\n",
       "    </tr>\n",
       "    <tr>\n",
       "      <th>m</th>\n",
       "      <td>NaN</td>\n",
       "      <td>7.0</td>\n",
       "    </tr>\n",
       "    <tr>\n",
       "      <th>l</th>\n",
       "      <td>NaN</td>\n",
       "      <td>6.0</td>\n",
       "    </tr>\n",
       "    <tr>\n",
       "      <th>k</th>\n",
       "      <td>NaN</td>\n",
       "      <td>5.0</td>\n",
       "    </tr>\n",
       "    <tr>\n",
       "      <th>j</th>\n",
       "      <td>100.0</td>\n",
       "      <td>4.0</td>\n",
       "    </tr>\n",
       "    <tr>\n",
       "      <th>i</th>\n",
       "      <td>89.0</td>\n",
       "      <td>3.0</td>\n",
       "    </tr>\n",
       "    <tr>\n",
       "      <th>h</th>\n",
       "      <td>78.0</td>\n",
       "      <td>2.0</td>\n",
       "    </tr>\n",
       "    <tr>\n",
       "      <th>g</th>\n",
       "      <td>67.0</td>\n",
       "      <td>1.0</td>\n",
       "    </tr>\n",
       "    <tr>\n",
       "      <th>f</th>\n",
       "      <td>56.0</td>\n",
       "      <td>0.0</td>\n",
       "    </tr>\n",
       "    <tr>\n",
       "      <th>e</th>\n",
       "      <td>45.0</td>\n",
       "      <td>NaN</td>\n",
       "    </tr>\n",
       "    <tr>\n",
       "      <th>d</th>\n",
       "      <td>34.0</td>\n",
       "      <td>NaN</td>\n",
       "    </tr>\n",
       "    <tr>\n",
       "      <th>c</th>\n",
       "      <td>23.0</td>\n",
       "      <td>NaN</td>\n",
       "    </tr>\n",
       "    <tr>\n",
       "      <th>b</th>\n",
       "      <td>12.0</td>\n",
       "      <td>NaN</td>\n",
       "    </tr>\n",
       "    <tr>\n",
       "      <th>a</th>\n",
       "      <td>1.0</td>\n",
       "      <td>NaN</td>\n",
       "    </tr>\n",
       "  </tbody>\n",
       "</table>\n",
       "</div>"
      ],
      "text/plain": [
       "   series1  series2\n",
       "o      NaN      9.0\n",
       "n      NaN      8.0\n",
       "m      NaN      7.0\n",
       "l      NaN      6.0\n",
       "k      NaN      5.0\n",
       "j    100.0      4.0\n",
       "i     89.0      3.0\n",
       "h     78.0      2.0\n",
       "g     67.0      1.0\n",
       "f     56.0      0.0\n",
       "e     45.0      NaN\n",
       "d     34.0      NaN\n",
       "c     23.0      NaN\n",
       "b     12.0      NaN\n",
       "a      1.0      NaN"
      ]
     },
     "execution_count": 60,
     "metadata": {},
     "output_type": "execute_result"
    }
   ],
   "source": [
    "df2.sort_index(ascending=False)"
   ]
  },
  {
   "cell_type": "code",
   "execution_count": 63,
   "id": "2b882466",
   "metadata": {
    "ExecuteTime": {
     "end_time": "2021-05-25T05:36:41.597104Z",
     "start_time": "2021-05-25T05:36:41.574262Z"
    }
   },
   "outputs": [
    {
     "data": {
      "text/html": [
       "<div>\n",
       "<style scoped>\n",
       "    .dataframe tbody tr th:only-of-type {\n",
       "        vertical-align: middle;\n",
       "    }\n",
       "\n",
       "    .dataframe tbody tr th {\n",
       "        vertical-align: top;\n",
       "    }\n",
       "\n",
       "    .dataframe thead th {\n",
       "        text-align: right;\n",
       "    }\n",
       "</style>\n",
       "<table border=\"1\" class=\"dataframe\">\n",
       "  <thead>\n",
       "    <tr style=\"text-align: right;\">\n",
       "      <th></th>\n",
       "      <th>series1</th>\n",
       "      <th>series2</th>\n",
       "    </tr>\n",
       "  </thead>\n",
       "  <tbody>\n",
       "    <tr>\n",
       "      <th>j</th>\n",
       "      <td>100.0</td>\n",
       "      <td>4.0</td>\n",
       "    </tr>\n",
       "    <tr>\n",
       "      <th>i</th>\n",
       "      <td>89.0</td>\n",
       "      <td>3.0</td>\n",
       "    </tr>\n",
       "    <tr>\n",
       "      <th>h</th>\n",
       "      <td>78.0</td>\n",
       "      <td>2.0</td>\n",
       "    </tr>\n",
       "    <tr>\n",
       "      <th>g</th>\n",
       "      <td>67.0</td>\n",
       "      <td>1.0</td>\n",
       "    </tr>\n",
       "    <tr>\n",
       "      <th>f</th>\n",
       "      <td>56.0</td>\n",
       "      <td>0.0</td>\n",
       "    </tr>\n",
       "    <tr>\n",
       "      <th>e</th>\n",
       "      <td>45.0</td>\n",
       "      <td>NaN</td>\n",
       "    </tr>\n",
       "    <tr>\n",
       "      <th>d</th>\n",
       "      <td>34.0</td>\n",
       "      <td>NaN</td>\n",
       "    </tr>\n",
       "    <tr>\n",
       "      <th>c</th>\n",
       "      <td>23.0</td>\n",
       "      <td>NaN</td>\n",
       "    </tr>\n",
       "    <tr>\n",
       "      <th>b</th>\n",
       "      <td>12.0</td>\n",
       "      <td>NaN</td>\n",
       "    </tr>\n",
       "    <tr>\n",
       "      <th>a</th>\n",
       "      <td>1.0</td>\n",
       "      <td>NaN</td>\n",
       "    </tr>\n",
       "    <tr>\n",
       "      <th>k</th>\n",
       "      <td>NaN</td>\n",
       "      <td>5.0</td>\n",
       "    </tr>\n",
       "    <tr>\n",
       "      <th>l</th>\n",
       "      <td>NaN</td>\n",
       "      <td>6.0</td>\n",
       "    </tr>\n",
       "    <tr>\n",
       "      <th>m</th>\n",
       "      <td>NaN</td>\n",
       "      <td>7.0</td>\n",
       "    </tr>\n",
       "    <tr>\n",
       "      <th>n</th>\n",
       "      <td>NaN</td>\n",
       "      <td>8.0</td>\n",
       "    </tr>\n",
       "    <tr>\n",
       "      <th>o</th>\n",
       "      <td>NaN</td>\n",
       "      <td>9.0</td>\n",
       "    </tr>\n",
       "  </tbody>\n",
       "</table>\n",
       "</div>"
      ],
      "text/plain": [
       "   series1  series2\n",
       "j    100.0      4.0\n",
       "i     89.0      3.0\n",
       "h     78.0      2.0\n",
       "g     67.0      1.0\n",
       "f     56.0      0.0\n",
       "e     45.0      NaN\n",
       "d     34.0      NaN\n",
       "c     23.0      NaN\n",
       "b     12.0      NaN\n",
       "a      1.0      NaN\n",
       "k      NaN      5.0\n",
       "l      NaN      6.0\n",
       "m      NaN      7.0\n",
       "n      NaN      8.0\n",
       "o      NaN      9.0"
      ]
     },
     "execution_count": 63,
     "metadata": {},
     "output_type": "execute_result"
    }
   ],
   "source": [
    "df2.sort_values('series1', ascending=False)"
   ]
  },
  {
   "cell_type": "code",
   "execution_count": 64,
   "id": "e38b4471",
   "metadata": {
    "ExecuteTime": {
     "end_time": "2021-05-25T05:38:02.727889Z",
     "start_time": "2021-05-25T05:38:02.703084Z"
    }
   },
   "outputs": [
    {
     "data": {
      "text/html": [
       "<div>\n",
       "<style scoped>\n",
       "    .dataframe tbody tr th:only-of-type {\n",
       "        vertical-align: middle;\n",
       "    }\n",
       "\n",
       "    .dataframe tbody tr th {\n",
       "        vertical-align: top;\n",
       "    }\n",
       "\n",
       "    .dataframe thead th {\n",
       "        text-align: right;\n",
       "    }\n",
       "</style>\n",
       "<table border=\"1\" class=\"dataframe\">\n",
       "  <thead>\n",
       "    <tr style=\"text-align: right;\">\n",
       "      <th></th>\n",
       "      <th>series1</th>\n",
       "      <th>series2</th>\n",
       "    </tr>\n",
       "  </thead>\n",
       "  <tbody>\n",
       "    <tr>\n",
       "      <th>f</th>\n",
       "      <td>56.0</td>\n",
       "      <td>0.0</td>\n",
       "    </tr>\n",
       "    <tr>\n",
       "      <th>g</th>\n",
       "      <td>67.0</td>\n",
       "      <td>1.0</td>\n",
       "    </tr>\n",
       "    <tr>\n",
       "      <th>h</th>\n",
       "      <td>78.0</td>\n",
       "      <td>2.0</td>\n",
       "    </tr>\n",
       "    <tr>\n",
       "      <th>i</th>\n",
       "      <td>89.0</td>\n",
       "      <td>3.0</td>\n",
       "    </tr>\n",
       "    <tr>\n",
       "      <th>j</th>\n",
       "      <td>100.0</td>\n",
       "      <td>4.0</td>\n",
       "    </tr>\n",
       "    <tr>\n",
       "      <th>k</th>\n",
       "      <td>NaN</td>\n",
       "      <td>5.0</td>\n",
       "    </tr>\n",
       "    <tr>\n",
       "      <th>l</th>\n",
       "      <td>NaN</td>\n",
       "      <td>6.0</td>\n",
       "    </tr>\n",
       "    <tr>\n",
       "      <th>m</th>\n",
       "      <td>NaN</td>\n",
       "      <td>7.0</td>\n",
       "    </tr>\n",
       "    <tr>\n",
       "      <th>n</th>\n",
       "      <td>NaN</td>\n",
       "      <td>8.0</td>\n",
       "    </tr>\n",
       "    <tr>\n",
       "      <th>o</th>\n",
       "      <td>NaN</td>\n",
       "      <td>9.0</td>\n",
       "    </tr>\n",
       "    <tr>\n",
       "      <th>a</th>\n",
       "      <td>1.0</td>\n",
       "      <td>NaN</td>\n",
       "    </tr>\n",
       "    <tr>\n",
       "      <th>b</th>\n",
       "      <td>12.0</td>\n",
       "      <td>NaN</td>\n",
       "    </tr>\n",
       "    <tr>\n",
       "      <th>c</th>\n",
       "      <td>23.0</td>\n",
       "      <td>NaN</td>\n",
       "    </tr>\n",
       "    <tr>\n",
       "      <th>d</th>\n",
       "      <td>34.0</td>\n",
       "      <td>NaN</td>\n",
       "    </tr>\n",
       "    <tr>\n",
       "      <th>e</th>\n",
       "      <td>45.0</td>\n",
       "      <td>NaN</td>\n",
       "    </tr>\n",
       "  </tbody>\n",
       "</table>\n",
       "</div>"
      ],
      "text/plain": [
       "   series1  series2\n",
       "f     56.0      0.0\n",
       "g     67.0      1.0\n",
       "h     78.0      2.0\n",
       "i     89.0      3.0\n",
       "j    100.0      4.0\n",
       "k      NaN      5.0\n",
       "l      NaN      6.0\n",
       "m      NaN      7.0\n",
       "n      NaN      8.0\n",
       "o      NaN      9.0\n",
       "a      1.0      NaN\n",
       "b     12.0      NaN\n",
       "c     23.0      NaN\n",
       "d     34.0      NaN\n",
       "e     45.0      NaN"
      ]
     },
     "execution_count": 64,
     "metadata": {},
     "output_type": "execute_result"
    }
   ],
   "source": [
    "df2.sort_values(['series2', 'series1'])"
   ]
  },
  {
   "cell_type": "code",
   "execution_count": 67,
   "id": "58b3050a",
   "metadata": {
    "ExecuteTime": {
     "end_time": "2021-05-25T05:39:57.871189Z",
     "start_time": "2021-05-25T05:39:57.839654Z"
    }
   },
   "outputs": [
    {
     "data": {
      "text/html": [
       "<div>\n",
       "<style scoped>\n",
       "    .dataframe tbody tr th:only-of-type {\n",
       "        vertical-align: middle;\n",
       "    }\n",
       "\n",
       "    .dataframe tbody tr th {\n",
       "        vertical-align: top;\n",
       "    }\n",
       "\n",
       "    .dataframe thead th {\n",
       "        text-align: right;\n",
       "    }\n",
       "</style>\n",
       "<table border=\"1\" class=\"dataframe\">\n",
       "  <thead>\n",
       "    <tr style=\"text-align: right;\">\n",
       "      <th></th>\n",
       "      <th>series1</th>\n",
       "      <th>series2</th>\n",
       "    </tr>\n",
       "  </thead>\n",
       "  <tbody>\n",
       "    <tr>\n",
       "      <th>a</th>\n",
       "      <td>1.0</td>\n",
       "      <td>NaN</td>\n",
       "    </tr>\n",
       "    <tr>\n",
       "      <th>b</th>\n",
       "      <td>12.0</td>\n",
       "      <td>NaN</td>\n",
       "    </tr>\n",
       "    <tr>\n",
       "      <th>c</th>\n",
       "      <td>23.0</td>\n",
       "      <td>NaN</td>\n",
       "    </tr>\n",
       "    <tr>\n",
       "      <th>d</th>\n",
       "      <td>34.0</td>\n",
       "      <td>NaN</td>\n",
       "    </tr>\n",
       "    <tr>\n",
       "      <th>e</th>\n",
       "      <td>45.0</td>\n",
       "      <td>NaN</td>\n",
       "    </tr>\n",
       "    <tr>\n",
       "      <th>f</th>\n",
       "      <td>56.0</td>\n",
       "      <td>0.0</td>\n",
       "    </tr>\n",
       "    <tr>\n",
       "      <th>g</th>\n",
       "      <td>67.0</td>\n",
       "      <td>1.0</td>\n",
       "    </tr>\n",
       "    <tr>\n",
       "      <th>h</th>\n",
       "      <td>78.0</td>\n",
       "      <td>2.0</td>\n",
       "    </tr>\n",
       "    <tr>\n",
       "      <th>i</th>\n",
       "      <td>89.0</td>\n",
       "      <td>3.0</td>\n",
       "    </tr>\n",
       "    <tr>\n",
       "      <th>j</th>\n",
       "      <td>100.0</td>\n",
       "      <td>4.0</td>\n",
       "    </tr>\n",
       "  </tbody>\n",
       "</table>\n",
       "</div>"
      ],
      "text/plain": [
       "   series1  series2\n",
       "a      1.0      NaN\n",
       "b     12.0      NaN\n",
       "c     23.0      NaN\n",
       "d     34.0      NaN\n",
       "e     45.0      NaN\n",
       "f     56.0      0.0\n",
       "g     67.0      1.0\n",
       "h     78.0      2.0\n",
       "i     89.0      3.0\n",
       "j    100.0      4.0"
      ]
     },
     "execution_count": 67,
     "metadata": {},
     "output_type": "execute_result"
    }
   ],
   "source": [
    "df2.nsmallest(10, 'series1')"
   ]
  },
  {
   "cell_type": "code",
   "execution_count": 68,
   "id": "6afb50fd",
   "metadata": {
    "ExecuteTime": {
     "end_time": "2021-05-25T05:40:14.089301Z",
     "start_time": "2021-05-25T05:40:14.068496Z"
    }
   },
   "outputs": [
    {
     "data": {
      "text/html": [
       "<div>\n",
       "<style scoped>\n",
       "    .dataframe tbody tr th:only-of-type {\n",
       "        vertical-align: middle;\n",
       "    }\n",
       "\n",
       "    .dataframe tbody tr th {\n",
       "        vertical-align: top;\n",
       "    }\n",
       "\n",
       "    .dataframe thead th {\n",
       "        text-align: right;\n",
       "    }\n",
       "</style>\n",
       "<table border=\"1\" class=\"dataframe\">\n",
       "  <thead>\n",
       "    <tr style=\"text-align: right;\">\n",
       "      <th></th>\n",
       "      <th>series1</th>\n",
       "      <th>series2</th>\n",
       "    </tr>\n",
       "  </thead>\n",
       "  <tbody>\n",
       "    <tr>\n",
       "      <th>o</th>\n",
       "      <td>NaN</td>\n",
       "      <td>9.0</td>\n",
       "    </tr>\n",
       "    <tr>\n",
       "      <th>n</th>\n",
       "      <td>NaN</td>\n",
       "      <td>8.0</td>\n",
       "    </tr>\n",
       "    <tr>\n",
       "      <th>m</th>\n",
       "      <td>NaN</td>\n",
       "      <td>7.0</td>\n",
       "    </tr>\n",
       "    <tr>\n",
       "      <th>l</th>\n",
       "      <td>NaN</td>\n",
       "      <td>6.0</td>\n",
       "    </tr>\n",
       "    <tr>\n",
       "      <th>k</th>\n",
       "      <td>NaN</td>\n",
       "      <td>5.0</td>\n",
       "    </tr>\n",
       "    <tr>\n",
       "      <th>j</th>\n",
       "      <td>100.0</td>\n",
       "      <td>4.0</td>\n",
       "    </tr>\n",
       "    <tr>\n",
       "      <th>i</th>\n",
       "      <td>89.0</td>\n",
       "      <td>3.0</td>\n",
       "    </tr>\n",
       "    <tr>\n",
       "      <th>h</th>\n",
       "      <td>78.0</td>\n",
       "      <td>2.0</td>\n",
       "    </tr>\n",
       "    <tr>\n",
       "      <th>g</th>\n",
       "      <td>67.0</td>\n",
       "      <td>1.0</td>\n",
       "    </tr>\n",
       "    <tr>\n",
       "      <th>f</th>\n",
       "      <td>56.0</td>\n",
       "      <td>0.0</td>\n",
       "    </tr>\n",
       "  </tbody>\n",
       "</table>\n",
       "</div>"
      ],
      "text/plain": [
       "   series1  series2\n",
       "o      NaN      9.0\n",
       "n      NaN      8.0\n",
       "m      NaN      7.0\n",
       "l      NaN      6.0\n",
       "k      NaN      5.0\n",
       "j    100.0      4.0\n",
       "i     89.0      3.0\n",
       "h     78.0      2.0\n",
       "g     67.0      1.0\n",
       "f     56.0      0.0"
      ]
     },
     "execution_count": 68,
     "metadata": {},
     "output_type": "execute_result"
    }
   ],
   "source": [
    "df2.nlargest(10, 'series2')"
   ]
  },
  {
   "cell_type": "code",
   "execution_count": 69,
   "id": "cbda0bfe",
   "metadata": {
    "ExecuteTime": {
     "end_time": "2021-05-25T05:40:27.945103Z",
     "start_time": "2021-05-25T05:40:27.932318Z"
    }
   },
   "outputs": [
    {
     "data": {
      "text/plain": [
       "series1    1.0\n",
       "series2    0.0\n",
       "dtype: float64"
      ]
     },
     "execution_count": 69,
     "metadata": {},
     "output_type": "execute_result"
    }
   ],
   "source": [
    "df2.min()"
   ]
  },
  {
   "cell_type": "code",
   "execution_count": 70,
   "id": "86a2ecca",
   "metadata": {
    "ExecuteTime": {
     "end_time": "2021-05-25T05:40:31.407547Z",
     "start_time": "2021-05-25T05:40:31.394218Z"
    }
   },
   "outputs": [
    {
     "data": {
      "text/plain": [
       "series1    100.0\n",
       "series2      9.0\n",
       "dtype: float64"
      ]
     },
     "execution_count": 70,
     "metadata": {},
     "output_type": "execute_result"
    }
   ],
   "source": [
    "df2.max()"
   ]
  },
  {
   "cell_type": "code",
   "execution_count": 71,
   "id": "d9894363",
   "metadata": {
    "ExecuteTime": {
     "end_time": "2021-05-25T05:40:36.651948Z",
     "start_time": "2021-05-25T05:40:36.644205Z"
    }
   },
   "outputs": [
    {
     "data": {
      "text/plain": [
       "series1    a\n",
       "series2    f\n",
       "dtype: object"
      ]
     },
     "execution_count": 71,
     "metadata": {},
     "output_type": "execute_result"
    }
   ],
   "source": [
    "df2.idxmin()"
   ]
  },
  {
   "cell_type": "code",
   "execution_count": 72,
   "id": "ff0218d2",
   "metadata": {
    "ExecuteTime": {
     "end_time": "2021-05-25T05:40:45.715574Z",
     "start_time": "2021-05-25T05:40:45.707130Z"
    }
   },
   "outputs": [
    {
     "data": {
      "text/plain": [
       "series1    j\n",
       "series2    o\n",
       "dtype: object"
      ]
     },
     "execution_count": 72,
     "metadata": {},
     "output_type": "execute_result"
    }
   ],
   "source": [
    "df2.idxmax()"
   ]
  },
  {
   "cell_type": "code",
   "execution_count": 91,
   "id": "f538b83d",
   "metadata": {
    "ExecuteTime": {
     "end_time": "2021-05-25T05:55:11.794141Z",
     "start_time": "2021-05-25T05:55:10.718447Z"
    }
   },
   "outputs": [],
   "source": [
    "df_amazon = pd.read_csv('/mnt/data/public/amazon-reviews/'\n",
    "                        'amazon_reviews_us_Gift_Card_v1_00.tsv.gz', \n",
    "                        delimiter='\\t', compression='gzip', \n",
    "                        error_bad_lines=False, usecols=[])"
   ]
  },
  {
   "cell_type": "code",
   "execution_count": 92,
   "id": "c9fb0a0a",
   "metadata": {
    "ExecuteTime": {
     "end_time": "2021-05-25T05:55:16.241618Z",
     "start_time": "2021-05-25T05:55:16.203850Z"
    },
    "scrolled": false
   },
   "outputs": [
    {
     "data": {
      "text/html": [
       "<div>\n",
       "<style scoped>\n",
       "    .dataframe tbody tr th:only-of-type {\n",
       "        vertical-align: middle;\n",
       "    }\n",
       "\n",
       "    .dataframe tbody tr th {\n",
       "        vertical-align: top;\n",
       "    }\n",
       "\n",
       "    .dataframe thead th {\n",
       "        text-align: right;\n",
       "    }\n",
       "</style>\n",
       "<table border=\"1\" class=\"dataframe\">\n",
       "  <thead>\n",
       "    <tr style=\"text-align: right;\">\n",
       "      <th></th>\n",
       "      <th>marketplace</th>\n",
       "      <th>customer_id</th>\n",
       "      <th>review_id</th>\n",
       "      <th>product_id</th>\n",
       "      <th>product_parent</th>\n",
       "      <th>product_title</th>\n",
       "      <th>product_category</th>\n",
       "      <th>star_rating</th>\n",
       "      <th>helpful_votes</th>\n",
       "      <th>total_votes</th>\n",
       "      <th>vine</th>\n",
       "      <th>verified_purchase</th>\n",
       "      <th>review_headline</th>\n",
       "      <th>review_body</th>\n",
       "      <th>review_date</th>\n",
       "    </tr>\n",
       "  </thead>\n",
       "  <tbody>\n",
       "    <tr>\n",
       "      <th>0</th>\n",
       "      <td>US</td>\n",
       "      <td>24371595</td>\n",
       "      <td>R27ZP1F1CD0C3Y</td>\n",
       "      <td>B004LLIL5A</td>\n",
       "      <td>346014806</td>\n",
       "      <td>Amazon eGift Card - Celebrate</td>\n",
       "      <td>Gift Card</td>\n",
       "      <td>5</td>\n",
       "      <td>0</td>\n",
       "      <td>0</td>\n",
       "      <td>N</td>\n",
       "      <td>Y</td>\n",
       "      <td>Five Stars</td>\n",
       "      <td>Great birthday gift for a young adult.</td>\n",
       "      <td>2015-08-31</td>\n",
       "    </tr>\n",
       "    <tr>\n",
       "      <th>1</th>\n",
       "      <td>US</td>\n",
       "      <td>42489718</td>\n",
       "      <td>RJ7RSBCHUDNNE</td>\n",
       "      <td>B004LLIKVU</td>\n",
       "      <td>473048287</td>\n",
       "      <td>Amazon.com eGift Cards</td>\n",
       "      <td>Gift Card</td>\n",
       "      <td>5</td>\n",
       "      <td>0</td>\n",
       "      <td>0</td>\n",
       "      <td>N</td>\n",
       "      <td>Y</td>\n",
       "      <td>Gift card for the greatest selection of items ...</td>\n",
       "      <td>It's an Amazon gift card and with over 9823983...</td>\n",
       "      <td>2015-08-31</td>\n",
       "    </tr>\n",
       "    <tr>\n",
       "      <th>2</th>\n",
       "      <td>US</td>\n",
       "      <td>861463</td>\n",
       "      <td>R1HVYBSKLQJI5S</td>\n",
       "      <td>B00IX1I3G6</td>\n",
       "      <td>926539283</td>\n",
       "      <td>Amazon.com Gift Card Balance Reload</td>\n",
       "      <td>Gift Card</td>\n",
       "      <td>5</td>\n",
       "      <td>0</td>\n",
       "      <td>0</td>\n",
       "      <td>N</td>\n",
       "      <td>Y</td>\n",
       "      <td>Five Stars</td>\n",
       "      <td>Good</td>\n",
       "      <td>2015-08-31</td>\n",
       "    </tr>\n",
       "    <tr>\n",
       "      <th>3</th>\n",
       "      <td>US</td>\n",
       "      <td>25283295</td>\n",
       "      <td>R2HAXF0IIYQBIR</td>\n",
       "      <td>B00IX1I3G6</td>\n",
       "      <td>926539283</td>\n",
       "      <td>Amazon.com Gift Card Balance Reload</td>\n",
       "      <td>Gift Card</td>\n",
       "      <td>1</td>\n",
       "      <td>0</td>\n",
       "      <td>0</td>\n",
       "      <td>N</td>\n",
       "      <td>Y</td>\n",
       "      <td>One Star</td>\n",
       "      <td>Fair</td>\n",
       "      <td>2015-08-31</td>\n",
       "    </tr>\n",
       "    <tr>\n",
       "      <th>4</th>\n",
       "      <td>US</td>\n",
       "      <td>397970</td>\n",
       "      <td>RNYLPX611NB7Q</td>\n",
       "      <td>B005ESMGV4</td>\n",
       "      <td>379368939</td>\n",
       "      <td>Amazon.com Gift Cards, Pack of 3 (Various Desi...</td>\n",
       "      <td>Gift Card</td>\n",
       "      <td>5</td>\n",
       "      <td>0</td>\n",
       "      <td>0</td>\n",
       "      <td>N</td>\n",
       "      <td>Y</td>\n",
       "      <td>Five Stars</td>\n",
       "      <td>I can't believe how quickly Amazon can get the...</td>\n",
       "      <td>2015-08-31</td>\n",
       "    </tr>\n",
       "    <tr>\n",
       "      <th>...</th>\n",
       "      <td>...</td>\n",
       "      <td>...</td>\n",
       "      <td>...</td>\n",
       "      <td>...</td>\n",
       "      <td>...</td>\n",
       "      <td>...</td>\n",
       "      <td>...</td>\n",
       "      <td>...</td>\n",
       "      <td>...</td>\n",
       "      <td>...</td>\n",
       "      <td>...</td>\n",
       "      <td>...</td>\n",
       "      <td>...</td>\n",
       "      <td>...</td>\n",
       "      <td>...</td>\n",
       "    </tr>\n",
       "    <tr>\n",
       "      <th>148305</th>\n",
       "      <td>US</td>\n",
       "      <td>40383801</td>\n",
       "      <td>R57O26VBSLMP1</td>\n",
       "      <td>B0002CZPPG</td>\n",
       "      <td>867256265</td>\n",
       "      <td>Apple iTunes Prepaid Card ($15)</td>\n",
       "      <td>Gift Card</td>\n",
       "      <td>5</td>\n",
       "      <td>10</td>\n",
       "      <td>10</td>\n",
       "      <td>N</td>\n",
       "      <td>N</td>\n",
       "      <td>Way easier than explaining your musical taste ...</td>\n",
       "      <td>Finally there is a way for your family to buy ...</td>\n",
       "      <td>2005-01-21</td>\n",
       "    </tr>\n",
       "    <tr>\n",
       "      <th>148306</th>\n",
       "      <td>US</td>\n",
       "      <td>15124244</td>\n",
       "      <td>R375D634NGSSPI</td>\n",
       "      <td>B0002CZPPG</td>\n",
       "      <td>867256265</td>\n",
       "      <td>Apple iTunes Prepaid Card ($15)</td>\n",
       "      <td>Gift Card</td>\n",
       "      <td>4</td>\n",
       "      <td>8</td>\n",
       "      <td>44</td>\n",
       "      <td>N</td>\n",
       "      <td>N</td>\n",
       "      <td>itunes paid for</td>\n",
       "      <td>its very convenient to have an idea of how mut...</td>\n",
       "      <td>2004-12-17</td>\n",
       "    </tr>\n",
       "    <tr>\n",
       "      <th>148307</th>\n",
       "      <td>US</td>\n",
       "      <td>40383801</td>\n",
       "      <td>R2NCVKVC9B7I9C</td>\n",
       "      <td>B0002CZPPG</td>\n",
       "      <td>867256265</td>\n",
       "      <td>Apple iTunes Prepaid Card ($15)</td>\n",
       "      <td>Gift Card</td>\n",
       "      <td>5</td>\n",
       "      <td>20</td>\n",
       "      <td>30</td>\n",
       "      <td>N</td>\n",
       "      <td>N</td>\n",
       "      <td>Way easier than explaining your musical taste ...</td>\n",
       "      <td>Finally there is a way for your family to buy ...</td>\n",
       "      <td>2004-11-30</td>\n",
       "    </tr>\n",
       "    <tr>\n",
       "      <th>148308</th>\n",
       "      <td>US</td>\n",
       "      <td>30603398</td>\n",
       "      <td>RC2BIM4XKDCY4</td>\n",
       "      <td>B0002CZPPG</td>\n",
       "      <td>867256265</td>\n",
       "      <td>Apple iTunes Prepaid Card ($15)</td>\n",
       "      <td>Gift Card</td>\n",
       "      <td>4</td>\n",
       "      <td>63</td>\n",
       "      <td>72</td>\n",
       "      <td>N</td>\n",
       "      <td>N</td>\n",
       "      <td>A great way to turn cash into songs</td>\n",
       "      <td>I picked up a few of these at Target a while b...</td>\n",
       "      <td>2004-11-10</td>\n",
       "    </tr>\n",
       "    <tr>\n",
       "      <th>148309</th>\n",
       "      <td>US</td>\n",
       "      <td>16262996</td>\n",
       "      <td>RKOEI5NT6A7LL</td>\n",
       "      <td>B0002CZPPG</td>\n",
       "      <td>867256265</td>\n",
       "      <td>Apple iTunes Prepaid Card ($15)</td>\n",
       "      <td>Gift Card</td>\n",
       "      <td>5</td>\n",
       "      <td>26</td>\n",
       "      <td>29</td>\n",
       "      <td>N</td>\n",
       "      <td>N</td>\n",
       "      <td>iTunes Gift Card</td>\n",
       "      <td>This is the ultimate tool for downloading musi...</td>\n",
       "      <td>2004-10-14</td>\n",
       "    </tr>\n",
       "  </tbody>\n",
       "</table>\n",
       "<p>148310 rows × 15 columns</p>\n",
       "</div>"
      ],
      "text/plain": [
       "       marketplace  customer_id       review_id  product_id  product_parent  \\\n",
       "0               US     24371595  R27ZP1F1CD0C3Y  B004LLIL5A       346014806   \n",
       "1               US     42489718   RJ7RSBCHUDNNE  B004LLIKVU       473048287   \n",
       "2               US       861463  R1HVYBSKLQJI5S  B00IX1I3G6       926539283   \n",
       "3               US     25283295  R2HAXF0IIYQBIR  B00IX1I3G6       926539283   \n",
       "4               US       397970   RNYLPX611NB7Q  B005ESMGV4       379368939   \n",
       "...            ...          ...             ...         ...             ...   \n",
       "148305          US     40383801   R57O26VBSLMP1  B0002CZPPG       867256265   \n",
       "148306          US     15124244  R375D634NGSSPI  B0002CZPPG       867256265   \n",
       "148307          US     40383801  R2NCVKVC9B7I9C  B0002CZPPG       867256265   \n",
       "148308          US     30603398   RC2BIM4XKDCY4  B0002CZPPG       867256265   \n",
       "148309          US     16262996   RKOEI5NT6A7LL  B0002CZPPG       867256265   \n",
       "\n",
       "                                            product_title product_category  \\\n",
       "0                           Amazon eGift Card - Celebrate        Gift Card   \n",
       "1                                  Amazon.com eGift Cards        Gift Card   \n",
       "2                     Amazon.com Gift Card Balance Reload        Gift Card   \n",
       "3                     Amazon.com Gift Card Balance Reload        Gift Card   \n",
       "4       Amazon.com Gift Cards, Pack of 3 (Various Desi...        Gift Card   \n",
       "...                                                   ...              ...   \n",
       "148305                    Apple iTunes Prepaid Card ($15)        Gift Card   \n",
       "148306                    Apple iTunes Prepaid Card ($15)        Gift Card   \n",
       "148307                    Apple iTunes Prepaid Card ($15)        Gift Card   \n",
       "148308                    Apple iTunes Prepaid Card ($15)        Gift Card   \n",
       "148309                    Apple iTunes Prepaid Card ($15)        Gift Card   \n",
       "\n",
       "        star_rating  helpful_votes  total_votes vine verified_purchase  \\\n",
       "0                 5              0            0    N                 Y   \n",
       "1                 5              0            0    N                 Y   \n",
       "2                 5              0            0    N                 Y   \n",
       "3                 1              0            0    N                 Y   \n",
       "4                 5              0            0    N                 Y   \n",
       "...             ...            ...          ...  ...               ...   \n",
       "148305            5             10           10    N                 N   \n",
       "148306            4              8           44    N                 N   \n",
       "148307            5             20           30    N                 N   \n",
       "148308            4             63           72    N                 N   \n",
       "148309            5             26           29    N                 N   \n",
       "\n",
       "                                          review_headline  \\\n",
       "0                                              Five Stars   \n",
       "1       Gift card for the greatest selection of items ...   \n",
       "2                                              Five Stars   \n",
       "3                                                One Star   \n",
       "4                                              Five Stars   \n",
       "...                                                   ...   \n",
       "148305  Way easier than explaining your musical taste ...   \n",
       "148306                                    itunes paid for   \n",
       "148307  Way easier than explaining your musical taste ...   \n",
       "148308                A great way to turn cash into songs   \n",
       "148309                                   iTunes Gift Card   \n",
       "\n",
       "                                              review_body review_date  \n",
       "0                  Great birthday gift for a young adult.  2015-08-31  \n",
       "1       It's an Amazon gift card and with over 9823983...  2015-08-31  \n",
       "2                                                    Good  2015-08-31  \n",
       "3                                                    Fair  2015-08-31  \n",
       "4       I can't believe how quickly Amazon can get the...  2015-08-31  \n",
       "...                                                   ...         ...  \n",
       "148305  Finally there is a way for your family to buy ...  2005-01-21  \n",
       "148306  its very convenient to have an idea of how mut...  2004-12-17  \n",
       "148307  Finally there is a way for your family to buy ...  2004-11-30  \n",
       "148308  I picked up a few of these at Target a while b...  2004-11-10  \n",
       "148309  This is the ultimate tool for downloading musi...  2004-10-14  \n",
       "\n",
       "[148310 rows x 15 columns]"
      ]
     },
     "execution_count": 92,
     "metadata": {},
     "output_type": "execute_result"
    }
   ],
   "source": [
    "df_amazon"
   ]
  },
  {
   "cell_type": "code",
   "execution_count": 93,
   "id": "ed3330ac",
   "metadata": {
    "ExecuteTime": {
     "end_time": "2021-05-25T05:58:06.572707Z",
     "start_time": "2021-05-25T05:58:05.972048Z"
    }
   },
   "outputs": [],
   "source": [
    "df_amazon = pd.read_csv('/mnt/data/public/amazon-reviews/'\n",
    "                        'amazon_reviews_us_Gift_Card_v1_00.tsv.gz', \n",
    "                        delimiter='\\t', compression='gzip', \n",
    "                        error_bad_lines=False, \n",
    "                        usecols=['customer_id', 'product_title'])"
   ]
  },
  {
   "cell_type": "code",
   "execution_count": 94,
   "id": "a7cf9663",
   "metadata": {
    "ExecuteTime": {
     "end_time": "2021-05-25T05:58:12.144039Z",
     "start_time": "2021-05-25T05:58:12.126484Z"
    }
   },
   "outputs": [
    {
     "data": {
      "text/html": [
       "<div>\n",
       "<style scoped>\n",
       "    .dataframe tbody tr th:only-of-type {\n",
       "        vertical-align: middle;\n",
       "    }\n",
       "\n",
       "    .dataframe tbody tr th {\n",
       "        vertical-align: top;\n",
       "    }\n",
       "\n",
       "    .dataframe thead th {\n",
       "        text-align: right;\n",
       "    }\n",
       "</style>\n",
       "<table border=\"1\" class=\"dataframe\">\n",
       "  <thead>\n",
       "    <tr style=\"text-align: right;\">\n",
       "      <th></th>\n",
       "      <th>customer_id</th>\n",
       "      <th>product_title</th>\n",
       "    </tr>\n",
       "  </thead>\n",
       "  <tbody>\n",
       "    <tr>\n",
       "      <th>0</th>\n",
       "      <td>24371595</td>\n",
       "      <td>Amazon eGift Card - Celebrate</td>\n",
       "    </tr>\n",
       "    <tr>\n",
       "      <th>1</th>\n",
       "      <td>42489718</td>\n",
       "      <td>Amazon.com eGift Cards</td>\n",
       "    </tr>\n",
       "    <tr>\n",
       "      <th>2</th>\n",
       "      <td>861463</td>\n",
       "      <td>Amazon.com Gift Card Balance Reload</td>\n",
       "    </tr>\n",
       "    <tr>\n",
       "      <th>3</th>\n",
       "      <td>25283295</td>\n",
       "      <td>Amazon.com Gift Card Balance Reload</td>\n",
       "    </tr>\n",
       "    <tr>\n",
       "      <th>4</th>\n",
       "      <td>397970</td>\n",
       "      <td>Amazon.com Gift Cards, Pack of 3 (Various Desi...</td>\n",
       "    </tr>\n",
       "    <tr>\n",
       "      <th>...</th>\n",
       "      <td>...</td>\n",
       "      <td>...</td>\n",
       "    </tr>\n",
       "    <tr>\n",
       "      <th>148305</th>\n",
       "      <td>40383801</td>\n",
       "      <td>Apple iTunes Prepaid Card ($15)</td>\n",
       "    </tr>\n",
       "    <tr>\n",
       "      <th>148306</th>\n",
       "      <td>15124244</td>\n",
       "      <td>Apple iTunes Prepaid Card ($15)</td>\n",
       "    </tr>\n",
       "    <tr>\n",
       "      <th>148307</th>\n",
       "      <td>40383801</td>\n",
       "      <td>Apple iTunes Prepaid Card ($15)</td>\n",
       "    </tr>\n",
       "    <tr>\n",
       "      <th>148308</th>\n",
       "      <td>30603398</td>\n",
       "      <td>Apple iTunes Prepaid Card ($15)</td>\n",
       "    </tr>\n",
       "    <tr>\n",
       "      <th>148309</th>\n",
       "      <td>16262996</td>\n",
       "      <td>Apple iTunes Prepaid Card ($15)</td>\n",
       "    </tr>\n",
       "  </tbody>\n",
       "</table>\n",
       "<p>148310 rows × 2 columns</p>\n",
       "</div>"
      ],
      "text/plain": [
       "        customer_id                                      product_title\n",
       "0          24371595                      Amazon eGift Card - Celebrate\n",
       "1          42489718                             Amazon.com eGift Cards\n",
       "2            861463                Amazon.com Gift Card Balance Reload\n",
       "3          25283295                Amazon.com Gift Card Balance Reload\n",
       "4            397970  Amazon.com Gift Cards, Pack of 3 (Various Desi...\n",
       "...             ...                                                ...\n",
       "148305     40383801                    Apple iTunes Prepaid Card ($15)\n",
       "148306     15124244                    Apple iTunes Prepaid Card ($15)\n",
       "148307     40383801                    Apple iTunes Prepaid Card ($15)\n",
       "148308     30603398                    Apple iTunes Prepaid Card ($15)\n",
       "148309     16262996                    Apple iTunes Prepaid Card ($15)\n",
       "\n",
       "[148310 rows x 2 columns]"
      ]
     },
     "execution_count": 94,
     "metadata": {},
     "output_type": "execute_result"
    }
   ],
   "source": [
    "df_amazon"
   ]
  },
  {
   "cell_type": "code",
   "execution_count": 95,
   "id": "e1bdb005",
   "metadata": {
    "ExecuteTime": {
     "end_time": "2021-05-25T05:58:41.112786Z",
     "start_time": "2021-05-25T05:58:41.090630Z"
    }
   },
   "outputs": [],
   "source": [
    "df_amazon = pd.read_csv('/mnt/data/public/amazon-reviews/'\n",
    "                        'amazon_reviews_us_Gift_Card_v1_00.tsv.gz', \n",
    "                        delimiter='\\t', compression='gzip', \n",
    "                        error_bad_lines=False, \n",
    "                        usecols=['customer_id', 'product_title'],\n",
    "                        nrows=10)"
   ]
  },
  {
   "cell_type": "code",
   "execution_count": 96,
   "id": "d93b2ac9",
   "metadata": {
    "ExecuteTime": {
     "end_time": "2021-05-25T05:58:45.012056Z",
     "start_time": "2021-05-25T05:58:44.996271Z"
    }
   },
   "outputs": [
    {
     "data": {
      "text/html": [
       "<div>\n",
       "<style scoped>\n",
       "    .dataframe tbody tr th:only-of-type {\n",
       "        vertical-align: middle;\n",
       "    }\n",
       "\n",
       "    .dataframe tbody tr th {\n",
       "        vertical-align: top;\n",
       "    }\n",
       "\n",
       "    .dataframe thead th {\n",
       "        text-align: right;\n",
       "    }\n",
       "</style>\n",
       "<table border=\"1\" class=\"dataframe\">\n",
       "  <thead>\n",
       "    <tr style=\"text-align: right;\">\n",
       "      <th></th>\n",
       "      <th>customer_id</th>\n",
       "      <th>product_title</th>\n",
       "    </tr>\n",
       "  </thead>\n",
       "  <tbody>\n",
       "    <tr>\n",
       "      <th>0</th>\n",
       "      <td>24371595</td>\n",
       "      <td>Amazon eGift Card - Celebrate</td>\n",
       "    </tr>\n",
       "    <tr>\n",
       "      <th>1</th>\n",
       "      <td>42489718</td>\n",
       "      <td>Amazon.com eGift Cards</td>\n",
       "    </tr>\n",
       "    <tr>\n",
       "      <th>2</th>\n",
       "      <td>861463</td>\n",
       "      <td>Amazon.com Gift Card Balance Reload</td>\n",
       "    </tr>\n",
       "    <tr>\n",
       "      <th>3</th>\n",
       "      <td>25283295</td>\n",
       "      <td>Amazon.com Gift Card Balance Reload</td>\n",
       "    </tr>\n",
       "    <tr>\n",
       "      <th>4</th>\n",
       "      <td>397970</td>\n",
       "      <td>Amazon.com Gift Cards, Pack of 3 (Various Desi...</td>\n",
       "    </tr>\n",
       "    <tr>\n",
       "      <th>5</th>\n",
       "      <td>18513645</td>\n",
       "      <td>Amazon Gift Card - Print - Happy Birthday (Birds)</td>\n",
       "    </tr>\n",
       "    <tr>\n",
       "      <th>6</th>\n",
       "      <td>22484620</td>\n",
       "      <td>Amazon.com eGift Cards</td>\n",
       "    </tr>\n",
       "    <tr>\n",
       "      <th>7</th>\n",
       "      <td>14765851</td>\n",
       "      <td>Amazon.com Gift Card in a Greeting Card (Vario...</td>\n",
       "    </tr>\n",
       "    <tr>\n",
       "      <th>8</th>\n",
       "      <td>18751931</td>\n",
       "      <td>Amazon.com eGift Cards</td>\n",
       "    </tr>\n",
       "    <tr>\n",
       "      <th>9</th>\n",
       "      <td>15100528</td>\n",
       "      <td>Amazon Gift Card - Print - Amazon Boxes</td>\n",
       "    </tr>\n",
       "  </tbody>\n",
       "</table>\n",
       "</div>"
      ],
      "text/plain": [
       "   customer_id                                      product_title\n",
       "0     24371595                      Amazon eGift Card - Celebrate\n",
       "1     42489718                             Amazon.com eGift Cards\n",
       "2       861463                Amazon.com Gift Card Balance Reload\n",
       "3     25283295                Amazon.com Gift Card Balance Reload\n",
       "4       397970  Amazon.com Gift Cards, Pack of 3 (Various Desi...\n",
       "5     18513645  Amazon Gift Card - Print - Happy Birthday (Birds)\n",
       "6     22484620                             Amazon.com eGift Cards\n",
       "7     14765851  Amazon.com Gift Card in a Greeting Card (Vario...\n",
       "8     18751931                             Amazon.com eGift Cards\n",
       "9     15100528            Amazon Gift Card - Print - Amazon Boxes"
      ]
     },
     "execution_count": 96,
     "metadata": {},
     "output_type": "execute_result"
    }
   ],
   "source": [
    "df_amazon"
   ]
  },
  {
   "cell_type": "code",
   "execution_count": 99,
   "id": "55541319",
   "metadata": {
    "ExecuteTime": {
     "end_time": "2021-05-25T06:00:14.435807Z",
     "start_time": "2021-05-25T06:00:14.413660Z"
    }
   },
   "outputs": [],
   "source": [
    "df_amazon = pd.read_csv('/mnt/data/public/amazon-reviews/'\n",
    "                        'amazon_reviews_us_Gift_Card_v1_00.tsv.gz', \n",
    "                        delimiter='\\t', compression='gzip', \n",
    "                        error_bad_lines=False, \n",
    "                        usecols=['product_title', 'customer_id'],\n",
    "                        nrows=10)[['product_title', 'customer_id']]"
   ]
  },
  {
   "cell_type": "code",
   "execution_count": 108,
   "id": "4f7a5c89",
   "metadata": {
    "ExecuteTime": {
     "end_time": "2021-05-25T06:02:34.387822Z",
     "start_time": "2021-05-25T06:02:34.379876Z"
    }
   },
   "outputs": [
    {
     "data": {
      "text/plain": [
       "Index(['product_title', 'customer_id'], dtype='object')"
      ]
     },
     "execution_count": 108,
     "metadata": {},
     "output_type": "execute_result"
    }
   ],
   "source": [
    "df_amazon.columns"
   ]
  },
  {
   "cell_type": "code",
   "execution_count": 100,
   "id": "8eed8244",
   "metadata": {
    "ExecuteTime": {
     "end_time": "2021-05-25T06:00:17.173272Z",
     "start_time": "2021-05-25T06:00:17.157978Z"
    }
   },
   "outputs": [
    {
     "data": {
      "text/html": [
       "<div>\n",
       "<style scoped>\n",
       "    .dataframe tbody tr th:only-of-type {\n",
       "        vertical-align: middle;\n",
       "    }\n",
       "\n",
       "    .dataframe tbody tr th {\n",
       "        vertical-align: top;\n",
       "    }\n",
       "\n",
       "    .dataframe thead th {\n",
       "        text-align: right;\n",
       "    }\n",
       "</style>\n",
       "<table border=\"1\" class=\"dataframe\">\n",
       "  <thead>\n",
       "    <tr style=\"text-align: right;\">\n",
       "      <th></th>\n",
       "      <th>product_title</th>\n",
       "      <th>customer_id</th>\n",
       "    </tr>\n",
       "  </thead>\n",
       "  <tbody>\n",
       "    <tr>\n",
       "      <th>0</th>\n",
       "      <td>Amazon eGift Card - Celebrate</td>\n",
       "      <td>24371595</td>\n",
       "    </tr>\n",
       "    <tr>\n",
       "      <th>1</th>\n",
       "      <td>Amazon.com eGift Cards</td>\n",
       "      <td>42489718</td>\n",
       "    </tr>\n",
       "    <tr>\n",
       "      <th>2</th>\n",
       "      <td>Amazon.com Gift Card Balance Reload</td>\n",
       "      <td>861463</td>\n",
       "    </tr>\n",
       "    <tr>\n",
       "      <th>3</th>\n",
       "      <td>Amazon.com Gift Card Balance Reload</td>\n",
       "      <td>25283295</td>\n",
       "    </tr>\n",
       "    <tr>\n",
       "      <th>4</th>\n",
       "      <td>Amazon.com Gift Cards, Pack of 3 (Various Desi...</td>\n",
       "      <td>397970</td>\n",
       "    </tr>\n",
       "    <tr>\n",
       "      <th>5</th>\n",
       "      <td>Amazon Gift Card - Print - Happy Birthday (Birds)</td>\n",
       "      <td>18513645</td>\n",
       "    </tr>\n",
       "    <tr>\n",
       "      <th>6</th>\n",
       "      <td>Amazon.com eGift Cards</td>\n",
       "      <td>22484620</td>\n",
       "    </tr>\n",
       "    <tr>\n",
       "      <th>7</th>\n",
       "      <td>Amazon.com Gift Card in a Greeting Card (Vario...</td>\n",
       "      <td>14765851</td>\n",
       "    </tr>\n",
       "    <tr>\n",
       "      <th>8</th>\n",
       "      <td>Amazon.com eGift Cards</td>\n",
       "      <td>18751931</td>\n",
       "    </tr>\n",
       "    <tr>\n",
       "      <th>9</th>\n",
       "      <td>Amazon Gift Card - Print - Amazon Boxes</td>\n",
       "      <td>15100528</td>\n",
       "    </tr>\n",
       "  </tbody>\n",
       "</table>\n",
       "</div>"
      ],
      "text/plain": [
       "                                       product_title  customer_id\n",
       "0                      Amazon eGift Card - Celebrate     24371595\n",
       "1                             Amazon.com eGift Cards     42489718\n",
       "2                Amazon.com Gift Card Balance Reload       861463\n",
       "3                Amazon.com Gift Card Balance Reload     25283295\n",
       "4  Amazon.com Gift Cards, Pack of 3 (Various Desi...       397970\n",
       "5  Amazon Gift Card - Print - Happy Birthday (Birds)     18513645\n",
       "6                             Amazon.com eGift Cards     22484620\n",
       "7  Amazon.com Gift Card in a Greeting Card (Vario...     14765851\n",
       "8                             Amazon.com eGift Cards     18751931\n",
       "9            Amazon Gift Card - Print - Amazon Boxes     15100528"
      ]
     },
     "execution_count": 100,
     "metadata": {},
     "output_type": "execute_result"
    }
   ],
   "source": [
    "df_amazon"
   ]
  },
  {
   "cell_type": "code",
   "execution_count": 110,
   "id": "43fd94ae",
   "metadata": {
    "ExecuteTime": {
     "end_time": "2021-05-25T06:04:54.338598Z",
     "start_time": "2021-05-25T06:04:54.325217Z"
    }
   },
   "outputs": [],
   "source": [
    "pd.read_fwf?"
   ]
  },
  {
   "cell_type": "code",
   "execution_count": null,
   "id": "8841ff80",
   "metadata": {},
   "outputs": [],
   "source": [
    "df_amazon.to_csv('foo.csv', index=False)"
   ]
  },
  {
   "cell_type": "code",
   "execution_count": 112,
   "id": "9053de77",
   "metadata": {
    "ExecuteTime": {
     "end_time": "2021-05-25T06:06:52.650613Z",
     "start_time": "2021-05-25T06:06:52.644125Z"
    }
   },
   "outputs": [],
   "source": [
    "df2.to_pickle('df2.pkl')"
   ]
  },
  {
   "cell_type": "code",
   "execution_count": 114,
   "id": "aaa8e7a7",
   "metadata": {
    "ExecuteTime": {
     "end_time": "2021-05-25T06:07:08.625681Z",
     "start_time": "2021-05-25T06:07:08.605214Z"
    }
   },
   "outputs": [
    {
     "data": {
      "text/html": [
       "<div>\n",
       "<style scoped>\n",
       "    .dataframe tbody tr th:only-of-type {\n",
       "        vertical-align: middle;\n",
       "    }\n",
       "\n",
       "    .dataframe tbody tr th {\n",
       "        vertical-align: top;\n",
       "    }\n",
       "\n",
       "    .dataframe thead th {\n",
       "        text-align: right;\n",
       "    }\n",
       "</style>\n",
       "<table border=\"1\" class=\"dataframe\">\n",
       "  <thead>\n",
       "    <tr style=\"text-align: right;\">\n",
       "      <th></th>\n",
       "      <th>series1</th>\n",
       "      <th>series2</th>\n",
       "    </tr>\n",
       "  </thead>\n",
       "  <tbody>\n",
       "    <tr>\n",
       "      <th>a</th>\n",
       "      <td>1.0</td>\n",
       "      <td>NaN</td>\n",
       "    </tr>\n",
       "    <tr>\n",
       "      <th>b</th>\n",
       "      <td>12.0</td>\n",
       "      <td>NaN</td>\n",
       "    </tr>\n",
       "    <tr>\n",
       "      <th>c</th>\n",
       "      <td>23.0</td>\n",
       "      <td>NaN</td>\n",
       "    </tr>\n",
       "    <tr>\n",
       "      <th>d</th>\n",
       "      <td>34.0</td>\n",
       "      <td>NaN</td>\n",
       "    </tr>\n",
       "    <tr>\n",
       "      <th>e</th>\n",
       "      <td>45.0</td>\n",
       "      <td>NaN</td>\n",
       "    </tr>\n",
       "    <tr>\n",
       "      <th>f</th>\n",
       "      <td>56.0</td>\n",
       "      <td>0.0</td>\n",
       "    </tr>\n",
       "    <tr>\n",
       "      <th>g</th>\n",
       "      <td>67.0</td>\n",
       "      <td>1.0</td>\n",
       "    </tr>\n",
       "    <tr>\n",
       "      <th>h</th>\n",
       "      <td>78.0</td>\n",
       "      <td>2.0</td>\n",
       "    </tr>\n",
       "    <tr>\n",
       "      <th>i</th>\n",
       "      <td>89.0</td>\n",
       "      <td>3.0</td>\n",
       "    </tr>\n",
       "    <tr>\n",
       "      <th>j</th>\n",
       "      <td>100.0</td>\n",
       "      <td>4.0</td>\n",
       "    </tr>\n",
       "    <tr>\n",
       "      <th>k</th>\n",
       "      <td>NaN</td>\n",
       "      <td>5.0</td>\n",
       "    </tr>\n",
       "    <tr>\n",
       "      <th>l</th>\n",
       "      <td>NaN</td>\n",
       "      <td>6.0</td>\n",
       "    </tr>\n",
       "    <tr>\n",
       "      <th>m</th>\n",
       "      <td>NaN</td>\n",
       "      <td>7.0</td>\n",
       "    </tr>\n",
       "    <tr>\n",
       "      <th>n</th>\n",
       "      <td>NaN</td>\n",
       "      <td>8.0</td>\n",
       "    </tr>\n",
       "    <tr>\n",
       "      <th>o</th>\n",
       "      <td>NaN</td>\n",
       "      <td>9.0</td>\n",
       "    </tr>\n",
       "  </tbody>\n",
       "</table>\n",
       "</div>"
      ],
      "text/plain": [
       "   series1  series2\n",
       "a      1.0      NaN\n",
       "b     12.0      NaN\n",
       "c     23.0      NaN\n",
       "d     34.0      NaN\n",
       "e     45.0      NaN\n",
       "f     56.0      0.0\n",
       "g     67.0      1.0\n",
       "h     78.0      2.0\n",
       "i     89.0      3.0\n",
       "j    100.0      4.0\n",
       "k      NaN      5.0\n",
       "l      NaN      6.0\n",
       "m      NaN      7.0\n",
       "n      NaN      8.0\n",
       "o      NaN      9.0"
      ]
     },
     "execution_count": 114,
     "metadata": {},
     "output_type": "execute_result"
    }
   ],
   "source": [
    "pd.read_pickle('df2.pkl')"
   ]
  },
  {
   "cell_type": "code",
   "execution_count": 116,
   "id": "feb26766",
   "metadata": {
    "ExecuteTime": {
     "end_time": "2021-05-25T06:09:25.341325Z",
     "start_time": "2021-05-25T06:09:25.332114Z"
    }
   },
   "outputs": [
    {
     "data": {
      "text/plain": [
       "0                        amazon egift card - celebrate\n",
       "1                               amazon.com egift cards\n",
       "2                  amazon.com gift card balance reload\n",
       "3                  amazon.com gift card balance reload\n",
       "4    amazon.com gift cards, pack of 3 (various desi...\n",
       "5    amazon gift card - print - happy birthday (birds)\n",
       "6                               amazon.com egift cards\n",
       "7    amazon.com gift card in a greeting card (vario...\n",
       "8                               amazon.com egift cards\n",
       "9              amazon gift card - print - amazon boxes\n",
       "Name: product_title, dtype: object"
      ]
     },
     "execution_count": 116,
     "metadata": {},
     "output_type": "execute_result"
    }
   ],
   "source": [
    "df_amazon['product_title'].str.lower()"
   ]
  },
  {
   "cell_type": "code",
   "execution_count": 117,
   "id": "2bc208c0",
   "metadata": {
    "ExecuteTime": {
     "end_time": "2021-05-25T06:09:37.995967Z",
     "start_time": "2021-05-25T06:09:37.984095Z"
    }
   },
   "outputs": [
    {
     "data": {
      "text/plain": [
       "0                        amazon egift card - celebrate\n",
       "1                               amazon.com egift cards\n",
       "2                  amazon.com gift card balance reload\n",
       "3                  amazon.com gift card balance reload\n",
       "4    amazon.com gift cards, pack of 3 (various desi...\n",
       "5    amazon gift card - print - happy birthday (birds)\n",
       "6                               amazon.com egift cards\n",
       "7    amazon.com gift card in a greeting card (vario...\n",
       "8                               amazon.com egift cards\n",
       "9              amazon gift card - print - amazon boxes\n",
       "Name: product_title, dtype: object"
      ]
     },
     "execution_count": 117,
     "metadata": {},
     "output_type": "execute_result"
    }
   ],
   "source": [
    "df_amazon['product_title'].str.casefold()"
   ]
  },
  {
   "cell_type": "code",
   "execution_count": 118,
   "id": "23c44e6a",
   "metadata": {
    "ExecuteTime": {
     "end_time": "2021-05-25T06:10:16.444634Z",
     "start_time": "2021-05-25T06:10:16.431432Z"
    }
   },
   "outputs": [
    {
     "data": {
      "text/plain": [
       "0    Amazon eGi\n",
       "1    Amazon.com\n",
       "2    Amazon.com\n",
       "3    Amazon.com\n",
       "4    Amazon.com\n",
       "5    Amazon Gif\n",
       "6    Amazon.com\n",
       "7    Amazon.com\n",
       "8    Amazon.com\n",
       "9    Amazon Gif\n",
       "Name: product_title, dtype: object"
      ]
     },
     "execution_count": 118,
     "metadata": {},
     "output_type": "execute_result"
    }
   ],
   "source": [
    "df_amazon['product_title'].str[:10]"
   ]
  },
  {
   "cell_type": "code",
   "execution_count": 119,
   "id": "cc05beb5",
   "metadata": {
    "ExecuteTime": {
     "end_time": "2021-05-25T06:10:25.091041Z",
     "start_time": "2021-05-25T06:10:25.083728Z"
    }
   },
   "outputs": [
    {
     "data": {
      "text/plain": [
       "0    brate\n",
       "1    Cards\n",
       "2    eload\n",
       "3    eload\n",
       "4    igns)\n",
       "5    irds)\n",
       "6    Cards\n",
       "7    igns)\n",
       "8    Cards\n",
       "9    Boxes\n",
       "Name: product_title, dtype: object"
      ]
     },
     "execution_count": 119,
     "metadata": {},
     "output_type": "execute_result"
    }
   ],
   "source": [
    "df_amazon['product_title'].str[-5:]"
   ]
  },
  {
   "cell_type": "code",
   "execution_count": 120,
   "id": "19adf474",
   "metadata": {
    "ExecuteTime": {
     "end_time": "2021-05-25T06:10:39.504249Z",
     "start_time": "2021-05-25T06:10:39.490054Z"
    }
   },
   "outputs": [
    {
     "data": {
      "text/plain": [
       "0                  [Amazon, eGift, Card, -, Celebrate]\n",
       "1                           [Amazon.com, eGift, Cards]\n",
       "2            [Amazon.com, Gift, Card, Balance, Reload]\n",
       "3            [Amazon.com, Gift, Card, Balance, Reload]\n",
       "4    [Amazon.com, Gift, Cards,, Pack, of, 3, (Vario...\n",
       "5    [Amazon, Gift, Card, -, Print, -, Happy, Birth...\n",
       "6                           [Amazon.com, eGift, Cards]\n",
       "7    [Amazon.com, Gift, Card, in, a, Greeting, Card...\n",
       "8                           [Amazon.com, eGift, Cards]\n",
       "9     [Amazon, Gift, Card, -, Print, -, Amazon, Boxes]\n",
       "Name: product_title, dtype: object"
      ]
     },
     "execution_count": 120,
     "metadata": {},
     "output_type": "execute_result"
    }
   ],
   "source": [
    "df_amazon['product_title'].str.split()"
   ]
  },
  {
   "cell_type": "code",
   "execution_count": 121,
   "id": "6bba5daf",
   "metadata": {
    "ExecuteTime": {
     "end_time": "2021-05-25T06:10:56.677027Z",
     "start_time": "2021-05-25T06:10:56.663036Z"
    }
   },
   "outputs": [
    {
     "data": {
      "text/plain": [
       "0        Amazon\n",
       "1    Amazon.com\n",
       "2    Amazon.com\n",
       "3    Amazon.com\n",
       "4    Amazon.com\n",
       "5        Amazon\n",
       "6    Amazon.com\n",
       "7    Amazon.com\n",
       "8    Amazon.com\n",
       "9        Amazon\n",
       "Name: product_title, dtype: object"
      ]
     },
     "execution_count": 121,
     "metadata": {},
     "output_type": "execute_result"
    }
   ],
   "source": [
    "df_amazon['product_title'].str.split().str[0]"
   ]
  },
  {
   "cell_type": "code",
   "execution_count": 122,
   "id": "323efb9f",
   "metadata": {
    "ExecuteTime": {
     "end_time": "2021-05-25T06:11:31.409852Z",
     "start_time": "2021-05-25T06:11:31.396631Z"
    }
   },
   "outputs": [
    {
     "data": {
      "text/plain": [
       "0    True\n",
       "1    True\n",
       "2    True\n",
       "3    True\n",
       "4    True\n",
       "5    True\n",
       "6    True\n",
       "7    True\n",
       "8    True\n",
       "9    True\n",
       "Name: product_title, dtype: bool"
      ]
     },
     "execution_count": 122,
     "metadata": {},
     "output_type": "execute_result"
    }
   ],
   "source": [
    "df_amazon['product_title'].str.contains('Gift')"
   ]
  },
  {
   "cell_type": "code",
   "execution_count": 124,
   "id": "e1a7de3d",
   "metadata": {
    "ExecuteTime": {
     "end_time": "2021-05-25T06:13:33.574618Z",
     "start_time": "2021-05-25T06:13:33.559118Z"
    }
   },
   "outputs": [
    {
     "data": {
      "text/plain": [
       "0                  [Amazon, eGift, Card, -, Celebrate]\n",
       "1                           [Amazon.com, eGift, Cards]\n",
       "2            [Amazon.com, Gift, Card, Balance, Reload]\n",
       "3            [Amazon.com, Gift, Card, Balance, Reload]\n",
       "4    [Amazon.com, Gift, Cards,, Pack, of, 3, (Vario...\n",
       "5    [Amazon, Gift, Card, -, Print, -, Happy, Birth...\n",
       "6                           [Amazon.com, eGift, Cards]\n",
       "7    [Amazon.com, Gift, Card, in, a, Greeting, Card...\n",
       "8                           [Amazon.com, eGift, Cards]\n",
       "9     [Amazon, Gift, Card, -, Print, -, Amazon, Boxes]\n",
       "Name: product_title, dtype: object"
      ]
     },
     "execution_count": 124,
     "metadata": {},
     "output_type": "execute_result"
    }
   ],
   "source": [
    "df_amazon['product_title'].str.split()"
   ]
  },
  {
   "cell_type": "code",
   "execution_count": 125,
   "id": "af11477c",
   "metadata": {
    "ExecuteTime": {
     "end_time": "2021-05-25T06:14:18.429404Z",
     "start_time": "2021-05-25T06:14:18.400043Z"
    }
   },
   "outputs": [
    {
     "data": {
      "text/html": [
       "<div>\n",
       "<style scoped>\n",
       "    .dataframe tbody tr th:only-of-type {\n",
       "        vertical-align: middle;\n",
       "    }\n",
       "\n",
       "    .dataframe tbody tr th {\n",
       "        vertical-align: top;\n",
       "    }\n",
       "\n",
       "    .dataframe thead th {\n",
       "        text-align: right;\n",
       "    }\n",
       "</style>\n",
       "<table border=\"1\" class=\"dataframe\">\n",
       "  <thead>\n",
       "    <tr style=\"text-align: right;\">\n",
       "      <th></th>\n",
       "      <th>0</th>\n",
       "      <th>1</th>\n",
       "      <th>2</th>\n",
       "      <th>3</th>\n",
       "      <th>4</th>\n",
       "      <th>5</th>\n",
       "      <th>6</th>\n",
       "      <th>7</th>\n",
       "      <th>8</th>\n",
       "    </tr>\n",
       "  </thead>\n",
       "  <tbody>\n",
       "    <tr>\n",
       "      <th>0</th>\n",
       "      <td>Amazon</td>\n",
       "      <td>eGift</td>\n",
       "      <td>Card</td>\n",
       "      <td>-</td>\n",
       "      <td>Celebrate</td>\n",
       "      <td>None</td>\n",
       "      <td>None</td>\n",
       "      <td>None</td>\n",
       "      <td>None</td>\n",
       "    </tr>\n",
       "    <tr>\n",
       "      <th>1</th>\n",
       "      <td>Amazon.com</td>\n",
       "      <td>eGift</td>\n",
       "      <td>Cards</td>\n",
       "      <td>None</td>\n",
       "      <td>None</td>\n",
       "      <td>None</td>\n",
       "      <td>None</td>\n",
       "      <td>None</td>\n",
       "      <td>None</td>\n",
       "    </tr>\n",
       "    <tr>\n",
       "      <th>2</th>\n",
       "      <td>Amazon.com</td>\n",
       "      <td>Gift</td>\n",
       "      <td>Card</td>\n",
       "      <td>Balance</td>\n",
       "      <td>Reload</td>\n",
       "      <td>None</td>\n",
       "      <td>None</td>\n",
       "      <td>None</td>\n",
       "      <td>None</td>\n",
       "    </tr>\n",
       "    <tr>\n",
       "      <th>3</th>\n",
       "      <td>Amazon.com</td>\n",
       "      <td>Gift</td>\n",
       "      <td>Card</td>\n",
       "      <td>Balance</td>\n",
       "      <td>Reload</td>\n",
       "      <td>None</td>\n",
       "      <td>None</td>\n",
       "      <td>None</td>\n",
       "      <td>None</td>\n",
       "    </tr>\n",
       "    <tr>\n",
       "      <th>4</th>\n",
       "      <td>Amazon.com</td>\n",
       "      <td>Gift</td>\n",
       "      <td>Cards,</td>\n",
       "      <td>Pack</td>\n",
       "      <td>of</td>\n",
       "      <td>3</td>\n",
       "      <td>(Various</td>\n",
       "      <td>Designs)</td>\n",
       "      <td>None</td>\n",
       "    </tr>\n",
       "    <tr>\n",
       "      <th>5</th>\n",
       "      <td>Amazon</td>\n",
       "      <td>Gift</td>\n",
       "      <td>Card</td>\n",
       "      <td>-</td>\n",
       "      <td>Print</td>\n",
       "      <td>-</td>\n",
       "      <td>Happy</td>\n",
       "      <td>Birthday</td>\n",
       "      <td>(Birds)</td>\n",
       "    </tr>\n",
       "    <tr>\n",
       "      <th>6</th>\n",
       "      <td>Amazon.com</td>\n",
       "      <td>eGift</td>\n",
       "      <td>Cards</td>\n",
       "      <td>None</td>\n",
       "      <td>None</td>\n",
       "      <td>None</td>\n",
       "      <td>None</td>\n",
       "      <td>None</td>\n",
       "      <td>None</td>\n",
       "    </tr>\n",
       "    <tr>\n",
       "      <th>7</th>\n",
       "      <td>Amazon.com</td>\n",
       "      <td>Gift</td>\n",
       "      <td>Card</td>\n",
       "      <td>in</td>\n",
       "      <td>a</td>\n",
       "      <td>Greeting</td>\n",
       "      <td>Card</td>\n",
       "      <td>(Various</td>\n",
       "      <td>Designs)</td>\n",
       "    </tr>\n",
       "    <tr>\n",
       "      <th>8</th>\n",
       "      <td>Amazon.com</td>\n",
       "      <td>eGift</td>\n",
       "      <td>Cards</td>\n",
       "      <td>None</td>\n",
       "      <td>None</td>\n",
       "      <td>None</td>\n",
       "      <td>None</td>\n",
       "      <td>None</td>\n",
       "      <td>None</td>\n",
       "    </tr>\n",
       "    <tr>\n",
       "      <th>9</th>\n",
       "      <td>Amazon</td>\n",
       "      <td>Gift</td>\n",
       "      <td>Card</td>\n",
       "      <td>-</td>\n",
       "      <td>Print</td>\n",
       "      <td>-</td>\n",
       "      <td>Amazon</td>\n",
       "      <td>Boxes</td>\n",
       "      <td>None</td>\n",
       "    </tr>\n",
       "  </tbody>\n",
       "</table>\n",
       "</div>"
      ],
      "text/plain": [
       "            0      1       2        3          4         5         6  \\\n",
       "0      Amazon  eGift    Card        -  Celebrate      None      None   \n",
       "1  Amazon.com  eGift   Cards     None       None      None      None   \n",
       "2  Amazon.com   Gift    Card  Balance     Reload      None      None   \n",
       "3  Amazon.com   Gift    Card  Balance     Reload      None      None   \n",
       "4  Amazon.com   Gift  Cards,     Pack         of         3  (Various   \n",
       "5      Amazon   Gift    Card        -      Print         -     Happy   \n",
       "6  Amazon.com  eGift   Cards     None       None      None      None   \n",
       "7  Amazon.com   Gift    Card       in          a  Greeting      Card   \n",
       "8  Amazon.com  eGift   Cards     None       None      None      None   \n",
       "9      Amazon   Gift    Card        -      Print         -    Amazon   \n",
       "\n",
       "          7         8  \n",
       "0      None      None  \n",
       "1      None      None  \n",
       "2      None      None  \n",
       "3      None      None  \n",
       "4  Designs)      None  \n",
       "5  Birthday   (Birds)  \n",
       "6      None      None  \n",
       "7  (Various  Designs)  \n",
       "8      None      None  \n",
       "9     Boxes      None  "
      ]
     },
     "execution_count": 125,
     "metadata": {},
     "output_type": "execute_result"
    }
   ],
   "source": [
    "df_amazon['product_title'].str.split(expand=True)"
   ]
  },
  {
   "cell_type": "code",
   "execution_count": 126,
   "id": "01eb848a",
   "metadata": {
    "ExecuteTime": {
     "end_time": "2021-05-25T06:14:47.355736Z",
     "start_time": "2021-05-25T06:14:47.341194Z"
    }
   },
   "outputs": [
    {
     "data": {
      "text/plain": [
       "0        Amazon\n",
       "1    Amazon.com\n",
       "2    Amazon.com\n",
       "3    Amazon.com\n",
       "4    Amazon.com\n",
       "5        Amazon\n",
       "6    Amazon.com\n",
       "7    Amazon.com\n",
       "8    Amazon.com\n",
       "9        Amazon\n",
       "Name: 0, dtype: object"
      ]
     },
     "execution_count": 126,
     "metadata": {},
     "output_type": "execute_result"
    }
   ],
   "source": [
    "df_amazon['product_title'].str.split(expand=True)[0]"
   ]
  },
  {
   "cell_type": "code",
   "execution_count": 127,
   "id": "162a023b",
   "metadata": {
    "ExecuteTime": {
     "end_time": "2021-05-25T06:15:06.414262Z",
     "start_time": "2021-05-25T06:15:06.402013Z"
    }
   },
   "outputs": [
    {
     "data": {
      "text/plain": [
       "0        None\n",
       "1        None\n",
       "2        None\n",
       "3        None\n",
       "4        None\n",
       "5     (Birds)\n",
       "6        None\n",
       "7    Designs)\n",
       "8        None\n",
       "9        None\n",
       "Name: 8, dtype: object"
      ]
     },
     "execution_count": 127,
     "metadata": {},
     "output_type": "execute_result"
    }
   ],
   "source": [
    "df_amazon['product_title'].str.split(expand=True)[8]"
   ]
  },
  {
   "cell_type": "code",
   "execution_count": 128,
   "id": "0bb910c6",
   "metadata": {
    "ExecuteTime": {
     "end_time": "2021-05-25T06:15:58.140263Z",
     "start_time": "2021-05-25T06:15:58.130279Z"
    }
   },
   "outputs": [
    {
     "data": {
      "text/plain": [
       "0                          Jeff eGift Card - Celebrate\n",
       "1                                 Jeff.com eGift Cards\n",
       "2                    Jeff.com Gift Card Balance Reload\n",
       "3                    Jeff.com Gift Card Balance Reload\n",
       "4     Jeff.com Gift Cards, Pack of 3 (Various Designs)\n",
       "5      Jeff Gift Card - Print - Happy Birthday (Birds)\n",
       "6                                 Jeff.com eGift Cards\n",
       "7    Jeff.com Gift Card in a Greeting Card (Various...\n",
       "8                                 Jeff.com eGift Cards\n",
       "9                  Jeff Gift Card - Print - Jeff Boxes\n",
       "Name: product_title, dtype: object"
      ]
     },
     "execution_count": 128,
     "metadata": {},
     "output_type": "execute_result"
    }
   ],
   "source": [
    "df_amazon['product_title'].str.replace('Amazon', 'Jeff')"
   ]
  },
  {
   "cell_type": "code",
   "execution_count": 129,
   "id": "2969cb7a",
   "metadata": {
    "ExecuteTime": {
     "end_time": "2021-05-25T06:17:31.994291Z",
     "start_time": "2021-05-25T06:17:31.983969Z"
    }
   },
   "outputs": [],
   "source": [
    "str.replace?"
   ]
  },
  {
   "cell_type": "code",
   "execution_count": 130,
   "id": "2d88777a",
   "metadata": {
    "ExecuteTime": {
     "end_time": "2021-05-25T06:32:05.758395Z",
     "start_time": "2021-05-25T06:32:05.753250Z"
    }
   },
   "outputs": [],
   "source": [
    "import numpy as np"
   ]
  },
  {
   "cell_type": "code",
   "execution_count": 131,
   "id": "55cb001d",
   "metadata": {
    "ExecuteTime": {
     "end_time": "2021-05-25T06:32:07.576178Z",
     "start_time": "2021-05-25T06:32:07.568239Z"
    }
   },
   "outputs": [],
   "source": [
    "df5 = pd.DataFrame(np.random.random([100,3]), columns=['a', 'b', 'c'])"
   ]
  },
  {
   "cell_type": "code",
   "execution_count": 132,
   "id": "aa968884",
   "metadata": {
    "ExecuteTime": {
     "end_time": "2021-05-25T06:32:21.860329Z",
     "start_time": "2021-05-25T06:32:21.272821Z"
    }
   },
   "outputs": [
    {
     "data": {
      "text/plain": [
       "<AxesSubplot:>"
      ]
     },
     "execution_count": 132,
     "metadata": {},
     "output_type": "execute_result"
    },
    {
     "data": {
      "image/png": "[encoded data removed]",
      "text/plain": [
       "<Figure size 432x288 with 1 Axes>"
      ]
     },
     "metadata": {
      "needs_background": "light"
     },
     "output_type": "display_data"
    }
   ],
   "source": [
    "df5.plot()"
   ]
  },
  {
   "cell_type": "code",
   "execution_count": 133,
   "id": "1e294531",
   "metadata": {
    "ExecuteTime": {
     "end_time": "2021-05-25T06:33:20.152593Z",
     "start_time": "2021-05-25T06:33:19.967405Z"
    }
   },
   "outputs": [
    {
     "data": {
      "text/plain": [
       "<AxesSubplot:xlabel='a'>"
      ]
     },
     "execution_count": 133,
     "metadata": {},
     "output_type": "execute_result"
    },
    {
     "data": {
      "image/png": "[encoded data removed]",
      "text/plain": [
       "<Figure size 432x288 with 1 Axes>"
      ]
     },
     "metadata": {
      "needs_background": "light"
     },
     "output_type": "display_data"
    }
   ],
   "source": [
    "df5.plot(x='a', y='b')"
   ]
  },
  {
   "cell_type": "code",
   "execution_count": 134,
   "id": "ba9f9d70",
   "metadata": {
    "ExecuteTime": {
     "end_time": "2021-05-25T06:33:59.571256Z",
     "start_time": "2021-05-25T06:33:59.399371Z"
    }
   },
   "outputs": [
    {
     "data": {
      "text/plain": [
       "<AxesSubplot:xlabel='a'>"
      ]
     },
     "execution_count": 134,
     "metadata": {},
     "output_type": "execute_result"
    },
    {
     "data": {
      "image/png": "[encoded data removed]",
      "text/plain": [
       "<Figure size 432x288 with 1 Axes>"
      ]
     },
     "metadata": {
      "needs_background": "light"
     },
     "output_type": "display_data"
    }
   ],
   "source": [
    "df5.plot(x='a', y='b', marker='.')"
   ]
  },
  {
   "cell_type": "code",
   "execution_count": 136,
   "id": "e822ed4e",
   "metadata": {
    "ExecuteTime": {
     "end_time": "2021-05-25T06:34:32.246421Z",
     "start_time": "2021-05-25T06:34:32.099513Z"
    }
   },
   "outputs": [
    {
     "data": {
      "text/plain": [
       "<AxesSubplot:xlabel='a'>"
      ]
     },
     "execution_count": 136,
     "metadata": {},
     "output_type": "execute_result"
    },
    {
     "data": {
      "image/png": "[encoded data removed]",
      "text/plain": [
       "<Figure size 432x288 with 1 Axes>"
      ]
     },
     "metadata": {
      "needs_background": "light"
     },
     "output_type": "display_data"
    }
   ],
   "source": [
    "df5.plot(x='a', y='b', marker='o', linestyle='')"
   ]
  },
  {
   "cell_type": "code",
   "execution_count": 139,
   "id": "15edc6c4",
   "metadata": {
    "ExecuteTime": {
     "end_time": "2021-05-25T06:35:00.492168Z",
     "start_time": "2021-05-25T06:35:00.326131Z"
    }
   },
   "outputs": [
    {
     "data": {
      "text/plain": [
       "<AxesSubplot:xlabel='a'>"
      ]
     },
     "execution_count": 139,
     "metadata": {},
     "output_type": "execute_result"
    },
    {
     "data": {
      "image/png": "[encoded data removed]",
      "text/plain": [
       "<Figure size 432x288 with 1 Axes>"
      ]
     },
     "metadata": {
      "needs_background": "light"
     },
     "output_type": "display_data"
    }
   ],
   "source": [
    "df5.plot(x='a', y='b', marker='o', linestyle='--', color='r')"
   ]
  },
  {
   "cell_type": "code",
   "execution_count": 140,
   "id": "ca97f194",
   "metadata": {
    "ExecuteTime": {
     "end_time": "2021-05-25T06:35:51.813845Z",
     "start_time": "2021-05-25T06:35:51.654435Z"
    }
   },
   "outputs": [
    {
     "data": {
      "text/plain": [
       "<AxesSubplot:xlabel='a', ylabel='b'>"
      ]
     },
     "execution_count": 140,
     "metadata": {},
     "output_type": "execute_result"
    },
    {
     "data": {
      "image/png": "[encoded data removed]",
      "text/plain": [
       "<Figure size 432x288 with 1 Axes>"
      ]
     },
     "metadata": {
      "needs_background": "light"
     },
     "output_type": "display_data"
    }
   ],
   "source": [
    "df5.plot(x='a', y='b', marker='o', linestyle='--', color='r', kind='scatter')"
   ]
  },
  {
   "cell_type": "code",
   "execution_count": 141,
   "id": "98cef9e6",
   "metadata": {
    "ExecuteTime": {
     "end_time": "2021-05-25T06:36:10.479933Z",
     "start_time": "2021-05-25T06:36:10.333291Z"
    }
   },
   "outputs": [
    {
     "data": {
      "text/plain": [
       "<AxesSubplot:xlabel='a', ylabel='b'>"
      ]
     },
     "execution_count": 141,
     "metadata": {},
     "output_type": "execute_result"
    },
    {
     "data": {
      "image/png": "[encoded data removed]",
      "text/plain": [
       "<Figure size 432x288 with 1 Axes>"
      ]
     },
     "metadata": {
      "needs_background": "light"
     },
     "output_type": "display_data"
    }
   ],
   "source": [
    "df5.plot.scatter(x='a', y='b', marker='o', linestyle='--', color='r')"
   ]
  },
  {
   "cell_type": "code",
   "execution_count": 143,
   "id": "7dcab4cb",
   "metadata": {
    "ExecuteTime": {
     "end_time": "2021-05-25T06:37:59.325439Z",
     "start_time": "2021-05-25T06:37:57.406087Z"
    }
   },
   "outputs": [
    {
     "data": {
      "text/plain": [
       "<AxesSubplot:>"
      ]
     },
     "execution_count": 143,
     "metadata": {},
     "output_type": "execute_result"
    },
    {
     "data": {
      "image/png": "[encoded data removed]",
      "text/plain": [
       "<Figure size 432x288 with 1 Axes>"
      ]
     },
     "metadata": {
      "needs_background": "light"
     },
     "output_type": "display_data"
    }
   ],
   "source": [
    "df5.plot.bar()"
   ]
  },
  {
   "cell_type": "code",
   "execution_count": 144,
   "id": "c4c09538",
   "metadata": {
    "ExecuteTime": {
     "end_time": "2021-05-25T06:38:11.101580Z",
     "start_time": "2021-05-25T06:38:09.238573Z"
    }
   },
   "outputs": [
    {
     "data": {
      "text/plain": [
       "<AxesSubplot:>"
      ]
     },
     "execution_count": 144,
     "metadata": {},
     "output_type": "execute_result"
    },
    {
     "data": {
      "image/png": "[encoded data removed]",
      "text/plain": [
       "<Figure size 432x288 with 1 Axes>"
      ]
     },
     "metadata": {
      "needs_background": "light"
     },
     "output_type": "display_data"
    }
   ],
   "source": [
    "df5.plot.barh()"
   ]
  },
  {
   "cell_type": "code",
   "execution_count": 147,
   "id": "b6cbd088",
   "metadata": {
    "ExecuteTime": {
     "end_time": "2021-05-25T06:39:02.142223Z",
     "start_time": "2021-05-25T06:39:01.749196Z"
    }
   },
   "outputs": [
    {
     "data": {
      "text/plain": [
       "<AxesSubplot:ylabel='Frequency'>"
      ]
     },
     "execution_count": 147,
     "metadata": {},
     "output_type": "execute_result"
    },
    {
     "data": {
      "image/png": "[encoded data removed]",
      "text/plain": [
       "<Figure size 432x288 with 1 Axes>"
      ]
     },
     "metadata": {
      "needs_background": "light"
     },
     "output_type": "display_data"
    }
   ],
   "source": [
    "df5.plot.hist()"
   ]
  },
  {
   "cell_type": "code",
   "execution_count": 148,
   "id": "aab73caa",
   "metadata": {
    "ExecuteTime": {
     "end_time": "2021-05-25T06:39:16.133622Z",
     "start_time": "2021-05-25T06:39:15.572999Z"
    }
   },
   "outputs": [
    {
     "data": {
      "text/plain": [
       "<AxesSubplot:ylabel='Density'>"
      ]
     },
     "execution_count": 148,
     "metadata": {},
     "output_type": "execute_result"
    },
    {
     "data": {
      "image/png": "[encoded data removed]",
      "text/plain": [
       "<Figure size 432x288 with 1 Axes>"
      ]
     },
     "metadata": {
      "needs_background": "light"
     },
     "output_type": "display_data"
    }
   ],
   "source": [
    "df5.plot.kde()"
   ]
  },
  {
   "cell_type": "code",
   "execution_count": 152,
   "id": "d28e43c1",
   "metadata": {
    "ExecuteTime": {
     "end_time": "2021-05-25T06:41:47.867720Z",
     "start_time": "2021-05-25T06:41:46.975411Z"
    }
   },
   "outputs": [
    {
     "data": {
      "image/png": "[encoded data removed]",
      "text/plain": [
       "<Figure size 432x288 with 1 Axes>"
      ]
     },
     "metadata": {
      "needs_background": "light"
     },
     "output_type": "display_data"
    }
   ],
   "source": [
    "ax = df5.plot.barh()\n",
    "ax.set_yticks(np.linspace(0, 99, 10));"
   ]
  },
  {
   "cell_type": "code",
   "execution_count": 157,
   "id": "76d90e08",
   "metadata": {
    "ExecuteTime": {
     "end_time": "2021-05-25T06:43:42.771656Z",
     "start_time": "2021-05-25T06:43:42.766891Z"
    }
   },
   "outputs": [],
   "source": [
    "import matplotlib.pyplot as plt"
   ]
  },
  {
   "cell_type": "code",
   "execution_count": 158,
   "id": "f4b40730",
   "metadata": {
    "ExecuteTime": {
     "end_time": "2021-05-25T06:43:44.927770Z",
     "start_time": "2021-05-25T06:43:42.932774Z"
    }
   },
   "outputs": [
    {
     "data": {
      "text/plain": [
       "<AxesSubplot:ylabel='Density'>"
      ]
     },
     "execution_count": 158,
     "metadata": {},
     "output_type": "execute_result"
    },
    {
     "data": {
      "image/png": "[encoded data removed]",
      "text/plain": [
       "<Figure size 432x288 with 2 Axes>"
      ]
     },
     "metadata": {
      "needs_background": "light"
     },
     "output_type": "display_data"
    }
   ],
   "source": [
    "fig, ax = plt.subplots(1, 2)\n",
    "df5.plot.barh(ax=ax[0])\n",
    "df5.plot.kde(ax=ax[1])"
   ]
  },
  {
   "cell_type": "code",
   "execution_count": 161,
   "id": "b11001b0",
   "metadata": {
    "ExecuteTime": {
     "end_time": "2021-05-25T06:44:49.458067Z",
     "start_time": "2021-05-25T06:44:47.296546Z"
    }
   },
   "outputs": [
    {
     "data": {
      "text/plain": [
       "<AxesSubplot:ylabel='Density'>"
      ]
     },
     "execution_count": 161,
     "metadata": {},
     "output_type": "execute_result"
    },
    {
     "data": {
      "image/png": "[encoded data removed]",
      "text/plain": [
       "<Figure size 432x288 with 2 Axes>"
      ]
     },
     "metadata": {
      "needs_background": "light"
     },
     "output_type": "display_data"
    }
   ],
   "source": [
    "ax = df5.plot.barh()\n",
    "ax.twinx()\n",
    "df5.plot.kde(ax=ax)"
   ]
  },
  {
   "cell_type": "code",
   "execution_count": 164,
   "id": "79859f37",
   "metadata": {
    "ExecuteTime": {
     "end_time": "2021-05-25T06:46:33.596638Z",
     "start_time": "2021-05-25T06:46:33.015290Z"
    }
   },
   "outputs": [
    {
     "data": {
      "text/plain": [
       "array([[<AxesSubplot:xlabel='a', ylabel='a'>,\n",
       "        <AxesSubplot:xlabel='b', ylabel='a'>,\n",
       "        <AxesSubplot:xlabel='c', ylabel='a'>],\n",
       "       [<AxesSubplot:xlabel='a', ylabel='b'>,\n",
       "        <AxesSubplot:xlabel='b', ylabel='b'>,\n",
       "        <AxesSubplot:xlabel='c', ylabel='b'>],\n",
       "       [<AxesSubplot:xlabel='a', ylabel='c'>,\n",
       "        <AxesSubplot:xlabel='b', ylabel='c'>,\n",
       "        <AxesSubplot:xlabel='c', ylabel='c'>]], dtype=object)"
      ]
     },
     "execution_count": 164,
     "metadata": {},
     "output_type": "execute_result"
    },
    {
     "data": {
      "image/png": "[encoded data removed]",
      "text/plain": [
       "<Figure size 432x288 with 9 Axes>"
      ]
     },
     "metadata": {
      "needs_background": "light"
     },
     "output_type": "display_data"
    }
   ],
   "source": [
    "from pandas.plotting import scatter_matrix\n",
    "scatter_matrix(df5)"
   ]
  },
  {
   "cell_type": "code",
   "execution_count": 165,
   "id": "060f51f1",
   "metadata": {
    "ExecuteTime": {
     "end_time": "2021-05-25T06:49:16.881551Z",
     "start_time": "2021-05-25T06:49:16.871444Z"
    }
   },
   "outputs": [],
   "source": [
    "df6 =  pd.DataFrame({\n",
    "    'a': ['foo', 'bar']*3, \n",
    "    'b': ['alpha']*2+['bravo']*2+['charlie']*2, \n",
    "    'c': np.arange(10, 70, 10), \n",
    "    'd': np.random.random(6)}, \n",
    "    index=list('ABCDEF'))"
   ]
  },
  {
   "cell_type": "code",
   "execution_count": 167,
   "id": "e95c1acd",
   "metadata": {
    "ExecuteTime": {
     "end_time": "2021-05-25T06:51:01.731947Z",
     "start_time": "2021-05-25T06:51:01.721234Z"
    }
   },
   "outputs": [
    {
     "data": {
      "text/plain": [
       "<pandas.core.groupby.generic.DataFrameGroupBy object at 0x7f1fd81344c0>"
      ]
     },
     "execution_count": 167,
     "metadata": {},
     "output_type": "execute_result"
    }
   ],
   "source": [
    "df6.groupby('a')"
   ]
  },
  {
   "cell_type": "code",
   "execution_count": 168,
   "id": "6ca4bea6",
   "metadata": {
    "ExecuteTime": {
     "end_time": "2021-05-25T06:52:01.132699Z",
     "start_time": "2021-05-25T06:52:01.114559Z"
    }
   },
   "outputs": [
    {
     "name": "stdout",
     "output_type": "stream",
     "text": [
      "bar\n",
      "     a        b   c         d\n",
      "B  bar    alpha  20  0.597182\n",
      "D  bar    bravo  40  0.987532\n",
      "F  bar  charlie  60  0.845975\n",
      "foo\n",
      "     a        b   c         d\n",
      "A  foo    alpha  10  0.976877\n",
      "C  foo    bravo  30  0.109545\n",
      "E  foo  charlie  50  0.290993\n"
     ]
    }
   ],
   "source": [
    "for key, group in df6.groupby('a'):\n",
    "    print(key)\n",
    "    print(group)"
   ]
  },
  {
   "cell_type": "code",
   "execution_count": 170,
   "id": "53b3fc2e",
   "metadata": {
    "ExecuteTime": {
     "end_time": "2021-05-25T06:53:49.031286Z",
     "start_time": "2021-05-25T06:53:49.019716Z"
    }
   },
   "outputs": [
    {
     "data": {
      "text/plain": [
       "{'bar': ['B', 'D', 'F'], 'foo': ['A', 'C', 'E']}"
      ]
     },
     "execution_count": 170,
     "metadata": {},
     "output_type": "execute_result"
    }
   ],
   "source": [
    "df6.groupby('a').groups"
   ]
  },
  {
   "cell_type": "code",
   "execution_count": 172,
   "id": "ab6bd3cf",
   "metadata": {
    "ExecuteTime": {
     "end_time": "2021-05-25T06:55:24.992323Z",
     "start_time": "2021-05-25T06:55:24.983268Z"
    }
   },
   "outputs": [
    {
     "data": {
      "text/plain": [
       "<pandas.core.groupby.generic.SeriesGroupBy object at 0x7f1fd8168af0>"
      ]
     },
     "execution_count": 172,
     "metadata": {},
     "output_type": "execute_result"
    }
   ],
   "source": [
    "df6.groupby('a')"
   ]
  },
  {
   "cell_type": "code",
   "execution_count": 174,
   "id": "0bb03422",
   "metadata": {
    "ExecuteTime": {
     "end_time": "2021-05-25T06:56:05.981222Z",
     "start_time": "2021-05-25T06:56:05.967037Z"
    }
   },
   "outputs": [
    {
     "data": {
      "text/plain": [
       "a\n",
       "bar    40\n",
       "foo    30\n",
       "Name: c, dtype: int64"
      ]
     },
     "execution_count": 174,
     "metadata": {},
     "output_type": "execute_result"
    }
   ],
   "source": [
    "df6.groupby('a')['c'].mean()"
   ]
  },
  {
   "cell_type": "code",
   "execution_count": 175,
   "id": "846f94cf",
   "metadata": {
    "ExecuteTime": {
     "end_time": "2021-05-25T06:58:28.571379Z",
     "start_time": "2021-05-25T06:58:28.551843Z"
    }
   },
   "outputs": [
    {
     "data": {
      "text/plain": [
       "a    b      \n",
       "bar  alpha      20\n",
       "     bravo      40\n",
       "     charlie    60\n",
       "foo  alpha      10\n",
       "     bravo      30\n",
       "     charlie    50\n",
       "Name: c, dtype: int64"
      ]
     },
     "execution_count": 175,
     "metadata": {},
     "output_type": "execute_result"
    }
   ],
   "source": [
    "df6.groupby(['a', 'b'])['c'].mean()"
   ]
  },
  {
   "cell_type": "code",
   "execution_count": 176,
   "id": "3e9346ea",
   "metadata": {
    "ExecuteTime": {
     "end_time": "2021-05-25T06:59:24.806366Z",
     "start_time": "2021-05-25T06:59:24.792568Z"
    }
   },
   "outputs": [
    {
     "data": {
      "text/plain": [
       "a\n",
       "bar    40\n",
       "foo    30\n",
       "Name: c, dtype: int64"
      ]
     },
     "execution_count": 176,
     "metadata": {},
     "output_type": "execute_result"
    }
   ],
   "source": [
    "df6.groupby(df6['a'])['c'].mean()"
   ]
  },
  {
   "cell_type": "code",
   "execution_count": 178,
   "id": "c9a9123e",
   "metadata": {
    "ExecuteTime": {
     "end_time": "2021-05-25T07:01:22.823101Z",
     "start_time": "2021-05-25T07:01:22.809310Z"
    }
   },
   "outputs": [
    {
     "data": {
      "text/plain": [
       "X    15\n",
       "Y    35\n",
       "Z    55\n",
       "Name: c, dtype: int64"
      ]
     },
     "execution_count": 178,
     "metadata": {},
     "output_type": "execute_result"
    }
   ],
   "source": [
    "df6.groupby(['X', 'X', 'Y', 'Y', 'Z', 'Z'])['c'].mean()"
   ]
  },
  {
   "cell_type": "code",
   "execution_count": 181,
   "id": "ef8e50df",
   "metadata": {
    "ExecuteTime": {
     "end_time": "2021-05-25T07:08:03.071981Z",
     "start_time": "2021-05-25T07:08:03.059892Z"
    }
   },
   "outputs": [
    {
     "data": {
      "text/plain": [
       "A     True\n",
       "B     True\n",
       "C    False\n",
       "D    False\n",
       "E    False\n",
       "F    False\n",
       "Name: b, dtype: bool"
      ]
     },
     "execution_count": 181,
     "metadata": {},
     "output_type": "execute_result"
    }
   ],
   "source": [
    "df6['b'].str[0] == 'a'"
   ]
  },
  {
   "cell_type": "code",
   "execution_count": 180,
   "id": "a2c6734b",
   "metadata": {
    "ExecuteTime": {
     "end_time": "2021-05-25T07:06:42.038280Z",
     "start_time": "2021-05-25T07:06:42.023130Z"
    }
   },
   "outputs": [
    {
     "data": {
      "text/plain": [
       "b\n",
       "False    45\n",
       "True     15\n",
       "Name: c, dtype: int64"
      ]
     },
     "execution_count": 180,
     "metadata": {},
     "output_type": "execute_result"
    }
   ],
   "source": [
    "df6.groupby(df6['b'].str[0] == 'a')['c'].mean()"
   ]
  },
  {
   "cell_type": "code",
   "execution_count": 182,
   "id": "8265f636",
   "metadata": {
    "ExecuteTime": {
     "end_time": "2021-05-25T07:10:30.400630Z",
     "start_time": "2021-05-25T07:10:30.395741Z"
    }
   },
   "outputs": [],
   "source": [
    "def is_vowel(label):\n",
    "    return label in 'AEIOU'"
   ]
  },
  {
   "cell_type": "code",
   "execution_count": 183,
   "id": "b20f0197",
   "metadata": {
    "ExecuteTime": {
     "end_time": "2021-05-25T07:11:01.327256Z",
     "start_time": "2021-05-25T07:11:01.312197Z"
    }
   },
   "outputs": [
    {
     "data": {
      "text/plain": [
       "False    37.5\n",
       "True     30.0\n",
       "Name: c, dtype: float64"
      ]
     },
     "execution_count": 183,
     "metadata": {},
     "output_type": "execute_result"
    }
   ],
   "source": [
    "df6.groupby(is_vowel)['c'].mean()"
   ]
  },
  {
   "cell_type": "code",
   "execution_count": 189,
   "id": "59cba454",
   "metadata": {
    "ExecuteTime": {
     "end_time": "2021-05-25T07:17:43.281332Z",
     "start_time": "2021-05-25T07:17:43.266744Z"
    }
   },
   "outputs": [
    {
     "data": {
      "text/plain": [
       "False    37.5\n",
       "True     30.0\n",
       "Name: c, dtype: float64"
      ]
     },
     "execution_count": 189,
     "metadata": {},
     "output_type": "execute_result"
    }
   ],
   "source": [
    "df6.groupby(is_vowel)['c'].mean()"
   ]
  },
  {
   "cell_type": "code",
   "execution_count": 190,
   "id": "0c0ef5d2",
   "metadata": {
    "ExecuteTime": {
     "end_time": "2021-05-25T07:17:52.350243Z",
     "start_time": "2021-05-25T07:17:52.329255Z"
    }
   },
   "outputs": [
    {
     "data": {
      "text/html": [
       "<div>\n",
       "<style scoped>\n",
       "    .dataframe tbody tr th:only-of-type {\n",
       "        vertical-align: middle;\n",
       "    }\n",
       "\n",
       "    .dataframe tbody tr th {\n",
       "        vertical-align: top;\n",
       "    }\n",
       "\n",
       "    .dataframe thead th {\n",
       "        text-align: right;\n",
       "    }\n",
       "</style>\n",
       "<table border=\"1\" class=\"dataframe\">\n",
       "  <thead>\n",
       "    <tr style=\"text-align: right;\">\n",
       "      <th></th>\n",
       "      <th>c</th>\n",
       "      <th>d</th>\n",
       "    </tr>\n",
       "  </thead>\n",
       "  <tbody>\n",
       "    <tr>\n",
       "      <th>False</th>\n",
       "      <td>37.5</td>\n",
       "      <td>0.635058</td>\n",
       "    </tr>\n",
       "    <tr>\n",
       "      <th>True</th>\n",
       "      <td>30.0</td>\n",
       "      <td>0.633935</td>\n",
       "    </tr>\n",
       "  </tbody>\n",
       "</table>\n",
       "</div>"
      ],
      "text/plain": [
       "          c         d\n",
       "False  37.5  0.635058\n",
       "True   30.0  0.633935"
      ]
     },
     "execution_count": 190,
     "metadata": {},
     "output_type": "execute_result"
    }
   ],
   "source": [
    "df6.groupby(is_vowel).mean()"
   ]
  },
  {
   "cell_type": "code",
   "execution_count": 191,
   "id": "2709bb5d",
   "metadata": {
    "ExecuteTime": {
     "end_time": "2021-05-25T07:18:48.472170Z",
     "start_time": "2021-05-25T07:18:48.460760Z"
    }
   },
   "outputs": [
    {
     "data": {
      "text/plain": [
       "False    4\n",
       "True     2\n",
       "dtype: int64"
      ]
     },
     "execution_count": 191,
     "metadata": {},
     "output_type": "execute_result"
    }
   ],
   "source": [
    "df6.groupby(is_vowel).size()"
   ]
  },
  {
   "cell_type": "code",
   "execution_count": 193,
   "id": "70c4aed2",
   "metadata": {
    "ExecuteTime": {
     "end_time": "2021-05-25T07:20:34.479332Z",
     "start_time": "2021-05-25T07:20:34.450868Z"
    }
   },
   "outputs": [
    {
     "data": {
      "text/html": [
       "<div>\n",
       "<style scoped>\n",
       "    .dataframe tbody tr th:only-of-type {\n",
       "        vertical-align: middle;\n",
       "    }\n",
       "\n",
       "    .dataframe tbody tr th {\n",
       "        vertical-align: top;\n",
       "    }\n",
       "\n",
       "    .dataframe thead th {\n",
       "        text-align: right;\n",
       "    }\n",
       "</style>\n",
       "<table border=\"1\" class=\"dataframe\">\n",
       "  <thead>\n",
       "    <tr style=\"text-align: right;\">\n",
       "      <th></th>\n",
       "      <th>c</th>\n",
       "      <th>d</th>\n",
       "    </tr>\n",
       "  </thead>\n",
       "  <tbody>\n",
       "    <tr>\n",
       "      <th>False</th>\n",
       "      <td>150</td>\n",
       "      <td>0.635058</td>\n",
       "    </tr>\n",
       "    <tr>\n",
       "      <th>True</th>\n",
       "      <td>60</td>\n",
       "      <td>0.633935</td>\n",
       "    </tr>\n",
       "  </tbody>\n",
       "</table>\n",
       "</div>"
      ],
      "text/plain": [
       "         c         d\n",
       "False  150  0.635058\n",
       "True    60  0.633935"
      ]
     },
     "execution_count": 193,
     "metadata": {},
     "output_type": "execute_result"
    }
   ],
   "source": [
    "df6.groupby(is_vowel).agg({'c': sum, 'd': np.mean})"
   ]
  },
  {
   "cell_type": "code",
   "execution_count": 195,
   "id": "c8f60ea2",
   "metadata": {
    "ExecuteTime": {
     "end_time": "2021-05-25T07:22:14.227255Z",
     "start_time": "2021-05-25T07:22:14.211259Z"
    }
   },
   "outputs": [
    {
     "data": {
      "text/plain": [
       "False    [20, 30, 40, 60]\n",
       "True             [10, 50]\n",
       "Name: c, dtype: object"
      ]
     },
     "execution_count": 195,
     "metadata": {},
     "output_type": "execute_result"
    }
   ],
   "source": [
    "df6.groupby(is_vowel)['c'].apply(list)"
   ]
  },
  {
   "cell_type": "code",
   "execution_count": 199,
   "id": "24480820",
   "metadata": {
    "ExecuteTime": {
     "end_time": "2021-05-25T07:25:29.567365Z",
     "start_time": "2021-05-25T07:25:28.569225Z"
    }
   },
   "outputs": [],
   "source": [
    "df_amazon = pd.read_csv('/mnt/data/public/amazon-reviews/'\n",
    "                        'amazon_reviews_us_Gift_Card_v1_00.tsv.gz', \n",
    "                        delimiter='\\t', compression='gzip')"
   ]
  },
  {
   "cell_type": "code",
   "execution_count": 201,
   "id": "65e4a586",
   "metadata": {
    "ExecuteTime": {
     "end_time": "2021-05-25T07:25:58.801349Z",
     "start_time": "2021-05-25T07:25:58.793492Z"
    }
   },
   "outputs": [
    {
     "data": {
      "text/plain": [
       "148310"
      ]
     },
     "execution_count": 201,
     "metadata": {},
     "output_type": "execute_result"
    }
   ],
   "source": [
    "len(df_amazon)"
   ]
  },
  {
   "cell_type": "code",
   "execution_count": 202,
   "id": "6c4a8801",
   "metadata": {
    "ExecuteTime": {
     "end_time": "2021-05-25T07:26:25.508582Z",
     "start_time": "2021-05-25T07:26:25.473871Z"
    }
   },
   "outputs": [
    {
     "data": {
      "text/plain": [
       "US    148310\n",
       "Name: marketplace, dtype: int64"
      ]
     },
     "execution_count": 202,
     "metadata": {},
     "output_type": "execute_result"
    }
   ],
   "source": [
    "df_amazon['marketplace'].value_counts()"
   ]
  },
  {
   "cell_type": "code",
   "execution_count": 203,
   "id": "1cf58fd1",
   "metadata": {
    "ExecuteTime": {
     "end_time": "2021-05-25T07:26:45.689641Z",
     "start_time": "2021-05-25T07:26:45.659547Z"
    }
   },
   "outputs": [
    {
     "data": {
      "text/plain": [
       "9374792     7\n",
       "52166758    6\n",
       "30058414    6\n",
       "15374693    5\n",
       "41920477    5\n",
       "           ..\n",
       "25871219    1\n",
       "16438129    1\n",
       "47373168    1\n",
       "43656047    1\n",
       "37226495    1\n",
       "Name: customer_id, Length: 142467, dtype: int64"
      ]
     },
     "execution_count": 203,
     "metadata": {},
     "output_type": "execute_result"
    }
   ],
   "source": [
    "df_amazon.customer_id.value_counts()"
   ]
  },
  {
   "cell_type": "code",
   "execution_count": 204,
   "id": "d267273f",
   "metadata": {
    "ExecuteTime": {
     "end_time": "2021-05-25T07:27:18.382063Z",
     "start_time": "2021-05-25T07:27:18.313333Z"
    }
   },
   "outputs": [
    {
     "data": {
      "text/plain": [
       "customer_id\n",
       "10637       5.0\n",
       "10776       5.0\n",
       "11052       5.0\n",
       "11106       5.0\n",
       "11136       4.0\n",
       "           ... \n",
       "53095685    5.0\n",
       "53096191    5.0\n",
       "53096241    5.0\n",
       "53096363    5.0\n",
       "53096482    3.0\n",
       "Name: star_rating, Length: 142467, dtype: float64"
      ]
     },
     "execution_count": 204,
     "metadata": {},
     "output_type": "execute_result"
    }
   ],
   "source": [
    "df_amazon.groupby('customer_id')['star_rating'].mean()"
   ]
  },
  {
   "cell_type": "code",
   "execution_count": 205,
   "id": "de9690d9",
   "metadata": {
    "ExecuteTime": {
     "end_time": "2021-05-25T07:27:55.408312Z",
     "start_time": "2021-05-25T07:27:55.337617Z"
    }
   },
   "outputs": [
    {
     "data": {
      "text/plain": [
       "customer_id\n",
       "10637    5.0\n",
       "10776    5.0\n",
       "11052    5.0\n",
       "11106    5.0\n",
       "11219    5.0\n",
       "11534    5.0\n",
       "11832    5.0\n",
       "11907    5.0\n",
       "12320    5.0\n",
       "13967    5.0\n",
       "Name: star_rating, dtype: float64"
      ]
     },
     "execution_count": 205,
     "metadata": {},
     "output_type": "execute_result"
    }
   ],
   "source": [
    "df_amazon.groupby('customer_id')['star_rating'].mean().nlargest(10)"
   ]
  },
  {
   "cell_type": "code",
   "execution_count": 206,
   "id": "fc074cd6",
   "metadata": {
    "ExecuteTime": {
     "end_time": "2021-05-25T07:29:05.119238Z",
     "start_time": "2021-05-25T07:29:05.066447Z"
    }
   },
   "outputs": [
    {
     "data": {
      "text/html": [
       "<div>\n",
       "<style scoped>\n",
       "    .dataframe tbody tr th:only-of-type {\n",
       "        vertical-align: middle;\n",
       "    }\n",
       "\n",
       "    .dataframe tbody tr th {\n",
       "        vertical-align: top;\n",
       "    }\n",
       "\n",
       "    .dataframe thead th {\n",
       "        text-align: right;\n",
       "    }\n",
       "</style>\n",
       "<table border=\"1\" class=\"dataframe\">\n",
       "  <thead>\n",
       "    <tr style=\"text-align: right;\">\n",
       "      <th></th>\n",
       "      <th>customer_id</th>\n",
       "      <th>product_parent</th>\n",
       "      <th>star_rating</th>\n",
       "      <th>helpful_votes</th>\n",
       "      <th>total_votes</th>\n",
       "    </tr>\n",
       "  </thead>\n",
       "  <tbody>\n",
       "    <tr>\n",
       "      <th>count</th>\n",
       "      <td>1.483100e+05</td>\n",
       "      <td>1.483100e+05</td>\n",
       "      <td>148310.000000</td>\n",
       "      <td>148310.000000</td>\n",
       "      <td>148310.000000</td>\n",
       "    </tr>\n",
       "    <tr>\n",
       "      <th>mean</th>\n",
       "      <td>2.628931e+07</td>\n",
       "      <td>5.406163e+08</td>\n",
       "      <td>4.731333</td>\n",
       "      <td>0.397424</td>\n",
       "      <td>0.490493</td>\n",
       "    </tr>\n",
       "    <tr>\n",
       "      <th>std</th>\n",
       "      <td>1.587236e+07</td>\n",
       "      <td>2.661563e+08</td>\n",
       "      <td>0.829255</td>\n",
       "      <td>20.701385</td>\n",
       "      <td>22.823494</td>\n",
       "    </tr>\n",
       "    <tr>\n",
       "      <th>min</th>\n",
       "      <td>1.063700e+04</td>\n",
       "      <td>1.100879e+06</td>\n",
       "      <td>1.000000</td>\n",
       "      <td>0.000000</td>\n",
       "      <td>0.000000</td>\n",
       "    </tr>\n",
       "    <tr>\n",
       "      <th>25%</th>\n",
       "      <td>1.289732e+07</td>\n",
       "      <td>3.612555e+08</td>\n",
       "      <td>5.000000</td>\n",
       "      <td>0.000000</td>\n",
       "      <td>0.000000</td>\n",
       "    </tr>\n",
       "    <tr>\n",
       "      <th>50%</th>\n",
       "      <td>2.499530e+07</td>\n",
       "      <td>4.730483e+08</td>\n",
       "      <td>5.000000</td>\n",
       "      <td>0.000000</td>\n",
       "      <td>0.000000</td>\n",
       "    </tr>\n",
       "    <tr>\n",
       "      <th>75%</th>\n",
       "      <td>4.139731e+07</td>\n",
       "      <td>7.754865e+08</td>\n",
       "      <td>5.000000</td>\n",
       "      <td>0.000000</td>\n",
       "      <td>0.000000</td>\n",
       "    </tr>\n",
       "    <tr>\n",
       "      <th>max</th>\n",
       "      <td>5.309648e+07</td>\n",
       "      <td>9.992742e+08</td>\n",
       "      <td>5.000000</td>\n",
       "      <td>5987.000000</td>\n",
       "      <td>6323.000000</td>\n",
       "    </tr>\n",
       "  </tbody>\n",
       "</table>\n",
       "</div>"
      ],
      "text/plain": [
       "        customer_id  product_parent    star_rating  helpful_votes  \\\n",
       "count  1.483100e+05    1.483100e+05  148310.000000  148310.000000   \n",
       "mean   2.628931e+07    5.406163e+08       4.731333       0.397424   \n",
       "std    1.587236e+07    2.661563e+08       0.829255      20.701385   \n",
       "min    1.063700e+04    1.100879e+06       1.000000       0.000000   \n",
       "25%    1.289732e+07    3.612555e+08       5.000000       0.000000   \n",
       "50%    2.499530e+07    4.730483e+08       5.000000       0.000000   \n",
       "75%    4.139731e+07    7.754865e+08       5.000000       0.000000   \n",
       "max    5.309648e+07    9.992742e+08       5.000000    5987.000000   \n",
       "\n",
       "         total_votes  \n",
       "count  148310.000000  \n",
       "mean        0.490493  \n",
       "std        22.823494  \n",
       "min         0.000000  \n",
       "25%         0.000000  \n",
       "50%         0.000000  \n",
       "75%         0.000000  \n",
       "max      6323.000000  "
      ]
     },
     "execution_count": 206,
     "metadata": {},
     "output_type": "execute_result"
    }
   ],
   "source": [
    "df_amazon.describe()"
   ]
  },
  {
   "cell_type": "code",
   "execution_count": 207,
   "id": "1e014778",
   "metadata": {
    "ExecuteTime": {
     "end_time": "2021-05-25T07:29:54.739181Z",
     "start_time": "2021-05-25T07:29:54.701339Z"
    }
   },
   "outputs": [
    {
     "data": {
      "text/plain": [
       "Gift Card    148310\n",
       "Name: product_category, dtype: int64"
      ]
     },
     "execution_count": 207,
     "metadata": {},
     "output_type": "execute_result"
    }
   ],
   "source": [
    "df_amazon.product_category.value_counts()"
   ]
  },
  {
   "cell_type": "code",
   "execution_count": 208,
   "id": "e4ca4f80",
   "metadata": {
    "ExecuteTime": {
     "end_time": "2021-05-25T07:30:38.941324Z",
     "start_time": "2021-05-25T07:30:38.881882Z"
    }
   },
   "outputs": [
    {
     "data": {
      "text/plain": [
       "1193"
      ]
     },
     "execution_count": 208,
     "metadata": {},
     "output_type": "execute_result"
    }
   ],
   "source": [
    "df_amazon.product_title.nunique()"
   ]
  },
  {
   "cell_type": "code",
   "execution_count": 212,
   "id": "a20dfaa1",
   "metadata": {
    "ExecuteTime": {
     "end_time": "2021-05-25T07:32:13.275138Z",
     "start_time": "2021-05-25T07:32:13.230705Z"
    }
   },
   "outputs": [
    {
     "data": {
      "text/plain": [
       "product_title\n",
       "Graduation Name Cards for Invitations and Announcements-Blank-Printable Card Stock              5.0\n",
       "Amazon Gift Card - Print - 21st Birthday (Beer)                                                 5.0\n",
       "Amazon Gift Card - Facebook - Your Standing O (Animated) [American Greetings]                   5.0\n",
       "Amazon eGift Card - Feliz Dia del Padre (Argyle)                                                5.0\n",
       "Amazon Gift Card - Facebook - You Are Special to Me Birthday (Animated) [American Greetings]    5.0\n",
       "                                                                                               ... \n",
       "Amazon Gift Card - Facebook - Special Thanks (Animated) [American Greetings]                    1.0\n",
       "Amazon Gift Card - Print - Amazon Denim Shop                                                    1.0\n",
       "Amazon Gift Card - Email - Nurse's Day (Medical Websites) [Someecards]                          1.0\n",
       "Amazon Gift Card - Facebook - An Ode to Mothers (Animated) [American Greetings]                 1.0\n",
       "Amazon Gift Card - Facebook - I'm Sorry                                                         1.0\n",
       "Name: star_rating, Length: 1193, dtype: float64"
      ]
     },
     "execution_count": 212,
     "metadata": {},
     "output_type": "execute_result"
    }
   ],
   "source": [
    "(df_amazon\n",
    " .groupby('product_title')['star_rating']\n",
    " .mean()\n",
    " .sort_values(ascending=False))"
   ]
  },
  {
   "cell_type": "code",
   "execution_count": 220,
   "id": "3b3a34b1",
   "metadata": {
    "ExecuteTime": {
     "end_time": "2021-05-25T07:37:10.134395Z",
     "start_time": "2021-05-25T07:37:09.931009Z"
    }
   },
   "outputs": [
    {
     "data": {
      "text/plain": [
       "review_body\n",
       "False    4.733036\n",
       "True     3.078431\n",
       "Name: star_rating, dtype: float64"
      ]
     },
     "execution_count": 220,
     "metadata": {},
     "output_type": "execute_result"
    }
   ],
   "source": [
    "(df_amazon\n",
    " .groupby(df_amazon['review_body']\n",
    "          .str.lower()\n",
    "          .str.contains('sorry'))['star_rating']\n",
    " .mean())"
   ]
  },
  {
   "cell_type": "code",
   "execution_count": 233,
   "id": "9b2698ad",
   "metadata": {
    "ExecuteTime": {
     "end_time": "2021-05-25T07:59:04.541902Z",
     "start_time": "2021-05-25T07:59:04.527487Z"
    }
   },
   "outputs": [
    {
     "data": {
      "text/plain": [
       "A    30\n",
       "B    40\n",
       "C    30\n",
       "D    40\n",
       "E    30\n",
       "F    40\n",
       "Name: c, dtype: int64"
      ]
     },
     "execution_count": 233,
     "metadata": {},
     "output_type": "execute_result"
    }
   ],
   "source": [
    "df6.groupby('a')['c'].transform(np.mean)"
   ]
  },
  {
   "cell_type": "code",
   "execution_count": 234,
   "id": "3c78d966",
   "metadata": {
    "ExecuteTime": {
     "end_time": "2021-05-25T08:00:37.439741Z",
     "start_time": "2021-05-25T08:00:37.422951Z"
    }
   },
   "outputs": [],
   "source": [
    "df6['zscore'] = df6.groupby('a')['c'].transform(lambda x: (x - x.mean()) / x.std())"
   ]
  },
  {
   "cell_type": "code",
   "execution_count": null,
   "id": "4073e1b6",
   "metadata": {},
   "outputs": [],
   "source": [
    "df6['zscore'].map"
   ]
  },
  {
   "cell_type": "code",
   "execution_count": 232,
   "id": "aaa17d42",
   "metadata": {
    "ExecuteTime": {
     "end_time": "2021-05-25T07:58:53.625774Z",
     "start_time": "2021-05-25T07:58:53.611410Z"
    }
   },
   "outputs": [
    {
     "data": {
      "text/plain": [
       "a\n",
       "bar    40.0\n",
       "foo    30.0\n",
       "Name: c, dtype: float64"
      ]
     },
     "execution_count": 232,
     "metadata": {},
     "output_type": "execute_result"
    }
   ],
   "source": [
    "df6.groupby('a')['c'].apply(np.mean)"
   ]
  },
  {
   "cell_type": "code",
   "execution_count": null,
   "id": "f3b6d94b",
   "metadata": {},
   "outputs": [],
   "source": []
  }
 ],
 "metadata": {
  "kernelspec": {
   "display_name": "Python 3",
   "language": "python",
   "name": "python3"
  },
  "language_info": {
   "codemirror_mode": {
    "name": "ipython",
    "version": 3
   },
   "file_extension": ".py",
   "mimetype": "text/x-python",
   "name": "python",
   "nbconvert_exporter": "python",
   "pygments_lexer": "ipython3",
   "version": "3.7.7"
  }
 },
 "nbformat": 4,
 "nbformat_minor": 5
}
