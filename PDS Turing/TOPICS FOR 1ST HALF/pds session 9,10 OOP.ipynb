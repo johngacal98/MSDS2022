{
 "cells": [
  {
   "cell_type": "code",
   "execution_count": 15,
   "id": "affiliated-african",
   "metadata": {},
   "outputs": [],
   "source": [
    "class MotorBoat(): #camel case\n",
    "    \"\"\" A class representing a motor boat\n",
    "    \"\"\"\n",
    "    def __init__(self): #initialize speed at 0\n",
    "        self.speed = 0\n",
    "        \n",
    "    def change_speed(self, speed):\n",
    "        \"\"\"Set motorboat speed to speed\"\"\"\n",
    "        self.speed = speed\n",
    "    \n",
    "    def show_speed(self):\n",
    "        print(self.speed)\n",
    "        \n",
    "    def _change_gear(self, gear=0):\n",
    "        self._gear = gear "
   ]
  },
  {
   "cell_type": "code",
   "execution_count": 16,
   "id": "premier-algeria",
   "metadata": {},
   "outputs": [],
   "source": [
    "mb = MotorBoat()"
   ]
  },
  {
   "cell_type": "code",
   "execution_count": 17,
   "id": "experimental-commercial",
   "metadata": {},
   "outputs": [
    {
     "data": {
      "text/plain": [
       "0"
      ]
     },
     "execution_count": 17,
     "metadata": {},
     "output_type": "execute_result"
    }
   ],
   "source": [
    "mb.speed"
   ]
  },
  {
   "cell_type": "code",
   "execution_count": 18,
   "id": "retired-doctor",
   "metadata": {
    "scrolled": true
   },
   "outputs": [
    {
     "data": {
      "text/plain": [
       "10"
      ]
     },
     "execution_count": 18,
     "metadata": {},
     "output_type": "execute_result"
    }
   ],
   "source": [
    "mb.change_speed(10)\n",
    "mb.speed"
   ]
  },
  {
   "cell_type": "code",
   "execution_count": 19,
   "id": "serial-smooth",
   "metadata": {},
   "outputs": [
    {
     "name": "stdout",
     "output_type": "stream",
     "text": [
      "10\n"
     ]
    }
   ],
   "source": [
    "mb.show_speed()"
   ]
  },
  {
   "cell_type": "code",
   "execution_count": 20,
   "id": "owned-norway",
   "metadata": {},
   "outputs": [],
   "source": [
    "mb.speed = 20"
   ]
  },
  {
   "cell_type": "code",
   "execution_count": 21,
   "id": "respective-hayes",
   "metadata": {},
   "outputs": [
    {
     "name": "stdout",
     "output_type": "stream",
     "text": [
      "20\n"
     ]
    }
   ],
   "source": [
    "mb.show_speed()"
   ]
  },
  {
   "cell_type": "code",
   "execution_count": 37,
   "id": "nervous-digest",
   "metadata": {},
   "outputs": [],
   "source": [
    "#descendant of motorboat \n",
    "#motorboat = parent/superclass\n",
    "class SpeedBoat(MotorBoat):\n",
    "    \n",
    "    def set_direction(self, direction):\n",
    "        self.direction = direction\n",
    "        \n",
    "    def change_speed(self, speed):\n",
    "        #super() calls the parent  \n",
    "        super(SpeedBoat, self).change_speed(speed)\n",
    "#         self.speed = speed*100\n",
    "        \n",
    "spb = SpeedBoat()"
   ]
  },
  {
   "cell_type": "code",
   "execution_count": 33,
   "id": "dirty-september",
   "metadata": {},
   "outputs": [],
   "source": []
  },
  {
   "cell_type": "code",
   "execution_count": 34,
   "id": "conservative-enlargement",
   "metadata": {},
   "outputs": [
    {
     "name": "stdout",
     "output_type": "stream",
     "text": [
      "100\n"
     ]
    }
   ],
   "source": [
    "spb.change_speed(100)\n",
    "spb.show_speed()"
   ]
  },
  {
   "cell_type": "code",
   "execution_count": 35,
   "id": "artistic-regard",
   "metadata": {},
   "outputs": [
    {
     "data": {
      "text/plain": [
       "'north'"
      ]
     },
     "execution_count": 35,
     "metadata": {},
     "output_type": "execute_result"
    }
   ],
   "source": [
    "spb.set_direction('north')\n",
    "spb.direction"
   ]
  },
  {
   "cell_type": "code",
   "execution_count": 39,
   "id": "exotic-harrison",
   "metadata": {},
   "outputs": [
    {
     "data": {
      "text/plain": [
       "200"
      ]
     },
     "execution_count": 39,
     "metadata": {},
     "output_type": "execute_result"
    }
   ],
   "source": [
    "spb.change_speed(200)\n"
   ]
  },
  {
   "cell_type": "code",
   "execution_count": 40,
   "id": "champion-injury",
   "metadata": {},
   "outputs": [],
   "source": [
    "class JetSki(SpeedBoat):\n",
    "    def change_speed(self, speed):\n",
    "        self.speed = speed * 1000\n",
    "js = JetSki()"
   ]
  },
  {
   "cell_type": "code",
   "execution_count": 42,
   "id": "utility-thickness",
   "metadata": {},
   "outputs": [
    {
     "name": "stdout",
     "output_type": "stream",
     "text": [
      "2000\n"
     ]
    }
   ],
   "source": [
    "js.change_speed(2)\n",
    "js.show_speed() #show_speed method of motorboat since speedboat does not have"
   ]
  },
  {
   "cell_type": "code",
   "execution_count": 44,
   "id": "compact-respect",
   "metadata": {},
   "outputs": [
    {
     "ename": "NameError",
     "evalue": "name 'hello' is not defined",
     "output_type": "error",
     "traceback": [
      "\u001b[0;31m---------------------------------------------------------------------------\u001b[0m",
      "\u001b[0;31mNameError\u001b[0m                                 Traceback (most recent call last)",
      "\u001b[0;32m<ipython-input-44-e3d7138f9a74>\u001b[0m in \u001b[0;36m<module>\u001b[0;34m\u001b[0m\n\u001b[1;32m      1\u001b[0m \u001b[0md\u001b[0m\u001b[0;34m=\u001b[0m\u001b[0;34m{\u001b[0m\u001b[0;34m}\u001b[0m\u001b[0;34m\u001b[0m\u001b[0;34m\u001b[0m\u001b[0m\n\u001b[0;32m----> 2\u001b[0;31m \u001b[0mhello\u001b[0m\u001b[0;34m\u001b[0m\u001b[0;34m\u001b[0m\u001b[0m\n\u001b[0m",
      "\u001b[0;31mNameError\u001b[0m: name 'hello' is not defined"
     ]
    }
   ],
   "source": [
    "d={}\n",
    "hello"
   ]
  },
  {
   "cell_type": "code",
   "execution_count": 49,
   "id": "matched-madrid",
   "metadata": {},
   "outputs": [
    {
     "name": "stdout",
     "output_type": "stream",
     "text": [
      "no exception encountered\n",
      "this is always executed\n"
     ]
    }
   ],
   "source": [
    "try:\n",
    "#     hello\n",
    "#     d['foo']\n",
    "    1+1\n",
    "    \n",
    "except (NameError, KeyError) as e:\n",
    "    print('a name error or key not found error was encountered')\n",
    "    print(e)\n",
    "    \n",
    "else:\n",
    "    print('no exception encountered')\n",
    "    \n",
    "finally: #run regardless if error is encountered or not\n",
    "    print('this is always executed')"
   ]
  },
  {
   "cell_type": "code",
   "execution_count": 51,
   "id": "answering-figure",
   "metadata": {},
   "outputs": [],
   "source": [
    "#raising an error\n",
    "\n",
    "def add_positives(a,b):\n",
    "    if a <= 0:\n",
    "        raise ValueError('a is not positive')\n",
    "    if b <= 0:\n",
    "        raise ValueError('b is not positive')\n",
    "    return a + b"
   ]
  },
  {
   "cell_type": "code",
   "execution_count": 55,
   "id": "recent-antigua",
   "metadata": {},
   "outputs": [
    {
     "name": "stdout",
     "output_type": "stream",
     "text": [
      "b is not positive\n"
     ]
    }
   ],
   "source": [
    "try:\n",
    "    add_positives(1,0)\n",
    "except ValueError as e:\n",
    "    print(e)\n",
    "#     print('one or both of arguments is/are not positive')"
   ]
  },
  {
   "cell_type": "code",
   "execution_count": null,
   "id": "whole-wealth",
   "metadata": {},
   "outputs": [],
   "source": [
    "#creating error class\n",
    "class AdditionError(Exception):\n",
    "    pass\n",
    "    "
   ]
  },
  {
   "cell_type": "code",
   "execution_count": 68,
   "id": "affected-quarter",
   "metadata": {},
   "outputs": [],
   "source": [
    "f = open('samp.txt', 'w')"
   ]
  },
  {
   "cell_type": "code",
   "execution_count": 69,
   "id": "sacred-latest",
   "metadata": {},
   "outputs": [
    {
     "ename": "UnsupportedOperation",
     "evalue": "not readable",
     "output_type": "error",
     "traceback": [
      "\u001b[0;31m---------------------------------------------------------------------------\u001b[0m",
      "\u001b[0;31mUnsupportedOperation\u001b[0m                      Traceback (most recent call last)",
      "\u001b[0;32m<ipython-input-69-571e9fb02258>\u001b[0m in \u001b[0;36m<module>\u001b[0;34m\u001b[0m\n\u001b[0;32m----> 1\u001b[0;31m \u001b[0mf\u001b[0m\u001b[0;34m.\u001b[0m\u001b[0mread\u001b[0m\u001b[0;34m(\u001b[0m\u001b[0;34m)\u001b[0m\u001b[0;34m\u001b[0m\u001b[0;34m\u001b[0m\u001b[0m\n\u001b[0m",
      "\u001b[0;31mUnsupportedOperation\u001b[0m: not readable"
     ]
    }
   ],
   "source": [
    "f.read()"
   ]
  },
  {
   "cell_type": "code",
   "execution_count": 70,
   "id": "psychological-characterization",
   "metadata": {},
   "outputs": [
    {
     "data": {
      "text/plain": [
       "5"
      ]
     },
     "execution_count": 70,
     "metadata": {},
     "output_type": "execute_result"
    }
   ],
   "source": [
    "f.write('hello')"
   ]
  },
  {
   "cell_type": "code",
   "execution_count": 76,
   "id": "unlike-tiger",
   "metadata": {},
   "outputs": [],
   "source": [
    "f.flush()"
   ]
  },
  {
   "cell_type": "code",
   "execution_count": 77,
   "id": "normal-adapter",
   "metadata": {},
   "outputs": [],
   "source": [
    "f.writelines(['foo','bar'])"
   ]
  },
  {
   "cell_type": "code",
   "execution_count": 78,
   "id": "together-daisy",
   "metadata": {},
   "outputs": [],
   "source": [
    "f.flush()"
   ]
  },
  {
   "cell_type": "code",
   "execution_count": 79,
   "id": "stylish-acrylic",
   "metadata": {},
   "outputs": [
    {
     "data": {
      "text/plain": [
       "11"
      ]
     },
     "execution_count": 79,
     "metadata": {},
     "output_type": "execute_result"
    }
   ],
   "source": [
    "f.write('hello\\nworld')"
   ]
  },
  {
   "cell_type": "code",
   "execution_count": 80,
   "id": "weighted-emerald",
   "metadata": {},
   "outputs": [],
   "source": [
    "f.flush()"
   ]
  },
  {
   "cell_type": "code",
   "execution_count": 81,
   "id": "medium-baghdad",
   "metadata": {},
   "outputs": [],
   "source": [
    "f.close()"
   ]
  },
  {
   "cell_type": "code",
   "execution_count": 82,
   "id": "white-chart",
   "metadata": {},
   "outputs": [
    {
     "name": "stdout",
     "output_type": "stream",
     "text": [
      "hellofoobarhello\n",
      "\n",
      "world\n"
     ]
    }
   ],
   "source": [
    "with open('samp.txt') as f:\n",
    "    for line in f:\n",
    "        print(line)"
   ]
  },
  {
   "cell_type": "code",
   "execution_count": 83,
   "id": "composite-reproduction",
   "metadata": {},
   "outputs": [],
   "source": [
    "with open('samp.txt', 'a') as f:\n",
    "    f.write('appended line')"
   ]
  }
 ],
 "metadata": {
  "kernelspec": {
   "display_name": "Python 3",
   "language": "python",
   "name": "python3"
  },
  "language_info": {
   "codemirror_mode": {
    "name": "ipython",
    "version": 3
   },
   "file_extension": ".py",
   "mimetype": "text/x-python",
   "name": "python",
   "nbconvert_exporter": "python",
   "pygments_lexer": "ipython3",
   "version": "3.8.8"
  }
 },
 "nbformat": 4,
 "nbformat_minor": 5
}
