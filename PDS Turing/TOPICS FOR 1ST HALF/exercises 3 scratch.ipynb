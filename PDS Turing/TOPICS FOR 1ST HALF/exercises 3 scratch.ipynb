{
 "cells": [
  {
   "cell_type": "code",
   "execution_count": 18,
   "metadata": {},
   "outputs": [
    {
     "name": "stdout",
     "output_type": "stream",
     "text": [
      "[1, 'a', 3] True\n"
     ]
    }
   ],
   "source": [
    "#p2\n",
    "#for strict = False \n",
    "sublist = [1, 'a', 3]\n",
    "superlist = [0, 1, 'a', 4, 3, 5]\n",
    "\n",
    "test = [x for x in sublist if x in superlist]\n",
    "if test == sublist:\n",
    "    print (test,True)"
   ]
  },
  {
   "cell_type": "code",
   "execution_count": 17,
   "metadata": {},
   "outputs": [
    {
     "data": {
      "text/plain": [
       "False"
      ]
     },
     "execution_count": 17,
     "metadata": {},
     "output_type": "execute_result"
    }
   ],
   "source": [
    "\"1,a,3\" in \"0,1,a,4,3,5\""
   ]
  },
  {
   "cell_type": "code",
   "execution_count": 28,
   "metadata": {},
   "outputs": [
    {
     "data": {
      "text/plain": [
       "True"
      ]
     },
     "execution_count": 28,
     "metadata": {},
     "output_type": "execute_result"
    }
   ],
   "source": [
    "def is_subset(sublist, superlist, strict=True):\n",
    "    \n",
    "    if strict:\n",
    "    \n",
    "        str_sub=''\n",
    "        str_super = ''\n",
    "        for sub_elem in sublist:\n",
    "            str_sub = str_sub + str(sub_elem)\n",
    "        str_sub\n",
    "\n",
    "        for super_elem in superlist:\n",
    "            str_super = str_super + str(super_elem)\n",
    "        str_super\n",
    "        \n",
    "        output_true = str_sub in str_super\n",
    "        return output_true\n",
    "    else:\n",
    "        test = [x for x in sublist if x in superlist]\n",
    "        if test == sublist:\n",
    "            return True\n",
    "        else:\n",
    "            return False\n",
    "is_subset([1, 'a', 3], [0, 1, 'a', 3, 4, 5])"
   ]
  },
  {
   "cell_type": "code",
   "execution_count": 40,
   "metadata": {},
   "outputs": [
    {
     "data": {
      "text/plain": [
       "False"
      ]
     },
     "execution_count": 40,
     "metadata": {},
     "output_type": "execute_result"
    }
   ],
   "source": [
    "#p3\n",
    "def has_duplicates(a_list):\n",
    "    count = 0\n",
    "    set_list = list(set(a_list))\n",
    "\n",
    "    for set_i in set_list:\n",
    "        for list_i in a_list:\n",
    "            if list_i == set_i:\n",
    "                count = count + 1\n",
    "    if count > len(set_list):\n",
    "        output = True\n",
    "    else:\n",
    "        output = False\n",
    "    return output\n",
    "\n",
    "has_duplicated([1, 2, 3,5])"
   ]
  },
  {
   "cell_type": "code",
   "execution_count": 1,
   "metadata": {},
   "outputs": [
    {
     "ename": "FileNotFoundError",
     "evalue": "[Errno 2] No such file or directory: '/mnt/data/public/gutenberg/README'",
     "output_type": "error",
     "traceback": [
      "\u001b[1;31m---------------------------------------------------------------------------\u001b[0m",
      "\u001b[1;31mFileNotFoundError\u001b[0m                         Traceback (most recent call last)",
      "\u001b[1;32m<ipython-input-1-667d60c4b37f>\u001b[0m in \u001b[0;36m<module>\u001b[1;34m\u001b[0m\n\u001b[0;32m      9\u001b[0m \u001b[0moutput_file\u001b[0m \u001b[1;33m=\u001b[0m \u001b[1;34m'word_count.pkl'\u001b[0m\u001b[1;33m\u001b[0m\u001b[1;33m\u001b[0m\u001b[0m\n\u001b[0;32m     10\u001b[0m \u001b[1;33m\u001b[0m\u001b[0m\n\u001b[1;32m---> 11\u001b[1;33m \u001b[1;32mwith\u001b[0m \u001b[0mopen\u001b[0m\u001b[1;33m(\u001b[0m\u001b[0minput_file\u001b[0m\u001b[1;33m)\u001b[0m \u001b[1;32mas\u001b[0m \u001b[0mf\u001b[0m\u001b[1;33m:\u001b[0m\u001b[1;33m\u001b[0m\u001b[1;33m\u001b[0m\u001b[0m\n\u001b[0m\u001b[0;32m     12\u001b[0m     \u001b[0mtext\u001b[0m \u001b[1;33m=\u001b[0m \u001b[0mf\u001b[0m\u001b[1;33m.\u001b[0m\u001b[0mread\u001b[0m\u001b[1;33m(\u001b[0m\u001b[1;33m)\u001b[0m\u001b[1;33m\u001b[0m\u001b[1;33m\u001b[0m\u001b[0m\n",
      "\u001b[1;31mFileNotFoundError\u001b[0m: [Errno 2] No such file or directory: '/mnt/data/public/gutenberg/README'"
     ]
    }
   ],
   "source": [
    "#p4 cant finish here. needs to be done in jojie\n",
    "# Write a function count_words that accepts the \n",
    "# filepaths input_file and output_file, creates a dictionary where the \n",
    "# key is a word and the value is the number of occurrences of that word in \n",
    "# input_file then saves the dictionary into a pickle file output_file. \n",
    "# A word is defined as a case-insensitive sequence of non-whitespace characters.\n",
    "\n",
    "def count_words(input_file, output_file):\n",
    "    \n",
    "    with open(input_file) as f:\n",
    "        text = f.read()\n",
    "        \n",
    "    new_text= text.replace('\\n', ' ')\n",
    "    spl = new_text.lower().split()\n",
    "    set_spl = list(set(spl))\n",
    "\n",
    "    wc ={}\n",
    "    \n",
    "    for set_i in set_spl:\n",
    "        \n",
    "            count = 0\n",
    "            \n",
    "            for spl_i in spl:\n",
    "\n",
    "                if set_i == spl_i:\n",
    "                    count = count + 1\n",
    "\n",
    "            wc[set_i] = count\n",
    "            \n",
    "    with open(output_file, 'wb') as p:\n",
    "        pickle.dump(wc,p)"
   ]
  },
  {
   "cell_type": "code",
   "execution_count": 31,
   "metadata": {},
   "outputs": [],
   "source": [
    "#p5\n",
    "class Person():\n",
    "    \n",
    "    def __init__(self, init_pos=(0,0)):\n",
    "        self.pos = init_pos\n",
    "        self.infected = False\n",
    "        \n",
    "    def move(self, dx=0, dy=0):\n",
    "        self.pos = (self.pos[0]+dx, self.pos[1]+dy)\n",
    "        \n",
    "    def get_position(self):\n",
    "        return self.pos\n",
    "    \n",
    "    def set_infected(self):\n",
    "        self.infected = True\n",
    "    \n",
    "    def is_infected(self):\n",
    "        return self.infected\n",
    "    \n",
    "    def get_infected(self, stranger, threshold):\n",
    "        \n",
    "        euc_dist = (\n",
    "            (stranger.pos[0]-self.pos[0])**2 \\\n",
    "            + (stranger.pos[1]-self.pos[1])**2\n",
    "            )**0.5\n",
    "        if stranger.infected == True and euc_dist < threshold:\n",
    "            self.infected = True\n",
    "        "
   ]
  },
  {
   "cell_type": "code",
   "execution_count": 32,
   "metadata": {},
   "outputs": [
    {
     "data": {
      "text/plain": [
       "True"
      ]
     },
     "execution_count": 32,
     "metadata": {},
     "output_type": "execute_result"
    }
   ],
   "source": [
    "person1 = Person()\n",
    "person2 = Person((1, 2))\n",
    "person3 = Person((10, 20))\n",
    "person3.set_infected()\n",
    "person4 = Person((-1, -2))\n",
    "person4.set_infected()\n",
    "\n",
    "person1.is_infected()\n",
    "person1.get_infected(person2, 5)\n",
    "person1.is_infected()\n",
    "person1.get_infected(person3, 5)\n",
    "person1.is_infected()\n",
    "person1.get_infected(person4, 5)\n",
    "person1.is_infected()"
   ]
  },
  {
   "cell_type": "code",
   "execution_count": 33,
   "metadata": {},
   "outputs": [],
   "source": [
    "#p6\n",
    "# Create a class QuarantinedPerson that is a Person but whose position never \n",
    "# changes regardless of the parameters passed to move.\n",
    "\n",
    "class QuarantinedPerson(Person):\n",
    "    \n",
    "    def move(self, dx=0, dy=0):\n",
    "        self.pos = self.pos\n",
    "\n"
   ]
  },
  {
   "cell_type": "code",
   "execution_count": 36,
   "metadata": {},
   "outputs": [
    {
     "data": {
      "text/plain": [
       "False"
      ]
     },
     "execution_count": 36,
     "metadata": {},
     "output_type": "execute_result"
    }
   ],
   "source": [
    "person1 = Person()\n",
    "person2 = QuarantinedPerson((10, 0))\n",
    "person2.set_infected()\n",
    "\n",
    "person1.is_infected()\n",
    "person1.get_infected(person2, 5)\n",
    "person1.is_infected()\n",
    "person2.move(-10)\n",
    "person1.get_infected(person2, 5)\n",
    "person1.is_infected()"
   ]
  },
  {
   "cell_type": "code",
   "execution_count": 45,
   "metadata": {},
   "outputs": [
    {
     "data": {
      "text/plain": [
       "{'a': '1', 'b': '2'}"
      ]
     },
     "execution_count": 45,
     "metadata": {},
     "output_type": "execute_result"
    }
   ],
   "source": [
    "#p7\n",
    "# Create a function file_lines that accepts an unlimited number of arguments \n",
    "# having filepaths as values and returns a dictionary with the \n",
    "# argument name as the key and the number of lines in the \n",
    "# filepath as the value. It shouldn't include the argument if the \n",
    "# filepath doesn't exist.\n",
    "\n",
    "def file_lines(**kwargs):\n",
    "    d = {}\n",
    "    \n",
    "    for key in kwargs:\n",
    "        \n",
    "        fp = kwargs[key]\n",
    "        try:\n",
    "            with open(fp) as f:\n",
    "                text = f.read()\n",
    "                count_lines = text.count('\\n')\n",
    "                \n",
    "    \n",
    "            d[key] = count_lines\n",
    "        except:\n",
    "            continue\n",
    "    \n",
    "    return d\n",
    "file_lines(g1996='/mnt/data/public/gutenberg/GUTINDEX.1996',\n",
    "               g2020='/mnt/data/public/gutenberg/GUTINDEX.2020',\n",
    "               gall='/mnt/data/public/gutenberg/GUTINDEX.ALL')"
   ]
  },
  {
   "cell_type": "code",
   "execution_count": 51,
   "metadata": {},
   "outputs": [
    {
     "data": {
      "text/plain": [
       "'aaa\\naaa\\naaa'"
      ]
     },
     "metadata": {},
     "output_type": "display_data"
    },
    {
     "data": {
      "text/plain": [
       "2"
      ]
     },
     "execution_count": 51,
     "metadata": {},
     "output_type": "execute_result"
    }
   ],
   "source": [
    "st = '''aaa\n",
    "aaa\n",
    "aaa'''\n",
    "\n",
    "display(st)\n",
    "st.count('\\n')"
   ]
  },
  {
   "cell_type": "code",
   "execution_count": 60,
   "metadata": {},
   "outputs": [
    {
     "data": {
      "text/plain": [
       "1.0"
      ]
     },
     "execution_count": 60,
     "metadata": {},
     "output_type": "execute_result"
    }
   ],
   "source": [
    "#p8 cheat way\n",
    "\n",
    "class TenDivError(ValueError):\n",
    "    \n",
    "    pass\n",
    "    \n",
    "\n",
    "def ten_div(num, denom):\n",
    "    if 0 <= num <= 10:\n",
    "        \n",
    "        try:\n",
    "            return num / denom\n",
    "            raise TenDivError()\n",
    "        except TenDivError as e:\n",
    "            return 'Error encountered:' + e[0]\n",
    "    else:        \n",
    "        return num / denom\n",
    "ten_div(11,11)        "
   ]
  },
  {
   "cell_type": "code",
   "execution_count": 124,
   "metadata": {},
   "outputs": [
    {
     "ename": "TenDivError",
     "evalue": "Error encountered: division by zero",
     "output_type": "error",
     "traceback": [
      "\u001b[1;31m---------------------------------------------------------------------------\u001b[0m",
      "\u001b[1;31mTenDivError\u001b[0m                               Traceback (most recent call last)",
      "\u001b[1;32m<ipython-input-124-0a4324312f12>\u001b[0m in \u001b[0;36m<module>\u001b[1;34m\u001b[0m\n\u001b[0;32m     10\u001b[0m \u001b[1;32melif\u001b[0m \u001b[0mdenom\u001b[0m \u001b[1;33m==\u001b[0m \u001b[1;36m0\u001b[0m\u001b[1;33m:\u001b[0m\u001b[1;33m\u001b[0m\u001b[1;33m\u001b[0m\u001b[0m\n\u001b[0;32m     11\u001b[0m     \u001b[0mmessage\u001b[0m \u001b[1;33m=\u001b[0m \u001b[1;34m'Error encountered: division by zero'\u001b[0m\u001b[1;33m\u001b[0m\u001b[1;33m\u001b[0m\u001b[0m\n\u001b[1;32m---> 12\u001b[1;33m     \u001b[1;32mraise\u001b[0m \u001b[0mTenDivError\u001b[0m\u001b[1;33m(\u001b[0m\u001b[0mmessage\u001b[0m\u001b[1;33m)\u001b[0m\u001b[1;33m\u001b[0m\u001b[1;33m\u001b[0m\u001b[0m\n\u001b[0m",
      "\u001b[1;31mTenDivError\u001b[0m: Error encountered: division by zero"
     ]
    }
   ],
   "source": [
    "class TenDivError(Exception):\n",
    "    pass\n",
    "        \n",
    "num = 10\n",
    "denom = 0\n",
    "        \n",
    "if not 0 <= num <= 10:\n",
    "    message = \"Error encountered: ValueError\"\n",
    "    raise TenDivError(message)\n",
    "elif denom == 0:\n",
    "    message = 'Error encountered: division by zero'\n",
    "    raise TenDivError(message)\n",
    "else:\n",
    "    "
   ]
  },
  {
   "cell_type": "code",
   "execution_count": 78,
   "metadata": {},
   "outputs": [
    {
     "data": {
      "text/plain": [
       "False"
      ]
     },
     "execution_count": 78,
     "metadata": {},
     "output_type": "execute_result"
    }
   ],
   "source": [
    "#p9\n",
    "# Create a function most_frequent in a module wordfreq that accepts a \n",
    "# filepath and returns the list of the nine most frequent words in the \n",
    "# file sorted by decreasing frequency then by increasing alphabetical order.\n",
    "# A word is case insensitive and defined as a sequence of \n",
    "# non-whitespace characters.\n",
    "\n",
    "\n"
   ]
  }
 ],
 "metadata": {
  "kernelspec": {
   "display_name": "Python 3",
   "language": "python",
   "name": "python3"
  },
  "language_info": {
   "codemirror_mode": {
    "name": "ipython",
    "version": 3
   },
   "file_extension": ".py",
   "mimetype": "text/x-python",
   "name": "python",
   "nbconvert_exporter": "python",
   "pygments_lexer": "ipython3",
   "version": "3.7.7"
  }
 },
 "nbformat": 4,
 "nbformat_minor": 4
}
