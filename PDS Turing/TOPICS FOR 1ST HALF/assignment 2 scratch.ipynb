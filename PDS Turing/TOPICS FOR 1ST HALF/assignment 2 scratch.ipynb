{
 "cells": [
  {
   "cell_type": "code",
   "execution_count": 9,
   "metadata": {},
   "outputs": [
    {
     "data": {
      "text/plain": [
       "2"
      ]
     },
     "execution_count": 9,
     "metadata": {},
     "output_type": "execute_result"
    }
   ],
   "source": [
    "#Write a function digit_sum that takes a positive integer and returns the \n",
    "#sum of its digits.\n",
    "\n",
    "def digit_sum(num):\n",
    "    digits = [int(dig) for dig in str(num)]\n",
    "    sum_dig = sum(digits)\n",
    "    \n",
    "    return sum_dig\n",
    "digit_sum(2000)"
   ]
  },
  {
   "cell_type": "code",
   "execution_count": 18,
   "metadata": {},
   "outputs": [
    {
     "data": {
      "text/plain": [
       "2"
      ]
     },
     "execution_count": 18,
     "metadata": {},
     "output_type": "execute_result"
    }
   ],
   "source": [
    "#Write a function count_vowels that returns the number of vowels in an\n",
    "#input string.\n",
    "\n",
    "def count_vowels(string):\n",
    "    vowels = ['a','e','i','o','u']\n",
    "    \n",
    "    word_vowels = [v for v in string if v in vowels]\n",
    "    \n",
    "    return len(word_vowels)\n",
    "\n",
    "count_vowels('a b c d e')"
   ]
  },
  {
   "cell_type": "code",
   "execution_count": 27,
   "metadata": {},
   "outputs": [
    {
     "name": "stdout",
     "output_type": "stream",
     "text": [
      "schooled csohlode\n"
     ]
    },
    {
     "data": {
      "text/plain": [
       "True"
      ]
     },
     "execution_count": 27,
     "metadata": {},
     "output_type": "execute_result"
    }
   ],
   "source": [
    "# #Two words of the same length \"interlock\" if taking alternating letters \n",
    "# from each forms a new word. For example, \"shoe\" and \"cold\" \n",
    "# interlock to form \"schooled\".\n",
    "\n",
    "# Write a function that checks whether a pair of words interlock based on a word list.\n",
    "\n",
    "   \n",
    "def is_interlock(word_list, word1, word2):\n",
    "    \n",
    "    li_combined_1 = [i+v for i,v in zip(word1,word2)]\n",
    "    li_combined_2 = [i+v for i,v in zip(word2,word1)]\n",
    "    new_word_1 = ''\n",
    "    new_word_2 = ''\n",
    "    for i,j in zip(li_combined_1,li_combined_2):\n",
    "        new_word_1 = new_word_1 + i\n",
    "        new_word_2 = new_word_2 + j\n",
    "        \n",
    "    print(new_word_1,new_word_2)\n",
    "    \n",
    "    if new_word_1 in word_list or new_word_2 in word_list:\n",
    "        return True\n",
    "    else:\n",
    "        return False\n",
    "is_interlock(['school', 'schooled', 'shoe', 'cold'], 'shoe', 'cold')"
   ]
  },
  {
   "cell_type": "code",
   "execution_count": 54,
   "metadata": {},
   "outputs": [
    {
     "data": {
      "text/plain": [
       "{'lowercase': 3,\n",
       " 'uppercase': 3,\n",
       " 'numeric': 3,\n",
       " 'punctuation': 3,\n",
       " 'whitespace': 1}"
      ]
     },
     "execution_count": 54,
     "metadata": {},
     "output_type": "execute_result"
    }
   ],
   "source": [
    "#p4\n",
    "#Write a function count_types that accepts a string a_string, \n",
    "# and returns the number of lowercase, uppercase, numeric, punctuation and \n",
    "# whitespace characters in a_string as items in a dictionary.\n",
    "\n",
    "punc_set = \"\"\"!\"#$%&'()*+,-./:;<=>?@\\^_`{|}~\"\"\"\n",
    "\n",
    "count_space = count_lower = count_upper = count_num = count_punc = 0\n",
    "\n",
    "for char in a_string:\n",
    "  \n",
    "    if char.islower() is True:\n",
    "        count_lower = count_lower + 1\n",
    "        \n",
    "    elif char.isupper() is True:\n",
    "        count_upper = count_upper + 1\n",
    "        \n",
    "    elif char.isnumeric() is True:\n",
    "        count_num = count_num + 1\n",
    "        \n",
    "    elif char in punc_set:\n",
    "        count_punc = count_punc + 1\n",
    "    \n",
    "    else:\n",
    "        count_space = count_space + 1\n",
    "\n",
    "d = {'lowercase': count_lower,\n",
    "    'uppercase': count_upper,\n",
    "    'numeric': count_num,\n",
    "    'punctuation': count_punc,\n",
    "    'whitespace': count_space}\n",
    "d"
   ]
  },
  {
   "cell_type": "code",
   "execution_count": 79,
   "metadata": {},
   "outputs": [
    {
     "data": {
      "text/plain": [
       "[[307, 414, 245, 64], [307, 414, 245, 64], [307, 414, 245, 64]]"
      ]
     },
     "execution_count": 79,
     "metadata": {},
     "output_type": "execute_result"
    }
   ],
   "source": [
    "def matrix_times_matrix(mat1, mat2):\n",
    "    mat1_size = [len(mat1), len(mat1[0])] #row1 , col1\n",
    "    mat2_size = [len(mat2), len(mat2[0])]\n",
    "\n",
    "    prod_size =[mat1_size[0], mat2_size[1]]\n",
    "\n",
    "    prod = [[0]*prod_size[1]]*prod_size[0]\n",
    "\n",
    "#     for i_row in range(mat1_size[0]):\n",
    "#         for i_col in range(mat1_size[1]):\n",
    "#             prod[i_row] = prod[i_row] + mat[i_row][i_col] * vec[i_col]\n",
    "\n",
    "    for i_row_p in range(len(mat1)):\n",
    "        for j_col_p in range(len(mat2[0])):\n",
    "            for k_col_m1 in range(len(mat2)):\n",
    "                prod[i_row_p][j_col_p] = prod[i_row_p][j_col_p] + mat1[i_row_p][k_col_m1] * mat2[k_col_m1][j_col_p]\n",
    "            \n",
    "    return prod \n",
    "\n",
    "matrix_times_matrix(\n",
    "    [[12,7,3],\n",
    "    [4 ,5,6],\n",
    "    [7 ,8,9]],\n",
    "        [[5,8,1,2],\n",
    "        [6,7,3,0],\n",
    "        [4,5,9,1]])"
   ]
  },
  {
   "cell_type": "code",
   "execution_count": 70,
   "metadata": {},
   "outputs": [
    {
     "data": {
      "text/plain": [
       "[[0, 0, 0], [0, 0, 0]]"
      ]
     },
     "execution_count": 70,
     "metadata": {},
     "output_type": "execute_result"
    }
   ],
   "source": [
    "[[0]*3]*2"
   ]
  },
  {
   "cell_type": "code",
   "execution_count": 138,
   "metadata": {},
   "outputs": [
    {
     "ename": "NameError",
     "evalue": "name 'list1_row' is not defined",
     "output_type": "error",
     "traceback": [
      "\u001b[1;31m---------------------------------------------------------------------------\u001b[0m",
      "\u001b[1;31mNameError\u001b[0m                                 Traceback (most recent call last)",
      "\u001b[1;32m<ipython-input-138-d135cc8ad655>\u001b[0m in \u001b[0;36m<module>\u001b[1;34m\u001b[0m\n\u001b[0;32m      9\u001b[0m         [[5, 6],\n\u001b[0;32m     10\u001b[0m          \u001b[1;33m[\u001b[0m\u001b[1;36m7\u001b[0m\u001b[1;33m,\u001b[0m \u001b[1;36m8\u001b[0m\u001b[1;33m]\u001b[0m\u001b[1;33m,\u001b[0m\u001b[1;33m\u001b[0m\u001b[1;33m\u001b[0m\u001b[0m\n\u001b[1;32m---> 11\u001b[1;33m          [9, 10]])\n\u001b[0m",
      "\u001b[1;32m<ipython-input-138-d135cc8ad655>\u001b[0m in \u001b[0;36mmatmul\u001b[1;34m(list1, list2)\u001b[0m\n\u001b[0;32m      2\u001b[0m \u001b[1;33m\u001b[0m\u001b[0m\n\u001b[0;32m      3\u001b[0m     \u001b[0mproduct\u001b[0m \u001b[1;33m=\u001b[0m \u001b[1;33m[\u001b[0m\u001b[1;33m[\u001b[0m\u001b[0msum\u001b[0m\u001b[1;33m(\u001b[0m\u001b[0ma\u001b[0m\u001b[1;33m*\u001b[0m\u001b[0mb\u001b[0m \u001b[1;32mfor\u001b[0m \u001b[0ma\u001b[0m\u001b[1;33m,\u001b[0m\u001b[0mb\u001b[0m \u001b[1;32min\u001b[0m \u001b[0mzip\u001b[0m\u001b[1;33m(\u001b[0m\u001b[0mlist1_row\u001b[0m\u001b[1;33m,\u001b[0m \u001b[0mlist2_col\u001b[0m\u001b[1;33m)\u001b[0m\u001b[1;33m)\u001b[0m \u001b[1;32mfor\u001b[0m \u001b[0mlist2_col\u001b[0m \u001b[1;32min\u001b[0m \u001b[0mzip\u001b[0m\u001b[1;33m(\u001b[0m\u001b[1;33m*\u001b[0m\u001b[0mlist2\u001b[0m\u001b[1;33m)\u001b[0m\u001b[1;33m]\u001b[0m \u001b[1;32mfor\u001b[0m \u001b[0mlist1_row\u001b[0m \u001b[1;32min\u001b[0m  \u001b[0mlist1\u001b[0m\u001b[1;33m]\u001b[0m\u001b[1;33m\u001b[0m\u001b[1;33m\u001b[0m\u001b[0m\n\u001b[1;32m----> 4\u001b[1;33m     \u001b[0mprint\u001b[0m\u001b[1;33m(\u001b[0m\u001b[0mlist1_row\u001b[0m\u001b[1;33m)\u001b[0m\u001b[1;33m\u001b[0m\u001b[1;33m\u001b[0m\u001b[0m\n\u001b[0m\u001b[0;32m      5\u001b[0m     \u001b[1;32mreturn\u001b[0m \u001b[0mproduct\u001b[0m\u001b[1;33m\u001b[0m\u001b[1;33m\u001b[0m\u001b[0m\n\u001b[0;32m      6\u001b[0m \u001b[1;33m\u001b[0m\u001b[0m\n",
      "\u001b[1;31mNameError\u001b[0m: name 'list1_row' is not defined"
     ]
    }
   ],
   "source": [
    "def matmul(list1,list2):\n",
    "    \n",
    "    product = [[sum(a*b for a,b in zip(list1_row, list2_col)) for list2_col in zip(*list2)] for list1_row in  list1]\n",
    "    return product\n",
    "\n",
    "matmul([[1, 2, 7],\n",
    "         [3, 4, 8]],\n",
    "        [[5, 6],\n",
    "         [7, 8],\n",
    "         [9, 10]])"
   ]
  },
  {
   "cell_type": "code",
   "execution_count": 182,
   "metadata": {},
   "outputs": [
    {
     "data": {
      "text/plain": [
       "(12, 4, 3)"
      ]
     },
     "execution_count": 182,
     "metadata": {},
     "output_type": "execute_result"
    }
   ],
   "source": [
    "#6\n",
    "def encode(text):\n",
    "    x = [i.lower() for i in text if i.isalpha() or i.isdigit()]\n",
    "    col = int((len(x)**(0.5))) + 1\n",
    "    if col * (col - 1) >= len(x):\n",
    "        row = col - 1\n",
    "    else:\n",
    "        row = col\n",
    "    \n",
    "    res = []\n",
    "    for i in range(col):\n",
    "        for j in range(row):\n",
    "            try:\n",
    "                res.append(x[i + j * col])\n",
    "            except:\n",
    "                res.append('')\n",
    "    for i in range (col - 1,0,-1):\n",
    "        res.insert(i * row, ' ')\n",
    "    return ''.join(res)"
   ]
  },
  {
   "cell_type": "code",
   "execution_count": 178,
   "metadata": {},
   "outputs": [
    {
     "name": "stdout",
     "output_type": "stream",
     "text": [
      "['chi', 'llo', 'ut']\n"
     ]
    },
    {
     "ename": "IndexError",
     "evalue": "string index out of range",
     "output_type": "error",
     "traceback": [
      "\u001b[1;31m---------------------------------------------------------------------------\u001b[0m",
      "\u001b[1;31mIndexError\u001b[0m                                Traceback (most recent call last)",
      "\u001b[1;32m<ipython-input-178-c4040039b2a9>\u001b[0m in \u001b[0;36m<module>\u001b[1;34m\u001b[0m\n\u001b[0;32m     15\u001b[0m \u001b[1;31m#     for char_1 in sep:\u001b[0m\u001b[1;33m\u001b[0m\u001b[1;33m\u001b[0m\u001b[1;33m\u001b[0m\u001b[0m\n\u001b[0;32m     16\u001b[0m \u001b[1;31m#         word = word + char_1[i]\u001b[0m\u001b[1;33m\u001b[0m\u001b[1;33m\u001b[0m\u001b[1;33m\u001b[0m\u001b[0m\n\u001b[1;32m---> 17\u001b[1;33m \u001b[0msep\u001b[0m\u001b[1;33m[\u001b[0m\u001b[1;36m2\u001b[0m\u001b[1;33m]\u001b[0m\u001b[1;33m[\u001b[0m\u001b[1;36m2\u001b[0m\u001b[1;33m]\u001b[0m\u001b[1;33m\u001b[0m\u001b[1;33m\u001b[0m\u001b[0m\n\u001b[0m",
      "\u001b[1;31mIndexError\u001b[0m: string index out of range"
     ]
    }
   ],
   "source": [
    "#7\n",
    "def check_brackets(str_with_brackets):\n",
    "    \"\"\"Check whether str_with_bracks is bracketed correctly\n",
    "    \n",
    "    Parameters\n",
    "    ----------\n",
    "    str_with_brackets : str\n",
    "        String with brackets that are possibly nested\n",
    "    \n",
    "    Returns\n",
    "    -------\n",
    "    is_correct : bool\n",
    "        `True` if `str_with_brackets` is bracketed correctly, `False` \n",
    "        otherwise\n",
    "    \"\"\"\n",
    "    open_brackets = [\"[\",\"{\",\"(\"]\n",
    "    close_brackets = [\"]\",\"}\",\")\"]\n",
    "    dump = []\n",
    "    for i in str_with_brackets:\n",
    "        if i in open_brackets:\n",
    "            dump.append(i)\n",
    "        elif i in close_brackets:\n",
    "            pos = close_brackets.index(i)\n",
    "            if ((len(dump) > 0) and \n",
    "                (open_brackets[pos] == dump[len(dump)-1])):\n",
    "                dump.pop()\n",
    "            else:\n",
    "                return False\n",
    "    if len(dump) == 0:\n",
    "        return True\n",
    "    else:\n",
    "        return False"
   ]
  },
  {
   "cell_type": "code",
   "execution_count": null,
   "metadata": {},
   "outputs": [],
   "source": [
    "#8 \n",
    "def nested_sum(list_of_lists):\n",
    "    # YOUR CODE HERE\n",
    "    total = 0\n",
    "    for element in list_of_lists:\n",
    "        if (type(element) == type([])):\n",
    "            total = total + nested_sum(element)\n",
    "        else:\n",
    "            total = total + element\n",
    "    return total"
   ]
  },
  {
   "cell_type": "code",
   "execution_count": null,
   "metadata": {},
   "outputs": [],
   "source": [
    "#9\n",
    "def count_people(log):\n",
    "    count = 0\n",
    "    text = log.split()\n",
    "    pairs = []\n",
    "    for i in range (0,len(text),2):\n",
    "        pairs += [(text[i], text[i+1])]\n",
    "    \n",
    "    for i in pairs:\n",
    "        if i[0] == 'IN':\n",
    "            pos = pairs.index(i)\n",
    "    \n",
    "    for i in pairs[pos::]:\n",
    "        if i[0] == 'IN':\n",
    "            count += int(i[1])\n",
    "        else:\n",
    "            count -= int(i[1])\n",
    "    return count"
   ]
  },
  {
   "cell_type": "code",
   "execution_count": null,
   "metadata": {},
   "outputs": [],
   "source": [
    "#10\n",
    "from collections import Counter\n",
    "def next_word(text, word=None):\n",
    "    \"\"\"\n",
    "    Return the most likely next word in text\n",
    "    \n",
    "    A word is defined as a sequence of all non-whitespace characters between\n",
    "    whitespaces. Words are case-insensitive.\n",
    "    \n",
    "    Parameters\n",
    "    ----------\n",
    "    text : string\n",
    "        Text to train at.\n",
    "    word : string or `None`\n",
    "        Find the most likely next word of `word` or likely next word of all\n",
    "        words if `None`. \n",
    "        \n",
    "    \n",
    "    Returns\n",
    "    -------\n",
    "    next_word : tuple or list of tuple\n",
    "        If `word` is a string then return the most likely next word of `word`\n",
    "        as a tuple of `(word, most_likely_next_word)`. If `word` is not found\n",
    "        in `text`, `most_likely_next_word` is an empty string. If `word` is\n",
    "        `None` then return the list of `(word, most_likely_next_word)` for all\n",
    "        words in `text`. If there is more than one most likely next word, pick\n",
    "        the first word based on alphabetical (lexicographic) order.\n",
    "    \"\"\"\n",
    "    words = []\n",
    "    nxt = []\n",
    "    dummy = []\n",
    "    temp = []\n",
    "    if isinstance(word, str) and word in text:\n",
    "        words = text.split()\n",
    "        n = len(words)\n",
    "\n",
    "        for i in range(len(words)):\n",
    "            if words[i] == word:\n",
    "                try:\n",
    "                    nxt.append((words[i], words[i + 1]))\n",
    "                except:\n",
    "                    continue\n",
    "        return nxt[0]\n",
    "    elif word is None:\n",
    "        words = text.split()\n",
    "        n = len(words)\n",
    "        for i in range(len(words)-1):\n",
    "            try:\n",
    "                nxt.append((words[i], words[i + 1]))\n",
    "            except:\n",
    "                continue\n",
    "        nxt = sorted(nxt, key = lambda x: (x[0],x[1]))\n",
    "        count = dict(Counter(nxt))\n",
    "        sorted_keys = sorted(count, key=count.get, reverse = True)\n",
    "        sorted_dict = {}\n",
    "\n",
    "        for i in sorted_keys:\n",
    "            sorted_dict[i] = count[i]\n",
    "        \n",
    "        for i in sorted_dict:\n",
    "            if i[0] in dummy:\n",
    "                continue\n",
    "            else:\n",
    "                dummy.append(i[0])\n",
    "                temp.append(i)\n",
    "        nxt = temp\n",
    "        return nxt"
   ]
  },
  {
   "cell_type": "code",
   "execution_count": null,
   "metadata": {},
   "outputs": [],
   "source": [
    "#6 to 10 you copied from classmates :---("
   ]
  },
  {
   "cell_type": "code",
   "execution_count": 1,
   "metadata": {},
   "outputs": [
    {
     "data": {
      "text/plain": [
       "2"
      ]
     },
     "execution_count": 1,
     "metadata": {},
     "output_type": "execute_result"
    }
   ],
   "source": [
    "tup =(0,0)\n",
    "tup[0]+2"
   ]
  }
 ],
 "metadata": {
  "kernelspec": {
   "display_name": "Python 3",
   "language": "python",
   "name": "python3"
  },
  "language_info": {
   "codemirror_mode": {
    "name": "ipython",
    "version": 3
   },
   "file_extension": ".py",
   "mimetype": "text/x-python",
   "name": "python",
   "nbconvert_exporter": "python",
   "pygments_lexer": "ipython3",
   "version": "3.7.7"
  }
 },
 "nbformat": 4,
 "nbformat_minor": 4
}
