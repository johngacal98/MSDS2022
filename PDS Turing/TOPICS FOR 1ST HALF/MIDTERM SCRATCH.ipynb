{
 "cells": [
  {
   "cell_type": "code",
   "execution_count": 8,
   "metadata": {},
   "outputs": [
    {
     "data": {
      "text/plain": [
       "3"
      ]
     },
     "execution_count": 8,
     "metadata": {},
     "output_type": "execute_result"
    }
   ],
   "source": [
    "a = 'aaabab'\n",
    "a.index('b')"
   ]
  },
  {
   "cell_type": "code",
   "execution_count": 11,
   "metadata": {},
   "outputs": [
    {
     "data": {
      "text/plain": [
       "[[6, 7, 8, 9, 10]]"
      ]
     },
     "execution_count": 11,
     "metadata": {},
     "output_type": "execute_result"
    }
   ],
   "source": [
    "l = [[1,2,3,4,5],[6,7,8,9,10],[11,12,13,14,15],[16,17,18,19,20],[21,22,23,24,25]]\n",
    "l[1::3][::3]"
   ]
  },
  {
   "cell_type": "code",
   "execution_count": 12,
   "metadata": {},
   "outputs": [
    {
     "data": {
      "text/plain": [
       "['a', 'b', 'c', 'd', 'e']"
      ]
     },
     "execution_count": 12,
     "metadata": {},
     "output_type": "execute_result"
    }
   ],
   "source": [
    "d = {'a':5, 'b':4,'c':3,'d':2, 'e':1}\n",
    "\n",
    "[i for i in sorted(d)]"
   ]
  },
  {
   "cell_type": "code",
   "execution_count": 14,
   "metadata": {},
   "outputs": [
    {
     "ename": "TypeError",
     "evalue": "unhashable type: 'list'",
     "output_type": "error",
     "traceback": [
      "\u001b[1;31m---------------------------------------------------------------------------\u001b[0m",
      "\u001b[1;31mTypeError\u001b[0m                                 Traceback (most recent call last)",
      "\u001b[1;32m<ipython-input-14-e57321a4cc7e>\u001b[0m in \u001b[0;36m<module>\u001b[1;34m\u001b[0m\n\u001b[1;32m----> 1\u001b[1;33m \u001b[0mset\u001b[0m\u001b[1;33m(\u001b[0m\u001b[1;33m[\u001b[0m\u001b[1;33m[\u001b[0m\u001b[1;34m'a'\u001b[0m\u001b[1;33m,\u001b[0m\u001b[1;36m1\u001b[0m\u001b[1;33m,\u001b[0m\u001b[1;36m2.5\u001b[0m\u001b[1;33m]\u001b[0m\u001b[1;33m]\u001b[0m\u001b[1;33m)\u001b[0m\u001b[1;33m\u001b[0m\u001b[1;33m\u001b[0m\u001b[0m\n\u001b[0m",
      "\u001b[1;31mTypeError\u001b[0m: unhashable type: 'list'"
     ]
    }
   ],
   "source": [
    "set([['a',1,2.5]])"
   ]
  },
  {
   "cell_type": "code",
   "execution_count": 16,
   "metadata": {},
   "outputs": [
    {
     "data": {
      "text/plain": [
       "3"
      ]
     },
     "execution_count": 16,
     "metadata": {},
     "output_type": "execute_result"
    }
   ],
   "source": [
    "class A:\n",
    "    def b(self,c,d):\n",
    "        return c+d\n",
    "a = A()\n",
    "a.b(1,2)"
   ]
  },
  {
   "cell_type": "code",
   "execution_count": 17,
   "metadata": {},
   "outputs": [
    {
     "name": "stdout",
     "output_type": "stream",
     "text": [
      "4950\n"
     ]
    }
   ],
   "source": [
    "a = range(100)\n",
    "total = 0\n",
    "i = 0\n",
    "while i < 100:\n",
    "    total = total + a[i]\n",
    "    i = i + 1\n",
    "print(total)"
   ]
  },
  {
   "cell_type": "code",
   "execution_count": 18,
   "metadata": {},
   "outputs": [
    {
     "name": "stdout",
     "output_type": "stream",
     "text": [
      "0 10\n",
      "foo\n",
      "1 9\n",
      "bar\n",
      "2 8\n",
      "foo\n",
      "3 7\n",
      "bar\n",
      "4 6\n",
      "foo\n",
      "5 5\n",
      "bar\n",
      "6 4\n",
      "foo\n",
      "7 3\n",
      "bar\n",
      "8 2\n",
      "foo\n",
      "9 1\n",
      "bar\n"
     ]
    }
   ],
   "source": [
    "for a in range(10):\n",
    "    b = 10 - a\n",
    "    print(a,b)\n",
    "    if b%2 == 0:\n",
    "        print('foo')\n",
    "    else:\n",
    "        print('bar')"
   ]
  },
  {
   "cell_type": "code",
   "execution_count": 69,
   "metadata": {},
   "outputs": [
    {
     "name": "stdout",
     "output_type": "stream",
     "text": [
      "\n",
      "b\n",
      "cc\n",
      "ddd\n",
      "eeee\n"
     ]
    }
   ],
   "source": [
    "for a , b in zip(list('abcde'),range(0,10)):\n",
    "    print(a*b)"
   ]
  },
  {
   "cell_type": "code",
   "execution_count": 77,
   "metadata": {},
   "outputs": [
    {
     "name": "stdout",
     "output_type": "stream",
     "text": [
      "{0: [16], 1: [17], 2: [18], 3: [19]}\n"
     ]
    },
    {
     "data": {
      "text/plain": [
       "[16]"
      ]
     },
     "execution_count": 77,
     "metadata": {},
     "output_type": "execute_result"
    }
   ],
   "source": [
    "a = {}\n",
    "for b in range(20):\n",
    "    a[b%4] = [i for i in range(b,20,4)]\n",
    "print(a)\n",
    "\n",
    "a[0]"
   ]
  },
  {
   "cell_type": "code",
   "execution_count": 56,
   "metadata": {},
   "outputs": [
    {
     "name": "stdout",
     "output_type": "stream",
     "text": [
      "m\n",
      "n\n",
      "o\n",
      "p\n",
      "a\n"
     ]
    }
   ],
   "source": [
    "a = 5\n",
    "\n",
    "b = 'aponmlkjihgfedcb'\n",
    "# b = 'bcdefghijklmnopa'\n",
    "# b = b[::-1]\n",
    "# b = 'mnopabcdefghijkl'\n",
    "while a > 0:\n",
    "    c = ''\n",
    "    for d in range(a):\n",
    "        c = b[d]\n",
    "    print(c)\n",
    "    a -= 1\n"
   ]
  },
  {
   "cell_type": "code",
   "execution_count": 65,
   "metadata": {},
   "outputs": [
    {
     "data": {
      "text/plain": [
       "True"
      ]
     },
     "execution_count": 65,
     "metadata": {},
     "output_type": "execute_result"
    }
   ],
   "source": [
    "def starts_with_uppercase(s):\n",
    "    flag = False\n",
    "    for c in s[0]:\n",
    "        flag = c.isupper()\n",
    "    return flag\n",
    "\n",
    "starts_with_uppercase('STrIngG')"
   ]
  },
  {
   "cell_type": "code",
   "execution_count": 66,
   "metadata": {},
   "outputs": [
    {
     "name": "stdout",
     "output_type": "stream",
     "text": [
      "m\n",
      "n\n",
      "o\n",
      "p\n",
      "a\n"
     ]
    }
   ],
   "source": [
    "a = 5\n",
    "\n",
    "b = 'abcdefghijklmnop'\n",
    "# b = 'bcdefghijklmnopa'\n",
    "# b = b[::-1]\n",
    "# b = 'mnopabcdefghijkl'\n",
    "while a > 0:\n",
    "    c = ''\n",
    "    for d in range(a):\n",
    "        c = b[-d]\n",
    "    print(c)\n",
    "    a -= 1"
   ]
  },
  {
   "cell_type": "code",
   "execution_count": 71,
   "metadata": {},
   "outputs": [
    {
     "name": "stdout",
     "output_type": "stream",
     "text": [
      "eh 4\n",
      "Tsamina 2\n",
      "mina 2\n",
      "Waka 1\n",
      "waka 1\n",
      "zangalewa 1\n",
      "This 1\n",
      "time 1\n",
      "for 1\n",
      "Africa 1\n"
     ]
    },
    {
     "data": {
      "text/plain": [
       "Counter({'Tsamina': 2,\n",
       "         'mina': 2,\n",
       "         'eh': 4,\n",
       "         'Waka': 1,\n",
       "         'waka': 1,\n",
       "         'zangalewa': 1,\n",
       "         'This': 1,\n",
       "         'time': 1,\n",
       "         'for': 1,\n",
       "         'Africa': 1})"
      ]
     },
     "execution_count": 71,
     "metadata": {},
     "output_type": "execute_result"
    }
   ],
   "source": [
    "from collections import Counter\n",
    "a ='''Tsamina mina eh eh\n",
    "Waka waka eh eh\n",
    "Tsamina mina zangalewa\n",
    "This time for Africa'''\n",
    "\n",
    "b = Counter(a.split())\n",
    "for c,d in b.most_common():\n",
    "    print(c,d)\n",
    "b"
   ]
  },
  {
   "cell_type": "code",
   "execution_count": 80,
   "metadata": {},
   "outputs": [
    {
     "name": "stdout",
     "output_type": "stream",
     "text": [
      "*\n",
      "**\n",
      "***\n",
      "****\n",
      "*****\n",
      "***\n",
      "****\n",
      "*****\n",
      "******\n",
      "*******\n",
      "*****\n",
      "******\n"
     ]
    }
   ],
   "source": [
    "def tree(n):\n",
    "    for i in range(1,n+1):\n",
    "        if i <= 5:\n",
    "            print('*'*i)\n",
    "        elif 5 < i <= 10:\n",
    "            print('*'*(i-3))\n",
    "        else:\n",
    "            print('*'*(i-6))\n",
    "tree(12)"
   ]
  }
 ],
 "metadata": {
  "kernelspec": {
   "display_name": "Python 3",
   "language": "python",
   "name": "python3"
  },
  "language_info": {
   "codemirror_mode": {
    "name": "ipython",
    "version": 3
   },
   "file_extension": ".py",
   "mimetype": "text/x-python",
   "name": "python",
   "nbconvert_exporter": "python",
   "pygments_lexer": "ipython3",
   "version": "3.7.7"
  }
 },
 "nbformat": 4,
 "nbformat_minor": 4
}
