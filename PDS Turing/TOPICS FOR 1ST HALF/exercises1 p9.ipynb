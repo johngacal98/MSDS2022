{
 "cells": [
  {
   "cell_type": "code",
   "execution_count": null,
   "metadata": {},
   "outputs": [],
   "source": [
    "from numpy.testing import assert_equal\n",
    "num_stars = 3\n",
    "def create_squares(num_stars):\n",
    "    \n",
    "\n",
    "    h_border = \"- \"*num_stars\n",
    "    filling = \"* \"*num_stars\n",
    "    no_fill = \"  \"*num_stars\n",
    "\n",
    "    row_1 = \"+ \" + h_border + \"+ \" + h_border + \"+\\n\"\n",
    "    left_fill_row = \"| \" + filling + \"| \" + no_fill + \"|\\n\"\n",
    "    right_fill_row = \"| \" + no_fill + \"| \" + filling + \"|\\n\"\n",
    "\n",
    "\n",
    "    output = row_1 + left_fill_row*num_stars + row_1 + right_fill_row*num_stars + row_1 \n",
    "\n",
    "    return output\n",
    "    \n",
    "    "
   ]
  },
  {
   "cell_type": "code",
   "execution_count": null,
   "metadata": {},
   "outputs": [],
   "source": [
    "assert_equal(\n",
    "    create_squares(1),\n",
    "\"\"\"+ - + - +\n",
    "| * |   |\n",
    "+ - + - +\n",
    "|   | * |\n",
    "+ - + - +\n",
    "\"\"\"\n",
    ")\n",
    "assert_equal(\n",
    "    create_squares(3),\n",
    "\"\"\"+ - - - + - - - +\n",
    "| * * * |       |\n",
    "| * * * |       |\n",
    "| * * * |       |\n",
    "+ - - - + - - - +\n",
    "|       | * * * |\n",
    "|       | * * * |\n",
    "|       | * * * |\n",
    "+ - - - + - - - +\n",
    "\"\"\"\n",
    ")"
   ]
  },
  {
   "cell_type": "code",
   "execution_count": null,
   "metadata": {},
   "outputs": [],
   "source": [
    "h_border = \"- \"*num_stars\n",
    "filling = \"* \"*num_stars\n",
    "no_fill = \"  \"*num_stars\n",
    "\n",
    "row_1 = \"+ \" + h_border + \"+ \" + h_border + \"+ \\n\"\n",
    "left_fill_row = \"| \" + filling + \"| \" + no_fill + \"| \\n\"\n",
    "right_fill_row = \"| \" + no_fill + \"| \" + filling + \"| \\n\"\n",
    "\n",
    "\n",
    "output = row_1 + left_fill_row*num_stars + row_1 + right_fill_row*num_stars + row_1 \n",
    "\n",
    "print(output)"
   ]
  },
  {
   "cell_type": "code",
   "execution_count": 2,
   "metadata": {},
   "outputs": [
    {
     "name": "stdout",
     "output_type": "stream",
     "text": [
      "0 foo\n",
      "1 \n",
      "2 fizz\n",
      "3 fuzz\n",
      "4 fizz\n",
      "5 \n",
      "6 foo\n",
      "7 \n",
      "8 fizz\n",
      "9 fuzz\n",
      "10 fizz\n",
      "11 \n",
      "12 foo\n"
     ]
    }
   ],
   "source": [
    "n=12\n",
    "counter = \"\"\n",
    "iter_p1 = 0\n",
    "while iter_p1 <=n:\n",
    "    if iter_p1%6 == 0:\n",
    "        counter = \"foo\"\n",
    "        print(str(iter_p1) + \" \"+ counter)\n",
    "    elif iter_p1%3 == 0:\n",
    "        counter = \"fuzz\"\n",
    "        print(str(iter_p1) + \" \"+ counter)\n",
    "    elif iter_p1%2 == 0:\n",
    "        counter = \"fizz\"\n",
    "        print(str(iter_p1) + \" \"+ counter)\n",
    "    else:\n",
    "        counter =\"\"\n",
    "        print(str(iter_p1) + \" \"+ counter)\n",
    "    iter_p1 = iter_p1 + 1"
   ]
  },
  {
   "cell_type": "code",
   "execution_count": 3,
   "metadata": {},
   "outputs": [
    {
     "name": "stdout",
     "output_type": "stream",
     "text": [
      "1 \n",
      "2 fizz\n",
      "3 fuzz\n",
      "4 fizz\n",
      "5 \n",
      "6 foo\n",
      "7 \n",
      "8 fizz\n",
      "9 fuzz\n",
      "10 fizz\n",
      "11 \n",
      "12 foo\n"
     ]
    }
   ],
   "source": [
    "n = 12\n",
    "for iter_p1 in range(1,n+1):\n",
    "    if iter_p1%6 == 0:\n",
    "        counter = \"foo\"\n",
    "        print(str(iter_p1) + \" \"+ counter)\n",
    "    elif iter_p1%3 == 0:\n",
    "        counter = \"fuzz\"\n",
    "        print(str(iter_p1) + \" \"+ counter)\n",
    "    elif iter_p1%2 == 0:\n",
    "        counter = \"fizz\"\n",
    "        print(str(iter_p1) + \" \"+ counter)\n",
    "    else:\n",
    "        counter =\"\"\n",
    "        print(str(iter_p1) + \" \"+ counter)"
   ]
  },
  {
   "cell_type": "code",
   "execution_count": 19,
   "metadata": {},
   "outputs": [],
   "source": [
    "L1 = range(-5,10 + 1)\n",
    "L2 = range(-10,12+1)\n",
    "liz = [i for i in L1 if i in L2]"
   ]
  },
  {
   "cell_type": "code",
   "execution_count": 25,
   "metadata": {},
   "outputs": [
    {
     "data": {
      "text/plain": [
       "'No overlap!'"
      ]
     },
     "execution_count": 25,
     "metadata": {},
     "output_type": "execute_result"
    }
   ],
   "source": [
    "def overlap_interval(start1,end1,start2,end2):\n",
    "    interval_1 = range(start1,end1+1)\n",
    "    interval_2 = range(start2,end2+1)\n",
    "    \n",
    "    list_of_overlap_vals = [i for i in interval_1 if i in interval_2]\n",
    "    \n",
    "    if len(list_of_overlap_vals) != 0:\n",
    "        return f\"{list_of_overlap_vals[0]} {list_of_overlap_vals[-1]}\"\n",
    "    else:\n",
    "        return \"No overlap!\"\n",
    "overlap_interval(-5,10,11,12)"
   ]
  },
  {
   "cell_type": "code",
   "execution_count": 29,
   "metadata": {},
   "outputs": [
    {
     "name": "stdout",
     "output_type": "stream",
     "text": [
      "final answer : 0.05480366514878953\n",
      "k: 4\n"
     ]
    }
   ],
   "source": [
    "from math import factorial\n",
    "from numpy import pi\n",
    "x = pi \n",
    "deg = x\n",
    "\n",
    "\n",
    "infinity = 1\n",
    "\n",
    "k=0\n",
    "\n",
    "rad = deg*(x/180)\n",
    "\n",
    "numerator = (-1)**k\n",
    "denominator = factorial((2*k)+1)\n",
    "\n",
    "term2 = rad**((2*k)+1)\n",
    "\n",
    "answer_p6 = (numerator/denominator)*term2\n",
    "\n",
    "while infinity == 1:\n",
    "    k=k+1\n",
    "    term = (((-1)**(k))/factorial(((2*k)+1)))*(rad**((2*k)+1))\n",
    "    answer_p6 = answer_p6 + term\n",
    "    \n",
    "    absolute = abs(term)\n",
    "    \n",
    "    if absolute < 1e-15:\n",
    "        break\n",
    "\n",
    "print(f\"final answer : {answer_p6}\")\n",
    "print(\"k:\",k)"
   ]
  },
  {
   "cell_type": "code",
   "execution_count": 31,
   "metadata": {},
   "outputs": [
    {
     "name": "stdout",
     "output_type": "stream",
     "text": [
      "ap3: 1.0\n",
      "final answer : -1.000000000000001\n",
      "k: 14\n"
     ]
    }
   ],
   "source": [
    "from math import factorial\n",
    "from numpy import pi\n",
    "def cosine(theta):\n",
    "    \"\"\"Return cosine of theta using Maclaurin's approximation\n",
    "    \n",
    "    Parameters\n",
    "    ----------\n",
    "    theta : float\n",
    "        Value to compute cosine of, in radians\n",
    "        \n",
    "    Returns\n",
    "    -------\n",
    "    cos_theta : float\n",
    "        Cosine of theta\n",
    "    \"\"\"\n",
    "\n",
    "\n",
    "\n",
    "\n",
    "    cond_var = 1\n",
    "\n",
    "    k=0\n",
    "\n",
    "    numerator = (-1)**k\n",
    "    denominator = factorial((2*k))\n",
    "\n",
    "    term2 = theta**(2*k)\n",
    "\n",
    "    answer_p3 = (numerator/denominator)*term2\n",
    "    print(\"ap3:\",answer_p3)\n",
    "    while cond_var == 1:\n",
    "        k=k+1\n",
    "        term = (((-1)**(k))/factorial((2*k)))*(theta**((2*k)))\n",
    "#         term = (numerator/denominator)*term2\n",
    "        answer_p3 = answer_p3 + term\n",
    "\n",
    "        absolute = abs(term)\n",
    "\n",
    "        if absolute < 1e-15:\n",
    "            break\n",
    "\n",
    "    print(f\"final answer : {answer_p3}\")\n",
    "    print(\"k:\",k)\n",
    "\n",
    "cosine(pi)"
   ]
  },
  {
   "cell_type": "code",
   "execution_count": 45,
   "metadata": {},
   "outputs": [
    {
     "name": "stdout",
     "output_type": "stream",
     "text": [
      "[1, 2, 4] [1, 2]\n"
     ]
    },
    {
     "data": {
      "text/plain": [
       "2"
      ]
     },
     "execution_count": 45,
     "metadata": {},
     "output_type": "execute_result"
    }
   ],
   "source": [
    "x = 4\n",
    "y = 2\n",
    "\n",
    "range_x = range(1,x+1)\n",
    "range_y = range(1, y+1)\n",
    "divisor_list_x = []\n",
    "divisor_list_y = []\n",
    "for x_iter in range_x:\n",
    "    if x%x_iter == 0 :\n",
    "        divisor_list_x.append(x_iter)\n",
    "for y_iter in range_y:\n",
    "    if y%y_iter == 0 :\n",
    "        divisor_list_y.append(y_iter)\n",
    "print(divisor_list_x,divisor_list_y)\n",
    "\n",
    "com_div = [i for i in divisor_list_x if i in divisor_list_y]\n",
    "\n",
    "gcd = max(com_div)\n",
    "gcd"
   ]
  },
  {
   "cell_type": "code",
   "execution_count": 87,
   "metadata": {},
   "outputs": [
    {
     "data": {
      "text/plain": [
       "8"
      ]
     },
     "execution_count": 87,
     "metadata": {},
     "output_type": "execute_result"
    }
   ],
   "source": [
    "\n",
    "\n",
    "def biased_sum(*nums, base=2):\n",
    "    \n",
    "    total = 0\n",
    "    if len(nums) != 0:\n",
    "        for iter_p5 in nums:\n",
    "            if iter_p5%base == 0:\n",
    "                iter_p5 = iter_p5*2\n",
    "                total = total +iter_p5\n",
    "            else:\n",
    "                total = total + iter_p5\n",
    "        return total\n",
    "    else:\n",
    "        \n",
    "        return print(None) \n",
    "    \n",
    "biased_sum(1,2,3)"
   ]
  },
  {
   "cell_type": "code",
   "execution_count": 110,
   "metadata": {},
   "outputs": [
    {
     "name": "stdout",
     "output_type": "stream",
     "text": [
      "['1', '2', '3', '4', '5', '9']\n"
     ]
    }
   ],
   "source": [
    "def last_in_sequence(string_p6):\n",
    "    set_str = set(string_p6)\n",
    "    sorted_set_str = sorted(set_str)\n",
    "    print(sorted_set_str)\n",
    "    if sorted_set_str[0] == '0' and sorted_set_str[-1] == '9':\n",
    "        return int(string_p6[-1])\n",
    "    else:\n",
    "        return None\n",
    "last_in_sequence('1912251324')"
   ]
  },
  {
   "cell_type": "code",
   "execution_count": 118,
   "metadata": {},
   "outputs": [
    {
     "data": {
      "text/plain": [
       "False"
      ]
     },
     "execution_count": 118,
     "metadata": {},
     "output_type": "execute_result"
    }
   ],
   "source": [
    "def check_password(password):\n",
    "    count_lower = 0\n",
    "    count_upper = 0\n",
    "    count_int = 0\n",
    "    for lowerc_iter in password:\n",
    "        if lowerc_iter.islower() == True:\n",
    "            count_lower = count_lower + 1\n",
    "        else:\n",
    "            if lowerc_iter.isupper() == True:\n",
    "                count_upper = count_upper+1\n",
    "            else:\n",
    "                count_int = count_int + 1\n",
    "    if len(password) < 8:\n",
    "        return False\n",
    "    elif count_lower >= 1 and count_upper >= 1 and count_int >= 1:\n",
    "        return True\n",
    "    else:\n",
    "        return False\n",
    "check_password('12345ABC')"
   ]
  },
  {
   "cell_type": "code",
   "execution_count": 125,
   "metadata": {},
   "outputs": [
    {
     "name": "stdout",
     "output_type": "stream",
     "text": [
      "pt: abba\n"
     ]
    },
    {
     "data": {
      "text/plain": [
       "True"
      ]
     },
     "execution_count": 125,
     "metadata": {},
     "output_type": "execute_result"
    }
   ],
   "source": [
    "text = 'ab cd'\n",
    "def is_palindrome(text):\n",
    "    li_no_space = text.split(\" \")\n",
    "\n",
    "    word=\"\"\n",
    "    for iter_p8 in li_no_space:\n",
    "        word = word + iter_p8\n",
    "    processed_text = word\n",
    "    \n",
    "    print(\"pt:\", processed_text)\n",
    "    if processed_text[::-1] == processed_text:\n",
    "        return True\n",
    "\n",
    "    else:\n",
    "        return False\n",
    "is_palindrome(' ab ba')"
   ]
  },
  {
   "cell_type": "code",
   "execution_count": 41,
   "metadata": {},
   "outputs": [
    {
     "name": "stdout",
     "output_type": "stream",
     "text": [
      "|****|    \n"
     ]
    }
   ],
   "source": [
    "def X_create_squares(tiles,stars):\n",
    "    top_BT = \"+\" + \"-\"*stars\n",
    "    final_top_BT = top_BT*tiles+\"+\\n\"\n",
    "    \n",
    "    tile_filled = \"|\" + \"*\"*stars\n",
    "    tile_nofill = \"|\" + \" \"*stars\n",
    "    left_fill = tile_filled+tile_nofill\n",
    "    fill_1_3 = left_fill*int((tiles/2))\n",
    "    \n",
    "    row_1_3_fill = (fill_1_3 + \"|\\n\")*stars\n",
    "    \n",
    "    #for rows with 2_4 fills\n",
    "    right_fill = tile_nofill + tile_filled\n",
    "    fill_2_4 = right_fill*int((tiles/2))\n",
    "    row_2_4_fill = (fill_2_4 + \"|\\n\")*stars\n",
    "    \n",
    "    complete_1_3_rows = final_top_BT + row_1_3_fill \n",
    "    \n",
    "    complete_2_4_rows =  final_top_BT + row_2_4_fill\n",
    "    grids = \"\"\n",
    "    for iter_p10 in range(1,tiles+1):\n",
    "        if iter_p10%2 == 0:\n",
    "            row_type = complete_2_4_rows\n",
    "        else:\n",
    "            row_type = complete_1_3_rows\n",
    "            \n",
    "        grids = grids + row_type   \n",
    "    whole_grid = grids + final_top_BT\n",
    "    return print(fill_1_3)\n",
    "   \n",
    "X_create_squares(2,4)    "
   ]
  },
  {
   "cell_type": "code",
   "execution_count": 7,
   "metadata": {},
   "outputs": [
    {
     "ename": "SyntaxError",
     "evalue": "invalid syntax (<ipython-input-7-d597e9344c27>, line 1)",
     "output_type": "error",
     "traceback": [
      "\u001b[1;36m  File \u001b[1;32m\"<ipython-input-7-d597e9344c27>\"\u001b[1;36m, line \u001b[1;32m1\u001b[0m\n\u001b[1;33m    for i in range(5,,-1):\u001b[0m\n\u001b[1;37m                     ^\u001b[0m\n\u001b[1;31mSyntaxError\u001b[0m\u001b[1;31m:\u001b[0m invalid syntax\n"
     ]
    }
   ],
   "source": [
    "for i in range:\n",
    "    print(i)"
   ]
  },
  {
   "cell_type": "code",
   "execution_count": 64,
   "metadata": {},
   "outputs": [
    {
     "name": "stdout",
     "output_type": "stream",
     "text": [
      "|  |**|  |\n",
      "\n"
     ]
    }
   ],
   "source": [
    "def squares(tiles,stars):\n",
    "   \n",
    "    multi_bord = \"\"\n",
    "    for i_bord in range(tiles):\n",
    "        \n",
    "        hori_border = \"+\" + \"-\"*stars\n",
    "        multi_bord = multi_bord + hori_border\n",
    "    final_bord = multi_bord + \"+\\n\"      #+--+--+--+\n",
    "    \n",
    "    row_odd = \"\"\n",
    "    for i_row_odd in range(1,tiles+1):\n",
    "        if i_row_odd%2 == 0:\n",
    "            tile_filling = \"|\" + \" \"*stars\n",
    "        else:\n",
    "            tile_filling = \"|\" + \"*\"*stars\n",
    "        \n",
    "        row_odd = row_odd + tile_filling\n",
    "    final_row_odd = row_odd + \"|\\n\"       #|**|  |**|\n",
    "    \n",
    "    row_even=\"\"\n",
    "    for i_row_even in range(1,tiles+1):\n",
    "        if i_row_even%2 == 0:\n",
    "            tile_filling = \"|\" + \"*\"*stars\n",
    "        else:\n",
    "            tile_filling = \"|\" + \" \"*stars\n",
    "        \n",
    "        row_even = row_even + tile_filling\n",
    "    final_row_even = row_even + \"|\\n\"       #|  |**|  |\n",
    "\n",
    "    grid_row = \"\"\n",
    "    for i_height in range(0,1+(tiles*tiles)):\n",
    "        \n",
    "        if i_height in [::tiles]:\n",
    "            grid_row = grid_row + final_bord\n",
    "        elif i_height\n",
    "    \n",
    "#     row_tile_filled = hori_border + tile_filled*stars \n",
    "#     row_tile_empty = hori_border + tile_empty*stars\n",
    "    \n",
    "    return print(final_row_even)\n",
    "squares(3,2)        "
   ]
  },
  {
   "cell_type": "code",
   "execution_count": 80,
   "metadata": {},
   "outputs": [
    {
     "data": {
      "text/plain": [
       "[0, 3, 6, 9]"
      ]
     },
     "execution_count": 80,
     "metadata": {},
     "output_type": "execute_result"
    }
   ],
   "source": [
    "r = range(0,10)\n",
    "\n",
    "z = list(r[::3])\n",
    "z"
   ]
  },
  {
   "cell_type": "code",
   "execution_count": 85,
   "metadata": {},
   "outputs": [
    {
     "data": {
      "text/plain": [
       "[1, 2, 4, 5, 7, 8]"
      ]
     },
     "execution_count": 85,
     "metadata": {},
     "output_type": "execute_result"
    }
   ],
   "source": [
    "aa = [e for e in r if e not in z]\n",
    "aa"
   ]
  },
  {
   "cell_type": "code",
   "execution_count": 90,
   "metadata": {},
   "outputs": [
    {
     "data": {
      "text/plain": [
       "[1, 2]"
      ]
     },
     "execution_count": 90,
     "metadata": {},
     "output_type": "execute_result"
    }
   ],
   "source": [
    "aa[:2]"
   ]
  },
  {
   "cell_type": "code",
   "execution_count": 94,
   "metadata": {},
   "outputs": [
    {
     "data": {
      "text/plain": [
       "[[1, 2], [7, 8]]"
      ]
     },
     "execution_count": 94,
     "metadata": {},
     "output_type": "execute_result"
    }
   ],
   "source": [
    "subList = [aa[n:n+2] for n in range(0, len(aa), 2)]\n",
    "subList[::2]"
   ]
  },
  {
   "cell_type": "code",
   "execution_count": 95,
   "metadata": {},
   "outputs": [
    {
     "data": {
      "text/plain": [
       "False"
      ]
     },
     "execution_count": 95,
     "metadata": {},
     "output_type": "execute_result"
    }
   ],
   "source": [
    "1 in subList[::]"
   ]
  },
  {
   "cell_type": "code",
   "execution_count": 104,
   "metadata": {},
   "outputs": [
    {
     "name": "stdout",
     "output_type": "stream",
     "text": [
      "|**|  |**|\n",
      "|**|  |**|\n",
      "|**|  |**|\n",
      "|**|  |**|\n",
      "|**|  |**|\n",
      "|**|  |**|\n",
      "|**|  |**|\n",
      "|**|  |**|\n",
      "|**|  |**|\n",
      "|**|  |**|\n",
      "|**|  |**|\n",
      "|**|  |**|\n",
      "|**|  |**|\n",
      "|**|  |**|\n",
      "|**|  |**|\n",
      "|**|  |**|\n",
      "|**|  |**|\n",
      "|**|  |**|\n",
      "|**|  |**|\n",
      "|**|  |**|\n"
     ]
    }
   ],
   "source": [
    "w1 = 0\n",
    "\n",
    "ti = 3\n",
    "st = 2\n",
    "\n",
    "r = range(0,(ti*ti)+1)\n",
    "z =  list(r[::ti])\n",
    "finished =\"\"\n",
    "while w1 <= (ti*ti)+1:\n",
    "    if w1 in z:\n",
    "        add = \"+--+--+--+\\n\"\n",
    "        finished = finished + add\n",
    "    else:\n",
    "        t_f = True\n",
    "        count = 0\n",
    "        while t_f == True and count < 2:\n",
    "            add = \"|**|  |**|\"\n",
    "            finished = finished + add\n",
    "            count += 1\n",
    "            if count\n",
    "    w1 += 1"
   ]
  }
 ],
 "metadata": {
  "kernelspec": {
   "display_name": "Python 3",
   "language": "python",
   "name": "python3"
  },
  "language_info": {
   "codemirror_mode": {
    "name": "ipython",
    "version": 3
   },
   "file_extension": ".py",
   "mimetype": "text/x-python",
   "name": "python",
   "nbconvert_exporter": "python",
   "pygments_lexer": "ipython3",
   "version": "3.7.7"
  }
 },
 "nbformat": 4,
 "nbformat_minor": 4
}
