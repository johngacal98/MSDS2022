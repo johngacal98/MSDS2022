{
 "cells": [
  {
   "cell_type": "code",
   "execution_count": 38,
   "metadata": {
    "scrolled": true
   },
   "outputs": [
    {
     "ename": "SyntaxError",
     "evalue": "invalid syntax (<ipython-input-38-91b41bcffa68>, line 12)",
     "output_type": "error",
     "traceback": [
      "\u001b[1;36m  File \u001b[1;32m\"<ipython-input-38-91b41bcffa68>\"\u001b[1;36m, line \u001b[1;32m12\u001b[0m\n\u001b[1;33m    dict_2 = {**dict1 | **dict_3}\u001b[0m\n\u001b[1;37m                         ^\u001b[0m\n\u001b[1;31mSyntaxError\u001b[0m\u001b[1;31m:\u001b[0m invalid syntax\n"
     ]
    }
   ],
   "source": [
    "dict_1 = {'firstkey':(1,2,3),\n",
    "         'second key':(4,5,6),\n",
    "        'third key':{'d2_first':('a','b','c'),\n",
    "                    'd2_second':('d','e','f'),\n",
    "                    'd2_third':('g','h','i')}}\n",
    "\n",
    "li = zip(['firstkey','second key',3],['a','b','c'])\n",
    "\n",
    "dict_3 = {l:i for (l,i) in li }\n",
    "dict_3\n",
    "\n",
    "dict_2 = {**dict1 | **dict_3}\n",
    "dict_2"
   ]
  },
  {
   "cell_type": "code",
   "execution_count": null,
   "metadata": {},
   "outputs": [],
   "source": [
    "import pandas as pd\n",
    "\n",
    "df = pd.DataFrame(dict_)\n",
    "df"
   ]
  },
  {
   "cell_type": "code",
   "execution_count": 39,
   "metadata": {},
   "outputs": [
    {
     "data": {
      "text/plain": [
       "{'first': (1, 2, 3), 'second': (4, 5, 6)}"
      ]
     },
     "execution_count": 39,
     "metadata": {},
     "output_type": "execute_result"
    }
   ],
   "source": [
    "a=['first','second']\n",
    "b=[(1,2,3),(4,5,6)]\n",
    "\n",
    "z = zip(a,b)\n",
    "dict(z)"
   ]
  },
  {
   "cell_type": "code",
   "execution_count": 44,
   "metadata": {},
   "outputs": [
    {
     "data": {
      "text/plain": [
       "[0, 3]"
      ]
     },
     "execution_count": 44,
     "metadata": {},
     "output_type": "execute_result"
    }
   ],
   "source": [
    "a = [0,3,5]\n",
    "a.remove(5)\n",
    "a"
   ]
  },
  {
   "cell_type": "code",
   "execution_count": 53,
   "metadata": {},
   "outputs": [
    {
     "data": {
      "text/plain": [
       "{'b': 7,\n",
       " 'r': 15,\n",
       " 'f': 8,\n",
       " '-': 1,\n",
       " 'c': 4,\n",
       " ' ': 48,\n",
       " 'm': 9,\n",
       " 'o': 16,\n",
       " 't': 10,\n",
       " ',': 4,\n",
       " 'k': 3,\n",
       " 'n': 15,\n",
       " 'S': 1,\n",
       " 'l': 13,\n",
       " 'v': 2,\n",
       " '.': 2,\n",
       " 's': 14,\n",
       " 'i': 20,\n",
       " 'O': 1,\n",
       " 'H': 1,\n",
       " 'a': 13,\n",
       " 'u': 4,\n",
       " 'G': 1,\n",
       " 'g': 3,\n",
       " 'd': 15,\n",
       " 'e': 26,\n",
       " 'y': 4,\n",
       " 'w': 3,\n",
       " 'h': 13}"
      ]
     },
     "execution_count": 53,
     "metadata": {},
     "output_type": "execute_result"
    }
   ],
   "source": [
    "text = \"\"\"One morning, when Gregor Samsa woke from troubled dreams, he found himself transformed in his bed into a horrible vermin. He lay on his armour-like back, and if he lifted his head a little he could see his brown belly, slightly domed and divided by arches into stiff sections.\"\"\"\n",
    "\n",
    "set_text = set(text)\n",
    "letter =[]\n",
    "letter_count = []\n",
    "for tx in set_text:\n",
    "    letter.append(tx)\n",
    "    letter_count.append(text.count(tx))\n",
    "\n",
    "\n",
    "dictionary = dict(zip(letter,letter_count))\n",
    "dictionary"
   ]
  },
  {
   "cell_type": "code",
   "execution_count": 67,
   "metadata": {},
   "outputs": [
    {
     "data": {
      "text/plain": [
       "[0, 1, 2, 3, 4, 5, 6]"
      ]
     },
     "execution_count": 67,
     "metadata": {},
     "output_type": "execute_result"
    }
   ],
   "source": [
    "from functools import reduce\n",
    "nums = range(7)\n",
    "result = reduce(lambda x,y : x + [y], nums , [])\n",
    "result"
   ]
  }
 ],
 "metadata": {
  "kernelspec": {
   "display_name": "Python 3",
   "language": "python",
   "name": "python3"
  },
  "language_info": {
   "codemirror_mode": {
    "name": "ipython",
    "version": 3
   },
   "file_extension": ".py",
   "mimetype": "text/x-python",
   "name": "python",
   "nbconvert_exporter": "python",
   "pygments_lexer": "ipython3",
   "version": "3.7.7"
  }
 },
 "nbformat": 4,
 "nbformat_minor": 4
}
