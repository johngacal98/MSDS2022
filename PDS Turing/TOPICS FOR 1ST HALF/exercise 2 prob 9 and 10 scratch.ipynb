{
 "cells": [
  {
   "cell_type": "code",
   "execution_count": 1,
   "metadata": {},
   "outputs": [
    {
     "data": {
      "text/plain": [
       "{'foo': 1,\n",
       " 'bar': {'fee': 'eenie',\n",
       "  'fi': 'meenie',\n",
       "  'fo': 'minnie',\n",
       "  'fum': {'mo': 'lover'},\n",
       "  'baz': {1: 'potato', 2: 'potatoes', 3: 'potatoes'}}}"
      ]
     },
     "execution_count": 1,
     "metadata": {},
     "output_type": "execute_result"
    }
   ],
   "source": [
    "mother_dict = {\n",
    "    'foo': 1,\n",
    "    'bar': {\n",
    "        'fee': 'eenie',\n",
    "        'fi': 'meenie',\n",
    "        'fo': 'minnie',\n",
    "        'fum': {\n",
    "            'mo': 'lover'\n",
    "        },\n",
    "    'baz':\n",
    "        {\n",
    "            1: 'potato',\n",
    "            2: 'potatoes',\n",
    "            3: 'potatoes'\n",
    "        }\n",
    "    }\n",
    "    }\n",
    "mother_dict"
   ]
  },
  {
   "cell_type": "code",
   "execution_count": 95,
   "metadata": {},
   "outputs": [
    {
     "name": "stdout",
     "output_type": "stream",
     "text": [
      "bar:\n",
      "  baz:\n",
      "    1: potato\n",
      "    2: potatoes\n",
      "    3: potatoes\n",
      "  fee: eenie\n",
      "  fi: meenie\n",
      "  fo: minnie\n",
      "  fum:\n",
      "    mo: lover\n",
      "foo: 1\n",
      "\n"
     ]
    }
   ],
   "source": [
    "\n",
    "def recurs(dict_):\n",
    "    \n",
    "    def level(dict_, lev=0):\n",
    "        keys = dict_.keys()\n",
    "        key_types = [type(dict_[i]) for i in keys]\n",
    "\n",
    "        sorted_keys = sorted(keys)\n",
    "        output = ''\n",
    "\n",
    "        for srt_ks in sorted_keys:\n",
    "\n",
    "            if type(dict_[srt_ks]) is dict:\n",
    "                \n",
    "                   \n",
    "                output = output+ '  '*lev  + str(srt_ks) +\":\\n\" + level(dict_[srt_ks], lev=lev+1)\n",
    "            else: \n",
    "                \n",
    "                output =  output+ '  '*lev  + str(srt_ks) + ': ' + str(dict_[srt_ks]) + '\\n'\n",
    "                \n",
    "                \n",
    "        return output\n",
    "    \n",
    "    return level(dict_)\n",
    "\n",
    "print(recurs(mother_dict))   "
   ]
  },
  {
   "cell_type": "code",
   "execution_count": 2,
   "metadata": {},
   "outputs": [
    {
     "data": {
      "text/plain": [
       "{'a': {'a1': {'aa1': 'bar', 'aa2': 'baz'}, 'a2': 'bazbar', 'a3': 0},\n",
       " 'b': 1,\n",
       " 'c': {'c1': 'eenie',\n",
       "  'c2': {'x': 'meenie', 'y': 'minnie', 'z': 'mo'},\n",
       "  'c3': 'lover'}}"
      ]
     },
     "execution_count": 2,
     "metadata": {},
     "output_type": "execute_result"
    }
   ],
   "source": [
    "#p10\n",
    "def get_nested_key_value(d,k_input):\n",
    "    \n",
    "    k_input_spl = k_input.split('.')\n",
    "    \n",
    "    cumul = d\n",
    "    \n",
    "    for i_kis in range(len(k_input_spl)):\n",
    "        \n",
    "        \n",
    "            \n",
    "        cumul = cumul[k_input_spl[i_kis]]\n",
    "\n",
    "\n",
    "        try:\n",
    "            test = cumul[k_input_spl[i_kis+1]]\n",
    "        \n",
    "        except:\n",
    "\n",
    "            break\n",
    "        \n",
    "        \n",
    "            \n",
    "    return cumul\n",
    "    \n",
    "    \n",
    "     \n",
    "\n",
    "k_input = 'a.a1.aa2'\n",
    "get_nested_key_value(d,k_input)"
   ]
  },
  {
   "cell_type": "code",
   "execution_count": 101,
   "metadata": {},
   "outputs": [],
   "source": [
    "nested_dict = {\n",
    "    'a': {\n",
    "        'a1': {\n",
    "            'aa1': 'bar',\n",
    "            'aa2': 'baz'\n",
    "        },\n",
    "        'a2': 'bazbar',\n",
    "        'a3': 0\n",
    "    },\n",
    "    'b': 1,\n",
    "    'c': {\n",
    "        'c1': 'eenie',\n",
    "        'c2': {\n",
    "            'x': 'meenie',\n",
    "            'y': 'minnie',\n",
    "            'z': 'mo'\n",
    "        },\n",
    "        'c3': 'lover'\n",
    "    }\n",
    "}"
   ]
  }
 ],
 "metadata": {
  "kernelspec": {
   "display_name": "Python 3",
   "language": "python",
   "name": "python3"
  },
  "language_info": {
   "codemirror_mode": {
    "name": "ipython",
    "version": 3
   },
   "file_extension": ".py",
   "mimetype": "text/x-python",
   "name": "python",
   "nbconvert_exporter": "python",
   "pygments_lexer": "ipython3",
   "version": "3.7.7"
  }
 },
 "nbformat": 4,
 "nbformat_minor": 4
}
