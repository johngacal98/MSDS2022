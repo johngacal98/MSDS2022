{
 "cells": [
  {
   "cell_type": "code",
   "execution_count": 13,
   "metadata": {},
   "outputs": [
    {
     "data": {
      "text/plain": [
       "Counter({'a': 1, 'b': 1, 'c': 1, 'd': 1, 'e': 1})"
      ]
     },
     "execution_count": 13,
     "metadata": {},
     "output_type": "execute_result"
    }
   ],
   "source": [
    "from collections import Counter\n",
    "x = Counter(list(\"abcde\"))\n",
    "y = Counter(\"abcde\")\n",
    "y"
   ]
  },
  {
   "cell_type": "code",
   "execution_count": 2,
   "metadata": {},
   "outputs": [
    {
     "name": "stdout",
     "output_type": "stream",
     "text": [
      "0\n",
      "1\n",
      "2\n",
      "3\n",
      "4\n",
      "5\n",
      "6\n",
      "7\n",
      "8\n",
      "9\n"
     ]
    }
   ],
   "source": [
    "a = range(10)\n",
    "for b in a: #correction : lacking ':' in for loop\n",
    "    print(b)"
   ]
  },
  {
   "cell_type": "code",
   "execution_count": 14,
   "metadata": {},
   "outputs": [
    {
     "name": "stdout",
     "output_type": "stream",
     "text": [
      "bar\n"
     ]
    }
   ],
   "source": [
    "foo = False #correction: insert this line; defines foo as False\n",
    "if foo:\n",
    "    print('foo')\n",
    "else:\n",
    "    print('bar')"
   ]
  },
  {
   "cell_type": "code",
   "execution_count": 24,
   "metadata": {},
   "outputs": [
    {
     "name": "stdout",
     "output_type": "stream",
     "text": [
      "a\n",
      "b\n",
      "c\n",
      "d\n",
      "e\n"
     ]
    }
   ],
   "source": [
    "a = ['a','b','c','d','e']\n",
    "b = 0\n",
    "while b<=4: #correction: change >5 into <=4\n",
    "    print(a[b])\n",
    "    b += 1"
   ]
  },
  {
   "cell_type": "code",
   "execution_count": 9,
   "metadata": {},
   "outputs": [
    {
     "name": "stdout",
     "output_type": "stream",
     "text": [
      "\n",
      "*\n",
      "**\n",
      "***\n",
      "****\n",
      "*****\n",
      "******\n",
      "*******\n",
      "********\n",
      "*********\n"
     ]
    }
   ],
   "source": [
    "i = 0\n",
    "while True:\n",
    "    if i < 10:\n",
    "        print('*'*i)\n",
    "    else:\n",
    "        break\n",
    "    i += 1"
   ]
  },
  {
   "cell_type": "code",
   "execution_count": 36,
   "metadata": {},
   "outputs": [
    {
     "name": "stdout",
     "output_type": "stream",
     "text": [
      "0 6\n",
      "ping\n",
      "1 7\n",
      "ping\n",
      "2 9\n",
      "ping\n",
      "3 9\n",
      "ping\n",
      "4 9\n",
      "ping\n",
      "5 4\n",
      "pong\n",
      "6 8\n",
      "ping\n",
      "7 0\n",
      "pong\n",
      "8 8\n",
      "ping\n",
      "9 5\n",
      "pong\n"
     ]
    }
   ],
   "source": [
    "import numpy\n",
    "for a in range(10):\n",
    "    b = numpy.random.randint(10)\n",
    "    print(a,b)\n",
    "    if b > 5: #correction: change <= 5 to > 5\n",
    "        print('ping')\n",
    "    else:\n",
    "        print('pong')"
   ]
  },
  {
   "cell_type": "code",
   "execution_count": 39,
   "metadata": {},
   "outputs": [
    {
     "data": {
      "text/plain": [
       "32"
      ]
     },
     "execution_count": 39,
     "metadata": {},
     "output_type": "execute_result"
    }
   ],
   "source": [
    "def dot(a,b):\n",
    "    if len(a) != len(b):\n",
    "        raise ValueError()\n",
    "    total = 0\n",
    "    for i in range(len(a)): #correction: replace len(a) to range(len(a))\n",
    "        total += a[i] * b[i]\n",
    "    return total\n",
    "dot([1,2,3],[4,5,6])"
   ]
  },
  {
   "cell_type": "markdown",
   "metadata": {},
   "source": [
    "OUTPUT PART"
   ]
  },
  {
   "cell_type": "code",
   "execution_count": null,
   "metadata": {},
   "outputs": [],
   "source": [
    "'''foo\n",
    "foo\n",
    "foo\n",
    "\n",
    "1.5\n",
    "4\n",
    "0.5\n",
    "'''"
   ]
  },
  {
   "cell_type": "code",
   "execution_count": 42,
   "metadata": {},
   "outputs": [
    {
     "name": "stdout",
     "output_type": "stream",
     "text": [
      "foo\n",
      "foo\n",
      "foo\n",
      "\n",
      "1.5\n",
      "4\n",
      "0.5\n"
     ]
    }
   ],
   "source": [
    "print('foo')\n",
    "x = 'foo\\n'\n",
    "print(x*2)\n",
    "print(3/2)\n",
    "print(len(x))\n",
    "y=[]\n",
    "if y:\n",
    "    print('if y')\n",
    "else:\n",
    "    print((5%3)/4.0)"
   ]
  },
  {
   "cell_type": "code",
   "execution_count": null,
   "metadata": {},
   "outputs": [],
   "source": [
    "'''0\n",
    "01\n",
    "012\n",
    "0123\n",
    "01234''' #wrong"
   ]
  },
  {
   "cell_type": "code",
   "execution_count": 44,
   "metadata": {},
   "outputs": [
    {
     "name": "stdout",
     "output_type": "stream",
     "text": [
      "01234\n",
      "0123\n",
      "012\n",
      "01\n",
      "0\n"
     ]
    }
   ],
   "source": [
    "a = 5\n",
    "while a > 0:\n",
    "    c = ''\n",
    "    for b in range(a):\n",
    "        c = c + str(b)\n",
    "    print(c)\n",
    "    a -= 1"
   ]
  },
  {
   "cell_type": "code",
   "execution_count": 46,
   "metadata": {},
   "outputs": [
    {
     "name": "stdout",
     "output_type": "stream",
     "text": [
      "<\n",
      "<\n",
      "<\n",
      "=\n",
      ">\n",
      "foo\n",
      "bar\n",
      "foo\n",
      "foo\n"
     ]
    }
   ],
   "source": [
    "'''<\n",
    "<\n",
    "<\n",
    "=\n",
    ">\n",
    "foo\n",
    "bar\n",
    "foo\n",
    "foo'''\n",
    "for a in range(10):\n",
    "    if a < 5:\n",
    "        if a < 3:\n",
    "            print('<')\n",
    "        elif a == 3:\n",
    "            print('=')\n",
    "        else:\n",
    "            print('>')\n",
    "    else:\n",
    "        if a >= 7:\n",
    "            print('foo')\n",
    "        if (a < 8) and (a > 6):\n",
    "            print('bar')"
   ]
  },
  {
   "cell_type": "code",
   "execution_count": null,
   "metadata": {},
   "outputs": [],
   "source": [
    "''''''"
   ]
  },
  {
   "cell_type": "code",
   "execution_count": 102,
   "metadata": {},
   "outputs": [
    {
     "name": "stdout",
     "output_type": "stream",
     "text": [
      "[]\n",
      "[0]\n",
      "[0, 1]\n",
      "[0, 2]\n",
      "[0, 1, 2, 3]\n",
      "[0, 2, 4]\n",
      "[0, 1, 2, 3, 4, 5]\n",
      "[0, 2, 4, 6]\n",
      "[0, 1, 2, 3, 4, 5, 6, 7]\n",
      "[0, 2, 4, 6, 8]\n"
     ]
    }
   ],
   "source": [
    "a = range(10)\n",
    "a = [i for i in range(10)]\n",
    "for b in a:\n",
    "    print(a[:b:(b%2)+1])\n",
    "# print(a)"
   ]
  },
  {
   "cell_type": "code",
   "execution_count": 152,
   "metadata": {},
   "outputs": [
    {
     "name": "stdout",
     "output_type": "stream",
     "text": [
      "I'm just a poor boy nobody loves me\n",
      "He's just a poor boy from a poor family"
     ]
    },
    {
     "data": {
      "text/plain": [
       "(None, None, None, None, None, None, None, None, None, None, None, None)"
      ]
     },
     "execution_count": 152,
     "metadata": {},
     "output_type": "execute_result"
    }
   ],
   "source": [
    "def f(a=True, b=0, c=''):\n",
    "    x = [\"I'm just a\", \"poor boy\", \"nobody loves me\", \"He's just a\"]\n",
    "    if c:\n",
    "        if c.lower().find('poor boy') == -1:\n",
    "            z = c\n",
    "    else:\n",
    "        z = x[b]\n",
    "    if a:\n",
    "        print(z)\n",
    "    else:\n",
    "        print(z, end='')\n",
    "\n",
    "f(False),f(False,b,' '),f(False,1,''),f(False,b,' '), f(True,2), f(False,3), \\\n",
    "f(False,b,' '), f(False,1,''),f(False,b,' '),f(False,b,'from a'),\\\n",
    "f(False,b,' '),f(False,b,'poor family')"
   ]
  },
  {
   "cell_type": "code",
   "execution_count": 158,
   "metadata": {},
   "outputs": [
    {
     "data": {
      "text/plain": [
       "[[1, 2], [2, 2], [3, 2], [4, 2], [5, 2]]"
      ]
     },
     "execution_count": 158,
     "metadata": {},
     "output_type": "execute_result"
    }
   ],
   "source": [
    "#got it right the first time good job\n",
    "def itemfreq(a):\n",
    "    set_a = list(set(a))\n",
    "    \n",
    "    output = [[i,a.count(i)] for i in set_a]\n",
    "    sorted_out = sorted(output, key=lambda x: x[0])\n",
    "    \n",
    "    return sorted_out\n",
    "\n",
    "itemfreq([1,1,2,2,4,5,3,4,5,3])\n",
    "    "
   ]
  },
  {
   "cell_type": "markdown",
   "metadata": {},
   "source": [
    "MULTIPLE CHOICE PART"
   ]
  },
  {
   "cell_type": "code",
   "execution_count": 159,
   "metadata": {},
   "outputs": [
    {
     "data": {
      "text/plain": [
       "3.0"
      ]
     },
     "execution_count": 159,
     "metadata": {},
     "output_type": "execute_result"
    }
   ],
   "source": []
  }
 ],
 "metadata": {
  "kernelspec": {
   "display_name": "Python 3",
   "language": "python",
   "name": "python3"
  },
  "language_info": {
   "codemirror_mode": {
    "name": "ipython",
    "version": 3
   },
   "file_extension": ".py",
   "mimetype": "text/x-python",
   "name": "python",
   "nbconvert_exporter": "python",
   "pygments_lexer": "ipython3",
   "version": "3.7.7"
  }
 },
 "nbformat": 4,
 "nbformat_minor": 4
}
