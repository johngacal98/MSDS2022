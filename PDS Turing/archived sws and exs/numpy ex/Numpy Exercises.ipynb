{
 "cells": [
  {
   "cell_type": "markdown",
   "metadata": {},
   "source": [
    "You are not allowed to use explicit loops (for-loop, while-loop, recursion, list comprehension) in this set of problems."
   ]
  },
  {
   "cell_type": "code",
   "execution_count": 2,
   "metadata": {
    "ExecuteTime": {
     "end_time": "2021-05-11T23:28:24.658875Z",
     "start_time": "2021-05-11T23:28:24.205627Z"
    },
    "deletable": false,
    "editable": false,
    "nbgrader": {
     "cell_type": "code",
     "checksum": "6785eb242f88913e898add0637983d29",
     "grade": false,
     "grade_id": "cell-885442276ad86a80",
     "locked": true,
     "schema_version": 3,
     "solution": false,
     "task": false
    }
   },
   "outputs": [],
   "source": [
    "import numpy as np\n",
    "from numpy.testing import assert_equal, assert_array_equal, assert_allclose"
   ]
  },
  {
   "cell_type": "markdown",
   "metadata": {
    "deletable": false,
    "editable": false,
    "nbgrader": {
     "cell_type": "markdown",
     "checksum": "45f83e12318433cf2fdbd672134b7beb",
     "grade": false,
     "grade_id": "cell-27166aa88b43e92c",
     "locked": true,
     "schema_version": 3,
     "solution": false,
     "task": false
    }
   },
   "source": [
    "## Problem 1\n",
    "Create a function `z_per_element` that accepts the 2D `ndarray`s `x` and `y` and returns another 2D `ndarray` `z` defined by $z_{ij} = \\exp(x_{ij}^2 + \\cos(y_{ij})) + 2$."
   ]
  },
  {
   "cell_type": "code",
   "execution_count": 206,
   "metadata": {
    "ExecuteTime": {
     "end_time": "2021-05-11T23:28:37.083009Z",
     "start_time": "2021-05-11T23:28:37.078089Z"
    },
    "deletable": false,
    "nbgrader": {
     "cell_type": "code",
     "checksum": "199f5d8d69868b90616e07dde269c068",
     "grade": false,
     "grade_id": "cell-2ee3aace87d47c17",
     "locked": false,
     "schema_version": 3,
     "solution": true
    }
   },
   "outputs": [],
   "source": [
    "def z_per_element(x, y):\n",
    "    '''z_per_element accepts the 2D ndarrays x and y \n",
    "    and returns another 2D ndarray z defined by  f(x,y)=exp((𝑥𝑖𝑗)^2+cos(𝑦𝑖𝑗))+2.\n",
    "    \n",
    "    Parameters\n",
    "    -------------\n",
    "    x: ndarray\n",
    "        2D numpy array\n",
    "    y: ndarray\n",
    "        2D numpy array\n",
    "    \n",
    "    Returns\n",
    "    -------------\n",
    "    z: ndarray\n",
    "        2D ndarray output of f(x,y)\n",
    "    \n",
    "    '''\n",
    "    z = np.exp((np.square(x) + np.cos(y))) + 2\n",
    "    return z\n",
    "    "
   ]
  },
  {
   "cell_type": "code",
   "execution_count": 207,
   "metadata": {
    "ExecuteTime": {
     "end_time": "2021-05-11T23:28:37.650961Z",
     "start_time": "2021-05-11T23:28:37.575477Z"
    },
    "deletable": false,
    "editable": false,
    "nbgrader": {
     "cell_type": "code",
     "checksum": "d58b18a36817f5fe8be5a26f696340fe",
     "grade": true,
     "grade_id": "cell-d5622f49c24eabbc",
     "locked": true,
     "points": 1,
     "schema_version": 3,
     "solution": false
    }
   },
   "outputs": [],
   "source": [
    "x = np.random.random((10, 2))\n",
    "y = np.random.random((10, 2))\n",
    "z = z_per_element(x, y)\n",
    "assert_array_equal(z.shape, (10, 2))"
   ]
  },
  {
   "cell_type": "markdown",
   "metadata": {
    "deletable": false,
    "editable": false,
    "nbgrader": {
     "cell_type": "markdown",
     "checksum": "bee5dda22823449ce9d55c1b6a9188fb",
     "grade": false,
     "grade_id": "cell-ccf8488b21c22673",
     "locked": true,
     "schema_version": 3,
     "solution": false,
     "task": false
    }
   },
   "source": [
    "## Problem 2\n",
    "Create a function `row_dot` that accepts the 2D `ndarray`s `x` and `y` and returns another 1D `ndarray` `z` defined by $$z_i = \\sum_j \\sum_k x_{ik}y_{kj}.$$\n"
   ]
  },
  {
   "cell_type": "code",
   "execution_count": 140,
   "metadata": {
    "ExecuteTime": {
     "end_time": "2021-05-11T23:28:45.389513Z",
     "start_time": "2021-05-11T23:28:45.385991Z"
    },
    "deletable": false,
    "nbgrader": {
     "cell_type": "code",
     "checksum": "6da0a67b5de9c4f4eb26f1f52441dc25",
     "grade": false,
     "grade_id": "cell-74574ae9c25b28a9",
     "locked": false,
     "schema_version": 3,
     "solution": true
    }
   },
   "outputs": [],
   "source": [
    "def row_dot(x, y):\n",
    "    '''accepts the 2D ndarrays x and y and returns another 1D ndarray \n",
    "    z defined by f(x,y) = ∑𝑗∑𝑘(𝑥𝑖𝑘*𝑦𝑘𝑗)\n",
    "    \n",
    "    Parameters\n",
    "    -------------\n",
    "    x: ndarray\n",
    "        2D numpy array\n",
    "    y: ndarray\n",
    "        2D numpy array\n",
    "    \n",
    "    Returns\n",
    "    -------------\n",
    "    z: ndarray\n",
    "        1D ndarray output of f(x,y)\n",
    "    \n",
    "    '''\n",
    "    z = np.sum(np.matmul(x, y), axis = 1)\n",
    "    \n",
    "    return z"
   ]
  },
  {
   "cell_type": "code",
   "execution_count": 137,
   "metadata": {
    "ExecuteTime": {
     "end_time": "2021-05-11T23:28:45.947259Z",
     "start_time": "2021-05-11T23:28:45.939736Z"
    },
    "deletable": false,
    "editable": false,
    "nbgrader": {
     "cell_type": "code",
     "checksum": "7d71605e8857daa1574bb04af0aef8a5",
     "grade": true,
     "grade_id": "cell-ecba45fc7a021477",
     "locked": true,
     "points": 1,
     "schema_version": 3,
     "solution": false
    }
   },
   "outputs": [],
   "source": [
    "x = np.random.random((10, 2))\n",
    "y = np.random.random((2, 5))\n",
    "z = row_dot(x, y)\n",
    "assert_equal(z.shape, (10,))"
   ]
  },
  {
   "cell_type": "markdown",
   "metadata": {
    "deletable": false,
    "editable": false,
    "nbgrader": {
     "cell_type": "markdown",
     "checksum": "9a89372f6dd84229f0c008b0b437f3e8",
     "grade": false,
     "grade_id": "cell-b5d53ef12a59fd0d",
     "locked": true,
     "schema_version": 3,
     "solution": false,
     "task": false
    }
   },
   "source": [
    "## Problem 3\n",
    "Create a function `shrink` that accepts a 2D `ndarray` `x` and returns another 2D `ndarray` `z` defined by\n",
    "$$\n",
    "z_{\\left\\lfloor i/2 \\right\\rfloor, j/2} = x_{ji},~~ i~\\text{odd}, j~\\text{even}.\n",
    "$$\n",
    "$i$ and $j$ starts from zero and we consider zero to be even."
   ]
  },
  {
   "cell_type": "code",
   "execution_count": 138,
   "metadata": {
    "ExecuteTime": {
     "end_time": "2021-05-11T23:29:02.163900Z",
     "start_time": "2021-05-11T23:29:02.159315Z"
    },
    "deletable": false,
    "nbgrader": {
     "cell_type": "code",
     "checksum": "309234ec390bf547f7c582bcb4395271",
     "grade": false,
     "grade_id": "cell-b3b7c7fff57ce8df",
     "locked": false,
     "schema_version": 3,
     "solution": true
    }
   },
   "outputs": [],
   "source": [
    "def shrink(x):\n",
    "    '''accepts a 2D ndarray x and returns another 2D ndarray z defined by\n",
    "    𝑧⌊𝑖/2⌋,𝑗/2=𝑥𝑗𝑖 where 𝑖 is odd and 𝑗 is even.\n",
    "    \n",
    "    Parameters\n",
    "    -------------\n",
    "    x: ndarray\n",
    "        2D numpy array\n",
    "    \n",
    "    Returns\n",
    "    -------------\n",
    "    z: ndarray\n",
    "        2D ndarray that is the tranpose of xji where i is odd and j is even\n",
    "    \n",
    "    '''\n",
    "    z = x.T[::2,1::2]\n",
    "    return z"
   ]
  },
  {
   "cell_type": "code",
   "execution_count": 139,
   "metadata": {
    "ExecuteTime": {
     "end_time": "2021-05-11T23:29:04.006848Z",
     "start_time": "2021-05-11T23:29:04.000673Z"
    },
    "deletable": false,
    "editable": false,
    "nbgrader": {
     "cell_type": "code",
     "checksum": "5e7fe6831dda16b7da76c0a36a50fc77",
     "grade": true,
     "grade_id": "cell-fa22c0078b50a395",
     "locked": true,
     "points": 1,
     "schema_version": 3,
     "solution": false
    }
   },
   "outputs": [],
   "source": [
    "x = np.random.random((10, 8))\n",
    "z = shrink(x)\n",
    "assert_equal(z.shape, (4, 5))"
   ]
  },
  {
   "cell_type": "markdown",
   "metadata": {
    "deletable": false,
    "editable": false,
    "nbgrader": {
     "cell_type": "markdown",
     "checksum": "c50dde252b397da8450bd1f6083ed2b1",
     "grade": false,
     "grade_id": "cell-d682cbd9e9dca029",
     "locked": true,
     "schema_version": 3,
     "solution": false,
     "task": false
    }
   },
   "source": [
    "## Problem 4\n",
    "Create a function `multiplier` that takes in a 2D `ndarray` `x` and 1D array `y` and returns a 2D `ndarray` `z` given by $z_{ij} = x_{ij} * y_i$."
   ]
  },
  {
   "cell_type": "code",
   "execution_count": 210,
   "metadata": {
    "ExecuteTime": {
     "end_time": "2021-05-11T23:29:09.375403Z",
     "start_time": "2021-05-11T23:29:09.370662Z"
    },
    "deletable": false,
    "nbgrader": {
     "cell_type": "code",
     "checksum": "5f3e9c8e2ed829785bca4747be3712bb",
     "grade": false,
     "grade_id": "cell-ceee71478ae578c5",
     "locked": false,
     "schema_version": 3,
     "solution": true
    }
   },
   "outputs": [],
   "source": [
    "def multiplier(x, y):\n",
    "    ''' takes in a 2D ndarray x and 1D array y and returns\n",
    "    a 2D ndarray z given by  f(x,y)=𝑥𝑖𝑗∗𝑦𝑖 .\n",
    "    \n",
    "    Parameters\n",
    "    -------------\n",
    "    x: ndarray\n",
    "        2D numpy array\n",
    "    y: ndarray\n",
    "        1D numpy array\n",
    "        \n",
    "    Returns\n",
    "    -------------\n",
    "    z: ndarray\n",
    "        2D ndarray that represents the output of f(x,y)\n",
    "    \n",
    "    '''\n",
    "    z = x*y.reshape(10,1)\n",
    "    return z"
   ]
  },
  {
   "cell_type": "code",
   "execution_count": null,
   "metadata": {},
   "outputs": [],
   "source": []
  },
  {
   "cell_type": "code",
   "execution_count": 209,
   "metadata": {
    "ExecuteTime": {
     "end_time": "2021-05-11T23:29:10.480597Z",
     "start_time": "2021-05-11T23:29:10.473857Z"
    },
    "deletable": false,
    "editable": false,
    "nbgrader": {
     "cell_type": "code",
     "checksum": "5b99c2cdea7c095cc6849a9805377c0c",
     "grade": true,
     "grade_id": "cell-f0aa6877d84bbac2",
     "locked": true,
     "points": 1,
     "schema_version": 3,
     "solution": false
    }
   },
   "outputs": [],
   "source": [
    "x = np.random.random((10, 8))\n",
    "y = np.random.random(10)\n",
    "z = multiplier(x, y)\n",
    "assert_equal(z.shape, (10, 8))"
   ]
  },
  {
   "cell_type": "markdown",
   "metadata": {
    "deletable": false,
    "editable": false,
    "nbgrader": {
     "cell_type": "markdown",
     "checksum": "29058ef3c33690523e92e6e5c1c2ba70",
     "grade": false,
     "grade_id": "cell-2ac4013dc54efbe8",
     "locked": true,
     "schema_version": 3,
     "solution": false,
     "task": false
    }
   },
   "source": [
    "## Problem 5\n",
    "Create a function `double_quadrant` that accepts a 2D ndarray `x` and returns another 2D `ndarray` `z` that has the same values as `x` except for the values in the upper left quadrant which are doubled. $x$ should remain the same."
   ]
  },
  {
   "cell_type": "code",
   "execution_count": 202,
   "metadata": {
    "ExecuteTime": {
     "end_time": "2021-05-11T23:29:16.213182Z",
     "start_time": "2021-05-11T23:29:16.206779Z"
    },
    "deletable": false,
    "nbgrader": {
     "cell_type": "code",
     "checksum": "bf2fda776ec7cc5c35d4fd25d61fd279",
     "grade": false,
     "grade_id": "cell-692b3596133f8479",
     "locked": false,
     "schema_version": 3,
     "solution": true
    }
   },
   "outputs": [],
   "source": [
    "def double_quadrant(x):\n",
    "    '''accepts a 2D ndarray x and returns another 2D ndarray z that has the \n",
    "    same values as x except for the values in the upper left quadrant which \n",
    "    are doubled.  𝑥  should remain the same.\n",
    "    \n",
    "    Parameters\n",
    "    -------------\n",
    "    x: ndarray\n",
    "        2D numpy array\n",
    "        \n",
    "    Returns\n",
    "    -------------\n",
    "    z: ndarray\n",
    "        2D ndarray that copies the values of x exactly but with the upper \n",
    "        left quadrant values of x doubled\n",
    "    \n",
    "    '''\n",
    "    quad = x[:int(x.shape[0]/2),:int(x.shape[1]/2)]\n",
    "    z = x\n",
    "    z[:int(x.shape[0]/2),:int(x.shape[1]/2)] = quad*2\n",
    "    return z"
   ]
  },
  {
   "cell_type": "code",
   "execution_count": null,
   "metadata": {},
   "outputs": [],
   "source": []
  },
  {
   "cell_type": "code",
   "execution_count": 203,
   "metadata": {
    "ExecuteTime": {
     "end_time": "2021-05-11T23:29:20.597593Z",
     "start_time": "2021-05-11T23:29:20.586942Z"
    },
    "deletable": false,
    "editable": false,
    "nbgrader": {
     "cell_type": "code",
     "checksum": "f1332f23dbca1f915f5cff82c0785105",
     "grade": true,
     "grade_id": "cell-a91a5bcb4b9aaacb",
     "locked": true,
     "points": 1,
     "schema_version": 3,
     "solution": false
    }
   },
   "outputs": [],
   "source": [
    "x = np.random.random((10, 8))\n",
    "z = double_quadrant(x)\n",
    "assert z.shape == (10, 8)"
   ]
  }
 ],
 "metadata": {
  "kernelspec": {
   "display_name": "Python 3",
   "language": "python",
   "name": "python3"
  },
  "language_info": {
   "codemirror_mode": {
    "name": "ipython",
    "version": 3
   },
   "file_extension": ".py",
   "mimetype": "text/x-python",
   "name": "python",
   "nbconvert_exporter": "python",
   "pygments_lexer": "ipython3",
   "version": "3.8.8"
  },
  "toc": {
   "base_numbering": 1,
   "nav_menu": {},
   "number_sections": true,
   "sideBar": true,
   "skip_h1_title": false,
   "title_cell": "Table of Contents",
   "title_sidebar": "Contents",
   "toc_cell": false,
   "toc_position": {},
   "toc_section_display": true,
   "toc_window_display": false
  }
 },
 "nbformat": 4,
 "nbformat_minor": 2
}
