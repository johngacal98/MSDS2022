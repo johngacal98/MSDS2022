{
 "cells": [
  {
   "cell_type": "code",
   "execution_count": 48,
   "metadata": {
    "ExecuteTime": {
     "end_time": "2021-04-25T09:40:53.147954Z",
     "start_time": "2021-04-25T09:40:52.862311Z"
    },
    "deletable": false,
    "editable": false,
    "nbgrader": {
     "cell_type": "code",
     "checksum": "0d9ec0129192cae97e88537b4f0ffee9",
     "grade": false,
     "grade_id": "cell-e4f02c85b06e3294",
     "locked": true,
     "schema_version": 3,
     "solution": false,
     "task": false
    }
   },
   "outputs": [],
   "source": [
    "from numpy.testing import assert_equal"
   ]
  },
  {
   "cell_type": "markdown",
   "metadata": {
    "deletable": false,
    "editable": false,
    "nbgrader": {
     "cell_type": "markdown",
     "checksum": "9cf9bf800f9be7c705b6e0d35f8289cb",
     "grade": false,
     "grade_id": "cell-d4c95f868f67dcc1",
     "locked": true,
     "schema_version": 3,
     "solution": false,
     "task": false
    }
   },
   "source": [
    "## Problem 1\n",
    "Write a Python function that will count from 1 to an integer `n` (inclusive). For each count, print the counter value and a message separated by a single space. If the counter is even, the message should be `fizz`, `fuzz` if divisible by 3 and `foo` (only) if divisible by 6."
   ]
  },
  {
   "cell_type": "code",
   "execution_count": 2,
   "metadata": {
    "ExecuteTime": {
     "end_time": "2021-04-25T09:40:54.339194Z",
     "start_time": "2021-04-25T09:40:54.328618Z"
    },
    "deletable": false,
    "nbgrader": {
     "cell_type": "code",
     "checksum": "ecefc435be09963f9f9b87af389a0a40",
     "grade": false,
     "grade_id": "cell-0e7266cd03645e41",
     "locked": false,
     "schema_version": 3,
     "solution": true,
     "task": false
    }
   },
   "outputs": [],
   "source": [
    "def count_and_print(n):\n",
    "    \"\"\"Count from 1 to n whilst displaying a message\n",
    "    \n",
    "    Count from 1 to an integer n (inclusive). For each count, print the \n",
    "    counter value and a message separated by a single space. If the counter is\n",
    "    even, the message should be `fizz`, `fuzz` if divisible by 3 and `foo` \n",
    "    (only) if divisible by 6.\n",
    "    \n",
    "    Parameters\n",
    "    ----------\n",
    "    n : integer\n",
    "        Count up to this number (inclusive)\n",
    "        \n",
    "    Examples\n",
    "    --------\n",
    "    >>> count_and_print(12)\n",
    "    1\n",
    "    2 fizz\n",
    "    3 fuzz\n",
    "    4 fizz\n",
    "    5\n",
    "    6 foo\n",
    "    7 \n",
    "    8 fizz\n",
    "    9 fuzz\n",
    "    10 fizz\n",
    "    11\n",
    "    12 foo\n",
    "\n",
    "    \"\"\"\n",
    "    \n",
    "    for iter_p1 in range(1, n + 1):\n",
    "        if iter_p1 % 6 == 0:\n",
    "            counter = \"foo\"\n",
    "            print(str(iter_p1) + \" \" + counter)\n",
    "        elif iter_p1 % 3 == 0:\n",
    "            counter = \"fuzz\"\n",
    "            print(str(iter_p1) + \" \" + counter)\n",
    "        elif iter_p1 % 2 == 0:\n",
    "            counter = \"fizz\" \n",
    "            print(str(iter_p1) + \" \" + counter)\n",
    "        else:\n",
    "            print(str(iter_p1))"
   ]
  },
  {
   "cell_type": "code",
   "execution_count": 3,
   "metadata": {
    "ExecuteTime": {
     "end_time": "2021-04-25T09:40:55.408234Z",
     "start_time": "2021-04-25T09:40:55.399293Z"
    },
    "deletable": false,
    "editable": false,
    "nbgrader": {
     "cell_type": "code",
     "checksum": "ede2edc6e358b01ab0042e70ee86305e",
     "grade": false,
     "grade_id": "cell-37a2da1c4a8fb49b",
     "locked": true,
     "schema_version": 3,
     "solution": false,
     "task": false
    }
   },
   "outputs": [],
   "source": [
    "%%capture out1\n",
    "count_and_print(12)"
   ]
  },
  {
   "cell_type": "code",
   "execution_count": 4,
   "metadata": {
    "ExecuteTime": {
     "end_time": "2021-04-25T09:40:55.731766Z",
     "start_time": "2021-04-25T09:40:55.723847Z"
    },
    "deletable": false,
    "editable": false,
    "nbgrader": {
     "cell_type": "code",
     "checksum": "4d3c96c2169e487063325acf63325229",
     "grade": false,
     "grade_id": "cell-b785f475c6ff0545",
     "locked": true,
     "schema_version": 3,
     "solution": false,
     "task": false
    }
   },
   "outputs": [],
   "source": [
    "%%capture out2\n",
    "count_and_print(18)"
   ]
  },
  {
   "cell_type": "code",
   "execution_count": 5,
   "metadata": {
    "ExecuteTime": {
     "end_time": "2021-04-25T09:40:56.825141Z",
     "start_time": "2021-04-25T09:40:56.817226Z"
    },
    "deletable": false,
    "editable": false,
    "nbgrader": {
     "cell_type": "code",
     "checksum": "bcc010be0cdc027af114a7b377cfe769",
     "grade": true,
     "grade_id": "cell-5e68bd9f3673ce01",
     "locked": true,
     "points": 1,
     "schema_version": 3,
     "solution": false,
     "task": false
    }
   },
   "outputs": [],
   "source": [
    "assert_equal(\n",
    "    out1.stdout,\n",
    "    '1\\n'\n",
    "    '2 fizz\\n'\n",
    "    '3 fuzz\\n'\n",
    "    '4 fizz\\n'\n",
    "    '5\\n'\n",
    "    '6 foo\\n'\n",
    "    '7\\n'\n",
    "    '8 fizz\\n'\n",
    "    '9 fuzz\\n'\n",
    "    '10 fizz\\n'\n",
    "    '11\\n'\n",
    "    '12 foo\\n')\n",
    "assert_equal(\n",
    "    out2.stdout,\n",
    "    '1\\n'\n",
    "    '2 fizz\\n'\n",
    "    '3 fuzz\\n'\n",
    "    '4 fizz\\n'\n",
    "    '5\\n'\n",
    "    '6 foo\\n'\n",
    "    '7\\n'\n",
    "    '8 fizz\\n'\n",
    "    '9 fuzz\\n'\n",
    "    '10 fizz\\n'\n",
    "    '11\\n'\n",
    "    '12 foo\\n'\n",
    "    '13\\n'\n",
    "    '14 fizz\\n'\n",
    "    '15 fuzz\\n'\n",
    "    '16 fizz\\n'\n",
    "    '17\\n'\n",
    "    '18 foo\\n'\n",
    ")"
   ]
  },
  {
   "cell_type": "markdown",
   "metadata": {
    "deletable": false,
    "editable": false,
    "nbgrader": {
     "cell_type": "markdown",
     "checksum": "4dc3afaee94716ce7f97ac1fb3134d08",
     "grade": false,
     "grade_id": "cell-903eac2c5b454fbb",
     "locked": true,
     "schema_version": 3,
     "solution": false,
     "task": false
    }
   },
   "source": [
    "## Problem 2\n",
    "Write a function `overlap_interval` that accepts parameters `start1`, `end1`, `start2` and `end2` corresponding to the endpoints of two numeric intervals. It should print the endpoints of their overlaps or print the message `No overlap!` if they don't overlap."
   ]
  },
  {
   "cell_type": "code",
   "execution_count": 82,
   "metadata": {
    "ExecuteTime": {
     "end_time": "2021-04-25T09:58:01.324381Z",
     "start_time": "2021-04-25T09:58:01.317320Z"
    },
    "deletable": false,
    "nbgrader": {
     "cell_type": "code",
     "checksum": "2bc081644dd79e3c0214329bb30cf7b7",
     "grade": false,
     "grade_id": "cell-c3a64bdf8b11fb95",
     "locked": false,
     "schema_version": 3,
     "solution": true,
     "task": false
    }
   },
   "outputs": [],
   "source": [
    "\n",
    "def overlap_interval(start1,end1,start2,end2):\n",
    "    \"\"\"\n",
    "    overlap_interval() accepts parameters start1, end1, start2 and end2 \n",
    "    corresponding to the endpoints of two numeric intervals. \n",
    "    It should print the endpoints of their overlaps \n",
    "    or print the message No overlap! if they don't overlap.\n",
    "    \n",
    "    Parameters\n",
    "    ----------\n",
    "    start1 : integer\n",
    "        starting point for first numeric interval\n",
    "    end1 : integer\n",
    "        end point for first numeric interval that is less than start1\n",
    "    start2 : integer\n",
    "        starting point for second numeric interval\n",
    "    end2 : integer\n",
    "        end point for second numeric interval that is less than start2\n",
    "    \n",
    "    Returns\n",
    "    -------\n",
    "    \"invalid intervals\" : str\n",
    "        if parameters are invalid\n",
    "    PO : str\n",
    "        point of overlap if intervals overlap at exactly one point\n",
    "    EPOL : str\n",
    "        end points of the overlap of the intervals\n",
    "    \n",
    "    \"\"\"\n",
    "    interval_1 = range(start1,end1+1)\n",
    "    interval_2 = range(start2,end2+1)\n",
    "    \n",
    "    list_of_overlap_vals = [i for i in interval_1 if i in interval_2]\n",
    "    \n",
    "    if start1 > end1 or start2 > end2:\n",
    "        return \"invalid intervals\"\n",
    "    \n",
    "    elif len(list_of_overlap_vals) == 1:\n",
    "        PO = print(str(list_of_overlap_vals[0]))\n",
    "        return PO\n",
    "    elif len(list_of_overlap_vals) != 0:\n",
    "        EPOL = print(str(list_of_overlap_vals[0]) + \" \" + \\\n",
    "                     str(list_of_overlap_vals[-1]))\n",
    "        return EPOL\n",
    "    else:\n",
    "        return print(\"No overlap!\")\n",
    "        "
   ]
  },
  {
   "cell_type": "code",
   "execution_count": 83,
   "metadata": {
    "ExecuteTime": {
     "end_time": "2021-04-25T10:12:34.644266Z",
     "start_time": "2021-04-25T10:12:34.636194Z"
    },
    "deletable": false,
    "editable": false,
    "nbgrader": {
     "cell_type": "code",
     "checksum": "403a96041eed3606317a0d0fcd687270",
     "grade": false,
     "grade_id": "cell-f7943135ba303d98",
     "locked": true,
     "schema_version": 3,
     "solution": false,
     "task": false
    }
   },
   "outputs": [],
   "source": [
    "%%capture out1\n",
    "overlap_interval(-5, 10, 5, 12)"
   ]
  },
  {
   "cell_type": "code",
   "execution_count": 84,
   "metadata": {
    "ExecuteTime": {
     "end_time": "2021-04-25T10:12:34.750189Z",
     "start_time": "2021-04-25T10:12:34.737078Z"
    },
    "deletable": false,
    "editable": false,
    "nbgrader": {
     "cell_type": "code",
     "checksum": "e86ae8fb76ece509e5b678b0159de608",
     "grade": false,
     "grade_id": "cell-072a843bf8db68c1",
     "locked": true,
     "schema_version": 3,
     "solution": false,
     "task": false
    }
   },
   "outputs": [],
   "source": [
    "%%capture out2\n",
    "overlap_interval(-5, 10, 11, 12)"
   ]
  },
  {
   "cell_type": "code",
   "execution_count": 85,
   "metadata": {
    "ExecuteTime": {
     "end_time": "2021-04-25T10:12:34.761150Z",
     "start_time": "2021-04-25T10:12:34.754651Z"
    },
    "deletable": false,
    "editable": false,
    "nbgrader": {
     "cell_type": "code",
     "checksum": "7dff741fa7f2efff2a4fe0b88abc1d74",
     "grade": false,
     "grade_id": "cell-207a4156bd807034",
     "locked": true,
     "schema_version": 3,
     "solution": false,
     "task": false
    }
   },
   "outputs": [],
   "source": [
    "%%capture out3\n",
    "overlap_interval(-5, 10, -10, 12)"
   ]
  },
  {
   "cell_type": "code",
   "execution_count": 86,
   "metadata": {
    "ExecuteTime": {
     "end_time": "2021-04-25T10:12:34.771025Z",
     "start_time": "2021-04-25T10:12:34.764519Z"
    },
    "deletable": false,
    "editable": false,
    "nbgrader": {
     "cell_type": "code",
     "checksum": "e2b6c44080690bde610e71a15e5896ab",
     "grade": false,
     "grade_id": "cell-226e5174810b940b",
     "locked": true,
     "schema_version": 3,
     "solution": false,
     "task": false
    }
   },
   "outputs": [],
   "source": [
    "%%capture out4\n",
    "overlap_interval(5, 8, -10, 12)"
   ]
  },
  {
   "cell_type": "code",
   "execution_count": 87,
   "metadata": {
    "ExecuteTime": {
     "end_time": "2021-04-25T10:12:35.411940Z",
     "start_time": "2021-04-25T10:12:35.403743Z"
    },
    "deletable": false,
    "editable": false,
    "nbgrader": {
     "cell_type": "code",
     "checksum": "d4800031090fb04cc95e6d92fb6a100b",
     "grade": false,
     "grade_id": "cell-fae69e2fa2369ecd",
     "locked": true,
     "schema_version": 3,
     "solution": false,
     "task": false
    }
   },
   "outputs": [],
   "source": [
    "%%capture out5\n",
    "overlap_interval(-12, 12, 8, 10)"
   ]
  },
  {
   "cell_type": "code",
   "execution_count": 88,
   "metadata": {
    "ExecuteTime": {
     "end_time": "2021-04-25T10:15:10.100757Z",
     "start_time": "2021-04-25T10:15:10.092447Z"
    },
    "deletable": false,
    "editable": false,
    "nbgrader": {
     "cell_type": "code",
     "checksum": "94d713ed52b2965442cf677b5b39b13a",
     "grade": true,
     "grade_id": "cell-7812ed25101d9ddf",
     "locked": true,
     "points": 1,
     "schema_version": 3,
     "solution": false,
     "task": false
    },
    "scrolled": true
   },
   "outputs": [],
   "source": [
    "assert_equal(out1.stdout, '5 10\\n')\n",
    "assert_equal(out2.stdout, 'No overlap!\\n')\n",
    "assert_equal(out3.stdout, '-5 10\\n')"
   ]
  },
  {
   "cell_type": "markdown",
   "metadata": {
    "deletable": false,
    "editable": false,
    "nbgrader": {
     "cell_type": "markdown",
     "checksum": "ca3a684fe747dac026f65cfd6d6dde11",
     "grade": false,
     "grade_id": "cell-f48c96b5391c5707",
     "locked": true,
     "schema_version": 3,
     "solution": false,
     "task": false
    }
   },
   "source": [
    "## Problem 3\n",
    "Write a function that returns the cosine of an input (in radians) using [Maclaurin's approximation](https://en.wikibooks.org/wiki/Trigonometry/Power_Series_for_Cosine_and_Sine). It should use a `while` loop to compute terms of the summation until the last term is smaller than $10^{-15}$."
   ]
  },
  {
   "cell_type": "code",
   "execution_count": 39,
   "metadata": {
    "ExecuteTime": {
     "end_time": "2020-03-08T07:15:49.477067Z",
     "start_time": "2020-03-08T07:15:49.465169Z"
    },
    "deletable": false,
    "nbgrader": {
     "cell_type": "code",
     "checksum": "eacca731db1fbff79c67dd7c4fa03c4c",
     "grade": true,
     "grade_id": "cell-54183911ca9ecc32",
     "locked": false,
     "points": 1,
     "schema_version": 3,
     "solution": true
    }
   },
   "outputs": [
    {
     "name": "stdout",
     "output_type": "stream",
     "text": [
      "final answer : 1.0\n",
      "k: 21\n"
     ]
    }
   ],
   "source": [
    "\n",
    "def cosine(theta):\n",
    "    \"\"\"Return cosine of theta using Maclaurin's approximation\n",
    "    \n",
    "    Parameters\n",
    "    ----------\n",
    "    theta : float\n",
    "        Value to compute cosine of, in radians\n",
    "        \n",
    "    Returns\n",
    "    -------\n",
    "    cos_theta : float\n",
    "        Cosine of theta\n",
    "    \"\"\"\n",
    "    \n",
    "\n",
    "    k=0\n",
    "    \n",
    "    def factorial_(fact_arg):\n",
    "        total_fac = 1\n",
    "        for iter_fac in range(1,fact_arg+1):\n",
    "            total_fac = total_fac * iter_fac\n",
    "        return total_fac\n",
    "    answer_p3 = 0 \n",
    "    \n",
    "    term = 1\n",
    "    \n",
    "    \n",
    "    while abs(term) > 1e-15:\n",
    "        \n",
    "        term = ((-1)**(k) / (factorial_(2 * k)))*(theta**((2 * k)))\n",
    "        \n",
    "        answer_p3 = answer_p3 + term\n",
    "        k = k + 1\n",
    "    print(f\"final answer : {answer_p3:.1f}\")\n",
    "    print(\"k:\",k)\n",
    "        \n",
    "cosine(2*(3.14))"
   ]
  },
  {
   "cell_type": "markdown",
   "metadata": {
    "deletable": false,
    "editable": false,
    "nbgrader": {
     "cell_type": "markdown",
     "checksum": "fb5fcb90b50d4f9ffd1dd972d7f4c577",
     "grade": false,
     "grade_id": "cell-ab2615b13e9eb92e",
     "locked": true,
     "schema_version": 3,
     "solution": false,
     "task": false
    }
   },
   "source": [
    "## Problem 4\n",
    "The greatest common divisor (GCD) of $a$ and $b$ is the largest number that divides both of them with no remainder.\n",
    "\n",
    "One way to find the GCD of two numbers is based on the observation that if $r$ is the remainder when $a$ is divided by $b$, then $gcd(a, b) = gcd(b, r)$. As a base case, we can use $gcd(a, 0) = a$.\n",
    "\n",
    "Write a function called `gcd` that takes parameters `a` and `b` and returns their greatest common divisor."
   ]
  },
  {
   "cell_type": "code",
   "execution_count": 13,
   "metadata": {
    "ExecuteTime": {
     "end_time": "2020-03-08T07:22:28.223426Z",
     "start_time": "2020-03-08T07:22:28.215156Z"
    },
    "deletable": false,
    "nbgrader": {
     "cell_type": "code",
     "checksum": "fcb032f27d0c2f9fba7c6e82d8da0678",
     "grade": false,
     "grade_id": "cell-c29ca12ec75789d2",
     "locked": false,
     "schema_version": 3,
     "solution": true,
     "task": false
    }
   },
   "outputs": [],
   "source": [
    "def gcd(a,b):\n",
    "    \"\"\"\n",
    "    gcd() takes parameters a and b and returns their greatest common divisor.\n",
    "    \n",
    "    Parameters\n",
    "    ----------\n",
    "    a : int\n",
    "    b : int\n",
    "    \n",
    "    Returns\n",
    "    -------\n",
    "    gcd : int\n",
    "        Greatest Common Divisor of a and b    \n",
    "    \"\"\"\n",
    "    range_a = range(1,a+1)\n",
    "    range_b = range(1,b+1)\n",
    "    divisor_list_a = []\n",
    "    divisor_list_b = []\n",
    "    for a_iter in range_a:\n",
    "        if a%a_iter == 0 :\n",
    "            divisor_list_a.append(a_iter)\n",
    "    for b_iter in range_b:\n",
    "        if b%b_iter == 0 :\n",
    "            divisor_list_b.append(b_iter)\n",
    "    \n",
    "    com_div = [i for i in divisor_list_a if i in divisor_list_b]\n",
    "\n",
    "    gcd = max(com_div)\n",
    "    return gcd"
   ]
  },
  {
   "cell_type": "code",
   "execution_count": 14,
   "metadata": {
    "ExecuteTime": {
     "end_time": "2020-03-08T07:22:28.394236Z",
     "start_time": "2020-03-08T07:22:28.387848Z"
    },
    "deletable": false,
    "editable": false,
    "nbgrader": {
     "cell_type": "code",
     "checksum": "3f1fe59dd9491364ea0a97d26361da37",
     "grade": true,
     "grade_id": "cell-2f070dd683636894",
     "locked": true,
     "points": 1,
     "schema_version": 3,
     "solution": false,
     "task": false
    }
   },
   "outputs": [],
   "source": [
    "assert_equal(gcd(4, 2), 2)\n",
    "assert_equal(gcd(2, 4), 2)\n",
    "assert_equal(gcd(13, 5), 1)\n",
    "assert_equal(gcd(20, 24), 4)"
   ]
  },
  {
   "cell_type": "markdown",
   "metadata": {
    "deletable": false,
    "editable": false,
    "nbgrader": {
     "cell_type": "markdown",
     "checksum": "6383882b46200675de2333e716c70f73",
     "grade": false,
     "grade_id": "cell-96ed00aa3d32f221",
     "locked": true,
     "schema_version": 3,
     "solution": false,
     "task": false
    }
   },
   "source": [
    "## Problem 5\n",
    "Write a function `biased_sum` that returns the sum of positive integers passed to it but numbers that are multiples of the `base` are doubled before being added. By default, `base` is 2. Return `None` if there are no numbers passed to it."
   ]
  },
  {
   "cell_type": "code",
   "execution_count": 9,
   "metadata": {
    "ExecuteTime": {
     "end_time": "2021-04-25T17:56:33.642944Z",
     "start_time": "2021-04-25T17:56:33.635962Z"
    },
    "deletable": false,
    "nbgrader": {
     "cell_type": "code",
     "checksum": "30c8c9b9750b9fa0adddef07063e3bbc",
     "grade": false,
     "grade_id": "cell-6295767c33976fea",
     "locked": false,
     "schema_version": 3,
     "solution": true,
     "task": false
    }
   },
   "outputs": [],
   "source": [
    "def biased_sum(*nums, base=2):\n",
    "    \"\"\"\n",
    "    biased_sum() returns the sum of positive integers passed to it but numbers\n",
    "    that are multiples of the base are doubled before being added. \n",
    "    By default, base is 2. Return None if there are no numbers passed to it.\n",
    "    \n",
    "    Parameters\n",
    "    ----------\n",
    "    *nums : positive int\n",
    "        values to be summed  \n",
    "    base : int\n",
    "        nums will be doubled before adding if it \n",
    "        is a multiple of this value.\n",
    "    \n",
    "    Returns\n",
    "    -------\n",
    "    total : positive int\n",
    "        sum of nums parameter\n",
    "    None : NoneType\n",
    "        if no numbers are passed\n",
    "    \n",
    "    \"\"\"\n",
    "    total = 0\n",
    "    if len(nums) != 0:\n",
    "        for iter_p5 in nums:\n",
    "            if iter_p5%base == 0:\n",
    "                iter_p5 = iter_p5*2\n",
    "                total = total +iter_p5\n",
    "            else:\n",
    "                total = total + iter_p5\n",
    "        return total\n",
    "    else:\n",
    "        \n",
    "        return print(None) "
   ]
  },
  {
   "cell_type": "code",
   "execution_count": 10,
   "metadata": {
    "ExecuteTime": {
     "end_time": "2021-04-25T17:56:34.059493Z",
     "start_time": "2021-04-25T17:56:34.049063Z"
    },
    "deletable": false,
    "editable": false,
    "nbgrader": {
     "cell_type": "code",
     "checksum": "9ad50c0565cdb4e34cc9e293b804e33c",
     "grade": true,
     "grade_id": "cell-269f051cdd06af87",
     "locked": true,
     "points": 1,
     "schema_version": 3,
     "solution": false,
     "task": false
    }
   },
   "outputs": [],
   "source": [
    "assert_equal(biased_sum(1, 2, 3), 8)\n",
    "assert_equal(biased_sum(1, 2, 3, 4, 5, 6, 3), 36)\n",
    "assert_equal(biased_sum(1, 2, 3, 4, 5, 6, base=3), 30)"
   ]
  },
  {
   "cell_type": "markdown",
   "metadata": {
    "deletable": false,
    "editable": false,
    "nbgrader": {
     "cell_type": "markdown",
     "checksum": "ec86d93f2b193e01a5a935bac9802a95",
     "grade": false,
     "grade_id": "cell-63aba3f8ba2b99ce",
     "locked": true,
     "schema_version": 3,
     "solution": false,
     "task": false
    }
   },
   "source": [
    "## Problem 6\n",
    "Write a function `last_in_sequence` that accepts a string of digits, which can have a repeating sequence of 0 to 9 in it but may have intervening digits between them. The function should return the last digit in the sequence found in the string. It should return `None` if there is no such sequence in the string.\n",
    "\n",
    "Examples:\n",
    "* **0**9**12**251**3**2**4**21 $\\rightarrow$ 4\n",
    "* 1**0**9**12**251**3**2**4**21 $\\rightarrow$ 4\n",
    "* **012345678901234** $\\rightarrow$ 4\n",
    "* 1912251324 $\\rightarrow$ `None`"
   ]
  },
  {
   "cell_type": "code",
   "execution_count": 191,
   "metadata": {
    "ExecuteTime": {
     "end_time": "2021-04-25T18:53:10.731851Z",
     "start_time": "2021-04-25T18:53:10.723024Z"
    },
    "deletable": false,
    "nbgrader": {
     "cell_type": "code",
     "checksum": "29d7e970a1d7719ba7231cf36acec94b",
     "grade": false,
     "grade_id": "cell-f26b1b122b693409",
     "locked": false,
     "schema_version": 3,
     "solution": true,
     "task": false
    }
   },
   "outputs": [],
   "source": [
    "def last_in_sequence(string_p6):\n",
    "    \"\"\"\n",
    "    last_in_sequence() accepts a string of digits, which can have a repeating \n",
    "    sequence of 0 to 9 in it but may have intervening digits between them. \n",
    "    The function should return the last digit in the \n",
    "    sequence found in the string. It should return None if there is no such \n",
    "    sequence in the string.\n",
    "    \n",
    "    Parameters\n",
    "    ----------\n",
    "    string_p6 : str\n",
    "        sequence of string digits  \n",
    "        \n",
    "    Returns\n",
    "    -------\n",
    "    int(string_p6[-1]) : int\n",
    "        last digit of the string_p6 parameter\n",
    "        \n",
    "    None : NoneType\n",
    "        if string_p6 does not contain 0 and 9\n",
    "    \n",
    "    \"\"\"\n",
    "    set_str = set(string_p6)\n",
    "    sorted_set_str = sorted(set_str)\n",
    "    \n",
    "    if sorted_set_str[0] == '0' and sorted_set_str[-1] == '9':\n",
    "        return int(string_p6[-1])\n",
    "    else:\n",
    "        return None\n"
   ]
  },
  {
   "cell_type": "code",
   "execution_count": 193,
   "metadata": {
    "ExecuteTime": {
     "end_time": "2021-04-25T18:53:11.068813Z",
     "start_time": "2021-04-25T18:53:11.060450Z"
    },
    "deletable": false,
    "editable": false,
    "nbgrader": {
     "cell_type": "code",
     "checksum": "e623d0818abfc2fc5aa62bf4ca4e8cc5",
     "grade": true,
     "grade_id": "cell-19149d85bde88dea",
     "locked": true,
     "points": 1,
     "schema_version": 3,
     "solution": false,
     "task": false
    }
   },
   "outputs": [],
   "source": [
    "assert_equal(last_in_sequence('0912251324'), 4)\n",
    "assert_equal(last_in_sequence('10912251324'), 4)\n",
    "assert_equal(last_in_sequence('012345678901234'), 4)\n",
    "assert_equal(last_in_sequence('1912251324'), None)"
   ]
  },
  {
   "cell_type": "markdown",
   "metadata": {
    "deletable": false,
    "editable": false,
    "nbgrader": {
     "cell_type": "markdown",
     "checksum": "deb1d34b0eae9444fa556f370f99fb04",
     "grade": false,
     "grade_id": "cell-72ec79d24b33cf46",
     "locked": true,
     "schema_version": 3,
     "solution": false,
     "task": false
    }
   },
   "source": [
    "## Problem 7\n",
    "Write a function `check_password` that returns `True` if the input password satisfies the following criteria:\n",
    "\n",
    "* at least 8 characters in length\n",
    "* contains at least one lowercase letter\n",
    "* contains at least one uppercase letter\n",
    "* contains at least one number\n",
    "\n",
    "It should return `False` if at least one of the criteria is not satisfied."
   ]
  },
  {
   "cell_type": "code",
   "execution_count": 194,
   "metadata": {
    "ExecuteTime": {
     "end_time": "2020-03-08T08:21:52.893566Z",
     "start_time": "2020-03-08T08:21:52.875586Z"
    },
    "deletable": false,
    "nbgrader": {
     "cell_type": "code",
     "checksum": "bee32c8906dc8bb78764f8df2fd9f8d8",
     "grade": false,
     "grade_id": "cell-a72d390a2aa6048b",
     "locked": false,
     "schema_version": 3,
     "solution": true,
     "task": false
    }
   },
   "outputs": [],
   "source": [
    "def check_password(password):\n",
    "    \"\"\"\n",
    "    check_password() returns True if the input password satisfies \n",
    "    the following criteria:\n",
    "\n",
    "    - at least 8 characters in length\n",
    "    - contains at least one lowercase letter\n",
    "    - contains at least one uppercase letter\n",
    "    - contains at least one number\n",
    "    \n",
    "    It should return False if at least one of the criteria is not satisfied.\n",
    "    \n",
    "    Parameters\n",
    "    ----------\n",
    "    password : str\n",
    "        sequence of strings  \n",
    "        \n",
    "    Returns\n",
    "    -------\n",
    "    False : bool \n",
    "        if at least one criteria is violated\n",
    "        \n",
    "    True : bool\n",
    "        if all criteria are satisfied\n",
    "    \n",
    "    \"\"\"\n",
    "    count_lower = 0\n",
    "    count_upper = 0\n",
    "    count_int = 0\n",
    "    for lowerc_iter in password:\n",
    "        if lowerc_iter.islower() == True:\n",
    "            count_lower = count_lower + 1\n",
    "        else:\n",
    "            if lowerc_iter.isupper() == True:\n",
    "                count_upper = count_upper+1\n",
    "            else:\n",
    "                count_int = count_int + 1\n",
    "    if len(password) < 8:\n",
    "        return False\n",
    "    elif count_lower >= 1 and count_upper >= 1 and count_int >= 1:\n",
    "        return True\n",
    "    else:\n",
    "        return False"
   ]
  },
  {
   "cell_type": "code",
   "execution_count": 195,
   "metadata": {
    "ExecuteTime": {
     "end_time": "2020-03-08T08:25:52.624135Z",
     "start_time": "2020-03-08T08:25:52.606959Z"
    },
    "deletable": false,
    "editable": false,
    "nbgrader": {
     "cell_type": "code",
     "checksum": "e84e9e18fc58d1603c11714a407247ff",
     "grade": true,
     "grade_id": "cell-b8041b3660eec0bd",
     "locked": true,
     "points": 1,
     "schema_version": 3,
     "solution": false,
     "task": false
    }
   },
   "outputs": [],
   "source": [
    "assert_equal(check_password('abcABC1'), False)\n",
    "assert_equal(check_password('abcABC12'), True)\n",
    "assert_equal(check_password('abcABCDE'), False)\n",
    "assert_equal(check_password('abc12345'), False)\n",
    "assert_equal(check_password('12345ABC'), False)"
   ]
  },
  {
   "cell_type": "markdown",
   "metadata": {
    "deletable": false,
    "editable": false,
    "nbgrader": {
     "cell_type": "markdown",
     "checksum": "f2afb49dd7230fb1a436befdbf428c1f",
     "grade": false,
     "grade_id": "cell-eb44db13b953dab9",
     "locked": true,
     "schema_version": 3,
     "solution": false,
     "task": false
    }
   },
   "source": [
    "## Problem 8\n",
    "Write a function `is_palindrome` that returns `True` if the input string is a palindrome and `False` otherwise."
   ]
  },
  {
   "cell_type": "code",
   "execution_count": 44,
   "metadata": {
    "ExecuteTime": {
     "end_time": "2021-04-25T23:13:37.283182Z",
     "start_time": "2021-04-25T23:13:37.275102Z"
    },
    "deletable": false,
    "nbgrader": {
     "cell_type": "code",
     "checksum": "277fef50ef7d2c9b2c7e29febbabff49",
     "grade": false,
     "grade_id": "cell-c7e575e3d909fd56",
     "locked": false,
     "schema_version": 3,
     "solution": true,
     "task": false
    }
   },
   "outputs": [
    {
     "data": {
      "text/plain": [
       "True"
      ]
     },
     "execution_count": 44,
     "metadata": {},
     "output_type": "execute_result"
    }
   ],
   "source": [
    "def is_palindrome(text):\n",
    "    \"\"\"\" \n",
    "    is_palindrome() returns True if the input string is a palindrome\n",
    "    and False otherwise. \n",
    "    \n",
    "     Parameters\n",
    "    ----------\n",
    "    text : str\n",
    "        sequence of strings  \n",
    "        \n",
    "    Returns\n",
    "    -------\n",
    "    False : bool \n",
    "        if text parameter is not a palindrome\n",
    "        \n",
    "    True : bool\n",
    "         if text parameter not a palindrome\n",
    "    \"\"\"\n",
    "    li_no_space = text.split(\" \")\n",
    "    word=\"\"\n",
    "    for iter_p8 in li_no_space:\n",
    "        word = word + iter_p8\n",
    "    processed_text = word\n",
    "    \n",
    "    \n",
    "    if processed_text[::-1] == processed_text:\n",
    "        return True\n",
    "\n",
    "    else:\n",
    "        return False\n",
    "is_palindrome(' ab ba')"
   ]
  },
  {
   "cell_type": "code",
   "execution_count": 41,
   "metadata": {
    "ExecuteTime": {
     "end_time": "2021-04-25T23:16:28.477659Z",
     "start_time": "2021-04-25T23:16:28.466231Z"
    },
    "deletable": false,
    "editable": false,
    "nbgrader": {
     "cell_type": "code",
     "checksum": "6e19e0996cf1ad7e29c586561d1b469e",
     "grade": true,
     "grade_id": "cell-71c90ba9148f6663",
     "locked": true,
     "points": 1,
     "schema_version": 3,
     "solution": false,
     "task": false
    }
   },
   "outputs": [],
   "source": [
    "assert_equal(is_palindrome('abcd'), False)\n",
    "assert_equal(is_palindrome('abba'), True)\n",
    "assert_equal(is_palindrome('abeba'), True)\n",
    "assert_equal(is_palindrome('abcda'), False)\n",
    "assert_equal(is_palindrome('ab cd'), False)\n",
    "assert_equal(is_palindrome('ab ba'), True)\n",
    "assert_equal(is_palindrome(' ab ba'), True)\n",
    "assert_equal(is_palindrome('ab  ba'), True)"
   ]
  },
  {
   "cell_type": "markdown",
   "metadata": {
    "deletable": false,
    "editable": false,
    "nbgrader": {
     "cell_type": "markdown",
     "checksum": "37321eb8c0f8913ced474ab9762aed6e",
     "grade": false,
     "grade_id": "cell-6fb595cbee7e6eb9",
     "locked": true,
     "schema_version": 3,
     "solution": false,
     "task": false
    }
   },
   "source": [
    "## Problem 9\n",
    "Write a function `create_squares` that takes in the number of stars on a side of a square then returns a 2$\\times$2 grid of squares as a string. Separate each line by the newline (`\\n`) character."
   ]
  },
  {
   "cell_type": "code",
   "execution_count": 55,
   "metadata": {
    "ExecuteTime": {
     "end_time": "2020-03-08T10:00:41.527220Z",
     "start_time": "2020-03-08T10:00:41.512569Z"
    },
    "deletable": false,
    "nbgrader": {
     "cell_type": "code",
     "checksum": "4437b6aae00a4ca2f2af33eab4bf9328",
     "grade": false,
     "grade_id": "cell-9d0bd755f6457ac0",
     "locked": false,
     "schema_version": 3,
     "solution": true,
     "task": false
    }
   },
   "outputs": [],
   "source": [
    "def create_squares(num_stars):\n",
    "    \"\"\"\n",
    "    create_squares() takes in the number of stars on a side of a square then returns\n",
    "    a 2 × 2 grid of squares as a string. Separate each line by\n",
    "    the newline (\\n) character.\n",
    "    \n",
    "     Parameters\n",
    "    ----------\n",
    "    num_stars : positive int\n",
    "        number of stars inside the top left and bottom right squares of a grid \n",
    "        \n",
    "    Returns\n",
    "    -------\n",
    "    output : str \n",
    "        grid with squares filled with num_stars amount of stars on the \n",
    "        top left and bottom right squares while empty on the remaining squares\n",
    "    \n",
    "    \"\"\"\n",
    "    h_border = \"- \"*num_stars\n",
    "    filling = \"* \"*num_stars\n",
    "    no_fill = \"  \"*num_stars\n",
    "\n",
    "    row_1 = \"+ \" + h_border + \"+ \" + h_border + \"+\\n\"\n",
    "    left_fill_row = \"| \" + filling + \"| \" + no_fill + \"|\\n\"\n",
    "    right_fill_row = \"| \" + no_fill + \"| \" + filling + \"|\\n\"\n",
    "\n",
    "\n",
    "    output = (row_1 + left_fill_row*num_stars + row_1 + \n",
    "              right_fill_row*num_stars + row_1) \n",
    "\n",
    "    return output"
   ]
  },
  {
   "cell_type": "code",
   "execution_count": 56,
   "metadata": {
    "ExecuteTime": {
     "end_time": "2020-03-08T10:05:00.210826Z",
     "start_time": "2020-03-08T10:05:00.199199Z"
    },
    "deletable": false,
    "editable": false,
    "nbgrader": {
     "cell_type": "code",
     "checksum": "72b43c61e570cf056e1927b630d9d212",
     "grade": true,
     "grade_id": "cell-1f0947cbeb45f780",
     "locked": true,
     "points": 1,
     "schema_version": 3,
     "solution": false,
     "task": false
    }
   },
   "outputs": [],
   "source": [
    "assert_equal(\n",
    "    create_squares(1),\n",
    "\"\"\"+ - + - +\n",
    "| * |   |\n",
    "+ - + - +\n",
    "|   | * |\n",
    "+ - + - +\n",
    "\"\"\"\n",
    ")\n",
    "assert_equal(\n",
    "    create_squares(3),\n",
    "\"\"\"+ - - - + - - - +\n",
    "| * * * |       |\n",
    "| * * * |       |\n",
    "| * * * |       |\n",
    "+ - - - + - - - +\n",
    "|       | * * * |\n",
    "|       | * * * |\n",
    "|       | * * * |\n",
    "+ - - - + - - - +\n",
    "\"\"\"\n",
    ")"
   ]
  },
  {
   "cell_type": "markdown",
   "metadata": {
    "deletable": false,
    "editable": false,
    "nbgrader": {
     "cell_type": "markdown",
     "checksum": "43973be581f7c4f4f4f021e6ed27cd27",
     "grade": false,
     "grade_id": "cell-48b51f5e7d39cc53",
     "locked": true,
     "schema_version": 3,
     "solution": false,
     "task": false
    }
   },
   "source": [
    "## Problem 10\n",
    "Write a function `create_grid` that takes in the number squares on a side and the number of stars on a side of a square then returns the grid of squares as a string. Separate each line by the newline (`\\n`) character.\n"
   ]
  },
  {
   "cell_type": "code",
   "execution_count": 49,
   "metadata": {
    "ExecuteTime": {
     "end_time": "2020-03-08T11:36:39.553946Z",
     "start_time": "2020-03-08T11:36:39.541668Z"
    },
    "deletable": false,
    "nbgrader": {
     "cell_type": "code",
     "checksum": "3152ba1ebacdc37af3efb38b030fef41",
     "grade": false,
     "grade_id": "cell-d554859dd48da4e8",
     "locked": false,
     "schema_version": 3,
     "solution": true,
     "task": false
    }
   },
   "outputs": [],
   "source": [
    "\n",
    "def create_grid(num_squares, num_stars):\n",
    "    \"\"\"\n",
    "    create_grid takes in the number squares on a side and the number of stars \n",
    "    on a side of a square then returns the grid of squares as a string. \n",
    "    Separate each line by the newline (\\n) character.\n",
    "    \n",
    "    Parameters\n",
    "    ----------\n",
    "    num_stars : positive int\n",
    "        number of stars inside alternating squares of the grid \n",
    "        \n",
    "    num_squares : positive int\n",
    "        number of squares on a side of the grid\n",
    "        \n",
    "    Returns\n",
    "    -------\n",
    "    grid_string : str \n",
    "        grid with alternating squares filled with num_stars amount of stars \n",
    "        on the top left and bottom right squares while \n",
    "        empty on the remaining squares\n",
    "    \"\"\"\n",
    "\n",
    "    grid_string = (\"+ \" + \"- \" * num_stars) * num_squares + \"+\\n\"\n",
    "\n",
    "    for k in range(1, num_squares + 1):\n",
    "        if k % 2 == 0:\n",
    "            for i in range(1, num_stars + 1): \n",
    "                for j in range(1, num_squares + 1):\n",
    "                    if j % 2 == 0:\n",
    "                        grid_string += str(\"| \" + \"* \" * num_stars)\n",
    "                    else:\n",
    "                        grid_string += str(\"| \" + \"  \" * num_stars)\n",
    "\n",
    "                grid_string += \"|\\n\"\n",
    "        else:\n",
    "            for i in range(1, num_stars + 1): \n",
    "                for j in range(1, num_squares + 1):\n",
    "                    if j % 2 == 0:\n",
    "                        grid_string += str(\"| \" + \"  \" * num_stars)\n",
    "                    else:\n",
    "                        grid_string += str(\"| \" + \"* \" * num_stars)\n",
    "\n",
    "                grid_string += \"|\\n\"\n",
    "\n",
    "        grid_string += str(\"+ \" + \"- \" * num_stars) * num_squares + \"+\\n\"\n",
    "\n",
    "    return grid_string"
   ]
  },
  {
   "cell_type": "code",
   "execution_count": 50,
   "metadata": {
    "ExecuteTime": {
     "end_time": "2020-03-08T11:39:41.240687Z",
     "start_time": "2020-03-08T11:39:41.229390Z"
    },
    "deletable": false,
    "editable": false,
    "nbgrader": {
     "cell_type": "code",
     "checksum": "967275f2c3ceb55c7a04232c54d9c607",
     "grade": true,
     "grade_id": "cell-804b324f525cec69",
     "locked": true,
     "points": 1,
     "schema_version": 3,
     "solution": false,
     "task": false
    }
   },
   "outputs": [],
   "source": [
    "assert_equal(\n",
    "    create_grid(1, 1),\n",
    "\"\"\"+ - +\n",
    "| * |\n",
    "+ - +\n",
    "\"\"\")\n",
    "assert_equal(\n",
    "    create_grid(2, 4),\n",
    "\"\"\"+ - - - - + - - - - +\n",
    "| * * * * |         |\n",
    "| * * * * |         |\n",
    "| * * * * |         |\n",
    "| * * * * |         |\n",
    "+ - - - - + - - - - +\n",
    "|         | * * * * |\n",
    "|         | * * * * |\n",
    "|         | * * * * |\n",
    "|         | * * * * |\n",
    "+ - - - - + - - - - +\n",
    "\"\"\")\n",
    "assert_equal(\n",
    "    create_grid(4, 2),\n",
    "\"\"\"+ - - + - - + - - + - - +\n",
    "| * * |     | * * |     |\n",
    "| * * |     | * * |     |\n",
    "+ - - + - - + - - + - - +\n",
    "|     | * * |     | * * |\n",
    "|     | * * |     | * * |\n",
    "+ - - + - - + - - + - - +\n",
    "| * * |     | * * |     |\n",
    "| * * |     | * * |     |\n",
    "+ - - + - - + - - + - - +\n",
    "|     | * * |     | * * |\n",
    "|     | * * |     | * * |\n",
    "+ - - + - - + - - + - - +\n",
    "\"\"\")"
   ]
  }
 ],
 "metadata": {
  "kernelspec": {
   "display_name": "Python 3",
   "language": "python",
   "name": "python3"
  },
  "language_info": {
   "codemirror_mode": {
    "name": "ipython",
    "version": 3
   },
   "file_extension": ".py",
   "mimetype": "text/x-python",
   "name": "python",
   "nbconvert_exporter": "python",
   "pygments_lexer": "ipython3",
   "version": "3.8.8"
  }
 },
 "nbformat": 4,
 "nbformat_minor": 2
}
