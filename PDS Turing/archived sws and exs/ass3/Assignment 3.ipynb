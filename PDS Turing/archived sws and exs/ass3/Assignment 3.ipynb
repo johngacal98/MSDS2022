{
 "cells": [
  {
   "cell_type": "code",
   "execution_count": 1,
   "metadata": {
    "ExecuteTime": {
     "end_time": "2021-05-21T19:48:13.454405Z",
     "start_time": "2021-05-21T19:48:13.192886Z"
    },
    "deletable": false,
    "editable": false,
    "nbgrader": {
     "cell_type": "code",
     "checksum": "bb8f35fd8f39d1acbe8a2aad8596bdd0",
     "grade": false,
     "grade_id": "cell-d344f83a9de30fdc",
     "locked": true,
     "schema_version": 3,
     "solution": false,
     "task": false
    }
   },
   "outputs": [],
   "source": [
    "import numpy as np\n",
    "from numpy.testing import (assert_equal, assert_raises, assert_array_equal, \n",
    "                           assert_almost_equal, assert_allclose)"
   ]
  },
  {
   "cell_type": "markdown",
   "metadata": {
    "deletable": false,
    "editable": false,
    "nbgrader": {
     "cell_type": "markdown",
     "checksum": "39cc496a3ce0464ea37406c9d9f6a9c8",
     "grade": false,
     "grade_id": "cell-1d8d204fa31c5670",
     "locked": true,
     "schema_version": 3,
     "solution": false,
     "task": false
    }
   },
   "source": [
    "## Problem 1\n",
    "Create a function `div` that accepts `a` and `b` as parameters and returns `a / b`. If `b` is zero then return `np.nan`. Other exceptions should remain unhandled."
   ]
  },
  {
   "cell_type": "code",
   "execution_count": 22,
   "metadata": {
    "ExecuteTime": {
     "end_time": "2021-05-21T19:48:15.248439Z",
     "start_time": "2021-05-21T19:48:15.242032Z"
    },
    "deletable": false,
    "nbgrader": {
     "cell_type": "code",
     "checksum": "4a0f92ca774b2f20f2841d02746e8d0a",
     "grade": false,
     "grade_id": "cell-5c3bb762f90f6978",
     "locked": false,
     "schema_version": 3,
     "solution": true
    }
   },
   "outputs": [],
   "source": [
    "def div(a, b):\n",
    "    \"\"\"\n",
    "    Compute a divided by b\n",
    "    \n",
    "    Accepts a and b as parameters and returns a / b. If b is zero then return\n",
    "    np.nan. Other exceptions remain unhandled.\n",
    "    \n",
    "    Parameters\n",
    "    ----------\n",
    "    a : int\n",
    "        numerator\n",
    "    b : int\n",
    "        denominator\n",
    "    \n",
    "    Returns\n",
    "    -------\n",
    "    float\n",
    "        quotient\n",
    "    \"\"\"\n",
    "    try:\n",
    "        a/b\n",
    "    except:\n",
    "        return np.nan\n",
    "    else:\n",
    "        return a/b"
   ]
  },
  {
   "cell_type": "code",
   "execution_count": 3,
   "metadata": {
    "ExecuteTime": {
     "end_time": "2021-05-21T19:48:15.719209Z",
     "start_time": "2021-05-21T19:48:15.711408Z"
    },
    "deletable": false,
    "editable": false,
    "nbgrader": {
     "cell_type": "code",
     "checksum": "ab73b098e49bb29c824295594d427c4e",
     "grade": true,
     "grade_id": "cell-1f0fc02049cc7b3e",
     "locked": true,
     "points": 1,
     "schema_version": 3,
     "solution": false
    }
   },
   "outputs": [],
   "source": [
    "assert_almost_equal(div(1, 2), 0.5)\n",
    "assert_equal(div(10, 0), np.nan)"
   ]
  },
  {
   "cell_type": "markdown",
   "metadata": {
    "deletable": false,
    "editable": false,
    "nbgrader": {
     "cell_type": "markdown",
     "checksum": "8c6a250e171116920c12a5e71903f204",
     "grade": false,
     "grade_id": "cell-a85e28be4e7bc06a",
     "locked": true,
     "schema_version": 3,
     "solution": false,
     "task": false
    }
   },
   "source": [
    "## Problem 2\n",
    "Create a function `gen_array` that returns a 10$\\times$10 `numpy` `ndarray` from numbers 1 to 100 with values divisible by 3 replaced by 0:\n",
    "\n",
    "     array([1  2 0  … 0  10],\n",
    "           [11 …     19  20],\n",
    "            …\n",
    "           [91 …      0 100])"
   ]
  },
  {
   "cell_type": "code",
   "execution_count": 14,
   "metadata": {
    "ExecuteTime": {
     "end_time": "2021-05-21T19:48:17.901406Z",
     "start_time": "2021-05-21T19:48:17.894771Z"
    },
    "deletable": false,
    "nbgrader": {
     "cell_type": "code",
     "checksum": "f62a15329a7e4d4893f950ed28bfdb57",
     "grade": false,
     "grade_id": "cell-2ff687ff756458eb",
     "locked": false,
     "schema_version": 3,
     "solution": true
    }
   },
   "outputs": [],
   "source": [
    "def gen_array():\n",
    "    \"\"\"\n",
    "    Returns a 10 × 10 numpy ndarray \n",
    "    \n",
    "    ndarray contains numbers 1 to 100 with values divisible by 3 replaced by 0\n",
    "    \n",
    "    Returns\n",
    "    -------\n",
    "    arr2 : ndarray\n",
    "        10 × 10 numpy ndarray containing the values\n",
    "    \"\"\"\n",
    "    li2 = [i if i%3 != 0 else 0 for i in range(1,101)]\n",
    "    arr2 = np.array(li2).reshape(10,10)\n",
    "\n",
    "    return arr2"
   ]
  },
  {
   "cell_type": "code",
   "execution_count": 13,
   "metadata": {},
   "outputs": [
    {
     "data": {
      "text/plain": [
       "array([[  1,   2,   0,   4,   5,   0,   7,   8,   0,  10],\n",
       "       [ 11,   0,  13,  14,   0,  16,  17,   0,  19,  20],\n",
       "       [  0,  22,  23,   0,  25,  26,   0,  28,  29,   0],\n",
       "       [ 31,  32,   0,  34,  35,   0,  37,  38,   0,  40],\n",
       "       [ 41,   0,  43,  44,   0,  46,  47,   0,  49,  50],\n",
       "       [  0,  52,  53,   0,  55,  56,   0,  58,  59,   0],\n",
       "       [ 61,  62,   0,  64,  65,   0,  67,  68,   0,  70],\n",
       "       [ 71,   0,  73,  74,   0,  76,  77,   0,  79,  80],\n",
       "       [  0,  82,  83,   0,  85,  86,   0,  88,  89,   0],\n",
       "       [ 91,  92,   0,  94,  95,   0,  97,  98,   0, 100]])"
      ]
     },
     "execution_count": 13,
     "metadata": {},
     "output_type": "execute_result"
    }
   ],
   "source": []
  },
  {
   "cell_type": "code",
   "execution_count": 15,
   "metadata": {
    "ExecuteTime": {
     "end_time": "2021-05-21T19:48:30.773400Z",
     "start_time": "2021-05-21T19:48:30.764397Z"
    },
    "deletable": false,
    "editable": false,
    "nbgrader": {
     "cell_type": "code",
     "checksum": "1ca0e13ae9c35e5e313a6b8712b450ba",
     "grade": true,
     "grade_id": "cell-178ae4e110662a47",
     "locked": true,
     "points": 1,
     "schema_version": 3,
     "solution": false
    }
   },
   "outputs": [],
   "source": [
    "a = gen_array()\n",
    "assert_equal(isinstance(a, np.ndarray), True)\n",
    "assert_equal(a.dtype, int)"
   ]
  },
  {
   "cell_type": "markdown",
   "metadata": {
    "deletable": false,
    "editable": false,
    "nbgrader": {
     "cell_type": "markdown",
     "checksum": "894c33ce1ee08f6da4b3cf7e948bd1df",
     "grade": false,
     "grade_id": "cell-8f50b6c7ec5778a9",
     "locked": true,
     "schema_version": 3,
     "solution": false,
     "task": false
    }
   },
   "source": [
    "## Problem 3\n",
    "Create a function `dot` that takes in two 1$\\times$9 `numpy` `ndarray`s, converts the arrays into 3$\\times$3 (e.g., `[1, 2, 3, 4, 5, 6, 7, 8, 9]` becomes `[[1, 2, 3], [4, 5, 6], [7, 8, 9]]` ) then returns the dot product of the arrays. The function should raise a `ValueError` if the inputs are not 1$\\times$9 `ndarray`s."
   ]
  },
  {
   "cell_type": "code",
   "execution_count": 33,
   "metadata": {
    "ExecuteTime": {
     "end_time": "2021-05-21T19:48:38.128379Z",
     "start_time": "2021-05-21T19:48:35.297507Z"
    },
    "deletable": false,
    "nbgrader": {
     "cell_type": "code",
     "checksum": "a21a4f47a9678b044c4c2bdeca247e0e",
     "grade": false,
     "grade_id": "cell-c5cd80f0f11ad2a2",
     "locked": false,
     "schema_version": 3,
     "solution": true
    }
   },
   "outputs": [],
   "source": [
    "def dot(arr1, arr2):\n",
    "    \"\"\"\n",
    "    Convert 2 1x9 input arrays into 3x3 arrays and return their dot product \n",
    "    \n",
    "    Raises a ValueError if the inputs are not 1x9 ndarrays\n",
    "    \n",
    "    Parameters\n",
    "    ----------\n",
    "    arr1, arr2: ndarray\n",
    "        ndarrays\n",
    "    \n",
    "    Returns\n",
    "    -------\n",
    "    ndarray\n",
    "        resulting 3x3 ndarray after performing dot product on arr1 and arr2\n",
    "    \"\"\"\n",
    "    if (type(arr1) is np.ndarray) and (type(arr2) is np.ndarray):\n",
    "        if (arr1.shape == (1,9) and arr2.shape == (1,9)):\n",
    "            arr1 = arr1.reshape((3,3))\n",
    "            arr2 = arr2.reshape((3,3))\n",
    "        else:\n",
    "            raise ValueError\n",
    "    else:\n",
    "        raise ValueError\n",
    "    \n",
    "    return np.dot(arr1,arr2)\n"
   ]
  },
  {
   "cell_type": "code",
   "execution_count": null,
   "metadata": {},
   "outputs": [],
   "source": []
  },
  {
   "cell_type": "code",
   "execution_count": 35,
   "metadata": {
    "ExecuteTime": {
     "end_time": "2021-05-21T19:48:39.481684Z",
     "start_time": "2021-05-21T19:48:39.468187Z"
    },
    "deletable": false,
    "editable": false,
    "nbgrader": {
     "cell_type": "code",
     "checksum": "a3a279890c9515579eec68ca63301343",
     "grade": true,
     "grade_id": "cell-421df91b38cd545f",
     "locked": true,
     "points": 1,
     "schema_version": 3,
     "solution": false
    }
   },
   "outputs": [],
   "source": [
    "assert_raises(ValueError, lambda: dot(range(9), np.arange(9)))"
   ]
  },
  {
   "cell_type": "markdown",
   "metadata": {
    "deletable": false,
    "editable": false,
    "nbgrader": {
     "cell_type": "markdown",
     "checksum": "f1564bf61bb4e582df17cd109c0aa5a4",
     "grade": false,
     "grade_id": "cell-989ba22f0118fcac",
     "locked": true,
     "schema_version": 3,
     "solution": false,
     "task": false
    }
   },
   "source": [
    "## Problem 4\n",
    "Create a function `mult3d` that takes in a 3D `ndarray` `a` and a square `ndarray` `b` and returns an `ndarray` `z` defined by $z_{ijk} = a_{ijk}b_{ij}$."
   ]
  },
  {
   "cell_type": "code",
   "execution_count": 83,
   "metadata": {
    "ExecuteTime": {
     "end_time": "2021-05-21T19:48:43.262810Z",
     "start_time": "2021-05-21T19:48:43.257311Z"
    },
    "deletable": false,
    "nbgrader": {
     "cell_type": "code",
     "checksum": "7e046a66a81ccd10a99e4cf956b20009",
     "grade": false,
     "grade_id": "cell-88c1cae07be633da",
     "locked": false,
     "schema_version": 3,
     "solution": true
    }
   },
   "outputs": [],
   "source": [
    "def mult3d(a, b):\n",
    "    \"\"\"\n",
    "    Create ndarray z, where z(i,j,k) is the product of a(i,j,k) and b(i,j,k)\n",
    "    \n",
    "    \n",
    "    Parameters\n",
    "    ----------\n",
    "    a : ndarray\n",
    "        3D ndarray\n",
    "    b : ndarray\n",
    "        square ndarray\n",
    "    \n",
    "    Returns\n",
    "    -------\n",
    "    ndarray\n",
    "        resulting 3D ndarray\n",
    "    \"\"\"\n",
    "    b = b.reshape(b.shape + (1,))\n",
    "    return b*a"
   ]
  },
  {
   "cell_type": "code",
   "execution_count": 85,
   "metadata": {
    "ExecuteTime": {
     "end_time": "2021-05-21T19:48:58.962042Z",
     "start_time": "2021-05-21T19:48:58.952032Z"
    },
    "deletable": false,
    "editable": false,
    "nbgrader": {
     "cell_type": "code",
     "checksum": "0568d869018a783ef9a9ff3fd74edfd7",
     "grade": true,
     "grade_id": "cell-db0692031e129076",
     "locked": true,
     "points": 1,
     "schema_version": 3,
     "solution": false
    }
   },
   "outputs": [],
   "source": [
    "a = np.ones((2, 2, 3))\n",
    "b = np.array([[1, 2], [3, 4]])\n",
    "z = mult3d(a, b)\n",
    "assert_equal(isinstance(z, np.ndarray), True)"
   ]
  },
  {
   "cell_type": "markdown",
   "metadata": {
    "deletable": false,
    "editable": false,
    "nbgrader": {
     "cell_type": "markdown",
     "checksum": "8270f6600257dc855c64c6861841b324",
     "grade": false,
     "grade_id": "cell-be01b516be375008",
     "locked": true,
     "schema_version": 3,
     "solution": false,
     "task": false
    }
   },
   "source": [
    "## Problem 5\n",
    "\n",
    "Create a class `ABMWithStep` that is an `ABM` but returns the string `step` with the step number when `status` is called. "
   ]
  },
  {
   "cell_type": "code",
   "execution_count": 102,
   "metadata": {
    "ExecuteTime": {
     "end_time": "2021-05-21T19:49:01.013729Z",
     "start_time": "2021-05-21T19:49:01.004793Z"
    },
    "deletable": false,
    "editable": false,
    "nbgrader": {
     "cell_type": "code",
     "checksum": "94f3328e6c81dfbd19edde7c92baa0ef",
     "grade": false,
     "grade_id": "cell-581683505aa9a941",
     "locked": true,
     "schema_version": 3,
     "solution": false,
     "task": false
    }
   },
   "outputs": [],
   "source": [
    "class ABM:\n",
    "    def __init__(self):\n",
    "        self.timestep = 0\n",
    "        \n",
    "    def step(self):\n",
    "        self.timestep += 1\n",
    "        \n",
    "    def status(self):\n",
    "        return 'step'\n",
    "\n",
    "def step_model(model, steps):\n",
    "    statuses = []\n",
    "    for _ in range(steps):\n",
    "        statuses.append(model.status())\n",
    "        model.step()\n",
    "    return statuses"
   ]
  },
  {
   "cell_type": "code",
   "execution_count": 103,
   "metadata": {
    "ExecuteTime": {
     "end_time": "2021-05-21T19:49:03.802849Z",
     "start_time": "2021-05-21T19:49:03.797394Z"
    },
    "deletable": false,
    "nbgrader": {
     "cell_type": "code",
     "checksum": "c3ec6b8fd84da663adafed84ec6ba53a",
     "grade": false,
     "grade_id": "cell-11bce336caf0f1b4",
     "locked": false,
     "schema_version": 3,
     "solution": true,
     "task": false
    }
   },
   "outputs": [],
   "source": [
    "class ABMWithStep(ABM):\n",
    "    \"\"\"\n",
    "    Child of class ABM\n",
    "    \"\"\"\n",
    "    def status(self):\n",
    "        \"\"\"\n",
    "        return 'step x', where x is the timestep of string type\n",
    "\n",
    "        Returns\n",
    "        -------\n",
    "        str\n",
    "            step number\n",
    "        \"\"\"\n",
    "        return 'step ' + str(self.timestep)"
   ]
  },
  {
   "cell_type": "code",
   "execution_count": 104,
   "metadata": {
    "ExecuteTime": {
     "end_time": "2021-05-21T19:49:19.151215Z",
     "start_time": "2021-05-21T19:49:19.140636Z"
    },
    "deletable": false,
    "editable": false,
    "nbgrader": {
     "cell_type": "code",
     "checksum": "6cd89efdbd129647a334aa4310772834",
     "grade": true,
     "grade_id": "cell-95c2acb09668d30d",
     "locked": true,
     "points": 1,
     "schema_version": 3,
     "solution": false,
     "task": false
    }
   },
   "outputs": [],
   "source": [
    "abm = ABM()\n",
    "assert_equal(\n",
    "    step_model(abm, 10), \n",
    "    ['step', 'step', 'step', 'step', 'step', \n",
    "     'step', 'step', 'step', 'step', 'step'])\n",
    "abm_ws = ABMWithStep()\n",
    "assert_equal(isinstance(abm_ws, ABM), True)\n",
    "assert_equal(\n",
    "    step_model(abm_ws, 10), \n",
    "    ['step 0', 'step 1', 'step 2', 'step 3', 'step 4', \n",
    "     'step 5', 'step 6', 'step 7', 'step 8', 'step 9'])"
   ]
  },
  {
   "cell_type": "markdown",
   "metadata": {
    "deletable": false,
    "editable": false,
    "nbgrader": {
     "cell_type": "markdown",
     "checksum": "eb4ebb0b02b17febee88b8985e6c7600",
     "grade": false,
     "grade_id": "cell-63e4f89c6aa3c7da",
     "locked": true,
     "schema_version": 3,
     "solution": false,
     "task": false
    }
   },
   "source": [
    "## Problem 6\n",
    "\n",
    "Create a class `FlightTracker` that is a `Tracker` but also accepts `height` as a required parameter on creation. It should also have a `get_height` method that returns the current `height`."
   ]
  },
  {
   "cell_type": "code",
   "execution_count": 106,
   "metadata": {
    "ExecuteTime": {
     "end_time": "2021-05-21T19:49:23.149828Z",
     "start_time": "2021-05-21T19:49:23.142939Z"
    },
    "deletable": false,
    "editable": false,
    "nbgrader": {
     "cell_type": "code",
     "checksum": "79f4dfd5a97dae8959eb681315b7a2fb",
     "grade": false,
     "grade_id": "cell-1a4f21ffdccc1a61",
     "locked": true,
     "schema_version": 3,
     "solution": false,
     "task": false
    }
   },
   "outputs": [],
   "source": [
    "class Tracker:\n",
    "    def __init__(self, lon, lat):\n",
    "        self.lon = lon\n",
    "        self.lat = lat\n",
    "        \n",
    "    def get_position(self):\n",
    "        return (self.lon, self.lat)"
   ]
  },
  {
   "cell_type": "code",
   "execution_count": 111,
   "metadata": {
    "ExecuteTime": {
     "end_time": "2021-05-21T19:49:24.075665Z",
     "start_time": "2021-05-21T19:49:24.068636Z"
    },
    "deletable": false,
    "nbgrader": {
     "cell_type": "code",
     "checksum": "65c9c3f25842a5d40e5b85f70ea4bda4",
     "grade": false,
     "grade_id": "cell-1a7ef50fce72f4b8",
     "locked": false,
     "schema_version": 3,
     "solution": true,
     "task": false
    }
   },
   "outputs": [],
   "source": [
    "class FlightTracker(Tracker):\n",
    "    \"\"\"\n",
    "    Child of class Tracker\n",
    "    \"\"\"\n",
    "    def __init__(self, lon, lat, height):\n",
    "        \"\"\"\n",
    "        Initialize longitute, latitude, and height values\n",
    "        \n",
    "        Parameters\n",
    "        ----------\n",
    "        lon : int\n",
    "            longitude value\n",
    "        lat : int\n",
    "            latitude value\n",
    "        height : int\n",
    "            height value\n",
    "        \"\"\"\n",
    "        self.height = height\n",
    "        self.lon = lon\n",
    "        self.lat = lat\n",
    "    def get_height(self):\n",
    "        \"\"\"\n",
    "        Return height value\n",
    "\n",
    "\n",
    "        Returns\n",
    "        -------\n",
    "        int\n",
    "            height value\n",
    "        \"\"\"\n",
    "        return self.height"
   ]
  },
  {
   "cell_type": "code",
   "execution_count": 112,
   "metadata": {
    "ExecuteTime": {
     "end_time": "2020-04-11T14:32:28.699522Z",
     "start_time": "2020-04-11T14:32:28.691253Z"
    },
    "deletable": false,
    "editable": false,
    "nbgrader": {
     "cell_type": "code",
     "checksum": "87d17959a6a66a42812e0a0a18068be5",
     "grade": true,
     "grade_id": "cell-26c5b4815bfa00a0",
     "locked": true,
     "points": 1,
     "schema_version": 3,
     "solution": false,
     "task": false
    }
   },
   "outputs": [],
   "source": [
    "tracker = Tracker(120, 10)\n",
    "assert_equal(tracker.get_position(), (120, 10))\n",
    "flight_tracker = FlightTracker(-60, 30, 30000)\n",
    "assert_equal(isinstance(flight_tracker, Tracker), True)\n",
    "assert_equal(flight_tracker.get_position(), (-60, 30))\n",
    "assert_equal(flight_tracker.get_height(), 30000)"
   ]
  },
  {
   "cell_type": "markdown",
   "metadata": {
    "deletable": false,
    "editable": false,
    "nbgrader": {
     "cell_type": "markdown",
     "checksum": "bf3e0ded8115348fb3d651194c25bb7a",
     "grade": false,
     "grade_id": "cell-16f563f08aa71f9a",
     "locked": true,
     "schema_version": 3,
     "solution": false,
     "task": false
    }
   },
   "source": [
    "## Problem 7\n",
    "\n",
    "Create a class `Rectangle` that is a `Polygon` but accepts the `length` and `width` on initialization. Create another class `Square` that is a `Rectangle` but accepts a `side` on initialization. Do not overwrite the `compute_perimeter` method of `Rectangle`."
   ]
  },
  {
   "cell_type": "code",
   "execution_count": 116,
   "metadata": {
    "ExecuteTime": {
     "end_time": "2021-05-21T19:49:31.800491Z",
     "start_time": "2021-05-21T19:49:31.794096Z"
    },
    "deletable": false,
    "editable": false,
    "nbgrader": {
     "cell_type": "code",
     "checksum": "7c748fec9ee9a965b7afbc80c18be2fd",
     "grade": false,
     "grade_id": "cell-a3e42657ab32a6fe",
     "locked": true,
     "schema_version": 3,
     "solution": false,
     "task": false
    }
   },
   "outputs": [],
   "source": [
    "class Polygon:\n",
    "    def __init__(self, *sides):\n",
    "        self.sides = sides\n",
    "        \n",
    "    def compute_perimeter(self):\n",
    "        return sum(self.sides)"
   ]
  },
  {
   "cell_type": "code",
   "execution_count": 122,
   "metadata": {
    "ExecuteTime": {
     "end_time": "2021-05-21T19:49:32.518596Z",
     "start_time": "2021-05-21T19:49:32.511046Z"
    },
    "deletable": false,
    "nbgrader": {
     "cell_type": "code",
     "checksum": "247862391294e5b4a75e04e629ca2b2e",
     "grade": false,
     "grade_id": "cell-7fc2e1822ff30382",
     "locked": false,
     "schema_version": 3,
     "solution": true,
     "task": false
    }
   },
   "outputs": [],
   "source": [
    "class Rectangle(Polygon):\n",
    "    \"\"\"\n",
    "    Child of class Polygon\n",
    "    \"\"\"\n",
    "    def __init__(self, length, width):\n",
    "        \"\"\"\n",
    "        Initialize length and width values; compute sides value\n",
    "        \n",
    "        Parameters\n",
    "        ----------\n",
    "        length : int\n",
    "            length value\n",
    "            \n",
    "        width : int\n",
    "            width value\n",
    "        \"\"\"\n",
    "        self.length = length\n",
    "        self.width = width\n",
    "        self.sides = (2*length, 2*width)\n",
    "class Square(Rectangle):\n",
    "    \"\"\"\n",
    "    Child of class Rectangle\n",
    "    \"\"\"\n",
    "    def __init__(self, side):\n",
    "        \"\"\"\n",
    "        Initialize side value; compute sides value\n",
    "        \n",
    "        Parameters\n",
    "        ----------\n",
    "        side : int\n",
    "            side value\n",
    "        \"\"\"\n",
    "        self.side = side\n",
    "        self.sides = (side*4,)"
   ]
  },
  {
   "cell_type": "code",
   "execution_count": 123,
   "metadata": {
    "ExecuteTime": {
     "end_time": "2021-05-21T19:49:49.864397Z",
     "start_time": "2021-05-21T19:49:49.856254Z"
    },
    "deletable": false,
    "editable": false,
    "nbgrader": {
     "cell_type": "code",
     "checksum": "f3d903587a165f25ec862316019b5d96",
     "grade": true,
     "grade_id": "cell-828fbee742a9e69e",
     "locked": true,
     "points": 1,
     "schema_version": 3,
     "solution": false,
     "task": false
    }
   },
   "outputs": [],
   "source": [
    "assert_equal(issubclass(Rectangle, Polygon), True)\n",
    "assert_equal(issubclass(Square, Rectangle), True)\n",
    "assert_equal(Rectangle.compute_perimeter, Polygon.compute_perimeter)\n",
    "assert_equal(Rectangle(4, 5).compute_perimeter(), 18)\n",
    "assert_equal(Square.compute_perimeter, Polygon.compute_perimeter)\n",
    "assert_equal(Square(5).compute_perimeter(), 20)"
   ]
  },
  {
   "cell_type": "markdown",
   "metadata": {
    "deletable": false,
    "editable": false,
    "nbgrader": {
     "cell_type": "markdown",
     "checksum": "982b6e204a0c18ad07cde6eb4d195eb6",
     "grade": false,
     "grade_id": "cell-a92568e410712a0b",
     "locked": true,
     "schema_version": 3,
     "solution": false,
     "task": false
    }
   },
   "source": [
    "## Problem 8\n",
    "\n",
    "In the module `transition`, create a class `TransitionMatrix` that is initialized by a `numpy` `ndarray` of transition matrix. The initialization should raise a `TypeError` if the passed transition matrix is not a `numpy` `ndarray`, and a `ValueError` if any element is not between 0 and 1 (both inclusive). `TransitionMatrix`  has a property `probabilities` that is initialized to the transition matrix. `TransitionMatrix` should also have a parameterless method `step` that returns a `TransitionMatrix` that has the same transition matrix but with `probabilities` equal to the product of `probabilities` and the transition matrix. The original `probabilities` and transition matrix should not change when `step` is called."
   ]
  },
  {
   "cell_type": "code",
   "execution_count": 3,
   "metadata": {},
   "outputs": [],
   "source": []
  },
  {
   "cell_type": "code",
   "execution_count": 2,
   "metadata": {
    "ExecuteTime": {
     "end_time": "2021-05-21T19:50:00.008845Z",
     "start_time": "2021-05-21T19:49:59.983432Z"
    },
    "deletable": false,
    "editable": false,
    "nbgrader": {
     "cell_type": "code",
     "checksum": "992a35667be7ef0acb381fbab50faa54",
     "grade": true,
     "grade_id": "cell-bbcb5d1ee6a1c2a9",
     "locked": true,
     "points": 1,
     "schema_version": 3,
     "solution": false,
     "task": false
    }
   },
   "outputs": [],
   "source": [
    "from transition import TransitionMatrix\n",
    "assert_raises(\n",
    "    TypeError, \n",
    "    lambda: TransitionMatrix(\n",
    "        [[0.1, 0.9], \n",
    "         [0.2, 0.8]]))\n",
    "assert_raises(\n",
    "    ValueError, \n",
    "    lambda: TransitionMatrix(\n",
    "        np.array([[1, 9], \n",
    "                  [2, 8]])))\n",
    "\n",
    "tm = TransitionMatrix(\n",
    "    np.array([[0.1, 0.9], \n",
    "              [0.2, 0.8]]))\n",
    "assert_allclose(\n",
    "    tm.probabilities, \n",
    "    np.array([[0.1, 0.9], \n",
    "              [0.2, 0.8]]))\n",
    "\n",
    "tm2 = tm.step()\n",
    "assert_allclose(\n",
    "    tm2.probabilities, \n",
    "    np.array([[0.01, 0.81],\n",
    "              [0.04, 0.64]]))\n",
    "assert_allclose(\n",
    "    tm.probabilities, \n",
    "    np.array([[0.1, 0.9], \n",
    "              [0.2, 0.8]]))\n",
    "\n",
    "assert_allclose(\n",
    "    tm.step().step().probabilities, \n",
    "    np.array([[0.001, 0.729],\n",
    "              [0.008, 0.512]]))\n",
    "assert_allclose(\n",
    "    tm2.probabilities, \n",
    "    np.array([[0.01, 0.81],\n",
    "              [0.04, 0.64]]))\n",
    "assert_allclose(\n",
    "    tm.probabilities, \n",
    "    np.array([[0.1, 0.9], \n",
    "              [0.2, 0.8]]))\n"
   ]
  },
  {
   "cell_type": "markdown",
   "metadata": {
    "deletable": false,
    "editable": false,
    "nbgrader": {
     "cell_type": "markdown",
     "checksum": "c03df3070d3ce86725ed20c58d2cfc41",
     "grade": false,
     "grade_id": "cell-efc6a92e7a27ab2c",
     "locked": true,
     "schema_version": 3,
     "solution": false,
     "task": false
    }
   },
   "source": [
    "## Problem 9\n",
    "\n",
    "Create a function `zero_crossings` that counts the number of times the elements of a sequence touch or cross the $x$-axis ($y = 0$)."
   ]
  },
  {
   "cell_type": "code",
   "execution_count": 52,
   "metadata": {
    "ExecuteTime": {
     "end_time": "2021-05-21T19:50:01.834632Z",
     "start_time": "2021-05-21T19:50:01.828124Z"
    },
    "deletable": false,
    "nbgrader": {
     "cell_type": "code",
     "checksum": "68e451e556939af3bbe27e1a32957c7f",
     "grade": false,
     "grade_id": "cell-af7273a23b45b2d6",
     "locked": false,
     "schema_version": 3,
     "solution": true,
     "task": false
    }
   },
   "outputs": [],
   "source": [
    "def zero_crossings(readings):\n",
    "    \"\"\"\n",
    "    Count the number of times an integer touches or crosses the 𝑥-axis (𝑦=0).\n",
    "    \n",
    "    Iterate through a sequence of integers and compute the count value of each\n",
    "    iterated number.\n",
    "    \n",
    "    \n",
    "    Parameters\n",
    "    ----------\n",
    "    readings : list\n",
    "        list of integers\n",
    "            \n",
    "    Returns\n",
    "    -------\n",
    "    count : int\n",
    "        \n",
    "    \"\"\"\n",
    "    count = 0\n",
    "    for i in range(len(readings)-1):\n",
    "        a = readings[i]\n",
    "        b = readings[i+1]\n",
    "        if (a != b) and not ((a<0 and b<0) or (a>0 and b>0)) :\n",
    "            if a + b <= abs(a) + abs(b):\n",
    "                count = count + 1\n",
    "    return count"
   ]
  },
  {
   "cell_type": "code",
   "execution_count": 48,
   "metadata": {
    "ExecuteTime": {
     "end_time": "2021-05-21T19:50:27.256499Z",
     "start_time": "2021-05-21T19:50:27.249144Z"
    },
    "deletable": false,
    "editable": false,
    "nbgrader": {
     "cell_type": "code",
     "checksum": "c356a97ddbe1008cb7724f3cf898054f",
     "grade": true,
     "grade_id": "cell-e413d168f7dd7288",
     "locked": true,
     "points": 1,
     "schema_version": 3,
     "solution": false,
     "task": false
    }
   },
   "outputs": [],
   "source": [
    "assert_equal(zero_crossings([1, -10, 1, 5, 0, 0, 0, -1, -5, -6, 6]), 5)"
   ]
  },
  {
   "cell_type": "code",
   "execution_count": 51,
   "metadata": {},
   "outputs": [
    {
     "data": {
      "text/plain": [
       "1"
      ]
     },
     "execution_count": 51,
     "metadata": {},
     "output_type": "execute_result"
    }
   ],
   "source": [
    "zero_crossings([0,0,1])"
   ]
  },
  {
   "cell_type": "markdown",
   "metadata": {
    "deletable": false,
    "editable": false,
    "nbgrader": {
     "cell_type": "markdown",
     "checksum": "5bebbc315e26fa8a1edf6d9588344d30",
     "grade": false,
     "grade_id": "cell-a98ca17451766270",
     "locked": true,
     "schema_version": 3,
     "solution": false,
     "task": false
    }
   },
   "source": [
    "## Problem 10\n",
    "\n",
    "Create a function `outer_sum` that accepts the one-dimensional sequences `x` and `y` and returns the two-dimensional list `z` defined by $z_{ij} = x_i + y_j$."
   ]
  },
  {
   "cell_type": "code",
   "execution_count": 38,
   "metadata": {
    "ExecuteTime": {
     "end_time": "2021-05-21T19:50:32.011589Z",
     "start_time": "2021-05-21T19:50:32.005264Z"
    },
    "deletable": false,
    "nbgrader": {
     "cell_type": "code",
     "checksum": "70ecdf65d0453559e2dd132aef6cb229",
     "grade": false,
     "grade_id": "cell-05a1eec4fbaf6f7f",
     "locked": false,
     "schema_version": 3,
     "solution": true,
     "task": false
    }
   },
   "outputs": [],
   "source": [
    "def outer_sum(x, y):\n",
    "    \"\"\"\n",
    "    Create array z, such that z(i,j) is the sum of x(i) and y(j)\n",
    "    \n",
    "    Accept one-dimensional sequences x and y and return \n",
    "    a two-dimensional list z\n",
    "    \n",
    "    \n",
    "    Parameters\n",
    "    ----------\n",
    "    x : list\n",
    "        list of integers\n",
    "    y : list\n",
    "        list of integers\n",
    "    Returns\n",
    "    -------\n",
    "    z : list\n",
    "        2D list\n",
    "        \n",
    "    \"\"\"\n",
    "    x = np.array(x)\n",
    "    y = np.array(y)\n",
    "    arr10 = x.reshape((len(x),1)) + y\n",
    "    output10 = [list(i) for i in arr10]\n",
    "    return output10"
   ]
  },
  {
   "cell_type": "code",
   "execution_count": null,
   "metadata": {},
   "outputs": [],
   "source": []
  },
  {
   "cell_type": "code",
   "execution_count": 39,
   "metadata": {
    "ExecuteTime": {
     "end_time": "2021-05-21T19:50:39.495948Z",
     "start_time": "2021-05-21T19:50:39.481152Z"
    },
    "deletable": false,
    "editable": false,
    "nbgrader": {
     "cell_type": "code",
     "checksum": "647cf7ea41b7e48b37d9dd34f4c56909",
     "grade": true,
     "grade_id": "cell-9f722fc407ddbd90",
     "locked": true,
     "points": 1,
     "schema_version": 3,
     "solution": false,
     "task": false
    }
   },
   "outputs": [],
   "source": [
    "os = outer_sum([1, 2, 3], [10, 20, 30, 40])\n",
    "assert_equal(isinstance(os, list), True)\n",
    "assert_equal(\n",
    "    os, \n",
    "    [[11, 21, 31, 41], \n",
    "     [12, 22, 32, 42], \n",
    "     [13, 23, 33, 43]])"
   ]
  }
 ],
 "metadata": {
  "kernelspec": {
   "display_name": "Python 3",
   "language": "python",
   "name": "python3"
  },
  "language_info": {
   "codemirror_mode": {
    "name": "ipython",
    "version": 3
   },
   "file_extension": ".py",
   "mimetype": "text/x-python",
   "name": "python",
   "nbconvert_exporter": "python",
   "pygments_lexer": "ipython3",
   "version": "3.8.8"
  },
  "toc": {
   "base_numbering": 1,
   "nav_menu": {},
   "number_sections": true,
   "sideBar": true,
   "skip_h1_title": false,
   "title_cell": "Table of Contents",
   "title_sidebar": "Contents",
   "toc_cell": false,
   "toc_position": {},
   "toc_section_display": true,
   "toc_window_display": false
  }
 },
 "nbformat": 4,
 "nbformat_minor": 2
}
