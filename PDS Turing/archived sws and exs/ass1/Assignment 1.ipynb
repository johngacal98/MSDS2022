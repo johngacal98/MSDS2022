{
 "cells": [
  {
   "cell_type": "code",
   "execution_count": 55,
   "metadata": {
    "ExecuteTime": {
     "end_time": "2021-04-28T01:51:08.903929Z",
     "start_time": "2021-04-28T01:51:08.896121Z"
    },
    "deletable": false,
    "editable": false,
    "nbgrader": {
     "cell_type": "code",
     "checksum": "df2faa30ac32f77e906094a16265c802",
     "grade": false,
     "grade_id": "cell-e6ac56c0ba6b05f1",
     "locked": true,
     "schema_version": 3,
     "solution": false,
     "task": false
    }
   },
   "outputs": [],
   "source": [
    "from numpy.testing import assert_equal"
   ]
  },
  {
   "cell_type": "markdown",
   "metadata": {
    "deletable": false,
    "editable": false,
    "nbgrader": {
     "cell_type": "markdown",
     "checksum": "1e0b01d8c0fc4022befc5b86618fa101",
     "grade": false,
     "grade_id": "cell-a8bfcba26e236c70",
     "locked": true,
     "schema_version": 3,
     "solution": false,
     "task": false
    }
   },
   "source": [
    "For all items, the answer should be a single-line Linux (bash) shell command. Concatenation using `&&` and `;` is not allowed."
   ]
  },
  {
   "cell_type": "markdown",
   "metadata": {
    "deletable": false,
    "editable": false,
    "nbgrader": {
     "cell_type": "markdown",
     "checksum": "b657bc073167b49d7ec3dae948cf205d",
     "grade": false,
     "grade_id": "cell-959248e1f71a2b07",
     "locked": true,
     "schema_version": 3,
     "solution": false,
     "task": false
    }
   },
   "source": [
    "## Problem 1\n",
    "\n",
    "Show the $(n-20)$ to $(n - 16)$ (inclusive) lines, where $n$ is the last line in the file, of \"The Adventures of Sherlock Holmes\", which is the file `1/6/6/1661/1661.txt` under the `gutenberg` public data directory."
   ]
  },
  {
   "cell_type": "code",
   "execution_count": 56,
   "metadata": {
    "ExecuteTime": {
     "end_time": "2021-04-28T01:51:26.562284Z",
     "start_time": "2021-04-28T01:51:26.533521Z"
    },
    "deletable": false,
    "nbgrader": {
     "cell_type": "code",
     "checksum": "13e1c0a33201146382db9325e55a093d",
     "grade": false,
     "grade_id": "cell-86cc8b6f7b819256",
     "locked": false,
     "schema_version": 3,
     "solution": true
    }
   },
   "outputs": [],
   "source": [
    "%%bash --out output\n",
    "# lines in file = 13053\n",
    "cat /mnt/data/public/gutenberg/1/6/6/1661/1661.txt | tail -n 21 | head -n 5\n"
   ]
  },
  {
   "cell_type": "code",
   "execution_count": 57,
   "metadata": {
    "ExecuteTime": {
     "end_time": "2021-04-28T01:51:27.880791Z",
     "start_time": "2021-04-28T01:51:27.872009Z"
    },
    "deletable": false,
    "editable": false,
    "nbgrader": {
     "cell_type": "code",
     "checksum": "dbb954ee141d9f55f439fae7972fab52",
     "grade": true,
     "grade_id": "prob1-test",
     "locked": true,
     "points": 1,
     "schema_version": 3,
     "solution": false
    }
   },
   "outputs": [],
   "source": [
    "lines = output.split('\\r\\n')\n",
    "assert_equal(lines[0], '')"
   ]
  },
  {
   "cell_type": "markdown",
   "metadata": {
    "deletable": false,
    "editable": false,
    "nbgrader": {
     "cell_type": "markdown",
     "checksum": "c066d2033cff9ab3d0011b75b6a1cd45",
     "grade": false,
     "grade_id": "cell-9e0ed611201b5875",
     "locked": true,
     "schema_version": 3,
     "solution": false,
     "task": false
    }
   },
   "source": [
    "## Problem 2\n",
    "How many items belong to the category `Drugs/Cannabis/Weed` in the Agora dark web marketplace? Use the data found in the public data directory."
   ]
  },
  {
   "cell_type": "code",
   "execution_count": 58,
   "metadata": {
    "ExecuteTime": {
     "end_time": "2021-04-28T01:52:46.535597Z",
     "start_time": "2021-04-28T01:52:46.441134Z"
    },
    "deletable": false,
    "nbgrader": {
     "cell_type": "code",
     "checksum": "2318d2037a4be951f6ec3e97b9107178",
     "grade": false,
     "grade_id": "cell-e28d4638d1afa2de",
     "locked": false,
     "schema_version": 3,
     "solution": true
    }
   },
   "outputs": [],
   "source": [
    "%%bash --out output\n",
    "cat /mnt/data/public/agora/Agora.csv | grep -o Drugs/Cannabis/Weed | wc -l"
   ]
  },
  {
   "cell_type": "code",
   "execution_count": 59,
   "metadata": {
    "ExecuteTime": {
     "end_time": "2021-04-28T01:52:46.999844Z",
     "start_time": "2021-04-28T01:52:46.993498Z"
    },
    "deletable": false,
    "editable": false,
    "nbgrader": {
     "cell_type": "code",
     "checksum": "aa17d5b89f10e62890e61eea5f4a1725",
     "grade": true,
     "grade_id": "prob2-test",
     "locked": true,
     "points": 1,
     "schema_version": 3,
     "solution": false
    }
   },
   "outputs": [],
   "source": [
    "assert_equal(output.strip(), '21727')"
   ]
  },
  {
   "cell_type": "markdown",
   "metadata": {
    "deletable": false,
    "editable": false,
    "nbgrader": {
     "cell_type": "markdown",
     "checksum": "b6d7d69f622ccd7baf9c446c539a2756",
     "grade": false,
     "grade_id": "cell-eab2077c74841b47",
     "locked": true,
     "schema_version": 3,
     "solution": false,
     "task": false
    }
   },
   "source": [
    "## Problem 3\n",
    "Create the directory structure shown below from the current directory:\n",
    "\n",
    "    a/b/c\n",
    "    d/e/f\n",
    "    j/k/l"
   ]
  },
  {
   "cell_type": "code",
   "execution_count": 60,
   "metadata": {
    "ExecuteTime": {
     "end_time": "2021-04-28T01:53:08.157006Z",
     "start_time": "2021-04-28T01:53:08.048816Z"
    },
    "deletable": false,
    "nbgrader": {
     "cell_type": "code",
     "checksum": "9aa1cd5127bcd0e0e5863290bbc35123",
     "grade": false,
     "grade_id": "cell-e9663008a48ff85a",
     "locked": false,
     "schema_version": 3,
     "solution": true
    }
   },
   "outputs": [],
   "source": [
    "%%bash --out output\n",
    "rm -rf a\n",
    "rm -rf d\n",
    "rm -rf j\n",
    "\n",
    "mkdir -p a/b/c d/e/f j/k/l"
   ]
  },
  {
   "cell_type": "code",
   "execution_count": 61,
   "metadata": {
    "ExecuteTime": {
     "end_time": "2021-04-28T01:53:11.032508Z",
     "start_time": "2021-04-28T01:53:11.021159Z"
    },
    "deletable": false,
    "editable": false,
    "nbgrader": {
     "cell_type": "code",
     "checksum": "4cdd057eee2d6917f3f5b3eedb614217",
     "grade": true,
     "grade_id": "prob3-test",
     "locked": true,
     "points": 1,
     "schema_version": 3,
     "solution": false
    }
   },
   "outputs": [],
   "source": [
    "import os\n",
    "assert_equal(os.path.exists('a/b/c'), True)\n",
    "assert_equal(os.path.exists('d/e/f'), True)\n",
    "assert_equal(os.path.exists('j/k/l'), True)"
   ]
  },
  {
   "cell_type": "markdown",
   "metadata": {
    "deletable": false,
    "editable": false,
    "nbgrader": {
     "cell_type": "markdown",
     "checksum": "d8e4e7770eac780ece4bc3c7d91a0434",
     "grade": false,
     "grade_id": "cell-75284d054e705a85",
     "locked": true,
     "schema_version": 3,
     "solution": false,
     "task": false
    }
   },
   "source": [
    "## Problem 4\n",
    "Display only the details of the largest file inside the Amazon Reviews public data directory. The file size should be in human-readable sizes (e.g., 1K 234M 2G)."
   ]
  },
  {
   "cell_type": "code",
   "execution_count": 62,
   "metadata": {
    "ExecuteTime": {
     "end_time": "2021-04-28T01:53:43.562088Z",
     "start_time": "2021-04-28T01:53:43.509435Z"
    },
    "deletable": false,
    "nbgrader": {
     "cell_type": "code",
     "checksum": "682f50d3604f05ed8af7ba8632f8d327",
     "grade": false,
     "grade_id": "cell-f3b369e81d39f74a",
     "locked": false,
     "schema_version": 3,
     "solution": true
    }
   },
   "outputs": [],
   "source": [
    "%%bash --out output\n",
    "ls -Slh /mnt/data/public/amazon-reviews/ | head -n 2 | tail -n 1"
   ]
  },
  {
   "cell_type": "code",
   "execution_count": 63,
   "metadata": {
    "ExecuteTime": {
     "end_time": "2021-04-28T01:54:12.127966Z",
     "start_time": "2021-04-28T01:54:12.121144Z"
    },
    "deletable": false,
    "editable": false,
    "nbgrader": {
     "cell_type": "code",
     "checksum": "d36d56ef2b54a6a1aadab27f05dbd520",
     "grade": true,
     "grade_id": "prob4-test",
     "locked": true,
     "points": 1,
     "schema_version": 3,
     "solution": false
    }
   },
   "outputs": [],
   "source": [
    "lines = output.strip().split('\\n')\n",
    "assert_equal(\n",
    "    lines[0], \n",
    "    '-rw-rw-rw- 1 root root 2.6G Aug 16  2018 '\n",
    "    'amazon_reviews_us_Books_v1_00.tsv.gz')\n",
    "assert_equal(len(lines), 1)"
   ]
  },
  {
   "cell_type": "markdown",
   "metadata": {
    "deletable": false,
    "editable": false,
    "nbgrader": {
     "cell_type": "markdown",
     "checksum": "46dc38b80abf28c1e2027c5e593bc09e",
     "grade": false,
     "grade_id": "cell-9b26fabac507aa9a",
     "locked": true,
     "schema_version": 3,
     "solution": false,
     "task": false
    }
   },
   "source": [
    "## Problem 5\n",
    "List down the sorted filepaths of h5 files with track ID starting with `A` in the Million Song dataset."
   ]
  },
  {
   "cell_type": "code",
   "execution_count": 64,
   "metadata": {
    "ExecuteTime": {
     "end_time": "2021-04-28T01:56:17.783410Z",
     "start_time": "2021-04-28T01:55:57.601027Z"
    },
    "deletable": false,
    "nbgrader": {
     "cell_type": "code",
     "checksum": "e68a92178d1503de297addcc14af9c3e",
     "grade": false,
     "grade_id": "cell-677401e3862c4a05",
     "locked": false,
     "schema_version": 3,
     "solution": true
    }
   },
   "outputs": [],
   "source": [
    "%%bash --out output\n",
    "find /mnt/data/public/millionsong/*A -type f -name \"*.h5\" | sort "
   ]
  },
  {
   "cell_type": "code",
   "execution_count": 65,
   "metadata": {
    "ExecuteTime": {
     "end_time": "2021-04-28T01:56:17.803466Z",
     "start_time": "2021-04-28T01:56:17.787818Z"
    },
    "deletable": false,
    "editable": false,
    "nbgrader": {
     "cell_type": "code",
     "checksum": "f3e478a2d9a463438581074a7ff455ad",
     "grade": true,
     "grade_id": "prob5-test",
     "locked": true,
     "points": 1,
     "schema_version": 3,
     "solution": false
    }
   },
   "outputs": [],
   "source": [
    "lines = output.strip().split('\\n')\n",
    "assert_equal(len(lines), 39100)\n",
    "assert_equal(\n",
    "    lines[0], \n",
    "    '/mnt/data/public/millionsong/A/A/A/TRAAAAK128F9318786.h5')"
   ]
  },
  {
   "cell_type": "markdown",
   "metadata": {
    "deletable": false,
    "editable": false,
    "nbgrader": {
     "cell_type": "markdown",
     "checksum": "dfdc841b439d1c3ae610694a5305c62a",
     "grade": false,
     "grade_id": "cell-49109621c93aec7b",
     "locked": true,
     "schema_version": 3,
     "solution": false,
     "task": false
    }
   },
   "source": [
    "## Problem 6\n",
    "Show the file size in bytes and absolute filepath of files under the `census` public data directory which are more than 1000000 bytes. Sort them by increasing file size."
   ]
  },
  {
   "cell_type": "code",
   "execution_count": 66,
   "metadata": {
    "ExecuteTime": {
     "end_time": "2021-04-28T03:10:09.700206Z",
     "start_time": "2021-04-28T03:10:09.645357Z"
    },
    "deletable": false,
    "nbgrader": {
     "cell_type": "code",
     "checksum": "9a3288ddf0829cb9bfacb0bbb93de3a2",
     "grade": false,
     "grade_id": "cell-60ce3d081607f4c8",
     "locked": false,
     "schema_version": 3,
     "solution": true
    }
   },
   "outputs": [],
   "source": [
    "%%bash --out output\n",
    "find /mnt/data/public/census/ -size +1000000c -printf %s\" \" -printf %p\\\\n | \\\n",
    "sort"
   ]
  },
  {
   "cell_type": "code",
   "execution_count": 67,
   "metadata": {
    "ExecuteTime": {
     "end_time": "2021-04-28T03:10:10.143931Z",
     "start_time": "2021-04-28T03:10:10.134800Z"
    },
    "deletable": false,
    "editable": false,
    "nbgrader": {
     "cell_type": "code",
     "checksum": "7178304ab526dcee2b262050dff596c9",
     "grade": true,
     "grade_id": "prob6-test",
     "locked": true,
     "points": 1,
     "schema_version": 3,
     "solution": false
    }
   },
   "outputs": [],
   "source": [
    "lines = output.strip().split('\\n')\n",
    "assert_equal(\n",
    "    lines[0], \n",
    "    '1004032 /mnt/data/public/census/Northern Samar_Statistical Tables.xls')\n",
    "assert_equal(len(lines), 25)"
   ]
  },
  {
   "cell_type": "markdown",
   "metadata": {
    "deletable": false,
    "editable": false,
    "nbgrader": {
     "cell_type": "markdown",
     "checksum": "d2b2d76f06b298f3568632c6d985ed88",
     "grade": false,
     "grade_id": "cell-5f5ec891c338b635",
     "locked": true,
     "schema_version": 3,
     "solution": false,
     "task": false
    }
   },
   "source": [
    "## Problem 7\n",
    "List down all the mentions files for 14 Feb 2019 between 8am to 9am (exclusive) in the file `masterfilelist.txt` under the GDELT v2 public data directory."
   ]
  },
  {
   "cell_type": "code",
   "execution_count": 68,
   "metadata": {
    "ExecuteTime": {
     "end_time": "2021-04-28T02:38:29.137437Z",
     "start_time": "2021-04-28T02:38:28.881957Z"
    },
    "deletable": false,
    "nbgrader": {
     "cell_type": "code",
     "checksum": "620de0d3cdef3d68c67dff0b079f362a",
     "grade": false,
     "grade_id": "cell-a1fb49df85aeb796",
     "locked": false,
     "schema_version": 3,
     "solution": true
    }
   },
   "outputs": [],
   "source": [
    "%%bash --out output\n",
    "cat /mnt/data/public/gdeltv2/masterfilelist.txt | grep -i 201902148*| \\\n",
    "grep -i mentions| grep -in mentions| head -n 36 | tail -n 4 | \\\n",
    "cut -d ' ' -f 3"
   ]
  },
  {
   "cell_type": "code",
   "execution_count": 69,
   "metadata": {
    "ExecuteTime": {
     "end_time": "2021-04-28T02:38:33.651496Z",
     "start_time": "2021-04-28T02:38:33.643330Z"
    },
    "deletable": false,
    "editable": false,
    "nbgrader": {
     "cell_type": "code",
     "checksum": "51ca885a3d8512fb78c8d8f40a36e67c",
     "grade": true,
     "grade_id": "prob7-test",
     "locked": true,
     "points": 1,
     "schema_version": 3,
     "solution": false
    }
   },
   "outputs": [],
   "source": [
    "lines = output.strip().split('\\n')\n",
    "assert_equal(\n",
    "    lines[0],\n",
    "    'http://data.gdeltproject.org/gdeltv2/20190214080000.mentions.CSV.zip')"
   ]
  },
  {
   "cell_type": "markdown",
   "metadata": {
    "deletable": false,
    "editable": false,
    "nbgrader": {
     "cell_type": "markdown",
     "checksum": "ae6afd2c54ece3aeb52bed530b5f7549",
     "grade": false,
     "grade_id": "cell-d8576e0dee30b095",
     "locked": true,
     "schema_version": 3,
     "solution": false,
     "task": false
    }
   },
   "source": [
    "## Problem 8\n",
    "Create a clone copy of the `mnist` public data directory to the current directory. Being a clone copy, it must preserve all attributes (mode, ownership, timestamps), links and directory structure.\n",
    "\n",
    "Note: the answer cell is a markdown cell to prevent you from actually copying the directory. This problem will be manually checked."
   ]
  },
  {
   "cell_type": "markdown",
   "metadata": {
    "deletable": false,
    "nbgrader": {
     "cell_type": "markdown",
     "checksum": "a7e205080a1f2aed3e5d292c9db2efba",
     "grade": true,
     "grade_id": "prob8",
     "locked": false,
     "points": 1,
     "schema_version": 3,
     "solution": true
    }
   },
   "source": [
    "cp -rp /mnt/data/public/mnist . "
   ]
  },
  {
   "cell_type": "markdown",
   "metadata": {
    "deletable": false,
    "editable": false,
    "nbgrader": {
     "cell_type": "markdown",
     "checksum": "4f9f036371dc874473bda0127964a206",
     "grade": false,
     "grade_id": "cell-c198d5c1126654a5",
     "locked": true,
     "schema_version": 3,
     "solution": false,
     "task": false
    }
   },
   "source": [
    "## Problem 9\n",
    "How many unique tags are there in `/mnt/data/public/movielens/20m/ml-20m/tags.csv`?"
   ]
  },
  {
   "cell_type": "code",
   "execution_count": 70,
   "metadata": {
    "ExecuteTime": {
     "end_time": "2021-04-28T02:01:36.923202Z",
     "start_time": "2021-04-28T02:01:35.812275Z"
    },
    "deletable": false,
    "nbgrader": {
     "cell_type": "code",
     "checksum": "0145cd3d58535a24a1e1029a9c268d1c",
     "grade": false,
     "grade_id": "cell-3fe975bd03ab9a17",
     "locked": false,
     "schema_version": 3,
     "solution": true
    }
   },
   "outputs": [],
   "source": [
    "%%bash --out output\n",
    "cat /mnt/data/public/movielens/20m/ml-20m/tags.csv | \\\n",
    "cut -d ',' -f 3| sort | uniq | wc -l"
   ]
  },
  {
   "cell_type": "code",
   "execution_count": 71,
   "metadata": {
    "ExecuteTime": {
     "end_time": "2021-04-28T02:01:37.683589Z",
     "start_time": "2021-04-28T02:01:37.677364Z"
    },
    "deletable": false,
    "editable": false,
    "nbgrader": {
     "cell_type": "code",
     "checksum": "08d21a8da49b98ba03189682bc07bc27",
     "grade": true,
     "grade_id": "prob9-test",
     "locked": true,
     "points": 1,
     "schema_version": 3,
     "solution": false
    }
   },
   "outputs": [],
   "source": [
    "assert_equal(output.strip(), '38641')"
   ]
  },
  {
   "cell_type": "markdown",
   "metadata": {
    "deletable": false,
    "editable": false,
    "nbgrader": {
     "cell_type": "markdown",
     "checksum": "eb2436f9470aac8f847ab9addada6319",
     "grade": false,
     "grade_id": "cell-1b4343ad49744d77",
     "locked": true,
     "schema_version": 3,
     "solution": false,
     "task": false
    }
   },
   "source": [
    "## Problem 10\n",
    "Store the list of all book titles that contain the word `pandemic` (case-insensitive) in `BX-Books.csv` under the book-crossing public data directory to the file `pandemic-books.txt`."
   ]
  },
  {
   "cell_type": "code",
   "execution_count": 53,
   "metadata": {
    "ExecuteTime": {
     "end_time": "2021-04-28T03:14:10.353809Z",
     "start_time": "2021-04-28T03:14:10.107187Z"
    },
    "deletable": false,
    "editable": false,
    "nbgrader": {
     "cell_type": "code",
     "checksum": "efa37b269f3f8e1bf74a72fbaeabeac7",
     "grade": false,
     "grade_id": "cell-3145ec0ac1b8a1ea",
     "locked": true,
     "schema_version": 3,
     "solution": false,
     "task": false
    }
   },
   "outputs": [],
   "source": [
    "!rm -f pandemic-books.txt"
   ]
  },
  {
   "cell_type": "code",
   "execution_count": 54,
   "metadata": {
    "ExecuteTime": {
     "end_time": "2021-04-28T03:14:11.227160Z",
     "start_time": "2021-04-28T03:14:11.084819Z"
    },
    "deletable": false,
    "nbgrader": {
     "cell_type": "code",
     "checksum": "252389ec9bd64d2999d6d3b776f2bb5a",
     "grade": false,
     "grade_id": "cell-7717d22f83c79ba0",
     "locked": false,
     "schema_version": 3,
     "solution": true
    }
   },
   "outputs": [],
   "source": [
    "%%bash\n",
    "grep -i pandemic /mnt/data/public/book-crossing/BX-Books.csv | cut -d ';' \\\n",
    "-f 2 > pandemic-books.txt"
   ]
  },
  {
   "cell_type": "code",
   "execution_count": 52,
   "metadata": {
    "ExecuteTime": {
     "end_time": "2021-04-28T03:14:12.013000Z",
     "start_time": "2021-04-28T03:14:12.003285Z"
    },
    "deletable": false,
    "editable": false,
    "nbgrader": {
     "cell_type": "code",
     "checksum": "9deb2daf4b3b5cb456f1738a059193af",
     "grade": true,
     "grade_id": "prob10-test",
     "locked": true,
     "points": 1,
     "schema_version": 3,
     "solution": false
    }
   },
   "outputs": [],
   "source": [
    "res = open('pandemic-books.txt').readlines()\n",
    "assert_equal(len(res), 6)\n",
    "assert_equal(\n",
    "    res[0], \n",
    "    '\"Flu: The Story of the Great Influenza Pandemic of 1918 and the Search for the Virus That Caused It\"\\n')"
   ]
  }
 ],
 "metadata": {
  "kernelspec": {
   "display_name": "Python 3",
   "language": "python",
   "name": "python3"
  },
  "language_info": {
   "codemirror_mode": {
    "name": "ipython",
    "version": 3
   },
   "file_extension": ".py",
   "mimetype": "text/x-python",
   "name": "python",
   "nbconvert_exporter": "python",
   "pygments_lexer": "ipython3",
   "version": "3.8.8"
  },
  "toc": {
   "base_numbering": 1,
   "nav_menu": {},
   "number_sections": true,
   "sideBar": true,
   "skip_h1_title": false,
   "title_cell": "Table of Contents",
   "title_sidebar": "Contents",
   "toc_cell": false,
   "toc_position": {},
   "toc_section_display": true,
   "toc_window_display": false
  }
 },
 "nbformat": 4,
 "nbformat_minor": 2
}
