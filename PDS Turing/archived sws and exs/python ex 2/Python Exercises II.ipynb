{
 "cells": [
  {
   "cell_type": "code",
   "execution_count": 71,
   "metadata": {
    "ExecuteTime": {
     "end_time": "2021-05-02T00:31:44.392625Z",
     "start_time": "2021-05-02T00:31:43.777831Z"
    },
    "deletable": false,
    "editable": false,
    "nbgrader": {
     "cell_type": "code",
     "checksum": "680008012edff2f05803733bcaee25c7",
     "grade": false,
     "grade_id": "cell-045618d976fe254e",
     "locked": true,
     "schema_version": 3,
     "solution": false,
     "task": false
    }
   },
   "outputs": [],
   "source": [
    "from numpy.testing import assert_equal"
   ]
  },
  {
   "cell_type": "markdown",
   "metadata": {
    "deletable": false,
    "editable": false,
    "nbgrader": {
     "cell_type": "markdown",
     "checksum": "6b32be08705d2c7fee7f51a6b5d4e6b6",
     "grade": false,
     "grade_id": "cell-84ffa14560aeefed",
     "locked": true,
     "schema_version": 3,
     "solution": false,
     "task": false
    }
   },
   "source": [
    "## Problem 1\n",
    "Write a function called `chop` that takes a list, modifies it by removing the first and last elements, and returns `None`."
   ]
  },
  {
   "cell_type": "code",
   "execution_count": 72,
   "metadata": {
    "ExecuteTime": {
     "end_time": "2021-05-02T00:52:29.810567Z",
     "start_time": "2021-05-02T00:52:29.806020Z"
    },
    "deletable": false,
    "nbgrader": {
     "cell_type": "code",
     "checksum": "1944045485eb849dd35ea1cc00e639fb",
     "grade": false,
     "grade_id": "cell-84f06a445961e437",
     "locked": false,
     "schema_version": 3,
     "solution": true,
     "task": false
    }
   },
   "outputs": [],
   "source": [
    "def chop(a_list):\n",
    "    \"\"\" takes a list, modifies it by removing the first and last elements, \n",
    "    and returns None\n",
    "    \n",
    "    Parameters\n",
    "    ----------\n",
    "    a_list : list\n",
    "        list of any element type\n",
    "        \n",
    "    Returns\n",
    "    -------\n",
    "    None : NoneType\n",
    "    \"\"\"\n",
    "    for i in [0, -1]:\n",
    "        a_list.pop(i)\n",
    "    return None"
   ]
  },
  {
   "cell_type": "code",
   "execution_count": 73,
   "metadata": {
    "ExecuteTime": {
     "end_time": "2021-05-02T00:52:36.957135Z",
     "start_time": "2021-05-02T00:52:36.951862Z"
    },
    "deletable": false,
    "editable": false,
    "nbgrader": {
     "cell_type": "code",
     "checksum": "f184e7895373cbcb6c0cf0ef9adcf02e",
     "grade": true,
     "grade_id": "cell-645111f6cb08b363",
     "locked": true,
     "points": 1,
     "schema_version": 3,
     "solution": false,
     "task": false
    }
   },
   "outputs": [],
   "source": [
    "a = [1, 2, 3, 4, 5]\n",
    "assert chop(a) is None\n",
    "assert_equal(a, [2, 3, 4])"
   ]
  },
  {
   "cell_type": "markdown",
   "metadata": {
    "deletable": false,
    "editable": false,
    "nbgrader": {
     "cell_type": "markdown",
     "checksum": "1ba8404754a89702166248dccd453a88",
     "grade": false,
     "grade_id": "cell-b5f928a019843276",
     "locked": true,
     "schema_version": 3,
     "solution": false,
     "task": false
    }
   },
   "source": [
    "## Problem 2\n",
    "Write a function `sum_multiples` that computes the sum of multiples of 3 or 5 in an input list."
   ]
  },
  {
   "cell_type": "code",
   "execution_count": 74,
   "metadata": {
    "ExecuteTime": {
     "end_time": "2021-05-02T00:52:47.372575Z",
     "start_time": "2021-05-02T00:52:47.368758Z"
    },
    "deletable": false,
    "nbgrader": {
     "cell_type": "code",
     "checksum": "be071909a7f6397e4af28ce3bcdb7f3f",
     "grade": false,
     "grade_id": "cell-68e647afb7616bc5",
     "locked": false,
     "schema_version": 3,
     "solution": true,
     "task": false
    }
   },
   "outputs": [],
   "source": [
    "def sum_multiples(a_list):\n",
    "    \"\"\"computes the sum of multiples of 3 or 5 in an input list\n",
    "     \n",
    "    Parameters\n",
    "    ----------\n",
    "    a_list : list\n",
    "        list of integers\n",
    "        \n",
    "    Returns\n",
    "    -------\n",
    "    sum_p2 : int\n",
    "        sum of multiples of 3 or 5 in elements of a_list\n",
    "     \"\"\"\n",
    "        \n",
    "    li_mul_3 = [i for i in a_list if i%3 == 0]\n",
    "    li_mul_5 = [j for j in a_list if j%5 == 0]\n",
    "    sum_p2 = sum(li_mul_3 + li_mul_5)\n",
    "    return sum_p2"
   ]
  },
  {
   "cell_type": "code",
   "execution_count": 75,
   "metadata": {
    "ExecuteTime": {
     "end_time": "2021-05-02T01:23:14.360980Z",
     "start_time": "2021-05-02T01:23:14.350173Z"
    },
    "deletable": false,
    "editable": false,
    "nbgrader": {
     "cell_type": "code",
     "checksum": "b4fd3b0829aec9ae5ffc6b241cdccf08",
     "grade": true,
     "grade_id": "cell-ba33eaa3bd8ee05a",
     "locked": true,
     "points": 1,
     "schema_version": 3,
     "solution": false,
     "task": false
    }
   },
   "outputs": [],
   "source": [
    "assert_equal(sum_multiples(list(range(10))), 23)\n",
    "assert_equal(sum_multiples(list(range(1, 10, 2))), 17)\n",
    "assert_equal(sum_multiples(list(range(1, 10, 3))), 0)"
   ]
  },
  {
   "cell_type": "markdown",
   "metadata": {
    "deletable": false,
    "editable": false,
    "nbgrader": {
     "cell_type": "markdown",
     "checksum": "2c6c94afdde1a7ad7a62054da9ca6037",
     "grade": false,
     "grade_id": "cell-a1e773c33562abe3",
     "locked": true,
     "schema_version": 3,
     "solution": false,
     "task": false
    }
   },
   "source": [
    "## Problem 3\n",
    "Write a function `rotate` that rotates a list by `k` elements."
   ]
  },
  {
   "cell_type": "code",
   "execution_count": 76,
   "metadata": {
    "ExecuteTime": {
     "end_time": "2021-05-02T00:52:58.477586Z",
     "start_time": "2021-05-02T00:52:58.472372Z"
    },
    "deletable": false,
    "nbgrader": {
     "cell_type": "code",
     "checksum": "5172f94e28a4e935d7a4ceedd95811f2",
     "grade": false,
     "grade_id": "cell-7be8f562c1868e66",
     "locked": false,
     "schema_version": 3,
     "solution": true
    }
   },
   "outputs": [],
   "source": [
    "def rotate(numbers, k):\n",
    "    \"\"\"Rotate numbers by k elements\n",
    "    Parameters\n",
    "    ----------\n",
    "    numbers : list\n",
    "        list of integers\n",
    "    k : int\n",
    "        degree of rotation of elements of list \n",
    "        \n",
    "    Returns\n",
    "    -------\n",
    "    rotated_list : list\n",
    "        rotated list of original list\n",
    "    \"\"\"\n",
    "\n",
    "    rotated_list = [0]*len(numbers)\n",
    "    \n",
    "    thresh = len(numbers) - k\n",
    "    for i_p3 in range(len(numbers)):\n",
    "        if i_p3 <= thresh - 1:\n",
    "            rotated_list[i_p3+k] = numbers[i_p3]\n",
    "        else:\n",
    "            rotated_list[i_p3-thresh] = numbers[i_p3]\n",
    "    return rotated_list    \n",
    "    "
   ]
  },
  {
   "cell_type": "code",
   "execution_count": 77,
   "metadata": {
    "ExecuteTime": {
     "end_time": "2021-05-02T00:52:59.184549Z",
     "start_time": "2021-05-02T00:52:59.174313Z"
    },
    "deletable": false,
    "editable": false,
    "nbgrader": {
     "cell_type": "code",
     "checksum": "ee15760288dd901af3a0ce2e60de00e0",
     "grade": true,
     "grade_id": "cell-8a8f9e9053ad1d3c",
     "locked": true,
     "points": 1,
     "schema_version": 3,
     "solution": false
    }
   },
   "outputs": [],
   "source": [
    "assert_equal(rotate([1,2,3,4,5,6], 4), [3,4,5,6,1,2])\n",
    "assert_equal(rotate([1,2,3,4,5,6], -4), [5,6,1,2,3,4])"
   ]
  },
  {
   "cell_type": "markdown",
   "metadata": {
    "deletable": false,
    "editable": false,
    "nbgrader": {
     "cell_type": "markdown",
     "checksum": "7c5ed0f780a7e2b870469e9a6636350b",
     "grade": false,
     "grade_id": "cell-138df49e0dc74926",
     "locked": true,
     "schema_version": 3,
     "solution": false,
     "task": false
    }
   },
   "source": [
    "## Problem 4\n",
    "Write a function `on_all` that applies a function to every element of a list."
   ]
  },
  {
   "cell_type": "code",
   "execution_count": 78,
   "metadata": {
    "ExecuteTime": {
     "end_time": "2021-05-02T00:53:07.373922Z",
     "start_time": "2021-05-02T00:53:07.368877Z"
    },
    "deletable": false,
    "nbgrader": {
     "cell_type": "code",
     "checksum": "4f9b30436fce2d8f3a383dcc38737923",
     "grade": false,
     "grade_id": "cell-8205a5864316caaf",
     "locked": false,
     "schema_version": 3,
     "solution": true,
     "task": false
    }
   },
   "outputs": [],
   "source": [
    "def on_all(func, a_list):\n",
    "    \"\"\"applies a function to every element of a list.\n",
    "    Parameters\n",
    "    ----------\n",
    "    func : function\n",
    "        function to be applied to every element of a_list\n",
    "    a_list : list\n",
    "        list of integers \n",
    "        \n",
    "    Returns\n",
    "    -------\n",
    "    output_p4 : list\n",
    "        list of elements after func application\n",
    "     \"\"\"\n",
    "    output_p4 = [func(i_p4) for i_p4 in a_list]\n",
    "    \n",
    "    return output_p4"
   ]
  },
  {
   "cell_type": "code",
   "execution_count": 79,
   "metadata": {
    "ExecuteTime": {
     "end_time": "2021-05-02T00:53:09.580818Z",
     "start_time": "2021-05-02T00:53:09.572882Z"
    },
    "deletable": false,
    "editable": false,
    "nbgrader": {
     "cell_type": "code",
     "checksum": "b532de90e5095ef63dabece68dcce8b2",
     "grade": true,
     "grade_id": "cell-9c4be7904b0af281",
     "locked": true,
     "points": 1,
     "schema_version": 3,
     "solution": false,
     "task": false
    }
   },
   "outputs": [],
   "source": [
    "assert_equal(on_all(abs, [1, -2, 3, -4, 5]), [1, 2, 3, 4, 5])\n",
    "assert_equal(on_all(lambda x: x**2, [1, -2, 3, -4, 5]), \n",
    "                   [1, 4, 9, 16, 25])"
   ]
  },
  {
   "cell_type": "markdown",
   "metadata": {
    "deletable": false,
    "editable": false,
    "nbgrader": {
     "cell_type": "markdown",
     "checksum": "2563cd7df395aadbd57d1423c6da37ac",
     "grade": false,
     "grade_id": "cell-3ce008847634879b",
     "locked": true,
     "schema_version": 3,
     "solution": false,
     "task": false
    }
   },
   "source": [
    "## Problem 5\n",
    "Write a function `matrix_times_vector` that accepts matrix `mat` as a list of lists and vector `vec` as a list, and returns their product as a list. Assume the input dimensions are compatible."
   ]
  },
  {
   "cell_type": "code",
   "execution_count": 80,
   "metadata": {
    "ExecuteTime": {
     "end_time": "2021-05-02T00:53:37.038945Z",
     "start_time": "2021-05-02T00:53:37.033974Z"
    },
    "deletable": false,
    "nbgrader": {
     "cell_type": "code",
     "checksum": "f676226f84fff5aa11bdf3763eb2a9f9",
     "grade": false,
     "grade_id": "cell-51f7405f0170c1dd",
     "locked": false,
     "schema_version": 3,
     "solution": true,
     "task": false
    }
   },
   "outputs": [],
   "source": [
    "def matrix_times_vector(mat, vec):\n",
    "    \"\"\"accepts matrix mat as a list of lists and vector vec as a list, \n",
    "    and returns their product as a list. Assume the input dimensions \n",
    "    are compatible.\n",
    "    \n",
    "    Parameters\n",
    "    ----------\n",
    "    mat : list\n",
    "        list of lists that represent a matrix\n",
    "    vec : list\n",
    "        list that represents a vector \n",
    "        \n",
    "    Returns\n",
    "    -------\n",
    "    prod : list\n",
    "        product of mat and vec as a list\n",
    "    \"\"\"\n",
    "    mat_size = [len(mat),len(mat[0])]\n",
    "    vec_size = [len(vec),1]\n",
    "\n",
    "    prod_size =[mat_size[0],vec_size[1]]\n",
    "\n",
    "    prod = [0]*prod_size[0]\n",
    "\n",
    "    for i_row in range(mat_size[0]):\n",
    "        for i_col in range(mat_size[1]):\n",
    "            prod[i_row] = prod[i_row] + mat1[i_row][i_col] * vec[i_col]\n",
    "    return prod "
   ]
  },
  {
   "cell_type": "code",
   "execution_count": 81,
   "metadata": {
    "ExecuteTime": {
     "end_time": "2021-05-02T00:53:37.650053Z",
     "start_time": "2021-05-02T00:53:37.642559Z"
    },
    "deletable": false,
    "editable": false,
    "nbgrader": {
     "cell_type": "code",
     "checksum": "7f977bda6a80d28cb535b22014b4e702",
     "grade": true,
     "grade_id": "cell-679aba3b9570c7c0",
     "locked": true,
     "points": 1,
     "schema_version": 3,
     "solution": false,
     "task": false
    }
   },
   "outputs": [],
   "source": [
    "assert_equal(\n",
    "    matrix_times_vector(\n",
    "        [[1, 2, 3],\n",
    "         [7, 6, 8]],\n",
    "        [9, 10, 11]\n",
    "    ),\n",
    "    [62, 211]\n",
    ")"
   ]
  },
  {
   "cell_type": "markdown",
   "metadata": {
    "deletable": false,
    "editable": false,
    "nbgrader": {
     "cell_type": "markdown",
     "checksum": "8f2fd471c3b8547f12e11af3805577ea",
     "grade": false,
     "grade_id": "cell-4065d2e1eaef2658",
     "locked": true,
     "schema_version": 3,
     "solution": false,
     "task": false
    }
   },
   "source": [
    "## Problem 6\n",
    "Write a function `coder` that automatically converts alphanumeric English text to Morse code and vice versa. Empty `text` should return an empty string. Assume the message consists only of alphanumeric characters and space."
   ]
  },
  {
   "cell_type": "code",
   "execution_count": 82,
   "metadata": {
    "ExecuteTime": {
     "end_time": "2021-05-02T06:52:23.882518Z",
     "start_time": "2021-05-02T06:52:23.872289Z"
    },
    "deletable": false,
    "nbgrader": {
     "cell_type": "code",
     "checksum": "223c29cc718c644f5d5557b3cf41c9ae",
     "grade": false,
     "grade_id": "cell-7cd6dfd0b24acd83",
     "locked": false,
     "schema_version": 3,
     "solution": true,
     "task": false
    }
   },
   "outputs": [],
   "source": [
    "def coder(text, to_morse=True):\n",
    "    \"\"\"Convert English text to Morse code and vice versa\n",
    "    \n",
    "    Parameters\n",
    "    ----------\n",
    "    text : str\n",
    "        English text or Morse code text\n",
    "    to_morse : boolean\n",
    "        Converts text to Morse code if `True`, to English otherwise\n",
    "        \n",
    "    Returns\n",
    "    -------\n",
    "    coded_text : str\n",
    "        Text converted to Morse code or English\n",
    "    \"\"\"\n",
    "    morse = ['.-','-...','-.-.','-..','.','..-.','--.','....','..','.---',\n",
    "             '-.-','.-..','--','-.','---','.--.','--.-','.-.','...','-','..-',\n",
    "             '...-','.--','-..-','-.--','--..','.----','..---','...--',\n",
    "             '....-','.....','-....','--...','---..','----.','-----', ' ']\n",
    "\n",
    "    alphabet = ['a','b','c','d','e','f','g','h','i','j','k','l','m','n',\n",
    "                'o','p','q','r','s','t','u','v','w','x','y','z','1','2',\n",
    "                '3','4','5','6','7','8','9','0',' ']\n",
    "\n",
    "\n",
    "    zip_alpha_morse = zip(alphabet,morse)\n",
    "\n",
    "    dic = {i:j for i,j in zip_alpha_morse}\n",
    "\n",
    "    \n",
    "    trans_alpha_morse = ''\n",
    "    trans_morse_alpha_sentence = []\n",
    "    \n",
    "    if to_morse is False:\n",
    "        morse_words = text.lower().split('   ')\n",
    "        \n",
    "        for mw_i in morse_words:\n",
    "            trans_morse_alpha_word = ''\n",
    "            \n",
    "            for char in mw_i.split(' '):\n",
    "                #morse to alpha\n",
    "                list_keys = list(dic.keys())\n",
    "                list_values = list(dic.values())\n",
    "\n",
    "                index_val = list_values.index(char)\n",
    "                corr_key = list_keys[index_val]\n",
    "                trans_morse_alpha_word = trans_morse_alpha_word + corr_key\n",
    "                \n",
    "            trans_morse_alpha_sentence.append(trans_morse_alpha_word)\n",
    "            \n",
    "        morse_alpha_output = ' '.join(trans_morse_alpha_sentence)        \n",
    "        return morse_alpha_output.upper()\n",
    "    \n",
    "    elif to_morse:\n",
    "        for char in ' '.join(text.lower()):\n",
    "            #alpha to morse\n",
    "            trans_alpha_morse = trans_alpha_morse + dic[char]\n",
    "        return trans_alpha_morse\n",
    "    else:\n",
    "            return ''"
   ]
  },
  {
   "cell_type": "code",
   "execution_count": 83,
   "metadata": {
    "ExecuteTime": {
     "end_time": "2021-05-02T06:52:29.992959Z",
     "start_time": "2021-05-02T06:52:29.984145Z"
    },
    "deletable": false,
    "editable": false,
    "nbgrader": {
     "cell_type": "code",
     "checksum": "fd04f6a0a23ee2f9116f54fdbde4394a",
     "grade": true,
     "grade_id": "cell-dc1c5996cd5902b2",
     "locked": true,
     "points": 1,
     "schema_version": 3,
     "solution": false,
     "task": false
    }
   },
   "outputs": [],
   "source": [
    "assert_equal(\n",
    "    coder('Hello world'), \n",
    "    '.... . .-.. .-.. ---   .-- --- .-. .-.. -..'\n",
    ")\n",
    "assert_equal(\n",
    "    coder('-.. .- - .-   ... -.-. .. . -. -.-. .', False),\n",
    "    'DATA SCIENCE'\n",
    ")"
   ]
  },
  {
   "cell_type": "markdown",
   "metadata": {
    "deletable": false,
    "editable": false,
    "nbgrader": {
     "cell_type": "markdown",
     "checksum": "4f56e3c47c37aadb318fe2dff1efc91d",
     "grade": false,
     "grade_id": "cell-22ee09bf8bd93f06",
     "locked": true,
     "schema_version": 3,
     "solution": false,
     "task": false
    }
   },
   "source": [
    "## Problem 7\n",
    "Complete the function below."
   ]
  },
  {
   "cell_type": "code",
   "execution_count": 84,
   "metadata": {
    "ExecuteTime": {
     "end_time": "2021-05-02T07:09:52.326178Z",
     "start_time": "2021-05-02T07:09:52.320507Z"
    },
    "deletable": false,
    "nbgrader": {
     "cell_type": "code",
     "checksum": "0e279923f583b4f946b1b91e6c6e2faf",
     "grade": false,
     "grade_id": "cell-ac1556c1573c42d3",
     "locked": false,
     "schema_version": 3,
     "solution": true,
     "task": false
    }
   },
   "outputs": [],
   "source": [
    "def sort_by_key(items_with_keys, ascending=True):\n",
    "    \"\"\"Sort items_with_keys based on the keys then by item for same keys\n",
    "    \n",
    "    Parameters\n",
    "    ----------\n",
    "    items_with_keys : list of tuples\n",
    "        list of (item, key) tuples to be sorted\n",
    "    ascending : bool\n",
    "        Sort in ascending order if True, in descending order otherwise\n",
    "    \"\"\"\n",
    "    lis = [('B', 10), ('A', 12), ('C', 3), ('D', 5)]\n",
    "\n",
    "    dict_p7 = {i[1]:i[0] for i in lis}\n",
    "    \n",
    "    if ascending:\n",
    "        sorted_keys = sorted(dict_p7)\n",
    "        \n",
    "    else:\n",
    "        sorted_keys = sorted(dict_p7 , reverse=True)\n",
    "    sorted_items = [dict_p7[i] for i in sorted_keys]\n",
    "    sorted_output = list(zip(sorted_items,sorted_keys))\n",
    "    \n",
    "    return sorted_output"
   ]
  },
  {
   "cell_type": "code",
   "execution_count": 85,
   "metadata": {
    "ExecuteTime": {
     "end_time": "2021-05-02T07:09:52.392840Z",
     "start_time": "2021-05-02T07:09:52.329111Z"
    },
    "deletable": false,
    "editable": false,
    "nbgrader": {
     "cell_type": "code",
     "checksum": "ae23b10da03906c3587d381a0e62c73b",
     "grade": true,
     "grade_id": "cell-da5dfd9915098c50",
     "locked": true,
     "points": 1,
     "schema_version": 3,
     "solution": false,
     "task": false
    }
   },
   "outputs": [],
   "source": [
    "assert_equal(\n",
    "    sort_by_key([('B', 10), ('A', 12), ('C', 3), ('D', 5)]),\n",
    "    [('C', 3), ('D', 5), ('B', 10), ('A', 12)])\n",
    "assert_equal(\n",
    "    sort_by_key([('B', 10), ('A', 12), ('C', 3), ('D', 5)], False),\n",
    "    [('A', 12), ('B', 10), ('D', 5), ('C', 3)])"
   ]
  },
  {
   "cell_type": "markdown",
   "metadata": {
    "deletable": false,
    "editable": false,
    "nbgrader": {
     "cell_type": "markdown",
     "checksum": "1ca316d4678144e37d5536d09acd4083",
     "grade": false,
     "grade_id": "cell-a66f5c9ca949a932",
     "locked": true,
     "schema_version": 3,
     "solution": false,
     "task": false
    }
   },
   "source": [
    "## Problem 8\n",
    "Write a function `count_words` that accepts a string `text` and returns a dictionary where the key is a word and the value is the number of occurrences of that word in `text`. A word is defined as a case-insensitive sequence of non-whitespace characters."
   ]
  },
  {
   "cell_type": "code",
   "execution_count": 92,
   "metadata": {
    "ExecuteTime": {
     "end_time": "2021-05-02T01:18:40.919127Z",
     "start_time": "2021-05-02T01:18:40.914600Z"
    },
    "deletable": false,
    "nbgrader": {
     "cell_type": "code",
     "checksum": "bfe989f7d788fa6c0fa8460f03591c3e",
     "grade": false,
     "grade_id": "cell-bc907ec0368f8aaf",
     "locked": false,
     "schema_version": 3,
     "solution": true,
     "task": false
    }
   },
   "outputs": [],
   "source": [
    "def count_words(text):\n",
    "    \"\"\"accepts a string text and returns a dictionary where the key is a \n",
    "    word and the value is the number of occurrences of that word in text. \n",
    "    A word is defined as a case-insensitive sequence of \n",
    "    non-whitespace characters.\n",
    "     \n",
    "    Parameters\n",
    "    ----------\n",
    "    text : str\n",
    "        sequence of words\n",
    "        \n",
    "    Returns\n",
    "    -------\n",
    "    wc : dictionary\n",
    "        words for keys and word counts for values\n",
    "    \"\"\"\n",
    "    #from collections import Counter\n",
    "    for i in range(len(text)):\n",
    "        new_text = text.replace('\\n',' ')\n",
    "        spl = new_text.lower().split()\n",
    "        set_spl = list(set(spl))\n",
    "\n",
    "    wc = {}\n",
    "\n",
    "\n",
    "    for set_i in set_spl:\n",
    "        count = 0\n",
    "        for spl_i in spl:\n",
    "\n",
    "            if set_i == spl_i:\n",
    "                count = count + 1\n",
    "\n",
    "        wc[set_i] = count\n",
    "        \n",
    "\n",
    "    #return Counter(spl)\n",
    "\n",
    "    return wc"
   ]
  },
  {
   "cell_type": "code",
   "execution_count": null,
   "metadata": {
    "ExecuteTime": {
     "end_time": "2021-05-02T01:22:07.111194Z",
     "start_time": "2021-05-02T01:22:07.105348Z"
    },
    "deletable": false,
    "editable": false,
    "nbgrader": {
     "cell_type": "code",
     "checksum": "e5682c06f6457590e25b6b45e3e73677",
     "grade": true,
     "grade_id": "cell-6e8fc7aff97f3758",
     "locked": true,
     "points": 1,
     "schema_version": 3,
     "solution": false,
     "task": false
    }
   },
   "outputs": [],
   "source": [
    "wc = count_words(\"\"\"\n",
    "Mary had a little lamb\n",
    "Little lamb little lamb\n",
    "Mary had a little lamb\n",
    "It's fleece was white as snow\n",
    "\n",
    "Everywhere that Mary went \n",
    "Mary went Mary went\n",
    "Everywhere that Mary went\n",
    "The lamb was sure to go\n",
    "\"\"\")\n",
    "assert_equal(len(wc), 18)\n",
    "assert_equal(wc['lamb'], 5)\n",
    "assert_equal(wc[\"it's\"], 1)"
   ]
  },
  {
   "cell_type": "markdown",
   "metadata": {
    "deletable": false,
    "editable": false,
    "nbgrader": {
     "cell_type": "markdown",
     "checksum": "5eb8b117a5372718bae2d0f580c7047c",
     "grade": false,
     "grade_id": "cell-2ce5dfb085a5675a",
     "locked": true,
     "schema_version": 3,
     "solution": false,
     "task": false
    }
   },
   "source": [
    "## Problem 9\n",
    "\n",
    "Write a function `display_tree` that accepts a dictionary whose values can be numbers, strings or dictionaries, and returns a string. The contents of the returned string is as follows:\n",
    "* For every key-value pair in the dictionary, sort by key then show the key, one per line, followed by a colon (:)\n",
    "* If the value is not a dictionary, show the value prefixed by a space\n",
    "* If the value is a dictionary, display the contents on the dictionary from the next line, following the rules in this list\n",
    "* Indent by two spaces for every level of the dictionary\n",
    "* Use the newline character (`\\n`) for creating lines"
   ]
  },
  {
   "cell_type": "code",
   "execution_count": 88,
   "metadata": {
    "ExecuteTime": {
     "end_time": "2021-05-02T03:08:07.657183Z",
     "start_time": "2021-05-02T03:08:07.651064Z"
    },
    "deletable": false,
    "nbgrader": {
     "cell_type": "code",
     "checksum": "7f7068457da6c0ac2ce867affee4b351",
     "grade": false,
     "grade_id": "cell-233f3054b37827fc",
     "locked": false,
     "schema_version": 3,
     "solution": true,
     "task": false
    }
   },
   "outputs": [],
   "source": [
    "def display_tree(dict_):\n",
    "    \"\"\"accepts a dictionary whose values can be numbers, \n",
    "    strings or dictionaries, and returns a string. The contents of the \n",
    "    returned string is as follows:\n",
    "\n",
    "    -For every key-value pair in the dictionary, sort by key then show the key,\n",
    "    one per line, followed by a colon (:)\n",
    "    \n",
    "    -If the value is not a dictionary, show the value prefixed by a space\n",
    "    \n",
    "    -If the value is a dictionary, display the contents on the dictionary from \n",
    "    the next line, following the rules in this list\n",
    "    \n",
    "    -Indent by two spaces for every level of the dictionary\n",
    "    \n",
    "    -Use the newline character (\\n) for creating lines\n",
    "    \n",
    "    Parameters\n",
    "    ----------\n",
    "    dict_ : dict\n",
    "        dictionary whose values can be numbers, strings, or dictionaries.\n",
    "        \n",
    "    Returns\n",
    "    -------\n",
    "    level(dict_) : str\n",
    "        contents of the dictionary following the rules above.\n",
    "    \n",
    "    \"\"\"\n",
    "    def level(dict_, lev=0):\n",
    "        keys = dict_.keys()\n",
    "        key_types = [type(dict_[i]) for i in keys]\n",
    "\n",
    "        sorted_keys = sorted(keys)\n",
    "        output = ''\n",
    "\n",
    "        for srt_ks in sorted_keys:\n",
    "\n",
    "            if type(dict_[srt_ks]) is dict:\n",
    "                \n",
    "                    \n",
    "                output = output+ '  '*lev  + str(srt_ks) +\":\\n\" + level(dict_[srt_ks], lev=lev+1)\n",
    "            else: \n",
    "                 \n",
    "                output =  output+ '  '*lev  + str(srt_ks) + ': ' + str(dict_[srt_ks]) + '\\n'\n",
    "                \n",
    "                \n",
    "        return output\n",
    "    \n",
    "    return level(dict_)"
   ]
  },
  {
   "cell_type": "code",
   "execution_count": 89,
   "metadata": {
    "ExecuteTime": {
     "end_time": "2021-05-02T03:08:08.310180Z",
     "start_time": "2021-05-02T03:08:08.304239Z"
    },
    "deletable": false,
    "editable": false,
    "nbgrader": {
     "cell_type": "code",
     "checksum": "044c45642e1f010ea546edc4e1b34940",
     "grade": true,
     "grade_id": "cell-63304af010a78f81",
     "locked": true,
     "points": 1,
     "schema_version": 3,
     "solution": false,
     "task": false
    }
   },
   "outputs": [],
   "source": [
    "assert_equal(\n",
    "    display_tree({\n",
    "    'foo': 1,\n",
    "    'bar': {\n",
    "        'fee': 'eenie',\n",
    "        'fi': 'meenie',\n",
    "        'fo': 'minnie',\n",
    "        'fum': {\n",
    "            'mo': 'lover'\n",
    "        },\n",
    "    'baz':\n",
    "        {\n",
    "            1: 'potato',\n",
    "            2: 'potatoes',\n",
    "            3: 'potatoes'\n",
    "        }\n",
    "    }\n",
    "    }),\n",
    "    \"\"\"bar:\n",
    "  baz:\n",
    "    1: potato\n",
    "    2: potatoes\n",
    "    3: potatoes\n",
    "  fee: eenie\n",
    "  fi: meenie\n",
    "  fo: minnie\n",
    "  fum:\n",
    "    mo: lover\n",
    "foo: 1\n",
    "\"\"\"\n",
    ")"
   ]
  },
  {
   "cell_type": "markdown",
   "metadata": {
    "deletable": false,
    "editable": false,
    "nbgrader": {
     "cell_type": "markdown",
     "checksum": "e3b3663275eef50d2d194462abac9dfb",
     "grade": false,
     "grade_id": "cell-afe12cc57cc8b5ed",
     "locked": true,
     "schema_version": 3,
     "solution": false,
     "task": false
    }
   },
   "source": [
    "## Problem 10\n",
    "\n",
    "Write a function `get_nested_key_value` that accepts a nested dictionary `nested_dict` and a string `key`, which corresponds to the key at each level joined by a period (.). Missing keys should return `None`. Assume that keys are alphanumeric."
   ]
  },
  {
   "cell_type": "code",
   "execution_count": 90,
   "metadata": {
    "ExecuteTime": {
     "end_time": "2021-05-02T04:18:40.817827Z",
     "start_time": "2021-05-02T04:18:40.812512Z"
    },
    "deletable": false,
    "nbgrader": {
     "cell_type": "code",
     "checksum": "02a194dfff6f689e9ac789457c11541e",
     "grade": false,
     "grade_id": "cell-276faaed0193b2c3",
     "locked": false,
     "schema_version": 3,
     "solution": true,
     "task": false
    }
   },
   "outputs": [],
   "source": [
    "def get_nested_key_value(nested_dict,key):\n",
    "    \"\"\" accepts a nested dictionary nested_dict and a string key, \n",
    "    which corresponds to the key at each level joined by a period (.). \n",
    "    Missing keys should return None. Assume that keys are alphanumeric.\n",
    "    \n",
    "    Parameters\n",
    "    ----------\n",
    "    nested_dict : dict\n",
    "        dictionary with nested dictionaries\n",
    "        \n",
    "    Returns\n",
    "    -------\n",
    "    key : str\n",
    "        string that corresponds to the key at each level joined by \n",
    "        a period (.)\n",
    "    \"\"\"\n",
    "    spl_key = key.split('.')\n",
    "    \n",
    "    \n",
    "    cumul = nested_dict\n",
    "    \n",
    "    for i in spl_key:\n",
    "        if i in cumul:\n",
    "            cumul = cumul[i]\n",
    "        else:\n",
    "            cumul = None\n",
    "            break\n",
    "            \n",
    "            \n",
    "    return cumul"
   ]
  },
  {
   "cell_type": "code",
   "execution_count": 91,
   "metadata": {
    "ExecuteTime": {
     "end_time": "2021-05-02T04:28:22.716629Z",
     "start_time": "2021-05-02T04:28:22.704134Z"
    },
    "deletable": false,
    "editable": false,
    "nbgrader": {
     "cell_type": "code",
     "checksum": "3e328d9ac615b2e8b2baf51654791635",
     "grade": true,
     "grade_id": "cell-99592c2742ae0394",
     "locked": true,
     "points": 1,
     "schema_version": 3,
     "solution": false,
     "task": false
    }
   },
   "outputs": [],
   "source": [
    "d = {\n",
    "    'a': {\n",
    "        'a1': {\n",
    "            'aa1': 'bar',\n",
    "            'aa2': 'baz'\n",
    "        },\n",
    "        'a2': 'bazbar',\n",
    "        'a3': 0\n",
    "    },\n",
    "    'b': 1,\n",
    "    'c': {\n",
    "        'c1': 'eenie',\n",
    "        'c2': {\n",
    "            'x': 'meenie',\n",
    "            'y': 'minnie',\n",
    "            'z': 'mo'\n",
    "        },\n",
    "        'c3': 'lover'\n",
    "    }\n",
    "}\n",
    "assert_equal(\n",
    "    get_nested_key_value(d, 'a.a1.aa2'),\n",
    "    'baz'\n",
    ")\n",
    "assert_equal(\n",
    "    get_nested_key_value(d, 'a.a1'),\n",
    "    {\n",
    "        'aa1': 'bar',\n",
    "        'aa2': 'baz'\n",
    "    }\n",
    ")\n",
    "assert_equal(\n",
    "    get_nested_key_value(d, 'a.a1.aa2.aaa1'),\n",
    "    None\n",
    ")\n",
    "assert_equal(\n",
    "    get_nested_key_value(d, 'a.a1.aa5'),\n",
    "    None\n",
    ")"
   ]
  }
 ],
 "metadata": {
  "kernelspec": {
   "display_name": "Python 3",
   "language": "python",
   "name": "python3"
  },
  "language_info": {
   "codemirror_mode": {
    "name": "ipython",
    "version": 3
   },
   "file_extension": ".py",
   "mimetype": "text/x-python",
   "name": "python",
   "nbconvert_exporter": "python",
   "pygments_lexer": "ipython3",
   "version": "3.8.8"
  }
 },
 "nbformat": 4,
 "nbformat_minor": 2
}
