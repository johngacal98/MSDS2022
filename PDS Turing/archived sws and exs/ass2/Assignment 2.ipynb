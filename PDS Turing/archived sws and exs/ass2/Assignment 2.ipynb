{
 "cells": [
  {
   "cell_type": "code",
   "execution_count": 1,
   "metadata": {
    "ExecuteTime": {
     "end_time": "2021-05-07T00:03:27.456599Z",
     "start_time": "2021-05-07T00:03:27.452167Z"
    },
    "deletable": false,
    "editable": false,
    "nbgrader": {
     "cell_type": "code",
     "checksum": "8f17668199c801acf7c212293c22afa9",
     "grade": false,
     "grade_id": "cell-eff61b8cf3a91039",
     "locked": true,
     "schema_version": 3,
     "solution": false,
     "task": false
    }
   },
   "outputs": [],
   "source": [
    "from numpy.testing import assert_equal"
   ]
  },
  {
   "cell_type": "markdown",
   "metadata": {
    "deletable": false,
    "editable": false,
    "nbgrader": {
     "cell_type": "markdown",
     "checksum": "96e077870aa2d7e2debe873bb4665d95",
     "grade": false,
     "grade_id": "cell-2458e6568ba707b4",
     "locked": true,
     "schema_version": 3,
     "solution": false,
     "task": false
    }
   },
   "source": [
    "## Problem 1\n",
    "Write a function `digit_sum` that takes a positive integer and returns the sum of its digits."
   ]
  },
  {
   "cell_type": "code",
   "execution_count": 2,
   "metadata": {
    "ExecuteTime": {
     "end_time": "2020-04-02T03:19:33.092401Z",
     "start_time": "2020-04-02T03:19:33.087173Z"
    },
    "deletable": false,
    "nbgrader": {
     "cell_type": "code",
     "checksum": "fa7eaf0fb4ea5230bc4ccc99e89ca3cc",
     "grade": false,
     "grade_id": "cell-38e8ef1defadda2c",
     "locked": false,
     "schema_version": 3,
     "solution": true
    }
   },
   "outputs": [],
   "source": [
    "def digit_sum(num):\n",
    "    digits = [int(dig) for dig in str(num)]\n",
    "    sum_dig = sum(digits)\n",
    "    \n",
    "    return sum_dig"
   ]
  },
  {
   "cell_type": "code",
   "execution_count": 3,
   "metadata": {
    "ExecuteTime": {
     "end_time": "2020-04-02T03:19:33.224115Z",
     "start_time": "2020-04-02T03:19:33.217776Z"
    },
    "deletable": false,
    "editable": false,
    "nbgrader": {
     "cell_type": "code",
     "checksum": "293721c7249507e4dd4e2459228012a9",
     "grade": true,
     "grade_id": "cell-5d5cfac174731d2c",
     "locked": true,
     "points": 1,
     "schema_version": 3,
     "solution": false
    }
   },
   "outputs": [],
   "source": [
    "assert_equal(digit_sum(0), 0)\n",
    "assert_equal(digit_sum(2020), 4)\n",
    "assert_equal(digit_sum(1234), 10)"
   ]
  },
  {
   "cell_type": "markdown",
   "metadata": {
    "deletable": false,
    "editable": false,
    "nbgrader": {
     "cell_type": "markdown",
     "checksum": "aea802c989705e41ce4ceee6e54a2154",
     "grade": false,
     "grade_id": "cell-a1bbf78214c55888",
     "locked": true,
     "schema_version": 3,
     "solution": false,
     "task": false
    }
   },
   "source": [
    "## Problem 2\n",
    "Write a function `count_vowels` that returns the number of vowels in an input string."
   ]
  },
  {
   "cell_type": "code",
   "execution_count": 4,
   "metadata": {
    "ExecuteTime": {
     "end_time": "2020-04-02T03:20:10.651608Z",
     "start_time": "2020-04-02T03:20:10.646199Z"
    },
    "deletable": false,
    "nbgrader": {
     "cell_type": "code",
     "checksum": "d71297624058db26fa85f05af620b8ca",
     "grade": false,
     "grade_id": "cell-4d0b4cdd7f5064e0",
     "locked": false,
     "schema_version": 3,
     "solution": true
    }
   },
   "outputs": [],
   "source": [
    "def count_vowels(string):\n",
    "    vowels = ['a','e','i','o','u']\n",
    "    \n",
    "    word_vowels = [v for v in string if v in vowels]\n",
    "    \n",
    "    return len(word_vowels)"
   ]
  },
  {
   "cell_type": "code",
   "execution_count": 5,
   "metadata": {
    "ExecuteTime": {
     "end_time": "2020-04-02T03:20:10.806821Z",
     "start_time": "2020-04-02T03:20:10.801381Z"
    },
    "deletable": false,
    "editable": false,
    "nbgrader": {
     "cell_type": "code",
     "checksum": "109c761c407e7cfec92b5546a27b2296",
     "grade": true,
     "grade_id": "cell-1fa31947d992477b",
     "locked": true,
     "points": 1,
     "schema_version": 3,
     "solution": false
    }
   },
   "outputs": [],
   "source": [
    "assert_equal(count_vowels('foo bar baz'), 4)\n",
    "assert_equal(count_vowels('fbrbz'), 0)"
   ]
  },
  {
   "cell_type": "markdown",
   "metadata": {
    "deletable": false,
    "editable": false,
    "nbgrader": {
     "cell_type": "markdown",
     "checksum": "558c94f828f88c2c33bee2c23d6f7fe4",
     "grade": false,
     "grade_id": "cell-cfa3f3e2de02631e",
     "locked": true,
     "schema_version": 3,
     "solution": false,
     "task": false
    }
   },
   "source": [
    "## Problem 3\n",
    "Two words of the same length \"interlock\" if taking alternating letters from each forms a new word. For example, \"shoe\" and \"cold\" interlock to form \"schooled\".\n",
    "\n",
    "Write a function that checks whether a pair of words interlock based on a word list."
   ]
  },
  {
   "cell_type": "code",
   "execution_count": 8,
   "metadata": {
    "ExecuteTime": {
     "end_time": "2020-04-02T03:20:19.699239Z",
     "start_time": "2020-04-02T03:20:19.690999Z"
    },
    "deletable": false,
    "nbgrader": {
     "cell_type": "code",
     "checksum": "20cd89af0fb37a188965cf4777da21ad",
     "grade": false,
     "grade_id": "cell-d595349223cd3695",
     "locked": false,
     "schema_version": 3,
     "solution": true
    }
   },
   "outputs": [],
   "source": [
    "def is_interlock(word_list, word1, word2):\n",
    "    '''\n",
    "    Check if word1 and word2 interlocks based on word_list\n",
    "\n",
    "    Two words \"interlock\" if taking alternating letters from each forms a new \n",
    "    word. For example, \"shoe\" and \"cold\" interlock to form \"schooled\".\n",
    "    \n",
    "    \n",
    "    Parameters\n",
    "    ----------\n",
    "    word_list : list\n",
    "        List of valid words\n",
    "    word1 : string\n",
    "        First word to check\n",
    "    word2 : string\n",
    "        Other word to check\n",
    "        \n",
    "        \n",
    "    Returns\n",
    "    -------\n",
    "    interlockness : bool\n",
    "        True if `word1` and `word2` interlock\n",
    "    '''\n",
    "    li_combined_1 = [i+v for i,v in zip(word1,word2)]\n",
    "    li_combined_2 = [i+v for i,v in zip(word2,word1)]\n",
    "    new_word_1 = ''\n",
    "    new_word_2 = ''\n",
    "    for i,j in zip(li_combined_1,li_combined_2):\n",
    "        new_word_1 = new_word_1 + i\n",
    "        new_word_2 = new_word_2 + j\n",
    "    \n",
    "    if new_word_1 in word_list or new_word_2 in word_list:\n",
    "        return True\n",
    "    else:\n",
    "        return False\n",
    "    "
   ]
  },
  {
   "cell_type": "code",
   "execution_count": 9,
   "metadata": {
    "ExecuteTime": {
     "end_time": "2020-04-02T03:22:00.307441Z",
     "start_time": "2020-04-02T03:22:00.299005Z"
    },
    "deletable": false,
    "editable": false,
    "nbgrader": {
     "cell_type": "code",
     "checksum": "6a104c13bb1b31e35a10c68e20ec2bb3",
     "grade": true,
     "grade_id": "cell-951f0bf1ac155acd",
     "locked": true,
     "points": 1,
     "schema_version": 3,
     "solution": false
    }
   },
   "outputs": [],
   "source": [
    "assert_equal(\n",
    "    is_interlock(['school', 'schooled', 'shoe', 'cold'], 'shoe', 'cold'), \n",
    "    True)\n",
    "assert_equal(\n",
    "    is_interlock(['school', 'schooled', 'shoe', 'cold'], 'cold', 'shoe'), \n",
    "    True)\n",
    "assert_equal(\n",
    "    is_interlock(['school', 'shoe', 'cold'], 'shoe', 'cold'), \n",
    "    False)\n",
    "assert_equal(is_interlock(['school'], 'shoe', 'cold'), False)"
   ]
  },
  {
   "cell_type": "markdown",
   "metadata": {
    "deletable": false,
    "editable": false,
    "nbgrader": {
     "cell_type": "markdown",
     "checksum": "bfc3d0bd17f3313e23a8148121467a4d",
     "grade": false,
     "grade_id": "cell-ba499e6de7a804e6",
     "locked": true,
     "schema_version": 3,
     "solution": false,
     "task": false
    }
   },
   "source": [
    "## Problem 4\n",
    "\n",
    "Write a function `count_types` that accepts a string `a_string`, and returns the number of `lowercase`, `uppercase`, `numeric`, `punctuation` and `whitespace` characters in `a_string` as items in a dictionary."
   ]
  },
  {
   "cell_type": "code",
   "execution_count": 10,
   "metadata": {
    "ExecuteTime": {
     "end_time": "2021-05-05T23:59:42.745292Z",
     "start_time": "2021-05-05T23:59:42.737610Z"
    },
    "deletable": false,
    "nbgrader": {
     "cell_type": "code",
     "checksum": "c0743d866fd42fd12919125e35cc13ab",
     "grade": false,
     "grade_id": "cell-7ce601f79cc30766",
     "locked": false,
     "schema_version": 3,
     "solution": true,
     "task": false
    }
   },
   "outputs": [],
   "source": [
    "def count_types(a_string):\n",
    "    punc_set = \"\"\"!\"#$%&'()*+,-./:;<=>?@\\^_`{|}~\"\"\"\n",
    "\n",
    "    count_space = count_lower = count_upper = count_num = count_punc = 0\n",
    "\n",
    "    for char in a_string:\n",
    "\n",
    "        if char.islower() is True:\n",
    "            count_lower = count_lower + 1\n",
    "\n",
    "        elif char.isupper() is True:\n",
    "            count_upper = count_upper + 1\n",
    "\n",
    "        elif char.isnumeric() is True:\n",
    "            count_num = count_num + 1\n",
    "\n",
    "        elif char in punc_set:\n",
    "            count_punc = count_punc + 1\n",
    "\n",
    "        else:\n",
    "            count_space = count_space + 1\n",
    "\n",
    "    d = {'lowercase': count_lower,\n",
    "        'uppercase': count_upper,\n",
    "        'numeric': count_num,\n",
    "        'punctuation': count_punc,\n",
    "        'whitespace': count_space}\n",
    "    \n",
    "    return d"
   ]
  },
  {
   "cell_type": "code",
   "execution_count": 11,
   "metadata": {
    "ExecuteTime": {
     "end_time": "2021-05-05T23:59:44.002868Z",
     "start_time": "2021-05-05T23:59:43.388169Z"
    },
    "deletable": false,
    "editable": false,
    "nbgrader": {
     "cell_type": "code",
     "checksum": "61038e2239070a462477f208933d6fbe",
     "grade": true,
     "grade_id": "cell-9f6487557e54f1a9",
     "locked": true,
     "points": 1,
     "schema_version": 3,
     "solution": false,
     "task": false
    }
   },
   "outputs": [],
   "source": [
    "assert_equal(\n",
    "    count_types('abcABC123!!! '),\n",
    "    {'lowercase': 3,\n",
    "     'uppercase': 3,\n",
    "     'numeric': 3,\n",
    "     'punctuation': 3,\n",
    "     'whitespace': 1}\n",
    ")\n",
    "assert_equal(\n",
    "    count_types('abc123!'),\n",
    "    {'lowercase': 3,\n",
    "     'uppercase': 0,\n",
    "     'numeric': 3,\n",
    "     'punctuation': 1,\n",
    "     'whitespace': 0}\n",
    ")\n",
    "assert_equal(\n",
    "    count_types(\"\"\"Mary had a little lamb\n",
    "Little lamb, little lamb\n",
    "Mary had a little lamb\n",
    "It's fleece was white as snow\"\"\"),\n",
    "    {'lowercase': 75,\n",
    "     'uppercase': 4,\n",
    "     'numeric': 0,\n",
    "     'punctuation': 2,\n",
    "     'whitespace': 19}\n",
    ")"
   ]
  },
  {
   "cell_type": "markdown",
   "metadata": {
    "deletable": false,
    "editable": false,
    "nbgrader": {
     "cell_type": "markdown",
     "checksum": "d9193755ba0ac2dd6fa25d25003471cb",
     "grade": false,
     "grade_id": "cell-49ace1406e41fdea",
     "locked": true,
     "schema_version": 3,
     "solution": false,
     "task": false
    }
   },
   "source": [
    "## Problem 5\n",
    "\n",
    "Write a function `matmul` that accepts two matrices as list of lists and returns their matrix product as a list of lists. Assume the matrices are nonempty and have compatible dimensions."
   ]
  },
  {
   "cell_type": "code",
   "execution_count": null,
   "metadata": {
    "ExecuteTime": {
     "end_time": "2021-05-06T22:16:49.312903Z",
     "start_time": "2021-05-06T22:16:49.304392Z"
    },
    "deletable": false,
    "nbgrader": {
     "cell_type": "code",
     "checksum": "d5c9a60e74dc4f0077650aacedc0c2f2",
     "grade": false,
     "grade_id": "cell-5572a8301703f175",
     "locked": false,
     "schema_version": 3,
     "solution": true,
     "task": false
    }
   },
   "outputs": [],
   "source": [
    "def matmul(list1,list2):\n",
    "    \n",
    "    product = [[sum(a*b for a,b in zip(list1_row, list2_col)) for list2_col in zip(*list2)] for list1_row in  list1]\n",
    "    return product\n"
   ]
  },
  {
   "cell_type": "code",
   "execution_count": null,
   "metadata": {
    "ExecuteTime": {
     "end_time": "2021-05-06T22:56:39.086428Z",
     "start_time": "2021-05-06T22:56:39.071370Z"
    },
    "deletable": false,
    "editable": false,
    "nbgrader": {
     "cell_type": "code",
     "checksum": "1528a46b93affbdca2074ced740b1031",
     "grade": true,
     "grade_id": "cell-902b3b435df6c97c",
     "locked": true,
     "points": 1,
     "schema_version": 3,
     "solution": false,
     "task": false
    }
   },
   "outputs": [],
   "source": [
    "assert_equal(\n",
    "    matmul(\n",
    "        [[1, 2],\n",
    "         [3, 4]],\n",
    "        [[5, 6],\n",
    "         [7, 8]]\n",
    "    ),\n",
    "    [[19, 22],\n",
    "     [43, 50]]\n",
    ")\n",
    "assert_equal(\n",
    "    matmul(\n",
    "        [[1, 2, 7],\n",
    "         [3, 4, 8]],\n",
    "        [[5, 6],\n",
    "         [7, 8],\n",
    "         [9, 10]]\n",
    "    ),\n",
    "    [[82, 92], \n",
    "     [115, 130]]\n",
    ")\n",
    "assert_equal(\n",
    "    matmul(\n",
    "        [[1, 2],\n",
    "         [3, 4],\n",
    "         [7, 8]],\n",
    "        [[5, 6, 9],\n",
    "         [7, 8, 10]]\n",
    "    ),\n",
    "    [[19, 22, 29], \n",
    "     [43, 50, 67], \n",
    "     [91, 106, 143]]\n",
    ")"
   ]
  },
  {
   "cell_type": "markdown",
   "metadata": {
    "deletable": false,
    "editable": false,
    "nbgrader": {
     "cell_type": "markdown",
     "checksum": "855096d4a6cecd0fef258ea3e9cc5ca5",
     "grade": false,
     "grade_id": "cell-4f30723b822453be",
     "locked": true,
     "schema_version": 3,
     "solution": false,
     "task": false
    }
   },
   "source": [
    "## Problem 6\n",
    "One classic method for composing secret messages is called a square code.  The spaces are removed from the english text and the characters are written into a square (or rectangle).  For example, the sentence \"If man was meant to stay on the ground god would have given us roots\" is 54 characters long, so it is written into a rectangle with 7 rows and 8 columns. \n",
    "\n",
    "    ifmanwas\n",
    "    meanttos        \n",
    "    tayonthe\n",
    "    groundgo\n",
    "    dwouldha\n",
    "    vegivenu\n",
    "    sroots\n",
    "                \n",
    "The coded message is obtained by reading down the columns going left to right.   For example, the message above is coded as:\n",
    "\n",
    "    imtgdvs fearwer mayoogo anouuio ntnnlvt wttddes aohghn sseoau\n",
    "\n",
    "Write a function `encode` that takes in a a string message with no spaces between the words and returns the encode message."
   ]
  },
  {
   "cell_type": "code",
   "execution_count": null,
   "metadata": {
    "ExecuteTime": {
     "end_time": "2020-04-02T03:31:18.392313Z",
     "start_time": "2020-04-02T03:31:18.366236Z"
    },
    "deletable": false,
    "nbgrader": {
     "cell_type": "code",
     "checksum": "5335cdd965aa61bee71d9654131dc66c",
     "grade": false,
     "grade_id": "cell-673ab947a5fc9c66",
     "locked": false,
     "schema_version": 3,
     "solution": true
    }
   },
   "outputs": [],
   "source": [
    "def encode(text):\n",
    "    x = [i.lower() for i in text if i.isalpha() or i.isdigit()]\n",
    "    col = int((len(x)**(0.5))) + 1\n",
    "    if col * (col - 1) >= len(x):\n",
    "        row = col - 1\n",
    "    else:\n",
    "        row = col\n",
    "    \n",
    "    res = []\n",
    "    for i in range(col):\n",
    "        for j in range(row):\n",
    "            try:\n",
    "                res.append(x[i + j * col])\n",
    "            except:\n",
    "                res.append('')\n",
    "    for i in range (col - 1,0,-1):\n",
    "        res.insert(i * row, ' ')\n",
    "    return ''.join(res)"
   ]
  },
  {
   "cell_type": "code",
   "execution_count": null,
   "metadata": {
    "ExecuteTime": {
     "end_time": "2020-04-02T03:31:19.498619Z",
     "start_time": "2020-04-02T03:31:19.492939Z"
    },
    "deletable": false,
    "editable": false,
    "nbgrader": {
     "cell_type": "code",
     "checksum": "1fc3f71b5f88f8f6e1b662c56f119762",
     "grade": true,
     "grade_id": "cell-8498f3626841532e",
     "locked": true,
     "points": 1,
     "schema_version": 3,
     "solution": false
    }
   },
   "outputs": [],
   "source": [
    "assert_equal(encode('haveaniceday'), 'hae and via ecy')\n",
    "assert_equal(encode('feedthedog'), 'fto ehg ee dd')\n",
    "assert_equal(encode('chillout'), 'clu hlt io')"
   ]
  },
  {
   "cell_type": "markdown",
   "metadata": {
    "deletable": false,
    "editable": false,
    "nbgrader": {
     "cell_type": "markdown",
     "checksum": "c2b912b1196f722f952009076c85fcd9",
     "grade": false,
     "grade_id": "cell-6a527c87887af7dd",
     "locked": true,
     "schema_version": 3,
     "solution": false,
     "task": false
    }
   },
   "source": [
    "## Problem 7\n",
    "We are given strings containing brackets of four types - round (), square [], curly {} and angle <> ones. Create a function `check_brackets` that checks whether brackets are in correct sequence i.e., any opening bracket should have closing bracket of the same type somewhere further by the string, and bracket pairs should not overlap, though they could be nested:\n",
    "\n",
    "    (a+[b*c] - {d/3})  - here square and curly brackets are nested in the round ones\n",
    "\n",
    "    (a+[b*c) - 17]     - here square brackets overlap with round ones which does not make sense"
   ]
  },
  {
   "cell_type": "code",
   "execution_count": null,
   "metadata": {
    "ExecuteTime": {
     "end_time": "2020-04-02T03:32:40.555094Z",
     "start_time": "2020-04-02T03:32:40.544125Z"
    },
    "deletable": false,
    "nbgrader": {
     "cell_type": "code",
     "checksum": "bda8ac32ea986fb5aeae9fdb59ed44d8",
     "grade": false,
     "grade_id": "cell-c457791d0d5db697",
     "locked": false,
     "schema_version": 3,
     "solution": true
    }
   },
   "outputs": [],
   "source": [
    "def check_brackets(str_with_brackets):\n",
    "    \"\"\"Check whether str_with_bracks is bracketed correctly\n",
    "    \n",
    "    Parameters\n",
    "    ----------\n",
    "    str_with_brackets : str\n",
    "        String with brackets that are possibly nested\n",
    "    \n",
    "    Returns\n",
    "    -------\n",
    "    is_correct : bool\n",
    "        `True` if `str_with_brackets` is bracketed correctly, `False` \n",
    "        otherwise\n",
    "    \"\"\"\n",
    "    open_brackets = [\"[\",\"{\",\"(\"]\n",
    "    close_brackets = [\"]\",\"}\",\")\"]\n",
    "    dump = []\n",
    "    for i in str_with_brackets:\n",
    "        if i in open_brackets:\n",
    "            dump.append(i)\n",
    "        elif i in close_brackets:\n",
    "            pos = close_brackets.index(i)\n",
    "            if ((len(dump) > 0) and \n",
    "                (open_brackets[pos] == dump[len(dump)-1])):\n",
    "                dump.pop()\n",
    "            else:\n",
    "                return False\n",
    "    if len(dump) == 0:\n",
    "        return True\n",
    "    else:\n",
    "        return False"
   ]
  },
  {
   "cell_type": "code",
   "execution_count": null,
   "metadata": {
    "ExecuteTime": {
     "end_time": "2020-04-02T03:33:09.842625Z",
     "start_time": "2020-04-02T03:33:09.836493Z"
    },
    "deletable": false,
    "editable": false,
    "nbgrader": {
     "cell_type": "code",
     "checksum": "1fd7a8ec444a83d7f517b392051aae6e",
     "grade": true,
     "grade_id": "cell-6c9fa78273cf19d3",
     "locked": true,
     "points": 1,
     "schema_version": 3,
     "solution": false
    }
   },
   "outputs": [],
   "source": [
    "assert_equal(check_brackets('(a+[b*c] - {d/3})'), True)\n",
    "assert_equal(check_brackets('(a+[b*c) - 17]'), False)"
   ]
  },
  {
   "cell_type": "markdown",
   "metadata": {
    "deletable": false,
    "editable": false,
    "nbgrader": {
     "cell_type": "markdown",
     "checksum": "7da3dbd2c5374290d660b8aac3576cd5",
     "grade": false,
     "grade_id": "cell-2d6a7fad382e9912",
     "locked": true,
     "schema_version": 3,
     "solution": false,
     "task": false
    }
   },
   "source": [
    "## Problem 8\n",
    "Write a function called `nested_sum` that takes a list of lists of integers and adds up the elements from all of the nested lists. For example:\n",
    "\n",
    "    >>> t = [[1, 2], [3], [4, 5, 6]]\n",
    "    >>> nested_sum(t)\n",
    "    21"
   ]
  },
  {
   "cell_type": "code",
   "execution_count": null,
   "metadata": {
    "ExecuteTime": {
     "end_time": "2020-04-02T03:33:33.070700Z",
     "start_time": "2020-04-02T03:33:33.065584Z"
    },
    "deletable": false,
    "nbgrader": {
     "cell_type": "code",
     "checksum": "714dcb23e2d23644b033b85722979a93",
     "grade": false,
     "grade_id": "cell-173f8231b323732b",
     "locked": false,
     "schema_version": 3,
     "solution": true
    }
   },
   "outputs": [],
   "source": [
    "def nested_sum(list_of_lists):\n",
    "    # YOUR CODE HERE\n",
    "    total = 0\n",
    "    for element in list_of_lists:\n",
    "        if (type(element) == type([])):\n",
    "            total = total + nested_sum(element)\n",
    "        else:\n",
    "            total = total + element\n",
    "    return total"
   ]
  },
  {
   "cell_type": "code",
   "execution_count": null,
   "metadata": {
    "ExecuteTime": {
     "end_time": "2020-04-02T03:33:42.539063Z",
     "start_time": "2020-04-02T03:33:42.533313Z"
    },
    "deletable": false,
    "editable": false,
    "nbgrader": {
     "cell_type": "code",
     "checksum": "174cb9e671c436c6f96c68c032cae895",
     "grade": true,
     "grade_id": "cell-eae30f88ad6a0851",
     "locked": true,
     "points": 1,
     "schema_version": 3,
     "solution": false
    }
   },
   "outputs": [],
   "source": [
    "assert_equal(nested_sum([[1, 2], [3], [4, 5, 6]]), 21)"
   ]
  },
  {
   "cell_type": "markdown",
   "metadata": {
    "deletable": false,
    "editable": false,
    "nbgrader": {
     "cell_type": "markdown",
     "checksum": "4ab1a7c248a303d70f17dd03eca150d6",
     "grade": false,
     "grade_id": "cell-fad3657d0663e727",
     "locked": true,
     "schema_version": 3,
     "solution": false,
     "task": false
    }
   },
   "source": [
    "## Problem 9\n",
    "\n",
    "Write a function `count_people` that accepts a multiline string of log entries. Each log entry consists of the string `IN` or `OUT` corresponding to whether the entry is the number of people who went in or out of the building, respectively, and the number of people this entry applies to, separate by the tab character (`\\t`). `count_people` returns the number of people inside the building based on the log."
   ]
  },
  {
   "cell_type": "code",
   "execution_count": null,
   "metadata": {
    "ExecuteTime": {
     "end_time": "2021-05-07T00:22:25.318012Z",
     "start_time": "2021-05-07T00:22:25.311954Z"
    },
    "deletable": false,
    "nbgrader": {
     "cell_type": "code",
     "checksum": "bf354996d2edfbe35f3efe421fd31038",
     "grade": false,
     "grade_id": "cell-03dea1b273a41cb5",
     "locked": false,
     "schema_version": 3,
     "solution": true,
     "task": false
    }
   },
   "outputs": [],
   "source": [
    "def count_people(log):\n",
    "    count = 0\n",
    "    text = log.split()\n",
    "    pairs = []\n",
    "    for i in range (0,len(text),2):\n",
    "        pairs += [(text[i], text[i+1])]\n",
    "    \n",
    "    for i in pairs:\n",
    "        if i[0] == 'IN':\n",
    "            pos = pairs.index(i)\n",
    "    \n",
    "    for i in pairs[pos::]:\n",
    "        if i[0] == 'IN':\n",
    "            count += int(i[1])\n",
    "        else:\n",
    "            count -= int(i[1])\n",
    "    return count"
   ]
  },
  {
   "cell_type": "code",
   "execution_count": null,
   "metadata": {
    "ExecuteTime": {
     "end_time": "2021-05-07T00:22:25.455233Z",
     "start_time": "2021-05-07T00:22:25.321031Z"
    },
    "deletable": false,
    "editable": false,
    "nbgrader": {
     "cell_type": "code",
     "checksum": "e61e024feb816415f5823cafcdaeccf8",
     "grade": true,
     "grade_id": "cell-95ad0d9628941109",
     "locked": true,
     "points": 1,
     "schema_version": 3,
     "solution": false,
     "task": false
    }
   },
   "outputs": [],
   "source": [
    "assert_equal(\n",
    "    count_people(\n",
    "        'IN\\t1\\n'\n",
    "        'OUT\\t1\\n'\n",
    "        'IN\\t1\\n'\n",
    "        'IN\\t1\\n'\n",
    "        'IN\\t1\\n'\n",
    "        'IN\\t1\\n'\n",
    "        'OUT\\t2\\n'\n",
    "    ),\n",
    "    2\n",
    ")"
   ]
  },
  {
   "cell_type": "markdown",
   "metadata": {
    "deletable": false,
    "editable": false,
    "nbgrader": {
     "cell_type": "markdown",
     "checksum": "ed869d50f0f29e6e2d8554889d42c7a7",
     "grade": false,
     "grade_id": "cell-2a0ec1051e12360e",
     "locked": true,
     "schema_version": 3,
     "solution": false,
     "task": false
    }
   },
   "source": [
    "## Problem 10\n",
    "Write a function `next_word` that takes a string of words and returns the most likely next word for all words or for a single word."
   ]
  },
  {
   "cell_type": "code",
   "execution_count": null,
   "metadata": {
    "ExecuteTime": {
     "end_time": "2020-04-10T13:08:08.687944Z",
     "start_time": "2020-04-10T13:08:08.645450Z"
    },
    "deletable": false,
    "nbgrader": {
     "cell_type": "code",
     "checksum": "768b2b4974b41692f00740d049a96521",
     "grade": false,
     "grade_id": "cell-ad39c27c5c5f2d1e",
     "locked": false,
     "schema_version": 3,
     "solution": true
    }
   },
   "outputs": [],
   "source": [
    "from collections import Counter\n",
    "def next_word(text, word=None):\n",
    "    \"\"\"\n",
    "    Return the most likely next word in text\n",
    "    \n",
    "    A word is defined as a sequence of all non-whitespace characters between\n",
    "    whitespaces. Words are case-insensitive.\n",
    "    \n",
    "    Parameters\n",
    "    ----------\n",
    "    text : string\n",
    "        Text to train at.\n",
    "    word : string or `None`\n",
    "        Find the most likely next word of `word` or likely next word of all\n",
    "        words if `None`. \n",
    "        \n",
    "    \n",
    "    Returns\n",
    "    -------\n",
    "    next_word : tuple or list of tuple\n",
    "        If `word` is a string then return the most likely next word of `word`\n",
    "        as a tuple of `(word, most_likely_next_word)`. If `word` is not found\n",
    "        in `text`, `most_likely_next_word` is an empty string. If `word` is\n",
    "        `None` then return the list of `(word, most_likely_next_word)` for all\n",
    "        words in `text`. If there is more than one most likely next word, pick\n",
    "        the first word based on alphabetical (lexicographic) order.\n",
    "    \"\"\"\n",
    "    words = []\n",
    "    nxt = []\n",
    "    dummy = []\n",
    "    temp = []\n",
    "    if isinstance(word, str) and word in text:\n",
    "        words = text.split()\n",
    "        n = len(words)\n",
    "\n",
    "        for i in range(len(words)):\n",
    "            if words[i] == word:\n",
    "                try:\n",
    "                    nxt.append((words[i], words[i + 1]))\n",
    "                except:\n",
    "                    continue\n",
    "        return nxt[0]\n",
    "    elif word is None:\n",
    "        words = text.split()\n",
    "        n = len(words)\n",
    "        for i in range(len(words)-1):\n",
    "            try:\n",
    "                nxt.append((words[i], words[i + 1]))\n",
    "            except:\n",
    "                continue\n",
    "        nxt = sorted(nxt, key = lambda x: (x[0],x[1]))\n",
    "        count = dict(Counter(nxt))\n",
    "        sorted_keys = sorted(count, key=count.get, reverse = True)\n",
    "        sorted_dict = {}\n",
    "\n",
    "        for i in sorted_keys:\n",
    "            sorted_dict[i] = count[i]\n",
    "        \n",
    "        for i in sorted_dict:\n",
    "            if i[0] in dummy:\n",
    "                continue\n",
    "            else:\n",
    "                dummy.append(i[0])\n",
    "                temp.append(i)\n",
    "        nxt = temp\n",
    "        return nxt"
   ]
  },
  {
   "cell_type": "code",
   "execution_count": null,
   "metadata": {
    "ExecuteTime": {
     "end_time": "2020-04-10T13:08:20.397353Z",
     "start_time": "2020-04-10T13:08:20.382446Z"
    },
    "deletable": false,
    "editable": false,
    "nbgrader": {
     "cell_type": "code",
     "checksum": "47460a9bd96b7f7428151ce736a65ed3",
     "grade": true,
     "grade_id": "cell-8721e2955dbdaef8",
     "locked": true,
     "points": 1,
     "schema_version": 3,
     "solution": false
    }
   },
   "outputs": [],
   "source": [
    "assert_equal(\n",
    "    set(next_word('a b c d a b c d e f a b c a c a c d e a')),\n",
    "    set([('a', 'b'), ('b', 'c'), ('c', 'd'), \n",
    "         ('d', 'e'), ('e', 'a'), ('f', 'a')]))\n",
    "assert_equal(\n",
    "    next_word('a b c d a b c d e f a b c a c a c d e a', 'a'), \n",
    "    ('a', 'b'))\n",
    "assert_equal(\n",
    "    next_word('a b c d a b c d e f a b c a c a c d e a', 'b'), \n",
    "    ('b', 'c'))\n",
    "assert_equal(\n",
    "    next_word('a b c d a b c d e f a b c a c a c d e a', 'c'), \n",
    "    ('c', 'd'))"
   ]
  },
  {
   "cell_type": "code",
   "execution_count": null,
   "metadata": {},
   "outputs": [],
   "source": []
  }
 ],
 "metadata": {
  "kernelspec": {
   "display_name": "Python 3",
   "language": "python",
   "name": "python3"
  },
  "language_info": {
   "codemirror_mode": {
    "name": "ipython",
    "version": 3
   },
   "file_extension": ".py",
   "mimetype": "text/x-python",
   "name": "python",
   "nbconvert_exporter": "python",
   "pygments_lexer": "ipython3",
   "version": "3.8.8"
  },
  "toc": {
   "base_numbering": 1,
   "nav_menu": {},
   "number_sections": true,
   "sideBar": true,
   "skip_h1_title": false,
   "title_cell": "Table of Contents",
   "title_sidebar": "Contents",
   "toc_cell": false,
   "toc_position": {},
   "toc_section_display": true,
   "toc_window_display": false
  }
 },
 "nbformat": 4,
 "nbformat_minor": 2
}
