{
 "cells": [
  {
   "cell_type": "code",
   "execution_count": 20,
   "metadata": {
    "ExecuteTime": {
     "end_time": "2021-05-04T02:40:47.888499Z",
     "start_time": "2021-05-04T02:40:47.117345Z"
    },
    "deletable": false,
    "editable": false,
    "nbgrader": {
     "cell_type": "code",
     "checksum": "7892426f9c2f3cb9c8f56c089c073525",
     "grade": false,
     "grade_id": "cell-049372a1ac926844",
     "locked": true,
     "schema_version": 3,
     "solution": false,
     "task": false
    }
   },
   "outputs": [],
   "source": [
    "from numpy.testing import (assert_equal, assert_almost_equal, assert_raises, \n",
    "                           assert_raises_regex)"
   ]
  },
  {
   "cell_type": "markdown",
   "metadata": {
    "deletable": false,
    "editable": false,
    "nbgrader": {
     "cell_type": "markdown",
     "checksum": "2c748b1120fa1bb250c74e6c36511ffa",
     "grade": false,
     "grade_id": "cell-3b8a0a38920d3f5a",
     "locked": true,
     "schema_version": 3,
     "solution": false,
     "task": false
    }
   },
   "source": [
    "## Problem 1\n",
    "Write a function `value_counts` that accepts a list `a_list` and an output filepath `out_path`. It saves the number of times each element in `a_list` appears to `out_path` as a comma-separated separated values file. Sort them from most to least frequent then by element if they have the same count. Don't include a header."
   ]
  },
  {
   "cell_type": "code",
   "execution_count": 58,
   "metadata": {
    "ExecuteTime": {
     "end_time": "2021-05-04T02:40:47.898023Z",
     "start_time": "2021-05-04T02:40:47.893373Z"
    },
    "deletable": false,
    "nbgrader": {
     "cell_type": "code",
     "checksum": "7ad0ec93216aa7b47e7d24ace4ccfdd5",
     "grade": false,
     "grade_id": "cell-612f8d5c295e6aaa",
     "locked": false,
     "schema_version": 3,
     "solution": true,
     "task": false
    }
   },
   "outputs": [],
   "source": [
    "def value_counts(a_list, out_path):\n",
    "    \"\"\"\n",
    "    value_counts accepts a list a_list and an output filepath out_path. \n",
    "    It sorts the number of times each element in a_list appears from most to \n",
    "    least frequent then by element if they have the same count and saves it \n",
    "    to out_path as a comma-separated separated values file.\n",
    "    \n",
    "    Parameters\n",
    "    ----------\n",
    "    a_list : list\n",
    "        List of elements that will be counted\n",
    "    out_path : str\n",
    "        csv file where the elements and their corresponding counts \n",
    "        will be saved\n",
    "    \"\"\"\n",
    "    set_list = list(set(a_list))\n",
    "    li_count = []   \n",
    "    for sl in set_list:\n",
    "        count = 0\n",
    "        for al in a_list:\n",
    "            if sl == al:\n",
    "                count = count + 1\n",
    "        li_count.append(count)\n",
    "\n",
    "    li_zipped_items = list(zip(set_list,li_count))\n",
    "\n",
    "#     output = sorted(li_zipped_items, key = lambda x:(x[0],x[1]))\n",
    "    output = sorted(li_zipped_items, key = lambda x:(-x[1],x[0]))\n",
    "    string = ''\n",
    "    for out in output:\n",
    "\n",
    "        string = string + str(out[0]) + \",\" + str(out[1]) + \"\\n\"\n",
    "\n",
    "    fp = out_path\n",
    "\n",
    "    with open(fp, 'w') as f:\n",
    "        f.write(string)"
   ]
  },
  {
   "cell_type": "code",
   "execution_count": 59,
   "metadata": {
    "ExecuteTime": {
     "end_time": "2021-05-04T02:40:50.937852Z",
     "start_time": "2021-05-04T02:40:47.902268Z"
    },
    "deletable": false,
    "editable": false,
    "nbgrader": {
     "cell_type": "code",
     "checksum": "8aa33c3b60e811d2d922b9639113f3db",
     "grade": true,
     "grade_id": "cell-6741514de37183fb",
     "locked": true,
     "points": 1,
     "schema_version": 3,
     "solution": false,
     "task": false
    }
   },
   "outputs": [],
   "source": [
    "!rm -f out_file.csv\n",
    "value_counts(['a', 'b', 'c'], 'out_file.csv')\n",
    "with open('out_file.csv') as f:\n",
    "    assert_equal(\n",
    "        f.read(),\n",
    "        'a,1\\n'\n",
    "        'b,1\\n'\n",
    "        'c,1\\n'\n",
    "    )\n",
    "!rm -f out_file.csv\n",
    "value_counts(['a', 'b', 'c', 'b', 'a'], 'out_file.csv')\n",
    "with open('out_file.csv') as f:\n",
    "    assert_equal(\n",
    "        f.read(),\n",
    "        'a,2\\n'\n",
    "        'b,2\\n'\n",
    "        'c,1\\n'\n",
    "    )"
   ]
  },
  {
   "cell_type": "code",
   "execution_count": 46,
   "metadata": {},
   "outputs": [
    {
     "data": {
      "text/plain": [
       "[('a', 1), ('b', 1), ('c', 1)]"
      ]
     },
     "execution_count": 46,
     "metadata": {},
     "output_type": "execute_result"
    }
   ],
   "source": [
    "li_prac_hid = [('a',2),('b',1),('c',2)]\n",
    "li_prac_1 = [('a',1),('b',1),('c',1)]\n",
    "li_prac_2 = [('a',2),('b',2),('c',1)]\n",
    "\n",
    "sorted(li_prac_1, key = lambda x:(-x[1]))\n"
   ]
  },
  {
   "cell_type": "markdown",
   "metadata": {
    "deletable": false,
    "editable": false,
    "nbgrader": {
     "cell_type": "markdown",
     "checksum": "b6ac90542954a26d60fbc4e817e5215e",
     "grade": false,
     "grade_id": "cell-27dae000b8e4910b",
     "locked": true,
     "schema_version": 3,
     "solution": false,
     "task": false
    }
   },
   "source": [
    "## Problem 2\n",
    "Create a function `is_subset` that checks whether `sublist` is a subset of `superlist`."
   ]
  },
  {
   "cell_type": "code",
   "execution_count": 66,
   "metadata": {
    "ExecuteTime": {
     "end_time": "2021-05-04T02:40:50.949747Z",
     "start_time": "2021-05-04T02:40:50.944456Z"
    },
    "deletable": false,
    "nbgrader": {
     "cell_type": "code",
     "checksum": "48d8f457e23c15f76d69f8fef1bdcd00",
     "grade": false,
     "grade_id": "cell-915b3dbfa6d30678",
     "locked": false,
     "schema_version": 3,
     "solution": true,
     "task": false
    }
   },
   "outputs": [],
   "source": [
    "def is_subset(sublist, superlist, strict=True):\n",
    "    \"\"\"\n",
    "    Check whether `sublist` is a subset of `superlist`\n",
    "    \n",
    "    Parameters\n",
    "    ----------\n",
    "    sublist : list\n",
    "        List to check whether it is a subset of `superlist`\n",
    "    superlist : list\n",
    "        List to check whether `sublist` is one of its subsets\n",
    "    strict : bool\n",
    "        If `True`, the exact sequence of `sublist` must be found in \n",
    "        `superlist` for the `sublist` to be considered as a subset. If \n",
    "        `False`, `sublist` will be considered a subset of `superlist` as long\n",
    "        as all members of `sublist` are found in `superlist`\n",
    "        \n",
    "    Returns\n",
    "    -------\n",
    "    is_subset : bool\n",
    "        `True` is `sublist` is a subset of `superlist`, `False` otherwise\n",
    "    \"\"\"\n",
    "    if strict:\n",
    "    \n",
    "        str_sub=''\n",
    "        str_super = ''\n",
    "        for sub_elem in sublist:\n",
    "            str_sub = str_sub + str(sub_elem)\n",
    "        str_sub\n",
    "\n",
    "        for super_elem in superlist:\n",
    "            str_super = str_super + str(super_elem)\n",
    "        str_super\n",
    "        \n",
    "        output_true = str_sub in str_super\n",
    "        return output_true\n",
    "    else:\n",
    "        test = [x for x in sublist if x in superlist]\n",
    "        if test == sublist:\n",
    "            return True\n",
    "        else:\n",
    "            return False\n",
    "    "
   ]
  },
  {
   "cell_type": "code",
   "execution_count": 67,
   "metadata": {
    "ExecuteTime": {
     "end_time": "2021-05-04T02:40:51.406541Z",
     "start_time": "2021-05-04T02:40:50.953967Z"
    },
    "deletable": false,
    "editable": false,
    "nbgrader": {
     "cell_type": "code",
     "checksum": "c1a214eef6c07e0d769a224465d96f84",
     "grade": true,
     "grade_id": "cell-637e733c312fd315",
     "locked": true,
     "points": 1,
     "schema_version": 3,
     "solution": false,
     "task": false
    }
   },
   "outputs": [],
   "source": [
    "assert_equal(is_subset([1, 2, 3], [0, 1, 2, 3, 4, 5]), True)\n",
    "assert_equal(is_subset([1, 2, 3], [0, 1, 2, 4, 3, 5]), False)\n",
    "assert_equal(is_subset([1, 2, 3], [0, 1, 2, 4, 3, 5], False), True)\n",
    "assert_equal(is_subset([1, 'a', 3], [0, 1, 'a', 3, 4, 5]), True)\n",
    "assert_equal(is_subset([1, 'a', 3], [0, 1, 'a', 4, 3, 5]), False)\n",
    "assert_equal(is_subset([1, 'a', 3], [0, 1, 'a', 4, 3, 5], False), True)"
   ]
  },
  {
   "cell_type": "code",
   "execution_count": null,
   "metadata": {},
   "outputs": [],
   "source": []
  },
  {
   "cell_type": "markdown",
   "metadata": {
    "deletable": false,
    "editable": false,
    "nbgrader": {
     "cell_type": "markdown",
     "checksum": "d266dc24e60486ee6b21cf49043a71c4",
     "grade": false,
     "grade_id": "cell-10ab7d1b57278ba3",
     "locked": true,
     "schema_version": 3,
     "solution": false,
     "task": false
    }
   },
   "source": [
    "## Problem 3\n",
    "Write a function called `has_duplicates` that takes a list and returns `True` if there is any element that appears more than once, `False` otherwise."
   ]
  },
  {
   "cell_type": "code",
   "execution_count": 70,
   "metadata": {
    "ExecuteTime": {
     "end_time": "2021-05-04T02:40:51.597633Z",
     "start_time": "2021-05-04T02:40:51.414923Z"
    },
    "deletable": false,
    "nbgrader": {
     "cell_type": "code",
     "checksum": "b3c90e1bce9e1018d9556c18aef125db",
     "grade": false,
     "grade_id": "cell-ada56c95461c367f",
     "locked": false,
     "schema_version": 3,
     "solution": true,
     "task": false
    }
   },
   "outputs": [],
   "source": [
    "def has_duplicates(a_list):\n",
    "    \"\"\"\n",
    "    has_duplicates takes a list and returns True if there is any element\n",
    "    that appears more than once, False otherwise.\n",
    "    \n",
    "    Parameters\n",
    "    ----------\n",
    "    a_list : list\n",
    "        List of elements that will be checked whether there are duplicates of \n",
    "        themselves within the list\n",
    "        \n",
    "    Returns\n",
    "    -------\n",
    "    output : bool\n",
    "        True if there is any element that appears more than once, \n",
    "        False otherwise.\n",
    "    \"\"\"\n",
    "    count = 0\n",
    "    set_list = list(set(a_list))\n",
    "\n",
    "    for set_i in set_list:\n",
    "        for list_i in a_list:\n",
    "            if list_i == set_i:\n",
    "                count = count + 1\n",
    "    if count > len(set_list):\n",
    "        output = True\n",
    "    else:\n",
    "        output = False\n",
    "    return output"
   ]
  },
  {
   "cell_type": "code",
   "execution_count": 71,
   "metadata": {
    "ExecuteTime": {
     "end_time": "2021-05-04T02:40:52.027140Z",
     "start_time": "2021-05-04T02:40:51.602550Z"
    },
    "deletable": false,
    "editable": false,
    "nbgrader": {
     "cell_type": "code",
     "checksum": "b8dee89bd20ea8e5a2bfa876ced6b494",
     "grade": true,
     "grade_id": "cell-5949ac9777599dbc",
     "locked": true,
     "points": 1,
     "schema_version": 3,
     "solution": false,
     "task": false
    }
   },
   "outputs": [],
   "source": [
    "assert_equal(has_duplicates([1, 2, 3]), False)\n",
    "assert_equal(has_duplicates([1, 2, 2, 3]), True)\n",
    "assert_equal(has_duplicates([1, 2, 3, 2]), True)"
   ]
  },
  {
   "cell_type": "markdown",
   "metadata": {
    "deletable": false,
    "editable": false,
    "nbgrader": {
     "cell_type": "markdown",
     "checksum": "2a0594b6109ae2588b0c95180e747080",
     "grade": false,
     "grade_id": "cell-3e89c2f4e9c63b75",
     "locked": true,
     "schema_version": 3,
     "solution": false,
     "task": false
    }
   },
   "source": [
    "## Problem 4\n",
    "Write a function `count_words` that accepts the filepaths `input_file` and `output_file`, creates a dictionary where the key is a word and the value is the number of occurrences of that word in `input_file` then saves the dictionary into a pickle file `output_file`. A word is defined as a case-insensitive sequence of non-whitespace characters."
   ]
  },
  {
   "cell_type": "code",
   "execution_count": 83,
   "metadata": {
    "ExecuteTime": {
     "end_time": "2021-05-04T02:40:53.024617Z",
     "start_time": "2021-05-04T02:40:52.032049Z"
    },
    "deletable": false,
    "nbgrader": {
     "cell_type": "code",
     "checksum": "391b0f8272e15caa9ddd05a03ef66b0c",
     "grade": false,
     "grade_id": "cell-101ba68cff4103c9",
     "locked": false,
     "schema_version": 3,
     "solution": true,
     "task": false
    }
   },
   "outputs": [],
   "source": [
    "def count_words(input_file, output_file):\n",
    "    \"\"\"\n",
    "    count_words accepts the filepaths input_file and output_file, \n",
    "    creates a dictionary where the key is a word and the value is the number \n",
    "    of occurrences of that word in input_file then saves the dictionary into \n",
    "    a pickle file output_file. A word is defined as a case-insensitive \n",
    "    sequence of non-whitespace characters.\n",
    "    \n",
    "    Parameters\n",
    "    ----------\n",
    "    input_file : str\n",
    "        filepath of file that will be read.\n",
    "        \n",
    "    output_file : str\n",
    "        pickle file where the dictionary containing each word and its \n",
    "        corresponding value counts are its keys and values, respectively, \n",
    "        will be saved\n",
    "\n",
    "    \"\"\"\n",
    "    with open(input_file) as f:\n",
    "        text = f.read()\n",
    "        \n",
    "    new_text= text.replace('\\n', ' ')\n",
    "    spl = new_text.lower().split()\n",
    "    set_spl = list(set(spl))\n",
    "\n",
    "    wc ={}\n",
    "    \n",
    "    for set_i in set_spl:\n",
    "        \n",
    "            count = 0\n",
    "            \n",
    "            for spl_i in spl:\n",
    "\n",
    "                if set_i == spl_i:\n",
    "                    count = count + 1\n",
    "\n",
    "            wc[set_i] = count\n",
    "            \n",
    "    with open(output_file, 'wb') as p:\n",
    "        pickle.dump(wc,p)"
   ]
  },
  {
   "cell_type": "code",
   "execution_count": 84,
   "metadata": {
    "ExecuteTime": {
     "end_time": "2021-05-04T02:40:54.113298Z",
     "start_time": "2021-05-04T02:40:53.034404Z"
    },
    "deletable": false,
    "editable": false,
    "nbgrader": {
     "cell_type": "code",
     "checksum": "c7e71bc63d82fcf1b30771dd36f4d96c",
     "grade": true,
     "grade_id": "cell-6afa75204659d0ba",
     "locked": true,
     "points": 1,
     "schema_version": 3,
     "solution": false,
     "task": false
    }
   },
   "outputs": [],
   "source": [
    "!rm -f word_count.pkl\n",
    "import pickle\n",
    "count_words('/mnt/data/public/gutenberg/README', 'word_count.pkl')\n",
    "with open('word_count.pkl', 'rb') as f:\n",
    "    wc = pickle.load(f)\n",
    "assert_equal(len(wc), 78)\n",
    "assert_equal(wc['this'], 5)\n",
    "assert_equal(wc['1/2/7/1/12714'], 1)"
   ]
  },
  {
   "cell_type": "markdown",
   "metadata": {
    "deletable": false,
    "editable": false,
    "nbgrader": {
     "cell_type": "markdown",
     "checksum": "9c078a05c340eff510f8d68a89de01c3",
     "grade": false,
     "grade_id": "cell-fde65c700db69dca",
     "locked": true,
     "schema_version": 3,
     "solution": false,
     "task": false
    }
   },
   "source": [
    "## Problem 5 [2 pts]\n",
    "Create a class `Person` that has the following methods:\n",
    "* `move` that moves the person's position by the optional parameters `dx` (default: 0) and `dy` (default: 0)\n",
    "* `get_position` that returns the person's current position as a tuple of x and y coordinates\n",
    "* `is_infected` that returns `True` if the person is infected and `False` otherwise\n",
    "* `set_infected` that assigns the person as infected\n",
    "* `get_infected` that accepts another `Person` and becomes infected by that person if that person is infected and their Euclidean distance is less than the second argument `threshold`\n",
    "\n",
    "`Person` can also be optionally initialized by a tuple of x and y coordinates, indicating the person's initial position (default: (0,0)). A `Person` is initially uninfected."
   ]
  },
  {
   "cell_type": "code",
   "execution_count": 16,
   "metadata": {
    "ExecuteTime": {
     "end_time": "2021-05-04T02:40:54.126002Z",
     "start_time": "2021-05-04T02:40:54.119192Z"
    },
    "deletable": false,
    "nbgrader": {
     "cell_type": "code",
     "checksum": "bdcc4351e5fb34aaa4d6eade38a619c7",
     "grade": false,
     "grade_id": "cell-7363386ed5790b38",
     "locked": false,
     "schema_version": 3,
     "solution": true,
     "task": false
    }
   },
   "outputs": [],
   "source": [
    "class Person():\n",
    "    \"\"\"\n",
    "    The Person class contains 5 methods. The move method moves the position of\n",
    "    the person. The get_position method returns the current coordinate \n",
    "    position of the person. The is_infected method returns True if the person\n",
    "    is infected, and False otherwise. The set_infected method assigns the \n",
    "    person as infected. The get_infected method accepts another Person and\n",
    "    becomes infected by that person if that person is infected and their\n",
    "    Euclidean distance is less than the threshold.\n",
    "    \n",
    "    A person can be optionally initialized by a specific x and y coordinates, \n",
    "    otherwise the default position is set at (0,0). Lastly, the person is \n",
    "    initially uninfected\n",
    "    \n",
    "    \"\"\"\n",
    "    \n",
    "    def __init__(self, init_pos=(0,0)):\n",
    "        self.pos = init_pos\n",
    "        self.infected = False\n",
    "        \n",
    "    def move(self, dx=0, dy=0):\n",
    "        self.pos = (self.pos[0]+dx, self.pos[1]+dy)\n",
    "        \n",
    "    def get_position(self):\n",
    "        return self.pos\n",
    "    \n",
    "    def set_infected(self):\n",
    "        self.infected = True\n",
    "    \n",
    "    def is_infected(self):\n",
    "        return self.infected\n",
    "    \n",
    "    def get_infected(self, stranger, threshold):\n",
    "        \n",
    "        euc_dist = (\n",
    "            (stranger.pos[0]-self.pos[0])**2 \\\n",
    "            + (stranger.pos[1]-self.pos[1])**2\n",
    "            )**0.5\n",
    "        if stranger.infected == True and euc_dist < threshold:\n",
    "            self.infected = True"
   ]
  },
  {
   "cell_type": "code",
   "execution_count": 17,
   "metadata": {
    "ExecuteTime": {
     "end_time": "2021-05-04T02:40:54.824830Z",
     "start_time": "2021-05-04T02:40:54.127819Z"
    },
    "deletable": false,
    "editable": false,
    "nbgrader": {
     "cell_type": "code",
     "checksum": "3ca2955a28acdf42dfc82cc4b362d0a8",
     "grade": true,
     "grade_id": "cell-07611009a85e2f77",
     "locked": true,
     "points": 1,
     "schema_version": 3,
     "solution": false,
     "task": false
    }
   },
   "outputs": [],
   "source": [
    "person = Person()\n",
    "assert_equal(person.get_position(), (0, 0))\n",
    "assert_equal(person.is_infected(), False)\n",
    "\n",
    "person.move(-1, 2)\n",
    "assert_equal(person.get_position(), (-1, 2))\n",
    "assert_equal(person.is_infected(), False)\n",
    "\n",
    "person2 = Person((1, 2))\n",
    "assert_equal(person2.get_position(), (1, 2))\n",
    "assert_equal(person.is_infected(), False)\n",
    "\n",
    "person2.move()\n",
    "assert_equal(person2.get_position(), (1, 2))\n",
    "assert_equal(person2.is_infected(), False)"
   ]
  },
  {
   "cell_type": "code",
   "execution_count": 18,
   "metadata": {
    "ExecuteTime": {
     "end_time": "2021-05-04T02:40:55.814669Z",
     "start_time": "2021-05-04T02:40:54.827913Z"
    },
    "deletable": false,
    "editable": false,
    "nbgrader": {
     "cell_type": "code",
     "checksum": "f0056f879e1752e8c5e716f4ef584c12",
     "grade": true,
     "grade_id": "cell-7ee343c5ce1fa2b0",
     "locked": true,
     "points": 1,
     "schema_version": 3,
     "solution": false,
     "task": false
    }
   },
   "outputs": [],
   "source": [
    "person1 = Person()\n",
    "person2 = Person((1, 2))\n",
    "person3 = Person((10, 20))\n",
    "person3.set_infected()\n",
    "person4 = Person((-1, -2))\n",
    "person4.set_infected()\n",
    "\n",
    "assert_equal(person1.is_infected(), False)\n",
    "person1.get_infected(person2, 5)\n",
    "assert_equal(person1.is_infected(), False)\n",
    "person1.get_infected(person3, 5)\n",
    "assert_equal(person1.is_infected(), False)\n",
    "person1.get_infected(person4, 5)\n",
    "assert_equal(person1.is_infected(), True)"
   ]
  },
  {
   "cell_type": "markdown",
   "metadata": {
    "deletable": false,
    "editable": false,
    "nbgrader": {
     "cell_type": "markdown",
     "checksum": "c45f72058b311bfae02f7491862131ee",
     "grade": false,
     "grade_id": "cell-6a540a247ea6be77",
     "locked": true,
     "schema_version": 3,
     "solution": false,
     "task": false
    }
   },
   "source": [
    "## Problem 6\n",
    "Create a class `QuarantinedPerson` that is a `Person` but whose position never changes regardless of the parameters passed to `move`."
   ]
  },
  {
   "cell_type": "code",
   "execution_count": 88,
   "metadata": {
    "ExecuteTime": {
     "end_time": "2021-05-04T02:40:56.237575Z",
     "start_time": "2021-05-04T02:40:55.817838Z"
    },
    "deletable": false,
    "nbgrader": {
     "cell_type": "code",
     "checksum": "284fe4706e4dd8738746fc1a347173c5",
     "grade": false,
     "grade_id": "cell-41ba9afb8e1275e8",
     "locked": false,
     "schema_version": 3,
     "solution": true,
     "task": false
    }
   },
   "outputs": [],
   "source": [
    "class QuarantinedPerson(Person):\n",
    "    \"\"\"\n",
    "    The class QuarantinedPerson is a Person but whose position never changes \n",
    "    regardless of the parameters passed to move\n",
    "    \"\"\"\n",
    "    \n",
    "    def move(self, dx=0, dy=0):\n",
    "        self.pos = self.pos"
   ]
  },
  {
   "cell_type": "code",
   "execution_count": 89,
   "metadata": {
    "ExecuteTime": {
     "end_time": "2021-05-04T02:40:56.252165Z",
     "start_time": "2021-05-04T02:40:56.240692Z"
    },
    "deletable": false,
    "editable": false,
    "nbgrader": {
     "cell_type": "code",
     "checksum": "6b43145f092932e070832b5dc93c97d2",
     "grade": true,
     "grade_id": "cell-9a14040ff1676251",
     "locked": true,
     "points": 1,
     "schema_version": 3,
     "solution": false,
     "task": false
    }
   },
   "outputs": [],
   "source": [
    "person1 = Person()\n",
    "person2 = QuarantinedPerson((10, 0))\n",
    "person2.set_infected()\n",
    "\n",
    "assert_equal(person1.is_infected(), False)\n",
    "person1.get_infected(person2, 5)\n",
    "assert_equal(person1.is_infected(), False)\n",
    "person2.move(-10)\n",
    "person1.get_infected(person2, 5)\n",
    "assert_equal(person1.is_infected(), False)"
   ]
  },
  {
   "cell_type": "markdown",
   "metadata": {
    "deletable": false,
    "editable": false,
    "nbgrader": {
     "cell_type": "markdown",
     "checksum": "f0b4306e54ba33addfbdb5798e3be53f",
     "grade": false,
     "grade_id": "cell-12e969e33d33c09a",
     "locked": true,
     "schema_version": 3,
     "solution": false,
     "task": false
    }
   },
   "source": [
    "## Problem 7\n",
    "Create a function `file_lines` that accepts an unlimited number of arguments having filepaths as values and returns a dictionary with the argument name as the key and the number of lines in the filepath as the value. It shouldn't include the argument if the filepath doesn't exist."
   ]
  },
  {
   "cell_type": "code",
   "execution_count": 66,
   "metadata": {
    "ExecuteTime": {
     "end_time": "2021-05-04T02:40:56.394811Z",
     "start_time": "2021-05-04T02:40:56.254086Z"
    },
    "deletable": false,
    "nbgrader": {
     "cell_type": "code",
     "checksum": "28ac418f99bf58d6cc98a35017e83f22",
     "grade": false,
     "grade_id": "cell-ef56a0ba3486faa3",
     "locked": false,
     "schema_version": 3,
     "solution": true,
     "task": false
    }
   },
   "outputs": [],
   "source": [
    "def file_lines(**kwargs):\n",
    "    \"\"\"\n",
    "    file_lines accepts an unlimited number of arguments having filepaths \n",
    "    as values and returns a dictionary with the argument name as the key and \n",
    "    the number of lines in the filepath as the value. It shouldn't include the\n",
    "    argument if the filepath doesn't exist.\n",
    "    \n",
    "    Parameters\n",
    "    ----------\n",
    "    **kwargs : var = str\n",
    "        var: where the filepath is assigned\n",
    "        str: filepath of file that is to be read\n",
    "        \n",
    "    Returns\n",
    "    -------\n",
    "    d : dict\n",
    "        Dictionary where the variable name is the key while the number of \n",
    "        lines is the values.\n",
    "    \"\"\"\n",
    "    d = {}\n",
    "    \n",
    "    for key in kwargs:\n",
    "        \n",
    "        fp = kwargs[key]\n",
    "        try:\n",
    "            with open(fp) as f:\n",
    "                text = f.read()\n",
    "                count_lines = text.count('\\n')\n",
    "                \n",
    "    \n",
    "            d[key] = count_lines\n",
    "        except:\n",
    "            continue\n",
    "    \n",
    "    return d\n",
    "\n"
   ]
  },
  {
   "cell_type": "code",
   "execution_count": 67,
   "metadata": {
    "ExecuteTime": {
     "end_time": "2021-05-04T02:40:57.084069Z",
     "start_time": "2021-05-04T02:40:56.397670Z"
    },
    "deletable": false,
    "editable": false,
    "nbgrader": {
     "cell_type": "code",
     "checksum": "be641428c4de63643fc0be0894acc02a",
     "grade": true,
     "grade_id": "cell-34a26cef488d47b6",
     "locked": true,
     "points": 1,
     "schema_version": 3,
     "solution": false,
     "task": false
    }
   },
   "outputs": [],
   "source": [
    "assert_equal(\n",
    "    file_lines(g1996='/mnt/data/public/gutenberg/GUTINDEX.1996',\n",
    "               g2020='/mnt/data/public/gutenberg/GUTINDEX.2020',\n",
    "               gall='/mnt/data/public/gutenberg/GUTINDEX.ALL'),\n",
    "    {'g1996': 1864, 'gall': 167706})"
   ]
  },
  {
   "cell_type": "markdown",
   "metadata": {
    "deletable": false,
    "editable": false,
    "nbgrader": {
     "cell_type": "markdown",
     "checksum": "12b888462f1ba579638a25c54949c65e",
     "grade": false,
     "grade_id": "cell-5ad739476af6c023",
     "locked": true,
     "schema_version": 3,
     "solution": false,
     "task": false
    }
   },
   "source": [
    "## Problem 8\n",
    "Create a function `ten_div` that accepts a numerator and a denominator, and returns their quotient. The numerator can only be from 0 to 10, otherwise, it should raise a `TenDivError` which is a `ValueError`. It should return a `TenDivError` with message equal to `Error encountered: ` follow by the exception string if it encounters other exceptions."
   ]
  },
  {
   "cell_type": "code",
   "execution_count": 108,
   "metadata": {
    "ExecuteTime": {
     "end_time": "2021-05-04T02:40:57.090838Z",
     "start_time": "2021-05-04T02:40:57.086274Z"
    },
    "deletable": false,
    "nbgrader": {
     "cell_type": "code",
     "checksum": "0ea9f666f2f6dad1bf39789fde0409ae",
     "grade": false,
     "grade_id": "cell-804bdb56a0e766d8",
     "locked": false,
     "schema_version": 3,
     "solution": true,
     "task": false
    }
   },
   "outputs": [],
   "source": [
    "class TenDivError(Exception):\n",
    "    pass\n",
    "def ten_div(num, denom):\n",
    "    if not 0 <= num <= 10:\n",
    "        message = \"Error encountered: ValueError\"\n",
    "        raise TenDivError(message)\n",
    "    elif denom == 0:\n",
    "        message = 'Error encountered: division by zero'\n",
    "        raise TenDivError(message)\n",
    "    else:\n",
    "        return num / denom"
   ]
  },
  {
   "cell_type": "code",
   "execution_count": 109,
   "metadata": {
    "ExecuteTime": {
     "end_time": "2021-05-04T02:40:57.398022Z",
     "start_time": "2021-05-04T02:40:57.093887Z"
    },
    "deletable": false,
    "editable": false,
    "nbgrader": {
     "cell_type": "code",
     "checksum": "c7430e910141e2f1ff711fdbcf6a9cf7",
     "grade": true,
     "grade_id": "cell-503e96dc6ad1a424",
     "locked": true,
     "points": 1,
     "schema_version": 3,
     "solution": false,
     "task": false
    }
   },
   "outputs": [],
   "source": [
    "assert_almost_equal(ten_div(10, 2), 5.0)\n",
    "assert_raises(TenDivError, ten_div, -2, 10)\n",
    "assert_raises(TenDivError, ten_div, 11, 5)\n",
    "assert_raises_regex(TenDivError, 'Error encountered: division by zero',\n",
    "                    ten_div, 5, 0)"
   ]
  },
  {
   "cell_type": "markdown",
   "metadata": {
    "deletable": false,
    "editable": false,
    "nbgrader": {
     "cell_type": "markdown",
     "checksum": "ceff744078fe1a184c11f36fba0552a6",
     "grade": false,
     "grade_id": "cell-db4a26e77137676b",
     "locked": true,
     "schema_version": 3,
     "solution": false,
     "task": false
    }
   },
   "source": [
    "## Problem 9\n",
    "Create a function `most_frequent` in a module `wordfreq` that accepts a filepath and returns the list of the nine most frequent words in the file sorted by decreasing frequency then by increasing alphabetical order. A word is case insensitive and defined as a sequence of non-whitespace characters."
   ]
  },
  {
   "cell_type": "code",
   "execution_count": 4,
   "metadata": {
    "ExecuteTime": {
     "end_time": "2021-05-04T02:41:30.714991Z",
     "start_time": "2021-05-04T02:41:30.708657Z"
    },
    "deletable": false,
    "editable": false,
    "nbgrader": {
     "cell_type": "code",
     "checksum": "e66ea74bfc7900b7dde79c47ce30ba06",
     "grade": true,
     "grade_id": "cell-ce4a1efe5626138d",
     "locked": true,
     "points": 1,
     "schema_version": 3,
     "solution": false,
     "task": false
    }
   },
   "outputs": [],
   "source": [
    "import wordfreq\n",
    "assert_equal(\n",
    "    wordfreq.most_frequent('/mnt/data/public/gutenberg/README'),\n",
    "    ['for', 'this', 'to', 'a', 'ebook', 'you', 'in', 'is', 'the']\n",
    ")"
   ]
  }
 ],
 "metadata": {
  "kernelspec": {
   "display_name": "Python 3",
   "language": "python",
   "name": "python3"
  },
  "language_info": {
   "codemirror_mode": {
    "name": "ipython",
    "version": 3
   },
   "file_extension": ".py",
   "mimetype": "text/x-python",
   "name": "python",
   "nbconvert_exporter": "python",
   "pygments_lexer": "ipython3",
   "version": "3.8.8"
  }
 },
 "nbformat": 4,
 "nbformat_minor": 2
}
