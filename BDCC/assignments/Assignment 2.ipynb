{
 "cells": [
  {
   "cell_type": "code",
   "execution_count": 1,
   "metadata": {
    "ExecuteTime": {
     "end_time": "2022-02-26T16:51:29.657273Z",
     "start_time": "2022-02-26T16:51:26.959627Z"
    },
    "deletable": false,
    "editable": false,
    "nbgrader": {
     "cell_type": "code",
     "checksum": "a926844220c1dd4d449bbf5db7dddc0d",
     "grade": false,
     "grade_id": "cell-b6b2803ac3db9351",
     "locked": true,
     "schema_version": 3,
     "solution": false,
     "task": false
    }
   },
   "outputs": [
    {
     "name": "stderr",
     "output_type": "stream",
     "text": [
      "Matplotlib created a temporary config/cache directory at /tmp/matplotlib-cd95092p because the default path (/home/jgacal/.cache/matplotlib) is not a writable directory; it is highly recommended to set the MPLCONFIGDIR environment variable to a writable directory, in particular to speed up the import of Matplotlib and to better support multiprocessing.\n"
     ]
    }
   ],
   "source": [
    "from pyspark import SparkContext\n",
    "from pyspark.sql import SparkSession\n",
    "import matplotlib.pyplot as plt\n",
    "%matplotlib inline"
   ]
  },
  {
   "cell_type": "code",
   "execution_count": 2,
   "metadata": {
    "ExecuteTime": {
     "end_time": "2022-02-26T16:51:29.935968Z",
     "start_time": "2022-02-26T16:51:29.659946Z"
    }
   },
   "outputs": [],
   "source": [
    "import re\n",
    "import numpy as np\n",
    "import pandas as pd"
   ]
  },
  {
   "cell_type": "code",
   "execution_count": 3,
   "metadata": {
    "ExecuteTime": {
     "end_time": "2022-02-26T16:51:33.596051Z",
     "start_time": "2022-02-26T16:51:29.938013Z"
    },
    "deletable": false,
    "editable": false,
    "nbgrader": {
     "cell_type": "code",
     "checksum": "68aabbac17cb68132462075ef84e2439",
     "grade": false,
     "grade_id": "cell-45699a9d6355b4d3",
     "locked": true,
     "schema_version": 3,
     "solution": false,
     "task": false
    }
   },
   "outputs": [
    {
     "name": "stderr",
     "output_type": "stream",
     "text": [
      "WARNING: An illegal reflective access operation has occurred\n",
      "WARNING: Illegal reflective access by org.apache.spark.unsafe.Platform (file:/usr/local/spark-3.1.2-bin-hadoop3.2/jars/spark-unsafe_2.12-3.1.2.jar) to constructor java.nio.DirectByteBuffer(long,int)\n",
      "WARNING: Please consider reporting this to the maintainers of org.apache.spark.unsafe.Platform\n",
      "WARNING: Use --illegal-access=warn to enable warnings of further illegal reflective access operations\n",
      "WARNING: All illegal access operations will be denied in a future release\n",
      "22/02/27 00:51:31 WARN NativeCodeLoader: Unable to load native-hadoop library for your platform... using builtin-java classes where applicable\n",
      "Using Spark's default log4j profile: org/apache/spark/log4j-defaults.properties\n",
      "Setting default log level to \"WARN\".\n",
      "To adjust logging level use sc.setLogLevel(newLevel). For SparkR, use setLogLevel(newLevel).\n",
      "22/02/27 00:51:32 WARN Utils: Service 'SparkUI' could not bind on port 4040. Attempting port 4041.\n"
     ]
    }
   ],
   "source": [
    "sc = SparkContext('local[*]')\n",
    "spark = SparkSession(sc)"
   ]
  },
  {
   "cell_type": "markdown",
   "metadata": {
    "deletable": false,
    "editable": false,
    "nbgrader": {
     "cell_type": "markdown",
     "checksum": "a7d7df9f5210965587b8ad032cb87c22",
     "grade": false,
     "grade_id": "cell-a27062c9edb41584",
     "locked": true,
     "schema_version": 3,
     "solution": false,
     "task": false
    }
   },
   "source": [
    "**General instructions and tips:**\n",
    "* Work with smaller subsets of data before processing the entire dataset.\n",
    "* Make sure to execute the read-only cell right after the answer cell.\n",
    "* Do **not** print or display large amount of results. You will get deductions if you make the browser unresponsive.\n",
    "* Activate the `ExecuteTime` Jupyter extension so that the runtime is shown.\n",
    "* Keep all output."
   ]
  },
  {
   "cell_type": "markdown",
   "metadata": {
    "deletable": false,
    "editable": false,
    "nbgrader": {
     "cell_type": "markdown",
     "checksum": "ab9efb88602b7c760bc846159400b906",
     "grade": false,
     "grade_id": "cell-3184ce751bf83285",
     "locked": true,
     "schema_version": 3,
     "solution": false,
     "task": false
    }
   },
   "source": [
    "# Problem 1 [4 pts]"
   ]
  },
  {
   "cell_type": "markdown",
   "metadata": {
    "deletable": false,
    "editable": false,
    "nbgrader": {
     "cell_type": "markdown",
     "checksum": "a1c95425de9c26e1001aa4c4dd5c8957",
     "grade": false,
     "grade_id": "cell-f7c8ae6833c29fe4",
     "locked": true,
     "schema_version": 3,
     "solution": false,
     "task": false
    }
   },
   "source": [
    "Create a function `mean_daily_views` that returns a Spark RDD of key-value pairs. The key corresponds to the day of the month and the value corresponds to the mean page views per day of the month for the English Wikipedia (`en.z`) article `Big_Data` (exact match). Use data from the Wikipedia page views dataset at `/mnt/localdata/public/wikipedia/pageviews` created in the first 8 months of 2020. You will need the files whose filenames end with `views-ge-5.bz2`. The data format of each file is described in the first few lines of each file.\n",
    "The encoding of the bzipped text files is `latin-1`. \n",
    "\n",
    "The output of the cell after the answer cell should be the same as below. Your solution should be a single Spark RDD method call chain. Runtime of the final code is less than 1h 15m.\n",
    "\n",
    "<img src=\"pageviews.png\" style=\"width: 16em\" />"
   ]
  },
  {
   "cell_type": "code",
   "execution_count": 4,
   "metadata": {
    "ExecuteTime": {
     "end_time": "2022-02-26T16:51:33.643395Z",
     "start_time": "2022-02-26T16:51:33.599460Z"
    }
   },
   "outputs": [
    {
     "data": {
      "text/plain": [
       "['/mnt/localdata/public/wikipedia/pageviews/pagecounts-2020-08-views-ge-5.bz2',\n",
       " '/mnt/localdata/public/wikipedia/pageviews/pagecounts-2020-06-views-ge-5.bz2',\n",
       " '/mnt/localdata/public/wikipedia/pageviews/pagecounts-2020-07-views-ge-5.bz2',\n",
       " '/mnt/localdata/public/wikipedia/pageviews/pagecounts-2020-03-views-ge-5.bz2',\n",
       " '/mnt/localdata/public/wikipedia/pageviews/pagecounts-2020-04-views-ge-5.bz2',\n",
       " '/mnt/localdata/public/wikipedia/pageviews/pagecounts-2020-05-views-ge-5.bz2',\n",
       " '/mnt/localdata/public/wikipedia/pageviews/pagecounts-2020-02-views-ge-5.bz2',\n",
       " '/mnt/localdata/public/wikipedia/pageviews/pagecounts-2020-01-views-ge-5.bz2']"
      ]
     },
     "execution_count": 4,
     "metadata": {},
     "output_type": "execute_result"
    }
   ],
   "source": [
    "import glob\n",
    "\n",
    "gstring = glob.glob('/mnt/localdata/public/wikipedia/pageviews/pagecounts-2020-**-views-ge-5.bz2')\n",
    "gstring"
   ]
  },
  {
   "cell_type": "code",
   "execution_count": 5,
   "metadata": {
    "ExecuteTime": {
     "end_time": "2022-02-26T16:51:35.739390Z",
     "start_time": "2022-02-26T16:51:33.647275Z"
    }
   },
   "outputs": [
    {
     "name": "stderr",
     "output_type": "stream",
     "text": [
      "                                                                                \r"
     ]
    },
    {
     "data": {
      "text/plain": [
       "['# Wikimedia page request counts for year 2020 month 07']"
      ]
     },
     "execution_count": 5,
     "metadata": {},
     "output_type": "execute_result"
    }
   ],
   "source": [
    "sc.textFile(gstring[0]).take(1)"
   ]
  },
  {
   "cell_type": "code",
   "execution_count": 6,
   "metadata": {
    "ExecuteTime": {
     "end_time": "2022-02-26T16:51:37.507384Z",
     "start_time": "2022-02-26T16:51:35.741980Z"
    }
   },
   "outputs": [
    {
     "name": "stdout",
     "output_type": "stream",
     "text": [
      "0 ['# Wikimedia page request counts for year 2020 month 07']\n",
      "1 ['# Wikimedia page request counts for year 2020 month 05']\n",
      "2 ['# Wikimedia page request counts for year 2020 month 06']\n",
      "3 ['# Wikimedia page request counts for year 2020 month 02']\n",
      "4 ['# Wikimedia page request counts for year 2020 month 03']\n",
      "5 ['# Wikimedia page request counts for year 2020 month 04']\n",
      "6 ['# Wikimedia page request counts for year 2020 month 01']\n",
      "7 ['# Wikimedia page request counts for year 2019 month 12']\n"
     ]
    },
    {
     "data": {
      "text/plain": [
       "[(0, ['# Wikimedia page request counts for year 2020 month 07']),\n",
       " (1, ['# Wikimedia page request counts for year 2020 month 05']),\n",
       " (2, ['# Wikimedia page request counts for year 2020 month 06']),\n",
       " (3, ['# Wikimedia page request counts for year 2020 month 02']),\n",
       " (4, ['# Wikimedia page request counts for year 2020 month 03']),\n",
       " (5, ['# Wikimedia page request counts for year 2020 month 04']),\n",
       " (6, ['# Wikimedia page request counts for year 2020 month 01'])]"
      ]
     },
     "execution_count": 6,
     "metadata": {},
     "output_type": "execute_result"
    }
   ],
   "source": [
    "li = []\n",
    "for i, g in enumerate(gstring):\n",
    "    out = sc.textFile(g).take(1)\n",
    "    print(i, out)\n",
    "    \n",
    "    if re.search(r'.2020 month 0[1-8]', out[0]):\n",
    "        li.append((i, out))\n",
    "    \n",
    "li"
   ]
  },
  {
   "cell_type": "code",
   "execution_count": 7,
   "metadata": {
    "ExecuteTime": {
     "end_time": "2022-02-26T16:51:37.515781Z",
     "start_time": "2022-02-26T16:51:37.509813Z"
    }
   },
   "outputs": [
    {
     "data": {
      "text/plain": [
       "['/mnt/localdata/public/wikipedia/pageviews/pagecounts-2020-08-views-ge-5.bz2',\n",
       " '/mnt/localdata/public/wikipedia/pageviews/pagecounts-2020-06-views-ge-5.bz2',\n",
       " '/mnt/localdata/public/wikipedia/pageviews/pagecounts-2020-07-views-ge-5.bz2',\n",
       " '/mnt/localdata/public/wikipedia/pageviews/pagecounts-2020-03-views-ge-5.bz2',\n",
       " '/mnt/localdata/public/wikipedia/pageviews/pagecounts-2020-04-views-ge-5.bz2',\n",
       " '/mnt/localdata/public/wikipedia/pageviews/pagecounts-2020-05-views-ge-5.bz2',\n",
       " '/mnt/localdata/public/wikipedia/pageviews/pagecounts-2020-02-views-ge-5.bz2']"
      ]
     },
     "execution_count": 7,
     "metadata": {},
     "output_type": "execute_result"
    }
   ],
   "source": [
    "scope_files = [gstring[x] for x in [y[0] for y in li]]\n",
    "scope_files"
   ]
  },
  {
   "cell_type": "code",
   "execution_count": 8,
   "metadata": {
    "ExecuteTime": {
     "end_time": "2022-02-26T16:51:37.522263Z",
     "start_time": "2022-02-26T16:51:37.517446Z"
    }
   },
   "outputs": [
    {
     "data": {
      "text/plain": [
       "'/mnt/localdata/public/wikipedia/pageviews/pagecounts-2020-03-views-ge-5.bz2'"
      ]
     },
     "execution_count": 8,
     "metadata": {},
     "output_type": "execute_result"
    }
   ],
   "source": [
    "scope_files[3]"
   ]
  },
  {
   "cell_type": "code",
   "execution_count": 9,
   "metadata": {
    "ExecuteTime": {
     "end_time": "2022-02-26T16:51:37.673158Z",
     "start_time": "2022-02-26T16:51:37.524263Z"
    }
   },
   "outputs": [
    {
     "data": {
      "text/plain": [
       "['# Wikimedia page request counts for year 2020 month 02']"
      ]
     },
     "execution_count": 9,
     "metadata": {},
     "output_type": "execute_result"
    }
   ],
   "source": [
    "sc.textFile(scope_files[3]).take(1)"
   ]
  },
  {
   "cell_type": "code",
   "execution_count": 10,
   "metadata": {
    "ExecuteTime": {
     "end_time": "2022-02-26T16:59:41.794691Z",
     "start_time": "2022-02-26T16:51:37.675333Z"
    }
   },
   "outputs": [
    {
     "name": "stderr",
     "output_type": "stream",
     "text": [
      "                                                                                \r"
     ]
    },
    {
     "data": {
      "text/plain": [
       "['en.z Big_Data 959 AC1E1F1H1I1J2L2M1O1P1Q3T2X3,BA5B1C4D2F1G1H1J3K2L2M1N1O1P2Q2S3T2,CA1D1F2G1H1J3L1M3N1O1Q2R1T2V2W1X1,DB1C1E1F1K1O4P1Q2R1S2U4V1W4X2,EA1B2D1E1F1G1H3I1L2M4N1Q3R2U1V2X2,FA1B2D2E13F12G1K1L2O1R1S2T1U2,GB1C1D1E1F3G1H3J1L1N1P1Q2V2X1,HD1F2H5I1K2L2Q4R7S3U3V2W2,IA2C1D5E1F1H2I1J2L1M1N1O1P2Q5R4S1T7U19V3W3X4,JF1I1L1M2O4Q2S3U5V13W3X5,KA1C3E1G1H3I1K1L1O3P1Q4R1S3T1U1V1W1,LA1D2E1F2G2H1I3J3L2N4O3Q1R2S1T1U3V1W1,MA1B1C1D1E3F1I2K1N2O3Q2S2V1W7X119,NE1F1G1I2L1O1R1S2T1W2X2,OC1H1J1N3P1R2U2V1,PA3B1D1F3H1J1K1M1N2O2Q2R1S2T2U1W1,QC1D3E1F1G1J1K1L1M1O1Q1R1T1U1V2W3X1,RC1D1G2H1I1K2M2O4P1Q2R2S3T3U1V2X1,SB2C1D2F1G3H3L1M2N1O4P1Q1R2S2U2V1W2,TA1E2F1J2K2L1O2P3S1T1U2,UA1B1I1K1L1M2N1Q3U2V3W1X1,VB1D1E2F1H2K2L1M1O1Q1R1W2,WB1D1E2J1K1L1N1O1P1R3U1V4W2,XC2E1F1I3J1K1L1O1S1T1V1X1,YB2C3E1G2I10J1K1M3P1Q1R3T2U2V4X1,ZB1F2G1K2O5P7R2S1U2V1X2,[B1C1E2H1I2J2N1O1P1Q2R1S2T5U2V2,\\\\A1C2D2E1F2J1K1L1M1Q3S2T1U1V1X1,]C2E1G3H1J2K2L1O2R1S2U1X3,^A3B3D3E1F1H1I1K2L1M2N2P3Q3R1S1U3V2W1,_A1C2D4E2H1I2J1K1M3O1P3Q1R1S3U1W3,']"
      ]
     },
     "execution_count": 10,
     "metadata": {},
     "output_type": "execute_result"
    }
   ],
   "source": [
    "(sc.textFile(scope_files[3])\n",
    " .map(lambda x: x if re.search(r'^en.z Big_Data\\b', x) else '')\n",
    " .filter(lambda x: x != '')\n",
    " .take(34))"
   ]
  },
  {
   "cell_type": "code",
   "execution_count": 11,
   "metadata": {
    "ExecuteTime": {
     "end_time": "2022-02-26T17:05:41.740009Z",
     "start_time": "2022-02-26T16:59:41.798170Z"
    }
   },
   "outputs": [
    {
     "name": "stderr",
     "output_type": "stream",
     "text": [
      "                                                                                \r"
     ]
    },
    {
     "data": {
      "text/plain": [
       "76122552"
      ]
     },
     "execution_count": 11,
     "metadata": {},
     "output_type": "execute_result"
    }
   ],
   "source": [
    "sc.textFile(scope_files[3]).count()"
   ]
  },
  {
   "cell_type": "code",
   "execution_count": 12,
   "metadata": {
    "ExecuteTime": {
     "end_time": "2022-02-26T17:05:41.746415Z",
     "start_time": "2022-02-26T17:05:41.743193Z"
    }
   },
   "outputs": [],
   "source": [
    "# (\n",
    "#     sc.wholeTextFiles(gstring)\n",
    "#     .mapValues(lambda x: x if re.search(r'^.+ 2020 month 0[1-8]') else '')\n",
    "#     .mapValues(lambda x: x)\n",
    "# )"
   ]
  },
  {
   "cell_type": "code",
   "execution_count": null,
   "metadata": {
    "ExecuteTime": {
     "start_time": "2022-02-26T06:55:29.258Z"
    }
   },
   "outputs": [],
   "source": []
  },
  {
   "cell_type": "code",
   "execution_count": 13,
   "metadata": {
    "ExecuteTime": {
     "end_time": "2022-02-26T17:05:42.704155Z",
     "start_time": "2022-02-26T17:05:41.748695Z"
    },
    "deletable": false,
    "nbgrader": {
     "cell_type": "code",
     "checksum": "bc0c4c3bbfe6ad9aa13df57f1498ae7a",
     "grade": true,
     "grade_id": "cell-dc2bd87dec3ad1db",
     "locked": false,
     "points": 4,
     "schema_version": 3,
     "solution": true,
     "task": false
    }
   },
   "outputs": [],
   "source": [
    "import re\n",
    "def mean_daily_views():\n",
    "    return (sc.textFile('/mnt/localdata/public/wikipedia/pageviews/'\n",
    "                        'pagecounts-2020-0?-views-ge-5.bz2').\n",
    "            filter(lambda x: x.startswith('en.z Big_Data ')).\n",
    "            map(lambda x: x.split()[3:][0]).\n",
    "            flatMap(lambda x: x.split(',')[:-1]).\n",
    "            map(lambda x: (ord(x[0])-64, x[1:])).\n",
    "            mapValues(lambda x: sum(map(int, re.findall('\\d+', x)))).\n",
    "            mapValues(lambda x: (x,1)).\n",
    "            reduceByKey(lambda x, y: (x[0] + y[0], x[1] + y[1])).\n",
    "            mapValues(lambda x: x[0] / x[1]))"
   ]
  },
  {
   "cell_type": "code",
   "execution_count": 14,
   "metadata": {
    "ExecuteTime": {
     "end_time": "2022-02-26T17:55:41.995132Z",
     "start_time": "2022-02-26T17:05:42.710564Z"
    },
    "deletable": false,
    "editable": false,
    "nbgrader": {
     "cell_type": "code",
     "checksum": "fa58fd81821e128599050c7ba515e8e4",
     "grade": false,
     "grade_id": "cell-97ed83625ab3bb55",
     "locked": true,
     "schema_version": 3,
     "solution": false,
     "task": false
    }
   },
   "outputs": [
    {
     "name": "stderr",
     "output_type": "stream",
     "text": [
      "                                                                                \r"
     ]
    },
    {
     "data": {
      "text/plain": [
       "[(1, 21.5),\n",
       " (2, 26.625),\n",
       " (3, 25.0),\n",
       " (4, 20.875),\n",
       " (5, 79.25),\n",
       " (6, 92.25),\n",
       " (7, 29.375),\n",
       " (8, 22.875),\n",
       " (9, 27.125),\n",
       " (10, 22.375),\n",
       " (11, 23.875),\n",
       " (12, 23.25),\n",
       " (13, 37.375),\n",
       " (14, 21.375),\n",
       " (15, 23.125),\n",
       " (16, 23.25),\n",
       " (17, 24.0),\n",
       " (18, 22.0),\n",
       " (19, 22.625),\n",
       " (20, 22.625),\n",
       " (21, 24.0),\n",
       " (22, 23.5),\n",
       " (23, 22.0),\n",
       " (24, 21.125),\n",
       " (25, 28.5),\n",
       " (26, 22.625),\n",
       " (27, 26.75),\n",
       " (28, 27.5),\n",
       " (29, 28.125),\n",
       " (30, 24.285714285714285),\n",
       " (31, 32.6)]"
      ]
     },
     "execution_count": 14,
     "metadata": {},
     "output_type": "execute_result"
    }
   ],
   "source": [
    "sorted(mean_daily_views().collect())"
   ]
  },
  {
   "cell_type": "markdown",
   "metadata": {},
   "source": [
    "# Problem 2 [3 pts]"
   ]
  },
  {
   "cell_type": "markdown",
   "metadata": {
    "deletable": false,
    "editable": false,
    "nbgrader": {
     "cell_type": "markdown",
     "checksum": "8fee1bbea33f0d7c78fe1e5e9547e885",
     "grade": false,
     "grade_id": "cell-ef761a4f5c75788f",
     "locked": true,
     "schema_version": 3,
     "solution": false,
     "task": false
    }
   },
   "source": [
    "Create a function `cvr` that returns a Spark dataframe with columns `ngram` corresponding to a 1-gram and `count_volume_ratio` corresponding to the ratio of the count and volume. Consider only [Google Books](http://storage.googleapis.com/books/ngrams/books/datasetsv2.html) English 1-grams, found at `/mnt/localdata/public/ngrams`, that starts with a letter and appeared in the year 2000. Sort by decreasing `count_volume_ratio` and return only the top 10. The output of the cell after the answer cell should be the same as below. Your solution should be a single Spark DataFrame method call chain. Runtime of the final code is less than 25 minutes.\n",
    "\n",
    "<img src=\"cvr.png\" style=\"width: 15em\" />"
   ]
  },
  {
   "cell_type": "code",
   "execution_count": 15,
   "metadata": {
    "ExecuteTime": {
     "end_time": "2022-02-26T17:55:42.039262Z",
     "start_time": "2022-02-26T17:55:41.998213Z"
    }
   },
   "outputs": [],
   "source": [
    "from pyspark.sql import functions as F\n",
    "from pyspark.sql.functions import desc\n",
    "from pyspark.sql.types import DecimalType"
   ]
  },
  {
   "cell_type": "code",
   "execution_count": 17,
   "metadata": {
    "ExecuteTime": {
     "end_time": "2022-02-27T03:32:07.453071Z",
     "start_time": "2022-02-27T03:32:07.446330Z"
    }
   },
   "outputs": [],
   "source": [
    "# (spark.read.csv('/mnt/localdata/public/ngrams/'\n",
    "#                 'googlebooks-eng-all-1gram-20120701-[a-z]', sep='\\t')\n",
    "#  .filter()\n",
    "#  .show()\n",
    "# )"
   ]
  },
  {
   "cell_type": "code",
   "execution_count": null,
   "metadata": {},
   "outputs": [],
   "source": []
  },
  {
   "cell_type": "code",
   "execution_count": null,
   "metadata": {},
   "outputs": [],
   "source": []
  },
  {
   "cell_type": "code",
   "execution_count": 18,
   "metadata": {
    "ExecuteTime": {
     "end_time": "2022-02-27T03:32:09.178596Z",
     "start_time": "2022-02-27T03:32:09.168386Z"
    },
    "deletable": false,
    "nbgrader": {
     "cell_type": "code",
     "checksum": "9b982ff4129144c234b97fd41442804b",
     "grade": true,
     "grade_id": "cell-dc7b4d5899a5ff20",
     "locked": false,
     "points": 3,
     "schema_version": 3,
     "solution": true,
     "task": false
    }
   },
   "outputs": [],
   "source": [
    "def cvr():\n",
    "    return (spark.read.csv('/mnt/localdata/public/ngrams/'\n",
    "                           'googlebooks-eng-all-1gram-20120701-[a-z]',\n",
    "                           sep='\\t')\n",
    "            .filter(F.col('_c1') == '2000')\n",
    "            .withColumn('ngram', F.col('_c0').cast('string'))\n",
    "            .withColumn('_c2', F.col('_c2').cast(DecimalType(38,6)))\n",
    "            .withColumn('_c3', F.col('_c3').cast(DecimalType(38,6)))\n",
    "            .groupby('ngram').sum()\n",
    "            .withColumn('count_volume_ratio',\n",
    "                        (F.col(\"sum(_c2)\") / F.col(\"sum(_c3)\")))\n",
    "            .orderBy(desc('count_volume_ratio'))\n",
    "            .drop('sum(_c2)','sum(_c3)')\n",
    "            .limit(10)\n",
    "           )\n"
   ]
  },
  {
   "cell_type": "code",
   "execution_count": 19,
   "metadata": {
    "ExecuteTime": {
     "end_time": "2022-02-27T03:43:21.502580Z",
     "start_time": "2022-02-27T03:32:10.873497Z"
    },
    "deletable": false,
    "editable": false,
    "nbgrader": {
     "cell_type": "code",
     "checksum": "b2666b7a34aa887670393baa99856dae",
     "grade": false,
     "grade_id": "cell-c4168458e1211c85",
     "locked": true,
     "schema_version": 3,
     "solution": false,
     "task": false
    }
   },
   "outputs": [
    {
     "name": "stderr",
     "output_type": "stream",
     "text": [
      "                                                                                \r"
     ]
    },
    {
     "data": {
      "text/html": [
       "<div>\n",
       "<style scoped>\n",
       "    .dataframe tbody tr th:only-of-type {\n",
       "        vertical-align: middle;\n",
       "    }\n",
       "\n",
       "    .dataframe tbody tr th {\n",
       "        vertical-align: top;\n",
       "    }\n",
       "\n",
       "    .dataframe thead th {\n",
       "        text-align: right;\n",
       "    }\n",
       "</style>\n",
       "<table border=\"1\" class=\"dataframe\">\n",
       "  <thead>\n",
       "    <tr style=\"text-align: right;\">\n",
       "      <th></th>\n",
       "      <th>ngram</th>\n",
       "      <th>count_volume_ratio</th>\n",
       "    </tr>\n",
       "  </thead>\n",
       "  <tbody>\n",
       "    <tr>\n",
       "      <th>0</th>\n",
       "      <td>việc</td>\n",
       "      <td>6089.000000</td>\n",
       "    </tr>\n",
       "    <tr>\n",
       "      <th>1</th>\n",
       "      <td>the</td>\n",
       "      <td>5020.630577</td>\n",
       "    </tr>\n",
       "    <tr>\n",
       "      <th>2</th>\n",
       "      <td>the_DET</td>\n",
       "      <td>5018.625248</td>\n",
       "    </tr>\n",
       "    <tr>\n",
       "      <th>3</th>\n",
       "      <td>oCk</td>\n",
       "      <td>3487.000000</td>\n",
       "    </tr>\n",
       "    <tr>\n",
       "      <th>4</th>\n",
       "      <td>không</td>\n",
       "      <td>3387.000000</td>\n",
       "    </tr>\n",
       "    <tr>\n",
       "      <th>5</th>\n",
       "      <td>of</td>\n",
       "      <td>3158.661189</td>\n",
       "    </tr>\n",
       "    <tr>\n",
       "      <th>6</th>\n",
       "      <td>of_ADP</td>\n",
       "      <td>3155.379170</td>\n",
       "    </tr>\n",
       "    <tr>\n",
       "      <th>7</th>\n",
       "      <td>○_NUM</td>\n",
       "      <td>2997.125000</td>\n",
       "    </tr>\n",
       "    <tr>\n",
       "      <th>8</th>\n",
       "      <td>hành</td>\n",
       "      <td>2661.000000</td>\n",
       "    </tr>\n",
       "    <tr>\n",
       "      <th>9</th>\n",
       "      <td>CLIL</td>\n",
       "      <td>2602.000000</td>\n",
       "    </tr>\n",
       "  </tbody>\n",
       "</table>\n",
       "</div>"
      ],
      "text/plain": [
       "     ngram count_volume_ratio\n",
       "0     việc        6089.000000\n",
       "1      the        5020.630577\n",
       "2  the_DET        5018.625248\n",
       "3      oCk        3487.000000\n",
       "4    không        3387.000000\n",
       "5       of        3158.661189\n",
       "6   of_ADP        3155.379170\n",
       "7    ○_NUM        2997.125000\n",
       "8     hành        2661.000000\n",
       "9     CLIL        2602.000000"
      ]
     },
     "execution_count": 19,
     "metadata": {},
     "output_type": "execute_result"
    }
   ],
   "source": [
    "cvr().toPandas()"
   ]
  },
  {
   "cell_type": "markdown",
   "metadata": {
    "deletable": false,
    "editable": false,
    "nbgrader": {
     "cell_type": "markdown",
     "checksum": "473c56a5cd3beb55342f311a654357d3",
     "grade": false,
     "grade_id": "cell-d09afe40bb1ffa2b",
     "locked": true,
     "schema_version": 3,
     "solution": false,
     "task": false
    }
   },
   "source": [
    "# Problem 3 [3 pts]"
   ]
  },
  {
   "attachments": {
    "image.png": {
     "image/png": "[encoded data removed]"
    }
   },
   "cell_type": "markdown",
   "metadata": {
    "deletable": false,
    "editable": false,
    "nbgrader": {
     "cell_type": "markdown",
     "checksum": "7911215480f8b40414c9286c542815d1",
     "grade": false,
     "grade_id": "cell-d03168c86697680d",
     "locked": true,
     "schema_version": 3,
     "solution": false,
     "task": false
    }
   },
   "source": [
    "Create a function `comments_by_account_creation` that returns a SQL statement to process the registered Spark data frame `comments` into a data frame with columns `account created` and `comments`. The column `account created` corresponds to the year-month, in Philippine Standard Time, the comment author was created and `comments` corresponds to the number of comments authored by users created that year-month. Sort in reverse chronological order of `account created`. Return the most recent 12 months only. The output of the cell after the answer cell should be the same as below. Runtime of the final code is about an hour.\n",
    "\n",
    "![image.png](attachment:image.png)"
   ]
  },
  {
   "cell_type": "code",
   "execution_count": 20,
   "metadata": {
    "ExecuteTime": {
     "end_time": "2022-02-27T03:43:21.572297Z",
     "start_time": "2022-02-27T03:43:21.505510Z"
    }
   },
   "outputs": [],
   "source": [
    "%%bash --out output\n",
    "head --lines=100 /mnt/localdata/public/reddit/comments/RC_2019-02-02"
   ]
  },
  {
   "cell_type": "code",
   "execution_count": 21,
   "metadata": {
    "ExecuteTime": {
     "end_time": "2022-02-27T03:43:22.095839Z",
     "start_time": "2022-02-27T03:43:21.575548Z"
    }
   },
   "outputs": [],
   "source": [
    "sampleRDD = sc.parallelize(output.split('\\n'))\n",
    "sample = spark.read.json(sampleRDD)"
   ]
  },
  {
   "cell_type": "code",
   "execution_count": 22,
   "metadata": {
    "ExecuteTime": {
     "end_time": "2022-02-27T03:43:22.106572Z",
     "start_time": "2022-02-27T03:43:22.099663Z"
    },
    "scrolled": true
   },
   "outputs": [
    {
     "name": "stdout",
     "output_type": "stream",
     "text": [
      "root\n",
      " |-- author: string (nullable = true)\n",
      " |-- author_cakeday: boolean (nullable = true)\n",
      " |-- author_created_utc: long (nullable = true)\n",
      " |-- author_flair_background_color: string (nullable = true)\n",
      " |-- author_flair_css_class: string (nullable = true)\n",
      " |-- author_flair_richtext: array (nullable = true)\n",
      " |    |-- element: struct (containsNull = true)\n",
      " |    |    |-- a: string (nullable = true)\n",
      " |    |    |-- e: string (nullable = true)\n",
      " |    |    |-- t: string (nullable = true)\n",
      " |    |    |-- u: string (nullable = true)\n",
      " |-- author_flair_template_id: string (nullable = true)\n",
      " |-- author_flair_text: string (nullable = true)\n",
      " |-- author_flair_text_color: string (nullable = true)\n",
      " |-- author_flair_type: string (nullable = true)\n",
      " |-- author_fullname: string (nullable = true)\n",
      " |-- author_patreon_flair: boolean (nullable = true)\n",
      " |-- body: string (nullable = true)\n",
      " |-- can_gild: boolean (nullable = true)\n",
      " |-- can_mod_post: boolean (nullable = true)\n",
      " |-- collapsed: boolean (nullable = true)\n",
      " |-- collapsed_reason: string (nullable = true)\n",
      " |-- controversiality: long (nullable = true)\n",
      " |-- created_utc: long (nullable = true)\n",
      " |-- distinguished: string (nullable = true)\n",
      " |-- edited: string (nullable = true)\n",
      " |-- gilded: long (nullable = true)\n",
      " |-- gildings: struct (nullable = true)\n",
      " |    |-- gid_1: long (nullable = true)\n",
      " |    |-- gid_2: long (nullable = true)\n",
      " |    |-- gid_3: long (nullable = true)\n",
      " |-- id: string (nullable = true)\n",
      " |-- is_submitter: boolean (nullable = true)\n",
      " |-- link_id: string (nullable = true)\n",
      " |-- no_follow: boolean (nullable = true)\n",
      " |-- parent_id: string (nullable = true)\n",
      " |-- permalink: string (nullable = true)\n",
      " |-- quarantined: boolean (nullable = true)\n",
      " |-- removal_reason: string (nullable = true)\n",
      " |-- retrieved_on: long (nullable = true)\n",
      " |-- score: long (nullable = true)\n",
      " |-- send_replies: boolean (nullable = true)\n",
      " |-- stickied: boolean (nullable = true)\n",
      " |-- subreddit: string (nullable = true)\n",
      " |-- subreddit_id: string (nullable = true)\n",
      " |-- subreddit_name_prefixed: string (nullable = true)\n",
      " |-- subreddit_type: string (nullable = true)\n",
      "\n"
     ]
    }
   ],
   "source": [
    "sample.printSchema()"
   ]
  },
  {
   "cell_type": "code",
   "execution_count": 23,
   "metadata": {
    "ExecuteTime": {
     "end_time": "2022-02-27T03:43:22.453139Z",
     "start_time": "2022-02-27T03:43:22.108601Z"
    }
   },
   "outputs": [
    {
     "name": "stderr",
     "output_type": "stream",
     "text": [
      "22/02/27 11:43:22 WARN package: Truncated the string representation of a plan since it was too large. This behavior can be adjusted by setting 'spark.sql.debug.maxToStringFields'.\n"
     ]
    },
    {
     "data": {
      "text/html": [
       "<div>\n",
       "<style scoped>\n",
       "    .dataframe tbody tr th:only-of-type {\n",
       "        vertical-align: middle;\n",
       "    }\n",
       "\n",
       "    .dataframe tbody tr th {\n",
       "        vertical-align: top;\n",
       "    }\n",
       "\n",
       "    .dataframe thead th {\n",
       "        text-align: right;\n",
       "    }\n",
       "</style>\n",
       "<table border=\"1\" class=\"dataframe\">\n",
       "  <thead>\n",
       "    <tr style=\"text-align: right;\">\n",
       "      <th></th>\n",
       "      <th>author</th>\n",
       "      <th>author_cakeday</th>\n",
       "      <th>author_created_utc</th>\n",
       "      <th>author_flair_background_color</th>\n",
       "      <th>author_flair_css_class</th>\n",
       "      <th>author_flair_richtext</th>\n",
       "      <th>author_flair_template_id</th>\n",
       "      <th>author_flair_text</th>\n",
       "      <th>author_flair_text_color</th>\n",
       "      <th>author_flair_type</th>\n",
       "      <th>...</th>\n",
       "      <th>quarantined</th>\n",
       "      <th>removal_reason</th>\n",
       "      <th>retrieved_on</th>\n",
       "      <th>score</th>\n",
       "      <th>send_replies</th>\n",
       "      <th>stickied</th>\n",
       "      <th>subreddit</th>\n",
       "      <th>subreddit_id</th>\n",
       "      <th>subreddit_name_prefixed</th>\n",
       "      <th>subreddit_type</th>\n",
       "    </tr>\n",
       "  </thead>\n",
       "  <tbody>\n",
       "    <tr>\n",
       "      <th>0</th>\n",
       "      <td>AutoModerator</td>\n",
       "      <td>None</td>\n",
       "      <td>1325741068</td>\n",
       "      <td>None</td>\n",
       "      <td>None</td>\n",
       "      <td>[]</td>\n",
       "      <td>None</td>\n",
       "      <td>None</td>\n",
       "      <td>None</td>\n",
       "      <td>text</td>\n",
       "      <td>...</td>\n",
       "      <td>False</td>\n",
       "      <td>None</td>\n",
       "      <td>1553412042</td>\n",
       "      <td>1</td>\n",
       "      <td>False</td>\n",
       "      <td>True</td>\n",
       "      <td>PoliticalVideo</td>\n",
       "      <td>t5_3arin</td>\n",
       "      <td>r/PoliticalVideo</td>\n",
       "      <td>public</td>\n",
       "    </tr>\n",
       "    <tr>\n",
       "      <th>1</th>\n",
       "      <td>sfnxboy</td>\n",
       "      <td>None</td>\n",
       "      <td>1542338091</td>\n",
       "      <td>None</td>\n",
       "      <td>None</td>\n",
       "      <td>[]</td>\n",
       "      <td>None</td>\n",
       "      <td>None</td>\n",
       "      <td>None</td>\n",
       "      <td>text</td>\n",
       "      <td>...</td>\n",
       "      <td>True</td>\n",
       "      <td>None</td>\n",
       "      <td>1553412042</td>\n",
       "      <td>1</td>\n",
       "      <td>True</td>\n",
       "      <td>False</td>\n",
       "      <td>4chan</td>\n",
       "      <td>t5_2qh4w</td>\n",
       "      <td>r/4chan</td>\n",
       "      <td>public</td>\n",
       "    </tr>\n",
       "    <tr>\n",
       "      <th>2</th>\n",
       "      <td>sonicandfffan</td>\n",
       "      <td>None</td>\n",
       "      <td>1325111878</td>\n",
       "      <td>None</td>\n",
       "      <td>None</td>\n",
       "      <td>[]</td>\n",
       "      <td>None</td>\n",
       "      <td>None</td>\n",
       "      <td>None</td>\n",
       "      <td>text</td>\n",
       "      <td>...</td>\n",
       "      <td>False</td>\n",
       "      <td>None</td>\n",
       "      <td>1553412042</td>\n",
       "      <td>-21</td>\n",
       "      <td>True</td>\n",
       "      <td>False</td>\n",
       "      <td>nottheonion</td>\n",
       "      <td>t5_2qnts</td>\n",
       "      <td>r/nottheonion</td>\n",
       "      <td>public</td>\n",
       "    </tr>\n",
       "    <tr>\n",
       "      <th>3</th>\n",
       "      <td>HyalopterousLemure</td>\n",
       "      <td>None</td>\n",
       "      <td>1506515854</td>\n",
       "      <td>None</td>\n",
       "      <td>None</td>\n",
       "      <td>[]</td>\n",
       "      <td>None</td>\n",
       "      <td>None</td>\n",
       "      <td>None</td>\n",
       "      <td>text</td>\n",
       "      <td>...</td>\n",
       "      <td>False</td>\n",
       "      <td>None</td>\n",
       "      <td>1553412042</td>\n",
       "      <td>20</td>\n",
       "      <td>True</td>\n",
       "      <td>False</td>\n",
       "      <td>mtgfinance</td>\n",
       "      <td>t5_2vv1m</td>\n",
       "      <td>r/mtgfinance</td>\n",
       "      <td>public</td>\n",
       "    </tr>\n",
       "    <tr>\n",
       "      <th>4</th>\n",
       "      <td>Raptoot83</td>\n",
       "      <td>None</td>\n",
       "      <td>1498319573</td>\n",
       "      <td>None</td>\n",
       "      <td>None</td>\n",
       "      <td>[]</td>\n",
       "      <td>None</td>\n",
       "      <td>None</td>\n",
       "      <td>None</td>\n",
       "      <td>text</td>\n",
       "      <td>...</td>\n",
       "      <td>False</td>\n",
       "      <td>None</td>\n",
       "      <td>1553412042</td>\n",
       "      <td>2</td>\n",
       "      <td>True</td>\n",
       "      <td>False</td>\n",
       "      <td>gaming</td>\n",
       "      <td>t5_2qh03</td>\n",
       "      <td>r/gaming</td>\n",
       "      <td>public</td>\n",
       "    </tr>\n",
       "    <tr>\n",
       "      <th>5</th>\n",
       "      <td>james_bena</td>\n",
       "      <td>None</td>\n",
       "      <td>1537061635</td>\n",
       "      <td>None</td>\n",
       "      <td>None</td>\n",
       "      <td>[]</td>\n",
       "      <td>None</td>\n",
       "      <td>None</td>\n",
       "      <td>None</td>\n",
       "      <td>text</td>\n",
       "      <td>...</td>\n",
       "      <td>False</td>\n",
       "      <td>None</td>\n",
       "      <td>1553412042</td>\n",
       "      <td>1</td>\n",
       "      <td>True</td>\n",
       "      <td>False</td>\n",
       "      <td>JuiceWRLD</td>\n",
       "      <td>t5_gm2ug</td>\n",
       "      <td>r/JuiceWRLD</td>\n",
       "      <td>public</td>\n",
       "    </tr>\n",
       "    <tr>\n",
       "      <th>6</th>\n",
       "      <td>Blaskowici</td>\n",
       "      <td>None</td>\n",
       "      <td>1546014307</td>\n",
       "      <td></td>\n",
       "      <td>green tier2</td>\n",
       "      <td>[(None, text, +18 Karma, None)]</td>\n",
       "      <td>None</td>\n",
       "      <td>+18 Karma</td>\n",
       "      <td>dark</td>\n",
       "      <td>richtext</td>\n",
       "      <td>...</td>\n",
       "      <td>False</td>\n",
       "      <td>None</td>\n",
       "      <td>1553412042</td>\n",
       "      <td>1</td>\n",
       "      <td>True</td>\n",
       "      <td>False</td>\n",
       "      <td>Market76</td>\n",
       "      <td>t5_n9nn1</td>\n",
       "      <td>r/Market76</td>\n",
       "      <td>public</td>\n",
       "    </tr>\n",
       "    <tr>\n",
       "      <th>7</th>\n",
       "      <td>NullIsUndefined</td>\n",
       "      <td>None</td>\n",
       "      <td>1485232617</td>\n",
       "      <td>None</td>\n",
       "      <td>None</td>\n",
       "      <td>[]</td>\n",
       "      <td>None</td>\n",
       "      <td>None</td>\n",
       "      <td>None</td>\n",
       "      <td>text</td>\n",
       "      <td>...</td>\n",
       "      <td>False</td>\n",
       "      <td>None</td>\n",
       "      <td>1553412042</td>\n",
       "      <td>9</td>\n",
       "      <td>True</td>\n",
       "      <td>False</td>\n",
       "      <td>Libertarian</td>\n",
       "      <td>t5_2qh63</td>\n",
       "      <td>r/Libertarian</td>\n",
       "      <td>public</td>\n",
       "    </tr>\n",
       "    <tr>\n",
       "      <th>8</th>\n",
       "      <td>genjipress</td>\n",
       "      <td>None</td>\n",
       "      <td>1365871750</td>\n",
       "      <td></td>\n",
       "      <td></td>\n",
       "      <td>[]</td>\n",
       "      <td>4cc838b8-3159-11e1-83e4-12313d18ad57</td>\n",
       "      <td>return self</td>\n",
       "      <td>dark</td>\n",
       "      <td>text</td>\n",
       "      <td>...</td>\n",
       "      <td>False</td>\n",
       "      <td>None</td>\n",
       "      <td>1553412042</td>\n",
       "      <td>3</td>\n",
       "      <td>True</td>\n",
       "      <td>False</td>\n",
       "      <td>Python</td>\n",
       "      <td>t5_2qh0y</td>\n",
       "      <td>r/Python</td>\n",
       "      <td>public</td>\n",
       "    </tr>\n",
       "    <tr>\n",
       "      <th>9</th>\n",
       "      <td>SaneManiac741</td>\n",
       "      <td>None</td>\n",
       "      <td>1506122433</td>\n",
       "      <td>None</td>\n",
       "      <td>None</td>\n",
       "      <td>[]</td>\n",
       "      <td>None</td>\n",
       "      <td>None</td>\n",
       "      <td>None</td>\n",
       "      <td>text</td>\n",
       "      <td>...</td>\n",
       "      <td>False</td>\n",
       "      <td>None</td>\n",
       "      <td>1553412042</td>\n",
       "      <td>1</td>\n",
       "      <td>True</td>\n",
       "      <td>False</td>\n",
       "      <td>PrequelMemes</td>\n",
       "      <td>t5_3i60n</td>\n",
       "      <td>r/PrequelMemes</td>\n",
       "      <td>public</td>\n",
       "    </tr>\n",
       "  </tbody>\n",
       "</table>\n",
       "<p>10 rows × 39 columns</p>\n",
       "</div>"
      ],
      "text/plain": [
       "               author author_cakeday  author_created_utc  \\\n",
       "0       AutoModerator           None          1325741068   \n",
       "1             sfnxboy           None          1542338091   \n",
       "2       sonicandfffan           None          1325111878   \n",
       "3  HyalopterousLemure           None          1506515854   \n",
       "4           Raptoot83           None          1498319573   \n",
       "5          james_bena           None          1537061635   \n",
       "6          Blaskowici           None          1546014307   \n",
       "7     NullIsUndefined           None          1485232617   \n",
       "8          genjipress           None          1365871750   \n",
       "9       SaneManiac741           None          1506122433   \n",
       "\n",
       "  author_flair_background_color author_flair_css_class  \\\n",
       "0                          None                   None   \n",
       "1                          None                   None   \n",
       "2                          None                   None   \n",
       "3                          None                   None   \n",
       "4                          None                   None   \n",
       "5                          None                   None   \n",
       "6                                          green tier2   \n",
       "7                          None                   None   \n",
       "8                                                        \n",
       "9                          None                   None   \n",
       "\n",
       "             author_flair_richtext              author_flair_template_id  \\\n",
       "0                               []                                  None   \n",
       "1                               []                                  None   \n",
       "2                               []                                  None   \n",
       "3                               []                                  None   \n",
       "4                               []                                  None   \n",
       "5                               []                                  None   \n",
       "6  [(None, text, +18 Karma, None)]                                  None   \n",
       "7                               []                                  None   \n",
       "8                               []  4cc838b8-3159-11e1-83e4-12313d18ad57   \n",
       "9                               []                                  None   \n",
       "\n",
       "  author_flair_text author_flair_text_color author_flair_type  ...  \\\n",
       "0              None                    None              text  ...   \n",
       "1              None                    None              text  ...   \n",
       "2              None                    None              text  ...   \n",
       "3              None                    None              text  ...   \n",
       "4              None                    None              text  ...   \n",
       "5              None                    None              text  ...   \n",
       "6         +18 Karma                    dark          richtext  ...   \n",
       "7              None                    None              text  ...   \n",
       "8       return self                    dark              text  ...   \n",
       "9              None                    None              text  ...   \n",
       "\n",
       "  quarantined  removal_reason retrieved_on  score  send_replies  stickied  \\\n",
       "0       False            None   1553412042      1         False      True   \n",
       "1        True            None   1553412042      1          True     False   \n",
       "2       False            None   1553412042    -21          True     False   \n",
       "3       False            None   1553412042     20          True     False   \n",
       "4       False            None   1553412042      2          True     False   \n",
       "5       False            None   1553412042      1          True     False   \n",
       "6       False            None   1553412042      1          True     False   \n",
       "7       False            None   1553412042      9          True     False   \n",
       "8       False            None   1553412042      3          True     False   \n",
       "9       False            None   1553412042      1          True     False   \n",
       "\n",
       "        subreddit  subreddit_id  subreddit_name_prefixed subreddit_type  \n",
       "0  PoliticalVideo      t5_3arin         r/PoliticalVideo         public  \n",
       "1           4chan      t5_2qh4w                  r/4chan         public  \n",
       "2     nottheonion      t5_2qnts            r/nottheonion         public  \n",
       "3      mtgfinance      t5_2vv1m             r/mtgfinance         public  \n",
       "4          gaming      t5_2qh03                 r/gaming         public  \n",
       "5       JuiceWRLD      t5_gm2ug              r/JuiceWRLD         public  \n",
       "6        Market76      t5_n9nn1               r/Market76         public  \n",
       "7     Libertarian      t5_2qh63            r/Libertarian         public  \n",
       "8          Python      t5_2qh0y                 r/Python         public  \n",
       "9    PrequelMemes      t5_3i60n           r/PrequelMemes         public  \n",
       "\n",
       "[10 rows x 39 columns]"
      ]
     },
     "execution_count": 23,
     "metadata": {},
     "output_type": "execute_result"
    }
   ],
   "source": [
    "sample.createOrReplaceTempView('comments_sample')\n",
    "query = \"\"\"\n",
    "select * from comments_sample LIMIT 10\n",
    "\"\"\"\n",
    "spark.sql(query).toPandas()"
   ]
  },
  {
   "cell_type": "code",
   "execution_count": 24,
   "metadata": {
    "ExecuteTime": {
     "end_time": "2022-02-27T03:43:22.790237Z",
     "start_time": "2022-02-27T03:43:22.455053Z"
    }
   },
   "outputs": [
    {
     "name": "stdout",
     "output_type": "stream",
     "text": [
      "+-------------------+-------------------+-------------------+-------------------+\n",
      "| author_created_utc|author_created_gmt8|        created_utc|   created_utc_gmt8|\n",
      "+-------------------+-------------------+-------------------+-------------------+\n",
      "|2012-01-05 13:24:28|2012-01-05 21:24:28|2019-02-02 08:00:00|2019-02-02 16:00:00|\n",
      "|2018-11-16 11:14:51|2018-11-16 19:14:51|2019-02-02 08:00:00|2019-02-02 16:00:00|\n",
      "|2011-12-29 06:37:58|2011-12-29 14:37:58|2019-02-02 08:00:00|2019-02-02 16:00:00|\n",
      "|2017-09-27 20:37:34|2017-09-28 04:37:34|2019-02-02 08:00:00|2019-02-02 16:00:00|\n",
      "|2017-06-24 23:52:53|2017-06-25 07:52:53|2019-02-02 08:00:00|2019-02-02 16:00:00|\n",
      "|2018-09-16 09:33:55|2018-09-16 17:33:55|2019-02-02 08:00:00|2019-02-02 16:00:00|\n",
      "|2018-12-29 00:25:07|2018-12-29 08:25:07|2019-02-02 08:00:00|2019-02-02 16:00:00|\n",
      "|2017-01-24 12:36:57|2017-01-24 20:36:57|2019-02-02 08:00:00|2019-02-02 16:00:00|\n",
      "|2013-04-14 00:49:10|2013-04-14 08:49:10|2019-02-02 08:00:00|2019-02-02 16:00:00|\n",
      "|2017-09-23 07:20:33|2017-09-23 15:20:33|2019-02-02 08:00:00|2019-02-02 16:00:00|\n",
      "+-------------------+-------------------+-------------------+-------------------+\n",
      "\n"
     ]
    }
   ],
   "source": [
    "statement = \"\"\"\n",
    "\n",
    "SELECT \n",
    "    from_unixtime(author_created_utc) as author_created_utc,\n",
    "    from_utc_timestamp(from_unixtime(author_created_utc), 'GMT+8') as author_created_gmt8,\n",
    "    from_unixtime(created_utc) as created_utc,\n",
    "    from_utc_timestamp(from_unixtime(created_utc), 'GMT+8') as created_utc_gmt8\n",
    "FROM comments_sample\n",
    "LIMIT 10\n",
    "\n",
    "\"\"\"\n",
    "spark.sql(statement).show()"
   ]
  },
  {
   "cell_type": "code",
   "execution_count": 25,
   "metadata": {
    "ExecuteTime": {
     "end_time": "2022-02-27T03:43:23.052084Z",
     "start_time": "2022-02-27T03:43:22.792852Z"
    }
   },
   "outputs": [
    {
     "name": "stdout",
     "output_type": "stream",
     "text": [
      "+-------------------+----------------+------------------+----------+\n",
      "|author_created_gmt8|created_utc_gmt8|author_created_utc|create_utc|\n",
      "+-------------------+----------------+------------------+----------+\n",
      "|           2012-Jan|        2019-Feb|          2012-Jan|  2019-Feb|\n",
      "|           2018-Nov|        2019-Feb|          2018-Nov|  2019-Feb|\n",
      "|           2011-Dec|        2019-Feb|          2011-Dec|  2019-Feb|\n",
      "|           2017-Sep|        2019-Feb|          2017-Sep|  2019-Feb|\n",
      "|           2017-Jun|        2019-Feb|          2017-Jun|  2019-Feb|\n",
      "|           2018-Sep|        2019-Feb|          2018-Sep|  2019-Feb|\n",
      "|           2018-Dec|        2019-Feb|          2018-Dec|  2019-Feb|\n",
      "|           2017-Jan|        2019-Feb|          2017-Jan|  2019-Feb|\n",
      "|           2013-Apr|        2019-Feb|          2013-Apr|  2019-Feb|\n",
      "|           2017-Sep|        2019-Feb|          2017-Sep|  2019-Feb|\n",
      "+-------------------+----------------+------------------+----------+\n",
      "\n"
     ]
    }
   ],
   "source": [
    "statement = \"\"\"\n",
    "SELECT \n",
    "    date_format(author_created_gmt8, 'yyyy-MMM') as author_created_gmt8,\n",
    "    date_format(created_utc_gmt8, 'yyyy-MMM') as created_utc_gmt8,\n",
    "    date_format(author_created_utc, 'yyyy-MMM') as author_created_utc,\n",
    "    date_format(created_utc, 'yyyy-MMM') as create_utc\n",
    "FROM\n",
    "    (SELECT \n",
    "        from_unixtime(author_created_utc) as author_created_utc,\n",
    "        from_utc_timestamp(from_unixtime(author_created_utc), 'GMT+8') as author_created_gmt8,\n",
    "        from_unixtime(created_utc) as created_utc,\n",
    "        from_utc_timestamp(from_unixtime(created_utc), 'GMT+8') as created_utc_gmt8\n",
    "    FROM comments_sample\n",
    "    LIMIT 10\n",
    "    )\n",
    "WHERE author_created_utc IS NOT NULL\n",
    "\n",
    "LIMIT 10\n",
    "\"\"\"\n",
    "spark.sql(statement).show()"
   ]
  },
  {
   "cell_type": "code",
   "execution_count": 26,
   "metadata": {
    "ExecuteTime": {
     "end_time": "2022-02-27T03:43:23.583290Z",
     "start_time": "2022-02-27T03:43:23.054386Z"
    }
   },
   "outputs": [
    {
     "name": "stdout",
     "output_type": "stream",
     "text": [
      "+---------------+--------+\n",
      "|account created|comments|\n",
      "+---------------+--------+\n",
      "|       2018-Sep|       1|\n",
      "|       2018-Nov|       1|\n",
      "|       2018-Dec|       1|\n",
      "|       2017-Sep|       2|\n",
      "|       2017-Jun|       1|\n",
      "|       2017-Jan|       1|\n",
      "|       2013-Apr|       1|\n",
      "|       2012-Jan|       1|\n",
      "|       2011-Dec|       1|\n",
      "+---------------+--------+\n",
      "\n"
     ]
    }
   ],
   "source": [
    "statement = \"\"\"\n",
    "\n",
    "SELECT author_created_utc as `account created`, COUNT(*) as comments\n",
    "FROM\n",
    "    (\n",
    "    SELECT \n",
    "        date_format(author_created_gmt8, 'yyyy-MMM') as author_created_gmt8,\n",
    "        date_format(created_utc_gmt8, 'yyyy-MMM') as created_utc_gmt8,\n",
    "        date_format(author_created_utc, 'yyyy-MMM') as author_created_utc,\n",
    "        date_format(created_utc, 'yyyy-MMM') as create_utc\n",
    "    FROM\n",
    "        (\n",
    "        SELECT \n",
    "            from_unixtime(author_created_utc) as author_created_utc,\n",
    "            from_utc_timestamp(from_unixtime(author_created_utc), 'GMT+8') as author_created_gmt8,\n",
    "            from_unixtime(created_utc) as created_utc,\n",
    "            from_utc_timestamp(from_unixtime(created_utc), 'GMT+8') as created_utc_gmt8\n",
    "        FROM comments_sample\n",
    "        LIMIT 10\n",
    "        )\n",
    "    WHERE author_created_utc IS NOT NULL\n",
    "\n",
    "    LIMIT 10\n",
    "    )\n",
    "GROUP BY 1\n",
    "ORDER BY 1 DESC\n",
    "LIMIT 12\n",
    "    \n",
    "\"\"\"\n",
    "spark.sql(statement).show()"
   ]
  },
  {
   "cell_type": "code",
   "execution_count": 27,
   "metadata": {
    "ExecuteTime": {
     "end_time": "2022-02-27T03:43:23.591584Z",
     "start_time": "2022-02-27T03:43:23.586081Z"
    },
    "deletable": false,
    "nbgrader": {
     "cell_type": "code",
     "checksum": "fccbb60d6bb08eb69f8bc9522d48b52b",
     "grade": true,
     "grade_id": "cell-c697b72f649096df",
     "locked": false,
     "points": 3,
     "schema_version": 3,
     "solution": true,
     "task": false
    }
   },
   "outputs": [],
   "source": [
    "def comments_by_account_creation():\n",
    "    statement = \"\"\"\n",
    "    \n",
    "    SELECT author_created_utc as `account created`, COUNT(*) as comments\n",
    "    FROM\n",
    "        (\n",
    "        SELECT \n",
    "            date_format(author_created_gmt8, 'yyyy-MMM') as author_created_gmt8,\n",
    "            date_format(created_utc_gmt8, 'yyyy-MMM') as created_utc_gmt8,\n",
    "            date_format(author_created_utc, 'yyyy-MMM') as author_created_utc,\n",
    "            date_format(created_utc, 'yyyy-MMM') as create_utc\n",
    "        FROM\n",
    "            (\n",
    "            SELECT \n",
    "                from_unixtime(author_created_utc) as author_created_utc,\n",
    "                from_utc_timestamp(from_unixtime(author_created_utc), 'GMT+8') as author_created_gmt8,\n",
    "                from_unixtime(created_utc) as created_utc,\n",
    "                from_utc_timestamp(from_unixtime(created_utc), 'GMT+8') as created_utc_gmt8\n",
    "            FROM comments\n",
    "\n",
    "            )\n",
    "        WHERE author_created_utc IS NOT NULL\n",
    "\n",
    "\n",
    "        )\n",
    "    GROUP BY 1\n",
    "    ORDER BY 1 DESC\n",
    "    LIMIT 12\n",
    "\n",
    "    \"\"\"\n",
    "    return statement"
   ]
  },
  {
   "cell_type": "code",
   "execution_count": 28,
   "metadata": {
    "ExecuteTime": {
     "end_time": "2022-02-27T05:11:04.105400Z",
     "start_time": "2022-02-27T03:43:23.594304Z"
    },
    "deletable": false,
    "editable": false,
    "nbgrader": {
     "cell_type": "code",
     "checksum": "357a3ef3d89cab206e267001c1a95e96",
     "grade": false,
     "grade_id": "cell-fc5c459de6472864",
     "locked": true,
     "schema_version": 3,
     "solution": false,
     "task": false
    }
   },
   "outputs": [
    {
     "name": "stderr",
     "output_type": "stream",
     "text": [
      "                                                                                \r"
     ]
    },
    {
     "data": {
      "text/html": [
       "<div>\n",
       "<style scoped>\n",
       "    .dataframe tbody tr th:only-of-type {\n",
       "        vertical-align: middle;\n",
       "    }\n",
       "\n",
       "    .dataframe tbody tr th {\n",
       "        vertical-align: top;\n",
       "    }\n",
       "\n",
       "    .dataframe thead th {\n",
       "        text-align: right;\n",
       "    }\n",
       "</style>\n",
       "<table border=\"1\" class=\"dataframe\">\n",
       "  <thead>\n",
       "    <tr style=\"text-align: right;\">\n",
       "      <th></th>\n",
       "      <th>account created</th>\n",
       "      <th>comments</th>\n",
       "    </tr>\n",
       "  </thead>\n",
       "  <tbody>\n",
       "    <tr>\n",
       "      <th>0</th>\n",
       "      <td>2019-Mar</td>\n",
       "      <td>3744</td>\n",
       "    </tr>\n",
       "    <tr>\n",
       "      <th>1</th>\n",
       "      <td>2019-Jan</td>\n",
       "      <td>5348971</td>\n",
       "    </tr>\n",
       "    <tr>\n",
       "      <th>2</th>\n",
       "      <td>2019-Feb</td>\n",
       "      <td>3532093</td>\n",
       "    </tr>\n",
       "    <tr>\n",
       "      <th>3</th>\n",
       "      <td>2018-Sep</td>\n",
       "      <td>2636239</td>\n",
       "    </tr>\n",
       "    <tr>\n",
       "      <th>4</th>\n",
       "      <td>2018-Oct</td>\n",
       "      <td>3092673</td>\n",
       "    </tr>\n",
       "    <tr>\n",
       "      <th>5</th>\n",
       "      <td>2018-Nov</td>\n",
       "      <td>3309918</td>\n",
       "    </tr>\n",
       "    <tr>\n",
       "      <th>6</th>\n",
       "      <td>2018-May</td>\n",
       "      <td>2190673</td>\n",
       "    </tr>\n",
       "    <tr>\n",
       "      <th>7</th>\n",
       "      <td>2018-Mar</td>\n",
       "      <td>2219908</td>\n",
       "    </tr>\n",
       "    <tr>\n",
       "      <th>8</th>\n",
       "      <td>2018-Jun</td>\n",
       "      <td>2214725</td>\n",
       "    </tr>\n",
       "    <tr>\n",
       "      <th>9</th>\n",
       "      <td>2018-Jul</td>\n",
       "      <td>2698553</td>\n",
       "    </tr>\n",
       "    <tr>\n",
       "      <th>10</th>\n",
       "      <td>2018-Jan</td>\n",
       "      <td>2049713</td>\n",
       "    </tr>\n",
       "    <tr>\n",
       "      <th>11</th>\n",
       "      <td>2018-Feb</td>\n",
       "      <td>1914682</td>\n",
       "    </tr>\n",
       "  </tbody>\n",
       "</table>\n",
       "</div>"
      ],
      "text/plain": [
       "   account created  comments\n",
       "0         2019-Mar      3744\n",
       "1         2019-Jan   5348971\n",
       "2         2019-Feb   3532093\n",
       "3         2018-Sep   2636239\n",
       "4         2018-Oct   3092673\n",
       "5         2018-Nov   3309918\n",
       "6         2018-May   2190673\n",
       "7         2018-Mar   2219908\n",
       "8         2018-Jun   2214725\n",
       "9         2018-Jul   2698553\n",
       "10        2018-Jan   2049713\n",
       "11        2018-Feb   1914682"
      ]
     },
     "execution_count": 28,
     "metadata": {},
     "output_type": "execute_result"
    }
   ],
   "source": [
    "(spark.read.json('/mnt/localdata/public/reddit/comments/RC_2019-02-??')\n",
    " .createOrReplaceTempView('comments'))\n",
    "spark.sql(comments_by_account_creation()).toPandas()"
   ]
  }
 ],
 "metadata": {
  "hide_input": false,
  "kernelspec": {
   "display_name": "Python [conda env:root] *",
   "language": "python",
   "name": "conda-root-py"
  },
  "language_info": {
   "codemirror_mode": {
    "name": "ipython",
    "version": 3
   },
   "file_extension": ".py",
   "mimetype": "text/x-python",
   "name": "python",
   "nbconvert_exporter": "python",
   "pygments_lexer": "ipython3",
   "version": "3.9.6"
  },
  "toc": {
   "base_numbering": 1,
   "nav_menu": {},
   "number_sections": true,
   "sideBar": true,
   "skip_h1_title": false,
   "title_cell": "Table of Contents",
   "title_sidebar": "Contents",
   "toc_cell": false,
   "toc_position": {},
   "toc_section_display": true,
   "toc_window_display": false
  }
 },
 "nbformat": 4,
 "nbformat_minor": 2
}
