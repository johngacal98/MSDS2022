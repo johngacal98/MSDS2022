{
 "cells": [
  {
   "cell_type": "code",
   "execution_count": 1,
   "metadata": {
    "ExecuteTime": {
     "end_time": "2022-03-07T08:21:20.331049Z",
     "start_time": "2022-03-07T08:21:20.021681Z"
    }
   },
   "outputs": [],
   "source": [
    "from pyspark import SparkContext\n",
    "from pyspark.sql import SparkSession\n",
    "from numpy.testing import assert_equal"
   ]
  },
  {
   "cell_type": "code",
   "execution_count": 2,
   "metadata": {
    "ExecuteTime": {
     "end_time": "2022-03-07T08:21:20.335682Z",
     "start_time": "2022-03-07T08:21:20.332863Z"
    }
   },
   "outputs": [],
   "source": [
    "import os\n",
    "os.environ['AWS_PROFILE'] = 'default'"
   ]
  },
  {
   "cell_type": "code",
   "execution_count": 3,
   "metadata": {
    "ExecuteTime": {
     "end_time": "2022-03-07T08:21:20.341437Z",
     "start_time": "2022-03-07T08:21:20.337125Z"
    }
   },
   "outputs": [],
   "source": [
    "from pyspark import SparkConf"
   ]
  },
  {
   "cell_type": "code",
   "execution_count": 4,
   "metadata": {
    "ExecuteTime": {
     "end_time": "2022-03-07T08:21:41.650461Z",
     "start_time": "2022-03-07T08:21:20.343402Z"
    }
   },
   "outputs": [
    {
     "name": "stderr",
     "output_type": "stream",
     "text": [
      "Warning: Ignoring non-Spark config property: fs.s3a.aws.credentials.provider\n",
      "WARNING: An illegal reflective access operation has occurred\n",
      "WARNING: Illegal reflective access by org.apache.spark.unsafe.Platform (file:/usr/local/spark-3.1.2-bin-hadoop3.2/jars/spark-unsafe_2.12-3.1.2.jar) to constructor java.nio.DirectByteBuffer(long,int)\n",
      "WARNING: Please consider reporting this to the maintainers of org.apache.spark.unsafe.Platform\n",
      "WARNING: Use --illegal-access=warn to enable warnings of further illegal reflective access operations\n",
      "WARNING: All illegal access operations will be denied in a future release\n"
     ]
    },
    {
     "name": "stdout",
     "output_type": "stream",
     "text": [
      ":: loading settings :: url = jar:file:/usr/local/spark-3.1.2-bin-hadoop3.2/jars/ivy-2.4.0.jar!/org/apache/ivy/core/settings/ivysettings.xml\n"
     ]
    },
    {
     "name": "stderr",
     "output_type": "stream",
     "text": [
      "Ivy Default Cache set to: /home/msds2022/jgacal/.ivy2/cache\n",
      "The jars for the packages stored in: /home/msds2022/jgacal/.ivy2/jars\n",
      "com.amazonaws#aws-java-sdk added as a dependency\n",
      "org.apache.hadoop#hadoop-aws added as a dependency\n",
      ":: resolving dependencies :: org.apache.spark#spark-submit-parent-01938296-b81f-44f4-8050-15734dfd4420;1.0\n",
      "\tconfs: [default]\n",
      "\tfound com.amazonaws#aws-java-sdk;1.11.563 in central\n",
      "\tfound com.amazonaws#aws-java-sdk-ioteventsdata;1.11.563 in central\n",
      "\tfound com.amazonaws#aws-java-sdk-core;1.11.563 in central\n",
      "\tfound commons-logging#commons-logging;1.1.3 in central\n",
      "\tfound org.apache.httpcomponents#httpclient;4.5.5 in central\n",
      "\tfound org.apache.httpcomponents#httpcore;4.4.9 in central\n",
      "\tfound commons-codec#commons-codec;1.10 in central\n",
      "\tfound software.amazon.ion#ion-java;1.0.2 in central\n",
      "\tfound com.fasterxml.jackson.core#jackson-databind;2.6.7.2 in central\n",
      "\tfound com.fasterxml.jackson.core#jackson-annotations;2.6.0 in central\n",
      "\tfound com.fasterxml.jackson.core#jackson-core;2.6.7 in central\n",
      "\tfound com.fasterxml.jackson.dataformat#jackson-dataformat-cbor;2.6.7 in central\n",
      "\tfound joda-time#joda-time;2.8.1 in central\n",
      "\tfound com.amazonaws#jmespath-java;1.11.563 in central\n",
      "\tfound com.amazonaws#aws-java-sdk-iotevents;1.11.563 in central\n",
      "\tfound com.amazonaws#aws-java-sdk-iotthingsgraph;1.11.563 in central\n",
      "\tfound com.amazonaws#aws-java-sdk-groundstation;1.11.563 in central\n",
      "\tfound com.amazonaws#aws-java-sdk-mediapackagevod;1.11.563 in central\n",
      "\tfound com.amazonaws#aws-java-sdk-managedblockchain;1.11.563 in central\n",
      "\tfound com.amazonaws#aws-java-sdk-textract;1.11.563 in central\n",
      "\tfound com.amazonaws#aws-java-sdk-worklink;1.11.563 in central\n",
      "\tfound com.amazonaws#aws-java-sdk-backup;1.11.563 in central\n",
      "\tfound com.amazonaws#aws-java-sdk-docdb;1.11.563 in central\n",
      "\tfound com.amazonaws#aws-java-sdk-apigatewayv2;1.11.563 in central\n",
      "\tfound com.amazonaws#aws-java-sdk-apigatewaymanagementapi;1.11.563 in central\n",
      "\tfound com.amazonaws#aws-java-sdk-kafka;1.11.563 in central\n",
      "\tfound com.amazonaws#aws-java-sdk-appmesh;1.11.563 in central\n",
      "\tfound com.amazonaws#aws-java-sdk-licensemanager;1.11.563 in central\n",
      "\tfound com.amazonaws#aws-java-sdk-securityhub;1.11.563 in central\n",
      "\tfound com.amazonaws#aws-java-sdk-fsx;1.11.563 in central\n",
      "\tfound com.amazonaws#aws-java-sdk-mediaconnect;1.11.563 in central\n",
      "\tfound com.amazonaws#aws-java-sdk-kinesisanalyticsv2;1.11.563 in central\n",
      "\tfound com.amazonaws#aws-java-sdk-comprehendmedical;1.11.563 in central\n",
      "\tfound com.amazonaws#aws-java-sdk-globalaccelerator;1.11.563 in central\n",
      "\tfound com.amazonaws#aws-java-sdk-transfer;1.11.563 in central\n",
      "\tfound com.amazonaws#aws-java-sdk-datasync;1.11.563 in central\n",
      "\tfound com.amazonaws#aws-java-sdk-robomaker;1.11.563 in central\n",
      "\tfound com.amazonaws#aws-java-sdk-amplify;1.11.563 in central\n",
      "\tfound com.amazonaws#aws-java-sdk-quicksight;1.11.563 in central\n",
      "\tfound com.amazonaws#aws-java-sdk-rdsdata;1.11.563 in central\n",
      "\tfound com.amazonaws#aws-java-sdk-route53resolver;1.11.563 in central\n",
      "\tfound com.amazonaws#aws-java-sdk-ram;1.11.563 in central\n",
      "\tfound com.amazonaws#aws-java-sdk-s3control;1.11.563 in central\n",
      "\tfound com.amazonaws#aws-java-sdk-s3;1.11.563 in central\n",
      "\tfound com.amazonaws#aws-java-sdk-kms;1.11.563 in central\n",
      "\tfound com.amazonaws#aws-java-sdk-pinpointsmsvoice;1.11.563 in central\n",
      "\tfound com.amazonaws#aws-java-sdk-pinpointemail;1.11.563 in central\n",
      "\tfound com.amazonaws#aws-java-sdk-chime;1.11.563 in central\n",
      "\tfound com.amazonaws#aws-java-sdk-signer;1.11.563 in central\n",
      "\tfound com.amazonaws#aws-java-sdk-dlm;1.11.563 in central\n",
      "\tfound com.amazonaws#aws-java-sdk-macie;1.11.563 in central\n",
      "\tfound com.amazonaws#aws-java-sdk-eks;1.11.563 in central\n",
      "\tfound com.amazonaws#aws-java-sdk-mediatailor;1.11.563 in central\n",
      "\tfound com.amazonaws#aws-java-sdk-neptune;1.11.563 in central\n",
      "\tfound com.amazonaws#aws-java-sdk-pi;1.11.563 in central\n",
      "\tfound com.amazonaws#aws-java-sdk-iot1clickprojects;1.11.563 in central\n",
      "\tfound com.amazonaws#aws-java-sdk-iot1clickdevices;1.11.563 in central\n",
      "\tfound com.amazonaws#aws-java-sdk-iotanalytics;1.11.563 in central\n",
      "\tfound com.amazonaws#aws-java-sdk-acmpca;1.11.563 in central\n",
      "\tfound com.amazonaws#aws-java-sdk-secretsmanager;1.11.563 in central\n",
      "\tfound com.amazonaws#aws-java-sdk-fms;1.11.563 in central\n",
      "\tfound com.amazonaws#aws-java-sdk-connect;1.11.563 in central\n",
      "\tfound com.amazonaws#aws-java-sdk-transcribe;1.11.563 in central\n",
      "\tfound com.amazonaws#aws-java-sdk-autoscalingplans;1.11.563 in central\n",
      "\tfound com.amazonaws#aws-java-sdk-workmail;1.11.563 in central\n",
      "\tfound com.amazonaws#aws-java-sdk-servicediscovery;1.11.563 in central\n",
      "\tfound com.amazonaws#aws-java-sdk-cloud9;1.11.563 in central\n",
      "\tfound com.amazonaws#aws-java-sdk-serverlessapplicationrepository;1.11.563 in central\n",
      "\tfound com.amazonaws#aws-java-sdk-alexaforbusiness;1.11.563 in central\n",
      "\tfound com.amazonaws#aws-java-sdk-resourcegroups;1.11.563 in central\n",
      "\tfound com.amazonaws#aws-java-sdk-comprehend;1.11.563 in central\n",
      "\tfound com.amazonaws#aws-java-sdk-translate;1.11.563 in central\n",
      "\tfound com.amazonaws#aws-java-sdk-sagemaker;1.11.563 in central\n",
      "\tfound com.amazonaws#aws-java-sdk-iotjobsdataplane;1.11.563 in central\n",
      "\tfound com.amazonaws#aws-java-sdk-sagemakerruntime;1.11.563 in central\n",
      "\tfound com.amazonaws#aws-java-sdk-kinesisvideo;1.11.563 in central\n",
      "\tfound io.netty#netty-codec-http;4.1.17.Final in central\n",
      "\tfound io.netty#netty-codec;4.1.17.Final in central\n",
      "\tfound io.netty#netty-transport;4.1.17.Final in central\n",
      "\tfound io.netty#netty-buffer;4.1.17.Final in central\n",
      "\tfound io.netty#netty-common;4.1.17.Final in central\n",
      "\tfound io.netty#netty-resolver;4.1.17.Final in central\n",
      "\tfound io.netty#netty-handler;4.1.17.Final in central\n",
      "\tfound com.amazonaws#aws-java-sdk-appsync;1.11.563 in central\n",
      "\tfound com.amazonaws#aws-java-sdk-guardduty;1.11.563 in central\n",
      "\tfound com.amazonaws#aws-java-sdk-mq;1.11.563 in central\n",
      "\tfound com.amazonaws#aws-java-sdk-mediaconvert;1.11.563 in central\n",
      "\tfound com.amazonaws#aws-java-sdk-mediastore;1.11.563 in central\n",
      "\tfound com.amazonaws#aws-java-sdk-mediastoredata;1.11.563 in central\n",
      "\tfound com.amazonaws#aws-java-sdk-medialive;1.11.563 in central\n",
      "\tfound com.amazonaws#aws-java-sdk-mediapackage;1.11.563 in central\n",
      "\tfound com.amazonaws#aws-java-sdk-costexplorer;1.11.563 in central\n",
      "\tfound com.amazonaws#aws-java-sdk-pricing;1.11.563 in central\n",
      "\tfound com.amazonaws#aws-java-sdk-mobile;1.11.563 in central\n",
      "\tfound com.amazonaws#aws-java-sdk-cloudhsmv2;1.11.563 in central\n",
      "\tfound com.amazonaws#aws-java-sdk-glue;1.11.563 in central\n",
      "\tfound com.amazonaws#aws-java-sdk-migrationhub;1.11.563 in central\n",
      "\tfound com.amazonaws#aws-java-sdk-dax;1.11.563 in central\n",
      "\tfound com.amazonaws#aws-java-sdk-greengrass;1.11.563 in central\n",
      "\tfound com.amazonaws#aws-java-sdk-athena;1.11.563 in central\n",
      "\tfound com.amazonaws#aws-java-sdk-marketplaceentitlement;1.11.563 in central\n",
      "\tfound com.amazonaws#aws-java-sdk-codestar;1.11.563 in central\n",
      "\tfound com.amazonaws#aws-java-sdk-lexmodelbuilding;1.11.563 in central\n",
      "\tfound com.amazonaws#aws-java-sdk-resourcegroupstaggingapi;1.11.563 in central\n",
      "\tfound com.amazonaws#aws-java-sdk-pinpoint;1.11.563 in central\n",
      "\tfound com.amazonaws#aws-java-sdk-xray;1.11.563 in central\n",
      "\tfound com.amazonaws#aws-java-sdk-opsworkscm;1.11.563 in central\n",
      "\tfound com.amazonaws#aws-java-sdk-support;1.11.563 in central\n",
      "\tfound com.amazonaws#aws-java-sdk-simpledb;1.11.563 in central\n",
      "\tfound com.amazonaws#aws-java-sdk-servicecatalog;1.11.563 in central\n",
      "\tfound com.amazonaws#aws-java-sdk-servermigration;1.11.563 in central\n",
      "\tfound com.amazonaws#aws-java-sdk-simpleworkflow;1.11.563 in central\n",
      "\tfound com.amazonaws#aws-java-sdk-storagegateway;1.11.563 in central\n",
      "\tfound com.amazonaws#aws-java-sdk-route53;1.11.563 in central\n",
      "\tfound com.amazonaws#aws-java-sdk-importexport;1.11.563 in central\n",
      "\tfound com.amazonaws#aws-java-sdk-sts;1.11.563 in central\n",
      "\tfound com.amazonaws#aws-java-sdk-sqs;1.11.563 in central\n",
      "\tfound com.amazonaws#aws-java-sdk-rds;1.11.563 in central\n",
      "\tfound com.amazonaws#aws-java-sdk-redshift;1.11.563 in central\n",
      "\tfound com.amazonaws#aws-java-sdk-elasticbeanstalk;1.11.563 in central\n",
      "\tfound com.amazonaws#aws-java-sdk-glacier;1.11.563 in central\n",
      "\tfound com.amazonaws#aws-java-sdk-sns;1.11.563 in central\n",
      "\tfound com.amazonaws#aws-java-sdk-iam;1.11.563 in central\n",
      "\tfound com.amazonaws#aws-java-sdk-datapipeline;1.11.563 in central\n",
      "\tfound com.amazonaws#aws-java-sdk-elasticloadbalancing;1.11.563 in central\n",
      "\tfound com.amazonaws#aws-java-sdk-elasticloadbalancingv2;1.11.563 in central\n",
      "\tfound com.amazonaws#aws-java-sdk-emr;1.11.563 in central\n"
     ]
    },
    {
     "name": "stderr",
     "output_type": "stream",
     "text": [
      "\tfound com.amazonaws#aws-java-sdk-elasticache;1.11.563 in central\n",
      "\tfound com.amazonaws#aws-java-sdk-elastictranscoder;1.11.563 in central\n",
      "\tfound com.amazonaws#aws-java-sdk-ec2;1.11.563 in central\n",
      "\tfound com.amazonaws#aws-java-sdk-dynamodb;1.11.563 in central\n",
      "\tfound com.amazonaws#aws-java-sdk-budgets;1.11.563 in central\n",
      "\tfound com.amazonaws#aws-java-sdk-cloudtrail;1.11.563 in central\n",
      "\tfound com.amazonaws#aws-java-sdk-cloudwatch;1.11.563 in central\n",
      "\tfound com.amazonaws#aws-java-sdk-logs;1.11.563 in central\n",
      "\tfound com.amazonaws#aws-java-sdk-events;1.11.563 in central\n",
      "\tfound com.amazonaws#aws-java-sdk-cognitoidentity;1.11.563 in central\n",
      "\tfound com.amazonaws#aws-java-sdk-cognitosync;1.11.563 in central\n",
      "\tfound com.amazonaws#aws-java-sdk-directconnect;1.11.563 in central\n",
      "\tfound com.amazonaws#aws-java-sdk-cloudformation;1.11.563 in central\n",
      "\tfound com.amazonaws#aws-java-sdk-cloudfront;1.11.563 in central\n",
      "\tfound com.amazonaws#aws-java-sdk-clouddirectory;1.11.563 in central\n",
      "\tfound com.amazonaws#aws-java-sdk-kinesis;1.11.563 in central\n",
      "\tfound com.amazonaws#aws-java-sdk-opsworks;1.11.563 in central\n",
      "\tfound com.amazonaws#aws-java-sdk-ses;1.11.563 in central\n",
      "\tfound com.amazonaws#aws-java-sdk-autoscaling;1.11.563 in central\n",
      "\tfound com.amazonaws#aws-java-sdk-cloudsearch;1.11.563 in central\n",
      "\tfound com.amazonaws#aws-java-sdk-cloudwatchmetrics;1.11.563 in central\n",
      "\tfound com.amazonaws#aws-java-sdk-codedeploy;1.11.563 in central\n",
      "\tfound com.amazonaws#aws-java-sdk-codepipeline;1.11.563 in central\n",
      "\tfound com.amazonaws#aws-java-sdk-config;1.11.563 in central\n",
      "\tfound com.amazonaws#aws-java-sdk-lambda;1.11.563 in central\n",
      "\tfound com.amazonaws#aws-java-sdk-ecs;1.11.563 in central\n",
      "\tfound com.amazonaws#aws-java-sdk-ecr;1.11.563 in central\n",
      "\tfound com.amazonaws#aws-java-sdk-cloudhsm;1.11.563 in central\n",
      "\tfound com.amazonaws#aws-java-sdk-ssm;1.11.563 in central\n",
      "\tfound com.amazonaws#aws-java-sdk-workspaces;1.11.563 in central\n",
      "\tfound com.amazonaws#aws-java-sdk-machinelearning;1.11.563 in central\n",
      "\tfound com.amazonaws#aws-java-sdk-directory;1.11.563 in central\n",
      "\tfound com.amazonaws#aws-java-sdk-efs;1.11.563 in central\n",
      "\tfound com.amazonaws#aws-java-sdk-codecommit;1.11.563 in central\n",
      "\tfound com.amazonaws#aws-java-sdk-devicefarm;1.11.563 in central\n",
      "\tfound com.amazonaws#aws-java-sdk-elasticsearch;1.11.563 in central\n",
      "\tfound com.amazonaws#aws-java-sdk-waf;1.11.563 in central\n",
      "\tfound com.amazonaws#aws-java-sdk-marketplacecommerceanalytics;1.11.563 in central\n",
      "\tfound com.amazonaws#aws-java-sdk-inspector;1.11.563 in central\n",
      "\tfound com.amazonaws#aws-java-sdk-iot;1.11.563 in central\n",
      "\tfound com.amazonaws#aws-java-sdk-api-gateway;1.11.563 in central\n",
      "\tfound com.amazonaws#aws-java-sdk-acm;1.11.563 in central\n",
      "\tfound com.amazonaws#aws-java-sdk-gamelift;1.11.563 in central\n",
      "\tfound com.amazonaws#aws-java-sdk-dms;1.11.563 in central\n",
      "\tfound com.amazonaws#aws-java-sdk-marketplacemeteringservice;1.11.563 in central\n",
      "\tfound com.amazonaws#aws-java-sdk-cognitoidp;1.11.563 in central\n",
      "\tfound com.amazonaws#aws-java-sdk-discovery;1.11.563 in central\n",
      "\tfound com.amazonaws#aws-java-sdk-applicationautoscaling;1.11.563 in central\n",
      "\tfound com.amazonaws#aws-java-sdk-snowball;1.11.563 in central\n",
      "\tfound com.amazonaws#aws-java-sdk-rekognition;1.11.563 in central\n",
      "\tfound com.amazonaws#aws-java-sdk-polly;1.11.563 in central\n",
      "\tfound com.amazonaws#aws-java-sdk-lightsail;1.11.563 in central\n",
      "\tfound com.amazonaws#aws-java-sdk-stepfunctions;1.11.563 in central\n",
      "\tfound com.amazonaws#aws-java-sdk-health;1.11.563 in central\n",
      "\tfound com.amazonaws#aws-java-sdk-costandusagereport;1.11.563 in central\n",
      "\tfound com.amazonaws#aws-java-sdk-codebuild;1.11.563 in central\n",
      "\tfound com.amazonaws#aws-java-sdk-appstream;1.11.563 in central\n",
      "\tfound com.amazonaws#aws-java-sdk-shield;1.11.563 in central\n",
      "\tfound com.amazonaws#aws-java-sdk-batch;1.11.563 in central\n",
      "\tfound com.amazonaws#aws-java-sdk-lex;1.11.563 in central\n",
      "\tfound com.amazonaws#aws-java-sdk-mechanicalturkrequester;1.11.563 in central\n",
      "\tfound com.amazonaws#aws-java-sdk-organizations;1.11.563 in central\n",
      "\tfound com.amazonaws#aws-java-sdk-workdocs;1.11.563 in central\n",
      "\tfound com.amazonaws#aws-java-sdk-models;1.11.563 in central\n",
      "\tfound com.amazonaws#aws-java-sdk-swf-libraries;1.11.22 in central\n",
      "\tfound org.apache.hadoop#hadoop-aws;3.2.2 in central\n",
      "\tfound com.amazonaws#aws-java-sdk-bundle;1.11.563 in central\n",
      ":: resolution report :: resolve 5930ms :: artifacts dl 205ms\n",
      "\t:: modules in use:\n",
      "\tcom.amazonaws#aws-java-sdk;1.11.563 from central in [default]\n",
      "\tcom.amazonaws#aws-java-sdk-acm;1.11.563 from central in [default]\n",
      "\tcom.amazonaws#aws-java-sdk-acmpca;1.11.563 from central in [default]\n",
      "\tcom.amazonaws#aws-java-sdk-alexaforbusiness;1.11.563 from central in [default]\n",
      "\tcom.amazonaws#aws-java-sdk-amplify;1.11.563 from central in [default]\n",
      "\tcom.amazonaws#aws-java-sdk-api-gateway;1.11.563 from central in [default]\n",
      "\tcom.amazonaws#aws-java-sdk-apigatewaymanagementapi;1.11.563 from central in [default]\n",
      "\tcom.amazonaws#aws-java-sdk-apigatewayv2;1.11.563 from central in [default]\n",
      "\tcom.amazonaws#aws-java-sdk-applicationautoscaling;1.11.563 from central in [default]\n",
      "\tcom.amazonaws#aws-java-sdk-appmesh;1.11.563 from central in [default]\n",
      "\tcom.amazonaws#aws-java-sdk-appstream;1.11.563 from central in [default]\n",
      "\tcom.amazonaws#aws-java-sdk-appsync;1.11.563 from central in [default]\n",
      "\tcom.amazonaws#aws-java-sdk-athena;1.11.563 from central in [default]\n",
      "\tcom.amazonaws#aws-java-sdk-autoscaling;1.11.563 from central in [default]\n",
      "\tcom.amazonaws#aws-java-sdk-autoscalingplans;1.11.563 from central in [default]\n",
      "\tcom.amazonaws#aws-java-sdk-backup;1.11.563 from central in [default]\n",
      "\tcom.amazonaws#aws-java-sdk-batch;1.11.563 from central in [default]\n",
      "\tcom.amazonaws#aws-java-sdk-budgets;1.11.563 from central in [default]\n",
      "\tcom.amazonaws#aws-java-sdk-bundle;1.11.563 from central in [default]\n",
      "\tcom.amazonaws#aws-java-sdk-chime;1.11.563 from central in [default]\n",
      "\tcom.amazonaws#aws-java-sdk-cloud9;1.11.563 from central in [default]\n",
      "\tcom.amazonaws#aws-java-sdk-clouddirectory;1.11.563 from central in [default]\n",
      "\tcom.amazonaws#aws-java-sdk-cloudformation;1.11.563 from central in [default]\n",
      "\tcom.amazonaws#aws-java-sdk-cloudfront;1.11.563 from central in [default]\n",
      "\tcom.amazonaws#aws-java-sdk-cloudhsm;1.11.563 from central in [default]\n",
      "\tcom.amazonaws#aws-java-sdk-cloudhsmv2;1.11.563 from central in [default]\n",
      "\tcom.amazonaws#aws-java-sdk-cloudsearch;1.11.563 from central in [default]\n",
      "\tcom.amazonaws#aws-java-sdk-cloudtrail;1.11.563 from central in [default]\n",
      "\tcom.amazonaws#aws-java-sdk-cloudwatch;1.11.563 from central in [default]\n",
      "\tcom.amazonaws#aws-java-sdk-cloudwatchmetrics;1.11.563 from central in [default]\n",
      "\tcom.amazonaws#aws-java-sdk-codebuild;1.11.563 from central in [default]\n",
      "\tcom.amazonaws#aws-java-sdk-codecommit;1.11.563 from central in [default]\n",
      "\tcom.amazonaws#aws-java-sdk-codedeploy;1.11.563 from central in [default]\n",
      "\tcom.amazonaws#aws-java-sdk-codepipeline;1.11.563 from central in [default]\n",
      "\tcom.amazonaws#aws-java-sdk-codestar;1.11.563 from central in [default]\n",
      "\tcom.amazonaws#aws-java-sdk-cognitoidentity;1.11.563 from central in [default]\n",
      "\tcom.amazonaws#aws-java-sdk-cognitoidp;1.11.563 from central in [default]\n",
      "\tcom.amazonaws#aws-java-sdk-cognitosync;1.11.563 from central in [default]\n",
      "\tcom.amazonaws#aws-java-sdk-comprehend;1.11.563 from central in [default]\n",
      "\tcom.amazonaws#aws-java-sdk-comprehendmedical;1.11.563 from central in [default]\n",
      "\tcom.amazonaws#aws-java-sdk-config;1.11.563 from central in [default]\n",
      "\tcom.amazonaws#aws-java-sdk-connect;1.11.563 from central in [default]\n",
      "\tcom.amazonaws#aws-java-sdk-core;1.11.563 from central in [default]\n",
      "\tcom.amazonaws#aws-java-sdk-costandusagereport;1.11.563 from central in [default]\n",
      "\tcom.amazonaws#aws-java-sdk-costexplorer;1.11.563 from central in [default]\n",
      "\tcom.amazonaws#aws-java-sdk-datapipeline;1.11.563 from central in [default]\n",
      "\tcom.amazonaws#aws-java-sdk-datasync;1.11.563 from central in [default]\n",
      "\tcom.amazonaws#aws-java-sdk-dax;1.11.563 from central in [default]\n",
      "\tcom.amazonaws#aws-java-sdk-devicefarm;1.11.563 from central in [default]\n",
      "\tcom.amazonaws#aws-java-sdk-directconnect;1.11.563 from central in [default]\n",
      "\tcom.amazonaws#aws-java-sdk-directory;1.11.563 from central in [default]\n",
      "\tcom.amazonaws#aws-java-sdk-discovery;1.11.563 from central in [default]\n",
      "\tcom.amazonaws#aws-java-sdk-dlm;1.11.563 from central in [default]\n",
      "\tcom.amazonaws#aws-java-sdk-dms;1.11.563 from central in [default]\n",
      "\tcom.amazonaws#aws-java-sdk-docdb;1.11.563 from central in [default]\n",
      "\tcom.amazonaws#aws-java-sdk-dynamodb;1.11.563 from central in [default]\n",
      "\tcom.amazonaws#aws-java-sdk-ec2;1.11.563 from central in [default]\n",
      "\tcom.amazonaws#aws-java-sdk-ecr;1.11.563 from central in [default]\n",
      "\tcom.amazonaws#aws-java-sdk-ecs;1.11.563 from central in [default]\n",
      "\tcom.amazonaws#aws-java-sdk-efs;1.11.563 from central in [default]\n",
      "\tcom.amazonaws#aws-java-sdk-eks;1.11.563 from central in [default]\n",
      "\tcom.amazonaws#aws-java-sdk-elasticache;1.11.563 from central in [default]\n",
      "\tcom.amazonaws#aws-java-sdk-elasticbeanstalk;1.11.563 from central in [default]\n",
      "\tcom.amazonaws#aws-java-sdk-elasticloadbalancing;1.11.563 from central in [default]\n",
      "\tcom.amazonaws#aws-java-sdk-elasticloadbalancingv2;1.11.563 from central in [default]\n",
      "\tcom.amazonaws#aws-java-sdk-elasticsearch;1.11.563 from central in [default]\n",
      "\tcom.amazonaws#aws-java-sdk-elastictranscoder;1.11.563 from central in [default]\n",
      "\tcom.amazonaws#aws-java-sdk-emr;1.11.563 from central in [default]\n",
      "\tcom.amazonaws#aws-java-sdk-events;1.11.563 from central in [default]\n",
      "\tcom.amazonaws#aws-java-sdk-fms;1.11.563 from central in [default]\n",
      "\tcom.amazonaws#aws-java-sdk-fsx;1.11.563 from central in [default]\n",
      "\tcom.amazonaws#aws-java-sdk-gamelift;1.11.563 from central in [default]\n",
      "\tcom.amazonaws#aws-java-sdk-glacier;1.11.563 from central in [default]\n",
      "\tcom.amazonaws#aws-java-sdk-globalaccelerator;1.11.563 from central in [default]\n",
      "\tcom.amazonaws#aws-java-sdk-glue;1.11.563 from central in [default]\n",
      "\tcom.amazonaws#aws-java-sdk-greengrass;1.11.563 from central in [default]\n",
      "\tcom.amazonaws#aws-java-sdk-groundstation;1.11.563 from central in [default]\n",
      "\tcom.amazonaws#aws-java-sdk-guardduty;1.11.563 from central in [default]\n",
      "\tcom.amazonaws#aws-java-sdk-health;1.11.563 from central in [default]\n",
      "\tcom.amazonaws#aws-java-sdk-iam;1.11.563 from central in [default]\n",
      "\tcom.amazonaws#aws-java-sdk-importexport;1.11.563 from central in [default]\n",
      "\tcom.amazonaws#aws-java-sdk-inspector;1.11.563 from central in [default]\n",
      "\tcom.amazonaws#aws-java-sdk-iot;1.11.563 from central in [default]\n",
      "\tcom.amazonaws#aws-java-sdk-iot1clickdevices;1.11.563 from central in [default]\n",
      "\tcom.amazonaws#aws-java-sdk-iot1clickprojects;1.11.563 from central in [default]\n",
      "\tcom.amazonaws#aws-java-sdk-iotanalytics;1.11.563 from central in [default]\n",
      "\tcom.amazonaws#aws-java-sdk-iotevents;1.11.563 from central in [default]\n",
      "\tcom.amazonaws#aws-java-sdk-ioteventsdata;1.11.563 from central in [default]\n",
      "\tcom.amazonaws#aws-java-sdk-iotjobsdataplane;1.11.563 from central in [default]\n",
      "\tcom.amazonaws#aws-java-sdk-iotthingsgraph;1.11.563 from central in [default]\n",
      "\tcom.amazonaws#aws-java-sdk-kafka;1.11.563 from central in [default]\n",
      "\tcom.amazonaws#aws-java-sdk-kinesis;1.11.563 from central in [default]\n",
      "\tcom.amazonaws#aws-java-sdk-kinesisanalyticsv2;1.11.563 from central in [default]\n",
      "\tcom.amazonaws#aws-java-sdk-kinesisvideo;1.11.563 from central in [default]\n",
      "\tcom.amazonaws#aws-java-sdk-kms;1.11.563 from central in [default]\n",
      "\tcom.amazonaws#aws-java-sdk-lambda;1.11.563 from central in [default]\n",
      "\tcom.amazonaws#aws-java-sdk-lex;1.11.563 from central in [default]\n",
      "\tcom.amazonaws#aws-java-sdk-lexmodelbuilding;1.11.563 from central in [default]\n",
      "\tcom.amazonaws#aws-java-sdk-licensemanager;1.11.563 from central in [default]\n",
      "\tcom.amazonaws#aws-java-sdk-lightsail;1.11.563 from central in [default]\n",
      "\tcom.amazonaws#aws-java-sdk-logs;1.11.563 from central in [default]\n",
      "\tcom.amazonaws#aws-java-sdk-machinelearning;1.11.563 from central in [default]\n",
      "\tcom.amazonaws#aws-java-sdk-macie;1.11.563 from central in [default]\n",
      "\tcom.amazonaws#aws-java-sdk-managedblockchain;1.11.563 from central in [default]\n",
      "\tcom.amazonaws#aws-java-sdk-marketplacecommerceanalytics;1.11.563 from central in [default]\n",
      "\tcom.amazonaws#aws-java-sdk-marketplaceentitlement;1.11.563 from central in [default]\n",
      "\tcom.amazonaws#aws-java-sdk-marketplacemeteringservice;1.11.563 from central in [default]\n",
      "\tcom.amazonaws#aws-java-sdk-mechanicalturkrequester;1.11.563 from central in [default]\n",
      "\tcom.amazonaws#aws-java-sdk-mediaconnect;1.11.563 from central in [default]\n",
      "\tcom.amazonaws#aws-java-sdk-mediaconvert;1.11.563 from central in [default]\n",
      "\tcom.amazonaws#aws-java-sdk-medialive;1.11.563 from central in [default]\n",
      "\tcom.amazonaws#aws-java-sdk-mediapackage;1.11.563 from central in [default]\n",
      "\tcom.amazonaws#aws-java-sdk-mediapackagevod;1.11.563 from central in [default]\n",
      "\tcom.amazonaws#aws-java-sdk-mediastore;1.11.563 from central in [default]\n",
      "\tcom.amazonaws#aws-java-sdk-mediastoredata;1.11.563 from central in [default]\n",
      "\tcom.amazonaws#aws-java-sdk-mediatailor;1.11.563 from central in [default]\n",
      "\tcom.amazonaws#aws-java-sdk-migrationhub;1.11.563 from central in [default]\n",
      "\tcom.amazonaws#aws-java-sdk-mobile;1.11.563 from central in [default]\n",
      "\tcom.amazonaws#aws-java-sdk-models;1.11.563 from central in [default]\n",
      "\tcom.amazonaws#aws-java-sdk-mq;1.11.563 from central in [default]\n",
      "\tcom.amazonaws#aws-java-sdk-neptune;1.11.563 from central in [default]\n",
      "\tcom.amazonaws#aws-java-sdk-opsworks;1.11.563 from central in [default]\n",
      "\tcom.amazonaws#aws-java-sdk-opsworkscm;1.11.563 from central in [default]\n",
      "\tcom.amazonaws#aws-java-sdk-organizations;1.11.563 from central in [default]\n",
      "\tcom.amazonaws#aws-java-sdk-pi;1.11.563 from central in [default]\n",
      "\tcom.amazonaws#aws-java-sdk-pinpoint;1.11.563 from central in [default]\n",
      "\tcom.amazonaws#aws-java-sdk-pinpointemail;1.11.563 from central in [default]\n",
      "\tcom.amazonaws#aws-java-sdk-pinpointsmsvoice;1.11.563 from central in [default]\n",
      "\tcom.amazonaws#aws-java-sdk-polly;1.11.563 from central in [default]\n",
      "\tcom.amazonaws#aws-java-sdk-pricing;1.11.563 from central in [default]\n",
      "\tcom.amazonaws#aws-java-sdk-quicksight;1.11.563 from central in [default]\n",
      "\tcom.amazonaws#aws-java-sdk-ram;1.11.563 from central in [default]\n",
      "\tcom.amazonaws#aws-java-sdk-rds;1.11.563 from central in [default]\n",
      "\tcom.amazonaws#aws-java-sdk-rdsdata;1.11.563 from central in [default]\n",
      "\tcom.amazonaws#aws-java-sdk-redshift;1.11.563 from central in [default]\n",
      "\tcom.amazonaws#aws-java-sdk-rekognition;1.11.563 from central in [default]\n",
      "\tcom.amazonaws#aws-java-sdk-resourcegroups;1.11.563 from central in [default]\n",
      "\tcom.amazonaws#aws-java-sdk-resourcegroupstaggingapi;1.11.563 from central in [default]\n",
      "\tcom.amazonaws#aws-java-sdk-robomaker;1.11.563 from central in [default]\n",
      "\tcom.amazonaws#aws-java-sdk-route53;1.11.563 from central in [default]\n",
      "\tcom.amazonaws#aws-java-sdk-route53resolver;1.11.563 from central in [default]\n",
      "\tcom.amazonaws#aws-java-sdk-s3;1.11.563 from central in [default]\n",
      "\tcom.amazonaws#aws-java-sdk-s3control;1.11.563 from central in [default]\n",
      "\tcom.amazonaws#aws-java-sdk-sagemaker;1.11.563 from central in [default]\n",
      "\tcom.amazonaws#aws-java-sdk-sagemakerruntime;1.11.563 from central in [default]\n",
      "\tcom.amazonaws#aws-java-sdk-secretsmanager;1.11.563 from central in [default]\n",
      "\tcom.amazonaws#aws-java-sdk-securityhub;1.11.563 from central in [default]\n",
      "\tcom.amazonaws#aws-java-sdk-serverlessapplicationrepository;1.11.563 from central in [default]\n",
      "\tcom.amazonaws#aws-java-sdk-servermigration;1.11.563 from central in [default]\n",
      "\tcom.amazonaws#aws-java-sdk-servicecatalog;1.11.563 from central in [default]\n",
      "\tcom.amazonaws#aws-java-sdk-servicediscovery;1.11.563 from central in [default]\n",
      "\tcom.amazonaws#aws-java-sdk-ses;1.11.563 from central in [default]\n",
      "\tcom.amazonaws#aws-java-sdk-shield;1.11.563 from central in [default]\n",
      "\tcom.amazonaws#aws-java-sdk-signer;1.11.563 from central in [default]\n",
      "\tcom.amazonaws#aws-java-sdk-simpledb;1.11.563 from central in [default]\n",
      "\tcom.amazonaws#aws-java-sdk-simpleworkflow;1.11.563 from central in [default]\n",
      "\tcom.amazonaws#aws-java-sdk-snowball;1.11.563 from central in [default]\n",
      "\tcom.amazonaws#aws-java-sdk-sns;1.11.563 from central in [default]\n",
      "\tcom.amazonaws#aws-java-sdk-sqs;1.11.563 from central in [default]\n",
      "\tcom.amazonaws#aws-java-sdk-ssm;1.11.563 from central in [default]\n",
      "\tcom.amazonaws#aws-java-sdk-stepfunctions;1.11.563 from central in [default]\n",
      "\tcom.amazonaws#aws-java-sdk-storagegateway;1.11.563 from central in [default]\n",
      "\tcom.amazonaws#aws-java-sdk-sts;1.11.563 from central in [default]\n",
      "\tcom.amazonaws#aws-java-sdk-support;1.11.563 from central in [default]\n",
      "\tcom.amazonaws#aws-java-sdk-swf-libraries;1.11.22 from central in [default]\n",
      "\tcom.amazonaws#aws-java-sdk-textract;1.11.563 from central in [default]\n",
      "\tcom.amazonaws#aws-java-sdk-transcribe;1.11.563 from central in [default]\n",
      "\tcom.amazonaws#aws-java-sdk-transfer;1.11.563 from central in [default]\n",
      "\tcom.amazonaws#aws-java-sdk-translate;1.11.563 from central in [default]\n",
      "\tcom.amazonaws#aws-java-sdk-waf;1.11.563 from central in [default]\n",
      "\tcom.amazonaws#aws-java-sdk-workdocs;1.11.563 from central in [default]\n",
      "\tcom.amazonaws#aws-java-sdk-worklink;1.11.563 from central in [default]\n",
      "\tcom.amazonaws#aws-java-sdk-workmail;1.11.563 from central in [default]\n",
      "\tcom.amazonaws#aws-java-sdk-workspaces;1.11.563 from central in [default]\n",
      "\tcom.amazonaws#aws-java-sdk-xray;1.11.563 from central in [default]\n",
      "\tcom.amazonaws#jmespath-java;1.11.563 from central in [default]\n",
      "\tcom.fasterxml.jackson.core#jackson-annotations;2.6.0 from central in [default]\n",
      "\tcom.fasterxml.jackson.core#jackson-core;2.6.7 from central in [default]\n",
      "\tcom.fasterxml.jackson.core#jackson-databind;2.6.7.2 from central in [default]\n",
      "\tcom.fasterxml.jackson.dataformat#jackson-dataformat-cbor;2.6.7 from central in [default]\n",
      "\tcommons-codec#commons-codec;1.10 from central in [default]\n",
      "\tcommons-logging#commons-logging;1.1.3 from central in [default]\n",
      "\tio.netty#netty-buffer;4.1.17.Final from central in [default]\n",
      "\tio.netty#netty-codec;4.1.17.Final from central in [default]\n",
      "\tio.netty#netty-codec-http;4.1.17.Final from central in [default]\n",
      "\tio.netty#netty-common;4.1.17.Final from central in [default]\n",
      "\tio.netty#netty-handler;4.1.17.Final from central in [default]\n",
      "\tio.netty#netty-resolver;4.1.17.Final from central in [default]\n",
      "\tio.netty#netty-transport;4.1.17.Final from central in [default]\n",
      "\tjoda-time#joda-time;2.8.1 from central in [default]\n",
      "\torg.apache.hadoop#hadoop-aws;3.2.2 from central in [default]\n",
      "\torg.apache.httpcomponents#httpclient;4.5.5 from central in [default]\n",
      "\torg.apache.httpcomponents#httpcore;4.4.9 from central in [default]\n",
      "\tsoftware.amazon.ion#ion-java;1.0.2 from central in [default]\n",
      "\t:: evicted modules:\n",
      "\tcommons-logging#commons-logging;1.2 by [commons-logging#commons-logging;1.1.3] in [default]\n",
      "\tcom.amazonaws#aws-java-sdk-simpleworkflow;1.11.22 by [com.amazonaws#aws-java-sdk-simpleworkflow;1.11.563] in [default]\n",
      "\t---------------------------------------------------------------------\n",
      "\t|                  |            modules            ||   artifacts   |\n",
      "\t|       conf       | number| search|dwnlded|evicted|| number|dwnlded|\n",
      "\t---------------------------------------------------------------------\n",
      "\t|      default     |  196  |   0   |   0   |   2   ||  194  |   0   |\n",
      "\t---------------------------------------------------------------------\n",
      ":: retrieving :: org.apache.spark#spark-submit-parent-01938296-b81f-44f4-8050-15734dfd4420\n",
      "\tconfs: [default]\n",
      "\t0 artifacts copied, 194 already retrieved (0kB/49ms)\n"
     ]
    },
    {
     "name": "stderr",
     "output_type": "stream",
     "text": [
      "22/03/07 16:21:28 WARN NativeCodeLoader: Unable to load native-hadoop library for your platform... using builtin-java classes where applicable\n",
      "Using Spark's default log4j profile: org/apache/spark/log4j-defaults.properties\n",
      "Setting default log level to \"WARN\".\n",
      "To adjust logging level use sc.setLogLevel(newLevel). For SparkR, use setLogLevel(newLevel).\n",
      "22/03/07 16:21:30 WARN Utils: Service 'SparkUI' could not bind on port 4040. Attempting port 4041.\n",
      "22/03/07 16:21:30 WARN Utils: Service 'SparkUI' could not bind on port 4041. Attempting port 4042.\n",
      "22/03/07 16:21:30 WARN Utils: Service 'SparkUI' could not bind on port 4042. Attempting port 4043.\n",
      "22/03/07 16:21:30 WARN Utils: Service 'SparkUI' could not bind on port 4043. Attempting port 4044.\n",
      "22/03/07 16:21:30 WARN Utils: Service 'SparkUI' could not bind on port 4044. Attempting port 4045.\n"
     ]
    }
   ],
   "source": [
    "conf = (SparkConf()\n",
    "           .setMaster('local[*]')\n",
    "           .set('spark.jars.packages',\n",
    "                'com.amazonaws:aws-java-sdk:1.11.563,org.apache.hadoop:hadoop-aws:3.2.2')\n",
    "           .set('spark.executor.extraJavaOptions',\n",
    "                '-Dcom.amazonaws.services.s3.enableV4=true')\n",
    "           .set('spark.driver.extraJavaOptions',\n",
    "                '-Dcom.amazonaws.services.s3.enableV4=true')\n",
    "           .set('fs.s3a.aws.credentials.provider',\n",
    "                'com.amazonaws.auth.profile.ProfileCredentialsProvider,'\n",
    "                'org.apache.hadoop.fs.s3a.AnonymousAWSCredentialsProvider'))\n",
    "sc = SparkContext(conf=conf)"
   ]
  },
  {
   "cell_type": "code",
   "execution_count": 5,
   "metadata": {
    "ExecuteTime": {
     "end_time": "2022-03-07T08:21:41.808469Z",
     "start_time": "2022-03-07T08:21:41.652447Z"
    }
   },
   "outputs": [],
   "source": [
    "spark = SparkSession(sc)"
   ]
  },
  {
   "cell_type": "code",
   "execution_count": null,
   "metadata": {},
   "outputs": [],
   "source": []
  },
  {
   "cell_type": "code",
   "execution_count": 6,
   "metadata": {
    "ExecuteTime": {
     "end_time": "2022-03-07T08:21:44.093847Z",
     "start_time": "2022-03-07T08:21:41.810120Z"
    }
   },
   "outputs": [
    {
     "name": "stdout",
     "output_type": "stream",
     "text": [
      "2021-05-05 14:26:24          0 README.md\r\n",
      "2021-05-05 14:26:23          0 index.html\r\n",
      "2021-04-18 13:08:05     525322 test.json\r\n",
      "2021-04-18 13:08:23    5258801 train.json\r\n"
     ]
    }
   ],
   "source": [
    "!aws s3 ls s3://helpful-sentences-from-reviews/"
   ]
  },
  {
   "cell_type": "code",
   "execution_count": null,
   "metadata": {},
   "outputs": [],
   "source": []
  },
  {
   "cell_type": "markdown",
   "metadata": {
    "deletable": false,
    "editable": false,
    "nbgrader": {
     "cell_type": "markdown",
     "checksum": "5cbb60203b58f6c498aa19a988bb7bb4",
     "grade": false,
     "grade_id": "cell-ff4418bfeca441ee",
     "locked": true,
     "schema_version": 3,
     "solution": false,
     "task": false
    }
   },
   "source": [
    "# Problem 2\n",
    "\n",
    "For this problem, you will be working with the [Helpful Sentences from Reviews](https://registry.opendata.aws/helpful-sentences-from-reviews/) training set.\n",
    "\n",
    "You may **only** use Apache Spark and the Python Standard Library. You **cannot** use numpy, scipy, pandas or scikit-learn. Do **not** print or display large amount of results. You will get deductions if you make the browser unresponsive."
   ]
  },
  {
   "cell_type": "markdown",
   "metadata": {
    "deletable": false,
    "editable": false,
    "nbgrader": {
     "cell_type": "markdown",
     "checksum": "70f9473c1eb197f55daf359d997f185a",
     "grade": false,
     "grade_id": "cell-bb74da5486632326",
     "locked": true,
     "schema_version": 3,
     "solution": false,
     "task": false
    }
   },
   "source": [
    "## Problem 2a [10 pts]\n",
    "\n",
    "Create a function `count_ratings` that reads `train.json` and returns a Spark DataFrame with columns `rating`, which is the `helpful` value rounded to one decimal place, and `count`, the number of sentences with that rating. Sort by `rating`."
   ]
  },
  {
   "cell_type": "markdown",
   "metadata": {},
   "source": [
    "**correction: business rounding dapat**"
   ]
  },
  {
   "cell_type": "code",
   "execution_count": 7,
   "metadata": {
    "ExecuteTime": {
     "end_time": "2022-03-07T08:21:44.124196Z",
     "start_time": "2022-03-07T08:21:44.095898Z"
    }
   },
   "outputs": [],
   "source": [
    "import pyspark.sql.functions as f"
   ]
  },
  {
   "cell_type": "code",
   "execution_count": 8,
   "metadata": {
    "ExecuteTime": {
     "end_time": "2022-03-07T08:21:44.152422Z",
     "start_time": "2022-03-07T08:21:44.125835Z"
    }
   },
   "outputs": [],
   "source": [
    "from decimal import Decimal\n",
    "\n",
    "\n",
    "\n",
    "# df = spark.read.json('s3a://helpful-sentences-from-reviews/train.json')\n",
    "# (df\n",
    "#  .withColumn('rating', f.udf(lambda x:float(Decimal(str(x)).quantize(Decimal('1.0'))))(f.col('helpful')))\n",
    "#  .groupBy('rating')\n",
    "#  .count()\n",
    "#  .orderBy('rating')\n",
    "#  .limit(10)\n",
    " \n",
    "#  .toPandas()\n",
    "# )"
   ]
  },
  {
   "cell_type": "code",
   "execution_count": 9,
   "metadata": {
    "ExecuteTime": {
     "end_time": "2022-03-07T08:21:44.157244Z",
     "start_time": "2022-03-07T08:21:44.154100Z"
    }
   },
   "outputs": [],
   "source": [
    "# df = spark.read.json()"
   ]
  },
  {
   "cell_type": "code",
   "execution_count": 10,
   "metadata": {
    "ExecuteTime": {
     "end_time": "2022-03-07T08:21:44.164541Z",
     "start_time": "2022-03-07T08:21:44.160729Z"
    }
   },
   "outputs": [],
   "source": [
    "from pyspark.sql.functions import udf\n",
    "@udf\n",
    "def b_round(x):\n",
    "    import decimal as d\n",
    "    return (d.Decimal(str(x)).quantize(d.Decimal('1.0')))"
   ]
  },
  {
   "cell_type": "code",
   "execution_count": 11,
   "metadata": {
    "ExecuteTime": {
     "end_time": "2022-03-07T08:21:44.170869Z",
     "start_time": "2022-03-07T08:21:44.166594Z"
    },
    "deletable": false,
    "nbgrader": {
     "cell_type": "code",
     "checksum": "456a035cf36a289605d651e385782611",
     "grade": false,
     "grade_id": "cell-5098bd4de40d844d",
     "locked": false,
     "schema_version": 3,
     "solution": true,
     "task": false
    }
   },
   "outputs": [],
   "source": [
    "def count_ratings():\n",
    "    from pyspark.sql.types import FloatType\n",
    "    return (spark.read.json('s3a://helpful-sentences-from-reviews/train.json')\n",
    "            \n",
    " .withColumn('rating', f.round(b_round(f.col('helpful')), 1))\n",
    " .groupBy('rating')\n",
    " .count()\n",
    "#  .withColumn('rating', f.udf(lambda x: x*1.0)(f.col('rating').cast('float')))\n",
    " .orderBy('rating')\n",
    "           )"
   ]
  },
  {
   "cell_type": "code",
   "execution_count": 12,
   "metadata": {
    "ExecuteTime": {
     "end_time": "2022-03-07T08:22:13.032972Z",
     "start_time": "2022-03-07T08:21:44.172695Z"
    },
    "deletable": false,
    "editable": false,
    "nbgrader": {
     "cell_type": "code",
     "checksum": "88852a3ec40f89feedf65e098d7535d0",
     "grade": true,
     "grade_id": "cell-2095fd1c2996b071",
     "locked": true,
     "points": 10,
     "schema_version": 3,
     "solution": false,
     "task": false
    }
   },
   "outputs": [
    {
     "name": "stderr",
     "output_type": "stream",
     "text": [
      "22/03/07 16:21:45 WARN MetricsConfig: Cannot locate configuration: tried hadoop-metrics2-s3a-file-system.properties,hadoop-metrics2.properties\n",
      "                                                                                \r"
     ]
    }
   ],
   "source": [
    "pdf_ratings_count = count_ratings().toPandas()\n",
    "assert_equal(len(pdf_ratings_count), 21)\n",
    "assert_equal(pdf_ratings_count.columns.tolist(), ['rating', 'count'])\n",
    "assert_equal(\n",
    "    pdf_ratings_count.iloc[:10].to_numpy().tolist(),\n",
    "    [[0.0, 37.0],\n",
    "     [0.1, 91.0],\n",
    "     [0.2, 188.0],\n",
    "     [0.3, 272.0],\n",
    "     [0.4, 452.0],\n",
    "     [0.5, 615.0],\n",
    "     [0.6, 797.0],\n",
    "     [0.7, 970.0],\n",
    "     [0.8, 1122.0],\n",
    "     [0.9, 1376.0]]\n",
    ")"
   ]
  },
  {
   "cell_type": "markdown",
   "metadata": {
    "deletable": false,
    "editable": false,
    "nbgrader": {
     "cell_type": "markdown",
     "checksum": "0d9ccf8de6713be8da1c02d215737645",
     "grade": false,
     "grade_id": "cell-a2905e79b1d436e0",
     "locked": true,
     "points": 15,
     "schema_version": 3,
     "solution": false,
     "task": true
    }
   },
   "source": [
    "## Problem 2b [15 pts]\n",
    "\n",
    "Cluster the sentences by their `sentence` text using k-means. You may preprocess it however you want. Select the optimal number of clusters using silhouette coefficient. Make sure that the steps that you are doing are sufficiently documented, and the final model and number of clusters are explicit."
   ]
  },
  {
   "cell_type": "code",
   "execution_count": 13,
   "metadata": {
    "ExecuteTime": {
     "end_time": "2022-03-07T08:22:18.488229Z",
     "start_time": "2022-03-07T08:22:13.034800Z"
    }
   },
   "outputs": [
    {
     "name": "stderr",
     "output_type": "stream",
     "text": [
      "                                                                                \r"
     ]
    },
    {
     "data": {
      "text/html": [
       "<div>\n",
       "<style scoped>\n",
       "    .dataframe tbody tr th:only-of-type {\n",
       "        vertical-align: middle;\n",
       "    }\n",
       "\n",
       "    .dataframe tbody tr th {\n",
       "        vertical-align: top;\n",
       "    }\n",
       "\n",
       "    .dataframe thead th {\n",
       "        text-align: right;\n",
       "    }\n",
       "</style>\n",
       "<table border=\"1\" class=\"dataframe\">\n",
       "  <thead>\n",
       "    <tr style=\"text-align: right;\">\n",
       "      <th></th>\n",
       "      <th>asin</th>\n",
       "      <th>helpful</th>\n",
       "      <th>main_image_url</th>\n",
       "      <th>product_title</th>\n",
       "      <th>sentence</th>\n",
       "    </tr>\n",
       "  </thead>\n",
       "  <tbody>\n",
       "    <tr>\n",
       "      <th>0</th>\n",
       "      <td>B000AO3L84</td>\n",
       "      <td>1.70</td>\n",
       "      <td>http://ecx.images-amazon.com/images/I/41XAEKR9...</td>\n",
       "      <td>Canon 430EX Speedlite Flash for Canon EOS SLR ...</td>\n",
       "      <td>this flash is a superb value.</td>\n",
       "    </tr>\n",
       "    <tr>\n",
       "      <th>1</th>\n",
       "      <td>B001SEQPGK</td>\n",
       "      <td>1.30</td>\n",
       "      <td>http://ecx.images-amazon.com/images/I/71KLvmtc...</td>\n",
       "      <td>Sony Cyber-shot DSC-W290 12 MP Digital Camera ...</td>\n",
       "      <td>The pictures were not sharp at all.</td>\n",
       "    </tr>\n",
       "    <tr>\n",
       "      <th>2</th>\n",
       "      <td>0553386697</td>\n",
       "      <td>1.90</td>\n",
       "      <td>http://ecx.images-amazon.com/images/I/81HdbmkR...</td>\n",
       "      <td>The Whole-Brain Child: 12 Revolutionary Strate...</td>\n",
       "      <td>A very good resource for parents.</td>\n",
       "    </tr>\n",
       "    <tr>\n",
       "      <th>3</th>\n",
       "      <td>B006SUWZH2</td>\n",
       "      <td>0.25</td>\n",
       "      <td>http://ecx.images-amazon.com/images/I/61A2WQOL...</td>\n",
       "      <td>Memorex Portable CD Boombox with AM FM Radio</td>\n",
       "      <td>We have it in a child's room, and will be swit...</td>\n",
       "    </tr>\n",
       "  </tbody>\n",
       "</table>\n",
       "</div>"
      ],
      "text/plain": [
       "         asin  helpful                                     main_image_url  \\\n",
       "0  B000AO3L84     1.70  http://ecx.images-amazon.com/images/I/41XAEKR9...   \n",
       "1  B001SEQPGK     1.30  http://ecx.images-amazon.com/images/I/71KLvmtc...   \n",
       "2  0553386697     1.90  http://ecx.images-amazon.com/images/I/81HdbmkR...   \n",
       "3  B006SUWZH2     0.25  http://ecx.images-amazon.com/images/I/61A2WQOL...   \n",
       "\n",
       "                                       product_title  \\\n",
       "0  Canon 430EX Speedlite Flash for Canon EOS SLR ...   \n",
       "1  Sony Cyber-shot DSC-W290 12 MP Digital Camera ...   \n",
       "2  The Whole-Brain Child: 12 Revolutionary Strate...   \n",
       "3       Memorex Portable CD Boombox with AM FM Radio   \n",
       "\n",
       "                                            sentence  \n",
       "0                      this flash is a superb value.  \n",
       "1                The pictures were not sharp at all.  \n",
       "2                  A very good resource for parents.  \n",
       "3  We have it in a child's room, and will be swit...  "
      ]
     },
     "execution_count": 13,
     "metadata": {},
     "output_type": "execute_result"
    }
   ],
   "source": [
    "df = spark.read.json('s3a://helpful-sentences-from-reviews/train.json')\n",
    "df.limit(4).toPandas()"
   ]
  },
  {
   "cell_type": "code",
   "execution_count": 14,
   "metadata": {
    "ExecuteTime": {
     "end_time": "2022-03-07T08:22:20.078212Z",
     "start_time": "2022-03-07T08:22:18.489787Z"
    }
   },
   "outputs": [
    {
     "name": "stderr",
     "output_type": "stream",
     "text": [
      "                                                                                \r"
     ]
    },
    {
     "data": {
      "text/html": [
       "<div>\n",
       "<style scoped>\n",
       "    .dataframe tbody tr th:only-of-type {\n",
       "        vertical-align: middle;\n",
       "    }\n",
       "\n",
       "    .dataframe tbody tr th {\n",
       "        vertical-align: top;\n",
       "    }\n",
       "\n",
       "    .dataframe thead th {\n",
       "        text-align: right;\n",
       "    }\n",
       "</style>\n",
       "<table border=\"1\" class=\"dataframe\">\n",
       "  <thead>\n",
       "    <tr style=\"text-align: right;\">\n",
       "      <th></th>\n",
       "      <th>sentence</th>\n",
       "    </tr>\n",
       "  </thead>\n",
       "  <tbody>\n",
       "    <tr>\n",
       "      <th>0</th>\n",
       "      <td>this flash is a superb value.</td>\n",
       "    </tr>\n",
       "    <tr>\n",
       "      <th>1</th>\n",
       "      <td>The pictures were not sharp at all.</td>\n",
       "    </tr>\n",
       "    <tr>\n",
       "      <th>2</th>\n",
       "      <td>A very good resource for parents.</td>\n",
       "    </tr>\n",
       "    <tr>\n",
       "      <th>3</th>\n",
       "      <td>We have it in a child's room, and will be swit...</td>\n",
       "    </tr>\n",
       "  </tbody>\n",
       "</table>\n",
       "</div>"
      ],
      "text/plain": [
       "                                            sentence\n",
       "0                      this flash is a superb value.\n",
       "1                The pictures were not sharp at all.\n",
       "2                  A very good resource for parents.\n",
       "3  We have it in a child's room, and will be swit..."
      ]
     },
     "execution_count": 14,
     "metadata": {},
     "output_type": "execute_result"
    }
   ],
   "source": [
    "df_sen = (df\n",
    " .select('sentence')\n",
    " .dropna()\n",
    ")\n",
    "\n",
    "df_sen.limit(4).toPandas()"
   ]
  },
  {
   "cell_type": "code",
   "execution_count": 15,
   "metadata": {
    "ExecuteTime": {
     "end_time": "2022-03-07T08:22:20.267732Z",
     "start_time": "2022-03-07T08:22:20.079858Z"
    }
   },
   "outputs": [],
   "source": [
    "from pyspark.ml.clustering import KMeans\n",
    "from pyspark.ml.evaluation import ClusteringEvaluator\n",
    "from pyspark.ml.feature import HashingTF, IDF, Tokenizer\n",
    "from pyspark.ml import Pipeline\n"
   ]
  },
  {
   "cell_type": "markdown",
   "metadata": {},
   "source": [
    "perform tfidf"
   ]
  },
  {
   "cell_type": "code",
   "execution_count": 16,
   "metadata": {
    "ExecuteTime": {
     "end_time": "2022-03-07T08:23:00.406844Z",
     "start_time": "2022-03-07T08:22:20.269462Z"
    }
   },
   "outputs": [
    {
     "name": "stderr",
     "output_type": "stream",
     "text": [
      "22/03/07 16:22:42 WARN BLAS: Failed to load implementation from: com.github.fommil.netlib.NativeSystemBLAS\n",
      "22/03/07 16:22:42 WARN BLAS: Failed to load implementation from: com.github.fommil.netlib.NativeRefBLAS\n",
      "                                                                                \r"
     ]
    },
    {
     "data": {
      "text/html": [
       "<div>\n",
       "<style scoped>\n",
       "    .dataframe tbody tr th:only-of-type {\n",
       "        vertical-align: middle;\n",
       "    }\n",
       "\n",
       "    .dataframe tbody tr th {\n",
       "        vertical-align: top;\n",
       "    }\n",
       "\n",
       "    .dataframe thead th {\n",
       "        text-align: right;\n",
       "    }\n",
       "</style>\n",
       "<table border=\"1\" class=\"dataframe\">\n",
       "  <thead>\n",
       "    <tr style=\"text-align: right;\">\n",
       "      <th></th>\n",
       "      <th>sentence</th>\n",
       "      <th>words</th>\n",
       "      <th>rawFeatures</th>\n",
       "      <th>features</th>\n",
       "      <th>prediction</th>\n",
       "    </tr>\n",
       "  </thead>\n",
       "  <tbody>\n",
       "    <tr>\n",
       "      <th>0</th>\n",
       "      <td>this flash is a superb value.</td>\n",
       "      <td>[this, flash, is, a, superb, value.]</td>\n",
       "      <td>(0.0, 0.0, 0.0, 1.0, 0.0, 0.0, 0.0, 1.0, 0.0, ...</td>\n",
       "      <td>(0.0, 0.0, 0.0, 0.7014309842370906, 0.0, 0.0, ...</td>\n",
       "      <td>0</td>\n",
       "    </tr>\n",
       "    <tr>\n",
       "      <th>1</th>\n",
       "      <td>The pictures were not sharp at all.</td>\n",
       "      <td>[the, pictures, were, not, sharp, at, all.]</td>\n",
       "      <td>(0.0, 0.0, 0.0, 0.0, 0.0, 1.0, 0.0, 0.0, 0.0, ...</td>\n",
       "      <td>(0.0, 0.0, 0.0, 0.0, 0.0, 1.5044524483502613, ...</td>\n",
       "      <td>0</td>\n",
       "    </tr>\n",
       "    <tr>\n",
       "      <th>2</th>\n",
       "      <td>A very good resource for parents.</td>\n",
       "      <td>[a, very, good, resource, for, parents.]</td>\n",
       "      <td>(0.0, 0.0, 0.0, 0.0, 1.0, 1.0, 0.0, 1.0, 1.0, ...</td>\n",
       "      <td>(0.0, 0.0, 0.0, 0.0, 1.338888418713637, 1.5044...</td>\n",
       "      <td>0</td>\n",
       "    </tr>\n",
       "    <tr>\n",
       "      <th>3</th>\n",
       "      <td>We have it in a child's room, and will be swit...</td>\n",
       "      <td>[we, have, it, in, a, child's, room,, and, wil...</td>\n",
       "      <td>(1.0, 0.0, 0.0, 0.0, 1.0, 1.0, 0.0, 1.0, 0.0, ...</td>\n",
       "      <td>(0.9746321390013013, 0.0, 0.0, 0.0, 1.33888841...</td>\n",
       "      <td>3</td>\n",
       "    </tr>\n",
       "    <tr>\n",
       "      <th>4</th>\n",
       "      <td>Again the makers are too lazy to bring in the ...</td>\n",
       "      <td>[again, the, makers, are, too, lazy, to, bring...</td>\n",
       "      <td>(0.0, 0.0, 1.0, 1.0, 1.0, 0.0, 0.0, 1.0, 0.0, ...</td>\n",
       "      <td>(0.0, 0.0, 1.6879901393390995, 0.7014309842370...</td>\n",
       "      <td>3</td>\n",
       "    </tr>\n",
       "  </tbody>\n",
       "</table>\n",
       "</div>"
      ],
      "text/plain": [
       "                                            sentence  \\\n",
       "0                      this flash is a superb value.   \n",
       "1                The pictures were not sharp at all.   \n",
       "2                  A very good resource for parents.   \n",
       "3  We have it in a child's room, and will be swit...   \n",
       "4  Again the makers are too lazy to bring in the ...   \n",
       "\n",
       "                                               words  \\\n",
       "0               [this, flash, is, a, superb, value.]   \n",
       "1        [the, pictures, were, not, sharp, at, all.]   \n",
       "2           [a, very, good, resource, for, parents.]   \n",
       "3  [we, have, it, in, a, child's, room,, and, wil...   \n",
       "4  [again, the, makers, are, too, lazy, to, bring...   \n",
       "\n",
       "                                         rawFeatures  \\\n",
       "0  (0.0, 0.0, 0.0, 1.0, 0.0, 0.0, 0.0, 1.0, 0.0, ...   \n",
       "1  (0.0, 0.0, 0.0, 0.0, 0.0, 1.0, 0.0, 0.0, 0.0, ...   \n",
       "2  (0.0, 0.0, 0.0, 0.0, 1.0, 1.0, 0.0, 1.0, 1.0, ...   \n",
       "3  (1.0, 0.0, 0.0, 0.0, 1.0, 1.0, 0.0, 1.0, 0.0, ...   \n",
       "4  (0.0, 0.0, 1.0, 1.0, 1.0, 0.0, 0.0, 1.0, 0.0, ...   \n",
       "\n",
       "                                            features  prediction  \n",
       "0  (0.0, 0.0, 0.0, 0.7014309842370906, 0.0, 0.0, ...           0  \n",
       "1  (0.0, 0.0, 0.0, 0.0, 0.0, 1.5044524483502613, ...           0  \n",
       "2  (0.0, 0.0, 0.0, 0.0, 1.338888418713637, 1.5044...           0  \n",
       "3  (0.9746321390013013, 0.0, 0.0, 0.0, 1.33888841...           3  \n",
       "4  (0.0, 0.0, 1.6879901393390995, 0.7014309842370...           3  "
      ]
     },
     "execution_count": 16,
     "metadata": {},
     "output_type": "execute_result"
    }
   ],
   "source": [
    "tokenizer = Tokenizer(inputCol=\"sentence\", outputCol=\"words\")\n",
    "hashingTF = HashingTF(inputCol=tokenizer.getOutputCol(),outputCol=\"rawFeatures\", numFeatures=30)\n",
    "idf = IDF(inputCol=hashingTF.getOutputCol(), outputCol=\"features\",minDocFreq=5)\n",
    "pipeline = Pipeline(stages=[tokenizer, hashingTF, idf, KMeans(k=8)])\n",
    "\n",
    "transformer = pipeline.fit(df_sen)\n",
    "df_transformed = transformer.transform(df_sen)\n",
    "\n",
    "df_transformed.limit(5).toPandas()"
   ]
  },
  {
   "cell_type": "code",
   "execution_count": 17,
   "metadata": {
    "ExecuteTime": {
     "end_time": "2022-03-07T08:23:00.420567Z",
     "start_time": "2022-03-07T08:23:00.408637Z"
    }
   },
   "outputs": [],
   "source": [
    "evaluator = ClusteringEvaluator()"
   ]
  },
  {
   "cell_type": "markdown",
   "metadata": {},
   "source": [
    "perform CV"
   ]
  },
  {
   "cell_type": "code",
   "execution_count": 18,
   "metadata": {
    "ExecuteTime": {
     "end_time": "2022-03-07T08:25:46.743600Z",
     "start_time": "2022-03-07T08:23:00.422606Z"
    }
   },
   "outputs": [
    {
     "name": "stderr",
     "output_type": "stream",
     "text": [
      "                                                                                \r"
     ]
    }
   ],
   "source": [
    "from pyspark.ml.tuning import CrossValidator, ParamGridBuilder\n",
    "\n",
    "paramGrid = (ParamGridBuilder()\n",
    "                .addGrid(pipeline.getStages()[-1].k, [2,3, 4,5,6,7, 8]) #add grid here specificies the variable you want to change\n",
    "                .build())\n",
    "\n",
    "cv = CrossValidator(estimator=pipeline,\n",
    "                    estimatorParamMaps=paramGrid,\n",
    "                    evaluator=evaluator)\n",
    "\n",
    "cv_trained=cv.fit(df_sen)"
   ]
  },
  {
   "cell_type": "code",
   "execution_count": 19,
   "metadata": {
    "ExecuteTime": {
     "end_time": "2022-03-07T08:25:46.750733Z",
     "start_time": "2022-03-07T08:25:46.745552Z"
    }
   },
   "outputs": [
    {
     "data": {
      "text/plain": [
       "KMeansModel: uid=KMeans_4a94fc0b4758, k=2, distanceMeasure=euclidean, numFeatures=30"
      ]
     },
     "execution_count": 19,
     "metadata": {},
     "output_type": "execute_result"
    }
   ],
   "source": [
    "cv_trained.bestModel.stages[-1]"
   ]
  },
  {
   "cell_type": "code",
   "execution_count": 20,
   "metadata": {
    "ExecuteTime": {
     "end_time": "2022-03-07T08:40:27.634327Z",
     "start_time": "2022-03-07T08:40:27.628507Z"
    }
   },
   "outputs": [
    {
     "data": {
      "text/plain": [
       "'k: The number of clusters to create. Must be > 1. (default: 2, current: 2)'"
      ]
     },
     "execution_count": 20,
     "metadata": {},
     "output_type": "execute_result"
    }
   ],
   "source": [
    "cv_trained.bestModel.stages[-1].explainParam('k')"
   ]
  },
  {
   "cell_type": "markdown",
   "metadata": {},
   "source": [
    "best k is 2. Metric used is silhouette coeff by default."
   ]
  }
 ],
 "metadata": {
  "hide_input": false,
  "kernelspec": {
   "display_name": "Python [conda env:root] *",
   "language": "python",
   "name": "conda-root-py"
  },
  "language_info": {
   "codemirror_mode": {
    "name": "ipython",
    "version": 3
   },
   "file_extension": ".py",
   "mimetype": "text/x-python",
   "name": "python",
   "nbconvert_exporter": "python",
   "pygments_lexer": "ipython3",
   "version": "3.9.6"
  },
  "toc": {
   "base_numbering": 1,
   "nav_menu": {},
   "number_sections": true,
   "sideBar": true,
   "skip_h1_title": false,
   "title_cell": "Table of Contents",
   "title_sidebar": "Contents",
   "toc_cell": false,
   "toc_position": {},
   "toc_section_display": true,
   "toc_window_display": false
  }
 },
 "nbformat": 4,
 "nbformat_minor": 4
}
