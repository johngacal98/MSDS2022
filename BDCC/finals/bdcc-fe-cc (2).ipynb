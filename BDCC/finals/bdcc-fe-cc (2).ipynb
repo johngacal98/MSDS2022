{
 "cells": [
  {
   "cell_type": "code",
   "execution_count": 1,
   "id": "4a578f96-b34e-4e5f-9fa6-93854b7c8231",
   "metadata": {
    "execution": {
     "iopub.execute_input": "2022-03-07T09:16:32.257595Z",
     "iopub.status.busy": "2022-03-07T09:16:32.257374Z",
     "iopub.status.idle": "2022-03-07T09:16:54.891302Z",
     "shell.execute_reply": "2022-03-07T09:16:54.890497Z",
     "shell.execute_reply.started": "2022-03-07T09:16:32.257569Z"
    },
    "tags": []
   },
   "outputs": [
    {
     "data": {
      "application/vnd.jupyter.widget-view+json": {
       "model_id": "aa769d6447e74d6fbeb155956091fb8f",
       "version_major": 2,
       "version_minor": 0
      },
      "text/plain": [
       "VBox()"
      ]
     },
     "metadata": {},
     "output_type": "display_data"
    },
    {
     "name": "stdout",
     "output_type": "stream",
     "text": [
      "Starting Spark application\n"
     ]
    },
    {
     "data": {
      "text/html": [
       "<table>\n",
       "<tr><th>ID</th><th>YARN Application ID</th><th>Kind</th><th>State</th><th>Spark UI</th><th>Driver log</th><th>Current session?</th></tr><tr><td>4</td><td>application_1646643269786_0006</td><td>pyspark</td><td>idle</td><td><a target=\"_blank\" href=\"http://ip-172-31-12-36.ec2.internal:20888/proxy/application_1646643269786_0006/\" class=\"emr-proxy-link\" emr-resource=\"j-13FIRZ68P50QP\n",
       "\" application-id=\"application_1646643269786_0006\">Link</a></td><td><a target=\"_blank\" href=\"http://ip-172-31-10-231.ec2.internal:8042/node/containerlogs/container_1646643269786_0006_01_000001/livy\" >Link</a></td><td>✔</td></tr></table>"
      ],
      "text/plain": [
       "<IPython.core.display.HTML object>"
      ]
     },
     "metadata": {},
     "output_type": "display_data"
    },
    {
     "data": {
      "application/vnd.jupyter.widget-view+json": {
       "model_id": "",
       "version_major": 2,
       "version_minor": 0
      },
      "text/plain": [
       "FloatProgress(value=0.0, bar_style='info', description='Progress:', layout=Layout(height='25px', width='50%'),…"
      ]
     },
     "metadata": {},
     "output_type": "display_data"
    },
    {
     "name": "stdout",
     "output_type": "stream",
     "text": [
      "SparkSession available as 'spark'.\n"
     ]
    },
    {
     "data": {
      "application/vnd.jupyter.widget-view+json": {
       "model_id": "",
       "version_major": 2,
       "version_minor": 0
      },
      "text/plain": [
       "FloatProgress(value=0.0, bar_style='info', description='Progress:', layout=Layout(height='25px', width='50%'),…"
      ]
     },
     "metadata": {},
     "output_type": "display_data"
    },
    {
     "name": "stdout",
     "output_type": "stream",
     "text": [
      "'start'"
     ]
    }
   ],
   "source": [
    "'start'"
   ]
  },
  {
   "cell_type": "code",
   "execution_count": 58,
   "id": "775db2b5-4d09-4cb3-ab88-8e1a6b5720ab",
   "metadata": {
    "execution": {
     "iopub.execute_input": "2022-03-07T10:27:12.094858Z",
     "iopub.status.busy": "2022-03-07T10:27:12.094612Z",
     "iopub.status.idle": "2022-03-07T10:27:31.417234Z",
     "shell.execute_reply": "2022-03-07T10:27:31.416753Z",
     "shell.execute_reply.started": "2022-03-07T10:27:12.094833Z"
    },
    "tags": []
   },
   "outputs": [
    {
     "data": {
      "application/vnd.jupyter.widget-view+json": {
       "model_id": "f8e77f5f3b0c48acba71d4f6664765ae",
       "version_major": 2,
       "version_minor": 0
      },
      "text/plain": [
       "VBox()"
      ]
     },
     "metadata": {},
     "output_type": "display_data"
    },
    {
     "data": {
      "application/vnd.jupyter.widget-view+json": {
       "model_id": "",
       "version_major": 2,
       "version_minor": 0
      },
      "text/plain": [
       "FloatProgress(value=0.0, bar_style='info', description='Progress:', layout=Layout(height='25px', width='50%'),…"
      ]
     },
     "metadata": {},
     "output_type": "display_data"
    },
    {
     "name": "stdout",
     "output_type": "stream",
     "text": [
      "Collecting pandas==0.25.1\n",
      "  Downloading https://files.pythonhosted.org/packages/7e/ab/ea76361f9d3e732e114adcd801d2820d5319c23d0ac5482fa3b412db217e/pandas-0.25.1-cp37-cp37m-manylinux1_x86_64.whl (10.4MB)\n",
      "Requirement already satisfied: pytz>=2017.2 in /usr/local/lib/python3.7/site-packages (from pandas==0.25.1)\n",
      "Requirement already satisfied: numpy>=1.13.3 in /usr/local/lib64/python3.7/site-packages (from pandas==0.25.1)\n",
      "Collecting python-dateutil>=2.6.1 (from pandas==0.25.1)\n",
      "  Downloading https://files.pythonhosted.org/packages/36/7a/87837f39d0296e723bb9b62bbb257d0355c7f6128853c78955f57342a56d/python_dateutil-2.8.2-py2.py3-none-any.whl (247kB)\n",
      "Requirement already satisfied: six>=1.5 in /usr/local/lib/python3.7/site-packages (from python-dateutil>=2.6.1->pandas==0.25.1)\n",
      "Installing collected packages: python-dateutil, pandas\n",
      "Successfully installed pandas-0.25.1 python-dateutil-2.8.2\n",
      "\n",
      "Collecting matplotlib==3.1.1\n",
      "  Downloading https://files.pythonhosted.org/packages/19/7a/60bd79c5d79559150f8bba866dd7d434f0a170312e4d15e8aefa5faba294/matplotlib-3.1.1-cp37-cp37m-manylinux1_x86_64.whl (13.1MB)\n",
      "Requirement already satisfied: python-dateutil>=2.1 in /mnt/tmp/1646644611605-0/lib/python3.7/site-packages (from matplotlib==3.1.1)\n",
      "Collecting pyparsing!=2.0.4,!=2.1.2,!=2.1.6,>=2.0.1 (from matplotlib==3.1.1)\n",
      "  Downloading https://files.pythonhosted.org/packages/80/c1/23fd82ad3121656b585351aba6c19761926bb0db2ebed9e4ff09a43a3fcc/pyparsing-3.0.7-py3-none-any.whl (98kB)\n",
      "Collecting cycler>=0.10 (from matplotlib==3.1.1)\n",
      "  Downloading https://files.pythonhosted.org/packages/5c/f9/695d6bedebd747e5eb0fe8fad57b72fdf25411273a39791cde838d5a8f51/cycler-0.11.0-py3-none-any.whl\n",
      "Requirement already satisfied: numpy>=1.11 in /usr/local/lib64/python3.7/site-packages (from matplotlib==3.1.1)\n",
      "Collecting kiwisolver>=1.0.1 (from matplotlib==3.1.1)\n",
      "  Downloading https://files.pythonhosted.org/packages/09/6b/6e567cb2e86d4e5939a9233f8734e26021b6a9c1bc4b1edccba236a84cc2/kiwisolver-1.3.2-cp37-cp37m-manylinux_2_5_x86_64.manylinux1_x86_64.whl (1.1MB)\n",
      "Requirement already satisfied: six>=1.5 in /usr/local/lib/python3.7/site-packages (from python-dateutil>=2.1->matplotlib==3.1.1)\n",
      "Installing collected packages: pyparsing, cycler, kiwisolver, matplotlib\n",
      "Successfully installed cycler-0.11.0 kiwisolver-1.3.2 matplotlib-3.1.1 pyparsing-3.0.7\n",
      "\n",
      "You are using pip version 9.0.1, however version 22.0.4 is available.\n",
      "You should consider upgrading via the 'pip install --upgrade pip' command.\n",
      "\n",
      "You are using pip version 9.0.1, however version 22.0.4 is available.\n",
      "You should consider upgrading via the 'pip install --upgrade pip' command."
     ]
    }
   ],
   "source": [
    "sc.install_pypi_package(\"pandas==0.25.1\")\n",
    "sc.install_pypi_package(\"matplotlib==3.1.1\")"
   ]
  },
  {
   "cell_type": "code",
   "execution_count": null,
   "id": "c0a5c5c3-a0b3-4b38-a938-d248a867e408",
   "metadata": {},
   "outputs": [],
   "source": []
  },
  {
   "cell_type": "code",
   "execution_count": 2,
   "id": "c5658492-2484-4f9e-a58a-dc513f1121ca",
   "metadata": {
    "execution": {
     "iopub.execute_input": "2022-03-07T09:16:54.892848Z",
     "iopub.status.busy": "2022-03-07T09:16:54.892595Z",
     "iopub.status.idle": "2022-03-07T09:17:04.212850Z",
     "shell.execute_reply": "2022-03-07T09:17:04.212324Z",
     "shell.execute_reply.started": "2022-03-07T09:16:54.892813Z"
    },
    "tags": []
   },
   "outputs": [
    {
     "data": {
      "application/vnd.jupyter.widget-view+json": {
       "model_id": "59d84a35557a4ee8870cfd49c2e93f37",
       "version_major": 2,
       "version_minor": 0
      },
      "text/plain": [
       "VBox()"
      ]
     },
     "metadata": {},
     "output_type": "display_data"
    },
    {
     "data": {
      "application/vnd.jupyter.widget-view+json": {
       "model_id": "",
       "version_major": 2,
       "version_minor": 0
      },
      "text/plain": [
       "FloatProgress(value=0.0, bar_style='info', description='Progress:', layout=Layout(height='25px', width='50%'),…"
      ]
     },
     "metadata": {},
     "output_type": "display_data"
    },
    {
     "name": "stdout",
     "output_type": "stream",
     "text": [
      "+--------------------+\n",
      "|               value|\n",
      "+--------------------+\n",
      "|filedesc://123088...|\n",
      "|     1 0 CommonCrawl|\n",
      "|URL IP-address Ar...|\n",
      "|                    |\n",
      "|http://www.cropde...|\n",
      "+--------------------+"
     ]
    }
   ],
   "source": [
    "df = spark.read.text('s3a://commoncrawl/crawl-001/2009/01/01/0/*.gz')\n",
    "df.limit(5).show()"
   ]
  },
  {
   "cell_type": "code",
   "execution_count": 3,
   "id": "432b99f9-5994-4cff-b787-b2fc4469361b",
   "metadata": {
    "execution": {
     "iopub.execute_input": "2022-03-07T09:17:27.732070Z",
     "iopub.status.busy": "2022-03-07T09:17:27.731849Z",
     "iopub.status.idle": "2022-03-07T09:17:27.984196Z",
     "shell.execute_reply": "2022-03-07T09:17:27.983712Z",
     "shell.execute_reply.started": "2022-03-07T09:17:27.732046Z"
    },
    "tags": []
   },
   "outputs": [
    {
     "data": {
      "application/vnd.jupyter.widget-view+json": {
       "model_id": "6ce64c42d4594b038803a75a3a8b2ae1",
       "version_major": 2,
       "version_minor": 0
      },
      "text/plain": [
       "VBox()"
      ]
     },
     "metadata": {},
     "output_type": "display_data"
    },
    {
     "data": {
      "application/vnd.jupyter.widget-view+json": {
       "model_id": "",
       "version_major": 2,
       "version_minor": 0
      },
      "text/plain": [
       "FloatProgress(value=0.0, bar_style='info', description='Progress:', layout=Layout(height='25px', width='50%'),…"
      ]
     },
     "metadata": {},
     "output_type": "display_data"
    }
   ],
   "source": [
    "import pyspark.sql.functions as f"
   ]
  },
  {
   "cell_type": "code",
   "execution_count": null,
   "id": "a66d82e1-0827-4f51-acc0-29722a56e021",
   "metadata": {},
   "outputs": [],
   "source": []
  },
  {
   "cell_type": "code",
   "execution_count": 8,
   "id": "d24cebfa-6a76-467b-ada3-3d33cf70ec77",
   "metadata": {
    "execution": {
     "iopub.execute_input": "2022-03-07T09:21:00.231492Z",
     "iopub.status.busy": "2022-03-07T09:21:00.231224Z",
     "iopub.status.idle": "2022-03-07T09:22:27.782262Z",
     "shell.execute_reply": "2022-03-07T09:22:27.781704Z",
     "shell.execute_reply.started": "2022-03-07T09:21:00.231466Z"
    },
    "tags": []
   },
   "outputs": [
    {
     "data": {
      "application/vnd.jupyter.widget-view+json": {
       "model_id": "178be30c00644c6c96e485c2437f6719",
       "version_major": 2,
       "version_minor": 0
      },
      "text/plain": [
       "VBox()"
      ]
     },
     "metadata": {},
     "output_type": "display_data"
    },
    {
     "data": {
      "application/vnd.jupyter.widget-view+json": {
       "model_id": "",
       "version_major": 2,
       "version_minor": 0
      },
      "text/plain": [
       "FloatProgress(value=0.0, bar_style='info', description='Progress:', layout=Layout(height='25px', width='50%'),…"
      ]
     },
     "metadata": {},
     "output_type": "display_data"
    },
    {
     "name": "stdout",
     "output_type": "stream",
     "text": [
      "1498433168"
     ]
    }
   ],
   "source": [
    "df.count()"
   ]
  },
  {
   "cell_type": "code",
   "execution_count": 6,
   "id": "2a20be55-c6c4-43cd-81d6-9a5fbefbfbab",
   "metadata": {
    "execution": {
     "iopub.execute_input": "2022-03-07T09:20:17.398393Z",
     "iopub.status.busy": "2022-03-07T09:20:17.398170Z",
     "iopub.status.idle": "2022-03-07T09:20:17.648048Z",
     "shell.execute_reply": "2022-03-07T09:20:17.647550Z",
     "shell.execute_reply.started": "2022-03-07T09:20:17.398370Z"
    },
    "tags": []
   },
   "outputs": [
    {
     "data": {
      "application/vnd.jupyter.widget-view+json": {
       "model_id": "5ddb4b45683042c8b6698785db301321",
       "version_major": 2,
       "version_minor": 0
      },
      "text/plain": [
       "VBox()"
      ]
     },
     "metadata": {},
     "output_type": "display_data"
    },
    {
     "data": {
      "application/vnd.jupyter.widget-view+json": {
       "model_id": "",
       "version_major": 2,
       "version_minor": 0
      },
      "text/plain": [
       "FloatProgress(value=0.0, bar_style='info', description='Progress:', layout=Layout(height='25px', width='50%'),…"
      ]
     },
     "metadata": {},
     "output_type": "display_data"
    },
    {
     "name": "stdout",
     "output_type": "stream",
     "text": [
      "root\n",
      " |-- value: string (nullable = true)"
     ]
    }
   ],
   "source": [
    "df.printSchema()"
   ]
  },
  {
   "cell_type": "code",
   "execution_count": 22,
   "id": "7386c332-0233-4d6b-80d3-45ab3a3773c9",
   "metadata": {
    "execution": {
     "iopub.execute_input": "2022-03-07T09:42:41.429548Z",
     "iopub.status.busy": "2022-03-07T09:42:41.429323Z",
     "iopub.status.idle": "2022-03-07T09:42:50.720877Z",
     "shell.execute_reply": "2022-03-07T09:42:50.720342Z",
     "shell.execute_reply.started": "2022-03-07T09:42:41.429525Z"
    },
    "tags": []
   },
   "outputs": [
    {
     "data": {
      "application/vnd.jupyter.widget-view+json": {
       "model_id": "17cfe554fd28441f88a29793cc2489d3",
       "version_major": 2,
       "version_minor": 0
      },
      "text/plain": [
       "VBox()"
      ]
     },
     "metadata": {},
     "output_type": "display_data"
    },
    {
     "data": {
      "application/vnd.jupyter.widget-view+json": {
       "model_id": "",
       "version_major": 2,
       "version_minor": 0
      },
      "text/plain": [
       "FloatProgress(value=0.0, bar_style='info', description='Progress:', layout=Layout(height='25px', width='50%'),…"
      ]
     },
     "metadata": {},
     "output_type": "display_data"
    },
    {
     "name": "stdout",
     "output_type": "stream",
     "text": [
      "[Row(value='filedesc://1230881200347_0.arc.gz 0.0.0.0 20090101232640 text/plain 73'), Row(value='1 0 CommonCrawl'), Row(value='URL IP-address Archive-date Content-type Archive-length'), Row(value=''), Row(value='http://www.cropdesign.com.sg/shikisai/shoes.htm 203.211.133.161 20081204112029 text/html 5480'), Row(value='HTTP/1.1 200 OK'), Row(value='Date:Thu, 04 Dec 2008 19:20:35 GMT'), Row(value='Server:Apache/2.2.8 (FreeBSD) mod_ssl/2.2.8 OpenSSL/0.9.8e DAV/2'), Row(value='Last-Modified:Sun, 20 Jul 2008 16:32:56 GMT'), Row(value='ETag:\"363312f-130b-4527724a19e00\"'), Row(value='Accept-Ranges:bytes'), Row(value='Content-Length:4875'), Row(value='Connection:close'), Row(value='Content-Type:text/html'), Row(value='x_commoncrawl_ParseSegmentId:5268'), Row(value='x_commoncrawl_OriginalURL:http://www.cropdesign.com.sg/shikisai/shoes.htm'), Row(value='x_commoncrawl_URLFP:5154776448893522226'), Row(value='x_commoncrawl_HostFP:8630421867771573121'), Row(value='x_commoncrawl_Signature:cff4eb6561627448268d7c678639c01a'), Row(value='x_commoncrawl_CrawlNo:1'), Row(value='x_commoncrawl_FetchTimestamp:1228418429371'), Row(value=''), Row(value='<html lang=\"zh\">'), Row(value='<head>'), Row(value='<title>Crop Design</title>'), Row(value='<meta http-equiv=\"Content-Type\" content=\"text/html; charset=iso-8859-1\">'), Row(value=''), Row(value='<link rel=\"stylesheet\" href=\"styles.css\" type=\"text/css\">'), Row(value=''), Row(value='<style type=\"text/css\">'), Row(value='<!--'), Row(value='.left-tile {  background-image: url(gfx/main-leftcorner1.gif); background-repeat: no-repeat; background-position: right top}'), Row(value='.right-tile {  background-image: url(gfx/main-rightcorner1.gif); background-repeat: no-repeat; background-position: left top}'), Row(value='-->'), Row(value='</style>'), Row(value='</head>'), Row(value=''), Row(value='<body bgcolor=\"#FFFFFF\" link=\"#ff9900\" leftmargin=\"0\" topmargin=\"0\" marginwidth=\"0\" marginheight=\"0\">'), Row(value='<table width=\"100%\" border=\"0\" cellspacing=\"0\" cellpadding=\"0\">'), Row(value='  <tr valign=\"top\" align=\"center\"> '), Row(value='    <td rowspan=\"8\">&nbsp;</td>'), Row(value='    <td width=\"70\" height=\"125\" class=\"left-tile\">&nbsp;</td>'), Row(value='    <td width=\"30\" height=\"125\"><img src=\"gfx/main-leftcorner2.gif\" width=\"30\" height=\"125\"></td>'), Row(value='    <td width=\"629\"><img src=\"gfx/top5.gif\" width=\"629\" height=\"125\" usemap=\"#Map\" border=\"0\"><map name=\"Map\"><area shape=\"circle\" coords=\"512,48,19\" href=\"../link.htm\" alt=\"\" target=\"_blank\"><area shape=\"circle\" coords=\"556,49,18\" href=\"../index.htm\" alt=\"\"><area shape=\"circle\" coords=\"600,49,17\" href=\"mailto:info@cropdesign.com.sg\"><area shape=\"rect\" coords=\"8,17,106,82\" href=\"../index.htm\"></map></td>'), Row(value='    <td width=\"30\"><img src=\"gfx/main-rightcorner2.gif\" width=\"30\" height=\"125\"></td>'), Row(value='    <td width=\"70\" class=\"right-tile\">&nbsp;</td>'), Row(value='    <td rowspan=\"8\">&nbsp;</td>'), Row(value='  </tr>'), Row(value='\\t\\t\\t<tr valign=\"top\" align=\"center\"> '), Row(value='    <td width=\"70\" class=\"tile\" rowspan=\"6\">&nbsp;</td>')]"
     ]
    }
   ],
   "source": [
    "print(df.rdd.take(50))"
   ]
  },
  {
   "cell_type": "code",
   "execution_count": null,
   "id": "5497228f-7223-4000-8fa4-e7c89114c567",
   "metadata": {},
   "outputs": [],
   "source": [
    "(df\n",
    " .rdd\n",
    " .map(lambda x: x)\n",
    " .take(50)\n",
    ")"
   ]
  },
  {
   "cell_type": "code",
   "execution_count": null,
   "id": "c4d1cf99-0231-4c18-9843-9616f4e8a259",
   "metadata": {},
   "outputs": [],
   "source": []
  },
  {
   "cell_type": "code",
   "execution_count": null,
   "id": "e5c99de8-69c3-4aa8-8c70-de7c1bff3e19",
   "metadata": {},
   "outputs": [],
   "source": []
  },
  {
   "cell_type": "code",
   "execution_count": 29,
   "id": "b308a874-869c-413e-b1c8-b4573fc1403a",
   "metadata": {
    "execution": {
     "iopub.execute_input": "2022-03-07T09:49:28.258803Z",
     "iopub.status.busy": "2022-03-07T09:49:28.258581Z",
     "iopub.status.idle": "2022-03-07T09:49:29.022826Z",
     "shell.execute_reply": "2022-03-07T09:49:29.022152Z",
     "shell.execute_reply.started": "2022-03-07T09:49:28.258780Z"
    },
    "scrolled": true,
    "tags": []
   },
   "outputs": [
    {
     "data": {
      "application/vnd.jupyter.widget-view+json": {
       "model_id": "15dd6fb900bd41fda62becaf07d70e26",
       "version_major": 2,
       "version_minor": 0
      },
      "text/plain": [
       "VBox()"
      ]
     },
     "metadata": {},
     "output_type": "display_data"
    },
    {
     "data": {
      "application/vnd.jupyter.widget-view+json": {
       "model_id": "",
       "version_major": 2,
       "version_minor": 0
      },
      "text/plain": [
       "FloatProgress(value=0.0, bar_style='info', description='Progress:', layout=Layout(height='25px', width='50%'),…"
      ]
     },
     "metadata": {},
     "output_type": "display_data"
    },
    {
     "name": "stdout",
     "output_type": "stream",
     "text": [
      "+------------------------------------------------------------------------------------------------------------------------------------------------------------------------------------------------------------------------------------------------------------------------------------------------------+\n",
      "|value                                                                                                                                                                                                                                                                                                 |\n",
      "+------------------------------------------------------------------------------------------------------------------------------------------------------------------------------------------------------------------------------------------------------------------------------------------------------+\n",
      "|filedesc://1230878280716_0.arc.gz 0.0.0.0 20090101223800 text/plain 73                                                                                                                                                                                                                                |\n",
      "|1 0 CommonCrawl                                                                                                                                                                                                                                                                                       |\n",
      "|URL IP-address Archive-date Content-type Archive-length                                                                                                                                                                                                                                               |\n",
      "|                                                                                                                                                                                                                                                                                                      |\n",
      "|http://www.stuveltjes-porn.com/Detailed/3183.shtml 66.244.150.160 20081204190836 text/html 25774                                                                                                                                                                                                      |\n",
      "|HTTP/1.1 200 OK                                                                                                                                                                                                                                                                                       |\n",
      "|Date:Fri, 05 Dec 2008 03:08:36 GMT                                                                                                                                                                                                                                                                    |\n",
      "|Server:Apache                                                                                                                                                                                                                                                                                         |\n",
      "|Accept-Ranges:bytes                                                                                                                                                                                                                                                                                   |\n",
      "|Vary:Accept-Encoding                                                                                                                                                                                                                                                                                  |\n",
      "|Content-Encoding:gzip                                                                                                                                                                                                                                                                                 |\n",
      "|Content-Length:4326                                                                                                                                                                                                                                                                                   |\n",
      "|Connection:close                                                                                                                                                                                                                                                                                      |\n",
      "|Content-Type:text/html; charset=ISO-8859-1                                                                                                                                                                                                                                                            |\n",
      "|x_commoncrawl_ParseSegmentId:5302                                                                                                                                                                                                                                                                     |\n",
      "|x_commoncrawl_OriginalURL:http://www.stuveltjes-porn.com/Detailed/3183.shtml                                                                                                                                                                                                                          |\n",
      "|x_commoncrawl_URLFP:8073965218164098071                                                                                                                                                                                                                                                               |\n",
      "|x_commoncrawl_HostFP:5434290156054723216                                                                                                                                                                                                                                                              |\n",
      "|x_commoncrawl_Signature:2879f222dadfee854c8285f5b035a6eb                                                                                                                                                                                                                                              |\n",
      "|x_commoncrawl_CrawlNo:1                                                                                                                                                                                                                                                                               |\n",
      "|x_commoncrawl_FetchTimestamp:1228446516718                                                                                                                                                                                                                                                            |\n",
      "|                                                                                                                                                                                                                                                                                                      |\n",
      "|<html>                                                                                                                                                                                                                                                                                                |\n",
      "|<head>                                                                                                                                                                                                                                                                                                |\n",
      "|<title> Deep Throat Oral Movie</title>                                                                                                                                                                                                                                                                |\n",
      "|                                                                                                                                                                                                                                                                                                      |\n",
      "|<link rel=stylesheet href=\"http://www.stuveltjes-porn.com/links.css\" type=\"text/css\" title=\"Stuveltjes Porn Links style sheet\">                                                                                                                                                                       |\n",
      "|<META NAME=\"description\" CONTENT=\"Brunette deepthroating slut getting fucked by long cock in her mouth <font color=yellow>movies</font>\">                                                                                                                                                             |\n",
      "|<META NAME=\"keywords\" CONTENT=\"Deep Throat Oral Movie\">                                                                                                                                                                                                                                               |\n",
      "|<META content=\"www.stuveltjes-porn.com\" name=\"copyright\">                                                                                                                                                                                                                                             |\n",
      "|<meta http-equiv=\"pics-label\" content='(pics-1.1 \"http://www.icra.org/ratingsv02.html\" l gen true for \"http://www.stuveltjes-porn.com\" r (na 1 nb 1 nc 1 nd 1 ne 1 nf 1 ng 1 nh 1 ni 1 vz 1 la 1 lb 1 lc 1 oa 1 ob 1 oc 1 od 1 og 1 oh 1 ca 1))'>                                                     |\n",
      "|<META NAME=\"revisit-after\" CONTENT=\"2 days\">                                                                                                                                                                                                                                                          |\n",
      "|<META NAME=\"Voluntary Content Rating\" CONTENT=\"adult\">                                                                                                                                                                                                                                                |\n",
      "|<META NAME=\"ROBOTS\" CONTENT=\"INDEX,FOLLOW\">                                                                                                                                                                                                                                                           |\n",
      "|<meta name=\"Language\" content=\"EN\">                                                                                                                                                                                                                                                                   |\n",
      "|<META content=all name=robots>                                                                                                                                                                                                                                                                        |\n",
      "|<STYLE type=text/css>A:link {                                                                                                                                                                                                                                                                         |\n",
      "|\tTEXT-DECORATION: none                                                                                                                                                                                                                                                                                |\n",
      "|}                                                                                                                                                                                                                                                                                                     |\n",
      "|A:active {                                                                                                                                                                                                                                                                                            |\n",
      "|\tTEXT-DECORATION: none                                                                                                                                                                                                                                                                                |\n",
      "|}                                                                                                                                                                                                                                                                                                     |\n",
      "|A:visited {                                                                                                                                                                                                                                                                                           |\n",
      "|\tTEXT-DECORATION: none                                                                                                                                                                                                                                                                                |\n",
      "|}                                                                                                                                                                                                                                                                                                     |\n",
      "|A:hover {                                                                                                                                                                                                                                                                                             |\n",
      "|\tCOLOR: #ffffff; TEXT-DECORATION: underline                                                                                                                                                                                                                                                           |\n",
      "|}                                                                                                                                                                                                                                                                                                     |\n",
      "|.fixedfont {                                                                                                                                                                                                                                                                                          |\n",
      "|\tFONT-SIZE: 13px                                                                                                                                                                                                                                                                                      |\n",
      "|}                                                                                                                                                                                                                                                                                                     |\n",
      "|.fixedfont1 {                                                                                                                                                                                                                                                                                         |\n",
      "|\tFONT-SIZE: 45px                                                                                                                                                                                                                                                                                      |\n",
      "|}                                                                                                                                                                                                                                                                                                     |\n",
      "|</STYLE>                                                                                                                                                                                                                                                                                              |\n",
      "|                                                                                                                                                                                                                                                                                                      |\n",
      "|<META content=\"MSHTML 6.00.2800.1476\" name=GENERATOR></HEAD>                                                                                                                                                                                                                                          |\n",
      "|<BODY text=#9999cc vLink=#b03cb0 aLink=#ffffff link=#c85bc8 bgColor=#000000                                                                                                                                                                                                                           |\n",
      "|background=\"../../stuveltjespornlinklist/bg.gif\"                                                                                                                                                                                                                                                      |\n",
      "|topMargin=5>                                                                                                                                                                                                                                                                                          |\n",
      "|                                                                                                                                                                                                                                                                                                      |\n",
      "|<DIV align=center><BR></DIV>                                                                                                                                                                                                                                                                          |\n",
      "|<TABLE cellSpacing=0 width=\"98%\" align=center bgColor=#772f74 border=0>                                                                                                                                                                                                                               |\n",
      "|  <TBODY>                                                                                                                                                                                                                                                                                             |\n",
      "|  <TR>                                                                                                                                                                                                                                                                                                |\n",
      "|    <TD vAlign=top width=\"100%\">                                                                                                                                                                                                                                                                      |\n",
      "|      <TABLE cellSpacing=0 cellPadding=0 width=\"100%\" bgColor=#333333                                                                                                                                                                                                                                 |\n",
      "|        border=0><TBODY>                                                                                                                                                                                                                                                                              |\n",
      "|        <TR></TR>                                                                                                                                                                                                                                                                                     |\n",
      "|        <TR></TR>                                                                                                                                                                                                                                                                                     |\n",
      "|        <TR bgColor=#3c1e3c>                                                                                                                                                                                                                                                                          |\n",
      "|          <TD colSpan=4>                                                                                                                                                                                                                                                                              |\n",
      "|            <DIV align=left><a href=\"http://www.stuveltjes-porn.com/\"><IMG height=80                                                                                                                                                                                                                  |\n",
      "|            border=\"0\" src=\"../../stuveltjespornlinklist/1-banner.jpg\" alt=\"Stuveltjes Xxx Porn Link List\"                                                                                                                                                                                            |\n",
      "|            width=714></a></DIV></TD></TR>                                                                                                                                                                                                                                                            |\n",
      "|        <TR>                                                                                                                                                                                                                                                                                          |\n",
      "|          <TD vAlign=top width=\"17%\" bgColor=#3c1e3c>                                                                                                                                                                                                                                                 |\n",
      "|            <TABLE cellSpacing=0 width=\"100%\" align=center bgColor=#772f74                                                                                                                                                                                                                            |\n",
      "|            border=0>                                                                                                                                                                                                                                                                                 |\n",
      "|              <TBODY>                                                                                                                                                                                                                                                                                 |\n",
      "|              <TR>                                                                                                                                                                                                                                                                                    |\n",
      "|                <TD vAlign=top width=\"100%\">                                                                                                                                                                                                                                                          |\n",
      "|                  <TABLE cellSpacing=0 cellPadding=2 width=\"100%\" border=0>                                                                                                                                                                                                                           |\n",
      "|                    <TBODY>                                                                                                                                                                                                                                                                           |\n",
      "|                    <TR>                                                                                                                                                                                                                                                                              |\n",
      "|                      <TD                                                                                                                                                                                                                                                                             |\n",
      "|                      background=\"../../stuveltjespornlinklist/topbga.gif\">                                                                                                                                                                                                                           |\n",
      "|                        <DIV align=center><BR><B><center><font size=\"2\" face=\"verdana, arial\"><center><a href=\"http://www.girls-gonewild.name/\"><FONT COLOR=YELLOW><H2><U>GIRLS GONE WILD</U>, SCHOOLGIRLS<BR>FLASHING IN PUBLIC<br>SHOWING NUDE ON CAM AND PICTURES</A></FONT></font></h2></center>  |\n",
      "|                                                                                                                                                                                                                                                                                                      |\n",
      "|<BR><BR><FONT                                                                                                                                                                                                                                                                                         |\n",
      "|                        face=\"Arial, Helvetica, sans-serif\"                                                                                                                                                                                                                                           |\n",
      "|                        size=3><B>Detail Page Stuveltjes Porn Xxx Links List</center></FONT></B></DIV></TD></TR>                                                                                                                                                                                      |\n",
      "|                    <TR bgColor=#000000>                                                                                                                                                                                                                                                              |\n",
      "|                      <TD background=\"../../stuveltjespornlinklist/bg.gif\">                                                                                                                                                                                                                           |\n",
      "|                        <DIV align=left><BR>                                                                                                                                                                                                                                                          |\n",
      "|                        <div align=\"center\">                                                                                                                                                                                                                                                          |\n",
      "|  <center>                                                                                                                                                                                                                                                                                            |\n",
      "|  <table border=\"0\" width=\"98%\">                                                                                                                                                                                                                                                                      |\n",
      "|    <tr>                                                                                                                                                                                                                                                                                              |\n",
      "|      <td width=\"98%\"><h3><B><FONT FACE=\"verdana, arial\"><small class=\"date\"><font color=\"#EED211\">Added: </font><font color=\"##EED211\">1-Mar-2006</font> <font color=\"#EED211\">Rating: </font><font color=\"##EED211\">0</font> <font color=\"#EED211\">Votes:</font> <font color=\"##EED211\">0</font><BR>|\n",
      "+------------------------------------------------------------------------------------------------------------------------------------------------------------------------------------------------------------------------------------------------------------------------------------------------------+"
     ]
    }
   ],
   "source": [
    "df_sample = spark.read.text('s3a://commoncrawl/crawl-001/2009/01/01/0/1230878280716_0.arc.gz')\n",
    "df_sample.limit(100).show(100, truncate=False)"
   ]
  },
  {
   "cell_type": "code",
   "execution_count": 35,
   "id": "a5775617-9118-4829-9216-0f435bdf856b",
   "metadata": {
    "execution": {
     "iopub.execute_input": "2022-03-07T09:54:22.317810Z",
     "iopub.status.busy": "2022-03-07T09:54:22.317583Z",
     "iopub.status.idle": "2022-03-07T09:54:33.612430Z",
     "shell.execute_reply": "2022-03-07T09:54:33.611961Z",
     "shell.execute_reply.started": "2022-03-07T09:54:22.317787Z"
    },
    "tags": []
   },
   "outputs": [
    {
     "data": {
      "application/vnd.jupyter.widget-view+json": {
       "model_id": "e46cae16e17e4fc9889d83a6c31bfae3",
       "version_major": 2,
       "version_minor": 0
      },
      "text/plain": [
       "VBox()"
      ]
     },
     "metadata": {},
     "output_type": "display_data"
    },
    {
     "data": {
      "application/vnd.jupyter.widget-view+json": {
       "model_id": "",
       "version_major": 2,
       "version_minor": 0
      },
      "text/plain": [
       "FloatProgress(value=0.0, bar_style='info', description='Progress:', layout=Layout(height='25px', width='50%'),…"
      ]
     },
     "metadata": {},
     "output_type": "display_data"
    },
    {
     "name": "stdout",
     "output_type": "stream",
     "text": [
      "14740"
     ]
    }
   ],
   "source": [
    "df_sample.filter(f.col('value').startswith('http')).count()"
   ]
  },
  {
   "cell_type": "markdown",
   "id": "ef0693f9-9417-461d-8f58-3e91b47eda05",
   "metadata": {},
   "source": [
    "## 3b: total number of crawled URLs"
   ]
  },
  {
   "cell_type": "code",
   "execution_count": 62,
   "id": "b17159b9-5acd-4da6-9a05-6dacecfb7f2c",
   "metadata": {
    "execution": {
     "iopub.execute_input": "2022-03-07T10:32:46.780915Z",
     "iopub.status.busy": "2022-03-07T10:32:46.780674Z",
     "iopub.status.idle": "2022-03-07T10:32:47.034888Z",
     "shell.execute_reply": "2022-03-07T10:32:47.034382Z",
     "shell.execute_reply.started": "2022-03-07T10:32:46.780891Z"
    },
    "tags": []
   },
   "outputs": [
    {
     "data": {
      "application/vnd.jupyter.widget-view+json": {
       "model_id": "f35e3ef6f4a8440fbb6291b3c5b7fbee",
       "version_major": 2,
       "version_minor": 0
      },
      "text/plain": [
       "VBox()"
      ]
     },
     "metadata": {},
     "output_type": "display_data"
    },
    {
     "data": {
      "application/vnd.jupyter.widget-view+json": {
       "model_id": "",
       "version_major": 2,
       "version_minor": 0
      },
      "text/plain": [
       "FloatProgress(value=0.0, bar_style='info', description='Progress:', layout=Layout(height='25px', width='50%'),…"
      ]
     },
     "metadata": {},
     "output_type": "display_data"
    },
    {
     "name": "stdout",
     "output_type": "stream",
     "text": [
      "+---------------------------------------------------------------------------------------------------------+\n",
      "|value                                                                                                    |\n",
      "+---------------------------------------------------------------------------------------------------------+\n",
      "|x_commoncrawl_OriginalURL:http://www.cropdesign.com.sg/shikisai/shoes.htm                                |\n",
      "|x_commoncrawl_OriginalURL:http://www.dnp-orikomio.com/entry/index2.html                                  |\n",
      "|x_commoncrawl_OriginalURL:http://www.wyomingbioinformatics.org/%7Eachurban/html/WashingtonVisit/part2.htm|\n",
      "|x_commoncrawl_OriginalURL:http://www.cluedupmarketing.com/us/contactus.asp                               |\n",
      "|x_commoncrawl_OriginalURL:http://www.didntyouhear.com/2006/11/30/giant-chocolate-eggs-are-wasteful/      |\n",
      "+---------------------------------------------------------------------------------------------------------+"
     ]
    }
   ],
   "source": [
    "df.filter(f.col('value').startswith('x_commoncrawl_OriginalURL:http')).limit(5).show(truncate=False)"
   ]
  },
  {
   "cell_type": "code",
   "execution_count": 60,
   "id": "fd96aa8e-1f49-4090-8b55-61bc3cd3c143",
   "metadata": {
    "execution": {
     "iopub.execute_input": "2022-03-07T10:30:37.739419Z",
     "iopub.status.busy": "2022-03-07T10:30:37.739153Z",
     "iopub.status.idle": "2022-03-07T10:32:07.270876Z",
     "shell.execute_reply": "2022-03-07T10:32:07.270337Z",
     "shell.execute_reply.started": "2022-03-07T10:30:37.739391Z"
    },
    "tags": []
   },
   "outputs": [
    {
     "data": {
      "application/vnd.jupyter.widget-view+json": {
       "model_id": "b3b1908c3230418f95506e8b70ce9cdc",
       "version_major": 2,
       "version_minor": 0
      },
      "text/plain": [
       "VBox()"
      ]
     },
     "metadata": {},
     "output_type": "display_data"
    },
    {
     "data": {
      "application/vnd.jupyter.widget-view+json": {
       "model_id": "",
       "version_major": 2,
       "version_minor": 0
      },
      "text/plain": [
       "FloatProgress(value=0.0, bar_style='info', description='Progress:', layout=Layout(height='25px', width='50%'),…"
      ]
     },
     "metadata": {},
     "output_type": "display_data"
    },
    {
     "name": "stdout",
     "output_type": "stream",
     "text": [
      "2967656"
     ]
    }
   ],
   "source": [
    "df.filter(f.col('value').startswith('x_commoncrawl_OriginalURL:http')).count()"
   ]
  },
  {
   "cell_type": "markdown",
   "id": "7adb0532-43ce-4d1e-90d0-2227d1efcc0c",
   "metadata": {},
   "source": [
    "**3b answer:** <u>2967656</u> URLs crawled"
   ]
  },
  {
   "cell_type": "markdown",
   "id": "c9d2bdd6-f9d1-4d83-88d8-75e6dd66ee7a",
   "metadata": {},
   "source": [
    "# 3c Plot # of crawled URLs per hour"
   ]
  },
  {
   "cell_type": "code",
   "execution_count": 53,
   "id": "72c2df78-cea8-4250-802a-0feb69006db5",
   "metadata": {
    "execution": {
     "iopub.execute_input": "2022-03-07T10:22:57.976164Z",
     "iopub.status.busy": "2022-03-07T10:22:57.975909Z",
     "iopub.status.idle": "2022-03-07T10:22:58.234508Z",
     "shell.execute_reply": "2022-03-07T10:22:58.233976Z",
     "shell.execute_reply.started": "2022-03-07T10:22:57.976136Z"
    },
    "tags": []
   },
   "outputs": [
    {
     "data": {
      "application/vnd.jupyter.widget-view+json": {
       "model_id": "2173f0ffad884fbeb9ceb30310716a0d",
       "version_major": 2,
       "version_minor": 0
      },
      "text/plain": [
       "VBox()"
      ]
     },
     "metadata": {},
     "output_type": "display_data"
    },
    {
     "data": {
      "application/vnd.jupyter.widget-view+json": {
       "model_id": "",
       "version_major": 2,
       "version_minor": 0
      },
      "text/plain": [
       "FloatProgress(value=0.0, bar_style='info', description='Progress:', layout=Layout(height='25px', width='50%'),…"
      ]
     },
     "metadata": {},
     "output_type": "display_data"
    }
   ],
   "source": [
    "df_timestamp = (df.\n",
    "                filter(f.col('value').startswith('x_commoncrawl_FetchTimestamp')).\n",
    "                withColumn('unix', (f.substring('value', 30, 13).cast('double') / 1000)).\n",
    "                withColumn('timestamp', f.from_unixtime(f.col('unix'))).\n",
    "                withColumn('hour', f.hour(f.col('timestamp'))))"
   ]
  },
  {
   "cell_type": "code",
   "execution_count": 57,
   "id": "820d4ded-716d-41b8-abd2-ccb3def68d4d",
   "metadata": {
    "execution": {
     "iopub.execute_input": "2022-03-07T10:26:18.075115Z",
     "iopub.status.busy": "2022-03-07T10:26:18.074930Z",
     "iopub.status.idle": "2022-03-07T10:26:19.337673Z",
     "shell.execute_reply": "2022-03-07T10:26:19.336770Z",
     "shell.execute_reply.started": "2022-03-07T10:26:18.075093Z"
    }
   },
   "outputs": [
    {
     "data": {
      "application/vnd.jupyter.widget-view+json": {
       "model_id": "cd8a5e5e4cbe4e2a834a5202643d00ce",
       "version_major": 2,
       "version_minor": 0
      },
      "text/plain": [
       "VBox()"
      ]
     },
     "metadata": {},
     "output_type": "display_data"
    },
    {
     "data": {
      "application/vnd.jupyter.widget-view+json": {
       "model_id": "",
       "version_major": 2,
       "version_minor": 0
      },
      "text/plain": [
       "FloatProgress(value=0.0, bar_style='info', description='Progress:', layout=Layout(height='25px', width='50%'),…"
      ]
     },
     "metadata": {},
     "output_type": "display_data"
    },
    {
     "name": "stdout",
     "output_type": "stream",
     "text": [
      "+--------------------+----------------+-------------------+----+\n",
      "|               value|            unix|          timestamp|hour|\n",
      "+--------------------+----------------+-------------------+----+\n",
      "|x_commoncrawl_Fet...|1.228345171543E9|2008-12-03 22:59:31|  22|\n",
      "|x_commoncrawl_Fet...|1.228345171551E9|2008-12-03 22:59:31|  22|\n",
      "|x_commoncrawl_Fet...|1.228345171558E9|2008-12-03 22:59:31|  22|\n",
      "|x_commoncrawl_Fet...|1.228345171565E9|2008-12-03 22:59:31|  22|\n",
      "|x_commoncrawl_Fet...|1.228345171582E9|2008-12-03 22:59:31|  22|\n",
      "+--------------------+----------------+-------------------+----+"
     ]
    }
   ],
   "source": [
    "df_timestamp.limit(5).show()"
   ]
  },
  {
   "cell_type": "code",
   "execution_count": 66,
   "id": "72b0044d-3bd6-4656-b494-47b6c5fdda3d",
   "metadata": {
    "execution": {
     "iopub.execute_input": "2022-03-07T10:38:09.346365Z",
     "iopub.status.busy": "2022-03-07T10:38:09.346185Z",
     "iopub.status.idle": "2022-03-07T10:38:09.394416Z",
     "shell.execute_reply": "2022-03-07T10:38:09.393865Z",
     "shell.execute_reply.started": "2022-03-07T10:38:09.346343Z"
    }
   },
   "outputs": [
    {
     "data": {
      "application/vnd.jupyter.widget-view+json": {
       "model_id": "c8e852abb8484799bcfb05c092fa4802",
       "version_major": 2,
       "version_minor": 0
      },
      "text/plain": [
       "VBox()"
      ]
     },
     "metadata": {},
     "output_type": "display_data"
    },
    {
     "data": {
      "application/vnd.jupyter.widget-view+json": {
       "model_id": "",
       "version_major": 2,
       "version_minor": 0
      },
      "text/plain": [
       "FloatProgress(value=0.0, bar_style='info', description='Progress:', layout=Layout(height='25px', width='50%'),…"
      ]
     },
     "metadata": {},
     "output_type": "display_data"
    }
   ],
   "source": [
    "import matplotlib.pyplot as plt\n",
    "import pandas as pd"
   ]
  },
  {
   "cell_type": "code",
   "execution_count": 71,
   "id": "200a9615-b51c-4234-9a34-b8d5ec61c136",
   "metadata": {
    "execution": {
     "iopub.execute_input": "2022-03-07T10:45:12.380798Z",
     "iopub.status.busy": "2022-03-07T10:45:12.380531Z",
     "iopub.status.idle": "2022-03-07T10:46:41.886223Z",
     "shell.execute_reply": "2022-03-07T10:46:41.885742Z",
     "shell.execute_reply.started": "2022-03-07T10:45:12.380774Z"
    },
    "tags": []
   },
   "outputs": [
    {
     "data": {
      "application/vnd.jupyter.widget-view+json": {
       "model_id": "27f23ba1f5f44e3e980ae09be26c3187",
       "version_major": 2,
       "version_minor": 0
      },
      "text/plain": [
       "VBox()"
      ]
     },
     "metadata": {},
     "output_type": "display_data"
    },
    {
     "data": {
      "application/vnd.jupyter.widget-view+json": {
       "model_id": "",
       "version_major": 2,
       "version_minor": 0
      },
      "text/plain": [
       "FloatProgress(value=0.0, bar_style='info', description='Progress:', layout=Layout(height='25px', width='50%'),…"
      ]
     },
     "metadata": {},
     "output_type": "display_data"
    },
    {
     "data": {
      "image/png": "[encoded data removed]",
      "text/plain": [
       "<IPython.core.display.Image object>"
      ]
     },
     "metadata": {},
     "output_type": "display_data"
    }
   ],
   "source": [
    "(df_timestamp\n",
    " .select('hour')\n",
    " .groupBy('hour')\n",
    " .count()\n",
    " .orderBy('hour')\n",
    "#  .limit(5)\n",
    " .toPandas().plot(kind='bar', legend=None))\n",
    "# plt.legend(False)\n",
    "plt.ylabel('Count')\n",
    "%matplot plt"
   ]
  },
  {
   "cell_type": "code",
   "execution_count": null,
   "id": "252460da-0897-4d77-80f6-441193e52b74",
   "metadata": {},
   "outputs": [],
   "source": []
  }
 ],
 "metadata": {
  "kernelspec": {
   "display_name": "PySpark",
   "language": "",
   "name": "pysparkkernel"
  },
  "language_info": {
   "codemirror_mode": {
    "name": "python",
    "version": 3
   },
   "mimetype": "text/x-python",
   "name": "pyspark",
   "pygments_lexer": "python3"
  }
 },
 "nbformat": 4,
 "nbformat_minor": 5
}
