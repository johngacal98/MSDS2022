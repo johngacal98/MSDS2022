{
 "cells": [
  {
   "cell_type": "code",
   "execution_count": 1,
   "id": "4345ed8a",
   "metadata": {
    "ExecuteTime": {
     "end_time": "2022-02-04T10:09:46.196667Z",
     "start_time": "2022-02-04T10:09:45.939440Z"
    }
   },
   "outputs": [],
   "source": [
    "from pyspark import SparkContext\n",
    "from numpy.testing import assert_equal"
   ]
  },
  {
   "cell_type": "code",
   "execution_count": 2,
   "id": "dd49272c",
   "metadata": {
    "ExecuteTime": {
     "end_time": "2022-02-04T10:09:51.656361Z",
     "start_time": "2022-02-04T10:09:46.198898Z"
    }
   },
   "outputs": [
    {
     "name": "stderr",
     "output_type": "stream",
     "text": [
      "WARNING: An illegal reflective access operation has occurred\n",
      "WARNING: Illegal reflective access by org.apache.spark.unsafe.Platform (file:/usr/local/spark-3.1.2-bin-hadoop3.2/jars/spark-unsafe_2.12-3.1.2.jar) to constructor java.nio.DirectByteBuffer(long,int)\n",
      "WARNING: Please consider reporting this to the maintainers of org.apache.spark.unsafe.Platform\n",
      "WARNING: Use --illegal-access=warn to enable warnings of further illegal reflective access operations\n",
      "WARNING: All illegal access operations will be denied in a future release\n",
      "22/02/04 18:09:48 WARN NativeCodeLoader: Unable to load native-hadoop library for your platform... using builtin-java classes where applicable\n",
      "Using Spark's default log4j profile: org/apache/spark/log4j-defaults.properties\n",
      "Setting default log level to \"WARN\".\n",
      "To adjust logging level use sc.setLogLevel(newLevel). For SparkR, use setLogLevel(newLevel).\n",
      "22/02/04 18:09:50 WARN Utils: Service 'SparkUI' could not bind on port 4040. Attempting port 4041.\n",
      "22/02/04 18:09:50 WARN Utils: Service 'SparkUI' could not bind on port 4041. Attempting port 4042.\n"
     ]
    }
   ],
   "source": [
    "sc = SparkContext('local[*]')"
   ]
  },
  {
   "cell_type": "markdown",
   "id": "de8c371c",
   "metadata": {
    "deletable": false,
    "editable": false,
    "nbgrader": {
     "cell_type": "markdown",
     "checksum": "d05982394f98bcb4251e4ff9ab127411",
     "grade": false,
     "grade_id": "cell-e8730f9abfa1e966",
     "locked": true,
     "schema_version": 3,
     "solution": false,
     "task": false
    }
   },
   "source": [
    "## Problem 1a [5 pts]\n",
    "\n",
    "Create a function `month_reviews` that accepts a globstring to the Netflix prize dataset and return an RDD of tuples where the key is the month the rating was given and the value is the number of ratings given for that month. \n",
    "\n",
    "For reference, The Netflix dataset is in CSV format wherein each file contains the user ratings per movie. According to `/mnt/localdata/public/netflixprize/download/README`, the files have the following format:\n",
    "\n",
    "    TRAINING DATASET FILE DESCRIPTION\n",
    "    ================================================================================\n",
    "\n",
    "    The file \"training_set.tar\" is a tar of a directory containing 17770 files, one\n",
    "    per movie.  The first line of each file contains the movie id followed by a\n",
    "    colon.  Each subsequent line in the file corresponds to a rating from a customer\n",
    "    and its date in the following format:\n",
    "\n",
    "    CustomerID,Rating,Date\n",
    "\n",
    "    - MovieIDs range from 1 to 17770 sequentially.\n",
    "    - CustomerIDs range from 1 to 2649429, with gaps. There are 480189 users.\n",
    "    - Ratings are on a five star (integral) scale from 1 to 5.\n",
    "    - Dates have the format YYYY-MM-DD."
   ]
  },
  {
   "cell_type": "code",
   "execution_count": 3,
   "id": "7f4276f2",
   "metadata": {
    "ExecuteTime": {
     "end_time": "2022-02-04T10:09:51.670821Z",
     "start_time": "2022-02-04T10:09:51.662989Z"
    }
   },
   "outputs": [],
   "source": [
    "path = '/mnt/localdata/public/netflixprize/download/training_set/mv_0002*.txt'\n"
   ]
  },
  {
   "cell_type": "code",
   "execution_count": null,
   "id": "dbf5b6dd",
   "metadata": {
    "ExecuteTime": {
     "end_time": "2022-02-04T07:23:41.335474Z",
     "start_time": "2022-02-04T07:23:18.130279Z"
    }
   },
   "outputs": [],
   "source": []
  },
  {
   "cell_type": "code",
   "execution_count": null,
   "id": "f7ed13f3",
   "metadata": {
    "ExecuteTime": {
     "end_time": "2022-02-04T07:12:05.022216Z",
     "start_time": "2022-02-04T07:12:04.920647Z"
    }
   },
   "outputs": [],
   "source": []
  },
  {
   "cell_type": "code",
   "execution_count": 4,
   "id": "ed407bf2",
   "metadata": {
    "ExecuteTime": {
     "end_time": "2022-02-04T10:09:51.687276Z",
     "start_time": "2022-02-04T10:09:51.675108Z"
    },
    "deletable": false,
    "nbgrader": {
     "cell_type": "code",
     "checksum": "90e7c4f29408f6384d9afc485e241103",
     "grade": false,
     "grade_id": "cell-2685881299822912",
     "locked": false,
     "schema_version": 3,
     "solution": true,
     "task": false
    }
   },
   "outputs": [],
   "source": [
    "def month_reviews(path):\n",
    "    import re\n",
    "    from operator import add\n",
    "    texts = sc.textFile(path)\n",
    "    return (texts\n",
    "                   .map(lambda x: re.findall(r'\\d{4}-(\\d{1,2})-\\d{1,2}', x))\n",
    "                   .flatMap(lambda x: x)\n",
    "                   .map(lambda x: (x,1))\n",
    "                   .reduceByKey(add)\n",
    "                   .map(lambda x: (int(x[0]), x[1]) if x[0][0] != '0' else (int(x[0][1:]), x[1])))"
   ]
  },
  {
   "cell_type": "code",
   "execution_count": 5,
   "id": "5c828ba5",
   "metadata": {
    "ExecuteTime": {
     "end_time": "2022-02-04T10:11:04.470994Z",
     "start_time": "2022-02-04T10:09:51.690855Z"
    },
    "deletable": false,
    "editable": false,
    "nbgrader": {
     "cell_type": "code",
     "checksum": "9451ac9c7405f605f2a0e946d667d681",
     "grade": true,
     "grade_id": "cell-424e52ec6370c6f3",
     "locked": true,
     "points": 5,
     "schema_version": 3,
     "solution": false,
     "task": false
    }
   },
   "outputs": [
    {
     "name": "stderr",
     "output_type": "stream",
     "text": [
      "                                                                                \r"
     ]
    }
   ],
   "source": [
    "mr = sorted(\n",
    "    month_reviews(\n",
    "        '/mnt/localdata/public/netflixprize/download/training_set/'\n",
    "        'mv_0002*.txt')\n",
    "    .collect())\n",
    "assert_equal(len(mr), 12)\n",
    "assert_equal(\n",
    "    mr[:5],\n",
    "    [(1, 431124), (2, 364658), (3, 396998), (4, 400120), (5, 421313)]\n",
    ")"
   ]
  },
  {
   "cell_type": "markdown",
   "id": "cb7ccfc9",
   "metadata": {},
   "source": [
    "## Problem 1b [10 pts]\n",
    "\n",
    "Create a function `hourly_checkin` that returns a Spark RDD of tuples. The first element of the tuple corresponds to the time of day and the second element corresponds to the number of checkins for that time of day. Use the data in `/mnt/localdata/public/yelp/challenge12/yelp_dataset`, which has the following format:\n",
    "\n",
    "    {\n",
    "      // string, 22 character business id, maps to business in business.json\n",
    "      \"business_id\": \"tnhfDv5Il8EaGSXZGiuQGg\",\n",
    "\n",
    "      \"time\" : {\n",
    "          // each key corresponds to day of week and hour of day. example: Mon-0 means Monday, 0000H\n",
    "          // value corresponds to number of checkins for that day of week and hour of day combination\n",
    "          \"Mon-0\": 10,\n",
    "          \"Mon-1\": 3,\n",
    "          \"Mon-4\": 2,\n",
    "          ...\n",
    "      }          \n",
    "    }"
   ]
  },
  {
   "cell_type": "code",
   "execution_count": 6,
   "id": "b01497c5",
   "metadata": {
    "ExecuteTime": {
     "end_time": "2022-02-04T10:11:04.487445Z",
     "start_time": "2022-02-04T10:11:04.474834Z"
    },
    "deletable": false,
    "nbgrader": {
     "cell_type": "code",
     "checksum": "474812a430654f056c0ee48581dbdcb3",
     "grade": false,
     "grade_id": "cell-2ca1eb651395d029",
     "locked": false,
     "schema_version": 3,
     "solution": true,
     "task": false
    }
   },
   "outputs": [],
   "source": [
    "def hourly_checkin():\n",
    "    path = '/mnt/localdata/public/yelp/challenge12/yelp_dataset/yelp_academic_dataset_checkin.json'\n",
    "    import json\n",
    "    import re\n",
    "    from operator import add\n",
    "    yelp = sc.textFile(path)\n",
    "\n",
    "    return (yelp\n",
    "     .map(json.loads)\n",
    "     .map(lambda x: x.get('time', ''))\n",
    "     .map(lambda x: [(k,v) for k,v in x.items()])\n",
    "     .flatMap(lambda x: x)\n",
    "     .map(lambda x: (int(*re.findall(r'-(\\d{1,2})', x[0])), x[1]))\n",
    "     .reduceByKey(add))"
   ]
  },
  {
   "cell_type": "code",
   "execution_count": 7,
   "id": "69fa78a6",
   "metadata": {
    "ExecuteTime": {
     "end_time": "2022-02-04T10:11:13.658752Z",
     "start_time": "2022-02-04T10:11:04.490653Z"
    },
    "deletable": false,
    "editable": false,
    "nbgrader": {
     "cell_type": "code",
     "checksum": "3d6951a67dc24013f33532096c3fbf79",
     "grade": true,
     "grade_id": "cell-35880f7ac36f9101",
     "locked": true,
     "points": 10,
     "schema_version": 3,
     "solution": false,
     "task": false
    }
   },
   "outputs": [
    {
     "name": "stderr",
     "output_type": "stream",
     "text": [
      "                                                                                \r"
     ]
    }
   ],
   "source": [
    "checkins = sorted(hourly_checkin().collect())\n",
    "\n",
    "assert_equal(\n",
    "    checkins[:5],\n",
    "    [(0, 1399692),\n",
    "     (1, 1468658),\n",
    "     (2, 1330682),\n",
    "     (3, 1018358),\n",
    "     (4, 706797)]\n",
    ")"
   ]
  },
  {
   "cell_type": "markdown",
   "id": "3ffa2d52",
   "metadata": {
    "deletable": false,
    "editable": false,
    "nbgrader": {
     "cell_type": "markdown",
     "checksum": "15d321d6ba5e51dfba8037cb809f09af",
     "grade": false,
     "grade_id": "cell-a2a59f57411bf696",
     "locked": true,
     "schema_version": 3,
     "solution": false,
     "task": false
    }
   },
   "source": [
    "## Problem 1c [10 pts]\n",
    "\n",
    "Create a function `most_forks` that accepts a globstring from the [Github archive](https://www.gharchive.org) data then returns a list of tuples corresponding to the 10 repositories with the most `ForkEvent`s across the files referred to by the globstring. Each tuple comprises the `repo` `name` and the number of `ForkEvent`s. Sort by decreasing number of `ForkEvent`s then user-repo name alphabetically."
   ]
  },
  {
   "cell_type": "code",
   "execution_count": 8,
   "id": "d147055d",
   "metadata": {
    "ExecuteTime": {
     "end_time": "2022-02-04T10:11:13.671984Z",
     "start_time": "2022-02-04T10:11:13.662231Z"
    },
    "deletable": false,
    "nbgrader": {
     "cell_type": "code",
     "checksum": "798ef138d45de9530c60b814f4727f49",
     "grade": false,
     "grade_id": "cell-0093398bcd339152",
     "locked": false,
     "schema_version": 3,
     "solution": true,
     "task": false
    }
   },
   "outputs": [],
   "source": [
    "def most_forks(files):\n",
    "    import json\n",
    "    from operator import add\n",
    "    text = sc.textFile(files)\n",
    "    return (text\n",
    "     .map(json.loads)\n",
    "     .filter(lambda x: x.get('type', False) == 'ForkEvent')\n",
    "     .map(lambda x: (x.get('repo', {}).get('name', ''),1))\n",
    "     .reduceByKey(add)\n",
    "     .top(10, key=lambda x: (x[1],x[0])))"
   ]
  },
  {
   "cell_type": "code",
   "execution_count": 9,
   "id": "9b73ea77",
   "metadata": {
    "ExecuteTime": {
     "end_time": "2022-02-04T10:11:13.753728Z",
     "start_time": "2022-02-04T10:11:13.674961Z"
    }
   },
   "outputs": [],
   "source": [
    "# files = '/mnt/localdata/public/gharchive/2020-01-01-*.json.gz'\n",
    "# import json\n",
    "# from operator import add\n",
    "# text = sc.textFile(files)\n",
    "# (text\n",
    "#  .map(json.loads)\n",
    "#  .filter(lambda x: x.get('type', False) == 'ForkEvent')\n",
    "#  .map(lambda x: (x.get('repo', {}).get('name', ''),1))\n",
    "#  .reduceByKey(add)\n",
    "#  .top(10, key=lambda x: (x[1],x[0])))"
   ]
  },
  {
   "cell_type": "code",
   "execution_count": 10,
   "id": "b942bf23",
   "metadata": {
    "ExecuteTime": {
     "end_time": "2022-02-04T10:12:18.978184Z",
     "start_time": "2022-02-04T10:11:13.759462Z"
    },
    "deletable": false,
    "editable": false,
    "nbgrader": {
     "cell_type": "code",
     "checksum": "da077b1c9d9c49709c5794e890937905",
     "grade": true,
     "grade_id": "cell-5dedc9883570d59b",
     "locked": true,
     "points": 10,
     "schema_version": 3,
     "solution": false,
     "task": false
    }
   },
   "outputs": [
    {
     "name": "stderr",
     "output_type": "stream",
     "text": [
      "                                                                                \r"
     ]
    }
   ],
   "source": [
    "from operator import itemgetter\n",
    "mf = most_forks('/mnt/localdata/public/gharchive/2020-01-01-*.json.gz')\n",
    "assert_equal(\n",
    "    list(map(itemgetter(1), mf[:5])),\n",
    "    [83, 82, 54, 54, 45]\n",
    ")\n",
    "assert_equal(\n",
    "    sorted(map(itemgetter(0), mf[:5])),\n",
    "    ['SmartThingsCommunity/SmartThingsPublic',\n",
    "     'coolsnowwolf/lede',\n",
    "     'jackfrued/Python-100-Days',\n",
    "     'nightscout/cgm-remote-monitor',\n",
    "     'testerSunshine/12306']\n",
    ")"
   ]
  },
  {
   "cell_type": "code",
   "execution_count": 11,
   "id": "2820693a",
   "metadata": {
    "ExecuteTime": {
     "end_time": "2022-02-04T10:12:19.075442Z",
     "start_time": "2022-02-04T10:12:19.054334Z"
    }
   },
   "outputs": [
    {
     "data": {
      "text/plain": [
       "'test'"
      ]
     },
     "execution_count": 11,
     "metadata": {},
     "output_type": "execute_result"
    }
   ],
   "source": [
    "'test'"
   ]
  }
 ],
 "metadata": {
  "hide_input": false,
  "kernelspec": {
   "display_name": "Python 3 (ipykernel)",
   "language": "python",
   "name": "python3"
  },
  "language_info": {
   "codemirror_mode": {
    "name": "ipython",
    "version": 3
   },
   "file_extension": ".py",
   "mimetype": "text/x-python",
   "name": "python",
   "nbconvert_exporter": "python",
   "pygments_lexer": "ipython3",
   "version": "3.9.6"
  },
  "toc": {
   "base_numbering": 1,
   "nav_menu": {},
   "number_sections": true,
   "sideBar": true,
   "skip_h1_title": false,
   "title_cell": "Table of Contents",
   "title_sidebar": "Contents",
   "toc_cell": false,
   "toc_position": {},
   "toc_section_display": true,
   "toc_window_display": false
  }
 },
 "nbformat": 4,
 "nbformat_minor": 5
}
