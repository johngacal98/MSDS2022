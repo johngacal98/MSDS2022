{
 "cells": [
  {
   "cell_type": "markdown",
   "id": "557314e0",
   "metadata": {},
   "source": [
    "# Spark SQL API"
   ]
  },
  {
   "cell_type": "code",
   "execution_count": 1,
   "id": "4611fa9d",
   "metadata": {
    "ExecuteTime": {
     "end_time": "2022-02-16T11:20:18.672632Z",
     "start_time": "2022-02-16T11:20:13.638816Z"
    }
   },
   "outputs": [
    {
     "name": "stderr",
     "output_type": "stream",
     "text": [
      "WARNING: An illegal reflective access operation has occurred\n",
      "WARNING: Illegal reflective access by org.apache.spark.unsafe.Platform (file:/usr/local/spark-3.1.2-bin-hadoop3.2/jars/spark-unsafe_2.12-3.1.2.jar) to constructor java.nio.DirectByteBuffer(long,int)\n",
      "WARNING: Please consider reporting this to the maintainers of org.apache.spark.unsafe.Platform\n",
      "WARNING: Use --illegal-access=warn to enable warnings of further illegal reflective access operations\n",
      "WARNING: All illegal access operations will be denied in a future release\n",
      "22/02/16 19:20:15 WARN NativeCodeLoader: Unable to load native-hadoop library for your platform... using builtin-java classes where applicable\n",
      "Using Spark's default log4j profile: org/apache/spark/log4j-defaults.properties\n",
      "Setting default log level to \"WARN\".\n",
      "To adjust logging level use sc.setLogLevel(newLevel). For SparkR, use setLogLevel(newLevel).\n"
     ]
    }
   ],
   "source": [
    "from pyspark.sql import SparkSession\n",
    "spark = (SparkSession\n",
    "     .builder\n",
    "     .master('local[*]')\n",
    "     .getOrCreate())"
   ]
  },
  {
   "cell_type": "code",
   "execution_count": 2,
   "id": "83ea3dff",
   "metadata": {
    "ExecuteTime": {
     "end_time": "2022-02-16T11:20:23.153602Z",
     "start_time": "2022-02-16T11:20:18.676125Z"
    }
   },
   "outputs": [],
   "source": [
    "trips = spark.read.csv(\n",
    "    '/mnt/data/public/nyctaxi/all/green_tripdata_2017-1*.csv',\n",
    "    sep=',', header=True\n",
    ")"
   ]
  },
  {
   "cell_type": "code",
   "execution_count": 3,
   "id": "ab70b663",
   "metadata": {
    "ExecuteTime": {
     "end_time": "2022-02-16T11:20:23.167572Z",
     "start_time": "2022-02-16T11:20:23.156323Z"
    }
   },
   "outputs": [
    {
     "name": "stdout",
     "output_type": "stream",
     "text": [
      "root\n",
      " |-- VendorID: string (nullable = true)\n",
      " |-- lpep_pickup_datetime: string (nullable = true)\n",
      " |-- lpep_dropoff_datetime: string (nullable = true)\n",
      " |-- store_and_fwd_flag: string (nullable = true)\n",
      " |-- RatecodeID: string (nullable = true)\n",
      " |-- PULocationID: string (nullable = true)\n",
      " |-- DOLocationID: string (nullable = true)\n",
      " |-- passenger_count: string (nullable = true)\n",
      " |-- trip_distance: string (nullable = true)\n",
      " |-- fare_amount: string (nullable = true)\n",
      " |-- extra: string (nullable = true)\n",
      " |-- mta_tax: string (nullable = true)\n",
      " |-- tip_amount: string (nullable = true)\n",
      " |-- tolls_amount: string (nullable = true)\n",
      " |-- ehail_fee: string (nullable = true)\n",
      " |-- improvement_surcharge: string (nullable = true)\n",
      " |-- total_amount: string (nullable = true)\n",
      " |-- payment_type: string (nullable = true)\n",
      " |-- trip_type: string (nullable = true)\n",
      "\n"
     ]
    }
   ],
   "source": [
    "trips.printSchema()"
   ]
  },
  {
   "cell_type": "code",
   "execution_count": 4,
   "id": "bf7e1cf9",
   "metadata": {
    "ExecuteTime": {
     "end_time": "2022-02-16T11:20:46.240461Z",
     "start_time": "2022-02-16T11:20:23.169686Z"
    }
   },
   "outputs": [
    {
     "name": "stderr",
     "output_type": "stream",
     "text": [
      "22/02/16 19:20:46 WARN package: Truncated the string representation of a plan since it was too large. This behavior can be adjusted by setting 'spark.sql.debug.maxToStringFields'.\n"
     ]
    }
   ],
   "source": [
    "tweets = spark.read.json(\n",
    "    '/mnt/data/public/twitter/sample/data-1909302*.json.bz2'\n",
    ")"
   ]
  },
  {
   "cell_type": "code",
   "execution_count": 5,
   "id": "7518420a",
   "metadata": {
    "ExecuteTime": {
     "end_time": "2022-02-16T11:20:46.298809Z",
     "start_time": "2022-02-16T11:20:46.243407Z"
    }
   },
   "outputs": [
    {
     "name": "stdout",
     "output_type": "stream",
     "text": [
      "root\n",
      " |-- contributors: string (nullable = true)\n",
      " |-- coordinates: struct (nullable = true)\n",
      " |    |-- coordinates: array (nullable = true)\n",
      " |    |    |-- element: double (containsNull = true)\n",
      " |    |-- type: string (nullable = true)\n",
      " |-- created_at: string (nullable = true)\n",
      " |-- delete: struct (nullable = true)\n",
      " |    |-- status: struct (nullable = true)\n",
      " |    |    |-- id: long (nullable = true)\n",
      " |    |    |-- id_str: string (nullable = true)\n",
      " |    |    |-- user_id: long (nullable = true)\n",
      " |    |    |-- user_id_str: string (nullable = true)\n",
      " |    |-- timestamp_ms: string (nullable = true)\n",
      " |-- display_text_range: array (nullable = true)\n",
      " |    |-- element: long (containsNull = true)\n",
      " |-- entities: struct (nullable = true)\n",
      " |    |-- hashtags: array (nullable = true)\n",
      " |    |    |-- element: struct (containsNull = true)\n",
      " |    |    |    |-- indices: array (nullable = true)\n",
      " |    |    |    |    |-- element: long (containsNull = true)\n",
      " |    |    |    |-- text: string (nullable = true)\n",
      " |    |-- media: array (nullable = true)\n",
      " |    |    |-- element: struct (containsNull = true)\n",
      " |    |    |    |-- additional_media_info: struct (nullable = true)\n",
      " |    |    |    |    |-- description: string (nullable = true)\n",
      " |    |    |    |    |-- embeddable: boolean (nullable = true)\n",
      " |    |    |    |    |-- monetizable: boolean (nullable = true)\n",
      " |    |    |    |    |-- title: string (nullable = true)\n",
      " |    |    |    |-- description: string (nullable = true)\n",
      " |    |    |    |-- display_url: string (nullable = true)\n",
      " |    |    |    |-- expanded_url: string (nullable = true)\n",
      " |    |    |    |-- id: long (nullable = true)\n",
      " |    |    |    |-- id_str: string (nullable = true)\n",
      " |    |    |    |-- indices: array (nullable = true)\n",
      " |    |    |    |    |-- element: long (containsNull = true)\n",
      " |    |    |    |-- media_url: string (nullable = true)\n",
      " |    |    |    |-- media_url_https: string (nullable = true)\n",
      " |    |    |    |-- sizes: struct (nullable = true)\n",
      " |    |    |    |    |-- large: struct (nullable = true)\n",
      " |    |    |    |    |    |-- h: long (nullable = true)\n",
      " |    |    |    |    |    |-- resize: string (nullable = true)\n",
      " |    |    |    |    |    |-- w: long (nullable = true)\n",
      " |    |    |    |    |-- medium: struct (nullable = true)\n",
      " |    |    |    |    |    |-- h: long (nullable = true)\n",
      " |    |    |    |    |    |-- resize: string (nullable = true)\n",
      " |    |    |    |    |    |-- w: long (nullable = true)\n",
      " |    |    |    |    |-- small: struct (nullable = true)\n",
      " |    |    |    |    |    |-- h: long (nullable = true)\n",
      " |    |    |    |    |    |-- resize: string (nullable = true)\n",
      " |    |    |    |    |    |-- w: long (nullable = true)\n",
      " |    |    |    |    |-- thumb: struct (nullable = true)\n",
      " |    |    |    |    |    |-- h: long (nullable = true)\n",
      " |    |    |    |    |    |-- resize: string (nullable = true)\n",
      " |    |    |    |    |    |-- w: long (nullable = true)\n",
      " |    |    |    |-- source_status_id: long (nullable = true)\n",
      " |    |    |    |-- source_status_id_str: string (nullable = true)\n",
      " |    |    |    |-- source_user_id: long (nullable = true)\n",
      " |    |    |    |-- source_user_id_str: string (nullable = true)\n",
      " |    |    |    |-- type: string (nullable = true)\n",
      " |    |    |    |-- url: string (nullable = true)\n",
      " |    |-- symbols: array (nullable = true)\n",
      " |    |    |-- element: struct (containsNull = true)\n",
      " |    |    |    |-- indices: array (nullable = true)\n",
      " |    |    |    |    |-- element: long (containsNull = true)\n",
      " |    |    |    |-- text: string (nullable = true)\n",
      " |    |-- urls: array (nullable = true)\n",
      " |    |    |-- element: struct (containsNull = true)\n",
      " |    |    |    |-- display_url: string (nullable = true)\n",
      " |    |    |    |-- expanded_url: string (nullable = true)\n",
      " |    |    |    |-- indices: array (nullable = true)\n",
      " |    |    |    |    |-- element: long (containsNull = true)\n",
      " |    |    |    |-- url: string (nullable = true)\n",
      " |    |-- user_mentions: array (nullable = true)\n",
      " |    |    |-- element: struct (containsNull = true)\n",
      " |    |    |    |-- id: long (nullable = true)\n",
      " |    |    |    |-- id_str: string (nullable = true)\n",
      " |    |    |    |-- indices: array (nullable = true)\n",
      " |    |    |    |    |-- element: long (containsNull = true)\n",
      " |    |    |    |-- name: string (nullable = true)\n",
      " |    |    |    |-- screen_name: string (nullable = true)\n",
      " |-- extended_entities: struct (nullable = true)\n",
      " |    |-- media: array (nullable = true)\n",
      " |    |    |-- element: struct (containsNull = true)\n",
      " |    |    |    |-- additional_media_info: struct (nullable = true)\n",
      " |    |    |    |    |-- description: string (nullable = true)\n",
      " |    |    |    |    |-- embeddable: boolean (nullable = true)\n",
      " |    |    |    |    |-- monetizable: boolean (nullable = true)\n",
      " |    |    |    |    |-- title: string (nullable = true)\n",
      " |    |    |    |-- description: string (nullable = true)\n",
      " |    |    |    |-- display_url: string (nullable = true)\n",
      " |    |    |    |-- expanded_url: string (nullable = true)\n",
      " |    |    |    |-- id: long (nullable = true)\n",
      " |    |    |    |-- id_str: string (nullable = true)\n",
      " |    |    |    |-- indices: array (nullable = true)\n",
      " |    |    |    |    |-- element: long (containsNull = true)\n",
      " |    |    |    |-- media_url: string (nullable = true)\n",
      " |    |    |    |-- media_url_https: string (nullable = true)\n",
      " |    |    |    |-- sizes: struct (nullable = true)\n",
      " |    |    |    |    |-- large: struct (nullable = true)\n",
      " |    |    |    |    |    |-- h: long (nullable = true)\n",
      " |    |    |    |    |    |-- resize: string (nullable = true)\n",
      " |    |    |    |    |    |-- w: long (nullable = true)\n",
      " |    |    |    |    |-- medium: struct (nullable = true)\n",
      " |    |    |    |    |    |-- h: long (nullable = true)\n",
      " |    |    |    |    |    |-- resize: string (nullable = true)\n",
      " |    |    |    |    |    |-- w: long (nullable = true)\n",
      " |    |    |    |    |-- small: struct (nullable = true)\n",
      " |    |    |    |    |    |-- h: long (nullable = true)\n",
      " |    |    |    |    |    |-- resize: string (nullable = true)\n",
      " |    |    |    |    |    |-- w: long (nullable = true)\n",
      " |    |    |    |    |-- thumb: struct (nullable = true)\n",
      " |    |    |    |    |    |-- h: long (nullable = true)\n",
      " |    |    |    |    |    |-- resize: string (nullable = true)\n",
      " |    |    |    |    |    |-- w: long (nullable = true)\n",
      " |    |    |    |-- source_status_id: long (nullable = true)\n",
      " |    |    |    |-- source_status_id_str: string (nullable = true)\n",
      " |    |    |    |-- source_user_id: long (nullable = true)\n",
      " |    |    |    |-- source_user_id_str: string (nullable = true)\n",
      " |    |    |    |-- type: string (nullable = true)\n",
      " |    |    |    |-- url: string (nullable = true)\n",
      " |    |    |    |-- video_info: struct (nullable = true)\n",
      " |    |    |    |    |-- aspect_ratio: array (nullable = true)\n",
      " |    |    |    |    |    |-- element: long (containsNull = true)\n",
      " |    |    |    |    |-- duration_millis: long (nullable = true)\n",
      " |    |    |    |    |-- variants: array (nullable = true)\n",
      " |    |    |    |    |    |-- element: struct (containsNull = true)\n",
      " |    |    |    |    |    |    |-- bitrate: long (nullable = true)\n",
      " |    |    |    |    |    |    |-- content_type: string (nullable = true)\n",
      " |    |    |    |    |    |    |-- url: string (nullable = true)\n",
      " |-- extended_tweet: struct (nullable = true)\n",
      " |    |-- display_text_range: array (nullable = true)\n",
      " |    |    |-- element: long (containsNull = true)\n",
      " |    |-- entities: struct (nullable = true)\n",
      " |    |    |-- hashtags: array (nullable = true)\n",
      " |    |    |    |-- element: struct (containsNull = true)\n",
      " |    |    |    |    |-- indices: array (nullable = true)\n",
      " |    |    |    |    |    |-- element: long (containsNull = true)\n",
      " |    |    |    |    |-- text: string (nullable = true)\n",
      " |    |    |-- media: array (nullable = true)\n",
      " |    |    |    |-- element: struct (containsNull = true)\n",
      " |    |    |    |    |-- additional_media_info: struct (nullable = true)\n",
      " |    |    |    |    |    |-- description: string (nullable = true)\n",
      " |    |    |    |    |    |-- embeddable: boolean (nullable = true)\n",
      " |    |    |    |    |    |-- monetizable: boolean (nullable = true)\n",
      " |    |    |    |    |    |-- title: string (nullable = true)\n",
      " |    |    |    |    |-- description: string (nullable = true)\n",
      " |    |    |    |    |-- display_url: string (nullable = true)\n",
      " |    |    |    |    |-- expanded_url: string (nullable = true)\n",
      " |    |    |    |    |-- id: long (nullable = true)\n",
      " |    |    |    |    |-- id_str: string (nullable = true)\n",
      " |    |    |    |    |-- indices: array (nullable = true)\n",
      " |    |    |    |    |    |-- element: long (containsNull = true)\n",
      " |    |    |    |    |-- media_url: string (nullable = true)\n",
      " |    |    |    |    |-- media_url_https: string (nullable = true)\n",
      " |    |    |    |    |-- sizes: struct (nullable = true)\n",
      " |    |    |    |    |    |-- large: struct (nullable = true)\n",
      " |    |    |    |    |    |    |-- h: long (nullable = true)\n",
      " |    |    |    |    |    |    |-- resize: string (nullable = true)\n",
      " |    |    |    |    |    |    |-- w: long (nullable = true)\n",
      " |    |    |    |    |    |-- medium: struct (nullable = true)\n",
      " |    |    |    |    |    |    |-- h: long (nullable = true)\n",
      " |    |    |    |    |    |    |-- resize: string (nullable = true)\n",
      " |    |    |    |    |    |    |-- w: long (nullable = true)\n",
      " |    |    |    |    |    |-- small: struct (nullable = true)\n",
      " |    |    |    |    |    |    |-- h: long (nullable = true)\n",
      " |    |    |    |    |    |    |-- resize: string (nullable = true)\n",
      " |    |    |    |    |    |    |-- w: long (nullable = true)\n",
      " |    |    |    |    |    |-- thumb: struct (nullable = true)\n",
      " |    |    |    |    |    |    |-- h: long (nullable = true)\n",
      " |    |    |    |    |    |    |-- resize: string (nullable = true)\n",
      " |    |    |    |    |    |    |-- w: long (nullable = true)\n",
      " |    |    |    |    |-- source_status_id: long (nullable = true)\n",
      " |    |    |    |    |-- source_status_id_str: string (nullable = true)\n",
      " |    |    |    |    |-- source_user_id: long (nullable = true)\n",
      " |    |    |    |    |-- source_user_id_str: string (nullable = true)\n",
      " |    |    |    |    |-- type: string (nullable = true)\n",
      " |    |    |    |    |-- url: string (nullable = true)\n",
      " |    |    |    |    |-- video_info: struct (nullable = true)\n",
      " |    |    |    |    |    |-- aspect_ratio: array (nullable = true)\n",
      " |    |    |    |    |    |    |-- element: long (containsNull = true)\n",
      " |    |    |    |    |    |-- duration_millis: long (nullable = true)\n",
      " |    |    |    |    |    |-- variants: array (nullable = true)\n",
      " |    |    |    |    |    |    |-- element: struct (containsNull = true)\n",
      " |    |    |    |    |    |    |    |-- bitrate: long (nullable = true)\n",
      " |    |    |    |    |    |    |    |-- content_type: string (nullable = true)\n",
      " |    |    |    |    |    |    |    |-- url: string (nullable = true)\n",
      " |    |    |-- symbols: array (nullable = true)\n",
      " |    |    |    |-- element: struct (containsNull = true)\n",
      " |    |    |    |    |-- indices: array (nullable = true)\n",
      " |    |    |    |    |    |-- element: long (containsNull = true)\n",
      " |    |    |    |    |-- text: string (nullable = true)\n",
      " |    |    |-- urls: array (nullable = true)\n",
      " |    |    |    |-- element: struct (containsNull = true)\n",
      " |    |    |    |    |-- display_url: string (nullable = true)\n",
      " |    |    |    |    |-- expanded_url: string (nullable = true)\n",
      " |    |    |    |    |-- indices: array (nullable = true)\n",
      " |    |    |    |    |    |-- element: long (containsNull = true)\n",
      " |    |    |    |    |-- url: string (nullable = true)\n",
      " |    |    |-- user_mentions: array (nullable = true)\n",
      " |    |    |    |-- element: struct (containsNull = true)\n",
      " |    |    |    |    |-- id: long (nullable = true)\n",
      " |    |    |    |    |-- id_str: string (nullable = true)\n",
      " |    |    |    |    |-- indices: array (nullable = true)\n",
      " |    |    |    |    |    |-- element: long (containsNull = true)\n",
      " |    |    |    |    |-- name: string (nullable = true)\n",
      " |    |    |    |    |-- screen_name: string (nullable = true)\n",
      " |    |-- extended_entities: struct (nullable = true)\n",
      " |    |    |-- media: array (nullable = true)\n",
      " |    |    |    |-- element: struct (containsNull = true)\n",
      " |    |    |    |    |-- additional_media_info: struct (nullable = true)\n",
      " |    |    |    |    |    |-- description: string (nullable = true)\n",
      " |    |    |    |    |    |-- embeddable: boolean (nullable = true)\n",
      " |    |    |    |    |    |-- monetizable: boolean (nullable = true)\n",
      " |    |    |    |    |    |-- title: string (nullable = true)\n",
      " |    |    |    |    |-- description: string (nullable = true)\n",
      " |    |    |    |    |-- display_url: string (nullable = true)\n",
      " |    |    |    |    |-- expanded_url: string (nullable = true)\n",
      " |    |    |    |    |-- id: long (nullable = true)\n",
      " |    |    |    |    |-- id_str: string (nullable = true)\n",
      " |    |    |    |    |-- indices: array (nullable = true)\n",
      " |    |    |    |    |    |-- element: long (containsNull = true)\n",
      " |    |    |    |    |-- media_url: string (nullable = true)\n",
      " |    |    |    |    |-- media_url_https: string (nullable = true)\n",
      " |    |    |    |    |-- sizes: struct (nullable = true)\n",
      " |    |    |    |    |    |-- large: struct (nullable = true)\n",
      " |    |    |    |    |    |    |-- h: long (nullable = true)\n",
      " |    |    |    |    |    |    |-- resize: string (nullable = true)\n",
      " |    |    |    |    |    |    |-- w: long (nullable = true)\n",
      " |    |    |    |    |    |-- medium: struct (nullable = true)\n",
      " |    |    |    |    |    |    |-- h: long (nullable = true)\n",
      " |    |    |    |    |    |    |-- resize: string (nullable = true)\n",
      " |    |    |    |    |    |    |-- w: long (nullable = true)\n",
      " |    |    |    |    |    |-- small: struct (nullable = true)\n",
      " |    |    |    |    |    |    |-- h: long (nullable = true)\n",
      " |    |    |    |    |    |    |-- resize: string (nullable = true)\n",
      " |    |    |    |    |    |    |-- w: long (nullable = true)\n",
      " |    |    |    |    |    |-- thumb: struct (nullable = true)\n",
      " |    |    |    |    |    |    |-- h: long (nullable = true)\n",
      " |    |    |    |    |    |    |-- resize: string (nullable = true)\n",
      " |    |    |    |    |    |    |-- w: long (nullable = true)\n",
      " |    |    |    |    |-- source_status_id: long (nullable = true)\n",
      " |    |    |    |    |-- source_status_id_str: string (nullable = true)\n",
      " |    |    |    |    |-- source_user_id: long (nullable = true)\n",
      " |    |    |    |    |-- source_user_id_str: string (nullable = true)\n",
      " |    |    |    |    |-- type: string (nullable = true)\n",
      " |    |    |    |    |-- url: string (nullable = true)\n",
      " |    |    |    |    |-- video_info: struct (nullable = true)\n",
      " |    |    |    |    |    |-- aspect_ratio: array (nullable = true)\n",
      " |    |    |    |    |    |    |-- element: long (containsNull = true)\n",
      " |    |    |    |    |    |-- duration_millis: long (nullable = true)\n",
      " |    |    |    |    |    |-- variants: array (nullable = true)\n",
      " |    |    |    |    |    |    |-- element: struct (containsNull = true)\n",
      " |    |    |    |    |    |    |    |-- bitrate: long (nullable = true)\n",
      " |    |    |    |    |    |    |    |-- content_type: string (nullable = true)\n",
      " |    |    |    |    |    |    |    |-- url: string (nullable = true)\n",
      " |    |-- full_text: string (nullable = true)\n",
      " |-- favorite_count: long (nullable = true)\n",
      " |-- favorited: boolean (nullable = true)\n",
      " |-- filter_level: string (nullable = true)\n",
      " |-- geo: struct (nullable = true)\n",
      " |    |-- coordinates: array (nullable = true)\n",
      " |    |    |-- element: double (containsNull = true)\n",
      " |    |-- type: string (nullable = true)\n",
      " |-- id: long (nullable = true)\n",
      " |-- id_str: string (nullable = true)\n",
      " |-- in_reply_to_screen_name: string (nullable = true)\n",
      " |-- in_reply_to_status_id: long (nullable = true)\n",
      " |-- in_reply_to_status_id_str: string (nullable = true)\n",
      " |-- in_reply_to_user_id: long (nullable = true)\n",
      " |-- in_reply_to_user_id_str: string (nullable = true)\n",
      " |-- is_quote_status: boolean (nullable = true)\n",
      " |-- lang: string (nullable = true)\n",
      " |-- place: struct (nullable = true)\n",
      " |    |-- bounding_box: struct (nullable = true)\n",
      " |    |    |-- coordinates: array (nullable = true)\n",
      " |    |    |    |-- element: array (containsNull = true)\n",
      " |    |    |    |    |-- element: array (containsNull = true)\n",
      " |    |    |    |    |    |-- element: double (containsNull = true)\n",
      " |    |    |-- type: string (nullable = true)\n",
      " |    |-- country: string (nullable = true)\n",
      " |    |-- country_code: string (nullable = true)\n",
      " |    |-- full_name: string (nullable = true)\n",
      " |    |-- id: string (nullable = true)\n",
      " |    |-- name: string (nullable = true)\n",
      " |    |-- place_type: string (nullable = true)\n",
      " |    |-- url: string (nullable = true)\n",
      " |-- possibly_sensitive: boolean (nullable = true)\n",
      " |-- quote_count: long (nullable = true)\n",
      " |-- quoted_status: struct (nullable = true)\n",
      " |    |-- contributors: string (nullable = true)\n",
      " |    |-- coordinates: struct (nullable = true)\n",
      " |    |    |-- coordinates: array (nullable = true)\n",
      " |    |    |    |-- element: double (containsNull = true)\n",
      " |    |    |-- type: string (nullable = true)\n",
      " |    |-- created_at: string (nullable = true)\n",
      " |    |-- display_text_range: array (nullable = true)\n",
      " |    |    |-- element: long (containsNull = true)\n",
      " |    |-- entities: struct (nullable = true)\n",
      " |    |    |-- hashtags: array (nullable = true)\n",
      " |    |    |    |-- element: struct (containsNull = true)\n",
      " |    |    |    |    |-- indices: array (nullable = true)\n",
      " |    |    |    |    |    |-- element: long (containsNull = true)\n",
      " |    |    |    |    |-- text: string (nullable = true)\n",
      " |    |    |-- media: array (nullable = true)\n",
      " |    |    |    |-- element: struct (containsNull = true)\n",
      " |    |    |    |    |-- additional_media_info: struct (nullable = true)\n",
      " |    |    |    |    |    |-- description: string (nullable = true)\n",
      " |    |    |    |    |    |-- embeddable: boolean (nullable = true)\n",
      " |    |    |    |    |    |-- monetizable: boolean (nullable = true)\n",
      " |    |    |    |    |    |-- title: string (nullable = true)\n",
      " |    |    |    |    |-- description: string (nullable = true)\n",
      " |    |    |    |    |-- display_url: string (nullable = true)\n",
      " |    |    |    |    |-- expanded_url: string (nullable = true)\n",
      " |    |    |    |    |-- id: long (nullable = true)\n",
      " |    |    |    |    |-- id_str: string (nullable = true)\n",
      " |    |    |    |    |-- indices: array (nullable = true)\n",
      " |    |    |    |    |    |-- element: long (containsNull = true)\n",
      " |    |    |    |    |-- media_url: string (nullable = true)\n",
      " |    |    |    |    |-- media_url_https: string (nullable = true)\n",
      " |    |    |    |    |-- sizes: struct (nullable = true)\n",
      " |    |    |    |    |    |-- large: struct (nullable = true)\n",
      " |    |    |    |    |    |    |-- h: long (nullable = true)\n",
      " |    |    |    |    |    |    |-- resize: string (nullable = true)\n",
      " |    |    |    |    |    |    |-- w: long (nullable = true)\n",
      " |    |    |    |    |    |-- medium: struct (nullable = true)\n",
      " |    |    |    |    |    |    |-- h: long (nullable = true)\n",
      " |    |    |    |    |    |    |-- resize: string (nullable = true)\n",
      " |    |    |    |    |    |    |-- w: long (nullable = true)\n",
      " |    |    |    |    |    |-- small: struct (nullable = true)\n",
      " |    |    |    |    |    |    |-- h: long (nullable = true)\n",
      " |    |    |    |    |    |    |-- resize: string (nullable = true)\n",
      " |    |    |    |    |    |    |-- w: long (nullable = true)\n",
      " |    |    |    |    |    |-- thumb: struct (nullable = true)\n",
      " |    |    |    |    |    |    |-- h: long (nullable = true)\n",
      " |    |    |    |    |    |    |-- resize: string (nullable = true)\n",
      " |    |    |    |    |    |    |-- w: long (nullable = true)\n",
      " |    |    |    |    |-- source_status_id: long (nullable = true)\n",
      " |    |    |    |    |-- source_status_id_str: string (nullable = true)\n",
      " |    |    |    |    |-- source_user_id: long (nullable = true)\n",
      " |    |    |    |    |-- source_user_id_str: string (nullable = true)\n",
      " |    |    |    |    |-- type: string (nullable = true)\n",
      " |    |    |    |    |-- url: string (nullable = true)\n",
      " |    |    |-- symbols: array (nullable = true)\n",
      " |    |    |    |-- element: struct (containsNull = true)\n",
      " |    |    |    |    |-- indices: array (nullable = true)\n",
      " |    |    |    |    |    |-- element: long (containsNull = true)\n",
      " |    |    |    |    |-- text: string (nullable = true)\n",
      " |    |    |-- urls: array (nullable = true)\n",
      " |    |    |    |-- element: struct (containsNull = true)\n",
      " |    |    |    |    |-- display_url: string (nullable = true)\n",
      " |    |    |    |    |-- expanded_url: string (nullable = true)\n",
      " |    |    |    |    |-- indices: array (nullable = true)\n",
      " |    |    |    |    |    |-- element: long (containsNull = true)\n",
      " |    |    |    |    |-- url: string (nullable = true)\n",
      " |    |    |-- user_mentions: array (nullable = true)\n",
      " |    |    |    |-- element: struct (containsNull = true)\n",
      " |    |    |    |    |-- id: long (nullable = true)\n",
      " |    |    |    |    |-- id_str: string (nullable = true)\n",
      " |    |    |    |    |-- indices: array (nullable = true)\n",
      " |    |    |    |    |    |-- element: long (containsNull = true)\n",
      " |    |    |    |    |-- name: string (nullable = true)\n",
      " |    |    |    |    |-- screen_name: string (nullable = true)\n",
      " |    |-- extended_entities: struct (nullable = true)\n",
      " |    |    |-- media: array (nullable = true)\n",
      " |    |    |    |-- element: struct (containsNull = true)\n",
      " |    |    |    |    |-- additional_media_info: struct (nullable = true)\n",
      " |    |    |    |    |    |-- description: string (nullable = true)\n",
      " |    |    |    |    |    |-- embeddable: boolean (nullable = true)\n",
      " |    |    |    |    |    |-- monetizable: boolean (nullable = true)\n",
      " |    |    |    |    |    |-- title: string (nullable = true)\n",
      " |    |    |    |    |-- description: string (nullable = true)\n",
      " |    |    |    |    |-- display_url: string (nullable = true)\n",
      " |    |    |    |    |-- expanded_url: string (nullable = true)\n",
      " |    |    |    |    |-- id: long (nullable = true)\n",
      " |    |    |    |    |-- id_str: string (nullable = true)\n",
      " |    |    |    |    |-- indices: array (nullable = true)\n",
      " |    |    |    |    |    |-- element: long (containsNull = true)\n",
      " |    |    |    |    |-- media_url: string (nullable = true)\n",
      " |    |    |    |    |-- media_url_https: string (nullable = true)\n",
      " |    |    |    |    |-- sizes: struct (nullable = true)\n",
      " |    |    |    |    |    |-- large: struct (nullable = true)\n",
      " |    |    |    |    |    |    |-- h: long (nullable = true)\n",
      " |    |    |    |    |    |    |-- resize: string (nullable = true)\n",
      " |    |    |    |    |    |    |-- w: long (nullable = true)\n",
      " |    |    |    |    |    |-- medium: struct (nullable = true)\n",
      " |    |    |    |    |    |    |-- h: long (nullable = true)\n",
      " |    |    |    |    |    |    |-- resize: string (nullable = true)\n",
      " |    |    |    |    |    |    |-- w: long (nullable = true)\n",
      " |    |    |    |    |    |-- small: struct (nullable = true)\n",
      " |    |    |    |    |    |    |-- h: long (nullable = true)\n",
      " |    |    |    |    |    |    |-- resize: string (nullable = true)\n",
      " |    |    |    |    |    |    |-- w: long (nullable = true)\n",
      " |    |    |    |    |    |-- thumb: struct (nullable = true)\n",
      " |    |    |    |    |    |    |-- h: long (nullable = true)\n",
      " |    |    |    |    |    |    |-- resize: string (nullable = true)\n",
      " |    |    |    |    |    |    |-- w: long (nullable = true)\n",
      " |    |    |    |    |-- source_status_id: long (nullable = true)\n",
      " |    |    |    |    |-- source_status_id_str: string (nullable = true)\n",
      " |    |    |    |    |-- source_user_id: long (nullable = true)\n",
      " |    |    |    |    |-- source_user_id_str: string (nullable = true)\n",
      " |    |    |    |    |-- type: string (nullable = true)\n",
      " |    |    |    |    |-- url: string (nullable = true)\n",
      " |    |    |    |    |-- video_info: struct (nullable = true)\n",
      " |    |    |    |    |    |-- aspect_ratio: array (nullable = true)\n",
      " |    |    |    |    |    |    |-- element: long (containsNull = true)\n",
      " |    |    |    |    |    |-- duration_millis: long (nullable = true)\n",
      " |    |    |    |    |    |-- variants: array (nullable = true)\n",
      " |    |    |    |    |    |    |-- element: struct (containsNull = true)\n",
      " |    |    |    |    |    |    |    |-- bitrate: long (nullable = true)\n",
      " |    |    |    |    |    |    |    |-- content_type: string (nullable = true)\n",
      " |    |    |    |    |    |    |    |-- url: string (nullable = true)\n",
      " |    |-- extended_tweet: struct (nullable = true)\n",
      " |    |    |-- display_text_range: array (nullable = true)\n",
      " |    |    |    |-- element: long (containsNull = true)\n",
      " |    |    |-- entities: struct (nullable = true)\n",
      " |    |    |    |-- hashtags: array (nullable = true)\n",
      " |    |    |    |    |-- element: struct (containsNull = true)\n",
      " |    |    |    |    |    |-- indices: array (nullable = true)\n",
      " |    |    |    |    |    |    |-- element: long (containsNull = true)\n",
      " |    |    |    |    |    |-- text: string (nullable = true)\n",
      " |    |    |    |-- media: array (nullable = true)\n",
      " |    |    |    |    |-- element: struct (containsNull = true)\n",
      " |    |    |    |    |    |-- additional_media_info: struct (nullable = true)\n",
      " |    |    |    |    |    |    |-- description: string (nullable = true)\n",
      " |    |    |    |    |    |    |-- embeddable: boolean (nullable = true)\n",
      " |    |    |    |    |    |    |-- monetizable: boolean (nullable = true)\n",
      " |    |    |    |    |    |    |-- title: string (nullable = true)\n",
      " |    |    |    |    |    |-- description: string (nullable = true)\n",
      " |    |    |    |    |    |-- display_url: string (nullable = true)\n",
      " |    |    |    |    |    |-- expanded_url: string (nullable = true)\n",
      " |    |    |    |    |    |-- id: long (nullable = true)\n",
      " |    |    |    |    |    |-- id_str: string (nullable = true)\n",
      " |    |    |    |    |    |-- indices: array (nullable = true)\n",
      " |    |    |    |    |    |    |-- element: long (containsNull = true)\n",
      " |    |    |    |    |    |-- media_url: string (nullable = true)\n",
      " |    |    |    |    |    |-- media_url_https: string (nullable = true)\n",
      " |    |    |    |    |    |-- sizes: struct (nullable = true)\n",
      " |    |    |    |    |    |    |-- large: struct (nullable = true)\n",
      " |    |    |    |    |    |    |    |-- h: long (nullable = true)\n",
      " |    |    |    |    |    |    |    |-- resize: string (nullable = true)\n",
      " |    |    |    |    |    |    |    |-- w: long (nullable = true)\n",
      " |    |    |    |    |    |    |-- medium: struct (nullable = true)\n",
      " |    |    |    |    |    |    |    |-- h: long (nullable = true)\n",
      " |    |    |    |    |    |    |    |-- resize: string (nullable = true)\n",
      " |    |    |    |    |    |    |    |-- w: long (nullable = true)\n",
      " |    |    |    |    |    |    |-- small: struct (nullable = true)\n",
      " |    |    |    |    |    |    |    |-- h: long (nullable = true)\n",
      " |    |    |    |    |    |    |    |-- resize: string (nullable = true)\n",
      " |    |    |    |    |    |    |    |-- w: long (nullable = true)\n",
      " |    |    |    |    |    |    |-- thumb: struct (nullable = true)\n",
      " |    |    |    |    |    |    |    |-- h: long (nullable = true)\n",
      " |    |    |    |    |    |    |    |-- resize: string (nullable = true)\n",
      " |    |    |    |    |    |    |    |-- w: long (nullable = true)\n",
      " |    |    |    |    |    |-- source_status_id: long (nullable = true)\n",
      " |    |    |    |    |    |-- source_status_id_str: string (nullable = true)\n",
      " |    |    |    |    |    |-- source_user_id: long (nullable = true)\n",
      " |    |    |    |    |    |-- source_user_id_str: string (nullable = true)\n",
      " |    |    |    |    |    |-- type: string (nullable = true)\n",
      " |    |    |    |    |    |-- url: string (nullable = true)\n",
      " |    |    |    |    |    |-- video_info: struct (nullable = true)\n",
      " |    |    |    |    |    |    |-- aspect_ratio: array (nullable = true)\n",
      " |    |    |    |    |    |    |    |-- element: long (containsNull = true)\n",
      " |    |    |    |    |    |    |-- duration_millis: long (nullable = true)\n",
      " |    |    |    |    |    |    |-- variants: array (nullable = true)\n",
      " |    |    |    |    |    |    |    |-- element: struct (containsNull = true)\n",
      " |    |    |    |    |    |    |    |    |-- bitrate: long (nullable = true)\n",
      " |    |    |    |    |    |    |    |    |-- content_type: string (nullable = true)\n",
      " |    |    |    |    |    |    |    |    |-- url: string (nullable = true)\n",
      " |    |    |    |-- symbols: array (nullable = true)\n",
      " |    |    |    |    |-- element: struct (containsNull = true)\n",
      " |    |    |    |    |    |-- indices: array (nullable = true)\n",
      " |    |    |    |    |    |    |-- element: long (containsNull = true)\n",
      " |    |    |    |    |    |-- text: string (nullable = true)\n",
      " |    |    |    |-- urls: array (nullable = true)\n",
      " |    |    |    |    |-- element: struct (containsNull = true)\n",
      " |    |    |    |    |    |-- display_url: string (nullable = true)\n",
      " |    |    |    |    |    |-- expanded_url: string (nullable = true)\n",
      " |    |    |    |    |    |-- indices: array (nullable = true)\n",
      " |    |    |    |    |    |    |-- element: long (containsNull = true)\n",
      " |    |    |    |    |    |-- url: string (nullable = true)\n",
      " |    |    |    |-- user_mentions: array (nullable = true)\n",
      " |    |    |    |    |-- element: struct (containsNull = true)\n",
      " |    |    |    |    |    |-- id: long (nullable = true)\n",
      " |    |    |    |    |    |-- id_str: string (nullable = true)\n",
      " |    |    |    |    |    |-- indices: array (nullable = true)\n",
      " |    |    |    |    |    |    |-- element: long (containsNull = true)\n",
      " |    |    |    |    |    |-- name: string (nullable = true)\n",
      " |    |    |    |    |    |-- screen_name: string (nullable = true)\n",
      " |    |    |-- extended_entities: struct (nullable = true)\n",
      " |    |    |    |-- media: array (nullable = true)\n",
      " |    |    |    |    |-- element: struct (containsNull = true)\n",
      " |    |    |    |    |    |-- additional_media_info: struct (nullable = true)\n",
      " |    |    |    |    |    |    |-- description: string (nullable = true)\n",
      " |    |    |    |    |    |    |-- embeddable: boolean (nullable = true)\n",
      " |    |    |    |    |    |    |-- monetizable: boolean (nullable = true)\n",
      " |    |    |    |    |    |    |-- title: string (nullable = true)\n",
      " |    |    |    |    |    |-- description: string (nullable = true)\n",
      " |    |    |    |    |    |-- display_url: string (nullable = true)\n",
      " |    |    |    |    |    |-- expanded_url: string (nullable = true)\n",
      " |    |    |    |    |    |-- id: long (nullable = true)\n",
      " |    |    |    |    |    |-- id_str: string (nullable = true)\n",
      " |    |    |    |    |    |-- indices: array (nullable = true)\n",
      " |    |    |    |    |    |    |-- element: long (containsNull = true)\n",
      " |    |    |    |    |    |-- media_url: string (nullable = true)\n",
      " |    |    |    |    |    |-- media_url_https: string (nullable = true)\n",
      " |    |    |    |    |    |-- sizes: struct (nullable = true)\n",
      " |    |    |    |    |    |    |-- large: struct (nullable = true)\n",
      " |    |    |    |    |    |    |    |-- h: long (nullable = true)\n",
      " |    |    |    |    |    |    |    |-- resize: string (nullable = true)\n",
      " |    |    |    |    |    |    |    |-- w: long (nullable = true)\n",
      " |    |    |    |    |    |    |-- medium: struct (nullable = true)\n",
      " |    |    |    |    |    |    |    |-- h: long (nullable = true)\n",
      " |    |    |    |    |    |    |    |-- resize: string (nullable = true)\n",
      " |    |    |    |    |    |    |    |-- w: long (nullable = true)\n",
      " |    |    |    |    |    |    |-- small: struct (nullable = true)\n",
      " |    |    |    |    |    |    |    |-- h: long (nullable = true)\n",
      " |    |    |    |    |    |    |    |-- resize: string (nullable = true)\n",
      " |    |    |    |    |    |    |    |-- w: long (nullable = true)\n",
      " |    |    |    |    |    |    |-- thumb: struct (nullable = true)\n",
      " |    |    |    |    |    |    |    |-- h: long (nullable = true)\n",
      " |    |    |    |    |    |    |    |-- resize: string (nullable = true)\n",
      " |    |    |    |    |    |    |    |-- w: long (nullable = true)\n",
      " |    |    |    |    |    |-- source_status_id: long (nullable = true)\n",
      " |    |    |    |    |    |-- source_status_id_str: string (nullable = true)\n",
      " |    |    |    |    |    |-- source_user_id: long (nullable = true)\n",
      " |    |    |    |    |    |-- source_user_id_str: string (nullable = true)\n",
      " |    |    |    |    |    |-- type: string (nullable = true)\n",
      " |    |    |    |    |    |-- url: string (nullable = true)\n",
      " |    |    |    |    |    |-- video_info: struct (nullable = true)\n",
      " |    |    |    |    |    |    |-- aspect_ratio: array (nullable = true)\n",
      " |    |    |    |    |    |    |    |-- element: long (containsNull = true)\n",
      " |    |    |    |    |    |    |-- duration_millis: long (nullable = true)\n",
      " |    |    |    |    |    |    |-- variants: array (nullable = true)\n",
      " |    |    |    |    |    |    |    |-- element: struct (containsNull = true)\n",
      " |    |    |    |    |    |    |    |    |-- bitrate: long (nullable = true)\n",
      " |    |    |    |    |    |    |    |    |-- content_type: string (nullable = true)\n",
      " |    |    |    |    |    |    |    |    |-- url: string (nullable = true)\n",
      " |    |    |-- full_text: string (nullable = true)\n",
      " |    |-- favorite_count: long (nullable = true)\n",
      " |    |-- favorited: boolean (nullable = true)\n",
      " |    |-- filter_level: string (nullable = true)\n",
      " |    |-- geo: struct (nullable = true)\n",
      " |    |    |-- coordinates: array (nullable = true)\n",
      " |    |    |    |-- element: double (containsNull = true)\n",
      " |    |    |-- type: string (nullable = true)\n",
      " |    |-- id: long (nullable = true)\n",
      " |    |-- id_str: string (nullable = true)\n",
      " |    |-- in_reply_to_screen_name: string (nullable = true)\n",
      " |    |-- in_reply_to_status_id: long (nullable = true)\n",
      " |    |-- in_reply_to_status_id_str: string (nullable = true)\n",
      " |    |-- in_reply_to_user_id: long (nullable = true)\n",
      " |    |-- in_reply_to_user_id_str: string (nullable = true)\n",
      " |    |-- is_quote_status: boolean (nullable = true)\n",
      " |    |-- lang: string (nullable = true)\n",
      " |    |-- place: struct (nullable = true)\n",
      " |    |    |-- bounding_box: struct (nullable = true)\n",
      " |    |    |    |-- coordinates: array (nullable = true)\n",
      " |    |    |    |    |-- element: array (containsNull = true)\n",
      " |    |    |    |    |    |-- element: array (containsNull = true)\n",
      " |    |    |    |    |    |    |-- element: double (containsNull = true)\n",
      " |    |    |    |-- type: string (nullable = true)\n",
      " |    |    |-- country: string (nullable = true)\n",
      " |    |    |-- country_code: string (nullable = true)\n",
      " |    |    |-- full_name: string (nullable = true)\n",
      " |    |    |-- id: string (nullable = true)\n",
      " |    |    |-- name: string (nullable = true)\n",
      " |    |    |-- place_type: string (nullable = true)\n",
      " |    |    |-- url: string (nullable = true)\n",
      " |    |-- possibly_sensitive: boolean (nullable = true)\n",
      " |    |-- quote_count: long (nullable = true)\n",
      " |    |-- quoted_status_id: long (nullable = true)\n",
      " |    |-- quoted_status_id_str: string (nullable = true)\n",
      " |    |-- reply_count: long (nullable = true)\n",
      " |    |-- retweet_count: long (nullable = true)\n",
      " |    |-- retweeted: boolean (nullable = true)\n",
      " |    |-- scopes: struct (nullable = true)\n",
      " |    |    |-- followers: boolean (nullable = true)\n",
      " |    |-- source: string (nullable = true)\n",
      " |    |-- text: string (nullable = true)\n",
      " |    |-- truncated: boolean (nullable = true)\n",
      " |    |-- user: struct (nullable = true)\n",
      " |    |    |-- contributors_enabled: boolean (nullable = true)\n",
      " |    |    |-- created_at: string (nullable = true)\n",
      " |    |    |-- default_profile: boolean (nullable = true)\n",
      " |    |    |-- default_profile_image: boolean (nullable = true)\n",
      " |    |    |-- description: string (nullable = true)\n",
      " |    |    |-- favourites_count: long (nullable = true)\n",
      " |    |    |-- follow_request_sent: string (nullable = true)\n",
      " |    |    |-- followers_count: long (nullable = true)\n",
      " |    |    |-- following: string (nullable = true)\n",
      " |    |    |-- friends_count: long (nullable = true)\n",
      " |    |    |-- geo_enabled: boolean (nullable = true)\n",
      " |    |    |-- id: long (nullable = true)\n",
      " |    |    |-- id_str: string (nullable = true)\n",
      " |    |    |-- is_translator: boolean (nullable = true)\n",
      " |    |    |-- lang: string (nullable = true)\n",
      " |    |    |-- listed_count: long (nullable = true)\n",
      " |    |    |-- location: string (nullable = true)\n",
      " |    |    |-- name: string (nullable = true)\n",
      " |    |    |-- notifications: string (nullable = true)\n",
      " |    |    |-- profile_background_color: string (nullable = true)\n",
      " |    |    |-- profile_background_image_url: string (nullable = true)\n",
      " |    |    |-- profile_background_image_url_https: string (nullable = true)\n",
      " |    |    |-- profile_background_tile: boolean (nullable = true)\n",
      " |    |    |-- profile_banner_url: string (nullable = true)\n",
      " |    |    |-- profile_image_url: string (nullable = true)\n",
      " |    |    |-- profile_image_url_https: string (nullable = true)\n",
      " |    |    |-- profile_link_color: string (nullable = true)\n",
      " |    |    |-- profile_sidebar_border_color: string (nullable = true)\n",
      " |    |    |-- profile_sidebar_fill_color: string (nullable = true)\n",
      " |    |    |-- profile_text_color: string (nullable = true)\n",
      " |    |    |-- profile_use_background_image: boolean (nullable = true)\n",
      " |    |    |-- protected: boolean (nullable = true)\n",
      " |    |    |-- screen_name: string (nullable = true)\n",
      " |    |    |-- statuses_count: long (nullable = true)\n",
      " |    |    |-- time_zone: string (nullable = true)\n",
      " |    |    |-- translator_type: string (nullable = true)\n",
      " |    |    |-- url: string (nullable = true)\n",
      " |    |    |-- utc_offset: string (nullable = true)\n",
      " |    |    |-- verified: boolean (nullable = true)\n",
      " |    |-- withheld_in_countries: array (nullable = true)\n",
      " |    |    |-- element: string (containsNull = true)\n",
      " |-- quoted_status_id: long (nullable = true)\n",
      " |-- quoted_status_id_str: string (nullable = true)\n",
      " |-- quoted_status_permalink: struct (nullable = true)\n",
      " |    |-- display: string (nullable = true)\n",
      " |    |-- expanded: string (nullable = true)\n",
      " |    |-- url: string (nullable = true)\n",
      " |-- reply_count: long (nullable = true)\n",
      " |-- retweet_count: long (nullable = true)\n",
      " |-- retweeted: boolean (nullable = true)\n",
      " |-- retweeted_status: struct (nullable = true)\n",
      " |    |-- contributors: string (nullable = true)\n",
      " |    |-- coordinates: struct (nullable = true)\n",
      " |    |    |-- coordinates: array (nullable = true)\n",
      " |    |    |    |-- element: double (containsNull = true)\n",
      " |    |    |-- type: string (nullable = true)\n",
      " |    |-- created_at: string (nullable = true)\n",
      " |    |-- display_text_range: array (nullable = true)\n",
      " |    |    |-- element: long (containsNull = true)\n",
      " |    |-- entities: struct (nullable = true)\n",
      " |    |    |-- hashtags: array (nullable = true)\n",
      " |    |    |    |-- element: struct (containsNull = true)\n",
      " |    |    |    |    |-- indices: array (nullable = true)\n",
      " |    |    |    |    |    |-- element: long (containsNull = true)\n",
      " |    |    |    |    |-- text: string (nullable = true)\n",
      " |    |    |-- media: array (nullable = true)\n",
      " |    |    |    |-- element: struct (containsNull = true)\n",
      " |    |    |    |    |-- additional_media_info: struct (nullable = true)\n",
      " |    |    |    |    |    |-- description: string (nullable = true)\n",
      " |    |    |    |    |    |-- embeddable: boolean (nullable = true)\n",
      " |    |    |    |    |    |-- monetizable: boolean (nullable = true)\n",
      " |    |    |    |    |    |-- title: string (nullable = true)\n",
      " |    |    |    |    |-- description: string (nullable = true)\n",
      " |    |    |    |    |-- display_url: string (nullable = true)\n",
      " |    |    |    |    |-- expanded_url: string (nullable = true)\n",
      " |    |    |    |    |-- id: long (nullable = true)\n",
      " |    |    |    |    |-- id_str: string (nullable = true)\n",
      " |    |    |    |    |-- indices: array (nullable = true)\n",
      " |    |    |    |    |    |-- element: long (containsNull = true)\n",
      " |    |    |    |    |-- media_url: string (nullable = true)\n",
      " |    |    |    |    |-- media_url_https: string (nullable = true)\n",
      " |    |    |    |    |-- sizes: struct (nullable = true)\n",
      " |    |    |    |    |    |-- large: struct (nullable = true)\n",
      " |    |    |    |    |    |    |-- h: long (nullable = true)\n",
      " |    |    |    |    |    |    |-- resize: string (nullable = true)\n",
      " |    |    |    |    |    |    |-- w: long (nullable = true)\n",
      " |    |    |    |    |    |-- medium: struct (nullable = true)\n",
      " |    |    |    |    |    |    |-- h: long (nullable = true)\n",
      " |    |    |    |    |    |    |-- resize: string (nullable = true)\n",
      " |    |    |    |    |    |    |-- w: long (nullable = true)\n",
      " |    |    |    |    |    |-- small: struct (nullable = true)\n",
      " |    |    |    |    |    |    |-- h: long (nullable = true)\n",
      " |    |    |    |    |    |    |-- resize: string (nullable = true)\n",
      " |    |    |    |    |    |    |-- w: long (nullable = true)\n",
      " |    |    |    |    |    |-- thumb: struct (nullable = true)\n",
      " |    |    |    |    |    |    |-- h: long (nullable = true)\n",
      " |    |    |    |    |    |    |-- resize: string (nullable = true)\n",
      " |    |    |    |    |    |    |-- w: long (nullable = true)\n",
      " |    |    |    |    |-- source_status_id: long (nullable = true)\n",
      " |    |    |    |    |-- source_status_id_str: string (nullable = true)\n",
      " |    |    |    |    |-- source_user_id: long (nullable = true)\n",
      " |    |    |    |    |-- source_user_id_str: string (nullable = true)\n",
      " |    |    |    |    |-- type: string (nullable = true)\n",
      " |    |    |    |    |-- url: string (nullable = true)\n",
      " |    |    |-- symbols: array (nullable = true)\n",
      " |    |    |    |-- element: struct (containsNull = true)\n",
      " |    |    |    |    |-- indices: array (nullable = true)\n",
      " |    |    |    |    |    |-- element: long (containsNull = true)\n",
      " |    |    |    |    |-- text: string (nullable = true)\n",
      " |    |    |-- urls: array (nullable = true)\n",
      " |    |    |    |-- element: struct (containsNull = true)\n",
      " |    |    |    |    |-- display_url: string (nullable = true)\n",
      " |    |    |    |    |-- expanded_url: string (nullable = true)\n",
      " |    |    |    |    |-- indices: array (nullable = true)\n",
      " |    |    |    |    |    |-- element: long (containsNull = true)\n",
      " |    |    |    |    |-- url: string (nullable = true)\n",
      " |    |    |-- user_mentions: array (nullable = true)\n",
      " |    |    |    |-- element: struct (containsNull = true)\n",
      " |    |    |    |    |-- id: long (nullable = true)\n",
      " |    |    |    |    |-- id_str: string (nullable = true)\n",
      " |    |    |    |    |-- indices: array (nullable = true)\n",
      " |    |    |    |    |    |-- element: long (containsNull = true)\n",
      " |    |    |    |    |-- name: string (nullable = true)\n",
      " |    |    |    |    |-- screen_name: string (nullable = true)\n",
      " |    |-- extended_entities: struct (nullable = true)\n",
      " |    |    |-- media: array (nullable = true)\n",
      " |    |    |    |-- element: struct (containsNull = true)\n",
      " |    |    |    |    |-- additional_media_info: struct (nullable = true)\n",
      " |    |    |    |    |    |-- description: string (nullable = true)\n",
      " |    |    |    |    |    |-- embeddable: boolean (nullable = true)\n",
      " |    |    |    |    |    |-- monetizable: boolean (nullable = true)\n",
      " |    |    |    |    |    |-- title: string (nullable = true)\n",
      " |    |    |    |    |-- description: string (nullable = true)\n",
      " |    |    |    |    |-- display_url: string (nullable = true)\n",
      " |    |    |    |    |-- expanded_url: string (nullable = true)\n",
      " |    |    |    |    |-- id: long (nullable = true)\n",
      " |    |    |    |    |-- id_str: string (nullable = true)\n",
      " |    |    |    |    |-- indices: array (nullable = true)\n",
      " |    |    |    |    |    |-- element: long (containsNull = true)\n",
      " |    |    |    |    |-- media_url: string (nullable = true)\n",
      " |    |    |    |    |-- media_url_https: string (nullable = true)\n",
      " |    |    |    |    |-- sizes: struct (nullable = true)\n",
      " |    |    |    |    |    |-- large: struct (nullable = true)\n",
      " |    |    |    |    |    |    |-- h: long (nullable = true)\n",
      " |    |    |    |    |    |    |-- resize: string (nullable = true)\n",
      " |    |    |    |    |    |    |-- w: long (nullable = true)\n",
      " |    |    |    |    |    |-- medium: struct (nullable = true)\n",
      " |    |    |    |    |    |    |-- h: long (nullable = true)\n",
      " |    |    |    |    |    |    |-- resize: string (nullable = true)\n",
      " |    |    |    |    |    |    |-- w: long (nullable = true)\n",
      " |    |    |    |    |    |-- small: struct (nullable = true)\n",
      " |    |    |    |    |    |    |-- h: long (nullable = true)\n",
      " |    |    |    |    |    |    |-- resize: string (nullable = true)\n",
      " |    |    |    |    |    |    |-- w: long (nullable = true)\n",
      " |    |    |    |    |    |-- thumb: struct (nullable = true)\n",
      " |    |    |    |    |    |    |-- h: long (nullable = true)\n",
      " |    |    |    |    |    |    |-- resize: string (nullable = true)\n",
      " |    |    |    |    |    |    |-- w: long (nullable = true)\n",
      " |    |    |    |    |-- source_status_id: long (nullable = true)\n",
      " |    |    |    |    |-- source_status_id_str: string (nullable = true)\n",
      " |    |    |    |    |-- source_user_id: long (nullable = true)\n",
      " |    |    |    |    |-- source_user_id_str: string (nullable = true)\n",
      " |    |    |    |    |-- type: string (nullable = true)\n",
      " |    |    |    |    |-- url: string (nullable = true)\n",
      " |    |    |    |    |-- video_info: struct (nullable = true)\n",
      " |    |    |    |    |    |-- aspect_ratio: array (nullable = true)\n",
      " |    |    |    |    |    |    |-- element: long (containsNull = true)\n",
      " |    |    |    |    |    |-- duration_millis: long (nullable = true)\n",
      " |    |    |    |    |    |-- variants: array (nullable = true)\n",
      " |    |    |    |    |    |    |-- element: struct (containsNull = true)\n",
      " |    |    |    |    |    |    |    |-- bitrate: long (nullable = true)\n",
      " |    |    |    |    |    |    |    |-- content_type: string (nullable = true)\n",
      " |    |    |    |    |    |    |    |-- url: string (nullable = true)\n",
      " |    |-- extended_tweet: struct (nullable = true)\n",
      " |    |    |-- display_text_range: array (nullable = true)\n",
      " |    |    |    |-- element: long (containsNull = true)\n",
      " |    |    |-- entities: struct (nullable = true)\n",
      " |    |    |    |-- hashtags: array (nullable = true)\n",
      " |    |    |    |    |-- element: struct (containsNull = true)\n",
      " |    |    |    |    |    |-- indices: array (nullable = true)\n",
      " |    |    |    |    |    |    |-- element: long (containsNull = true)\n",
      " |    |    |    |    |    |-- text: string (nullable = true)\n",
      " |    |    |    |-- media: array (nullable = true)\n",
      " |    |    |    |    |-- element: struct (containsNull = true)\n",
      " |    |    |    |    |    |-- additional_media_info: struct (nullable = true)\n",
      " |    |    |    |    |    |    |-- description: string (nullable = true)\n",
      " |    |    |    |    |    |    |-- embeddable: boolean (nullable = true)\n",
      " |    |    |    |    |    |    |-- monetizable: boolean (nullable = true)\n",
      " |    |    |    |    |    |    |-- title: string (nullable = true)\n",
      " |    |    |    |    |    |-- description: string (nullable = true)\n",
      " |    |    |    |    |    |-- display_url: string (nullable = true)\n",
      " |    |    |    |    |    |-- expanded_url: string (nullable = true)\n",
      " |    |    |    |    |    |-- id: long (nullable = true)\n",
      " |    |    |    |    |    |-- id_str: string (nullable = true)\n",
      " |    |    |    |    |    |-- indices: array (nullable = true)\n",
      " |    |    |    |    |    |    |-- element: long (containsNull = true)\n",
      " |    |    |    |    |    |-- media_url: string (nullable = true)\n",
      " |    |    |    |    |    |-- media_url_https: string (nullable = true)\n",
      " |    |    |    |    |    |-- sizes: struct (nullable = true)\n",
      " |    |    |    |    |    |    |-- large: struct (nullable = true)\n",
      " |    |    |    |    |    |    |    |-- h: long (nullable = true)\n",
      " |    |    |    |    |    |    |    |-- resize: string (nullable = true)\n",
      " |    |    |    |    |    |    |    |-- w: long (nullable = true)\n",
      " |    |    |    |    |    |    |-- medium: struct (nullable = true)\n",
      " |    |    |    |    |    |    |    |-- h: long (nullable = true)\n",
      " |    |    |    |    |    |    |    |-- resize: string (nullable = true)\n",
      " |    |    |    |    |    |    |    |-- w: long (nullable = true)\n",
      " |    |    |    |    |    |    |-- small: struct (nullable = true)\n",
      " |    |    |    |    |    |    |    |-- h: long (nullable = true)\n",
      " |    |    |    |    |    |    |    |-- resize: string (nullable = true)\n",
      " |    |    |    |    |    |    |    |-- w: long (nullable = true)\n",
      " |    |    |    |    |    |    |-- thumb: struct (nullable = true)\n",
      " |    |    |    |    |    |    |    |-- h: long (nullable = true)\n",
      " |    |    |    |    |    |    |    |-- resize: string (nullable = true)\n",
      " |    |    |    |    |    |    |    |-- w: long (nullable = true)\n",
      " |    |    |    |    |    |-- source_status_id: long (nullable = true)\n",
      " |    |    |    |    |    |-- source_status_id_str: string (nullable = true)\n",
      " |    |    |    |    |    |-- source_user_id: long (nullable = true)\n",
      " |    |    |    |    |    |-- source_user_id_str: string (nullable = true)\n",
      " |    |    |    |    |    |-- type: string (nullable = true)\n",
      " |    |    |    |    |    |-- url: string (nullable = true)\n",
      " |    |    |    |    |    |-- video_info: struct (nullable = true)\n",
      " |    |    |    |    |    |    |-- aspect_ratio: array (nullable = true)\n",
      " |    |    |    |    |    |    |    |-- element: long (containsNull = true)\n",
      " |    |    |    |    |    |    |-- duration_millis: long (nullable = true)\n",
      " |    |    |    |    |    |    |-- variants: array (nullable = true)\n",
      " |    |    |    |    |    |    |    |-- element: struct (containsNull = true)\n",
      " |    |    |    |    |    |    |    |    |-- bitrate: long (nullable = true)\n",
      " |    |    |    |    |    |    |    |    |-- content_type: string (nullable = true)\n",
      " |    |    |    |    |    |    |    |    |-- url: string (nullable = true)\n",
      " |    |    |    |-- symbols: array (nullable = true)\n",
      " |    |    |    |    |-- element: struct (containsNull = true)\n",
      " |    |    |    |    |    |-- indices: array (nullable = true)\n",
      " |    |    |    |    |    |    |-- element: long (containsNull = true)\n",
      " |    |    |    |    |    |-- text: string (nullable = true)\n",
      " |    |    |    |-- urls: array (nullable = true)\n",
      " |    |    |    |    |-- element: struct (containsNull = true)\n",
      " |    |    |    |    |    |-- display_url: string (nullable = true)\n",
      " |    |    |    |    |    |-- expanded_url: string (nullable = true)\n",
      " |    |    |    |    |    |-- indices: array (nullable = true)\n",
      " |    |    |    |    |    |    |-- element: long (containsNull = true)\n",
      " |    |    |    |    |    |-- url: string (nullable = true)\n",
      " |    |    |    |-- user_mentions: array (nullable = true)\n",
      " |    |    |    |    |-- element: struct (containsNull = true)\n",
      " |    |    |    |    |    |-- id: long (nullable = true)\n",
      " |    |    |    |    |    |-- id_str: string (nullable = true)\n",
      " |    |    |    |    |    |-- indices: array (nullable = true)\n",
      " |    |    |    |    |    |    |-- element: long (containsNull = true)\n",
      " |    |    |    |    |    |-- name: string (nullable = true)\n",
      " |    |    |    |    |    |-- screen_name: string (nullable = true)\n",
      " |    |    |-- extended_entities: struct (nullable = true)\n",
      " |    |    |    |-- media: array (nullable = true)\n",
      " |    |    |    |    |-- element: struct (containsNull = true)\n",
      " |    |    |    |    |    |-- additional_media_info: struct (nullable = true)\n",
      " |    |    |    |    |    |    |-- description: string (nullable = true)\n",
      " |    |    |    |    |    |    |-- embeddable: boolean (nullable = true)\n",
      " |    |    |    |    |    |    |-- monetizable: boolean (nullable = true)\n",
      " |    |    |    |    |    |    |-- title: string (nullable = true)\n",
      " |    |    |    |    |    |-- description: string (nullable = true)\n",
      " |    |    |    |    |    |-- display_url: string (nullable = true)\n",
      " |    |    |    |    |    |-- expanded_url: string (nullable = true)\n",
      " |    |    |    |    |    |-- id: long (nullable = true)\n",
      " |    |    |    |    |    |-- id_str: string (nullable = true)\n",
      " |    |    |    |    |    |-- indices: array (nullable = true)\n",
      " |    |    |    |    |    |    |-- element: long (containsNull = true)\n",
      " |    |    |    |    |    |-- media_url: string (nullable = true)\n",
      " |    |    |    |    |    |-- media_url_https: string (nullable = true)\n",
      " |    |    |    |    |    |-- sizes: struct (nullable = true)\n",
      " |    |    |    |    |    |    |-- large: struct (nullable = true)\n",
      " |    |    |    |    |    |    |    |-- h: long (nullable = true)\n",
      " |    |    |    |    |    |    |    |-- resize: string (nullable = true)\n",
      " |    |    |    |    |    |    |    |-- w: long (nullable = true)\n",
      " |    |    |    |    |    |    |-- medium: struct (nullable = true)\n",
      " |    |    |    |    |    |    |    |-- h: long (nullable = true)\n",
      " |    |    |    |    |    |    |    |-- resize: string (nullable = true)\n",
      " |    |    |    |    |    |    |    |-- w: long (nullable = true)\n",
      " |    |    |    |    |    |    |-- small: struct (nullable = true)\n",
      " |    |    |    |    |    |    |    |-- h: long (nullable = true)\n",
      " |    |    |    |    |    |    |    |-- resize: string (nullable = true)\n",
      " |    |    |    |    |    |    |    |-- w: long (nullable = true)\n",
      " |    |    |    |    |    |    |-- thumb: struct (nullable = true)\n",
      " |    |    |    |    |    |    |    |-- h: long (nullable = true)\n",
      " |    |    |    |    |    |    |    |-- resize: string (nullable = true)\n",
      " |    |    |    |    |    |    |    |-- w: long (nullable = true)\n",
      " |    |    |    |    |    |-- source_status_id: long (nullable = true)\n",
      " |    |    |    |    |    |-- source_status_id_str: string (nullable = true)\n",
      " |    |    |    |    |    |-- source_user_id: long (nullable = true)\n",
      " |    |    |    |    |    |-- source_user_id_str: string (nullable = true)\n",
      " |    |    |    |    |    |-- type: string (nullable = true)\n",
      " |    |    |    |    |    |-- url: string (nullable = true)\n",
      " |    |    |    |    |    |-- video_info: struct (nullable = true)\n",
      " |    |    |    |    |    |    |-- aspect_ratio: array (nullable = true)\n",
      " |    |    |    |    |    |    |    |-- element: long (containsNull = true)\n",
      " |    |    |    |    |    |    |-- duration_millis: long (nullable = true)\n",
      " |    |    |    |    |    |    |-- variants: array (nullable = true)\n",
      " |    |    |    |    |    |    |    |-- element: struct (containsNull = true)\n",
      " |    |    |    |    |    |    |    |    |-- bitrate: long (nullable = true)\n",
      " |    |    |    |    |    |    |    |    |-- content_type: string (nullable = true)\n",
      " |    |    |    |    |    |    |    |    |-- url: string (nullable = true)\n",
      " |    |    |-- full_text: string (nullable = true)\n",
      " |    |-- favorite_count: long (nullable = true)\n",
      " |    |-- favorited: boolean (nullable = true)\n",
      " |    |-- filter_level: string (nullable = true)\n",
      " |    |-- geo: struct (nullable = true)\n",
      " |    |    |-- coordinates: array (nullable = true)\n",
      " |    |    |    |-- element: double (containsNull = true)\n",
      " |    |    |-- type: string (nullable = true)\n",
      " |    |-- id: long (nullable = true)\n",
      " |    |-- id_str: string (nullable = true)\n",
      " |    |-- in_reply_to_screen_name: string (nullable = true)\n",
      " |    |-- in_reply_to_status_id: long (nullable = true)\n",
      " |    |-- in_reply_to_status_id_str: string (nullable = true)\n",
      " |    |-- in_reply_to_user_id: long (nullable = true)\n",
      " |    |-- in_reply_to_user_id_str: string (nullable = true)\n",
      " |    |-- is_quote_status: boolean (nullable = true)\n",
      " |    |-- lang: string (nullable = true)\n",
      " |    |-- place: struct (nullable = true)\n",
      " |    |    |-- bounding_box: struct (nullable = true)\n",
      " |    |    |    |-- coordinates: array (nullable = true)\n",
      " |    |    |    |    |-- element: array (containsNull = true)\n",
      " |    |    |    |    |    |-- element: array (containsNull = true)\n",
      " |    |    |    |    |    |    |-- element: double (containsNull = true)\n",
      " |    |    |    |-- type: string (nullable = true)\n",
      " |    |    |-- country: string (nullable = true)\n",
      " |    |    |-- country_code: string (nullable = true)\n",
      " |    |    |-- full_name: string (nullable = true)\n",
      " |    |    |-- id: string (nullable = true)\n",
      " |    |    |-- name: string (nullable = true)\n",
      " |    |    |-- place_type: string (nullable = true)\n",
      " |    |    |-- url: string (nullable = true)\n",
      " |    |-- possibly_sensitive: boolean (nullable = true)\n",
      " |    |-- quote_count: long (nullable = true)\n",
      " |    |-- quoted_status: struct (nullable = true)\n",
      " |    |    |-- contributors: string (nullable = true)\n",
      " |    |    |-- coordinates: struct (nullable = true)\n",
      " |    |    |    |-- coordinates: array (nullable = true)\n",
      " |    |    |    |    |-- element: double (containsNull = true)\n",
      " |    |    |    |-- type: string (nullable = true)\n",
      " |    |    |-- created_at: string (nullable = true)\n",
      " |    |    |-- display_text_range: array (nullable = true)\n",
      " |    |    |    |-- element: long (containsNull = true)\n",
      " |    |    |-- entities: struct (nullable = true)\n",
      " |    |    |    |-- hashtags: array (nullable = true)\n",
      " |    |    |    |    |-- element: struct (containsNull = true)\n",
      " |    |    |    |    |    |-- indices: array (nullable = true)\n",
      " |    |    |    |    |    |    |-- element: long (containsNull = true)\n",
      " |    |    |    |    |    |-- text: string (nullable = true)\n",
      " |    |    |    |-- media: array (nullable = true)\n",
      " |    |    |    |    |-- element: struct (containsNull = true)\n",
      " |    |    |    |    |    |-- additional_media_info: struct (nullable = true)\n",
      " |    |    |    |    |    |    |-- description: string (nullable = true)\n",
      " |    |    |    |    |    |    |-- embeddable: boolean (nullable = true)\n",
      " |    |    |    |    |    |    |-- monetizable: boolean (nullable = true)\n",
      " |    |    |    |    |    |    |-- title: string (nullable = true)\n",
      " |    |    |    |    |    |-- description: string (nullable = true)\n",
      " |    |    |    |    |    |-- display_url: string (nullable = true)\n",
      " |    |    |    |    |    |-- expanded_url: string (nullable = true)\n",
      " |    |    |    |    |    |-- id: long (nullable = true)\n",
      " |    |    |    |    |    |-- id_str: string (nullable = true)\n",
      " |    |    |    |    |    |-- indices: array (nullable = true)\n",
      " |    |    |    |    |    |    |-- element: long (containsNull = true)\n",
      " |    |    |    |    |    |-- media_url: string (nullable = true)\n",
      " |    |    |    |    |    |-- media_url_https: string (nullable = true)\n",
      " |    |    |    |    |    |-- sizes: struct (nullable = true)\n",
      " |    |    |    |    |    |    |-- large: struct (nullable = true)\n",
      " |    |    |    |    |    |    |    |-- h: long (nullable = true)\n",
      " |    |    |    |    |    |    |    |-- resize: string (nullable = true)\n",
      " |    |    |    |    |    |    |    |-- w: long (nullable = true)\n",
      " |    |    |    |    |    |    |-- medium: struct (nullable = true)\n",
      " |    |    |    |    |    |    |    |-- h: long (nullable = true)\n",
      " |    |    |    |    |    |    |    |-- resize: string (nullable = true)\n",
      " |    |    |    |    |    |    |    |-- w: long (nullable = true)\n",
      " |    |    |    |    |    |    |-- small: struct (nullable = true)\n",
      " |    |    |    |    |    |    |    |-- h: long (nullable = true)\n",
      " |    |    |    |    |    |    |    |-- resize: string (nullable = true)\n",
      " |    |    |    |    |    |    |    |-- w: long (nullable = true)\n",
      " |    |    |    |    |    |    |-- thumb: struct (nullable = true)\n",
      " |    |    |    |    |    |    |    |-- h: long (nullable = true)\n",
      " |    |    |    |    |    |    |    |-- resize: string (nullable = true)\n",
      " |    |    |    |    |    |    |    |-- w: long (nullable = true)\n",
      " |    |    |    |    |    |-- source_status_id: long (nullable = true)\n",
      " |    |    |    |    |    |-- source_status_id_str: string (nullable = true)\n",
      " |    |    |    |    |    |-- source_user_id: long (nullable = true)\n",
      " |    |    |    |    |    |-- source_user_id_str: string (nullable = true)\n",
      " |    |    |    |    |    |-- type: string (nullable = true)\n",
      " |    |    |    |    |    |-- url: string (nullable = true)\n",
      " |    |    |    |-- symbols: array (nullable = true)\n",
      " |    |    |    |    |-- element: struct (containsNull = true)\n",
      " |    |    |    |    |    |-- indices: array (nullable = true)\n",
      " |    |    |    |    |    |    |-- element: long (containsNull = true)\n",
      " |    |    |    |    |    |-- text: string (nullable = true)\n",
      " |    |    |    |-- urls: array (nullable = true)\n",
      " |    |    |    |    |-- element: struct (containsNull = true)\n",
      " |    |    |    |    |    |-- display_url: string (nullable = true)\n",
      " |    |    |    |    |    |-- expanded_url: string (nullable = true)\n",
      " |    |    |    |    |    |-- indices: array (nullable = true)\n",
      " |    |    |    |    |    |    |-- element: long (containsNull = true)\n",
      " |    |    |    |    |    |-- url: string (nullable = true)\n",
      " |    |    |    |-- user_mentions: array (nullable = true)\n",
      " |    |    |    |    |-- element: struct (containsNull = true)\n",
      " |    |    |    |    |    |-- id: long (nullable = true)\n",
      " |    |    |    |    |    |-- id_str: string (nullable = true)\n",
      " |    |    |    |    |    |-- indices: array (nullable = true)\n",
      " |    |    |    |    |    |    |-- element: long (containsNull = true)\n",
      " |    |    |    |    |    |-- name: string (nullable = true)\n",
      " |    |    |    |    |    |-- screen_name: string (nullable = true)\n",
      " |    |    |-- extended_entities: struct (nullable = true)\n",
      " |    |    |    |-- media: array (nullable = true)\n",
      " |    |    |    |    |-- element: struct (containsNull = true)\n",
      " |    |    |    |    |    |-- additional_media_info: struct (nullable = true)\n",
      " |    |    |    |    |    |    |-- description: string (nullable = true)\n",
      " |    |    |    |    |    |    |-- embeddable: boolean (nullable = true)\n",
      " |    |    |    |    |    |    |-- monetizable: boolean (nullable = true)\n",
      " |    |    |    |    |    |    |-- title: string (nullable = true)\n",
      " |    |    |    |    |    |-- description: string (nullable = true)\n",
      " |    |    |    |    |    |-- display_url: string (nullable = true)\n",
      " |    |    |    |    |    |-- expanded_url: string (nullable = true)\n",
      " |    |    |    |    |    |-- id: long (nullable = true)\n",
      " |    |    |    |    |    |-- id_str: string (nullable = true)\n",
      " |    |    |    |    |    |-- indices: array (nullable = true)\n",
      " |    |    |    |    |    |    |-- element: long (containsNull = true)\n",
      " |    |    |    |    |    |-- media_url: string (nullable = true)\n",
      " |    |    |    |    |    |-- media_url_https: string (nullable = true)\n",
      " |    |    |    |    |    |-- sizes: struct (nullable = true)\n",
      " |    |    |    |    |    |    |-- large: struct (nullable = true)\n",
      " |    |    |    |    |    |    |    |-- h: long (nullable = true)\n",
      " |    |    |    |    |    |    |    |-- resize: string (nullable = true)\n",
      " |    |    |    |    |    |    |    |-- w: long (nullable = true)\n",
      " |    |    |    |    |    |    |-- medium: struct (nullable = true)\n",
      " |    |    |    |    |    |    |    |-- h: long (nullable = true)\n",
      " |    |    |    |    |    |    |    |-- resize: string (nullable = true)\n",
      " |    |    |    |    |    |    |    |-- w: long (nullable = true)\n",
      " |    |    |    |    |    |    |-- small: struct (nullable = true)\n",
      " |    |    |    |    |    |    |    |-- h: long (nullable = true)\n",
      " |    |    |    |    |    |    |    |-- resize: string (nullable = true)\n",
      " |    |    |    |    |    |    |    |-- w: long (nullable = true)\n",
      " |    |    |    |    |    |    |-- thumb: struct (nullable = true)\n",
      " |    |    |    |    |    |    |    |-- h: long (nullable = true)\n",
      " |    |    |    |    |    |    |    |-- resize: string (nullable = true)\n",
      " |    |    |    |    |    |    |    |-- w: long (nullable = true)\n",
      " |    |    |    |    |    |-- source_status_id: long (nullable = true)\n",
      " |    |    |    |    |    |-- source_status_id_str: string (nullable = true)\n",
      " |    |    |    |    |    |-- source_user_id: long (nullable = true)\n",
      " |    |    |    |    |    |-- source_user_id_str: string (nullable = true)\n",
      " |    |    |    |    |    |-- type: string (nullable = true)\n",
      " |    |    |    |    |    |-- url: string (nullable = true)\n",
      " |    |    |    |    |    |-- video_info: struct (nullable = true)\n",
      " |    |    |    |    |    |    |-- aspect_ratio: array (nullable = true)\n",
      " |    |    |    |    |    |    |    |-- element: long (containsNull = true)\n",
      " |    |    |    |    |    |    |-- duration_millis: long (nullable = true)\n",
      " |    |    |    |    |    |    |-- variants: array (nullable = true)\n",
      " |    |    |    |    |    |    |    |-- element: struct (containsNull = true)\n",
      " |    |    |    |    |    |    |    |    |-- bitrate: long (nullable = true)\n",
      " |    |    |    |    |    |    |    |    |-- content_type: string (nullable = true)\n",
      " |    |    |    |    |    |    |    |    |-- url: string (nullable = true)\n",
      " |    |    |-- extended_tweet: struct (nullable = true)\n",
      " |    |    |    |-- display_text_range: array (nullable = true)\n",
      " |    |    |    |    |-- element: long (containsNull = true)\n",
      " |    |    |    |-- entities: struct (nullable = true)\n",
      " |    |    |    |    |-- hashtags: array (nullable = true)\n",
      " |    |    |    |    |    |-- element: struct (containsNull = true)\n",
      " |    |    |    |    |    |    |-- indices: array (nullable = true)\n",
      " |    |    |    |    |    |    |    |-- element: long (containsNull = true)\n",
      " |    |    |    |    |    |    |-- text: string (nullable = true)\n",
      " |    |    |    |    |-- media: array (nullable = true)\n",
      " |    |    |    |    |    |-- element: struct (containsNull = true)\n",
      " |    |    |    |    |    |    |-- additional_media_info: struct (nullable = true)\n",
      " |    |    |    |    |    |    |    |-- description: string (nullable = true)\n",
      " |    |    |    |    |    |    |    |-- embeddable: boolean (nullable = true)\n",
      " |    |    |    |    |    |    |    |-- monetizable: boolean (nullable = true)\n",
      " |    |    |    |    |    |    |    |-- title: string (nullable = true)\n",
      " |    |    |    |    |    |    |-- description: string (nullable = true)\n",
      " |    |    |    |    |    |    |-- display_url: string (nullable = true)\n",
      " |    |    |    |    |    |    |-- expanded_url: string (nullable = true)\n",
      " |    |    |    |    |    |    |-- id: long (nullable = true)\n",
      " |    |    |    |    |    |    |-- id_str: string (nullable = true)\n",
      " |    |    |    |    |    |    |-- indices: array (nullable = true)\n",
      " |    |    |    |    |    |    |    |-- element: long (containsNull = true)\n",
      " |    |    |    |    |    |    |-- media_url: string (nullable = true)\n",
      " |    |    |    |    |    |    |-- media_url_https: string (nullable = true)\n",
      " |    |    |    |    |    |    |-- sizes: struct (nullable = true)\n",
      " |    |    |    |    |    |    |    |-- large: struct (nullable = true)\n",
      " |    |    |    |    |    |    |    |    |-- h: long (nullable = true)\n",
      " |    |    |    |    |    |    |    |    |-- resize: string (nullable = true)\n",
      " |    |    |    |    |    |    |    |    |-- w: long (nullable = true)\n",
      " |    |    |    |    |    |    |    |-- medium: struct (nullable = true)\n",
      " |    |    |    |    |    |    |    |    |-- h: long (nullable = true)\n",
      " |    |    |    |    |    |    |    |    |-- resize: string (nullable = true)\n",
      " |    |    |    |    |    |    |    |    |-- w: long (nullable = true)\n",
      " |    |    |    |    |    |    |    |-- small: struct (nullable = true)\n",
      " |    |    |    |    |    |    |    |    |-- h: long (nullable = true)\n",
      " |    |    |    |    |    |    |    |    |-- resize: string (nullable = true)\n",
      " |    |    |    |    |    |    |    |    |-- w: long (nullable = true)\n",
      " |    |    |    |    |    |    |    |-- thumb: struct (nullable = true)\n",
      " |    |    |    |    |    |    |    |    |-- h: long (nullable = true)\n",
      " |    |    |    |    |    |    |    |    |-- resize: string (nullable = true)\n",
      " |    |    |    |    |    |    |    |    |-- w: long (nullable = true)\n",
      " |    |    |    |    |    |    |-- source_status_id: long (nullable = true)\n",
      " |    |    |    |    |    |    |-- source_status_id_str: string (nullable = true)\n",
      " |    |    |    |    |    |    |-- source_user_id: long (nullable = true)\n",
      " |    |    |    |    |    |    |-- source_user_id_str: string (nullable = true)\n",
      " |    |    |    |    |    |    |-- type: string (nullable = true)\n",
      " |    |    |    |    |    |    |-- url: string (nullable = true)\n",
      " |    |    |    |    |    |    |-- video_info: struct (nullable = true)\n",
      " |    |    |    |    |    |    |    |-- aspect_ratio: array (nullable = true)\n",
      " |    |    |    |    |    |    |    |    |-- element: long (containsNull = true)\n",
      " |    |    |    |    |    |    |    |-- duration_millis: long (nullable = true)\n",
      " |    |    |    |    |    |    |    |-- variants: array (nullable = true)\n",
      " |    |    |    |    |    |    |    |    |-- element: struct (containsNull = true)\n",
      " |    |    |    |    |    |    |    |    |    |-- bitrate: long (nullable = true)\n",
      " |    |    |    |    |    |    |    |    |    |-- content_type: string (nullable = true)\n",
      " |    |    |    |    |    |    |    |    |    |-- url: string (nullable = true)\n",
      " |    |    |    |    |-- symbols: array (nullable = true)\n",
      " |    |    |    |    |    |-- element: struct (containsNull = true)\n",
      " |    |    |    |    |    |    |-- indices: array (nullable = true)\n",
      " |    |    |    |    |    |    |    |-- element: long (containsNull = true)\n",
      " |    |    |    |    |    |    |-- text: string (nullable = true)\n",
      " |    |    |    |    |-- urls: array (nullable = true)\n",
      " |    |    |    |    |    |-- element: struct (containsNull = true)\n",
      " |    |    |    |    |    |    |-- display_url: string (nullable = true)\n",
      " |    |    |    |    |    |    |-- expanded_url: string (nullable = true)\n",
      " |    |    |    |    |    |    |-- indices: array (nullable = true)\n",
      " |    |    |    |    |    |    |    |-- element: long (containsNull = true)\n",
      " |    |    |    |    |    |    |-- url: string (nullable = true)\n",
      " |    |    |    |    |-- user_mentions: array (nullable = true)\n",
      " |    |    |    |    |    |-- element: struct (containsNull = true)\n",
      " |    |    |    |    |    |    |-- id: long (nullable = true)\n",
      " |    |    |    |    |    |    |-- id_str: string (nullable = true)\n",
      " |    |    |    |    |    |    |-- indices: array (nullable = true)\n",
      " |    |    |    |    |    |    |    |-- element: long (containsNull = true)\n",
      " |    |    |    |    |    |    |-- name: string (nullable = true)\n",
      " |    |    |    |    |    |    |-- screen_name: string (nullable = true)\n",
      " |    |    |    |-- extended_entities: struct (nullable = true)\n",
      " |    |    |    |    |-- media: array (nullable = true)\n",
      " |    |    |    |    |    |-- element: struct (containsNull = true)\n",
      " |    |    |    |    |    |    |-- additional_media_info: struct (nullable = true)\n",
      " |    |    |    |    |    |    |    |-- description: string (nullable = true)\n",
      " |    |    |    |    |    |    |    |-- embeddable: boolean (nullable = true)\n",
      " |    |    |    |    |    |    |    |-- monetizable: boolean (nullable = true)\n",
      " |    |    |    |    |    |    |    |-- title: string (nullable = true)\n",
      " |    |    |    |    |    |    |-- description: string (nullable = true)\n",
      " |    |    |    |    |    |    |-- display_url: string (nullable = true)\n",
      " |    |    |    |    |    |    |-- expanded_url: string (nullable = true)\n",
      " |    |    |    |    |    |    |-- id: long (nullable = true)\n",
      " |    |    |    |    |    |    |-- id_str: string (nullable = true)\n",
      " |    |    |    |    |    |    |-- indices: array (nullable = true)\n",
      " |    |    |    |    |    |    |    |-- element: long (containsNull = true)\n",
      " |    |    |    |    |    |    |-- media_url: string (nullable = true)\n",
      " |    |    |    |    |    |    |-- media_url_https: string (nullable = true)\n",
      " |    |    |    |    |    |    |-- sizes: struct (nullable = true)\n",
      " |    |    |    |    |    |    |    |-- large: struct (nullable = true)\n",
      " |    |    |    |    |    |    |    |    |-- h: long (nullable = true)\n",
      " |    |    |    |    |    |    |    |    |-- resize: string (nullable = true)\n",
      " |    |    |    |    |    |    |    |    |-- w: long (nullable = true)\n",
      " |    |    |    |    |    |    |    |-- medium: struct (nullable = true)\n",
      " |    |    |    |    |    |    |    |    |-- h: long (nullable = true)\n",
      " |    |    |    |    |    |    |    |    |-- resize: string (nullable = true)\n",
      " |    |    |    |    |    |    |    |    |-- w: long (nullable = true)\n",
      " |    |    |    |    |    |    |    |-- small: struct (nullable = true)\n",
      " |    |    |    |    |    |    |    |    |-- h: long (nullable = true)\n",
      " |    |    |    |    |    |    |    |    |-- resize: string (nullable = true)\n",
      " |    |    |    |    |    |    |    |    |-- w: long (nullable = true)\n",
      " |    |    |    |    |    |    |    |-- thumb: struct (nullable = true)\n",
      " |    |    |    |    |    |    |    |    |-- h: long (nullable = true)\n",
      " |    |    |    |    |    |    |    |    |-- resize: string (nullable = true)\n",
      " |    |    |    |    |    |    |    |    |-- w: long (nullable = true)\n",
      " |    |    |    |    |    |    |-- source_status_id: long (nullable = true)\n",
      " |    |    |    |    |    |    |-- source_status_id_str: string (nullable = true)\n",
      " |    |    |    |    |    |    |-- source_user_id: long (nullable = true)\n",
      " |    |    |    |    |    |    |-- source_user_id_str: string (nullable = true)\n",
      " |    |    |    |    |    |    |-- type: string (nullable = true)\n",
      " |    |    |    |    |    |    |-- url: string (nullable = true)\n",
      " |    |    |    |    |    |    |-- video_info: struct (nullable = true)\n",
      " |    |    |    |    |    |    |    |-- aspect_ratio: array (nullable = true)\n",
      " |    |    |    |    |    |    |    |    |-- element: long (containsNull = true)\n",
      " |    |    |    |    |    |    |    |-- duration_millis: long (nullable = true)\n",
      " |    |    |    |    |    |    |    |-- variants: array (nullable = true)\n",
      " |    |    |    |    |    |    |    |    |-- element: struct (containsNull = true)\n",
      " |    |    |    |    |    |    |    |    |    |-- bitrate: long (nullable = true)\n",
      " |    |    |    |    |    |    |    |    |    |-- content_type: string (nullable = true)\n",
      " |    |    |    |    |    |    |    |    |    |-- url: string (nullable = true)\n",
      " |    |    |    |-- full_text: string (nullable = true)\n",
      " |    |    |-- favorite_count: long (nullable = true)\n",
      " |    |    |-- favorited: boolean (nullable = true)\n",
      " |    |    |-- filter_level: string (nullable = true)\n",
      " |    |    |-- geo: struct (nullable = true)\n",
      " |    |    |    |-- coordinates: array (nullable = true)\n",
      " |    |    |    |    |-- element: double (containsNull = true)\n",
      " |    |    |    |-- type: string (nullable = true)\n",
      " |    |    |-- id: long (nullable = true)\n",
      " |    |    |-- id_str: string (nullable = true)\n",
      " |    |    |-- in_reply_to_screen_name: string (nullable = true)\n",
      " |    |    |-- in_reply_to_status_id: long (nullable = true)\n",
      " |    |    |-- in_reply_to_status_id_str: string (nullable = true)\n",
      " |    |    |-- in_reply_to_user_id: long (nullable = true)\n",
      " |    |    |-- in_reply_to_user_id_str: string (nullable = true)\n",
      " |    |    |-- is_quote_status: boolean (nullable = true)\n",
      " |    |    |-- lang: string (nullable = true)\n",
      " |    |    |-- place: struct (nullable = true)\n",
      " |    |    |    |-- bounding_box: struct (nullable = true)\n",
      " |    |    |    |    |-- coordinates: array (nullable = true)\n",
      " |    |    |    |    |    |-- element: array (containsNull = true)\n",
      " |    |    |    |    |    |    |-- element: array (containsNull = true)\n",
      " |    |    |    |    |    |    |    |-- element: double (containsNull = true)\n",
      " |    |    |    |    |-- type: string (nullable = true)\n",
      " |    |    |    |-- country: string (nullable = true)\n",
      " |    |    |    |-- country_code: string (nullable = true)\n",
      " |    |    |    |-- full_name: string (nullable = true)\n",
      " |    |    |    |-- id: string (nullable = true)\n",
      " |    |    |    |-- name: string (nullable = true)\n",
      " |    |    |    |-- place_type: string (nullable = true)\n",
      " |    |    |    |-- url: string (nullable = true)\n",
      " |    |    |-- possibly_sensitive: boolean (nullable = true)\n",
      " |    |    |-- quote_count: long (nullable = true)\n",
      " |    |    |-- quoted_status_id: long (nullable = true)\n",
      " |    |    |-- quoted_status_id_str: string (nullable = true)\n",
      " |    |    |-- reply_count: long (nullable = true)\n",
      " |    |    |-- retweet_count: long (nullable = true)\n",
      " |    |    |-- retweeted: boolean (nullable = true)\n",
      " |    |    |-- scopes: struct (nullable = true)\n",
      " |    |    |    |-- followers: boolean (nullable = true)\n",
      " |    |    |-- source: string (nullable = true)\n",
      " |    |    |-- text: string (nullable = true)\n",
      " |    |    |-- truncated: boolean (nullable = true)\n",
      " |    |    |-- user: struct (nullable = true)\n",
      " |    |    |    |-- contributors_enabled: boolean (nullable = true)\n",
      " |    |    |    |-- created_at: string (nullable = true)\n",
      " |    |    |    |-- default_profile: boolean (nullable = true)\n",
      " |    |    |    |-- default_profile_image: boolean (nullable = true)\n",
      " |    |    |    |-- description: string (nullable = true)\n",
      " |    |    |    |-- favourites_count: long (nullable = true)\n",
      " |    |    |    |-- follow_request_sent: string (nullable = true)\n",
      " |    |    |    |-- followers_count: long (nullable = true)\n",
      " |    |    |    |-- following: string (nullable = true)\n",
      " |    |    |    |-- friends_count: long (nullable = true)\n",
      " |    |    |    |-- geo_enabled: boolean (nullable = true)\n",
      " |    |    |    |-- id: long (nullable = true)\n",
      " |    |    |    |-- id_str: string (nullable = true)\n",
      " |    |    |    |-- is_translator: boolean (nullable = true)\n",
      " |    |    |    |-- lang: string (nullable = true)\n",
      " |    |    |    |-- listed_count: long (nullable = true)\n",
      " |    |    |    |-- location: string (nullable = true)\n",
      " |    |    |    |-- name: string (nullable = true)\n",
      " |    |    |    |-- notifications: string (nullable = true)\n",
      " |    |    |    |-- profile_background_color: string (nullable = true)\n",
      " |    |    |    |-- profile_background_image_url: string (nullable = true)\n",
      " |    |    |    |-- profile_background_image_url_https: string (nullable = true)\n",
      " |    |    |    |-- profile_background_tile: boolean (nullable = true)\n",
      " |    |    |    |-- profile_banner_url: string (nullable = true)\n",
      " |    |    |    |-- profile_image_url: string (nullable = true)\n",
      " |    |    |    |-- profile_image_url_https: string (nullable = true)\n",
      " |    |    |    |-- profile_link_color: string (nullable = true)\n",
      " |    |    |    |-- profile_sidebar_border_color: string (nullable = true)\n",
      " |    |    |    |-- profile_sidebar_fill_color: string (nullable = true)\n",
      " |    |    |    |-- profile_text_color: string (nullable = true)\n",
      " |    |    |    |-- profile_use_background_image: boolean (nullable = true)\n",
      " |    |    |    |-- protected: boolean (nullable = true)\n",
      " |    |    |    |-- screen_name: string (nullable = true)\n",
      " |    |    |    |-- statuses_count: long (nullable = true)\n",
      " |    |    |    |-- time_zone: string (nullable = true)\n",
      " |    |    |    |-- translator_type: string (nullable = true)\n",
      " |    |    |    |-- url: string (nullable = true)\n",
      " |    |    |    |-- utc_offset: string (nullable = true)\n",
      " |    |    |    |-- verified: boolean (nullable = true)\n",
      " |    |    |-- withheld_in_countries: array (nullable = true)\n",
      " |    |    |    |-- element: string (containsNull = true)\n",
      " |    |-- quoted_status_id: long (nullable = true)\n",
      " |    |-- quoted_status_id_str: string (nullable = true)\n",
      " |    |-- quoted_status_permalink: struct (nullable = true)\n",
      " |    |    |-- display: string (nullable = true)\n",
      " |    |    |-- expanded: string (nullable = true)\n",
      " |    |    |-- url: string (nullable = true)\n",
      " |    |-- reply_count: long (nullable = true)\n",
      " |    |-- retweet_count: long (nullable = true)\n",
      " |    |-- retweeted: boolean (nullable = true)\n",
      " |    |-- scopes: struct (nullable = true)\n",
      " |    |    |-- followers: boolean (nullable = true)\n",
      " |    |-- source: string (nullable = true)\n",
      " |    |-- text: string (nullable = true)\n",
      " |    |-- truncated: boolean (nullable = true)\n",
      " |    |-- user: struct (nullable = true)\n",
      " |    |    |-- contributors_enabled: boolean (nullable = true)\n",
      " |    |    |-- created_at: string (nullable = true)\n",
      " |    |    |-- default_profile: boolean (nullable = true)\n",
      " |    |    |-- default_profile_image: boolean (nullable = true)\n",
      " |    |    |-- description: string (nullable = true)\n",
      " |    |    |-- favourites_count: long (nullable = true)\n",
      " |    |    |-- follow_request_sent: string (nullable = true)\n",
      " |    |    |-- followers_count: long (nullable = true)\n",
      " |    |    |-- following: string (nullable = true)\n",
      " |    |    |-- friends_count: long (nullable = true)\n",
      " |    |    |-- geo_enabled: boolean (nullable = true)\n",
      " |    |    |-- id: long (nullable = true)\n",
      " |    |    |-- id_str: string (nullable = true)\n",
      " |    |    |-- is_translator: boolean (nullable = true)\n",
      " |    |    |-- lang: string (nullable = true)\n",
      " |    |    |-- listed_count: long (nullable = true)\n",
      " |    |    |-- location: string (nullable = true)\n",
      " |    |    |-- name: string (nullable = true)\n",
      " |    |    |-- notifications: string (nullable = true)\n",
      " |    |    |-- profile_background_color: string (nullable = true)\n",
      " |    |    |-- profile_background_image_url: string (nullable = true)\n",
      " |    |    |-- profile_background_image_url_https: string (nullable = true)\n",
      " |    |    |-- profile_background_tile: boolean (nullable = true)\n",
      " |    |    |-- profile_banner_url: string (nullable = true)\n",
      " |    |    |-- profile_image_url: string (nullable = true)\n",
      " |    |    |-- profile_image_url_https: string (nullable = true)\n",
      " |    |    |-- profile_link_color: string (nullable = true)\n",
      " |    |    |-- profile_sidebar_border_color: string (nullable = true)\n",
      " |    |    |-- profile_sidebar_fill_color: string (nullable = true)\n",
      " |    |    |-- profile_text_color: string (nullable = true)\n",
      " |    |    |-- profile_use_background_image: boolean (nullable = true)\n",
      " |    |    |-- protected: boolean (nullable = true)\n",
      " |    |    |-- screen_name: string (nullable = true)\n",
      " |    |    |-- statuses_count: long (nullable = true)\n",
      " |    |    |-- time_zone: string (nullable = true)\n",
      " |    |    |-- translator_type: string (nullable = true)\n",
      " |    |    |-- url: string (nullable = true)\n",
      " |    |    |-- utc_offset: string (nullable = true)\n",
      " |    |    |-- verified: boolean (nullable = true)\n",
      " |    |-- withheld_in_countries: array (nullable = true)\n",
      " |    |    |-- element: string (containsNull = true)\n",
      " |-- source: string (nullable = true)\n",
      " |-- status_withheld: struct (nullable = true)\n",
      " |    |-- id: long (nullable = true)\n",
      " |    |-- timestamp_ms: string (nullable = true)\n",
      " |    |-- user_id: long (nullable = true)\n",
      " |    |-- withheld_in_countries: array (nullable = true)\n",
      " |    |    |-- element: string (containsNull = true)\n",
      " |-- text: string (nullable = true)\n",
      " |-- timestamp_ms: string (nullable = true)\n",
      " |-- truncated: boolean (nullable = true)\n",
      " |-- user: struct (nullable = true)\n",
      " |    |-- contributors_enabled: boolean (nullable = true)\n",
      " |    |-- created_at: string (nullable = true)\n",
      " |    |-- default_profile: boolean (nullable = true)\n",
      " |    |-- default_profile_image: boolean (nullable = true)\n",
      " |    |-- description: string (nullable = true)\n",
      " |    |-- favourites_count: long (nullable = true)\n",
      " |    |-- follow_request_sent: string (nullable = true)\n",
      " |    |-- followers_count: long (nullable = true)\n",
      " |    |-- following: string (nullable = true)\n",
      " |    |-- friends_count: long (nullable = true)\n",
      " |    |-- geo_enabled: boolean (nullable = true)\n",
      " |    |-- id: long (nullable = true)\n",
      " |    |-- id_str: string (nullable = true)\n",
      " |    |-- is_translator: boolean (nullable = true)\n",
      " |    |-- lang: string (nullable = true)\n",
      " |    |-- listed_count: long (nullable = true)\n",
      " |    |-- location: string (nullable = true)\n",
      " |    |-- name: string (nullable = true)\n",
      " |    |-- notifications: string (nullable = true)\n",
      " |    |-- profile_background_color: string (nullable = true)\n",
      " |    |-- profile_background_image_url: string (nullable = true)\n",
      " |    |-- profile_background_image_url_https: string (nullable = true)\n",
      " |    |-- profile_background_tile: boolean (nullable = true)\n",
      " |    |-- profile_banner_url: string (nullable = true)\n",
      " |    |-- profile_image_url: string (nullable = true)\n",
      " |    |-- profile_image_url_https: string (nullable = true)\n",
      " |    |-- profile_link_color: string (nullable = true)\n",
      " |    |-- profile_sidebar_border_color: string (nullable = true)\n",
      " |    |-- profile_sidebar_fill_color: string (nullable = true)\n",
      " |    |-- profile_text_color: string (nullable = true)\n",
      " |    |-- profile_use_background_image: boolean (nullable = true)\n",
      " |    |-- protected: boolean (nullable = true)\n",
      " |    |-- screen_name: string (nullable = true)\n",
      " |    |-- statuses_count: long (nullable = true)\n",
      " |    |-- time_zone: string (nullable = true)\n",
      " |    |-- translator_type: string (nullable = true)\n",
      " |    |-- url: string (nullable = true)\n",
      " |    |-- utc_offset: string (nullable = true)\n",
      " |    |-- verified: boolean (nullable = true)\n",
      " |-- withheld_in_countries: array (nullable = true)\n",
      " |    |-- element: string (containsNull = true)\n",
      "\n"
     ]
    }
   ],
   "source": [
    "tweets.printSchema()"
   ]
  },
  {
   "cell_type": "markdown",
   "id": "bd352d03",
   "metadata": {},
   "source": [
    "Spark data frames can be handled similar to SQL tables. The `select` and `withColumn` methods can add or modify columns by passing Spark SQL functions."
   ]
  },
  {
   "cell_type": "code",
   "execution_count": 6,
   "id": "9db6f163",
   "metadata": {
    "ExecuteTime": {
     "end_time": "2022-02-16T11:20:47.138715Z",
     "start_time": "2022-02-16T11:20:46.301730Z"
    }
   },
   "outputs": [
    {
     "name": "stdout",
     "output_type": "stream",
     "text": [
      "+----------+------------+-------+--------------------------+-----------+\n",
      "|RateCodeID|PULocationID|dropoff|hour(lpep_pickup_datetime)|double code|\n",
      "+----------+------------+-------+--------------------------+-----------+\n",
      "|         1|         264|    193|                         0|        2.0|\n",
      "|         1|          92|    230|                         0|        2.0|\n",
      "|         1|         112|    157|                         0|        2.0|\n",
      "|         1|         255|     48|                         0|        2.0|\n",
      "|         1|         260|    129|                         0|        2.0|\n",
      "|         1|         129|    129|                         0|        2.0|\n",
      "|         1|          97|     49|                         0|        2.0|\n",
      "|         1|         255|     37|                         0|        2.0|\n",
      "|         1|         106|     79|                         0|        2.0|\n",
      "|         1|           7|    223|                         0|        2.0|\n",
      "+----------+------------+-------+--------------------------+-----------+\n",
      "\n"
     ]
    }
   ],
   "source": [
    "from pyspark.sql.functions import hour, round\n",
    "(trips.select('RateCodeID', \n",
    "              trips.PULocationID.astype('int'),\n",
    "              trips['DOLocationID'].alias('dropoff'),\n",
    "              hour('lpep_pickup_datetime'))\n",
    "      .withColumn('double code', trips['RateCodeID'] * 2)\n",
    "      .where(trips['RateCodeID'] == 1)\n",
    "      .limit(10)\n",
    "      .show())"
   ]
  },
  {
   "cell_type": "markdown",
   "id": "9fc9a7ad",
   "metadata": {},
   "source": [
    "## User-defined functions"
   ]
  },
  {
   "cell_type": "markdown",
   "id": "1d108363",
   "metadata": {},
   "source": [
    "To use an arbitrary function to process a row or group of columns, it has to be defined as a user-defined function (UDF)."
   ]
  },
  {
   "cell_type": "code",
   "execution_count": 7,
   "id": "24a8f7db",
   "metadata": {
    "ExecuteTime": {
     "end_time": "2022-02-16T11:20:47.146609Z",
     "start_time": "2022-02-16T11:20:47.141458Z"
    }
   },
   "outputs": [],
   "source": [
    "from pyspark.sql.functions import udf\n",
    "\n",
    "@udf\n",
    "def pair_code(pu, do): \n",
    "    return f'{pu}-{do}'"
   ]
  },
  {
   "cell_type": "markdown",
   "id": "aad25cce",
   "metadata": {},
   "source": [
    "The UDF accepts columns as parameters whilst the decorated python function will receive the row values of the column parameters."
   ]
  },
  {
   "cell_type": "code",
   "execution_count": 8,
   "id": "690215dd",
   "metadata": {
    "ExecuteTime": {
     "end_time": "2022-02-16T11:20:48.234859Z",
     "start_time": "2022-02-16T11:20:47.148299Z"
    }
   },
   "outputs": [
    {
     "name": "stderr",
     "output_type": "stream",
     "text": [
      "\r",
      "[Stage 4:>                                                          (0 + 1) / 1]\r"
     ]
    },
    {
     "name": "stdout",
     "output_type": "stream",
     "text": [
      "+-------------------------------------+\n",
      "|pair_code(PULocationID, DOLocationID)|\n",
      "+-------------------------------------+\n",
      "|                              264-193|\n",
      "|                               92-230|\n",
      "|                              112-157|\n",
      "|                               255-48|\n",
      "|                              260-129|\n",
      "|                              129-129|\n",
      "|                                97-49|\n",
      "|                               255-37|\n",
      "|                               106-79|\n",
      "|                                7-223|\n",
      "|                                223-7|\n",
      "|                               49-233|\n",
      "|                                25-49|\n",
      "|                                25-33|\n",
      "|                              179-260|\n",
      "|                              179-179|\n",
      "|                              112-112|\n",
      "|                               112-49|\n",
      "|                               256-79|\n",
      "|                              260-198|\n",
      "+-------------------------------------+\n",
      "only showing top 20 rows\n",
      "\n"
     ]
    },
    {
     "name": "stderr",
     "output_type": "stream",
     "text": [
      "Traceback (most recent call last):\n",
      "  File \"/usr/local/spark/python/lib/pyspark.zip/pyspark/daemon.py\", line 186, in manager\n",
      "  File \"/usr/local/spark/python/lib/pyspark.zip/pyspark/daemon.py\", line 74, in worker\n",
      "  File \"/usr/local/spark/python/lib/pyspark.zip/pyspark/worker.py\", line 643, in main\n",
      "    if read_int(infile) == SpecialLengths.END_OF_STREAM:\n",
      "  File \"/usr/local/spark/python/lib/pyspark.zip/pyspark/serializers.py\", line 564, in read_int\n",
      "    raise EOFError\n",
      "EOFError\n",
      "\r",
      "                                                                                \r"
     ]
    }
   ],
   "source": [
    "(trips\n",
    "     .select(pair_code('PULocationID', 'DOLocationID'))\n",
    "     .show()\n",
    ")"
   ]
  },
  {
   "cell_type": "markdown",
   "id": "e1b16d4d",
   "metadata": {},
   "source": [
    "The `returnType` of the `udf` decorator can also be specified and the default is `StringType`. To create nested fields, we can create a `StructType`."
   ]
  },
  {
   "cell_type": "code",
   "execution_count": 9,
   "id": "37f0f715",
   "metadata": {
    "ExecuteTime": {
     "end_time": "2022-02-16T11:20:48.254978Z",
     "start_time": "2022-02-16T11:20:48.237174Z"
    }
   },
   "outputs": [
    {
     "data": {
      "text/plain": [
       "StructType(List(StructField(id,IntegerType,true),StructField(user,StructType(List(StructField(name,StringType,true),StructField(description,StringType,true))),true)))"
      ]
     },
     "execution_count": 9,
     "metadata": {},
     "output_type": "execute_result"
    }
   ],
   "source": [
    "from pyspark.sql.types import StructType, StructField, StringType, IntegerType\n",
    "\n",
    "UserInfoType = StructType([\n",
    "    StructField('id', IntegerType()),\n",
    "    StructField('user', StructType([\n",
    "        StructField('name', StringType()),\n",
    "        StructField('description', StringType())\n",
    "    ]))\n",
    "])\n",
    "\n",
    "UserInfoType"
   ]
  },
  {
   "cell_type": "code",
   "execution_count": 10,
   "id": "22871ca0",
   "metadata": {
    "ExecuteTime": {
     "end_time": "2022-02-16T11:20:48.410140Z",
     "start_time": "2022-02-16T11:20:48.256759Z"
    }
   },
   "outputs": [],
   "source": [
    "@udf(UserInfoType)\n",
    "def collect_user_info(user_id, user_name, user_description):\n",
    "    return (user_id, (user_name, user_description))"
   ]
  },
  {
   "cell_type": "code",
   "execution_count": 11,
   "id": "be780382",
   "metadata": {
    "ExecuteTime": {
     "end_time": "2022-02-16T11:20:49.242837Z",
     "start_time": "2022-02-16T11:20:48.413027Z"
    }
   },
   "outputs": [
    {
     "name": "stdout",
     "output_type": "stream",
     "text": [
      "+-------------------------------------------------------+\n",
      "|collect_user_info(user.id, user.name, user.description)|\n",
      "+-------------------------------------------------------+\n",
      "|                                   {1394088344, {Un ...|\n",
      "|                                   {238265400, {Jose...|\n",
      "|                                   {286588928, {crys...|\n",
      "|                                   {1683464193, {S1l...|\n",
      "|                                   {-984289279, {𝕽?...|\n",
      "|                                 {-1911214079, {みん...|\n",
      "|                                   {null, {null, null}}|\n",
      "|                                   {135716865, {Ayom...|\n",
      "|                                   {1733398962, {Don...|\n",
      "|                                   {-2053718016, {ma...|\n",
      "|                                   {1834409990, {كلا...|\n",
      "|                               {643145728, {怠惰な堕...|\n",
      "|                                   {254860578, {BW M...|\n",
      "|                                   {19426342, {Zeno ...|\n",
      "|                                   {null, {null, null}}|\n",
      "|                                   {21128035, {Nashv...|\n",
      "|                                   {89290617, {Vaden...|\n",
      "|                               {798045158, {マザコン...|\n",
      "|                                {608300069, {神谷 海...|\n",
      "|                                   {-1642733568, {Ea...|\n",
      "+-------------------------------------------------------+\n",
      "only showing top 20 rows\n",
      "\n"
     ]
    },
    {
     "name": "stderr",
     "output_type": "stream",
     "text": [
      "\r",
      "[Stage 5:>                                                          (0 + 1) / 1]\r",
      "\r",
      "                                                                                \r"
     ]
    }
   ],
   "source": [
    "(tweets\n",
    "    .select(collect_user_info('user.id', 'user.name', 'user.description'))\n",
    "    .show())"
   ]
  },
  {
   "cell_type": "markdown",
   "id": "9eaf99bf",
   "metadata": {},
   "source": [
    "We can also make the UDF work directly with pandas Series and DataFrames by making it a pandas UDF. However, the relevant column, group or dataframe will be passed to the executor so beware of possible out of memory errors."
   ]
  },
  {
   "cell_type": "code",
   "execution_count": 12,
   "id": "e7f9e494",
   "metadata": {
    "ExecuteTime": {
     "end_time": "2022-02-16T11:20:49.585402Z",
     "start_time": "2022-02-16T11:20:49.245093Z"
    }
   },
   "outputs": [],
   "source": [
    "import numpy as np\n",
    "import pandas as pd\n",
    "from pyspark.sql.functions import pandas_udf\n",
    "\n",
    "@pandas_udf(returnType=StringType())\n",
    "def bin_values(s: pd.Series) -> pd.Series:\n",
    "    return pd.cut(s, 10).astype(str)"
   ]
  },
  {
   "cell_type": "code",
   "execution_count": 13,
   "id": "069ec854",
   "metadata": {
    "ExecuteTime": {
     "end_time": "2022-02-16T11:20:50.570248Z",
     "start_time": "2022-02-16T11:20:49.587182Z"
    }
   },
   "outputs": [
    {
     "name": "stderr",
     "output_type": "stream",
     "text": [
      "\r",
      "[Stage 6:>                                                          (0 + 1) / 1]\r"
     ]
    },
    {
     "name": "stdout",
     "output_type": "stream",
     "text": [
      "+----------------+\n",
      "|             bin|\n",
      "+----------------+\n",
      "|(-0.0528, 5.283]|\n",
      "|(10.566, 15.849]|\n",
      "|(-0.0528, 5.283]|\n",
      "| (5.283, 10.566]|\n",
      "|(-0.0528, 5.283]|\n",
      "|(-0.0528, 5.283]|\n",
      "|(-0.0528, 5.283]|\n",
      "|(-0.0528, 5.283]|\n",
      "| (5.283, 10.566]|\n",
      "|(-0.0528, 5.283]|\n",
      "|(-0.0528, 5.283]|\n",
      "| (5.283, 10.566]|\n",
      "|(-0.0528, 5.283]|\n",
      "|(-0.0528, 5.283]|\n",
      "|(-0.0528, 5.283]|\n",
      "|(-0.0528, 5.283]|\n",
      "|(-0.0528, 5.283]|\n",
      "|(-0.0528, 5.283]|\n",
      "|(-0.0528, 5.283]|\n",
      "| (5.283, 10.566]|\n",
      "+----------------+\n",
      "only showing top 20 rows\n",
      "\n"
     ]
    },
    {
     "name": "stderr",
     "output_type": "stream",
     "text": [
      "\r",
      "                                                                                \r"
     ]
    }
   ],
   "source": [
    "(trips\n",
    "    .select(bin_values(trips.trip_distance.astype('float')).alias('bin'))\n",
    "    .show())"
   ]
  },
  {
   "cell_type": "markdown",
   "id": "b966a527",
   "metadata": {},
   "source": [
    "We may also call a Python function directly to work with the entire data or group as a pandas DataFrame. However, this method is experimental and is new in Spark 3. It also requires a shuffle and all the data of a group should fit on memory."
   ]
  },
  {
   "cell_type": "code",
   "execution_count": 14,
   "id": "b3b34491",
   "metadata": {
    "ExecuteTime": {
     "end_time": "2022-02-16T11:20:50.580890Z",
     "start_time": "2022-02-16T11:20:50.576082Z"
    }
   },
   "outputs": [],
   "source": [
    "def standardize_fares(s):\n",
    "    return pd.DataFrame({'normed_fare': s['fare_amount'].astype(float) /\n",
    "                         s['fare_amount'].astype(float).max()})"
   ]
  },
  {
   "cell_type": "code",
   "execution_count": 15,
   "id": "f201020d",
   "metadata": {
    "ExecuteTime": {
     "end_time": "2022-02-16T11:20:57.564599Z",
     "start_time": "2022-02-16T11:20:50.582462Z"
    }
   },
   "outputs": [
    {
     "name": "stderr",
     "output_type": "stream",
     "text": [
      "                                                                                \r"
     ]
    },
    {
     "name": "stdout",
     "output_type": "stream",
     "text": [
      "+-----------+\n",
      "|normed_fare|\n",
      "+-----------+\n",
      "| 0.03984064|\n",
      "|  0.1503984|\n",
      "|-0.03984064|\n",
      "| 0.03984064|\n",
      "| 0.03984064|\n",
      "|0.052788846|\n",
      "| 0.12051793|\n",
      "| 0.17629482|\n",
      "| 0.16633466|\n",
      "| 0.19223107|\n",
      "|   0.187251|\n",
      "| 0.03984064|\n",
      "| 0.17131475|\n",
      "| 0.18326694|\n",
      "| 0.13147411|\n",
      "| 0.17729084|\n",
      "| 0.03984064|\n",
      "| 0.03984064|\n",
      "| 0.03984064|\n",
      "| 0.13446215|\n",
      "+-----------+\n",
      "only showing top 20 rows\n",
      "\n"
     ]
    },
    {
     "name": "stderr",
     "output_type": "stream",
     "text": [
      "\r",
      "[Stage 12:=====================================================>  (19 + 1) / 20]\r",
      "\r",
      "                                                                                \r"
     ]
    }
   ],
   "source": [
    "(trips\n",
    "   .groupby('RatecodeID')\n",
    "   .applyInPandas(standardize_fares, schema=\"normed_fare FLOAT\")\n",
    "   .show()\n",
    ")"
   ]
  },
  {
   "cell_type": "markdown",
   "id": "fb2ce167",
   "metadata": {
    "deletable": false,
    "editable": false,
    "nbgrader": {
     "cell_type": "markdown",
     "checksum": "b18d958bf1d82918b3bffc000692549f",
     "grade": false,
     "grade_id": "cell-7138eb9aea990c8f",
     "locked": true,
     "schema_version": 3,
     "solution": false,
     "task": false
    }
   },
   "source": [
    "**Problem 1**\n",
    "\n",
    "Create a function `get_a_counter_udf` that returns a UDF. The UDF accepts a string column and returns the number of times, as an integer, the letter `a` is found in the column in a case-sensitive fashion."
   ]
  },
  {
   "cell_type": "code",
   "execution_count": null,
   "id": "4359c044",
   "metadata": {
    "ExecuteTime": {
     "end_time": "2022-02-14T13:45:12.427582Z",
     "start_time": "2022-02-14T13:45:12.420116Z"
    }
   },
   "outputs": [],
   "source": []
  },
  {
   "cell_type": "code",
   "execution_count": 16,
   "id": "6b95036b",
   "metadata": {
    "ExecuteTime": {
     "end_time": "2022-02-16T11:20:57.573076Z",
     "start_time": "2022-02-16T11:20:57.567222Z"
    },
    "deletable": false,
    "nbgrader": {
     "cell_type": "code",
     "checksum": "51f6091b44aaf58c8b74763c129593df",
     "grade": false,
     "grade_id": "cell-353b4fd353c81356",
     "locked": false,
     "schema_version": 3,
     "solution": true,
     "task": false
    }
   },
   "outputs": [],
   "source": [
    "def get_a_counter_udf():\n",
    "    from pyspark.sql.functions import udf\n",
    "    from pyspark.sql.types import IntegerType\n",
    "    import re\n",
    "    return udf(lambda x: len(re.findall('a', x, re.I)) if x is not None else 0, returnType=IntegerType())"
   ]
  },
  {
   "cell_type": "code",
   "execution_count": 17,
   "id": "79b44cce",
   "metadata": {
    "ExecuteTime": {
     "end_time": "2022-02-16T11:21:12.234788Z",
     "start_time": "2022-02-16T11:20:57.574739Z"
    },
    "deletable": false,
    "editable": false,
    "nbgrader": {
     "cell_type": "code",
     "checksum": "e89a0e198714e5cc9dd927b047b4dea5",
     "grade": true,
     "grade_id": "cell-063f999d95f24fa1",
     "locked": true,
     "points": 1,
     "schema_version": 3,
     "solution": false,
     "task": false
    }
   },
   "outputs": [
    {
     "name": "stderr",
     "output_type": "stream",
     "text": [
      "                                                                                \r"
     ]
    }
   ],
   "source": [
    "from numpy.testing import assert_equal\n",
    "\n",
    "a_counter_udf = get_a_counter_udf()\n",
    "pdf_a_counter = (\n",
    "    tweets\n",
    "     .select('id', a_counter_udf('text').alias('a_count'))\n",
    "     .orderBy(tweets.id.asc_nulls_last())\n",
    "     .limit(20)\n",
    "     .toPandas()\n",
    ")\n",
    "assert_equal(\n",
    "    pdf_a_counter.head(10).to_numpy().tolist(),\n",
    "    [[1178762246899544069, 1],\n",
    "     [1178762251077062656, 6],\n",
    "     [1178762251077128199, 2],\n",
    "     [1178762251077132289, 2],\n",
    "     [1178762251081146368, 1],\n",
    "     [1178762251081322500, 1],\n",
    "     [1178762251085451271, 0],\n",
    "     [1178762251085463557, 17],\n",
    "     [1178762251085500417, 10],\n",
    "     [1178762251085500418, 2]]\n",
    ")"
   ]
  },
  {
   "cell_type": "markdown",
   "id": "8499dc6a",
   "metadata": {
    "deletable": false,
    "editable": false,
    "nbgrader": {
     "cell_type": "markdown",
     "checksum": "23f52f022d2dd7a81a824f0407c20fb1",
     "grade": false,
     "grade_id": "cell-98222eea97ceaf10",
     "locked": true,
     "schema_version": 3,
     "solution": false,
     "task": false
    }
   },
   "source": [
    "**Problem 2**\n",
    "\n",
    "Create a function `get_zscore_udf` that returns a pandas UDF. The UDF accepts a float column and returns the $z$-score."
   ]
  },
  {
   "cell_type": "code",
   "execution_count": 18,
   "id": "eaa48c8a",
   "metadata": {
    "ExecuteTime": {
     "end_time": "2022-02-16T11:21:12.241026Z",
     "start_time": "2022-02-16T11:21:12.237031Z"
    },
    "deletable": false,
    "nbgrader": {
     "cell_type": "code",
     "checksum": "9414c8d72a52e3ddd2fe52db271d63ee",
     "grade": false,
     "grade_id": "cell-b1226925d376bb96",
     "locked": false,
     "schema_version": 3,
     "solution": true,
     "task": false
    }
   },
   "outputs": [],
   "source": [
    "def get_zscore_udf():\n",
    "    from pyspark.sql.functions import pandas_udf\n",
    "    from pyspark.sql.types import FloatType\n",
    "    return pandas_udf(lambda x: (x-x.mean())/x.std(), returnType=FloatType())"
   ]
  },
  {
   "cell_type": "code",
   "execution_count": 19,
   "id": "e9ffdd62",
   "metadata": {
    "ExecuteTime": {
     "end_time": "2022-02-16T11:21:17.181890Z",
     "start_time": "2022-02-16T11:21:12.243172Z"
    },
    "deletable": false,
    "editable": false,
    "nbgrader": {
     "cell_type": "code",
     "checksum": "1eafc422d1e469128aef1cba0a528ee0",
     "grade": true,
     "grade_id": "cell-34afb27b4d465562",
     "locked": true,
     "points": 1,
     "schema_version": 3,
     "solution": false,
     "task": false
    }
   },
   "outputs": [
    {
     "name": "stderr",
     "output_type": "stream",
     "text": [
      "                                                                                \r"
     ]
    }
   ],
   "source": [
    "from numpy.testing import assert_almost_equal\n",
    "\n",
    "zscore_udf = get_zscore_udf()\n",
    "pdf_zscore = (\n",
    "    trips\n",
    "        .select(zscore_udf(trips.fare_amount.astype('float')).alias('fare'))\n",
    "        .orderBy(trips.lpep_pickup_datetime, trips.lpep_dropoff_datetime)\n",
    "        .limit(10)\n",
    "        .toPandas()\n",
    ")\n",
    "assert_almost_equal(\n",
    "    pdf_zscore.iloc[:5].to_numpy().tolist(),\n",
    "    [[0.008557479828596115],\n",
    "     [-0.6729615330696106],\n",
    "     [0.04841563478112221],\n",
    "     [-0.18859802186489105],\n",
    "     [-0.6502535939216614]]\n",
    ")"
   ]
  },
  {
   "cell_type": "markdown",
   "id": "dfe99f97",
   "metadata": {
    "deletable": false,
    "editable": false,
    "nbgrader": {
     "cell_type": "markdown",
     "checksum": "deafd3bcca8c9e2c592256b4e384bfbe",
     "grade": false,
     "grade_id": "cell-5bbd47a0c5a4d907",
     "locked": true,
     "schema_version": 3,
     "solution": false,
     "task": false
    }
   },
   "source": [
    "**Problem 3**\n",
    "\n",
    "Create a function `get_fare_udf` that returns a pandas UDF. The UDF accepts `fare_amount`, `extra`, `mta_tax`, `tip_amount`, `tolls_amount`, `ehail_fee`, `improvement_surcharge` and `total_amount`, and returns a struct with float fields corresponding to the input parameters."
   ]
  },
  {
   "cell_type": "code",
   "execution_count": 20,
   "id": "0226ec8f",
   "metadata": {
    "ExecuteTime": {
     "end_time": "2022-02-16T11:21:17.190086Z",
     "start_time": "2022-02-16T11:21:17.183903Z"
    }
   },
   "outputs": [
    {
     "data": {
      "text/plain": [
       "StructType(List(StructField(id,IntegerType,true),StructField(user,StructType(List(StructField(name,StringType,true),StructField(description,StringType,true))),true)))"
      ]
     },
     "execution_count": 20,
     "metadata": {},
     "output_type": "execute_result"
    }
   ],
   "source": [
    "from pyspark.sql.types import StructType, StructField, StringType, IntegerType\n",
    "\n",
    "UserInfoType = StructType([\n",
    "    StructField('id', IntegerType()),\n",
    "    StructField('user', StructType([\n",
    "        StructField('name', StringType()),\n",
    "        StructField('description', StringType())\n",
    "    ]))\n",
    "])\n",
    "\n",
    "UserInfoType"
   ]
  },
  {
   "cell_type": "code",
   "execution_count": 21,
   "id": "993d148c",
   "metadata": {
    "ExecuteTime": {
     "end_time": "2022-02-16T11:21:17.212083Z",
     "start_time": "2022-02-16T11:21:17.191723Z"
    },
    "deletable": false,
    "nbgrader": {
     "cell_type": "code",
     "checksum": "7bd6d2b3c2ebff2eaa8ef6e8649014fb",
     "grade": false,
     "grade_id": "cell-6ede24c41e552ff8",
     "locked": false,
     "schema_version": 3,
     "solution": true,
     "task": false
    }
   },
   "outputs": [],
   "source": [
    "def get_fare_udf():\n",
    "    from pyspark.sql.types import FloatType\n",
    "    from pyspark.sql.functions import pandas_udf, udf\n",
    "    struc = StructType([\n",
    "        StructField('fare_amount', FloatType()),\n",
    "        StructField('extra', FloatType()),\n",
    "        StructField('mta_tax', FloatType()),\n",
    "        StructField('tip_amount', FloatType()),\n",
    "        StructField('tolls_amount', FloatType()),\n",
    "        StructField('ehail_fee', FloatType()),\n",
    "        StructField('improvement_surcharge', FloatType()),\n",
    "        StructField('total_amount', FloatType())\n",
    "    ])\n",
    "   \n",
    "    return udf(lambda fa, ex, mt, ti, to, eh, im , tot: (fa, ex, mt, ti, to, eh, im, tot), struc)"
   ]
  },
  {
   "cell_type": "code",
   "execution_count": 22,
   "id": "d5d12e5c",
   "metadata": {
    "ExecuteTime": {
     "end_time": "2022-02-16T11:21:26.674800Z",
     "start_time": "2022-02-16T11:21:17.214661Z"
    },
    "deletable": false,
    "editable": false,
    "nbgrader": {
     "cell_type": "code",
     "checksum": "8c2d791e9171f5f9393b6fcbb1e975df",
     "grade": true,
     "grade_id": "cell-cb32a1fc99eb885f",
     "locked": true,
     "points": 1,
     "schema_version": 3,
     "solution": false,
     "task": false
    }
   },
   "outputs": [
    {
     "name": "stderr",
     "output_type": "stream",
     "text": [
      "Traceback (most recent call last):===================>              (3 + 1) / 4]\n",
      "  File \"/usr/local/spark/python/lib/pyspark.zip/pyspark/daemon.py\", line 186, in manager\n",
      "  File \"/usr/local/spark/python/lib/pyspark.zip/pyspark/daemon.py\", line 74, in worker\n",
      "  File \"/usr/local/spark/python/lib/pyspark.zip/pyspark/worker.py\", line 643, in main\n",
      "    if read_int(infile) == SpecialLengths.END_OF_STREAM:\n",
      "  File \"/usr/local/spark/python/lib/pyspark.zip/pyspark/serializers.py\", line 564, in read_int\n",
      "    raise EOFError\n",
      "EOFError\n",
      "                                                                                \r"
     ]
    }
   ],
   "source": [
    "from pyspark.sql.types import FloatType\n",
    "fare_udf = get_fare_udf()\n",
    "df_fare = (\n",
    "    trips\n",
    "        .orderBy(trips.lpep_pickup_datetime, trips.lpep_dropoff_datetime)\n",
    "        .select(\n",
    "            fare_udf(\n",
    "                trips.fare_amount.astype('float'),\n",
    "                trips.extra.astype('float'),\n",
    "                trips.mta_tax.astype('float'),\n",
    "                trips.tip_amount.astype('float'),\n",
    "                trips.tolls_amount.astype('float'),\n",
    "                trips.ehail_fee.astype('float'),\n",
    "                trips.improvement_surcharge.astype('float'),\n",
    "                trips.total_amount.astype('float')).alias('fare'))\n",
    "        .limit(10)\n",
    ")\n",
    "assert_equal(\n",
    "    df_fare.schema,\n",
    "    StructType([\n",
    "        StructField('fare',\n",
    "            StructType([\n",
    "                StructField('fare_amount',FloatType(), True),\n",
    "                StructField('extra',FloatType(), True),\n",
    "                StructField('mta_tax',FloatType(), True),\n",
    "                StructField('tip_amount',FloatType(), True),\n",
    "                StructField('tolls_amount',FloatType(), True),\n",
    "                StructField('ehail_fee',FloatType(), True),\n",
    "                StructField('improvement_surcharge',FloatType(), True),\n",
    "                StructField('total_amount',FloatType(), True)\n",
    "            ]),\n",
    "        True)\n",
    "    ])\n",
    ")\n",
    "pdf_fare = df_fare.toPandas()\n",
    "assert_equal(\n",
    "    pdf_fare.iloc[:5].to_numpy().squeeze().tolist(),\n",
    "    [[11.0, 1.0, 0.5, 0.0, 0.0, None, 0.30000001192092896,\n",
    "      12.800000190734863],\n",
    "     [1.100000023841858, 0.0, 0.5, 0.0, 0.0, None, 0.30000001192092896,\n",
    "      1.899999976158142],\n",
    "     [11.5, 0.5, 0.5, 0.0, 0.0, None, 0.30000001192092896,\n",
    "      12.800000190734863],\n",
    "     [10.5, 0.0, 0.5, 0.0, 0.0, None, 0.30000001192092896,\n",
    "      11.300000190734863],\n",
    "     [5.5, 0.0, 0.5, 0.0, 0.0, None, 0.30000001192092896, 6.300000190734863]]\n",
    ")"
   ]
  },
  {
   "cell_type": "markdown",
   "id": "b2ae7b97",
   "metadata": {},
   "source": [
    "## SQL statements"
   ]
  },
  {
   "cell_type": "markdown",
   "id": "e82dad2f",
   "metadata": {},
   "source": [
    "You can also call SQL statements to process a dataframe. To do so, a dataframe has to be added to the catalog first."
   ]
  },
  {
   "cell_type": "code",
   "execution_count": 23,
   "id": "1ace33b0",
   "metadata": {
    "ExecuteTime": {
     "end_time": "2022-02-16T11:21:26.708778Z",
     "start_time": "2022-02-16T11:21:26.677071Z"
    }
   },
   "outputs": [],
   "source": [
    "trips.createOrReplaceTempView('trips')"
   ]
  },
  {
   "cell_type": "code",
   "execution_count": 24,
   "id": "88826991",
   "metadata": {
    "ExecuteTime": {
     "end_time": "2022-02-16T11:21:26.720988Z",
     "start_time": "2022-02-16T11:21:26.711694Z"
    }
   },
   "outputs": [],
   "source": [
    "tweets.createOrReplaceTempView('tweets')"
   ]
  },
  {
   "cell_type": "code",
   "execution_count": 25,
   "id": "0b233421",
   "metadata": {
    "ExecuteTime": {
     "end_time": "2022-02-16T11:21:27.065079Z",
     "start_time": "2022-02-16T11:21:26.723043Z"
    }
   },
   "outputs": [
    {
     "name": "stdout",
     "output_type": "stream",
     "text": [
      "+----------+------------+-------+---------------------------------------------+-----------+\n",
      "|RateCodeID|PULocationID|dropoff|hour(CAST(lpep_pickup_datetime AS TIMESTAMP))|double code|\n",
      "+----------+------------+-------+---------------------------------------------+-----------+\n",
      "|         1|         264|    193|                                            0|        2.0|\n",
      "|         1|          92|    230|                                            0|        2.0|\n",
      "|         1|         112|    157|                                            0|        2.0|\n",
      "|         1|         255|     48|                                            0|        2.0|\n",
      "|         1|         260|    129|                                            0|        2.0|\n",
      "|         1|         129|    129|                                            0|        2.0|\n",
      "|         1|          97|     49|                                            0|        2.0|\n",
      "|         1|         255|     37|                                            0|        2.0|\n",
      "|         1|         106|     79|                                            0|        2.0|\n",
      "|         1|           7|    223|                                            0|        2.0|\n",
      "+----------+------------+-------+---------------------------------------------+-----------+\n",
      "\n"
     ]
    }
   ],
   "source": [
    "(spark.sql(\n",
    "    \"\"\"\n",
    "SELECT\n",
    "    RateCodeID,\n",
    "    CAST(PULocationID as INT),\n",
    "    DOLocationID as dropoff,\n",
    "    HOUR(lpep_pickup_datetime)\n",
    "FROM trips\n",
    "WHERE RateCodeID == 1\n",
    "LIMIT 10\n",
    "    \"\"\")\n",
    "    .withColumn('double code', trips['RateCodeID'] * 2)\n",
    "    .show())"
   ]
  },
  {
   "cell_type": "code",
   "execution_count": 26,
   "id": "69654aac",
   "metadata": {
    "ExecuteTime": {
     "end_time": "2022-02-16T11:21:27.375125Z",
     "start_time": "2022-02-16T11:21:27.068289Z"
    }
   },
   "outputs": [
    {
     "name": "stdout",
     "output_type": "stream",
     "text": [
      "+----------+------------+-------+---------------------------------------------+-----------+\n",
      "|RateCodeID|PULocationID|dropoff|hour(CAST(lpep_pickup_datetime AS TIMESTAMP))|double code|\n",
      "+----------+------------+-------+---------------------------------------------+-----------+\n",
      "|         1|         264|    193|                                            0|        2.0|\n",
      "|         1|          92|    230|                                            0|        2.0|\n",
      "|         1|         112|    157|                                            0|        2.0|\n",
      "|         1|         255|     48|                                            0|        2.0|\n",
      "|         1|         260|    129|                                            0|        2.0|\n",
      "|         1|         129|    129|                                            0|        2.0|\n",
      "|         1|          97|     49|                                            0|        2.0|\n",
      "|         1|         255|     37|                                            0|        2.0|\n",
      "|         1|         106|     79|                                            0|        2.0|\n",
      "|         1|           7|    223|                                            0|        2.0|\n",
      "+----------+------------+-------+---------------------------------------------+-----------+\n",
      "\n"
     ]
    }
   ],
   "source": [
    "(spark.sql(\n",
    "    \"\"\"\n",
    "    SELECT\n",
    "        RateCodeID,\n",
    "        CAST(PULocationID as INT),\n",
    "        DOLocationID as dropoff,\n",
    "        HOUR(lpep_pickup_datetime)\n",
    "    FROM trips\n",
    "    WHERE RateCodeID == 1\n",
    "    LIMIT 10\n",
    "    \"\"\")\n",
    "    .withColumn('double code', trips['RateCodeID'] * 2)\n",
    "    .show())"
   ]
  },
  {
   "cell_type": "markdown",
   "id": "2778fa38",
   "metadata": {},
   "source": [
    "The execution plan can be visualized using `explain`. This can be done for all Spark DataFrames not just for those that use a SQL statement."
   ]
  },
  {
   "cell_type": "code",
   "execution_count": 27,
   "id": "d71b40e6",
   "metadata": {
    "ExecuteTime": {
     "end_time": "2022-02-16T11:21:27.449477Z",
     "start_time": "2022-02-16T11:21:27.378195Z"
    }
   },
   "outputs": [
    {
     "name": "stdout",
     "output_type": "stream",
     "text": [
      "== Physical Plan ==\n",
      "* Project (7)\n",
      "+- * GlobalLimit (6)\n",
      "   +- Exchange (5)\n",
      "      +- * LocalLimit (4)\n",
      "         +- * Project (3)\n",
      "            +- * Filter (2)\n",
      "               +- Scan csv  (1)\n",
      "\n",
      "\n",
      "(1) Scan csv \n",
      "Output [4]: [lpep_pickup_datetime#17, RatecodeID#20, PULocationID#21, DOLocationID#22]\n",
      "Batched: false\n",
      "Location: InMemoryFileIndex [file:/mnt/data/public/nyctaxi/all/green_tripdata_2017-10.csv, ... 2 entries]\n",
      "PushedFilters: [IsNotNull(RatecodeID)]\n",
      "ReadSchema: struct<lpep_pickup_datetime:string,RatecodeID:string,PULocationID:string,DOLocationID:string>\n",
      "\n",
      "(2) Filter [codegen id : 1]\n",
      "Input [4]: [lpep_pickup_datetime#17, RatecodeID#20, PULocationID#21, DOLocationID#22]\n",
      "Condition : (isnotnull(RateCodeID#20) AND (cast(RateCodeID#20 as int) = 1))\n",
      "\n",
      "(3) Project [codegen id : 1]\n",
      "Output [4]: [RateCodeID#20, cast(PULocationID#21 as int) AS PULocationID#362, DOLocationID#22 AS dropoff#361, hour(cast(lpep_pickup_datetime#17 as timestamp), Some(Asia/Manila)) AS hour(CAST(lpep_pickup_datetime AS TIMESTAMP))#363]\n",
      "Input [4]: [lpep_pickup_datetime#17, RatecodeID#20, PULocationID#21, DOLocationID#22]\n",
      "\n",
      "(4) LocalLimit [codegen id : 1]\n",
      "Input [4]: [RateCodeID#20, PULocationID#362, dropoff#361, hour(CAST(lpep_pickup_datetime AS TIMESTAMP))#363]\n",
      "Arguments: 10\n",
      "\n",
      "(5) Exchange\n",
      "Input [4]: [RateCodeID#20, PULocationID#362, dropoff#361, hour(CAST(lpep_pickup_datetime AS TIMESTAMP))#363]\n",
      "Arguments: SinglePartition, ENSURE_REQUIREMENTS, [id=#311]\n",
      "\n",
      "(6) GlobalLimit [codegen id : 2]\n",
      "Input [4]: [RateCodeID#20, PULocationID#362, dropoff#361, hour(CAST(lpep_pickup_datetime AS TIMESTAMP))#363]\n",
      "Arguments: 10\n",
      "\n",
      "(7) Project [codegen id : 2]\n",
      "Output [5]: [RateCodeID#20, PULocationID#362, dropoff#361, hour(CAST(lpep_pickup_datetime AS TIMESTAMP))#363, (cast(RateCodeID#20 as double) * 2.0) AS double code#368]\n",
      "Input [4]: [RateCodeID#20, PULocationID#362, dropoff#361, hour(CAST(lpep_pickup_datetime AS TIMESTAMP))#363]\n",
      "\n",
      "\n"
     ]
    }
   ],
   "source": [
    "(spark.sql(\n",
    "    \"\"\"\n",
    "SELECT\n",
    "    RateCodeID,\n",
    "    CAST(PULocationID as INT),\n",
    "    DOLocationID as dropoff,\n",
    "    HOUR(lpep_pickup_datetime)\n",
    "FROM trips\n",
    "WHERE RateCodeID == 1\n",
    "LIMIT 10\n",
    "    \"\"\")\n",
    "    .withColumn('double code', trips['RateCodeID'] * 2)\n",
    "    .explain(mode='formatted'))"
   ]
  },
  {
   "cell_type": "markdown",
   "id": "0a7e322f",
   "metadata": {},
   "source": [
    "UDFs must be registered first before it can be used in a SQL statement."
   ]
  },
  {
   "cell_type": "code",
   "execution_count": 28,
   "id": "19f71125",
   "metadata": {
    "ExecuteTime": {
     "end_time": "2022-02-16T11:21:27.474368Z",
     "start_time": "2022-02-16T11:21:27.451884Z"
    }
   },
   "outputs": [],
   "source": [
    "spark.udf.register(\"pair_code\", pair_code);"
   ]
  },
  {
   "cell_type": "code",
   "execution_count": 29,
   "id": "90d6401f",
   "metadata": {
    "ExecuteTime": {
     "end_time": "2022-02-16T11:21:27.651112Z",
     "start_time": "2022-02-16T11:21:27.483079Z"
    }
   },
   "outputs": [
    {
     "name": "stdout",
     "output_type": "stream",
     "text": [
      "+-------------------------------------+\n",
      "|pair_code(PULocationID, DOLocationID)|\n",
      "+-------------------------------------+\n",
      "|                              264-193|\n",
      "|                               92-230|\n",
      "|                              112-157|\n",
      "|                               255-48|\n",
      "|                              260-129|\n",
      "|                              129-129|\n",
      "|                                97-49|\n",
      "|                               255-37|\n",
      "|                               106-79|\n",
      "|                                7-223|\n",
      "+-------------------------------------+\n",
      "\n"
     ]
    },
    {
     "name": "stderr",
     "output_type": "stream",
     "text": [
      "Traceback (most recent call last):\n",
      "  File \"/usr/local/spark/python/lib/pyspark.zip/pyspark/daemon.py\", line 186, in manager\n",
      "  File \"/usr/local/spark/python/lib/pyspark.zip/pyspark/daemon.py\", line 74, in worker\n",
      "  File \"/usr/local/spark/python/lib/pyspark.zip/pyspark/worker.py\", line 643, in main\n",
      "    if read_int(infile) == SpecialLengths.END_OF_STREAM:\n",
      "  File \"/usr/local/spark/python/lib/pyspark.zip/pyspark/serializers.py\", line 564, in read_int\n",
      "    raise EOFError\n",
      "EOFError\n"
     ]
    }
   ],
   "source": [
    "spark.sql(\"\"\"\n",
    "SELECT pair_code(PULocationID, DOLocationID)\n",
    "FROM trips\n",
    "LIMIT 10\n",
    "\"\"\").show()"
   ]
  },
  {
   "cell_type": "code",
   "execution_count": 30,
   "id": "0feb7efb",
   "metadata": {
    "ExecuteTime": {
     "end_time": "2022-02-16T11:21:27.692433Z",
     "start_time": "2022-02-16T11:21:27.654092Z"
    }
   },
   "outputs": [],
   "source": [
    "spark.udf.register('double_distance', lambda x: x*2, 'FLOAT');"
   ]
  },
  {
   "cell_type": "code",
   "execution_count": 31,
   "id": "33c79202",
   "metadata": {
    "ExecuteTime": {
     "end_time": "2022-02-16T11:21:28.029138Z",
     "start_time": "2022-02-16T11:21:27.695072Z"
    }
   },
   "outputs": [
    {
     "name": "stdout",
     "output_type": "stream",
     "text": [
      "+---------------------------------------------+\n",
      "|double_distance(cast(trip_distance as float))|\n",
      "+---------------------------------------------+\n",
      "|                                          0.0|\n",
      "|                                        27.96|\n",
      "|                                         3.22|\n",
      "|                                        14.46|\n",
      "|                                         4.62|\n",
      "|                                          2.6|\n",
      "|                                         1.78|\n",
      "|                                          3.9|\n",
      "|                                         11.4|\n",
      "|                                          3.4|\n",
      "+---------------------------------------------+\n",
      "\n"
     ]
    },
    {
     "name": "stderr",
     "output_type": "stream",
     "text": [
      "Traceback (most recent call last):\n",
      "  File \"/usr/local/spark/python/lib/pyspark.zip/pyspark/daemon.py\", line 186, in manager\n",
      "  File \"/usr/local/spark/python/lib/pyspark.zip/pyspark/daemon.py\", line 74, in worker\n",
      "  File \"/usr/local/spark/python/lib/pyspark.zip/pyspark/worker.py\", line 643, in main\n",
      "    if read_int(infile) == SpecialLengths.END_OF_STREAM:\n",
      "  File \"/usr/local/spark/python/lib/pyspark.zip/pyspark/serializers.py\", line 564, in read_int\n",
      "    raise EOFError\n",
      "EOFError\n",
      "Traceback (most recent call last):\n",
      "  File \"/usr/local/spark/python/lib/pyspark.zip/pyspark/daemon.py\", line 186, in manager\n",
      "  File \"/usr/local/spark/python/lib/pyspark.zip/pyspark/daemon.py\", line 74, in worker\n",
      "  File \"/usr/local/spark/python/lib/pyspark.zip/pyspark/worker.py\", line 643, in main\n",
      "    if read_int(infile) == SpecialLengths.END_OF_STREAM:\n",
      "  File \"/usr/local/spark/python/lib/pyspark.zip/pyspark/serializers.py\", line 564, in read_int\n",
      "    raise EOFError\n",
      "EOFError\n",
      "Traceback (most recent call last):\n",
      "  File \"/usr/local/spark/python/lib/pyspark.zip/pyspark/daemon.py\", line 186, in manager\n",
      "  File \"/usr/local/spark/python/lib/pyspark.zip/pyspark/daemon.py\", line 74, in worker\n",
      "  File \"/usr/local/spark/python/lib/pyspark.zip/pyspark/worker.py\", line 643, in main\n",
      "    if read_int(infile) == SpecialLengths.END_OF_STREAM:\n",
      "  File \"/usr/local/spark/python/lib/pyspark.zip/pyspark/serializers.py\", line 564, in read_int\n",
      "    raise EOFError\n",
      "EOFError\n"
     ]
    }
   ],
   "source": [
    "spark.sql(\"\"\"\n",
    "SELECT double_distance(CAST(trip_distance AS FLOAT))\n",
    "FROM trips\n",
    "LIMIT 10\n",
    "\"\"\").show()"
   ]
  },
  {
   "cell_type": "code",
   "execution_count": 32,
   "id": "d3834f2e",
   "metadata": {
    "ExecuteTime": {
     "end_time": "2022-02-16T11:21:28.463257Z",
     "start_time": "2022-02-16T11:21:28.032284Z"
    }
   },
   "outputs": [
    {
     "name": "stdout",
     "output_type": "stream",
     "text": [
      "+-----+---------+\n",
      "|   dd|trip_type|\n",
      "+-----+---------+\n",
      "|  0.0|    short|\n",
      "|27.96|     long|\n",
      "| 3.22|    short|\n",
      "|14.46|     long|\n",
      "| 4.62|    short|\n",
      "|  2.6|    short|\n",
      "| 1.78|    short|\n",
      "|  3.9|    short|\n",
      "| 11.4|     long|\n",
      "|  3.4|    short|\n",
      "+-----+---------+\n",
      "\n"
     ]
    },
    {
     "name": "stderr",
     "output_type": "stream",
     "text": [
      "Traceback (most recent call last):\n",
      "  File \"/usr/local/spark/python/lib/pyspark.zip/pyspark/daemon.py\", line 186, in manager\n",
      "  File \"/usr/local/spark/python/lib/pyspark.zip/pyspark/daemon.py\", line 74, in worker\n",
      "  File \"/usr/local/spark/python/lib/pyspark.zip/pyspark/worker.py\", line 643, in main\n",
      "    if read_int(infile) == SpecialLengths.END_OF_STREAM:\n",
      "  File \"/usr/local/spark/python/lib/pyspark.zip/pyspark/serializers.py\", line 564, in read_int\n",
      "    raise EOFError\n",
      "EOFError\n",
      "Traceback (most recent call last):\n",
      "  File \"/usr/local/spark/python/lib/pyspark.zip/pyspark/daemon.py\", line 186, in manager\n",
      "  File \"/usr/local/spark/python/lib/pyspark.zip/pyspark/daemon.py\", line 74, in worker\n",
      "  File \"/usr/local/spark/python/lib/pyspark.zip/pyspark/worker.py\", line 643, in main\n",
      "    if read_int(infile) == SpecialLengths.END_OF_STREAM:\n",
      "  File \"/usr/local/spark/python/lib/pyspark.zip/pyspark/serializers.py\", line 564, in read_int\n",
      "    raise EOFError\n",
      "EOFError\n"
     ]
    }
   ],
   "source": [
    "spark.sql(\"\"\"\n",
    "SELECT\n",
    "    double_distance(CAST(trip_distance AS FLOAT)) AS dd,\n",
    "    (CASE\n",
    "        WHEN\n",
    "            double_distance(CAST(trip_distance AS FLOAT)) > 10\n",
    "        THEN \n",
    "            'long'\n",
    "        ELSE\n",
    "            'short'\n",
    "    END) AS trip_type\n",
    "FROM trips\n",
    "LIMIT 10\n",
    "\"\"\").show()"
   ]
  },
  {
   "cell_type": "code",
   "execution_count": 33,
   "id": "0a4e4d41",
   "metadata": {
    "ExecuteTime": {
     "end_time": "2022-02-16T11:21:28.503260Z",
     "start_time": "2022-02-16T11:21:28.466476Z"
    }
   },
   "outputs": [
    {
     "data": {
      "text/plain": [
       "<function __main__.bin_values(s: pandas.core.series.Series) -> pandas.core.series.Series>"
      ]
     },
     "execution_count": 33,
     "metadata": {},
     "output_type": "execute_result"
    }
   ],
   "source": [
    "spark.udf.register('bin_values', bin_values)"
   ]
  },
  {
   "cell_type": "code",
   "execution_count": 34,
   "id": "fda9297a",
   "metadata": {
    "ExecuteTime": {
     "end_time": "2022-02-16T11:21:29.058694Z",
     "start_time": "2022-02-16T11:21:28.506566Z"
    }
   },
   "outputs": [
    {
     "name": "stdout",
     "output_type": "stream",
     "text": [
      "+----------------------------------------+\n",
      "|bin_values(cast(trip_distance as float))|\n",
      "+----------------------------------------+\n",
      "|                        (-0.0528, 5.283]|\n",
      "|                        (10.566, 15.849]|\n",
      "|                        (-0.0528, 5.283]|\n",
      "|                         (5.283, 10.566]|\n",
      "|                        (-0.0528, 5.283]|\n",
      "|                        (-0.0528, 5.283]|\n",
      "|                        (-0.0528, 5.283]|\n",
      "|                        (-0.0528, 5.283]|\n",
      "|                         (5.283, 10.566]|\n",
      "|                        (-0.0528, 5.283]|\n",
      "+----------------------------------------+\n",
      "\n"
     ]
    }
   ],
   "source": [
    "spark.sql(\"\"\"\n",
    "SELECT bin_values(CAST(trip_distance AS FLOAT))\n",
    "FROM trips\n",
    "LIMIT 10\n",
    "\"\"\").show()"
   ]
  },
  {
   "cell_type": "markdown",
   "id": "4208320a",
   "metadata": {
    "deletable": false,
    "editable": false,
    "nbgrader": {
     "cell_type": "markdown",
     "checksum": "016ce86061237bf71afd750b5a2322be",
     "grade": false,
     "grade_id": "cell-37f7229aa02593f9",
     "locked": true,
     "schema_version": 3,
     "solution": false,
     "task": false
    }
   },
   "source": [
    "**Problem 4**\n",
    "\n",
    "Create a function `ave_amount` that returns a SQL statement that will process `tweets` to create a table with columns `PULocationID` and `mean fare amount`, which contains the average fare amount per `PULocationID`.  Sort by `PULocationID`."
   ]
  },
  {
   "cell_type": "code",
   "execution_count": 35,
   "id": "1413e378",
   "metadata": {
    "ExecuteTime": {
     "end_time": "2022-02-16T11:21:29.066575Z",
     "start_time": "2022-02-16T11:21:29.061475Z"
    },
    "deletable": false,
    "nbgrader": {
     "cell_type": "code",
     "checksum": "cf38deb71ee72d3650aa526ded68fd16",
     "grade": false,
     "grade_id": "cell-2f02b0d6675357d2",
     "locked": false,
     "schema_version": 3,
     "solution": true,
     "task": false
    }
   },
   "outputs": [],
   "source": [
    "def ave_amount():\n",
    "    statement = f\"\"\"\n",
    "    \n",
    "    SELECT CAST(PULocationID AS INT), AVG(fare_amount) AS `mean fare amount`\n",
    "    FROM trips\n",
    "    GROUP BY PULocationID \n",
    "    ORDER BY PULocationID \n",
    "    \"\"\"\n",
    "    return statement"
   ]
  },
  {
   "cell_type": "code",
   "execution_count": 36,
   "id": "5c4a7cc3",
   "metadata": {
    "ExecuteTime": {
     "end_time": "2022-02-16T11:21:34.454683Z",
     "start_time": "2022-02-16T11:21:29.069208Z"
    },
    "deletable": false,
    "editable": false,
    "nbgrader": {
     "cell_type": "code",
     "checksum": "ce54aaaaf4e615d03a3a876dbe17eca8",
     "grade": true,
     "grade_id": "cell-1e3378c936213592",
     "locked": true,
     "points": 1,
     "schema_version": 3,
     "solution": false,
     "task": false
    }
   },
   "outputs": [
    {
     "name": "stderr",
     "output_type": "stream",
     "text": [
      "                                                                                \r"
     ]
    }
   ],
   "source": [
    "from numpy.testing import assert_array_almost_equal\n",
    "\n",
    "mean_fare = spark.sql(ave_amount()).toPandas()\n",
    "\n",
    "assert_equal(len(mean_fare), 255)\n",
    "assert_equal(mean_fare.columns.tolist(), ['PULocationID', 'mean fare amount'])\n",
    "assert_equal(mean_fare['PULocationID'].to_numpy()[:10], \n",
    "                   [1, 2, 3, 5, 6, 7, 8, 9, 10, 11])\n",
    "assert_array_almost_equal(\n",
    "    mean_fare['mean fare amount'].to_numpy()[:10],\n",
    "    [72.33266667, 61.5       , 17.55557656, 42.83333333, 35.77777778,\n",
    "     10.08359857, 13.625     , 24.45208845, 19.82410309, 21.73911883])"
   ]
  },
  {
   "cell_type": "markdown",
   "id": "69bdbd6a",
   "metadata": {
    "deletable": false,
    "editable": false,
    "nbgrader": {
     "cell_type": "markdown",
     "checksum": "6fb9112b7c079e79ac597b842a54e417",
     "grade": false,
     "grade_id": "cell-9a8a5a30e72a5cb7",
     "locked": true,
     "schema_version": 3,
     "solution": false,
     "task": false
    }
   },
   "source": [
    "**Problem 5**\n",
    "\n",
    "Create a function `pickup` that returns a SQL statement to process `trips` into a data frame with columns `pickup_hour` and `pickup_location`. The column `pickup_hour` is of `StringType` and corresponds to `lpep_pickup_datetime` rounded down to the nearest hour and the column `pickup_location` is the array of unique `PULocationID` for that `pickup_hour` sorted by `PULocationID`. Sort the resulting data frame by `pickup_hour`. "
   ]
  },
  {
   "cell_type": "code",
   "execution_count": 37,
   "id": "4795dafe",
   "metadata": {
    "ExecuteTime": {
     "end_time": "2022-02-16T11:21:34.459656Z",
     "start_time": "2022-02-16T11:21:34.456413Z"
    },
    "deletable": false,
    "nbgrader": {
     "cell_type": "code",
     "checksum": "87211f5f1a778f34b949406983e54bc5",
     "grade": false,
     "grade_id": "cell-507815637d1e5e12",
     "locked": false,
     "schema_version": 3,
     "solution": true,
     "task": false
    }
   },
   "outputs": [],
   "source": [
    "def pickup():\n",
    "    statement = \"\"\"\n",
    "    \n",
    "    SELECT \n",
    "        CAST(\n",
    "            date_trunc('Hour', to_timestamp(lpep_pickup_datetime)) as string\n",
    "            ) as pickup_hour,\n",
    "        sort_array(collect_set(CAST(PULocationID as INT))) as pickup_locations\n",
    "    FROM trips\n",
    "    GROUP BY pickup_hour\n",
    "    ORDER BY pickup_hour\n",
    "    \"\"\"\n",
    "    return statement"
   ]
  },
  {
   "cell_type": "code",
   "execution_count": 38,
   "id": "f6ce84db",
   "metadata": {
    "ExecuteTime": {
     "end_time": "2022-02-16T11:21:45.099038Z",
     "start_time": "2022-02-16T11:21:34.461197Z"
    },
    "deletable": false,
    "editable": false,
    "nbgrader": {
     "cell_type": "code",
     "checksum": "679c9a49aa9294b4c81ef5710d2cb3f3",
     "grade": true,
     "grade_id": "cell-d6b2972be8043668",
     "locked": true,
     "points": 1,
     "schema_version": 3,
     "solution": false,
     "task": false
    }
   },
   "outputs": [
    {
     "name": "stderr",
     "output_type": "stream",
     "text": [
      "                                                                                \r"
     ]
    }
   ],
   "source": [
    "pdf_pickup = spark.sql(pickup()).toPandas()\n",
    "assert_equal(len(pdf_pickup), 2286)\n",
    "assert_equal(pdf_pickup.columns.tolist(), ['pickup_hour', 'pickup_locations'])\n",
    "assert_equal(\n",
    "    pdf_pickup.iloc[:10].to_numpy().tolist(),\n",
    "    [['2008-12-31 18:00:00', [37]],\n",
    "     ['2008-12-31 23:00:00', [95, 181, 264]],\n",
    "     ['2009-01-01 00:00:00', [95, 181, 193, 260]],\n",
    "     ['2009-01-01 01:00:00', [7, 260]],\n",
    "     ['2009-01-01 02:00:00', [260]],\n",
    "     ['2009-01-01 05:00:00', [181]],\n",
    "     ['2009-01-01 07:00:00', [181]],\n",
    "     ['2009-01-01 08:00:00', [181]],\n",
    "     ['2009-01-01 09:00:00', [85, 181]],\n",
    "     ['2009-01-01 10:00:00', [181]]]\n",
    ")"
   ]
  },
  {
   "cell_type": "markdown",
   "id": "f67f5313",
   "metadata": {
    "deletable": false,
    "editable": false,
    "nbgrader": {
     "cell_type": "markdown",
     "checksum": "c19f05119fef608a9f111d97e18d9cc5",
     "grade": false,
     "grade_id": "cell-c448d698bc0eb381",
     "locked": true,
     "schema_version": 3,
     "solution": false,
     "task": false
    }
   },
   "source": [
    "**Problem 6**\n",
    "\n",
    "Create a function `friendliest` that returns a SQL statement to process `tweets` into a data frame with columns `screen_name` and `friends_count` and rows corresponding to the ten unique `screen_name`s with the most `friends_count`. Sort by decreasing `friends_count` then by `screen_name`. Your code should be a single continuous Spark DataFrame method call chain."
   ]
  },
  {
   "cell_type": "code",
   "execution_count": 39,
   "id": "ae032867",
   "metadata": {
    "ExecuteTime": {
     "end_time": "2022-02-16T11:21:45.104545Z",
     "start_time": "2022-02-16T11:21:45.101046Z"
    },
    "deletable": false,
    "nbgrader": {
     "cell_type": "code",
     "checksum": "05159d1024c1f9981d2878ddd7751b2a",
     "grade": false,
     "grade_id": "cell-b92e8af3d1c1ceae",
     "locked": false,
     "schema_version": 3,
     "solution": true,
     "task": false
    }
   },
   "outputs": [],
   "source": [
    "def friendliest():\n",
    "    statement = \"\"\"\n",
    "    \n",
    "    SELECT user.screen_name as screen_name, CAST(MAX(user.friends_count) AS INT) AS friends_count\n",
    "    FROM tweets\n",
    "    GROUP BY user.screen_name\n",
    "    ORDER BY friends_count DESC\n",
    "    LIMIT 10\n",
    "    \n",
    "    \"\"\"\n",
    "    return statement"
   ]
  },
  {
   "cell_type": "code",
   "execution_count": 40,
   "id": "0ddfa222",
   "metadata": {
    "ExecuteTime": {
     "end_time": "2022-02-16T11:21:59.755753Z",
     "start_time": "2022-02-16T11:21:45.106324Z"
    },
    "deletable": false,
    "editable": false,
    "nbgrader": {
     "cell_type": "code",
     "checksum": "2483f5dbd4b159137051ae99a2d9e6a0",
     "grade": true,
     "grade_id": "cell-82c2e1f3db5835ba",
     "locked": true,
     "points": 1,
     "schema_version": 3,
     "solution": false,
     "task": false
    }
   },
   "outputs": [
    {
     "name": "stderr",
     "output_type": "stream",
     "text": [
      "                                                                                \r"
     ]
    }
   ],
   "source": [
    "flist = spark.sql(friendliest()).toPandas()\n",
    "assert_equal(flist.columns.tolist(), ['screen_name', 'friends_count'])\n",
    "assert_equal(\n",
    "    flist.iloc[:5].to_numpy().tolist(),\n",
    "    [['8W88W', 1102946],\n",
    "     ['amola12200', 832745],\n",
    "     ['abl911', 513701],\n",
    "     ['jilevin', 504085],\n",
    "     ['p6_96', 387465]]\n",
    ")"
   ]
  },
  {
   "cell_type": "markdown",
   "id": "78a93ea3",
   "metadata": {
    "deletable": false,
    "editable": false,
    "nbgrader": {
     "cell_type": "markdown",
     "checksum": "5d990784a578abf41c05a7a9a6535642",
     "grade": false,
     "grade_id": "cell-f2978602a11cbb00",
     "locked": true,
     "schema_version": 3,
     "solution": false,
     "task": false
    }
   },
   "source": [
    "**Problem 7**\n",
    "\n",
    "Create a function `hashiest` that returns a SQL statement to process `tweets` into a data frame with columns `hashtag` and `count`, and rows corresponding to the ten most common hashtags. Sort by decreasing frequency then by hashtag. "
   ]
  },
  {
   "cell_type": "code",
   "execution_count": 41,
   "id": "de610d68",
   "metadata": {
    "ExecuteTime": {
     "end_time": "2022-02-16T11:21:59.764160Z",
     "start_time": "2022-02-16T11:21:59.760930Z"
    },
    "deletable": false,
    "nbgrader": {
     "cell_type": "code",
     "checksum": "5042e9535f6411afaf0577479f4e251a",
     "grade": false,
     "grade_id": "cell-e5e34310b434167d",
     "locked": false,
     "schema_version": 3,
     "solution": true,
     "task": false
    }
   },
   "outputs": [],
   "source": [
    "def hashiest():\n",
    "    statement = \"\"\"\n",
    "    \n",
    "    SELECT H as hashtag, COUNT(H) as `count`\n",
    "    FROM    (SELECT EXPLODE(entities.hashtags.text) as H\n",
    "            FROM tweets\n",
    "            WHERE SIZE(entities.hashtags) != 0\n",
    "                AND ISNOTNULL(entities.hashtags)\n",
    "            )\n",
    "    GROUP BY H\n",
    "    ORDER BY `count` DESC, H\n",
    "    LIMIT 10\n",
    "    \n",
    "    \"\"\"\n",
    "    return statement"
   ]
  },
  {
   "cell_type": "code",
   "execution_count": 42,
   "id": "38dae4fd",
   "metadata": {
    "ExecuteTime": {
     "end_time": "2022-02-16T11:22:14.354581Z",
     "start_time": "2022-02-16T11:21:59.766213Z"
    },
    "deletable": false,
    "editable": false,
    "nbgrader": {
     "cell_type": "code",
     "checksum": "aad4ce8ad0252f4b44c7945f8e070f52",
     "grade": true,
     "grade_id": "cell-97f157b6cc2bf58b",
     "locked": true,
     "points": 1,
     "schema_version": 3,
     "solution": false,
     "task": false
    }
   },
   "outputs": [
    {
     "name": "stderr",
     "output_type": "stream",
     "text": [
      "                                                                                \r"
     ]
    }
   ],
   "source": [
    "hlist = spark.sql(hashiest()).toPandas()\n",
    "assert_equal(hlist.columns.tolist(), ['hashtag', 'count'])\n",
    "assert_equal(\n",
    "    hlist.iloc[:5].to_numpy().tolist(),\n",
    "    [['PCAs', 413],\n",
    "     ['MPN', 396],\n",
    "     ['BTS', 248],\n",
    "     ['MUNARS', 171],\n",
    "     ['ARMYSelcaDay', 159]]\n",
    ")"
   ]
  },
  {
   "cell_type": "markdown",
   "id": "16afe9dc",
   "metadata": {
    "deletable": false,
    "editable": false,
    "nbgrader": {
     "cell_type": "markdown",
     "checksum": "5722492496d10701ffe3c87a5e86a4cb",
     "grade": false,
     "grade_id": "cell-5a7dfabceb2cf8db",
     "locked": true,
     "schema_version": 3,
     "solution": false,
     "task": false
    }
   },
   "source": [
    "**Problem 8**\n",
    "\n",
    "Create a function `count_tokens` that returns a SQL statement to process `texts`, a Spark DataFrame of filepaths and text, into a data frame with columns `id` and `tokens` sorted by `id`. The `id` column corresponds to the id of the book and the `value` column corresponds to the number of tokens in each book, including headers and footers. A token is defined as a sequence of non-whitespace characters."
   ]
  },
  {
   "cell_type": "code",
   "execution_count": 43,
   "id": "a94104a0",
   "metadata": {
    "ExecuteTime": {
     "end_time": "2022-02-16T11:22:14.360252Z",
     "start_time": "2022-02-16T11:22:14.356531Z"
    },
    "deletable": false,
    "nbgrader": {
     "cell_type": "code",
     "checksum": "8c459ec77e480a7a74b2c8078e9d8288",
     "grade": false,
     "grade_id": "cell-6dd11f7d95f48223",
     "locked": false,
     "schema_version": 3,
     "solution": true,
     "task": false
    }
   },
   "outputs": [],
   "source": [
    "def count_tokens():\n",
    "    spark.udf.register('count_tokens', lambda x: len(x.split()), 'INT')\n",
    "    statement = \"\"\"\n",
    "    \n",
    "    SELECT regexp_extract(filenames, '/([0-9]+).txt', 1) as id, count_tokens(value) as tokens\n",
    "    \n",
    "    FROM (\n",
    "        SELECT INPUT_FILE_NAME() as filenames, value\n",
    "        FROM texts\n",
    "        )\n",
    "    ORDER BY id\n",
    "    \n",
    "    \"\"\"\n",
    "    return statement"
   ]
  },
  {
   "cell_type": "code",
   "execution_count": null,
   "id": "6366ffa5",
   "metadata": {},
   "outputs": [],
   "source": []
  },
  {
   "cell_type": "code",
   "execution_count": 44,
   "id": "d3e42d42",
   "metadata": {
    "ExecuteTime": {
     "end_time": "2022-02-16T11:22:22.619677Z",
     "start_time": "2022-02-16T11:22:14.404335Z"
    },
    "deletable": false,
    "editable": false,
    "nbgrader": {
     "cell_type": "code",
     "checksum": "1dbe7b29e10af0e166c0d3fa9173d6ea",
     "grade": true,
     "grade_id": "cell-e6ca403fff8004ef",
     "locked": true,
     "points": 1,
     "schema_version": 3,
     "solution": false,
     "task": false
    }
   },
   "outputs": [
    {
     "name": "stderr",
     "output_type": "stream",
     "text": [
      "                                                                                \r"
     ]
    }
   ],
   "source": [
    "(spark.read.text(\n",
    "    '/mnt/data/public/gutenberg/1/1/1/*/*/?????.txt', wholetext=True)\n",
    "    .createOrReplaceTempView('texts'))\n",
    "pdf_token_counts = spark.sql(count_tokens()).toPandas()\n",
    "assert_equal(pdf_token_counts.columns.tolist(), ['id', 'tokens'])\n",
    "assert_equal(\n",
    "    pdf_token_counts.iloc[:10].to_numpy().tolist(),\n",
    "    [['11100', 243729],\n",
    "     ['11101', 36479],\n",
    "     ['11102', 44876],\n",
    "     ['11103', 89587],\n",
    "     ['11104', 53843],\n",
    "     ['11105', 8506],\n",
    "     ['11106', 115056],\n",
    "     ['11107', 14580],\n",
    "     ['11108', 35843],\n",
    "     ['11109', 16937]]\n",
    ")"
   ]
  },
  {
   "cell_type": "markdown",
   "id": "0ed1c06d",
   "metadata": {
    "deletable": false,
    "editable": false,
    "nbgrader": {
     "cell_type": "markdown",
     "checksum": "8e1390ffa80d712a4a6b578c5f6b3c7b",
     "grade": false,
     "grade_id": "cell-15b8e77a2d687758",
     "locked": true,
     "schema_version": 3,
     "solution": false,
     "task": false
    }
   },
   "source": [
    "**Problem 9**\n",
    "\n",
    "Create a function `count_love` that returns a SQL statement to process `texts`, a Spark DataFrame of strings, into a data frame with columns `has love` and `count`. The column `has love` should have row values `loveful` and `loveless`, in that order. The corresponding `count` value is the number of rows that has the word `love` (case-insensitive, bounded by non-word characters), and the words that doesn't have it, respectively."
   ]
  },
  {
   "cell_type": "code",
   "execution_count": 45,
   "id": "d01cdf79",
   "metadata": {
    "ExecuteTime": {
     "end_time": "2022-02-16T11:22:22.627589Z",
     "start_time": "2022-02-16T11:22:22.622275Z"
    },
    "deletable": false,
    "nbgrader": {
     "cell_type": "code",
     "checksum": "01e62bf30ce79d22c0804b2b8e4ff0c8",
     "grade": false,
     "grade_id": "cell-289125d3b73efbe7",
     "locked": false,
     "schema_version": 3,
     "solution": true,
     "task": false
    }
   },
   "outputs": [],
   "source": [
    "def count_love():\n",
    "    import re\n",
    "    spark.udf.register('love_counter', lambda x: 'loveful' if re.search(r'\\blove\\b', x, re.I) else 'loveless')\n",
    "    statement = \"\"\"\n",
    "    \n",
    "    SELECT label as `has love`, COUNT(label) as `count`\n",
    "    FROM    (\n",
    "            SELECT love_counter(value) as label\n",
    "            FROM texts\n",
    "            )\n",
    "    GROUP BY label\n",
    "    \n",
    "    \"\"\"\n",
    "    return statement"
   ]
  },
  {
   "cell_type": "code",
   "execution_count": 46,
   "id": "001a3ed1",
   "metadata": {
    "ExecuteTime": {
     "end_time": "2022-02-16T11:22:22.666913Z",
     "start_time": "2022-02-16T11:22:22.629266Z"
    }
   },
   "outputs": [],
   "source": [
    "# def count_love():\n",
    "#     def love_counter(row):\n",
    "#         if re.search(r'\\blove\\b', row, re.I):\n",
    "#             return 'loveful'\n",
    "#         else:\n",
    "#             return 'loveless'\n",
    "        \n",
    "#     spark.udf.register('love_counter', love_counter)\n",
    "\n",
    "#     statement =\"\"\"\n",
    "#     SELECT love_counter(value) as label\n",
    "#     FROM texts\n",
    "#     limit(2)\n",
    "#     \"\"\"\n",
    "#     return statement"
   ]
  },
  {
   "cell_type": "code",
   "execution_count": 47,
   "id": "0ecb465b",
   "metadata": {
    "ExecuteTime": {
     "end_time": "2022-02-16T11:22:29.923600Z",
     "start_time": "2022-02-16T11:22:22.669394Z"
    },
    "deletable": false,
    "editable": false,
    "nbgrader": {
     "cell_type": "code",
     "checksum": "0c001f201a16124eb690e140764b8bde",
     "grade": true,
     "grade_id": "cell-39499a2cdf763699",
     "locked": true,
     "points": 1,
     "schema_version": 3,
     "solution": false,
     "task": false
    }
   },
   "outputs": [
    {
     "name": "stderr",
     "output_type": "stream",
     "text": [
      "                                                                                \r"
     ]
    }
   ],
   "source": [
    "(spark.read.text('/mnt/data/public/gutenberg/1/1/1/*/*/?????.txt')\n",
    "      .createOrReplaceTempView('texts'))\n",
    "pdf_love = spark.sql(count_love()).toPandas()\n",
    "assert_equal(\n",
    "    pdf_love.columns.tolist(),\n",
    "    ['has love', 'count']\n",
    ")\n",
    "assert_equal(\n",
    "    pdf_love['has love'].tolist(),\n",
    "    ['loveful', 'loveless']\n",
    ")"
   ]
  },
  {
   "cell_type": "markdown",
   "id": "d220d783",
   "metadata": {
    "deletable": false,
    "editable": false,
    "nbgrader": {
     "cell_type": "markdown",
     "checksum": "917945c882640ef7cfc40d22ddc8e3d3",
     "grade": false,
     "grade_id": "cell-c919380dbe4d94e8",
     "locked": true,
     "schema_version": 3,
     "solution": false,
     "task": false
    }
   },
   "source": [
    "**Problem 10**\n",
    "\n",
    "Create a function `count_creation` that returns a SQL statement to process `tweets2` into a data frame with columns `year` corresponding to the creation year of users and `frequency` corresponding to the number of unique users with that creation year. Sort them by decreasing number of users."
   ]
  },
  {
   "cell_type": "code",
   "execution_count": 48,
   "id": "450107c3",
   "metadata": {
    "ExecuteTime": {
     "end_time": "2022-02-16T11:22:29.930174Z",
     "start_time": "2022-02-16T11:22:29.926078Z"
    },
    "deletable": false,
    "nbgrader": {
     "cell_type": "code",
     "checksum": "4b03276feeb4388e3f55c501437e6f11",
     "grade": false,
     "grade_id": "cell-275637bda90741cc",
     "locked": false,
     "schema_version": 3,
     "solution": true,
     "task": false
    }
   },
   "outputs": [],
   "source": [
    "def count_creation():\n",
    "    \n",
    "    statement = \"\"\"\n",
    "    \n",
    "    SELECT INT(`year`), SIZE(collect_set(id)) as `frequency`\n",
    "    FROM    (\n",
    "        SELECT regexp_extract(user.created_at, '([0-9]{4})$', 1) as `year`, user.id as `id`\n",
    "        FROM tweets2\n",
    "        WHERE isNotNull(regexp_extract(user.created_at, '([0-9]{4})$', 1))\n",
    "            AND isNotNull(user.id)\n",
    "            )\n",
    "    GROUP BY `year`\n",
    "    ORDER BY `frequency` DESC\n",
    "\n",
    "    \"\"\"\n",
    "    return statement"
   ]
  },
  {
   "cell_type": "code",
   "execution_count": 49,
   "id": "30835ae1",
   "metadata": {
    "ExecuteTime": {
     "end_time": "2022-02-16T11:22:29.946543Z",
     "start_time": "2022-02-16T11:22:29.931918Z"
    }
   },
   "outputs": [],
   "source": [
    "# SELECT regexp_extract(user.created_at, '([0-9]{4})$', 1) as `year`, \n",
    "#     FROM tweets2\n",
    "#     WHERE isNotNull(regexp_extract(user.created_at, '([0-9]{4})$', 1))\n",
    "#     LIMIT 10"
   ]
  },
  {
   "cell_type": "code",
   "execution_count": 51,
   "id": "d61d3069",
   "metadata": {
    "ExecuteTime": {
     "end_time": "2022-02-16T11:23:20.554367Z",
     "start_time": "2022-02-16T11:22:45.925844Z"
    },
    "deletable": false,
    "editable": false,
    "nbgrader": {
     "cell_type": "code",
     "checksum": "f41f8f265d20370f4402ab4ad8e92c6e",
     "grade": true,
     "grade_id": "cell-355c762d89d1b6a5",
     "locked": true,
     "points": 1,
     "schema_version": 3,
     "solution": false,
     "task": false
    }
   },
   "outputs": [
    {
     "name": "stderr",
     "output_type": "stream",
     "text": [
      "                                                                                \r"
     ]
    }
   ],
   "source": [
    "(spark.read.json('/mnt/data/public/twitter/sample/'\n",
    "                 'data-1909302*.json.bz2')\n",
    "      .createOrReplaceTempView('tweets2'))\n",
    "create_counts = spark.sql(count_creation()).toPandas()\n",
    "\n",
    "assert_equal(create_counts.shape, (14, 2))\n",
    "assert_equal(create_counts.columns.tolist(), ['year', 'frequency'])"
   ]
  }
 ],
 "metadata": {
  "hide_input": false,
  "kernelspec": {
   "display_name": "Python 3 (ipykernel)",
   "language": "python",
   "name": "python3"
  },
  "language_info": {
   "codemirror_mode": {
    "name": "ipython",
    "version": 3
   },
   "file_extension": ".py",
   "mimetype": "text/x-python",
   "name": "python",
   "nbconvert_exporter": "python",
   "pygments_lexer": "ipython3",
   "version": "3.9.6"
  },
  "toc": {
   "base_numbering": 1,
   "nav_menu": {},
   "number_sections": true,
   "sideBar": true,
   "skip_h1_title": false,
   "title_cell": "Table of Contents",
   "title_sidebar": "Contents",
   "toc_cell": false,
   "toc_position": {},
   "toc_section_display": true,
   "toc_window_display": true
  }
 },
 "nbformat": 4,
 "nbformat_minor": 5
}
