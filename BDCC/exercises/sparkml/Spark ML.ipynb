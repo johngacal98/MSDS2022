{
 "cells": [
  {
   "cell_type": "markdown",
   "metadata": {
    "hide_input": false
   },
   "source": [
    "# ML with Spark\n",
    "\n",
    "**Christian Alis**"
   ]
  },
  {
   "cell_type": "markdown",
   "metadata": {},
   "source": [
    "Apache Spark has its own ML library, MLlib. Although it has both an RDD- and DataFrames-based API, the former is already deprecated so you should use only the latter. The DataFrames-based API follows a workflow similar to scikit-learn."
   ]
  },
  {
   "cell_type": "markdown",
   "metadata": {},
   "source": [
    "## Basic statistics"
   ]
  },
  {
   "cell_type": "markdown",
   "metadata": {},
   "source": [
    "To introduce MLlib, let us try performing a simple task which is taking the Spearman correlation of vectors."
   ]
  },
  {
   "cell_type": "code",
   "execution_count": 1,
   "metadata": {
    "ExecuteTime": {
     "end_time": "2022-03-06T07:33:40.083292Z",
     "start_time": "2022-03-06T07:33:36.000751Z"
    },
    "hide_input": true
   },
   "outputs": [
    {
     "name": "stderr",
     "output_type": "stream",
     "text": [
      "WARNING: An illegal reflective access operation has occurred\n",
      "WARNING: Illegal reflective access by org.apache.spark.unsafe.Platform (file:/usr/local/spark-3.1.2-bin-hadoop3.2/jars/spark-unsafe_2.12-3.1.2.jar) to constructor java.nio.DirectByteBuffer(long,int)\n",
      "WARNING: Please consider reporting this to the maintainers of org.apache.spark.unsafe.Platform\n",
      "WARNING: Use --illegal-access=warn to enable warnings of further illegal reflective access operations\n",
      "WARNING: All illegal access operations will be denied in a future release\n",
      "22/03/06 15:33:38 WARN NativeCodeLoader: Unable to load native-hadoop library for your platform... using builtin-java classes where applicable\n",
      "Using Spark's default log4j profile: org/apache/spark/log4j-defaults.properties\n",
      "Setting default log level to \"WARN\".\n",
      "To adjust logging level use sc.setLogLevel(newLevel). For SparkR, use setLogLevel(newLevel).\n",
      "22/03/06 15:33:39 WARN Utils: Service 'SparkUI' could not bind on port 4040. Attempting port 4041.\n",
      "22/03/06 15:33:39 WARN Utils: Service 'SparkUI' could not bind on port 4041. Attempting port 4042.\n"
     ]
    }
   ],
   "source": [
    "from pyspark.sql import SparkSession\n",
    "spark = SparkSession.builder.getOrCreate()"
   ]
  },
  {
   "cell_type": "code",
   "execution_count": 5,
   "metadata": {
    "ExecuteTime": {
     "end_time": "2022-03-06T08:05:25.999274Z",
     "start_time": "2022-03-06T08:05:25.207558Z"
    },
    "hide_input": true
   },
   "outputs": [
    {
     "data": {
      "text/plain": [
       "[(SparseVector(4, {0: 1.0, 3: -2.0}),),\n",
       " (DenseVector([4.0, 5.0, 0.0, 3.0]),),\n",
       " (SparseVector(4, {0: 9.0, 3: 1.0}),)]"
      ]
     },
     "metadata": {},
     "output_type": "display_data"
    },
    {
     "data": {
      "text/html": [
       "<div>\n",
       "<style scoped>\n",
       "    .dataframe tbody tr th:only-of-type {\n",
       "        vertical-align: middle;\n",
       "    }\n",
       "\n",
       "    .dataframe tbody tr th {\n",
       "        vertical-align: top;\n",
       "    }\n",
       "\n",
       "    .dataframe thead th {\n",
       "        text-align: right;\n",
       "    }\n",
       "</style>\n",
       "<table border=\"1\" class=\"dataframe\">\n",
       "  <thead>\n",
       "    <tr style=\"text-align: right;\">\n",
       "      <th></th>\n",
       "      <th>features</th>\n",
       "    </tr>\n",
       "  </thead>\n",
       "  <tbody>\n",
       "    <tr>\n",
       "      <th>0</th>\n",
       "      <td>(1.0, 0.0, 0.0, -2.0)</td>\n",
       "    </tr>\n",
       "    <tr>\n",
       "      <th>1</th>\n",
       "      <td>[4.0, 5.0, 0.0, 3.0]</td>\n",
       "    </tr>\n",
       "    <tr>\n",
       "      <th>2</th>\n",
       "      <td>(9.0, 0.0, 0.0, 1.0)</td>\n",
       "    </tr>\n",
       "  </tbody>\n",
       "</table>\n",
       "</div>"
      ],
      "text/plain": [
       "                features\n",
       "0  (1.0, 0.0, 0.0, -2.0)\n",
       "1   [4.0, 5.0, 0.0, 3.0]\n",
       "2   (9.0, 0.0, 0.0, 1.0)"
      ]
     },
     "metadata": {},
     "output_type": "display_data"
    },
    {
     "name": "stdout",
     "output_type": "stream",
     "text": [
      "DenseMatrix([[1.       , 0.       ,       nan, 0.5      ],\n",
      "             [0.       , 1.       ,       nan, 0.8660254],\n",
      "             [      nan,       nan, 1.       ,       nan],\n",
      "             [0.5      , 0.8660254,       nan, 1.       ]])\n"
     ]
    },
    {
     "name": "stderr",
     "output_type": "stream",
     "text": [
      "22/03/06 16:05:25 WARN PearsonCorrelation: Pearson correlation matrix contains NaN values.\n"
     ]
    }
   ],
   "source": [
    "from pyspark.ml.linalg import Vectors\n",
    "from pyspark.ml.stat import Correlation\n",
    "\n",
    "data = [(Vectors.sparse(4, [(0, 1.0), (3, -2.0)]),), # [1, 0, 0, -2]\n",
    "        (Vectors.dense([4.0, 5.0, 0.0, 3.0]),),\n",
    "        (Vectors.sparse(4, [(0, 9.0), (3, 1.0)]),)] # [9, 0, 0, 1]\n",
    "\n",
    "display(data)\n",
    "\n",
    "df = spark.createDataFrame(data, [\"features\"])\n",
    "display(df.toPandas())\n",
    "print(Correlation.corr(df, \"features\", \"spearman\").collect()[0][0])"
   ]
  },
  {
   "cell_type": "markdown",
   "metadata": {},
   "source": [
    "Notice that each row can be a sparse or dense vector, and that all rows need not be of the same kind of vector. Correlation is done on the matrix formed by the dataframe column `features`. Thus, correlation is performed on the matrix:\n",
    "\n",
    "$$\n",
    "\\left(\n",
    "\\begin{array}{cccc}\n",
    "1 & 0 & 0 & -2 \\\\\n",
    "4 & 5 & 0 & 3 \\\\\n",
    "9 & 0 & 0 & 1\n",
    "\\end{array}\n",
    "\\right)\n",
    "$$\n",
    "\n",
    "The vectors are the columns of this matrix, thus, the resulting correlation matrix is $4 \\times 4$."
   ]
  },
  {
   "cell_type": "markdown",
   "metadata": {},
   "source": [
    "**Exercise 1**\n",
    "\n",
    "Create a function `corr` that returns the Spearman correlation of two Spark dataframe columns."
   ]
  },
  {
   "cell_type": "code",
   "execution_count": 3,
   "metadata": {
    "ExecuteTime": {
     "end_time": "2022-02-25T13:14:19.203492Z",
     "start_time": "2022-02-25T13:14:19.197773Z"
    },
    "deletable": false,
    "nbgrader": {
     "cell_type": "code",
     "checksum": "1d775eef5926c81a5015ff9fdfcb7109",
     "grade": false,
     "grade_id": "cell-554c466ee234f9bf",
     "locked": false,
     "schema_version": 3,
     "solution": true,
     "task": false
    }
   },
   "outputs": [],
   "source": [
    "from pyspark.ml.feature import VectorAssembler\n",
    "def corr(df, col1, col2):  \n",
    "    df = VectorAssembler(inputCols=[col1, col2],\n",
    "                        outputCol='features').transform(df)\n",
    "    return Correlation.corr(df, 'features', 'spearman').collect()[0][0][0,1]"
   ]
  },
  {
   "cell_type": "code",
   "execution_count": 11,
   "metadata": {
    "ExecuteTime": {
     "end_time": "2022-03-06T08:24:58.971704Z",
     "start_time": "2022-03-06T08:24:58.413674Z"
    }
   },
   "outputs": [
    {
     "data": {
      "text/html": [
       "<div>\n",
       "<style scoped>\n",
       "    .dataframe tbody tr th:only-of-type {\n",
       "        vertical-align: middle;\n",
       "    }\n",
       "\n",
       "    .dataframe tbody tr th {\n",
       "        vertical-align: top;\n",
       "    }\n",
       "\n",
       "    .dataframe thead th {\n",
       "        text-align: right;\n",
       "    }\n",
       "</style>\n",
       "<table border=\"1\" class=\"dataframe\">\n",
       "  <thead>\n",
       "    <tr style=\"text-align: right;\">\n",
       "      <th></th>\n",
       "      <th>col1</th>\n",
       "      <th>col2</th>\n",
       "      <th>col3</th>\n",
       "      <th>features</th>\n",
       "    </tr>\n",
       "  </thead>\n",
       "  <tbody>\n",
       "    <tr>\n",
       "      <th>0</th>\n",
       "      <td>2</td>\n",
       "      <td>2</td>\n",
       "      <td>6</td>\n",
       "      <td>[2.0, 2.0]</td>\n",
       "    </tr>\n",
       "    <tr>\n",
       "      <th>1</th>\n",
       "      <td>5</td>\n",
       "      <td>4</td>\n",
       "      <td>8</td>\n",
       "      <td>[5.0, 4.0]</td>\n",
       "    </tr>\n",
       "    <tr>\n",
       "      <th>2</th>\n",
       "      <td>8</td>\n",
       "      <td>3</td>\n",
       "      <td>1</td>\n",
       "      <td>[8.0, 3.0]</td>\n",
       "    </tr>\n",
       "    <tr>\n",
       "      <th>3</th>\n",
       "      <td>6</td>\n",
       "      <td>3</td>\n",
       "      <td>8</td>\n",
       "      <td>[6.0, 3.0]</td>\n",
       "    </tr>\n",
       "  </tbody>\n",
       "</table>\n",
       "</div>"
      ],
      "text/plain": [
       "   col1  col2  col3    features\n",
       "0     2     2     6  [2.0, 2.0]\n",
       "1     5     4     8  [5.0, 4.0]\n",
       "2     8     3     1  [8.0, 3.0]\n",
       "3     6     3     8  [6.0, 3.0]"
      ]
     },
     "execution_count": 11,
     "metadata": {},
     "output_type": "execute_result"
    }
   ],
   "source": [
    "from pyspark.ml.feature import VectorAssembler\n",
    "import pandas as pd\n",
    "df_corr = spark.createDataFrame(\n",
    "    pd.DataFrame([[2, 2, 6],\n",
    "                  [5, 4, 8],\n",
    "                  [8, 3, 1],\n",
    "                  [6, 3, 8]],\n",
    "                 columns=['col1', 'col2', 'col3'])\n",
    ")\n",
    "VectorAssembler(inputCols=['col1', 'col2'], outputCol='features').transform(df_corr).toPandas()"
   ]
  },
  {
   "cell_type": "code",
   "execution_count": 12,
   "metadata": {
    "ExecuteTime": {
     "end_time": "2022-03-06T08:50:53.427629Z",
     "start_time": "2022-03-06T08:50:53.420833Z"
    }
   },
   "outputs": [],
   "source": [
    "Correlation.corr?"
   ]
  },
  {
   "cell_type": "code",
   "execution_count": 4,
   "metadata": {
    "ExecuteTime": {
     "end_time": "2022-02-25T13:14:21.490678Z",
     "start_time": "2022-02-25T13:14:19.205372Z"
    },
    "deletable": false,
    "editable": false,
    "hide_input": true,
    "nbgrader": {
     "cell_type": "code",
     "checksum": "c036935f292343d15f6fce4814861448",
     "grade": true,
     "grade_id": "cell-70daf0221a283b3b",
     "locked": true,
     "points": 1,
     "schema_version": 3,
     "solution": false,
     "task": false
    }
   },
   "outputs": [],
   "source": [
    "import pandas as pd\n",
    "from numpy.testing import assert_almost_equal, assert_array_equal\n",
    "df_corr = spark.createDataFrame(\n",
    "    pd.DataFrame([[2, 2, 6],\n",
    "                  [5, 4, 8],\n",
    "                  [8, 3, 1],\n",
    "                  [6, 3, 8]],\n",
    "                 columns=['col1', 'col2', 'col3'])\n",
    ")\n",
    "assert_almost_equal(corr(df_corr, 'col1', 'col2'), \n",
    "                    0.3162277660168371)"
   ]
  },
  {
   "cell_type": "markdown",
   "metadata": {},
   "source": [
    "## Transformers and Estimators"
   ]
  },
  {
   "cell_type": "markdown",
   "metadata": {},
   "source": [
    "Apache Spark also has the notion of transformers and estimators. As in scikit-learn, transformers accept a dataframe and returns a dataframe. On the other hand, unlike in scikit-learn, estimators accept a dataframe and returns a transformer. In general, the `fit` function does not return the same transformer or estimator but a trained model or transformer. You will then use its `transform` method to transform an input dataset or make predictions. There is no `predict` or `fit_predict` methods. \n",
    "\n",
    "Prediction is done using a `transform` call. It will return a dataframe with an additional column holding the predictions. Typical parameters of transformers and estimators are `inputCol` or `inputCols` and `outputCol`. If it's an `inputCol` then it usually expects that `inputCol` to contain a `Vector` corresponding to the different column values for that row."
   ]
  },
  {
   "cell_type": "markdown",
   "metadata": {},
   "source": [
    "## Feature Engineering"
   ]
  },
  {
   "cell_type": "markdown",
   "metadata": {},
   "source": [
    "Let us look at how to do feature engineering on SparkML. As an example, let's convert `PULocationID` into an integer."
   ]
  },
  {
   "cell_type": "code",
   "execution_count": 13,
   "metadata": {
    "ExecuteTime": {
     "end_time": "2022-03-06T09:15:38.202052Z",
     "start_time": "2022-03-06T09:15:37.321287Z"
    },
    "hide_input": false
   },
   "outputs": [],
   "source": [
    "df_taxi = (spark.read.csv('/mnt/data/public/nyctaxi/all/'\n",
    "                          'yellow_tripdata_2017-12.csv',\n",
    "                          header=True)\n",
    "                .limit(10000)\n",
    "                .persist())"
   ]
  },
  {
   "cell_type": "code",
   "execution_count": 14,
   "metadata": {
    "ExecuteTime": {
     "end_time": "2022-03-06T09:15:40.071575Z",
     "start_time": "2022-03-06T09:15:38.407635Z"
    }
   },
   "outputs": [
    {
     "name": "stderr",
     "output_type": "stream",
     "text": [
      "                                                                                \r"
     ]
    },
    {
     "data": {
      "text/html": [
       "<div>\n",
       "<style scoped>\n",
       "    .dataframe tbody tr th:only-of-type {\n",
       "        vertical-align: middle;\n",
       "    }\n",
       "\n",
       "    .dataframe tbody tr th {\n",
       "        vertical-align: top;\n",
       "    }\n",
       "\n",
       "    .dataframe thead th {\n",
       "        text-align: right;\n",
       "    }\n",
       "</style>\n",
       "<table border=\"1\" class=\"dataframe\">\n",
       "  <thead>\n",
       "    <tr style=\"text-align: right;\">\n",
       "      <th></th>\n",
       "      <th>VendorID</th>\n",
       "      <th>tpep_pickup_datetime</th>\n",
       "      <th>tpep_dropoff_datetime</th>\n",
       "      <th>passenger_count</th>\n",
       "      <th>trip_distance</th>\n",
       "      <th>RatecodeID</th>\n",
       "      <th>store_and_fwd_flag</th>\n",
       "      <th>PULocationID</th>\n",
       "      <th>DOLocationID</th>\n",
       "      <th>payment_type</th>\n",
       "      <th>fare_amount</th>\n",
       "      <th>extra</th>\n",
       "      <th>mta_tax</th>\n",
       "      <th>tip_amount</th>\n",
       "      <th>tolls_amount</th>\n",
       "      <th>improvement_surcharge</th>\n",
       "      <th>total_amount</th>\n",
       "    </tr>\n",
       "  </thead>\n",
       "  <tbody>\n",
       "    <tr>\n",
       "      <th>0</th>\n",
       "      <td>1</td>\n",
       "      <td>2017-12-01 00:12:00</td>\n",
       "      <td>2017-12-01 00:12:51</td>\n",
       "      <td>1</td>\n",
       "      <td>.00</td>\n",
       "      <td>1</td>\n",
       "      <td>N</td>\n",
       "      <td>226</td>\n",
       "      <td>226</td>\n",
       "      <td>3</td>\n",
       "      <td>2.5</td>\n",
       "      <td>0.5</td>\n",
       "      <td>0.5</td>\n",
       "      <td>0</td>\n",
       "      <td>0</td>\n",
       "      <td>0.3</td>\n",
       "      <td>3.8</td>\n",
       "    </tr>\n",
       "    <tr>\n",
       "      <th>1</th>\n",
       "      <td>1</td>\n",
       "      <td>2017-12-01 00:13:37</td>\n",
       "      <td>2017-12-01 00:13:47</td>\n",
       "      <td>1</td>\n",
       "      <td>.00</td>\n",
       "      <td>1</td>\n",
       "      <td>N</td>\n",
       "      <td>226</td>\n",
       "      <td>226</td>\n",
       "      <td>3</td>\n",
       "      <td>2.5</td>\n",
       "      <td>0.5</td>\n",
       "      <td>0.5</td>\n",
       "      <td>0</td>\n",
       "      <td>0</td>\n",
       "      <td>0.3</td>\n",
       "      <td>3.8</td>\n",
       "    </tr>\n",
       "    <tr>\n",
       "      <th>2</th>\n",
       "      <td>1</td>\n",
       "      <td>2017-12-01 00:14:15</td>\n",
       "      <td>2017-12-01 00:15:05</td>\n",
       "      <td>1</td>\n",
       "      <td>.00</td>\n",
       "      <td>1</td>\n",
       "      <td>N</td>\n",
       "      <td>226</td>\n",
       "      <td>226</td>\n",
       "      <td>3</td>\n",
       "      <td>2.5</td>\n",
       "      <td>0.5</td>\n",
       "      <td>0.5</td>\n",
       "      <td>0</td>\n",
       "      <td>0</td>\n",
       "      <td>0.3</td>\n",
       "      <td>3.8</td>\n",
       "    </tr>\n",
       "    <tr>\n",
       "      <th>3</th>\n",
       "      <td>1</td>\n",
       "      <td>2017-12-01 00:15:33</td>\n",
       "      <td>2017-12-01 00:15:37</td>\n",
       "      <td>1</td>\n",
       "      <td>.00</td>\n",
       "      <td>1</td>\n",
       "      <td>N</td>\n",
       "      <td>226</td>\n",
       "      <td>226</td>\n",
       "      <td>3</td>\n",
       "      <td>2.5</td>\n",
       "      <td>0.5</td>\n",
       "      <td>0.5</td>\n",
       "      <td>0</td>\n",
       "      <td>0</td>\n",
       "      <td>0.3</td>\n",
       "      <td>3.8</td>\n",
       "    </tr>\n",
       "    <tr>\n",
       "      <th>4</th>\n",
       "      <td>1</td>\n",
       "      <td>2017-12-01 00:50:03</td>\n",
       "      <td>2017-12-01 00:53:35</td>\n",
       "      <td>1</td>\n",
       "      <td>.00</td>\n",
       "      <td>1</td>\n",
       "      <td>N</td>\n",
       "      <td>145</td>\n",
       "      <td>145</td>\n",
       "      <td>2</td>\n",
       "      <td>4</td>\n",
       "      <td>0.5</td>\n",
       "      <td>0.5</td>\n",
       "      <td>0</td>\n",
       "      <td>0</td>\n",
       "      <td>0.3</td>\n",
       "      <td>5.3</td>\n",
       "    </tr>\n",
       "    <tr>\n",
       "      <th>5</th>\n",
       "      <td>1</td>\n",
       "      <td>2017-12-01 00:14:20</td>\n",
       "      <td>2017-12-01 00:28:35</td>\n",
       "      <td>1</td>\n",
       "      <td>4.20</td>\n",
       "      <td>1</td>\n",
       "      <td>N</td>\n",
       "      <td>82</td>\n",
       "      <td>258</td>\n",
       "      <td>2</td>\n",
       "      <td>15</td>\n",
       "      <td>0.5</td>\n",
       "      <td>0.5</td>\n",
       "      <td>0</td>\n",
       "      <td>0</td>\n",
       "      <td>0.3</td>\n",
       "      <td>16.3</td>\n",
       "    </tr>\n",
       "    <tr>\n",
       "      <th>6</th>\n",
       "      <td>1</td>\n",
       "      <td>2017-12-01 00:20:32</td>\n",
       "      <td>2017-12-01 00:31:24</td>\n",
       "      <td>1</td>\n",
       "      <td>5.40</td>\n",
       "      <td>1</td>\n",
       "      <td>N</td>\n",
       "      <td>50</td>\n",
       "      <td>116</td>\n",
       "      <td>2</td>\n",
       "      <td>17</td>\n",
       "      <td>0.5</td>\n",
       "      <td>0.5</td>\n",
       "      <td>0</td>\n",
       "      <td>0</td>\n",
       "      <td>0.3</td>\n",
       "      <td>18.3</td>\n",
       "    </tr>\n",
       "    <tr>\n",
       "      <th>7</th>\n",
       "      <td>1</td>\n",
       "      <td>2017-12-01 00:01:46</td>\n",
       "      <td>2017-12-01 00:12:19</td>\n",
       "      <td>1</td>\n",
       "      <td>1.90</td>\n",
       "      <td>1</td>\n",
       "      <td>N</td>\n",
       "      <td>161</td>\n",
       "      <td>107</td>\n",
       "      <td>1</td>\n",
       "      <td>9</td>\n",
       "      <td>0.5</td>\n",
       "      <td>0.5</td>\n",
       "      <td>2.05</td>\n",
       "      <td>0</td>\n",
       "      <td>0.3</td>\n",
       "      <td>12.35</td>\n",
       "    </tr>\n",
       "    <tr>\n",
       "      <th>8</th>\n",
       "      <td>1</td>\n",
       "      <td>2017-12-01 00:17:52</td>\n",
       "      <td>2017-12-01 00:32:35</td>\n",
       "      <td>1</td>\n",
       "      <td>3.30</td>\n",
       "      <td>1</td>\n",
       "      <td>N</td>\n",
       "      <td>107</td>\n",
       "      <td>263</td>\n",
       "      <td>1</td>\n",
       "      <td>12.5</td>\n",
       "      <td>0.5</td>\n",
       "      <td>0.5</td>\n",
       "      <td>2.07</td>\n",
       "      <td>0</td>\n",
       "      <td>0.3</td>\n",
       "      <td>15.87</td>\n",
       "    </tr>\n",
       "    <tr>\n",
       "      <th>9</th>\n",
       "      <td>1</td>\n",
       "      <td>2017-12-01 00:10:00</td>\n",
       "      <td>2017-12-01 00:24:35</td>\n",
       "      <td>1</td>\n",
       "      <td>2.80</td>\n",
       "      <td>1</td>\n",
       "      <td>N</td>\n",
       "      <td>264</td>\n",
       "      <td>87</td>\n",
       "      <td>1</td>\n",
       "      <td>12</td>\n",
       "      <td>0.5</td>\n",
       "      <td>0.5</td>\n",
       "      <td>2.65</td>\n",
       "      <td>0</td>\n",
       "      <td>0.3</td>\n",
       "      <td>15.95</td>\n",
       "    </tr>\n",
       "  </tbody>\n",
       "</table>\n",
       "</div>"
      ],
      "text/plain": [
       "  VendorID tpep_pickup_datetime tpep_dropoff_datetime passenger_count  \\\n",
       "0        1  2017-12-01 00:12:00   2017-12-01 00:12:51               1   \n",
       "1        1  2017-12-01 00:13:37   2017-12-01 00:13:47               1   \n",
       "2        1  2017-12-01 00:14:15   2017-12-01 00:15:05               1   \n",
       "3        1  2017-12-01 00:15:33   2017-12-01 00:15:37               1   \n",
       "4        1  2017-12-01 00:50:03   2017-12-01 00:53:35               1   \n",
       "5        1  2017-12-01 00:14:20   2017-12-01 00:28:35               1   \n",
       "6        1  2017-12-01 00:20:32   2017-12-01 00:31:24               1   \n",
       "7        1  2017-12-01 00:01:46   2017-12-01 00:12:19               1   \n",
       "8        1  2017-12-01 00:17:52   2017-12-01 00:32:35               1   \n",
       "9        1  2017-12-01 00:10:00   2017-12-01 00:24:35               1   \n",
       "\n",
       "  trip_distance RatecodeID store_and_fwd_flag PULocationID DOLocationID  \\\n",
       "0           .00          1                  N          226          226   \n",
       "1           .00          1                  N          226          226   \n",
       "2           .00          1                  N          226          226   \n",
       "3           .00          1                  N          226          226   \n",
       "4           .00          1                  N          145          145   \n",
       "5          4.20          1                  N           82          258   \n",
       "6          5.40          1                  N           50          116   \n",
       "7          1.90          1                  N          161          107   \n",
       "8          3.30          1                  N          107          263   \n",
       "9          2.80          1                  N          264           87   \n",
       "\n",
       "  payment_type fare_amount extra mta_tax tip_amount tolls_amount  \\\n",
       "0            3         2.5   0.5     0.5          0            0   \n",
       "1            3         2.5   0.5     0.5          0            0   \n",
       "2            3         2.5   0.5     0.5          0            0   \n",
       "3            3         2.5   0.5     0.5          0            0   \n",
       "4            2           4   0.5     0.5          0            0   \n",
       "5            2          15   0.5     0.5          0            0   \n",
       "6            2          17   0.5     0.5          0            0   \n",
       "7            1           9   0.5     0.5       2.05            0   \n",
       "8            1        12.5   0.5     0.5       2.07            0   \n",
       "9            1          12   0.5     0.5       2.65            0   \n",
       "\n",
       "  improvement_surcharge total_amount  \n",
       "0                   0.3          3.8  \n",
       "1                   0.3          3.8  \n",
       "2                   0.3          3.8  \n",
       "3                   0.3          3.8  \n",
       "4                   0.3          5.3  \n",
       "5                   0.3         16.3  \n",
       "6                   0.3         18.3  \n",
       "7                   0.3        12.35  \n",
       "8                   0.3        15.87  \n",
       "9                   0.3        15.95  "
      ]
     },
     "execution_count": 14,
     "metadata": {},
     "output_type": "execute_result"
    }
   ],
   "source": [
    "df_taxi.limit(10).toPandas()"
   ]
  },
  {
   "cell_type": "markdown",
   "metadata": {},
   "source": [
    "One way of doing so is by casting the string column into a double which is okay in this case since `PULocationID` is numeric."
   ]
  },
  {
   "cell_type": "code",
   "execution_count": 15,
   "metadata": {
    "ExecuteTime": {
     "end_time": "2022-03-06T09:15:40.404967Z",
     "start_time": "2022-03-06T09:15:40.073796Z"
    }
   },
   "outputs": [
    {
     "data": {
      "text/html": [
       "<div>\n",
       "<style scoped>\n",
       "    .dataframe tbody tr th:only-of-type {\n",
       "        vertical-align: middle;\n",
       "    }\n",
       "\n",
       "    .dataframe tbody tr th {\n",
       "        vertical-align: top;\n",
       "    }\n",
       "\n",
       "    .dataframe thead th {\n",
       "        text-align: right;\n",
       "    }\n",
       "</style>\n",
       "<table border=\"1\" class=\"dataframe\">\n",
       "  <thead>\n",
       "    <tr style=\"text-align: right;\">\n",
       "      <th></th>\n",
       "      <th>VendorID</th>\n",
       "      <th>tpep_pickup_datetime</th>\n",
       "      <th>tpep_dropoff_datetime</th>\n",
       "      <th>passenger_count</th>\n",
       "      <th>trip_distance</th>\n",
       "      <th>RatecodeID</th>\n",
       "      <th>store_and_fwd_flag</th>\n",
       "      <th>PULocationID</th>\n",
       "      <th>DOLocationID</th>\n",
       "      <th>payment_type</th>\n",
       "      <th>fare_amount</th>\n",
       "      <th>extra</th>\n",
       "      <th>mta_tax</th>\n",
       "      <th>tip_amount</th>\n",
       "      <th>tolls_amount</th>\n",
       "      <th>improvement_surcharge</th>\n",
       "      <th>total_amount</th>\n",
       "      <th>PULocationID_index</th>\n",
       "    </tr>\n",
       "  </thead>\n",
       "  <tbody>\n",
       "    <tr>\n",
       "      <th>0</th>\n",
       "      <td>1</td>\n",
       "      <td>2017-12-01 00:12:00</td>\n",
       "      <td>2017-12-01 00:12:51</td>\n",
       "      <td>1</td>\n",
       "      <td>.00</td>\n",
       "      <td>1</td>\n",
       "      <td>N</td>\n",
       "      <td>226</td>\n",
       "      <td>226</td>\n",
       "      <td>3</td>\n",
       "      <td>2.5</td>\n",
       "      <td>0.5</td>\n",
       "      <td>0.5</td>\n",
       "      <td>0</td>\n",
       "      <td>0</td>\n",
       "      <td>0.3</td>\n",
       "      <td>3.8</td>\n",
       "      <td>226.0</td>\n",
       "    </tr>\n",
       "    <tr>\n",
       "      <th>1</th>\n",
       "      <td>1</td>\n",
       "      <td>2017-12-01 00:13:37</td>\n",
       "      <td>2017-12-01 00:13:47</td>\n",
       "      <td>1</td>\n",
       "      <td>.00</td>\n",
       "      <td>1</td>\n",
       "      <td>N</td>\n",
       "      <td>226</td>\n",
       "      <td>226</td>\n",
       "      <td>3</td>\n",
       "      <td>2.5</td>\n",
       "      <td>0.5</td>\n",
       "      <td>0.5</td>\n",
       "      <td>0</td>\n",
       "      <td>0</td>\n",
       "      <td>0.3</td>\n",
       "      <td>3.8</td>\n",
       "      <td>226.0</td>\n",
       "    </tr>\n",
       "    <tr>\n",
       "      <th>2</th>\n",
       "      <td>1</td>\n",
       "      <td>2017-12-01 00:14:15</td>\n",
       "      <td>2017-12-01 00:15:05</td>\n",
       "      <td>1</td>\n",
       "      <td>.00</td>\n",
       "      <td>1</td>\n",
       "      <td>N</td>\n",
       "      <td>226</td>\n",
       "      <td>226</td>\n",
       "      <td>3</td>\n",
       "      <td>2.5</td>\n",
       "      <td>0.5</td>\n",
       "      <td>0.5</td>\n",
       "      <td>0</td>\n",
       "      <td>0</td>\n",
       "      <td>0.3</td>\n",
       "      <td>3.8</td>\n",
       "      <td>226.0</td>\n",
       "    </tr>\n",
       "    <tr>\n",
       "      <th>3</th>\n",
       "      <td>1</td>\n",
       "      <td>2017-12-01 00:15:33</td>\n",
       "      <td>2017-12-01 00:15:37</td>\n",
       "      <td>1</td>\n",
       "      <td>.00</td>\n",
       "      <td>1</td>\n",
       "      <td>N</td>\n",
       "      <td>226</td>\n",
       "      <td>226</td>\n",
       "      <td>3</td>\n",
       "      <td>2.5</td>\n",
       "      <td>0.5</td>\n",
       "      <td>0.5</td>\n",
       "      <td>0</td>\n",
       "      <td>0</td>\n",
       "      <td>0.3</td>\n",
       "      <td>3.8</td>\n",
       "      <td>226.0</td>\n",
       "    </tr>\n",
       "    <tr>\n",
       "      <th>4</th>\n",
       "      <td>1</td>\n",
       "      <td>2017-12-01 00:50:03</td>\n",
       "      <td>2017-12-01 00:53:35</td>\n",
       "      <td>1</td>\n",
       "      <td>.00</td>\n",
       "      <td>1</td>\n",
       "      <td>N</td>\n",
       "      <td>145</td>\n",
       "      <td>145</td>\n",
       "      <td>2</td>\n",
       "      <td>4</td>\n",
       "      <td>0.5</td>\n",
       "      <td>0.5</td>\n",
       "      <td>0</td>\n",
       "      <td>0</td>\n",
       "      <td>0.3</td>\n",
       "      <td>5.3</td>\n",
       "      <td>145.0</td>\n",
       "    </tr>\n",
       "    <tr>\n",
       "      <th>5</th>\n",
       "      <td>1</td>\n",
       "      <td>2017-12-01 00:14:20</td>\n",
       "      <td>2017-12-01 00:28:35</td>\n",
       "      <td>1</td>\n",
       "      <td>4.20</td>\n",
       "      <td>1</td>\n",
       "      <td>N</td>\n",
       "      <td>82</td>\n",
       "      <td>258</td>\n",
       "      <td>2</td>\n",
       "      <td>15</td>\n",
       "      <td>0.5</td>\n",
       "      <td>0.5</td>\n",
       "      <td>0</td>\n",
       "      <td>0</td>\n",
       "      <td>0.3</td>\n",
       "      <td>16.3</td>\n",
       "      <td>82.0</td>\n",
       "    </tr>\n",
       "    <tr>\n",
       "      <th>6</th>\n",
       "      <td>1</td>\n",
       "      <td>2017-12-01 00:20:32</td>\n",
       "      <td>2017-12-01 00:31:24</td>\n",
       "      <td>1</td>\n",
       "      <td>5.40</td>\n",
       "      <td>1</td>\n",
       "      <td>N</td>\n",
       "      <td>50</td>\n",
       "      <td>116</td>\n",
       "      <td>2</td>\n",
       "      <td>17</td>\n",
       "      <td>0.5</td>\n",
       "      <td>0.5</td>\n",
       "      <td>0</td>\n",
       "      <td>0</td>\n",
       "      <td>0.3</td>\n",
       "      <td>18.3</td>\n",
       "      <td>50.0</td>\n",
       "    </tr>\n",
       "    <tr>\n",
       "      <th>7</th>\n",
       "      <td>1</td>\n",
       "      <td>2017-12-01 00:01:46</td>\n",
       "      <td>2017-12-01 00:12:19</td>\n",
       "      <td>1</td>\n",
       "      <td>1.90</td>\n",
       "      <td>1</td>\n",
       "      <td>N</td>\n",
       "      <td>161</td>\n",
       "      <td>107</td>\n",
       "      <td>1</td>\n",
       "      <td>9</td>\n",
       "      <td>0.5</td>\n",
       "      <td>0.5</td>\n",
       "      <td>2.05</td>\n",
       "      <td>0</td>\n",
       "      <td>0.3</td>\n",
       "      <td>12.35</td>\n",
       "      <td>161.0</td>\n",
       "    </tr>\n",
       "    <tr>\n",
       "      <th>8</th>\n",
       "      <td>1</td>\n",
       "      <td>2017-12-01 00:17:52</td>\n",
       "      <td>2017-12-01 00:32:35</td>\n",
       "      <td>1</td>\n",
       "      <td>3.30</td>\n",
       "      <td>1</td>\n",
       "      <td>N</td>\n",
       "      <td>107</td>\n",
       "      <td>263</td>\n",
       "      <td>1</td>\n",
       "      <td>12.5</td>\n",
       "      <td>0.5</td>\n",
       "      <td>0.5</td>\n",
       "      <td>2.07</td>\n",
       "      <td>0</td>\n",
       "      <td>0.3</td>\n",
       "      <td>15.87</td>\n",
       "      <td>107.0</td>\n",
       "    </tr>\n",
       "    <tr>\n",
       "      <th>9</th>\n",
       "      <td>1</td>\n",
       "      <td>2017-12-01 00:10:00</td>\n",
       "      <td>2017-12-01 00:24:35</td>\n",
       "      <td>1</td>\n",
       "      <td>2.80</td>\n",
       "      <td>1</td>\n",
       "      <td>N</td>\n",
       "      <td>264</td>\n",
       "      <td>87</td>\n",
       "      <td>1</td>\n",
       "      <td>12</td>\n",
       "      <td>0.5</td>\n",
       "      <td>0.5</td>\n",
       "      <td>2.65</td>\n",
       "      <td>0</td>\n",
       "      <td>0.3</td>\n",
       "      <td>15.95</td>\n",
       "      <td>264.0</td>\n",
       "    </tr>\n",
       "  </tbody>\n",
       "</table>\n",
       "</div>"
      ],
      "text/plain": [
       "  VendorID tpep_pickup_datetime tpep_dropoff_datetime passenger_count  \\\n",
       "0        1  2017-12-01 00:12:00   2017-12-01 00:12:51               1   \n",
       "1        1  2017-12-01 00:13:37   2017-12-01 00:13:47               1   \n",
       "2        1  2017-12-01 00:14:15   2017-12-01 00:15:05               1   \n",
       "3        1  2017-12-01 00:15:33   2017-12-01 00:15:37               1   \n",
       "4        1  2017-12-01 00:50:03   2017-12-01 00:53:35               1   \n",
       "5        1  2017-12-01 00:14:20   2017-12-01 00:28:35               1   \n",
       "6        1  2017-12-01 00:20:32   2017-12-01 00:31:24               1   \n",
       "7        1  2017-12-01 00:01:46   2017-12-01 00:12:19               1   \n",
       "8        1  2017-12-01 00:17:52   2017-12-01 00:32:35               1   \n",
       "9        1  2017-12-01 00:10:00   2017-12-01 00:24:35               1   \n",
       "\n",
       "  trip_distance RatecodeID store_and_fwd_flag PULocationID DOLocationID  \\\n",
       "0           .00          1                  N          226          226   \n",
       "1           .00          1                  N          226          226   \n",
       "2           .00          1                  N          226          226   \n",
       "3           .00          1                  N          226          226   \n",
       "4           .00          1                  N          145          145   \n",
       "5          4.20          1                  N           82          258   \n",
       "6          5.40          1                  N           50          116   \n",
       "7          1.90          1                  N          161          107   \n",
       "8          3.30          1                  N          107          263   \n",
       "9          2.80          1                  N          264           87   \n",
       "\n",
       "  payment_type fare_amount extra mta_tax tip_amount tolls_amount  \\\n",
       "0            3         2.5   0.5     0.5          0            0   \n",
       "1            3         2.5   0.5     0.5          0            0   \n",
       "2            3         2.5   0.5     0.5          0            0   \n",
       "3            3         2.5   0.5     0.5          0            0   \n",
       "4            2           4   0.5     0.5          0            0   \n",
       "5            2          15   0.5     0.5          0            0   \n",
       "6            2          17   0.5     0.5          0            0   \n",
       "7            1           9   0.5     0.5       2.05            0   \n",
       "8            1        12.5   0.5     0.5       2.07            0   \n",
       "9            1          12   0.5     0.5       2.65            0   \n",
       "\n",
       "  improvement_surcharge total_amount  PULocationID_index  \n",
       "0                   0.3          3.8               226.0  \n",
       "1                   0.3          3.8               226.0  \n",
       "2                   0.3          3.8               226.0  \n",
       "3                   0.3          3.8               226.0  \n",
       "4                   0.3          5.3               145.0  \n",
       "5                   0.3         16.3                82.0  \n",
       "6                   0.3         18.3                50.0  \n",
       "7                   0.3        12.35               161.0  \n",
       "8                   0.3        15.87               107.0  \n",
       "9                   0.3        15.95               264.0  "
      ]
     },
     "execution_count": 15,
     "metadata": {},
     "output_type": "execute_result"
    }
   ],
   "source": [
    "(df_taxi\n",
    " .withColumn('PULocationID_index', df_taxi.PULocationID.astype('double'))\n",
    " .limit(10)\n",
    " .toPandas())"
   ]
  },
  {
   "cell_type": "markdown",
   "metadata": {},
   "source": [
    "But to convert a string column, which could be a label, into an integer, we could use `StringIndexer` instead."
   ]
  },
  {
   "cell_type": "code",
   "execution_count": 16,
   "metadata": {
    "ExecuteTime": {
     "end_time": "2022-03-06T09:15:43.712154Z",
     "start_time": "2022-03-06T09:15:43.007327Z"
    }
   },
   "outputs": [],
   "source": [
    "from pyspark.ml.feature import StringIndexer\n",
    "si_pu = StringIndexer(inputCol='PULocationID', outputCol='PULocationID_index')\n",
    "si_pu_trained = si_pu.fit(df_taxi)"
   ]
  },
  {
   "cell_type": "markdown",
   "metadata": {},
   "source": [
    "Notice that there's no such thing as `si_pu.fit_transform` or `si_pu.fit_predict`. The `fit` method returns a model which is a different class from `si_pu`."
   ]
  },
  {
   "cell_type": "code",
   "execution_count": 17,
   "metadata": {
    "ExecuteTime": {
     "end_time": "2022-03-06T09:15:44.424730Z",
     "start_time": "2022-03-06T09:15:44.206520Z"
    }
   },
   "outputs": [
    {
     "data": {
      "text/plain": [
       "pyspark.ml.feature.StringIndexer"
      ]
     },
     "execution_count": 17,
     "metadata": {},
     "output_type": "execute_result"
    }
   ],
   "source": [
    "type(si_pu)"
   ]
  },
  {
   "cell_type": "code",
   "execution_count": 18,
   "metadata": {
    "ExecuteTime": {
     "end_time": "2022-03-06T09:15:50.219924Z",
     "start_time": "2022-03-06T09:15:50.215096Z"
    }
   },
   "outputs": [
    {
     "data": {
      "text/plain": [
       "pyspark.ml.feature.StringIndexerModel"
      ]
     },
     "execution_count": 18,
     "metadata": {},
     "output_type": "execute_result"
    }
   ],
   "source": [
    "type(si_pu_trained)"
   ]
  },
  {
   "cell_type": "code",
   "execution_count": 23,
   "metadata": {
    "ExecuteTime": {
     "end_time": "2022-03-06T13:39:12.162653Z",
     "start_time": "2022-03-06T13:39:12.150533Z"
    }
   },
   "outputs": [
    {
     "data": {
      "text/plain": [
       "'226'"
      ]
     },
     "execution_count": 23,
     "metadata": {},
     "output_type": "execute_result"
    }
   ],
   "source": [
    "si_pu_trained.labelsArray[0][58] # if you want to reverse the transformation, just index from here"
   ]
  },
  {
   "cell_type": "markdown",
   "metadata": {},
   "source": [
    "We use the model to transform the `inputCol` in the input dataset into a new column `outputCol` in the same dataset."
   ]
  },
  {
   "cell_type": "code",
   "execution_count": 19,
   "metadata": {
    "ExecuteTime": {
     "end_time": "2022-03-06T09:16:03.917703Z",
     "start_time": "2022-03-06T09:16:03.871563Z"
    }
   },
   "outputs": [],
   "source": [
    "df_taxi = si_pu_trained.transform(df_taxi)"
   ]
  },
  {
   "cell_type": "code",
   "execution_count": 20,
   "metadata": {
    "ExecuteTime": {
     "end_time": "2022-03-06T09:16:04.781014Z",
     "start_time": "2022-03-06T09:16:04.590889Z"
    }
   },
   "outputs": [
    {
     "data": {
      "text/html": [
       "<div>\n",
       "<style scoped>\n",
       "    .dataframe tbody tr th:only-of-type {\n",
       "        vertical-align: middle;\n",
       "    }\n",
       "\n",
       "    .dataframe tbody tr th {\n",
       "        vertical-align: top;\n",
       "    }\n",
       "\n",
       "    .dataframe thead th {\n",
       "        text-align: right;\n",
       "    }\n",
       "</style>\n",
       "<table border=\"1\" class=\"dataframe\">\n",
       "  <thead>\n",
       "    <tr style=\"text-align: right;\">\n",
       "      <th></th>\n",
       "      <th>VendorID</th>\n",
       "      <th>tpep_pickup_datetime</th>\n",
       "      <th>tpep_dropoff_datetime</th>\n",
       "      <th>passenger_count</th>\n",
       "      <th>trip_distance</th>\n",
       "      <th>RatecodeID</th>\n",
       "      <th>store_and_fwd_flag</th>\n",
       "      <th>PULocationID</th>\n",
       "      <th>DOLocationID</th>\n",
       "      <th>payment_type</th>\n",
       "      <th>fare_amount</th>\n",
       "      <th>extra</th>\n",
       "      <th>mta_tax</th>\n",
       "      <th>tip_amount</th>\n",
       "      <th>tolls_amount</th>\n",
       "      <th>improvement_surcharge</th>\n",
       "      <th>total_amount</th>\n",
       "      <th>PULocationID_index</th>\n",
       "    </tr>\n",
       "  </thead>\n",
       "  <tbody>\n",
       "    <tr>\n",
       "      <th>0</th>\n",
       "      <td>1</td>\n",
       "      <td>2017-12-01 00:12:00</td>\n",
       "      <td>2017-12-01 00:12:51</td>\n",
       "      <td>1</td>\n",
       "      <td>.00</td>\n",
       "      <td>1</td>\n",
       "      <td>N</td>\n",
       "      <td>226</td>\n",
       "      <td>226</td>\n",
       "      <td>3</td>\n",
       "      <td>2.5</td>\n",
       "      <td>0.5</td>\n",
       "      <td>0.5</td>\n",
       "      <td>0</td>\n",
       "      <td>0</td>\n",
       "      <td>0.3</td>\n",
       "      <td>3.8</td>\n",
       "      <td>58.0</td>\n",
       "    </tr>\n",
       "    <tr>\n",
       "      <th>1</th>\n",
       "      <td>1</td>\n",
       "      <td>2017-12-01 00:13:37</td>\n",
       "      <td>2017-12-01 00:13:47</td>\n",
       "      <td>1</td>\n",
       "      <td>.00</td>\n",
       "      <td>1</td>\n",
       "      <td>N</td>\n",
       "      <td>226</td>\n",
       "      <td>226</td>\n",
       "      <td>3</td>\n",
       "      <td>2.5</td>\n",
       "      <td>0.5</td>\n",
       "      <td>0.5</td>\n",
       "      <td>0</td>\n",
       "      <td>0</td>\n",
       "      <td>0.3</td>\n",
       "      <td>3.8</td>\n",
       "      <td>58.0</td>\n",
       "    </tr>\n",
       "    <tr>\n",
       "      <th>2</th>\n",
       "      <td>1</td>\n",
       "      <td>2017-12-01 00:14:15</td>\n",
       "      <td>2017-12-01 00:15:05</td>\n",
       "      <td>1</td>\n",
       "      <td>.00</td>\n",
       "      <td>1</td>\n",
       "      <td>N</td>\n",
       "      <td>226</td>\n",
       "      <td>226</td>\n",
       "      <td>3</td>\n",
       "      <td>2.5</td>\n",
       "      <td>0.5</td>\n",
       "      <td>0.5</td>\n",
       "      <td>0</td>\n",
       "      <td>0</td>\n",
       "      <td>0.3</td>\n",
       "      <td>3.8</td>\n",
       "      <td>58.0</td>\n",
       "    </tr>\n",
       "    <tr>\n",
       "      <th>3</th>\n",
       "      <td>1</td>\n",
       "      <td>2017-12-01 00:15:33</td>\n",
       "      <td>2017-12-01 00:15:37</td>\n",
       "      <td>1</td>\n",
       "      <td>.00</td>\n",
       "      <td>1</td>\n",
       "      <td>N</td>\n",
       "      <td>226</td>\n",
       "      <td>226</td>\n",
       "      <td>3</td>\n",
       "      <td>2.5</td>\n",
       "      <td>0.5</td>\n",
       "      <td>0.5</td>\n",
       "      <td>0</td>\n",
       "      <td>0</td>\n",
       "      <td>0.3</td>\n",
       "      <td>3.8</td>\n",
       "      <td>58.0</td>\n",
       "    </tr>\n",
       "    <tr>\n",
       "      <th>4</th>\n",
       "      <td>1</td>\n",
       "      <td>2017-12-01 00:50:03</td>\n",
       "      <td>2017-12-01 00:53:35</td>\n",
       "      <td>1</td>\n",
       "      <td>.00</td>\n",
       "      <td>1</td>\n",
       "      <td>N</td>\n",
       "      <td>145</td>\n",
       "      <td>145</td>\n",
       "      <td>2</td>\n",
       "      <td>4</td>\n",
       "      <td>0.5</td>\n",
       "      <td>0.5</td>\n",
       "      <td>0</td>\n",
       "      <td>0</td>\n",
       "      <td>0.3</td>\n",
       "      <td>5.3</td>\n",
       "      <td>57.0</td>\n",
       "    </tr>\n",
       "    <tr>\n",
       "      <th>5</th>\n",
       "      <td>1</td>\n",
       "      <td>2017-12-01 00:14:20</td>\n",
       "      <td>2017-12-01 00:28:35</td>\n",
       "      <td>1</td>\n",
       "      <td>4.20</td>\n",
       "      <td>1</td>\n",
       "      <td>N</td>\n",
       "      <td>82</td>\n",
       "      <td>258</td>\n",
       "      <td>2</td>\n",
       "      <td>15</td>\n",
       "      <td>0.5</td>\n",
       "      <td>0.5</td>\n",
       "      <td>0</td>\n",
       "      <td>0</td>\n",
       "      <td>0.3</td>\n",
       "      <td>16.3</td>\n",
       "      <td>86.0</td>\n",
       "    </tr>\n",
       "    <tr>\n",
       "      <th>6</th>\n",
       "      <td>1</td>\n",
       "      <td>2017-12-01 00:20:32</td>\n",
       "      <td>2017-12-01 00:31:24</td>\n",
       "      <td>1</td>\n",
       "      <td>5.40</td>\n",
       "      <td>1</td>\n",
       "      <td>N</td>\n",
       "      <td>50</td>\n",
       "      <td>116</td>\n",
       "      <td>2</td>\n",
       "      <td>17</td>\n",
       "      <td>0.5</td>\n",
       "      <td>0.5</td>\n",
       "      <td>0</td>\n",
       "      <td>0</td>\n",
       "      <td>0.3</td>\n",
       "      <td>18.3</td>\n",
       "      <td>27.0</td>\n",
       "    </tr>\n",
       "    <tr>\n",
       "      <th>7</th>\n",
       "      <td>1</td>\n",
       "      <td>2017-12-01 00:01:46</td>\n",
       "      <td>2017-12-01 00:12:19</td>\n",
       "      <td>1</td>\n",
       "      <td>1.90</td>\n",
       "      <td>1</td>\n",
       "      <td>N</td>\n",
       "      <td>161</td>\n",
       "      <td>107</td>\n",
       "      <td>1</td>\n",
       "      <td>9</td>\n",
       "      <td>0.5</td>\n",
       "      <td>0.5</td>\n",
       "      <td>2.05</td>\n",
       "      <td>0</td>\n",
       "      <td>0.3</td>\n",
       "      <td>12.35</td>\n",
       "      <td>4.0</td>\n",
       "    </tr>\n",
       "    <tr>\n",
       "      <th>8</th>\n",
       "      <td>1</td>\n",
       "      <td>2017-12-01 00:17:52</td>\n",
       "      <td>2017-12-01 00:32:35</td>\n",
       "      <td>1</td>\n",
       "      <td>3.30</td>\n",
       "      <td>1</td>\n",
       "      <td>N</td>\n",
       "      <td>107</td>\n",
       "      <td>263</td>\n",
       "      <td>1</td>\n",
       "      <td>12.5</td>\n",
       "      <td>0.5</td>\n",
       "      <td>0.5</td>\n",
       "      <td>2.07</td>\n",
       "      <td>0</td>\n",
       "      <td>0.3</td>\n",
       "      <td>15.87</td>\n",
       "      <td>10.0</td>\n",
       "    </tr>\n",
       "    <tr>\n",
       "      <th>9</th>\n",
       "      <td>1</td>\n",
       "      <td>2017-12-01 00:10:00</td>\n",
       "      <td>2017-12-01 00:24:35</td>\n",
       "      <td>1</td>\n",
       "      <td>2.80</td>\n",
       "      <td>1</td>\n",
       "      <td>N</td>\n",
       "      <td>264</td>\n",
       "      <td>87</td>\n",
       "      <td>1</td>\n",
       "      <td>12</td>\n",
       "      <td>0.5</td>\n",
       "      <td>0.5</td>\n",
       "      <td>2.65</td>\n",
       "      <td>0</td>\n",
       "      <td>0.3</td>\n",
       "      <td>15.95</td>\n",
       "      <td>26.0</td>\n",
       "    </tr>\n",
       "  </tbody>\n",
       "</table>\n",
       "</div>"
      ],
      "text/plain": [
       "  VendorID tpep_pickup_datetime tpep_dropoff_datetime passenger_count  \\\n",
       "0        1  2017-12-01 00:12:00   2017-12-01 00:12:51               1   \n",
       "1        1  2017-12-01 00:13:37   2017-12-01 00:13:47               1   \n",
       "2        1  2017-12-01 00:14:15   2017-12-01 00:15:05               1   \n",
       "3        1  2017-12-01 00:15:33   2017-12-01 00:15:37               1   \n",
       "4        1  2017-12-01 00:50:03   2017-12-01 00:53:35               1   \n",
       "5        1  2017-12-01 00:14:20   2017-12-01 00:28:35               1   \n",
       "6        1  2017-12-01 00:20:32   2017-12-01 00:31:24               1   \n",
       "7        1  2017-12-01 00:01:46   2017-12-01 00:12:19               1   \n",
       "8        1  2017-12-01 00:17:52   2017-12-01 00:32:35               1   \n",
       "9        1  2017-12-01 00:10:00   2017-12-01 00:24:35               1   \n",
       "\n",
       "  trip_distance RatecodeID store_and_fwd_flag PULocationID DOLocationID  \\\n",
       "0           .00          1                  N          226          226   \n",
       "1           .00          1                  N          226          226   \n",
       "2           .00          1                  N          226          226   \n",
       "3           .00          1                  N          226          226   \n",
       "4           .00          1                  N          145          145   \n",
       "5          4.20          1                  N           82          258   \n",
       "6          5.40          1                  N           50          116   \n",
       "7          1.90          1                  N          161          107   \n",
       "8          3.30          1                  N          107          263   \n",
       "9          2.80          1                  N          264           87   \n",
       "\n",
       "  payment_type fare_amount extra mta_tax tip_amount tolls_amount  \\\n",
       "0            3         2.5   0.5     0.5          0            0   \n",
       "1            3         2.5   0.5     0.5          0            0   \n",
       "2            3         2.5   0.5     0.5          0            0   \n",
       "3            3         2.5   0.5     0.5          0            0   \n",
       "4            2           4   0.5     0.5          0            0   \n",
       "5            2          15   0.5     0.5          0            0   \n",
       "6            2          17   0.5     0.5          0            0   \n",
       "7            1           9   0.5     0.5       2.05            0   \n",
       "8            1        12.5   0.5     0.5       2.07            0   \n",
       "9            1          12   0.5     0.5       2.65            0   \n",
       "\n",
       "  improvement_surcharge total_amount  PULocationID_index  \n",
       "0                   0.3          3.8                58.0  \n",
       "1                   0.3          3.8                58.0  \n",
       "2                   0.3          3.8                58.0  \n",
       "3                   0.3          3.8                58.0  \n",
       "4                   0.3          5.3                57.0  \n",
       "5                   0.3         16.3                86.0  \n",
       "6                   0.3         18.3                27.0  \n",
       "7                   0.3        12.35                 4.0  \n",
       "8                   0.3        15.87                10.0  \n",
       "9                   0.3        15.95                26.0  "
      ]
     },
     "execution_count": 20,
     "metadata": {},
     "output_type": "execute_result"
    }
   ],
   "source": [
    "(df_taxi\n",
    " .limit(10)\n",
    " .toPandas())"
   ]
  },
  {
   "cell_type": "markdown",
   "metadata": {},
   "source": [
    "We can perform one-hot encoding using `OneHotEncoder` but it only accepts categorical indices not strings directly. Hence, the need for `StringIndexer` and not just conversion to a `double` type."
   ]
  },
  {
   "cell_type": "code",
   "execution_count": 12,
   "metadata": {
    "ExecuteTime": {
     "end_time": "2022-02-25T15:55:26.419357Z",
     "start_time": "2022-02-25T15:55:26.376360Z"
    }
   },
   "outputs": [],
   "source": [
    "from pyspark.ml.feature import OneHotEncoder\n",
    "ohe_pu = OneHotEncoder(\n",
    "    inputCol='PULocationID_index', outputCol='PULocationID_ohe')\n",
    "ohe_pu_trained = ohe_pu.fit(df_taxi)"
   ]
  },
  {
   "cell_type": "code",
   "execution_count": 13,
   "metadata": {
    "ExecuteTime": {
     "end_time": "2022-02-25T15:55:27.295434Z",
     "start_time": "2022-02-25T15:55:27.033217Z"
    }
   },
   "outputs": [
    {
     "data": {
      "text/html": [
       "<div>\n",
       "<style scoped>\n",
       "    .dataframe tbody tr th:only-of-type {\n",
       "        vertical-align: middle;\n",
       "    }\n",
       "\n",
       "    .dataframe tbody tr th {\n",
       "        vertical-align: top;\n",
       "    }\n",
       "\n",
       "    .dataframe thead th {\n",
       "        text-align: right;\n",
       "    }\n",
       "</style>\n",
       "<table border=\"1\" class=\"dataframe\">\n",
       "  <thead>\n",
       "    <tr style=\"text-align: right;\">\n",
       "      <th></th>\n",
       "      <th>VendorID</th>\n",
       "      <th>tpep_pickup_datetime</th>\n",
       "      <th>tpep_dropoff_datetime</th>\n",
       "      <th>passenger_count</th>\n",
       "      <th>trip_distance</th>\n",
       "      <th>RatecodeID</th>\n",
       "      <th>store_and_fwd_flag</th>\n",
       "      <th>PULocationID</th>\n",
       "      <th>DOLocationID</th>\n",
       "      <th>payment_type</th>\n",
       "      <th>fare_amount</th>\n",
       "      <th>extra</th>\n",
       "      <th>mta_tax</th>\n",
       "      <th>tip_amount</th>\n",
       "      <th>tolls_amount</th>\n",
       "      <th>improvement_surcharge</th>\n",
       "      <th>total_amount</th>\n",
       "      <th>PULocationID_index</th>\n",
       "      <th>PULocationID_ohe</th>\n",
       "    </tr>\n",
       "  </thead>\n",
       "  <tbody>\n",
       "    <tr>\n",
       "      <th>0</th>\n",
       "      <td>1</td>\n",
       "      <td>2017-12-01 00:12:00</td>\n",
       "      <td>2017-12-01 00:12:51</td>\n",
       "      <td>1</td>\n",
       "      <td>.00</td>\n",
       "      <td>1</td>\n",
       "      <td>N</td>\n",
       "      <td>226</td>\n",
       "      <td>226</td>\n",
       "      <td>3</td>\n",
       "      <td>2.5</td>\n",
       "      <td>0.5</td>\n",
       "      <td>0.5</td>\n",
       "      <td>0</td>\n",
       "      <td>0</td>\n",
       "      <td>0.3</td>\n",
       "      <td>3.8</td>\n",
       "      <td>58.0</td>\n",
       "      <td>(0.0, 0.0, 0.0, 0.0, 0.0, 0.0, 0.0, 0.0, 0.0, ...</td>\n",
       "    </tr>\n",
       "    <tr>\n",
       "      <th>1</th>\n",
       "      <td>1</td>\n",
       "      <td>2017-12-01 00:13:37</td>\n",
       "      <td>2017-12-01 00:13:47</td>\n",
       "      <td>1</td>\n",
       "      <td>.00</td>\n",
       "      <td>1</td>\n",
       "      <td>N</td>\n",
       "      <td>226</td>\n",
       "      <td>226</td>\n",
       "      <td>3</td>\n",
       "      <td>2.5</td>\n",
       "      <td>0.5</td>\n",
       "      <td>0.5</td>\n",
       "      <td>0</td>\n",
       "      <td>0</td>\n",
       "      <td>0.3</td>\n",
       "      <td>3.8</td>\n",
       "      <td>58.0</td>\n",
       "      <td>(0.0, 0.0, 0.0, 0.0, 0.0, 0.0, 0.0, 0.0, 0.0, ...</td>\n",
       "    </tr>\n",
       "    <tr>\n",
       "      <th>2</th>\n",
       "      <td>1</td>\n",
       "      <td>2017-12-01 00:14:15</td>\n",
       "      <td>2017-12-01 00:15:05</td>\n",
       "      <td>1</td>\n",
       "      <td>.00</td>\n",
       "      <td>1</td>\n",
       "      <td>N</td>\n",
       "      <td>226</td>\n",
       "      <td>226</td>\n",
       "      <td>3</td>\n",
       "      <td>2.5</td>\n",
       "      <td>0.5</td>\n",
       "      <td>0.5</td>\n",
       "      <td>0</td>\n",
       "      <td>0</td>\n",
       "      <td>0.3</td>\n",
       "      <td>3.8</td>\n",
       "      <td>58.0</td>\n",
       "      <td>(0.0, 0.0, 0.0, 0.0, 0.0, 0.0, 0.0, 0.0, 0.0, ...</td>\n",
       "    </tr>\n",
       "    <tr>\n",
       "      <th>3</th>\n",
       "      <td>1</td>\n",
       "      <td>2017-12-01 00:15:33</td>\n",
       "      <td>2017-12-01 00:15:37</td>\n",
       "      <td>1</td>\n",
       "      <td>.00</td>\n",
       "      <td>1</td>\n",
       "      <td>N</td>\n",
       "      <td>226</td>\n",
       "      <td>226</td>\n",
       "      <td>3</td>\n",
       "      <td>2.5</td>\n",
       "      <td>0.5</td>\n",
       "      <td>0.5</td>\n",
       "      <td>0</td>\n",
       "      <td>0</td>\n",
       "      <td>0.3</td>\n",
       "      <td>3.8</td>\n",
       "      <td>58.0</td>\n",
       "      <td>(0.0, 0.0, 0.0, 0.0, 0.0, 0.0, 0.0, 0.0, 0.0, ...</td>\n",
       "    </tr>\n",
       "    <tr>\n",
       "      <th>4</th>\n",
       "      <td>1</td>\n",
       "      <td>2017-12-01 00:50:03</td>\n",
       "      <td>2017-12-01 00:53:35</td>\n",
       "      <td>1</td>\n",
       "      <td>.00</td>\n",
       "      <td>1</td>\n",
       "      <td>N</td>\n",
       "      <td>145</td>\n",
       "      <td>145</td>\n",
       "      <td>2</td>\n",
       "      <td>4</td>\n",
       "      <td>0.5</td>\n",
       "      <td>0.5</td>\n",
       "      <td>0</td>\n",
       "      <td>0</td>\n",
       "      <td>0.3</td>\n",
       "      <td>5.3</td>\n",
       "      <td>57.0</td>\n",
       "      <td>(0.0, 0.0, 0.0, 0.0, 0.0, 0.0, 0.0, 0.0, 0.0, ...</td>\n",
       "    </tr>\n",
       "    <tr>\n",
       "      <th>5</th>\n",
       "      <td>1</td>\n",
       "      <td>2017-12-01 00:14:20</td>\n",
       "      <td>2017-12-01 00:28:35</td>\n",
       "      <td>1</td>\n",
       "      <td>4.20</td>\n",
       "      <td>1</td>\n",
       "      <td>N</td>\n",
       "      <td>82</td>\n",
       "      <td>258</td>\n",
       "      <td>2</td>\n",
       "      <td>15</td>\n",
       "      <td>0.5</td>\n",
       "      <td>0.5</td>\n",
       "      <td>0</td>\n",
       "      <td>0</td>\n",
       "      <td>0.3</td>\n",
       "      <td>16.3</td>\n",
       "      <td>86.0</td>\n",
       "      <td>(0.0, 0.0, 0.0, 0.0, 0.0, 0.0, 0.0, 0.0, 0.0, ...</td>\n",
       "    </tr>\n",
       "    <tr>\n",
       "      <th>6</th>\n",
       "      <td>1</td>\n",
       "      <td>2017-12-01 00:20:32</td>\n",
       "      <td>2017-12-01 00:31:24</td>\n",
       "      <td>1</td>\n",
       "      <td>5.40</td>\n",
       "      <td>1</td>\n",
       "      <td>N</td>\n",
       "      <td>50</td>\n",
       "      <td>116</td>\n",
       "      <td>2</td>\n",
       "      <td>17</td>\n",
       "      <td>0.5</td>\n",
       "      <td>0.5</td>\n",
       "      <td>0</td>\n",
       "      <td>0</td>\n",
       "      <td>0.3</td>\n",
       "      <td>18.3</td>\n",
       "      <td>27.0</td>\n",
       "      <td>(0.0, 0.0, 0.0, 0.0, 0.0, 0.0, 0.0, 0.0, 0.0, ...</td>\n",
       "    </tr>\n",
       "    <tr>\n",
       "      <th>7</th>\n",
       "      <td>1</td>\n",
       "      <td>2017-12-01 00:01:46</td>\n",
       "      <td>2017-12-01 00:12:19</td>\n",
       "      <td>1</td>\n",
       "      <td>1.90</td>\n",
       "      <td>1</td>\n",
       "      <td>N</td>\n",
       "      <td>161</td>\n",
       "      <td>107</td>\n",
       "      <td>1</td>\n",
       "      <td>9</td>\n",
       "      <td>0.5</td>\n",
       "      <td>0.5</td>\n",
       "      <td>2.05</td>\n",
       "      <td>0</td>\n",
       "      <td>0.3</td>\n",
       "      <td>12.35</td>\n",
       "      <td>4.0</td>\n",
       "      <td>(0.0, 0.0, 0.0, 0.0, 1.0, 0.0, 0.0, 0.0, 0.0, ...</td>\n",
       "    </tr>\n",
       "    <tr>\n",
       "      <th>8</th>\n",
       "      <td>1</td>\n",
       "      <td>2017-12-01 00:17:52</td>\n",
       "      <td>2017-12-01 00:32:35</td>\n",
       "      <td>1</td>\n",
       "      <td>3.30</td>\n",
       "      <td>1</td>\n",
       "      <td>N</td>\n",
       "      <td>107</td>\n",
       "      <td>263</td>\n",
       "      <td>1</td>\n",
       "      <td>12.5</td>\n",
       "      <td>0.5</td>\n",
       "      <td>0.5</td>\n",
       "      <td>2.07</td>\n",
       "      <td>0</td>\n",
       "      <td>0.3</td>\n",
       "      <td>15.87</td>\n",
       "      <td>10.0</td>\n",
       "      <td>(0.0, 0.0, 0.0, 0.0, 0.0, 0.0, 0.0, 0.0, 0.0, ...</td>\n",
       "    </tr>\n",
       "    <tr>\n",
       "      <th>9</th>\n",
       "      <td>1</td>\n",
       "      <td>2017-12-01 00:10:00</td>\n",
       "      <td>2017-12-01 00:24:35</td>\n",
       "      <td>1</td>\n",
       "      <td>2.80</td>\n",
       "      <td>1</td>\n",
       "      <td>N</td>\n",
       "      <td>264</td>\n",
       "      <td>87</td>\n",
       "      <td>1</td>\n",
       "      <td>12</td>\n",
       "      <td>0.5</td>\n",
       "      <td>0.5</td>\n",
       "      <td>2.65</td>\n",
       "      <td>0</td>\n",
       "      <td>0.3</td>\n",
       "      <td>15.95</td>\n",
       "      <td>26.0</td>\n",
       "      <td>(0.0, 0.0, 0.0, 0.0, 0.0, 0.0, 0.0, 0.0, 0.0, ...</td>\n",
       "    </tr>\n",
       "  </tbody>\n",
       "</table>\n",
       "</div>"
      ],
      "text/plain": [
       "  VendorID tpep_pickup_datetime tpep_dropoff_datetime passenger_count  \\\n",
       "0        1  2017-12-01 00:12:00   2017-12-01 00:12:51               1   \n",
       "1        1  2017-12-01 00:13:37   2017-12-01 00:13:47               1   \n",
       "2        1  2017-12-01 00:14:15   2017-12-01 00:15:05               1   \n",
       "3        1  2017-12-01 00:15:33   2017-12-01 00:15:37               1   \n",
       "4        1  2017-12-01 00:50:03   2017-12-01 00:53:35               1   \n",
       "5        1  2017-12-01 00:14:20   2017-12-01 00:28:35               1   \n",
       "6        1  2017-12-01 00:20:32   2017-12-01 00:31:24               1   \n",
       "7        1  2017-12-01 00:01:46   2017-12-01 00:12:19               1   \n",
       "8        1  2017-12-01 00:17:52   2017-12-01 00:32:35               1   \n",
       "9        1  2017-12-01 00:10:00   2017-12-01 00:24:35               1   \n",
       "\n",
       "  trip_distance RatecodeID store_and_fwd_flag PULocationID DOLocationID  \\\n",
       "0           .00          1                  N          226          226   \n",
       "1           .00          1                  N          226          226   \n",
       "2           .00          1                  N          226          226   \n",
       "3           .00          1                  N          226          226   \n",
       "4           .00          1                  N          145          145   \n",
       "5          4.20          1                  N           82          258   \n",
       "6          5.40          1                  N           50          116   \n",
       "7          1.90          1                  N          161          107   \n",
       "8          3.30          1                  N          107          263   \n",
       "9          2.80          1                  N          264           87   \n",
       "\n",
       "  payment_type fare_amount extra mta_tax tip_amount tolls_amount  \\\n",
       "0            3         2.5   0.5     0.5          0            0   \n",
       "1            3         2.5   0.5     0.5          0            0   \n",
       "2            3         2.5   0.5     0.5          0            0   \n",
       "3            3         2.5   0.5     0.5          0            0   \n",
       "4            2           4   0.5     0.5          0            0   \n",
       "5            2          15   0.5     0.5          0            0   \n",
       "6            2          17   0.5     0.5          0            0   \n",
       "7            1           9   0.5     0.5       2.05            0   \n",
       "8            1        12.5   0.5     0.5       2.07            0   \n",
       "9            1          12   0.5     0.5       2.65            0   \n",
       "\n",
       "  improvement_surcharge total_amount  PULocationID_index  \\\n",
       "0                   0.3          3.8                58.0   \n",
       "1                   0.3          3.8                58.0   \n",
       "2                   0.3          3.8                58.0   \n",
       "3                   0.3          3.8                58.0   \n",
       "4                   0.3          5.3                57.0   \n",
       "5                   0.3         16.3                86.0   \n",
       "6                   0.3         18.3                27.0   \n",
       "7                   0.3        12.35                 4.0   \n",
       "8                   0.3        15.87                10.0   \n",
       "9                   0.3        15.95                26.0   \n",
       "\n",
       "                                    PULocationID_ohe  \n",
       "0  (0.0, 0.0, 0.0, 0.0, 0.0, 0.0, 0.0, 0.0, 0.0, ...  \n",
       "1  (0.0, 0.0, 0.0, 0.0, 0.0, 0.0, 0.0, 0.0, 0.0, ...  \n",
       "2  (0.0, 0.0, 0.0, 0.0, 0.0, 0.0, 0.0, 0.0, 0.0, ...  \n",
       "3  (0.0, 0.0, 0.0, 0.0, 0.0, 0.0, 0.0, 0.0, 0.0, ...  \n",
       "4  (0.0, 0.0, 0.0, 0.0, 0.0, 0.0, 0.0, 0.0, 0.0, ...  \n",
       "5  (0.0, 0.0, 0.0, 0.0, 0.0, 0.0, 0.0, 0.0, 0.0, ...  \n",
       "6  (0.0, 0.0, 0.0, 0.0, 0.0, 0.0, 0.0, 0.0, 0.0, ...  \n",
       "7  (0.0, 0.0, 0.0, 0.0, 1.0, 0.0, 0.0, 0.0, 0.0, ...  \n",
       "8  (0.0, 0.0, 0.0, 0.0, 0.0, 0.0, 0.0, 0.0, 0.0, ...  \n",
       "9  (0.0, 0.0, 0.0, 0.0, 0.0, 0.0, 0.0, 0.0, 0.0, ...  "
      ]
     },
     "execution_count": 13,
     "metadata": {},
     "output_type": "execute_result"
    }
   ],
   "source": [
    "(ohe_pu_trained\n",
    " .transform(df_taxi)\n",
    " .limit(10)\n",
    " .toPandas())"
   ]
  },
  {
   "cell_type": "markdown",
   "metadata": {},
   "source": [
    "`OneHotIndexer` generates a sparse vector."
   ]
  },
  {
   "cell_type": "code",
   "execution_count": 14,
   "metadata": {
    "ExecuteTime": {
     "end_time": "2022-02-25T15:55:28.600082Z",
     "start_time": "2022-02-25T15:55:28.551451Z"
    }
   },
   "outputs": [
    {
     "name": "stdout",
     "output_type": "stream",
     "text": [
      "root\n",
      " |-- VendorID: string (nullable = true)\n",
      " |-- tpep_pickup_datetime: string (nullable = true)\n",
      " |-- tpep_dropoff_datetime: string (nullable = true)\n",
      " |-- passenger_count: string (nullable = true)\n",
      " |-- trip_distance: string (nullable = true)\n",
      " |-- RatecodeID: string (nullable = true)\n",
      " |-- store_and_fwd_flag: string (nullable = true)\n",
      " |-- PULocationID: string (nullable = true)\n",
      " |-- DOLocationID: string (nullable = true)\n",
      " |-- payment_type: string (nullable = true)\n",
      " |-- fare_amount: string (nullable = true)\n",
      " |-- extra: string (nullable = true)\n",
      " |-- mta_tax: string (nullable = true)\n",
      " |-- tip_amount: string (nullable = true)\n",
      " |-- tolls_amount: string (nullable = true)\n",
      " |-- improvement_surcharge: string (nullable = true)\n",
      " |-- total_amount: string (nullable = true)\n",
      " |-- PULocationID_index: double (nullable = false)\n",
      " |-- PULocationID_ohe: vector (nullable = true)\n",
      "\n"
     ]
    }
   ],
   "source": [
    "ohe_pu_trained.transform(df_taxi).printSchema()"
   ]
  },
  {
   "cell_type": "markdown",
   "metadata": {},
   "source": [
    "For many SparkML models, the input is just a single column of vector. To create a vector from several columns of numeric variables, we can use `VectorAssembler`."
   ]
  },
  {
   "cell_type": "code",
   "execution_count": 15,
   "metadata": {
    "ExecuteTime": {
     "end_time": "2022-02-25T15:55:29.787056Z",
     "start_time": "2022-02-25T15:55:29.751291Z"
    }
   },
   "outputs": [],
   "source": [
    "df_taxi = (df_taxi\n",
    "           .withColumn('PULocationID', df_taxi.PULocationID.astype('double'))\n",
    "           .withColumn('DOLocationID', df_taxi.DOLocationID.astype('double')))"
   ]
  },
  {
   "cell_type": "code",
   "execution_count": 16,
   "metadata": {
    "ExecuteTime": {
     "end_time": "2022-02-25T15:55:30.679192Z",
     "start_time": "2022-02-25T15:55:30.638957Z"
    }
   },
   "outputs": [
    {
     "name": "stdout",
     "output_type": "stream",
     "text": [
      "root\n",
      " |-- VendorID: string (nullable = true)\n",
      " |-- tpep_pickup_datetime: string (nullable = true)\n",
      " |-- tpep_dropoff_datetime: string (nullable = true)\n",
      " |-- passenger_count: string (nullable = true)\n",
      " |-- trip_distance: string (nullable = true)\n",
      " |-- RatecodeID: string (nullable = true)\n",
      " |-- store_and_fwd_flag: string (nullable = true)\n",
      " |-- PULocationID: double (nullable = true)\n",
      " |-- DOLocationID: double (nullable = true)\n",
      " |-- payment_type: string (nullable = true)\n",
      " |-- fare_amount: string (nullable = true)\n",
      " |-- extra: string (nullable = true)\n",
      " |-- mta_tax: string (nullable = true)\n",
      " |-- tip_amount: string (nullable = true)\n",
      " |-- tolls_amount: string (nullable = true)\n",
      " |-- improvement_surcharge: string (nullable = true)\n",
      " |-- total_amount: string (nullable = true)\n",
      " |-- PULocationID_index: double (nullable = false)\n",
      " |-- features: vector (nullable = true)\n",
      "\n"
     ]
    }
   ],
   "source": [
    "from pyspark.ml.feature import VectorAssembler\n",
    "(VectorAssembler(inputCols=['PULocationID', 'DOLocationID'],\n",
    "                     outputCol='features')\n",
    ".transform(df_taxi)\n",
    ".printSchema())"
   ]
  },
  {
   "cell_type": "code",
   "execution_count": 17,
   "metadata": {
    "ExecuteTime": {
     "end_time": "2022-02-25T15:55:32.346764Z",
     "start_time": "2022-02-25T15:55:32.126803Z"
    }
   },
   "outputs": [
    {
     "data": {
      "text/html": [
       "<div>\n",
       "<style scoped>\n",
       "    .dataframe tbody tr th:only-of-type {\n",
       "        vertical-align: middle;\n",
       "    }\n",
       "\n",
       "    .dataframe tbody tr th {\n",
       "        vertical-align: top;\n",
       "    }\n",
       "\n",
       "    .dataframe thead th {\n",
       "        text-align: right;\n",
       "    }\n",
       "</style>\n",
       "<table border=\"1\" class=\"dataframe\">\n",
       "  <thead>\n",
       "    <tr style=\"text-align: right;\">\n",
       "      <th></th>\n",
       "      <th>VendorID</th>\n",
       "      <th>tpep_pickup_datetime</th>\n",
       "      <th>tpep_dropoff_datetime</th>\n",
       "      <th>passenger_count</th>\n",
       "      <th>trip_distance</th>\n",
       "      <th>RatecodeID</th>\n",
       "      <th>store_and_fwd_flag</th>\n",
       "      <th>PULocationID</th>\n",
       "      <th>DOLocationID</th>\n",
       "      <th>payment_type</th>\n",
       "      <th>fare_amount</th>\n",
       "      <th>extra</th>\n",
       "      <th>mta_tax</th>\n",
       "      <th>tip_amount</th>\n",
       "      <th>tolls_amount</th>\n",
       "      <th>improvement_surcharge</th>\n",
       "      <th>total_amount</th>\n",
       "      <th>PULocationID_index</th>\n",
       "      <th>features</th>\n",
       "    </tr>\n",
       "  </thead>\n",
       "  <tbody>\n",
       "    <tr>\n",
       "      <th>0</th>\n",
       "      <td>1</td>\n",
       "      <td>2017-12-01 00:12:00</td>\n",
       "      <td>2017-12-01 00:12:51</td>\n",
       "      <td>1</td>\n",
       "      <td>.00</td>\n",
       "      <td>1</td>\n",
       "      <td>N</td>\n",
       "      <td>226.0</td>\n",
       "      <td>226.0</td>\n",
       "      <td>3</td>\n",
       "      <td>2.5</td>\n",
       "      <td>0.5</td>\n",
       "      <td>0.5</td>\n",
       "      <td>0</td>\n",
       "      <td>0</td>\n",
       "      <td>0.3</td>\n",
       "      <td>3.8</td>\n",
       "      <td>58.0</td>\n",
       "      <td>[226.0, 226.0]</td>\n",
       "    </tr>\n",
       "    <tr>\n",
       "      <th>1</th>\n",
       "      <td>1</td>\n",
       "      <td>2017-12-01 00:13:37</td>\n",
       "      <td>2017-12-01 00:13:47</td>\n",
       "      <td>1</td>\n",
       "      <td>.00</td>\n",
       "      <td>1</td>\n",
       "      <td>N</td>\n",
       "      <td>226.0</td>\n",
       "      <td>226.0</td>\n",
       "      <td>3</td>\n",
       "      <td>2.5</td>\n",
       "      <td>0.5</td>\n",
       "      <td>0.5</td>\n",
       "      <td>0</td>\n",
       "      <td>0</td>\n",
       "      <td>0.3</td>\n",
       "      <td>3.8</td>\n",
       "      <td>58.0</td>\n",
       "      <td>[226.0, 226.0]</td>\n",
       "    </tr>\n",
       "    <tr>\n",
       "      <th>2</th>\n",
       "      <td>1</td>\n",
       "      <td>2017-12-01 00:14:15</td>\n",
       "      <td>2017-12-01 00:15:05</td>\n",
       "      <td>1</td>\n",
       "      <td>.00</td>\n",
       "      <td>1</td>\n",
       "      <td>N</td>\n",
       "      <td>226.0</td>\n",
       "      <td>226.0</td>\n",
       "      <td>3</td>\n",
       "      <td>2.5</td>\n",
       "      <td>0.5</td>\n",
       "      <td>0.5</td>\n",
       "      <td>0</td>\n",
       "      <td>0</td>\n",
       "      <td>0.3</td>\n",
       "      <td>3.8</td>\n",
       "      <td>58.0</td>\n",
       "      <td>[226.0, 226.0]</td>\n",
       "    </tr>\n",
       "    <tr>\n",
       "      <th>3</th>\n",
       "      <td>1</td>\n",
       "      <td>2017-12-01 00:15:33</td>\n",
       "      <td>2017-12-01 00:15:37</td>\n",
       "      <td>1</td>\n",
       "      <td>.00</td>\n",
       "      <td>1</td>\n",
       "      <td>N</td>\n",
       "      <td>226.0</td>\n",
       "      <td>226.0</td>\n",
       "      <td>3</td>\n",
       "      <td>2.5</td>\n",
       "      <td>0.5</td>\n",
       "      <td>0.5</td>\n",
       "      <td>0</td>\n",
       "      <td>0</td>\n",
       "      <td>0.3</td>\n",
       "      <td>3.8</td>\n",
       "      <td>58.0</td>\n",
       "      <td>[226.0, 226.0]</td>\n",
       "    </tr>\n",
       "    <tr>\n",
       "      <th>4</th>\n",
       "      <td>1</td>\n",
       "      <td>2017-12-01 00:50:03</td>\n",
       "      <td>2017-12-01 00:53:35</td>\n",
       "      <td>1</td>\n",
       "      <td>.00</td>\n",
       "      <td>1</td>\n",
       "      <td>N</td>\n",
       "      <td>145.0</td>\n",
       "      <td>145.0</td>\n",
       "      <td>2</td>\n",
       "      <td>4</td>\n",
       "      <td>0.5</td>\n",
       "      <td>0.5</td>\n",
       "      <td>0</td>\n",
       "      <td>0</td>\n",
       "      <td>0.3</td>\n",
       "      <td>5.3</td>\n",
       "      <td>57.0</td>\n",
       "      <td>[145.0, 145.0]</td>\n",
       "    </tr>\n",
       "    <tr>\n",
       "      <th>5</th>\n",
       "      <td>1</td>\n",
       "      <td>2017-12-01 00:14:20</td>\n",
       "      <td>2017-12-01 00:28:35</td>\n",
       "      <td>1</td>\n",
       "      <td>4.20</td>\n",
       "      <td>1</td>\n",
       "      <td>N</td>\n",
       "      <td>82.0</td>\n",
       "      <td>258.0</td>\n",
       "      <td>2</td>\n",
       "      <td>15</td>\n",
       "      <td>0.5</td>\n",
       "      <td>0.5</td>\n",
       "      <td>0</td>\n",
       "      <td>0</td>\n",
       "      <td>0.3</td>\n",
       "      <td>16.3</td>\n",
       "      <td>86.0</td>\n",
       "      <td>[82.0, 258.0]</td>\n",
       "    </tr>\n",
       "    <tr>\n",
       "      <th>6</th>\n",
       "      <td>1</td>\n",
       "      <td>2017-12-01 00:20:32</td>\n",
       "      <td>2017-12-01 00:31:24</td>\n",
       "      <td>1</td>\n",
       "      <td>5.40</td>\n",
       "      <td>1</td>\n",
       "      <td>N</td>\n",
       "      <td>50.0</td>\n",
       "      <td>116.0</td>\n",
       "      <td>2</td>\n",
       "      <td>17</td>\n",
       "      <td>0.5</td>\n",
       "      <td>0.5</td>\n",
       "      <td>0</td>\n",
       "      <td>0</td>\n",
       "      <td>0.3</td>\n",
       "      <td>18.3</td>\n",
       "      <td>27.0</td>\n",
       "      <td>[50.0, 116.0]</td>\n",
       "    </tr>\n",
       "    <tr>\n",
       "      <th>7</th>\n",
       "      <td>1</td>\n",
       "      <td>2017-12-01 00:01:46</td>\n",
       "      <td>2017-12-01 00:12:19</td>\n",
       "      <td>1</td>\n",
       "      <td>1.90</td>\n",
       "      <td>1</td>\n",
       "      <td>N</td>\n",
       "      <td>161.0</td>\n",
       "      <td>107.0</td>\n",
       "      <td>1</td>\n",
       "      <td>9</td>\n",
       "      <td>0.5</td>\n",
       "      <td>0.5</td>\n",
       "      <td>2.05</td>\n",
       "      <td>0</td>\n",
       "      <td>0.3</td>\n",
       "      <td>12.35</td>\n",
       "      <td>4.0</td>\n",
       "      <td>[161.0, 107.0]</td>\n",
       "    </tr>\n",
       "    <tr>\n",
       "      <th>8</th>\n",
       "      <td>1</td>\n",
       "      <td>2017-12-01 00:17:52</td>\n",
       "      <td>2017-12-01 00:32:35</td>\n",
       "      <td>1</td>\n",
       "      <td>3.30</td>\n",
       "      <td>1</td>\n",
       "      <td>N</td>\n",
       "      <td>107.0</td>\n",
       "      <td>263.0</td>\n",
       "      <td>1</td>\n",
       "      <td>12.5</td>\n",
       "      <td>0.5</td>\n",
       "      <td>0.5</td>\n",
       "      <td>2.07</td>\n",
       "      <td>0</td>\n",
       "      <td>0.3</td>\n",
       "      <td>15.87</td>\n",
       "      <td>10.0</td>\n",
       "      <td>[107.0, 263.0]</td>\n",
       "    </tr>\n",
       "    <tr>\n",
       "      <th>9</th>\n",
       "      <td>1</td>\n",
       "      <td>2017-12-01 00:10:00</td>\n",
       "      <td>2017-12-01 00:24:35</td>\n",
       "      <td>1</td>\n",
       "      <td>2.80</td>\n",
       "      <td>1</td>\n",
       "      <td>N</td>\n",
       "      <td>264.0</td>\n",
       "      <td>87.0</td>\n",
       "      <td>1</td>\n",
       "      <td>12</td>\n",
       "      <td>0.5</td>\n",
       "      <td>0.5</td>\n",
       "      <td>2.65</td>\n",
       "      <td>0</td>\n",
       "      <td>0.3</td>\n",
       "      <td>15.95</td>\n",
       "      <td>26.0</td>\n",
       "      <td>[264.0, 87.0]</td>\n",
       "    </tr>\n",
       "  </tbody>\n",
       "</table>\n",
       "</div>"
      ],
      "text/plain": [
       "  VendorID tpep_pickup_datetime tpep_dropoff_datetime passenger_count  \\\n",
       "0        1  2017-12-01 00:12:00   2017-12-01 00:12:51               1   \n",
       "1        1  2017-12-01 00:13:37   2017-12-01 00:13:47               1   \n",
       "2        1  2017-12-01 00:14:15   2017-12-01 00:15:05               1   \n",
       "3        1  2017-12-01 00:15:33   2017-12-01 00:15:37               1   \n",
       "4        1  2017-12-01 00:50:03   2017-12-01 00:53:35               1   \n",
       "5        1  2017-12-01 00:14:20   2017-12-01 00:28:35               1   \n",
       "6        1  2017-12-01 00:20:32   2017-12-01 00:31:24               1   \n",
       "7        1  2017-12-01 00:01:46   2017-12-01 00:12:19               1   \n",
       "8        1  2017-12-01 00:17:52   2017-12-01 00:32:35               1   \n",
       "9        1  2017-12-01 00:10:00   2017-12-01 00:24:35               1   \n",
       "\n",
       "  trip_distance RatecodeID store_and_fwd_flag  PULocationID  DOLocationID  \\\n",
       "0           .00          1                  N         226.0         226.0   \n",
       "1           .00          1                  N         226.0         226.0   \n",
       "2           .00          1                  N         226.0         226.0   \n",
       "3           .00          1                  N         226.0         226.0   \n",
       "4           .00          1                  N         145.0         145.0   \n",
       "5          4.20          1                  N          82.0         258.0   \n",
       "6          5.40          1                  N          50.0         116.0   \n",
       "7          1.90          1                  N         161.0         107.0   \n",
       "8          3.30          1                  N         107.0         263.0   \n",
       "9          2.80          1                  N         264.0          87.0   \n",
       "\n",
       "  payment_type fare_amount extra mta_tax tip_amount tolls_amount  \\\n",
       "0            3         2.5   0.5     0.5          0            0   \n",
       "1            3         2.5   0.5     0.5          0            0   \n",
       "2            3         2.5   0.5     0.5          0            0   \n",
       "3            3         2.5   0.5     0.5          0            0   \n",
       "4            2           4   0.5     0.5          0            0   \n",
       "5            2          15   0.5     0.5          0            0   \n",
       "6            2          17   0.5     0.5          0            0   \n",
       "7            1           9   0.5     0.5       2.05            0   \n",
       "8            1        12.5   0.5     0.5       2.07            0   \n",
       "9            1          12   0.5     0.5       2.65            0   \n",
       "\n",
       "  improvement_surcharge total_amount  PULocationID_index        features  \n",
       "0                   0.3          3.8                58.0  [226.0, 226.0]  \n",
       "1                   0.3          3.8                58.0  [226.0, 226.0]  \n",
       "2                   0.3          3.8                58.0  [226.0, 226.0]  \n",
       "3                   0.3          3.8                58.0  [226.0, 226.0]  \n",
       "4                   0.3          5.3                57.0  [145.0, 145.0]  \n",
       "5                   0.3         16.3                86.0   [82.0, 258.0]  \n",
       "6                   0.3         18.3                27.0   [50.0, 116.0]  \n",
       "7                   0.3        12.35                 4.0  [161.0, 107.0]  \n",
       "8                   0.3        15.87                10.0  [107.0, 263.0]  \n",
       "9                   0.3        15.95                26.0   [264.0, 87.0]  "
      ]
     },
     "execution_count": 17,
     "metadata": {},
     "output_type": "execute_result"
    }
   ],
   "source": [
    "(VectorAssembler(inputCols=['PULocationID', 'DOLocationID'],\n",
    "                     outputCol='features')\n",
    " .transform(df_taxi)\n",
    " .limit(10)\n",
    " .toPandas())"
   ]
  },
  {
   "cell_type": "markdown",
   "metadata": {},
   "source": [
    "Individual elements of vectors can be converted into categorical indices using `VectorIndexer`. A vector element will be considered a categorical variable if the number of unique values for that element does not exceed `maxCategories`."
   ]
  },
  {
   "cell_type": "code",
   "execution_count": 18,
   "metadata": {
    "ExecuteTime": {
     "end_time": "2022-02-25T15:55:34.129191Z",
     "start_time": "2022-02-25T15:55:34.080456Z"
    }
   },
   "outputs": [],
   "source": [
    "df_taxi = (VectorAssembler(inputCols=['PULocationID', 'DOLocationID'],\n",
    "                     outputCol='features')\n",
    " .transform(df_taxi))"
   ]
  },
  {
   "cell_type": "code",
   "execution_count": 19,
   "metadata": {
    "ExecuteTime": {
     "end_time": "2022-02-25T15:55:35.198520Z",
     "start_time": "2022-02-25T15:55:34.718925Z"
    }
   },
   "outputs": [],
   "source": [
    "from pyspark.ml.feature import VectorIndexer\n",
    "vi = VectorIndexer(maxCategories=1000, \n",
    "                   inputCol='features', \n",
    "                   outputCol='features_indexed')\n",
    "vi_trained = vi.fit(df_taxi)\n",
    "df_taxi = vi_trained.transform(df_taxi)"
   ]
  },
  {
   "cell_type": "code",
   "execution_count": 20,
   "metadata": {
    "ExecuteTime": {
     "end_time": "2022-02-25T15:55:37.085389Z",
     "start_time": "2022-02-25T15:55:37.079520Z"
    }
   },
   "outputs": [
    {
     "name": "stdout",
     "output_type": "stream",
     "text": [
      "root\n",
      " |-- VendorID: string (nullable = true)\n",
      " |-- tpep_pickup_datetime: string (nullable = true)\n",
      " |-- tpep_dropoff_datetime: string (nullable = true)\n",
      " |-- passenger_count: string (nullable = true)\n",
      " |-- trip_distance: string (nullable = true)\n",
      " |-- RatecodeID: string (nullable = true)\n",
      " |-- store_and_fwd_flag: string (nullable = true)\n",
      " |-- PULocationID: double (nullable = true)\n",
      " |-- DOLocationID: double (nullable = true)\n",
      " |-- payment_type: string (nullable = true)\n",
      " |-- fare_amount: string (nullable = true)\n",
      " |-- extra: string (nullable = true)\n",
      " |-- mta_tax: string (nullable = true)\n",
      " |-- tip_amount: string (nullable = true)\n",
      " |-- tolls_amount: string (nullable = true)\n",
      " |-- improvement_surcharge: string (nullable = true)\n",
      " |-- total_amount: string (nullable = true)\n",
      " |-- PULocationID_index: double (nullable = false)\n",
      " |-- features: vector (nullable = true)\n",
      " |-- features_indexed: vector (nullable = true)\n",
      "\n"
     ]
    }
   ],
   "source": [
    "df_taxi.printSchema()"
   ]
  },
  {
   "cell_type": "code",
   "execution_count": 21,
   "metadata": {
    "ExecuteTime": {
     "end_time": "2022-02-25T15:55:38.338305Z",
     "start_time": "2022-02-25T15:55:38.095937Z"
    }
   },
   "outputs": [
    {
     "data": {
      "text/html": [
       "<div>\n",
       "<style scoped>\n",
       "    .dataframe tbody tr th:only-of-type {\n",
       "        vertical-align: middle;\n",
       "    }\n",
       "\n",
       "    .dataframe tbody tr th {\n",
       "        vertical-align: top;\n",
       "    }\n",
       "\n",
       "    .dataframe thead th {\n",
       "        text-align: right;\n",
       "    }\n",
       "</style>\n",
       "<table border=\"1\" class=\"dataframe\">\n",
       "  <thead>\n",
       "    <tr style=\"text-align: right;\">\n",
       "      <th></th>\n",
       "      <th>VendorID</th>\n",
       "      <th>tpep_pickup_datetime</th>\n",
       "      <th>tpep_dropoff_datetime</th>\n",
       "      <th>passenger_count</th>\n",
       "      <th>trip_distance</th>\n",
       "      <th>RatecodeID</th>\n",
       "      <th>store_and_fwd_flag</th>\n",
       "      <th>PULocationID</th>\n",
       "      <th>DOLocationID</th>\n",
       "      <th>payment_type</th>\n",
       "      <th>fare_amount</th>\n",
       "      <th>extra</th>\n",
       "      <th>mta_tax</th>\n",
       "      <th>tip_amount</th>\n",
       "      <th>tolls_amount</th>\n",
       "      <th>improvement_surcharge</th>\n",
       "      <th>total_amount</th>\n",
       "      <th>PULocationID_index</th>\n",
       "      <th>features</th>\n",
       "      <th>features_indexed</th>\n",
       "    </tr>\n",
       "  </thead>\n",
       "  <tbody>\n",
       "    <tr>\n",
       "      <th>0</th>\n",
       "      <td>1</td>\n",
       "      <td>2017-12-01 00:12:00</td>\n",
       "      <td>2017-12-01 00:12:51</td>\n",
       "      <td>1</td>\n",
       "      <td>.00</td>\n",
       "      <td>1</td>\n",
       "      <td>N</td>\n",
       "      <td>226.0</td>\n",
       "      <td>226.0</td>\n",
       "      <td>3</td>\n",
       "      <td>2.5</td>\n",
       "      <td>0.5</td>\n",
       "      <td>0.5</td>\n",
       "      <td>0</td>\n",
       "      <td>0</td>\n",
       "      <td>0.3</td>\n",
       "      <td>3.8</td>\n",
       "      <td>58.0</td>\n",
       "      <td>[226.0, 226.0]</td>\n",
       "      <td>[96.0, 172.0]</td>\n",
       "    </tr>\n",
       "    <tr>\n",
       "      <th>1</th>\n",
       "      <td>1</td>\n",
       "      <td>2017-12-01 00:13:37</td>\n",
       "      <td>2017-12-01 00:13:47</td>\n",
       "      <td>1</td>\n",
       "      <td>.00</td>\n",
       "      <td>1</td>\n",
       "      <td>N</td>\n",
       "      <td>226.0</td>\n",
       "      <td>226.0</td>\n",
       "      <td>3</td>\n",
       "      <td>2.5</td>\n",
       "      <td>0.5</td>\n",
       "      <td>0.5</td>\n",
       "      <td>0</td>\n",
       "      <td>0</td>\n",
       "      <td>0.3</td>\n",
       "      <td>3.8</td>\n",
       "      <td>58.0</td>\n",
       "      <td>[226.0, 226.0]</td>\n",
       "      <td>[96.0, 172.0]</td>\n",
       "    </tr>\n",
       "    <tr>\n",
       "      <th>2</th>\n",
       "      <td>1</td>\n",
       "      <td>2017-12-01 00:14:15</td>\n",
       "      <td>2017-12-01 00:15:05</td>\n",
       "      <td>1</td>\n",
       "      <td>.00</td>\n",
       "      <td>1</td>\n",
       "      <td>N</td>\n",
       "      <td>226.0</td>\n",
       "      <td>226.0</td>\n",
       "      <td>3</td>\n",
       "      <td>2.5</td>\n",
       "      <td>0.5</td>\n",
       "      <td>0.5</td>\n",
       "      <td>0</td>\n",
       "      <td>0</td>\n",
       "      <td>0.3</td>\n",
       "      <td>3.8</td>\n",
       "      <td>58.0</td>\n",
       "      <td>[226.0, 226.0]</td>\n",
       "      <td>[96.0, 172.0]</td>\n",
       "    </tr>\n",
       "    <tr>\n",
       "      <th>3</th>\n",
       "      <td>1</td>\n",
       "      <td>2017-12-01 00:15:33</td>\n",
       "      <td>2017-12-01 00:15:37</td>\n",
       "      <td>1</td>\n",
       "      <td>.00</td>\n",
       "      <td>1</td>\n",
       "      <td>N</td>\n",
       "      <td>226.0</td>\n",
       "      <td>226.0</td>\n",
       "      <td>3</td>\n",
       "      <td>2.5</td>\n",
       "      <td>0.5</td>\n",
       "      <td>0.5</td>\n",
       "      <td>0</td>\n",
       "      <td>0</td>\n",
       "      <td>0.3</td>\n",
       "      <td>3.8</td>\n",
       "      <td>58.0</td>\n",
       "      <td>[226.0, 226.0]</td>\n",
       "      <td>[96.0, 172.0]</td>\n",
       "    </tr>\n",
       "    <tr>\n",
       "      <th>4</th>\n",
       "      <td>1</td>\n",
       "      <td>2017-12-01 00:50:03</td>\n",
       "      <td>2017-12-01 00:53:35</td>\n",
       "      <td>1</td>\n",
       "      <td>.00</td>\n",
       "      <td>1</td>\n",
       "      <td>N</td>\n",
       "      <td>145.0</td>\n",
       "      <td>145.0</td>\n",
       "      <td>2</td>\n",
       "      <td>4</td>\n",
       "      <td>0.5</td>\n",
       "      <td>0.5</td>\n",
       "      <td>0</td>\n",
       "      <td>0</td>\n",
       "      <td>0.3</td>\n",
       "      <td>5.3</td>\n",
       "      <td>57.0</td>\n",
       "      <td>[145.0, 145.0]</td>\n",
       "      <td>[60.0, 107.0]</td>\n",
       "    </tr>\n",
       "    <tr>\n",
       "      <th>5</th>\n",
       "      <td>1</td>\n",
       "      <td>2017-12-01 00:14:20</td>\n",
       "      <td>2017-12-01 00:28:35</td>\n",
       "      <td>1</td>\n",
       "      <td>4.20</td>\n",
       "      <td>1</td>\n",
       "      <td>N</td>\n",
       "      <td>82.0</td>\n",
       "      <td>258.0</td>\n",
       "      <td>2</td>\n",
       "      <td>15</td>\n",
       "      <td>0.5</td>\n",
       "      <td>0.5</td>\n",
       "      <td>0</td>\n",
       "      <td>0</td>\n",
       "      <td>0.3</td>\n",
       "      <td>16.3</td>\n",
       "      <td>86.0</td>\n",
       "      <td>[82.0, 258.0]</td>\n",
       "      <td>[33.0, 202.0]</td>\n",
       "    </tr>\n",
       "    <tr>\n",
       "      <th>6</th>\n",
       "      <td>1</td>\n",
       "      <td>2017-12-01 00:20:32</td>\n",
       "      <td>2017-12-01 00:31:24</td>\n",
       "      <td>1</td>\n",
       "      <td>5.40</td>\n",
       "      <td>1</td>\n",
       "      <td>N</td>\n",
       "      <td>50.0</td>\n",
       "      <td>116.0</td>\n",
       "      <td>2</td>\n",
       "      <td>17</td>\n",
       "      <td>0.5</td>\n",
       "      <td>0.5</td>\n",
       "      <td>0</td>\n",
       "      <td>0</td>\n",
       "      <td>0.3</td>\n",
       "      <td>18.3</td>\n",
       "      <td>27.0</td>\n",
       "      <td>[50.0, 116.0]</td>\n",
       "      <td>[21.0, 82.0]</td>\n",
       "    </tr>\n",
       "    <tr>\n",
       "      <th>7</th>\n",
       "      <td>1</td>\n",
       "      <td>2017-12-01 00:01:46</td>\n",
       "      <td>2017-12-01 00:12:19</td>\n",
       "      <td>1</td>\n",
       "      <td>1.90</td>\n",
       "      <td>1</td>\n",
       "      <td>N</td>\n",
       "      <td>161.0</td>\n",
       "      <td>107.0</td>\n",
       "      <td>1</td>\n",
       "      <td>9</td>\n",
       "      <td>0.5</td>\n",
       "      <td>0.5</td>\n",
       "      <td>2.05</td>\n",
       "      <td>0</td>\n",
       "      <td>0.3</td>\n",
       "      <td>12.35</td>\n",
       "      <td>4.0</td>\n",
       "      <td>[161.0, 107.0]</td>\n",
       "      <td>[68.0, 77.0]</td>\n",
       "    </tr>\n",
       "    <tr>\n",
       "      <th>8</th>\n",
       "      <td>1</td>\n",
       "      <td>2017-12-01 00:17:52</td>\n",
       "      <td>2017-12-01 00:32:35</td>\n",
       "      <td>1</td>\n",
       "      <td>3.30</td>\n",
       "      <td>1</td>\n",
       "      <td>N</td>\n",
       "      <td>107.0</td>\n",
       "      <td>263.0</td>\n",
       "      <td>1</td>\n",
       "      <td>12.5</td>\n",
       "      <td>0.5</td>\n",
       "      <td>0.5</td>\n",
       "      <td>2.07</td>\n",
       "      <td>0</td>\n",
       "      <td>0.3</td>\n",
       "      <td>15.87</td>\n",
       "      <td>10.0</td>\n",
       "      <td>[107.0, 263.0]</td>\n",
       "      <td>[43.0, 207.0]</td>\n",
       "    </tr>\n",
       "    <tr>\n",
       "      <th>9</th>\n",
       "      <td>1</td>\n",
       "      <td>2017-12-01 00:10:00</td>\n",
       "      <td>2017-12-01 00:24:35</td>\n",
       "      <td>1</td>\n",
       "      <td>2.80</td>\n",
       "      <td>1</td>\n",
       "      <td>N</td>\n",
       "      <td>264.0</td>\n",
       "      <td>87.0</td>\n",
       "      <td>1</td>\n",
       "      <td>12</td>\n",
       "      <td>0.5</td>\n",
       "      <td>0.5</td>\n",
       "      <td>2.65</td>\n",
       "      <td>0</td>\n",
       "      <td>0.3</td>\n",
       "      <td>15.95</td>\n",
       "      <td>26.0</td>\n",
       "      <td>[264.0, 87.0]</td>\n",
       "      <td>[118.0, 62.0]</td>\n",
       "    </tr>\n",
       "  </tbody>\n",
       "</table>\n",
       "</div>"
      ],
      "text/plain": [
       "  VendorID tpep_pickup_datetime tpep_dropoff_datetime passenger_count  \\\n",
       "0        1  2017-12-01 00:12:00   2017-12-01 00:12:51               1   \n",
       "1        1  2017-12-01 00:13:37   2017-12-01 00:13:47               1   \n",
       "2        1  2017-12-01 00:14:15   2017-12-01 00:15:05               1   \n",
       "3        1  2017-12-01 00:15:33   2017-12-01 00:15:37               1   \n",
       "4        1  2017-12-01 00:50:03   2017-12-01 00:53:35               1   \n",
       "5        1  2017-12-01 00:14:20   2017-12-01 00:28:35               1   \n",
       "6        1  2017-12-01 00:20:32   2017-12-01 00:31:24               1   \n",
       "7        1  2017-12-01 00:01:46   2017-12-01 00:12:19               1   \n",
       "8        1  2017-12-01 00:17:52   2017-12-01 00:32:35               1   \n",
       "9        1  2017-12-01 00:10:00   2017-12-01 00:24:35               1   \n",
       "\n",
       "  trip_distance RatecodeID store_and_fwd_flag  PULocationID  DOLocationID  \\\n",
       "0           .00          1                  N         226.0         226.0   \n",
       "1           .00          1                  N         226.0         226.0   \n",
       "2           .00          1                  N         226.0         226.0   \n",
       "3           .00          1                  N         226.0         226.0   \n",
       "4           .00          1                  N         145.0         145.0   \n",
       "5          4.20          1                  N          82.0         258.0   \n",
       "6          5.40          1                  N          50.0         116.0   \n",
       "7          1.90          1                  N         161.0         107.0   \n",
       "8          3.30          1                  N         107.0         263.0   \n",
       "9          2.80          1                  N         264.0          87.0   \n",
       "\n",
       "  payment_type fare_amount extra mta_tax tip_amount tolls_amount  \\\n",
       "0            3         2.5   0.5     0.5          0            0   \n",
       "1            3         2.5   0.5     0.5          0            0   \n",
       "2            3         2.5   0.5     0.5          0            0   \n",
       "3            3         2.5   0.5     0.5          0            0   \n",
       "4            2           4   0.5     0.5          0            0   \n",
       "5            2          15   0.5     0.5          0            0   \n",
       "6            2          17   0.5     0.5          0            0   \n",
       "7            1           9   0.5     0.5       2.05            0   \n",
       "8            1        12.5   0.5     0.5       2.07            0   \n",
       "9            1          12   0.5     0.5       2.65            0   \n",
       "\n",
       "  improvement_surcharge total_amount  PULocationID_index        features  \\\n",
       "0                   0.3          3.8                58.0  [226.0, 226.0]   \n",
       "1                   0.3          3.8                58.0  [226.0, 226.0]   \n",
       "2                   0.3          3.8                58.0  [226.0, 226.0]   \n",
       "3                   0.3          3.8                58.0  [226.0, 226.0]   \n",
       "4                   0.3          5.3                57.0  [145.0, 145.0]   \n",
       "5                   0.3         16.3                86.0   [82.0, 258.0]   \n",
       "6                   0.3         18.3                27.0   [50.0, 116.0]   \n",
       "7                   0.3        12.35                 4.0  [161.0, 107.0]   \n",
       "8                   0.3        15.87                10.0  [107.0, 263.0]   \n",
       "9                   0.3        15.95                26.0   [264.0, 87.0]   \n",
       "\n",
       "  features_indexed  \n",
       "0    [96.0, 172.0]  \n",
       "1    [96.0, 172.0]  \n",
       "2    [96.0, 172.0]  \n",
       "3    [96.0, 172.0]  \n",
       "4    [60.0, 107.0]  \n",
       "5    [33.0, 202.0]  \n",
       "6     [21.0, 82.0]  \n",
       "7     [68.0, 77.0]  \n",
       "8    [43.0, 207.0]  \n",
       "9    [118.0, 62.0]  "
      ]
     },
     "execution_count": 21,
     "metadata": {},
     "output_type": "execute_result"
    }
   ],
   "source": [
    "df_taxi.limit(10).toPandas()"
   ]
  },
  {
   "cell_type": "markdown",
   "metadata": {},
   "source": [
    "## Classification and Regression"
   ]
  },
  {
   "cell_type": "markdown",
   "metadata": {},
   "source": [
    "Just like in scikit-learn, in MLlib, we instantiate an ML model, fit data on it then use the trained data to predict. Data splitting is done using `randomSplit` and prediction is via the `transform` method of the trained model."
   ]
  },
  {
   "cell_type": "code",
   "execution_count": 22,
   "metadata": {
    "ExecuteTime": {
     "end_time": "2022-02-25T15:55:45.227976Z",
     "start_time": "2022-02-25T15:55:41.727381Z"
    }
   },
   "outputs": [
    {
     "name": "stdout",
     "output_type": "stream",
     "text": [
      "+-------------+------------+------------------+\n",
      "|     features|total_amount|        prediction|\n",
      "+-------------+------------+------------------+\n",
      "|[148.0,148.0]|       24.95|12.131289659025446|\n",
      "|[140.0,146.0]|       18.48|17.097137981219525|\n",
      "|[137.0,148.0]|       12.05|11.508767391534121|\n",
      "|[114.0,145.0]|       28.55|20.136499514465225|\n",
      "|[141.0,262.0]|        18.8|16.095632671971217|\n",
      "|[231.0,265.0]|       60.95| 103.2923289092543|\n",
      "|[138.0,263.0]|       41.91| 52.48693483037897|\n",
      "|[148.0,137.0]|        16.3|11.843556650570866|\n",
      "|[186.0,238.0]|        19.2|14.351107686600301|\n",
      "|[140.0,140.0]|         5.3|12.805309388680332|\n",
      "|[255.0,263.0]|        30.0| 17.79750434455514|\n",
      "|[148.0,249.0]|       12.25| 11.89426435610714|\n",
      "|[144.0,107.0]|        11.6| 11.43229389748015|\n",
      "| [37.0,255.0]|        14.8|15.523961084168945|\n",
      "| [145.0,61.0]|       29.15| 27.74391242986461|\n",
      "| [231.0,88.0]|       12.36| 16.46464018790974|\n",
      "|[138.0,145.0]|        26.6| 47.34546634035111|\n",
      "|[114.0,226.0]|        33.5|  21.6052290096214|\n",
      "|[230.0,261.0]|       24.95|15.482186394067767|\n",
      "|[249.0,114.0]|         5.3|11.411750449573518|\n",
      "+-------------+------------+------------------+\n",
      "only showing top 20 rows\n",
      "\n"
     ]
    }
   ],
   "source": [
    "from pyspark.ml.feature import (StringIndexer, VectorAssembler, VectorIndexer)\n",
    "from pyspark.ml.regression import RandomForestRegressor\n",
    "\n",
    "df_taxi = (df_taxi.withColumn('total_amount', \n",
    "                              df_taxi['total_amount'].astype('float'))\n",
    "                  .cache())\n",
    "\n",
    "df_training, df_test = df_taxi.randomSplit([0.7, 0.3])\n",
    "\n",
    "rf = RandomForestRegressor(featuresCol='features_indexed',\n",
    "                           labelCol='total_amount',\n",
    "                           maxBins=1000)\n",
    "rf_trained = rf.fit(df_training)\n",
    "df_predict = rf_trained.transform(df_test)\n",
    "\n",
    "df_predict[['features', 'total_amount', 'prediction']].show()"
   ]
  },
  {
   "cell_type": "markdown",
   "metadata": {},
   "source": [
    "**Exercise 2**\n",
    "\n",
    "Create a function `predict_payment_type` that accepts the training and prediction data in the form of Spark dataframes then returns the prediction as a list. Use a random forest model as the classifier, the categorical variables `PULocationID` and `DOLocationID` as features, and `payment_type` as target. Set the `seed` of the classifier to 2020 and `maxBins` to 1000. Do not perform cross-validation or further split the training data."
   ]
  },
  {
   "cell_type": "code",
   "execution_count": 23,
   "metadata": {
    "ExecuteTime": {
     "end_time": "2022-02-25T15:57:59.097533Z",
     "start_time": "2022-02-25T15:57:59.087985Z"
    },
    "deletable": false,
    "hide_input": true,
    "nbgrader": {
     "cell_type": "code",
     "checksum": "5253d864fc85c78033321260181b0ba8",
     "grade": false,
     "grade_id": "cell-7f388b9012638158",
     "locked": false,
     "schema_version": 3,
     "solution": true,
     "task": false
    }
   },
   "outputs": [],
   "source": [
    "from pyspark.ml import Pipeline\n",
    "from pyspark.ml.classification import RandomForestClassifier\n",
    "from pyspark.ml.feature import StringIndexer, VectorIndexer\n",
    "\n",
    "def predict_payment_type(df_training, df_to_predict):\n",
    "    pipe = Pipeline(stages=[\n",
    "        StringIndexer(inputCol='PULocationID', outputCol='PULocationID_index'),\n",
    "        StringIndexer(inputCol='DOLocationID', outputCol='DOLocationID_index'),\n",
    "        VectorAssembler(inputCols=['PULocationID_index', 'DOLocationID_index'],\n",
    "                        outputCol='features'),\n",
    "        VectorIndexer(inputCol='features', outputCol='features_indexed'),\n",
    "        RandomForestClassifier(featuresCol='features_indexed',\n",
    "                              labelCol='payment_type_index',\n",
    "                              maxBins=1000,\n",
    "                              seed=2020)\n",
    "    ])\n",
    "\n",
    "    df_training_ = df_training.withColumn('payment_type_index', \n",
    "                               df_training.payment_type.astype('int'))\n",
    "\n",
    "    model_trained = pipe.fit(df_training_)\n",
    "    df_predict = model_trained.transform(df_to_predict)\n",
    "    final_pred = df_predict[['features', 'prediction']].select('prediction')\n",
    "    return final_pred.toPandas()['prediction'].astype('int').tolist()"
   ]
  },
  {
   "cell_type": "code",
   "execution_count": 24,
   "metadata": {
    "ExecuteTime": {
     "end_time": "2022-02-25T15:58:04.379316Z",
     "start_time": "2022-02-25T15:58:00.343405Z"
    },
    "deletable": false,
    "editable": false,
    "nbgrader": {
     "cell_type": "code",
     "checksum": "a6a7f82e4588113d0dc24a462e3aaf59",
     "grade": true,
     "grade_id": "cell-1f7ff8c08668a3df",
     "locked": true,
     "points": 1,
     "schema_version": 3,
     "solution": false,
     "task": false
    }
   },
   "outputs": [],
   "source": [
    "df_taxi = (spark.read.csv('/mnt/data/public/nyctaxi/all/'\n",
    "                          'yellow_tripdata_2017-12.csv',\n",
    "                          header=True)\n",
    "                .limit(10000))\n",
    "df_to_predict = spark.createDataFrame(\n",
    "    [[87, 102],\n",
    "     [107, 95],\n",
    "     [17, 28],\n",
    "     [82, 258],\n",
    "     [67, 48]],\n",
    "    schema=['PULocationID', 'DOLocationID']\n",
    ")\n",
    "y_pred = predict_payment_type(df_taxi, df_to_predict)\n",
    "assert_array_equal(y_pred, [1, 1, 2, 1, 1])\n"
   ]
  },
  {
   "cell_type": "markdown",
   "metadata": {},
   "source": [
    "## Pipelines"
   ]
  },
  {
   "cell_type": "markdown",
   "metadata": {},
   "source": [
    "As you may have noticed, instantiating an estimator or transformer, fitting it to the data then storing its result, then using that to transform the input is quite tedious. In scikit-learn, a way for simplifying this process is to create a `Pipeline`, which Spark also has."
   ]
  },
  {
   "cell_type": "code",
   "execution_count": 25,
   "metadata": {
    "ExecuteTime": {
     "end_time": "2022-02-25T15:58:10.449343Z",
     "start_time": "2022-02-25T15:58:07.544141Z"
    }
   },
   "outputs": [
    {
     "name": "stdout",
     "output_type": "stream",
     "text": [
      "+-----------+------------+------------------+\n",
      "|   features|total_amount|        prediction|\n",
      "+-----------+------------+------------------+\n",
      "| [29.0,1.0]|        10.8| 18.44345605515573|\n",
      "| [50.0,8.0]|        20.3|12.016707907969652|\n",
      "| [8.0,60.0]|       28.55|21.332079675954677|\n",
      "|[26.0,39.0]|        18.8|12.776414819045167|\n",
      "|[31.0,37.0]|        6.35|11.949968595288466|\n",
      "|  [2.0,4.0]|         7.3|12.115045882425246|\n",
      "|[17.0,38.0]|         4.3| 12.09844487781461|\n",
      "| [28.0,1.0]|         5.8|11.393239950112209|\n",
      "|  [0.0,6.0]|         5.8|11.097208865396638|\n",
      "| [16.0,2.0]|        18.8|11.764880285791072|\n",
      "|[66.0,14.0]|       41.91| 33.81084297122338|\n",
      "| [8.0,18.0]|       11.15|11.528496989920978|\n",
      "|  [1.0,0.0]|         6.3|11.476033509723681|\n",
      "|[34.0,24.0]|        13.3|11.719880743258257|\n",
      "|  [4.0,3.0]|       12.25| 11.73712438829062|\n",
      "| [23.0,5.0]|        11.6|11.375205508702189|\n",
      "| [12.0,9.0]|        10.3|11.318500386868447|\n",
      "|[14.0,76.0]|       12.36|14.941578443780603|\n",
      "| [7.0,80.0]|        26.8|27.123763525469837|\n",
      "|[33.0,21.0]|         3.8|12.102464863559804|\n",
      "+-----------+------------+------------------+\n",
      "only showing top 20 rows\n",
      "\n"
     ]
    }
   ],
   "source": [
    "from pyspark.ml import Pipeline\n",
    "\n",
    "df_taxi = (spark.read.csv('/mnt/data/public/nyctaxi/all/'\n",
    "                          'yellow_tripdata_2017-12.csv',\n",
    "                          header=True)\n",
    "                .limit(10000))\n",
    "df_taxi = (df_taxi.withColumn('total_amount', \n",
    "                             df_taxi['total_amount'].astype('float'))\n",
    "                  .cache())\n",
    "\n",
    "df_training, df_test = df_taxi.randomSplit([0.7, 0.3])\n",
    "\n",
    "pipe = Pipeline(stages=[\n",
    "    StringIndexer(inputCol='PULocationID', outputCol='PULocationID_index'),\n",
    "    StringIndexer(inputCol='DOLocationID', outputCol='DOLocationID_index'),\n",
    "    VectorAssembler(inputCols=['PULocationID_index', 'DOLocationID_index'],\n",
    "                    outputCol='features'),\n",
    "    VectorIndexer(inputCol='features', outputCol='features_indexed'),\n",
    "    RandomForestRegressor(featuresCol='features_indexed',\n",
    "                          labelCol='total_amount',\n",
    "                          maxBins=1000)\n",
    "])\n",
    "\n",
    "model_trained = pipe.fit(df_training)\n",
    "df_predict = model_trained.transform(df_test)\n",
    "\n",
    "df_predict[['features', 'total_amount', 'prediction']].show()"
   ]
  },
  {
   "cell_type": "markdown",
   "metadata": {},
   "source": [
    "## Saving and loading models"
   ]
  },
  {
   "cell_type": "markdown",
   "metadata": {},
   "source": [
    "Both pipeline and trained models can be saved using the `save` method of the model."
   ]
  },
  {
   "cell_type": "code",
   "execution_count": 26,
   "metadata": {
    "ExecuteTime": {
     "end_time": "2022-02-25T15:58:15.584432Z",
     "start_time": "2022-02-25T15:58:10.451912Z"
    }
   },
   "outputs": [
    {
     "name": "stderr",
     "output_type": "stream",
     "text": [
      "\r",
      "[Stage 140:>                                                        (0 + 1) / 1]\r",
      "\r",
      "                                                                                \r"
     ]
    }
   ],
   "source": [
    "!rm -rf example*\n",
    "pipe.save('example-untrained')\n",
    "model_trained.save('example-trained')"
   ]
  },
  {
   "cell_type": "markdown",
   "metadata": {},
   "source": [
    "The pipeline and trained models can then be loaded using `load`."
   ]
  },
  {
   "cell_type": "code",
   "execution_count": 27,
   "metadata": {
    "ExecuteTime": {
     "end_time": "2022-02-25T15:58:19.423841Z",
     "start_time": "2022-02-25T15:58:15.587326Z"
    }
   },
   "outputs": [],
   "source": [
    "from pyspark.ml import PipelineModel\n",
    "pipe2 = Pipeline.load('example-untrained')\n",
    "model_trained2 = PipelineModel.load('example-trained')"
   ]
  },
  {
   "cell_type": "markdown",
   "metadata": {},
   "source": [
    "## Clustering"
   ]
  },
  {
   "cell_type": "markdown",
   "metadata": {},
   "source": [
    "MLlib has a few models for clustering as well."
   ]
  },
  {
   "cell_type": "code",
   "execution_count": 28,
   "metadata": {
    "ExecuteTime": {
     "end_time": "2022-02-25T15:58:24.369414Z",
     "start_time": "2022-02-25T15:58:19.426437Z"
    }
   },
   "outputs": [
    {
     "name": "stderr",
     "output_type": "stream",
     "text": [
      "                                                                                \r"
     ]
    },
    {
     "name": "stdout",
     "output_type": "stream",
     "text": [
      "Silhouette score:  0.5065738153894321\n",
      "+--------------------+----------+\n",
      "|            features|prediction|\n",
      "+--------------------+----------+\n",
      "|[-73.990371704101...|         7|\n",
      "|[-73.980781555175...|         0|\n",
      "|[-73.984550476074...|         5|\n",
      "|[-73.993469238281...|         0|\n",
      "|[-73.960624694824...|         2|\n",
      "|[-73.980117797851...|         7|\n",
      "|[-73.994056701660...|         0|\n",
      "|[-73.979423522949...|         4|\n",
      "|[-73.947151184082...|         2|\n",
      "|[-73.998344421386...|         0|\n",
      "|[-74.006149291992...|         7|\n",
      "|[-73.969329833984...|         4|\n",
      "|[-73.989021301269...|         0|\n",
      "|[-74.004302978515...|         7|\n",
      "|[-73.991996765136...|         0|\n",
      "|[-73.985160827636...|         4|\n",
      "|[-73.973091125488...|         2|\n",
      "|[-73.982101440429...|         4|\n",
      "|[-73.994842529296...|         0|\n",
      "|[-73.953033447265...|         5|\n",
      "+--------------------+----------+\n",
      "only showing top 20 rows\n",
      "\n"
     ]
    }
   ],
   "source": [
    "from pyspark.ml.clustering import KMeans\n",
    "from pyspark.ml.evaluation import ClusteringEvaluator\n",
    "\n",
    "df_taxi2 = (spark.read.csv('/mnt/data/public/nyctaxi/all/'\n",
    "                          'yellow_tripdata_2016-01.csv',\n",
    "                          header=True)\n",
    "                .limit(10000))\n",
    "df_taxi2 = (df_taxi2.withColumn('pickup_longitude', \n",
    "                                df_taxi2['pickup_longitude'].astype('float'))\n",
    "                    .withColumn('pickup_latitude', \n",
    "                                df_taxi2['pickup_latitude'].astype('float'))\n",
    "                    .cache())\n",
    "\n",
    "pipe = Pipeline(stages=[\n",
    "    VectorAssembler(inputCols=['pickup_longitude', 'pickup_latitude'],\n",
    "                    outputCol='features'),\n",
    "    KMeans(k=8)\n",
    "])\n",
    "\n",
    "model_trained = pipe.fit(df_taxi2)\n",
    "df_predict = model_trained.transform(df_taxi2)\n",
    "\n",
    "evaluator = ClusteringEvaluator()\n",
    "\n",
    "print('Silhouette score: ', evaluator.evaluate(df_predict))\n",
    "\n",
    "df_predict[['features', 'prediction']].show()"
   ]
  },
  {
   "cell_type": "markdown",
   "metadata": {},
   "source": [
    "## Hyperparameter tuning"
   ]
  },
  {
   "cell_type": "markdown",
   "metadata": {},
   "source": [
    "MLlib has support for cross-validation and grid search as well. For example, we can use it to pick the best value fo $k$ based on the silhouette coefficient."
   ]
  },
  {
   "cell_type": "code",
   "execution_count": 29,
   "metadata": {
    "ExecuteTime": {
     "end_time": "2022-02-25T15:58:39.341485Z",
     "start_time": "2022-02-25T15:58:24.371816Z"
    }
   },
   "outputs": [
    {
     "name": "stdout",
     "output_type": "stream",
     "text": [
      "k: The number of clusters to create. Must be > 1. (default: 2, current: 2)\n"
     ]
    }
   ],
   "source": [
    "from pyspark.ml.tuning import CrossValidator, ParamGridBuilder\n",
    "\n",
    "paramGrid = (ParamGridBuilder()\n",
    "                .addGrid(pipe.getStages()[-1].k, [2, 4, 8]) #add grid here specificies the variable you want to change\n",
    "                .build())\n",
    "\n",
    "cv = CrossValidator(estimator=pipe,\n",
    "                    estimatorParamMaps=paramGrid,\n",
    "                    evaluator=evaluator)\n",
    "cv_trained = cv.fit(df_taxi2)\n",
    "print(cv_trained.bestModel.stages[-1].explainParam('k'))"
   ]
  },
  {
   "cell_type": "code",
   "execution_count": 24,
   "metadata": {
    "ExecuteTime": {
     "end_time": "2022-03-07T07:50:02.738686Z",
     "start_time": "2022-03-07T07:50:02.728433Z"
    }
   },
   "outputs": [],
   "source": [
    "float?"
   ]
  },
  {
   "cell_type": "markdown",
   "metadata": {},
   "source": [
    "# Frequent itemset mining"
   ]
  },
  {
   "cell_type": "markdown",
   "metadata": {},
   "source": [
    "Unlike scikit-learn, MLlib has support for frequent itemset mining."
   ]
  },
  {
   "cell_type": "code",
   "execution_count": 30,
   "metadata": {
    "ExecuteTime": {
     "end_time": "2022-02-25T15:59:07.050955Z",
     "start_time": "2022-02-25T15:58:39.343319Z"
    }
   },
   "outputs": [
    {
     "name": "stderr",
     "output_type": "stream",
     "text": [
      "22/02/25 23:58:43 WARN FPGrowth: Input data is not cached.                      \n",
      "                                                                                \r"
     ]
    },
    {
     "name": "stdout",
     "output_type": "stream",
     "text": [
      "Frequent itemsets:\n"
     ]
    },
    {
     "name": "stderr",
     "output_type": "stream",
     "text": [
      "                                                                                \r"
     ]
    },
    {
     "name": "stdout",
     "output_type": "stream",
     "text": [
      "+---------------+----+\n",
      "|          items|freq|\n",
      "+---------------+----+\n",
      "|       [85123A]|2246|\n",
      "|        [22423]|2172|\n",
      "|       [85099B]|2135|\n",
      "|        [47566]|1706|\n",
      "|        [20725]|1608|\n",
      "|        [84879]|1468|\n",
      "|        [22720]|1462|\n",
      "|        [22197]|1442|\n",
      "|        [21212]|1334|\n",
      "|        [22383]|1306|\n",
      "|        [20727]|1295|\n",
      "|        [22457]|1266|\n",
      "|         [POST]|1254|\n",
      "|        [23203]|1249|\n",
      "|        [22386]|1231|\n",
      "|[22386, 85099B]| 833|\n",
      "|        [22960]|1220|\n",
      "|        [22469]|1214|\n",
      "|        [21931]|1201|\n",
      "|        [22411]|1187|\n",
      "+---------------+----+\n",
      "only showing top 20 rows\n",
      "\n",
      "Association rules:\n"
     ]
    },
    {
     "name": "stderr",
     "output_type": "stream",
     "text": [
      "                                                                                \r"
     ]
    },
    {
     "name": "stdout",
     "output_type": "stream",
     "text": [
      "+----------+----------+------------------+-----------------+-------------------+\n",
      "|antecedent|consequent|        confidence|             lift|            support|\n",
      "+----------+----------+------------------+-----------------+-------------------+\n",
      "|   [22699]|   [22697]|               0.7| 17.1523178807947|0.03027027027027027|\n",
      "|   [22386]|  [85099B]|0.6766856214459789| 8.20897311262335|0.03216216216216216|\n",
      "|  [85099B]|   [22386]|0.3901639344262295|8.208973112623351|0.03216216216216216|\n",
      "|   [22697]|   [22699]|0.7417218543046358| 17.1523178807947|0.03027027027027027|\n",
      "+----------+----------+------------------+-----------------+-------------------+\n",
      "\n",
      "Consequents from association rules:\n",
      "+---------+--------------------+----------+\n",
      "|InvoiceNo|               trans|prediction|\n",
      "+---------+--------------------+----------+\n",
      "|   536596|[22900, 22114, 84...|        []|\n",
      "|   536938|[22112, 21931, 84...|  [85099B]|\n",
      "|   537252|             [22197]|        []|\n",
      "|   537691|[22505, 46000R, 2...|        []|\n",
      "|   538041|             [22145]|        []|\n",
      "|   538184|[22561, 22147, 21...|        []|\n",
      "|   538517|[22749, 21212, 22...|        []|\n",
      "|   538879|[21212, 22759, 22...|        []|\n",
      "|   539275|[22083, 22150, 22...|        []|\n",
      "|   539630|[22111, 22971, 22...|   [22386]|\n",
      "|   540499|[22697, 22796, 21...|        []|\n",
      "|   540540|[22111, 22834, 22...|        []|\n",
      "|   540976|[22413, 21212, 22...|        []|\n",
      "|   541432|[22113, 22457, 21...|        []|\n",
      "|   541518|[21212, 22432, 22...|   [22386]|\n",
      "|   541783|[22561, 22697, 22...|        []|\n",
      "|   542026|[22398, 22194, 22...|        []|\n",
      "|   542375|[22629, 21731, 22...|        []|\n",
      "|   543641|[22645, 75131, 22...|        []|\n",
      "|   544303|[84596L, 22931, 8...|        []|\n",
      "+---------+--------------------+----------+\n",
      "only showing top 20 rows\n",
      "\n"
     ]
    }
   ],
   "source": [
    "from pyspark.sql.functions import collect_set\n",
    "from pyspark.ml.fpm import FPGrowth\n",
    "\n",
    "df_retail = spark.read.csv('/mnt/data/public/retaildata/Online Retail.csv',\n",
    "                           header=True)\n",
    "df_trans = (df_retail.groupby('InvoiceNo')\n",
    "                     .agg(collect_set('StockCode').alias('trans'))\n",
    "                     .cache())\n",
    "\n",
    "fpgrowth = FPGrowth(itemsCol=\"trans\", minSupport=0.03, minConfidence=0.1)\n",
    "fpgrowth_trained = fpgrowth.fit(df_trans)\n",
    "\n",
    "print('Frequent itemsets:')\n",
    "fpgrowth_trained.freqItemsets.show()\n",
    "\n",
    "print('Association rules:')\n",
    "fpgrowth_trained.associationRules.show()\n",
    "\n",
    "print('Consequents from association rules:')\n",
    "fpgrowth_trained.transform(df_trans).show()"
   ]
  },
  {
   "cell_type": "markdown",
   "metadata": {},
   "source": [
    "## Collaborative filtering"
   ]
  },
  {
   "cell_type": "markdown",
   "metadata": {},
   "source": [
    "MLlib has support for collaborative filtering using ALS with both implicit and explicit ratings."
   ]
  },
  {
   "cell_type": "code",
   "execution_count": 31,
   "metadata": {
    "ExecuteTime": {
     "end_time": "2022-02-25T15:59:14.173476Z",
     "start_time": "2022-02-25T15:59:07.052885Z"
    }
   },
   "outputs": [
    {
     "name": "stderr",
     "output_type": "stream",
     "text": [
      "22/02/25 23:59:08 WARN LAPACK: Failed to load implementation from: com.github.fommil.netlib.NativeSystemLAPACK\n",
      "22/02/25 23:59:08 WARN LAPACK: Failed to load implementation from: com.github.fommil.netlib.NativeRefLAPACK\n",
      "                                                                                \r"
     ]
    },
    {
     "name": "stdout",
     "output_type": "stream",
     "text": [
      "+------+--------------------+\n",
      "|userId|     recommendations|\n",
      "+------+--------------------+\n",
      "|     1|[{1231, 5.79897},...|\n",
      "|     3|[{3753, 6.3427973...|\n",
      "|     2|[{2353, 8.399177}...|\n",
      "+------+--------------------+\n",
      "\n"
     ]
    },
    {
     "name": "stderr",
     "output_type": "stream",
     "text": [
      "\r",
      "[Stage 971:============================================>         (82 + 4) / 100]\r",
      "\r",
      "                                                                                \r"
     ]
    },
    {
     "name": "stdout",
     "output_type": "stream",
     "text": [
      "+-------+--------------------+\n",
      "|movieId|     recommendations|\n",
      "+-------+--------------------+\n",
      "|     29|[{27, 3.0145586},...|\n",
      "|     32|[{81, 5.452299}, ...|\n",
      "|      2|[{52, 6.4459743},...|\n",
      "+-------+--------------------+\n",
      "\n"
     ]
    }
   ],
   "source": [
    "from pyspark.ml.recommendation import ALS\n",
    "\n",
    "df_ratings = (spark.read.csv('/mnt/data/public/movielens/20m/ml-20m/'\n",
    "                             'ratings.csv',\n",
    "                             header=True,\n",
    "                             schema=\"\"\"\n",
    "                             userId INT,\n",
    "                             movieId INT,\n",
    "                             rating FLOAT,\n",
    "                             timestamp INT\n",
    "                             \"\"\")\n",
    "                   .limit(10000)\n",
    "                   .cache())\n",
    "df_training, df_test = df_ratings.randomSplit([0.8, 0.2])\n",
    "\n",
    "als = ALS(maxIter=5, regParam=0.01, userCol=\"userId\", itemCol=\"movieId\", \n",
    "          ratingCol=\"rating\")\n",
    "als_trained = als.fit(df_training)\n",
    "\n",
    "df_predict = als_trained.transform(df_test)\n",
    "\n",
    "users = df_ratings.select(als.getUserCol()).distinct().limit(3)\n",
    "als_trained.recommendForUserSubset(users, 10).show()\n",
    "\n",
    "movies = df_ratings.select(als.getItemCol()).distinct().limit(3)\n",
    "als_trained.recommendForItemSubset(movies, 10).show()"
   ]
  },
  {
   "cell_type": "code",
   "execution_count": null,
   "metadata": {},
   "outputs": [],
   "source": []
  }
 ],
 "metadata": {
  "hide_input": false,
  "kernelspec": {
   "display_name": "Python 3 (ipykernel)",
   "language": "python",
   "name": "python3"
  },
  "language_info": {
   "codemirror_mode": {
    "name": "ipython",
    "version": 3
   },
   "file_extension": ".py",
   "mimetype": "text/x-python",
   "name": "python",
   "nbconvert_exporter": "python",
   "pygments_lexer": "ipython3",
   "version": "3.9.6"
  },
  "nbpresent": {
   "slides": {
    "02de6566-8082-40e9-bafa-b450c01b3828": {
     "id": "02de6566-8082-40e9-bafa-b450c01b3828",
     "prev": "3aad0de1-3309-42ee-9d16-b72bfe66e674",
     "regions": {
      "1efc840a-230c-40ed-8fa6-f09db93c8f02": {
       "attrs": {
        "height": 0.8,
        "width": 0.8,
        "x": 0.1,
        "y": 0.1
       },
       "content": {
        "cell": "8ac63190-2ac8-4219-935e-e0230ae2ddf4",
        "part": "whole"
       },
       "id": "1efc840a-230c-40ed-8fa6-f09db93c8f02"
      }
     }
    },
    "076e88cf-193e-4b25-9816-c43b5adcd91b": {
     "id": "076e88cf-193e-4b25-9816-c43b5adcd91b",
     "prev": "c507e317-9f60-43c2-8844-81bc64f6ce36",
     "regions": {
      "37ece99d-cace-4cca-ab34-e45546884fad": {
       "attrs": {
        "height": 0.8,
        "width": 0.8,
        "x": 0.1,
        "y": 0.1
       },
       "content": {
        "cell": "e6ed5ba2-76a1-43e4-9573-ba539c42c609",
        "part": "whole"
       },
       "id": "37ece99d-cace-4cca-ab34-e45546884fad"
      }
     }
    },
    "0a44ef63-18ba-4327-a454-a62c46a86058": {
     "id": "0a44ef63-18ba-4327-a454-a62c46a86058",
     "prev": "b9b24b55-c959-4912-a7ce-f6fc20ad184b",
     "regions": {
      "81e5cc8f-f02c-4171-8700-1538537f7dc4": {
       "attrs": {
        "height": 0.8,
        "width": 0.8,
        "x": 0.1,
        "y": 0.1
       },
       "content": {
        "cell": "d62e6f59-ae61-41ec-80e4-69dd921a0377",
        "part": "whole"
       },
       "id": "81e5cc8f-f02c-4171-8700-1538537f7dc4"
      }
     }
    },
    "1186aac9-64ee-4e3c-abc5-9279241ec2d7": {
     "id": "1186aac9-64ee-4e3c-abc5-9279241ec2d7",
     "prev": "e68831df-cc4a-4633-a39e-2f2b101ff062",
     "regions": {
      "346a319c-5506-4a68-9665-6a9631b0b713": {
       "attrs": {
        "height": 0.8,
        "width": 0.8,
        "x": 0.1,
        "y": 0.1
       },
       "content": {
        "cell": "ffb931be-7452-4414-91b1-701d0350311d",
        "part": "whole"
       },
       "id": "346a319c-5506-4a68-9665-6a9631b0b713"
      }
     }
    },
    "12a6da93-0592-4701-a3ed-a54f0974e925": {
     "id": "12a6da93-0592-4701-a3ed-a54f0974e925",
     "prev": "56366b4f-2a25-4d6f-b86e-aa6ed1a572fa",
     "regions": {
      "e7872629-148c-48ba-96a1-f10076ed9ec1": {
       "attrs": {
        "height": 0.8,
        "width": 0.8,
        "x": 0.1,
        "y": 0.1
       },
       "content": {
        "cell": "956d8bd1-6f8e-4f07-a593-0faeec6d52f6",
        "part": "whole"
       },
       "id": "e7872629-148c-48ba-96a1-f10076ed9ec1"
      }
     }
    },
    "1692934e-02d5-462e-b4fd-4f293780eabd": {
     "id": "1692934e-02d5-462e-b4fd-4f293780eabd",
     "prev": "f6a94b54-7d1e-47c2-8fcf-f8d5dd69505a",
     "regions": {
      "cced6479-98b0-427c-8cb0-6883ecffdcd9": {
       "attrs": {
        "height": 0.8,
        "width": 0.8,
        "x": 0.1,
        "y": 0.1
       },
       "content": {
        "cell": "8fe4c91d-3f4f-47a8-bc90-d1bc42304f1e",
        "part": "whole"
       },
       "id": "cced6479-98b0-427c-8cb0-6883ecffdcd9"
      }
     }
    },
    "26bbe93b-70fe-4b55-af66-338ef1d65327": {
     "id": "26bbe93b-70fe-4b55-af66-338ef1d65327",
     "prev": "8431d2bf-5903-4305-8ea1-de4e035ca3ed",
     "regions": {
      "1dcf3a99-ca55-4dd8-977f-3981174af8b9": {
       "attrs": {
        "height": 0.8,
        "width": 0.8,
        "x": 0.1,
        "y": 0.1
       },
       "content": {
        "cell": "bbfee15d-b3ec-4936-ae0e-319783375aee",
        "part": "whole"
       },
       "id": "1dcf3a99-ca55-4dd8-977f-3981174af8b9"
      }
     }
    },
    "2d4a0f0a-f947-470e-81ab-ed4197fccdc6": {
     "id": "2d4a0f0a-f947-470e-81ab-ed4197fccdc6",
     "prev": "e7c9384e-8d06-4862-9a6a-780930bb9853",
     "regions": {
      "4d577430-9299-4878-a0f8-52fc23c61a8a": {
       "attrs": {
        "height": 0.8,
        "width": 0.8,
        "x": 0.1,
        "y": 0.1
       },
       "content": {
        "cell": "04821a13-05dd-4cd2-bd56-2912fa71d3e8",
        "part": "whole"
       },
       "id": "4d577430-9299-4878-a0f8-52fc23c61a8a"
      }
     }
    },
    "31e1dbf6-122a-4aff-93c4-7fe65fd7df81": {
     "id": "31e1dbf6-122a-4aff-93c4-7fe65fd7df81",
     "prev": "1692934e-02d5-462e-b4fd-4f293780eabd",
     "regions": {
      "de4674ae-1b9b-4ba6-a5a0-2ce398d56fdd": {
       "attrs": {
        "height": 0.8,
        "width": 0.8,
        "x": 0.1,
        "y": 0.1
       },
       "content": {
        "cell": "e4e4b066-9d2e-49e4-b073-5615d4ccf158",
        "part": "whole"
       },
       "id": "de4674ae-1b9b-4ba6-a5a0-2ce398d56fdd"
      }
     }
    },
    "34e965c0-ac02-4138-91e1-f5d7ee677e9b": {
     "id": "34e965c0-ac02-4138-91e1-f5d7ee677e9b",
     "prev": "d5a8b549-e137-4127-8877-7cb5b44e0351",
     "regions": {
      "63329b0e-ac8d-40ae-9769-a0db09c42c6c": {
       "attrs": {
        "height": 0.8,
        "width": 0.8,
        "x": 0.1,
        "y": 0.1
       },
       "content": {
        "cell": "1a7b1dc7-dfae-4e20-8cb8-c1a7af9bfb32",
        "part": "whole"
       },
       "id": "63329b0e-ac8d-40ae-9769-a0db09c42c6c"
      }
     }
    },
    "3843f511-a1c6-4085-aa6e-2bc69bf4f816": {
     "id": "3843f511-a1c6-4085-aa6e-2bc69bf4f816",
     "prev": "a681f72d-4744-4b70-90d5-a8d49606a76a",
     "regions": {
      "49773f32-6745-4630-8a45-5abe6680dfbd": {
       "attrs": {
        "height": 0.8,
        "width": 0.8,
        "x": 0.1,
        "y": 0.1
       },
       "content": {
        "cell": "fced74f7-86f9-4caa-8109-4a9a7ef2e0f4",
        "part": "whole"
       },
       "id": "49773f32-6745-4630-8a45-5abe6680dfbd"
      }
     }
    },
    "39028734-bcf4-4daa-9b99-6228702fb929": {
     "id": "39028734-bcf4-4daa-9b99-6228702fb929",
     "prev": null,
     "regions": {}
    },
    "3aad0de1-3309-42ee-9d16-b72bfe66e674": {
     "id": "3aad0de1-3309-42ee-9d16-b72bfe66e674",
     "prev": "6dddcb64-22cd-4aff-b618-98d27075fffc",
     "regions": {
      "c8bdf3d7-0d14-48bc-905c-125d036edbbc": {
       "attrs": {
        "height": 0.8,
        "width": 0.8,
        "x": 0.1,
        "y": 0.1
       },
       "content": {
        "cell": "2ef327da-fe14-49ef-b070-88f3ccef31da",
        "part": "whole"
       },
       "id": "c8bdf3d7-0d14-48bc-905c-125d036edbbc"
      }
     }
    },
    "43029087-444f-4141-b828-c73ec2f30c2a": {
     "id": "43029087-444f-4141-b828-c73ec2f30c2a",
     "prev": "076e88cf-193e-4b25-9816-c43b5adcd91b",
     "regions": {
      "e08fe886-88b1-414e-9969-bd9ce1d92197": {
       "attrs": {
        "height": 0.8,
        "width": 0.8,
        "x": 0.1,
        "y": 0.1
       },
       "content": {
        "cell": "37c59ac1-b0e5-41d4-9d1d-01652153263c",
        "part": "whole"
       },
       "id": "e08fe886-88b1-414e-9969-bd9ce1d92197"
      }
     }
    },
    "4c302b17-bdaa-49c3-acc8-d27220d35e97": {
     "id": "4c302b17-bdaa-49c3-acc8-d27220d35e97",
     "prev": "ac3bbb8f-948e-4618-83e0-543cc1d5d27a",
     "regions": {
      "b8d0b3bf-c458-46b8-aaee-5bae3e0ab306": {
       "attrs": {
        "height": 0.8,
        "width": 0.8,
        "x": 0.1,
        "y": 0.1
       },
       "content": {
        "cell": "bdfbf3b0-b4ef-4230-b560-aa9bd3230cf7",
        "part": "whole"
       },
       "id": "b8d0b3bf-c458-46b8-aaee-5bae3e0ab306"
      }
     }
    },
    "51b6859f-8cfe-476f-9fac-d81d3f7c12b6": {
     "id": "51b6859f-8cfe-476f-9fac-d81d3f7c12b6",
     "prev": "e91a111c-8e3b-428d-b807-49d16b6d59f5",
     "regions": {
      "321e3441-fe67-4ec9-bbdf-59e8982efe9d": {
       "attrs": {
        "height": 0.8,
        "width": 0.8,
        "x": 0.1,
        "y": 0.1
       },
       "content": {
        "cell": "906de3d2-aabe-4327-866e-a963aff55e49",
        "part": "whole"
       },
       "id": "321e3441-fe67-4ec9-bbdf-59e8982efe9d"
      }
     }
    },
    "523a9125-6d09-43d6-bc63-915176c1c0dc": {
     "id": "523a9125-6d09-43d6-bc63-915176c1c0dc",
     "prev": "12a6da93-0592-4701-a3ed-a54f0974e925",
     "regions": {
      "7d6c7ae4-dc0c-4b94-8b70-e7a2131317cc": {
       "attrs": {
        "height": 0.8,
        "width": 0.8,
        "x": 0.1,
        "y": 0.1
       },
       "content": {
        "cell": "b41631f8-d032-4276-b2a3-a878e981e2fc",
        "part": "whole"
       },
       "id": "7d6c7ae4-dc0c-4b94-8b70-e7a2131317cc"
      }
     }
    },
    "5291f3da-9dd6-40b8-9247-6e0c478960ad": {
     "id": "5291f3da-9dd6-40b8-9247-6e0c478960ad",
     "prev": "39028734-bcf4-4daa-9b99-6228702fb929",
     "regions": {
      "a0b430b0-1fd8-435a-8b88-0ff70bc19264": {
       "attrs": {
        "height": 0.8,
        "width": 0.8,
        "x": 0.1,
        "y": 0.1
       },
       "content": {
        "cell": "f086c6e8-7ca8-4d56-8af1-0d70fd6b866c",
        "part": "whole"
       },
       "id": "a0b430b0-1fd8-435a-8b88-0ff70bc19264"
      }
     }
    },
    "56366b4f-2a25-4d6f-b86e-aa6ed1a572fa": {
     "id": "56366b4f-2a25-4d6f-b86e-aa6ed1a572fa",
     "prev": "72031c13-221a-49c6-916b-5e55538cf744",
     "regions": {
      "b19b2c69-5e2c-4d1c-bf17-7c3a0df42275": {
       "attrs": {
        "height": 0.8,
        "width": 0.8,
        "x": 0.1,
        "y": 0.1
       },
       "content": {
        "cell": "91573eca-e231-4217-9f89-d1f3eed7c1a4",
        "part": "whole"
       },
       "id": "b19b2c69-5e2c-4d1c-bf17-7c3a0df42275"
      }
     }
    },
    "5661c0ac-156b-49f8-9a53-c7eda8ff5a59": {
     "id": "5661c0ac-156b-49f8-9a53-c7eda8ff5a59",
     "prev": "dcddeba5-08a4-403c-bd38-5c6d3985da9a",
     "regions": {
      "500f275a-d1d2-4d95-af69-f10859308882": {
       "attrs": {
        "height": 0.8,
        "width": 0.8,
        "x": 0.1,
        "y": 0.1
       },
       "content": {
        "cell": "fa7f93cb-eaa8-420c-b5a9-959940c3f5e2",
        "part": "whole"
       },
       "id": "500f275a-d1d2-4d95-af69-f10859308882"
      }
     }
    },
    "5cd923b3-b7af-4b5f-a6c6-aed9f41befb9": {
     "id": "5cd923b3-b7af-4b5f-a6c6-aed9f41befb9",
     "prev": "7c91787a-1760-4903-8e15-4c817cd41360",
     "regions": {
      "51a6d662-415b-4902-accd-82634185dcad": {
       "attrs": {
        "height": 0.8,
        "width": 0.8,
        "x": 0.1,
        "y": 0.1
       },
       "content": {
        "cell": "17f1243a-c265-438a-ba2f-b4629a90720f",
        "part": "whole"
       },
       "id": "51a6d662-415b-4902-accd-82634185dcad"
      }
     }
    },
    "61a941ca-5b92-4a2a-a8cf-ffd191403b83": {
     "id": "61a941ca-5b92-4a2a-a8cf-ffd191403b83",
     "prev": "d505076a-ad24-4dbc-881a-d84841901a03",
     "regions": {
      "1ca5df0d-875c-4d7c-be56-b22dcbbc9401": {
       "attrs": {
        "height": 0.8,
        "width": 0.8,
        "x": 0.1,
        "y": 0.1
       },
       "content": {
        "cell": "13cae043-0809-4382-9b34-6b35f41a858b",
        "part": "whole"
       },
       "id": "1ca5df0d-875c-4d7c-be56-b22dcbbc9401"
      }
     }
    },
    "66826f31-e3f5-4350-8236-4b7c9eedf76e": {
     "id": "66826f31-e3f5-4350-8236-4b7c9eedf76e",
     "prev": "87789d6b-e1a1-4b02-801f-dd013d36e9d1",
     "regions": {
      "ab5dcc70-0509-4c19-a745-972986c543e8": {
       "attrs": {
        "height": 0.8,
        "width": 0.8,
        "x": 0.1,
        "y": 0.1
       },
       "content": {
        "cell": "f85477b3-6864-4948-98f9-19517c6e2182",
        "part": "whole"
       },
       "id": "ab5dcc70-0509-4c19-a745-972986c543e8"
      }
     }
    },
    "66971f0c-e69b-40f3-9e0a-3cb3859b7ad3": {
     "id": "66971f0c-e69b-40f3-9e0a-3cb3859b7ad3",
     "prev": "02de6566-8082-40e9-bafa-b450c01b3828",
     "regions": {
      "eb88dc5c-2ea3-40f4-b2a9-2142014d8418": {
       "attrs": {
        "height": 0.8,
        "width": 0.8,
        "x": 0.1,
        "y": 0.1
       },
       "content": {
        "cell": "a9d0109d-05d5-41b8-bf4e-742246d3b2c5",
        "part": "whole"
       },
       "id": "eb88dc5c-2ea3-40f4-b2a9-2142014d8418"
      }
     }
    },
    "66e28a8f-8cbe-472b-a5ab-2769cc26c979": {
     "id": "66e28a8f-8cbe-472b-a5ab-2769cc26c979",
     "prev": "7e68b1c5-bd62-4748-8110-845a4d9b3982",
     "regions": {
      "d92fec17-7df7-4f8d-8ed9-7a2da28e02f3": {
       "attrs": {
        "height": 0.8,
        "width": 0.8,
        "x": 0.1,
        "y": 0.1
       },
       "content": {
        "cell": "776f57fe-4da5-4b04-975a-099965bd788e",
        "part": "whole"
       },
       "id": "d92fec17-7df7-4f8d-8ed9-7a2da28e02f3"
      }
     }
    },
    "675cacd9-5db2-4d24-b21a-c4ceb7c6c92d": {
     "id": "675cacd9-5db2-4d24-b21a-c4ceb7c6c92d",
     "prev": "66e28a8f-8cbe-472b-a5ab-2769cc26c979",
     "regions": {
      "ae62d65a-d283-4d98-9868-0b0143121242": {
       "attrs": {
        "height": 0.8,
        "width": 0.8,
        "x": 0.1,
        "y": 0.1
       },
       "content": {
        "cell": "dc5b50d8-bba6-4e15-8d8a-1873c46038a3",
        "part": "whole"
       },
       "id": "ae62d65a-d283-4d98-9868-0b0143121242"
      }
     }
    },
    "6cb10c56-d05a-46e3-a9b6-dd9521d0d60b": {
     "id": "6cb10c56-d05a-46e3-a9b6-dd9521d0d60b",
     "prev": "e508d39f-db24-4a11-8bae-bd51397ab97d",
     "regions": {
      "f954cb23-4bf8-4b5c-a3e0-bda9f195cb6c": {
       "attrs": {
        "height": 0.8,
        "width": 0.8,
        "x": 0.1,
        "y": 0.1
       },
       "content": {
        "cell": "4bc76f67-bef4-497c-b2c6-006b4c462458",
        "part": "whole"
       },
       "id": "f954cb23-4bf8-4b5c-a3e0-bda9f195cb6c"
      }
     }
    },
    "6dddcb64-22cd-4aff-b618-98d27075fffc": {
     "id": "6dddcb64-22cd-4aff-b618-98d27075fffc",
     "prev": "716c3e95-1653-4bc7-8138-8d284b85641f",
     "regions": {
      "1d2e2ef0-9089-4b0d-b49b-937c4960c02f": {
       "attrs": {
        "height": 0.8,
        "width": 0.8,
        "x": 0.1,
        "y": 0.1
       },
       "content": {
        "cell": "0b072757-f7c8-4534-8942-e7b61735fdb9",
        "part": "whole"
       },
       "id": "1d2e2ef0-9089-4b0d-b49b-937c4960c02f"
      }
     }
    },
    "716c3e95-1653-4bc7-8138-8d284b85641f": {
     "id": "716c3e95-1653-4bc7-8138-8d284b85641f",
     "prev": "f9c2f07f-8e6a-432b-9264-d594140dc92c",
     "regions": {
      "c6550d9c-78c9-428e-bead-49493b3e2369": {
       "attrs": {
        "height": 0.8,
        "width": 0.8,
        "x": 0.1,
        "y": 0.1
       },
       "content": {
        "cell": "53970654-91fc-44e5-aeb9-94b7a55f8298",
        "part": "whole"
       },
       "id": "c6550d9c-78c9-428e-bead-49493b3e2369"
      }
     }
    },
    "72031c13-221a-49c6-916b-5e55538cf744": {
     "id": "72031c13-221a-49c6-916b-5e55538cf744",
     "prev": "34e965c0-ac02-4138-91e1-f5d7ee677e9b",
     "regions": {
      "6318af36-5d1f-4984-9b3a-e752ef867286": {
       "attrs": {
        "height": 0.8,
        "width": 0.8,
        "x": 0.1,
        "y": 0.1
       },
       "content": {
        "cell": "174372c4-f8f5-412f-a17c-f5c58067e50e",
        "part": "whole"
       },
       "id": "6318af36-5d1f-4984-9b3a-e752ef867286"
      }
     }
    },
    "7c91787a-1760-4903-8e15-4c817cd41360": {
     "id": "7c91787a-1760-4903-8e15-4c817cd41360",
     "prev": "5661c0ac-156b-49f8-9a53-c7eda8ff5a59",
     "regions": {
      "549a1a75-0eaa-4011-b4ea-11cb21265705": {
       "attrs": {
        "height": 0.8,
        "width": 0.8,
        "x": 0.1,
        "y": 0.1
       },
       "content": {
        "cell": "387b10a9-35c7-46ed-a37d-5b1c63be5c7b",
        "part": "whole"
       },
       "id": "549a1a75-0eaa-4011-b4ea-11cb21265705"
      }
     }
    },
    "7e68b1c5-bd62-4748-8110-845a4d9b3982": {
     "id": "7e68b1c5-bd62-4748-8110-845a4d9b3982",
     "prev": "2d4a0f0a-f947-470e-81ab-ed4197fccdc6",
     "regions": {
      "1250e314-5723-46b0-95c4-1f40912b26bf": {
       "attrs": {
        "height": 0.8,
        "width": 0.8,
        "x": 0.1,
        "y": 0.1
       },
       "content": {
        "cell": "850f7d9e-6686-46c1-a290-0c71ff92533d",
        "part": "whole"
       },
       "id": "1250e314-5723-46b0-95c4-1f40912b26bf"
      }
     }
    },
    "827aaac4-abe9-48d2-bbc3-2af79bdaf8e6": {
     "id": "827aaac4-abe9-48d2-bbc3-2af79bdaf8e6",
     "prev": "f5fcf434-2f39-4e35-a3d2-08638a36dc59",
     "regions": {
      "7861a182-ea6e-4723-8d20-a6e8a71e8412": {
       "attrs": {
        "height": 0.8,
        "width": 0.8,
        "x": 0.1,
        "y": 0.1
       },
       "content": {
        "cell": "0985549b-8cfe-4284-8248-6848ad392c99",
        "part": "whole"
       },
       "id": "7861a182-ea6e-4723-8d20-a6e8a71e8412"
      }
     }
    },
    "8431d2bf-5903-4305-8ea1-de4e035ca3ed": {
     "id": "8431d2bf-5903-4305-8ea1-de4e035ca3ed",
     "prev": "944c1639-8d20-4839-b546-b2c53852be25",
     "regions": {
      "14a03a87-6f48-4b81-bb23-9208209626ca": {
       "attrs": {
        "height": 0.8,
        "width": 0.8,
        "x": 0.1,
        "y": 0.1
       },
       "content": {
        "cell": "3b85ae9d-9caf-486d-9996-ae923ff0701b",
        "part": "whole"
       },
       "id": "14a03a87-6f48-4b81-bb23-9208209626ca"
      }
     }
    },
    "856b5eee-c573-4878-8979-edb37b5ea163": {
     "id": "856b5eee-c573-4878-8979-edb37b5ea163",
     "prev": "86dcf003-484a-4191-beef-e414a64a7bad",
     "regions": {
      "d704ab0a-4fd6-4eb2-92ef-b8972d536fbf": {
       "attrs": {
        "height": 0.8,
        "width": 0.8,
        "x": 0.1,
        "y": 0.1
       },
       "content": {
        "cell": "bf65026a-5760-44fd-b033-62953c767620",
        "part": "whole"
       },
       "id": "d704ab0a-4fd6-4eb2-92ef-b8972d536fbf"
      }
     }
    },
    "86dcf003-484a-4191-beef-e414a64a7bad": {
     "id": "86dcf003-484a-4191-beef-e414a64a7bad",
     "prev": "0a44ef63-18ba-4327-a454-a62c46a86058",
     "regions": {
      "7817861a-d21a-47d0-820b-c9e780f36780": {
       "attrs": {
        "height": 0.8,
        "width": 0.8,
        "x": 0.1,
        "y": 0.1
       },
       "content": {
        "cell": "32c4fcb6-6250-4575-8f00-251d443f4e11",
        "part": "whole"
       },
       "id": "7817861a-d21a-47d0-820b-c9e780f36780"
      }
     }
    },
    "87789d6b-e1a1-4b02-801f-dd013d36e9d1": {
     "id": "87789d6b-e1a1-4b02-801f-dd013d36e9d1",
     "prev": "988443e3-bd6f-4fb7-b67d-9dc59860cfb6",
     "regions": {
      "32c874b0-0e24-4565-a12b-6e08c5733afb": {
       "attrs": {
        "height": 0.8,
        "width": 0.8,
        "x": 0.1,
        "y": 0.1
       },
       "content": {
        "cell": "c55bcb20-312f-462f-bfac-02bb86c3f125",
        "part": "whole"
       },
       "id": "32c874b0-0e24-4565-a12b-6e08c5733afb"
      }
     }
    },
    "877ebe1e-8b48-44e7-8a77-2805a8d54318": {
     "id": "877ebe1e-8b48-44e7-8a77-2805a8d54318",
     "prev": "3843f511-a1c6-4085-aa6e-2bc69bf4f816",
     "regions": {
      "006492ed-f492-421a-99d1-cc4f9452b957": {
       "attrs": {
        "height": 0.8,
        "width": 0.8,
        "x": 0.1,
        "y": 0.1
       },
       "content": {
        "cell": "8dd8e0cd-b411-40fb-9a96-1256fcb655b6",
        "part": "whole"
       },
       "id": "006492ed-f492-421a-99d1-cc4f9452b957"
      }
     }
    },
    "8a974065-cd33-4a45-879c-620f29a7ecd1": {
     "id": "8a974065-cd33-4a45-879c-620f29a7ecd1",
     "prev": "8d8470da-de2d-48f1-a285-bc5bf53d7e9a",
     "regions": {
      "93c38730-e493-4145-ac2c-85e3ae835c16": {
       "attrs": {
        "height": 0.8,
        "width": 0.8,
        "x": 0.1,
        "y": 0.1
       },
       "content": {
        "cell": "c584ba69-69cf-4c2e-b4a8-946b558f6fe8",
        "part": "whole"
       },
       "id": "93c38730-e493-4145-ac2c-85e3ae835c16"
      }
     }
    },
    "8d8470da-de2d-48f1-a285-bc5bf53d7e9a": {
     "id": "8d8470da-de2d-48f1-a285-bc5bf53d7e9a",
     "prev": "675cacd9-5db2-4d24-b21a-c4ceb7c6c92d",
     "regions": {
      "3e889580-0956-43ef-b356-7124715cc21a": {
       "attrs": {
        "height": 0.8,
        "width": 0.8,
        "x": 0.1,
        "y": 0.1
       },
       "content": {
        "cell": "79d87f4f-3b21-461e-acb6-4cc7925e5613",
        "part": "whole"
       },
       "id": "3e889580-0956-43ef-b356-7124715cc21a"
      }
     }
    },
    "90be7e05-6add-4d0b-8c37-600ba5edcb36": {
     "id": "90be7e05-6add-4d0b-8c37-600ba5edcb36",
     "prev": "d38adb55-bf0b-4535-8257-57d3f7cec751",
     "regions": {
      "b36ade70-0888-4ff1-9b11-e183b1d63a78": {
       "attrs": {
        "height": 0.8,
        "width": 0.8,
        "x": 0.1,
        "y": 0.1
       },
       "content": {
        "cell": "c637e60d-9f64-493c-bc30-f5d522ef4c2c",
        "part": "whole"
       },
       "id": "b36ade70-0888-4ff1-9b11-e183b1d63a78"
      }
     }
    },
    "944c1639-8d20-4839-b546-b2c53852be25": {
     "id": "944c1639-8d20-4839-b546-b2c53852be25",
     "prev": "66971f0c-e69b-40f3-9e0a-3cb3859b7ad3",
     "regions": {
      "5a8d7394-a3f1-4577-b4d6-ea1f1b375337": {
       "attrs": {
        "height": 0.8,
        "width": 0.8,
        "x": 0.1,
        "y": 0.1
       },
       "content": {
        "cell": "f8ad5ddc-6bcf-41c2-8b08-acd2a33247ec",
        "part": "whole"
       },
       "id": "5a8d7394-a3f1-4577-b4d6-ea1f1b375337"
      }
     }
    },
    "988443e3-bd6f-4fb7-b67d-9dc59860cfb6": {
     "id": "988443e3-bd6f-4fb7-b67d-9dc59860cfb6",
     "prev": "43029087-444f-4141-b828-c73ec2f30c2a",
     "regions": {
      "a4f71b73-6a5f-4b80-bec9-e6c2190aefd1": {
       "attrs": {
        "height": 0.8,
        "width": 0.8,
        "x": 0.1,
        "y": 0.1
       },
       "content": {
        "cell": "b5e376ae-b147-4722-a971-71ac1ced9aeb",
        "part": "whole"
       },
       "id": "a4f71b73-6a5f-4b80-bec9-e6c2190aefd1"
      }
     }
    },
    "9ce60222-a9aa-4b91-be7b-af9c1a9e772b": {
     "id": "9ce60222-a9aa-4b91-be7b-af9c1a9e772b",
     "prev": "31e1dbf6-122a-4aff-93c4-7fe65fd7df81",
     "regions": {
      "919d6bba-fd93-49fc-a2f3-9a9223d30ba0": {
       "attrs": {
        "height": 0.8,
        "width": 0.8,
        "x": 0.1,
        "y": 0.1
       },
       "content": {
        "cell": "c3229429-a4f5-4a10-ad1e-ddd85195a0be",
        "part": "whole"
       },
       "id": "919d6bba-fd93-49fc-a2f3-9a9223d30ba0"
      }
     }
    },
    "a5b79b28-b95c-4d68-8dec-750d44578d25": {
     "id": "a5b79b28-b95c-4d68-8dec-750d44578d25",
     "prev": "f3c3d9b8-52be-468c-a2b4-cf20c2009d87",
     "regions": {
      "d8f38db8-99c8-4118-a250-1cef927a82ec": {
       "attrs": {
        "height": 0.8,
        "width": 0.8,
        "x": 0.1,
        "y": 0.1
       },
       "content": {
        "cell": "00a8ba09-f84a-4277-b5a7-d2bc791fe624",
        "part": "whole"
       },
       "id": "d8f38db8-99c8-4118-a250-1cef927a82ec"
      }
     }
    },
    "a681f72d-4744-4b70-90d5-a8d49606a76a": {
     "id": "a681f72d-4744-4b70-90d5-a8d49606a76a",
     "prev": "827aaac4-abe9-48d2-bbc3-2af79bdaf8e6",
     "regions": {
      "e3f94bfb-5344-453e-9067-ba4dd6808b93": {
       "attrs": {
        "height": 0.8,
        "width": 0.8,
        "x": 0.1,
        "y": 0.1
       },
       "content": {
        "cell": "35a3aed6-ae1e-4b3f-9fdd-6a2f15f83a17",
        "part": "whole"
       },
       "id": "e3f94bfb-5344-453e-9067-ba4dd6808b93"
      }
     }
    },
    "ac3bbb8f-948e-4618-83e0-543cc1d5d27a": {
     "id": "ac3bbb8f-948e-4618-83e0-543cc1d5d27a",
     "prev": "9ce60222-a9aa-4b91-be7b-af9c1a9e772b",
     "regions": {
      "17805ee1-5e45-45e9-9e28-97992d8233e3": {
       "attrs": {
        "height": 0.8,
        "width": 0.8,
        "x": 0.1,
        "y": 0.1
       },
       "content": {
        "cell": "aca0c976-31ce-4614-bee5-3064457dc5e0",
        "part": "whole"
       },
       "id": "17805ee1-5e45-45e9-9e28-97992d8233e3"
      }
     }
    },
    "b9b24b55-c959-4912-a7ce-f6fc20ad184b": {
     "id": "b9b24b55-c959-4912-a7ce-f6fc20ad184b",
     "prev": "a5b79b28-b95c-4d68-8dec-750d44578d25",
     "regions": {
      "3d5ad1b3-be7c-4044-958b-566d045b1b10": {
       "attrs": {
        "height": 0.8,
        "width": 0.8,
        "x": 0.1,
        "y": 0.1
       },
       "content": {
        "cell": "b6021c2f-4760-48e0-a86c-feb2a50b3791",
        "part": "whole"
       },
       "id": "3d5ad1b3-be7c-4044-958b-566d045b1b10"
      }
     }
    },
    "c10162d8-3fd7-4db2-bc97-98d6e612b809": {
     "id": "c10162d8-3fd7-4db2-bc97-98d6e612b809",
     "prev": "1186aac9-64ee-4e3c-abc5-9279241ec2d7",
     "regions": {
      "c5cde4e8-64a5-4152-8035-2cfb086e6ec6": {
       "attrs": {
        "height": 0.8,
        "width": 0.8,
        "x": 0.1,
        "y": 0.1
       },
       "content": {
        "cell": "6ec63bea-053d-440e-9e5f-7daa54e2be09",
        "part": "whole"
       },
       "id": "c5cde4e8-64a5-4152-8035-2cfb086e6ec6"
      }
     }
    },
    "c11ff1f7-2467-4adb-b844-4e1bc08313fd": {
     "id": "c11ff1f7-2467-4adb-b844-4e1bc08313fd",
     "prev": "d8cd0b78-805f-4604-98e6-c41608e11021",
     "regions": {
      "20ed2e29-5bb7-49ce-806a-b8956e3e5162": {
       "attrs": {
        "height": 0.8,
        "width": 0.8,
        "x": 0.1,
        "y": 0.1
       },
       "content": {
        "cell": "31c4caa3-a819-435c-84d1-cbc6b2435a20",
        "part": "whole"
       },
       "id": "20ed2e29-5bb7-49ce-806a-b8956e3e5162"
      }
     }
    },
    "c507e317-9f60-43c2-8844-81bc64f6ce36": {
     "id": "c507e317-9f60-43c2-8844-81bc64f6ce36",
     "prev": "6cb10c56-d05a-46e3-a9b6-dd9521d0d60b",
     "regions": {
      "2872daf2-380c-46d6-a4ab-c26385fa22ad": {
       "attrs": {
        "height": 0.8,
        "width": 0.8,
        "x": 0.1,
        "y": 0.1
       },
       "content": {
        "cell": "5c4f24db-f910-45a9-9a0a-f7bdeb6ed758",
        "part": "whole"
       },
       "id": "2872daf2-380c-46d6-a4ab-c26385fa22ad"
      }
     }
    },
    "cf154407-7718-4462-9fae-c1ae73cf539a": {
     "id": "cf154407-7718-4462-9fae-c1ae73cf539a",
     "prev": "fb4249a3-aaff-4039-8526-6412f6ac0608",
     "regions": {
      "b6708e81-0363-4585-a7a9-e1b1c0409c22": {
       "attrs": {
        "height": 0.8,
        "width": 0.8,
        "x": 0.1,
        "y": 0.1
       },
       "content": {
        "cell": "2620149a-9b9c-401b-b027-76808a24ca97",
        "part": "whole"
       },
       "id": "b6708e81-0363-4585-a7a9-e1b1c0409c22"
      }
     }
    },
    "d2982312-4c14-41f7-a753-212c82722747": {
     "id": "d2982312-4c14-41f7-a753-212c82722747",
     "prev": "e7e246d7-4383-4ca4-9101-73ae03674ac2",
     "regions": {
      "2e28fb12-0d65-4bc7-9b09-0c2da1d33647": {
       "attrs": {
        "height": 0.8,
        "width": 0.8,
        "x": 0.1,
        "y": 0.1
       },
       "content": {
        "cell": "ffc56a81-01dc-41ab-9819-82c1002d2231",
        "part": "whole"
       },
       "id": "2e28fb12-0d65-4bc7-9b09-0c2da1d33647"
      }
     }
    },
    "d38adb55-bf0b-4535-8257-57d3f7cec751": {
     "id": "d38adb55-bf0b-4535-8257-57d3f7cec751",
     "prev": "d2982312-4c14-41f7-a753-212c82722747",
     "regions": {
      "005f9f3e-ca16-4dc8-b7fa-e5087bc41802": {
       "attrs": {
        "height": 0.8,
        "width": 0.8,
        "x": 0.1,
        "y": 0.1
       },
       "content": {
        "cell": "5a05a1a6-3da5-4ece-bc84-4f0c77466a51",
        "part": "whole"
       },
       "id": "005f9f3e-ca16-4dc8-b7fa-e5087bc41802"
      }
     }
    },
    "d505076a-ad24-4dbc-881a-d84841901a03": {
     "id": "d505076a-ad24-4dbc-881a-d84841901a03",
     "prev": "26bbe93b-70fe-4b55-af66-338ef1d65327",
     "regions": {
      "cf7cf59e-04ca-49b7-b34d-59543a90cdea": {
       "attrs": {
        "height": 0.8,
        "width": 0.8,
        "x": 0.1,
        "y": 0.1
       },
       "content": {
        "cell": "cd3e63bf-bf8c-4e67-af04-b3431ce1759a",
        "part": "whole"
       },
       "id": "cf7cf59e-04ca-49b7-b34d-59543a90cdea"
      }
     }
    },
    "d5a8b549-e137-4127-8877-7cb5b44e0351": {
     "id": "d5a8b549-e137-4127-8877-7cb5b44e0351",
     "prev": "c10162d8-3fd7-4db2-bc97-98d6e612b809",
     "regions": {
      "a9a0839b-ebdd-4fde-b5a1-c453f7acb360": {
       "attrs": {
        "height": 0.8,
        "width": 0.8,
        "x": 0.1,
        "y": 0.1
       },
       "content": {
        "cell": "dd441c3a-5e08-4852-a18d-8c3ba5e4bcf6",
        "part": "whole"
       },
       "id": "a9a0839b-ebdd-4fde-b5a1-c453f7acb360"
      }
     }
    },
    "d8cd0b78-805f-4604-98e6-c41608e11021": {
     "id": "d8cd0b78-805f-4604-98e6-c41608e11021",
     "prev": "4c302b17-bdaa-49c3-acc8-d27220d35e97",
     "regions": {
      "bfe248b8-a76a-4d45-be68-291b376c6452": {
       "attrs": {
        "height": 0.8,
        "width": 0.8,
        "x": 0.1,
        "y": 0.1
       },
       "content": {
        "cell": "b08e8ad9-3a02-48b3-b14b-d4b81871180d",
        "part": "whole"
       },
       "id": "bfe248b8-a76a-4d45-be68-291b376c6452"
      }
     }
    },
    "dc4ed998-cd01-4cbc-aa04-fc60d9a088f3": {
     "id": "dc4ed998-cd01-4cbc-aa04-fc60d9a088f3",
     "prev": "51b6859f-8cfe-476f-9fac-d81d3f7c12b6",
     "regions": {
      "11a0d896-f5ac-41bf-9cdb-6c065ab3b8a5": {
       "attrs": {
        "height": 0.8,
        "width": 0.8,
        "x": 0.1,
        "y": 0.1
       },
       "content": {
        "cell": "2b8113a5-98ab-480d-b527-5b3d22e08268",
        "part": "whole"
       },
       "id": "11a0d896-f5ac-41bf-9cdb-6c065ab3b8a5"
      }
     }
    },
    "dcddeba5-08a4-403c-bd38-5c6d3985da9a": {
     "id": "dcddeba5-08a4-403c-bd38-5c6d3985da9a",
     "prev": "c11ff1f7-2467-4adb-b844-4e1bc08313fd",
     "regions": {
      "d5a94141-3ffc-43f5-99c7-4174587ff685": {
       "attrs": {
        "height": 0.8,
        "width": 0.8,
        "x": 0.1,
        "y": 0.1
       },
       "content": {
        "cell": "5a126219-1da7-4f14-aeb2-21d4946f4b54",
        "part": "whole"
       },
       "id": "d5a94141-3ffc-43f5-99c7-4174587ff685"
      }
     }
    },
    "e426a612-7962-44bd-a2cb-0b939d8a67b0": {
     "id": "e426a612-7962-44bd-a2cb-0b939d8a67b0",
     "prev": "5291f3da-9dd6-40b8-9247-6e0c478960ad",
     "regions": {
      "21fb1b9d-5476-48af-be9f-ccde4ee3cfa1": {
       "attrs": {
        "height": 0.8,
        "width": 0.8,
        "x": 0.1,
        "y": 0.1
       },
       "content": {
        "cell": "52aeea0e-9d9e-4841-94ec-1cbf8442c142",
        "part": "whole"
       },
       "id": "21fb1b9d-5476-48af-be9f-ccde4ee3cfa1"
      }
     }
    },
    "e508d39f-db24-4a11-8bae-bd51397ab97d": {
     "id": "e508d39f-db24-4a11-8bae-bd51397ab97d",
     "prev": "877ebe1e-8b48-44e7-8a77-2805a8d54318",
     "regions": {
      "27528751-d639-4644-8f5e-3c496879f03f": {
       "attrs": {
        "height": 0.8,
        "width": 0.8,
        "x": 0.1,
        "y": 0.1
       },
       "content": {
        "cell": "6e747bdf-e2db-49df-9a33-67b0849cc424",
        "part": "whole"
       },
       "id": "27528751-d639-4644-8f5e-3c496879f03f"
      }
     }
    },
    "e68831df-cc4a-4633-a39e-2f2b101ff062": {
     "id": "e68831df-cc4a-4633-a39e-2f2b101ff062",
     "prev": "61a941ca-5b92-4a2a-a8cf-ffd191403b83",
     "regions": {
      "d06abb41-2cee-4eaf-9a80-12d4cea18d22": {
       "attrs": {
        "height": 0.8,
        "width": 0.8,
        "x": 0.1,
        "y": 0.1
       },
       "content": {
        "cell": "f39bb09a-ad46-4721-b0b5-d5be93e796e5",
        "part": "whole"
       },
       "id": "d06abb41-2cee-4eaf-9a80-12d4cea18d22"
      }
     }
    },
    "e7c9384e-8d06-4862-9a6a-780930bb9853": {
     "id": "e7c9384e-8d06-4862-9a6a-780930bb9853",
     "prev": "856b5eee-c573-4878-8979-edb37b5ea163",
     "regions": {
      "42c3d1fe-09c8-4da5-99bb-507f339572bc": {
       "attrs": {
        "height": 0.8,
        "width": 0.8,
        "x": 0.1,
        "y": 0.1
       },
       "content": {
        "cell": "3a886bf3-9c21-4ff6-a695-3b7484dafc2f",
        "part": "whole"
       },
       "id": "42c3d1fe-09c8-4da5-99bb-507f339572bc"
      }
     }
    },
    "e7e246d7-4383-4ca4-9101-73ae03674ac2": {
     "id": "e7e246d7-4383-4ca4-9101-73ae03674ac2",
     "prev": "cf154407-7718-4462-9fae-c1ae73cf539a",
     "regions": {
      "b054e318-1ea1-4407-8547-667673bedccc": {
       "attrs": {
        "height": 0.8,
        "width": 0.8,
        "x": 0.1,
        "y": 0.1
       },
       "content": {
        "cell": "3f4c2747-6281-425f-af93-7b5a947194a5",
        "part": "whole"
       },
       "id": "b054e318-1ea1-4407-8547-667673bedccc"
      }
     }
    },
    "e91a111c-8e3b-428d-b807-49d16b6d59f5": {
     "id": "e91a111c-8e3b-428d-b807-49d16b6d59f5",
     "prev": "90be7e05-6add-4d0b-8c37-600ba5edcb36",
     "regions": {
      "14729b44-1d21-4202-88f2-3594fa75db8f": {
       "attrs": {
        "height": 0.8,
        "width": 0.8,
        "x": 0.1,
        "y": 0.1
       },
       "content": {
        "cell": "16cbc4dc-f03e-49d6-9346-6f165a27c5a7",
        "part": "whole"
       },
       "id": "14729b44-1d21-4202-88f2-3594fa75db8f"
      }
     }
    },
    "f215c533-5be9-4916-a330-d94637235b58": {
     "id": "f215c533-5be9-4916-a330-d94637235b58",
     "prev": "66826f31-e3f5-4350-8236-4b7c9eedf76e",
     "regions": {
      "6211ff9f-386b-41b1-a58c-76352dd55443": {
       "attrs": {
        "height": 0.8,
        "width": 0.8,
        "x": 0.1,
        "y": 0.1
       },
       "content": {
        "cell": "1508b642-4dfd-4609-819e-a54180f960bb",
        "part": "whole"
       },
       "id": "6211ff9f-386b-41b1-a58c-76352dd55443"
      }
     }
    },
    "f3c3d9b8-52be-468c-a2b4-cf20c2009d87": {
     "id": "f3c3d9b8-52be-468c-a2b4-cf20c2009d87",
     "prev": "5cd923b3-b7af-4b5f-a6c6-aed9f41befb9",
     "regions": {
      "6d8ade4c-9335-4452-9c61-10195700df9f": {
       "attrs": {
        "height": 0.8,
        "width": 0.8,
        "x": 0.1,
        "y": 0.1
       },
       "content": {
        "cell": "b6f49029-4efd-4a55-bde3-104dd2b0c4ab",
        "part": "whole"
       },
       "id": "6d8ade4c-9335-4452-9c61-10195700df9f"
      }
     }
    },
    "f5fcf434-2f39-4e35-a3d2-08638a36dc59": {
     "id": "f5fcf434-2f39-4e35-a3d2-08638a36dc59",
     "prev": "523a9125-6d09-43d6-bc63-915176c1c0dc",
     "regions": {
      "c3ffd0ec-06e3-41db-837b-1b17e53e0742": {
       "attrs": {
        "height": 0.8,
        "width": 0.8,
        "x": 0.1,
        "y": 0.1
       },
       "content": {
        "cell": "c586203e-2053-4e29-8f2a-b25ae77ed3ed",
        "part": "whole"
       },
       "id": "c3ffd0ec-06e3-41db-837b-1b17e53e0742"
      }
     }
    },
    "f6a94b54-7d1e-47c2-8fcf-f8d5dd69505a": {
     "id": "f6a94b54-7d1e-47c2-8fcf-f8d5dd69505a",
     "prev": "e426a612-7962-44bd-a2cb-0b939d8a67b0",
     "regions": {
      "9787195c-fbc6-4232-869e-b3f6e1d3a26d": {
       "attrs": {
        "height": 0.8,
        "width": 0.8,
        "x": 0.1,
        "y": 0.1
       },
       "content": {
        "cell": "4f05e84d-b47a-4d6c-a35e-0ad7db7ca69a",
        "part": "whole"
       },
       "id": "9787195c-fbc6-4232-869e-b3f6e1d3a26d"
      }
     }
    },
    "f9c2f07f-8e6a-432b-9264-d594140dc92c": {
     "id": "f9c2f07f-8e6a-432b-9264-d594140dc92c",
     "prev": "dc4ed998-cd01-4cbc-aa04-fc60d9a088f3",
     "regions": {
      "85968ed4-1e1f-4de7-a24b-34b0f8b5c3f1": {
       "attrs": {
        "height": 0.8,
        "width": 0.8,
        "x": 0.1,
        "y": 0.1
       },
       "content": {
        "cell": "6f2233bf-3995-4d69-bb88-ba8e3e3ddbf6",
        "part": "whole"
       },
       "id": "85968ed4-1e1f-4de7-a24b-34b0f8b5c3f1"
      }
     }
    },
    "fb4249a3-aaff-4039-8526-6412f6ac0608": {
     "id": "fb4249a3-aaff-4039-8526-6412f6ac0608",
     "prev": "8a974065-cd33-4a45-879c-620f29a7ecd1",
     "regions": {
      "fa382ac3-180e-4ad2-8036-611ea38d1cd9": {
       "attrs": {
        "height": 0.8,
        "width": 0.8,
        "x": 0.1,
        "y": 0.1
       },
       "content": {
        "cell": "8f818bab-647d-40c6-808c-1123bc9bce78",
        "part": "whole"
       },
       "id": "fa382ac3-180e-4ad2-8036-611ea38d1cd9"
      }
     }
    }
   },
   "themes": {}
  },
  "toc": {
   "base_numbering": 1,
   "nav_menu": {},
   "number_sections": true,
   "sideBar": true,
   "skip_h1_title": false,
   "title_cell": "Table of Contents",
   "title_sidebar": "Contents",
   "toc_cell": false,
   "toc_position": {},
   "toc_section_display": true,
   "toc_window_display": false
  }
 },
 "nbformat": 4,
 "nbformat_minor": 2
}
