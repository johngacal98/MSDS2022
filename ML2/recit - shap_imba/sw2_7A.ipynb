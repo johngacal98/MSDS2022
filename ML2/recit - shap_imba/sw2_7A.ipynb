{
 "cells": [
  {
   "cell_type": "code",
   "execution_count": 1,
   "id": "MDHt6oiy_T9V",
   "metadata": {
    "ExecuteTime": {
     "end_time": "2021-10-21T06:25:19.555759Z",
     "start_time": "2021-10-21T06:25:19.552239Z"
    },
    "id": "MDHt6oiy_T9V"
   },
   "outputs": [],
   "source": [
    "# # Run this cell then restart your kernel in google colab\n",
    "# !pip install -r https://raw.githubusercontent.com/leolorenzoii/ml2_interpretability/main/requirements.txt"
   ]
  },
  {
   "cell_type": "code",
   "execution_count": 10,
   "id": "ad8d0c34",
   "metadata": {
    "ExecuteTime": {
     "end_time": "2021-10-21T06:25:46.060127Z",
     "start_time": "2021-10-21T06:25:46.056605Z"
    },
    "deletable": false,
    "editable": false,
    "id": "ad8d0c34",
    "nbgrader": {
     "cell_type": "code",
     "checksum": "1720413b74bebeb569fbffcc7049d2a7",
     "grade": false,
     "grade_id": "cell-1e194591731b6cf1",
     "locked": true,
     "schema_version": 3,
     "solution": false,
     "task": false
    }
   },
   "outputs": [],
   "source": [
    "from numpy.testing import assert_equal, assert_almost_equal\n",
    "\n",
    "decimal = 6"
   ]
  },
  {
   "cell_type": "markdown",
   "id": "4d337cb6",
   "metadata": {
    "deletable": false,
    "editable": false,
    "id": "4d337cb6",
    "nbgrader": {
     "cell_type": "markdown",
     "checksum": "5d46e83a170f5217e9c8009389e8b8b4",
     "grade": false,
     "grade_id": "cell-1c9169c652d535f0",
     "locked": true,
     "schema_version": 3,
     "solution": false,
     "task": false
    }
   },
   "source": [
    "# Seatwork 2: Imba-SHAP\n",
    "\n",
    "In this seatwork, we will handle an imbalanced binary classification problem and use `shap` to interpret the machine learning model.\n",
    "\n",
    "We will also use the `Pipeline` class available in `imblearn.pipeline` and integrate it with a `StratifiedKFold` cross validated training step. We use `imblearn`'s implementation instead of `scikit-learn`'s implementation of `Pipeline` for better integration to resampling techniques.\n",
    "\n",
    "*Note: Here, we don't employ hyperparameter tuning for brevity, but do note that in practice, we can tune parameters in our pipeline (e.g. `learning_rate`, `max_depth`).*"
   ]
  },
  {
   "cell_type": "markdown",
   "id": "b8a6db20",
   "metadata": {},
   "source": [
    "## SLT7A - Hao, Las, Mapa"
   ]
  },
  {
   "cell_type": "markdown",
   "id": "91e8507e",
   "metadata": {
    "deletable": false,
    "editable": false,
    "id": "91e8507e",
    "nbgrader": {
     "cell_type": "markdown",
     "checksum": "8cf322e3bf9a51a58aa0fecebd29e640",
     "grade": false,
     "grade_id": "cell-8bcd57e7632b0253",
     "locked": true,
     "schema_version": 3,
     "solution": false,
     "task": false
    }
   },
   "source": [
    "## Situation\n",
    "\n",
    "Suppose that you folks are a data scientist team working for a polyclinic company called **The Medical Republic**. One of the clinics,  called **Dia-Beat-This**, that specializes in diagnosis and treatment of diabetes in *PIMA Indian Women* observed that they have a long chain of tests conducted to determine precisely whether a person has diabetes or not. At each testing stage, both new procedures and results of previous testing stages are used to improve diagnosis--however, tests become more expensive at later stages.\n",
    "\n",
    "![Candies](https://drive.google.com/uc?id=10rKNwjM9ZS25wURcURxqtT5zCU9I2koF)\n",
    "\n",
    "**Enter ML:** You proposed to employ a machine learning algorithm to **predict the onset of diabetes** using only patient information at the earlier testing stages. Together with the medical team that you are working with, you drafted the following objective:\n",
    "\n",
    "*Minimize the false negatives, find ALL positives.* Since the goal is to treat all patients with diabetes, you want to sensitively tag someone as positive, ensuring you don't send home a daibetic patient. Additionally, there are other more expensive testing stages (post-ML predictions) that can confirm false positives, so the risk of prescribing diabetes medication to negatives can be lowered by the pricey tests down the line."
   ]
  },
  {
   "cell_type": "markdown",
   "id": "fd8a6543",
   "metadata": {
    "deletable": false,
    "editable": false,
    "id": "fd8a6543",
    "nbgrader": {
     "cell_type": "markdown",
     "checksum": "597ba3a41ea920bda69fc501211f05ac",
     "grade": false,
     "grade_id": "cell-b1dcd9812cb3669f",
     "locked": true,
     "schema_version": 3,
     "solution": false,
     "task": false
    }
   },
   "source": [
    "## Data Dictionary\n",
    "\n",
    "**Features**\n",
    "\n",
    "We use all of the following quantitative features:\n",
    "* `pregnancies` - number of pregnancies, number of times pregnant\n",
    "* `glucose` - measure of blood sugar level in patients\n",
    "* `blood pressure` - person's blood pressure readings during testing date\n",
    "* `skin thickness` - an indicator of collagen content studied to be affected by insulin dependence of patients\n",
    "* `insulin` - person's insulin levels, 2-hour serum insulin $\\mu$ units/mL\n",
    "* `bmi` - body-mass index (BMI, $kg/m^2$)\n",
    "* `pedigree function` - measure of genetic influence based on patient relatives' history with diabetes.\n",
    "* `age` - age in years\n",
    "\n",
    "**Target:**\n",
    "* `outcome` - indicator if person has diabetes or not: \n",
    "> `1` positive/diabetic, \n",
    "> `0` negative/no diabetes\n",
    "\n",
    "To find out more about this dataset, see [link](https://machinelearningmastery.com/case-study-predicting-the-onset-of-diabetes-within-five-years-part-1-of-3/`). This is not necessary for the purposes of seatwork-2."
   ]
  },
  {
   "cell_type": "code",
   "execution_count": 11,
   "id": "5a5b185b",
   "metadata": {
    "ExecuteTime": {
     "end_time": "2021-10-21T06:25:47.642249Z",
     "start_time": "2021-10-21T06:25:47.637950Z"
    },
    "deletable": false,
    "editable": false,
    "id": "5a5b185b",
    "nbgrader": {
     "cell_type": "code",
     "checksum": "04f86cd8fd11f962a11a159a479e978e",
     "grade": false,
     "grade_id": "cell-49d3374fc97b3a30",
     "locked": true,
     "schema_version": 3,
     "solution": false,
     "task": false
    }
   },
   "outputs": [],
   "source": [
    "import pandas as pd\n",
    "import matplotlib.pyplot as plt\n",
    "import seaborn as sns\n",
    "import numpy as np"
   ]
  },
  {
   "cell_type": "markdown",
   "id": "99fe614d",
   "metadata": {
    "deletable": false,
    "editable": false,
    "id": "99fe614d",
    "nbgrader": {
     "cell_type": "markdown",
     "checksum": "2c8d5be89fcf8ce9862cf9cb28f573e5",
     "grade": false,
     "grade_id": "cell-89e8552add6e2fad",
     "locked": true,
     "schema_version": 3,
     "solution": false,
     "task": false
    }
   },
   "source": [
    "## Data Preparation"
   ]
  },
  {
   "cell_type": "code",
   "execution_count": 12,
   "id": "68f28053",
   "metadata": {
    "ExecuteTime": {
     "end_time": "2021-10-21T06:25:50.058374Z",
     "start_time": "2021-10-21T06:25:48.372416Z"
    },
    "deletable": false,
    "editable": false,
    "id": "68f28053",
    "nbgrader": {
     "cell_type": "code",
     "checksum": "b70b41aa484e42a022dda4aa2fe52407",
     "grade": false,
     "grade_id": "cell-f5c781fcbb3be19e",
     "locked": true,
     "schema_version": 3,
     "solution": false,
     "task": false
    }
   },
   "outputs": [
    {
     "name": "stdout",
     "output_type": "stream",
     "text": [
      "<class 'pandas.core.frame.DataFrame'>\n",
      "RangeIndex: 768 entries, 0 to 767\n",
      "Data columns (total 9 columns):\n",
      " #   Column             Non-Null Count  Dtype  \n",
      "---  ------             --------------  -----  \n",
      " 0   pregnancies        768 non-null    int64  \n",
      " 1   glucose            768 non-null    int64  \n",
      " 2   blood pressure     768 non-null    int64  \n",
      " 3   skin thickness     768 non-null    int64  \n",
      " 4   insulin            768 non-null    int64  \n",
      " 5   bmi                768 non-null    float64\n",
      " 6   pedigree function  768 non-null    float64\n",
      " 7   age                768 non-null    int64  \n",
      " 8   outcome            768 non-null    int64  \n",
      "dtypes: float64(2), int64(7)\n",
      "memory usage: 54.1 KB\n"
     ]
    }
   ],
   "source": [
    "df = pd.read_csv('https://drive.google.com/uc?id=1zTaNK2MkVW3gr6RRCHabbvY7jhn9F2PC')\n",
    "df.info()"
   ]
  },
  {
   "cell_type": "code",
   "execution_count": 13,
   "id": "76cc713a",
   "metadata": {
    "ExecuteTime": {
     "end_time": "2021-10-21T06:25:50.063913Z",
     "start_time": "2021-10-21T06:25:50.061140Z"
    }
   },
   "outputs": [],
   "source": [
    "# df = pd.read_csv('diabetes.csv')\n",
    "# df.info()"
   ]
  },
  {
   "cell_type": "code",
   "execution_count": 14,
   "id": "57c3ce92",
   "metadata": {
    "ExecuteTime": {
     "end_time": "2021-10-21T06:25:51.261469Z",
     "start_time": "2021-10-21T06:25:51.254364Z"
    },
    "deletable": false,
    "editable": false,
    "id": "57c3ce92",
    "nbgrader": {
     "cell_type": "code",
     "checksum": "7f9195293cda2513de891d31626f2cd0",
     "grade": false,
     "grade_id": "cell-eb4419f28a5e7e19",
     "locked": true,
     "schema_version": 3,
     "solution": false,
     "task": false
    }
   },
   "outputs": [],
   "source": [
    "def plot_class_ratios(y):\n",
    "    \"\"\"Generate plot of class ratios from pd.Series input\n",
    "    formatted to show ratios as annotations/bar labels.\n",
    "    \n",
    "    Parameter\n",
    "        y : pd.Series of target array\n",
    "    Return\n",
    "        None\n",
    "    \"\"\"\n",
    "    class_ratios = (y.value_counts()/y.shape[0])\n",
    "    ax = class_ratios.plot.bar()\n",
    "    ax.set_ylim(0.0, 1.0)\n",
    "    ax.bar_label(ax.containers[0], fmt='%.2f', fontsize=12)\n",
    "    plt.xticks(rotation=0)\n",
    "    ax.set_xlabel('Class', fontsize=15)\n",
    "    ax.set_ylabel('Ratio', fontsize=15, labelpad=10)\n",
    "    ax.set_title('Class Ratios', fontsize=20)\n",
    "    ax.spines['top'].set_visible(False)\n",
    "    ax.spines['right'].set_visible(False)\n",
    "\n",
    "    return None"
   ]
  },
  {
   "cell_type": "code",
   "execution_count": 15,
   "id": "2ab14ce6",
   "metadata": {
    "ExecuteTime": {
     "end_time": "2021-10-21T06:25:51.757032Z",
     "start_time": "2021-10-21T06:25:51.599118Z"
    },
    "deletable": false,
    "editable": false,
    "id": "2ab14ce6",
    "nbgrader": {
     "cell_type": "code",
     "checksum": "edcda4315f6cbd765cdf1edf8a176a1e",
     "grade": false,
     "grade_id": "cell-5c1aaaff567f809a",
     "locked": true,
     "schema_version": 3,
     "solution": false,
     "task": false
    }
   },
   "outputs": [
    {
     "data": {
      "image/png": "[encoded data removed]",
      "text/plain": [
       "<Figure size 432x288 with 1 Axes>"
      ]
     },
     "metadata": {
      "needs_background": "light"
     },
     "output_type": "display_data"
    }
   ],
   "source": [
    "target = 'outcome'\n",
    "plot_class_ratios(df[target])"
   ]
  },
  {
   "cell_type": "code",
   "execution_count": 70,
   "id": "e08d5615",
   "metadata": {
    "ExecuteTime": {
     "end_time": "2021-10-21T07:35:06.130205Z",
     "start_time": "2021-10-21T07:35:06.122846Z"
    }
   },
   "outputs": [
    {
     "data": {
      "text/plain": [
       "0    500\n",
       "1    268\n",
       "Name: outcome, dtype: int64"
      ]
     },
     "execution_count": 70,
     "metadata": {},
     "output_type": "execute_result"
    }
   ],
   "source": [
    "df.outcome.value_counts()"
   ]
  },
  {
   "cell_type": "markdown",
   "id": "744edae9",
   "metadata": {
    "deletable": false,
    "editable": false,
    "id": "744edae9",
    "nbgrader": {
     "cell_type": "markdown",
     "checksum": "a5c1710d0570162f52cc31667e6abc08",
     "grade": false,
     "grade_id": "cell-d4a4c6c18cb550be",
     "locked": true,
     "schema_version": 3,
     "solution": false,
     "task": false
    }
   },
   "source": [
    "## Data Segregation"
   ]
  },
  {
   "cell_type": "markdown",
   "id": "0dae1869",
   "metadata": {
    "deletable": false,
    "editable": false,
    "id": "0dae1869",
    "nbgrader": {
     "cell_type": "markdown",
     "checksum": "58f9f4694989e935867fdc0d33aaecbb",
     "grade": false,
     "grade_id": "cell-81f0f47fcdf784a4",
     "locked": true,
     "schema_version": 3,
     "solution": false,
     "task": false
    }
   },
   "source": [
    "### Task 1 [1 pt]\n",
    "\n",
    "Split the dataset into `80-20` trainval-holdout sets, **ensure samples splitting is stratified according to the target array**. *Among other parameters* to be set, ensure that the following are set:\n",
    "\n",
    "* `random_state=11`\n",
    "* `test_size=0.20`"
   ]
  },
  {
   "cell_type": "code",
   "execution_count": 16,
   "id": "d51b223e",
   "metadata": {
    "ExecuteTime": {
     "end_time": "2021-10-21T06:25:52.711288Z",
     "start_time": "2021-10-21T06:25:52.700900Z"
    },
    "deletable": false,
    "id": "d51b223e",
    "nbgrader": {
     "cell_type": "code",
     "checksum": "3919cc2824f9db7b520a709fdf3bfbbc",
     "grade": false,
     "grade_id": "cell-f23cbcbb8cb6ad95",
     "locked": false,
     "schema_version": 3,
     "solution": true,
     "task": false
    }
   },
   "outputs": [],
   "source": [
    "from sklearn.model_selection import train_test_split\n",
    "\n",
    "# Initialize inputs\n",
    "X, y = df.drop(columns=target), df[target]\n",
    "\n",
    "# Perform a stratified train test split with test size = 0.20 and\n",
    "# random state = 11\n",
    "X_trainval, X_hold, y_trainval, y_hold = train_test_split(X,y, random_state = 11, test_size = .2, stratify = y)\n"
   ]
  },
  {
   "cell_type": "code",
   "execution_count": 17,
   "id": "1ae79e24",
   "metadata": {
    "ExecuteTime": {
     "end_time": "2021-10-21T06:25:53.114966Z",
     "start_time": "2021-10-21T06:25:53.110412Z"
    },
    "deletable": false,
    "editable": false,
    "id": "1ae79e24",
    "nbgrader": {
     "cell_type": "code",
     "checksum": "e2c7dd9d6e34dc92eb01d45b80d9858a",
     "grade": true,
     "grade_id": "cell-a1077ccba70a25f2",
     "locked": true,
     "points": 1,
     "schema_version": 3,
     "solution": false,
     "task": false
    }
   },
   "outputs": [],
   "source": [
    "# Assert\n",
    "assert X_trainval is not None, 'Put x_train in this variable!'\n",
    "assert X_hold is not None, 'Put x_test in this variable!'\n",
    "assert y_trainval is not None, 'Put y_train in this variable!'\n",
    "assert y_hold is not None, 'Put y_test in this variable!'\n",
    "\n",
    "# Hidden tests"
   ]
  },
  {
   "cell_type": "markdown",
   "id": "f2e5ec5d",
   "metadata": {
    "deletable": false,
    "editable": false,
    "id": "f2e5ec5d",
    "nbgrader": {
     "cell_type": "markdown",
     "checksum": "cb8c871984e436ebebed4cb25f9f557c",
     "grade": false,
     "grade_id": "cell-a22084d171db67c9",
     "locked": true,
     "schema_version": 3,
     "solution": false,
     "task": false
    }
   },
   "source": [
    "## Model Training"
   ]
  },
  {
   "cell_type": "markdown",
   "id": "b14344ea",
   "metadata": {
    "deletable": false,
    "editable": false,
    "id": "b14344ea",
    "nbgrader": {
     "cell_type": "markdown",
     "checksum": "1994d1b97c7c29e6c9d8c1d4ae99b74f",
     "grade": false,
     "grade_id": "cell-97cea62f096a94a9",
     "locked": true,
     "schema_version": 3,
     "solution": false,
     "task": false
    }
   },
   "source": [
    "### Task 2 [2 pts]\n",
    "\n",
    "To put emphasis on our objective, we shall structure our ML problem as an imbalanced classification problem. Thus, we shall depart from using `accuracy` as a metric.\n",
    "\n",
    "In the problem, which metric will be most appropriate `recall` or `precision`? Why?"
   ]
  },
  {
   "cell_type": "markdown",
   "id": "8535e68d",
   "metadata": {
    "deletable": false,
    "id": "8535e68d",
    "nbgrader": {
     "cell_type": "markdown",
     "checksum": "275d9d1090b3898d79c3e95aeaa178e6",
     "grade": true,
     "grade_id": "cell-6d248e2ff178a5d4",
     "locked": false,
     "points": 2,
     "schema_version": 3,
     "solution": true,
     "task": false
    }
   },
   "source": [
    "### Our chosen metric is RECALL.\n",
    "We chose recall because diabetes-positive data points are the minority class and for this specific disease-related case, minimizing the false negatives is imperative because a false negative means somebody will live their life thinking that they don't have diabetes when they do. "
   ]
  },
  {
   "cell_type": "markdown",
   "id": "26519916",
   "metadata": {
    "deletable": false,
    "editable": false,
    "id": "26519916",
    "nbgrader": {
     "cell_type": "markdown",
     "checksum": "0ccd4775743796581227e398aeb575ee",
     "grade": false,
     "grade_id": "cell-86e1352a9d1e3da5",
     "locked": true,
     "schema_version": 3,
     "solution": false,
     "task": false
    }
   },
   "source": [
    "### Task 3 [1 pt]\n",
    "\n",
    "Get the cross-validation score of an untuned/default intialized `GradientBoostingClassifier` using the `cross_val_score` function of `sklearn`. Initialize the following:\n",
    "\n",
    "* `skf` - a stratified k-fold cross-validator with 4 splits\n",
    "* `model` - an untuned/default `sklearn` gradient boosting classifer with `random_state=11`\n",
    "\n",
    "Replace `None` with your answer."
   ]
  },
  {
   "cell_type": "code",
   "execution_count": 18,
   "id": "f6dc94bf",
   "metadata": {
    "ExecuteTime": {
     "end_time": "2021-10-21T06:25:55.069756Z",
     "start_time": "2021-10-21T06:25:55.009810Z"
    },
    "deletable": false,
    "id": "f6dc94bf",
    "nbgrader": {
     "cell_type": "code",
     "checksum": "c88f856731d491fb04dcbe366fd48187",
     "grade": false,
     "grade_id": "cell-bf4413ae4860f573",
     "locked": false,
     "schema_version": 3,
     "solution": true,
     "task": false
    }
   },
   "outputs": [],
   "source": [
    "from sklearn.model_selection import StratifiedKFold\n",
    "from sklearn.ensemble import GradientBoostingClassifier\n",
    "\n",
    "# Initialize a stratified k-fold cross validator with 4 splits\n",
    "skf = StratifiedKFold(n_splits=4)\n",
    "\n",
    "# Initialize a Gradient Boosting Classifier with random state = 11 and\n",
    "# other parameters set to default\n",
    "model = GradientBoostingClassifier(random_state = 11)\n"
   ]
  },
  {
   "cell_type": "code",
   "execution_count": 19,
   "id": "de18c58d",
   "metadata": {
    "ExecuteTime": {
     "end_time": "2021-10-21T06:25:55.466143Z",
     "start_time": "2021-10-21T06:25:55.462074Z"
    },
    "deletable": false,
    "editable": false,
    "id": "de18c58d",
    "nbgrader": {
     "cell_type": "code",
     "checksum": "a70e2e2a9644db51fb61d9b8db1e9eae",
     "grade": true,
     "grade_id": "cell-38263fa7dd87c801",
     "locked": true,
     "points": 1,
     "schema_version": 3,
     "solution": false,
     "task": false
    }
   },
   "outputs": [],
   "source": [
    "# assert\n",
    "assert skf is not None, 'Put Stratified KFold instance in this variable!'\n",
    "assert model is not None, 'Put a Gradient Boosting Classifer instance this variable!'"
   ]
  },
  {
   "cell_type": "markdown",
   "id": "93ea22ae",
   "metadata": {
    "id": "93ea22ae"
   },
   "source": [
    "## Model Evaluation"
   ]
  },
  {
   "cell_type": "markdown",
   "id": "21b43de2",
   "metadata": {
    "id": "21b43de2"
   },
   "source": [
    "### Task 4 [1 pt]\n",
    "\n",
    "Choose between `precision_score` or `recall_score` as a metric based on your answer in [**Task 2**](#Task-2-[2-pts]). Replace `metric=None` with your chosen metric.\n",
    "\n",
    "Example: `metric=precision_score`\n",
    "\n",
    "The rest of the code modifies your chosen metric into an `sklearn` `scorer`--this is already done for you."
   ]
  },
  {
   "cell_type": "code",
   "execution_count": 20,
   "id": "6074c86d",
   "metadata": {
    "ExecuteTime": {
     "end_time": "2021-10-21T06:25:56.424468Z",
     "start_time": "2021-10-21T06:25:56.420694Z"
    },
    "deletable": false,
    "id": "6074c86d",
    "nbgrader": {
     "cell_type": "code",
     "checksum": "d11850a9fb294d22708c51e2cce8148a",
     "grade": false,
     "grade_id": "cell-727ce4a9aecc5f22",
     "locked": false,
     "schema_version": 3,
     "solution": true,
     "task": false
    }
   },
   "outputs": [],
   "source": [
    "from sklearn.model_selection import cross_val_score\n",
    "from sklearn.metrics import precision_score, recall_score, make_scorer\n",
    "\n",
    "metric = recall_score # precision_score or recall_score \n",
    "\n",
    "# make a metric into a scorer for the cross_val_score func\n",
    "scorer = make_scorer(metric)"
   ]
  },
  {
   "cell_type": "code",
   "execution_count": 21,
   "id": "5c1a43da",
   "metadata": {
    "ExecuteTime": {
     "end_time": "2021-10-21T06:25:56.702771Z",
     "start_time": "2021-10-21T06:25:56.698741Z"
    },
    "deletable": false,
    "editable": false,
    "id": "5c1a43da",
    "nbgrader": {
     "cell_type": "code",
     "checksum": "22b4abf390f62e6a840548675549c48c",
     "grade": true,
     "grade_id": "cell-b19ae4ed9be98e3f",
     "locked": true,
     "points": 1,
     "schema_version": 3,
     "solution": false,
     "task": false
    }
   },
   "outputs": [],
   "source": [
    "assert metric is not None, 'Put either precision_score/recall_score in this variable!'"
   ]
  },
  {
   "cell_type": "markdown",
   "id": "1fc46421",
   "metadata": {
    "id": "1fc46421",
    "nbgrader": {
     "grade": false,
     "grade_id": "cell-4f165a28a1c48055",
     "locked": false,
     "schema_version": 3,
     "solution": false,
     "task": false
    }
   },
   "source": [
    "### Task 5 [1 pt]\n",
    "\n",
    "Calculate the average cross validation score and store it in the variable `average_cv_score`. *Note: `cross_val_score` returns an array of scores for each stratified train-val split (a.k.a. fold)*"
   ]
  },
  {
   "cell_type": "code",
   "execution_count": 22,
   "id": "2220f144",
   "metadata": {
    "ExecuteTime": {
     "end_time": "2021-10-21T06:25:58.779380Z",
     "start_time": "2021-10-21T06:25:57.261097Z"
    },
    "deletable": false,
    "id": "2220f144",
    "nbgrader": {
     "cell_type": "code",
     "checksum": "f41bcaa1303dcc1e0cd8f03281de8950",
     "grade": false,
     "grade_id": "cell-8cd104c4575c9805",
     "locked": false,
     "schema_version": 3,
     "solution": true,
     "task": false
    }
   },
   "outputs": [
    {
     "name": "stdout",
     "output_type": "stream",
     "text": [
      "Average cv score: 0.61\n"
     ]
    }
   ],
   "source": [
    "cv_scores = cross_val_score(estimator=model, X=X_trainval, y=y_trainval,\n",
    "                            scoring=scorer, cv=skf, n_jobs=-1)\n",
    "average_cv_score = np.mean(cv_scores)\n",
    "\n",
    "\n",
    "print(f\"Average cv score: {average_cv_score:.2f}\")"
   ]
  },
  {
   "cell_type": "code",
   "execution_count": 23,
   "id": "cd937bda",
   "metadata": {
    "ExecuteTime": {
     "end_time": "2021-10-21T06:25:58.785976Z",
     "start_time": "2021-10-21T06:25:58.782539Z"
    },
    "deletable": false,
    "editable": false,
    "id": "cd937bda",
    "nbgrader": {
     "cell_type": "code",
     "checksum": "0224311c556d2a26eccbbfe646ef2106",
     "grade": true,
     "grade_id": "cell-61edb64b80364f9d",
     "locked": true,
     "points": 1,
     "schema_version": 3,
     "solution": false,
     "task": false
    }
   },
   "outputs": [],
   "source": [
    "assert average_cv_score is not None, 'Put the average cv score in this in this variable!'"
   ]
  },
  {
   "cell_type": "markdown",
   "id": "83ecd1f5",
   "metadata": {
    "deletable": false,
    "editable": false,
    "id": "83ecd1f5",
    "nbgrader": {
     "cell_type": "markdown",
     "checksum": "8dcf78e684eeaec5cd09e6a635b73481",
     "grade": false,
     "grade_id": "cell-457ec6c3a3eb4724",
     "locked": true,
     "schema_version": 3,
     "solution": false,
     "task": false
    }
   },
   "source": [
    "### Task 6 [1 pt]\n",
    "\n",
    "Retrain the `model` using the entire train-val set stored in `X_trainval` and `y_trainval` and calculate the score on the the holdout set.\n",
    "\n",
    "Generate predictions on the holdout set `X_hold` and store the predictions in the variable `y_preds`. "
   ]
  },
  {
   "cell_type": "code",
   "execution_count": 24,
   "id": "35867cac",
   "metadata": {
    "ExecuteTime": {
     "end_time": "2021-10-21T06:25:59.617290Z",
     "start_time": "2021-10-21T06:25:59.419105Z"
    },
    "deletable": false,
    "id": "35867cac",
    "nbgrader": {
     "cell_type": "code",
     "checksum": "657f54c5250184257b78f21d33d4f4a4",
     "grade": false,
     "grade_id": "cell-96d8bd2d8ba4e45f",
     "locked": false,
     "schema_version": 3,
     "solution": true,
     "task": false
    }
   },
   "outputs": [
    {
     "name": "stdout",
     "output_type": "stream",
     "text": [
      "Holdout set score: 0.65\n"
     ]
    }
   ],
   "source": [
    "model.fit(X_trainval, y_trainval)\n",
    "\n",
    "y_preds = model.predict(X_hold)\n",
    "\n",
    "\n",
    "holdout_score = metric(y_hold, y_preds)\n",
    "print(f\"Holdout set score: {holdout_score:.2f}\")"
   ]
  },
  {
   "cell_type": "code",
   "execution_count": 25,
   "id": "d1aa038c",
   "metadata": {
    "ExecuteTime": {
     "end_time": "2021-10-21T06:26:00.236530Z",
     "start_time": "2021-10-21T06:26:00.232076Z"
    },
    "deletable": false,
    "editable": false,
    "id": "d1aa038c",
    "nbgrader": {
     "cell_type": "code",
     "checksum": "510d618a5b2d0fbb4d58aa9be9bd245a",
     "grade": true,
     "grade_id": "cell-97e63f9880344cfc",
     "locked": true,
     "points": 1,
     "schema_version": 3,
     "solution": false,
     "task": false
    }
   },
   "outputs": [],
   "source": [
    "assert y_preds is not None, 'Put the predictions in y_preds!'\n",
    "assert_equal(len(y_preds), len(X_hold))"
   ]
  },
  {
   "cell_type": "markdown",
   "id": "9489a2b4",
   "metadata": {
    "deletable": false,
    "editable": false,
    "id": "9489a2b4",
    "nbgrader": {
     "cell_type": "markdown",
     "checksum": "35958a669eae41730175ef7dc9c047d9",
     "grade": false,
     "grade_id": "cell-e9c758006e7f90f3",
     "locked": true,
     "schema_version": 3,
     "solution": false,
     "task": false
    }
   },
   "source": [
    "## Model Interpretation (Part 1)"
   ]
  },
  {
   "cell_type": "markdown",
   "id": "33e3edbe",
   "metadata": {
    "deletable": false,
    "editable": false,
    "id": "33e3edbe",
    "nbgrader": {
     "cell_type": "markdown",
     "checksum": "4062872d2c117645db5d72c978d5880c",
     "grade": false,
     "grade_id": "cell-9b22bc3fd5b2bd43",
     "locked": true,
     "schema_version": 3,
     "solution": false,
     "task": false
    }
   },
   "source": [
    "Now that we have a trained model, let us interpret our model using `shap`."
   ]
  },
  {
   "cell_type": "markdown",
   "id": "355b8a31",
   "metadata": {
    "deletable": false,
    "editable": false,
    "id": "355b8a31",
    "nbgrader": {
     "cell_type": "markdown",
     "checksum": "20e49bc951bbc922915c42e1e17815b9",
     "grade": false,
     "grade_id": "cell-0ef8b1189f3aa695",
     "locked": true,
     "schema_version": 3,
     "solution": false,
     "task": false
    }
   },
   "source": [
    "### Task 7 [1 pt]\n",
    "\n",
    "Define the `shap` explainer. Use the appropriate explainer based on our trained model."
   ]
  },
  {
   "cell_type": "code",
   "execution_count": 26,
   "id": "fedacad0",
   "metadata": {
    "ExecuteTime": {
     "end_time": "2021-10-21T06:26:03.930930Z",
     "start_time": "2021-10-21T06:26:03.927275Z"
    }
   },
   "outputs": [],
   "source": [
    "# !pip install shap"
   ]
  },
  {
   "cell_type": "code",
   "execution_count": 27,
   "id": "32249fa5",
   "metadata": {
    "ExecuteTime": {
     "end_time": "2021-10-21T06:26:08.806852Z",
     "start_time": "2021-10-21T06:26:04.885069Z"
    },
    "deletable": false,
    "id": "32249fa5",
    "nbgrader": {
     "cell_type": "code",
     "checksum": "92992ad8e2ba1949b4c2a6bf0f9483a9",
     "grade": false,
     "grade_id": "cell-a640513c13e04d97",
     "locked": false,
     "schema_version": 3,
     "solution": true,
     "task": false
    }
   },
   "outputs": [],
   "source": [
    "import shap\n",
    "\n",
    "# Define the SHAP explainer here. What is the appropriate explainer that\n",
    "# we should use in this case?\n",
    "explainer = shap.TreeExplainer(model)\n"
   ]
  },
  {
   "cell_type": "code",
   "execution_count": 28,
   "id": "7674cbb9",
   "metadata": {
    "ExecuteTime": {
     "end_time": "2021-10-21T06:26:10.288141Z",
     "start_time": "2021-10-21T06:26:10.284358Z"
    },
    "deletable": false,
    "editable": false,
    "id": "7674cbb9",
    "nbgrader": {
     "cell_type": "code",
     "checksum": "37a3ac4ba29dbc0c15c1a6a1bb963d76",
     "grade": true,
     "grade_id": "cell-c35ae1e3d3373f27",
     "locked": true,
     "points": 1,
     "schema_version": 3,
     "solution": false,
     "task": false
    }
   },
   "outputs": [],
   "source": [
    "assert explainer is not None, \"Initialize the shap explainer object here\""
   ]
  },
  {
   "cell_type": "markdown",
   "id": "d03b7440",
   "metadata": {
    "ExecuteTime": {
     "end_time": "2021-10-20T13:41:26.166657Z",
     "start_time": "2021-10-20T13:41:26.138623Z"
    },
    "deletable": false,
    "editable": false,
    "id": "d03b7440",
    "nbgrader": {
     "cell_type": "markdown",
     "checksum": "14c8380f275c701dc76a8bb3eea71c8e",
     "grade": false,
     "grade_id": "cell-d254a80f4909920e",
     "locked": true,
     "schema_version": 3,
     "solution": false,
     "task": false
    }
   },
   "source": [
    "### Task 8 [1 pt]\n",
    "\n",
    "Compute the shapley values of the features using the `shap_values()` method of the `explainer` object. Use the **hold-out test set** as reference."
   ]
  },
  {
   "cell_type": "code",
   "execution_count": 29,
   "id": "d661c654",
   "metadata": {
    "ExecuteTime": {
     "end_time": "2021-10-21T06:27:04.209154Z",
     "start_time": "2021-10-21T06:27:04.184202Z"
    },
    "deletable": false,
    "id": "d661c654",
    "nbgrader": {
     "cell_type": "code",
     "checksum": "a94ae46c751086f61b004d27381e09cc",
     "grade": false,
     "grade_id": "cell-a13ad199a3422131",
     "locked": false,
     "schema_version": 3,
     "solution": true,
     "task": false
    }
   },
   "outputs": [],
   "source": [
    "shap_values = explainer.shap_values(X_hold)\n"
   ]
  },
  {
   "cell_type": "code",
   "execution_count": 30,
   "id": "0393804e",
   "metadata": {
    "ExecuteTime": {
     "end_time": "2021-10-21T06:27:04.744805Z",
     "start_time": "2021-10-21T06:27:04.740702Z"
    },
    "deletable": false,
    "editable": false,
    "id": "0393804e",
    "nbgrader": {
     "cell_type": "code",
     "checksum": "be485817bf35c860ca7b74fbbaec88fc",
     "grade": true,
     "grade_id": "cell-d96b0ec2b9b9503b",
     "locked": true,
     "points": 1,
     "schema_version": 3,
     "solution": false,
     "task": false
    }
   },
   "outputs": [],
   "source": [
    "assert shap_values is not None, \"Place the shapley values here\""
   ]
  },
  {
   "cell_type": "markdown",
   "id": "b82f8bb4",
   "metadata": {
    "deletable": false,
    "editable": false,
    "id": "b82f8bb4",
    "nbgrader": {
     "cell_type": "markdown",
     "checksum": "c7cadedf42845f26abc91b5492916e80",
     "grade": false,
     "grade_id": "cell-43cf0b4d572496fa",
     "locked": true,
     "schema_version": 3,
     "solution": false,
     "task": false
    }
   },
   "source": [
    "Now, let's look at how the model makes predictions. We observe that for patient `10` in the hold-out test set, our model predicts her to be diabetic."
   ]
  },
  {
   "cell_type": "code",
   "execution_count": 31,
   "id": "558082ea",
   "metadata": {
    "ExecuteTime": {
     "end_time": "2021-10-21T06:27:06.748760Z",
     "start_time": "2021-10-21T06:27:06.733370Z"
    },
    "deletable": false,
    "editable": false,
    "id": "558082ea",
    "nbgrader": {
     "cell_type": "code",
     "checksum": "328634c5514c8b4716fe470352395ee5",
     "grade": false,
     "grade_id": "cell-6ef024f48dfa9998",
     "locked": true,
     "schema_version": 3,
     "solution": false,
     "task": false
    }
   },
   "outputs": [
    {
     "data": {
      "text/plain": [
       "array([1])"
      ]
     },
     "execution_count": 31,
     "metadata": {},
     "output_type": "execute_result"
    }
   ],
   "source": [
    "model.predict(X_hold.iloc[[9]])"
   ]
  },
  {
   "cell_type": "markdown",
   "id": "a6b9564f",
   "metadata": {
    "deletable": false,
    "editable": false,
    "id": "a6b9564f",
    "nbgrader": {
     "cell_type": "markdown",
     "checksum": "d844dea1e30d8291d87fea544d79530c",
     "grade": false,
     "grade_id": "cell-057f9a668881b0e3",
     "locked": true,
     "points": 1,
     "schema_version": 3,
     "solution": false,
     "task": true
    }
   },
   "source": [
    "### Task 9 [1 pt]\n",
    "\n",
    "Generate the SHAP force plot explanation for patient `10`."
   ]
  },
  {
   "cell_type": "code",
   "execution_count": 32,
   "id": "3b379658",
   "metadata": {
    "ExecuteTime": {
     "end_time": "2021-10-21T06:29:34.838751Z",
     "start_time": "2021-10-21T06:29:34.053189Z"
    },
    "deletable": false,
    "id": "3b379658",
    "nbgrader": {
     "cell_type": "code",
     "checksum": "410855f3b55244f2b081554ed3cb0314",
     "grade": false,
     "grade_id": "cell-e85cbfa9a7606f57",
     "locked": false,
     "schema_version": 3,
     "solution": true,
     "task": false
    }
   },
   "outputs": [
    {
     "data": {
      "image/png": "[encoded data removed]",
      "text/plain": [
       "<Figure size 1440x216 with 1 Axes>"
      ]
     },
     "metadata": {
      "needs_background": "light"
     },
     "output_type": "display_data"
    }
   ],
   "source": [
    "# Generate the SHAP force plot here for patient 10\n",
    "shap.force_plot(explainer.expected_value, \n",
    "                shap_values[9], X_hold.columns, matplotlib=True)"
   ]
  },
  {
   "cell_type": "markdown",
   "id": "c46315cf",
   "metadata": {
    "deletable": false,
    "editable": false,
    "id": "c46315cf",
    "nbgrader": {
     "cell_type": "markdown",
     "checksum": "3cf4704d9aa74731eb80b9babd968b07",
     "grade": false,
     "grade_id": "cell-a7bf1f5c523a1141",
     "locked": true,
     "schema_version": 3,
     "solution": false,
     "task": false
    }
   },
   "source": [
    "### Task 10 [2 pts]\n",
    "\n",
    "Interpret the results of the SHAP force plot. Explain as you would to a business stakeholder.\n",
    "\n",
    "*Guide questions: What does the Shapley value mean for this problem? From the average prediction, how did the model arrive to its prediction? Interpret how each feature in the model contribute to the final prediction.*"
   ]
  },
  {
   "cell_type": "markdown",
   "id": "6fcaa5e8",
   "metadata": {
    "deletable": false,
    "id": "6fcaa5e8",
    "nbgrader": {
     "cell_type": "markdown",
     "checksum": "1d6aa6b792acf1f9e99fee2e880d6a20",
     "grade": true,
     "grade_id": "cell-ebbf2d6d0470c63b",
     "locked": false,
     "points": 2,
     "schema_version": 3,
     "solution": true,
     "task": false
    }
   },
   "source": [
    "For this problem, the shapley value predicts how likely a person has diabetes. A higher prediction means a higher chance of having diabetes, while lower predictions imply a lower chance of getting diabetes given the selected features. This prediction of 0.21 is higher than the base value (or average) of around -1.00. Looking at the features with the largest shapley values, glucose seems to be the largest diabetes predictor for patient 10, followed by bmi and pregnancies. Meanwhile, factors such as age and blood pressure act as resistance to the \"push\" generated by glucose and bmi. To verify our findings, we will look into a beeswarm plot in task 11. Smaller factors such as pedigree function, insulin, and skin thickness, also contributed to increasing the value of the prediction. These shapely values altogether predict that this patient is 1.21 above the naive prediction of -1."
   ]
  },
  {
   "cell_type": "code",
   "execution_count": 38,
   "id": "a3018e4e",
   "metadata": {
    "ExecuteTime": {
     "end_time": "2021-10-21T06:46:09.413712Z",
     "start_time": "2021-10-21T06:46:09.401248Z"
    }
   },
   "outputs": [
    {
     "data": {
      "text/html": [
       "<div>\n",
       "<style scoped>\n",
       "    .dataframe tbody tr th:only-of-type {\n",
       "        vertical-align: middle;\n",
       "    }\n",
       "\n",
       "    .dataframe tbody tr th {\n",
       "        vertical-align: top;\n",
       "    }\n",
       "\n",
       "    .dataframe thead th {\n",
       "        text-align: right;\n",
       "    }\n",
       "</style>\n",
       "<table border=\"1\" class=\"dataframe\">\n",
       "  <thead>\n",
       "    <tr style=\"text-align: right;\">\n",
       "      <th></th>\n",
       "      <th>column_value</th>\n",
       "      <th>shap_vals</th>\n",
       "    </tr>\n",
       "  </thead>\n",
       "  <tbody>\n",
       "    <tr>\n",
       "      <th>1</th>\n",
       "      <td>glucose</td>\n",
       "      <td>0.827443</td>\n",
       "    </tr>\n",
       "    <tr>\n",
       "      <th>5</th>\n",
       "      <td>bmi</td>\n",
       "      <td>0.390571</td>\n",
       "    </tr>\n",
       "    <tr>\n",
       "      <th>0</th>\n",
       "      <td>pregnancies</td>\n",
       "      <td>0.321522</td>\n",
       "    </tr>\n",
       "    <tr>\n",
       "      <th>6</th>\n",
       "      <td>pedigree function</td>\n",
       "      <td>0.153102</td>\n",
       "    </tr>\n",
       "    <tr>\n",
       "      <th>4</th>\n",
       "      <td>insulin</td>\n",
       "      <td>0.055337</td>\n",
       "    </tr>\n",
       "    <tr>\n",
       "      <th>3</th>\n",
       "      <td>skin thickness</td>\n",
       "      <td>0.047104</td>\n",
       "    </tr>\n",
       "    <tr>\n",
       "      <th>2</th>\n",
       "      <td>blood pressure</td>\n",
       "      <td>-0.280131</td>\n",
       "    </tr>\n",
       "    <tr>\n",
       "      <th>7</th>\n",
       "      <td>age</td>\n",
       "      <td>-0.311988</td>\n",
       "    </tr>\n",
       "  </tbody>\n",
       "</table>\n",
       "</div>"
      ],
      "text/plain": [
       "        column_value  shap_vals\n",
       "1            glucose   0.827443\n",
       "5                bmi   0.390571\n",
       "0        pregnancies   0.321522\n",
       "6  pedigree function   0.153102\n",
       "4            insulin   0.055337\n",
       "3     skin thickness   0.047104\n",
       "2     blood pressure  -0.280131\n",
       "7                age  -0.311988"
      ]
     },
     "execution_count": 38,
     "metadata": {},
     "output_type": "execute_result"
    }
   ],
   "source": [
    "shap_vals = shap_values[9]\n",
    "\n",
    "feature_importance = pd.DataFrame(list(zip(X_hold.columns, shap_vals)),\n",
    "                                  columns=['column_value', 'shap_vals'])\n",
    "\n",
    "feature_importance.sort_values(by=['shap_vals'], \n",
    "                               ascending=False, \n",
    "                               inplace=True)\n",
    "\n",
    "feature_importance"
   ]
  },
  {
   "cell_type": "code",
   "execution_count": 36,
   "id": "e45daf3e",
   "metadata": {
    "ExecuteTime": {
     "end_time": "2021-10-21T06:41:58.316404Z",
     "start_time": "2021-10-21T06:41:57.900020Z"
    }
   },
   "outputs": [
    {
     "data": {
      "image/png": "[encoded data removed]",
      "text/plain": [
       "<Figure size 576x338.4 with 1 Axes>"
      ]
     },
     "metadata": {
      "needs_background": "light"
     },
     "output_type": "display_data"
    }
   ],
   "source": [
    "shap.summary_plot(shap_values=shap_values, \n",
    "                  features=X_hold, \n",
    "                  plot_type=\"bar\")"
   ]
  },
  {
   "cell_type": "markdown",
   "id": "b093299a",
   "metadata": {
    "deletable": false,
    "editable": false,
    "id": "b093299a",
    "nbgrader": {
     "cell_type": "markdown",
     "checksum": "043ac4e7b1d2d793069ba81e66105d69",
     "grade": false,
     "grade_id": "cell-2445c72ccb26a4c9",
     "locked": true,
     "schema_version": 3,
     "solution": false,
     "task": false
    }
   },
   "source": [
    "Now, we want to interpret the results of the model on the entire dataset. We want a plot for global interpretability that combines feature importance with feature effects."
   ]
  },
  {
   "cell_type": "markdown",
   "id": "1e2de7ac",
   "metadata": {
    "deletable": false,
    "editable": false,
    "id": "1e2de7ac",
    "nbgrader": {
     "cell_type": "markdown",
     "checksum": "9d6c47e98ca82ea6ad0732ce3d4fc12f",
     "grade": false,
     "grade_id": "cell-f7ebc51e2a7beea6",
     "locked": true,
     "points": 1,
     "schema_version": 3,
     "solution": false,
     "task": true
    }
   },
   "source": [
    "### Task 11 [1 pt]\n",
    "\n",
    "Generate the SHAP beeswarm plot below using `shap.summary_plot()` function."
   ]
  },
  {
   "cell_type": "code",
   "execution_count": 34,
   "id": "e4aabd1e",
   "metadata": {
    "ExecuteTime": {
     "end_time": "2021-10-21T06:41:34.000989Z",
     "start_time": "2021-10-21T06:41:33.608375Z"
    },
    "deletable": false,
    "id": "e4aabd1e",
    "nbgrader": {
     "cell_type": "code",
     "checksum": "374ded46fee0c108e977a152ffaff6f4",
     "grade": false,
     "grade_id": "cell-1080c84e8fcf76e4",
     "locked": false,
     "schema_version": 3,
     "solution": true,
     "task": false
    }
   },
   "outputs": [
    {
     "data": {
      "image/png": "[encoded data removed]",
      "text/plain": [
       "<Figure size 576x338.4 with 2 Axes>"
      ]
     },
     "metadata": {
      "needs_background": "light"
     },
     "output_type": "display_data"
    }
   ],
   "source": [
    "# Generate the SHAP beeswarm plot here\n",
    "shap.summary_plot(shap_values = shap_values, \n",
    "                  features = X_hold)"
   ]
  },
  {
   "cell_type": "markdown",
   "id": "536dbf61",
   "metadata": {
    "deletable": false,
    "editable": false,
    "id": "536dbf61",
    "nbgrader": {
     "cell_type": "markdown",
     "checksum": "967cf4aa47ccdafab002ee1af6504ac4",
     "grade": false,
     "grade_id": "cell-20ad70b19bf3e580",
     "locked": true,
     "schema_version": 3,
     "solution": false,
     "task": false
    }
   },
   "source": [
    "### Task 12 [2 pts]\n",
    "\n",
    "Interpret the resulting bee-swarm plot.\n",
    "\n",
    "*Guide questions:*\n",
    "\n",
    "*(1) In your plot, which feature is the strongest predictor for diabetes? Comment on the **SHAP values** and the **feature values** and how they impact the model output.*\n",
    "\n",
    "*(2) Consider for example the `bmi` feature. Notice how the points are jittered or clustered together. Interpret this observation.*"
   ]
  },
  {
   "cell_type": "markdown",
   "id": "458e5a48",
   "metadata": {
    "deletable": false,
    "id": "458e5a48",
    "nbgrader": {
     "cell_type": "markdown",
     "checksum": "07a0f03f703a4f8b11058ac52d1bcfa0",
     "grade": true,
     "grade_id": "cell-240df543e462fc64",
     "locked": false,
     "points": 2,
     "schema_version": 3,
     "solution": true,
     "task": false
    }
   },
   "source": [
    "1.) First of all, glucose is the strongest predictor for diabtes, followed by BMI. High values of glucose correspond to positive shap values, while a cluster of low values of glucose correspond to negative shapl values. However, one unique observation is the blood pressure feature, wherein high feature values correspond to negative shap values. \n",
    "\n",
    "2.) In the bmi feature, we can say that higher bmi levels would positively contribute to predicting a diabetes case. However a certain level of BMI doesn't strongly impact the output of the model, yet remains a positive shap value. This can be seen in medium-high BMI feature values clustered around low, but positive shap values (0-1). "
   ]
  },
  {
   "cell_type": "markdown",
   "id": "eb6b2610",
   "metadata": {
    "deletable": false,
    "editable": false,
    "id": "eb6b2610",
    "nbgrader": {
     "cell_type": "markdown",
     "checksum": "35f127e24673084f084c3aa7f8407dcc",
     "grade": false,
     "grade_id": "cell-414e88341d0ffea6",
     "locked": true,
     "schema_version": 3,
     "solution": false,
     "task": false
    }
   },
   "source": [
    "## Dataset Resampling"
   ]
  },
  {
   "cell_type": "markdown",
   "id": "090781ff",
   "metadata": {
    "deletable": false,
    "editable": false,
    "id": "090781ff",
    "nbgrader": {
     "cell_type": "markdown",
     "checksum": "86f2dcd4d392ccce9737d47e593fd618",
     "grade": false,
     "grade_id": "cell-0b6d1c5fe7908beb",
     "locked": true,
     "schema_version": 3,
     "solution": false,
     "task": false
    }
   },
   "source": [
    "Let's now use `ADASYN` to resample our dataset. Here, we will use the `Pipeline` class of `imblearn` to put together different stages (e.g., preprocessing, model training) into one pipeline including the `ADASYN` resampling. We can then use and integrate our pipe with `sklearn`'s `cross_val_score` implemented in the previous task."
   ]
  },
  {
   "cell_type": "markdown",
   "id": "80ec5f2c",
   "metadata": {
    "id": "80ec5f2c"
   },
   "source": [
    "### Task 13 [1 pt]\n",
    "\n",
    "Store in variable `ad` an initialized `ADASYN` resampler from `imblearn` with a `random_state=11`. Similar to **Task [3](#Task-3-[1-pt])**, you are to initialize an untuned/default `GradientBoostingClassifier` with a `random_state=11` and save it in `model`."
   ]
  },
  {
   "cell_type": "code",
   "execution_count": 53,
   "id": "cf03e20a",
   "metadata": {
    "ExecuteTime": {
     "end_time": "2021-10-21T07:10:14.499904Z",
     "start_time": "2021-10-21T07:10:14.457259Z"
    },
    "deletable": false,
    "id": "cf03e20a",
    "nbgrader": {
     "cell_type": "code",
     "checksum": "a22077dabbceb9e3e6e1fafff6eb06e8",
     "grade": false,
     "grade_id": "cell-18ddb2246ef284e0",
     "locked": false,
     "schema_version": 3,
     "solution": true,
     "task": false
    }
   },
   "outputs": [],
   "source": [
    "# resampling: ADASYN\n",
    "from imblearn.over_sampling import ADASYN\n",
    "from imblearn.pipeline import Pipeline\n",
    "\n",
    "ad = ADASYN(random_state=11)\n",
    "model = GradientBoostingClassifier(random_state=11)\n"
   ]
  },
  {
   "cell_type": "code",
   "execution_count": 54,
   "id": "4008d787",
   "metadata": {
    "ExecuteTime": {
     "end_time": "2021-10-21T07:10:16.661506Z",
     "start_time": "2021-10-21T07:10:16.657468Z"
    },
    "deletable": false,
    "editable": false,
    "id": "4008d787",
    "nbgrader": {
     "cell_type": "code",
     "checksum": "048ec6807474489b468f0052f882e65a",
     "grade": true,
     "grade_id": "cell-ffc90215f5541e65",
     "locked": true,
     "points": 1,
     "schema_version": 3,
     "solution": false,
     "task": false
    }
   },
   "outputs": [],
   "source": [
    "assert ad is not None, 'Put the ADASYN instance in ad!'\n",
    "assert model is not None, 'Put a Gradient Boosting Classifer instance in the model variable!'"
   ]
  },
  {
   "cell_type": "markdown",
   "id": "3ffb75af",
   "metadata": {
    "deletable": false,
    "editable": false,
    "id": "3ffb75af",
    "nbgrader": {
     "cell_type": "markdown",
     "checksum": "f682af4b4786acfec2238cd040fb8f00",
     "grade": false,
     "grade_id": "cell-ba1de6f1f73015c3",
     "locked": true,
     "schema_version": 3,
     "solution": false,
     "task": false
    }
   },
   "source": [
    "Now, let's evaluate our pipeline using `cross_val_score`."
   ]
  },
  {
   "cell_type": "code",
   "execution_count": 55,
   "id": "e957c8a7",
   "metadata": {
    "ExecuteTime": {
     "end_time": "2021-10-21T07:10:24.345774Z",
     "start_time": "2021-10-21T07:10:22.620411Z"
    },
    "deletable": false,
    "editable": false,
    "id": "e957c8a7",
    "nbgrader": {
     "cell_type": "code",
     "checksum": "eb2c6a0a219a17422254751a60cda601",
     "grade": false,
     "grade_id": "cell-ea72b0f1a4810877",
     "locked": true,
     "schema_version": 3,
     "solution": false,
     "task": false
    }
   },
   "outputs": [
    {
     "name": "stdout",
     "output_type": "stream",
     "text": [
      "Average cv score: 0.72\n",
      "Holdout set score: 0.78\n"
     ]
    }
   ],
   "source": [
    "# Generate new results: Run this after performing Task 13\n",
    "pipeline = Pipeline([('adasyn', ad), ('gbc', model)])\n",
    "cv_scores = cross_val_score(estimator=pipeline, X=X_trainval, y=y_trainval,\n",
    "                            scoring=scorer, cv=skf, n_jobs=-1)\n",
    "\n",
    "# Display average cross validation score\n",
    "average_cv_score = np.mean(cv_scores)\n",
    "print(f\"Average cv score: {average_cv_score:.2f}\")\n",
    "\n",
    "# Refit and predict\n",
    "pipeline.fit(X_trainval, y_trainval)\n",
    "y_preds = pipeline.predict(X_hold)\n",
    "\n",
    "holdout_score = metric(y_hold, y_preds)\n",
    "print(f\"Holdout set score: {holdout_score:.2f}\")"
   ]
  },
  {
   "cell_type": "markdown",
   "id": "5b9879cb",
   "metadata": {
    "deletable": false,
    "editable": false,
    "id": "5b9879cb",
    "nbgrader": {
     "cell_type": "markdown",
     "checksum": "9edc16f687e90102d9c450866b3e7a88",
     "grade": false,
     "grade_id": "cell-be0c3ed0b080a650",
     "locked": true,
     "schema_version": 3,
     "solution": false,
     "task": false
    }
   },
   "source": [
    "### Task  14 [1 pt]\n",
    "\n",
    "Comment on the impact of `ADASYN` on the new average cv and holdout scores--compared against those obtained in **Tasks [5](#Task-5-[1-pt]) and [6](#Task-6-[1-pt])**."
   ]
  },
  {
   "cell_type": "markdown",
   "id": "7d013064",
   "metadata": {
    "deletable": false,
    "id": "7d013064",
    "nbgrader": {
     "cell_type": "markdown",
     "checksum": "6710a6169f9cf71307a55098d7b42d1d",
     "grade": true,
     "grade_id": "cell-f9be89b52ca7aa56",
     "locked": false,
     "points": 1,
     "schema_version": 3,
     "solution": true,
     "task": false
    }
   },
   "source": [
    "(Recall: we are using recall) Comparing task 5 and task 6, task 5's average CV score was 0.61 while task 6's holdout score was 0.65. Using ADASYN, we got a higher average cv score of 0.72 and a higher holdout score of 0.78, a respectable increase. False negatives were therefore decreased in the resampled data, explaining the higher recall. (Statistical significance could be checked for the extra mile)"
   ]
  },
  {
   "cell_type": "markdown",
   "id": "b046eec7",
   "metadata": {
    "deletable": false,
    "editable": false,
    "id": "b046eec7",
    "nbgrader": {
     "cell_type": "markdown",
     "checksum": "5842651811ba82e9563b336d31d04834",
     "grade": false,
     "grade_id": "cell-74a19cb7a0e435a9",
     "locked": true,
     "schema_version": 3,
     "solution": false,
     "task": false
    }
   },
   "source": [
    "### Task 15 [1 pt]\n",
    "\n",
    "Suppose a tuning step was done to obtain optimal hyperparameters of our `GradientBoostingClassifier`. Use the optimal hyperparameters now to re-train our pipeline on the `X_trainval` and `y_trainval` set. \n",
    "\n",
    "Again, **initialize** the `GradientBoostingClassifer` **using the hyperparameters below** and store it in the variable `model`.\n",
    "\n",
    "**Optimal Hyperparameters of GBC**:\n",
    "* `n_estimators=123`\n",
    "* `max_depth=3`\n",
    "* `learning_rate=0.018676197244611753`\n",
    "* `random_state=11`, for reproduciblity"
   ]
  },
  {
   "cell_type": "code",
   "execution_count": 56,
   "id": "82f0a42e",
   "metadata": {
    "ExecuteTime": {
     "end_time": "2021-10-21T07:10:58.427652Z",
     "start_time": "2021-10-21T07:10:58.423284Z"
    },
    "deletable": false,
    "id": "82f0a42e",
    "nbgrader": {
     "cell_type": "code",
     "checksum": "96fa01180aa41324aa67a40133559651",
     "grade": false,
     "grade_id": "cell-a62015ea21f76490",
     "locked": false,
     "schema_version": 3,
     "solution": true,
     "task": false
    }
   },
   "outputs": [],
   "source": [
    "model = GradientBoostingClassifier(n_estimators=123, \n",
    "                                   max_depth=3, \n",
    "                                   learning_rate=0.018676197244611753,\n",
    "                                   random_state=11)\n"
   ]
  },
  {
   "cell_type": "code",
   "execution_count": 57,
   "id": "3a2c3eb3",
   "metadata": {
    "ExecuteTime": {
     "end_time": "2021-10-21T07:11:01.591269Z",
     "start_time": "2021-10-21T07:11:01.587232Z"
    },
    "deletable": false,
    "editable": false,
    "id": "3a2c3eb3",
    "nbgrader": {
     "cell_type": "code",
     "checksum": "4fc56fa33a807983e199b156e99bcab8",
     "grade": true,
     "grade_id": "cell-9a05b51d47298a7b",
     "locked": true,
     "points": 1,
     "schema_version": 3,
     "solution": false,
     "task": false
    }
   },
   "outputs": [],
   "source": [
    "assert model is not None, 'Put a Gradient Boosting Classifer with tuned hyperparameters this variable!'"
   ]
  },
  {
   "cell_type": "code",
   "execution_count": 58,
   "id": "2a624bee",
   "metadata": {
    "ExecuteTime": {
     "end_time": "2021-10-21T07:11:03.052224Z",
     "start_time": "2021-10-21T07:11:02.305251Z"
    },
    "deletable": false,
    "editable": false,
    "id": "2a624bee",
    "nbgrader": {
     "cell_type": "code",
     "checksum": "69302115d01865bffa886ac7eac8fb7f",
     "grade": false,
     "grade_id": "cell-564230605456f73f",
     "locked": true,
     "schema_version": 3,
     "solution": false,
     "task": false
    }
   },
   "outputs": [
    {
     "name": "stdout",
     "output_type": "stream",
     "text": [
      "Average cv score: 0.72\n",
      "Holdout set score: 0.85\n"
     ]
    }
   ],
   "source": [
    "# RUN AFTER TASK 15\n",
    "# initialize the pipeline using the same ADASYN resampler ad and new model\n",
    "pipeline = Pipeline([('adasyn', ad), ('gbc', model)])\n",
    "\n",
    "# perform cross validation\n",
    "cv_scores = cross_val_score(estimator=pipeline, X=X_trainval, y=y_trainval,\n",
    "                            scoring=scorer, cv=skf, n_jobs=-1)\n",
    "\n",
    "# calculate the average cv score\n",
    "average_cv_score = np.mean(cv_scores)\n",
    "print(f\"Average cv score: {average_cv_score:.2f}\")\n",
    "\n",
    "# fit and predict\n",
    "pipeline.fit(X_trainval, y_trainval)\n",
    "y_preds = pipeline.predict(X_hold)\n",
    "\n",
    "# get score on holdout set\n",
    "holdout_score = metric(y_hold, y_preds)\n",
    "print(f\"Holdout set score: {holdout_score:.2f}\")"
   ]
  },
  {
   "cell_type": "markdown",
   "id": "74a6cd17",
   "metadata": {
    "deletable": false,
    "editable": false,
    "id": "74a6cd17",
    "nbgrader": {
     "cell_type": "markdown",
     "checksum": "82c91812759a27afd69fbf01f48ae8c1",
     "grade": false,
     "grade_id": "cell-0365014e8301fea8",
     "locked": true,
     "schema_version": 3,
     "solution": false,
     "task": false
    }
   },
   "source": [
    "## Model Interpretation (Part 2)"
   ]
  },
  {
   "cell_type": "markdown",
   "id": "829a4f84",
   "metadata": {
    "deletable": false,
    "editable": false,
    "id": "829a4f84",
    "nbgrader": {
     "cell_type": "markdown",
     "checksum": "4692f563a188fd9bfd5b2a2978675a9a",
     "grade": false,
     "grade_id": "cell-6840ec026bcdad44",
     "locked": true,
     "schema_version": 3,
     "solution": false,
     "task": false
    }
   },
   "source": [
    "Now let's interpret again our trained model. This time, we SHAP directly on our pipeline. We can achieve this using the `shap.KernelExplainer` object. We use our holdout test set as reference."
   ]
  },
  {
   "cell_type": "code",
   "execution_count": 59,
   "id": "6b1ad141",
   "metadata": {
    "ExecuteTime": {
     "end_time": "2021-10-21T07:13:55.350616Z",
     "start_time": "2021-10-21T07:13:55.339033Z"
    },
    "deletable": false,
    "editable": false,
    "id": "6b1ad141",
    "nbgrader": {
     "cell_type": "code",
     "checksum": "21a76404382d122b16289b125fef6299",
     "grade": false,
     "grade_id": "cell-0c06127c920517bd",
     "locked": true,
     "schema_version": 3,
     "solution": false,
     "task": false
    }
   },
   "outputs": [],
   "source": [
    "explainer = shap.TreeExplainer(\n",
    "    pipeline['gbc'], feature_names=X_hold.columns,\n",
    ")"
   ]
  },
  {
   "cell_type": "markdown",
   "id": "2f7e5d19",
   "metadata": {
    "deletable": false,
    "editable": false,
    "id": "2f7e5d19",
    "nbgrader": {
     "cell_type": "markdown",
     "checksum": "224aa3274b979ea24210dcc117be8a0c",
     "grade": false,
     "grade_id": "cell-1d5bb9bfd7396818",
     "locked": true,
     "schema_version": 3,
     "solution": false,
     "task": false
    }
   },
   "source": [
    "### Task 16 [1 pt]\n",
    "\n",
    "Compute for the shapley values of each features using the `shap_value()` method of the `explainer` object."
   ]
  },
  {
   "cell_type": "code",
   "execution_count": 60,
   "id": "8698d97b",
   "metadata": {
    "ExecuteTime": {
     "end_time": "2021-10-21T07:14:33.015099Z",
     "start_time": "2021-10-21T07:14:32.992260Z"
    },
    "deletable": false,
    "id": "8698d97b",
    "nbgrader": {
     "cell_type": "code",
     "checksum": "0d013e475c96d90e4c1a1c4b70c706db",
     "grade": false,
     "grade_id": "cell-f00b2fc8410b9c98",
     "locked": false,
     "schema_version": 3,
     "solution": true,
     "task": false
    }
   },
   "outputs": [],
   "source": [
    "# # Ignore warnings for brevity\n",
    "# import warnings\n",
    "# warnings.filterwarnings('ignore')\n",
    "\n",
    "# Compute the Shapley values using the `shap_value()` method of\n",
    "# explainer. Use the hold-out test set as reference\n",
    "shap_values = explainer.shap_values(X_hold)\n"
   ]
  },
  {
   "cell_type": "code",
   "execution_count": 61,
   "id": "e2ee7441",
   "metadata": {
    "ExecuteTime": {
     "end_time": "2021-10-21T07:14:33.847742Z",
     "start_time": "2021-10-21T07:14:33.844092Z"
    },
    "deletable": false,
    "editable": false,
    "id": "e2ee7441",
    "nbgrader": {
     "cell_type": "code",
     "checksum": "3c1e6c1ce67a49acb975064997ca59d1",
     "grade": true,
     "grade_id": "cell-0e8e4559778ef99d",
     "locked": true,
     "points": 1,
     "schema_version": 3,
     "solution": false,
     "task": false
    }
   },
   "outputs": [],
   "source": [
    "assert shap_values is not None"
   ]
  },
  {
   "cell_type": "markdown",
   "id": "18863711",
   "metadata": {
    "deletable": false,
    "editable": false,
    "id": "18863711",
    "nbgrader": {
     "cell_type": "markdown",
     "checksum": "97e99d4bbdf712597f396f7267783b01",
     "grade": false,
     "grade_id": "cell-8871b0fc2997e0d2",
     "locked": true,
     "schema_version": 3,
     "solution": false,
     "task": false
    }
   },
   "source": [
    "We note that our model still predicts patient `10` to be diabetic."
   ]
  },
  {
   "cell_type": "code",
   "execution_count": 62,
   "id": "160c84e1",
   "metadata": {
    "ExecuteTime": {
     "end_time": "2021-10-21T07:14:50.739011Z",
     "start_time": "2021-10-21T07:14:50.727951Z"
    },
    "deletable": false,
    "editable": false,
    "id": "160c84e1",
    "nbgrader": {
     "cell_type": "code",
     "checksum": "62c156b2c9ea66a6f4083c0431cd7a44",
     "grade": false,
     "grade_id": "cell-6ce0457623f538ed",
     "locked": true,
     "schema_version": 3,
     "solution": false,
     "task": false
    }
   },
   "outputs": [
    {
     "data": {
      "text/plain": [
       "array([1])"
      ]
     },
     "execution_count": 62,
     "metadata": {},
     "output_type": "execute_result"
    }
   ],
   "source": [
    "pipeline['gbc'].predict(X_hold.iloc[[9]])"
   ]
  },
  {
   "cell_type": "markdown",
   "id": "57cb9195",
   "metadata": {
    "deletable": false,
    "editable": false,
    "id": "57cb9195",
    "nbgrader": {
     "cell_type": "markdown",
     "checksum": "aa2c05c1f96a8685ea2363ccec3122d2",
     "grade": false,
     "grade_id": "cell-393cce1053ab8ce0",
     "locked": true,
     "points": 1,
     "schema_version": 3,
     "solution": false,
     "task": true
    }
   },
   "source": [
    "### Task 17 [1 pt]\n",
    "\n",
    "Generate the **SHAP Force Plot** model explanation for patient `10`."
   ]
  },
  {
   "cell_type": "code",
   "execution_count": 63,
   "id": "13c0a6f5",
   "metadata": {
    "ExecuteTime": {
     "end_time": "2021-10-21T07:15:28.073079Z",
     "start_time": "2021-10-21T07:15:27.670990Z"
    },
    "deletable": false,
    "id": "13c0a6f5",
    "nbgrader": {
     "cell_type": "code",
     "checksum": "21280e4193556fdf25e14e73ebdd9a50",
     "grade": false,
     "grade_id": "cell-c6933ed18154253b",
     "locked": false,
     "schema_version": 3,
     "solution": true,
     "task": false
    }
   },
   "outputs": [
    {
     "data": {
      "image/png": "[encoded data removed]",
      "text/plain": [
       "<Figure size 1440x216 with 1 Axes>"
      ]
     },
     "metadata": {
      "needs_background": "light"
     },
     "output_type": "display_data"
    }
   ],
   "source": [
    "# Generate the SHAP force plot here\n",
    "shap.force_plot(explainer.expected_value, \n",
    "                shap_values[9], X_hold.columns, matplotlib=True)"
   ]
  },
  {
   "cell_type": "markdown",
   "id": "84a525d3",
   "metadata": {
    "deletable": false,
    "editable": false,
    "id": "84a525d3",
    "nbgrader": {
     "cell_type": "markdown",
     "checksum": "154ac3670c75805634d4de58a36abad9",
     "grade": false,
     "grade_id": "cell-17c325644ba461aa",
     "locked": true,
     "points": 1,
     "schema_version": 3,
     "solution": false,
     "task": true
    }
   },
   "source": [
    "### Task 18 [1 pt]\n",
    "\n",
    "Generate the **SHAP Beeswarm Plot** global model explanation for our pipeline."
   ]
  },
  {
   "cell_type": "code",
   "execution_count": 65,
   "id": "30b37a19",
   "metadata": {
    "ExecuteTime": {
     "end_time": "2021-10-21T07:17:07.165626Z",
     "start_time": "2021-10-21T07:17:06.768794Z"
    },
    "deletable": false,
    "id": "30b37a19",
    "nbgrader": {
     "cell_type": "code",
     "checksum": "96fd8ab9a7f0cc55da1f6b0a5c5219e2",
     "grade": false,
     "grade_id": "cell-d4cb9d387f476804",
     "locked": false,
     "schema_version": 3,
     "solution": true,
     "task": false
    }
   },
   "outputs": [
    {
     "data": {
      "image/png": "[encoded data removed]",
      "text/plain": [
       "<Figure size 576x338.4 with 2 Axes>"
      ]
     },
     "metadata": {
      "needs_background": "light"
     },
     "output_type": "display_data"
    }
   ],
   "source": [
    "# Generate the beeswarm plot here\n",
    "shap.summary_plot(shap_values = shap_values, \n",
    "                  features = X_hold)"
   ]
  },
  {
   "cell_type": "markdown",
   "id": "06227128",
   "metadata": {
    "deletable": false,
    "editable": false,
    "id": "06227128",
    "nbgrader": {
     "cell_type": "markdown",
     "checksum": "a545cee7a0f4616e56e8b56fb3429d10",
     "grade": false,
     "grade_id": "cell-268c24b5ce8e3276",
     "locked": true,
     "schema_version": 3,
     "solution": false,
     "task": false
    }
   },
   "source": [
    "### Task 19 [2 pts]\n",
    "\n",
    "Enumerate at least **three** the differences you see between the model explanations for our tuned pipeline with resampling versus the prior model we used.\n",
    "\n",
    "Hypothesize possible causes that changed the way the model behaved. Explain your answer as if you were talking to a business stakeholder after showing them this iteration or version of your model."
   ]
  },
  {
   "cell_type": "markdown",
   "id": "7236fd4a",
   "metadata": {
    "deletable": false,
    "id": "7236fd4a",
    "nbgrader": {
     "cell_type": "markdown",
     "checksum": "36c62d1802c5674c2d61a47fb91b40c0",
     "grade": true,
     "grade_id": "cell-abafe932455058e0",
     "locked": false,
     "points": 2,
     "schema_version": 3,
     "solution": true,
     "task": false
    }
   },
   "source": [
    "1.) There is a clear difference in BMI wherein for our resampled and retuned pipeline model's medium-high feature values, they are clustered between SHAP values of 0-0.5. Whereas for our prior model, there are high BMI feature values that can be described as outlier SHAP values of 1.5-2.5. \n",
    "\n",
    "2.) Blood pressure's SHAP values in the newer model are clustered closer to 0, whereas in our previous model, the SHAP values are further from 0. As such, in our resampled and retuned pipeline model's, blood pressure went from 5th to second to the last in terms of its impact on the output, when compared to the prior model.\n",
    "\n",
    "3.) In the case of patient 10, we can observe in the resampled model that the shapley values increased to 0.97 because of a higher push from glucose and BMI compared to the former. We can also see that factors such as age and and blood reduced its impact to the shapley values for the resampled model.\n",
    "\n",
    "### Explanation to a business stakeholder:\n",
    "\n",
    "The reason we do **resampling** in the first place is because the data is imbalanced. The ratio of non-diabetic to diabetic cases is 65-35. The problem with accepting an answer using an imbalanced data is that the algorithm can give an answer based on pure chance- implying some sort of bias, which is unacceptable, especially for this specific case wherein getting false negatives (diabetic people classified as non-diabetic) can have very grave ramifications. \n",
    "\n",
    "So, the resampling method we used, ADAYSN, is an oversampling method wherein we \"balance\" the minority class with the majority class by creating synthetic data points for the minority class. This way, we deal with the bias created by the imbalanced data. As such, we are able to get a clearer picture of being able to predict the minority class, which in our case, are the diabetic patients. This is evidenced by a higher holdout recall score of 0.78 in our resampled model vs 0.65 in our prior model. What this means is we have a 13% higher chance of predicting diabetic people, which if we put in terms of the data, allows us to help 35 **more** people out of 268 diabetic cases."
   ]
  },
  {
   "cell_type": "markdown",
   "id": "acc1977a",
   "metadata": {
    "deletable": false,
    "editable": false,
    "id": "acc1977a",
    "nbgrader": {
     "cell_type": "markdown",
     "checksum": "387eb7e366d3358c0c830e72f108323d",
     "grade": false,
     "grade_id": "cell-8ff443aeff2101da",
     "locked": true,
     "schema_version": 3,
     "solution": false,
     "task": false
    }
   },
   "source": [
    "### Task 20 [2 pts]\n",
    "\n",
    "What are the potential limitations in our current iteration? What steps will you do to improve the model performance and explainability?"
   ]
  },
  {
   "cell_type": "markdown",
   "id": "e46a42a2",
   "metadata": {
    "deletable": false,
    "id": "e46a42a2",
    "nbgrader": {
     "cell_type": "markdown",
     "checksum": "9bd26772fad58a7f30208f3bd8531f9a",
     "grade": true,
     "grade_id": "cell-722e007c2ec67826",
     "locked": false,
     "points": 2,
     "schema_version": 3,
     "solution": true,
     "task": false
    }
   },
   "source": [
    "Our current iteration did not hypertune the resampling process and used only one modeling algorithm. Furthermore, we limited our interpretation to two plots: the force plot and the beeswarm plot.\n",
    "\n",
    "In the case of resampling, hypertuning may result in synthetic data that better represent the real world scenario. In the case of modeling, using multiple models allows us to compare correctness of predictions even before assessing interpretability. Lastly, in terms of interpretability, we can explore other plots such as the SHAP dependence plot to obtain more information about the results."
   ]
  },
  {
   "cell_type": "code",
   "execution_count": null,
   "id": "94a19d7e",
   "metadata": {},
   "outputs": [],
   "source": []
  }
 ],
 "metadata": {
  "colab": {
   "collapsed_sections": [
    "26519916",
    "21b43de2",
    "1fc46421",
    "83ecd1f5",
    "355b8a31",
    "d03b7440",
    "a6b9564f",
    "c46315cf",
    "1e2de7ac",
    "536dbf61",
    "80ec5f2c",
    "5b9879cb",
    "b046eec7",
    "2f7e5d19",
    "57cb9195",
    "84a525d3",
    "06227128",
    "acc1977a"
   ],
   "name": "sw2.ipynb",
   "provenance": []
  },
  "hide_input": false,
  "kernelspec": {
   "display_name": "Python 3 (ipykernel)",
   "language": "python",
   "name": "python3"
  },
  "language_info": {
   "codemirror_mode": {
    "name": "ipython",
    "version": 3
   },
   "file_extension": ".py",
   "mimetype": "text/x-python",
   "name": "python",
   "nbconvert_exporter": "python",
   "pygments_lexer": "ipython3",
   "version": "3.8.12"
  },
  "toc": {
   "base_numbering": 1,
   "nav_menu": {},
   "number_sections": true,
   "sideBar": true,
   "skip_h1_title": false,
   "title_cell": "Table of Contents",
   "title_sidebar": "Contents",
   "toc_cell": false,
   "toc_position": {},
   "toc_section_display": true,
   "toc_window_display": false
  }
 },
 "nbformat": 4,
 "nbformat_minor": 5
}
