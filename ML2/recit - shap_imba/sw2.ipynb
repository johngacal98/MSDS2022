{
 "cells": [
  {
   "cell_type": "markdown",
   "id": "41db2e1d-294b-40ce-9037-d7c01e93fd75",
   "metadata": {},
   "source": [
    "# SLT 7B"
   ]
  },
  {
   "cell_type": "code",
   "execution_count": 1,
   "id": "ad8d0c34",
   "metadata": {
    "ExecuteTime": {
     "end_time": "2021-10-21T02:19:32.810074Z",
     "start_time": "2021-10-21T02:19:32.488810Z"
    },
    "deletable": false,
    "editable": false,
    "execution": {
     "iopub.execute_input": "2021-10-21T06:08:32.623517Z",
     "iopub.status.busy": "2021-10-21T06:08:32.622518Z",
     "iopub.status.idle": "2021-10-21T06:08:32.787225Z",
     "shell.execute_reply": "2021-10-21T06:08:32.787225Z",
     "shell.execute_reply.started": "2021-10-21T06:08:32.622518Z"
    },
    "nbgrader": {
     "cell_type": "code",
     "checksum": "1720413b74bebeb569fbffcc7049d2a7",
     "grade": false,
     "grade_id": "cell-1e194591731b6cf1",
     "locked": true,
     "schema_version": 3,
     "solution": false,
     "task": false
    },
    "tags": []
   },
   "outputs": [],
   "source": [
    "from numpy.testing import assert_equal, assert_almost_equal\n",
    "\n",
    "decimal = 6"
   ]
  },
  {
   "cell_type": "markdown",
   "id": "4d337cb6",
   "metadata": {
    "deletable": false,
    "editable": false,
    "nbgrader": {
     "cell_type": "markdown",
     "checksum": "5d46e83a170f5217e9c8009389e8b8b4",
     "grade": false,
     "grade_id": "cell-1c9169c652d535f0",
     "locked": true,
     "schema_version": 3,
     "solution": false,
     "task": false
    }
   },
   "source": [
    "# Seatwork 2: Imba-SHAP\n",
    "\n",
    "In this seatwork, we will handle an imbalanced binary classification problem and use `shap` to interpret the machine learning model.\n",
    "\n",
    "We will also use the `Pipeline` class available in `imblearn.pipeline` and integrate it with a `StratifiedKFold` cross validated training step. We use `imblearn`'s implementation instead of `scikit-learn`'s implementation of `Pipeline` for better integration to resampling techniques.\n",
    "\n",
    "*Note: Here, we don't employ hyperparameter tuning for brevity, but do note that in practice, we can tune parameters in our pipeline (e.g. `learning_rate`, `max_depth`).*"
   ]
  },
  {
   "cell_type": "markdown",
   "id": "91e8507e",
   "metadata": {
    "deletable": false,
    "editable": false,
    "nbgrader": {
     "cell_type": "markdown",
     "checksum": "8cf322e3bf9a51a58aa0fecebd29e640",
     "grade": false,
     "grade_id": "cell-8bcd57e7632b0253",
     "locked": true,
     "schema_version": 3,
     "solution": false,
     "task": false
    }
   },
   "source": [
    "## Situation\n",
    "\n",
    "Suppose that you folks are a data scientist team working for a polyclinic company called **The Medical Republic**. One of the clinics,  called **Dia-Beat-This**, that specializes in diagnosis and treatment of diabetes in *PIMA Indian Women* observed that they have a long chain of tests conducted to determine precisely whether a person has diabetes or not. At each testing stage, both new procedures and results of previous testing stages are used to improve diagnosis--however, tests become more expensive at later stages.\n",
    "\n",
    "![Candies](candies.jpg)\n",
    "\n",
    "**Enter ML:** You proposed to employ a machine learning algorithm to **predict the onset of diabetes** using only patient information at the earlier testing stages. Together with the medical team that you are working with, you drafted the following objective:\n",
    "\n",
    "*Minimize the false negatives, find ALL positives.* Since the goal is to treat all patients with diabetes, you want to sensitively tag someone as positive, ensuring you don't send home a daibetic patient. Additionally, there are other more expensive testing stages (post-ML predictions) that can confirm false positives, so the risk of prescribing diabetes medication to negatives can be lowered by the pricey tests down the line."
   ]
  },
  {
   "cell_type": "markdown",
   "id": "fd8a6543",
   "metadata": {
    "deletable": false,
    "editable": false,
    "nbgrader": {
     "cell_type": "markdown",
     "checksum": "597ba3a41ea920bda69fc501211f05ac",
     "grade": false,
     "grade_id": "cell-b1dcd9812cb3669f",
     "locked": true,
     "schema_version": 3,
     "solution": false,
     "task": false
    }
   },
   "source": [
    "## Data Dictionary\n",
    "\n",
    "**Features**\n",
    "\n",
    "We use all of the following quantitative features:\n",
    "* `pregnancies` - number of pregnancies, number of times pregnant\n",
    "* `glucose` - measure of blood sugar level in patients\n",
    "* `blood pressure` - person's blood pressure readings during testing date\n",
    "* `skin thickness` - an indicator of collagen content studied to be affected by insulin dependence of patients\n",
    "* `insulin` - person's insulin levels, 2-hour serum insulin $\\mu$ units/mL\n",
    "* `bmi` - body-mass index (BMI, $kg/m^2$)\n",
    "* `pedigree function` - measure of genetic influence based on patient relatives' history with diabetes.\n",
    "* `age` - age in years\n",
    "\n",
    "**Target:**\n",
    "* `outcome` - indicator if person has diabetes or not: \n",
    "> `1` positive/diabetic, \n",
    "> `0` negative/no diabetes\n",
    "\n",
    "To find out more about this dataset, see [link](https://machinelearningmastery.com/case-study-predicting-the-onset-of-diabetes-within-five-years-part-1-of-3/`). This is not necessary for the purposes of seatwork-2."
   ]
  },
  {
   "cell_type": "code",
   "execution_count": 2,
   "id": "5a5b185b",
   "metadata": {
    "ExecuteTime": {
     "end_time": "2021-10-21T02:19:34.833138Z",
     "start_time": "2021-10-21T02:19:32.812082Z"
    },
    "deletable": false,
    "editable": false,
    "execution": {
     "iopub.execute_input": "2021-10-21T06:14:15.590492Z",
     "iopub.status.busy": "2021-10-21T06:14:15.589459Z",
     "iopub.status.idle": "2021-10-21T06:14:16.934880Z",
     "shell.execute_reply": "2021-10-21T06:14:16.934880Z",
     "shell.execute_reply.started": "2021-10-21T06:14:15.590492Z"
    },
    "nbgrader": {
     "cell_type": "code",
     "checksum": "04f86cd8fd11f962a11a159a479e978e",
     "grade": false,
     "grade_id": "cell-49d3374fc97b3a30",
     "locked": true,
     "schema_version": 3,
     "solution": false,
     "task": false
    },
    "tags": []
   },
   "outputs": [],
   "source": [
    "import pandas as pd\n",
    "import matplotlib.pyplot as plt\n",
    "import seaborn as sns\n",
    "import numpy as np"
   ]
  },
  {
   "cell_type": "markdown",
   "id": "99fe614d",
   "metadata": {
    "deletable": false,
    "editable": false,
    "nbgrader": {
     "cell_type": "markdown",
     "checksum": "2c8d5be89fcf8ce9862cf9cb28f573e5",
     "grade": false,
     "grade_id": "cell-89e8552add6e2fad",
     "locked": true,
     "schema_version": 3,
     "solution": false,
     "task": false
    }
   },
   "source": [
    "## Data Preparation"
   ]
  },
  {
   "cell_type": "code",
   "execution_count": 4,
   "id": "68f28053",
   "metadata": {
    "ExecuteTime": {
     "end_time": "2021-10-21T02:19:34.864136Z",
     "start_time": "2021-10-21T02:19:34.839159Z"
    },
    "deletable": false,
    "editable": false,
    "execution": {
     "iopub.execute_input": "2021-10-21T06:14:39.093424Z",
     "iopub.status.busy": "2021-10-21T06:14:39.093424Z",
     "iopub.status.idle": "2021-10-21T06:14:39.133326Z",
     "shell.execute_reply": "2021-10-21T06:14:39.132320Z",
     "shell.execute_reply.started": "2021-10-21T06:14:39.093424Z"
    },
    "nbgrader": {
     "cell_type": "code",
     "checksum": "b70b41aa484e42a022dda4aa2fe52407",
     "grade": false,
     "grade_id": "cell-f5c781fcbb3be19e",
     "locked": true,
     "schema_version": 3,
     "solution": false,
     "task": false
    },
    "tags": []
   },
   "outputs": [
    {
     "name": "stdout",
     "output_type": "stream",
     "text": [
      "<class 'pandas.core.frame.DataFrame'>\n",
      "RangeIndex: 768 entries, 0 to 767\n",
      "Data columns (total 9 columns):\n",
      " #   Column             Non-Null Count  Dtype  \n",
      "---  ------             --------------  -----  \n",
      " 0   pregnancies        768 non-null    int64  \n",
      " 1   glucose            768 non-null    int64  \n",
      " 2   blood pressure     768 non-null    int64  \n",
      " 3   skin thickness     768 non-null    int64  \n",
      " 4   insulin            768 non-null    int64  \n",
      " 5   bmi                768 non-null    float64\n",
      " 6   pedigree function  768 non-null    float64\n",
      " 7   age                768 non-null    int64  \n",
      " 8   outcome            768 non-null    int64  \n",
      "dtypes: float64(2), int64(7)\n",
      "memory usage: 54.1 KB\n"
     ]
    }
   ],
   "source": [
    "df = pd.read_csv('diabetes.csv')\n",
    "df.info()"
   ]
  },
  {
   "cell_type": "code",
   "execution_count": 5,
   "id": "57c3ce92",
   "metadata": {
    "ExecuteTime": {
     "end_time": "2021-10-21T02:19:34.879141Z",
     "start_time": "2021-10-21T02:19:34.865137Z"
    },
    "deletable": false,
    "editable": false,
    "execution": {
     "iopub.execute_input": "2021-10-21T06:15:07.545877Z",
     "iopub.status.busy": "2021-10-21T06:15:07.545877Z",
     "iopub.status.idle": "2021-10-21T06:15:07.557853Z",
     "shell.execute_reply": "2021-10-21T06:15:07.556847Z",
     "shell.execute_reply.started": "2021-10-21T06:15:07.545877Z"
    },
    "nbgrader": {
     "cell_type": "code",
     "checksum": "7f9195293cda2513de891d31626f2cd0",
     "grade": false,
     "grade_id": "cell-eb4419f28a5e7e19",
     "locked": true,
     "schema_version": 3,
     "solution": false,
     "task": false
    },
    "tags": []
   },
   "outputs": [],
   "source": [
    "def plot_class_ratios(y):\n",
    "    \"\"\"Generate plot of class ratios from pd.Series input\n",
    "    formatted to show ratios as annotations/bar labels.\n",
    "    \n",
    "    Parameter\n",
    "        y : pd.Series of target array\n",
    "    Return\n",
    "        None\n",
    "    \"\"\"\n",
    "    class_ratios = (y.value_counts()/y.shape[0])\n",
    "    ax = class_ratios.plot.bar()\n",
    "    ax.set_ylim(0.0, 1.0)\n",
    "    ax.bar_label(ax.containers[0], fmt='%.2f', fontsize=12)\n",
    "    plt.xticks(rotation=0)\n",
    "    ax.set_xlabel('Class', fontsize=15)\n",
    "    ax.set_ylabel('Ratio', fontsize=15, labelpad=10)\n",
    "    ax.set_title('Class Ratios', fontsize=20)\n",
    "    ax.spines['top'].set_visible(False)\n",
    "    ax.spines['right'].set_visible(False)\n",
    "\n",
    "    return None"
   ]
  },
  {
   "cell_type": "code",
   "execution_count": 6,
   "id": "2ab14ce6",
   "metadata": {
    "ExecuteTime": {
     "end_time": "2021-10-21T02:19:35.053176Z",
     "start_time": "2021-10-21T02:19:34.881140Z"
    },
    "deletable": false,
    "editable": false,
    "execution": {
     "iopub.execute_input": "2021-10-21T06:15:08.683789Z",
     "iopub.status.busy": "2021-10-21T06:15:08.683789Z",
     "iopub.status.idle": "2021-10-21T06:15:08.955783Z",
     "shell.execute_reply": "2021-10-21T06:15:08.954785Z",
     "shell.execute_reply.started": "2021-10-21T06:15:08.683789Z"
    },
    "nbgrader": {
     "cell_type": "code",
     "checksum": "edcda4315f6cbd765cdf1edf8a176a1e",
     "grade": false,
     "grade_id": "cell-5c1aaaff567f809a",
     "locked": true,
     "schema_version": 3,
     "solution": false,
     "task": false
    },
    "tags": []
   },
   "outputs": [
    {
     "data": {
      "image/png": "[encoded data removed]",
      "text/plain": [
       "<Figure size 432x288 with 1 Axes>"
      ]
     },
     "metadata": {
      "needs_background": "light"
     },
     "output_type": "display_data"
    }
   ],
   "source": [
    "target = 'outcome'\n",
    "plot_class_ratios(df[target])"
   ]
  },
  {
   "cell_type": "markdown",
   "id": "744edae9",
   "metadata": {
    "deletable": false,
    "editable": false,
    "nbgrader": {
     "cell_type": "markdown",
     "checksum": "a5c1710d0570162f52cc31667e6abc08",
     "grade": false,
     "grade_id": "cell-d4a4c6c18cb550be",
     "locked": true,
     "schema_version": 3,
     "solution": false,
     "task": false
    }
   },
   "source": [
    "## Data Segregation"
   ]
  },
  {
   "cell_type": "markdown",
   "id": "0dae1869",
   "metadata": {
    "deletable": false,
    "editable": false,
    "nbgrader": {
     "cell_type": "markdown",
     "checksum": "58f9f4694989e935867fdc0d33aaecbb",
     "grade": false,
     "grade_id": "cell-81f0f47fcdf784a4",
     "locked": true,
     "schema_version": 3,
     "solution": false,
     "task": false
    }
   },
   "source": [
    "### Task 1 [1 pt]\n",
    "\n",
    "Split the dataset into `80-20` trainval-holdout sets, **ensure samples splitting is stratified according to the target array**. *Among other parameters* to be set, ensure that the following are set:\n",
    "\n",
    "* `random_state=11`\n",
    "* `test_size=0.20`"
   ]
  },
  {
   "cell_type": "code",
   "execution_count": 7,
   "id": "d51b223e",
   "metadata": {
    "ExecuteTime": {
     "end_time": "2021-10-21T02:19:35.352591Z",
     "start_time": "2021-10-21T02:19:35.055160Z"
    },
    "deletable": false,
    "execution": {
     "iopub.execute_input": "2021-10-21T06:16:43.011804Z",
     "iopub.status.busy": "2021-10-21T06:16:43.011804Z",
     "iopub.status.idle": "2021-10-21T06:16:43.221287Z",
     "shell.execute_reply": "2021-10-21T06:16:43.221287Z",
     "shell.execute_reply.started": "2021-10-21T06:16:43.011804Z"
    },
    "nbgrader": {
     "cell_type": "code",
     "checksum": "3919cc2824f9db7b520a709fdf3bfbbc",
     "grade": false,
     "grade_id": "cell-f23cbcbb8cb6ad95",
     "locked": false,
     "schema_version": 3,
     "solution": true,
     "task": false
    },
    "tags": []
   },
   "outputs": [],
   "source": [
    "from sklearn.model_selection import train_test_split\n",
    "\n",
    "# Initialize inputs\n",
    "X, y = df.drop(columns=target), df[target]\n",
    "\n",
    "# Perform a stratified train test split with test size = 0.20 and\n",
    "# random state = 11\n",
    "# X_trainval, X_hold, y_trainval, y_hold = None, None, None, None\n",
    "\n",
    "X_trainval, X_hold, y_trainval, y_hold = train_test_split(X, y,\n",
    "                                                          random_state=11,\n",
    "                                                          stratify=y,\n",
    "                                                          test_size=0.20)\n"
   ]
  },
  {
   "cell_type": "code",
   "execution_count": 8,
   "id": "1ae79e24",
   "metadata": {
    "ExecuteTime": {
     "end_time": "2021-10-21T02:19:35.368173Z",
     "start_time": "2021-10-21T02:19:35.353559Z"
    },
    "deletable": false,
    "editable": false,
    "execution": {
     "iopub.execute_input": "2021-10-21T06:16:47.725983Z",
     "iopub.status.busy": "2021-10-21T06:16:47.725983Z",
     "iopub.status.idle": "2021-10-21T06:16:47.738949Z",
     "shell.execute_reply": "2021-10-21T06:16:47.737952Z",
     "shell.execute_reply.started": "2021-10-21T06:16:47.725983Z"
    },
    "nbgrader": {
     "cell_type": "code",
     "checksum": "e2c7dd9d6e34dc92eb01d45b80d9858a",
     "grade": true,
     "grade_id": "cell-a1077ccba70a25f2",
     "locked": true,
     "points": 1,
     "schema_version": 3,
     "solution": false,
     "task": false
    },
    "tags": []
   },
   "outputs": [],
   "source": [
    "# Assert\n",
    "assert X_trainval is not None, 'Put x_train in this variable!'\n",
    "assert X_hold is not None, 'Put x_test in this variable!'\n",
    "assert y_trainval is not None, 'Put y_train in this variable!'\n",
    "assert y_hold is not None, 'Put y_test in this variable!'\n",
    "\n",
    "# Hidden tests"
   ]
  },
  {
   "cell_type": "markdown",
   "id": "f2e5ec5d",
   "metadata": {
    "deletable": false,
    "editable": false,
    "nbgrader": {
     "cell_type": "markdown",
     "checksum": "cb8c871984e436ebebed4cb25f9f557c",
     "grade": false,
     "grade_id": "cell-a22084d171db67c9",
     "locked": true,
     "schema_version": 3,
     "solution": false,
     "task": false
    }
   },
   "source": [
    "## Model Training"
   ]
  },
  {
   "cell_type": "markdown",
   "id": "b14344ea",
   "metadata": {
    "deletable": false,
    "editable": false,
    "nbgrader": {
     "cell_type": "markdown",
     "checksum": "1994d1b97c7c29e6c9d8c1d4ae99b74f",
     "grade": false,
     "grade_id": "cell-97cea62f096a94a9",
     "locked": true,
     "schema_version": 3,
     "solution": false,
     "task": false
    }
   },
   "source": [
    "### Task 2 [2 pts]\n",
    "\n",
    "To put emphasis on our objective, we shall structure our ML problem as an imbalanced classification problem. Thus, we shall depart from using `accuracy` as a metric.\n",
    "\n",
    "In the problem, which metric will be most appropriate `recall` or `precision`? Why?"
   ]
  },
  {
   "cell_type": "markdown",
   "id": "8535e68d",
   "metadata": {
    "deletable": false,
    "nbgrader": {
     "cell_type": "markdown",
     "checksum": "275d9d1090b3898d79c3e95aeaa178e6",
     "grade": true,
     "grade_id": "cell-6d248e2ff178a5d4",
     "locked": false,
     "points": 2,
     "schema_version": 3,
     "solution": true,
     "task": false
    }
   },
   "source": [
    "PLACE YOUR ANSWER HERE\n",
    "\n",
    "**Recall** - because diabetes-positive data points are in the minority, and in this specific disease-related scenario, avoiding false negatives is critical since a false negative implies someone would live believing they don't have diabetes even if they do."
   ]
  },
  {
   "cell_type": "markdown",
   "id": "26519916",
   "metadata": {
    "deletable": false,
    "editable": false,
    "nbgrader": {
     "cell_type": "markdown",
     "checksum": "0ccd4775743796581227e398aeb575ee",
     "grade": false,
     "grade_id": "cell-86e1352a9d1e3da5",
     "locked": true,
     "schema_version": 3,
     "solution": false,
     "task": false
    }
   },
   "source": [
    "### Task 3 [1 pt]\n",
    "\n",
    "Get the cross-validation score of an untuned/default intialized `GradientBoostingClassifier` using the `cross_val_score` function of `sklearn`. Initialize the following:\n",
    "\n",
    "* `skf` - a stratified k-fold cross-validator with 4 splits\n",
    "* `model` - an untuned/default `sklearn` gradient boosting classifer with `random_state=11`\n",
    "\n",
    "Replace `None` with your answer."
   ]
  },
  {
   "cell_type": "code",
   "execution_count": 9,
   "id": "f6dc94bf",
   "metadata": {
    "ExecuteTime": {
     "end_time": "2021-10-21T02:19:35.616046Z",
     "start_time": "2021-10-21T02:19:35.370174Z"
    },
    "deletable": false,
    "execution": {
     "iopub.execute_input": "2021-10-21T06:26:45.985319Z",
     "iopub.status.busy": "2021-10-21T06:26:45.985319Z",
     "iopub.status.idle": "2021-10-21T06:26:46.159818Z",
     "shell.execute_reply": "2021-10-21T06:26:46.158845Z",
     "shell.execute_reply.started": "2021-10-21T06:26:45.985319Z"
    },
    "nbgrader": {
     "cell_type": "code",
     "checksum": "c88f856731d491fb04dcbe366fd48187",
     "grade": false,
     "grade_id": "cell-bf4413ae4860f573",
     "locked": false,
     "schema_version": 3,
     "solution": true,
     "task": false
    },
    "tags": []
   },
   "outputs": [],
   "source": [
    "from sklearn.model_selection import StratifiedKFold\n",
    "from sklearn.ensemble import GradientBoostingClassifier\n",
    "from sklearn.model_selection import cross_val_score\n",
    "\n",
    "\n",
    "# Initialize a stratified k-fold cross validator with 4 splits\n",
    "skf = StratifiedKFold(n_splits=4)\n",
    "\n",
    "# Initialize a Gradient Boosting Classifier with random state = 11 and\n",
    "# other parameters set to default\n",
    "model = GradientBoostingClassifier(random_state=11)\n"
   ]
  },
  {
   "cell_type": "code",
   "execution_count": 11,
   "id": "de18c58d",
   "metadata": {
    "ExecuteTime": {
     "end_time": "2021-10-21T02:19:35.631378Z",
     "start_time": "2021-10-21T02:19:35.620091Z"
    },
    "deletable": false,
    "editable": false,
    "execution": {
     "iopub.execute_input": "2021-10-21T06:27:45.006676Z",
     "iopub.status.busy": "2021-10-21T06:27:45.006676Z",
     "iopub.status.idle": "2021-10-21T06:27:45.014687Z",
     "shell.execute_reply": "2021-10-21T06:27:45.014687Z",
     "shell.execute_reply.started": "2021-10-21T06:27:45.006676Z"
    },
    "nbgrader": {
     "cell_type": "code",
     "checksum": "a70e2e2a9644db51fb61d9b8db1e9eae",
     "grade": true,
     "grade_id": "cell-38263fa7dd87c801",
     "locked": true,
     "points": 1,
     "schema_version": 3,
     "solution": false,
     "task": false
    },
    "tags": []
   },
   "outputs": [],
   "source": [
    "# assert\n",
    "assert skf is not None, 'Put Stratified KFold instance in this variable!'\n",
    "assert model is not None, 'Put a Gradient Boosting Classifer instance this variable!'"
   ]
  },
  {
   "cell_type": "markdown",
   "id": "93ea22ae",
   "metadata": {},
   "source": [
    "## Model Evaluation"
   ]
  },
  {
   "cell_type": "markdown",
   "id": "21b43de2",
   "metadata": {},
   "source": [
    "### Task 4 [1 pt]\n",
    "\n",
    "Choose between `precision_score` or `recall_score` as a metric based on your answer in [**Task 2**](#Task-2-[2-pts]). Replace `metric=None` with your chosen metric.\n",
    "\n",
    "Example: `metric=precision_score`\n",
    "\n",
    "The rest of the code modifies your chosen metric into an `sklearn` `scorer`--this is already done for you."
   ]
  },
  {
   "cell_type": "code",
   "execution_count": 10,
   "id": "6074c86d",
   "metadata": {
    "execution": {
     "iopub.execute_input": "2021-10-21T06:27:41.325187Z",
     "iopub.status.busy": "2021-10-21T06:27:41.325187Z",
     "iopub.status.idle": "2021-10-21T06:27:41.335154Z",
     "shell.execute_reply": "2021-10-21T06:27:41.334188Z",
     "shell.execute_reply.started": "2021-10-21T06:27:41.325187Z"
    },
    "tags": []
   },
   "outputs": [],
   "source": [
    "from sklearn.model_selection import cross_val_score\n",
    "from sklearn.metrics import precision_score, recall_score, make_scorer\n",
    "\n",
    "metric = recall_score # precision_score or recall_score\n",
    "\n",
    "# make a metric into a scorer for the cross_val_score func\n",
    "scorer = make_scorer(metric)"
   ]
  },
  {
   "cell_type": "code",
   "execution_count": 12,
   "id": "5c1a43da",
   "metadata": {
    "execution": {
     "iopub.execute_input": "2021-10-21T06:27:48.279846Z",
     "iopub.status.busy": "2021-10-21T06:27:48.279846Z",
     "iopub.status.idle": "2021-10-21T06:27:48.296800Z",
     "shell.execute_reply": "2021-10-21T06:27:48.296800Z",
     "shell.execute_reply.started": "2021-10-21T06:27:48.279846Z"
    },
    "tags": []
   },
   "outputs": [],
   "source": [
    "assert metric is not None, 'Put either precision_score/recall_score in this variable!'"
   ]
  },
  {
   "cell_type": "markdown",
   "id": "1fc46421",
   "metadata": {},
   "source": [
    "### Task 5 [1 pt]\n",
    "\n",
    "Calculate the average cross validation score and store it in the variable `average_cv_score`. *Note: `cross_val_score` returns an array of scores for each stratified train-val split (a.k.a. fold)*"
   ]
  },
  {
   "cell_type": "code",
   "execution_count": 16,
   "id": "2220f144",
   "metadata": {
    "execution": {
     "iopub.execute_input": "2021-10-21T06:28:35.928631Z",
     "iopub.status.busy": "2021-10-21T06:28:35.927633Z",
     "iopub.status.idle": "2021-10-21T06:28:37.516386Z",
     "shell.execute_reply": "2021-10-21T06:28:37.515389Z",
     "shell.execute_reply.started": "2021-10-21T06:28:35.928631Z"
    },
    "tags": []
   },
   "outputs": [
    {
     "name": "stdout",
     "output_type": "stream",
     "text": [
      "Average cv score: 0.61\n"
     ]
    }
   ],
   "source": [
    "cv_scores = cross_val_score(estimator=model, X=X_trainval, y=y_trainval,\n",
    "                            scoring=scorer, cv=skf, n_jobs=-1)\n",
    "average_cv_score = np.mean(cv_scores)\n",
    "\n",
    "\n",
    "print(f\"Average cv score: {average_cv_score:.2f}\")"
   ]
  },
  {
   "cell_type": "code",
   "execution_count": 17,
   "id": "cd937bda",
   "metadata": {
    "execution": {
     "iopub.execute_input": "2021-10-21T06:28:42.567617Z",
     "iopub.status.busy": "2021-10-21T06:28:42.566619Z",
     "iopub.status.idle": "2021-10-21T06:28:42.574597Z",
     "shell.execute_reply": "2021-10-21T06:28:42.574597Z",
     "shell.execute_reply.started": "2021-10-21T06:28:42.566619Z"
    },
    "tags": []
   },
   "outputs": [],
   "source": [
    "assert average_cv_score is not None, 'Put the average cv score in this in this variable!'"
   ]
  },
  {
   "cell_type": "markdown",
   "id": "83ecd1f5",
   "metadata": {},
   "source": [
    "### Task 6 [1 pt]\n",
    "\n",
    "Retrain the `model` using the entire train-val set stored in `X_trainval` and `y_trainval` and calculate the score on the the holdout set.\n",
    "\n",
    "Generate predictions on the holdout set `X_hold` and store the predictions in the variable `y_preds`. "
   ]
  },
  {
   "cell_type": "code",
   "execution_count": 18,
   "id": "35867cac",
   "metadata": {
    "execution": {
     "iopub.execute_input": "2021-10-21T06:29:29.801651Z",
     "iopub.status.busy": "2021-10-21T06:29:29.801651Z",
     "iopub.status.idle": "2021-10-21T06:29:29.941136Z",
     "shell.execute_reply": "2021-10-21T06:29:29.940171Z",
     "shell.execute_reply.started": "2021-10-21T06:29:29.801651Z"
    },
    "tags": []
   },
   "outputs": [
    {
     "name": "stdout",
     "output_type": "stream",
     "text": [
      "Holdout set score: 0.65\n"
     ]
    }
   ],
   "source": [
    "model.fit(X_trainval, y_trainval)\n",
    "\n",
    "y_preds = model.predict(X_hold)\n",
    "\n",
    "\n",
    "holdout_score = metric(y_hold, y_preds)\n",
    "print(f\"Holdout set score: {holdout_score:.2f}\")"
   ]
  },
  {
   "cell_type": "code",
   "execution_count": 19,
   "id": "d1aa038c",
   "metadata": {
    "execution": {
     "iopub.execute_input": "2021-10-21T06:29:31.947424Z",
     "iopub.status.busy": "2021-10-21T06:29:31.946513Z",
     "iopub.status.idle": "2021-10-21T06:29:31.959392Z",
     "shell.execute_reply": "2021-10-21T06:29:31.958410Z",
     "shell.execute_reply.started": "2021-10-21T06:29:31.946513Z"
    },
    "tags": []
   },
   "outputs": [],
   "source": [
    "assert y_preds is not None, 'Put the predictions in y_preds!'\n",
    "assert_equal(len(y_preds), len(X_hold))"
   ]
  },
  {
   "cell_type": "markdown",
   "id": "9489a2b4",
   "metadata": {
    "deletable": false,
    "editable": false,
    "nbgrader": {
     "cell_type": "markdown",
     "checksum": "35958a669eae41730175ef7dc9c047d9",
     "grade": false,
     "grade_id": "cell-e9c758006e7f90f3",
     "locked": true,
     "schema_version": 3,
     "solution": false,
     "task": false
    }
   },
   "source": [
    "## Model Interpretation (Part 1)"
   ]
  },
  {
   "cell_type": "markdown",
   "id": "33e3edbe",
   "metadata": {
    "deletable": false,
    "editable": false,
    "nbgrader": {
     "cell_type": "markdown",
     "checksum": "4062872d2c117645db5d72c978d5880c",
     "grade": false,
     "grade_id": "cell-9b22bc3fd5b2bd43",
     "locked": true,
     "schema_version": 3,
     "solution": false,
     "task": false
    }
   },
   "source": [
    "Now that we have a trained model, let us interpret our model using `shap`."
   ]
  },
  {
   "cell_type": "markdown",
   "id": "355b8a31",
   "metadata": {},
   "source": [
    "### Task 7 [1 pt]\n",
    "\n",
    "Define the `shap` explainer. Use the appropriate explainer based on our trained model."
   ]
  },
  {
   "cell_type": "code",
   "execution_count": 22,
   "id": "32249fa5",
   "metadata": {
    "execution": {
     "iopub.execute_input": "2021-10-21T06:31:32.991953Z",
     "iopub.status.busy": "2021-10-21T06:31:32.991953Z",
     "iopub.status.idle": "2021-10-21T06:31:33.008909Z",
     "shell.execute_reply": "2021-10-21T06:31:33.007943Z",
     "shell.execute_reply.started": "2021-10-21T06:31:32.991953Z"
    },
    "tags": []
   },
   "outputs": [],
   "source": [
    "import shap\n",
    "\n",
    "# Define the SHAP explainer here. What is the appropriate explainer that\n",
    "# we should use in this case?\n",
    "explainer = shap.TreeExplainer(model)\n",
    "\n",
    "#We used TreeExplainer because GBM is an ensemble model or tree-based.\n"
   ]
  },
  {
   "cell_type": "code",
   "execution_count": 23,
   "id": "7674cbb9",
   "metadata": {
    "execution": {
     "iopub.execute_input": "2021-10-21T06:31:33.786244Z",
     "iopub.status.busy": "2021-10-21T06:31:33.786244Z",
     "iopub.status.idle": "2021-10-21T06:31:33.793213Z",
     "shell.execute_reply": "2021-10-21T06:31:33.793213Z",
     "shell.execute_reply.started": "2021-10-21T06:31:33.786244Z"
    },
    "tags": []
   },
   "outputs": [],
   "source": [
    "assert explainer is not None, \"Initialize the shap explainer object here\""
   ]
  },
  {
   "cell_type": "markdown",
   "id": "d03b7440",
   "metadata": {},
   "source": [
    "### Task 8 [1 pt]\n",
    "\n",
    "Compute the shapley values of the features using the `shap_values()` method of the `explainer` object. Use the **hold-out test set** as reference."
   ]
  },
  {
   "cell_type": "code",
   "execution_count": 28,
   "id": "d661c654",
   "metadata": {
    "execution": {
     "iopub.execute_input": "2021-10-21T06:40:09.794162Z",
     "iopub.status.busy": "2021-10-21T06:40:09.793165Z",
     "iopub.status.idle": "2021-10-21T06:40:09.818105Z",
     "shell.execute_reply": "2021-10-21T06:40:09.817100Z",
     "shell.execute_reply.started": "2021-10-21T06:40:09.794162Z"
    },
    "tags": []
   },
   "outputs": [],
   "source": [
    "shap_values = None\n",
    "shap_values = explainer.shap_values(X_hold)"
   ]
  },
  {
   "cell_type": "code",
   "execution_count": 29,
   "id": "0393804e",
   "metadata": {
    "execution": {
     "iopub.execute_input": "2021-10-21T06:40:10.616478Z",
     "iopub.status.busy": "2021-10-21T06:40:10.615480Z",
     "iopub.status.idle": "2021-10-21T06:40:10.624456Z",
     "shell.execute_reply": "2021-10-21T06:40:10.624456Z",
     "shell.execute_reply.started": "2021-10-21T06:40:10.616478Z"
    },
    "tags": []
   },
   "outputs": [],
   "source": [
    "assert shap_values is not None, \"Place the shapley values here\""
   ]
  },
  {
   "cell_type": "markdown",
   "id": "b82f8bb4",
   "metadata": {},
   "source": [
    "Now, let's look at how the model makes predictions. We observe that for patient `10` in the hold-out test set, our model predicts her to be diabetic."
   ]
  },
  {
   "cell_type": "code",
   "execution_count": 30,
   "id": "558082ea",
   "metadata": {
    "execution": {
     "iopub.execute_input": "2021-10-21T06:40:15.712361Z",
     "iopub.status.busy": "2021-10-21T06:40:15.712361Z",
     "iopub.status.idle": "2021-10-21T06:40:15.730313Z",
     "shell.execute_reply": "2021-10-21T06:40:15.730313Z",
     "shell.execute_reply.started": "2021-10-21T06:40:15.712361Z"
    },
    "tags": []
   },
   "outputs": [
    {
     "data": {
      "text/plain": [
       "array([1], dtype=int64)"
      ]
     },
     "execution_count": 30,
     "metadata": {},
     "output_type": "execute_result"
    }
   ],
   "source": [
    "model.predict(X_hold.iloc[[9]])"
   ]
  },
  {
   "cell_type": "code",
   "execution_count": 39,
   "id": "816cef30-0f27-4032-ade5-5d8a246c067d",
   "metadata": {
    "execution": {
     "iopub.execute_input": "2021-10-21T06:49:57.120279Z",
     "iopub.status.busy": "2021-10-21T06:49:57.120279Z",
     "iopub.status.idle": "2021-10-21T06:49:57.136247Z",
     "shell.execute_reply": "2021-10-21T06:49:57.136247Z",
     "shell.execute_reply.started": "2021-10-21T06:49:57.120279Z"
    },
    "tags": []
   },
   "outputs": [
    {
     "data": {
      "text/plain": [
       "array([ 0.32185571,  0.82730123, -0.28013071,  0.04710364,  0.05533715,\n",
       "        0.39057119,  0.14809322, -0.30717093])"
      ]
     },
     "execution_count": 39,
     "metadata": {},
     "output_type": "execute_result"
    }
   ],
   "source": [
    "shap_values[9]"
   ]
  },
  {
   "cell_type": "markdown",
   "id": "a6b9564f",
   "metadata": {},
   "source": [
    "### Task 9 [1 pt]\n",
    "\n",
    "Generate the SHAP force plot explanation for patient `10`."
   ]
  },
  {
   "cell_type": "code",
   "execution_count": 33,
   "id": "3b379658",
   "metadata": {
    "execution": {
     "iopub.execute_input": "2021-10-21T06:42:17.321064Z",
     "iopub.status.busy": "2021-10-21T06:42:17.321064Z",
     "iopub.status.idle": "2021-10-21T06:42:18.037233Z",
     "shell.execute_reply": "2021-10-21T06:42:18.037233Z",
     "shell.execute_reply.started": "2021-10-21T06:42:17.321064Z"
    },
    "tags": []
   },
   "outputs": [
    {
     "data": {
      "image/png": "[encoded data removed]",
      "text/plain": [
       "<Figure size 1440x216 with 1 Axes>"
      ]
     },
     "metadata": {
      "needs_background": "light"
     },
     "output_type": "display_data"
    }
   ],
   "source": [
    "# Generate the SHAP force plot here for patient 10\n",
    "\n",
    "shap.force_plot(explainer.expected_value, \n",
    "                shap_values[9], X.columns, matplotlib=True)"
   ]
  },
  {
   "cell_type": "markdown",
   "id": "c46315cf",
   "metadata": {
    "deletable": false,
    "editable": false,
    "nbgrader": {
     "cell_type": "markdown",
     "checksum": "3cf4704d9aa74731eb80b9babd968b07",
     "grade": false,
     "grade_id": "cell-a7bf1f5c523a1141",
     "locked": true,
     "schema_version": 3,
     "solution": false,
     "task": false
    }
   },
   "source": [
    "### Task 10 [2 pts]\n",
    "\n",
    "Interpret the results of the SHAP force plot. Explain as you would to a business stakeholder.\n",
    "\n",
    "*Guide questions: What does the Shapley value mean for this problem? From the average prediction, how did the model arrive to its prediction? Interpret how each feature in the model contribute to the final prediction.*"
   ]
  },
  {
   "cell_type": "markdown",
   "id": "6fcaa5e8",
   "metadata": {
    "deletable": false,
    "nbgrader": {
     "cell_type": "markdown",
     "checksum": "1d6aa6b792acf1f9e99fee2e880d6a20",
     "grade": true,
     "grade_id": "cell-ebbf2d6d0470c63b",
     "locked": false,
     "points": 2,
     "schema_version": 3,
     "solution": true,
     "task": false
    }
   },
   "source": [
    "> Shap plots the most influential characteristics for the sample under consideration. Features in red color have a positive influence, dragging the prediction value closer to one, whereas features in blue color have the opposite effect.\n",
    "\n",
    ">The model arrived at a `1` prediction because the model output is above the base value for patient 10. Glucose contributed the most in predicting that patient 10 is diabetic. However risk increasing effects such as glucose are offset by decreasing effects such as age and blood pressure. BMI, pregnancies, and predigree function also contributed to the prediction of `diabetic` for patient 10. "
   ]
  },
  {
   "cell_type": "markdown",
   "id": "b093299a",
   "metadata": {
    "deletable": false,
    "editable": false,
    "nbgrader": {
     "cell_type": "markdown",
     "checksum": "043ac4e7b1d2d793069ba81e66105d69",
     "grade": false,
     "grade_id": "cell-2445c72ccb26a4c9",
     "locked": true,
     "schema_version": 3,
     "solution": false,
     "task": false
    }
   },
   "source": [
    "Now, we want to interpret the results of the model on the entire dataset. We want a plot for global interpretability that combines feature importance with feature effects."
   ]
  },
  {
   "cell_type": "markdown",
   "id": "1e2de7ac",
   "metadata": {},
   "source": [
    "### Task 11 [1 pt]\n",
    "\n",
    "Generate the SHAP beeswarm plot below using `shap.summary_plot()` function."
   ]
  },
  {
   "cell_type": "code",
   "execution_count": 41,
   "id": "e4aabd1e",
   "metadata": {
    "execution": {
     "iopub.execute_input": "2021-10-21T06:58:38.458087Z",
     "iopub.status.busy": "2021-10-21T06:58:38.458087Z",
     "iopub.status.idle": "2021-10-21T06:58:38.900008Z",
     "shell.execute_reply": "2021-10-21T06:58:38.899008Z",
     "shell.execute_reply.started": "2021-10-21T06:58:38.458087Z"
    },
    "tags": []
   },
   "outputs": [
    {
     "data": {
      "image/png": "[encoded data removed]",
      "text/plain": [
       "<Figure size 576x338.4 with 2 Axes>"
      ]
     },
     "metadata": {
      "needs_background": "light"
     },
     "output_type": "display_data"
    }
   ],
   "source": [
    "# Generate the SHAP beeswarm plot here\n",
    "shap.summary_plot(shap_values=shap_values, features=X_hold)"
   ]
  },
  {
   "cell_type": "markdown",
   "id": "536dbf61",
   "metadata": {
    "deletable": false,
    "editable": false,
    "nbgrader": {
     "cell_type": "markdown",
     "checksum": "967cf4aa47ccdafab002ee1af6504ac4",
     "grade": false,
     "grade_id": "cell-20ad70b19bf3e580",
     "locked": true,
     "schema_version": 3,
     "solution": false,
     "task": false
    }
   },
   "source": [
    "### Task 12 [2 pts]\n",
    "\n",
    "Interpret the resulting bee-swarm plot.\n",
    "\n",
    "*Guide questions:*\n",
    "\n",
    "*(1) In your plot, which feature is the strongest predictor for diabetes? Comment on the **SHAP values** and the **feature values** and how they impact the model output.*\n",
    "\n",
    "*(2) Consider for example the `bmi` feature. Notice how the points are jittered or clustered together. Interpret this observation.*"
   ]
  },
  {
   "cell_type": "markdown",
   "id": "458e5a48",
   "metadata": {
    "deletable": false,
    "nbgrader": {
     "cell_type": "markdown",
     "checksum": "07a0f03f703a4f8b11058ac52d1bcfa0",
     "grade": true,
     "grade_id": "cell-240df543e462fc64",
     "locked": false,
     "points": 2,
     "schema_version": 3,
     "solution": true,
     "task": false
    }
   },
   "source": [
    "> 1.) `Glucose` is the strongest predictor. High values in glucose would influence the model to classify the patient as diabetic. Similarly, low values of glucose would predict a patient to be not diabetic.\n",
    "\n",
    "> 2.) Most of the patients had BMI shap values between 0 and 1 as seen in the plot. However, lower values of BMI correspond to lower shap values meaning lower BMIs mean lower chances of being predicted as diabetic. This complements the results from the force plot that BMI has a positive influence in predicting a diabetic patient."
   ]
  },
  {
   "cell_type": "markdown",
   "id": "eb6b2610",
   "metadata": {
    "deletable": false,
    "editable": false,
    "nbgrader": {
     "cell_type": "markdown",
     "checksum": "35f127e24673084f084c3aa7f8407dcc",
     "grade": false,
     "grade_id": "cell-414e88341d0ffea6",
     "locked": true,
     "schema_version": 3,
     "solution": false,
     "task": false
    }
   },
   "source": [
    "## Dataset Resampling"
   ]
  },
  {
   "cell_type": "markdown",
   "id": "090781ff",
   "metadata": {
    "deletable": false,
    "editable": false,
    "nbgrader": {
     "cell_type": "markdown",
     "checksum": "86f2dcd4d392ccce9737d47e593fd618",
     "grade": false,
     "grade_id": "cell-0b6d1c5fe7908beb",
     "locked": true,
     "schema_version": 3,
     "solution": false,
     "task": false
    }
   },
   "source": [
    "Let's now use `ADASYN` to resample our dataset. Here, we will use the `Pipeline` class of `imblearn` to put together different stages (e.g., preprocessing, model training) into one pipeline including the `ADASYN` resampling. We can then use and integrate our pipe with `sklearn`'s `cross_val_score` implemented in the previous task."
   ]
  },
  {
   "cell_type": "markdown",
   "id": "80ec5f2c",
   "metadata": {},
   "source": [
    "### Task 13 [1 pt]\n",
    "\n",
    "Store in variable `ad` an initialized `ADASYN` resampler from `imblearn` with a `random_state=11`. Similar to **Task [3](#Task-3-[1-pt])**, you are to initialize an untuned/default `GradientBoostingClassifier` with a `random_state=11` and save it in `model`."
   ]
  },
  {
   "cell_type": "code",
   "execution_count": 42,
   "id": "cf03e20a",
   "metadata": {
    "execution": {
     "iopub.execute_input": "2021-10-21T07:04:11.425038Z",
     "iopub.status.busy": "2021-10-21T07:04:11.424045Z",
     "iopub.status.idle": "2021-10-21T07:04:11.547720Z",
     "shell.execute_reply": "2021-10-21T07:04:11.547720Z",
     "shell.execute_reply.started": "2021-10-21T07:04:11.425038Z"
    },
    "tags": []
   },
   "outputs": [],
   "source": [
    "# resampling: ADASYN\n",
    "from imblearn.over_sampling import ADASYN\n",
    "from imblearn.pipeline import Pipeline\n",
    "\n",
    "ad = ADASYN(random_state=11)\n",
    "model = GradientBoostingClassifier(random_state=11)\n"
   ]
  },
  {
   "cell_type": "code",
   "execution_count": 44,
   "id": "4008d787",
   "metadata": {
    "ExecuteTime": {
     "end_time": "2021-10-21T02:19:44.573850Z",
     "start_time": "2021-10-21T02:19:44.559843Z"
    },
    "deletable": false,
    "editable": false,
    "execution": {
     "iopub.execute_input": "2021-10-21T07:04:21.680423Z",
     "iopub.status.busy": "2021-10-21T07:04:21.680423Z",
     "iopub.status.idle": "2021-10-21T07:04:21.690421Z",
     "shell.execute_reply": "2021-10-21T07:04:21.690421Z",
     "shell.execute_reply.started": "2021-10-21T07:04:21.680423Z"
    },
    "nbgrader": {
     "cell_type": "code",
     "checksum": "048ec6807474489b468f0052f882e65a",
     "grade": true,
     "grade_id": "cell-ffc90215f5541e65",
     "locked": true,
     "points": 1,
     "schema_version": 3,
     "solution": false,
     "task": false
    },
    "tags": []
   },
   "outputs": [],
   "source": [
    "assert ad is not None, 'Put the ADASYN instance in ad!'\n",
    "assert model is not None, 'Put a Gradient Boosting Classifer instance in the model variable!'"
   ]
  },
  {
   "cell_type": "markdown",
   "id": "3ffb75af",
   "metadata": {
    "deletable": false,
    "editable": false,
    "nbgrader": {
     "cell_type": "markdown",
     "checksum": "f682af4b4786acfec2238cd040fb8f00",
     "grade": false,
     "grade_id": "cell-ba1de6f1f73015c3",
     "locked": true,
     "schema_version": 3,
     "solution": false,
     "task": false
    }
   },
   "source": [
    "Now, let's evaluate our pipeline using `cross_val_score`."
   ]
  },
  {
   "cell_type": "code",
   "execution_count": 45,
   "id": "e957c8a7",
   "metadata": {
    "ExecuteTime": {
     "end_time": "2021-10-21T02:19:47.435848Z",
     "start_time": "2021-10-21T02:19:44.574843Z"
    },
    "deletable": false,
    "editable": false,
    "execution": {
     "iopub.execute_input": "2021-10-21T07:04:51.909162Z",
     "iopub.status.busy": "2021-10-21T07:04:51.909162Z",
     "iopub.status.idle": "2021-10-21T07:04:55.301368Z",
     "shell.execute_reply": "2021-10-21T07:04:55.301368Z",
     "shell.execute_reply.started": "2021-10-21T07:04:51.909162Z"
    },
    "nbgrader": {
     "cell_type": "code",
     "checksum": "eb2c6a0a219a17422254751a60cda601",
     "grade": false,
     "grade_id": "cell-ea72b0f1a4810877",
     "locked": true,
     "schema_version": 3,
     "solution": false,
     "task": false
    },
    "tags": []
   },
   "outputs": [
    {
     "name": "stdout",
     "output_type": "stream",
     "text": [
      "Average cv score: 0.72\n",
      "Holdout set score: 0.78\n"
     ]
    }
   ],
   "source": [
    "# Generate new results: Run this after performing Task 13\n",
    "pipeline = Pipeline([('adasyn', ad), ('gbc', model)])\n",
    "cv_scores = cross_val_score(estimator=pipeline, X=X_trainval, y=y_trainval,\n",
    "                            scoring=scorer, cv=skf, n_jobs=-1)\n",
    "\n",
    "# Display average cross validation score\n",
    "average_cv_score = np.mean(cv_scores)\n",
    "print(f\"Average cv score: {average_cv_score:.2f}\")\n",
    "\n",
    "# Refit and predict\n",
    "pipeline.fit(X_trainval, y_trainval)\n",
    "y_preds = pipeline.predict(X_hold)\n",
    "\n",
    "holdout_score = metric(y_hold, y_preds)\n",
    "print(f\"Holdout set score: {holdout_score:.2f}\")"
   ]
  },
  {
   "cell_type": "markdown",
   "id": "5b9879cb",
   "metadata": {
    "deletable": false,
    "editable": false,
    "nbgrader": {
     "cell_type": "markdown",
     "checksum": "9edc16f687e90102d9c450866b3e7a88",
     "grade": false,
     "grade_id": "cell-be0c3ed0b080a650",
     "locked": true,
     "schema_version": 3,
     "solution": false,
     "task": false
    }
   },
   "source": [
    "### Task  14 [1 pt]\n",
    "\n",
    "Comment on the impact of `ADASYN` on the new average cv and holdout scores--compared against those obtained in **Tasks [5](#Task-5-[1-pt]) and [6](#Task-6-[1-pt])**."
   ]
  },
  {
   "cell_type": "markdown",
   "id": "7d013064",
   "metadata": {
    "deletable": false,
    "nbgrader": {
     "cell_type": "markdown",
     "checksum": "6710a6169f9cf71307a55098d7b42d1d",
     "grade": true,
     "grade_id": "cell-f9be89b52ca7aa56",
     "locked": false,
     "points": 1,
     "schema_version": 3,
     "solution": true,
     "task": false
    }
   },
   "source": [
    "> After resampling using `ADASYN` the average cv score improved from 0.61 to 0.72. Similarly the holdout scores also improved from 0.65 to 0.78. "
   ]
  },
  {
   "cell_type": "markdown",
   "id": "b046eec7",
   "metadata": {
    "deletable": false,
    "editable": false,
    "nbgrader": {
     "cell_type": "markdown",
     "checksum": "5842651811ba82e9563b336d31d04834",
     "grade": false,
     "grade_id": "cell-74a19cb7a0e435a9",
     "locked": true,
     "schema_version": 3,
     "solution": false,
     "task": false
    }
   },
   "source": [
    "### Task 15 [1 pt]\n",
    "\n",
    "Suppose a tuning step was done to obtain optimal hyperparameters of our `GradientBoostingClassifier`. Use the optimal hyperparameters now to re-train our pipeline on the `X_trainval` and `y_trainval` set. \n",
    "\n",
    "Again, **initialize** the `GradientBoostingClassifer` **using the hyperparameters below** and store it in the variable `model`.\n",
    "\n",
    "**Optimal Hyperparameters of GBC**:\n",
    "* `n_estimators=123`\n",
    "* `max_depth=3`\n",
    "* `learning_rate=0.018676197244611753`\n",
    "* `random_state=11`, for reproduciblity"
   ]
  },
  {
   "cell_type": "code",
   "execution_count": 46,
   "id": "82f0a42e",
   "metadata": {
    "ExecuteTime": {
     "end_time": "2021-10-21T02:19:47.451843Z",
     "start_time": "2021-10-21T02:19:47.437842Z"
    },
    "deletable": false,
    "execution": {
     "iopub.execute_input": "2021-10-21T07:08:04.111820Z",
     "iopub.status.busy": "2021-10-21T07:08:04.111820Z",
     "iopub.status.idle": "2021-10-21T07:08:04.125751Z",
     "shell.execute_reply": "2021-10-21T07:08:04.124752Z",
     "shell.execute_reply.started": "2021-10-21T07:08:04.111820Z"
    },
    "nbgrader": {
     "cell_type": "code",
     "checksum": "96fa01180aa41324aa67a40133559651",
     "grade": false,
     "grade_id": "cell-a62015ea21f76490",
     "locked": false,
     "schema_version": 3,
     "solution": true,
     "task": false
    },
    "tags": []
   },
   "outputs": [],
   "source": [
    "model = GradientBoostingClassifier(n_estimators=123,max_depth=3,\n",
    "                                   learning_rate=0.018676197244611753,\n",
    "                                   random_state=11)"
   ]
  },
  {
   "cell_type": "code",
   "execution_count": 47,
   "id": "3a2c3eb3",
   "metadata": {
    "ExecuteTime": {
     "end_time": "2021-10-21T02:19:47.467843Z",
     "start_time": "2021-10-21T02:19:47.455843Z"
    },
    "deletable": false,
    "editable": false,
    "execution": {
     "iopub.execute_input": "2021-10-21T07:08:06.029306Z",
     "iopub.status.busy": "2021-10-21T07:08:06.029306Z",
     "iopub.status.idle": "2021-10-21T07:08:06.046261Z",
     "shell.execute_reply": "2021-10-21T07:08:06.045263Z",
     "shell.execute_reply.started": "2021-10-21T07:08:06.029306Z"
    },
    "nbgrader": {
     "cell_type": "code",
     "checksum": "4fc56fa33a807983e199b156e99bcab8",
     "grade": true,
     "grade_id": "cell-9a05b51d47298a7b",
     "locked": true,
     "points": 1,
     "schema_version": 3,
     "solution": false,
     "task": false
    },
    "tags": []
   },
   "outputs": [],
   "source": [
    "assert model is not None, 'Put a Gradient Boosting Classifer with tuned hyperparameters this variable!'"
   ]
  },
  {
   "cell_type": "code",
   "execution_count": 48,
   "id": "2a624bee",
   "metadata": {
    "ExecuteTime": {
     "end_time": "2021-10-21T02:19:50.337844Z",
     "start_time": "2021-10-21T02:19:47.469853Z"
    },
    "deletable": false,
    "editable": false,
    "execution": {
     "iopub.execute_input": "2021-10-21T07:08:30.786087Z",
     "iopub.status.busy": "2021-10-21T07:08:30.786087Z",
     "iopub.status.idle": "2021-10-21T07:08:32.882705Z",
     "shell.execute_reply": "2021-10-21T07:08:32.882705Z",
     "shell.execute_reply.started": "2021-10-21T07:08:30.786087Z"
    },
    "nbgrader": {
     "cell_type": "code",
     "checksum": "69302115d01865bffa886ac7eac8fb7f",
     "grade": false,
     "grade_id": "cell-564230605456f73f",
     "locked": true,
     "schema_version": 3,
     "solution": false,
     "task": false
    },
    "tags": []
   },
   "outputs": [
    {
     "name": "stdout",
     "output_type": "stream",
     "text": [
      "Average cv score: 0.72\n",
      "Holdout set score: 0.85\n"
     ]
    }
   ],
   "source": [
    "# RUN AFTER TASK 15\n",
    "# initialize the pipeline using the same ADASYN resampler ad and new model\n",
    "pipeline = Pipeline([('adasyn', ad), ('gbc', model)])\n",
    "\n",
    "# perform cross validation\n",
    "cv_scores = cross_val_score(estimator=pipeline, X=X_trainval, y=y_trainval,\n",
    "                            scoring=scorer, cv=skf, n_jobs=-1)\n",
    "\n",
    "# calculate the average cv score\n",
    "average_cv_score = np.mean(cv_scores)\n",
    "print(f\"Average cv score: {average_cv_score:.2f}\")\n",
    "\n",
    "# fit and predict\n",
    "pipeline.fit(X_trainval, y_trainval)\n",
    "y_preds = pipeline.predict(X_hold)\n",
    "\n",
    "# get score on holdout set\n",
    "holdout_score = metric(y_hold, y_preds)\n",
    "print(f\"Holdout set score: {holdout_score:.2f}\")"
   ]
  },
  {
   "cell_type": "markdown",
   "id": "74a6cd17",
   "metadata": {
    "deletable": false,
    "editable": false,
    "nbgrader": {
     "cell_type": "markdown",
     "checksum": "82c91812759a27afd69fbf01f48ae8c1",
     "grade": false,
     "grade_id": "cell-0365014e8301fea8",
     "locked": true,
     "schema_version": 3,
     "solution": false,
     "task": false
    }
   },
   "source": [
    "## Model Interpretation (Part 2)"
   ]
  },
  {
   "cell_type": "markdown",
   "id": "829a4f84",
   "metadata": {
    "deletable": false,
    "editable": false,
    "nbgrader": {
     "cell_type": "markdown",
     "checksum": "4692f563a188fd9bfd5b2a2978675a9a",
     "grade": false,
     "grade_id": "cell-6840ec026bcdad44",
     "locked": true,
     "schema_version": 3,
     "solution": false,
     "task": false
    }
   },
   "source": [
    "Now let's interpret again our trained model. This time, we SHAP directly on our pipeline. We can achieve this using the `shap.KernelExplainer` object. We use our holdout test set as reference."
   ]
  },
  {
   "cell_type": "code",
   "execution_count": 49,
   "id": "6b1ad141",
   "metadata": {
    "ExecuteTime": {
     "end_time": "2021-10-21T02:19:50.353875Z",
     "start_time": "2021-10-21T02:19:50.339844Z"
    },
    "deletable": false,
    "editable": false,
    "execution": {
     "iopub.execute_input": "2021-10-21T07:09:31.914823Z",
     "iopub.status.busy": "2021-10-21T07:09:31.914823Z",
     "iopub.status.idle": "2021-10-21T07:09:31.927788Z",
     "shell.execute_reply": "2021-10-21T07:09:31.926790Z",
     "shell.execute_reply.started": "2021-10-21T07:09:31.914823Z"
    },
    "nbgrader": {
     "cell_type": "code",
     "checksum": "21a76404382d122b16289b125fef6299",
     "grade": false,
     "grade_id": "cell-0c06127c920517bd",
     "locked": true,
     "schema_version": 3,
     "solution": false,
     "task": false
    },
    "tags": []
   },
   "outputs": [],
   "source": [
    "explainer = shap.TreeExplainer(\n",
    "    pipeline['gbc'], feature_names=X_hold.columns,\n",
    ")"
   ]
  },
  {
   "cell_type": "markdown",
   "id": "2f7e5d19",
   "metadata": {
    "deletable": false,
    "editable": false,
    "nbgrader": {
     "cell_type": "markdown",
     "checksum": "224aa3274b979ea24210dcc117be8a0c",
     "grade": false,
     "grade_id": "cell-1d5bb9bfd7396818",
     "locked": true,
     "schema_version": 3,
     "solution": false,
     "task": false
    }
   },
   "source": [
    "### Task 16 [1 pt]\n",
    "\n",
    "Compute for the shapley values of each features using the `shap_value()` method of the `explainer` object."
   ]
  },
  {
   "cell_type": "code",
   "execution_count": 61,
   "id": "8698d97b",
   "metadata": {
    "ExecuteTime": {
     "end_time": "2021-10-21T02:19:50.385103Z",
     "start_time": "2021-10-21T02:19:50.355844Z"
    },
    "deletable": false,
    "execution": {
     "iopub.execute_input": "2021-10-21T07:16:15.675430Z",
     "iopub.status.busy": "2021-10-21T07:16:15.675430Z",
     "iopub.status.idle": "2021-10-21T07:16:15.695367Z",
     "shell.execute_reply": "2021-10-21T07:16:15.695367Z",
     "shell.execute_reply.started": "2021-10-21T07:16:15.675430Z"
    },
    "nbgrader": {
     "cell_type": "code",
     "checksum": "0d013e475c96d90e4c1a1c4b70c706db",
     "grade": false,
     "grade_id": "cell-f00b2fc8410b9c98",
     "locked": false,
     "schema_version": 3,
     "solution": true,
     "task": false
    },
    "tags": []
   },
   "outputs": [],
   "source": [
    "# # Ignore warnings for brevity\n",
    "# import warnings\n",
    "# warnings.filterwarnings('ignore')\n",
    "\n",
    "# Compute the Shapley values using the `shap_value()` method of\n",
    "# explainer. Use the hold-out test set as reference\n",
    "shap_values = explainer.shap_values(X_hold, check_additivity=True)\n"
   ]
  },
  {
   "cell_type": "code",
   "execution_count": 62,
   "id": "e2ee7441",
   "metadata": {
    "ExecuteTime": {
     "end_time": "2021-10-21T02:19:50.400051Z",
     "start_time": "2021-10-21T02:19:50.391060Z"
    },
    "deletable": false,
    "editable": false,
    "execution": {
     "iopub.execute_input": "2021-10-21T07:16:17.554888Z",
     "iopub.status.busy": "2021-10-21T07:16:17.554888Z",
     "iopub.status.idle": "2021-10-21T07:16:17.564862Z",
     "shell.execute_reply": "2021-10-21T07:16:17.563865Z",
     "shell.execute_reply.started": "2021-10-21T07:16:17.554888Z"
    },
    "nbgrader": {
     "cell_type": "code",
     "checksum": "3c1e6c1ce67a49acb975064997ca59d1",
     "grade": true,
     "grade_id": "cell-0e8e4559778ef99d",
     "locked": true,
     "points": 1,
     "schema_version": 3,
     "solution": false,
     "task": false
    },
    "tags": []
   },
   "outputs": [],
   "source": [
    "assert shap_values is not None"
   ]
  },
  {
   "cell_type": "markdown",
   "id": "18863711",
   "metadata": {
    "deletable": false,
    "editable": false,
    "nbgrader": {
     "cell_type": "markdown",
     "checksum": "97e99d4bbdf712597f396f7267783b01",
     "grade": false,
     "grade_id": "cell-8871b0fc2997e0d2",
     "locked": true,
     "schema_version": 3,
     "solution": false,
     "task": false
    }
   },
   "source": [
    "We note that our model still predicts patient `10` to be diabetic."
   ]
  },
  {
   "cell_type": "code",
   "execution_count": 63,
   "id": "160c84e1",
   "metadata": {
    "ExecuteTime": {
     "end_time": "2021-10-21T02:19:50.416050Z",
     "start_time": "2021-10-21T02:19:50.401051Z"
    },
    "deletable": false,
    "editable": false,
    "execution": {
     "iopub.execute_input": "2021-10-21T07:16:20.626064Z",
     "iopub.status.busy": "2021-10-21T07:16:20.626064Z",
     "iopub.status.idle": "2021-10-21T07:16:20.634042Z",
     "shell.execute_reply": "2021-10-21T07:16:20.634042Z",
     "shell.execute_reply.started": "2021-10-21T07:16:20.626064Z"
    },
    "nbgrader": {
     "cell_type": "code",
     "checksum": "62c156b2c9ea66a6f4083c0431cd7a44",
     "grade": false,
     "grade_id": "cell-6ce0457623f538ed",
     "locked": true,
     "schema_version": 3,
     "solution": false,
     "task": false
    },
    "tags": []
   },
   "outputs": [
    {
     "data": {
      "text/plain": [
       "array([1], dtype=int64)"
      ]
     },
     "execution_count": 63,
     "metadata": {},
     "output_type": "execute_result"
    }
   ],
   "source": [
    "pipeline['gbc'].predict(X_hold.iloc[[9]])"
   ]
  },
  {
   "cell_type": "markdown",
   "id": "57cb9195",
   "metadata": {
    "deletable": false,
    "editable": false,
    "nbgrader": {
     "cell_type": "markdown",
     "checksum": "aa2c05c1f96a8685ea2363ccec3122d2",
     "grade": false,
     "grade_id": "cell-393cce1053ab8ce0",
     "locked": true,
     "points": 1,
     "schema_version": 3,
     "solution": false,
     "task": true
    }
   },
   "source": [
    "### Task 17 [1 pt]\n",
    "\n",
    "Generate the **SHAP Force Plot** model explanation for patient `10`."
   ]
  },
  {
   "cell_type": "code",
   "execution_count": 64,
   "id": "13c0a6f5",
   "metadata": {
    "ExecuteTime": {
     "end_time": "2021-10-21T02:19:50.670053Z",
     "start_time": "2021-10-21T02:19:50.417053Z"
    },
    "deletable": false,
    "execution": {
     "iopub.execute_input": "2021-10-21T07:16:50.327585Z",
     "iopub.status.busy": "2021-10-21T07:16:50.326589Z",
     "iopub.status.idle": "2021-10-21T07:16:50.649754Z",
     "shell.execute_reply": "2021-10-21T07:16:50.648788Z",
     "shell.execute_reply.started": "2021-10-21T07:16:50.327585Z"
    },
    "nbgrader": {
     "cell_type": "code",
     "checksum": "21280e4193556fdf25e14e73ebdd9a50",
     "grade": false,
     "grade_id": "cell-c6933ed18154253b",
     "locked": false,
     "schema_version": 3,
     "solution": true,
     "task": false
    },
    "tags": []
   },
   "outputs": [
    {
     "data": {
      "image/png": "[encoded data removed]",
      "text/plain": [
       "<Figure size 1584x288 with 1 Axes>"
      ]
     },
     "metadata": {
      "needs_background": "light"
     },
     "output_type": "display_data"
    }
   ],
   "source": [
    "# Generate the SHAP force plot here\n",
    "shap.force_plot(base_value = explainer.expected_value,\n",
    "                shap_values = shap_values[9],\n",
    "                feature_names = X.columns,\n",
    "                matplotlib=True,\n",
    "                figsize=(22, 4),\n",
    "                text_rotation=30)"
   ]
  },
  {
   "cell_type": "markdown",
   "id": "84a525d3",
   "metadata": {
    "deletable": false,
    "editable": false,
    "nbgrader": {
     "cell_type": "markdown",
     "checksum": "154ac3670c75805634d4de58a36abad9",
     "grade": false,
     "grade_id": "cell-17c325644ba461aa",
     "locked": true,
     "points": 1,
     "schema_version": 3,
     "solution": false,
     "task": true
    }
   },
   "source": [
    "### Task 18 [1 pt]\n",
    "\n",
    "Generate the **SHAP Beeswarm Plot** global model explanation for our pipeline."
   ]
  },
  {
   "cell_type": "code",
   "execution_count": 65,
   "id": "30b37a19",
   "metadata": {
    "ExecuteTime": {
     "end_time": "2021-10-21T02:19:50.952050Z",
     "start_time": "2021-10-21T02:19:50.673050Z"
    },
    "deletable": false,
    "execution": {
     "iopub.execute_input": "2021-10-21T07:17:04.248780Z",
     "iopub.status.busy": "2021-10-21T07:17:04.248780Z",
     "iopub.status.idle": "2021-10-21T07:17:04.541504Z",
     "shell.execute_reply": "2021-10-21T07:17:04.541504Z",
     "shell.execute_reply.started": "2021-10-21T07:17:04.248780Z"
    },
    "nbgrader": {
     "cell_type": "code",
     "checksum": "96fd8ab9a7f0cc55da1f6b0a5c5219e2",
     "grade": false,
     "grade_id": "cell-d4cb9d387f476804",
     "locked": false,
     "schema_version": 3,
     "solution": true,
     "task": false
    },
    "tags": []
   },
   "outputs": [
    {
     "data": {
      "image/png": "[encoded data removed]",
      "text/plain": [
       "<Figure size 576x338.4 with 2 Axes>"
      ]
     },
     "metadata": {
      "needs_background": "light"
     },
     "output_type": "display_data"
    }
   ],
   "source": [
    "# Generate the beeswarm plot here\n",
    "shap.summary_plot(shap_values = shap_values, features = X_hold)"
   ]
  },
  {
   "cell_type": "markdown",
   "id": "06227128",
   "metadata": {
    "deletable": false,
    "editable": false,
    "nbgrader": {
     "cell_type": "markdown",
     "checksum": "a545cee7a0f4616e56e8b56fb3429d10",
     "grade": false,
     "grade_id": "cell-268c24b5ce8e3276",
     "locked": true,
     "schema_version": 3,
     "solution": false,
     "task": false
    }
   },
   "source": [
    "### Task 19 [2 pts]\n",
    "\n",
    "Enumerate at least **three** the differences you see between the model explanations for our tuned pipeline with resampling versus the prior model we used.\n",
    "\n",
    "Hypothesize possible causes that changed the way the model behaved. Explain your answer as if you were talking to a business stakeholder after showing them this iteration or version of your model."
   ]
  },
  {
   "cell_type": "markdown",
   "id": "7236fd4a",
   "metadata": {
    "deletable": false,
    "nbgrader": {
     "cell_type": "markdown",
     "checksum": "36c62d1802c5674c2d61a47fb91b40c0",
     "grade": true,
     "grade_id": "cell-abafe932455058e0",
     "locked": false,
     "points": 2,
     "schema_version": 3,
     "solution": true,
     "task": false
    }
   },
   "source": [
    "PLACE YOUR ANSWER HERE\n",
    "\n",
    "1.) Glucose, BMI, and pedigree function had a stronger influence in predicting that patient 10 is diabetic compared to the initial untuned model. \n",
    "<br>2.) For this version of the model, we are confident to say that False Negatives were reduced given the improvement in the recall metric from 0.78 to 0.85.\n",
    "<br>3.) The predicted value is much farther from the base value in the new model, implying that the model is more confident in its prediction. \n",
    "<br>4.) Factors such as age and blood pressure lowered its influence on the resampled model's shapley values.\n",
    "<br> 5.) In the resampled model, we can see that the shapley values rose to 0.97 from 0.21 due to a greater push from glucose and BMI compared to the former."
   ]
  },
  {
   "cell_type": "markdown",
   "id": "acc1977a",
   "metadata": {
    "deletable": false,
    "editable": false,
    "nbgrader": {
     "cell_type": "markdown",
     "checksum": "387eb7e366d3358c0c830e72f108323d",
     "grade": false,
     "grade_id": "cell-8ff443aeff2101da",
     "locked": true,
     "schema_version": 3,
     "solution": false,
     "task": false
    }
   },
   "source": [
    "### Task 20 [2 pts]\n",
    "\n",
    "What are the potential limitations in our current iteration? What steps will you do to improve the model performance and explainability?"
   ]
  },
  {
   "cell_type": "markdown",
   "id": "e46a42a2",
   "metadata": {
    "deletable": false,
    "nbgrader": {
     "cell_type": "markdown",
     "checksum": "9bd26772fad58a7f30208f3bd8531f9a",
     "grade": true,
     "grade_id": "cell-722e007c2ec67826",
     "locked": false,
     "points": 2,
     "schema_version": 3,
     "solution": true,
     "task": false
    }
   },
   "source": [
    "PLACE YOUR ANSWER HERE\n",
    "- We can try to implement different resampling methods other than `ADASYSN`.\n",
    "- We can also look into feature engineering to improve model performance.\n",
    "- We can consider scaling the features and check if the model improves.\n",
    "- Explore other explainability methods like partial dependence plots and ICE plots"
   ]
  },
  {
   "cell_type": "code",
   "execution_count": 71,
   "id": "24767898-baee-47cd-b67c-fd5b0244fa76",
   "metadata": {
    "execution": {
     "iopub.execute_input": "2021-10-21T07:40:21.077549Z",
     "iopub.status.busy": "2021-10-21T07:40:21.077549Z",
     "iopub.status.idle": "2021-10-21T07:40:21.564927Z",
     "shell.execute_reply": "2021-10-21T07:40:21.562930Z",
     "shell.execute_reply.started": "2021-10-21T07:40:21.077549Z"
    },
    "tags": []
   },
   "outputs": [
    {
     "data": {
      "image/png": "[encoded data removed]",
      "text/plain": [
       "<Figure size 540x360 with 2 Axes>"
      ]
     },
     "metadata": {
      "needs_background": "light"
     },
     "output_type": "display_data"
    }
   ],
   "source": [
    "shap.dependence_plot(ind='glucose', \n",
    "                     shap_values=shap_values,\n",
    "                     features=X_hold,\n",
    "                     feature_names=X_hold.columns)"
   ]
  }
 ],
 "metadata": {
  "hide_input": false,
  "kernelspec": {
   "display_name": "Python 3 (ipykernel)",
   "language": "python",
   "name": "python3"
  },
  "language_info": {
   "codemirror_mode": {
    "name": "ipython",
    "version": 3
   },
   "file_extension": ".py",
   "mimetype": "text/x-python",
   "name": "python",
   "nbconvert_exporter": "python",
   "pygments_lexer": "ipython3",
   "version": "3.9.6"
  },
  "toc": {
   "base_numbering": 1,
   "nav_menu": {},
   "number_sections": true,
   "sideBar": true,
   "skip_h1_title": false,
   "title_cell": "Table of Contents",
   "title_sidebar": "Contents",
   "toc_cell": false,
   "toc_position": {},
   "toc_section_display": true,
   "toc_window_display": false
  }
 },
 "nbformat": 4,
 "nbformat_minor": 5
}
