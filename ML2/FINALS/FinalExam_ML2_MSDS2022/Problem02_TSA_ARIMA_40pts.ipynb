{
 "cells": [
  {
   "cell_type": "markdown",
   "id": "5636b30f",
   "metadata": {
    "nbgrader": {
     "grade": false,
     "grade_id": "cell-d8e41add05c427ed",
     "locked": true,
     "schema_version": 3,
     "solution": false,
     "task": false
    }
   },
   "source": [
    "<div class=\"alert alert-info\">\n",
    "\n",
    "**Important Notes**\n",
    "    \n",
    "- Make sure that you are running `statsmodels 0.12.2` when training your ARIMA models.\n",
    " \n",
    "</div>"
   ]
  },
  {
   "cell_type": "markdown",
   "id": "fa2643dd",
   "metadata": {
    "nbgrader": {
     "grade": false,
     "grade_id": "cell-37c33c6e795ac700",
     "locked": true,
     "schema_version": 3,
     "solution": false,
     "task": false
    }
   },
   "source": [
    "# Problem 2. Time Series: Forecasting the Average Monthly Temperature of Metro Manila (40 pts)\n",
    "\n",
    "In this problem, you will apply ARIMA to forecast the time-series data provided by the Philippine Atmospheric, Geophysical and Astronomical Services Administration (PAG-ASA). PAGASA is the Philippine national institution dedicated to provide flood and typhoon warnings, public weather forecasts and advisories, meteorological, astronomical, climatological, and other specialized information and services primarily for the protection of life and property and in support of economic, productivity and sustainable development. The government agency was created on December 8, 1972 by virtue of Presidential Decree No. 78 reorganizing the Philippine Weather Bureau into PAGASA.*\n",
    "\n",
    "Read and execute carefully the instructions provided. \n",
    "\n",
    "\n",
    "*http://www.pagasa.dost.gov.ph/"
   ]
  },
  {
   "cell_type": "markdown",
   "id": "00b1b415",
   "metadata": {},
   "source": [
    "\n",
    "## Context\n",
    "\n",
    "\n",
    "You've recently been hired by PAG-ASA as their new data science consultant. Congratulations!\n",
    "\n",
    "Your task is to create a forecasting model that can predict the **average monthly temperature** for Metro Manila.\n",
    "\n",
    "Specifically, your goal is to create a <u>6-month ahead</u> forecaster.\n",
    "\n",
    "<img src=\"pag-asa_logo.png\" alt=\"drawing\" width=\"200\">\n"
   ]
  },
  {
   "cell_type": "markdown",
   "id": "81b40e9e",
   "metadata": {
    "nbgrader": {
     "grade": false,
     "grade_id": "cell-57257da259cceaf8",
     "locked": true,
     "schema_version": 3,
     "solution": false,
     "task": false
    }
   },
   "source": [
    "## Tasks:"
   ]
  },
  {
   "cell_type": "markdown",
   "id": "be651c05",
   "metadata": {
    "nbgrader": {
     "grade": false,
     "grade_id": "cell-dfc844f8bb5b5c1f",
     "locked": true,
     "schema_version": 3,
     "solution": false,
     "task": false
    }
   },
   "source": [
    "0. Load the data from `manila_monthly_temp.csv`. (based on [`GSOD`](https://www.ncei.noaa.gov/access/metadata/landing-page/bin/iso?id=gov.noaa.ncdc:C00516))\n",
    "\n",
    "\n",
    "1. Plot the `avg` series and its ACF plot. [5 pts]  \n",
    "    \n",
    "    \n",
    "2. Hold out all the observations in 2020. These will be used for the test sets below.\n",
    "    \n",
    "    \n",
    "3. Implement a pipeline that finds the optimal ARIMA parameters $(p,d,q)$ using the training set. [10 pts]\n",
    "\n",
    "Fill-up the table below:\n",
    "\n",
    "| Forecasting Method | Avg. Test MAE | Avg. Test RMSE | Avg. Test MAPE |\n",
    "| :---: | :---: | :---: | :---: |\n",
    "| Naive / Persistence* | X | X | X |\n",
    "| Seasonal Naive | X | X | X |\n",
    "| ARIMA(?,?,?) | X | X | X |\n",
    "\n",
    "*In weather and climate modeling, the naive method for forecasting is usually referred to as the [`persistence method`](https://en.wikipedia.org/wiki/Weather_forecasting#Persistence).\n",
    "\n",
    "Metrics:\n",
    "\n",
    "- [`Mean Absolute Error (MAE)`](https://scikit-learn.org/stable/modules/generated/sklearn.metrics.mean_absolute_error.html)\n",
    "- [`Root Mean Squared Error (RMSE)`](https://scikit-learn.org/stable/modules/generated/sklearn.metrics.mean_squared_error.html)\n",
    "- [`Mean Absolute Percentage Error (MAPE)`](https://scikit-learn.org/stable/modules/generated/sklearn.metrics.mean_absolute_percentage_error.html)\n",
    "\n",
    "To caculate the average test errors, use time series cross-validation (TSCV) as defined by Hyndman and Athanasopoulos.\n",
    "\n",
    "You have complete freedom in designing your pipeline, everything from pre-processing techniques to grid-search CV.\n",
    "\n",
    "Your only objective is to train an ARIMA model that can outperform the two naive baseline methods in terms of the defined error metrics.\n",
    "\n",
    "4. Plot the final test set (last 6 months of 2020) along with your ARIMA, Naive, and S.Naive forecasts. Make sure your plot is properly labeled. [5 pts]\n",
    "\n",
    "5. Write a report and interpret your results. Your goal is to demonstrate to the heads of PAG-ASA that there is merit to data science and using machine learning as a tool to help them in their forecasting. [20 pts]"
   ]
  },
  {
   "cell_type": "markdown",
   "id": "01201c1e",
   "metadata": {
    "nbgrader": {
     "grade": false,
     "grade_id": "cell-f20fd18b4963a595",
     "locked": true,
     "schema_version": 3,
     "solution": false,
     "task": false
    }
   },
   "source": [
    "<div class='alert alert-success'>\n",
    "\n",
    "**Some guide questions**\n",
    "\n",
    "- How would you explain these results to your stakeholders? A lot of people are actually not familiar with time series analysis!\n",
    "- What are the limitations of this sort of analysis?\n",
    "- Some members of the PAG-ASA team that may not have seen MAE/RMSE/MAPE before. Based on their respective formulas, provide an intuition on how to interpret the metrics.\n",
    "- What are some ways you can improve the pipeline?\n",
    "    \n",
    "</div>\n",
    "\n",
    "<div class='alert alert-info'>\n",
    "\n",
    "**Rubric for the report**\n",
    "\n",
    "- Ease of understanding to a lay person. (3 pts)\n",
    "- Technical rigor. (3 pts)\n",
    "- Conciseness. (3 pts)\n",
    "- Insights and recommendations. (11 pts)\n",
    "\n",
    "</div>"
   ]
  },
  {
   "cell_type": "markdown",
   "id": "275b0707-e95a-45c9-8442-5f8c9d52ac8f",
   "metadata": {},
   "source": [
    "# Tasks"
   ]
  },
  {
   "cell_type": "code",
   "execution_count": 16,
   "id": "736dc022-b798-495b-92f6-b4b0ca85934c",
   "metadata": {
    "execution": {
     "iopub.execute_input": "2021-11-24T02:25:06.150664Z",
     "iopub.status.busy": "2021-11-24T02:25:06.149703Z",
     "iopub.status.idle": "2021-11-24T02:25:06.167618Z",
     "shell.execute_reply": "2021-11-24T02:25:06.166625Z",
     "shell.execute_reply.started": "2021-11-24T02:25:06.150664Z"
    },
    "tags": []
   },
   "outputs": [],
   "source": [
    "import pandas as pd\n",
    "import numpy as np\n",
    "import matplotlib.pyplot as plt\n",
    "import seaborn as sns\n",
    "from fbprophet import Prophet \n",
    "from statsmodels.graphics.tsaplots import plot_acf\n",
    "from statsmodels.tsa.arima.model import ARIMA\n",
    "from sklearn.model_selection import TimeSeriesSplit\n",
    "from fbprophet.diagnostics import cross_validation, performance_metrics\n",
    "from sklearn.metrics import mean_absolute_error\n",
    "from sklearn.metrics import mean_squared_error\n",
    "from sklearn.metrics import mean_absolute_percentage_error\n",
    "import itertools\n",
    "import optuna\n",
    "plt.rcParams['figure.figsize'] = (20,7)\n",
    "import warnings\n",
    "warnings.filterwarnings(\"ignore\")\n",
    "\n",
    "def adf_test(ts):\n",
    "    from statsmodels.tsa.stattools import adfuller\n",
    "    res = adfuller(ts)\n",
    "    print('ADF = %f' % res[0])\n",
    "    print('p-value = %f' % res[1])\n",
    "    print('Critical Values:')\n",
    "    for k, v in res[4].items():\n",
    "        print('\\t%s: %.3f' % (k, v))"
   ]
  },
  {
   "cell_type": "markdown",
   "id": "4147b4d2-ae93-45ee-907c-c716d4d2f9d0",
   "metadata": {},
   "source": [
    "## Load data"
   ]
  },
  {
   "cell_type": "code",
   "execution_count": 3,
   "id": "c9d7d0da-d8d6-47fd-979f-5708bddbdd15",
   "metadata": {
    "execution": {
     "iopub.execute_input": "2021-11-24T02:13:47.586021Z",
     "iopub.status.busy": "2021-11-24T02:13:47.585111Z",
     "iopub.status.idle": "2021-11-24T02:13:47.636884Z",
     "shell.execute_reply": "2021-11-24T02:13:47.635886Z",
     "shell.execute_reply.started": "2021-11-24T02:13:47.586021Z"
    },
    "tags": []
   },
   "outputs": [
    {
     "data": {
      "text/html": [
       "<div>\n",
       "<style scoped>\n",
       "    .dataframe tbody tr th:only-of-type {\n",
       "        vertical-align: middle;\n",
       "    }\n",
       "\n",
       "    .dataframe tbody tr th {\n",
       "        vertical-align: top;\n",
       "    }\n",
       "\n",
       "    .dataframe thead th {\n",
       "        text-align: right;\n",
       "    }\n",
       "</style>\n",
       "<table border=\"1\" class=\"dataframe\">\n",
       "  <thead>\n",
       "    <tr style=\"text-align: right;\">\n",
       "      <th></th>\n",
       "      <th>date</th>\n",
       "      <th>avg</th>\n",
       "    </tr>\n",
       "  </thead>\n",
       "  <tbody>\n",
       "    <tr>\n",
       "      <th>0</th>\n",
       "      <td>1990-01</td>\n",
       "      <td>26.96</td>\n",
       "    </tr>\n",
       "    <tr>\n",
       "      <th>1</th>\n",
       "      <td>1990-02</td>\n",
       "      <td>27.57</td>\n",
       "    </tr>\n",
       "    <tr>\n",
       "      <th>2</th>\n",
       "      <td>1990-03</td>\n",
       "      <td>28.04</td>\n",
       "    </tr>\n",
       "    <tr>\n",
       "      <th>3</th>\n",
       "      <td>1990-04</td>\n",
       "      <td>30.34</td>\n",
       "    </tr>\n",
       "    <tr>\n",
       "      <th>4</th>\n",
       "      <td>1990-05</td>\n",
       "      <td>29.82</td>\n",
       "    </tr>\n",
       "    <tr>\n",
       "      <th>...</th>\n",
       "      <td>...</td>\n",
       "      <td>...</td>\n",
       "    </tr>\n",
       "    <tr>\n",
       "      <th>367</th>\n",
       "      <td>2020-08</td>\n",
       "      <td>30.36</td>\n",
       "    </tr>\n",
       "    <tr>\n",
       "      <th>368</th>\n",
       "      <td>2020-09</td>\n",
       "      <td>29.34</td>\n",
       "    </tr>\n",
       "    <tr>\n",
       "      <th>369</th>\n",
       "      <td>2020-10</td>\n",
       "      <td>28.15</td>\n",
       "    </tr>\n",
       "    <tr>\n",
       "      <th>370</th>\n",
       "      <td>2020-11</td>\n",
       "      <td>28.12</td>\n",
       "    </tr>\n",
       "    <tr>\n",
       "      <th>371</th>\n",
       "      <td>2020-12</td>\n",
       "      <td>27.82</td>\n",
       "    </tr>\n",
       "  </tbody>\n",
       "</table>\n",
       "<p>372 rows × 2 columns</p>\n",
       "</div>"
      ],
      "text/plain": [
       "        date    avg\n",
       "0    1990-01  26.96\n",
       "1    1990-02  27.57\n",
       "2    1990-03  28.04\n",
       "3    1990-04  30.34\n",
       "4    1990-05  29.82\n",
       "..       ...    ...\n",
       "367  2020-08  30.36\n",
       "368  2020-09  29.34\n",
       "369  2020-10  28.15\n",
       "370  2020-11  28.12\n",
       "371  2020-12  27.82\n",
       "\n",
       "[372 rows x 2 columns]"
      ]
     },
     "execution_count": 3,
     "metadata": {},
     "output_type": "execute_result"
    }
   ],
   "source": [
    "df_raw = pd.read_csv('manila_monthly_temp.csv')\n",
    "df_raw"
   ]
  },
  {
   "cell_type": "markdown",
   "id": "ebb3f271-db1e-41b3-9496-7dbc8aa18e17",
   "metadata": {},
   "source": [
    "## Plot the avg series and its ACF plot. [5 pts]"
   ]
  },
  {
   "cell_type": "code",
   "execution_count": 9,
   "id": "2c7fff67-4edc-49f1-a990-4da79ab5b7ae",
   "metadata": {
    "execution": {
     "iopub.execute_input": "2021-11-24T02:19:50.977621Z",
     "iopub.status.busy": "2021-11-24T02:19:50.977621Z",
     "iopub.status.idle": "2021-11-24T02:19:51.206588Z",
     "shell.execute_reply": "2021-11-24T02:19:51.205590Z",
     "shell.execute_reply.started": "2021-11-24T02:19:50.977621Z"
    },
    "tags": []
   },
   "outputs": [
    {
     "data": {
      "image/png": "[encoded data removed]",
      "text/plain": [
       "<Figure size 1440x504 with 1 Axes>"
      ]
     },
     "metadata": {
      "needs_background": "light"
     },
     "output_type": "display_data"
    }
   ],
   "source": [
    "df = df_raw.copy()\n",
    "df.date = pd.to_datetime(df.date)\n",
    "df.set_index('date', inplace=True)\n",
    "df.plot()\n",
    "plt.autoscale()"
   ]
  },
  {
   "cell_type": "code",
   "execution_count": 81,
   "id": "7d8cf5c6-de19-4aea-a4ed-c78a4ba3eb92",
   "metadata": {
    "execution": {
     "iopub.execute_input": "2021-11-24T03:18:30.087722Z",
     "iopub.status.busy": "2021-11-24T03:18:30.087722Z",
     "iopub.status.idle": "2021-11-24T03:18:30.249257Z",
     "shell.execute_reply": "2021-11-24T03:18:30.248259Z",
     "shell.execute_reply.started": "2021-11-24T03:18:30.087722Z"
    },
    "tags": []
   },
   "outputs": [
    {
     "data": {
      "image/png": "[encoded data removed]",
      "text/plain": [
       "<Figure size 1440x504 with 1 Axes>"
      ]
     },
     "metadata": {
      "needs_background": "light"
     },
     "output_type": "display_data"
    }
   ],
   "source": [
    "plot_acf(df, lags=12*2)\n",
    "plt.show()"
   ]
  },
  {
   "cell_type": "markdown",
   "id": "d4f2dcca-3fde-4b43-ba39-c1e8714f13c4",
   "metadata": {},
   "source": [
    "## Hold out all the observations in 2020. These will be used for the test sets below."
   ]
  },
  {
   "cell_type": "code",
   "execution_count": 18,
   "id": "704366f8-6ef2-4ca4-a243-84d82a895c08",
   "metadata": {
    "execution": {
     "iopub.execute_input": "2021-11-24T02:28:53.305653Z",
     "iopub.status.busy": "2021-11-24T02:28:53.305653Z",
     "iopub.status.idle": "2021-11-24T02:28:53.321610Z",
     "shell.execute_reply": "2021-11-24T02:28:53.319617Z",
     "shell.execute_reply.started": "2021-11-24T02:28:53.305653Z"
    },
    "tags": []
   },
   "outputs": [
    {
     "data": {
      "text/html": [
       "<div>\n",
       "<style scoped>\n",
       "    .dataframe tbody tr th:only-of-type {\n",
       "        vertical-align: middle;\n",
       "    }\n",
       "\n",
       "    .dataframe tbody tr th {\n",
       "        vertical-align: top;\n",
       "    }\n",
       "\n",
       "    .dataframe thead th {\n",
       "        text-align: right;\n",
       "    }\n",
       "</style>\n",
       "<table border=\"1\" class=\"dataframe\">\n",
       "  <thead>\n",
       "    <tr style=\"text-align: right;\">\n",
       "      <th></th>\n",
       "      <th>avg</th>\n",
       "    </tr>\n",
       "    <tr>\n",
       "      <th>date</th>\n",
       "      <th></th>\n",
       "    </tr>\n",
       "  </thead>\n",
       "  <tbody>\n",
       "    <tr>\n",
       "      <th>2020-01-01</th>\n",
       "      <td>27.24</td>\n",
       "    </tr>\n",
       "    <tr>\n",
       "      <th>2020-02-01</th>\n",
       "      <td>26.80</td>\n",
       "    </tr>\n",
       "    <tr>\n",
       "      <th>2020-03-01</th>\n",
       "      <td>29.15</td>\n",
       "    </tr>\n",
       "    <tr>\n",
       "      <th>2020-04-01</th>\n",
       "      <td>30.14</td>\n",
       "    </tr>\n",
       "    <tr>\n",
       "      <th>2020-05-01</th>\n",
       "      <td>30.73</td>\n",
       "    </tr>\n",
       "    <tr>\n",
       "      <th>2020-06-01</th>\n",
       "      <td>30.13</td>\n",
       "    </tr>\n",
       "    <tr>\n",
       "      <th>2020-07-01</th>\n",
       "      <td>29.91</td>\n",
       "    </tr>\n",
       "    <tr>\n",
       "      <th>2020-08-01</th>\n",
       "      <td>30.36</td>\n",
       "    </tr>\n",
       "    <tr>\n",
       "      <th>2020-09-01</th>\n",
       "      <td>29.34</td>\n",
       "    </tr>\n",
       "    <tr>\n",
       "      <th>2020-10-01</th>\n",
       "      <td>28.15</td>\n",
       "    </tr>\n",
       "    <tr>\n",
       "      <th>2020-11-01</th>\n",
       "      <td>28.12</td>\n",
       "    </tr>\n",
       "    <tr>\n",
       "      <th>2020-12-01</th>\n",
       "      <td>27.82</td>\n",
       "    </tr>\n",
       "  </tbody>\n",
       "</table>\n",
       "</div>"
      ],
      "text/plain": [
       "              avg\n",
       "date             \n",
       "2020-01-01  27.24\n",
       "2020-02-01  26.80\n",
       "2020-03-01  29.15\n",
       "2020-04-01  30.14\n",
       "2020-05-01  30.73\n",
       "2020-06-01  30.13\n",
       "2020-07-01  29.91\n",
       "2020-08-01  30.36\n",
       "2020-09-01  29.34\n",
       "2020-10-01  28.15\n",
       "2020-11-01  28.12\n",
       "2020-12-01  27.82"
      ]
     },
     "execution_count": 18,
     "metadata": {},
     "output_type": "execute_result"
    }
   ],
   "source": [
    "ts_train = df[df.index.year!=2020]\n",
    "ts_holdout = df[df.index.year==2020]\n",
    "ts_holdout"
   ]
  },
  {
   "cell_type": "markdown",
   "id": "062b5782-94d9-4cd0-8021-1f2aa2f851fc",
   "metadata": {},
   "source": [
    "# Pipeline\n",
    "Implement a pipeline that finds the optimal ARIMA parameters  (𝑝,𝑑,𝑞)  using the training set. [10 pts]\n",
    "\n",
    "**Predict 6-month ahead**"
   ]
  },
  {
   "cell_type": "code",
   "execution_count": 17,
   "id": "01915e3b-f927-41f6-a2b0-aeb805877ccc",
   "metadata": {
    "execution": {
     "iopub.execute_input": "2021-11-24T02:26:03.146974Z",
     "iopub.status.busy": "2021-11-24T02:26:03.146418Z",
     "iopub.status.idle": "2021-11-24T02:26:03.234732Z",
     "shell.execute_reply": "2021-11-24T02:26:03.233733Z",
     "shell.execute_reply.started": "2021-11-24T02:26:03.146963Z"
    },
    "tags": []
   },
   "outputs": [
    {
     "name": "stdout",
     "output_type": "stream",
     "text": [
      "ADF = -5.487622\n",
      "p-value = 0.000002\n",
      "Critical Values:\n",
      "\t1%: -3.449\n",
      "\t5%: -2.870\n",
      "\t10%: -2.571\n"
     ]
    }
   ],
   "source": [
    "adf_test(df)"
   ]
  },
  {
   "cell_type": "code",
   "execution_count": 21,
   "id": "ec70d931-9012-4509-b1ca-ce5876ac2ed9",
   "metadata": {
    "execution": {
     "iopub.execute_input": "2021-11-24T02:29:36.081160Z",
     "iopub.status.busy": "2021-11-24T02:29:36.081160Z",
     "iopub.status.idle": "2021-11-24T02:29:36.102106Z",
     "shell.execute_reply": "2021-11-24T02:29:36.101138Z",
     "shell.execute_reply.started": "2021-11-24T02:29:36.081160Z"
    },
    "tags": []
   },
   "outputs": [
    {
     "name": "stdout",
     "output_type": "stream",
     "text": [
      "Val Index: [330 331 332 333 334 335]--Train length:  330\n",
      "Val Index: [336 337 338 339 340 341]--Train length:  336\n",
      "Val Index: [342 343 344 345 346 347]--Train length:  342\n",
      "Val Index: [348 349 350 351 352 353]--Train length:  348\n",
      "Val Index: [354 355 356 357 358 359]--Train length:  354\n"
     ]
    }
   ],
   "source": [
    "h = 6\n",
    "tskfold = TimeSeriesSplit(n_splits=5, test_size=h)\n",
    "for train_index, val_index in tskfold.split(ts_train):\n",
    "    print(\"Val Index:\", val_index, end=\"--\")\n",
    "    print(\"Train length: \", len(train_index))"
   ]
  },
  {
   "cell_type": "markdown",
   "id": "c9f9ec6f-4f0b-41f0-ab0c-3766e0ae6dcc",
   "metadata": {},
   "source": [
    "## ARIMA"
   ]
  },
  {
   "cell_type": "markdown",
   "id": "41f7d6c8-3066-42ad-8ead-ff0b92bb42b9",
   "metadata": {},
   "source": [
    "### MAE"
   ]
  },
  {
   "cell_type": "code",
   "execution_count": 109,
   "id": "b01277dd-9c43-4756-8700-afcbc21a99f2",
   "metadata": {
    "execution": {
     "iopub.execute_input": "2021-11-24T03:37:11.183403Z",
     "iopub.status.busy": "2021-11-24T03:37:11.183403Z",
     "iopub.status.idle": "2021-11-24T03:37:11.194407Z",
     "shell.execute_reply": "2021-11-24T03:37:11.194407Z",
     "shell.execute_reply.started": "2021-11-24T03:37:11.183403Z"
    },
    "scrolled": true,
    "tags": []
   },
   "outputs": [],
   "source": [
    "def cv_arima(ts_train, p,d,q, metric, root=False):\n",
    "    p_grid = range(p)\n",
    "    d_grid = range(d)\n",
    "    q_grid = range(q)\n",
    "    pdq_grid = list(itertools.product(p_grid, d_grid, q_grid))\n",
    "\n",
    "    df_results = pd.DataFrame()\n",
    "    df_results['(p,d,q)'] = pdq_grid\n",
    "    avg_mae = []\n",
    "\n",
    "    for pdq in pdq_grid:\n",
    "        print(pdq) # swap this out for tqdm\n",
    "        mae = []\n",
    "        for train_index, val_index in tskfold.split(ts_train):\n",
    "\n",
    "            # train-val split\n",
    "            x_train = ts_train.iloc[train_index]\n",
    "            y_val = ts_train.iloc[val_index]\n",
    "\n",
    "            x_d = x_train\n",
    "\n",
    "            # fit ARIMA\n",
    "            model = ARIMA(x_d, order=pdq).fit()\n",
    "\n",
    "            # forecast\n",
    "            y_pred = model.forecast(h)\n",
    "\n",
    "            # reverse log, s.diff\n",
    "            # y_pred = x_train[-m:].to_numpy() + y_pred.to_numpy()\n",
    "\n",
    "            # compile error\n",
    "            if root:\n",
    "                mae.append(np.sqrt(metric(y_val, y_pred)))\n",
    "            \n",
    "            if not root:\n",
    "                mae.append(metric(y_val, y_pred))\n",
    "\n",
    "\n",
    "        # avg error\n",
    "        avg_mae.append(np.mean(mae))\n",
    "\n",
    "    df_results[f'Avg. {metric}'] = avg_mae\n",
    "    return df_results.sort_values(by= f'Avg. {metric}')"
   ]
  },
  {
   "cell_type": "code",
   "execution_count": 112,
   "id": "a5de2f58-7a77-4b90-b4a9-1e1d17cc243d",
   "metadata": {
    "execution": {
     "iopub.execute_input": "2021-11-24T03:37:39.621843Z",
     "iopub.status.busy": "2021-11-24T03:37:39.621843Z",
     "iopub.status.idle": "2021-11-24T03:38:47.806748Z",
     "shell.execute_reply": "2021-11-24T03:38:47.805784Z",
     "shell.execute_reply.started": "2021-11-24T03:37:39.621843Z"
    },
    "scrolled": true,
    "tags": []
   },
   "outputs": [
    {
     "name": "stdout",
     "output_type": "stream",
     "text": [
      "(0, 0, 0)\n",
      "(0, 0, 1)\n",
      "(0, 0, 2)\n",
      "(0, 0, 3)\n",
      "(0, 0, 4)\n",
      "(0, 0, 5)\n",
      "(0, 0, 6)\n",
      "(0, 0, 7)\n",
      "(0, 0, 8)\n",
      "(0, 0, 9)\n",
      "(0, 0, 10)\n",
      "(0, 0, 11)\n",
      "(1, 0, 0)\n",
      "(1, 0, 1)\n",
      "(1, 0, 2)\n",
      "(1, 0, 3)\n",
      "(1, 0, 4)\n",
      "(1, 0, 5)\n",
      "(1, 0, 6)\n",
      "(1, 0, 7)\n",
      "(1, 0, 8)\n",
      "(1, 0, 9)\n",
      "(1, 0, 10)\n",
      "(1, 0, 11)\n",
      "(2, 0, 0)\n",
      "(2, 0, 1)\n",
      "(2, 0, 2)\n"
     ]
    },
    {
     "ename": "KeyboardInterrupt",
     "evalue": "",
     "output_type": "error",
     "traceback": [
      "\u001b[1;31m---------------------------------------------------------------------------\u001b[0m",
      "\u001b[1;31mKeyboardInterrupt\u001b[0m                         Traceback (most recent call last)",
      "\u001b[1;32m~\\AppData\\Local\\Temp/ipykernel_25808/3003197844.py\u001b[0m in \u001b[0;36m<module>\u001b[1;34m\u001b[0m\n\u001b[1;32m----> 1\u001b[1;33m \u001b[0mcv_arima\u001b[0m\u001b[1;33m(\u001b[0m\u001b[0mts_train\u001b[0m\u001b[1;33m,\u001b[0m \u001b[1;36m12\u001b[0m\u001b[1;33m,\u001b[0m\u001b[1;36m1\u001b[0m\u001b[1;33m,\u001b[0m\u001b[1;36m12\u001b[0m\u001b[1;33m,\u001b[0m \u001b[0mmean_absolute_error\u001b[0m\u001b[1;33m)\u001b[0m\u001b[1;33m\u001b[0m\u001b[1;33m\u001b[0m\u001b[0m\n\u001b[0m",
      "\u001b[1;32m~\\AppData\\Local\\Temp/ipykernel_25808/3777219246.py\u001b[0m in \u001b[0;36mcv_arima\u001b[1;34m(ts_train, p, d, q, metric, root)\u001b[0m\n\u001b[0;32m     21\u001b[0m \u001b[1;33m\u001b[0m\u001b[0m\n\u001b[0;32m     22\u001b[0m             \u001b[1;31m# fit ARIMA\u001b[0m\u001b[1;33m\u001b[0m\u001b[1;33m\u001b[0m\u001b[1;33m\u001b[0m\u001b[0m\n\u001b[1;32m---> 23\u001b[1;33m             \u001b[0mmodel\u001b[0m \u001b[1;33m=\u001b[0m \u001b[0mARIMA\u001b[0m\u001b[1;33m(\u001b[0m\u001b[0mx_d\u001b[0m\u001b[1;33m,\u001b[0m \u001b[0morder\u001b[0m\u001b[1;33m=\u001b[0m\u001b[0mpdq\u001b[0m\u001b[1;33m)\u001b[0m\u001b[1;33m.\u001b[0m\u001b[0mfit\u001b[0m\u001b[1;33m(\u001b[0m\u001b[1;33m)\u001b[0m\u001b[1;33m\u001b[0m\u001b[1;33m\u001b[0m\u001b[0m\n\u001b[0m\u001b[0;32m     24\u001b[0m \u001b[1;33m\u001b[0m\u001b[0m\n\u001b[0;32m     25\u001b[0m             \u001b[1;31m# forecast\u001b[0m\u001b[1;33m\u001b[0m\u001b[1;33m\u001b[0m\u001b[1;33m\u001b[0m\u001b[0m\n",
      "\u001b[1;32m~\\anaconda3\\lib\\site-packages\\statsmodels\\tsa\\arima\\model.py\u001b[0m in \u001b[0;36mfit\u001b[1;34m(self, start_params, transformed, includes_fixed, method, method_kwargs, gls, gls_kwargs, cov_type, cov_kwds, return_params, low_memory)\u001b[0m\n\u001b[0;32m    359\u001b[0m                 \u001b[0mmethod_kwargs\u001b[0m\u001b[1;33m.\u001b[0m\u001b[0msetdefault\u001b[0m\u001b[1;33m(\u001b[0m\u001b[1;34m'disp'\u001b[0m\u001b[1;33m,\u001b[0m \u001b[1;36m0\u001b[0m\u001b[1;33m)\u001b[0m\u001b[1;33m\u001b[0m\u001b[1;33m\u001b[0m\u001b[0m\n\u001b[0;32m    360\u001b[0m \u001b[1;33m\u001b[0m\u001b[0m\n\u001b[1;32m--> 361\u001b[1;33m                 res = super(ARIMA, self).fit(\n\u001b[0m\u001b[0;32m    362\u001b[0m                     \u001b[0mreturn_params\u001b[0m\u001b[1;33m=\u001b[0m\u001b[0mreturn_params\u001b[0m\u001b[1;33m,\u001b[0m \u001b[0mlow_memory\u001b[0m\u001b[1;33m=\u001b[0m\u001b[0mlow_memory\u001b[0m\u001b[1;33m,\u001b[0m\u001b[1;33m\u001b[0m\u001b[1;33m\u001b[0m\u001b[0m\n\u001b[0;32m    363\u001b[0m                     cov_type=cov_type, cov_kwds=cov_kwds, **method_kwargs)\n",
      "\u001b[1;32m~\\anaconda3\\lib\\site-packages\\statsmodels\\tsa\\statespace\\mlemodel.py\u001b[0m in \u001b[0;36mfit\u001b[1;34m(self, start_params, transformed, includes_fixed, cov_type, cov_kwds, method, maxiter, full_output, disp, callback, return_params, optim_score, optim_complex_step, optim_hessian, flags, low_memory, **kwargs)\u001b[0m\n\u001b[0;32m    688\u001b[0m                 \u001b[0mflags\u001b[0m\u001b[1;33m[\u001b[0m\u001b[1;34m'hessian_method'\u001b[0m\u001b[1;33m]\u001b[0m \u001b[1;33m=\u001b[0m \u001b[0moptim_hessian\u001b[0m\u001b[1;33m\u001b[0m\u001b[1;33m\u001b[0m\u001b[0m\n\u001b[0;32m    689\u001b[0m             \u001b[0mfargs\u001b[0m \u001b[1;33m=\u001b[0m \u001b[1;33m(\u001b[0m\u001b[0mflags\u001b[0m\u001b[1;33m,\u001b[0m\u001b[1;33m)\u001b[0m\u001b[1;33m\u001b[0m\u001b[1;33m\u001b[0m\u001b[0m\n\u001b[1;32m--> 690\u001b[1;33m             mlefit = super(MLEModel, self).fit(start_params, method=method,\n\u001b[0m\u001b[0;32m    691\u001b[0m                                                \u001b[0mfargs\u001b[0m\u001b[1;33m=\u001b[0m\u001b[0mfargs\u001b[0m\u001b[1;33m,\u001b[0m\u001b[1;33m\u001b[0m\u001b[1;33m\u001b[0m\u001b[0m\n\u001b[0;32m    692\u001b[0m                                                \u001b[0mmaxiter\u001b[0m\u001b[1;33m=\u001b[0m\u001b[0mmaxiter\u001b[0m\u001b[1;33m,\u001b[0m\u001b[1;33m\u001b[0m\u001b[1;33m\u001b[0m\u001b[0m\n",
      "\u001b[1;32m~\\anaconda3\\lib\\site-packages\\statsmodels\\base\\model.py\u001b[0m in \u001b[0;36mfit\u001b[1;34m(self, start_params, method, maxiter, full_output, disp, fargs, callback, retall, skip_hessian, **kwargs)\u001b[0m\n\u001b[0;32m    517\u001b[0m         \u001b[0mwarn_convergence\u001b[0m \u001b[1;33m=\u001b[0m \u001b[0mkwargs\u001b[0m\u001b[1;33m.\u001b[0m\u001b[0mpop\u001b[0m\u001b[1;33m(\u001b[0m\u001b[1;34m'warn_convergence'\u001b[0m\u001b[1;33m,\u001b[0m \u001b[1;32mTrue\u001b[0m\u001b[1;33m)\u001b[0m\u001b[1;33m\u001b[0m\u001b[1;33m\u001b[0m\u001b[0m\n\u001b[0;32m    518\u001b[0m         \u001b[0moptimizer\u001b[0m \u001b[1;33m=\u001b[0m \u001b[0mOptimizer\u001b[0m\u001b[1;33m(\u001b[0m\u001b[1;33m)\u001b[0m\u001b[1;33m\u001b[0m\u001b[1;33m\u001b[0m\u001b[0m\n\u001b[1;32m--> 519\u001b[1;33m         xopt, retvals, optim_settings = optimizer._fit(f, score, start_params,\n\u001b[0m\u001b[0;32m    520\u001b[0m                                                        \u001b[0mfargs\u001b[0m\u001b[1;33m,\u001b[0m \u001b[0mkwargs\u001b[0m\u001b[1;33m,\u001b[0m\u001b[1;33m\u001b[0m\u001b[1;33m\u001b[0m\u001b[0m\n\u001b[0;32m    521\u001b[0m                                                        \u001b[0mhessian\u001b[0m\u001b[1;33m=\u001b[0m\u001b[0mhess\u001b[0m\u001b[1;33m,\u001b[0m\u001b[1;33m\u001b[0m\u001b[1;33m\u001b[0m\u001b[0m\n",
      "\u001b[1;32m~\\anaconda3\\lib\\site-packages\\statsmodels\\base\\optimizer.py\u001b[0m in \u001b[0;36m_fit\u001b[1;34m(self, objective, gradient, start_params, fargs, kwargs, hessian, method, maxiter, full_output, disp, callback, retall)\u001b[0m\n\u001b[0;32m    222\u001b[0m \u001b[1;33m\u001b[0m\u001b[0m\n\u001b[0;32m    223\u001b[0m         \u001b[0mfunc\u001b[0m \u001b[1;33m=\u001b[0m \u001b[0mfit_funcs\u001b[0m\u001b[1;33m[\u001b[0m\u001b[0mmethod\u001b[0m\u001b[1;33m]\u001b[0m\u001b[1;33m\u001b[0m\u001b[1;33m\u001b[0m\u001b[0m\n\u001b[1;32m--> 224\u001b[1;33m         xopt, retvals = func(objective, gradient, start_params, fargs, kwargs,\n\u001b[0m\u001b[0;32m    225\u001b[0m                             \u001b[0mdisp\u001b[0m\u001b[1;33m=\u001b[0m\u001b[0mdisp\u001b[0m\u001b[1;33m,\u001b[0m \u001b[0mmaxiter\u001b[0m\u001b[1;33m=\u001b[0m\u001b[0mmaxiter\u001b[0m\u001b[1;33m,\u001b[0m \u001b[0mcallback\u001b[0m\u001b[1;33m=\u001b[0m\u001b[0mcallback\u001b[0m\u001b[1;33m,\u001b[0m\u001b[1;33m\u001b[0m\u001b[1;33m\u001b[0m\u001b[0m\n\u001b[0;32m    226\u001b[0m                             \u001b[0mretall\u001b[0m\u001b[1;33m=\u001b[0m\u001b[0mretall\u001b[0m\u001b[1;33m,\u001b[0m \u001b[0mfull_output\u001b[0m\u001b[1;33m=\u001b[0m\u001b[0mfull_output\u001b[0m\u001b[1;33m,\u001b[0m\u001b[1;33m\u001b[0m\u001b[1;33m\u001b[0m\u001b[0m\n",
      "\u001b[1;32m~\\anaconda3\\lib\\site-packages\\statsmodels\\base\\optimizer.py\u001b[0m in \u001b[0;36m_fit_lbfgs\u001b[1;34m(f, score, start_params, fargs, kwargs, disp, maxiter, callback, retall, full_output, hess)\u001b[0m\n\u001b[0;32m    627\u001b[0m         \u001b[0mfunc\u001b[0m \u001b[1;33m=\u001b[0m \u001b[0mf\u001b[0m\u001b[1;33m\u001b[0m\u001b[1;33m\u001b[0m\u001b[0m\n\u001b[0;32m    628\u001b[0m \u001b[1;33m\u001b[0m\u001b[0m\n\u001b[1;32m--> 629\u001b[1;33m     retvals = optimize.fmin_l_bfgs_b(func, start_params, maxiter=maxiter,\n\u001b[0m\u001b[0;32m    630\u001b[0m                                      \u001b[0mcallback\u001b[0m\u001b[1;33m=\u001b[0m\u001b[0mcallback\u001b[0m\u001b[1;33m,\u001b[0m \u001b[0margs\u001b[0m\u001b[1;33m=\u001b[0m\u001b[0mfargs\u001b[0m\u001b[1;33m,\u001b[0m\u001b[1;33m\u001b[0m\u001b[1;33m\u001b[0m\u001b[0m\n\u001b[0;32m    631\u001b[0m                                      \u001b[0mbounds\u001b[0m\u001b[1;33m=\u001b[0m\u001b[0mbounds\u001b[0m\u001b[1;33m,\u001b[0m \u001b[0mdisp\u001b[0m\u001b[1;33m=\u001b[0m\u001b[0mdisp\u001b[0m\u001b[1;33m,\u001b[0m\u001b[1;33m\u001b[0m\u001b[1;33m\u001b[0m\u001b[0m\n",
      "\u001b[1;32m~\\anaconda3\\lib\\site-packages\\scipy\\optimize\\lbfgsb.py\u001b[0m in \u001b[0;36mfmin_l_bfgs_b\u001b[1;34m(func, x0, fprime, args, approx_grad, bounds, m, factr, pgtol, epsilon, iprint, maxfun, maxiter, disp, callback, maxls)\u001b[0m\n\u001b[0;32m    195\u001b[0m             'maxls': maxls}\n\u001b[0;32m    196\u001b[0m \u001b[1;33m\u001b[0m\u001b[0m\n\u001b[1;32m--> 197\u001b[1;33m     res = _minimize_lbfgsb(fun, x0, args=args, jac=jac, bounds=bounds,\n\u001b[0m\u001b[0;32m    198\u001b[0m                            **opts)\n\u001b[0;32m    199\u001b[0m     d = {'grad': res['jac'],\n",
      "\u001b[1;32m~\\anaconda3\\lib\\site-packages\\scipy\\optimize\\lbfgsb.py\u001b[0m in \u001b[0;36m_minimize_lbfgsb\u001b[1;34m(fun, x0, args, jac, bounds, disp, maxcor, ftol, gtol, eps, maxfun, maxiter, iprint, callback, maxls, finite_diff_rel_step, **unknown_options)\u001b[0m\n\u001b[0;32m    358\u001b[0m             \u001b[1;31m# until the completion of the current minimization iteration.\u001b[0m\u001b[1;33m\u001b[0m\u001b[1;33m\u001b[0m\u001b[1;33m\u001b[0m\u001b[0m\n\u001b[0;32m    359\u001b[0m             \u001b[1;31m# Overwrite f and g:\u001b[0m\u001b[1;33m\u001b[0m\u001b[1;33m\u001b[0m\u001b[1;33m\u001b[0m\u001b[0m\n\u001b[1;32m--> 360\u001b[1;33m             \u001b[0mf\u001b[0m\u001b[1;33m,\u001b[0m \u001b[0mg\u001b[0m \u001b[1;33m=\u001b[0m \u001b[0mfunc_and_grad\u001b[0m\u001b[1;33m(\u001b[0m\u001b[0mx\u001b[0m\u001b[1;33m)\u001b[0m\u001b[1;33m\u001b[0m\u001b[1;33m\u001b[0m\u001b[0m\n\u001b[0m\u001b[0;32m    361\u001b[0m         \u001b[1;32melif\u001b[0m \u001b[0mtask_str\u001b[0m\u001b[1;33m.\u001b[0m\u001b[0mstartswith\u001b[0m\u001b[1;33m(\u001b[0m\u001b[1;34mb'NEW_X'\u001b[0m\u001b[1;33m)\u001b[0m\u001b[1;33m:\u001b[0m\u001b[1;33m\u001b[0m\u001b[1;33m\u001b[0m\u001b[0m\n\u001b[0;32m    362\u001b[0m             \u001b[1;31m# new iteration\u001b[0m\u001b[1;33m\u001b[0m\u001b[1;33m\u001b[0m\u001b[1;33m\u001b[0m\u001b[0m\n",
      "\u001b[1;32m~\\anaconda3\\lib\\site-packages\\scipy\\optimize\\_differentiable_functions.py\u001b[0m in \u001b[0;36mfun_and_grad\u001b[1;34m(self, x)\u001b[0m\n\u001b[0;32m    266\u001b[0m             \u001b[0mself\u001b[0m\u001b[1;33m.\u001b[0m\u001b[0m_update_x_impl\u001b[0m\u001b[1;33m(\u001b[0m\u001b[0mx\u001b[0m\u001b[1;33m)\u001b[0m\u001b[1;33m\u001b[0m\u001b[1;33m\u001b[0m\u001b[0m\n\u001b[0;32m    267\u001b[0m         \u001b[0mself\u001b[0m\u001b[1;33m.\u001b[0m\u001b[0m_update_fun\u001b[0m\u001b[1;33m(\u001b[0m\u001b[1;33m)\u001b[0m\u001b[1;33m\u001b[0m\u001b[1;33m\u001b[0m\u001b[0m\n\u001b[1;32m--> 268\u001b[1;33m         \u001b[0mself\u001b[0m\u001b[1;33m.\u001b[0m\u001b[0m_update_grad\u001b[0m\u001b[1;33m(\u001b[0m\u001b[1;33m)\u001b[0m\u001b[1;33m\u001b[0m\u001b[1;33m\u001b[0m\u001b[0m\n\u001b[0m\u001b[0;32m    269\u001b[0m         \u001b[1;32mreturn\u001b[0m \u001b[0mself\u001b[0m\u001b[1;33m.\u001b[0m\u001b[0mf\u001b[0m\u001b[1;33m,\u001b[0m \u001b[0mself\u001b[0m\u001b[1;33m.\u001b[0m\u001b[0mg\u001b[0m\u001b[1;33m\u001b[0m\u001b[1;33m\u001b[0m\u001b[0m\n\u001b[0;32m    270\u001b[0m \u001b[1;33m\u001b[0m\u001b[0m\n",
      "\u001b[1;32m~\\anaconda3\\lib\\site-packages\\scipy\\optimize\\_differentiable_functions.py\u001b[0m in \u001b[0;36m_update_grad\u001b[1;34m(self)\u001b[0m\n\u001b[0;32m    236\u001b[0m     \u001b[1;32mdef\u001b[0m \u001b[0m_update_grad\u001b[0m\u001b[1;33m(\u001b[0m\u001b[0mself\u001b[0m\u001b[1;33m)\u001b[0m\u001b[1;33m:\u001b[0m\u001b[1;33m\u001b[0m\u001b[1;33m\u001b[0m\u001b[0m\n\u001b[0;32m    237\u001b[0m         \u001b[1;32mif\u001b[0m \u001b[1;32mnot\u001b[0m \u001b[0mself\u001b[0m\u001b[1;33m.\u001b[0m\u001b[0mg_updated\u001b[0m\u001b[1;33m:\u001b[0m\u001b[1;33m\u001b[0m\u001b[1;33m\u001b[0m\u001b[0m\n\u001b[1;32m--> 238\u001b[1;33m             \u001b[0mself\u001b[0m\u001b[1;33m.\u001b[0m\u001b[0m_update_grad_impl\u001b[0m\u001b[1;33m(\u001b[0m\u001b[1;33m)\u001b[0m\u001b[1;33m\u001b[0m\u001b[1;33m\u001b[0m\u001b[0m\n\u001b[0m\u001b[0;32m    239\u001b[0m             \u001b[0mself\u001b[0m\u001b[1;33m.\u001b[0m\u001b[0mg_updated\u001b[0m \u001b[1;33m=\u001b[0m \u001b[1;32mTrue\u001b[0m\u001b[1;33m\u001b[0m\u001b[1;33m\u001b[0m\u001b[0m\n\u001b[0;32m    240\u001b[0m \u001b[1;33m\u001b[0m\u001b[0m\n",
      "\u001b[1;32m~\\anaconda3\\lib\\site-packages\\scipy\\optimize\\_differentiable_functions.py\u001b[0m in \u001b[0;36mupdate_grad\u001b[1;34m()\u001b[0m\n\u001b[0;32m    153\u001b[0m                 \u001b[0mself\u001b[0m\u001b[1;33m.\u001b[0m\u001b[0m_update_fun\u001b[0m\u001b[1;33m(\u001b[0m\u001b[1;33m)\u001b[0m\u001b[1;33m\u001b[0m\u001b[1;33m\u001b[0m\u001b[0m\n\u001b[0;32m    154\u001b[0m                 \u001b[0mself\u001b[0m\u001b[1;33m.\u001b[0m\u001b[0mngev\u001b[0m \u001b[1;33m+=\u001b[0m \u001b[1;36m1\u001b[0m\u001b[1;33m\u001b[0m\u001b[1;33m\u001b[0m\u001b[0m\n\u001b[1;32m--> 155\u001b[1;33m                 self.g = approx_derivative(fun_wrapped, self.x, f0=self.f,\n\u001b[0m\u001b[0;32m    156\u001b[0m                                            **finite_diff_options)\n\u001b[0;32m    157\u001b[0m \u001b[1;33m\u001b[0m\u001b[0m\n",
      "\u001b[1;32m~\\anaconda3\\lib\\site-packages\\scipy\\optimize\\_numdiff.py\u001b[0m in \u001b[0;36mapprox_derivative\u001b[1;34m(fun, x0, method, rel_step, abs_step, f0, bounds, sparsity, as_linear_operator, args, kwargs)\u001b[0m\n\u001b[0;32m    484\u001b[0m \u001b[1;33m\u001b[0m\u001b[0m\n\u001b[0;32m    485\u001b[0m         \u001b[1;32mif\u001b[0m \u001b[0msparsity\u001b[0m \u001b[1;32mis\u001b[0m \u001b[1;32mNone\u001b[0m\u001b[1;33m:\u001b[0m\u001b[1;33m\u001b[0m\u001b[1;33m\u001b[0m\u001b[0m\n\u001b[1;32m--> 486\u001b[1;33m             return _dense_difference(fun_wrapped, x0, f0, h,\n\u001b[0m\u001b[0;32m    487\u001b[0m                                      use_one_sided, method)\n\u001b[0;32m    488\u001b[0m         \u001b[1;32melse\u001b[0m\u001b[1;33m:\u001b[0m\u001b[1;33m\u001b[0m\u001b[1;33m\u001b[0m\u001b[0m\n",
      "\u001b[1;32m~\\anaconda3\\lib\\site-packages\\scipy\\optimize\\_numdiff.py\u001b[0m in \u001b[0;36m_dense_difference\u001b[1;34m(fun, x0, f0, h, use_one_sided, method)\u001b[0m\n\u001b[0;32m    555\u001b[0m             \u001b[0mx\u001b[0m \u001b[1;33m=\u001b[0m \u001b[0mx0\u001b[0m \u001b[1;33m+\u001b[0m \u001b[0mh_vecs\u001b[0m\u001b[1;33m[\u001b[0m\u001b[0mi\u001b[0m\u001b[1;33m]\u001b[0m\u001b[1;33m\u001b[0m\u001b[1;33m\u001b[0m\u001b[0m\n\u001b[0;32m    556\u001b[0m             \u001b[0mdx\u001b[0m \u001b[1;33m=\u001b[0m \u001b[0mx\u001b[0m\u001b[1;33m[\u001b[0m\u001b[0mi\u001b[0m\u001b[1;33m]\u001b[0m \u001b[1;33m-\u001b[0m \u001b[0mx0\u001b[0m\u001b[1;33m[\u001b[0m\u001b[0mi\u001b[0m\u001b[1;33m]\u001b[0m  \u001b[1;31m# Recompute dx as exactly representable number.\u001b[0m\u001b[1;33m\u001b[0m\u001b[1;33m\u001b[0m\u001b[0m\n\u001b[1;32m--> 557\u001b[1;33m             \u001b[0mdf\u001b[0m \u001b[1;33m=\u001b[0m \u001b[0mfun\u001b[0m\u001b[1;33m(\u001b[0m\u001b[0mx\u001b[0m\u001b[1;33m)\u001b[0m \u001b[1;33m-\u001b[0m \u001b[0mf0\u001b[0m\u001b[1;33m\u001b[0m\u001b[1;33m\u001b[0m\u001b[0m\n\u001b[0m\u001b[0;32m    558\u001b[0m         \u001b[1;32melif\u001b[0m \u001b[0mmethod\u001b[0m \u001b[1;33m==\u001b[0m \u001b[1;34m'3-point'\u001b[0m \u001b[1;32mand\u001b[0m \u001b[0muse_one_sided\u001b[0m\u001b[1;33m[\u001b[0m\u001b[0mi\u001b[0m\u001b[1;33m]\u001b[0m\u001b[1;33m:\u001b[0m\u001b[1;33m\u001b[0m\u001b[1;33m\u001b[0m\u001b[0m\n\u001b[0;32m    559\u001b[0m             \u001b[0mx1\u001b[0m \u001b[1;33m=\u001b[0m \u001b[0mx0\u001b[0m \u001b[1;33m+\u001b[0m \u001b[0mh_vecs\u001b[0m\u001b[1;33m[\u001b[0m\u001b[0mi\u001b[0m\u001b[1;33m]\u001b[0m\u001b[1;33m\u001b[0m\u001b[1;33m\u001b[0m\u001b[0m\n",
      "\u001b[1;32m~\\anaconda3\\lib\\site-packages\\scipy\\optimize\\_numdiff.py\u001b[0m in \u001b[0;36mfun_wrapped\u001b[1;34m(x)\u001b[0m\n\u001b[0;32m    435\u001b[0m \u001b[1;33m\u001b[0m\u001b[0m\n\u001b[0;32m    436\u001b[0m     \u001b[1;32mdef\u001b[0m \u001b[0mfun_wrapped\u001b[0m\u001b[1;33m(\u001b[0m\u001b[0mx\u001b[0m\u001b[1;33m)\u001b[0m\u001b[1;33m:\u001b[0m\u001b[1;33m\u001b[0m\u001b[1;33m\u001b[0m\u001b[0m\n\u001b[1;32m--> 437\u001b[1;33m         \u001b[0mf\u001b[0m \u001b[1;33m=\u001b[0m \u001b[0mnp\u001b[0m\u001b[1;33m.\u001b[0m\u001b[0matleast_1d\u001b[0m\u001b[1;33m(\u001b[0m\u001b[0mfun\u001b[0m\u001b[1;33m(\u001b[0m\u001b[0mx\u001b[0m\u001b[1;33m,\u001b[0m \u001b[1;33m*\u001b[0m\u001b[0margs\u001b[0m\u001b[1;33m,\u001b[0m \u001b[1;33m**\u001b[0m\u001b[0mkwargs\u001b[0m\u001b[1;33m)\u001b[0m\u001b[1;33m)\u001b[0m\u001b[1;33m\u001b[0m\u001b[1;33m\u001b[0m\u001b[0m\n\u001b[0m\u001b[0;32m    438\u001b[0m         \u001b[1;32mif\u001b[0m \u001b[0mf\u001b[0m\u001b[1;33m.\u001b[0m\u001b[0mndim\u001b[0m \u001b[1;33m>\u001b[0m \u001b[1;36m1\u001b[0m\u001b[1;33m:\u001b[0m\u001b[1;33m\u001b[0m\u001b[1;33m\u001b[0m\u001b[0m\n\u001b[0;32m    439\u001b[0m             raise RuntimeError(\"`fun` return value has \"\n",
      "\u001b[1;32m~\\anaconda3\\lib\\site-packages\\scipy\\optimize\\_differentiable_functions.py\u001b[0m in \u001b[0;36mfun_wrapped\u001b[1;34m(x)\u001b[0m\n\u001b[0;32m    132\u001b[0m             \u001b[1;31m# Overwriting results in undefined behaviour because\u001b[0m\u001b[1;33m\u001b[0m\u001b[1;33m\u001b[0m\u001b[1;33m\u001b[0m\u001b[0m\n\u001b[0;32m    133\u001b[0m             \u001b[1;31m# fun(self.x) will change self.x, with the two no longer linked.\u001b[0m\u001b[1;33m\u001b[0m\u001b[1;33m\u001b[0m\u001b[1;33m\u001b[0m\u001b[0m\n\u001b[1;32m--> 134\u001b[1;33m             \u001b[1;32mreturn\u001b[0m \u001b[0mfun\u001b[0m\u001b[1;33m(\u001b[0m\u001b[0mnp\u001b[0m\u001b[1;33m.\u001b[0m\u001b[0mcopy\u001b[0m\u001b[1;33m(\u001b[0m\u001b[0mx\u001b[0m\u001b[1;33m)\u001b[0m\u001b[1;33m,\u001b[0m \u001b[1;33m*\u001b[0m\u001b[0margs\u001b[0m\u001b[1;33m)\u001b[0m\u001b[1;33m\u001b[0m\u001b[1;33m\u001b[0m\u001b[0m\n\u001b[0m\u001b[0;32m    135\u001b[0m \u001b[1;33m\u001b[0m\u001b[0m\n\u001b[0;32m    136\u001b[0m         \u001b[1;32mdef\u001b[0m \u001b[0mupdate_fun\u001b[0m\u001b[1;33m(\u001b[0m\u001b[1;33m)\u001b[0m\u001b[1;33m:\u001b[0m\u001b[1;33m\u001b[0m\u001b[1;33m\u001b[0m\u001b[0m\n",
      "\u001b[1;32m~\\anaconda3\\lib\\site-packages\\statsmodels\\base\\model.py\u001b[0m in \u001b[0;36mf\u001b[1;34m(params, *args)\u001b[0m\n\u001b[0;32m    499\u001b[0m \u001b[1;33m\u001b[0m\u001b[0m\n\u001b[0;32m    500\u001b[0m         \u001b[1;32mdef\u001b[0m \u001b[0mf\u001b[0m\u001b[1;33m(\u001b[0m\u001b[0mparams\u001b[0m\u001b[1;33m,\u001b[0m \u001b[1;33m*\u001b[0m\u001b[0margs\u001b[0m\u001b[1;33m)\u001b[0m\u001b[1;33m:\u001b[0m\u001b[1;33m\u001b[0m\u001b[1;33m\u001b[0m\u001b[0m\n\u001b[1;32m--> 501\u001b[1;33m             \u001b[1;32mreturn\u001b[0m \u001b[1;33m-\u001b[0m\u001b[0mself\u001b[0m\u001b[1;33m.\u001b[0m\u001b[0mloglike\u001b[0m\u001b[1;33m(\u001b[0m\u001b[0mparams\u001b[0m\u001b[1;33m,\u001b[0m \u001b[1;33m*\u001b[0m\u001b[0margs\u001b[0m\u001b[1;33m)\u001b[0m \u001b[1;33m/\u001b[0m \u001b[0mnobs\u001b[0m\u001b[1;33m\u001b[0m\u001b[1;33m\u001b[0m\u001b[0m\n\u001b[0m\u001b[0;32m    502\u001b[0m \u001b[1;33m\u001b[0m\u001b[0m\n\u001b[0;32m    503\u001b[0m         \u001b[1;32mif\u001b[0m \u001b[0mmethod\u001b[0m \u001b[1;33m==\u001b[0m \u001b[1;34m'newton'\u001b[0m\u001b[1;33m:\u001b[0m\u001b[1;33m\u001b[0m\u001b[1;33m\u001b[0m\u001b[0m\n",
      "\u001b[1;32m~\\anaconda3\\lib\\site-packages\\statsmodels\\tsa\\statespace\\mlemodel.py\u001b[0m in \u001b[0;36mloglike\u001b[1;34m(self, params, *args, **kwargs)\u001b[0m\n\u001b[0;32m    923\u001b[0m             \u001b[0mkwargs\u001b[0m\u001b[1;33m[\u001b[0m\u001b[1;34m'inversion_method'\u001b[0m\u001b[1;33m]\u001b[0m \u001b[1;33m=\u001b[0m \u001b[0mINVERT_UNIVARIATE\u001b[0m \u001b[1;33m|\u001b[0m \u001b[0mSOLVE_LU\u001b[0m\u001b[1;33m\u001b[0m\u001b[1;33m\u001b[0m\u001b[0m\n\u001b[0;32m    924\u001b[0m \u001b[1;33m\u001b[0m\u001b[0m\n\u001b[1;32m--> 925\u001b[1;33m         \u001b[0mloglike\u001b[0m \u001b[1;33m=\u001b[0m \u001b[0mself\u001b[0m\u001b[1;33m.\u001b[0m\u001b[0mssm\u001b[0m\u001b[1;33m.\u001b[0m\u001b[0mloglike\u001b[0m\u001b[1;33m(\u001b[0m\u001b[0mcomplex_step\u001b[0m\u001b[1;33m=\u001b[0m\u001b[0mcomplex_step\u001b[0m\u001b[1;33m,\u001b[0m \u001b[1;33m**\u001b[0m\u001b[0mkwargs\u001b[0m\u001b[1;33m)\u001b[0m\u001b[1;33m\u001b[0m\u001b[1;33m\u001b[0m\u001b[0m\n\u001b[0m\u001b[0;32m    926\u001b[0m \u001b[1;33m\u001b[0m\u001b[0m\n\u001b[0;32m    927\u001b[0m         \u001b[1;31m# Koopman, Shephard, and Doornik recommend maximizing the average\u001b[0m\u001b[1;33m\u001b[0m\u001b[1;33m\u001b[0m\u001b[1;33m\u001b[0m\u001b[0m\n",
      "\u001b[1;32m~\\anaconda3\\lib\\site-packages\\statsmodels\\tsa\\statespace\\kalman_filter.py\u001b[0m in \u001b[0;36mloglike\u001b[1;34m(self, **kwargs)\u001b[0m\n\u001b[0;32m    981\u001b[0m         kwargs.setdefault('conserve_memory',\n\u001b[0;32m    982\u001b[0m                           MEMORY_CONSERVE ^ MEMORY_NO_LIKELIHOOD)\n\u001b[1;32m--> 983\u001b[1;33m         \u001b[0mkfilter\u001b[0m \u001b[1;33m=\u001b[0m \u001b[0mself\u001b[0m\u001b[1;33m.\u001b[0m\u001b[0m_filter\u001b[0m\u001b[1;33m(\u001b[0m\u001b[1;33m**\u001b[0m\u001b[0mkwargs\u001b[0m\u001b[1;33m)\u001b[0m\u001b[1;33m\u001b[0m\u001b[1;33m\u001b[0m\u001b[0m\n\u001b[0m\u001b[0;32m    984\u001b[0m         loglikelihood_burn = kwargs.get('loglikelihood_burn',\n\u001b[0;32m    985\u001b[0m                                         self.loglikelihood_burn)\n",
      "\u001b[1;32m~\\anaconda3\\lib\\site-packages\\statsmodels\\tsa\\statespace\\kalman_filter.py\u001b[0m in \u001b[0;36m_filter\u001b[1;34m(self, filter_method, inversion_method, stability_method, conserve_memory, filter_timing, tolerance, loglikelihood_burn, complex_step)\u001b[0m\n\u001b[0;32m    893\u001b[0m         \u001b[1;31m# Initialize the filter\u001b[0m\u001b[1;33m\u001b[0m\u001b[1;33m\u001b[0m\u001b[1;33m\u001b[0m\u001b[0m\n\u001b[0;32m    894\u001b[0m         prefix, dtype, create_filter, create_statespace = (\n\u001b[1;32m--> 895\u001b[1;33m             self._initialize_filter(\n\u001b[0m\u001b[0;32m    896\u001b[0m                 \u001b[0mfilter_method\u001b[0m\u001b[1;33m,\u001b[0m \u001b[0minversion_method\u001b[0m\u001b[1;33m,\u001b[0m \u001b[0mstability_method\u001b[0m\u001b[1;33m,\u001b[0m\u001b[1;33m\u001b[0m\u001b[1;33m\u001b[0m\u001b[0m\n\u001b[0;32m    897\u001b[0m                 \u001b[0mconserve_memory\u001b[0m\u001b[1;33m,\u001b[0m \u001b[0mfilter_timing\u001b[0m\u001b[1;33m,\u001b[0m \u001b[0mtolerance\u001b[0m\u001b[1;33m,\u001b[0m \u001b[0mloglikelihood_burn\u001b[0m\u001b[1;33m\u001b[0m\u001b[1;33m\u001b[0m\u001b[0m\n",
      "\u001b[1;32m~\\anaconda3\\lib\\site-packages\\statsmodels\\tsa\\statespace\\kalman_filter.py\u001b[0m in \u001b[0;36m_initialize_filter\u001b[1;34m(self, filter_method, inversion_method, stability_method, conserve_memory, tolerance, filter_timing, loglikelihood_burn)\u001b[0m\n\u001b[0;32m    460\u001b[0m \u001b[1;33m\u001b[0m\u001b[0m\n\u001b[0;32m    461\u001b[0m         \u001b[1;31m# Initialize the representation matrices\u001b[0m\u001b[1;33m\u001b[0m\u001b[1;33m\u001b[0m\u001b[1;33m\u001b[0m\u001b[0m\n\u001b[1;32m--> 462\u001b[1;33m         \u001b[0mprefix\u001b[0m\u001b[1;33m,\u001b[0m \u001b[0mdtype\u001b[0m\u001b[1;33m,\u001b[0m \u001b[0mcreate_statespace\u001b[0m \u001b[1;33m=\u001b[0m \u001b[0mself\u001b[0m\u001b[1;33m.\u001b[0m\u001b[0m_initialize_representation\u001b[0m\u001b[1;33m(\u001b[0m\u001b[1;33m)\u001b[0m\u001b[1;33m\u001b[0m\u001b[1;33m\u001b[0m\u001b[0m\n\u001b[0m\u001b[0;32m    463\u001b[0m \u001b[1;33m\u001b[0m\u001b[0m\n\u001b[0;32m    464\u001b[0m         \u001b[1;31m# Determine if we need to (re-)create the filter\u001b[0m\u001b[1;33m\u001b[0m\u001b[1;33m\u001b[0m\u001b[1;33m\u001b[0m\u001b[0m\n",
      "\u001b[1;32m~\\anaconda3\\lib\\site-packages\\statsmodels\\tsa\\statespace\\representation.py\u001b[0m in \u001b[0;36m_initialize_representation\u001b[1;34m(self, prefix)\u001b[0m\n\u001b[0;32m    928\u001b[0m                     \u001b[1;32mpass\u001b[0m\u001b[1;33m\u001b[0m\u001b[1;33m\u001b[0m\u001b[0m\n\u001b[0;32m    929\u001b[0m                 \u001b[1;32melse\u001b[0m\u001b[1;33m:\u001b[0m\u001b[1;33m\u001b[0m\u001b[1;33m\u001b[0m\u001b[0m\n\u001b[1;32m--> 930\u001b[1;33m                     \u001b[0mnew\u001b[0m \u001b[1;33m=\u001b[0m \u001b[0mgetattr\u001b[0m\u001b[1;33m(\u001b[0m\u001b[0mself\u001b[0m\u001b[1;33m,\u001b[0m \u001b[1;34m'_'\u001b[0m \u001b[1;33m+\u001b[0m \u001b[0mmatrix\u001b[0m\u001b[1;33m)\u001b[0m\u001b[1;33m.\u001b[0m\u001b[0mastype\u001b[0m\u001b[1;33m(\u001b[0m\u001b[0mdtype\u001b[0m\u001b[1;33m)\u001b[0m\u001b[1;33m\u001b[0m\u001b[1;33m\u001b[0m\u001b[0m\n\u001b[0m\u001b[0;32m    931\u001b[0m                     \u001b[1;32mif\u001b[0m \u001b[0mexisting\u001b[0m\u001b[1;33m.\u001b[0m\u001b[0mshape\u001b[0m \u001b[1;33m==\u001b[0m \u001b[0mnew\u001b[0m\u001b[1;33m.\u001b[0m\u001b[0mshape\u001b[0m\u001b[1;33m:\u001b[0m\u001b[1;33m\u001b[0m\u001b[1;33m\u001b[0m\u001b[0m\n\u001b[0;32m    932\u001b[0m                         \u001b[0mexisting\u001b[0m\u001b[1;33m[\u001b[0m\u001b[1;33m:\u001b[0m\u001b[1;33m]\u001b[0m \u001b[1;33m=\u001b[0m \u001b[0mnew\u001b[0m\u001b[1;33m[\u001b[0m\u001b[1;33m:\u001b[0m\u001b[1;33m]\u001b[0m\u001b[1;33m\u001b[0m\u001b[1;33m\u001b[0m\u001b[0m\n",
      "\u001b[1;31mKeyboardInterrupt\u001b[0m: "
     ]
    }
   ],
   "source": [
    "cv_arima(ts_train, 12,1,12, mean_absolute_error)"
   ]
  },
  {
   "cell_type": "markdown",
   "id": "0ad12e27-527f-40e6-a628-e829197e2c2d",
   "metadata": {},
   "source": [
    "#### Optimal ARIMA\n",
    "\n",
    "params = 3,0,3"
   ]
  },
  {
   "cell_type": "code",
   "execution_count": 141,
   "id": "71a8f8c8-77a1-4b40-88ff-f82a688ee31f",
   "metadata": {
    "execution": {
     "iopub.execute_input": "2021-11-24T03:56:47.113063Z",
     "iopub.status.busy": "2021-11-24T03:56:47.113063Z",
     "iopub.status.idle": "2021-11-24T03:56:47.129986Z",
     "shell.execute_reply": "2021-11-24T03:56:47.129022Z",
     "shell.execute_reply.started": "2021-11-24T03:56:47.113063Z"
    },
    "tags": []
   },
   "outputs": [],
   "source": [
    "def test_optimal_arima(ts_train, ts_holdout, p,d,q, metric, horizon, root=False):\n",
    "    model = ARIMA(ts_train, order=(p,d,q)).fit()\n",
    "    y_pred = model.forecast(horizon)\n",
    "    # y_pred = ts_train[-m:].to_numpy() + y_pred.to_numpy()\n",
    "\n",
    "    df_f = pd.DataFrame()\n",
    "    df_f['Actual'] = ts_holdout\n",
    "    df_f['Forecast'] = y_pred\n",
    "    if horizon == h:\n",
    "        if root:\n",
    "            output = np.sqrt(metric( df_f.iloc[:h]['Actual'],  df_f.iloc[:h]['Forecast']))\n",
    "        if not root:\n",
    "            output = metric( df_f.iloc[:h]['Actual'],  df_f.iloc[:h]['Forecast'])\n",
    "        fig, ax = plt.subplots()\n",
    "        ts_holdout.plot(ax = ax)\n",
    "        df_f.iloc[:h]['Forecast'].plot(ax=ax)\n",
    "        plt.show()\n",
    "        return output\n",
    "    \n",
    "    elif horizon == h+h:\n",
    "        if root:\n",
    "            output = np.sqrt(metric( df_f.iloc[h:]['Actual'],  df_f.iloc[h:]['Forecast']))\n",
    "        if not root:\n",
    "            output = metric( df_f.iloc[h:]['Actual'],  df_f.iloc[h:]['Forecast'])\n",
    "        fig, ax = plt.subplots()\n",
    "        ts_holdout.plot(ax = ax)\n",
    "        df_f.iloc[h:]['Forecast'].plot(ax=ax)\n",
    "        plt.show()\n",
    "        return output"
   ]
  },
  {
   "cell_type": "code",
   "execution_count": 142,
   "id": "a59ec232-81e4-41ec-a0f6-a444f77b2ed8",
   "metadata": {
    "execution": {
     "iopub.execute_input": "2021-11-24T03:56:48.043644Z",
     "iopub.status.busy": "2021-11-24T03:56:48.043644Z",
     "iopub.status.idle": "2021-11-24T03:56:51.896867Z",
     "shell.execute_reply": "2021-11-24T03:56:51.896867Z",
     "shell.execute_reply.started": "2021-11-24T03:56:48.043644Z"
    },
    "tags": []
   },
   "outputs": [
    {
     "data": {
      "image/png": "[encoded data removed]",
      "text/plain": [
       "<Figure size 1440x504 with 1 Axes>"
      ]
     },
     "metadata": {
      "needs_background": "light"
     },
     "output_type": "display_data"
    },
    {
     "data": {
      "text/plain": [
       "0.4162724044282064"
      ]
     },
     "execution_count": 142,
     "metadata": {},
     "output_type": "execute_result"
    }
   ],
   "source": [
    "test_optimal_arima(ts_train, ts_holdout, 15,0,12, mean_absolute_error, horizon=h)"
   ]
  },
  {
   "cell_type": "code",
   "execution_count": 143,
   "id": "e6abca6c-4860-4c51-a419-f3a69dca659c",
   "metadata": {
    "execution": {
     "iopub.execute_input": "2021-11-24T03:56:55.447245Z",
     "iopub.status.busy": "2021-11-24T03:56:55.446284Z",
     "iopub.status.idle": "2021-11-24T03:56:59.048498Z",
     "shell.execute_reply": "2021-11-24T03:56:59.047534Z",
     "shell.execute_reply.started": "2021-11-24T03:56:55.446284Z"
    },
    "tags": []
   },
   "outputs": [
    {
     "data": {
      "image/png": "[encoded data removed]",
      "text/plain": [
       "<Figure size 1440x504 with 1 Axes>"
      ]
     },
     "metadata": {
      "needs_background": "light"
     },
     "output_type": "display_data"
    },
    {
     "data": {
      "text/plain": [
       "0.9734528560731656"
      ]
     },
     "execution_count": 143,
     "metadata": {},
     "output_type": "execute_result"
    }
   ],
   "source": [
    "test_optimal_arima(ts_train, ts_holdout, 15,0,12, mean_absolute_error, horizon=h+h)"
   ]
  },
  {
   "cell_type": "code",
   "execution_count": null,
   "id": "f9e80435-3ed3-48b2-af9b-f74b89bbe7c8",
   "metadata": {},
   "outputs": [],
   "source": [
    "0.4162724044282064, 0.6451917578737397, 0.014281359382101066"
   ]
  },
  {
   "cell_type": "markdown",
   "id": "104f13ac-f6f2-4b5f-b80a-849123439baf",
   "metadata": {},
   "source": [
    "### RMSE"
   ]
  },
  {
   "cell_type": "code",
   "execution_count": 40,
   "id": "01321b48-f1b0-4c52-b502-d3dc0965efe2",
   "metadata": {
    "execution": {
     "iopub.execute_input": "2021-11-24T02:46:01.154044Z",
     "iopub.status.busy": "2021-11-24T02:46:01.153048Z",
     "iopub.status.idle": "2021-11-24T02:46:47.722095Z",
     "shell.execute_reply": "2021-11-24T02:46:47.722095Z",
     "shell.execute_reply.started": "2021-11-24T02:46:01.154044Z"
    },
    "scrolled": true,
    "tags": []
   },
   "outputs": [
    {
     "name": "stdout",
     "output_type": "stream",
     "text": [
      "(0, 0, 0)\n",
      "(0, 0, 1)\n",
      "(0, 0, 2)\n",
      "(0, 0, 3)\n",
      "(0, 1, 0)\n",
      "(0, 1, 1)\n",
      "(0, 1, 2)\n",
      "(0, 1, 3)\n",
      "(1, 0, 0)\n",
      "(1, 0, 1)\n",
      "(1, 0, 2)\n",
      "(1, 0, 3)\n",
      "(1, 1, 0)\n",
      "(1, 1, 1)\n",
      "(1, 1, 2)\n",
      "(1, 1, 3)\n",
      "(2, 0, 0)\n",
      "(2, 0, 1)\n",
      "(2, 0, 2)\n",
      "(2, 0, 3)\n",
      "(2, 1, 0)\n",
      "(2, 1, 1)\n",
      "(2, 1, 2)\n",
      "(2, 1, 3)\n",
      "(3, 0, 0)\n",
      "(3, 0, 1)\n",
      "(3, 0, 2)\n",
      "(3, 0, 3)\n",
      "(3, 1, 0)\n",
      "(3, 1, 1)\n",
      "(3, 1, 2)\n",
      "(3, 1, 3)\n"
     ]
    },
    {
     "data": {
      "text/html": [
       "<div>\n",
       "<style scoped>\n",
       "    .dataframe tbody tr th:only-of-type {\n",
       "        vertical-align: middle;\n",
       "    }\n",
       "\n",
       "    .dataframe tbody tr th {\n",
       "        vertical-align: top;\n",
       "    }\n",
       "\n",
       "    .dataframe thead th {\n",
       "        text-align: right;\n",
       "    }\n",
       "</style>\n",
       "<table border=\"1\" class=\"dataframe\">\n",
       "  <thead>\n",
       "    <tr style=\"text-align: right;\">\n",
       "      <th></th>\n",
       "      <th>(p,d,q)</th>\n",
       "      <th>Avg. &lt;function mean_squared_error at 0x0000018F5170F790&gt;</th>\n",
       "    </tr>\n",
       "  </thead>\n",
       "  <tbody>\n",
       "    <tr>\n",
       "      <th>27</th>\n",
       "      <td>(3, 0, 3)</td>\n",
       "      <td>0.794080</td>\n",
       "    </tr>\n",
       "    <tr>\n",
       "      <th>16</th>\n",
       "      <td>(2, 0, 0)</td>\n",
       "      <td>0.825447</td>\n",
       "    </tr>\n",
       "    <tr>\n",
       "      <th>21</th>\n",
       "      <td>(2, 1, 1)</td>\n",
       "      <td>0.825527</td>\n",
       "    </tr>\n",
       "    <tr>\n",
       "      <th>17</th>\n",
       "      <td>(2, 0, 1)</td>\n",
       "      <td>0.840977</td>\n",
       "    </tr>\n",
       "    <tr>\n",
       "      <th>1</th>\n",
       "      <td>(0, 0, 1)</td>\n",
       "      <td>0.841176</td>\n",
       "    </tr>\n",
       "    <tr>\n",
       "      <th>19</th>\n",
       "      <td>(2, 0, 3)</td>\n",
       "      <td>0.841350</td>\n",
       "    </tr>\n",
       "    <tr>\n",
       "      <th>26</th>\n",
       "      <td>(3, 0, 2)</td>\n",
       "      <td>0.843515</td>\n",
       "    </tr>\n",
       "    <tr>\n",
       "      <th>2</th>\n",
       "      <td>(0, 0, 2)</td>\n",
       "      <td>0.844679</td>\n",
       "    </tr>\n",
       "    <tr>\n",
       "      <th>7</th>\n",
       "      <td>(0, 1, 3)</td>\n",
       "      <td>0.844751</td>\n",
       "    </tr>\n",
       "    <tr>\n",
       "      <th>10</th>\n",
       "      <td>(1, 0, 2)</td>\n",
       "      <td>0.865242</td>\n",
       "    </tr>\n",
       "    <tr>\n",
       "      <th>15</th>\n",
       "      <td>(1, 1, 3)</td>\n",
       "      <td>0.866304</td>\n",
       "    </tr>\n",
       "    <tr>\n",
       "      <th>11</th>\n",
       "      <td>(1, 0, 3)</td>\n",
       "      <td>0.868459</td>\n",
       "    </tr>\n",
       "    <tr>\n",
       "      <th>25</th>\n",
       "      <td>(3, 0, 1)</td>\n",
       "      <td>0.869364</td>\n",
       "    </tr>\n",
       "    <tr>\n",
       "      <th>29</th>\n",
       "      <td>(3, 1, 1)</td>\n",
       "      <td>0.869822</td>\n",
       "    </tr>\n",
       "    <tr>\n",
       "      <th>3</th>\n",
       "      <td>(0, 0, 3)</td>\n",
       "      <td>0.870419</td>\n",
       "    </tr>\n",
       "    <tr>\n",
       "      <th>24</th>\n",
       "      <td>(3, 0, 0)</td>\n",
       "      <td>0.871199</td>\n",
       "    </tr>\n",
       "    <tr>\n",
       "      <th>9</th>\n",
       "      <td>(1, 0, 1)</td>\n",
       "      <td>0.878219</td>\n",
       "    </tr>\n",
       "    <tr>\n",
       "      <th>31</th>\n",
       "      <td>(3, 1, 3)</td>\n",
       "      <td>0.879527</td>\n",
       "    </tr>\n",
       "    <tr>\n",
       "      <th>14</th>\n",
       "      <td>(1, 1, 2)</td>\n",
       "      <td>0.879793</td>\n",
       "    </tr>\n",
       "    <tr>\n",
       "      <th>0</th>\n",
       "      <td>(0, 0, 0)</td>\n",
       "      <td>0.890833</td>\n",
       "    </tr>\n",
       "    <tr>\n",
       "      <th>18</th>\n",
       "      <td>(2, 0, 2)</td>\n",
       "      <td>0.920396</td>\n",
       "    </tr>\n",
       "    <tr>\n",
       "      <th>8</th>\n",
       "      <td>(1, 0, 0)</td>\n",
       "      <td>0.950311</td>\n",
       "    </tr>\n",
       "    <tr>\n",
       "      <th>13</th>\n",
       "      <td>(1, 1, 1)</td>\n",
       "      <td>0.953351</td>\n",
       "    </tr>\n",
       "    <tr>\n",
       "      <th>28</th>\n",
       "      <td>(3, 1, 0)</td>\n",
       "      <td>1.316618</td>\n",
       "    </tr>\n",
       "    <tr>\n",
       "      <th>23</th>\n",
       "      <td>(2, 1, 3)</td>\n",
       "      <td>1.482621</td>\n",
       "    </tr>\n",
       "    <tr>\n",
       "      <th>30</th>\n",
       "      <td>(3, 1, 2)</td>\n",
       "      <td>1.497800</td>\n",
       "    </tr>\n",
       "    <tr>\n",
       "      <th>22</th>\n",
       "      <td>(2, 1, 2)</td>\n",
       "      <td>1.502446</td>\n",
       "    </tr>\n",
       "    <tr>\n",
       "      <th>20</th>\n",
       "      <td>(2, 1, 0)</td>\n",
       "      <td>1.577477</td>\n",
       "    </tr>\n",
       "    <tr>\n",
       "      <th>4</th>\n",
       "      <td>(0, 1, 0)</td>\n",
       "      <td>1.593381</td>\n",
       "    </tr>\n",
       "    <tr>\n",
       "      <th>6</th>\n",
       "      <td>(0, 1, 2)</td>\n",
       "      <td>1.616354</td>\n",
       "    </tr>\n",
       "    <tr>\n",
       "      <th>5</th>\n",
       "      <td>(0, 1, 1)</td>\n",
       "      <td>1.638170</td>\n",
       "    </tr>\n",
       "    <tr>\n",
       "      <th>12</th>\n",
       "      <td>(1, 1, 0)</td>\n",
       "      <td>1.643766</td>\n",
       "    </tr>\n",
       "  </tbody>\n",
       "</table>\n",
       "</div>"
      ],
      "text/plain": [
       "      (p,d,q)  Avg. <function mean_squared_error at 0x0000018F5170F790>\n",
       "27  (3, 0, 3)                                           0.794080       \n",
       "16  (2, 0, 0)                                           0.825447       \n",
       "21  (2, 1, 1)                                           0.825527       \n",
       "17  (2, 0, 1)                                           0.840977       \n",
       "1   (0, 0, 1)                                           0.841176       \n",
       "19  (2, 0, 3)                                           0.841350       \n",
       "26  (3, 0, 2)                                           0.843515       \n",
       "2   (0, 0, 2)                                           0.844679       \n",
       "7   (0, 1, 3)                                           0.844751       \n",
       "10  (1, 0, 2)                                           0.865242       \n",
       "15  (1, 1, 3)                                           0.866304       \n",
       "11  (1, 0, 3)                                           0.868459       \n",
       "25  (3, 0, 1)                                           0.869364       \n",
       "29  (3, 1, 1)                                           0.869822       \n",
       "3   (0, 0, 3)                                           0.870419       \n",
       "24  (3, 0, 0)                                           0.871199       \n",
       "9   (1, 0, 1)                                           0.878219       \n",
       "31  (3, 1, 3)                                           0.879527       \n",
       "14  (1, 1, 2)                                           0.879793       \n",
       "0   (0, 0, 0)                                           0.890833       \n",
       "18  (2, 0, 2)                                           0.920396       \n",
       "8   (1, 0, 0)                                           0.950311       \n",
       "13  (1, 1, 1)                                           0.953351       \n",
       "28  (3, 1, 0)                                           1.316618       \n",
       "23  (2, 1, 3)                                           1.482621       \n",
       "30  (3, 1, 2)                                           1.497800       \n",
       "22  (2, 1, 2)                                           1.502446       \n",
       "20  (2, 1, 0)                                           1.577477       \n",
       "4   (0, 1, 0)                                           1.593381       \n",
       "6   (0, 1, 2)                                           1.616354       \n",
       "5   (0, 1, 1)                                           1.638170       \n",
       "12  (1, 1, 0)                                           1.643766       "
      ]
     },
     "execution_count": 40,
     "metadata": {},
     "output_type": "execute_result"
    }
   ],
   "source": [
    "cv_arima(ts_train, 4,2,4, mean_squared_error, root=True)"
   ]
  },
  {
   "cell_type": "markdown",
   "id": "6c924b4e-0f71-40e5-80f9-258414972975",
   "metadata": {},
   "source": [
    "#### Optimal ARIMA"
   ]
  },
  {
   "cell_type": "code",
   "execution_count": 130,
   "id": "df10165a-4088-4e8f-927a-d8a2fc2537b7",
   "metadata": {
    "execution": {
     "iopub.execute_input": "2021-11-24T03:43:08.726657Z",
     "iopub.status.busy": "2021-11-24T03:43:08.725625Z",
     "iopub.status.idle": "2021-11-24T03:43:12.292791Z",
     "shell.execute_reply": "2021-11-24T03:43:12.291792Z",
     "shell.execute_reply.started": "2021-11-24T03:43:08.726657Z"
    },
    "tags": []
   },
   "outputs": [
    {
     "data": {
      "text/plain": [
       "0.6451917578737397"
      ]
     },
     "execution_count": 130,
     "metadata": {},
     "output_type": "execute_result"
    }
   ],
   "source": [
    "test_optimal_arima(ts_train, ts_holdout, 15,0,12, mean_absolute_error, root=True)"
   ]
  },
  {
   "cell_type": "markdown",
   "id": "974cbd52-6a8c-418b-9353-1e1edf07bfb3",
   "metadata": {},
   "source": [
    "### MAPE"
   ]
  },
  {
   "cell_type": "code",
   "execution_count": 44,
   "id": "8aa68523-2f73-47ab-a3cd-75f31d2c552f",
   "metadata": {
    "execution": {
     "iopub.execute_input": "2021-11-24T02:49:02.175599Z",
     "iopub.status.busy": "2021-11-24T02:49:02.175599Z",
     "iopub.status.idle": "2021-11-24T02:49:49.701232Z",
     "shell.execute_reply": "2021-11-24T02:49:49.700235Z",
     "shell.execute_reply.started": "2021-11-24T02:49:02.175599Z"
    },
    "scrolled": true,
    "tags": []
   },
   "outputs": [
    {
     "name": "stdout",
     "output_type": "stream",
     "text": [
      "(0, 0, 0)\n",
      "(0, 0, 1)\n",
      "(0, 0, 2)\n",
      "(0, 0, 3)\n",
      "(0, 1, 0)\n",
      "(0, 1, 1)\n",
      "(0, 1, 2)\n",
      "(0, 1, 3)\n",
      "(1, 0, 0)\n",
      "(1, 0, 1)\n",
      "(1, 0, 2)\n",
      "(1, 0, 3)\n",
      "(1, 1, 0)\n",
      "(1, 1, 1)\n",
      "(1, 1, 2)\n",
      "(1, 1, 3)\n",
      "(2, 0, 0)\n",
      "(2, 0, 1)\n",
      "(2, 0, 2)\n",
      "(2, 0, 3)\n",
      "(2, 1, 0)\n",
      "(2, 1, 1)\n",
      "(2, 1, 2)\n",
      "(2, 1, 3)\n",
      "(3, 0, 0)\n",
      "(3, 0, 1)\n",
      "(3, 0, 2)\n",
      "(3, 0, 3)\n",
      "(3, 1, 0)\n",
      "(3, 1, 1)\n",
      "(3, 1, 2)\n",
      "(3, 1, 3)\n"
     ]
    },
    {
     "data": {
      "text/html": [
       "<div>\n",
       "<style scoped>\n",
       "    .dataframe tbody tr th:only-of-type {\n",
       "        vertical-align: middle;\n",
       "    }\n",
       "\n",
       "    .dataframe tbody tr th {\n",
       "        vertical-align: top;\n",
       "    }\n",
       "\n",
       "    .dataframe thead th {\n",
       "        text-align: right;\n",
       "    }\n",
       "</style>\n",
       "<table border=\"1\" class=\"dataframe\">\n",
       "  <thead>\n",
       "    <tr style=\"text-align: right;\">\n",
       "      <th></th>\n",
       "      <th>(p,d,q)</th>\n",
       "      <th>Avg. &lt;function mean_absolute_percentage_error at 0x0000018F5170F700&gt;</th>\n",
       "    </tr>\n",
       "  </thead>\n",
       "  <tbody>\n",
       "    <tr>\n",
       "      <th>27</th>\n",
       "      <td>(3, 0, 3)</td>\n",
       "      <td>0.022027</td>\n",
       "    </tr>\n",
       "    <tr>\n",
       "      <th>16</th>\n",
       "      <td>(2, 0, 0)</td>\n",
       "      <td>0.022872</td>\n",
       "    </tr>\n",
       "    <tr>\n",
       "      <th>21</th>\n",
       "      <td>(2, 1, 1)</td>\n",
       "      <td>0.022878</td>\n",
       "    </tr>\n",
       "    <tr>\n",
       "      <th>26</th>\n",
       "      <td>(3, 0, 2)</td>\n",
       "      <td>0.023711</td>\n",
       "    </tr>\n",
       "    <tr>\n",
       "      <th>7</th>\n",
       "      <td>(0, 1, 3)</td>\n",
       "      <td>0.023725</td>\n",
       "    </tr>\n",
       "    <tr>\n",
       "      <th>2</th>\n",
       "      <td>(0, 0, 2)</td>\n",
       "      <td>0.023730</td>\n",
       "    </tr>\n",
       "    <tr>\n",
       "      <th>19</th>\n",
       "      <td>(2, 0, 3)</td>\n",
       "      <td>0.023929</td>\n",
       "    </tr>\n",
       "    <tr>\n",
       "      <th>10</th>\n",
       "      <td>(1, 0, 2)</td>\n",
       "      <td>0.024276</td>\n",
       "    </tr>\n",
       "    <tr>\n",
       "      <th>15</th>\n",
       "      <td>(1, 1, 3)</td>\n",
       "      <td>0.024296</td>\n",
       "    </tr>\n",
       "    <tr>\n",
       "      <th>25</th>\n",
       "      <td>(3, 0, 1)</td>\n",
       "      <td>0.024298</td>\n",
       "    </tr>\n",
       "    <tr>\n",
       "      <th>9</th>\n",
       "      <td>(1, 0, 1)</td>\n",
       "      <td>0.024342</td>\n",
       "    </tr>\n",
       "    <tr>\n",
       "      <th>14</th>\n",
       "      <td>(1, 1, 2)</td>\n",
       "      <td>0.024365</td>\n",
       "    </tr>\n",
       "    <tr>\n",
       "      <th>1</th>\n",
       "      <td>(0, 0, 1)</td>\n",
       "      <td>0.024495</td>\n",
       "    </tr>\n",
       "    <tr>\n",
       "      <th>29</th>\n",
       "      <td>(3, 1, 1)</td>\n",
       "      <td>0.024499</td>\n",
       "    </tr>\n",
       "    <tr>\n",
       "      <th>24</th>\n",
       "      <td>(3, 0, 0)</td>\n",
       "      <td>0.024534</td>\n",
       "    </tr>\n",
       "    <tr>\n",
       "      <th>17</th>\n",
       "      <td>(2, 0, 1)</td>\n",
       "      <td>0.024728</td>\n",
       "    </tr>\n",
       "    <tr>\n",
       "      <th>11</th>\n",
       "      <td>(1, 0, 3)</td>\n",
       "      <td>0.025053</td>\n",
       "    </tr>\n",
       "    <tr>\n",
       "      <th>3</th>\n",
       "      <td>(0, 0, 3)</td>\n",
       "      <td>0.025076</td>\n",
       "    </tr>\n",
       "    <tr>\n",
       "      <th>31</th>\n",
       "      <td>(3, 1, 3)</td>\n",
       "      <td>0.025585</td>\n",
       "    </tr>\n",
       "    <tr>\n",
       "      <th>18</th>\n",
       "      <td>(2, 0, 2)</td>\n",
       "      <td>0.025820</td>\n",
       "    </tr>\n",
       "    <tr>\n",
       "      <th>0</th>\n",
       "      <td>(0, 0, 0)</td>\n",
       "      <td>0.026596</td>\n",
       "    </tr>\n",
       "    <tr>\n",
       "      <th>8</th>\n",
       "      <td>(1, 0, 0)</td>\n",
       "      <td>0.026919</td>\n",
       "    </tr>\n",
       "    <tr>\n",
       "      <th>13</th>\n",
       "      <td>(1, 1, 1)</td>\n",
       "      <td>0.026984</td>\n",
       "    </tr>\n",
       "    <tr>\n",
       "      <th>28</th>\n",
       "      <td>(3, 1, 0)</td>\n",
       "      <td>0.036848</td>\n",
       "    </tr>\n",
       "    <tr>\n",
       "      <th>23</th>\n",
       "      <td>(2, 1, 3)</td>\n",
       "      <td>0.044579</td>\n",
       "    </tr>\n",
       "    <tr>\n",
       "      <th>30</th>\n",
       "      <td>(3, 1, 2)</td>\n",
       "      <td>0.045171</td>\n",
       "    </tr>\n",
       "    <tr>\n",
       "      <th>22</th>\n",
       "      <td>(2, 1, 2)</td>\n",
       "      <td>0.045378</td>\n",
       "    </tr>\n",
       "    <tr>\n",
       "      <th>20</th>\n",
       "      <td>(2, 1, 0)</td>\n",
       "      <td>0.046894</td>\n",
       "    </tr>\n",
       "    <tr>\n",
       "      <th>4</th>\n",
       "      <td>(0, 1, 0)</td>\n",
       "      <td>0.047702</td>\n",
       "    </tr>\n",
       "    <tr>\n",
       "      <th>6</th>\n",
       "      <td>(0, 1, 2)</td>\n",
       "      <td>0.048408</td>\n",
       "    </tr>\n",
       "    <tr>\n",
       "      <th>5</th>\n",
       "      <td>(0, 1, 1)</td>\n",
       "      <td>0.048860</td>\n",
       "    </tr>\n",
       "    <tr>\n",
       "      <th>12</th>\n",
       "      <td>(1, 1, 0)</td>\n",
       "      <td>0.049073</td>\n",
       "    </tr>\n",
       "  </tbody>\n",
       "</table>\n",
       "</div>"
      ],
      "text/plain": [
       "      (p,d,q)  \\\n",
       "27  (3, 0, 3)   \n",
       "16  (2, 0, 0)   \n",
       "21  (2, 1, 1)   \n",
       "26  (3, 0, 2)   \n",
       "7   (0, 1, 3)   \n",
       "2   (0, 0, 2)   \n",
       "19  (2, 0, 3)   \n",
       "10  (1, 0, 2)   \n",
       "15  (1, 1, 3)   \n",
       "25  (3, 0, 1)   \n",
       "9   (1, 0, 1)   \n",
       "14  (1, 1, 2)   \n",
       "1   (0, 0, 1)   \n",
       "29  (3, 1, 1)   \n",
       "24  (3, 0, 0)   \n",
       "17  (2, 0, 1)   \n",
       "11  (1, 0, 3)   \n",
       "3   (0, 0, 3)   \n",
       "31  (3, 1, 3)   \n",
       "18  (2, 0, 2)   \n",
       "0   (0, 0, 0)   \n",
       "8   (1, 0, 0)   \n",
       "13  (1, 1, 1)   \n",
       "28  (3, 1, 0)   \n",
       "23  (2, 1, 3)   \n",
       "30  (3, 1, 2)   \n",
       "22  (2, 1, 2)   \n",
       "20  (2, 1, 0)   \n",
       "4   (0, 1, 0)   \n",
       "6   (0, 1, 2)   \n",
       "5   (0, 1, 1)   \n",
       "12  (1, 1, 0)   \n",
       "\n",
       "    Avg. <function mean_absolute_percentage_error at 0x0000018F5170F700>  \n",
       "27                                           0.022027                     \n",
       "16                                           0.022872                     \n",
       "21                                           0.022878                     \n",
       "26                                           0.023711                     \n",
       "7                                            0.023725                     \n",
       "2                                            0.023730                     \n",
       "19                                           0.023929                     \n",
       "10                                           0.024276                     \n",
       "15                                           0.024296                     \n",
       "25                                           0.024298                     \n",
       "9                                            0.024342                     \n",
       "14                                           0.024365                     \n",
       "1                                            0.024495                     \n",
       "29                                           0.024499                     \n",
       "24                                           0.024534                     \n",
       "17                                           0.024728                     \n",
       "11                                           0.025053                     \n",
       "3                                            0.025076                     \n",
       "31                                           0.025585                     \n",
       "18                                           0.025820                     \n",
       "0                                            0.026596                     \n",
       "8                                            0.026919                     \n",
       "13                                           0.026984                     \n",
       "28                                           0.036848                     \n",
       "23                                           0.044579                     \n",
       "30                                           0.045171                     \n",
       "22                                           0.045378                     \n",
       "20                                           0.046894                     \n",
       "4                                            0.047702                     \n",
       "6                                            0.048408                     \n",
       "5                                            0.048860                     \n",
       "12                                           0.049073                     "
      ]
     },
     "execution_count": 44,
     "metadata": {},
     "output_type": "execute_result"
    }
   ],
   "source": [
    "cv_arima(ts_train, 4,2,4, mean_absolute_percentage_error)"
   ]
  },
  {
   "cell_type": "markdown",
   "id": "7a7d637c-df68-4c89-95ba-16c322977cad",
   "metadata": {},
   "source": [
    "#### Optimal ARIMA"
   ]
  },
  {
   "cell_type": "code",
   "execution_count": 131,
   "id": "5dcd21f8-efcc-4fca-bbe9-0d9b76ffd024",
   "metadata": {
    "execution": {
     "iopub.execute_input": "2021-11-24T03:43:24.428116Z",
     "iopub.status.busy": "2021-11-24T03:43:24.428116Z",
     "iopub.status.idle": "2021-11-24T03:43:28.002333Z",
     "shell.execute_reply": "2021-11-24T03:43:28.002333Z",
     "shell.execute_reply.started": "2021-11-24T03:43:24.428116Z"
    },
    "tags": []
   },
   "outputs": [
    {
     "data": {
      "text/plain": [
       "0.014281359382101066"
      ]
     },
     "execution_count": 131,
     "metadata": {},
     "output_type": "execute_result"
    }
   ],
   "source": [
    "test_optimal_arima(ts_train, ts_holdout, 15,0,12, mean_absolute_percentage_error)"
   ]
  },
  {
   "cell_type": "markdown",
   "id": "d42eea60-8f6b-4f1d-962b-198c54d4b515",
   "metadata": {},
   "source": [
    "## Naive / Persistence\n",
    "Todays conditions is tomorrow's forecast"
   ]
  },
  {
   "cell_type": "code",
   "execution_count": 57,
   "id": "7893e186-3f63-49e3-a61b-571d4f78f163",
   "metadata": {
    "execution": {
     "iopub.execute_input": "2021-11-24T03:03:03.990401Z",
     "iopub.status.busy": "2021-11-24T03:03:03.990401Z",
     "iopub.status.idle": "2021-11-24T03:03:04.012382Z",
     "shell.execute_reply": "2021-11-24T03:03:04.012382Z",
     "shell.execute_reply.started": "2021-11-24T03:03:03.990401Z"
    },
    "tags": []
   },
   "outputs": [
    {
     "data": {
      "text/html": [
       "<div>\n",
       "<style scoped>\n",
       "    .dataframe tbody tr th:only-of-type {\n",
       "        vertical-align: middle;\n",
       "    }\n",
       "\n",
       "    .dataframe tbody tr th {\n",
       "        vertical-align: top;\n",
       "    }\n",
       "\n",
       "    .dataframe thead th {\n",
       "        text-align: right;\n",
       "    }\n",
       "</style>\n",
       "<table border=\"1\" class=\"dataframe\">\n",
       "  <thead>\n",
       "    <tr style=\"text-align: right;\">\n",
       "      <th></th>\n",
       "      <th>avg</th>\n",
       "    </tr>\n",
       "    <tr>\n",
       "      <th>date</th>\n",
       "      <th></th>\n",
       "    </tr>\n",
       "  </thead>\n",
       "  <tbody>\n",
       "    <tr>\n",
       "      <th>1990-01-01</th>\n",
       "      <td>26.96</td>\n",
       "    </tr>\n",
       "    <tr>\n",
       "      <th>1990-02-01</th>\n",
       "      <td>27.57</td>\n",
       "    </tr>\n",
       "    <tr>\n",
       "      <th>1990-03-01</th>\n",
       "      <td>28.04</td>\n",
       "    </tr>\n",
       "    <tr>\n",
       "      <th>1990-04-01</th>\n",
       "      <td>30.34</td>\n",
       "    </tr>\n",
       "    <tr>\n",
       "      <th>1990-05-01</th>\n",
       "      <td>29.82</td>\n",
       "    </tr>\n",
       "    <tr>\n",
       "      <th>...</th>\n",
       "      <td>...</td>\n",
       "    </tr>\n",
       "    <tr>\n",
       "      <th>2020-08-01</th>\n",
       "      <td>30.36</td>\n",
       "    </tr>\n",
       "    <tr>\n",
       "      <th>2020-09-01</th>\n",
       "      <td>29.34</td>\n",
       "    </tr>\n",
       "    <tr>\n",
       "      <th>2020-10-01</th>\n",
       "      <td>28.15</td>\n",
       "    </tr>\n",
       "    <tr>\n",
       "      <th>2020-11-01</th>\n",
       "      <td>28.12</td>\n",
       "    </tr>\n",
       "    <tr>\n",
       "      <th>2020-12-01</th>\n",
       "      <td>27.82</td>\n",
       "    </tr>\n",
       "  </tbody>\n",
       "</table>\n",
       "<p>372 rows × 1 columns</p>\n",
       "</div>"
      ],
      "text/plain": [
       "              avg\n",
       "date             \n",
       "1990-01-01  26.96\n",
       "1990-02-01  27.57\n",
       "1990-03-01  28.04\n",
       "1990-04-01  30.34\n",
       "1990-05-01  29.82\n",
       "...           ...\n",
       "2020-08-01  30.36\n",
       "2020-09-01  29.34\n",
       "2020-10-01  28.15\n",
       "2020-11-01  28.12\n",
       "2020-12-01  27.82\n",
       "\n",
       "[372 rows x 1 columns]"
      ]
     },
     "execution_count": 57,
     "metadata": {},
     "output_type": "execute_result"
    }
   ],
   "source": [
    "df"
   ]
  },
  {
   "cell_type": "code",
   "execution_count": 75,
   "id": "fb493166-07a4-46e2-9786-59e6f6331968",
   "metadata": {
    "execution": {
     "iopub.execute_input": "2021-11-24T03:11:39.376458Z",
     "iopub.status.busy": "2021-11-24T03:11:39.375507Z",
     "iopub.status.idle": "2021-11-24T03:11:39.400395Z",
     "shell.execute_reply": "2021-11-24T03:11:39.399399Z",
     "shell.execute_reply.started": "2021-11-24T03:11:39.376458Z"
    },
    "tags": []
   },
   "outputs": [
    {
     "data": {
      "text/html": [
       "<div>\n",
       "<style scoped>\n",
       "    .dataframe tbody tr th:only-of-type {\n",
       "        vertical-align: middle;\n",
       "    }\n",
       "\n",
       "    .dataframe tbody tr th {\n",
       "        vertical-align: top;\n",
       "    }\n",
       "\n",
       "    .dataframe thead th {\n",
       "        text-align: right;\n",
       "    }\n",
       "</style>\n",
       "<table border=\"1\" class=\"dataframe\">\n",
       "  <thead>\n",
       "    <tr style=\"text-align: right;\">\n",
       "      <th></th>\n",
       "      <th>actual</th>\n",
       "      <th>forecast</th>\n",
       "    </tr>\n",
       "    <tr>\n",
       "      <th>date</th>\n",
       "      <th></th>\n",
       "      <th></th>\n",
       "    </tr>\n",
       "  </thead>\n",
       "  <tbody>\n",
       "    <tr>\n",
       "      <th>2020-01-01</th>\n",
       "      <td>27.24</td>\n",
       "      <td>27.92</td>\n",
       "    </tr>\n",
       "    <tr>\n",
       "      <th>2020-02-01</th>\n",
       "      <td>26.80</td>\n",
       "      <td>27.24</td>\n",
       "    </tr>\n",
       "    <tr>\n",
       "      <th>2020-03-01</th>\n",
       "      <td>29.15</td>\n",
       "      <td>26.80</td>\n",
       "    </tr>\n",
       "    <tr>\n",
       "      <th>2020-04-01</th>\n",
       "      <td>30.14</td>\n",
       "      <td>29.15</td>\n",
       "    </tr>\n",
       "    <tr>\n",
       "      <th>2020-05-01</th>\n",
       "      <td>30.73</td>\n",
       "      <td>30.14</td>\n",
       "    </tr>\n",
       "    <tr>\n",
       "      <th>2020-06-01</th>\n",
       "      <td>30.13</td>\n",
       "      <td>30.73</td>\n",
       "    </tr>\n",
       "  </tbody>\n",
       "</table>\n",
       "</div>"
      ],
      "text/plain": [
       "            actual  forecast\n",
       "date                        \n",
       "2020-01-01   27.24     27.92\n",
       "2020-02-01   26.80     27.24\n",
       "2020-03-01   29.15     26.80\n",
       "2020-04-01   30.14     29.15\n",
       "2020-05-01   30.73     30.14\n",
       "2020-06-01   30.13     30.73"
      ]
     },
     "execution_count": 75,
     "metadata": {},
     "output_type": "execute_result"
    }
   ],
   "source": [
    "# import datetime\n",
    "df_naive = pd.DataFrame()\n",
    "df_naive['actual'] = ts_holdout.iloc[:h]\n",
    "df_naive['forecast'] = df.iloc[-13:-h-1].to_numpy()\n",
    "df_naive"
   ]
  },
  {
   "cell_type": "markdown",
   "id": "4d78623a-e7c7-4747-8ce9-a26bafc90041",
   "metadata": {},
   "source": [
    "### MAE"
   ]
  },
  {
   "cell_type": "code",
   "execution_count": 77,
   "id": "2261baf3-523a-4c77-bdfb-58329b9aea0d",
   "metadata": {
    "execution": {
     "iopub.execute_input": "2021-11-24T03:15:24.793019Z",
     "iopub.status.busy": "2021-11-24T03:15:24.793019Z",
     "iopub.status.idle": "2021-11-24T03:15:24.811234Z",
     "shell.execute_reply": "2021-11-24T03:15:24.810270Z",
     "shell.execute_reply.started": "2021-11-24T03:15:24.793019Z"
    },
    "tags": []
   },
   "outputs": [],
   "source": [
    "def calculate_metric(df, metric, root=False):\n",
    "    if root:\n",
    "        return np.sqrt(metric(df['actual'], df['forecast']))\n",
    "    else:\n",
    "        return metric(df['actual'], df['forecast'])"
   ]
  },
  {
   "cell_type": "code",
   "execution_count": 78,
   "id": "eda7f640-c96c-4a20-aad5-99bc5133638d",
   "metadata": {
    "execution": {
     "iopub.execute_input": "2021-11-24T03:15:47.752505Z",
     "iopub.status.busy": "2021-11-24T03:15:47.752505Z",
     "iopub.status.idle": "2021-11-24T03:15:47.776439Z",
     "shell.execute_reply": "2021-11-24T03:15:47.775442Z",
     "shell.execute_reply.started": "2021-11-24T03:15:47.752505Z"
    },
    "tags": []
   },
   "outputs": [
    {
     "data": {
      "text/plain": [
       "0.941666666666667"
      ]
     },
     "execution_count": 78,
     "metadata": {},
     "output_type": "execute_result"
    }
   ],
   "source": [
    "calculate_metric(df_naive, mean_absolute_error)"
   ]
  },
  {
   "cell_type": "markdown",
   "id": "7330145c-40a0-4b32-a31f-038c25e49ddd",
   "metadata": {},
   "source": [
    "### RMSE"
   ]
  },
  {
   "cell_type": "code",
   "execution_count": 79,
   "id": "4a70c10d-a36f-40bc-8162-6c325343681e",
   "metadata": {
    "execution": {
     "iopub.execute_input": "2021-11-24T03:16:36.411520Z",
     "iopub.status.busy": "2021-11-24T03:16:36.410523Z",
     "iopub.status.idle": "2021-11-24T03:16:36.432463Z",
     "shell.execute_reply": "2021-11-24T03:16:36.431468Z",
     "shell.execute_reply.started": "2021-11-24T03:16:36.411520Z"
    },
    "tags": []
   },
   "outputs": [
    {
     "data": {
      "text/plain": [
       "1.1450400284123985"
      ]
     },
     "execution_count": 79,
     "metadata": {},
     "output_type": "execute_result"
    }
   ],
   "source": [
    "calculate_metric(df_naive, mean_squared_error, root=True)"
   ]
  },
  {
   "cell_type": "markdown",
   "id": "344159a9-c241-4115-8abe-f540ea3a3503",
   "metadata": {},
   "source": [
    "### MAPE"
   ]
  },
  {
   "cell_type": "code",
   "execution_count": 80,
   "id": "d3949c74-9b9c-4b66-80bf-49e3af7a8221",
   "metadata": {
    "execution": {
     "iopub.execute_input": "2021-11-24T03:16:53.617331Z",
     "iopub.status.busy": "2021-11-24T03:16:53.617331Z",
     "iopub.status.idle": "2021-11-24T03:16:53.627384Z",
     "shell.execute_reply": "2021-11-24T03:16:53.626331Z",
     "shell.execute_reply.started": "2021-11-24T03:16:53.617331Z"
    },
    "tags": []
   },
   "outputs": [
    {
     "data": {
      "text/plain": [
       "0.032326432895531734"
      ]
     },
     "execution_count": 80,
     "metadata": {},
     "output_type": "execute_result"
    }
   ],
   "source": [
    "calculate_metric(df_naive, mean_absolute_percentage_error)"
   ]
  },
  {
   "cell_type": "markdown",
   "id": "b56b6656-85e5-493b-a2f0-22faaabdb2c7",
   "metadata": {},
   "source": [
    "## S. Naive"
   ]
  },
  {
   "cell_type": "markdown",
   "id": "215f61f8-02f4-40fc-9933-0d8e26128ae4",
   "metadata": {},
   "source": [
    "12 month seasonality"
   ]
  },
  {
   "cell_type": "code",
   "execution_count": 86,
   "id": "1906dc14-7163-47a3-b36d-3c90ab5b2ce7",
   "metadata": {
    "execution": {
     "iopub.execute_input": "2021-11-24T03:21:27.991824Z",
     "iopub.status.busy": "2021-11-24T03:21:27.991824Z",
     "iopub.status.idle": "2021-11-24T03:21:28.019718Z",
     "shell.execute_reply": "2021-11-24T03:21:28.018756Z",
     "shell.execute_reply.started": "2021-11-24T03:21:27.991824Z"
    },
    "tags": []
   },
   "outputs": [
    {
     "data": {
      "text/html": [
       "<div>\n",
       "<style scoped>\n",
       "    .dataframe tbody tr th:only-of-type {\n",
       "        vertical-align: middle;\n",
       "    }\n",
       "\n",
       "    .dataframe tbody tr th {\n",
       "        vertical-align: top;\n",
       "    }\n",
       "\n",
       "    .dataframe thead th {\n",
       "        text-align: right;\n",
       "    }\n",
       "</style>\n",
       "<table border=\"1\" class=\"dataframe\">\n",
       "  <thead>\n",
       "    <tr style=\"text-align: right;\">\n",
       "      <th></th>\n",
       "      <th>actual</th>\n",
       "      <th>forecast</th>\n",
       "    </tr>\n",
       "    <tr>\n",
       "      <th>date</th>\n",
       "      <th></th>\n",
       "      <th></th>\n",
       "    </tr>\n",
       "  </thead>\n",
       "  <tbody>\n",
       "    <tr>\n",
       "      <th>2020-01-01</th>\n",
       "      <td>27.24</td>\n",
       "      <td>26.88</td>\n",
       "    </tr>\n",
       "    <tr>\n",
       "      <th>2020-02-01</th>\n",
       "      <td>26.80</td>\n",
       "      <td>27.12</td>\n",
       "    </tr>\n",
       "    <tr>\n",
       "      <th>2020-03-01</th>\n",
       "      <td>29.15</td>\n",
       "      <td>28.69</td>\n",
       "    </tr>\n",
       "    <tr>\n",
       "      <th>2020-04-01</th>\n",
       "      <td>30.14</td>\n",
       "      <td>30.63</td>\n",
       "    </tr>\n",
       "    <tr>\n",
       "      <th>2020-05-01</th>\n",
       "      <td>30.73</td>\n",
       "      <td>30.01</td>\n",
       "    </tr>\n",
       "    <tr>\n",
       "      <th>2020-06-01</th>\n",
       "      <td>30.13</td>\n",
       "      <td>30.14</td>\n",
       "    </tr>\n",
       "  </tbody>\n",
       "</table>\n",
       "</div>"
      ],
      "text/plain": [
       "            actual  forecast\n",
       "date                        \n",
       "2020-01-01   27.24     26.88\n",
       "2020-02-01   26.80     27.12\n",
       "2020-03-01   29.15     28.69\n",
       "2020-04-01   30.14     30.63\n",
       "2020-05-01   30.73     30.01\n",
       "2020-06-01   30.13     30.14"
      ]
     },
     "execution_count": 86,
     "metadata": {},
     "output_type": "execute_result"
    }
   ],
   "source": [
    "# import datetime\n",
    "df_snaive = pd.DataFrame()\n",
    "df_snaive['actual'] = ts_holdout.iloc[:h]\n",
    "df_snaive['forecast'] = df[df.index.year==2019].iloc[:h].to_numpy()\n",
    "df_snaive"
   ]
  },
  {
   "cell_type": "markdown",
   "id": "093fe9c0-f4a0-47d0-bd95-eb3d2ad394b3",
   "metadata": {},
   "source": [
    "### MAE"
   ]
  },
  {
   "cell_type": "code",
   "execution_count": 88,
   "id": "3fb2af0b-6c1b-43aa-b989-bb30f3d49978",
   "metadata": {
    "execution": {
     "iopub.execute_input": "2021-11-24T03:22:36.545927Z",
     "iopub.status.busy": "2021-11-24T03:22:36.545927Z",
     "iopub.status.idle": "2021-11-24T03:22:36.564876Z",
     "shell.execute_reply": "2021-11-24T03:22:36.563877Z",
     "shell.execute_reply.started": "2021-11-24T03:22:36.545927Z"
    },
    "tags": []
   },
   "outputs": [
    {
     "data": {
      "text/plain": [
       "0.39333333333333265"
      ]
     },
     "execution_count": 88,
     "metadata": {},
     "output_type": "execute_result"
    }
   ],
   "source": [
    "calculate_metric(df_snaive, mean_absolute_error)"
   ]
  },
  {
   "cell_type": "markdown",
   "id": "49e3fe77-d2b1-4d6e-b2ec-28d63a8da4be",
   "metadata": {},
   "source": [
    "### RMSE"
   ]
  },
  {
   "cell_type": "code",
   "execution_count": 89,
   "id": "e0ae42cf-b893-49a5-a474-9f94a3c18c48",
   "metadata": {
    "execution": {
     "iopub.execute_input": "2021-11-24T03:22:44.329379Z",
     "iopub.status.busy": "2021-11-24T03:22:44.328370Z",
     "iopub.status.idle": "2021-11-24T03:22:44.341334Z",
     "shell.execute_reply": "2021-11-24T03:22:44.340336Z",
     "shell.execute_reply.started": "2021-11-24T03:22:44.329379Z"
    },
    "tags": []
   },
   "outputs": [
    {
     "data": {
      "text/plain": [
       "0.44762335357604577"
      ]
     },
     "execution_count": 89,
     "metadata": {},
     "output_type": "execute_result"
    }
   ],
   "source": [
    "calculate_metric(df_snaive, mean_squared_error, root=True)"
   ]
  },
  {
   "cell_type": "markdown",
   "id": "70090e50-4df1-433c-963c-0f70f1d9d0d0",
   "metadata": {},
   "source": [
    "### MAPE"
   ]
  },
  {
   "cell_type": "code",
   "execution_count": 90,
   "id": "09b251ac-efcb-4222-9ba5-c5f94ac48985",
   "metadata": {
    "execution": {
     "iopub.execute_input": "2021-11-24T03:22:50.243962Z",
     "iopub.status.busy": "2021-11-24T03:22:50.242962Z",
     "iopub.status.idle": "2021-11-24T03:22:50.250942Z",
     "shell.execute_reply": "2021-11-24T03:22:50.250942Z",
     "shell.execute_reply.started": "2021-11-24T03:22:50.243962Z"
    },
    "tags": []
   },
   "outputs": [
    {
     "data": {
      "text/plain": [
       "0.013492639479888095"
      ]
     },
     "execution_count": 90,
     "metadata": {},
     "output_type": "execute_result"
    }
   ],
   "source": [
    "calculate_metric(df_snaive, mean_absolute_percentage_error)"
   ]
  },
  {
   "cell_type": "code",
   "execution_count": null,
   "id": "04827d02-6a25-4ed4-ba53-68b6860539af",
   "metadata": {},
   "outputs": [],
   "source": []
  },
  {
   "cell_type": "code",
   "execution_count": 133,
   "id": "9425e18b-c461-403d-bb1f-d794720fe7ed",
   "metadata": {
    "execution": {
     "iopub.execute_input": "2021-11-24T03:46:33.260246Z",
     "iopub.status.busy": "2021-11-24T03:46:33.259248Z",
     "iopub.status.idle": "2021-11-24T03:46:36.538789Z",
     "shell.execute_reply": "2021-11-24T03:46:36.537790Z",
     "shell.execute_reply.started": "2021-11-24T03:46:33.260246Z"
    },
    "tags": []
   },
   "outputs": [
    {
     "data": {
      "text/plain": [
       "2020-01-01    26.985487\n",
       "2020-02-01    27.195253\n",
       "2020-03-01    28.614911\n",
       "2020-04-01    29.884071\n",
       "2020-05-01    30.224563\n",
       "2020-06-01    29.578588\n",
       "Freq: MS, Name: predicted_mean, dtype: float64"
      ]
     },
     "execution_count": 133,
     "metadata": {},
     "output_type": "execute_result"
    }
   ],
   "source": [
    "model = ARIMA(ts_train, order=(15,0,12)).fit()\n",
    "y_pred = model.forecast(h)\n",
    "y_pred"
   ]
  },
  {
   "cell_type": "markdown",
   "id": "08495a87-1ef3-497e-bc93-3f835f1677ec",
   "metadata": {},
   "source": [
    "# Plotting ALL"
   ]
  },
  {
   "cell_type": "code",
   "execution_count": 134,
   "id": "064faf11-9f34-4c40-8800-fc0584d33c35",
   "metadata": {
    "execution": {
     "iopub.execute_input": "2021-11-24T03:46:36.541780Z",
     "iopub.status.busy": "2021-11-24T03:46:36.540784Z",
     "iopub.status.idle": "2021-11-24T03:46:36.812059Z",
     "shell.execute_reply": "2021-11-24T03:46:36.811060Z",
     "shell.execute_reply.started": "2021-11-24T03:46:36.541780Z"
    },
    "tags": []
   },
   "outputs": [
    {
     "data": {
      "text/plain": [
       "<matplotlib.legend.Legend at 0x18f58ae12e0>"
      ]
     },
     "execution_count": 134,
     "metadata": {},
     "output_type": "execute_result"
    },
    {
     "data": {
      "image/png": "[encoded data removed]",
      "text/plain": [
       "<Figure size 1440x504 with 1 Axes>"
      ]
     },
     "metadata": {
      "needs_background": "light"
     },
     "output_type": "display_data"
    }
   ],
   "source": [
    "fig, ax = plt.subplots()\n",
    "ts_holdout.iloc[:h].plot(ax=ax)\n",
    "y_pred.plot(ax=ax, label='ARIMA', ls='--')\n",
    "df_naive['forecast'].plot(ax=ax, label='Naive', ls='-.')\n",
    "df_snaive['forecast'].plot(ax=ax, label='S.Naive', ls='dotted')\n",
    "plt.legend()"
   ]
  },
  {
   "cell_type": "code",
   "execution_count": null,
   "id": "81b22b85-27ca-4563-88a9-8af0f1964d79",
   "metadata": {},
   "outputs": [],
   "source": []
  },
  {
   "cell_type": "markdown",
   "id": "3dc5cb60-fc57-46eb-a99e-dcc03b358ce4",
   "metadata": {
    "execution": {
     "iopub.execute_input": "2021-11-24T03:29:12.851178Z",
     "iopub.status.busy": "2021-11-24T03:29:12.851178Z",
     "iopub.status.idle": "2021-11-24T03:29:12.861151Z",
     "shell.execute_reply": "2021-11-24T03:29:12.860152Z",
     "shell.execute_reply.started": "2021-11-24T03:29:12.851178Z"
    },
    "tags": []
   },
   "source": [
    "| Forecasting Method | Avg. Test MAE | Avg. Test RMSE | Avg. Test MAPE |\n",
    "| :---: | :---: | :---: | :---: |\n",
    "| Naive / Persistence* | 0.941666666666667 | 0.44762335357604577 | 0.013492639479888095 |\n",
    "| Seasonal Naive | 0.39333333333333265 | 0.44762335357604577 | 0.013492639479888095 |\n",
    "| ARIMA(3,0,3) | 0.4162724044282064 | 0.6451917578737397 | 0.014281359382101066 |"
   ]
  },
  {
   "cell_type": "code",
   "execution_count": null,
   "id": "8afda9e4-10a0-4343-a65b-c78430b86c06",
   "metadata": {},
   "outputs": [],
   "source": []
  },
  {
   "cell_type": "code",
   "execution_count": null,
   "id": "c641d8f5-0e31-470b-88a5-3f41db4b8e7a",
   "metadata": {},
   "outputs": [],
   "source": []
  },
  {
   "cell_type": "code",
   "execution_count": null,
   "id": "7d464570-c126-4d4a-ab31-adf3835af427",
   "metadata": {},
   "outputs": [],
   "source": []
  }
 ],
 "metadata": {
  "celltoolbar": "Create Assignment",
  "kernelspec": {
   "display_name": "Python 3 (ipykernel)",
   "language": "python",
   "name": "python3"
  },
  "language_info": {
   "codemirror_mode": {
    "name": "ipython",
    "version": 3
   },
   "file_extension": ".py",
   "mimetype": "text/x-python",
   "name": "python",
   "nbconvert_exporter": "python",
   "pygments_lexer": "ipython3",
   "version": "3.8.12"
  }
 },
 "nbformat": 4,
 "nbformat_minor": 5
}
