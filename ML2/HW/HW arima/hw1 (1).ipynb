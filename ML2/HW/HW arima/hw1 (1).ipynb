{
 "cells": [
  {
   "cell_type": "code",
   "execution_count": null,
   "metadata": {
    "ExecuteTime": {
     "end_time": "2021-09-30T11:37:58.347101Z",
     "start_time": "2021-09-30T11:37:58.233974Z"
    },
    "deletable": false,
    "editable": false,
    "nbgrader": {
     "cell_type": "code",
     "checksum": "50bdbc71dbb0a711a3d7fd5038c1ef68",
     "grade": false,
     "grade_id": "cell-d2725ff9823b2d8a",
     "locked": true,
     "schema_version": 3,
     "solution": false,
     "task": false
    }
   },
   "outputs": [],
   "source": [
    "from numpy.testing import assert_equal, assert_almost_equal"
   ]
  },
  {
   "cell_type": "markdown",
   "metadata": {
    "deletable": false,
    "editable": false,
    "nbgrader": {
     "cell_type": "markdown",
     "checksum": "72eb90d71d86798ed14cf5b91d0175b2",
     "grade": false,
     "grade_id": "cell-d8e41add05c427ed",
     "locked": true,
     "schema_version": 3,
     "solution": false,
     "task": false
    }
   },
   "source": [
    "# HW1: Forecasting Electricity Demand\n",
    "\n",
    "In this homework, you will be forecasting the daily electricity demand for the entire Luzon grid.\n",
    "\n",
    "Specifically, your goal is to build a <u>7-day ahead forecaster</u> using an ARIMA model.\n",
    "\n",
    "<div class=\"alert alert-info\">\n",
    "\n",
    "**Important Note**\n",
    "    \n",
    "Make sure that you are running `statsmodels 0.12.2` when answering this homework.\n",
    "</div>"
   ]
  },
  {
   "cell_type": "code",
   "execution_count": null,
   "metadata": {
    "ExecuteTime": {
     "end_time": "2021-09-30T11:37:59.556373Z",
     "start_time": "2021-09-30T11:37:58.349603Z"
    },
    "deletable": false,
    "editable": false,
    "nbgrader": {
     "cell_type": "code",
     "checksum": "f2e2cd38bdd7550e8ff48a78611d0677",
     "grade": false,
     "grade_id": "cell-1f40fa2143682bcf",
     "locked": true,
     "schema_version": 3,
     "solution": false,
     "task": false
    }
   },
   "outputs": [],
   "source": [
    "import numpy as np\n",
    "import pandas as pd\n",
    "import matplotlib.pyplot as plt\n",
    "\n",
    "import itertools\n",
    "\n",
    "from statsmodels.graphics.tsaplots import plot_acf\n",
    "from statsmodels.tsa.stattools import adfuller\n",
    "from statsmodels.tsa.arima.model import ARIMA\n",
    "from sklearn.model_selection import TimeSeriesSplit\n",
    "from sklearn.metrics import mean_squared_error\n",
    "\n",
    "# Set figure size\n",
    "plt.rcParams[\"figure.figsize\"] = (15,5)\n",
    "\n",
    "df = pd.read_csv('elecdaily_luzon.csv', index_col=0)\n",
    "df.index = pd.to_datetime(df.index)\n",
    "\n",
    "# My personal preference is to use the pandas.Series, but you can use a pandas.DataFrame as well.\n",
    "ts = df['GW']\n",
    "ts"
   ]
  },
  {
   "cell_type": "markdown",
   "metadata": {
    "deletable": false,
    "editable": false,
    "nbgrader": {
     "cell_type": "markdown",
     "checksum": "bed3c40addc1a3a96ed82a76b82a968a",
     "grade": false,
     "grade_id": "cell-7a8d83bbf3815734",
     "locked": true,
     "schema_version": 3,
     "solution": false,
     "task": false
    }
   },
   "source": [
    "## Q1.\n",
    "\n",
    "Plot the series together with its ACF plot. \n",
    "\n",
    "Comment on the seasonality of the time series and its other interesting characteristics."
   ]
  },
  {
   "cell_type": "code",
   "execution_count": null,
   "metadata": {
    "ExecuteTime": {
     "end_time": "2021-09-30T11:38:00.210118Z",
     "start_time": "2021-09-30T11:37:59.558121Z"
    },
    "deletable": false,
    "nbgrader": {
     "cell_type": "code",
     "checksum": "1324b97dff3cc1ff1c970911051adab9",
     "grade": true,
     "grade_id": "cell-0fbc46ca1a24767c",
     "locked": false,
     "points": 1,
     "schema_version": 3,
     "solution": true,
     "task": false
    }
   },
   "outputs": [],
   "source": [
    "# YOUR CODE HERE\n",
    "raise NotImplementedError()"
   ]
  },
  {
   "cell_type": "markdown",
   "metadata": {
    "deletable": false,
    "nbgrader": {
     "cell_type": "markdown",
     "checksum": "9866b60a4a655002b6f4951a0a56cd27",
     "grade": true,
     "grade_id": "cell-883b2a94e55471a4",
     "locked": false,
     "points": 1,
     "schema_version": 3,
     "solution": true,
     "task": false
    }
   },
   "source": [
    "YOUR ANSWER HERE"
   ]
  },
  {
   "cell_type": "markdown",
   "metadata": {
    "deletable": false,
    "editable": false,
    "nbgrader": {
     "cell_type": "markdown",
     "checksum": "d1c4cca835439beb60f6663e86f58738",
     "grade": false,
     "grade_id": "cell-ff9e65c153b1f946",
     "locked": true,
     "schema_version": 3,
     "solution": false,
     "task": false
    }
   },
   "source": [
    "## Q2.\n",
    "\n",
    "Verify that the series is NOT stationary using an ADF test.\n",
    "\n",
    "Fill in the `adf_stat` variable."
   ]
  },
  {
   "cell_type": "code",
   "execution_count": null,
   "metadata": {
    "ExecuteTime": {
     "end_time": "2021-09-30T11:38:00.255151Z",
     "start_time": "2021-09-30T11:38:00.212159Z"
    },
    "deletable": false,
    "nbgrader": {
     "cell_type": "code",
     "checksum": "036ddab6aa0cca5f5f448fa9adf17600",
     "grade": false,
     "grade_id": "cell-53efd18b44f7efad",
     "locked": false,
     "schema_version": 3,
     "solution": true,
     "task": false
    }
   },
   "outputs": [],
   "source": [
    "adf_stat = None\n",
    "\n",
    "# YOUR CODE HERE\n",
    "raise NotImplementedError()\n",
    "\n",
    "adf_stat"
   ]
  },
  {
   "cell_type": "code",
   "execution_count": null,
   "metadata": {
    "ExecuteTime": {
     "end_time": "2021-09-30T11:38:00.341368Z",
     "start_time": "2021-09-30T11:38:00.258211Z"
    },
    "deletable": false,
    "editable": false,
    "nbgrader": {
     "cell_type": "code",
     "checksum": "137b001deaff8e65279e6c3833b1f100",
     "grade": true,
     "grade_id": "cell-68e0c5a1d673f8b5",
     "locked": true,
     "points": 1,
     "schema_version": 3,
     "solution": false,
     "task": false
    }
   },
   "outputs": [],
   "source": [
    "# Sanity check\n",
    "assert adf_stat is not None, 'Put the ADF statistic in this variable!'\n",
    "\n",
    "# Hidden tests"
   ]
  },
  {
   "cell_type": "markdown",
   "metadata": {
    "deletable": false,
    "editable": false,
    "nbgrader": {
     "cell_type": "markdown",
     "checksum": "05eb48c94e6197e6e841cac040c2e4c9",
     "grade": false,
     "grade_id": "cell-e18e39c1f87523f8",
     "locked": true,
     "schema_version": 3,
     "solution": false,
     "task": false
    }
   },
   "source": [
    "## Q3. \n",
    "\n",
    "Apply the appropriate seasonal differencing to make the series stationary. Verify using an ADF test.\n",
    "\n",
    "Fill in the `m` and `adf_stat` variables."
   ]
  },
  {
   "cell_type": "code",
   "execution_count": null,
   "metadata": {
    "ExecuteTime": {
     "end_time": "2021-09-30T11:38:00.558618Z",
     "start_time": "2021-09-30T11:38:00.345487Z"
    },
    "deletable": false,
    "nbgrader": {
     "cell_type": "code",
     "checksum": "f54a94079777e8e7373e3b42bf11872c",
     "grade": false,
     "grade_id": "cell-c6569ced92fb70de",
     "locked": false,
     "schema_version": 3,
     "solution": true,
     "task": false
    }
   },
   "outputs": [],
   "source": [
    "m = None\n",
    "adf_stat = None\n",
    "\n",
    "# YOUR CODE HERE\n",
    "raise NotImplementedError()\n",
    "adf_stat"
   ]
  },
  {
   "cell_type": "code",
   "execution_count": null,
   "metadata": {
    "ExecuteTime": {
     "end_time": "2021-09-30T11:38:00.646199Z",
     "start_time": "2021-09-30T11:38:00.640543Z"
    },
    "deletable": false,
    "editable": false,
    "nbgrader": {
     "cell_type": "code",
     "checksum": "029528a142a74d9f55c78f8734b7196c",
     "grade": true,
     "grade_id": "cell-70374b7c21c9a82c",
     "locked": true,
     "points": 1,
     "schema_version": 3,
     "solution": false,
     "task": false
    }
   },
   "outputs": [],
   "source": [
    "# Sanity check\n",
    "assert m is not None, 'Put the differencing parameter in this variable!'\n",
    "\n",
    "# Hidden tests"
   ]
  },
  {
   "cell_type": "code",
   "execution_count": null,
   "metadata": {
    "ExecuteTime": {
     "end_time": "2021-09-30T11:38:00.657135Z",
     "start_time": "2021-09-30T11:38:00.650332Z"
    },
    "deletable": false,
    "editable": false,
    "nbgrader": {
     "cell_type": "code",
     "checksum": "2a1c6d09d135a83754149bf12e06a941",
     "grade": true,
     "grade_id": "cell-445a5ad2da43d168",
     "locked": true,
     "points": 1,
     "schema_version": 3,
     "solution": false,
     "task": false
    }
   },
   "outputs": [],
   "source": [
    "# Sanity check\n",
    "assert adf_stat is not None, 'Put the ADF statistic in this variable!'\n",
    "\n",
    "# Hidden tests"
   ]
  },
  {
   "cell_type": "markdown",
   "metadata": {
    "deletable": false,
    "editable": false,
    "nbgrader": {
     "cell_type": "markdown",
     "checksum": "3d96931dcbf02c977f8e3e3476081800",
     "grade": false,
     "grade_id": "cell-79cab9c67c40f8f2",
     "locked": true,
     "schema_version": 3,
     "solution": false,
     "task": false
    }
   },
   "source": [
    "## Interlude\n",
    "\n",
    "Recall that your goal is to build a <u>7-day ahead forecaster</u>.\n",
    "\n",
    "First, we'll hold out the last 84 observations (approx. 3 months) to use as a test set."
   ]
  },
  {
   "cell_type": "code",
   "execution_count": null,
   "metadata": {
    "ExecuteTime": {
     "end_time": "2021-09-30T11:38:00.748048Z",
     "start_time": "2021-09-30T11:38:00.740344Z"
    }
   },
   "outputs": [],
   "source": [
    "h = 7\n",
    "test_size = 84\n",
    "\n",
    "ts_train = ts[:-test_size]\n",
    "ts_test = ts[-test_size:]"
   ]
  },
  {
   "cell_type": "markdown",
   "metadata": {
    "deletable": false,
    "editable": false,
    "nbgrader": {
     "cell_type": "markdown",
     "checksum": "6bee4dafe290654797b7c7ef9201c45f",
     "grade": false,
     "grade_id": "cell-d9e2c36c199ee2a0",
     "locked": true,
     "schema_version": 3,
     "solution": false,
     "task": false
    }
   },
   "source": [
    "## Q4.\n",
    "\n",
    "Create a grid for the $(p,d,q)$ parameters.\n",
    "\n",
    "Let,\n",
    "\n",
    "- $p=0,1,2$\n",
    "\n",
    "\n",
    "- $d=0,1$\n",
    "\n",
    "\n",
    "- $q=0,1,2$\n",
    "\n",
    "Fill in the `pdq_grid` variable."
   ]
  },
  {
   "cell_type": "code",
   "execution_count": null,
   "metadata": {
    "ExecuteTime": {
     "end_time": "2021-09-30T11:38:00.765357Z",
     "start_time": "2021-09-30T11:38:00.751427Z"
    },
    "deletable": false,
    "nbgrader": {
     "cell_type": "code",
     "checksum": "11a77a8cf39414c0f7deaebf8a56de94",
     "grade": false,
     "grade_id": "cell-6218843ce6ad0eef",
     "locked": false,
     "schema_version": 3,
     "solution": true,
     "task": false
    }
   },
   "outputs": [],
   "source": [
    "pdq_grid = None\n",
    "\n",
    "# YOUR CODE HERE\n",
    "raise NotImplementedError()\n",
    "\n",
    "pdq_grid"
   ]
  },
  {
   "cell_type": "code",
   "execution_count": null,
   "metadata": {
    "ExecuteTime": {
     "end_time": "2021-09-30T11:38:00.776225Z",
     "start_time": "2021-09-30T11:38:00.767948Z"
    },
    "deletable": false,
    "editable": false,
    "nbgrader": {
     "cell_type": "code",
     "checksum": "f3d4b51aecd4937dd4fecbb68b91aa63",
     "grade": true,
     "grade_id": "cell-cd4b91e286e70c2a",
     "locked": true,
     "points": 1,
     "schema_version": 3,
     "solution": false,
     "task": false
    }
   },
   "outputs": [],
   "source": [
    "# Sanity check\n",
    "assert pdq_grid is not None, 'Put the (p,d,q) grid in this variable!'\n",
    "assert type(pdq_grid) == list, 'pdq_grid should be a list of tuples!'\n",
    "assert all(isinstance(_, tuple) for _ in pdq_grid), 'pdq_grid should be a list of tuples!'\n",
    "\n",
    "# Hidden tests"
   ]
  },
  {
   "cell_type": "markdown",
   "metadata": {
    "deletable": false,
    "editable": false,
    "nbgrader": {
     "cell_type": "markdown",
     "checksum": "f364fdd9058adf8a0418c02e673e011e",
     "grade": false,
     "grade_id": "cell-cc9db7abc4d2bca5",
     "locked": true,
     "schema_version": 3,
     "solution": false,
     "task": false
    }
   },
   "source": [
    "## Q5.\n",
    "\n",
    "Using the training set, use grid search with a 4-fold time series split (validation size of 28) to select the best $(p,d,q)$ by minimizing the average RMSE,\n",
    "\n",
    "$$\\text{RMSE} = \\sqrt{\\frac{1}{n}\\sum_i^n (y_i - \\hat{y}_i)^2}$$\n",
    "\n",
    "For each $(p,d,q)$, place its average RMSE score in `df_results`. Make sure to follow the pre-set structure of `df_results`.\n",
    "\n",
    "In addition, fill in the `tskfold` variable."
   ]
  },
  {
   "cell_type": "markdown",
   "metadata": {
    "deletable": false,
    "editable": false,
    "nbgrader": {
     "cell_type": "markdown",
     "checksum": "9b4d75cbbc376ec3a0ee87a99e783833",
     "grade": false,
     "grade_id": "cell-2062c9731465de87",
     "locked": true,
     "schema_version": 3,
     "solution": false,
     "task": false
    }
   },
   "source": [
    "Finally, use the following settings when fitting the ARIMA model:\n",
    "\n",
    "1. `ARIMA(..., enforce_stationarity=False, enforce_invertibility=False)`\n",
    "\n",
    "\n",
    "2. `.fit(method_kwargs={'maxiter': 200})`\n",
    "\n",
    "\n",
    "The first condition will supress warnings about parameter combinations that result in non-stationary/non-invertible models. You can read about the technical details [`here`](https://otexts.com/fpp3/AR.html) and [`here`](https://otexts.com/fpp3/MA.html) .\n",
    "\n",
    "The second condition will fix the MLE convergence warnings."
   ]
  },
  {
   "cell_type": "code",
   "execution_count": null,
   "metadata": {
    "ExecuteTime": {
     "end_time": "2021-09-30T11:38:00.799032Z",
     "start_time": "2021-09-30T11:38:00.778507Z"
    }
   },
   "outputs": [],
   "source": [
    "df_results = pd.DataFrame({'(p,d,q)': pdq_grid, 'Avg. RMSE': np.zeros(len(pdq_grid))})\n",
    "df_results"
   ]
  },
  {
   "cell_type": "code",
   "execution_count": null,
   "metadata": {
    "ExecuteTime": {
     "end_time": "2021-09-30T11:38:22.108501Z",
     "start_time": "2021-09-30T11:38:00.800980Z"
    },
    "deletable": false,
    "nbgrader": {
     "cell_type": "code",
     "checksum": "b17a68cd4334d6a4c4dcdd1dee0aa965",
     "grade": false,
     "grade_id": "cell-625f5a98c00421ad",
     "locked": false,
     "schema_version": 3,
     "solution": true,
     "task": false
    }
   },
   "outputs": [],
   "source": [
    "tskfold = None\n",
    "\n",
    "# YOUR CODE HERE\n",
    "raise NotImplementedError()\n",
    "\n",
    "df_results"
   ]
  },
  {
   "cell_type": "code",
   "execution_count": null,
   "metadata": {
    "ExecuteTime": {
     "end_time": "2021-09-30T11:38:22.119155Z",
     "start_time": "2021-09-30T11:38:22.113028Z"
    },
    "deletable": false,
    "editable": false,
    "nbgrader": {
     "cell_type": "code",
     "checksum": "36f5f3e250946418d5bcf7d14d4be000",
     "grade": true,
     "grade_id": "cell-dc9cd4bddb098934",
     "locked": true,
     "points": 1,
     "schema_version": 3,
     "solution": false,
     "task": false
    }
   },
   "outputs": [],
   "source": [
    "# Sanity check\n",
    "assert type(tskfold) == TimeSeriesSplit, 'tskfold should be a TimeSeriesSplit object!'\n",
    "assert df_results['(p,d,q)'].tolist() == pdq_grid, 'df_results appears to be out of order. Do not sort it.'\n",
    "assert all(isinstance(_, float) for _ in df_results['Avg. RMSE']), 'df_results should contain floats!'\n",
    "\n",
    "# Hidden tests (Checks Avg. RMSE up to 3 decimal places)"
   ]
  },
  {
   "cell_type": "markdown",
   "metadata": {
    "deletable": false,
    "editable": false,
    "nbgrader": {
     "cell_type": "markdown",
     "checksum": "f905d421b2e21ef3ba82b0845c00fc76",
     "grade": false,
     "grade_id": "cell-1d82dc4321997b5c",
     "locked": true,
     "schema_version": 3,
     "solution": false,
     "task": false
    }
   },
   "source": [
    "## Q6.\n",
    "\n",
    "Using the best $(p,d,q)$, evaluate its performance on the test set using cross-validation. \n",
    "\n",
    "This time, use a 12-fold time series split and calculate the average RMSE.\n",
    "\n",
    "*Note: 12-folds * 7-steps = 84 observations which is the test size!*\n",
    "\n",
    "Fill in the `p`, `d`, `q`, and `test_error` variables."
   ]
  },
  {
   "cell_type": "code",
   "execution_count": null,
   "metadata": {
    "ExecuteTime": {
     "end_time": "2021-09-30T11:38:30.195023Z",
     "start_time": "2021-09-30T11:38:22.120808Z"
    },
    "deletable": false,
    "nbgrader": {
     "cell_type": "code",
     "checksum": "7220d00909146b6c1c116e37d1392ad0",
     "grade": false,
     "grade_id": "cell-c94f0f95761bf9d7",
     "locked": false,
     "schema_version": 3,
     "solution": true,
     "task": false
    }
   },
   "outputs": [],
   "source": [
    "p = None\n",
    "d = None\n",
    "q = None\n",
    "\n",
    "test_error = None\n",
    "\n",
    "# YOUR CODE HERE\n",
    "raise NotImplementedError()\n",
    "\n",
    "print('Test Avg. RMSE =', test_error)"
   ]
  },
  {
   "cell_type": "code",
   "execution_count": null,
   "metadata": {
    "ExecuteTime": {
     "end_time": "2021-09-30T11:38:30.200388Z",
     "start_time": "2021-09-30T11:38:30.196600Z"
    },
    "deletable": false,
    "editable": false,
    "nbgrader": {
     "cell_type": "code",
     "checksum": "bb4bf250692ece669d1f72f2d4ab1769",
     "grade": true,
     "grade_id": "cell-5f25fa6cfb41bbec",
     "locked": true,
     "points": 1,
     "schema_version": 3,
     "solution": false,
     "task": false
    }
   },
   "outputs": [],
   "source": [
    "# Sanity check\n",
    "assert p is not None, 'Put the best p in this variable!'\n",
    "assert d is not None, 'Put the best d in this variable!'\n",
    "assert q is not None, 'Put the best q in this variable!'\n",
    "assert test_error is not None, 'Put the average RMSE in this variable!'\n",
    "\n",
    "# Hidden tests (Checks Avg. RMSE up to 3 decimal places)"
   ]
  },
  {
   "cell_type": "markdown",
   "metadata": {
    "deletable": false,
    "editable": false,
    "nbgrader": {
     "cell_type": "markdown",
     "checksum": "c7f2e93d1ec76b9b7895a89135e4801a",
     "grade": false,
     "grade_id": "cell-311c3ddaeff66eeb",
     "locked": true,
     "schema_version": 3,
     "solution": false,
     "task": false
    }
   },
   "source": [
    "## Q7.\n",
    "\n",
    "Evaluate the performance of a naive and seasonal naive baseline on the test set, following the same strategy as above.\n",
    "\n",
    "Fill in the `test_error_naive` and `test_error_snaive` variables."
   ]
  },
  {
   "cell_type": "code",
   "execution_count": null,
   "metadata": {
    "ExecuteTime": {
     "end_time": "2021-09-30T11:38:30.256950Z",
     "start_time": "2021-09-30T11:38:30.202322Z"
    },
    "deletable": false,
    "nbgrader": {
     "cell_type": "code",
     "checksum": "a4a5c324a0f404598369b161483ebac8",
     "grade": false,
     "grade_id": "cell-71a475d3ac5b2e55",
     "locked": false,
     "schema_version": 3,
     "solution": true,
     "task": false
    }
   },
   "outputs": [],
   "source": [
    "test_error_naive = None\n",
    "test_error_snaive = None\n",
    "\n",
    "# YOUR CODE HERE\n",
    "raise NotImplementedError()\n",
    "\n",
    "print('  Naive Avg. RMSE =', test_error_naive)\n",
    "print('S.Naive Avg. RMSE =', test_error_snaive)"
   ]
  },
  {
   "cell_type": "code",
   "execution_count": null,
   "metadata": {
    "ExecuteTime": {
     "end_time": "2021-09-30T11:38:30.262205Z",
     "start_time": "2021-09-30T11:38:30.258946Z"
    },
    "deletable": false,
    "editable": false,
    "nbgrader": {
     "cell_type": "code",
     "checksum": "203d2a62d019a974a1b4ff3ffdf1fe06",
     "grade": true,
     "grade_id": "cell-7b2af85add09750d",
     "locked": true,
     "points": 1,
     "schema_version": 3,
     "solution": false,
     "task": false
    }
   },
   "outputs": [],
   "source": [
    "# Sanity check\n",
    "assert test_error_naive is not None, 'Put the average RMSE for the Naive method in this variable!'\n",
    "\n",
    "# Hidden tests (Checks Avg. RMSE up to 3 decimal places)"
   ]
  },
  {
   "cell_type": "code",
   "execution_count": null,
   "metadata": {
    "ExecuteTime": {
     "end_time": "2021-09-30T11:38:30.269305Z",
     "start_time": "2021-09-30T11:38:30.263471Z"
    },
    "deletable": false,
    "editable": false,
    "nbgrader": {
     "cell_type": "code",
     "checksum": "7cb8bdf342a92c07f9efb8f1c743f8ec",
     "grade": true,
     "grade_id": "cell-d2e42eab255238fd",
     "locked": true,
     "points": 1,
     "schema_version": 3,
     "solution": false,
     "task": false
    }
   },
   "outputs": [],
   "source": [
    "# Sanity check\n",
    "assert test_error_snaive is not None, 'Put the average RMSE for the S.Naive method in this variable!'\n",
    "\n",
    "# Hidden tests (Checks Avg. RMSE up to 3 decimal places)"
   ]
  }
 ],
 "metadata": {
  "kernelspec": {
   "display_name": "Python 3",
   "language": "python",
   "name": "python3"
  },
  "language_info": {
   "codemirror_mode": {
    "name": "ipython",
    "version": 3
   },
   "file_extension": ".py",
   "mimetype": "text/x-python",
   "name": "python",
   "nbconvert_exporter": "python",
   "pygments_lexer": "ipython3",
   "version": "3.8.5"
  }
 },
 "nbformat": 4,
 "nbformat_minor": 5
}
