{
 "cells": [
  {
   "cell_type": "markdown",
   "id": "c1173cca",
   "metadata": {},
   "source": [
    "# Homework 2: Imbalanced Classification (SLT 7B)\n",
    "Acot, Gacal, Ginez\n",
    "\n",
    "**Deadline:** October 20, 11:59PM.\n",
    "\n",
    "**Instructions:**\n",
    "In this homework, you will be given a flexibility to choose a dataset you want to work on. For reference, you may use the answers of the cohort in the earlier exercise, see [link](https://docs.google.com/presentation/d/1uXrwW7yz4VBLxoZMbwtdtU2sf0z-OeK0FyB5EHU4L5Q/edit?usp=sharing).\n",
    "\n",
    "The sections below are provided as guide on how you can structure your work to meet the minimum requirements for this homework, which are:\n",
    "1. Brief description of the data: objective, data dictionary, minimal EDA relevant to the objective.\n",
    "2. `automl` results using default hyperparameters of `sklearn` classifiers, use an appropriate metric beginning at this step. Include a brief (1-2 sentences) discussion of the chosen metric.\n",
    "3. A confusion matrix for the chosen classifier from the above step, include a brief discussion of the matrix.\n",
    "4. Perform 3 resampling techniques (excluding, Random Oversampling and Random Undersampling)\n",
    "    * SMOTE (required)\n",
    "    * ADASYN (required)\n",
    "    * A technique not discussed in class\n",
    "*Note: You may use the* `imblearn` *implementations instead of the function provided during the lecture*\n",
    "\n",
    "5. Re-run our `automl` (default model hyperparameters) using the resampled training data. Comment on the differences.\n",
    "\n",
    "6. *Optional:* You may choose to tune your resampling parameters (e.g. $\\beta$, $K$) and show sensitivity plots for additional $Angas^{TM}$ points.\n",
    "\n",
    "\n",
    "**Some Flexibilities you can take advantage of:**\n",
    "* `StratifiedKFold` number of folds\n",
    "* The classifiers you wish to use (minimum of 3)\n",
    "* Size of the dataset"
   ]
  },
  {
   "cell_type": "code",
   "execution_count": 1,
   "id": "5bdabd8b",
   "metadata": {
    "ExecuteTime": {
     "end_time": "2021-10-19T14:41:46.763468Z",
     "start_time": "2021-10-19T14:41:46.756964Z"
    },
    "execution": {
     "iopub.execute_input": "2021-10-22T09:16:08.097052Z",
     "iopub.status.busy": "2021-10-22T09:16:08.097052Z",
     "iopub.status.idle": "2021-10-22T09:16:10.725044Z",
     "shell.execute_reply": "2021-10-22T09:16:10.725044Z",
     "shell.execute_reply.started": "2021-10-22T09:16:08.097052Z"
    }
   },
   "outputs": [],
   "source": [
    "import pandas as pd\n",
    "import time\n",
    "import numpy as np\n",
    "\n",
    "import matplotlib.pyplot as plt\n",
    "import seaborn as sns\n",
    "\n",
    "from sklearn.neighbors import KNeighborsClassifier\n",
    "from sklearn.svm import SVC\n",
    "from sklearn.linear_model import LogisticRegression\n",
    "from sklearn.naive_bayes import GaussianNB\n",
    "from sklearn.tree import DecisionTreeClassifier\n",
    "from sklearn.ensemble import (RandomForestClassifier,  \n",
    "                              GradientBoostingClassifier)\n",
    "from sklearn.model_selection import train_test_split, KFold, StratifiedKFold\n",
    "from sklearn.metrics import make_scorer, recall_score\n",
    "from sklearn.metrics import confusion_matrix, ConfusionMatrixDisplay\n",
    "from sklearn.neighbors import NearestNeighbors\n",
    "from sklearn.model_selection import cross_val_score\n",
    "from sklearn.metrics import f1_score\n",
    "\n",
    "from imblearn.under_sampling import TomekLinks \n",
    "from imblearn.over_sampling import ADASYN, SMOTE\n",
    "\n",
    "import warnings\n",
    "from warnings import simplefilter\n",
    "from sklearn.exceptions import ConvergenceWarning\n",
    "warnings.filterwarnings(\"ignore\")"
   ]
  },
  {
   "cell_type": "code",
   "execution_count": 2,
   "id": "0130f577",
   "metadata": {
    "ExecuteTime": {
     "end_time": "2021-10-19T14:41:47.455199Z",
     "start_time": "2021-10-19T14:41:47.436343Z"
    },
    "execution": {
     "iopub.execute_input": "2021-10-22T09:16:10.727018Z",
     "iopub.status.busy": "2021-10-22T09:16:10.727018Z",
     "iopub.status.idle": "2021-10-22T09:16:10.741034Z",
     "shell.execute_reply": "2021-10-22T09:16:10.741034Z",
     "shell.execute_reply.started": "2021-10-22T09:16:10.727018Z"
    }
   },
   "outputs": [],
   "source": [
    "# resammple automl\n",
    "def resample_automl(X_trainval, y_trainval):\n",
    "    res = {}\n",
    "    skf = StratifiedKFold(n_splits=5)\n",
    "\n",
    "\n",
    "    for model_name, model in models_dict.items():\n",
    "        model_start = time.time()\n",
    "        train_scores = []\n",
    "        val_scores = []\n",
    "        test_scores = []\n",
    "        for train_index, val_index in skf.split(X_trainval, y_trainval):\n",
    "            X_train, X_val = X_trainval.iloc[train_index], X_trainval.iloc[val_index]\n",
    "            y_train, y_val = y_trainval.iloc[train_index], y_trainval.iloc[val_index]\n",
    "            \n",
    "            \n",
    "            model.fit(X_train, y_train)\n",
    "            \n",
    "            train_pred = model.predict(X_train)\n",
    "            val_pred = model.predict(X_val)\n",
    "            hold_pred = model.predict(X_holdout)\n",
    "            \n",
    "            train_score = f1_score(y_train, train_pred)\n",
    "            val_score = f1_score(y_val, val_pred)\n",
    "            hold_score = f1_score(y_holdout, hold_pred)\n",
    "\n",
    "            train_scores.append(train_score)\n",
    "            val_scores.append(val_score)\n",
    "            test_scores.append(hold_score)\n",
    "        model_end = time.time() - model_start\n",
    "        res[model_name] = {\n",
    "            'ave_train_f1':np.mean(train_scores) * 100,\n",
    "            'ave_val_f1':np.mean(val_scores) * 100,\n",
    "            'ave_test_f1': np.mean(test_scores) * 100,\n",
    "            'runtime': model_end\n",
    "        }\n",
    "\n",
    "        print(f'{model_name}: done')\n",
    "    \n",
    "    res_df = pd.DataFrame(res).T\n",
    "    \n",
    "    return res_df['ave_test_f1'], res_df\n"
   ]
  },
  {
   "cell_type": "markdown",
   "id": "86a50d8b",
   "metadata": {},
   "source": [
    "## Brief Description of the Dataset Used"
   ]
  },
  {
   "cell_type": "markdown",
   "id": "b105b40d",
   "metadata": {},
   "source": [
    "### Dataset and Dictionary\n",
    "\n",
    "The dataset is extracted from the 1994 US Census database which has 14 features and 48,842 rows made available from UCI’s ML repo. \n",
    "The task is to predict whether a person will have a salary grade greater than 50K USD annually, or less than equal that. The features of the dataset are shown in the table below\n",
    "\n",
    "<table>\n",
    "    <tr><td><b>Feature</b></td><td><b>Values</b></td></tr>\n",
    "    <tr><td>age</td><td>17-90 yrs old</td></tr>\n",
    "    <tr><td>workclass</td><td>Private, Local-gov, self-emp-inc, etc.</td></tr>\n",
    "    <tr><td>fnlwgt</td><td>Ex. 89814</td></tr>\n",
    "    <tr><td>education</td><td>Pre-school, HS-grad, Masters, Doctorate, etc.</td></tr>\n",
    "    <tr><td>marital-status</td><td>Never-married, *married, widowed, divorced, separated, etc.</td></tr>\n",
    "    <tr><td>occupation</td><td>Farming-Fishing, exec-managerial, tech-support, etc.</td></tr>\n",
    "    <tr><td>relationship</td><td>Own-child, Husband, Unmarried, Wife, etc.</td></tr>\n",
    "    <tr><td>race</td><td>Black, White, Asian-Pac-Islander, etc.</td></tr>\n",
    "    <tr><td>sex</td><td>Male, Female</td></tr>\n",
    "    <tr><td>capital-gain</td><td>Ex. 7688</td></tr>\n",
    "    <tr><td>capital-loss</td><td>Ex. 7688</td></tr>\n",
    "    <tr><td>hours-per-week</td><td>Ex. 40</td></tr>\n",
    "    <tr><td>native-country</td><td>United-States, Philippines, Mexico, etc.</td></tr>\n",
    "</table>\n",
    "\n",
    "The features are self-explanatory except `capital-gain`, `capital-loss`, `hours-per-week`, and `fnlwgt`. Capital-gain or loss is the income of the individual from external sources outside his salary such as income from investmets. Hours-per-week is the number of work hours per week. And finally, `fnlwgt`  is the number of people the census believes the entry represents.\n",
    "\n",
    "<table>\n",
    "    <tr><td><b>Target Variable</b></td><td><b>Values</b></td></tr>\n",
    "    <tr><td>class</td><td><=50K, >50K</td></tr>\n",
    "</table>\n",
    "\n",
    "The table above shows the target variable and the values it contains. Again, fairly self-explanatory."
   ]
  },
  {
   "cell_type": "code",
   "execution_count": 3,
   "id": "e70b004a-fc49-4c70-8eac-c2970ab08ee6",
   "metadata": {
    "execution": {
     "iopub.execute_input": "2021-10-22T09:16:10.741978Z",
     "iopub.status.busy": "2021-10-22T09:16:10.741978Z",
     "iopub.status.idle": "2021-10-22T09:16:10.757935Z",
     "shell.execute_reply": "2021-10-22T09:16:10.756938Z",
     "shell.execute_reply.started": "2021-10-22T09:16:10.741978Z"
    },
    "tags": []
   },
   "outputs": [
    {
     "data": {
      "text/plain": [
       "'C:\\\\Users\\\\JG\\\\jupyter directory\\\\datasets\\\\adult.csv'"
      ]
     },
     "execution_count": 3,
     "metadata": {},
     "output_type": "execute_result"
    }
   ],
   "source": [
    "import os\n",
    "os.path.abspath('C:\\\\Users\\\\JG\\\\jupyter directory\\\\datasets\\\\adult.csv')"
   ]
  },
  {
   "cell_type": "code",
   "execution_count": 4,
   "id": "082d6147",
   "metadata": {
    "ExecuteTime": {
     "end_time": "2021-10-19T14:41:48.491825Z",
     "start_time": "2021-10-19T14:41:48.378910Z"
    },
    "execution": {
     "iopub.execute_input": "2021-10-22T09:16:10.760928Z",
     "iopub.status.busy": "2021-10-22T09:16:10.759930Z",
     "iopub.status.idle": "2021-10-22T09:16:10.882602Z",
     "shell.execute_reply": "2021-10-22T09:16:10.882602Z",
     "shell.execute_reply.started": "2021-10-22T09:16:10.760928Z"
    },
    "scrolled": true,
    "tags": []
   },
   "outputs": [
    {
     "data": {
      "text/html": [
       "<div>\n",
       "<style scoped>\n",
       "    .dataframe tbody tr th:only-of-type {\n",
       "        vertical-align: middle;\n",
       "    }\n",
       "\n",
       "    .dataframe tbody tr th {\n",
       "        vertical-align: top;\n",
       "    }\n",
       "\n",
       "    .dataframe thead th {\n",
       "        text-align: right;\n",
       "    }\n",
       "</style>\n",
       "<table border=\"1\" class=\"dataframe\">\n",
       "  <thead>\n",
       "    <tr style=\"text-align: right;\">\n",
       "      <th></th>\n",
       "      <th>age</th>\n",
       "      <th>workclass</th>\n",
       "      <th>fnlwgt</th>\n",
       "      <th>education</th>\n",
       "      <th>education-num</th>\n",
       "      <th>marital-status</th>\n",
       "      <th>occupation</th>\n",
       "      <th>relationship</th>\n",
       "      <th>race</th>\n",
       "      <th>sex</th>\n",
       "      <th>capital-gain</th>\n",
       "      <th>capital-loss</th>\n",
       "      <th>hours-per-week</th>\n",
       "      <th>native-country</th>\n",
       "      <th>class</th>\n",
       "    </tr>\n",
       "  </thead>\n",
       "  <tbody>\n",
       "    <tr>\n",
       "      <th>0</th>\n",
       "      <td>25</td>\n",
       "      <td>Private</td>\n",
       "      <td>226802</td>\n",
       "      <td>11th</td>\n",
       "      <td>7</td>\n",
       "      <td>Never-married</td>\n",
       "      <td>Machine-op-inspct</td>\n",
       "      <td>Own-child</td>\n",
       "      <td>Black</td>\n",
       "      <td>Male</td>\n",
       "      <td>0</td>\n",
       "      <td>0</td>\n",
       "      <td>40</td>\n",
       "      <td>United-States</td>\n",
       "      <td>&lt;=50K</td>\n",
       "    </tr>\n",
       "    <tr>\n",
       "      <th>1</th>\n",
       "      <td>38</td>\n",
       "      <td>Private</td>\n",
       "      <td>89814</td>\n",
       "      <td>HS-grad</td>\n",
       "      <td>9</td>\n",
       "      <td>Married-civ-spouse</td>\n",
       "      <td>Farming-fishing</td>\n",
       "      <td>Husband</td>\n",
       "      <td>White</td>\n",
       "      <td>Male</td>\n",
       "      <td>0</td>\n",
       "      <td>0</td>\n",
       "      <td>50</td>\n",
       "      <td>United-States</td>\n",
       "      <td>&lt;=50K</td>\n",
       "    </tr>\n",
       "    <tr>\n",
       "      <th>2</th>\n",
       "      <td>28</td>\n",
       "      <td>Local-gov</td>\n",
       "      <td>336951</td>\n",
       "      <td>Assoc-acdm</td>\n",
       "      <td>12</td>\n",
       "      <td>Married-civ-spouse</td>\n",
       "      <td>Protective-serv</td>\n",
       "      <td>Husband</td>\n",
       "      <td>White</td>\n",
       "      <td>Male</td>\n",
       "      <td>0</td>\n",
       "      <td>0</td>\n",
       "      <td>40</td>\n",
       "      <td>United-States</td>\n",
       "      <td>&gt;50K</td>\n",
       "    </tr>\n",
       "    <tr>\n",
       "      <th>3</th>\n",
       "      <td>44</td>\n",
       "      <td>Private</td>\n",
       "      <td>160323</td>\n",
       "      <td>Some-college</td>\n",
       "      <td>10</td>\n",
       "      <td>Married-civ-spouse</td>\n",
       "      <td>Machine-op-inspct</td>\n",
       "      <td>Husband</td>\n",
       "      <td>Black</td>\n",
       "      <td>Male</td>\n",
       "      <td>7688</td>\n",
       "      <td>0</td>\n",
       "      <td>40</td>\n",
       "      <td>United-States</td>\n",
       "      <td>&gt;50K</td>\n",
       "    </tr>\n",
       "    <tr>\n",
       "      <th>4</th>\n",
       "      <td>18</td>\n",
       "      <td>?</td>\n",
       "      <td>103497</td>\n",
       "      <td>Some-college</td>\n",
       "      <td>10</td>\n",
       "      <td>Never-married</td>\n",
       "      <td>?</td>\n",
       "      <td>Own-child</td>\n",
       "      <td>White</td>\n",
       "      <td>Female</td>\n",
       "      <td>0</td>\n",
       "      <td>0</td>\n",
       "      <td>30</td>\n",
       "      <td>United-States</td>\n",
       "      <td>&lt;=50K</td>\n",
       "    </tr>\n",
       "  </tbody>\n",
       "</table>\n",
       "</div>"
      ],
      "text/plain": [
       "   age   workclass  fnlwgt      education  education-num       marital-status  \\\n",
       "0   25     Private  226802           11th              7        Never-married   \n",
       "1   38     Private   89814        HS-grad              9   Married-civ-spouse   \n",
       "2   28   Local-gov  336951     Assoc-acdm             12   Married-civ-spouse   \n",
       "3   44     Private  160323   Some-college             10   Married-civ-spouse   \n",
       "4   18           ?  103497   Some-college             10        Never-married   \n",
       "\n",
       "           occupation relationship    race      sex  capital-gain  \\\n",
       "0   Machine-op-inspct    Own-child   Black     Male             0   \n",
       "1     Farming-fishing      Husband   White     Male             0   \n",
       "2     Protective-serv      Husband   White     Male             0   \n",
       "3   Machine-op-inspct      Husband   Black     Male          7688   \n",
       "4                   ?    Own-child   White   Female             0   \n",
       "\n",
       "   capital-loss  hours-per-week  native-country   class  \n",
       "0             0              40   United-States   <=50K  \n",
       "1             0              50   United-States   <=50K  \n",
       "2             0              40   United-States    >50K  \n",
       "3             0              40   United-States    >50K  \n",
       "4             0              30   United-States   <=50K  "
      ]
     },
     "execution_count": 4,
     "metadata": {},
     "output_type": "execute_result"
    }
   ],
   "source": [
    "df = pd.read_csv('C:\\\\Users\\\\JG\\\\jupyter directory\\\\datasets\\\\adult.csv')\n",
    "\n",
    "df.head()"
   ]
  },
  {
   "cell_type": "markdown",
   "id": "93e6bce8",
   "metadata": {},
   "source": [
    "## EDA "
   ]
  },
  {
   "cell_type": "code",
   "execution_count": 5,
   "id": "1f589653",
   "metadata": {
    "ExecuteTime": {
     "end_time": "2021-10-19T14:41:49.760955Z",
     "start_time": "2021-10-19T14:41:49.098572Z"
    },
    "execution": {
     "iopub.execute_input": "2021-10-22T09:16:10.884597Z",
     "iopub.status.busy": "2021-10-22T09:16:10.884597Z",
     "iopub.status.idle": "2021-10-22T09:16:11.502976Z",
     "shell.execute_reply": "2021-10-22T09:16:11.502976Z",
     "shell.execute_reply.started": "2021-10-22T09:16:10.884597Z"
    }
   },
   "outputs": [
    {
     "data": {
      "text/html": [
       "<div>\n",
       "<style scoped>\n",
       "    .dataframe tbody tr th:only-of-type {\n",
       "        vertical-align: middle;\n",
       "    }\n",
       "\n",
       "    .dataframe tbody tr th {\n",
       "        vertical-align: top;\n",
       "    }\n",
       "\n",
       "    .dataframe thead th {\n",
       "        text-align: right;\n",
       "    }\n",
       "</style>\n",
       "<table border=\"1\" class=\"dataframe\">\n",
       "  <thead>\n",
       "    <tr style=\"text-align: right;\">\n",
       "      <th></th>\n",
       "      <th>age</th>\n",
       "      <th>fnlwgt</th>\n",
       "      <th>education-num</th>\n",
       "      <th>sex</th>\n",
       "      <th>capital-gain</th>\n",
       "      <th>capital-loss</th>\n",
       "      <th>hours-per-week</th>\n",
       "      <th>Federal-gov</th>\n",
       "      <th>Local-gov</th>\n",
       "      <th>Private</th>\n",
       "      <th>...</th>\n",
       "      <th>Puerto-Rico</th>\n",
       "      <th>Scotland</th>\n",
       "      <th>South</th>\n",
       "      <th>Taiwan</th>\n",
       "      <th>Thailand</th>\n",
       "      <th>Trinadad&amp;Tobago</th>\n",
       "      <th>United-States</th>\n",
       "      <th>Vietnam</th>\n",
       "      <th>Yugoslavia</th>\n",
       "      <th>target</th>\n",
       "    </tr>\n",
       "  </thead>\n",
       "  <tbody>\n",
       "    <tr>\n",
       "      <th>0</th>\n",
       "      <td>25</td>\n",
       "      <td>226802</td>\n",
       "      <td>7</td>\n",
       "      <td>1</td>\n",
       "      <td>0</td>\n",
       "      <td>0</td>\n",
       "      <td>40</td>\n",
       "      <td>0</td>\n",
       "      <td>0</td>\n",
       "      <td>1</td>\n",
       "      <td>...</td>\n",
       "      <td>0</td>\n",
       "      <td>0</td>\n",
       "      <td>0</td>\n",
       "      <td>0</td>\n",
       "      <td>0</td>\n",
       "      <td>0</td>\n",
       "      <td>1</td>\n",
       "      <td>0</td>\n",
       "      <td>0</td>\n",
       "      <td>0</td>\n",
       "    </tr>\n",
       "    <tr>\n",
       "      <th>1</th>\n",
       "      <td>38</td>\n",
       "      <td>89814</td>\n",
       "      <td>9</td>\n",
       "      <td>1</td>\n",
       "      <td>0</td>\n",
       "      <td>0</td>\n",
       "      <td>50</td>\n",
       "      <td>0</td>\n",
       "      <td>0</td>\n",
       "      <td>1</td>\n",
       "      <td>...</td>\n",
       "      <td>0</td>\n",
       "      <td>0</td>\n",
       "      <td>0</td>\n",
       "      <td>0</td>\n",
       "      <td>0</td>\n",
       "      <td>0</td>\n",
       "      <td>1</td>\n",
       "      <td>0</td>\n",
       "      <td>0</td>\n",
       "      <td>0</td>\n",
       "    </tr>\n",
       "    <tr>\n",
       "      <th>2</th>\n",
       "      <td>28</td>\n",
       "      <td>336951</td>\n",
       "      <td>12</td>\n",
       "      <td>1</td>\n",
       "      <td>0</td>\n",
       "      <td>0</td>\n",
       "      <td>40</td>\n",
       "      <td>0</td>\n",
       "      <td>1</td>\n",
       "      <td>0</td>\n",
       "      <td>...</td>\n",
       "      <td>0</td>\n",
       "      <td>0</td>\n",
       "      <td>0</td>\n",
       "      <td>0</td>\n",
       "      <td>0</td>\n",
       "      <td>0</td>\n",
       "      <td>1</td>\n",
       "      <td>0</td>\n",
       "      <td>0</td>\n",
       "      <td>1</td>\n",
       "    </tr>\n",
       "    <tr>\n",
       "      <th>3</th>\n",
       "      <td>44</td>\n",
       "      <td>160323</td>\n",
       "      <td>10</td>\n",
       "      <td>1</td>\n",
       "      <td>7688</td>\n",
       "      <td>0</td>\n",
       "      <td>40</td>\n",
       "      <td>0</td>\n",
       "      <td>0</td>\n",
       "      <td>1</td>\n",
       "      <td>...</td>\n",
       "      <td>0</td>\n",
       "      <td>0</td>\n",
       "      <td>0</td>\n",
       "      <td>0</td>\n",
       "      <td>0</td>\n",
       "      <td>0</td>\n",
       "      <td>1</td>\n",
       "      <td>0</td>\n",
       "      <td>0</td>\n",
       "      <td>1</td>\n",
       "    </tr>\n",
       "    <tr>\n",
       "      <th>5</th>\n",
       "      <td>34</td>\n",
       "      <td>198693</td>\n",
       "      <td>6</td>\n",
       "      <td>1</td>\n",
       "      <td>0</td>\n",
       "      <td>0</td>\n",
       "      <td>30</td>\n",
       "      <td>0</td>\n",
       "      <td>0</td>\n",
       "      <td>1</td>\n",
       "      <td>...</td>\n",
       "      <td>0</td>\n",
       "      <td>0</td>\n",
       "      <td>0</td>\n",
       "      <td>0</td>\n",
       "      <td>0</td>\n",
       "      <td>0</td>\n",
       "      <td>1</td>\n",
       "      <td>0</td>\n",
       "      <td>0</td>\n",
       "      <td>0</td>\n",
       "    </tr>\n",
       "  </tbody>\n",
       "</table>\n",
       "<p>5 rows × 88 columns</p>\n",
       "</div>"
      ],
      "text/plain": [
       "   age  fnlwgt  education-num  sex  capital-gain  capital-loss  \\\n",
       "0   25  226802              7    1             0             0   \n",
       "1   38   89814              9    1             0             0   \n",
       "2   28  336951             12    1             0             0   \n",
       "3   44  160323             10    1          7688             0   \n",
       "5   34  198693              6    1             0             0   \n",
       "\n",
       "   hours-per-week  Federal-gov  Local-gov  Private  ...  Puerto-Rico  \\\n",
       "0              40            0          0        1  ...            0   \n",
       "1              50            0          0        1  ...            0   \n",
       "2              40            0          1        0  ...            0   \n",
       "3              40            0          0        1  ...            0   \n",
       "5              30            0          0        1  ...            0   \n",
       "\n",
       "   Scotland  South  Taiwan  Thailand  Trinadad&Tobago  United-States  Vietnam  \\\n",
       "0         0      0       0         0                0              1        0   \n",
       "1         0      0       0         0                0              1        0   \n",
       "2         0      0       0         0                0              1        0   \n",
       "3         0      0       0         0                0              1        0   \n",
       "5         0      0       0         0                0              1        0   \n",
       "\n",
       "   Yugoslavia  target  \n",
       "0           0       0  \n",
       "1           0       0  \n",
       "2           0       1  \n",
       "3           0       1  \n",
       "5           0       0  \n",
       "\n",
       "[5 rows x 88 columns]"
      ]
     },
     "execution_count": 5,
     "metadata": {},
     "output_type": "execute_result"
    }
   ],
   "source": [
    "# preprocessing\n",
    "df = df.applymap(lambda x: x.strip() if type(x) == str else x).applymap(lambda x: np.nan if x=='?' else x)\n",
    "df = df.dropna(subset=['workclass', 'occupation', 'native-country'], axis=0)\n",
    "df = df.drop(['education'], axis=1)\n",
    "dummies = pd.concat([pd.get_dummies(df['workclass']), \n",
    "                     pd.get_dummies(df['marital-status']),\n",
    "                     pd.get_dummies(df['occupation']),\n",
    "                     pd.get_dummies(df['relationship']),\n",
    "                     pd.get_dummies(df['race']),\n",
    "                     pd.get_dummies(df['native-country'])], axis=1)\n",
    "df = pd.concat([df, dummies], axis=1).drop(['workclass', 'marital-status', 'occupation', 'relationship', 'race', 'native-country'], axis=1)\n",
    "df['target'] = df['class'].apply(lambda x: 0 if x=='<=50K' else 1)\n",
    "df = df.drop(['class'], axis=1)\n",
    "df['sex'] = df['sex'].apply(lambda x: 1 if x=='Male' else 0)\n",
    "df.head()"
   ]
  },
  {
   "cell_type": "code",
   "execution_count": 6,
   "id": "59c8a896",
   "metadata": {
    "ExecuteTime": {
     "end_time": "2021-10-19T14:41:49.920979Z",
     "start_time": "2021-10-19T14:41:49.764354Z"
    },
    "execution": {
     "iopub.execute_input": "2021-10-22T09:16:11.503977Z",
     "iopub.status.busy": "2021-10-22T09:16:11.503977Z",
     "iopub.status.idle": "2021-10-22T09:16:11.710389Z",
     "shell.execute_reply": "2021-10-22T09:16:11.709427Z",
     "shell.execute_reply.started": "2021-10-22T09:16:11.503977Z"
    }
   },
   "outputs": [
    {
     "data": {
      "image/png": "[encoded data removed]",
      "text/plain": [
       "<Figure size 432x288 with 1 Axes>"
      ]
     },
     "metadata": {
      "needs_background": "light"
     },
     "output_type": "display_data"
    }
   ],
   "source": [
    "ax = sns.countplot(x='target', data=df, palette='PuBu');"
   ]
  },
  {
   "cell_type": "markdown",
   "id": "cd619f27",
   "metadata": {},
   "source": [
    "<b>Target Array Composition</b>\n",
    "\n",
    "The data is unbalanced since 75% of the target array are `0`s and only 25% are `1`s."
   ]
  },
  {
   "cell_type": "code",
   "execution_count": 7,
   "id": "706ecdf1",
   "metadata": {
    "ExecuteTime": {
     "end_time": "2021-10-19T14:41:51.418529Z",
     "start_time": "2021-10-19T14:41:51.406876Z"
    },
    "execution": {
     "iopub.execute_input": "2021-10-22T09:16:11.711386Z",
     "iopub.status.busy": "2021-10-22T09:16:11.711386Z",
     "iopub.status.idle": "2021-10-22T09:16:11.726347Z",
     "shell.execute_reply": "2021-10-22T09:16:11.725349Z",
     "shell.execute_reply.started": "2021-10-22T09:16:11.711386Z"
    }
   },
   "outputs": [
    {
     "name": "stdout",
     "output_type": "stream",
     "text": [
      "0    0.752156\n",
      "1    0.247844\n",
      "Name: target, dtype: float64\n"
     ]
    }
   ],
   "source": [
    "print(df['target'].value_counts(normalize=True))"
   ]
  },
  {
   "cell_type": "markdown",
   "id": "08b8e7a8",
   "metadata": {},
   "source": [
    "### PCC\n",
    "\n",
    "The Proportional Chance Criterion (PCC) allows us to set a baseline for the performance of my classifiers. It is ideal that the classifier models exceed this PCC in order for it to be deemed useful. A rule of thumb is to have a goal of 1.25*PCC for model accuracy.\n",
    "\n",
    "<center>\n",
    "<br>\n",
    "    ${P}_{CC} = \n",
    "    (\\frac{\\large n_1}{\\large N})^2+ (\\frac{\\large n_2}{\\large N})^2 + \\cdots + (\\frac{\\large n_M}{\\large N})^2$"
   ]
  },
  {
   "cell_type": "code",
   "execution_count": 8,
   "id": "17f56a2f",
   "metadata": {
    "ExecuteTime": {
     "end_time": "2021-10-19T14:42:29.618040Z",
     "start_time": "2021-10-19T14:42:29.607079Z"
    },
    "execution": {
     "iopub.execute_input": "2021-10-22T09:16:11.727344Z",
     "iopub.status.busy": "2021-10-22T09:16:11.727344Z",
     "iopub.status.idle": "2021-10-22T09:16:11.742305Z",
     "shell.execute_reply": "2021-10-22T09:16:11.741361Z",
     "shell.execute_reply.started": "2021-10-22T09:16:11.727344Z"
    }
   },
   "outputs": [
    {
     "name": "stdout",
     "output_type": "stream",
     "text": [
      "1.25*PCC = 78.39566589795592\n"
     ]
    }
   ],
   "source": [
    "pcc = df['target'].value_counts(normalize=True)**2\n",
    "print('1.25*PCC =', np.sum(pcc)*1.25*100)"
   ]
  },
  {
   "cell_type": "markdown",
   "id": "8c5b4e3a",
   "metadata": {},
   "source": [
    "The dataset is significantly imbalanced as seen in the bar plot where the majority are the people with equal or less 50,000 income and the minority are the people with greater than 50,000 income."
   ]
  },
  {
   "cell_type": "markdown",
   "id": "9ee8b3f0",
   "metadata": {},
   "source": [
    "## `automl` Default runs"
   ]
  },
  {
   "cell_type": "code",
   "execution_count": 9,
   "id": "8581ff29",
   "metadata": {
    "ExecuteTime": {
     "end_time": "2021-10-19T12:45:35.300873Z",
     "start_time": "2021-10-19T12:45:35.288019Z"
    },
    "execution": {
     "iopub.execute_input": "2021-10-22T09:16:11.743300Z",
     "iopub.status.busy": "2021-10-22T09:16:11.743300Z",
     "iopub.status.idle": "2021-10-22T09:16:11.758279Z",
     "shell.execute_reply": "2021-10-22T09:16:11.757290Z",
     "shell.execute_reply.started": "2021-10-22T09:16:11.743300Z"
    }
   },
   "outputs": [],
   "source": [
    "X = df.drop('target', axis=1)\n",
    "y = df['target']\n",
    "feature_names = X.columns"
   ]
  },
  {
   "cell_type": "code",
   "execution_count": 10,
   "id": "0f3038db",
   "metadata": {
    "ExecuteTime": {
     "end_time": "2021-10-19T12:45:36.136990Z",
     "start_time": "2021-10-19T12:45:36.093352Z"
    },
    "execution": {
     "iopub.execute_input": "2021-10-22T09:16:11.762250Z",
     "iopub.status.busy": "2021-10-22T09:16:11.761253Z",
     "iopub.status.idle": "2021-10-22T09:16:11.805172Z",
     "shell.execute_reply": "2021-10-22T09:16:11.805172Z",
     "shell.execute_reply.started": "2021-10-22T09:16:11.762250Z"
    }
   },
   "outputs": [],
   "source": [
    "# insert code here\n",
    "from sklearn.model_selection import train_test_split, StratifiedKFold\n",
    "(X_trainval, X_test, y_trainval, y_test) = train_test_split(X, y, \n",
    "                                           random_state=11, test_size=0.25, \n",
    "                                           stratify=y)"
   ]
  },
  {
   "cell_type": "markdown",
   "id": "7c885158",
   "metadata": {},
   "source": [
    "## Chosen Metric : F1 Score\n",
    "\n",
    "<b>Why F1 score?</b>\n",
    "\n",
    "The F-score, commonly known as the F1-score, is a model's accuracy on a dataset. It is used to assess binary classification algorithms that categorize examples as 'positive' or 'negative.' [[source]](https://medium.com/analytics-vidhya/accuracy-vs-f1-score-6258237beca2)\n",
    "<br>The F1-score is a method of combining the model's precision and recall; it is defined as the harmonic mean of the model's precision and recall.\n",
    "<br>The F1-score is frequently used to evaluate information retrieval systems such as search engines, as well as many different types of machine learning models.\n",
    "<br>F1- Score was utilized to achieve an equal balance of accuracy and recall."
   ]
  },
  {
   "cell_type": "code",
   "execution_count": 11,
   "id": "26f174c3",
   "metadata": {
    "execution": {
     "iopub.execute_input": "2021-10-22T09:16:11.808131Z",
     "iopub.status.busy": "2021-10-22T09:16:11.807131Z",
     "iopub.status.idle": "2021-10-22T09:16:11.821094Z",
     "shell.execute_reply": "2021-10-22T09:16:11.821094Z",
     "shell.execute_reply.started": "2021-10-22T09:16:11.807131Z"
    }
   },
   "outputs": [],
   "source": [
    "import time\n",
    "\n",
    "models_dict = {\n",
    "    'LogisticRegressor': LogisticRegression(random_state=11, max_iter=1_000_000),\n",
    "    'KNeighborsClassifier': KNeighborsClassifier(),\n",
    "    'RandomForestClassifier': RandomForestClassifier(random_state=11),\n",
    "    'GradientBoostingClassifier': GradientBoostingClassifier(random_state=11)   \n",
    "}\n",
    "\n",
    "\n",
    "skf = StratifiedKFold(n_splits=5)\n",
    "\n",
    "def automl(X, y, resampler=None):\n",
    "# insert code here\n",
    "    res = {}\n",
    "    for model_name, model in models_dict.items():\n",
    "        model_start = time.time()\n",
    "        train_scores = []\n",
    "        val_scores = []\n",
    "        for train_index, val_index in skf.split(X, y):\n",
    "            X_train, X_val = X.iloc[train_index], X.iloc[val_index]\n",
    "            y_train, y_val = y.iloc[train_index], y.iloc[val_index]\n",
    "            \n",
    "            if resampler:\n",
    "                (X_train, y_train) = resampler.fit_resample(X_train, y_train)\n",
    "        \n",
    "\n",
    "            model.fit(X_train, y_train)\n",
    "\n",
    "            y_pred_train = model.predict(X_train)\n",
    "\n",
    "            train_score = f1_score(y_train, y_pred_train)\n",
    "            \n",
    "\n",
    "            y_pred_val = model.predict(X_val)\n",
    "            val_score = f1_score(y_val, y_pred_val)\n",
    "\n",
    "            train_scores.append(train_score)\n",
    "            val_scores.append(val_score)\n",
    "\n",
    "    \n",
    "\n",
    "        model_end = time.time() - model_start\n",
    "        res[model_name] = {\n",
    "            'ave_train_f1':np.mean(train_scores) * 100,\n",
    "            'ave_val_f1':np.mean(val_scores) * 100,\n",
    "            'runtime': model_end\n",
    "        }\n",
    "\n",
    "        print(f'{model_name}: done')\n",
    "    df = pd.DataFrame(res).T\n",
    "    return df\n"
   ]
  },
  {
   "cell_type": "code",
   "execution_count": 12,
   "id": "4787641b",
   "metadata": {
    "execution": {
     "iopub.execute_input": "2021-10-22T09:16:11.823089Z",
     "iopub.status.busy": "2021-10-22T09:16:11.823089Z",
     "iopub.status.idle": "2021-10-22T09:18:20.367463Z",
     "shell.execute_reply": "2021-10-22T09:18:20.366464Z",
     "shell.execute_reply.started": "2021-10-22T09:16:11.823089Z"
    }
   },
   "outputs": [
    {
     "name": "stdout",
     "output_type": "stream",
     "text": [
      "LogisticRegressor: done\n",
      "KNeighborsClassifier: done\n",
      "RandomForestClassifier: done\n",
      "GradientBoostingClassifier: done\n"
     ]
    },
    {
     "data": {
      "text/html": [
       "<div>\n",
       "<style scoped>\n",
       "    .dataframe tbody tr th:only-of-type {\n",
       "        vertical-align: middle;\n",
       "    }\n",
       "\n",
       "    .dataframe tbody tr th {\n",
       "        vertical-align: top;\n",
       "    }\n",
       "\n",
       "    .dataframe thead th {\n",
       "        text-align: right;\n",
       "    }\n",
       "</style>\n",
       "<table border=\"1\" class=\"dataframe\">\n",
       "  <thead>\n",
       "    <tr style=\"text-align: right;\">\n",
       "      <th></th>\n",
       "      <th>ave_train_f1</th>\n",
       "      <th>ave_val_f1</th>\n",
       "      <th>runtime</th>\n",
       "    </tr>\n",
       "  </thead>\n",
       "  <tbody>\n",
       "    <tr>\n",
       "      <th>LogisticRegressor</th>\n",
       "      <td>38.750893</td>\n",
       "      <td>38.785491</td>\n",
       "      <td>1.499988</td>\n",
       "    </tr>\n",
       "    <tr>\n",
       "      <th>KNeighborsClassifier</th>\n",
       "      <td>56.841616</td>\n",
       "      <td>40.758603</td>\n",
       "      <td>82.789016</td>\n",
       "    </tr>\n",
       "    <tr>\n",
       "      <th>RandomForestClassifier</th>\n",
       "      <td>99.982154</td>\n",
       "      <td>67.927802</td>\n",
       "      <td>19.467028</td>\n",
       "    </tr>\n",
       "    <tr>\n",
       "      <th>GradientBoostingClassifier</th>\n",
       "      <td>69.397957</td>\n",
       "      <td>68.672316</td>\n",
       "      <td>24.765437</td>\n",
       "    </tr>\n",
       "  </tbody>\n",
       "</table>\n",
       "</div>"
      ],
      "text/plain": [
       "                            ave_train_f1  ave_val_f1    runtime\n",
       "LogisticRegressor              38.750893   38.785491   1.499988\n",
       "KNeighborsClassifier           56.841616   40.758603  82.789016\n",
       "RandomForestClassifier         99.982154   67.927802  19.467028\n",
       "GradientBoostingClassifier     69.397957   68.672316  24.765437"
      ]
     },
     "execution_count": 12,
     "metadata": {},
     "output_type": "execute_result"
    }
   ],
   "source": [
    "automl(X_trainval, y_trainval)"
   ]
  },
  {
   "cell_type": "markdown",
   "id": "55f6978d",
   "metadata": {},
   "source": [
    "Random Forest Classifier and Decision Tree Classifier evidently are overfitting with almost 100% train accuracy while having 80-85% validation accuracy. KNN and Logistic Regression, on the other hand, simply have below 80% validation accuracy. Gradient Boosting Classifier has a relatively good train and validation accuracy. However, this can still be improved."
   ]
  },
  {
   "cell_type": "markdown",
   "id": "9c1cabee",
   "metadata": {},
   "source": [
    "## Confusion Matrix"
   ]
  },
  {
   "cell_type": "code",
   "execution_count": 13,
   "id": "05d2e339",
   "metadata": {
    "execution": {
     "iopub.execute_input": "2021-10-22T09:18:20.369460Z",
     "iopub.status.busy": "2021-10-22T09:18:20.368461Z",
     "iopub.status.idle": "2021-10-22T09:18:38.767725Z",
     "shell.execute_reply": "2021-10-22T09:18:38.766732Z",
     "shell.execute_reply.started": "2021-10-22T09:18:20.369460Z"
    }
   },
   "outputs": [
    {
     "data": {
      "image/png": "[encoded data removed]",
      "text/plain": [
       "<Figure size 1440x360 with 4 Axes>"
      ]
     },
     "metadata": {
      "needs_background": "light"
     },
     "output_type": "display_data"
    }
   ],
   "source": [
    "# insert code here\n",
    "from sklearn.metrics import confusion_matrix\n",
    "from sklearn.metrics import ConfusionMatrixDisplay\n",
    "fig, axes = plt.subplots(1, 4, figsize=(20, 5))\n",
    "\n",
    "i = 0\n",
    "for model_name, model in models_dict.items():\n",
    "    \n",
    "    model.fit(X_trainval, y_trainval)\n",
    "    y_pred = model.predict(X_test)\n",
    "    cm = confusion_matrix(y_test, y_pred)\n",
    "    disp = ConfusionMatrixDisplay(confusion_matrix=cm)\n",
    "    disp.plot(ax=axes[i], colorbar=False)\n",
    "    axes[i].set_title(model_name, fontsize=12)\n",
    "\n",
    "    i += 1\n"
   ]
  },
  {
   "cell_type": "markdown",
   "id": "6e4802d6",
   "metadata": {},
   "source": [
    "The GBM Classifier model was able to <b>produce an F1-score of 69.69% of the holdout data set</b>. But this is without hypertuning and resampling the imbalanced data.\n"
   ]
  },
  {
   "cell_type": "markdown",
   "id": "456dfc65",
   "metadata": {},
   "source": [
    "## Resampling"
   ]
  },
  {
   "cell_type": "markdown",
   "id": "3dc83fd2",
   "metadata": {},
   "source": [
    "In resampling the imbalanced dataset, we used SMOTE, ADASYN, and TomekLinks."
   ]
  },
  {
   "cell_type": "code",
   "execution_count": 14,
   "id": "e0c15c02",
   "metadata": {
    "execution": {
     "iopub.execute_input": "2021-10-22T09:18:38.768724Z",
     "iopub.status.busy": "2021-10-22T09:18:38.767725Z",
     "iopub.status.idle": "2021-10-22T09:18:38.782687Z",
     "shell.execute_reply": "2021-10-22T09:18:38.781690Z",
     "shell.execute_reply.started": "2021-10-22T09:18:38.768724Z"
    }
   },
   "outputs": [],
   "source": [
    "sm = SMOTE(sampling_strategy=1.0, random_state=11)"
   ]
  },
  {
   "cell_type": "code",
   "execution_count": 15,
   "id": "d4f04613",
   "metadata": {
    "execution": {
     "iopub.execute_input": "2021-10-22T09:18:38.784681Z",
     "iopub.status.busy": "2021-10-22T09:18:38.783684Z",
     "iopub.status.idle": "2021-10-22T09:18:38.798643Z",
     "shell.execute_reply": "2021-10-22T09:18:38.797646Z",
     "shell.execute_reply.started": "2021-10-22T09:18:38.784681Z"
    }
   },
   "outputs": [],
   "source": [
    "ada = ADASYN(sampling_strategy=1.0, random_state=11)"
   ]
  },
  {
   "cell_type": "code",
   "execution_count": 16,
   "id": "d5829dd9",
   "metadata": {
    "execution": {
     "iopub.execute_input": "2021-10-22T09:18:38.800639Z",
     "iopub.status.busy": "2021-10-22T09:18:38.799644Z",
     "iopub.status.idle": "2021-10-22T09:18:38.814601Z",
     "shell.execute_reply": "2021-10-22T09:18:38.813641Z",
     "shell.execute_reply.started": "2021-10-22T09:18:38.800639Z"
    }
   },
   "outputs": [],
   "source": [
    "tl = TomekLinks()"
   ]
  },
  {
   "cell_type": "markdown",
   "id": "8299579c",
   "metadata": {},
   "source": [
    "## Resampled data `automl` results"
   ]
  },
  {
   "cell_type": "markdown",
   "id": "cf059774",
   "metadata": {},
   "source": [
    "<b>SMOTE</b>"
   ]
  },
  {
   "cell_type": "code",
   "execution_count": 17,
   "id": "a512aa56",
   "metadata": {
    "execution": {
     "iopub.execute_input": "2021-10-22T09:18:38.816601Z",
     "iopub.status.busy": "2021-10-22T09:18:38.815600Z",
     "iopub.status.idle": "2021-10-22T09:22:54.736272Z",
     "shell.execute_reply": "2021-10-22T09:22:54.735313Z",
     "shell.execute_reply.started": "2021-10-22T09:18:38.816601Z"
    }
   },
   "outputs": [
    {
     "name": "stdout",
     "output_type": "stream",
     "text": [
      "LogisticRegressor: done\n",
      "KNeighborsClassifier: done\n",
      "RandomForestClassifier: done\n",
      "GradientBoostingClassifier: done\n"
     ]
    },
    {
     "data": {
      "text/html": [
       "<div>\n",
       "<style scoped>\n",
       "    .dataframe tbody tr th:only-of-type {\n",
       "        vertical-align: middle;\n",
       "    }\n",
       "\n",
       "    .dataframe tbody tr th {\n",
       "        vertical-align: top;\n",
       "    }\n",
       "\n",
       "    .dataframe thead th {\n",
       "        text-align: right;\n",
       "    }\n",
       "</style>\n",
       "<table border=\"1\" class=\"dataframe\">\n",
       "  <thead>\n",
       "    <tr style=\"text-align: right;\">\n",
       "      <th></th>\n",
       "      <th>ave_train_f1</th>\n",
       "      <th>ave_val_f1</th>\n",
       "      <th>runtime</th>\n",
       "    </tr>\n",
       "  </thead>\n",
       "  <tbody>\n",
       "    <tr>\n",
       "      <th>LogisticRegressor</th>\n",
       "      <td>57.074809</td>\n",
       "      <td>43.381526</td>\n",
       "      <td>7.024899</td>\n",
       "    </tr>\n",
       "    <tr>\n",
       "      <th>KNeighborsClassifier</th>\n",
       "      <td>82.279335</td>\n",
       "      <td>43.827775</td>\n",
       "      <td>170.199424</td>\n",
       "    </tr>\n",
       "    <tr>\n",
       "      <th>RandomForestClassifier</th>\n",
       "      <td>99.993630</td>\n",
       "      <td>68.604832</td>\n",
       "      <td>35.009451</td>\n",
       "    </tr>\n",
       "    <tr>\n",
       "      <th>GradientBoostingClassifier</th>\n",
       "      <td>89.293502</td>\n",
       "      <td>70.198231</td>\n",
       "      <td>43.663017</td>\n",
       "    </tr>\n",
       "  </tbody>\n",
       "</table>\n",
       "</div>"
      ],
      "text/plain": [
       "                            ave_train_f1  ave_val_f1     runtime\n",
       "LogisticRegressor              57.074809   43.381526    7.024899\n",
       "KNeighborsClassifier           82.279335   43.827775  170.199424\n",
       "RandomForestClassifier         99.993630   68.604832   35.009451\n",
       "GradientBoostingClassifier     89.293502   70.198231   43.663017"
      ]
     },
     "execution_count": 17,
     "metadata": {},
     "output_type": "execute_result"
    }
   ],
   "source": [
    "automl(X_trainval, y_trainval, sm)"
   ]
  },
  {
   "cell_type": "markdown",
   "id": "a178bba7",
   "metadata": {},
   "source": [
    "<b>ADASYN</b>"
   ]
  },
  {
   "cell_type": "code",
   "execution_count": 18,
   "id": "e864b9bb",
   "metadata": {
    "execution": {
     "iopub.execute_input": "2021-10-22T09:22:54.741268Z",
     "iopub.status.busy": "2021-10-22T09:22:54.740300Z",
     "iopub.status.idle": "2021-10-22T09:28:10.680675Z",
     "shell.execute_reply": "2021-10-22T09:28:10.679679Z",
     "shell.execute_reply.started": "2021-10-22T09:22:54.741268Z"
    }
   },
   "outputs": [
    {
     "name": "stdout",
     "output_type": "stream",
     "text": [
      "LogisticRegressor: done\n",
      "KNeighborsClassifier: done\n",
      "RandomForestClassifier: done\n",
      "GradientBoostingClassifier: done\n"
     ]
    },
    {
     "data": {
      "text/html": [
       "<div>\n",
       "<style scoped>\n",
       "    .dataframe tbody tr th:only-of-type {\n",
       "        vertical-align: middle;\n",
       "    }\n",
       "\n",
       "    .dataframe tbody tr th {\n",
       "        vertical-align: top;\n",
       "    }\n",
       "\n",
       "    .dataframe thead th {\n",
       "        text-align: right;\n",
       "    }\n",
       "</style>\n",
       "<table border=\"1\" class=\"dataframe\">\n",
       "  <thead>\n",
       "    <tr style=\"text-align: right;\">\n",
       "      <th></th>\n",
       "      <th>ave_train_f1</th>\n",
       "      <th>ave_val_f1</th>\n",
       "      <th>runtime</th>\n",
       "    </tr>\n",
       "  </thead>\n",
       "  <tbody>\n",
       "    <tr>\n",
       "      <th>LogisticRegressor</th>\n",
       "      <td>60.656647</td>\n",
       "      <td>44.672481</td>\n",
       "      <td>21.660969</td>\n",
       "    </tr>\n",
       "    <tr>\n",
       "      <th>KNeighborsClassifier</th>\n",
       "      <td>80.694193</td>\n",
       "      <td>44.207173</td>\n",
       "      <td>182.849902</td>\n",
       "    </tr>\n",
       "    <tr>\n",
       "      <th>RandomForestClassifier</th>\n",
       "      <td>99.994058</td>\n",
       "      <td>68.105557</td>\n",
       "      <td>49.980330</td>\n",
       "    </tr>\n",
       "    <tr>\n",
       "      <th>GradientBoostingClassifier</th>\n",
       "      <td>89.069995</td>\n",
       "      <td>69.876212</td>\n",
       "      <td>61.435303</td>\n",
       "    </tr>\n",
       "  </tbody>\n",
       "</table>\n",
       "</div>"
      ],
      "text/plain": [
       "                            ave_train_f1  ave_val_f1     runtime\n",
       "LogisticRegressor              60.656647   44.672481   21.660969\n",
       "KNeighborsClassifier           80.694193   44.207173  182.849902\n",
       "RandomForestClassifier         99.994058   68.105557   49.980330\n",
       "GradientBoostingClassifier     89.069995   69.876212   61.435303"
      ]
     },
     "execution_count": 18,
     "metadata": {},
     "output_type": "execute_result"
    }
   ],
   "source": [
    "automl(X_trainval, y_trainval, ada)"
   ]
  },
  {
   "cell_type": "markdown",
   "id": "abf64b5b",
   "metadata": {},
   "source": [
    "<b>TomekLinks</b>"
   ]
  },
  {
   "cell_type": "code",
   "execution_count": 19,
   "id": "2ebf1cb6",
   "metadata": {
    "execution": {
     "iopub.execute_input": "2021-10-22T09:28:10.681672Z",
     "iopub.status.busy": "2021-10-22T09:28:10.680675Z",
     "iopub.status.idle": "2021-10-22T09:33:06.047386Z",
     "shell.execute_reply": "2021-10-22T09:33:06.047386Z",
     "shell.execute_reply.started": "2021-10-22T09:28:10.681672Z"
    }
   },
   "outputs": [
    {
     "name": "stdout",
     "output_type": "stream",
     "text": [
      "LogisticRegressor: done\n",
      "KNeighborsClassifier: done\n",
      "RandomForestClassifier: done\n",
      "GradientBoostingClassifier: done\n"
     ]
    },
    {
     "data": {
      "text/html": [
       "<div>\n",
       "<style scoped>\n",
       "    .dataframe tbody tr th:only-of-type {\n",
       "        vertical-align: middle;\n",
       "    }\n",
       "\n",
       "    .dataframe tbody tr th {\n",
       "        vertical-align: top;\n",
       "    }\n",
       "\n",
       "    .dataframe thead th {\n",
       "        text-align: right;\n",
       "    }\n",
       "</style>\n",
       "<table border=\"1\" class=\"dataframe\">\n",
       "  <thead>\n",
       "    <tr style=\"text-align: right;\">\n",
       "      <th></th>\n",
       "      <th>ave_train_f1</th>\n",
       "      <th>ave_val_f1</th>\n",
       "      <th>runtime</th>\n",
       "    </tr>\n",
       "  </thead>\n",
       "  <tbody>\n",
       "    <tr>\n",
       "      <th>LogisticRegressor</th>\n",
       "      <td>43.246628</td>\n",
       "      <td>41.809101</td>\n",
       "      <td>47.660677</td>\n",
       "    </tr>\n",
       "    <tr>\n",
       "      <th>KNeighborsClassifier</th>\n",
       "      <td>61.961226</td>\n",
       "      <td>42.292090</td>\n",
       "      <td>116.192554</td>\n",
       "    </tr>\n",
       "    <tr>\n",
       "      <th>RandomForestClassifier</th>\n",
       "      <td>99.980667</td>\n",
       "      <td>68.853009</td>\n",
       "      <td>60.865894</td>\n",
       "    </tr>\n",
       "    <tr>\n",
       "      <th>GradientBoostingClassifier</th>\n",
       "      <td>72.972191</td>\n",
       "      <td>70.440647</td>\n",
       "      <td>70.628640</td>\n",
       "    </tr>\n",
       "  </tbody>\n",
       "</table>\n",
       "</div>"
      ],
      "text/plain": [
       "                            ave_train_f1  ave_val_f1     runtime\n",
       "LogisticRegressor              43.246628   41.809101   47.660677\n",
       "KNeighborsClassifier           61.961226   42.292090  116.192554\n",
       "RandomForestClassifier         99.980667   68.853009   60.865894\n",
       "GradientBoostingClassifier     72.972191   70.440647   70.628640"
      ]
     },
     "execution_count": 19,
     "metadata": {},
     "output_type": "execute_result"
    }
   ],
   "source": [
    "automl(X_trainval, y_trainval, tl)"
   ]
  },
  {
   "cell_type": "markdown",
   "id": "f69cafa8",
   "metadata": {},
   "source": [
    "Correctly predicting our dataset's minority improved by using various resampling methods on training and validation set. But in the test set the changes on the F1-scores are minimal, with only 2% increase in F1-score for GBM Classifer using TomekLinks. \n",
    "\n",
    "Initially, we hypothesized that the F1-score will improve after resampling. However, it is not the case for our dataset."
   ]
  },
  {
   "cell_type": "markdown",
   "id": "313de4c5-1b09-457d-8f18-fdb74c9e26e6",
   "metadata": {},
   "source": [
    "## Comparison of test scores"
   ]
  },
  {
   "cell_type": "code",
   "execution_count": 20,
   "id": "502b34ce-606d-4e57-8bc5-2aeeffdf26dd",
   "metadata": {
    "execution": {
     "iopub.execute_input": "2021-10-22T09:33:06.048332Z",
     "iopub.status.busy": "2021-10-22T09:33:06.048332Z",
     "iopub.status.idle": "2021-10-22T09:36:08.129478Z",
     "shell.execute_reply": "2021-10-22T09:36:08.127481Z",
     "shell.execute_reply.started": "2021-10-22T09:33:06.048332Z"
    },
    "tags": []
   },
   "outputs": [],
   "source": [
    "def resamp(X, y, resampler):\n",
    "    X_new, y_new = resampler.fit_resample(X,y)\n",
    "    return X_new, y_new\n",
    "\n",
    "resamplers = [None, sm, ada, tl]\n",
    "dict_ = {}\n",
    "for model_name, model in models_dict.items():\n",
    "    score_list = []\n",
    "    for r in resamplers:\n",
    "        if r:\n",
    "            X_new, y_new = resamp(X_trainval, y_trainval, r)\n",
    "        else:\n",
    "            X_new, y_new = X_trainval, y_trainval\n",
    "        model.fit(X_new, y_new)\n",
    "        \n",
    "        test_score = f1_score(y_test, model.predict(X_test))\n",
    "        score_list.append(test_score)\n",
    "        \n",
    "    dict_[model_name] = score_list\n",
    "    \n",
    "df_test = pd.DataFrame(dict_, index=resamplers)\n"
   ]
  },
  {
   "cell_type": "code",
   "execution_count": 22,
   "id": "224a3eb8-9f59-4ac4-8535-2665803c3bdc",
   "metadata": {
    "execution": {
     "iopub.execute_input": "2021-10-22T09:36:08.144436Z",
     "iopub.status.busy": "2021-10-22T09:36:08.144436Z",
     "iopub.status.idle": "2021-10-22T09:36:08.408763Z",
     "shell.execute_reply": "2021-10-22T09:36:08.408763Z",
     "shell.execute_reply.started": "2021-10-22T09:36:08.144436Z"
    },
    "tags": []
   },
   "outputs": [
    {
     "data": {
      "text/plain": [
       "<AxesSubplot:>"
      ]
     },
     "execution_count": 22,
     "metadata": {},
     "output_type": "execute_result"
    },
    {
     "data": {
      "image/png": "[encoded data removed]",
      "text/plain": [
       "<Figure size 1440x360 with 1 Axes>"
      ]
     },
     "metadata": {
      "needs_background": "light"
     },
     "output_type": "display_data"
    }
   ],
   "source": [
    "fig, ax = plt.subplots(figsize=(20,5))\n",
    "df_test.T.plot(kind='bar', ax=ax)"
   ]
  },
  {
   "cell_type": "code",
   "execution_count": 23,
   "id": "ec65b11f-da50-4fbc-b14c-fcc62db6e93d",
   "metadata": {
    "execution": {
     "iopub.execute_input": "2021-10-22T09:36:08.410724Z",
     "iopub.status.busy": "2021-10-22T09:36:08.410724Z",
     "iopub.status.idle": "2021-10-22T09:36:08.424720Z",
     "shell.execute_reply": "2021-10-22T09:36:08.424720Z",
     "shell.execute_reply.started": "2021-10-22T09:36:08.410724Z"
    },
    "tags": []
   },
   "outputs": [
    {
     "data": {
      "text/html": [
       "<div>\n",
       "<style scoped>\n",
       "    .dataframe tbody tr th:only-of-type {\n",
       "        vertical-align: middle;\n",
       "    }\n",
       "\n",
       "    .dataframe tbody tr th {\n",
       "        vertical-align: top;\n",
       "    }\n",
       "\n",
       "    .dataframe thead th {\n",
       "        text-align: right;\n",
       "    }\n",
       "</style>\n",
       "<table border=\"1\" class=\"dataframe\">\n",
       "  <thead>\n",
       "    <tr style=\"text-align: right;\">\n",
       "      <th></th>\n",
       "      <th>NaN</th>\n",
       "      <th>SMOTE(random_state=11, sampling_strategy=1.0)</th>\n",
       "      <th>ADASYN(random_state=11, sampling_strategy=1.0)</th>\n",
       "      <th>TomekLinks()</th>\n",
       "    </tr>\n",
       "  </thead>\n",
       "  <tbody>\n",
       "    <tr>\n",
       "      <th>LogisticRegressor</th>\n",
       "      <td>0.390231</td>\n",
       "      <td>0.404505</td>\n",
       "      <td>0.403842</td>\n",
       "      <td>0.403319</td>\n",
       "    </tr>\n",
       "    <tr>\n",
       "      <th>KNeighborsClassifier</th>\n",
       "      <td>0.415538</td>\n",
       "      <td>0.443322</td>\n",
       "      <td>0.445627</td>\n",
       "      <td>0.423472</td>\n",
       "    </tr>\n",
       "    <tr>\n",
       "      <th>RandomForestClassifier</th>\n",
       "      <td>0.675883</td>\n",
       "      <td>0.674699</td>\n",
       "      <td>0.677478</td>\n",
       "      <td>0.690676</td>\n",
       "    </tr>\n",
       "    <tr>\n",
       "      <th>GradientBoostingClassifier</th>\n",
       "      <td>0.697061</td>\n",
       "      <td>0.696316</td>\n",
       "      <td>0.700390</td>\n",
       "      <td>0.708238</td>\n",
       "    </tr>\n",
       "  </tbody>\n",
       "</table>\n",
       "</div>"
      ],
      "text/plain": [
       "                                 NaN  \\\n",
       "LogisticRegressor           0.390231   \n",
       "KNeighborsClassifier        0.415538   \n",
       "RandomForestClassifier      0.675883   \n",
       "GradientBoostingClassifier  0.697061   \n",
       "\n",
       "                            SMOTE(random_state=11, sampling_strategy=1.0)  \\\n",
       "LogisticRegressor                                                0.404505   \n",
       "KNeighborsClassifier                                             0.443322   \n",
       "RandomForestClassifier                                           0.674699   \n",
       "GradientBoostingClassifier                                       0.696316   \n",
       "\n",
       "                            ADASYN(random_state=11, sampling_strategy=1.0)  \\\n",
       "LogisticRegressor                                                 0.403842   \n",
       "KNeighborsClassifier                                              0.445627   \n",
       "RandomForestClassifier                                            0.677478   \n",
       "GradientBoostingClassifier                                        0.700390   \n",
       "\n",
       "                            TomekLinks()  \n",
       "LogisticRegressor               0.403319  \n",
       "KNeighborsClassifier            0.423472  \n",
       "RandomForestClassifier          0.690676  \n",
       "GradientBoostingClassifier      0.708238  "
      ]
     },
     "execution_count": 23,
     "metadata": {},
     "output_type": "execute_result"
    }
   ],
   "source": [
    "df_test.T"
   ]
  },
  {
   "cell_type": "markdown",
   "id": "e788d46b",
   "metadata": {},
   "source": [
    "## Sensitivity (Don't Mind this Prof Mike) \n",
    "\n",
    "**(SLT7B also dont mind this section, mali pa ito should be on train-val lang not on test set according to prof mike)**\n",
    "\n",
    "We focused on GBM, since it has the highest F1-score among the models after resampling. Although any model can be used for sensitivity.\n"
   ]
  },
  {
   "cell_type": "markdown",
   "id": "584517a2",
   "metadata": {},
   "source": [
    "### GBM - SMOTE"
   ]
  },
  {
   "cell_type": "markdown",
   "id": "817b0a1f",
   "metadata": {},
   "source": [
    "**Beta**"
   ]
  },
  {
   "cell_type": "code",
   "execution_count": 47,
   "id": "51f707c6-28e6-41cf-ab5b-5297dddd98f3",
   "metadata": {
    "execution": {
     "iopub.execute_input": "2021-10-22T10:23:36.892459Z",
     "iopub.status.busy": "2021-10-22T10:23:36.892459Z",
     "iopub.status.idle": "2021-10-22T10:23:36.900440Z",
     "shell.execute_reply": "2021-10-22T10:23:36.899485Z",
     "shell.execute_reply.started": "2021-10-22T10:23:36.892459Z"
    },
    "tags": []
   },
   "outputs": [],
   "source": [
    "def sensi_beta(X, y, resampler=None):\n",
    "# insert code here\n",
    "    res = {}\n",
    "    model = GradientBoostingClassifier(random_state=11)   \n",
    "    model_start = time.time()\n",
    "    val_scores = []\n",
    "    i = 0\n",
    "    for train_index, val_index in skf.split(X, y):\n",
    "        X_train, X_val = X.iloc[train_index], X.iloc[val_index]\n",
    "        y_train, y_val = y.iloc[train_index], y.iloc[val_index]\n",
    "\n",
    "        if resampler:\n",
    "            (X_train, y_train) = resampler.fit_resample(X_train, y_train)\n",
    "\n",
    "\n",
    "        model.fit(X_train, y_train)\n",
    "\n",
    "\n",
    "\n",
    "        y_pred_val = model.predict(X_val)\n",
    "        val_score = f1_score(y_val, y_pred_val)\n",
    "\n",
    "        val_scores.append(val_score)\n",
    "\n",
    "        i += 1\n",
    "\n",
    "    model_end = time.time() - model_start\n",
    "    \n",
    "    \n",
    "    res['GBM'] = {\n",
    "        f'{i}':np.mean(val_scores) * 100,\n",
    "    }\n",
    "\n",
    "   \n",
    "    df = pd.DataFrame(res).T\n",
    "    return df\n"
   ]
  },
  {
   "cell_type": "code",
   "execution_count": 60,
   "id": "90fb9a2e",
   "metadata": {
    "ExecuteTime": {
     "end_time": "2021-10-19T13:20:52.660992Z",
     "start_time": "2021-10-19T13:19:31.948502Z"
    },
    "execution": {
     "iopub.execute_input": "2021-10-22T11:12:06.021338Z",
     "iopub.status.busy": "2021-10-22T11:12:06.021338Z",
     "iopub.status.idle": "2021-10-22T11:21:16.680075Z",
     "shell.execute_reply": "2021-10-22T11:21:16.679077Z",
     "shell.execute_reply.started": "2021-10-22T11:12:06.021338Z"
    },
    "tags": []
   },
   "outputs": [
    {
     "name": "stdout",
     "output_type": "stream",
     "text": [
      "0.4\n",
      "0.5\n",
      "0.6\n",
      "0.7\n",
      "0.7999999999999999\n",
      "0.8999999999999999\n",
      "0.9999999999999999\n"
     ]
    },
    {
     "data": {
      "text/html": [
       "<div>\n",
       "<style scoped>\n",
       "    .dataframe tbody tr th:only-of-type {\n",
       "        vertical-align: middle;\n",
       "    }\n",
       "\n",
       "    .dataframe tbody tr th {\n",
       "        vertical-align: top;\n",
       "    }\n",
       "\n",
       "    .dataframe thead th {\n",
       "        text-align: right;\n",
       "    }\n",
       "</style>\n",
       "<table border=\"1\" class=\"dataframe\">\n",
       "  <thead>\n",
       "    <tr style=\"text-align: right;\">\n",
       "      <th></th>\n",
       "      <th>0.4</th>\n",
       "      <th>0.5</th>\n",
       "      <th>0.6</th>\n",
       "      <th>0.7</th>\n",
       "      <th>0.8</th>\n",
       "      <th>0.9</th>\n",
       "      <th>1.0</th>\n",
       "    </tr>\n",
       "  </thead>\n",
       "  <tbody>\n",
       "    <tr>\n",
       "      <th>f1_score_gbm</th>\n",
       "      <td>69.639849</td>\n",
       "      <td>69.984268</td>\n",
       "      <td>69.982577</td>\n",
       "      <td>70.123068</td>\n",
       "      <td>69.932985</td>\n",
       "      <td>70.110685</td>\n",
       "      <td>69.958062</td>\n",
       "    </tr>\n",
       "  </tbody>\n",
       "</table>\n",
       "</div>"
      ],
      "text/plain": [
       "                    0.4        0.5        0.6        0.7        0.8  \\\n",
       "f1_score_gbm  69.639849  69.984268  69.982577  70.123068  69.932985   \n",
       "\n",
       "                    0.9        1.0  \n",
       "f1_score_gbm  70.110685  69.958062  "
      ]
     },
     "execution_count": 60,
     "metadata": {},
     "output_type": "execute_result"
    }
   ],
   "source": [
    "beta_list = np.arange(0.4, 1.1, 0.1)\n",
    "\n",
    "df_sm_b = pd.DataFrame()\n",
    "for b in beta_list:\n",
    "    sm = SMOTE(sampling_strategy=b, random_state=11)\n",
    "    df_sm_b = df_sm_b.append(sensi_beta(X_trainval, y_trainval, sm))\n",
    "    print(b)\n",
    "df_sm_b.index = beta_list\n",
    "df_sm_b.columns = ['f1_score_gbm']\n",
    "df_sm_b.T"
   ]
  },
  {
   "cell_type": "markdown",
   "id": "fe76fb34-221c-47b5-be56-f4fcb9fddbfd",
   "metadata": {},
   "source": [
    "**K-Neighbors**"
   ]
  },
  {
   "cell_type": "code",
   "execution_count": 59,
   "id": "b3cd035d-3333-4a0e-bd55-392cbf3f6d99",
   "metadata": {
    "execution": {
     "iopub.execute_input": "2021-10-22T10:54:05.426093Z",
     "iopub.status.busy": "2021-10-22T10:54:05.426093Z",
     "iopub.status.idle": "2021-10-22T11:12:06.017347Z",
     "shell.execute_reply": "2021-10-22T11:12:06.016350Z",
     "shell.execute_reply.started": "2021-10-22T10:54:05.426093Z"
    },
    "scrolled": true,
    "tags": []
   },
   "outputs": [
    {
     "name": "stdout",
     "output_type": "stream",
     "text": [
      "2\n",
      "10\n",
      "18\n",
      "26\n",
      "34\n",
      "42\n",
      "50\n",
      "58\n",
      "66\n",
      "74\n",
      "82\n",
      "90\n",
      "98\n"
     ]
    },
    {
     "data": {
      "text/html": [
       "<div>\n",
       "<style scoped>\n",
       "    .dataframe tbody tr th:only-of-type {\n",
       "        vertical-align: middle;\n",
       "    }\n",
       "\n",
       "    .dataframe tbody tr th {\n",
       "        vertical-align: top;\n",
       "    }\n",
       "\n",
       "    .dataframe thead th {\n",
       "        text-align: right;\n",
       "    }\n",
       "</style>\n",
       "<table border=\"1\" class=\"dataframe\">\n",
       "  <thead>\n",
       "    <tr style=\"text-align: right;\">\n",
       "      <th></th>\n",
       "      <th>2</th>\n",
       "      <th>10</th>\n",
       "      <th>18</th>\n",
       "      <th>26</th>\n",
       "      <th>34</th>\n",
       "      <th>42</th>\n",
       "      <th>50</th>\n",
       "      <th>58</th>\n",
       "      <th>66</th>\n",
       "      <th>74</th>\n",
       "      <th>82</th>\n",
       "      <th>90</th>\n",
       "      <th>98</th>\n",
       "    </tr>\n",
       "  </thead>\n",
       "  <tbody>\n",
       "    <tr>\n",
       "      <th>f1_score_gbm</th>\n",
       "      <td>69.907982</td>\n",
       "      <td>69.988265</td>\n",
       "      <td>69.841814</td>\n",
       "      <td>69.987967</td>\n",
       "      <td>69.941518</td>\n",
       "      <td>69.764669</td>\n",
       "      <td>70.026615</td>\n",
       "      <td>69.832182</td>\n",
       "      <td>69.675251</td>\n",
       "      <td>69.886085</td>\n",
       "      <td>69.757828</td>\n",
       "      <td>69.742525</td>\n",
       "      <td>69.626363</td>\n",
       "    </tr>\n",
       "  </tbody>\n",
       "</table>\n",
       "</div>"
      ],
      "text/plain": [
       "                     2          10         18         26         34  \\\n",
       "f1_score_gbm  69.907982  69.988265  69.841814  69.987967  69.941518   \n",
       "\n",
       "                     42         50         58         66         74  \\\n",
       "f1_score_gbm  69.764669  70.026615  69.832182  69.675251  69.886085   \n",
       "\n",
       "                     82         90         98  \n",
       "f1_score_gbm  69.757828  69.742525  69.626363  "
      ]
     },
     "execution_count": 59,
     "metadata": {},
     "output_type": "execute_result"
    }
   ],
   "source": [
    "df_sm_k = pd.DataFrame()\n",
    "k_list = range(2,100,8)\n",
    "for k in k_list:\n",
    "    sm = SMOTE(sampling_strategy=1.0, random_state=11, k_neighbors=k)\n",
    "    df_sm_k = df_sm_k.append(sensi_beta(X_trainval, y_trainval, sm))\n",
    "    print(k)\n",
    "# df_sm_k.columns = list(k_list)\n",
    "df_sm_k.index = k_list\n",
    "df_sm_k.columns = ['f1_score_gbm']\n",
    "df_sm_k.T"
   ]
  },
  {
   "cell_type": "code",
   "execution_count": null,
   "id": "1b71b440-035b-4ab0-9e3a-1609072a2f12",
   "metadata": {
    "execution": {
     "iopub.status.busy": "2021-10-22T10:53:55.127631Z",
     "iopub.status.idle": "2021-10-22T10:53:55.127631Z",
     "shell.execute_reply": "2021-10-22T10:53:55.127631Z",
     "shell.execute_reply.started": "2021-10-22T10:53:55.127631Z"
    },
    "tags": []
   },
   "outputs": [],
   "source": []
  },
  {
   "cell_type": "markdown",
   "id": "c21141f5",
   "metadata": {},
   "source": [
    "### GBM - Adasyn"
   ]
  },
  {
   "cell_type": "markdown",
   "id": "48c1897e",
   "metadata": {},
   "source": [
    "**Beta**"
   ]
  },
  {
   "cell_type": "code",
   "execution_count": 61,
   "id": "23be7673",
   "metadata": {
    "ExecuteTime": {
     "end_time": "2021-10-19T13:34:03.843597Z",
     "start_time": "2021-10-19T13:32:13.047145Z"
    },
    "execution": {
     "iopub.execute_input": "2021-10-22T12:52:54.535256Z",
     "iopub.status.busy": "2021-10-22T12:52:54.531268Z",
     "iopub.status.idle": "2021-10-22T12:59:45.641252Z",
     "shell.execute_reply": "2021-10-22T12:59:45.640251Z",
     "shell.execute_reply.started": "2021-10-22T12:52:54.534258Z"
    },
    "tags": []
   },
   "outputs": [
    {
     "name": "stdout",
     "output_type": "stream",
     "text": [
      "0.5\n",
      "0.6\n",
      "0.7\n",
      "0.7999999999999999\n",
      "0.8999999999999999\n"
     ]
    },
    {
     "data": {
      "text/html": [
       "<div>\n",
       "<style scoped>\n",
       "    .dataframe tbody tr th:only-of-type {\n",
       "        vertical-align: middle;\n",
       "    }\n",
       "\n",
       "    .dataframe tbody tr th {\n",
       "        vertical-align: top;\n",
       "    }\n",
       "\n",
       "    .dataframe thead th {\n",
       "        text-align: right;\n",
       "    }\n",
       "</style>\n",
       "<table border=\"1\" class=\"dataframe\">\n",
       "  <thead>\n",
       "    <tr style=\"text-align: right;\">\n",
       "      <th></th>\n",
       "      <th>0.5</th>\n",
       "      <th>0.6</th>\n",
       "      <th>0.7</th>\n",
       "      <th>0.8</th>\n",
       "      <th>0.9</th>\n",
       "    </tr>\n",
       "  </thead>\n",
       "  <tbody>\n",
       "    <tr>\n",
       "      <th>f1_score_gbm</th>\n",
       "      <td>70.070017</td>\n",
       "      <td>70.170642</td>\n",
       "      <td>69.924921</td>\n",
       "      <td>70.057919</td>\n",
       "      <td>70.1318</td>\n",
       "    </tr>\n",
       "  </tbody>\n",
       "</table>\n",
       "</div>"
      ],
      "text/plain": [
       "                    0.5        0.6        0.7        0.8      0.9\n",
       "f1_score_gbm  70.070017  70.170642  69.924921  70.057919  70.1318"
      ]
     },
     "execution_count": 61,
     "metadata": {},
     "output_type": "execute_result"
    }
   ],
   "source": [
    "model = GradientBoostingClassifier(random_state=11)\n",
    "beta_list = np.arange(0.5, 1.0, 0.1)\n",
    "\n",
    "df_ada_b = pd.DataFrame()\n",
    "for b in beta_list:\n",
    "    ada = ADASYN(sampling_strategy=b, random_state=11)\n",
    "    df_ada_b = df_ada_b.append(sensi_beta(X_trainval, y_trainval, ada))\n",
    "    print(b)\n",
    "df_ada_b.index = beta_list\n",
    "df_ada_b.columns = ['f1_score_gbm']\n",
    "df_ada_b.T"
   ]
  },
  {
   "cell_type": "markdown",
   "id": "70857641",
   "metadata": {},
   "source": [
    "**K-Neighbors**"
   ]
  },
  {
   "cell_type": "code",
   "execution_count": 62,
   "id": "533a4938",
   "metadata": {
    "ExecuteTime": {
     "end_time": "2021-10-19T13:39:40.537962Z",
     "start_time": "2021-10-19T13:34:08.972769Z"
    },
    "execution": {
     "iopub.execute_input": "2021-10-22T12:59:45.645239Z",
     "iopub.status.busy": "2021-10-22T12:59:45.644243Z",
     "iopub.status.idle": "2021-10-22T13:20:39.382790Z",
     "shell.execute_reply": "2021-10-22T13:20:39.380798Z",
     "shell.execute_reply.started": "2021-10-22T12:59:45.645239Z"
    },
    "scrolled": true,
    "tags": []
   },
   "outputs": [
    {
     "name": "stdout",
     "output_type": "stream",
     "text": [
      "2\n",
      "10\n",
      "18\n",
      "26\n",
      "34\n",
      "42\n",
      "50\n",
      "58\n",
      "66\n",
      "74\n",
      "82\n",
      "90\n",
      "98\n"
     ]
    },
    {
     "data": {
      "text/html": [
       "<div>\n",
       "<style scoped>\n",
       "    .dataframe tbody tr th:only-of-type {\n",
       "        vertical-align: middle;\n",
       "    }\n",
       "\n",
       "    .dataframe tbody tr th {\n",
       "        vertical-align: top;\n",
       "    }\n",
       "\n",
       "    .dataframe thead th {\n",
       "        text-align: right;\n",
       "    }\n",
       "</style>\n",
       "<table border=\"1\" class=\"dataframe\">\n",
       "  <thead>\n",
       "    <tr style=\"text-align: right;\">\n",
       "      <th></th>\n",
       "      <th>2</th>\n",
       "      <th>10</th>\n",
       "      <th>18</th>\n",
       "      <th>26</th>\n",
       "      <th>34</th>\n",
       "      <th>42</th>\n",
       "      <th>50</th>\n",
       "      <th>58</th>\n",
       "      <th>66</th>\n",
       "      <th>74</th>\n",
       "      <th>82</th>\n",
       "      <th>90</th>\n",
       "      <th>98</th>\n",
       "    </tr>\n",
       "  </thead>\n",
       "  <tbody>\n",
       "    <tr>\n",
       "      <th>f1_score_gbm</th>\n",
       "      <td>69.918842</td>\n",
       "      <td>69.869452</td>\n",
       "      <td>69.887073</td>\n",
       "      <td>69.85671</td>\n",
       "      <td>69.697132</td>\n",
       "      <td>69.901389</td>\n",
       "      <td>69.964925</td>\n",
       "      <td>69.82526</td>\n",
       "      <td>69.745633</td>\n",
       "      <td>69.752541</td>\n",
       "      <td>69.740515</td>\n",
       "      <td>69.852133</td>\n",
       "      <td>69.844051</td>\n",
       "    </tr>\n",
       "  </tbody>\n",
       "</table>\n",
       "</div>"
      ],
      "text/plain": [
       "                     2          10         18        26         34         42  \\\n",
       "f1_score_gbm  69.918842  69.869452  69.887073  69.85671  69.697132  69.901389   \n",
       "\n",
       "                     50        58         66         74         82         90  \\\n",
       "f1_score_gbm  69.964925  69.82526  69.745633  69.752541  69.740515  69.852133   \n",
       "\n",
       "                     98  \n",
       "f1_score_gbm  69.844051  "
      ]
     },
     "execution_count": 62,
     "metadata": {},
     "output_type": "execute_result"
    }
   ],
   "source": [
    "k_list = range(2,30,2)\n",
    "df_ada_k = pd.DataFrame()\n",
    "k_list = range(2,100,8)\n",
    "for k in k_list:\n",
    "    ada = ADASYN(sampling_strategy=1.0, random_state=11, n_neighbors=k)\n",
    "    df_ada_k = df_ada_k.append(sensi_beta(X_trainval, y_trainval, ada))\n",
    "    print(k)\n",
    "\n",
    "df_ada_k.index = k_list\n",
    "df_ada_k.columns = ['f1_score_gbm']\n",
    "df_ada_k.T"
   ]
  },
  {
   "cell_type": "code",
   "execution_count": null,
   "id": "ef7129a4-71ae-472b-9a23-77f637d57fbb",
   "metadata": {},
   "outputs": [],
   "source": []
  },
  {
   "cell_type": "code",
   "execution_count": null,
   "id": "a83691ed-6bb8-47d3-aaa9-2cabf6c0afd5",
   "metadata": {},
   "outputs": [],
   "source": []
  },
  {
   "cell_type": "code",
   "execution_count": null,
   "id": "dbaadfe7-0378-44e7-836b-c7630afc095c",
   "metadata": {},
   "outputs": [],
   "source": []
  },
  {
   "cell_type": "code",
   "execution_count": null,
   "id": "157de5c4-c9a2-432f-9215-0031c1ada524",
   "metadata": {},
   "outputs": [],
   "source": []
  },
  {
   "cell_type": "markdown",
   "id": "b83a38b5",
   "metadata": {},
   "source": [
    "As observed in the sensitivity tests with focus on GBM, the F1-scores and the run times have no apparent changes as the beta and k-Neighbors were varied."
   ]
  },
  {
   "cell_type": "code",
   "execution_count": null,
   "id": "70f4f5ac-52a7-4aad-829a-c6b12c455954",
   "metadata": {},
   "outputs": [],
   "source": []
  },
  {
   "cell_type": "code",
   "execution_count": 63,
   "id": "e8c46f4e-30d2-4711-80fd-0368ebd0d578",
   "metadata": {
    "execution": {
     "iopub.execute_input": "2021-10-22T14:27:20.756436Z",
     "iopub.status.busy": "2021-10-22T14:27:20.754441Z",
     "iopub.status.idle": "2021-10-22T14:27:27.149172Z",
     "shell.execute_reply": "2021-10-22T14:27:27.147176Z",
     "shell.execute_reply.started": "2021-10-22T14:27:20.756436Z"
    },
    "tags": []
   },
   "outputs": [],
   "source": [
    "import optuna"
   ]
  },
  {
   "cell_type": "code",
   "execution_count": null,
   "id": "70759c80-ae9e-4fee-81af-1ec5d4e5a027",
   "metadata": {},
   "outputs": [],
   "source": [
    "def tune_GBM(X, y):\n",
    "    from optuna.samplers import RandomSampler\n",
    "    from sklearn.ensemble import GradientBoostingClassifier\n",
    "    from sklearn.model_selection import cross_validate\n",
    "    \n",
    "    def optimize(trial):\n",
    "        # Definition of space search\n",
    "        n_estimators = trial.suggest_int('n_estimators', 10,800, step=10)\n",
    "        max_depth = trial.suggest_int('max_depth', 2,7)\n",
    "        max_features = trial.suggest_categorical('max_features', ['sqrt', 'log2'])\n",
    "        learning_rate = trial.suggest_float('learning_rate', 1e-6, 1e-1)\n",
    "        \n",
    "        # Classifier definition\n",
    "        model = GradientBoostingClassifier(n_estimators=n_estimators,\n",
    "                                           max_depth=max_depth,\n",
    "                                           max_features=max_features,\n",
    "                                           learning_rate=learning_rate)\n",
    "\n",
    "    \n",
    "        cr_val = cross_validate(model, X, y, cv=skf, scoring=['accuracy'], return_train_score=False)\n",
    "        return np.mean(cr_val['test_accuracy'])\n",
    "    \n",
    "    study = optuna.create_study(direction='maximize')\n",
    "    study.optimize(optimize, n_trials=50, n_jobs=4)\n",
    "    return study, optimize"
   ]
  },
  {
   "cell_type": "code",
   "execution_count": 64,
   "id": "0d72e376-275b-4bb0-b782-6f13066fd996",
   "metadata": {
    "execution": {
     "iopub.execute_input": "2021-10-22T15:55:16.692433Z",
     "iopub.status.busy": "2021-10-22T15:55:16.689441Z",
     "iopub.status.idle": "2021-10-22T15:55:16.760256Z",
     "shell.execute_reply": "2021-10-22T15:55:16.759256Z",
     "shell.execute_reply.started": "2021-10-22T15:55:16.692433Z"
    },
    "tags": []
   },
   "outputs": [
    {
     "data": {
      "text/plain": [
       "StratifiedKFold(n_splits=5, random_state=None, shuffle=False)"
      ]
     },
     "execution_count": 64,
     "metadata": {},
     "output_type": "execute_result"
    }
   ],
   "source": [
    "skf"
   ]
  },
  {
   "cell_type": "code",
   "execution_count": null,
   "id": "f93eb49d-53ed-4673-a3c1-4910fd12d5ea",
   "metadata": {},
   "outputs": [],
   "source": []
  }
 ],
 "metadata": {
  "hide_input": false,
  "kernelspec": {
   "display_name": "Python 3 (ipykernel)",
   "language": "python",
   "name": "python3"
  },
  "language_info": {
   "codemirror_mode": {
    "name": "ipython",
    "version": 3
   },
   "file_extension": ".py",
   "mimetype": "text/x-python",
   "name": "python",
   "nbconvert_exporter": "python",
   "pygments_lexer": "ipython3",
   "version": "3.8.11"
  },
  "toc": {
   "base_numbering": 1,
   "nav_menu": {},
   "number_sections": true,
   "sideBar": true,
   "skip_h1_title": false,
   "title_cell": "Table of Contents",
   "title_sidebar": "Contents",
   "toc_cell": false,
   "toc_position": {},
   "toc_section_display": true,
   "toc_window_display": true
  }
 },
 "nbformat": 4,
 "nbformat_minor": 5
}
