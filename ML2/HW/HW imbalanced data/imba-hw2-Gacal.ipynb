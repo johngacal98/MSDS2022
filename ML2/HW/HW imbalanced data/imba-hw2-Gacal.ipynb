{
 "cells": [
  {
   "cell_type": "markdown",
   "id": "c1173cca",
   "metadata": {},
   "source": [
    "# Homework 2: Imbalanced Classification (by SLT)\n",
    "**Deadline:** October 20, 11:59PM.\n",
    "\n",
    "**Instructions:**\n",
    "In this homework, you will be given a flexibility to choose a dataset you want to work on. For reference, you may use the answers of the cohort in the earlier exercise, see [link](https://docs.google.com/presentation/d/1uXrwW7yz4VBLxoZMbwtdtU2sf0z-OeK0FyB5EHU4L5Q/edit?usp=sharing).\n",
    "\n",
    "The sections below are provided as guide on how you can structure your work to meet the minimum requirements for this homework, which are:\n",
    "1. Brief description of the data: objective, data dictionary, minimal EDA relevant to the objective.\n",
    "2. `automl` results using default hyperparameters of `sklearn` classifiers, use an appropriate metric beginning at this step. Include a brief (1-2 sentences) discussion of the chosen metric.\n",
    "3. A confusion matrix for the chosen classifier from the above step, include a brief discussion of the matrix.\n",
    "4. Perform 3 resampling techniques (excluding, Random Oversampling and Random Undersampling)\n",
    "    * SMOTE (required)\n",
    "    * ADASYN (required)\n",
    "    * A technique not discussed in class\n",
    "*Note: You may use the* `imblearn` *implementations instead of the function provided during the lecture*\n",
    "\n",
    "5. Re-run our `automl` (default model hyperparameters) using the resampled training data. Comment on the differences.\n",
    "\n",
    "6. *Optional:* You may choose to tune your resampling parameters (e.g. $\\beta$, $K$) and show sensitivity plots for additional $Angas^{TM}$ points.\n",
    "\n",
    "\n",
    "**Some Flexibilities you can take advantage of:**\n",
    "* `StratifiedKFold` number of folds\n",
    "* The classifiers you wish to use (minimum of 3)\n",
    "* Size of the dataset"
   ]
  },
  {
   "cell_type": "code",
   "execution_count": 1,
   "id": "eb8642fa-cdb8-4d17-aac5-a6ab91407f7e",
   "metadata": {
    "execution": {
     "iopub.execute_input": "2021-10-19T12:11:50.088661Z",
     "iopub.status.busy": "2021-10-19T12:11:50.088661Z",
     "iopub.status.idle": "2021-10-19T12:11:52.663883Z",
     "shell.execute_reply": "2021-10-19T12:11:52.663883Z",
     "shell.execute_reply.started": "2021-10-19T12:11:50.088661Z"
    },
    "tags": []
   },
   "outputs": [],
   "source": [
    "import pandas as pd\n",
    "import numpy as np\n",
    "import matplotlib.pyplot as plt\n",
    "import seaborn as sns\n",
    "import os"
   ]
  },
  {
   "cell_type": "markdown",
   "id": "86a50d8b",
   "metadata": {},
   "source": [
    "## Brief Description of the Dataset Used"
   ]
  },
  {
   "cell_type": "code",
   "execution_count": 2,
   "id": "082d6147",
   "metadata": {
    "execution": {
     "iopub.execute_input": "2021-10-19T12:11:52.664757Z",
     "iopub.status.busy": "2021-10-19T12:11:52.664757Z",
     "iopub.status.idle": "2021-10-19T12:11:52.774464Z",
     "shell.execute_reply": "2021-10-19T12:11:52.774464Z",
     "shell.execute_reply.started": "2021-10-19T12:11:52.664757Z"
    },
    "tags": []
   },
   "outputs": [
    {
     "data": {
      "text/html": [
       "<div>\n",
       "<style scoped>\n",
       "    .dataframe tbody tr th:only-of-type {\n",
       "        vertical-align: middle;\n",
       "    }\n",
       "\n",
       "    .dataframe tbody tr th {\n",
       "        vertical-align: top;\n",
       "    }\n",
       "\n",
       "    .dataframe thead th {\n",
       "        text-align: right;\n",
       "    }\n",
       "</style>\n",
       "<table border=\"1\" class=\"dataframe\">\n",
       "  <thead>\n",
       "    <tr style=\"text-align: right;\">\n",
       "      <th></th>\n",
       "      <th>age</th>\n",
       "      <th>workclass</th>\n",
       "      <th>fnlwgt</th>\n",
       "      <th>education</th>\n",
       "      <th>education-num</th>\n",
       "      <th>marital-status</th>\n",
       "      <th>occupation</th>\n",
       "      <th>relationship</th>\n",
       "      <th>race</th>\n",
       "      <th>sex</th>\n",
       "      <th>capital-gain</th>\n",
       "      <th>capital-loss</th>\n",
       "      <th>hours-per-week</th>\n",
       "      <th>native-country</th>\n",
       "      <th>class</th>\n",
       "    </tr>\n",
       "  </thead>\n",
       "  <tbody>\n",
       "    <tr>\n",
       "      <th>0</th>\n",
       "      <td>25</td>\n",
       "      <td>Private</td>\n",
       "      <td>226802</td>\n",
       "      <td>11th</td>\n",
       "      <td>7</td>\n",
       "      <td>Never-married</td>\n",
       "      <td>Machine-op-inspct</td>\n",
       "      <td>Own-child</td>\n",
       "      <td>Black</td>\n",
       "      <td>Male</td>\n",
       "      <td>0</td>\n",
       "      <td>0</td>\n",
       "      <td>40</td>\n",
       "      <td>United-States</td>\n",
       "      <td>&lt;=50K</td>\n",
       "    </tr>\n",
       "    <tr>\n",
       "      <th>1</th>\n",
       "      <td>38</td>\n",
       "      <td>Private</td>\n",
       "      <td>89814</td>\n",
       "      <td>HS-grad</td>\n",
       "      <td>9</td>\n",
       "      <td>Married-civ-spouse</td>\n",
       "      <td>Farming-fishing</td>\n",
       "      <td>Husband</td>\n",
       "      <td>White</td>\n",
       "      <td>Male</td>\n",
       "      <td>0</td>\n",
       "      <td>0</td>\n",
       "      <td>50</td>\n",
       "      <td>United-States</td>\n",
       "      <td>&lt;=50K</td>\n",
       "    </tr>\n",
       "    <tr>\n",
       "      <th>2</th>\n",
       "      <td>28</td>\n",
       "      <td>Local-gov</td>\n",
       "      <td>336951</td>\n",
       "      <td>Assoc-acdm</td>\n",
       "      <td>12</td>\n",
       "      <td>Married-civ-spouse</td>\n",
       "      <td>Protective-serv</td>\n",
       "      <td>Husband</td>\n",
       "      <td>White</td>\n",
       "      <td>Male</td>\n",
       "      <td>0</td>\n",
       "      <td>0</td>\n",
       "      <td>40</td>\n",
       "      <td>United-States</td>\n",
       "      <td>&gt;50K</td>\n",
       "    </tr>\n",
       "    <tr>\n",
       "      <th>3</th>\n",
       "      <td>44</td>\n",
       "      <td>Private</td>\n",
       "      <td>160323</td>\n",
       "      <td>Some-college</td>\n",
       "      <td>10</td>\n",
       "      <td>Married-civ-spouse</td>\n",
       "      <td>Machine-op-inspct</td>\n",
       "      <td>Husband</td>\n",
       "      <td>Black</td>\n",
       "      <td>Male</td>\n",
       "      <td>7688</td>\n",
       "      <td>0</td>\n",
       "      <td>40</td>\n",
       "      <td>United-States</td>\n",
       "      <td>&gt;50K</td>\n",
       "    </tr>\n",
       "    <tr>\n",
       "      <th>4</th>\n",
       "      <td>18</td>\n",
       "      <td>?</td>\n",
       "      <td>103497</td>\n",
       "      <td>Some-college</td>\n",
       "      <td>10</td>\n",
       "      <td>Never-married</td>\n",
       "      <td>?</td>\n",
       "      <td>Own-child</td>\n",
       "      <td>White</td>\n",
       "      <td>Female</td>\n",
       "      <td>0</td>\n",
       "      <td>0</td>\n",
       "      <td>30</td>\n",
       "      <td>United-States</td>\n",
       "      <td>&lt;=50K</td>\n",
       "    </tr>\n",
       "  </tbody>\n",
       "</table>\n",
       "</div>"
      ],
      "text/plain": [
       "   age   workclass  fnlwgt      education  education-num       marital-status  \\\n",
       "0   25     Private  226802           11th              7        Never-married   \n",
       "1   38     Private   89814        HS-grad              9   Married-civ-spouse   \n",
       "2   28   Local-gov  336951     Assoc-acdm             12   Married-civ-spouse   \n",
       "3   44     Private  160323   Some-college             10   Married-civ-spouse   \n",
       "4   18           ?  103497   Some-college             10        Never-married   \n",
       "\n",
       "           occupation relationship    race      sex  capital-gain  \\\n",
       "0   Machine-op-inspct    Own-child   Black     Male             0   \n",
       "1     Farming-fishing      Husband   White     Male             0   \n",
       "2     Protective-serv      Husband   White     Male             0   \n",
       "3   Machine-op-inspct      Husband   Black     Male          7688   \n",
       "4                   ?    Own-child   White   Female             0   \n",
       "\n",
       "   capital-loss  hours-per-week  native-country   class  \n",
       "0             0              40   United-States   <=50K  \n",
       "1             0              50   United-States   <=50K  \n",
       "2             0              40   United-States    >50K  \n",
       "3             0              40   United-States    >50K  \n",
       "4             0              30   United-States   <=50K  "
      ]
     },
     "execution_count": 2,
     "metadata": {},
     "output_type": "execute_result"
    }
   ],
   "source": [
    "# insert code here\n",
    "# absolute_path = os.path.abspath(\"C:\\\\Users\\\\JG\\\\jupyter directory\\\\datasets\\\\adult.csv\")\n",
    "df = pd.read_csv(\"C:\\\\Users\\\\JG\\\\jupyter directory\\\\datasets\\\\adult.csv\")\n",
    "df.head()"
   ]
  },
  {
   "cell_type": "markdown",
   "id": "8c5b4e3a",
   "metadata": {},
   "source": [
    "*Discuss here*"
   ]
  },
  {
   "cell_type": "markdown",
   "id": "772516dd-6d88-459d-97cb-7c59406903a6",
   "metadata": {},
   "source": [
    "## Preprocessing"
   ]
  },
  {
   "cell_type": "code",
   "execution_count": 3,
   "id": "a3d9057e-fe12-4ee7-bb0a-6f673589ca89",
   "metadata": {
    "execution": {
     "iopub.execute_input": "2021-10-19T12:11:52.776458Z",
     "iopub.status.busy": "2021-10-19T12:11:52.775461Z",
     "iopub.status.idle": "2021-10-19T12:11:53.395801Z",
     "shell.execute_reply": "2021-10-19T12:11:53.394943Z",
     "shell.execute_reply.started": "2021-10-19T12:11:52.776458Z"
    },
    "tags": []
   },
   "outputs": [
    {
     "data": {
      "text/html": [
       "<div>\n",
       "<style scoped>\n",
       "    .dataframe tbody tr th:only-of-type {\n",
       "        vertical-align: middle;\n",
       "    }\n",
       "\n",
       "    .dataframe tbody tr th {\n",
       "        vertical-align: top;\n",
       "    }\n",
       "\n",
       "    .dataframe thead th {\n",
       "        text-align: right;\n",
       "    }\n",
       "</style>\n",
       "<table border=\"1\" class=\"dataframe\">\n",
       "  <thead>\n",
       "    <tr style=\"text-align: right;\">\n",
       "      <th></th>\n",
       "      <th>age</th>\n",
       "      <th>fnlwgt</th>\n",
       "      <th>education-num</th>\n",
       "      <th>sex</th>\n",
       "      <th>capital-gain</th>\n",
       "      <th>capital-loss</th>\n",
       "      <th>hours-per-week</th>\n",
       "      <th>Federal-gov</th>\n",
       "      <th>Local-gov</th>\n",
       "      <th>Private</th>\n",
       "      <th>...</th>\n",
       "      <th>Puerto-Rico</th>\n",
       "      <th>Scotland</th>\n",
       "      <th>South</th>\n",
       "      <th>Taiwan</th>\n",
       "      <th>Thailand</th>\n",
       "      <th>Trinadad&amp;Tobago</th>\n",
       "      <th>United-States</th>\n",
       "      <th>Vietnam</th>\n",
       "      <th>Yugoslavia</th>\n",
       "      <th>target</th>\n",
       "    </tr>\n",
       "  </thead>\n",
       "  <tbody>\n",
       "    <tr>\n",
       "      <th>0</th>\n",
       "      <td>25</td>\n",
       "      <td>226802</td>\n",
       "      <td>7</td>\n",
       "      <td>1</td>\n",
       "      <td>0</td>\n",
       "      <td>0</td>\n",
       "      <td>40</td>\n",
       "      <td>0</td>\n",
       "      <td>0</td>\n",
       "      <td>1</td>\n",
       "      <td>...</td>\n",
       "      <td>0</td>\n",
       "      <td>0</td>\n",
       "      <td>0</td>\n",
       "      <td>0</td>\n",
       "      <td>0</td>\n",
       "      <td>0</td>\n",
       "      <td>1</td>\n",
       "      <td>0</td>\n",
       "      <td>0</td>\n",
       "      <td>0</td>\n",
       "    </tr>\n",
       "    <tr>\n",
       "      <th>1</th>\n",
       "      <td>38</td>\n",
       "      <td>89814</td>\n",
       "      <td>9</td>\n",
       "      <td>1</td>\n",
       "      <td>0</td>\n",
       "      <td>0</td>\n",
       "      <td>50</td>\n",
       "      <td>0</td>\n",
       "      <td>0</td>\n",
       "      <td>1</td>\n",
       "      <td>...</td>\n",
       "      <td>0</td>\n",
       "      <td>0</td>\n",
       "      <td>0</td>\n",
       "      <td>0</td>\n",
       "      <td>0</td>\n",
       "      <td>0</td>\n",
       "      <td>1</td>\n",
       "      <td>0</td>\n",
       "      <td>0</td>\n",
       "      <td>0</td>\n",
       "    </tr>\n",
       "    <tr>\n",
       "      <th>2</th>\n",
       "      <td>28</td>\n",
       "      <td>336951</td>\n",
       "      <td>12</td>\n",
       "      <td>1</td>\n",
       "      <td>0</td>\n",
       "      <td>0</td>\n",
       "      <td>40</td>\n",
       "      <td>0</td>\n",
       "      <td>1</td>\n",
       "      <td>0</td>\n",
       "      <td>...</td>\n",
       "      <td>0</td>\n",
       "      <td>0</td>\n",
       "      <td>0</td>\n",
       "      <td>0</td>\n",
       "      <td>0</td>\n",
       "      <td>0</td>\n",
       "      <td>1</td>\n",
       "      <td>0</td>\n",
       "      <td>0</td>\n",
       "      <td>1</td>\n",
       "    </tr>\n",
       "    <tr>\n",
       "      <th>3</th>\n",
       "      <td>44</td>\n",
       "      <td>160323</td>\n",
       "      <td>10</td>\n",
       "      <td>1</td>\n",
       "      <td>7688</td>\n",
       "      <td>0</td>\n",
       "      <td>40</td>\n",
       "      <td>0</td>\n",
       "      <td>0</td>\n",
       "      <td>1</td>\n",
       "      <td>...</td>\n",
       "      <td>0</td>\n",
       "      <td>0</td>\n",
       "      <td>0</td>\n",
       "      <td>0</td>\n",
       "      <td>0</td>\n",
       "      <td>0</td>\n",
       "      <td>1</td>\n",
       "      <td>0</td>\n",
       "      <td>0</td>\n",
       "      <td>1</td>\n",
       "    </tr>\n",
       "    <tr>\n",
       "      <th>5</th>\n",
       "      <td>34</td>\n",
       "      <td>198693</td>\n",
       "      <td>6</td>\n",
       "      <td>1</td>\n",
       "      <td>0</td>\n",
       "      <td>0</td>\n",
       "      <td>30</td>\n",
       "      <td>0</td>\n",
       "      <td>0</td>\n",
       "      <td>1</td>\n",
       "      <td>...</td>\n",
       "      <td>0</td>\n",
       "      <td>0</td>\n",
       "      <td>0</td>\n",
       "      <td>0</td>\n",
       "      <td>0</td>\n",
       "      <td>0</td>\n",
       "      <td>1</td>\n",
       "      <td>0</td>\n",
       "      <td>0</td>\n",
       "      <td>0</td>\n",
       "    </tr>\n",
       "    <tr>\n",
       "      <th>...</th>\n",
       "      <td>...</td>\n",
       "      <td>...</td>\n",
       "      <td>...</td>\n",
       "      <td>...</td>\n",
       "      <td>...</td>\n",
       "      <td>...</td>\n",
       "      <td>...</td>\n",
       "      <td>...</td>\n",
       "      <td>...</td>\n",
       "      <td>...</td>\n",
       "      <td>...</td>\n",
       "      <td>...</td>\n",
       "      <td>...</td>\n",
       "      <td>...</td>\n",
       "      <td>...</td>\n",
       "      <td>...</td>\n",
       "      <td>...</td>\n",
       "      <td>...</td>\n",
       "      <td>...</td>\n",
       "      <td>...</td>\n",
       "      <td>...</td>\n",
       "    </tr>\n",
       "    <tr>\n",
       "      <th>48837</th>\n",
       "      <td>27</td>\n",
       "      <td>257302</td>\n",
       "      <td>12</td>\n",
       "      <td>0</td>\n",
       "      <td>0</td>\n",
       "      <td>0</td>\n",
       "      <td>38</td>\n",
       "      <td>0</td>\n",
       "      <td>0</td>\n",
       "      <td>1</td>\n",
       "      <td>...</td>\n",
       "      <td>0</td>\n",
       "      <td>0</td>\n",
       "      <td>0</td>\n",
       "      <td>0</td>\n",
       "      <td>0</td>\n",
       "      <td>0</td>\n",
       "      <td>1</td>\n",
       "      <td>0</td>\n",
       "      <td>0</td>\n",
       "      <td>0</td>\n",
       "    </tr>\n",
       "    <tr>\n",
       "      <th>48838</th>\n",
       "      <td>40</td>\n",
       "      <td>154374</td>\n",
       "      <td>9</td>\n",
       "      <td>1</td>\n",
       "      <td>0</td>\n",
       "      <td>0</td>\n",
       "      <td>40</td>\n",
       "      <td>0</td>\n",
       "      <td>0</td>\n",
       "      <td>1</td>\n",
       "      <td>...</td>\n",
       "      <td>0</td>\n",
       "      <td>0</td>\n",
       "      <td>0</td>\n",
       "      <td>0</td>\n",
       "      <td>0</td>\n",
       "      <td>0</td>\n",
       "      <td>1</td>\n",
       "      <td>0</td>\n",
       "      <td>0</td>\n",
       "      <td>1</td>\n",
       "    </tr>\n",
       "    <tr>\n",
       "      <th>48839</th>\n",
       "      <td>58</td>\n",
       "      <td>151910</td>\n",
       "      <td>9</td>\n",
       "      <td>0</td>\n",
       "      <td>0</td>\n",
       "      <td>0</td>\n",
       "      <td>40</td>\n",
       "      <td>0</td>\n",
       "      <td>0</td>\n",
       "      <td>1</td>\n",
       "      <td>...</td>\n",
       "      <td>0</td>\n",
       "      <td>0</td>\n",
       "      <td>0</td>\n",
       "      <td>0</td>\n",
       "      <td>0</td>\n",
       "      <td>0</td>\n",
       "      <td>1</td>\n",
       "      <td>0</td>\n",
       "      <td>0</td>\n",
       "      <td>0</td>\n",
       "    </tr>\n",
       "    <tr>\n",
       "      <th>48840</th>\n",
       "      <td>22</td>\n",
       "      <td>201490</td>\n",
       "      <td>9</td>\n",
       "      <td>1</td>\n",
       "      <td>0</td>\n",
       "      <td>0</td>\n",
       "      <td>20</td>\n",
       "      <td>0</td>\n",
       "      <td>0</td>\n",
       "      <td>1</td>\n",
       "      <td>...</td>\n",
       "      <td>0</td>\n",
       "      <td>0</td>\n",
       "      <td>0</td>\n",
       "      <td>0</td>\n",
       "      <td>0</td>\n",
       "      <td>0</td>\n",
       "      <td>1</td>\n",
       "      <td>0</td>\n",
       "      <td>0</td>\n",
       "      <td>0</td>\n",
       "    </tr>\n",
       "    <tr>\n",
       "      <th>48841</th>\n",
       "      <td>52</td>\n",
       "      <td>287927</td>\n",
       "      <td>9</td>\n",
       "      <td>0</td>\n",
       "      <td>15024</td>\n",
       "      <td>0</td>\n",
       "      <td>40</td>\n",
       "      <td>0</td>\n",
       "      <td>0</td>\n",
       "      <td>0</td>\n",
       "      <td>...</td>\n",
       "      <td>0</td>\n",
       "      <td>0</td>\n",
       "      <td>0</td>\n",
       "      <td>0</td>\n",
       "      <td>0</td>\n",
       "      <td>0</td>\n",
       "      <td>1</td>\n",
       "      <td>0</td>\n",
       "      <td>0</td>\n",
       "      <td>1</td>\n",
       "    </tr>\n",
       "  </tbody>\n",
       "</table>\n",
       "<p>45222 rows × 88 columns</p>\n",
       "</div>"
      ],
      "text/plain": [
       "       age  fnlwgt  education-num  sex  capital-gain  capital-loss  \\\n",
       "0       25  226802              7    1             0             0   \n",
       "1       38   89814              9    1             0             0   \n",
       "2       28  336951             12    1             0             0   \n",
       "3       44  160323             10    1          7688             0   \n",
       "5       34  198693              6    1             0             0   \n",
       "...    ...     ...            ...  ...           ...           ...   \n",
       "48837   27  257302             12    0             0             0   \n",
       "48838   40  154374              9    1             0             0   \n",
       "48839   58  151910              9    0             0             0   \n",
       "48840   22  201490              9    1             0             0   \n",
       "48841   52  287927              9    0         15024             0   \n",
       "\n",
       "       hours-per-week  Federal-gov  Local-gov  Private  ...  Puerto-Rico  \\\n",
       "0                  40            0          0        1  ...            0   \n",
       "1                  50            0          0        1  ...            0   \n",
       "2                  40            0          1        0  ...            0   \n",
       "3                  40            0          0        1  ...            0   \n",
       "5                  30            0          0        1  ...            0   \n",
       "...               ...          ...        ...      ...  ...          ...   \n",
       "48837              38            0          0        1  ...            0   \n",
       "48838              40            0          0        1  ...            0   \n",
       "48839              40            0          0        1  ...            0   \n",
       "48840              20            0          0        1  ...            0   \n",
       "48841              40            0          0        0  ...            0   \n",
       "\n",
       "       Scotland  South  Taiwan  Thailand  Trinadad&Tobago  United-States  \\\n",
       "0             0      0       0         0                0              1   \n",
       "1             0      0       0         0                0              1   \n",
       "2             0      0       0         0                0              1   \n",
       "3             0      0       0         0                0              1   \n",
       "5             0      0       0         0                0              1   \n",
       "...         ...    ...     ...       ...              ...            ...   \n",
       "48837         0      0       0         0                0              1   \n",
       "48838         0      0       0         0                0              1   \n",
       "48839         0      0       0         0                0              1   \n",
       "48840         0      0       0         0                0              1   \n",
       "48841         0      0       0         0                0              1   \n",
       "\n",
       "       Vietnam  Yugoslavia  target  \n",
       "0            0           0       0  \n",
       "1            0           0       0  \n",
       "2            0           0       1  \n",
       "3            0           0       1  \n",
       "5            0           0       0  \n",
       "...        ...         ...     ...  \n",
       "48837        0           0       0  \n",
       "48838        0           0       1  \n",
       "48839        0           0       0  \n",
       "48840        0           0       0  \n",
       "48841        0           0       1  \n",
       "\n",
       "[45222 rows x 88 columns]"
      ]
     },
     "execution_count": 3,
     "metadata": {},
     "output_type": "execute_result"
    }
   ],
   "source": [
    "df = df.applymap(lambda x: x.strip() if type(x) == str else x).applymap(lambda x: np.nan if x=='?' else x)\n",
    "df = df.dropna(subset=['workclass', 'occupation', 'native-country'], axis=0)\n",
    "df = df.drop(['education'], axis=1)\n",
    "dummies = pd.concat([pd.get_dummies(df['workclass']), \n",
    "                     pd.get_dummies(df['marital-status']),\n",
    "                     pd.get_dummies(df['occupation']),\n",
    "                     pd.get_dummies(df['relationship']),\n",
    "                     pd.get_dummies(df['race']),\n",
    "                     pd.get_dummies(df['native-country'])], axis=1)\n",
    "df = pd.concat([df, dummies], axis=1).drop(['workclass', 'marital-status', 'occupation', 'relationship', 'race', 'native-country'], axis=1)\n",
    "df['target'] = df['class'].apply(lambda x: 0 if x=='<=50K' else 1)\n",
    "df = df.drop(['class'], axis=1)\n",
    "df['sex'] = df['sex'].apply(lambda x: 1 if x=='Male' else 0)\n",
    "df"
   ]
  },
  {
   "cell_type": "markdown",
   "id": "f323c75f-86ca-4536-9bd3-056111cd849e",
   "metadata": {},
   "source": [
    "0 : <=50k <br>1: >50K"
   ]
  },
  {
   "cell_type": "code",
   "execution_count": 4,
   "id": "ceab04ed-af3f-4442-adb2-d430aa268316",
   "metadata": {
    "execution": {
     "iopub.execute_input": "2021-10-19T12:11:53.397797Z",
     "iopub.status.busy": "2021-10-19T12:11:53.396800Z",
     "iopub.status.idle": "2021-10-19T12:11:53.610228Z",
     "shell.execute_reply": "2021-10-19T12:11:53.609235Z",
     "shell.execute_reply.started": "2021-10-19T12:11:53.397797Z"
    },
    "tags": []
   },
   "outputs": [
    {
     "name": "stdout",
     "output_type": "stream",
     "text": [
      "0    0.752156\n",
      "1    0.247844\n",
      "Name: target, dtype: float64\n"
     ]
    },
    {
     "data": {
      "image/png": "[encoded data removed]",
      "text/plain": [
       "<Figure size 432x288 with 1 Axes>"
      ]
     },
     "metadata": {
      "needs_background": "light"
     },
     "output_type": "display_data"
    }
   ],
   "source": [
    "df['target'].value_counts(normalize=True).plot(kind='bar')\n",
    "print(df['target'].value_counts(normalize=True))"
   ]
  },
  {
   "cell_type": "code",
   "execution_count": 5,
   "id": "6b796ef7-893b-4d0f-a7e2-e5cde64fe7c7",
   "metadata": {
    "execution": {
     "iopub.execute_input": "2021-10-19T12:11:53.612232Z",
     "iopub.status.busy": "2021-10-19T12:11:53.611226Z",
     "iopub.status.idle": "2021-10-19T12:11:53.625188Z",
     "shell.execute_reply": "2021-10-19T12:11:53.625188Z",
     "shell.execute_reply.started": "2021-10-19T12:11:53.612232Z"
    },
    "tags": []
   },
   "outputs": [
    {
     "data": {
      "text/plain": [
       "0.7839566589795592"
      ]
     },
     "execution_count": 5,
     "metadata": {},
     "output_type": "execute_result"
    }
   ],
   "source": [
    "pcc = df['target'].value_counts(normalize=True)**2\n",
    "np.sum(pcc)*1.25"
   ]
  },
  {
   "cell_type": "markdown",
   "id": "9ee8b3f0",
   "metadata": {},
   "source": [
    "## `automl` Default runs"
   ]
  },
  {
   "cell_type": "code",
   "execution_count": 6,
   "id": "7f27c97b-f3d0-40a6-a40e-a6654eb28523",
   "metadata": {
    "execution": {
     "iopub.execute_input": "2021-10-19T12:11:53.628184Z",
     "iopub.status.busy": "2021-10-19T12:11:53.627184Z",
     "iopub.status.idle": "2021-10-19T12:11:53.641288Z",
     "shell.execute_reply": "2021-10-19T12:11:53.641288Z",
     "shell.execute_reply.started": "2021-10-19T12:11:53.627184Z"
    },
    "tags": []
   },
   "outputs": [],
   "source": [
    "X = df.drop('target', axis=1)\n",
    "y = df['target']\n",
    "feature_names = X.columns"
   ]
  },
  {
   "cell_type": "code",
   "execution_count": 7,
   "id": "c3eb6f66",
   "metadata": {
    "execution": {
     "iopub.execute_input": "2021-10-19T12:11:53.642144Z",
     "iopub.status.busy": "2021-10-19T12:11:53.642144Z",
     "iopub.status.idle": "2021-10-19T12:11:53.903462Z",
     "shell.execute_reply": "2021-10-19T12:11:53.902447Z",
     "shell.execute_reply.started": "2021-10-19T12:11:53.642144Z"
    },
    "tags": []
   },
   "outputs": [],
   "source": [
    "# insert code here\n",
    "from sklearn.model_selection import train_test_split, StratifiedKFold\n",
    "(X_trainval, X_test, y_trainval, y_test) = train_test_split(X, y, \n",
    "                                           random_state=11, test_size=0.25, \n",
    "                                           stratify=y)"
   ]
  },
  {
   "cell_type": "markdown",
   "id": "a4a5fd8d-a899-4b1e-8e89-704c157db86f",
   "metadata": {},
   "source": [
    "## Chosen Metric : F1 Score\n",
    "\n",
    "<b>Why F1 score?</b>\n",
    "> insert explanation"
   ]
  },
  {
   "cell_type": "code",
   "execution_count": 8,
   "id": "20f2fedb-586b-40e3-b05d-e24bf590723f",
   "metadata": {
    "execution": {
     "iopub.execute_input": "2021-10-19T12:11:53.904462Z",
     "iopub.status.busy": "2021-10-19T12:11:53.904462Z",
     "iopub.status.idle": "2021-10-19T12:11:54.150802Z",
     "shell.execute_reply": "2021-10-19T12:11:54.148791Z",
     "shell.execute_reply.started": "2021-10-19T12:11:53.904462Z"
    },
    "tags": []
   },
   "outputs": [],
   "source": [
    "import time\n",
    "from sklearn.linear_model import LogisticRegression\n",
    "from sklearn.ensemble import (RandomForestClassifier,  \n",
    "                              GradientBoostingClassifier)\n",
    "from sklearn.neighbors import KNeighborsClassifier\n",
    "from sklearn.metrics import f1_score\n",
    "\n",
    "\n",
    "models_dict = {\n",
    "    'LogisticRegressor': LogisticRegression(random_state=11, max_iter=1_000_000),\n",
    "    'KNeighborsClassifier': KNeighborsClassifier(),\n",
    "    'RandomForestClassifier': RandomForestClassifier(random_state=11),\n",
    "    'GradientBoostingClassifier': GradientBoostingClassifier(random_state=11)   \n",
    "}\n",
    "\n",
    "\n",
    "skf = StratifiedKFold(n_splits=5)\n",
    "\n",
    "def automl(X, y):\n",
    "# insert code here\n",
    "    res = {}\n",
    "    for model_name, model in models_dict.items():\n",
    "        model_start = time.time()\n",
    "        train_scores = []\n",
    "        val_scores = []\n",
    "        test_scores = []\n",
    "        for train_index, val_index in skf.split(X, y):\n",
    "            X_train, X_val = X.iloc[train_index], X.iloc[val_index]\n",
    "            y_train, y_val = y.iloc[train_index], y.iloc[val_index]\n",
    "\n",
    "\n",
    "            model.fit(X_train, y_train)\n",
    "\n",
    "            y_pred_train = model.predict(X_train)\n",
    "\n",
    "            train_score = f1_score(y_train, y_pred_train)\n",
    "\n",
    "\n",
    "            y_pred_val = model.predict(X_val)\n",
    "            val_score = f1_score(y_val, y_pred_val)\n",
    "\n",
    "            train_scores.append(train_score)\n",
    "            val_scores.append(val_score)\n",
    "\n",
    "            y_pred_test = model.predict(X_test)\n",
    "            test_score = f1_score(y_test, y_pred_test)\n",
    "            test_scores.append(test_score)\n",
    "\n",
    "        model_end = time.time() - model_start\n",
    "        res[model_name] = {\n",
    "            'ave_train_f1':np.mean(train_scores) * 100,\n",
    "            'ave_val_f1':np.mean(val_scores) * 100,\n",
    "            'ave_test_f1': np.mean(test_scores) * 100,\n",
    "            'runtime': model_end\n",
    "        }\n",
    "\n",
    "        print(f'{model_name}: done')\n",
    "    df = pd.DataFrame(res).T\n",
    "    return df\n"
   ]
  },
  {
   "cell_type": "code",
   "execution_count": 9,
   "id": "194dbd6e-95dd-4810-9705-fa796ddce20c",
   "metadata": {
    "execution": {
     "iopub.execute_input": "2021-10-19T12:11:54.152782Z",
     "iopub.status.busy": "2021-10-19T12:11:54.152782Z",
     "iopub.status.idle": "2021-10-19T12:14:46.244464Z",
     "shell.execute_reply": "2021-10-19T12:14:46.243563Z",
     "shell.execute_reply.started": "2021-10-19T12:11:54.152782Z"
    },
    "tags": []
   },
   "outputs": [
    {
     "name": "stdout",
     "output_type": "stream",
     "text": [
      "LogisticRegressor: done\n",
      "KNeighborsClassifier: done\n",
      "RandomForestClassifier: done\n",
      "GradientBoostingClassifier: done\n"
     ]
    },
    {
     "data": {
      "text/html": [
       "<div>\n",
       "<style scoped>\n",
       "    .dataframe tbody tr th:only-of-type {\n",
       "        vertical-align: middle;\n",
       "    }\n",
       "\n",
       "    .dataframe tbody tr th {\n",
       "        vertical-align: top;\n",
       "    }\n",
       "\n",
       "    .dataframe thead th {\n",
       "        text-align: right;\n",
       "    }\n",
       "</style>\n",
       "<table border=\"1\" class=\"dataframe\">\n",
       "  <thead>\n",
       "    <tr style=\"text-align: right;\">\n",
       "      <th></th>\n",
       "      <th>ave_train_f1</th>\n",
       "      <th>ave_val_f1</th>\n",
       "      <th>ave_test_f1</th>\n",
       "      <th>runtime</th>\n",
       "    </tr>\n",
       "  </thead>\n",
       "  <tbody>\n",
       "    <tr>\n",
       "      <th>LogisticRegressor</th>\n",
       "      <td>38.750893</td>\n",
       "      <td>38.785491</td>\n",
       "      <td>39.217862</td>\n",
       "      <td>1.534866</td>\n",
       "    </tr>\n",
       "    <tr>\n",
       "      <th>KNeighborsClassifier</th>\n",
       "      <td>56.841616</td>\n",
       "      <td>40.758603</td>\n",
       "      <td>40.272325</td>\n",
       "      <td>120.894758</td>\n",
       "    </tr>\n",
       "    <tr>\n",
       "      <th>RandomForestClassifier</th>\n",
       "      <td>99.982154</td>\n",
       "      <td>67.927802</td>\n",
       "      <td>67.610432</td>\n",
       "      <td>22.737620</td>\n",
       "    </tr>\n",
       "    <tr>\n",
       "      <th>GradientBoostingClassifier</th>\n",
       "      <td>69.397957</td>\n",
       "      <td>68.672316</td>\n",
       "      <td>69.793739</td>\n",
       "      <td>26.892451</td>\n",
       "    </tr>\n",
       "  </tbody>\n",
       "</table>\n",
       "</div>"
      ],
      "text/plain": [
       "                            ave_train_f1  ave_val_f1  ave_test_f1     runtime\n",
       "LogisticRegressor              38.750893   38.785491    39.217862    1.534866\n",
       "KNeighborsClassifier           56.841616   40.758603    40.272325  120.894758\n",
       "RandomForestClassifier         99.982154   67.927802    67.610432   22.737620\n",
       "GradientBoostingClassifier     69.397957   68.672316    69.793739   26.892451"
      ]
     },
     "execution_count": 9,
     "metadata": {},
     "output_type": "execute_result"
    }
   ],
   "source": [
    "automl(X_trainval, y_trainval)"
   ]
  },
  {
   "cell_type": "markdown",
   "id": "55f6978d",
   "metadata": {},
   "source": [
    "*Discuss here*"
   ]
  },
  {
   "cell_type": "markdown",
   "id": "9c1cabee",
   "metadata": {},
   "source": [
    "## Confusion Matrix"
   ]
  },
  {
   "cell_type": "code",
   "execution_count": 10,
   "id": "05d2e339",
   "metadata": {
    "execution": {
     "iopub.execute_input": "2021-10-19T12:14:46.244464Z",
     "iopub.status.busy": "2021-10-19T12:14:46.244464Z",
     "iopub.status.idle": "2021-10-19T12:15:05.851778Z",
     "shell.execute_reply": "2021-10-19T12:15:05.850780Z",
     "shell.execute_reply.started": "2021-10-19T12:14:46.244464Z"
    },
    "tags": []
   },
   "outputs": [
    {
     "data": {
      "image/png": "[encoded data removed]",
      "text/plain": [
       "<Figure size 1440x360 with 4 Axes>"
      ]
     },
     "metadata": {
      "needs_background": "light"
     },
     "output_type": "display_data"
    }
   ],
   "source": [
    "# insert code here\n",
    "from sklearn.metrics import confusion_matrix\n",
    "from sklearn.metrics import ConfusionMatrixDisplay\n",
    "fig, axes = plt.subplots(1, 4, figsize=(20, 5))\n",
    "\n",
    "i = 0\n",
    "for model_name, model in models_dict.items():\n",
    "    \n",
    "    model.fit(X_trainval, y_trainval)\n",
    "    y_pred = model.predict(X_test)\n",
    "    cm = confusion_matrix(y_test, y_pred)\n",
    "    disp = ConfusionMatrixDisplay(confusion_matrix=cm)\n",
    "    disp.plot(ax=axes[i], colorbar=False)\n",
    "    axes[i].set_title(model_name, fontsize=12)\n",
    "\n",
    "    i += 1\n"
   ]
  },
  {
   "cell_type": "markdown",
   "id": "6e4802d6",
   "metadata": {},
   "source": [
    "*Discuss here*"
   ]
  },
  {
   "cell_type": "markdown",
   "id": "456dfc65",
   "metadata": {},
   "source": [
    "## Resampling"
   ]
  },
  {
   "cell_type": "code",
   "execution_count": 11,
   "id": "e0c15c02",
   "metadata": {
    "execution": {
     "iopub.execute_input": "2021-10-19T12:15:05.852789Z",
     "iopub.status.busy": "2021-10-19T12:15:05.852789Z",
     "iopub.status.idle": "2021-10-19T12:15:07.776389Z",
     "shell.execute_reply": "2021-10-19T12:15:07.775391Z",
     "shell.execute_reply.started": "2021-10-19T12:15:05.852789Z"
    }
   },
   "outputs": [],
   "source": [
    "# insert code here\n",
    "from imblearn.over_sampling import SMOTE \n",
    "sm = SMOTE(sampling_strategy=1.0, random_state=11)\n",
    "X_smote, y_smote = sm.fit_resample(X_trainval, y_trainval)"
   ]
  },
  {
   "cell_type": "code",
   "execution_count": 12,
   "id": "73bd77fd-771e-45d2-8e99-fa7a7ed1eae2",
   "metadata": {
    "execution": {
     "iopub.execute_input": "2021-10-19T12:15:07.777386Z",
     "iopub.status.busy": "2021-10-19T12:15:07.777386Z",
     "iopub.status.idle": "2021-10-19T12:15:15.162151Z",
     "shell.execute_reply": "2021-10-19T12:15:15.161216Z",
     "shell.execute_reply.started": "2021-10-19T12:15:07.777386Z"
    }
   },
   "outputs": [],
   "source": [
    "from imblearn.over_sampling import ADASYN \n",
    "ada = ADASYN(sampling_strategy=1.0, random_state=11)\n",
    "X_ada, y_ada = ada.fit_resample(X_trainval, y_trainval)"
   ]
  },
  {
   "cell_type": "code",
   "execution_count": 13,
   "id": "f0234b9d-a055-46a7-9f90-3906a2bc9f74",
   "metadata": {
    "execution": {
     "iopub.execute_input": "2021-10-19T12:15:15.165138Z",
     "iopub.status.busy": "2021-10-19T12:15:15.165138Z",
     "iopub.status.idle": "2021-10-19T12:15:36.258676Z",
     "shell.execute_reply": "2021-10-19T12:15:36.257682Z",
     "shell.execute_reply.started": "2021-10-19T12:15:15.165138Z"
    }
   },
   "outputs": [],
   "source": [
    "from imblearn.under_sampling import TomekLinks \n",
    "tl = TomekLinks()\n",
    "X_tl, y_tl = tl.fit_resample(X_trainval, y_trainval)"
   ]
  },
  {
   "cell_type": "code",
   "execution_count": null,
   "id": "1eb41f4a-7c02-4c15-bec1-e58152e1c1e1",
   "metadata": {},
   "outputs": [],
   "source": []
  },
  {
   "cell_type": "markdown",
   "id": "8299579c",
   "metadata": {},
   "source": [
    "## Resampled data `automl` results"
   ]
  },
  {
   "cell_type": "code",
   "execution_count": null,
   "id": "fb41ec2d-4dda-4f5d-9c45-170e3f414d67",
   "metadata": {},
   "outputs": [],
   "source": []
  },
  {
   "cell_type": "markdown",
   "id": "2e233032-2389-4b1a-af56-35bdc50667eb",
   "metadata": {},
   "source": [
    "<b>SMOTE</b>"
   ]
  },
  {
   "cell_type": "code",
   "execution_count": 14,
   "id": "6d0d89bb-52b9-4bd4-8c54-5f571d07fae2",
   "metadata": {
    "execution": {
     "iopub.execute_input": "2021-10-19T12:15:36.264663Z",
     "iopub.status.busy": "2021-10-19T12:15:36.263665Z",
     "iopub.status.idle": "2021-10-19T12:23:05.467885Z",
     "shell.execute_reply": "2021-10-19T12:23:05.467885Z",
     "shell.execute_reply.started": "2021-10-19T12:15:36.264663Z"
    },
    "tags": []
   },
   "outputs": [
    {
     "name": "stdout",
     "output_type": "stream",
     "text": [
      "LogisticRegressor: done\n",
      "KNeighborsClassifier: done\n",
      "RandomForestClassifier: done\n",
      "GradientBoostingClassifier: done\n"
     ]
    },
    {
     "data": {
      "text/html": [
       "<div>\n",
       "<style scoped>\n",
       "    .dataframe tbody tr th:only-of-type {\n",
       "        vertical-align: middle;\n",
       "    }\n",
       "\n",
       "    .dataframe tbody tr th {\n",
       "        vertical-align: top;\n",
       "    }\n",
       "\n",
       "    .dataframe thead th {\n",
       "        text-align: right;\n",
       "    }\n",
       "</style>\n",
       "<table border=\"1\" class=\"dataframe\">\n",
       "  <thead>\n",
       "    <tr style=\"text-align: right;\">\n",
       "      <th></th>\n",
       "      <th>ave_train_f1</th>\n",
       "      <th>ave_val_f1</th>\n",
       "      <th>ave_test_f1</th>\n",
       "      <th>runtime</th>\n",
       "    </tr>\n",
       "  </thead>\n",
       "  <tbody>\n",
       "    <tr>\n",
       "      <th>LogisticRegressor</th>\n",
       "      <td>51.402569</td>\n",
       "      <td>51.734418</td>\n",
       "      <td>41.971078</td>\n",
       "      <td>2.380800</td>\n",
       "    </tr>\n",
       "    <tr>\n",
       "      <th>KNeighborsClassifier</th>\n",
       "      <td>82.042231</td>\n",
       "      <td>73.207026</td>\n",
       "      <td>44.109765</td>\n",
       "      <td>319.515908</td>\n",
       "    </tr>\n",
       "    <tr>\n",
       "      <th>RandomForestClassifier</th>\n",
       "      <td>99.995100</td>\n",
       "      <td>87.153584</td>\n",
       "      <td>67.197143</td>\n",
       "      <td>60.957911</td>\n",
       "    </tr>\n",
       "    <tr>\n",
       "      <th>GradientBoostingClassifier</th>\n",
       "      <td>89.332308</td>\n",
       "      <td>87.183486</td>\n",
       "      <td>69.857533</td>\n",
       "      <td>66.323655</td>\n",
       "    </tr>\n",
       "  </tbody>\n",
       "</table>\n",
       "</div>"
      ],
      "text/plain": [
       "                            ave_train_f1  ave_val_f1  ave_test_f1     runtime\n",
       "LogisticRegressor              51.402569   51.734418    41.971078    2.380800\n",
       "KNeighborsClassifier           82.042231   73.207026    44.109765  319.515908\n",
       "RandomForestClassifier         99.995100   87.153584    67.197143   60.957911\n",
       "GradientBoostingClassifier     89.332308   87.183486    69.857533   66.323655"
      ]
     },
     "execution_count": 14,
     "metadata": {},
     "output_type": "execute_result"
    }
   ],
   "source": [
    "automl(X_smote, y_smote)"
   ]
  },
  {
   "cell_type": "markdown",
   "id": "06eb117a-3b06-47d9-8d4c-a8e641a42d48",
   "metadata": {},
   "source": [
    "<b>ADASYN</b>"
   ]
  },
  {
   "cell_type": "code",
   "execution_count": 15,
   "id": "4913dfb0-e837-4256-8a1d-d6d2e45c1284",
   "metadata": {
    "execution": {
     "iopub.execute_input": "2021-10-19T12:23:05.469879Z",
     "iopub.status.busy": "2021-10-19T12:23:05.469879Z",
     "iopub.status.idle": "2021-10-19T12:30:49.340660Z",
     "shell.execute_reply": "2021-10-19T12:30:49.339662Z",
     "shell.execute_reply.started": "2021-10-19T12:23:05.469879Z"
    },
    "tags": []
   },
   "outputs": [
    {
     "name": "stdout",
     "output_type": "stream",
     "text": [
      "LogisticRegressor: done\n",
      "KNeighborsClassifier: done\n",
      "RandomForestClassifier: done\n",
      "GradientBoostingClassifier: done\n"
     ]
    },
    {
     "data": {
      "text/html": [
       "<div>\n",
       "<style scoped>\n",
       "    .dataframe tbody tr th:only-of-type {\n",
       "        vertical-align: middle;\n",
       "    }\n",
       "\n",
       "    .dataframe tbody tr th {\n",
       "        vertical-align: top;\n",
       "    }\n",
       "\n",
       "    .dataframe thead th {\n",
       "        text-align: right;\n",
       "    }\n",
       "</style>\n",
       "<table border=\"1\" class=\"dataframe\">\n",
       "  <thead>\n",
       "    <tr style=\"text-align: right;\">\n",
       "      <th></th>\n",
       "      <th>ave_train_f1</th>\n",
       "      <th>ave_val_f1</th>\n",
       "      <th>ave_test_f1</th>\n",
       "      <th>runtime</th>\n",
       "    </tr>\n",
       "  </thead>\n",
       "  <tbody>\n",
       "    <tr>\n",
       "      <th>LogisticRegressor</th>\n",
       "      <td>52.777790</td>\n",
       "      <td>54.902736</td>\n",
       "      <td>43.902509</td>\n",
       "      <td>3.538628</td>\n",
       "    </tr>\n",
       "    <tr>\n",
       "      <th>KNeighborsClassifier</th>\n",
       "      <td>80.478972</td>\n",
       "      <td>68.536038</td>\n",
       "      <td>44.150818</td>\n",
       "      <td>340.548072</td>\n",
       "    </tr>\n",
       "    <tr>\n",
       "      <th>RandomForestClassifier</th>\n",
       "      <td>99.995494</td>\n",
       "      <td>86.617580</td>\n",
       "      <td>66.737211</td>\n",
       "      <td>57.410447</td>\n",
       "    </tr>\n",
       "    <tr>\n",
       "      <th>GradientBoostingClassifier</th>\n",
       "      <td>89.212702</td>\n",
       "      <td>87.143186</td>\n",
       "      <td>69.899301</td>\n",
       "      <td>62.344707</td>\n",
       "    </tr>\n",
       "  </tbody>\n",
       "</table>\n",
       "</div>"
      ],
      "text/plain": [
       "                            ave_train_f1  ave_val_f1  ave_test_f1     runtime\n",
       "LogisticRegressor              52.777790   54.902736    43.902509    3.538628\n",
       "KNeighborsClassifier           80.478972   68.536038    44.150818  340.548072\n",
       "RandomForestClassifier         99.995494   86.617580    66.737211   57.410447\n",
       "GradientBoostingClassifier     89.212702   87.143186    69.899301   62.344707"
      ]
     },
     "execution_count": 15,
     "metadata": {},
     "output_type": "execute_result"
    }
   ],
   "source": [
    "automl(X_ada, y_ada)"
   ]
  },
  {
   "cell_type": "markdown",
   "id": "ab122a4b-f536-497e-98ee-478edf308121",
   "metadata": {},
   "source": [
    "<b>TomekLinks</b>"
   ]
  },
  {
   "cell_type": "code",
   "execution_count": 16,
   "id": "1b80dee3-77ea-49a2-a296-52291a6509ee",
   "metadata": {
    "execution": {
     "iopub.execute_input": "2021-10-19T12:30:49.342652Z",
     "iopub.status.busy": "2021-10-19T12:30:49.342652Z",
     "iopub.status.idle": "2021-10-19T12:33:24.784820Z",
     "shell.execute_reply": "2021-10-19T12:33:24.784820Z",
     "shell.execute_reply.started": "2021-10-19T12:30:49.342652Z"
    },
    "tags": []
   },
   "outputs": [
    {
     "name": "stdout",
     "output_type": "stream",
     "text": [
      "LogisticRegressor: done\n",
      "KNeighborsClassifier: done\n",
      "RandomForestClassifier: done\n",
      "GradientBoostingClassifier: done\n"
     ]
    },
    {
     "data": {
      "text/html": [
       "<div>\n",
       "<style scoped>\n",
       "    .dataframe tbody tr th:only-of-type {\n",
       "        vertical-align: middle;\n",
       "    }\n",
       "\n",
       "    .dataframe tbody tr th {\n",
       "        vertical-align: top;\n",
       "    }\n",
       "\n",
       "    .dataframe thead th {\n",
       "        text-align: right;\n",
       "    }\n",
       "</style>\n",
       "<table border=\"1\" class=\"dataframe\">\n",
       "  <thead>\n",
       "    <tr style=\"text-align: right;\">\n",
       "      <th></th>\n",
       "      <th>ave_train_f1</th>\n",
       "      <th>ave_val_f1</th>\n",
       "      <th>ave_test_f1</th>\n",
       "      <th>runtime</th>\n",
       "    </tr>\n",
       "  </thead>\n",
       "  <tbody>\n",
       "    <tr>\n",
       "      <th>LogisticRegressor</th>\n",
       "      <td>43.318917</td>\n",
       "      <td>42.918197</td>\n",
       "      <td>42.042029</td>\n",
       "      <td>2.132930</td>\n",
       "    </tr>\n",
       "    <tr>\n",
       "      <th>KNeighborsClassifier</th>\n",
       "      <td>61.241466</td>\n",
       "      <td>45.472196</td>\n",
       "      <td>41.457339</td>\n",
       "      <td>105.576011</td>\n",
       "    </tr>\n",
       "    <tr>\n",
       "      <th>RandomForestClassifier</th>\n",
       "      <td>99.980667</td>\n",
       "      <td>70.998689</td>\n",
       "      <td>68.800825</td>\n",
       "      <td>22.355552</td>\n",
       "    </tr>\n",
       "    <tr>\n",
       "      <th>GradientBoostingClassifier</th>\n",
       "      <td>72.924608</td>\n",
       "      <td>72.090350</td>\n",
       "      <td>70.952225</td>\n",
       "      <td>25.360719</td>\n",
       "    </tr>\n",
       "  </tbody>\n",
       "</table>\n",
       "</div>"
      ],
      "text/plain": [
       "                            ave_train_f1  ave_val_f1  ave_test_f1     runtime\n",
       "LogisticRegressor              43.318917   42.918197    42.042029    2.132930\n",
       "KNeighborsClassifier           61.241466   45.472196    41.457339  105.576011\n",
       "RandomForestClassifier         99.980667   70.998689    68.800825   22.355552\n",
       "GradientBoostingClassifier     72.924608   72.090350    70.952225   25.360719"
      ]
     },
     "execution_count": 16,
     "metadata": {},
     "output_type": "execute_result"
    }
   ],
   "source": [
    "automl(X_tl, y_tl)"
   ]
  },
  {
   "cell_type": "code",
   "execution_count": null,
   "id": "6ce8c708-fb04-49b2-ab4b-c8e4b5cbd09d",
   "metadata": {},
   "outputs": [],
   "source": []
  },
  {
   "cell_type": "markdown",
   "id": "f69cafa8",
   "metadata": {},
   "source": [
    "*Discuss here*"
   ]
  },
  {
   "cell_type": "markdown",
   "id": "89f208e0-06a1-4c96-945b-e833095501df",
   "metadata": {},
   "source": [
    "## Sensitivity\n",
    "\n",
    "Focus on GBM\n",
    "\n",
    "### Beta"
   ]
  },
  {
   "cell_type": "code",
   "execution_count": 17,
   "id": "9e671263-d0b9-4934-9918-a36a45617b82",
   "metadata": {
    "execution": {
     "iopub.execute_input": "2021-10-19T12:33:24.786816Z",
     "iopub.status.busy": "2021-10-19T12:33:24.786816Z",
     "iopub.status.idle": "2021-10-19T12:34:39.545555Z",
     "shell.execute_reply": "2021-10-19T12:34:39.544558Z",
     "shell.execute_reply.started": "2021-10-19T12:33:24.786816Z"
    },
    "tags": []
   },
   "outputs": [
    {
     "name": "stdout",
     "output_type": "stream",
     "text": [
      "0.4\n",
      "0.5\n",
      "0.6\n",
      "0.7\n",
      "0.7999999999999999\n",
      "0.8999999999999999\n",
      "0.9999999999999999\n"
     ]
    },
    {
     "data": {
      "text/html": [
       "<div>\n",
       "<style scoped>\n",
       "    .dataframe tbody tr th:only-of-type {\n",
       "        vertical-align: middle;\n",
       "    }\n",
       "\n",
       "    .dataframe tbody tr th {\n",
       "        vertical-align: top;\n",
       "    }\n",
       "\n",
       "    .dataframe thead th {\n",
       "        text-align: right;\n",
       "    }\n",
       "</style>\n",
       "<table border=\"1\" class=\"dataframe\">\n",
       "  <thead>\n",
       "    <tr style=\"text-align: right;\">\n",
       "      <th></th>\n",
       "      <th>0.4</th>\n",
       "      <th>0.5</th>\n",
       "      <th>0.6</th>\n",
       "      <th>0.7</th>\n",
       "      <th>0.8</th>\n",
       "      <th>0.9</th>\n",
       "      <th>1.0</th>\n",
       "    </tr>\n",
       "  </thead>\n",
       "  <tbody>\n",
       "    <tr>\n",
       "      <th>f1</th>\n",
       "      <td>0.704489</td>\n",
       "      <td>0.702443</td>\n",
       "      <td>0.704652</td>\n",
       "      <td>0.700459</td>\n",
       "      <td>0.704206</td>\n",
       "      <td>0.702003</td>\n",
       "      <td>0.700136</td>\n",
       "    </tr>\n",
       "    <tr>\n",
       "      <th>runtime</th>\n",
       "      <td>8.778524</td>\n",
       "      <td>9.260290</td>\n",
       "      <td>10.123500</td>\n",
       "      <td>11.001451</td>\n",
       "      <td>10.975852</td>\n",
       "      <td>11.534048</td>\n",
       "      <td>13.048174</td>\n",
       "    </tr>\n",
       "  </tbody>\n",
       "</table>\n",
       "</div>"
      ],
      "text/plain": [
       "              0.4       0.5        0.6        0.7        0.8        0.9  \\\n",
       "f1       0.704489  0.702443   0.704652   0.700459   0.704206   0.702003   \n",
       "runtime  8.778524  9.260290  10.123500  11.001451  10.975852  11.534048   \n",
       "\n",
       "               1.0  \n",
       "f1        0.700136  \n",
       "runtime  13.048174  "
      ]
     },
     "execution_count": 17,
     "metadata": {},
     "output_type": "execute_result"
    }
   ],
   "source": [
    "model = GradientBoostingClassifier(random_state=11)\n",
    "beta_list = np.arange(0.4, 1.1, 0.1)\n",
    "score_list = []\n",
    "runtime_list = []\n",
    "for b in beta_list:\n",
    "    start = time.time()\n",
    "    sm = SMOTE(sampling_strategy=b, random_state=11)\n",
    "    X_smote, y_smote = sm.fit_resample(X_trainval, y_trainval)\n",
    "    \n",
    "    model.fit(X_smote, y_smote)\n",
    "    y_pred = model.predict(X_test)\n",
    "    test_f1 = f1_score(y_test, y_pred)\n",
    "    \n",
    "    score_list.append(test_f1)\n",
    "    print(b)\n",
    "    end = time.time() - start\n",
    "    runtime_list.append(end)\n",
    "df_beta = pd.DataFrame([score_list, runtime_list], columns=beta_list, index=['f1', 'runtime'])\n",
    "df_beta"
   ]
  },
  {
   "cell_type": "markdown",
   "id": "64a80661-386c-4f4d-b049-44de359be5e8",
   "metadata": {},
   "source": [
    "### K_neighbors"
   ]
  },
  {
   "cell_type": "code",
   "execution_count": 18,
   "id": "635c36d4-2410-44b9-8fe0-bf351851bf8c",
   "metadata": {
    "execution": {
     "iopub.execute_input": "2021-10-19T12:34:39.547551Z",
     "iopub.status.busy": "2021-10-19T12:34:39.547551Z",
     "iopub.status.idle": "2021-10-19T12:37:22.610159Z",
     "shell.execute_reply": "2021-10-19T12:37:22.609337Z",
     "shell.execute_reply.started": "2021-10-19T12:34:39.547551Z"
    },
    "tags": []
   },
   "outputs": [
    {
     "name": "stdout",
     "output_type": "stream",
     "text": [
      "2\n",
      "4\n",
      "6\n",
      "8\n",
      "10\n",
      "12\n",
      "14\n",
      "16\n",
      "18\n",
      "20\n",
      "22\n",
      "24\n",
      "26\n",
      "28\n"
     ]
    },
    {
     "data": {
      "text/html": [
       "<div>\n",
       "<style scoped>\n",
       "    .dataframe tbody tr th:only-of-type {\n",
       "        vertical-align: middle;\n",
       "    }\n",
       "\n",
       "    .dataframe tbody tr th {\n",
       "        vertical-align: top;\n",
       "    }\n",
       "\n",
       "    .dataframe thead th {\n",
       "        text-align: right;\n",
       "    }\n",
       "</style>\n",
       "<table border=\"1\" class=\"dataframe\">\n",
       "  <thead>\n",
       "    <tr style=\"text-align: right;\">\n",
       "      <th></th>\n",
       "      <th>2</th>\n",
       "      <th>4</th>\n",
       "      <th>6</th>\n",
       "      <th>8</th>\n",
       "      <th>10</th>\n",
       "      <th>12</th>\n",
       "      <th>14</th>\n",
       "      <th>16</th>\n",
       "      <th>18</th>\n",
       "      <th>20</th>\n",
       "      <th>22</th>\n",
       "      <th>24</th>\n",
       "      <th>26</th>\n",
       "      <th>28</th>\n",
       "    </tr>\n",
       "  </thead>\n",
       "  <tbody>\n",
       "    <tr>\n",
       "      <th>F1</th>\n",
       "      <td>0.702215</td>\n",
       "      <td>0.703519</td>\n",
       "      <td>0.699677</td>\n",
       "      <td>0.698738</td>\n",
       "      <td>0.699898</td>\n",
       "      <td>0.699437</td>\n",
       "      <td>0.699303</td>\n",
       "      <td>0.698709</td>\n",
       "      <td>0.698007</td>\n",
       "      <td>0.699558</td>\n",
       "      <td>0.699899</td>\n",
       "      <td>0.698016</td>\n",
       "      <td>0.698586</td>\n",
       "      <td>0.696070</td>\n",
       "    </tr>\n",
       "    <tr>\n",
       "      <th>runtime</th>\n",
       "      <td>12.704511</td>\n",
       "      <td>11.592000</td>\n",
       "      <td>11.255286</td>\n",
       "      <td>11.751406</td>\n",
       "      <td>11.220328</td>\n",
       "      <td>12.214281</td>\n",
       "      <td>11.829807</td>\n",
       "      <td>12.456937</td>\n",
       "      <td>12.093152</td>\n",
       "      <td>11.161168</td>\n",
       "      <td>11.186928</td>\n",
       "      <td>11.101988</td>\n",
       "      <td>11.209893</td>\n",
       "      <td>11.260985</td>\n",
       "    </tr>\n",
       "  </tbody>\n",
       "</table>\n",
       "</div>"
      ],
      "text/plain": [
       "                2          4          6          8          10         12  \\\n",
       "F1        0.702215   0.703519   0.699677   0.698738   0.699898   0.699437   \n",
       "runtime  12.704511  11.592000  11.255286  11.751406  11.220328  12.214281   \n",
       "\n",
       "                14         16         18         20         22         24  \\\n",
       "F1        0.699303   0.698709   0.698007   0.699558   0.699899   0.698016   \n",
       "runtime  11.829807  12.456937  12.093152  11.161168  11.186928  11.101988   \n",
       "\n",
       "                26         28  \n",
       "F1        0.698586   0.696070  \n",
       "runtime  11.209893  11.260985  "
      ]
     },
     "execution_count": 18,
     "metadata": {},
     "output_type": "execute_result"
    }
   ],
   "source": [
    "k_list = range(2,30,2)\n",
    "score_list = []\n",
    "runtime_list = []\n",
    "for k in k_list:\n",
    "    start = time.time()\n",
    "    sm = SMOTE(sampling_strategy=1.0, random_state=11, k_neighbors=k)\n",
    "    X_smote, y_smote = sm.fit_resample(X_trainval, y_trainval)\n",
    "    \n",
    "    model.fit(X_smote, y_smote)\n",
    "    y_pred = model.predict(X_test)\n",
    "    test_f1 = f1_score(y_test, y_pred)\n",
    "    score_list.append(test_f1)\n",
    "    print(k)\n",
    "    end = time.time() - start\n",
    "    runtime_list.append(end)\n",
    "df_k = pd.DataFrame([score_list, runtime_list], index=['F1', 'runtime'], columns=k_list)\n",
    "df_k"
   ]
  },
  {
   "cell_type": "code",
   "execution_count": null,
   "id": "bad57c44-4f1b-4da4-809f-99170953afbb",
   "metadata": {},
   "outputs": [],
   "source": []
  }
 ],
 "metadata": {
  "hide_input": false,
  "kernelspec": {
   "display_name": "Python 3 (ipykernel)",
   "language": "python",
   "name": "python3"
  },
  "language_info": {
   "codemirror_mode": {
    "name": "ipython",
    "version": 3
   },
   "file_extension": ".py",
   "mimetype": "text/x-python",
   "name": "python",
   "nbconvert_exporter": "python",
   "pygments_lexer": "ipython3",
   "version": "3.8.11"
  },
  "toc": {
   "base_numbering": 1,
   "nav_menu": {},
   "number_sections": true,
   "sideBar": true,
   "skip_h1_title": false,
   "title_cell": "Table of Contents",
   "title_sidebar": "Contents",
   "toc_cell": false,
   "toc_position": {},
   "toc_section_display": true,
   "toc_window_display": false
  },
  "toc-autonumbering": true
 },
 "nbformat": 4,
 "nbformat_minor": 5
}
