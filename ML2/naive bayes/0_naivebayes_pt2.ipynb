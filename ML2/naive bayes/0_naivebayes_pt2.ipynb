{
 "cells": [
  {
   "cell_type": "markdown",
   "metadata": {
    "id": "TVqGDiuylX4w"
   },
   "source": [
    "# Naive Bayes Application"
   ]
  },
  {
   "cell_type": "markdown",
   "metadata": {},
   "source": [
    "## Salary Classification\n",
    "\n",
    "[`adult`](https://archive.ics.uci.edu/ml/datasets/adult) dataset.\n",
    "\n",
    "### Data Set Information\n",
    "\n",
    "Extraction was done by Barry Becker from the 1994 Census database. A set of reasonably clean records was extracted using the following conditions: ((AAGE>16) && (AGI>100) && (AFNLWGT>1)&& (HRSWK>0)) \n",
    "\n",
    "Prediction task is to determine whether a person makes over 50K a year."
   ]
  },
  {
   "cell_type": "markdown",
   "metadata": {},
   "source": [
    "### Classification with `CategoricalNB`"
   ]
  },
  {
   "cell_type": "code",
   "execution_count": 3,
   "metadata": {
    "execution": {
     "iopub.execute_input": "2021-10-11T02:21:09.643885Z",
     "iopub.status.busy": "2021-10-11T02:21:09.643885Z",
     "iopub.status.idle": "2021-10-11T02:21:10.585318Z",
     "shell.execute_reply": "2021-10-11T02:21:10.585318Z",
     "shell.execute_reply.started": "2021-10-11T02:21:09.643885Z"
    },
    "tags": []
   },
   "outputs": [
    {
     "data": {
      "text/html": [
       "<div>\n",
       "<style scoped>\n",
       "    .dataframe tbody tr th:only-of-type {\n",
       "        vertical-align: middle;\n",
       "    }\n",
       "\n",
       "    .dataframe tbody tr th {\n",
       "        vertical-align: top;\n",
       "    }\n",
       "\n",
       "    .dataframe thead th {\n",
       "        text-align: right;\n",
       "    }\n",
       "</style>\n",
       "<table border=\"1\" class=\"dataframe\">\n",
       "  <thead>\n",
       "    <tr style=\"text-align: right;\">\n",
       "      <th></th>\n",
       "      <th>workclass</th>\n",
       "      <th>education</th>\n",
       "      <th>marital-status</th>\n",
       "      <th>occupation</th>\n",
       "      <th>relationship</th>\n",
       "      <th>race</th>\n",
       "      <th>sex</th>\n",
       "      <th>native-country</th>\n",
       "      <th>class</th>\n",
       "    </tr>\n",
       "  </thead>\n",
       "  <tbody>\n",
       "    <tr>\n",
       "      <th>0</th>\n",
       "      <td>State-gov</td>\n",
       "      <td>Bachelors</td>\n",
       "      <td>Never-married</td>\n",
       "      <td>Adm-clerical</td>\n",
       "      <td>Not-in-family</td>\n",
       "      <td>White</td>\n",
       "      <td>Male</td>\n",
       "      <td>United-States</td>\n",
       "      <td>&lt;=50K</td>\n",
       "    </tr>\n",
       "    <tr>\n",
       "      <th>1</th>\n",
       "      <td>Self-emp-not-inc</td>\n",
       "      <td>Bachelors</td>\n",
       "      <td>Married-civ-spouse</td>\n",
       "      <td>Exec-managerial</td>\n",
       "      <td>Husband</td>\n",
       "      <td>White</td>\n",
       "      <td>Male</td>\n",
       "      <td>United-States</td>\n",
       "      <td>&lt;=50K</td>\n",
       "    </tr>\n",
       "    <tr>\n",
       "      <th>2</th>\n",
       "      <td>Private</td>\n",
       "      <td>HS-grad</td>\n",
       "      <td>Divorced</td>\n",
       "      <td>Handlers-cleaners</td>\n",
       "      <td>Not-in-family</td>\n",
       "      <td>White</td>\n",
       "      <td>Male</td>\n",
       "      <td>United-States</td>\n",
       "      <td>&lt;=50K</td>\n",
       "    </tr>\n",
       "    <tr>\n",
       "      <th>3</th>\n",
       "      <td>Private</td>\n",
       "      <td>11th</td>\n",
       "      <td>Married-civ-spouse</td>\n",
       "      <td>Handlers-cleaners</td>\n",
       "      <td>Husband</td>\n",
       "      <td>Black</td>\n",
       "      <td>Male</td>\n",
       "      <td>United-States</td>\n",
       "      <td>&lt;=50K</td>\n",
       "    </tr>\n",
       "    <tr>\n",
       "      <th>4</th>\n",
       "      <td>Private</td>\n",
       "      <td>Bachelors</td>\n",
       "      <td>Married-civ-spouse</td>\n",
       "      <td>Prof-specialty</td>\n",
       "      <td>Wife</td>\n",
       "      <td>Black</td>\n",
       "      <td>Female</td>\n",
       "      <td>Cuba</td>\n",
       "      <td>&lt;=50K</td>\n",
       "    </tr>\n",
       "    <tr>\n",
       "      <th>...</th>\n",
       "      <td>...</td>\n",
       "      <td>...</td>\n",
       "      <td>...</td>\n",
       "      <td>...</td>\n",
       "      <td>...</td>\n",
       "      <td>...</td>\n",
       "      <td>...</td>\n",
       "      <td>...</td>\n",
       "      <td>...</td>\n",
       "    </tr>\n",
       "    <tr>\n",
       "      <th>45217</th>\n",
       "      <td>Private</td>\n",
       "      <td>Bachelors</td>\n",
       "      <td>Never-married</td>\n",
       "      <td>Prof-specialty</td>\n",
       "      <td>Own-child</td>\n",
       "      <td>White</td>\n",
       "      <td>Male</td>\n",
       "      <td>United-States</td>\n",
       "      <td>&lt;=50K</td>\n",
       "    </tr>\n",
       "    <tr>\n",
       "      <th>45218</th>\n",
       "      <td>Private</td>\n",
       "      <td>Bachelors</td>\n",
       "      <td>Divorced</td>\n",
       "      <td>Prof-specialty</td>\n",
       "      <td>Not-in-family</td>\n",
       "      <td>White</td>\n",
       "      <td>Female</td>\n",
       "      <td>United-States</td>\n",
       "      <td>&lt;=50K</td>\n",
       "    </tr>\n",
       "    <tr>\n",
       "      <th>45219</th>\n",
       "      <td>Private</td>\n",
       "      <td>Bachelors</td>\n",
       "      <td>Married-civ-spouse</td>\n",
       "      <td>Prof-specialty</td>\n",
       "      <td>Husband</td>\n",
       "      <td>White</td>\n",
       "      <td>Male</td>\n",
       "      <td>United-States</td>\n",
       "      <td>&lt;=50K</td>\n",
       "    </tr>\n",
       "    <tr>\n",
       "      <th>45220</th>\n",
       "      <td>Private</td>\n",
       "      <td>Bachelors</td>\n",
       "      <td>Divorced</td>\n",
       "      <td>Adm-clerical</td>\n",
       "      <td>Own-child</td>\n",
       "      <td>Asian-Pac-Islander</td>\n",
       "      <td>Male</td>\n",
       "      <td>United-States</td>\n",
       "      <td>&lt;=50K</td>\n",
       "    </tr>\n",
       "    <tr>\n",
       "      <th>45221</th>\n",
       "      <td>Self-emp-inc</td>\n",
       "      <td>Bachelors</td>\n",
       "      <td>Married-civ-spouse</td>\n",
       "      <td>Exec-managerial</td>\n",
       "      <td>Husband</td>\n",
       "      <td>White</td>\n",
       "      <td>Male</td>\n",
       "      <td>United-States</td>\n",
       "      <td>&gt;50K</td>\n",
       "    </tr>\n",
       "  </tbody>\n",
       "</table>\n",
       "<p>45222 rows × 9 columns</p>\n",
       "</div>"
      ],
      "text/plain": [
       "              workclass  education      marital-status         occupation  \\\n",
       "0             State-gov  Bachelors       Never-married       Adm-clerical   \n",
       "1      Self-emp-not-inc  Bachelors  Married-civ-spouse    Exec-managerial   \n",
       "2               Private    HS-grad            Divorced  Handlers-cleaners   \n",
       "3               Private       11th  Married-civ-spouse  Handlers-cleaners   \n",
       "4               Private  Bachelors  Married-civ-spouse     Prof-specialty   \n",
       "...                 ...        ...                 ...                ...   \n",
       "45217           Private  Bachelors       Never-married     Prof-specialty   \n",
       "45218           Private  Bachelors            Divorced     Prof-specialty   \n",
       "45219           Private  Bachelors  Married-civ-spouse     Prof-specialty   \n",
       "45220           Private  Bachelors            Divorced       Adm-clerical   \n",
       "45221      Self-emp-inc  Bachelors  Married-civ-spouse    Exec-managerial   \n",
       "\n",
       "        relationship                race     sex native-country  class  \n",
       "0      Not-in-family               White    Male  United-States  <=50K  \n",
       "1            Husband               White    Male  United-States  <=50K  \n",
       "2      Not-in-family               White    Male  United-States  <=50K  \n",
       "3            Husband               Black    Male  United-States  <=50K  \n",
       "4               Wife               Black  Female           Cuba  <=50K  \n",
       "...              ...                 ...     ...            ...    ...  \n",
       "45217      Own-child               White    Male  United-States  <=50K  \n",
       "45218  Not-in-family               White  Female  United-States  <=50K  \n",
       "45219        Husband               White    Male  United-States  <=50K  \n",
       "45220      Own-child  Asian-Pac-Islander    Male  United-States  <=50K  \n",
       "45221        Husband               White    Male  United-States   >50K  \n",
       "\n",
       "[45222 rows x 9 columns]"
      ]
     },
     "execution_count": 3,
     "metadata": {},
     "output_type": "execute_result"
    }
   ],
   "source": [
    "import numpy as np\n",
    "import pandas as pd\n",
    "import matplotlib.pyplot as plt\n",
    "\n",
    "df = pd.read_csv('adult.csv')\n",
    "\n",
    "# Drop missing\n",
    "df = df.dropna()\n",
    "\n",
    "# Drop numeric\n",
    "cat_cols = df.select_dtypes(include=['object', 'bool']).columns\n",
    "df = df[cat_cols]\n",
    "df.reset_index(drop=True, inplace=True)\n",
    "\n",
    "df"
   ]
  },
  {
   "cell_type": "markdown",
   "metadata": {},
   "source": [
    "#### 1. Pre-processing"
   ]
  },
  {
   "cell_type": "code",
   "execution_count": 4,
   "metadata": {
    "execution": {
     "iopub.execute_input": "2021-10-11T02:21:10.587313Z",
     "iopub.status.busy": "2021-10-11T02:21:10.586315Z",
     "iopub.status.idle": "2021-10-11T02:21:10.740934Z",
     "shell.execute_reply": "2021-10-11T02:21:10.740934Z",
     "shell.execute_reply.started": "2021-10-11T02:21:10.587313Z"
    },
    "tags": []
   },
   "outputs": [
    {
     "data": {
      "image/png": "[encoded data removed]",
      "text/plain": [
       "<Figure size 432x288 with 1 Axes>"
      ]
     },
     "metadata": {
      "needs_background": "light"
     },
     "output_type": "display_data"
    },
    {
     "name": "stdout",
     "output_type": "stream",
     "text": [
      "<=50K    0.752156\n",
      ">50K     0.247844\n",
      "Name: class, dtype: float64\n"
     ]
    }
   ],
   "source": [
    "df['class'].value_counts().plot(kind='bar')\n",
    "plt.title('Class Distribution')\n",
    "plt.show()\n",
    "print(df['class'].value_counts(normalize=True))"
   ]
  },
  {
   "cell_type": "markdown",
   "metadata": {},
   "source": [
    "In this case we didn't OHE, not sure what the effect will be if we do OHE in terms of performance. But lets just do it anyway lol"
   ]
  },
  {
   "cell_type": "code",
   "execution_count": 5,
   "metadata": {
    "execution": {
     "iopub.execute_input": "2021-10-11T02:21:10.741898Z",
     "iopub.status.busy": "2021-10-11T02:21:10.741898Z",
     "iopub.status.idle": "2021-10-11T02:21:11.320384Z",
     "shell.execute_reply": "2021-10-11T02:21:11.320384Z",
     "shell.execute_reply.started": "2021-10-11T02:21:10.741898Z"
    }
   },
   "outputs": [
    {
     "data": {
      "text/html": [
       "<div>\n",
       "<style scoped>\n",
       "    .dataframe tbody tr th:only-of-type {\n",
       "        vertical-align: middle;\n",
       "    }\n",
       "\n",
       "    .dataframe tbody tr th {\n",
       "        vertical-align: top;\n",
       "    }\n",
       "\n",
       "    .dataframe thead th {\n",
       "        text-align: right;\n",
       "    }\n",
       "</style>\n",
       "<table border=\"1\" class=\"dataframe\">\n",
       "  <thead>\n",
       "    <tr style=\"text-align: right;\">\n",
       "      <th></th>\n",
       "      <th>workclass</th>\n",
       "      <th>education</th>\n",
       "      <th>marital-status</th>\n",
       "      <th>occupation</th>\n",
       "      <th>relationship</th>\n",
       "      <th>race</th>\n",
       "      <th>sex</th>\n",
       "      <th>native-country</th>\n",
       "      <th>class</th>\n",
       "    </tr>\n",
       "  </thead>\n",
       "  <tbody>\n",
       "    <tr>\n",
       "      <th>0</th>\n",
       "      <td>5</td>\n",
       "      <td>9</td>\n",
       "      <td>4</td>\n",
       "      <td>0</td>\n",
       "      <td>1</td>\n",
       "      <td>4</td>\n",
       "      <td>1</td>\n",
       "      <td>38</td>\n",
       "      <td>0</td>\n",
       "    </tr>\n",
       "    <tr>\n",
       "      <th>1</th>\n",
       "      <td>4</td>\n",
       "      <td>9</td>\n",
       "      <td>2</td>\n",
       "      <td>3</td>\n",
       "      <td>0</td>\n",
       "      <td>4</td>\n",
       "      <td>1</td>\n",
       "      <td>38</td>\n",
       "      <td>0</td>\n",
       "    </tr>\n",
       "    <tr>\n",
       "      <th>2</th>\n",
       "      <td>2</td>\n",
       "      <td>11</td>\n",
       "      <td>0</td>\n",
       "      <td>5</td>\n",
       "      <td>1</td>\n",
       "      <td>4</td>\n",
       "      <td>1</td>\n",
       "      <td>38</td>\n",
       "      <td>0</td>\n",
       "    </tr>\n",
       "    <tr>\n",
       "      <th>3</th>\n",
       "      <td>2</td>\n",
       "      <td>1</td>\n",
       "      <td>2</td>\n",
       "      <td>5</td>\n",
       "      <td>0</td>\n",
       "      <td>2</td>\n",
       "      <td>1</td>\n",
       "      <td>38</td>\n",
       "      <td>0</td>\n",
       "    </tr>\n",
       "    <tr>\n",
       "      <th>4</th>\n",
       "      <td>2</td>\n",
       "      <td>9</td>\n",
       "      <td>2</td>\n",
       "      <td>9</td>\n",
       "      <td>5</td>\n",
       "      <td>2</td>\n",
       "      <td>0</td>\n",
       "      <td>4</td>\n",
       "      <td>0</td>\n",
       "    </tr>\n",
       "    <tr>\n",
       "      <th>...</th>\n",
       "      <td>...</td>\n",
       "      <td>...</td>\n",
       "      <td>...</td>\n",
       "      <td>...</td>\n",
       "      <td>...</td>\n",
       "      <td>...</td>\n",
       "      <td>...</td>\n",
       "      <td>...</td>\n",
       "      <td>...</td>\n",
       "    </tr>\n",
       "    <tr>\n",
       "      <th>45217</th>\n",
       "      <td>2</td>\n",
       "      <td>9</td>\n",
       "      <td>4</td>\n",
       "      <td>9</td>\n",
       "      <td>3</td>\n",
       "      <td>4</td>\n",
       "      <td>1</td>\n",
       "      <td>38</td>\n",
       "      <td>0</td>\n",
       "    </tr>\n",
       "    <tr>\n",
       "      <th>45218</th>\n",
       "      <td>2</td>\n",
       "      <td>9</td>\n",
       "      <td>0</td>\n",
       "      <td>9</td>\n",
       "      <td>1</td>\n",
       "      <td>4</td>\n",
       "      <td>0</td>\n",
       "      <td>38</td>\n",
       "      <td>0</td>\n",
       "    </tr>\n",
       "    <tr>\n",
       "      <th>45219</th>\n",
       "      <td>2</td>\n",
       "      <td>9</td>\n",
       "      <td>2</td>\n",
       "      <td>9</td>\n",
       "      <td>0</td>\n",
       "      <td>4</td>\n",
       "      <td>1</td>\n",
       "      <td>38</td>\n",
       "      <td>0</td>\n",
       "    </tr>\n",
       "    <tr>\n",
       "      <th>45220</th>\n",
       "      <td>2</td>\n",
       "      <td>9</td>\n",
       "      <td>0</td>\n",
       "      <td>0</td>\n",
       "      <td>3</td>\n",
       "      <td>1</td>\n",
       "      <td>1</td>\n",
       "      <td>38</td>\n",
       "      <td>0</td>\n",
       "    </tr>\n",
       "    <tr>\n",
       "      <th>45221</th>\n",
       "      <td>3</td>\n",
       "      <td>9</td>\n",
       "      <td>2</td>\n",
       "      <td>3</td>\n",
       "      <td>0</td>\n",
       "      <td>4</td>\n",
       "      <td>1</td>\n",
       "      <td>38</td>\n",
       "      <td>1</td>\n",
       "    </tr>\n",
       "  </tbody>\n",
       "</table>\n",
       "<p>45222 rows × 9 columns</p>\n",
       "</div>"
      ],
      "text/plain": [
       "       workclass  education  marital-status  occupation  relationship  race  \\\n",
       "0              5          9               4           0             1     4   \n",
       "1              4          9               2           3             0     4   \n",
       "2              2         11               0           5             1     4   \n",
       "3              2          1               2           5             0     2   \n",
       "4              2          9               2           9             5     2   \n",
       "...          ...        ...             ...         ...           ...   ...   \n",
       "45217          2          9               4           9             3     4   \n",
       "45218          2          9               0           9             1     4   \n",
       "45219          2          9               2           9             0     4   \n",
       "45220          2          9               0           0             3     1   \n",
       "45221          3          9               2           3             0     4   \n",
       "\n",
       "       sex  native-country  class  \n",
       "0        1              38      0  \n",
       "1        1              38      0  \n",
       "2        1              38      0  \n",
       "3        1              38      0  \n",
       "4        0               4      0  \n",
       "...    ...             ...    ...  \n",
       "45217    1              38      0  \n",
       "45218    0              38      0  \n",
       "45219    1              38      0  \n",
       "45220    1              38      0  \n",
       "45221    1              38      1  \n",
       "\n",
       "[45222 rows x 9 columns]"
      ]
     },
     "execution_count": 5,
     "metadata": {},
     "output_type": "execute_result"
    }
   ],
   "source": [
    "from sklearn.preprocessing import LabelEncoder\n",
    "\n",
    "df_e = df.apply(LabelEncoder().fit_transform)\n",
    "df_e"
   ]
  },
  {
   "cell_type": "markdown",
   "metadata": {},
   "source": [
    "#### 2. Train-Test Split"
   ]
  },
  {
   "cell_type": "code",
   "execution_count": 6,
   "metadata": {
    "execution": {
     "iopub.execute_input": "2021-10-11T02:21:11.322346Z",
     "iopub.status.busy": "2021-10-11T02:21:11.322346Z",
     "iopub.status.idle": "2021-10-11T02:21:11.524807Z",
     "shell.execute_reply": "2021-10-11T02:21:11.523850Z",
     "shell.execute_reply.started": "2021-10-11T02:21:11.322346Z"
    },
    "tags": []
   },
   "outputs": [],
   "source": [
    "from sklearn.model_selection import train_test_split\n",
    "\n",
    "random_state = 1\n",
    "\n",
    "x = df_e[df_e.columns.difference(['class'])] # basically means columns that are not 'class'\n",
    "y = df_e[['class']]\n",
    "\n",
    "x_train, x_test, y_train, y_test = train_test_split(x, y, test_size=0.5, random_state=random_state, stratify=y)"
   ]
  },
  {
   "cell_type": "code",
   "execution_count": 7,
   "metadata": {
    "execution": {
     "iopub.execute_input": "2021-10-11T02:21:11.526837Z",
     "iopub.status.busy": "2021-10-11T02:21:11.526837Z",
     "iopub.status.idle": "2021-10-11T02:21:11.743221Z",
     "shell.execute_reply": "2021-10-11T02:21:11.742227Z",
     "shell.execute_reply.started": "2021-10-11T02:21:11.526837Z"
    },
    "tags": []
   },
   "outputs": [
    {
     "data": {
      "image/png": "[encoded data removed]",
      "text/plain": [
       "<Figure size 432x288 with 1 Axes>"
      ]
     },
     "metadata": {
      "needs_background": "light"
     },
     "output_type": "display_data"
    },
    {
     "name": "stdout",
     "output_type": "stream",
     "text": [
      "0    0.752156\n",
      "1    0.247844\n",
      "Name: class, dtype: float64\n"
     ]
    },
    {
     "data": {
      "image/png": "[encoded data removed]",
      "text/plain": [
       "<Figure size 432x288 with 1 Axes>"
      ]
     },
     "metadata": {
      "needs_background": "light"
     },
     "output_type": "display_data"
    },
    {
     "name": "stdout",
     "output_type": "stream",
     "text": [
      "0    0.752156\n",
      "1    0.247844\n",
      "Name: class, dtype: float64\n"
     ]
    }
   ],
   "source": [
    "y_train['class'].value_counts().plot(kind='bar')\n",
    "plt.title('Class Distribution - Train')\n",
    "plt.show()\n",
    "print(y_train['class'].value_counts()/y_train.shape[0])\n",
    "\n",
    "y_test['class'].value_counts().plot(kind='bar')\n",
    "plt.title('Class Distribution - Test')\n",
    "plt.show()\n",
    "print(y_test['class'].value_counts()/y_test.shape[0])"
   ]
  },
  {
   "cell_type": "markdown",
   "metadata": {},
   "source": [
    "#### 3. Fit NB on Train"
   ]
  },
  {
   "cell_type": "code",
   "execution_count": 8,
   "metadata": {
    "execution": {
     "iopub.execute_input": "2021-10-11T02:21:11.744251Z",
     "iopub.status.busy": "2021-10-11T02:21:11.744251Z",
     "iopub.status.idle": "2021-10-11T02:21:11.758207Z",
     "shell.execute_reply": "2021-10-11T02:21:11.758207Z",
     "shell.execute_reply.started": "2021-10-11T02:21:11.744251Z"
    },
    "tags": []
   },
   "outputs": [],
   "source": [
    "from sklearn.naive_bayes import CategoricalNB\n",
    "\n",
    "model = CategoricalNB().fit(x_train, y_train.to_numpy().ravel()) # Default laplace smoothing"
   ]
  },
  {
   "cell_type": "markdown",
   "metadata": {},
   "source": [
    "#### 4. Calculate Accuracy"
   ]
  },
  {
   "cell_type": "code",
   "execution_count": 9,
   "metadata": {
    "execution": {
     "iopub.execute_input": "2021-10-11T02:21:11.759178Z",
     "iopub.status.busy": "2021-10-11T02:21:11.759178Z",
     "iopub.status.idle": "2021-10-11T02:21:11.775138Z",
     "shell.execute_reply": "2021-10-11T02:21:11.774173Z",
     "shell.execute_reply.started": "2021-10-11T02:21:11.759178Z"
    },
    "tags": []
   },
   "outputs": [
    {
     "data": {
      "text/plain": [
       "0.78314125"
      ]
     },
     "execution_count": 9,
     "metadata": {},
     "output_type": "execute_result"
    }
   ],
   "source": [
    "pcc = 0.752**2 + 0.247**2\n",
    "pcc*1.25"
   ]
  },
  {
   "cell_type": "code",
   "execution_count": 10,
   "metadata": {
    "execution": {
     "iopub.execute_input": "2021-10-11T02:21:11.777132Z",
     "iopub.status.busy": "2021-10-11T02:21:11.776146Z",
     "iopub.status.idle": "2021-10-11T02:21:11.791097Z",
     "shell.execute_reply": "2021-10-11T02:21:11.790134Z",
     "shell.execute_reply.started": "2021-10-11T02:21:11.777132Z"
    },
    "tags": []
   },
   "outputs": [
    {
     "data": {
      "text/plain": [
       "0.7839566589795592"
      ]
     },
     "execution_count": 10,
     "metadata": {},
     "output_type": "execute_result"
    }
   ],
   "source": [
    "np.sum((y_test['class'].value_counts()/y_test.shape[0])**2)*1.25"
   ]
  },
  {
   "cell_type": "code",
   "execution_count": 11,
   "metadata": {
    "execution": {
     "iopub.execute_input": "2021-10-11T02:21:11.793089Z",
     "iopub.status.busy": "2021-10-11T02:21:11.792092Z",
     "iopub.status.idle": "2021-10-11T02:21:11.822010Z",
     "shell.execute_reply": "2021-10-11T02:21:11.822010Z",
     "shell.execute_reply.started": "2021-10-11T02:21:11.792092Z"
    },
    "tags": []
   },
   "outputs": [
    {
     "name": "stdout",
     "output_type": "stream",
     "text": [
      "Train Acc = 0.7889522798637831\n",
      " Test Acc = 0.788111980894255\n"
     ]
    }
   ],
   "source": [
    "print('Train Acc =', model.score(x_train, y_train))\n",
    "print(' Test Acc =', model.score(x_test, y_test))"
   ]
  },
  {
   "cell_type": "markdown",
   "metadata": {},
   "source": [
    "### Exercise - Compare to Other Classifiers\n",
    "\n",
    "Compare the performance of this model to the other classifiers you've learned in ML1.\n",
    "\n",
    "Pay particular attention to both <u>*accuracy* and *training time*</u>!"
   ]
  },
  {
   "cell_type": "code",
   "execution_count": 16,
   "metadata": {
    "execution": {
     "iopub.execute_input": "2021-10-11T02:22:41.629840Z",
     "iopub.status.busy": "2021-10-11T02:22:41.628858Z",
     "iopub.status.idle": "2021-10-11T02:22:41.646810Z",
     "shell.execute_reply": "2021-10-11T02:22:41.646810Z",
     "shell.execute_reply.started": "2021-10-11T02:22:41.629840Z"
    },
    "tags": []
   },
   "outputs": [],
   "source": [
    "# Your code here\n",
    "\n",
    "def train_logistic(X, y, mode, plot=True):\n",
    "    import time\n",
    "    from sklearn.model_selection import train_test_split\n",
    "    from sklearn.model_selection import GridSearchCV\n",
    "    from sklearn.preprocessing import MinMaxScaler\n",
    "    from sklearn.linear_model import LogisticRegression\n",
    "    start_time = time.time()\n",
    "    MM_scaler = MinMaxScaler()\n",
    "    \n",
    "    X_train_full, X_test, y_train_full, y_test = train_test_split(X,\n",
    "                                                                  y,\n",
    "                                                                  test_size=0.5,\n",
    "                                                                  random_state=1,\n",
    "                                                                 stratify=y)\n",
    "    X_train_full_scaled = MM_scaler.fit_transform(X_train_full.astype(float))\n",
    "\n",
    "    X_test_scaled = MM_scaler.transform(X_test.astype(float))\n",
    "    \n",
    "        \n",
    "    \n",
    "    C_list = np.logspace(-3,3,10)\n",
    "    \n",
    "    if mode == 'l1':\n",
    "        parameters = {'C': C_list,\n",
    "                      'penalty': [mode],\n",
    "                      'solver': ['liblinear']}\n",
    "    if mode == 'l2':\n",
    "        parameters = {'C': C_list,\n",
    "                      'penalty': [mode],\n",
    "                      'dual': [False]}\n",
    "\n",
    "    \n",
    "    GS = GridSearchCV(\n",
    "        LogisticRegression(), parameters, cv=8, return_train_score=True\n",
    "    )\n",
    "\n",
    "    GS.fit(X_train_full_scaled, y_train_full)\n",
    "\n",
    "    best_model = GS.best_estimator_\n",
    "    # best_k = GS.cv_results_['mean_test_score'].argmax()\n",
    "    print(best_model)\n",
    "    best_c_idx = GS.cv_results_['mean_test_score'].argmax()\n",
    "    best_c = GS.best_params_['C']\n",
    "    best_val_acc = GS.cv_results_['mean_test_score'][best_c_idx]\n",
    "    best_train_acc = GS.cv_results_['mean_train_score'][best_c_idx]\n",
    "\n",
    "    # plotting error bars\n",
    "    if plot:\n",
    "        plt.errorbar(C_list, GS.cv_results_['mean_train_score'],\n",
    "                 yerr=GS.cv_results_['std_train_score'], label=\"training accuracy\",\n",
    "                     color='#004369')\n",
    "        plt.errorbar(C_list,  GS.cv_results_['mean_test_score'],\n",
    "                     yerr=GS.cv_results_['std_test_score']/6, label=\"test accuracy\",\n",
    "                     color='#FFA500')\n",
    "        #     plt.text((best_k+1/max_k+1), 0.5, f'n_neighbor = {best_k+1}', size=28)\n",
    "        plt.ylabel(\"Accuracy\")\n",
    "        plt.xscale('log')\n",
    "        plt.xlabel(\"C\")\n",
    "        plt.axvline(C_list[best_c_idx], color='#DB1F48', ls='--', lw=0.6)\n",
    "        plt.legend()\n",
    "        plt.show()\n",
    "        \n",
    "        \n",
    "\n",
    "    # testing test set using optimal model\n",
    "    test_score_list = []\n",
    "    coefs_list = []\n",
    "    for seed in range(n_trials):\n",
    "\n",
    "        X_train_full, X_test, y_train_full, y_test = train_test_split(X,\n",
    "                                                                      y,\n",
    "                                                                     test_size=0.2,\n",
    "                                                                      random_state=seed)\n",
    "        # scale the X_train_full and X_test\n",
    "        X_train_full_scaled = MM_scaler.fit_transform(X_train_full.astype(float))\n",
    "\n",
    "        X_test_scaled = MM_scaler.transform(X_test.astype(float))\n",
    "\n",
    "\n",
    "\n",
    "        best_model.fit(X_train_full_scaled, y_train_full)\n",
    "        test_score = best_model.score(X_test_scaled, y_test)\n",
    "        test_score_list.append(test_score)\n",
    "\n",
    "        coefs = best_model.coef_\n",
    "        coefs_list.append(coefs)\n",
    "    test_score_means = np.mean(test_score_list)\n",
    "    coefs_mean = np.mean(coefs_list, axis=0)[0]\n",
    "    coefs_mean\n",
    "\n",
    "    # plotting top predictors\n",
    "    # len(coefs_mean)\n",
    "#     display(X.columns)\n",
    "    if plot:\n",
    "        fig, ax = plt.subplots(figsize=(10,7))\n",
    "        ax.barh(np.arange(len(coefs_mean)), sorted(coefs_mean))\n",
    "\n",
    "        ax.set_yticks(np.arange(len(coefs_mean)))\n",
    "        ax.set_yticklabels(X.columns[np.argsort(coefs_mean)])\n",
    "        plt.show()\n",
    "\n",
    "    top_pred = X.columns[np.argmax(np.abs(coefs_mean))]\n",
    "    runtime = time.time() - start_time\n",
    "    'Model, Hyperparam, best params, trainacc, valacc, testacc, toppred, runtime'\n",
    "    return [f'Logistic Regression ({mode})', 'C', best_c, best_train_acc, best_val_acc, test_score_means, top_pred, runtime]"
   ]
  },
  {
   "cell_type": "code",
   "execution_count": 17,
   "metadata": {
    "execution": {
     "iopub.execute_input": "2021-10-11T02:22:42.767812Z",
     "iopub.status.busy": "2021-10-11T02:22:42.767812Z",
     "iopub.status.idle": "2021-10-11T02:22:59.140990Z",
     "shell.execute_reply": "2021-10-11T02:22:59.140990Z",
     "shell.execute_reply.started": "2021-10-11T02:22:42.767812Z"
    },
    "tags": []
   },
   "outputs": [
    {
     "name": "stdout",
     "output_type": "stream",
     "text": [
      "LogisticRegression(C=0.001, penalty='l1', solver='liblinear')\n"
     ]
    },
    {
     "data": {
      "text/plain": [
       "['Logistic Regression (l1)',\n",
       " 'C',\n",
       " 0.001,\n",
       " 0.7521560305813781,\n",
       " 0.7521560464492756,\n",
       " 0.7523670536207852,\n",
       " 'relationship',\n",
       " 16.368222951889038]"
      ]
     },
     "execution_count": 17,
     "metadata": {},
     "output_type": "execute_result"
    }
   ],
   "source": [
    "n_trials = 50\n",
    "train_logistic(x,y.to_numpy().ravel(), 'l1', False)"
   ]
  },
  {
   "cell_type": "code",
   "execution_count": null,
   "metadata": {},
   "outputs": [],
   "source": []
  },
  {
   "cell_type": "code",
   "execution_count": null,
   "metadata": {},
   "outputs": [
    {
     "name": "stderr",
     "output_type": "stream",
     "text": [
      "C:\\Users\\JG\\anaconda3\\lib\\site-packages\\sklearn\\utils\\validation.py:63: DataConversionWarning: A column-vector y was passed when a 1d array was expected. Please change the shape of y to (n_samples, ), for example using ravel().\n",
      "  return f(*args, **kwargs)\n"
     ]
    },
    {
     "data": {
      "text/plain": [
       "0.7521560302507629"
      ]
     },
     "execution_count": 23,
     "metadata": {},
     "output_type": "execute_result"
    }
   ],
   "source": [
    "from sklearn.linear_model import LogisticRegression\n",
    "\n",
    "LR = LogisticRegression(penalty='l1', C=0.001, solver='liblinear').fit(x_train, y_train)\n",
    "LR.score(x_train, y_train)"
   ]
  },
  {
   "cell_type": "code",
   "execution_count": 24,
   "metadata": {
    "execution": {
     "iopub.execute_input": "2021-10-04T07:58:07.306407Z",
     "iopub.status.busy": "2021-10-04T07:58:07.306407Z",
     "iopub.status.idle": "2021-10-04T07:58:07.325357Z",
     "shell.execute_reply": "2021-10-04T07:58:07.324359Z",
     "shell.execute_reply.started": "2021-10-04T07:58:07.306407Z"
    },
    "tags": []
   },
   "outputs": [
    {
     "data": {
      "text/plain": [
       "0.7521560302507629"
      ]
     },
     "execution_count": 24,
     "metadata": {},
     "output_type": "execute_result"
    }
   ],
   "source": [
    "LR.score(x_test, y_test)"
   ]
  },
  {
   "cell_type": "markdown",
   "metadata": {},
   "source": [
    "### Exercise - Classification with Mixed Data Types\n",
    "\n",
    "Extend the pipeline above by using both numerical and categorical data types. Combine the `GaussianNB` and `CategoricalNB` models."
   ]
  },
  {
   "cell_type": "code",
   "execution_count": null,
   "metadata": {},
   "outputs": [],
   "source": [
    "# Your code here"
   ]
  }
 ],
 "metadata": {
  "colab": {
   "authorship_tag": "ABX9TyO+AksVj6O1NtUXK3BVSw9H",
   "collapsed_sections": [],
   "mount_file_id": "1h9KphQD9lHl8On2417pLFfgXOdQiBbOt",
   "name": "ml2_arima_pt1.ipynb",
   "provenance": [],
   "toc_visible": true
  },
  "kernelspec": {
   "display_name": "Python 3 (ipykernel)",
   "language": "python",
   "name": "python3"
  },
  "language_info": {
   "codemirror_mode": {
    "name": "ipython",
    "version": 3
   },
   "file_extension": ".py",
   "mimetype": "text/x-python",
   "name": "python",
   "nbconvert_exporter": "python",
   "pygments_lexer": "ipython3",
   "version": "3.8.12"
  }
 },
 "nbformat": 4,
 "nbformat_minor": 4
}
