{
 "cells": [
  {
   "cell_type": "code",
   "execution_count": 1,
   "id": "f231f967-3a56-4b7c-9a54-442e41c36514",
   "metadata": {
    "execution": {
     "iopub.execute_input": "2021-10-11T02:15:45.349137Z",
     "iopub.status.busy": "2021-10-11T02:15:45.349137Z",
     "iopub.status.idle": "2021-10-11T02:15:48.010998Z",
     "shell.execute_reply": "2021-10-11T02:15:48.009999Z",
     "shell.execute_reply.started": "2021-10-11T02:15:45.349137Z"
    },
    "tags": []
   },
   "outputs": [],
   "source": [
    "import pandas as pd\n",
    "import numpy as np\n",
    "import matplotlib.pyplot as plt\n",
    "%matplotlib inline\n",
    "\n",
    "import nltk\n",
    "from nltk.stem import SnowballStemmer\n",
    "from nltk.corpus import stopwords\n",
    "from nltk.tokenize import word_tokenize\n",
    "from nltk.tokenize import RegexpTokenizer\n",
    "from nltk.stem import WordNetLemmatizer\n",
    "\n",
    "from sklearn.feature_extraction.text import CountVectorizer\n",
    "from sklearn.model_selection import train_test_split\n",
    "from sklearn.naive_bayes import MultinomialNB\n",
    "import seaborn as sns"
   ]
  },
  {
   "cell_type": "code",
   "execution_count": 2,
   "id": "055a9d85-9978-4c86-9800-36d1f36cf48f",
   "metadata": {
    "execution": {
     "iopub.execute_input": "2021-10-11T02:15:48.012989Z",
     "iopub.status.busy": "2021-10-11T02:15:48.012989Z",
     "iopub.status.idle": "2021-10-11T02:15:48.218440Z",
     "shell.execute_reply": "2021-10-11T02:15:48.217441Z",
     "shell.execute_reply.started": "2021-10-11T02:15:48.012989Z"
    },
    "tags": []
   },
   "outputs": [
    {
     "data": {
      "text/html": [
       "<div>\n",
       "<style scoped>\n",
       "    .dataframe tbody tr th:only-of-type {\n",
       "        vertical-align: middle;\n",
       "    }\n",
       "\n",
       "    .dataframe tbody tr th {\n",
       "        vertical-align: top;\n",
       "    }\n",
       "\n",
       "    .dataframe thead th {\n",
       "        text-align: right;\n",
       "    }\n",
       "</style>\n",
       "<table border=\"1\" class=\"dataframe\">\n",
       "  <thead>\n",
       "    <tr style=\"text-align: right;\">\n",
       "      <th></th>\n",
       "      <th>CATEGORY</th>\n",
       "      <th>MESSAGE</th>\n",
       "    </tr>\n",
       "  </thead>\n",
       "  <tbody>\n",
       "    <tr>\n",
       "      <th>0</th>\n",
       "      <td>1</td>\n",
       "      <td>Dear Homeowner,\\n\\n \\n\\nInterest Rates are at ...</td>\n",
       "    </tr>\n",
       "    <tr>\n",
       "      <th>1</th>\n",
       "      <td>1</td>\n",
       "      <td>ATTENTION: This is a MUST for ALL Computer Use...</td>\n",
       "    </tr>\n",
       "    <tr>\n",
       "      <th>2</th>\n",
       "      <td>1</td>\n",
       "      <td>This is a multi-part message in MIME format.\\n...</td>\n",
       "    </tr>\n",
       "    <tr>\n",
       "      <th>3</th>\n",
       "      <td>1</td>\n",
       "      <td>IMPORTANT INFORMATION:\\n\\n\\n\\nThe new domain n...</td>\n",
       "    </tr>\n",
       "    <tr>\n",
       "      <th>4</th>\n",
       "      <td>1</td>\n",
       "      <td>This is the bottom line.  If you can GIVE AWAY...</td>\n",
       "    </tr>\n",
       "    <tr>\n",
       "      <th>...</th>\n",
       "      <td>...</td>\n",
       "      <td>...</td>\n",
       "    </tr>\n",
       "    <tr>\n",
       "      <th>5791</th>\n",
       "      <td>0</td>\n",
       "      <td>I'm one of the 30,000 but it's not working ver...</td>\n",
       "    </tr>\n",
       "    <tr>\n",
       "      <th>5792</th>\n",
       "      <td>0</td>\n",
       "      <td>Damien Morton quoted:\\n\\n&gt;W3C approves HTML 4 ...</td>\n",
       "    </tr>\n",
       "    <tr>\n",
       "      <th>5793</th>\n",
       "      <td>0</td>\n",
       "      <td>On Mon, 2002-07-22 at 06:50, che wrote:\\n\\n\\n\\...</td>\n",
       "    </tr>\n",
       "    <tr>\n",
       "      <th>5794</th>\n",
       "      <td>0</td>\n",
       "      <td>Once upon a time, Manfred wrote :\\n\\n\\n\\n&gt; I w...</td>\n",
       "    </tr>\n",
       "    <tr>\n",
       "      <th>5795</th>\n",
       "      <td>0</td>\n",
       "      <td>If you run Pick, and then use the \"New FTOC\" b...</td>\n",
       "    </tr>\n",
       "  </tbody>\n",
       "</table>\n",
       "<p>5796 rows × 2 columns</p>\n",
       "</div>"
      ],
      "text/plain": [
       "      CATEGORY                                            MESSAGE\n",
       "0            1  Dear Homeowner,\\n\\n \\n\\nInterest Rates are at ...\n",
       "1            1  ATTENTION: This is a MUST for ALL Computer Use...\n",
       "2            1  This is a multi-part message in MIME format.\\n...\n",
       "3            1  IMPORTANT INFORMATION:\\n\\n\\n\\nThe new domain n...\n",
       "4            1  This is the bottom line.  If you can GIVE AWAY...\n",
       "...        ...                                                ...\n",
       "5791         0  I'm one of the 30,000 but it's not working ver...\n",
       "5792         0  Damien Morton quoted:\\n\\n>W3C approves HTML 4 ...\n",
       "5793         0  On Mon, 2002-07-22 at 06:50, che wrote:\\n\\n\\n\\...\n",
       "5794         0  Once upon a time, Manfred wrote :\\n\\n\\n\\n> I w...\n",
       "5795         0  If you run Pick, and then use the \"New FTOC\" b...\n",
       "\n",
       "[5796 rows x 2 columns]"
      ]
     },
     "execution_count": 2,
     "metadata": {},
     "output_type": "execute_result"
    }
   ],
   "source": [
    "df = pd.read_csv('Spam Email raw text for NLP.csv').drop('FILE_NAME', axis=1)\n",
    "df"
   ]
  },
  {
   "cell_type": "markdown",
   "id": "a95c45b2-341b-4c10-a284-d4c712c237b0",
   "metadata": {},
   "source": [
    "EDA"
   ]
  },
  {
   "cell_type": "code",
   "execution_count": 3,
   "id": "c03c498e-8e0b-4d0c-ade1-49a128735dc9",
   "metadata": {
    "execution": {
     "iopub.execute_input": "2021-10-11T02:15:48.220440Z",
     "iopub.status.busy": "2021-10-11T02:15:48.219439Z",
     "iopub.status.idle": "2021-10-11T02:15:48.400983Z",
     "shell.execute_reply": "2021-10-11T02:15:48.400983Z",
     "shell.execute_reply.started": "2021-10-11T02:15:48.220440Z"
    },
    "tags": []
   },
   "outputs": [
    {
     "data": {
      "text/plain": [
       "<AxesSubplot:xlabel='CATEGORY', ylabel='count'>"
      ]
     },
     "execution_count": 3,
     "metadata": {},
     "output_type": "execute_result"
    },
    {
     "data": {
      "image/png": "[encoded data removed]",
      "text/plain": [
       "<Figure size 432x288 with 1 Axes>"
      ]
     },
     "metadata": {
      "needs_background": "light"
     },
     "output_type": "display_data"
    }
   ],
   "source": [
    "sns.countplot(data=df, x='CATEGORY')"
   ]
  },
  {
   "cell_type": "code",
   "execution_count": 4,
   "id": "79fdd48f-04ad-4d85-8968-8518c51b732f",
   "metadata": {
    "execution": {
     "iopub.execute_input": "2021-10-11T02:15:48.402946Z",
     "iopub.status.busy": "2021-10-11T02:15:48.402946Z",
     "iopub.status.idle": "2021-10-11T02:15:48.417911Z",
     "shell.execute_reply": "2021-10-11T02:15:48.416946Z",
     "shell.execute_reply.started": "2021-10-11T02:15:48.402946Z"
    }
   },
   "outputs": [],
   "source": [
    "#PCC"
   ]
  },
  {
   "cell_type": "code",
   "execution_count": null,
   "id": "675cbd68-24e4-4a00-ad75-19b3379516e1",
   "metadata": {},
   "outputs": [],
   "source": []
  },
  {
   "cell_type": "code",
   "execution_count": 5,
   "id": "d023b1d4-3cdc-42d9-a1e1-ca0f1875046b",
   "metadata": {
    "execution": {
     "iopub.execute_input": "2021-10-11T02:15:48.418903Z",
     "iopub.status.busy": "2021-10-11T02:15:48.418903Z",
     "iopub.status.idle": "2021-10-11T02:15:48.433863Z",
     "shell.execute_reply": "2021-10-11T02:15:48.432895Z",
     "shell.execute_reply.started": "2021-10-11T02:15:48.418903Z"
    },
    "tags": []
   },
   "outputs": [],
   "source": [
    "# import nltk\n",
    "# nltk.download('punkt')\n",
    "# words = [' '.join(word_tokenize(x.lower())) for x in df['MESSAGE']]"
   ]
  },
  {
   "cell_type": "code",
   "execution_count": 6,
   "id": "4dbec8d3-0467-4252-865c-423717219a32",
   "metadata": {
    "execution": {
     "iopub.execute_input": "2021-10-11T02:15:48.434862Z",
     "iopub.status.busy": "2021-10-11T02:15:48.434862Z",
     "iopub.status.idle": "2021-10-11T02:15:49.165919Z",
     "shell.execute_reply": "2021-10-11T02:15:49.165080Z",
     "shell.execute_reply.started": "2021-10-11T02:15:48.434862Z"
    },
    "tags": []
   },
   "outputs": [],
   "source": [
    "tokenizer = RegexpTokenizer(r'[^0-9\\s,\\.\\-\\?!:;\\(\\)\\\"\\\"\\#\\$\\%\\&\\*><\\/]+')\n",
    "\n",
    "words = [' '.join(tokenizer.tokenize(x.lower())) for x in df['MESSAGE']]"
   ]
  },
  {
   "cell_type": "code",
   "execution_count": 7,
   "id": "f7ca0519-98cb-46a5-9f60-19addc64c966",
   "metadata": {
    "execution": {
     "iopub.execute_input": "2021-10-11T02:15:49.166903Z",
     "iopub.status.busy": "2021-10-11T02:15:49.166903Z",
     "iopub.status.idle": "2021-10-11T02:15:49.195859Z",
     "shell.execute_reply": "2021-10-11T02:15:49.195859Z",
     "shell.execute_reply.started": "2021-10-11T02:15:49.166903Z"
    },
    "tags": []
   },
   "outputs": [
    {
     "data": {
      "text/html": [
       "<div>\n",
       "<style scoped>\n",
       "    .dataframe tbody tr th:only-of-type {\n",
       "        vertical-align: middle;\n",
       "    }\n",
       "\n",
       "    .dataframe tbody tr th {\n",
       "        vertical-align: top;\n",
       "    }\n",
       "\n",
       "    .dataframe thead th {\n",
       "        text-align: right;\n",
       "    }\n",
       "</style>\n",
       "<table border=\"1\" class=\"dataframe\">\n",
       "  <thead>\n",
       "    <tr style=\"text-align: right;\">\n",
       "      <th></th>\n",
       "      <th>CATEGORY</th>\n",
       "      <th>MESSAGE</th>\n",
       "      <th>clean</th>\n",
       "    </tr>\n",
       "  </thead>\n",
       "  <tbody>\n",
       "    <tr>\n",
       "      <th>0</th>\n",
       "      <td>1</td>\n",
       "      <td>Dear Homeowner,\\n\\n \\n\\nInterest Rates are at ...</td>\n",
       "      <td>dear homeowner interest rates are at their low...</td>\n",
       "    </tr>\n",
       "    <tr>\n",
       "      <th>1</th>\n",
       "      <td>1</td>\n",
       "      <td>ATTENTION: This is a MUST for ALL Computer Use...</td>\n",
       "      <td>attention this is a must for all computer user...</td>\n",
       "    </tr>\n",
       "    <tr>\n",
       "      <th>2</th>\n",
       "      <td>1</td>\n",
       "      <td>This is a multi-part message in MIME format.\\n...</td>\n",
       "      <td>this is a multi part message in mime format =_...</td>\n",
       "    </tr>\n",
       "    <tr>\n",
       "      <th>3</th>\n",
       "      <td>1</td>\n",
       "      <td>IMPORTANT INFORMATION:\\n\\n\\n\\nThe new domain n...</td>\n",
       "      <td>important information the new domain names are...</td>\n",
       "    </tr>\n",
       "    <tr>\n",
       "      <th>4</th>\n",
       "      <td>1</td>\n",
       "      <td>This is the bottom line.  If you can GIVE AWAY...</td>\n",
       "      <td>this is the bottom line if you can give away c...</td>\n",
       "    </tr>\n",
       "    <tr>\n",
       "      <th>...</th>\n",
       "      <td>...</td>\n",
       "      <td>...</td>\n",
       "      <td>...</td>\n",
       "    </tr>\n",
       "    <tr>\n",
       "      <th>5791</th>\n",
       "      <td>0</td>\n",
       "      <td>I'm one of the 30,000 but it's not working ver...</td>\n",
       "      <td>i'm one of the but it's not working very well ...</td>\n",
       "    </tr>\n",
       "    <tr>\n",
       "      <th>5792</th>\n",
       "      <td>0</td>\n",
       "      <td>Damien Morton quoted:\\n\\n&gt;W3C approves HTML 4 ...</td>\n",
       "      <td>damien morton quoted w c approves html 'emotit...</td>\n",
       "    </tr>\n",
       "    <tr>\n",
       "      <th>5793</th>\n",
       "      <td>0</td>\n",
       "      <td>On Mon, 2002-07-22 at 06:50, che wrote:\\n\\n\\n\\...</td>\n",
       "      <td>on mon at che wrote thats the correct lines to...</td>\n",
       "    </tr>\n",
       "    <tr>\n",
       "      <th>5794</th>\n",
       "      <td>0</td>\n",
       "      <td>Once upon a time, Manfred wrote :\\n\\n\\n\\n&gt; I w...</td>\n",
       "      <td>once upon a time manfred wrote i would like to...</td>\n",
       "    </tr>\n",
       "    <tr>\n",
       "      <th>5795</th>\n",
       "      <td>0</td>\n",
       "      <td>If you run Pick, and then use the \"New FTOC\" b...</td>\n",
       "      <td>if you run pick and then use the new ftoc butt...</td>\n",
       "    </tr>\n",
       "  </tbody>\n",
       "</table>\n",
       "<p>5796 rows × 3 columns</p>\n",
       "</div>"
      ],
      "text/plain": [
       "      CATEGORY                                            MESSAGE  \\\n",
       "0            1  Dear Homeowner,\\n\\n \\n\\nInterest Rates are at ...   \n",
       "1            1  ATTENTION: This is a MUST for ALL Computer Use...   \n",
       "2            1  This is a multi-part message in MIME format.\\n...   \n",
       "3            1  IMPORTANT INFORMATION:\\n\\n\\n\\nThe new domain n...   \n",
       "4            1  This is the bottom line.  If you can GIVE AWAY...   \n",
       "...        ...                                                ...   \n",
       "5791         0  I'm one of the 30,000 but it's not working ver...   \n",
       "5792         0  Damien Morton quoted:\\n\\n>W3C approves HTML 4 ...   \n",
       "5793         0  On Mon, 2002-07-22 at 06:50, che wrote:\\n\\n\\n\\...   \n",
       "5794         0  Once upon a time, Manfred wrote :\\n\\n\\n\\n> I w...   \n",
       "5795         0  If you run Pick, and then use the \"New FTOC\" b...   \n",
       "\n",
       "                                                  clean  \n",
       "0     dear homeowner interest rates are at their low...  \n",
       "1     attention this is a must for all computer user...  \n",
       "2     this is a multi part message in mime format =_...  \n",
       "3     important information the new domain names are...  \n",
       "4     this is the bottom line if you can give away c...  \n",
       "...                                                 ...  \n",
       "5791  i'm one of the but it's not working very well ...  \n",
       "5792  damien morton quoted w c approves html 'emotit...  \n",
       "5793  on mon at che wrote thats the correct lines to...  \n",
       "5794  once upon a time manfred wrote i would like to...  \n",
       "5795  if you run pick and then use the new ftoc butt...  \n",
       "\n",
       "[5796 rows x 3 columns]"
      ]
     },
     "execution_count": 7,
     "metadata": {},
     "output_type": "execute_result"
    }
   ],
   "source": [
    "df['clean'] = words\n",
    "df"
   ]
  },
  {
   "cell_type": "markdown",
   "id": "525f77cb-743a-4532-b7c9-6aba57ea5e79",
   "metadata": {},
   "source": [
    "Bag of Words"
   ]
  },
  {
   "cell_type": "code",
   "execution_count": 8,
   "id": "6b937585-d157-436b-9270-7efb60dbc22a",
   "metadata": {
    "execution": {
     "iopub.execute_input": "2021-10-11T02:15:49.196840Z",
     "iopub.status.busy": "2021-10-11T02:15:49.196840Z",
     "iopub.status.idle": "2021-10-11T02:15:53.665872Z",
     "shell.execute_reply": "2021-10-11T02:15:53.665872Z",
     "shell.execute_reply.started": "2021-10-11T02:15:49.196840Z"
    },
    "tags": []
   },
   "outputs": [
    {
     "data": {
      "text/html": [
       "<div>\n",
       "<style scoped>\n",
       "    .dataframe tbody tr th:only-of-type {\n",
       "        vertical-align: middle;\n",
       "    }\n",
       "\n",
       "    .dataframe tbody tr th {\n",
       "        vertical-align: top;\n",
       "    }\n",
       "\n",
       "    .dataframe thead th {\n",
       "        text-align: right;\n",
       "    }\n",
       "</style>\n",
       "<table border=\"1\" class=\"dataframe\">\n",
       "  <thead>\n",
       "    <tr style=\"text-align: right;\">\n",
       "      <th></th>\n",
       "      <th>dear</th>\n",
       "      <th>homeowner</th>\n",
       "      <th>rates</th>\n",
       "      <th>lowest</th>\n",
       "      <th>point</th>\n",
       "      <th>years</th>\n",
       "      <th>help</th>\n",
       "      <th>best</th>\n",
       "      <th>rate</th>\n",
       "      <th>situation</th>\n",
       "      <th>...</th>\n",
       "      <th>neuroscience</th>\n",
       "      <th>muldentalweg</th>\n",
       "      <th>ribbon</th>\n",
       "      <th>campain</th>\n",
       "      <th>bennewitz</th>\n",
       "      <th>interpreters</th>\n",
       "      <th>rockall</th>\n",
       "      <th>funniness</th>\n",
       "      <th>dimv</th>\n",
       "      <th>initialize</th>\n",
       "    </tr>\n",
       "  </thead>\n",
       "  <tbody>\n",
       "    <tr>\n",
       "      <th>0</th>\n",
       "      <td>0</td>\n",
       "      <td>0</td>\n",
       "      <td>0</td>\n",
       "      <td>0</td>\n",
       "      <td>0</td>\n",
       "      <td>0</td>\n",
       "      <td>0</td>\n",
       "      <td>0</td>\n",
       "      <td>0</td>\n",
       "      <td>0</td>\n",
       "      <td>...</td>\n",
       "      <td>0</td>\n",
       "      <td>0</td>\n",
       "      <td>0</td>\n",
       "      <td>0</td>\n",
       "      <td>0</td>\n",
       "      <td>0</td>\n",
       "      <td>0</td>\n",
       "      <td>0</td>\n",
       "      <td>0</td>\n",
       "      <td>0</td>\n",
       "    </tr>\n",
       "    <tr>\n",
       "      <th>1</th>\n",
       "      <td>0</td>\n",
       "      <td>0</td>\n",
       "      <td>0</td>\n",
       "      <td>0</td>\n",
       "      <td>0</td>\n",
       "      <td>0</td>\n",
       "      <td>0</td>\n",
       "      <td>0</td>\n",
       "      <td>0</td>\n",
       "      <td>0</td>\n",
       "      <td>...</td>\n",
       "      <td>0</td>\n",
       "      <td>0</td>\n",
       "      <td>0</td>\n",
       "      <td>0</td>\n",
       "      <td>0</td>\n",
       "      <td>0</td>\n",
       "      <td>0</td>\n",
       "      <td>0</td>\n",
       "      <td>0</td>\n",
       "      <td>0</td>\n",
       "    </tr>\n",
       "    <tr>\n",
       "      <th>2</th>\n",
       "      <td>0</td>\n",
       "      <td>0</td>\n",
       "      <td>0</td>\n",
       "      <td>0</td>\n",
       "      <td>0</td>\n",
       "      <td>0</td>\n",
       "      <td>0</td>\n",
       "      <td>0</td>\n",
       "      <td>0</td>\n",
       "      <td>0</td>\n",
       "      <td>...</td>\n",
       "      <td>0</td>\n",
       "      <td>0</td>\n",
       "      <td>0</td>\n",
       "      <td>0</td>\n",
       "      <td>0</td>\n",
       "      <td>0</td>\n",
       "      <td>0</td>\n",
       "      <td>0</td>\n",
       "      <td>0</td>\n",
       "      <td>0</td>\n",
       "    </tr>\n",
       "    <tr>\n",
       "      <th>3</th>\n",
       "      <td>0</td>\n",
       "      <td>0</td>\n",
       "      <td>0</td>\n",
       "      <td>0</td>\n",
       "      <td>0</td>\n",
       "      <td>0</td>\n",
       "      <td>0</td>\n",
       "      <td>0</td>\n",
       "      <td>0</td>\n",
       "      <td>0</td>\n",
       "      <td>...</td>\n",
       "      <td>0</td>\n",
       "      <td>0</td>\n",
       "      <td>0</td>\n",
       "      <td>0</td>\n",
       "      <td>0</td>\n",
       "      <td>0</td>\n",
       "      <td>0</td>\n",
       "      <td>0</td>\n",
       "      <td>0</td>\n",
       "      <td>0</td>\n",
       "    </tr>\n",
       "    <tr>\n",
       "      <th>4</th>\n",
       "      <td>0</td>\n",
       "      <td>0</td>\n",
       "      <td>0</td>\n",
       "      <td>0</td>\n",
       "      <td>0</td>\n",
       "      <td>0</td>\n",
       "      <td>0</td>\n",
       "      <td>0</td>\n",
       "      <td>0</td>\n",
       "      <td>0</td>\n",
       "      <td>...</td>\n",
       "      <td>0</td>\n",
       "      <td>0</td>\n",
       "      <td>0</td>\n",
       "      <td>0</td>\n",
       "      <td>0</td>\n",
       "      <td>0</td>\n",
       "      <td>0</td>\n",
       "      <td>0</td>\n",
       "      <td>0</td>\n",
       "      <td>0</td>\n",
       "    </tr>\n",
       "    <tr>\n",
       "      <th>...</th>\n",
       "      <td>...</td>\n",
       "      <td>...</td>\n",
       "      <td>...</td>\n",
       "      <td>...</td>\n",
       "      <td>...</td>\n",
       "      <td>...</td>\n",
       "      <td>...</td>\n",
       "      <td>...</td>\n",
       "      <td>...</td>\n",
       "      <td>...</td>\n",
       "      <td>...</td>\n",
       "      <td>...</td>\n",
       "      <td>...</td>\n",
       "      <td>...</td>\n",
       "      <td>...</td>\n",
       "      <td>...</td>\n",
       "      <td>...</td>\n",
       "      <td>...</td>\n",
       "      <td>...</td>\n",
       "      <td>...</td>\n",
       "      <td>...</td>\n",
       "    </tr>\n",
       "    <tr>\n",
       "      <th>5791</th>\n",
       "      <td>0</td>\n",
       "      <td>0</td>\n",
       "      <td>0</td>\n",
       "      <td>0</td>\n",
       "      <td>0</td>\n",
       "      <td>0</td>\n",
       "      <td>0</td>\n",
       "      <td>0</td>\n",
       "      <td>0</td>\n",
       "      <td>0</td>\n",
       "      <td>...</td>\n",
       "      <td>0</td>\n",
       "      <td>0</td>\n",
       "      <td>0</td>\n",
       "      <td>0</td>\n",
       "      <td>0</td>\n",
       "      <td>0</td>\n",
       "      <td>0</td>\n",
       "      <td>0</td>\n",
       "      <td>0</td>\n",
       "      <td>0</td>\n",
       "    </tr>\n",
       "    <tr>\n",
       "      <th>5792</th>\n",
       "      <td>0</td>\n",
       "      <td>0</td>\n",
       "      <td>0</td>\n",
       "      <td>0</td>\n",
       "      <td>0</td>\n",
       "      <td>0</td>\n",
       "      <td>0</td>\n",
       "      <td>0</td>\n",
       "      <td>0</td>\n",
       "      <td>0</td>\n",
       "      <td>...</td>\n",
       "      <td>0</td>\n",
       "      <td>0</td>\n",
       "      <td>0</td>\n",
       "      <td>0</td>\n",
       "      <td>0</td>\n",
       "      <td>0</td>\n",
       "      <td>0</td>\n",
       "      <td>0</td>\n",
       "      <td>0</td>\n",
       "      <td>0</td>\n",
       "    </tr>\n",
       "    <tr>\n",
       "      <th>5793</th>\n",
       "      <td>0</td>\n",
       "      <td>0</td>\n",
       "      <td>0</td>\n",
       "      <td>0</td>\n",
       "      <td>0</td>\n",
       "      <td>0</td>\n",
       "      <td>0</td>\n",
       "      <td>0</td>\n",
       "      <td>0</td>\n",
       "      <td>0</td>\n",
       "      <td>...</td>\n",
       "      <td>0</td>\n",
       "      <td>0</td>\n",
       "      <td>0</td>\n",
       "      <td>0</td>\n",
       "      <td>0</td>\n",
       "      <td>0</td>\n",
       "      <td>0</td>\n",
       "      <td>0</td>\n",
       "      <td>0</td>\n",
       "      <td>0</td>\n",
       "    </tr>\n",
       "    <tr>\n",
       "      <th>5794</th>\n",
       "      <td>0</td>\n",
       "      <td>0</td>\n",
       "      <td>0</td>\n",
       "      <td>0</td>\n",
       "      <td>0</td>\n",
       "      <td>0</td>\n",
       "      <td>0</td>\n",
       "      <td>0</td>\n",
       "      <td>0</td>\n",
       "      <td>0</td>\n",
       "      <td>...</td>\n",
       "      <td>0</td>\n",
       "      <td>0</td>\n",
       "      <td>0</td>\n",
       "      <td>0</td>\n",
       "      <td>0</td>\n",
       "      <td>0</td>\n",
       "      <td>0</td>\n",
       "      <td>0</td>\n",
       "      <td>0</td>\n",
       "      <td>0</td>\n",
       "    </tr>\n",
       "    <tr>\n",
       "      <th>5795</th>\n",
       "      <td>0</td>\n",
       "      <td>0</td>\n",
       "      <td>0</td>\n",
       "      <td>0</td>\n",
       "      <td>0</td>\n",
       "      <td>0</td>\n",
       "      <td>0</td>\n",
       "      <td>0</td>\n",
       "      <td>0</td>\n",
       "      <td>0</td>\n",
       "      <td>...</td>\n",
       "      <td>0</td>\n",
       "      <td>0</td>\n",
       "      <td>0</td>\n",
       "      <td>0</td>\n",
       "      <td>0</td>\n",
       "      <td>0</td>\n",
       "      <td>0</td>\n",
       "      <td>0</td>\n",
       "      <td>0</td>\n",
       "      <td>0</td>\n",
       "    </tr>\n",
       "  </tbody>\n",
       "</table>\n",
       "<p>5796 rows × 145533 columns</p>\n",
       "</div>"
      ],
      "text/plain": [
       "      dear  homeowner  rates  lowest  point  years  help  best  rate  \\\n",
       "0        0          0      0       0      0      0     0     0     0   \n",
       "1        0          0      0       0      0      0     0     0     0   \n",
       "2        0          0      0       0      0      0     0     0     0   \n",
       "3        0          0      0       0      0      0     0     0     0   \n",
       "4        0          0      0       0      0      0     0     0     0   \n",
       "...    ...        ...    ...     ...    ...    ...   ...   ...   ...   \n",
       "5791     0          0      0       0      0      0     0     0     0   \n",
       "5792     0          0      0       0      0      0     0     0     0   \n",
       "5793     0          0      0       0      0      0     0     0     0   \n",
       "5794     0          0      0       0      0      0     0     0     0   \n",
       "5795     0          0      0       0      0      0     0     0     0   \n",
       "\n",
       "      situation  ...  neuroscience  muldentalweg  ribbon  campain  bennewitz  \\\n",
       "0             0  ...             0             0       0        0          0   \n",
       "1             0  ...             0             0       0        0          0   \n",
       "2             0  ...             0             0       0        0          0   \n",
       "3             0  ...             0             0       0        0          0   \n",
       "4             0  ...             0             0       0        0          0   \n",
       "...         ...  ...           ...           ...     ...      ...        ...   \n",
       "5791          0  ...             0             0       0        0          0   \n",
       "5792          0  ...             0             0       0        0          0   \n",
       "5793          0  ...             0             0       0        0          0   \n",
       "5794          0  ...             0             0       0        0          0   \n",
       "5795          0  ...             0             0       0        0          0   \n",
       "\n",
       "      interpreters  rockall  funniness  dimv  initialize  \n",
       "0                0        0          0     0           0  \n",
       "1                0        0          0     0           0  \n",
       "2                0        0          0     0           0  \n",
       "3                0        0          0     0           0  \n",
       "4                0        0          0     0           0  \n",
       "...            ...      ...        ...   ...         ...  \n",
       "5791             0        0          0     0           0  \n",
       "5792             0        0          0     0           0  \n",
       "5793             0        0          0     0           0  \n",
       "5794             0        0          0     0           0  \n",
       "5795             0        0          0     0           0  \n",
       "\n",
       "[5796 rows x 145533 columns]"
      ]
     },
     "execution_count": 8,
     "metadata": {},
     "output_type": "execute_result"
    }
   ],
   "source": [
    "vectorizer = CountVectorizer(stop_words='english')\n",
    "bow = vectorizer.fit_transform(df['clean'])\n",
    "\n",
    "feature_names = vectorizer.vocabulary_.keys()\n",
    "df_bow = pd.DataFrame.sparse.from_spmatrix(bow, columns=feature_names)\n",
    "df_bow"
   ]
  },
  {
   "cell_type": "markdown",
   "id": "6ba62218-e7c8-4508-ae4a-edf7981d9cea",
   "metadata": {},
   "source": [
    "Splitting of Train and Test"
   ]
  },
  {
   "cell_type": "code",
   "execution_count": 9,
   "id": "3ac371fa-986f-4bc0-b7f8-830ea6260d1f",
   "metadata": {
    "execution": {
     "iopub.execute_input": "2021-10-11T02:15:53.666868Z",
     "iopub.status.busy": "2021-10-11T02:15:53.666868Z",
     "iopub.status.idle": "2021-10-11T02:16:31.846757Z",
     "shell.execute_reply": "2021-10-11T02:16:31.845938Z",
     "shell.execute_reply.started": "2021-10-11T02:15:53.666868Z"
    },
    "tags": []
   },
   "outputs": [],
   "source": [
    "X_train, X_test, y_train, y_test = train_test_split(df_bow, df.CATEGORY, test_size=0.25, stratify=df.CATEGORY)"
   ]
  },
  {
   "cell_type": "code",
   "execution_count": 14,
   "id": "a1c69421-b8ed-429e-9d65-f287b4f9ecc2",
   "metadata": {
    "execution": {
     "iopub.execute_input": "2021-10-11T02:18:34.202553Z",
     "iopub.status.busy": "2021-10-11T02:18:34.202553Z",
     "iopub.status.idle": "2021-10-11T02:18:44.965736Z",
     "shell.execute_reply": "2021-10-11T02:18:44.964770Z",
     "shell.execute_reply.started": "2021-10-11T02:18:34.202553Z"
    },
    "tags": []
   },
   "outputs": [
    {
     "name": "stdout",
     "output_type": "stream",
     "text": [
      "train score = 0.9974695192086497\n",
      "test score = 0.9641131815044859\n"
     ]
    }
   ],
   "source": [
    "classifier = MultinomialNB(alpha=0.000000001)\n",
    "classifier.fit(X_train, y_train)\n",
    "train_score = classifier.score(X_train, y_train)\n",
    "test_score = classifier.score(X_test, y_test)\n",
    "\n",
    "print(f'train score = {train_score}')\n",
    "print(f'test score = {test_score}')"
   ]
  },
  {
   "cell_type": "code",
   "execution_count": 52,
   "id": "3adb8e34-afc6-4826-aa40-94955b3a7db8",
   "metadata": {
    "execution": {
     "iopub.execute_input": "2021-10-10T14:49:35.363527Z",
     "iopub.status.busy": "2021-10-10T14:49:35.363527Z",
     "iopub.status.idle": "2021-10-10T14:49:37.604488Z",
     "shell.execute_reply": "2021-10-10T14:49:37.604488Z",
     "shell.execute_reply.started": "2021-10-10T14:49:35.363527Z"
    },
    "tags": []
   },
   "outputs": [
    {
     "data": {
      "text/plain": [
       "0    0.067508\n",
       "1    0.284692\n",
       "dtype: float64"
      ]
     },
     "execution_count": 52,
     "metadata": {},
     "output_type": "execute_result"
    }
   ],
   "source": [
    "pd.DataFrame(np.exp(classifier.feature_log_prob_), columns=feature_names).loc[:,list(df_bow.loc[2,:][df_bow.loc[2,:]!=0].index)].sum(axis=1)"
   ]
  },
  {
   "cell_type": "code",
   "execution_count": 53,
   "id": "201a8ce2-3deb-410b-8fff-3d67c362adbc",
   "metadata": {
    "execution": {
     "iopub.execute_input": "2021-10-10T14:49:38.749458Z",
     "iopub.status.busy": "2021-10-10T14:49:38.748437Z",
     "iopub.status.idle": "2021-10-10T14:49:38.762392Z",
     "shell.execute_reply": "2021-10-10T14:49:38.761397Z",
     "shell.execute_reply.started": "2021-10-10T14:49:38.749458Z"
    },
    "tags": []
   },
   "outputs": [
    {
     "data": {
      "text/plain": [
       "1"
      ]
     },
     "execution_count": 53,
     "metadata": {},
     "output_type": "execute_result"
    }
   ],
   "source": [
    "y_train[2]"
   ]
  },
  {
   "cell_type": "code",
   "execution_count": 41,
   "id": "515fbc82-fa6f-46d6-a6d6-da2974c26017",
   "metadata": {
    "execution": {
     "iopub.execute_input": "2021-10-10T14:43:44.295683Z",
     "iopub.status.busy": "2021-10-10T14:43:44.295683Z",
     "iopub.status.idle": "2021-10-10T14:43:44.312637Z",
     "shell.execute_reply": "2021-10-10T14:43:44.311640Z",
     "shell.execute_reply.started": "2021-10-10T14:43:44.295683Z"
    },
    "tags": []
   },
   "outputs": [
    {
     "data": {
      "text/plain": [
       "0.11764"
      ]
     },
     "execution_count": 41,
     "metadata": {},
     "output_type": "execute_result"
    }
   ],
   "source": [
    "np.exp(np.log(0.11764))"
   ]
  },
  {
   "cell_type": "code",
   "execution_count": 51,
   "id": "0c1f6634-4756-43c3-a8d8-018f03d7d698",
   "metadata": {
    "execution": {
     "iopub.execute_input": "2021-10-10T14:48:44.459623Z",
     "iopub.status.busy": "2021-10-10T14:48:44.459623Z",
     "iopub.status.idle": "2021-10-10T14:48:46.652807Z",
     "shell.execute_reply": "2021-10-10T14:48:46.652807Z",
     "shell.execute_reply.started": "2021-10-10T14:48:44.459623Z"
    },
    "tags": []
   },
   "outputs": [
    {
     "data": {
      "text/plain": [
       "guesswork      3\n",
       "lunch          1\n",
       "competetion    1\n",
       "reduction      2\n",
       "advertisers    2\n",
       "              ..\n",
       "vmailmgr       1\n",
       "tudab          2\n",
       "ycwodq         6\n",
       "geoff          2\n",
       "tradeoff       2\n",
       "Name: 2, Length: 130, dtype: Sparse[int64, 0]"
      ]
     },
     "execution_count": 51,
     "metadata": {},
     "output_type": "execute_result"
    }
   ],
   "source": [
    "df_bow.loc[2,:][df_bow.loc[2,:]!=0]"
   ]
  },
  {
   "cell_type": "code",
   "execution_count": null,
   "id": "db608de1-d616-424c-ac00-f3ee2e26edda",
   "metadata": {},
   "outputs": [],
   "source": []
  },
  {
   "cell_type": "code",
   "execution_count": 23,
   "id": "e4c156cb-8a9f-4e65-80bd-959cc12a7b90",
   "metadata": {
    "execution": {
     "iopub.execute_input": "2021-10-10T13:51:19.430185Z",
     "iopub.status.busy": "2021-10-10T13:51:19.430185Z",
     "iopub.status.idle": "2021-10-10T13:51:19.480055Z",
     "shell.execute_reply": "2021-10-10T13:51:19.478057Z",
     "shell.execute_reply.started": "2021-10-10T13:51:19.430185Z"
    },
    "tags": []
   },
   "outputs": [
    {
     "data": {
      "text/html": [
       "<div>\n",
       "<style scoped>\n",
       "    .dataframe tbody tr th:only-of-type {\n",
       "        vertical-align: middle;\n",
       "    }\n",
       "\n",
       "    .dataframe tbody tr th {\n",
       "        vertical-align: top;\n",
       "    }\n",
       "\n",
       "    .dataframe thead th {\n",
       "        text-align: right;\n",
       "    }\n",
       "</style>\n",
       "<table border=\"1\" class=\"dataframe\">\n",
       "  <thead>\n",
       "    <tr style=\"text-align: right;\">\n",
       "      <th></th>\n",
       "      <th>label</th>\n",
       "      <th>message</th>\n",
       "    </tr>\n",
       "  </thead>\n",
       "  <tbody>\n",
       "    <tr>\n",
       "      <th>0</th>\n",
       "      <td>0</td>\n",
       "      <td>Go until jurong point, crazy.. Available only ...</td>\n",
       "    </tr>\n",
       "    <tr>\n",
       "      <th>1</th>\n",
       "      <td>0</td>\n",
       "      <td>Ok lar... Joking wif u oni...</td>\n",
       "    </tr>\n",
       "    <tr>\n",
       "      <th>2</th>\n",
       "      <td>1</td>\n",
       "      <td>Free entry in 2 a wkly comp to win FA Cup fina...</td>\n",
       "    </tr>\n",
       "    <tr>\n",
       "      <th>3</th>\n",
       "      <td>0</td>\n",
       "      <td>U dun say so early hor... U c already then say...</td>\n",
       "    </tr>\n",
       "    <tr>\n",
       "      <th>4</th>\n",
       "      <td>0</td>\n",
       "      <td>Nah I don't think he goes to usf, he lives aro...</td>\n",
       "    </tr>\n",
       "    <tr>\n",
       "      <th>...</th>\n",
       "      <td>...</td>\n",
       "      <td>...</td>\n",
       "    </tr>\n",
       "    <tr>\n",
       "      <th>5567</th>\n",
       "      <td>1</td>\n",
       "      <td>This is the 2nd time we have tried 2 contact u...</td>\n",
       "    </tr>\n",
       "    <tr>\n",
       "      <th>5568</th>\n",
       "      <td>0</td>\n",
       "      <td>Will Ì_ b going to esplanade fr home?</td>\n",
       "    </tr>\n",
       "    <tr>\n",
       "      <th>5569</th>\n",
       "      <td>0</td>\n",
       "      <td>Pity, * was in mood for that. So...any other s...</td>\n",
       "    </tr>\n",
       "    <tr>\n",
       "      <th>5570</th>\n",
       "      <td>0</td>\n",
       "      <td>The guy did some bitching but I acted like i'd...</td>\n",
       "    </tr>\n",
       "    <tr>\n",
       "      <th>5571</th>\n",
       "      <td>0</td>\n",
       "      <td>Rofl. Its true to its name</td>\n",
       "    </tr>\n",
       "  </tbody>\n",
       "</table>\n",
       "<p>5572 rows × 2 columns</p>\n",
       "</div>"
      ],
      "text/plain": [
       "      label                                            message\n",
       "0         0  Go until jurong point, crazy.. Available only ...\n",
       "1         0                      Ok lar... Joking wif u oni...\n",
       "2         1  Free entry in 2 a wkly comp to win FA Cup fina...\n",
       "3         0  U dun say so early hor... U c already then say...\n",
       "4         0  Nah I don't think he goes to usf, he lives aro...\n",
       "...     ...                                                ...\n",
       "5567      1  This is the 2nd time we have tried 2 contact u...\n",
       "5568      0              Will Ì_ b going to esplanade fr home?\n",
       "5569      0  Pity, * was in mood for that. So...any other s...\n",
       "5570      0  The guy did some bitching but I acted like i'd...\n",
       "5571      0                         Rofl. Its true to its name\n",
       "\n",
       "[5572 rows x 2 columns]"
      ]
     },
     "execution_count": 23,
     "metadata": {},
     "output_type": "execute_result"
    }
   ],
   "source": [
    "df = pd.read_csv('spam.csv', encoding=\"ISO-8859-1\")[['v1', 'v2']]\n",
    "df.columns = ['label', 'message']\n",
    "label = {'ham':0, 'spam':1}\n",
    "df['label'] = df['label'].map(label)\n",
    "df\n"
   ]
  },
  {
   "cell_type": "code",
   "execution_count": 24,
   "id": "42040367-1e2b-43fc-9229-be3dc084606e",
   "metadata": {
    "execution": {
     "iopub.execute_input": "2021-10-10T13:51:35.907390Z",
     "iopub.status.busy": "2021-10-10T13:51:35.907390Z",
     "iopub.status.idle": "2021-10-10T13:51:36.004131Z",
     "shell.execute_reply": "2021-10-10T13:51:36.003135Z",
     "shell.execute_reply.started": "2021-10-10T13:51:35.907390Z"
    },
    "tags": []
   },
   "outputs": [
    {
     "data": {
      "text/plain": [
       "<AxesSubplot:xlabel='label', ylabel='count'>"
      ]
     },
     "execution_count": 24,
     "metadata": {},
     "output_type": "execute_result"
    },
    {
     "data": {
      "image/png": "[encoded data removed]",
      "text/plain": [
       "<Figure size 432x288 with 1 Axes>"
      ]
     },
     "metadata": {
      "needs_background": "light"
     },
     "output_type": "display_data"
    }
   ],
   "source": [
    "sns.countplot(data=df, x='label')"
   ]
  },
  {
   "cell_type": "code",
   "execution_count": null,
   "id": "68d0f697-eb5e-4caa-8b3a-b3dd488c7d32",
   "metadata": {},
   "outputs": [],
   "source": []
  }
 ],
 "metadata": {
  "kernelspec": {
   "display_name": "Python 3 (ipykernel)",
   "language": "python",
   "name": "python3"
  },
  "language_info": {
   "codemirror_mode": {
    "name": "ipython",
    "version": 3
   },
   "file_extension": ".py",
   "mimetype": "text/x-python",
   "name": "python",
   "nbconvert_exporter": "python",
   "pygments_lexer": "ipython3",
   "version": "3.8.11"
  }
 },
 "nbformat": 4,
 "nbformat_minor": 5
}
