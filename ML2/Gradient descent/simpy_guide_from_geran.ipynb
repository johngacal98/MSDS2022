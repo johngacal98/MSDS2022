{
 "cells": [
  {
   "cell_type": "markdown",
   "id": "973db1ee",
   "metadata": {},
   "source": [
    "## sympy in 4 steps"
   ]
  },
  {
   "cell_type": "code",
   "execution_count": 1,
   "id": "72dc5409",
   "metadata": {},
   "outputs": [],
   "source": [
    "# Step 1: import sympy\n",
    "from sympy import *\n",
    "# not to be confused with sempai"
   ]
  },
  {
   "cell_type": "code",
   "execution_count": 2,
   "id": "8b0b9938",
   "metadata": {},
   "outputs": [],
   "source": [
    "# Step 2: declare your variable using `Symbol`\n",
    "x = Symbol('x')"
   ]
  },
  {
   "cell_type": "code",
   "execution_count": 3,
   "id": "22937aa0",
   "metadata": {},
   "outputs": [],
   "source": [
    "# Step 3: set-up the function you want to get the derivative of\n",
    "f = 1/2*(2*x**3 - 9*x**2)**2"
   ]
  },
  {
   "cell_type": "code",
   "execution_count": 4,
   "id": "b93e2afa",
   "metadata": {},
   "outputs": [
    {
     "data": {
      "text/latex": [
       "$\\displaystyle 0.5 \\left(12 x^{2} - 36 x\\right) \\left(2 x^{3} - 9 x^{2}\\right)$"
      ],
      "text/plain": [
       "0.5*(12*x**2 - 36*x)*(2*x**3 - 9*x**2)"
      ]
     },
     "execution_count": 4,
     "metadata": {},
     "output_type": "execute_result"
    }
   ],
   "source": [
    "# Step 4: to get the derivative of the function using `diff()`\n",
    "diff(f)"
   ]
  },
  {
   "cell_type": "code",
   "execution_count": 5,
   "id": "5ee9cb00",
   "metadata": {},
   "outputs": [
    {
     "data": {
      "text/latex": [
       "$\\displaystyle 0.5 \\left(12 x^{2} - 36 x\\right) \\left(2 x^{3} - 9 x^{2}\\right)$"
      ],
      "text/plain": [
       "0.5*(12*x**2 - 36*x)*(2*x**3 - 9*x**2)"
      ]
     },
     "execution_count": 5,
     "metadata": {},
     "output_type": "execute_result"
    }
   ],
   "source": [
    "# you can shortcut the above code but it would be more organized to store it in a different variable\n",
    "diff(0.5*(2*x**3 - 9*x**2)**2)"
   ]
  },
  {
   "cell_type": "code",
   "execution_count": 6,
   "id": "a4c5acb1",
   "metadata": {},
   "outputs": [
    {
     "data": {
      "text/latex": [
       "$\\displaystyle 2 \\cos{\\left(x \\right)}$"
      ],
      "text/plain": [
       "2*cos(x)"
      ]
     },
     "execution_count": 6,
     "metadata": {},
     "output_type": "execute_result"
    }
   ],
   "source": [
    "# Other examples \n",
    "diff(2*sin(x))"
   ]
  },
  {
   "cell_type": "code",
   "execution_count": 7,
   "id": "b7f798b1",
   "metadata": {},
   "outputs": [
    {
     "data": {
      "text/latex": [
       "$\\displaystyle - 15 \\sin{\\left(3 x \\right)}$"
      ],
      "text/plain": [
       "-15*sin(3*x)"
      ]
     },
     "execution_count": 7,
     "metadata": {},
     "output_type": "execute_result"
    }
   ],
   "source": [
    "# Other examples \n",
    "diff(5*cos(3*x))"
   ]
  },
  {
   "cell_type": "markdown",
   "id": "1ea47c3a",
   "metadata": {},
   "source": [
    "That's it! You are ready. Play around with the syntax and hopefully this would be able to help you and have something to double check your derivatives. If you want to compare, there are other tools:\n",
    "- https://www.wolframalpha.com/calculators/derivative-calculator/"
   ]
  },
  {
   "cell_type": "markdown",
   "id": "843882c4",
   "metadata": {},
   "source": [
    "Here are the  resuls of the functions provided by Prof in Notebook 5B"
   ]
  },
  {
   "cell_type": "markdown",
   "id": "f158537b",
   "metadata": {},
   "source": [
    "#### A. Sigmoid Function"
   ]
  },
  {
   "cell_type": "markdown",
   "id": "6dc95f5b",
   "metadata": {},
   "source": [
    "#### From Notebook 5B:\n",
    "\n",
    "**Illustration 2. Let's practice your derivatives**: \n",
    "    \n",
    "Show that the derivative of f(x) = $\\frac{1}{1 + e^{-k(x)}}$ can be written as f'(x)= k f(x) (1-f(x)).\n",
    "\n",
    "\n",
    "\n"
   ]
  },
  {
   "cell_type": "markdown",
   "id": "56f9f67e",
   "metadata": {},
   "source": [
    "The code below will execute the derivative but it is up to us to expand, simplify, and make it code friendly so that it woudl align to the relationship stated above (recall Jazel's derivation in class) or check the following links.\n",
    "\n",
    "- https://towardsdatascience.com/derivative-of-the-sigmoid-function-536880cf918e\n",
    "- https://hausetutorials.netlify.app/posts/2019-12-01-neural-networks-deriving-the-sigmoid-derivative/"
   ]
  },
  {
   "cell_type": "code",
   "execution_count": 8,
   "id": "24245053",
   "metadata": {},
   "outputs": [
    {
     "data": {
      "text/latex": [
       "$\\displaystyle \\frac{e^{- x}}{\\left(1 + e^{- x}\\right)^{2}}$"
      ],
      "text/plain": [
       "exp(-x)/(1 + exp(-x))**2"
      ]
     },
     "execution_count": 8,
     "metadata": {},
     "output_type": "execute_result"
    }
   ],
   "source": [
    "# if k=1\n",
    "x = Symbol('x')\n",
    "f = 1/(1+exp(-1*x))\n",
    "diff(f)"
   ]
  },
  {
   "cell_type": "code",
   "execution_count": 9,
   "id": "d190d5a3",
   "metadata": {},
   "outputs": [
    {
     "data": {
      "text/latex": [
       "$\\displaystyle \\frac{k e^{- k x}}{\\left(1 + e^{- k x}\\right)^{2}}$"
      ],
      "text/plain": [
       "k*exp(-k*x)/(1 + exp(-k*x))**2"
      ]
     },
     "execution_count": 9,
     "metadata": {},
     "output_type": "execute_result"
    }
   ],
   "source": [
    "# if k not equal to 1\n",
    "x = Symbol('x')\n",
    "k = Symbol('k')\n",
    "f = 1/(1+exp(-1*k*x))\n",
    "diff(f,x)\n",
    "\n",
    "# Note: you need to put the `,x` portion since we are deriving based on the variable `x` and we are treating `k` as a constant (oh no calculus)"
   ]
  },
  {
   "cell_type": "markdown",
   "id": "bab81b94",
   "metadata": {},
   "source": [
    "#### B. tanh function (hyperbolic tangent)"
   ]
  },
  {
   "cell_type": "markdown",
   "id": "90d7a0e9",
   "metadata": {},
   "source": [
    "#### From Notebook 5B:\n",
    "\n",
    "A *tour de force* in neural network involves finding the optimal sigmoid function defined as a function that will be able to **avoid local minima** and at the same time gives the **fastest convergence**. The exact function resulting from this long mathematical debate and countless simulations has the form:\n",
    "\n",
    "\n",
    "\\begin{equation}\n",
    "f(x) = 1.7159 \\tanh {\\frac{2x}{3}}\n",
    "\\end{equation}\n"
   ]
  },
  {
   "cell_type": "code",
   "execution_count": 10,
   "id": "ad964bba",
   "metadata": {},
   "outputs": [
    {
     "data": {
      "text/latex": [
       "$\\displaystyle 1.14393333333333 - 1.14393333333333 \\tanh^{2}{\\left(\\frac{2 x}{3} \\right)}$"
      ],
      "text/plain": [
       "1.14393333333333 - 1.14393333333333*tanh(2*x/3)**2"
      ]
     },
     "execution_count": 10,
     "metadata": {},
     "output_type": "execute_result"
    }
   ],
   "source": [
    "x = Symbol('x')\n",
    "f = 1.7159*tanh(2*x/3)\n",
    "diff(f)"
   ]
  },
  {
   "cell_type": "markdown",
   "id": "1232bd93",
   "metadata": {},
   "source": [
    "The simpler `tanh()` function is also provided by prof in the image in Notebook 5B.\n",
    "![Gjl-t(x)](https://user-images.githubusercontent.com/25600601/133036472-0b528495-fd45-4d40-9407-888c6a81a7e4.png)\n"
   ]
  },
  {
   "cell_type": "code",
   "execution_count": 11,
   "id": "85a56af7",
   "metadata": {},
   "outputs": [
    {
     "data": {
      "text/latex": [
       "$\\displaystyle 1 - \\tanh^{2}{\\left(x \\right)}$"
      ],
      "text/plain": [
       "1 - tanh(x)**2"
      ]
     },
     "execution_count": 11,
     "metadata": {},
     "output_type": "execute_result"
    }
   ],
   "source": [
    "x = Symbol('x')\n",
    "f = tanh(x)\n",
    "diff(f)"
   ]
  },
  {
   "cell_type": "markdown",
   "id": "f510b802",
   "metadata": {},
   "source": [
    "#### C. erf function\n",
    "\n",
    "References:\n",
    "- https://mathworld.wolfram.com/Erf.html\n",
    "- https://en.wikipedia.org/wiki/Error_function\n",
    "- https://docs.sympy.org/latest/modules/functions/special.html?highlight=erf#sympy.functions.special.error_functions.erf"
   ]
  },
  {
   "cell_type": "code",
   "execution_count": null,
   "id": "98268bf3",
   "metadata": {},
   "outputs": [
    {
     "data": {
      "text/latex": [
       "$\\displaystyle e^{- \\frac{\\pi x^{2}}{4}}$"
      ],
      "text/plain": [
       "exp(-pi*x**2/4)"
      ]
     },
     "execution_count": 12,
     "metadata": {},
     "output_type": "execute_result"
    }
   ],
   "source": [
    "x = Symbol('x')\n",
    "f = erf(sqrt(pi)/2*x)\n",
    "diff(f)"
   ]
  },
  {
   "cell_type": "code",
   "execution_count": null,
   "id": "bb8e8d19",
   "metadata": {},
   "outputs": [
    {
     "name": "stdout",
     "output_type": "stream",
     "text": [
      "exp(-pi*x**2/4)\n"
     ]
    }
   ],
   "source": [
    "# if you can 't read the output like me, you can use `print` instead\n",
    "print(diff(f))"
   ]
  },
  {
   "cell_type": "markdown",
   "id": "6ad10136",
   "metadata": {},
   "source": [
    "#### D. arctan function"
   ]
  },
  {
   "cell_type": "code",
   "execution_count": null,
   "id": "f8f6487e",
   "metadata": {},
   "outputs": [
    {
     "data": {
      "text/latex": [
       "$\\displaystyle \\frac{1}{\\frac{\\pi^{2} x^{2}}{4} + 1}$"
      ],
      "text/plain": [
       "1/(pi**2*x**2/4 + 1)"
      ]
     },
     "execution_count": 14,
     "metadata": {},
     "output_type": "execute_result"
    }
   ],
   "source": [
    "x = Symbol('x')\n",
    "f = 2/pi*atan(pi/2*x)\n",
    "diff(f)"
   ]
  },
  {
   "cell_type": "markdown",
   "id": "3747234d",
   "metadata": {},
   "source": [
    "#### E. Other Functions"
   ]
  },
  {
   "cell_type": "code",
   "execution_count": null,
   "id": "60e7a8ba",
   "metadata": {},
   "outputs": [
    {
     "data": {
      "text/latex": [
       "$\\displaystyle - \\frac{x^{2}}{\\left(x^{2} + 1\\right)^{\\frac{3}{2}}} + \\frac{1}{\\sqrt{x^{2} + 1}}$"
      ],
      "text/plain": [
       "-x**2/(x**2 + 1)**(3/2) + 1/sqrt(x**2 + 1)"
      ]
     },
     "execution_count": 15,
     "metadata": {},
     "output_type": "execute_result"
    }
   ],
   "source": [
    "x = Symbol('x')\n",
    "f = x/sqrt(1+x**2)\n",
    "diff(f)"
   ]
  },
  {
   "cell_type": "markdown",
   "id": "cd0860cf",
   "metadata": {},
   "source": [
    "PS. \n",
    "\n",
    "- No reference found in sympy for the gd function (Gudermannian function).\n",
    "https://mathworld.wolfram.com/Gudermannian.html\n",
    "- The results sympy is showing for the 6th sigmoid function is weird and is omitted in this notebook."
   ]
  },
  {
   "cell_type": "markdown",
   "id": "a09d4a60",
   "metadata": {},
   "source": [
    "### Supplemental"
   ]
  },
  {
   "cell_type": "markdown",
   "id": "43e12778",
   "metadata": {},
   "source": [
    "You can also do double derivative (but this is not required based on the discussion in ML2)"
   ]
  },
  {
   "cell_type": "code",
   "execution_count": 16,
   "id": "ac676beb",
   "metadata": {},
   "outputs": [
    {
     "data": {
      "text/latex": [
       "$\\displaystyle 2$"
      ],
      "text/plain": [
       "2"
      ]
     },
     "execution_count": 16,
     "metadata": {},
     "output_type": "execute_result"
    }
   ],
   "source": [
    "# taking the 2nd derivative of x-squared\n",
    "diff(diff(x**2))"
   ]
  },
  {
   "cell_type": "code",
   "execution_count": 17,
   "id": "de3edc19",
   "metadata": {},
   "outputs": [
    {
     "data": {
      "text/latex": [
       "$\\displaystyle 2$"
      ],
      "text/plain": [
       "2"
      ]
     },
     "execution_count": 17,
     "metadata": {},
     "output_type": "execute_result"
    }
   ],
   "source": [
    "# the above is equivalent with the code below\n",
    "f = x**2\n",
    "df = diff(f)\n",
    "diff(df)"
   ]
  },
  {
   "cell_type": "markdown",
   "id": "c3a9da2f",
   "metadata": {},
   "source": [
    "You can also do perform integration using simpy (not to be confused with sempai derivative"
   ]
  },
  {
   "cell_type": "code",
   "execution_count": 18,
   "id": "49213d4f",
   "metadata": {},
   "outputs": [
    {
     "data": {
      "text/latex": [
       "$\\displaystyle \\frac{x^{2}}{2}$"
      ],
      "text/plain": [
       "x**2/2"
      ]
     },
     "execution_count": 18,
     "metadata": {},
     "output_type": "execute_result"
    }
   ],
   "source": [
    "integrate(x)"
   ]
  },
  {
   "cell_type": "markdown",
   "id": "f22c8e38",
   "metadata": {},
   "source": [
    "Lastly, remember to declare your variable first before applying `integrate()` and `diff()`"
   ]
  },
  {
   "cell_type": "code",
   "execution_count": 19,
   "id": "9ebc5edc",
   "metadata": {},
   "outputs": [
    {
     "ename": "NameError",
     "evalue": "name 'z' is not defined",
     "output_type": "error",
     "traceback": [
      "\u001b[1;31m---------------------------------------------------------------------------\u001b[0m",
      "\u001b[1;31mNameError\u001b[0m                                 Traceback (most recent call last)",
      "\u001b[1;32m<ipython-input-19-b8b4e479f7d5>\u001b[0m in \u001b[0;36m<module>\u001b[1;34m\u001b[0m\n\u001b[0;32m      1\u001b[0m \u001b[1;31m# The code below will have an error\u001b[0m\u001b[1;33m\u001b[0m\u001b[1;33m\u001b[0m\u001b[1;33m\u001b[0m\u001b[0m\n\u001b[1;32m----> 2\u001b[1;33m \u001b[0mdiff\u001b[0m\u001b[1;33m(\u001b[0m\u001b[1;36m5\u001b[0m\u001b[1;33m*\u001b[0m\u001b[0mz\u001b[0m\u001b[1;33m)\u001b[0m\u001b[1;33m\u001b[0m\u001b[1;33m\u001b[0m\u001b[0m\n\u001b[0m",
      "\u001b[1;31mNameError\u001b[0m: name 'z' is not defined"
     ]
    }
   ],
   "source": [
    "# The code below will have an error\n",
    "diff(5*z)"
   ]
  },
  {
   "cell_type": "code",
   "execution_count": 20,
   "id": "ed1fa42d",
   "metadata": {},
   "outputs": [
    {
     "data": {
      "text/latex": [
       "$\\displaystyle 5$"
      ],
      "text/plain": [
       "5"
      ]
     },
     "execution_count": 20,
     "metadata": {},
     "output_type": "execute_result"
    }
   ],
   "source": [
    "# because you need to declare `z` as a Symbol() first\n",
    "z = Symbol('z')\n",
    "diff(5*z)"
   ]
  },
  {
   "cell_type": "markdown",
   "id": "a14a4fd2",
   "metadata": {},
   "source": [
    "Final note: Sympy can help but writing the results code would still require care and be a possible source of careless errors. Try using print() for the old guys like me."
   ]
  },
  {
   "cell_type": "markdown",
   "id": "a1886b5a",
   "metadata": {},
   "source": [
    "PS. This is also the first time I encountered most of other the sigmoid (s-shaped) functions. Feel free to share perspective for everyone!"
   ]
  }
 ],
 "metadata": {
  "kernelspec": {
   "display_name": "Python 3 (ipykernel)",
   "language": "python",
   "name": "python3"
  },
  "language_info": {
   "codemirror_mode": {
    "name": "ipython",
    "version": 3
   },
   "file_extension": ".py",
   "mimetype": "text/x-python",
   "name": "python",
   "nbconvert_exporter": "python",
   "pygments_lexer": "ipython3",
   "version": "3.8.11"
  }
 },
 "nbformat": 4,
 "nbformat_minor": 5
}
