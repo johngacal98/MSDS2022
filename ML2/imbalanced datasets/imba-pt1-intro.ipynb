{
 "cells": [
  {
   "cell_type": "markdown",
   "id": "e8a4bc81",
   "metadata": {},
   "source": [
    "# Introduction to Imbanced Classification\n",
    "\n",
    "In this notebook, we will delve into the basic *whats* and *hows* of dealing with imbalanced data sets. As you progress in your data science career, you'll find that a good amount of machine learning problems in reality involve dataset imbalance. It goes without saying that the other issues you've been introduced to before (e.g., missing values, highly correlated features) are still part of the challenge--so, the techniques you've already learned (e.g., imputation, feature selection) remain relevant. The following discussion, however, only focuses on preprocessing techniques that deal with class imbalance--for conciseness."
   ]
  },
  {
   "cell_type": "markdown",
   "id": "543e5eb0",
   "metadata": {},
   "source": [
    "<img src='imba.jpeg' width='700'>"
   ]
  },
  {
   "cell_type": "markdown",
   "id": "6f089d3a",
   "metadata": {},
   "source": [
    "## `auto-ML` vs Imbalanced data set\n",
    "\n",
    "We first look at how our `auto-ML` performs in dealing with an imbalanced data set.\n",
    "\n",
    "**Scenario:** Suppose that we are a data science team working with a clinical research group that is attempting at formulating new diagnostic procedures in detecting COVID-19. Ultimately, the pursuit of the study is to accurately diagnose patients who are infected of the virus. Secondary to this goal is to provide an alternative testing procedure that (1) costs cheaper and (2) generates results faster. Our team's role is to employ machine learning in making accurate diagnosis using only three variables that relate to biomarker measurements."
   ]
  },
  {
   "cell_type": "code",
   "execution_count": 1,
   "id": "664c3acb",
   "metadata": {
    "ExecuteTime": {
     "end_time": "2021-10-13T04:54:50.973445Z",
     "start_time": "2021-10-13T04:54:50.289584Z"
    }
   },
   "outputs": [],
   "source": [
    "import pandas as pd\n",
    "import numpy as np\n",
    "import matplotlib.pyplot as plt"
   ]
  },
  {
   "cell_type": "code",
   "execution_count": 2,
   "id": "767518e7",
   "metadata": {
    "ExecuteTime": {
     "end_time": "2021-10-13T04:54:51.191594Z",
     "start_time": "2021-10-13T04:54:50.975308Z"
    }
   },
   "outputs": [
    {
     "data": {
      "image/png": "[encoded data removed]",
      "text/plain": [
       "<Figure size 432x288 with 1 Axes>"
      ]
     },
     "metadata": {
      "needs_background": "light"
     },
     "output_type": "display_data"
    }
   ],
   "source": [
    "df = pd.read_csv('covid_clinical.csv')\n",
    "\n",
    "df['class'].value_counts().plot.bar();"
   ]
  },
  {
   "cell_type": "markdown",
   "id": "e42fbf87",
   "metadata": {
    "ExecuteTime": {
     "end_time": "2021-10-10T13:52:05.554020Z",
     "start_time": "2021-10-10T13:52:05.550632Z"
    }
   },
   "source": [
    "### Calculate the PCC"
   ]
  },
  {
   "cell_type": "code",
   "execution_count": 3,
   "id": "53edfa8b",
   "metadata": {
    "ExecuteTime": {
     "end_time": "2021-10-13T04:54:51.198647Z",
     "start_time": "2021-10-13T04:54:51.193412Z"
    }
   },
   "outputs": [
    {
     "name": "stdout",
     "output_type": "stream",
     "text": [
      "PCC: 0.88\n"
     ]
    }
   ],
   "source": [
    "# write your code to do this below\n",
    "pcc = ((df['class'].value_counts() / df.shape[0]) ** 2).sum()\n",
    "\n",
    "print(f\"PCC: {pcc:.2f}\")"
   ]
  },
  {
   "cell_type": "markdown",
   "id": "be81fd9d",
   "metadata": {},
   "source": [
    "### Run `sklearn` classifiers using their default settings\n",
    "\n",
    "In the following code cells,we run our `auto-ML` using the default `sklearn` classifiers' settings, and our go-to metric: `accuracy`. At the minimum, the results are preferrably presented like below:\n",
    "\n",
    "|Model Name|Train Acc|Val Acc|Run Time|\n",
    "|--|--|--|--|\n",
    "|SomeClassifier|xxx|xxx|xxx|\n",
    "|AnotherClassifier|xxx|xxx|xxx|\n",
    "\n",
    "We shall proceed as follows:\n",
    "1. Split the data set into train-val and holdout sets, using 25% of the data as holdout, use `stratify=y`.\n",
    "2. The train-val set will be used in your `auto-ML` to generate average train and validation accuracies, use your preferred cross validation procedure.\n",
    "3. Discuss your observations regarding the performance of the models."
   ]
  },
  {
   "cell_type": "code",
   "execution_count": 4,
   "id": "a5fe1ee5",
   "metadata": {
    "ExecuteTime": {
     "end_time": "2021-10-13T04:54:51.645954Z",
     "start_time": "2021-10-13T04:54:51.201123Z"
    }
   },
   "outputs": [],
   "source": [
    "import time\n",
    "from tqdm import tqdm\n",
    "from sklearn.neighbors import KNeighborsClassifier\n",
    "from sklearn.svm import SVC\n",
    "from sklearn.linear_model import LogisticRegression\n",
    "from sklearn.naive_bayes import GaussianNB\n",
    "from sklearn.tree import DecisionTreeClassifier\n",
    "from sklearn.ensemble import (RandomForestClassifier,  \n",
    "                              GradientBoostingClassifier)\n",
    "from sklearn.model_selection import train_test_split, KFold, StratifiedKFold\n",
    "\n",
    "# not advisable, but we do it for a cleaner report\n",
    "# warnings regarding non-convergence of some classifiers used are muted\n",
    "import warnings \n",
    "warnings.filterwarnings(\"ignore\")"
   ]
  },
  {
   "cell_type": "code",
   "execution_count": 5,
   "id": "539d0261",
   "metadata": {
    "ExecuteTime": {
     "end_time": "2021-10-13T04:54:51.657906Z",
     "start_time": "2021-10-13T04:54:51.648180Z"
    }
   },
   "outputs": [],
   "source": [
    "# initialize inputs: trainval and holdout set, use stratify=y, test_size=0.25\n",
    "target_name = 'class'\n",
    "X, y = df.drop(columns=[target_name] + ['pid']), df[target_name]\n",
    "\n",
    "(X_trainval, X_holdout, y_trainval, y_holdout) = train_test_split(X, y, \n",
    "                                           random_state=11, test_size=0.25, \n",
    "                                           stratify=y)"
   ]
  },
  {
   "cell_type": "code",
   "execution_count": 6,
   "id": "2f3f9e1e",
   "metadata": {
    "ExecuteTime": {
     "end_time": "2021-10-13T04:54:51.663626Z",
     "start_time": "2021-10-13T04:54:51.659729Z"
    }
   },
   "outputs": [],
   "source": [
    "# initialize models with default hyperparamters\n",
    "models_dict = {\n",
    "    'KNeighborsClassifier': KNeighborsClassifier(),\n",
    "    'LogisticRegressor': LogisticRegression(),\n",
    "    'LinearSVM': SVC(kernel='linear'),\n",
    "    'RBFSVM': SVC(),\n",
    "    'GaussianNB': GaussianNB(),\n",
    "    'RandomForestClassifier': RandomForestClassifier(random_state=11),\n",
    "    'DecisionTreeClassifier': DecisionTreeClassifier(random_state=11),\n",
    "    'GradientBoostingClassifier': GradientBoostingClassifier(random_state=11)   \n",
    "}"
   ]
  },
  {
   "cell_type": "code",
   "execution_count": 7,
   "id": "75135999",
   "metadata": {
    "ExecuteTime": {
     "end_time": "2021-10-13T04:54:53.901006Z",
     "start_time": "2021-10-13T04:54:51.665329Z"
    }
   },
   "outputs": [
    {
     "name": "stderr",
     "output_type": "stream",
     "text": [
      "100%|██████████| 8/8 [00:02<00:00,  3.65it/s]"
     ]
    },
    {
     "name": "stdout",
     "output_type": "stream",
     "text": [
      "Report Generated in 2.21 seconds\n"
     ]
    },
    {
     "name": "stderr",
     "output_type": "stream",
     "text": [
      "\n"
     ]
    },
    {
     "data": {
      "text/html": [
       "<div>\n",
       "<style scoped>\n",
       "    .dataframe tbody tr th:only-of-type {\n",
       "        vertical-align: middle;\n",
       "    }\n",
       "\n",
       "    .dataframe tbody tr th {\n",
       "        vertical-align: top;\n",
       "    }\n",
       "\n",
       "    .dataframe thead th {\n",
       "        text-align: right;\n",
       "    }\n",
       "</style>\n",
       "<table border=\"1\" class=\"dataframe\">\n",
       "  <thead>\n",
       "    <tr style=\"text-align: right;\">\n",
       "      <th></th>\n",
       "      <th>ave_train_acc</th>\n",
       "      <th>ave_val_acc</th>\n",
       "      <th>run_time</th>\n",
       "    </tr>\n",
       "  </thead>\n",
       "  <tbody>\n",
       "    <tr>\n",
       "      <th>KNeighborsClassifier</th>\n",
       "      <td>97.935505</td>\n",
       "      <td>97.749972</td>\n",
       "      <td>0.032931</td>\n",
       "    </tr>\n",
       "    <tr>\n",
       "      <th>LogisticRegressor</th>\n",
       "      <td>94.331913</td>\n",
       "      <td>94.295814</td>\n",
       "      <td>0.009832</td>\n",
       "    </tr>\n",
       "    <tr>\n",
       "      <th>LinearSVM</th>\n",
       "      <td>95.195517</td>\n",
       "      <td>94.895074</td>\n",
       "      <td>0.011212</td>\n",
       "    </tr>\n",
       "    <tr>\n",
       "      <th>RBFSVM</th>\n",
       "      <td>97.410106</td>\n",
       "      <td>97.449220</td>\n",
       "      <td>0.012153</td>\n",
       "    </tr>\n",
       "    <tr>\n",
       "      <th>GaussianNB</th>\n",
       "      <td>94.256937</td>\n",
       "      <td>93.995062</td>\n",
       "      <td>0.005826</td>\n",
       "    </tr>\n",
       "    <tr>\n",
       "      <th>RandomForestClassifier</th>\n",
       "      <td>99.962406</td>\n",
       "      <td>96.698463</td>\n",
       "      <td>0.225848</td>\n",
       "    </tr>\n",
       "    <tr>\n",
       "      <th>DecisionTreeClassifier</th>\n",
       "      <td>100.000000</td>\n",
       "      <td>95.346201</td>\n",
       "      <td>0.006534</td>\n",
       "    </tr>\n",
       "    <tr>\n",
       "      <th>GradientBoostingClassifier</th>\n",
       "      <td>100.000000</td>\n",
       "      <td>96.698463</td>\n",
       "      <td>0.124347</td>\n",
       "    </tr>\n",
       "  </tbody>\n",
       "</table>\n",
       "</div>"
      ],
      "text/plain": [
       "                            ave_train_acc  ave_val_acc  run_time\n",
       "KNeighborsClassifier            97.935505    97.749972  0.032931\n",
       "LogisticRegressor               94.331913    94.295814  0.009832\n",
       "LinearSVM                       95.195517    94.895074  0.011212\n",
       "RBFSVM                          97.410106    97.449220  0.012153\n",
       "GaussianNB                      94.256937    93.995062  0.005826\n",
       "RandomForestClassifier          99.962406    96.698463  0.225848\n",
       "DecisionTreeClassifier         100.000000    95.346201  0.006534\n",
       "GradientBoostingClassifier     100.000000    96.698463  0.124347"
      ]
     },
     "metadata": {},
     "output_type": "display_data"
    }
   ],
   "source": [
    "# budget automl\n",
    "skf = StratifiedKFold(n_splits=5)\n",
    "\n",
    "res = {}\n",
    "\n",
    "# log start time\n",
    "total_start = time.time()\n",
    "\n",
    "for model_name, model in tqdm(models_dict.items()):\n",
    "    train_scores = []\n",
    "    val_scores = []\n",
    "    \n",
    "    for train_index, val_index in skf.split(X_trainval, y_trainval):\n",
    "        X_train, X_val = X_trainval.iloc[train_index], X_trainval.iloc[val_index]\n",
    "        y_train, y_val = y_trainval.iloc[train_index], y_trainval.iloc[val_index]\n",
    "        \n",
    "        start_time = time.time() # for logging run times\n",
    "        \n",
    "        # fit\n",
    "        model.fit(X_train, y_train)\n",
    "        \n",
    "        # default metric: accuracy\n",
    "        train_score = model.score(X_train, y_train)\n",
    "        val_score = model.score(X_val, y_val)\n",
    "        \n",
    "        end_time = time.time() # for logging run times\n",
    "        \n",
    "        train_scores.append(train_score)\n",
    "        val_scores.append(val_score)\n",
    "        \n",
    "    res[model_name] = {\n",
    "        'ave_train_acc':np.mean(train_scores) * 100,\n",
    "        'ave_val_acc':np.mean(val_scores) * 100,\n",
    "        'run_time': end_time - start_time\n",
    "    }\n",
    "\n",
    "# log end time\n",
    "total_end = time.time()\n",
    "\n",
    "elapsed = total_end - total_start\n",
    "print(f\"Report Generated in {elapsed:.2f} seconds\")\n",
    "display(pd.DataFrame(res).T)"
   ]
  },
  {
   "cell_type": "markdown",
   "id": "613ad046",
   "metadata": {},
   "source": [
    "### Metrics for Imbalanced datasets\n",
    "\n",
    "Considering our `PCC=0.88`, the current results show that our ML models perform well. But do they really? Being the the skeptics that we are, we go *beyond accuracy* and look deeper into the predictions in the following sections. To be brief, we arbitrarily choose to evaluate one classifier from our `automl`."
   ]
  },
  {
   "cell_type": "markdown",
   "id": "0f24d997",
   "metadata": {},
   "source": [
    "**Let's Do Some Counting**\n",
    "\n",
    "As a next step in evaluating our model performance, we ask the following:\n",
    "\n",
    "* **TP**: How many *infected* (covid-positive) persons can our ML model classify correctly?\n",
    "* **TN**: How many *non-infected* (covid-negative) persons can our ML model classify correctly?\n",
    "* **FP**: How many *non-infected* persons did our ML model tag as *positive*?\n",
    "* **FN**: How many *infected* persons did our ML model tag as *negative*?"
   ]
  },
  {
   "cell_type": "code",
   "execution_count": 8,
   "id": "1d70c3fb",
   "metadata": {
    "ExecuteTime": {
     "end_time": "2021-10-13T04:54:53.908349Z",
     "start_time": "2021-10-13T04:54:53.902925Z"
    }
   },
   "outputs": [],
   "source": [
    "def get_confusion_matrix(y_true, y_pred, return_tuple=False):\n",
    "    \"\"\"Return confusion matrix from inputs of true and predicted values\"\"\"\n",
    "    TP = ((y_pred == 1) & (y_true == 1)).sum()\n",
    "    TN = ((y_pred == 0) & (y_true == 0)).sum()\n",
    "    FP = ((y_pred == 1) & (y_true == 0)).sum()\n",
    "    FN = ((y_pred == 0) & (y_true == 1)).sum()\n",
    "    if return_tuple:\n",
    "        return TN, FP, FN, TP\n",
    "    return np.array([[TN, FP],\n",
    "                     [FN, TP]])"
   ]
  },
  {
   "cell_type": "code",
   "execution_count": 9,
   "id": "b5d0afe1",
   "metadata": {
    "ExecuteTime": {
     "end_time": "2021-10-13T04:54:54.059054Z",
     "start_time": "2021-10-13T04:54:53.910134Z"
    }
   },
   "outputs": [
    {
     "data": {
      "text/plain": [
       "array([[209,   0],\n",
       "       [  6,   8]])"
      ]
     },
     "execution_count": 9,
     "metadata": {},
     "output_type": "execute_result"
    }
   ],
   "source": [
    "# Show counting of TP, TN, FP, FN\n",
    "model = GradientBoostingClassifier()\n",
    "model.fit(X_trainval, y_trainval)\n",
    "\n",
    "y_pred = model.predict(X_holdout)\n",
    "y_true = y_holdout\n",
    "\n",
    "get_confusion_matrix(y_true, y_pred)"
   ]
  },
  {
   "cell_type": "markdown",
   "id": "ddebe904",
   "metadata": {},
   "source": [
    "**Comparison with `AllNegativeClassifier`, `AllPositiveClassifier` and `PerfectClassifier`**"
   ]
  },
  {
   "cell_type": "code",
   "execution_count": 10,
   "id": "2da5a4af",
   "metadata": {
    "ExecuteTime": {
     "end_time": "2021-10-13T04:54:54.681473Z",
     "start_time": "2021-10-13T04:54:54.060661Z"
    }
   },
   "outputs": [
    {
     "name": "stderr",
     "output_type": "stream",
     "text": [
      "4it [00:00, 126.07it/s]\n"
     ]
    },
    {
     "data": {
      "image/png": "[encoded data removed]",
      "text/plain": [
       "<Figure size 1440x360 with 4 Axes>"
      ]
     },
     "metadata": {
      "needs_background": "light"
     },
     "output_type": "display_data"
    }
   ],
   "source": [
    "from sklearn.metrics import ConfusionMatrixDisplay\n",
    "\n",
    "best_model = GradientBoostingClassifier()\n",
    "best_model.fit(X_trainval, y_trainval)\n",
    "y_pred = model.predict(X_holdout)\n",
    "\n",
    "eval_dict = {\n",
    "    'AllNegativeClassifier': np.zeros(y_holdout.shape),\n",
    "    'AllPositiveClassifier' : np.ones(y_holdout.shape),\n",
    "    'GradientBoostingRegressor': y_pred,\n",
    "    'PerfectClassifier': y_holdout\n",
    "}\n",
    "\n",
    "fig, axes = plt.subplots(1, 4, figsize=(20, 5))\n",
    "\n",
    "for index, (model_name, preds) in tqdm(enumerate(eval_dict.items())):\n",
    "    ConfusionMatrixDisplay.from_predictions(y_holdout, preds, \n",
    "                                            ax=axes[index], cmap='summer',\n",
    "                                            colorbar=False)\n",
    "    axes[index].set_title(model_name, fontsize=12)\n",
    "    axes[index].set_xlabel('Predicted Label', fontsize=12)\n",
    "    axes[index].set_ylabel('True Label', fontsize=12)"
   ]
  },
  {
   "cell_type": "markdown",
   "id": "a15052eb",
   "metadata": {},
   "source": [
    "**Unpacking the confusion**\n",
    "\n",
    "The confusion matrix certainly provides a more informative evaluation of our model performance. In this section we use the confusion matrix to generate more meaningful metrics that are more apt for imbalanced classification problems. \n",
    "\n",
    "* ***Sensitivity/Recall/TPR***  - This metric is defined by the formula below. It tells us how well the positive (minority) class was predicted.\n",
    "\n",
    "\\begin{equation}\n",
    "\\mathrm{Recall/Sensitivity} = \\frac{TP}{TP + FN}\n",
    "\\end{equation}\n",
    "\n",
    "* ***Precision*** - This metric measures the fraction of correctly classified positive class and the number of samples classified as positive.\n",
    "\n",
    "\\begin{equation}\n",
    "\\mathrm{Precision} = \\frac{TP}{TP + FP}\n",
    "\\end{equation}\n",
    "\n",
    "* ***Specificity*** - This metric tells us how well the negative (majority) class was predicted.\n",
    " \n",
    "\\begin{equation}\n",
    "\\mathrm{Specificity} = \\frac{TN}{FP + TN}\n",
    "\\end{equation}\n",
    "\n",
    "\n",
    "* ***Geometric Mean*** - The $G_{mean}$ combines the *sensitivity (recall)* and the *specificity* into one score using the formula below:\n",
    "\n",
    "\\begin{equation}\n",
    "\\mathrm{G_{mean}} = \\sqrt{\\mathrm{Sensitivity} * \\mathrm{Specificity}}\n",
    "\\end{equation}\n",
    "\n",
    "* ***F-Beta Measure*** - This metric is a generalization of the F1 score that combines precision and recall into one metric. The beta parameter here controls which of precision or recall to favor.\n",
    "\n",
    "\\begin{equation}\n",
    "F_{\\beta}  = \\frac{(1 + \\beta^2)(\\mathrm{Precision}*\\mathrm{Recall})}{(\\beta^2 * \\mathrm{Precision}) + \\mathrm{Recall}}\n",
    "\\end{equation}"
   ]
  },
  {
   "cell_type": "markdown",
   "id": "aaf2c641",
   "metadata": {},
   "source": [
    "**Learning Team Exercise** (10 mins)\n",
    "\n",
    "In the google slides found here: [imba-ml exercise](https://docs.google.com/presentation/d/1uXrwW7yz4VBLxoZMbwtdtU2sf0z-OeK0FyB5EHU4L5Q/edit?usp=sharing)\n",
    "\n",
    "1. Pick a slide for your LT and properly label it with your LT number.\n",
    "2. List $3$ imbalanced classification problems likely to occur in reality (i.e., a potential business use case).\n",
    "3. For each problem, discuss amongst yourselves, (a) what will be a suitable metric to measure a classifier's performance, and (b) what are the assumptions that guided your chioce of that metric. Summarize your discussion in the space provided.\n",
    "4. You may choose to prettify (e.g., change a slide background color) but it is not necessary."
   ]
  },
  {
   "cell_type": "markdown",
   "id": "a4ce8b0c",
   "metadata": {},
   "source": [
    "### Going Back to our COVID19 Diagnostics Problem\n",
    "\n",
    "**What then could be a suitable metric and what are your assumptions that guide your choice of that metric?**"
   ]
  },
  {
   "cell_type": "code",
   "execution_count": 11,
   "id": "f2147e48",
   "metadata": {
    "ExecuteTime": {
     "end_time": "2021-10-13T04:54:54.688609Z",
     "start_time": "2021-10-13T04:54:54.683693Z"
    }
   },
   "outputs": [],
   "source": [
    "# define new metric\n",
    "from sklearn.metrics import make_scorer, recall_score\n",
    "\n",
    "def g_mean(y_true, y_pred):\n",
    "    TN, FP, FN, TP = get_confusion_matrix(y_true, y_pred, return_tuple=True)\n",
    "    \n",
    "    specificity = TN / (FP + TN)\n",
    "    sensitivity = recall_score(y_true, y_pred)\n",
    "    score = np.sqrt(sensitivity * specificity)\n",
    "    return score\n",
    "\n",
    "# g_mean_scorer = make_scorer(g_mean)"
   ]
  },
  {
   "cell_type": "code",
   "execution_count": 12,
   "id": "6e2a689c",
   "metadata": {
    "ExecuteTime": {
     "end_time": "2021-10-13T04:54:57.091795Z",
     "start_time": "2021-10-13T04:54:54.690420Z"
    }
   },
   "outputs": [
    {
     "name": "stderr",
     "output_type": "stream",
     "text": [
      "100%|██████████| 8/8 [00:02<00:00,  3.36it/s]"
     ]
    },
    {
     "name": "stdout",
     "output_type": "stream",
     "text": [
      "Report Generated in 2.38 seconds\n"
     ]
    },
    {
     "name": "stderr",
     "output_type": "stream",
     "text": [
      "\n"
     ]
    },
    {
     "data": {
      "text/html": [
       "<div>\n",
       "<style scoped>\n",
       "    .dataframe tbody tr th:only-of-type {\n",
       "        vertical-align: middle;\n",
       "    }\n",
       "\n",
       "    .dataframe tbody tr th {\n",
       "        vertical-align: top;\n",
       "    }\n",
       "\n",
       "    .dataframe thead th {\n",
       "        text-align: right;\n",
       "    }\n",
       "</style>\n",
       "<table border=\"1\" class=\"dataframe\">\n",
       "  <thead>\n",
       "    <tr style=\"text-align: right;\">\n",
       "      <th></th>\n",
       "      <th>ave_train_g_mean</th>\n",
       "      <th>ave_val_g_mean</th>\n",
       "      <th>run_time</th>\n",
       "    </tr>\n",
       "  </thead>\n",
       "  <tbody>\n",
       "    <tr>\n",
       "      <th>KNeighborsClassifier</th>\n",
       "      <td>81.518959</td>\n",
       "      <td>79.315652</td>\n",
       "      <td>0.040337</td>\n",
       "    </tr>\n",
       "    <tr>\n",
       "      <th>LogisticRegressor</th>\n",
       "      <td>27.237586</td>\n",
       "      <td>21.213203</td>\n",
       "      <td>0.014436</td>\n",
       "    </tr>\n",
       "    <tr>\n",
       "      <th>LinearSVM</th>\n",
       "      <td>44.709258</td>\n",
       "      <td>40.641294</td>\n",
       "      <td>0.015943</td>\n",
       "    </tr>\n",
       "    <tr>\n",
       "      <th>RBFSVM</th>\n",
       "      <td>76.073359</td>\n",
       "      <td>75.751713</td>\n",
       "      <td>0.016943</td>\n",
       "    </tr>\n",
       "    <tr>\n",
       "      <th>GaussianNB</th>\n",
       "      <td>22.439387</td>\n",
       "      <td>7.071068</td>\n",
       "      <td>0.010487</td>\n",
       "    </tr>\n",
       "    <tr>\n",
       "      <th>RandomForestClassifier</th>\n",
       "      <td>99.685020</td>\n",
       "      <td>65.385197</td>\n",
       "      <td>0.235579</td>\n",
       "    </tr>\n",
       "    <tr>\n",
       "      <th>DecisionTreeClassifier</th>\n",
       "      <td>100.000000</td>\n",
       "      <td>76.784078</td>\n",
       "      <td>0.011216</td>\n",
       "    </tr>\n",
       "    <tr>\n",
       "      <th>GradientBoostingClassifier</th>\n",
       "      <td>100.000000</td>\n",
       "      <td>66.644877</td>\n",
       "      <td>0.130019</td>\n",
       "    </tr>\n",
       "  </tbody>\n",
       "</table>\n",
       "</div>"
      ],
      "text/plain": [
       "                            ave_train_g_mean  ave_val_g_mean  run_time\n",
       "KNeighborsClassifier               81.518959       79.315652  0.040337\n",
       "LogisticRegressor                  27.237586       21.213203  0.014436\n",
       "LinearSVM                          44.709258       40.641294  0.015943\n",
       "RBFSVM                             76.073359       75.751713  0.016943\n",
       "GaussianNB                         22.439387        7.071068  0.010487\n",
       "RandomForestClassifier             99.685020       65.385197  0.235579\n",
       "DecisionTreeClassifier            100.000000       76.784078  0.011216\n",
       "GradientBoostingClassifier        100.000000       66.644877  0.130019"
      ]
     },
     "metadata": {},
     "output_type": "display_data"
    }
   ],
   "source": [
    "# budget automl\n",
    "skf = StratifiedKFold(n_splits=5)\n",
    "\n",
    "res = {}\n",
    "\n",
    "# log start time\n",
    "total_start = time.time()\n",
    "\n",
    "for model_name, model in tqdm(models_dict.items()):\n",
    "    train_scores = []\n",
    "    val_scores = []\n",
    "    \n",
    "    for train_index, val_index in skf.split(X_trainval, y_trainval):\n",
    "        X_train, X_val = X_trainval.iloc[train_index], X_trainval.iloc[val_index]\n",
    "        y_train, y_val = y_trainval.iloc[train_index], y_trainval.iloc[val_index]\n",
    "        \n",
    "        start_time = time.time() # for logging run times\n",
    "        \n",
    "        # fit\n",
    "        model.fit(X_train, y_train)\n",
    "        \n",
    "        # default metric: accuracy\n",
    "        train_preds = model.predict(X_train)\n",
    "        val_preds = model.predict(X_val)\n",
    "        \n",
    "        train_score = g_mean(y_train, train_preds)\n",
    "        val_score = g_mean(y_val, val_preds)\n",
    "        \n",
    "        end_time = time.time() # for logging run times\n",
    "        \n",
    "        train_scores.append(train_score)\n",
    "        val_scores.append(val_score)\n",
    "        \n",
    "    res[model_name] = {\n",
    "        'ave_train_g_mean':np.mean(train_scores) * 100,\n",
    "        'ave_val_g_mean':np.mean(val_scores) * 100,\n",
    "        'run_time': end_time - start_time\n",
    "    }\n",
    "    \n",
    "# log end time\n",
    "total_end = time.time()\n",
    "\n",
    "elapsed = total_end - total_start\n",
    "print(f\"Report Generated in {elapsed:.2f} seconds\")\n",
    "display(pd.DataFrame(res).T)"
   ]
  },
  {
   "cell_type": "code",
   "execution_count": 13,
   "id": "84f29e78",
   "metadata": {
    "ExecuteTime": {
     "end_time": "2021-10-13T04:54:57.457843Z",
     "start_time": "2021-10-13T04:54:57.094963Z"
    }
   },
   "outputs": [
    {
     "name": "stderr",
     "output_type": "stream",
     "text": [
      "4it [00:00, 174.57it/s]\n"
     ]
    },
    {
     "data": {
      "image/png": "[encoded data removed]",
      "text/plain": [
       "<Figure size 1440x360 with 4 Axes>"
      ]
     },
     "metadata": {
      "needs_background": "light"
     },
     "output_type": "display_data"
    }
   ],
   "source": [
    "model_of_choice = 'DecisionTreeClassifier'\n",
    "model = models_dict['DecisionTreeClassifier']\n",
    "model.fit(X_trainval, y_trainval)\n",
    "y_pred = model.predict(X_holdout)\n",
    "\n",
    "eval_dict = {\n",
    "    'AllNegativeClassifier': np.zeros(y_holdout.shape),\n",
    "    'AllPositiveClassifier' : np.ones(y_holdout.shape),\n",
    "     model_of_choice: y_pred,\n",
    "    'PerfectClassifier': y_holdout\n",
    "}\n",
    "\n",
    "fig, axes = plt.subplots(1, 4, figsize=(20, 5))\n",
    "\n",
    "for index, (model_name, preds) in tqdm(enumerate(eval_dict.items())):\n",
    "    ConfusionMatrixDisplay.from_predictions(y_holdout, preds, \n",
    "                                            ax=axes[index], cmap='summer',\n",
    "                                            colorbar=False)\n",
    "    axes[index].set_title(model_name, fontsize=12)\n",
    "    axes[index].set_xlabel('Predicted Label', fontsize=12)\n",
    "    axes[index].set_ylabel('True Label', fontsize=12)"
   ]
  },
  {
   "cell_type": "code",
   "execution_count": 14,
   "id": "4ce00643",
   "metadata": {
    "ExecuteTime": {
     "end_time": "2021-10-13T04:54:57.472232Z",
     "start_time": "2021-10-13T04:54:57.459582Z"
    }
   },
   "outputs": [
    {
     "name": "stdout",
     "output_type": "stream",
     "text": [
      "PerfectClassifier g-mean score: 1.0\n",
      "AllNegativeClassifier g-mean score: 0.0\n"
     ]
    }
   ],
   "source": [
    "# compare with the PerfectClassifier\n",
    "y_pred_perfect = eval_dict['PerfectClassifier']\n",
    "y_pred_allnega = eval_dict['AllNegativeClassifier']\n",
    "y_true = y_holdout\n",
    "\n",
    "perfect = g_mean(y_true, y_pred_perfect)\n",
    "allnega = g_mean(y_true, y_pred_allnega)\n",
    "\n",
    "print(\"PerfectClassifier g-mean score:\", perfect)\n",
    "print(\"AllNegativeClassifier g-mean score:\", allnega)"
   ]
  },
  {
   "cell_type": "markdown",
   "id": "0d7f599c",
   "metadata": {},
   "source": [
    "## Summary\n",
    "\n",
    "* Accuracy isn't everything.\n",
    "* As with any ML problem, we must first clearly define our objective which leads us in choosing a suitable metric for the evaluation of our classifier."
   ]
  },
  {
   "cell_type": "markdown",
   "id": "59c9e0c6",
   "metadata": {},
   "source": [
    "### Appendix\n"
   ]
  },
  {
   "cell_type": "code",
   "execution_count": 15,
   "id": "61af6ae8",
   "metadata": {
    "ExecuteTime": {
     "end_time": "2021-10-13T04:54:57.911549Z",
     "start_time": "2021-10-13T04:54:57.473749Z"
    }
   },
   "outputs": [
    {
     "name": "stderr",
     "output_type": "stream",
     "text": [
      "100%|██████████| 8/8 [00:00<00:00, 18.83it/s]"
     ]
    },
    {
     "name": "stdout",
     "output_type": "stream",
     "text": [
      "Accuracies on holdout set\n"
     ]
    },
    {
     "name": "stderr",
     "output_type": "stream",
     "text": [
      "\n"
     ]
    },
    {
     "data": {
      "text/plain": [
       "KNeighborsClassifier          97.309417\n",
       "LogisticRegressor             94.170404\n",
       "LinearSVM                     94.618834\n",
       "RBFSVM                        97.309417\n",
       "GaussianNB                    94.618834\n",
       "RandomForestClassifier        96.412556\n",
       "DecisionTreeClassifier        96.412556\n",
       "GradientBoostingClassifier    97.309417\n",
       "Name: acc, dtype: object"
      ]
     },
     "metadata": {},
     "output_type": "display_data"
    },
    {
     "name": "stdout",
     "output_type": "stream",
     "text": [
      "CPU times: user 435 ms, sys: 10 µs, total: 435 ms\n",
      "Wall time: 432 ms\n"
     ]
    }
   ],
   "source": [
    "%%time\n",
    "from sklearn.metrics import accuracy_score\n",
    "\n",
    "new_res = {}\n",
    "for model_name, model in tqdm(models_dict.items()):\n",
    "    model.fit(X_trainval, y_trainval)\n",
    "    y_pred = model.predict(X_holdout)\n",
    "    \n",
    "    new_res[model_name] = {\n",
    "        'y_pred': y_pred,\n",
    "        'y_true': y_holdout,\n",
    "        'acc': accuracy_score(y_holdout, y_pred),\n",
    "        'fitted_model': model\n",
    "    }\n",
    "print(\"Accuracies on holdout set\")\n",
    "display(pd.DataFrame(new_res).T['acc'] * 100)"
   ]
  },
  {
   "cell_type": "code",
   "execution_count": 16,
   "id": "261919c3",
   "metadata": {
    "ExecuteTime": {
     "end_time": "2021-10-13T04:54:57.920454Z",
     "start_time": "2021-10-13T04:54:57.913504Z"
    }
   },
   "outputs": [
    {
     "name": "stdout",
     "output_type": "stream",
     "text": [
      "AllNegativeClassifier Accuracy: 0.94\n"
     ]
    }
   ],
   "source": [
    "# AllNegativeClassifier\n",
    "y_pred = np.zeros(y_holdout.shape) \n",
    "new_res['AllNegativeClassifier'] = {\n",
    "    'y_pred': y_pred,\n",
    "    'y_true': y_holdout,\n",
    "    'acc': accuracy_score(y_holdout, y_pred)\n",
    "}\n",
    "\n",
    "print(f\"AllNegativeClassifier Accuracy: {new_res['AllNegativeClassifier']['acc']:.2f}\")"
   ]
  },
  {
   "cell_type": "code",
   "execution_count": 17,
   "id": "0ae97cdc",
   "metadata": {
    "ExecuteTime": {
     "end_time": "2021-10-13T04:54:58.650568Z",
     "start_time": "2021-10-13T04:54:57.922863Z"
    }
   },
   "outputs": [
    {
     "name": "stderr",
     "output_type": "stream",
     "text": [
      "9it [00:00, 108.22it/s]\n"
     ]
    },
    {
     "data": {
      "image/png": "[encoded data removed]",
      "text/plain": [
       "<Figure size 720x1800 with 8 Axes>"
      ]
     },
     "metadata": {
      "needs_background": "light"
     },
     "output_type": "display_data"
    }
   ],
   "source": [
    "from sklearn.metrics import plot_confusion_matrix\n",
    "\n",
    "fig, axes = plt.subplots(4, 2, figsize=(10, 25))\n",
    "flat_axes = axes.flatten()\n",
    "for index, (model_name, results) in tqdm(enumerate(new_res.items())):\n",
    "    if model_name=='AllNegativeClassifier':\n",
    "        continue\n",
    "    plot_confusion_matrix(results['fitted_model'],\n",
    "                          X_holdout, y_holdout, ax=flat_axes[index],\n",
    "                          cmap='summer', colorbar=False)\n",
    "    flat_axes[index].set_title(model_name, fontsize=12)\n",
    "    flat_axes[index].set_xlabel('Predicted Label', fontsize=12)\n",
    "    flat_axes[index].set_ylabel('True Label', fontsize=12)"
   ]
  },
  {
   "cell_type": "markdown",
   "id": "cb881c52",
   "metadata": {},
   "source": [
    "## End"
   ]
  }
 ],
 "metadata": {
  "hide_input": false,
  "kernelspec": {
   "display_name": "Python 3 (ipykernel)",
   "language": "python",
   "name": "python3"
  },
  "language_info": {
   "codemirror_mode": {
    "name": "ipython",
    "version": 3
   },
   "file_extension": ".py",
   "mimetype": "text/x-python",
   "name": "python",
   "nbconvert_exporter": "python",
   "pygments_lexer": "ipython3",
   "version": "3.8.12"
  },
  "toc": {
   "base_numbering": 1,
   "nav_menu": {},
   "number_sections": true,
   "sideBar": true,
   "skip_h1_title": false,
   "title_cell": "Table of Contents",
   "title_sidebar": "Contents",
   "toc_cell": false,
   "toc_position": {},
   "toc_section_display": true,
   "toc_window_display": false
  }
 },
 "nbformat": 4,
 "nbformat_minor": 5
}
