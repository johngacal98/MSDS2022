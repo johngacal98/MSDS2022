{
 "cells": [
  {
   "cell_type": "code",
   "execution_count": 95,
   "id": "24815538",
   "metadata": {
    "ExecuteTime": {
     "end_time": "2021-08-12T06:59:15.226618Z",
     "start_time": "2021-08-12T06:59:15.222610Z"
    },
    "deletable": false,
    "editable": false,
    "nbgrader": {
     "cell_type": "code",
     "checksum": "bb9673dda53f6ca5a74976c2467c2fda",
     "grade": false,
     "grade_id": "cell-7cd44b5d4ed89757",
     "locked": true,
     "schema_version": 3,
     "solution": false,
     "task": false
    }
   },
   "outputs": [],
   "source": [
    "from numpy.testing import assert_equal, assert_almost_equal"
   ]
  },
  {
   "cell_type": "markdown",
   "id": "e51d7a8f",
   "metadata": {
    "deletable": false,
    "editable": false,
    "nbgrader": {
     "cell_type": "markdown",
     "checksum": "50d56e4762a7814f401a66d0a11bf343",
     "grade": false,
     "grade_id": "cell-8e3c2c605ef0e6b8",
     "locked": true,
     "schema_version": 3,
     "solution": false,
     "task": false
    }
   },
   "source": [
    "# Quiz 2: Linear Models and SVM [20 pts]"
   ]
  },
  {
   "cell_type": "markdown",
   "id": "b33e67dd",
   "metadata": {
    "deletable": false,
    "editable": false,
    "nbgrader": {
     "cell_type": "markdown",
     "checksum": "597d88f0a11e030987ef727c333f05cb",
     "grade": false,
     "grade_id": "cell-70fa8cbe85d97474",
     "locked": true,
     "schema_version": 3,
     "solution": false,
     "task": false
    }
   },
   "source": [
    "In this quiz, you will be working on the **Reported COVID19 Cases** of selected municipalities in the Philippines. This dataset is attached along with this notebook as `covid19ph.csv`. The attributes of the dataset are as follows:\n",
    "\n",
    "**Descriptive Features**\n",
    "\n",
    "1. `householdIncome`: Average household income of surveyed participants annually in PhP.\n",
    "2. `gdp`: reported GDP per capita of Municipality in PhP.\n",
    "3. `malePercent`: Percentage of male population\n",
    "4. `population`: Actual population\n",
    "5. `area`: Area in km<sup>2</sup> of the boundary\n",
    "6. `populationDensity`: Population/Area\n",
    "7. `age`: Average age of surveyed participants\n",
    "8. `firstCaseDays`: Number of days from 01 January 2020 when first COVID19 positive was reported\n",
    "9. `hospitalCapacity`: Percent of hospital available to treat/admit COVID19 patients\n",
    "10. `workingPopulationPercent`: Percent of working population\n",
    "11. `partyAffiliationPercent`: Party affiliation in percent of leaders in the government who are affiliated with the current administration\n",
    "12. `daysECQ`: Number of days in Enhanced Community Quarantine (ECQ) or Modified ECQ (MECQ).\n",
    "13. `daysGCQ`: Number of days in General Community Quarantine (GCQ) or Modified GCQ (MGCQ).\n",
    "\n",
    "**Target Features**\n",
    "\n",
    "14. `reportedIncidents`: Number of confirmed COVID19 positive per 100,000 population\n",
    "15. `reportedIncidentsHighLow`: value is `1` if `reportedIncidents` > 300 per 100k population. Else, the value is `0`.\n",
    "\n",
    "In **Problem 1** you will use `Lasso` regression to identify important features on the dataset, while in **Problem 2** you will be asked to build a model using `Logistic` and `LinearSVC` with `L2` regularizations.\n",
    "\n",
    "*Note: some parts of this quiz will be autograded! Be sure to follow the instructions in each task carefully and that your notebooks run from top to bottom!*"
   ]
  },
  {
   "cell_type": "markdown",
   "id": "adf5fe0d",
   "metadata": {
    "deletable": false,
    "editable": false,
    "nbgrader": {
     "cell_type": "markdown",
     "checksum": "15b8436277c0f7cc8e7a710e8cfe9ead",
     "grade": false,
     "grade_id": "cell-ad2180e21dd908ba",
     "locked": true,
     "schema_version": 3,
     "solution": false,
     "task": false
    }
   },
   "source": [
    "## Problem 1 Lasso Regression"
   ]
  },
  {
   "cell_type": "markdown",
   "id": "80d9d20a",
   "metadata": {
    "deletable": false,
    "editable": false,
    "nbgrader": {
     "cell_type": "markdown",
     "checksum": "37c761b11d5f7da6b674b686c0204e19",
     "grade": false,
     "grade_id": "cell-2995886df55cda9d",
     "locked": true,
     "schema_version": 3,
     "solution": false,
     "task": false
    }
   },
   "source": [
    "In this problem, we will use `Lasso` regression to identify the features that has the most impact on our model. Afterwards, we proceed to interpret the results and make sense of it!\n",
    "\n",
    "We first read and perform preprocessing on our dataset"
   ]
  },
  {
   "cell_type": "code",
   "execution_count": 96,
   "id": "e798c445",
   "metadata": {
    "ExecuteTime": {
     "end_time": "2021-08-12T06:59:15.247485Z",
     "start_time": "2021-08-12T06:59:15.229571Z"
    },
    "deletable": false,
    "editable": false,
    "nbgrader": {
     "cell_type": "code",
     "checksum": "e56bc9212749577800f5cccb21d7226b",
     "grade": false,
     "grade_id": "cell-b5831b637e11b44d",
     "locked": true,
     "schema_version": 3,
     "solution": false,
     "task": false
    }
   },
   "outputs": [],
   "source": [
    "# Import libraries\n",
    "import numpy as np\n",
    "import pandas as pd\n",
    "from sklearn.preprocessing import StandardScaler\n",
    "\n",
    "# Read the dataset\n",
    "data = pd.read_csv('covid19ph.csv')\n",
    "\n",
    "# Get the descriptive and target features\n",
    "predictors = data.iloc[:, :-2]\n",
    "regression_target = data.iloc[:, -2]\n",
    "classification_target = data.iloc[:, -1]\n",
    "feature_names = np.array(predictors.columns)\n",
    "\n",
    "# Perform standard scaling on the predictors\n",
    "## Initialize scaler\n",
    "scaler = StandardScaler()\n",
    "scaler.fit(predictors)\n",
    "\n",
    "# Perform scaling\n",
    "scaled_predictors = scaler.transform(predictors)"
   ]
  },
  {
   "cell_type": "markdown",
   "id": "cc164bf0",
   "metadata": {
    "deletable": false,
    "editable": false,
    "nbgrader": {
     "cell_type": "markdown",
     "checksum": "04f09c486fa0b5c42ccf819cffd3e8a9",
     "grade": false,
     "grade_id": "cell-3d36f381f2f0f8bd",
     "locked": true,
     "schema_version": 3,
     "solution": false,
     "task": false
    }
   },
   "source": [
    "### Task 1 Instantiation [1 pt]"
   ]
  },
  {
   "cell_type": "markdown",
   "id": "f2c40c00",
   "metadata": {
    "deletable": false,
    "editable": false,
    "nbgrader": {
     "cell_type": "markdown",
     "checksum": "43fed6705f841d87478251aa7c36f6ab",
     "grade": false,
     "grade_id": "cell-ab9349aed18928ae",
     "locked": true,
     "schema_version": 3,
     "solution": false,
     "task": false
    }
   },
   "source": [
    "Instantiate a `Lasso` regressor model with parameters `alpha` as 10, and `random_state` as `1337`. Leave all other parameters in their default setting. Place this `Lasso` regressor in the `model` variable."
   ]
  },
  {
   "cell_type": "code",
   "execution_count": 97,
   "id": "68c60f6f",
   "metadata": {
    "ExecuteTime": {
     "end_time": "2021-08-12T06:59:15.254679Z",
     "start_time": "2021-08-12T06:59:15.249754Z"
    },
    "deletable": false,
    "nbgrader": {
     "cell_type": "code",
     "checksum": "06e24623ea70df5177ce0c82f78f0245",
     "grade": false,
     "grade_id": "cell-20c691028dc5e1a6",
     "locked": false,
     "schema_version": 3,
     "solution": true,
     "task": false
    }
   },
   "outputs": [
    {
     "data": {
      "text/plain": [
       "Lasso(alpha=10, random_state=1337)"
      ]
     },
     "execution_count": 97,
     "metadata": {},
     "output_type": "execute_result"
    }
   ],
   "source": [
    "from sklearn.linear_model import Lasso\n",
    "\n",
    "\n",
    "\n",
    "model = Lasso(alpha=10, random_state=1337)\n",
    "\n",
    "# YOUR CODE HERE\n",
    "model"
   ]
  },
  {
   "cell_type": "code",
   "execution_count": 98,
   "id": "4be9dd0a",
   "metadata": {
    "ExecuteTime": {
     "end_time": "2021-08-12T06:59:15.259138Z",
     "start_time": "2021-08-12T06:59:15.256599Z"
    }
   },
   "outputs": [],
   "source": [
    "# Lasso?"
   ]
  },
  {
   "cell_type": "code",
   "execution_count": 99,
   "id": "d46e9d3d",
   "metadata": {
    "ExecuteTime": {
     "end_time": "2021-08-12T06:59:15.263951Z",
     "start_time": "2021-08-12T06:59:15.261037Z"
    },
    "deletable": false,
    "editable": false,
    "nbgrader": {
     "cell_type": "code",
     "checksum": "de7cbf3f738188f2a1d41af6e35839f1",
     "grade": true,
     "grade_id": "cell-940c2064f37e44b4",
     "locked": true,
     "points": 1,
     "schema_version": 3,
     "solution": false,
     "task": false
    }
   },
   "outputs": [],
   "source": [
    "assert model is not None, \"Place the Lasso regressor model on this variable\""
   ]
  },
  {
   "cell_type": "markdown",
   "id": "46ca00d1",
   "metadata": {
    "deletable": false,
    "editable": false,
    "nbgrader": {
     "cell_type": "markdown",
     "checksum": "80d16cd69de1a6a292d5bb2da71d5d3f",
     "grade": false,
     "grade_id": "cell-c25108627fd20c78",
     "locked": true,
     "schema_version": 3,
     "solution": false,
     "task": false
    }
   },
   "source": [
    "### Task 2 Model Fitting [1 pt]"
   ]
  },
  {
   "cell_type": "markdown",
   "id": "5890b54f",
   "metadata": {
    "deletable": false,
    "editable": false,
    "nbgrader": {
     "cell_type": "markdown",
     "checksum": "23c77e1ed022c243e1a9685019df5708",
     "grade": false,
     "grade_id": "cell-0566f6507d682c68",
     "locked": true,
     "schema_version": 3,
     "solution": false,
     "task": false
    }
   },
   "source": [
    "Train the `model` to predict the number of reported incidents using the standard scaled descriptive features of the dataset. No need to split the data into train and test dataset.\n",
    "\n",
    "Compute for the $R^2$ predictions of the model for each of the instances in the dataset, place the value of this in the variable `r2_value`."
   ]
  },
  {
   "cell_type": "code",
   "execution_count": 100,
   "id": "1611e4c5",
   "metadata": {
    "ExecuteTime": {
     "end_time": "2021-08-12T06:59:15.273174Z",
     "start_time": "2021-08-12T06:59:15.265863Z"
    },
    "deletable": false,
    "nbgrader": {
     "cell_type": "code",
     "checksum": "bcd4bfdf0cf9d1714d211480785ec7aa",
     "grade": false,
     "grade_id": "cell-3571a825ac3fbf9d",
     "locked": false,
     "schema_version": 3,
     "solution": true,
     "task": false
    }
   },
   "outputs": [
    {
     "data": {
      "text/plain": [
       "0.9259071160928378"
      ]
     },
     "execution_count": 100,
     "metadata": {},
     "output_type": "execute_result"
    }
   ],
   "source": [
    "r2_value = None\n",
    "\n",
    "# YOUR CODE HERE\n",
    "fitted_model = model.fit(scaled_predictors, regression_target)\n",
    "r2_value = fitted_model.score(scaled_predictors, regression_target)\n",
    "r2_value"
   ]
  },
  {
   "cell_type": "code",
   "execution_count": 101,
   "id": "6d2f1637",
   "metadata": {
    "ExecuteTime": {
     "end_time": "2021-08-12T06:59:15.277451Z",
     "start_time": "2021-08-12T06:59:15.274964Z"
    }
   },
   "outputs": [],
   "source": [
    "# fitted_model.score?"
   ]
  },
  {
   "cell_type": "code",
   "execution_count": 102,
   "id": "17761a99",
   "metadata": {
    "ExecuteTime": {
     "end_time": "2021-08-12T06:59:15.283466Z",
     "start_time": "2021-08-12T06:59:15.280567Z"
    },
    "deletable": false,
    "editable": false,
    "nbgrader": {
     "cell_type": "code",
     "checksum": "2ed21cebc6051adf1c57932d8cfddaee",
     "grade": true,
     "grade_id": "cell-3e51edd45a6d4c59",
     "locked": true,
     "points": 1,
     "schema_version": 3,
     "solution": false,
     "task": false
    }
   },
   "outputs": [],
   "source": [
    "assert r2_value is not None, \"Place the r2 score on this variable\""
   ]
  },
  {
   "cell_type": "markdown",
   "id": "59dd330d",
   "metadata": {
    "deletable": false,
    "editable": false,
    "nbgrader": {
     "cell_type": "markdown",
     "checksum": "0d493b18beb62125e0770a5430fe01d4",
     "grade": false,
     "grade_id": "cell-6dcfc14843f6b579",
     "locked": true,
     "schema_version": 3,
     "solution": false,
     "task": false
    }
   },
   "source": [
    "### Task 3 Interpretation"
   ]
  },
  {
   "cell_type": "markdown",
   "id": "98425d9e",
   "metadata": {
    "deletable": false,
    "editable": false,
    "nbgrader": {
     "cell_type": "markdown",
     "checksum": "bd19a34bfd483eaffe93f4c9929a9a69",
     "grade": false,
     "grade_id": "cell-05e03ebb1c880701",
     "locked": true,
     "schema_version": 3,
     "solution": false,
     "task": false
    }
   },
   "source": [
    "Our model is now trained and is ready for interpretation."
   ]
  },
  {
   "cell_type": "markdown",
   "id": "e4e776cd",
   "metadata": {
    "deletable": false,
    "editable": false,
    "nbgrader": {
     "cell_type": "markdown",
     "checksum": "12a3ea6416ca1ae6d583713bf9f93327",
     "grade": false,
     "grade_id": "cell-e3fe82e2b5a258ba",
     "locked": true,
     "schema_version": 3,
     "solution": false,
     "task": false
    }
   },
   "source": [
    "#### Task 3a Model Coefficients [2 pt]"
   ]
  },
  {
   "cell_type": "markdown",
   "id": "71bf9acb",
   "metadata": {
    "deletable": false,
    "editable": false,
    "nbgrader": {
     "cell_type": "markdown",
     "checksum": "86bb4023e7418b71506962a93c238137",
     "grade": false,
     "grade_id": "cell-fe56f91bdd2519b4",
     "locked": true,
     "schema_version": 3,
     "solution": false,
     "task": false
    }
   },
   "source": [
    "Get the coefficients of the trained `Lasso` regressor, then saved it in the `model_coefficients` variable. Don't take its absolute value yet!"
   ]
  },
  {
   "cell_type": "code",
   "execution_count": 103,
   "id": "6021d01d",
   "metadata": {
    "ExecuteTime": {
     "end_time": "2021-08-12T06:59:15.289778Z",
     "start_time": "2021-08-12T06:59:15.285608Z"
    }
   },
   "outputs": [
    {
     "data": {
      "text/plain": [
       "array([ 0.        ,  0.        ,  6.88343502,  0.        , -0.        ,\n",
       "        1.36844487, -0.        , -5.79412273,  0.        , 11.09298867,\n",
       "       -0.        , 39.16421494, 66.95681669])"
      ]
     },
     "execution_count": 103,
     "metadata": {},
     "output_type": "execute_result"
    }
   ],
   "source": [
    "fitted_model.coef_"
   ]
  },
  {
   "cell_type": "code",
   "execution_count": 104,
   "id": "d133b76e",
   "metadata": {
    "ExecuteTime": {
     "end_time": "2021-08-12T06:59:15.295507Z",
     "start_time": "2021-08-12T06:59:15.291342Z"
    },
    "deletable": false,
    "nbgrader": {
     "cell_type": "code",
     "checksum": "9da2a4b5b5f4085b5d1fb89d6f0446a0",
     "grade": false,
     "grade_id": "cell-34c2c25e74df9246",
     "locked": false,
     "schema_version": 3,
     "solution": true,
     "task": false
    }
   },
   "outputs": [
    {
     "data": {
      "text/plain": [
       "array([ 0.        ,  0.        ,  6.88343502,  0.        , -0.        ,\n",
       "        1.36844487, -0.        , -5.79412273,  0.        , 11.09298867,\n",
       "       -0.        , 39.16421494, 66.95681669])"
      ]
     },
     "execution_count": 104,
     "metadata": {},
     "output_type": "execute_result"
    }
   ],
   "source": [
    "model_coefficients = fitted_model.coef_\n",
    "model_coefficients"
   ]
  },
  {
   "cell_type": "code",
   "execution_count": 105,
   "id": "551baf8a",
   "metadata": {
    "ExecuteTime": {
     "end_time": "2021-08-12T06:59:15.299765Z",
     "start_time": "2021-08-12T06:59:15.297165Z"
    },
    "deletable": false,
    "editable": false,
    "nbgrader": {
     "cell_type": "code",
     "checksum": "a6a95d12435f8cf318e776711ea1bc47",
     "grade": true,
     "grade_id": "cell-609adc8d3571c212",
     "locked": true,
     "points": 1,
     "schema_version": 3,
     "solution": false,
     "task": false
    }
   },
   "outputs": [],
   "source": [
    "assert model_coefficients is not None, \"Place the coefficients here\""
   ]
  },
  {
   "cell_type": "markdown",
   "id": "560c37f1",
   "metadata": {
    "deletable": false,
    "editable": false,
    "nbgrader": {
     "cell_type": "markdown",
     "checksum": "7003ccb531064d4aae36543c2049854e",
     "grade": false,
     "grade_id": "cell-8208f732a8643875",
     "locked": true,
     "points": 1,
     "schema_version": 3,
     "solution": false,
     "task": true
    }
   },
   "source": [
    "Plot the `model_coefficients` as a horizontal bar plot with the y-axis as the `feature_name`."
   ]
  },
  {
   "cell_type": "code",
   "execution_count": 106,
   "id": "3da0d246",
   "metadata": {
    "ExecuteTime": {
     "end_time": "2021-08-12T06:59:15.556110Z",
     "start_time": "2021-08-12T06:59:15.301960Z"
    },
    "deletable": false,
    "nbgrader": {
     "cell_type": "code",
     "checksum": "34dcb64ed6824a23ed1b6c50e1c6a051",
     "grade": false,
     "grade_id": "cell-a8949c7127f16d2b",
     "locked": false,
     "schema_version": 3,
     "solution": true,
     "task": false
    }
   },
   "outputs": [
    {
     "data": {
      "image/png": "[encoded data removed]",
      "text/plain": [
       "<Figure size 720x504 with 1 Axes>"
      ]
     },
     "metadata": {
      "needs_background": "light"
     },
     "output_type": "display_data"
    }
   ],
   "source": [
    "import matplotlib.pyplot as plt\n",
    "\n",
    "# weights_normalized= fitted_model.coef_.T/np.sum(np.abs(fitted_model.coef_.T))\n",
    "\n",
    "fig = plt.figure(figsize=(10, 7))\n",
    "plt.barh(feature_names, model_coefficients, align='center')\n",
    "# plt.yticks(feature_names)\n",
    "plt.show()"
   ]
  },
  {
   "cell_type": "markdown",
   "id": "bb6ebe57",
   "metadata": {
    "deletable": false,
    "editable": false,
    "nbgrader": {
     "cell_type": "markdown",
     "checksum": "6a4f7f0714e4ca1b4c816dfadb4bb428",
     "grade": false,
     "grade_id": "cell-3ecf92c411c23664",
     "locked": true,
     "schema_version": 3,
     "solution": false,
     "task": false
    }
   },
   "source": [
    "#### Task 3b Most impactful features [2 pts]"
   ]
  },
  {
   "cell_type": "markdown",
   "id": "a2cd9a0a",
   "metadata": {
    "deletable": false,
    "editable": false,
    "nbgrader": {
     "cell_type": "markdown",
     "checksum": "e951500be20d8c08c4af28147cee460c",
     "grade": false,
     "grade_id": "cell-f5028e6970cd9d0e",
     "locked": true,
     "schema_version": 3,
     "solution": false,
     "task": false
    }
   },
   "source": [
    "Now, take the absolute value of the model coefficients, save this array onto the `model_coefficients_abs` variable."
   ]
  },
  {
   "cell_type": "code",
   "execution_count": 107,
   "id": "1b1ea1ce",
   "metadata": {
    "ExecuteTime": {
     "end_time": "2021-08-12T06:59:15.562802Z",
     "start_time": "2021-08-12T06:59:15.557998Z"
    },
    "deletable": false,
    "nbgrader": {
     "cell_type": "code",
     "checksum": "844f8df4839f52d18d1d07f566d8a0ce",
     "grade": false,
     "grade_id": "cell-278f567e14fce41a",
     "locked": false,
     "schema_version": 3,
     "solution": true,
     "task": false
    }
   },
   "outputs": [
    {
     "data": {
      "text/plain": [
       "array([ 0.        ,  0.        ,  6.88343502,  0.        ,  0.        ,\n",
       "        1.36844487,  0.        ,  5.79412273,  0.        , 11.09298867,\n",
       "        0.        , 39.16421494, 66.95681669])"
      ]
     },
     "execution_count": 107,
     "metadata": {},
     "output_type": "execute_result"
    }
   ],
   "source": [
    "model_coefficients_abs = np.abs(model_coefficients)\n",
    "\n",
    "# YOUR CODE HERE\n",
    "model_coefficients_abs"
   ]
  },
  {
   "cell_type": "code",
   "execution_count": 108,
   "id": "e033ed14",
   "metadata": {
    "ExecuteTime": {
     "end_time": "2021-08-12T06:59:15.567292Z",
     "start_time": "2021-08-12T06:59:15.564463Z"
    },
    "deletable": false,
    "editable": false,
    "nbgrader": {
     "cell_type": "code",
     "checksum": "e0138c20f875dbedffdadb0608e8abae",
     "grade": true,
     "grade_id": "cell-8ac1193c871a8597",
     "locked": true,
     "points": 1,
     "schema_version": 3,
     "solution": false,
     "task": false
    }
   },
   "outputs": [],
   "source": [
    "assert model_coefficients_abs is not None, \"Place the abs coefficients here\""
   ]
  },
  {
   "cell_type": "markdown",
   "id": "f1405399",
   "metadata": {
    "deletable": false,
    "editable": false,
    "nbgrader": {
     "cell_type": "markdown",
     "checksum": "0be750be4f13993abb799be9402d6275",
     "grade": false,
     "grade_id": "cell-a6077e3fc2bfbf82",
     "locked": true,
     "points": 1,
     "schema_version": 3,
     "solution": false,
     "task": true
    }
   },
   "source": [
    "Generate a horizontal bar plot showing the feature names as the y-axis and the absolute value of the coefficients as the x-axis.\n",
    "\n",
    "*Next level play: Sort the y-axis of the plot according to increasing absolute coefficient value (highest value should be on the top of the plot, lowest value should lie on the bottom).*"
   ]
  },
  {
   "cell_type": "code",
   "execution_count": 109,
   "id": "caf7b590",
   "metadata": {
    "ExecuteTime": {
     "end_time": "2021-08-12T06:59:15.575141Z",
     "start_time": "2021-08-12T06:59:15.569210Z"
    },
    "deletable": false,
    "nbgrader": {
     "cell_type": "code",
     "checksum": "df649290f7f214d11e5e6a1c4bac6652",
     "grade": false,
     "grade_id": "cell-dd5e0b19bb02d2b3",
     "locked": false,
     "schema_version": 3,
     "solution": true,
     "task": false
    }
   },
   "outputs": [
    {
     "data": {
      "text/plain": [
       "[(0, 0.0),\n",
       " (1, 0.0),\n",
       " (3, 0.0),\n",
       " (4, 0.0),\n",
       " (6, 0.0),\n",
       " (8, 0.0),\n",
       " (10, 0.0),\n",
       " (5, 1.368444869039042),\n",
       " (7, 5.794122728560324),\n",
       " (2, 6.883435016561234),\n",
       " (9, 11.092988667870339),\n",
       " (11, 39.16421494030522),\n",
       " (12, 66.95681668799521)]"
      ]
     },
     "execution_count": 109,
     "metadata": {},
     "output_type": "execute_result"
    }
   ],
   "source": [
    "# YOUR CODE HERE\n",
    "sorted_ = sorted(list(enumerate(model_coefficients_abs)), key=lambda x: x[1])\n",
    "sorted_"
   ]
  },
  {
   "cell_type": "code",
   "execution_count": 110,
   "id": "873f87a5",
   "metadata": {
    "ExecuteTime": {
     "end_time": "2021-08-12T06:59:15.782632Z",
     "start_time": "2021-08-12T06:59:15.576802Z"
    }
   },
   "outputs": [
    {
     "data": {
      "image/png": "[encoded data removed]",
      "text/plain": [
       "<Figure size 720x504 with 1 Axes>"
      ]
     },
     "metadata": {
      "needs_background": "light"
     },
     "output_type": "display_data"
    }
   ],
   "source": [
    "fig = plt.figure(figsize=(10, 7))\n",
    "plt.barh([feature_names[i[0]] for i in sorted_], [i[1] for i in sorted_])\n",
    "plt.ylabel(\"Features\")\n",
    "plt.show()"
   ]
  },
  {
   "cell_type": "markdown",
   "id": "5ee0b613",
   "metadata": {
    "deletable": false,
    "editable": false,
    "nbgrader": {
     "cell_type": "markdown",
     "checksum": "2dc7c32a3c2978eb03b06cec05402896",
     "grade": false,
     "grade_id": "cell-8835d7d537a298b7",
     "locked": true,
     "schema_version": 3,
     "solution": false,
     "task": false
    }
   },
   "source": [
    "#### Task 3c Insights [2 pts]"
   ]
  },
  {
   "cell_type": "markdown",
   "id": "d3093db4",
   "metadata": {
    "deletable": false,
    "editable": false,
    "nbgrader": {
     "cell_type": "markdown",
     "checksum": "14244c3802617a55c41a6f3e9408f85b",
     "grade": false,
     "grade_id": "cell-346334a5b97936f4",
     "locked": true,
     "schema_version": 3,
     "solution": false,
     "task": false
    }
   },
   "source": [
    "Give three insights that you can observe from the results."
   ]
  },
  {
   "cell_type": "markdown",
   "id": "d27ef35c",
   "metadata": {
    "deletable": false,
    "nbgrader": {
     "cell_type": "markdown",
     "checksum": "3d22e0d0497c2395ad76655e290f7f1b",
     "grade": true,
     "grade_id": "cell-06f87ae44c15d66d",
     "locked": false,
     "points": 2,
     "schema_version": 3,
     "solution": true,
     "task": false
    }
   },
   "source": [
    "YOUR ANSWER HERE\n",
    " - The number of days in GCQ or ECQ greatly contributes positively to the number of positive cases per population. Although this may seem strange, it maybe because the surge in covid 19 cases that are realized are the ones that were contracted weeks ago before the quarantine has been placed.\n",
    " \n",
    " - aside from the days in GCQ or ECQ the next contributor is the working population percent variable. This one makes sense because the more people who are working, the more people tend to go outside, the more they are at risk of covid19 transmission. \n",
    " \n",
    " - One might also think that house hold income may also contribute to the covid19 cases, but the model deemed it as irrelevant. It shows that covid19 affects all socio-economic classes.\n",
    " "
   ]
  },
  {
   "cell_type": "markdown",
   "id": "1687198c",
   "metadata": {
    "deletable": false,
    "editable": false,
    "nbgrader": {
     "cell_type": "markdown",
     "checksum": "5706a0ebece46d67e5f0952a92263298",
     "grade": false,
     "grade_id": "cell-4499962a3ab9c4f2",
     "locked": true,
     "schema_version": 3,
     "solution": false,
     "task": false
    }
   },
   "source": [
    "## Problem 2 Logistic and Support Vector Machines"
   ]
  },
  {
   "cell_type": "markdown",
   "id": "84005f98",
   "metadata": {
    "deletable": false,
    "editable": false,
    "nbgrader": {
     "cell_type": "markdown",
     "checksum": "7130abd71e348f8ea6671795e4bb429d",
     "grade": false,
     "grade_id": "cell-55f482d0b15d0ffd",
     "locked": true,
     "schema_version": 3,
     "solution": false,
     "task": false
    }
   },
   "source": [
    "In this problem, we will use the same *scaled* descriptive features from the previous problem and train a `Logistic` and `Linear SVM` using `L2` regularization to predict whether a certain municipality has high or low reported cases count."
   ]
  },
  {
   "cell_type": "code",
   "execution_count": 111,
   "id": "0a6e87ee",
   "metadata": {
    "ExecuteTime": {
     "end_time": "2021-08-12T06:59:15.787256Z",
     "start_time": "2021-08-12T06:59:15.784271Z"
    },
    "deletable": false,
    "editable": false,
    "nbgrader": {
     "cell_type": "code",
     "checksum": "0951713d13af401bf538c255265971e7",
     "grade": false,
     "grade_id": "cell-25d27dfa95afeadb",
     "locked": true,
     "schema_version": 3,
     "solution": false,
     "task": false
    }
   },
   "outputs": [],
   "source": [
    "# Import models to be used\n",
    "from sklearn.base import clone\n",
    "from sklearn.svm import LinearSVC\n",
    "from sklearn.linear_model import LogisticRegression\n",
    "\n",
    "# Import model selection method\n",
    "from sklearn.model_selection import KFold"
   ]
  },
  {
   "cell_type": "markdown",
   "id": "180fa6a2",
   "metadata": {
    "deletable": false,
    "editable": false,
    "nbgrader": {
     "cell_type": "markdown",
     "checksum": "c1010a63c4ba507768cab38c4ef46be9",
     "grade": false,
     "grade_id": "cell-3b13474ae9a19e97",
     "locked": true,
     "schema_version": 3,
     "solution": false,
     "task": false
    }
   },
   "source": [
    "### Task 1 Model Experimentation [8 pts]"
   ]
  },
  {
   "cell_type": "markdown",
   "id": "0e323266",
   "metadata": {
    "deletable": false,
    "editable": false,
    "nbgrader": {
     "cell_type": "markdown",
     "checksum": "f9f8d87fd1a5b16ca6e2ad41f50e9f9b",
     "grade": false,
     "grade_id": "cell-8c899b1421a6393a",
     "locked": true,
     "schema_version": 3,
     "solution": false,
     "task": false
    }
   },
   "source": [
    "Perform training and testing of a `Logistic (L2)`, and `Linear SVC (L2)` model using an `8`-fold cross validation. Use the scaled descriptive features (stored as `scaled_predictors`) as your input features and the `reportedIncidentsHighLow` (stored as `classification_target`) as your target features.\n",
    "\n",
    "**Experimentation Settings:**\n",
    "1. Set the `shuffle` setting of your `KFold` cross-validator to be `False`.\n",
    "2. Iterate the `C` hyperparameter for along the given `C_range`\n",
    "3. Use random state `1337` for all of your models.\n",
    "4. For each hyperparameter setting of your models, get the **average value** of the train and test accuracy across all splits then save them on their respective initialized lists below."
   ]
  },
  {
   "cell_type": "code",
   "execution_count": 112,
   "id": "6d6c48e5",
   "metadata": {
    "ExecuteTime": {
     "end_time": "2021-08-12T06:59:15.794225Z",
     "start_time": "2021-08-12T06:59:15.788846Z"
    },
    "deletable": false,
    "editable": false,
    "nbgrader": {
     "cell_type": "code",
     "checksum": "bf54473381c69ba0b97307764d6aef33",
     "grade": false,
     "grade_id": "cell-627cbf85aa1c21b2",
     "locked": true,
     "schema_version": 3,
     "solution": false,
     "task": false
    }
   },
   "outputs": [],
   "source": [
    "# Hyperparameter range\n",
    "C_range = np.logspace(-8, 8, 20)\n",
    "\n",
    "# Initialize simulation results\n",
    "logistic_train_accuracy = []\n",
    "logistic_test_accuracy = []\n",
    "svc_train_accuracy = []\n",
    "svc_test_accuracy = []"
   ]
  },
  {
   "cell_type": "code",
   "execution_count": 113,
   "id": "36656491",
   "metadata": {
    "ExecuteTime": {
     "end_time": "2021-08-12T06:59:16.645422Z",
     "start_time": "2021-08-12T06:59:15.795945Z"
    },
    "deletable": false,
    "nbgrader": {
     "cell_type": "code",
     "checksum": "884484a9ec476bfdeb270a10140cd61b",
     "grade": false,
     "grade_id": "cell-b0bba393dce30f84",
     "locked": false,
     "schema_version": 3,
     "solution": true,
     "task": false
    }
   },
   "outputs": [],
   "source": [
    "from sklearn.linear_model import LogisticRegression\n",
    "from sklearn.model_selection import KFold\n",
    "kf = KFold(n_splits=8, shuffle=False)\n",
    "\n",
    "for c in C_range:\n",
    "    train_acc_split = []\n",
    "    test_acc_split = []\n",
    "    for train_index, test_index in kf.split(scaled_predictors):\n",
    "        X_train, X_test = scaled_predictors[train_index], scaled_predictors[test_index]\n",
    "        y_train, y_test = classification_target[train_index], classification_target[test_index]\n",
    "        \n",
    "        lr_l2 = LogisticRegression(penalty=\"l2\",C=c).fit(X_train, y_train)\n",
    "        train_acc_split.append(lr_l2.score(X_train, y_train))\n",
    "        test_acc_split.append(lr_l2.score(X_test, y_test))\n",
    "    logistic_train_accuracy.append(np.array(train_acc_split).mean())\n",
    "    logistic_test_accuracy.append(np.array(test_acc_split).mean())"
   ]
  },
  {
   "cell_type": "code",
   "execution_count": 114,
   "id": "952ef2c5",
   "metadata": {
    "ExecuteTime": {
     "end_time": "2021-08-12T06:59:16.935004Z",
     "start_time": "2021-08-12T06:59:16.647342Z"
    }
   },
   "outputs": [],
   "source": [
    "from sklearn.svm import LinearSVC\n",
    "from sklearn.model_selection import KFold\n",
    "kf = KFold(n_splits=8, shuffle=False)\n",
    "\n",
    "for c in C_range:\n",
    "    train_acc_split = []\n",
    "    test_acc_split = []\n",
    "    for train_index, test_index in kf.split(scaled_predictors):\n",
    "        X_train, X_test = scaled_predictors[train_index], scaled_predictors[test_index]\n",
    "        y_train, y_test = classification_target[train_index], classification_target[test_index]\n",
    "        \n",
    "        svc_l2 = LinearSVC(penalty=\"l2\",C=c).fit(X_train, y_train)\n",
    "        train_acc_split.append(svc_l2.score(X_train, y_train))\n",
    "        test_acc_split.append(svc_l2.score(X_test, y_test))\n",
    "    svc_train_accuracy.append(np.array(train_acc_split).mean())\n",
    "    svc_test_accuracy.append(np.array(test_acc_split).mean())"
   ]
  },
  {
   "cell_type": "code",
   "execution_count": 115,
   "id": "4978bb67",
   "metadata": {
    "ExecuteTime": {
     "end_time": "2021-08-12T06:59:16.941157Z",
     "start_time": "2021-08-12T06:59:16.936705Z"
    }
   },
   "outputs": [
    {
     "data": {
      "text/plain": [
       "[1.0,\n",
       " 1.0,\n",
       " 1.0,\n",
       " 1.0,\n",
       " 1.0,\n",
       " 1.0,\n",
       " 0.984375,\n",
       " 0.984375,\n",
       " 0.984375,\n",
       " 0.984375,\n",
       " 0.96875,\n",
       " 0.953125,\n",
       " 0.953125,\n",
       " 0.953125,\n",
       " 0.953125,\n",
       " 0.953125,\n",
       " 0.953125,\n",
       " 0.953125,\n",
       " 0.953125,\n",
       " 0.953125]"
      ]
     },
     "execution_count": 115,
     "metadata": {},
     "output_type": "execute_result"
    }
   ],
   "source": [
    "svc_test_accuracy"
   ]
  },
  {
   "cell_type": "code",
   "execution_count": 116,
   "id": "1f5e8eb6",
   "metadata": {
    "ExecuteTime": {
     "end_time": "2021-08-12T06:59:16.946023Z",
     "start_time": "2021-08-12T06:59:16.942737Z"
    },
    "deletable": false,
    "editable": false,
    "nbgrader": {
     "cell_type": "code",
     "checksum": "13e133533722424f0ee0e4ab2b319a3f",
     "grade": true,
     "grade_id": "cell-756e58ffb340fd10",
     "locked": true,
     "points": 8,
     "schema_version": 3,
     "solution": false,
     "task": false
    }
   },
   "outputs": [],
   "source": [
    "assert len(logistic_train_accuracy) == 20\n",
    "assert len(logistic_test_accuracy) == 20\n",
    "assert len(svc_train_accuracy) == 20\n",
    "assert len(svc_test_accuracy) == 20"
   ]
  },
  {
   "cell_type": "markdown",
   "id": "8d976abe",
   "metadata": {
    "deletable": false,
    "editable": false,
    "nbgrader": {
     "cell_type": "markdown",
     "checksum": "796b8623c7377acd5d3755d67ffcd572",
     "grade": false,
     "grade_id": "cell-47c1a89d425cd92a",
     "locked": true,
     "schema_version": 3,
     "solution": false,
     "task": false
    }
   },
   "source": [
    "### Task 2 Evaluation of Results"
   ]
  },
  {
   "cell_type": "markdown",
   "id": "e33d2ec9",
   "metadata": {
    "deletable": false,
    "editable": false,
    "nbgrader": {
     "cell_type": "markdown",
     "checksum": "7f95f7c7a88f1ca176d329e8492761cf",
     "grade": false,
     "grade_id": "cell-abade22f2ea173af",
     "locked": true,
     "points": 2,
     "schema_version": 3,
     "solution": false,
     "task": true
    }
   },
   "source": [
    "#### Task 2a [2 pts]\n",
    "Plot the train and test accuracy versus the hyperparameter setting `C` for each model in their own separate subplots. Show the legend and set the log scale for the `x-axis`. [2 pts]\n",
    "\n",
    "*Hint: To set the x-scale of the plot to logarithm, first, get the current axes of the plot `ax = plt.gca()`, then invoke the matplotlib axes method `ax.set_xscale('log')`.*"
   ]
  },
  {
   "cell_type": "code",
   "execution_count": 117,
   "id": "ab585e8b",
   "metadata": {
    "ExecuteTime": {
     "end_time": "2021-08-12T06:59:17.271523Z",
     "start_time": "2021-08-12T06:59:16.949290Z"
    },
    "deletable": false,
    "nbgrader": {
     "cell_type": "code",
     "checksum": "edbfd36318c56ca9e3388cf40a95d151",
     "grade": false,
     "grade_id": "cell-40946d15a45efc20",
     "locked": false,
     "schema_version": 3,
     "solution": true,
     "task": false
    }
   },
   "outputs": [
    {
     "name": "stderr",
     "output_type": "stream",
     "text": [
      "No handles with labels found to put in legend.\n"
     ]
    },
    {
     "data": {
      "text/plain": [
       "<matplotlib.legend.Legend at 0x7efda58e9b20>"
      ]
     },
     "execution_count": 117,
     "metadata": {},
     "output_type": "execute_result"
    },
    {
     "data": {
      "image/png": "[encoded data removed]",
      "text/plain": [
       "<Figure size 1080x432 with 1 Axes>"
      ]
     },
     "metadata": {
      "needs_background": "light"
     },
     "output_type": "display_data"
    }
   ],
   "source": [
    "# YOUR CODE HERE\n",
    "fig = plt.figure(figsize=(15, 6))\n",
    "\n",
    "plt.xscale('log')\n",
    "plt.plot(C_range, logistic_train_accuracy, marker='o')\n",
    "plt.plot(C_range, logistic_test_accuracy, marker='^')\n",
    "plt.ylabel(\"Accuracy\")\n",
    "plt.xlabel(\"C\")\n",
    "#plt.ylim(.7,1)\n",
    "plt.legend()"
   ]
  },
  {
   "cell_type": "code",
   "execution_count": 118,
   "id": "0d91f699",
   "metadata": {
    "ExecuteTime": {
     "end_time": "2021-08-12T06:59:17.692333Z",
     "start_time": "2021-08-12T06:59:17.273801Z"
    }
   },
   "outputs": [
    {
     "name": "stderr",
     "output_type": "stream",
     "text": [
      "No handles with labels found to put in legend.\n"
     ]
    },
    {
     "data": {
      "text/plain": [
       "<matplotlib.legend.Legend at 0x7efda5bb9eb0>"
      ]
     },
     "execution_count": 118,
     "metadata": {},
     "output_type": "execute_result"
    },
    {
     "data": {
      "image/png": "[encoded data removed]",
      "text/plain": [
       "<Figure size 1080x432 with 1 Axes>"
      ]
     },
     "metadata": {
      "needs_background": "light"
     },
     "output_type": "display_data"
    }
   ],
   "source": [
    "# YOUR CODE HERE\n",
    "fig = plt.figure(figsize=(15, 6))\n",
    "\n",
    "plt.xscale('log')\n",
    "plt.plot(C_range, svc_train_accuracy, marker='o')\n",
    "plt.plot(C_range, svc_test_accuracy, marker='^')\n",
    "plt.ylabel(\"Accuracy\")\n",
    "plt.xlabel(\"C\")\n",
    "#plt.ylim(.7,1)\n",
    "plt.legend()"
   ]
  },
  {
   "cell_type": "markdown",
   "id": "ec9a53a8",
   "metadata": {
    "deletable": false,
    "editable": false,
    "nbgrader": {
     "cell_type": "markdown",
     "checksum": "8a9994513af455a4027f875ebf86ccf8",
     "grade": false,
     "grade_id": "cell-4c22b1b1aa55d025",
     "locked": true,
     "schema_version": 3,
     "solution": false,
     "task": false
    }
   },
   "source": [
    "#### Task 2b Model Selection [2 pts]\n",
    "Which model will you use? Why?"
   ]
  },
  {
   "cell_type": "markdown",
   "id": "6b6aa9c9",
   "metadata": {
    "deletable": false,
    "nbgrader": {
     "cell_type": "markdown",
     "checksum": "8bfab48d6f46928dc973561aea504df1",
     "grade": true,
     "grade_id": "cell-16c72e365563041f",
     "locked": false,
     "points": 2,
     "schema_version": 3,
     "solution": true,
     "task": false
    }
   },
   "source": [
    "I would choose SVM because it gave the overall best test accuracy"
   ]
  },
  {
   "cell_type": "code",
   "execution_count": 119,
   "id": "795588a9",
   "metadata": {
    "ExecuteTime": {
     "end_time": "2021-08-12T06:59:17.698708Z",
     "start_time": "2021-08-12T06:59:17.694078Z"
    }
   },
   "outputs": [
    {
     "data": {
      "text/plain": [
       "0.984375"
      ]
     },
     "execution_count": 119,
     "metadata": {},
     "output_type": "execute_result"
    }
   ],
   "source": [
    "np.array(logistic_test_accuracy).max()"
   ]
  },
  {
   "cell_type": "code",
   "execution_count": 120,
   "id": "e6209651",
   "metadata": {
    "ExecuteTime": {
     "end_time": "2021-08-12T06:59:17.704485Z",
     "start_time": "2021-08-12T06:59:17.700249Z"
    }
   },
   "outputs": [
    {
     "data": {
      "text/plain": [
       "1.0"
      ]
     },
     "execution_count": 120,
     "metadata": {},
     "output_type": "execute_result"
    }
   ],
   "source": [
    "np.array(svc_test_accuracy).max()"
   ]
  },
  {
   "cell_type": "markdown",
   "id": "9cf43062",
   "metadata": {
    "deletable": false,
    "editable": false,
    "nbgrader": {
     "cell_type": "markdown",
     "checksum": "c8e50d016ec317ad43f4e59dbf66696f",
     "grade": false,
     "grade_id": "cell-8e5ee4c2aec466d3",
     "locked": true,
     "schema_version": 3,
     "solution": false,
     "task": false
    }
   },
   "source": [
    "## BONUS [1 pt]\n",
    "What modifications and/or procedures on the dataset or experimentation procedure will you do to improve the performance and evaluation of the model?"
   ]
  },
  {
   "cell_type": "markdown",
   "id": "dbe39370",
   "metadata": {
    "deletable": false,
    "nbgrader": {
     "cell_type": "markdown",
     "checksum": "0f6104b51e286fd18cd502f3c65b7ae2",
     "grade": true,
     "grade_id": "cell-ae40981a18824f6e",
     "locked": false,
     "points": 1,
     "schema_version": 3,
     "solution": true,
     "task": false
    }
   },
   "source": [
    "YOUR ANSWER HERE\n",
    "\n",
    "I would standardize after the splitting of test and train."
   ]
  }
 ],
 "metadata": {
  "kernelspec": {
   "display_name": "Python 3 (ipykernel)",
   "language": "python",
   "name": "python3"
  },
  "language_info": {
   "codemirror_mode": {
    "name": "ipython",
    "version": 3
   },
   "file_extension": ".py",
   "mimetype": "text/x-python",
   "name": "python",
   "nbconvert_exporter": "python",
   "pygments_lexer": "ipython3",
   "version": "3.8.12"
  },
  "toc": {
   "base_numbering": 1,
   "nav_menu": {},
   "number_sections": true,
   "sideBar": true,
   "skip_h1_title": false,
   "title_cell": "Table of Contents",
   "title_sidebar": "Contents",
   "toc_cell": false,
   "toc_position": {},
   "toc_section_display": true,
   "toc_window_display": false
  }
 },
 "nbformat": 4,
 "nbformat_minor": 5
}
