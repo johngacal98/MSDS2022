{
 "cells": [
  {
   "cell_type": "code",
   "execution_count": 1,
   "id": "24815538",
   "metadata": {
    "ExecuteTime": {
     "end_time": "2021-08-12T07:00:39.112239Z",
     "start_time": "2021-08-12T07:00:38.846509Z"
    },
    "deletable": false,
    "editable": false,
    "nbgrader": {
     "cell_type": "code",
     "checksum": "bb9673dda53f6ca5a74976c2467c2fda",
     "grade": false,
     "grade_id": "cell-7cd44b5d4ed89757",
     "locked": true,
     "schema_version": 3,
     "solution": false,
     "task": false
    }
   },
   "outputs": [],
   "source": [
    "from numpy.testing import assert_equal, assert_almost_equal"
   ]
  },
  {
   "cell_type": "markdown",
   "id": "e51d7a8f",
   "metadata": {
    "deletable": false,
    "editable": false,
    "nbgrader": {
     "cell_type": "markdown",
     "checksum": "50d56e4762a7814f401a66d0a11bf343",
     "grade": false,
     "grade_id": "cell-8e3c2c605ef0e6b8",
     "locked": true,
     "schema_version": 3,
     "solution": false,
     "task": false
    }
   },
   "source": [
    "# Quiz 2: Linear Models and SVM [20 pts]"
   ]
  },
  {
   "cell_type": "markdown",
   "id": "b33e67dd",
   "metadata": {
    "deletable": false,
    "editable": false,
    "nbgrader": {
     "cell_type": "markdown",
     "checksum": "597d88f0a11e030987ef727c333f05cb",
     "grade": false,
     "grade_id": "cell-70fa8cbe85d97474",
     "locked": true,
     "schema_version": 3,
     "solution": false,
     "task": false
    }
   },
   "source": [
    "In this quiz, you will be working on the **Reported COVID19 Cases** of selected municipalities in the Philippines. This dataset is attached along with this notebook as `covid19ph.csv`. The attributes of the dataset are as follows:\n",
    "\n",
    "**Descriptive Features**\n",
    "\n",
    "1. `householdIncome`: Average household income of surveyed participants annually in PhP.\n",
    "2. `gdp`: reported GDP per capita of Municipality in PhP.\n",
    "3. `malePercent`: Percentage of male population\n",
    "4. `population`: Actual population\n",
    "5. `area`: Area in km<sup>2</sup> of the boundary\n",
    "6. `populationDensity`: Population/Area\n",
    "7. `age`: Average age of surveyed participants\n",
    "8. `firstCaseDays`: Number of days from 01 January 2020 when first COVID19 positive was reported\n",
    "9. `hospitalCapacity`: Percent of hospital available to treat/admit COVID19 patients\n",
    "10. `workingPopulationPercent`: Percent of working population\n",
    "11. `partyAffiliationPercent`: Party affiliation in percent of leaders in the government who are affiliated with the current administration\n",
    "12. `daysECQ`: Number of days in Enhanced Community Quarantine (ECQ) or Modified ECQ (MECQ).\n",
    "13. `daysGCQ`: Number of days in General Community Quarantine (GCQ) or Modified GCQ (MGCQ).\n",
    "\n",
    "**Target Features**\n",
    "\n",
    "14. `reportedIncidents`: Number of confirmed COVID19 positive per 100,000 population\n",
    "15. `reportedIncidentsHighLow`: value is `1` if `reportedIncidents` > 300 per 100k population. Else, the value is `0`.\n",
    "\n",
    "In **Problem 1** you will use `Lasso` regression to identify important features on the dataset, while in **Problem 2** you will be asked to build a model using `Logistic` and `LinearSVC` with `L2` regularizations.\n",
    "\n",
    "*Note: some parts of this quiz will be autograded! Be sure to follow the instructions in each task carefully and that your notebooks run from top to bottom!*"
   ]
  },
  {
   "cell_type": "markdown",
   "id": "adf5fe0d",
   "metadata": {
    "deletable": false,
    "editable": false,
    "nbgrader": {
     "cell_type": "markdown",
     "checksum": "15b8436277c0f7cc8e7a710e8cfe9ead",
     "grade": false,
     "grade_id": "cell-ad2180e21dd908ba",
     "locked": true,
     "schema_version": 3,
     "solution": false,
     "task": false
    }
   },
   "source": [
    "## Problem 1 Lasso Regression"
   ]
  },
  {
   "cell_type": "markdown",
   "id": "80d9d20a",
   "metadata": {
    "deletable": false,
    "editable": false,
    "nbgrader": {
     "cell_type": "markdown",
     "checksum": "37c761b11d5f7da6b674b686c0204e19",
     "grade": false,
     "grade_id": "cell-2995886df55cda9d",
     "locked": true,
     "schema_version": 3,
     "solution": false,
     "task": false
    }
   },
   "source": [
    "In this problem, we will use `Lasso` regression to identify the features that has the most impact on our model. Afterwards, we proceed to interpret the results and make sense of it!\n",
    "\n",
    "We first read and perform preprocessing on our dataset"
   ]
  },
  {
   "cell_type": "code",
   "execution_count": 2,
   "id": "e798c445",
   "metadata": {
    "ExecuteTime": {
     "end_time": "2021-08-12T07:00:39.852789Z",
     "start_time": "2021-08-12T07:00:39.114694Z"
    },
    "deletable": false,
    "editable": false,
    "nbgrader": {
     "cell_type": "code",
     "checksum": "e56bc9212749577800f5cccb21d7226b",
     "grade": false,
     "grade_id": "cell-b5831b637e11b44d",
     "locked": true,
     "schema_version": 3,
     "solution": false,
     "task": false
    }
   },
   "outputs": [],
   "source": [
    "# Import libraries\n",
    "import numpy as np\n",
    "import pandas as pd\n",
    "from sklearn.preprocessing import StandardScaler\n",
    "\n",
    "# Read the dataset\n",
    "data = pd.read_csv('covid19ph.csv')\n",
    "\n",
    "# Get the descriptive and target features\n",
    "predictors = data.iloc[:, :-2]\n",
    "regression_target = data.iloc[:, -2]\n",
    "classification_target = data.iloc[:, -1]\n",
    "feature_names = np.array(predictors.columns)\n",
    "\n",
    "# Perform standard scaling on the predictors\n",
    "## Initialize scaler\n",
    "scaler = StandardScaler()\n",
    "scaler.fit(predictors)\n",
    "\n",
    "# Perform scaling\n",
    "scaled_predictors = scaler.transform(predictors)"
   ]
  },
  {
   "cell_type": "code",
   "execution_count": 3,
   "id": "d6df7ebe",
   "metadata": {
    "ExecuteTime": {
     "end_time": "2021-08-12T07:00:39.886855Z",
     "start_time": "2021-08-12T07:00:39.855299Z"
    }
   },
   "outputs": [
    {
     "data": {
      "text/html": [
       "<div>\n",
       "<style scoped>\n",
       "    .dataframe tbody tr th:only-of-type {\n",
       "        vertical-align: middle;\n",
       "    }\n",
       "\n",
       "    .dataframe tbody tr th {\n",
       "        vertical-align: top;\n",
       "    }\n",
       "\n",
       "    .dataframe thead th {\n",
       "        text-align: right;\n",
       "    }\n",
       "</style>\n",
       "<table border=\"1\" class=\"dataframe\">\n",
       "  <thead>\n",
       "    <tr style=\"text-align: right;\">\n",
       "      <th></th>\n",
       "      <th>householdIncome</th>\n",
       "      <th>gdp</th>\n",
       "      <th>malePercent</th>\n",
       "      <th>population</th>\n",
       "      <th>area</th>\n",
       "      <th>populationDensity</th>\n",
       "      <th>age</th>\n",
       "      <th>firstCaseDays</th>\n",
       "      <th>hospitalCapacity</th>\n",
       "      <th>workingPopulationPercent</th>\n",
       "      <th>partyAffiliationPercent</th>\n",
       "      <th>daysECQ</th>\n",
       "      <th>daysGCQ</th>\n",
       "    </tr>\n",
       "  </thead>\n",
       "  <tbody>\n",
       "    <tr>\n",
       "      <th>0</th>\n",
       "      <td>260566.666744</td>\n",
       "      <td>286979.427459</td>\n",
       "      <td>40.57</td>\n",
       "      <td>288543</td>\n",
       "      <td>62.731670</td>\n",
       "      <td>4599.638441</td>\n",
       "      <td>31.50</td>\n",
       "      <td>157.0</td>\n",
       "      <td>72.58</td>\n",
       "      <td>48.68</td>\n",
       "      <td>83.28</td>\n",
       "      <td>42</td>\n",
       "      <td>112</td>\n",
       "    </tr>\n",
       "    <tr>\n",
       "      <th>1</th>\n",
       "      <td>112985.514879</td>\n",
       "      <td>105407.619973</td>\n",
       "      <td>45.23</td>\n",
       "      <td>282387</td>\n",
       "      <td>110.947079</td>\n",
       "      <td>2545.240508</td>\n",
       "      <td>35.06</td>\n",
       "      <td>131.0</td>\n",
       "      <td>44.65</td>\n",
       "      <td>54.63</td>\n",
       "      <td>54.49</td>\n",
       "      <td>28</td>\n",
       "      <td>112</td>\n",
       "    </tr>\n",
       "    <tr>\n",
       "      <th>2</th>\n",
       "      <td>211831.883484</td>\n",
       "      <td>239822.521163</td>\n",
       "      <td>59.92</td>\n",
       "      <td>274189</td>\n",
       "      <td>128.026816</td>\n",
       "      <td>2141.652883</td>\n",
       "      <td>38.10</td>\n",
       "      <td>103.0</td>\n",
       "      <td>25.24</td>\n",
       "      <td>59.53</td>\n",
       "      <td>64.68</td>\n",
       "      <td>42</td>\n",
       "      <td>98</td>\n",
       "    </tr>\n",
       "    <tr>\n",
       "      <th>3</th>\n",
       "      <td>101543.107579</td>\n",
       "      <td>83182.845841</td>\n",
       "      <td>40.90</td>\n",
       "      <td>273639</td>\n",
       "      <td>67.406368</td>\n",
       "      <td>4059.542269</td>\n",
       "      <td>33.72</td>\n",
       "      <td>150.0</td>\n",
       "      <td>56.13</td>\n",
       "      <td>46.11</td>\n",
       "      <td>94.41</td>\n",
       "      <td>28</td>\n",
       "      <td>112</td>\n",
       "    </tr>\n",
       "    <tr>\n",
       "      <th>4</th>\n",
       "      <td>76593.794371</td>\n",
       "      <td>103644.558103</td>\n",
       "      <td>56.38</td>\n",
       "      <td>260953</td>\n",
       "      <td>90.412583</td>\n",
       "      <td>2886.246485</td>\n",
       "      <td>41.13</td>\n",
       "      <td>157.0</td>\n",
       "      <td>54.02</td>\n",
       "      <td>42.96</td>\n",
       "      <td>87.50</td>\n",
       "      <td>42</td>\n",
       "      <td>98</td>\n",
       "    </tr>\n",
       "    <tr>\n",
       "      <th>...</th>\n",
       "      <td>...</td>\n",
       "      <td>...</td>\n",
       "      <td>...</td>\n",
       "      <td>...</td>\n",
       "      <td>...</td>\n",
       "      <td>...</td>\n",
       "      <td>...</td>\n",
       "      <td>...</td>\n",
       "      <td>...</td>\n",
       "      <td>...</td>\n",
       "      <td>...</td>\n",
       "      <td>...</td>\n",
       "      <td>...</td>\n",
       "    </tr>\n",
       "    <tr>\n",
       "      <th>59</th>\n",
       "      <td>48420.957589</td>\n",
       "      <td>88877.703542</td>\n",
       "      <td>43.18</td>\n",
       "      <td>49818</td>\n",
       "      <td>102.282585</td>\n",
       "      <td>487.062389</td>\n",
       "      <td>28.63</td>\n",
       "      <td>226.0</td>\n",
       "      <td>52.88</td>\n",
       "      <td>38.31</td>\n",
       "      <td>47.81</td>\n",
       "      <td>0</td>\n",
       "      <td>14</td>\n",
       "    </tr>\n",
       "    <tr>\n",
       "      <th>60</th>\n",
       "      <td>285593.562183</td>\n",
       "      <td>282441.722003</td>\n",
       "      <td>46.69</td>\n",
       "      <td>31118</td>\n",
       "      <td>49.292741</td>\n",
       "      <td>631.289709</td>\n",
       "      <td>41.22</td>\n",
       "      <td>230.0</td>\n",
       "      <td>37.32</td>\n",
       "      <td>40.43</td>\n",
       "      <td>78.54</td>\n",
       "      <td>0</td>\n",
       "      <td>14</td>\n",
       "    </tr>\n",
       "    <tr>\n",
       "      <th>61</th>\n",
       "      <td>94659.010102</td>\n",
       "      <td>86492.873256</td>\n",
       "      <td>59.12</td>\n",
       "      <td>29447</td>\n",
       "      <td>14.887064</td>\n",
       "      <td>1978.026014</td>\n",
       "      <td>35.79</td>\n",
       "      <td>119.0</td>\n",
       "      <td>92.82</td>\n",
       "      <td>51.56</td>\n",
       "      <td>37.75</td>\n",
       "      <td>42</td>\n",
       "      <td>98</td>\n",
       "    </tr>\n",
       "    <tr>\n",
       "      <th>62</th>\n",
       "      <td>93468.328564</td>\n",
       "      <td>86240.873174</td>\n",
       "      <td>44.40</td>\n",
       "      <td>20240</td>\n",
       "      <td>25.761322</td>\n",
       "      <td>785.673967</td>\n",
       "      <td>28.99</td>\n",
       "      <td>224.0</td>\n",
       "      <td>54.68</td>\n",
       "      <td>35.61</td>\n",
       "      <td>37.50</td>\n",
       "      <td>0</td>\n",
       "      <td>14</td>\n",
       "    </tr>\n",
       "    <tr>\n",
       "      <th>63</th>\n",
       "      <td>95903.723468</td>\n",
       "      <td>87278.919474</td>\n",
       "      <td>46.78</td>\n",
       "      <td>5686</td>\n",
       "      <td>13.828754</td>\n",
       "      <td>411.172266</td>\n",
       "      <td>44.98</td>\n",
       "      <td>217.0</td>\n",
       "      <td>94.54</td>\n",
       "      <td>31.76</td>\n",
       "      <td>54.76</td>\n",
       "      <td>14</td>\n",
       "      <td>36</td>\n",
       "    </tr>\n",
       "  </tbody>\n",
       "</table>\n",
       "<p>64 rows × 13 columns</p>\n",
       "</div>"
      ],
      "text/plain": [
       "    householdIncome            gdp  malePercent  population        area  \\\n",
       "0     260566.666744  286979.427459        40.57      288543   62.731670   \n",
       "1     112985.514879  105407.619973        45.23      282387  110.947079   \n",
       "2     211831.883484  239822.521163        59.92      274189  128.026816   \n",
       "3     101543.107579   83182.845841        40.90      273639   67.406368   \n",
       "4      76593.794371  103644.558103        56.38      260953   90.412583   \n",
       "..              ...            ...          ...         ...         ...   \n",
       "59     48420.957589   88877.703542        43.18       49818  102.282585   \n",
       "60    285593.562183  282441.722003        46.69       31118   49.292741   \n",
       "61     94659.010102   86492.873256        59.12       29447   14.887064   \n",
       "62     93468.328564   86240.873174        44.40       20240   25.761322   \n",
       "63     95903.723468   87278.919474        46.78        5686   13.828754   \n",
       "\n",
       "    populationDensity    age  firstCaseDays  hospitalCapacity  \\\n",
       "0         4599.638441  31.50          157.0             72.58   \n",
       "1         2545.240508  35.06          131.0             44.65   \n",
       "2         2141.652883  38.10          103.0             25.24   \n",
       "3         4059.542269  33.72          150.0             56.13   \n",
       "4         2886.246485  41.13          157.0             54.02   \n",
       "..                ...    ...            ...               ...   \n",
       "59         487.062389  28.63          226.0             52.88   \n",
       "60         631.289709  41.22          230.0             37.32   \n",
       "61        1978.026014  35.79          119.0             92.82   \n",
       "62         785.673967  28.99          224.0             54.68   \n",
       "63         411.172266  44.98          217.0             94.54   \n",
       "\n",
       "    workingPopulationPercent  partyAffiliationPercent  daysECQ  daysGCQ  \n",
       "0                      48.68                    83.28       42      112  \n",
       "1                      54.63                    54.49       28      112  \n",
       "2                      59.53                    64.68       42       98  \n",
       "3                      46.11                    94.41       28      112  \n",
       "4                      42.96                    87.50       42       98  \n",
       "..                       ...                      ...      ...      ...  \n",
       "59                     38.31                    47.81        0       14  \n",
       "60                     40.43                    78.54        0       14  \n",
       "61                     51.56                    37.75       42       98  \n",
       "62                     35.61                    37.50        0       14  \n",
       "63                     31.76                    54.76       14       36  \n",
       "\n",
       "[64 rows x 13 columns]"
      ]
     },
     "execution_count": 3,
     "metadata": {},
     "output_type": "execute_result"
    }
   ],
   "source": [
    "predictors"
   ]
  },
  {
   "cell_type": "markdown",
   "id": "cc164bf0",
   "metadata": {
    "deletable": false,
    "editable": false,
    "nbgrader": {
     "cell_type": "markdown",
     "checksum": "04f09c486fa0b5c42ccf819cffd3e8a9",
     "grade": false,
     "grade_id": "cell-3d36f381f2f0f8bd",
     "locked": true,
     "schema_version": 3,
     "solution": false,
     "task": false
    }
   },
   "source": [
    "### Task 1 Instantiation [1 pt]"
   ]
  },
  {
   "cell_type": "markdown",
   "id": "f2c40c00",
   "metadata": {
    "deletable": false,
    "editable": false,
    "nbgrader": {
     "cell_type": "markdown",
     "checksum": "43fed6705f841d87478251aa7c36f6ab",
     "grade": false,
     "grade_id": "cell-ab9349aed18928ae",
     "locked": true,
     "schema_version": 3,
     "solution": false,
     "task": false
    }
   },
   "source": [
    "Instantiate a `Lasso` regressor model with parameters `alpha` as 10, and `random_state` as `1337`. Leave all other parameters in their default setting. Place this `Lasso` regressor in the `model` variable."
   ]
  },
  {
   "cell_type": "code",
   "execution_count": 4,
   "id": "68c60f6f",
   "metadata": {
    "ExecuteTime": {
     "end_time": "2021-08-12T07:00:39.925790Z",
     "start_time": "2021-08-12T07:00:39.889513Z"
    },
    "deletable": false,
    "nbgrader": {
     "cell_type": "code",
     "checksum": "06e24623ea70df5177ce0c82f78f0245",
     "grade": false,
     "grade_id": "cell-20c691028dc5e1a6",
     "locked": false,
     "schema_version": 3,
     "solution": true,
     "task": false
    }
   },
   "outputs": [],
   "source": [
    "from sklearn.linear_model import Lasso\n",
    "\n",
    "model = Lasso(alpha=10, random_state=1337)"
   ]
  },
  {
   "cell_type": "code",
   "execution_count": 5,
   "id": "d46e9d3d",
   "metadata": {
    "ExecuteTime": {
     "end_time": "2021-08-12T07:00:39.931290Z",
     "start_time": "2021-08-12T07:00:39.927635Z"
    },
    "deletable": false,
    "editable": false,
    "nbgrader": {
     "cell_type": "code",
     "checksum": "de7cbf3f738188f2a1d41af6e35839f1",
     "grade": true,
     "grade_id": "cell-940c2064f37e44b4",
     "locked": true,
     "points": 1,
     "schema_version": 3,
     "solution": false,
     "task": false
    }
   },
   "outputs": [],
   "source": [
    "assert model is not None, \"Place the Lasso regressor model on this variable\""
   ]
  },
  {
   "cell_type": "markdown",
   "id": "46ca00d1",
   "metadata": {
    "deletable": false,
    "editable": false,
    "nbgrader": {
     "cell_type": "markdown",
     "checksum": "80d16cd69de1a6a292d5bb2da71d5d3f",
     "grade": false,
     "grade_id": "cell-c25108627fd20c78",
     "locked": true,
     "schema_version": 3,
     "solution": false,
     "task": false
    }
   },
   "source": [
    "### Task 2 Model Fitting [1 pt]"
   ]
  },
  {
   "cell_type": "markdown",
   "id": "5890b54f",
   "metadata": {
    "deletable": false,
    "editable": false,
    "nbgrader": {
     "cell_type": "markdown",
     "checksum": "23c77e1ed022c243e1a9685019df5708",
     "grade": false,
     "grade_id": "cell-0566f6507d682c68",
     "locked": true,
     "schema_version": 3,
     "solution": false,
     "task": false
    }
   },
   "source": [
    "Train the `model` to predict the number of reported incidents using the standard scaled descriptive features of the dataset. No need to split the data into train and test dataset.\n",
    "\n",
    "Compute for the $R^2$ predictions of the model for each of the instances in the dataset, place the value of this in the variable `r2_value`."
   ]
  },
  {
   "cell_type": "code",
   "execution_count": 6,
   "id": "1611e4c5",
   "metadata": {
    "ExecuteTime": {
     "end_time": "2021-08-12T07:00:39.956412Z",
     "start_time": "2021-08-12T07:00:39.933659Z"
    },
    "deletable": false,
    "nbgrader": {
     "cell_type": "code",
     "checksum": "bcd4bfdf0cf9d1714d211480785ec7aa",
     "grade": false,
     "grade_id": "cell-3571a825ac3fbf9d",
     "locked": false,
     "schema_version": 3,
     "solution": true,
     "task": false
    }
   },
   "outputs": [
    {
     "data": {
      "text/plain": [
       "0.9259071160928378"
      ]
     },
     "execution_count": 6,
     "metadata": {},
     "output_type": "execute_result"
    }
   ],
   "source": [
    "model.fit(scaled_predictors, regression_target)\n",
    "r2_value = model.score(scaled_predictors, regression_target)\n",
    "\n",
    "r2_value"
   ]
  },
  {
   "cell_type": "code",
   "execution_count": 7,
   "id": "17761a99",
   "metadata": {
    "ExecuteTime": {
     "end_time": "2021-08-12T07:00:39.961275Z",
     "start_time": "2021-08-12T07:00:39.958510Z"
    },
    "deletable": false,
    "editable": false,
    "nbgrader": {
     "cell_type": "code",
     "checksum": "2ed21cebc6051adf1c57932d8cfddaee",
     "grade": true,
     "grade_id": "cell-3e51edd45a6d4c59",
     "locked": true,
     "points": 1,
     "schema_version": 3,
     "solution": false,
     "task": false
    }
   },
   "outputs": [],
   "source": [
    "assert r2_value is not None, \"Place the r2 score on this variable\""
   ]
  },
  {
   "cell_type": "markdown",
   "id": "59dd330d",
   "metadata": {
    "deletable": false,
    "editable": false,
    "nbgrader": {
     "cell_type": "markdown",
     "checksum": "0d493b18beb62125e0770a5430fe01d4",
     "grade": false,
     "grade_id": "cell-6dcfc14843f6b579",
     "locked": true,
     "schema_version": 3,
     "solution": false,
     "task": false
    }
   },
   "source": [
    "### Task 3 Interpretation"
   ]
  },
  {
   "cell_type": "markdown",
   "id": "98425d9e",
   "metadata": {
    "deletable": false,
    "editable": false,
    "nbgrader": {
     "cell_type": "markdown",
     "checksum": "bd19a34bfd483eaffe93f4c9929a9a69",
     "grade": false,
     "grade_id": "cell-05e03ebb1c880701",
     "locked": true,
     "schema_version": 3,
     "solution": false,
     "task": false
    }
   },
   "source": [
    "Our model is now trained and is ready for interpretation."
   ]
  },
  {
   "cell_type": "markdown",
   "id": "e4e776cd",
   "metadata": {
    "deletable": false,
    "editable": false,
    "nbgrader": {
     "cell_type": "markdown",
     "checksum": "12a3ea6416ca1ae6d583713bf9f93327",
     "grade": false,
     "grade_id": "cell-e3fe82e2b5a258ba",
     "locked": true,
     "schema_version": 3,
     "solution": false,
     "task": false
    }
   },
   "source": [
    "#### Task 3a Model Coefficients [2 pt]"
   ]
  },
  {
   "cell_type": "markdown",
   "id": "71bf9acb",
   "metadata": {
    "deletable": false,
    "editable": false,
    "nbgrader": {
     "cell_type": "markdown",
     "checksum": "86bb4023e7418b71506962a93c238137",
     "grade": false,
     "grade_id": "cell-fe56f91bdd2519b4",
     "locked": true,
     "schema_version": 3,
     "solution": false,
     "task": false
    }
   },
   "source": [
    "Get the coefficients of the trained `Lasso` regressor, then saved it in the `model_coefficients` variable. Don't take its absolute value yet!"
   ]
  },
  {
   "cell_type": "code",
   "execution_count": 8,
   "id": "d133b76e",
   "metadata": {
    "ExecuteTime": {
     "end_time": "2021-08-12T07:00:39.968365Z",
     "start_time": "2021-08-12T07:00:39.964123Z"
    },
    "deletable": false,
    "nbgrader": {
     "cell_type": "code",
     "checksum": "9da2a4b5b5f4085b5d1fb89d6f0446a0",
     "grade": false,
     "grade_id": "cell-34c2c25e74df9246",
     "locked": false,
     "schema_version": 3,
     "solution": true,
     "task": false
    }
   },
   "outputs": [
    {
     "data": {
      "text/plain": [
       "array([ 0.        ,  0.        ,  6.88343502,  0.        , -0.        ,\n",
       "        1.36844487, -0.        , -5.79412273,  0.        , 11.09298867,\n",
       "       -0.        , 39.16421494, 66.95681669])"
      ]
     },
     "execution_count": 8,
     "metadata": {},
     "output_type": "execute_result"
    }
   ],
   "source": [
    "model_coefficients = model.coef_\n",
    "model_coefficients"
   ]
  },
  {
   "cell_type": "code",
   "execution_count": 9,
   "id": "551baf8a",
   "metadata": {
    "ExecuteTime": {
     "end_time": "2021-08-12T07:00:39.972806Z",
     "start_time": "2021-08-12T07:00:39.970261Z"
    },
    "deletable": false,
    "editable": false,
    "nbgrader": {
     "cell_type": "code",
     "checksum": "a6a95d12435f8cf318e776711ea1bc47",
     "grade": true,
     "grade_id": "cell-609adc8d3571c212",
     "locked": true,
     "points": 1,
     "schema_version": 3,
     "solution": false,
     "task": false
    }
   },
   "outputs": [],
   "source": [
    "assert model_coefficients is not None, \"Place the coefficients here\""
   ]
  },
  {
   "cell_type": "markdown",
   "id": "560c37f1",
   "metadata": {
    "deletable": false,
    "editable": false,
    "nbgrader": {
     "cell_type": "markdown",
     "checksum": "7003ccb531064d4aae36543c2049854e",
     "grade": false,
     "grade_id": "cell-8208f732a8643875",
     "locked": true,
     "points": 1,
     "schema_version": 3,
     "solution": false,
     "task": true
    }
   },
   "source": [
    "Plot the `model_coefficients` as a horizontal bar plot with the y-axis as the `feature_name`."
   ]
  },
  {
   "cell_type": "code",
   "execution_count": 10,
   "id": "3da0d246",
   "metadata": {
    "ExecuteTime": {
     "end_time": "2021-08-12T07:00:40.373444Z",
     "start_time": "2021-08-12T07:00:39.974795Z"
    },
    "deletable": false,
    "nbgrader": {
     "cell_type": "code",
     "checksum": "34dcb64ed6824a23ed1b6c50e1c6a051",
     "grade": false,
     "grade_id": "cell-a8949c7127f16d2b",
     "locked": false,
     "schema_version": 3,
     "solution": true,
     "task": false
    }
   },
   "outputs": [
    {
     "data": {
      "image/png": "[encoded data removed]",
      "text/plain": [
       "<Figure size 720x432 with 1 Axes>"
      ]
     },
     "metadata": {
      "needs_background": "light"
     },
     "output_type": "display_data"
    }
   ],
   "source": [
    "import matplotlib.pyplot as plt\n",
    "\n",
    "plt.figure(figsize=(10, 6))\n",
    "plt.title('Lasso Regression Coefficients')\n",
    "plt.barh(range(predictors.shape[1]), model_coefficients, align='center')\n",
    "plt.yticks(np.arange(predictors.shape[1]), predictors.columns)\n",
    "plt.xlabel(\"Feature importance\")\n",
    "plt.ylabel(\"Actual value\")\n",
    "plt.ylim(-1,predictors.shape[1])\n",
    "plt.show()"
   ]
  },
  {
   "cell_type": "markdown",
   "id": "bb6ebe57",
   "metadata": {
    "deletable": false,
    "editable": false,
    "nbgrader": {
     "cell_type": "markdown",
     "checksum": "6a4f7f0714e4ca1b4c816dfadb4bb428",
     "grade": false,
     "grade_id": "cell-3ecf92c411c23664",
     "locked": true,
     "schema_version": 3,
     "solution": false,
     "task": false
    }
   },
   "source": [
    "#### Task 3b Most impactful features [2 pts]"
   ]
  },
  {
   "cell_type": "markdown",
   "id": "a2cd9a0a",
   "metadata": {
    "deletable": false,
    "editable": false,
    "nbgrader": {
     "cell_type": "markdown",
     "checksum": "e951500be20d8c08c4af28147cee460c",
     "grade": false,
     "grade_id": "cell-f5028e6970cd9d0e",
     "locked": true,
     "schema_version": 3,
     "solution": false,
     "task": false
    }
   },
   "source": [
    "Now, take the absolute value of the model coefficients, save this array onto the `model_coefficients_abs` variable."
   ]
  },
  {
   "cell_type": "code",
   "execution_count": 11,
   "id": "1b1ea1ce",
   "metadata": {
    "ExecuteTime": {
     "end_time": "2021-08-12T07:00:40.379265Z",
     "start_time": "2021-08-12T07:00:40.374988Z"
    },
    "deletable": false,
    "nbgrader": {
     "cell_type": "code",
     "checksum": "844f8df4839f52d18d1d07f566d8a0ce",
     "grade": false,
     "grade_id": "cell-278f567e14fce41a",
     "locked": false,
     "schema_version": 3,
     "solution": true,
     "task": false
    }
   },
   "outputs": [
    {
     "data": {
      "text/plain": [
       "array([ 0.        ,  0.        ,  6.88343502,  0.        ,  0.        ,\n",
       "        1.36844487,  0.        ,  5.79412273,  0.        , 11.09298867,\n",
       "        0.        , 39.16421494, 66.95681669])"
      ]
     },
     "execution_count": 11,
     "metadata": {},
     "output_type": "execute_result"
    }
   ],
   "source": [
    "model_coefficients_abs = np.abs(model_coefficients)\n",
    "model_coefficients_abs"
   ]
  },
  {
   "cell_type": "code",
   "execution_count": 12,
   "id": "e033ed14",
   "metadata": {
    "ExecuteTime": {
     "end_time": "2021-08-12T07:00:40.383820Z",
     "start_time": "2021-08-12T07:00:40.380823Z"
    },
    "deletable": false,
    "editable": false,
    "nbgrader": {
     "cell_type": "code",
     "checksum": "e0138c20f875dbedffdadb0608e8abae",
     "grade": true,
     "grade_id": "cell-8ac1193c871a8597",
     "locked": true,
     "points": 1,
     "schema_version": 3,
     "solution": false,
     "task": false
    }
   },
   "outputs": [],
   "source": [
    "assert model_coefficients_abs is not None, \"Place the abs coefficients here\""
   ]
  },
  {
   "cell_type": "markdown",
   "id": "f1405399",
   "metadata": {
    "deletable": false,
    "editable": false,
    "nbgrader": {
     "cell_type": "markdown",
     "checksum": "0be750be4f13993abb799be9402d6275",
     "grade": false,
     "grade_id": "cell-a6077e3fc2bfbf82",
     "locked": true,
     "points": 1,
     "schema_version": 3,
     "solution": false,
     "task": true
    }
   },
   "source": [
    "Generate a horizontal bar plot showing the feature names as the y-axis and the absolute value of the coefficients as the x-axis.\n",
    "\n",
    "*Next level play: Sort the y-axis of the plot according to increasing absolute coefficient value (highest value should be on the top of the plot, lowest value should lie on the bottom).*"
   ]
  },
  {
   "cell_type": "code",
   "execution_count": 13,
   "id": "caf7b590",
   "metadata": {
    "ExecuteTime": {
     "end_time": "2021-08-12T07:00:40.632772Z",
     "start_time": "2021-08-12T07:00:40.386826Z"
    },
    "deletable": false,
    "nbgrader": {
     "cell_type": "code",
     "checksum": "df649290f7f214d11e5e6a1c4bac6652",
     "grade": false,
     "grade_id": "cell-dd5e0b19bb02d2b3",
     "locked": false,
     "schema_version": 3,
     "solution": true,
     "task": false
    }
   },
   "outputs": [
    {
     "data": {
      "image/png": "[encoded data removed]",
      "text/plain": [
       "<Figure size 720x432 with 1 Axes>"
      ]
     },
     "metadata": {
      "needs_background": "light"
     },
     "output_type": "display_data"
    }
   ],
   "source": [
    "coef_data = pd.DataFrame({'Predictors' : predictors.columns, \n",
    "                          'Coefficients' : model_coefficients_abs})\n",
    "coef_data = coef_data.sort_values(by='Coefficients', ascending=True)\n",
    "\n",
    "plt.figure(figsize=(10, 6))\n",
    "plt.title('Lasso Regression Coefficients')\n",
    "plt.barh(coef_data['Predictors'], coef_data['Coefficients'])\n",
    "plt.yticks(np.arange(coef_data.shape[0]), coef_data['Predictors'])\n",
    "plt.xlabel(\"Feature importance\")\n",
    "plt.ylabel(\"Actual value\")\n",
    "plt.ylim(-1,coef_data.shape[0])\n",
    "plt.show()"
   ]
  },
  {
   "cell_type": "markdown",
   "id": "5ee0b613",
   "metadata": {
    "deletable": false,
    "editable": false,
    "nbgrader": {
     "cell_type": "markdown",
     "checksum": "2dc7c32a3c2978eb03b06cec05402896",
     "grade": false,
     "grade_id": "cell-8835d7d537a298b7",
     "locked": true,
     "schema_version": 3,
     "solution": false,
     "task": false
    }
   },
   "source": [
    "#### Task 3c Insights [2 pts]"
   ]
  },
  {
   "cell_type": "markdown",
   "id": "d3093db4",
   "metadata": {
    "deletable": false,
    "editable": false,
    "nbgrader": {
     "cell_type": "markdown",
     "checksum": "14244c3802617a55c41a6f3e9408f85b",
     "grade": false,
     "grade_id": "cell-346334a5b97936f4",
     "locked": true,
     "schema_version": 3,
     "solution": false,
     "task": false
    }
   },
   "source": [
    "Give three insights that you can observe from the results."
   ]
  },
  {
   "cell_type": "markdown",
   "id": "d27ef35c",
   "metadata": {
    "deletable": false,
    "nbgrader": {
     "cell_type": "markdown",
     "checksum": "3d22e0d0497c2395ad76655e290f7f1b",
     "grade": true,
     "grade_id": "cell-06f87ae44c15d66d",
     "locked": false,
     "points": 2,
     "schema_version": 3,
     "solution": true,
     "task": false
    }
   },
   "source": [
    "- I noticed that the length of the GCQ or the ECQ are the top predictors for the number of COVID-19 cases in the population.\n",
    "- I also noticed that the amount of working population in a municipality positively influences the number of COVID-19 cases in that area.\n",
    "- Lastly, the number of males in a municipality tend to positively influence the number of COVID-19 cases in a municipality."
   ]
  },
  {
   "cell_type": "markdown",
   "id": "1687198c",
   "metadata": {
    "deletable": false,
    "editable": false,
    "nbgrader": {
     "cell_type": "markdown",
     "checksum": "5706a0ebece46d67e5f0952a92263298",
     "grade": false,
     "grade_id": "cell-4499962a3ab9c4f2",
     "locked": true,
     "schema_version": 3,
     "solution": false,
     "task": false
    }
   },
   "source": [
    "## Problem 2 Logistic and Support Vector Machines"
   ]
  },
  {
   "cell_type": "markdown",
   "id": "84005f98",
   "metadata": {
    "deletable": false,
    "editable": false,
    "nbgrader": {
     "cell_type": "markdown",
     "checksum": "7130abd71e348f8ea6671795e4bb429d",
     "grade": false,
     "grade_id": "cell-55f482d0b15d0ffd",
     "locked": true,
     "schema_version": 3,
     "solution": false,
     "task": false
    }
   },
   "source": [
    "In this problem, we will use the same *scaled* descriptive features from the previous problem and train a `Logistic` and `Linear SVM` using `L2` regularization to predict whether a certain municipality has high or low reported cases count."
   ]
  },
  {
   "cell_type": "code",
   "execution_count": 14,
   "id": "0a6e87ee",
   "metadata": {
    "ExecuteTime": {
     "end_time": "2021-08-12T07:00:40.638986Z",
     "start_time": "2021-08-12T07:00:40.635075Z"
    },
    "deletable": false,
    "editable": false,
    "nbgrader": {
     "cell_type": "code",
     "checksum": "0951713d13af401bf538c255265971e7",
     "grade": false,
     "grade_id": "cell-25d27dfa95afeadb",
     "locked": true,
     "schema_version": 3,
     "solution": false,
     "task": false
    }
   },
   "outputs": [],
   "source": [
    "# Import models to be used\n",
    "from sklearn.base import clone\n",
    "from sklearn.svm import LinearSVC\n",
    "from sklearn.linear_model import LogisticRegression\n",
    "\n",
    "# Import model selection method\n",
    "from sklearn.model_selection import KFold"
   ]
  },
  {
   "cell_type": "markdown",
   "id": "180fa6a2",
   "metadata": {
    "deletable": false,
    "editable": false,
    "nbgrader": {
     "cell_type": "markdown",
     "checksum": "c1010a63c4ba507768cab38c4ef46be9",
     "grade": false,
     "grade_id": "cell-3b13474ae9a19e97",
     "locked": true,
     "schema_version": 3,
     "solution": false,
     "task": false
    }
   },
   "source": [
    "### Task 1 Model Experimentation [8 pts]"
   ]
  },
  {
   "cell_type": "markdown",
   "id": "0e323266",
   "metadata": {
    "deletable": false,
    "editable": false,
    "nbgrader": {
     "cell_type": "markdown",
     "checksum": "f9f8d87fd1a5b16ca6e2ad41f50e9f9b",
     "grade": false,
     "grade_id": "cell-8c899b1421a6393a",
     "locked": true,
     "schema_version": 3,
     "solution": false,
     "task": false
    }
   },
   "source": [
    "Perform training and testing of a `Logistic (L2)`, and `Linear SVC (L2)` model using an `8`-fold cross validation. Use the scaled descriptive features (stored as `scaled_predictors`) as your input features and the `reportedIncidentsHighLow` (stored as `classification_target`) as your target features.\n",
    "\n",
    "**Experimentation Settings:**\n",
    "1. Set the `shuffle` setting of your `KFold` cross-validator to be `False`.\n",
    "2. Iterate the `C` hyperparameter for along the given `C_range`\n",
    "3. Use random state `1337` for all of your models.\n",
    "4. For each hyperparameter setting of your models, get the **average value** of the train and test accuracy across all splits then save them on their respective initialized lists below."
   ]
  },
  {
   "cell_type": "code",
   "execution_count": 15,
   "id": "6d6c48e5",
   "metadata": {
    "ExecuteTime": {
     "end_time": "2021-08-12T07:00:40.645009Z",
     "start_time": "2021-08-12T07:00:40.640704Z"
    },
    "deletable": false,
    "editable": false,
    "nbgrader": {
     "cell_type": "code",
     "checksum": "bf54473381c69ba0b97307764d6aef33",
     "grade": false,
     "grade_id": "cell-627cbf85aa1c21b2",
     "locked": true,
     "schema_version": 3,
     "solution": false,
     "task": false
    }
   },
   "outputs": [],
   "source": [
    "# Hyperparameter range\n",
    "C_range = np.logspace(-8, 8, 20)\n",
    "\n",
    "# Initialize simulation results\n",
    "logistic_train_accuracy = []\n",
    "logistic_test_accuracy = []\n",
    "svc_train_accuracy = []\n",
    "svc_test_accuracy = []"
   ]
  },
  {
   "cell_type": "code",
   "execution_count": 16,
   "id": "36656491",
   "metadata": {
    "ExecuteTime": {
     "end_time": "2021-08-12T07:00:41.582730Z",
     "start_time": "2021-08-12T07:00:40.646958Z"
    },
    "deletable": false,
    "nbgrader": {
     "cell_type": "code",
     "checksum": "884484a9ec476bfdeb270a10140cd61b",
     "grade": false,
     "grade_id": "cell-b0bba393dce30f84",
     "locked": false,
     "schema_version": 3,
     "solution": true,
     "task": false
    }
   },
   "outputs": [],
   "source": [
    "# Logistic Regression (L2) - 8 fold cross validation\n",
    "x = scaled_predictors\n",
    "y = classification_target.to_numpy().reshape(-1)\n",
    "\n",
    "kf = KFold(n_splits=8, shuffle=False)\n",
    "\n",
    "for C in C_range:\n",
    "    \n",
    "    acc_train_lrl2 = []\n",
    "    acc_test_lrl2 = []\n",
    "    for train_index, test_index in kf.split(x):\n",
    "\n",
    "        x_train, x_test = x[train_index], x[test_index]\n",
    "        y_train, y_test = y[train_index], y[test_index]\n",
    "        \n",
    "        model = LogisticRegression(C=C,\n",
    "                                    random_state=1337).fit(x_train, y_train)\n",
    "        \n",
    "        train_acc = model.score(x_train, y_train)\n",
    "        test_acc = model.score(x_test, y_test)\n",
    "\n",
    "        acc_train_lrl2.append(train_acc)\n",
    "        acc_test_lrl2.append(test_acc)\n",
    "    \n",
    "    logistic_train_accuracy.append(np.mean(acc_train_lrl2))\n",
    "    logistic_test_accuracy.append(np.mean(acc_test_lrl2))\n",
    "    \n",
    "\n",
    "# Linear Support Vector Classifier (L2) - 8 fold CV\n",
    "\n",
    "x = scaled_predictors\n",
    "y = classification_target.to_numpy().reshape(-1)\n",
    "\n",
    "kf = KFold(n_splits=8, shuffle=False)\n",
    "\n",
    "for C in C_range:\n",
    "    \n",
    "    acc_train_svcl2 = []\n",
    "    acc_test_svcl2 = []\n",
    "    for train_index, test_index in kf.split(x):\n",
    "\n",
    "        x_train, x_test = x[train_index], x[test_index]\n",
    "        y_train, y_test = y[train_index], y[test_index]\n",
    "        \n",
    "        model = LinearSVC(penalty='l2', C=C, \n",
    "                          random_state=1337).fit(x_train, y_train)\n",
    "        \n",
    "        train_acc = model.score(x_train, y_train)\n",
    "        test_acc = model.score(x_test, y_test)\n",
    "\n",
    "        acc_train_svcl2.append(train_acc)\n",
    "        acc_test_svcl2.append(test_acc)\n",
    "    \n",
    "    svc_train_accuracy.append(np.mean(acc_train_svcl2))\n",
    "    svc_test_accuracy.append(np.mean(acc_test_svcl2))"
   ]
  },
  {
   "cell_type": "code",
   "execution_count": 17,
   "id": "1f5e8eb6",
   "metadata": {
    "ExecuteTime": {
     "end_time": "2021-08-12T07:00:41.590244Z",
     "start_time": "2021-08-12T07:00:41.585895Z"
    },
    "deletable": false,
    "editable": false,
    "nbgrader": {
     "cell_type": "code",
     "checksum": "13e133533722424f0ee0e4ab2b319a3f",
     "grade": true,
     "grade_id": "cell-756e58ffb340fd10",
     "locked": true,
     "points": 8,
     "schema_version": 3,
     "solution": false,
     "task": false
    }
   },
   "outputs": [],
   "source": [
    "assert len(logistic_train_accuracy) == 20\n",
    "assert len(logistic_test_accuracy) == 20\n",
    "assert len(svc_train_accuracy) == 20\n",
    "assert len(svc_test_accuracy) == 20"
   ]
  },
  {
   "cell_type": "markdown",
   "id": "8d976abe",
   "metadata": {
    "deletable": false,
    "editable": false,
    "nbgrader": {
     "cell_type": "markdown",
     "checksum": "796b8623c7377acd5d3755d67ffcd572",
     "grade": false,
     "grade_id": "cell-47c1a89d425cd92a",
     "locked": true,
     "schema_version": 3,
     "solution": false,
     "task": false
    }
   },
   "source": [
    "### Task 2 Evaluation of Results"
   ]
  },
  {
   "cell_type": "markdown",
   "id": "e33d2ec9",
   "metadata": {
    "deletable": false,
    "editable": false,
    "nbgrader": {
     "cell_type": "markdown",
     "checksum": "7f95f7c7a88f1ca176d329e8492761cf",
     "grade": false,
     "grade_id": "cell-abade22f2ea173af",
     "locked": true,
     "points": 2,
     "schema_version": 3,
     "solution": false,
     "task": true
    }
   },
   "source": [
    "#### Task 2a [2 pts]\n",
    "Plot the train and test accuracy versus the hyperparameter setting `C` for each model in their own separate subplots. Show the legend and set the log scale for the `x-axis`. [2 pts]\n",
    "\n",
    "*Hint: To set the x-scale of the plot to logarithm, first, get the current axes of the plot `ax = plt.gca()`, then invoke the matplotlib axes method `ax.set_xscale('log')`.*"
   ]
  },
  {
   "cell_type": "code",
   "execution_count": 18,
   "id": "ab585e8b",
   "metadata": {
    "ExecuteTime": {
     "end_time": "2021-08-12T07:00:42.439110Z",
     "start_time": "2021-08-12T07:00:41.591963Z"
    },
    "deletable": false,
    "nbgrader": {
     "cell_type": "code",
     "checksum": "edbfd36318c56ca9e3388cf40a95d151",
     "grade": false,
     "grade_id": "cell-40946d15a45efc20",
     "locked": false,
     "schema_version": 3,
     "solution": true,
     "task": false
    }
   },
   "outputs": [
    {
     "data": {
      "image/png": "[encoded data removed]",
      "text/plain": [
       "<Figure size 864x360 with 1 Axes>"
      ]
     },
     "metadata": {
      "needs_background": "light"
     },
     "output_type": "display_data"
    },
    {
     "data": {
      "image/png": "[encoded data removed]",
      "text/plain": [
       "<Figure size 864x360 with 1 Axes>"
      ]
     },
     "metadata": {
      "needs_background": "light"
     },
     "output_type": "display_data"
    }
   ],
   "source": [
    "fig, ax = plt.subplots(1, 1, figsize=(12, 5))\n",
    "ax = plt.gca()\n",
    "ax.set_xscale('log')\n",
    "ax.plot(C_range, logistic_train_accuracy, label=\"training accuracy\", \n",
    "        color='forestgreen', marker='o', linestyle='dashed', \n",
    "        markersize=10)\n",
    "ax.plot(C_range, logistic_test_accuracy, label=\"test accuracy\", \n",
    "        color='lightcoral', marker='^', linestyle='-', markersize=10)\n",
    "ax.legend()\n",
    "ax.set_title('Logistic Regression (L2 Regularized) Training and Testing Accuracy', fontsize=16)\n",
    "ax.set_xlabel('C', fontsize=12)\n",
    "ax.set_ylabel('accuracy', fontsize=12)\n",
    "\n",
    "fig, ax = plt.subplots(1, 1, figsize=(12, 5))\n",
    "ax = plt.gca()\n",
    "ax.set_xscale('log')\n",
    "ax.plot(C_range, svc_train_accuracy, label=\"training accuracy\", \n",
    "        color='forestgreen', marker='o', linestyle='dashed', \n",
    "        markersize=10)\n",
    "ax.plot(C_range, svc_test_accuracy, label=\"test accuracy\", \n",
    "        color='lightcoral', marker='^', linestyle='-', markersize=10)\n",
    "ax.legend()\n",
    "ax.set_title('Linear SVM (L2 Regularized) Training and Testing Accuracy', fontsize=16)\n",
    "ax.set_xlabel('C', fontsize=12)\n",
    "ax.set_ylabel('accuracy', fontsize=12);"
   ]
  },
  {
   "cell_type": "markdown",
   "id": "ec9a53a8",
   "metadata": {
    "deletable": false,
    "editable": false,
    "nbgrader": {
     "cell_type": "markdown",
     "checksum": "8a9994513af455a4027f875ebf86ccf8",
     "grade": false,
     "grade_id": "cell-4c22b1b1aa55d025",
     "locked": true,
     "schema_version": 3,
     "solution": false,
     "task": false
    }
   },
   "source": [
    "#### Task 2b Model Selection [2 pts]\n",
    "Which model will you use? Why?"
   ]
  },
  {
   "cell_type": "markdown",
   "id": "6b6aa9c9",
   "metadata": {
    "deletable": false,
    "nbgrader": {
     "cell_type": "markdown",
     "checksum": "8bfab48d6f46928dc973561aea504df1",
     "grade": true,
     "grade_id": "cell-16c72e365563041f",
     "locked": false,
     "points": 2,
     "schema_version": 3,
     "solution": true,
     "task": false
    }
   },
   "source": [
    "I would prefer choosing the Linear Support Vector Machine with a very low value for the hyperparameter `C`, as this generated a testing accuracy equal to 1 (relative to the Logistic Regression model that only had the highest testing accuracy at 0.9843. Having a low value for the hyperparameter `C` would imply that the Linear SVM model would create a higher degree of regularization in my machine learning model. This is not the case for the Logistic Regression (L2 regularized) model, as the highest test accuracy occurred at higher values of `C`. In the L2 regularized model, a higher value of `C` would imply less regularization for the regression coefficients."
   ]
  },
  {
   "cell_type": "markdown",
   "id": "9cf43062",
   "metadata": {
    "deletable": false,
    "editable": false,
    "nbgrader": {
     "cell_type": "markdown",
     "checksum": "c8e50d016ec317ad43f4e59dbf66696f",
     "grade": false,
     "grade_id": "cell-8e5ee4c2aec466d3",
     "locked": true,
     "schema_version": 3,
     "solution": false,
     "task": false
    }
   },
   "source": [
    "## BONUS [1 pt]\n",
    "What modifications and/or procedures on the dataset or experimentation procedure will you do to improve the performance and evaluation of the model?"
   ]
  },
  {
   "cell_type": "markdown",
   "id": "dbe39370",
   "metadata": {
    "deletable": false,
    "nbgrader": {
     "cell_type": "markdown",
     "checksum": "0f6104b51e286fd18cd502f3c65b7ae2",
     "grade": true,
     "grade_id": "cell-ae40981a18824f6e",
     "locked": false,
     "points": 1,
     "schema_version": 3,
     "solution": true,
     "task": false
    }
   },
   "source": [
    "I would use StratifiedKFold() cross-validation instead in order to improve the model performance evaluation, as I have noticed that the classification model does not have a 50-50 split."
   ]
  }
 ],
 "metadata": {
  "kernelspec": {
   "display_name": "Python 3",
   "language": "python",
   "name": "python3"
  },
  "language_info": {
   "codemirror_mode": {
    "name": "ipython",
    "version": 3
   },
   "file_extension": ".py",
   "mimetype": "text/x-python",
   "name": "python",
   "nbconvert_exporter": "python",
   "pygments_lexer": "ipython3",
   "version": "3.8.10"
  }
 },
 "nbformat": 4,
 "nbformat_minor": 5
}
