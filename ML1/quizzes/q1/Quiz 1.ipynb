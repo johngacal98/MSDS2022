{
 "cells": [
  {
   "cell_type": "code",
   "execution_count": 2,
   "id": "fc94dac4",
   "metadata": {
    "ExecuteTime": {
     "end_time": "2021-08-02T06:21:21.343108Z",
     "start_time": "2021-08-02T06:21:21.035803Z"
    },
    "deletable": false,
    "editable": false,
    "nbgrader": {
     "cell_type": "code",
     "checksum": "d3590d9a5d9cbb4b857f51da55c63ac7",
     "grade": false,
     "grade_id": "cell-090ff8c630931db0",
     "locked": true,
     "schema_version": 3,
     "solution": false,
     "task": false
    }
   },
   "outputs": [],
   "source": [
    "from numpy.testing import assert_almost_equal"
   ]
  },
  {
   "cell_type": "markdown",
   "id": "5e1a5631",
   "metadata": {
    "deletable": false,
    "editable": false,
    "nbgrader": {
     "cell_type": "markdown",
     "checksum": "fdbcfb053f239f9ff009afa781d5d95a",
     "grade": false,
     "grade_id": "cell-03f193960c8ff272",
     "locked": true,
     "schema_version": 3,
     "solution": false,
     "task": false
    }
   },
   "source": [
    "# Quiz 1: Machine Learning and the k-Nearest Neighbor Algorithm [15 pts]"
   ]
  },
  {
   "cell_type": "markdown",
   "id": "997ba746",
   "metadata": {
    "deletable": false,
    "editable": false,
    "nbgrader": {
     "cell_type": "markdown",
     "checksum": "01abf90c63c0d511be97c5cc8602098b",
     "grade": false,
     "grade_id": "cell-f864aba687af633f",
     "locked": true,
     "schema_version": 3,
     "solution": false,
     "task": false
    }
   },
   "source": [
    "## Problem 1 [1 pt]\n",
    "\n",
    "In your own words, define machine learning. [1 pt]"
   ]
  },
  {
   "cell_type": "markdown",
   "id": "cf2ebcd5",
   "metadata": {
    "deletable": false,
    "nbgrader": {
     "cell_type": "markdown",
     "checksum": "d3f5f6f7eb6ba35d42a014cbbda15ad6",
     "grade": true,
     "grade_id": "cell-4a4aaddb79fcd853",
     "locked": false,
     "points": 1,
     "schema_version": 3,
     "solution": true,
     "task": false
    }
   },
   "source": [
    "Machine Learning is a type of AI that is used for predicting variables by learning information\n",
    "from data. "
   ]
  },
  {
   "cell_type": "markdown",
   "id": "7f0b09d7",
   "metadata": {
    "deletable": false,
    "editable": false,
    "nbgrader": {
     "cell_type": "markdown",
     "checksum": "71e82e731f4e1e08167886fcdb1036ee",
     "grade": false,
     "grade_id": "cell-541fd5dbc929347e",
     "locked": true,
     "schema_version": 3,
     "solution": false,
     "task": false
    }
   },
   "source": [
    "## Problem 2 [2 pts]\n",
    "\n",
    "What does overfitting mean? [1 pt]"
   ]
  },
  {
   "cell_type": "markdown",
   "id": "19f8baff",
   "metadata": {
    "deletable": false,
    "nbgrader": {
     "cell_type": "markdown",
     "checksum": "4a89dd396cd7d236d0ed74a8bd9e47ec",
     "grade": true,
     "grade_id": "cell-42c974d7145e667b",
     "locked": false,
     "points": 1,
     "schema_version": 3,
     "solution": true,
     "task": false
    }
   },
   "source": [
    "Overfitting means that your model is memorizing the actual data that is used to train it. If new data points are introduced it will most likely not have a high accuracy since it is not generalized."
   ]
  },
  {
   "cell_type": "markdown",
   "id": "b1173f22",
   "metadata": {
    "deletable": false,
    "editable": false,
    "nbgrader": {
     "cell_type": "markdown",
     "checksum": "1d9d7b88574230f4a48776ec890c666f",
     "grade": false,
     "grade_id": "cell-3d7a01c2e9e466a4",
     "locked": true,
     "schema_version": 3,
     "solution": false,
     "task": false
    }
   },
   "source": [
    "How can you reduce overfitting in kNN models? [1 pt]"
   ]
  },
  {
   "cell_type": "markdown",
   "id": "e14fd977",
   "metadata": {
    "deletable": false,
    "nbgrader": {
     "cell_type": "markdown",
     "checksum": "0dd5210e7b1972bf2c42ce682581a39a",
     "grade": true,
     "grade_id": "cell-0059a525d1768740",
     "locked": false,
     "points": 1,
     "schema_version": 3,
     "solution": true,
     "task": false
    }
   },
   "source": [
    "Overfitting can be reduced by adjusting the n_neighbor hyperparameter until you get the optimal value. if it is too high it will result in an underfit. "
   ]
  },
  {
   "cell_type": "markdown",
   "id": "b3c42eec",
   "metadata": {
    "deletable": false,
    "editable": false,
    "nbgrader": {
     "cell_type": "markdown",
     "checksum": "666aa424c747743ec825c08ea5d1040f",
     "grade": false,
     "grade_id": "cell-3e18386b21d7512d",
     "locked": true,
     "schema_version": 3,
     "solution": false,
     "task": false
    }
   },
   "source": [
    "## Problem 3 [2 pts]\n",
    "\n",
    "You are predicting wether a creditor will: pay on time (happens 60% of the time); pay late (30%); or default (10%).\n",
    "\n",
    "What is the *Proportion Chance Criterion (PCC)* of a random classifier? (Write your solution and answer in Markdown/LaTeX format) [2 pts]"
   ]
  },
  {
   "cell_type": "markdown",
   "id": "7f7cba0f",
   "metadata": {
    "ExecuteTime": {
     "end_time": "2021-07-28T12:25:54.224420Z",
     "start_time": "2021-07-28T12:25:54.204102Z"
    },
    "deletable": false,
    "nbgrader": {
     "cell_type": "markdown",
     "checksum": "83f645ae50a6eb4610123074590cef6a",
     "grade": true,
     "grade_id": "cell-87e871e14a4d2bcc",
     "locked": false,
     "points": 2,
     "schema_version": 3,
     "solution": true,
     "task": false
    }
   },
   "source": [
    "YOUR ANSWER HERE\n",
    "\n",
    "\\begin{equation}\n",
    "\\mathbf{P}_{CC}= (0.6)^2 + (0.3)^2 + (0.1)^2  = 0.46\n",
    "\\end{equation}\n",
    "\n"
   ]
  },
  {
   "cell_type": "markdown",
   "id": "47a93da6",
   "metadata": {
    "deletable": false,
    "editable": false,
    "nbgrader": {
     "cell_type": "markdown",
     "checksum": "2cac16c51c30cb3462f008cc8f37c3d9",
     "grade": false,
     "grade_id": "cell-f2119869302de268",
     "locked": true,
     "schema_version": 3,
     "solution": false,
     "task": false
    }
   },
   "source": [
    "## Problem 4 [10 pts]\n",
    "\n",
    "You are given a dataset `starbucks_data.csv` that is composed of seven quantities that aims to forecast one's propensity to buy a Starbucks coffee daily.\n",
    "\n",
    "The attributes of the dataset are as follows:\n",
    "\n",
    "1. `allowanceDaily` - Daily allowance in PhP\n",
    "2. `sex` - `0` for male, `1` for female\n",
    "3. `proximity` - distance of closest encounter in daily routine to Starbucks\n",
    "4. `iq` - IQ level based on standardized online test at IQtest.com\n",
    "5. `school` - `1` for UP Diliman, `2` for Miriam College, `3` for ADMU, `4` for others\n",
    "6. `age` - actual age in years\n",
    "7. `dayOfTheWeek` - day of the week, Monday is `1`, Tuesday is `2`, ..., Sunday is `7`\n",
    "8. `chanceDaily` - chance to buy a Starbucks product per day\n",
    "\n",
    "*Source: anonymized data*"
   ]
  },
  {
   "cell_type": "markdown",
   "id": "ee6ccd15",
   "metadata": {
    "deletable": false,
    "editable": false,
    "nbgrader": {
     "cell_type": "markdown",
     "checksum": "2e49c15e39c7c2fd426ee09a12c75b80",
     "grade": false,
     "grade_id": "cell-f7d2764103d2ef94",
     "locked": true,
     "points": 4,
     "schema_version": 3,
     "solution": false,
     "task": true
    }
   },
   "source": [
    "### Task 1 [4 pts]\n",
    "\n",
    "Implement a kNN model that predicts the chance of a person to buy a Starbucks product daily using the other given features. Use $R^2$ as performance metric on the test set over `10` trials using an `80-20` train-test split."
   ]
  },
  {
   "cell_type": "code",
   "execution_count": 11,
   "id": "37480d39",
   "metadata": {
    "ExecuteTime": {
     "end_time": "2021-08-02T06:26:21.603571Z",
     "start_time": "2021-08-02T06:26:21.582251Z"
    }
   },
   "outputs": [],
   "source": [
    "import warnings\n",
    "warnings.simplefilter(action='ignore', category=FutureWarning)\n",
    "\n",
    "from sklearn.neighbors import KNeighborsRegressor\n",
    "import mglearn #library provided by amueller\n",
    "import numpy as np\n",
    "%matplotlib inline\n",
    "import matplotlib.pyplot as plt\n",
    "import pandas as pd\n",
    "from sklearn.model_selection import train_test_split"
   ]
  },
  {
   "cell_type": "code",
   "execution_count": 6,
   "id": "83c13758",
   "metadata": {
    "ExecuteTime": {
     "end_time": "2021-08-02T06:23:04.168822Z",
     "start_time": "2021-08-02T06:23:04.143143Z"
    }
   },
   "outputs": [
    {
     "data": {
      "text/plain": [
       "(79, 8)"
      ]
     },
     "metadata": {},
     "output_type": "display_data"
    },
    {
     "data": {
      "text/html": [
       "<div>\n",
       "<style scoped>\n",
       "    .dataframe tbody tr th:only-of-type {\n",
       "        vertical-align: middle;\n",
       "    }\n",
       "\n",
       "    .dataframe tbody tr th {\n",
       "        vertical-align: top;\n",
       "    }\n",
       "\n",
       "    .dataframe thead th {\n",
       "        text-align: right;\n",
       "    }\n",
       "</style>\n",
       "<table border=\"1\" class=\"dataframe\">\n",
       "  <thead>\n",
       "    <tr style=\"text-align: right;\">\n",
       "      <th></th>\n",
       "      <th>allowanceDaily</th>\n",
       "      <th>sex</th>\n",
       "      <th>proximity</th>\n",
       "      <th>iq</th>\n",
       "      <th>school</th>\n",
       "      <th>age</th>\n",
       "      <th>dayOfTheWeek</th>\n",
       "      <th>chanceDaily</th>\n",
       "    </tr>\n",
       "  </thead>\n",
       "  <tbody>\n",
       "    <tr>\n",
       "      <th>0</th>\n",
       "      <td>157</td>\n",
       "      <td>1</td>\n",
       "      <td>54</td>\n",
       "      <td>135</td>\n",
       "      <td>3</td>\n",
       "      <td>17</td>\n",
       "      <td>1</td>\n",
       "      <td>25</td>\n",
       "    </tr>\n",
       "    <tr>\n",
       "      <th>1</th>\n",
       "      <td>94</td>\n",
       "      <td>1</td>\n",
       "      <td>196</td>\n",
       "      <td>143</td>\n",
       "      <td>2</td>\n",
       "      <td>23</td>\n",
       "      <td>2</td>\n",
       "      <td>18</td>\n",
       "    </tr>\n",
       "    <tr>\n",
       "      <th>2</th>\n",
       "      <td>363</td>\n",
       "      <td>1</td>\n",
       "      <td>11</td>\n",
       "      <td>106</td>\n",
       "      <td>4</td>\n",
       "      <td>19</td>\n",
       "      <td>6</td>\n",
       "      <td>21</td>\n",
       "    </tr>\n",
       "    <tr>\n",
       "      <th>3</th>\n",
       "      <td>273</td>\n",
       "      <td>1</td>\n",
       "      <td>72</td>\n",
       "      <td>131</td>\n",
       "      <td>1</td>\n",
       "      <td>16</td>\n",
       "      <td>1</td>\n",
       "      <td>19</td>\n",
       "    </tr>\n",
       "    <tr>\n",
       "      <th>4</th>\n",
       "      <td>152</td>\n",
       "      <td>1</td>\n",
       "      <td>7</td>\n",
       "      <td>131</td>\n",
       "      <td>3</td>\n",
       "      <td>18</td>\n",
       "      <td>4</td>\n",
       "      <td>17</td>\n",
       "    </tr>\n",
       "    <tr>\n",
       "      <th>...</th>\n",
       "      <td>...</td>\n",
       "      <td>...</td>\n",
       "      <td>...</td>\n",
       "      <td>...</td>\n",
       "      <td>...</td>\n",
       "      <td>...</td>\n",
       "      <td>...</td>\n",
       "      <td>...</td>\n",
       "    </tr>\n",
       "    <tr>\n",
       "      <th>74</th>\n",
       "      <td>959</td>\n",
       "      <td>0</td>\n",
       "      <td>179</td>\n",
       "      <td>140</td>\n",
       "      <td>2</td>\n",
       "      <td>17</td>\n",
       "      <td>5</td>\n",
       "      <td>93</td>\n",
       "    </tr>\n",
       "    <tr>\n",
       "      <th>75</th>\n",
       "      <td>889</td>\n",
       "      <td>1</td>\n",
       "      <td>29</td>\n",
       "      <td>123</td>\n",
       "      <td>3</td>\n",
       "      <td>17</td>\n",
       "      <td>1</td>\n",
       "      <td>94</td>\n",
       "    </tr>\n",
       "    <tr>\n",
       "      <th>76</th>\n",
       "      <td>826</td>\n",
       "      <td>1</td>\n",
       "      <td>154</td>\n",
       "      <td>116</td>\n",
       "      <td>3</td>\n",
       "      <td>21</td>\n",
       "      <td>3</td>\n",
       "      <td>96</td>\n",
       "    </tr>\n",
       "    <tr>\n",
       "      <th>77</th>\n",
       "      <td>1004</td>\n",
       "      <td>1</td>\n",
       "      <td>166</td>\n",
       "      <td>151</td>\n",
       "      <td>3</td>\n",
       "      <td>20</td>\n",
       "      <td>1</td>\n",
       "      <td>94</td>\n",
       "    </tr>\n",
       "    <tr>\n",
       "      <th>78</th>\n",
       "      <td>865</td>\n",
       "      <td>1</td>\n",
       "      <td>95</td>\n",
       "      <td>134</td>\n",
       "      <td>2</td>\n",
       "      <td>23</td>\n",
       "      <td>2</td>\n",
       "      <td>105</td>\n",
       "    </tr>\n",
       "  </tbody>\n",
       "</table>\n",
       "<p>79 rows × 8 columns</p>\n",
       "</div>"
      ],
      "text/plain": [
       "    allowanceDaily  sex  proximity   iq  school  age  dayOfTheWeek  \\\n",
       "0              157    1         54  135       3   17             1   \n",
       "1               94    1        196  143       2   23             2   \n",
       "2              363    1         11  106       4   19             6   \n",
       "3              273    1         72  131       1   16             1   \n",
       "4              152    1          7  131       3   18             4   \n",
       "..             ...  ...        ...  ...     ...  ...           ...   \n",
       "74             959    0        179  140       2   17             5   \n",
       "75             889    1         29  123       3   17             1   \n",
       "76             826    1        154  116       3   21             3   \n",
       "77            1004    1        166  151       3   20             1   \n",
       "78             865    1         95  134       2   23             2   \n",
       "\n",
       "    chanceDaily  \n",
       "0            25  \n",
       "1            18  \n",
       "2            21  \n",
       "3            19  \n",
       "4            17  \n",
       "..          ...  \n",
       "74           93  \n",
       "75           94  \n",
       "76           96  \n",
       "77           94  \n",
       "78          105  \n",
       "\n",
       "[79 rows x 8 columns]"
      ]
     },
     "execution_count": 6,
     "metadata": {},
     "output_type": "execute_result"
    }
   ],
   "source": [
    "data = pd.read_csv('starbucks_data.csv')\n",
    "display(data.shape)\n",
    "data\n"
   ]
  },
  {
   "cell_type": "code",
   "execution_count": 7,
   "id": "e7ebdee6",
   "metadata": {
    "ExecuteTime": {
     "end_time": "2021-08-02T06:24:11.641520Z",
     "start_time": "2021-08-02T06:24:11.623455Z"
    }
   },
   "outputs": [
    {
     "data": {
      "text/html": [
       "<div>\n",
       "<style scoped>\n",
       "    .dataframe tbody tr th:only-of-type {\n",
       "        vertical-align: middle;\n",
       "    }\n",
       "\n",
       "    .dataframe tbody tr th {\n",
       "        vertical-align: top;\n",
       "    }\n",
       "\n",
       "    .dataframe thead th {\n",
       "        text-align: right;\n",
       "    }\n",
       "</style>\n",
       "<table border=\"1\" class=\"dataframe\">\n",
       "  <thead>\n",
       "    <tr style=\"text-align: right;\">\n",
       "      <th></th>\n",
       "      <th>allowanceDaily</th>\n",
       "      <th>sex</th>\n",
       "      <th>proximity</th>\n",
       "      <th>iq</th>\n",
       "      <th>school</th>\n",
       "      <th>age</th>\n",
       "      <th>dayOfTheWeek</th>\n",
       "    </tr>\n",
       "  </thead>\n",
       "  <tbody>\n",
       "    <tr>\n",
       "      <th>0</th>\n",
       "      <td>157</td>\n",
       "      <td>1</td>\n",
       "      <td>54</td>\n",
       "      <td>135</td>\n",
       "      <td>3</td>\n",
       "      <td>17</td>\n",
       "      <td>1</td>\n",
       "    </tr>\n",
       "    <tr>\n",
       "      <th>1</th>\n",
       "      <td>94</td>\n",
       "      <td>1</td>\n",
       "      <td>196</td>\n",
       "      <td>143</td>\n",
       "      <td>2</td>\n",
       "      <td>23</td>\n",
       "      <td>2</td>\n",
       "    </tr>\n",
       "    <tr>\n",
       "      <th>2</th>\n",
       "      <td>363</td>\n",
       "      <td>1</td>\n",
       "      <td>11</td>\n",
       "      <td>106</td>\n",
       "      <td>4</td>\n",
       "      <td>19</td>\n",
       "      <td>6</td>\n",
       "    </tr>\n",
       "    <tr>\n",
       "      <th>3</th>\n",
       "      <td>273</td>\n",
       "      <td>1</td>\n",
       "      <td>72</td>\n",
       "      <td>131</td>\n",
       "      <td>1</td>\n",
       "      <td>16</td>\n",
       "      <td>1</td>\n",
       "    </tr>\n",
       "    <tr>\n",
       "      <th>4</th>\n",
       "      <td>152</td>\n",
       "      <td>1</td>\n",
       "      <td>7</td>\n",
       "      <td>131</td>\n",
       "      <td>3</td>\n",
       "      <td>18</td>\n",
       "      <td>4</td>\n",
       "    </tr>\n",
       "    <tr>\n",
       "      <th>...</th>\n",
       "      <td>...</td>\n",
       "      <td>...</td>\n",
       "      <td>...</td>\n",
       "      <td>...</td>\n",
       "      <td>...</td>\n",
       "      <td>...</td>\n",
       "      <td>...</td>\n",
       "    </tr>\n",
       "    <tr>\n",
       "      <th>74</th>\n",
       "      <td>959</td>\n",
       "      <td>0</td>\n",
       "      <td>179</td>\n",
       "      <td>140</td>\n",
       "      <td>2</td>\n",
       "      <td>17</td>\n",
       "      <td>5</td>\n",
       "    </tr>\n",
       "    <tr>\n",
       "      <th>75</th>\n",
       "      <td>889</td>\n",
       "      <td>1</td>\n",
       "      <td>29</td>\n",
       "      <td>123</td>\n",
       "      <td>3</td>\n",
       "      <td>17</td>\n",
       "      <td>1</td>\n",
       "    </tr>\n",
       "    <tr>\n",
       "      <th>76</th>\n",
       "      <td>826</td>\n",
       "      <td>1</td>\n",
       "      <td>154</td>\n",
       "      <td>116</td>\n",
       "      <td>3</td>\n",
       "      <td>21</td>\n",
       "      <td>3</td>\n",
       "    </tr>\n",
       "    <tr>\n",
       "      <th>77</th>\n",
       "      <td>1004</td>\n",
       "      <td>1</td>\n",
       "      <td>166</td>\n",
       "      <td>151</td>\n",
       "      <td>3</td>\n",
       "      <td>20</td>\n",
       "      <td>1</td>\n",
       "    </tr>\n",
       "    <tr>\n",
       "      <th>78</th>\n",
       "      <td>865</td>\n",
       "      <td>1</td>\n",
       "      <td>95</td>\n",
       "      <td>134</td>\n",
       "      <td>2</td>\n",
       "      <td>23</td>\n",
       "      <td>2</td>\n",
       "    </tr>\n",
       "  </tbody>\n",
       "</table>\n",
       "<p>79 rows × 7 columns</p>\n",
       "</div>"
      ],
      "text/plain": [
       "    allowanceDaily  sex  proximity   iq  school  age  dayOfTheWeek\n",
       "0              157    1         54  135       3   17             1\n",
       "1               94    1        196  143       2   23             2\n",
       "2              363    1         11  106       4   19             6\n",
       "3              273    1         72  131       1   16             1\n",
       "4              152    1          7  131       3   18             4\n",
       "..             ...  ...        ...  ...     ...  ...           ...\n",
       "74             959    0        179  140       2   17             5\n",
       "75             889    1         29  123       3   17             1\n",
       "76             826    1        154  116       3   21             3\n",
       "77            1004    1        166  151       3   20             1\n",
       "78             865    1         95  134       2   23             2\n",
       "\n",
       "[79 rows x 7 columns]"
      ]
     },
     "execution_count": 7,
     "metadata": {},
     "output_type": "execute_result"
    }
   ],
   "source": [
    "df_features = data.drop('chanceDaily', axis=1)\n",
    "df_features"
   ]
  },
  {
   "cell_type": "code",
   "execution_count": 31,
   "id": "a15eb0f3",
   "metadata": {
    "ExecuteTime": {
     "end_time": "2021-08-02T06:35:37.705494Z",
     "start_time": "2021-08-02T06:35:34.115073Z"
    }
   },
   "outputs": [],
   "source": [
    "all_training = pd.DataFrame()\n",
    "all_test = pd.DataFrame()\n",
    "for seedN in range(1,11,1):\n",
    "    X_train, X_test, y_train, y_test = train_test_split(df_features, data['chanceDaily'], test_size=0.2, random_state=seedN)\n",
    "    training_accuracy = []  \n",
    "    test_accuracy = []\n",
    "    neighbors_settings = range(1, len(X_train)-1) \n",
    "\n",
    "    for n_neighbors in neighbors_settings:   \n",
    "        reg = KNeighborsRegressor(n_neighbors=n_neighbors) \n",
    "        reg.fit(X_train, y_train) \n",
    "        training_accuracy.append(reg.score(X_train, y_train)) \n",
    "        test_accuracy.append(reg.score(X_test, y_test)) \n",
    "    all_training[seedN]=training_accuracy\n",
    "    all_test[seedN] = test_accuracy"
   ]
  },
  {
   "cell_type": "code",
   "execution_count": 35,
   "id": "2f96554f",
   "metadata": {
    "ExecuteTime": {
     "end_time": "2021-08-02T06:37:27.120128Z",
     "start_time": "2021-08-02T06:37:27.112020Z"
    }
   },
   "outputs": [
    {
     "name": "stdout",
     "output_type": "stream",
     "text": [
      "optimal_k: 13\n",
      "test_score = 0.7158867532342665\n"
     ]
    }
   ],
   "source": [
    "optimal_k = all_test.mean(axis=1).idxmax()\n",
    "test_score = all_test.mean(axis=1)[optimal_k]\n",
    "\n",
    "print(f'optimal_k: {optimal_k+1}\\ntest_score = {test_score}')"
   ]
  },
  {
   "cell_type": "markdown",
   "id": "bdd29e72",
   "metadata": {
    "deletable": false,
    "editable": false,
    "nbgrader": {
     "cell_type": "markdown",
     "checksum": "d25a61f8c9431e5c24bf707539b68660",
     "grade": false,
     "grade_id": "cell-d67fb8e188012728",
     "locked": true,
     "points": 2,
     "schema_version": 3,
     "solution": false,
     "task": true
    }
   },
   "source": [
    "### Task 2 [2 pts]\n",
    "\n",
    "Plot the train and test $R^2$ versus `n_neighbors` (up to `N-1` where `N` is the number of rows in the training set)"
   ]
  },
  {
   "cell_type": "code",
   "execution_count": 34,
   "id": "bab14cca",
   "metadata": {
    "ExecuteTime": {
     "end_time": "2021-08-02T06:36:33.850591Z",
     "start_time": "2021-08-02T06:36:33.537188Z"
    }
   },
   "outputs": [
    {
     "data": {
      "text/plain": [
       "<matplotlib.legend.Legend at 0x7f04a55baf70>"
      ]
     },
     "execution_count": 34,
     "metadata": {},
     "output_type": "execute_result"
    },
    {
     "data": {
      "image/png": "[encoded data removed]",
      "text/plain": [
       "<Figure size 1080x432 with 1 Axes>"
      ]
     },
     "metadata": {
      "needs_background": "light"
     },
     "output_type": "display_data"
    }
   ],
   "source": [
    "fig = plt.figure(figsize=(15, 6))\n",
    "import pylab as plot\n",
    "params = {'legend.fontsize': 20, 'legend.handlelength': 2}\n",
    "plot.rcParams.update(params)\n",
    "\n",
    "plt.errorbar(neighbors_settings, all_training.mean(axis=1),\n",
    "             yerr=all_training.std(axis=1), label=\"training accuracy\", color='blue', marker='o', linestyle='dashed', markersize=18)\n",
    "plt.errorbar(neighbors_settings, all_test.mean(axis=1),\n",
    "             yerr=all_test.std(axis=1), label=\"test accuracy\", color='red', marker='^', linestyle='-', markersize=18)\n",
    "plt.ylabel(\"Accuracy\", fontsize=18)\n",
    "plt.xlabel(\"n_neighbors\",fontsize=18)\n",
    "plt.legend()"
   ]
  },
  {
   "cell_type": "code",
   "execution_count": null,
   "id": "5196e499",
   "metadata": {},
   "outputs": [],
   "source": []
  },
  {
   "cell_type": "markdown",
   "id": "14ce8494",
   "metadata": {
    "deletable": false,
    "editable": false,
    "nbgrader": {
     "cell_type": "markdown",
     "checksum": "9e57cea0997bd6a394eb258f381ce78b",
     "grade": false,
     "grade_id": "cell-0c03644dee28f840",
     "locked": true,
     "schema_version": 3,
     "solution": false,
     "task": false
    }
   },
   "source": [
    "### Task 3 [2 pts]\n",
    "\n",
    "Choose the best value of `n_neighbors` and justify"
   ]
  },
  {
   "cell_type": "markdown",
   "id": "31042d92",
   "metadata": {
    "deletable": false,
    "nbgrader": {
     "cell_type": "markdown",
     "checksum": "515b60a44c8f2f455d9d17168fbba510",
     "grade": true,
     "grade_id": "cell-7259d9c023e2bcdc",
     "locked": false,
     "points": 2,
     "schema_version": 3,
     "solution": true,
     "task": false
    }
   },
   "source": [
    "\n",
    "the best value of n_neighbors is k = 13. If you get the index of the highest mean test score from the trials, the value is k=13"
   ]
  },
  {
   "cell_type": "code",
   "execution_count": 36,
   "id": "5b570095",
   "metadata": {
    "ExecuteTime": {
     "end_time": "2021-08-02T06:38:52.355818Z",
     "start_time": "2021-08-02T06:38:52.348314Z"
    },
    "scrolled": true
   },
   "outputs": [
    {
     "name": "stdout",
     "output_type": "stream",
     "text": [
      "optimal_k: 13\n",
      "test_score = 0.7158867532342665\n"
     ]
    }
   ],
   "source": [
    "optimal_k = all_test.mean(axis=1).idxmax()\n",
    "test_score = all_test.mean(axis=1)[optimal_k]\n",
    "\n",
    "print(f'optimal_k: {optimal_k+1}\\ntest_score = {test_score}')"
   ]
  },
  {
   "cell_type": "markdown",
   "id": "12a806e4",
   "metadata": {
    "deletable": false,
    "editable": false,
    "nbgrader": {
     "cell_type": "markdown",
     "checksum": "e41e0e63ccc541955c7707b7aef2a3dc",
     "grade": false,
     "grade_id": "cell-4fd3f7a559923d3e",
     "locked": true,
     "points": 2,
     "schema_version": 3,
     "solution": false,
     "task": true
    }
   },
   "source": [
    "### Task 4 [2 pts]\n",
    "\n",
    "Plot the `predicted` versus `actual` for a sample test set for the chosen best `n_neighbors` setting"
   ]
  },
  {
   "cell_type": "code",
   "execution_count": 41,
   "id": "af9bf714",
   "metadata": {
    "ExecuteTime": {
     "end_time": "2021-08-02T06:42:10.428960Z",
     "start_time": "2021-08-02T06:42:10.245891Z"
    }
   },
   "outputs": [
    {
     "name": "stdout",
     "output_type": "stream",
     "text": [
      "0.7465812623850872\n"
     ]
    },
    {
     "data": {
      "image/png": "[encoded data removed]",
      "text/plain": [
       "<Figure size 432x288 with 1 Axes>"
      ]
     },
     "metadata": {
      "needs_background": "light"
     },
     "output_type": "display_data"
    }
   ],
   "source": [
    "from sklearn.metrics import r2_score\n",
    "\n",
    "reg = KNeighborsRegressor(n_neighbors=13)\n",
    "X_train, X_test, y_train, y_test = train_test_split(df_features, data['chanceDaily'], test_size=0.2, random_state=8)\n",
    "reg.fit(X_train, y_train)\n",
    "\n",
    "plt.plot( y_test, reg.predict(X_test), 'o')\n",
    "\n",
    "plt.xlabel(\"Actual\")\n",
    "plt.ylabel(\"Predicted\")\n",
    "\n",
    "print(r2_score(y_test, reg.predict(X_test)))"
   ]
  },
  {
   "cell_type": "markdown",
   "id": "70fd9b7d",
   "metadata": {
    "deletable": false,
    "editable": false,
    "nbgrader": {
     "cell_type": "markdown",
     "checksum": "ab7210ba0b8d20bc4ff4d09506722dbd",
     "grade": false,
     "grade_id": "cell-6007c324b5434512",
     "locked": true,
     "schema_version": 3,
     "solution": false,
     "task": false
    }
   },
   "source": [
    "### Bonus [1 pt]\n",
    "\n",
    "What procedures can you do (on the dataset or the model) to improve accuracy?"
   ]
  },
  {
   "cell_type": "markdown",
   "id": "c3aa7dd0",
   "metadata": {
    "deletable": false,
    "nbgrader": {
     "cell_type": "markdown",
     "checksum": "f906614ede39b5209940a29d7e95d7f9",
     "grade": true,
     "grade_id": "cell-4db4fa8290d8ef1b",
     "locked": false,
     "points": 1,
     "schema_version": 3,
     "solution": true,
     "task": false
    }
   },
   "source": [
    "\n",
    "\n",
    "\n",
    "Might want to one hot encode the school variable since it is categorical in nature and not ordinal.\n"
   ]
  }
 ],
 "metadata": {
  "kernelspec": {
   "display_name": "Python 3",
   "language": "python",
   "name": "python3"
  },
  "language_info": {
   "codemirror_mode": {
    "name": "ipython",
    "version": 3
   },
   "file_extension": ".py",
   "mimetype": "text/x-python",
   "name": "python",
   "nbconvert_exporter": "python",
   "pygments_lexer": "ipython3",
   "version": "3.8.8"
  },
  "toc": {
   "base_numbering": 1,
   "nav_menu": {},
   "number_sections": true,
   "sideBar": true,
   "skip_h1_title": false,
   "title_cell": "Table of Contents",
   "title_sidebar": "Contents",
   "toc_cell": false,
   "toc_position": {},
   "toc_section_display": true,
   "toc_window_display": false
  }
 },
 "nbformat": 4,
 "nbformat_minor": 5
}
