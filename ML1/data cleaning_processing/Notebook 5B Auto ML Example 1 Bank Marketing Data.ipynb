{
 "cells": [
  {
   "cell_type": "markdown",
   "metadata": {
    "id": "NvJGxBmf_z98"
   },
   "source": [
    "# Notebook 5B: Data Cleaning and Auto ML for Bank Marketing Data\n",
    "\n",
    "Conceptualized, organized and prepared by: Christopher Monterola\n",
    "\n"
   ]
  },
  {
   "cell_type": "markdown",
   "metadata": {
    "id": "X7o6yJoiodXR"
   },
   "source": [
    "#Example 1: Bank Marketing\n",
    "\n",
    "Bank Marketing Data Set \n",
    "\n",
    "Source: [Moro et al., 2014] S. Moro, P. Cortez and P. Rita. A Data-Driven Approach to Predict the Success of Bank Telemarketing. Decision Support Systems, Elsevier, 62:22-31, June 2014\n",
    "\n",
    "Data Set Information:\n",
    "\n",
    "The data is related with direct marketing campaigns of a Portuguese banking institution. The marketing campaigns were based on phone calls. Often, more than one contact to the same client was required, in order to access if the client will subscribe (yes/no) a term deposit (variable y).\n",
    "\n"
   ]
  },
  {
   "cell_type": "markdown",
   "metadata": {
    "id": "j62STwtwoscy"
   },
   "source": [
    "\n",
    "Attribute Information:\n",
    "\n",
    "Input variables:\n",
    "#### Bank client data:  \n",
    "1 - age (numeric)   \n",
    "2 - job : type of job (categorical: 'admin.','blue collar','entrepreneur','housemaid','management','retired','self-employed','services','student','technician','unemployed','unknown')   \n",
    "3 - marital : marital status (categorical: 'divorced','married','single','unknown'; note: 'divorced' means divorced or widowed)   \n",
    "4 - education (categorical: 'basic.4y','basic.6y','basic.9y','high.school','illiterate','professional.course','university.degree','unknown')   \n",
    "5 - default: has credit in default? (categorical: 'no','yes','unknown')   \n",
    "6 - housing: has housing loan? (categorical: 'no','yes','unknown')   \n",
    "7 - loan: has personal loan? (categorical: 'no','yes','unknown')   \n",
    "   \n",
    "#### Related with the last contact of the current campaign:\n",
    "8 - contact: contact communication type (categorical: 'cellular','telephone')    \n",
    "9 - month: last contact month of year (categorical: 'jan', 'feb', 'mar', ..., 'nov', 'dec')   \n",
    "10 - day_of_week: last contact day of the week (categorical: 'mon','tue','wed','thu','fri')   \n",
    "11 - duration: last contact duration, in seconds (numeric). Important note: this attribute highly affects the output target (e.g., if duration=0 then y='no'). Yet, the duration is not known before a call is performed. Also, after the end of the call y is obviously known. Thus, this input should only be included for benchmark purposes and should be discarded if the intention is to have a realistic predictive model.    \n",
    "\n",
    "#### Other attributes:   \n",
    "12 - campaign: number of contacts performed during this campaign and for this client (numeric, includes last contact)   \n",
    "13 - pdays: number of days that passed by after the client was last contacted from a previous campaign (numeric; 999 means client was not previously contacted)   \n",
    "14 - previous: number of contacts performed before this campaign and for this client (numeric)   \n",
    "15 - poutcome: outcome of the previous marketing campaign (categorical: 'failure','nonexistent','success')    \n",
    "\n",
    " Social and economic context attributes\n",
    "16 - emp.var.rate: employment variation rate - quarterly indicator (numeric)   \n",
    "17 - cons.price.idx: consumer price index - monthly indicator (numeric)    \n",
    "18 - cons.conf.idx: consumer confidence index - monthly indicator (numeric)    \n",
    "19 - euribor3m: euribor 3 month rate - daily indicator (numeric)   \n",
    "20 - nr.employed: number of employees - quarterly indicator (numeric)   \n",
    "\n",
    "#### Output variable (desired target):  \n",
    "21 - y - has the client subscribed a term deposit? (binary: 'yes','no')  \n",
    "\n",
    "\n",
    "Relevant Papers:  \n",
    "\n",
    "S. Moro, P. Cortez and P. Rita. A Data-Driven Approach to Predict the Success of Bank Telemarketing. Decision Support Systems, Elsevier, 62:22-31, June 2014\n"
   ]
  },
  {
   "cell_type": "markdown",
   "metadata": {
    "id": "d0Mfj0ie_z-D"
   },
   "source": [
    "## Exploratory Data Analysis "
   ]
  },
  {
   "cell_type": "code",
   "execution_count": 1,
   "metadata": {
    "execution": {
     "iopub.execute_input": "2021-08-16T05:57:56.901455Z",
     "iopub.status.busy": "2021-08-16T05:57:56.901455Z",
     "iopub.status.idle": "2021-08-16T05:57:59.471868Z",
     "shell.execute_reply": "2021-08-16T05:57:59.471868Z",
     "shell.execute_reply.started": "2021-08-16T05:57:56.901455Z"
    },
    "id": "9mZ7zKvg_z-D"
   },
   "outputs": [],
   "source": [
    "import pandas as pd\n",
    "import numpy as np\n",
    "import matplotlib.pyplot as plt\n",
    "\n",
    "import warnings\n",
    "from warnings import simplefilter\n",
    "from sklearn.exceptions import ConvergenceWarning\n",
    "\n",
    "warnings.filterwarnings(\"ignore\", category=FutureWarning)\n",
    "warnings.filterwarnings(\"ignore\", category=RuntimeWarning)\n",
    "warnings.filterwarnings(\"ignore\", category=ConvergenceWarning)\n",
    "#warnings.filterwarnings(\"ignore\", category=DataConversionWarning)\n",
    "\n",
    "#from warnings import simplefilter\n",
    "#from sklearn.exceptions import ConvergenceWarning\n",
    "#simplefilter(\"ignore\", category=ConvergenceWarning)"
   ]
  },
  {
   "cell_type": "code",
   "execution_count": 2,
   "metadata": {
    "colab": {
     "base_uri": "https://localhost:8080/"
    },
    "execution": {
     "iopub.execute_input": "2021-08-16T05:57:59.472833Z",
     "iopub.status.busy": "2021-08-16T05:57:59.472833Z",
     "iopub.status.idle": "2021-08-16T05:57:59.487792Z",
     "shell.execute_reply": "2021-08-16T05:57:59.486795Z",
     "shell.execute_reply.started": "2021-08-16T05:57:59.472833Z"
    },
    "executionInfo": {
     "elapsed": 9,
     "status": "ok",
     "timestamp": 1628358930913,
     "user": {
      "displayName": "Christopher Monterola",
      "photoUrl": "https://lh3.googleusercontent.com/a-/AOh14GiyxV9CUZD54GBpsQkscS6VRBjebHtFASKcOq-_Lw=s64",
      "userId": "07920169693232563668"
     },
     "user_tz": -480
    },
    "id": "FqxYoRqFpctZ",
    "outputId": "6d0510b8-f428-4a70-d30f-96d4e3e861a7"
   },
   "outputs": [],
   "source": [
    "# from google.colab import drive\n",
    "# drive.mount('/content/drive')"
   ]
  },
  {
   "cell_type": "code",
   "execution_count": 3,
   "metadata": {
    "execution": {
     "iopub.execute_input": "2021-08-16T05:57:59.489790Z",
     "iopub.status.busy": "2021-08-16T05:57:59.488791Z",
     "iopub.status.idle": "2021-08-16T05:57:59.503765Z",
     "shell.execute_reply": "2021-08-16T05:57:59.502754Z",
     "shell.execute_reply.started": "2021-08-16T05:57:59.489790Z"
    },
    "id": "1NwkJFMYqHKI"
   },
   "outputs": [],
   "source": [
    "# data_dir = '/content/drive/MyDrive/Teaching/ML1_MSDS2022/Notebook 5/'\n",
    "data_dir = ''"
   ]
  },
  {
   "cell_type": "code",
   "execution_count": 4,
   "metadata": {
    "colab": {
     "base_uri": "https://localhost:8080/",
     "height": 241
    },
    "execution": {
     "iopub.execute_input": "2021-08-16T05:57:59.504783Z",
     "iopub.status.busy": "2021-08-16T05:57:59.504783Z",
     "iopub.status.idle": "2021-08-16T05:58:01.225013Z",
     "shell.execute_reply": "2021-08-16T05:58:01.225013Z",
     "shell.execute_reply.started": "2021-08-16T05:57:59.504783Z"
    },
    "executionInfo": {
     "elapsed": 431,
     "status": "ok",
     "timestamp": 1628358931341,
     "user": {
      "displayName": "Christopher Monterola",
      "photoUrl": "https://lh3.googleusercontent.com/a-/AOh14GiyxV9CUZD54GBpsQkscS6VRBjebHtFASKcOq-_Lw=s64",
      "userId": "07920169693232563668"
     },
     "user_tz": -480
    },
    "id": "yzJ68ohBq65W",
    "outputId": "0f6b1a8e-5047-4382-e004-4671e967f85b"
   },
   "outputs": [
    {
     "data": {
      "text/html": [
       "<div>\n",
       "<style scoped>\n",
       "    .dataframe tbody tr th:only-of-type {\n",
       "        vertical-align: middle;\n",
       "    }\n",
       "\n",
       "    .dataframe tbody tr th {\n",
       "        vertical-align: top;\n",
       "    }\n",
       "\n",
       "    .dataframe thead th {\n",
       "        text-align: right;\n",
       "    }\n",
       "</style>\n",
       "<table border=\"1\" class=\"dataframe\">\n",
       "  <thead>\n",
       "    <tr style=\"text-align: right;\">\n",
       "      <th></th>\n",
       "      <th>age</th>\n",
       "      <th>job</th>\n",
       "      <th>marital</th>\n",
       "      <th>education</th>\n",
       "      <th>default</th>\n",
       "      <th>housing</th>\n",
       "      <th>loan</th>\n",
       "      <th>contact</th>\n",
       "      <th>month</th>\n",
       "      <th>day_of_week</th>\n",
       "      <th>...</th>\n",
       "      <th>campaign</th>\n",
       "      <th>pdays</th>\n",
       "      <th>previous</th>\n",
       "      <th>poutcome</th>\n",
       "      <th>emp.var.rate</th>\n",
       "      <th>cons.price.idx</th>\n",
       "      <th>cons.conf.idx</th>\n",
       "      <th>euribor3m</th>\n",
       "      <th>nr.employed</th>\n",
       "      <th>y</th>\n",
       "    </tr>\n",
       "  </thead>\n",
       "  <tbody>\n",
       "    <tr>\n",
       "      <th>0</th>\n",
       "      <td>59</td>\n",
       "      <td>self-employed</td>\n",
       "      <td>married</td>\n",
       "      <td>university.degree</td>\n",
       "      <td>no</td>\n",
       "      <td>yes</td>\n",
       "      <td>no</td>\n",
       "      <td>cellular</td>\n",
       "      <td>may</td>\n",
       "      <td>tue</td>\n",
       "      <td>...</td>\n",
       "      <td>1.0</td>\n",
       "      <td>999.0</td>\n",
       "      <td>1.0</td>\n",
       "      <td>failure</td>\n",
       "      <td>-1.8</td>\n",
       "      <td>92.893</td>\n",
       "      <td>-46.2</td>\n",
       "      <td>1.266</td>\n",
       "      <td>5099.1</td>\n",
       "      <td>no</td>\n",
       "    </tr>\n",
       "    <tr>\n",
       "      <th>1</th>\n",
       "      <td>31</td>\n",
       "      <td>services</td>\n",
       "      <td>single</td>\n",
       "      <td>high.school</td>\n",
       "      <td>no</td>\n",
       "      <td>no</td>\n",
       "      <td>yes</td>\n",
       "      <td>cellular</td>\n",
       "      <td>jul</td>\n",
       "      <td>thu</td>\n",
       "      <td>...</td>\n",
       "      <td>17.0</td>\n",
       "      <td>999.0</td>\n",
       "      <td>0.0</td>\n",
       "      <td>nonexistent</td>\n",
       "      <td>1.4</td>\n",
       "      <td>93.918</td>\n",
       "      <td>-42.7</td>\n",
       "      <td>4.968</td>\n",
       "      <td>5228.1</td>\n",
       "      <td>no</td>\n",
       "    </tr>\n",
       "    <tr>\n",
       "      <th>2</th>\n",
       "      <td>31</td>\n",
       "      <td>admin.</td>\n",
       "      <td>married</td>\n",
       "      <td>professional.course</td>\n",
       "      <td>no</td>\n",
       "      <td>no</td>\n",
       "      <td>yes</td>\n",
       "      <td>cellular</td>\n",
       "      <td>dec</td>\n",
       "      <td>mon</td>\n",
       "      <td>...</td>\n",
       "      <td>2.0</td>\n",
       "      <td>999.0</td>\n",
       "      <td>1.0</td>\n",
       "      <td>failure</td>\n",
       "      <td>-3.0</td>\n",
       "      <td>92.713</td>\n",
       "      <td>-33.0</td>\n",
       "      <td>0.709</td>\n",
       "      <td>5023.5</td>\n",
       "      <td>yes</td>\n",
       "    </tr>\n",
       "    <tr>\n",
       "      <th>3</th>\n",
       "      <td>34</td>\n",
       "      <td>admin.</td>\n",
       "      <td>married</td>\n",
       "      <td>high.school</td>\n",
       "      <td>no</td>\n",
       "      <td>yes</td>\n",
       "      <td>yes</td>\n",
       "      <td>telephone</td>\n",
       "      <td>may</td>\n",
       "      <td>fri</td>\n",
       "      <td>...</td>\n",
       "      <td>1.0</td>\n",
       "      <td>999.0</td>\n",
       "      <td>0.0</td>\n",
       "      <td>nonexistent</td>\n",
       "      <td>1.1</td>\n",
       "      <td>93.994</td>\n",
       "      <td>-36.4</td>\n",
       "      <td>4.855</td>\n",
       "      <td>5191.0</td>\n",
       "      <td>no</td>\n",
       "    </tr>\n",
       "    <tr>\n",
       "      <th>4</th>\n",
       "      <td>37</td>\n",
       "      <td>admin.</td>\n",
       "      <td>married</td>\n",
       "      <td>high.school</td>\n",
       "      <td>unknown</td>\n",
       "      <td>yes</td>\n",
       "      <td>no</td>\n",
       "      <td>cellular</td>\n",
       "      <td>jul</td>\n",
       "      <td>mon</td>\n",
       "      <td>...</td>\n",
       "      <td>3.0</td>\n",
       "      <td>999.0</td>\n",
       "      <td>0.0</td>\n",
       "      <td>nonexistent</td>\n",
       "      <td>1.4</td>\n",
       "      <td>93.918</td>\n",
       "      <td>-42.7</td>\n",
       "      <td>4.962</td>\n",
       "      <td>5228.1</td>\n",
       "      <td>no</td>\n",
       "    </tr>\n",
       "  </tbody>\n",
       "</table>\n",
       "<p>5 rows × 21 columns</p>\n",
       "</div>"
      ],
      "text/plain": [
       "   age            job  marital            education  default housing loan  \\\n",
       "0   59  self-employed  married    university.degree       no     yes   no   \n",
       "1   31       services   single          high.school       no      no  yes   \n",
       "2   31         admin.  married  professional.course       no      no  yes   \n",
       "3   34         admin.  married          high.school       no     yes  yes   \n",
       "4   37         admin.  married          high.school  unknown     yes   no   \n",
       "\n",
       "     contact month day_of_week  ...  campaign  pdays  previous     poutcome  \\\n",
       "0   cellular   may         tue  ...       1.0  999.0       1.0      failure   \n",
       "1   cellular   jul         thu  ...      17.0  999.0       0.0  nonexistent   \n",
       "2   cellular   dec         mon  ...       2.0  999.0       1.0      failure   \n",
       "3  telephone   may         fri  ...       1.0  999.0       0.0  nonexistent   \n",
       "4   cellular   jul         mon  ...       3.0  999.0       0.0  nonexistent   \n",
       "\n",
       "  emp.var.rate  cons.price.idx  cons.conf.idx  euribor3m  nr.employed    y  \n",
       "0         -1.8          92.893          -46.2      1.266       5099.1   no  \n",
       "1          1.4          93.918          -42.7      4.968       5228.1   no  \n",
       "2         -3.0          92.713          -33.0      0.709       5023.5  yes  \n",
       "3          1.1          93.994          -36.4      4.855       5191.0   no  \n",
       "4          1.4          93.918          -42.7      4.962       5228.1   no  \n",
       "\n",
       "[5 rows x 21 columns]"
      ]
     },
     "execution_count": 4,
     "metadata": {},
     "output_type": "execute_result"
    }
   ],
   "source": [
    "df_bank = pd.read_excel(data_dir+'bank_dirty_500.xlsx', sheet_name=\"Sheet1\")\n",
    "dummy = df_bank\n",
    "dummy.head()"
   ]
  },
  {
   "cell_type": "code",
   "execution_count": 5,
   "metadata": {
    "colab": {
     "base_uri": "https://localhost:8080/"
    },
    "execution": {
     "iopub.execute_input": "2021-08-16T05:58:01.225975Z",
     "iopub.status.busy": "2021-08-16T05:58:01.225975Z",
     "iopub.status.idle": "2021-08-16T05:58:01.241934Z",
     "shell.execute_reply": "2021-08-16T05:58:01.240977Z",
     "shell.execute_reply.started": "2021-08-16T05:58:01.225975Z"
    },
    "executionInfo": {
     "elapsed": 26,
     "status": "ok",
     "timestamp": 1628358931341,
     "user": {
      "displayName": "Christopher Monterola",
      "photoUrl": "https://lh3.googleusercontent.com/a-/AOh14GiyxV9CUZD54GBpsQkscS6VRBjebHtFASKcOq-_Lw=s64",
      "userId": "07920169693232563668"
     },
     "user_tz": -480
    },
    "id": "3JQsjQdv_z-E",
    "outputId": "b47d0a19-fd5d-4540-a9c2-1e80888b5660"
   },
   "outputs": [
    {
     "name": "stdout",
     "output_type": "stream",
     "text": [
      "(500, 21)\n"
     ]
    }
   ],
   "source": [
    "print(df_bank.shape)"
   ]
  },
  {
   "cell_type": "code",
   "execution_count": 6,
   "metadata": {
    "colab": {
     "base_uri": "https://localhost:8080/"
    },
    "execution": {
     "iopub.execute_input": "2021-08-16T05:58:01.242931Z",
     "iopub.status.busy": "2021-08-16T05:58:01.242931Z",
     "iopub.status.idle": "2021-08-16T05:58:01.256919Z",
     "shell.execute_reply": "2021-08-16T05:58:01.256919Z",
     "shell.execute_reply.started": "2021-08-16T05:58:01.242931Z"
    },
    "executionInfo": {
     "elapsed": 21,
     "status": "ok",
     "timestamp": 1628358931342,
     "user": {
      "displayName": "Christopher Monterola",
      "photoUrl": "https://lh3.googleusercontent.com/a-/AOh14GiyxV9CUZD54GBpsQkscS6VRBjebHtFASKcOq-_Lw=s64",
      "userId": "07920169693232563668"
     },
     "user_tz": -480
    },
    "id": "GwZpCrAJ_z-F",
    "outputId": "bfe35e66-c6a8-4d44-9e91-9d9ddd8785e9"
   },
   "outputs": [
    {
     "data": {
      "text/plain": [
       "Index(['age', 'job', 'marital', 'education', 'default', 'housing', 'loan',\n",
       "       'contact', 'month', 'day_of_week', 'duration', 'campaign', 'pdays',\n",
       "       'previous', 'poutcome', 'emp.var.rate', 'cons.price.idx',\n",
       "       'cons.conf.idx', 'euribor3m', 'nr.employed', 'y'],\n",
       "      dtype='object')"
      ]
     },
     "execution_count": 6,
     "metadata": {},
     "output_type": "execute_result"
    }
   ],
   "source": [
    "df_bank.columns"
   ]
  },
  {
   "cell_type": "code",
   "execution_count": 7,
   "metadata": {
    "colab": {
     "base_uri": "https://localhost:8080/",
     "height": 279
    },
    "execution": {
     "iopub.execute_input": "2021-08-16T05:58:01.257891Z",
     "iopub.status.busy": "2021-08-16T05:58:01.257891Z",
     "iopub.status.idle": "2021-08-16T05:58:01.617955Z",
     "shell.execute_reply": "2021-08-16T05:58:01.616930Z",
     "shell.execute_reply.started": "2021-08-16T05:58:01.257891Z"
    },
    "executionInfo": {
     "elapsed": 19,
     "status": "ok",
     "timestamp": 1628358931342,
     "user": {
      "displayName": "Christopher Monterola",
      "photoUrl": "https://lh3.googleusercontent.com/a-/AOh14GiyxV9CUZD54GBpsQkscS6VRBjebHtFASKcOq-_Lw=s64",
      "userId": "07920169693232563668"
     },
     "user_tz": -480
    },
    "id": "YNUNNf_b_z-F",
    "outputId": "afa85c42-cf95-473d-8147-6c208c92f123",
    "tags": []
   },
   "outputs": [
    {
     "data": {
      "image/png": "[encoded data removed]",
      "text/plain": [
       "<Figure size 432x288 with 1 Axes>"
      ]
     },
     "metadata": {
      "needs_background": "light"
     },
     "output_type": "display_data"
    }
   ],
   "source": [
    "import seaborn as sns\n",
    "sns.countplot(df_bank['y'],label=\"Count\")\n",
    "plt.show()"
   ]
  },
  {
   "cell_type": "code",
   "execution_count": 8,
   "metadata": {
    "colab": {
     "base_uri": "https://localhost:8080/"
    },
    "execution": {
     "iopub.execute_input": "2021-08-16T05:58:01.618931Z",
     "iopub.status.busy": "2021-08-16T05:58:01.618931Z",
     "iopub.status.idle": "2021-08-16T05:58:01.632894Z",
     "shell.execute_reply": "2021-08-16T05:58:01.632894Z",
     "shell.execute_reply.started": "2021-08-16T05:58:01.618931Z"
    },
    "executionInfo": {
     "elapsed": 646,
     "status": "ok",
     "timestamp": 1628358931970,
     "user": {
      "displayName": "Christopher Monterola",
      "photoUrl": "https://lh3.googleusercontent.com/a-/AOh14GiyxV9CUZD54GBpsQkscS6VRBjebHtFASKcOq-_Lw=s64",
      "userId": "07920169693232563668"
     },
     "user_tz": -480
    },
    "id": "X3bPF1f-_z-F",
    "outputId": "923de3b7-ec05-4392-9777-edc5eb13d13e"
   },
   "outputs": [
    {
     "data": {
      "text/plain": [
       "y\n",
       "no     442\n",
       "yes     58\n",
       "dtype: int64"
      ]
     },
     "execution_count": 8,
     "metadata": {},
     "output_type": "execute_result"
    }
   ],
   "source": [
    "df_bank.groupby('y').size()"
   ]
  },
  {
   "cell_type": "code",
   "execution_count": 9,
   "metadata": {
    "colab": {
     "base_uri": "https://localhost:8080/"
    },
    "execution": {
     "iopub.execute_input": "2021-08-16T05:58:01.636888Z",
     "iopub.status.busy": "2021-08-16T05:58:01.635892Z",
     "iopub.status.idle": "2021-08-16T05:58:01.649888Z",
     "shell.execute_reply": "2021-08-16T05:58:01.648853Z",
     "shell.execute_reply.started": "2021-08-16T05:58:01.636888Z"
    },
    "executionInfo": {
     "elapsed": 650,
     "status": "ok",
     "timestamp": 1628358931978,
     "user": {
      "displayName": "Christopher Monterola",
      "photoUrl": "https://lh3.googleusercontent.com/a-/AOh14GiyxV9CUZD54GBpsQkscS6VRBjebHtFASKcOq-_Lw=s64",
      "userId": "07920169693232563668"
     },
     "user_tz": -480
    },
    "id": "FGiUFuv6_z-G",
    "outputId": "c088e656-ccfa-4318-dcd5-ee3595ff6e2d"
   },
   "outputs": [
    {
     "data": {
      "text/plain": [
       "0.884"
      ]
     },
     "execution_count": 9,
     "metadata": {},
     "output_type": "execute_result"
    }
   ],
   "source": [
    "df_bank.groupby('y').size()[0]/df_bank.groupby('y').size().sum()"
   ]
  },
  {
   "cell_type": "code",
   "execution_count": 10,
   "metadata": {
    "colab": {
     "base_uri": "https://localhost:8080/"
    },
    "execution": {
     "iopub.execute_input": "2021-08-16T05:58:01.650847Z",
     "iopub.status.busy": "2021-08-16T05:58:01.650847Z",
     "iopub.status.idle": "2021-08-16T05:58:01.665807Z",
     "shell.execute_reply": "2021-08-16T05:58:01.664813Z",
     "shell.execute_reply.started": "2021-08-16T05:58:01.650847Z"
    },
    "executionInfo": {
     "elapsed": 28,
     "status": "ok",
     "timestamp": 1628358931979,
     "user": {
      "displayName": "Christopher Monterola",
      "photoUrl": "https://lh3.googleusercontent.com/a-/AOh14GiyxV9CUZD54GBpsQkscS6VRBjebHtFASKcOq-_Lw=s64",
      "userId": "07920169693232563668"
     },
     "user_tz": -480
    },
    "id": "KJCDR_Bi_z-G",
    "outputId": "9c4c5ee9-d922-4a7a-eb4a-b2e505dd04fb"
   },
   "outputs": [
    {
     "name": "stdout",
     "output_type": "stream",
     "text": [
      "Proportion Chance Criterion = 79.4912%\n",
      "1.25*Proportion Chance Criterion = 99.364%\n"
     ]
    }
   ],
   "source": [
    "num=(df_bank.groupby('y').size()/df_bank.groupby('y').size().sum())**2\n",
    "#print(\"Population per class: {}\\n\".format(df_state))\n",
    "print(\"Proportion Chance Criterion = {}%\".format(100*num.sum()))\n",
    "print(\"1.25*Proportion Chance Criterion = {}%\".format(1.25*100*num.sum()))"
   ]
  },
  {
   "cell_type": "markdown",
   "metadata": {
    "id": "jMmIJLd9_z-G"
   },
   "source": [
    "# Step 1: Look at the missing values"
   ]
  },
  {
   "cell_type": "code",
   "execution_count": 11,
   "metadata": {
    "colab": {
     "base_uri": "https://localhost:8080/"
    },
    "execution": {
     "iopub.execute_input": "2021-08-16T05:58:01.667802Z",
     "iopub.status.busy": "2021-08-16T05:58:01.667802Z",
     "iopub.status.idle": "2021-08-16T05:58:01.681763Z",
     "shell.execute_reply": "2021-08-16T05:58:01.680765Z",
     "shell.execute_reply.started": "2021-08-16T05:58:01.667802Z"
    },
    "executionInfo": {
     "elapsed": 26,
     "status": "ok",
     "timestamp": 1628358931979,
     "user": {
      "displayName": "Christopher Monterola",
      "photoUrl": "https://lh3.googleusercontent.com/a-/AOh14GiyxV9CUZD54GBpsQkscS6VRBjebHtFASKcOq-_Lw=s64",
      "userId": "07920169693232563668"
     },
     "user_tz": -480
    },
    "id": "k7NLPB-M_z-G",
    "outputId": "078e6c54-b95b-4b37-82e4-8402a40ba720"
   },
   "outputs": [
    {
     "data": {
      "text/plain": [
       "age                0\n",
       "job                1\n",
       "marital            3\n",
       "education          7\n",
       "default            5\n",
       "housing            9\n",
       "loan               7\n",
       "contact           15\n",
       "month             10\n",
       "day_of_week        6\n",
       "duration           8\n",
       "campaign           4\n",
       "pdays              5\n",
       "previous           4\n",
       "poutcome           5\n",
       "emp.var.rate       4\n",
       "cons.price.idx     6\n",
       "cons.conf.idx      1\n",
       "euribor3m          1\n",
       "nr.employed        0\n",
       "y                  0\n",
       "dtype: int64"
      ]
     },
     "execution_count": 11,
     "metadata": {},
     "output_type": "execute_result"
    }
   ],
   "source": [
    "df_bank.isnull().sum()"
   ]
  },
  {
   "cell_type": "code",
   "execution_count": 12,
   "metadata": {
    "colab": {
     "base_uri": "https://localhost:8080/"
    },
    "execution": {
     "iopub.execute_input": "2021-08-16T05:58:01.682762Z",
     "iopub.status.busy": "2021-08-16T05:58:01.681763Z",
     "iopub.status.idle": "2021-08-16T05:58:01.697772Z",
     "shell.execute_reply": "2021-08-16T05:58:01.696747Z",
     "shell.execute_reply.started": "2021-08-16T05:58:01.682762Z"
    },
    "executionInfo": {
     "elapsed": 24,
     "status": "ok",
     "timestamp": 1628358931979,
     "user": {
      "displayName": "Christopher Monterola",
      "photoUrl": "https://lh3.googleusercontent.com/a-/AOh14GiyxV9CUZD54GBpsQkscS6VRBjebHtFASKcOq-_Lw=s64",
      "userId": "07920169693232563668"
     },
     "user_tz": -480
    },
    "id": "wySkpbfS_z-H",
    "outputId": "32290103-bf74-4c03-b860-5eeec07ddda6"
   },
   "outputs": [
    {
     "data": {
      "text/plain": [
       "array([[59, 'self-employed', 'married', ..., 1.266, 5099.1, 'no'],\n",
       "       [31, 'services', 'single', ..., 4.968, 5228.1, 'no'],\n",
       "       [31, 'admin.', 'married', ..., 0.709, 5023.5, 'yes'],\n",
       "       ...,\n",
       "       [60, 'blue-collar', 'divorced', ..., 4.963, 5228.1, 'no'],\n",
       "       [26, 'blue-collar', 'single', ..., 4.96, 5228.1, 'no'],\n",
       "       [37, 'management', 'married', ..., 4.961, 5228.1, 'no']],\n",
       "      dtype=object)"
      ]
     },
     "execution_count": 12,
     "metadata": {},
     "output_type": "execute_result"
    }
   ],
   "source": [
    "df_bank.values"
   ]
  },
  {
   "cell_type": "markdown",
   "metadata": {
    "id": "KEEWB59r_z-H"
   },
   "source": [
    "# Steps 2 and 3. Remove or Imput the missing values\n"
   ]
  },
  {
   "cell_type": "code",
   "execution_count": 13,
   "metadata": {
    "colab": {
     "base_uri": "https://localhost:8080/"
    },
    "execution": {
     "iopub.execute_input": "2021-08-16T05:58:01.698719Z",
     "iopub.status.busy": "2021-08-16T05:58:01.698719Z",
     "iopub.status.idle": "2021-08-16T05:58:01.729635Z",
     "shell.execute_reply": "2021-08-16T05:58:01.728639Z",
     "shell.execute_reply.started": "2021-08-16T05:58:01.698719Z"
    },
    "executionInfo": {
     "elapsed": 24,
     "status": "ok",
     "timestamp": 1628358931980,
     "user": {
      "displayName": "Christopher Monterola",
      "photoUrl": "https://lh3.googleusercontent.com/a-/AOh14GiyxV9CUZD54GBpsQkscS6VRBjebHtFASKcOq-_Lw=s64",
      "userId": "07920169693232563668"
     },
     "user_tz": -480
    },
    "id": "-BnWYAwx_z-H",
    "outputId": "b3659fcc-5179-4570-a3a9-3e9530dbd6e6"
   },
   "outputs": [
    {
     "data": {
      "text/plain": [
       "age               0\n",
       "job               0\n",
       "marital           0\n",
       "education         0\n",
       "default           0\n",
       "housing           0\n",
       "loan              0\n",
       "contact           0\n",
       "month             0\n",
       "day_of_week       0\n",
       "duration          0\n",
       "campaign          0\n",
       "pdays             0\n",
       "previous          0\n",
       "poutcome          0\n",
       "emp.var.rate      0\n",
       "cons.price.idx    0\n",
       "cons.conf.idx     0\n",
       "euribor3m         0\n",
       "nr.employed       0\n",
       "y                 0\n",
       "dtype: int64"
      ]
     },
     "execution_count": 13,
     "metadata": {},
     "output_type": "execute_result"
    }
   ],
   "source": [
    "import pandas as pd\n",
    "import numpy as np\n",
    "\n",
    "from sklearn.base import TransformerMixin\n",
    "\n",
    "class DataFrameImputer(TransformerMixin):\n",
    "\n",
    "    def __init__(self):\n",
    "        \"\"\"Impute missing values.\n",
    "\n",
    "        Columns of dtype object are imputed with the most frequent value \n",
    "        in column.\n",
    "\n",
    "        Columns of other types are imputed with mean of column.\n",
    "\n",
    "        \"\"\"\n",
    "    def fit(self, X, y=None):\n",
    "\n",
    "        self.fill = pd.Series([X[c].value_counts().index[0]\n",
    "            if X[c].dtype == np.dtype('O') else X[c].mean() for c in X],\n",
    "            index=X.columns)\n",
    "\n",
    "        return self\n",
    "\n",
    "    def transform(self, X, y=None):\n",
    "        return X.fillna(self.fill)\n",
    "\n",
    "\n",
    "\n",
    "X_transition = pd.DataFrame(df_bank)\n",
    "X_clean = DataFrameImputer().fit_transform(X_transition)\n",
    "\n",
    "X_clean.isnull().sum()"
   ]
  },
  {
   "cell_type": "code",
   "execution_count": 14,
   "metadata": {
    "colab": {
     "base_uri": "https://localhost:8080/",
     "height": 241
    },
    "execution": {
     "iopub.execute_input": "2021-08-16T05:58:01.731630Z",
     "iopub.status.busy": "2021-08-16T05:58:01.731630Z",
     "iopub.status.idle": "2021-08-16T05:58:01.760554Z",
     "shell.execute_reply": "2021-08-16T05:58:01.760554Z",
     "shell.execute_reply.started": "2021-08-16T05:58:01.731630Z"
    },
    "executionInfo": {
     "elapsed": 24,
     "status": "ok",
     "timestamp": 1628358931981,
     "user": {
      "displayName": "Christopher Monterola",
      "photoUrl": "https://lh3.googleusercontent.com/a-/AOh14GiyxV9CUZD54GBpsQkscS6VRBjebHtFASKcOq-_Lw=s64",
      "userId": "07920169693232563668"
     },
     "user_tz": -480
    },
    "id": "FD2in5Id_z-I",
    "outputId": "e869bd6b-4f38-4b52-b895-99df09c45891",
    "scrolled": true
   },
   "outputs": [
    {
     "data": {
      "text/html": [
       "<div>\n",
       "<style scoped>\n",
       "    .dataframe tbody tr th:only-of-type {\n",
       "        vertical-align: middle;\n",
       "    }\n",
       "\n",
       "    .dataframe tbody tr th {\n",
       "        vertical-align: top;\n",
       "    }\n",
       "\n",
       "    .dataframe thead th {\n",
       "        text-align: right;\n",
       "    }\n",
       "</style>\n",
       "<table border=\"1\" class=\"dataframe\">\n",
       "  <thead>\n",
       "    <tr style=\"text-align: right;\">\n",
       "      <th></th>\n",
       "      <th>age</th>\n",
       "      <th>job</th>\n",
       "      <th>marital</th>\n",
       "      <th>education</th>\n",
       "      <th>default</th>\n",
       "      <th>housing</th>\n",
       "      <th>loan</th>\n",
       "      <th>contact</th>\n",
       "      <th>month</th>\n",
       "      <th>day_of_week</th>\n",
       "      <th>...</th>\n",
       "      <th>campaign</th>\n",
       "      <th>pdays</th>\n",
       "      <th>previous</th>\n",
       "      <th>poutcome</th>\n",
       "      <th>emp.var.rate</th>\n",
       "      <th>cons.price.idx</th>\n",
       "      <th>cons.conf.idx</th>\n",
       "      <th>euribor3m</th>\n",
       "      <th>nr.employed</th>\n",
       "      <th>y</th>\n",
       "    </tr>\n",
       "  </thead>\n",
       "  <tbody>\n",
       "    <tr>\n",
       "      <th>0</th>\n",
       "      <td>59</td>\n",
       "      <td>self-employed</td>\n",
       "      <td>married</td>\n",
       "      <td>university.degree</td>\n",
       "      <td>no</td>\n",
       "      <td>yes</td>\n",
       "      <td>no</td>\n",
       "      <td>cellular</td>\n",
       "      <td>may</td>\n",
       "      <td>tue</td>\n",
       "      <td>...</td>\n",
       "      <td>1.0</td>\n",
       "      <td>999.0</td>\n",
       "      <td>1.0</td>\n",
       "      <td>failure</td>\n",
       "      <td>-1.8</td>\n",
       "      <td>92.893</td>\n",
       "      <td>-46.2</td>\n",
       "      <td>1.266</td>\n",
       "      <td>5099.1</td>\n",
       "      <td>no</td>\n",
       "    </tr>\n",
       "    <tr>\n",
       "      <th>1</th>\n",
       "      <td>31</td>\n",
       "      <td>services</td>\n",
       "      <td>single</td>\n",
       "      <td>high.school</td>\n",
       "      <td>no</td>\n",
       "      <td>no</td>\n",
       "      <td>yes</td>\n",
       "      <td>cellular</td>\n",
       "      <td>jul</td>\n",
       "      <td>thu</td>\n",
       "      <td>...</td>\n",
       "      <td>17.0</td>\n",
       "      <td>999.0</td>\n",
       "      <td>0.0</td>\n",
       "      <td>nonexistent</td>\n",
       "      <td>1.4</td>\n",
       "      <td>93.918</td>\n",
       "      <td>-42.7</td>\n",
       "      <td>4.968</td>\n",
       "      <td>5228.1</td>\n",
       "      <td>no</td>\n",
       "    </tr>\n",
       "    <tr>\n",
       "      <th>2</th>\n",
       "      <td>31</td>\n",
       "      <td>admin.</td>\n",
       "      <td>married</td>\n",
       "      <td>professional.course</td>\n",
       "      <td>no</td>\n",
       "      <td>no</td>\n",
       "      <td>yes</td>\n",
       "      <td>cellular</td>\n",
       "      <td>dec</td>\n",
       "      <td>mon</td>\n",
       "      <td>...</td>\n",
       "      <td>2.0</td>\n",
       "      <td>999.0</td>\n",
       "      <td>1.0</td>\n",
       "      <td>failure</td>\n",
       "      <td>-3.0</td>\n",
       "      <td>92.713</td>\n",
       "      <td>-33.0</td>\n",
       "      <td>0.709</td>\n",
       "      <td>5023.5</td>\n",
       "      <td>yes</td>\n",
       "    </tr>\n",
       "    <tr>\n",
       "      <th>3</th>\n",
       "      <td>34</td>\n",
       "      <td>admin.</td>\n",
       "      <td>married</td>\n",
       "      <td>high.school</td>\n",
       "      <td>no</td>\n",
       "      <td>yes</td>\n",
       "      <td>yes</td>\n",
       "      <td>telephone</td>\n",
       "      <td>may</td>\n",
       "      <td>fri</td>\n",
       "      <td>...</td>\n",
       "      <td>1.0</td>\n",
       "      <td>999.0</td>\n",
       "      <td>0.0</td>\n",
       "      <td>nonexistent</td>\n",
       "      <td>1.1</td>\n",
       "      <td>93.994</td>\n",
       "      <td>-36.4</td>\n",
       "      <td>4.855</td>\n",
       "      <td>5191.0</td>\n",
       "      <td>no</td>\n",
       "    </tr>\n",
       "    <tr>\n",
       "      <th>4</th>\n",
       "      <td>37</td>\n",
       "      <td>admin.</td>\n",
       "      <td>married</td>\n",
       "      <td>high.school</td>\n",
       "      <td>unknown</td>\n",
       "      <td>yes</td>\n",
       "      <td>no</td>\n",
       "      <td>cellular</td>\n",
       "      <td>jul</td>\n",
       "      <td>mon</td>\n",
       "      <td>...</td>\n",
       "      <td>3.0</td>\n",
       "      <td>999.0</td>\n",
       "      <td>0.0</td>\n",
       "      <td>nonexistent</td>\n",
       "      <td>1.4</td>\n",
       "      <td>93.918</td>\n",
       "      <td>-42.7</td>\n",
       "      <td>4.962</td>\n",
       "      <td>5228.1</td>\n",
       "      <td>no</td>\n",
       "    </tr>\n",
       "  </tbody>\n",
       "</table>\n",
       "<p>5 rows × 21 columns</p>\n",
       "</div>"
      ],
      "text/plain": [
       "   age            job  marital            education  default housing loan  \\\n",
       "0   59  self-employed  married    university.degree       no     yes   no   \n",
       "1   31       services   single          high.school       no      no  yes   \n",
       "2   31         admin.  married  professional.course       no      no  yes   \n",
       "3   34         admin.  married          high.school       no     yes  yes   \n",
       "4   37         admin.  married          high.school  unknown     yes   no   \n",
       "\n",
       "     contact month day_of_week  ...  campaign  pdays  previous     poutcome  \\\n",
       "0   cellular   may         tue  ...       1.0  999.0       1.0      failure   \n",
       "1   cellular   jul         thu  ...      17.0  999.0       0.0  nonexistent   \n",
       "2   cellular   dec         mon  ...       2.0  999.0       1.0      failure   \n",
       "3  telephone   may         fri  ...       1.0  999.0       0.0  nonexistent   \n",
       "4   cellular   jul         mon  ...       3.0  999.0       0.0  nonexistent   \n",
       "\n",
       "  emp.var.rate  cons.price.idx  cons.conf.idx  euribor3m  nr.employed    y  \n",
       "0         -1.8          92.893          -46.2      1.266       5099.1   no  \n",
       "1          1.4          93.918          -42.7      4.968       5228.1   no  \n",
       "2         -3.0          92.713          -33.0      0.709       5023.5  yes  \n",
       "3          1.1          93.994          -36.4      4.855       5191.0   no  \n",
       "4          1.4          93.918          -42.7      4.962       5228.1   no  \n",
       "\n",
       "[5 rows x 21 columns]"
      ]
     },
     "execution_count": 14,
     "metadata": {},
     "output_type": "execute_result"
    }
   ],
   "source": [
    "X_clean.head()"
   ]
  },
  {
   "cell_type": "code",
   "execution_count": 15,
   "metadata": {
    "colab": {
     "base_uri": "https://localhost:8080/"
    },
    "execution": {
     "iopub.execute_input": "2021-08-16T05:58:01.762548Z",
     "iopub.status.busy": "2021-08-16T05:58:01.762548Z",
     "iopub.status.idle": "2021-08-16T05:58:01.776512Z",
     "shell.execute_reply": "2021-08-16T05:58:01.775513Z",
     "shell.execute_reply.started": "2021-08-16T05:58:01.762548Z"
    },
    "executionInfo": {
     "elapsed": 23,
     "status": "ok",
     "timestamp": 1628358931981,
     "user": {
      "displayName": "Christopher Monterola",
      "photoUrl": "https://lh3.googleusercontent.com/a-/AOh14GiyxV9CUZD54GBpsQkscS6VRBjebHtFASKcOq-_Lw=s64",
      "userId": "07920169693232563668"
     },
     "user_tz": -480
    },
    "id": "YecLrVcQ_z-I",
    "outputId": "2d387a92-178e-45b4-e70f-5dce677874ea"
   },
   "outputs": [
    {
     "data": {
      "text/plain": [
       "Index(['age', 'job', 'marital', 'education', 'default', 'housing', 'loan',\n",
       "       'contact', 'month', 'day_of_week', 'duration', 'campaign', 'pdays',\n",
       "       'previous', 'poutcome', 'emp.var.rate', 'cons.price.idx',\n",
       "       'cons.conf.idx', 'euribor3m', 'nr.employed', 'y'],\n",
       "      dtype='object')"
      ]
     },
     "execution_count": 15,
     "metadata": {},
     "output_type": "execute_result"
    }
   ],
   "source": [
    "X_clean.columns"
   ]
  },
  {
   "cell_type": "code",
   "execution_count": 16,
   "metadata": {
    "execution": {
     "iopub.execute_input": "2021-08-16T05:58:01.777507Z",
     "iopub.status.busy": "2021-08-16T05:58:01.777507Z",
     "iopub.status.idle": "2021-08-16T05:58:01.790498Z",
     "shell.execute_reply": "2021-08-16T05:58:01.790498Z",
     "shell.execute_reply.started": "2021-08-16T05:58:01.777507Z"
    },
    "id": "3QBQF3-c_z-I"
   },
   "outputs": [],
   "source": [
    "X_clean = X_clean.drop('y', axis=1)  # REMOVE THE TARGET VARIABLE\n",
    "#X_clean = X_clean.drop('duration', axis=1)  # REMOVE THE TARGET VARIABLE"
   ]
  },
  {
   "cell_type": "markdown",
   "metadata": {
    "id": "SGgslmKj_z-I"
   },
   "source": [
    "We can see that the numerical values do not have the same scale. We will need to apply scaling to the test set that we computed for the training set.\n",
    "\n",
    "# Step 4. Handle Categorical Data\n",
    "\n",
    "For simplicity let's just One Hat Encode all the categorical values"
   ]
  },
  {
   "cell_type": "code",
   "execution_count": 17,
   "metadata": {
    "execution": {
     "iopub.execute_input": "2021-08-16T05:58:01.791470Z",
     "iopub.status.busy": "2021-08-16T05:58:01.791470Z",
     "iopub.status.idle": "2021-08-16T05:58:01.821426Z",
     "shell.execute_reply": "2021-08-16T05:58:01.821426Z",
     "shell.execute_reply.started": "2021-08-16T05:58:01.791470Z"
    },
    "id": "3YItTNo8_z-I"
   },
   "outputs": [],
   "source": [
    "XX=pd.get_dummies(X_clean)"
   ]
  },
  {
   "cell_type": "code",
   "execution_count": 18,
   "metadata": {
    "colab": {
     "base_uri": "https://localhost:8080/",
     "height": 241
    },
    "execution": {
     "iopub.execute_input": "2021-08-16T05:58:01.822387Z",
     "iopub.status.busy": "2021-08-16T05:58:01.822387Z",
     "iopub.status.idle": "2021-08-16T05:58:01.853306Z",
     "shell.execute_reply": "2021-08-16T05:58:01.852347Z",
     "shell.execute_reply.started": "2021-08-16T05:58:01.822387Z"
    },
    "executionInfo": {
     "elapsed": 21,
     "status": "ok",
     "timestamp": 1628358931983,
     "user": {
      "displayName": "Christopher Monterola",
      "photoUrl": "https://lh3.googleusercontent.com/a-/AOh14GiyxV9CUZD54GBpsQkscS6VRBjebHtFASKcOq-_Lw=s64",
      "userId": "07920169693232563668"
     },
     "user_tz": -480
    },
    "id": "VKUt6l7-_z-J",
    "outputId": "57861e66-cce3-4e5a-c660-4960dc59fa34"
   },
   "outputs": [
    {
     "data": {
      "text/html": [
       "<div>\n",
       "<style scoped>\n",
       "    .dataframe tbody tr th:only-of-type {\n",
       "        vertical-align: middle;\n",
       "    }\n",
       "\n",
       "    .dataframe tbody tr th {\n",
       "        vertical-align: top;\n",
       "    }\n",
       "\n",
       "    .dataframe thead th {\n",
       "        text-align: right;\n",
       "    }\n",
       "</style>\n",
       "<table border=\"1\" class=\"dataframe\">\n",
       "  <thead>\n",
       "    <tr style=\"text-align: right;\">\n",
       "      <th></th>\n",
       "      <th>age</th>\n",
       "      <th>duration</th>\n",
       "      <th>campaign</th>\n",
       "      <th>pdays</th>\n",
       "      <th>previous</th>\n",
       "      <th>emp.var.rate</th>\n",
       "      <th>cons.price.idx</th>\n",
       "      <th>cons.conf.idx</th>\n",
       "      <th>euribor3m</th>\n",
       "      <th>nr.employed</th>\n",
       "      <th>...</th>\n",
       "      <th>month_oct</th>\n",
       "      <th>month_sep</th>\n",
       "      <th>day_of_week_fri</th>\n",
       "      <th>day_of_week_mon</th>\n",
       "      <th>day_of_week_thu</th>\n",
       "      <th>day_of_week_tue</th>\n",
       "      <th>day_of_week_wed</th>\n",
       "      <th>poutcome_failure</th>\n",
       "      <th>poutcome_nonexistent</th>\n",
       "      <th>poutcome_success</th>\n",
       "    </tr>\n",
       "  </thead>\n",
       "  <tbody>\n",
       "    <tr>\n",
       "      <th>0</th>\n",
       "      <td>59</td>\n",
       "      <td>61.0</td>\n",
       "      <td>1.0</td>\n",
       "      <td>999.0</td>\n",
       "      <td>1.0</td>\n",
       "      <td>-1.8</td>\n",
       "      <td>92.893</td>\n",
       "      <td>-46.2</td>\n",
       "      <td>1.266</td>\n",
       "      <td>5099.1</td>\n",
       "      <td>...</td>\n",
       "      <td>0</td>\n",
       "      <td>0</td>\n",
       "      <td>0</td>\n",
       "      <td>0</td>\n",
       "      <td>0</td>\n",
       "      <td>1</td>\n",
       "      <td>0</td>\n",
       "      <td>1</td>\n",
       "      <td>0</td>\n",
       "      <td>0</td>\n",
       "    </tr>\n",
       "    <tr>\n",
       "      <th>1</th>\n",
       "      <td>31</td>\n",
       "      <td>9.0</td>\n",
       "      <td>17.0</td>\n",
       "      <td>999.0</td>\n",
       "      <td>0.0</td>\n",
       "      <td>1.4</td>\n",
       "      <td>93.918</td>\n",
       "      <td>-42.7</td>\n",
       "      <td>4.968</td>\n",
       "      <td>5228.1</td>\n",
       "      <td>...</td>\n",
       "      <td>0</td>\n",
       "      <td>0</td>\n",
       "      <td>0</td>\n",
       "      <td>0</td>\n",
       "      <td>1</td>\n",
       "      <td>0</td>\n",
       "      <td>0</td>\n",
       "      <td>0</td>\n",
       "      <td>1</td>\n",
       "      <td>0</td>\n",
       "    </tr>\n",
       "    <tr>\n",
       "      <th>2</th>\n",
       "      <td>31</td>\n",
       "      <td>367.0</td>\n",
       "      <td>2.0</td>\n",
       "      <td>999.0</td>\n",
       "      <td>1.0</td>\n",
       "      <td>-3.0</td>\n",
       "      <td>92.713</td>\n",
       "      <td>-33.0</td>\n",
       "      <td>0.709</td>\n",
       "      <td>5023.5</td>\n",
       "      <td>...</td>\n",
       "      <td>0</td>\n",
       "      <td>0</td>\n",
       "      <td>0</td>\n",
       "      <td>1</td>\n",
       "      <td>0</td>\n",
       "      <td>0</td>\n",
       "      <td>0</td>\n",
       "      <td>1</td>\n",
       "      <td>0</td>\n",
       "      <td>0</td>\n",
       "    </tr>\n",
       "    <tr>\n",
       "      <th>3</th>\n",
       "      <td>34</td>\n",
       "      <td>20.0</td>\n",
       "      <td>1.0</td>\n",
       "      <td>999.0</td>\n",
       "      <td>0.0</td>\n",
       "      <td>1.1</td>\n",
       "      <td>93.994</td>\n",
       "      <td>-36.4</td>\n",
       "      <td>4.855</td>\n",
       "      <td>5191.0</td>\n",
       "      <td>...</td>\n",
       "      <td>0</td>\n",
       "      <td>0</td>\n",
       "      <td>1</td>\n",
       "      <td>0</td>\n",
       "      <td>0</td>\n",
       "      <td>0</td>\n",
       "      <td>0</td>\n",
       "      <td>0</td>\n",
       "      <td>1</td>\n",
       "      <td>0</td>\n",
       "    </tr>\n",
       "    <tr>\n",
       "      <th>4</th>\n",
       "      <td>37</td>\n",
       "      <td>204.0</td>\n",
       "      <td>3.0</td>\n",
       "      <td>999.0</td>\n",
       "      <td>0.0</td>\n",
       "      <td>1.4</td>\n",
       "      <td>93.918</td>\n",
       "      <td>-42.7</td>\n",
       "      <td>4.962</td>\n",
       "      <td>5228.1</td>\n",
       "      <td>...</td>\n",
       "      <td>0</td>\n",
       "      <td>0</td>\n",
       "      <td>0</td>\n",
       "      <td>1</td>\n",
       "      <td>0</td>\n",
       "      <td>0</td>\n",
       "      <td>0</td>\n",
       "      <td>0</td>\n",
       "      <td>1</td>\n",
       "      <td>0</td>\n",
       "    </tr>\n",
       "  </tbody>\n",
       "</table>\n",
       "<p>5 rows × 60 columns</p>\n",
       "</div>"
      ],
      "text/plain": [
       "   age  duration  campaign  pdays  previous  emp.var.rate  cons.price.idx  \\\n",
       "0   59      61.0       1.0  999.0       1.0          -1.8          92.893   \n",
       "1   31       9.0      17.0  999.0       0.0           1.4          93.918   \n",
       "2   31     367.0       2.0  999.0       1.0          -3.0          92.713   \n",
       "3   34      20.0       1.0  999.0       0.0           1.1          93.994   \n",
       "4   37     204.0       3.0  999.0       0.0           1.4          93.918   \n",
       "\n",
       "   cons.conf.idx  euribor3m  nr.employed  ...  month_oct  month_sep  \\\n",
       "0          -46.2      1.266       5099.1  ...          0          0   \n",
       "1          -42.7      4.968       5228.1  ...          0          0   \n",
       "2          -33.0      0.709       5023.5  ...          0          0   \n",
       "3          -36.4      4.855       5191.0  ...          0          0   \n",
       "4          -42.7      4.962       5228.1  ...          0          0   \n",
       "\n",
       "   day_of_week_fri  day_of_week_mon  day_of_week_thu  day_of_week_tue  \\\n",
       "0                0                0                0                1   \n",
       "1                0                0                1                0   \n",
       "2                0                1                0                0   \n",
       "3                1                0                0                0   \n",
       "4                0                1                0                0   \n",
       "\n",
       "   day_of_week_wed  poutcome_failure  poutcome_nonexistent  poutcome_success  \n",
       "0                0                 1                     0                 0  \n",
       "1                0                 0                     1                 0  \n",
       "2                0                 1                     0                 0  \n",
       "3                0                 0                     1                 0  \n",
       "4                0                 0                     1                 0  \n",
       "\n",
       "[5 rows x 60 columns]"
      ]
     },
     "execution_count": 18,
     "metadata": {},
     "output_type": "execute_result"
    }
   ],
   "source": [
    "XX.head()"
   ]
  },
  {
   "cell_type": "code",
   "execution_count": 19,
   "metadata": {
    "colab": {
     "base_uri": "https://localhost:8080/"
    },
    "execution": {
     "iopub.execute_input": "2021-08-16T05:58:01.854303Z",
     "iopub.status.busy": "2021-08-16T05:58:01.854303Z",
     "iopub.status.idle": "2021-08-16T05:58:01.867307Z",
     "shell.execute_reply": "2021-08-16T05:58:01.867307Z",
     "shell.execute_reply.started": "2021-08-16T05:58:01.854303Z"
    },
    "executionInfo": {
     "elapsed": 21,
     "status": "ok",
     "timestamp": 1628358931984,
     "user": {
      "displayName": "Christopher Monterola",
      "photoUrl": "https://lh3.googleusercontent.com/a-/AOh14GiyxV9CUZD54GBpsQkscS6VRBjebHtFASKcOq-_Lw=s64",
      "userId": "07920169693232563668"
     },
     "user_tz": -480
    },
    "id": "8uQacCdl_z-J",
    "outputId": "f367836c-09fd-40e8-eb41-4ccfaba52f15"
   },
   "outputs": [
    {
     "data": {
      "text/plain": [
       "(500, 20)"
      ]
     },
     "execution_count": 19,
     "metadata": {},
     "output_type": "execute_result"
    }
   ],
   "source": [
    "X_clean.shape"
   ]
  },
  {
   "cell_type": "code",
   "execution_count": 20,
   "metadata": {
    "colab": {
     "base_uri": "https://localhost:8080/"
    },
    "execution": {
     "iopub.execute_input": "2021-08-16T05:58:01.869263Z",
     "iopub.status.busy": "2021-08-16T05:58:01.868270Z",
     "iopub.status.idle": "2021-08-16T05:58:01.882261Z",
     "shell.execute_reply": "2021-08-16T05:58:01.882261Z",
     "shell.execute_reply.started": "2021-08-16T05:58:01.869263Z"
    },
    "executionInfo": {
     "elapsed": 18,
     "status": "ok",
     "timestamp": 1628358931984,
     "user": {
      "displayName": "Christopher Monterola",
      "photoUrl": "https://lh3.googleusercontent.com/a-/AOh14GiyxV9CUZD54GBpsQkscS6VRBjebHtFASKcOq-_Lw=s64",
      "userId": "07920169693232563668"
     },
     "user_tz": -480
    },
    "id": "U99O3oyx_z-J",
    "outputId": "88124415-3ab8-4536-c869-5be97f41aa4d"
   },
   "outputs": [
    {
     "data": {
      "text/plain": [
       "(500, 60)"
      ]
     },
     "execution_count": 20,
     "metadata": {},
     "output_type": "execute_result"
    }
   ],
   "source": [
    "XX.shape"
   ]
  },
  {
   "cell_type": "code",
   "execution_count": 21,
   "metadata": {
    "execution": {
     "iopub.execute_input": "2021-08-16T05:58:01.883223Z",
     "iopub.status.busy": "2021-08-16T05:58:01.883223Z",
     "iopub.status.idle": "2021-08-16T05:58:01.897187Z",
     "shell.execute_reply": "2021-08-16T05:58:01.897187Z",
     "shell.execute_reply.started": "2021-08-16T05:58:01.883223Z"
    },
    "id": "5s1dMrha_z-J"
   },
   "outputs": [],
   "source": [
    "XX_column_names =XX.columns"
   ]
  },
  {
   "cell_type": "markdown",
   "metadata": {
    "id": "W5niNoh9_z-K"
   },
   "source": [
    "# Step 5: Apply Scaler"
   ]
  },
  {
   "cell_type": "code",
   "execution_count": 22,
   "metadata": {
    "execution": {
     "iopub.execute_input": "2021-08-16T05:58:01.898185Z",
     "iopub.status.busy": "2021-08-16T05:58:01.898185Z",
     "iopub.status.idle": "2021-08-16T05:58:01.944073Z",
     "shell.execute_reply": "2021-08-16T05:58:01.944073Z",
     "shell.execute_reply.started": "2021-08-16T05:58:01.898185Z"
    },
    "id": "puDKeCdP_z-K"
   },
   "outputs": [
    {
     "name": "stderr",
     "output_type": "stream",
     "text": [
      "<ipython-input-22-48906f178271>:3: DeprecationWarning: `np.float` is a deprecated alias for the builtin `float`. To silence this warning, use `float` by itself. Doing this will not modify any behavior and is safe. If you specifically wanted the numpy scalar type, use `np.float64` here.\n",
      "Deprecated in NumPy 1.20; for more details and guidance: https://numpy.org/devdocs/release/1.20.0-notes.html#deprecations\n",
      "  XX = sscaler.fit_transform(XX.astype(np.float)) #You will loss the column names\n"
     ]
    }
   ],
   "source": [
    "from sklearn.preprocessing import MinMaxScaler\n",
    "sscaler = MinMaxScaler()\n",
    "XX = sscaler.fit_transform(XX.astype(np.float)) #You will loss the column names"
   ]
  },
  {
   "cell_type": "code",
   "execution_count": 23,
   "metadata": {
    "colab": {
     "base_uri": "https://localhost:8080/"
    },
    "execution": {
     "iopub.execute_input": "2021-08-16T05:58:01.946067Z",
     "iopub.status.busy": "2021-08-16T05:58:01.946067Z",
     "iopub.status.idle": "2021-08-16T05:58:01.959084Z",
     "shell.execute_reply": "2021-08-16T05:58:01.959084Z",
     "shell.execute_reply.started": "2021-08-16T05:58:01.946067Z"
    },
    "executionInfo": {
     "elapsed": 12,
     "status": "ok",
     "timestamp": 1628358932689,
     "user": {
      "displayName": "Christopher Monterola",
      "photoUrl": "https://lh3.googleusercontent.com/a-/AOh14GiyxV9CUZD54GBpsQkscS6VRBjebHtFASKcOq-_Lw=s64",
      "userId": "07920169693232563668"
     },
     "user_tz": -480
    },
    "id": "Mm_m7GL7_z-K",
    "outputId": "e7c6f6aa-589d-4b47-8606-410f501ce67f"
   },
   "outputs": [
    {
     "data": {
      "text/plain": [
       "array([[0.84444444, 0.01539307, 0.        , ..., 1.        , 0.        ,\n",
       "        0.        ],\n",
       "       [0.22222222, 0.00109951, 0.69565217, ..., 0.        , 1.        ,\n",
       "        0.        ],\n",
       "       [0.22222222, 0.09950522, 0.04347826, ..., 1.        , 0.        ,\n",
       "        0.        ],\n",
       "       ...,\n",
       "       [0.86666667, 0.02748763, 0.08695652, ..., 0.        , 1.        ,\n",
       "        0.        ],\n",
       "       [0.11111111, 0.05360088, 0.04347826, ..., 0.        , 1.        ,\n",
       "        0.        ],\n",
       "       [0.35555556, 0.07778999, 0.        , ..., 0.        , 1.        ,\n",
       "        0.        ]])"
      ]
     },
     "execution_count": 23,
     "metadata": {},
     "output_type": "execute_result"
    }
   ],
   "source": [
    "XX"
   ]
  },
  {
   "cell_type": "code",
   "execution_count": null,
   "metadata": {
    "id": "o5FxOJed_z-K"
   },
   "outputs": [],
   "source": []
  },
  {
   "cell_type": "code",
   "execution_count": 24,
   "metadata": {
    "colab": {
     "base_uri": "https://localhost:8080/",
     "height": 241
    },
    "execution": {
     "iopub.execute_input": "2021-08-16T05:58:01.960029Z",
     "iopub.status.busy": "2021-08-16T05:58:01.960029Z",
     "iopub.status.idle": "2021-08-16T05:58:01.991946Z",
     "shell.execute_reply": "2021-08-16T05:58:01.990947Z",
     "shell.execute_reply.started": "2021-08-16T05:58:01.960029Z"
    },
    "executionInfo": {
     "elapsed": 9,
     "status": "ok",
     "timestamp": 1628358932690,
     "user": {
      "displayName": "Christopher Monterola",
      "photoUrl": "https://lh3.googleusercontent.com/a-/AOh14GiyxV9CUZD54GBpsQkscS6VRBjebHtFASKcOq-_Lw=s64",
      "userId": "07920169693232563668"
     },
     "user_tz": -480
    },
    "id": "-S6oByE7_z-K",
    "outputId": "bc0d731c-f1fd-434d-fc12-9404f7581f49"
   },
   "outputs": [
    {
     "data": {
      "text/html": [
       "<div>\n",
       "<style scoped>\n",
       "    .dataframe tbody tr th:only-of-type {\n",
       "        vertical-align: middle;\n",
       "    }\n",
       "\n",
       "    .dataframe tbody tr th {\n",
       "        vertical-align: top;\n",
       "    }\n",
       "\n",
       "    .dataframe thead th {\n",
       "        text-align: right;\n",
       "    }\n",
       "</style>\n",
       "<table border=\"1\" class=\"dataframe\">\n",
       "  <thead>\n",
       "    <tr style=\"text-align: right;\">\n",
       "      <th></th>\n",
       "      <th>age</th>\n",
       "      <th>duration</th>\n",
       "      <th>campaign</th>\n",
       "      <th>pdays</th>\n",
       "      <th>previous</th>\n",
       "      <th>emp.var.rate</th>\n",
       "      <th>cons.price.idx</th>\n",
       "      <th>cons.conf.idx</th>\n",
       "      <th>euribor3m</th>\n",
       "      <th>nr.employed</th>\n",
       "      <th>...</th>\n",
       "      <th>month_oct</th>\n",
       "      <th>month_sep</th>\n",
       "      <th>day_of_week_fri</th>\n",
       "      <th>day_of_week_mon</th>\n",
       "      <th>day_of_week_thu</th>\n",
       "      <th>day_of_week_tue</th>\n",
       "      <th>day_of_week_wed</th>\n",
       "      <th>poutcome_failure</th>\n",
       "      <th>poutcome_nonexistent</th>\n",
       "      <th>poutcome_success</th>\n",
       "    </tr>\n",
       "  </thead>\n",
       "  <tbody>\n",
       "    <tr>\n",
       "      <th>0</th>\n",
       "      <td>0.844444</td>\n",
       "      <td>0.015393</td>\n",
       "      <td>0.000000</td>\n",
       "      <td>1.0</td>\n",
       "      <td>0.166667</td>\n",
       "      <td>0.333333</td>\n",
       "      <td>0.269680</td>\n",
       "      <td>0.192469</td>\n",
       "      <td>0.143980</td>\n",
       "      <td>0.512287</td>\n",
       "      <td>...</td>\n",
       "      <td>0.0</td>\n",
       "      <td>0.0</td>\n",
       "      <td>0.0</td>\n",
       "      <td>0.0</td>\n",
       "      <td>0.0</td>\n",
       "      <td>1.0</td>\n",
       "      <td>0.0</td>\n",
       "      <td>1.0</td>\n",
       "      <td>0.0</td>\n",
       "      <td>0.0</td>\n",
       "    </tr>\n",
       "    <tr>\n",
       "      <th>1</th>\n",
       "      <td>0.222222</td>\n",
       "      <td>0.001100</td>\n",
       "      <td>0.695652</td>\n",
       "      <td>1.0</td>\n",
       "      <td>0.000000</td>\n",
       "      <td>1.000000</td>\n",
       "      <td>0.669135</td>\n",
       "      <td>0.338912</td>\n",
       "      <td>0.999538</td>\n",
       "      <td>1.000000</td>\n",
       "      <td>...</td>\n",
       "      <td>0.0</td>\n",
       "      <td>0.0</td>\n",
       "      <td>0.0</td>\n",
       "      <td>0.0</td>\n",
       "      <td>1.0</td>\n",
       "      <td>0.0</td>\n",
       "      <td>0.0</td>\n",
       "      <td>0.0</td>\n",
       "      <td>1.0</td>\n",
       "      <td>0.0</td>\n",
       "    </tr>\n",
       "    <tr>\n",
       "      <th>2</th>\n",
       "      <td>0.222222</td>\n",
       "      <td>0.099505</td>\n",
       "      <td>0.043478</td>\n",
       "      <td>1.0</td>\n",
       "      <td>0.166667</td>\n",
       "      <td>0.083333</td>\n",
       "      <td>0.199532</td>\n",
       "      <td>0.744770</td>\n",
       "      <td>0.015253</td>\n",
       "      <td>0.226465</td>\n",
       "      <td>...</td>\n",
       "      <td>0.0</td>\n",
       "      <td>0.0</td>\n",
       "      <td>0.0</td>\n",
       "      <td>1.0</td>\n",
       "      <td>0.0</td>\n",
       "      <td>0.0</td>\n",
       "      <td>0.0</td>\n",
       "      <td>1.0</td>\n",
       "      <td>0.0</td>\n",
       "      <td>0.0</td>\n",
       "    </tr>\n",
       "    <tr>\n",
       "      <th>3</th>\n",
       "      <td>0.288889</td>\n",
       "      <td>0.004123</td>\n",
       "      <td>0.000000</td>\n",
       "      <td>1.0</td>\n",
       "      <td>0.000000</td>\n",
       "      <td>0.937500</td>\n",
       "      <td>0.698753</td>\n",
       "      <td>0.602510</td>\n",
       "      <td>0.973423</td>\n",
       "      <td>0.859735</td>\n",
       "      <td>...</td>\n",
       "      <td>0.0</td>\n",
       "      <td>0.0</td>\n",
       "      <td>1.0</td>\n",
       "      <td>0.0</td>\n",
       "      <td>0.0</td>\n",
       "      <td>0.0</td>\n",
       "      <td>0.0</td>\n",
       "      <td>0.0</td>\n",
       "      <td>1.0</td>\n",
       "      <td>0.0</td>\n",
       "    </tr>\n",
       "    <tr>\n",
       "      <th>4</th>\n",
       "      <td>0.355556</td>\n",
       "      <td>0.054700</td>\n",
       "      <td>0.086957</td>\n",
       "      <td>1.0</td>\n",
       "      <td>0.000000</td>\n",
       "      <td>1.000000</td>\n",
       "      <td>0.669135</td>\n",
       "      <td>0.338912</td>\n",
       "      <td>0.998151</td>\n",
       "      <td>1.000000</td>\n",
       "      <td>...</td>\n",
       "      <td>0.0</td>\n",
       "      <td>0.0</td>\n",
       "      <td>0.0</td>\n",
       "      <td>1.0</td>\n",
       "      <td>0.0</td>\n",
       "      <td>0.0</td>\n",
       "      <td>0.0</td>\n",
       "      <td>0.0</td>\n",
       "      <td>1.0</td>\n",
       "      <td>0.0</td>\n",
       "    </tr>\n",
       "  </tbody>\n",
       "</table>\n",
       "<p>5 rows × 60 columns</p>\n",
       "</div>"
      ],
      "text/plain": [
       "        age  duration  campaign  pdays  previous  emp.var.rate  \\\n",
       "0  0.844444  0.015393  0.000000    1.0  0.166667      0.333333   \n",
       "1  0.222222  0.001100  0.695652    1.0  0.000000      1.000000   \n",
       "2  0.222222  0.099505  0.043478    1.0  0.166667      0.083333   \n",
       "3  0.288889  0.004123  0.000000    1.0  0.000000      0.937500   \n",
       "4  0.355556  0.054700  0.086957    1.0  0.000000      1.000000   \n",
       "\n",
       "   cons.price.idx  cons.conf.idx  euribor3m  nr.employed  ...  month_oct  \\\n",
       "0        0.269680       0.192469   0.143980     0.512287  ...        0.0   \n",
       "1        0.669135       0.338912   0.999538     1.000000  ...        0.0   \n",
       "2        0.199532       0.744770   0.015253     0.226465  ...        0.0   \n",
       "3        0.698753       0.602510   0.973423     0.859735  ...        0.0   \n",
       "4        0.669135       0.338912   0.998151     1.000000  ...        0.0   \n",
       "\n",
       "   month_sep  day_of_week_fri  day_of_week_mon  day_of_week_thu  \\\n",
       "0        0.0              0.0              0.0              0.0   \n",
       "1        0.0              0.0              0.0              1.0   \n",
       "2        0.0              0.0              1.0              0.0   \n",
       "3        0.0              1.0              0.0              0.0   \n",
       "4        0.0              0.0              1.0              0.0   \n",
       "\n",
       "   day_of_week_tue  day_of_week_wed  poutcome_failure  poutcome_nonexistent  \\\n",
       "0              1.0              0.0               1.0                   0.0   \n",
       "1              0.0              0.0               0.0                   1.0   \n",
       "2              0.0              0.0               1.0                   0.0   \n",
       "3              0.0              0.0               0.0                   1.0   \n",
       "4              0.0              0.0               0.0                   1.0   \n",
       "\n",
       "   poutcome_success  \n",
       "0               0.0  \n",
       "1               0.0  \n",
       "2               0.0  \n",
       "3               0.0  \n",
       "4               0.0  \n",
       "\n",
       "[5 rows x 60 columns]"
      ]
     },
     "execution_count": 24,
     "metadata": {},
     "output_type": "execute_result"
    }
   ],
   "source": [
    "XX_df = pd.DataFrame(data = XX,columns = XX_column_names) # Return the column names\n",
    "XX_df.head()"
   ]
  },
  {
   "cell_type": "markdown",
   "metadata": {
    "id": "DQLyv6ke_z-K"
   },
   "source": [
    "# Step 6:  Now let's run an automated Machine Learning to the above processed data\n",
    "\n",
    "Below we combine the notebook codes previously shared into a single running code to create an **Automated ML**"
   ]
  },
  {
   "cell_type": "code",
   "execution_count": 25,
   "metadata": {
    "execution": {
     "iopub.execute_input": "2021-08-16T05:58:01.993941Z",
     "iopub.status.busy": "2021-08-16T05:58:01.993941Z",
     "iopub.status.idle": "2021-08-16T05:58:02.296707Z",
     "shell.execute_reply": "2021-08-16T05:58:02.295742Z",
     "shell.execute_reply.started": "2021-08-16T05:58:01.993941Z"
    },
    "id": "lnvjFFkk_z-K"
   },
   "outputs": [],
   "source": [
    "from sklearn.neighbors import KNeighborsClassifier\n",
    "from sklearn.linear_model import LogisticRegression\n",
    "from sklearn.svm import LinearSVC\n",
    "from sklearn.svm import SVC\n",
    "from sklearn.model_selection import train_test_split\n",
    "\n",
    "Number_trials=10\n",
    "\n",
    "def train_knn(X, y):\n",
    "    score_train = []\n",
    "    score_test = []\n",
    "\n",
    "    for seed in range(Number_trials):\n",
    "        X_train, X_test, y_train, y_test = train_test_split(X, y, test_size=0.25, random_state=seed)\n",
    "        neighbors_settings = range(1,70)\n",
    "        acc_train = []\n",
    "        acc_test = []\n",
    "\n",
    "        for n_neighbors in neighbors_settings:   \n",
    "            clf = KNeighborsClassifier(n_neighbors=n_neighbors) # build the model \n",
    "            clf.fit(X_train, y_train)    \n",
    "            acc_train.append(clf.score(X_train, y_train))\n",
    "            acc_test.append(clf.score(X_test, y_test))\n",
    "\n",
    "        score_train.append(acc_train)\n",
    "        score_test.append(acc_test)   \n",
    "        \n",
    "    score = np.mean(score_test, axis=0)\n",
    "    run_time = (time.time() - start_time)\n",
    "    return ['kNN', np.amax(score), 'N_Neighbor = {0}'.format(np.argmax(score)+1), 'NA',run_time]\n",
    "\n",
    "def train_logistic(X, y, reg):\n",
    "    C = [1e-8, 1e-4, 1e-3, 1e-2, 0.1, 0.2,0.4, 0.75, 1, 1.5, 3, 5, 10, 15,  20, 100, 300, 1000, 5000]\n",
    "    #C = [.01, .1]\n",
    "    score_train = []\n",
    "    score_test = []\n",
    "    weighted_coefs=[]\n",
    "    \n",
    "    for seed in range(Number_trials):\n",
    "        training_accuracy = []  \n",
    "        test_accuracy = []\n",
    "        X_train, X_test, y_train, y_test = train_test_split(X, y, test_size=0.25, random_state=seed)\n",
    "        for alpha_run in C:\n",
    "            if reg == 'l1':\n",
    "                lr = LogisticRegression(C=alpha_run, penalty=reg, solver='liblinear').fit(X_train, y_train)\n",
    "            if reg == 'l2':\n",
    "                lr = LogisticRegression(C=alpha_run, penalty=reg, dual=False).fit(X_train, y_train)\n",
    "            \n",
    "            \n",
    "            training_accuracy.append(lr.score(X_train, y_train))\n",
    "            test_accuracy.append(lr.score(X_test, y_test))\n",
    "            coefs=lr.coef_ \n",
    "            weighted_coefs.append(coefs) #append all the computed coefficients per trial\n",
    "                \n",
    "        score_train.append(training_accuracy)\n",
    "        score_test.append(test_accuracy)\n",
    "    \n",
    "    mean_coefs=np.mean(weighted_coefs, axis=0) #get the mean of the weighted coefficients over all the trials \n",
    "    #print(mean_coefs) \n",
    "    score = np.mean(score_test, axis=0)\n",
    "    \n",
    "    #Plot the weight of the parameters \n",
    "    top_predictor=X.columns[np.argmax(np.abs(mean_coefs))]\n",
    "    abs_mean_coefs = np.abs(mean_coefs[0,:])\n",
    "    coefs_count = len(abs_mean_coefs)\n",
    "    fig, ax = plt.subplots(figsize=(3,15))\n",
    "    ax.barh(np.arange(coefs_count), sorted(abs_mean_coefs))\n",
    "     \n",
    "    ax.set_yticks(np.arange(coefs_count))\n",
    "    ax.set_yticklabels(X.columns[np.argsort(abs_mean_coefs)])\n",
    "    \n",
    "    run_time = (time.time() - start_time)\n",
    "    return ['Logistic ({0})'.format(reg), np.amax(score), \\\n",
    "            'C = {0}'.format(C[np.argmax(score)]), top_predictor, run_time]\n",
    "\n",
    "def train_svm(X, y, reg):\n",
    "    C = [1e-8, 1e-4, 1e-3, 1e-2, 0.1, 0.2,0.4, 0.75, 1, 1.5, 3, 5, 10, 15,  20, 100, 300, 1000, 5000]\n",
    "    #C = [.01, .1]\n",
    "    score_train = []\n",
    "    score_test = []\n",
    "    weighted_coefs=[]\n",
    "    \n",
    "    for seed in range(Number_trials):\n",
    "        training_accuracy = []  \n",
    "        test_accuracy = []\n",
    "        X_train, X_test, y_train, y_test = train_test_split(X, y, test_size=0.25, random_state=seed)\n",
    "        for alpha_run in C:\n",
    "            if reg == 'l1':\n",
    "                svc = LinearSVC(C=alpha_run, penalty=reg, loss='squared_hinge', dual=False).fit(X_train, y_train)\n",
    "            if reg == 'l2':\n",
    "                svc = LinearSVC(C=alpha_run, penalty=reg).fit(X_train, y_train)\n",
    "            training_accuracy.append(svc.score(X_train, y_train))\n",
    "            test_accuracy.append(svc.score(X_test, y_test))\n",
    "           # if alpha_run == 0.01:\n",
    "            coefs = svc.coef_\n",
    "            weighted_coefs.append(coefs)\n",
    "                \n",
    "        score_train.append(training_accuracy)\n",
    "        score_test.append(test_accuracy)\n",
    " \n",
    "\n",
    "    mean_coefs=np.mean(weighted_coefs, axis=0) #get the mean of the weighted coefficients over all the trials       \n",
    "    score = np.mean(score_test, axis=0)\n",
    "    \n",
    "\n",
    "    top_predictor=X.columns[np.argmax(np.abs(mean_coefs))]\n",
    "    abs_mean_coefs = np.abs(mean_coefs[0,:])\n",
    "    coefs_count = len(abs_mean_coefs)\n",
    "    fig, ax = plt.subplots(figsize=(3,20))\n",
    "    ax.barh(np.arange(coefs_count), sorted(abs_mean_coefs))\n",
    "        \n",
    "    ax.set_yticks(np.arange(coefs_count))\n",
    "    ax.set_yticklabels(X.columns[np.argsort(abs_mean_coefs)])\n",
    "    \n",
    "    run_time = (time.time() - start_time)\n",
    "    return ['Linear SVM ({0})'.format(reg), np.amax(score), \\\n",
    "            'C = {0}'.format(C[np.argmax(score)]), top_predictor,run_time]\n",
    "\n",
    "\n"
   ]
  },
  {
   "cell_type": "code",
   "execution_count": 26,
   "metadata": {
    "colab": {
     "base_uri": "https://localhost:8080/",
     "height": 1000
    },
    "execution": {
     "iopub.execute_input": "2021-08-16T05:58:02.297704Z",
     "iopub.status.busy": "2021-08-16T05:58:02.297704Z",
     "iopub.status.idle": "2021-08-16T05:58:44.964683Z",
     "shell.execute_reply": "2021-08-16T05:58:44.964683Z",
     "shell.execute_reply.started": "2021-08-16T05:58:02.297704Z"
    },
    "executionInfo": {
     "elapsed": 61155,
     "status": "ok",
     "timestamp": 1628358993837,
     "user": {
      "displayName": "Christopher Monterola",
      "photoUrl": "https://lh3.googleusercontent.com/a-/AOh14GiyxV9CUZD54GBpsQkscS6VRBjebHtFASKcOq-_Lw=s64",
      "userId": "07920169693232563668"
     },
     "user_tz": -480
    },
    "id": "Dac9rMbt_z-N",
    "outputId": "684e0fad-8666-4809-c566-c16068a319e9"
   },
   "outputs": [
    {
     "name": "stdout",
     "output_type": "stream",
     "text": [
      "['kNN', 0.892, 'N_Neighbor = 13', 'NA', 18.101550817489624]\n",
      "18.101550817489624 seconds\n",
      "['Logistic (l2)', 0.8944000000000001, 'C = 0.75', 'duration', 3.6395511627197266]\n",
      "3.6395511627197266 seconds\n",
      "['Logistic (l1)', 0.9112, 'C = 1', 'duration', 7.231949806213379]\n",
      "7.231949806213379 seconds\n",
      "['Linear SVM (l2)', 0.8992000000000001, 'C = 0.2', 'duration', 2.7874045372009277]\n",
      "2.7874045372009277 seconds\n",
      "['Linear SVM (l1)', 0.9088, 'C = 0.4', 'duration', 6.092459678649902]\n",
      "6.092459678649902 seconds\n"
     ]
    },
    {
     "data": {
      "image/png": "[encoded data removed]",
      "text/plain": [
       "<Figure size 216x1080 with 1 Axes>"
      ]
     },
     "metadata": {
      "needs_background": "light"
     },
     "output_type": "display_data"
    },
    {
     "data": {
      "image/png": "[encoded data removed]",
      "text/plain": [
       "<Figure size 216x1080 with 1 Axes>"
      ]
     },
     "metadata": {
      "needs_background": "light"
     },
     "output_type": "display_data"
    },
    {
     "data": {
      "image/png": "[encoded data removed]",
      "text/plain": [
       "<Figure size 216x1440 with 1 Axes>"
      ]
     },
     "metadata": {
      "needs_background": "light"
     },
     "output_type": "display_data"
    },
    {
     "data": {
      "image/png": "[encoded data removed]",
      "text/plain": [
       "<Figure size 216x1440 with 1 Axes>"
      ]
     },
     "metadata": {
      "needs_background": "light"
     },
     "output_type": "display_data"
    }
   ],
   "source": [
    "X = XX_df\n",
    "y = df_bank['y']\n",
    "\n",
    "import time\n",
    "\n",
    "start_time = time.time()\n",
    "a = train_knn(X,y)\n",
    "print(a)\n",
    "print(\"%s seconds\" % a[4])\n",
    "\n",
    "start_time = time.time()\n",
    "b = train_logistic(X,y,reg='l2')\n",
    "print(b)\n",
    "print(\"%s seconds\" % b[4])\n",
    "\n",
    "start_time = time.time()\n",
    "c = train_logistic(X,y,reg='l1')\n",
    "print(c)\n",
    "print(\"%s seconds\" % c[4])\n",
    "\n",
    "start_time = time.time()\n",
    "d = train_svm(X,y,reg='l2')\n",
    "print(d)\n",
    "print(\"%s seconds\" % d[4])\n",
    "\n",
    "start_time = time.time()\n",
    "e = train_svm(X,y,reg='l1')\n",
    "print(e)\n",
    "print(\"%s seconds\" % e[4])\n"
   ]
  },
  {
   "cell_type": "code",
   "execution_count": 27,
   "metadata": {
    "colab": {
     "base_uri": "https://localhost:8080/",
     "height": 204
    },
    "execution": {
     "iopub.execute_input": "2021-08-16T05:58:44.965679Z",
     "iopub.status.busy": "2021-08-16T05:58:44.965679Z",
     "iopub.status.idle": "2021-08-16T05:58:44.996599Z",
     "shell.execute_reply": "2021-08-16T05:58:44.996599Z",
     "shell.execute_reply.started": "2021-08-16T05:58:44.965679Z"
    },
    "executionInfo": {
     "elapsed": 12,
     "status": "ok",
     "timestamp": 1628358993838,
     "user": {
      "displayName": "Christopher Monterola",
      "photoUrl": "https://lh3.googleusercontent.com/a-/AOh14GiyxV9CUZD54GBpsQkscS6VRBjebHtFASKcOq-_Lw=s64",
      "userId": "07920169693232563668"
     },
     "user_tz": -480
    },
    "id": "fZtHFt88_z-O",
    "outputId": "159a6dcd-0c24-4daf-bd60-242eef49a4c8"
   },
   "outputs": [
    {
     "data": {
      "text/html": [
       "<div>\n",
       "<style scoped>\n",
       "    .dataframe tbody tr th:only-of-type {\n",
       "        vertical-align: middle;\n",
       "    }\n",
       "\n",
       "    .dataframe tbody tr th {\n",
       "        vertical-align: top;\n",
       "    }\n",
       "\n",
       "    .dataframe thead th {\n",
       "        text-align: right;\n",
       "    }\n",
       "</style>\n",
       "<table border=\"1\" class=\"dataframe\">\n",
       "  <thead>\n",
       "    <tr style=\"text-align: right;\">\n",
       "      <th></th>\n",
       "      <th>Machine Learning Method</th>\n",
       "      <th>Test Accuracy</th>\n",
       "      <th>Best Parameter</th>\n",
       "      <th>Top Predictor Variable</th>\n",
       "      <th>Run Time</th>\n",
       "    </tr>\n",
       "  </thead>\n",
       "  <tbody>\n",
       "    <tr>\n",
       "      <th>0</th>\n",
       "      <td>kNN</td>\n",
       "      <td>0.8920</td>\n",
       "      <td>N_Neighbor = 13</td>\n",
       "      <td>NA</td>\n",
       "      <td>18.101551</td>\n",
       "    </tr>\n",
       "    <tr>\n",
       "      <th>1</th>\n",
       "      <td>Logistic (l2)</td>\n",
       "      <td>0.8944</td>\n",
       "      <td>C = 0.75</td>\n",
       "      <td>duration</td>\n",
       "      <td>3.639551</td>\n",
       "    </tr>\n",
       "    <tr>\n",
       "      <th>2</th>\n",
       "      <td>Logistic (l1)</td>\n",
       "      <td>0.9112</td>\n",
       "      <td>C = 1</td>\n",
       "      <td>duration</td>\n",
       "      <td>7.231950</td>\n",
       "    </tr>\n",
       "    <tr>\n",
       "      <th>3</th>\n",
       "      <td>Linear SVM (l2)</td>\n",
       "      <td>0.8992</td>\n",
       "      <td>C = 0.2</td>\n",
       "      <td>duration</td>\n",
       "      <td>2.787405</td>\n",
       "    </tr>\n",
       "    <tr>\n",
       "      <th>4</th>\n",
       "      <td>Linear SVM (l1)</td>\n",
       "      <td>0.9088</td>\n",
       "      <td>C = 0.4</td>\n",
       "      <td>duration</td>\n",
       "      <td>6.092460</td>\n",
       "    </tr>\n",
       "  </tbody>\n",
       "</table>\n",
       "</div>"
      ],
      "text/plain": [
       "  Machine Learning Method  Test Accuracy   Best Parameter  \\\n",
       "0                     kNN         0.8920  N_Neighbor = 13   \n",
       "1           Logistic (l2)         0.8944         C = 0.75   \n",
       "2           Logistic (l1)         0.9112            C = 1   \n",
       "3         Linear SVM (l2)         0.8992          C = 0.2   \n",
       "4         Linear SVM (l1)         0.9088          C = 0.4   \n",
       "\n",
       "  Top Predictor Variable   Run Time  \n",
       "0                     NA  18.101551  \n",
       "1               duration   3.639551  \n",
       "2               duration   7.231950  \n",
       "3               duration   2.787405  \n",
       "4               duration   6.092460  "
      ]
     },
     "execution_count": 27,
     "metadata": {},
     "output_type": "execute_result"
    }
   ],
   "source": [
    "cols = ['Machine Learning Method', 'Test Accuracy', 'Best Parameter', 'Top Predictor Variable', 'Run Time']\n",
    "df2 = pd.DataFrame(columns=cols)\n",
    "\n",
    "df2.loc[0] = a\n",
    "df2.loc[1] = b\n",
    "df2.loc[2] = c\n",
    "df2.loc[3] = d\n",
    "df2.loc[4] = e\n",
    "\n",
    "df2"
   ]
  },
  {
   "cell_type": "code",
   "execution_count": null,
   "metadata": {
    "id": "Qmg3kduN_z-O"
   },
   "outputs": [],
   "source": []
  }
 ],
 "metadata": {
  "colab": {
   "collapsed_sections": [
    "jMmIJLd9_z-G",
    "KEEWB59r_z-H",
    "SGgslmKj_z-I",
    "W5niNoh9_z-K",
    "DQLyv6ke_z-K"
   ],
   "name": "Notebook 5B Auto ML Example 1 Bank Marketing Data.ipynb",
   "provenance": []
  },
  "kernelspec": {
   "display_name": "Python 3",
   "language": "python",
   "name": "python3"
  },
  "language_info": {
   "codemirror_mode": {
    "name": "ipython",
    "version": 3
   },
   "file_extension": ".py",
   "mimetype": "text/x-python",
   "name": "python",
   "nbconvert_exporter": "python",
   "pygments_lexer": "ipython3",
   "version": "3.8.10"
  }
 },
 "nbformat": 4,
 "nbformat_minor": 4
}
