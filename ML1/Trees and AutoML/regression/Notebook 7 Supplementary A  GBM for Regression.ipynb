{
 "cells": [
  {
   "cell_type": "markdown",
   "metadata": {
    "id": "U2flGaEJw47_"
   },
   "source": [
    "# Notebook 7 Supplementary A: Demonstration of how Gradient Boosting Method (GBM) works for Regression.\n",
    "\n",
    "Created by Christopher Monterola\n",
    "\n",
    "A step-by-step process demonstrating how GBM combines gradient descent with weak decision tree learners in building one of the winningest algorithm in machine learning."
   ]
  },
  {
   "cell_type": "code",
   "execution_count": 1,
   "metadata": {
    "executionInfo": {
     "elapsed": 4,
     "status": "ok",
     "timestamp": 1629302613930,
     "user": {
      "displayName": "Christopher Monterola",
      "photoUrl": "https://lh3.googleusercontent.com/a-/AOh14GiyxV9CUZD54GBpsQkscS6VRBjebHtFASKcOq-_Lw=s64",
      "userId": "07920169693232563668"
     },
     "user_tz": -480
    },
    "id": "Ehwh0oxJw48F"
   },
   "outputs": [],
   "source": [
    "import numpy as np\n",
    "import pandas as pd\n",
    "%matplotlib inline\n",
    "import matplotlib.pyplot as plt\n"
   ]
  },
  {
   "cell_type": "markdown",
   "metadata": {
    "id": "fDmtrXfRw48G"
   },
   "source": [
    "# Illustration 1. Regression using Weight data\n",
    "\n",
    "Let's start by using a very simple example, predicting weight based on gender, age, height.  "
   ]
  },
  {
   "cell_type": "code",
   "execution_count": 2,
   "metadata": {
    "colab": {
     "base_uri": "https://localhost:8080/"
    },
    "executionInfo": {
     "elapsed": 31131,
     "status": "ok",
     "timestamp": 1629302645447,
     "user": {
      "displayName": "Christopher Monterola",
      "photoUrl": "https://lh3.googleusercontent.com/a-/AOh14GiyxV9CUZD54GBpsQkscS6VRBjebHtFASKcOq-_Lw=s64",
      "userId": "07920169693232563668"
     },
     "user_tz": -480
    },
    "id": "WVvWdyLdxCVe",
    "outputId": "9ebd7150-ad23-4e4a-f5aa-32364530b212"
   },
   "outputs": [
    {
     "name": "stdout",
     "output_type": "stream",
     "text": [
      "Mounted at /content/drive\n"
     ]
    }
   ],
   "source": [
    "# from google.colab import drive\n",
    "# drive.mount('/content/drive')"
   ]
  },
  {
   "cell_type": "code",
   "execution_count": 3,
   "metadata": {
    "executionInfo": {
     "elapsed": 7,
     "status": "ok",
     "timestamp": 1629302645448,
     "user": {
      "displayName": "Christopher Monterola",
      "photoUrl": "https://lh3.googleusercontent.com/a-/AOh14GiyxV9CUZD54GBpsQkscS6VRBjebHtFASKcOq-_Lw=s64",
      "userId": "07920169693232563668"
     },
     "user_tz": -480
    },
    "id": "FGn-tKImxP1z"
   },
   "outputs": [],
   "source": [
    "data_dir = '/content/drive/MyDrive/Teaching/ML1_MSDS2022/Notebook 7/'"
   ]
  },
  {
   "cell_type": "code",
   "execution_count": 4,
   "metadata": {
    "colab": {
     "base_uri": "https://localhost:8080/",
     "height": 204
    },
    "executionInfo": {
     "elapsed": 941,
     "status": "ok",
     "timestamp": 1629302646385,
     "user": {
      "displayName": "Christopher Monterola",
      "photoUrl": "https://lh3.googleusercontent.com/a-/AOh14GiyxV9CUZD54GBpsQkscS6VRBjebHtFASKcOq-_Lw=s64",
      "userId": "07920169693232563668"
     },
     "user_tz": -480
    },
    "id": "Ms_olAIqw48G",
    "outputId": "cbcdc3b6-558b-4ef6-8858-7683bea6432f"
   },
   "outputs": [
    {
     "data": {
      "text/html": [
       "<div>\n",
       "<style scoped>\n",
       "    .dataframe tbody tr th:only-of-type {\n",
       "        vertical-align: middle;\n",
       "    }\n",
       "\n",
       "    .dataframe tbody tr th {\n",
       "        vertical-align: top;\n",
       "    }\n",
       "\n",
       "    .dataframe thead th {\n",
       "        text-align: right;\n",
       "    }\n",
       "</style>\n",
       "<table border=\"1\" class=\"dataframe\">\n",
       "  <thead>\n",
       "    <tr style=\"text-align: right;\">\n",
       "      <th></th>\n",
       "      <th>Height</th>\n",
       "      <th>Gender</th>\n",
       "      <th>Age</th>\n",
       "      <th>Weight</th>\n",
       "    </tr>\n",
       "  </thead>\n",
       "  <tbody>\n",
       "    <tr>\n",
       "      <th>0</th>\n",
       "      <td>1.6</td>\n",
       "      <td>Male</td>\n",
       "      <td>13</td>\n",
       "      <td>70</td>\n",
       "    </tr>\n",
       "    <tr>\n",
       "      <th>1</th>\n",
       "      <td>1.7</td>\n",
       "      <td>Male</td>\n",
       "      <td>43</td>\n",
       "      <td>79</td>\n",
       "    </tr>\n",
       "    <tr>\n",
       "      <th>2</th>\n",
       "      <td>1.4</td>\n",
       "      <td>Male</td>\n",
       "      <td>10</td>\n",
       "      <td>36</td>\n",
       "    </tr>\n",
       "    <tr>\n",
       "      <th>3</th>\n",
       "      <td>1.5</td>\n",
       "      <td>Female</td>\n",
       "      <td>35</td>\n",
       "      <td>65</td>\n",
       "    </tr>\n",
       "    <tr>\n",
       "      <th>4</th>\n",
       "      <td>1.4</td>\n",
       "      <td>Female</td>\n",
       "      <td>27</td>\n",
       "      <td>60</td>\n",
       "    </tr>\n",
       "  </tbody>\n",
       "</table>\n",
       "</div>"
      ],
      "text/plain": [
       "   Height  Gender  Age  Weight\n",
       "0     1.6    Male   13      70\n",
       "1     1.7    Male   43      79\n",
       "2     1.4    Male   10      36\n",
       "3     1.5  Female   35      65\n",
       "4     1.4  Female   27      60"
      ]
     },
     "execution_count": 4,
     "metadata": {
      "tags": []
     },
     "output_type": "execute_result"
    }
   ],
   "source": [
    "df_weight = pd.read_excel(data_dir +'weight_data.xlsx', sheet_name=\"Sheet1\")\n",
    "dummy=df_weight\n",
    "df_weight"
   ]
  },
  {
   "cell_type": "markdown",
   "metadata": {
    "id": "jtVjPipHw48H"
   },
   "source": [
    "Let's set the *Weight* to be the target variable and limit the features to *Height*, *Gender* and *Age*."
   ]
  },
  {
   "cell_type": "code",
   "execution_count": 5,
   "metadata": {
    "colab": {
     "base_uri": "https://localhost:8080/",
     "height": 204
    },
    "executionInfo": {
     "elapsed": 24,
     "status": "ok",
     "timestamp": 1629302646385,
     "user": {
      "displayName": "Christopher Monterola",
      "photoUrl": "https://lh3.googleusercontent.com/a-/AOh14GiyxV9CUZD54GBpsQkscS6VRBjebHtFASKcOq-_Lw=s64",
      "userId": "07920169693232563668"
     },
     "user_tz": -480
    },
    "id": "cvcYbYxsw48I",
    "outputId": "ec796550-3029-493e-a989-f52a969582b0"
   },
   "outputs": [
    {
     "data": {
      "text/html": [
       "<div>\n",
       "<style scoped>\n",
       "    .dataframe tbody tr th:only-of-type {\n",
       "        vertical-align: middle;\n",
       "    }\n",
       "\n",
       "    .dataframe tbody tr th {\n",
       "        vertical-align: top;\n",
       "    }\n",
       "\n",
       "    .dataframe thead th {\n",
       "        text-align: right;\n",
       "    }\n",
       "</style>\n",
       "<table border=\"1\" class=\"dataframe\">\n",
       "  <thead>\n",
       "    <tr style=\"text-align: right;\">\n",
       "      <th></th>\n",
       "      <th>Height</th>\n",
       "      <th>Gender</th>\n",
       "      <th>Age</th>\n",
       "    </tr>\n",
       "  </thead>\n",
       "  <tbody>\n",
       "    <tr>\n",
       "      <th>0</th>\n",
       "      <td>1.6</td>\n",
       "      <td>Male</td>\n",
       "      <td>13</td>\n",
       "    </tr>\n",
       "    <tr>\n",
       "      <th>1</th>\n",
       "      <td>1.7</td>\n",
       "      <td>Male</td>\n",
       "      <td>43</td>\n",
       "    </tr>\n",
       "    <tr>\n",
       "      <th>2</th>\n",
       "      <td>1.4</td>\n",
       "      <td>Male</td>\n",
       "      <td>10</td>\n",
       "    </tr>\n",
       "    <tr>\n",
       "      <th>3</th>\n",
       "      <td>1.5</td>\n",
       "      <td>Female</td>\n",
       "      <td>35</td>\n",
       "    </tr>\n",
       "    <tr>\n",
       "      <th>4</th>\n",
       "      <td>1.4</td>\n",
       "      <td>Female</td>\n",
       "      <td>27</td>\n",
       "    </tr>\n",
       "  </tbody>\n",
       "</table>\n",
       "</div>"
      ],
      "text/plain": [
       "   Height  Gender  Age\n",
       "0     1.6    Male   13\n",
       "1     1.7    Male   43\n",
       "2     1.4    Male   10\n",
       "3     1.5  Female   35\n",
       "4     1.4  Female   27"
      ]
     },
     "execution_count": 5,
     "metadata": {
      "tags": []
     },
     "output_type": "execute_result"
    }
   ],
   "source": [
    "df_features=dummy.drop('Weight', axis=1)\n",
    "len(df_features)\n",
    "df_features.head()"
   ]
  },
  {
   "cell_type": "markdown",
   "metadata": {
    "id": "SppqqtXlw48I"
   },
   "source": [
    "Encode *Gender* to be 1 for *Male* and 0 for *Female*."
   ]
  },
  {
   "cell_type": "code",
   "execution_count": 6,
   "metadata": {
    "colab": {
     "base_uri": "https://localhost:8080/",
     "height": 204
    },
    "executionInfo": {
     "elapsed": 23,
     "status": "ok",
     "timestamp": 1629302646386,
     "user": {
      "displayName": "Christopher Monterola",
      "photoUrl": "https://lh3.googleusercontent.com/a-/AOh14GiyxV9CUZD54GBpsQkscS6VRBjebHtFASKcOq-_Lw=s64",
      "userId": "07920169693232563668"
     },
     "user_tz": -480
    },
    "id": "-3wcHHgvw48I",
    "outputId": "f5b5ce13-8e6b-412f-ecdb-8143b8426e4e"
   },
   "outputs": [
    {
     "data": {
      "text/html": [
       "<div>\n",
       "<style scoped>\n",
       "    .dataframe tbody tr th:only-of-type {\n",
       "        vertical-align: middle;\n",
       "    }\n",
       "\n",
       "    .dataframe tbody tr th {\n",
       "        vertical-align: top;\n",
       "    }\n",
       "\n",
       "    .dataframe thead th {\n",
       "        text-align: right;\n",
       "    }\n",
       "</style>\n",
       "<table border=\"1\" class=\"dataframe\">\n",
       "  <thead>\n",
       "    <tr style=\"text-align: right;\">\n",
       "      <th></th>\n",
       "      <th>Height</th>\n",
       "      <th>Gender</th>\n",
       "      <th>Age</th>\n",
       "    </tr>\n",
       "  </thead>\n",
       "  <tbody>\n",
       "    <tr>\n",
       "      <th>0</th>\n",
       "      <td>1.6</td>\n",
       "      <td>1</td>\n",
       "      <td>13</td>\n",
       "    </tr>\n",
       "    <tr>\n",
       "      <th>1</th>\n",
       "      <td>1.7</td>\n",
       "      <td>1</td>\n",
       "      <td>43</td>\n",
       "    </tr>\n",
       "    <tr>\n",
       "      <th>2</th>\n",
       "      <td>1.4</td>\n",
       "      <td>1</td>\n",
       "      <td>10</td>\n",
       "    </tr>\n",
       "    <tr>\n",
       "      <th>3</th>\n",
       "      <td>1.5</td>\n",
       "      <td>0</td>\n",
       "      <td>35</td>\n",
       "    </tr>\n",
       "    <tr>\n",
       "      <th>4</th>\n",
       "      <td>1.4</td>\n",
       "      <td>0</td>\n",
       "      <td>27</td>\n",
       "    </tr>\n",
       "  </tbody>\n",
       "</table>\n",
       "</div>"
      ],
      "text/plain": [
       "   Height  Gender  Age\n",
       "0     1.6       1   13\n",
       "1     1.7       1   43\n",
       "2     1.4       1   10\n",
       "3     1.5       0   35\n",
       "4     1.4       0   27"
      ]
     },
     "execution_count": 6,
     "metadata": {
      "tags": []
     },
     "output_type": "execute_result"
    }
   ],
   "source": [
    "Gender_mapping = {\n",
    "'Male': 1,\n",
    "'Female': 0}\n",
    "df_features['Gender'] = df_features['Gender'].map(Gender_mapping)\n",
    "df_features"
   ]
  },
  {
   "cell_type": "code",
   "execution_count": 7,
   "metadata": {
    "colab": {
     "base_uri": "https://localhost:8080/"
    },
    "executionInfo": {
     "elapsed": 23,
     "status": "ok",
     "timestamp": 1629302646387,
     "user": {
      "displayName": "Christopher Monterola",
      "photoUrl": "https://lh3.googleusercontent.com/a-/AOh14GiyxV9CUZD54GBpsQkscS6VRBjebHtFASKcOq-_Lw=s64",
      "userId": "07920169693232563668"
     },
     "user_tz": -480
    },
    "id": "H-gBYc2Hw48J",
    "outputId": "d690727b-73e0-434d-d1c8-f2c8db7286aa"
   },
   "outputs": [
    {
     "data": {
      "text/plain": [
       "(   Height  Gender  Age\n",
       " 0     1.6       1   13\n",
       " 1     1.7       1   43\n",
       " 2     1.4       1   10\n",
       " 3     1.5       0   35\n",
       " 4     1.4       0   27,)"
      ]
     },
     "execution_count": 7,
     "metadata": {
      "tags": []
     },
     "output_type": "execute_result"
    }
   ],
   "source": [
    "df_features,"
   ]
  },
  {
   "cell_type": "code",
   "execution_count": 8,
   "metadata": {
    "colab": {
     "base_uri": "https://localhost:8080/"
    },
    "executionInfo": {
     "elapsed": 21,
     "status": "ok",
     "timestamp": 1629302646387,
     "user": {
      "displayName": "Christopher Monterola",
      "photoUrl": "https://lh3.googleusercontent.com/a-/AOh14GiyxV9CUZD54GBpsQkscS6VRBjebHtFASKcOq-_Lw=s64",
      "userId": "07920169693232563668"
     },
     "user_tz": -480
    },
    "id": "YLj2NUyrw48J",
    "outputId": "f23e1e3c-3bf8-4ce1-c46a-87fa4d56f0dc"
   },
   "outputs": [
    {
     "data": {
      "text/plain": [
       "Index(['Height', 'Gender', 'Age'], dtype='object')"
      ]
     },
     "execution_count": 8,
     "metadata": {
      "tags": []
     },
     "output_type": "execute_result"
    }
   ],
   "source": [
    "df_features.columns"
   ]
  },
  {
   "cell_type": "code",
   "execution_count": 9,
   "metadata": {
    "colab": {
     "base_uri": "https://localhost:8080/"
    },
    "executionInfo": {
     "elapsed": 19,
     "status": "ok",
     "timestamp": 1629302646387,
     "user": {
      "displayName": "Christopher Monterola",
      "photoUrl": "https://lh3.googleusercontent.com/a-/AOh14GiyxV9CUZD54GBpsQkscS6VRBjebHtFASKcOq-_Lw=s64",
      "userId": "07920169693232563668"
     },
     "user_tz": -480
    },
    "id": "oHQ1FrUaw48J",
    "outputId": "41754404-2ec8-4a8e-85c6-40415a31fa24"
   },
   "outputs": [
    {
     "data": {
      "text/plain": [
       "0    70\n",
       "1    79\n",
       "2    36\n",
       "3    65\n",
       "4    60\n",
       "Name: Weight, dtype: int64"
      ]
     },
     "execution_count": 9,
     "metadata": {
      "tags": []
     },
     "output_type": "execute_result"
    }
   ],
   "source": [
    "dummy['Weight']"
   ]
  },
  {
   "cell_type": "markdown",
   "metadata": {
    "id": "ojKA-ZxTw48K"
   },
   "source": [
    "# Step 1: Make the first approximation of predicted weight by minimizing the cost function C.\n",
    "\n",
    "The Cost function $C$ is given by: $C =\\sum_i \\frac{1}{2} (y_i- y_{pred_i})^2$\n",
    "\n",
    "Solving for $y_{pred_i}$ that will minimize $C$, we have : $\\frac{\\partial C}{\\partial y_{pred_i}}= \\frac{1}{2} \\sum_i \\frac{\\partial (y_i- y_{pred_i})^2}{\\partial y_{pred_i}} =0$   \n",
    "\n",
    "To solve the problem initially, let's assume $\\gamma = y_{pred_i}=$ constant, hence, $\\gamma = <y_i>$. Therefore, the first approximation of gradient method for the predicted weight for all the cases is just the average of the $Weight$ of all samples. \n"
   ]
  },
  {
   "cell_type": "code",
   "execution_count": 10,
   "metadata": {
    "colab": {
     "base_uri": "https://localhost:8080/"
    },
    "executionInfo": {
     "elapsed": 19,
     "status": "ok",
     "timestamp": 1629302646388,
     "user": {
      "displayName": "Christopher Monterola",
      "photoUrl": "https://lh3.googleusercontent.com/a-/AOh14GiyxV9CUZD54GBpsQkscS6VRBjebHtFASKcOq-_Lw=s64",
      "userId": "07920169693232563668"
     },
     "user_tz": -480
    },
    "id": "3WFaesgsw48K",
    "outputId": "84f08176-1ac6-4592-e020-40a4bf7bb154"
   },
   "outputs": [
    {
     "data": {
      "text/plain": [
       "[62.0, 62.0, 62.0, 62.0, 62.0]"
      ]
     },
     "execution_count": 10,
     "metadata": {
      "tags": []
     },
     "output_type": "execute_result"
    }
   ],
   "source": [
    "Prediction_0= 5*[np.mean(dummy['Weight'])]\n",
    "Prediction_0"
   ]
  },
  {
   "cell_type": "code",
   "execution_count": 11,
   "metadata": {
    "colab": {
     "base_uri": "https://localhost:8080/",
     "height": 0
    },
    "executionInfo": {
     "elapsed": 17,
     "status": "ok",
     "timestamp": 1629302646388,
     "user": {
      "displayName": "Christopher Monterola",
      "photoUrl": "https://lh3.googleusercontent.com/a-/AOh14GiyxV9CUZD54GBpsQkscS6VRBjebHtFASKcOq-_Lw=s64",
      "userId": "07920169693232563668"
     },
     "user_tz": -480
    },
    "id": "DFyfCa0rw48K",
    "outputId": "ae1da36e-8e97-460a-9945-da992e885727"
   },
   "outputs": [
    {
     "data": {
      "text/html": [
       "<div>\n",
       "<style scoped>\n",
       "    .dataframe tbody tr th:only-of-type {\n",
       "        vertical-align: middle;\n",
       "    }\n",
       "\n",
       "    .dataframe tbody tr th {\n",
       "        vertical-align: top;\n",
       "    }\n",
       "\n",
       "    .dataframe thead th {\n",
       "        text-align: right;\n",
       "    }\n",
       "</style>\n",
       "<table border=\"1\" class=\"dataframe\">\n",
       "  <thead>\n",
       "    <tr style=\"text-align: right;\">\n",
       "      <th></th>\n",
       "      <th>Height</th>\n",
       "      <th>Gender</th>\n",
       "      <th>Age</th>\n",
       "      <th>Weight</th>\n",
       "      <th>Prediction_0</th>\n",
       "    </tr>\n",
       "  </thead>\n",
       "  <tbody>\n",
       "    <tr>\n",
       "      <th>0</th>\n",
       "      <td>1.6</td>\n",
       "      <td>Male</td>\n",
       "      <td>13</td>\n",
       "      <td>70</td>\n",
       "      <td>62.0</td>\n",
       "    </tr>\n",
       "    <tr>\n",
       "      <th>1</th>\n",
       "      <td>1.7</td>\n",
       "      <td>Male</td>\n",
       "      <td>43</td>\n",
       "      <td>79</td>\n",
       "      <td>62.0</td>\n",
       "    </tr>\n",
       "    <tr>\n",
       "      <th>2</th>\n",
       "      <td>1.4</td>\n",
       "      <td>Male</td>\n",
       "      <td>10</td>\n",
       "      <td>36</td>\n",
       "      <td>62.0</td>\n",
       "    </tr>\n",
       "    <tr>\n",
       "      <th>3</th>\n",
       "      <td>1.5</td>\n",
       "      <td>Female</td>\n",
       "      <td>35</td>\n",
       "      <td>65</td>\n",
       "      <td>62.0</td>\n",
       "    </tr>\n",
       "    <tr>\n",
       "      <th>4</th>\n",
       "      <td>1.4</td>\n",
       "      <td>Female</td>\n",
       "      <td>27</td>\n",
       "      <td>60</td>\n",
       "      <td>62.0</td>\n",
       "    </tr>\n",
       "  </tbody>\n",
       "</table>\n",
       "</div>"
      ],
      "text/plain": [
       "   Height  Gender  Age  Weight  Prediction_0\n",
       "0     1.6    Male   13      70          62.0\n",
       "1     1.7    Male   43      79          62.0\n",
       "2     1.4    Male   10      36          62.0\n",
       "3     1.5  Female   35      65          62.0\n",
       "4     1.4  Female   27      60          62.0"
      ]
     },
     "execution_count": 11,
     "metadata": {
      "tags": []
     },
     "output_type": "execute_result"
    }
   ],
   "source": [
    "dummy = dummy.assign(Prediction_0 = Prediction_0 )\n",
    "dummy"
   ]
  },
  {
   "cell_type": "markdown",
   "metadata": {
    "id": "lGiyEn00w48M"
   },
   "source": [
    "Calculate the residual by calculating the gradient $\\Delta_i$ (hence, the Gradient term in the G of GBM) with respect to the predicted value : $\\Delta_i= \\frac{\\partial C}{\\partial y_{pred_i}}= \\frac{1}{2} \\sum_i \\frac{\\partial (y_i- y_{pred_i})^2}{\\partial y_{pred_i}}$"
   ]
  },
  {
   "cell_type": "code",
   "execution_count": 12,
   "metadata": {
    "colab": {
     "base_uri": "https://localhost:8080/"
    },
    "executionInfo": {
     "elapsed": 16,
     "status": "ok",
     "timestamp": 1629302646389,
     "user": {
      "displayName": "Christopher Monterola",
      "photoUrl": "https://lh3.googleusercontent.com/a-/AOh14GiyxV9CUZD54GBpsQkscS6VRBjebHtFASKcOq-_Lw=s64",
      "userId": "07920169693232563668"
     },
     "user_tz": -480
    },
    "id": "hfevh9SBw48N",
    "outputId": "d5ad16a6-0b24-410e-c524-a1eced4e2a45"
   },
   "outputs": [
    {
     "data": {
      "text/plain": [
       "0     8.0\n",
       "1    17.0\n",
       "2   -26.0\n",
       "3     3.0\n",
       "4    -2.0\n",
       "Name: Weight, dtype: float64"
      ]
     },
     "execution_count": 12,
     "metadata": {
      "tags": []
     },
     "output_type": "execute_result"
    }
   ],
   "source": [
    "Residual = dummy['Weight'] - np.mean(dummy['Weight'])\n",
    "Residual"
   ]
  },
  {
   "cell_type": "code",
   "execution_count": 13,
   "metadata": {
    "colab": {
     "base_uri": "https://localhost:8080/",
     "height": 0
    },
    "executionInfo": {
     "elapsed": 15,
     "status": "ok",
     "timestamp": 1629302646389,
     "user": {
      "displayName": "Christopher Monterola",
      "photoUrl": "https://lh3.googleusercontent.com/a-/AOh14GiyxV9CUZD54GBpsQkscS6VRBjebHtFASKcOq-_Lw=s64",
      "userId": "07920169693232563668"
     },
     "user_tz": -480
    },
    "id": "9cOpmYWqw48N",
    "outputId": "0eec6072-5b42-4e6d-fd3d-d37827e8965f"
   },
   "outputs": [
    {
     "data": {
      "text/html": [
       "<div>\n",
       "<style scoped>\n",
       "    .dataframe tbody tr th:only-of-type {\n",
       "        vertical-align: middle;\n",
       "    }\n",
       "\n",
       "    .dataframe tbody tr th {\n",
       "        vertical-align: top;\n",
       "    }\n",
       "\n",
       "    .dataframe thead th {\n",
       "        text-align: right;\n",
       "    }\n",
       "</style>\n",
       "<table border=\"1\" class=\"dataframe\">\n",
       "  <thead>\n",
       "    <tr style=\"text-align: right;\">\n",
       "      <th></th>\n",
       "      <th>Height</th>\n",
       "      <th>Gender</th>\n",
       "      <th>Age</th>\n",
       "      <th>Weight</th>\n",
       "      <th>Prediction_0</th>\n",
       "      <th>Residual1</th>\n",
       "    </tr>\n",
       "  </thead>\n",
       "  <tbody>\n",
       "    <tr>\n",
       "      <th>0</th>\n",
       "      <td>1.6</td>\n",
       "      <td>Male</td>\n",
       "      <td>13</td>\n",
       "      <td>70</td>\n",
       "      <td>62.0</td>\n",
       "      <td>8.0</td>\n",
       "    </tr>\n",
       "    <tr>\n",
       "      <th>1</th>\n",
       "      <td>1.7</td>\n",
       "      <td>Male</td>\n",
       "      <td>43</td>\n",
       "      <td>79</td>\n",
       "      <td>62.0</td>\n",
       "      <td>17.0</td>\n",
       "    </tr>\n",
       "    <tr>\n",
       "      <th>2</th>\n",
       "      <td>1.4</td>\n",
       "      <td>Male</td>\n",
       "      <td>10</td>\n",
       "      <td>36</td>\n",
       "      <td>62.0</td>\n",
       "      <td>-26.0</td>\n",
       "    </tr>\n",
       "    <tr>\n",
       "      <th>3</th>\n",
       "      <td>1.5</td>\n",
       "      <td>Female</td>\n",
       "      <td>35</td>\n",
       "      <td>65</td>\n",
       "      <td>62.0</td>\n",
       "      <td>3.0</td>\n",
       "    </tr>\n",
       "    <tr>\n",
       "      <th>4</th>\n",
       "      <td>1.4</td>\n",
       "      <td>Female</td>\n",
       "      <td>27</td>\n",
       "      <td>60</td>\n",
       "      <td>62.0</td>\n",
       "      <td>-2.0</td>\n",
       "    </tr>\n",
       "  </tbody>\n",
       "</table>\n",
       "</div>"
      ],
      "text/plain": [
       "   Height  Gender  Age  Weight  Prediction_0  Residual1\n",
       "0     1.6    Male   13      70          62.0        8.0\n",
       "1     1.7    Male   43      79          62.0       17.0\n",
       "2     1.4    Male   10      36          62.0      -26.0\n",
       "3     1.5  Female   35      65          62.0        3.0\n",
       "4     1.4  Female   27      60          62.0       -2.0"
      ]
     },
     "execution_count": 13,
     "metadata": {
      "tags": []
     },
     "output_type": "execute_result"
    }
   ],
   "source": [
    "dummy = dummy.assign(Residual1 = Residual)\n",
    "dummy"
   ]
  },
  {
   "cell_type": "markdown",
   "metadata": {
    "id": "zbEVFxY3w48N"
   },
   "source": [
    "# Step 2: Use decision tree in predicting the *pseudo-residual* of the predicted weight."
   ]
  },
  {
   "cell_type": "code",
   "execution_count": 14,
   "metadata": {
    "colab": {
     "base_uri": "https://localhost:8080/"
    },
    "executionInfo": {
     "elapsed": 1161,
     "status": "ok",
     "timestamp": 1629302647536,
     "user": {
      "displayName": "Christopher Monterola",
      "photoUrl": "https://lh3.googleusercontent.com/a-/AOh14GiyxV9CUZD54GBpsQkscS6VRBjebHtFASKcOq-_Lw=s64",
      "userId": "07920169693232563668"
     },
     "user_tz": -480
    },
    "id": "rxCghR1fw48N",
    "outputId": "45da6df7-18f0-4f85-f101-a1a32c050d0f"
   },
   "outputs": [
    {
     "data": {
      "text/plain": [
       "DecisionTreeRegressor(ccp_alpha=0.0, criterion='mse', max_depth=3,\n",
       "                      max_features=None, max_leaf_nodes=None,\n",
       "                      min_impurity_decrease=0.0, min_impurity_split=None,\n",
       "                      min_samples_leaf=1, min_samples_split=2,\n",
       "                      min_weight_fraction_leaf=0.0, presort='deprecated',\n",
       "                      random_state=0, splitter='best')"
      ]
     },
     "execution_count": 14,
     "metadata": {
      "tags": []
     },
     "output_type": "execute_result"
    }
   ],
   "source": [
    "from sklearn.tree import DecisionTreeRegressor\n",
    "\n",
    "dec_tree = DecisionTreeRegressor(max_depth=3, random_state=0)\n",
    "dec_tree.fit(df_features, dummy['Residual1'])"
   ]
  },
  {
   "cell_type": "code",
   "execution_count": 15,
   "metadata": {
    "executionInfo": {
     "elapsed": 6,
     "status": "ok",
     "timestamp": 1629302647537,
     "user": {
      "displayName": "Christopher Monterola",
      "photoUrl": "https://lh3.googleusercontent.com/a-/AOh14GiyxV9CUZD54GBpsQkscS6VRBjebHtFASKcOq-_Lw=s64",
      "userId": "07920169693232563668"
     },
     "user_tz": -480
    },
    "id": "6bq5xtpvw48O"
   },
   "outputs": [],
   "source": [
    "from sklearn.tree import export_graphviz\n",
    "\n",
    "export_graphviz(dec_tree, out_file=\"mytree.dot\", feature_names=df_features.columns, filled=True)"
   ]
  },
  {
   "cell_type": "code",
   "execution_count": 16,
   "metadata": {
    "colab": {
     "base_uri": "https://localhost:8080/",
     "height": 0
    },
    "executionInfo": {
     "elapsed": 6,
     "status": "ok",
     "timestamp": 1629302647537,
     "user": {
      "displayName": "Christopher Monterola",
      "photoUrl": "https://lh3.googleusercontent.com/a-/AOh14GiyxV9CUZD54GBpsQkscS6VRBjebHtFASKcOq-_Lw=s64",
      "userId": "07920169693232563668"
     },
     "user_tz": -480
    },
    "id": "yOEvWaZqw48O",
    "outputId": "1e5061dc-6d72-413a-e5d6-ac6c4c8105c7"
   },
   "outputs": [
    {
     "data": {
      "text/html": [
       "<div>\n",
       "<style scoped>\n",
       "    .dataframe tbody tr th:only-of-type {\n",
       "        vertical-align: middle;\n",
       "    }\n",
       "\n",
       "    .dataframe tbody tr th {\n",
       "        vertical-align: top;\n",
       "    }\n",
       "\n",
       "    .dataframe thead th {\n",
       "        text-align: right;\n",
       "    }\n",
       "</style>\n",
       "<table border=\"1\" class=\"dataframe\">\n",
       "  <thead>\n",
       "    <tr style=\"text-align: right;\">\n",
       "      <th></th>\n",
       "      <th>Height</th>\n",
       "      <th>Gender</th>\n",
       "      <th>Age</th>\n",
       "      <th>Weight</th>\n",
       "      <th>Prediction_0</th>\n",
       "      <th>Residual1</th>\n",
       "    </tr>\n",
       "  </thead>\n",
       "  <tbody>\n",
       "    <tr>\n",
       "      <th>0</th>\n",
       "      <td>1.6</td>\n",
       "      <td>Male</td>\n",
       "      <td>13</td>\n",
       "      <td>70</td>\n",
       "      <td>62.0</td>\n",
       "      <td>8.0</td>\n",
       "    </tr>\n",
       "    <tr>\n",
       "      <th>1</th>\n",
       "      <td>1.7</td>\n",
       "      <td>Male</td>\n",
       "      <td>43</td>\n",
       "      <td>79</td>\n",
       "      <td>62.0</td>\n",
       "      <td>17.0</td>\n",
       "    </tr>\n",
       "    <tr>\n",
       "      <th>2</th>\n",
       "      <td>1.4</td>\n",
       "      <td>Male</td>\n",
       "      <td>10</td>\n",
       "      <td>36</td>\n",
       "      <td>62.0</td>\n",
       "      <td>-26.0</td>\n",
       "    </tr>\n",
       "    <tr>\n",
       "      <th>3</th>\n",
       "      <td>1.5</td>\n",
       "      <td>Female</td>\n",
       "      <td>35</td>\n",
       "      <td>65</td>\n",
       "      <td>62.0</td>\n",
       "      <td>3.0</td>\n",
       "    </tr>\n",
       "    <tr>\n",
       "      <th>4</th>\n",
       "      <td>1.4</td>\n",
       "      <td>Female</td>\n",
       "      <td>27</td>\n",
       "      <td>60</td>\n",
       "      <td>62.0</td>\n",
       "      <td>-2.0</td>\n",
       "    </tr>\n",
       "  </tbody>\n",
       "</table>\n",
       "</div>"
      ],
      "text/plain": [
       "   Height  Gender  Age  Weight  Prediction_0  Residual1\n",
       "0     1.6    Male   13      70          62.0        8.0\n",
       "1     1.7    Male   43      79          62.0       17.0\n",
       "2     1.4    Male   10      36          62.0      -26.0\n",
       "3     1.5  Female   35      65          62.0        3.0\n",
       "4     1.4  Female   27      60          62.0       -2.0"
      ]
     },
     "execution_count": 16,
     "metadata": {
      "tags": []
     },
     "output_type": "execute_result"
    }
   ],
   "source": [
    "dummy = dummy.assign(Residual1 = Residual)\n",
    "dummy"
   ]
  },
  {
   "cell_type": "code",
   "execution_count": 17,
   "metadata": {
    "colab": {
     "base_uri": "https://localhost:8080/",
     "height": 0
    },
    "executionInfo": {
     "elapsed": 515,
     "status": "ok",
     "timestamp": 1629302648048,
     "user": {
      "displayName": "Christopher Monterola",
      "photoUrl": "https://lh3.googleusercontent.com/a-/AOh14GiyxV9CUZD54GBpsQkscS6VRBjebHtFASKcOq-_Lw=s64",
      "userId": "07920169693232563668"
     },
     "user_tz": -480
    },
    "id": "erWf_vlWw48O",
    "outputId": "7eed0219-e534-4921-9946-590766a026c6"
   },
   "outputs": [
    {
     "data": {
      "image/svg+xml": [
       "<?xml version=\"1.0\" encoding=\"UTF-8\" standalone=\"no\"?>\n",
       "<!DOCTYPE svg PUBLIC \"-//W3C//DTD SVG 1.1//EN\"\n",
       " \"http://www.w3.org/Graphics/SVG/1.1/DTD/svg11.dtd\">\n",
       "<!-- Generated by graphviz version 2.40.1 (20161225.0304)\n",
       " -->\n",
       "<!-- Title: Tree Pages: 1 -->\n",
       "<svg width=\"269pt\" height=\"373pt\"\n",
       " viewBox=\"0.00 0.00 268.50 373.00\" xmlns=\"http://www.w3.org/2000/svg\" xmlns:xlink=\"http://www.w3.org/1999/xlink\">\n",
       "<g id=\"graph0\" class=\"graph\" transform=\"scale(1 1) rotate(0) translate(4 369)\">\n",
       "<title>Tree</title>\n",
       "<polygon fill=\"#ffffff\" stroke=\"transparent\" points=\"-4,4 -4,-369 264.5,-369 264.5,4 -4,4\"/>\n",
       "<!-- 0 -->\n",
       "<g id=\"node1\" class=\"node\">\n",
       "<title>0</title>\n",
       "<polygon fill=\"#efb387\" stroke=\"#000000\" points=\"147,-365 57,-365 57,-297 147,-297 147,-365\"/>\n",
       "<text text-anchor=\"middle\" x=\"102\" y=\"-349.8\" font-family=\"Times,serif\" font-size=\"14.00\" fill=\"#000000\">Age &lt;= 11.5</text>\n",
       "<text text-anchor=\"middle\" x=\"102\" y=\"-334.8\" font-family=\"Times,serif\" font-size=\"14.00\" fill=\"#000000\">mse = 208.4</text>\n",
       "<text text-anchor=\"middle\" x=\"102\" y=\"-319.8\" font-family=\"Times,serif\" font-size=\"14.00\" fill=\"#000000\">samples = 5</text>\n",
       "<text text-anchor=\"middle\" x=\"102\" y=\"-304.8\" font-family=\"Times,serif\" font-size=\"14.00\" fill=\"#000000\">value = 0.0</text>\n",
       "</g>\n",
       "<!-- 1 -->\n",
       "<g id=\"node2\" class=\"node\">\n",
       "<title>1</title>\n",
       "<polygon fill=\"#ffffff\" stroke=\"#000000\" points=\"94,-253.5 0,-253.5 0,-200.5 94,-200.5 94,-253.5\"/>\n",
       "<text text-anchor=\"middle\" x=\"47\" y=\"-238.3\" font-family=\"Times,serif\" font-size=\"14.00\" fill=\"#000000\">mse = 0.0</text>\n",
       "<text text-anchor=\"middle\" x=\"47\" y=\"-223.3\" font-family=\"Times,serif\" font-size=\"14.00\" fill=\"#000000\">samples = 1</text>\n",
       "<text text-anchor=\"middle\" x=\"47\" y=\"-208.3\" font-family=\"Times,serif\" font-size=\"14.00\" fill=\"#000000\">value = &#45;26.0</text>\n",
       "</g>\n",
       "<!-- 0&#45;&gt;1 -->\n",
       "<g id=\"edge1\" class=\"edge\">\n",
       "<title>0&#45;&gt;1</title>\n",
       "<path fill=\"none\" stroke=\"#000000\" d=\"M83.9909,-296.9465C78.1658,-285.9316 71.693,-273.6922 65.8112,-262.5703\"/>\n",
       "<polygon fill=\"#000000\" stroke=\"#000000\" points=\"68.8057,-260.7459 61.0367,-253.5422 62.6178,-264.0184 68.8057,-260.7459\"/>\n",
       "<text text-anchor=\"middle\" x=\"53.674\" y=\"-273.7334\" font-family=\"Times,serif\" font-size=\"14.00\" fill=\"#000000\">True</text>\n",
       "</g>\n",
       "<!-- 2 -->\n",
       "<g id=\"node3\" class=\"node\">\n",
       "<title>2</title>\n",
       "<polygon fill=\"#eba069\" stroke=\"#000000\" points=\"203.5,-261 112.5,-261 112.5,-193 203.5,-193 203.5,-261\"/>\n",
       "<text text-anchor=\"middle\" x=\"158\" y=\"-245.8\" font-family=\"Times,serif\" font-size=\"14.00\" fill=\"#000000\">Age &lt;= 39.0</text>\n",
       "<text text-anchor=\"middle\" x=\"158\" y=\"-230.8\" font-family=\"Times,serif\" font-size=\"14.00\" fill=\"#000000\">mse = 49.25</text>\n",
       "<text text-anchor=\"middle\" x=\"158\" y=\"-215.8\" font-family=\"Times,serif\" font-size=\"14.00\" fill=\"#000000\">samples = 4</text>\n",
       "<text text-anchor=\"middle\" x=\"158\" y=\"-200.8\" font-family=\"Times,serif\" font-size=\"14.00\" fill=\"#000000\">value = 6.5</text>\n",
       "</g>\n",
       "<!-- 0&#45;&gt;2 -->\n",
       "<g id=\"edge2\" class=\"edge\">\n",
       "<title>0&#45;&gt;2</title>\n",
       "<path fill=\"none\" stroke=\"#000000\" d=\"M120.3365,-296.9465C124.9777,-288.3271 130.0227,-278.9579 134.8671,-269.9611\"/>\n",
       "<polygon fill=\"#000000\" stroke=\"#000000\" points=\"137.9629,-271.5941 139.6223,-261.13 131.7996,-268.2754 137.9629,-271.5941\"/>\n",
       "<text text-anchor=\"middle\" x=\"146.806\" y=\"-281.3757\" font-family=\"Times,serif\" font-size=\"14.00\" fill=\"#000000\">False</text>\n",
       "</g>\n",
       "<!-- 3 -->\n",
       "<g id=\"node4\" class=\"node\">\n",
       "<title>3</title>\n",
       "<polygon fill=\"#edaa79\" stroke=\"#000000\" points=\"153,-157 47,-157 47,-89 153,-89 153,-157\"/>\n",
       "<text text-anchor=\"middle\" x=\"100\" y=\"-141.8\" font-family=\"Times,serif\" font-size=\"14.00\" fill=\"#000000\">Height &lt;= 1.45</text>\n",
       "<text text-anchor=\"middle\" x=\"100\" y=\"-126.8\" font-family=\"Times,serif\" font-size=\"14.00\" fill=\"#000000\">mse = 16.667</text>\n",
       "<text text-anchor=\"middle\" x=\"100\" y=\"-111.8\" font-family=\"Times,serif\" font-size=\"14.00\" fill=\"#000000\">samples = 3</text>\n",
       "<text text-anchor=\"middle\" x=\"100\" y=\"-96.8\" font-family=\"Times,serif\" font-size=\"14.00\" fill=\"#000000\">value = 3.0</text>\n",
       "</g>\n",
       "<!-- 2&#45;&gt;3 -->\n",
       "<g id=\"edge3\" class=\"edge\">\n",
       "<title>2&#45;&gt;3</title>\n",
       "<path fill=\"none\" stroke=\"#000000\" d=\"M139.0086,-192.9465C134.2017,-184.3271 128.9765,-174.9579 123.9591,-165.9611\"/>\n",
       "<polygon fill=\"#000000\" stroke=\"#000000\" points=\"126.9615,-164.1589 119.034,-157.13 120.848,-167.5684 126.9615,-164.1589\"/>\n",
       "</g>\n",
       "<!-- 6 -->\n",
       "<g id=\"node7\" class=\"node\">\n",
       "<title>6</title>\n",
       "<polygon fill=\"#e58139\" stroke=\"#000000\" points=\"260.5,-149.5 171.5,-149.5 171.5,-96.5 260.5,-96.5 260.5,-149.5\"/>\n",
       "<text text-anchor=\"middle\" x=\"216\" y=\"-134.3\" font-family=\"Times,serif\" font-size=\"14.00\" fill=\"#000000\">mse = 0.0</text>\n",
       "<text text-anchor=\"middle\" x=\"216\" y=\"-119.3\" font-family=\"Times,serif\" font-size=\"14.00\" fill=\"#000000\">samples = 1</text>\n",
       "<text text-anchor=\"middle\" x=\"216\" y=\"-104.3\" font-family=\"Times,serif\" font-size=\"14.00\" fill=\"#000000\">value = 17.0</text>\n",
       "</g>\n",
       "<!-- 2&#45;&gt;6 -->\n",
       "<g id=\"edge6\" class=\"edge\">\n",
       "<title>2&#45;&gt;6</title>\n",
       "<path fill=\"none\" stroke=\"#000000\" d=\"M176.9914,-192.9465C183.1343,-181.9316 189.9601,-169.6922 196.1627,-158.5703\"/>\n",
       "<polygon fill=\"#000000\" stroke=\"#000000\" points=\"199.3837,-159.9806 201.1976,-149.5422 193.2701,-156.5711 199.3837,-159.9806\"/>\n",
       "</g>\n",
       "<!-- 4 -->\n",
       "<g id=\"node5\" class=\"node\">\n",
       "<title>4</title>\n",
       "<polygon fill=\"#f0b990\" stroke=\"#000000\" points=\"91,-53 5,-53 5,0 91,0 91,-53\"/>\n",
       "<text text-anchor=\"middle\" x=\"48\" y=\"-37.8\" font-family=\"Times,serif\" font-size=\"14.00\" fill=\"#000000\">mse = 0.0</text>\n",
       "<text text-anchor=\"middle\" x=\"48\" y=\"-22.8\" font-family=\"Times,serif\" font-size=\"14.00\" fill=\"#000000\">samples = 1</text>\n",
       "<text text-anchor=\"middle\" x=\"48\" y=\"-7.8\" font-family=\"Times,serif\" font-size=\"14.00\" fill=\"#000000\">value = &#45;2.0</text>\n",
       "</g>\n",
       "<!-- 3&#45;&gt;4 -->\n",
       "<g id=\"edge4\" class=\"edge\">\n",
       "<title>3&#45;&gt;4</title>\n",
       "<path fill=\"none\" stroke=\"#000000\" d=\"M81.6667,-88.9777C76.9791,-80.2786 71.9264,-70.9018 67.1967,-62.1247\"/>\n",
       "<polygon fill=\"#000000\" stroke=\"#000000\" points=\"70.2386,-60.3914 62.4137,-53.2485 64.0763,-63.7121 70.2386,-60.3914\"/>\n",
       "</g>\n",
       "<!-- 5 -->\n",
       "<g id=\"node6\" class=\"node\">\n",
       "<title>5</title>\n",
       "<polygon fill=\"#eca36e\" stroke=\"#000000\" points=\"194.5,-53 109.5,-53 109.5,0 194.5,0 194.5,-53\"/>\n",
       "<text text-anchor=\"middle\" x=\"152\" y=\"-37.8\" font-family=\"Times,serif\" font-size=\"14.00\" fill=\"#000000\">mse = 6.25</text>\n",
       "<text text-anchor=\"middle\" x=\"152\" y=\"-22.8\" font-family=\"Times,serif\" font-size=\"14.00\" fill=\"#000000\">samples = 2</text>\n",
       "<text text-anchor=\"middle\" x=\"152\" y=\"-7.8\" font-family=\"Times,serif\" font-size=\"14.00\" fill=\"#000000\">value = 5.5</text>\n",
       "</g>\n",
       "<!-- 3&#45;&gt;5 -->\n",
       "<g id=\"edge5\" class=\"edge\">\n",
       "<title>3&#45;&gt;5</title>\n",
       "<path fill=\"none\" stroke=\"#000000\" d=\"M118.3333,-88.9777C123.0209,-80.2786 128.0736,-70.9018 132.8033,-62.1247\"/>\n",
       "<polygon fill=\"#000000\" stroke=\"#000000\" points=\"135.9237,-63.7121 137.5863,-53.2485 129.7614,-60.3914 135.9237,-63.7121\"/>\n",
       "</g>\n",
       "</g>\n",
       "</svg>\n"
      ],
      "text/plain": [
       "<graphviz.files.Source at 0x7f07cb900c50>"
      ]
     },
     "execution_count": 17,
     "metadata": {
      "tags": []
     },
     "output_type": "execute_result"
    }
   ],
   "source": [
    "import graphviz\n",
    "with open(\"mytree.dot\") as f:\n",
    "    dot_graph = f.read()\n",
    "graphviz.Source(dot_graph)"
   ]
  },
  {
   "cell_type": "code",
   "execution_count": 18,
   "metadata": {
    "colab": {
     "base_uri": "https://localhost:8080/",
     "height": 0
    },
    "executionInfo": {
     "elapsed": 15,
     "status": "ok",
     "timestamp": 1629302648049,
     "user": {
      "displayName": "Christopher Monterola",
      "photoUrl": "https://lh3.googleusercontent.com/a-/AOh14GiyxV9CUZD54GBpsQkscS6VRBjebHtFASKcOq-_Lw=s64",
      "userId": "07920169693232563668"
     },
     "user_tz": -480
    },
    "id": "FI7DZZShw48O",
    "outputId": "acfdd7a4-81cb-40d1-bf09-76961574162e"
   },
   "outputs": [
    {
     "data": {
      "text/html": [
       "<div>\n",
       "<style scoped>\n",
       "    .dataframe tbody tr th:only-of-type {\n",
       "        vertical-align: middle;\n",
       "    }\n",
       "\n",
       "    .dataframe tbody tr th {\n",
       "        vertical-align: top;\n",
       "    }\n",
       "\n",
       "    .dataframe thead th {\n",
       "        text-align: right;\n",
       "    }\n",
       "</style>\n",
       "<table border=\"1\" class=\"dataframe\">\n",
       "  <thead>\n",
       "    <tr style=\"text-align: right;\">\n",
       "      <th></th>\n",
       "      <th>Height</th>\n",
       "      <th>Gender</th>\n",
       "      <th>Age</th>\n",
       "      <th>Weight</th>\n",
       "      <th>Prediction_0</th>\n",
       "      <th>Residual1</th>\n",
       "      <th>Pseudo_Residual1</th>\n",
       "    </tr>\n",
       "  </thead>\n",
       "  <tbody>\n",
       "    <tr>\n",
       "      <th>0</th>\n",
       "      <td>1.6</td>\n",
       "      <td>Male</td>\n",
       "      <td>13</td>\n",
       "      <td>70</td>\n",
       "      <td>62.0</td>\n",
       "      <td>8.0</td>\n",
       "      <td>5.5</td>\n",
       "    </tr>\n",
       "    <tr>\n",
       "      <th>1</th>\n",
       "      <td>1.7</td>\n",
       "      <td>Male</td>\n",
       "      <td>43</td>\n",
       "      <td>79</td>\n",
       "      <td>62.0</td>\n",
       "      <td>17.0</td>\n",
       "      <td>17.0</td>\n",
       "    </tr>\n",
       "    <tr>\n",
       "      <th>2</th>\n",
       "      <td>1.4</td>\n",
       "      <td>Male</td>\n",
       "      <td>10</td>\n",
       "      <td>36</td>\n",
       "      <td>62.0</td>\n",
       "      <td>-26.0</td>\n",
       "      <td>-26.0</td>\n",
       "    </tr>\n",
       "    <tr>\n",
       "      <th>3</th>\n",
       "      <td>1.5</td>\n",
       "      <td>Female</td>\n",
       "      <td>35</td>\n",
       "      <td>65</td>\n",
       "      <td>62.0</td>\n",
       "      <td>3.0</td>\n",
       "      <td>5.5</td>\n",
       "    </tr>\n",
       "    <tr>\n",
       "      <th>4</th>\n",
       "      <td>1.4</td>\n",
       "      <td>Female</td>\n",
       "      <td>27</td>\n",
       "      <td>60</td>\n",
       "      <td>62.0</td>\n",
       "      <td>-2.0</td>\n",
       "      <td>-2.0</td>\n",
       "    </tr>\n",
       "  </tbody>\n",
       "</table>\n",
       "</div>"
      ],
      "text/plain": [
       "   Height  Gender  Age  Weight  Prediction_0  Residual1  Pseudo_Residual1\n",
       "0     1.6    Male   13      70          62.0        8.0               5.5\n",
       "1     1.7    Male   43      79          62.0       17.0              17.0\n",
       "2     1.4    Male   10      36          62.0      -26.0             -26.0\n",
       "3     1.5  Female   35      65          62.0        3.0               5.5\n",
       "4     1.4  Female   27      60          62.0       -2.0              -2.0"
      ]
     },
     "execution_count": 18,
     "metadata": {
      "tags": []
     },
     "output_type": "execute_result"
    }
   ],
   "source": [
    "dummy = dummy.assign(Pseudo_Residual1 = [5.5, 17, -26, 5.5,-2])\n",
    "dummy"
   ]
  },
  {
   "cell_type": "markdown",
   "metadata": {
    "id": "SaTc7Al3w48P"
   },
   "source": [
    "# Step 3: Use the *pseudo-residual* to update the predicted weight.\n",
    "\n",
    "$y_{pred_i}^t = y_{pred_i}^{t-1} +$ (Learning_Rate * Pseudo_Residual1_i). Let's assume the *Learning_Rate* = 0.2. "
   ]
  },
  {
   "cell_type": "code",
   "execution_count": 19,
   "metadata": {
    "colab": {
     "base_uri": "https://localhost:8080/",
     "height": 0
    },
    "executionInfo": {
     "elapsed": 14,
     "status": "ok",
     "timestamp": 1629302648049,
     "user": {
      "displayName": "Christopher Monterola",
      "photoUrl": "https://lh3.googleusercontent.com/a-/AOh14GiyxV9CUZD54GBpsQkscS6VRBjebHtFASKcOq-_Lw=s64",
      "userId": "07920169693232563668"
     },
     "user_tz": -480
    },
    "id": "icYVF_qdw48P",
    "outputId": "19a6dd93-c8da-42df-cdce-90f1b39f3ed7",
    "scrolled": true
   },
   "outputs": [
    {
     "data": {
      "text/html": [
       "<div>\n",
       "<style scoped>\n",
       "    .dataframe tbody tr th:only-of-type {\n",
       "        vertical-align: middle;\n",
       "    }\n",
       "\n",
       "    .dataframe tbody tr th {\n",
       "        vertical-align: top;\n",
       "    }\n",
       "\n",
       "    .dataframe thead th {\n",
       "        text-align: right;\n",
       "    }\n",
       "</style>\n",
       "<table border=\"1\" class=\"dataframe\">\n",
       "  <thead>\n",
       "    <tr style=\"text-align: right;\">\n",
       "      <th></th>\n",
       "      <th>Height</th>\n",
       "      <th>Gender</th>\n",
       "      <th>Age</th>\n",
       "      <th>Weight</th>\n",
       "      <th>Prediction_0</th>\n",
       "      <th>Residual1</th>\n",
       "      <th>Pseudo_Residual1</th>\n",
       "      <th>Prediction_1</th>\n",
       "    </tr>\n",
       "  </thead>\n",
       "  <tbody>\n",
       "    <tr>\n",
       "      <th>0</th>\n",
       "      <td>1.6</td>\n",
       "      <td>Male</td>\n",
       "      <td>13</td>\n",
       "      <td>70</td>\n",
       "      <td>62.0</td>\n",
       "      <td>8.0</td>\n",
       "      <td>5.5</td>\n",
       "      <td>63.1</td>\n",
       "    </tr>\n",
       "    <tr>\n",
       "      <th>1</th>\n",
       "      <td>1.7</td>\n",
       "      <td>Male</td>\n",
       "      <td>43</td>\n",
       "      <td>79</td>\n",
       "      <td>62.0</td>\n",
       "      <td>17.0</td>\n",
       "      <td>17.0</td>\n",
       "      <td>65.4</td>\n",
       "    </tr>\n",
       "    <tr>\n",
       "      <th>2</th>\n",
       "      <td>1.4</td>\n",
       "      <td>Male</td>\n",
       "      <td>10</td>\n",
       "      <td>36</td>\n",
       "      <td>62.0</td>\n",
       "      <td>-26.0</td>\n",
       "      <td>-26.0</td>\n",
       "      <td>56.8</td>\n",
       "    </tr>\n",
       "    <tr>\n",
       "      <th>3</th>\n",
       "      <td>1.5</td>\n",
       "      <td>Female</td>\n",
       "      <td>35</td>\n",
       "      <td>65</td>\n",
       "      <td>62.0</td>\n",
       "      <td>3.0</td>\n",
       "      <td>5.5</td>\n",
       "      <td>63.1</td>\n",
       "    </tr>\n",
       "    <tr>\n",
       "      <th>4</th>\n",
       "      <td>1.4</td>\n",
       "      <td>Female</td>\n",
       "      <td>27</td>\n",
       "      <td>60</td>\n",
       "      <td>62.0</td>\n",
       "      <td>-2.0</td>\n",
       "      <td>-2.0</td>\n",
       "      <td>61.6</td>\n",
       "    </tr>\n",
       "  </tbody>\n",
       "</table>\n",
       "</div>"
      ],
      "text/plain": [
       "   Height  Gender  Age  ...  Residual1  Pseudo_Residual1  Prediction_1\n",
       "0     1.6    Male   13  ...        8.0               5.5          63.1\n",
       "1     1.7    Male   43  ...       17.0              17.0          65.4\n",
       "2     1.4    Male   10  ...      -26.0             -26.0          56.8\n",
       "3     1.5  Female   35  ...        3.0               5.5          63.1\n",
       "4     1.4  Female   27  ...       -2.0              -2.0          61.6\n",
       "\n",
       "[5 rows x 8 columns]"
      ]
     },
     "execution_count": 19,
     "metadata": {
      "tags": []
     },
     "output_type": "execute_result"
    }
   ],
   "source": [
    "dummy = dummy.assign(Prediction_1 = dummy['Prediction_0'] + 0.2*dummy['Pseudo_Residual1'])\n",
    "dummy"
   ]
  },
  {
   "cell_type": "markdown",
   "metadata": {
    "id": "s90XJY86w48P"
   },
   "source": [
    "# Step 4: Repeat Steps 1-3"
   ]
  },
  {
   "cell_type": "code",
   "execution_count": 20,
   "metadata": {
    "colab": {
     "base_uri": "https://localhost:8080/",
     "height": 0
    },
    "executionInfo": {
     "elapsed": 14,
     "status": "ok",
     "timestamp": 1629302648050,
     "user": {
      "displayName": "Christopher Monterola",
      "photoUrl": "https://lh3.googleusercontent.com/a-/AOh14GiyxV9CUZD54GBpsQkscS6VRBjebHtFASKcOq-_Lw=s64",
      "userId": "07920169693232563668"
     },
     "user_tz": -480
    },
    "id": "QidI7htHw48P",
    "outputId": "2da4ea6b-dc14-4052-ee8b-29b98120a606",
    "scrolled": true
   },
   "outputs": [
    {
     "data": {
      "text/html": [
       "<div>\n",
       "<style scoped>\n",
       "    .dataframe tbody tr th:only-of-type {\n",
       "        vertical-align: middle;\n",
       "    }\n",
       "\n",
       "    .dataframe tbody tr th {\n",
       "        vertical-align: top;\n",
       "    }\n",
       "\n",
       "    .dataframe thead th {\n",
       "        text-align: right;\n",
       "    }\n",
       "</style>\n",
       "<table border=\"1\" class=\"dataframe\">\n",
       "  <thead>\n",
       "    <tr style=\"text-align: right;\">\n",
       "      <th></th>\n",
       "      <th>Height</th>\n",
       "      <th>Gender</th>\n",
       "      <th>Age</th>\n",
       "      <th>Weight</th>\n",
       "      <th>Prediction_0</th>\n",
       "      <th>Residual1</th>\n",
       "      <th>Pseudo_Residual1</th>\n",
       "      <th>Prediction_1</th>\n",
       "      <th>Residual2</th>\n",
       "    </tr>\n",
       "  </thead>\n",
       "  <tbody>\n",
       "    <tr>\n",
       "      <th>0</th>\n",
       "      <td>1.6</td>\n",
       "      <td>Male</td>\n",
       "      <td>13</td>\n",
       "      <td>70</td>\n",
       "      <td>62.0</td>\n",
       "      <td>8.0</td>\n",
       "      <td>5.5</td>\n",
       "      <td>63.1</td>\n",
       "      <td>6.9</td>\n",
       "    </tr>\n",
       "    <tr>\n",
       "      <th>1</th>\n",
       "      <td>1.7</td>\n",
       "      <td>Male</td>\n",
       "      <td>43</td>\n",
       "      <td>79</td>\n",
       "      <td>62.0</td>\n",
       "      <td>17.0</td>\n",
       "      <td>17.0</td>\n",
       "      <td>65.4</td>\n",
       "      <td>13.6</td>\n",
       "    </tr>\n",
       "    <tr>\n",
       "      <th>2</th>\n",
       "      <td>1.4</td>\n",
       "      <td>Male</td>\n",
       "      <td>10</td>\n",
       "      <td>36</td>\n",
       "      <td>62.0</td>\n",
       "      <td>-26.0</td>\n",
       "      <td>-26.0</td>\n",
       "      <td>56.8</td>\n",
       "      <td>-20.8</td>\n",
       "    </tr>\n",
       "    <tr>\n",
       "      <th>3</th>\n",
       "      <td>1.5</td>\n",
       "      <td>Female</td>\n",
       "      <td>35</td>\n",
       "      <td>65</td>\n",
       "      <td>62.0</td>\n",
       "      <td>3.0</td>\n",
       "      <td>5.5</td>\n",
       "      <td>63.1</td>\n",
       "      <td>1.9</td>\n",
       "    </tr>\n",
       "    <tr>\n",
       "      <th>4</th>\n",
       "      <td>1.4</td>\n",
       "      <td>Female</td>\n",
       "      <td>27</td>\n",
       "      <td>60</td>\n",
       "      <td>62.0</td>\n",
       "      <td>-2.0</td>\n",
       "      <td>-2.0</td>\n",
       "      <td>61.6</td>\n",
       "      <td>-1.6</td>\n",
       "    </tr>\n",
       "  </tbody>\n",
       "</table>\n",
       "</div>"
      ],
      "text/plain": [
       "   Height  Gender  Age  ...  Pseudo_Residual1  Prediction_1  Residual2\n",
       "0     1.6    Male   13  ...               5.5          63.1        6.9\n",
       "1     1.7    Male   43  ...              17.0          65.4       13.6\n",
       "2     1.4    Male   10  ...             -26.0          56.8      -20.8\n",
       "3     1.5  Female   35  ...               5.5          63.1        1.9\n",
       "4     1.4  Female   27  ...              -2.0          61.6       -1.6\n",
       "\n",
       "[5 rows x 9 columns]"
      ]
     },
     "execution_count": 20,
     "metadata": {
      "tags": []
     },
     "output_type": "execute_result"
    }
   ],
   "source": [
    "#Back to Step 1\n",
    "dummy = dummy.assign(Residual2 = dummy['Weight']-dummy['Prediction_1']) #Gradient descent\n",
    "dummy"
   ]
  },
  {
   "cell_type": "code",
   "execution_count": 21,
   "metadata": {
    "colab": {
     "base_uri": "https://localhost:8080/",
     "height": 0
    },
    "executionInfo": {
     "elapsed": 332,
     "status": "ok",
     "timestamp": 1629302648369,
     "user": {
      "displayName": "Christopher Monterola",
      "photoUrl": "https://lh3.googleusercontent.com/a-/AOh14GiyxV9CUZD54GBpsQkscS6VRBjebHtFASKcOq-_Lw=s64",
      "userId": "07920169693232563668"
     },
     "user_tz": -480
    },
    "id": "1lsH4L6Aw48P",
    "outputId": "5b9b2270-78c3-4463-dbdc-053a3512f9f8"
   },
   "outputs": [
    {
     "data": {
      "image/svg+xml": [
       "<?xml version=\"1.0\" encoding=\"UTF-8\" standalone=\"no\"?>\n",
       "<!DOCTYPE svg PUBLIC \"-//W3C//DTD SVG 1.1//EN\"\n",
       " \"http://www.w3.org/Graphics/SVG/1.1/DTD/svg11.dtd\">\n",
       "<!-- Generated by graphviz version 2.40.1 (20161225.0304)\n",
       " -->\n",
       "<!-- Title: Tree Pages: 1 -->\n",
       "<svg width=\"416pt\" height=\"373pt\"\n",
       " viewBox=\"0.00 0.00 415.50 373.00\" xmlns=\"http://www.w3.org/2000/svg\" xmlns:xlink=\"http://www.w3.org/1999/xlink\">\n",
       "<g id=\"graph0\" class=\"graph\" transform=\"scale(1 1) rotate(0) translate(4 369)\">\n",
       "<title>Tree</title>\n",
       "<polygon fill=\"#ffffff\" stroke=\"transparent\" points=\"-4,4 -4,-369 411.5,-369 411.5,4 -4,4\"/>\n",
       "<!-- 0 -->\n",
       "<g id=\"node1\" class=\"node\">\n",
       "<title>0</title>\n",
       "<polygon fill=\"#efb387\" stroke=\"#000000\" points=\"195,-365 91,-365 91,-297 195,-297 195,-365\"/>\n",
       "<text text-anchor=\"middle\" x=\"143\" y=\"-349.8\" font-family=\"Times,serif\" font-size=\"14.00\" fill=\"#000000\">Age &lt;= 11.5</text>\n",
       "<text text-anchor=\"middle\" x=\"143\" y=\"-334.8\" font-family=\"Times,serif\" font-size=\"14.00\" fill=\"#000000\">mse = 134.276</text>\n",
       "<text text-anchor=\"middle\" x=\"143\" y=\"-319.8\" font-family=\"Times,serif\" font-size=\"14.00\" fill=\"#000000\">samples = 5</text>\n",
       "<text text-anchor=\"middle\" x=\"143\" y=\"-304.8\" font-family=\"Times,serif\" font-size=\"14.00\" fill=\"#000000\">value = &#45;0.0</text>\n",
       "</g>\n",
       "<!-- 1 -->\n",
       "<g id=\"node2\" class=\"node\">\n",
       "<title>1</title>\n",
       "<polygon fill=\"#ffffff\" stroke=\"#000000\" points=\"131,-253.5 37,-253.5 37,-200.5 131,-200.5 131,-253.5\"/>\n",
       "<text text-anchor=\"middle\" x=\"84\" y=\"-238.3\" font-family=\"Times,serif\" font-size=\"14.00\" fill=\"#000000\">mse = 0.0</text>\n",
       "<text text-anchor=\"middle\" x=\"84\" y=\"-223.3\" font-family=\"Times,serif\" font-size=\"14.00\" fill=\"#000000\">samples = 1</text>\n",
       "<text text-anchor=\"middle\" x=\"84\" y=\"-208.3\" font-family=\"Times,serif\" font-size=\"14.00\" fill=\"#000000\">value = &#45;20.8</text>\n",
       "</g>\n",
       "<!-- 0&#45;&gt;1 -->\n",
       "<g id=\"edge1\" class=\"edge\">\n",
       "<title>0&#45;&gt;1</title>\n",
       "<path fill=\"none\" stroke=\"#000000\" d=\"M123.6812,-296.9465C117.4324,-285.9316 110.4888,-273.6922 104.1793,-262.5703\"/>\n",
       "<polygon fill=\"#000000\" stroke=\"#000000\" points=\"107.0362,-260.513 99.0576,-253.5422 100.9477,-263.967 107.0362,-260.513\"/>\n",
       "<text text-anchor=\"middle\" x=\"92.4046\" y=\"-273.9407\" font-family=\"Times,serif\" font-size=\"14.00\" fill=\"#000000\">True</text>\n",
       "</g>\n",
       "<!-- 2 -->\n",
       "<g id=\"node3\" class=\"node\">\n",
       "<title>2</title>\n",
       "<polygon fill=\"#eba069\" stroke=\"#000000\" points=\"255,-261 149,-261 149,-193 255,-193 255,-261\"/>\n",
       "<text text-anchor=\"middle\" x=\"202\" y=\"-245.8\" font-family=\"Times,serif\" font-size=\"14.00\" fill=\"#000000\">Height &lt;= 1.55</text>\n",
       "<text text-anchor=\"middle\" x=\"202\" y=\"-230.8\" font-family=\"Times,serif\" font-size=\"14.00\" fill=\"#000000\">mse = 32.645</text>\n",
       "<text text-anchor=\"middle\" x=\"202\" y=\"-215.8\" font-family=\"Times,serif\" font-size=\"14.00\" fill=\"#000000\">samples = 4</text>\n",
       "<text text-anchor=\"middle\" x=\"202\" y=\"-200.8\" font-family=\"Times,serif\" font-size=\"14.00\" fill=\"#000000\">value = 5.2</text>\n",
       "</g>\n",
       "<!-- 0&#45;&gt;2 -->\n",
       "<g id=\"edge2\" class=\"edge\">\n",
       "<title>0&#45;&gt;2</title>\n",
       "<path fill=\"none\" stroke=\"#000000\" d=\"M162.3188,-296.9465C167.2087,-288.3271 172.5239,-278.9579 177.6278,-269.9611\"/>\n",
       "<polygon fill=\"#000000\" stroke=\"#000000\" points=\"180.7476,-271.5549 182.6378,-261.13 174.6592,-268.1008 180.7476,-271.5549\"/>\n",
       "<text text-anchor=\"middle\" x=\"189.2908\" y=\"-281.5285\" font-family=\"Times,serif\" font-size=\"14.00\" fill=\"#000000\">False</text>\n",
       "</g>\n",
       "<!-- 3 -->\n",
       "<g id=\"node4\" class=\"node\">\n",
       "<title>3</title>\n",
       "<polygon fill=\"#efb286\" stroke=\"#000000\" points=\"195,-157 89,-157 89,-89 195,-89 195,-157\"/>\n",
       "<text text-anchor=\"middle\" x=\"142\" y=\"-141.8\" font-family=\"Times,serif\" font-size=\"14.00\" fill=\"#000000\">Height &lt;= 1.45</text>\n",
       "<text text-anchor=\"middle\" x=\"142\" y=\"-126.8\" font-family=\"Times,serif\" font-size=\"14.00\" fill=\"#000000\">mse = 3.062</text>\n",
       "<text text-anchor=\"middle\" x=\"142\" y=\"-111.8\" font-family=\"Times,serif\" font-size=\"14.00\" fill=\"#000000\">samples = 2</text>\n",
       "<text text-anchor=\"middle\" x=\"142\" y=\"-96.8\" font-family=\"Times,serif\" font-size=\"14.00\" fill=\"#000000\">value = 0.15</text>\n",
       "</g>\n",
       "<!-- 2&#45;&gt;3 -->\n",
       "<g id=\"edge3\" class=\"edge\">\n",
       "<title>2&#45;&gt;3</title>\n",
       "<path fill=\"none\" stroke=\"#000000\" d=\"M182.3538,-192.9465C177.381,-184.3271 171.9757,-174.9579 166.7852,-165.9611\"/>\n",
       "<polygon fill=\"#000000\" stroke=\"#000000\" points=\"169.7193,-164.0428 161.6904,-157.13 163.656,-167.5409 169.7193,-164.0428\"/>\n",
       "</g>\n",
       "<!-- 6 -->\n",
       "<g id=\"node7\" class=\"node\">\n",
       "<title>6</title>\n",
       "<polygon fill=\"#e88d4c\" stroke=\"#000000\" points=\"310.5,-157 213.5,-157 213.5,-89 310.5,-89 310.5,-157\"/>\n",
       "<text text-anchor=\"middle\" x=\"262\" y=\"-141.8\" font-family=\"Times,serif\" font-size=\"14.00\" fill=\"#000000\">Age &lt;= 28.0</text>\n",
       "<text text-anchor=\"middle\" x=\"262\" y=\"-126.8\" font-family=\"Times,serif\" font-size=\"14.00\" fill=\"#000000\">mse = 11.222</text>\n",
       "<text text-anchor=\"middle\" x=\"262\" y=\"-111.8\" font-family=\"Times,serif\" font-size=\"14.00\" fill=\"#000000\">samples = 2</text>\n",
       "<text text-anchor=\"middle\" x=\"262\" y=\"-96.8\" font-family=\"Times,serif\" font-size=\"14.00\" fill=\"#000000\">value = 10.25</text>\n",
       "</g>\n",
       "<!-- 2&#45;&gt;6 -->\n",
       "<g id=\"edge6\" class=\"edge\">\n",
       "<title>2&#45;&gt;6</title>\n",
       "<path fill=\"none\" stroke=\"#000000\" d=\"M221.6462,-192.9465C226.619,-184.3271 232.0243,-174.9579 237.2148,-165.9611\"/>\n",
       "<polygon fill=\"#000000\" stroke=\"#000000\" points=\"240.344,-167.5409 242.3096,-157.13 234.2807,-164.0428 240.344,-167.5409\"/>\n",
       "</g>\n",
       "<!-- 4 -->\n",
       "<g id=\"node5\" class=\"node\">\n",
       "<title>4</title>\n",
       "<polygon fill=\"#f0b990\" stroke=\"#000000\" points=\"86,-53 0,-53 0,0 86,0 86,-53\"/>\n",
       "<text text-anchor=\"middle\" x=\"43\" y=\"-37.8\" font-family=\"Times,serif\" font-size=\"14.00\" fill=\"#000000\">mse = 0.0</text>\n",
       "<text text-anchor=\"middle\" x=\"43\" y=\"-22.8\" font-family=\"Times,serif\" font-size=\"14.00\" fill=\"#000000\">samples = 1</text>\n",
       "<text text-anchor=\"middle\" x=\"43\" y=\"-7.8\" font-family=\"Times,serif\" font-size=\"14.00\" fill=\"#000000\">value = &#45;1.6</text>\n",
       "</g>\n",
       "<!-- 3&#45;&gt;4 -->\n",
       "<g id=\"edge4\" class=\"edge\">\n",
       "<title>3&#45;&gt;4</title>\n",
       "<path fill=\"none\" stroke=\"#000000\" d=\"M107.0963,-88.9777C97.6082,-79.7292 87.3343,-69.7147 77.8491,-60.4691\"/>\n",
       "<polygon fill=\"#000000\" stroke=\"#000000\" points=\"80.0454,-57.7223 70.4414,-53.2485 75.1593,-62.7349 80.0454,-57.7223\"/>\n",
       "</g>\n",
       "<!-- 5 -->\n",
       "<g id=\"node6\" class=\"node\">\n",
       "<title>5</title>\n",
       "<polygon fill=\"#eeac7c\" stroke=\"#000000\" points=\"189.5,-53 104.5,-53 104.5,0 189.5,0 189.5,-53\"/>\n",
       "<text text-anchor=\"middle\" x=\"147\" y=\"-37.8\" font-family=\"Times,serif\" font-size=\"14.00\" fill=\"#000000\">mse = 0.0</text>\n",
       "<text text-anchor=\"middle\" x=\"147\" y=\"-22.8\" font-family=\"Times,serif\" font-size=\"14.00\" fill=\"#000000\">samples = 1</text>\n",
       "<text text-anchor=\"middle\" x=\"147\" y=\"-7.8\" font-family=\"Times,serif\" font-size=\"14.00\" fill=\"#000000\">value = 1.9</text>\n",
       "</g>\n",
       "<!-- 3&#45;&gt;5 -->\n",
       "<g id=\"edge5\" class=\"edge\">\n",
       "<title>3&#45;&gt;5</title>\n",
       "<path fill=\"none\" stroke=\"#000000\" d=\"M143.7628,-88.9777C144.1946,-80.6449 144.6585,-71.6903 145.0966,-63.2364\"/>\n",
       "<polygon fill=\"#000000\" stroke=\"#000000\" points=\"148.5918,-63.4162 145.6141,-53.2485 141.6012,-63.0539 148.5918,-63.4162\"/>\n",
       "</g>\n",
       "<!-- 7 -->\n",
       "<g id=\"node8\" class=\"node\">\n",
       "<title>7</title>\n",
       "<polygon fill=\"#ea9a60\" stroke=\"#000000\" points=\"300.5,-53 215.5,-53 215.5,0 300.5,0 300.5,-53\"/>\n",
       "<text text-anchor=\"middle\" x=\"258\" y=\"-37.8\" font-family=\"Times,serif\" font-size=\"14.00\" fill=\"#000000\">mse = 0.0</text>\n",
       "<text text-anchor=\"middle\" x=\"258\" y=\"-22.8\" font-family=\"Times,serif\" font-size=\"14.00\" fill=\"#000000\">samples = 1</text>\n",
       "<text text-anchor=\"middle\" x=\"258\" y=\"-7.8\" font-family=\"Times,serif\" font-size=\"14.00\" fill=\"#000000\">value = 6.9</text>\n",
       "</g>\n",
       "<!-- 6&#45;&gt;7 -->\n",
       "<g id=\"edge7\" class=\"edge\">\n",
       "<title>6&#45;&gt;7</title>\n",
       "<path fill=\"none\" stroke=\"#000000\" d=\"M260.5897,-88.9777C260.2481,-80.7364 259.8813,-71.887 259.5343,-63.5153\"/>\n",
       "<polygon fill=\"#000000\" stroke=\"#000000\" points=\"263.02,-63.0949 259.1087,-53.2485 256.026,-63.3849 263.02,-63.0949\"/>\n",
       "</g>\n",
       "<!-- 8 -->\n",
       "<g id=\"node9\" class=\"node\">\n",
       "<title>8</title>\n",
       "<polygon fill=\"#e58139\" stroke=\"#000000\" points=\"407.5,-53 318.5,-53 318.5,0 407.5,0 407.5,-53\"/>\n",
       "<text text-anchor=\"middle\" x=\"363\" y=\"-37.8\" font-family=\"Times,serif\" font-size=\"14.00\" fill=\"#000000\">mse = 0.0</text>\n",
       "<text text-anchor=\"middle\" x=\"363\" y=\"-22.8\" font-family=\"Times,serif\" font-size=\"14.00\" fill=\"#000000\">samples = 1</text>\n",
       "<text text-anchor=\"middle\" x=\"363\" y=\"-7.8\" font-family=\"Times,serif\" font-size=\"14.00\" fill=\"#000000\">value = 13.6</text>\n",
       "</g>\n",
       "<!-- 6&#45;&gt;8 -->\n",
       "<g id=\"edge8\" class=\"edge\">\n",
       "<title>6&#45;&gt;8</title>\n",
       "<path fill=\"none\" stroke=\"#000000\" d=\"M297.6088,-88.9777C307.3845,-79.6376 317.9777,-69.5163 327.734,-60.1947\"/>\n",
       "<polygon fill=\"#000000\" stroke=\"#000000\" points=\"330.1917,-62.6873 335.0042,-53.2485 325.356,-57.6261 330.1917,-62.6873\"/>\n",
       "</g>\n",
       "</g>\n",
       "</svg>\n"
      ],
      "text/plain": [
       "<graphviz.files.Source at 0x7f07b81f3ad0>"
      ]
     },
     "execution_count": 21,
     "metadata": {
      "tags": []
     },
     "output_type": "execute_result"
    }
   ],
   "source": [
    "#Back to Step 2\n",
    "\n",
    "from sklearn.tree import DecisionTreeRegressor\n",
    "from sklearn.tree import export_graphviz\n",
    "\n",
    "dec_tree = DecisionTreeRegressor(max_depth=3, random_state=0)\n",
    "dec_tree.fit(df_features, dummy['Residual2'])\n",
    "export_graphviz(dec_tree, out_file=\"mytree.dot\", feature_names=df_features.columns, filled=True)\n",
    "\n",
    "import graphviz\n",
    "with open(\"mytree.dot\") as f:\n",
    "    dot_graph = f.read()\n",
    "graphviz.Source(dot_graph)\n"
   ]
  },
  {
   "cell_type": "code",
   "execution_count": 22,
   "metadata": {
    "colab": {
     "base_uri": "https://localhost:8080/",
     "height": 0
    },
    "executionInfo": {
     "elapsed": 17,
     "status": "ok",
     "timestamp": 1629302648370,
     "user": {
      "displayName": "Christopher Monterola",
      "photoUrl": "https://lh3.googleusercontent.com/a-/AOh14GiyxV9CUZD54GBpsQkscS6VRBjebHtFASKcOq-_Lw=s64",
      "userId": "07920169693232563668"
     },
     "user_tz": -480
    },
    "id": "IqyonSXXw48Q",
    "outputId": "a0882d24-57f6-4944-917a-74a492774405"
   },
   "outputs": [
    {
     "data": {
      "text/html": [
       "<div>\n",
       "<style scoped>\n",
       "    .dataframe tbody tr th:only-of-type {\n",
       "        vertical-align: middle;\n",
       "    }\n",
       "\n",
       "    .dataframe tbody tr th {\n",
       "        vertical-align: top;\n",
       "    }\n",
       "\n",
       "    .dataframe thead th {\n",
       "        text-align: right;\n",
       "    }\n",
       "</style>\n",
       "<table border=\"1\" class=\"dataframe\">\n",
       "  <thead>\n",
       "    <tr style=\"text-align: right;\">\n",
       "      <th></th>\n",
       "      <th>Height</th>\n",
       "      <th>Gender</th>\n",
       "      <th>Age</th>\n",
       "      <th>Weight</th>\n",
       "      <th>Prediction_0</th>\n",
       "      <th>Residual1</th>\n",
       "      <th>Pseudo_Residual1</th>\n",
       "      <th>Prediction_1</th>\n",
       "      <th>Residual2</th>\n",
       "      <th>Pseudo_Residual2</th>\n",
       "    </tr>\n",
       "  </thead>\n",
       "  <tbody>\n",
       "    <tr>\n",
       "      <th>0</th>\n",
       "      <td>1.6</td>\n",
       "      <td>Male</td>\n",
       "      <td>13</td>\n",
       "      <td>70</td>\n",
       "      <td>62.0</td>\n",
       "      <td>8.0</td>\n",
       "      <td>5.5</td>\n",
       "      <td>63.1</td>\n",
       "      <td>6.9</td>\n",
       "      <td>6.9</td>\n",
       "    </tr>\n",
       "    <tr>\n",
       "      <th>1</th>\n",
       "      <td>1.7</td>\n",
       "      <td>Male</td>\n",
       "      <td>43</td>\n",
       "      <td>79</td>\n",
       "      <td>62.0</td>\n",
       "      <td>17.0</td>\n",
       "      <td>17.0</td>\n",
       "      <td>65.4</td>\n",
       "      <td>13.6</td>\n",
       "      <td>13.6</td>\n",
       "    </tr>\n",
       "    <tr>\n",
       "      <th>2</th>\n",
       "      <td>1.4</td>\n",
       "      <td>Male</td>\n",
       "      <td>10</td>\n",
       "      <td>36</td>\n",
       "      <td>62.0</td>\n",
       "      <td>-26.0</td>\n",
       "      <td>-26.0</td>\n",
       "      <td>56.8</td>\n",
       "      <td>-20.8</td>\n",
       "      <td>-20.8</td>\n",
       "    </tr>\n",
       "    <tr>\n",
       "      <th>3</th>\n",
       "      <td>1.5</td>\n",
       "      <td>Female</td>\n",
       "      <td>35</td>\n",
       "      <td>65</td>\n",
       "      <td>62.0</td>\n",
       "      <td>3.0</td>\n",
       "      <td>5.5</td>\n",
       "      <td>63.1</td>\n",
       "      <td>1.9</td>\n",
       "      <td>1.9</td>\n",
       "    </tr>\n",
       "    <tr>\n",
       "      <th>4</th>\n",
       "      <td>1.4</td>\n",
       "      <td>Female</td>\n",
       "      <td>27</td>\n",
       "      <td>60</td>\n",
       "      <td>62.0</td>\n",
       "      <td>-2.0</td>\n",
       "      <td>-2.0</td>\n",
       "      <td>61.6</td>\n",
       "      <td>-1.6</td>\n",
       "      <td>-1.6</td>\n",
       "    </tr>\n",
       "  </tbody>\n",
       "</table>\n",
       "</div>"
      ],
      "text/plain": [
       "   Height  Gender  Age  ...  Prediction_1  Residual2  Pseudo_Residual2\n",
       "0     1.6    Male   13  ...          63.1        6.9               6.9\n",
       "1     1.7    Male   43  ...          65.4       13.6              13.6\n",
       "2     1.4    Male   10  ...          56.8      -20.8             -20.8\n",
       "3     1.5  Female   35  ...          63.1        1.9               1.9\n",
       "4     1.4  Female   27  ...          61.6       -1.6              -1.6\n",
       "\n",
       "[5 rows x 10 columns]"
      ]
     },
     "execution_count": 22,
     "metadata": {
      "tags": []
     },
     "output_type": "execute_result"
    }
   ],
   "source": [
    "dummy = dummy.assign(Pseudo_Residual2 = [6.9, 13.6, -20.8, 1.9, -1.6])\n",
    "dummy"
   ]
  },
  {
   "cell_type": "code",
   "execution_count": 23,
   "metadata": {
    "colab": {
     "base_uri": "https://localhost:8080/",
     "height": 0
    },
    "executionInfo": {
     "elapsed": 16,
     "status": "ok",
     "timestamp": 1629302648370,
     "user": {
      "displayName": "Christopher Monterola",
      "photoUrl": "https://lh3.googleusercontent.com/a-/AOh14GiyxV9CUZD54GBpsQkscS6VRBjebHtFASKcOq-_Lw=s64",
      "userId": "07920169693232563668"
     },
     "user_tz": -480
    },
    "id": "u2TKEg1Pw48Q",
    "outputId": "9fac183a-cfcc-44fb-ba09-24d0cef88bbb"
   },
   "outputs": [
    {
     "data": {
      "text/html": [
       "<div>\n",
       "<style scoped>\n",
       "    .dataframe tbody tr th:only-of-type {\n",
       "        vertical-align: middle;\n",
       "    }\n",
       "\n",
       "    .dataframe tbody tr th {\n",
       "        vertical-align: top;\n",
       "    }\n",
       "\n",
       "    .dataframe thead th {\n",
       "        text-align: right;\n",
       "    }\n",
       "</style>\n",
       "<table border=\"1\" class=\"dataframe\">\n",
       "  <thead>\n",
       "    <tr style=\"text-align: right;\">\n",
       "      <th></th>\n",
       "      <th>Height</th>\n",
       "      <th>Gender</th>\n",
       "      <th>Age</th>\n",
       "      <th>Weight</th>\n",
       "      <th>Prediction_0</th>\n",
       "      <th>Residual1</th>\n",
       "      <th>Pseudo_Residual1</th>\n",
       "      <th>Prediction_1</th>\n",
       "      <th>Residual2</th>\n",
       "      <th>Pseudo_Residual2</th>\n",
       "      <th>Prediction_2</th>\n",
       "    </tr>\n",
       "  </thead>\n",
       "  <tbody>\n",
       "    <tr>\n",
       "      <th>0</th>\n",
       "      <td>1.6</td>\n",
       "      <td>Male</td>\n",
       "      <td>13</td>\n",
       "      <td>70</td>\n",
       "      <td>62.0</td>\n",
       "      <td>8.0</td>\n",
       "      <td>5.5</td>\n",
       "      <td>63.1</td>\n",
       "      <td>6.9</td>\n",
       "      <td>6.9</td>\n",
       "      <td>64.48</td>\n",
       "    </tr>\n",
       "    <tr>\n",
       "      <th>1</th>\n",
       "      <td>1.7</td>\n",
       "      <td>Male</td>\n",
       "      <td>43</td>\n",
       "      <td>79</td>\n",
       "      <td>62.0</td>\n",
       "      <td>17.0</td>\n",
       "      <td>17.0</td>\n",
       "      <td>65.4</td>\n",
       "      <td>13.6</td>\n",
       "      <td>13.6</td>\n",
       "      <td>68.12</td>\n",
       "    </tr>\n",
       "    <tr>\n",
       "      <th>2</th>\n",
       "      <td>1.4</td>\n",
       "      <td>Male</td>\n",
       "      <td>10</td>\n",
       "      <td>36</td>\n",
       "      <td>62.0</td>\n",
       "      <td>-26.0</td>\n",
       "      <td>-26.0</td>\n",
       "      <td>56.8</td>\n",
       "      <td>-20.8</td>\n",
       "      <td>-20.8</td>\n",
       "      <td>52.64</td>\n",
       "    </tr>\n",
       "    <tr>\n",
       "      <th>3</th>\n",
       "      <td>1.5</td>\n",
       "      <td>Female</td>\n",
       "      <td>35</td>\n",
       "      <td>65</td>\n",
       "      <td>62.0</td>\n",
       "      <td>3.0</td>\n",
       "      <td>5.5</td>\n",
       "      <td>63.1</td>\n",
       "      <td>1.9</td>\n",
       "      <td>1.9</td>\n",
       "      <td>63.48</td>\n",
       "    </tr>\n",
       "    <tr>\n",
       "      <th>4</th>\n",
       "      <td>1.4</td>\n",
       "      <td>Female</td>\n",
       "      <td>27</td>\n",
       "      <td>60</td>\n",
       "      <td>62.0</td>\n",
       "      <td>-2.0</td>\n",
       "      <td>-2.0</td>\n",
       "      <td>61.6</td>\n",
       "      <td>-1.6</td>\n",
       "      <td>-1.6</td>\n",
       "      <td>61.28</td>\n",
       "    </tr>\n",
       "  </tbody>\n",
       "</table>\n",
       "</div>"
      ],
      "text/plain": [
       "   Height  Gender  Age  ...  Residual2  Pseudo_Residual2  Prediction_2\n",
       "0     1.6    Male   13  ...        6.9               6.9         64.48\n",
       "1     1.7    Male   43  ...       13.6              13.6         68.12\n",
       "2     1.4    Male   10  ...      -20.8             -20.8         52.64\n",
       "3     1.5  Female   35  ...        1.9               1.9         63.48\n",
       "4     1.4  Female   27  ...       -1.6              -1.6         61.28\n",
       "\n",
       "[5 rows x 11 columns]"
      ]
     },
     "execution_count": 23,
     "metadata": {
      "tags": []
     },
     "output_type": "execute_result"
    }
   ],
   "source": [
    "#Back to Step 3\n",
    "dummy = dummy.assign(Prediction_2 = dummy['Prediction_1'] + 0.2*dummy['Pseudo_Residual2'])\n",
    "dummy"
   ]
  },
  {
   "cell_type": "code",
   "execution_count": 24,
   "metadata": {
    "colab": {
     "base_uri": "https://localhost:8080/",
     "height": 0
    },
    "executionInfo": {
     "elapsed": 15,
     "status": "ok",
     "timestamp": 1629302648370,
     "user": {
      "displayName": "Christopher Monterola",
      "photoUrl": "https://lh3.googleusercontent.com/a-/AOh14GiyxV9CUZD54GBpsQkscS6VRBjebHtFASKcOq-_Lw=s64",
      "userId": "07920169693232563668"
     },
     "user_tz": -480
    },
    "id": "WftPAE5Jw48Q",
    "outputId": "447378c7-53ac-44da-d944-c7115b01436c"
   },
   "outputs": [
    {
     "data": {
      "text/html": [
       "<div>\n",
       "<style scoped>\n",
       "    .dataframe tbody tr th:only-of-type {\n",
       "        vertical-align: middle;\n",
       "    }\n",
       "\n",
       "    .dataframe tbody tr th {\n",
       "        vertical-align: top;\n",
       "    }\n",
       "\n",
       "    .dataframe thead th {\n",
       "        text-align: right;\n",
       "    }\n",
       "</style>\n",
       "<table border=\"1\" class=\"dataframe\">\n",
       "  <thead>\n",
       "    <tr style=\"text-align: right;\">\n",
       "      <th></th>\n",
       "      <th>Height</th>\n",
       "      <th>Gender</th>\n",
       "      <th>Age</th>\n",
       "      <th>Weight</th>\n",
       "      <th>Prediction_0</th>\n",
       "      <th>Residual1</th>\n",
       "      <th>Pseudo_Residual1</th>\n",
       "      <th>Prediction_1</th>\n",
       "      <th>Residual2</th>\n",
       "      <th>Pseudo_Residual2</th>\n",
       "      <th>Prediction_2</th>\n",
       "      <th>Residual3</th>\n",
       "    </tr>\n",
       "  </thead>\n",
       "  <tbody>\n",
       "    <tr>\n",
       "      <th>0</th>\n",
       "      <td>1.6</td>\n",
       "      <td>Male</td>\n",
       "      <td>13</td>\n",
       "      <td>70</td>\n",
       "      <td>62.0</td>\n",
       "      <td>8.0</td>\n",
       "      <td>5.5</td>\n",
       "      <td>63.1</td>\n",
       "      <td>6.9</td>\n",
       "      <td>6.9</td>\n",
       "      <td>64.48</td>\n",
       "      <td>5.52</td>\n",
       "    </tr>\n",
       "    <tr>\n",
       "      <th>1</th>\n",
       "      <td>1.7</td>\n",
       "      <td>Male</td>\n",
       "      <td>43</td>\n",
       "      <td>79</td>\n",
       "      <td>62.0</td>\n",
       "      <td>17.0</td>\n",
       "      <td>17.0</td>\n",
       "      <td>65.4</td>\n",
       "      <td>13.6</td>\n",
       "      <td>13.6</td>\n",
       "      <td>68.12</td>\n",
       "      <td>10.88</td>\n",
       "    </tr>\n",
       "    <tr>\n",
       "      <th>2</th>\n",
       "      <td>1.4</td>\n",
       "      <td>Male</td>\n",
       "      <td>10</td>\n",
       "      <td>36</td>\n",
       "      <td>62.0</td>\n",
       "      <td>-26.0</td>\n",
       "      <td>-26.0</td>\n",
       "      <td>56.8</td>\n",
       "      <td>-20.8</td>\n",
       "      <td>-20.8</td>\n",
       "      <td>52.64</td>\n",
       "      <td>-16.64</td>\n",
       "    </tr>\n",
       "    <tr>\n",
       "      <th>3</th>\n",
       "      <td>1.5</td>\n",
       "      <td>Female</td>\n",
       "      <td>35</td>\n",
       "      <td>65</td>\n",
       "      <td>62.0</td>\n",
       "      <td>3.0</td>\n",
       "      <td>5.5</td>\n",
       "      <td>63.1</td>\n",
       "      <td>1.9</td>\n",
       "      <td>1.9</td>\n",
       "      <td>63.48</td>\n",
       "      <td>1.52</td>\n",
       "    </tr>\n",
       "    <tr>\n",
       "      <th>4</th>\n",
       "      <td>1.4</td>\n",
       "      <td>Female</td>\n",
       "      <td>27</td>\n",
       "      <td>60</td>\n",
       "      <td>62.0</td>\n",
       "      <td>-2.0</td>\n",
       "      <td>-2.0</td>\n",
       "      <td>61.6</td>\n",
       "      <td>-1.6</td>\n",
       "      <td>-1.6</td>\n",
       "      <td>61.28</td>\n",
       "      <td>-1.28</td>\n",
       "    </tr>\n",
       "  </tbody>\n",
       "</table>\n",
       "</div>"
      ],
      "text/plain": [
       "   Height  Gender  Age  ...  Pseudo_Residual2  Prediction_2  Residual3\n",
       "0     1.6    Male   13  ...               6.9         64.48       5.52\n",
       "1     1.7    Male   43  ...              13.6         68.12      10.88\n",
       "2     1.4    Male   10  ...             -20.8         52.64     -16.64\n",
       "3     1.5  Female   35  ...               1.9         63.48       1.52\n",
       "4     1.4  Female   27  ...              -1.6         61.28      -1.28\n",
       "\n",
       "[5 rows x 12 columns]"
      ]
     },
     "execution_count": 24,
     "metadata": {
      "tags": []
     },
     "output_type": "execute_result"
    }
   ],
   "source": [
    "#Back to step 1\n",
    "\n",
    "dummy = dummy.assign(Residual3 = dummy['Weight']-dummy['Prediction_2']) #Gradient descent\n",
    "dummy"
   ]
  },
  {
   "cell_type": "markdown",
   "metadata": {
    "id": "YH2WddIaw48R"
   },
   "source": [
    "Let's look at the residuals (gradient) and note that it decreases every iteration."
   ]
  },
  {
   "cell_type": "code",
   "execution_count": 25,
   "metadata": {
    "colab": {
     "base_uri": "https://localhost:8080/"
    },
    "executionInfo": {
     "elapsed": 15,
     "status": "ok",
     "timestamp": 1629302648371,
     "user": {
      "displayName": "Christopher Monterola",
      "photoUrl": "https://lh3.googleusercontent.com/a-/AOh14GiyxV9CUZD54GBpsQkscS6VRBjebHtFASKcOq-_Lw=s64",
      "userId": "07920169693232563668"
     },
     "user_tz": -480
    },
    "id": "ulWacdhOw48R",
    "outputId": "e43fa0ad-7fcb-4dd2-f124-e963c80f4dea"
   },
   "outputs": [
    {
     "name": "stdout",
     "output_type": "stream",
     "text": [
      "1042.0\n",
      "671.38\n",
      "429.68\n"
     ]
    }
   ],
   "source": [
    "ssq1 = np.sum(dummy['Residual1']**2) # Sum of squares of residuals\n",
    "ssq2 = np.sum(dummy['Residual2']**2)\n",
    "ssq3 = np.sum(dummy['Residual3']**2)\n",
    "\n",
    "print(round(ssq1,2))\n",
    "print(round(ssq2,2))\n",
    "print(round(ssq3,2))\n"
   ]
  },
  {
   "cell_type": "markdown",
   "metadata": {
    "id": "xq3V99I8w48R"
   },
   "source": [
    "# Conclusion\n",
    "\n",
    "We have demonstrated here how the GBM works for a regression, the procedure for the classification is similar and the main difference is instead of averaging you use the $\\log(odds)$ and make the forecast by updating the values using the sigmoid function. Again, below is a visual representation of how the error decreases as a function of iteration parametrized as *n_estimator* in GBM.\n",
    "\n",
    "![algorithm-iterations width=\"5000px\"](https://user-images.githubusercontent.com/25600601/112873342-185b7900-90f4-11eb-8292-a3aa8a5a2a9e.png)\n"
   ]
  },
  {
   "cell_type": "code",
   "execution_count": 25,
   "metadata": {
    "executionInfo": {
     "elapsed": 13,
     "status": "ok",
     "timestamp": 1629302648371,
     "user": {
      "displayName": "Christopher Monterola",
      "photoUrl": "https://lh3.googleusercontent.com/a-/AOh14GiyxV9CUZD54GBpsQkscS6VRBjebHtFASKcOq-_Lw=s64",
      "userId": "07920169693232563668"
     },
     "user_tz": -480
    },
    "id": "dhqMyIjzFCtc"
   },
   "outputs": [],
   "source": []
  }
 ],
 "metadata": {
  "colab": {
   "collapsed_sections": [
    "U2flGaEJw47_",
    "fDmtrXfRw48G",
    "ojKA-ZxTw48K",
    "zbEVFxY3w48N",
    "SaTc7Al3w48P",
    "s90XJY86w48P"
   ],
   "name": "Notebook 7 Supplementary A  GBM for Regression.ipynb",
   "provenance": []
  },
  "kernelspec": {
   "display_name": "Python 3",
   "language": "python",
   "name": "python3"
  },
  "language_info": {
   "codemirror_mode": {
    "name": "ipython",
    "version": 3
   },
   "file_extension": ".py",
   "mimetype": "text/x-python",
   "name": "python",
   "nbconvert_exporter": "python",
   "pygments_lexer": "ipython3",
   "version": "3.8.10"
  }
 },
 "nbformat": 4,
 "nbformat_minor": 4
}
