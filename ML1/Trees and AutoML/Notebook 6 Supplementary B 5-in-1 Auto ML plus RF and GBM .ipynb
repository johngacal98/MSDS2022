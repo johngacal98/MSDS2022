{
 "cells": [
  {
   "cell_type": "code",
   "execution_count": null,
   "metadata": {
    "executionInfo": {
     "elapsed": 443,
     "status": "ok",
     "timestamp": 1629037540080,
     "user": {
      "displayName": "Christopher Monterola",
      "photoUrl": "https://lh3.googleusercontent.com/a-/AOh14GiyxV9CUZD54GBpsQkscS6VRBjebHtFASKcOq-_Lw=s64",
      "userId": "07920169693232563668"
     },
     "user_tz": -480
    },
    "id": "d2V6Lf1CrlVm"
   },
   "outputs": [],
   "source": []
  },
  {
   "cell_type": "markdown",
   "metadata": {
    "id": "V8N15wTBnhSx"
   },
   "source": [
    "# Notebook 6 Supplementary B *7-in-1* Auto ML \n",
    "\n",
    "Conceptualized, organized and prepared by: Christopher Monterola\n",
    "\n",
    "# Example:  College Exam Prediction\n",
    "\n",
    "  \n",
    "Given here are actual class performance of students who took the UP College Admission Test (UPCAT) of a school based in Metro Manila. Information contains the grades of each of the students in English, Math, Science together with their general weighted averages from grades 7-9. An IQ test conducted by the school is also made available together with a confidentially measured variable abbreviated as SA.  \n",
    "\n",
    "Explore how accurate can k-NN, Logistic regression and Linear Support Vector Machine can forecast UPCAT passers (pass=1, fail=0). Determine the optimal parameter for each method and the top predictors. "
   ]
  },
  {
   "cell_type": "code",
   "execution_count": 1,
   "metadata": {
    "execution": {
     "iopub.execute_input": "2021-08-19T06:08:33.239102Z",
     "iopub.status.busy": "2021-08-19T06:08:33.239102Z",
     "iopub.status.idle": "2021-08-19T06:08:34.801823Z",
     "shell.execute_reply": "2021-08-19T06:08:34.800853Z",
     "shell.execute_reply.started": "2021-08-19T06:08:33.239102Z"
    },
    "executionInfo": {
     "elapsed": 7,
     "status": "ok",
     "timestamp": 1629037540358,
     "user": {
      "displayName": "Christopher Monterola",
      "photoUrl": "https://lh3.googleusercontent.com/a-/AOh14GiyxV9CUZD54GBpsQkscS6VRBjebHtFASKcOq-_Lw=s64",
      "userId": "07920169693232563668"
     },
     "user_tz": -480
    },
    "id": "i22wikG1nhS2"
   },
   "outputs": [],
   "source": [
    "import pandas as pd\n",
    "import numpy as np\n",
    "import matplotlib.pyplot as plt\n",
    "\n",
    "import warnings\n",
    "from warnings import simplefilter\n",
    "from sklearn.exceptions import ConvergenceWarning\n",
    "\n",
    "warnings.filterwarnings(\"ignore\", category=FutureWarning)\n",
    "warnings.filterwarnings(\"ignore\", category=RuntimeWarning)\n",
    "warnings.filterwarnings(\"ignore\", category=ConvergenceWarning)\n",
    "#warnings.filterwarnings(\"ignore\", category=DataConversionWarning)\n",
    "\n",
    "#from warnings import simplefilter\n",
    "#from sklearn.exceptions import ConvergenceWarning\n",
    "#simplefilter(\"ignore\", category=ConvergenceWarning)\n"
   ]
  },
  {
   "cell_type": "code",
   "execution_count": 2,
   "metadata": {
    "colab": {
     "base_uri": "https://localhost:8080/"
    },
    "execution": {
     "iopub.execute_input": "2021-08-19T06:08:34.804815Z",
     "iopub.status.busy": "2021-08-19T06:08:34.803818Z",
     "iopub.status.idle": "2021-08-19T06:08:34.816778Z",
     "shell.execute_reply": "2021-08-19T06:08:34.815780Z",
     "shell.execute_reply.started": "2021-08-19T06:08:34.804815Z"
    },
    "executionInfo": {
     "elapsed": 6,
     "status": "ok",
     "timestamp": 1629037540358,
     "user": {
      "displayName": "Christopher Monterola",
      "photoUrl": "https://lh3.googleusercontent.com/a-/AOh14GiyxV9CUZD54GBpsQkscS6VRBjebHtFASKcOq-_Lw=s64",
      "userId": "07920169693232563668"
     },
     "user_tz": -480
    },
    "id": "jvguYUSBoqAb",
    "outputId": "576b1575-fbeb-454f-b580-b292bf4fd4df"
   },
   "outputs": [],
   "source": [
    "# from google.colab import drive\n",
    "# drive.mount('/content/drive')"
   ]
  },
  {
   "cell_type": "code",
   "execution_count": 3,
   "metadata": {
    "execution": {
     "iopub.execute_input": "2021-08-19T06:08:34.818806Z",
     "iopub.status.busy": "2021-08-19T06:08:34.818806Z",
     "iopub.status.idle": "2021-08-19T06:08:34.845744Z",
     "shell.execute_reply": "2021-08-19T06:08:34.845744Z",
     "shell.execute_reply.started": "2021-08-19T06:08:34.818806Z"
    },
    "executionInfo": {
     "elapsed": 5,
     "status": "ok",
     "timestamp": 1629037540359,
     "user": {
      "displayName": "Christopher Monterola",
      "photoUrl": "https://lh3.googleusercontent.com/a-/AOh14GiyxV9CUZD54GBpsQkscS6VRBjebHtFASKcOq-_Lw=s64",
      "userId": "07920169693232563668"
     },
     "user_tz": -480
    },
    "id": "jAercSxho-Cw"
   },
   "outputs": [],
   "source": [
    "data_dir = ''"
   ]
  },
  {
   "cell_type": "code",
   "execution_count": 4,
   "metadata": {
    "colab": {
     "base_uri": "https://localhost:8080/",
     "height": 204
    },
    "execution": {
     "iopub.execute_input": "2021-08-19T06:08:34.847695Z",
     "iopub.status.busy": "2021-08-19T06:08:34.846698Z",
     "iopub.status.idle": "2021-08-19T06:08:35.422158Z",
     "shell.execute_reply": "2021-08-19T06:08:35.422158Z",
     "shell.execute_reply.started": "2021-08-19T06:08:34.847695Z"
    },
    "executionInfo": {
     "elapsed": 280,
     "status": "ok",
     "timestamp": 1629037540634,
     "user": {
      "displayName": "Christopher Monterola",
      "photoUrl": "https://lh3.googleusercontent.com/a-/AOh14GiyxV9CUZD54GBpsQkscS6VRBjebHtFASKcOq-_Lw=s64",
      "userId": "07920169693232563668"
     },
     "user_tz": -480
    },
    "id": "2DE45p0ynhS3",
    "outputId": "f67afeec-fd62-4c56-ddb2-287dae65c5e0"
   },
   "outputs": [
    {
     "data": {
      "text/html": [
       "<div>\n",
       "<style scoped>\n",
       "    .dataframe tbody tr th:only-of-type {\n",
       "        vertical-align: middle;\n",
       "    }\n",
       "\n",
       "    .dataframe tbody tr th {\n",
       "        vertical-align: top;\n",
       "    }\n",
       "\n",
       "    .dataframe thead th {\n",
       "        text-align: right;\n",
       "    }\n",
       "</style>\n",
       "<table border=\"1\" class=\"dataframe\">\n",
       "  <thead>\n",
       "    <tr style=\"text-align: right;\">\n",
       "      <th></th>\n",
       "      <th>Batch</th>\n",
       "      <th>Eng7</th>\n",
       "      <th>Eng8</th>\n",
       "      <th>Eng9</th>\n",
       "      <th>Math7</th>\n",
       "      <th>Math8</th>\n",
       "      <th>Math9</th>\n",
       "      <th>Sci7</th>\n",
       "      <th>Sci8</th>\n",
       "      <th>Sci9</th>\n",
       "      <th>GWA7</th>\n",
       "      <th>GWA8</th>\n",
       "      <th>GWA9</th>\n",
       "      <th>UP</th>\n",
       "      <th>IQ</th>\n",
       "      <th>SA</th>\n",
       "      <th>C1</th>\n",
       "      <th>C2</th>\n",
       "      <th>Target</th>\n",
       "    </tr>\n",
       "  </thead>\n",
       "  <tbody>\n",
       "    <tr>\n",
       "      <th>0</th>\n",
       "      <td>2005</td>\n",
       "      <td>77</td>\n",
       "      <td>82.0</td>\n",
       "      <td>86</td>\n",
       "      <td>94</td>\n",
       "      <td>87</td>\n",
       "      <td>92.0</td>\n",
       "      <td>84</td>\n",
       "      <td>80</td>\n",
       "      <td>92</td>\n",
       "      <td>1.4764</td>\n",
       "      <td>1.5045</td>\n",
       "      <td>1.4098</td>\n",
       "      <td>1</td>\n",
       "      <td>55.0</td>\n",
       "      <td>28</td>\n",
       "      <td>1</td>\n",
       "      <td>4.0</td>\n",
       "      <td>1</td>\n",
       "    </tr>\n",
       "    <tr>\n",
       "      <th>1</th>\n",
       "      <td>2005</td>\n",
       "      <td>57</td>\n",
       "      <td>57.0</td>\n",
       "      <td>59</td>\n",
       "      <td>55</td>\n",
       "      <td>46</td>\n",
       "      <td>57.0</td>\n",
       "      <td>53</td>\n",
       "      <td>45</td>\n",
       "      <td>53</td>\n",
       "      <td>2.6557</td>\n",
       "      <td>2.7000</td>\n",
       "      <td>2.7008</td>\n",
       "      <td>1</td>\n",
       "      <td>38.0</td>\n",
       "      <td>19</td>\n",
       "      <td>5</td>\n",
       "      <td>3.0</td>\n",
       "      <td>0</td>\n",
       "    </tr>\n",
       "    <tr>\n",
       "      <th>2</th>\n",
       "      <td>2005</td>\n",
       "      <td>55</td>\n",
       "      <td>52.0</td>\n",
       "      <td>55</td>\n",
       "      <td>57</td>\n",
       "      <td>53</td>\n",
       "      <td>51.0</td>\n",
       "      <td>57</td>\n",
       "      <td>62</td>\n",
       "      <td>51</td>\n",
       "      <td>2.6132</td>\n",
       "      <td>2.6818</td>\n",
       "      <td>2.7172</td>\n",
       "      <td>0</td>\n",
       "      <td>17.0</td>\n",
       "      <td>9</td>\n",
       "      <td>5</td>\n",
       "      <td>6.0</td>\n",
       "      <td>0</td>\n",
       "    </tr>\n",
       "    <tr>\n",
       "      <th>3</th>\n",
       "      <td>2005</td>\n",
       "      <td>69</td>\n",
       "      <td>78.0</td>\n",
       "      <td>78</td>\n",
       "      <td>87</td>\n",
       "      <td>79</td>\n",
       "      <td>79.0</td>\n",
       "      <td>83</td>\n",
       "      <td>82</td>\n",
       "      <td>79</td>\n",
       "      <td>1.7217</td>\n",
       "      <td>1.6136</td>\n",
       "      <td>1.7049</td>\n",
       "      <td>1</td>\n",
       "      <td>45.0</td>\n",
       "      <td>28</td>\n",
       "      <td>1</td>\n",
       "      <td>4.0</td>\n",
       "      <td>0</td>\n",
       "    </tr>\n",
       "    <tr>\n",
       "      <th>4</th>\n",
       "      <td>2005</td>\n",
       "      <td>64</td>\n",
       "      <td>71.0</td>\n",
       "      <td>68</td>\n",
       "      <td>71</td>\n",
       "      <td>57</td>\n",
       "      <td>54.0</td>\n",
       "      <td>60</td>\n",
       "      <td>59</td>\n",
       "      <td>55</td>\n",
       "      <td>2.4245</td>\n",
       "      <td>2.4318</td>\n",
       "      <td>2.4713</td>\n",
       "      <td>1</td>\n",
       "      <td>67.0</td>\n",
       "      <td>56</td>\n",
       "      <td>1</td>\n",
       "      <td>5.0</td>\n",
       "      <td>0</td>\n",
       "    </tr>\n",
       "  </tbody>\n",
       "</table>\n",
       "</div>"
      ],
      "text/plain": [
       "   Batch  Eng7  Eng8  Eng9  Math7  Math8  Math9  Sci7  Sci8  Sci9    GWA7  \\\n",
       "0   2005    77  82.0    86     94     87   92.0    84    80    92  1.4764   \n",
       "1   2005    57  57.0    59     55     46   57.0    53    45    53  2.6557   \n",
       "2   2005    55  52.0    55     57     53   51.0    57    62    51  2.6132   \n",
       "3   2005    69  78.0    78     87     79   79.0    83    82    79  1.7217   \n",
       "4   2005    64  71.0    68     71     57   54.0    60    59    55  2.4245   \n",
       "\n",
       "     GWA8    GWA9  UP    IQ  SA  C1   C2  Target  \n",
       "0  1.5045  1.4098   1  55.0  28   1  4.0       1  \n",
       "1  2.7000  2.7008   1  38.0  19   5  3.0       0  \n",
       "2  2.6818  2.7172   0  17.0   9   5  6.0       0  \n",
       "3  1.6136  1.7049   1  45.0  28   1  4.0       0  \n",
       "4  2.4318  2.4713   1  67.0  56   1  5.0       0  "
      ]
     },
     "execution_count": 4,
     "metadata": {},
     "output_type": "execute_result"
    }
   ],
   "source": [
    "df_UPCAT = pd.read_excel(data_dir+'UPCAT_DATA2(2).xlsx', sheet_name='AllData')\n",
    "dummy = df_UPCAT\n",
    "dummy.head()"
   ]
  },
  {
   "cell_type": "code",
   "execution_count": 5,
   "metadata": {
    "colab": {
     "base_uri": "https://localhost:8080/"
    },
    "execution": {
     "iopub.execute_input": "2021-08-19T06:08:35.424156Z",
     "iopub.status.busy": "2021-08-19T06:08:35.423156Z",
     "iopub.status.idle": "2021-08-19T06:08:35.438116Z",
     "shell.execute_reply": "2021-08-19T06:08:35.438116Z",
     "shell.execute_reply.started": "2021-08-19T06:08:35.424156Z"
    },
    "executionInfo": {
     "elapsed": 9,
     "status": "ok",
     "timestamp": 1629037540634,
     "user": {
      "displayName": "Christopher Monterola",
      "photoUrl": "https://lh3.googleusercontent.com/a-/AOh14GiyxV9CUZD54GBpsQkscS6VRBjebHtFASKcOq-_Lw=s64",
      "userId": "07920169693232563668"
     },
     "user_tz": -480
    },
    "id": "YhH1fwTwnhS4",
    "outputId": "5b1a1930-55a0-4536-8665-b1ed46e5b362"
   },
   "outputs": [
    {
     "name": "stdout",
     "output_type": "stream",
     "text": [
      "(1010, 19)\n"
     ]
    }
   ],
   "source": [
    "print(df_UPCAT.shape)"
   ]
  },
  {
   "cell_type": "code",
   "execution_count": 6,
   "metadata": {
    "colab": {
     "base_uri": "https://localhost:8080/"
    },
    "execution": {
     "iopub.execute_input": "2021-08-19T06:08:35.439112Z",
     "iopub.status.busy": "2021-08-19T06:08:35.439112Z",
     "iopub.status.idle": "2021-08-19T06:08:35.454128Z",
     "shell.execute_reply": "2021-08-19T06:08:35.454128Z",
     "shell.execute_reply.started": "2021-08-19T06:08:35.439112Z"
    },
    "executionInfo": {
     "elapsed": 7,
     "status": "ok",
     "timestamp": 1629037540635,
     "user": {
      "displayName": "Christopher Monterola",
      "photoUrl": "https://lh3.googleusercontent.com/a-/AOh14GiyxV9CUZD54GBpsQkscS6VRBjebHtFASKcOq-_Lw=s64",
      "userId": "07920169693232563668"
     },
     "user_tz": -480
    },
    "id": "BrrS11kLnhS4",
    "outputId": "d7f525b1-f4b3-4d67-f7df-b26daea8b0a5"
   },
   "outputs": [
    {
     "data": {
      "text/plain": [
       "Index(['Batch', 'Eng7', 'Eng8', 'Eng9', 'Math7', 'Math8', 'Math9', 'Sci7',\n",
       "       'Sci8', 'Sci9', 'GWA7', 'GWA8', 'GWA9', 'UP', 'IQ', 'SA', 'C1', 'C2',\n",
       "       'Target'],\n",
       "      dtype='object')"
      ]
     },
     "execution_count": 6,
     "metadata": {},
     "output_type": "execute_result"
    }
   ],
   "source": [
    "df_UPCAT.columns"
   ]
  },
  {
   "cell_type": "code",
   "execution_count": 7,
   "metadata": {
    "colab": {
     "base_uri": "https://localhost:8080/",
     "height": 285
    },
    "execution": {
     "iopub.execute_input": "2021-08-19T06:08:35.455070Z",
     "iopub.status.busy": "2021-08-19T06:08:35.455070Z",
     "iopub.status.idle": "2021-08-19T06:08:35.800149Z",
     "shell.execute_reply": "2021-08-19T06:08:35.799200Z",
     "shell.execute_reply.started": "2021-08-19T06:08:35.455070Z"
    },
    "executionInfo": {
     "elapsed": 524,
     "status": "ok",
     "timestamp": 1629037541154,
     "user": {
      "displayName": "Christopher Monterola",
      "photoUrl": "https://lh3.googleusercontent.com/a-/AOh14GiyxV9CUZD54GBpsQkscS6VRBjebHtFASKcOq-_Lw=s64",
      "userId": "07920169693232563668"
     },
     "user_tz": -480
    },
    "id": "lfrqu3OenhS4",
    "outputId": "672937bd-3fc3-4f85-bc17-05eccf815b4b"
   },
   "outputs": [
    {
     "data": {
      "image/png": "[encoded data removed]",
      "text/plain": [
       "<Figure size 640x480 with 1 Axes>"
      ]
     },
     "metadata": {},
     "output_type": "display_data"
    }
   ],
   "source": [
    "import seaborn as sns\n",
    "sns.countplot(df_UPCAT['Target'],label=\"Count\")\n",
    "plt.show()"
   ]
  },
  {
   "cell_type": "code",
   "execution_count": 8,
   "metadata": {
    "colab": {
     "base_uri": "https://localhost:8080/",
     "height": 901
    },
    "execution": {
     "iopub.execute_input": "2021-08-19T06:08:35.802169Z",
     "iopub.status.busy": "2021-08-19T06:08:35.802169Z",
     "iopub.status.idle": "2021-08-19T06:08:39.963208Z",
     "shell.execute_reply": "2021-08-19T06:08:39.962210Z",
     "shell.execute_reply.started": "2021-08-19T06:08:35.802169Z"
    },
    "executionInfo": {
     "elapsed": 15093,
     "status": "ok",
     "timestamp": 1629037556243,
     "user": {
      "displayName": "Christopher Monterola",
      "photoUrl": "https://lh3.googleusercontent.com/a-/AOh14GiyxV9CUZD54GBpsQkscS6VRBjebHtFASKcOq-_Lw=s64",
      "userId": "07920169693232563668"
     },
     "user_tz": -480
    },
    "id": "ypS9F_runhS4",
    "outputId": "9cf8d9dc-1b07-4601-d836-e1978334f9db"
   },
   "outputs": [],
   "source": [
    "import seaborn as sns\n",
    "sns.set(style=\"ticks\")\n",
    "\n",
    "df = df_UPCAT[['Math9', 'Eng9','GWA7','SA','IQ','Target']]\n",
    "sns.pairplot(df, hue=\"Target\", diag_kind='kde')\n",
    "\n",
    "pass"
   ]
  },
  {
   "cell_type": "code",
   "execution_count": 9,
   "metadata": {
    "colab": {
     "base_uri": "https://localhost:8080/"
    },
    "execution": {
     "iopub.execute_input": "2021-08-19T06:08:39.966201Z",
     "iopub.status.busy": "2021-08-19T06:08:39.966201Z",
     "iopub.status.idle": "2021-08-19T06:08:39.977202Z",
     "shell.execute_reply": "2021-08-19T06:08:39.977202Z",
     "shell.execute_reply.started": "2021-08-19T06:08:39.966201Z"
    },
    "executionInfo": {
     "elapsed": 19,
     "status": "ok",
     "timestamp": 1629037556243,
     "user": {
      "displayName": "Christopher Monterola",
      "photoUrl": "https://lh3.googleusercontent.com/a-/AOh14GiyxV9CUZD54GBpsQkscS6VRBjebHtFASKcOq-_Lw=s64",
      "userId": "07920169693232563668"
     },
     "user_tz": -480
    },
    "id": "8-z4RueenhS5",
    "outputId": "88d336be-4762-4541-c1f3-0f9ab928d36b",
    "scrolled": true
   },
   "outputs": [
    {
     "name": "stdout",
     "output_type": "stream",
     "text": [
      "Proportion Chance Criterion = 50.12253700617586%\n",
      "1.25*Proportion Chance Criterion = 62.653171257719826%\n"
     ]
    }
   ],
   "source": [
    "num=(df_UPCAT.groupby('Target').size()/df_UPCAT.groupby('Target').size().sum())**2\n",
    "#print(\"Population per class: {}\\n\".format(df_state))\n",
    "print(\"Proportion Chance Criterion = {}%\".format(100*num.sum()))\n",
    "print(\"1.25*Proportion Chance Criterion = {}%\".format(1.25*100*num.sum()))"
   ]
  },
  {
   "cell_type": "markdown",
   "metadata": {
    "id": "FWTDPJ33rob1"
   },
   "source": []
  },
  {
   "cell_type": "markdown",
   "metadata": {
    "id": "Irm8eH5tnhS5"
   },
   "source": [
    "# Step 1: Look at the missing values"
   ]
  },
  {
   "cell_type": "code",
   "execution_count": 10,
   "metadata": {
    "colab": {
     "base_uri": "https://localhost:8080/"
    },
    "execution": {
     "iopub.execute_input": "2021-08-19T06:08:39.978165Z",
     "iopub.status.busy": "2021-08-19T06:08:39.978165Z",
     "iopub.status.idle": "2021-08-19T06:08:40.008224Z",
     "shell.execute_reply": "2021-08-19T06:08:40.008224Z",
     "shell.execute_reply.started": "2021-08-19T06:08:39.978165Z"
    },
    "executionInfo": {
     "elapsed": 17,
     "status": "ok",
     "timestamp": 1629037556244,
     "user": {
      "displayName": "Christopher Monterola",
      "photoUrl": "https://lh3.googleusercontent.com/a-/AOh14GiyxV9CUZD54GBpsQkscS6VRBjebHtFASKcOq-_Lw=s64",
      "userId": "07920169693232563668"
     },
     "user_tz": -480
    },
    "id": "kFn3o-UTnhS5",
    "outputId": "10d7deed-e29e-4853-d8cc-3952e7c6b1cc"
   },
   "outputs": [
    {
     "data": {
      "text/plain": [
       "Batch     0\n",
       "Eng7      0\n",
       "Eng8      1\n",
       "Eng9      0\n",
       "Math7     0\n",
       "Math8     0\n",
       "Math9     1\n",
       "Sci7      0\n",
       "Sci8      0\n",
       "Sci9      0\n",
       "GWA7      0\n",
       "GWA8      0\n",
       "GWA9      1\n",
       "UP        0\n",
       "IQ        1\n",
       "SA        0\n",
       "C1        0\n",
       "C2        2\n",
       "Target    0\n",
       "dtype: int64"
      ]
     },
     "execution_count": 10,
     "metadata": {},
     "output_type": "execute_result"
    }
   ],
   "source": [
    "df_UPCAT.isnull().sum()"
   ]
  },
  {
   "cell_type": "markdown",
   "metadata": {
    "id": "OgMgwo78nhS5"
   },
   "source": [
    "# Steps 2 and 3. Remove or Imput the missing values"
   ]
  },
  {
   "cell_type": "code",
   "execution_count": 11,
   "metadata": {
    "colab": {
     "base_uri": "https://localhost:8080/"
    },
    "execution": {
     "iopub.execute_input": "2021-08-19T06:08:40.009221Z",
     "iopub.status.busy": "2021-08-19T06:08:40.009221Z",
     "iopub.status.idle": "2021-08-19T06:08:40.039174Z",
     "shell.execute_reply": "2021-08-19T06:08:40.039174Z",
     "shell.execute_reply.started": "2021-08-19T06:08:40.009221Z"
    },
    "executionInfo": {
     "elapsed": 14,
     "status": "ok",
     "timestamp": 1629037556244,
     "user": {
      "displayName": "Christopher Monterola",
      "photoUrl": "https://lh3.googleusercontent.com/a-/AOh14GiyxV9CUZD54GBpsQkscS6VRBjebHtFASKcOq-_Lw=s64",
      "userId": "07920169693232563668"
     },
     "user_tz": -480
    },
    "id": "ufOuIbEwnhS6",
    "outputId": "ae20b700-95be-4820-9998-a014a250fa4a"
   },
   "outputs": [
    {
     "data": {
      "text/plain": [
       "Batch     0\n",
       "Eng7      0\n",
       "Eng8      0\n",
       "Eng9      0\n",
       "Math7     0\n",
       "Math8     0\n",
       "Math9     0\n",
       "Sci7      0\n",
       "Sci8      0\n",
       "Sci9      0\n",
       "GWA7      0\n",
       "GWA8      0\n",
       "GWA9      0\n",
       "UP        0\n",
       "IQ        0\n",
       "SA        0\n",
       "C1        0\n",
       "C2        0\n",
       "Target    0\n",
       "dtype: int64"
      ]
     },
     "execution_count": 11,
     "metadata": {},
     "output_type": "execute_result"
    }
   ],
   "source": [
    "import pandas as pd\n",
    "import numpy as np\n",
    "\n",
    "from sklearn.base import TransformerMixin\n",
    "\n",
    "class DataFrameImputer(TransformerMixin):\n",
    "\n",
    "    def __init__(self):\n",
    "        \"\"\"Impute missing values.\n",
    "\n",
    "        Columns of dtype object are imputed with the most frequent value \n",
    "        in column.\n",
    "\n",
    "        Columns of other types are imputed with mean of column.\n",
    "\n",
    "        \"\"\"\n",
    "    def fit(self, X, y=None):\n",
    "\n",
    "        self.fill = pd.Series([X[c].value_counts().index[0]\n",
    "            if X[c].dtype == np.dtype('O') else X[c].mean() for c in X],\n",
    "            index=X.columns)\n",
    "\n",
    "        return self\n",
    "\n",
    "    def transform(self, X, y=None):\n",
    "        return X.fillna(self.fill)\n",
    "\n",
    "\n",
    "\n",
    "X_transition = pd.DataFrame(df_UPCAT)\n",
    "X_clean = DataFrameImputer().fit_transform(X_transition)\n",
    "\n",
    "X_clean.isnull().sum()"
   ]
  },
  {
   "cell_type": "code",
   "execution_count": 12,
   "metadata": {
    "colab": {
     "base_uri": "https://localhost:8080/",
     "height": 0
    },
    "execution": {
     "iopub.execute_input": "2021-08-19T06:08:40.040136Z",
     "iopub.status.busy": "2021-08-19T06:08:40.040136Z",
     "iopub.status.idle": "2021-08-19T06:08:40.056095Z",
     "shell.execute_reply": "2021-08-19T06:08:40.055096Z",
     "shell.execute_reply.started": "2021-08-19T06:08:40.040136Z"
    },
    "executionInfo": {
     "elapsed": 14,
     "status": "ok",
     "timestamp": 1629037556245,
     "user": {
      "displayName": "Christopher Monterola",
      "photoUrl": "https://lh3.googleusercontent.com/a-/AOh14GiyxV9CUZD54GBpsQkscS6VRBjebHtFASKcOq-_Lw=s64",
      "userId": "07920169693232563668"
     },
     "user_tz": -480
    },
    "id": "ZfntN412nhS6",
    "outputId": "49cac53a-c40e-423e-9e18-b687a14ea08b",
    "scrolled": true
   },
   "outputs": [
    {
     "data": {
      "text/html": [
       "<div>\n",
       "<style scoped>\n",
       "    .dataframe tbody tr th:only-of-type {\n",
       "        vertical-align: middle;\n",
       "    }\n",
       "\n",
       "    .dataframe tbody tr th {\n",
       "        vertical-align: top;\n",
       "    }\n",
       "\n",
       "    .dataframe thead th {\n",
       "        text-align: right;\n",
       "    }\n",
       "</style>\n",
       "<table border=\"1\" class=\"dataframe\">\n",
       "  <thead>\n",
       "    <tr style=\"text-align: right;\">\n",
       "      <th></th>\n",
       "      <th>Batch</th>\n",
       "      <th>Eng7</th>\n",
       "      <th>Eng8</th>\n",
       "      <th>Eng9</th>\n",
       "      <th>Math7</th>\n",
       "      <th>Math8</th>\n",
       "      <th>Math9</th>\n",
       "      <th>Sci7</th>\n",
       "      <th>Sci8</th>\n",
       "      <th>Sci9</th>\n",
       "      <th>GWA7</th>\n",
       "      <th>GWA8</th>\n",
       "      <th>GWA9</th>\n",
       "      <th>UP</th>\n",
       "      <th>IQ</th>\n",
       "      <th>SA</th>\n",
       "      <th>C1</th>\n",
       "      <th>C2</th>\n",
       "      <th>Target</th>\n",
       "    </tr>\n",
       "  </thead>\n",
       "  <tbody>\n",
       "    <tr>\n",
       "      <th>0</th>\n",
       "      <td>2005</td>\n",
       "      <td>77</td>\n",
       "      <td>82.0</td>\n",
       "      <td>86</td>\n",
       "      <td>94</td>\n",
       "      <td>87</td>\n",
       "      <td>92.0</td>\n",
       "      <td>84</td>\n",
       "      <td>80</td>\n",
       "      <td>92</td>\n",
       "      <td>1.4764</td>\n",
       "      <td>1.5045</td>\n",
       "      <td>1.4098</td>\n",
       "      <td>1</td>\n",
       "      <td>55.0</td>\n",
       "      <td>28</td>\n",
       "      <td>1</td>\n",
       "      <td>4.0</td>\n",
       "      <td>1</td>\n",
       "    </tr>\n",
       "    <tr>\n",
       "      <th>1</th>\n",
       "      <td>2005</td>\n",
       "      <td>57</td>\n",
       "      <td>57.0</td>\n",
       "      <td>59</td>\n",
       "      <td>55</td>\n",
       "      <td>46</td>\n",
       "      <td>57.0</td>\n",
       "      <td>53</td>\n",
       "      <td>45</td>\n",
       "      <td>53</td>\n",
       "      <td>2.6557</td>\n",
       "      <td>2.7000</td>\n",
       "      <td>2.7008</td>\n",
       "      <td>1</td>\n",
       "      <td>38.0</td>\n",
       "      <td>19</td>\n",
       "      <td>5</td>\n",
       "      <td>3.0</td>\n",
       "      <td>0</td>\n",
       "    </tr>\n",
       "    <tr>\n",
       "      <th>2</th>\n",
       "      <td>2005</td>\n",
       "      <td>55</td>\n",
       "      <td>52.0</td>\n",
       "      <td>55</td>\n",
       "      <td>57</td>\n",
       "      <td>53</td>\n",
       "      <td>51.0</td>\n",
       "      <td>57</td>\n",
       "      <td>62</td>\n",
       "      <td>51</td>\n",
       "      <td>2.6132</td>\n",
       "      <td>2.6818</td>\n",
       "      <td>2.7172</td>\n",
       "      <td>0</td>\n",
       "      <td>17.0</td>\n",
       "      <td>9</td>\n",
       "      <td>5</td>\n",
       "      <td>6.0</td>\n",
       "      <td>0</td>\n",
       "    </tr>\n",
       "    <tr>\n",
       "      <th>3</th>\n",
       "      <td>2005</td>\n",
       "      <td>69</td>\n",
       "      <td>78.0</td>\n",
       "      <td>78</td>\n",
       "      <td>87</td>\n",
       "      <td>79</td>\n",
       "      <td>79.0</td>\n",
       "      <td>83</td>\n",
       "      <td>82</td>\n",
       "      <td>79</td>\n",
       "      <td>1.7217</td>\n",
       "      <td>1.6136</td>\n",
       "      <td>1.7049</td>\n",
       "      <td>1</td>\n",
       "      <td>45.0</td>\n",
       "      <td>28</td>\n",
       "      <td>1</td>\n",
       "      <td>4.0</td>\n",
       "      <td>0</td>\n",
       "    </tr>\n",
       "    <tr>\n",
       "      <th>4</th>\n",
       "      <td>2005</td>\n",
       "      <td>64</td>\n",
       "      <td>71.0</td>\n",
       "      <td>68</td>\n",
       "      <td>71</td>\n",
       "      <td>57</td>\n",
       "      <td>54.0</td>\n",
       "      <td>60</td>\n",
       "      <td>59</td>\n",
       "      <td>55</td>\n",
       "      <td>2.4245</td>\n",
       "      <td>2.4318</td>\n",
       "      <td>2.4713</td>\n",
       "      <td>1</td>\n",
       "      <td>67.0</td>\n",
       "      <td>56</td>\n",
       "      <td>1</td>\n",
       "      <td>5.0</td>\n",
       "      <td>0</td>\n",
       "    </tr>\n",
       "  </tbody>\n",
       "</table>\n",
       "</div>"
      ],
      "text/plain": [
       "   Batch  Eng7  Eng8  Eng9  Math7  Math8  Math9  Sci7  Sci8  Sci9    GWA7  \\\n",
       "0   2005    77  82.0    86     94     87   92.0    84    80    92  1.4764   \n",
       "1   2005    57  57.0    59     55     46   57.0    53    45    53  2.6557   \n",
       "2   2005    55  52.0    55     57     53   51.0    57    62    51  2.6132   \n",
       "3   2005    69  78.0    78     87     79   79.0    83    82    79  1.7217   \n",
       "4   2005    64  71.0    68     71     57   54.0    60    59    55  2.4245   \n",
       "\n",
       "     GWA8    GWA9  UP    IQ  SA  C1   C2  Target  \n",
       "0  1.5045  1.4098   1  55.0  28   1  4.0       1  \n",
       "1  2.7000  2.7008   1  38.0  19   5  3.0       0  \n",
       "2  2.6818  2.7172   0  17.0   9   5  6.0       0  \n",
       "3  1.6136  1.7049   1  45.0  28   1  4.0       0  \n",
       "4  2.4318  2.4713   1  67.0  56   1  5.0       0  "
      ]
     },
     "execution_count": 12,
     "metadata": {},
     "output_type": "execute_result"
    }
   ],
   "source": [
    "X_clean.head()"
   ]
  },
  {
   "cell_type": "code",
   "execution_count": 13,
   "metadata": {
    "execution": {
     "iopub.execute_input": "2021-08-19T06:08:40.057099Z",
     "iopub.status.busy": "2021-08-19T06:08:40.057099Z",
     "iopub.status.idle": "2021-08-19T06:08:40.071054Z",
     "shell.execute_reply": "2021-08-19T06:08:40.070082Z",
     "shell.execute_reply.started": "2021-08-19T06:08:40.057099Z"
    },
    "executionInfo": {
     "elapsed": 13,
     "status": "ok",
     "timestamp": 1629037556245,
     "user": {
      "displayName": "Christopher Monterola",
      "photoUrl": "https://lh3.googleusercontent.com/a-/AOh14GiyxV9CUZD54GBpsQkscS6VRBjebHtFASKcOq-_Lw=s64",
      "userId": "07920169693232563668"
     },
     "user_tz": -480
    },
    "id": "fG-9RuBRnhS6"
   },
   "outputs": [],
   "source": [
    "X_clean = X_clean.drop('Target', axis=1)"
   ]
  },
  {
   "cell_type": "markdown",
   "metadata": {
    "id": "b1bhTSU5nhS6"
   },
   "source": [
    "# Step 4. Handle Categorical Data, for simplicity let's just One Hat Encode all the categorical values\n",
    "\n",
    "None, all data are numerical."
   ]
  },
  {
   "cell_type": "markdown",
   "metadata": {
    "id": "bjcZbQEKnhS7"
   },
   "source": [
    "# Step 5: Apply Scaler"
   ]
  },
  {
   "cell_type": "code",
   "execution_count": 14,
   "metadata": {
    "execution": {
     "iopub.execute_input": "2021-08-19T06:08:40.072052Z",
     "iopub.status.busy": "2021-08-19T06:08:40.071054Z",
     "iopub.status.idle": "2021-08-19T06:08:40.087012Z",
     "shell.execute_reply": "2021-08-19T06:08:40.086015Z",
     "shell.execute_reply.started": "2021-08-19T06:08:40.072052Z"
    },
    "executionInfo": {
     "elapsed": 13,
     "status": "ok",
     "timestamp": 1629037556245,
     "user": {
      "displayName": "Christopher Monterola",
      "photoUrl": "https://lh3.googleusercontent.com/a-/AOh14GiyxV9CUZD54GBpsQkscS6VRBjebHtFASKcOq-_Lw=s64",
      "userId": "07920169693232563668"
     },
     "user_tz": -480
    },
    "id": "0q4cP8x2nhS7"
   },
   "outputs": [],
   "source": [
    "X_column_names =X_clean.columns"
   ]
  },
  {
   "cell_type": "code",
   "execution_count": 15,
   "metadata": {
    "execution": {
     "iopub.execute_input": "2021-08-19T06:08:40.088009Z",
     "iopub.status.busy": "2021-08-19T06:08:40.088009Z",
     "iopub.status.idle": "2021-08-19T06:08:40.116853Z",
     "shell.execute_reply": "2021-08-19T06:08:40.116853Z",
     "shell.execute_reply.started": "2021-08-19T06:08:40.088009Z"
    },
    "executionInfo": {
     "elapsed": 13,
     "status": "ok",
     "timestamp": 1629037556246,
     "user": {
      "displayName": "Christopher Monterola",
      "photoUrl": "https://lh3.googleusercontent.com/a-/AOh14GiyxV9CUZD54GBpsQkscS6VRBjebHtFASKcOq-_Lw=s64",
      "userId": "07920169693232563668"
     },
     "user_tz": -480
    },
    "id": "_HCRDsCpnhS7"
   },
   "outputs": [
    {
     "name": "stderr",
     "output_type": "stream",
     "text": [
      "<ipython-input-15-b2b2a75f1c40>:3: DeprecationWarning: `np.float` is a deprecated alias for the builtin `float`. To silence this warning, use `float` by itself. Doing this will not modify any behavior and is safe. If you specifically wanted the numpy scalar type, use `np.float64` here.\n",
      "Deprecated in NumPy 1.20; for more details and guidance: https://numpy.org/devdocs/release/1.20.0-notes.html#deprecations\n",
      "  XX = sscaler.fit_transform(X_clean.astype(np.float)) #You will loss the column names\n"
     ]
    }
   ],
   "source": [
    "from sklearn.preprocessing import MinMaxScaler\n",
    "sscaler = MinMaxScaler()\n",
    "XX = sscaler.fit_transform(X_clean.astype(np.float)) #You will loss the column names"
   ]
  },
  {
   "cell_type": "code",
   "execution_count": 16,
   "metadata": {
    "colab": {
     "base_uri": "https://localhost:8080/",
     "height": 0
    },
    "execution": {
     "iopub.execute_input": "2021-08-19T06:08:40.118852Z",
     "iopub.status.busy": "2021-08-19T06:08:40.118852Z",
     "iopub.status.idle": "2021-08-19T06:08:40.147797Z",
     "shell.execute_reply": "2021-08-19T06:08:40.147797Z",
     "shell.execute_reply.started": "2021-08-19T06:08:40.118852Z"
    },
    "executionInfo": {
     "elapsed": 12,
     "status": "ok",
     "timestamp": 1629037556246,
     "user": {
      "displayName": "Christopher Monterola",
      "photoUrl": "https://lh3.googleusercontent.com/a-/AOh14GiyxV9CUZD54GBpsQkscS6VRBjebHtFASKcOq-_Lw=s64",
      "userId": "07920169693232563668"
     },
     "user_tz": -480
    },
    "id": "w6FSw_InnhS7",
    "outputId": "76173b12-c42c-449b-bb8a-9f812298d19e"
   },
   "outputs": [
    {
     "data": {
      "text/html": [
       "<div>\n",
       "<style scoped>\n",
       "    .dataframe tbody tr th:only-of-type {\n",
       "        vertical-align: middle;\n",
       "    }\n",
       "\n",
       "    .dataframe tbody tr th {\n",
       "        vertical-align: top;\n",
       "    }\n",
       "\n",
       "    .dataframe thead th {\n",
       "        text-align: right;\n",
       "    }\n",
       "</style>\n",
       "<table border=\"1\" class=\"dataframe\">\n",
       "  <thead>\n",
       "    <tr style=\"text-align: right;\">\n",
       "      <th></th>\n",
       "      <th>Batch</th>\n",
       "      <th>Eng7</th>\n",
       "      <th>Eng8</th>\n",
       "      <th>Eng9</th>\n",
       "      <th>Math7</th>\n",
       "      <th>Math8</th>\n",
       "      <th>Math9</th>\n",
       "      <th>Sci7</th>\n",
       "      <th>Sci8</th>\n",
       "      <th>Sci9</th>\n",
       "      <th>GWA7</th>\n",
       "      <th>GWA8</th>\n",
       "      <th>GWA9</th>\n",
       "      <th>UP</th>\n",
       "      <th>IQ</th>\n",
       "      <th>SA</th>\n",
       "      <th>C1</th>\n",
       "      <th>C2</th>\n",
       "    </tr>\n",
       "  </thead>\n",
       "  <tbody>\n",
       "    <tr>\n",
       "      <th>0</th>\n",
       "      <td>0.0</td>\n",
       "      <td>0.634615</td>\n",
       "      <td>0.772727</td>\n",
       "      <td>0.764706</td>\n",
       "      <td>0.915254</td>\n",
       "      <td>0.793103</td>\n",
       "      <td>0.879310</td>\n",
       "      <td>0.695652</td>\n",
       "      <td>0.80</td>\n",
       "      <td>0.862069</td>\n",
       "      <td>0.248150</td>\n",
       "      <td>0.000238</td>\n",
       "      <td>0.003870</td>\n",
       "      <td>0.5</td>\n",
       "      <td>0.505618</td>\n",
       "      <td>0.252632</td>\n",
       "      <td>0.0</td>\n",
       "      <td>0.375</td>\n",
       "    </tr>\n",
       "    <tr>\n",
       "      <th>1</th>\n",
       "      <td>0.0</td>\n",
       "      <td>0.250000</td>\n",
       "      <td>0.393939</td>\n",
       "      <td>0.235294</td>\n",
       "      <td>0.254237</td>\n",
       "      <td>0.086207</td>\n",
       "      <td>0.275862</td>\n",
       "      <td>0.021739</td>\n",
       "      <td>0.45</td>\n",
       "      <td>0.189655</td>\n",
       "      <td>0.837682</td>\n",
       "      <td>0.000896</td>\n",
       "      <td>0.026550</td>\n",
       "      <td>0.5</td>\n",
       "      <td>0.314607</td>\n",
       "      <td>0.157895</td>\n",
       "      <td>0.5</td>\n",
       "      <td>0.250</td>\n",
       "    </tr>\n",
       "    <tr>\n",
       "      <th>2</th>\n",
       "      <td>0.0</td>\n",
       "      <td>0.211538</td>\n",
       "      <td>0.318182</td>\n",
       "      <td>0.156863</td>\n",
       "      <td>0.288136</td>\n",
       "      <td>0.206897</td>\n",
       "      <td>0.172414</td>\n",
       "      <td>0.108696</td>\n",
       "      <td>0.62</td>\n",
       "      <td>0.155172</td>\n",
       "      <td>0.816437</td>\n",
       "      <td>0.000886</td>\n",
       "      <td>0.026838</td>\n",
       "      <td>0.0</td>\n",
       "      <td>0.078652</td>\n",
       "      <td>0.052632</td>\n",
       "      <td>0.5</td>\n",
       "      <td>0.625</td>\n",
       "    </tr>\n",
       "    <tr>\n",
       "      <th>3</th>\n",
       "      <td>0.0</td>\n",
       "      <td>0.480769</td>\n",
       "      <td>0.712121</td>\n",
       "      <td>0.607843</td>\n",
       "      <td>0.796610</td>\n",
       "      <td>0.655172</td>\n",
       "      <td>0.655172</td>\n",
       "      <td>0.673913</td>\n",
       "      <td>0.82</td>\n",
       "      <td>0.637931</td>\n",
       "      <td>0.370776</td>\n",
       "      <td>0.000298</td>\n",
       "      <td>0.009054</td>\n",
       "      <td>0.5</td>\n",
       "      <td>0.393258</td>\n",
       "      <td>0.252632</td>\n",
       "      <td>0.0</td>\n",
       "      <td>0.375</td>\n",
       "    </tr>\n",
       "    <tr>\n",
       "      <th>4</th>\n",
       "      <td>0.0</td>\n",
       "      <td>0.384615</td>\n",
       "      <td>0.606061</td>\n",
       "      <td>0.411765</td>\n",
       "      <td>0.525424</td>\n",
       "      <td>0.275862</td>\n",
       "      <td>0.224138</td>\n",
       "      <td>0.173913</td>\n",
       "      <td>0.59</td>\n",
       "      <td>0.224138</td>\n",
       "      <td>0.722106</td>\n",
       "      <td>0.000748</td>\n",
       "      <td>0.022518</td>\n",
       "      <td>0.5</td>\n",
       "      <td>0.640449</td>\n",
       "      <td>0.547368</td>\n",
       "      <td>0.0</td>\n",
       "      <td>0.500</td>\n",
       "    </tr>\n",
       "  </tbody>\n",
       "</table>\n",
       "</div>"
      ],
      "text/plain": [
       "   Batch      Eng7      Eng8      Eng9     Math7     Math8     Math9  \\\n",
       "0    0.0  0.634615  0.772727  0.764706  0.915254  0.793103  0.879310   \n",
       "1    0.0  0.250000  0.393939  0.235294  0.254237  0.086207  0.275862   \n",
       "2    0.0  0.211538  0.318182  0.156863  0.288136  0.206897  0.172414   \n",
       "3    0.0  0.480769  0.712121  0.607843  0.796610  0.655172  0.655172   \n",
       "4    0.0  0.384615  0.606061  0.411765  0.525424  0.275862  0.224138   \n",
       "\n",
       "       Sci7  Sci8      Sci9      GWA7      GWA8      GWA9   UP        IQ  \\\n",
       "0  0.695652  0.80  0.862069  0.248150  0.000238  0.003870  0.5  0.505618   \n",
       "1  0.021739  0.45  0.189655  0.837682  0.000896  0.026550  0.5  0.314607   \n",
       "2  0.108696  0.62  0.155172  0.816437  0.000886  0.026838  0.0  0.078652   \n",
       "3  0.673913  0.82  0.637931  0.370776  0.000298  0.009054  0.5  0.393258   \n",
       "4  0.173913  0.59  0.224138  0.722106  0.000748  0.022518  0.5  0.640449   \n",
       "\n",
       "         SA   C1     C2  \n",
       "0  0.252632  0.0  0.375  \n",
       "1  0.157895  0.5  0.250  \n",
       "2  0.052632  0.5  0.625  \n",
       "3  0.252632  0.0  0.375  \n",
       "4  0.547368  0.0  0.500  "
      ]
     },
     "execution_count": 16,
     "metadata": {},
     "output_type": "execute_result"
    }
   ],
   "source": [
    "XX_df = pd.DataFrame(data = XX,columns = X_column_names) # Return the column names\n",
    "XX_df.head()"
   ]
  },
  {
   "cell_type": "code",
   "execution_count": null,
   "metadata": {
    "executionInfo": {
     "elapsed": 11,
     "status": "ok",
     "timestamp": 1629037556246,
     "user": {
      "displayName": "Christopher Monterola",
      "photoUrl": "https://lh3.googleusercontent.com/a-/AOh14GiyxV9CUZD54GBpsQkscS6VRBjebHtFASKcOq-_Lw=s64",
      "userId": "07920169693232563668"
     },
     "user_tz": -480
    },
    "id": "VyJgmVVWnhS7"
   },
   "outputs": [],
   "source": []
  },
  {
   "cell_type": "markdown",
   "metadata": {
    "id": "RRzHomN9nhS7"
   },
   "source": [
    "# Step 6:  Now let's run an automated Machine Learning to the above processed data\n",
    "\n",
    "Below we combine the notebook codes previously shared into a single running code to create an **Automated ML**"
   ]
  },
  {
   "cell_type": "code",
   "execution_count": 17,
   "metadata": {
    "execution": {
     "iopub.execute_input": "2021-08-19T06:08:40.148766Z",
     "iopub.status.busy": "2021-08-19T06:08:40.148766Z",
     "iopub.status.idle": "2021-08-19T06:08:40.349043Z",
     "shell.execute_reply": "2021-08-19T06:08:40.348080Z",
     "shell.execute_reply.started": "2021-08-19T06:08:40.148766Z"
    },
    "executionInfo": {
     "elapsed": 5,
     "status": "ok",
     "timestamp": 1629037556705,
     "user": {
      "displayName": "Christopher Monterola",
      "photoUrl": "https://lh3.googleusercontent.com/a-/AOh14GiyxV9CUZD54GBpsQkscS6VRBjebHtFASKcOq-_Lw=s64",
      "userId": "07920169693232563668"
     },
     "user_tz": -480
    },
    "id": "G5_8PHpRnhS7"
   },
   "outputs": [],
   "source": [
    "from sklearn.neighbors import KNeighborsClassifier\n",
    "from sklearn.linear_model import LogisticRegression\n",
    "from sklearn.svm import LinearSVC\n",
    "from sklearn.svm import SVC\n",
    "from sklearn.ensemble import RandomForestClassifier\n",
    "from sklearn.ensemble import GradientBoostingClassifier\n",
    "from sklearn.model_selection import train_test_split\n",
    "\n",
    "Number_trials=20\n",
    "\n",
    "def train_knn(X, y):\n",
    "    score_train = []\n",
    "    score_test = []\n",
    "\n",
    "    for seed in range(Number_trials):\n",
    "        X_train, X_test, y_train, y_test = train_test_split(X,\n",
    "                                                            y,\n",
    "                                                            test_size=0.25,\n",
    "                                                            random_state=seed)\n",
    "        neighbors_settings = range(1,70)\n",
    "        acc_train = []\n",
    "        acc_test = []\n",
    "\n",
    "        for n_neighbors in neighbors_settings:   \n",
    "            clf = KNeighborsClassifier(n_neighbors=n_neighbors) # build the model \n",
    "            clf.fit(X_train, y_train)    \n",
    "            acc_train.append(clf.score(X_train, y_train))\n",
    "            acc_test.append(clf.score(X_test, y_test))\n",
    "\n",
    "        score_train.append(acc_train)\n",
    "        score_test.append(acc_test)   \n",
    "        \n",
    "    score = np.mean(score_test, axis=0)\n",
    "    run_time = (time.time() - start_time)\n",
    "    return ['kNN', np.amax(score), 'N_Neighbor = {0}'.format(np.argmax(score)+1), 'NA',run_time]\n",
    "\n",
    "def train_logistic(X, y, reg):\n",
    "    C = [1e-8, 1e-4, 1e-3, 1e-2, 0.1, 0.2,0.4, 0.75, 1, 1.5, 3, 5, 10, 15,  20, 100, 300, 1000, 5000]\n",
    "    #C = [.01, .1]\n",
    "    score_train = []\n",
    "    score_test = []\n",
    "    weighted_coefs=[]\n",
    "    \n",
    "    for seed in range(Number_trials):\n",
    "        training_accuracy = []  \n",
    "        test_accuracy = []\n",
    "        X_train, X_test, y_train, y_test = train_test_split(X, y, test_size=0.25, random_state=seed)\n",
    "        for alpha_run in C:\n",
    "            if reg == 'l1':\n",
    "                lr = LogisticRegression(C=alpha_run, penalty=reg, solver='liblinear').fit(X_train, y_train)\n",
    "            if reg == 'l2':\n",
    "                lr = LogisticRegression(C=alpha_run, penalty=reg, dual=False).fit(X_train, y_train)\n",
    "            \n",
    "            \n",
    "            training_accuracy.append(lr.score(X_train, y_train))\n",
    "            test_accuracy.append(lr.score(X_test, y_test))\n",
    "            coefs=lr.coef_ \n",
    "            weighted_coefs.append(coefs) #append all the computed coefficients per trial\n",
    "                \n",
    "        score_train.append(training_accuracy)\n",
    "        score_test.append(test_accuracy)\n",
    "    \n",
    "    mean_coefs=np.mean(weighted_coefs, axis=0) #get the mean of the weighted coefficients over all the trials \n",
    "    #print(mean_coefs) \n",
    "    score = np.mean(score_test, axis=0)\n",
    "    \n",
    "    #Plot the weight of the parameters \n",
    "    top_predictor=X.columns[np.argmax(np.abs(mean_coefs))]\n",
    "    abs_mean_coefs = np.abs(mean_coefs[0,:])\n",
    "    coefs_count = len(abs_mean_coefs)\n",
    "    fig, ax = plt.subplots(figsize=(3,7))\n",
    "    ax.barh(np.arange(coefs_count), sorted(abs_mean_coefs))\n",
    "     \n",
    "    ax.set_yticks(np.arange(coefs_count))\n",
    "    ax.set_yticklabels(X.columns[np.argsort(abs_mean_coefs)])\n",
    "    \n",
    "    run_time = (time.time() - start_time)\n",
    "    return ['Logistic ({0})'.format(reg), np.amax(score), \\\n",
    "            'C = {0}'.format(C[np.argmax(score)]), top_predictor, run_time]\n",
    "\n",
    "def train_svm(X, y, reg):\n",
    "    C = [1e-8, 1e-4, 1e-3, 1e-2, 0.1, 0.2,0.4, 0.75, 1, 1.5, 3, 5, 10, 15,  20, 100, 300, 1000, 5000]\n",
    "    #C = [.01, .1]\n",
    "    score_train = []\n",
    "    score_test = []\n",
    "    weighted_coefs=[]\n",
    "    \n",
    "    for seed in range(Number_trials):\n",
    "        training_accuracy = []  \n",
    "        test_accuracy = []\n",
    "        X_train, X_test, y_train, y_test = train_test_split(X, y, test_size=0.25, random_state=seed)\n",
    "        for alpha_run in C:\n",
    "            if reg == 'l1':\n",
    "                svc = LinearSVC(C=alpha_run, penalty=reg, loss='squared_hinge', dual=False).fit(X_train, y_train)\n",
    "            if reg == 'l2':\n",
    "                svc = LinearSVC(C=alpha_run, penalty=reg).fit(X_train, y_train)\n",
    "            training_accuracy.append(svc.score(X_train, y_train))\n",
    "            test_accuracy.append(svc.score(X_test, y_test))\n",
    "           # if alpha_run == 0.01:\n",
    "            coefs = svc.coef_\n",
    "            weighted_coefs.append(coefs)\n",
    "                \n",
    "        score_train.append(training_accuracy)\n",
    "        score_test.append(test_accuracy)\n",
    " \n",
    "\n",
    "    mean_coefs=np.mean(weighted_coefs, axis=0) #get the mean of the weighted coefficients over all the trials       \n",
    "    score = np.mean(score_test, axis=0)\n",
    "    \n",
    "\n",
    "    top_predictor=X.columns[np.argmax(np.abs(mean_coefs))]\n",
    "    abs_mean_coefs = np.abs(mean_coefs[0,:])\n",
    "    coefs_count = len(abs_mean_coefs)\n",
    "    fig, ax = plt.subplots(figsize=(3,7))\n",
    "    ax.barh(np.arange(coefs_count), sorted(abs_mean_coefs))\n",
    "        \n",
    "    ax.set_yticks(np.arange(coefs_count))\n",
    "    ax.set_yticklabels(X.columns[np.argsort(abs_mean_coefs)])\n",
    "    \n",
    "    run_time = (time.time() - start_time)\n",
    "    return ['Linear SVM ({0})'.format(reg), np.amax(score), \\\n",
    "            'C = {0}'.format(C[np.argmax(score)]), top_predictor,run_time]\n",
    "\n",
    "def train_RF(X, y, reg):\n",
    "    max_features_tuning=[0.1, .2, .3, .4, .5, .7, .8]\n",
    "    #C = [.01, .1]\n",
    "    score_train = []\n",
    "    score_test = []\n",
    "    weighted_coefs=[]\n",
    "    \n",
    "    for seed in range(Number_trials):\n",
    "        training_accuracy = []  \n",
    "        test_accuracy = []\n",
    "        X_train, X_test, y_train, y_test = train_test_split(X, y, test_size=0.25, random_state=seed)\n",
    "        for max_features_run in max_features_tuning:\n",
    "            svc = RandomForestClassifier(n_estimators=100, max_features=max_features_run).fit(X_train, y_train)\n",
    "            training_accuracy.append(svc.score(X_train, y_train))\n",
    "            test_accuracy.append(svc.score(X_test, y_test))\n",
    "           # if alpha_run == 0.01:\n",
    "            coefs = svc.feature_importances_\n",
    "            weighted_coefs.append(coefs)\n",
    "                \n",
    "        score_train.append(training_accuracy)\n",
    "        score_test.append(test_accuracy)\n",
    " \n",
    "\n",
    "    mean_coefs=np.mean(weighted_coefs, axis=0) #get the mean of the weighted coefficients over all the trials       \n",
    "    score = np.mean(score_test, axis=0)\n",
    "    \n",
    "\n",
    "    top_predictor=X.columns[np.argmax(np.abs(mean_coefs))]\n",
    "    abs_mean_coefs = np.abs(mean_coefs[:])\n",
    "    coefs_count = len(abs_mean_coefs)\n",
    "    fig, ax = plt.subplots(figsize=(3,7))\n",
    "    ax.barh(np.arange(coefs_count), sorted(abs_mean_coefs))\n",
    "        \n",
    "    ax.set_yticks(np.arange(coefs_count))\n",
    "    ax.set_yticklabels(X.columns[np.argsort(abs_mean_coefs)])\n",
    "    \n",
    "    run_time = (time.time() - start_time)\n",
    "    return ['Random Forest', np.amax(score), \\\n",
    "            'Max_features = {0}'.format(max_features_tuning[np.argmax(score)]), top_predictor,run_time]\n",
    "\n",
    "def train_GBM(X, y, reg):\n",
    "    max_features_tuning=[0.1, .2, .3, .4, .5, .7, .8]\n",
    "    #C = [.01, .1]\n",
    "    score_train = []\n",
    "    score_test = []\n",
    "    weighted_coefs=[]\n",
    "    \n",
    "    for seed in range(Number_trials):\n",
    "        training_accuracy = []  \n",
    "        test_accuracy = []\n",
    "        X_train, X_test, y_train, y_test = train_test_split(X, y, test_size=0.25, random_state=seed)\n",
    "        for max_features_run in max_features_tuning:\n",
    "            svc = GradientBoostingClassifier(n_estimators=100,max_depth=3, max_features=max_features_run).fit(X_train, y_train)\n",
    "            training_accuracy.append(svc.score(X_train, y_train))\n",
    "            test_accuracy.append(svc.score(X_test, y_test))\n",
    "           # if alpha_run == 0.01:\n",
    "            coefs = svc.feature_importances_\n",
    "            weighted_coefs.append(coefs)\n",
    "                \n",
    "        score_train.append(training_accuracy)\n",
    "        score_test.append(test_accuracy)\n",
    " \n",
    "\n",
    "    mean_coefs=np.mean(weighted_coefs, axis=0) #get the mean of the weighted coefficients over all the trials       \n",
    "    score = np.mean(score_test, axis=0)\n",
    "    \n",
    "\n",
    "    top_predictor=X.columns[np.argmax(np.abs(mean_coefs))]\n",
    "    abs_mean_coefs = np.abs(mean_coefs[:])\n",
    "    coefs_count = len(abs_mean_coefs)\n",
    "    fig, ax = plt.subplots(figsize=(3,7))\n",
    "    ax.barh(np.arange(coefs_count), sorted(abs_mean_coefs))\n",
    "        \n",
    "    ax.set_yticks(np.arange(coefs_count))\n",
    "    ax.set_yticklabels(X.columns[np.argsort(abs_mean_coefs)])\n",
    "    \n",
    "    run_time = (time.time() - start_time)\n",
    "    return ['Gradient Boosting Method', np.amax(score), \\\n",
    "            'Max_features = {0}'.format(max_features_tuning[np.argmax(score)]), top_predictor,run_time]\n",
    "\n"
   ]
  },
  {
   "cell_type": "code",
   "execution_count": 18,
   "metadata": {
    "colab": {
     "base_uri": "https://localhost:8080/",
     "height": 1000
    },
    "execution": {
     "iopub.execute_input": "2021-08-19T06:08:40.352033Z",
     "iopub.status.busy": "2021-08-19T06:08:40.351038Z",
     "iopub.status.idle": "2021-08-19T06:11:14.029859Z",
     "shell.execute_reply": "2021-08-19T06:11:14.028915Z",
     "shell.execute_reply.started": "2021-08-19T06:08:40.351038Z"
    },
    "executionInfo": {
     "elapsed": 230769,
     "status": "ok",
     "timestamp": 1629037787470,
     "user": {
      "displayName": "Christopher Monterola",
      "photoUrl": "https://lh3.googleusercontent.com/a-/AOh14GiyxV9CUZD54GBpsQkscS6VRBjebHtFASKcOq-_Lw=s64",
      "userId": "07920169693232563668"
     },
     "user_tz": -480
    },
    "id": "iZhxhZKlnhS-",
    "outputId": "b88f5f7a-31e9-45e9-b91a-62c70527eab9"
   },
   "outputs": [
    {
     "name": "stdout",
     "output_type": "stream",
     "text": [
      "['kNN', 0.8794466403162055, 'N_Neighbor = 31', 'NA', 74.53479361534119]\n",
      "74.53479361534119 seconds\n",
      "['Logistic (l2)', 0.8816205533596836, 'C = 1.5', 'Eng9', 6.738627195358276]\n",
      "6.738627195358276 seconds\n",
      "['Logistic (l1)', 0.8792490118577074, 'C = 3', 'GWA8', 16.04111886024475]\n",
      "16.04111886024475 seconds\n",
      "['Linear SVM (l2)', 0.8806324110671937, 'C = 0.2', 'Eng9', 5.049400091171265]\n",
      "5.049400091171265 seconds\n",
      "['Linear SVM (l1)', 0.8774703557312253, 'C = 100', 'GWA8', 7.542274713516235]\n",
      "7.542274713516235 seconds\n",
      "['Random Forest', 0.8770750988142293, 'Max_features = 0.7', 'GWA7', 29.68803834915161]\n",
      "29.68803834915161 seconds\n",
      "['Gradient Boosting Method', 0.8865612648221344, 'Max_features = 0.8', 'GWA7', 13.896654605865479]\n",
      "29.68803834915161 seconds\n"
     ]
    }
   ],
   "source": [
    "X = XX_df\n",
    "\n",
    "y = df_UPCAT['Target']\n",
    "\n",
    "import time\n",
    "\n",
    "start_time = time.time()\n",
    "a = train_knn(X,y)\n",
    "print(a)\n",
    "print(\"%s seconds\" % a[4])\n",
    "\n",
    "start_time = time.time()\n",
    "b = train_logistic(X,y,reg='l2')\n",
    "print(b)\n",
    "print(\"%s seconds\" % b[4])\n",
    "\n",
    "start_time = time.time()\n",
    "c = train_logistic(X,y,reg='l1')\n",
    "print(c)\n",
    "print(\"%s seconds\" % c[4])\n",
    "\n",
    "start_time = time.time()\n",
    "d = train_svm(X,y,reg='l2')\n",
    "print(d)\n",
    "print(\"%s seconds\" % d[4])\n",
    "\n",
    "start_time = time.time()\n",
    "e = train_svm(X,y,reg='l1')\n",
    "print(e)\n",
    "print(\"%s seconds\" % e[4])\n",
    "\n",
    "\n",
    "start_time = time.time()\n",
    "f = train_RF(X,y,reg='none')\n",
    "print(f)\n",
    "print(\"%s seconds\" % f[4])\n",
    "\n",
    "start_time = time.time()\n",
    "g = train_GBM(X,y,reg='none')\n",
    "print(g)\n",
    "print(\"%s seconds\" % f[4])\n",
    "\n"
   ]
  },
  {
   "cell_type": "code",
   "execution_count": 19,
   "metadata": {
    "colab": {
     "base_uri": "https://localhost:8080/",
     "height": 266
    },
    "execution": {
     "iopub.execute_input": "2021-08-19T06:11:14.030892Z",
     "iopub.status.busy": "2021-08-19T06:11:14.030892Z",
     "iopub.status.idle": "2021-08-19T06:11:14.076733Z",
     "shell.execute_reply": "2021-08-19T06:11:14.075737Z",
     "shell.execute_reply.started": "2021-08-19T06:11:14.030892Z"
    },
    "executionInfo": {
     "elapsed": 472,
     "status": "ok",
     "timestamp": 1629037787939,
     "user": {
      "displayName": "Christopher Monterola",
      "photoUrl": "https://lh3.googleusercontent.com/a-/AOh14GiyxV9CUZD54GBpsQkscS6VRBjebHtFASKcOq-_Lw=s64",
      "userId": "07920169693232563668"
     },
     "user_tz": -480
    },
    "id": "aDNOjoJtnhS_",
    "outputId": "ded9f613-e9df-43fa-896d-f345191dfad6"
   },
   "outputs": [
    {
     "data": {
      "text/html": [
       "<div>\n",
       "<style scoped>\n",
       "    .dataframe tbody tr th:only-of-type {\n",
       "        vertical-align: middle;\n",
       "    }\n",
       "\n",
       "    .dataframe tbody tr th {\n",
       "        vertical-align: top;\n",
       "    }\n",
       "\n",
       "    .dataframe thead th {\n",
       "        text-align: right;\n",
       "    }\n",
       "</style>\n",
       "<table border=\"1\" class=\"dataframe\">\n",
       "  <thead>\n",
       "    <tr style=\"text-align: right;\">\n",
       "      <th></th>\n",
       "      <th>Machine Learning Method</th>\n",
       "      <th>Test Accuracy</th>\n",
       "      <th>Best Parameter</th>\n",
       "      <th>Top Predictor Variable</th>\n",
       "      <th>Run Time</th>\n",
       "    </tr>\n",
       "  </thead>\n",
       "  <tbody>\n",
       "    <tr>\n",
       "      <th>0</th>\n",
       "      <td>kNN</td>\n",
       "      <td>0.879447</td>\n",
       "      <td>N_Neighbor = 31</td>\n",
       "      <td>NA</td>\n",
       "      <td>74.534794</td>\n",
       "    </tr>\n",
       "    <tr>\n",
       "      <th>1</th>\n",
       "      <td>Logistic (l2)</td>\n",
       "      <td>0.881621</td>\n",
       "      <td>C = 1.5</td>\n",
       "      <td>Eng9</td>\n",
       "      <td>6.738627</td>\n",
       "    </tr>\n",
       "    <tr>\n",
       "      <th>2</th>\n",
       "      <td>Logistic (l1)</td>\n",
       "      <td>0.879249</td>\n",
       "      <td>C = 3</td>\n",
       "      <td>GWA8</td>\n",
       "      <td>16.041119</td>\n",
       "    </tr>\n",
       "    <tr>\n",
       "      <th>3</th>\n",
       "      <td>Linear SVM (l2)</td>\n",
       "      <td>0.880632</td>\n",
       "      <td>C = 0.2</td>\n",
       "      <td>Eng9</td>\n",
       "      <td>5.049400</td>\n",
       "    </tr>\n",
       "    <tr>\n",
       "      <th>4</th>\n",
       "      <td>Linear SVM (l1)</td>\n",
       "      <td>0.877470</td>\n",
       "      <td>C = 100</td>\n",
       "      <td>GWA8</td>\n",
       "      <td>7.542275</td>\n",
       "    </tr>\n",
       "    <tr>\n",
       "      <th>5</th>\n",
       "      <td>Random Forest</td>\n",
       "      <td>0.877075</td>\n",
       "      <td>Max_features = 0.7</td>\n",
       "      <td>GWA7</td>\n",
       "      <td>29.688038</td>\n",
       "    </tr>\n",
       "    <tr>\n",
       "      <th>6</th>\n",
       "      <td>Gradient Boosting Method</td>\n",
       "      <td>0.886561</td>\n",
       "      <td>Max_features = 0.8</td>\n",
       "      <td>GWA7</td>\n",
       "      <td>13.896655</td>\n",
       "    </tr>\n",
       "  </tbody>\n",
       "</table>\n",
       "</div>"
      ],
      "text/plain": [
       "    Machine Learning Method  Test Accuracy      Best Parameter  \\\n",
       "0                       kNN       0.879447     N_Neighbor = 31   \n",
       "1             Logistic (l2)       0.881621             C = 1.5   \n",
       "2             Logistic (l1)       0.879249               C = 3   \n",
       "3           Linear SVM (l2)       0.880632             C = 0.2   \n",
       "4           Linear SVM (l1)       0.877470             C = 100   \n",
       "5             Random Forest       0.877075  Max_features = 0.7   \n",
       "6  Gradient Boosting Method       0.886561  Max_features = 0.8   \n",
       "\n",
       "  Top Predictor Variable   Run Time  \n",
       "0                     NA  74.534794  \n",
       "1                   Eng9   6.738627  \n",
       "2                   GWA8  16.041119  \n",
       "3                   Eng9   5.049400  \n",
       "4                   GWA8   7.542275  \n",
       "5                   GWA7  29.688038  \n",
       "6                   GWA7  13.896655  "
      ]
     },
     "execution_count": 19,
     "metadata": {},
     "output_type": "execute_result"
    }
   ],
   "source": [
    "cols = ['Machine Learning Method', 'Test Accuracy', 'Best Parameter', 'Top Predictor Variable', 'Run Time']\n",
    "df2 = pd.DataFrame(columns=cols)\n",
    "\n",
    "df2.loc[0] = a\n",
    "df2.loc[1] = b\n",
    "df2.loc[2] = c\n",
    "df2.loc[3] = d\n",
    "df2.loc[4] = e\n",
    "df2.loc[5] = f\n",
    "df2.loc[6] = g\n",
    "\n",
    "df2"
   ]
  },
  {
   "cell_type": "code",
   "execution_count": null,
   "metadata": {
    "executionInfo": {
     "elapsed": 10,
     "status": "ok",
     "timestamp": 1629037787939,
     "user": {
      "displayName": "Christopher Monterola",
      "photoUrl": "https://lh3.googleusercontent.com/a-/AOh14GiyxV9CUZD54GBpsQkscS6VRBjebHtFASKcOq-_Lw=s64",
      "userId": "07920169693232563668"
     },
     "user_tz": -480
    },
    "id": "ih8zGlmmnhS_"
   },
   "outputs": [],
   "source": []
  },
  {
   "cell_type": "markdown",
   "metadata": {
    "id": "q8x29Lz9nhS_"
   },
   "source": [
    "# Step 7: How to save the weights \n",
    "\n",
    "Many ways to save it, you can use **joblib** (you can also use **cPickle**, **dill**)"
   ]
  },
  {
   "cell_type": "markdown",
   "metadata": {
    "id": "h8606RhlnhS_"
   },
   "source": [
    "### Step 1: Load Data"
   ]
  },
  {
   "cell_type": "code",
   "execution_count": 20,
   "metadata": {
    "execution": {
     "iopub.execute_input": "2021-08-19T06:11:14.077732Z",
     "iopub.status.busy": "2021-08-19T06:11:14.077732Z",
     "iopub.status.idle": "2021-08-19T06:11:14.092693Z",
     "shell.execute_reply": "2021-08-19T06:11:14.091738Z",
     "shell.execute_reply.started": "2021-08-19T06:11:14.077732Z"
    },
    "executionInfo": {
     "elapsed": 10,
     "status": "ok",
     "timestamp": 1629037787940,
     "user": {
      "displayName": "Christopher Monterola",
      "photoUrl": "https://lh3.googleusercontent.com/a-/AOh14GiyxV9CUZD54GBpsQkscS6VRBjebHtFASKcOq-_Lw=s64",
      "userId": "07920169693232563668"
     },
     "user_tz": -480
    },
    "id": "x4oaUQE9nhTA"
   },
   "outputs": [],
   "source": [
    "from sklearn.model_selection import train_test_split\n",
    "\n",
    "X = XX_df\n",
    "y = df_UPCAT['Target']\n",
    "X_train, X_test, y_train, y_test = train_test_split(X, y, test_size=0.25)"
   ]
  },
  {
   "cell_type": "markdown",
   "metadata": {
    "id": "sq3hgAYcnhTA"
   },
   "source": [
    "### Step 2: Train a given ML model (here we are using Random Forest)"
   ]
  },
  {
   "cell_type": "code",
   "execution_count": 21,
   "metadata": {
    "colab": {
     "base_uri": "https://localhost:8080/"
    },
    "execution": {
     "iopub.execute_input": "2021-08-19T06:11:14.093693Z",
     "iopub.status.busy": "2021-08-19T06:11:14.093693Z",
     "iopub.status.idle": "2021-08-19T06:11:14.391464Z",
     "shell.execute_reply": "2021-08-19T06:11:14.391464Z",
     "shell.execute_reply.started": "2021-08-19T06:11:14.093693Z"
    },
    "executionInfo": {
     "elapsed": 10,
     "status": "ok",
     "timestamp": 1629037787940,
     "user": {
      "displayName": "Christopher Monterola",
      "photoUrl": "https://lh3.googleusercontent.com/a-/AOh14GiyxV9CUZD54GBpsQkscS6VRBjebHtFASKcOq-_Lw=s64",
      "userId": "07920169693232563668"
     },
     "user_tz": -480
    },
    "id": "FWUVB6Y-nhTA",
    "outputId": "1725ef10-394e-4aac-d3eb-d48b8c848c9e"
   },
   "outputs": [
    {
     "data": {
      "text/plain": [
       "['my_random_forest.joblib']"
      ]
     },
     "execution_count": 21,
     "metadata": {},
     "output_type": "execute_result"
    }
   ],
   "source": [
    "import joblib\n",
    "from sklearn.ensemble import RandomForestClassifier\n",
    "\n",
    "rf = RandomForestClassifier(n_estimators=100, max_features=0.4)\n",
    "rf.fit(X_train, y_train)\n",
    "\n",
    "# save\n",
    "joblib.dump(rf, \"my_random_forest.joblib\")"
   ]
  },
  {
   "cell_type": "markdown",
   "metadata": {
    "id": "9LmzC9crnhTA"
   },
   "source": [
    "### Step 3: Access the weight without retraining again, Step 2 can be skipped after the first run"
   ]
  },
  {
   "cell_type": "code",
   "execution_count": 22,
   "metadata": {
    "colab": {
     "base_uri": "https://localhost:8080/"
    },
    "execution": {
     "iopub.execute_input": "2021-08-19T06:11:14.392431Z",
     "iopub.status.busy": "2021-08-19T06:11:14.392431Z",
     "iopub.status.idle": "2021-08-19T06:11:14.452303Z",
     "shell.execute_reply": "2021-08-19T06:11:14.452303Z",
     "shell.execute_reply.started": "2021-08-19T06:11:14.392431Z"
    },
    "executionInfo": {
     "elapsed": 9,
     "status": "ok",
     "timestamp": 1629037787940,
     "user": {
      "displayName": "Christopher Monterola",
      "photoUrl": "https://lh3.googleusercontent.com/a-/AOh14GiyxV9CUZD54GBpsQkscS6VRBjebHtFASKcOq-_Lw=s64",
      "userId": "07920169693232563668"
     },
     "user_tz": -480
    },
    "id": "BU-A-tI1nhTA",
    "outputId": "4df1f8e2-3d3f-4e01-fc12-9f26e8b74012"
   },
   "outputs": [
    {
     "data": {
      "text/plain": [
       "array([1, 1, 1, 0, 1, 0, 1, 1, 0, 1, 1, 1, 0, 0, 1, 1, 1, 0, 1, 0, 0, 0,\n",
       "       0, 0, 0, 0, 0, 0, 0, 1, 1, 1, 1, 0, 1, 1, 0, 1, 1, 0, 0, 1, 0, 0,\n",
       "       1, 1, 1, 0, 0, 0, 1, 1, 1, 1, 0, 1, 0, 0, 0, 1, 1, 0, 1, 1, 0, 0,\n",
       "       0, 0, 1, 1, 1, 0, 0, 0, 1, 1, 1, 1, 0, 1, 1, 0, 1, 1, 0, 1, 1, 0,\n",
       "       1, 0, 1, 0, 0, 0, 0, 0, 1, 0, 1, 1, 0, 1, 1, 1, 0, 0, 0, 1, 0, 0,\n",
       "       1, 1, 1, 1, 1, 1, 0, 0, 1, 0, 0, 1, 0, 0, 1, 1, 1, 0, 0, 0, 0, 0,\n",
       "       1, 1, 0, 0, 0, 0, 0, 0, 1, 1, 0, 0, 1, 1, 1, 1, 0, 1, 0, 0, 1, 0,\n",
       "       0, 1, 1, 1, 1, 1, 0, 1, 1, 1, 0, 0, 1, 0, 0, 0, 1, 0, 0, 1, 1, 1,\n",
       "       0, 0, 0, 1, 0, 1, 0, 1, 0, 0, 0, 1, 1, 1, 0, 1, 1, 1, 0, 1, 0, 1,\n",
       "       0, 1, 1, 1, 0, 1, 1, 0, 0, 1, 0, 1, 0, 0, 1, 1, 0, 0, 1, 1, 1, 1,\n",
       "       1, 1, 0, 0, 0, 1, 0, 0, 0, 1, 1, 1, 0, 0, 0, 1, 1, 0, 1, 0, 1, 0,\n",
       "       0, 1, 0, 0, 1, 1, 0, 1, 1, 1, 1], dtype=int64)"
      ]
     },
     "execution_count": 22,
     "metadata": {},
     "output_type": "execute_result"
    }
   ],
   "source": [
    "import joblib\n",
    "\n",
    "# load\n",
    "loaded_rf = joblib.load(\"my_random_forest.joblib\")\n",
    "loaded_rf.predict(X_test)"
   ]
  },
  {
   "cell_type": "code",
   "execution_count": 23,
   "metadata": {
    "colab": {
     "base_uri": "https://localhost:8080/"
    },
    "execution": {
     "iopub.execute_input": "2021-08-19T06:11:14.454264Z",
     "iopub.status.busy": "2021-08-19T06:11:14.454264Z",
     "iopub.status.idle": "2021-08-19T06:11:14.484183Z",
     "shell.execute_reply": "2021-08-19T06:11:14.484183Z",
     "shell.execute_reply.started": "2021-08-19T06:11:14.454264Z"
    },
    "executionInfo": {
     "elapsed": 9,
     "status": "ok",
     "timestamp": 1629037787941,
     "user": {
      "displayName": "Christopher Monterola",
      "photoUrl": "https://lh3.googleusercontent.com/a-/AOh14GiyxV9CUZD54GBpsQkscS6VRBjebHtFASKcOq-_Lw=s64",
      "userId": "07920169693232563668"
     },
     "user_tz": -480
    },
    "id": "jhvCs1l3nhTA",
    "outputId": "31437a2b-5f1d-4221-e8ea-a476e8c363fd"
   },
   "outputs": [
    {
     "data": {
      "text/plain": [
       "0.9090909090909091"
      ]
     },
     "execution_count": 23,
     "metadata": {},
     "output_type": "execute_result"
    }
   ],
   "source": [
    "loaded_rf.score(X_test, y_test)"
   ]
  },
  {
   "cell_type": "code",
   "execution_count": null,
   "metadata": {
    "executionInfo": {
     "elapsed": 8,
     "status": "ok",
     "timestamp": 1629037787941,
     "user": {
      "displayName": "Christopher Monterola",
      "photoUrl": "https://lh3.googleusercontent.com/a-/AOh14GiyxV9CUZD54GBpsQkscS6VRBjebHtFASKcOq-_Lw=s64",
      "userId": "07920169693232563668"
     },
     "user_tz": -480
    },
    "id": "SstR0jZFnhTA"
   },
   "outputs": [],
   "source": []
  }
 ],
 "metadata": {
  "colab": {
   "collapsed_sections": [
    "V8N15wTBnhSx",
    "Irm8eH5tnhS5",
    "OgMgwo78nhS5",
    "bjcZbQEKnhS7",
    "RRzHomN9nhS7",
    "q8x29Lz9nhS_"
   ],
   "name": "Notebook 6 Supplementary B 5-in-1 Auto ML plus RF and GBM .ipynb",
   "provenance": []
  },
  "kernelspec": {
   "display_name": "Python 3",
   "language": "python",
   "name": "python3"
  },
  "language_info": {
   "codemirror_mode": {
    "name": "ipython",
    "version": 3
   },
   "file_extension": ".py",
   "mimetype": "text/x-python",
   "name": "python",
   "nbconvert_exporter": "python",
   "pygments_lexer": "ipython3",
   "version": "3.8.10"
  }
 },
 "nbformat": 4,
 "nbformat_minor": 4
}
