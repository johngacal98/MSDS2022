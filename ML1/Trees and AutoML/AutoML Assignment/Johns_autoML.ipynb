{
 "cells": [
  {
   "cell_type": "markdown",
   "metadata": {},
   "source": [
    "**Bike sharing: AutoML**"
   ]
  },
  {
   "cell_type": "markdown",
   "metadata": {},
   "source": [
    "## Load and prepare data"
   ]
  },
  {
   "cell_type": "code",
   "execution_count": 3,
   "metadata": {
    "execution": {
     "iopub.execute_input": "2021-08-26T02:51:46.239764Z",
     "iopub.status.busy": "2021-08-26T02:51:46.239764Z",
     "iopub.status.idle": "2021-08-26T02:51:46.293656Z",
     "shell.execute_reply": "2021-08-26T02:51:46.293656Z",
     "shell.execute_reply.started": "2021-08-26T02:51:46.239764Z"
    }
   },
   "outputs": [
    {
     "data": {
      "text/html": [
       "<div>\n",
       "<style scoped>\n",
       "    .dataframe tbody tr th:only-of-type {\n",
       "        vertical-align: middle;\n",
       "    }\n",
       "\n",
       "    .dataframe tbody tr th {\n",
       "        vertical-align: top;\n",
       "    }\n",
       "\n",
       "    .dataframe thead th {\n",
       "        text-align: right;\n",
       "    }\n",
       "</style>\n",
       "<table border=\"1\" class=\"dataframe\">\n",
       "  <thead>\n",
       "    <tr style=\"text-align: right;\">\n",
       "      <th></th>\n",
       "      <th>instant</th>\n",
       "      <th>dteday</th>\n",
       "      <th>season</th>\n",
       "      <th>yr</th>\n",
       "      <th>mnth</th>\n",
       "      <th>hr</th>\n",
       "      <th>holiday</th>\n",
       "      <th>weekday</th>\n",
       "      <th>workingday</th>\n",
       "      <th>weathersit</th>\n",
       "      <th>temp</th>\n",
       "      <th>atemp</th>\n",
       "      <th>hum</th>\n",
       "      <th>windspeed</th>\n",
       "      <th>casual</th>\n",
       "      <th>registered</th>\n",
       "      <th>cnt</th>\n",
       "    </tr>\n",
       "  </thead>\n",
       "  <tbody>\n",
       "    <tr>\n",
       "      <th>0</th>\n",
       "      <td>1</td>\n",
       "      <td>2011-01-01</td>\n",
       "      <td>1</td>\n",
       "      <td>0</td>\n",
       "      <td>1</td>\n",
       "      <td>0</td>\n",
       "      <td>0</td>\n",
       "      <td>6</td>\n",
       "      <td>0</td>\n",
       "      <td>1</td>\n",
       "      <td>0.24</td>\n",
       "      <td>0.2879</td>\n",
       "      <td>0.81</td>\n",
       "      <td>0.0</td>\n",
       "      <td>3</td>\n",
       "      <td>13</td>\n",
       "      <td>16</td>\n",
       "    </tr>\n",
       "    <tr>\n",
       "      <th>1</th>\n",
       "      <td>2</td>\n",
       "      <td>2011-01-01</td>\n",
       "      <td>1</td>\n",
       "      <td>0</td>\n",
       "      <td>1</td>\n",
       "      <td>1</td>\n",
       "      <td>0</td>\n",
       "      <td>6</td>\n",
       "      <td>0</td>\n",
       "      <td>1</td>\n",
       "      <td>0.22</td>\n",
       "      <td>0.2727</td>\n",
       "      <td>0.80</td>\n",
       "      <td>0.0</td>\n",
       "      <td>8</td>\n",
       "      <td>32</td>\n",
       "      <td>40</td>\n",
       "    </tr>\n",
       "    <tr>\n",
       "      <th>2</th>\n",
       "      <td>3</td>\n",
       "      <td>2011-01-01</td>\n",
       "      <td>1</td>\n",
       "      <td>0</td>\n",
       "      <td>1</td>\n",
       "      <td>2</td>\n",
       "      <td>0</td>\n",
       "      <td>6</td>\n",
       "      <td>0</td>\n",
       "      <td>1</td>\n",
       "      <td>0.22</td>\n",
       "      <td>0.2727</td>\n",
       "      <td>0.80</td>\n",
       "      <td>0.0</td>\n",
       "      <td>5</td>\n",
       "      <td>27</td>\n",
       "      <td>32</td>\n",
       "    </tr>\n",
       "    <tr>\n",
       "      <th>3</th>\n",
       "      <td>4</td>\n",
       "      <td>2011-01-01</td>\n",
       "      <td>1</td>\n",
       "      <td>0</td>\n",
       "      <td>1</td>\n",
       "      <td>3</td>\n",
       "      <td>0</td>\n",
       "      <td>6</td>\n",
       "      <td>0</td>\n",
       "      <td>1</td>\n",
       "      <td>0.24</td>\n",
       "      <td>0.2879</td>\n",
       "      <td>0.75</td>\n",
       "      <td>0.0</td>\n",
       "      <td>3</td>\n",
       "      <td>10</td>\n",
       "      <td>13</td>\n",
       "    </tr>\n",
       "    <tr>\n",
       "      <th>4</th>\n",
       "      <td>5</td>\n",
       "      <td>2011-01-01</td>\n",
       "      <td>1</td>\n",
       "      <td>0</td>\n",
       "      <td>1</td>\n",
       "      <td>4</td>\n",
       "      <td>0</td>\n",
       "      <td>6</td>\n",
       "      <td>0</td>\n",
       "      <td>1</td>\n",
       "      <td>0.24</td>\n",
       "      <td>0.2879</td>\n",
       "      <td>0.75</td>\n",
       "      <td>0.0</td>\n",
       "      <td>0</td>\n",
       "      <td>1</td>\n",
       "      <td>1</td>\n",
       "    </tr>\n",
       "  </tbody>\n",
       "</table>\n",
       "</div>"
      ],
      "text/plain": [
       "   instant      dteday  season  yr  mnth  hr  holiday  weekday  workingday  \\\n",
       "0        1  2011-01-01       1   0     1   0        0        6           0   \n",
       "1        2  2011-01-01       1   0     1   1        0        6           0   \n",
       "2        3  2011-01-01       1   0     1   2        0        6           0   \n",
       "3        4  2011-01-01       1   0     1   3        0        6           0   \n",
       "4        5  2011-01-01       1   0     1   4        0        6           0   \n",
       "\n",
       "   weathersit  temp   atemp   hum  windspeed  casual  registered  cnt  \n",
       "0           1  0.24  0.2879  0.81        0.0       3          13   16  \n",
       "1           1  0.22  0.2727  0.80        0.0       8          32   40  \n",
       "2           1  0.22  0.2727  0.80        0.0       5          27   32  \n",
       "3           1  0.24  0.2879  0.75        0.0       3          10   13  \n",
       "4           1  0.24  0.2879  0.75        0.0       0           1    1  "
      ]
     },
     "execution_count": 3,
     "metadata": {},
     "output_type": "execute_result"
    }
   ],
   "source": [
    "# Import packages\n",
    "import pandas as pd\n",
    "import numpy as np\n",
    "import matplotlib.pyplot as plt\n",
    "\n",
    "from sklearn.neighbors import KNeighborsRegressor\n",
    "from sklearn.linear_model import LinearRegression\n",
    "from sklearn.linear_model import Lasso\n",
    "from sklearn.linear_model import Ridge\n",
    "from sklearn.tree import DecisionTreeRegressor\n",
    "from sklearn.ensemble import RandomForestRegressor\n",
    "from sklearn.ensemble import GradientBoostingRegressor\n",
    "from sklearn.model_selection import train_test_split\n",
    "import time\n",
    "\n",
    "# Check the data\n",
    "rides = pd.read_csv('bike_sharing_hour.csv')\n",
    "dummy = rides\n",
    "rides.head(5)"
   ]
  },
  {
   "cell_type": "code",
   "execution_count": 4,
   "metadata": {
    "execution": {
     "iopub.execute_input": "2021-08-26T02:51:46.294655Z",
     "iopub.status.busy": "2021-08-26T02:51:46.294655Z",
     "iopub.status.idle": "2021-08-26T02:51:46.309577Z",
     "shell.execute_reply": "2021-08-26T02:51:46.309577Z",
     "shell.execute_reply.started": "2021-08-26T02:51:46.294655Z"
    }
   },
   "outputs": [
    {
     "data": {
      "text/plain": [
       "Index(['instant', 'dteday', 'season', 'yr', 'mnth', 'hr', 'holiday', 'weekday',\n",
       "       'workingday', 'weathersit', 'temp', 'atemp', 'hum', 'windspeed',\n",
       "       'casual', 'registered', 'cnt'],\n",
       "      dtype='object')"
      ]
     },
     "execution_count": 4,
     "metadata": {},
     "output_type": "execute_result"
    }
   ],
   "source": [
    "# Check the columns\n",
    "rides.columns"
   ]
  },
  {
   "cell_type": "markdown",
   "metadata": {},
   "source": [
    "## Check and prepare the data"
   ]
  },
  {
   "cell_type": "code",
   "execution_count": 5,
   "metadata": {
    "execution": {
     "iopub.execute_input": "2021-08-26T02:51:46.311572Z",
     "iopub.status.busy": "2021-08-26T02:51:46.310607Z",
     "iopub.status.idle": "2021-08-26T02:51:46.373443Z",
     "shell.execute_reply": "2021-08-26T02:51:46.373443Z",
     "shell.execute_reply.started": "2021-08-26T02:51:46.310607Z"
    }
   },
   "outputs": [],
   "source": [
    "# Plot the data for first 11 days\n",
    "\n",
    "days = 11\n",
    "fig = plt.figure(figsize=(10, 3))\n",
    "number= np.arange(24*days) # This is the first  11 days (every hour data x 24)\n",
    "plt.plot(number,rides[:24*days]['cnt'] , 'bo--');"
   ]
  },
  {
   "cell_type": "markdown",
   "metadata": {},
   "source": [
    "**Handle categorical data**"
   ]
  },
  {
   "cell_type": "code",
   "execution_count": 6,
   "metadata": {
    "execution": {
     "iopub.execute_input": "2021-08-26T02:51:46.374404Z",
     "iopub.status.busy": "2021-08-26T02:51:46.374404Z",
     "iopub.status.idle": "2021-08-26T02:51:46.405352Z",
     "shell.execute_reply": "2021-08-26T02:51:46.405352Z",
     "shell.execute_reply.started": "2021-08-26T02:51:46.374404Z"
    }
   },
   "outputs": [
    {
     "data": {
      "text/html": [
       "<div>\n",
       "<style scoped>\n",
       "    .dataframe tbody tr th:only-of-type {\n",
       "        vertical-align: middle;\n",
       "    }\n",
       "\n",
       "    .dataframe tbody tr th {\n",
       "        vertical-align: top;\n",
       "    }\n",
       "\n",
       "    .dataframe thead th {\n",
       "        text-align: right;\n",
       "    }\n",
       "</style>\n",
       "<table border=\"1\" class=\"dataframe\">\n",
       "  <thead>\n",
       "    <tr style=\"text-align: right;\">\n",
       "      <th></th>\n",
       "      <th>instant</th>\n",
       "      <th>dteday</th>\n",
       "      <th>season</th>\n",
       "      <th>yr</th>\n",
       "      <th>mnth</th>\n",
       "      <th>hr</th>\n",
       "      <th>holiday</th>\n",
       "      <th>weekday</th>\n",
       "      <th>workingday</th>\n",
       "      <th>weathersit</th>\n",
       "      <th>...</th>\n",
       "      <th>hr_21</th>\n",
       "      <th>hr_22</th>\n",
       "      <th>hr_23</th>\n",
       "      <th>weekday_0</th>\n",
       "      <th>weekday_1</th>\n",
       "      <th>weekday_2</th>\n",
       "      <th>weekday_3</th>\n",
       "      <th>weekday_4</th>\n",
       "      <th>weekday_5</th>\n",
       "      <th>weekday_6</th>\n",
       "    </tr>\n",
       "  </thead>\n",
       "  <tbody>\n",
       "    <tr>\n",
       "      <th>0</th>\n",
       "      <td>1</td>\n",
       "      <td>2011-01-01</td>\n",
       "      <td>1</td>\n",
       "      <td>0</td>\n",
       "      <td>1</td>\n",
       "      <td>0</td>\n",
       "      <td>0</td>\n",
       "      <td>6</td>\n",
       "      <td>0</td>\n",
       "      <td>1</td>\n",
       "      <td>...</td>\n",
       "      <td>0</td>\n",
       "      <td>0</td>\n",
       "      <td>0</td>\n",
       "      <td>0</td>\n",
       "      <td>0</td>\n",
       "      <td>0</td>\n",
       "      <td>0</td>\n",
       "      <td>0</td>\n",
       "      <td>0</td>\n",
       "      <td>1</td>\n",
       "    </tr>\n",
       "    <tr>\n",
       "      <th>1</th>\n",
       "      <td>2</td>\n",
       "      <td>2011-01-01</td>\n",
       "      <td>1</td>\n",
       "      <td>0</td>\n",
       "      <td>1</td>\n",
       "      <td>1</td>\n",
       "      <td>0</td>\n",
       "      <td>6</td>\n",
       "      <td>0</td>\n",
       "      <td>1</td>\n",
       "      <td>...</td>\n",
       "      <td>0</td>\n",
       "      <td>0</td>\n",
       "      <td>0</td>\n",
       "      <td>0</td>\n",
       "      <td>0</td>\n",
       "      <td>0</td>\n",
       "      <td>0</td>\n",
       "      <td>0</td>\n",
       "      <td>0</td>\n",
       "      <td>1</td>\n",
       "    </tr>\n",
       "    <tr>\n",
       "      <th>2</th>\n",
       "      <td>3</td>\n",
       "      <td>2011-01-01</td>\n",
       "      <td>1</td>\n",
       "      <td>0</td>\n",
       "      <td>1</td>\n",
       "      <td>2</td>\n",
       "      <td>0</td>\n",
       "      <td>6</td>\n",
       "      <td>0</td>\n",
       "      <td>1</td>\n",
       "      <td>...</td>\n",
       "      <td>0</td>\n",
       "      <td>0</td>\n",
       "      <td>0</td>\n",
       "      <td>0</td>\n",
       "      <td>0</td>\n",
       "      <td>0</td>\n",
       "      <td>0</td>\n",
       "      <td>0</td>\n",
       "      <td>0</td>\n",
       "      <td>1</td>\n",
       "    </tr>\n",
       "    <tr>\n",
       "      <th>3</th>\n",
       "      <td>4</td>\n",
       "      <td>2011-01-01</td>\n",
       "      <td>1</td>\n",
       "      <td>0</td>\n",
       "      <td>1</td>\n",
       "      <td>3</td>\n",
       "      <td>0</td>\n",
       "      <td>6</td>\n",
       "      <td>0</td>\n",
       "      <td>1</td>\n",
       "      <td>...</td>\n",
       "      <td>0</td>\n",
       "      <td>0</td>\n",
       "      <td>0</td>\n",
       "      <td>0</td>\n",
       "      <td>0</td>\n",
       "      <td>0</td>\n",
       "      <td>0</td>\n",
       "      <td>0</td>\n",
       "      <td>0</td>\n",
       "      <td>1</td>\n",
       "    </tr>\n",
       "    <tr>\n",
       "      <th>4</th>\n",
       "      <td>5</td>\n",
       "      <td>2011-01-01</td>\n",
       "      <td>1</td>\n",
       "      <td>0</td>\n",
       "      <td>1</td>\n",
       "      <td>4</td>\n",
       "      <td>0</td>\n",
       "      <td>6</td>\n",
       "      <td>0</td>\n",
       "      <td>1</td>\n",
       "      <td>...</td>\n",
       "      <td>0</td>\n",
       "      <td>0</td>\n",
       "      <td>0</td>\n",
       "      <td>0</td>\n",
       "      <td>0</td>\n",
       "      <td>0</td>\n",
       "      <td>0</td>\n",
       "      <td>0</td>\n",
       "      <td>0</td>\n",
       "      <td>1</td>\n",
       "    </tr>\n",
       "  </tbody>\n",
       "</table>\n",
       "<p>5 rows × 68 columns</p>\n",
       "</div>"
      ],
      "text/plain": [
       "   instant      dteday  season  yr  mnth  hr  holiday  weekday  workingday  \\\n",
       "0        1  2011-01-01       1   0     1   0        0        6           0   \n",
       "1        2  2011-01-01       1   0     1   1        0        6           0   \n",
       "2        3  2011-01-01       1   0     1   2        0        6           0   \n",
       "3        4  2011-01-01       1   0     1   3        0        6           0   \n",
       "4        5  2011-01-01       1   0     1   4        0        6           0   \n",
       "\n",
       "   weathersit  ...  hr_21  hr_22  hr_23  weekday_0  weekday_1  weekday_2  \\\n",
       "0           1  ...      0      0      0          0          0          0   \n",
       "1           1  ...      0      0      0          0          0          0   \n",
       "2           1  ...      0      0      0          0          0          0   \n",
       "3           1  ...      0      0      0          0          0          0   \n",
       "4           1  ...      0      0      0          0          0          0   \n",
       "\n",
       "   weekday_3  weekday_4  weekday_5  weekday_6  \n",
       "0          0          0          0          1  \n",
       "1          0          0          0          1  \n",
       "2          0          0          0          1  \n",
       "3          0          0          0          1  \n",
       "4          0          0          0          1  \n",
       "\n",
       "[5 rows x 68 columns]"
      ]
     },
     "execution_count": 6,
     "metadata": {},
     "output_type": "execute_result"
    }
   ],
   "source": [
    "# Use one-hot encode to replace select categrical variables like season, weather, month using get_dummies()\n",
    "dummy_fields = ['season', 'weathersit', 'mnth', 'hr', 'weekday']\n",
    "for each in dummy_fields:\n",
    "    dummies = pd.get_dummies(rides[each], prefix=each, drop_first=False)\n",
    "    rides = pd.concat([rides, dummies], axis=1)\n",
    "\n",
    "rides.head(5)"
   ]
  },
  {
   "cell_type": "code",
   "execution_count": 7,
   "metadata": {
    "execution": {
     "iopub.execute_input": "2021-08-26T02:51:46.406320Z",
     "iopub.status.busy": "2021-08-26T02:51:46.406320Z",
     "iopub.status.idle": "2021-08-26T02:51:46.438234Z",
     "shell.execute_reply": "2021-08-26T02:51:46.437271Z",
     "shell.execute_reply.started": "2021-08-26T02:51:46.406320Z"
    }
   },
   "outputs": [
    {
     "data": {
      "text/html": [
       "<div>\n",
       "<style scoped>\n",
       "    .dataframe tbody tr th:only-of-type {\n",
       "        vertical-align: middle;\n",
       "    }\n",
       "\n",
       "    .dataframe tbody tr th {\n",
       "        vertical-align: top;\n",
       "    }\n",
       "\n",
       "    .dataframe thead th {\n",
       "        text-align: right;\n",
       "    }\n",
       "</style>\n",
       "<table border=\"1\" class=\"dataframe\">\n",
       "  <thead>\n",
       "    <tr style=\"text-align: right;\">\n",
       "      <th></th>\n",
       "      <th>yr</th>\n",
       "      <th>holiday</th>\n",
       "      <th>temp</th>\n",
       "      <th>hum</th>\n",
       "      <th>windspeed</th>\n",
       "      <th>casual</th>\n",
       "      <th>registered</th>\n",
       "      <th>cnt</th>\n",
       "      <th>season_1</th>\n",
       "      <th>season_2</th>\n",
       "      <th>...</th>\n",
       "      <th>hr_21</th>\n",
       "      <th>hr_22</th>\n",
       "      <th>hr_23</th>\n",
       "      <th>weekday_0</th>\n",
       "      <th>weekday_1</th>\n",
       "      <th>weekday_2</th>\n",
       "      <th>weekday_3</th>\n",
       "      <th>weekday_4</th>\n",
       "      <th>weekday_5</th>\n",
       "      <th>weekday_6</th>\n",
       "    </tr>\n",
       "  </thead>\n",
       "  <tbody>\n",
       "    <tr>\n",
       "      <th>0</th>\n",
       "      <td>0</td>\n",
       "      <td>0</td>\n",
       "      <td>0.24</td>\n",
       "      <td>0.81</td>\n",
       "      <td>0.0</td>\n",
       "      <td>3</td>\n",
       "      <td>13</td>\n",
       "      <td>16</td>\n",
       "      <td>1</td>\n",
       "      <td>0</td>\n",
       "      <td>...</td>\n",
       "      <td>0</td>\n",
       "      <td>0</td>\n",
       "      <td>0</td>\n",
       "      <td>0</td>\n",
       "      <td>0</td>\n",
       "      <td>0</td>\n",
       "      <td>0</td>\n",
       "      <td>0</td>\n",
       "      <td>0</td>\n",
       "      <td>1</td>\n",
       "    </tr>\n",
       "    <tr>\n",
       "      <th>1</th>\n",
       "      <td>0</td>\n",
       "      <td>0</td>\n",
       "      <td>0.22</td>\n",
       "      <td>0.80</td>\n",
       "      <td>0.0</td>\n",
       "      <td>8</td>\n",
       "      <td>32</td>\n",
       "      <td>40</td>\n",
       "      <td>1</td>\n",
       "      <td>0</td>\n",
       "      <td>...</td>\n",
       "      <td>0</td>\n",
       "      <td>0</td>\n",
       "      <td>0</td>\n",
       "      <td>0</td>\n",
       "      <td>0</td>\n",
       "      <td>0</td>\n",
       "      <td>0</td>\n",
       "      <td>0</td>\n",
       "      <td>0</td>\n",
       "      <td>1</td>\n",
       "    </tr>\n",
       "    <tr>\n",
       "      <th>2</th>\n",
       "      <td>0</td>\n",
       "      <td>0</td>\n",
       "      <td>0.22</td>\n",
       "      <td>0.80</td>\n",
       "      <td>0.0</td>\n",
       "      <td>5</td>\n",
       "      <td>27</td>\n",
       "      <td>32</td>\n",
       "      <td>1</td>\n",
       "      <td>0</td>\n",
       "      <td>...</td>\n",
       "      <td>0</td>\n",
       "      <td>0</td>\n",
       "      <td>0</td>\n",
       "      <td>0</td>\n",
       "      <td>0</td>\n",
       "      <td>0</td>\n",
       "      <td>0</td>\n",
       "      <td>0</td>\n",
       "      <td>0</td>\n",
       "      <td>1</td>\n",
       "    </tr>\n",
       "    <tr>\n",
       "      <th>3</th>\n",
       "      <td>0</td>\n",
       "      <td>0</td>\n",
       "      <td>0.24</td>\n",
       "      <td>0.75</td>\n",
       "      <td>0.0</td>\n",
       "      <td>3</td>\n",
       "      <td>10</td>\n",
       "      <td>13</td>\n",
       "      <td>1</td>\n",
       "      <td>0</td>\n",
       "      <td>...</td>\n",
       "      <td>0</td>\n",
       "      <td>0</td>\n",
       "      <td>0</td>\n",
       "      <td>0</td>\n",
       "      <td>0</td>\n",
       "      <td>0</td>\n",
       "      <td>0</td>\n",
       "      <td>0</td>\n",
       "      <td>0</td>\n",
       "      <td>1</td>\n",
       "    </tr>\n",
       "    <tr>\n",
       "      <th>4</th>\n",
       "      <td>0</td>\n",
       "      <td>0</td>\n",
       "      <td>0.24</td>\n",
       "      <td>0.75</td>\n",
       "      <td>0.0</td>\n",
       "      <td>0</td>\n",
       "      <td>1</td>\n",
       "      <td>1</td>\n",
       "      <td>1</td>\n",
       "      <td>0</td>\n",
       "      <td>...</td>\n",
       "      <td>0</td>\n",
       "      <td>0</td>\n",
       "      <td>0</td>\n",
       "      <td>0</td>\n",
       "      <td>0</td>\n",
       "      <td>0</td>\n",
       "      <td>0</td>\n",
       "      <td>0</td>\n",
       "      <td>0</td>\n",
       "      <td>1</td>\n",
       "    </tr>\n",
       "  </tbody>\n",
       "</table>\n",
       "<p>5 rows × 59 columns</p>\n",
       "</div>"
      ],
      "text/plain": [
       "   yr  holiday  temp   hum  windspeed  casual  registered  cnt  season_1  \\\n",
       "0   0        0  0.24  0.81        0.0       3          13   16         1   \n",
       "1   0        0  0.22  0.80        0.0       8          32   40         1   \n",
       "2   0        0  0.22  0.80        0.0       5          27   32         1   \n",
       "3   0        0  0.24  0.75        0.0       3          10   13         1   \n",
       "4   0        0  0.24  0.75        0.0       0           1    1         1   \n",
       "\n",
       "   season_2  ...  hr_21  hr_22  hr_23  weekday_0  weekday_1  weekday_2  \\\n",
       "0         0  ...      0      0      0          0          0          0   \n",
       "1         0  ...      0      0      0          0          0          0   \n",
       "2         0  ...      0      0      0          0          0          0   \n",
       "3         0  ...      0      0      0          0          0          0   \n",
       "4         0  ...      0      0      0          0          0          0   \n",
       "\n",
       "   weekday_3  weekday_4  weekday_5  weekday_6  \n",
       "0          0          0          0          1  \n",
       "1          0          0          0          1  \n",
       "2          0          0          0          1  \n",
       "3          0          0          0          1  \n",
       "4          0          0          0          1  \n",
       "\n",
       "[5 rows x 59 columns]"
      ]
     },
     "execution_count": 7,
     "metadata": {},
     "output_type": "execute_result"
    }
   ],
   "source": [
    "# Drop the variables that are no longer needed\n",
    "\n",
    "fields_to_drop = ['instant', 'dteday', 'season', 'weathersit', \n",
    "                  'weekday', 'atemp', 'mnth', 'workingday', 'hr']\n",
    "data = rides.drop(fields_to_drop, axis=1)\n",
    "data.head(5)"
   ]
  },
  {
   "cell_type": "code",
   "execution_count": 8,
   "metadata": {
    "execution": {
     "iopub.execute_input": "2021-08-26T02:51:46.438234Z",
     "iopub.status.busy": "2021-08-26T02:51:46.438234Z",
     "iopub.status.idle": "2021-08-26T02:51:46.453229Z",
     "shell.execute_reply": "2021-08-26T02:51:46.453229Z",
     "shell.execute_reply.started": "2021-08-26T02:51:46.438234Z"
    }
   },
   "outputs": [
    {
     "data": {
      "text/plain": [
       "Index(['yr', 'holiday', 'temp', 'hum', 'windspeed', 'casual', 'registered',\n",
       "       'cnt', 'season_1', 'season_2', 'season_3', 'season_4', 'weathersit_1',\n",
       "       'weathersit_2', 'weathersit_3', 'weathersit_4', 'mnth_1', 'mnth_2',\n",
       "       'mnth_3', 'mnth_4', 'mnth_5', 'mnth_6', 'mnth_7', 'mnth_8', 'mnth_9',\n",
       "       'mnth_10', 'mnth_11', 'mnth_12', 'hr_0', 'hr_1', 'hr_2', 'hr_3', 'hr_4',\n",
       "       'hr_5', 'hr_6', 'hr_7', 'hr_8', 'hr_9', 'hr_10', 'hr_11', 'hr_12',\n",
       "       'hr_13', 'hr_14', 'hr_15', 'hr_16', 'hr_17', 'hr_18', 'hr_19', 'hr_20',\n",
       "       'hr_21', 'hr_22', 'hr_23', 'weekday_0', 'weekday_1', 'weekday_2',\n",
       "       'weekday_3', 'weekday_4', 'weekday_5', 'weekday_6'],\n",
       "      dtype='object')"
      ]
     },
     "execution_count": 8,
     "metadata": {},
     "output_type": "execute_result"
    }
   ],
   "source": [
    "# Check if OHE worked\n",
    "data.columns"
   ]
  },
  {
   "cell_type": "code",
   "execution_count": 9,
   "metadata": {
    "execution": {
     "iopub.execute_input": "2021-08-26T02:51:46.454191Z",
     "iopub.status.busy": "2021-08-26T02:51:46.454191Z",
     "iopub.status.idle": "2021-08-26T02:51:46.469149Z",
     "shell.execute_reply": "2021-08-26T02:51:46.469149Z",
     "shell.execute_reply.started": "2021-08-26T02:51:46.454191Z"
    }
   },
   "outputs": [
    {
     "data": {
      "text/plain": [
       "59"
      ]
     },
     "execution_count": 9,
     "metadata": {},
     "output_type": "execute_result"
    }
   ],
   "source": [
    "len(data.columns)"
   ]
  },
  {
   "cell_type": "markdown",
   "metadata": {},
   "source": [
    "## Split data into train, test, and val tests"
   ]
  },
  {
   "cell_type": "markdown",
   "metadata": {},
   "source": [
    "### Split data test data and non-test data (training and validation)"
   ]
  },
  {
   "cell_type": "code",
   "execution_count": 10,
   "metadata": {
    "execution": {
     "iopub.execute_input": "2021-08-26T02:51:46.471144Z",
     "iopub.status.busy": "2021-08-26T02:51:46.471144Z",
     "iopub.status.idle": "2021-08-26T02:51:46.485136Z",
     "shell.execute_reply": "2021-08-26T02:51:46.485136Z",
     "shell.execute_reply.started": "2021-08-26T02:51:46.471144Z"
    }
   },
   "outputs": [],
   "source": [
    "# Use the last 21 days as test set\n",
    "days = 21\n",
    "test_data = data[-days*24:]\n",
    "# Save the remaining data into data\n",
    "data = data[:-21*24] "
   ]
  },
  {
   "cell_type": "code",
   "execution_count": 11,
   "metadata": {
    "execution": {
     "iopub.execute_input": "2021-08-26T02:51:46.486104Z",
     "iopub.status.busy": "2021-08-26T02:51:46.486104Z",
     "iopub.status.idle": "2021-08-26T02:51:46.501111Z",
     "shell.execute_reply": "2021-08-26T02:51:46.501111Z",
     "shell.execute_reply.started": "2021-08-26T02:51:46.486104Z"
    }
   },
   "outputs": [],
   "source": [
    "# Separate the data into features and targets\n",
    "target_fields = ['cnt', 'casual', 'registered']\n",
    "\n",
    "# Use only 'cnt' as target field\n",
    "features, targets = data.drop(target_fields, axis=1), data['cnt'] # Training Set\n",
    "test_features, test_targets = test_data.drop(target_fields, axis=1), test_data['cnt'] # Test Set"
   ]
  },
  {
   "cell_type": "markdown",
   "metadata": {},
   "source": [
    "### Split non-test data into training and validation data"
   ]
  },
  {
   "cell_type": "code",
   "execution_count": 12,
   "metadata": {
    "execution": {
     "iopub.execute_input": "2021-08-26T02:51:46.502064Z",
     "iopub.status.busy": "2021-08-26T02:51:46.502064Z",
     "iopub.status.idle": "2021-08-26T02:51:46.517053Z",
     "shell.execute_reply": "2021-08-26T02:51:46.517053Z",
     "shell.execute_reply.started": "2021-08-26T02:51:46.502064Z"
    }
   },
   "outputs": [],
   "source": [
    "# # Set the val_set\n",
    "# val_set = 60*24\n",
    "# train_features, train_targets = features[:-val_set], targets[:-val_set]\n",
    "# val_features, val_targets = features[-val_set:], targets[-val_set:]"
   ]
  },
  {
   "cell_type": "markdown",
   "metadata": {},
   "source": [
    "## Run AutoML"
   ]
  },
  {
   "cell_type": "code",
   "execution_count": 13,
   "metadata": {
    "execution": {
     "iopub.execute_input": "2021-08-26T02:51:46.518051Z",
     "iopub.status.busy": "2021-08-26T02:51:46.518051Z",
     "iopub.status.idle": "2021-08-26T02:51:46.531982Z",
     "shell.execute_reply": "2021-08-26T02:51:46.531982Z",
     "shell.execute_reply.started": "2021-08-26T02:51:46.518051Z"
    }
   },
   "outputs": [],
   "source": [
    "# Set parameters\n",
    "\n",
    "# Set number of trials\n",
    "num_trials = 5\n",
    "\n",
    "# Assign X and Y\n",
    "X = features\n",
    "y = targets\n",
    "\n",
    "# Assign test\n",
    "X_test = test_features\n",
    "y_test = test_targets\n",
    "\n",
    "# Set feature names\n",
    "feature_names = np.array(features.columns)"
   ]
  },
  {
   "cell_type": "code",
   "execution_count": 26,
   "metadata": {
    "execution": {
     "iopub.execute_input": "2021-08-26T03:35:43.080929Z",
     "iopub.status.busy": "2021-08-26T03:35:43.080929Z",
     "iopub.status.idle": "2021-08-26T03:35:43.093937Z",
     "shell.execute_reply": "2021-08-26T03:35:43.093937Z",
     "shell.execute_reply.started": "2021-08-26T03:35:43.080929Z"
    },
    "tags": []
   },
   "outputs": [
    {
     "data": {
      "text/html": [
       "<div>\n",
       "<style scoped>\n",
       "    .dataframe tbody tr th:only-of-type {\n",
       "        vertical-align: middle;\n",
       "    }\n",
       "\n",
       "    .dataframe tbody tr th {\n",
       "        vertical-align: top;\n",
       "    }\n",
       "\n",
       "    .dataframe thead th {\n",
       "        text-align: right;\n",
       "    }\n",
       "</style>\n",
       "<table border=\"1\" class=\"dataframe\">\n",
       "  <thead>\n",
       "    <tr style=\"text-align: right;\">\n",
       "      <th></th>\n",
       "      <th>ML Method</th>\n",
       "      <th>HyperParam</th>\n",
       "      <th>Optimal Param</th>\n",
       "      <th>Training Accuracy</th>\n",
       "      <th>Validation Accuracy</th>\n",
       "      <th>Test Accuracy</th>\n",
       "      <th>Top Predictor</th>\n",
       "      <th>Run Time</th>\n",
       "    </tr>\n",
       "  </thead>\n",
       "  <tbody>\n",
       "  </tbody>\n",
       "</table>\n",
       "</div>"
      ],
      "text/plain": [
       "Empty DataFrame\n",
       "Columns: [ML Method, HyperParam, Optimal Param, Training Accuracy, Validation Accuracy, Test Accuracy, Top Predictor, Run Time]\n",
       "Index: []"
      ]
     },
     "execution_count": 26,
     "metadata": {},
     "output_type": "execute_result"
    }
   ],
   "source": [
    "cols = ['ML Method',\n",
    "        'HyperParam',\n",
    "        'Optimal Param',\n",
    "        'Training Accuracy',\n",
    "        'Validation Accuracy',\n",
    "        'Test Accuracy',\n",
    "        'Top Predictor',\n",
    "        'Run Time']\n",
    "summary = pd.DataFrame(columns=cols)\n",
    "summary"
   ]
  },
  {
   "cell_type": "code",
   "execution_count": 24,
   "metadata": {
    "execution": {
     "iopub.execute_input": "2021-08-26T03:33:10.244970Z",
     "iopub.status.busy": "2021-08-26T03:33:10.244970Z",
     "iopub.status.idle": "2021-08-26T03:33:10.252952Z",
     "shell.execute_reply": "2021-08-26T03:33:10.252004Z",
     "shell.execute_reply.started": "2021-08-26T03:33:10.244970Z"
    },
    "tags": []
   },
   "outputs": [],
   "source": [
    "# KNN\n",
    "def train_knn(X, y):\n",
    "    start_time = time.time()\n",
    "    score_train = []\n",
    "    score_val = []\n",
    "    k_range = range(1, 10)\n",
    "\n",
    "    for seed in range(num_trials):\n",
    "        X_train, X_val, y_train, y_val = train_test_split(X, y, test_size=0.25, random_state=seed)\n",
    "        training_accuracy = []  \n",
    "        val_accuracy = []\n",
    "\n",
    "        for n_neighbors in k_range:  \n",
    "            kNN = KNeighborsRegressor(n_neighbors=n_neighbors) \n",
    "            kNN.fit(X_train, y_train)\n",
    "            training_accuracy.append(kNN.score(X_train, y_train))\n",
    "            val_accuracy.append(kNN.score(X_val, y_val))\n",
    "\n",
    "        score_train.append(training_accuracy)\n",
    "        score_val.append(val_accuracy)   \n",
    "\n",
    "    score_val_means = np.mean(score_val, axis=0)\n",
    "    score_train_means = np.mean(score_train, axis=0)\n",
    "    model_name = \"kNN\"\n",
    "    best_k = np.argmax(score_val_means)\n",
    "    hyperparam = \"n_neighbors\"\n",
    "    best_val = score_val_means[best_k]\n",
    "    best_train = score_train_means[best_k]\n",
    "    cnt_predictor = \"NA\"\n",
    "    \n",
    "    model_test = KNeighborsRegressor(n_neighbors=best_k).fit(X_train, y_train)\n",
    "    score_test = model_test.score(X_test, y_test)\n",
    "    \n",
    "    run_time = (time.time() - start_time)\n",
    "    return [model_name, hyperparam, best_k+1, best_train, best_val, score_test,\n",
    "            cnt_predictor, run_time]\n",
    "    "
   ]
  },
  {
   "cell_type": "code",
   "execution_count": 25,
   "metadata": {
    "execution": {
     "iopub.execute_input": "2021-08-26T03:33:11.148931Z",
     "iopub.status.busy": "2021-08-26T03:33:11.148931Z",
     "iopub.status.idle": "2021-08-26T03:35:28.564991Z",
     "shell.execute_reply": "2021-08-26T03:35:28.564991Z",
     "shell.execute_reply.started": "2021-08-26T03:33:11.148931Z"
    },
    "tags": []
   },
   "outputs": [
    {
     "data": {
      "text/plain": [
       "['kNN',\n",
       " 'n_neighbors',\n",
       " 2,\n",
       " 0.9205917102261256,\n",
       " 0.7199402071573554,\n",
       " 0.5922087419013476,\n",
       " 'NA',\n",
       " 137.40209674835205]"
      ]
     },
     "execution_count": 25,
     "metadata": {},
     "output_type": "execute_result"
    }
   ],
   "source": [
    "train_knn(X, y)"
   ]
  },
  {
   "cell_type": "code",
   "execution_count": 32,
   "metadata": {
    "execution": {
     "iopub.execute_input": "2021-08-26T03:42:55.400037Z",
     "iopub.status.busy": "2021-08-26T03:42:55.400037Z",
     "iopub.status.idle": "2021-08-26T03:42:55.421005Z",
     "shell.execute_reply": "2021-08-26T03:42:55.421005Z",
     "shell.execute_reply.started": "2021-08-26T03:42:55.400037Z"
    },
    "tags": []
   },
   "outputs": [],
   "source": [
    "# LINEAR REGRESSION\n",
    "def train_linear(X, y):\n",
    "    start_time = time.time()\n",
    "    score_train = []\n",
    "    score_val = []\n",
    "    mean_abs_coefs = []\n",
    "    model_coefs = []\n",
    "\n",
    "    for seed in range(num_trials):\n",
    "        X_train, X_val, y_train, y_val = train_test_split(X, y, test_size=0.25, random_state=seed)\n",
    "\n",
    "        LR = LinearRegression().fit(X_train, y_train)\n",
    "        score_train.append(LR.score(X_train, y_train))\n",
    "        score_val.append(LR.score(X_val, y_val))\n",
    "\n",
    "        model_coefs.append(np.abs(LR.coef_))\n",
    "\n",
    "    mean_abs_coefs = np.mean(model_coefs, axis=0)\n",
    "    best_predictor = feature_names[np.argmax(mean_abs_coefs)]\n",
    "\n",
    "    model_name = \"Linear Regression\"\n",
    "    best_val = np.amax(score_val)\n",
    "    best_train = score_train[np.argmax(score_val)]\n",
    "    hyperparam = \"NA\"\n",
    "    best_param = \"NA\"\n",
    "\n",
    "    coefs_count = len(mean_abs_coefs)\n",
    "    fig, axl = plt.subplots(figsize=(4,7))\n",
    "    axl.barh(np.arange(coefs_count), sorted(mean_abs_coefs))\n",
    "    axl.set_xlabel('Feature importance')\n",
    "    axl.set_yticks(np.arange(coefs_count))\n",
    "    axl.set_yticklabels(feature_names[np.argsort(mean_abs_coefs)])\n",
    "    fig.suptitle(model_name)\n",
    "    fig.tight_layout()\n",
    "    \n",
    "    plt.show()\n",
    "\n",
    "    model_test = LinearRegression().fit(X_train, y_train)\n",
    "    score_test = model_test.score(X_test, y_test)\n",
    "\n",
    "    run_time = (time.time() - start_time)\n",
    "    return [model_name, hyperparam, best_param, best_train, best_val,\n",
    "            score_test, best_predictor, run_time]"
   ]
  },
  {
   "cell_type": "code",
   "execution_count": 27,
   "metadata": {
    "execution": {
     "iopub.execute_input": "2021-08-26T03:36:15.615909Z",
     "iopub.status.busy": "2021-08-26T03:36:15.615909Z",
     "iopub.status.idle": "2021-08-26T03:36:15.635855Z",
     "shell.execute_reply": "2021-08-26T03:36:15.634858Z",
     "shell.execute_reply.started": "2021-08-26T03:36:15.615909Z"
    },
    "tags": []
   },
   "outputs": [
    {
     "data": {
      "text/plain": [
       "['ML Method',\n",
       " 'HyperParam',\n",
       " 'Optimal Param',\n",
       " 'Training Accuracy',\n",
       " 'Validation Accuracy',\n",
       " 'Test Accuracy',\n",
       " 'Top Predictor',\n",
       " 'Run Time']"
      ]
     },
     "execution_count": 27,
     "metadata": {},
     "output_type": "execute_result"
    }
   ],
   "source": [
    "cols"
   ]
  },
  {
   "cell_type": "code",
   "execution_count": 33,
   "metadata": {
    "execution": {
     "iopub.execute_input": "2021-08-26T03:42:57.243804Z",
     "iopub.status.busy": "2021-08-26T03:42:57.243804Z",
     "iopub.status.idle": "2021-08-26T03:42:58.047654Z",
     "shell.execute_reply": "2021-08-26T03:42:58.046657Z",
     "shell.execute_reply.started": "2021-08-26T03:42:57.243804Z"
    },
    "tags": []
   },
   "outputs": [
    {
     "data": {
      "image/png": "[encoded data removed]",
      "text/plain": [
       "<Figure size 400x700 with 1 Axes>"
      ]
     },
     "metadata": {},
     "output_type": "display_data"
    },
    {
     "data": {
      "text/plain": [
       "['Linear Regression',\n",
       " 'NA',\n",
       " 'NA',\n",
       " 0.6873947648043858,\n",
       " 0.6894656526624385,\n",
       " 0.45126970658827914,\n",
       " 'weathersit_4',\n",
       " 0.7849001884460449]"
      ]
     },
     "execution_count": 33,
     "metadata": {},
     "output_type": "execute_result"
    }
   ],
   "source": [
    "train_linear(X, y)"
   ]
  },
  {
   "cell_type": "code",
   "execution_count": 60,
   "metadata": {},
   "outputs": [],
   "source": [
    "# RIDGE REGRESSION\n",
    "def train_ridge(X, y):\n",
    "    start_time = time.time()\n",
    "    C = [1e-3, 1e-2, 0.1, 0.5, 2, 5, 10,  20, 100, 500, 1000, 5000]\n",
    "    score_train = []\n",
    "    score_val = []\n",
    "    mean_abs_coefs = []\n",
    "\n",
    "    for seed in range(num_trials):\n",
    "        training_accuracy = []  \n",
    "        val_accuracy = []\n",
    "        model_coefs = []\n",
    "        X_train, X_val, y_train, y_val = train_test_split(X, y, test_size=0.25, random_state=seed)\n",
    "        for alpha_run in C:\n",
    "            ridge = Ridge(alpha=alpha_run).fit(X_train, y_train)\n",
    "            training_accuracy.append(ridge.score(X_train, y_train))\n",
    "            val_accuracy.append(ridge.score(X_val, y_val))\n",
    "            model_coefs.append(np.abs(ridge.coef_))\n",
    "\n",
    "        score_train.append(training_accuracy)\n",
    "        score_val.append(val_accuracy)\n",
    "        \n",
    "    score_train_means = np.mean(score_train, axis=0)\n",
    "    score_val_means = np.mean(score_val, axis=0)\n",
    "    best_index = np.argmax(score_val_means)\n",
    "\n",
    "    mean_abs_coefs = np.mean(model_coefs, axis=0)\n",
    "    best_mean_coefs = mean_abs_coefs[best_index]\n",
    "    best_predictor = feature_names[np.argmax(mean_abs_coefs)]\n",
    "\n",
    "    model_name = \"Ridge\"\n",
    "    best_val = score_val_means[best_index]\n",
    "    best_train = score_train_means[best_index]\n",
    "    hyperparam = \"C\"\n",
    "    best_param = C[best_index]\n",
    "\n",
    "    coefs_count = len(mean_abs_coefs)\n",
    "    fig, ax = plt.subplots(figsize=(4,7))\n",
    "    ax.barh(np.arange(coefs_count), sorted(mean_abs_coefs))\n",
    "    ax.set_xlabel('Feature importance')\n",
    "    ax.set_yticks(np.arange(coefs_count))\n",
    "    ax.set_yticklabels(feature_names[np.argsort(mean_abs_coefs)])\n",
    "    fig.suptitle(model_name)\n",
    "    fig.tight_layout()\n",
    "\n",
    "    model_test = Ridge(alpha=best_param).fit(X_train, y_train)\n",
    "    score_test = model_test.score(X_test, y_test)\n",
    "\n",
    "    run_time = (time.time() - start_time)\n",
    "    return [model_name, best_val, score_test, hyperparam, best_param,\n",
    "            best_predictor, run_time]"
   ]
  },
  {
   "cell_type": "code",
   "execution_count": 52,
   "metadata": {
    "execution": {
     "iopub.execute_input": "2021-08-26T04:12:55.879979Z",
     "iopub.status.busy": "2021-08-26T04:12:55.879979Z",
     "iopub.status.idle": "2021-08-26T04:12:56.944132Z",
     "shell.execute_reply": "2021-08-26T04:12:56.944132Z",
     "shell.execute_reply.started": "2021-08-26T04:12:55.879979Z"
    },
    "tags": []
   },
   "outputs": [
    {
     "data": {
      "text/plain": [
       "0.6841805116408469"
      ]
     },
     "execution_count": 52,
     "metadata": {},
     "output_type": "execute_result"
    }
   ],
   "source": [
    "start_time = time.time()\n",
    "alpha = [1e-3, 1e-2, 0.1, 0.5, 2, 5, 10,  20, 100, 500, 1000, 5000]\n",
    "score_train = pd.DataFrame()\n",
    "score_val = pd.DataFrame()\n",
    "mean_abs_coefs = pd.DataFrame()\n",
    "\n",
    "for seed in range(num_trials):\n",
    "    training_accuracy = []  \n",
    "    val_accuracy = []\n",
    "    model_coefs = []\n",
    "    X_train, X_val, y_train, y_val = train_test_split(X, y, test_size=0.25, random_state=seed)\n",
    "    for alpha_run in alpha:\n",
    "        ridge = Ridge(alpha=alpha_run).fit(X_train, y_train)\n",
    "        training_accuracy.append(ridge.score(X_train, y_train))\n",
    "        val_accuracy.append(ridge.score(X_val, y_val))\n",
    "        model_coefs.append(np.abs(ridge.coef_))\n",
    "\n",
    "    score_train[seed] = training_accuracy\n",
    "    score_val[seed] = val_accuracy\n",
    "    mean_abs_coefs[seed] = model_coefs\n",
    "summary = pd.DataFrame([alpha, score_train.mean(axis=1), score_val.mean(axis=1)], index=['alpha', 'train', 'val']).T\n",
    "best_val = summary['val'].max()\n",
    "best_train = summary['train'][summary['val'].idxmax()]\n",
    "best_val\n",
    "# score_train_means = np.mean(score_train, axis=0)\n",
    "# score_val_means = np.mean(score_val, axis=0)\n",
    "# best_index = np.argmax(score_val_means)\n",
    "\n",
    "# mean_abs_coefs = np.mean(model_coefs, axis=0)\n",
    "# best_mean_coefs = mean_abs_coefs[best_index]\n",
    "# best_predictor = feature_names[np.argmax(mean_abs_coefs)]\n",
    "\n",
    "# model_name = \"Ridge\"\n",
    "# best_val = score_val_means[best_index]\n",
    "# best_train = score_train_means[best_index]\n",
    "# hyperparam = \"C\"\n",
    "# best_param = C[best_index]\n",
    "\n",
    "# coefs_count = len(mean_abs_coefs)\n",
    "# fig, ax = plt.subplots(figsize=(4,7))\n",
    "# ax.barh(np.arange(coefs_count), sorted(mean_abs_coefs))\n",
    "# ax.set_xlabel('Feature importance')\n",
    "# ax.set_yticks(np.arange(coefs_count))\n",
    "# ax.set_yticklabels(feature_names[np.argsort(mean_abs_coefs)])\n",
    "# fig.suptitle(model_name)\n",
    "# fig.tight_layout()\n",
    "\n",
    "# model_test = Ridge(alpha=best_param).fit(X_train, y_train)\n",
    "# score_test = model_test.score(X_test, y_test)\n",
    "\n",
    "# run_time = (time.time() - start_time)"
   ]
  },
  {
   "cell_type": "code",
   "execution_count": 61,
   "metadata": {},
   "outputs": [
    {
     "data": {
      "text/plain": [
       "['Ridge',\n",
       " 0.6841805116408469,\n",
       " 0.45129977990849546,\n",
       " 'C',\n",
       " 2,\n",
       " 'hr_17',\n",
       " 1.0275118350982666]"
      ]
     },
     "execution_count": 61,
     "metadata": {},
     "output_type": "execute_result"
    },
    {
     "data": {
      "image/png": "[encoded data removed]",
      "text/plain": [
       "<Figure size 288x504 with 1 Axes>"
      ]
     },
     "metadata": {
      "needs_background": "light"
     },
     "output_type": "display_data"
    }
   ],
   "source": [
    "train_ridge(X, y)"
   ]
  },
  {
   "cell_type": "code",
   "execution_count": 62,
   "metadata": {},
   "outputs": [],
   "source": [
    "# LASSO REGRESSION\n",
    "def train_lasso(X, y):\n",
    "    start_time = time.time()\n",
    "    C = [1e-2, 0.1, 0.5, 2, 5, 10,  20, 100, 500, 1000, 5000]\n",
    "    score_train = []\n",
    "    score_val = []\n",
    "    mean_abs_coefs = []\n",
    "\n",
    "    for seed in range(num_trials):\n",
    "        training_accuracy = []  \n",
    "        val_accuracy = []\n",
    "        model_coefs = []\n",
    "        X_train, X_val, y_train, y_val = train_test_split(X, y, test_size=0.25, random_state=seed)\n",
    "        for alpha_run in C:\n",
    "            lasso = Lasso(alpha=alpha_run, max_iter=5000).fit(X_train, y_train)\n",
    "            training_accuracy.append(lasso.score(X_train, y_train))\n",
    "            val_accuracy.append(lasso.score(X_val, y_val))\n",
    "            model_coefs.append(np.abs(lasso.coef_))\n",
    "        score_train.append(training_accuracy)\n",
    "        score_val.append(val_accuracy)\n",
    "\n",
    "    score_val_means = np.mean(score_val, axis=0)\n",
    "    best_index = np.argmax(score_val_means)\n",
    "\n",
    "    mean_abs_coefs = np.mean(model_coefs, axis=0)\n",
    "    best_mean_coefs = mean_abs_coefs[best_index]\n",
    "    best_predictor = feature_names[np.argmax(mean_abs_coefs)]\n",
    "\n",
    "    model_name = \"Lasso\"\n",
    "    best_val = np.amax(score_val_means)\n",
    "    hyperparam = \"C\"\n",
    "    best_param = C[best_index]\n",
    "\n",
    "    coefs_count = len(mean_abs_coefs)\n",
    "    fig, ax = plt.subplots(figsize=(4,7))\n",
    "    ax.barh(np.arange(coefs_count), sorted(mean_abs_coefs))\n",
    "    ax.set_xlabel('Feature importance')\n",
    "    ax.set_yticks(np.arange(coefs_count))\n",
    "    ax.set_yticklabels(feature_names[np.argsort(mean_abs_coefs)])\n",
    "    fig.suptitle(model_name)\n",
    "    fig.tight_layout()\n",
    "\n",
    "    model_test = Lasso(alpha=best_param, max_iter=5000).fit(X_train, y_train)\n",
    "    score_test = model_test.score(X_test, y_test)\n",
    "    \n",
    "    run_time = (time.time() - start_time)\n",
    "    return [model_name, best_val, score_test, hyperparam, best_param,\n",
    "            best_predictor, run_time]"
   ]
  },
  {
   "cell_type": "code",
   "execution_count": 63,
   "metadata": {},
   "outputs": [
    {
     "data": {
      "text/plain": [
       "['Lasso',\n",
       " 0.6841713666650276,\n",
       " 0.4528995666525878,\n",
       " 'C',\n",
       " 0.01,\n",
       " 'temp',\n",
       " 1.6315069198608398]"
      ]
     },
     "execution_count": 63,
     "metadata": {},
     "output_type": "execute_result"
    },
    {
     "data": {
      "image/png": "[encoded data removed]",
      "text/plain": [
       "<Figure size 288x504 with 1 Axes>"
      ]
     },
     "metadata": {
      "needs_background": "light"
     },
     "output_type": "display_data"
    }
   ],
   "source": [
    "train_lasso(X, y)"
   ]
  },
  {
   "cell_type": "code",
   "execution_count": 64,
   "metadata": {},
   "outputs": [],
   "source": [
    "# DECISION TREE\n",
    "def train_DT(X, y):\n",
    "    start_time = time.time()\n",
    "    max_depth_range = range(1, 52, 5)\n",
    "    score_train = []\n",
    "    score_val = []\n",
    "    mean_abs_coefs = []\n",
    "\n",
    "    for seed in range(num_trials):\n",
    "        training_accuracy = []  \n",
    "        val_accuracy = []\n",
    "        model_coefs = []\n",
    "        X_train, X_val, y_train, y_val = train_test_split(X, y, test_size=0.25, random_state=seed)\n",
    "\n",
    "        for depth in max_depth_range:       \n",
    "            DT = DecisionTreeRegressor(max_depth=depth).fit(X_train, y_train)\n",
    "            training_accuracy.append(DT.score(X_train, y_train))\n",
    "            val_accuracy.append(DT.score(X_val, y_val))\n",
    "            model_coefs.append(np.abs(DT.feature_importances_))\n",
    "\n",
    "        score_train.append(training_accuracy)\n",
    "        score_val.append(val_accuracy)\n",
    "\n",
    "    score_val_means = np.mean(score_val, axis=0)\n",
    "    best_index = np.argmax(score_val_means)\n",
    "\n",
    "    mean_abs_coefs = np.mean(model_coefs, axis=0)\n",
    "    best_mean_coefs = mean_abs_coefs[best_index]\n",
    "    best_predictor = feature_names[np.argmax(mean_abs_coefs)]\n",
    "\n",
    "    model_name = \"Decision Tree\"\n",
    "    best_val = np.amax(score_val_means)\n",
    "    hyperparam = \"Max depth\"\n",
    "    best_param = max_depth_range[best_index]\n",
    "\n",
    "    coefs_count = len(mean_abs_coefs)\n",
    "    fig, ax = plt.subplots(figsize=(4,7))\n",
    "    ax.barh(np.arange(coefs_count), sorted(mean_abs_coefs))\n",
    "    ax.set_xlabel('Feature importance')\n",
    "    ax.set_yticks(np.arange(coefs_count))\n",
    "    ax.set_yticklabels(feature_names[np.argsort(mean_abs_coefs)])\n",
    "    fig.suptitle(model_name)\n",
    "    fig.tight_layout()\n",
    "\n",
    "    model_test = DecisionTreeRegressor(max_depth=best_param).fit(X_train, y_train)\n",
    "    score_test = model_test.score(X_test, y_test)\n",
    "\n",
    "    run_time = (time.time() - start_time)\n",
    "    return [model_name, best_val, score_test, hyperparam, best_param,\n",
    "            best_predictor, run_time]"
   ]
  },
  {
   "cell_type": "code",
   "execution_count": 65,
   "metadata": {},
   "outputs": [
    {
     "data": {
      "text/plain": [
       "['Decision Tree',\n",
       " 0.8292951440842208,\n",
       " 0.5018605779819493,\n",
       " 'Max depth',\n",
       " 26,\n",
       " 'temp',\n",
       " 4.579243421554565]"
      ]
     },
     "execution_count": 65,
     "metadata": {},
     "output_type": "execute_result"
    },
    {
     "data": {
      "image/png": "[encoded data removed]",
      "text/plain": [
       "<Figure size 288x504 with 1 Axes>"
      ]
     },
     "metadata": {
      "needs_background": "light"
     },
     "output_type": "display_data"
    }
   ],
   "source": [
    "train_DT(X, y)"
   ]
  },
  {
   "cell_type": "code",
   "execution_count": 66,
   "metadata": {},
   "outputs": [],
   "source": [
    "# RANDOM FOREST\n",
    "def train_RF(X, y):\n",
    "    start_time = time.time()\n",
    "    max_features_range = [0.2, 0.4, 0.6, 0.8]\n",
    "    score_train = []\n",
    "    score_val = []\n",
    "    mean_abs_coefs = []\n",
    "\n",
    "    for seed in range(num_trials):\n",
    "        training_accuracy = []  \n",
    "        val_accuracy = []\n",
    "        model_coefs = []\n",
    "        X_train, X_val, y_train, y_val = train_test_split(X, y, test_size=0.25, random_state=seed)\n",
    "\n",
    "        for feature in max_features_range:       \n",
    "            RF = RandomForestRegressor(max_features=feature).fit(X_train, y_train)\n",
    "            training_accuracy.append(RF.score(X_train, y_train))\n",
    "            val_accuracy.append(RF.score(X_val, y_val))\n",
    "            model_coefs.append(np.abs(RF.feature_importances_))\n",
    "\n",
    "        score_train.append(training_accuracy)\n",
    "        score_val.append(val_accuracy)\n",
    "\n",
    "    score_val_means = np.mean(score_val, axis=0)\n",
    "    best_index = np.argmax(score_val_means)\n",
    "\n",
    "    mean_abs_coefs = np.mean(model_coefs, axis=0)\n",
    "    best_mean_coefs = mean_abs_coefs[best_index]\n",
    "    best_predictor = feature_names[np.argmax(mean_abs_coefs)]\n",
    "\n",
    "    model_name = \"Random Forest\"\n",
    "    best_val = np.amax(score_val_means)\n",
    "    hyperparam = \"Max features\"\n",
    "    best_param = max_features_range[best_index]\n",
    "\n",
    "    coefs_count = len(mean_abs_coefs)\n",
    "    fig, ax = plt.subplots(figsize=(4,7))\n",
    "    ax.barh(np.arange(coefs_count), sorted(mean_abs_coefs))\n",
    "    ax.set_xlabel('Feature importance')\n",
    "    ax.set_yticks(np.arange(coefs_count))\n",
    "    ax.set_yticklabels(feature_names[np.argsort(mean_abs_coefs)])\n",
    "    fig.suptitle(model_name)\n",
    "    fig.tight_layout()\n",
    "\n",
    "    model_test = RandomForestRegressor(max_features=best_param).fit(X_train, y_train)\n",
    "    score_test = model_test.score(X_test, y_test)\n",
    "\n",
    "    run_time = (time.time() - start_time)\n",
    "    return [model_name, best_val, score_test, hyperparam, best_param,\n",
    "            best_predictor, run_time]"
   ]
  },
  {
   "cell_type": "code",
   "execution_count": 67,
   "metadata": {},
   "outputs": [
    {
     "data": {
      "text/plain": [
       "['Random Forest',\n",
       " 0.9099772036544282,\n",
       " 0.7494197393929325,\n",
       " 'Max features',\n",
       " 0.8,\n",
       " 'temp',\n",
       " 79.73540210723877]"
      ]
     },
     "execution_count": 67,
     "metadata": {},
     "output_type": "execute_result"
    },
    {
     "data": {
      "image/png": "[encoded data removed]",
      "text/plain": [
       "<Figure size 288x504 with 1 Axes>"
      ]
     },
     "metadata": {
      "needs_background": "light"
     },
     "output_type": "display_data"
    }
   ],
   "source": [
    "train_RF(X, y)"
   ]
  },
  {
   "cell_type": "code",
   "execution_count": 71,
   "metadata": {},
   "outputs": [],
   "source": [
    "def train_GBM(X, y):\n",
    "    start_time = time.time()\n",
    "    max_features_range = [0.2, 0.4, 0.6, 0.8]\n",
    "    score_train = []\n",
    "    score_val = []\n",
    "    mean_abs_coefs = []\n",
    "\n",
    "    for seed in range(num_trials):\n",
    "        training_accuracy = []  \n",
    "        val_accuracy = []\n",
    "        model_coefs = []\n",
    "        X_train, X_val, y_train, y_val = train_test_split(X, y, test_size=0.25, random_state=seed)\n",
    "\n",
    "        for feature in max_features_range:       \n",
    "            GBM = GradientBoostingRegressor(max_features=feature).fit(X_train, y_train)\n",
    "            training_accuracy.append(GBM.score(X_train, y_train))\n",
    "            val_accuracy.append(GBM.score(X_val, y_val))\n",
    "            model_coefs.append(np.abs(GBM.feature_importances_))\n",
    "\n",
    "        score_train.append(training_accuracy)\n",
    "        score_val.append(val_accuracy)\n",
    "\n",
    "    score_val_means = np.mean(score_val, axis=0)\n",
    "    best_index = np.argmax(score_val_means)\n",
    "\n",
    "    mean_abs_coefs = np.mean(model_coefs, axis=0)\n",
    "    best_mean_coefs = mean_abs_coefs[best_index]\n",
    "    best_predictor = feature_names[np.argmax(mean_abs_coefs)]\n",
    "\n",
    "    model_name = \"Gradient Boosting Method\"\n",
    "    best_val = np.amax(score_val_means)\n",
    "    hyperparam = \"Max features\"\n",
    "    best_param = max_features_range[best_index]\n",
    "\n",
    "    coefs_count = len(mean_abs_coefs)\n",
    "    fig, ax = plt.subplots(figsize=(4,7))\n",
    "    ax.barh(np.arange(coefs_count), sorted(mean_abs_coefs))\n",
    "    ax.set_xlabel('Feature importance')\n",
    "    ax.set_yticks(np.arange(coefs_count))\n",
    "    ax.set_yticklabels(feature_names[np.argsort(mean_abs_coefs)])\n",
    "    fig.suptitle(model_name)\n",
    "    fig.tight_layout()\n",
    "\n",
    "    model_test = GradientBoostingRegressor(max_features=best_param).fit(X_train, y_train)\n",
    "    score_test = model_test.score(X_test, y_test)\n",
    "    \n",
    "    run_time = (time.time() - start_time)\n",
    "    return [model_name, best_val, score_test, hyperparam, best_param,\n",
    "            best_predictor, run_time]"
   ]
  },
  {
   "cell_type": "code",
   "execution_count": 72,
   "metadata": {},
   "outputs": [
    {
     "data": {
      "text/plain": [
       "['Gradient Boosting Method',\n",
       " 0.7629656151840821,\n",
       " 0.6344270467752258,\n",
       " 'Max features',\n",
       " 0.8,\n",
       " 'temp',\n",
       " 13.62851858139038]"
      ]
     },
     "execution_count": 72,
     "metadata": {},
     "output_type": "execute_result"
    },
    {
     "data": {
      "image/png": "[encoded data removed]",
      "text/plain": [
       "<Figure size 288x504 with 1 Axes>"
      ]
     },
     "metadata": {
      "needs_background": "light"
     },
     "output_type": "display_data"
    }
   ],
   "source": [
    "train_GBM(X, y)"
   ]
  },
  {
   "cell_type": "code",
   "execution_count": 73,
   "metadata": {},
   "outputs": [
    {
     "data": {
      "text/html": [
       "<div>\n",
       "<style scoped>\n",
       "    .dataframe tbody tr th:only-of-type {\n",
       "        vertical-align: middle;\n",
       "    }\n",
       "\n",
       "    .dataframe tbody tr th {\n",
       "        vertical-align: top;\n",
       "    }\n",
       "\n",
       "    .dataframe thead th {\n",
       "        text-align: right;\n",
       "    }\n",
       "</style>\n",
       "<table border=\"1\" class=\"dataframe\">\n",
       "  <thead>\n",
       "    <tr style=\"text-align: right;\">\n",
       "      <th></th>\n",
       "      <th>Regression Method</th>\n",
       "      <th>Best validation accuracy</th>\n",
       "      <th>Test accuracy</th>\n",
       "      <th>Hyperparameter</th>\n",
       "      <th>Best parameter value</th>\n",
       "      <th>Top predictor variable</th>\n",
       "      <th>Run time</th>\n",
       "    </tr>\n",
       "  </thead>\n",
       "  <tbody>\n",
       "    <tr>\n",
       "      <th>0</th>\n",
       "      <td>Linear</td>\n",
       "      <td>0.689426</td>\n",
       "      <td>0.450015</td>\n",
       "      <td>NA</td>\n",
       "      <td>NA</td>\n",
       "      <td>season_4</td>\n",
       "      <td>0.416114</td>\n",
       "    </tr>\n",
       "    <tr>\n",
       "      <th>1</th>\n",
       "      <td>Lasso</td>\n",
       "      <td>0.684171</td>\n",
       "      <td>0.452900</td>\n",
       "      <td>C</td>\n",
       "      <td>0.01</td>\n",
       "      <td>temp</td>\n",
       "      <td>1.973562</td>\n",
       "    </tr>\n",
       "    <tr>\n",
       "      <th>2</th>\n",
       "      <td>Ridge</td>\n",
       "      <td>0.684181</td>\n",
       "      <td>0.451300</td>\n",
       "      <td>C</td>\n",
       "      <td>2</td>\n",
       "      <td>hr_17</td>\n",
       "      <td>1.257595</td>\n",
       "    </tr>\n",
       "    <tr>\n",
       "      <th>3</th>\n",
       "      <td>kNN</td>\n",
       "      <td>0.719903</td>\n",
       "      <td>0.563206</td>\n",
       "      <td>n_neighbors</td>\n",
       "      <td>2</td>\n",
       "      <td>NA</td>\n",
       "      <td>344.488653</td>\n",
       "    </tr>\n",
       "    <tr>\n",
       "      <th>4</th>\n",
       "      <td>Decision Tree</td>\n",
       "      <td>0.829282</td>\n",
       "      <td>0.437196</td>\n",
       "      <td>Max depth</td>\n",
       "      <td>26</td>\n",
       "      <td>temp</td>\n",
       "      <td>4.505240</td>\n",
       "    </tr>\n",
       "    <tr>\n",
       "      <th>5</th>\n",
       "      <td>Random Forest</td>\n",
       "      <td>0.908982</td>\n",
       "      <td>0.741817</td>\n",
       "      <td>Max features</td>\n",
       "      <td>0.8</td>\n",
       "      <td>temp</td>\n",
       "      <td>76.124393</td>\n",
       "    </tr>\n",
       "    <tr>\n",
       "      <th>6</th>\n",
       "      <td>Gradient Boosting Method</td>\n",
       "      <td>0.763206</td>\n",
       "      <td>0.630198</td>\n",
       "      <td>Max features</td>\n",
       "      <td>0.6</td>\n",
       "      <td>temp</td>\n",
       "      <td>12.809804</td>\n",
       "    </tr>\n",
       "  </tbody>\n",
       "</table>\n",
       "</div>"
      ],
      "text/plain": [
       "          Regression Method  Best validation accuracy  Test accuracy  \\\n",
       "0                    Linear                  0.689426       0.450015   \n",
       "1                     Lasso                  0.684171       0.452900   \n",
       "2                     Ridge                  0.684181       0.451300   \n",
       "3                       kNN                  0.719903       0.563206   \n",
       "4             Decision Tree                  0.829282       0.437196   \n",
       "5             Random Forest                  0.908982       0.741817   \n",
       "6  Gradient Boosting Method                  0.763206       0.630198   \n",
       "\n",
       "  Hyperparameter Best parameter value Top predictor variable    Run time  \n",
       "0             NA                   NA               season_4    0.416114  \n",
       "1              C                 0.01                   temp    1.973562  \n",
       "2              C                    2                  hr_17    1.257595  \n",
       "3    n_neighbors                    2                     NA  344.488653  \n",
       "4      Max depth                   26                   temp    4.505240  \n",
       "5   Max features                  0.8                   temp   76.124393  \n",
       "6   Max features                  0.6                   temp   12.809804  "
      ]
     },
     "metadata": {},
     "output_type": "display_data"
    },
    {
     "data": {
      "image/png": "[encoded data removed]",
      "text/plain": [
       "<Figure size 288x504 with 1 Axes>"
      ]
     },
     "metadata": {
      "needs_background": "light"
     },
     "output_type": "display_data"
    },
    {
     "data": {
      "image/png": "[encoded data removed]",
      "text/plain": [
       "<Figure size 288x504 with 1 Axes>"
      ]
     },
     "metadata": {
      "needs_background": "light"
     },
     "output_type": "display_data"
    },
    {
     "data": {
      "image/png": "[encoded data removed]",
      "text/plain": [
       "<Figure size 288x504 with 1 Axes>"
      ]
     },
     "metadata": {
      "needs_background": "light"
     },
     "output_type": "display_data"
    },
    {
     "data": {
      "image/png": "[encoded data removed]",
      "text/plain": [
       "<Figure size 288x504 with 1 Axes>"
      ]
     },
     "metadata": {
      "needs_background": "light"
     },
     "output_type": "display_data"
    },
    {
     "data": {
      "image/png": "[encoded data removed]",
      "text/plain": [
       "<Figure size 288x504 with 1 Axes>"
      ]
     },
     "metadata": {
      "needs_background": "light"
     },
     "output_type": "display_data"
    },
    {
     "data": {
      "image/png": "[encoded data removed]",
      "text/plain": [
       "<Figure size 288x504 with 1 Axes>"
      ]
     },
     "metadata": {
      "needs_background": "light"
     },
     "output_type": "display_data"
    }
   ],
   "source": [
    "cols = ['Regression Method', 'Best validation accuracy',\n",
    "        'Test accuracy', 'Hyperparameter', 'Best parameter value', 'Top predictor variable', 'Run time']\n",
    "df_results = pd.DataFrame(columns=cols)\n",
    "\n",
    "df_results.loc[0] = train_linear(X, y)\n",
    "df_results.loc[1] = train_lasso(X, y)\n",
    "df_results.loc[2] = train_ridge(X, y)\n",
    "df_results.loc[3] = train_knn(X, y)\n",
    "df_results.loc[4] = train_DT(X, y)\n",
    "df_results.loc[5] = train_RF(X, y)\n",
    "df_results.loc[6] = train_GBM(X, y)\n",
    "display(df_results)"
   ]
  }
 ],
 "metadata": {
  "kernelspec": {
   "display_name": "Python 3",
   "language": "python",
   "name": "python3"
  },
  "language_info": {
   "codemirror_mode": {
    "name": "ipython",
    "version": 3
   },
   "file_extension": ".py",
   "mimetype": "text/x-python",
   "name": "python",
   "nbconvert_exporter": "python",
   "pygments_lexer": "ipython3",
   "version": "3.8.10"
  }
 },
 "nbformat": 4,
 "nbformat_minor": 4
}
