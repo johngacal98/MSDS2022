{
 "cells": [
  {
   "cell_type": "markdown",
   "metadata": {
    "id": "JLamSug9_U14"
   },
   "source": [
    "## Notebook 6 Supplementary A: Demonstration of how Gradient Boosting Method (GBM) works for Classification.\n",
    "\n",
    "Created by Christopher Monterola\n",
    "\n",
    "A step-by-step process demonstrating how GBM combines gradient descent with weak decision tree learners in building one of the winningest algorithm in machine learning."
   ]
  },
  {
   "cell_type": "code",
   "execution_count": 30,
   "metadata": {
    "execution": {
     "iopub.execute_input": "2021-08-19T06:28:26.734461Z",
     "iopub.status.busy": "2021-08-19T06:28:26.734461Z",
     "iopub.status.idle": "2021-08-19T06:28:26.743434Z",
     "shell.execute_reply": "2021-08-19T06:28:26.743434Z",
     "shell.execute_reply.started": "2021-08-19T06:28:26.734461Z"
    },
    "id": "bPzsqcDg_U16"
   },
   "outputs": [],
   "source": [
    "import numpy as np\n",
    "import pandas as pd\n",
    "%matplotlib inline\n",
    "import matplotlib.pyplot as plt\n"
   ]
  },
  {
   "cell_type": "markdown",
   "metadata": {
    "id": "R8_e7Uen_U17"
   },
   "source": [
    "# Illustration: Classification of Recovered individuals using COVID19 data.\n",
    "\n",
    "Let's look at a simple data looking at *Recovery* of symptomatic COVID19 patients based on their *Age*, *Gender*, *Income*.     \n",
    "\n",
    "Income level $A$ means belonging to household earnings of > Php 1 M annually;    \n",
    "Income level $B$: Php 240 k to Php 1M;  \n",
    "Income level $C$: < Php 240 k.    "
   ]
  },
  {
   "cell_type": "code",
   "execution_count": 31,
   "metadata": {
    "colab": {
     "base_uri": "https://localhost:8080/"
    },
    "execution": {
     "iopub.execute_input": "2021-08-19T06:28:26.745406Z",
     "iopub.status.busy": "2021-08-19T06:28:26.744408Z",
     "iopub.status.idle": "2021-08-19T06:28:26.758371Z",
     "shell.execute_reply": "2021-08-19T06:28:26.758371Z",
     "shell.execute_reply.started": "2021-08-19T06:28:26.745406Z"
    },
    "executionInfo": {
     "elapsed": 32,
     "status": "ok",
     "timestamp": 1629034823597,
     "user": {
      "displayName": "Christopher Monterola",
      "photoUrl": "https://lh3.googleusercontent.com/a-/AOh14GiyxV9CUZD54GBpsQkscS6VRBjebHtFASKcOq-_Lw=s64",
      "userId": "07920169693232563668"
     },
     "user_tz": -480
    },
    "id": "C0mzlhtW_30F",
    "outputId": "823d7396-f05f-4e69-8aa8-ff0227272f8e"
   },
   "outputs": [],
   "source": [
    "# from google.colab import drive\n",
    "# drive.mount('/content/drive')"
   ]
  },
  {
   "cell_type": "code",
   "execution_count": 32,
   "metadata": {
    "execution": {
     "iopub.execute_input": "2021-08-19T06:28:26.760366Z",
     "iopub.status.busy": "2021-08-19T06:28:26.759369Z",
     "iopub.status.idle": "2021-08-19T06:28:26.773331Z",
     "shell.execute_reply": "2021-08-19T06:28:26.773331Z",
     "shell.execute_reply.started": "2021-08-19T06:28:26.760366Z"
    },
    "id": "Y4aZjST9_67R"
   },
   "outputs": [],
   "source": [
    "data_dir = ''"
   ]
  },
  {
   "cell_type": "code",
   "execution_count": 33,
   "metadata": {
    "colab": {
     "base_uri": "https://localhost:8080/",
     "height": 235
    },
    "execution": {
     "iopub.execute_input": "2021-08-19T06:28:26.775326Z",
     "iopub.status.busy": "2021-08-19T06:28:26.775326Z",
     "iopub.status.idle": "2021-08-19T06:28:26.789288Z",
     "shell.execute_reply": "2021-08-19T06:28:26.789288Z",
     "shell.execute_reply.started": "2021-08-19T06:28:26.775326Z"
    },
    "executionInfo": {
     "elapsed": 31,
     "status": "ok",
     "timestamp": 1629034823599,
     "user": {
      "displayName": "Christopher Monterola",
      "photoUrl": "https://lh3.googleusercontent.com/a-/AOh14GiyxV9CUZD54GBpsQkscS6VRBjebHtFASKcOq-_Lw=s64",
      "userId": "07920169693232563668"
     },
     "user_tz": -480
    },
    "id": "Sojk5Ui9__Ci",
    "outputId": "e81c5a7a-72bd-42a2-99d8-40b554cf978d"
   },
   "outputs": [
    {
     "data": {
      "text/html": [
       "<div>\n",
       "<style scoped>\n",
       "    .dataframe tbody tr th:only-of-type {\n",
       "        vertical-align: middle;\n",
       "    }\n",
       "\n",
       "    .dataframe tbody tr th {\n",
       "        vertical-align: top;\n",
       "    }\n",
       "\n",
       "    .dataframe thead th {\n",
       "        text-align: right;\n",
       "    }\n",
       "</style>\n",
       "<table border=\"1\" class=\"dataframe\">\n",
       "  <thead>\n",
       "    <tr style=\"text-align: right;\">\n",
       "      <th></th>\n",
       "      <th>Age</th>\n",
       "      <th>Gender</th>\n",
       "      <th>Income</th>\n",
       "      <th>Recovered</th>\n",
       "    </tr>\n",
       "  </thead>\n",
       "  <tbody>\n",
       "    <tr>\n",
       "      <th>0</th>\n",
       "      <td>64</td>\n",
       "      <td>Male</td>\n",
       "      <td>C</td>\n",
       "      <td>No</td>\n",
       "    </tr>\n",
       "    <tr>\n",
       "      <th>1</th>\n",
       "      <td>34</td>\n",
       "      <td>Female</td>\n",
       "      <td>B</td>\n",
       "      <td>Yes</td>\n",
       "    </tr>\n",
       "    <tr>\n",
       "      <th>2</th>\n",
       "      <td>65</td>\n",
       "      <td>Female</td>\n",
       "      <td>C</td>\n",
       "      <td>Yes</td>\n",
       "    </tr>\n",
       "    <tr>\n",
       "      <th>3</th>\n",
       "      <td>72</td>\n",
       "      <td>Female</td>\n",
       "      <td>B</td>\n",
       "      <td>No</td>\n",
       "    </tr>\n",
       "    <tr>\n",
       "      <th>4</th>\n",
       "      <td>62</td>\n",
       "      <td>Male</td>\n",
       "      <td>A</td>\n",
       "      <td>Yes</td>\n",
       "    </tr>\n",
       "    <tr>\n",
       "      <th>5</th>\n",
       "      <td>50</td>\n",
       "      <td>Male</td>\n",
       "      <td>A</td>\n",
       "      <td>Yes</td>\n",
       "    </tr>\n",
       "  </tbody>\n",
       "</table>\n",
       "</div>"
      ],
      "text/plain": [
       "   Age  Gender Income Recovered\n",
       "0   64    Male      C        No\n",
       "1   34  Female      B       Yes\n",
       "2   65  Female      C       Yes\n",
       "3   72  Female      B        No\n",
       "4   62    Male      A       Yes\n",
       "5   50    Male      A       Yes"
      ]
     },
     "execution_count": 33,
     "metadata": {},
     "output_type": "execute_result"
    }
   ],
   "source": [
    "df_weight = pd.read_excel(data_dir +'Covid19.xlsx', sheet_name=\"Sheet1\")\n",
    "dummy=df_weight\n",
    "df_weight"
   ]
  },
  {
   "cell_type": "markdown",
   "metadata": {
    "id": "J0vfqBDD_U19"
   },
   "source": [
    "Let's set the *Recovered* to be the target variable and the features as *Age*, *Gender* and *Income*."
   ]
  },
  {
   "cell_type": "code",
   "execution_count": 34,
   "metadata": {
    "colab": {
     "base_uri": "https://localhost:8080/",
     "height": 204
    },
    "execution": {
     "iopub.execute_input": "2021-08-19T06:28:26.791282Z",
     "iopub.status.busy": "2021-08-19T06:28:26.790284Z",
     "iopub.status.idle": "2021-08-19T06:28:26.804248Z",
     "shell.execute_reply": "2021-08-19T06:28:26.804248Z",
     "shell.execute_reply.started": "2021-08-19T06:28:26.791282Z"
    },
    "executionInfo": {
     "elapsed": 30,
     "status": "ok",
     "timestamp": 1629034823599,
     "user": {
      "displayName": "Christopher Monterola",
      "photoUrl": "https://lh3.googleusercontent.com/a-/AOh14GiyxV9CUZD54GBpsQkscS6VRBjebHtFASKcOq-_Lw=s64",
      "userId": "07920169693232563668"
     },
     "user_tz": -480
    },
    "id": "h4Jv55zK_U19",
    "outputId": "a63ca86b-ee14-42f8-f916-096cf82b9d18"
   },
   "outputs": [
    {
     "data": {
      "text/html": [
       "<div>\n",
       "<style scoped>\n",
       "    .dataframe tbody tr th:only-of-type {\n",
       "        vertical-align: middle;\n",
       "    }\n",
       "\n",
       "    .dataframe tbody tr th {\n",
       "        vertical-align: top;\n",
       "    }\n",
       "\n",
       "    .dataframe thead th {\n",
       "        text-align: right;\n",
       "    }\n",
       "</style>\n",
       "<table border=\"1\" class=\"dataframe\">\n",
       "  <thead>\n",
       "    <tr style=\"text-align: right;\">\n",
       "      <th></th>\n",
       "      <th>Age</th>\n",
       "      <th>Gender</th>\n",
       "      <th>Income</th>\n",
       "    </tr>\n",
       "  </thead>\n",
       "  <tbody>\n",
       "    <tr>\n",
       "      <th>0</th>\n",
       "      <td>64</td>\n",
       "      <td>Male</td>\n",
       "      <td>C</td>\n",
       "    </tr>\n",
       "    <tr>\n",
       "      <th>1</th>\n",
       "      <td>34</td>\n",
       "      <td>Female</td>\n",
       "      <td>B</td>\n",
       "    </tr>\n",
       "    <tr>\n",
       "      <th>2</th>\n",
       "      <td>65</td>\n",
       "      <td>Female</td>\n",
       "      <td>C</td>\n",
       "    </tr>\n",
       "    <tr>\n",
       "      <th>3</th>\n",
       "      <td>72</td>\n",
       "      <td>Female</td>\n",
       "      <td>B</td>\n",
       "    </tr>\n",
       "    <tr>\n",
       "      <th>4</th>\n",
       "      <td>62</td>\n",
       "      <td>Male</td>\n",
       "      <td>A</td>\n",
       "    </tr>\n",
       "  </tbody>\n",
       "</table>\n",
       "</div>"
      ],
      "text/plain": [
       "   Age  Gender Income\n",
       "0   64    Male      C\n",
       "1   34  Female      B\n",
       "2   65  Female      C\n",
       "3   72  Female      B\n",
       "4   62    Male      A"
      ]
     },
     "execution_count": 34,
     "metadata": {},
     "output_type": "execute_result"
    }
   ],
   "source": [
    "df_features=dummy.drop('Recovered', axis=1)\n",
    "len(df_features)\n",
    "df_features.head()"
   ]
  },
  {
   "cell_type": "markdown",
   "metadata": {
    "id": "wvTmAonB_U1-"
   },
   "source": [
    "Encode *Gender* to be 1 for *Male* and 0 for *Female*."
   ]
  },
  {
   "cell_type": "code",
   "execution_count": 35,
   "metadata": {
    "colab": {
     "base_uri": "https://localhost:8080/",
     "height": 235
    },
    "execution": {
     "iopub.execute_input": "2021-08-19T06:28:26.805246Z",
     "iopub.status.busy": "2021-08-19T06:28:26.805246Z",
     "iopub.status.idle": "2021-08-19T06:28:26.819208Z",
     "shell.execute_reply": "2021-08-19T06:28:26.819208Z",
     "shell.execute_reply.started": "2021-08-19T06:28:26.805246Z"
    },
    "executionInfo": {
     "elapsed": 30,
     "status": "ok",
     "timestamp": 1629034823600,
     "user": {
      "displayName": "Christopher Monterola",
      "photoUrl": "https://lh3.googleusercontent.com/a-/AOh14GiyxV9CUZD54GBpsQkscS6VRBjebHtFASKcOq-_Lw=s64",
      "userId": "07920169693232563668"
     },
     "user_tz": -480
    },
    "id": "wfC00wqU_U1_",
    "outputId": "b5ce96bf-c202-4718-8b34-f4e05a499538"
   },
   "outputs": [
    {
     "data": {
      "text/html": [
       "<div>\n",
       "<style scoped>\n",
       "    .dataframe tbody tr th:only-of-type {\n",
       "        vertical-align: middle;\n",
       "    }\n",
       "\n",
       "    .dataframe tbody tr th {\n",
       "        vertical-align: top;\n",
       "    }\n",
       "\n",
       "    .dataframe thead th {\n",
       "        text-align: right;\n",
       "    }\n",
       "</style>\n",
       "<table border=\"1\" class=\"dataframe\">\n",
       "  <thead>\n",
       "    <tr style=\"text-align: right;\">\n",
       "      <th></th>\n",
       "      <th>Age</th>\n",
       "      <th>Gender</th>\n",
       "      <th>Income</th>\n",
       "    </tr>\n",
       "  </thead>\n",
       "  <tbody>\n",
       "    <tr>\n",
       "      <th>0</th>\n",
       "      <td>64</td>\n",
       "      <td>1</td>\n",
       "      <td>C</td>\n",
       "    </tr>\n",
       "    <tr>\n",
       "      <th>1</th>\n",
       "      <td>34</td>\n",
       "      <td>0</td>\n",
       "      <td>B</td>\n",
       "    </tr>\n",
       "    <tr>\n",
       "      <th>2</th>\n",
       "      <td>65</td>\n",
       "      <td>0</td>\n",
       "      <td>C</td>\n",
       "    </tr>\n",
       "    <tr>\n",
       "      <th>3</th>\n",
       "      <td>72</td>\n",
       "      <td>0</td>\n",
       "      <td>B</td>\n",
       "    </tr>\n",
       "    <tr>\n",
       "      <th>4</th>\n",
       "      <td>62</td>\n",
       "      <td>1</td>\n",
       "      <td>A</td>\n",
       "    </tr>\n",
       "    <tr>\n",
       "      <th>5</th>\n",
       "      <td>50</td>\n",
       "      <td>1</td>\n",
       "      <td>A</td>\n",
       "    </tr>\n",
       "  </tbody>\n",
       "</table>\n",
       "</div>"
      ],
      "text/plain": [
       "   Age  Gender Income\n",
       "0   64       1      C\n",
       "1   34       0      B\n",
       "2   65       0      C\n",
       "3   72       0      B\n",
       "4   62       1      A\n",
       "5   50       1      A"
      ]
     },
     "execution_count": 35,
     "metadata": {},
     "output_type": "execute_result"
    }
   ],
   "source": [
    "Gender_mapping = {\n",
    "'Male': 1,\n",
    "'Female': 0}\n",
    "df_features['Gender'] = df_features['Gender'].map(Gender_mapping)\n",
    "df_features"
   ]
  },
  {
   "cell_type": "code",
   "execution_count": 36,
   "metadata": {
    "colab": {
     "base_uri": "https://localhost:8080/"
    },
    "execution": {
     "iopub.execute_input": "2021-08-19T06:28:26.820204Z",
     "iopub.status.busy": "2021-08-19T06:28:26.820204Z",
     "iopub.status.idle": "2021-08-19T06:28:26.834166Z",
     "shell.execute_reply": "2021-08-19T06:28:26.834166Z",
     "shell.execute_reply.started": "2021-08-19T06:28:26.820204Z"
    },
    "executionInfo": {
     "elapsed": 29,
     "status": "ok",
     "timestamp": 1629034823600,
     "user": {
      "displayName": "Christopher Monterola",
      "photoUrl": "https://lh3.googleusercontent.com/a-/AOh14GiyxV9CUZD54GBpsQkscS6VRBjebHtFASKcOq-_Lw=s64",
      "userId": "07920169693232563668"
     },
     "user_tz": -480
    },
    "id": "c44VrahF_U1_",
    "outputId": "c6ea0e46-6c52-4e94-8262-b4f503e9fb86"
   },
   "outputs": [
    {
     "data": {
      "text/html": [
       "<div>\n",
       "<style scoped>\n",
       "    .dataframe tbody tr th:only-of-type {\n",
       "        vertical-align: middle;\n",
       "    }\n",
       "\n",
       "    .dataframe tbody tr th {\n",
       "        vertical-align: top;\n",
       "    }\n",
       "\n",
       "    .dataframe thead th {\n",
       "        text-align: right;\n",
       "    }\n",
       "</style>\n",
       "<table border=\"1\" class=\"dataframe\">\n",
       "  <thead>\n",
       "    <tr style=\"text-align: right;\">\n",
       "      <th></th>\n",
       "      <th>Age</th>\n",
       "      <th>Gender</th>\n",
       "      <th>Income</th>\n",
       "    </tr>\n",
       "  </thead>\n",
       "  <tbody>\n",
       "    <tr>\n",
       "      <th>0</th>\n",
       "      <td>64</td>\n",
       "      <td>1</td>\n",
       "      <td>0</td>\n",
       "    </tr>\n",
       "    <tr>\n",
       "      <th>1</th>\n",
       "      <td>34</td>\n",
       "      <td>0</td>\n",
       "      <td>1</td>\n",
       "    </tr>\n",
       "    <tr>\n",
       "      <th>2</th>\n",
       "      <td>65</td>\n",
       "      <td>0</td>\n",
       "      <td>0</td>\n",
       "    </tr>\n",
       "    <tr>\n",
       "      <th>3</th>\n",
       "      <td>72</td>\n",
       "      <td>0</td>\n",
       "      <td>1</td>\n",
       "    </tr>\n",
       "    <tr>\n",
       "      <th>4</th>\n",
       "      <td>62</td>\n",
       "      <td>1</td>\n",
       "      <td>2</td>\n",
       "    </tr>\n",
       "    <tr>\n",
       "      <th>5</th>\n",
       "      <td>50</td>\n",
       "      <td>1</td>\n",
       "      <td>2</td>\n",
       "    </tr>\n",
       "  </tbody>\n",
       "</table>\n",
       "</div>"
      ],
      "text/plain": [
       "   Age  Gender  Income\n",
       "0   64       1       0\n",
       "1   34       0       1\n",
       "2   65       0       0\n",
       "3   72       0       1\n",
       "4   62       1       2\n",
       "5   50       1       2"
      ]
     },
     "execution_count": 36,
     "metadata": {},
     "output_type": "execute_result"
    }
   ],
   "source": [
    "Income_mapping = {\n",
    "'A': 2,\n",
    "'B': 1,\n",
    "'C': 0}\n",
    "df_features['Income'] = df_features['Income'].map(Income_mapping)\n",
    "df_features"
   ]
  },
  {
   "cell_type": "code",
   "execution_count": 37,
   "metadata": {
    "colab": {
     "base_uri": "https://localhost:8080/"
    },
    "execution": {
     "iopub.execute_input": "2021-08-19T06:28:26.836162Z",
     "iopub.status.busy": "2021-08-19T06:28:26.835166Z",
     "iopub.status.idle": "2021-08-19T06:28:26.849127Z",
     "shell.execute_reply": "2021-08-19T06:28:26.849127Z",
     "shell.execute_reply.started": "2021-08-19T06:28:26.835166Z"
    },
    "executionInfo": {
     "elapsed": 28,
     "status": "ok",
     "timestamp": 1629034823600,
     "user": {
      "displayName": "Christopher Monterola",
      "photoUrl": "https://lh3.googleusercontent.com/a-/AOh14GiyxV9CUZD54GBpsQkscS6VRBjebHtFASKcOq-_Lw=s64",
      "userId": "07920169693232563668"
     },
     "user_tz": -480
    },
    "id": "aPwAqu9q_U2A",
    "outputId": "26d77494-fd8d-4a1e-fed7-028e35ea02d2"
   },
   "outputs": [
    {
     "data": {
      "text/plain": [
       "Index(['Age', 'Gender', 'Income'], dtype='object')"
      ]
     },
     "execution_count": 37,
     "metadata": {},
     "output_type": "execute_result"
    }
   ],
   "source": [
    "df_features.columns"
   ]
  },
  {
   "cell_type": "code",
   "execution_count": 38,
   "metadata": {
    "colab": {
     "base_uri": "https://localhost:8080/"
    },
    "execution": {
     "iopub.execute_input": "2021-08-19T06:28:26.851123Z",
     "iopub.status.busy": "2021-08-19T06:28:26.851123Z",
     "iopub.status.idle": "2021-08-19T06:28:26.865085Z",
     "shell.execute_reply": "2021-08-19T06:28:26.865085Z",
     "shell.execute_reply.started": "2021-08-19T06:28:26.851123Z"
    },
    "executionInfo": {
     "elapsed": 29,
     "status": "ok",
     "timestamp": 1629034823604,
     "user": {
      "displayName": "Christopher Monterola",
      "photoUrl": "https://lh3.googleusercontent.com/a-/AOh14GiyxV9CUZD54GBpsQkscS6VRBjebHtFASKcOq-_Lw=s64",
      "userId": "07920169693232563668"
     },
     "user_tz": -480
    },
    "id": "MRkSS55A_U2A",
    "outputId": "651460b7-a0bc-4123-e9f0-684c42057179"
   },
   "outputs": [
    {
     "data": {
      "text/plain": [
       "0    0\n",
       "1    1\n",
       "2    1\n",
       "3    0\n",
       "4    1\n",
       "5    1\n",
       "Name: Recovered, dtype: int64"
      ]
     },
     "execution_count": 38,
     "metadata": {},
     "output_type": "execute_result"
    }
   ],
   "source": [
    "Recovered_mapping = {\n",
    "'Yes': 1,\n",
    "'No': 0}\n",
    "dummy['Recovered'] = dummy['Recovered'].map(Recovered_mapping)\n",
    "dummy['Recovered']"
   ]
  },
  {
   "cell_type": "markdown",
   "metadata": {
    "id": "fpZ3Mdt__U2B"
   },
   "source": [
    "# Step 1: Make the first approximation of predicted Recovery by minimizing the cost function C.\n",
    "\n",
    "The Cost function $C$ is given by: $C = - \\sum_i y_i \\log (P(y_{pred_i})) + (1 - y_i) \\log (1 - P(y_{pred_i}))$\n",
    "\n",
    "Solving for $y_{pred_i}$ that will minimize $C$, we have  $y_{pred_i} = $ constant $ = \\log (odds) = \\log$ (Number of Yes/ Number of No) $= \\log (4/2) = 0.69 $. Therefore, the first approximation of gradient method for the predicted recovered rate is just the $\\log (odds)$ for all the cases, the corresponding value for average in classification. \n"
   ]
  },
  {
   "cell_type": "code",
   "execution_count": 39,
   "metadata": {
    "colab": {
     "base_uri": "https://localhost:8080/"
    },
    "execution": {
     "iopub.execute_input": "2021-08-19T06:28:26.867080Z",
     "iopub.status.busy": "2021-08-19T06:28:26.867080Z",
     "iopub.status.idle": "2021-08-19T06:28:26.881043Z",
     "shell.execute_reply": "2021-08-19T06:28:26.881043Z",
     "shell.execute_reply.started": "2021-08-19T06:28:26.867080Z"
    },
    "executionInfo": {
     "elapsed": 28,
     "status": "ok",
     "timestamp": 1629034823605,
     "user": {
      "displayName": "Christopher Monterola",
      "photoUrl": "https://lh3.googleusercontent.com/a-/AOh14GiyxV9CUZD54GBpsQkscS6VRBjebHtFASKcOq-_Lw=s64",
      "userId": "07920169693232563668"
     },
     "user_tz": -480
    },
    "id": "x9ea0zv5_U2B",
    "outputId": "a9445aa6-0424-4a47-c3a2-f5a6aefcdaee"
   },
   "outputs": [
    {
     "data": {
      "text/plain": [
       "0.6931471805599453"
      ]
     },
     "execution_count": 39,
     "metadata": {},
     "output_type": "execute_result"
    }
   ],
   "source": [
    "np.log(2)"
   ]
  },
  {
   "cell_type": "code",
   "execution_count": 40,
   "metadata": {
    "colab": {
     "base_uri": "https://localhost:8080/"
    },
    "execution": {
     "iopub.execute_input": "2021-08-19T06:28:26.882039Z",
     "iopub.status.busy": "2021-08-19T06:28:26.882039Z",
     "iopub.status.idle": "2021-08-19T06:28:26.896999Z",
     "shell.execute_reply": "2021-08-19T06:28:26.896999Z",
     "shell.execute_reply.started": "2021-08-19T06:28:26.882039Z"
    },
    "executionInfo": {
     "elapsed": 27,
     "status": "ok",
     "timestamp": 1629034823606,
     "user": {
      "displayName": "Christopher Monterola",
      "photoUrl": "https://lh3.googleusercontent.com/a-/AOh14GiyxV9CUZD54GBpsQkscS6VRBjebHtFASKcOq-_Lw=s64",
      "userId": "07920169693232563668"
     },
     "user_tz": -480
    },
    "id": "uJtfqh1r_U2C",
    "outputId": "69f1d453-9b9f-41ad-de0f-409d0f41ad79"
   },
   "outputs": [
    {
     "data": {
      "text/plain": [
       "[0.6931471805599453,\n",
       " 0.6931471805599453,\n",
       " 0.6931471805599453,\n",
       " 0.6931471805599453,\n",
       " 0.6931471805599453,\n",
       " 0.6931471805599453]"
      ]
     },
     "execution_count": 40,
     "metadata": {},
     "output_type": "execute_result"
    }
   ],
   "source": [
    "Prediction_0= 6*[np.log(4/2)]\n",
    "Prediction_0"
   ]
  },
  {
   "cell_type": "code",
   "execution_count": 41,
   "metadata": {
    "colab": {
     "base_uri": "https://localhost:8080/"
    },
    "execution": {
     "iopub.execute_input": "2021-08-19T06:28:26.897996Z",
     "iopub.status.busy": "2021-08-19T06:28:26.897996Z",
     "iopub.status.idle": "2021-08-19T06:28:26.911960Z",
     "shell.execute_reply": "2021-08-19T06:28:26.911960Z",
     "shell.execute_reply.started": "2021-08-19T06:28:26.897996Z"
    },
    "executionInfo": {
     "elapsed": 28,
     "status": "ok",
     "timestamp": 1629034823608,
     "user": {
      "displayName": "Christopher Monterola",
      "photoUrl": "https://lh3.googleusercontent.com/a-/AOh14GiyxV9CUZD54GBpsQkscS6VRBjebHtFASKcOq-_Lw=s64",
      "userId": "07920169693232563668"
     },
     "user_tz": -480
    },
    "id": "uorKVhKr_U2C",
    "outputId": "bf039b9b-2ab3-4e91-df85-53410c3d5189"
   },
   "outputs": [
    {
     "data": {
      "text/html": [
       "<div>\n",
       "<style scoped>\n",
       "    .dataframe tbody tr th:only-of-type {\n",
       "        vertical-align: middle;\n",
       "    }\n",
       "\n",
       "    .dataframe tbody tr th {\n",
       "        vertical-align: top;\n",
       "    }\n",
       "\n",
       "    .dataframe thead th {\n",
       "        text-align: right;\n",
       "    }\n",
       "</style>\n",
       "<table border=\"1\" class=\"dataframe\">\n",
       "  <thead>\n",
       "    <tr style=\"text-align: right;\">\n",
       "      <th></th>\n",
       "      <th>Age</th>\n",
       "      <th>Gender</th>\n",
       "      <th>Income</th>\n",
       "      <th>Recovered</th>\n",
       "      <th>Prediction_0</th>\n",
       "    </tr>\n",
       "  </thead>\n",
       "  <tbody>\n",
       "    <tr>\n",
       "      <th>0</th>\n",
       "      <td>64</td>\n",
       "      <td>Male</td>\n",
       "      <td>C</td>\n",
       "      <td>0</td>\n",
       "      <td>0.693147</td>\n",
       "    </tr>\n",
       "    <tr>\n",
       "      <th>1</th>\n",
       "      <td>34</td>\n",
       "      <td>Female</td>\n",
       "      <td>B</td>\n",
       "      <td>1</td>\n",
       "      <td>0.693147</td>\n",
       "    </tr>\n",
       "    <tr>\n",
       "      <th>2</th>\n",
       "      <td>65</td>\n",
       "      <td>Female</td>\n",
       "      <td>C</td>\n",
       "      <td>1</td>\n",
       "      <td>0.693147</td>\n",
       "    </tr>\n",
       "    <tr>\n",
       "      <th>3</th>\n",
       "      <td>72</td>\n",
       "      <td>Female</td>\n",
       "      <td>B</td>\n",
       "      <td>0</td>\n",
       "      <td>0.693147</td>\n",
       "    </tr>\n",
       "    <tr>\n",
       "      <th>4</th>\n",
       "      <td>62</td>\n",
       "      <td>Male</td>\n",
       "      <td>A</td>\n",
       "      <td>1</td>\n",
       "      <td>0.693147</td>\n",
       "    </tr>\n",
       "    <tr>\n",
       "      <th>5</th>\n",
       "      <td>50</td>\n",
       "      <td>Male</td>\n",
       "      <td>A</td>\n",
       "      <td>1</td>\n",
       "      <td>0.693147</td>\n",
       "    </tr>\n",
       "  </tbody>\n",
       "</table>\n",
       "</div>"
      ],
      "text/plain": [
       "   Age  Gender Income  Recovered  Prediction_0\n",
       "0   64    Male      C          0      0.693147\n",
       "1   34  Female      B          1      0.693147\n",
       "2   65  Female      C          1      0.693147\n",
       "3   72  Female      B          0      0.693147\n",
       "4   62    Male      A          1      0.693147\n",
       "5   50    Male      A          1      0.693147"
      ]
     },
     "execution_count": 41,
     "metadata": {},
     "output_type": "execute_result"
    }
   ],
   "source": [
    "dummy = dummy.assign(Prediction_0 = Prediction_0 )\n",
    "dummy"
   ]
  },
  {
   "cell_type": "markdown",
   "metadata": {
    "id": "YVXCQuM8_U2D"
   },
   "source": [
    "Calculate the residual by calculating the gradient $\\Delta_i$ (hence, the Gradient term in the G of GBM) with respect to the predicted value : $\\Delta_i= y_i - \\frac{1}{1 + \\exp (-\\log (odds))} = Observed/Recovered - \\frac{1}{1 + \\exp (-\\log (odds))}$    \n",
    "\n",
    "$\\Delta_i = Observed/Recovered - \\frac{\\exp (\\log (odds))}{1 + \\exp (\\log (odds))} = Observed/Recovered - Q(\\log(odds))$ \n",
    "\n",
    "where $Q (x)  = \\frac{1}{1 + \\exp (-x))}$."
   ]
  },
  {
   "cell_type": "code",
   "execution_count": 42,
   "metadata": {
    "colab": {
     "base_uri": "https://localhost:8080/"
    },
    "execution": {
     "iopub.execute_input": "2021-08-19T06:28:26.912958Z",
     "iopub.status.busy": "2021-08-19T06:28:26.912958Z",
     "iopub.status.idle": "2021-08-19T06:28:26.927922Z",
     "shell.execute_reply": "2021-08-19T06:28:26.926930Z",
     "shell.execute_reply.started": "2021-08-19T06:28:26.912958Z"
    },
    "executionInfo": {
     "elapsed": 28,
     "status": "ok",
     "timestamp": 1629034823609,
     "user": {
      "displayName": "Christopher Monterola",
      "photoUrl": "https://lh3.googleusercontent.com/a-/AOh14GiyxV9CUZD54GBpsQkscS6VRBjebHtFASKcOq-_Lw=s64",
      "userId": "07920169693232563668"
     },
     "user_tz": -480
    },
    "id": "xNJmu8DZ_U2D",
    "outputId": "cd8e0633-3846-4147-c268-894a20191195"
   },
   "outputs": [
    {
     "data": {
      "text/plain": [
       "0    0\n",
       "1    1\n",
       "2    1\n",
       "3    0\n",
       "4    1\n",
       "5    1\n",
       "Name: Recovered, dtype: int64"
      ]
     },
     "execution_count": 42,
     "metadata": {},
     "output_type": "execute_result"
    }
   ],
   "source": [
    "dummy['Recovered']"
   ]
  },
  {
   "cell_type": "code",
   "execution_count": 43,
   "metadata": {
    "colab": {
     "base_uri": "https://localhost:8080/"
    },
    "execution": {
     "iopub.execute_input": "2021-08-19T06:28:26.929913Z",
     "iopub.status.busy": "2021-08-19T06:28:26.928926Z",
     "iopub.status.idle": "2021-08-19T06:28:26.943875Z",
     "shell.execute_reply": "2021-08-19T06:28:26.942877Z",
     "shell.execute_reply.started": "2021-08-19T06:28:26.929913Z"
    },
    "executionInfo": {
     "elapsed": 26,
     "status": "ok",
     "timestamp": 1629034823609,
     "user": {
      "displayName": "Christopher Monterola",
      "photoUrl": "https://lh3.googleusercontent.com/a-/AOh14GiyxV9CUZD54GBpsQkscS6VRBjebHtFASKcOq-_Lw=s64",
      "userId": "07920169693232563668"
     },
     "user_tz": -480
    },
    "id": "201w_K2U_U2D",
    "outputId": "a3cc3efd-8e8a-48ba-cdc0-cc8f6e3349d8"
   },
   "outputs": [
    {
     "data": {
      "text/plain": [
       "0   -0.666667\n",
       "1    0.333333\n",
       "2    0.333333\n",
       "3   -0.666667\n",
       "4    0.333333\n",
       "5    0.333333\n",
       "Name: Recovered, dtype: float64"
      ]
     },
     "execution_count": 43,
     "metadata": {},
     "output_type": "execute_result"
    }
   ],
   "source": [
    "Residual = dummy['Recovered'] - ((np.exp(Prediction_0)) / (1.0 + np.exp(Prediction_0)))\n",
    "Residual"
   ]
  },
  {
   "cell_type": "code",
   "execution_count": 44,
   "metadata": {
    "colab": {
     "base_uri": "https://localhost:8080/",
     "height": 235
    },
    "execution": {
     "iopub.execute_input": "2021-08-19T06:28:26.943875Z",
     "iopub.status.busy": "2021-08-19T06:28:26.943875Z",
     "iopub.status.idle": "2021-08-19T06:28:26.958836Z",
     "shell.execute_reply": "2021-08-19T06:28:26.957839Z",
     "shell.execute_reply.started": "2021-08-19T06:28:26.943875Z"
    },
    "executionInfo": {
     "elapsed": 25,
     "status": "ok",
     "timestamp": 1629034823610,
     "user": {
      "displayName": "Christopher Monterola",
      "photoUrl": "https://lh3.googleusercontent.com/a-/AOh14GiyxV9CUZD54GBpsQkscS6VRBjebHtFASKcOq-_Lw=s64",
      "userId": "07920169693232563668"
     },
     "user_tz": -480
    },
    "id": "cse6n70f_U2D",
    "outputId": "4878acf6-fb84-4230-f34b-365cf36f2b84"
   },
   "outputs": [
    {
     "data": {
      "text/html": [
       "<div>\n",
       "<style scoped>\n",
       "    .dataframe tbody tr th:only-of-type {\n",
       "        vertical-align: middle;\n",
       "    }\n",
       "\n",
       "    .dataframe tbody tr th {\n",
       "        vertical-align: top;\n",
       "    }\n",
       "\n",
       "    .dataframe thead th {\n",
       "        text-align: right;\n",
       "    }\n",
       "</style>\n",
       "<table border=\"1\" class=\"dataframe\">\n",
       "  <thead>\n",
       "    <tr style=\"text-align: right;\">\n",
       "      <th></th>\n",
       "      <th>Age</th>\n",
       "      <th>Gender</th>\n",
       "      <th>Income</th>\n",
       "      <th>Recovered</th>\n",
       "      <th>Prediction_0</th>\n",
       "      <th>Residual1</th>\n",
       "    </tr>\n",
       "  </thead>\n",
       "  <tbody>\n",
       "    <tr>\n",
       "      <th>0</th>\n",
       "      <td>64</td>\n",
       "      <td>Male</td>\n",
       "      <td>C</td>\n",
       "      <td>0</td>\n",
       "      <td>0.693147</td>\n",
       "      <td>-0.666667</td>\n",
       "    </tr>\n",
       "    <tr>\n",
       "      <th>1</th>\n",
       "      <td>34</td>\n",
       "      <td>Female</td>\n",
       "      <td>B</td>\n",
       "      <td>1</td>\n",
       "      <td>0.693147</td>\n",
       "      <td>0.333333</td>\n",
       "    </tr>\n",
       "    <tr>\n",
       "      <th>2</th>\n",
       "      <td>65</td>\n",
       "      <td>Female</td>\n",
       "      <td>C</td>\n",
       "      <td>1</td>\n",
       "      <td>0.693147</td>\n",
       "      <td>0.333333</td>\n",
       "    </tr>\n",
       "    <tr>\n",
       "      <th>3</th>\n",
       "      <td>72</td>\n",
       "      <td>Female</td>\n",
       "      <td>B</td>\n",
       "      <td>0</td>\n",
       "      <td>0.693147</td>\n",
       "      <td>-0.666667</td>\n",
       "    </tr>\n",
       "    <tr>\n",
       "      <th>4</th>\n",
       "      <td>62</td>\n",
       "      <td>Male</td>\n",
       "      <td>A</td>\n",
       "      <td>1</td>\n",
       "      <td>0.693147</td>\n",
       "      <td>0.333333</td>\n",
       "    </tr>\n",
       "    <tr>\n",
       "      <th>5</th>\n",
       "      <td>50</td>\n",
       "      <td>Male</td>\n",
       "      <td>A</td>\n",
       "      <td>1</td>\n",
       "      <td>0.693147</td>\n",
       "      <td>0.333333</td>\n",
       "    </tr>\n",
       "  </tbody>\n",
       "</table>\n",
       "</div>"
      ],
      "text/plain": [
       "   Age  Gender Income  Recovered  Prediction_0  Residual1\n",
       "0   64    Male      C          0      0.693147  -0.666667\n",
       "1   34  Female      B          1      0.693147   0.333333\n",
       "2   65  Female      C          1      0.693147   0.333333\n",
       "3   72  Female      B          0      0.693147  -0.666667\n",
       "4   62    Male      A          1      0.693147   0.333333\n",
       "5   50    Male      A          1      0.693147   0.333333"
      ]
     },
     "execution_count": 44,
     "metadata": {},
     "output_type": "execute_result"
    }
   ],
   "source": [
    "dummy = dummy.assign(Residual1 = Residual)\n",
    "dummy"
   ]
  },
  {
   "cell_type": "markdown",
   "metadata": {
    "id": "RI9zS0RN_U2E"
   },
   "source": [
    "# Step 2: Use decision tree in predicting the *pseudo-residual* of the predicted weight."
   ]
  },
  {
   "cell_type": "code",
   "execution_count": 45,
   "metadata": {
    "colab": {
     "base_uri": "https://localhost:8080/"
    },
    "execution": {
     "iopub.execute_input": "2021-08-19T06:28:26.961827Z",
     "iopub.status.busy": "2021-08-19T06:28:26.960833Z",
     "iopub.status.idle": "2021-08-19T06:28:26.973794Z",
     "shell.execute_reply": "2021-08-19T06:28:26.973794Z",
     "shell.execute_reply.started": "2021-08-19T06:28:26.961827Z"
    },
    "executionInfo": {
     "elapsed": 559,
     "status": "ok",
     "timestamp": 1629034824145,
     "user": {
      "displayName": "Christopher Monterola",
      "photoUrl": "https://lh3.googleusercontent.com/a-/AOh14GiyxV9CUZD54GBpsQkscS6VRBjebHtFASKcOq-_Lw=s64",
      "userId": "07920169693232563668"
     },
     "user_tz": -480
    },
    "id": "oJ575AMD_U2E",
    "outputId": "221e44d1-c4e9-4a44-9053-b78b470ffcbd"
   },
   "outputs": [
    {
     "data": {
      "text/plain": [
       "DecisionTreeRegressor(max_depth=2, random_state=0)"
      ]
     },
     "execution_count": 45,
     "metadata": {},
     "output_type": "execute_result"
    }
   ],
   "source": [
    "from sklearn.tree import DecisionTreeRegressor\n",
    "\n",
    "dec_tree = DecisionTreeRegressor(max_depth=2, random_state=0)\n",
    "dec_tree.fit(df_features, dummy['Residual1'])"
   ]
  },
  {
   "cell_type": "code",
   "execution_count": 46,
   "metadata": {
    "execution": {
     "iopub.execute_input": "2021-08-19T06:28:26.974820Z",
     "iopub.status.busy": "2021-08-19T06:28:26.974820Z",
     "iopub.status.idle": "2021-08-19T06:28:26.989753Z",
     "shell.execute_reply": "2021-08-19T06:28:26.988778Z",
     "shell.execute_reply.started": "2021-08-19T06:28:26.974820Z"
    },
    "id": "7VTKJ7xs_U2E"
   },
   "outputs": [],
   "source": [
    "from sklearn.tree import export_graphviz\n",
    "\n",
    "export_graphviz(dec_tree, out_file=\"mytree.dot\", feature_names=df_features.columns, filled='true')"
   ]
  },
  {
   "cell_type": "code",
   "execution_count": 47,
   "metadata": {
    "execution": {
     "iopub.execute_input": "2021-08-19T06:28:26.990750Z",
     "iopub.status.busy": "2021-08-19T06:28:26.990750Z",
     "iopub.status.idle": "2021-08-19T06:28:27.004737Z",
     "shell.execute_reply": "2021-08-19T06:28:27.004737Z",
     "shell.execute_reply.started": "2021-08-19T06:28:26.990750Z"
    },
    "tags": []
   },
   "outputs": [],
   "source": [
    "# !pip install graphviz"
   ]
  },
  {
   "cell_type": "code",
   "execution_count": 48,
   "metadata": {
    "colab": {
     "base_uri": "https://localhost:8080/",
     "height": 380
    },
    "execution": {
     "iopub.execute_input": "2021-08-19T06:28:27.005709Z",
     "iopub.status.busy": "2021-08-19T06:28:27.005709Z",
     "iopub.status.idle": "2021-08-19T06:28:27.096466Z",
     "shell.execute_reply": "2021-08-19T06:28:27.096466Z",
     "shell.execute_reply.started": "2021-08-19T06:28:27.005709Z"
    },
    "executionInfo": {
     "elapsed": 11,
     "status": "ok",
     "timestamp": 1629034824146,
     "user": {
      "displayName": "Christopher Monterola",
      "photoUrl": "https://lh3.googleusercontent.com/a-/AOh14GiyxV9CUZD54GBpsQkscS6VRBjebHtFASKcOq-_Lw=s64",
      "userId": "07920169693232563668"
     },
     "user_tz": -480
    },
    "id": "f3OGagoy_U2E",
    "outputId": "b88aa9c1-1df9-4924-b93c-cfc480759d0c",
    "scrolled": true
   },
   "outputs": [
    {
     "data": {
      "image/svg+xml": [
       "<?xml version=\"1.0\" encoding=\"UTF-8\" standalone=\"no\"?>\r\n",
       "<!DOCTYPE svg PUBLIC \"-//W3C//DTD SVG 1.1//EN\"\r\n",
       " \"http://www.w3.org/Graphics/SVG/1.1/DTD/svg11.dtd\">\r\n",
       "<!-- Generated by graphviz version 2.38.0 (20140413.2041)\r\n",
       " -->\r\n",
       "<!-- Title: Tree Pages: 1 -->\r\n",
       "<svg width=\"440pt\" height=\"269pt\"\r\n",
       " viewBox=\"0.00 0.00 440.00 269.00\" xmlns=\"http://www.w3.org/2000/svg\" xmlns:xlink=\"http://www.w3.org/1999/xlink\">\r\n",
       "<g id=\"graph0\" class=\"graph\" transform=\"scale(1 1) rotate(0) translate(4 265)\">\r\n",
       "<title>Tree</title>\r\n",
       "<polygon fill=\"white\" stroke=\"none\" points=\"-4,4 -4,-265 436,-265 436,4 -4,4\"/>\r\n",
       "<!-- 0 -->\r\n",
       "<g id=\"node1\" class=\"node\"><title>0</title>\r\n",
       "<polygon fill=\"#eeab7b\" stroke=\"black\" points=\"256.5,-261 169.5,-261 169.5,-193 256.5,-193 256.5,-261\"/>\r\n",
       "<text text-anchor=\"middle\" x=\"213\" y=\"-245.8\" font-family=\"Times New Roman,serif\" font-size=\"14.00\">Age &lt;= 63.0</text>\r\n",
       "<text text-anchor=\"middle\" x=\"213\" y=\"-230.8\" font-family=\"Times New Roman,serif\" font-size=\"14.00\">mse = 0.222</text>\r\n",
       "<text text-anchor=\"middle\" x=\"213\" y=\"-215.8\" font-family=\"Times New Roman,serif\" font-size=\"14.00\">samples = 6</text>\r\n",
       "<text text-anchor=\"middle\" x=\"213\" y=\"-200.8\" font-family=\"Times New Roman,serif\" font-size=\"14.00\">value = 0.0</text>\r\n",
       "</g>\r\n",
       "<!-- 1 -->\r\n",
       "<g id=\"node2\" class=\"node\"><title>1</title>\r\n",
       "<polygon fill=\"#e58139\" stroke=\"black\" points=\"205,-157 105,-157 105,-89 205,-89 205,-157\"/>\r\n",
       "<text text-anchor=\"middle\" x=\"155\" y=\"-141.8\" font-family=\"Times New Roman,serif\" font-size=\"14.00\">Income &lt;= 1.5</text>\r\n",
       "<text text-anchor=\"middle\" x=\"155\" y=\"-126.8\" font-family=\"Times New Roman,serif\" font-size=\"14.00\">mse = 0.0</text>\r\n",
       "<text text-anchor=\"middle\" x=\"155\" y=\"-111.8\" font-family=\"Times New Roman,serif\" font-size=\"14.00\">samples = 3</text>\r\n",
       "<text text-anchor=\"middle\" x=\"155\" y=\"-96.8\" font-family=\"Times New Roman,serif\" font-size=\"14.00\">value = 0.333</text>\r\n",
       "</g>\r\n",
       "<!-- 0&#45;&gt;1 -->\r\n",
       "<g id=\"edge1\" class=\"edge\"><title>0&#45;&gt;1</title>\r\n",
       "<path fill=\"none\" stroke=\"black\" d=\"M194.169,-192.884C189.307,-184.332 184.008,-175.013 178.923,-166.072\"/>\r\n",
       "<polygon fill=\"black\" stroke=\"black\" points=\"181.921,-164.262 173.935,-157.299 175.835,-167.722 181.921,-164.262\"/>\r\n",
       "<text text-anchor=\"middle\" x=\"167.306\" y=\"-177.704\" font-family=\"Times New Roman,serif\" font-size=\"14.00\">True</text>\r\n",
       "</g>\r\n",
       "<!-- 4 -->\r\n",
       "<g id=\"node5\" class=\"node\"><title>4</title>\r\n",
       "<polygon fill=\"#f6d5bd\" stroke=\"black\" points=\"319,-157 223,-157 223,-89 319,-89 319,-157\"/>\r\n",
       "<text text-anchor=\"middle\" x=\"271\" y=\"-141.8\" font-family=\"Times New Roman,serif\" font-size=\"14.00\">Age &lt;= 64.5</text>\r\n",
       "<text text-anchor=\"middle\" x=\"271\" y=\"-126.8\" font-family=\"Times New Roman,serif\" font-size=\"14.00\">mse = 0.222</text>\r\n",
       "<text text-anchor=\"middle\" x=\"271\" y=\"-111.8\" font-family=\"Times New Roman,serif\" font-size=\"14.00\">samples = 3</text>\r\n",
       "<text text-anchor=\"middle\" x=\"271\" y=\"-96.8\" font-family=\"Times New Roman,serif\" font-size=\"14.00\">value = &#45;0.333</text>\r\n",
       "</g>\r\n",
       "<!-- 0&#45;&gt;4 -->\r\n",
       "<g id=\"edge4\" class=\"edge\"><title>0&#45;&gt;4</title>\r\n",
       "<path fill=\"none\" stroke=\"black\" d=\"M231.831,-192.884C236.693,-184.332 241.992,-175.013 247.077,-166.072\"/>\r\n",
       "<polygon fill=\"black\" stroke=\"black\" points=\"250.165,-167.722 252.065,-157.299 244.079,-164.262 250.165,-167.722\"/>\r\n",
       "<text text-anchor=\"middle\" x=\"258.694\" y=\"-177.704\" font-family=\"Times New Roman,serif\" font-size=\"14.00\">False</text>\r\n",
       "</g>\r\n",
       "<!-- 2 -->\r\n",
       "<g id=\"node3\" class=\"node\"><title>2</title>\r\n",
       "<polygon fill=\"#e58139\" stroke=\"black\" points=\"92,-53 0,-53 0,-0 92,-0 92,-53\"/>\r\n",
       "<text text-anchor=\"middle\" x=\"46\" y=\"-37.8\" font-family=\"Times New Roman,serif\" font-size=\"14.00\">mse = 0.0</text>\r\n",
       "<text text-anchor=\"middle\" x=\"46\" y=\"-22.8\" font-family=\"Times New Roman,serif\" font-size=\"14.00\">samples = 1</text>\r\n",
       "<text text-anchor=\"middle\" x=\"46\" y=\"-7.8\" font-family=\"Times New Roman,serif\" font-size=\"14.00\">value = 0.333</text>\r\n",
       "</g>\r\n",
       "<!-- 1&#45;&gt;2 -->\r\n",
       "<g id=\"edge2\" class=\"edge\"><title>1&#45;&gt;2</title>\r\n",
       "<path fill=\"none\" stroke=\"black\" d=\"M116.877,-88.9485C106.009,-79.526 94.1828,-69.2731 83.3605,-59.8906\"/>\r\n",
       "<polygon fill=\"black\" stroke=\"black\" points=\"85.5342,-57.1428 75.6857,-53.2367 80.9488,-62.4319 85.5342,-57.1428\"/>\r\n",
       "</g>\r\n",
       "<!-- 3 -->\r\n",
       "<g id=\"node4\" class=\"node\"><title>3</title>\r\n",
       "<polygon fill=\"#e58139\" stroke=\"black\" points=\"202,-53 110,-53 110,-0 202,-0 202,-53\"/>\r\n",
       "<text text-anchor=\"middle\" x=\"156\" y=\"-37.8\" font-family=\"Times New Roman,serif\" font-size=\"14.00\">mse = 0.0</text>\r\n",
       "<text text-anchor=\"middle\" x=\"156\" y=\"-22.8\" font-family=\"Times New Roman,serif\" font-size=\"14.00\">samples = 2</text>\r\n",
       "<text text-anchor=\"middle\" x=\"156\" y=\"-7.8\" font-family=\"Times New Roman,serif\" font-size=\"14.00\">value = 0.333</text>\r\n",
       "</g>\r\n",
       "<!-- 1&#45;&gt;3 -->\r\n",
       "<g id=\"edge3\" class=\"edge\"><title>1&#45;&gt;3</title>\r\n",
       "<path fill=\"none\" stroke=\"black\" d=\"M155.35,-88.9485C155.437,-80.7153 155.531,-71.848 155.619,-63.4814\"/>\r\n",
       "<polygon fill=\"black\" stroke=\"black\" points=\"159.122,-63.2732 155.728,-53.2367 152.122,-63.1991 159.122,-63.2732\"/>\r\n",
       "</g>\r\n",
       "<!-- 5 -->\r\n",
       "<g id=\"node6\" class=\"node\"><title>5</title>\r\n",
       "<polygon fill=\"#ffffff\" stroke=\"black\" points=\"318,-53 222,-53 222,-0 318,-0 318,-53\"/>\r\n",
       "<text text-anchor=\"middle\" x=\"270\" y=\"-37.8\" font-family=\"Times New Roman,serif\" font-size=\"14.00\">mse = 0.0</text>\r\n",
       "<text text-anchor=\"middle\" x=\"270\" y=\"-22.8\" font-family=\"Times New Roman,serif\" font-size=\"14.00\">samples = 1</text>\r\n",
       "<text text-anchor=\"middle\" x=\"270\" y=\"-7.8\" font-family=\"Times New Roman,serif\" font-size=\"14.00\">value = &#45;0.667</text>\r\n",
       "</g>\r\n",
       "<!-- 4&#45;&gt;5 -->\r\n",
       "<g id=\"edge5\" class=\"edge\"><title>4&#45;&gt;5</title>\r\n",
       "<path fill=\"none\" stroke=\"black\" d=\"M270.65,-88.9485C270.563,-80.7153 270.469,-71.848 270.381,-63.4814\"/>\r\n",
       "<polygon fill=\"black\" stroke=\"black\" points=\"273.878,-63.1991 270.272,-53.2367 266.878,-63.2732 273.878,-63.1991\"/>\r\n",
       "</g>\r\n",
       "<!-- 6 -->\r\n",
       "<g id=\"node7\" class=\"node\"><title>6</title>\r\n",
       "<polygon fill=\"#f2c09c\" stroke=\"black\" points=\"432,-53 336,-53 336,-0 432,-0 432,-53\"/>\r\n",
       "<text text-anchor=\"middle\" x=\"384\" y=\"-37.8\" font-family=\"Times New Roman,serif\" font-size=\"14.00\">mse = 0.25</text>\r\n",
       "<text text-anchor=\"middle\" x=\"384\" y=\"-22.8\" font-family=\"Times New Roman,serif\" font-size=\"14.00\">samples = 2</text>\r\n",
       "<text text-anchor=\"middle\" x=\"384\" y=\"-7.8\" font-family=\"Times New Roman,serif\" font-size=\"14.00\">value = &#45;0.167</text>\r\n",
       "</g>\r\n",
       "<!-- 4&#45;&gt;6 -->\r\n",
       "<g id=\"edge6\" class=\"edge\"><title>4&#45;&gt;6</title>\r\n",
       "<path fill=\"none\" stroke=\"black\" d=\"M310.522,-88.9485C321.789,-79.526 334.049,-69.2731 345.268,-59.8906\"/>\r\n",
       "<polygon fill=\"black\" stroke=\"black\" points=\"347.799,-62.3368 353.225,-53.2367 343.308,-56.967 347.799,-62.3368\"/>\r\n",
       "</g>\r\n",
       "</g>\r\n",
       "</svg>\r\n"
      ],
      "text/plain": [
       "<graphviz.files.Source at 0x2c2801d6e50>"
      ]
     },
     "execution_count": 48,
     "metadata": {},
     "output_type": "execute_result"
    }
   ],
   "source": [
    "import graphviz\n",
    "with open(\"mytree.dot\") as f:\n",
    "    dot_graph = f.read()\n",
    "graphviz.Source(dot_graph)"
   ]
  },
  {
   "cell_type": "markdown",
   "metadata": {
    "id": "tA5fz58H_U2E"
   },
   "source": [
    "The computation of the pseudo_residual due to decision tree is more involved and i would like to refer you to the derivation here for those who are interested here: https://www.youtube.com/watch?v=StWY5QWMXCw&t=72s\n",
    "\n",
    "It will involve second partial derivatives, Taylor's expansion and a lot of algebraic simplifications but it will result to an elegantly beautiful expression given by:\n",
    "\n",
    "Pseudo_Residual$_i$ $= \\frac{\\sum_i Residual_i}{\\sum_i Q(Predict_i) (1- Q(Predict_i))} = \\frac{\\sum_i Residual_i}{\\sum_i R(Predict_i)}$ \n",
    "\n",
    "where $R = Q (1-Q)$. \n",
    "\n",
    "To calculate the pseudo-residuals we need the elements of each of leaves, for quick reference see the figure below:\n",
    "\n",
    "\n",
    "![GBM_decisiontree1](https://user-images.githubusercontent.com/25600601/129480420-7755efca-d4aa-4703-837a-22c6c8d2617b.png)\n",
    "\n",
    "**Sample Calculations **\n",
    "\n",
    "for Samples 0, 2 (*ie* i = 0,2): Pseudo_Residual$_i$ $= \\frac{-0.67 + 0.33}{R(\\log (4/2)) + R(\\log (4/2))} = -0.77$\n",
    "\n",
    "for Samples 1, 4, 5 (*ie* i = 1,4,5): Pseudo_Residual$_i$ $= \\frac{0.33 + 0.33 + 0.33}{R(\\log (4/2)) + R(\\log (4/2)) + R(\\log (4/2))} = 1.49$\n",
    "\n",
    "for Sample 3 (*ie* i = 3): Pseudo_Residual$_i$ $= \\frac{-.67}{R(\\log (4/2))} = -3.02$"
   ]
  },
  {
   "cell_type": "code",
   "execution_count": 49,
   "metadata": {
    "colab": {
     "base_uri": "https://localhost:8080/"
    },
    "execution": {
     "iopub.execute_input": "2021-08-19T06:28:27.097463Z",
     "iopub.status.busy": "2021-08-19T06:28:27.097463Z",
     "iopub.status.idle": "2021-08-19T06:28:27.111428Z",
     "shell.execute_reply": "2021-08-19T06:28:27.111428Z",
     "shell.execute_reply.started": "2021-08-19T06:28:27.097463Z"
    },
    "executionInfo": {
     "elapsed": 9,
     "status": "ok",
     "timestamp": 1629034824146,
     "user": {
      "displayName": "Christopher Monterola",
      "photoUrl": "https://lh3.googleusercontent.com/a-/AOh14GiyxV9CUZD54GBpsQkscS6VRBjebHtFASKcOq-_Lw=s64",
      "userId": "07920169693232563668"
     },
     "user_tz": -480
    },
    "id": "ThY8fvuf_U2F",
    "outputId": "deecab49-e993-460a-9bb2-a2bd2ef78247"
   },
   "outputs": [
    {
     "name": "stdout",
     "output_type": "stream",
     "text": [
      "-0.765\n",
      "1.4849999999999999\n",
      "-3.015\n"
     ]
    }
   ],
   "source": [
    "def R(p):\n",
    "    Result = (((np.exp(p))) / (1.0 + np.exp(p)))*(1-(np.exp(p)) / (1.0 + np.exp(p)))\n",
    "    return Result\n",
    "\n",
    "#Sample 0, 2\n",
    "print((-.67+.33)/(2*R(np.log(4/2))))\n",
    "\n",
    "#Sample 1, 4, 5\n",
    "print((.33 +.33 + .33)/(3*R(np.log(4/2))))\n",
    "\n",
    "#Sample 3\n",
    "print((-0.67)/(R(np.log(4/2))))"
   ]
  },
  {
   "cell_type": "code",
   "execution_count": 50,
   "metadata": {
    "colab": {
     "base_uri": "https://localhost:8080/",
     "height": 235
    },
    "execution": {
     "iopub.execute_input": "2021-08-19T06:28:27.113423Z",
     "iopub.status.busy": "2021-08-19T06:28:27.113423Z",
     "iopub.status.idle": "2021-08-19T06:28:27.127384Z",
     "shell.execute_reply": "2021-08-19T06:28:27.127384Z",
     "shell.execute_reply.started": "2021-08-19T06:28:27.113423Z"
    },
    "executionInfo": {
     "elapsed": 346,
     "status": "ok",
     "timestamp": 1629034824486,
     "user": {
      "displayName": "Christopher Monterola",
      "photoUrl": "https://lh3.googleusercontent.com/a-/AOh14GiyxV9CUZD54GBpsQkscS6VRBjebHtFASKcOq-_Lw=s64",
      "userId": "07920169693232563668"
     },
     "user_tz": -480
    },
    "id": "xWAc2wYw_U2F",
    "outputId": "ea3a097e-f008-442c-feb1-f99139453e3a"
   },
   "outputs": [
    {
     "data": {
      "text/html": [
       "<div>\n",
       "<style scoped>\n",
       "    .dataframe tbody tr th:only-of-type {\n",
       "        vertical-align: middle;\n",
       "    }\n",
       "\n",
       "    .dataframe tbody tr th {\n",
       "        vertical-align: top;\n",
       "    }\n",
       "\n",
       "    .dataframe thead th {\n",
       "        text-align: right;\n",
       "    }\n",
       "</style>\n",
       "<table border=\"1\" class=\"dataframe\">\n",
       "  <thead>\n",
       "    <tr style=\"text-align: right;\">\n",
       "      <th></th>\n",
       "      <th>Age</th>\n",
       "      <th>Gender</th>\n",
       "      <th>Income</th>\n",
       "      <th>Recovered</th>\n",
       "      <th>Prediction_0</th>\n",
       "      <th>Residual1</th>\n",
       "      <th>Pseudo_Residual1</th>\n",
       "    </tr>\n",
       "  </thead>\n",
       "  <tbody>\n",
       "    <tr>\n",
       "      <th>0</th>\n",
       "      <td>64</td>\n",
       "      <td>Male</td>\n",
       "      <td>C</td>\n",
       "      <td>0</td>\n",
       "      <td>0.693147</td>\n",
       "      <td>-0.666667</td>\n",
       "      <td>-0.77</td>\n",
       "    </tr>\n",
       "    <tr>\n",
       "      <th>1</th>\n",
       "      <td>34</td>\n",
       "      <td>Female</td>\n",
       "      <td>B</td>\n",
       "      <td>1</td>\n",
       "      <td>0.693147</td>\n",
       "      <td>0.333333</td>\n",
       "      <td>1.49</td>\n",
       "    </tr>\n",
       "    <tr>\n",
       "      <th>2</th>\n",
       "      <td>65</td>\n",
       "      <td>Female</td>\n",
       "      <td>C</td>\n",
       "      <td>1</td>\n",
       "      <td>0.693147</td>\n",
       "      <td>0.333333</td>\n",
       "      <td>-0.77</td>\n",
       "    </tr>\n",
       "    <tr>\n",
       "      <th>3</th>\n",
       "      <td>72</td>\n",
       "      <td>Female</td>\n",
       "      <td>B</td>\n",
       "      <td>0</td>\n",
       "      <td>0.693147</td>\n",
       "      <td>-0.666667</td>\n",
       "      <td>-3.02</td>\n",
       "    </tr>\n",
       "    <tr>\n",
       "      <th>4</th>\n",
       "      <td>62</td>\n",
       "      <td>Male</td>\n",
       "      <td>A</td>\n",
       "      <td>1</td>\n",
       "      <td>0.693147</td>\n",
       "      <td>0.333333</td>\n",
       "      <td>1.49</td>\n",
       "    </tr>\n",
       "    <tr>\n",
       "      <th>5</th>\n",
       "      <td>50</td>\n",
       "      <td>Male</td>\n",
       "      <td>A</td>\n",
       "      <td>1</td>\n",
       "      <td>0.693147</td>\n",
       "      <td>0.333333</td>\n",
       "      <td>1.49</td>\n",
       "    </tr>\n",
       "  </tbody>\n",
       "</table>\n",
       "</div>"
      ],
      "text/plain": [
       "   Age  Gender Income  Recovered  Prediction_0  Residual1  Pseudo_Residual1\n",
       "0   64    Male      C          0      0.693147  -0.666667             -0.77\n",
       "1   34  Female      B          1      0.693147   0.333333              1.49\n",
       "2   65  Female      C          1      0.693147   0.333333             -0.77\n",
       "3   72  Female      B          0      0.693147  -0.666667             -3.02\n",
       "4   62    Male      A          1      0.693147   0.333333              1.49\n",
       "5   50    Male      A          1      0.693147   0.333333              1.49"
      ]
     },
     "execution_count": 50,
     "metadata": {},
     "output_type": "execute_result"
    }
   ],
   "source": [
    "dummy = dummy.assign(Pseudo_Residual1 = [-.77,1.49,-.77,-3.02,1.49,1.49])\n",
    "dummy"
   ]
  },
  {
   "cell_type": "markdown",
   "metadata": {
    "id": "cHCqKB1L_U2F"
   },
   "source": [
    "# Step 3: Use the *pseudo-residual* to update the predicted weight.\n",
    "\n",
    "$y_{pred_i}^t = y_{pred_i}^{t-1} +$ (Learning_Rate * Pseudo_Residual1_i). Let's assume the *Learning_Rate* = 0.5. "
   ]
  },
  {
   "cell_type": "code",
   "execution_count": 51,
   "metadata": {
    "colab": {
     "base_uri": "https://localhost:8080/",
     "height": 235
    },
    "execution": {
     "iopub.execute_input": "2021-08-19T06:28:27.130375Z",
     "iopub.status.busy": "2021-08-19T06:28:27.129378Z",
     "iopub.status.idle": "2021-08-19T06:28:27.158300Z",
     "shell.execute_reply": "2021-08-19T06:28:27.158300Z",
     "shell.execute_reply.started": "2021-08-19T06:28:27.130375Z"
    },
    "executionInfo": {
     "elapsed": 26,
     "status": "ok",
     "timestamp": 1629034824496,
     "user": {
      "displayName": "Christopher Monterola",
      "photoUrl": "https://lh3.googleusercontent.com/a-/AOh14GiyxV9CUZD54GBpsQkscS6VRBjebHtFASKcOq-_Lw=s64",
      "userId": "07920169693232563668"
     },
     "user_tz": -480
    },
    "id": "1gY6Z9WZ_U2F",
    "outputId": "a2449581-ba20-4f6d-9b41-86d8a7118a44",
    "scrolled": true
   },
   "outputs": [
    {
     "data": {
      "text/html": [
       "<div>\n",
       "<style scoped>\n",
       "    .dataframe tbody tr th:only-of-type {\n",
       "        vertical-align: middle;\n",
       "    }\n",
       "\n",
       "    .dataframe tbody tr th {\n",
       "        vertical-align: top;\n",
       "    }\n",
       "\n",
       "    .dataframe thead th {\n",
       "        text-align: right;\n",
       "    }\n",
       "</style>\n",
       "<table border=\"1\" class=\"dataframe\">\n",
       "  <thead>\n",
       "    <tr style=\"text-align: right;\">\n",
       "      <th></th>\n",
       "      <th>Age</th>\n",
       "      <th>Gender</th>\n",
       "      <th>Income</th>\n",
       "      <th>Recovered</th>\n",
       "      <th>Prediction_0</th>\n",
       "      <th>Residual1</th>\n",
       "      <th>Pseudo_Residual1</th>\n",
       "      <th>Prediction_1</th>\n",
       "    </tr>\n",
       "  </thead>\n",
       "  <tbody>\n",
       "    <tr>\n",
       "      <th>0</th>\n",
       "      <td>64</td>\n",
       "      <td>Male</td>\n",
       "      <td>C</td>\n",
       "      <td>0</td>\n",
       "      <td>0.693147</td>\n",
       "      <td>-0.666667</td>\n",
       "      <td>-0.77</td>\n",
       "      <td>0.308147</td>\n",
       "    </tr>\n",
       "    <tr>\n",
       "      <th>1</th>\n",
       "      <td>34</td>\n",
       "      <td>Female</td>\n",
       "      <td>B</td>\n",
       "      <td>1</td>\n",
       "      <td>0.693147</td>\n",
       "      <td>0.333333</td>\n",
       "      <td>1.49</td>\n",
       "      <td>1.438147</td>\n",
       "    </tr>\n",
       "    <tr>\n",
       "      <th>2</th>\n",
       "      <td>65</td>\n",
       "      <td>Female</td>\n",
       "      <td>C</td>\n",
       "      <td>1</td>\n",
       "      <td>0.693147</td>\n",
       "      <td>0.333333</td>\n",
       "      <td>-0.77</td>\n",
       "      <td>0.308147</td>\n",
       "    </tr>\n",
       "    <tr>\n",
       "      <th>3</th>\n",
       "      <td>72</td>\n",
       "      <td>Female</td>\n",
       "      <td>B</td>\n",
       "      <td>0</td>\n",
       "      <td>0.693147</td>\n",
       "      <td>-0.666667</td>\n",
       "      <td>-3.02</td>\n",
       "      <td>-0.816853</td>\n",
       "    </tr>\n",
       "    <tr>\n",
       "      <th>4</th>\n",
       "      <td>62</td>\n",
       "      <td>Male</td>\n",
       "      <td>A</td>\n",
       "      <td>1</td>\n",
       "      <td>0.693147</td>\n",
       "      <td>0.333333</td>\n",
       "      <td>1.49</td>\n",
       "      <td>1.438147</td>\n",
       "    </tr>\n",
       "    <tr>\n",
       "      <th>5</th>\n",
       "      <td>50</td>\n",
       "      <td>Male</td>\n",
       "      <td>A</td>\n",
       "      <td>1</td>\n",
       "      <td>0.693147</td>\n",
       "      <td>0.333333</td>\n",
       "      <td>1.49</td>\n",
       "      <td>1.438147</td>\n",
       "    </tr>\n",
       "  </tbody>\n",
       "</table>\n",
       "</div>"
      ],
      "text/plain": [
       "   Age  Gender Income  Recovered  Prediction_0  Residual1  Pseudo_Residual1  \\\n",
       "0   64    Male      C          0      0.693147  -0.666667             -0.77   \n",
       "1   34  Female      B          1      0.693147   0.333333              1.49   \n",
       "2   65  Female      C          1      0.693147   0.333333             -0.77   \n",
       "3   72  Female      B          0      0.693147  -0.666667             -3.02   \n",
       "4   62    Male      A          1      0.693147   0.333333              1.49   \n",
       "5   50    Male      A          1      0.693147   0.333333              1.49   \n",
       "\n",
       "   Prediction_1  \n",
       "0      0.308147  \n",
       "1      1.438147  \n",
       "2      0.308147  \n",
       "3     -0.816853  \n",
       "4      1.438147  \n",
       "5      1.438147  "
      ]
     },
     "execution_count": 51,
     "metadata": {},
     "output_type": "execute_result"
    }
   ],
   "source": [
    "dummy = dummy.assign(Prediction_1 = dummy['Prediction_0'] + 0.5*dummy['Pseudo_Residual1'])\n",
    "\n",
    "dummy"
   ]
  },
  {
   "cell_type": "markdown",
   "metadata": {
    "id": "J-6YLA9y_U2G"
   },
   "source": [
    "# Step 4: Repeat Steps 1-3"
   ]
  },
  {
   "cell_type": "code",
   "execution_count": 52,
   "metadata": {
    "colab": {
     "base_uri": "https://localhost:8080/",
     "height": 235
    },
    "execution": {
     "iopub.execute_input": "2021-08-19T06:28:27.159297Z",
     "iopub.status.busy": "2021-08-19T06:28:27.159297Z",
     "iopub.status.idle": "2021-08-19T06:28:27.174257Z",
     "shell.execute_reply": "2021-08-19T06:28:27.173260Z",
     "shell.execute_reply.started": "2021-08-19T06:28:27.159297Z"
    },
    "executionInfo": {
     "elapsed": 25,
     "status": "ok",
     "timestamp": 1629034824497,
     "user": {
      "displayName": "Christopher Monterola",
      "photoUrl": "https://lh3.googleusercontent.com/a-/AOh14GiyxV9CUZD54GBpsQkscS6VRBjebHtFASKcOq-_Lw=s64",
      "userId": "07920169693232563668"
     },
     "user_tz": -480
    },
    "id": "BCtISnqE_U2G",
    "outputId": "12933fa6-a5cb-4236-ccb2-afbb9b7ec830",
    "scrolled": true
   },
   "outputs": [
    {
     "data": {
      "text/html": [
       "<div>\n",
       "<style scoped>\n",
       "    .dataframe tbody tr th:only-of-type {\n",
       "        vertical-align: middle;\n",
       "    }\n",
       "\n",
       "    .dataframe tbody tr th {\n",
       "        vertical-align: top;\n",
       "    }\n",
       "\n",
       "    .dataframe thead th {\n",
       "        text-align: right;\n",
       "    }\n",
       "</style>\n",
       "<table border=\"1\" class=\"dataframe\">\n",
       "  <thead>\n",
       "    <tr style=\"text-align: right;\">\n",
       "      <th></th>\n",
       "      <th>Age</th>\n",
       "      <th>Gender</th>\n",
       "      <th>Income</th>\n",
       "      <th>Recovered</th>\n",
       "      <th>Prediction_0</th>\n",
       "      <th>Residual1</th>\n",
       "      <th>Pseudo_Residual1</th>\n",
       "      <th>Prediction_1</th>\n",
       "      <th>Residual2</th>\n",
       "    </tr>\n",
       "  </thead>\n",
       "  <tbody>\n",
       "    <tr>\n",
       "      <th>0</th>\n",
       "      <td>64</td>\n",
       "      <td>Male</td>\n",
       "      <td>C</td>\n",
       "      <td>0</td>\n",
       "      <td>0.693147</td>\n",
       "      <td>-0.666667</td>\n",
       "      <td>-0.77</td>\n",
       "      <td>0.308147</td>\n",
       "      <td>-0.576433</td>\n",
       "    </tr>\n",
       "    <tr>\n",
       "      <th>1</th>\n",
       "      <td>34</td>\n",
       "      <td>Female</td>\n",
       "      <td>B</td>\n",
       "      <td>1</td>\n",
       "      <td>0.693147</td>\n",
       "      <td>0.333333</td>\n",
       "      <td>1.49</td>\n",
       "      <td>1.438147</td>\n",
       "      <td>0.191832</td>\n",
       "    </tr>\n",
       "    <tr>\n",
       "      <th>2</th>\n",
       "      <td>65</td>\n",
       "      <td>Female</td>\n",
       "      <td>C</td>\n",
       "      <td>1</td>\n",
       "      <td>0.693147</td>\n",
       "      <td>0.333333</td>\n",
       "      <td>-0.77</td>\n",
       "      <td>0.308147</td>\n",
       "      <td>0.423567</td>\n",
       "    </tr>\n",
       "    <tr>\n",
       "      <th>3</th>\n",
       "      <td>72</td>\n",
       "      <td>Female</td>\n",
       "      <td>B</td>\n",
       "      <td>0</td>\n",
       "      <td>0.693147</td>\n",
       "      <td>-0.666667</td>\n",
       "      <td>-3.02</td>\n",
       "      <td>-0.816853</td>\n",
       "      <td>-0.306432</td>\n",
       "    </tr>\n",
       "    <tr>\n",
       "      <th>4</th>\n",
       "      <td>62</td>\n",
       "      <td>Male</td>\n",
       "      <td>A</td>\n",
       "      <td>1</td>\n",
       "      <td>0.693147</td>\n",
       "      <td>0.333333</td>\n",
       "      <td>1.49</td>\n",
       "      <td>1.438147</td>\n",
       "      <td>0.191832</td>\n",
       "    </tr>\n",
       "    <tr>\n",
       "      <th>5</th>\n",
       "      <td>50</td>\n",
       "      <td>Male</td>\n",
       "      <td>A</td>\n",
       "      <td>1</td>\n",
       "      <td>0.693147</td>\n",
       "      <td>0.333333</td>\n",
       "      <td>1.49</td>\n",
       "      <td>1.438147</td>\n",
       "      <td>0.191832</td>\n",
       "    </tr>\n",
       "  </tbody>\n",
       "</table>\n",
       "</div>"
      ],
      "text/plain": [
       "   Age  Gender Income  Recovered  Prediction_0  Residual1  Pseudo_Residual1  \\\n",
       "0   64    Male      C          0      0.693147  -0.666667             -0.77   \n",
       "1   34  Female      B          1      0.693147   0.333333              1.49   \n",
       "2   65  Female      C          1      0.693147   0.333333             -0.77   \n",
       "3   72  Female      B          0      0.693147  -0.666667             -3.02   \n",
       "4   62    Male      A          1      0.693147   0.333333              1.49   \n",
       "5   50    Male      A          1      0.693147   0.333333              1.49   \n",
       "\n",
       "   Prediction_1  Residual2  \n",
       "0      0.308147  -0.576433  \n",
       "1      1.438147   0.191832  \n",
       "2      0.308147   0.423567  \n",
       "3     -0.816853  -0.306432  \n",
       "4      1.438147   0.191832  \n",
       "5      1.438147   0.191832  "
      ]
     },
     "execution_count": 52,
     "metadata": {},
     "output_type": "execute_result"
    }
   ],
   "source": [
    "#Back to Step 1\n",
    "\n",
    "Residual = dummy['Recovered'] - ((np.exp(dummy['Prediction_1'])) / (1.0 + np.exp(dummy['Prediction_1'])))\n",
    "dummy = dummy.assign(Residual2 = Residual) #Gradient descent\n",
    "\n",
    "dummy"
   ]
  },
  {
   "cell_type": "code",
   "execution_count": 53,
   "metadata": {
    "colab": {
     "base_uri": "https://localhost:8080/",
     "height": 518
    },
    "execution": {
     "iopub.execute_input": "2021-08-19T06:28:27.175255Z",
     "iopub.status.busy": "2021-08-19T06:28:27.175255Z",
     "iopub.status.idle": "2021-08-19T06:28:27.254045Z",
     "shell.execute_reply": "2021-08-19T06:28:27.253048Z",
     "shell.execute_reply.started": "2021-08-19T06:28:27.175255Z"
    },
    "executionInfo": {
     "elapsed": 24,
     "status": "ok",
     "timestamp": 1629034824497,
     "user": {
      "displayName": "Christopher Monterola",
      "photoUrl": "https://lh3.googleusercontent.com/a-/AOh14GiyxV9CUZD54GBpsQkscS6VRBjebHtFASKcOq-_Lw=s64",
      "userId": "07920169693232563668"
     },
     "user_tz": -480
    },
    "id": "kf320jUU_U2G",
    "outputId": "310e2d68-b049-4870-edc8-a8a51cf50084"
   },
   "outputs": [
    {
     "data": {
      "image/svg+xml": [
       "<?xml version=\"1.0\" encoding=\"UTF-8\" standalone=\"no\"?>\r\n",
       "<!DOCTYPE svg PUBLIC \"-//W3C//DTD SVG 1.1//EN\"\r\n",
       " \"http://www.w3.org/Graphics/SVG/1.1/DTD/svg11.dtd\">\r\n",
       "<!-- Generated by graphviz version 2.38.0 (20140413.2041)\r\n",
       " -->\r\n",
       "<!-- Title: Tree Pages: 1 -->\r\n",
       "<svg width=\"326pt\" height=\"373pt\"\r\n",
       " viewBox=\"0.00 0.00 326.00 373.00\" xmlns=\"http://www.w3.org/2000/svg\" xmlns:xlink=\"http://www.w3.org/1999/xlink\">\r\n",
       "<g id=\"graph0\" class=\"graph\" transform=\"scale(1 1) rotate(0) translate(4 369)\">\r\n",
       "<title>Tree</title>\r\n",
       "<polygon fill=\"white\" stroke=\"none\" points=\"-4,4 -4,-369 322,-369 322,4 -4,4\"/>\r\n",
       "<!-- 0 -->\r\n",
       "<g id=\"node1\" class=\"node\"><title>0</title>\r\n",
       "<polygon fill=\"#f0b489\" stroke=\"black\" points=\"148,-365 56,-365 56,-297 148,-297 148,-365\"/>\r\n",
       "<text text-anchor=\"middle\" x=\"102\" y=\"-349.8\" font-family=\"Times New Roman,serif\" font-size=\"14.00\">Age &lt;= 63.0</text>\r\n",
       "<text text-anchor=\"middle\" x=\"102\" y=\"-334.8\" font-family=\"Times New Roman,serif\" font-size=\"14.00\">mse = 0.119</text>\r\n",
       "<text text-anchor=\"middle\" x=\"102\" y=\"-319.8\" font-family=\"Times New Roman,serif\" font-size=\"14.00\">samples = 6</text>\r\n",
       "<text text-anchor=\"middle\" x=\"102\" y=\"-304.8\" font-family=\"Times New Roman,serif\" font-size=\"14.00\">value = 0.019</text>\r\n",
       "</g>\r\n",
       "<!-- 1 -->\r\n",
       "<g id=\"node2\" class=\"node\"><title>1</title>\r\n",
       "<polygon fill=\"#eb9e67\" stroke=\"black\" points=\"92,-253.5 0,-253.5 0,-200.5 92,-200.5 92,-253.5\"/>\r\n",
       "<text text-anchor=\"middle\" x=\"46\" y=\"-238.3\" font-family=\"Times New Roman,serif\" font-size=\"14.00\">mse = 0.0</text>\r\n",
       "<text text-anchor=\"middle\" x=\"46\" y=\"-223.3\" font-family=\"Times New Roman,serif\" font-size=\"14.00\">samples = 3</text>\r\n",
       "<text text-anchor=\"middle\" x=\"46\" y=\"-208.3\" font-family=\"Times New Roman,serif\" font-size=\"14.00\">value = 0.192</text>\r\n",
       "</g>\r\n",
       "<!-- 0&#45;&gt;1 -->\r\n",
       "<g id=\"edge1\" class=\"edge\"><title>0&#45;&gt;1</title>\r\n",
       "<path fill=\"none\" stroke=\"black\" d=\"M83.8184,-296.884C77.7804,-285.886 71.0448,-273.617 64.9503,-262.517\"/>\r\n",
       "<polygon fill=\"black\" stroke=\"black\" points=\"67.8916,-260.601 60.0109,-253.52 61.7556,-263.97 67.8916,-260.601\"/>\r\n",
       "<text text-anchor=\"middle\" x=\"53.0226\" y=\"-273.823\" font-family=\"Times New Roman,serif\" font-size=\"14.00\">True</text>\r\n",
       "</g>\r\n",
       "<!-- 2 -->\r\n",
       "<g id=\"node3\" class=\"node\"><title>2</title>\r\n",
       "<polygon fill=\"#f4caab\" stroke=\"black\" points=\"206,-261 110,-261 110,-193 206,-193 206,-261\"/>\r\n",
       "<text text-anchor=\"middle\" x=\"158\" y=\"-245.8\" font-family=\"Times New Roman,serif\" font-size=\"14.00\">Age &lt;= 64.5</text>\r\n",
       "<text text-anchor=\"middle\" x=\"158\" y=\"-230.8\" font-family=\"Times New Roman,serif\" font-size=\"14.00\">mse = 0.178</text>\r\n",
       "<text text-anchor=\"middle\" x=\"158\" y=\"-215.8\" font-family=\"Times New Roman,serif\" font-size=\"14.00\">samples = 3</text>\r\n",
       "<text text-anchor=\"middle\" x=\"158\" y=\"-200.8\" font-family=\"Times New Roman,serif\" font-size=\"14.00\">value = &#45;0.153</text>\r\n",
       "</g>\r\n",
       "<!-- 0&#45;&gt;2 -->\r\n",
       "<g id=\"edge2\" class=\"edge\"><title>0&#45;&gt;2</title>\r\n",
       "<path fill=\"none\" stroke=\"black\" d=\"M120.182,-296.884C124.876,-288.332 129.993,-279.013 134.902,-270.072\"/>\r\n",
       "<polygon fill=\"black\" stroke=\"black\" points=\"137.973,-271.75 139.718,-261.299 131.837,-268.381 137.973,-271.75\"/>\r\n",
       "<text text-anchor=\"middle\" x=\"146.706\" y=\"-281.603\" font-family=\"Times New Roman,serif\" font-size=\"14.00\">False</text>\r\n",
       "</g>\r\n",
       "<!-- 3 -->\r\n",
       "<g id=\"node4\" class=\"node\"><title>3</title>\r\n",
       "<polygon fill=\"#ffffff\" stroke=\"black\" points=\"150,-149.5 54,-149.5 54,-96.5 150,-96.5 150,-149.5\"/>\r\n",
       "<text text-anchor=\"middle\" x=\"102\" y=\"-134.3\" font-family=\"Times New Roman,serif\" font-size=\"14.00\">mse = 0.0</text>\r\n",
       "<text text-anchor=\"middle\" x=\"102\" y=\"-119.3\" font-family=\"Times New Roman,serif\" font-size=\"14.00\">samples = 1</text>\r\n",
       "<text text-anchor=\"middle\" x=\"102\" y=\"-104.3\" font-family=\"Times New Roman,serif\" font-size=\"14.00\">value = &#45;0.576</text>\r\n",
       "</g>\r\n",
       "<!-- 2&#45;&gt;3 -->\r\n",
       "<g id=\"edge3\" class=\"edge\"><title>2&#45;&gt;3</title>\r\n",
       "<path fill=\"none\" stroke=\"black\" d=\"M139.818,-192.884C133.78,-181.886 127.045,-169.617 120.95,-158.517\"/>\r\n",
       "<polygon fill=\"black\" stroke=\"black\" points=\"123.892,-156.601 116.011,-149.52 117.756,-159.97 123.892,-156.601\"/>\r\n",
       "</g>\r\n",
       "<!-- 4 -->\r\n",
       "<g id=\"node5\" class=\"node\"><title>4</title>\r\n",
       "<polygon fill=\"#eeaf81\" stroke=\"black\" points=\"260,-157 168,-157 168,-89 260,-89 260,-157\"/>\r\n",
       "<text text-anchor=\"middle\" x=\"214\" y=\"-141.8\" font-family=\"Times New Roman,serif\" font-size=\"14.00\">Age &lt;= 68.5</text>\r\n",
       "<text text-anchor=\"middle\" x=\"214\" y=\"-126.8\" font-family=\"Times New Roman,serif\" font-size=\"14.00\">mse = 0.133</text>\r\n",
       "<text text-anchor=\"middle\" x=\"214\" y=\"-111.8\" font-family=\"Times New Roman,serif\" font-size=\"14.00\">samples = 2</text>\r\n",
       "<text text-anchor=\"middle\" x=\"214\" y=\"-96.8\" font-family=\"Times New Roman,serif\" font-size=\"14.00\">value = 0.059</text>\r\n",
       "</g>\r\n",
       "<!-- 2&#45;&gt;4 -->\r\n",
       "<g id=\"edge4\" class=\"edge\"><title>2&#45;&gt;4</title>\r\n",
       "<path fill=\"none\" stroke=\"black\" d=\"M176.182,-192.884C180.876,-184.332 185.993,-175.013 190.902,-166.072\"/>\r\n",
       "<polygon fill=\"black\" stroke=\"black\" points=\"193.973,-167.75 195.718,-157.299 187.837,-164.381 193.973,-167.75\"/>\r\n",
       "</g>\r\n",
       "<!-- 5 -->\r\n",
       "<g id=\"node6\" class=\"node\"><title>5</title>\r\n",
       "<polygon fill=\"#e58139\" stroke=\"black\" points=\"204,-53 112,-53 112,-0 204,-0 204,-53\"/>\r\n",
       "<text text-anchor=\"middle\" x=\"158\" y=\"-37.8\" font-family=\"Times New Roman,serif\" font-size=\"14.00\">mse = 0.0</text>\r\n",
       "<text text-anchor=\"middle\" x=\"158\" y=\"-22.8\" font-family=\"Times New Roman,serif\" font-size=\"14.00\">samples = 1</text>\r\n",
       "<text text-anchor=\"middle\" x=\"158\" y=\"-7.8\" font-family=\"Times New Roman,serif\" font-size=\"14.00\">value = 0.424</text>\r\n",
       "</g>\r\n",
       "<!-- 4&#45;&gt;5 -->\r\n",
       "<g id=\"edge5\" class=\"edge\"><title>4&#45;&gt;5</title>\r\n",
       "<path fill=\"none\" stroke=\"black\" d=\"M194.414,-88.9485C189.264,-80.2579 183.695,-70.8608 178.499,-62.0917\"/>\r\n",
       "<polygon fill=\"black\" stroke=\"black\" points=\"181.36,-60.0553 173.251,-53.2367 175.338,-63.624 181.36,-60.0553\"/>\r\n",
       "</g>\r\n",
       "<!-- 6 -->\r\n",
       "<g id=\"node7\" class=\"node\"><title>6</title>\r\n",
       "<polygon fill=\"#f8ddca\" stroke=\"black\" points=\"318,-53 222,-53 222,-0 318,-0 318,-53\"/>\r\n",
       "<text text-anchor=\"middle\" x=\"270\" y=\"-37.8\" font-family=\"Times New Roman,serif\" font-size=\"14.00\">mse = &#45;0.0</text>\r\n",
       "<text text-anchor=\"middle\" x=\"270\" y=\"-22.8\" font-family=\"Times New Roman,serif\" font-size=\"14.00\">samples = 1</text>\r\n",
       "<text text-anchor=\"middle\" x=\"270\" y=\"-7.8\" font-family=\"Times New Roman,serif\" font-size=\"14.00\">value = &#45;0.306</text>\r\n",
       "</g>\r\n",
       "<!-- 4&#45;&gt;6 -->\r\n",
       "<g id=\"edge6\" class=\"edge\"><title>4&#45;&gt;6</title>\r\n",
       "<path fill=\"none\" stroke=\"black\" d=\"M233.586,-88.9485C238.736,-80.2579 244.305,-70.8608 249.501,-62.0917\"/>\r\n",
       "<polygon fill=\"black\" stroke=\"black\" points=\"252.662,-63.624 254.749,-53.2367 246.64,-60.0553 252.662,-63.624\"/>\r\n",
       "</g>\r\n",
       "</g>\r\n",
       "</svg>\r\n"
      ],
      "text/plain": [
       "<graphviz.files.Source at 0x2c2801d6400>"
      ]
     },
     "execution_count": 53,
     "metadata": {},
     "output_type": "execute_result"
    }
   ],
   "source": [
    "#Back to Step 2\n",
    "\n",
    "from sklearn.tree import DecisionTreeRegressor\n",
    "from sklearn.tree import export_graphviz\n",
    "\n",
    "dec_tree = DecisionTreeRegressor(max_depth=3, random_state=0)\n",
    "dec_tree.fit(df_features, dummy['Residual2'])\n",
    "export_graphviz(dec_tree, out_file=\"mytree.dot\", feature_names=df_features.columns, filled=True)\n",
    "\n",
    "import graphviz\n",
    "with open(\"mytree.dot\") as f:\n",
    "    dot_graph = f.read()\n",
    "graphviz.Source(dot_graph)\n"
   ]
  },
  {
   "cell_type": "markdown",
   "metadata": {
    "id": "IVHQbVHA_U2G"
   },
   "source": [
    "Again, for quick reference see the figure below:\n",
    "\n",
    "![GBM_decisiontree2](https://user-images.githubusercontent.com/25600601/129480463-7c686425-38ac-4fa4-8bdc-3bfb466d17d3.png)"
   ]
  },
  {
   "cell_type": "code",
   "execution_count": 54,
   "metadata": {
    "colab": {
     "base_uri": "https://localhost:8080/"
    },
    "execution": {
     "iopub.execute_input": "2021-08-19T06:28:27.256041Z",
     "iopub.status.busy": "2021-08-19T06:28:27.255042Z",
     "iopub.status.idle": "2021-08-19T06:28:27.269005Z",
     "shell.execute_reply": "2021-08-19T06:28:27.269005Z",
     "shell.execute_reply.started": "2021-08-19T06:28:27.256041Z"
    },
    "executionInfo": {
     "elapsed": 23,
     "status": "ok",
     "timestamp": 1629034824498,
     "user": {
      "displayName": "Christopher Monterola",
      "photoUrl": "https://lh3.googleusercontent.com/a-/AOh14GiyxV9CUZD54GBpsQkscS6VRBjebHtFASKcOq-_Lw=s64",
      "userId": "07920169693232563668"
     },
     "user_tz": -480
    },
    "id": "ZPymWcnf_U2G",
    "outputId": "5ccc2d3a-8276-4d3c-c092-3b868753454e"
   },
   "outputs": [
    {
     "name": "stdout",
     "output_type": "stream",
     "text": [
      "-2.3761858008067507\n",
      "1.226948479378948\n",
      "1.720686269549716\n",
      "-1.454757476398818\n"
     ]
    }
   ],
   "source": [
    "\n",
    "def R(p):\n",
    "    Result = (((np.exp(p))) / (1.0 + np.exp(p)))*(1-(np.exp(p)) / (1.0 + np.exp(p)))\n",
    "    return Result\n",
    "\n",
    "#Sample 0\n",
    "print((-.58)/(R(.31)))\n",
    "\n",
    "#Sample 1, 4, 5\n",
    "print((.19 +.19 + .19)/(3*R(1.44)))\n",
    "\n",
    "#Sample 2\n",
    "print((.42)/(R(.31)))\n",
    "\n",
    "#Sample 3\n",
    "print((-.31)/(R(-.81)))"
   ]
  },
  {
   "cell_type": "code",
   "execution_count": 55,
   "metadata": {
    "colab": {
     "base_uri": "https://localhost:8080/",
     "height": 235
    },
    "execution": {
     "iopub.execute_input": "2021-08-19T06:28:27.270999Z",
     "iopub.status.busy": "2021-08-19T06:28:27.270999Z",
     "iopub.status.idle": "2021-08-19T06:28:27.301916Z",
     "shell.execute_reply": "2021-08-19T06:28:27.300920Z",
     "shell.execute_reply.started": "2021-08-19T06:28:27.270999Z"
    },
    "executionInfo": {
     "elapsed": 20,
     "status": "ok",
     "timestamp": 1629034824498,
     "user": {
      "displayName": "Christopher Monterola",
      "photoUrl": "https://lh3.googleusercontent.com/a-/AOh14GiyxV9CUZD54GBpsQkscS6VRBjebHtFASKcOq-_Lw=s64",
      "userId": "07920169693232563668"
     },
     "user_tz": -480
    },
    "id": "_ECWuCqK_U2H",
    "outputId": "1c26c1b0-47b1-455d-cc02-6365b9671581"
   },
   "outputs": [
    {
     "data": {
      "text/html": [
       "<div>\n",
       "<style scoped>\n",
       "    .dataframe tbody tr th:only-of-type {\n",
       "        vertical-align: middle;\n",
       "    }\n",
       "\n",
       "    .dataframe tbody tr th {\n",
       "        vertical-align: top;\n",
       "    }\n",
       "\n",
       "    .dataframe thead th {\n",
       "        text-align: right;\n",
       "    }\n",
       "</style>\n",
       "<table border=\"1\" class=\"dataframe\">\n",
       "  <thead>\n",
       "    <tr style=\"text-align: right;\">\n",
       "      <th></th>\n",
       "      <th>Age</th>\n",
       "      <th>Gender</th>\n",
       "      <th>Income</th>\n",
       "      <th>Recovered</th>\n",
       "      <th>Prediction_0</th>\n",
       "      <th>Residual1</th>\n",
       "      <th>Pseudo_Residual1</th>\n",
       "      <th>Prediction_1</th>\n",
       "      <th>Residual2</th>\n",
       "      <th>Pseudo_Residual2</th>\n",
       "    </tr>\n",
       "  </thead>\n",
       "  <tbody>\n",
       "    <tr>\n",
       "      <th>0</th>\n",
       "      <td>64</td>\n",
       "      <td>Male</td>\n",
       "      <td>C</td>\n",
       "      <td>0</td>\n",
       "      <td>0.693147</td>\n",
       "      <td>-0.666667</td>\n",
       "      <td>-0.77</td>\n",
       "      <td>0.308147</td>\n",
       "      <td>-0.576433</td>\n",
       "      <td>-2.38</td>\n",
       "    </tr>\n",
       "    <tr>\n",
       "      <th>1</th>\n",
       "      <td>34</td>\n",
       "      <td>Female</td>\n",
       "      <td>B</td>\n",
       "      <td>1</td>\n",
       "      <td>0.693147</td>\n",
       "      <td>0.333333</td>\n",
       "      <td>1.49</td>\n",
       "      <td>1.438147</td>\n",
       "      <td>0.191832</td>\n",
       "      <td>1.23</td>\n",
       "    </tr>\n",
       "    <tr>\n",
       "      <th>2</th>\n",
       "      <td>65</td>\n",
       "      <td>Female</td>\n",
       "      <td>C</td>\n",
       "      <td>1</td>\n",
       "      <td>0.693147</td>\n",
       "      <td>0.333333</td>\n",
       "      <td>-0.77</td>\n",
       "      <td>0.308147</td>\n",
       "      <td>0.423567</td>\n",
       "      <td>1.72</td>\n",
       "    </tr>\n",
       "    <tr>\n",
       "      <th>3</th>\n",
       "      <td>72</td>\n",
       "      <td>Female</td>\n",
       "      <td>B</td>\n",
       "      <td>0</td>\n",
       "      <td>0.693147</td>\n",
       "      <td>-0.666667</td>\n",
       "      <td>-3.02</td>\n",
       "      <td>-0.816853</td>\n",
       "      <td>-0.306432</td>\n",
       "      <td>-1.45</td>\n",
       "    </tr>\n",
       "    <tr>\n",
       "      <th>4</th>\n",
       "      <td>62</td>\n",
       "      <td>Male</td>\n",
       "      <td>A</td>\n",
       "      <td>1</td>\n",
       "      <td>0.693147</td>\n",
       "      <td>0.333333</td>\n",
       "      <td>1.49</td>\n",
       "      <td>1.438147</td>\n",
       "      <td>0.191832</td>\n",
       "      <td>1.22</td>\n",
       "    </tr>\n",
       "    <tr>\n",
       "      <th>5</th>\n",
       "      <td>50</td>\n",
       "      <td>Male</td>\n",
       "      <td>A</td>\n",
       "      <td>1</td>\n",
       "      <td>0.693147</td>\n",
       "      <td>0.333333</td>\n",
       "      <td>1.49</td>\n",
       "      <td>1.438147</td>\n",
       "      <td>0.191832</td>\n",
       "      <td>1.22</td>\n",
       "    </tr>\n",
       "  </tbody>\n",
       "</table>\n",
       "</div>"
      ],
      "text/plain": [
       "   Age  Gender Income  Recovered  Prediction_0  Residual1  Pseudo_Residual1  \\\n",
       "0   64    Male      C          0      0.693147  -0.666667             -0.77   \n",
       "1   34  Female      B          1      0.693147   0.333333              1.49   \n",
       "2   65  Female      C          1      0.693147   0.333333             -0.77   \n",
       "3   72  Female      B          0      0.693147  -0.666667             -3.02   \n",
       "4   62    Male      A          1      0.693147   0.333333              1.49   \n",
       "5   50    Male      A          1      0.693147   0.333333              1.49   \n",
       "\n",
       "   Prediction_1  Residual2  Pseudo_Residual2  \n",
       "0      0.308147  -0.576433             -2.38  \n",
       "1      1.438147   0.191832              1.23  \n",
       "2      0.308147   0.423567              1.72  \n",
       "3     -0.816853  -0.306432             -1.45  \n",
       "4      1.438147   0.191832              1.22  \n",
       "5      1.438147   0.191832              1.22  "
      ]
     },
     "execution_count": 55,
     "metadata": {},
     "output_type": "execute_result"
    }
   ],
   "source": [
    "dummy = dummy.assign(Pseudo_Residual2 = [-2.38,1.23,1.72,-1.45,1.22,1.22])\n",
    "dummy"
   ]
  },
  {
   "cell_type": "code",
   "execution_count": 56,
   "metadata": {
    "colab": {
     "base_uri": "https://localhost:8080/",
     "height": 235
    },
    "execution": {
     "iopub.execute_input": "2021-08-19T06:28:27.305906Z",
     "iopub.status.busy": "2021-08-19T06:28:27.305906Z",
     "iopub.status.idle": "2021-08-19T06:28:27.333831Z",
     "shell.execute_reply": "2021-08-19T06:28:27.332833Z",
     "shell.execute_reply.started": "2021-08-19T06:28:27.305906Z"
    },
    "executionInfo": {
     "elapsed": 20,
     "status": "ok",
     "timestamp": 1629034824499,
     "user": {
      "displayName": "Christopher Monterola",
      "photoUrl": "https://lh3.googleusercontent.com/a-/AOh14GiyxV9CUZD54GBpsQkscS6VRBjebHtFASKcOq-_Lw=s64",
      "userId": "07920169693232563668"
     },
     "user_tz": -480
    },
    "id": "O2iBhvX5_U2H",
    "outputId": "a23679a2-18ef-4872-8946-680a97ecbe64"
   },
   "outputs": [
    {
     "data": {
      "text/html": [
       "<div>\n",
       "<style scoped>\n",
       "    .dataframe tbody tr th:only-of-type {\n",
       "        vertical-align: middle;\n",
       "    }\n",
       "\n",
       "    .dataframe tbody tr th {\n",
       "        vertical-align: top;\n",
       "    }\n",
       "\n",
       "    .dataframe thead th {\n",
       "        text-align: right;\n",
       "    }\n",
       "</style>\n",
       "<table border=\"1\" class=\"dataframe\">\n",
       "  <thead>\n",
       "    <tr style=\"text-align: right;\">\n",
       "      <th></th>\n",
       "      <th>Age</th>\n",
       "      <th>Gender</th>\n",
       "      <th>Income</th>\n",
       "      <th>Recovered</th>\n",
       "      <th>Prediction_0</th>\n",
       "      <th>Residual1</th>\n",
       "      <th>Pseudo_Residual1</th>\n",
       "      <th>Prediction_1</th>\n",
       "      <th>Residual2</th>\n",
       "      <th>Pseudo_Residual2</th>\n",
       "      <th>Prediction_2</th>\n",
       "    </tr>\n",
       "  </thead>\n",
       "  <tbody>\n",
       "    <tr>\n",
       "      <th>0</th>\n",
       "      <td>64</td>\n",
       "      <td>Male</td>\n",
       "      <td>C</td>\n",
       "      <td>0</td>\n",
       "      <td>0.693147</td>\n",
       "      <td>-0.666667</td>\n",
       "      <td>-0.77</td>\n",
       "      <td>0.308147</td>\n",
       "      <td>-0.576433</td>\n",
       "      <td>-2.38</td>\n",
       "      <td>-0.881853</td>\n",
       "    </tr>\n",
       "    <tr>\n",
       "      <th>1</th>\n",
       "      <td>34</td>\n",
       "      <td>Female</td>\n",
       "      <td>B</td>\n",
       "      <td>1</td>\n",
       "      <td>0.693147</td>\n",
       "      <td>0.333333</td>\n",
       "      <td>1.49</td>\n",
       "      <td>1.438147</td>\n",
       "      <td>0.191832</td>\n",
       "      <td>1.23</td>\n",
       "      <td>2.053147</td>\n",
       "    </tr>\n",
       "    <tr>\n",
       "      <th>2</th>\n",
       "      <td>65</td>\n",
       "      <td>Female</td>\n",
       "      <td>C</td>\n",
       "      <td>1</td>\n",
       "      <td>0.693147</td>\n",
       "      <td>0.333333</td>\n",
       "      <td>-0.77</td>\n",
       "      <td>0.308147</td>\n",
       "      <td>0.423567</td>\n",
       "      <td>1.72</td>\n",
       "      <td>1.168147</td>\n",
       "    </tr>\n",
       "    <tr>\n",
       "      <th>3</th>\n",
       "      <td>72</td>\n",
       "      <td>Female</td>\n",
       "      <td>B</td>\n",
       "      <td>0</td>\n",
       "      <td>0.693147</td>\n",
       "      <td>-0.666667</td>\n",
       "      <td>-3.02</td>\n",
       "      <td>-0.816853</td>\n",
       "      <td>-0.306432</td>\n",
       "      <td>-1.45</td>\n",
       "      <td>-1.541853</td>\n",
       "    </tr>\n",
       "    <tr>\n",
       "      <th>4</th>\n",
       "      <td>62</td>\n",
       "      <td>Male</td>\n",
       "      <td>A</td>\n",
       "      <td>1</td>\n",
       "      <td>0.693147</td>\n",
       "      <td>0.333333</td>\n",
       "      <td>1.49</td>\n",
       "      <td>1.438147</td>\n",
       "      <td>0.191832</td>\n",
       "      <td>1.22</td>\n",
       "      <td>2.048147</td>\n",
       "    </tr>\n",
       "    <tr>\n",
       "      <th>5</th>\n",
       "      <td>50</td>\n",
       "      <td>Male</td>\n",
       "      <td>A</td>\n",
       "      <td>1</td>\n",
       "      <td>0.693147</td>\n",
       "      <td>0.333333</td>\n",
       "      <td>1.49</td>\n",
       "      <td>1.438147</td>\n",
       "      <td>0.191832</td>\n",
       "      <td>1.22</td>\n",
       "      <td>2.048147</td>\n",
       "    </tr>\n",
       "  </tbody>\n",
       "</table>\n",
       "</div>"
      ],
      "text/plain": [
       "   Age  Gender Income  Recovered  Prediction_0  Residual1  Pseudo_Residual1  \\\n",
       "0   64    Male      C          0      0.693147  -0.666667             -0.77   \n",
       "1   34  Female      B          1      0.693147   0.333333              1.49   \n",
       "2   65  Female      C          1      0.693147   0.333333             -0.77   \n",
       "3   72  Female      B          0      0.693147  -0.666667             -3.02   \n",
       "4   62    Male      A          1      0.693147   0.333333              1.49   \n",
       "5   50    Male      A          1      0.693147   0.333333              1.49   \n",
       "\n",
       "   Prediction_1  Residual2  Pseudo_Residual2  Prediction_2  \n",
       "0      0.308147  -0.576433             -2.38     -0.881853  \n",
       "1      1.438147   0.191832              1.23      2.053147  \n",
       "2      0.308147   0.423567              1.72      1.168147  \n",
       "3     -0.816853  -0.306432             -1.45     -1.541853  \n",
       "4      1.438147   0.191832              1.22      2.048147  \n",
       "5      1.438147   0.191832              1.22      2.048147  "
      ]
     },
     "execution_count": 56,
     "metadata": {},
     "output_type": "execute_result"
    }
   ],
   "source": [
    "#Back to Step 3\n",
    "\n",
    "dummy = dummy.assign(Prediction_2 = dummy['Prediction_1'] + 0.5*dummy['Pseudo_Residual2'])\n",
    "dummy"
   ]
  },
  {
   "cell_type": "code",
   "execution_count": 57,
   "metadata": {
    "colab": {
     "base_uri": "https://localhost:8080/",
     "height": 235
    },
    "execution": {
     "iopub.execute_input": "2021-08-19T06:28:27.334829Z",
     "iopub.status.busy": "2021-08-19T06:28:27.334829Z",
     "iopub.status.idle": "2021-08-19T06:28:27.364751Z",
     "shell.execute_reply": "2021-08-19T06:28:27.363751Z",
     "shell.execute_reply.started": "2021-08-19T06:28:27.334829Z"
    },
    "executionInfo": {
     "elapsed": 19,
     "status": "ok",
     "timestamp": 1629034824499,
     "user": {
      "displayName": "Christopher Monterola",
      "photoUrl": "https://lh3.googleusercontent.com/a-/AOh14GiyxV9CUZD54GBpsQkscS6VRBjebHtFASKcOq-_Lw=s64",
      "userId": "07920169693232563668"
     },
     "user_tz": -480
    },
    "id": "o_ZNDZSF_U2H",
    "outputId": "5ae44a93-6dee-4a93-a5b8-da621c9227d2"
   },
   "outputs": [
    {
     "data": {
      "text/html": [
       "<div>\n",
       "<style scoped>\n",
       "    .dataframe tbody tr th:only-of-type {\n",
       "        vertical-align: middle;\n",
       "    }\n",
       "\n",
       "    .dataframe tbody tr th {\n",
       "        vertical-align: top;\n",
       "    }\n",
       "\n",
       "    .dataframe thead th {\n",
       "        text-align: right;\n",
       "    }\n",
       "</style>\n",
       "<table border=\"1\" class=\"dataframe\">\n",
       "  <thead>\n",
       "    <tr style=\"text-align: right;\">\n",
       "      <th></th>\n",
       "      <th>Age</th>\n",
       "      <th>Gender</th>\n",
       "      <th>Income</th>\n",
       "      <th>Recovered</th>\n",
       "      <th>Prediction_0</th>\n",
       "      <th>Residual1</th>\n",
       "      <th>Pseudo_Residual1</th>\n",
       "      <th>Prediction_1</th>\n",
       "      <th>Residual2</th>\n",
       "      <th>Pseudo_Residual2</th>\n",
       "      <th>Prediction_2</th>\n",
       "      <th>Residual3</th>\n",
       "    </tr>\n",
       "  </thead>\n",
       "  <tbody>\n",
       "    <tr>\n",
       "      <th>0</th>\n",
       "      <td>64</td>\n",
       "      <td>Male</td>\n",
       "      <td>C</td>\n",
       "      <td>0</td>\n",
       "      <td>0.693147</td>\n",
       "      <td>-0.666667</td>\n",
       "      <td>-0.77</td>\n",
       "      <td>0.308147</td>\n",
       "      <td>-0.576433</td>\n",
       "      <td>-2.38</td>\n",
       "      <td>-0.881853</td>\n",
       "      <td>-0.292794</td>\n",
       "    </tr>\n",
       "    <tr>\n",
       "      <th>1</th>\n",
       "      <td>34</td>\n",
       "      <td>Female</td>\n",
       "      <td>B</td>\n",
       "      <td>1</td>\n",
       "      <td>0.693147</td>\n",
       "      <td>0.333333</td>\n",
       "      <td>1.49</td>\n",
       "      <td>1.438147</td>\n",
       "      <td>0.191832</td>\n",
       "      <td>1.23</td>\n",
       "      <td>2.053147</td>\n",
       "      <td>0.113735</td>\n",
       "    </tr>\n",
       "    <tr>\n",
       "      <th>2</th>\n",
       "      <td>65</td>\n",
       "      <td>Female</td>\n",
       "      <td>C</td>\n",
       "      <td>1</td>\n",
       "      <td>0.693147</td>\n",
       "      <td>0.333333</td>\n",
       "      <td>-0.77</td>\n",
       "      <td>0.308147</td>\n",
       "      <td>0.423567</td>\n",
       "      <td>1.72</td>\n",
       "      <td>1.168147</td>\n",
       "      <td>0.237190</td>\n",
       "    </tr>\n",
       "    <tr>\n",
       "      <th>3</th>\n",
       "      <td>72</td>\n",
       "      <td>Female</td>\n",
       "      <td>B</td>\n",
       "      <td>0</td>\n",
       "      <td>0.693147</td>\n",
       "      <td>-0.666667</td>\n",
       "      <td>-3.02</td>\n",
       "      <td>-0.816853</td>\n",
       "      <td>-0.306432</td>\n",
       "      <td>-1.45</td>\n",
       "      <td>-1.541853</td>\n",
       "      <td>-0.176266</td>\n",
       "    </tr>\n",
       "    <tr>\n",
       "      <th>4</th>\n",
       "      <td>62</td>\n",
       "      <td>Male</td>\n",
       "      <td>A</td>\n",
       "      <td>1</td>\n",
       "      <td>0.693147</td>\n",
       "      <td>0.333333</td>\n",
       "      <td>1.49</td>\n",
       "      <td>1.438147</td>\n",
       "      <td>0.191832</td>\n",
       "      <td>1.22</td>\n",
       "      <td>2.048147</td>\n",
       "      <td>0.114240</td>\n",
       "    </tr>\n",
       "    <tr>\n",
       "      <th>5</th>\n",
       "      <td>50</td>\n",
       "      <td>Male</td>\n",
       "      <td>A</td>\n",
       "      <td>1</td>\n",
       "      <td>0.693147</td>\n",
       "      <td>0.333333</td>\n",
       "      <td>1.49</td>\n",
       "      <td>1.438147</td>\n",
       "      <td>0.191832</td>\n",
       "      <td>1.22</td>\n",
       "      <td>2.048147</td>\n",
       "      <td>0.114240</td>\n",
       "    </tr>\n",
       "  </tbody>\n",
       "</table>\n",
       "</div>"
      ],
      "text/plain": [
       "   Age  Gender Income  Recovered  Prediction_0  Residual1  Pseudo_Residual1  \\\n",
       "0   64    Male      C          0      0.693147  -0.666667             -0.77   \n",
       "1   34  Female      B          1      0.693147   0.333333              1.49   \n",
       "2   65  Female      C          1      0.693147   0.333333             -0.77   \n",
       "3   72  Female      B          0      0.693147  -0.666667             -3.02   \n",
       "4   62    Male      A          1      0.693147   0.333333              1.49   \n",
       "5   50    Male      A          1      0.693147   0.333333              1.49   \n",
       "\n",
       "   Prediction_1  Residual2  Pseudo_Residual2  Prediction_2  Residual3  \n",
       "0      0.308147  -0.576433             -2.38     -0.881853  -0.292794  \n",
       "1      1.438147   0.191832              1.23      2.053147   0.113735  \n",
       "2      0.308147   0.423567              1.72      1.168147   0.237190  \n",
       "3     -0.816853  -0.306432             -1.45     -1.541853  -0.176266  \n",
       "4      1.438147   0.191832              1.22      2.048147   0.114240  \n",
       "5      1.438147   0.191832              1.22      2.048147   0.114240  "
      ]
     },
     "execution_count": 57,
     "metadata": {},
     "output_type": "execute_result"
    }
   ],
   "source": [
    "#Back to Step 1\n",
    "\n",
    "Residual = dummy['Recovered'] - ((np.exp(dummy['Prediction_2'])) / (1.0 + np.exp(dummy['Prediction_2'])))\n",
    "dummy = dummy.assign(Residual3 = Residual) #Gradient descent\n",
    "\n",
    "dummy"
   ]
  },
  {
   "cell_type": "markdown",
   "metadata": {
    "id": "-koRi8DI_U2H"
   },
   "source": [
    "Let's look at the residuals (gradient) and note that it decreases every iteration."
   ]
  },
  {
   "cell_type": "code",
   "execution_count": 58,
   "metadata": {
    "colab": {
     "base_uri": "https://localhost:8080/"
    },
    "execution": {
     "iopub.execute_input": "2021-08-19T06:28:27.366744Z",
     "iopub.status.busy": "2021-08-19T06:28:27.366744Z",
     "iopub.status.idle": "2021-08-19T06:28:27.378713Z",
     "shell.execute_reply": "2021-08-19T06:28:27.378713Z",
     "shell.execute_reply.started": "2021-08-19T06:28:27.366744Z"
    },
    "executionInfo": {
     "elapsed": 19,
     "status": "ok",
     "timestamp": 1629034824500,
     "user": {
      "displayName": "Christopher Monterola",
      "photoUrl": "https://lh3.googleusercontent.com/a-/AOh14GiyxV9CUZD54GBpsQkscS6VRBjebHtFASKcOq-_Lw=s64",
      "userId": "07920169693232563668"
     },
     "user_tz": -480
    },
    "id": "a_Jp34W9_U2H",
    "outputId": "fd9e76b3-cb60-4ad7-ca8a-8793ac5930e4"
   },
   "outputs": [
    {
     "name": "stdout",
     "output_type": "stream",
     "text": [
      "1.33\n",
      "0.72\n",
      "0.21\n"
     ]
    }
   ],
   "source": [
    "ssq1 = np.sum(dummy['Residual1']**2) # Sum of squares of residuals\n",
    "ssq2 = np.sum(dummy['Residual2']**2)\n",
    "ssq3 = np.sum(dummy['Residual3']**2)\n",
    "\n",
    "print(round(ssq1,2))\n",
    "print(round(ssq2,2))\n",
    "print(round(ssq3,2))\n"
   ]
  },
  {
   "cell_type": "markdown",
   "metadata": {
    "id": "o4AGADkE_U2I"
   },
   "source": [
    "### Conclusion\n",
    "\n",
    "We have demonstrated here how the GBM works for a classification. Again, below is a visual representation of how the error decreases as a function of iteration parametrized as *n_estimator* in GBM.\n",
    "\n",
    "![algorithm-iterations width=\"50000px\"](https://user-images.githubusercontent.com/25600601/112873342-185b7900-90f4-11eb-8292-a3aa8a5a2a9e.png)\n",
    "\n"
   ]
  },
  {
   "cell_type": "code",
   "execution_count": null,
   "metadata": {
    "id": "j7SxFyGt_U2I"
   },
   "outputs": [],
   "source": []
  },
  {
   "cell_type": "code",
   "execution_count": null,
   "metadata": {
    "id": "8jTUmHo9_U2I"
   },
   "outputs": [],
   "source": []
  }
 ],
 "metadata": {
  "colab": {
   "collapsed_sections": [
    "JLamSug9_U14",
    "R8_e7Uen_U17",
    "fpZ3Mdt__U2B",
    "RI9zS0RN_U2E",
    "cHCqKB1L_U2F",
    "J-6YLA9y_U2G"
   ],
   "name": "Notebook 6 Supplementary A GBM for Classification.ipynb",
   "provenance": []
  },
  "kernelspec": {
   "display_name": "Python 3",
   "language": "python",
   "name": "python3"
  },
  "language_info": {
   "codemirror_mode": {
    "name": "ipython",
    "version": 3
   },
   "file_extension": ".py",
   "mimetype": "text/x-python",
   "name": "python",
   "nbconvert_exporter": "python",
   "pygments_lexer": "ipython3",
   "version": "3.8.10"
  }
 },
 "nbformat": 4,
 "nbformat_minor": 4
}
