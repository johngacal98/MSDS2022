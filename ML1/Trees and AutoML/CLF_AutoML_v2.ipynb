{
 "cells": [
  {
   "cell_type": "code",
   "execution_count": 71,
   "id": "bfc1bebe-6215-4bd4-9577-ba12a37b2bbd",
   "metadata": {
    "execution": {
     "iopub.execute_input": "2021-09-04T04:42:43.694554Z",
     "iopub.status.busy": "2021-09-04T04:42:43.693525Z",
     "iopub.status.idle": "2021-09-04T04:42:43.709504Z",
     "shell.execute_reply": "2021-09-04T04:42:43.708517Z",
     "shell.execute_reply.started": "2021-09-04T04:42:43.694554Z"
    },
    "tags": []
   },
   "outputs": [],
   "source": [
    "import pandas as pd\n",
    "import numpy as np\n",
    "import matplotlib.pyplot as plt\n",
    "import seaborn as sns\n",
    "import warnings\n",
    "from warnings import simplefilter\n",
    "from sklearn.exceptions import ConvergenceWarning\n",
    "\n",
    "warnings.filterwarnings(\"ignore\", category=FutureWarning)\n",
    "warnings.filterwarnings(\"ignore\", category=RuntimeWarning)\n",
    "warnings.filterwarnings(\"ignore\", category=ConvergenceWarning)\n",
    "#warnings.filterwarnings(\"ignore\", category=DataConversionWarning)\n",
    "\n",
    "#from warnings import simplefilter\n",
    "#from sklearn.exceptions import ConvergenceWarning\n",
    "#simplefilter(\"ignore\", category=ConvergenceWarning)\n"
   ]
  },
  {
   "cell_type": "code",
   "execution_count": 72,
   "id": "494be80a-ab24-4b85-824b-ce90c1c22e63",
   "metadata": {
    "execution": {
     "iopub.execute_input": "2021-09-04T04:42:43.710514Z",
     "iopub.status.busy": "2021-09-04T04:42:43.709504Z",
     "iopub.status.idle": "2021-09-04T04:42:43.943855Z",
     "shell.execute_reply": "2021-09-04T04:42:43.943855Z",
     "shell.execute_reply.started": "2021-09-04T04:42:43.710514Z"
    },
    "tags": []
   },
   "outputs": [
    {
     "data": {
      "text/html": [
       "<div>\n",
       "<style scoped>\n",
       "    .dataframe tbody tr th:only-of-type {\n",
       "        vertical-align: middle;\n",
       "    }\n",
       "\n",
       "    .dataframe tbody tr th {\n",
       "        vertical-align: top;\n",
       "    }\n",
       "\n",
       "    .dataframe thead th {\n",
       "        text-align: right;\n",
       "    }\n",
       "</style>\n",
       "<table border=\"1\" class=\"dataframe\">\n",
       "  <thead>\n",
       "    <tr style=\"text-align: right;\">\n",
       "      <th></th>\n",
       "      <th>Batch</th>\n",
       "      <th>Eng7</th>\n",
       "      <th>Eng8</th>\n",
       "      <th>Eng9</th>\n",
       "      <th>Math7</th>\n",
       "      <th>Math8</th>\n",
       "      <th>Math9</th>\n",
       "      <th>Sci7</th>\n",
       "      <th>Sci8</th>\n",
       "      <th>Sci9</th>\n",
       "      <th>GWA7</th>\n",
       "      <th>GWA8</th>\n",
       "      <th>GWA9</th>\n",
       "      <th>UP</th>\n",
       "      <th>IQ</th>\n",
       "      <th>SA</th>\n",
       "      <th>C1</th>\n",
       "      <th>C2</th>\n",
       "      <th>Target</th>\n",
       "    </tr>\n",
       "  </thead>\n",
       "  <tbody>\n",
       "    <tr>\n",
       "      <th>0</th>\n",
       "      <td>2005</td>\n",
       "      <td>77</td>\n",
       "      <td>82.0</td>\n",
       "      <td>86</td>\n",
       "      <td>94</td>\n",
       "      <td>87</td>\n",
       "      <td>92.0</td>\n",
       "      <td>84</td>\n",
       "      <td>80</td>\n",
       "      <td>92</td>\n",
       "      <td>1.4764</td>\n",
       "      <td>1.5045</td>\n",
       "      <td>1.40980</td>\n",
       "      <td>1</td>\n",
       "      <td>55.0</td>\n",
       "      <td>28</td>\n",
       "      <td>1</td>\n",
       "      <td>4.0</td>\n",
       "      <td>1</td>\n",
       "    </tr>\n",
       "    <tr>\n",
       "      <th>1</th>\n",
       "      <td>2005</td>\n",
       "      <td>57</td>\n",
       "      <td>57.0</td>\n",
       "      <td>59</td>\n",
       "      <td>55</td>\n",
       "      <td>46</td>\n",
       "      <td>57.0</td>\n",
       "      <td>53</td>\n",
       "      <td>45</td>\n",
       "      <td>53</td>\n",
       "      <td>2.6557</td>\n",
       "      <td>2.7000</td>\n",
       "      <td>2.70080</td>\n",
       "      <td>1</td>\n",
       "      <td>38.0</td>\n",
       "      <td>19</td>\n",
       "      <td>5</td>\n",
       "      <td>3.0</td>\n",
       "      <td>0</td>\n",
       "    </tr>\n",
       "    <tr>\n",
       "      <th>2</th>\n",
       "      <td>2005</td>\n",
       "      <td>55</td>\n",
       "      <td>52.0</td>\n",
       "      <td>55</td>\n",
       "      <td>57</td>\n",
       "      <td>53</td>\n",
       "      <td>51.0</td>\n",
       "      <td>57</td>\n",
       "      <td>62</td>\n",
       "      <td>51</td>\n",
       "      <td>2.6132</td>\n",
       "      <td>2.6818</td>\n",
       "      <td>2.71720</td>\n",
       "      <td>0</td>\n",
       "      <td>17.0</td>\n",
       "      <td>9</td>\n",
       "      <td>5</td>\n",
       "      <td>6.0</td>\n",
       "      <td>0</td>\n",
       "    </tr>\n",
       "    <tr>\n",
       "      <th>3</th>\n",
       "      <td>2005</td>\n",
       "      <td>69</td>\n",
       "      <td>78.0</td>\n",
       "      <td>78</td>\n",
       "      <td>87</td>\n",
       "      <td>79</td>\n",
       "      <td>79.0</td>\n",
       "      <td>83</td>\n",
       "      <td>82</td>\n",
       "      <td>79</td>\n",
       "      <td>1.7217</td>\n",
       "      <td>1.6136</td>\n",
       "      <td>1.70490</td>\n",
       "      <td>1</td>\n",
       "      <td>45.0</td>\n",
       "      <td>28</td>\n",
       "      <td>1</td>\n",
       "      <td>4.0</td>\n",
       "      <td>0</td>\n",
       "    </tr>\n",
       "    <tr>\n",
       "      <th>4</th>\n",
       "      <td>2005</td>\n",
       "      <td>64</td>\n",
       "      <td>71.0</td>\n",
       "      <td>68</td>\n",
       "      <td>71</td>\n",
       "      <td>57</td>\n",
       "      <td>54.0</td>\n",
       "      <td>60</td>\n",
       "      <td>59</td>\n",
       "      <td>55</td>\n",
       "      <td>2.4245</td>\n",
       "      <td>2.4318</td>\n",
       "      <td>2.47130</td>\n",
       "      <td>1</td>\n",
       "      <td>67.0</td>\n",
       "      <td>56</td>\n",
       "      <td>1</td>\n",
       "      <td>5.0</td>\n",
       "      <td>0</td>\n",
       "    </tr>\n",
       "    <tr>\n",
       "      <th>...</th>\n",
       "      <td>...</td>\n",
       "      <td>...</td>\n",
       "      <td>...</td>\n",
       "      <td>...</td>\n",
       "      <td>...</td>\n",
       "      <td>...</td>\n",
       "      <td>...</td>\n",
       "      <td>...</td>\n",
       "      <td>...</td>\n",
       "      <td>...</td>\n",
       "      <td>...</td>\n",
       "      <td>...</td>\n",
       "      <td>...</td>\n",
       "      <td>...</td>\n",
       "      <td>...</td>\n",
       "      <td>...</td>\n",
       "      <td>...</td>\n",
       "      <td>...</td>\n",
       "      <td>...</td>\n",
       "    </tr>\n",
       "    <tr>\n",
       "      <th>1005</th>\n",
       "      <td>2014</td>\n",
       "      <td>53</td>\n",
       "      <td>56.0</td>\n",
       "      <td>52</td>\n",
       "      <td>55</td>\n",
       "      <td>52</td>\n",
       "      <td>58.0</td>\n",
       "      <td>63</td>\n",
       "      <td>51</td>\n",
       "      <td>51</td>\n",
       "      <td>2.5577</td>\n",
       "      <td>2.6089</td>\n",
       "      <td>2.72984</td>\n",
       "      <td>1</td>\n",
       "      <td>26.0</td>\n",
       "      <td>23</td>\n",
       "      <td>1</td>\n",
       "      <td>5.0</td>\n",
       "      <td>0</td>\n",
       "    </tr>\n",
       "    <tr>\n",
       "      <th>1006</th>\n",
       "      <td>2014</td>\n",
       "      <td>59</td>\n",
       "      <td>67.0</td>\n",
       "      <td>57</td>\n",
       "      <td>71</td>\n",
       "      <td>61</td>\n",
       "      <td>64.0</td>\n",
       "      <td>67</td>\n",
       "      <td>63</td>\n",
       "      <td>67</td>\n",
       "      <td>2.4135</td>\n",
       "      <td>2.3589</td>\n",
       "      <td>2.32258</td>\n",
       "      <td>0</td>\n",
       "      <td>24.0</td>\n",
       "      <td>30</td>\n",
       "      <td>1</td>\n",
       "      <td>4.0</td>\n",
       "      <td>0</td>\n",
       "    </tr>\n",
       "    <tr>\n",
       "      <th>1007</th>\n",
       "      <td>2014</td>\n",
       "      <td>84</td>\n",
       "      <td>83.0</td>\n",
       "      <td>85</td>\n",
       "      <td>93</td>\n",
       "      <td>89</td>\n",
       "      <td>92.0</td>\n",
       "      <td>89</td>\n",
       "      <td>96</td>\n",
       "      <td>93</td>\n",
       "      <td>1.5192</td>\n",
       "      <td>1.4597</td>\n",
       "      <td>1.43952</td>\n",
       "      <td>0</td>\n",
       "      <td>86.0</td>\n",
       "      <td>72</td>\n",
       "      <td>1</td>\n",
       "      <td>4.0</td>\n",
       "      <td>1</td>\n",
       "    </tr>\n",
       "    <tr>\n",
       "      <th>1008</th>\n",
       "      <td>2014</td>\n",
       "      <td>78</td>\n",
       "      <td>83.0</td>\n",
       "      <td>77</td>\n",
       "      <td>82</td>\n",
       "      <td>62</td>\n",
       "      <td>69.0</td>\n",
       "      <td>84</td>\n",
       "      <td>71</td>\n",
       "      <td>70</td>\n",
       "      <td>1.7115</td>\n",
       "      <td>1.9556</td>\n",
       "      <td>2.02016</td>\n",
       "      <td>0</td>\n",
       "      <td>72.0</td>\n",
       "      <td>48</td>\n",
       "      <td>1</td>\n",
       "      <td>4.0</td>\n",
       "      <td>0</td>\n",
       "    </tr>\n",
       "    <tr>\n",
       "      <th>1009</th>\n",
       "      <td>2014</td>\n",
       "      <td>73</td>\n",
       "      <td>75.0</td>\n",
       "      <td>74</td>\n",
       "      <td>79</td>\n",
       "      <td>78</td>\n",
       "      <td>78.0</td>\n",
       "      <td>76</td>\n",
       "      <td>79</td>\n",
       "      <td>77</td>\n",
       "      <td>1.9231</td>\n",
       "      <td>1.7621</td>\n",
       "      <td>1.87500</td>\n",
       "      <td>1</td>\n",
       "      <td>68.0</td>\n",
       "      <td>48</td>\n",
       "      <td>1</td>\n",
       "      <td>4.0</td>\n",
       "      <td>1</td>\n",
       "    </tr>\n",
       "  </tbody>\n",
       "</table>\n",
       "<p>1010 rows × 19 columns</p>\n",
       "</div>"
      ],
      "text/plain": [
       "      Batch  Eng7  Eng8  Eng9  Math7  Math8  Math9  Sci7  Sci8  Sci9    GWA7  \\\n",
       "0      2005    77  82.0    86     94     87   92.0    84    80    92  1.4764   \n",
       "1      2005    57  57.0    59     55     46   57.0    53    45    53  2.6557   \n",
       "2      2005    55  52.0    55     57     53   51.0    57    62    51  2.6132   \n",
       "3      2005    69  78.0    78     87     79   79.0    83    82    79  1.7217   \n",
       "4      2005    64  71.0    68     71     57   54.0    60    59    55  2.4245   \n",
       "...     ...   ...   ...   ...    ...    ...    ...   ...   ...   ...     ...   \n",
       "1005   2014    53  56.0    52     55     52   58.0    63    51    51  2.5577   \n",
       "1006   2014    59  67.0    57     71     61   64.0    67    63    67  2.4135   \n",
       "1007   2014    84  83.0    85     93     89   92.0    89    96    93  1.5192   \n",
       "1008   2014    78  83.0    77     82     62   69.0    84    71    70  1.7115   \n",
       "1009   2014    73  75.0    74     79     78   78.0    76    79    77  1.9231   \n",
       "\n",
       "        GWA8     GWA9  UP    IQ  SA  C1   C2  Target  \n",
       "0     1.5045  1.40980   1  55.0  28   1  4.0       1  \n",
       "1     2.7000  2.70080   1  38.0  19   5  3.0       0  \n",
       "2     2.6818  2.71720   0  17.0   9   5  6.0       0  \n",
       "3     1.6136  1.70490   1  45.0  28   1  4.0       0  \n",
       "4     2.4318  2.47130   1  67.0  56   1  5.0       0  \n",
       "...      ...      ...  ..   ...  ..  ..  ...     ...  \n",
       "1005  2.6089  2.72984   1  26.0  23   1  5.0       0  \n",
       "1006  2.3589  2.32258   0  24.0  30   1  4.0       0  \n",
       "1007  1.4597  1.43952   0  86.0  72   1  4.0       1  \n",
       "1008  1.9556  2.02016   0  72.0  48   1  4.0       0  \n",
       "1009  1.7621  1.87500   1  68.0  48   1  4.0       1  \n",
       "\n",
       "[1010 rows x 19 columns]"
      ]
     },
     "execution_count": 72,
     "metadata": {},
     "output_type": "execute_result"
    }
   ],
   "source": [
    "df = pd.read_excel('UPCAT_DATA2(2).xlsx', sheet_name='AllData')\n",
    "df"
   ]
  },
  {
   "cell_type": "markdown",
   "id": "022b900b-f30e-48c6-9655-3ecc99bb68a5",
   "metadata": {},
   "source": [
    "# Handling Missing Data\n",
    "\n",
    "It can be seen that only a few rows have missing values, therefore we can drop these rows while still getting hold of most of the information. Another approach is to impute the data. We can try out different ways to impute the data."
   ]
  },
  {
   "cell_type": "code",
   "execution_count": 73,
   "id": "818604e3-6a97-4788-b294-58180b7b9cfd",
   "metadata": {
    "execution": {
     "iopub.execute_input": "2021-09-04T04:42:43.945851Z",
     "iopub.status.busy": "2021-09-04T04:42:43.945851Z",
     "iopub.status.idle": "2021-09-04T04:42:43.959812Z",
     "shell.execute_reply": "2021-09-04T04:42:43.959812Z",
     "shell.execute_reply.started": "2021-09-04T04:42:43.945851Z"
    },
    "tags": []
   },
   "outputs": [
    {
     "data": {
      "text/plain": [
       "Batch     0\n",
       "Eng7      0\n",
       "Eng8      1\n",
       "Eng9      0\n",
       "Math7     0\n",
       "Math8     0\n",
       "Math9     1\n",
       "Sci7      0\n",
       "Sci8      0\n",
       "Sci9      0\n",
       "GWA7      0\n",
       "GWA8      0\n",
       "GWA9      1\n",
       "UP        0\n",
       "IQ        1\n",
       "SA        0\n",
       "C1        0\n",
       "C2        2\n",
       "Target    0\n",
       "dtype: int64"
      ]
     },
     "execution_count": 73,
     "metadata": {},
     "output_type": "execute_result"
    }
   ],
   "source": [
    "df.isna().sum()"
   ]
  },
  {
   "cell_type": "code",
   "execution_count": 74,
   "id": "d9618bb9-eeba-43d3-8667-c331975af664",
   "metadata": {
    "execution": {
     "iopub.execute_input": "2021-09-04T04:42:43.960810Z",
     "iopub.status.busy": "2021-09-04T04:42:43.960810Z",
     "iopub.status.idle": "2021-09-04T04:42:43.975769Z",
     "shell.execute_reply": "2021-09-04T04:42:43.975769Z",
     "shell.execute_reply.started": "2021-09-04T04:42:43.960810Z"
    },
    "tags": []
   },
   "outputs": [],
   "source": [
    "def nan_imputer(df, mode='mean'):\n",
    "    cols = df.columns\n",
    "\n",
    "    from sklearn.impute import SimpleImputer\n",
    "\n",
    "    imputer = SimpleImputer(missing_values=np.nan, strategy=mode)\n",
    "    imputer.fit(df.values)\n",
    "    df_new = pd.DataFrame(imputer.transform(df.values), columns=cols)\n",
    "    return df_new"
   ]
  },
  {
   "cell_type": "code",
   "execution_count": 75,
   "id": "4bd660dd-5238-45a6-9069-9a65afd529a8",
   "metadata": {
    "execution": {
     "iopub.execute_input": "2021-09-04T04:42:43.976767Z",
     "iopub.status.busy": "2021-09-04T04:42:43.976767Z",
     "iopub.status.idle": "2021-09-04T04:42:44.007718Z",
     "shell.execute_reply": "2021-09-04T04:42:44.007718Z",
     "shell.execute_reply.started": "2021-09-04T04:42:43.976767Z"
    },
    "tags": []
   },
   "outputs": [
    {
     "data": {
      "text/html": [
       "<div>\n",
       "<style scoped>\n",
       "    .dataframe tbody tr th:only-of-type {\n",
       "        vertical-align: middle;\n",
       "    }\n",
       "\n",
       "    .dataframe tbody tr th {\n",
       "        vertical-align: top;\n",
       "    }\n",
       "\n",
       "    .dataframe thead th {\n",
       "        text-align: right;\n",
       "    }\n",
       "</style>\n",
       "<table border=\"1\" class=\"dataframe\">\n",
       "  <thead>\n",
       "    <tr style=\"text-align: right;\">\n",
       "      <th></th>\n",
       "      <th>Batch</th>\n",
       "      <th>Eng7</th>\n",
       "      <th>Eng8</th>\n",
       "      <th>Eng9</th>\n",
       "      <th>Math7</th>\n",
       "      <th>Math8</th>\n",
       "      <th>Math9</th>\n",
       "      <th>Sci7</th>\n",
       "      <th>Sci8</th>\n",
       "      <th>Sci9</th>\n",
       "      <th>GWA7</th>\n",
       "      <th>GWA8</th>\n",
       "      <th>GWA9</th>\n",
       "      <th>UP</th>\n",
       "      <th>IQ</th>\n",
       "      <th>SA</th>\n",
       "      <th>C1</th>\n",
       "      <th>C2</th>\n",
       "      <th>Target</th>\n",
       "    </tr>\n",
       "  </thead>\n",
       "  <tbody>\n",
       "    <tr>\n",
       "      <th>0</th>\n",
       "      <td>2005.0</td>\n",
       "      <td>77.0</td>\n",
       "      <td>82.0</td>\n",
       "      <td>86.0</td>\n",
       "      <td>94.0</td>\n",
       "      <td>87.0</td>\n",
       "      <td>92.0</td>\n",
       "      <td>84.0</td>\n",
       "      <td>80.0</td>\n",
       "      <td>92.0</td>\n",
       "      <td>1.4764</td>\n",
       "      <td>1.5045</td>\n",
       "      <td>1.40980</td>\n",
       "      <td>1.0</td>\n",
       "      <td>55.0</td>\n",
       "      <td>28.0</td>\n",
       "      <td>1.0</td>\n",
       "      <td>4.0</td>\n",
       "      <td>1.0</td>\n",
       "    </tr>\n",
       "    <tr>\n",
       "      <th>1</th>\n",
       "      <td>2005.0</td>\n",
       "      <td>57.0</td>\n",
       "      <td>57.0</td>\n",
       "      <td>59.0</td>\n",
       "      <td>55.0</td>\n",
       "      <td>46.0</td>\n",
       "      <td>57.0</td>\n",
       "      <td>53.0</td>\n",
       "      <td>45.0</td>\n",
       "      <td>53.0</td>\n",
       "      <td>2.6557</td>\n",
       "      <td>2.7000</td>\n",
       "      <td>2.70080</td>\n",
       "      <td>1.0</td>\n",
       "      <td>38.0</td>\n",
       "      <td>19.0</td>\n",
       "      <td>5.0</td>\n",
       "      <td>3.0</td>\n",
       "      <td>0.0</td>\n",
       "    </tr>\n",
       "    <tr>\n",
       "      <th>2</th>\n",
       "      <td>2005.0</td>\n",
       "      <td>55.0</td>\n",
       "      <td>52.0</td>\n",
       "      <td>55.0</td>\n",
       "      <td>57.0</td>\n",
       "      <td>53.0</td>\n",
       "      <td>51.0</td>\n",
       "      <td>57.0</td>\n",
       "      <td>62.0</td>\n",
       "      <td>51.0</td>\n",
       "      <td>2.6132</td>\n",
       "      <td>2.6818</td>\n",
       "      <td>2.71720</td>\n",
       "      <td>0.0</td>\n",
       "      <td>17.0</td>\n",
       "      <td>9.0</td>\n",
       "      <td>5.0</td>\n",
       "      <td>6.0</td>\n",
       "      <td>0.0</td>\n",
       "    </tr>\n",
       "    <tr>\n",
       "      <th>3</th>\n",
       "      <td>2005.0</td>\n",
       "      <td>69.0</td>\n",
       "      <td>78.0</td>\n",
       "      <td>78.0</td>\n",
       "      <td>87.0</td>\n",
       "      <td>79.0</td>\n",
       "      <td>79.0</td>\n",
       "      <td>83.0</td>\n",
       "      <td>82.0</td>\n",
       "      <td>79.0</td>\n",
       "      <td>1.7217</td>\n",
       "      <td>1.6136</td>\n",
       "      <td>1.70490</td>\n",
       "      <td>1.0</td>\n",
       "      <td>45.0</td>\n",
       "      <td>28.0</td>\n",
       "      <td>1.0</td>\n",
       "      <td>4.0</td>\n",
       "      <td>0.0</td>\n",
       "    </tr>\n",
       "    <tr>\n",
       "      <th>4</th>\n",
       "      <td>2005.0</td>\n",
       "      <td>64.0</td>\n",
       "      <td>71.0</td>\n",
       "      <td>68.0</td>\n",
       "      <td>71.0</td>\n",
       "      <td>57.0</td>\n",
       "      <td>54.0</td>\n",
       "      <td>60.0</td>\n",
       "      <td>59.0</td>\n",
       "      <td>55.0</td>\n",
       "      <td>2.4245</td>\n",
       "      <td>2.4318</td>\n",
       "      <td>2.47130</td>\n",
       "      <td>1.0</td>\n",
       "      <td>67.0</td>\n",
       "      <td>56.0</td>\n",
       "      <td>1.0</td>\n",
       "      <td>5.0</td>\n",
       "      <td>0.0</td>\n",
       "    </tr>\n",
       "    <tr>\n",
       "      <th>...</th>\n",
       "      <td>...</td>\n",
       "      <td>...</td>\n",
       "      <td>...</td>\n",
       "      <td>...</td>\n",
       "      <td>...</td>\n",
       "      <td>...</td>\n",
       "      <td>...</td>\n",
       "      <td>...</td>\n",
       "      <td>...</td>\n",
       "      <td>...</td>\n",
       "      <td>...</td>\n",
       "      <td>...</td>\n",
       "      <td>...</td>\n",
       "      <td>...</td>\n",
       "      <td>...</td>\n",
       "      <td>...</td>\n",
       "      <td>...</td>\n",
       "      <td>...</td>\n",
       "      <td>...</td>\n",
       "    </tr>\n",
       "    <tr>\n",
       "      <th>1005</th>\n",
       "      <td>2014.0</td>\n",
       "      <td>53.0</td>\n",
       "      <td>56.0</td>\n",
       "      <td>52.0</td>\n",
       "      <td>55.0</td>\n",
       "      <td>52.0</td>\n",
       "      <td>58.0</td>\n",
       "      <td>63.0</td>\n",
       "      <td>51.0</td>\n",
       "      <td>51.0</td>\n",
       "      <td>2.5577</td>\n",
       "      <td>2.6089</td>\n",
       "      <td>2.72984</td>\n",
       "      <td>1.0</td>\n",
       "      <td>26.0</td>\n",
       "      <td>23.0</td>\n",
       "      <td>1.0</td>\n",
       "      <td>5.0</td>\n",
       "      <td>0.0</td>\n",
       "    </tr>\n",
       "    <tr>\n",
       "      <th>1006</th>\n",
       "      <td>2014.0</td>\n",
       "      <td>59.0</td>\n",
       "      <td>67.0</td>\n",
       "      <td>57.0</td>\n",
       "      <td>71.0</td>\n",
       "      <td>61.0</td>\n",
       "      <td>64.0</td>\n",
       "      <td>67.0</td>\n",
       "      <td>63.0</td>\n",
       "      <td>67.0</td>\n",
       "      <td>2.4135</td>\n",
       "      <td>2.3589</td>\n",
       "      <td>2.32258</td>\n",
       "      <td>0.0</td>\n",
       "      <td>24.0</td>\n",
       "      <td>30.0</td>\n",
       "      <td>1.0</td>\n",
       "      <td>4.0</td>\n",
       "      <td>0.0</td>\n",
       "    </tr>\n",
       "    <tr>\n",
       "      <th>1007</th>\n",
       "      <td>2014.0</td>\n",
       "      <td>84.0</td>\n",
       "      <td>83.0</td>\n",
       "      <td>85.0</td>\n",
       "      <td>93.0</td>\n",
       "      <td>89.0</td>\n",
       "      <td>92.0</td>\n",
       "      <td>89.0</td>\n",
       "      <td>96.0</td>\n",
       "      <td>93.0</td>\n",
       "      <td>1.5192</td>\n",
       "      <td>1.4597</td>\n",
       "      <td>1.43952</td>\n",
       "      <td>0.0</td>\n",
       "      <td>86.0</td>\n",
       "      <td>72.0</td>\n",
       "      <td>1.0</td>\n",
       "      <td>4.0</td>\n",
       "      <td>1.0</td>\n",
       "    </tr>\n",
       "    <tr>\n",
       "      <th>1008</th>\n",
       "      <td>2014.0</td>\n",
       "      <td>78.0</td>\n",
       "      <td>83.0</td>\n",
       "      <td>77.0</td>\n",
       "      <td>82.0</td>\n",
       "      <td>62.0</td>\n",
       "      <td>69.0</td>\n",
       "      <td>84.0</td>\n",
       "      <td>71.0</td>\n",
       "      <td>70.0</td>\n",
       "      <td>1.7115</td>\n",
       "      <td>1.9556</td>\n",
       "      <td>2.02016</td>\n",
       "      <td>0.0</td>\n",
       "      <td>72.0</td>\n",
       "      <td>48.0</td>\n",
       "      <td>1.0</td>\n",
       "      <td>4.0</td>\n",
       "      <td>0.0</td>\n",
       "    </tr>\n",
       "    <tr>\n",
       "      <th>1009</th>\n",
       "      <td>2014.0</td>\n",
       "      <td>73.0</td>\n",
       "      <td>75.0</td>\n",
       "      <td>74.0</td>\n",
       "      <td>79.0</td>\n",
       "      <td>78.0</td>\n",
       "      <td>78.0</td>\n",
       "      <td>76.0</td>\n",
       "      <td>79.0</td>\n",
       "      <td>77.0</td>\n",
       "      <td>1.9231</td>\n",
       "      <td>1.7621</td>\n",
       "      <td>1.87500</td>\n",
       "      <td>1.0</td>\n",
       "      <td>68.0</td>\n",
       "      <td>48.0</td>\n",
       "      <td>1.0</td>\n",
       "      <td>4.0</td>\n",
       "      <td>1.0</td>\n",
       "    </tr>\n",
       "  </tbody>\n",
       "</table>\n",
       "<p>1010 rows × 19 columns</p>\n",
       "</div>"
      ],
      "text/plain": [
       "       Batch  Eng7  Eng8  Eng9  Math7  Math8  Math9  Sci7  Sci8  Sci9    GWA7  \\\n",
       "0     2005.0  77.0  82.0  86.0   94.0   87.0   92.0  84.0  80.0  92.0  1.4764   \n",
       "1     2005.0  57.0  57.0  59.0   55.0   46.0   57.0  53.0  45.0  53.0  2.6557   \n",
       "2     2005.0  55.0  52.0  55.0   57.0   53.0   51.0  57.0  62.0  51.0  2.6132   \n",
       "3     2005.0  69.0  78.0  78.0   87.0   79.0   79.0  83.0  82.0  79.0  1.7217   \n",
       "4     2005.0  64.0  71.0  68.0   71.0   57.0   54.0  60.0  59.0  55.0  2.4245   \n",
       "...      ...   ...   ...   ...    ...    ...    ...   ...   ...   ...     ...   \n",
       "1005  2014.0  53.0  56.0  52.0   55.0   52.0   58.0  63.0  51.0  51.0  2.5577   \n",
       "1006  2014.0  59.0  67.0  57.0   71.0   61.0   64.0  67.0  63.0  67.0  2.4135   \n",
       "1007  2014.0  84.0  83.0  85.0   93.0   89.0   92.0  89.0  96.0  93.0  1.5192   \n",
       "1008  2014.0  78.0  83.0  77.0   82.0   62.0   69.0  84.0  71.0  70.0  1.7115   \n",
       "1009  2014.0  73.0  75.0  74.0   79.0   78.0   78.0  76.0  79.0  77.0  1.9231   \n",
       "\n",
       "        GWA8     GWA9   UP    IQ    SA   C1   C2  Target  \n",
       "0     1.5045  1.40980  1.0  55.0  28.0  1.0  4.0     1.0  \n",
       "1     2.7000  2.70080  1.0  38.0  19.0  5.0  3.0     0.0  \n",
       "2     2.6818  2.71720  0.0  17.0   9.0  5.0  6.0     0.0  \n",
       "3     1.6136  1.70490  1.0  45.0  28.0  1.0  4.0     0.0  \n",
       "4     2.4318  2.47130  1.0  67.0  56.0  1.0  5.0     0.0  \n",
       "...      ...      ...  ...   ...   ...  ...  ...     ...  \n",
       "1005  2.6089  2.72984  1.0  26.0  23.0  1.0  5.0     0.0  \n",
       "1006  2.3589  2.32258  0.0  24.0  30.0  1.0  4.0     0.0  \n",
       "1007  1.4597  1.43952  0.0  86.0  72.0  1.0  4.0     1.0  \n",
       "1008  1.9556  2.02016  0.0  72.0  48.0  1.0  4.0     0.0  \n",
       "1009  1.7621  1.87500  1.0  68.0  48.0  1.0  4.0     1.0  \n",
       "\n",
       "[1010 rows x 19 columns]"
      ]
     },
     "execution_count": 75,
     "metadata": {},
     "output_type": "execute_result"
    }
   ],
   "source": [
    "df_new = nan_imputer(df)\n",
    "df_new"
   ]
  },
  {
   "cell_type": "markdown",
   "id": "75aebd2d-5c08-4718-aa19-232f0036fad7",
   "metadata": {},
   "source": [
    "No more NaNs!"
   ]
  },
  {
   "cell_type": "code",
   "execution_count": 76,
   "id": "cc831c71-5b18-4fa9-80fe-013e3708b41b",
   "metadata": {
    "execution": {
     "iopub.execute_input": "2021-09-04T04:42:44.008690Z",
     "iopub.status.busy": "2021-09-04T04:42:44.008690Z",
     "iopub.status.idle": "2021-09-04T04:42:44.023672Z",
     "shell.execute_reply": "2021-09-04T04:42:44.023672Z",
     "shell.execute_reply.started": "2021-09-04T04:42:44.008690Z"
    },
    "tags": []
   },
   "outputs": [
    {
     "data": {
      "text/plain": [
       "Batch     0\n",
       "Eng7      0\n",
       "Eng8      0\n",
       "Eng9      0\n",
       "Math7     0\n",
       "Math8     0\n",
       "Math9     0\n",
       "Sci7      0\n",
       "Sci8      0\n",
       "Sci9      0\n",
       "GWA7      0\n",
       "GWA8      0\n",
       "GWA9      0\n",
       "UP        0\n",
       "IQ        0\n",
       "SA        0\n",
       "C1        0\n",
       "C2        0\n",
       "Target    0\n",
       "dtype: int64"
      ]
     },
     "execution_count": 76,
     "metadata": {},
     "output_type": "execute_result"
    }
   ],
   "source": [
    "df_new.isna().sum()"
   ]
  },
  {
   "cell_type": "markdown",
   "id": "c62f9dbc-c092-41dd-b237-ea8cd3627dc8",
   "metadata": {},
   "source": [
    "# Load UPCAT Data"
   ]
  },
  {
   "cell_type": "code",
   "execution_count": 77,
   "id": "53c225b5-cc56-4b54-bacb-17bbe8a295d3",
   "metadata": {
    "execution": {
     "iopub.execute_input": "2021-09-04T04:42:44.024639Z",
     "iopub.status.busy": "2021-09-04T04:42:44.024639Z",
     "iopub.status.idle": "2021-09-04T04:42:44.104425Z",
     "shell.execute_reply": "2021-09-04T04:42:44.103461Z",
     "shell.execute_reply.started": "2021-09-04T04:42:44.024639Z"
    },
    "tags": []
   },
   "outputs": [
    {
     "data": {
      "image/png": "[encoded data removed]",
      "text/plain": [
       "<Figure size 640x480 with 1 Axes>"
      ]
     },
     "metadata": {},
     "output_type": "display_data"
    }
   ],
   "source": [
    "sns.countplot(df_new['Target'], label='Count')\n",
    "plt.show()"
   ]
  },
  {
   "cell_type": "markdown",
   "id": "b9b30ebf-72d0-41ab-8ae1-15ca5073e563",
   "metadata": {},
   "source": [
    "# PCC"
   ]
  },
  {
   "cell_type": "code",
   "execution_count": 78,
   "id": "fb3abbbe-6b61-4757-a700-7087e3c668e2",
   "metadata": {
    "execution": {
     "iopub.execute_input": "2021-09-04T04:42:44.106453Z",
     "iopub.status.busy": "2021-09-04T04:42:44.106453Z",
     "iopub.status.idle": "2021-09-04T04:42:44.119386Z",
     "shell.execute_reply": "2021-09-04T04:42:44.119386Z",
     "shell.execute_reply.started": "2021-09-04T04:42:44.106453Z"
    },
    "tags": []
   },
   "outputs": [
    {
     "name": "stdout",
     "output_type": "stream",
     "text": [
      "PCC =  50.12 \n",
      "Minimum Acceptable Prediction Score =  62.65\n"
     ]
    }
   ],
   "source": [
    "N = df_new.shape[0]\n",
    "n_pass = df_new.groupby('Target')['GWA7'].count()[1]\n",
    "n_fail = df_new.groupby('Target')['GWA7'].count()[0]\n",
    "PCC = (n_pass/N)**2 + (n_fail / N)**2\n",
    "print(f'PCC = {PCC * 100 : .2f}',\n",
    "      f'\\nMinimum Acceptable Prediction Score = {125*PCC: .2f}')\n"
   ]
  },
  {
   "cell_type": "markdown",
   "id": "e4e89c99-52ae-4ca0-ab5f-875a21adb9e9",
   "metadata": {},
   "source": [
    "# Handling of Categorical\n",
    "\n",
    "in this case we do not have Categorical variables. Otherwise, do OHE or ordinal conversion"
   ]
  },
  {
   "cell_type": "markdown",
   "id": "123d3b08-3fae-483b-a5d3-bfc12246fdaa",
   "metadata": {},
   "source": [
    "# Scaling Function\n",
    "\n",
    "Note that we scale only on the splitting of the data, specifically on the **FULL TRAIN SET**. We will use sklearn's `MinMaxScaler` from `sklearn.preprocessing`"
   ]
  },
  {
   "cell_type": "code",
   "execution_count": 79,
   "id": "bcb38232-3922-43a2-848d-a81594f10820",
   "metadata": {
    "execution": {
     "iopub.execute_input": "2021-09-04T04:42:44.121381Z",
     "iopub.status.busy": "2021-09-04T04:42:44.120383Z",
     "iopub.status.idle": "2021-09-04T04:42:44.134377Z",
     "shell.execute_reply": "2021-09-04T04:42:44.134377Z",
     "shell.execute_reply.started": "2021-09-04T04:42:44.121381Z"
    },
    "tags": []
   },
   "outputs": [],
   "source": [
    "from sklearn.preprocessing import MinMaxScaler\n",
    "MM_scaler = MinMaxScaler()"
   ]
  },
  {
   "cell_type": "markdown",
   "id": "3de32121-692f-4543-938e-873f8bb21dbb",
   "metadata": {},
   "source": [
    "# Train Test Split\n",
    "\n",
    "split the data into X_train, X_test, y_train, y_test\n",
    "\n",
    "   scale X_train and X_test using the min/max or mean/std of X_train\n",
    "   \n",
    "   define the parameter grid which would be passed in the GridSearchCV\n",
    "   \n",
    "   call GridSearchCV, passing in the model that you want to fit and the list of parameters that you want to iterate\n",
    "   \n",
    "   fit the model using GridSearchCV using the training data\n",
    "   \n",
    "   use the optimal hyperparameters to fit the same model using the test data"
   ]
  },
  {
   "cell_type": "code",
   "execution_count": 80,
   "id": "2efa8f4d-c746-4ba9-8b17-71d1ee478fc5",
   "metadata": {
    "execution": {
     "iopub.execute_input": "2021-09-04T04:42:44.135343Z",
     "iopub.status.busy": "2021-09-04T04:42:44.135343Z",
     "iopub.status.idle": "2021-09-04T04:42:44.150304Z",
     "shell.execute_reply": "2021-09-04T04:42:44.149330Z",
     "shell.execute_reply.started": "2021-09-04T04:42:44.135343Z"
    },
    "tags": []
   },
   "outputs": [],
   "source": [
    "X = df_new.drop('Target', axis=1)\n",
    "y = df_new.loc[:, 'Target']"
   ]
  },
  {
   "cell_type": "code",
   "execution_count": 81,
   "id": "c9a5551a-f673-4aec-9078-f5c506a71f53",
   "metadata": {
    "execution": {
     "iopub.execute_input": "2021-09-04T04:42:44.151302Z",
     "iopub.status.busy": "2021-09-04T04:42:44.150304Z",
     "iopub.status.idle": "2021-09-04T04:42:44.164266Z",
     "shell.execute_reply": "2021-09-04T04:42:44.164266Z",
     "shell.execute_reply.started": "2021-09-04T04:42:44.151302Z"
    },
    "tags": []
   },
   "outputs": [],
   "source": [
    "from sklearn.model_selection import train_test_split\n",
    "\n",
    "X_train_full, X_test, y_train_full, y_test = train_test_split(X,\n",
    "                                                              y,\n",
    "                                                             test_size=0.2,\n",
    "                                                              random_state=1337)\n",
    "# scale the X_train_full and X_test\n",
    "X_train_full_scaled = MM_scaler.fit_transform(X_train_full.astype(float))\n",
    "\n",
    "X_test_scaled = MM_scaler.transform(X_test.astype(float))\n"
   ]
  },
  {
   "cell_type": "markdown",
   "id": "3a8e411f-684c-4309-9870-78f27559a9f1",
   "metadata": {},
   "source": [
    "# Classifier AutoML"
   ]
  },
  {
   "cell_type": "code",
   "execution_count": 82,
   "id": "4b473f59-ab6a-4786-9a90-2135c8453edc",
   "metadata": {
    "execution": {
     "iopub.execute_input": "2021-09-04T04:42:44.166284Z",
     "iopub.status.busy": "2021-09-04T04:42:44.165263Z",
     "iopub.status.idle": "2021-09-04T04:42:44.179226Z",
     "shell.execute_reply": "2021-09-04T04:42:44.179226Z",
     "shell.execute_reply.started": "2021-09-04T04:42:44.166284Z"
    },
    "tags": []
   },
   "outputs": [],
   "source": [
    "from sklearn.neighbors import KNeighborsClassifier\n",
    "from sklearn.linear_model import LogisticRegression\n",
    "from sklearn.svm import LinearSVC\n",
    "from sklearn.svm import SVC\n",
    "from sklearn.ensemble import RandomForestClassifier\n",
    "from sklearn.ensemble import GradientBoostingClassifier"
   ]
  },
  {
   "cell_type": "code",
   "execution_count": 83,
   "id": "6df52f14-cf41-4155-a8f7-bf620104ee27",
   "metadata": {
    "execution": {
     "iopub.execute_input": "2021-09-04T04:42:44.180223Z",
     "iopub.status.busy": "2021-09-04T04:42:44.180223Z",
     "iopub.status.idle": "2021-09-04T04:42:44.195215Z",
     "shell.execute_reply": "2021-09-04T04:42:44.195215Z",
     "shell.execute_reply.started": "2021-09-04T04:42:44.180223Z"
    },
    "tags": []
   },
   "outputs": [],
   "source": [
    "n_trials = 10"
   ]
  },
  {
   "cell_type": "markdown",
   "id": "c7f885e6-c113-4b88-af91-0a9d22c49943",
   "metadata": {},
   "source": [
    "## KNN"
   ]
  },
  {
   "cell_type": "code",
   "execution_count": 84,
   "id": "11c6df55-6141-48d3-9989-5822a36e15d6",
   "metadata": {
    "execution": {
     "iopub.execute_input": "2021-09-04T04:42:44.197179Z",
     "iopub.status.busy": "2021-09-04T04:42:44.196181Z",
     "iopub.status.idle": "2021-09-04T04:42:44.210143Z",
     "shell.execute_reply": "2021-09-04T04:42:44.210143Z",
     "shell.execute_reply.started": "2021-09-04T04:42:44.197179Z"
    },
    "tags": []
   },
   "outputs": [],
   "source": [
    "def clf_knn(X, y, max_k):\n",
    "    import time\n",
    "    from sklearn.model_selection import train_test_split\n",
    "    from sklearn.model_selection import GridSearchCV\n",
    "    from sklearn.preprocessing import MinMaxScaler\n",
    "    from sklearn.neighbors import KNeighborsClassifier\n",
    "    start_time = time.time()\n",
    "    MM_scaler = MinMaxScaler()\n",
    "    \n",
    "    X_train_full, X_test, y_train_full, y_test = train_test_split(X,\n",
    "                                                                  y,\n",
    "                                                                  test_size=0.2,\n",
    "                                                                  random_state=1337)\n",
    "    X_train_full_scaled = MM_scaler.fit_transform(X_train_full.astype(float))\n",
    "\n",
    "    X_test_scaled = MM_scaler.transform(X_test.astype(float))\n",
    "    \n",
    "    parameters = {'n_neighbors': list(range(1,max_k+1))}\n",
    "\n",
    "    GS = GridSearchCV(\n",
    "        KNeighborsClassifier(), parameters, cv=8, return_train_score=True\n",
    "    )\n",
    "\n",
    "    GS.fit(X_train_full_scaled, y_train_full)\n",
    "\n",
    "    best_model = GS.best_estimator_\n",
    "    best_k = GS.cv_results_['mean_test_score'].argmax()\n",
    "    print(best_model)\n",
    "    \n",
    "    # plotting error bars\n",
    "    plt.errorbar(parameters['n_neighbors'], GS.cv_results_['mean_train_score'],\n",
    "             yerr=GS.cv_results_['std_train_score'], label=\"training accuracy\",\n",
    "                 color='#004369')\n",
    "    plt.errorbar(parameters['n_neighbors'],  GS.cv_results_['mean_test_score'],\n",
    "                 yerr=GS.cv_results_['std_test_score']/6, label=\"test accuracy\",\n",
    "                 color='#FFA500')\n",
    "#     plt.text((best_k+1/max_k+1), 0.5, f'n_neighbor = {best_k+1}', size=28)\n",
    "    plt.ylabel(\"Accuracy\")\n",
    "    plt.xlabel(\"n_neighbors\")\n",
    "    plt.axvline(best_k+1, color='#DB1F48', ls='--', lw=0.6)\n",
    "    plt.legend()\n",
    "    plt.show()\n",
    "    \n",
    "    test_score_list = []\n",
    "    for seed in range(n_trials):\n",
    "        \n",
    "        X_train_full, X_test, y_train_full, y_test = train_test_split(X,\n",
    "                                                                      y,\n",
    "                                                                     test_size=0.2,\n",
    "                                                                      random_state=seed)\n",
    "        # scale the X_train_full and X_test\n",
    "        X_train_full_scaled = MM_scaler.fit_transform(X_train_full.astype(float))\n",
    "\n",
    "        X_test_scaled = MM_scaler.transform(X_test.astype(float))\n",
    "\n",
    "\n",
    "        \n",
    "        best_model.fit(X_train_full_scaled, y_train_full)\n",
    "        test_score = best_model.score(X_test_scaled, y_test)\n",
    "        test_score_list.append(test_score)\n",
    "    test_score_means = np.mean(test_score_list)\n",
    "    \n",
    "    \n",
    "    \n",
    "    best_params = GS.best_params_\n",
    "    print(f'best params = {best_params}')\n",
    "\n",
    "    print(f'best model = {best_model}')\n",
    "    runtime = time.time() - start_time\n",
    "    'Model, Hyperparam, best params, trainacc, valacc, testacc, toppred, runtime'\n",
    "    return (\n",
    "        ['Knn',\n",
    "        'n_neighbor',\n",
    "        best_k+1,\n",
    "        GS.cv_results_['mean_test_score'][best_k],\n",
    "        GS.best_score_,\n",
    "        test_score_means,\n",
    "        'NA',\n",
    "        runtime\n",
    "        ]\n",
    "    )"
   ]
  },
  {
   "cell_type": "code",
   "execution_count": 85,
   "id": "4563c1fc-b06b-4f3d-9489-40ffb81f8ca0",
   "metadata": {
    "execution": {
     "iopub.execute_input": "2021-09-04T04:42:44.211139Z",
     "iopub.status.busy": "2021-09-04T04:42:44.211139Z",
     "iopub.status.idle": "2021-09-04T04:43:06.703729Z",
     "shell.execute_reply": "2021-09-04T04:43:06.702733Z",
     "shell.execute_reply.started": "2021-09-04T04:42:44.211139Z"
    },
    "tags": []
   },
   "outputs": [
    {
     "name": "stdout",
     "output_type": "stream",
     "text": [
      "KNeighborsClassifier(n_neighbors=42)\n"
     ]
    },
    {
     "data": {
      "image/png": "[encoded data removed]",
      "text/plain": [
       "<Figure size 640x480 with 1 Axes>"
      ]
     },
     "metadata": {},
     "output_type": "display_data"
    },
    {
     "name": "stdout",
     "output_type": "stream",
     "text": [
      "best params = {'n_neighbors': 42}\n",
      "best model = KNeighborsClassifier(n_neighbors=42)\n"
     ]
    },
    {
     "data": {
      "text/plain": [
       "['Knn',\n",
       " 'n_neighbor',\n",
       " 42,\n",
       " 0.8824257425742574,\n",
       " 0.8824257425742574,\n",
       " 0.8732673267326734,\n",
       " 'NA',\n",
       " 22.471611738204956]"
      ]
     },
     "execution_count": 85,
     "metadata": {},
     "output_type": "execute_result"
    }
   ],
   "source": [
    "res_knn = clf_knn(X, y, 70)\n",
    "res_knn"
   ]
  },
  {
   "cell_type": "markdown",
   "id": "36466f3d-5dc1-4691-832b-2e7b02a1fba5",
   "metadata": {},
   "source": [
    "## SVC (l1 or l2)"
   ]
  },
  {
   "cell_type": "code",
   "execution_count": 86,
   "id": "fd337cae-3070-4bdf-ae36-c3ac697c17ba",
   "metadata": {
    "execution": {
     "iopub.execute_input": "2021-09-04T04:43:06.704727Z",
     "iopub.status.busy": "2021-09-04T04:43:06.704727Z",
     "iopub.status.idle": "2021-09-04T04:43:06.735648Z",
     "shell.execute_reply": "2021-09-04T04:43:06.734649Z",
     "shell.execute_reply.started": "2021-09-04T04:43:06.704727Z"
    },
    "tags": []
   },
   "outputs": [],
   "source": [
    "def train_svc(X, y, mode):\n",
    "    import time\n",
    "    from sklearn.model_selection import train_test_split\n",
    "    from sklearn.model_selection import GridSearchCV\n",
    "    from sklearn.preprocessing import MinMaxScaler\n",
    "    from sklearn.svm import LinearSVC\n",
    "    start_time = time.time()\n",
    "    MM_scaler = MinMaxScaler()\n",
    "    \n",
    "    X_train_full, X_test, y_train_full, y_test = train_test_split(X,\n",
    "                                                                  y,\n",
    "                                                                  test_size=0.2,\n",
    "                                                                  random_state=1337)\n",
    "    X_train_full_scaled = MM_scaler.fit_transform(X_train_full.astype(float))\n",
    "\n",
    "    X_test_scaled = MM_scaler.transform(X_test.astype(float))\n",
    "    \n",
    "        \n",
    "    \n",
    "    C_list = np.logspace(-3,3,10)\n",
    "    if mode == 'l1':\n",
    "        parameters = {'C': C_list,\n",
    "                      'penalty': [mode],\n",
    "                      'loss': ['squared_hinge'],\n",
    "                      'dual' : [False]}\n",
    "    elif mode == 'l2':\n",
    "        parameters = {'C': C_list,\n",
    "                      'penalty': [mode],\n",
    "                      }\n",
    "\n",
    "    \n",
    "    GS = GridSearchCV(\n",
    "        LinearSVC(), parameters, cv=8, return_train_score=True\n",
    "    )\n",
    "\n",
    "    GS.fit(X_train_full_scaled, y_train_full)\n",
    "\n",
    "    best_model = GS.best_estimator_\n",
    "    # best_k = GS.cv_results_['mean_test_score'].argmax()\n",
    "    print(best_model)\n",
    "    best_c_idx = GS.cv_results_['mean_test_score'].argmax()\n",
    "    best_c = GS.best_params_['C']\n",
    "    best_val_acc = GS.cv_results_['mean_test_score'][best_c_idx]\n",
    "    best_train_acc = GS.cv_results_['mean_train_score'][best_c_idx]\n",
    "\n",
    "    # plotting error bars\n",
    "    plt.errorbar(C_list, GS.cv_results_['mean_train_score'],\n",
    "             yerr=GS.cv_results_['std_train_score'], label=\"training accuracy\",\n",
    "                 color='#004369')\n",
    "    plt.errorbar(C_list,  GS.cv_results_['mean_test_score'],\n",
    "                 yerr=GS.cv_results_['std_test_score']/6, label=\"test accuracy\",\n",
    "                 color='#FFA500')\n",
    "    #     plt.text((best_k+1/max_k+1), 0.5, f'n_neighbor = {best_k+1}', size=28)\n",
    "    plt.ylabel(\"Accuracy\")\n",
    "    plt.xscale('log')\n",
    "    plt.xlabel(\"C\")\n",
    "    plt.axvline(C_list[best_c_idx], color='#DB1F48', ls='--', lw=0.6)\n",
    "    plt.legend()\n",
    "    plt.show()\n",
    "\n",
    "    # testing test set using optimal model\n",
    "    test_score_list = []\n",
    "    coefs_list = []\n",
    "    for seed in range(n_trials):\n",
    "\n",
    "        X_train_full, X_test, y_train_full, y_test = train_test_split(X,\n",
    "                                                                      y,\n",
    "                                                                     test_size=0.2,\n",
    "                                                                      random_state=seed)\n",
    "        # scale the X_train_full and X_test\n",
    "        X_train_full_scaled = MM_scaler.fit_transform(X_train_full.astype(float))\n",
    "\n",
    "        X_test_scaled = MM_scaler.transform(X_test.astype(float))\n",
    "\n",
    "\n",
    "\n",
    "        best_model.fit(X_train_full_scaled, y_train_full)\n",
    "        test_score = best_model.score(X_test_scaled, y_test)\n",
    "        test_score_list.append(test_score)\n",
    "\n",
    "        coefs = best_model.coef_\n",
    "        coefs_list.append(coefs)\n",
    "    test_score_means = np.mean(test_score_list)\n",
    "    coefs_mean = np.mean(coefs_list, axis=0)[0]\n",
    "    coefs_mean\n",
    "\n",
    "    # plotting top predictors\n",
    "    # len(coefs_mean)\n",
    "    \n",
    "    fig, ax = plt.subplots(figsize=(10,7))\n",
    "    ax.barh(np.arange(len(coefs_mean)), sorted(coefs_mean))\n",
    "\n",
    "    ax.set_yticks(np.arange(len(coefs_mean)))\n",
    "    ax.set_yticklabels(X.columns[np.argsort(coefs_mean)])\n",
    "    plt.show()\n",
    "\n",
    "    top_pred = X.columns[np.argmax(np.abs(coefs_mean))]\n",
    "    runtime = time.time() - start_time\n",
    "    'Model, Hyperparam, best params, trainacc, valacc, testacc, toppred, runtime'\n",
    "    return [f'SVC Regression ({mode})', 'C', best_c, best_train_acc, best_val_acc, test_score_means, top_pred, runtime]"
   ]
  },
  {
   "cell_type": "code",
   "execution_count": 87,
   "id": "f422fee8-da75-459f-af0a-715b2d49332d",
   "metadata": {
    "execution": {
     "iopub.execute_input": "2021-09-04T04:43:06.737640Z",
     "iopub.status.busy": "2021-09-04T04:43:06.737640Z",
     "iopub.status.idle": "2021-09-04T04:43:09.065444Z",
     "shell.execute_reply": "2021-09-04T04:43:09.065444Z",
     "shell.execute_reply.started": "2021-09-04T04:43:06.737640Z"
    },
    "tags": []
   },
   "outputs": [
    {
     "name": "stdout",
     "output_type": "stream",
     "text": [
      "LinearSVC(C=2.154434690031882, dual=False, penalty='l1')\n"
     ]
    },
    {
     "data": {
      "image/png": "[encoded data removed]",
      "text/plain": [
       "<Figure size 640x480 with 1 Axes>"
      ]
     },
     "metadata": {},
     "output_type": "display_data"
    },
    {
     "data": {
      "image/png": "[encoded data removed]",
      "text/plain": [
       "<Figure size 1000x700 with 1 Axes>"
      ]
     },
     "metadata": {},
     "output_type": "display_data"
    },
    {
     "data": {
      "text/plain": [
       "['Logistic Regression (l1)',\n",
       " 'C',\n",
       " 2.154434690031882,\n",
       " 0.8873762376237624,\n",
       " 0.8824257425742574,\n",
       " 0.8707920792079207,\n",
       " 'Eng9',\n",
       " 2.3228180408477783]"
      ]
     },
     "execution_count": 87,
     "metadata": {},
     "output_type": "execute_result"
    }
   ],
   "source": [
    "res_svc_l1 = train_svc(X,y,'l1')\n",
    "res_svc_l1"
   ]
  },
  {
   "cell_type": "code",
   "execution_count": 88,
   "id": "4ab2dfba-2f87-43dd-a153-e75a08c0da35",
   "metadata": {
    "execution": {
     "iopub.execute_input": "2021-09-04T04:43:09.066409Z",
     "iopub.status.busy": "2021-09-04T04:43:09.066409Z",
     "iopub.status.idle": "2021-09-04T04:43:10.505559Z",
     "shell.execute_reply": "2021-09-04T04:43:10.504595Z",
     "shell.execute_reply.started": "2021-09-04T04:43:09.066409Z"
    },
    "tags": []
   },
   "outputs": [
    {
     "name": "stdout",
     "output_type": "stream",
     "text": [
      "LinearSVC(C=0.46415888336127775)\n"
     ]
    },
    {
     "data": {
      "image/png": "[encoded data removed]",
      "text/plain": [
       "<Figure size 640x480 with 1 Axes>"
      ]
     },
     "metadata": {},
     "output_type": "display_data"
    },
    {
     "data": {
      "image/png": "[encoded data removed]",
      "text/plain": [
       "<Figure size 1000x700 with 1 Axes>"
      ]
     },
     "metadata": {},
     "output_type": "display_data"
    },
    {
     "data": {
      "text/plain": [
       "['Logistic Regression (l2)',\n",
       " 'C',\n",
       " 0.46415888336127775,\n",
       " 0.8863154172560113,\n",
       " 0.8873762376237624,\n",
       " 0.8792079207920793,\n",
       " 'Eng9',\n",
       " 1.4231910705566406]"
      ]
     },
     "execution_count": 88,
     "metadata": {},
     "output_type": "execute_result"
    }
   ],
   "source": [
    "res_svc_l2 = train_svc(X,y, 'l2')\n",
    "res_svc_l2"
   ]
  },
  {
   "cell_type": "markdown",
   "id": "9d81186b-9f69-4a56-b2ac-9fa6f09683bc",
   "metadata": {},
   "source": [
    "## Logistic Regression"
   ]
  },
  {
   "cell_type": "code",
   "execution_count": 89,
   "id": "0c7a6f30-787f-44a8-82e5-715d58c7e2d4",
   "metadata": {
    "execution": {
     "iopub.execute_input": "2021-09-04T04:43:10.506556Z",
     "iopub.status.busy": "2021-09-04T04:43:10.505559Z",
     "iopub.status.idle": "2021-09-04T04:43:10.521516Z",
     "shell.execute_reply": "2021-09-04T04:43:10.520535Z",
     "shell.execute_reply.started": "2021-09-04T04:43:10.506556Z"
    },
    "tags": []
   },
   "outputs": [],
   "source": [
    "def train_logistic(X, y, mode):\n",
    "    import time\n",
    "    from sklearn.model_selection import train_test_split\n",
    "    from sklearn.model_selection import GridSearchCV\n",
    "    from sklearn.preprocessing import MinMaxScaler\n",
    "    from sklearn.linear_model import LogisticRegression\n",
    "    start_time = time.time()\n",
    "    MM_scaler = MinMaxScaler()\n",
    "    \n",
    "    X_train_full, X_test, y_train_full, y_test = train_test_split(X,\n",
    "                                                                  y,\n",
    "                                                                  test_size=0.2,\n",
    "                                                                  random_state=1337)\n",
    "    X_train_full_scaled = MM_scaler.fit_transform(X_train_full.astype(float))\n",
    "\n",
    "    X_test_scaled = MM_scaler.transform(X_test.astype(float))\n",
    "    \n",
    "        \n",
    "    \n",
    "    C_list = np.logspace(-3,3,10)\n",
    "    \n",
    "    if mode == 'l1':\n",
    "        parameters = {'C': C_list,\n",
    "                      'penalty': [mode],\n",
    "                      'solver': ['liblinear']}\n",
    "    if mode == 'l2':\n",
    "        parameters = {'C': C_list,\n",
    "                      'penalty': [mode],\n",
    "                      'dual': [False]}\n",
    "\n",
    "    \n",
    "    GS = GridSearchCV(\n",
    "        LogisticRegression(), parameters, cv=8, return_train_score=True\n",
    "    )\n",
    "\n",
    "    GS.fit(X_train_full_scaled, y_train_full)\n",
    "\n",
    "    best_model = GS.best_estimator_\n",
    "    # best_k = GS.cv_results_['mean_test_score'].argmax()\n",
    "    print(best_model)\n",
    "    best_c_idx = GS.cv_results_['mean_test_score'].argmax()\n",
    "    best_c = GS.best_params_['C']\n",
    "    best_val_acc = GS.cv_results_['mean_test_score'][best_c_idx]\n",
    "    best_train_acc = GS.cv_results_['mean_train_score'][best_c_idx]\n",
    "\n",
    "    # plotting error bars\n",
    "    plt.errorbar(C_list, GS.cv_results_['mean_train_score'],\n",
    "             yerr=GS.cv_results_['std_train_score'], label=\"training accuracy\",\n",
    "                 color='#004369')\n",
    "    plt.errorbar(C_list,  GS.cv_results_['mean_test_score'],\n",
    "                 yerr=GS.cv_results_['std_test_score']/6, label=\"test accuracy\",\n",
    "                 color='#FFA500')\n",
    "    #     plt.text((best_k+1/max_k+1), 0.5, f'n_neighbor = {best_k+1}', size=28)\n",
    "    plt.ylabel(\"Accuracy\")\n",
    "    plt.xscale('log')\n",
    "    plt.xlabel(\"C\")\n",
    "    plt.axvline(C_list[best_c_idx], color='#DB1F48', ls='--', lw=0.6)\n",
    "    plt.legend()\n",
    "    plt.show()\n",
    "\n",
    "    # testing test set using optimal model\n",
    "    test_score_list = []\n",
    "    coefs_list = []\n",
    "    for seed in range(n_trials):\n",
    "\n",
    "        X_train_full, X_test, y_train_full, y_test = train_test_split(X,\n",
    "                                                                      y,\n",
    "                                                                     test_size=0.2,\n",
    "                                                                      random_state=seed)\n",
    "        # scale the X_train_full and X_test\n",
    "        X_train_full_scaled = MM_scaler.fit_transform(X_train_full.astype(float))\n",
    "\n",
    "        X_test_scaled = MM_scaler.transform(X_test.astype(float))\n",
    "\n",
    "\n",
    "\n",
    "        best_model.fit(X_train_full_scaled, y_train_full)\n",
    "        test_score = best_model.score(X_test_scaled, y_test)\n",
    "        test_score_list.append(test_score)\n",
    "\n",
    "        coefs = best_model.coef_\n",
    "        coefs_list.append(coefs)\n",
    "    test_score_means = np.mean(test_score_list)\n",
    "    coefs_mean = np.mean(coefs_list, axis=0)[0]\n",
    "    coefs_mean\n",
    "\n",
    "    # plotting top predictors\n",
    "    # len(coefs_mean)\n",
    "#     display(X.columns)\n",
    "    fig, ax = plt.subplots(figsize=(10,7))\n",
    "    ax.barh(np.arange(len(coefs_mean)), sorted(coefs_mean))\n",
    "\n",
    "    ax.set_yticks(np.arange(len(coefs_mean)))\n",
    "    ax.set_yticklabels(X.columns[np.argsort(coefs_mean)])\n",
    "    plt.show()\n",
    "\n",
    "    top_pred = X.columns[np.argmax(np.abs(coefs_mean))]\n",
    "    runtime = time.time() - start_time\n",
    "    'Model, Hyperparam, best params, trainacc, valacc, testacc, toppred, runtime'\n",
    "    return [f'Logistic Regression ({mode})', 'C', best_c, best_train_acc, best_val_acc, test_score_means, top_pred, runtime]"
   ]
  },
  {
   "cell_type": "code",
   "execution_count": 90,
   "id": "b0bdab3f-0ef2-448c-93fc-bf26c2e4adbc",
   "metadata": {
    "execution": {
     "iopub.execute_input": "2021-09-04T04:43:10.523510Z",
     "iopub.status.busy": "2021-09-04T04:43:10.522513Z",
     "iopub.status.idle": "2021-09-04T04:43:15.692711Z",
     "shell.execute_reply": "2021-09-04T04:43:15.692711Z",
     "shell.execute_reply.started": "2021-09-04T04:43:10.523510Z"
    },
    "tags": []
   },
   "outputs": [
    {
     "name": "stdout",
     "output_type": "stream",
     "text": [
      "LogisticRegression(C=215.44346900318823, penalty='l1', solver='liblinear')\n"
     ]
    },
    {
     "data": {
      "image/png": "[encoded data removed]",
      "text/plain": [
       "<Figure size 640x480 with 1 Axes>"
      ]
     },
     "metadata": {},
     "output_type": "display_data"
    },
    {
     "data": {
      "image/png": "[encoded data removed]",
      "text/plain": [
       "<Figure size 1000x700 with 1 Axes>"
      ]
     },
     "metadata": {},
     "output_type": "display_data"
    },
    {
     "data": {
      "text/plain": [
       "['Logistic Regression (l1)',\n",
       " 'C',\n",
       " 215.44346900318823,\n",
       " 0.8882602545968883,\n",
       " 0.8787128712871287,\n",
       " 0.8727722772277227,\n",
       " 'GWA9',\n",
       " 5.160188913345337]"
      ]
     },
     "execution_count": 90,
     "metadata": {},
     "output_type": "execute_result"
    }
   ],
   "source": [
    "res_logi_l1 = train_logistic(X,y, 'l1')\n",
    "res_logi_l1"
   ]
  },
  {
   "cell_type": "code",
   "execution_count": 91,
   "id": "e48547a1-00fc-42e0-8e32-83097d7406eb",
   "metadata": {
    "execution": {
     "iopub.execute_input": "2021-09-04T04:43:15.693679Z",
     "iopub.status.busy": "2021-09-04T04:43:15.693679Z",
     "iopub.status.idle": "2021-09-04T04:43:18.191991Z",
     "shell.execute_reply": "2021-09-04T04:43:18.191991Z",
     "shell.execute_reply.started": "2021-09-04T04:43:15.693679Z"
    },
    "tags": []
   },
   "outputs": [
    {
     "name": "stdout",
     "output_type": "stream",
     "text": [
      "LogisticRegression(C=10.0)\n"
     ]
    },
    {
     "data": {
      "image/png": "[encoded data removed]",
      "text/plain": [
       "<Figure size 640x480 with 1 Axes>"
      ]
     },
     "metadata": {},
     "output_type": "display_data"
    },
    {
     "data": {
      "image/png": "[encoded data removed]",
      "text/plain": [
       "<Figure size 1000x700 with 1 Axes>"
      ]
     },
     "metadata": {},
     "output_type": "display_data"
    },
    {
     "data": {
      "text/plain": [
       "['Logistic Regression (l2)',\n",
       " 'C',\n",
       " 10.0,\n",
       " 0.8896746817538896,\n",
       " 0.8811881188118812,\n",
       " 0.8762376237623762,\n",
       " 'Sci7',\n",
       " 2.4933218955993652]"
      ]
     },
     "execution_count": 91,
     "metadata": {},
     "output_type": "execute_result"
    }
   ],
   "source": [
    "res_logi_l2 = train_logistic(X,y, 'l2')\n",
    "res_logi_l2"
   ]
  },
  {
   "cell_type": "markdown",
   "id": "11bec0a5-2169-4414-8021-5a26f960bce1",
   "metadata": {},
   "source": [
    "## SVC (Non linear)"
   ]
  },
  {
   "cell_type": "code",
   "execution_count": 92,
   "id": "17d0e1a4-b22c-479a-9873-a86d2e1521e4",
   "metadata": {
    "execution": {
     "iopub.execute_input": "2021-09-04T04:43:18.192989Z",
     "iopub.status.busy": "2021-09-04T04:43:18.192989Z",
     "iopub.status.idle": "2021-09-04T04:43:18.206951Z",
     "shell.execute_reply": "2021-09-04T04:43:18.206951Z",
     "shell.execute_reply.started": "2021-09-04T04:43:18.192989Z"
    },
    "tags": []
   },
   "outputs": [],
   "source": [
    "def train_svc_nonlinear(X,y):\n",
    "    \n",
    "    from sklearn.model_selection import train_test_split\n",
    "    from sklearn.model_selection import GridSearchCV\n",
    "    from sklearn.preprocessing import MinMaxScaler\n",
    "    import time\n",
    "    from sklearn.svm import SVC\n",
    "    start_time = time.time()\n",
    "    MM_scaler = MinMaxScaler()\n",
    "    \n",
    "    X_train_full, X_test, y_train_full, y_test = train_test_split(X,\n",
    "                                                                  y,\n",
    "                                                                  test_size=0.2,\n",
    "                                                                  random_state=1337)\n",
    "    X_train_full_scaled = MM_scaler.fit_transform(X_train_full.astype(float))\n",
    "\n",
    "    X_test_scaled = MM_scaler.transform(X_test.astype(float))\n",
    "    \n",
    "    \n",
    "    \n",
    "    C_list = np.logspace(-3,3,10)\n",
    "    parameters = {'kernel': ['poly','rbf', 'sigmoid'],\n",
    "                  'degree': [2,3,4],\n",
    "                  'gamma': ['scale'],\n",
    "                  'C':  C_list}\n",
    "\n",
    "\n",
    "    GS = GridSearchCV(\n",
    "        SVC(), parameters, cv=8, return_train_score=True\n",
    "    )\n",
    "\n",
    "    GS.fit(X_train_full_scaled, y_train_full)\n",
    "\n",
    "    best_model = GS.best_estimator_\n",
    "    # best_k = GS.cv_results_['mean_test_score'].argmax()\n",
    "    print(best_model)\n",
    "    best_params = GS.best_params_\n",
    "    best_val_acc = np.amax(GS.cv_results_['mean_test_score'])\n",
    "    best_train_acc = GS.cv_results_['mean_train_score'][np.argmax(GS.cv_results_['mean_test_score'])]\n",
    "\n",
    "    test_score_list = []\n",
    "\n",
    "    for seed in range(n_trials):\n",
    "\n",
    "        X_train_full, X_test, y_train_full, y_test = train_test_split(X,\n",
    "                                                                      y,\n",
    "                                                                     test_size=0.2,\n",
    "                                                                      random_state=seed)\n",
    "        # scale the X_train_full and X_test\n",
    "        X_train_full_scaled = MM_scaler.fit_transform(X_train_full.astype(float))\n",
    "\n",
    "        X_test_scaled = MM_scaler.transform(X_test.astype(float))\n",
    "\n",
    "\n",
    "\n",
    "        best_model.fit(X_train_full_scaled, y_train_full)\n",
    "        test_score = best_model.score(X_test_scaled, y_test)\n",
    "        test_score_list.append(test_score)\n",
    "\n",
    "    test_score_means = np.mean(test_score_list)\n",
    "    runtime = time.time() - start_time\n",
    "    'Model, Hyperparam, best params, trainacc, valacc, testacc, toppred, runtime'\n",
    "    return ['SVC (NonLinear)', 'C, degree, gamma, kernel', best_params, best_train_acc, best_val_acc, test_score_means, 'NA', runtime]\n"
   ]
  },
  {
   "cell_type": "code",
   "execution_count": 93,
   "id": "e24d339b-b660-43b4-9902-b4060d3b5842",
   "metadata": {
    "execution": {
     "iopub.execute_input": "2021-09-04T04:43:18.209943Z",
     "iopub.status.busy": "2021-09-04T04:43:18.208947Z",
     "iopub.status.idle": "2021-09-04T04:44:11.641548Z",
     "shell.execute_reply": "2021-09-04T04:44:11.640602Z",
     "shell.execute_reply.started": "2021-09-04T04:43:18.209943Z"
    },
    "tags": []
   },
   "outputs": [
    {
     "name": "stdout",
     "output_type": "stream",
     "text": [
      "SVC(C=0.021544346900318832, kernel='poly')\n"
     ]
    },
    {
     "data": {
      "text/plain": [
       "['SVC (NonLinear)',\n",
       " 'C, degree, gamma, kernel',\n",
       " {'C': 0.021544346900318832, 'degree': 3, 'gamma': 'scale', 'kernel': 'poly'},\n",
       " 0.8919731258840169,\n",
       " 0.8836633663366338,\n",
       " 0.8767326732673266,\n",
       " 'NA',\n",
       " 53.4226598739624]"
      ]
     },
     "execution_count": 93,
     "metadata": {},
     "output_type": "execute_result"
    }
   ],
   "source": [
    "res_svc_nl = train_svc_nonlinear(X, y)\n",
    "res_svc_nl"
   ]
  },
  {
   "cell_type": "markdown",
   "id": "da93684e-2173-4147-ac3f-70cf8cc05aca",
   "metadata": {},
   "source": [
    "## Random Forest CLF"
   ]
  },
  {
   "cell_type": "code",
   "execution_count": 101,
   "id": "f5e63f7d-1de7-4e7a-95c9-b5aad45a7096",
   "metadata": {
    "execution": {
     "iopub.execute_input": "2021-09-04T04:51:54.517135Z",
     "iopub.status.busy": "2021-09-04T04:51:54.517135Z",
     "iopub.status.idle": "2021-09-04T04:51:54.530101Z",
     "shell.execute_reply": "2021-09-04T04:51:54.530101Z",
     "shell.execute_reply.started": "2021-09-04T04:51:54.517135Z"
    },
    "tags": []
   },
   "outputs": [],
   "source": [
    "# PLEASE REMOVE SCALING\n",
    "def RF_clf(X,y):\n",
    "    import time\n",
    "    from sklearn.ensemble import RandomForestClassifier\n",
    "    from sklearn.model_selection import train_test_split\n",
    "    from sklearn.model_selection import GridSearchCV\n",
    "    from sklearn.preprocessing import MinMaxScaler\n",
    "    MM_scaler = MinMaxScaler()\n",
    "    \n",
    "    X_train_full, X_test, y_train_full, y_test = train_test_split(X,\n",
    "                                                                  y,\n",
    "                                                                  test_size=0.2,\n",
    "                                                                  random_state=1337)\n",
    "    X_train_full_scaled = MM_scaler.fit_transform(X_train_full.astype(float))\n",
    "\n",
    "    X_test_scaled = MM_scaler.transform(X_test.astype(float))\n",
    "    \n",
    "    start_time = time.time()\n",
    "    max_depth_list = list(np.arange(1,6))\n",
    "    parameters = {'max_depth': max_depth_list,\n",
    "                  'criterion': ['gini', 'entropy'],\n",
    "                  'n_estimators': [100],\n",
    "                 'max_features': [0.1, .2, .3, .4, .5, .7]}\n",
    "\n",
    "\n",
    "    GS = GridSearchCV(\n",
    "        RandomForestClassifier(), parameters, cv=8, return_train_score=True\n",
    "    )\n",
    "\n",
    "    GS.fit(X_train_full_scaled, y_train_full)\n",
    "\n",
    "    best_model = GS.best_estimator_\n",
    "    # best_k = GS.cv_results_['mean_test_score'].argmax()\n",
    "    print(best_model)\n",
    "    best_params = GS.best_params_\n",
    "    best_val_acc = np.amax(GS.cv_results_['mean_test_score'])\n",
    "    best_train_acc = GS.cv_results_['mean_train_score'][np.argmax(GS.cv_results_['mean_test_score'])]\n",
    "\n",
    "#     GS.best_score_, best_val_acc ###\n",
    "\n",
    "    test_score_list = []\n",
    "    coefs_list = []\n",
    "    for seed in range(n_trials):\n",
    "\n",
    "        X_train_full, X_test, y_train_full, y_test = train_test_split(X,\n",
    "                                                                      y,\n",
    "                                                                     test_size=0.2,\n",
    "                                                                      random_state=seed)\n",
    "        # scale the X_train_full and X_test\n",
    "        X_train_full_scaled = MM_scaler.fit_transform(X_train_full.astype(float))\n",
    "\n",
    "        X_test_scaled = MM_scaler.transform(X_test.astype(float))\n",
    "\n",
    "\n",
    "\n",
    "        best_model.fit(X_train_full_scaled, y_train_full)\n",
    "        test_score = best_model.score(X_test_scaled, y_test)\n",
    "        test_score_list.append(test_score)\n",
    "\n",
    "        coefs = best_model.feature_importances_\n",
    "        coefs_list.append(coefs)\n",
    "    test_score_means = np.mean(test_score_list)\n",
    "    coefs_mean = np.mean(coefs_list, axis=0)\n",
    "    # display(coefs_mean)\n",
    "\n",
    "    fig, ax = plt.subplots(figsize=(10,7))\n",
    "    ax.barh(np.arange(len(coefs_mean)), sorted(coefs_mean))\n",
    "\n",
    "    ax.set_yticks(np.arange(len(coefs_mean)))\n",
    "    ax.set_yticklabels(X.columns[np.argsort(coefs_mean)])\n",
    "    plt.show()\n",
    "    top_pred = ''\n",
    "    top_pred = X.columns[np.argmax(np.abs(coefs_mean))]\n",
    "    runtime = time.time() - start_time\n",
    "    'Model, Hyperparam, best params, trainacc, valacc, testacc, toppred, runtime'\n",
    "    return ['Random Forest CLF', 'criterion, max_depth, max_features, n_estimators',\n",
    "    best_params, best_train_acc, best_val_acc, test_score_means, top_pred, runtime]"
   ]
  },
  {
   "cell_type": "code",
   "execution_count": 102,
   "id": "a9e12828-c482-45a7-a4ff-03a8c5591b25",
   "metadata": {
    "execution": {
     "iopub.execute_input": "2021-09-04T04:51:54.531065Z",
     "iopub.status.busy": "2021-09-04T04:51:54.531065Z",
     "iopub.status.idle": "2021-09-04T04:53:06.334517Z",
     "shell.execute_reply": "2021-09-04T04:53:06.334517Z",
     "shell.execute_reply.started": "2021-09-04T04:51:54.531065Z"
    },
    "tags": []
   },
   "outputs": [
    {
     "name": "stdout",
     "output_type": "stream",
     "text": [
      "RandomForestClassifier(criterion='entropy', max_depth=5, max_features=0.7)\n"
     ]
    },
    {
     "data": {
      "image/png": "[encoded data removed]",
      "text/plain": [
       "<Figure size 1000x700 with 1 Axes>"
      ]
     },
     "metadata": {},
     "output_type": "display_data"
    },
    {
     "data": {
      "text/plain": [
       "['Random Forest CLF',\n",
       " 'criterion, max_depth, max_features, n_estimators',\n",
       " {'criterion': 'entropy',\n",
       "  'max_depth': 5,\n",
       "  'max_features': 0.7,\n",
       "  'n_estimators': 100},\n",
       " 0.9375884016973126,\n",
       " 0.8762376237623763,\n",
       " 0.8707920792079209,\n",
       " 'GWA7',\n",
       " 71.77449655532837]"
      ]
     },
     "execution_count": 102,
     "metadata": {},
     "output_type": "execute_result"
    }
   ],
   "source": [
    "res_RF = RF_clf(X,y)\n",
    "res_RF"
   ]
  },
  {
   "cell_type": "markdown",
   "id": "9b7e947e-c627-4ab0-aa2a-c316e7bcadbb",
   "metadata": {},
   "source": [
    "## Gradient Boosting CLF"
   ]
  },
  {
   "cell_type": "code",
   "execution_count": 103,
   "id": "28520518-905a-483d-9025-4344d45eea09",
   "metadata": {
    "execution": {
     "iopub.execute_input": "2021-09-04T04:53:06.336512Z",
     "iopub.status.busy": "2021-09-04T04:53:06.336512Z",
     "iopub.status.idle": "2021-09-04T04:53:06.351457Z",
     "shell.execute_reply": "2021-09-04T04:53:06.350476Z",
     "shell.execute_reply.started": "2021-09-04T04:53:06.336512Z"
    },
    "tags": []
   },
   "outputs": [],
   "source": [
    "# PLEASE REMOVE SCALING\n",
    "def GBM_clf(X,y):\n",
    "    import time\n",
    "    from sklearn.ensemble import GradientBoostingClassifier\n",
    "    from sklearn.model_selection import train_test_split\n",
    "    from sklearn.model_selection import GridSearchCV\n",
    "    from sklearn.preprocessing import MinMaxScaler\n",
    "    MM_scaler = MinMaxScaler()\n",
    "    \n",
    "    X_train_full, X_test, y_train_full, y_test = train_test_split(X,\n",
    "                                                                  y,\n",
    "                                                                  test_size=0.2,\n",
    "                                                                  random_state=1337)\n",
    "    X_train_full_scaled = MM_scaler.fit_transform(X_train_full.astype(float))\n",
    "\n",
    "    X_test_scaled = MM_scaler.transform(X_test.astype(float))\n",
    "    \n",
    "    start_time = time.time()\n",
    "    max_depth_list = list(np.arange(1,6))\n",
    "    parameters = {'max_depth': max_depth_list,\n",
    "                  'n_estimators': [100],\n",
    "                  'max_features': [0.1, .2, .3, .4, .5, .7],\n",
    "                  'learning_rate': np.arange(0.01, 0.1, 0.02)}\n",
    "\n",
    "\n",
    "    GS = GridSearchCV(\n",
    "        GradientBoostingClassifier(), parameters, cv=8, return_train_score=True\n",
    "    )\n",
    "\n",
    "    GS.fit(X_train_full_scaled, y_train_full)\n",
    "\n",
    "    best_model = GS.best_estimator_\n",
    "    # best_k = GS.cv_results_['mean_test_score'].argmax()\n",
    "    print(best_model)\n",
    "    best_params = GS.best_params_\n",
    "    best_val_acc = np.amax(GS.cv_results_['mean_test_score'])\n",
    "    best_train_acc = GS.cv_results_['mean_train_score'][np.argmax(GS.cv_results_['mean_test_score'])]\n",
    "\n",
    "#     GS.best_score_, best_val_acc ###\n",
    "\n",
    "    test_score_list = []\n",
    "    coefs_list = []\n",
    "    for seed in range(n_trials):\n",
    "\n",
    "        X_train_full, X_test, y_train_full, y_test = train_test_split(X,\n",
    "                                                                      y,\n",
    "                                                                     test_size=0.2,\n",
    "                                                                      random_state=seed)\n",
    "        # scale the X_train_full and X_test\n",
    "        X_train_full_scaled = MM_scaler.fit_transform(X_train_full.astype(float))\n",
    "\n",
    "        X_test_scaled = MM_scaler.transform(X_test.astype(float))\n",
    "\n",
    "\n",
    "\n",
    "        best_model.fit(X_train_full_scaled, y_train_full)\n",
    "        test_score = best_model.score(X_test_scaled, y_test)\n",
    "        test_score_list.append(test_score)\n",
    "\n",
    "        coefs = best_model.feature_importances_\n",
    "        coefs_list.append(coefs)\n",
    "    test_score_means = np.mean(test_score_list)\n",
    "    coefs_mean = np.mean(coefs_list, axis=0)\n",
    "    # display(coefs_mean)\n",
    "\n",
    "    fig, ax = plt.subplots(figsize=(10,7))\n",
    "    ax.barh(np.arange(len(coefs_mean)), sorted(coefs_mean))\n",
    "\n",
    "    ax.set_yticks(np.arange(len(coefs_mean)))\n",
    "    ax.set_yticklabels(X.columns[np.argsort(coefs_mean)])\n",
    "    plt.show()\n",
    "    top_pred = ''\n",
    "    top_pred = X.columns[np.argmax(np.abs(coefs_mean))]\n",
    "    runtime = time.time() - start_time\n",
    "    'Model, Hyperparam, best params, trainacc, valacc, testacc, toppred, runtime'\n",
    "    return ['GBM CLF', 'learning_rate, max_depth, max_features, n_estimators',\n",
    "    best_params, best_train_acc, best_val_acc, test_score_means, top_pred, runtime]"
   ]
  },
  {
   "cell_type": "code",
   "execution_count": 104,
   "id": "a529b0fc-3965-4fa5-a629-0291b7f5b482",
   "metadata": {
    "execution": {
     "iopub.execute_input": "2021-09-04T04:53:06.353449Z",
     "iopub.status.busy": "2021-09-04T04:53:06.352454Z",
     "iopub.status.idle": "2021-09-04T04:55:03.671495Z",
     "shell.execute_reply": "2021-09-04T04:55:03.670541Z",
     "shell.execute_reply.started": "2021-09-04T04:53:06.352454Z"
    },
    "tags": []
   },
   "outputs": [
    {
     "name": "stdout",
     "output_type": "stream",
     "text": [
      "GradientBoostingClassifier(learning_rate=0.08999999999999998, max_features=0.3)\n"
     ]
    },
    {
     "data": {
      "image/png": "[encoded data removed]",
      "text/plain": [
       "<Figure size 1000x700 with 1 Axes>"
      ]
     },
     "metadata": {},
     "output_type": "display_data"
    },
    {
     "data": {
      "text/plain": [
       "['GBM CLF',\n",
       " 'learning_rate, max_depth, max_features, n_estimators',\n",
       " {'learning_rate': 0.08999999999999998,\n",
       "  'max_depth': 3,\n",
       "  'max_features': 0.3,\n",
       "  'n_estimators': 100},\n",
       " 0.9775459688826025,\n",
       " 0.8923267326732673,\n",
       " 0.8821782178217823,\n",
       " 'GWA7',\n",
       " 117.2941243648529]"
      ]
     },
     "execution_count": 104,
     "metadata": {},
     "output_type": "execute_result"
    }
   ],
   "source": [
    "res_GBM = GBM_clf(X, y)\n",
    "res_GBM"
   ]
  },
  {
   "cell_type": "markdown",
   "id": "92f3a83b-99ed-47df-85e9-7d729c8a55fa",
   "metadata": {},
   "source": [
    "# Summary"
   ]
  },
  {
   "cell_type": "code",
   "execution_count": 105,
   "id": "50535df0-8434-4d51-8194-3854d1d4ea56",
   "metadata": {
    "execution": {
     "iopub.execute_input": "2021-09-04T04:55:03.672493Z",
     "iopub.status.busy": "2021-09-04T04:55:03.672493Z",
     "iopub.status.idle": "2021-09-04T04:55:03.717374Z",
     "shell.execute_reply": "2021-09-04T04:55:03.716375Z",
     "shell.execute_reply.started": "2021-09-04T04:55:03.672493Z"
    },
    "tags": []
   },
   "outputs": [
    {
     "data": {
      "text/html": [
       "<div>\n",
       "<style scoped>\n",
       "    .dataframe tbody tr th:only-of-type {\n",
       "        vertical-align: middle;\n",
       "    }\n",
       "\n",
       "    .dataframe tbody tr th {\n",
       "        vertical-align: top;\n",
       "    }\n",
       "\n",
       "    .dataframe thead th {\n",
       "        text-align: right;\n",
       "    }\n",
       "</style>\n",
       "<table border=\"1\" class=\"dataframe\">\n",
       "  <thead>\n",
       "    <tr style=\"text-align: right;\">\n",
       "      <th></th>\n",
       "      <th>ML Model</th>\n",
       "      <th>Hyperparameter</th>\n",
       "      <th>Best Parameters</th>\n",
       "      <th>Best Train Accuracy</th>\n",
       "      <th>Best Validation Accuracy</th>\n",
       "      <th>Best Test Accuracy</th>\n",
       "      <th>Top Predictor</th>\n",
       "      <th>Run Time</th>\n",
       "    </tr>\n",
       "  </thead>\n",
       "  <tbody>\n",
       "    <tr>\n",
       "      <th>0</th>\n",
       "      <td>Knn</td>\n",
       "      <td>n_neighbor</td>\n",
       "      <td>42</td>\n",
       "      <td>0.882426</td>\n",
       "      <td>0.882426</td>\n",
       "      <td>0.873267</td>\n",
       "      <td>NA</td>\n",
       "      <td>22.471612</td>\n",
       "    </tr>\n",
       "    <tr>\n",
       "      <th>1</th>\n",
       "      <td>Logistic Regression (l1)</td>\n",
       "      <td>C</td>\n",
       "      <td>2.154435</td>\n",
       "      <td>0.887376</td>\n",
       "      <td>0.882426</td>\n",
       "      <td>0.870792</td>\n",
       "      <td>Eng9</td>\n",
       "      <td>2.322818</td>\n",
       "    </tr>\n",
       "    <tr>\n",
       "      <th>2</th>\n",
       "      <td>Logistic Regression (l2)</td>\n",
       "      <td>C</td>\n",
       "      <td>0.464159</td>\n",
       "      <td>0.886315</td>\n",
       "      <td>0.887376</td>\n",
       "      <td>0.879208</td>\n",
       "      <td>Eng9</td>\n",
       "      <td>1.423191</td>\n",
       "    </tr>\n",
       "    <tr>\n",
       "      <th>3</th>\n",
       "      <td>Logistic Regression (l1)</td>\n",
       "      <td>C</td>\n",
       "      <td>215.443469</td>\n",
       "      <td>0.888260</td>\n",
       "      <td>0.878713</td>\n",
       "      <td>0.872772</td>\n",
       "      <td>GWA9</td>\n",
       "      <td>5.160189</td>\n",
       "    </tr>\n",
       "    <tr>\n",
       "      <th>4</th>\n",
       "      <td>Logistic Regression (l2)</td>\n",
       "      <td>C</td>\n",
       "      <td>10.0</td>\n",
       "      <td>0.889675</td>\n",
       "      <td>0.881188</td>\n",
       "      <td>0.876238</td>\n",
       "      <td>Sci7</td>\n",
       "      <td>2.493322</td>\n",
       "    </tr>\n",
       "    <tr>\n",
       "      <th>5</th>\n",
       "      <td>SVC (NonLinear)</td>\n",
       "      <td>C, degree, gamma, kernel</td>\n",
       "      <td>{'C': 0.021544346900318832, 'degree': 3, 'gamm...</td>\n",
       "      <td>0.891973</td>\n",
       "      <td>0.883663</td>\n",
       "      <td>0.876733</td>\n",
       "      <td>NA</td>\n",
       "      <td>53.422660</td>\n",
       "    </tr>\n",
       "    <tr>\n",
       "      <th>6</th>\n",
       "      <td>Random Forest CLF</td>\n",
       "      <td>criterion, max_depth, max_features, n_estimators</td>\n",
       "      <td>{'criterion': 'entropy', 'max_depth': 5, 'max_...</td>\n",
       "      <td>0.937588</td>\n",
       "      <td>0.876238</td>\n",
       "      <td>0.870792</td>\n",
       "      <td>GWA7</td>\n",
       "      <td>71.774497</td>\n",
       "    </tr>\n",
       "    <tr>\n",
       "      <th>7</th>\n",
       "      <td>GBM CLF</td>\n",
       "      <td>learning_rate, max_depth, max_features, n_esti...</td>\n",
       "      <td>{'learning_rate': 0.08999999999999998, 'max_de...</td>\n",
       "      <td>0.977546</td>\n",
       "      <td>0.892327</td>\n",
       "      <td>0.882178</td>\n",
       "      <td>GWA7</td>\n",
       "      <td>117.294124</td>\n",
       "    </tr>\n",
       "  </tbody>\n",
       "</table>\n",
       "</div>"
      ],
      "text/plain": [
       "                   ML Model  \\\n",
       "0                       Knn   \n",
       "1  Logistic Regression (l1)   \n",
       "2  Logistic Regression (l2)   \n",
       "3  Logistic Regression (l1)   \n",
       "4  Logistic Regression (l2)   \n",
       "5           SVC (NonLinear)   \n",
       "6         Random Forest CLF   \n",
       "7                   GBM CLF   \n",
       "\n",
       "                                      Hyperparameter  \\\n",
       "0                                         n_neighbor   \n",
       "1                                                  C   \n",
       "2                                                  C   \n",
       "3                                                  C   \n",
       "4                                                  C   \n",
       "5                           C, degree, gamma, kernel   \n",
       "6   criterion, max_depth, max_features, n_estimators   \n",
       "7  learning_rate, max_depth, max_features, n_esti...   \n",
       "\n",
       "                                     Best Parameters  Best Train Accuracy  \\\n",
       "0                                                 42             0.882426   \n",
       "1                                           2.154435             0.887376   \n",
       "2                                           0.464159             0.886315   \n",
       "3                                         215.443469             0.888260   \n",
       "4                                               10.0             0.889675   \n",
       "5  {'C': 0.021544346900318832, 'degree': 3, 'gamm...             0.891973   \n",
       "6  {'criterion': 'entropy', 'max_depth': 5, 'max_...             0.937588   \n",
       "7  {'learning_rate': 0.08999999999999998, 'max_de...             0.977546   \n",
       "\n",
       "   Best Validation Accuracy  Best Test Accuracy Top Predictor    Run Time  \n",
       "0                  0.882426            0.873267            NA   22.471612  \n",
       "1                  0.882426            0.870792          Eng9    2.322818  \n",
       "2                  0.887376            0.879208          Eng9    1.423191  \n",
       "3                  0.878713            0.872772          GWA9    5.160189  \n",
       "4                  0.881188            0.876238          Sci7    2.493322  \n",
       "5                  0.883663            0.876733            NA   53.422660  \n",
       "6                  0.876238            0.870792          GWA7   71.774497  \n",
       "7                  0.892327            0.882178          GWA7  117.294124  "
      ]
     },
     "execution_count": 105,
     "metadata": {},
     "output_type": "execute_result"
    }
   ],
   "source": [
    "models_list = [res_knn, res_svc_l1, res_svc_l2, res_logi_l1,\n",
    "              res_logi_l2, res_svc_nl, res_RF, res_GBM]\n",
    "col_summary = ['ML Model', \n",
    "           'Hyperparameter', \n",
    "           'Best Parameters', \n",
    "           'Best Train Accuracy', \n",
    "           'Best Validation Accuracy', \n",
    "           'Best Test Accuracy', \n",
    "           'Top Predictor', \n",
    "           'Run Time']\n",
    "df_summary = pd.DataFrame(columns=col_summary)\n",
    "\n",
    "for i, model in enumerate(models_list):\n",
    "    df_summary.loc[i] = model\n",
    "df_summary"
   ]
  },
  {
   "cell_type": "code",
   "execution_count": 106,
   "id": "9c9e6f0b-1562-45a2-be49-d42a5ec96465",
   "metadata": {
    "execution": {
     "iopub.execute_input": "2021-09-04T04:55:03.717374Z",
     "iopub.status.busy": "2021-09-04T04:55:03.717374Z",
     "iopub.status.idle": "2021-09-04T04:55:03.732355Z",
     "shell.execute_reply": "2021-09-04T04:55:03.732355Z",
     "shell.execute_reply.started": "2021-09-04T04:55:03.717374Z"
    },
    "tags": []
   },
   "outputs": [],
   "source": [
    "df_summary.loc[:, 'Best Parameters'] = df_summary['Best Parameters'].apply(lambda x: x.values() if type(x)==dict else x)"
   ]
  },
  {
   "cell_type": "code",
   "execution_count": 107,
   "id": "0011beb0-7fd1-47ab-a6eb-812fa0a6586f",
   "metadata": {
    "execution": {
     "iopub.execute_input": "2021-09-04T04:55:03.733328Z",
     "iopub.status.busy": "2021-09-04T04:55:03.733328Z",
     "iopub.status.idle": "2021-09-04T04:55:03.748332Z",
     "shell.execute_reply": "2021-09-04T04:55:03.748332Z",
     "shell.execute_reply.started": "2021-09-04T04:55:03.733328Z"
    },
    "tags": []
   },
   "outputs": [
    {
     "data": {
      "text/html": [
       "<div>\n",
       "<style scoped>\n",
       "    .dataframe tbody tr th:only-of-type {\n",
       "        vertical-align: middle;\n",
       "    }\n",
       "\n",
       "    .dataframe tbody tr th {\n",
       "        vertical-align: top;\n",
       "    }\n",
       "\n",
       "    .dataframe thead th {\n",
       "        text-align: right;\n",
       "    }\n",
       "</style>\n",
       "<table border=\"1\" class=\"dataframe\">\n",
       "  <thead>\n",
       "    <tr style=\"text-align: right;\">\n",
       "      <th></th>\n",
       "      <th>ML Model</th>\n",
       "      <th>Hyperparameter</th>\n",
       "      <th>Best Parameters</th>\n",
       "      <th>Best Train Accuracy</th>\n",
       "      <th>Best Validation Accuracy</th>\n",
       "      <th>Best Test Accuracy</th>\n",
       "      <th>Top Predictor</th>\n",
       "      <th>Run Time</th>\n",
       "    </tr>\n",
       "  </thead>\n",
       "  <tbody>\n",
       "    <tr>\n",
       "      <th>0</th>\n",
       "      <td>Knn</td>\n",
       "      <td>n_neighbor</td>\n",
       "      <td>42</td>\n",
       "      <td>0.882426</td>\n",
       "      <td>0.882426</td>\n",
       "      <td>0.873267</td>\n",
       "      <td>NA</td>\n",
       "      <td>22.471612</td>\n",
       "    </tr>\n",
       "    <tr>\n",
       "      <th>1</th>\n",
       "      <td>Logistic Regression (l1)</td>\n",
       "      <td>C</td>\n",
       "      <td>2.154435</td>\n",
       "      <td>0.887376</td>\n",
       "      <td>0.882426</td>\n",
       "      <td>0.870792</td>\n",
       "      <td>Eng9</td>\n",
       "      <td>2.322818</td>\n",
       "    </tr>\n",
       "    <tr>\n",
       "      <th>2</th>\n",
       "      <td>Logistic Regression (l2)</td>\n",
       "      <td>C</td>\n",
       "      <td>0.464159</td>\n",
       "      <td>0.886315</td>\n",
       "      <td>0.887376</td>\n",
       "      <td>0.879208</td>\n",
       "      <td>Eng9</td>\n",
       "      <td>1.423191</td>\n",
       "    </tr>\n",
       "    <tr>\n",
       "      <th>3</th>\n",
       "      <td>Logistic Regression (l1)</td>\n",
       "      <td>C</td>\n",
       "      <td>215.443469</td>\n",
       "      <td>0.888260</td>\n",
       "      <td>0.878713</td>\n",
       "      <td>0.872772</td>\n",
       "      <td>GWA9</td>\n",
       "      <td>5.160189</td>\n",
       "    </tr>\n",
       "    <tr>\n",
       "      <th>4</th>\n",
       "      <td>Logistic Regression (l2)</td>\n",
       "      <td>C</td>\n",
       "      <td>10.0</td>\n",
       "      <td>0.889675</td>\n",
       "      <td>0.881188</td>\n",
       "      <td>0.876238</td>\n",
       "      <td>Sci7</td>\n",
       "      <td>2.493322</td>\n",
       "    </tr>\n",
       "    <tr>\n",
       "      <th>5</th>\n",
       "      <td>SVC (NonLinear)</td>\n",
       "      <td>C, degree, gamma, kernel</td>\n",
       "      <td>(0.021544346900318832, 3, scale, poly)</td>\n",
       "      <td>0.891973</td>\n",
       "      <td>0.883663</td>\n",
       "      <td>0.876733</td>\n",
       "      <td>NA</td>\n",
       "      <td>53.422660</td>\n",
       "    </tr>\n",
       "    <tr>\n",
       "      <th>6</th>\n",
       "      <td>Random Forest CLF</td>\n",
       "      <td>criterion, max_depth, max_features, n_estimators</td>\n",
       "      <td>(entropy, 5, 0.7, 100)</td>\n",
       "      <td>0.937588</td>\n",
       "      <td>0.876238</td>\n",
       "      <td>0.870792</td>\n",
       "      <td>GWA7</td>\n",
       "      <td>71.774497</td>\n",
       "    </tr>\n",
       "    <tr>\n",
       "      <th>7</th>\n",
       "      <td>GBM CLF</td>\n",
       "      <td>learning_rate, max_depth, max_features, n_esti...</td>\n",
       "      <td>(0.08999999999999998, 3, 0.3, 100)</td>\n",
       "      <td>0.977546</td>\n",
       "      <td>0.892327</td>\n",
       "      <td>0.882178</td>\n",
       "      <td>GWA7</td>\n",
       "      <td>117.294124</td>\n",
       "    </tr>\n",
       "  </tbody>\n",
       "</table>\n",
       "</div>"
      ],
      "text/plain": [
       "                   ML Model  \\\n",
       "0                       Knn   \n",
       "1  Logistic Regression (l1)   \n",
       "2  Logistic Regression (l2)   \n",
       "3  Logistic Regression (l1)   \n",
       "4  Logistic Regression (l2)   \n",
       "5           SVC (NonLinear)   \n",
       "6         Random Forest CLF   \n",
       "7                   GBM CLF   \n",
       "\n",
       "                                      Hyperparameter  \\\n",
       "0                                         n_neighbor   \n",
       "1                                                  C   \n",
       "2                                                  C   \n",
       "3                                                  C   \n",
       "4                                                  C   \n",
       "5                           C, degree, gamma, kernel   \n",
       "6   criterion, max_depth, max_features, n_estimators   \n",
       "7  learning_rate, max_depth, max_features, n_esti...   \n",
       "\n",
       "                          Best Parameters  Best Train Accuracy  \\\n",
       "0                                      42             0.882426   \n",
       "1                                2.154435             0.887376   \n",
       "2                                0.464159             0.886315   \n",
       "3                              215.443469             0.888260   \n",
       "4                                    10.0             0.889675   \n",
       "5  (0.021544346900318832, 3, scale, poly)             0.891973   \n",
       "6                  (entropy, 5, 0.7, 100)             0.937588   \n",
       "7      (0.08999999999999998, 3, 0.3, 100)             0.977546   \n",
       "\n",
       "   Best Validation Accuracy  Best Test Accuracy Top Predictor    Run Time  \n",
       "0                  0.882426            0.873267            NA   22.471612  \n",
       "1                  0.882426            0.870792          Eng9    2.322818  \n",
       "2                  0.887376            0.879208          Eng9    1.423191  \n",
       "3                  0.878713            0.872772          GWA9    5.160189  \n",
       "4                  0.881188            0.876238          Sci7    2.493322  \n",
       "5                  0.883663            0.876733            NA   53.422660  \n",
       "6                  0.876238            0.870792          GWA7   71.774497  \n",
       "7                  0.892327            0.882178          GWA7  117.294124  "
      ]
     },
     "execution_count": 107,
     "metadata": {},
     "output_type": "execute_result"
    }
   ],
   "source": [
    "df_summary"
   ]
  }
 ],
 "metadata": {
  "kernelspec": {
   "display_name": "Python 3 (ipykernel)",
   "language": "python",
   "name": "python3"
  },
  "language_info": {
   "codemirror_mode": {
    "name": "ipython",
    "version": 3
   },
   "file_extension": ".py",
   "mimetype": "text/x-python",
   "name": "python",
   "nbconvert_exporter": "python",
   "pygments_lexer": "ipython3",
   "version": "3.8.11"
  }
 },
 "nbformat": 4,
 "nbformat_minor": 5
}
