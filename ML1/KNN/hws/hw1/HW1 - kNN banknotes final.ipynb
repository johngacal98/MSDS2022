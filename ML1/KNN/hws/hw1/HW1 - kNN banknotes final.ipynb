{
 "cells": [
  {
   "cell_type": "code",
   "execution_count": 23,
   "id": "462d1a61-7bd8-4b3c-a812-b6376ab4ef41",
   "metadata": {
    "ExecuteTime": {
     "end_time": "2021-07-27T14:21:03.309558Z",
     "start_time": "2021-07-27T14:21:03.305043Z"
    },
    "execution": {
     "iopub.execute_input": "2021-07-28T10:13:25.497994Z",
     "iopub.status.busy": "2021-07-28T10:13:25.496972Z",
     "iopub.status.idle": "2021-07-28T10:13:29.674876Z",
     "shell.execute_reply": "2021-07-28T10:13:29.672885Z",
     "shell.execute_reply.started": "2021-07-28T10:13:25.497994Z"
    },
    "tags": []
   },
   "outputs": [],
   "source": [
    "from sklearn.model_selection import train_test_split\n",
    "from sklearn.neighbors import KNeighborsClassifier\n",
    "import pandas as pd\n",
    "import numpy as np\n",
    "import matplotlib.pyplot as plt\n",
    "from sklearn.preprocessing import normalize"
   ]
  },
  {
   "cell_type": "code",
   "execution_count": 69,
   "id": "a6a64c20",
   "metadata": {
    "ExecuteTime": {
     "end_time": "2021-07-27T14:21:15.284955Z",
     "start_time": "2021-07-27T14:21:15.274299Z"
    }
   },
   "outputs": [],
   "source": [
    "data = pd.read_csv('data_banknote_authentication.csv', names=['Variance','Skewness','Kurtosis', 'Entropy of image','class'])"
   ]
  },
  {
   "cell_type": "code",
   "execution_count": 16,
   "id": "d45af819",
   "metadata": {
    "ExecuteTime": {
     "end_time": "2021-07-27T04:44:05.909751Z",
     "start_time": "2021-07-27T04:44:05.894638Z"
    }
   },
   "outputs": [
    {
     "data": {
      "text/html": [
       "<div>\n",
       "<style scoped>\n",
       "    .dataframe tbody tr th:only-of-type {\n",
       "        vertical-align: middle;\n",
       "    }\n",
       "\n",
       "    .dataframe tbody tr th {\n",
       "        vertical-align: top;\n",
       "    }\n",
       "\n",
       "    .dataframe thead th {\n",
       "        text-align: right;\n",
       "    }\n",
       "</style>\n",
       "<table border=\"1\" class=\"dataframe\">\n",
       "  <thead>\n",
       "    <tr style=\"text-align: right;\">\n",
       "      <th></th>\n",
       "      <th>Variance</th>\n",
       "      <th>Skewness</th>\n",
       "      <th>Kurtosis</th>\n",
       "      <th>Entropy of image</th>\n",
       "      <th>class</th>\n",
       "    </tr>\n",
       "  </thead>\n",
       "  <tbody>\n",
       "    <tr>\n",
       "      <th>0</th>\n",
       "      <td>3.62160</td>\n",
       "      <td>8.66610</td>\n",
       "      <td>-2.8073</td>\n",
       "      <td>-0.44699</td>\n",
       "      <td>0</td>\n",
       "    </tr>\n",
       "    <tr>\n",
       "      <th>1</th>\n",
       "      <td>4.54590</td>\n",
       "      <td>8.16740</td>\n",
       "      <td>-2.4586</td>\n",
       "      <td>-1.46210</td>\n",
       "      <td>0</td>\n",
       "    </tr>\n",
       "    <tr>\n",
       "      <th>2</th>\n",
       "      <td>3.86600</td>\n",
       "      <td>-2.63830</td>\n",
       "      <td>1.9242</td>\n",
       "      <td>0.10645</td>\n",
       "      <td>0</td>\n",
       "    </tr>\n",
       "    <tr>\n",
       "      <th>3</th>\n",
       "      <td>3.45660</td>\n",
       "      <td>9.52280</td>\n",
       "      <td>-4.0112</td>\n",
       "      <td>-3.59440</td>\n",
       "      <td>0</td>\n",
       "    </tr>\n",
       "    <tr>\n",
       "      <th>4</th>\n",
       "      <td>0.32924</td>\n",
       "      <td>-4.45520</td>\n",
       "      <td>4.5718</td>\n",
       "      <td>-0.98880</td>\n",
       "      <td>0</td>\n",
       "    </tr>\n",
       "    <tr>\n",
       "      <th>...</th>\n",
       "      <td>...</td>\n",
       "      <td>...</td>\n",
       "      <td>...</td>\n",
       "      <td>...</td>\n",
       "      <td>...</td>\n",
       "    </tr>\n",
       "    <tr>\n",
       "      <th>1367</th>\n",
       "      <td>0.40614</td>\n",
       "      <td>1.34920</td>\n",
       "      <td>-1.4501</td>\n",
       "      <td>-0.55949</td>\n",
       "      <td>1</td>\n",
       "    </tr>\n",
       "    <tr>\n",
       "      <th>1368</th>\n",
       "      <td>-1.38870</td>\n",
       "      <td>-4.87730</td>\n",
       "      <td>6.4774</td>\n",
       "      <td>0.34179</td>\n",
       "      <td>1</td>\n",
       "    </tr>\n",
       "    <tr>\n",
       "      <th>1369</th>\n",
       "      <td>-3.75030</td>\n",
       "      <td>-13.45860</td>\n",
       "      <td>17.5932</td>\n",
       "      <td>-2.77710</td>\n",
       "      <td>1</td>\n",
       "    </tr>\n",
       "    <tr>\n",
       "      <th>1370</th>\n",
       "      <td>-3.56370</td>\n",
       "      <td>-8.38270</td>\n",
       "      <td>12.3930</td>\n",
       "      <td>-1.28230</td>\n",
       "      <td>1</td>\n",
       "    </tr>\n",
       "    <tr>\n",
       "      <th>1371</th>\n",
       "      <td>-2.54190</td>\n",
       "      <td>-0.65804</td>\n",
       "      <td>2.6842</td>\n",
       "      <td>1.19520</td>\n",
       "      <td>1</td>\n",
       "    </tr>\n",
       "  </tbody>\n",
       "</table>\n",
       "<p>1372 rows × 5 columns</p>\n",
       "</div>"
      ],
      "text/plain": [
       "      Variance  Skewness  Kurtosis  Entropy of image  class\n",
       "0      3.62160   8.66610   -2.8073          -0.44699      0\n",
       "1      4.54590   8.16740   -2.4586          -1.46210      0\n",
       "2      3.86600  -2.63830    1.9242           0.10645      0\n",
       "3      3.45660   9.52280   -4.0112          -3.59440      0\n",
       "4      0.32924  -4.45520    4.5718          -0.98880      0\n",
       "...        ...       ...       ...               ...    ...\n",
       "1367   0.40614   1.34920   -1.4501          -0.55949      1\n",
       "1368  -1.38870  -4.87730    6.4774           0.34179      1\n",
       "1369  -3.75030 -13.45860   17.5932          -2.77710      1\n",
       "1370  -3.56370  -8.38270   12.3930          -1.28230      1\n",
       "1371  -2.54190  -0.65804    2.6842           1.19520      1\n",
       "\n",
       "[1372 rows x 5 columns]"
      ]
     },
     "execution_count": 16,
     "metadata": {},
     "output_type": "execute_result"
    }
   ],
   "source": [
    "data #1 = fake, 0=real"
   ]
  },
  {
   "cell_type": "code",
   "execution_count": 72,
   "id": "83c340b5",
   "metadata": {
    "ExecuteTime": {
     "end_time": "2021-07-27T14:23:13.202400Z",
     "start_time": "2021-07-27T14:23:13.193821Z"
    }
   },
   "outputs": [],
   "source": [
    "try_x = normalize(data.iloc[:, 0:4], norm='l2', axis=0)"
   ]
  },
  {
   "cell_type": "code",
   "execution_count": 122,
   "id": "e7f97685",
   "metadata": {
    "ExecuteTime": {
     "end_time": "2021-07-27T14:57:36.389258Z",
     "start_time": "2021-07-27T14:57:36.383011Z"
    }
   },
   "outputs": [
    {
     "data": {
      "text/plain": [
       "array([[ 0.03401265,  0.03789594, -0.0167326 , -0.00499742],\n",
       "       [ 0.04269332,  0.03571518, -0.01465421, -0.01634652],\n",
       "       [ 0.03630796, -0.01153701,  0.01146898,  0.00119013],\n",
       "       ...,\n",
       "       [-0.03522135, -0.05885304,  0.10486233, -0.03104844],\n",
       "       [-0.03346888, -0.03665667,  0.07386711, -0.01433633],\n",
       "       [-0.02387253, -0.00287754,  0.01599888,  0.01336254]])"
      ]
     },
     "execution_count": 122,
     "metadata": {},
     "output_type": "execute_result"
    }
   ],
   "source": [
    "try_x"
   ]
  },
  {
   "cell_type": "code",
   "execution_count": 18,
   "id": "c5abb078",
   "metadata": {
    "ExecuteTime": {
     "end_time": "2021-07-27T04:44:07.448619Z",
     "start_time": "2021-07-27T04:44:07.442701Z"
    }
   },
   "outputs": [
    {
     "data": {
      "text/plain": [
       "Variance            0\n",
       "Skewness            0\n",
       "Kurtosis            0\n",
       "Entropy of image    0\n",
       "class               0\n",
       "dtype: int64"
      ]
     },
     "execution_count": 18,
     "metadata": {},
     "output_type": "execute_result"
    }
   ],
   "source": [
    "data.isna().sum()"
   ]
  },
  {
   "cell_type": "code",
   "execution_count": null,
   "id": "c276095a",
   "metadata": {},
   "outputs": [],
   "source": []
  },
  {
   "cell_type": "code",
   "execution_count": 20,
   "id": "3cdfa140",
   "metadata": {
    "ExecuteTime": {
     "end_time": "2021-07-27T04:44:08.979164Z",
     "start_time": "2021-07-27T04:44:08.976196Z"
    }
   },
   "outputs": [],
   "source": [
    "#defining features and target into X and y respectively\n",
    "X = data.iloc[:, 0:4]\n",
    "y = data.iloc[:, 4]"
   ]
  },
  {
   "cell_type": "code",
   "execution_count": 22,
   "id": "7ff4de44",
   "metadata": {
    "ExecuteTime": {
     "end_time": "2021-07-27T04:44:10.650330Z",
     "start_time": "2021-07-27T04:44:10.510315Z"
    }
   },
   "outputs": [
    {
     "data": {
      "text/plain": [
       "Counter({0: 762, 1: 610})"
      ]
     },
     "metadata": {},
     "output_type": "display_data"
    },
    {
     "name": "stdout",
     "output_type": "stream",
     "text": [
      "Population per class:     0\n",
      "0  762\n",
      "1  610\n",
      "Proportion Chance Criterion: 50.61%\n",
      "1.25 * Proportion Chance Criterion: 63.27%\n"
     ]
    },
    {
     "data": {
      "image/png": "[encoded data removed]",
      "text/plain": [
       "<Figure size 432x288 with 1 Axes>"
      ]
     },
     "metadata": {
      "needs_background": "light"
     },
     "output_type": "display_data"
    }
   ],
   "source": [
    "from collections import Counter\n",
    "state_counts = Counter(y)\n",
    "display(state_counts)\n",
    "df_state = pd.DataFrame.from_dict(state_counts, orient='index')\n",
    "df_state.plot(kind='bar')\n",
    "\n",
    "num=(df_state[0]/df_state[0].sum())**2\n",
    "\n",
    "print(\"Population per class:{}\".format(df_state))\n",
    "\n",
    "print(\"Proportion Chance Criterion: {:0.2f}%\".format(100*num.sum()))\n",
    "print(\"1.25 * Proportion Chance Criterion: {:0.2f}%\".format(1.25*100*num.sum()))"
   ]
  },
  {
   "cell_type": "code",
   "execution_count": null,
   "id": "bfb67888",
   "metadata": {
    "ExecuteTime": {
     "end_time": "2021-07-27T02:49:36.591316Z",
     "start_time": "2021-07-27T02:49:36.583358Z"
    }
   },
   "outputs": [],
   "source": []
  },
  {
   "cell_type": "code",
   "execution_count": 73,
   "id": "9bd4dfef",
   "metadata": {
    "ExecuteTime": {
     "end_time": "2021-07-27T14:25:09.240451Z",
     "start_time": "2021-07-27T14:23:17.257242Z"
    }
   },
   "outputs": [],
   "source": [
    "lahat_training = pd.DataFrame()\n",
    "lahat_test = pd.DataFrame()\n",
    "for seedN in range(1,31,1):\n",
    "    \n",
    "    X_train, X_test, y_train, y_test = train_test_split(try_x,y, \n",
    "                                                        test_size=0.25, random_state=seedN)\n",
    "    training_accuracy = []\n",
    "    test_accuracy = []\n",
    "    neighbors_settings = range(1, 70) # try n_neighbors from 1 to 50\n",
    "\n",
    "    for n_neighbors in neighbors_settings:   \n",
    "        clf = KNeighborsClassifier(n_neighbors=n_neighbors)  # build the model\n",
    "        clf.fit(X_train, y_train)\n",
    "\n",
    "        training_accuracy.append(clf.score(X_train, y_train)) # record training set accuracy\n",
    "        test_accuracy.append(clf.score(X_test, y_test))   # record generalization accuracy\n",
    "    \n",
    "    lahat_training[seedN]=training_accuracy\n",
    "    lahat_test[seedN] = test_accuracy"
   ]
  },
  {
   "cell_type": "code",
   "execution_count": 74,
   "id": "d92e0699",
   "metadata": {
    "ExecuteTime": {
     "end_time": "2021-07-27T14:25:11.714484Z",
     "start_time": "2021-07-27T14:25:11.463111Z"
    }
   },
   "outputs": [
    {
     "data": {
      "text/plain": [
       "<matplotlib.legend.Legend at 0x7f90611f5dc0>"
      ]
     },
     "execution_count": 74,
     "metadata": {},
     "output_type": "execute_result"
    },
    {
     "data": {
      "image/png": "[encoded data removed]",
      "text/plain": [
       "<Figure size 432x288 with 1 Axes>"
      ]
     },
     "metadata": {
      "needs_background": "light"
     },
     "output_type": "display_data"
    }
   ],
   "source": [
    "plt.errorbar(neighbors_settings, lahat_training.mean(axis=1),\n",
    "             yerr=lahat_training.std(axis=1)/2, label=\"training accuracy\")\n",
    "plt.errorbar(neighbors_settings, lahat_test.mean(axis=1),\n",
    "             yerr=lahat_test.std(axis=1)/6, label=\"test accuracy\")\n",
    "plt.ylabel(\"Accuracy\")\n",
    "plt.xlabel(\"n_neighbors\")\n",
    "plt.legend()"
   ]
  },
  {
   "cell_type": "code",
   "execution_count": 147,
   "id": "8fca934b",
   "metadata": {
    "ExecuteTime": {
     "end_time": "2021-07-27T18:31:09.852316Z",
     "start_time": "2021-07-27T18:31:09.844787Z"
    }
   },
   "outputs": [
    {
     "name": "stdout",
     "output_type": "stream",
     "text": [
      "optimal neighbor k = 10\n",
      "test score = 0.9992225461613219\n"
     ]
    }
   ],
   "source": [
    "optimal_k = lahat_test.mean(axis=1).idxmax()\n",
    "test_optimal = lahat_test.mean(axis=1)[optimal_k]\n",
    "\n",
    "print(f'optimal neighbor k = {optimal_k+1}\\ntest score = {test_optimal}')"
   ]
  },
  {
   "cell_type": "code",
   "execution_count": 148,
   "id": "10fe5692",
   "metadata": {
    "ExecuteTime": {
     "end_time": "2021-07-27T18:31:24.158493Z",
     "start_time": "2021-07-27T18:31:22.719625Z"
    }
   },
   "outputs": [
    {
     "name": "stdout",
     "output_type": "stream",
     "text": [
      "k = 10\n",
      "Training score avg: 0.9988662131519275\n",
      "Test score avg: 0.9992225461613218\n"
     ]
    }
   ],
   "source": [
    "### choosing different k ranging from 2-10\n",
    "k=10\n",
    "training_accuracy = []\n",
    "test_accuracy = []\n",
    "\n",
    "for seed in range(1,31):\n",
    "    X_train, X_test, y_train, y_test = train_test_split(try_x, y,test_size=0.25, random_state=seed)\n",
    "    \n",
    "    clf = KNeighborsClassifier(n_neighbors=k)  # build the model\n",
    "    clf.fit(X_train, y_train)\n",
    "    \n",
    "    training_accuracy.append(clf.score(X_train, y_train)) # record training set accuracy\n",
    "    test_accuracy.append(clf.score(X_test, y_test))\n",
    "train_mean = np.array(training_accuracy).mean()\n",
    "test_mean = np.array(test_accuracy).mean()\n",
    "\n",
    "\n",
    "print(f'k = {k}')    \n",
    "print(f'Training score avg: {train_mean}')\n",
    "print(f'Test score avg: {test_mean}')"
   ]
  }
 ],
 "metadata": {
  "kernelspec": {
   "display_name": "Python 3 (ipykernel)",
   "language": "python",
   "name": "python3"
  },
  "language_info": {
   "codemirror_mode": {
    "name": "ipython",
    "version": 3
   },
   "file_extension": ".py",
   "mimetype": "text/x-python",
   "name": "python",
   "nbconvert_exporter": "python",
   "pygments_lexer": "ipython3",
   "version": "3.8.11"
  },
  "toc": {
   "base_numbering": 1,
   "nav_menu": {},
   "number_sections": true,
   "sideBar": true,
   "skip_h1_title": false,
   "title_cell": "Table of Contents",
   "title_sidebar": "Contents",
   "toc_cell": false,
   "toc_position": {},
   "toc_section_display": true,
   "toc_window_display": false
  },
  "toc-autonumbering": true,
  "toc-showcode": false,
  "toc-showmarkdowntxt": false
 },
 "nbformat": 4,
 "nbformat_minor": 5
}
