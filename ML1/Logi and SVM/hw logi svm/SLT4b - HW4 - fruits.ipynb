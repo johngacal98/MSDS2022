{
 "cells": [
  {
   "cell_type": "markdown",
   "id": "8dd6d602-01f6-49bc-9b09-b5c0e1865c9e",
   "metadata": {},
   "source": [
    "# INSTRUCTIONS AND QUESTIONS"
   ]
  },
  {
   "cell_type": "markdown",
   "id": "da90df2e-69aa-48bb-b83e-8a635a29fe0f",
   "metadata": {},
   "source": [
    "Use our notebooks to create the following:\n",
    "\n",
    "1. Histogram plot (fruits of each kind, 2 pts) .\n",
    "\n",
    "2. Scatter plot (2 pts).\n",
    "\n",
    "3. Implement kNN, Logistic Regression (L1, L2 regularization) and LinearSVM (L1, L2 regularization) and in table form list the test accuracy, optimal hyperparameter, top predictors. (11 pts)"
   ]
  },
  {
   "cell_type": "code",
   "execution_count": 139,
   "id": "82115248-1361-4518-b6de-82c5b057a36b",
   "metadata": {
    "execution": {
     "iopub.execute_input": "2021-08-11T13:19:09.319835Z",
     "iopub.status.busy": "2021-08-11T13:19:09.319835Z",
     "iopub.status.idle": "2021-08-11T13:19:09.333779Z",
     "shell.execute_reply": "2021-08-11T13:19:09.332776Z",
     "shell.execute_reply.started": "2021-08-11T13:19:09.319835Z"
    },
    "tags": []
   },
   "outputs": [],
   "source": [
    "import pandas as pd\n",
    "import matplotlib.pyplot as plt\n",
    "import seaborn as sns\n",
    "import numpy as np"
   ]
  },
  {
   "cell_type": "code",
   "execution_count": 140,
   "id": "217d5c74-ec15-40c1-9f4f-314f89386d2a",
   "metadata": {
    "execution": {
     "iopub.execute_input": "2021-08-11T13:19:09.334770Z",
     "iopub.status.busy": "2021-08-11T13:19:09.334770Z",
     "iopub.status.idle": "2021-08-11T13:19:09.363709Z",
     "shell.execute_reply": "2021-08-11T13:19:09.362697Z",
     "shell.execute_reply.started": "2021-08-11T13:19:09.334770Z"
    },
    "scrolled": true,
    "tags": []
   },
   "outputs": [
    {
     "data": {
      "text/html": [
       "<div>\n",
       "<style scoped>\n",
       "    .dataframe tbody tr th:only-of-type {\n",
       "        vertical-align: middle;\n",
       "    }\n",
       "\n",
       "    .dataframe tbody tr th {\n",
       "        vertical-align: top;\n",
       "    }\n",
       "\n",
       "    .dataframe thead th {\n",
       "        text-align: right;\n",
       "    }\n",
       "</style>\n",
       "<table border=\"1\" class=\"dataframe\">\n",
       "  <thead>\n",
       "    <tr style=\"text-align: right;\">\n",
       "      <th></th>\n",
       "      <th>fruit_label</th>\n",
       "      <th>fruit_name</th>\n",
       "      <th>fruit_subtype</th>\n",
       "      <th>mass</th>\n",
       "      <th>width</th>\n",
       "      <th>height</th>\n",
       "      <th>color_score</th>\n",
       "    </tr>\n",
       "  </thead>\n",
       "  <tbody>\n",
       "    <tr>\n",
       "      <th>0</th>\n",
       "      <td>1</td>\n",
       "      <td>apple</td>\n",
       "      <td>granny_smith</td>\n",
       "      <td>192</td>\n",
       "      <td>8.4</td>\n",
       "      <td>7.3</td>\n",
       "      <td>0.55</td>\n",
       "    </tr>\n",
       "    <tr>\n",
       "      <th>1</th>\n",
       "      <td>1</td>\n",
       "      <td>apple</td>\n",
       "      <td>granny_smith</td>\n",
       "      <td>180</td>\n",
       "      <td>8.0</td>\n",
       "      <td>6.8</td>\n",
       "      <td>0.59</td>\n",
       "    </tr>\n",
       "    <tr>\n",
       "      <th>2</th>\n",
       "      <td>1</td>\n",
       "      <td>apple</td>\n",
       "      <td>granny_smith</td>\n",
       "      <td>176</td>\n",
       "      <td>7.4</td>\n",
       "      <td>7.2</td>\n",
       "      <td>0.60</td>\n",
       "    </tr>\n",
       "    <tr>\n",
       "      <th>3</th>\n",
       "      <td>2</td>\n",
       "      <td>mandarin</td>\n",
       "      <td>mandarin</td>\n",
       "      <td>86</td>\n",
       "      <td>6.2</td>\n",
       "      <td>4.7</td>\n",
       "      <td>0.80</td>\n",
       "    </tr>\n",
       "    <tr>\n",
       "      <th>4</th>\n",
       "      <td>2</td>\n",
       "      <td>mandarin</td>\n",
       "      <td>mandarin</td>\n",
       "      <td>84</td>\n",
       "      <td>6.0</td>\n",
       "      <td>4.6</td>\n",
       "      <td>0.79</td>\n",
       "    </tr>\n",
       "    <tr>\n",
       "      <th>5</th>\n",
       "      <td>2</td>\n",
       "      <td>mandarin</td>\n",
       "      <td>mandarin</td>\n",
       "      <td>80</td>\n",
       "      <td>5.8</td>\n",
       "      <td>4.3</td>\n",
       "      <td>0.77</td>\n",
       "    </tr>\n",
       "    <tr>\n",
       "      <th>6</th>\n",
       "      <td>2</td>\n",
       "      <td>mandarin</td>\n",
       "      <td>mandarin</td>\n",
       "      <td>80</td>\n",
       "      <td>5.9</td>\n",
       "      <td>4.3</td>\n",
       "      <td>0.81</td>\n",
       "    </tr>\n",
       "    <tr>\n",
       "      <th>7</th>\n",
       "      <td>2</td>\n",
       "      <td>mandarin</td>\n",
       "      <td>mandarin</td>\n",
       "      <td>76</td>\n",
       "      <td>5.8</td>\n",
       "      <td>4.0</td>\n",
       "      <td>0.81</td>\n",
       "    </tr>\n",
       "    <tr>\n",
       "      <th>8</th>\n",
       "      <td>1</td>\n",
       "      <td>apple</td>\n",
       "      <td>braeburn</td>\n",
       "      <td>178</td>\n",
       "      <td>7.1</td>\n",
       "      <td>7.8</td>\n",
       "      <td>0.92</td>\n",
       "    </tr>\n",
       "    <tr>\n",
       "      <th>9</th>\n",
       "      <td>1</td>\n",
       "      <td>apple</td>\n",
       "      <td>braeburn</td>\n",
       "      <td>172</td>\n",
       "      <td>7.4</td>\n",
       "      <td>7.0</td>\n",
       "      <td>0.89</td>\n",
       "    </tr>\n",
       "    <tr>\n",
       "      <th>10</th>\n",
       "      <td>1</td>\n",
       "      <td>apple</td>\n",
       "      <td>braeburn</td>\n",
       "      <td>166</td>\n",
       "      <td>6.9</td>\n",
       "      <td>7.3</td>\n",
       "      <td>0.93</td>\n",
       "    </tr>\n",
       "    <tr>\n",
       "      <th>11</th>\n",
       "      <td>1</td>\n",
       "      <td>apple</td>\n",
       "      <td>braeburn</td>\n",
       "      <td>172</td>\n",
       "      <td>7.1</td>\n",
       "      <td>7.6</td>\n",
       "      <td>0.92</td>\n",
       "    </tr>\n",
       "    <tr>\n",
       "      <th>12</th>\n",
       "      <td>1</td>\n",
       "      <td>apple</td>\n",
       "      <td>braeburn</td>\n",
       "      <td>154</td>\n",
       "      <td>7.0</td>\n",
       "      <td>7.1</td>\n",
       "      <td>0.88</td>\n",
       "    </tr>\n",
       "    <tr>\n",
       "      <th>13</th>\n",
       "      <td>1</td>\n",
       "      <td>apple</td>\n",
       "      <td>golden_delicious</td>\n",
       "      <td>164</td>\n",
       "      <td>7.3</td>\n",
       "      <td>7.7</td>\n",
       "      <td>0.70</td>\n",
       "    </tr>\n",
       "    <tr>\n",
       "      <th>14</th>\n",
       "      <td>1</td>\n",
       "      <td>apple</td>\n",
       "      <td>golden_delicious</td>\n",
       "      <td>152</td>\n",
       "      <td>7.6</td>\n",
       "      <td>7.3</td>\n",
       "      <td>0.69</td>\n",
       "    </tr>\n",
       "    <tr>\n",
       "      <th>15</th>\n",
       "      <td>1</td>\n",
       "      <td>apple</td>\n",
       "      <td>golden_delicious</td>\n",
       "      <td>156</td>\n",
       "      <td>7.7</td>\n",
       "      <td>7.1</td>\n",
       "      <td>0.69</td>\n",
       "    </tr>\n",
       "    <tr>\n",
       "      <th>16</th>\n",
       "      <td>1</td>\n",
       "      <td>apple</td>\n",
       "      <td>golden_delicious</td>\n",
       "      <td>156</td>\n",
       "      <td>7.6</td>\n",
       "      <td>7.5</td>\n",
       "      <td>0.67</td>\n",
       "    </tr>\n",
       "    <tr>\n",
       "      <th>17</th>\n",
       "      <td>1</td>\n",
       "      <td>apple</td>\n",
       "      <td>golden_delicious</td>\n",
       "      <td>168</td>\n",
       "      <td>7.5</td>\n",
       "      <td>7.6</td>\n",
       "      <td>0.73</td>\n",
       "    </tr>\n",
       "    <tr>\n",
       "      <th>18</th>\n",
       "      <td>1</td>\n",
       "      <td>apple</td>\n",
       "      <td>cripps_pink</td>\n",
       "      <td>162</td>\n",
       "      <td>7.5</td>\n",
       "      <td>7.1</td>\n",
       "      <td>0.83</td>\n",
       "    </tr>\n",
       "    <tr>\n",
       "      <th>19</th>\n",
       "      <td>1</td>\n",
       "      <td>apple</td>\n",
       "      <td>cripps_pink</td>\n",
       "      <td>162</td>\n",
       "      <td>7.4</td>\n",
       "      <td>7.2</td>\n",
       "      <td>0.85</td>\n",
       "    </tr>\n",
       "    <tr>\n",
       "      <th>20</th>\n",
       "      <td>1</td>\n",
       "      <td>apple</td>\n",
       "      <td>cripps_pink</td>\n",
       "      <td>160</td>\n",
       "      <td>7.5</td>\n",
       "      <td>7.5</td>\n",
       "      <td>0.86</td>\n",
       "    </tr>\n",
       "    <tr>\n",
       "      <th>21</th>\n",
       "      <td>1</td>\n",
       "      <td>apple</td>\n",
       "      <td>cripps_pink</td>\n",
       "      <td>156</td>\n",
       "      <td>7.4</td>\n",
       "      <td>7.4</td>\n",
       "      <td>0.84</td>\n",
       "    </tr>\n",
       "    <tr>\n",
       "      <th>22</th>\n",
       "      <td>1</td>\n",
       "      <td>apple</td>\n",
       "      <td>cripps_pink</td>\n",
       "      <td>140</td>\n",
       "      <td>7.3</td>\n",
       "      <td>7.1</td>\n",
       "      <td>0.87</td>\n",
       "    </tr>\n",
       "    <tr>\n",
       "      <th>23</th>\n",
       "      <td>1</td>\n",
       "      <td>apple</td>\n",
       "      <td>cripps_pink</td>\n",
       "      <td>170</td>\n",
       "      <td>7.6</td>\n",
       "      <td>7.9</td>\n",
       "      <td>0.88</td>\n",
       "    </tr>\n",
       "    <tr>\n",
       "      <th>24</th>\n",
       "      <td>3</td>\n",
       "      <td>orange</td>\n",
       "      <td>spanish_jumbo</td>\n",
       "      <td>342</td>\n",
       "      <td>9.0</td>\n",
       "      <td>9.4</td>\n",
       "      <td>0.75</td>\n",
       "    </tr>\n",
       "    <tr>\n",
       "      <th>25</th>\n",
       "      <td>3</td>\n",
       "      <td>orange</td>\n",
       "      <td>spanish_jumbo</td>\n",
       "      <td>356</td>\n",
       "      <td>9.2</td>\n",
       "      <td>9.2</td>\n",
       "      <td>0.75</td>\n",
       "    </tr>\n",
       "    <tr>\n",
       "      <th>26</th>\n",
       "      <td>3</td>\n",
       "      <td>orange</td>\n",
       "      <td>spanish_jumbo</td>\n",
       "      <td>362</td>\n",
       "      <td>9.6</td>\n",
       "      <td>9.2</td>\n",
       "      <td>0.74</td>\n",
       "    </tr>\n",
       "    <tr>\n",
       "      <th>27</th>\n",
       "      <td>3</td>\n",
       "      <td>orange</td>\n",
       "      <td>selected_seconds</td>\n",
       "      <td>204</td>\n",
       "      <td>7.5</td>\n",
       "      <td>9.2</td>\n",
       "      <td>0.77</td>\n",
       "    </tr>\n",
       "    <tr>\n",
       "      <th>28</th>\n",
       "      <td>3</td>\n",
       "      <td>orange</td>\n",
       "      <td>selected_seconds</td>\n",
       "      <td>140</td>\n",
       "      <td>6.7</td>\n",
       "      <td>7.1</td>\n",
       "      <td>0.72</td>\n",
       "    </tr>\n",
       "    <tr>\n",
       "      <th>29</th>\n",
       "      <td>3</td>\n",
       "      <td>orange</td>\n",
       "      <td>selected_seconds</td>\n",
       "      <td>160</td>\n",
       "      <td>7.0</td>\n",
       "      <td>7.4</td>\n",
       "      <td>0.81</td>\n",
       "    </tr>\n",
       "    <tr>\n",
       "      <th>30</th>\n",
       "      <td>3</td>\n",
       "      <td>orange</td>\n",
       "      <td>selected_seconds</td>\n",
       "      <td>158</td>\n",
       "      <td>7.1</td>\n",
       "      <td>7.5</td>\n",
       "      <td>0.79</td>\n",
       "    </tr>\n",
       "    <tr>\n",
       "      <th>31</th>\n",
       "      <td>3</td>\n",
       "      <td>orange</td>\n",
       "      <td>selected_seconds</td>\n",
       "      <td>210</td>\n",
       "      <td>7.8</td>\n",
       "      <td>8.0</td>\n",
       "      <td>0.82</td>\n",
       "    </tr>\n",
       "    <tr>\n",
       "      <th>32</th>\n",
       "      <td>3</td>\n",
       "      <td>orange</td>\n",
       "      <td>selected_seconds</td>\n",
       "      <td>164</td>\n",
       "      <td>7.2</td>\n",
       "      <td>7.0</td>\n",
       "      <td>0.80</td>\n",
       "    </tr>\n",
       "    <tr>\n",
       "      <th>33</th>\n",
       "      <td>3</td>\n",
       "      <td>orange</td>\n",
       "      <td>turkey_navel</td>\n",
       "      <td>190</td>\n",
       "      <td>7.5</td>\n",
       "      <td>8.1</td>\n",
       "      <td>0.74</td>\n",
       "    </tr>\n",
       "    <tr>\n",
       "      <th>34</th>\n",
       "      <td>3</td>\n",
       "      <td>orange</td>\n",
       "      <td>turkey_navel</td>\n",
       "      <td>142</td>\n",
       "      <td>7.6</td>\n",
       "      <td>7.8</td>\n",
       "      <td>0.75</td>\n",
       "    </tr>\n",
       "    <tr>\n",
       "      <th>35</th>\n",
       "      <td>3</td>\n",
       "      <td>orange</td>\n",
       "      <td>turkey_navel</td>\n",
       "      <td>150</td>\n",
       "      <td>7.1</td>\n",
       "      <td>7.9</td>\n",
       "      <td>0.75</td>\n",
       "    </tr>\n",
       "    <tr>\n",
       "      <th>36</th>\n",
       "      <td>3</td>\n",
       "      <td>orange</td>\n",
       "      <td>turkey_navel</td>\n",
       "      <td>160</td>\n",
       "      <td>7.1</td>\n",
       "      <td>7.6</td>\n",
       "      <td>0.76</td>\n",
       "    </tr>\n",
       "    <tr>\n",
       "      <th>37</th>\n",
       "      <td>3</td>\n",
       "      <td>orange</td>\n",
       "      <td>turkey_navel</td>\n",
       "      <td>154</td>\n",
       "      <td>7.3</td>\n",
       "      <td>7.3</td>\n",
       "      <td>0.79</td>\n",
       "    </tr>\n",
       "    <tr>\n",
       "      <th>38</th>\n",
       "      <td>3</td>\n",
       "      <td>orange</td>\n",
       "      <td>turkey_navel</td>\n",
       "      <td>158</td>\n",
       "      <td>7.2</td>\n",
       "      <td>7.8</td>\n",
       "      <td>0.77</td>\n",
       "    </tr>\n",
       "    <tr>\n",
       "      <th>39</th>\n",
       "      <td>3</td>\n",
       "      <td>orange</td>\n",
       "      <td>turkey_navel</td>\n",
       "      <td>144</td>\n",
       "      <td>6.8</td>\n",
       "      <td>7.4</td>\n",
       "      <td>0.75</td>\n",
       "    </tr>\n",
       "    <tr>\n",
       "      <th>40</th>\n",
       "      <td>3</td>\n",
       "      <td>orange</td>\n",
       "      <td>turkey_navel</td>\n",
       "      <td>154</td>\n",
       "      <td>7.1</td>\n",
       "      <td>7.5</td>\n",
       "      <td>0.78</td>\n",
       "    </tr>\n",
       "    <tr>\n",
       "      <th>41</th>\n",
       "      <td>3</td>\n",
       "      <td>orange</td>\n",
       "      <td>turkey_navel</td>\n",
       "      <td>180</td>\n",
       "      <td>7.6</td>\n",
       "      <td>8.2</td>\n",
       "      <td>0.79</td>\n",
       "    </tr>\n",
       "    <tr>\n",
       "      <th>42</th>\n",
       "      <td>3</td>\n",
       "      <td>orange</td>\n",
       "      <td>turkey_navel</td>\n",
       "      <td>154</td>\n",
       "      <td>7.2</td>\n",
       "      <td>7.2</td>\n",
       "      <td>0.82</td>\n",
       "    </tr>\n",
       "    <tr>\n",
       "      <th>43</th>\n",
       "      <td>4</td>\n",
       "      <td>lemon</td>\n",
       "      <td>spanish_belsan</td>\n",
       "      <td>194</td>\n",
       "      <td>7.2</td>\n",
       "      <td>10.3</td>\n",
       "      <td>0.70</td>\n",
       "    </tr>\n",
       "    <tr>\n",
       "      <th>44</th>\n",
       "      <td>4</td>\n",
       "      <td>lemon</td>\n",
       "      <td>spanish_belsan</td>\n",
       "      <td>200</td>\n",
       "      <td>7.3</td>\n",
       "      <td>10.5</td>\n",
       "      <td>0.72</td>\n",
       "    </tr>\n",
       "    <tr>\n",
       "      <th>45</th>\n",
       "      <td>4</td>\n",
       "      <td>lemon</td>\n",
       "      <td>spanish_belsan</td>\n",
       "      <td>186</td>\n",
       "      <td>7.2</td>\n",
       "      <td>9.2</td>\n",
       "      <td>0.72</td>\n",
       "    </tr>\n",
       "    <tr>\n",
       "      <th>46</th>\n",
       "      <td>4</td>\n",
       "      <td>lemon</td>\n",
       "      <td>spanish_belsan</td>\n",
       "      <td>216</td>\n",
       "      <td>7.3</td>\n",
       "      <td>10.2</td>\n",
       "      <td>0.71</td>\n",
       "    </tr>\n",
       "    <tr>\n",
       "      <th>47</th>\n",
       "      <td>4</td>\n",
       "      <td>lemon</td>\n",
       "      <td>spanish_belsan</td>\n",
       "      <td>196</td>\n",
       "      <td>7.3</td>\n",
       "      <td>9.7</td>\n",
       "      <td>0.72</td>\n",
       "    </tr>\n",
       "    <tr>\n",
       "      <th>48</th>\n",
       "      <td>4</td>\n",
       "      <td>lemon</td>\n",
       "      <td>spanish_belsan</td>\n",
       "      <td>174</td>\n",
       "      <td>7.3</td>\n",
       "      <td>10.1</td>\n",
       "      <td>0.72</td>\n",
       "    </tr>\n",
       "    <tr>\n",
       "      <th>49</th>\n",
       "      <td>4</td>\n",
       "      <td>lemon</td>\n",
       "      <td>unknown</td>\n",
       "      <td>132</td>\n",
       "      <td>5.8</td>\n",
       "      <td>8.7</td>\n",
       "      <td>0.73</td>\n",
       "    </tr>\n",
       "    <tr>\n",
       "      <th>50</th>\n",
       "      <td>4</td>\n",
       "      <td>lemon</td>\n",
       "      <td>unknown</td>\n",
       "      <td>130</td>\n",
       "      <td>6.0</td>\n",
       "      <td>8.2</td>\n",
       "      <td>0.71</td>\n",
       "    </tr>\n",
       "    <tr>\n",
       "      <th>51</th>\n",
       "      <td>4</td>\n",
       "      <td>lemon</td>\n",
       "      <td>unknown</td>\n",
       "      <td>116</td>\n",
       "      <td>6.0</td>\n",
       "      <td>7.5</td>\n",
       "      <td>0.72</td>\n",
       "    </tr>\n",
       "    <tr>\n",
       "      <th>52</th>\n",
       "      <td>4</td>\n",
       "      <td>lemon</td>\n",
       "      <td>unknown</td>\n",
       "      <td>118</td>\n",
       "      <td>5.9</td>\n",
       "      <td>8.0</td>\n",
       "      <td>0.72</td>\n",
       "    </tr>\n",
       "    <tr>\n",
       "      <th>53</th>\n",
       "      <td>4</td>\n",
       "      <td>lemon</td>\n",
       "      <td>unknown</td>\n",
       "      <td>120</td>\n",
       "      <td>6.0</td>\n",
       "      <td>8.4</td>\n",
       "      <td>0.74</td>\n",
       "    </tr>\n",
       "    <tr>\n",
       "      <th>54</th>\n",
       "      <td>4</td>\n",
       "      <td>lemon</td>\n",
       "      <td>unknown</td>\n",
       "      <td>116</td>\n",
       "      <td>6.1</td>\n",
       "      <td>8.5</td>\n",
       "      <td>0.71</td>\n",
       "    </tr>\n",
       "    <tr>\n",
       "      <th>55</th>\n",
       "      <td>4</td>\n",
       "      <td>lemon</td>\n",
       "      <td>unknown</td>\n",
       "      <td>116</td>\n",
       "      <td>6.3</td>\n",
       "      <td>7.7</td>\n",
       "      <td>0.72</td>\n",
       "    </tr>\n",
       "    <tr>\n",
       "      <th>56</th>\n",
       "      <td>4</td>\n",
       "      <td>lemon</td>\n",
       "      <td>unknown</td>\n",
       "      <td>116</td>\n",
       "      <td>5.9</td>\n",
       "      <td>8.1</td>\n",
       "      <td>0.73</td>\n",
       "    </tr>\n",
       "    <tr>\n",
       "      <th>57</th>\n",
       "      <td>4</td>\n",
       "      <td>lemon</td>\n",
       "      <td>unknown</td>\n",
       "      <td>152</td>\n",
       "      <td>6.5</td>\n",
       "      <td>8.5</td>\n",
       "      <td>0.72</td>\n",
       "    </tr>\n",
       "    <tr>\n",
       "      <th>58</th>\n",
       "      <td>4</td>\n",
       "      <td>lemon</td>\n",
       "      <td>unknown</td>\n",
       "      <td>118</td>\n",
       "      <td>6.1</td>\n",
       "      <td>8.1</td>\n",
       "      <td>0.70</td>\n",
       "    </tr>\n",
       "  </tbody>\n",
       "</table>\n",
       "</div>"
      ],
      "text/plain": [
       "    fruit_label fruit_name     fruit_subtype  mass  width  height  color_score\n",
       "0             1      apple      granny_smith   192    8.4     7.3         0.55\n",
       "1             1      apple      granny_smith   180    8.0     6.8         0.59\n",
       "2             1      apple      granny_smith   176    7.4     7.2         0.60\n",
       "3             2   mandarin          mandarin    86    6.2     4.7         0.80\n",
       "4             2   mandarin          mandarin    84    6.0     4.6         0.79\n",
       "5             2   mandarin          mandarin    80    5.8     4.3         0.77\n",
       "6             2   mandarin          mandarin    80    5.9     4.3         0.81\n",
       "7             2   mandarin          mandarin    76    5.8     4.0         0.81\n",
       "8             1      apple          braeburn   178    7.1     7.8         0.92\n",
       "9             1      apple          braeburn   172    7.4     7.0         0.89\n",
       "10            1      apple          braeburn   166    6.9     7.3         0.93\n",
       "11            1      apple          braeburn   172    7.1     7.6         0.92\n",
       "12            1      apple          braeburn   154    7.0     7.1         0.88\n",
       "13            1      apple  golden_delicious   164    7.3     7.7         0.70\n",
       "14            1      apple  golden_delicious   152    7.6     7.3         0.69\n",
       "15            1      apple  golden_delicious   156    7.7     7.1         0.69\n",
       "16            1      apple  golden_delicious   156    7.6     7.5         0.67\n",
       "17            1      apple  golden_delicious   168    7.5     7.6         0.73\n",
       "18            1      apple       cripps_pink   162    7.5     7.1         0.83\n",
       "19            1      apple       cripps_pink   162    7.4     7.2         0.85\n",
       "20            1      apple       cripps_pink   160    7.5     7.5         0.86\n",
       "21            1      apple       cripps_pink   156    7.4     7.4         0.84\n",
       "22            1      apple       cripps_pink   140    7.3     7.1         0.87\n",
       "23            1      apple       cripps_pink   170    7.6     7.9         0.88\n",
       "24            3     orange     spanish_jumbo   342    9.0     9.4         0.75\n",
       "25            3     orange     spanish_jumbo   356    9.2     9.2         0.75\n",
       "26            3     orange     spanish_jumbo   362    9.6     9.2         0.74\n",
       "27            3     orange  selected_seconds   204    7.5     9.2         0.77\n",
       "28            3     orange  selected_seconds   140    6.7     7.1         0.72\n",
       "29            3     orange  selected_seconds   160    7.0     7.4         0.81\n",
       "30            3     orange  selected_seconds   158    7.1     7.5         0.79\n",
       "31            3     orange  selected_seconds   210    7.8     8.0         0.82\n",
       "32            3     orange  selected_seconds   164    7.2     7.0         0.80\n",
       "33            3     orange      turkey_navel   190    7.5     8.1         0.74\n",
       "34            3     orange      turkey_navel   142    7.6     7.8         0.75\n",
       "35            3     orange      turkey_navel   150    7.1     7.9         0.75\n",
       "36            3     orange      turkey_navel   160    7.1     7.6         0.76\n",
       "37            3     orange      turkey_navel   154    7.3     7.3         0.79\n",
       "38            3     orange      turkey_navel   158    7.2     7.8         0.77\n",
       "39            3     orange      turkey_navel   144    6.8     7.4         0.75\n",
       "40            3     orange      turkey_navel   154    7.1     7.5         0.78\n",
       "41            3     orange      turkey_navel   180    7.6     8.2         0.79\n",
       "42            3     orange      turkey_navel   154    7.2     7.2         0.82\n",
       "43            4      lemon    spanish_belsan   194    7.2    10.3         0.70\n",
       "44            4      lemon    spanish_belsan   200    7.3    10.5         0.72\n",
       "45            4      lemon    spanish_belsan   186    7.2     9.2         0.72\n",
       "46            4      lemon    spanish_belsan   216    7.3    10.2         0.71\n",
       "47            4      lemon    spanish_belsan   196    7.3     9.7         0.72\n",
       "48            4      lemon    spanish_belsan   174    7.3    10.1         0.72\n",
       "49            4      lemon           unknown   132    5.8     8.7         0.73\n",
       "50            4      lemon           unknown   130    6.0     8.2         0.71\n",
       "51            4      lemon           unknown   116    6.0     7.5         0.72\n",
       "52            4      lemon           unknown   118    5.9     8.0         0.72\n",
       "53            4      lemon           unknown   120    6.0     8.4         0.74\n",
       "54            4      lemon           unknown   116    6.1     8.5         0.71\n",
       "55            4      lemon           unknown   116    6.3     7.7         0.72\n",
       "56            4      lemon           unknown   116    5.9     8.1         0.73\n",
       "57            4      lemon           unknown   152    6.5     8.5         0.72\n",
       "58            4      lemon           unknown   118    6.1     8.1         0.70"
      ]
     },
     "execution_count": 140,
     "metadata": {},
     "output_type": "execute_result"
    }
   ],
   "source": [
    "df = pd.read_table('fruit_data_with_colors.txt')\n",
    "df"
   ]
  },
  {
   "cell_type": "markdown",
   "id": "2cabcb1e-8a05-4877-86a5-2420ae58b9d6",
   "metadata": {},
   "source": [
    "# Histograms and Scatter Plots"
   ]
  },
  {
   "cell_type": "code",
   "execution_count": 141,
   "id": "920f1dde-1b0e-46ca-a924-3b37ef466478",
   "metadata": {
    "execution": {
     "iopub.execute_input": "2021-08-11T13:19:09.364691Z",
     "iopub.status.busy": "2021-08-11T13:19:09.364691Z",
     "iopub.status.idle": "2021-08-11T13:19:09.378654Z",
     "shell.execute_reply": "2021-08-11T13:19:09.378654Z",
     "shell.execute_reply.started": "2021-08-11T13:19:09.364691Z"
    },
    "tags": []
   },
   "outputs": [],
   "source": [
    "\n",
    "def pair_plot(fruit_name):\n",
    "    df_fruit = df[df['fruit_name']==fruit_name][['mass', 'width', 'height', 'color_score']]\n",
    "    sns.pairplot(df_fruit)\n",
    "    plt.figure(figsize=(15,10))"
   ]
  },
  {
   "cell_type": "markdown",
   "id": "da69e298-0e2c-443b-b080-5eb11132bd6f",
   "metadata": {},
   "source": [
    "## Apple"
   ]
  },
  {
   "cell_type": "code",
   "execution_count": 142,
   "id": "26c078eb-f647-4944-a7f5-d51b7f257063",
   "metadata": {
    "execution": {
     "iopub.execute_input": "2021-08-11T13:19:09.380648Z",
     "iopub.status.busy": "2021-08-11T13:19:09.380648Z",
     "iopub.status.idle": "2021-08-11T13:19:11.434165Z",
     "shell.execute_reply": "2021-08-11T13:19:11.434165Z",
     "shell.execute_reply.started": "2021-08-11T13:19:09.380648Z"
    },
    "tags": []
   },
   "outputs": [
    {
     "data": {
      "image/png": "[encoded data removed]",
      "text/plain": [
       "<Figure size 720x720 with 20 Axes>"
      ]
     },
     "metadata": {
      "needs_background": "light"
     },
     "output_type": "display_data"
    },
    {
     "data": {
      "text/plain": [
       "<Figure size 1080x720 with 0 Axes>"
      ]
     },
     "metadata": {},
     "output_type": "display_data"
    }
   ],
   "source": [
    "pair_plot('apple')"
   ]
  },
  {
   "cell_type": "markdown",
   "id": "fd314ce5-154c-4b19-b180-b5edf1f802cf",
   "metadata": {},
   "source": [
    "## Mandarin"
   ]
  },
  {
   "cell_type": "code",
   "execution_count": 143,
   "id": "32a9541f-249b-452a-bedd-6f8c7a3a2346",
   "metadata": {
    "execution": {
     "iopub.execute_input": "2021-08-11T13:19:11.436121Z",
     "iopub.status.busy": "2021-08-11T13:19:11.435122Z",
     "iopub.status.idle": "2021-08-11T13:19:13.608377Z",
     "shell.execute_reply": "2021-08-11T13:19:13.608377Z",
     "shell.execute_reply.started": "2021-08-11T13:19:11.436121Z"
    },
    "tags": []
   },
   "outputs": [
    {
     "data": {
      "image/png": "[encoded data removed]",
      "text/plain": [
       "<Figure size 720x720 with 20 Axes>"
      ]
     },
     "metadata": {
      "needs_background": "light"
     },
     "output_type": "display_data"
    },
    {
     "data": {
      "text/plain": [
       "<Figure size 1080x720 with 0 Axes>"
      ]
     },
     "metadata": {},
     "output_type": "display_data"
    }
   ],
   "source": [
    "pair_plot('mandarin')"
   ]
  },
  {
   "cell_type": "markdown",
   "id": "6bfe3c74-e852-470d-8ca4-9ae2d5af1bd0",
   "metadata": {},
   "source": [
    "## Orange"
   ]
  },
  {
   "cell_type": "code",
   "execution_count": 144,
   "id": "444f5cd3-2837-4ef6-b30f-f4ec8dd1e7d6",
   "metadata": {
    "execution": {
     "iopub.execute_input": "2021-08-11T13:19:13.609342Z",
     "iopub.status.busy": "2021-08-11T13:19:13.609342Z",
     "iopub.status.idle": "2021-08-11T13:19:15.755813Z",
     "shell.execute_reply": "2021-08-11T13:19:15.755301Z",
     "shell.execute_reply.started": "2021-08-11T13:19:13.609342Z"
    }
   },
   "outputs": [
    {
     "data": {
      "image/png": "[encoded data removed]",
      "text/plain": [
       "<Figure size 720x720 with 20 Axes>"
      ]
     },
     "metadata": {
      "needs_background": "light"
     },
     "output_type": "display_data"
    },
    {
     "data": {
      "text/plain": [
       "<Figure size 1080x720 with 0 Axes>"
      ]
     },
     "metadata": {},
     "output_type": "display_data"
    }
   ],
   "source": [
    "pair_plot('orange')"
   ]
  },
  {
   "cell_type": "markdown",
   "id": "2373a11a-e742-4dbe-a4e0-8ff61d098edd",
   "metadata": {},
   "source": [
    "## Lemon"
   ]
  },
  {
   "cell_type": "code",
   "execution_count": 145,
   "id": "66d04ecb-3630-432b-b7aa-af9543f898eb",
   "metadata": {
    "execution": {
     "iopub.execute_input": "2021-08-11T13:19:15.756805Z",
     "iopub.status.busy": "2021-08-11T13:19:15.756805Z",
     "iopub.status.idle": "2021-08-11T13:19:18.003637Z",
     "shell.execute_reply": "2021-08-11T13:19:18.002639Z",
     "shell.execute_reply.started": "2021-08-11T13:19:15.756805Z"
    },
    "tags": []
   },
   "outputs": [
    {
     "data": {
      "image/png": "[encoded data removed]",
      "text/plain": [
       "<Figure size 720x720 with 20 Axes>"
      ]
     },
     "metadata": {
      "needs_background": "light"
     },
     "output_type": "display_data"
    },
    {
     "data": {
      "text/plain": [
       "<Figure size 1080x720 with 0 Axes>"
      ]
     },
     "metadata": {},
     "output_type": "display_data"
    }
   ],
   "source": [
    "pair_plot('lemon')"
   ]
  },
  {
   "cell_type": "markdown",
   "id": "47a2b9bc-5d1f-41b8-8019-927747fcd17a",
   "metadata": {},
   "source": [
    "# Implementing ML models"
   ]
  },
  {
   "cell_type": "code",
   "execution_count": 146,
   "id": "29126488-01d9-4837-90db-5b8fbe1882b9",
   "metadata": {
    "execution": {
     "iopub.execute_input": "2021-08-11T13:19:18.008625Z",
     "iopub.status.busy": "2021-08-11T13:19:18.008625Z",
     "iopub.status.idle": "2021-08-11T13:19:18.048516Z",
     "shell.execute_reply": "2021-08-11T13:19:18.047519Z",
     "shell.execute_reply.started": "2021-08-11T13:19:18.008625Z"
    },
    "scrolled": true,
    "tags": []
   },
   "outputs": [
    {
     "data": {
      "text/html": [
       "<div>\n",
       "<style scoped>\n",
       "    .dataframe tbody tr th:only-of-type {\n",
       "        vertical-align: middle;\n",
       "    }\n",
       "\n",
       "    .dataframe tbody tr th {\n",
       "        vertical-align: top;\n",
       "    }\n",
       "\n",
       "    .dataframe thead th {\n",
       "        text-align: right;\n",
       "    }\n",
       "</style>\n",
       "<table border=\"1\" class=\"dataframe\">\n",
       "  <thead>\n",
       "    <tr style=\"text-align: right;\">\n",
       "      <th></th>\n",
       "      <th>fruit_label</th>\n",
       "      <th>fruit_name</th>\n",
       "      <th>fruit_subtype</th>\n",
       "      <th>mass</th>\n",
       "      <th>width</th>\n",
       "      <th>height</th>\n",
       "      <th>color_score</th>\n",
       "    </tr>\n",
       "  </thead>\n",
       "  <tbody>\n",
       "    <tr>\n",
       "      <th>0</th>\n",
       "      <td>1</td>\n",
       "      <td>apple</td>\n",
       "      <td>granny_smith</td>\n",
       "      <td>192</td>\n",
       "      <td>8.4</td>\n",
       "      <td>7.3</td>\n",
       "      <td>0.55</td>\n",
       "    </tr>\n",
       "    <tr>\n",
       "      <th>1</th>\n",
       "      <td>1</td>\n",
       "      <td>apple</td>\n",
       "      <td>granny_smith</td>\n",
       "      <td>180</td>\n",
       "      <td>8.0</td>\n",
       "      <td>6.8</td>\n",
       "      <td>0.59</td>\n",
       "    </tr>\n",
       "    <tr>\n",
       "      <th>2</th>\n",
       "      <td>1</td>\n",
       "      <td>apple</td>\n",
       "      <td>granny_smith</td>\n",
       "      <td>176</td>\n",
       "      <td>7.4</td>\n",
       "      <td>7.2</td>\n",
       "      <td>0.60</td>\n",
       "    </tr>\n",
       "    <tr>\n",
       "      <th>3</th>\n",
       "      <td>2</td>\n",
       "      <td>mandarin</td>\n",
       "      <td>mandarin</td>\n",
       "      <td>86</td>\n",
       "      <td>6.2</td>\n",
       "      <td>4.7</td>\n",
       "      <td>0.80</td>\n",
       "    </tr>\n",
       "    <tr>\n",
       "      <th>4</th>\n",
       "      <td>2</td>\n",
       "      <td>mandarin</td>\n",
       "      <td>mandarin</td>\n",
       "      <td>84</td>\n",
       "      <td>6.0</td>\n",
       "      <td>4.6</td>\n",
       "      <td>0.79</td>\n",
       "    </tr>\n",
       "    <tr>\n",
       "      <th>5</th>\n",
       "      <td>2</td>\n",
       "      <td>mandarin</td>\n",
       "      <td>mandarin</td>\n",
       "      <td>80</td>\n",
       "      <td>5.8</td>\n",
       "      <td>4.3</td>\n",
       "      <td>0.77</td>\n",
       "    </tr>\n",
       "    <tr>\n",
       "      <th>6</th>\n",
       "      <td>2</td>\n",
       "      <td>mandarin</td>\n",
       "      <td>mandarin</td>\n",
       "      <td>80</td>\n",
       "      <td>5.9</td>\n",
       "      <td>4.3</td>\n",
       "      <td>0.81</td>\n",
       "    </tr>\n",
       "    <tr>\n",
       "      <th>7</th>\n",
       "      <td>2</td>\n",
       "      <td>mandarin</td>\n",
       "      <td>mandarin</td>\n",
       "      <td>76</td>\n",
       "      <td>5.8</td>\n",
       "      <td>4.0</td>\n",
       "      <td>0.81</td>\n",
       "    </tr>\n",
       "    <tr>\n",
       "      <th>8</th>\n",
       "      <td>1</td>\n",
       "      <td>apple</td>\n",
       "      <td>braeburn</td>\n",
       "      <td>178</td>\n",
       "      <td>7.1</td>\n",
       "      <td>7.8</td>\n",
       "      <td>0.92</td>\n",
       "    </tr>\n",
       "    <tr>\n",
       "      <th>9</th>\n",
       "      <td>1</td>\n",
       "      <td>apple</td>\n",
       "      <td>braeburn</td>\n",
       "      <td>172</td>\n",
       "      <td>7.4</td>\n",
       "      <td>7.0</td>\n",
       "      <td>0.89</td>\n",
       "    </tr>\n",
       "    <tr>\n",
       "      <th>10</th>\n",
       "      <td>1</td>\n",
       "      <td>apple</td>\n",
       "      <td>braeburn</td>\n",
       "      <td>166</td>\n",
       "      <td>6.9</td>\n",
       "      <td>7.3</td>\n",
       "      <td>0.93</td>\n",
       "    </tr>\n",
       "    <tr>\n",
       "      <th>11</th>\n",
       "      <td>1</td>\n",
       "      <td>apple</td>\n",
       "      <td>braeburn</td>\n",
       "      <td>172</td>\n",
       "      <td>7.1</td>\n",
       "      <td>7.6</td>\n",
       "      <td>0.92</td>\n",
       "    </tr>\n",
       "    <tr>\n",
       "      <th>12</th>\n",
       "      <td>1</td>\n",
       "      <td>apple</td>\n",
       "      <td>braeburn</td>\n",
       "      <td>154</td>\n",
       "      <td>7.0</td>\n",
       "      <td>7.1</td>\n",
       "      <td>0.88</td>\n",
       "    </tr>\n",
       "    <tr>\n",
       "      <th>13</th>\n",
       "      <td>1</td>\n",
       "      <td>apple</td>\n",
       "      <td>golden_delicious</td>\n",
       "      <td>164</td>\n",
       "      <td>7.3</td>\n",
       "      <td>7.7</td>\n",
       "      <td>0.70</td>\n",
       "    </tr>\n",
       "    <tr>\n",
       "      <th>14</th>\n",
       "      <td>1</td>\n",
       "      <td>apple</td>\n",
       "      <td>golden_delicious</td>\n",
       "      <td>152</td>\n",
       "      <td>7.6</td>\n",
       "      <td>7.3</td>\n",
       "      <td>0.69</td>\n",
       "    </tr>\n",
       "    <tr>\n",
       "      <th>15</th>\n",
       "      <td>1</td>\n",
       "      <td>apple</td>\n",
       "      <td>golden_delicious</td>\n",
       "      <td>156</td>\n",
       "      <td>7.7</td>\n",
       "      <td>7.1</td>\n",
       "      <td>0.69</td>\n",
       "    </tr>\n",
       "    <tr>\n",
       "      <th>16</th>\n",
       "      <td>1</td>\n",
       "      <td>apple</td>\n",
       "      <td>golden_delicious</td>\n",
       "      <td>156</td>\n",
       "      <td>7.6</td>\n",
       "      <td>7.5</td>\n",
       "      <td>0.67</td>\n",
       "    </tr>\n",
       "    <tr>\n",
       "      <th>17</th>\n",
       "      <td>1</td>\n",
       "      <td>apple</td>\n",
       "      <td>golden_delicious</td>\n",
       "      <td>168</td>\n",
       "      <td>7.5</td>\n",
       "      <td>7.6</td>\n",
       "      <td>0.73</td>\n",
       "    </tr>\n",
       "    <tr>\n",
       "      <th>18</th>\n",
       "      <td>1</td>\n",
       "      <td>apple</td>\n",
       "      <td>cripps_pink</td>\n",
       "      <td>162</td>\n",
       "      <td>7.5</td>\n",
       "      <td>7.1</td>\n",
       "      <td>0.83</td>\n",
       "    </tr>\n",
       "    <tr>\n",
       "      <th>19</th>\n",
       "      <td>1</td>\n",
       "      <td>apple</td>\n",
       "      <td>cripps_pink</td>\n",
       "      <td>162</td>\n",
       "      <td>7.4</td>\n",
       "      <td>7.2</td>\n",
       "      <td>0.85</td>\n",
       "    </tr>\n",
       "    <tr>\n",
       "      <th>20</th>\n",
       "      <td>1</td>\n",
       "      <td>apple</td>\n",
       "      <td>cripps_pink</td>\n",
       "      <td>160</td>\n",
       "      <td>7.5</td>\n",
       "      <td>7.5</td>\n",
       "      <td>0.86</td>\n",
       "    </tr>\n",
       "    <tr>\n",
       "      <th>21</th>\n",
       "      <td>1</td>\n",
       "      <td>apple</td>\n",
       "      <td>cripps_pink</td>\n",
       "      <td>156</td>\n",
       "      <td>7.4</td>\n",
       "      <td>7.4</td>\n",
       "      <td>0.84</td>\n",
       "    </tr>\n",
       "    <tr>\n",
       "      <th>22</th>\n",
       "      <td>1</td>\n",
       "      <td>apple</td>\n",
       "      <td>cripps_pink</td>\n",
       "      <td>140</td>\n",
       "      <td>7.3</td>\n",
       "      <td>7.1</td>\n",
       "      <td>0.87</td>\n",
       "    </tr>\n",
       "    <tr>\n",
       "      <th>23</th>\n",
       "      <td>1</td>\n",
       "      <td>apple</td>\n",
       "      <td>cripps_pink</td>\n",
       "      <td>170</td>\n",
       "      <td>7.6</td>\n",
       "      <td>7.9</td>\n",
       "      <td>0.88</td>\n",
       "    </tr>\n",
       "    <tr>\n",
       "      <th>24</th>\n",
       "      <td>3</td>\n",
       "      <td>orange</td>\n",
       "      <td>spanish_jumbo</td>\n",
       "      <td>342</td>\n",
       "      <td>9.0</td>\n",
       "      <td>9.4</td>\n",
       "      <td>0.75</td>\n",
       "    </tr>\n",
       "    <tr>\n",
       "      <th>25</th>\n",
       "      <td>3</td>\n",
       "      <td>orange</td>\n",
       "      <td>spanish_jumbo</td>\n",
       "      <td>356</td>\n",
       "      <td>9.2</td>\n",
       "      <td>9.2</td>\n",
       "      <td>0.75</td>\n",
       "    </tr>\n",
       "    <tr>\n",
       "      <th>26</th>\n",
       "      <td>3</td>\n",
       "      <td>orange</td>\n",
       "      <td>spanish_jumbo</td>\n",
       "      <td>362</td>\n",
       "      <td>9.6</td>\n",
       "      <td>9.2</td>\n",
       "      <td>0.74</td>\n",
       "    </tr>\n",
       "    <tr>\n",
       "      <th>27</th>\n",
       "      <td>3</td>\n",
       "      <td>orange</td>\n",
       "      <td>selected_seconds</td>\n",
       "      <td>204</td>\n",
       "      <td>7.5</td>\n",
       "      <td>9.2</td>\n",
       "      <td>0.77</td>\n",
       "    </tr>\n",
       "    <tr>\n",
       "      <th>28</th>\n",
       "      <td>3</td>\n",
       "      <td>orange</td>\n",
       "      <td>selected_seconds</td>\n",
       "      <td>140</td>\n",
       "      <td>6.7</td>\n",
       "      <td>7.1</td>\n",
       "      <td>0.72</td>\n",
       "    </tr>\n",
       "    <tr>\n",
       "      <th>29</th>\n",
       "      <td>3</td>\n",
       "      <td>orange</td>\n",
       "      <td>selected_seconds</td>\n",
       "      <td>160</td>\n",
       "      <td>7.0</td>\n",
       "      <td>7.4</td>\n",
       "      <td>0.81</td>\n",
       "    </tr>\n",
       "    <tr>\n",
       "      <th>30</th>\n",
       "      <td>3</td>\n",
       "      <td>orange</td>\n",
       "      <td>selected_seconds</td>\n",
       "      <td>158</td>\n",
       "      <td>7.1</td>\n",
       "      <td>7.5</td>\n",
       "      <td>0.79</td>\n",
       "    </tr>\n",
       "    <tr>\n",
       "      <th>31</th>\n",
       "      <td>3</td>\n",
       "      <td>orange</td>\n",
       "      <td>selected_seconds</td>\n",
       "      <td>210</td>\n",
       "      <td>7.8</td>\n",
       "      <td>8.0</td>\n",
       "      <td>0.82</td>\n",
       "    </tr>\n",
       "    <tr>\n",
       "      <th>32</th>\n",
       "      <td>3</td>\n",
       "      <td>orange</td>\n",
       "      <td>selected_seconds</td>\n",
       "      <td>164</td>\n",
       "      <td>7.2</td>\n",
       "      <td>7.0</td>\n",
       "      <td>0.80</td>\n",
       "    </tr>\n",
       "    <tr>\n",
       "      <th>33</th>\n",
       "      <td>3</td>\n",
       "      <td>orange</td>\n",
       "      <td>turkey_navel</td>\n",
       "      <td>190</td>\n",
       "      <td>7.5</td>\n",
       "      <td>8.1</td>\n",
       "      <td>0.74</td>\n",
       "    </tr>\n",
       "    <tr>\n",
       "      <th>34</th>\n",
       "      <td>3</td>\n",
       "      <td>orange</td>\n",
       "      <td>turkey_navel</td>\n",
       "      <td>142</td>\n",
       "      <td>7.6</td>\n",
       "      <td>7.8</td>\n",
       "      <td>0.75</td>\n",
       "    </tr>\n",
       "    <tr>\n",
       "      <th>35</th>\n",
       "      <td>3</td>\n",
       "      <td>orange</td>\n",
       "      <td>turkey_navel</td>\n",
       "      <td>150</td>\n",
       "      <td>7.1</td>\n",
       "      <td>7.9</td>\n",
       "      <td>0.75</td>\n",
       "    </tr>\n",
       "    <tr>\n",
       "      <th>36</th>\n",
       "      <td>3</td>\n",
       "      <td>orange</td>\n",
       "      <td>turkey_navel</td>\n",
       "      <td>160</td>\n",
       "      <td>7.1</td>\n",
       "      <td>7.6</td>\n",
       "      <td>0.76</td>\n",
       "    </tr>\n",
       "    <tr>\n",
       "      <th>37</th>\n",
       "      <td>3</td>\n",
       "      <td>orange</td>\n",
       "      <td>turkey_navel</td>\n",
       "      <td>154</td>\n",
       "      <td>7.3</td>\n",
       "      <td>7.3</td>\n",
       "      <td>0.79</td>\n",
       "    </tr>\n",
       "    <tr>\n",
       "      <th>38</th>\n",
       "      <td>3</td>\n",
       "      <td>orange</td>\n",
       "      <td>turkey_navel</td>\n",
       "      <td>158</td>\n",
       "      <td>7.2</td>\n",
       "      <td>7.8</td>\n",
       "      <td>0.77</td>\n",
       "    </tr>\n",
       "    <tr>\n",
       "      <th>39</th>\n",
       "      <td>3</td>\n",
       "      <td>orange</td>\n",
       "      <td>turkey_navel</td>\n",
       "      <td>144</td>\n",
       "      <td>6.8</td>\n",
       "      <td>7.4</td>\n",
       "      <td>0.75</td>\n",
       "    </tr>\n",
       "    <tr>\n",
       "      <th>40</th>\n",
       "      <td>3</td>\n",
       "      <td>orange</td>\n",
       "      <td>turkey_navel</td>\n",
       "      <td>154</td>\n",
       "      <td>7.1</td>\n",
       "      <td>7.5</td>\n",
       "      <td>0.78</td>\n",
       "    </tr>\n",
       "    <tr>\n",
       "      <th>41</th>\n",
       "      <td>3</td>\n",
       "      <td>orange</td>\n",
       "      <td>turkey_navel</td>\n",
       "      <td>180</td>\n",
       "      <td>7.6</td>\n",
       "      <td>8.2</td>\n",
       "      <td>0.79</td>\n",
       "    </tr>\n",
       "    <tr>\n",
       "      <th>42</th>\n",
       "      <td>3</td>\n",
       "      <td>orange</td>\n",
       "      <td>turkey_navel</td>\n",
       "      <td>154</td>\n",
       "      <td>7.2</td>\n",
       "      <td>7.2</td>\n",
       "      <td>0.82</td>\n",
       "    </tr>\n",
       "    <tr>\n",
       "      <th>43</th>\n",
       "      <td>4</td>\n",
       "      <td>lemon</td>\n",
       "      <td>spanish_belsan</td>\n",
       "      <td>194</td>\n",
       "      <td>7.2</td>\n",
       "      <td>10.3</td>\n",
       "      <td>0.70</td>\n",
       "    </tr>\n",
       "    <tr>\n",
       "      <th>44</th>\n",
       "      <td>4</td>\n",
       "      <td>lemon</td>\n",
       "      <td>spanish_belsan</td>\n",
       "      <td>200</td>\n",
       "      <td>7.3</td>\n",
       "      <td>10.5</td>\n",
       "      <td>0.72</td>\n",
       "    </tr>\n",
       "    <tr>\n",
       "      <th>45</th>\n",
       "      <td>4</td>\n",
       "      <td>lemon</td>\n",
       "      <td>spanish_belsan</td>\n",
       "      <td>186</td>\n",
       "      <td>7.2</td>\n",
       "      <td>9.2</td>\n",
       "      <td>0.72</td>\n",
       "    </tr>\n",
       "    <tr>\n",
       "      <th>46</th>\n",
       "      <td>4</td>\n",
       "      <td>lemon</td>\n",
       "      <td>spanish_belsan</td>\n",
       "      <td>216</td>\n",
       "      <td>7.3</td>\n",
       "      <td>10.2</td>\n",
       "      <td>0.71</td>\n",
       "    </tr>\n",
       "    <tr>\n",
       "      <th>47</th>\n",
       "      <td>4</td>\n",
       "      <td>lemon</td>\n",
       "      <td>spanish_belsan</td>\n",
       "      <td>196</td>\n",
       "      <td>7.3</td>\n",
       "      <td>9.7</td>\n",
       "      <td>0.72</td>\n",
       "    </tr>\n",
       "    <tr>\n",
       "      <th>48</th>\n",
       "      <td>4</td>\n",
       "      <td>lemon</td>\n",
       "      <td>spanish_belsan</td>\n",
       "      <td>174</td>\n",
       "      <td>7.3</td>\n",
       "      <td>10.1</td>\n",
       "      <td>0.72</td>\n",
       "    </tr>\n",
       "    <tr>\n",
       "      <th>49</th>\n",
       "      <td>4</td>\n",
       "      <td>lemon</td>\n",
       "      <td>unknown</td>\n",
       "      <td>132</td>\n",
       "      <td>5.8</td>\n",
       "      <td>8.7</td>\n",
       "      <td>0.73</td>\n",
       "    </tr>\n",
       "    <tr>\n",
       "      <th>50</th>\n",
       "      <td>4</td>\n",
       "      <td>lemon</td>\n",
       "      <td>unknown</td>\n",
       "      <td>130</td>\n",
       "      <td>6.0</td>\n",
       "      <td>8.2</td>\n",
       "      <td>0.71</td>\n",
       "    </tr>\n",
       "    <tr>\n",
       "      <th>51</th>\n",
       "      <td>4</td>\n",
       "      <td>lemon</td>\n",
       "      <td>unknown</td>\n",
       "      <td>116</td>\n",
       "      <td>6.0</td>\n",
       "      <td>7.5</td>\n",
       "      <td>0.72</td>\n",
       "    </tr>\n",
       "    <tr>\n",
       "      <th>52</th>\n",
       "      <td>4</td>\n",
       "      <td>lemon</td>\n",
       "      <td>unknown</td>\n",
       "      <td>118</td>\n",
       "      <td>5.9</td>\n",
       "      <td>8.0</td>\n",
       "      <td>0.72</td>\n",
       "    </tr>\n",
       "    <tr>\n",
       "      <th>53</th>\n",
       "      <td>4</td>\n",
       "      <td>lemon</td>\n",
       "      <td>unknown</td>\n",
       "      <td>120</td>\n",
       "      <td>6.0</td>\n",
       "      <td>8.4</td>\n",
       "      <td>0.74</td>\n",
       "    </tr>\n",
       "    <tr>\n",
       "      <th>54</th>\n",
       "      <td>4</td>\n",
       "      <td>lemon</td>\n",
       "      <td>unknown</td>\n",
       "      <td>116</td>\n",
       "      <td>6.1</td>\n",
       "      <td>8.5</td>\n",
       "      <td>0.71</td>\n",
       "    </tr>\n",
       "    <tr>\n",
       "      <th>55</th>\n",
       "      <td>4</td>\n",
       "      <td>lemon</td>\n",
       "      <td>unknown</td>\n",
       "      <td>116</td>\n",
       "      <td>6.3</td>\n",
       "      <td>7.7</td>\n",
       "      <td>0.72</td>\n",
       "    </tr>\n",
       "    <tr>\n",
       "      <th>56</th>\n",
       "      <td>4</td>\n",
       "      <td>lemon</td>\n",
       "      <td>unknown</td>\n",
       "      <td>116</td>\n",
       "      <td>5.9</td>\n",
       "      <td>8.1</td>\n",
       "      <td>0.73</td>\n",
       "    </tr>\n",
       "    <tr>\n",
       "      <th>57</th>\n",
       "      <td>4</td>\n",
       "      <td>lemon</td>\n",
       "      <td>unknown</td>\n",
       "      <td>152</td>\n",
       "      <td>6.5</td>\n",
       "      <td>8.5</td>\n",
       "      <td>0.72</td>\n",
       "    </tr>\n",
       "    <tr>\n",
       "      <th>58</th>\n",
       "      <td>4</td>\n",
       "      <td>lemon</td>\n",
       "      <td>unknown</td>\n",
       "      <td>118</td>\n",
       "      <td>6.1</td>\n",
       "      <td>8.1</td>\n",
       "      <td>0.70</td>\n",
       "    </tr>\n",
       "  </tbody>\n",
       "</table>\n",
       "</div>"
      ],
      "text/plain": [
       "    fruit_label fruit_name     fruit_subtype  mass  width  height  color_score\n",
       "0             1      apple      granny_smith   192    8.4     7.3         0.55\n",
       "1             1      apple      granny_smith   180    8.0     6.8         0.59\n",
       "2             1      apple      granny_smith   176    7.4     7.2         0.60\n",
       "3             2   mandarin          mandarin    86    6.2     4.7         0.80\n",
       "4             2   mandarin          mandarin    84    6.0     4.6         0.79\n",
       "5             2   mandarin          mandarin    80    5.8     4.3         0.77\n",
       "6             2   mandarin          mandarin    80    5.9     4.3         0.81\n",
       "7             2   mandarin          mandarin    76    5.8     4.0         0.81\n",
       "8             1      apple          braeburn   178    7.1     7.8         0.92\n",
       "9             1      apple          braeburn   172    7.4     7.0         0.89\n",
       "10            1      apple          braeburn   166    6.9     7.3         0.93\n",
       "11            1      apple          braeburn   172    7.1     7.6         0.92\n",
       "12            1      apple          braeburn   154    7.0     7.1         0.88\n",
       "13            1      apple  golden_delicious   164    7.3     7.7         0.70\n",
       "14            1      apple  golden_delicious   152    7.6     7.3         0.69\n",
       "15            1      apple  golden_delicious   156    7.7     7.1         0.69\n",
       "16            1      apple  golden_delicious   156    7.6     7.5         0.67\n",
       "17            1      apple  golden_delicious   168    7.5     7.6         0.73\n",
       "18            1      apple       cripps_pink   162    7.5     7.1         0.83\n",
       "19            1      apple       cripps_pink   162    7.4     7.2         0.85\n",
       "20            1      apple       cripps_pink   160    7.5     7.5         0.86\n",
       "21            1      apple       cripps_pink   156    7.4     7.4         0.84\n",
       "22            1      apple       cripps_pink   140    7.3     7.1         0.87\n",
       "23            1      apple       cripps_pink   170    7.6     7.9         0.88\n",
       "24            3     orange     spanish_jumbo   342    9.0     9.4         0.75\n",
       "25            3     orange     spanish_jumbo   356    9.2     9.2         0.75\n",
       "26            3     orange     spanish_jumbo   362    9.6     9.2         0.74\n",
       "27            3     orange  selected_seconds   204    7.5     9.2         0.77\n",
       "28            3     orange  selected_seconds   140    6.7     7.1         0.72\n",
       "29            3     orange  selected_seconds   160    7.0     7.4         0.81\n",
       "30            3     orange  selected_seconds   158    7.1     7.5         0.79\n",
       "31            3     orange  selected_seconds   210    7.8     8.0         0.82\n",
       "32            3     orange  selected_seconds   164    7.2     7.0         0.80\n",
       "33            3     orange      turkey_navel   190    7.5     8.1         0.74\n",
       "34            3     orange      turkey_navel   142    7.6     7.8         0.75\n",
       "35            3     orange      turkey_navel   150    7.1     7.9         0.75\n",
       "36            3     orange      turkey_navel   160    7.1     7.6         0.76\n",
       "37            3     orange      turkey_navel   154    7.3     7.3         0.79\n",
       "38            3     orange      turkey_navel   158    7.2     7.8         0.77\n",
       "39            3     orange      turkey_navel   144    6.8     7.4         0.75\n",
       "40            3     orange      turkey_navel   154    7.1     7.5         0.78\n",
       "41            3     orange      turkey_navel   180    7.6     8.2         0.79\n",
       "42            3     orange      turkey_navel   154    7.2     7.2         0.82\n",
       "43            4      lemon    spanish_belsan   194    7.2    10.3         0.70\n",
       "44            4      lemon    spanish_belsan   200    7.3    10.5         0.72\n",
       "45            4      lemon    spanish_belsan   186    7.2     9.2         0.72\n",
       "46            4      lemon    spanish_belsan   216    7.3    10.2         0.71\n",
       "47            4      lemon    spanish_belsan   196    7.3     9.7         0.72\n",
       "48            4      lemon    spanish_belsan   174    7.3    10.1         0.72\n",
       "49            4      lemon           unknown   132    5.8     8.7         0.73\n",
       "50            4      lemon           unknown   130    6.0     8.2         0.71\n",
       "51            4      lemon           unknown   116    6.0     7.5         0.72\n",
       "52            4      lemon           unknown   118    5.9     8.0         0.72\n",
       "53            4      lemon           unknown   120    6.0     8.4         0.74\n",
       "54            4      lemon           unknown   116    6.1     8.5         0.71\n",
       "55            4      lemon           unknown   116    6.3     7.7         0.72\n",
       "56            4      lemon           unknown   116    5.9     8.1         0.73\n",
       "57            4      lemon           unknown   152    6.5     8.5         0.72\n",
       "58            4      lemon           unknown   118    6.1     8.1         0.70"
      ]
     },
     "execution_count": 146,
     "metadata": {},
     "output_type": "execute_result"
    }
   ],
   "source": [
    "df"
   ]
  },
  {
   "cell_type": "markdown",
   "id": "db5668c4-12ab-4239-a9d2-97eeb0e6972c",
   "metadata": {},
   "source": [
    "## Preprocessing"
   ]
  },
  {
   "cell_type": "code",
   "execution_count": 147,
   "id": "020da19a-0571-4ff5-9b5f-55e2d93c95a7",
   "metadata": {
    "execution": {
     "iopub.execute_input": "2021-08-11T13:19:18.050305Z",
     "iopub.status.busy": "2021-08-11T13:19:18.050305Z",
     "iopub.status.idle": "2021-08-11T13:19:18.063971Z",
     "shell.execute_reply": "2021-08-11T13:19:18.063458Z",
     "shell.execute_reply.started": "2021-08-11T13:19:18.050305Z"
    },
    "tags": []
   },
   "outputs": [],
   "source": [
    "X = df.iloc[:, 3:]\n",
    "y = df['fruit_label']"
   ]
  },
  {
   "cell_type": "code",
   "execution_count": null,
   "id": "eba44d2d-192e-42f0-8ea6-4b2dc911cdec",
   "metadata": {
    "tags": []
   },
   "outputs": [],
   "source": []
  },
  {
   "cell_type": "code",
   "execution_count": 148,
   "id": "bc9a6cbc-f775-47a9-ada4-cdcf132e7383",
   "metadata": {
    "execution": {
     "iopub.execute_input": "2021-08-11T13:19:18.064962Z",
     "iopub.status.busy": "2021-08-11T13:19:18.064962Z",
     "iopub.status.idle": "2021-08-11T13:19:18.080020Z",
     "shell.execute_reply": "2021-08-11T13:19:18.079025Z",
     "shell.execute_reply.started": "2021-08-11T13:19:18.064962Z"
    },
    "tags": []
   },
   "outputs": [],
   "source": [
    "from sklearn.model_selection import train_test_split\n",
    "from sklearn.preprocessing import MinMaxScaler\n",
    "import warnings\n",
    "warnings.simplefilter(action='ignore', category=FutureWarning)\n",
    "from warnings import simplefilter\n",
    "from sklearn.exceptions import ConvergenceWarning\n",
    "simplefilter(\"ignore\", category=ConvergenceWarning)\n",
    "from sklearn.linear_model import LogisticRegression\n",
    "from sklearn.svm import LinearSVC"
   ]
  },
  {
   "cell_type": "code",
   "execution_count": 149,
   "id": "5d755ad4-a0d9-44c3-9967-3ab61d33625a",
   "metadata": {
    "execution": {
     "iopub.execute_input": "2021-08-11T13:19:18.083024Z",
     "iopub.status.busy": "2021-08-11T13:19:18.081020Z",
     "iopub.status.idle": "2021-08-11T13:19:18.094285Z",
     "shell.execute_reply": "2021-08-11T13:19:18.094285Z",
     "shell.execute_reply.started": "2021-08-11T13:19:18.083024Z"
    },
    "tags": []
   },
   "outputs": [],
   "source": [
    "# from sklearn.model_selection import train_test_split\n",
    "# X_train, X_test, y_train, y_test = train_test_split(X, y, test_size=0.25, random_state=0)"
   ]
  },
  {
   "cell_type": "code",
   "execution_count": 150,
   "id": "b5f9b10d-0852-4e2b-a8df-eb71b70b89af",
   "metadata": {
    "execution": {
     "iopub.execute_input": "2021-08-11T13:19:18.096314Z",
     "iopub.status.busy": "2021-08-11T13:19:18.096314Z",
     "iopub.status.idle": "2021-08-11T13:19:18.110243Z",
     "shell.execute_reply": "2021-08-11T13:19:18.109245Z",
     "shell.execute_reply.started": "2021-08-11T13:19:18.096314Z"
    },
    "tags": []
   },
   "outputs": [],
   "source": [
    "# from sklearn.preprocessing import MinMaxScaler\n",
    "# scaler = MinMaxScaler()\n",
    "# X_train = scaler.fit_transform(X_train)\n",
    "# X_test = scaler.transform(X_test)"
   ]
  },
  {
   "cell_type": "code",
   "execution_count": null,
   "id": "9d5bb48c-903d-4352-9742-fc67decbcf7c",
   "metadata": {
    "tags": []
   },
   "outputs": [],
   "source": []
  },
  {
   "cell_type": "markdown",
   "id": "f602e52c-aa6c-4c01-bf5a-3dc9e7b937d0",
   "metadata": {},
   "source": [
    "## KNN"
   ]
  },
  {
   "cell_type": "code",
   "execution_count": 151,
   "id": "3bf8b750-8eee-4a23-ab4b-222f34faff1d",
   "metadata": {
    "execution": {
     "iopub.execute_input": "2021-08-11T13:19:18.110243Z",
     "iopub.status.busy": "2021-08-11T13:19:18.110243Z",
     "iopub.status.idle": "2021-08-11T13:19:18.125202Z",
     "shell.execute_reply": "2021-08-11T13:19:18.124205Z",
     "shell.execute_reply.started": "2021-08-11T13:19:18.110243Z"
    },
    "tags": []
   },
   "outputs": [
    {
     "data": {
      "text/html": [
       "<div>\n",
       "<style scoped>\n",
       "    .dataframe tbody tr th:only-of-type {\n",
       "        vertical-align: middle;\n",
       "    }\n",
       "\n",
       "    .dataframe tbody tr th {\n",
       "        vertical-align: top;\n",
       "    }\n",
       "\n",
       "    .dataframe thead th {\n",
       "        text-align: right;\n",
       "    }\n",
       "</style>\n",
       "<table border=\"1\" class=\"dataframe\">\n",
       "  <thead>\n",
       "    <tr style=\"text-align: right;\">\n",
       "      <th></th>\n",
       "      <th>Label</th>\n",
       "      <th>count</th>\n",
       "    </tr>\n",
       "  </thead>\n",
       "  <tbody>\n",
       "    <tr>\n",
       "      <th>0</th>\n",
       "      <td>1</td>\n",
       "      <td>19</td>\n",
       "    </tr>\n",
       "    <tr>\n",
       "      <th>1</th>\n",
       "      <td>2</td>\n",
       "      <td>5</td>\n",
       "    </tr>\n",
       "    <tr>\n",
       "      <th>2</th>\n",
       "      <td>3</td>\n",
       "      <td>19</td>\n",
       "    </tr>\n",
       "    <tr>\n",
       "      <th>3</th>\n",
       "      <td>4</td>\n",
       "      <td>16</td>\n",
       "    </tr>\n",
       "  </tbody>\n",
       "</table>\n",
       "</div>"
      ],
      "text/plain": [
       "   Label  count\n",
       "0      1     19\n",
       "1      2      5\n",
       "2      3     19\n",
       "3      4     16"
      ]
     },
     "metadata": {},
     "output_type": "display_data"
    },
    {
     "name": "stdout",
     "output_type": "stream",
     "text": [
      "PCC = 0.28813559322033894\n",
      "1.25*PCC = 0.36016949152542366\n"
     ]
    }
   ],
   "source": [
    "from collections import Counter\n",
    "fruit_counts = Counter(y)\n",
    "# display(fruit_counts)\n",
    "df_fruit_counts = (pd.DataFrame.from_dict(fruit_counts, orient='index')\n",
    "                   .reset_index()\n",
    "                   .rename({'index': 'Label', 0: 'count'}, axis=1))\n",
    "display(df_fruit_counts)\n",
    "\n",
    "PCC = ((df_fruit_counts['count'] / len(y)) ** 2).sum()\n",
    "print(f'PCC = {PCC}')\n",
    "print(f'1.25*PCC = {PCC*1.25}')"
   ]
  },
  {
   "cell_type": "code",
   "execution_count": 152,
   "id": "4cf48f5b-589a-4390-8659-fb9833567a82",
   "metadata": {
    "execution": {
     "iopub.execute_input": "2021-08-11T13:19:18.126237Z",
     "iopub.status.busy": "2021-08-11T13:19:18.125202Z",
     "iopub.status.idle": "2021-08-11T13:19:31.069424Z",
     "shell.execute_reply": "2021-08-11T13:19:31.069424Z",
     "shell.execute_reply.started": "2021-08-11T13:19:18.126237Z"
    },
    "tags": []
   },
   "outputs": [],
   "source": [
    "from sklearn.neighbors import KNeighborsClassifier\n",
    "\n",
    "lahat_training = pd.DataFrame()\n",
    "lahat_test = pd.DataFrame()\n",
    "for seedN in range(1,101,1):\n",
    "    from sklearn.model_selection import train_test_split\n",
    "    X_train, X_test, y_train, y_test = train_test_split(X,\n",
    "                                                        y,\n",
    "                                                        test_size=0.25,\n",
    "                                                        random_state=seedN)\n",
    "    \n",
    "    scaler = MinMaxScaler()\n",
    "    X_train = scaler.fit_transform(X_train)\n",
    "    X_test = scaler.transform(X_test)\n",
    "    \n",
    "    training_accuracy = []\n",
    "    test_accuracy = []\n",
    "    neighbors_settings = range(1, len(X_train)) # try n_neighbors from 1 to 50\n",
    "\n",
    "    for n_neighbors in neighbors_settings:   \n",
    "        clf = KNeighborsClassifier(n_neighbors=n_neighbors)  # build the model\n",
    "        clf.fit(X_train, y_train)\n",
    "\n",
    "        training_accuracy.append(clf.score(X_train, y_train)) # record training set accuracy\n",
    "        test_accuracy.append(clf.score(X_test, y_test))   # record generalization accuracy\n",
    "    \n",
    "    lahat_training[seedN]=training_accuracy\n",
    "    lahat_test[seedN] = test_accuracy\n"
   ]
  },
  {
   "cell_type": "code",
   "execution_count": 153,
   "id": "406825c9-22fe-4986-b2b0-0d1c19275825",
   "metadata": {
    "execution": {
     "iopub.execute_input": "2021-08-11T13:19:31.070421Z",
     "iopub.status.busy": "2021-08-11T13:19:31.070421Z",
     "iopub.status.idle": "2021-08-11T13:19:31.364567Z",
     "shell.execute_reply": "2021-08-11T13:19:31.364567Z",
     "shell.execute_reply.started": "2021-08-11T13:19:31.070421Z"
    },
    "tags": []
   },
   "outputs": [
    {
     "data": {
      "text/plain": [
       "<matplotlib.legend.Legend at 0x1cee261b850>"
      ]
     },
     "execution_count": 153,
     "metadata": {},
     "output_type": "execute_result"
    },
    {
     "data": {
      "image/png": "[encoded data removed]",
      "text/plain": [
       "<Figure size 432x288 with 1 Axes>"
      ]
     },
     "metadata": {
      "needs_background": "light"
     },
     "output_type": "display_data"
    }
   ],
   "source": [
    "plt.errorbar(neighbors_settings, lahat_training.mean(axis=1),\n",
    "             yerr=lahat_training.std(axis=1)/2, label=\"training accuracy\")\n",
    "plt.errorbar(neighbors_settings, lahat_test.mean(axis=1),\n",
    "             yerr=lahat_test.std(axis=1)/6, label=\"test accuracy\")\n",
    "plt.ylabel(\"Accuracy\")\n",
    "plt.xlabel(\"n_neighbors\")\n",
    "plt.legend()"
   ]
  },
  {
   "cell_type": "code",
   "execution_count": 154,
   "id": "8cd6b3a0-0755-4bf4-8c43-98eb3e9f032a",
   "metadata": {
    "execution": {
     "iopub.execute_input": "2021-08-11T13:19:31.366562Z",
     "iopub.status.busy": "2021-08-11T13:19:31.365565Z",
     "iopub.status.idle": "2021-08-11T13:19:31.381523Z",
     "shell.execute_reply": "2021-08-11T13:19:31.380525Z",
     "shell.execute_reply.started": "2021-08-11T13:19:31.365565Z"
    },
    "tags": []
   },
   "outputs": [
    {
     "name": "stdout",
     "output_type": "stream",
     "text": [
      "optimal k = 1\n",
      "avg test_score = 0.9406666666666665\n"
     ]
    }
   ],
   "source": [
    "optimal_k = lahat_test.mean(axis=1).idxmax()\n",
    "test_score_KNN = lahat_test.mean(axis=1)[optimal_k]\n",
    "print(f'optimal k = {optimal_k+1}\\navg test_score = {test_score_KNN}')"
   ]
  },
  {
   "cell_type": "markdown",
   "id": "5a2e4e24-4500-4060-8ffd-11dfc16befd3",
   "metadata": {},
   "source": [
    "## Logistic Regression"
   ]
  },
  {
   "cell_type": "markdown",
   "id": "e2219d0b-9d2f-4422-838d-f4f78ce03fe1",
   "metadata": {},
   "source": [
    "### L1 Regularization"
   ]
  },
  {
   "cell_type": "code",
   "execution_count": 155,
   "id": "f3e5a0f8-61bb-4376-9ed9-3a5df7998ffd",
   "metadata": {
    "execution": {
     "iopub.execute_input": "2021-08-11T13:19:31.383518Z",
     "iopub.status.busy": "2021-08-11T13:19:31.382521Z",
     "iopub.status.idle": "2021-08-11T13:19:35.340913Z",
     "shell.execute_reply": "2021-08-11T13:19:35.340913Z",
     "shell.execute_reply.started": "2021-08-11T13:19:31.383518Z"
    },
    "tags": []
   },
   "outputs": [],
   "source": [
    "No_trials = 101\n",
    "\n",
    "lahat_training = pd.DataFrame()\n",
    "lahat_test = pd.DataFrame()\n",
    "for seedN in range(1,No_trials,1):\n",
    "    \n",
    "    X_train, X_test, y_train, y_test = train_test_split(X,\n",
    "                                                        y,\n",
    "                                                        test_size=0.25,\n",
    "                                                        random_state=seedN)\n",
    "    \n",
    "    scaler = MinMaxScaler()\n",
    "    X_train = scaler.fit_transform(X_train)\n",
    "    X_test = scaler.transform(X_test)\n",
    "    \n",
    "    training_accuracy = []\n",
    "    test_accuracy = []\n",
    "    \n",
    "    C = [1e-8, 1e-4, 1e-3,0.1, 5, 10, 15,  20, 100, 300, 1000, 5000, 5300, 5600, 5950, 8000, 8300, 8600, 8950, 10_000, 15_000]\n",
    "\n",
    "    for alpha_run in C:\n",
    "        \n",
    "        lr_l1 = LogisticRegression(C=alpha_run, penalty=\"l1\", solver='liblinear', multi_class='auto').fit(X_train, y_train)\n",
    "        training_accuracy.append(lr_l1.score(X_train, y_train))\n",
    "        test_accuracy.append(lr_l1.score(X_test, y_test))\n",
    "            \n",
    "    lahat_training[seedN]=training_accuracy\n",
    "    lahat_test[seedN] = test_accuracy"
   ]
  },
  {
   "cell_type": "code",
   "execution_count": 156,
   "id": "073ac9c4-fae1-41d8-8baa-17949b08bdfd",
   "metadata": {
    "execution": {
     "iopub.execute_input": "2021-08-11T13:19:35.341861Z",
     "iopub.status.busy": "2021-08-11T13:19:35.341861Z",
     "iopub.status.idle": "2021-08-11T13:19:35.357815Z",
     "shell.execute_reply": "2021-08-11T13:19:35.356817Z",
     "shell.execute_reply.started": "2021-08-11T13:19:35.341861Z"
    }
   },
   "outputs": [
    {
     "data": {
      "text/plain": [
       "0     0.307333\n",
       "1     0.307333\n",
       "2     0.307333\n",
       "3     0.284000\n",
       "4     0.670667\n",
       "5     0.708667\n",
       "6     0.713333\n",
       "7     0.721333\n",
       "8     0.738000\n",
       "9     0.745333\n",
       "10    0.748667\n",
       "11    0.752667\n",
       "12    0.752000\n",
       "13    0.752000\n",
       "14    0.752000\n",
       "15    0.752667\n",
       "16    0.752000\n",
       "17    0.752000\n",
       "18    0.751333\n",
       "19    0.752000\n",
       "20    0.750667\n",
       "dtype: float64"
      ]
     },
     "execution_count": 156,
     "metadata": {},
     "output_type": "execute_result"
    }
   ],
   "source": [
    "lahat_test.mean(axis=1)"
   ]
  },
  {
   "cell_type": "code",
   "execution_count": 157,
   "id": "8d83ad0d-ee13-4b1a-a911-8274397e290a",
   "metadata": {
    "execution": {
     "iopub.execute_input": "2021-08-11T13:19:35.358814Z",
     "iopub.status.busy": "2021-08-11T13:19:35.358814Z",
     "iopub.status.idle": "2021-08-11T13:19:35.812597Z",
     "shell.execute_reply": "2021-08-11T13:19:35.812597Z",
     "shell.execute_reply.started": "2021-08-11T13:19:35.358814Z"
    },
    "tags": []
   },
   "outputs": [
    {
     "name": "stdout",
     "output_type": "stream",
     "text": [
      "Highest Test Set Achieved = 0.752667\n",
      "Best C Parameter = 5000.000000\n"
     ]
    },
    {
     "data": {
      "image/png": "[encoded data removed]",
      "text/plain": [
       "<Figure size 1080x432 with 1 Axes>"
      ]
     },
     "metadata": {
      "needs_background": "light"
     },
     "output_type": "display_data"
    }
   ],
   "source": [
    "fig = plt.figure(figsize=(15, 6))\n",
    "\n",
    "plt.xscale('log')\n",
    "plt.errorbar(C, lahat_training.mean(axis=1),\n",
    "             yerr=lahat_training.var(axis=1), label=\"training accuracy\", marker='o')\n",
    "plt.errorbar(C, lahat_test.mean(axis=1), marker='^',\n",
    "             yerr=lahat_test.var(axis=1), label=\"test accuracy\")\n",
    "plt.ylabel(\"Accuracy\")\n",
    "plt.xlabel(\"C\")\n",
    "#plt.ylim(.9,1)\n",
    "plt.legend()\n",
    "print(\"Highest Test Set Achieved = %f\" % np.amax(lahat_test.mean(axis=1)))\n",
    "print(\"Best C Parameter = %f\" % C[np.argmax(lahat_test.mean(axis=1))])"
   ]
  },
  {
   "cell_type": "code",
   "execution_count": 158,
   "id": "cc0deb6e-3aee-4f78-8790-5ee4e5159c8f",
   "metadata": {
    "execution": {
     "iopub.execute_input": "2021-08-11T13:19:35.813597Z",
     "iopub.status.busy": "2021-08-11T13:19:35.813597Z",
     "iopub.status.idle": "2021-08-11T13:19:35.844514Z",
     "shell.execute_reply": "2021-08-11T13:19:35.843542Z",
     "shell.execute_reply.started": "2021-08-11T13:19:35.813597Z"
    },
    "tags": []
   },
   "outputs": [
    {
     "name": "stdout",
     "output_type": "stream",
     "text": [
      "Top predictors of each class\n"
     ]
    },
    {
     "data": {
      "text/html": [
       "<div>\n",
       "<style scoped>\n",
       "    .dataframe tbody tr th:only-of-type {\n",
       "        vertical-align: middle;\n",
       "    }\n",
       "\n",
       "    .dataframe tbody tr th {\n",
       "        vertical-align: top;\n",
       "    }\n",
       "\n",
       "    .dataframe thead th {\n",
       "        text-align: right;\n",
       "    }\n",
       "</style>\n",
       "<table border=\"1\" class=\"dataframe\">\n",
       "  <thead>\n",
       "    <tr style=\"text-align: right;\">\n",
       "      <th></th>\n",
       "      <th>Class</th>\n",
       "      <th>value</th>\n",
       "      <th>feature</th>\n",
       "    </tr>\n",
       "  </thead>\n",
       "  <tbody>\n",
       "    <tr>\n",
       "      <th>0</th>\n",
       "      <td>1</td>\n",
       "      <td>34.644269</td>\n",
       "      <td>2</td>\n",
       "    </tr>\n",
       "    <tr>\n",
       "      <th>1</th>\n",
       "      <td>2</td>\n",
       "      <td>44.046781</td>\n",
       "      <td>1</td>\n",
       "    </tr>\n",
       "    <tr>\n",
       "      <th>2</th>\n",
       "      <td>3</td>\n",
       "      <td>22.921361</td>\n",
       "      <td>1</td>\n",
       "    </tr>\n",
       "    <tr>\n",
       "      <th>3</th>\n",
       "      <td>4</td>\n",
       "      <td>58.214868</td>\n",
       "      <td>2</td>\n",
       "    </tr>\n",
       "  </tbody>\n",
       "</table>\n",
       "</div>"
      ],
      "text/plain": [
       "   Class      value  feature\n",
       "0      1  34.644269        2\n",
       "1      2  44.046781        1\n",
       "2      3  22.921361        1\n",
       "3      4  58.214868        2"
      ]
     },
     "execution_count": 158,
     "metadata": {},
     "output_type": "execute_result"
    }
   ],
   "source": [
    "X_train, X_test, y_train, y_test = train_test_split(X,\n",
    "                                                    y,\n",
    "                                                    test_size=0.25,\n",
    "                                                    random_state=0)\n",
    "\n",
    "\n",
    "scaler = MinMaxScaler()\n",
    "X_train = scaler.fit_transform(X_train)\n",
    "X_test = scaler.transform(X_test)\n",
    "lr_l1 = LogisticRegression(C=C[np.argmax(lahat_test.mean(axis=1))], penalty=\"l1\", solver='liblinear').fit(X_train, y_train)\n",
    "\n",
    "li = []\n",
    "for class_ in lr_l1.classes_:\n",
    "    max_value = np.max(np.abs(lr_l1.coef_[class_-1]))\n",
    "    li.append((class_, max_value, lr_l1.classes_[np.argmax(np.abs(lr_l1.coef_[class_-1]))]))\n",
    "print('Top predictors of each class')\n",
    "pd.DataFrame(li, columns=['Class', 'value', 'feature'])"
   ]
  },
  {
   "cell_type": "code",
   "execution_count": 159,
   "id": "020083b0-8986-4f77-a569-bcc3b979a7c5",
   "metadata": {
    "execution": {
     "iopub.execute_input": "2021-08-11T13:19:35.845512Z",
     "iopub.status.busy": "2021-08-11T13:19:35.845512Z",
     "iopub.status.idle": "2021-08-11T13:19:35.861467Z",
     "shell.execute_reply": "2021-08-11T13:19:35.859481Z",
     "shell.execute_reply.started": "2021-08-11T13:19:35.845512Z"
    },
    "tags": []
   },
   "outputs": [
    {
     "data": {
      "text/plain": [
       "array([[-32.89636001,  34.64426941,   0.4856715 ,   6.58801449],\n",
       "       [-44.04678085,   0.        , -18.69507934,  10.43890856],\n",
       "       [ 22.92136115,  -6.25818665,  -6.54445556,   1.00138959],\n",
       "       [  0.        , -58.21486778,  57.37415026, -45.98535518]])"
      ]
     },
     "execution_count": 159,
     "metadata": {},
     "output_type": "execute_result"
    }
   ],
   "source": [
    "lr_l1.coef_"
   ]
  },
  {
   "cell_type": "code",
   "execution_count": 160,
   "id": "1c1a83de-9476-491b-8b63-c9495859617f",
   "metadata": {
    "execution": {
     "iopub.execute_input": "2021-08-11T13:19:35.862464Z",
     "iopub.status.busy": "2021-08-11T13:19:35.862464Z",
     "iopub.status.idle": "2021-08-11T13:19:35.875429Z",
     "shell.execute_reply": "2021-08-11T13:19:35.874433Z",
     "shell.execute_reply.started": "2021-08-11T13:19:35.862464Z"
    },
    "tags": []
   },
   "outputs": [
    {
     "data": {
      "text/plain": [
       "[1, 2, 3, 4]"
      ]
     },
     "execution_count": 160,
     "metadata": {},
     "output_type": "execute_result"
    }
   ],
   "source": [
    "lr_l1.classes_.tolist()"
   ]
  },
  {
   "cell_type": "markdown",
   "id": "ed842689-5032-4704-9ab5-afa8060d681d",
   "metadata": {},
   "source": [
    "### L2 Regularization"
   ]
  },
  {
   "cell_type": "code",
   "execution_count": 161,
   "id": "b81dadef-7728-431c-9a10-47e547e32850",
   "metadata": {
    "execution": {
     "iopub.execute_input": "2021-08-11T13:19:35.878424Z",
     "iopub.status.busy": "2021-08-11T13:19:35.878424Z",
     "iopub.status.idle": "2021-08-11T13:20:09.066899Z",
     "shell.execute_reply": "2021-08-11T13:20:09.065899Z",
     "shell.execute_reply.started": "2021-08-11T13:19:35.878424Z"
    },
    "tags": []
   },
   "outputs": [],
   "source": [
    "No_trials = 101\n",
    "\n",
    "all_training = pd.DataFrame()\n",
    "all_test = pd.DataFrame()\n",
    "for seedN in range(1,No_trials,1):\n",
    "    \n",
    "    X_train, X_test, y_train, y_test = train_test_split(X,\n",
    "                                                        y,\n",
    "                                                        test_size=0.25,\n",
    "                                                        random_state=seedN)\n",
    "    \n",
    "    \n",
    "    scaler = MinMaxScaler()\n",
    "    X_train = scaler.fit_transform(X_train)\n",
    "    X_test = scaler.transform(X_test)\n",
    "    \n",
    "    training_accuracy = []\n",
    "    test_accuracy = []\n",
    "    \n",
    "    C = [1e-8, 1e-4, 1e-3,0.1, 0.2,0.4, 0.75, 1, 1.5, 3, 5, 10, 15,  20, 100, 300, 320, 350, 400, 450, 500, 1000, 5000, 8000]\n",
    "\n",
    "    for alpha_run in C:\n",
    "        lr_l2 = LogisticRegression(penalty=\"l2\",C=alpha_run, multi_class='auto').fit(X_train, y_train)\n",
    "        training_accuracy.append(lr_l2.score(X_train, y_train))\n",
    "        test_accuracy.append(lr_l2.score(X_test, y_test))\n",
    "        #print(alpha_run)\n",
    "    all_training[seedN]=training_accuracy\n",
    "    all_test[seedN] = test_accuracy"
   ]
  },
  {
   "cell_type": "code",
   "execution_count": 162,
   "id": "07a1fab5-9b69-4155-b4b6-5247af4bbb47",
   "metadata": {
    "execution": {
     "iopub.execute_input": "2021-08-11T13:20:09.069891Z",
     "iopub.status.busy": "2021-08-11T13:20:09.069891Z",
     "iopub.status.idle": "2021-08-11T13:20:09.097387Z",
     "shell.execute_reply": "2021-08-11T13:20:09.096399Z",
     "shell.execute_reply.started": "2021-08-11T13:20:09.069891Z"
    },
    "tags": []
   },
   "outputs": [
    {
     "data": {
      "text/plain": [
       "0     0.236000\n",
       "1     0.236667\n",
       "2     0.238000\n",
       "3     0.272667\n",
       "4     0.346000\n",
       "5     0.436667\n",
       "6     0.497333\n",
       "7     0.519333\n",
       "8     0.552000\n",
       "9     0.614667\n",
       "10    0.656000\n",
       "11    0.696667\n",
       "12    0.716000\n",
       "13    0.732667\n",
       "14    0.796667\n",
       "15    0.804667\n",
       "16    0.804667\n",
       "17    0.804667\n",
       "18    0.802667\n",
       "19    0.802667\n",
       "20    0.803333\n",
       "21    0.802667\n",
       "22    0.802667\n",
       "23    0.803333\n",
       "dtype: float64"
      ]
     },
     "execution_count": 162,
     "metadata": {},
     "output_type": "execute_result"
    }
   ],
   "source": [
    "all_test.mean(axis=1)"
   ]
  },
  {
   "cell_type": "code",
   "execution_count": 163,
   "id": "39fbbd3c-e1aa-4765-a0fb-0ce70a6c4fbf",
   "metadata": {
    "execution": {
     "iopub.execute_input": "2021-08-11T13:20:09.101376Z",
     "iopub.status.busy": "2021-08-11T13:20:09.100384Z",
     "iopub.status.idle": "2021-08-11T13:20:09.799509Z",
     "shell.execute_reply": "2021-08-11T13:20:09.798512Z",
     "shell.execute_reply.started": "2021-08-11T13:20:09.101376Z"
    },
    "tags": []
   },
   "outputs": [
    {
     "name": "stdout",
     "output_type": "stream",
     "text": [
      "Highest Test Set Achieved = 0.804667\n",
      "Best C Parameter = 300.000000\n"
     ]
    },
    {
     "data": {
      "image/png": "[encoded data removed]",
      "text/plain": [
       "<Figure size 1080x432 with 1 Axes>"
      ]
     },
     "metadata": {
      "needs_background": "light"
     },
     "output_type": "display_data"
    }
   ],
   "source": [
    "fig = plt.figure(figsize=(15, 6))\n",
    "\n",
    "plt.xscale('log')\n",
    "plt.errorbar(C, all_training.mean(axis=1),\n",
    "             yerr=all_training.var(axis=1), label=\"training accuracy\", marker='o')\n",
    "plt.errorbar(C, all_test.mean(axis=1), marker='^',\n",
    "             yerr=5*all_test.var(axis=1), label=\"test accuracy\")\n",
    "plt.ylabel(\"Accuracy\")\n",
    "plt.xlabel(\"C\")\n",
    "# plt.ylim(.7,1)\n",
    "plt.legend()\n",
    "\n",
    "print(\"Highest Test Set Achieved = %f\" % np.amax(all_test.mean(axis=1)))\n",
    "print(\"Best C Parameter = %f\" % C[np.argmax(all_test.mean(axis=1))])"
   ]
  },
  {
   "cell_type": "code",
   "execution_count": 164,
   "id": "3467c4e0-9fb7-4e7e-adcf-5c0c5bc8bdf0",
   "metadata": {
    "execution": {
     "iopub.execute_input": "2021-08-11T13:20:09.801503Z",
     "iopub.status.busy": "2021-08-11T13:20:09.801503Z",
     "iopub.status.idle": "2021-08-11T13:20:09.878297Z",
     "shell.execute_reply": "2021-08-11T13:20:09.877300Z",
     "shell.execute_reply.started": "2021-08-11T13:20:09.801503Z"
    },
    "tags": []
   },
   "outputs": [],
   "source": [
    "X_train, X_test, y_train, y_test = train_test_split(X, \n",
    "                                                    y, \n",
    "                                                    test_size=0.25, \n",
    "                                                    random_state=0)\n",
    "\n",
    "scaler = MinMaxScaler()\n",
    "X_train = scaler.fit_transform(X_train)\n",
    "X_test = scaler.transform(X_test)\n",
    "\n",
    "lr_l2 = LogisticRegression(C=C[np.argmax(all_test.mean(axis=1))]).fit(X_train, y_train)\n",
    "\n",
    "# print(\"Top Predictor = %s\" %X.columns[np.argmax(lr_l2.coef_.T)])\n",
    "# print(\"Top Predictor Weight of ML with highest prediction = %f\" %np.amax(lr_l2 .coef_.T))\n"
   ]
  },
  {
   "cell_type": "code",
   "execution_count": 165,
   "id": "9daf0b7c-487d-400b-ac82-c0acf4ba09a7",
   "metadata": {
    "execution": {
     "iopub.execute_input": "2021-08-11T13:20:09.879295Z",
     "iopub.status.busy": "2021-08-11T13:20:09.879295Z",
     "iopub.status.idle": "2021-08-11T13:20:09.892259Z",
     "shell.execute_reply": "2021-08-11T13:20:09.892259Z",
     "shell.execute_reply.started": "2021-08-11T13:20:09.879295Z"
    },
    "tags": []
   },
   "outputs": [
    {
     "data": {
      "text/plain": [
       "array([[ -7.24559516,  18.98667737,  -5.0928975 ,   5.1397794 ],\n",
       "       [ -5.01838465,  -4.9241176 , -10.18576559,   1.80911127],\n",
       "       [ 13.03523148,  -1.40541467,  -2.79958364,   1.87400782],\n",
       "       [ -0.77125167, -12.6571451 ,  18.07824673,  -8.82289849]])"
      ]
     },
     "execution_count": 165,
     "metadata": {},
     "output_type": "execute_result"
    }
   ],
   "source": [
    "lr_l2.coef_\n",
    "\n",
    "## proportion of class(1) * (1.89) + class2*-6.25 ..."
   ]
  },
  {
   "cell_type": "code",
   "execution_count": 166,
   "id": "75df691f-bfb2-41db-aec8-6a8ca6fec793",
   "metadata": {
    "execution": {
     "iopub.execute_input": "2021-08-11T13:20:09.894256Z",
     "iopub.status.busy": "2021-08-11T13:20:09.894256Z",
     "iopub.status.idle": "2021-08-11T13:20:09.909214Z",
     "shell.execute_reply": "2021-08-11T13:20:09.907226Z",
     "shell.execute_reply.started": "2021-08-11T13:20:09.894256Z"
    },
    "tags": []
   },
   "outputs": [
    {
     "name": "stdout",
     "output_type": "stream",
     "text": [
      "Top predictors of each class\n"
     ]
    },
    {
     "data": {
      "text/html": [
       "<div>\n",
       "<style scoped>\n",
       "    .dataframe tbody tr th:only-of-type {\n",
       "        vertical-align: middle;\n",
       "    }\n",
       "\n",
       "    .dataframe tbody tr th {\n",
       "        vertical-align: top;\n",
       "    }\n",
       "\n",
       "    .dataframe thead th {\n",
       "        text-align: right;\n",
       "    }\n",
       "</style>\n",
       "<table border=\"1\" class=\"dataframe\">\n",
       "  <thead>\n",
       "    <tr style=\"text-align: right;\">\n",
       "      <th></th>\n",
       "      <th>Class</th>\n",
       "      <th>value</th>\n",
       "      <th>feature</th>\n",
       "    </tr>\n",
       "  </thead>\n",
       "  <tbody>\n",
       "    <tr>\n",
       "      <th>0</th>\n",
       "      <td>1</td>\n",
       "      <td>18.986677</td>\n",
       "      <td>2</td>\n",
       "    </tr>\n",
       "    <tr>\n",
       "      <th>1</th>\n",
       "      <td>2</td>\n",
       "      <td>10.185766</td>\n",
       "      <td>3</td>\n",
       "    </tr>\n",
       "    <tr>\n",
       "      <th>2</th>\n",
       "      <td>3</td>\n",
       "      <td>13.035231</td>\n",
       "      <td>1</td>\n",
       "    </tr>\n",
       "    <tr>\n",
       "      <th>3</th>\n",
       "      <td>4</td>\n",
       "      <td>18.078247</td>\n",
       "      <td>3</td>\n",
       "    </tr>\n",
       "  </tbody>\n",
       "</table>\n",
       "</div>"
      ],
      "text/plain": [
       "   Class      value  feature\n",
       "0      1  18.986677        2\n",
       "1      2  10.185766        3\n",
       "2      3  13.035231        1\n",
       "3      4  18.078247        3"
      ]
     },
     "execution_count": 166,
     "metadata": {},
     "output_type": "execute_result"
    }
   ],
   "source": [
    "li = []\n",
    "for class_ in lr_l2.classes_:\n",
    "    max_value = np.max(np.abs(lr_l2.coef_[class_-1]))\n",
    "    li.append((class_, max_value, lr_l2.classes_[np.argmax(np.abs(lr_l2.coef_[class_-1]))]))\n",
    "print('Top predictors of each class')\n",
    "pd.DataFrame(li, columns=['Class', 'value', 'feature'])"
   ]
  },
  {
   "cell_type": "code",
   "execution_count": 167,
   "id": "aa226ce1-e99c-4712-ba37-82581a9eaf7f",
   "metadata": {
    "execution": {
     "iopub.execute_input": "2021-08-11T13:20:09.911211Z",
     "iopub.status.busy": "2021-08-11T13:20:09.911211Z",
     "iopub.status.idle": "2021-08-11T13:20:09.925171Z",
     "shell.execute_reply": "2021-08-11T13:20:09.923177Z",
     "shell.execute_reply.started": "2021-08-11T13:20:09.911211Z"
    },
    "tags": []
   },
   "outputs": [
    {
     "data": {
      "text/plain": [
       "Index(['mass', 'width', 'height', 'color_score'], dtype='object')"
      ]
     },
     "execution_count": 167,
     "metadata": {},
     "output_type": "execute_result"
    }
   ],
   "source": [
    "X.columns"
   ]
  },
  {
   "cell_type": "code",
   "execution_count": null,
   "id": "35d97038-5325-409c-93f2-93be3064a4ac",
   "metadata": {
    "tags": []
   },
   "outputs": [],
   "source": []
  },
  {
   "cell_type": "markdown",
   "id": "6fc9cf36-4477-4d2d-9b57-00948683fadc",
   "metadata": {},
   "source": [
    "## SVM"
   ]
  },
  {
   "cell_type": "markdown",
   "id": "831948fa-930b-44eb-9c64-68ccf9ee73a7",
   "metadata": {},
   "source": [
    "### L1 Regularization"
   ]
  },
  {
   "cell_type": "code",
   "execution_count": 168,
   "id": "8104e556-04a1-4b63-95e5-66baf4ae8dce",
   "metadata": {
    "execution": {
     "iopub.execute_input": "2021-08-11T13:20:09.927166Z",
     "iopub.status.busy": "2021-08-11T13:20:09.926169Z",
     "iopub.status.idle": "2021-08-11T13:20:16.966205Z",
     "shell.execute_reply": "2021-08-11T13:20:16.966205Z",
     "shell.execute_reply.started": "2021-08-11T13:20:09.927166Z"
    },
    "tags": []
   },
   "outputs": [],
   "source": [
    "No_trials=101\n",
    "\n",
    "from sklearn.svm import LinearSVC\n",
    "\n",
    "lahat_training = pd.DataFrame()\n",
    "lahat_test = pd.DataFrame()\n",
    "for seedN in range(1,No_trials,1):\n",
    "    \n",
    "    X_train, X_test, y_train, y_test = train_test_split(X,\n",
    "                                                        y,\n",
    "                                                        test_size=0.25,\n",
    "                                                        random_state=seedN)\n",
    "    \n",
    "    scaler = MinMaxScaler()\n",
    "    X_train = scaler.fit_transform(X_train)\n",
    "    X_test = scaler.transform(X_test)\n",
    "    \n",
    "    #X_train, X_test, y_train, y_test = train_test_split(cancer.data, cancer.target, stratify=cancer.target, random_state=42)\n",
    "    training_accuracy = []\n",
    "    test_accuracy = []\n",
    "    #neighbors_settings = range(1, 100) # try n_neighbors from 1 to 50\n",
    "\n",
    "    C = [1e-3,0.1, 0.2,0.4, 0.75, 1, 1.5, 3, 5, 10, 15,  20, 100, 300, 500, 800, 950, 1000, 1150, 1250, 5000, 8000, 10_000]\n",
    "    for alpha_run in C:\n",
    "\n",
    "        svm_l1 = LinearSVC(C=alpha_run, penalty=\"l1\", loss='squared_hinge', dual=False).fit(X_train, y_train)\n",
    "        training_accuracy.append(svm_l1.score(X_train, y_train))\n",
    "        test_accuracy.append(svm_l1.score(X_test, y_test))\n",
    "\n",
    "    \n",
    "    lahat_training[seedN]=training_accuracy\n",
    "    lahat_test[seedN] = test_accuracy"
   ]
  },
  {
   "cell_type": "code",
   "execution_count": 169,
   "id": "9bd3eb69-dbf4-4afa-91a7-2c6859cfbb97",
   "metadata": {
    "execution": {
     "iopub.execute_input": "2021-08-11T13:20:16.968179Z",
     "iopub.status.busy": "2021-08-11T13:20:16.968179Z",
     "iopub.status.idle": "2021-08-11T13:20:17.934654Z",
     "shell.execute_reply": "2021-08-11T13:20:17.933682Z",
     "shell.execute_reply.started": "2021-08-11T13:20:16.968179Z"
    },
    "tags": []
   },
   "outputs": [
    {
     "name": "stdout",
     "output_type": "stream",
     "text": [
      "Highest Test Set Achieved = 0.734000\n",
      "Best C Parameter = 1250.000000\n"
     ]
    },
    {
     "data": {
      "image/png": "[encoded data removed]",
      "text/plain": [
       "<Figure size 1080x432 with 1 Axes>"
      ]
     },
     "metadata": {
      "needs_background": "light"
     },
     "output_type": "display_data"
    }
   ],
   "source": [
    "fig = plt.figure(figsize=(15, 6))\n",
    "\n",
    "plt.xscale('log')\n",
    "plt.errorbar(C, lahat_training.mean(axis=1),\n",
    "             yerr=lahat_training.var(axis=1), label=\"training accuracy\", marker='o')\n",
    "plt.errorbar(C, lahat_test.mean(axis=1), marker='^',\n",
    "             yerr=lahat_test.var(axis=1), label=\"test accuracy\")\n",
    "plt.ylabel(\"Accuracy\")\n",
    "plt.xlabel(\"C\")\n",
    "# plt.ylim(.7,1)\n",
    "plt.legend()\n",
    "\n",
    "print(\"Highest Test Set Achieved = %f\" % np.amax(lahat_test.mean(axis=1)))\n",
    "print(\"Best C Parameter = %f\" % C[np.argmax(lahat_test.mean(axis=1))])"
   ]
  },
  {
   "cell_type": "code",
   "execution_count": 170,
   "id": "0fb94118-e665-4b0b-9041-1ceb252b64f4",
   "metadata": {
    "execution": {
     "iopub.execute_input": "2021-08-11T13:20:17.935650Z",
     "iopub.status.busy": "2021-08-11T13:20:17.935650Z",
     "iopub.status.idle": "2021-08-11T13:20:17.964574Z",
     "shell.execute_reply": "2021-08-11T13:20:17.963578Z",
     "shell.execute_reply.started": "2021-08-11T13:20:17.935650Z"
    },
    "tags": []
   },
   "outputs": [
    {
     "data": {
      "text/plain": [
       "array([[-10.28385314,  11.37370928,  -0.08142365,   2.06282244],\n",
       "       [ -5.06415799,   0.        ,  -2.81628243,   1.26523606],\n",
       "       [  7.65456025,  -2.2348202 ,  -2.06868793,   0.35681574],\n",
       "       [  0.13884675, -10.06077518,   9.20709175,  -8.19624972]])"
      ]
     },
     "execution_count": 170,
     "metadata": {},
     "output_type": "execute_result"
    }
   ],
   "source": [
    "X_train, X_test, y_train, y_test = train_test_split(X, \n",
    "                                                    y, \n",
    "                                                    test_size=0.25, \n",
    "                                                    random_state=0)\n",
    "\n",
    "scaler = MinMaxScaler()\n",
    "X_train = scaler.fit_transform(X_train)\n",
    "X_test = scaler.transform(X_test)\n",
    "\n",
    "\n",
    "\n",
    "svm_l1 = LinearSVC(C=C[np.argmax(lahat_test.mean(axis=1))], penalty=\"l1\", loss='squared_hinge', dual=False).fit(X_train, y_train)\n",
    "\n",
    "# print(\"Top Predictor = %s\" %cancer.feature_names[np.argmax(svm_l1.coef_.T)])\n",
    "# print(\"Top Predictor Weight of ML with highest prediction = %f\" %np.amax(svm_l1 .coef_.T))\n",
    "svm_l1.coef_"
   ]
  },
  {
   "cell_type": "code",
   "execution_count": 171,
   "id": "23f2bd28-7cd4-4140-9011-56e67b64e8c5",
   "metadata": {
    "execution": {
     "iopub.execute_input": "2021-08-11T13:20:17.967568Z",
     "iopub.status.busy": "2021-08-11T13:20:17.966568Z",
     "iopub.status.idle": "2021-08-11T13:20:17.996488Z",
     "shell.execute_reply": "2021-08-11T13:20:17.995490Z",
     "shell.execute_reply.started": "2021-08-11T13:20:17.967568Z"
    },
    "tags": []
   },
   "outputs": [
    {
     "name": "stdout",
     "output_type": "stream",
     "text": [
      "Top predictors of each class\n"
     ]
    },
    {
     "data": {
      "text/html": [
       "<div>\n",
       "<style scoped>\n",
       "    .dataframe tbody tr th:only-of-type {\n",
       "        vertical-align: middle;\n",
       "    }\n",
       "\n",
       "    .dataframe tbody tr th {\n",
       "        vertical-align: top;\n",
       "    }\n",
       "\n",
       "    .dataframe thead th {\n",
       "        text-align: right;\n",
       "    }\n",
       "</style>\n",
       "<table border=\"1\" class=\"dataframe\">\n",
       "  <thead>\n",
       "    <tr style=\"text-align: right;\">\n",
       "      <th></th>\n",
       "      <th>Class</th>\n",
       "      <th>value</th>\n",
       "      <th>feature</th>\n",
       "    </tr>\n",
       "  </thead>\n",
       "  <tbody>\n",
       "    <tr>\n",
       "      <th>0</th>\n",
       "      <td>1</td>\n",
       "      <td>11.373709</td>\n",
       "      <td>2</td>\n",
       "    </tr>\n",
       "    <tr>\n",
       "      <th>1</th>\n",
       "      <td>2</td>\n",
       "      <td>5.064158</td>\n",
       "      <td>1</td>\n",
       "    </tr>\n",
       "    <tr>\n",
       "      <th>2</th>\n",
       "      <td>3</td>\n",
       "      <td>7.654560</td>\n",
       "      <td>1</td>\n",
       "    </tr>\n",
       "    <tr>\n",
       "      <th>3</th>\n",
       "      <td>4</td>\n",
       "      <td>10.060775</td>\n",
       "      <td>2</td>\n",
       "    </tr>\n",
       "  </tbody>\n",
       "</table>\n",
       "</div>"
      ],
      "text/plain": [
       "   Class      value  feature\n",
       "0      1  11.373709        2\n",
       "1      2   5.064158        1\n",
       "2      3   7.654560        1\n",
       "3      4  10.060775        2"
      ]
     },
     "execution_count": 171,
     "metadata": {},
     "output_type": "execute_result"
    }
   ],
   "source": [
    "li = []\n",
    "for class_ in svm_l1.classes_:\n",
    "    max_value = np.max(np.abs(svm_l1.coef_[class_-1]))\n",
    "    li.append((class_, max_value, svm_l1.classes_[np.argmax(np.abs(svm_l1.coef_[class_-1]))]))\n",
    "print('Top predictors of each class')\n",
    "pd.DataFrame(li, columns=['Class', 'value', 'feature'])"
   ]
  },
  {
   "cell_type": "code",
   "execution_count": null,
   "id": "50bbb20f-2cb6-45fe-a6fc-1b3673b71183",
   "metadata": {},
   "outputs": [],
   "source": []
  },
  {
   "cell_type": "code",
   "execution_count": null,
   "id": "8a41d954-d067-42cc-93da-eae0c571b264",
   "metadata": {},
   "outputs": [],
   "source": []
  },
  {
   "cell_type": "code",
   "execution_count": null,
   "id": "2ef364dd-cf7c-4627-92fa-c1f2ac3734bb",
   "metadata": {},
   "outputs": [],
   "source": []
  },
  {
   "cell_type": "markdown",
   "id": "1e3fc91f-5bcd-440b-874e-a09ca9c8b9e4",
   "metadata": {},
   "source": [
    "### L2 Regularization"
   ]
  },
  {
   "cell_type": "code",
   "execution_count": 172,
   "id": "f1a78e73-f71b-48fb-aaa8-ef04755504ea",
   "metadata": {
    "execution": {
     "iopub.execute_input": "2021-08-11T13:20:17.999483Z",
     "iopub.status.busy": "2021-08-11T13:20:17.998483Z",
     "iopub.status.idle": "2021-08-11T13:20:23.402249Z",
     "shell.execute_reply": "2021-08-11T13:20:23.401285Z",
     "shell.execute_reply.started": "2021-08-11T13:20:17.999483Z"
    },
    "tags": []
   },
   "outputs": [],
   "source": [
    "No_trials =100\n",
    "\n",
    "from sklearn.svm import LinearSVC\n",
    "\n",
    "lahat_training = pd.DataFrame()\n",
    "lahat_test = pd.DataFrame()\n",
    "for seedN in range(1,No_trials,1):\n",
    "    \n",
    "    X_train, X_test, y_train, y_test = train_test_split(X, y,\n",
    "                                                        test_size=0.25,\n",
    "                                                        random_state=seedN)\n",
    "    scaler = MinMaxScaler()\n",
    "    X_train = scaler.fit_transform(X_train)\n",
    "    X_test = scaler.transform(X_test)\n",
    "    \n",
    "    training_accuracy = []\n",
    "    test_accuracy = []\n",
    "  \n",
    "    C = [1e-8, 1e-4, 1e-3,0.1, 0.2,0.4, 0.75, 1, 1.5, 3, 5, 10, 15,  20, 100, 110, 130, 250, 300, 1000, 5000, 8000, 10_000]\n",
    "    for alpha_run in C:\n",
    "        svm_l2 = LinearSVC(C=alpha_run, penalty=\"l2\").fit(X_train, y_train)\n",
    "        training_accuracy.append(svm_l2.score(X_train, y_train))\n",
    "        test_accuracy.append(svm_l2.score(X_test, y_test))\n",
    "     \n",
    "    lahat_training[seedN]=training_accuracy\n",
    "    lahat_test[seedN] = test_accuracy\n"
   ]
  },
  {
   "cell_type": "code",
   "execution_count": 173,
   "id": "99803c52-12db-4fd6-beda-9be2118964ad",
   "metadata": {
    "execution": {
     "iopub.execute_input": "2021-08-11T13:20:23.403300Z",
     "iopub.status.busy": "2021-08-11T13:20:23.403300Z",
     "iopub.status.idle": "2021-08-11T13:20:23.417208Z",
     "shell.execute_reply": "2021-08-11T13:20:23.416211Z",
     "shell.execute_reply.started": "2021-08-11T13:20:23.403300Z"
    },
    "tags": []
   },
   "outputs": [
    {
     "data": {
      "text/plain": [
       "0     0.247811\n",
       "1     0.248485\n",
       "2     0.249158\n",
       "3     0.501684\n",
       "4     0.554882\n",
       "5     0.581818\n",
       "6     0.611448\n",
       "7     0.622896\n",
       "8     0.630303\n",
       "9     0.650505\n",
       "10    0.663973\n",
       "11    0.687542\n",
       "12    0.694276\n",
       "13    0.698990\n",
       "14    0.736027\n",
       "15    0.732660\n",
       "16    0.745455\n",
       "17    0.730640\n",
       "18    0.719192\n",
       "19    0.674747\n",
       "20    0.691582\n",
       "21    0.676768\n",
       "22    0.676094\n",
       "dtype: float64"
      ]
     },
     "metadata": {},
     "output_type": "display_data"
    },
    {
     "data": {
      "text/plain": [
       "130"
      ]
     },
     "execution_count": 173,
     "metadata": {},
     "output_type": "execute_result"
    }
   ],
   "source": [
    "display(lahat_test.mean(axis=1))\n",
    "\n",
    "C[lahat_test.mean(axis=1).idxmax()]"
   ]
  },
  {
   "cell_type": "code",
   "execution_count": 174,
   "id": "59fc7e63-fc70-477a-8915-335a7b21c725",
   "metadata": {
    "execution": {
     "iopub.execute_input": "2021-08-11T13:20:23.418205Z",
     "iopub.status.busy": "2021-08-11T13:20:23.418205Z",
     "iopub.status.idle": "2021-08-11T13:20:23.872593Z",
     "shell.execute_reply": "2021-08-11T13:20:23.871628Z",
     "shell.execute_reply.started": "2021-08-11T13:20:23.418205Z"
    },
    "tags": []
   },
   "outputs": [
    {
     "name": "stdout",
     "output_type": "stream",
     "text": [
      "Highest Test Set Achieved = 0.745455\n",
      "Best C Parameter = 130.000000\n"
     ]
    },
    {
     "data": {
      "image/png": "[encoded data removed]",
      "text/plain": [
       "<Figure size 1080x432 with 1 Axes>"
      ]
     },
     "metadata": {
      "needs_background": "light"
     },
     "output_type": "display_data"
    }
   ],
   "source": [
    "fig = plt.figure(figsize=(15, 6))\n",
    "\n",
    "plt.xscale('log')\n",
    "plt.errorbar(C, lahat_training.mean(axis=1),\n",
    "             yerr=lahat_training.var(axis=1), label=\"training accuracy\", marker='o')\n",
    "plt.errorbar(C, lahat_test.mean(axis=1), marker='^',\n",
    "             yerr=lahat_test.var(axis=1), label=\"test accuracy\")\n",
    "plt.ylabel(\"Accuracy\")\n",
    "plt.xlabel(\"C\")\n",
    "#plt.ylim(.9,1)\n",
    "plt.legend()\n",
    "print(\"Highest Test Set Achieved = %f\" % np.amax(lahat_test.mean(axis=1)))\n",
    "print(\"Best C Parameter = %f\" % C[np.argmax(lahat_test.mean(axis=1))])"
   ]
  },
  {
   "cell_type": "code",
   "execution_count": 175,
   "id": "089d7e91-e8ff-4250-ab33-a87c2432bd95",
   "metadata": {
    "execution": {
     "iopub.execute_input": "2021-08-11T13:20:23.873590Z",
     "iopub.status.busy": "2021-08-11T13:20:23.872593Z",
     "iopub.status.idle": "2021-08-11T13:20:23.903509Z",
     "shell.execute_reply": "2021-08-11T13:20:23.902511Z",
     "shell.execute_reply.started": "2021-08-11T13:20:23.873590Z"
    },
    "tags": []
   },
   "outputs": [
    {
     "data": {
      "text/plain": [
       "array([[-9.21251488, 10.19284527, -0.27781922,  1.80566529],\n",
       "       [-1.77166039, -0.8666896 , -3.87764432,  0.60062939],\n",
       "       [ 6.7360791 , -1.96136446, -1.81626878,  0.47296862],\n",
       "       [-1.59685468, -6.42352016,  7.78246172, -5.81002304]])"
      ]
     },
     "execution_count": 175,
     "metadata": {},
     "output_type": "execute_result"
    }
   ],
   "source": [
    "X_train, X_test, y_train, y_test = train_test_split(X,\n",
    "                                                    y,\n",
    "                                                    test_size=0.25,\n",
    "                                                    random_state=0)\n",
    "\n",
    "\n",
    "scaler = MinMaxScaler()\n",
    "X_train = scaler.fit_transform(X_train)\n",
    "X_test = scaler.transform(X_test)\n",
    "\n",
    "\n",
    "svm_l2 = LinearSVC(C=C[np.argmax(lahat_test.mean(axis=1))], penalty=\"l2\").fit(X_train, y_train)\n",
    "\n",
    "# print(\"Top Predictor = %s\" %cancer.feature_names[np.argmax(svm_l2.coef_.T)])\n",
    "# print(\"Top Predictor Weight of ML with highest prediction = %f\" %np.amax(svm_l2 .coef_.T))\n",
    "svm_l2.coef_"
   ]
  },
  {
   "cell_type": "code",
   "execution_count": null,
   "id": "d6e88205-1a34-45a7-86ee-0ff805b25584",
   "metadata": {},
   "outputs": [],
   "source": []
  },
  {
   "cell_type": "code",
   "execution_count": 176,
   "id": "65ddace2-d824-4e3d-9446-5a43ca6afdbe",
   "metadata": {
    "execution": {
     "iopub.execute_input": "2021-08-11T13:20:23.904510Z",
     "iopub.status.busy": "2021-08-11T13:20:23.904510Z",
     "iopub.status.idle": "2021-08-11T13:20:23.919480Z",
     "shell.execute_reply": "2021-08-11T13:20:23.918481Z",
     "shell.execute_reply.started": "2021-08-11T13:20:23.904510Z"
    }
   },
   "outputs": [
    {
     "name": "stdout",
     "output_type": "stream",
     "text": [
      "Top predictors of each class\n"
     ]
    },
    {
     "data": {
      "text/html": [
       "<div>\n",
       "<style scoped>\n",
       "    .dataframe tbody tr th:only-of-type {\n",
       "        vertical-align: middle;\n",
       "    }\n",
       "\n",
       "    .dataframe tbody tr th {\n",
       "        vertical-align: top;\n",
       "    }\n",
       "\n",
       "    .dataframe thead th {\n",
       "        text-align: right;\n",
       "    }\n",
       "</style>\n",
       "<table border=\"1\" class=\"dataframe\">\n",
       "  <thead>\n",
       "    <tr style=\"text-align: right;\">\n",
       "      <th></th>\n",
       "      <th>Class</th>\n",
       "      <th>value</th>\n",
       "      <th>feature</th>\n",
       "    </tr>\n",
       "  </thead>\n",
       "  <tbody>\n",
       "    <tr>\n",
       "      <th>0</th>\n",
       "      <td>1</td>\n",
       "      <td>10.192845</td>\n",
       "      <td>2</td>\n",
       "    </tr>\n",
       "    <tr>\n",
       "      <th>1</th>\n",
       "      <td>2</td>\n",
       "      <td>3.877644</td>\n",
       "      <td>3</td>\n",
       "    </tr>\n",
       "    <tr>\n",
       "      <th>2</th>\n",
       "      <td>3</td>\n",
       "      <td>6.736079</td>\n",
       "      <td>1</td>\n",
       "    </tr>\n",
       "    <tr>\n",
       "      <th>3</th>\n",
       "      <td>4</td>\n",
       "      <td>7.782462</td>\n",
       "      <td>3</td>\n",
       "    </tr>\n",
       "  </tbody>\n",
       "</table>\n",
       "</div>"
      ],
      "text/plain": [
       "   Class      value  feature\n",
       "0      1  10.192845        2\n",
       "1      2   3.877644        3\n",
       "2      3   6.736079        1\n",
       "3      4   7.782462        3"
      ]
     },
     "execution_count": 176,
     "metadata": {},
     "output_type": "execute_result"
    }
   ],
   "source": [
    "li = []\n",
    "for class_ in svm_l2.classes_:\n",
    "    max_value = np.max(np.abs(svm_l2.coef_[class_-1]))\n",
    "    li.append((class_, max_value, svm_l2.classes_[np.argmax(np.abs(svm_l2.coef_[class_-1]))]))\n",
    "print('Top predictors of each class')\n",
    "pd.DataFrame(li, columns=['Class', 'value', 'feature'])"
   ]
  },
  {
   "cell_type": "markdown",
   "id": "b3f42f73-b45b-46f4-b521-6b3fd5dce7c6",
   "metadata": {},
   "source": [
    "<center>\n",
    "    <h1>SUMMARY OF RESULTS</h1>\n",
    "</center>"
   ]
  },
  {
   "cell_type": "markdown",
   "id": "345e5735-07da-4788-a140-a815f134f19a",
   "metadata": {},
   "source": [
    "\n",
    "\n",
    "|Machine Learning Method| Test Accuracy | Best Parameter | Top Predictor Variable\n",
    "| :---: | :---: | :----: |:---:|\n",
    "| kNN | 94.01% | N_Neighbor = 1| NA\n",
    "| Logistic (L1) | 75.27% |C=5,000| [LRL1](#lrl1)\n",
    "| Logistic (L2) |80.47% | C=300 | [LRL2](#lrl2)\n",
    "| Linear SVM (L1) | 73.40% | C=1250| [SVL1](#svl1)\n",
    "| Linear SVM(L2) |  74.55%| C=130 | [SVL2](#svl2)\n",
    "\n",
    "\n"
   ]
  },
  {
   "cell_type": "markdown",
   "id": "2878e958-5d9e-4543-be9c-9c1ac7327dbb",
   "metadata": {
    "execution": {
     "iopub.execute_input": "2021-08-10T14:57:24.402378Z",
     "iopub.status.busy": "2021-08-10T14:57:24.402378Z",
     "iopub.status.idle": "2021-08-10T14:57:24.407363Z",
     "shell.execute_reply": "2021-08-10T14:57:24.407363Z",
     "shell.execute_reply.started": "2021-08-10T14:57:24.402378Z"
    },
    "tags": []
   },
   "source": [
    "<center>\n",
    "<h2><a id='lrl1'>Logistic (L1)</a></h2>\n",
    "</center>"
   ]
  },
  {
   "cell_type": "markdown",
   "id": "4ba99fa2-0158-4683-8307-9ebced0d0bf1",
   "metadata": {},
   "source": [
    "\n",
    "    \n",
    "|Class| Top Predictor | \n",
    "| :---: | :---: |\n",
    "| apple   | width\n",
    "| mandarin | mass \n",
    "| orange | mass\n",
    "| lemon | width\n",
    "    \n"
   ]
  },
  {
   "cell_type": "markdown",
   "id": "5d723796-6ae4-417c-b426-210ea3903eac",
   "metadata": {
    "execution": {
     "iopub.execute_input": "2021-08-10T14:58:39.176725Z",
     "iopub.status.busy": "2021-08-10T14:58:39.176725Z",
     "iopub.status.idle": "2021-08-10T14:58:39.185670Z",
     "shell.execute_reply": "2021-08-10T14:58:39.184673Z",
     "shell.execute_reply.started": "2021-08-10T14:58:39.176725Z"
    },
    "tags": []
   },
   "source": [
    "<center>\n",
    "    <h2 id='lrl2'><a id='lrl2'>Logistic (L2)</a></h2>\n",
    "</center>"
   ]
  },
  {
   "cell_type": "markdown",
   "id": "e86fd82f-a6c0-414f-83a8-150a66555cbf",
   "metadata": {},
   "source": [
    "    \n",
    "|Class| Top Predictor | \n",
    "| :---: | :---: |\n",
    "| apple   | width\n",
    "| mandarin |height \n",
    "| orange | mass\n",
    "| lemon | height"
   ]
  },
  {
   "cell_type": "markdown",
   "id": "93b709c9-f555-4ba3-abc4-bf742c0d22e0",
   "metadata": {},
   "source": [
    "<center>\n",
    "<h2 id='svl1'><a id='svl1'>SVM (L1)</a></h2>\n",
    "</center>"
   ]
  },
  {
   "cell_type": "markdown",
   "id": "f01b75e6-5c09-435a-86af-12ebd2ec1871",
   "metadata": {},
   "source": [
    "    \n",
    "|Class| Top Predictor | \n",
    "| :---: | :---: |\n",
    "| apple   | width\n",
    "| mandarin | mass \n",
    "| orange | mass\n",
    "| lemon | width"
   ]
  },
  {
   "cell_type": "markdown",
   "id": "dbf63351-1a5f-4b3f-93d5-8aedad1068b5",
   "metadata": {},
   "source": [
    "<center>\n",
    "<h2 id='svl2'><a id='svl2'>SVM (L2)</a></h2>\n",
    "</center>"
   ]
  },
  {
   "cell_type": "markdown",
   "id": "a242847b-7c78-4e18-91b0-fd2003b27bee",
   "metadata": {},
   "source": [
    "    \n",
    "|Class| Top Predictor | \n",
    "| :---: | :---: |\n",
    "| apple   | width\n",
    "| mandarin | height \n",
    "| orange | mass\n",
    "| lemon | height"
   ]
  },
  {
   "cell_type": "markdown",
   "id": "b34bb8ca-719f-402e-a49a-b263c5c70b25",
   "metadata": {},
   "source": []
  },
  {
   "cell_type": "code",
   "execution_count": null,
   "id": "5b010a07-69b7-4138-999f-173d62e5ed8e",
   "metadata": {},
   "outputs": [],
   "source": []
  }
 ],
 "metadata": {
  "kernelspec": {
   "display_name": "Python 3",
   "language": "python",
   "name": "python3"
  },
  "language_info": {
   "codemirror_mode": {
    "name": "ipython",
    "version": 3
   },
   "file_extension": ".py",
   "mimetype": "text/x-python",
   "name": "python",
   "nbconvert_exporter": "python",
   "pygments_lexer": "ipython3",
   "version": "3.8.10"
  },
  "toc-autonumbering": true,
  "toc-showcode": false,
  "toc-showmarkdowntxt": false
 },
 "nbformat": 4,
 "nbformat_minor": 5
}
