{
 "cells": [
  {
   "cell_type": "markdown",
   "id": "db3cbe30",
   "metadata": {},
   "source": [
    "<br>\n",
    "<font size=6><b>Homework 3 - Lasso and Ridge</b></font>\n",
    "\n",
    "**Learning Team 4** <br>\n",
    "Names: \n",
    "- Camacho, Kashmirr\n",
    "- Carandang, Kristine Ann\n",
    "- Diamada, Weddy\n",
    "- Gacal, John Francis\n",
    "- Gaspar, Manuel John Paul\n",
    "- Gonzales, Joaquin Emmanuel\n",
    "\n",
    "**Instructions:** <br>\n",
    "(per Learning Team) On Ridge and Lasso implementation for Boston Housing Data Set (20 pts, Due: 10 August 2021 11:59 pm [PHL/SG time])\n",
    "\n",
    "1. Implement Ridge and Lasso for the Boston Housing data using only the 13 original parameters (no derived variables).[7 pts]  Comment on resulting accuracy and optimal alpha.[3 pts] \n",
    "\n",
    "2. Implement Ridge and Lasso for the Parkinson's data set. [7 pts] Comment on resulting accuracy and optimal alpha. [3 pts]"
   ]
  },
  {
   "cell_type": "code",
   "execution_count": 1,
   "id": "c49109a9",
   "metadata": {
    "ExecuteTime": {
     "end_time": "2021-08-09T17:14:14.338279Z",
     "start_time": "2021-08-09T17:14:05.707396Z"
    },
    "execution": {
     "iopub.execute_input": "2021-08-09T09:49:10.911410Z",
     "iopub.status.busy": "2021-08-09T09:49:10.911410Z",
     "iopub.status.idle": "2021-08-09T09:49:13.100485Z",
     "shell.execute_reply": "2021-08-09T09:49:13.100485Z",
     "shell.execute_reply.started": "2021-08-09T09:49:10.911410Z"
    },
    "tags": []
   },
   "outputs": [
    {
     "name": "stdout",
     "output_type": "stream",
     "text": [
      "Requirement already satisfied: mglearn in c:\\users\\asus\\anaconda3\\lib\\site-packages (0.1.9)\n",
      "Requirement already satisfied: joblib in c:\\users\\asus\\anaconda3\\lib\\site-packages (from mglearn) (0.17.0)\n",
      "Requirement already satisfied: numpy in c:\\users\\asus\\anaconda3\\lib\\site-packages (from mglearn) (1.19.2)\n",
      "Requirement already satisfied: cycler in c:\\users\\asus\\anaconda3\\lib\\site-packages (from mglearn) (0.10.0)\n",
      "Requirement already satisfied: imageio in c:\\users\\asus\\anaconda3\\lib\\site-packages (from mglearn) (2.9.0)\n",
      "Requirement already satisfied: scikit-learn in c:\\users\\asus\\anaconda3\\lib\\site-packages (from mglearn) (0.23.2)\n",
      "Requirement already satisfied: matplotlib in c:\\users\\asus\\anaconda3\\lib\\site-packages (from mglearn) (3.3.2)\n",
      "Requirement already satisfied: pandas in c:\\users\\asus\\anaconda3\\lib\\site-packages (from mglearn) (1.1.3)\n",
      "Requirement already satisfied: pillow in c:\\users\\asus\\anaconda3\\lib\\site-packages (from mglearn) (8.0.1)\n",
      "Requirement already satisfied: six in c:\\users\\asus\\anaconda3\\lib\\site-packages (from cycler->mglearn) (1.15.0)\n",
      "Requirement already satisfied: threadpoolctl>=2.0.0 in c:\\users\\asus\\anaconda3\\lib\\site-packages (from scikit-learn->mglearn) (2.1.0)\n",
      "Requirement already satisfied: scipy>=0.19.1 in c:\\users\\asus\\anaconda3\\lib\\site-packages (from scikit-learn->mglearn) (1.5.2)\n",
      "Requirement already satisfied: certifi>=2020.06.20 in c:\\users\\asus\\anaconda3\\lib\\site-packages (from matplotlib->mglearn) (2020.6.20)\n",
      "Requirement already satisfied: kiwisolver>=1.0.1 in c:\\users\\asus\\anaconda3\\lib\\site-packages (from matplotlib->mglearn) (1.3.0)\n",
      "Requirement already satisfied: python-dateutil>=2.1 in c:\\users\\asus\\anaconda3\\lib\\site-packages (from matplotlib->mglearn) (2.8.1)\n",
      "Requirement already satisfied: pyparsing!=2.0.4,!=2.1.2,!=2.1.6,>=2.0.3 in c:\\users\\asus\\anaconda3\\lib\\site-packages (from matplotlib->mglearn) (2.4.7)\n",
      "Requirement already satisfied: pytz>=2017.2 in c:\\users\\asus\\anaconda3\\lib\\site-packages (from pandas->mglearn) (2020.1)\n"
     ]
    }
   ],
   "source": [
    "# Preliminaries\n",
    "# Prettify the notebook\n",
    "import warnings\n",
    "warnings.filterwarnings(\"ignore\")  \n",
    "import warnings\n",
    "def showwarning(*args, **kwargs):\n",
    "    if args[1] is DeprecationWarning:\n",
    "        return\n",
    "    warnings._showwarning_orig(*args, **kwargs)\n",
    "warnings.showwarning = showwarning\n",
    "\n",
    "# Install mglearn\n",
    "!pip install mglearn\n",
    "\n",
    "#Import packages\n",
    "import mglearn #library provided by amueller\n",
    "import numpy as np\n",
    "%matplotlib inline\n",
    "import matplotlib.pyplot as plt\n",
    "import pandas as pd\n",
    "from sklearn.model_selection import train_test_split\n",
    "pd.options.display.float_format = '{:,.4g}'.format"
   ]
  },
  {
   "cell_type": "markdown",
   "id": "bcb1f2cc",
   "metadata": {},
   "source": [
    "## Boston Housing Data"
   ]
  },
  {
   "cell_type": "markdown",
   "id": "2ebdac5a",
   "metadata": {},
   "source": [
    "### Ridge Regression"
   ]
  },
  {
   "cell_type": "markdown",
   "id": "67228f54",
   "metadata": {},
   "source": [
    "#### Implementation"
   ]
  },
  {
   "cell_type": "code",
   "execution_count": 2,
   "id": "fd38a7d9",
   "metadata": {
    "ExecuteTime": {
     "end_time": "2021-08-09T17:14:14.355544Z",
     "start_time": "2021-08-09T17:14:14.341499Z"
    },
    "execution": {
     "iopub.execute_input": "2021-08-09T09:49:13.101483Z",
     "iopub.status.busy": "2021-08-09T09:49:13.101483Z",
     "iopub.status.idle": "2021-08-09T09:49:13.116410Z",
     "shell.execute_reply": "2021-08-09T09:49:13.115436Z",
     "shell.execute_reply.started": "2021-08-09T09:49:13.101483Z"
    },
    "tags": []
   },
   "outputs": [
    {
     "name": "stdout",
     "output_type": "stream",
     "text": [
      "(506, 13)\n"
     ]
    }
   ],
   "source": [
    "# Import Boston Housing Data and Print shape\n",
    "from sklearn.datasets import load_boston\n",
    "boston = load_boston()\n",
    "print(boston.data.shape)"
   ]
  },
  {
   "cell_type": "code",
   "execution_count": 3,
   "id": "9923a10a",
   "metadata": {
    "ExecuteTime": {
     "end_time": "2021-08-09T17:14:14.399387Z",
     "start_time": "2021-08-09T17:14:14.358643Z"
    },
    "execution": {
     "iopub.execute_input": "2021-08-09T09:49:13.117408Z",
     "iopub.status.busy": "2021-08-09T09:49:13.117408Z",
     "iopub.status.idle": "2021-08-09T09:49:13.130373Z",
     "shell.execute_reply": "2021-08-09T09:49:13.130373Z",
     "shell.execute_reply.started": "2021-08-09T09:49:13.117408Z"
    },
    "tags": []
   },
   "outputs": [
    {
     "data": {
      "text/html": [
       "<div>\n",
       "<style scoped>\n",
       "    .dataframe tbody tr th:only-of-type {\n",
       "        vertical-align: middle;\n",
       "    }\n",
       "\n",
       "    .dataframe tbody tr th {\n",
       "        vertical-align: top;\n",
       "    }\n",
       "\n",
       "    .dataframe thead th {\n",
       "        text-align: right;\n",
       "    }\n",
       "</style>\n",
       "<table border=\"1\" class=\"dataframe\">\n",
       "  <thead>\n",
       "    <tr style=\"text-align: right;\">\n",
       "      <th></th>\n",
       "      <th>CRIM</th>\n",
       "      <th>ZN</th>\n",
       "      <th>INDUS</th>\n",
       "      <th>CHAS</th>\n",
       "      <th>NOX</th>\n",
       "      <th>RM</th>\n",
       "      <th>AGE</th>\n",
       "      <th>DIS</th>\n",
       "      <th>RAD</th>\n",
       "      <th>TAX</th>\n",
       "      <th>PTRATIO</th>\n",
       "      <th>B</th>\n",
       "      <th>LSTAT</th>\n",
       "      <th>Target</th>\n",
       "    </tr>\n",
       "  </thead>\n",
       "  <tbody>\n",
       "    <tr>\n",
       "      <th>0</th>\n",
       "      <td>0.00632</td>\n",
       "      <td>18</td>\n",
       "      <td>2.31</td>\n",
       "      <td>0</td>\n",
       "      <td>0.538</td>\n",
       "      <td>6.575</td>\n",
       "      <td>65.2</td>\n",
       "      <td>4.09</td>\n",
       "      <td>1</td>\n",
       "      <td>296</td>\n",
       "      <td>15.3</td>\n",
       "      <td>396.9</td>\n",
       "      <td>4.98</td>\n",
       "      <td>24</td>\n",
       "    </tr>\n",
       "    <tr>\n",
       "      <th>1</th>\n",
       "      <td>0.02731</td>\n",
       "      <td>0</td>\n",
       "      <td>7.07</td>\n",
       "      <td>0</td>\n",
       "      <td>0.469</td>\n",
       "      <td>6.421</td>\n",
       "      <td>78.9</td>\n",
       "      <td>4.967</td>\n",
       "      <td>2</td>\n",
       "      <td>242</td>\n",
       "      <td>17.8</td>\n",
       "      <td>396.9</td>\n",
       "      <td>9.14</td>\n",
       "      <td>21.6</td>\n",
       "    </tr>\n",
       "    <tr>\n",
       "      <th>2</th>\n",
       "      <td>0.02729</td>\n",
       "      <td>0</td>\n",
       "      <td>7.07</td>\n",
       "      <td>0</td>\n",
       "      <td>0.469</td>\n",
       "      <td>7.185</td>\n",
       "      <td>61.1</td>\n",
       "      <td>4.967</td>\n",
       "      <td>2</td>\n",
       "      <td>242</td>\n",
       "      <td>17.8</td>\n",
       "      <td>392.8</td>\n",
       "      <td>4.03</td>\n",
       "      <td>34.7</td>\n",
       "    </tr>\n",
       "    <tr>\n",
       "      <th>3</th>\n",
       "      <td>0.03237</td>\n",
       "      <td>0</td>\n",
       "      <td>2.18</td>\n",
       "      <td>0</td>\n",
       "      <td>0.458</td>\n",
       "      <td>6.998</td>\n",
       "      <td>45.8</td>\n",
       "      <td>6.062</td>\n",
       "      <td>3</td>\n",
       "      <td>222</td>\n",
       "      <td>18.7</td>\n",
       "      <td>394.6</td>\n",
       "      <td>2.94</td>\n",
       "      <td>33.4</td>\n",
       "    </tr>\n",
       "    <tr>\n",
       "      <th>4</th>\n",
       "      <td>0.06905</td>\n",
       "      <td>0</td>\n",
       "      <td>2.18</td>\n",
       "      <td>0</td>\n",
       "      <td>0.458</td>\n",
       "      <td>7.147</td>\n",
       "      <td>54.2</td>\n",
       "      <td>6.062</td>\n",
       "      <td>3</td>\n",
       "      <td>222</td>\n",
       "      <td>18.7</td>\n",
       "      <td>396.9</td>\n",
       "      <td>5.33</td>\n",
       "      <td>36.2</td>\n",
       "    </tr>\n",
       "  </tbody>\n",
       "</table>\n",
       "</div>"
      ],
      "text/plain": [
       "     CRIM  ZN  INDUS  CHAS   NOX    RM  AGE   DIS  RAD  TAX  PTRATIO     B  \\\n",
       "0 0.00632  18   2.31     0 0.538 6.575 65.2  4.09    1  296     15.3 396.9   \n",
       "1 0.02731   0   7.07     0 0.469 6.421 78.9 4.967    2  242     17.8 396.9   \n",
       "2 0.02729   0   7.07     0 0.469 7.185 61.1 4.967    2  242     17.8 392.8   \n",
       "3 0.03237   0   2.18     0 0.458 6.998 45.8 6.062    3  222     18.7 394.6   \n",
       "4 0.06905   0   2.18     0 0.458 7.147 54.2 6.062    3  222     18.7 396.9   \n",
       "\n",
       "   LSTAT  Target  \n",
       "0   4.98      24  \n",
       "1   9.14    21.6  \n",
       "2   4.03    34.7  \n",
       "3   2.94    33.4  \n",
       "4   5.33    36.2  "
      ]
     },
     "execution_count": 3,
     "metadata": {},
     "output_type": "execute_result"
    }
   ],
   "source": [
    "# Load the feature variables\n",
    "df = pd.DataFrame.from_dict(boston['data'])\n",
    "\n",
    "# Add the feature_names as column labels\n",
    "df.columns = boston['feature_names'] \n",
    "\n",
    "# Add the target as additional column\n",
    "df['Target'] = boston['target'] \n",
    "\n",
    "# Display the first 5 rows\n",
    "df.head() "
   ]
  },
  {
   "cell_type": "code",
   "execution_count": 4,
   "id": "477b2d3b",
   "metadata": {
    "ExecuteTime": {
     "end_time": "2021-08-09T17:14:14.407670Z",
     "start_time": "2021-08-09T17:14:14.402496Z"
    },
    "execution": {
     "iopub.execute_input": "2021-08-09T09:49:13.132369Z",
     "iopub.status.busy": "2021-08-09T09:49:13.131371Z",
     "iopub.status.idle": "2021-08-09T09:49:13.145334Z",
     "shell.execute_reply": "2021-08-09T09:49:13.145334Z",
     "shell.execute_reply.started": "2021-08-09T09:49:13.132369Z"
    },
    "tags": []
   },
   "outputs": [
    {
     "name": "stdout",
     "output_type": "stream",
     "text": [
      "Feature names: \n",
      "['CRIM' 'ZN' 'INDUS' 'CHAS' 'NOX' 'RM' 'AGE' 'DIS' 'RAD' 'TAX' 'PTRATIO'\n",
      " 'B' 'LSTAT']\n",
      ".. _boston_dataset:\n",
      "\n",
      "Boston house prices dataset\n",
      "---------------------------\n",
      "\n",
      "**Data Set Characteristics:**  \n",
      "\n",
      "    :Number of Instances: 506 \n",
      "\n",
      "    :Number of Attributes: 13 numeric/categorical predictive. Median Value (attribute 14) is usually the target.\n",
      "\n",
      "    :Attribute Information (in order):\n",
      "        - CRIM     per capita crime rate by town\n",
      "        - ZN       proportion of residential land zoned for lots over 25,000 sq.ft.\n",
      "        - INDUS    proportion of non-retail business acres per town\n",
      "        - CHAS     Charles River dummy variable (= 1 if tract bounds river; 0 otherwise)\n",
      "        - NOX      nitric oxides concentration (parts per 10 million)\n",
      "        - RM       average number of rooms per dwelling\n",
      "        - AGE      proportion of owner-occupied units built prior to 1940\n",
      "        - DIS      weighted distances to five Boston employment centres\n",
      "        - RAD      index of accessibility to radial highways\n",
      "        - TAX      full-value property-tax rate per $10,000\n",
      "        - PTRATIO  pupil-teacher ratio by town\n",
      "        - B        1000(Bk - 0.63)^2 where Bk is the proportion of blacks by town\n",
      "        - LSTAT    % lower status of the population\n",
      "        - MEDV     Median value of owner-occupied homes in $1000's\n",
      "\n",
      "    :Missing Attribute Values: None\n",
      "\n",
      "    :Creator: Harrison, D. and Rubinfeld, D.L.\n",
      "\n",
      "This is a copy of UCI ML housing dataset.\n",
      "https://archive.ics.uci.edu/ml/machine-learning-databases/housing/\n",
      "\n",
      "\n",
      "This dataset was taken from the StatLib library which is maintained at Carnegie Mellon University.\n",
      "\n",
      "The Boston house-price data of Harrison, D. and Rubinfeld, D.L. 'Hedonic\n",
      "prices and the demand for clean air', J. Environ. Economics & Management,\n",
      "vol.5, 81-102, 1978.   Used in Belsley, Kuh & Welsch, 'Regression diagnostics\n",
      "...', Wiley, 1980.   N.B. Various transformations are used in the table on\n",
      "pages 244-261 of the latter.\n",
      "\n",
      "The Boston house-price data has been used in many machine learning papers that address regression\n",
      "problems.   \n",
      "     \n",
      ".. topic:: References\n",
      "\n",
      "   - Belsley, Kuh & Welsch, 'Regression diagnostics: Identifying Influential Data and Sources of Collinearity', Wiley, 1980. 244-261.\n",
      "   - Quinlan,R. (1993). Combining Instance-Based and Model-Based Learning. In Proceedings on the Tenth International Conference of Machine Learning, 236-243, University of Massachusetts, Amherst. Morgan Kaufmann.\n",
      "\n"
     ]
    }
   ],
   "source": [
    "# Load dataset characteristics\n",
    "print(\"Feature names: \\n{}\".format(boston.feature_names))\n",
    "print(boston.DESCR)"
   ]
  },
  {
   "cell_type": "code",
   "execution_count": 5,
   "id": "70a77839",
   "metadata": {
    "ExecuteTime": {
     "end_time": "2021-08-09T17:14:14.413782Z",
     "start_time": "2021-08-09T17:14:14.410416Z"
    },
    "execution": {
     "iopub.execute_input": "2021-08-09T09:49:13.146331Z",
     "iopub.status.busy": "2021-08-09T09:49:13.146331Z",
     "iopub.status.idle": "2021-08-09T09:49:13.161295Z",
     "shell.execute_reply": "2021-08-09T09:49:13.161295Z",
     "shell.execute_reply.started": "2021-08-09T09:49:13.146331Z"
    },
    "tags": []
   },
   "outputs": [],
   "source": [
    "# Load data (without the derived features)\n",
    "X, y = boston['data'], boston['target'] "
   ]
  },
  {
   "cell_type": "code",
   "execution_count": 6,
   "id": "b337bf61",
   "metadata": {
    "ExecuteTime": {
     "end_time": "2021-08-09T17:14:18.117310Z",
     "start_time": "2021-08-09T17:14:14.424599Z"
    },
    "execution": {
     "iopub.execute_input": "2021-08-09T09:49:13.162293Z",
     "iopub.status.busy": "2021-08-09T09:49:13.162293Z",
     "iopub.status.idle": "2021-08-09T09:49:15.013731Z",
     "shell.execute_reply": "2021-08-09T09:49:15.013731Z",
     "shell.execute_reply.started": "2021-08-09T09:49:13.162293Z"
    },
    "tags": []
   },
   "outputs": [
    {
     "name": "stdout",
     "output_type": "stream",
     "text": [
      "TRAIN SET: Mean =  0.7380589570023859  Stdev =  0.006311153748490327\n",
      " TEST SET: Mean =  0.7152047915561901  Stdev =  0.010273097846942206\n"
     ]
    }
   ],
   "source": [
    "# Import Ridge regression package\n",
    "from sklearn.linear_model import Ridge\n",
    "\n",
    "# Run Ridge model for 100 iterations on different alpha_ridge values\n",
    "all_training = pd.DataFrame()\n",
    "all_test = pd.DataFrame()\n",
    "\n",
    "alpha_ridge = [1e-5, 1e-4, 1e-3, 7e-3, 1e-2, 5e-2, 0.1, 0.2, 0.5, 0.75, 1, 1.5, 3, 10, 20, 30, 50, 100] # arbitrary\n",
    "num_trials = 100\n",
    "\n",
    "for seedN in range(1, num_trials+1, 1):\n",
    "    X_train, X_test, y_train, y_test = train_test_split(X, y, test_size=0.25, random_state=seedN)\n",
    "    training_accuracy = []  \n",
    "    test_accuracy = []\n",
    "\n",
    "    for alpha_run in alpha_ridge:\n",
    "        ridge = Ridge(alpha=alpha_run, max_iter=1_000_000).fit(X_train, y_train)\n",
    "        training_accuracy.append(ridge.score(X_train, y_train))\n",
    "        test_accuracy.append(ridge.score(X_test, y_test))\n",
    "        \n",
    "    all_training[seedN]=training_accuracy\n",
    "    all_test[seedN] = test_accuracy\n",
    "\n",
    "print(\"TRAIN SET: Mean = \", np.mean(training_accuracy), \" Stdev = \", np.std(training_accuracy))\n",
    "print(\" TEST SET: Mean = \", np.mean(test_accuracy),\" Stdev = \", np.std(test_accuracy))"
   ]
  },
  {
   "cell_type": "code",
   "execution_count": 7,
   "id": "80df26e1",
   "metadata": {
    "ExecuteTime": {
     "end_time": "2021-08-09T17:14:18.150284Z",
     "start_time": "2021-08-09T17:14:18.121518Z"
    },
    "execution": {
     "iopub.execute_input": "2021-08-09T09:49:15.015726Z",
     "iopub.status.busy": "2021-08-09T09:49:15.015726Z",
     "iopub.status.idle": "2021-08-09T09:49:15.029689Z",
     "shell.execute_reply": "2021-08-09T09:49:15.028691Z",
     "shell.execute_reply.started": "2021-08-09T09:49:15.015726Z"
    },
    "tags": []
   },
   "outputs": [
    {
     "data": {
      "text/html": [
       "<div>\n",
       "<style scoped>\n",
       "    .dataframe tbody tr th:only-of-type {\n",
       "        vertical-align: middle;\n",
       "    }\n",
       "\n",
       "    .dataframe tbody tr th {\n",
       "        vertical-align: top;\n",
       "    }\n",
       "\n",
       "    .dataframe thead th {\n",
       "        text-align: right;\n",
       "    }\n",
       "</style>\n",
       "<table border=\"1\" class=\"dataframe\">\n",
       "  <thead>\n",
       "    <tr style=\"text-align: right;\">\n",
       "      <th></th>\n",
       "      <th>Alpha Ridge</th>\n",
       "      <th>Train Accuracy</th>\n",
       "      <th>Test Accuracy</th>\n",
       "    </tr>\n",
       "  </thead>\n",
       "  <tbody>\n",
       "    <tr>\n",
       "      <th>0</th>\n",
       "      <td>1e-05</td>\n",
       "      <td>0.7432</td>\n",
       "      <td>0.7131</td>\n",
       "    </tr>\n",
       "    <tr>\n",
       "      <th>1</th>\n",
       "      <td>0.0001</td>\n",
       "      <td>0.7432</td>\n",
       "      <td>0.7131</td>\n",
       "    </tr>\n",
       "    <tr>\n",
       "      <th>2</th>\n",
       "      <td>0.001</td>\n",
       "      <td>0.7432</td>\n",
       "      <td>0.7131</td>\n",
       "    </tr>\n",
       "    <tr>\n",
       "      <th>3</th>\n",
       "      <td>0.007</td>\n",
       "      <td>0.7432</td>\n",
       "      <td>0.7131</td>\n",
       "    </tr>\n",
       "    <tr>\n",
       "      <th>4</th>\n",
       "      <td>0.01</td>\n",
       "      <td>0.7432</td>\n",
       "      <td>0.7131</td>\n",
       "    </tr>\n",
       "    <tr>\n",
       "      <th>5</th>\n",
       "      <td>0.05</td>\n",
       "      <td>0.7432</td>\n",
       "      <td>0.7131</td>\n",
       "    </tr>\n",
       "    <tr>\n",
       "      <th>6</th>\n",
       "      <td>0.1</td>\n",
       "      <td>0.7432</td>\n",
       "      <td>0.713</td>\n",
       "    </tr>\n",
       "    <tr>\n",
       "      <th>7</th>\n",
       "      <td>0.2</td>\n",
       "      <td>0.743</td>\n",
       "      <td>0.7127</td>\n",
       "    </tr>\n",
       "    <tr>\n",
       "      <th>8</th>\n",
       "      <td>0.5</td>\n",
       "      <td>0.7422</td>\n",
       "      <td>0.7118</td>\n",
       "    </tr>\n",
       "    <tr>\n",
       "      <th>9</th>\n",
       "      <td>0.75</td>\n",
       "      <td>0.7415</td>\n",
       "      <td>0.711</td>\n",
       "    </tr>\n",
       "    <tr>\n",
       "      <th>10</th>\n",
       "      <td>1</td>\n",
       "      <td>0.7408</td>\n",
       "      <td>0.7102</td>\n",
       "    </tr>\n",
       "    <tr>\n",
       "      <th>11</th>\n",
       "      <td>1.5</td>\n",
       "      <td>0.7397</td>\n",
       "      <td>0.709</td>\n",
       "    </tr>\n",
       "    <tr>\n",
       "      <th>12</th>\n",
       "      <td>3</td>\n",
       "      <td>0.7374</td>\n",
       "      <td>0.7067</td>\n",
       "    </tr>\n",
       "    <tr>\n",
       "      <th>13</th>\n",
       "      <td>10</td>\n",
       "      <td>0.7335</td>\n",
       "      <td>0.7038</td>\n",
       "    </tr>\n",
       "    <tr>\n",
       "      <th>14</th>\n",
       "      <td>20</td>\n",
       "      <td>0.7309</td>\n",
       "      <td>0.7024</td>\n",
       "    </tr>\n",
       "    <tr>\n",
       "      <th>15</th>\n",
       "      <td>30</td>\n",
       "      <td>0.7287</td>\n",
       "      <td>0.701</td>\n",
       "    </tr>\n",
       "    <tr>\n",
       "      <th>16</th>\n",
       "      <td>50</td>\n",
       "      <td>0.7248</td>\n",
       "      <td>0.6979</td>\n",
       "    </tr>\n",
       "    <tr>\n",
       "      <th>17</th>\n",
       "      <td>100</td>\n",
       "      <td>0.7165</td>\n",
       "      <td>0.6904</td>\n",
       "    </tr>\n",
       "  </tbody>\n",
       "</table>\n",
       "</div>"
      ],
      "text/plain": [
       "    Alpha Ridge  Train Accuracy  Test Accuracy\n",
       "0         1e-05          0.7432         0.7131\n",
       "1        0.0001          0.7432         0.7131\n",
       "2         0.001          0.7432         0.7131\n",
       "3         0.007          0.7432         0.7131\n",
       "4          0.01          0.7432         0.7131\n",
       "5          0.05          0.7432         0.7131\n",
       "6           0.1          0.7432          0.713\n",
       "7           0.2           0.743         0.7127\n",
       "8           0.5          0.7422         0.7118\n",
       "9          0.75          0.7415          0.711\n",
       "10            1          0.7408         0.7102\n",
       "11          1.5          0.7397          0.709\n",
       "12            3          0.7374         0.7067\n",
       "13           10          0.7335         0.7038\n",
       "14           20          0.7309         0.7024\n",
       "15           30          0.7287          0.701\n",
       "16           50          0.7248         0.6979\n",
       "17          100          0.7165         0.6904"
      ]
     },
     "execution_count": 7,
     "metadata": {},
     "output_type": "execute_result"
    }
   ],
   "source": [
    "# Display train and test accuracy at each level of alpha\n",
    "ridge_boston = pd.DataFrame([alpha_ridge, all_training.mean(axis=1), all_test.mean(axis=1)]).T\n",
    "ridge_boston.columns = ['Alpha Ridge', 'Train Accuracy', 'Test Accuracy']\n",
    "ridge_boston"
   ]
  },
  {
   "cell_type": "code",
   "execution_count": 8,
   "id": "f6b28739",
   "metadata": {
    "ExecuteTime": {
     "end_time": "2021-08-09T17:14:19.933086Z",
     "start_time": "2021-08-09T17:14:18.153518Z"
    },
    "execution": {
     "iopub.execute_input": "2021-08-09T09:49:15.032681Z",
     "iopub.status.busy": "2021-08-09T09:49:15.032681Z",
     "iopub.status.idle": "2021-08-09T09:49:15.669552Z",
     "shell.execute_reply": "2021-08-09T09:49:15.669552Z",
     "shell.execute_reply.started": "2021-08-09T09:49:15.032681Z"
    },
    "tags": []
   },
   "outputs": [
    {
     "data": {
      "text/plain": [
       "<matplotlib.legend.Legend at 0x1e9a7d633a0>"
      ]
     },
     "execution_count": 8,
     "metadata": {},
     "output_type": "execute_result"
    },
    {
     "data": {
      "image/png": "[encoded data removed]",
      "text/plain": [
       "<Figure size 1440x432 with 1 Axes>"
      ]
     },
     "metadata": {
      "needs_background": "light"
     },
     "output_type": "display_data"
    }
   ],
   "source": [
    "# Plot the accuracy and alpha_ridge for 100 iterations \n",
    "fig = plt.figure(figsize=(20, 6))\n",
    "import pylab as plot\n",
    "plt.xscale('log')\n",
    "params = {'legend.fontsize': 15, 'legend.handlelength': 2}\n",
    "plot.rcParams.update(params)\n",
    "plt.errorbar(alpha_ridge, all_training.mean(axis=1),\n",
    "             yerr=all_training.std(axis=1)/6, label=\"training accuracy\", color='blue', marker='o', linestyle='dashed', markersize=15)\n",
    "plt.errorbar(alpha_ridge, all_test.mean(axis=1),\n",
    "             yerr=all_test.std(axis=1)/6, label=\"test accuracy\", color='red', marker='^', linestyle='-', markersize=15)\n",
    "plt.ylabel(\"Accuracy, $R^2$\", fontsize=15)\n",
    "plt.xlabel(\"alpha_ridge\",fontsize=15)\n",
    "plt.legend()"
   ]
  },
  {
   "cell_type": "code",
   "execution_count": 9,
   "id": "a94ce041",
   "metadata": {
    "ExecuteTime": {
     "end_time": "2021-08-09T17:14:19.943545Z",
     "start_time": "2021-08-09T17:14:19.935526Z"
    },
    "execution": {
     "iopub.execute_input": "2021-08-09T09:49:15.671547Z",
     "iopub.status.busy": "2021-08-09T09:49:15.670550Z",
     "iopub.status.idle": "2021-08-09T09:49:15.685545Z",
     "shell.execute_reply": "2021-08-09T09:49:15.685545Z",
     "shell.execute_reply.started": "2021-08-09T09:49:15.671547Z"
    }
   },
   "outputs": [
    {
     "name": "stdout",
     "output_type": "stream",
     "text": [
      "     Optimal alpha_ridge = 1e-05\n",
      "Corresponding avg test score = 0.7131018920790995\n"
     ]
    }
   ],
   "source": [
    "# Resulting optimal alpha and test accuracy at 100 iterations\n",
    "optimal_alpha_index = all_test.mean(axis=1).idxmax()\n",
    "optimal_alpha       = alpha_ridge[optimal_alpha_index]\n",
    "test_optimal        = all_test.mean(axis=1)[optimal_alpha_index]\n",
    "\n",
    "print(f'     Optimal alpha_ridge = {optimal_alpha}')\n",
    "print(f'Corresponding avg test score = {test_optimal}')"
   ]
  },
  {
   "cell_type": "code",
   "execution_count": 10,
   "id": "1cccbc15",
   "metadata": {
    "ExecuteTime": {
     "end_time": "2021-08-09T17:14:20.214724Z",
     "start_time": "2021-08-09T17:14:19.945811Z"
    },
    "execution": {
     "iopub.execute_input": "2021-08-09T09:49:15.686508Z",
     "iopub.status.busy": "2021-08-09T09:49:15.686508Z",
     "iopub.status.idle": "2021-08-09T09:49:15.901932Z",
     "shell.execute_reply": "2021-08-09T09:49:15.901932Z",
     "shell.execute_reply.started": "2021-08-09T09:49:15.686508Z"
    }
   },
   "outputs": [
    {
     "data": {
      "text/plain": [
       "(-1.0, 13.0)"
      ]
     },
     "execution_count": 10,
     "metadata": {},
     "output_type": "execute_result"
    },
    {
     "data": {
      "image/png": "[encoded data removed]",
      "text/plain": [
       "<Figure size 216x360 with 1 Axes>"
      ]
     },
     "metadata": {
      "needs_background": "light"
     },
     "output_type": "display_data"
    }
   ],
   "source": [
    "# Plot the feature importance at optimal alpha\n",
    "param=optimal_alpha\n",
    "ridge_optimal = Ridge(alpha=param).fit(X_train, y_train)\n",
    "weights_normalized = ridge_optimal.coef_.T/np.sum(np.abs(ridge_optimal.coef_.T)) # optimal alpha\n",
    "\n",
    "import numpy as np\n",
    "fig = plt.figure(figsize=(3, 5))\n",
    "n_features = X.shape[1]\n",
    "plt.barh(range(n_features), weights_normalized, align='center')\n",
    "plt.yticks(np.arange(n_features), boston.feature_names)\n",
    "plt.xlabel(\"Feature importance\")\n",
    "plt.ylabel(\"Features\")\n",
    "plt.ylim(-1, n_features)"
   ]
  },
  {
   "cell_type": "markdown",
   "id": "ae28bdb8",
   "metadata": {
    "ExecuteTime": {
     "end_time": "2021-08-07T02:56:38.136385Z",
     "start_time": "2021-08-07T02:56:38.134199Z"
    }
   },
   "source": [
    "#### Resulting accuracy and optimal alpha (Ridge)\n",
    "\n",
    "Removing the derived features, we fitted the Ridge Regession Model to the Boston dataset. We ran the model for *100* iterations on different `alpha_ridge` values that were suggested in class. The results are as follows:\n",
    "\n",
    "- Optimal `alpha_ridge` = 1e-05 <br>\n",
    "- Test score $R^2$ (Ridge) = 0.7131018920790995\n",
    "- Test score $R^2$ (Linear regression) = 0.7129855993166657 [as discussed in class]\n",
    "\n",
    "The optimal `alpha_ridge` is 1e-05 which is close to 0. At this small `alpha_ridge` value, the model approaches the behavior of a linear regression with both test scores approximating 71.3% (see bullets above). It can be observed that the training and test accuracy lines in the plot does not appear to converge at any level of `alpha_ridge`. \n",
    "\n",
    "The dismal test and training accuracy (< 75%) give an indication of possible underfitting, hence, exploring feature engineering techniques may help improve model performance. Lastly, we  noted that the top predictor of the model is `NOX`, the proxy for air pollution, as seen in the plot `Feature importance` on. This is the same top predictor in the Linear regression model. "
   ]
  },
  {
   "cell_type": "markdown",
   "id": "1976c3f0",
   "metadata": {},
   "source": [
    "### Lasso Regression"
   ]
  },
  {
   "cell_type": "markdown",
   "id": "c4755e54",
   "metadata": {},
   "source": [
    "#### Implementation"
   ]
  },
  {
   "cell_type": "code",
   "execution_count": 11,
   "id": "e8182e9f",
   "metadata": {
    "ExecuteTime": {
     "end_time": "2021-08-09T17:14:20.219946Z",
     "start_time": "2021-08-09T17:14:20.216802Z"
    },
    "execution": {
     "iopub.execute_input": "2021-08-09T09:49:15.902929Z",
     "iopub.status.busy": "2021-08-09T09:49:15.902929Z",
     "iopub.status.idle": "2021-08-09T09:49:15.917889Z",
     "shell.execute_reply": "2021-08-09T09:49:15.917889Z",
     "shell.execute_reply.started": "2021-08-09T09:49:15.902929Z"
    },
    "tags": []
   },
   "outputs": [],
   "source": [
    "# Load data (without the derived features)\n",
    "X, y = boston['data'], boston['target']"
   ]
  },
  {
   "cell_type": "code",
   "execution_count": 12,
   "id": "c8d53563",
   "metadata": {
    "ExecuteTime": {
     "end_time": "2021-08-09T17:14:20.236440Z",
     "start_time": "2021-08-09T17:14:20.228217Z"
    },
    "execution": {
     "iopub.execute_input": "2021-08-09T09:49:15.919884Z",
     "iopub.status.busy": "2021-08-09T09:49:15.918886Z",
     "iopub.status.idle": "2021-08-09T09:49:15.934113Z",
     "shell.execute_reply": "2021-08-09T09:49:15.933113Z",
     "shell.execute_reply.started": "2021-08-09T09:49:15.919884Z"
    },
    "tags": []
   },
   "outputs": [
    {
     "name": "stdout",
     "output_type": "stream",
     "text": [
      "training set score: 0.683849\n",
      "test set score: 0.657718\n",
      "number of features used: 10\n"
     ]
    }
   ],
   "source": [
    "# Import Lasso regression package\n",
    "from sklearn.linear_model import Lasso\n",
    "\n",
    "# Run the Lasso model on default alpha=1.0\n",
    "lasso_default = Lasso().fit(X_train, y_train)\n",
    "print(\"training set score: %f\" % lasso_default.score(X_train, y_train))\n",
    "print(\"test set score: %f\" % lasso_default.score(X_test, y_test))\n",
    "print(\"number of features used: %d\" % np.sum(lasso_default.coef_ !=0))"
   ]
  },
  {
   "cell_type": "code",
   "execution_count": 13,
   "id": "d04a389c",
   "metadata": {
    "ExecuteTime": {
     "end_time": "2021-08-09T17:14:24.333755Z",
     "start_time": "2021-08-09T17:14:20.238375Z"
    },
    "execution": {
     "iopub.execute_input": "2021-08-09T09:49:15.935107Z",
     "iopub.status.busy": "2021-08-09T09:49:15.935107Z",
     "iopub.status.idle": "2021-08-09T09:49:17.425302Z",
     "shell.execute_reply": "2021-08-09T09:49:17.424478Z",
     "shell.execute_reply.started": "2021-08-09T09:49:15.935107Z"
    },
    "tags": []
   },
   "outputs": [],
   "source": [
    "# Run Lasso model for 100 iterations on different alpha_lasso values\n",
    "all_training = pd.DataFrame()\n",
    "all_test = pd.DataFrame()\n",
    "alpha_lasso = [1e-5, 1e-4, 1e-3, 7e-3, 1e-2, 5e-2, 0.1, 0.2, 0.5, 0.75, 1, 1.5, 3, 10, 20, 30, 50, 100] # arbitrary\n",
    "num_trials = 100\n",
    "\n",
    "for seedN in range(1, num_trials+1, 1):\n",
    "    X_train, X_test, y_train, y_test = train_test_split(X, y, test_size=0.25, random_state=seedN)\n",
    "    training_accuracy = []\n",
    "    test_accuracy = []\n",
    "    for alpha_run in alpha_lasso:\n",
    "        lasso = Lasso(alpha=alpha_run, max_iter=1_000_000).fit(X_train, y_train)\n",
    "        training_accuracy.append(lasso.score(X_train, y_train))\n",
    "        test_accuracy.append(lasso.score(X_test, y_test))\n",
    "    all_training[seedN] = training_accuracy\n",
    "    all_test[seedN] = test_accuracy"
   ]
  },
  {
   "cell_type": "code",
   "execution_count": 14,
   "id": "3f1e384b",
   "metadata": {
    "ExecuteTime": {
     "end_time": "2021-08-09T17:14:24.366882Z",
     "start_time": "2021-08-09T17:14:24.336625Z"
    }
   },
   "outputs": [
    {
     "data": {
      "text/html": [
       "<div>\n",
       "<style scoped>\n",
       "    .dataframe tbody tr th:only-of-type {\n",
       "        vertical-align: middle;\n",
       "    }\n",
       "\n",
       "    .dataframe tbody tr th {\n",
       "        vertical-align: top;\n",
       "    }\n",
       "\n",
       "    .dataframe thead th {\n",
       "        text-align: right;\n",
       "    }\n",
       "</style>\n",
       "<table border=\"1\" class=\"dataframe\">\n",
       "  <thead>\n",
       "    <tr style=\"text-align: right;\">\n",
       "      <th></th>\n",
       "      <th>Alpha Lasso</th>\n",
       "      <th>Train Accuracy</th>\n",
       "      <th>Test Accuracy</th>\n",
       "    </tr>\n",
       "  </thead>\n",
       "  <tbody>\n",
       "    <tr>\n",
       "      <th>0</th>\n",
       "      <td>1e-05</td>\n",
       "      <td>0.7432</td>\n",
       "      <td>0.7131</td>\n",
       "    </tr>\n",
       "    <tr>\n",
       "      <th>1</th>\n",
       "      <td>0.0001</td>\n",
       "      <td>0.7432</td>\n",
       "      <td>0.7131</td>\n",
       "    </tr>\n",
       "    <tr>\n",
       "      <th>2</th>\n",
       "      <td>0.001</td>\n",
       "      <td>0.7432</td>\n",
       "      <td>0.7131</td>\n",
       "    </tr>\n",
       "    <tr>\n",
       "      <th>3</th>\n",
       "      <td>0.007</td>\n",
       "      <td>0.743</td>\n",
       "      <td>0.7126</td>\n",
       "    </tr>\n",
       "    <tr>\n",
       "      <th>4</th>\n",
       "      <td>0.01</td>\n",
       "      <td>0.7428</td>\n",
       "      <td>0.7123</td>\n",
       "    </tr>\n",
       "    <tr>\n",
       "      <th>5</th>\n",
       "      <td>0.05</td>\n",
       "      <td>0.7333</td>\n",
       "      <td>0.7011</td>\n",
       "    </tr>\n",
       "    <tr>\n",
       "      <th>6</th>\n",
       "      <td>0.1</td>\n",
       "      <td>0.7301</td>\n",
       "      <td>0.6997</td>\n",
       "    </tr>\n",
       "    <tr>\n",
       "      <th>7</th>\n",
       "      <td>0.2</td>\n",
       "      <td>0.7256</td>\n",
       "      <td>0.6981</td>\n",
       "    </tr>\n",
       "    <tr>\n",
       "      <th>8</th>\n",
       "      <td>0.5</td>\n",
       "      <td>0.7161</td>\n",
       "      <td>0.6886</td>\n",
       "    </tr>\n",
       "    <tr>\n",
       "      <th>9</th>\n",
       "      <td>0.75</td>\n",
       "      <td>0.7029</td>\n",
       "      <td>0.6739</td>\n",
       "    </tr>\n",
       "    <tr>\n",
       "      <th>10</th>\n",
       "      <td>1</td>\n",
       "      <td>0.6845</td>\n",
       "      <td>0.654</td>\n",
       "    </tr>\n",
       "    <tr>\n",
       "      <th>11</th>\n",
       "      <td>1.5</td>\n",
       "      <td>0.6496</td>\n",
       "      <td>0.6203</td>\n",
       "    </tr>\n",
       "    <tr>\n",
       "      <th>12</th>\n",
       "      <td>3</td>\n",
       "      <td>0.5995</td>\n",
       "      <td>0.572</td>\n",
       "    </tr>\n",
       "    <tr>\n",
       "      <th>13</th>\n",
       "      <td>10</td>\n",
       "      <td>0.5267</td>\n",
       "      <td>0.5104</td>\n",
       "    </tr>\n",
       "    <tr>\n",
       "      <th>14</th>\n",
       "      <td>20</td>\n",
       "      <td>0.428</td>\n",
       "      <td>0.4144</td>\n",
       "    </tr>\n",
       "    <tr>\n",
       "      <th>15</th>\n",
       "      <td>30</td>\n",
       "      <td>0.2794</td>\n",
       "      <td>0.2636</td>\n",
       "    </tr>\n",
       "    <tr>\n",
       "      <th>16</th>\n",
       "      <td>50</td>\n",
       "      <td>0.2382</td>\n",
       "      <td>0.2263</td>\n",
       "    </tr>\n",
       "    <tr>\n",
       "      <th>17</th>\n",
       "      <td>100</td>\n",
       "      <td>0.2253</td>\n",
       "      <td>0.2142</td>\n",
       "    </tr>\n",
       "  </tbody>\n",
       "</table>\n",
       "</div>"
      ],
      "text/plain": [
       "    Alpha Lasso  Train Accuracy  Test Accuracy\n",
       "0         1e-05          0.7432         0.7131\n",
       "1        0.0001          0.7432         0.7131\n",
       "2         0.001          0.7432         0.7131\n",
       "3         0.007           0.743         0.7126\n",
       "4          0.01          0.7428         0.7123\n",
       "5          0.05          0.7333         0.7011\n",
       "6           0.1          0.7301         0.6997\n",
       "7           0.2          0.7256         0.6981\n",
       "8           0.5          0.7161         0.6886\n",
       "9          0.75          0.7029         0.6739\n",
       "10            1          0.6845          0.654\n",
       "11          1.5          0.6496         0.6203\n",
       "12            3          0.5995          0.572\n",
       "13           10          0.5267         0.5104\n",
       "14           20           0.428         0.4144\n",
       "15           30          0.2794         0.2636\n",
       "16           50          0.2382         0.2263\n",
       "17          100          0.2253         0.2142"
      ]
     },
     "execution_count": 14,
     "metadata": {},
     "output_type": "execute_result"
    }
   ],
   "source": [
    "# Display train and test accuracy at each level of alpha\n",
    "lasso_boston = pd.DataFrame([alpha_lasso, all_training.mean(axis=1), all_test.mean(axis=1)]).T\n",
    "lasso_boston.columns = ['Alpha Lasso', 'Train Accuracy', 'Test Accuracy']\n",
    "lasso_boston"
   ]
  },
  {
   "cell_type": "code",
   "execution_count": 15,
   "id": "16d17783",
   "metadata": {
    "ExecuteTime": {
     "end_time": "2021-08-09T17:14:25.651903Z",
     "start_time": "2021-08-09T17:14:24.369057Z"
    },
    "execution": {
     "iopub.execute_input": "2021-08-09T09:49:17.426332Z",
     "iopub.status.busy": "2021-08-09T09:49:17.425302Z",
     "iopub.status.idle": "2021-08-09T09:49:18.143329Z",
     "shell.execute_reply": "2021-08-09T09:49:18.143329Z",
     "shell.execute_reply.started": "2021-08-09T09:49:17.426332Z"
    },
    "tags": []
   },
   "outputs": [
    {
     "data": {
      "text/plain": [
       "<matplotlib.legend.Legend at 0x1e9a848a1c0>"
      ]
     },
     "execution_count": 15,
     "metadata": {},
     "output_type": "execute_result"
    },
    {
     "data": {
      "image/png": "[encoded data removed]",
      "text/plain": [
       "<Figure size 1440x432 with 1 Axes>"
      ]
     },
     "metadata": {
      "needs_background": "light"
     },
     "output_type": "display_data"
    }
   ],
   "source": [
    "# Plot the accuracy and alpha_ridge for 100 iterations \n",
    "fig = plt.figure(figsize=(20, 6))\n",
    "import pylab as plot\n",
    "plt.xscale('log')\n",
    "params = {'legend.fontsize': 15, 'legend.handlelength': 2}\n",
    "plot.rcParams.update(params)\n",
    "plt.errorbar(alpha_lasso, all_training.mean(axis=1),\n",
    "             yerr=all_training.std(axis=1), label=\"training accuracy\", color='blue', marker='o', linestyle='dashed', markersize=15)\n",
    "plt.errorbar(alpha_lasso, all_test.mean(axis=1),\n",
    "             yerr=all_test.std(axis=1), label=\"test accuracy\", color='red', marker='^', linestyle='-', markersize=15)\n",
    "plt.ylabel(\"Accuracy, $R^2$\", fontsize=15)\n",
    "plt.xlabel(\"alpha_lasso\",fontsize=15)\n",
    "plt.legend()"
   ]
  },
  {
   "cell_type": "code",
   "execution_count": 16,
   "id": "1930dc59",
   "metadata": {
    "ExecuteTime": {
     "end_time": "2021-08-09T17:14:25.661586Z",
     "start_time": "2021-08-09T17:14:25.654183Z"
    },
    "execution": {
     "iopub.execute_input": "2021-08-09T09:49:18.145325Z",
     "iopub.status.busy": "2021-08-09T09:49:18.144328Z",
     "iopub.status.idle": "2021-08-09T09:49:18.159287Z",
     "shell.execute_reply": "2021-08-09T09:49:18.159287Z",
     "shell.execute_reply.started": "2021-08-09T09:49:18.145325Z"
    },
    "tags": []
   },
   "outputs": [
    {
     "name": "stdout",
     "output_type": "stream",
     "text": [
      "         Optimal alpha_lasso = 1e-05\n",
      "Corresponding avg test score = 0.7131015989484233\n"
     ]
    }
   ],
   "source": [
    "# Resulting optimal alpha and test accuracy at 100 iterations\n",
    "optimal_alpha_index = all_test.mean(axis=1).idxmax()\n",
    "optimal_alpha       = alpha_lasso[optimal_alpha_index]\n",
    "test_optimal        = all_test.mean(axis=1)[optimal_alpha_index]\n",
    "\n",
    "print(f'         Optimal alpha_lasso = {optimal_alpha}')\n",
    "print(f'Corresponding avg test score = {test_optimal}')"
   ]
  },
  {
   "cell_type": "code",
   "execution_count": 17,
   "id": "8c188628",
   "metadata": {
    "ExecuteTime": {
     "end_time": "2021-08-09T17:14:25.674474Z",
     "start_time": "2021-08-09T17:14:25.664051Z"
    },
    "execution": {
     "iopub.execute_input": "2021-08-09T09:49:18.160285Z",
     "iopub.status.busy": "2021-08-09T09:49:18.160285Z",
     "iopub.status.idle": "2021-08-09T09:49:18.174247Z",
     "shell.execute_reply": "2021-08-09T09:49:18.174247Z",
     "shell.execute_reply.started": "2021-08-09T09:49:18.160285Z"
    },
    "tags": []
   },
   "outputs": [
    {
     "name": "stdout",
     "output_type": "stream",
     "text": [
      "number of features used: 13\n"
     ]
    },
    {
     "data": {
      "image/png": "[encoded data removed]",
      "text/plain": [
       "<Figure size 432x288 with 1 Axes>"
      ]
     },
     "metadata": {
      "needs_background": "light"
     },
     "output_type": "display_data"
    }
   ],
   "source": [
    "# Using optimal alpha\n",
    "X_train, X_test, y_train, y_test = train_test_split(X, y, test_size=0.25)\n",
    "lasso_optimal = Lasso(alpha=optimal_alpha, max_iter=1_000_000).fit(X_train, y_train)\n",
    "print(\"number of features used: %d\" % np.sum(lasso_optimal.coef_ !=0))\n",
    "\n",
    "weights_normalized = lasso_optimal.coef_.T/np.sum(np.abs(lasso_optimal.coef_.T))\n",
    "X = pd.DataFrame(X)\n",
    "plt.barh(range(X.shape[1]), weights_normalized, align='center')\n",
    "plt.yticks(np.arange(X.shape[1]), boston.feature_names)\n",
    "plt.xlabel(\"Feature importance\")\n",
    "plt.ylabel(\"Actual value\")\n",
    "plt.ylim(-1,X.shape[1])\n",
    "plt.show()"
   ]
  },
  {
   "cell_type": "markdown",
   "id": "cee721ce",
   "metadata": {
    "execution": {
     "iopub.execute_input": "2021-08-09T09:46:57.524997Z",
     "iopub.status.busy": "2021-08-09T09:46:57.523999Z",
     "iopub.status.idle": "2021-08-09T09:46:57.543981Z",
     "shell.execute_reply": "2021-08-09T09:46:57.543037Z",
     "shell.execute_reply.started": "2021-08-09T09:46:57.524997Z"
    },
    "tags": []
   },
   "source": [
    "All 13 features were used in Lasso."
   ]
  },
  {
   "cell_type": "markdown",
   "id": "4fe17822",
   "metadata": {
    "ExecuteTime": {
     "end_time": "2021-08-07T04:49:47.206609Z",
     "start_time": "2021-08-07T04:49:47.203429Z"
    }
   },
   "source": [
    "#### Resulting accuracy and optimal alpha (Lasso)\n",
    "\n",
    "Removing the derived features, we fitted the Lasso Regession Model to the Boston dataset. We ran the model for *100* iterations on different `alpha_lasso` values that were suggested in class. The results are as follows:\n",
    "\n",
    "- Optimal `alpha_lasso` = 1e-05 <br>\n",
    "- Test score $R^2$ (Lasso) = 0.7131015989484233\n",
    "- Test score $R^2$ (Linear regression) = 0.7129855993166657 [as discussed in class]\n",
    "\n",
    "Similar to the Ridge Regression Model, the optimal `alpha_lasso` is 1e-05 which is close to 0. It can be seen above that this performs equally to that of the Linear regression. (see bullets above). \n",
    "\n",
    "The insights are still the same as the Ridge model. The dismal test and training accuracy (< 75%) give an indication of possible underfitting, hence, exploring feature engineering techniques may help improve model performance. Lastly, we noted that the model used all **13** variables in the dataset at the optimal alpha. `NOX` remains the top predictor."
   ]
  },
  {
   "cell_type": "markdown",
   "id": "486d6115",
   "metadata": {},
   "source": [
    "## Parkinson's data set"
   ]
  },
  {
   "cell_type": "markdown",
   "id": "21918176",
   "metadata": {},
   "source": [
    "### Ridge Regression"
   ]
  },
  {
   "cell_type": "markdown",
   "id": "de6bdae2",
   "metadata": {},
   "source": [
    "#### Implementation"
   ]
  },
  {
   "cell_type": "code",
   "execution_count": 18,
   "id": "0ef392f9",
   "metadata": {
    "ExecuteTime": {
     "end_time": "2021-08-09T17:14:30.410375Z",
     "start_time": "2021-08-09T17:14:25.676779Z"
    },
    "execution": {
     "iopub.execute_input": "2021-08-09T09:49:18.176241Z",
     "iopub.status.busy": "2021-08-09T09:49:18.175244Z",
     "iopub.status.idle": "2021-08-09T09:49:19.479790Z",
     "shell.execute_reply": "2021-08-09T09:49:19.479790Z",
     "shell.execute_reply.started": "2021-08-09T09:49:18.176241Z"
    },
    "tags": []
   },
   "outputs": [
    {
     "name": "stdout",
     "output_type": "stream",
     "text": [
      "(5875, 22)\n"
     ]
    }
   ],
   "source": [
    "# Import the Parkinson's Dataset and Print shape\n",
    "df_parkinsons = pd.read_excel('parkinsons_updrs.xlsx', sheet_name=\"parkinsons_updrs\")\n",
    "dummy = df_parkinsons\n",
    "print(dummy.shape)"
   ]
  },
  {
   "cell_type": "code",
   "execution_count": 19,
   "id": "726c6c9f",
   "metadata": {
    "ExecuteTime": {
     "end_time": "2021-08-09T17:14:30.454104Z",
     "start_time": "2021-08-09T17:14:30.412859Z"
    },
    "execution": {
     "iopub.execute_input": "2021-08-09T09:49:19.496712Z",
     "iopub.status.busy": "2021-08-09T09:49:19.496712Z",
     "iopub.status.idle": "2021-08-09T09:49:19.526659Z",
     "shell.execute_reply": "2021-08-09T09:49:19.526659Z",
     "shell.execute_reply.started": "2021-08-09T09:49:19.496712Z"
    },
    "tags": []
   },
   "outputs": [
    {
     "data": {
      "text/html": [
       "<div>\n",
       "<style scoped>\n",
       "    .dataframe tbody tr th:only-of-type {\n",
       "        vertical-align: middle;\n",
       "    }\n",
       "\n",
       "    .dataframe tbody tr th {\n",
       "        vertical-align: top;\n",
       "    }\n",
       "\n",
       "    .dataframe thead th {\n",
       "        text-align: right;\n",
       "    }\n",
       "</style>\n",
       "<table border=\"1\" class=\"dataframe\">\n",
       "  <thead>\n",
       "    <tr style=\"text-align: right;\">\n",
       "      <th></th>\n",
       "      <th>subject#</th>\n",
       "      <th>age</th>\n",
       "      <th>sex</th>\n",
       "      <th>test_time</th>\n",
       "      <th>motor_score</th>\n",
       "      <th>Jitter(%)</th>\n",
       "      <th>Jitter(Abs)</th>\n",
       "      <th>Jitter:RAP</th>\n",
       "      <th>Jitter:PPQ5</th>\n",
       "      <th>Jitter:DDP</th>\n",
       "      <th>...</th>\n",
       "      <th>Shimmer(dB)</th>\n",
       "      <th>Shimmer:APQ3</th>\n",
       "      <th>Shimmer:APQ5</th>\n",
       "      <th>Shimmer:APQ11</th>\n",
       "      <th>Shimmer:DDA</th>\n",
       "      <th>NHR</th>\n",
       "      <th>HNR</th>\n",
       "      <th>RPDE</th>\n",
       "      <th>DFA</th>\n",
       "      <th>PPE</th>\n",
       "    </tr>\n",
       "  </thead>\n",
       "  <tbody>\n",
       "    <tr>\n",
       "      <th>0</th>\n",
       "      <td>1</td>\n",
       "      <td>72</td>\n",
       "      <td>0</td>\n",
       "      <td>5.643</td>\n",
       "      <td>28.2</td>\n",
       "      <td>0.00662</td>\n",
       "      <td>3.38e-05</td>\n",
       "      <td>0.00401</td>\n",
       "      <td>0.00317</td>\n",
       "      <td>0.01204</td>\n",
       "      <td>...</td>\n",
       "      <td>0.23</td>\n",
       "      <td>0.01438</td>\n",
       "      <td>0.01309</td>\n",
       "      <td>0.01662</td>\n",
       "      <td>0.04314</td>\n",
       "      <td>0.01429</td>\n",
       "      <td>21.64</td>\n",
       "      <td>0.4189</td>\n",
       "      <td>0.5484</td>\n",
       "      <td>0.1601</td>\n",
       "    </tr>\n",
       "    <tr>\n",
       "      <th>1</th>\n",
       "      <td>1</td>\n",
       "      <td>72</td>\n",
       "      <td>0</td>\n",
       "      <td>12.67</td>\n",
       "      <td>28.45</td>\n",
       "      <td>0.003</td>\n",
       "      <td>1.68e-05</td>\n",
       "      <td>0.00132</td>\n",
       "      <td>0.0015</td>\n",
       "      <td>0.00395</td>\n",
       "      <td>...</td>\n",
       "      <td>0.179</td>\n",
       "      <td>0.00994</td>\n",
       "      <td>0.01072</td>\n",
       "      <td>0.01689</td>\n",
       "      <td>0.02982</td>\n",
       "      <td>0.01111</td>\n",
       "      <td>27.18</td>\n",
       "      <td>0.4349</td>\n",
       "      <td>0.5648</td>\n",
       "      <td>0.1081</td>\n",
       "    </tr>\n",
       "    <tr>\n",
       "      <th>2</th>\n",
       "      <td>1</td>\n",
       "      <td>72</td>\n",
       "      <td>0</td>\n",
       "      <td>19.68</td>\n",
       "      <td>28.7</td>\n",
       "      <td>0.00481</td>\n",
       "      <td>2.462e-05</td>\n",
       "      <td>0.00205</td>\n",
       "      <td>0.00208</td>\n",
       "      <td>0.00616</td>\n",
       "      <td>...</td>\n",
       "      <td>0.181</td>\n",
       "      <td>0.00734</td>\n",
       "      <td>0.00844</td>\n",
       "      <td>0.01458</td>\n",
       "      <td>0.02202</td>\n",
       "      <td>0.02022</td>\n",
       "      <td>23.05</td>\n",
       "      <td>0.4622</td>\n",
       "      <td>0.5441</td>\n",
       "      <td>0.2101</td>\n",
       "    </tr>\n",
       "    <tr>\n",
       "      <th>3</th>\n",
       "      <td>1</td>\n",
       "      <td>72</td>\n",
       "      <td>0</td>\n",
       "      <td>25.65</td>\n",
       "      <td>28.91</td>\n",
       "      <td>0.00528</td>\n",
       "      <td>2.657e-05</td>\n",
       "      <td>0.00191</td>\n",
       "      <td>0.00264</td>\n",
       "      <td>0.00573</td>\n",
       "      <td>...</td>\n",
       "      <td>0.327</td>\n",
       "      <td>0.01106</td>\n",
       "      <td>0.01265</td>\n",
       "      <td>0.01963</td>\n",
       "      <td>0.03317</td>\n",
       "      <td>0.02784</td>\n",
       "      <td>24.45</td>\n",
       "      <td>0.4873</td>\n",
       "      <td>0.5779</td>\n",
       "      <td>0.3328</td>\n",
       "    </tr>\n",
       "    <tr>\n",
       "      <th>4</th>\n",
       "      <td>1</td>\n",
       "      <td>72</td>\n",
       "      <td>0</td>\n",
       "      <td>33.64</td>\n",
       "      <td>29.19</td>\n",
       "      <td>0.00335</td>\n",
       "      <td>2.014e-05</td>\n",
       "      <td>0.00093</td>\n",
       "      <td>0.0013</td>\n",
       "      <td>0.00278</td>\n",
       "      <td>...</td>\n",
       "      <td>0.176</td>\n",
       "      <td>0.00679</td>\n",
       "      <td>0.00929</td>\n",
       "      <td>0.01819</td>\n",
       "      <td>0.02036</td>\n",
       "      <td>0.01162</td>\n",
       "      <td>26.13</td>\n",
       "      <td>0.4719</td>\n",
       "      <td>0.5612</td>\n",
       "      <td>0.1936</td>\n",
       "    </tr>\n",
       "  </tbody>\n",
       "</table>\n",
       "<p>5 rows × 21 columns</p>\n",
       "</div>"
      ],
      "text/plain": [
       "   subject#  age  sex  test_time  motor_score  Jitter(%)  Jitter(Abs)  \\\n",
       "0         1   72    0      5.643         28.2    0.00662     3.38e-05   \n",
       "1         1   72    0      12.67        28.45      0.003     1.68e-05   \n",
       "2         1   72    0      19.68         28.7    0.00481    2.462e-05   \n",
       "3         1   72    0      25.65        28.91    0.00528    2.657e-05   \n",
       "4         1   72    0      33.64        29.19    0.00335    2.014e-05   \n",
       "\n",
       "   Jitter:RAP  Jitter:PPQ5  Jitter:DDP  ...  Shimmer(dB)  Shimmer:APQ3  \\\n",
       "0     0.00401      0.00317     0.01204  ...         0.23       0.01438   \n",
       "1     0.00132       0.0015     0.00395  ...        0.179       0.00994   \n",
       "2     0.00205      0.00208     0.00616  ...        0.181       0.00734   \n",
       "3     0.00191      0.00264     0.00573  ...        0.327       0.01106   \n",
       "4     0.00093       0.0013     0.00278  ...        0.176       0.00679   \n",
       "\n",
       "   Shimmer:APQ5  Shimmer:APQ11  Shimmer:DDA     NHR   HNR   RPDE    DFA    PPE  \n",
       "0       0.01309        0.01662      0.04314 0.01429 21.64 0.4189 0.5484 0.1601  \n",
       "1       0.01072        0.01689      0.02982 0.01111 27.18 0.4349 0.5648 0.1081  \n",
       "2       0.00844        0.01458      0.02202 0.02022 23.05 0.4622 0.5441 0.2101  \n",
       "3       0.01265        0.01963      0.03317 0.02784 24.45 0.4873 0.5779 0.3328  \n",
       "4       0.00929        0.01819      0.02036 0.01162 26.13 0.4719 0.5612 0.1936  \n",
       "\n",
       "[5 rows x 21 columns]"
      ]
     },
     "execution_count": 19,
     "metadata": {},
     "output_type": "execute_result"
    }
   ],
   "source": [
    "# Remove the target column X\n",
    "df_features = dummy.drop('Target', axis=1)\n",
    "df_features = df_features \n",
    "\n",
    "# Display the first 5 rows\n",
    "df_features.head()"
   ]
  },
  {
   "cell_type": "code",
   "execution_count": 20,
   "id": "2090e9b9",
   "metadata": {
    "ExecuteTime": {
     "end_time": "2021-08-09T17:14:30.460284Z",
     "start_time": "2021-08-09T17:14:30.456856Z"
    },
    "execution": {
     "iopub.execute_input": "2021-08-09T09:49:19.528627Z",
     "iopub.status.busy": "2021-08-09T09:49:19.527629Z",
     "iopub.status.idle": "2021-08-09T09:49:19.543586Z",
     "shell.execute_reply": "2021-08-09T09:49:19.542616Z",
     "shell.execute_reply.started": "2021-08-09T09:49:19.528627Z"
    },
    "tags": []
   },
   "outputs": [],
   "source": [
    "# Load data\n",
    "X, y = df_features, df_parkinsons['Target'] "
   ]
  },
  {
   "cell_type": "code",
   "execution_count": 21,
   "id": "4ee634ac",
   "metadata": {
    "ExecuteTime": {
     "end_time": "2021-08-09T17:20:02.004756Z",
     "start_time": "2021-08-09T17:19:38.613Z"
    },
    "execution": {
     "iopub.execute_input": "2021-08-09T09:49:19.543586Z",
     "iopub.status.busy": "2021-08-09T09:49:19.543586Z",
     "iopub.status.idle": "2021-08-09T09:49:27.237580Z",
     "shell.execute_reply": "2021-08-09T09:49:27.236583Z",
     "shell.execute_reply.started": "2021-08-09T09:49:19.543586Z"
    },
    "tags": []
   },
   "outputs": [
    {
     "name": "stdout",
     "output_type": "stream",
     "text": [
      "TRAIN SET: Mean =  0.9084308366131365  Stdev =  0.0008368037473871279\n",
      " TEST SET: Mean =  0.9084343154328658  Stdev =  0.0005074120721600304\n"
     ]
    }
   ],
   "source": [
    "# Run Ridge model for 100 iterations on different alpha_ridge values\n",
    "all_training = pd.DataFrame()\n",
    "all_test = pd.DataFrame()\n",
    "from sklearn.linear_model import Ridge\n",
    "alpha_ridge = [1e-5, 1e-4, 1e-3, 7e-3, 1e-2, 5e-2, 0.1, 0.2, 0.5, 0.75, 1, 1.5, 3, 10, 20, 30, 50, 100] # arbitrary\n",
    "num_trials = 100 \n",
    "\n",
    "for seedN in range(1, num_trials, 1):\n",
    "    X_train, X_test, y_train, y_test = train_test_split(X, y, test_size=0.25, random_state=seedN)\n",
    "    training_accuracy = []  \n",
    "    test_accuracy = []\n",
    "\n",
    "    for alpha_run in alpha_ridge:\n",
    "        ridge = Ridge(alpha=alpha_run, max_iter=1_000_000).fit(X_train, y_train)\n",
    "        training_accuracy.append(ridge.score(X_train, y_train))\n",
    "        test_accuracy.append(ridge.score(X_test, y_test))\n",
    "        \n",
    "    all_training[seedN]=training_accuracy\n",
    "    all_test[seedN] = test_accuracy\n",
    "\n",
    "print(\"TRAIN SET: Mean = \", np.mean(training_accuracy), \" Stdev = \", np.std(training_accuracy))\n",
    "print(\" TEST SET: Mean = \", np.mean(test_accuracy),\" Stdev = \", np.std(test_accuracy))"
   ]
  },
  {
   "cell_type": "code",
   "execution_count": 22,
   "id": "d9d5619a",
   "metadata": {},
   "outputs": [
    {
     "data": {
      "text/html": [
       "<div>\n",
       "<style scoped>\n",
       "    .dataframe tbody tr th:only-of-type {\n",
       "        vertical-align: middle;\n",
       "    }\n",
       "\n",
       "    .dataframe tbody tr th {\n",
       "        vertical-align: top;\n",
       "    }\n",
       "\n",
       "    .dataframe thead th {\n",
       "        text-align: right;\n",
       "    }\n",
       "</style>\n",
       "<table border=\"1\" class=\"dataframe\">\n",
       "  <thead>\n",
       "    <tr style=\"text-align: right;\">\n",
       "      <th></th>\n",
       "      <th>Alpha Ridge</th>\n",
       "      <th>Train Accuracy</th>\n",
       "      <th>Test Accuracy</th>\n",
       "    </tr>\n",
       "  </thead>\n",
       "  <tbody>\n",
       "    <tr>\n",
       "      <th>0</th>\n",
       "      <td>1e-05</td>\n",
       "      <td>0.9097</td>\n",
       "      <td>0.9088</td>\n",
       "    </tr>\n",
       "    <tr>\n",
       "      <th>1</th>\n",
       "      <td>0.0001</td>\n",
       "      <td>0.9096</td>\n",
       "      <td>0.9088</td>\n",
       "    </tr>\n",
       "    <tr>\n",
       "      <th>2</th>\n",
       "      <td>0.001</td>\n",
       "      <td>0.9096</td>\n",
       "      <td>0.9088</td>\n",
       "    </tr>\n",
       "    <tr>\n",
       "      <th>3</th>\n",
       "      <td>0.007</td>\n",
       "      <td>0.9094</td>\n",
       "      <td>0.9087</td>\n",
       "    </tr>\n",
       "    <tr>\n",
       "      <th>4</th>\n",
       "      <td>0.01</td>\n",
       "      <td>0.9093</td>\n",
       "      <td>0.9086</td>\n",
       "    </tr>\n",
       "    <tr>\n",
       "      <th>5</th>\n",
       "      <td>0.05</td>\n",
       "      <td>0.909</td>\n",
       "      <td>0.9084</td>\n",
       "    </tr>\n",
       "    <tr>\n",
       "      <th>6</th>\n",
       "      <td>0.1</td>\n",
       "      <td>0.9089</td>\n",
       "      <td>0.9083</td>\n",
       "    </tr>\n",
       "    <tr>\n",
       "      <th>7</th>\n",
       "      <td>0.2</td>\n",
       "      <td>0.9088</td>\n",
       "      <td>0.9082</td>\n",
       "    </tr>\n",
       "    <tr>\n",
       "      <th>8</th>\n",
       "      <td>0.5</td>\n",
       "      <td>0.9085</td>\n",
       "      <td>0.9081</td>\n",
       "    </tr>\n",
       "    <tr>\n",
       "      <th>9</th>\n",
       "      <td>0.75</td>\n",
       "      <td>0.9084</td>\n",
       "      <td>0.908</td>\n",
       "    </tr>\n",
       "    <tr>\n",
       "      <th>10</th>\n",
       "      <td>1</td>\n",
       "      <td>0.9084</td>\n",
       "      <td>0.9079</td>\n",
       "    </tr>\n",
       "    <tr>\n",
       "      <th>11</th>\n",
       "      <td>1.5</td>\n",
       "      <td>0.9083</td>\n",
       "      <td>0.9078</td>\n",
       "    </tr>\n",
       "    <tr>\n",
       "      <th>12</th>\n",
       "      <td>3</td>\n",
       "      <td>0.9081</td>\n",
       "      <td>0.9077</td>\n",
       "    </tr>\n",
       "    <tr>\n",
       "      <th>13</th>\n",
       "      <td>10</td>\n",
       "      <td>0.9079</td>\n",
       "      <td>0.9075</td>\n",
       "    </tr>\n",
       "    <tr>\n",
       "      <th>14</th>\n",
       "      <td>20</td>\n",
       "      <td>0.9077</td>\n",
       "      <td>0.9073</td>\n",
       "    </tr>\n",
       "    <tr>\n",
       "      <th>15</th>\n",
       "      <td>30</td>\n",
       "      <td>0.9075</td>\n",
       "      <td>0.9071</td>\n",
       "    </tr>\n",
       "    <tr>\n",
       "      <th>16</th>\n",
       "      <td>50</td>\n",
       "      <td>0.9073</td>\n",
       "      <td>0.9069</td>\n",
       "    </tr>\n",
       "    <tr>\n",
       "      <th>17</th>\n",
       "      <td>100</td>\n",
       "      <td>0.9069</td>\n",
       "      <td>0.9066</td>\n",
       "    </tr>\n",
       "  </tbody>\n",
       "</table>\n",
       "</div>"
      ],
      "text/plain": [
       "    Alpha Ridge  Train Accuracy  Test Accuracy\n",
       "0         1e-05          0.9097         0.9088\n",
       "1        0.0001          0.9096         0.9088\n",
       "2         0.001          0.9096         0.9088\n",
       "3         0.007          0.9094         0.9087\n",
       "4          0.01          0.9093         0.9086\n",
       "5          0.05           0.909         0.9084\n",
       "6           0.1          0.9089         0.9083\n",
       "7           0.2          0.9088         0.9082\n",
       "8           0.5          0.9085         0.9081\n",
       "9          0.75          0.9084          0.908\n",
       "10            1          0.9084         0.9079\n",
       "11          1.5          0.9083         0.9078\n",
       "12            3          0.9081         0.9077\n",
       "13           10          0.9079         0.9075\n",
       "14           20          0.9077         0.9073\n",
       "15           30          0.9075         0.9071\n",
       "16           50          0.9073         0.9069\n",
       "17          100          0.9069         0.9066"
      ]
     },
     "execution_count": 22,
     "metadata": {},
     "output_type": "execute_result"
    }
   ],
   "source": [
    "# Display train and test accuracy at each level of alpha\n",
    "ridge_parkinson = pd.DataFrame([alpha_ridge, all_training.mean(axis=1), all_test.mean(axis=1)]).T\n",
    "ridge_parkinson.columns = ['Alpha Ridge', 'Train Accuracy', 'Test Accuracy']\n",
    "ridge_parkinson"
   ]
  },
  {
   "cell_type": "code",
   "execution_count": 23,
   "id": "e6ce984b",
   "metadata": {
    "ExecuteTime": {
     "end_time": "2021-08-09T17:20:01.982656Z",
     "start_time": "2021-08-09T17:14:05.722Z"
    },
    "execution": {
     "iopub.execute_input": "2021-08-09T09:49:27.238577Z",
     "iopub.status.busy": "2021-08-09T09:49:27.238577Z",
     "iopub.status.idle": "2021-08-09T09:49:27.874420Z",
     "shell.execute_reply": "2021-08-09T09:49:27.873458Z",
     "shell.execute_reply.started": "2021-08-09T09:49:27.238577Z"
    },
    "tags": []
   },
   "outputs": [
    {
     "data": {
      "text/plain": [
       "<matplotlib.legend.Legend at 0x1e9a88ff220>"
      ]
     },
     "execution_count": 23,
     "metadata": {},
     "output_type": "execute_result"
    },
    {
     "data": {
      "image/png": "[encoded data removed]",
      "text/plain": [
       "<Figure size 1440x432 with 1 Axes>"
      ]
     },
     "metadata": {
      "needs_background": "light"
     },
     "output_type": "display_data"
    }
   ],
   "source": [
    "# Plot the accuracy and alpha_ridge for 100 iterations \n",
    "fig = plt.figure(figsize=(20, 6))\n",
    "import pylab as plot\n",
    "plt.xscale('log')\n",
    "params = {'legend.fontsize': 15, 'legend.handlelength': 2}\n",
    "plot.rcParams.update(params)\n",
    "plt.errorbar(alpha_ridge, all_training.mean(axis=1),\n",
    "             yerr=all_training.std(axis=1)/6, label=\"training accuracy\", color='blue', marker='o', linestyle='dashed', markersize=15)\n",
    "plt.errorbar(alpha_ridge, all_test.mean(axis=1),\n",
    "             yerr=all_test.std(axis=1)/6, label=\"test accuracy\", color='red', marker='^', linestyle='-', markersize=15)\n",
    "plt.ylabel(\"Accuracy, $R^2$\", fontsize=15)\n",
    "plt.xlabel(\"alpha_ridge\",fontsize=15)\n",
    "plt.legend()"
   ]
  },
  {
   "cell_type": "code",
   "execution_count": 24,
   "id": "586f9146",
   "metadata": {
    "ExecuteTime": {
     "end_time": "2021-08-09T17:20:01.984374Z",
     "start_time": "2021-08-09T17:14:05.723Z"
    },
    "execution": {
     "iopub.execute_input": "2021-08-09T09:49:27.876416Z",
     "iopub.status.busy": "2021-08-09T09:49:27.876416Z",
     "iopub.status.idle": "2021-08-09T09:49:27.889415Z",
     "shell.execute_reply": "2021-08-09T09:49:27.889415Z",
     "shell.execute_reply.started": "2021-08-09T09:49:27.876416Z"
    },
    "tags": []
   },
   "outputs": [
    {
     "name": "stdout",
     "output_type": "stream",
     "text": [
      "     Optimal alpha_ridge = 1e-05\n",
      "Corresponding test score = 0.908794055490406\n"
     ]
    }
   ],
   "source": [
    "# Resulting optimal alpha and test accuracy at 100 iterations\n",
    "optimal_alpha_index = all_test.mean(axis=1).idxmax()\n",
    "optimal_alpha       = alpha_ridge[optimal_alpha_index]\n",
    "test_optimal        = all_test.mean(axis=1)[optimal_alpha_index]\n",
    "\n",
    "print(f'     Optimal alpha_ridge = {optimal_alpha}')\n",
    "print(f'Corresponding test score = {test_optimal}')"
   ]
  },
  {
   "cell_type": "code",
   "execution_count": 25,
   "id": "6e7a3e28",
   "metadata": {
    "ExecuteTime": {
     "end_time": "2021-08-09T17:20:01.986075Z",
     "start_time": "2021-08-09T17:14:05.724Z"
    },
    "execution": {
     "iopub.execute_input": "2021-08-09T09:49:27.890377Z",
     "iopub.status.busy": "2021-08-09T09:49:27.890377Z",
     "iopub.status.idle": "2021-08-09T09:49:28.154689Z",
     "shell.execute_reply": "2021-08-09T09:49:28.154689Z",
     "shell.execute_reply.started": "2021-08-09T09:49:27.890377Z"
    },
    "scrolled": true,
    "tags": []
   },
   "outputs": [
    {
     "data": {
      "text/plain": [
       "(-1.0, 21.0)"
      ]
     },
     "execution_count": 25,
     "metadata": {},
     "output_type": "execute_result"
    },
    {
     "data": {
      "image/png": "[encoded data removed]",
      "text/plain": [
       "<Figure size 216x360 with 1 Axes>"
      ]
     },
     "metadata": {
      "needs_background": "light"
     },
     "output_type": "display_data"
    }
   ],
   "source": [
    "# Plot the feature importance at optimal alpha\n",
    "param=optimal_alpha\n",
    "ridge_optimal = Ridge(alpha=param).fit(X_train, y_train)\n",
    "weights_normalized = ridge_optimal.coef_.T/np.sum(np.abs(ridge_optimal.coef_.T)) # optimal alpha\n",
    "\n",
    "import numpy as np\n",
    "fig = plt.figure(figsize=(3, 5))\n",
    "n_features = X.shape[1]\n",
    "plt.barh(range(n_features), weights_normalized, align='center')\n",
    "plt.yticks(np.arange(n_features), X.columns)\n",
    "plt.xlabel(\"Feature importance\")\n",
    "plt.ylabel(\"Features\")\n",
    "plt.ylim(-1, n_features)"
   ]
  },
  {
   "cell_type": "markdown",
   "id": "bf4d5143",
   "metadata": {
    "ExecuteTime": {
     "end_time": "2021-08-07T04:06:10.929011Z",
     "start_time": "2021-08-07T04:06:10.918818Z"
    }
   },
   "source": [
    "#### Resulting accuracy and optimal alpha (Ridge)\n",
    "\n",
    "We fitted the Ridge Regession Model to the Parkinson's dataset. We ran the model for *100* iterations on different `alpha_ridge` values that were suggested in class. The results are as follows:\n",
    "\n",
    "- Optimal `alpha_ridge` = 1e-05 <br>\n",
    "- Test score $R^2$ (Ridge) = 0.908794055490406\n",
    "- Test score $R^2$ (Linear regression) = 0.9089324614040405   [see Appendix]\n",
    "\n",
    "The optimal `alpha_ridge` is 1e-05 which is close to 0. At this small `alpha_ridge` value, the model approaches the behavior of a linear regression. The Ridge regression test score is at 90.87% which approximates Linear Regression at 90.89% (see bullets above). Unlike the Boston dataset's Ridge model which does not show apparent convergence of train/test lines, we observed that the training and test accuracy lines for the Ridge model start to converge at around `alpha_ridge` = $10^0$ (see the plot).\n",
    "\n",
    "The high and closely-knitted test and training accuracy (~91%) gives an indication that there is no overfitting. However, exploring feature engineering techniques may further help improve model performance. Lastly, we  noted that the top predictor of the model is `Jitter(ABS)`, one of the voice perturbation paramaters, as seen in the plot on `Feature importance`."
   ]
  },
  {
   "cell_type": "markdown",
   "id": "5953ac5f",
   "metadata": {},
   "source": [
    "### Lasso Regression"
   ]
  },
  {
   "cell_type": "markdown",
   "id": "036b0415",
   "metadata": {},
   "source": [
    "#### Implementation"
   ]
  },
  {
   "cell_type": "code",
   "execution_count": 26,
   "id": "2ae6b7da",
   "metadata": {
    "ExecuteTime": {
     "end_time": "2021-08-09T17:20:01.987719Z",
     "start_time": "2021-08-09T17:14:05.725Z"
    },
    "execution": {
     "iopub.execute_input": "2021-08-09T09:49:28.156684Z",
     "iopub.status.busy": "2021-08-09T09:49:28.155686Z",
     "iopub.status.idle": "2021-08-09T09:49:28.171644Z",
     "shell.execute_reply": "2021-08-09T09:49:28.170646Z",
     "shell.execute_reply.started": "2021-08-09T09:49:28.155686Z"
    },
    "tags": []
   },
   "outputs": [],
   "source": [
    "# Load data\n",
    "X, y = df_features, df_parkinsons['Target']"
   ]
  },
  {
   "cell_type": "code",
   "execution_count": 27,
   "id": "0b13c1f9",
   "metadata": {
    "ExecuteTime": {
     "end_time": "2021-08-09T17:20:01.989362Z",
     "start_time": "2021-08-09T17:14:05.726Z"
    },
    "execution": {
     "iopub.execute_input": "2021-08-09T09:49:28.172642Z",
     "iopub.status.busy": "2021-08-09T09:49:28.171644Z",
     "iopub.status.idle": "2021-08-09T09:49:28.202560Z",
     "shell.execute_reply": "2021-08-09T09:49:28.201596Z",
     "shell.execute_reply.started": "2021-08-09T09:49:28.171644Z"
    },
    "tags": []
   },
   "outputs": [
    {
     "name": "stdout",
     "output_type": "stream",
     "text": [
      "training set score: 0.901081\n",
      "test set score: 0.897644\n",
      "number of features used: 4\n"
     ]
    }
   ],
   "source": [
    "# Import Lasso regression package\n",
    "from sklearn.linear_model import Lasso\n",
    "\n",
    "# Run the Lasso model on default alpha=1.0\n",
    "X_train, X_test, y_train, y_test = train_test_split(X, y, test_size=0.25)\n",
    "lasso_default = Lasso().fit(X_train, y_train)\n",
    "print(\"training set score: %f\" % lasso_default.score(X_train, y_train))\n",
    "print(\"test set score: %f\" % lasso_default.score(X_test, y_test))\n",
    "print(\"number of features used: %d\" % np.sum(lasso_default.coef_ !=0))"
   ]
  },
  {
   "cell_type": "code",
   "execution_count": 28,
   "id": "0c5c37b5",
   "metadata": {
    "ExecuteTime": {
     "end_time": "2021-08-09T17:20:01.991023Z",
     "start_time": "2021-08-09T17:14:05.727Z"
    },
    "execution": {
     "iopub.execute_input": "2021-08-09T09:49:28.203557Z",
     "iopub.status.busy": "2021-08-09T09:49:28.202560Z",
     "iopub.status.idle": "2021-08-09T09:49:56.033361Z",
     "shell.execute_reply": "2021-08-09T09:49:56.033361Z",
     "shell.execute_reply.started": "2021-08-09T09:49:28.203557Z"
    },
    "tags": []
   },
   "outputs": [],
   "source": [
    "# Run Lasso model for 100 iterations on different alpha_lasso values\n",
    "all_training = pd.DataFrame()\n",
    "all_test = pd.DataFrame()\n",
    "\n",
    "alpha_lasso = [1e-5, 1e-4, 1e-3, 7e-3, 1e-2, 5e-2, 0.1, 0.2, 0.5, 0.75, 1, 1.5, 3, 10, 20, 30, 50, 100] # arbitrary\n",
    "num_trials = 100\n",
    "\n",
    "for seedN in range(1, num_trials, 1):\n",
    "    X_train, X_test, y_train, y_test = train_test_split(X, y, test_size=0.25, random_state=seedN)\n",
    "    training_accuracy = []\n",
    "    test_accuracy = []\n",
    "    for alpha_run in alpha_lasso:\n",
    "        lasso = Lasso(alpha=alpha_run, max_iter=1_000_000).fit(X_train, y_train)\n",
    "        training_accuracy.append(lasso.score(X_train, y_train))\n",
    "        test_accuracy.append(lasso.score(X_test, y_test))\n",
    "    all_training[seedN] = training_accuracy\n",
    "    all_test[seedN] = test_accuracy"
   ]
  },
  {
   "cell_type": "code",
   "execution_count": 29,
   "id": "1df3755f",
   "metadata": {
    "ExecuteTime": {
     "end_time": "2021-08-09T17:20:01.992473Z",
     "start_time": "2021-08-09T17:14:05.728Z"
    },
    "execution": {
     "iopub.execute_input": "2021-08-09T09:49:56.035356Z",
     "iopub.status.busy": "2021-08-09T09:49:56.035356Z",
     "iopub.status.idle": "2021-08-09T09:49:56.050317Z",
     "shell.execute_reply": "2021-08-09T09:49:56.049320Z",
     "shell.execute_reply.started": "2021-08-09T09:49:56.035356Z"
    },
    "tags": []
   },
   "outputs": [
    {
     "data": {
      "text/html": [
       "<div>\n",
       "<style scoped>\n",
       "    .dataframe tbody tr th:only-of-type {\n",
       "        vertical-align: middle;\n",
       "    }\n",
       "\n",
       "    .dataframe tbody tr th {\n",
       "        vertical-align: top;\n",
       "    }\n",
       "\n",
       "    .dataframe thead th {\n",
       "        text-align: right;\n",
       "    }\n",
       "</style>\n",
       "<table border=\"1\" class=\"dataframe\">\n",
       "  <thead>\n",
       "    <tr style=\"text-align: right;\">\n",
       "      <th></th>\n",
       "      <th>Alpha Lasso</th>\n",
       "      <th>Train Accuracy</th>\n",
       "      <th>Test Accuracy</th>\n",
       "    </tr>\n",
       "  </thead>\n",
       "  <tbody>\n",
       "    <tr>\n",
       "      <th>0</th>\n",
       "      <td>1e-05</td>\n",
       "      <td>0.9096</td>\n",
       "      <td>0.9088</td>\n",
       "    </tr>\n",
       "    <tr>\n",
       "      <th>1</th>\n",
       "      <td>0.0001</td>\n",
       "      <td>0.9092</td>\n",
       "      <td>0.9085</td>\n",
       "    </tr>\n",
       "    <tr>\n",
       "      <th>2</th>\n",
       "      <td>0.001</td>\n",
       "      <td>0.9085</td>\n",
       "      <td>0.9079</td>\n",
       "    </tr>\n",
       "    <tr>\n",
       "      <th>3</th>\n",
       "      <td>0.007</td>\n",
       "      <td>0.9077</td>\n",
       "      <td>0.9072</td>\n",
       "    </tr>\n",
       "    <tr>\n",
       "      <th>4</th>\n",
       "      <td>0.01</td>\n",
       "      <td>0.9074</td>\n",
       "      <td>0.9069</td>\n",
       "    </tr>\n",
       "    <tr>\n",
       "      <th>5</th>\n",
       "      <td>0.05</td>\n",
       "      <td>0.9061</td>\n",
       "      <td>0.9058</td>\n",
       "    </tr>\n",
       "    <tr>\n",
       "      <th>6</th>\n",
       "      <td>0.1</td>\n",
       "      <td>0.9058</td>\n",
       "      <td>0.9054</td>\n",
       "    </tr>\n",
       "    <tr>\n",
       "      <th>7</th>\n",
       "      <td>0.2</td>\n",
       "      <td>0.9044</td>\n",
       "      <td>0.904</td>\n",
       "    </tr>\n",
       "    <tr>\n",
       "      <th>8</th>\n",
       "      <td>0.5</td>\n",
       "      <td>0.9006</td>\n",
       "      <td>0.9002</td>\n",
       "    </tr>\n",
       "    <tr>\n",
       "      <th>9</th>\n",
       "      <td>0.75</td>\n",
       "      <td>0.9005</td>\n",
       "      <td>0.9001</td>\n",
       "    </tr>\n",
       "    <tr>\n",
       "      <th>10</th>\n",
       "      <td>1</td>\n",
       "      <td>0.9004</td>\n",
       "      <td>0.9</td>\n",
       "    </tr>\n",
       "    <tr>\n",
       "      <th>11</th>\n",
       "      <td>1.5</td>\n",
       "      <td>0.9001</td>\n",
       "      <td>0.8997</td>\n",
       "    </tr>\n",
       "    <tr>\n",
       "      <th>12</th>\n",
       "      <td>3</td>\n",
       "      <td>0.8986</td>\n",
       "      <td>0.8982</td>\n",
       "    </tr>\n",
       "    <tr>\n",
       "      <th>13</th>\n",
       "      <td>10</td>\n",
       "      <td>0.8841</td>\n",
       "      <td>0.8838</td>\n",
       "    </tr>\n",
       "    <tr>\n",
       "      <th>14</th>\n",
       "      <td>20</td>\n",
       "      <td>0.8444</td>\n",
       "      <td>0.8442</td>\n",
       "    </tr>\n",
       "    <tr>\n",
       "      <th>15</th>\n",
       "      <td>30</td>\n",
       "      <td>0.7783</td>\n",
       "      <td>0.7782</td>\n",
       "    </tr>\n",
       "    <tr>\n",
       "      <th>16</th>\n",
       "      <td>50</td>\n",
       "      <td>0.5668</td>\n",
       "      <td>0.5665</td>\n",
       "    </tr>\n",
       "    <tr>\n",
       "      <th>17</th>\n",
       "      <td>100</td>\n",
       "      <td>0</td>\n",
       "      <td>-0.001023</td>\n",
       "    </tr>\n",
       "  </tbody>\n",
       "</table>\n",
       "</div>"
      ],
      "text/plain": [
       "    Alpha Lasso  Train Accuracy  Test Accuracy\n",
       "0         1e-05          0.9096         0.9088\n",
       "1        0.0001          0.9092         0.9085\n",
       "2         0.001          0.9085         0.9079\n",
       "3         0.007          0.9077         0.9072\n",
       "4          0.01          0.9074         0.9069\n",
       "5          0.05          0.9061         0.9058\n",
       "6           0.1          0.9058         0.9054\n",
       "7           0.2          0.9044          0.904\n",
       "8           0.5          0.9006         0.9002\n",
       "9          0.75          0.9005         0.9001\n",
       "10            1          0.9004            0.9\n",
       "11          1.5          0.9001         0.8997\n",
       "12            3          0.8986         0.8982\n",
       "13           10          0.8841         0.8838\n",
       "14           20          0.8444         0.8442\n",
       "15           30          0.7783         0.7782\n",
       "16           50          0.5668         0.5665\n",
       "17          100               0      -0.001023"
      ]
     },
     "execution_count": 29,
     "metadata": {},
     "output_type": "execute_result"
    }
   ],
   "source": [
    "# Display train and test accuracy at each level of alpha\n",
    "lasso_parkinson = pd.DataFrame([alpha_lasso, all_training.mean(axis=1), all_test.mean(axis=1)]).T\n",
    "lasso_parkinson.columns = ['Alpha Lasso', 'Train Accuracy', 'Test Accuracy']\n",
    "lasso_parkinson"
   ]
  },
  {
   "cell_type": "code",
   "execution_count": 30,
   "id": "660cee76",
   "metadata": {
    "ExecuteTime": {
     "end_time": "2021-08-09T17:20:01.994005Z",
     "start_time": "2021-08-09T17:14:05.729Z"
    },
    "execution": {
     "iopub.execute_input": "2021-08-09T09:49:56.052312Z",
     "iopub.status.busy": "2021-08-09T09:49:56.052312Z",
     "iopub.status.idle": "2021-08-09T09:49:56.685262Z",
     "shell.execute_reply": "2021-08-09T09:49:56.684261Z",
     "shell.execute_reply.started": "2021-08-09T09:49:56.052312Z"
    },
    "tags": []
   },
   "outputs": [
    {
     "data": {
      "text/plain": [
       "<matplotlib.legend.Legend at 0x1e9a9bfd430>"
      ]
     },
     "execution_count": 30,
     "metadata": {},
     "output_type": "execute_result"
    },
    {
     "data": {
      "image/png": "[encoded data removed]",
      "text/plain": [
       "<Figure size 1440x432 with 1 Axes>"
      ]
     },
     "metadata": {
      "needs_background": "light"
     },
     "output_type": "display_data"
    }
   ],
   "source": [
    "# Plot the accuracy and alpha_ridge for 100 iterations \n",
    "fig = plt.figure(figsize=(20, 6))\n",
    "import pylab as plot\n",
    "plt.xscale('log')\n",
    "params = {'legend.fontsize': 15, 'legend.handlelength': 2}\n",
    "plot.rcParams.update(params)\n",
    "plt.errorbar(alpha_lasso, all_training.mean(axis=1),\n",
    "             yerr=all_training.std(axis=1), label=\"training accuracy\", color='blue', marker='o', linestyle='dashed', markersize=15)\n",
    "plt.errorbar(alpha_lasso, all_test.mean(axis=1),\n",
    "             yerr=all_test.std(axis=1), label=\"test accuracy\", color='red', marker='^', linestyle='-', markersize=15)\n",
    "plt.ylabel(\"Accuracy, $R^2$\", fontsize=15)\n",
    "plt.xlabel(\"alpha_lasso\",fontsize=15)\n",
    "plt.legend()"
   ]
  },
  {
   "cell_type": "code",
   "execution_count": 31,
   "id": "a9336cab",
   "metadata": {
    "ExecuteTime": {
     "end_time": "2021-08-09T17:20:01.995690Z",
     "start_time": "2021-08-09T17:14:05.730Z"
    },
    "execution": {
     "iopub.execute_input": "2021-08-09T09:49:56.688284Z",
     "iopub.status.busy": "2021-08-09T09:49:56.687254Z",
     "iopub.status.idle": "2021-08-09T09:49:56.700266Z",
     "shell.execute_reply": "2021-08-09T09:49:56.699297Z",
     "shell.execute_reply.started": "2021-08-09T09:49:56.688284Z"
    },
    "tags": []
   },
   "outputs": [
    {
     "name": "stdout",
     "output_type": "stream",
     "text": [
      "     Optimal alpha_lasso = 1e-05\n",
      "Corresponding avg test score = 0.9087598717611199\n"
     ]
    }
   ],
   "source": [
    "# Resulting optimal alpha and test accuracy at 100 iterations\n",
    "optimal_alpha_index = all_test.mean(axis=1).idxmax()\n",
    "optimal_alpha       = alpha_lasso[optimal_alpha_index]\n",
    "test_optimal        = all_test.mean(axis=1)[optimal_alpha_index]\n",
    "\n",
    "print(f'     Optimal alpha_lasso = {optimal_alpha}')\n",
    "print(f'Corresponding avg test score = {test_optimal}')"
   ]
  },
  {
   "cell_type": "code",
   "execution_count": 32,
   "id": "f6592cb0",
   "metadata": {
    "ExecuteTime": {
     "end_time": "2021-08-09T17:20:01.997188Z",
     "start_time": "2021-08-09T17:14:05.732Z"
    },
    "execution": {
     "iopub.execute_input": "2021-08-09T09:49:56.701259Z",
     "iopub.status.busy": "2021-08-09T09:49:56.701259Z",
     "iopub.status.idle": "2021-08-09T09:49:56.820448Z",
     "shell.execute_reply": "2021-08-09T09:49:56.820448Z",
     "shell.execute_reply.started": "2021-08-09T09:49:56.701259Z"
    },
    "tags": []
   },
   "outputs": [
    {
     "name": "stdout",
     "output_type": "stream",
     "text": [
      "number of features used: 18\n"
     ]
    },
    {
     "data": {
      "image/png": "[encoded data removed]",
      "text/plain": [
       "<Figure size 432x288 with 1 Axes>"
      ]
     },
     "metadata": {
      "needs_background": "light"
     },
     "output_type": "display_data"
    }
   ],
   "source": [
    "#using optimal alpha\n",
    "X_train, X_test, y_train, y_test = train_test_split(X, y, test_size=0.25)\n",
    "lasso_optimal = Lasso(alpha=optimal_alpha, max_iter=1_000_000).fit(X_train, y_train)\n",
    "print(\"number of features used: %d\" % np.sum(lasso_optimal.coef_ !=0))\n",
    "\n",
    "weights_normalized = lasso_optimal.coef_.T/np.sum(np.abs(lasso_optimal.coef_.T))\n",
    "X = pd.DataFrame(X)\n",
    "plt.barh(range(X.shape[1]), weights_normalized, align='center')\n",
    "plt.yticks(np.arange(X.shape[1]), X.columns)\n",
    "plt.xlabel(\"Feature importance\")\n",
    "plt.ylabel(\"Actual value\")\n",
    "plt.ylim(-1, X.shape[1])\n",
    "plt.show()"
   ]
  },
  {
   "cell_type": "markdown",
   "id": "6a2b3c6e",
   "metadata": {
    "ExecuteTime": {
     "end_time": "2021-08-07T04:57:02.872954Z",
     "start_time": "2021-08-07T04:49:38.623Z"
    }
   },
   "source": [
    "#### Resulting accuracy and optimal alpha (Lasso)\n",
    "\n",
    "We fitted the Lasso Regession Model to the Parkinson's dataset. We ran the model for *100* iterations on different `alpha_lasso` values that were suggested in class. The results are as follows:\n",
    "\n",
    "- Optimal `alpha_lasso` = 1e-05 <br>\n",
    "- Test score $R^2$ (Lasso) = 0.9087598717611199\n",
    "- Test score $R^2$ (Linear regression) = 0.9089324614040405   [see Appendix]\n",
    "\n",
    "The optimal `alpha_lasso` is 1e-05 which is close to 0. It can be seen above that this performs almost the same as Ridge regession and Linear regression. We also noted that for alpha values of 0.1 and below, the training and test accuracy are tightly knitted together at around 91% (see plot above). This indicates that there is no overfitting. \n",
    "\n",
    "Exploring feature engineering techniques may help improve model performance. Lastly, we noted that the model only used **18** out of 20 variables in the dataset (2 variables were dropped). This is because Lasso has a regularization parameter alpha that controls how strongly the coefficients are pushed towards zero. The list of the variables that were included are shown in the next cell."
   ]
  },
  {
   "cell_type": "code",
   "execution_count": 33,
   "id": "c0d16191",
   "metadata": {},
   "outputs": [
    {
     "name": "stdout",
     "output_type": "stream",
     "text": [
      "Total number of non-zero weights:  18\n",
      "List of relevant columns are:  ['subject#', 'age', 'sex', 'test_time', 'motor_score', 'Jitter(%)', 'Jitter:PPQ5', 'Jitter:DDP', 'Shimmer', 'Shimmer(dB)', 'Shimmer:APQ5', 'Shimmer:APQ11', 'Shimmer:DDA', 'NHR', 'HNR', 'RPDE', 'DFA', 'PPE']\n"
     ]
    }
   ],
   "source": [
    "print('Total number of non-zero weights: ', sum(lasso_optimal.coef_.T != 0))\n",
    "relevant_cols = [j for i, j in zip(lasso_optimal.coef_, X.columns) if i != 0]\n",
    "print('List of relevant columns are: ', relevant_cols)"
   ]
  },
  {
   "cell_type": "markdown",
   "id": "54097e4d",
   "metadata": {},
   "source": [
    "## Appendix"
   ]
  },
  {
   "cell_type": "code",
   "execution_count": 34,
   "id": "5e895638",
   "metadata": {
    "ExecuteTime": {
     "end_time": "2021-08-09T17:20:02.001813Z",
     "start_time": "2021-08-09T17:14:05.737Z"
    },
    "execution": {
     "iopub.execute_input": "2021-08-09T09:49:56.852361Z",
     "iopub.status.busy": "2021-08-09T09:49:56.852361Z",
     "iopub.status.idle": "2021-08-09T09:49:57.627812Z",
     "shell.execute_reply": "2021-08-09T09:49:57.627812Z",
     "shell.execute_reply.started": "2021-08-09T09:49:56.852361Z"
    }
   },
   "outputs": [
    {
     "name": "stdout",
     "output_type": "stream",
     "text": [
      "TRAIN SET: Mean =  0.9101045782105971  Stdev =  0.0011707791803451297\n",
      " TEST SET: Mean =  0.9089324614040405  Stdev =  0.003598316943670498\n"
     ]
    }
   ],
   "source": [
    "# Linear regression on Parkinson's dataset for comparison to Ridge and Lasso\n",
    "from sklearn.model_selection import train_test_split\n",
    "from sklearn.linear_model import LinearRegression\n",
    "training_accuracy = []\n",
    "test_accuracy = []\n",
    "    \n",
    "\n",
    "for seedN in range(1,100,1):\n",
    "    X_train, X_test, y_train, y_test = train_test_split(X, y, test_size=0.25, random_state=seedN)\n",
    "    lr = LinearRegression().fit(X_train, y_train)\n",
    "\n",
    "    training_accuracy.append(lr.score(X_train, y_train)) # record training set accuracy\n",
    "    test_accuracy.append(lr.score(X_test, y_test))   # record generalization accuracy\n",
    "\n",
    "\n",
    "print(\"TRAIN SET: Mean = \", np.mean(training_accuracy), \" Stdev = \", np.std(training_accuracy))\n",
    "print(\" TEST SET: Mean = \", np.mean(test_accuracy),\" Stdev = \", np.std(test_accuracy))"
   ]
  },
  {
   "cell_type": "code",
   "execution_count": null,
   "id": "0ff07bd1",
   "metadata": {},
   "outputs": [],
   "source": []
  }
 ],
 "metadata": {
  "kernelspec": {
   "display_name": "Python 3",
   "language": "python",
   "name": "python3"
  },
  "language_info": {
   "codemirror_mode": {
    "name": "ipython",
    "version": 3
   },
   "file_extension": ".py",
   "mimetype": "text/x-python",
   "name": "python",
   "nbconvert_exporter": "python",
   "pygments_lexer": "ipython3",
   "version": "3.8.10"
  },
  "toc": {
   "base_numbering": 1,
   "nav_menu": {},
   "number_sections": true,
   "sideBar": true,
   "skip_h1_title": false,
   "title_cell": "Table of Contents",
   "title_sidebar": "Contents",
   "toc_cell": false,
   "toc_position": {
    "height": "calc(100% - 180px)",
    "left": "10px",
    "top": "150px",
    "width": "245.753px"
   },
   "toc_section_display": true,
   "toc_window_display": true
  }
 },
 "nbformat": 4,
 "nbformat_minor": 5
}
