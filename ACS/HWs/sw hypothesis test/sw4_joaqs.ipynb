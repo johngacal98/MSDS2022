{
 "cells": [
  {
   "cell_type": "markdown",
   "id": "e2dff7eb",
   "metadata": {
    "deletable": false,
    "editable": false,
    "nbgrader": {
     "cell_type": "markdown",
     "checksum": "9731aa6cc8eb60b90d939934ba99b6ca",
     "grade": false,
     "grade_id": "cell-3ce2ebb69ad19603",
     "locked": true,
     "schema_version": 3,
     "solution": false,
     "task": false
    }
   },
   "source": [
    "# Applied Computational Statistics (ACS)\n",
    "\n",
    "## SW4\n",
    "\n",
    "Submit your answers <b>individually</b>.\n",
    "\n",
    "Make sure to follow all the prescribed naming conventions set in the code below.\n",
    "\n",
    "Instructions:\n",
    "\n",
    "1. You may use `sklearn.linear_model.LinearRegression`.\n",
    "\n",
    "\n",
    "2. You may use `scipy.stats.t`.\n",
    "\n",
    "\n",
    "2. You may NOT use `statsmodels`. I use this to check your answers."
   ]
  },
  {
   "cell_type": "code",
   "execution_count": 82,
   "id": "f8c23367",
   "metadata": {
    "ExecuteTime": {
     "end_time": "2021-08-16T16:18:58.194827Z",
     "start_time": "2021-08-16T16:18:58.188624Z"
    },
    "deletable": false,
    "editable": false,
    "nbgrader": {
     "cell_type": "code",
     "checksum": "eb5c6cdd62318a7c311e68c5ec588373",
     "grade": false,
     "grade_id": "cell-00d98341577ef028",
     "locked": true,
     "schema_version": 3,
     "solution": false,
     "task": false
    }
   },
   "outputs": [],
   "source": [
    "import numpy as np\n",
    "import matplotlib.pyplot as plt\n",
    "import seaborn as sns\n",
    "\n",
    "from sklearn.linear_model import LinearRegression\n",
    "from scipy.stats import t\n",
    "\n",
    "atol = 1e-06\n",
    "rtol = 1e-05"
   ]
  },
  {
   "cell_type": "markdown",
   "id": "65d2e937",
   "metadata": {
    "deletable": false,
    "editable": false,
    "nbgrader": {
     "cell_type": "markdown",
     "checksum": "d7b83b8e51893bacb85222ff0d3efc39",
     "grade": false,
     "grade_id": "cell-8693651d3079774f",
     "locked": true,
     "schema_version": 3,
     "solution": false,
     "task": false
    }
   },
   "source": [
    "---\n",
    "\n",
    "### Linear Regression t-Test "
   ]
  },
  {
   "cell_type": "code",
   "execution_count": 83,
   "id": "ee969146",
   "metadata": {
    "ExecuteTime": {
     "end_time": "2021-08-16T16:18:59.340642Z",
     "start_time": "2021-08-16T16:18:59.183873Z"
    },
    "deletable": false,
    "editable": false,
    "nbgrader": {
     "cell_type": "code",
     "checksum": "c26c1a670d320afea2559cf0f4d2e2c0",
     "grade": false,
     "grade_id": "cell-c0cd07f989b06972",
     "locked": true,
     "schema_version": 3,
     "solution": false,
     "task": false
    }
   },
   "outputs": [
    {
     "data": {
      "image/png": "[encoded data removed]",
      "text/plain": [
       "<Figure size 432x288 with 1 Axes>"
      ]
     },
     "metadata": {
      "needs_background": "light"
     },
     "output_type": "display_data"
    }
   ],
   "source": [
    "# set seed\n",
    "np.random.seed(1)\n",
    "\n",
    "# hyperparameters\n",
    "n = 50\n",
    "\n",
    "# true parameters (we don't know this!)\n",
    "mu, sigma = 0, 10\n",
    "b0 = 2\n",
    "b1 = 5\n",
    "\n",
    "# generate data\n",
    "e = np.random.normal(loc=mu, scale=sigma, size=(n, 1))\n",
    "x = np.random.normal(loc=0, scale=1, size=(n, 1))\n",
    "y = b0 + b1*x + e\n",
    "\n",
    "plt.scatter(x, y)\n",
    "plt.show()"
   ]
  },
  {
   "cell_type": "markdown",
   "id": "86747a56",
   "metadata": {
    "deletable": false,
    "editable": false,
    "nbgrader": {
     "cell_type": "markdown",
     "checksum": "2cfb4bde9f142703ef35b2d3a263a580",
     "grade": false,
     "grade_id": "cell-24890c074929b9a6",
     "locked": true,
     "schema_version": 3,
     "solution": false,
     "task": false
    }
   },
   "source": [
    "#### Q1.\n",
    "\n",
    "Calculate the OLS estimates for the simple linear regression model,\n",
    "\n",
    "\\begin{align*}\n",
    "    y = \\beta_0 + \\beta_1 x + \\varepsilon\n",
    "\\end{align*}\n",
    "\n",
    "using the data provided."
   ]
  },
  {
   "cell_type": "code",
   "execution_count": 84,
   "id": "0706fdc8",
   "metadata": {
    "ExecuteTime": {
     "end_time": "2021-08-16T16:19:05.470886Z",
     "start_time": "2021-08-16T16:19:05.461477Z"
    },
    "deletable": false,
    "nbgrader": {
     "cell_type": "code",
     "checksum": "83cb5fd8702de65fd140f9482d22169d",
     "grade": false,
     "grade_id": "cell-6b8aacc652e1969e",
     "locked": false,
     "schema_version": 3,
     "solution": true,
     "task": false
    }
   },
   "outputs": [
    {
     "name": "stdout",
     "output_type": "stream",
     "text": [
      "4.7205085907174675\n",
      "1.7858474741607693\n"
     ]
    }
   ],
   "source": [
    "#### Solving with sklearn\n",
    "\n",
    "model = LinearRegression().fit(x, y)\n",
    "b1_hat = model.coef_[0][0]\n",
    "b0_hat = model.intercept_[0]\n",
    "\n",
    "print(b1_hat)\n",
    "print(b0_hat)"
   ]
  },
  {
   "cell_type": "code",
   "execution_count": 85,
   "id": "c07cb873",
   "metadata": {
    "ExecuteTime": {
     "end_time": "2021-08-16T16:19:06.510062Z",
     "start_time": "2021-08-16T16:19:06.500642Z"
    }
   },
   "outputs": [
    {
     "name": "stdout",
     "output_type": "stream",
     "text": [
      "Slope:  4.7205085907174675\n",
      "Intercept:  1.7858474741607693\n"
     ]
    }
   ],
   "source": [
    "#### Solving with sklearn\n",
    "\n",
    "model = LinearRegression().fit(x, y)\n",
    "print('Slope: ', model.coef_[0][0])\n",
    "print('Intercept: ', model.intercept_[0])"
   ]
  },
  {
   "cell_type": "code",
   "execution_count": 86,
   "id": "f77129f6",
   "metadata": {
    "ExecuteTime": {
     "end_time": "2021-08-16T16:19:13.438370Z",
     "start_time": "2021-08-16T16:19:13.429025Z"
    }
   },
   "outputs": [
    {
     "name": "stdout",
     "output_type": "stream",
     "text": [
      "Intercept:  1.785847474160769\n",
      "Slope:  4.720508590717469\n"
     ]
    }
   ],
   "source": [
    "#### Solving analytically\n",
    "#### for multiple linear regression, beta = (X.T @ X)^-1 @ X.T @ y\n",
    "\n",
    "N = x.shape[0]\n",
    "p = x.shape[1] + 1  # plus one because LinearRegression adds an intercept term\n",
    "\n",
    "X_with_intercept = np.empty(shape=(N, p), dtype=np.float)\n",
    "X_with_intercept[:, 0] = 1\n",
    "X_with_intercept[:, 1:p] = x\n",
    "\n",
    "beta_hat = np.linalg.inv(X_with_intercept.T @ X_with_intercept) @ X_with_intercept.T @ y\n",
    "print('Intercept: ', beta_hat[0][0])\n",
    "print('Slope: ', beta_hat[1][0])"
   ]
  },
  {
   "cell_type": "code",
   "execution_count": 87,
   "id": "511d57a5",
   "metadata": {
    "ExecuteTime": {
     "end_time": "2021-08-16T16:19:15.488141Z",
     "start_time": "2021-08-16T16:19:15.476412Z"
    }
   },
   "outputs": [
    {
     "name": "stdout",
     "output_type": "stream",
     "text": [
      "intercept 1.7858474741607693\n",
      "slope 4.7205085907174675\n"
     ]
    }
   ],
   "source": [
    "### testing with assert\n",
    "\n",
    "import statsmodels.api as sm\n",
    "\n",
    "model_ols = sm.OLS(y, sm.add_constant(x))\n",
    "results = model_ols.fit()\n",
    "\n",
    "#### checking OLS estimates (hidden assert)\n",
    "\n",
    "print('intercept', results.params[0])\n",
    "print('slope', results.params[1])\n",
    "\n",
    "assert np.isclose(results.params[0], beta_hat[0][0], atol=atol) ### analytically derived intercept\n",
    "assert np.isclose(results.params[1], beta_hat[1][0], atol=atol) ### analytically derived slope\n",
    "\n",
    "assert np.isclose(results.params[0], model.intercept_[0], atol=atol) ### sklearn calculated intercept\n",
    "assert np.isclose(results.params[1], model.coef_[0][0], atol=atol) ### sklearn calculated slope"
   ]
  },
  {
   "cell_type": "code",
   "execution_count": null,
   "id": "d033fc80",
   "metadata": {
    "deletable": false,
    "editable": false,
    "nbgrader": {
     "cell_type": "code",
     "checksum": "90fb7f58a8895c2f4580519e340fa3df",
     "grade": true,
     "grade_id": "cell-4837a7d790ef576a",
     "locked": true,
     "points": 0.5,
     "schema_version": 3,
     "solution": false,
     "task": false
    }
   },
   "outputs": [],
   "source": [
    "# Hidden Test"
   ]
  },
  {
   "cell_type": "code",
   "execution_count": null,
   "id": "b87603f9",
   "metadata": {
    "deletable": false,
    "editable": false,
    "nbgrader": {
     "cell_type": "code",
     "checksum": "99a0c588dbe04e347dcec2bb3e96272b",
     "grade": true,
     "grade_id": "cell-2d8c64a188c292bf",
     "locked": true,
     "points": 0.5,
     "schema_version": 3,
     "solution": false,
     "task": false
    }
   },
   "outputs": [],
   "source": [
    "# Hidden Test"
   ]
  },
  {
   "cell_type": "markdown",
   "id": "435320d2",
   "metadata": {
    "deletable": false,
    "editable": false,
    "nbgrader": {
     "cell_type": "markdown",
     "checksum": "f81f0e76b787d0eb2bfec2f78677d378",
     "grade": false,
     "grade_id": "cell-4de70719252ef16e",
     "locked": true,
     "schema_version": 3,
     "solution": false,
     "task": false
    }
   },
   "source": [
    "The <b>t-statistic</b> is defined as,\n",
    "\n",
    "\\begin{align*}\n",
    "    \\frac{\\hat{\\theta} - \\theta_0}{\\mathbf{\\text{s.e.}}(\\hat{\\theta})}\n",
    "\\end{align*}\n",
    "\n",
    "In the context of linear regression, $\\hat{\\theta}$ is our parameter estimate, $\\theta_0$ is the null hypothesis being tested, and $\\mathbf{\\text{s.e.}}(\\hat{\\theta})$ is the <b>standard error</b> of $\\hat{\\theta}$. \n",
    "\n",
    "Recall that the standard error is the standard deviation of the sampling distribution of a statistic.\n",
    "\n",
    "For this hypothesis test, we wish to know if there is a significant linear relationship between the independent variable $X$ and the dependent variable $Y$. The null hypothesis is that there is no relationship,\n",
    "\n",
    "\\begin{align*}\n",
    "    H_0 &: \\hat{\\theta} = 0\\\\ \n",
    "    H_1 &: \\hat{\\theta} \\neq 0\n",
    "\\end{align*}"
   ]
  },
  {
   "cell_type": "markdown",
   "id": "77a2def0",
   "metadata": {
    "deletable": false,
    "editable": false,
    "nbgrader": {
     "cell_type": "markdown",
     "checksum": "f89bf871ead0c0924c0b7b0dfaac70eb",
     "grade": false,
     "grade_id": "cell-36f7275e447479ef",
     "locked": true,
     "schema_version": 3,
     "solution": false,
     "task": false
    }
   },
   "source": [
    "#### Q2.\n",
    "\n",
    "Calculate the t-statistics for both the slope $\\hat{\\beta}_1$ and intercept $\\hat{\\beta}_0$."
   ]
  },
  {
   "cell_type": "code",
   "execution_count": 88,
   "id": "c0cd5fe3",
   "metadata": {
    "ExecuteTime": {
     "end_time": "2021-08-16T16:19:21.181219Z",
     "start_time": "2021-08-16T16:19:21.169243Z"
    },
    "deletable": false,
    "nbgrader": {
     "cell_type": "code",
     "checksum": "4988a594b3fcdc25cc6fc2d9187d0e58",
     "grade": false,
     "grade_id": "cell-0fc9ec32d6265f13",
     "locked": false,
     "schema_version": 3,
     "solution": true,
     "task": false
    }
   },
   "outputs": [
    {
     "name": "stdout",
     "output_type": "stream",
     "text": [
      "2.639575270922254\n",
      "1.254543519017386\n"
     ]
    }
   ],
   "source": [
    "N = x.shape[0]\n",
    "p = x.shape[1] + 1 \n",
    "\n",
    "y_hat = model.predict(x)\n",
    "residuals = y - y_hat\n",
    "residual_sum_of_squares = residuals.T @ residuals\n",
    "sigma_squared_hat = residual_sum_of_squares[0, 0] / (N - p)\n",
    "var_beta_hat = np.linalg.inv(X_with_intercept.T @ X_with_intercept) * sigma_squared_hat\n",
    "\n",
    "b1_hat_tstat = beta_hat[1][0] / var_beta_hat[1, 1] ** 0.5\n",
    "b0_hat_tstat = beta_hat[0][0] / var_beta_hat[0, 0] ** 0.5\n",
    "print(b1_hat_tstat)\n",
    "print(b0_hat_tstat)"
   ]
  },
  {
   "cell_type": "code",
   "execution_count": 89,
   "id": "2d37e88f",
   "metadata": {
    "ExecuteTime": {
     "end_time": "2021-08-16T16:19:29.174929Z",
     "start_time": "2021-08-16T16:19:29.163868Z"
    },
    "deletable": false,
    "editable": false,
    "nbgrader": {
     "cell_type": "code",
     "checksum": "bf4484c95b931618d460c939a047d26c",
     "grade": true,
     "grade_id": "cell-ed4ee272beba4f45",
     "locked": true,
     "points": 0.5,
     "schema_version": 3,
     "solution": false,
     "task": false
    }
   },
   "outputs": [],
   "source": [
    "# Unhidden Test\n",
    "import statsmodels.api as sm\n",
    "\n",
    "model = sm.OLS(y, sm.add_constant(x))\n",
    "results = model.fit()\n",
    "\n",
    "assert np.isclose(b1_hat_tstat, results.tvalues[1])"
   ]
  },
  {
   "cell_type": "code",
   "execution_count": 90,
   "id": "f2dece9e",
   "metadata": {
    "ExecuteTime": {
     "end_time": "2021-08-16T16:19:29.775666Z",
     "start_time": "2021-08-16T16:19:29.771111Z"
    },
    "deletable": false,
    "editable": false,
    "nbgrader": {
     "cell_type": "code",
     "checksum": "5773d129c1fe04d66ee7f79046441086",
     "grade": true,
     "grade_id": "cell-4c0dca65c675c941",
     "locked": true,
     "points": 0.5,
     "schema_version": 3,
     "solution": false,
     "task": false
    }
   },
   "outputs": [],
   "source": [
    "# Unhidden Test\n",
    "assert np.isclose(b0_hat_tstat, results.tvalues[0])"
   ]
  },
  {
   "cell_type": "markdown",
   "id": "7c32310e",
   "metadata": {
    "deletable": false,
    "editable": false,
    "nbgrader": {
     "cell_type": "markdown",
     "checksum": "262fe91b107f10a020c63b465fbda538",
     "grade": false,
     "grade_id": "cell-7ec6cc4c124c71d0",
     "locked": true,
     "schema_version": 3,
     "solution": false,
     "task": false
    }
   },
   "source": [
    "The t-statistic follows the [`Student's t-distribution`](https://en.wikipedia.org/wiki/Student%27s_t-distribution). This distribution has a single parameter: $\\nu$ degrees of freedom. For linear regression,\n",
    "\n",
    "\\begin{align*}\n",
    "    \\frac{\\hat{\\theta} - \\theta_0}{\\mathbf{\\text{s.e.}}(\\hat{\\theta})} \\sim t(\\nu = n - p - 1)\n",
    "\\end{align*}\n",
    "\n",
    "where $p$ is the number of features or independent variables. Since we are using a simple linear regression, $p=1$."
   ]
  },
  {
   "cell_type": "markdown",
   "id": "7739af71",
   "metadata": {
    "deletable": false,
    "editable": false,
    "nbgrader": {
     "cell_type": "markdown",
     "checksum": "4463c6bb763225e59e0f64889dfc99ab",
     "grade": false,
     "grade_id": "cell-9c93566b30328d02",
     "locked": true,
     "schema_version": 3,
     "solution": false,
     "task": false
    }
   },
   "source": [
    "#### Q3.\n",
    "\n",
    "Calculate the p-values for the t-statistics of $\\hat{\\beta}_1$ and $\\hat{\\beta}_0$."
   ]
  },
  {
   "cell_type": "code",
   "execution_count": 91,
   "id": "fa2c624b",
   "metadata": {
    "ExecuteTime": {
     "end_time": "2021-08-16T16:24:14.467090Z",
     "start_time": "2021-08-16T16:24:14.458553Z"
    },
    "deletable": false,
    "nbgrader": {
     "cell_type": "code",
     "checksum": "53b2381c016339e5a5d2b95c43f33b98",
     "grade": false,
     "grade_id": "cell-0ba8caecdcfbf953",
     "locked": false,
     "schema_version": 3,
     "solution": true,
     "task": false
    }
   },
   "outputs": [
    {
     "name": "stdout",
     "output_type": "stream",
     "text": [
      "0.011162888194067204\n",
      "0.21571911746538672\n"
     ]
    }
   ],
   "source": [
    "p = 1\n",
    "df = N - p - 1\n",
    "\n",
    "### multiply p-value by 2 since t.sf() returns p-value for a one-sided t-test\n",
    "b1_hat_pvalue = t.sf(b1_hat_tstat, df) * 2\n",
    "b0_hat_pvalue = t.sf(b0_hat_tstat, df) * 2\n",
    "\n",
    "print(b1_hat_pvalue)\n",
    "print(b0_hat_pvalue)"
   ]
  },
  {
   "cell_type": "code",
   "execution_count": 92,
   "id": "7710f455",
   "metadata": {
    "ExecuteTime": {
     "end_time": "2021-08-16T16:24:15.896255Z",
     "start_time": "2021-08-16T16:24:15.888238Z"
    },
    "deletable": false,
    "editable": false,
    "nbgrader": {
     "cell_type": "code",
     "checksum": "20debabc9da1cf06c8cdcc148b466309",
     "grade": true,
     "grade_id": "cell-72ebfae829b62a5a",
     "locked": true,
     "points": 0.5,
     "schema_version": 3,
     "solution": false,
     "task": false
    }
   },
   "outputs": [],
   "source": [
    "# Unhidden Test\n",
    "import statsmodels.api as sm\n",
    "\n",
    "model = sm.OLS(y, sm.add_constant(x))\n",
    "results = model.fit()\n",
    "\n",
    "assert np.isclose(b1_hat_pvalue, results.pvalues[1])"
   ]
  },
  {
   "cell_type": "code",
   "execution_count": 93,
   "id": "9a200dfd",
   "metadata": {
    "ExecuteTime": {
     "end_time": "2021-08-16T16:24:16.312631Z",
     "start_time": "2021-08-16T16:24:16.308605Z"
    },
    "deletable": false,
    "editable": false,
    "nbgrader": {
     "cell_type": "code",
     "checksum": "7c56c5b9ae154d463afd39a76c5b52a3",
     "grade": true,
     "grade_id": "cell-80e434c431046d76",
     "locked": true,
     "points": 0.5,
     "schema_version": 3,
     "solution": false,
     "task": false
    }
   },
   "outputs": [],
   "source": [
    "# Unhidden Test\n",
    "assert np.isclose(b0_hat_pvalue, results.pvalues[0])"
   ]
  }
 ],
 "metadata": {
  "kernelspec": {
   "display_name": "Python 3",
   "language": "python",
   "name": "python3"
  },
  "language_info": {
   "codemirror_mode": {
    "name": "ipython",
    "version": 3
   },
   "file_extension": ".py",
   "mimetype": "text/x-python",
   "name": "python",
   "nbconvert_exporter": "python",
   "pygments_lexer": "ipython3",
   "version": "3.8.10"
  }
 },
 "nbformat": 4,
 "nbformat_minor": 5
}
