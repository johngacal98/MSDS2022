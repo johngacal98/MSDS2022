{
 "cells": [
  {
   "cell_type": "markdown",
   "id": "a80fe000",
   "metadata": {
    "deletable": false,
    "editable": false,
    "nbgrader": {
     "cell_type": "markdown",
     "checksum": "e2e330706137d85f2d9c522ead61440b",
     "grade": false,
     "grade_id": "cell-b29d1fb8331f8531",
     "locked": true,
     "schema_version": 3,
     "solution": false,
     "task": false
    }
   },
   "source": [
    "# Applied Computational Statistics (ACS)\n",
    "\n",
    "## HW1\n",
    "\n",
    "Submit your answers by <b>LT</b>."
   ]
  },
  {
   "cell_type": "markdown",
   "id": "dc536bae",
   "metadata": {
    "deletable": false,
    "editable": false,
    "nbgrader": {
     "cell_type": "markdown",
     "checksum": "b7f167399e182a07259a83524a57dcc0",
     "grade": false,
     "grade_id": "cell-a0d9e0e229402708",
     "locked": true,
     "schema_version": 3,
     "solution": false,
     "task": false
    }
   },
   "source": [
    "# Descriptive Statistics\n",
    "\n",
    "<b><i>Descriptive statistics</b></i> (sometimes called <b><i>summary statistics</b></i>) are quantitative values we can calculate to summarize information about our dataset. Calculating these statistics is typically the first step when performing exploratory data analysis (EDA).\n",
    "\n",
    "For this homework, we'll look at a classic introductory machine learning dataset, the [`Titanic Dataset`](https://www.kaggle.com/c/titanic)."
   ]
  },
  {
   "cell_type": "code",
   "execution_count": 1,
   "id": "0930fc86",
   "metadata": {
    "ExecuteTime": {
     "end_time": "2021-07-14T16:20:30.790323Z",
     "start_time": "2021-07-14T16:20:29.772463Z"
    },
    "deletable": false,
    "editable": false,
    "nbgrader": {
     "cell_type": "code",
     "checksum": "080cccc472329f27b8b0ccb7e2ac2d85",
     "grade": false,
     "grade_id": "cell-1ed55d30225b8420",
     "locked": true,
     "schema_version": 3,
     "solution": false,
     "task": false
    }
   },
   "outputs": [],
   "source": [
    "import numpy as np\n",
    "import scipy.stats as stats\n",
    "import pandas as pd\n",
    "import seaborn as sns\n",
    "import matplotlib.pyplot as plt"
   ]
  },
  {
   "cell_type": "markdown",
   "id": "85d4c3b1",
   "metadata": {
    "deletable": false,
    "editable": false,
    "nbgrader": {
     "cell_type": "markdown",
     "checksum": "05b41571fe418e9e7ce5eab008ffb9b5",
     "grade": false,
     "grade_id": "cell-5be1829bf4ab10ba",
     "locked": true,
     "schema_version": 3,
     "solution": false,
     "task": false
    }
   },
   "source": [
    "Let's load the dataset using the [`Seaborn`](https://seaborn.pydata.org/) library."
   ]
  },
  {
   "cell_type": "code",
   "execution_count": 2,
   "id": "499410c3",
   "metadata": {
    "ExecuteTime": {
     "end_time": "2021-07-14T16:20:30.820923Z",
     "start_time": "2021-07-14T16:20:30.792809Z"
    }
   },
   "outputs": [
    {
     "data": {
      "text/html": [
       "<div>\n",
       "<style scoped>\n",
       "    .dataframe tbody tr th:only-of-type {\n",
       "        vertical-align: middle;\n",
       "    }\n",
       "\n",
       "    .dataframe tbody tr th {\n",
       "        vertical-align: top;\n",
       "    }\n",
       "\n",
       "    .dataframe thead th {\n",
       "        text-align: right;\n",
       "    }\n",
       "</style>\n",
       "<table border=\"1\" class=\"dataframe\">\n",
       "  <thead>\n",
       "    <tr style=\"text-align: right;\">\n",
       "      <th></th>\n",
       "      <th>survived</th>\n",
       "      <th>pclass</th>\n",
       "      <th>sex</th>\n",
       "      <th>age</th>\n",
       "      <th>sibsp</th>\n",
       "      <th>parch</th>\n",
       "      <th>fare</th>\n",
       "      <th>embarked</th>\n",
       "      <th>class</th>\n",
       "      <th>who</th>\n",
       "      <th>adult_male</th>\n",
       "      <th>deck</th>\n",
       "      <th>embark_town</th>\n",
       "      <th>alive</th>\n",
       "      <th>alone</th>\n",
       "    </tr>\n",
       "  </thead>\n",
       "  <tbody>\n",
       "    <tr>\n",
       "      <th>0</th>\n",
       "      <td>0</td>\n",
       "      <td>3</td>\n",
       "      <td>male</td>\n",
       "      <td>22.0</td>\n",
       "      <td>1</td>\n",
       "      <td>0</td>\n",
       "      <td>7.2500</td>\n",
       "      <td>S</td>\n",
       "      <td>Third</td>\n",
       "      <td>man</td>\n",
       "      <td>True</td>\n",
       "      <td>NaN</td>\n",
       "      <td>Southampton</td>\n",
       "      <td>no</td>\n",
       "      <td>False</td>\n",
       "    </tr>\n",
       "    <tr>\n",
       "      <th>1</th>\n",
       "      <td>1</td>\n",
       "      <td>1</td>\n",
       "      <td>female</td>\n",
       "      <td>38.0</td>\n",
       "      <td>1</td>\n",
       "      <td>0</td>\n",
       "      <td>71.2833</td>\n",
       "      <td>C</td>\n",
       "      <td>First</td>\n",
       "      <td>woman</td>\n",
       "      <td>False</td>\n",
       "      <td>C</td>\n",
       "      <td>Cherbourg</td>\n",
       "      <td>yes</td>\n",
       "      <td>False</td>\n",
       "    </tr>\n",
       "    <tr>\n",
       "      <th>2</th>\n",
       "      <td>1</td>\n",
       "      <td>3</td>\n",
       "      <td>female</td>\n",
       "      <td>26.0</td>\n",
       "      <td>0</td>\n",
       "      <td>0</td>\n",
       "      <td>7.9250</td>\n",
       "      <td>S</td>\n",
       "      <td>Third</td>\n",
       "      <td>woman</td>\n",
       "      <td>False</td>\n",
       "      <td>NaN</td>\n",
       "      <td>Southampton</td>\n",
       "      <td>yes</td>\n",
       "      <td>True</td>\n",
       "    </tr>\n",
       "    <tr>\n",
       "      <th>3</th>\n",
       "      <td>1</td>\n",
       "      <td>1</td>\n",
       "      <td>female</td>\n",
       "      <td>35.0</td>\n",
       "      <td>1</td>\n",
       "      <td>0</td>\n",
       "      <td>53.1000</td>\n",
       "      <td>S</td>\n",
       "      <td>First</td>\n",
       "      <td>woman</td>\n",
       "      <td>False</td>\n",
       "      <td>C</td>\n",
       "      <td>Southampton</td>\n",
       "      <td>yes</td>\n",
       "      <td>False</td>\n",
       "    </tr>\n",
       "    <tr>\n",
       "      <th>4</th>\n",
       "      <td>0</td>\n",
       "      <td>3</td>\n",
       "      <td>male</td>\n",
       "      <td>35.0</td>\n",
       "      <td>0</td>\n",
       "      <td>0</td>\n",
       "      <td>8.0500</td>\n",
       "      <td>S</td>\n",
       "      <td>Third</td>\n",
       "      <td>man</td>\n",
       "      <td>True</td>\n",
       "      <td>NaN</td>\n",
       "      <td>Southampton</td>\n",
       "      <td>no</td>\n",
       "      <td>True</td>\n",
       "    </tr>\n",
       "  </tbody>\n",
       "</table>\n",
       "</div>"
      ],
      "text/plain": [
       "   survived  pclass     sex   age  sibsp  parch     fare embarked  class  \\\n",
       "0         0       3    male  22.0      1      0   7.2500        S  Third   \n",
       "1         1       1  female  38.0      1      0  71.2833        C  First   \n",
       "2         1       3  female  26.0      0      0   7.9250        S  Third   \n",
       "3         1       1  female  35.0      1      0  53.1000        S  First   \n",
       "4         0       3    male  35.0      0      0   8.0500        S  Third   \n",
       "\n",
       "     who  adult_male deck  embark_town alive  alone  \n",
       "0    man        True  NaN  Southampton    no  False  \n",
       "1  woman       False    C    Cherbourg   yes  False  \n",
       "2  woman       False  NaN  Southampton   yes   True  \n",
       "3  woman       False    C  Southampton   yes  False  \n",
       "4    man        True  NaN  Southampton    no   True  "
      ]
     },
     "execution_count": 2,
     "metadata": {},
     "output_type": "execute_result"
    }
   ],
   "source": [
    "dataset = sns.load_dataset(\"titanic\")\n",
    "dataset.head()"
   ]
  },
  {
   "cell_type": "markdown",
   "id": "6a921228",
   "metadata": {
    "deletable": false,
    "editable": false,
    "nbgrader": {
     "cell_type": "markdown",
     "checksum": "829beafff3733f16d99a05776cb27d1a",
     "grade": false,
     "grade_id": "cell-18cce8905e105fbf",
     "locked": true,
     "schema_version": 3,
     "solution": false,
     "task": false
    }
   },
   "source": [
    "Most of the column headers (we'll call them features or predictors from now on) are self-explanatory. Click [`here`](https://www.kaggle.com/c/titanic/data) to find a more thorough description of the data.\n",
    "\n",
    "As a final note, the values that we'll be calculating below are actually called <b><i>sample statistics</b></i> (e.g. sample mean, sample variance, etc.). From a frequentist perspective, they are merely <b><u>estimates</b></u> of the true parameters, which are fixed but unknown."
   ]
  },
  {
   "cell_type": "markdown",
   "id": "c53d0d56",
   "metadata": {
    "deletable": false,
    "editable": false,
    "nbgrader": {
     "cell_type": "markdown",
     "checksum": "099b24ad9767de9ef4e5d1ff98f0ea73",
     "grade": false,
     "grade_id": "cell-f6798a1d7e0e6988",
     "locked": true,
     "schema_version": 3,
     "solution": false,
     "task": false
    }
   },
   "source": [
    "## Min and Max\n",
    "\n",
    "Let's get the simple statistics out of the way first. \n",
    "\n",
    "<b><i>Min</b></i> and <b><i>Max</b></i> refer to the minimum and maximum data values of a particular feature. Note that this does not refer to the <i>theoretical</i> min and max values that the feature can take.\n",
    "\n",
    "They are occasionally called the <b><i>zeroth quartile</b></i> and <b><i>fourth quartile</b></i>, respectively. Not everyone accepts this definition though, as it does not make sense formally."
   ]
  },
  {
   "cell_type": "markdown",
   "id": "d4b7c3e9",
   "metadata": {
    "deletable": false,
    "editable": false,
    "nbgrader": {
     "cell_type": "markdown",
     "checksum": "e423da03937de1d590a4578a0372283f",
     "grade": false,
     "grade_id": "cell-124b2a4f2445e35f",
     "locked": true,
     "schema_version": 3,
     "solution": false,
     "task": false
    }
   },
   "source": [
    "#### Q1.\n",
    "\n",
    "Calculate the min and max values of the `age` variable."
   ]
  },
  {
   "cell_type": "code",
   "execution_count": 3,
   "id": "1bf186b8",
   "metadata": {
    "ExecuteTime": {
     "end_time": "2021-07-14T16:20:30.828972Z",
     "start_time": "2021-07-14T16:20:30.823454Z"
    },
    "deletable": false,
    "nbgrader": {
     "cell_type": "code",
     "checksum": "b73f26c356a2d143c01bd599176e7a69",
     "grade": false,
     "grade_id": "cell-841f2a7d625b99b9",
     "locked": false,
     "schema_version": 3,
     "solution": true,
     "task": false
    }
   },
   "outputs": [
    {
     "name": "stdout",
     "output_type": "stream",
     "text": [
      "Age Min: 0.42\n",
      "Age Max: 80.0\n"
     ]
    }
   ],
   "source": [
    "age_min = dataset['age'].min()\n",
    "age_max = dataset['age'].max()\n",
    "\n",
    "print('Age Min:', age_min)\n",
    "print('Age Max:', age_max)"
   ]
  },
  {
   "cell_type": "code",
   "execution_count": null,
   "id": "7b0d501e",
   "metadata": {
    "deletable": false,
    "editable": false,
    "nbgrader": {
     "cell_type": "code",
     "checksum": "e7b293a9bd3088949239e065f01254e7",
     "grade": true,
     "grade_id": "cell-a9b56f9545e9e20e",
     "locked": true,
     "points": 1,
     "schema_version": 3,
     "solution": false,
     "task": false
    }
   },
   "outputs": [],
   "source": []
  },
  {
   "cell_type": "markdown",
   "id": "6163a492",
   "metadata": {
    "deletable": false,
    "editable": false,
    "nbgrader": {
     "cell_type": "markdown",
     "checksum": "da2e14808f32b94b40dbd628b1fa4c4d",
     "grade": false,
     "grade_id": "cell-119459e416f458a2",
     "locked": true,
     "schema_version": 3,
     "solution": false,
     "task": false
    }
   },
   "source": [
    "#### Q2.\n",
    "\n",
    "Calculate the min and max values of the `fare` variable."
   ]
  },
  {
   "cell_type": "code",
   "execution_count": 4,
   "id": "35f5ab05",
   "metadata": {
    "ExecuteTime": {
     "end_time": "2021-07-14T16:20:30.836619Z",
     "start_time": "2021-07-14T16:20:30.831496Z"
    },
    "deletable": false,
    "nbgrader": {
     "cell_type": "code",
     "checksum": "5614b236346143b840dcf6a5cc7491ab",
     "grade": false,
     "grade_id": "cell-18c22b1d707b2520",
     "locked": false,
     "schema_version": 3,
     "solution": true,
     "task": false
    }
   },
   "outputs": [
    {
     "name": "stdout",
     "output_type": "stream",
     "text": [
      "Fare Min: 0.0\n",
      "Fare Max: 512.3292\n"
     ]
    }
   ],
   "source": [
    "fare_min = dataset['fare'].min()\n",
    "fare_max = dataset['fare'].max()\n",
    "\n",
    "print('Fare Min:', fare_min)\n",
    "print('Fare Max:', fare_max)"
   ]
  },
  {
   "cell_type": "code",
   "execution_count": null,
   "id": "71e7a627",
   "metadata": {
    "deletable": false,
    "editable": false,
    "nbgrader": {
     "cell_type": "code",
     "checksum": "3108f3533a7f22e405b03e81fbbd4eba",
     "grade": true,
     "grade_id": "cell-130da0a105cd41d3",
     "locked": true,
     "points": 1,
     "schema_version": 3,
     "solution": false,
     "task": false
    }
   },
   "outputs": [],
   "source": []
  },
  {
   "cell_type": "markdown",
   "id": "8e00f9f3",
   "metadata": {
    "deletable": false,
    "editable": false,
    "nbgrader": {
     "cell_type": "markdown",
     "checksum": "70bb5578b02f4fe3e4015a9bfa05731c",
     "grade": false,
     "grade_id": "cell-eb6e9609827093c5",
     "locked": true,
     "schema_version": 3,
     "solution": false,
     "task": false
    }
   },
   "source": [
    "## Quantiles and Percentiles\n",
    "\n",
    "Now for some formal discussion.\n",
    "\n",
    "Let $X$ be a r.v. with cdf $F$.\n",
    "\n",
    "For each $p \\in \\left[0, 1\\right]$, define $F^{-1}(p)$ to be the smallest value $x$ such that $F(x) \\geq p$. \n",
    "\n",
    "Then $F^{-1}(p)$ is called the $p$ <b><i>quantile</b></i> of $X$ or the $100p$ <b><i>percentile</b></i> of $X$.\n",
    "\n",
    "The function $F^{-1}$ is called the <b><i>quantile function</b></i> of $X$.\n",
    "\n",
    "Quantiles are used as cut points that divide a probability distribution into intervals of equal probability. For example, the <b><i>quartiles</b></i> of a distribution are defined by three points that split the distribution into four equally-sized groups. These points are the 25th, 50th, and 75th percentile."
   ]
  },
  {
   "cell_type": "markdown",
   "id": "b1a1e784",
   "metadata": {
    "deletable": false,
    "editable": false,
    "nbgrader": {
     "cell_type": "markdown",
     "checksum": "f003e953f2ded81d839d5296e980ed3e",
     "grade": false,
     "grade_id": "cell-c10f00d0ea9e8722",
     "locked": true,
     "schema_version": 3,
     "solution": false,
     "task": false
    }
   },
   "source": [
    "#### Q3.\n",
    "\n",
    "Calculate the 80th, 90th, and 99th percentile of `fare`. Ignore NaN values."
   ]
  },
  {
   "cell_type": "code",
   "execution_count": 5,
   "id": "e401a5b9",
   "metadata": {
    "ExecuteTime": {
     "end_time": "2021-07-14T16:20:30.848090Z",
     "start_time": "2021-07-14T16:20:30.839097Z"
    },
    "deletable": false,
    "nbgrader": {
     "cell_type": "code",
     "checksum": "9007d1cdbcd6317d3a4ae16e082f72cf",
     "grade": false,
     "grade_id": "cell-a8836676490e157a",
     "locked": false,
     "schema_version": 3,
     "solution": true,
     "task": false
    }
   },
   "outputs": [
    {
     "name": "stdout",
     "output_type": "stream",
     "text": [
      "Fare 80th %-ile: 39.6875\n",
      "Fare 90th %-ile: 77.9583\n",
      "Fare 99th %-ile: 249.00622000000033\n"
     ]
    }
   ],
   "source": [
    "fare_80p = dataset['fare'].quantile(0.8)\n",
    "fare_90p = dataset['fare'].quantile(0.9)\n",
    "fare_99p = dataset['fare'].quantile(0.99)\n",
    "\n",
    "print('Fare 80th %-ile:', fare_80p)\n",
    "print('Fare 90th %-ile:', fare_90p)\n",
    "print('Fare 99th %-ile:', fare_99p)"
   ]
  },
  {
   "cell_type": "code",
   "execution_count": null,
   "id": "ca3cd956",
   "metadata": {
    "deletable": false,
    "editable": false,
    "nbgrader": {
     "cell_type": "code",
     "checksum": "270cc624be1824f18e981629c4ee9a32",
     "grade": true,
     "grade_id": "cell-819809fb95d5b025",
     "locked": true,
     "points": 1,
     "schema_version": 3,
     "solution": false,
     "task": false
    }
   },
   "outputs": [],
   "source": []
  },
  {
   "cell_type": "markdown",
   "id": "6266d0ab",
   "metadata": {
    "deletable": false,
    "editable": false,
    "nbgrader": {
     "cell_type": "markdown",
     "checksum": "9c1d6ca5299dff778ce0991df8369068",
     "grade": false,
     "grade_id": "cell-cf065ccfa36fc505",
     "locked": true,
     "schema_version": 3,
     "solution": false,
     "task": false
    }
   },
   "source": [
    "#### Q4.\n",
    "\n",
    "Calculate the first, second, and third quartiles for `age`.\n",
    "\n",
    "Create a [`KDE plot`](https://seaborn.pydata.org/tutorial/distributions.html#tutorial-kde) for `age` and overlay the quartiles by plotting red vertical lines.\n",
    "\n",
    "Ignore NaN values."
   ]
  },
  {
   "cell_type": "code",
   "execution_count": 6,
   "id": "fab54b4b",
   "metadata": {
    "ExecuteTime": {
     "end_time": "2021-07-14T16:20:31.233007Z",
     "start_time": "2021-07-14T16:20:30.850090Z"
    },
    "deletable": false,
    "nbgrader": {
     "cell_type": "code",
     "checksum": "0cf8920ed607e31aa257b54eff1975dc",
     "grade": false,
     "grade_id": "cell-d1db5b08419ad478",
     "locked": false,
     "schema_version": 3,
     "solution": true,
     "task": false
    }
   },
   "outputs": [
    {
     "name": "stdout",
     "output_type": "stream",
     "text": [
      "Age 1st Quartile: 20.125\n",
      "Age 2nd Quartile: 28.0\n",
      "Age 3rd Quartile: 38.0\n"
     ]
    },
    {
     "data": {
      "text/plain": [
       "<Figure size 1200x800 with 0 Axes>"
      ]
     },
     "metadata": {},
     "output_type": "display_data"
    },
    {
     "data": {
      "image/png": "[encoded data removed]",
      "text/plain": [
       "<Figure size 360x360 with 1 Axes>"
      ]
     },
     "metadata": {
      "needs_background": "light"
     },
     "output_type": "display_data"
    }
   ],
   "source": [
    "dataset['age'] = dataset['age'].dropna()\n",
    "age_quant1 = dataset['age'].quantile(0.25)\n",
    "age_quant2 = dataset['age'].quantile(0.50)\n",
    "age_quant3 = dataset['age'].quantile(0.75)\n",
    "\n",
    "print('Age 1st Quartile:', age_quant1)\n",
    "print('Age 2nd Quartile:', age_quant2)\n",
    "print('Age 3rd Quartile:', age_quant3)\n",
    "\n",
    "plt.figure(figsize=(12,8), dpi=100)\n",
    "sns.displot(dataset, x=\"age\", kind=\"kde\")\n",
    "for quartile in [age_quant1, age_quant2, age_quant3]:\n",
    "    plt.axvline(quartile, color='red')\n",
    "plt.show()"
   ]
  },
  {
   "cell_type": "code",
   "execution_count": null,
   "id": "9d6346a1",
   "metadata": {
    "deletable": false,
    "editable": false,
    "nbgrader": {
     "cell_type": "code",
     "checksum": "e989ddd3708e6b42a5673471d53250f9",
     "grade": true,
     "grade_id": "cell-5a2b19afb4227552",
     "locked": true,
     "points": 1,
     "schema_version": 3,
     "solution": false,
     "task": false
    }
   },
   "outputs": [],
   "source": []
  },
  {
   "cell_type": "markdown",
   "id": "d6bbf93c",
   "metadata": {
    "deletable": false,
    "editable": false,
    "nbgrader": {
     "cell_type": "markdown",
     "checksum": "6e5c73fd41256624501c968d53226ea7",
     "grade": false,
     "grade_id": "cell-96b03d6bd0fbea39",
     "locked": true,
     "schema_version": 3,
     "solution": false,
     "task": false
    }
   },
   "source": [
    "## Measures of Central Tendency\n",
    "\n",
    "### Mean\n",
    "\n",
    "The <b><i>sample mean</b></i> $\\bar{x}$ of a feature $X$ with data points $x_1, x_2, \\ldots, x_n$ is defined as\n",
    "\n",
    "$$\\bar{x} = \\frac{1}{n}\\sum_{i=1}^{n}x_i$$"
   ]
  },
  {
   "cell_type": "markdown",
   "id": "402595fb",
   "metadata": {
    "deletable": false,
    "editable": false,
    "nbgrader": {
     "cell_type": "markdown",
     "checksum": "7c0688388827085e3354ed3a94bcf80d",
     "grade": false,
     "grade_id": "cell-b6075962478745e1",
     "locked": true,
     "schema_version": 3,
     "solution": false,
     "task": false
    }
   },
   "source": [
    "#### Q5.\n",
    "\n",
    "Calculate the sample mean of `age`. Ignore NaN values."
   ]
  },
  {
   "cell_type": "code",
   "execution_count": 7,
   "id": "41277590",
   "metadata": {
    "ExecuteTime": {
     "end_time": "2021-07-14T16:20:31.239564Z",
     "start_time": "2021-07-14T16:20:31.235105Z"
    },
    "deletable": false,
    "nbgrader": {
     "cell_type": "code",
     "checksum": "e6b256d7334836d4dedacfc46c1b43a2",
     "grade": false,
     "grade_id": "cell-c86928395312617a",
     "locked": false,
     "schema_version": 3,
     "solution": true,
     "task": false
    }
   },
   "outputs": [
    {
     "name": "stdout",
     "output_type": "stream",
     "text": [
      "Age Mean: 29.69911764705882\n"
     ]
    }
   ],
   "source": [
    "age_mean = dataset['age'].mean(skipna=True)\n",
    "\n",
    "print('Age Mean:', age_mean)"
   ]
  },
  {
   "cell_type": "code",
   "execution_count": null,
   "id": "41db1262",
   "metadata": {
    "deletable": false,
    "editable": false,
    "nbgrader": {
     "cell_type": "code",
     "checksum": "ef59ba4a4867b6cd92ea37cf9121e591",
     "grade": true,
     "grade_id": "cell-63b8a489c1badbb6",
     "locked": true,
     "points": 1,
     "schema_version": 3,
     "solution": false,
     "task": false
    }
   },
   "outputs": [],
   "source": []
  },
  {
   "cell_type": "markdown",
   "id": "aec7e3dd",
   "metadata": {
    "deletable": false,
    "editable": false,
    "nbgrader": {
     "cell_type": "markdown",
     "checksum": "5b40283fc35a6bf217f0f25c1f3a4199",
     "grade": false,
     "grade_id": "cell-db1924bd2466db12",
     "locked": true,
     "schema_version": 3,
     "solution": false,
     "task": false
    }
   },
   "source": [
    "### Median\n",
    "\n",
    "The <b><i>median</b></i> is defined as the 50th percentile. It is the value that divides the data into two equal groups.\n",
    "\n",
    "More formally, every number $m$ with the following property is called the median of a r.v. $X$:\n",
    "\n",
    "$$P(X \\leq m) \\geq 0.5 \\quad \\text{ and } \\quad P(X \\geq m) \\geq 0.5$$\n",
    "\n",
    "Note that there can be more than one median."
   ]
  },
  {
   "cell_type": "markdown",
   "id": "623942e0",
   "metadata": {
    "deletable": false,
    "editable": false,
    "nbgrader": {
     "cell_type": "markdown",
     "checksum": "d7fe7101bac963e60811c6fe69db6fbd",
     "grade": false,
     "grade_id": "cell-0f5ce4a61ad4a230",
     "locked": true,
     "schema_version": 3,
     "solution": false,
     "task": false
    }
   },
   "source": [
    "#### Q6.\n",
    "\n",
    "Calculate the median of `age`. Ignore NaN values."
   ]
  },
  {
   "cell_type": "code",
   "execution_count": 8,
   "id": "71690eaa",
   "metadata": {
    "ExecuteTime": {
     "end_time": "2021-07-14T16:20:31.246299Z",
     "start_time": "2021-07-14T16:20:31.242450Z"
    },
    "deletable": false,
    "nbgrader": {
     "cell_type": "code",
     "checksum": "171dfb0b7c4e0cf53589c5038f134851",
     "grade": false,
     "grade_id": "cell-9c4aa04eb7012873",
     "locked": false,
     "schema_version": 3,
     "solution": true,
     "task": false
    }
   },
   "outputs": [
    {
     "name": "stdout",
     "output_type": "stream",
     "text": [
      "Age Median: 28.0\n"
     ]
    }
   ],
   "source": [
    "age_median = dataset['age'].median()\n",
    "\n",
    "print('Age Median:', age_median)"
   ]
  },
  {
   "cell_type": "code",
   "execution_count": null,
   "id": "7dbe349c",
   "metadata": {
    "deletable": false,
    "editable": false,
    "nbgrader": {
     "cell_type": "code",
     "checksum": "05ec86d7644bdab76ecc2d82d4f475d0",
     "grade": true,
     "grade_id": "cell-6e3d71f1ad48c71c",
     "locked": true,
     "points": 1,
     "schema_version": 3,
     "solution": false,
     "task": false
    }
   },
   "outputs": [],
   "source": []
  },
  {
   "cell_type": "markdown",
   "id": "82f772c7",
   "metadata": {
    "deletable": false,
    "editable": false,
    "nbgrader": {
     "cell_type": "markdown",
     "checksum": "5d8c849fef342261a4a0a9ba68e9b11f",
     "grade": false,
     "grade_id": "cell-c823b89b26f2e44f",
     "locked": true,
     "schema_version": 3,
     "solution": false,
     "task": false
    }
   },
   "source": [
    "### Mode\n",
    "\n",
    "The <b><i>mode</b></i> is defined as the most frequent value. It corresponds to the maxima of a distribution. \n",
    "\n",
    "Distributions with just one maxima are called <b><i>unimodal</b></i>, while those with multiple maximas are called <b><i>multi-modal</b></i> (e.g. a distribution with two modes is called <b><i>bimodal</b></i>).\n",
    "\n",
    "For continuous distributions (subject to certain assumptions), we can find the modes by finding the maximum of a pdf $f$, i.e. solving\n",
    "\n",
    "$$\\frac{d}{dx}f(x) = 0$$"
   ]
  },
  {
   "cell_type": "markdown",
   "id": "0c7ce5d0",
   "metadata": {
    "deletable": false,
    "editable": false,
    "nbgrader": {
     "cell_type": "markdown",
     "checksum": "20fafba71dec0bbe7caf4cf379fb4df9",
     "grade": false,
     "grade_id": "cell-a58d301cbafa3a90",
     "locked": true,
     "schema_version": 3,
     "solution": false,
     "task": false
    }
   },
   "source": [
    "#### Q7.\n",
    "\n",
    "Calculate the mode of `age`. Ignore NaN values."
   ]
  },
  {
   "cell_type": "code",
   "execution_count": 9,
   "id": "044171bc",
   "metadata": {
    "ExecuteTime": {
     "end_time": "2021-07-14T16:20:31.257903Z",
     "start_time": "2021-07-14T16:20:31.250493Z"
    },
    "deletable": false,
    "nbgrader": {
     "cell_type": "code",
     "checksum": "83a5c93a1c8bbf283b6d02ee85d5263b",
     "grade": false,
     "grade_id": "cell-a83b8e2264a97436",
     "locked": false,
     "schema_version": 3,
     "solution": true,
     "task": false
    }
   },
   "outputs": [
    {
     "name": "stdout",
     "output_type": "stream",
     "text": [
      "Age Mode: 24.0\n"
     ]
    }
   ],
   "source": [
    "age_mode = dataset['age'].mode()[0]\n",
    "\n",
    "print('Age Mode:', age_mode)\n",
    "\n",
    "# YOUR CODE HERE\n",
    "#raise NotImplementedError()"
   ]
  },
  {
   "cell_type": "code",
   "execution_count": null,
   "id": "9019546a",
   "metadata": {
    "deletable": false,
    "editable": false,
    "nbgrader": {
     "cell_type": "code",
     "checksum": "3ff397c247ab99f36fcf7ad4b2c3eb87",
     "grade": true,
     "grade_id": "cell-3dbf6283d97b4843",
     "locked": true,
     "points": 1,
     "schema_version": 3,
     "solution": false,
     "task": false
    }
   },
   "outputs": [],
   "source": []
  },
  {
   "cell_type": "markdown",
   "id": "9b7d8bcc",
   "metadata": {
    "deletable": false,
    "editable": false,
    "nbgrader": {
     "cell_type": "markdown",
     "checksum": "8b9422656ebe7ea30b7e71f415a47f51",
     "grade": false,
     "grade_id": "cell-fd63ccbc827ebc78",
     "locked": true,
     "schema_version": 3,
     "solution": false,
     "task": false
    }
   },
   "source": [
    "## Measures of Spread / Dispersion\n",
    "\n",
    "### Variance / Standard Deviation\n",
    "\n",
    "The (unbiased) <b><i>sample variance</b></i> $s^2$ of a feature $X$ with data points $x_1, x_2, \\ldots, x_n$ is defined as\n",
    "\n",
    "$$s^2 = \\frac{1}{n-1}\\sum_{i=1}^{n}(x_i - \\bar{x})^2$$\n",
    "\n",
    "The <b><i>sample standard deviation</b></i> $s$ is the non-negative square root of the sample variance."
   ]
  },
  {
   "cell_type": "markdown",
   "id": "4cae6d41",
   "metadata": {
    "deletable": false,
    "editable": false,
    "nbgrader": {
     "cell_type": "markdown",
     "checksum": "244a9dfec8a622c989ee3d4a2880b999",
     "grade": false,
     "grade_id": "cell-15510e58ac245e72",
     "locked": true,
     "schema_version": 3,
     "solution": false,
     "task": false
    }
   },
   "source": [
    "#### Q8.\n",
    "\n",
    "Calculate the <b><u>unbiased</b></u> sample variance and sample standard deviation of `age`. Ignore NaN values."
   ]
  },
  {
   "cell_type": "code",
   "execution_count": 10,
   "id": "1cb1a67d",
   "metadata": {
    "ExecuteTime": {
     "end_time": "2021-07-14T16:20:31.269489Z",
     "start_time": "2021-07-14T16:20:31.261650Z"
    },
    "deletable": false,
    "nbgrader": {
     "cell_type": "code",
     "checksum": "115620d921caa896dcc6d604850db4d8",
     "grade": false,
     "grade_id": "cell-ab5b376c9b837661",
     "locked": false,
     "schema_version": 3,
     "solution": true,
     "task": false
    }
   },
   "outputs": [
    {
     "name": "stdout",
     "output_type": "stream",
     "text": [
      "Age Var: 211.0191247463081\n",
      "Age Stdev: 14.526497332334044\n"
     ]
    }
   ],
   "source": [
    "age_var = dataset.age.var()\n",
    "age_std = dataset.age.std()\n",
    "\n",
    "print('Age Var:', age_var)\n",
    "print('Age Stdev:', age_std)"
   ]
  },
  {
   "cell_type": "code",
   "execution_count": null,
   "id": "02829537",
   "metadata": {
    "deletable": false,
    "editable": false,
    "nbgrader": {
     "cell_type": "code",
     "checksum": "ffded3a6d46b7da75e8b84a99e42fb22",
     "grade": true,
     "grade_id": "cell-b4f387602d87ff3f",
     "locked": true,
     "points": 1,
     "schema_version": 3,
     "solution": false,
     "task": false
    }
   },
   "outputs": [],
   "source": []
  },
  {
   "cell_type": "markdown",
   "id": "51eec28a",
   "metadata": {
    "deletable": false,
    "editable": false,
    "nbgrader": {
     "cell_type": "markdown",
     "checksum": "6546ef32a93fc8691400f6a686cfc46c",
     "grade": false,
     "grade_id": "cell-f1cfa600e5bb15d1",
     "locked": true,
     "schema_version": 3,
     "solution": false,
     "task": false
    }
   },
   "source": [
    "### Range\n",
    "\n",
    "The <b><i>range</b></i> of your data is defined as difference between the maximum and minimum values. It gives you an idea about the span or width your data values."
   ]
  },
  {
   "cell_type": "markdown",
   "id": "2c6cc82c",
   "metadata": {
    "deletable": false,
    "editable": false,
    "nbgrader": {
     "cell_type": "markdown",
     "checksum": "ba6885ff627a0edcbbafb6bb0c45159c",
     "grade": false,
     "grade_id": "cell-886972216842e8f8",
     "locked": true,
     "schema_version": 3,
     "solution": false,
     "task": false
    }
   },
   "source": [
    "#### Q9.\n",
    "\n",
    "Calculate the range of `age`. Ignore NaN values."
   ]
  },
  {
   "cell_type": "code",
   "execution_count": 11,
   "id": "9f34a51f",
   "metadata": {
    "ExecuteTime": {
     "end_time": "2021-07-14T16:20:31.280340Z",
     "start_time": "2021-07-14T16:20:31.272615Z"
    },
    "deletable": false,
    "nbgrader": {
     "cell_type": "code",
     "checksum": "78b224a52070f876ec167388135513a2",
     "grade": false,
     "grade_id": "cell-10b2e03efd6ae940",
     "locked": false,
     "schema_version": 3,
     "solution": true,
     "task": false
    }
   },
   "outputs": [
    {
     "name": "stdout",
     "output_type": "stream",
     "text": [
      "Age Range: 79.58\n"
     ]
    }
   ],
   "source": [
    "age_range = max(dataset.age.dropna()) - min(dataset.age.dropna())\n",
    "\n",
    "print('Age Range:', age_range)"
   ]
  },
  {
   "cell_type": "code",
   "execution_count": null,
   "id": "ffffa84e",
   "metadata": {
    "deletable": false,
    "editable": false,
    "nbgrader": {
     "cell_type": "code",
     "checksum": "e9e286073d99e1f3b07dd5fc20d209ad",
     "grade": true,
     "grade_id": "cell-040bf8e53c6dcf78",
     "locked": true,
     "points": 1,
     "schema_version": 3,
     "solution": false,
     "task": false
    }
   },
   "outputs": [],
   "source": []
  },
  {
   "cell_type": "markdown",
   "id": "72f8f018",
   "metadata": {
    "deletable": false,
    "editable": false,
    "nbgrader": {
     "cell_type": "markdown",
     "checksum": "13818dcc9f432b2d61c4470b1c4d3b9c",
     "grade": false,
     "grade_id": "cell-9b55298603764901",
     "locked": true,
     "schema_version": 3,
     "solution": false,
     "task": false
    }
   },
   "source": [
    "### Interquartile Range (IQR)\n",
    "\n",
    "The <b><i>interquartile range</b></i> (IQR) defined as the difference between the 75th and 25th percentile. It is typically used when creating box plots, and is also used as a proxy for variance when expectations do not exist (e.g. Cauchy distribution)."
   ]
  },
  {
   "cell_type": "markdown",
   "id": "6041cfa8",
   "metadata": {
    "deletable": false,
    "editable": false,
    "nbgrader": {
     "cell_type": "markdown",
     "checksum": "51de75eaaa5d2a832b4e85477d0f7e8d",
     "grade": false,
     "grade_id": "cell-93227b885b0ed389",
     "locked": true,
     "schema_version": 3,
     "solution": false,
     "task": false
    }
   },
   "source": [
    "#### Q10.\n",
    "\n",
    "Calculate the IQR of `age`. Ignore NaN values."
   ]
  },
  {
   "cell_type": "code",
   "execution_count": 35,
   "id": "213ce062",
   "metadata": {
    "ExecuteTime": {
     "end_time": "2021-07-14T16:23:35.990475Z",
     "start_time": "2021-07-14T16:23:35.977434Z"
    },
    "deletable": false,
    "nbgrader": {
     "cell_type": "code",
     "checksum": "8838a61b7e0c0bab5ea55e029ededd69",
     "grade": false,
     "grade_id": "cell-5f237818b94a0996",
     "locked": false,
     "schema_version": 3,
     "solution": true,
     "task": false
    }
   },
   "outputs": [
    {
     "name": "stdout",
     "output_type": "stream",
     "text": [
      "Age IQR: 17.875\n"
     ]
    }
   ],
   "source": [
    "age_iqr = dataset['age'].quantile(0.75) - dataset['age'].quantile(0.25)\n",
    "\n",
    "print('Age IQR:', age_iqr)"
   ]
  },
  {
   "cell_type": "code",
   "execution_count": null,
   "id": "fd623f8e",
   "metadata": {
    "deletable": false,
    "editable": false,
    "nbgrader": {
     "cell_type": "code",
     "checksum": "cc30e773860dfc26af09e8bc405fcfcc",
     "grade": true,
     "grade_id": "cell-be80a21e01e2391b",
     "locked": true,
     "points": 1,
     "schema_version": 3,
     "solution": false,
     "task": false
    }
   },
   "outputs": [],
   "source": []
  },
  {
   "cell_type": "markdown",
   "id": "4e667537",
   "metadata": {
    "deletable": false,
    "editable": false,
    "nbgrader": {
     "cell_type": "markdown",
     "checksum": "6fa91256ed707208a8554018e9ddc128",
     "grade": false,
     "grade_id": "cell-8839c5bfc6df21b8",
     "locked": true,
     "schema_version": 3,
     "solution": false,
     "task": false
    }
   },
   "source": [
    "## Higher Moments\n",
    "\n",
    "Beyond centrality and spread, there are two higher moment statistics used to describe the shape of a distribution.\n",
    "\n",
    "### Skewness\n",
    "\n",
    "The <b><i>skewness</b></i> of a distribution measures the degree of asymmetry of a distribution around the mean. Its value can be positive, zero, negative, or undefined.\n",
    "\n",
    "For unimodal distributions, negative skew means that the tail of the distribution is on the left side, while a positive skew indicates that the tail is on the right. For example, if we apply the exponential function on a r.v. $X$ with Normal distribution (which has zero skew since it is symmetric), we create a new r.v. $Y = \\exp(X)$ which has a [`log-normal distribution`](https://en.wikipedia.org/wiki/Log-normal_distribution) and is positively skewed.\n",
    "\n",
    "Formally, the skewness of a r.v. $X$ is defined as\n",
    "\n",
    "$$\\tilde{\\mu}_3 = E\\left[\\left(\\frac{X - \\mu}{\\sigma}\\right)^3\\right]$$\n",
    "\n",
    "The <b><i>sample skewness</b></i> is\n",
    "\n",
    "$$\\frac{\\frac{1}{n}\\sum_{i=1}^{n}(x_i - \\bar{x})^3}{s^3}$$\n",
    "\n",
    "which has a biased and unbiased version, see [`here`](https://docs.scipy.org/doc/scipy/reference/generated/scipy.stats.skew.html) for the bias correction."
   ]
  },
  {
   "cell_type": "markdown",
   "id": "1f04aa69",
   "metadata": {
    "deletable": false,
    "editable": false,
    "nbgrader": {
     "cell_type": "markdown",
     "checksum": "11dd9751e69909e485a1f0e8bd9f4bf4",
     "grade": false,
     "grade_id": "cell-034678447e076846",
     "locked": true,
     "schema_version": 3,
     "solution": false,
     "task": false
    }
   },
   "source": [
    "#### Q11.\n",
    "\n",
    "Calculate the <b><u>unbiased</b></u> sample skewness of `age`. Ignore NaN values."
   ]
  },
  {
   "cell_type": "code",
   "execution_count": 13,
   "id": "802ffd2a",
   "metadata": {
    "ExecuteTime": {
     "end_time": "2021-07-14T16:20:31.300041Z",
     "start_time": "2021-07-14T16:20:31.293148Z"
    },
    "deletable": false,
    "nbgrader": {
     "cell_type": "code",
     "checksum": "1ad94503def4ceb09c172b0b5e9c42d1",
     "grade": false,
     "grade_id": "cell-ccaf8ef485146819",
     "locked": false,
     "schema_version": 3,
     "solution": true,
     "task": false
    }
   },
   "outputs": [
    {
     "name": "stdout",
     "output_type": "stream",
     "text": [
      "Age Skewness: 0.3891077823008268\n"
     ]
    }
   ],
   "source": [
    "age_skew = stats.skew(dataset['age'].dropna(), bias=False, nan_policy='omit')\n",
    "print('Age Skewness:', age_skew)"
   ]
  },
  {
   "cell_type": "code",
   "execution_count": null,
   "id": "aa5019a5",
   "metadata": {
    "deletable": false,
    "editable": false,
    "nbgrader": {
     "cell_type": "code",
     "checksum": "6a424c7132e3d0a9844a4d26b673246b",
     "grade": true,
     "grade_id": "cell-a62ffef86f0cfc0a",
     "locked": true,
     "points": 1,
     "schema_version": 3,
     "solution": false,
     "task": false
    }
   },
   "outputs": [],
   "source": []
  },
  {
   "cell_type": "markdown",
   "id": "5fd8c33e",
   "metadata": {
    "deletable": false,
    "editable": false,
    "nbgrader": {
     "cell_type": "markdown",
     "checksum": "7829e788f680c53fb890f10011f53a71",
     "grade": false,
     "grade_id": "cell-a5397f902fed4933",
     "locked": true,
     "schema_version": 3,
     "solution": false,
     "task": false
    }
   },
   "source": [
    "### Kurtosis\n",
    "\n",
    "The <b><i>kurtosis</b></i> of a distribution measures its \"tailedness\" (i.e. how heavy the tails are). In essence, a higher kurtosis indicates a greater probability of outliers occurring. A description of the types of kurtosis (<b><i>Mesokurtic</b></i>, <b><i>Leptokurtic</b></i>, and <b><i>Platykurtic</b></i>) can be read [`here`](https://en.wikipedia.org/wiki/Kurtosis#Excess_kurtosis).\n",
    "\n",
    "Formally, the kurtosis of a r.v. $X$ is defined as\n",
    "\n",
    "$$\\tilde{\\mu}_4 = E\\left[\\left(\\frac{X - \\mu}{\\sigma}\\right)^4\\right]$$\n",
    "\n",
    "The <b><i>sample kurtosis</b></i> is\n",
    "\n",
    "$$\\frac{\\frac{1}{n}\\sum_{i=1}^{n}(x_i - \\bar{x})^4}{\\left[\\frac{1}{n}\\sum_{i=1}^{n}(x_i - \\bar{x})^2\\right]^2} - 3$$\n",
    "\n",
    "which has a biased and unbiased version, see [`here`](https://docs.scipy.org/doc/scipy/reference/generated/scipy.stats.skew.html)."
   ]
  },
  {
   "cell_type": "markdown",
   "id": "5d69d24e",
   "metadata": {
    "deletable": false,
    "editable": false,
    "nbgrader": {
     "cell_type": "markdown",
     "checksum": "32a9ffe5566301d17a2bcb175011ad26",
     "grade": false,
     "grade_id": "cell-c1144e7909961a21",
     "locked": true,
     "schema_version": 3,
     "solution": false,
     "task": false
    }
   },
   "source": [
    "#### Q12.\n",
    "\n",
    "Calculate the <b><u>unbiased</b></u> sample kurtosis of `age`. Ignore NaN values."
   ]
  },
  {
   "cell_type": "code",
   "execution_count": 14,
   "id": "0c54a107",
   "metadata": {
    "ExecuteTime": {
     "end_time": "2021-07-14T16:20:31.309215Z",
     "start_time": "2021-07-14T16:20:31.302805Z"
    },
    "deletable": false,
    "nbgrader": {
     "cell_type": "code",
     "checksum": "4a2992cca434133b87849486bbb06e44",
     "grade": false,
     "grade_id": "cell-7c91eb4e1aaab190",
     "locked": false,
     "schema_version": 3,
     "solution": true,
     "task": false
    }
   },
   "outputs": [
    {
     "name": "stdout",
     "output_type": "stream",
     "text": [
      "Age Kurtosis: 0.17827415364210308\n"
     ]
    }
   ],
   "source": [
    "age_kurt = stats.kurtosis(dataset['age'].dropna(), bias=False, nan_policy='omit')\n",
    "\n",
    "print('Age Kurtosis:', age_kurt)"
   ]
  },
  {
   "cell_type": "code",
   "execution_count": null,
   "id": "efaa45b8",
   "metadata": {
    "deletable": false,
    "editable": false,
    "nbgrader": {
     "cell_type": "code",
     "checksum": "837afa8c0f6e0460531c180733c27ffc",
     "grade": true,
     "grade_id": "cell-10d9b81de603ed1d",
     "locked": true,
     "points": 1,
     "schema_version": 3,
     "solution": false,
     "task": false
    }
   },
   "outputs": [],
   "source": []
  },
  {
   "cell_type": "markdown",
   "id": "1d225d45",
   "metadata": {
    "deletable": false,
    "editable": false,
    "nbgrader": {
     "cell_type": "markdown",
     "checksum": "256ba9a58a0afa3691d4337214e689b8",
     "grade": false,
     "grade_id": "cell-42e060184e22f1e9",
     "locked": true,
     "schema_version": 3,
     "solution": false,
     "task": false
    }
   },
   "source": [
    "---\n",
    "\n",
    "## Exploratory Data Analysis\n",
    "\n",
    "In this section, we'll be doing some <i>guided</i> EDA. Note that it's usually the data scientist's job to formulate their own questions when performing EDA.\n",
    "\n",
    "You can <b><u>be as creative as you want</b></u> when answering the questions below (you can also be as simple as you want). You can create plots, calculate statistics, fit fancy models, etc."
   ]
  },
  {
   "cell_type": "markdown",
   "id": "5ec0694a",
   "metadata": {
    "deletable": false,
    "editable": false,
    "nbgrader": {
     "cell_type": "markdown",
     "checksum": "6320fe0fc92757370ba3997dd33e6219",
     "grade": false,
     "grade_id": "cell-a169e487ee649c9e",
     "locked": true,
     "points": 1,
     "schema_version": 3,
     "solution": false,
     "task": true
    }
   },
   "source": [
    "## Survival Analysis\n",
    "\n",
    "#### Q13.\n",
    "\n",
    "In the Titanic movie, they let women and children on the lifeboats first. One would then be lead to believe that women and children had a higher chance of survival.\n",
    "\n",
    "Does the data support this idea?"
   ]
  },
  {
   "cell_type": "code",
   "execution_count": 15,
   "id": "28135fec",
   "metadata": {
    "ExecuteTime": {
     "end_time": "2021-07-14T16:20:31.336744Z",
     "start_time": "2021-07-14T16:20:31.311575Z"
    }
   },
   "outputs": [
    {
     "data": {
      "text/html": [
       "<div>\n",
       "<style scoped>\n",
       "    .dataframe tbody tr th:only-of-type {\n",
       "        vertical-align: middle;\n",
       "    }\n",
       "\n",
       "    .dataframe tbody tr th {\n",
       "        vertical-align: top;\n",
       "    }\n",
       "\n",
       "    .dataframe thead th {\n",
       "        text-align: right;\n",
       "    }\n",
       "</style>\n",
       "<table border=\"1\" class=\"dataframe\">\n",
       "  <thead>\n",
       "    <tr style=\"text-align: right;\">\n",
       "      <th>alive</th>\n",
       "      <th>no</th>\n",
       "      <th>yes</th>\n",
       "    </tr>\n",
       "    <tr>\n",
       "      <th>sex</th>\n",
       "      <th></th>\n",
       "      <th></th>\n",
       "    </tr>\n",
       "  </thead>\n",
       "  <tbody>\n",
       "    <tr>\n",
       "      <th>female</th>\n",
       "      <td>81</td>\n",
       "      <td>233</td>\n",
       "    </tr>\n",
       "    <tr>\n",
       "      <th>male</th>\n",
       "      <td>468</td>\n",
       "      <td>109</td>\n",
       "    </tr>\n",
       "  </tbody>\n",
       "</table>\n",
       "</div>"
      ],
      "text/plain": [
       "alive    no  yes\n",
       "sex             \n",
       "female   81  233\n",
       "male    468  109"
      ]
     },
     "execution_count": 15,
     "metadata": {},
     "output_type": "execute_result"
    }
   ],
   "source": [
    "pd.crosstab(dataset['sex'], dataset['alive'])"
   ]
  },
  {
   "cell_type": "code",
   "execution_count": 16,
   "id": "cff6701b",
   "metadata": {
    "ExecuteTime": {
     "end_time": "2021-07-14T16:20:31.552634Z",
     "start_time": "2021-07-14T16:20:31.338461Z"
    }
   },
   "outputs": [
    {
     "data": {
      "text/html": [
       "<div>\n",
       "<style scoped>\n",
       "    .dataframe tbody tr th:only-of-type {\n",
       "        vertical-align: middle;\n",
       "    }\n",
       "\n",
       "    .dataframe tbody tr th {\n",
       "        vertical-align: top;\n",
       "    }\n",
       "\n",
       "    .dataframe thead th {\n",
       "        text-align: right;\n",
       "    }\n",
       "</style>\n",
       "<table border=\"1\" class=\"dataframe\">\n",
       "  <thead>\n",
       "    <tr style=\"text-align: right;\">\n",
       "      <th>alive</th>\n",
       "      <th>no</th>\n",
       "      <th>yes</th>\n",
       "    </tr>\n",
       "    <tr>\n",
       "      <th>sex</th>\n",
       "      <th></th>\n",
       "      <th></th>\n",
       "    </tr>\n",
       "  </thead>\n",
       "  <tbody>\n",
       "    <tr>\n",
       "      <th>female</th>\n",
       "      <td>0.147541</td>\n",
       "      <td>0.681287</td>\n",
       "    </tr>\n",
       "    <tr>\n",
       "      <th>male</th>\n",
       "      <td>0.852459</td>\n",
       "      <td>0.318713</td>\n",
       "    </tr>\n",
       "  </tbody>\n",
       "</table>\n",
       "</div>"
      ],
      "text/plain": [
       "alive         no       yes\n",
       "sex                       \n",
       "female  0.147541  0.681287\n",
       "male    0.852459  0.318713"
      ]
     },
     "execution_count": 16,
     "metadata": {},
     "output_type": "execute_result"
    },
    {
     "data": {
      "image/png": "[encoded data removed]",
      "text/plain": [
       "<Figure size 720x576 with 1 Axes>"
      ]
     },
     "metadata": {
      "needs_background": "light"
     },
     "output_type": "display_data"
    }
   ],
   "source": [
    "df = pd.crosstab(dataset['sex'], dataset['alive'], normalize='columns')\n",
    "df.plot(kind='bar', color=['gray', 'green'], figsize=(10,8), rot=0)\n",
    "plt.title('Gender Distribution of Titanic Survival', fontsize=16)\n",
    "plt.xlabel('')\n",
    "plt.ylabel('Proportion of Males or Females Survived');\n",
    "df"
   ]
  },
  {
   "cell_type": "markdown",
   "id": "8c5bdfa3",
   "metadata": {},
   "source": [
    "Out of those that have survived the Titanic, 68% of them were females. On the other hand, 85% of those that have died from the sinking of the Titanic were males. From the visualizations above, we can conclude that women had higher chances of survival. The frequencies for each gender were normalized with respect to the total number of survivors and deaths due to the Titanic."
   ]
  },
  {
   "cell_type": "code",
   "execution_count": 17,
   "id": "ddef113f",
   "metadata": {
    "ExecuteTime": {
     "end_time": "2021-07-14T16:20:31.596021Z",
     "start_time": "2021-07-14T16:20:31.554488Z"
    }
   },
   "outputs": [
    {
     "data": {
      "text/html": [
       "<div>\n",
       "<style scoped>\n",
       "    .dataframe tbody tr th:only-of-type {\n",
       "        vertical-align: middle;\n",
       "    }\n",
       "\n",
       "    .dataframe tbody tr th {\n",
       "        vertical-align: top;\n",
       "    }\n",
       "\n",
       "    .dataframe thead th {\n",
       "        text-align: right;\n",
       "    }\n",
       "</style>\n",
       "<table border=\"1\" class=\"dataframe\">\n",
       "  <thead>\n",
       "    <tr style=\"text-align: right;\">\n",
       "      <th>alive</th>\n",
       "      <th>no</th>\n",
       "      <th>yes</th>\n",
       "    </tr>\n",
       "    <tr>\n",
       "      <th>who</th>\n",
       "      <th></th>\n",
       "      <th></th>\n",
       "    </tr>\n",
       "  </thead>\n",
       "  <tbody>\n",
       "    <tr>\n",
       "      <th>child</th>\n",
       "      <td>34</td>\n",
       "      <td>49</td>\n",
       "    </tr>\n",
       "    <tr>\n",
       "      <th>man</th>\n",
       "      <td>449</td>\n",
       "      <td>88</td>\n",
       "    </tr>\n",
       "    <tr>\n",
       "      <th>woman</th>\n",
       "      <td>66</td>\n",
       "      <td>205</td>\n",
       "    </tr>\n",
       "  </tbody>\n",
       "</table>\n",
       "</div>"
      ],
      "text/plain": [
       "alive   no  yes\n",
       "who            \n",
       "child   34   49\n",
       "man    449   88\n",
       "woman   66  205"
      ]
     },
     "execution_count": 17,
     "metadata": {},
     "output_type": "execute_result"
    }
   ],
   "source": [
    "pd.crosstab(dataset['who'], dataset['alive'])"
   ]
  },
  {
   "cell_type": "code",
   "execution_count": 18,
   "id": "59cb173a",
   "metadata": {
    "ExecuteTime": {
     "end_time": "2021-07-14T16:20:31.827512Z",
     "start_time": "2021-07-14T16:20:31.599006Z"
    }
   },
   "outputs": [
    {
     "data": {
      "text/html": [
       "<div>\n",
       "<style scoped>\n",
       "    .dataframe tbody tr th:only-of-type {\n",
       "        vertical-align: middle;\n",
       "    }\n",
       "\n",
       "    .dataframe tbody tr th {\n",
       "        vertical-align: top;\n",
       "    }\n",
       "\n",
       "    .dataframe thead th {\n",
       "        text-align: right;\n",
       "    }\n",
       "</style>\n",
       "<table border=\"1\" class=\"dataframe\">\n",
       "  <thead>\n",
       "    <tr style=\"text-align: right;\">\n",
       "      <th>alive</th>\n",
       "      <th>no</th>\n",
       "      <th>yes</th>\n",
       "    </tr>\n",
       "    <tr>\n",
       "      <th>who</th>\n",
       "      <th></th>\n",
       "      <th></th>\n",
       "    </tr>\n",
       "  </thead>\n",
       "  <tbody>\n",
       "    <tr>\n",
       "      <th>child</th>\n",
       "      <td>0.409639</td>\n",
       "      <td>0.590361</td>\n",
       "    </tr>\n",
       "    <tr>\n",
       "      <th>man</th>\n",
       "      <td>0.836127</td>\n",
       "      <td>0.163873</td>\n",
       "    </tr>\n",
       "    <tr>\n",
       "      <th>woman</th>\n",
       "      <td>0.243542</td>\n",
       "      <td>0.756458</td>\n",
       "    </tr>\n",
       "  </tbody>\n",
       "</table>\n",
       "</div>"
      ],
      "text/plain": [
       "alive        no       yes\n",
       "who                      \n",
       "child  0.409639  0.590361\n",
       "man    0.836127  0.163873\n",
       "woman  0.243542  0.756458"
      ]
     },
     "execution_count": 18,
     "metadata": {},
     "output_type": "execute_result"
    },
    {
     "data": {
      "image/png": "[encoded data removed]",
      "text/plain": [
       "<Figure size 720x576 with 1 Axes>"
      ]
     },
     "metadata": {
      "needs_background": "light"
     },
     "output_type": "display_data"
    }
   ],
   "source": [
    "df = pd.crosstab(dataset['who'], dataset['alive'], normalize='index')\n",
    "df.plot(kind='bar', color=['gray', 'green'], figsize=(10, 8), rot=0)\n",
    "plt.title('Survival Rates per Demographic', fontsize=16)\n",
    "plt.xlabel('')\n",
    "plt.ylabel('Proportion of Demographic Survived');\n",
    "df"
   ]
  },
  {
   "cell_type": "markdown",
   "id": "26549dfe",
   "metadata": {},
   "source": [
    "Out of all children that were aboard the Titanic, 59% have survived. Likewise, 75% of adult women in the Titanic were able to survive. Unfortunately, 83% of adult male people that were in the ship has died."
   ]
  },
  {
   "cell_type": "code",
   "execution_count": 19,
   "id": "1085af55",
   "metadata": {
    "ExecuteTime": {
     "end_time": "2021-07-14T16:20:32.292733Z",
     "start_time": "2021-07-14T16:20:31.829161Z"
    }
   },
   "outputs": [
    {
     "name": "stdout",
     "output_type": "stream",
     "text": [
      "Optimization terminated successfully.\n",
      "         Current function value: 0.500707\n",
      "         Iterations 6\n"
     ]
    },
    {
     "data": {
      "text/html": [
       "<table class=\"simpletable\">\n",
       "<caption>Logit Regression Results</caption>\n",
       "<tr>\n",
       "  <th>Dep. Variable:</th>       <td>survived</td>     <th>  No. Observations:  </th>  <td>   891</td>  \n",
       "</tr>\n",
       "<tr>\n",
       "  <th>Model:</th>                 <td>Logit</td>      <th>  Df Residuals:      </th>  <td>   888</td>  \n",
       "</tr>\n",
       "<tr>\n",
       "  <th>Method:</th>                 <td>MLE</td>       <th>  Df Model:          </th>  <td>     2</td>  \n",
       "</tr>\n",
       "<tr>\n",
       "  <th>Date:</th>            <td>Wed, 14 Jul 2021</td> <th>  Pseudo R-squ.:     </th>  <td>0.2481</td>  \n",
       "</tr>\n",
       "<tr>\n",
       "  <th>Time:</th>                <td>16:20:32</td>     <th>  Log-Likelihood:    </th> <td> -446.13</td> \n",
       "</tr>\n",
       "<tr>\n",
       "  <th>converged:</th>             <td>True</td>       <th>  LL-Null:           </th> <td> -593.33</td> \n",
       "</tr>\n",
       "<tr>\n",
       "  <th>Covariance Type:</th>     <td>nonrobust</td>    <th>  LLR p-value:       </th> <td>1.183e-64</td>\n",
       "</tr>\n",
       "</table>\n",
       "<table class=\"simpletable\">\n",
       "<tr>\n",
       "    <td></td>       <th>coef</th>     <th>std err</th>      <th>z</th>      <th>P>|z|</th>  <th>[0.025</th>    <th>0.975]</th>  \n",
       "</tr>\n",
       "<tr>\n",
       "  <th>const</th> <td>   -1.6297</td> <td>    0.117</td> <td>  -13.979</td> <td> 0.000</td> <td>   -1.858</td> <td>   -1.401</td>\n",
       "</tr>\n",
       "<tr>\n",
       "  <th>child</th> <td>    1.9951</td> <td>    0.252</td> <td>    7.923</td> <td> 0.000</td> <td>    1.502</td> <td>    2.489</td>\n",
       "</tr>\n",
       "<tr>\n",
       "  <th>woman</th> <td>    2.7630</td> <td>    0.183</td> <td>   15.069</td> <td> 0.000</td> <td>    2.404</td> <td>    3.122</td>\n",
       "</tr>\n",
       "</table>"
      ],
      "text/plain": [
       "<class 'statsmodels.iolib.summary.Summary'>\n",
       "\"\"\"\n",
       "                           Logit Regression Results                           \n",
       "==============================================================================\n",
       "Dep. Variable:               survived   No. Observations:                  891\n",
       "Model:                          Logit   Df Residuals:                      888\n",
       "Method:                           MLE   Df Model:                            2\n",
       "Date:                Wed, 14 Jul 2021   Pseudo R-squ.:                  0.2481\n",
       "Time:                        16:20:32   Log-Likelihood:                -446.13\n",
       "converged:                       True   LL-Null:                       -593.33\n",
       "Covariance Type:            nonrobust   LLR p-value:                 1.183e-64\n",
       "==============================================================================\n",
       "                 coef    std err          z      P>|z|      [0.025      0.975]\n",
       "------------------------------------------------------------------------------\n",
       "const         -1.6297      0.117    -13.979      0.000      -1.858      -1.401\n",
       "child          1.9951      0.252      7.923      0.000       1.502       2.489\n",
       "woman          2.7630      0.183     15.069      0.000       2.404       3.122\n",
       "==============================================================================\n",
       "\"\"\""
      ]
     },
     "execution_count": 19,
     "metadata": {},
     "output_type": "execute_result"
    }
   ],
   "source": [
    "import statsmodels.api as sm\n",
    "\n",
    "who = pd.get_dummies(dataset['who']) # construct dummy variables for who\n",
    "dataset = dataset.merge(who, left_index=True, right_index=True)\n",
    "model = sm.Logit(dataset['survived'], \n",
    "                 sm.add_constant(dataset[['child', 'woman']])).fit()\n",
    "model.summary() # logistic regression model"
   ]
  },
  {
   "cell_type": "code",
   "execution_count": 20,
   "id": "0be586ab",
   "metadata": {
    "ExecuteTime": {
     "end_time": "2021-07-14T16:20:32.303467Z",
     "start_time": "2021-07-14T16:20:32.295429Z"
    }
   },
   "outputs": [
    {
     "data": {
      "text/plain": [
       "const     0.195991\n",
       "child     7.353275\n",
       "woman    15.847968\n",
       "dtype: float64"
      ]
     },
     "execution_count": 20,
     "metadata": {},
     "output_type": "execute_result"
    }
   ],
   "source": [
    "# to calculate the odds ratio\n",
    "np.exp(model.params)"
   ]
  },
  {
   "cell_type": "markdown",
   "id": "b5e5cddf",
   "metadata": {},
   "source": [
    "By performing a logistic regression model, we are able to identify the effect of a passenger's demographic on one's survival. From the results of the logistic regression model, we can conclude that children and women had an increasing effect on survival (as represented by positive coefficient values). Calculating the odds ratios, we are able to conclude that women and children has 15.84 and 7.35 times more odds of surviving the Titanic relative to males respectively."
   ]
  },
  {
   "cell_type": "code",
   "execution_count": null,
   "id": "e057d9c3",
   "metadata": {},
   "outputs": [],
   "source": []
  },
  {
   "cell_type": "markdown",
   "id": "6c1f36ac",
   "metadata": {
    "deletable": false,
    "editable": false,
    "nbgrader": {
     "cell_type": "markdown",
     "checksum": "8e9b5707cdf9c373cc2aef430725230c",
     "grade": false,
     "grade_id": "cell-2db86beec13d6ef0",
     "locked": true,
     "points": 1,
     "schema_version": 3,
     "solution": false,
     "task": true
    }
   },
   "source": [
    "#### Q14.\n",
    "\n",
    "Also in the movie, you can see rich people arguing that they should be allowed on the lifeboats first. \n",
    "\n",
    "From the data, how can you identify the \"rich\" passengers? \n",
    "\n",
    "Did rich passengers end up surviving more compared to the poorer passengers?"
   ]
  },
  {
   "cell_type": "code",
   "execution_count": 21,
   "id": "85bacb82",
   "metadata": {
    "ExecuteTime": {
     "end_time": "2021-07-14T16:20:32.657936Z",
     "start_time": "2021-07-14T16:20:32.305302Z"
    }
   },
   "outputs": [
    {
     "data": {
      "text/html": [
       "<div>\n",
       "<style scoped>\n",
       "    .dataframe tbody tr th:only-of-type {\n",
       "        vertical-align: middle;\n",
       "    }\n",
       "\n",
       "    .dataframe tbody tr th {\n",
       "        vertical-align: top;\n",
       "    }\n",
       "\n",
       "    .dataframe thead th {\n",
       "        text-align: right;\n",
       "    }\n",
       "</style>\n",
       "<table border=\"1\" class=\"dataframe\">\n",
       "  <thead>\n",
       "    <tr style=\"text-align: right;\">\n",
       "      <th>alive</th>\n",
       "      <th>no</th>\n",
       "      <th>yes</th>\n",
       "    </tr>\n",
       "    <tr>\n",
       "      <th>class</th>\n",
       "      <th></th>\n",
       "      <th></th>\n",
       "    </tr>\n",
       "  </thead>\n",
       "  <tbody>\n",
       "    <tr>\n",
       "      <th>First</th>\n",
       "      <td>0.370370</td>\n",
       "      <td>0.629630</td>\n",
       "    </tr>\n",
       "    <tr>\n",
       "      <th>Second</th>\n",
       "      <td>0.527174</td>\n",
       "      <td>0.472826</td>\n",
       "    </tr>\n",
       "    <tr>\n",
       "      <th>Third</th>\n",
       "      <td>0.757637</td>\n",
       "      <td>0.242363</td>\n",
       "    </tr>\n",
       "  </tbody>\n",
       "</table>\n",
       "</div>"
      ],
      "text/plain": [
       "alive         no       yes\n",
       "class                     \n",
       "First   0.370370  0.629630\n",
       "Second  0.527174  0.472826\n",
       "Third   0.757637  0.242363"
      ]
     },
     "execution_count": 21,
     "metadata": {},
     "output_type": "execute_result"
    },
    {
     "data": {
      "image/png": "[encoded data removed]",
      "text/plain": [
       "<Figure size 720x576 with 1 Axes>"
      ]
     },
     "metadata": {
      "needs_background": "light"
     },
     "output_type": "display_data"
    }
   ],
   "source": [
    "df = pd.crosstab(dataset['class'], dataset['alive'], normalize='index')\n",
    "df.plot(kind='bar', color=['gray', 'green'], figsize=(10, 8), rot=0)\n",
    "plt.title('Survival Rate per Ticket Class', fontsize=16)\n",
    "plt.xlabel('')\n",
    "plt.ylabel('Proportion of Demographic Survived');\n",
    "df"
   ]
  },
  {
   "cell_type": "markdown",
   "id": "a9e8da65",
   "metadata": {},
   "source": [
    "From the visualization above, we can see that 63% of first class ticket holders have survived the Titanic. Although there were more second class ticket holders that have died rather than survived, the difference between the number of people that have survived and died in the third class is drastic. Out of 491 third-class ticket holders, only 24% have survived."
   ]
  },
  {
   "cell_type": "code",
   "execution_count": 22,
   "id": "a5485dc0",
   "metadata": {
    "ExecuteTime": {
     "end_time": "2021-07-14T16:20:32.900726Z",
     "start_time": "2021-07-14T16:20:32.659590Z"
    }
   },
   "outputs": [
    {
     "name": "stdout",
     "output_type": "stream",
     "text": [
      "Optimization terminated successfully.\n",
      "         Current function value: 0.607805\n",
      "         Iterations 5\n"
     ]
    },
    {
     "data": {
      "text/html": [
       "<table class=\"simpletable\">\n",
       "<caption>Logit Regression Results</caption>\n",
       "<tr>\n",
       "  <th>Dep. Variable:</th>       <td>survived</td>     <th>  No. Observations:  </th>  <td>   891</td>  \n",
       "</tr>\n",
       "<tr>\n",
       "  <th>Model:</th>                 <td>Logit</td>      <th>  Df Residuals:      </th>  <td>   888</td>  \n",
       "</tr>\n",
       "<tr>\n",
       "  <th>Method:</th>                 <td>MLE</td>       <th>  Df Model:          </th>  <td>     2</td>  \n",
       "</tr>\n",
       "<tr>\n",
       "  <th>Date:</th>            <td>Wed, 14 Jul 2021</td> <th>  Pseudo R-squ.:     </th>  <td>0.08726</td> \n",
       "</tr>\n",
       "<tr>\n",
       "  <th>Time:</th>                <td>16:20:32</td>     <th>  Log-Likelihood:    </th> <td> -541.55</td> \n",
       "</tr>\n",
       "<tr>\n",
       "  <th>converged:</th>             <td>True</td>       <th>  LL-Null:           </th> <td> -593.33</td> \n",
       "</tr>\n",
       "<tr>\n",
       "  <th>Covariance Type:</th>     <td>nonrobust</td>    <th>  LLR p-value:       </th> <td>3.274e-23</td>\n",
       "</tr>\n",
       "</table>\n",
       "<table class=\"simpletable\">\n",
       "<tr>\n",
       "     <td></td>       <th>coef</th>     <th>std err</th>      <th>z</th>      <th>P>|z|</th>  <th>[0.025</th>    <th>0.975]</th>  \n",
       "</tr>\n",
       "<tr>\n",
       "  <th>const</th>  <td>   -1.1398</td> <td>    0.105</td> <td>  -10.822</td> <td> 0.000</td> <td>   -1.346</td> <td>   -0.933</td>\n",
       "</tr>\n",
       "<tr>\n",
       "  <th>First</th>  <td>    1.6704</td> <td>    0.176</td> <td>    9.496</td> <td> 0.000</td> <td>    1.326</td> <td>    2.015</td>\n",
       "</tr>\n",
       "<tr>\n",
       "  <th>Second</th> <td>    1.0310</td> <td>    0.181</td> <td>    5.684</td> <td> 0.000</td> <td>    0.675</td> <td>    1.386</td>\n",
       "</tr>\n",
       "</table>"
      ],
      "text/plain": [
       "<class 'statsmodels.iolib.summary.Summary'>\n",
       "\"\"\"\n",
       "                           Logit Regression Results                           \n",
       "==============================================================================\n",
       "Dep. Variable:               survived   No. Observations:                  891\n",
       "Model:                          Logit   Df Residuals:                      888\n",
       "Method:                           MLE   Df Model:                            2\n",
       "Date:                Wed, 14 Jul 2021   Pseudo R-squ.:                 0.08726\n",
       "Time:                        16:20:32   Log-Likelihood:                -541.55\n",
       "converged:                       True   LL-Null:                       -593.33\n",
       "Covariance Type:            nonrobust   LLR p-value:                 3.274e-23\n",
       "==============================================================================\n",
       "                 coef    std err          z      P>|z|      [0.025      0.975]\n",
       "------------------------------------------------------------------------------\n",
       "const         -1.1398      0.105    -10.822      0.000      -1.346      -0.933\n",
       "First          1.6704      0.176      9.496      0.000       1.326       2.015\n",
       "Second         1.0310      0.181      5.684      0.000       0.675       1.386\n",
       "==============================================================================\n",
       "\"\"\""
      ]
     },
     "execution_count": 22,
     "metadata": {},
     "output_type": "execute_result"
    }
   ],
   "source": [
    "# this code will yield an error when run more than once, as the variable names\n",
    "# of First and Second would change if the get_dummies() code is run again\n",
    "\n",
    "ticket_class = pd.get_dummies(dataset['class']) \n",
    "dataset = dataset.merge(ticket_class, left_index=True, right_index=True)\n",
    "model_2 = sm.Logit(dataset['survived'], \n",
    "                 sm.add_constant(dataset[['First', 'Second']])).fit()\n",
    "model_2.summary() # logistic regression model"
   ]
  },
  {
   "cell_type": "code",
   "execution_count": 23,
   "id": "939019bd",
   "metadata": {
    "ExecuteTime": {
     "end_time": "2021-07-14T16:20:32.913115Z",
     "start_time": "2021-07-14T16:20:32.905959Z"
    }
   },
   "outputs": [
    {
     "data": {
      "text/plain": [
       "const     0.319892\n",
       "First     5.314286\n",
       "Second    2.803777\n",
       "dtype: float64"
      ]
     },
     "execution_count": 23,
     "metadata": {},
     "output_type": "execute_result"
    }
   ],
   "source": [
    "np.exp(model_2.params)"
   ]
  },
  {
   "cell_type": "markdown",
   "id": "8d85cfff",
   "metadata": {},
   "source": [
    "From the logistic regression results above, we can see that rich people that has booked first class tickets have 5.3 times more odds of survival relative to third class passengers. On the other hand, second class passengers have 2.8 times more odds of survival relative to third class passengers. Lastly, the negative sign of the constant in the logistic regression model indicates that third class passengers have a decreasing effect on the probability of their survival from the Titanic."
   ]
  },
  {
   "cell_type": "code",
   "execution_count": null,
   "id": "31b45559",
   "metadata": {},
   "outputs": [],
   "source": []
  },
  {
   "cell_type": "markdown",
   "id": "e1809d17",
   "metadata": {
    "deletable": false,
    "editable": false,
    "nbgrader": {
     "cell_type": "markdown",
     "checksum": "731b8d42227e802ec12d3cf4a1fa01df",
     "grade": false,
     "grade_id": "cell-f8e750117e738135",
     "locked": true,
     "points": 1,
     "schema_version": 3,
     "solution": false,
     "task": true
    }
   },
   "source": [
    "#### Q15.\n",
    "\n",
    "One could make the argument that young people should be let on the lifeboats first, since they have more of life to look forward to!\n",
    "\n",
    "How would you quantitatively define \"young\" and \"old\"?\n",
    "\n",
    "Did a young person have a better chance of surviving the incident compared to an old person?"
   ]
  },
  {
   "cell_type": "code",
   "execution_count": 24,
   "id": "4a5d071b",
   "metadata": {
    "ExecuteTime": {
     "end_time": "2021-07-14T16:20:32.920664Z",
     "start_time": "2021-07-14T16:20:32.915153Z"
    }
   },
   "outputs": [
    {
     "name": "stdout",
     "output_type": "stream",
     "text": [
      "Oldest young person:  15.0\n"
     ]
    }
   ],
   "source": [
    "print('Oldest young person: ', dataset[dataset['who'] == 'child']['age'].max())"
   ]
  },
  {
   "cell_type": "code",
   "execution_count": 25,
   "id": "1bcd0a8b",
   "metadata": {
    "ExecuteTime": {
     "end_time": "2021-07-14T16:20:33.106966Z",
     "start_time": "2021-07-14T16:20:32.922154Z"
    }
   },
   "outputs": [
    {
     "data": {
      "text/html": [
       "<div>\n",
       "<style scoped>\n",
       "    .dataframe tbody tr th:only-of-type {\n",
       "        vertical-align: middle;\n",
       "    }\n",
       "\n",
       "    .dataframe tbody tr th {\n",
       "        vertical-align: top;\n",
       "    }\n",
       "\n",
       "    .dataframe thead th {\n",
       "        text-align: right;\n",
       "    }\n",
       "</style>\n",
       "<table border=\"1\" class=\"dataframe\">\n",
       "  <thead>\n",
       "    <tr style=\"text-align: right;\">\n",
       "      <th>alive</th>\n",
       "      <th>no</th>\n",
       "      <th>yes</th>\n",
       "    </tr>\n",
       "    <tr>\n",
       "      <th>child</th>\n",
       "      <th></th>\n",
       "      <th></th>\n",
       "    </tr>\n",
       "  </thead>\n",
       "  <tbody>\n",
       "    <tr>\n",
       "      <th>old</th>\n",
       "      <td>0.637376</td>\n",
       "      <td>0.362624</td>\n",
       "    </tr>\n",
       "    <tr>\n",
       "      <th>young</th>\n",
       "      <td>0.409639</td>\n",
       "      <td>0.590361</td>\n",
       "    </tr>\n",
       "  </tbody>\n",
       "</table>\n",
       "</div>"
      ],
      "text/plain": [
       "alive        no       yes\n",
       "child                    \n",
       "old    0.637376  0.362624\n",
       "young  0.409639  0.590361"
      ]
     },
     "execution_count": 25,
     "metadata": {},
     "output_type": "execute_result"
    },
    {
     "data": {
      "image/png": "[encoded data removed]",
      "text/plain": [
       "<Figure size 720x576 with 1 Axes>"
      ]
     },
     "metadata": {
      "needs_background": "light"
     },
     "output_type": "display_data"
    }
   ],
   "source": [
    "df = pd.crosstab(dataset['child'], dataset['alive'], normalize='index')\n",
    "df = df.rename(index={0: 'old', 1: 'young'})\n",
    "df.plot(kind='bar', color=['gray', 'green'], figsize=(10, 8), rot=0)\n",
    "plt.title('Survival Rate of Young and Old People (<=15 yrs are young)', \n",
    "          fontsize=16)\n",
    "plt.xlabel('')\n",
    "plt.ylabel('Proportion of Demographic Survived');\n",
    "df"
   ]
  },
  {
   "cell_type": "markdown",
   "id": "3a5abcf4",
   "metadata": {},
   "source": [
    "From the visualization above, we can see that more young people aged 15 years old or below have survived the Titanic relative to older people aged 16 years old and beyond. Out of all the young people aged 15 years old or below, 59% has survived. However, 60% of people aged 16 years old and above did not survive from the Titanic."
   ]
  },
  {
   "cell_type": "code",
   "execution_count": 26,
   "id": "bc44a8b6",
   "metadata": {
    "ExecuteTime": {
     "end_time": "2021-07-14T16:20:33.384884Z",
     "start_time": "2021-07-14T16:20:33.110073Z"
    }
   },
   "outputs": [
    {
     "name": "stdout",
     "output_type": "stream",
     "text": [
      "Optimization terminated successfully.\n",
      "         Current function value: 0.656945\n",
      "         Iterations 4\n"
     ]
    },
    {
     "data": {
      "text/html": [
       "<table class=\"simpletable\">\n",
       "<caption>Logit Regression Results</caption>\n",
       "<tr>\n",
       "  <th>Dep. Variable:</th>       <td>survived</td>     <th>  No. Observations:  </th>  <td>   891</td>  \n",
       "</tr>\n",
       "<tr>\n",
       "  <th>Model:</th>                 <td>Logit</td>      <th>  Df Residuals:      </th>  <td>   889</td>  \n",
       "</tr>\n",
       "<tr>\n",
       "  <th>Method:</th>                 <td>MLE</td>       <th>  Df Model:          </th>  <td>     1</td>  \n",
       "</tr>\n",
       "<tr>\n",
       "  <th>Date:</th>            <td>Wed, 14 Jul 2021</td> <th>  Pseudo R-squ.:     </th>  <td>0.01347</td> \n",
       "</tr>\n",
       "<tr>\n",
       "  <th>Time:</th>                <td>16:20:33</td>     <th>  Log-Likelihood:    </th> <td> -585.34</td> \n",
       "</tr>\n",
       "<tr>\n",
       "  <th>converged:</th>             <td>True</td>       <th>  LL-Null:           </th> <td> -593.33</td> \n",
       "</tr>\n",
       "<tr>\n",
       "  <th>Covariance Type:</th>     <td>nonrobust</td>    <th>  LLR p-value:       </th> <td>6.404e-05</td>\n",
       "</tr>\n",
       "</table>\n",
       "<table class=\"simpletable\">\n",
       "<tr>\n",
       "    <td></td>       <th>coef</th>     <th>std err</th>      <th>z</th>      <th>P>|z|</th>  <th>[0.025</th>    <th>0.975]</th>  \n",
       "</tr>\n",
       "<tr>\n",
       "  <th>const</th> <td>   -0.5640</td> <td>    0.073</td> <td>   -7.707</td> <td> 0.000</td> <td>   -0.707</td> <td>   -0.421</td>\n",
       "</tr>\n",
       "<tr>\n",
       "  <th>child</th> <td>    0.9295</td> <td>    0.235</td> <td>    3.957</td> <td> 0.000</td> <td>    0.469</td> <td>    1.390</td>\n",
       "</tr>\n",
       "</table>"
      ],
      "text/plain": [
       "<class 'statsmodels.iolib.summary.Summary'>\n",
       "\"\"\"\n",
       "                           Logit Regression Results                           \n",
       "==============================================================================\n",
       "Dep. Variable:               survived   No. Observations:                  891\n",
       "Model:                          Logit   Df Residuals:                      889\n",
       "Method:                           MLE   Df Model:                            1\n",
       "Date:                Wed, 14 Jul 2021   Pseudo R-squ.:                 0.01347\n",
       "Time:                        16:20:33   Log-Likelihood:                -585.34\n",
       "converged:                       True   LL-Null:                       -593.33\n",
       "Covariance Type:            nonrobust   LLR p-value:                 6.404e-05\n",
       "==============================================================================\n",
       "                 coef    std err          z      P>|z|      [0.025      0.975]\n",
       "------------------------------------------------------------------------------\n",
       "const         -0.5640      0.073     -7.707      0.000      -0.707      -0.421\n",
       "child          0.9295      0.235      3.957      0.000       0.469       1.390\n",
       "==============================================================================\n",
       "\"\"\""
      ]
     },
     "execution_count": 26,
     "metadata": {},
     "output_type": "execute_result"
    }
   ],
   "source": [
    "model_3 = sm.Logit(dataset['survived'], \n",
    "                   sm.add_constant(dataset['child'])).fit()\n",
    "model_3.summary() "
   ]
  },
  {
   "cell_type": "code",
   "execution_count": 27,
   "id": "0715b93a",
   "metadata": {
    "ExecuteTime": {
     "end_time": "2021-07-14T16:20:33.395780Z",
     "start_time": "2021-07-14T16:20:33.387276Z"
    }
   },
   "outputs": [
    {
     "data": {
      "text/plain": [
       "const    0.568932\n",
       "child    2.533126\n",
       "dtype: float64"
      ]
     },
     "execution_count": 27,
     "metadata": {},
     "output_type": "execute_result"
    }
   ],
   "source": [
    "np.exp(model_3.params)"
   ]
  },
  {
   "cell_type": "markdown",
   "id": "79e17ec0",
   "metadata": {
    "ExecuteTime": {
     "end_time": "2021-07-14T15:53:51.099666Z",
     "start_time": "2021-07-14T15:53:51.091055Z"
    }
   },
   "source": [
    "From the result of the logistic regression model above, young people aged 15 years old and below have twice more odds of surviving the Titanic relative to older people aged 16 years old and above. The negative constant of the logistic regression model would show a decreasing effect on the probability of survival of old people."
   ]
  },
  {
   "cell_type": "code",
   "execution_count": null,
   "id": "a3d55e83",
   "metadata": {},
   "outputs": [],
   "source": []
  },
  {
   "cell_type": "markdown",
   "id": "6e6f94d5",
   "metadata": {
    "deletable": false,
    "editable": false,
    "nbgrader": {
     "cell_type": "markdown",
     "checksum": "d36b3a37104aa3f531a5c21d55830e33",
     "grade": false,
     "grade_id": "cell-d98d9f79c76c80f9",
     "locked": true,
     "points": 1,
     "schema_version": 3,
     "solution": false,
     "task": true
    }
   },
   "source": [
    "#### Q16.\n",
    "\n",
    "Were there families traveling together?\n",
    "\n",
    "How would you estimate the number of families on board the ship?"
   ]
  },
  {
   "cell_type": "markdown",
   "id": "0b7b7c01",
   "metadata": {},
   "source": [
    "From the data dictionary, the column ``sibsp`` refers to the number of siblings or spouses that a particular passenger brought to the Titanic whereas the column ``parch`` refers to the number of parents or children aboard the Titanic. With these definitions, we considered any passenger having their sibling, spouse, parent, or children along with them as a passenger travelling with their family. By applying the code above, we are able to estimate that there are 354 passengers travelling with families that boarded the Titanic."
   ]
  },
  {
   "cell_type": "code",
   "execution_count": 28,
   "id": "52f4370f",
   "metadata": {
    "ExecuteTime": {
     "end_time": "2021-07-14T16:20:33.408291Z",
     "start_time": "2021-07-14T16:20:33.398185Z"
    }
   },
   "outputs": [
    {
     "data": {
      "text/plain": [
       "354"
      ]
     },
     "execution_count": 28,
     "metadata": {},
     "output_type": "execute_result"
    }
   ],
   "source": [
    "mask = (dataset['sibsp'] > 0) | (dataset['parch'] > 0)\n",
    "# to get the number of passengers that travelled with their families\n",
    "passenger_with_fam = dataset[mask].shape[0] \n",
    "passenger_with_fam"
   ]
  },
  {
   "cell_type": "markdown",
   "id": "f903db60",
   "metadata": {},
   "source": [
    "Since we want to calculate the number of families, we need to divide 354 by the average number of family members that these 354 passengers have brought into the Titanic (as they are assumed to be accounted for as well in this dataset).\n",
    "\n",
    "With this, we take the mean of the ``sibsp`` and ``parch`` columns and then add these two values to get the total number of family members that each individual has brought into the Titanic."
   ]
  },
  {
   "cell_type": "code",
   "execution_count": 29,
   "id": "0888005e",
   "metadata": {
    "ExecuteTime": {
     "end_time": "2021-07-14T16:20:33.429073Z",
     "start_time": "2021-07-14T16:20:33.412280Z"
    }
   },
   "outputs": [
    {
     "data": {
      "text/plain": [
       "2.2768361581920904"
      ]
     },
     "execution_count": 29,
     "metadata": {},
     "output_type": "execute_result"
    }
   ],
   "source": [
    "# average number of sibsp and parch\n",
    "ave = dataset[mask][['sibsp', 'parch']].mean()\n",
    "total_fam_members_per_individual = ave.sum()\n",
    "total_fam_members_per_individual # we round this up"
   ]
  },
  {
   "cell_type": "markdown",
   "id": "89d4aa47",
   "metadata": {},
   "source": [
    "We now divide the number of passengers in the Titanic by the estimated total number of family members per individual to get the total number of families on board."
   ]
  },
  {
   "cell_type": "code",
   "execution_count": 30,
   "id": "70571514",
   "metadata": {
    "ExecuteTime": {
     "end_time": "2021-07-14T16:20:33.437514Z",
     "start_time": "2021-07-14T16:20:33.431734Z"
    }
   },
   "outputs": [
    {
     "data": {
      "text/plain": [
       "118.0"
      ]
     },
     "execution_count": 30,
     "metadata": {},
     "output_type": "execute_result"
    }
   ],
   "source": [
    "import math\n",
    "passenger_with_fam / math.ceil(total_fam_members_per_individual)"
   ]
  },
  {
   "cell_type": "markdown",
   "id": "f1760321",
   "metadata": {
    "ExecuteTime": {
     "end_time": "2021-07-14T15:54:44.698566Z",
     "start_time": "2021-07-14T15:54:44.691967Z"
    }
   },
   "source": [
    "*Hence*, we estimate that there are 118 families that are in the Titanic."
   ]
  },
  {
   "cell_type": "code",
   "execution_count": null,
   "id": "4b2536ea",
   "metadata": {},
   "outputs": [],
   "source": []
  },
  {
   "cell_type": "markdown",
   "id": "ea0a8da9",
   "metadata": {
    "deletable": false,
    "editable": false,
    "nbgrader": {
     "cell_type": "markdown",
     "checksum": "df6a74100abbaa43085665719b615809",
     "grade": false,
     "grade_id": "cell-72f34359365463be",
     "locked": true,
     "points": 4,
     "schema_version": 3,
     "solution": false,
     "task": true
    }
   },
   "source": [
    "## Insight\n",
    "\n",
    "Data scientists are like alchemists: building machine learning models looks like magic and our job is to turn data into gold. \n",
    "\n",
    "The \"gold\" we make could literally refer to profit of the companies we work for, but more generally, it refers to the insights we glean from data that allow stakeholders to make better decisions. This leads to things like lower costs, quality improvements to services, etc. (which leads to more profit at the end of the day anyway)\n",
    "\n",
    "#### Q17.\n",
    "\n",
    "Based on the dataset, surface <b><u>one insight</b></u>, i.e. make a statement and defend it using the data.\n",
    "\n",
    "The insight does not have to be about survival rates. It can be anything interesting, impactful, contrary to a person's intuition, etc."
   ]
  },
  {
   "cell_type": "code",
   "execution_count": 31,
   "id": "00be39dd",
   "metadata": {
    "ExecuteTime": {
     "end_time": "2021-07-14T16:20:33.485529Z",
     "start_time": "2021-07-14T16:20:33.440055Z"
    }
   },
   "outputs": [
    {
     "data": {
      "text/html": [
       "<div>\n",
       "<style scoped>\n",
       "    .dataframe tbody tr th:only-of-type {\n",
       "        vertical-align: middle;\n",
       "    }\n",
       "\n",
       "    .dataframe tbody tr th {\n",
       "        vertical-align: top;\n",
       "    }\n",
       "\n",
       "    .dataframe thead th {\n",
       "        text-align: right;\n",
       "    }\n",
       "</style>\n",
       "<table border=\"1\" class=\"dataframe\">\n",
       "  <thead>\n",
       "    <tr style=\"text-align: right;\">\n",
       "      <th></th>\n",
       "      <th>survived</th>\n",
       "      <th>pclass</th>\n",
       "      <th>sex</th>\n",
       "      <th>age</th>\n",
       "      <th>sibsp</th>\n",
       "      <th>parch</th>\n",
       "      <th>fare</th>\n",
       "      <th>embarked</th>\n",
       "      <th>class</th>\n",
       "      <th>who</th>\n",
       "      <th>...</th>\n",
       "      <th>embark_town</th>\n",
       "      <th>alive</th>\n",
       "      <th>alone</th>\n",
       "      <th>child</th>\n",
       "      <th>man</th>\n",
       "      <th>woman</th>\n",
       "      <th>First</th>\n",
       "      <th>Second</th>\n",
       "      <th>Third</th>\n",
       "      <th>family</th>\n",
       "    </tr>\n",
       "  </thead>\n",
       "  <tbody>\n",
       "    <tr>\n",
       "      <th>0</th>\n",
       "      <td>0</td>\n",
       "      <td>3</td>\n",
       "      <td>male</td>\n",
       "      <td>22.0</td>\n",
       "      <td>1</td>\n",
       "      <td>0</td>\n",
       "      <td>7.2500</td>\n",
       "      <td>S</td>\n",
       "      <td>Third</td>\n",
       "      <td>man</td>\n",
       "      <td>...</td>\n",
       "      <td>Southampton</td>\n",
       "      <td>no</td>\n",
       "      <td>False</td>\n",
       "      <td>0</td>\n",
       "      <td>1</td>\n",
       "      <td>0</td>\n",
       "      <td>0</td>\n",
       "      <td>0</td>\n",
       "      <td>1</td>\n",
       "      <td>Yes</td>\n",
       "    </tr>\n",
       "    <tr>\n",
       "      <th>1</th>\n",
       "      <td>1</td>\n",
       "      <td>1</td>\n",
       "      <td>female</td>\n",
       "      <td>38.0</td>\n",
       "      <td>1</td>\n",
       "      <td>0</td>\n",
       "      <td>71.2833</td>\n",
       "      <td>C</td>\n",
       "      <td>First</td>\n",
       "      <td>woman</td>\n",
       "      <td>...</td>\n",
       "      <td>Cherbourg</td>\n",
       "      <td>yes</td>\n",
       "      <td>False</td>\n",
       "      <td>0</td>\n",
       "      <td>0</td>\n",
       "      <td>1</td>\n",
       "      <td>1</td>\n",
       "      <td>0</td>\n",
       "      <td>0</td>\n",
       "      <td>Yes</td>\n",
       "    </tr>\n",
       "    <tr>\n",
       "      <th>2</th>\n",
       "      <td>1</td>\n",
       "      <td>3</td>\n",
       "      <td>female</td>\n",
       "      <td>26.0</td>\n",
       "      <td>0</td>\n",
       "      <td>0</td>\n",
       "      <td>7.9250</td>\n",
       "      <td>S</td>\n",
       "      <td>Third</td>\n",
       "      <td>woman</td>\n",
       "      <td>...</td>\n",
       "      <td>Southampton</td>\n",
       "      <td>yes</td>\n",
       "      <td>True</td>\n",
       "      <td>0</td>\n",
       "      <td>0</td>\n",
       "      <td>1</td>\n",
       "      <td>0</td>\n",
       "      <td>0</td>\n",
       "      <td>1</td>\n",
       "      <td>No</td>\n",
       "    </tr>\n",
       "    <tr>\n",
       "      <th>3</th>\n",
       "      <td>1</td>\n",
       "      <td>1</td>\n",
       "      <td>female</td>\n",
       "      <td>35.0</td>\n",
       "      <td>1</td>\n",
       "      <td>0</td>\n",
       "      <td>53.1000</td>\n",
       "      <td>S</td>\n",
       "      <td>First</td>\n",
       "      <td>woman</td>\n",
       "      <td>...</td>\n",
       "      <td>Southampton</td>\n",
       "      <td>yes</td>\n",
       "      <td>False</td>\n",
       "      <td>0</td>\n",
       "      <td>0</td>\n",
       "      <td>1</td>\n",
       "      <td>1</td>\n",
       "      <td>0</td>\n",
       "      <td>0</td>\n",
       "      <td>Yes</td>\n",
       "    </tr>\n",
       "    <tr>\n",
       "      <th>4</th>\n",
       "      <td>0</td>\n",
       "      <td>3</td>\n",
       "      <td>male</td>\n",
       "      <td>35.0</td>\n",
       "      <td>0</td>\n",
       "      <td>0</td>\n",
       "      <td>8.0500</td>\n",
       "      <td>S</td>\n",
       "      <td>Third</td>\n",
       "      <td>man</td>\n",
       "      <td>...</td>\n",
       "      <td>Southampton</td>\n",
       "      <td>no</td>\n",
       "      <td>True</td>\n",
       "      <td>0</td>\n",
       "      <td>1</td>\n",
       "      <td>0</td>\n",
       "      <td>0</td>\n",
       "      <td>0</td>\n",
       "      <td>1</td>\n",
       "      <td>No</td>\n",
       "    </tr>\n",
       "    <tr>\n",
       "      <th>5</th>\n",
       "      <td>0</td>\n",
       "      <td>3</td>\n",
       "      <td>male</td>\n",
       "      <td>NaN</td>\n",
       "      <td>0</td>\n",
       "      <td>0</td>\n",
       "      <td>8.4583</td>\n",
       "      <td>Q</td>\n",
       "      <td>Third</td>\n",
       "      <td>man</td>\n",
       "      <td>...</td>\n",
       "      <td>Queenstown</td>\n",
       "      <td>no</td>\n",
       "      <td>True</td>\n",
       "      <td>0</td>\n",
       "      <td>1</td>\n",
       "      <td>0</td>\n",
       "      <td>0</td>\n",
       "      <td>0</td>\n",
       "      <td>1</td>\n",
       "      <td>No</td>\n",
       "    </tr>\n",
       "    <tr>\n",
       "      <th>6</th>\n",
       "      <td>0</td>\n",
       "      <td>1</td>\n",
       "      <td>male</td>\n",
       "      <td>54.0</td>\n",
       "      <td>0</td>\n",
       "      <td>0</td>\n",
       "      <td>51.8625</td>\n",
       "      <td>S</td>\n",
       "      <td>First</td>\n",
       "      <td>man</td>\n",
       "      <td>...</td>\n",
       "      <td>Southampton</td>\n",
       "      <td>no</td>\n",
       "      <td>True</td>\n",
       "      <td>0</td>\n",
       "      <td>1</td>\n",
       "      <td>0</td>\n",
       "      <td>1</td>\n",
       "      <td>0</td>\n",
       "      <td>0</td>\n",
       "      <td>No</td>\n",
       "    </tr>\n",
       "    <tr>\n",
       "      <th>7</th>\n",
       "      <td>0</td>\n",
       "      <td>3</td>\n",
       "      <td>male</td>\n",
       "      <td>2.0</td>\n",
       "      <td>3</td>\n",
       "      <td>1</td>\n",
       "      <td>21.0750</td>\n",
       "      <td>S</td>\n",
       "      <td>Third</td>\n",
       "      <td>child</td>\n",
       "      <td>...</td>\n",
       "      <td>Southampton</td>\n",
       "      <td>no</td>\n",
       "      <td>False</td>\n",
       "      <td>1</td>\n",
       "      <td>0</td>\n",
       "      <td>0</td>\n",
       "      <td>0</td>\n",
       "      <td>0</td>\n",
       "      <td>1</td>\n",
       "      <td>Yes</td>\n",
       "    </tr>\n",
       "    <tr>\n",
       "      <th>8</th>\n",
       "      <td>1</td>\n",
       "      <td>3</td>\n",
       "      <td>female</td>\n",
       "      <td>27.0</td>\n",
       "      <td>0</td>\n",
       "      <td>2</td>\n",
       "      <td>11.1333</td>\n",
       "      <td>S</td>\n",
       "      <td>Third</td>\n",
       "      <td>woman</td>\n",
       "      <td>...</td>\n",
       "      <td>Southampton</td>\n",
       "      <td>yes</td>\n",
       "      <td>False</td>\n",
       "      <td>0</td>\n",
       "      <td>0</td>\n",
       "      <td>1</td>\n",
       "      <td>0</td>\n",
       "      <td>0</td>\n",
       "      <td>1</td>\n",
       "      <td>Yes</td>\n",
       "    </tr>\n",
       "    <tr>\n",
       "      <th>9</th>\n",
       "      <td>1</td>\n",
       "      <td>2</td>\n",
       "      <td>female</td>\n",
       "      <td>14.0</td>\n",
       "      <td>1</td>\n",
       "      <td>0</td>\n",
       "      <td>30.0708</td>\n",
       "      <td>C</td>\n",
       "      <td>Second</td>\n",
       "      <td>child</td>\n",
       "      <td>...</td>\n",
       "      <td>Cherbourg</td>\n",
       "      <td>yes</td>\n",
       "      <td>False</td>\n",
       "      <td>1</td>\n",
       "      <td>0</td>\n",
       "      <td>0</td>\n",
       "      <td>0</td>\n",
       "      <td>1</td>\n",
       "      <td>0</td>\n",
       "      <td>Yes</td>\n",
       "    </tr>\n",
       "  </tbody>\n",
       "</table>\n",
       "<p>10 rows × 22 columns</p>\n",
       "</div>"
      ],
      "text/plain": [
       "   survived  pclass     sex   age  sibsp  parch     fare embarked   class  \\\n",
       "0         0       3    male  22.0      1      0   7.2500        S   Third   \n",
       "1         1       1  female  38.0      1      0  71.2833        C   First   \n",
       "2         1       3  female  26.0      0      0   7.9250        S   Third   \n",
       "3         1       1  female  35.0      1      0  53.1000        S   First   \n",
       "4         0       3    male  35.0      0      0   8.0500        S   Third   \n",
       "5         0       3    male   NaN      0      0   8.4583        Q   Third   \n",
       "6         0       1    male  54.0      0      0  51.8625        S   First   \n",
       "7         0       3    male   2.0      3      1  21.0750        S   Third   \n",
       "8         1       3  female  27.0      0      2  11.1333        S   Third   \n",
       "9         1       2  female  14.0      1      0  30.0708        C  Second   \n",
       "\n",
       "     who  ...  embark_town alive  alone child  man  woman  First  Second  \\\n",
       "0    man  ...  Southampton    no  False     0    1      0      0       0   \n",
       "1  woman  ...    Cherbourg   yes  False     0    0      1      1       0   \n",
       "2  woman  ...  Southampton   yes   True     0    0      1      0       0   \n",
       "3  woman  ...  Southampton   yes  False     0    0      1      1       0   \n",
       "4    man  ...  Southampton    no   True     0    1      0      0       0   \n",
       "5    man  ...   Queenstown    no   True     0    1      0      0       0   \n",
       "6    man  ...  Southampton    no   True     0    1      0      1       0   \n",
       "7  child  ...  Southampton    no  False     1    0      0      0       0   \n",
       "8  woman  ...  Southampton   yes  False     0    0      1      0       0   \n",
       "9  child  ...    Cherbourg   yes  False     1    0      0      0       1   \n",
       "\n",
       "   Third  family  \n",
       "0      1     Yes  \n",
       "1      0     Yes  \n",
       "2      1      No  \n",
       "3      0     Yes  \n",
       "4      1      No  \n",
       "5      1      No  \n",
       "6      0      No  \n",
       "7      1     Yes  \n",
       "8      1     Yes  \n",
       "9      0     Yes  \n",
       "\n",
       "[10 rows x 22 columns]"
      ]
     },
     "execution_count": 31,
     "metadata": {},
     "output_type": "execute_result"
    }
   ],
   "source": [
    "def family(sibsp, parch):\n",
    "    if sibsp > 0 or parch > 0:\n",
    "        return 'Yes'\n",
    "    else:\n",
    "        return 'No'\n",
    "\n",
    "dataset['family'] = dataset.apply(lambda x: family(x['sibsp'], x['parch']),\n",
    "                                  axis=1)\n",
    "dataset.head(10)"
   ]
  },
  {
   "cell_type": "code",
   "execution_count": 32,
   "id": "b20e7aa9",
   "metadata": {
    "ExecuteTime": {
     "end_time": "2021-07-14T16:20:33.683054Z",
     "start_time": "2021-07-14T16:20:33.487238Z"
    }
   },
   "outputs": [
    {
     "data": {
      "text/html": [
       "<div>\n",
       "<style scoped>\n",
       "    .dataframe tbody tr th:only-of-type {\n",
       "        vertical-align: middle;\n",
       "    }\n",
       "\n",
       "    .dataframe tbody tr th {\n",
       "        vertical-align: top;\n",
       "    }\n",
       "\n",
       "    .dataframe thead th {\n",
       "        text-align: right;\n",
       "    }\n",
       "</style>\n",
       "<table border=\"1\" class=\"dataframe\">\n",
       "  <thead>\n",
       "    <tr style=\"text-align: right;\">\n",
       "      <th>alive</th>\n",
       "      <th>no</th>\n",
       "      <th>yes</th>\n",
       "    </tr>\n",
       "    <tr>\n",
       "      <th>family</th>\n",
       "      <th></th>\n",
       "      <th></th>\n",
       "    </tr>\n",
       "  </thead>\n",
       "  <tbody>\n",
       "    <tr>\n",
       "      <th>Boarded alone</th>\n",
       "      <td>0.696462</td>\n",
       "      <td>0.303538</td>\n",
       "    </tr>\n",
       "    <tr>\n",
       "      <th>Boarded with family</th>\n",
       "      <td>0.494350</td>\n",
       "      <td>0.505650</td>\n",
       "    </tr>\n",
       "  </tbody>\n",
       "</table>\n",
       "</div>"
      ],
      "text/plain": [
       "alive                      no       yes\n",
       "family                                 \n",
       "Boarded alone        0.696462  0.303538\n",
       "Boarded with family  0.494350  0.505650"
      ]
     },
     "execution_count": 32,
     "metadata": {},
     "output_type": "execute_result"
    },
    {
     "data": {
      "image/png": "[encoded data removed]",
      "text/plain": [
       "<Figure size 720x576 with 1 Axes>"
      ]
     },
     "metadata": {
      "needs_background": "light"
     },
     "output_type": "display_data"
    }
   ],
   "source": [
    "df = pd.crosstab(dataset['family'], dataset['alive'], normalize='index')\n",
    "df = df.rename(index={'No': 'Boarded alone', 'Yes': 'Boarded with family'})\n",
    "df.plot(kind='bar', color=['gray', 'green'], figsize=(10, 8), rot=0)\n",
    "plt.title('Survival Rates of Solo and Family Travellers', fontsize=16)\n",
    "plt.xlabel('')\n",
    "plt.ylabel('Proportion of Demographic');\n",
    "df"
   ]
  },
  {
   "cell_type": "markdown",
   "id": "713d07b7",
   "metadata": {
    "ExecuteTime": {
     "end_time": "2021-07-14T15:55:45.524993Z",
     "start_time": "2021-07-14T15:55:45.515597Z"
    }
   },
   "source": [
    "From the visualization above, we can see that close to 70% of individuals that boarded the Titanic alone (without their families) have died. There seems to be an equal number of passengers who boarded the Titanic with their families which survived and died. Perhaps this could have been the case as passengers that were alone were prioritized lower (on the allocation for lifeboat space) compared to those passengers that brought along their families with them, which may have included children as well."
   ]
  },
  {
   "cell_type": "code",
   "execution_count": 33,
   "id": "2d835207",
   "metadata": {
    "ExecuteTime": {
     "end_time": "2021-07-14T16:20:33.983988Z",
     "start_time": "2021-07-14T16:20:33.684749Z"
    }
   },
   "outputs": [
    {
     "name": "stdout",
     "output_type": "stream",
     "text": [
      "Optimization terminated successfully.\n",
      "         Current function value: 0.645319\n",
      "         Iterations 5\n"
     ]
    },
    {
     "data": {
      "text/html": [
       "<table class=\"simpletable\">\n",
       "<caption>Logit Regression Results</caption>\n",
       "<tr>\n",
       "  <th>Dep. Variable:</th>       <td>survived</td>     <th>  No. Observations:  </th>  <td>   891</td>  \n",
       "</tr>\n",
       "<tr>\n",
       "  <th>Model:</th>                 <td>Logit</td>      <th>  Df Residuals:      </th>  <td>   889</td>  \n",
       "</tr>\n",
       "<tr>\n",
       "  <th>Method:</th>                 <td>MLE</td>       <th>  Df Model:          </th>  <td>     1</td>  \n",
       "</tr>\n",
       "<tr>\n",
       "  <th>Date:</th>            <td>Wed, 14 Jul 2021</td> <th>  Pseudo R-squ.:     </th>  <td>0.03092</td> \n",
       "</tr>\n",
       "<tr>\n",
       "  <th>Time:</th>                <td>16:20:33</td>     <th>  Log-Likelihood:    </th> <td> -574.98</td> \n",
       "</tr>\n",
       "<tr>\n",
       "  <th>converged:</th>             <td>True</td>       <th>  LL-Null:           </th> <td> -593.33</td> \n",
       "</tr>\n",
       "<tr>\n",
       "  <th>Covariance Type:</th>     <td>nonrobust</td>    <th>  LLR p-value:       </th> <td>1.381e-09</td>\n",
       "</tr>\n",
       "</table>\n",
       "<table class=\"simpletable\">\n",
       "<tr>\n",
       "     <td></td>       <th>coef</th>     <th>std err</th>      <th>z</th>      <th>P>|z|</th>  <th>[0.025</th>    <th>0.975]</th>  \n",
       "</tr>\n",
       "<tr>\n",
       "  <th>const</th>  <td>   -0.8305</td> <td>    0.094</td> <td>   -8.849</td> <td> 0.000</td> <td>   -1.014</td> <td>   -0.647</td>\n",
       "</tr>\n",
       "<tr>\n",
       "  <th>family</th> <td>    0.8531</td> <td>    0.142</td> <td>    6.016</td> <td> 0.000</td> <td>    0.575</td> <td>    1.131</td>\n",
       "</tr>\n",
       "</table>"
      ],
      "text/plain": [
       "<class 'statsmodels.iolib.summary.Summary'>\n",
       "\"\"\"\n",
       "                           Logit Regression Results                           \n",
       "==============================================================================\n",
       "Dep. Variable:               survived   No. Observations:                  891\n",
       "Model:                          Logit   Df Residuals:                      889\n",
       "Method:                           MLE   Df Model:                            1\n",
       "Date:                Wed, 14 Jul 2021   Pseudo R-squ.:                 0.03092\n",
       "Time:                        16:20:33   Log-Likelihood:                -574.98\n",
       "converged:                       True   LL-Null:                       -593.33\n",
       "Covariance Type:            nonrobust   LLR p-value:                 1.381e-09\n",
       "==============================================================================\n",
       "                 coef    std err          z      P>|z|      [0.025      0.975]\n",
       "------------------------------------------------------------------------------\n",
       "const         -0.8305      0.094     -8.849      0.000      -1.014      -0.647\n",
       "family         0.8531      0.142      6.016      0.000       0.575       1.131\n",
       "==============================================================================\n",
       "\"\"\""
      ]
     },
     "execution_count": 33,
     "metadata": {},
     "output_type": "execute_result"
    }
   ],
   "source": [
    "dataset = dataset.replace({'family': {'Yes': 1, 'No': 0}})\n",
    "model_4 = sm.Logit(dataset['survived'], \n",
    "                   sm.add_constant(dataset['family'])).fit()\n",
    "model_4.summary() "
   ]
  },
  {
   "cell_type": "code",
   "execution_count": 34,
   "id": "104b27c4",
   "metadata": {
    "ExecuteTime": {
     "end_time": "2021-07-14T16:20:33.998570Z",
     "start_time": "2021-07-14T16:20:33.987674Z"
    }
   },
   "outputs": [
    {
     "data": {
      "text/plain": [
       "const     0.435829\n",
       "family    2.346924\n",
       "dtype: float64"
      ]
     },
     "execution_count": 34,
     "metadata": {},
     "output_type": "execute_result"
    }
   ],
   "source": [
    "np.exp(model_4.params)"
   ]
  },
  {
   "cell_type": "markdown",
   "id": "f6192f52",
   "metadata": {},
   "source": [
    "From the result of the logistic regression model, it can be seen that passengers that brought along their families with them have twice more odds of survival relative to those that did not."
   ]
  },
  {
   "cell_type": "code",
   "execution_count": null,
   "id": "35c3e38d",
   "metadata": {},
   "outputs": [],
   "source": []
  }
 ],
 "metadata": {
  "kernelspec": {
   "display_name": "Python 3",
   "language": "python",
   "name": "python3"
  },
  "language_info": {
   "codemirror_mode": {
    "name": "ipython",
    "version": 3
   },
   "file_extension": ".py",
   "mimetype": "text/x-python",
   "name": "python",
   "nbconvert_exporter": "python",
   "pygments_lexer": "ipython3",
   "version": "3.8.10"
  }
 },
 "nbformat": 4,
 "nbformat_minor": 5
}
