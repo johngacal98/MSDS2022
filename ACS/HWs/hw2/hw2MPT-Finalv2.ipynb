{
 "cells": [
  {
   "cell_type": "markdown",
   "id": "048802ba",
   "metadata": {
    "deletable": false,
    "editable": false,
    "nbgrader": {
     "cell_type": "markdown",
     "checksum": "0fa5fb70ecd524628fc8d5b46251ef3e",
     "grade": false,
     "grade_id": "cell-322b0fa60161cc99",
     "locked": true,
     "schema_version": 3,
     "solution": false,
     "task": false
    }
   },
   "source": [
    "# Applied Computational Statistics (ACS)\n",
    "\n",
    "## HW2\n",
    "\n",
    "Submit your answers by <b>LT</b>."
   ]
  },
  {
   "cell_type": "code",
   "execution_count": 37,
   "id": "179666d1",
   "metadata": {
    "ExecuteTime": {
     "end_time": "2021-07-27T15:10:53.231317Z",
     "start_time": "2021-07-27T15:10:53.227184Z"
    },
    "deletable": false,
    "editable": false,
    "nbgrader": {
     "cell_type": "code",
     "checksum": "31790d6cdd9b084e6095f86f12b24125",
     "grade": false,
     "grade_id": "cell-5e18aaf54d5f269d",
     "locked": true,
     "schema_version": 3,
     "solution": false,
     "task": false
    }
   },
   "outputs": [],
   "source": [
    "import numpy as np\n",
    "import pandas as pd\n",
    "import matplotlib.pyplot as plt\n",
    "import seaborn as sns\n",
    "from scipy.stats import norm\n",
    "from itertools import permutations # You can use this for Q8\n",
    "\n",
    "plt.rcParams['figure.figsize'] = [10, 7.5]\n",
    "\n",
    "np.set_printoptions(precision=6)\n",
    "pd.set_option('display.precision', 6)\n",
    "\n",
    "atol = 1e-06\n",
    "rtol = 1e-05"
   ]
  },
  {
   "cell_type": "markdown",
   "id": "2d220f76",
   "metadata": {
    "deletable": false,
    "editable": false,
    "nbgrader": {
     "cell_type": "markdown",
     "checksum": "0e0f30825a920323aeea228353b15fd3",
     "grade": false,
     "grade_id": "cell-d469e7a7e9aee1ea",
     "locked": true,
     "schema_version": 3,
     "solution": false,
     "task": false
    }
   },
   "source": [
    "---\n",
    "\n",
    "## Modern Portfolio Theory\n",
    "\n",
    "Suppose that you've been hired by BDO Private Bank to manage the investment portfolio of a particular client.\n",
    "\n",
    "The client has expressed their desire to create a trust fund for a young beneficiary. Specifically, they want the portfolio to be focused on <b>long-term growth</b> with a <b>moderate-to-cautious risk appetite</b>. \n",
    "\n",
    "<i>Note: This is not a formal/technical statement, there is some degree of subjectivity in your interpretation.</i>\n",
    "\n",
    "Taking all of the client's needs into account, the senior financial advisor assigned to this account (i.e. your boss) has told you to limit your attention to a portfolio that consists of three blue-chip stocks: Ayala Corporation (AC), Meralco (MER), and SM Investments Corporation (SM). \n",
    "\n",
    "Additionally, he says to perform the analysis on a dataset of stock prices from January 1, 2010 to December 31, 2019.\n",
    "\n",
    "A <b>portfolio</b> is simply a collection of financial assets such as stocks, bonds, commodities, cash, etc. \n",
    "\n",
    "Your ultimate goal is to create a portfolio that <u>maximizes expected return while minimizing risk</u>."
   ]
  },
  {
   "cell_type": "markdown",
   "id": "8f6e5304",
   "metadata": {
    "deletable": false,
    "editable": false,
    "nbgrader": {
     "cell_type": "markdown",
     "checksum": "1f0df75152e80a7fec25388bce6db521",
     "grade": false,
     "grade_id": "cell-023bce2a0ba74234",
     "locked": true,
     "schema_version": 3,
     "solution": false,
     "task": false
    }
   },
   "source": [
    "#### Q1.\n",
    "\n",
    "Load the `ph_stocks.csv` file using pandas and print the first five entries of the dataset. \n",
    "\n",
    "Make sure to set the `Date` column as the index (otherwise you may get errors/warnings when calculating some of the statistics later).\n",
    "\n",
    "You may notice that there are no stock prices for certain days. Why do you think this is?\n",
    "\n",
    "Answer in two to three sentences ONLY."
   ]
  },
  {
   "cell_type": "code",
   "execution_count": 38,
   "id": "685823fc",
   "metadata": {
    "ExecuteTime": {
     "end_time": "2021-07-27T15:10:56.535815Z",
     "start_time": "2021-07-27T15:10:56.522342Z"
    },
    "deletable": false,
    "nbgrader": {
     "cell_type": "code",
     "checksum": "2cbf8985a892225fca14c65b2a261d64",
     "grade": true,
     "grade_id": "cell-d429f797795fa61f",
     "locked": false,
     "points": 0,
     "schema_version": 3,
     "solution": true,
     "task": false
    }
   },
   "outputs": [
    {
     "name": "stdout",
     "output_type": "stream",
     "text": [
      "                 AC      MER       SM\n",
      "Date                                 \n",
      "01/04/2010  250.000  195.977  173.333\n",
      "01/05/2010  250.000  201.856  173.333\n",
      "01/06/2010  250.000  200.876  170.667\n",
      "01/07/2010  247.917  203.816  173.333\n",
      "01/08/2010  247.917  199.896  172.000\n"
     ]
    }
   ],
   "source": [
    "df_stocks = pd.read_csv('ph_stocks.csv').set_index('Date')\n",
    "print(df_stocks.head(5))"
   ]
  },
  {
   "cell_type": "markdown",
   "id": "759c67e6",
   "metadata": {
    "deletable": false,
    "nbgrader": {
     "cell_type": "markdown",
     "checksum": "43e996959e19f8fb3b89beabddef8aee",
     "grade": true,
     "grade_id": "cell-a6895359f35632f3",
     "locked": false,
     "points": 1,
     "schema_version": 3,
     "solution": true,
     "task": false
    }
   },
   "source": [
    "**YOUR ANSWER HERE:** If there are no stock prices it may mean that the market is closed (eg holidays or weekends) or there is no trading day for that particular day due to trading halt or trading suspensions. Stock exchanges can implement circuit breakers to help manage the volatility in the stock prices - if there is increased volatility that reaches the exchanges' limits then the trading for that particular stock may be halted."
   ]
  },
  {
   "cell_type": "markdown",
   "id": "a1132515",
   "metadata": {
    "deletable": false,
    "editable": false,
    "nbgrader": {
     "cell_type": "markdown",
     "checksum": "da47ab6fb080bf5cd5ad86aa792445ea",
     "grade": false,
     "grade_id": "cell-007a73cbdf62ee83",
     "locked": true,
     "schema_version": 3,
     "solution": false,
     "task": false
    }
   },
   "source": [
    "#### Q2.\n",
    "\n",
    "Let us ignore the missing days and assume that the daily recorded closing prices are contiguous.\n",
    "\n",
    "Plot all three stock prices on the same graph. \n",
    "\n",
    "Color AC as green, MER as orange, and SM as blue. \n",
    "\n",
    "Make sure to include a legend and appropriately label the axes."
   ]
  },
  {
   "cell_type": "code",
   "execution_count": 39,
   "id": "606981df",
   "metadata": {
    "ExecuteTime": {
     "end_time": "2021-07-27T15:11:03.176248Z",
     "start_time": "2021-07-27T15:11:02.921541Z"
    },
    "deletable": false,
    "nbgrader": {
     "cell_type": "code",
     "checksum": "61efa68ad44dc1e3b514c9f3f3acb7bf",
     "grade": true,
     "grade_id": "cell-4ae2eb00df6775e1",
     "locked": false,
     "points": 1,
     "schema_version": 3,
     "solution": true,
     "task": false
    }
   },
   "outputs": [
    {
     "data": {
      "image/png": "[encoded data removed]",
      "text/plain": [
       "<Figure size 720x540 with 1 Axes>"
      ]
     },
     "metadata": {
      "needs_background": "light"
     },
     "output_type": "display_data"
    }
   ],
   "source": [
    "df_stocks.plot(style={'AC':'green', 'MER':'orange', 'SM':'blue'});"
   ]
  },
  {
   "cell_type": "markdown",
   "id": "0cf133f4",
   "metadata": {
    "deletable": false,
    "editable": false,
    "nbgrader": {
     "cell_type": "markdown",
     "checksum": "47654abc81cf4651a2eea95d5e269876",
     "grade": false,
     "grade_id": "cell-de234ecb9a73c08e",
     "locked": true,
     "schema_version": 3,
     "solution": false,
     "task": false
    }
   },
   "source": [
    "Notice that the stock prices can have different magnitudes relative to each other.\n",
    "\n",
    "Before performing any sort of analysis, we need to transform the data so that they are in the same scale. In finance, we do this by analyzing <b><i>stock returns</b></i> rather than stock prices.\n",
    "\n",
    "Mathematically, the return of a stock $R_t$ at time $t$ is defined as,\n",
    "\n",
    "\\begin{align*}\n",
    "    R_t &= \\frac{S_t - S_{t-1}}{S_{t-1}}\n",
    "\\end{align*}\n",
    "\n",
    "where $S_t$ is the stock price at time $t$. \n",
    "\n",
    "Notice from the definition that returns can be interpreted as the <u>percentage change in the price</u>."
   ]
  },
  {
   "cell_type": "markdown",
   "id": "a979247f",
   "metadata": {
    "deletable": false,
    "editable": false,
    "nbgrader": {
     "cell_type": "markdown",
     "checksum": "6e444abce36bd81d4fce3bce0eb2163d",
     "grade": false,
     "grade_id": "cell-0ff642cb40911a9d",
     "locked": true,
     "schema_version": 3,
     "solution": false,
     "task": false
    }
   },
   "source": [
    "#### Q3.\n",
    "\n",
    "Create a new dataframe of stock returns and print the first five entries."
   ]
  },
  {
   "cell_type": "code",
   "execution_count": 40,
   "id": "d26ba10e",
   "metadata": {
    "ExecuteTime": {
     "end_time": "2021-07-27T15:11:08.210531Z",
     "start_time": "2021-07-27T15:11:08.198380Z"
    },
    "deletable": false,
    "nbgrader": {
     "cell_type": "code",
     "checksum": "8738d6395810644bfa7c661597e1bdae",
     "grade": false,
     "grade_id": "cell-afa4973f13c6b59d",
     "locked": false,
     "schema_version": 3,
     "solution": true,
     "task": false
    }
   },
   "outputs": [
    {
     "name": "stdout",
     "output_type": "stream",
     "text": [
      "                  AC       MER        SM\n",
      "Date                                    \n",
      "01/05/2010  0.000000  0.029998  0.000000\n",
      "01/06/2010  0.000000 -0.004855 -0.015381\n",
      "01/07/2010 -0.008332  0.014636  0.015621\n",
      "01/08/2010  0.000000 -0.019233 -0.007690\n",
      "01/11/2010  0.008402  0.004903  0.007750\n"
     ]
    }
   ],
   "source": [
    "df_returns = df_stocks.pct_change().dropna()\n",
    "print(df_returns.head())"
   ]
  },
  {
   "cell_type": "code",
   "execution_count": 41,
   "id": "2e90d3bd",
   "metadata": {
    "ExecuteTime": {
     "end_time": "2021-07-27T15:11:10.498604Z",
     "start_time": "2021-07-27T15:11:10.493981Z"
    },
    "deletable": false,
    "editable": false,
    "nbgrader": {
     "cell_type": "code",
     "checksum": "c12307b86bdf7f9b7ddcd46481d92c72",
     "grade": true,
     "grade_id": "cell-566e6d33cdd7826b",
     "locked": true,
     "points": 1,
     "schema_version": 3,
     "solution": false,
     "task": false
    }
   },
   "outputs": [],
   "source": [
    "assert np.isclose(df_returns['AC'].iloc[4], 0.008402, atol=atol)\n",
    "assert np.isclose(df_returns['MER'].iloc[4], 0.004903, atol=atol)\n",
    "assert np.isclose(df_returns['SM'].iloc[4], 0.007750, atol=atol)"
   ]
  },
  {
   "cell_type": "markdown",
   "id": "10001fc2",
   "metadata": {
    "deletable": false,
    "editable": false,
    "nbgrader": {
     "cell_type": "markdown",
     "checksum": "a3f74a4d399f615bd4aca8b4df67a504",
     "grade": false,
     "grade_id": "cell-0c8a27c541402c96",
     "locked": true,
     "schema_version": 3,
     "solution": false,
     "task": false
    }
   },
   "source": [
    "#### Q4.\n",
    "\n",
    "A common assumption in mathematical finance is that the <u>returns of a particular stock are i.i.d.</u>\n",
    "\n",
    "We will make that assumption.\n",
    "\n",
    "Create three separate density plots (KDE plots) for the returns each stock.\n",
    "\n",
    "Follow the same color convention as defined above."
   ]
  },
  {
   "cell_type": "code",
   "execution_count": 42,
   "id": "e6b77262",
   "metadata": {
    "ExecuteTime": {
     "end_time": "2021-07-27T15:11:13.500535Z",
     "start_time": "2021-07-27T15:11:12.821904Z"
    },
    "deletable": false,
    "nbgrader": {
     "cell_type": "code",
     "checksum": "17a657a686acf5f797f9b98122ee0bb5",
     "grade": true,
     "grade_id": "cell-61ac32c65ea1413b",
     "locked": false,
     "points": 1,
     "schema_version": 3,
     "solution": true,
     "task": false
    }
   },
   "outputs": [
    {
     "data": {
      "image/png": "[encoded data removed]",
      "text/plain": [
       "<Figure size 576x576 with 3 Axes>"
      ]
     },
     "metadata": {
      "needs_background": "light"
     },
     "output_type": "display_data"
    }
   ],
   "source": [
    "df_returns.plot.kde(figsize=(8,8), subplots=True, \n",
    "                    style={'AC':'green', 'MER':'orange', 'SM':'blue'});"
   ]
  },
  {
   "cell_type": "markdown",
   "id": "669a2e4b",
   "metadata": {
    "deletable": false,
    "editable": false,
    "nbgrader": {
     "cell_type": "markdown",
     "checksum": "e20fff41616956d86ecd05ac185af725",
     "grade": false,
     "grade_id": "cell-41c2e4ba8b21e8c9",
     "locked": true,
     "schema_version": 3,
     "solution": false,
     "task": false
    }
   },
   "source": [
    "#### Q5.\n",
    "\n",
    "Suppose for the moment that we model the returns for each stock as independent normal distributions.\n",
    "\n",
    "Calculate the maximum likelihood estimates $\\hat{\\mu}_{\\text{MLE}}$ and $\\hat{\\sigma}_{\\text{MLE}}^2$ for each stock."
   ]
  },
  {
   "cell_type": "code",
   "execution_count": 43,
   "id": "037b18c6",
   "metadata": {
    "ExecuteTime": {
     "end_time": "2021-07-27T15:11:22.156772Z",
     "start_time": "2021-07-27T15:11:22.152264Z"
    },
    "deletable": false,
    "nbgrader": {
     "cell_type": "code",
     "checksum": "2d5d5406082a904f5654f7aabf04262e",
     "grade": false,
     "grade_id": "cell-d0cb1afdf8be7913",
     "locked": false,
     "schema_version": 3,
     "solution": true,
     "task": false
    }
   },
   "outputs": [],
   "source": [
    "df_mle_mean = df_returns.mean()\n",
    "df_mle_variance = df_returns.var()"
   ]
  },
  {
   "cell_type": "code",
   "execution_count": 44,
   "id": "ce04f7fa",
   "metadata": {
    "ExecuteTime": {
     "end_time": "2021-07-27T15:11:24.596980Z",
     "start_time": "2021-07-27T15:11:24.587612Z"
    },
    "deletable": false,
    "editable": false,
    "nbgrader": {
     "cell_type": "code",
     "checksum": "61112404495130faf5c5c75d61f538b6",
     "grade": true,
     "grade_id": "cell-9ab5d3b42f59a30a",
     "locked": true,
     "points": 1,
     "schema_version": 3,
     "solution": false,
     "task": false
    }
   },
   "outputs": [],
   "source": [
    "assert np.isclose(df_mle_mean['AC'], 0.000608, atol=atol)\n",
    "assert np.isclose(df_mle_mean['MER'], 0.000358, atol=atol)\n",
    "assert np.isclose(df_mle_mean['SM'], 0.000899, atol=atol)\n",
    "\n",
    "assert np.isclose(df_mle_variance['AC'], 0.000276, atol=atol)\n",
    "assert np.isclose(df_mle_variance['MER'], 0.000322, atol=atol)\n",
    "assert np.isclose(df_mle_variance['SM'], 0.000324, atol=atol)"
   ]
  },
  {
   "cell_type": "markdown",
   "id": "cc396350",
   "metadata": {
    "deletable": false,
    "editable": false,
    "nbgrader": {
     "cell_type": "markdown",
     "checksum": "d426e108bfc1ef6419c00588e0fedf88",
     "grade": false,
     "grade_id": "cell-845d9a1178e801fd",
     "locked": true,
     "schema_version": 3,
     "solution": false,
     "task": false
    }
   },
   "source": [
    "#### Q6.\n",
    "\n",
    "Using the model you fit in Q5, calculate the potential one-day loss for each stock using a 95% Value-at-Risk."
   ]
  },
  {
   "cell_type": "code",
   "execution_count": 45,
   "id": "97cb42f3",
   "metadata": {
    "ExecuteTime": {
     "end_time": "2021-07-27T15:11:26.783321Z",
     "start_time": "2021-07-27T15:11:26.778814Z"
    },
    "deletable": false,
    "nbgrader": {
     "cell_type": "code",
     "checksum": "ffe81ee80799bdcd5d2d55e027112896",
     "grade": false,
     "grade_id": "cell-2cf45cb0b3f8d492",
     "locked": false,
     "schema_version": 3,
     "solution": true,
     "task": false
    }
   },
   "outputs": [],
   "source": [
    "#VaR = mean of port return - #confidence factor x stdev port return\n",
    "\n",
    "z = norm.ppf(1-0.05)\n",
    "VaR_ac = df_mle_mean['AC'] - (z * (df_mle_variance['AC'] ** 0.5))\n",
    "VaR_mer = df_mle_mean['MER'] - (z * (df_mle_variance['MER'] ** 0.5))\n",
    "VaR_sm = df_mle_mean['SM'] - (z * (df_mle_variance['SM'] ** 0.5))"
   ]
  },
  {
   "cell_type": "code",
   "execution_count": 46,
   "id": "1f35ada5",
   "metadata": {
    "ExecuteTime": {
     "end_time": "2021-07-27T15:11:32.167124Z",
     "start_time": "2021-07-27T15:11:32.164102Z"
    },
    "deletable": false,
    "editable": false,
    "nbgrader": {
     "cell_type": "code",
     "checksum": "50d1f517b2b5cd42a4ee45658a054353",
     "grade": true,
     "grade_id": "cell-ff223aefab9e1702",
     "locked": true,
     "points": 1,
     "schema_version": 3,
     "solution": false,
     "task": false
    }
   },
   "outputs": [],
   "source": [
    "# Hidden Test 1\n"
   ]
  },
  {
   "cell_type": "markdown",
   "id": "305bc86e",
   "metadata": {
    "deletable": false,
    "editable": false,
    "nbgrader": {
     "cell_type": "markdown",
     "checksum": "edddd3df837c12f599c7aa8e18ec8995",
     "grade": false,
     "grade_id": "cell-178d44b00857880c",
     "locked": true,
     "schema_version": 3,
     "solution": false,
     "task": false
    }
   },
   "source": [
    "#### Q7.\n",
    "\n",
    "Obviously, each company does not exist in a vacuum. While each company generally moves independently of each other, macroeconomic factors and societal trends can simultaneously affect the values of companies even if they are in different industries.\n",
    "\n",
    "Let's generalize our model of stock returns by using a multivariate normal distribution.\n",
    "\n",
    "Calculate the maximum likelihood estimates for the mean vector $\\mu$, covariance matrix $\\Sigma$, and the correlation matrix."
   ]
  },
  {
   "cell_type": "code",
   "execution_count": 48,
   "id": "2a775779",
   "metadata": {
    "ExecuteTime": {
     "end_time": "2021-07-27T15:11:49.792591Z",
     "start_time": "2021-07-27T15:11:49.784804Z"
    },
    "deletable": false,
    "nbgrader": {
     "cell_type": "code",
     "checksum": "a491c763190f2eb875afd6e4435b16a3",
     "grade": false,
     "grade_id": "cell-0540259a9a94374b",
     "locked": false,
     "schema_version": 3,
     "solution": true,
     "task": false
    }
   },
   "outputs": [],
   "source": [
    "returns_mean = np.array(df_returns.mean())\n",
    "returns_cov = np.array(df_returns.cov())\n",
    "returns_corr = np.array(df_returns.corr())"
   ]
  },
  {
   "cell_type": "code",
   "execution_count": 49,
   "id": "7c6285e4",
   "metadata": {
    "ExecuteTime": {
     "end_time": "2021-07-27T15:11:52.408333Z",
     "start_time": "2021-07-27T15:11:52.403226Z"
    },
    "deletable": false,
    "editable": false,
    "nbgrader": {
     "cell_type": "code",
     "checksum": "7e32cdea5fab2fbf9c5d98d3dcdd464b",
     "grade": true,
     "grade_id": "cell-3a4bfbd8ecdf621f",
     "locked": true,
     "points": 1,
     "schema_version": 3,
     "solution": false,
     "task": false
    }
   },
   "outputs": [],
   "source": [
    "# Order [AC, MER, SM]\n",
    "mu = np.array([0.000608, 0.000358, 0.000899])\n",
    "\n",
    "sigma = np.array(\n",
    "    [[0.000277,  0.000078,  0.000087],\n",
    "     [0.000078,  0.000322,  0.000039],\n",
    "     [0.000087,  0.000039,  0.000324]]) \n",
    "\n",
    "rho = np.array(\n",
    "    [[1.000000,  0.262492,  0.291721],\n",
    "     [0.262492,  1.000000,  0.119747],\n",
    "     [0.291721,  0.119747,  1.000000]]) \n",
    "\n",
    "assert np.allclose(returns_mean, mu, atol=atol)\n",
    "assert np.allclose(returns_cov, sigma, atol=atol)\n",
    "assert np.allclose(returns_corr, rho, atol=atol)"
   ]
  },
  {
   "cell_type": "markdown",
   "id": "14ff6e75",
   "metadata": {
    "deletable": false,
    "editable": false,
    "nbgrader": {
     "cell_type": "markdown",
     "checksum": "4690ea459c88e049deb6719f605b504d",
     "grade": false,
     "grade_id": "cell-0101c68f55993487",
     "locked": true,
     "schema_version": 3,
     "solution": false,
     "task": false
    }
   },
   "source": [
    "---\n",
    "\n",
    "### Interlude\n",
    "\n",
    "At this point, we are ready to discuss the core topic of this homework.\n",
    "\n",
    "<b>Modern Portfolio Theory</b> (MPT), also called <b>mean-variance portfolio analysis</b>, is a mathematical framework used for creating a portfolio of assets such that we maximize the portfolio's expected return for a fixed level of risk. The theory was originally developed by economist Harry Markowitz in the 1950s, for which he eventually won the Nobel Prize in Economics. You can read more about MPT [`here`](https://en.wikipedia.org/wiki/Modern_portfolio_theory).\n",
    "\n",
    "For a three asset portfolio, its expected return and variance are defined as\n",
    "\n",
    "\\begin{align*}\n",
    "    E[R_p] &= w_1 E[R_1]+ w_2 E[R_2] + w_3 E[R_3]\n",
    "\\end{align*}\n",
    "\n",
    "and\n",
    "\n",
    "\\begin{align*}\n",
    "    \\text{Var}(R_p)  &= w_1^2 \\text{Var}(R_1) + w_2^2 \\text{Var}(R_2) + w_3^2 \\text{Var}(R_3) + 2 w_1 w_2 \\text{Cov}(R_1, R_2) + 2 w_1 w_3 \\text{Cov}(R_1, R_3) + 2 w_2 w_3 \\text{Cov}(R_2, R_3)\n",
    "\\end{align*}\n",
    "\n",
    "where each $w_i$ corresponds to the weight of a stock such that $\\sum w_i = 1$ and $R_i$ refers to the return of a stock.\n",
    "\n",
    "In the context of MPT, <b>risk</b> is defined to be the variance or standard deviation of your portfolio returns.\n",
    "\n",
    "The formulas above are derived from the properties of the sums of expectations and the sums of variances.\n",
    "\n",
    "---"
   ]
  },
  {
   "cell_type": "markdown",
   "id": "b694f455",
   "metadata": {
    "deletable": false,
    "editable": false,
    "nbgrader": {
     "cell_type": "markdown",
     "checksum": "cb5a13789345246cfe8b2ba690b55086",
     "grade": false,
     "grade_id": "cell-cb9262ad4cdd2d29",
     "locked": true,
     "schema_version": 3,
     "solution": false,
     "task": false
    }
   },
   "source": [
    "#### Q8.\n",
    "\n",
    "Using the formulas defined above and your parameter estimates in Q8:\n",
    "\n",
    "1. Create a graph where the y-axis is defined to be a portfolio's expected return and the x-axis is its standard deviation.\n",
    "\n",
    "2. For every possible combination of $w_1$, $w_2$, and $w_3$ in increments of $0.1$, calculate the expected return and standard deviation of the portfolio and plot the point on the graph.\n",
    "\n",
    "For illustration, you should be able to fill up the table:\n",
    "\n",
    "| $w_1$ | $w_2$ | $w_3$ | E(R) | Std(R) |\n",
    "|-------|-------|-------|-------|-------|\n",
    "| 1.0  | 0.0  | 0.0  | ? | ? |\n",
    "| 0.9  | 0.1  | 0.0  | ? | ? |\n",
    "| 0.8  | 0.2  | 0.0  | ? | ? |\n",
    "|$\\vdots$|$\\vdots$|$\\vdots$|$\\vdots$|$\\vdots$|\n",
    "| 0.0  | 1.0  | 0.0  | ? | ? |\n",
    "| 0.0  | 0.9  | 0.1  | ? | ? |\n",
    "| 0.0  | 0.8  | 0.2  | ? | ? |\n",
    "|$\\vdots$|$\\vdots$|$\\vdots$|$\\vdots$|$\\vdots$|\n",
    "| 0.0  | 0.0  | 1.0  | ? | ? |\n",
    "| 0.1  | 0.0  | 0.9  | ? | ? |\n",
    "| 0.2  | 0.0  | 0.8  | ? | ? |\n",
    "|$\\vdots$|$\\vdots$|$\\vdots$|$\\vdots$|$\\vdots$|\n",
    "\n",
    "and then plot the points $(x,y) = (\\text{Std}(R_p), E[R_p])$ on the graph."
   ]
  },
  {
   "cell_type": "code",
   "execution_count": 50,
   "id": "b4433eda",
   "metadata": {
    "ExecuteTime": {
     "end_time": "2021-07-27T15:11:57.326945Z",
     "start_time": "2021-07-27T15:11:56.706427Z"
    },
    "deletable": false,
    "nbgrader": {
     "cell_type": "code",
     "checksum": "302c582738accce3b71d4d8fc14dbc61",
     "grade": true,
     "grade_id": "cell-c2d50edba6de34ca",
     "locked": false,
     "points": 2,
     "schema_version": 3,
     "solution": true,
     "task": false
    }
   },
   "outputs": [
    {
     "data": {
      "text/html": [
       "<div>\n",
       "<style scoped>\n",
       "    .dataframe tbody tr th:only-of-type {\n",
       "        vertical-align: middle;\n",
       "    }\n",
       "\n",
       "    .dataframe tbody tr th {\n",
       "        vertical-align: top;\n",
       "    }\n",
       "\n",
       "    .dataframe thead th {\n",
       "        text-align: right;\n",
       "    }\n",
       "</style>\n",
       "<table border=\"1\" class=\"dataframe\">\n",
       "  <thead>\n",
       "    <tr style=\"text-align: right;\">\n",
       "      <th></th>\n",
       "      <th>w1</th>\n",
       "      <th>w2</th>\n",
       "      <th>w3</th>\n",
       "      <th>E(R)</th>\n",
       "      <th>Std(R)</th>\n",
       "    </tr>\n",
       "  </thead>\n",
       "  <tbody>\n",
       "    <tr>\n",
       "      <th>1</th>\n",
       "      <td>0.0</td>\n",
       "      <td>0.0</td>\n",
       "      <td>1.0</td>\n",
       "      <td>0.000899</td>\n",
       "      <td>0.018003</td>\n",
       "    </tr>\n",
       "    <tr>\n",
       "      <th>8</th>\n",
       "      <td>0.1</td>\n",
       "      <td>0.0</td>\n",
       "      <td>0.9</td>\n",
       "      <td>0.000870</td>\n",
       "      <td>0.016763</td>\n",
       "    </tr>\n",
       "    <tr>\n",
       "      <th>3</th>\n",
       "      <td>0.0</td>\n",
       "      <td>0.1</td>\n",
       "      <td>0.9</td>\n",
       "      <td>0.000845</td>\n",
       "      <td>0.016514</td>\n",
       "    </tr>\n",
       "    <tr>\n",
       "      <th>13</th>\n",
       "      <td>0.2</td>\n",
       "      <td>0.0</td>\n",
       "      <td>0.8</td>\n",
       "      <td>0.000841</td>\n",
       "      <td>0.015698</td>\n",
       "    </tr>\n",
       "    <tr>\n",
       "      <th>63</th>\n",
       "      <td>0.1</td>\n",
       "      <td>0.1</td>\n",
       "      <td>0.8</td>\n",
       "      <td>0.000816</td>\n",
       "      <td>0.015334</td>\n",
       "    </tr>\n",
       "    <tr>\n",
       "      <th>...</th>\n",
       "      <td>...</td>\n",
       "      <td>...</td>\n",
       "      <td>...</td>\n",
       "      <td>...</td>\n",
       "      <td>...</td>\n",
       "    </tr>\n",
       "    <tr>\n",
       "      <th>19</th>\n",
       "      <td>0.3</td>\n",
       "      <td>0.7</td>\n",
       "      <td>0.0</td>\n",
       "      <td>0.000433</td>\n",
       "      <td>0.014678</td>\n",
       "    </tr>\n",
       "    <tr>\n",
       "      <th>4</th>\n",
       "      <td>0.0</td>\n",
       "      <td>0.9</td>\n",
       "      <td>0.1</td>\n",
       "      <td>0.000412</td>\n",
       "      <td>0.016457</td>\n",
       "    </tr>\n",
       "    <tr>\n",
       "      <th>12</th>\n",
       "      <td>0.2</td>\n",
       "      <td>0.8</td>\n",
       "      <td>0.0</td>\n",
       "      <td>0.000408</td>\n",
       "      <td>0.015558</td>\n",
       "    </tr>\n",
       "    <tr>\n",
       "      <th>7</th>\n",
       "      <td>0.1</td>\n",
       "      <td>0.9</td>\n",
       "      <td>0.0</td>\n",
       "      <td>0.000383</td>\n",
       "      <td>0.016658</td>\n",
       "    </tr>\n",
       "    <tr>\n",
       "      <th>2</th>\n",
       "      <td>0.0</td>\n",
       "      <td>1.0</td>\n",
       "      <td>0.0</td>\n",
       "      <td>0.000358</td>\n",
       "      <td>0.017938</td>\n",
       "    </tr>\n",
       "  </tbody>\n",
       "</table>\n",
       "<p>66 rows × 5 columns</p>\n",
       "</div>"
      ],
      "text/plain": [
       "     w1   w2   w3      E(R)    Std(R)\n",
       "1   0.0  0.0  1.0  0.000899  0.018003\n",
       "8   0.1  0.0  0.9  0.000870  0.016763\n",
       "3   0.0  0.1  0.9  0.000845  0.016514\n",
       "13  0.2  0.0  0.8  0.000841  0.015698\n",
       "63  0.1  0.1  0.8  0.000816  0.015334\n",
       "..  ...  ...  ...       ...       ...\n",
       "19  0.3  0.7  0.0  0.000433  0.014678\n",
       "4   0.0  0.9  0.1  0.000412  0.016457\n",
       "12  0.2  0.8  0.0  0.000408  0.015558\n",
       "7   0.1  0.9  0.0  0.000383  0.016658\n",
       "2   0.0  1.0  0.0  0.000358  0.017938\n",
       "\n",
       "[66 rows x 5 columns]"
      ]
     },
     "execution_count": 50,
     "metadata": {},
     "output_type": "execute_result"
    }
   ],
   "source": [
    "# filter for valid weights\n",
    "weights = [[x/10, y/10, (10-x-y)/10] for x in range(0, 11) \n",
    "           for y in range(0, 11)]\n",
    "\n",
    "valid_weights = []\n",
    "for weight in weights:\n",
    "    if sum(weight) == 1 and min(weight) >= 0:\n",
    "        valid_weights.append(weight)        \n",
    "all_weights = [list(set(permutations(weight))) \n",
    "               for weight in valid_weights]\n",
    "\n",
    "# create dataframe that generates permutations of different weights\n",
    "df_portfolio = pd.DataFrame(columns=['w1', 'w2', 'w3'])\n",
    "\n",
    "for weight in all_weights:\n",
    "    for item in weight:\n",
    "        df_portfolio = df_portfolio.append({'w1': item[0], \n",
    "                                            'w2': item[1], \n",
    "                                            'w3': item[2]}, \n",
    "                                           ignore_index=True)\n",
    "# drop duplicates\n",
    "df_portfolio = df_portfolio.drop_duplicates(keep='first')\n",
    "\n",
    "# calculate for expected value\n",
    "df_portfolio['E(R)'] = (df_portfolio['w1'] * df_mle_mean['AC'] + \n",
    "                        df_portfolio['w2'] * df_mle_mean['MER'] +\n",
    "                        df_portfolio['w3'] * df_mle_mean['SM'])\n",
    "\n",
    "# calculate for standard deviation\n",
    "df_portfolio['Std(R)'] = (df_portfolio['w1'] ** 2 * df_mle_variance['AC'] + \n",
    "                        df_portfolio['w2'] ** 2 * df_mle_variance['MER'] +\n",
    "                        df_portfolio['w3'] ** 2 * df_mle_variance['SM'] +\n",
    "                        2 * df_portfolio['w1'] * df_portfolio['w2'] * df_returns['AC'].cov(df_returns['MER']) +\n",
    "                        2 * df_portfolio['w1'] * df_portfolio['w3'] * df_returns['AC'].cov(df_returns['SM']) +\n",
    "                        2 * df_portfolio['w2'] * df_portfolio['w3'] * df_returns['MER'].cov(df_returns['SM'])) ** 0.5\n",
    "\n",
    "# display output: sort values by expected return\n",
    "df_portfolio.sort_values(by='E(R)', ascending=False)"
   ]
  },
  {
   "cell_type": "code",
   "execution_count": 51,
   "id": "45ec709f",
   "metadata": {
    "ExecuteTime": {
     "end_time": "2021-07-27T15:12:06.305225Z",
     "start_time": "2021-07-27T15:12:06.099169Z"
    }
   },
   "outputs": [
    {
     "data": {
      "image/png": "[encoded data removed]",
      "text/plain": [
       "<Figure size 720x540 with 1 Axes>"
      ]
     },
     "metadata": {
      "needs_background": "light"
     },
     "output_type": "display_data"
    }
   ],
   "source": [
    "plt.scatter(df_portfolio['Std(R)'], df_portfolio['E(R)'])\n",
    "plt.title('Efficient Frontier of 3-Stock Portfolio', fontsize = 20)\n",
    "plt.xlabel('Std(R)')\n",
    "plt.ylabel('E(R)')\n",
    "plt.show();"
   ]
  },
  {
   "cell_type": "code",
   "execution_count": 58,
   "id": "54caba64",
   "metadata": {
    "ExecuteTime": {
     "end_time": "2021-07-27T15:21:42.304982Z",
     "start_time": "2021-07-27T15:21:42.265790Z"
    }
   },
   "outputs": [
    {
     "name": "stdout",
     "output_type": "stream",
     "text": [
      "Minimum variance portfolio and weights: \n",
      "       w1   w2   w3     E(R)   Std(R)  sharpe_ratio\n",
      "170  0.4  0.3  0.3  0.00062  0.01221       0.05081 \n",
      "\n",
      "Max mean portfolio and weights: \n",
      "     w1   w2   w3      E(R)    Std(R)  sharpe_ratio\n",
      "1  0.0  0.0  1.0  0.000899  0.018003      0.049922 \n",
      "\n",
      "Best reward-to-risk ratio and weights (assuming a risk free rate of = 0.00): \n",
      "      w1   w2   w3      E(R)    Std(R)  sharpe_ratio\n",
      "77  0.3  0.1  0.6  0.000758  0.013622      0.055612 \n",
      "\n",
      "Portfolio with lowest mean): \n",
      "     w1   w2   w3      E(R)    Std(R)  sharpe_ratio\n",
      "2  0.0  1.0  0.0  0.000358  0.017938      0.019965\n"
     ]
    }
   ],
   "source": [
    "min_var_p = df_portfolio[df_portfolio['Std(R)']==df_portfolio['Std(R)'].min()]\n",
    "print('Minimum variance portfolio and weights:', '\\n', min_var_p, '\\n')\n",
    "\n",
    "max_mean_p = df_portfolio[df_portfolio['E(R)']==df_portfolio['E(R)'].max()]\n",
    "print('Max mean portfolio and weights:', '\\n', max_mean_p, '\\n')\n",
    "\n",
    "rfr=0.0\n",
    "df_portfolio['sharpe_ratio'] = ((df_portfolio['E(R)'] - rfr) / df_portfolio['Std(R)'])\n",
    "max_sharpe_ratio = df_portfolio[df_portfolio['sharpe_ratio'] == df_portfolio['sharpe_ratio'].max()]\n",
    "print('Best reward-to-risk ratio and weights (assuming a '\n",
    "      'risk free rate of = 0.00):', '\\n', max_sharpe_ratio, '\\n')\n",
    "\n",
    "#plot the lowest mean, highest risk portfolio\n",
    "min_mean = df_portfolio[df_portfolio['E(R)'] == df_portfolio['E(R)'].min()]\n",
    "print('Portfolio with lowest mean):', '\\n', min_mean)"
   ]
  },
  {
   "cell_type": "code",
   "execution_count": 64,
   "id": "37a5b08e",
   "metadata": {
    "ExecuteTime": {
     "end_time": "2021-07-27T15:25:06.460822Z",
     "start_time": "2021-07-27T15:25:06.168924Z"
    }
   },
   "outputs": [
    {
     "data": {
      "text/plain": [
       "<matplotlib.legend.Legend at 0x7fe75acbb940>"
      ]
     },
     "execution_count": 64,
     "metadata": {},
     "output_type": "execute_result"
    },
    {
     "data": {
      "image/png": "[encoded data removed]",
      "text/plain": [
       "<Figure size 720x540 with 1 Axes>"
      ]
     },
     "metadata": {
      "needs_background": "light"
     },
     "output_type": "display_data"
    }
   ],
   "source": [
    "#plot the efficient frontier\n",
    "plt.scatter(df_portfolio['Std(R)'], df_portfolio['E(R)'])\n",
    "plt.title('Efficient Frontier of 3-Stock Portfolio', fontsize = 20)\n",
    "plt.ylabel('Portfolio Expected Return', fontsize = 14)\n",
    "plt.xlabel('Portfolio Standard Deviation (Risk)', fontsize = 14)\n",
    "plt.tight_layout;\n",
    "\n",
    "#plot the minimum variance portfolio\n",
    "mvp = plt.scatter(x=min_var_p.iloc[0, 4], y=min_var_p.iloc[0, 3], color='red', \n",
    "            marker='*',s=200)\n",
    "\n",
    "#plot the optimal risky portfolio (highest Sharpe Ratio, assuming rfr=0)\n",
    "opt = plt.scatter(x=max_sharpe_ratio.iloc[0, 4], y=max_sharpe_ratio.iloc[0, 3], \n",
    "            color='green', marker='^',s=200)\n",
    "\n",
    "#plot the highest mean, highest risk portfolio\n",
    "max_mean = plt.scatter(x=max_mean_p.iloc[0, 4], y=max_mean_p.iloc[0, 3], \n",
    "            color='red', marker='+',s=200)\n",
    "plt.tight_layout;\n",
    "\n",
    "#plot the lowest mean, highest risk portfolio\n",
    "low = plt.scatter(x=min_mean.iloc[0, 4], y=min_mean.iloc[0, 3], \n",
    "            color='red', marker='x',s=200)\n",
    "plt.tight_layout;\n",
    "\n",
    "plt.legend((mvp, max_mean, opt, low),\n",
    "           ('minimum variance portfolio', \n",
    "            'maximum risk maximum return portfolio', \n",
    "            'best reward-to-risk portfolio','worst portfolio with ' \n",
    "            'lowest return and highest risk'),\n",
    "           scatterpoints=1,\n",
    "           loc='upper left',\n",
    "           ncol=1,\n",
    "           fontsize=10)\n",
    "\n",
    "# plt.tight_layout;"
   ]
  },
  {
   "cell_type": "markdown",
   "id": "ef376a9c",
   "metadata": {
    "deletable": false,
    "editable": false,
    "nbgrader": {
     "cell_type": "markdown",
     "checksum": "17e901b2fedf060e0521c1a55266c017",
     "grade": false,
     "grade_id": "cell-2fcc6c88fe1e351d",
     "locked": true,
     "schema_version": 3,
     "solution": false,
     "task": false
    }
   },
   "source": [
    "#### Q9.\n",
    "\n",
    "Hopefully you can spot a particular shape forming in the plot you generated in Q8.\n",
    "\n",
    "Note that each point on your plot represents a different portfolio. In fact, if you were a rational investor, you would <u>strictly prefer</u> some of these portfolios. \n",
    "\n",
    "Assuming that you are in fact rational, which portfolio weights are strictly better? which ones are strictly worse?\n",
    "\n",
    "Answer in two to five sentences ONLY. \n",
    "\n",
    "<i>Note: You may add annotations to the graph above to illustrate your point, if you want.</i>"
   ]
  },
  {
   "cell_type": "markdown",
   "id": "c262b7a0",
   "metadata": {
    "deletable": false,
    "nbgrader": {
     "cell_type": "markdown",
     "checksum": "391a3b70efa3b6c6d9b625a8cde3004d",
     "grade": true,
     "grade_id": "cell-dde65bee2f8b5ea2",
     "locked": false,
     "points": 2,
     "schema_version": 3,
     "solution": true,
     "task": false
    }
   },
   "source": [
    "**ANSWER**: A rational investor will choose a portfolio that will give him the **highest expected return for the lowest acceptable risk** so the most efficient portfolios are the dots at the top edge of the efficient frontier (connecting a line from the red * to the red +, which is the edge of the parabola). For a risk-averse individual, the most efficient portfolio is the `minimum variance portolio represented by the red star (AC wt: 40%, MER wt: 30%, SM wt: 30%)` which gives the highest possible expected return for the lowest risk. For an individual who is okay to have `high level of risk for the highest possible return, the portfolio allocation is 100% in SM` because SM has the highest mean return. The portfolio that is `strictly worse is the portfolio represented by the red X has the highest risk but the lowest expected return (100% in MER) `. The lines being traced by the lower edge of the parabola are also worse because you are not being compensated by additional return for taking on additional risk."
   ]
  },
  {
   "cell_type": "markdown",
   "id": "6790e402",
   "metadata": {
    "deletable": false,
    "editable": false,
    "nbgrader": {
     "cell_type": "markdown",
     "checksum": "41b0de4220a5c3ae18cb6a9c816d3e95",
     "grade": false,
     "grade_id": "cell-898a6db91e504469",
     "locked": true,
     "schema_version": 3,
     "solution": false,
     "task": false
    }
   },
   "source": [
    "#### Q10.\n",
    "\n",
    "Based on your analysis thus far, select <u>your</u> choice of \"best\" portfolio.\n",
    "\n",
    "Suppose the client has allocated Php 1,000,000.00 (One Million Pesos) for the investment fund and you have bought shares of AC, MER, and SM on their behalf at December 27, 2019 closing.\n",
    "\n",
    "Answer the following questions:\n",
    "\n",
    "1. State your initial allocation. How would you justify your portfolio selection to your client? \n",
    "\n",
    "3. How much would the portfolio be worth if you liquidated it as of July 21, 2021 closing?\n",
    "\n",
    "4. As fund manager, you are entitled to 1% of the profits as of liquidation. How much have you just made (or lost)?"
   ]
  },
  {
   "cell_type": "markdown",
   "id": "0c84fabb",
   "metadata": {
    "deletable": false,
    "nbgrader": {
     "cell_type": "markdown",
     "checksum": "7249033c8c402b756391b3024d10f2eb",
     "grade": true,
     "grade_id": "cell-7da9a175b4d3b52c",
     "locked": false,
     "points": 4,
     "schema_version": 3,
     "solution": true,
     "task": false
    }
   },
   "source": [
    "**ANSWERS:**\n",
    "\n",
    "***Notes:*** Thee closing prices of AC, MER and SM from Bloomberg.\n",
    "\n",
    "**Initial Portfolio Allocation**\n",
    "    The initial portfolio allocation is represented by the triangle in the graph, which is the portfolio that has the highest reward-to-risk ratio. This allocation is `AC: 30%, MER: 10% and SM: 60%` \n",
    "\n",
    "**How much will the portfolio be worth if i liquidate it as of July 21, 2021?** There is a `total loss of about 8.7371%` so the portfolio will be worth `Php 912,628.96` . \n",
    "\n",
    "**How much have we made/lost if we are entitled to 1% of the profits** We will be sharing 1% of the total loss of `Php 87,371`, and our share in the loss is `Php 873.71`.\n"
   ]
  },
  {
   "cell_type": "code",
   "execution_count": 31,
   "id": "0db5da8e",
   "metadata": {
    "ExecuteTime": {
     "end_time": "2021-07-27T14:26:52.513702Z",
     "start_time": "2021-07-27T14:26:52.502075Z"
    }
   },
   "outputs": [
    {
     "name": "stdout",
     "output_type": "stream",
     "text": [
      "total loss:  -0.08737103910184077 \n",
      " total loss in pesos:  -87371.03910184077 \n",
      " portfolio value as of July 2021:  912628.9608981593 \n",
      "share in loss in pesos:  -873.7103910184078\n"
     ]
    }
   ],
   "source": [
    "#support for no 2 and 3 re loss\n",
    "\n",
    "fund = 1000000\n",
    "ac_close = 754\n",
    "mer_close = 266\n",
    "sm_close = 940\n",
    "\n",
    "start_px = np.array(df_stocks.iloc[-1])\n",
    "close_px = np.array([ac_close, mer_close, sm_close])\n",
    "px_change = np.array(close_px - start_px)\n",
    "px_pct_change = np.array(px_change/start_px)\n",
    "myport_wt = np.array(max_sharpe_ratio.iloc[:,0:3])\n",
    "total_loss_pct = (myport_wt*px_pct_change).sum()\n",
    "share_loss = total_loss_pct*0.01\n",
    "print('total loss: ',total_loss_pct, '\\n',\n",
    "      'total loss in pesos: ',total_loss_pct*fund, '\\n',\n",
    "      'portfolio value as of July 2021: ', fund*(1+total_loss_pct),'\\n'\n",
    "     'share in loss in pesos: ', share_loss*fund)"
   ]
  },
  {
   "cell_type": "code",
   "execution_count": null,
   "id": "aeb0b63d",
   "metadata": {},
   "outputs": [],
   "source": []
  }
 ],
 "metadata": {
  "kernelspec": {
   "display_name": "Python 3",
   "language": "python",
   "name": "python3"
  },
  "language_info": {
   "codemirror_mode": {
    "name": "ipython",
    "version": 3
   },
   "file_extension": ".py",
   "mimetype": "text/x-python",
   "name": "python",
   "nbconvert_exporter": "python",
   "pygments_lexer": "ipython3",
   "version": "3.8.8"
  },
  "toc": {
   "base_numbering": 1,
   "nav_menu": {},
   "number_sections": true,
   "sideBar": true,
   "skip_h1_title": false,
   "title_cell": "Table of Contents",
   "title_sidebar": "Contents",
   "toc_cell": false,
   "toc_position": {},
   "toc_section_display": true,
   "toc_window_display": false
  }
 },
 "nbformat": 4,
 "nbformat_minor": 5
}
