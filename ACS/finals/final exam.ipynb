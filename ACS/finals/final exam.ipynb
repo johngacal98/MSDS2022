{
 "cells": [
  {
   "cell_type": "code",
   "execution_count": 1,
   "id": "ad82f77a",
   "metadata": {
    "ExecuteTime": {
     "end_time": "2021-09-11T16:31:29.633535Z",
     "start_time": "2021-09-11T16:31:29.328610Z"
    },
    "deletable": false,
    "editable": false,
    "execution": {
     "iopub.execute_input": "2021-09-12T07:21:50.243883Z",
     "iopub.status.busy": "2021-09-12T07:21:50.242888Z",
     "iopub.status.idle": "2021-09-12T07:21:50.472273Z",
     "shell.execute_reply": "2021-09-12T07:21:50.472273Z",
     "shell.execute_reply.started": "2021-09-12T07:21:50.243883Z"
    },
    "nbgrader": {
     "cell_type": "code",
     "checksum": "dfac3ee67b1316db8a78e9c1bc2440b3",
     "grade": false,
     "grade_id": "cell-8f9b12d150e44112",
     "locked": true,
     "schema_version": 3,
     "solution": false,
     "task": false
    }
   },
   "outputs": [],
   "source": [
    "from numpy.testing import assert_equal, assert_almost_equal"
   ]
  },
  {
   "cell_type": "markdown",
   "id": "372a4e2a",
   "metadata": {
    "deletable": false,
    "editable": false,
    "nbgrader": {
     "cell_type": "markdown",
     "checksum": "2e21df51fa1075cc1db1e479b758febf",
     "grade": false,
     "grade_id": "cell-2e7724631ce5e9dc",
     "locked": true,
     "schema_version": 3,
     "solution": false,
     "task": false
    }
   },
   "source": [
    "---\n",
    "\n",
    "# ACS Final Exam [60 pts]\n",
    "\n",
    "The exam is divided into 3 sections:\n",
    "\n",
    "1. Hypothesis Testing [25 pts]\n",
    "\n",
    "\n",
    "2. Bayesian Statistics [10 pts]\n",
    "\n",
    "\n",
    "3. Monte Carlo Simulation [25 pts]\n",
    "\n",
    "\n",
    "<div class=\"alert alert-block alert-info\">\n",
    "    <b>General Instructions</b>\n",
    "    <ol>\n",
    "        <li>Read the instructions and the questions <i>carefully</i>.</li>\n",
    "        <li>Make sure that your code runs sequentially from <i>top</i> to <i>bottom</i>. Foreshadowing...</li> \n",
    "        <li>Follow the prescribed naming conventions.</li>\n",
    "    </ol>\n",
    "</div>"
   ]
  },
  {
   "cell_type": "markdown",
   "id": "7f4628c9",
   "metadata": {
    "deletable": false,
    "editable": false,
    "nbgrader": {
     "cell_type": "markdown",
     "checksum": "6266ee6573a9071e53192d502b653158",
     "grade": false,
     "grade_id": "cell-2c3ba1ecb426baa2",
     "locked": true,
     "schema_version": 3,
     "solution": false,
     "task": false
    }
   },
   "source": [
    "---\n",
    "\n",
    "## Hypothesis Testing  [25 pts]\n",
    "\n",
    "### Model Comparison with Hypothesis Testing\n",
    "\n",
    "In this section, we will be looking at a more formal methodology for evaluating models by integrating a hypothesis test to check whether or not the differences between models are *statistically significant*.\n",
    "\n",
    "<div class=\"alert alert-block alert-info\">\n",
    "    <b>Instructions</b>\n",
    "    <ol>\n",
    "        <li>This section uses the `data.csv` file.</li>\n",
    "        <li>The nearly equal asserts (hidden and unhidden) in this section have a tolerance of 4 decimal places.</li>\n",
    "    </ol>\n",
    "</div>"
   ]
  },
  {
   "cell_type": "code",
   "execution_count": 2,
   "id": "2b334180",
   "metadata": {
    "ExecuteTime": {
     "end_time": "2021-09-11T16:31:30.307510Z",
     "start_time": "2021-09-11T16:31:29.638983Z"
    },
    "deletable": false,
    "editable": false,
    "execution": {
     "iopub.execute_input": "2021-09-12T07:21:50.474266Z",
     "iopub.status.busy": "2021-09-12T07:21:50.473271Z",
     "iopub.status.idle": "2021-09-12T07:21:51.483662Z",
     "shell.execute_reply": "2021-09-12T07:21:51.483662Z",
     "shell.execute_reply.started": "2021-09-12T07:21:50.474266Z"
    },
    "nbgrader": {
     "cell_type": "code",
     "checksum": "a1d906487375cbc04b13d10349f3037e",
     "grade": false,
     "grade_id": "cell-1d05c03aa2943b95",
     "locked": true,
     "schema_version": 3,
     "solution": false,
     "task": false
    }
   },
   "outputs": [
    {
     "data": {
      "image/png": "[encoded data removed]",
      "text/plain": [
       "<Figure size 432x288 with 1 Axes>"
      ]
     },
     "metadata": {
      "needs_background": "light"
     },
     "output_type": "display_data"
    }
   ],
   "source": [
    "import numpy as np\n",
    "import pandas as pd\n",
    "import matplotlib.pyplot as plt\n",
    "\n",
    "df = pd.read_csv('data.csv')\n",
    "\n",
    "x = df[['x1', 'x2']].to_numpy()\n",
    "y = df['y'].to_numpy()\n",
    "\n",
    "plt.scatter(x=df['x1'], y=df['x2'], c=df['y'])\n",
    "plt.show()"
   ]
  },
  {
   "cell_type": "markdown",
   "id": "12467002",
   "metadata": {
    "deletable": false,
    "editable": false,
    "nbgrader": {
     "cell_type": "markdown",
     "checksum": "8181e03d0115d20b63823a3cc538540d",
     "grade": false,
     "grade_id": "cell-694eee70229a5823",
     "locked": true,
     "schema_version": 3,
     "solution": false,
     "task": false
    }
   },
   "source": [
    "#### Q1 [10 pts]\n",
    "\n",
    "Using [`10 repeated stratified 10-fold cross-validation`](https://scikit-learn.org/stable/modules/generated/sklearn.model_selection.RepeatedStratifiedKFold.html), perform grid-search over the hyperparameter `C` for a SVC with an RBF kernel. \n",
    "\n",
    "Set all `random_state` parameters to `143`.\n",
    "\n",
    "Calculate the mean and standard deviation of the <u>test accuracy scores</u> for each `C` in `C_range`. (use classification accuracy as the metric)"
   ]
  },
  {
   "cell_type": "code",
   "execution_count": 3,
   "id": "642c63ae",
   "metadata": {
    "ExecuteTime": {
     "end_time": "2021-09-11T16:31:32.193641Z",
     "start_time": "2021-09-11T16:31:30.309992Z"
    },
    "deletable": false,
    "execution": {
     "iopub.execute_input": "2021-09-12T07:21:51.486619Z",
     "iopub.status.busy": "2021-09-12T07:21:51.486619Z",
     "iopub.status.idle": "2021-09-12T07:21:53.882986Z",
     "shell.execute_reply": "2021-09-12T07:21:53.881988Z",
     "shell.execute_reply.started": "2021-09-12T07:21:51.486619Z"
    },
    "nbgrader": {
     "cell_type": "code",
     "checksum": "327cf52ea2ec774fe3be87a8dab55b72",
     "grade": false,
     "grade_id": "cell-0d30a7201e3c05e3",
     "locked": false,
     "schema_version": 3,
     "solution": true,
     "task": false
    }
   },
   "outputs": [
    {
     "data": {
      "text/html": [
       "<div>\n",
       "<style scoped>\n",
       "    .dataframe tbody tr th:only-of-type {\n",
       "        vertical-align: middle;\n",
       "    }\n",
       "\n",
       "    .dataframe tbody tr th {\n",
       "        vertical-align: top;\n",
       "    }\n",
       "\n",
       "    .dataframe thead th {\n",
       "        text-align: right;\n",
       "    }\n",
       "</style>\n",
       "<table border=\"1\" class=\"dataframe\">\n",
       "  <thead>\n",
       "    <tr style=\"text-align: right;\">\n",
       "      <th></th>\n",
       "      <th>mean_test_score</th>\n",
       "      <th>std_test_score</th>\n",
       "    </tr>\n",
       "  </thead>\n",
       "  <tbody>\n",
       "    <tr>\n",
       "      <th>0.01</th>\n",
       "      <td>0.855</td>\n",
       "      <td>0.120312</td>\n",
       "    </tr>\n",
       "    <tr>\n",
       "      <th>0.10</th>\n",
       "      <td>0.874</td>\n",
       "      <td>0.108277</td>\n",
       "    </tr>\n",
       "    <tr>\n",
       "      <th>1.00</th>\n",
       "      <td>0.892</td>\n",
       "      <td>0.102645</td>\n",
       "    </tr>\n",
       "    <tr>\n",
       "      <th>10.00</th>\n",
       "      <td>0.894</td>\n",
       "      <td>0.100817</td>\n",
       "    </tr>\n",
       "    <tr>\n",
       "      <th>100.00</th>\n",
       "      <td>0.870</td>\n",
       "      <td>0.116190</td>\n",
       "    </tr>\n",
       "  </tbody>\n",
       "</table>\n",
       "</div>"
      ],
      "text/plain": [
       "        mean_test_score  std_test_score\n",
       "0.01              0.855        0.120312\n",
       "0.10              0.874        0.108277\n",
       "1.00              0.892        0.102645\n",
       "10.00             0.894        0.100817\n",
       "100.00            0.870        0.116190"
      ]
     },
     "execution_count": 3,
     "metadata": {},
     "output_type": "execute_result"
    }
   ],
   "source": [
    "from sklearn.model_selection import RepeatedStratifiedKFold\n",
    "from sklearn.svm import SVC\n",
    "from sklearn.metrics import accuracy_score\n",
    "\n",
    "C_range = [0.01, 0.1, 1, 10, 100]\n",
    "\n",
    "random_state = 143\n",
    "\n",
    "rskf = RepeatedStratifiedKFold(n_splits=10, n_repeats=10, random_state=random_state)\n",
    "\n",
    "# Put the test accuracy scores every cv split here\n",
    "test_scores = {} \n",
    "n_train = []\n",
    "n_test = []\n",
    "for C in C_range:\n",
    "    test_scores[C] = []\n",
    "    n_train = []\n",
    "    n_test = []\n",
    "    for train_index, test_index in rskf.split(x,y):\n",
    "        x_train, x_test = x[train_index], x[test_index]\n",
    "        y_train, y_test = y[train_index], y[test_index]\n",
    "        \n",
    "        model = SVC(C=C, kernel='rbf', random_state=random_state).fit(x_train, y_train)\n",
    "        \n",
    "        \n",
    "        n_train.append(train_index)\n",
    "        n_test.append(test_index)\n",
    "        \n",
    "        y_pred = model.predict(x_test)\n",
    "        y_true = y_test\n",
    "        \n",
    "        score = accuracy_score(y_true, y_pred)\n",
    "        \n",
    "        test_scores[C].append(score)\n",
    "\n",
    "agg_dict = {}\n",
    "for k,v in test_scores.items():\n",
    "    agg_dict[k] = [np.mean(v), np.std(v)]\n",
    "df_scores = pd.DataFrame(agg_dict).T\n",
    "\n",
    "        \n",
    "# Put the mean/std test accuracy scores here\n",
    "# df_scores = pd.DataFrame(np.zeros(shape=(len(C_range), 2)))\n",
    "df_scores.columns = ['mean_test_score', 'std_test_score']\n",
    "# df_scores.index = C_range\n",
    "\n",
    "# YOUR CODE HERE\n",
    "# raise NotImplementedError()\n",
    "\n",
    "# Print out scores\n",
    "df_scores"
   ]
  },
  {
   "cell_type": "code",
   "execution_count": 4,
   "id": "70ca218d",
   "metadata": {
    "ExecuteTime": {
     "end_time": "2021-09-11T16:31:32.199131Z",
     "start_time": "2021-09-11T16:31:32.195998Z"
    },
    "deletable": false,
    "editable": false,
    "execution": {
     "iopub.execute_input": "2021-09-12T07:21:53.883985Z",
     "iopub.status.busy": "2021-09-12T07:21:53.882986Z",
     "iopub.status.idle": "2021-09-12T07:21:53.896950Z",
     "shell.execute_reply": "2021-09-12T07:21:53.896950Z",
     "shell.execute_reply.started": "2021-09-12T07:21:53.883985Z"
    },
    "nbgrader": {
     "cell_type": "code",
     "checksum": "d06d50ef3e2190ffb091eee0f02e2e9f",
     "grade": true,
     "grade_id": "cell-d32ae1fe42df9655",
     "locked": true,
     "points": 0,
     "schema_version": 3,
     "solution": false,
     "task": false
    }
   },
   "outputs": [],
   "source": [
    "# Sanity check (no points)\n",
    "for C in C_range:\n",
    "    assert len(test_scores[C]) == 100"
   ]
  },
  {
   "cell_type": "code",
   "execution_count": 5,
   "id": "7738db0b",
   "metadata": {
    "ExecuteTime": {
     "end_time": "2021-09-11T16:31:32.206658Z",
     "start_time": "2021-09-11T16:31:32.200978Z"
    },
    "deletable": false,
    "editable": false,
    "execution": {
     "iopub.execute_input": "2021-09-12T07:21:53.898945Z",
     "iopub.status.busy": "2021-09-12T07:21:53.898945Z",
     "iopub.status.idle": "2021-09-12T07:21:53.912906Z",
     "shell.execute_reply": "2021-09-12T07:21:53.911908Z",
     "shell.execute_reply.started": "2021-09-12T07:21:53.898945Z"
    },
    "nbgrader": {
     "cell_type": "code",
     "checksum": "0e65ab4bcc931066725dd8154003955b",
     "grade": true,
     "grade_id": "cell-eceb295fe904a4f6",
     "locked": true,
     "points": 2,
     "schema_version": 3,
     "solution": false,
     "task": false
    }
   },
   "outputs": [],
   "source": [
    "# Check 'mean_test_score' and 'std_test_score' of df_scores.loc[0.01]"
   ]
  },
  {
   "cell_type": "code",
   "execution_count": 6,
   "id": "b3472e0c",
   "metadata": {
    "ExecuteTime": {
     "end_time": "2021-09-11T16:31:32.214026Z",
     "start_time": "2021-09-11T16:31:32.208542Z"
    },
    "deletable": false,
    "editable": false,
    "execution": {
     "iopub.execute_input": "2021-09-12T07:21:53.914900Z",
     "iopub.status.busy": "2021-09-12T07:21:53.913909Z",
     "iopub.status.idle": "2021-09-12T07:21:53.927866Z",
     "shell.execute_reply": "2021-09-12T07:21:53.927866Z",
     "shell.execute_reply.started": "2021-09-12T07:21:53.914900Z"
    },
    "nbgrader": {
     "cell_type": "code",
     "checksum": "4ff92a15d0363f6d142b7146f06a1b28",
     "grade": true,
     "grade_id": "cell-ea4c8150f798bfae",
     "locked": true,
     "points": 2,
     "schema_version": 3,
     "solution": false,
     "task": false
    }
   },
   "outputs": [],
   "source": [
    "# Check 'mean_test_score' and 'std_test_score' of df_scores.loc[0.1]"
   ]
  },
  {
   "cell_type": "code",
   "execution_count": 7,
   "id": "626f10fd",
   "metadata": {
    "ExecuteTime": {
     "end_time": "2021-09-11T16:31:32.220919Z",
     "start_time": "2021-09-11T16:31:32.216118Z"
    },
    "deletable": false,
    "editable": false,
    "execution": {
     "iopub.execute_input": "2021-09-12T07:21:53.929860Z",
     "iopub.status.busy": "2021-09-12T07:21:53.929860Z",
     "iopub.status.idle": "2021-09-12T07:21:53.944822Z",
     "shell.execute_reply": "2021-09-12T07:21:53.943825Z",
     "shell.execute_reply.started": "2021-09-12T07:21:53.929860Z"
    },
    "nbgrader": {
     "cell_type": "code",
     "checksum": "77822bc346340022539227ac4d3b8585",
     "grade": true,
     "grade_id": "cell-61d6f495ee1c5882",
     "locked": true,
     "points": 2,
     "schema_version": 3,
     "solution": false,
     "task": false
    }
   },
   "outputs": [],
   "source": [
    "# Check 'mean_test_score' and 'std_test_score' of df_scores.loc[1]"
   ]
  },
  {
   "cell_type": "code",
   "execution_count": 8,
   "id": "05b27a01",
   "metadata": {
    "ExecuteTime": {
     "end_time": "2021-09-11T16:31:32.235228Z",
     "start_time": "2021-09-11T16:31:32.225742Z"
    },
    "deletable": false,
    "editable": false,
    "execution": {
     "iopub.execute_input": "2021-09-12T07:21:53.946816Z",
     "iopub.status.busy": "2021-09-12T07:21:53.945818Z",
     "iopub.status.idle": "2021-09-12T07:21:53.959781Z",
     "shell.execute_reply": "2021-09-12T07:21:53.958783Z",
     "shell.execute_reply.started": "2021-09-12T07:21:53.946816Z"
    },
    "nbgrader": {
     "cell_type": "code",
     "checksum": "830960fa15e791f99db25738044f1654",
     "grade": true,
     "grade_id": "cell-4713c45d0ce966f0",
     "locked": true,
     "points": 2,
     "schema_version": 3,
     "solution": false,
     "task": false
    }
   },
   "outputs": [],
   "source": [
    "# Check 'mean_test_score' and 'std_test_score' of df_scores.loc[10]"
   ]
  },
  {
   "cell_type": "code",
   "execution_count": 9,
   "id": "27a9560f",
   "metadata": {
    "ExecuteTime": {
     "end_time": "2021-09-11T16:31:32.245173Z",
     "start_time": "2021-09-11T16:31:32.241221Z"
    },
    "deletable": false,
    "editable": false,
    "execution": {
     "iopub.execute_input": "2021-09-12T07:21:53.962776Z",
     "iopub.status.busy": "2021-09-12T07:21:53.961776Z",
     "iopub.status.idle": "2021-09-12T07:21:53.974742Z",
     "shell.execute_reply": "2021-09-12T07:21:53.973743Z",
     "shell.execute_reply.started": "2021-09-12T07:21:53.962776Z"
    },
    "nbgrader": {
     "cell_type": "code",
     "checksum": "5fd41e887a52bba8e00a109470e04928",
     "grade": true,
     "grade_id": "cell-0e3a244cf2c4365c",
     "locked": true,
     "points": 2,
     "schema_version": 3,
     "solution": false,
     "task": false
    }
   },
   "outputs": [],
   "source": [
    "# Check 'mean_test_score' and 'std_test_score' of df_scores.loc[100]"
   ]
  },
  {
   "cell_type": "markdown",
   "id": "5b9fd2f7",
   "metadata": {
    "deletable": false,
    "editable": false,
    "nbgrader": {
     "cell_type": "markdown",
     "checksum": "19d123e19977e1adab645d4bf58b4c21",
     "grade": false,
     "grade_id": "cell-c7ece846838057cf",
     "locked": true,
     "schema_version": 3,
     "solution": false,
     "task": false
    }
   },
   "source": [
    "---\n",
    "\n",
    "#### No Eyeballin' Here\n",
    "\n",
    "At this point, most people would rank models based on `mean_test_score`, take the best performer, and call it a day. \n",
    "\n",
    "This is eyeballing, and we don't do that in ACS.\n",
    "\n",
    "Notice that we've calculated the mean and stdev of 100 sample test accuracy scores for each `C`. \n",
    "\n",
    "Could we perhaps <u>compare the means between groups</u> using a statistical test? Yes! \n",
    "\n",
    "Very Cool.\n",
    "\n",
    "#### The Problem\n",
    "\n",
    "Unfortunately, a straight up application of the [`t-test`](https://en.wikipedia.org/wiki/Student%27s_t-test) is inappropriate. Why?\n",
    "\n",
    "One of the assumptions is that the samples (i.e., the scores) are independent. As it turns out, this is violated because each model is evaluated on the same 100 partitions, which increases the correlation between the scores of the models. \n",
    "\n",
    "*Note 1: You can actually check this empirically by calculating the sample correlations between cv splits.*\n",
    "\n",
    "One way around this is to actually perform Monte Carlo cross-validation instead of k-Fold. Unfortunately, it can be quite computationally expensive to get our accuracy metrics to converge if our dataset is big. While this isn't a problem with our toy dataset, there is a method we can use to bypass this problem.\n",
    "\n",
    "#### Nadeau and Bengio's Corrected t-Test \n",
    "\n",
    "*(Yes, THAT Bengio)*\n",
    "\n",
    "[`Nadeau and Bengio`](https://papers.nips.cc/paper/1661-inference-for-the-generalization-error.pdf) propose a correction to the pairwise t-test when performing repeated k-Fold. The corrected t-statistic is given by,\n",
    "\n",
    "$$t = \\frac{\\frac{1}{kr}\\sum_{i=1}^{k}\\sum_{j=1}^{r}x_{ij}}{\\sqrt{\\left(\\frac{1}{kr} + \\frac{n_\\text{test}}{n_\\text{train}}\\right)\\hat{\\sigma}^2}}$$\n",
    "\n",
    "where $k$ is the number of folds, $r$ is the number of reptitions (trials), $x$ is the difference in scores (or whatever metric in general) of the models, $n_\\text{test}$ is the number of samples used for testing, $n_\\text{train}$ is the number of samples used for training, and $\\hat{\\sigma}^2$ is the <u>unbiased</u> variance of the observed differences. \n",
    "\n",
    "In this instance, the degrees of freedom for the t-statistic is $n - 1$.\n",
    "\n",
    "*Note 2: $n = kr = n_\\text{test} + n_\\text{train}$*.\n",
    "\n",
    "---"
   ]
  },
  {
   "cell_type": "markdown",
   "id": "16b6a8cf",
   "metadata": {
    "deletable": false,
    "editable": false,
    "nbgrader": {
     "cell_type": "markdown",
     "checksum": "7b4d7dd255138fd95c464a49437ceeb9",
     "grade": false,
     "grade_id": "cell-4448e33d7a6994cc",
     "locked": true,
     "schema_version": 3,
     "solution": false,
     "task": false
    }
   },
   "source": [
    "#### Q2 [5 pts]\n",
    "\n",
    "What are the top two models based on `mean_test_score`?"
   ]
  },
  {
   "cell_type": "code",
   "execution_count": 10,
   "id": "7d09fc31",
   "metadata": {
    "ExecuteTime": {
     "end_time": "2021-09-11T16:31:32.252811Z",
     "start_time": "2021-09-11T16:31:32.248566Z"
    },
    "deletable": false,
    "execution": {
     "iopub.execute_input": "2021-09-12T07:21:53.976737Z",
     "iopub.status.busy": "2021-09-12T07:21:53.976737Z",
     "iopub.status.idle": "2021-09-12T07:21:53.989701Z",
     "shell.execute_reply": "2021-09-12T07:21:53.988703Z",
     "shell.execute_reply.started": "2021-09-12T07:21:53.976737Z"
    },
    "nbgrader": {
     "cell_type": "code",
     "checksum": "a4e1b37f699283a970e3ffdbb562c72b",
     "grade": false,
     "grade_id": "cell-1c3f452276fc5979",
     "locked": false,
     "schema_version": 3,
     "solution": true,
     "task": false
    }
   },
   "outputs": [],
   "source": [
    "C_1 = 10.00 # Rank 1\n",
    "C_2 = 1.00 # Rank 2\n",
    "\n",
    "# YOUR CODE HERE\n",
    "# raise NotImplementedError()"
   ]
  },
  {
   "cell_type": "code",
   "execution_count": 11,
   "id": "80b81bf9",
   "metadata": {
    "ExecuteTime": {
     "end_time": "2021-09-11T16:31:32.258955Z",
     "start_time": "2021-09-11T16:31:32.255714Z"
    },
    "deletable": false,
    "editable": false,
    "execution": {
     "iopub.execute_input": "2021-09-12T07:21:53.991696Z",
     "iopub.status.busy": "2021-09-12T07:21:53.991696Z",
     "iopub.status.idle": "2021-09-12T07:21:54.005665Z",
     "shell.execute_reply": "2021-09-12T07:21:54.004665Z",
     "shell.execute_reply.started": "2021-09-12T07:21:53.991696Z"
    },
    "nbgrader": {
     "cell_type": "code",
     "checksum": "a1e4bf0c075222171ba0ac9dc144f60c",
     "grade": true,
     "grade_id": "cell-eb8b5d5fcf535238",
     "locked": true,
     "points": 2.5,
     "schema_version": 3,
     "solution": false,
     "task": false
    }
   },
   "outputs": [],
   "source": [
    "# Check C_1"
   ]
  },
  {
   "cell_type": "code",
   "execution_count": 12,
   "id": "3d084cc8",
   "metadata": {
    "ExecuteTime": {
     "end_time": "2021-09-11T16:31:32.264230Z",
     "start_time": "2021-09-11T16:31:32.261586Z"
    },
    "deletable": false,
    "editable": false,
    "execution": {
     "iopub.execute_input": "2021-09-12T07:21:54.010644Z",
     "iopub.status.busy": "2021-09-12T07:21:54.009664Z",
     "iopub.status.idle": "2021-09-12T07:21:54.020621Z",
     "shell.execute_reply": "2021-09-12T07:21:54.019621Z",
     "shell.execute_reply.started": "2021-09-12T07:21:54.010644Z"
    },
    "nbgrader": {
     "cell_type": "code",
     "checksum": "0d1d5c9ce9eb5b6a4884bfd767b28a9a",
     "grade": true,
     "grade_id": "cell-6cc1902256a2bc99",
     "locked": true,
     "points": 2.5,
     "schema_version": 3,
     "solution": false,
     "task": false
    }
   },
   "outputs": [],
   "source": [
    "# Check C_2"
   ]
  },
  {
   "cell_type": "markdown",
   "id": "fe9b28f7",
   "metadata": {
    "deletable": false,
    "editable": false,
    "nbgrader": {
     "cell_type": "markdown",
     "checksum": "c3edd7ab18006e64e180331d0d1243d5",
     "grade": false,
     "grade_id": "cell-0e8a1047881d42d2",
     "locked": true,
     "schema_version": 3,
     "solution": false,
     "task": false
    }
   },
   "source": [
    "#### Q3 [5 pts]\n",
    "\n",
    "Suppose we wish to test if the difference between the average test scores of the top two models are statistically significant.\n",
    "\n",
    "Calculate Nadeau and Bengio's corrected t-statistic. "
   ]
  },
  {
   "cell_type": "markdown",
   "id": "8e5fa257",
   "metadata": {},
   "source": [
    "Notes: since C10 is > than C1, we want to check if this is statistically significant. So...\n",
    "\n",
    "nul hypothesis `H0: C10 = C1` <br>\n",
    "altr hypothesis `H1: C10 > C1`\n",
    "\n",
    "we would like to reject in favor of the alternative"
   ]
  },
  {
   "cell_type": "code",
   "execution_count": 13,
   "id": "756b34c9",
   "metadata": {
    "ExecuteTime": {
     "end_time": "2021-09-11T16:31:32.272305Z",
     "start_time": "2021-09-11T16:31:32.266294Z"
    },
    "deletable": false,
    "execution": {
     "iopub.execute_input": "2021-09-12T07:21:54.022613Z",
     "iopub.status.busy": "2021-09-12T07:21:54.021615Z",
     "iopub.status.idle": "2021-09-12T07:21:54.035579Z",
     "shell.execute_reply": "2021-09-12T07:21:54.034580Z",
     "shell.execute_reply.started": "2021-09-12T07:21:54.022613Z"
    },
    "nbgrader": {
     "cell_type": "code",
     "checksum": "75205c61f484ad07ed5fd76ca359e7f1",
     "grade": false,
     "grade_id": "cell-efb8531ed58db46d",
     "locked": false,
     "schema_version": 3,
     "solution": true,
     "task": false
    }
   },
   "outputs": [],
   "source": [
    "t_stat = None\n",
    "\n",
    "k = 10 # of folds\n",
    "r = 10 # of repetitions\n",
    "\n",
    "n = k*r\n",
    "x_diff = (np.array(test_scores[10])-np.array(test_scores[1]))\n",
    "# x_diff = (np.array(test_scores[1])-np.array(test_scores[10]))\n",
    "\n",
    "numerator = (1/n) * sum(x_diff)\n",
    "n_train = 90\n",
    "n_test = 10\n",
    "\n",
    "denominator = np.sqrt(((1/n)+(n_test/n_train))*np.var(x_diff, ddof=1))\n",
    "\n",
    "t_stat = numerator / denominator\n",
    "\n",
    "# YOUR CODE HERE\n",
    "# raise NotImplementedError()"
   ]
  },
  {
   "cell_type": "code",
   "execution_count": 14,
   "id": "e7e0acc8",
   "metadata": {
    "ExecuteTime": {
     "end_time": "2021-09-11T16:31:32.280814Z",
     "start_time": "2021-09-11T16:31:32.274592Z"
    },
    "execution": {
     "iopub.execute_input": "2021-09-12T07:21:54.038570Z",
     "iopub.status.busy": "2021-09-12T07:21:54.037573Z",
     "iopub.status.idle": "2021-09-12T07:21:54.051537Z",
     "shell.execute_reply": "2021-09-12T07:21:54.050537Z",
     "shell.execute_reply.started": "2021-09-12T07:21:54.038570Z"
    }
   },
   "outputs": [
    {
     "data": {
      "text/plain": [
       "0.08827502697599406"
      ]
     },
     "execution_count": 14,
     "metadata": {},
     "output_type": "execute_result"
    }
   ],
   "source": [
    "t_stat"
   ]
  },
  {
   "cell_type": "code",
   "execution_count": 15,
   "id": "f41aac0d",
   "metadata": {
    "ExecuteTime": {
     "end_time": "2021-09-11T16:31:32.286047Z",
     "start_time": "2021-09-11T16:31:32.282951Z"
    },
    "deletable": false,
    "editable": false,
    "execution": {
     "iopub.execute_input": "2021-09-12T07:21:54.053531Z",
     "iopub.status.busy": "2021-09-12T07:21:54.053531Z",
     "iopub.status.idle": "2021-09-12T07:21:54.066496Z",
     "shell.execute_reply": "2021-09-12T07:21:54.065498Z",
     "shell.execute_reply.started": "2021-09-12T07:21:54.053531Z"
    },
    "nbgrader": {
     "cell_type": "code",
     "checksum": "ed6e1623110cb593c7921379924828ef",
     "grade": true,
     "grade_id": "cell-2868c62a8bf95729",
     "locked": true,
     "points": 5,
     "schema_version": 3,
     "solution": false,
     "task": false
    }
   },
   "outputs": [],
   "source": [
    "# Check t_stat"
   ]
  },
  {
   "cell_type": "markdown",
   "id": "ae539d11",
   "metadata": {},
   "source": [
    "#### Q4 [5 pts]\n",
    "\n",
    "Calculate the p-value of this statistic."
   ]
  },
  {
   "cell_type": "code",
   "execution_count": 16,
   "id": "3fb430a0",
   "metadata": {
    "ExecuteTime": {
     "end_time": "2021-09-11T16:31:32.296210Z",
     "start_time": "2021-09-11T16:31:32.288916Z"
    },
    "deletable": false,
    "execution": {
     "iopub.execute_input": "2021-09-12T07:21:54.068491Z",
     "iopub.status.busy": "2021-09-12T07:21:54.067494Z",
     "iopub.status.idle": "2021-09-12T07:21:54.081455Z",
     "shell.execute_reply": "2021-09-12T07:21:54.080458Z",
     "shell.execute_reply.started": "2021-09-12T07:21:54.068491Z"
    },
    "nbgrader": {
     "cell_type": "code",
     "checksum": "3166c8a15d6737c46e90fafe44107907",
     "grade": false,
     "grade_id": "cell-d855cf66fa8b7886",
     "locked": false,
     "schema_version": 3,
     "solution": true,
     "task": false
    }
   },
   "outputs": [
    {
     "data": {
      "text/plain": [
       "0.4649182041780664"
      ]
     },
     "execution_count": 16,
     "metadata": {},
     "output_type": "execute_result"
    }
   ],
   "source": [
    "from scipy.stats import t\n",
    "\n",
    "p_value = None\n",
    "\n",
    "p_value = (1 - t.cdf(np.abs(t_stat), df=n-1)) # right tailed\n",
    "p_value\n",
    "# YOUR CODE HERE\n",
    "# raise NotImplementedError()"
   ]
  },
  {
   "cell_type": "code",
   "execution_count": 17,
   "id": "6f662e45",
   "metadata": {
    "ExecuteTime": {
     "end_time": "2021-09-11T16:31:32.301955Z",
     "start_time": "2021-09-11T16:31:32.298897Z"
    },
    "deletable": false,
    "editable": false,
    "execution": {
     "iopub.execute_input": "2021-09-12T07:21:54.082454Z",
     "iopub.status.busy": "2021-09-12T07:21:54.082454Z",
     "iopub.status.idle": "2021-09-12T07:21:54.096416Z",
     "shell.execute_reply": "2021-09-12T07:21:54.095419Z",
     "shell.execute_reply.started": "2021-09-12T07:21:54.082454Z"
    },
    "nbgrader": {
     "cell_type": "code",
     "checksum": "ad4558912f9e0e5dcbcb6d3b1b4e0142",
     "grade": true,
     "grade_id": "cell-bf711e22ddaaee4e",
     "locked": true,
     "points": 5,
     "schema_version": 3,
     "solution": false,
     "task": false
    }
   },
   "outputs": [],
   "source": [
    "# Check p_value"
   ]
  },
  {
   "cell_type": "markdown",
   "id": "3f8cf289",
   "metadata": {
    "deletable": false,
    "editable": false,
    "nbgrader": {
     "cell_type": "markdown",
     "checksum": "98767a3d2688106cd7e66aa392c997b5",
     "grade": false,
     "grade_id": "cell-5594bec3029618df",
     "locked": true,
     "schema_version": 3,
     "solution": false,
     "task": false
    }
   },
   "source": [
    "#### Epilogue\n",
    "\n",
    "Given the p-value you just calculated, what can you say about the difference between the top two models?\n",
    "\n",
    "This question is rhetorical. There are no points to be found here. :^)"
   ]
  },
  {
   "cell_type": "markdown",
   "id": "57bc0626",
   "metadata": {
    "deletable": false,
    "editable": false,
    "nbgrader": {
     "cell_type": "markdown",
     "checksum": "dba8374fd921e599476a5c4ba734158f",
     "grade": false,
     "grade_id": "cell-cb672d7e3c82b612",
     "locked": true,
     "schema_version": 3,
     "solution": false,
     "task": false
    }
   },
   "source": [
    "---\n",
    "\n",
    "## Bayesian Statistics [10 pts]\n",
    "\n",
    "<div class=\"alert alert-block alert-info\">\n",
    "    <b>Instructions</b>\n",
    "    <ol>\n",
    "        <li>The asserts in this section all check for exact equality.</li>\n",
    "        <li>While I ask you to plot the distributions, the asserts (and your points) are entirely based of the parameters.</li>\n",
    "    </ol>\n",
    "</div>\n",
    "\n",
    "Suppose we wish to model the <u>number of annual insurance claims</u> using a [`Poisson distribution`](https://en.wikipedia.org/wiki/Poisson_distribution) with mean $\\lambda$.\n",
    "\n",
    "Following a Bayesian approach, we also model the prior distribution of $\\lambda$ using a [`Gamma distribution`](https://en.wikipedia.org/wiki/Gamma_distribution) with shape and rate parameters $\\alpha$ and $\\beta$.\n",
    "\n",
    "We wish to test two priors. The first prior has a mean of $0.5$ and the second prior has a mean of $1.5$."
   ]
  },
  {
   "cell_type": "markdown",
   "id": "ba6be274",
   "metadata": {
    "deletable": false,
    "editable": false,
    "nbgrader": {
     "cell_type": "markdown",
     "checksum": "5df20a2978924832696851e2cb1da421",
     "grade": false,
     "grade_id": "cell-1d53b20bd417859c",
     "locked": true,
     "schema_version": 3,
     "solution": false,
     "task": false
    }
   },
   "source": [
    "#### Q1 [5 pts]\n",
    "\n",
    "Plot the prior distributions and label them appropriately. Set the range of $x$ values to be from $0$ to $5$.\n",
    "\n",
    "*Hint: Read the documentation of [`scipy.stats.gamma`](https://docs.scipy.org/doc/scipy/reference/generated/scipy.stats.gamma.html) carefully.*"
   ]
  },
  {
   "cell_type": "code",
   "execution_count": 18,
   "id": "6aaed2f1",
   "metadata": {
    "ExecuteTime": {
     "end_time": "2021-09-11T16:31:32.312160Z",
     "start_time": "2021-09-11T16:31:32.305399Z"
    },
    "deletable": false,
    "execution": {
     "iopub.execute_input": "2021-09-12T07:21:54.098411Z",
     "iopub.status.busy": "2021-09-12T07:21:54.097414Z",
     "iopub.status.idle": "2021-09-12T07:21:54.111377Z",
     "shell.execute_reply": "2021-09-12T07:21:54.110378Z",
     "shell.execute_reply.started": "2021-09-12T07:21:54.098411Z"
    },
    "nbgrader": {
     "cell_type": "code",
     "checksum": "7fc11f64dc8cc507702e2feb308070e7",
     "grade": false,
     "grade_id": "cell-9a3f31e6633548c9",
     "locked": false,
     "schema_version": 3,
     "solution": true,
     "task": false
    }
   },
   "outputs": [],
   "source": [
    "from scipy.stats import gamma\n",
    "\n",
    "alpha1 = 1\n",
    "beta1 = 2\n",
    "\n",
    "alpha2 = 3\n",
    "beta2 = 2\n",
    "\n",
    "x_range = np.linspace(0.0,5.0,100)\n",
    "# YOUR CODE HERE\n",
    "# raise NotImplementedError()"
   ]
  },
  {
   "cell_type": "code",
   "execution_count": 19,
   "id": "cc75828a",
   "metadata": {
    "ExecuteTime": {
     "end_time": "2021-09-11T16:31:32.646561Z",
     "start_time": "2021-09-11T16:31:32.316033Z"
    },
    "execution": {
     "iopub.execute_input": "2021-09-12T07:21:54.113370Z",
     "iopub.status.busy": "2021-09-12T07:21:54.112373Z",
     "iopub.status.idle": "2021-09-12T07:21:54.383648Z",
     "shell.execute_reply": "2021-09-12T07:21:54.382652Z",
     "shell.execute_reply.started": "2021-09-12T07:21:54.113370Z"
    }
   },
   "outputs": [
    {
     "data": {
      "image/png": "[encoded data removed]",
      "text/plain": [
       "<Figure size 1080x360 with 1 Axes>"
      ]
     },
     "metadata": {
      "needs_background": "light"
     },
     "output_type": "display_data"
    }
   ],
   "source": [
    "fig, ax = plt.subplots(figsize=(15,5))\n",
    "ax.plot(x_range, gamma.pdf(x_range, a=alpha1, scale=1/beta1), label='prior 1')\n",
    "ax.axvline(gamma.stats(moments='m', a=alpha1, scale=1/beta1), ls='--', label='prior 1 mean')\n",
    "ax.plot(x_range, gamma.pdf(x_range, a=alpha2, scale=1/beta2), label='prior 2')\n",
    "ax.axvline(gamma.stats(moments='m', a=alpha2, scale=1/beta2), ls='--', label='prior 2 mean', color='orange')\n",
    "plt.title('Gamma Prior Distributions')\n",
    "plt.legend()\n",
    "plt.show()"
   ]
  },
  {
   "cell_type": "code",
   "execution_count": 20,
   "id": "e68e650e",
   "metadata": {
    "ExecuteTime": {
     "end_time": "2021-09-11T16:31:32.651225Z",
     "start_time": "2021-09-11T16:31:32.648534Z"
    },
    "deletable": false,
    "editable": false,
    "execution": {
     "iopub.execute_input": "2021-09-12T07:21:54.384646Z",
     "iopub.status.busy": "2021-09-12T07:21:54.384646Z",
     "iopub.status.idle": "2021-09-12T07:21:54.398608Z",
     "shell.execute_reply": "2021-09-12T07:21:54.397612Z",
     "shell.execute_reply.started": "2021-09-12T07:21:54.384646Z"
    },
    "nbgrader": {
     "cell_type": "code",
     "checksum": "ed5fcb991acf119eae70987b70916d9c",
     "grade": true,
     "grade_id": "cell-81e70c62edb2aefa",
     "locked": true,
     "points": 1.25,
     "schema_version": 3,
     "solution": false,
     "task": false
    }
   },
   "outputs": [],
   "source": [
    "# Check alpha1"
   ]
  },
  {
   "cell_type": "code",
   "execution_count": 21,
   "id": "c7746443",
   "metadata": {
    "ExecuteTime": {
     "end_time": "2021-09-11T16:31:32.658173Z",
     "start_time": "2021-09-11T16:31:32.654227Z"
    },
    "deletable": false,
    "editable": false,
    "execution": {
     "iopub.execute_input": "2021-09-12T07:21:54.400602Z",
     "iopub.status.busy": "2021-09-12T07:21:54.399605Z",
     "iopub.status.idle": "2021-09-12T07:21:54.413569Z",
     "shell.execute_reply": "2021-09-12T07:21:54.412570Z",
     "shell.execute_reply.started": "2021-09-12T07:21:54.399605Z"
    },
    "nbgrader": {
     "cell_type": "code",
     "checksum": "8bfd3fd33e8051c054d6fdb8ebe7e6cb",
     "grade": true,
     "grade_id": "cell-e0549e4b33ce7f10",
     "locked": true,
     "points": 1.25,
     "schema_version": 3,
     "solution": false,
     "task": false
    }
   },
   "outputs": [],
   "source": [
    "# Check beta1"
   ]
  },
  {
   "cell_type": "code",
   "execution_count": 22,
   "id": "76ebb68e",
   "metadata": {
    "ExecuteTime": {
     "end_time": "2021-09-11T16:31:32.665707Z",
     "start_time": "2021-09-11T16:31:32.662003Z"
    },
    "deletable": false,
    "editable": false,
    "execution": {
     "iopub.execute_input": "2021-09-12T07:21:54.415564Z",
     "iopub.status.busy": "2021-09-12T07:21:54.414567Z",
     "iopub.status.idle": "2021-09-12T07:21:54.429525Z",
     "shell.execute_reply": "2021-09-12T07:21:54.428529Z",
     "shell.execute_reply.started": "2021-09-12T07:21:54.415564Z"
    },
    "nbgrader": {
     "cell_type": "code",
     "checksum": "76cf6af14a4657680401b075932117ba",
     "grade": true,
     "grade_id": "cell-be76ab1edb59760d",
     "locked": true,
     "points": 1.25,
     "schema_version": 3,
     "solution": false,
     "task": false
    }
   },
   "outputs": [],
   "source": [
    "# Check alpha2"
   ]
  },
  {
   "cell_type": "code",
   "execution_count": 23,
   "id": "3777ed67",
   "metadata": {
    "ExecuteTime": {
     "end_time": "2021-09-11T16:31:32.680051Z",
     "start_time": "2021-09-11T16:31:32.675704Z"
    },
    "deletable": false,
    "editable": false,
    "execution": {
     "iopub.execute_input": "2021-09-12T07:21:54.431522Z",
     "iopub.status.busy": "2021-09-12T07:21:54.430525Z",
     "iopub.status.idle": "2021-09-12T07:21:54.443488Z",
     "shell.execute_reply": "2021-09-12T07:21:54.443488Z",
     "shell.execute_reply.started": "2021-09-12T07:21:54.431522Z"
    },
    "nbgrader": {
     "cell_type": "code",
     "checksum": "e754e42fef8c6a4c916a1c217b3e653e",
     "grade": true,
     "grade_id": "cell-9b2eb60f8c3489a5",
     "locked": true,
     "points": 1.25,
     "schema_version": 3,
     "solution": false,
     "task": false
    }
   },
   "outputs": [],
   "source": [
    "# Check beta2"
   ]
  },
  {
   "cell_type": "markdown",
   "id": "824f7e32",
   "metadata": {
    "deletable": false,
    "editable": false,
    "nbgrader": {
     "cell_type": "markdown",
     "checksum": "248bf596431ea625ba76c349f82e21d2",
     "grade": false,
     "grade_id": "cell-cf0a42eb7cb88a0b",
     "locked": true,
     "schema_version": 3,
     "solution": false,
     "task": false
    }
   },
   "source": [
    "#### Q2 [5 pts]\n",
    "\n",
    "You observe the following historical claim counts: 1, 3, 3, 0, 0, 7, 2, 2.\n",
    "\n",
    "Plot the posterior distributions and label them appropriately. Set the range of $x$ values to be from $0$ to $5$."
   ]
  },
  {
   "attachments": {
    "image.png": {
     "image/png": "[encoded data removed]"
    }
   },
   "cell_type": "markdown",
   "id": "25233ce9",
   "metadata": {},
   "source": [
    "![image.png](attachment:image.png)"
   ]
  },
  {
   "cell_type": "code",
   "execution_count": 24,
   "id": "431f1826",
   "metadata": {
    "ExecuteTime": {
     "end_time": "2021-09-11T16:31:32.688151Z",
     "start_time": "2021-09-11T16:31:32.684716Z"
    },
    "execution": {
     "iopub.execute_input": "2021-09-12T07:21:54.445484Z",
     "iopub.status.busy": "2021-09-12T07:21:54.445484Z",
     "iopub.status.idle": "2021-09-12T07:21:54.459445Z",
     "shell.execute_reply": "2021-09-12T07:21:54.458449Z",
     "shell.execute_reply.started": "2021-09-12T07:21:54.445484Z"
    }
   },
   "outputs": [],
   "source": [
    "# from sympy import simplify, symbols, exp, factorial\n",
    "# from math import \n",
    "# simplify()"
   ]
  },
  {
   "cell_type": "code",
   "execution_count": 25,
   "id": "15d2b4db",
   "metadata": {
    "ExecuteTime": {
     "end_time": "2021-09-11T16:31:32.977493Z",
     "start_time": "2021-09-11T16:31:32.691190Z"
    },
    "deletable": false,
    "execution": {
     "iopub.execute_input": "2021-09-12T07:21:54.461443Z",
     "iopub.status.busy": "2021-09-12T07:21:54.460443Z",
     "iopub.status.idle": "2021-09-12T07:21:54.673879Z",
     "shell.execute_reply": "2021-09-12T07:21:54.672881Z",
     "shell.execute_reply.started": "2021-09-12T07:21:54.461443Z"
    },
    "nbgrader": {
     "cell_type": "code",
     "checksum": "073abf7ec918421c09892f675a148f81",
     "grade": false,
     "grade_id": "cell-a3a6aef3cb4d3a9e",
     "locked": false,
     "schema_version": 3,
     "solution": true,
     "task": false
    }
   },
   "outputs": [
    {
     "data": {
      "image/png": "[encoded data removed]",
      "text/plain": [
       "<Figure size 1080x360 with 1 Axes>"
      ]
     },
     "metadata": {
      "needs_background": "light"
     },
     "output_type": "display_data"
    }
   ],
   "source": [
    "obs = [1,3,3,0,0,7,2,2]\n",
    "sum_x = sum(obs)\n",
    "alpha1_post = alpha1 + sum_x\n",
    "beta1_post = beta1 + len(obs)\n",
    "\n",
    "alpha2_post = alpha2 + sum_x\n",
    "beta2_post = beta2 + len(obs)\n",
    "\n",
    "\n",
    "fig, ax = plt.subplots(figsize=(15,5))\n",
    "ax.plot(x_range, gamma.pdf(x_range, a=alpha1_post, scale=1/beta1_post), label='post 1')\n",
    "ax.axvline(gamma.stats(moments='m', a=alpha1_post, scale=1/beta1_post), ls='--', label='post 1 mean')\n",
    "ax.plot(x_range, gamma.pdf(x_range, a=alpha2_post, scale=1/beta2_post), label='post 2')\n",
    "ax.axvline(gamma.stats(moments='m', a=alpha2_post, scale=1/beta2_post), ls='--', label='post 2 mean', color='orange')\n",
    "plt.title('Gamma Posterior Distributions')\n",
    "plt.legend()\n",
    "plt.show()\n",
    "# YOUR CODE HERE\n",
    "# raise NotImplementedError()"
   ]
  },
  {
   "cell_type": "code",
   "execution_count": 26,
   "id": "4f4a3fc5",
   "metadata": {
    "ExecuteTime": {
     "end_time": "2021-09-11T16:31:32.985424Z",
     "start_time": "2021-09-11T16:31:32.981397Z"
    },
    "deletable": false,
    "editable": false,
    "execution": {
     "iopub.execute_input": "2021-09-12T07:21:54.675874Z",
     "iopub.status.busy": "2021-09-12T07:21:54.674876Z",
     "iopub.status.idle": "2021-09-12T07:21:54.689835Z",
     "shell.execute_reply": "2021-09-12T07:21:54.688840Z",
     "shell.execute_reply.started": "2021-09-12T07:21:54.675874Z"
    },
    "nbgrader": {
     "cell_type": "code",
     "checksum": "17501301237a44e1a556c8cf046533a6",
     "grade": true,
     "grade_id": "cell-41c55f1543545e26",
     "locked": true,
     "points": 1.25,
     "schema_version": 3,
     "solution": false,
     "task": false
    }
   },
   "outputs": [],
   "source": [
    "# Check alpha1_post"
   ]
  },
  {
   "cell_type": "code",
   "execution_count": 27,
   "id": "4501482d",
   "metadata": {
    "ExecuteTime": {
     "end_time": "2021-09-11T16:31:32.993553Z",
     "start_time": "2021-09-11T16:31:32.989600Z"
    },
    "deletable": false,
    "editable": false,
    "execution": {
     "iopub.execute_input": "2021-09-12T07:21:54.691833Z",
     "iopub.status.busy": "2021-09-12T07:21:54.691833Z",
     "iopub.status.idle": "2021-09-12T07:21:54.705795Z",
     "shell.execute_reply": "2021-09-12T07:21:54.704797Z",
     "shell.execute_reply.started": "2021-09-12T07:21:54.691833Z"
    },
    "nbgrader": {
     "cell_type": "code",
     "checksum": "cc80235b817fb046f8712d6baaaed497",
     "grade": true,
     "grade_id": "cell-2cde32a8ff0c1d51",
     "locked": true,
     "points": 1.25,
     "schema_version": 3,
     "solution": false,
     "task": false
    }
   },
   "outputs": [],
   "source": [
    "# Check beta1_post"
   ]
  },
  {
   "cell_type": "code",
   "execution_count": 28,
   "id": "be960e92",
   "metadata": {
    "ExecuteTime": {
     "end_time": "2021-09-11T16:31:33.001391Z",
     "start_time": "2021-09-11T16:31:32.997959Z"
    },
    "deletable": false,
    "editable": false,
    "execution": {
     "iopub.execute_input": "2021-09-12T07:21:54.706792Z",
     "iopub.status.busy": "2021-09-12T07:21:54.705795Z",
     "iopub.status.idle": "2021-09-12T07:21:54.719755Z",
     "shell.execute_reply": "2021-09-12T07:21:54.719755Z",
     "shell.execute_reply.started": "2021-09-12T07:21:54.706792Z"
    },
    "nbgrader": {
     "cell_type": "code",
     "checksum": "c193621cea5633fda93f9980c354659c",
     "grade": true,
     "grade_id": "cell-59ee23382f936041",
     "locked": true,
     "points": 1.25,
     "schema_version": 3,
     "solution": false,
     "task": false
    }
   },
   "outputs": [],
   "source": [
    "# Check alpha2_post"
   ]
  },
  {
   "cell_type": "code",
   "execution_count": 29,
   "id": "8173e68b",
   "metadata": {
    "ExecuteTime": {
     "end_time": "2021-09-11T16:31:33.006983Z",
     "start_time": "2021-09-11T16:31:33.004171Z"
    },
    "deletable": false,
    "editable": false,
    "execution": {
     "iopub.execute_input": "2021-09-12T07:21:54.721752Z",
     "iopub.status.busy": "2021-09-12T07:21:54.720754Z",
     "iopub.status.idle": "2021-09-12T07:21:54.735713Z",
     "shell.execute_reply": "2021-09-12T07:21:54.734717Z",
     "shell.execute_reply.started": "2021-09-12T07:21:54.721752Z"
    },
    "nbgrader": {
     "cell_type": "code",
     "checksum": "7c2e2e96d8a76fa360708e85420bfef3",
     "grade": true,
     "grade_id": "cell-f599a1934896157b",
     "locked": true,
     "points": 1.25,
     "schema_version": 3,
     "solution": false,
     "task": false
    }
   },
   "outputs": [],
   "source": [
    "# Check beta2_post"
   ]
  },
  {
   "cell_type": "markdown",
   "id": "70fb3fe2",
   "metadata": {
    "deletable": false,
    "editable": false,
    "nbgrader": {
     "cell_type": "markdown",
     "checksum": "d4e55c10e2dbc2a46e52a6f292472ca5",
     "grade": false,
     "grade_id": "cell-5565aaae8966e9ee",
     "locked": true,
     "schema_version": 3,
     "solution": false,
     "task": false
    }
   },
   "source": [
    "---\n",
    "\n",
    "## Monte Carlo Simulation [25 pts]\n",
    "\n",
    "### Dungeons & Dragons\n",
    "\n",
    "This sections presents a collection of D&D related questions. Hopefully, answering them inspires you to play D&D.\n",
    "\n",
    "Click [`here`](https://media.wizards.com/2018/dnd/downloads/DnD_BasicRules_2018.pdf) to read the free basic rules for 5th Edition D&D. (not required)\n",
    "\n",
    "<div class=\"alert alert-block alert-info\">\n",
    "    <b>Instructions</b>\n",
    "    <ol>\n",
    "        <li>The questions below are designed to be answered from using a Monte Carlo approach. If you wish, you may attempt to solve them analytically.</li>\n",
    "        <li>When using Monte Carlo, make sure to set your sample/simulation size to be large enough such that your results are stable.</li>\n",
    "        <li>Make sure that each cell takes <i>at most</i> 30 seconds to run.</li>\n",
    "        <li>All asserts (hidden and unhidden) in this section have a tolerance of 2 decimal places.</li>   \n",
    "    </ol>\n",
    "</div>"
   ]
  },
  {
   "cell_type": "markdown",
   "id": "4d87ba55",
   "metadata": {
    "deletable": false,
    "editable": false,
    "nbgrader": {
     "cell_type": "markdown",
     "checksum": "7c16c8f6850006b71417d45c57e5efa0",
     "grade": false,
     "grade_id": "cell-5ebbfeed885d6b9b",
     "locked": true,
     "schema_version": 3,
     "solution": false,
     "task": false
    }
   },
   "source": [
    "#### Q1 [10 pts] \n",
    "*(5 Unhidden, 5 Hidden)*\n",
    "\n",
    "Recall that:\n",
    "\n",
    "- An attack will hit if the *attack roll* is equal to or exceeds the target's *armor class* (AC).\n",
    "\n",
    "- An attack roll is made by rolling a d20 and adding the appropriate *ability modifier* and *proficiency bonus*.\n",
    "\n",
    "- When rolling with advantage, you may roll the d20 twice and take the higher result.\n",
    "\n",
    "- Rolling a 1 on the die results in an automatic miss and a rolling a 20 on the die results in an automatic hit (regardless of the attack roll's total).\n",
    "\n",
    "Suppose that a rogue makes an attack roll with her rapier against a bandit with 15 AC from *stealth*. She has a Dex mod of +4 and a proficiency bonus of +2.\n",
    "\n",
    "*Note 1: The ability modifier used for a melee weapon attack is Strength, and the ability modifier used for a ranged weapon attack is Dexterity. Weapons that have the finesse or thrown property break this rule.*\n",
    "\n",
    "*Note 2: Rapiers have the finesse property.*\n",
    "\n",
    "Attacking from stealth allows the rogue to make the attack roll with *advantage*.\n",
    "\n",
    "Create a function that can calculate the probability that the rogue's attack will hit the bandit."
   ]
  },
  {
   "attachments": {
    "image.png": {
     "image/png": "[encoded data removed]"
    }
   },
   "cell_type": "markdown",
   "id": "cb608cfe",
   "metadata": {},
   "source": [
    "![image.png](attachment:image.png)\n",
    "\n",
    "https://rpg.stackexchange.com/questions/71829/does-rolling-a-1-with-advantage-cancel-out-the-higher-roll"
   ]
  },
  {
   "cell_type": "code",
   "execution_count": 30,
   "id": "198baa24",
   "metadata": {
    "ExecuteTime": {
     "end_time": "2021-09-11T16:31:33.035866Z",
     "start_time": "2021-09-11T16:31:33.009960Z"
    },
    "execution": {
     "iopub.execute_input": "2021-09-12T07:21:54.737708Z",
     "iopub.status.busy": "2021-09-12T07:21:54.736712Z",
     "iopub.status.idle": "2021-09-12T07:21:54.751673Z",
     "shell.execute_reply": "2021-09-12T07:21:54.750676Z",
     "shell.execute_reply.started": "2021-09-12T07:21:54.737708Z"
    }
   },
   "outputs": [],
   "source": [
    "# abl_mod = 4\n",
    "# prof_bonus = 2\n",
    "# target_ac=15\n",
    "# advantage = True\n",
    "# hit = 0\n",
    "# miss = 0\n",
    "# n_trials = 1_000\n",
    "# for _ in range(n_trials):\n",
    "#     roll_1 = np.random.choice(np.arange(1,21))\n",
    "#     if advantage:\n",
    "#         roll_2 = np.random.choice(np.arange(1,21))\n",
    "#         roll = max(roll_1, roll_2)\n",
    "#         if roll == 1:\n",
    "#             miss = miss + 1\n",
    "#             break\n",
    "#         elif roll == 20:\n",
    "#             hit = hit + 1\n",
    "#             break\n",
    "#     else:\n",
    "#         roll = roll_1\n",
    "#         if roll == 1:\n",
    "#             miss = miss + 1\n",
    "#             break\n",
    "#         elif roll == 20:\n",
    "#             hit = hit + 1\n",
    "#             break\n",
    "#     if (roll + abl_mod + prof_bonus) >= target_ac:\n",
    "#         hit = hit + 1\n",
    "#     else:\n",
    "#         miss = miss + 1\n",
    "# p_hit = hit/n_trials\n",
    "# print(hit, miss, p_hit)\n",
    "# # return p_hit\n",
    "        "
   ]
  },
  {
   "cell_type": "code",
   "execution_count": 31,
   "id": "13c5f87a",
   "metadata": {
    "ExecuteTime": {
     "end_time": "2021-09-11T16:31:51.184161Z",
     "start_time": "2021-09-11T16:31:33.038851Z"
    },
    "deletable": false,
    "execution": {
     "iopub.execute_input": "2021-09-12T07:21:54.753666Z",
     "iopub.status.busy": "2021-09-12T07:21:54.753666Z",
     "iopub.status.idle": "2021-09-12T07:21:55.379562Z",
     "shell.execute_reply": "2021-09-12T07:21:55.378564Z",
     "shell.execute_reply.started": "2021-09-12T07:21:54.753666Z"
    },
    "nbgrader": {
     "cell_type": "code",
     "checksum": "4d07e44fd7a71266b59747d6bc8c6d78",
     "grade": false,
     "grade_id": "cell-8e76ad3e6e26c417",
     "locked": false,
     "schema_version": 3,
     "solution": true,
     "task": false
    },
    "scrolled": true,
    "tags": []
   },
   "outputs": [
    {
     "name": "stdout",
     "output_type": "stream",
     "text": [
      "Probability of a Hit: 0.83815\n"
     ]
    }
   ],
   "source": [
    "def p_hit(abl_mod=0, prof_bonus=0, target_ac=10, advantage=False):\n",
    "    res = []\n",
    "    n_trials = 20_000\n",
    "    for i in range(n_trials):\n",
    "#         print('i = ',i)\n",
    "        roll_1 = np.random.choice(np.arange(1,21))\n",
    "        if advantage:\n",
    "            roll_2 = np.random.choice(np.arange(1,21))\n",
    "            roll = max(roll_1, roll_2)\n",
    "#             print('roll = ', roll)\n",
    "            if roll == 1:\n",
    "#                 print('rolled 1: MISS')\n",
    "                res.append(0)\n",
    "#                 print('-----end-----')\n",
    "                continue\n",
    "                \n",
    "            elif roll == 20:\n",
    "#                 print('rolled 20: HIT')\n",
    "                res.append(1)\n",
    "#                 print('-----end-----')\n",
    "                continue\n",
    "                \n",
    "        else:\n",
    "            roll = roll_1\n",
    "            if roll == 1:\n",
    "#                 print('rolled 1: MISS')\n",
    "                res.append(0)\n",
    "#                 print('-----end-----')\n",
    "                continue\n",
    "                \n",
    "            elif roll == 20:\n",
    "#                 print('rolled 20: HIT')\n",
    "                res.append(1)\n",
    "#                 print('-----end-----')\n",
    "                continue\n",
    "                \n",
    "#         print('score = ',roll + abl_mod + prof_bonus, end='')\n",
    "        if (roll + abl_mod + prof_bonus) >= target_ac:\n",
    "#             print(': HIT')\n",
    "            res.append(1)\n",
    "        else:\n",
    "#             print(': MISS')\n",
    "            res.append(0)\n",
    "#         print('-----end-----')\n",
    "    p_hit = sum(res) / n_trials\n",
    "#     print(p_hit)\n",
    "    \n",
    "    return p_hit\n",
    "\n",
    "p = p_hit(abl_mod=4, prof_bonus=2, target_ac=15, advantage=True)\n",
    "\n",
    "print('Probability of a Hit:', p)"
   ]
  },
  {
   "cell_type": "code",
   "execution_count": 32,
   "id": "d135ece6",
   "metadata": {
    "ExecuteTime": {
     "end_time": "2021-09-11T16:31:51.190629Z",
     "start_time": "2021-09-11T16:31:51.186535Z"
    },
    "deletable": false,
    "editable": false,
    "execution": {
     "iopub.execute_input": "2021-09-12T07:21:55.380560Z",
     "iopub.status.busy": "2021-09-12T07:21:55.380560Z",
     "iopub.status.idle": "2021-09-12T07:21:55.394576Z",
     "shell.execute_reply": "2021-09-12T07:21:55.394576Z",
     "shell.execute_reply.started": "2021-09-12T07:21:55.380560Z"
    },
    "nbgrader": {
     "cell_type": "code",
     "checksum": "e1e484229d8c1433809dc1acdd567ad5",
     "grade": true,
     "grade_id": "cell-2b5d5cb0b8ed198f",
     "locked": true,
     "points": 1,
     "schema_version": 3,
     "solution": false,
     "task": false
    }
   },
   "outputs": [],
   "source": [
    "assert_almost_equal(p, 0.84, decimal=2)"
   ]
  },
  {
   "cell_type": "code",
   "execution_count": 33,
   "id": "ac9e2664",
   "metadata": {
    "ExecuteTime": {
     "end_time": "2021-09-11T16:32:04.389953Z",
     "start_time": "2021-09-11T16:31:51.192244Z"
    },
    "deletable": false,
    "editable": false,
    "execution": {
     "iopub.execute_input": "2021-09-12T07:21:55.396516Z",
     "iopub.status.busy": "2021-09-12T07:21:55.395520Z",
     "iopub.status.idle": "2021-09-12T07:21:55.729626Z",
     "shell.execute_reply": "2021-09-12T07:21:55.728629Z",
     "shell.execute_reply.started": "2021-09-12T07:21:55.395520Z"
    },
    "nbgrader": {
     "cell_type": "code",
     "checksum": "c18e94c25acf9bab1816331c98e4e0f7",
     "grade": true,
     "grade_id": "cell-a124d292c07a91a5",
     "locked": true,
     "points": 1,
     "schema_version": 3,
     "solution": false,
     "task": false
    },
    "scrolled": true,
    "tags": []
   },
   "outputs": [],
   "source": [
    "assert_almost_equal(p_hit(target_ac=30, advantage=False), 0.05, decimal=2)"
   ]
  },
  {
   "cell_type": "code",
   "execution_count": 34,
   "id": "b4184744",
   "metadata": {
    "ExecuteTime": {
     "end_time": "2021-09-11T16:32:17.176896Z",
     "start_time": "2021-09-11T16:32:04.392084Z"
    },
    "deletable": false,
    "editable": false,
    "execution": {
     "iopub.execute_input": "2021-09-12T07:21:55.730647Z",
     "iopub.status.busy": "2021-09-12T07:21:55.730647Z",
     "iopub.status.idle": "2021-09-12T07:21:56.034809Z",
     "shell.execute_reply": "2021-09-12T07:21:56.034809Z",
     "shell.execute_reply.started": "2021-09-12T07:21:55.730647Z"
    },
    "nbgrader": {
     "cell_type": "code",
     "checksum": "dc4a4d56ae80fecb0a75990b21c48b98",
     "grade": true,
     "grade_id": "cell-bd4b15c584ab9a5f",
     "locked": true,
     "points": 1,
     "schema_version": 3,
     "solution": false,
     "task": false
    },
    "scrolled": true,
    "tags": []
   },
   "outputs": [],
   "source": [
    "assert_almost_equal(p_hit(target_ac=1, advantage=False), 0.95, decimal=2)"
   ]
  },
  {
   "cell_type": "code",
   "execution_count": 35,
   "id": "9e66bd73",
   "metadata": {
    "ExecuteTime": {
     "end_time": "2021-09-11T16:32:30.163990Z",
     "start_time": "2021-09-11T16:32:17.179051Z"
    },
    "deletable": false,
    "editable": false,
    "execution": {
     "iopub.execute_input": "2021-09-12T07:21:56.035808Z",
     "iopub.status.busy": "2021-09-12T07:21:56.035808Z",
     "iopub.status.idle": "2021-09-12T07:21:56.339435Z",
     "shell.execute_reply": "2021-09-12T07:21:56.338437Z",
     "shell.execute_reply.started": "2021-09-12T07:21:56.035808Z"
    },
    "nbgrader": {
     "cell_type": "code",
     "checksum": "82d2cbb9686e40b9587f9ea65c406caa",
     "grade": true,
     "grade_id": "cell-5245fb90da95c357",
     "locked": true,
     "points": 1,
     "schema_version": 3,
     "solution": false,
     "task": false
    },
    "scrolled": true,
    "tags": []
   },
   "outputs": [],
   "source": [
    "assert_almost_equal(p_hit(abl_mod=5, prof_bonus=4, target_ac=20, advantage=False), 0.5, decimal=2)"
   ]
  },
  {
   "cell_type": "code",
   "execution_count": 36,
   "id": "28b9224b",
   "metadata": {
    "ExecuteTime": {
     "end_time": "2021-09-11T16:32:43.374295Z",
     "start_time": "2021-09-11T16:32:30.169099Z"
    },
    "deletable": false,
    "editable": false,
    "execution": {
     "iopub.execute_input": "2021-09-12T07:21:56.340432Z",
     "iopub.status.busy": "2021-09-12T07:21:56.340432Z",
     "iopub.status.idle": "2021-09-12T07:21:56.633481Z",
     "shell.execute_reply": "2021-09-12T07:21:56.633481Z",
     "shell.execute_reply.started": "2021-09-12T07:21:56.340432Z"
    },
    "nbgrader": {
     "cell_type": "code",
     "checksum": "2a819c30fba0e8b29207f38454577bd1",
     "grade": true,
     "grade_id": "cell-b39ca91310528f44",
     "locked": true,
     "points": 1,
     "schema_version": 3,
     "solution": false,
     "task": false
    },
    "scrolled": true,
    "tags": []
   },
   "outputs": [],
   "source": [
    "assert_almost_equal(p_hit(abl_mod=8, prof_bonus=4, target_ac=26, advantage=False), 0.349749, decimal=2)"
   ]
  },
  {
   "cell_type": "code",
   "execution_count": 37,
   "id": "1e5749c8",
   "metadata": {
    "ExecuteTime": {
     "end_time": "2021-09-11T16:32:43.382069Z",
     "start_time": "2021-09-11T16:32:43.377633Z"
    },
    "deletable": false,
    "editable": false,
    "execution": {
     "iopub.execute_input": "2021-09-12T07:21:56.635339Z",
     "iopub.status.busy": "2021-09-12T07:21:56.634340Z",
     "iopub.status.idle": "2021-09-12T07:21:56.650297Z",
     "shell.execute_reply": "2021-09-12T07:21:56.649301Z",
     "shell.execute_reply.started": "2021-09-12T07:21:56.635339Z"
    },
    "nbgrader": {
     "cell_type": "code",
     "checksum": "e1f8f14f79e7501a0c72bb50072f28b1",
     "grade": true,
     "grade_id": "cell-a4262b0181719b91",
     "locked": true,
     "points": 1,
     "schema_version": 3,
     "solution": false,
     "task": false
    }
   },
   "outputs": [],
   "source": [
    "# Hidden Test 1"
   ]
  },
  {
   "cell_type": "code",
   "execution_count": 38,
   "id": "c28c7298",
   "metadata": {
    "ExecuteTime": {
     "end_time": "2021-09-11T16:32:43.389717Z",
     "start_time": "2021-09-11T16:32:43.384183Z"
    },
    "deletable": false,
    "editable": false,
    "execution": {
     "iopub.execute_input": "2021-09-12T07:21:56.651327Z",
     "iopub.status.busy": "2021-09-12T07:21:56.650297Z",
     "iopub.status.idle": "2021-09-12T07:21:56.665291Z",
     "shell.execute_reply": "2021-09-12T07:21:56.665291Z",
     "shell.execute_reply.started": "2021-09-12T07:21:56.651327Z"
    },
    "nbgrader": {
     "cell_type": "code",
     "checksum": "1e8bb1117b5eda081bd692537c6ccd0a",
     "grade": true,
     "grade_id": "cell-51d8415b411fa9d5",
     "locked": true,
     "points": 1,
     "schema_version": 3,
     "solution": false,
     "task": false
    }
   },
   "outputs": [],
   "source": [
    "# Hidden Test 2"
   ]
  },
  {
   "cell_type": "code",
   "execution_count": 39,
   "id": "3e142ade",
   "metadata": {
    "ExecuteTime": {
     "end_time": "2021-09-11T16:32:43.395921Z",
     "start_time": "2021-09-11T16:32:43.392549Z"
    },
    "deletable": false,
    "editable": false,
    "execution": {
     "iopub.execute_input": "2021-09-12T07:21:56.671243Z",
     "iopub.status.busy": "2021-09-12T07:21:56.670244Z",
     "iopub.status.idle": "2021-09-12T07:21:56.682213Z",
     "shell.execute_reply": "2021-09-12T07:21:56.681216Z",
     "shell.execute_reply.started": "2021-09-12T07:21:56.671243Z"
    },
    "nbgrader": {
     "cell_type": "code",
     "checksum": "4e55e4daadd9f0b354f6b6903603093b",
     "grade": true,
     "grade_id": "cell-25e3bef8eb37b3af",
     "locked": true,
     "points": 1,
     "schema_version": 3,
     "solution": false,
     "task": false
    }
   },
   "outputs": [],
   "source": [
    "# Hidden Test 3"
   ]
  },
  {
   "cell_type": "code",
   "execution_count": 40,
   "id": "593a76cb",
   "metadata": {
    "ExecuteTime": {
     "end_time": "2021-09-11T16:32:43.404272Z",
     "start_time": "2021-09-11T16:32:43.400424Z"
    },
    "deletable": false,
    "editable": false,
    "execution": {
     "iopub.execute_input": "2021-09-12T07:21:56.683210Z",
     "iopub.status.busy": "2021-09-12T07:21:56.683210Z",
     "iopub.status.idle": "2021-09-12T07:21:56.697173Z",
     "shell.execute_reply": "2021-09-12T07:21:56.696226Z",
     "shell.execute_reply.started": "2021-09-12T07:21:56.683210Z"
    },
    "nbgrader": {
     "cell_type": "code",
     "checksum": "b16ef0325e9c674420b350c1d3c454ed",
     "grade": true,
     "grade_id": "cell-84b02a2f8a8f09c0",
     "locked": true,
     "points": 1,
     "schema_version": 3,
     "solution": false,
     "task": false
    }
   },
   "outputs": [],
   "source": [
    "# Hidden Test 4"
   ]
  },
  {
   "cell_type": "code",
   "execution_count": 41,
   "id": "b16eb08f",
   "metadata": {
    "ExecuteTime": {
     "end_time": "2021-09-11T16:32:43.411803Z",
     "start_time": "2021-09-11T16:32:43.408114Z"
    },
    "deletable": false,
    "editable": false,
    "execution": {
     "iopub.execute_input": "2021-09-12T07:21:56.699167Z",
     "iopub.status.busy": "2021-09-12T07:21:56.698170Z",
     "iopub.status.idle": "2021-09-12T07:21:56.713132Z",
     "shell.execute_reply": "2021-09-12T07:21:56.712166Z",
     "shell.execute_reply.started": "2021-09-12T07:21:56.699167Z"
    },
    "nbgrader": {
     "cell_type": "code",
     "checksum": "ab08226c140f707fff3fb76a0a5dd133",
     "grade": true,
     "grade_id": "cell-6fb8015981ef015e",
     "locked": true,
     "points": 1,
     "schema_version": 3,
     "solution": false,
     "task": false
    }
   },
   "outputs": [],
   "source": [
    "# Hidden Test 5"
   ]
  },
  {
   "cell_type": "markdown",
   "id": "7ac28790",
   "metadata": {
    "deletable": false,
    "editable": false,
    "nbgrader": {
     "cell_type": "markdown",
     "checksum": "3db7238fb7888d7f33e3a915ff884d0d",
     "grade": false,
     "grade_id": "cell-b597b18de5c621b0",
     "locked": true,
     "schema_version": 3,
     "solution": false,
     "task": false
    }
   },
   "source": [
    "#### Q2 [10 pts]\n",
    "*(5 Unhidden, 5 Hidden)*\n",
    "\n",
    "A creature that attacks at *disadvantage* must roll the d20 twice and take the lower result.\n",
    "\n",
    "In addition, a creature may be affected by multiple sources granting it both advantage and disadvantage simulteneously. In this case, the effects cancel each other out and the creature rolls normally.\n",
    "\n",
    "*Note: This is regardless of the number of sources that grant advantage/disadvantage (i.e., you can't \"stack\" multiple advantages or disadvantages on yourself).*\n",
    "\n",
    "Extend the function you created in **Q1** by adding the above features."
   ]
  },
  {
   "cell_type": "code",
   "execution_count": 42,
   "id": "30e3ef5b",
   "metadata": {
    "ExecuteTime": {
     "end_time": "2021-09-11T18:40:29.668217Z",
     "start_time": "2021-09-11T18:40:29.648027Z"
    },
    "deletable": false,
    "execution": {
     "iopub.execute_input": "2021-09-12T07:21:56.714129Z",
     "iopub.status.busy": "2021-09-12T07:21:56.714129Z",
     "iopub.status.idle": "2021-09-12T07:21:56.728090Z",
     "shell.execute_reply": "2021-09-12T07:21:56.727095Z",
     "shell.execute_reply.started": "2021-09-12T07:21:56.714129Z"
    },
    "nbgrader": {
     "cell_type": "code",
     "checksum": "831aae510b16a0dc94f6df1f91c2afbb",
     "grade": false,
     "grade_id": "cell-db927129d4d5f734",
     "locked": false,
     "schema_version": 3,
     "solution": true,
     "task": false
    }
   },
   "outputs": [],
   "source": [
    "def p_hit_2(abl_mod=0, prof_bonus=0, target_ac=10, advantage=False, disadvantage=False):\n",
    "    res = []\n",
    "    n_trials = 20_000\n",
    "    for i in range(n_trials):\n",
    "#         print('i = ',i)\n",
    "        \n",
    "        status = 2*advantage + disadvantage\n",
    "        \n",
    "        roll_1 = np.random.choice(np.arange(1,21))\n",
    "        if status==2:\n",
    "            roll_2 = np.random.choice(np.arange(1,21))\n",
    "            roll = max(roll_1, roll_2)\n",
    "#             print('roll = ', roll)\n",
    "            if roll == 1:\n",
    "#                 print('rolled 1: MISS')\n",
    "                res.append(0)\n",
    "#                 print('-----end-----')\n",
    "                continue\n",
    "                \n",
    "            elif roll == 20:\n",
    "#                 print('rolled 20: HIT')\n",
    "                res.append(1)\n",
    "#                 print('-----end-----')\n",
    "                continue\n",
    "        elif status == 1:\n",
    "            roll_2 = np.random.choice(np.arange(1,21))\n",
    "            roll = min(roll_1, roll_2)\n",
    "#             print('roll = ', roll)\n",
    "            if roll == 1:\n",
    "#                 print('rolled 1: MISS')\n",
    "                res.append(0)\n",
    "#                 print('-----end-----')\n",
    "                continue\n",
    "                \n",
    "            elif roll == 20:\n",
    "#                 print('rolled 20: HIT')\n",
    "                res.append(1)\n",
    "#                 print('-----end-----')\n",
    "                continue\n",
    "                \n",
    "        elif (status == 0) or (status == 3):\n",
    "            roll = roll_1\n",
    "            if roll == 1:\n",
    "#                 print('rolled 1: MISS')\n",
    "                res.append(0)\n",
    "#                 print('-----end-----')\n",
    "                continue\n",
    "                \n",
    "            elif roll == 20:\n",
    "#                 print('rolled 20: HIT')\n",
    "                res.append(1)\n",
    "#                 print('-----end-----')\n",
    "                continue\n",
    "                \n",
    "#         print('score = ',roll + abl_mod + prof_bonus, end='')\n",
    "        if (roll + abl_mod + prof_bonus) >= target_ac:\n",
    "#             print(': HIT')\n",
    "            res.append(1)\n",
    "        else:\n",
    "#             print(': MISS')\n",
    "            res.append(0)\n",
    "#         print('-----end-----')\n",
    "    p_hit = sum(res) / n_trials\n",
    "#     print(p_hit)\n",
    "    return p_hit\n",
    "    \n",
    "    "
   ]
  },
  {
   "cell_type": "code",
   "execution_count": 43,
   "id": "7326489e",
   "metadata": {
    "ExecuteTime": {
     "end_time": "2021-09-11T18:41:05.757663Z",
     "start_time": "2021-09-11T18:40:30.487994Z"
    },
    "deletable": false,
    "editable": false,
    "execution": {
     "iopub.execute_input": "2021-09-12T07:21:56.729090Z",
     "iopub.status.busy": "2021-09-12T07:21:56.729090Z",
     "iopub.status.idle": "2021-09-12T07:21:57.830785Z",
     "shell.execute_reply": "2021-09-12T07:21:57.830785Z",
     "shell.execute_reply.started": "2021-09-12T07:21:56.729090Z"
    },
    "nbgrader": {
     "cell_type": "code",
     "checksum": "19e085d05f7f03b7c05c6bac7b288301",
     "grade": true,
     "grade_id": "cell-8c639a807751120d",
     "locked": true,
     "points": 1,
     "schema_version": 3,
     "solution": false,
     "task": false
    }
   },
   "outputs": [],
   "source": [
    "assert_almost_equal(p_hit_2(4, 2, 15, True, False), p_hit(4, 2, 15, True), decimal=2)"
   ]
  },
  {
   "cell_type": "code",
   "execution_count": 44,
   "id": "b25da034",
   "metadata": {
    "ExecuteTime": {
     "end_time": "2021-09-11T18:41:35.218857Z",
     "start_time": "2021-09-11T18:41:09.703533Z"
    },
    "deletable": false,
    "editable": false,
    "execution": {
     "iopub.execute_input": "2021-09-12T07:21:57.832736Z",
     "iopub.status.busy": "2021-09-12T07:21:57.831739Z",
     "iopub.status.idle": "2021-09-12T07:21:58.429015Z",
     "shell.execute_reply": "2021-09-12T07:21:58.428048Z",
     "shell.execute_reply.started": "2021-09-12T07:21:57.832736Z"
    },
    "nbgrader": {
     "cell_type": "code",
     "checksum": "4d004220963adcb6d274a61243cfd789",
     "grade": true,
     "grade_id": "cell-c35c348cc3982046",
     "locked": true,
     "points": 1,
     "schema_version": 3,
     "solution": false,
     "task": false
    }
   },
   "outputs": [],
   "source": [
    "assert_almost_equal(p_hit_2(4, 2, 15, True, True), p_hit(4, 2, 15, False), decimal=2)"
   ]
  },
  {
   "cell_type": "code",
   "execution_count": 45,
   "id": "6d3ce1b4",
   "metadata": {
    "ExecuteTime": {
     "end_time": "2021-09-11T18:41:51.770615Z",
     "start_time": "2021-09-11T18:41:35.221319Z"
    },
    "deletable": false,
    "editable": false,
    "execution": {
     "iopub.execute_input": "2021-09-12T07:21:58.430012Z",
     "iopub.status.busy": "2021-09-12T07:21:58.429015Z",
     "iopub.status.idle": "2021-09-12T07:21:58.997945Z",
     "shell.execute_reply": "2021-09-12T07:21:58.997945Z",
     "shell.execute_reply.started": "2021-09-12T07:21:58.429015Z"
    },
    "nbgrader": {
     "cell_type": "code",
     "checksum": "29f4cfa4594e1c728b71281c21bb3171",
     "grade": true,
     "grade_id": "cell-03b098720bff2bb4",
     "locked": true,
     "points": 1,
     "schema_version": 3,
     "solution": false,
     "task": false
    }
   },
   "outputs": [],
   "source": [
    "assert_almost_equal(p_hit_2(6, 3, 18, False, True), 0.3597554, decimal=2)"
   ]
  },
  {
   "cell_type": "code",
   "execution_count": 46,
   "id": "1af025d3",
   "metadata": {
    "ExecuteTime": {
     "end_time": "2021-09-11T18:42:03.392834Z",
     "start_time": "2021-09-11T18:41:51.780463Z"
    },
    "deletable": false,
    "editable": false,
    "execution": {
     "iopub.execute_input": "2021-09-12T07:21:58.999940Z",
     "iopub.status.busy": "2021-09-12T07:21:58.999940Z",
     "iopub.status.idle": "2021-09-12T07:21:59.309115Z",
     "shell.execute_reply": "2021-09-12T07:21:59.308117Z",
     "shell.execute_reply.started": "2021-09-12T07:21:58.999940Z"
    },
    "nbgrader": {
     "cell_type": "code",
     "checksum": "993852562589737ccbd2531d7f21ccac",
     "grade": true,
     "grade_id": "cell-a8a365ae461810ea",
     "locked": true,
     "points": 1,
     "schema_version": 3,
     "solution": false,
     "task": false
    }
   },
   "outputs": [],
   "source": [
    "assert_almost_equal(p_hit_2(8, 7, 13, False, False), 0.95, decimal=2)"
   ]
  },
  {
   "cell_type": "code",
   "execution_count": 47,
   "id": "b9f1599b",
   "metadata": {
    "ExecuteTime": {
     "end_time": "2021-09-11T18:42:28.959948Z",
     "start_time": "2021-09-11T18:42:03.394790Z"
    },
    "deletable": false,
    "editable": false,
    "execution": {
     "iopub.execute_input": "2021-09-12T07:21:59.310113Z",
     "iopub.status.busy": "2021-09-12T07:21:59.310113Z",
     "iopub.status.idle": "2021-09-12T07:21:59.908023Z",
     "shell.execute_reply": "2021-09-12T07:21:59.907026Z",
     "shell.execute_reply.started": "2021-09-12T07:21:59.310113Z"
    },
    "nbgrader": {
     "cell_type": "code",
     "checksum": "2a0ca5c96ae94ad4ceb769222e1b23dd",
     "grade": true,
     "grade_id": "cell-798e343f42b63694",
     "locked": true,
     "points": 1,
     "schema_version": 3,
     "solution": false,
     "task": false
    }
   },
   "outputs": [],
   "source": [
    "assert_almost_equal(p_hit_2(6, 3, 18, True, True), p_hit_2(6, 3, 18, False, False), decimal=2)"
   ]
  },
  {
   "cell_type": "code",
   "execution_count": 48,
   "id": "d991a1ca",
   "metadata": {
    "ExecuteTime": {
     "end_time": "2021-09-11T16:32:43.579456Z",
     "start_time": "2021-09-11T16:31:29.452Z"
    },
    "deletable": false,
    "editable": false,
    "execution": {
     "iopub.execute_input": "2021-09-12T07:21:59.909021Z",
     "iopub.status.busy": "2021-09-12T07:21:59.908023Z",
     "iopub.status.idle": "2021-09-12T07:21:59.923006Z",
     "shell.execute_reply": "2021-09-12T07:21:59.923006Z",
     "shell.execute_reply.started": "2021-09-12T07:21:59.909021Z"
    },
    "nbgrader": {
     "cell_type": "code",
     "checksum": "81bcd286d01e30c792ea7b2dda915df1",
     "grade": true,
     "grade_id": "cell-9c79b839fa9db8cb",
     "locked": true,
     "points": 1,
     "schema_version": 3,
     "solution": false,
     "task": false
    }
   },
   "outputs": [],
   "source": [
    "# Hidden Test 1"
   ]
  },
  {
   "cell_type": "code",
   "execution_count": 49,
   "id": "798d2cfc",
   "metadata": {
    "ExecuteTime": {
     "end_time": "2021-09-11T16:32:43.580273Z",
     "start_time": "2021-09-11T16:31:29.453Z"
    },
    "deletable": false,
    "editable": false,
    "execution": {
     "iopub.execute_input": "2021-09-12T07:21:59.923978Z",
     "iopub.status.busy": "2021-09-12T07:21:59.923978Z",
     "iopub.status.idle": "2021-09-12T07:21:59.938971Z",
     "shell.execute_reply": "2021-09-12T07:21:59.938971Z",
     "shell.execute_reply.started": "2021-09-12T07:21:59.923978Z"
    },
    "nbgrader": {
     "cell_type": "code",
     "checksum": "af83c85f974b57ba14b2fbbdc6ec1731",
     "grade": true,
     "grade_id": "cell-4273b35e4d4d7c71",
     "locked": true,
     "points": 1,
     "schema_version": 3,
     "solution": false,
     "task": false
    }
   },
   "outputs": [],
   "source": [
    "# Hidden Test 2"
   ]
  },
  {
   "cell_type": "code",
   "execution_count": 50,
   "id": "1fcfa003",
   "metadata": {
    "ExecuteTime": {
     "end_time": "2021-09-11T16:32:43.580939Z",
     "start_time": "2021-09-11T16:31:29.455Z"
    },
    "deletable": false,
    "editable": false,
    "execution": {
     "iopub.execute_input": "2021-09-12T07:21:59.939937Z",
     "iopub.status.busy": "2021-09-12T07:21:59.939937Z",
     "iopub.status.idle": "2021-09-12T07:21:59.955893Z",
     "shell.execute_reply": "2021-09-12T07:21:59.954899Z",
     "shell.execute_reply.started": "2021-09-12T07:21:59.939937Z"
    },
    "nbgrader": {
     "cell_type": "code",
     "checksum": "2ca76989e3a3d264a1c33eb254c577f0",
     "grade": true,
     "grade_id": "cell-a43f10abd2906925",
     "locked": true,
     "points": 1,
     "schema_version": 3,
     "solution": false,
     "task": false
    }
   },
   "outputs": [],
   "source": [
    "# Hidden Test 3"
   ]
  },
  {
   "cell_type": "code",
   "execution_count": 51,
   "id": "dbcdabfe",
   "metadata": {
    "ExecuteTime": {
     "end_time": "2021-09-11T16:32:43.581741Z",
     "start_time": "2021-09-11T16:31:29.456Z"
    },
    "deletable": false,
    "editable": false,
    "execution": {
     "iopub.execute_input": "2021-09-12T07:21:59.956891Z",
     "iopub.status.busy": "2021-09-12T07:21:59.956891Z",
     "iopub.status.idle": "2021-09-12T07:21:59.970877Z",
     "shell.execute_reply": "2021-09-12T07:21:59.970877Z",
     "shell.execute_reply.started": "2021-09-12T07:21:59.956891Z"
    },
    "nbgrader": {
     "cell_type": "code",
     "checksum": "46eb07f6986eabb8779af1d7c974c746",
     "grade": true,
     "grade_id": "cell-6041df0b5cddc027",
     "locked": true,
     "points": 1,
     "schema_version": 3,
     "solution": false,
     "task": false
    }
   },
   "outputs": [],
   "source": [
    "# Hidden Test 4"
   ]
  },
  {
   "cell_type": "code",
   "execution_count": 52,
   "id": "e66f0b3b",
   "metadata": {
    "ExecuteTime": {
     "end_time": "2021-09-11T16:32:43.583406Z",
     "start_time": "2021-09-11T16:31:29.458Z"
    },
    "deletable": false,
    "editable": false,
    "execution": {
     "iopub.execute_input": "2021-09-12T07:21:59.972875Z",
     "iopub.status.busy": "2021-09-12T07:21:59.971852Z",
     "iopub.status.idle": "2021-09-12T07:21:59.987811Z",
     "shell.execute_reply": "2021-09-12T07:21:59.986810Z",
     "shell.execute_reply.started": "2021-09-12T07:21:59.972875Z"
    },
    "nbgrader": {
     "cell_type": "code",
     "checksum": "49f330cfb3d063f58a4eed7f9da6c10e",
     "grade": true,
     "grade_id": "cell-dd0fe5a1716209cb",
     "locked": true,
     "points": 1,
     "schema_version": 3,
     "solution": false,
     "task": false
    }
   },
   "outputs": [],
   "source": [
    "# Hidden Test 5"
   ]
  },
  {
   "cell_type": "markdown",
   "id": "e0f1a36f",
   "metadata": {
    "deletable": false,
    "editable": false,
    "nbgrader": {
     "cell_type": "markdown",
     "checksum": "c0b8cf3f33a6ac4dd9f13c9b5dee4a34",
     "grade": false,
     "grade_id": "cell-b997af954c659c98",
     "locked": true,
     "schema_version": 3,
     "solution": false,
     "task": false
    }
   },
   "source": [
    "#### Q3 [5 pts]\n",
    "\n",
    "*(3 Unhidden, 2 Hidden)*\n",
    "\n",
    "Suppose your character, a warlock, has been ambushed in melee by a kobold!\n",
    "\n",
    "Unfortunately, you are out of spell slots and must use a [`cantrip`](https://roll20.net/compendium/dnd5e/Spells#toc_8) to defend yourself.\n",
    "\n",
    "You fire off an [`Eldritch Blast`](https://roll20.net/compendium/dnd5e/Eldritch%20Blast#content) at the kobold while in melee. Unfortunately, this means that your attack suffers from *disadvantage*.\n",
    "\n",
    "For spell attacks, warlocks use their Charisma modifier. Suppose you have a +3 Cha mod and +2 proficiency bonus.\n",
    "\n",
    "If your attack hits, it deals 1d10 damage. If you roll a 20 on the die (before modifiers), you score a *critical hit*. You get to roll your damage dice a second time (i.e., you roll an *additional* 1d10).\n",
    "\n",
    "Create a function that can calculate the expected amount of damage dealt to the kobold with 10 AC.\n",
    "\n",
    "*Note: Don't apply the rounding rule in this case. Can you see why it doesn't apply?*"
   ]
  },
  {
   "cell_type": "code",
   "execution_count": 53,
   "id": "8b92ed86",
   "metadata": {
    "ExecuteTime": {
     "end_time": "2021-09-11T16:32:43.584229Z",
     "start_time": "2021-09-11T16:31:29.459Z"
    },
    "deletable": false,
    "execution": {
     "iopub.execute_input": "2021-09-12T07:21:59.989807Z",
     "iopub.status.busy": "2021-09-12T07:21:59.988807Z",
     "iopub.status.idle": "2021-09-12T07:22:00.003767Z",
     "shell.execute_reply": "2021-09-12T07:22:00.002770Z",
     "shell.execute_reply.started": "2021-09-12T07:21:59.989807Z"
    },
    "nbgrader": {
     "cell_type": "code",
     "checksum": "2cbf5c6b866e578b3a2eb1c2901304c8",
     "grade": false,
     "grade_id": "cell-934e91e543e4e74b",
     "locked": false,
     "schema_version": 3,
     "solution": true,
     "task": false
    },
    "tags": []
   },
   "outputs": [],
   "source": [
    "# For this problem, you can assume that the damage die is always a d10\n",
    "\n",
    "def expected_dmg(abl_mod=0, prof_bonus=0, target_ac=10, advantage=False, disadvantage=False):\n",
    "    res = []\n",
    "    dmg_list = []\n",
    "    n_trials = 300_000\n",
    "    for i in range(n_trials):\n",
    "#         print('i = ',i)\n",
    "        \n",
    "        status = 2*advantage + disadvantage\n",
    "        \n",
    "        roll_1 = np.random.choice(np.arange(1,21))\n",
    "        if status==2:\n",
    "            roll_2 = np.random.choice(np.arange(1,21))\n",
    "            roll = max(roll_1, roll_2)\n",
    "#             print('roll = ', roll)\n",
    "            if roll == 1:\n",
    "#                 print('rolled 1: MISS')\n",
    "                res.append(0)\n",
    "#                 print('-----end-----')\n",
    "                continue\n",
    "                \n",
    "            elif roll == 20:\n",
    "#                 print('rolled 20: HIT')\n",
    "                dmg_1 = np.random.choice(np.arange(1,11))\n",
    "                dmg_2 = np.random.choice(np.arange(1,11))\n",
    "                dmg = dmg_1 + dmg_2\n",
    "                res.append(1)\n",
    "                dmg_list.append(dmg)\n",
    "#                 print('-----end-----')\n",
    "                continue\n",
    "        elif status == 1:\n",
    "            roll_2 = np.random.choice(np.arange(1,21))\n",
    "            roll = min(roll_1, roll_2)\n",
    "#             print('roll = ', roll)\n",
    "            if roll == 1:\n",
    "#                 print('rolled 1: MISS')\n",
    "                res.append(0)\n",
    "#                 print('-----end-----')\n",
    "                continue\n",
    "                \n",
    "            elif roll == 20:\n",
    "                dmg_1 = np.random.choice(np.arange(1,11))\n",
    "                dmg_2 = np.random.choice(np.arange(1,11))\n",
    "                dmg = dmg_1 + dmg_2 \n",
    "                dmg_list.append(dmg)\n",
    "#                 print('rolled 20: HIT')\n",
    "\n",
    "                res.append(1)\n",
    "#                 print('-----end-----')\n",
    "                continue\n",
    "                \n",
    "        elif (status == 0) or (status == 3):\n",
    "            roll = roll_1\n",
    "            if roll == 1:\n",
    "#                 print('rolled 1: MISS')\n",
    "                res.append(0)\n",
    "#                 print('-----end-----')\n",
    "                continue\n",
    "                \n",
    "            elif roll == 20:\n",
    "                dmg_1 = np.random.choice(np.arange(1,11))\n",
    "                dmg_2 = np.random.choice(np.arange(1,11))\n",
    "                dmg = dmg_1 + dmg_2\n",
    "                dmg_list.append(dmg)\n",
    "#                 print('rolled 20: HIT')\n",
    "                res.append(1)\n",
    "#                 print('-----end-----')\n",
    "                continue\n",
    "                \n",
    "#         print('score = ',roll + abl_mod + prof_bonus, end='')\n",
    "        if (roll + abl_mod + prof_bonus) >= target_ac:\n",
    "#             print(': HIT')\n",
    "            dmg = np.random.choice(np.arange(1,11))\n",
    "            dmg_list.append(dmg)\n",
    "            res.append(1)\n",
    "        else:\n",
    "#             print(': MISS')\n",
    "            res.append(0)\n",
    "#         print('-----end-----')\n",
    "    p_hit = sum(res) / n_trials\n",
    "#     print(p_hit)\n",
    "    return np.sum(dmg_list) / n_trials"
   ]
  },
  {
   "cell_type": "code",
   "execution_count": 54,
   "id": "fa49ea79",
   "metadata": {
    "ExecuteTime": {
     "end_time": "2021-09-11T16:32:43.586198Z",
     "start_time": "2021-09-11T16:31:29.460Z"
    },
    "deletable": false,
    "editable": false,
    "execution": {
     "iopub.execute_input": "2021-09-12T07:22:00.006757Z",
     "iopub.status.busy": "2021-09-12T07:22:00.005760Z",
     "iopub.status.idle": "2021-09-12T07:22:10.036409Z",
     "shell.execute_reply": "2021-09-12T07:22:10.035543Z",
     "shell.execute_reply.started": "2021-09-12T07:22:00.006757Z"
    },
    "nbgrader": {
     "cell_type": "code",
     "checksum": "e784df40038182c9e1dd7c7d1d2d81f2",
     "grade": true,
     "grade_id": "cell-d93e7a22af04b677",
     "locked": true,
     "points": 1,
     "schema_version": 3,
     "solution": false,
     "task": false
    },
    "tags": []
   },
   "outputs": [],
   "source": [
    "assert_almost_equal(expected_dmg(3, 2, 10, False, True), 3.53, decimal=2)"
   ]
  },
  {
   "cell_type": "code",
   "execution_count": 55,
   "id": "e456cb5f",
   "metadata": {
    "ExecuteTime": {
     "end_time": "2021-09-11T16:32:43.587760Z",
     "start_time": "2021-09-11T16:31:29.461Z"
    },
    "deletable": false,
    "editable": false,
    "execution": {
     "iopub.execute_input": "2021-09-12T07:22:10.037405Z",
     "iopub.status.busy": "2021-09-12T07:22:10.037405Z",
     "iopub.status.idle": "2021-09-12T07:22:18.216277Z",
     "shell.execute_reply": "2021-09-12T07:22:18.216277Z",
     "shell.execute_reply.started": "2021-09-12T07:22:10.037405Z"
    },
    "nbgrader": {
     "cell_type": "code",
     "checksum": "2d74d1a9b2523f488f2059ec674323f2",
     "grade": true,
     "grade_id": "cell-b566cb2ba84eaf0b",
     "locked": true,
     "points": 1,
     "schema_version": 3,
     "solution": false,
     "task": false
    },
    "tags": []
   },
   "outputs": [],
   "source": [
    "assert_almost_equal(expected_dmg(3, 2, 1, False, False), 5.5, decimal=2)"
   ]
  },
  {
   "cell_type": "code",
   "execution_count": 56,
   "id": "513e1370",
   "metadata": {
    "ExecuteTime": {
     "end_time": "2021-09-11T16:32:43.588641Z",
     "start_time": "2021-09-11T16:31:29.462Z"
    },
    "deletable": false,
    "editable": false,
    "execution": {
     "iopub.execute_input": "2021-09-12T07:22:18.218266Z",
     "iopub.status.busy": "2021-09-12T07:22:18.217250Z",
     "iopub.status.idle": "2021-09-12T07:22:23.941671Z",
     "shell.execute_reply": "2021-09-12T07:22:23.940673Z",
     "shell.execute_reply.started": "2021-09-12T07:22:18.218266Z"
    },
    "nbgrader": {
     "cell_type": "code",
     "checksum": "f72dbd6b8faa7d5fcf70f6d340886245",
     "grade": true,
     "grade_id": "cell-f8ccaf31aae0ab35",
     "locked": true,
     "points": 1,
     "schema_version": 3,
     "solution": false,
     "task": false
    },
    "tags": []
   },
   "outputs": [],
   "source": [
    "assert_almost_equal(expected_dmg(5, 3, 30, True, True), 0.55, decimal=2)"
   ]
  },
  {
   "cell_type": "code",
   "execution_count": 57,
   "id": "e2cfbd86",
   "metadata": {
    "ExecuteTime": {
     "end_time": "2021-09-11T16:32:43.589352Z",
     "start_time": "2021-09-11T16:31:29.463Z"
    },
    "deletable": false,
    "editable": false,
    "execution": {
     "iopub.execute_input": "2021-09-12T07:22:23.943666Z",
     "iopub.status.busy": "2021-09-12T07:22:23.943666Z",
     "iopub.status.idle": "2021-09-12T07:22:23.957627Z",
     "shell.execute_reply": "2021-09-12T07:22:23.956630Z",
     "shell.execute_reply.started": "2021-09-12T07:22:23.943666Z"
    },
    "nbgrader": {
     "cell_type": "code",
     "checksum": "ed3119b51c14c6e9ca491c7eb8a9c451",
     "grade": true,
     "grade_id": "cell-80ca1ec245d7d239",
     "locked": true,
     "points": 1,
     "schema_version": 3,
     "solution": false,
     "task": false
    }
   },
   "outputs": [],
   "source": [
    "# Hidden Test 1"
   ]
  },
  {
   "cell_type": "code",
   "execution_count": 58,
   "id": "af8c2b7f",
   "metadata": {
    "ExecuteTime": {
     "end_time": "2021-09-11T16:32:43.590040Z",
     "start_time": "2021-09-11T16:31:29.465Z"
    },
    "deletable": false,
    "editable": false,
    "execution": {
     "iopub.execute_input": "2021-09-12T07:22:23.959623Z",
     "iopub.status.busy": "2021-09-12T07:22:23.959623Z",
     "iopub.status.idle": "2021-09-12T07:22:23.972589Z",
     "shell.execute_reply": "2021-09-12T07:22:23.971592Z",
     "shell.execute_reply.started": "2021-09-12T07:22:23.959623Z"
    },
    "nbgrader": {
     "cell_type": "code",
     "checksum": "f5391c695c815585a575a10ac1965864",
     "grade": true,
     "grade_id": "cell-bce404bdd2337fd7",
     "locked": true,
     "points": 1,
     "schema_version": 3,
     "solution": false,
     "task": false
    },
    "tags": []
   },
   "outputs": [],
   "source": [
    "# Hidden Test 2"
   ]
  }
 ],
 "metadata": {
  "kernelspec": {
   "display_name": "Python 3 (ipykernel)",
   "language": "python",
   "name": "python3"
  },
  "language_info": {
   "codemirror_mode": {
    "name": "ipython",
    "version": 3
   },
   "file_extension": ".py",
   "mimetype": "text/x-python",
   "name": "python",
   "nbconvert_exporter": "python",
   "pygments_lexer": "ipython3",
   "version": "3.8.10"
  },
  "toc": {
   "base_numbering": 1,
   "nav_menu": {},
   "number_sections": true,
   "sideBar": true,
   "skip_h1_title": false,
   "title_cell": "Table of Contents",
   "title_sidebar": "Contents",
   "toc_cell": false,
   "toc_position": {},
   "toc_section_display": true,
   "toc_window_display": false
  }
 },
 "nbformat": 4,
 "nbformat_minor": 5
}
