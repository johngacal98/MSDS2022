{
 "cells": [
  {
   "cell_type": "markdown",
   "metadata": {},
   "source": [
    "# Lecture 6a - Hypothesis Testing\n",
    "\n",
    "some personal notes:\n",
    "- this is a formal way of determining whether a finding is statistically significant or not, instead of just eyeballing it\n",
    "- there are cons of just eyeballing 'significant' findings"
   ]
  },
  {
   "cell_type": "markdown",
   "metadata": {},
   "source": [
    "## Example - Clinical Trials for Pharmaceuticals\n",
    "\n",
    "A neurologist is testing the effect of a drug on response time by injecting 100 rats with a unit dose of the drug, subjecting each to neurological stimulus, and recording its response time.\n",
    "\n",
    "The neurologist knows that the mean response time for rats not injected with the drug is 1.2 seconds.\n",
    "\n",
    "The sample mean of the 100 injected rats' response time is 1.05 seconds with a sample standard deviation of 0.5 seconds.\n",
    "\n",
    "Does the drug have an effect on response time?"
   ]
  },
  {
   "cell_type": "markdown",
   "metadata": {},
   "source": [
    "### The Null and Alternative Hypotheses\n",
    "\n",
    "Let's define our hypotheses. \n",
    "\n",
    "First, we will define the <b><i>null hypothesis</b></i> to refer to the status quo, i.e. that the drug has no effect.\n",
    "\n",
    "Second, we will define the <b><i>alternative hypothesis</b></i> to usually refers to the event in opposition to the status quo, i.e. that the drug has an effect.\n",
    "\n",
    "Formally, we represent these hypotheses as\n",
    "\n",
    "\\begin{align*}\n",
    "    H_0 &: \\mu = 1.2\\\\ \n",
    "    H_1 &: \\mu \\neq 1.2\n",
    "\\end{align*}"
   ]
  },
  {
   "cell_type": "markdown",
   "metadata": {},
   "source": [
    "### The Hypothesis Testing Procedure\n",
    "\n",
    "1) Assume that the null hypothesis $H_0$ is true.\n",
    "\n",
    "\n",
    "2) Calculate the sampling distribution of $\\mu$.\n",
    "\n",
    "\n",
    "3) Calculate the probability that we would observe samples as extreme as our data.\n",
    "\n",
    "\n",
    "4) Reject the null hypothesis $H_0$ if the probability is \"small enough\" (less than the significance level $\\alpha$).\n",
    "\n",
    "\n",
    "5) If the probability does not meet our defined threshold, we fail to reject the null hypothesis."
   ]
  },
  {
   "cell_type": "markdown",
   "metadata": {},
   "source": [
    "---\n",
    "\n",
    "<i>Note: If it helps you internalize it better, you can just pretend that we \"accept\" the null hypothesis $H_0$.</i>\n",
    "\n",
    "---"
   ]
  },
  {
   "cell_type": "markdown",
   "metadata": {},
   "source": [
    "### The p-value and Significance\n",
    "\n",
    "In the procedure outlined above, the probability of observing the data given that $H_0$ is true is called the <b><i>p-value</b></i>.\n",
    "\n",
    "In addition, the threshold probability for \"small enough\" is called the <b><i>significance level</i> $\\alpha$."
   ]
  },
  {
   "cell_type": "markdown",
   "metadata": {},
   "source": [
    "---\n",
    "\n",
    "<i>Side Note: We haven't really said anything about the true data generating process. So $\\mu$ just refers to the first moment of whatever that process is. It does not necessarily have a Normal distribution. In fact, it could be some extremely complicated distribution that cannot be expressed analytically.</i>\n",
    "\n",
    "---"
   ]
  },
  {
   "cell_type": "markdown",
   "metadata": {},
   "source": [
    "### Back to the Clinical Trial Problem...\n",
    "\n",
    "Let's assume that $H_0$ is true, i.e. that $\\mu = 1.2$. Then our observed data $\\bar{x}$, has the following sampling distribution,\n",
    "\n",
    "\\begin{align*}\n",
    "    \\bar{x} \\sim N\\left(1.2, \\frac{\\sigma^2}{100}\\right)\n",
    "\\end{align*}\n",
    "\n",
    "Since we don't know the true $\\sigma$, let's <i><u>approximate</i></u> this sampling distribution by replacing $\\sigma$ with our sample standard deviation $s$,\n",
    "\n",
    "\\begin{align*}\n",
    "    \\bar{x} \\sim N\\left(1.2, \\frac{0.5^2}{100}\\right)\n",
    "\\end{align*}\n",
    "\n",
    "Moving on to Step 2 of the hypothesis testing procedure, let's calculate the probability of observing samples that are as extreme as our data."
   ]
  },
  {
   "cell_type": "code",
   "execution_count": 1,
   "metadata": {
    "execution": {
     "iopub.execute_input": "2021-08-03T09:39:12.901178Z",
     "iopub.status.busy": "2021-08-03T09:39:12.901178Z",
     "iopub.status.idle": "2021-08-03T09:39:13.528846Z",
     "shell.execute_reply": "2021-08-03T09:39:13.528846Z",
     "shell.execute_reply.started": "2021-08-03T09:39:12.901178Z"
    },
    "tags": []
   },
   "outputs": [
    {
     "data": {
      "image/png": "[encoded data removed]",
      "text/plain": [
       "<Figure size 1080x720 with 1 Axes>"
      ]
     },
     "metadata": {
      "needs_background": "light"
     },
     "output_type": "display_data"
    }
   ],
   "source": [
    "import numpy as np\n",
    "import matplotlib.pyplot as plt\n",
    "from scipy.stats import norm\n",
    "\n",
    "plt.rcParams['figure.figsize'] = [15, 10]\n",
    "\n",
    "x_bar = 1.05\n",
    "s = 0.5\n",
    "n = 100\n",
    "\n",
    "mu = 1.2\n",
    "sigma = s/np.sqrt(n) # approx\n",
    "\n",
    "x = np.linspace(1.0, 1.4, 100) #for plotting nicely\n",
    "plt.plot(x, norm.pdf(x, loc = mu, scale = sigma))\n",
    "plt.show()"
   ]
  },
  {
   "cell_type": "markdown",
   "metadata": {},
   "source": [
    "Formally, we are interested in calculating the following probability,\n",
    "\n",
    "\\begin{align*}\n",
    "    P\\left(\\bar{x} \\leq 1.05 \\ \\ \\text{OR} \\ \\ \\bar{x} \\geq 1.35 \\right)\n",
    "\\end{align*}\n",
    "\n",
    "Since the sampling distribution is symmetric, we can rewrite the above quantity as,\n",
    "\n",
    "\\begin{align*}\n",
    "    2 \\times P\\left(\\bar{x} \\leq 1.05 \\right) &= 2 \\times P\\left(\\frac{\\bar{x} - 1.2}{.05} \\leq \\frac{1.05 - 1.2}{.05}\\right)\\\\\n",
    "    &= 2 \\times P\\left(Z \\leq -3\\right)\\\\\n",
    "    &= 2 \\times \\Phi(-3)\n",
    "\\end{align*}"
   ]
  },
  {
   "cell_type": "code",
   "execution_count": 2,
   "metadata": {
    "execution": {
     "iopub.execute_input": "2021-08-03T09:39:13.529846Z",
     "iopub.status.busy": "2021-08-03T09:39:13.529846Z",
     "iopub.status.idle": "2021-08-03T09:39:13.545861Z",
     "shell.execute_reply": "2021-08-03T09:39:13.544860Z",
     "shell.execute_reply.started": "2021-08-03T09:39:13.529846Z"
    },
    "scrolled": true,
    "tags": []
   },
   "outputs": [
    {
     "name": "stdout",
     "output_type": "stream",
     "text": [
      "z-score: -2.9999999999999982\n",
      "p-value: 0.0026997960632602026\n"
     ]
    }
   ],
   "source": [
    "z_score = (x_bar - mu)/sigma\n",
    "print('z-score:', z_score)\n",
    "print('p-value:', 2*norm.cdf(z_score))"
   ]
  },
  {
   "cell_type": "markdown",
   "metadata": {},
   "source": [
    "### To Reject or Not Reject?\n",
    "\n",
    "With a significance level of $\\alpha = 0.05$, we see that our p-value is smaller compared to this threshold.\n",
    "\n",
    "Thus, here are some statements we can make:\n",
    "\n",
    "1) If the null hypothesis were true, the probability that we could have gotten this result is about 0.003.\n",
    "\n",
    "2) Our p-value is statistically significant.\n",
    "\n",
    "3) We should reject the null hypothesis $H_0$ that the drug has no effect.\n",
    "\n",
    "4) There is strong evidence for the alternative hypothesis $H_1$ that the drug has an effect. We accept $H_1$."
   ]
  },
  {
   "cell_type": "markdown",
   "metadata": {},
   "source": [
    "---\n",
    "\n",
    "### One-Tailed vs Two-Tailed Tests\n",
    "\n",
    "What if we wanted to know whether the drug lowered the response time or raised it?\n",
    "\n",
    "In the previous section, we concluded that the drug had some effect on the response time. The test we conducted was called a <b><i>two-tailed test</b></i>.\n",
    "\n",
    "To check if the drug <u>lowered</u> the response time, we can reconstruct our hypotheses.\n",
    "\n",
    "First, we will again define $H_0$ to be that the drug has no effect.\n",
    "\n",
    "Second, we will define a new alternative $H_1$ to be that the drug lowers the response time.\n",
    "\n",
    "\\begin{align*}\n",
    "    H_0 &: \\mu ≥ 1.2\\\\ \n",
    "    H_1 &: \\mu < 1.2\n",
    "\\end{align*}\n",
    "\n",
    "This type of test is called a <b><i>one-tailed test</b></i>.\n",
    "\n",
    "This time, we should calculate the probability that we obtain a result lower than $1.05$ given that $H_0$ is true.\n",
    "\n",
    "\\begin{align*}\n",
    "    P\\left(\\bar{x} \\leq 1.05\\right) &= \\Phi(3)\n",
    "\\end{align*}"
   ]
  },
  {
   "cell_type": "code",
   "execution_count": 3,
   "metadata": {
    "execution": {
     "iopub.execute_input": "2021-08-03T09:39:13.545861Z",
     "iopub.status.busy": "2021-08-03T09:39:13.545861Z",
     "iopub.status.idle": "2021-08-03T09:39:13.561164Z",
     "shell.execute_reply": "2021-08-03T09:39:13.560875Z",
     "shell.execute_reply.started": "2021-08-03T09:39:13.545861Z"
    }
   },
   "outputs": [
    {
     "name": "stdout",
     "output_type": "stream",
     "text": [
      "z-score: -2.9999999999999982\n",
      "p-value: 0.0013498980316301013\n"
     ]
    }
   ],
   "source": [
    "z_score = (x_bar - mu)/sigma\n",
    "print('z-score:', z_score)\n",
    "print('p-value:', norm.cdf(z_score))"
   ]
  },
  {
   "cell_type": "markdown",
   "metadata": {},
   "source": [
    "Thus, we make similar inferences to those described above."
   ]
  },
  {
   "cell_type": "markdown",
   "metadata": {},
   "source": [
    "---\n",
    "\n",
    "## Z-statistics vs T-statistics\n",
    "\n",
    "Notice that since we did not know the true standard deviation $\\sigma$, we had to use the sample standard deviation $s$ as a proxy.\n",
    "\n",
    "If the sample size of our data is greater than 30, i.e. $n > 30$, then the z-score transformation (using $s$) of our sample mean\n",
    "\n",
    "\\begin{align*}\n",
    "Z &= \\frac{\\bar{x} - \\mu}{s/n}\n",
    "\\end{align*}\n",
    "\n",
    "is approximately normal. \n",
    "\n",
    "However, if $n < 30$ then $Z$ is NOT approximately normal. In fact, it has a t-distribution (so use this instead)."
   ]
  },
  {
   "cell_type": "markdown",
   "metadata": {},
   "source": [
    "---\n",
    "\n",
    "## Type I/II Errors and Power\n",
    "\n",
    "Given our set of null and alternative hypotheses, what are the consequences of rejecting (or failing to reject) the null hypothesis? \n",
    "\n",
    "**Type I Error :** Error when we reject a true $H_0$. (False Positive)\n",
    "\n",
    "**Type II Error :** Error when we fail to reject a false $H_0$. (False Negative)\n",
    "\n",
    "The following table summarizes the possible combinations:\n",
    "  \n",
    "| Test Result |  $H_0$ True | $H_0$ False |  \n",
    "| --- | --- | --- |  \n",
    "| Reject $H_0$ | Type I Error  | Correct |  \n",
    "| Fail to reject $H_0$ | Correct | Type II Error |  \n",
    "\n",
    "Note that some errors can be more costly than others. \n",
    "\n",
    "For example, mistakenly classifying a malignant tumor as benign can have much more dire consequences than  classifying a benign tumor as malignant."
   ]
  },
  {
   "cell_type": "markdown",
   "metadata": {},
   "source": [
    "### Probability of a Type I Error\n",
    "\n",
    "What is the probability of a Type I error?\n",
    "\n",
    "We can rephrase the question as: What is the probability that I reject $H_0$, given that $H_0$ is true?\n",
    "\n",
    "It is actually equal to your significance level $\\alpha$!"
   ]
  },
  {
   "cell_type": "markdown",
   "metadata": {},
   "source": [
    "### Probability of a Type II Error\n",
    "\n",
    "What is the probability of a Type II error?\n",
    "\n",
    "We can rephrase the question as: What is the probability that I fail to reject $H_0$, given that $H_0$ is false?\n",
    "\n",
    "As it turns out, this probability is difficult to compute directly. \n",
    "\n",
    "Let us refer to this probability be $\\beta$."
   ]
  },
  {
   "cell_type": "markdown",
   "metadata": {},
   "source": [
    "### Power\n",
    "\n",
    "Continuing from above, we define the <b><i>power</b></i> of a test as $1 - \\beta$.\n",
    "\n",
    "In other words, power is the probability that we reject $H_0$ given that $H_0$ is false.\n",
    "\n",
    "Another way of thinking about power is that it is the probability that we DON'T commit a Type II error."
   ]
  },
  {
   "cell_type": "markdown",
   "metadata": {},
   "source": [
    "### How to Increase Power?\n",
    "\n",
    "Here's a summary of the ways in which the power of our significance tests can increase:\n",
    "\n",
    "1) Increase $\\alpha$.\n",
    "\n",
    "2) Increase sample size $n$.\n",
    "\n",
    "3) Low variability, i.e. lower $\\sigma$.\n",
    "\n",
    "4) True parameter is far from $H_0$.\n",
    "\n",
    "Obviously, some of these facts are beyond our control."
   ]
  },
  {
   "cell_type": "code",
   "execution_count": null,
   "metadata": {},
   "outputs": [],
   "source": []
  }
 ],
 "metadata": {
  "kernelspec": {
   "display_name": "Python 3 (ipykernel)",
   "language": "python",
   "name": "python3"
  },
  "language_info": {
   "codemirror_mode": {
    "name": "ipython",
    "version": 3
   },
   "file_extension": ".py",
   "mimetype": "text/x-python",
   "name": "python",
   "nbconvert_exporter": "python",
   "pygments_lexer": "ipython3",
   "version": "3.8.12"
  },
  "latex_envs": {
   "LaTeX_envs_menu_present": true,
   "autoclose": false,
   "autocomplete": true,
   "bibliofile": "biblio.bib",
   "cite_by": "apalike",
   "current_citInitial": 1,
   "eqLabelWithNumbers": true,
   "eqNumInitial": 1,
   "hotkeys": {
    "equation": "Ctrl-E",
    "itemize": "Ctrl-I"
   },
   "labels_anchors": false,
   "latex_user_defs": false,
   "report_style_numbering": false,
   "user_envs_cfg": false
  },
  "toc": {
   "base_numbering": 1,
   "nav_menu": {},
   "number_sections": true,
   "sideBar": true,
   "skip_h1_title": false,
   "title_cell": "Table of Contents",
   "title_sidebar": "Contents",
   "toc_cell": false,
   "toc_position": {},
   "toc_section_display": true,
   "toc_window_display": false
  }
 },
 "nbformat": 4,
 "nbformat_minor": 4
}
