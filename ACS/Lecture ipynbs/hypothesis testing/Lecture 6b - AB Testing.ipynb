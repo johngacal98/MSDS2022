{
 "cells": [
  {
   "cell_type": "markdown",
   "metadata": {},
   "source": [
    "# Lecture 6b - A/B Testing"
   ]
  },
  {
   "cell_type": "markdown",
   "metadata": {},
   "source": [
    "---\n",
    "\n",
    "From [`Google's Machine Learning Glossary`](https://developers.google.com/machine-learning/glossary):\n",
    "\n",
    "`A/B testing is a statistical way of comparing two (or more) techniques, typically an incumbent against a new rival.`\n",
    "\n",
    "`A/B testing aims to determine not only which technique performs better but also to understand whether the difference is statistically significant.`\n",
    "\n",
    "`A/B testing usually considers only two techniques using one measurement, but it can be applied to any finite number of techniques and measures.`\n",
    "\n",
    "---"
   ]
  },
  {
   "cell_type": "markdown",
   "metadata": {},
   "source": [
    "## Example - UI/UX Performance Evaluation\n",
    "\n",
    "Suppose you work for some online e-commerce platform.\n",
    "\n",
    "You are interested in learning if the layout of your new website actually increases the amount of premium subscriptions to your service.\n",
    "\n",
    "We can model the problem as a hypothesis testing problem, i.e. <b><i>does the new website design affect the proportion of users that choose to sign up for a premium subscription?</b></i>"
   ]
  },
  {
   "cell_type": "markdown",
   "metadata": {},
   "source": [
    "For this problem, let's simulate some data."
   ]
  },
  {
   "cell_type": "code",
   "execution_count": 1,
   "metadata": {},
   "outputs": [],
   "source": [
    "import numpy as np\n",
    "import matplotlib.pyplot as plt\n",
    "import seaborn as sns\n",
    "from scipy.stats import norm\n",
    "\n",
    "# cannot observe these parameters directly in practice\n",
    "p_control = 0.05\n",
    "p_test = 0.06\n",
    "\n",
    "# number of users in each group\n",
    "n_control = 200           # control group\n",
    "n_test = 200              # test group"
   ]
  },
  {
   "cell_type": "code",
   "execution_count": 2,
   "metadata": {},
   "outputs": [
    {
     "name": "stdout",
     "output_type": "stream",
     "text": [
      "0.045\n"
     ]
    }
   ],
   "source": [
    "np.random.seed(1)\n",
    "\n",
    "obs_control = np.random.binomial(1, p = p_control, size = n_control)\n",
    "\n",
    "p_control_hat = np.sum(obs_control)/n_control\n",
    "\n",
    "print(p_control_hat)"
   ]
  },
  {
   "cell_type": "code",
   "execution_count": 3,
   "metadata": {},
   "outputs": [
    {
     "name": "stdout",
     "output_type": "stream",
     "text": [
      "0.06\n"
     ]
    }
   ],
   "source": [
    "np.random.seed(1)\n",
    "\n",
    "obs_test = np.random.binomial(1, p = p_test, size = n_test)\n",
    "\n",
    "p_test_hat = np.sum(obs_test)/n_test\n",
    "\n",
    "print(p_test_hat)"
   ]
  },
  {
   "cell_type": "markdown",
   "metadata": {},
   "source": [
    "#### Step 1 - Identify the Hypotheses.\n",
    "\n",
    "\\begin{align*}\n",
    "    H_0 &: p \\leq 0.045\\\\ \n",
    "    H_1 &: p > 0.045\n",
    "\\end{align*}"
   ]
  },
  {
   "cell_type": "markdown",
   "metadata": {},
   "source": [
    "#### Step 2 - Estimate the Sampling Distribution.\n",
    "\n",
    "Assume that $H_0$ is true, i.e. suppose the true $p = 0.045$\n",
    "\n",
    "Calculate the sampling distribution of $\\hat{p}$."
   ]
  },
  {
   "cell_type": "markdown",
   "metadata": {},
   "source": [
    "**Analytic Approach**\n",
    "\n",
    "Using a special version of CLT (De Moivre–Laplace theorem), the sampling distribution of $\\hat{p}$ is approximately normal,\n",
    "\n",
    "\\begin{align*}\n",
    "    \\hat{p} &\\sim N\\left(0.045, \\frac{\\sigma^2}{200}\\right)\\\\\n",
    "    &\\sim N\\left(0.045, \\frac{p(1-p)}{200}\\right)\\\\\n",
    "    &\\sim N\\left(0.045, \\frac{0.045(0.955)}{200}\\right)\\\\\n",
    "    &\\sim N\\left(0.045, \\frac{0.042975}{200}\\right)\n",
    "\\end{align*}"
   ]
  },
  {
   "cell_type": "markdown",
   "metadata": {},
   "source": [
    "**Numerical Approach**\n",
    "\n",
    "We can use bootstrap to estimate the sampling distribution of $\\hat{p}$."
   ]
  },
  {
   "cell_type": "code",
   "execution_count": 4,
   "metadata": {},
   "outputs": [
    {
     "data": {
      "image/png": "[encoded data removed]",
      "text/plain": [
       "<Figure size 432x288 with 1 Axes>"
      ]
     },
     "metadata": {
      "needs_background": "light"
     },
     "output_type": "display_data"
    }
   ],
   "source": [
    "sim_size = 10000\n",
    "\n",
    "p_hat_vec = []\n",
    "for i in range(sim_size):\n",
    "    \n",
    "    # bootstrap\n",
    "    obs_bootstrap = np.random.choice(obs_control, size = n_control, replace = True)\n",
    "    \n",
    "    # store estimate\n",
    "    p_hat_vec.append(np.sum(obs_bootstrap)/n_control)\n",
    "    \n",
    "# try different settings when plotting    \n",
    "sns.distplot(p_hat_vec)\n",
    "plt.axvline(np.mean(p_hat_vec), c = 'red')\n",
    "plt.show()"
   ]
  },
  {
   "cell_type": "markdown",
   "metadata": {},
   "source": [
    "#### Step 3 - Calculate the p-value.\n",
    "\n",
    "Let's calculate the p-value for both the analytic and numerical approaches.\n",
    "\n",
    "Note that this is a one-tailed test. Recall that you can check this by looking at how the hypotheses were specified."
   ]
  },
  {
   "cell_type": "markdown",
   "metadata": {},
   "source": [
    "**Analytic Approach**\n",
    "\n",
    "Calculate the z-score given our observations in the test group,\n",
    "\n",
    "\\begin{align*}\n",
    "    \\hat{p} = 0.06\n",
    "\\end{align*}\n",
    "\n",
    "Then,\n",
    "\n",
    "\\begin{align*}\n",
    "    z &= \\frac{0.06 - 0.045}{\\sqrt{0.042975/200}}\\\\\n",
    "    &= 1.023289\n",
    "\\end{align*}"
   ]
  },
  {
   "cell_type": "code",
   "execution_count": 5,
   "metadata": {},
   "outputs": [
    {
     "name": "stdout",
     "output_type": "stream",
     "text": [
      "z-score: 1.0232890201933016\n",
      "p-value: 0.15308560679274574\n"
     ]
    }
   ],
   "source": [
    "sigma = np.sqrt(p_control_hat*(1-p_control_hat)/n_control)\n",
    "\n",
    "z_score = (p_test_hat - p_control_hat)/sigma\n",
    "\n",
    "print('z-score:', z_score)\n",
    "print('p-value:', (1 - norm.cdf(z_score)))"
   ]
  },
  {
   "cell_type": "markdown",
   "metadata": {},
   "source": [
    "**Numerical Approach**\n",
    "\n",
    "We simply calculate the probability that we observe samples that are greater than $0.06$ from our bootstrapped sampling distribution."
   ]
  },
  {
   "cell_type": "code",
   "execution_count": 6,
   "metadata": {},
   "outputs": [
    {
     "name": "stdout",
     "output_type": "stream",
     "text": [
      "p-value: 0.1224\n"
     ]
    }
   ],
   "source": [
    "p_value_bootstrap = np.sum(np.array(p_hat_vec) > p_test_hat)/sim_size\n",
    "\n",
    "print('p-value:', p_value_bootstrap)"
   ]
  },
  {
   "cell_type": "markdown",
   "metadata": {},
   "source": [
    "#### Step 4 - Conclusion.\n",
    "\n",
    "With a significance level of $\\alpha = 0.05$, we see that our p-value is larger compared to the threshold.\n",
    "\n",
    "Thus, we conclude that:\n",
    "\n",
    "1. We cannot reject the null hypothesis that the proportion of people that use the new website has a higher conversion rate.\n",
    "\n",
    "2. There is not enough evidence to suggest that the new website helps increase the premium subscription rate."
   ]
  },
  {
   "cell_type": "markdown",
   "metadata": {},
   "source": [
    "---\n",
    "\n",
    "## What now?\n",
    "\n",
    "Looking behind the curtain, we KNOW that the new website does does increase the premium subscription rate.\n",
    "\n",
    "Thus, we WANT to reject the null hypothesis.\n",
    "\n",
    "Recall the definition of power: <b>the probability that we reject $H_0$ given that $H_0$ is false</b>.\n",
    "\n",
    "How do we increase the power of our test?\n",
    "\n",
    "---"
   ]
  },
  {
   "cell_type": "code",
   "execution_count": null,
   "metadata": {},
   "outputs": [],
   "source": []
  }
 ],
 "metadata": {
  "kernelspec": {
   "display_name": "Python 3 (ipykernel)",
   "language": "python",
   "name": "python3"
  },
  "language_info": {
   "codemirror_mode": {
    "name": "ipython",
    "version": 3
   },
   "file_extension": ".py",
   "mimetype": "text/x-python",
   "name": "python",
   "nbconvert_exporter": "python",
   "pygments_lexer": "ipython3",
   "version": "3.8.12"
  },
  "latex_envs": {
   "LaTeX_envs_menu_present": true,
   "autoclose": false,
   "autocomplete": true,
   "bibliofile": "biblio.bib",
   "cite_by": "apalike",
   "current_citInitial": 1,
   "eqLabelWithNumbers": true,
   "eqNumInitial": 1,
   "hotkeys": {
    "equation": "Ctrl-E",
    "itemize": "Ctrl-I"
   },
   "labels_anchors": false,
   "latex_user_defs": false,
   "report_style_numbering": false,
   "user_envs_cfg": false
  },
  "toc": {
   "base_numbering": 1,
   "nav_menu": {},
   "number_sections": true,
   "sideBar": true,
   "skip_h1_title": false,
   "title_cell": "Table of Contents",
   "title_sidebar": "Contents",
   "toc_cell": false,
   "toc_position": {},
   "toc_section_display": true,
   "toc_window_display": false
  }
 },
 "nbformat": 4,
 "nbformat_minor": 4
}
