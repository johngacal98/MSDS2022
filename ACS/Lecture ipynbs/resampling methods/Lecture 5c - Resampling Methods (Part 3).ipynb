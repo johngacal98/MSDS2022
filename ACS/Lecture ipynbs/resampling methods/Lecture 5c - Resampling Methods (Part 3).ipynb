{
 "cells": [
  {
   "cell_type": "markdown",
   "metadata": {},
   "source": [
    "# Lecture 5c Notebook - Resampling Methods (Part 3)"
   ]
  },
  {
   "cell_type": "markdown",
   "metadata": {},
   "source": [
    "### Cross-Validation\n",
    "\n",
    "<b>Cross-validation</b> is a technique typically focused on estimating <b>error statistics</b> by dividing your dataset into training and validation/test partitions.\n",
    "\n",
    "Error statistics are used to evaluate a model's performance. In other words, it tries to measure how good a model's predictions are.\n",
    "\n",
    "In this notebook, we will look at three methods for validating model performance:\n",
    "\n",
    "1. <b>Monte Carlo Cross-Validation</b> (a.k.a. repeated random sub-sampling validation)\n",
    "\n",
    "\n",
    "2. <b>Leave-One-Out Cross-Validation</b> (LOOCV)\n",
    "\n",
    "\n",
    "3. <b>k-Fold Cross-Validation</b>\n",
    "\n",
    "For a more detailed and practical discussion of other cross-validation methods, check out the CV examples in the [`sklearn`](https://scikit-learn.org/stable/modules/cross_validation.html) documentation."
   ]
  },
  {
   "cell_type": "markdown",
   "metadata": {},
   "source": [
    "---\n",
    "\n",
    "#### Example. Monte Carlo Cross-Validation\n",
    "\n",
    "#### Example. Bike Sharing - Evaluating Predictive Performance"
   ]
  },
  {
   "cell_type": "code",
   "execution_count": 1,
   "metadata": {
    "execution": {
     "iopub.execute_input": "2021-07-27T05:11:09.007476Z",
     "iopub.status.busy": "2021-07-27T05:11:09.007001Z",
     "iopub.status.idle": "2021-07-27T05:11:10.230977Z",
     "shell.execute_reply": "2021-07-27T05:11:10.230067Z",
     "shell.execute_reply.started": "2021-07-27T05:11:09.007359Z"
    },
    "tags": []
   },
   "outputs": [
    {
     "data": {
      "text/html": [
       "<div>\n",
       "<style scoped>\n",
       "    .dataframe tbody tr th:only-of-type {\n",
       "        vertical-align: middle;\n",
       "    }\n",
       "\n",
       "    .dataframe tbody tr th {\n",
       "        vertical-align: top;\n",
       "    }\n",
       "\n",
       "    .dataframe thead th {\n",
       "        text-align: right;\n",
       "    }\n",
       "</style>\n",
       "<table border=\"1\" class=\"dataframe\">\n",
       "  <thead>\n",
       "    <tr style=\"text-align: right;\">\n",
       "      <th></th>\n",
       "      <th>season</th>\n",
       "      <th>yr</th>\n",
       "      <th>mnth</th>\n",
       "      <th>holiday</th>\n",
       "      <th>weekday</th>\n",
       "      <th>workingday</th>\n",
       "      <th>weathersit</th>\n",
       "      <th>temp</th>\n",
       "      <th>atemp</th>\n",
       "      <th>hum</th>\n",
       "      <th>windspeed</th>\n",
       "      <th>count</th>\n",
       "    </tr>\n",
       "    <tr>\n",
       "      <th>dteday</th>\n",
       "      <th></th>\n",
       "      <th></th>\n",
       "      <th></th>\n",
       "      <th></th>\n",
       "      <th></th>\n",
       "      <th></th>\n",
       "      <th></th>\n",
       "      <th></th>\n",
       "      <th></th>\n",
       "      <th></th>\n",
       "      <th></th>\n",
       "      <th></th>\n",
       "    </tr>\n",
       "  </thead>\n",
       "  <tbody>\n",
       "    <tr>\n",
       "      <th>2011-01-01</th>\n",
       "      <td>1</td>\n",
       "      <td>0</td>\n",
       "      <td>1</td>\n",
       "      <td>0</td>\n",
       "      <td>6</td>\n",
       "      <td>0</td>\n",
       "      <td>2</td>\n",
       "      <td>0.344167</td>\n",
       "      <td>0.363625</td>\n",
       "      <td>0.805833</td>\n",
       "      <td>0.160446</td>\n",
       "      <td>985</td>\n",
       "    </tr>\n",
       "    <tr>\n",
       "      <th>2011-01-02</th>\n",
       "      <td>1</td>\n",
       "      <td>0</td>\n",
       "      <td>1</td>\n",
       "      <td>0</td>\n",
       "      <td>0</td>\n",
       "      <td>0</td>\n",
       "      <td>2</td>\n",
       "      <td>0.363478</td>\n",
       "      <td>0.353739</td>\n",
       "      <td>0.696087</td>\n",
       "      <td>0.248539</td>\n",
       "      <td>801</td>\n",
       "    </tr>\n",
       "    <tr>\n",
       "      <th>2011-01-03</th>\n",
       "      <td>1</td>\n",
       "      <td>0</td>\n",
       "      <td>1</td>\n",
       "      <td>0</td>\n",
       "      <td>1</td>\n",
       "      <td>1</td>\n",
       "      <td>1</td>\n",
       "      <td>0.196364</td>\n",
       "      <td>0.189405</td>\n",
       "      <td>0.437273</td>\n",
       "      <td>0.248309</td>\n",
       "      <td>1349</td>\n",
       "    </tr>\n",
       "    <tr>\n",
       "      <th>2011-01-04</th>\n",
       "      <td>1</td>\n",
       "      <td>0</td>\n",
       "      <td>1</td>\n",
       "      <td>0</td>\n",
       "      <td>2</td>\n",
       "      <td>1</td>\n",
       "      <td>1</td>\n",
       "      <td>0.200000</td>\n",
       "      <td>0.212122</td>\n",
       "      <td>0.590435</td>\n",
       "      <td>0.160296</td>\n",
       "      <td>1562</td>\n",
       "    </tr>\n",
       "    <tr>\n",
       "      <th>2011-01-05</th>\n",
       "      <td>1</td>\n",
       "      <td>0</td>\n",
       "      <td>1</td>\n",
       "      <td>0</td>\n",
       "      <td>3</td>\n",
       "      <td>1</td>\n",
       "      <td>1</td>\n",
       "      <td>0.226957</td>\n",
       "      <td>0.229270</td>\n",
       "      <td>0.436957</td>\n",
       "      <td>0.186900</td>\n",
       "      <td>1600</td>\n",
       "    </tr>\n",
       "    <tr>\n",
       "      <th>...</th>\n",
       "      <td>...</td>\n",
       "      <td>...</td>\n",
       "      <td>...</td>\n",
       "      <td>...</td>\n",
       "      <td>...</td>\n",
       "      <td>...</td>\n",
       "      <td>...</td>\n",
       "      <td>...</td>\n",
       "      <td>...</td>\n",
       "      <td>...</td>\n",
       "      <td>...</td>\n",
       "      <td>...</td>\n",
       "    </tr>\n",
       "    <tr>\n",
       "      <th>2012-12-27</th>\n",
       "      <td>1</td>\n",
       "      <td>1</td>\n",
       "      <td>12</td>\n",
       "      <td>0</td>\n",
       "      <td>4</td>\n",
       "      <td>1</td>\n",
       "      <td>2</td>\n",
       "      <td>0.254167</td>\n",
       "      <td>0.226642</td>\n",
       "      <td>0.652917</td>\n",
       "      <td>0.350133</td>\n",
       "      <td>2114</td>\n",
       "    </tr>\n",
       "    <tr>\n",
       "      <th>2012-12-28</th>\n",
       "      <td>1</td>\n",
       "      <td>1</td>\n",
       "      <td>12</td>\n",
       "      <td>0</td>\n",
       "      <td>5</td>\n",
       "      <td>1</td>\n",
       "      <td>2</td>\n",
       "      <td>0.253333</td>\n",
       "      <td>0.255046</td>\n",
       "      <td>0.590000</td>\n",
       "      <td>0.155471</td>\n",
       "      <td>3095</td>\n",
       "    </tr>\n",
       "    <tr>\n",
       "      <th>2012-12-29</th>\n",
       "      <td>1</td>\n",
       "      <td>1</td>\n",
       "      <td>12</td>\n",
       "      <td>0</td>\n",
       "      <td>6</td>\n",
       "      <td>0</td>\n",
       "      <td>2</td>\n",
       "      <td>0.253333</td>\n",
       "      <td>0.242400</td>\n",
       "      <td>0.752917</td>\n",
       "      <td>0.124383</td>\n",
       "      <td>1341</td>\n",
       "    </tr>\n",
       "    <tr>\n",
       "      <th>2012-12-30</th>\n",
       "      <td>1</td>\n",
       "      <td>1</td>\n",
       "      <td>12</td>\n",
       "      <td>0</td>\n",
       "      <td>0</td>\n",
       "      <td>0</td>\n",
       "      <td>1</td>\n",
       "      <td>0.255833</td>\n",
       "      <td>0.231700</td>\n",
       "      <td>0.483333</td>\n",
       "      <td>0.350754</td>\n",
       "      <td>1796</td>\n",
       "    </tr>\n",
       "    <tr>\n",
       "      <th>2012-12-31</th>\n",
       "      <td>1</td>\n",
       "      <td>1</td>\n",
       "      <td>12</td>\n",
       "      <td>0</td>\n",
       "      <td>1</td>\n",
       "      <td>1</td>\n",
       "      <td>2</td>\n",
       "      <td>0.215833</td>\n",
       "      <td>0.223487</td>\n",
       "      <td>0.577500</td>\n",
       "      <td>0.154846</td>\n",
       "      <td>2729</td>\n",
       "    </tr>\n",
       "  </tbody>\n",
       "</table>\n",
       "<p>731 rows × 12 columns</p>\n",
       "</div>"
      ],
      "text/plain": [
       "            season  yr  mnth  holiday  weekday  workingday  weathersit  \\\n",
       "dteday                                                                   \n",
       "2011-01-01       1   0     1        0        6           0           2   \n",
       "2011-01-02       1   0     1        0        0           0           2   \n",
       "2011-01-03       1   0     1        0        1           1           1   \n",
       "2011-01-04       1   0     1        0        2           1           1   \n",
       "2011-01-05       1   0     1        0        3           1           1   \n",
       "...            ...  ..   ...      ...      ...         ...         ...   \n",
       "2012-12-27       1   1    12        0        4           1           2   \n",
       "2012-12-28       1   1    12        0        5           1           2   \n",
       "2012-12-29       1   1    12        0        6           0           2   \n",
       "2012-12-30       1   1    12        0        0           0           1   \n",
       "2012-12-31       1   1    12        0        1           1           2   \n",
       "\n",
       "                temp     atemp       hum  windspeed  count  \n",
       "dteday                                                      \n",
       "2011-01-01  0.344167  0.363625  0.805833   0.160446    985  \n",
       "2011-01-02  0.363478  0.353739  0.696087   0.248539    801  \n",
       "2011-01-03  0.196364  0.189405  0.437273   0.248309   1349  \n",
       "2011-01-04  0.200000  0.212122  0.590435   0.160296   1562  \n",
       "2011-01-05  0.226957  0.229270  0.436957   0.186900   1600  \n",
       "...              ...       ...       ...        ...    ...  \n",
       "2012-12-27  0.254167  0.226642  0.652917   0.350133   2114  \n",
       "2012-12-28  0.253333  0.255046  0.590000   0.155471   3095  \n",
       "2012-12-29  0.253333  0.242400  0.752917   0.124383   1341  \n",
       "2012-12-30  0.255833  0.231700  0.483333   0.350754   1796  \n",
       "2012-12-31  0.215833  0.223487  0.577500   0.154846   2729  \n",
       "\n",
       "[731 rows x 12 columns]"
      ]
     },
     "execution_count": 1,
     "metadata": {},
     "output_type": "execute_result"
    }
   ],
   "source": [
    "import numpy as np\n",
    "import pandas as pd\n",
    "import matplotlib.pyplot as plt\n",
    "import seaborn as sns\n",
    "\n",
    "from sklearn.linear_model import LinearRegression\n",
    "from sklearn.neighbors import KNeighborsRegressor\n",
    "\n",
    "df = pd.read_csv('Bike_Sharing.csv', index_col=0)\n",
    "df.index = pd.to_datetime(df.index)\n",
    "\n",
    "df"
   ]
  },
  {
   "cell_type": "code",
   "execution_count": 2,
   "metadata": {
    "execution": {
     "iopub.execute_input": "2021-07-27T05:11:10.232969Z",
     "iopub.status.busy": "2021-07-27T05:11:10.232715Z",
     "iopub.status.idle": "2021-07-27T05:11:10.283569Z",
     "shell.execute_reply": "2021-07-27T05:11:10.282622Z",
     "shell.execute_reply.started": "2021-07-27T05:11:10.232940Z"
    }
   },
   "outputs": [
    {
     "data": {
      "text/html": [
       "<div>\n",
       "<style scoped>\n",
       "    .dataframe tbody tr th:only-of-type {\n",
       "        vertical-align: middle;\n",
       "    }\n",
       "\n",
       "    .dataframe tbody tr th {\n",
       "        vertical-align: top;\n",
       "    }\n",
       "\n",
       "    .dataframe thead th {\n",
       "        text-align: right;\n",
       "    }\n",
       "</style>\n",
       "<table border=\"1\" class=\"dataframe\">\n",
       "  <thead>\n",
       "    <tr style=\"text-align: right;\">\n",
       "      <th></th>\n",
       "      <th>season</th>\n",
       "      <th>yr</th>\n",
       "      <th>mnth</th>\n",
       "      <th>holiday</th>\n",
       "      <th>weekday</th>\n",
       "      <th>workingday</th>\n",
       "      <th>weathersit</th>\n",
       "      <th>temp</th>\n",
       "      <th>atemp</th>\n",
       "      <th>hum</th>\n",
       "      <th>windspeed</th>\n",
       "      <th>count</th>\n",
       "    </tr>\n",
       "  </thead>\n",
       "  <tbody>\n",
       "    <tr>\n",
       "      <th>count</th>\n",
       "      <td>731.000000</td>\n",
       "      <td>731.000000</td>\n",
       "      <td>731.000000</td>\n",
       "      <td>731.000000</td>\n",
       "      <td>731.000000</td>\n",
       "      <td>731.000000</td>\n",
       "      <td>731.000000</td>\n",
       "      <td>731.000000</td>\n",
       "      <td>731.000000</td>\n",
       "      <td>731.000000</td>\n",
       "      <td>731.000000</td>\n",
       "      <td>731.000000</td>\n",
       "    </tr>\n",
       "    <tr>\n",
       "      <th>mean</th>\n",
       "      <td>2.496580</td>\n",
       "      <td>0.500684</td>\n",
       "      <td>6.519836</td>\n",
       "      <td>0.028728</td>\n",
       "      <td>2.997264</td>\n",
       "      <td>0.683995</td>\n",
       "      <td>1.395349</td>\n",
       "      <td>0.495385</td>\n",
       "      <td>0.474354</td>\n",
       "      <td>0.627894</td>\n",
       "      <td>0.190486</td>\n",
       "      <td>4504.348837</td>\n",
       "    </tr>\n",
       "    <tr>\n",
       "      <th>std</th>\n",
       "      <td>1.110807</td>\n",
       "      <td>0.500342</td>\n",
       "      <td>3.451913</td>\n",
       "      <td>0.167155</td>\n",
       "      <td>2.004787</td>\n",
       "      <td>0.465233</td>\n",
       "      <td>0.544894</td>\n",
       "      <td>0.183051</td>\n",
       "      <td>0.162961</td>\n",
       "      <td>0.142429</td>\n",
       "      <td>0.077498</td>\n",
       "      <td>1937.211452</td>\n",
       "    </tr>\n",
       "    <tr>\n",
       "      <th>min</th>\n",
       "      <td>1.000000</td>\n",
       "      <td>0.000000</td>\n",
       "      <td>1.000000</td>\n",
       "      <td>0.000000</td>\n",
       "      <td>0.000000</td>\n",
       "      <td>0.000000</td>\n",
       "      <td>1.000000</td>\n",
       "      <td>0.059130</td>\n",
       "      <td>0.079070</td>\n",
       "      <td>0.000000</td>\n",
       "      <td>0.022392</td>\n",
       "      <td>22.000000</td>\n",
       "    </tr>\n",
       "    <tr>\n",
       "      <th>25%</th>\n",
       "      <td>2.000000</td>\n",
       "      <td>0.000000</td>\n",
       "      <td>4.000000</td>\n",
       "      <td>0.000000</td>\n",
       "      <td>1.000000</td>\n",
       "      <td>0.000000</td>\n",
       "      <td>1.000000</td>\n",
       "      <td>0.337083</td>\n",
       "      <td>0.337842</td>\n",
       "      <td>0.520000</td>\n",
       "      <td>0.134950</td>\n",
       "      <td>3152.000000</td>\n",
       "    </tr>\n",
       "    <tr>\n",
       "      <th>50%</th>\n",
       "      <td>3.000000</td>\n",
       "      <td>1.000000</td>\n",
       "      <td>7.000000</td>\n",
       "      <td>0.000000</td>\n",
       "      <td>3.000000</td>\n",
       "      <td>1.000000</td>\n",
       "      <td>1.000000</td>\n",
       "      <td>0.498333</td>\n",
       "      <td>0.486733</td>\n",
       "      <td>0.626667</td>\n",
       "      <td>0.180975</td>\n",
       "      <td>4548.000000</td>\n",
       "    </tr>\n",
       "    <tr>\n",
       "      <th>75%</th>\n",
       "      <td>3.000000</td>\n",
       "      <td>1.000000</td>\n",
       "      <td>10.000000</td>\n",
       "      <td>0.000000</td>\n",
       "      <td>5.000000</td>\n",
       "      <td>1.000000</td>\n",
       "      <td>2.000000</td>\n",
       "      <td>0.655417</td>\n",
       "      <td>0.608602</td>\n",
       "      <td>0.730209</td>\n",
       "      <td>0.233214</td>\n",
       "      <td>5956.000000</td>\n",
       "    </tr>\n",
       "    <tr>\n",
       "      <th>max</th>\n",
       "      <td>4.000000</td>\n",
       "      <td>1.000000</td>\n",
       "      <td>12.000000</td>\n",
       "      <td>1.000000</td>\n",
       "      <td>6.000000</td>\n",
       "      <td>1.000000</td>\n",
       "      <td>3.000000</td>\n",
       "      <td>0.861667</td>\n",
       "      <td>0.840896</td>\n",
       "      <td>0.972500</td>\n",
       "      <td>0.507463</td>\n",
       "      <td>8714.000000</td>\n",
       "    </tr>\n",
       "  </tbody>\n",
       "</table>\n",
       "</div>"
      ],
      "text/plain": [
       "           season          yr        mnth     holiday     weekday  workingday  \\\n",
       "count  731.000000  731.000000  731.000000  731.000000  731.000000  731.000000   \n",
       "mean     2.496580    0.500684    6.519836    0.028728    2.997264    0.683995   \n",
       "std      1.110807    0.500342    3.451913    0.167155    2.004787    0.465233   \n",
       "min      1.000000    0.000000    1.000000    0.000000    0.000000    0.000000   \n",
       "25%      2.000000    0.000000    4.000000    0.000000    1.000000    0.000000   \n",
       "50%      3.000000    1.000000    7.000000    0.000000    3.000000    1.000000   \n",
       "75%      3.000000    1.000000   10.000000    0.000000    5.000000    1.000000   \n",
       "max      4.000000    1.000000   12.000000    1.000000    6.000000    1.000000   \n",
       "\n",
       "       weathersit        temp       atemp         hum   windspeed        count  \n",
       "count  731.000000  731.000000  731.000000  731.000000  731.000000   731.000000  \n",
       "mean     1.395349    0.495385    0.474354    0.627894    0.190486  4504.348837  \n",
       "std      0.544894    0.183051    0.162961    0.142429    0.077498  1937.211452  \n",
       "min      1.000000    0.059130    0.079070    0.000000    0.022392    22.000000  \n",
       "25%      1.000000    0.337083    0.337842    0.520000    0.134950  3152.000000  \n",
       "50%      1.000000    0.498333    0.486733    0.626667    0.180975  4548.000000  \n",
       "75%      2.000000    0.655417    0.608602    0.730209    0.233214  5956.000000  \n",
       "max      3.000000    0.861667    0.840896    0.972500    0.507463  8714.000000  "
      ]
     },
     "execution_count": 2,
     "metadata": {},
     "output_type": "execute_result"
    }
   ],
   "source": [
    "df.describe()"
   ]
  },
  {
   "cell_type": "code",
   "execution_count": 3,
   "metadata": {
    "execution": {
     "iopub.execute_input": "2021-07-27T05:11:10.285230Z",
     "iopub.status.busy": "2021-07-27T05:11:10.285010Z",
     "iopub.status.idle": "2021-07-27T05:11:10.515467Z",
     "shell.execute_reply": "2021-07-27T05:11:10.514779Z",
     "shell.execute_reply.started": "2021-07-27T05:11:10.285201Z"
    }
   },
   "outputs": [
    {
     "data": {
      "image/png": "[encoded data removed]",
      "text/plain": [
       "<Figure size 1080x360 with 1 Axes>"
      ]
     },
     "metadata": {
      "needs_background": "light"
     },
     "output_type": "display_data"
    }
   ],
   "source": [
    "df['count'].plot(figsize=(15,5))\n",
    "plt.show()"
   ]
  },
  {
   "cell_type": "code",
   "execution_count": 4,
   "metadata": {
    "execution": {
     "iopub.execute_input": "2021-07-27T05:11:10.516995Z",
     "iopub.status.busy": "2021-07-27T05:11:10.516791Z",
     "iopub.status.idle": "2021-07-27T05:11:10.522192Z",
     "shell.execute_reply": "2021-07-27T05:11:10.521304Z",
     "shell.execute_reply.started": "2021-07-27T05:11:10.516964Z"
    },
    "tags": []
   },
   "outputs": [],
   "source": [
    "x = df[['holiday', 'workingday', 'temp', 'atemp', 'hum', 'windspeed']].to_numpy()\n",
    "y = df['count'].to_numpy()"
   ]
  },
  {
   "cell_type": "markdown",
   "metadata": {},
   "source": [
    "#### Monte Carlo Cross-Validation"
   ]
  },
  {
   "cell_type": "code",
   "execution_count": 5,
   "metadata": {
    "execution": {
     "iopub.execute_input": "2021-07-27T05:11:10.523538Z",
     "iopub.status.busy": "2021-07-27T05:11:10.523330Z",
     "iopub.status.idle": "2021-07-27T05:11:10.532184Z",
     "shell.execute_reply": "2021-07-27T05:11:10.531448Z",
     "shell.execute_reply.started": "2021-07-27T05:11:10.523512Z"
    },
    "tags": []
   },
   "outputs": [
    {
     "name": "stdout",
     "output_type": "stream",
     "text": [
      "(584, 6)\n",
      "(584,)\n",
      "(147, 6)\n",
      "(147,)\n"
     ]
    }
   ],
   "source": [
    "from sklearn.model_selection import train_test_split\n",
    "\n",
    "x_train, x_test, y_train, y_test = train_test_split(x, y, test_size=0.2, random_state=1)\n",
    "\n",
    "print(x_train.shape)\n",
    "print(y_train.shape)\n",
    "print(x_test.shape)\n",
    "print(y_test.shape)"
   ]
  },
  {
   "cell_type": "code",
   "execution_count": 6,
   "metadata": {
    "execution": {
     "iopub.execute_input": "2021-07-27T05:11:10.533688Z",
     "iopub.status.busy": "2021-07-27T05:11:10.533321Z",
     "iopub.status.idle": "2021-07-27T05:11:10.605074Z",
     "shell.execute_reply": "2021-07-27T05:11:10.603649Z",
     "shell.execute_reply.started": "2021-07-27T05:11:10.533657Z"
    },
    "tags": []
   },
   "outputs": [],
   "source": [
    "model = LinearRegression().fit(x_train, y_train)\n",
    "\n",
    "fitted = model.predict(x_train)\n",
    "y_hat = model.predict(x_test)"
   ]
  },
  {
   "cell_type": "markdown",
   "metadata": {},
   "source": [
    "To evaluate the accuracy of our predictions, we will use the <b>mean absolute error</b> (MAE),\n",
    "\n",
    "\\begin{align*}\n",
    "    \\text{MAE} &= \\frac{1}{n} \\sum_{i=1}^{n} |y_i - \\hat{y}_i|\n",
    "\\end{align*}\n",
    "\n",
    "This metric has the advantage of being very easy to interpret."
   ]
  },
  {
   "cell_type": "code",
   "execution_count": 7,
   "metadata": {
    "execution": {
     "iopub.execute_input": "2021-07-27T05:11:10.607543Z",
     "iopub.status.busy": "2021-07-27T05:11:10.607067Z",
     "iopub.status.idle": "2021-07-27T05:11:10.614485Z",
     "shell.execute_reply": "2021-07-27T05:11:10.613673Z",
     "shell.execute_reply.started": "2021-07-27T05:11:10.607482Z"
    },
    "tags": []
   },
   "outputs": [
    {
     "name": "stdout",
     "output_type": "stream",
     "text": [
      "Train MAE Linear Regression = 1179.2782286003228\n",
      " Test MAE Linear Regression = 1092.5312673169885\n"
     ]
    }
   ],
   "source": [
    "from sklearn.metrics import mean_absolute_error\n",
    "\n",
    "mae_train_lr = mean_absolute_error(y_train, fitted)\n",
    "mae_test_lr = mean_absolute_error(y_test, y_hat)\n",
    "print('Train MAE Linear Regression =', mae_train_lr)\n",
    "print(' Test MAE Linear Regression =', mae_test_lr)"
   ]
  },
  {
   "cell_type": "code",
   "execution_count": 8,
   "metadata": {
    "execution": {
     "iopub.execute_input": "2021-07-27T05:11:10.617574Z",
     "iopub.status.busy": "2021-07-27T05:11:10.617293Z",
     "iopub.status.idle": "2021-07-27T05:11:12.470446Z",
     "shell.execute_reply": "2021-07-27T05:11:12.468928Z",
     "shell.execute_reply.started": "2021-07-27T05:11:10.617537Z"
    },
    "tags": []
   },
   "outputs": [],
   "source": [
    "n_sim = 1000\n",
    "\n",
    "mae_train_lr = []\n",
    "mae_test_lr = []\n",
    "for i in range(n_sim):\n",
    "    \n",
    "    x_train, x_test, y_train, y_test = train_test_split(x, y, test_size=0.2, random_state=i)\n",
    "    \n",
    "    model = LinearRegression().fit(x_train, y_train)\n",
    "\n",
    "    fitted = model.predict(x_train)\n",
    "    y_hat = model.predict(x_test)\n",
    "    \n",
    "    mae_train_lr.append(mean_absolute_error(y_train, fitted))\n",
    "    mae_test_lr.append(mean_absolute_error(y_test, y_hat))\n",
    "    \n",
    "mae_train_lr = np.array(mae_train_lr)\n",
    "mae_test_lr = np.array(mae_test_lr)"
   ]
  },
  {
   "cell_type": "code",
   "execution_count": 9,
   "metadata": {
    "execution": {
     "iopub.execute_input": "2021-07-27T05:11:12.473532Z",
     "iopub.status.busy": "2021-07-27T05:11:12.473289Z",
     "iopub.status.idle": "2021-07-27T05:11:12.480334Z",
     "shell.execute_reply": "2021-07-27T05:11:12.479516Z",
     "shell.execute_reply.started": "2021-07-27T05:11:12.473489Z"
    },
    "tags": []
   },
   "outputs": [
    {
     "name": "stdout",
     "output_type": "stream",
     "text": [
      "Avg. Train MAE Linear Regression = 1154.2254173966717\n",
      " Avg. Test MAE Linear Regression = 1173.2889006027322\n",
      "---\n",
      "Std. Train MAE Linear Regression = 16.856885254189166\n",
      " Std. Test MAE Linear Regression = 62.01433106191903\n"
     ]
    }
   ],
   "source": [
    "print('Avg. Train MAE Linear Regression =', mae_train_lr.mean())\n",
    "print(' Avg. Test MAE Linear Regression =', mae_test_lr.mean())\n",
    "print('---')\n",
    "print('Std. Train MAE Linear Regression =', mae_train_lr.std())\n",
    "print(' Std. Test MAE Linear Regression =', mae_test_lr.std())"
   ]
  },
  {
   "cell_type": "code",
   "execution_count": 10,
   "metadata": {
    "execution": {
     "iopub.execute_input": "2021-07-27T05:11:12.481941Z",
     "iopub.status.busy": "2021-07-27T05:11:12.481656Z",
     "iopub.status.idle": "2021-07-27T05:11:12.670596Z",
     "shell.execute_reply": "2021-07-27T05:11:12.669944Z",
     "shell.execute_reply.started": "2021-07-27T05:11:12.481904Z"
    },
    "tags": []
   },
   "outputs": [
    {
     "data": {
      "text/plain": [
       "<AxesSubplot:>"
      ]
     },
     "execution_count": 10,
     "metadata": {},
     "output_type": "execute_result"
    },
    {
     "data": {
      "image/png": "[encoded data removed]",
      "text/plain": [
       "<Figure size 432x288 with 1 Axes>"
      ]
     },
     "metadata": {
      "needs_background": "light"
     },
     "output_type": "display_data"
    }
   ],
   "source": [
    "df_mae = pd.DataFrame()\n",
    "df_mae['Train MAE Linear Regression'] = mae_train_lr\n",
    "df_mae['Test MAE Linear Regression'] = mae_test_lr\n",
    "\n",
    "sns.boxplot(data=df_mae)"
   ]
  },
  {
   "cell_type": "markdown",
   "metadata": {},
   "source": [
    "Is this good?\n",
    "\n",
    "Let's compare this to a very simple prediction method: taking the average."
   ]
  },
  {
   "cell_type": "code",
   "execution_count": 11,
   "metadata": {
    "execution": {
     "iopub.execute_input": "2021-07-27T05:11:12.671802Z",
     "iopub.status.busy": "2021-07-27T05:11:12.671615Z",
     "iopub.status.idle": "2021-07-27T05:11:13.622211Z",
     "shell.execute_reply": "2021-07-27T05:11:13.621530Z",
     "shell.execute_reply.started": "2021-07-27T05:11:12.671778Z"
    },
    "tags": []
   },
   "outputs": [],
   "source": [
    "n_sim = 1000\n",
    "\n",
    "mae_train_mean = []\n",
    "mae_test_mean = []\n",
    "for i in range(n_sim):\n",
    "    \n",
    "    x_train, x_test, y_train, y_test = train_test_split(x, y, test_size=0.2, random_state=i)\n",
    "\n",
    "    fitted = np.repeat(y_train.mean(), repeats=len(y_train))\n",
    "    y_hat = np.repeat(y_train.mean(), repeats=len(y_test))\n",
    "    \n",
    "    mae_train_mean.append(mean_absolute_error(y_train, fitted))\n",
    "    mae_test_mean.append(mean_absolute_error(y_test, y_hat))\n",
    "    \n",
    "mae_train_mean = np.array(mae_train_mean)\n",
    "mae_test_mean = np.array(mae_test_mean)"
   ]
  },
  {
   "cell_type": "code",
   "execution_count": 12,
   "metadata": {
    "execution": {
     "iopub.execute_input": "2021-07-27T05:11:13.623507Z",
     "iopub.status.busy": "2021-07-27T05:11:13.623319Z",
     "iopub.status.idle": "2021-07-27T05:11:13.629649Z",
     "shell.execute_reply": "2021-07-27T05:11:13.628938Z",
     "shell.execute_reply.started": "2021-07-27T05:11:13.623484Z"
    },
    "tags": []
   },
   "outputs": [
    {
     "name": "stdout",
     "output_type": "stream",
     "text": [
      "Avg. Train MAE Mean Method = 1581.832183852505\n",
      " Avg. Test MAE Mean Method = 1582.7421110334546\n",
      "---\n",
      "Std. Train MAE Mean Method = 21.10544672658609\n",
      " Std. Test MAE Mean Method = 83.9356492705848\n"
     ]
    }
   ],
   "source": [
    "print('Avg. Train MAE Mean Method =', mae_train_mean.mean())\n",
    "print(' Avg. Test MAE Mean Method =', mae_test_mean.mean())\n",
    "print('---')\n",
    "print('Std. Train MAE Mean Method =', mae_train_mean.std())\n",
    "print(' Std. Test MAE Mean Method =', mae_test_mean.std())"
   ]
  },
  {
   "cell_type": "code",
   "execution_count": 13,
   "metadata": {
    "execution": {
     "iopub.execute_input": "2021-07-27T05:11:13.630795Z",
     "iopub.status.busy": "2021-07-27T05:11:13.630485Z",
     "iopub.status.idle": "2021-07-27T05:11:13.741618Z",
     "shell.execute_reply": "2021-07-27T05:11:13.741108Z",
     "shell.execute_reply.started": "2021-07-27T05:11:13.630770Z"
    },
    "tags": []
   },
   "outputs": [
    {
     "data": {
      "text/plain": [
       "<AxesSubplot:>"
      ]
     },
     "execution_count": 13,
     "metadata": {},
     "output_type": "execute_result"
    },
    {
     "data": {
      "image/png": "[encoded data removed]",
      "text/plain": [
       "<Figure size 432x288 with 1 Axes>"
      ]
     },
     "metadata": {
      "needs_background": "light"
     },
     "output_type": "display_data"
    }
   ],
   "source": [
    "sns.boxplot(data=[mae_train_mean, mae_test_mean])"
   ]
  },
  {
   "cell_type": "markdown",
   "metadata": {},
   "source": [
    "So far, linear regression looks like a better method than just taking the average. Can we do better though?"
   ]
  },
  {
   "cell_type": "markdown",
   "metadata": {},
   "source": [
    "---\n",
    "\n",
    "#### Example. Bike Sharing - Hyperparameter Tuning and Model Selection\n",
    "\n",
    "Suppose we want to see if `k-NN` can beat the linear regression model.\n",
    "\n",
    "Before fitting the model, we need to select $k$. What's the best $k$? (sounds like an optimization problem!)\n",
    "\n",
    "We can use cross-validation to choose the optimal $k$ by iterating over candidate values for $k$. Although we could try every possible value for $k$, this is typically not possible for more complicated ML models that may have a lot of hyperparameters. Instead we will constrain our search to lie within some interval at fixed steps, this is called <b>grid search</b>."
   ]
  },
  {
   "cell_type": "code",
   "execution_count": 14,
   "metadata": {
    "execution": {
     "iopub.execute_input": "2021-07-27T05:11:13.743018Z",
     "iopub.status.busy": "2021-07-27T05:11:13.742801Z",
     "iopub.status.idle": "2021-07-27T05:13:56.843079Z",
     "shell.execute_reply": "2021-07-27T05:13:56.842408Z",
     "shell.execute_reply.started": "2021-07-27T05:11:13.742993Z"
    },
    "tags": []
   },
   "outputs": [
    {
     "name": "stdout",
     "output_type": "stream",
     "text": [
      "k = 1  Avg. Test MAE Mean Method = 1343.2476870748299\n",
      "k = 2  Avg. Test MAE Mean Method = 1184.2838979591836\n",
      "k = 3  Avg. Test MAE Mean Method = 1112.6859297052156\n",
      "k = 4  Avg. Test MAE Mean Method = 1083.4183384353742\n",
      "k = 5  Avg. Test MAE Mean Method = 1071.3893999999998\n",
      "k = 6  Avg. Test MAE Mean Method = 1067.3852052154195\n",
      "k = 7  Avg. Test MAE Mean Method = 1068.1683206997086\n",
      "k = 8  Avg. Test MAE Mean Method = 1067.6860841836733\n",
      "k = 9  Avg. Test MAE Mean Method = 1069.5679372637944\n",
      "k = 10  Avg. Test MAE Mean Method = 1073.1074843537415\n",
      "k = 11  Avg. Test MAE Mean Method = 1077.4369820655536\n",
      "k = 12  Avg. Test MAE Mean Method = 1081.5041519274378\n",
      "k = 13  Avg. Test MAE Mean Method = 1085.416420722135\n",
      "k = 14  Avg. Test MAE Mean Method = 1089.7715063168125\n",
      "k = 15  Avg. Test MAE Mean Method = 1094.2513183673468\n",
      "k = 16  Avg. Test MAE Mean Method = 1097.4719009353742\n",
      "k = 17  Avg. Test MAE Mean Method = 1099.7984013605444\n",
      "k = 18  Avg. Test MAE Mean Method = 1101.5863715041573\n",
      "k = 19  Avg. Test MAE Mean Method = 1102.0829237379162\n",
      "k = 20  Avg. Test MAE Mean Method = 1101.8419795918367\n"
     ]
    }
   ],
   "source": [
    "k_grid = range(1, 21)\n",
    "n_sim = 1000\n",
    "\n",
    "mae_test_knn_all = []\n",
    "for k in k_grid:\n",
    "    \n",
    "    mae_train_knn = []\n",
    "    mae_test_knn = []\n",
    "    \n",
    "    for i in range(n_sim):\n",
    "\n",
    "        x_train, x_test, y_train, y_test = train_test_split(x, y, test_size=0.2, random_state=i)\n",
    "\n",
    "        model = KNeighborsRegressor(n_neighbors=k).fit(x_train, y_train)\n",
    "\n",
    "        fitted = model.predict(x_train)\n",
    "        y_hat = model.predict(x_test)\n",
    "\n",
    "        mae_train_knn.append(mean_absolute_error(y_train, fitted))\n",
    "        mae_test_knn.append(mean_absolute_error(y_test, y_hat))\n",
    "\n",
    "    mae_train_knn = np.array(mae_train_knn)\n",
    "    mae_test_knn = np.array(mae_test_knn)\n",
    "    \n",
    "    print('k =', k, ' Avg. Test MAE Mean Method =', mae_test_knn.mean())\n",
    "    mae_test_knn_all.append(mae_test_knn)"
   ]
  },
  {
   "cell_type": "code",
   "execution_count": 15,
   "metadata": {
    "execution": {
     "iopub.execute_input": "2021-07-27T05:13:56.844825Z",
     "iopub.status.busy": "2021-07-27T05:13:56.844632Z",
     "iopub.status.idle": "2021-07-27T05:13:57.241385Z",
     "shell.execute_reply": "2021-07-27T05:13:57.240729Z",
     "shell.execute_reply.started": "2021-07-27T05:13:56.844799Z"
    },
    "tags": []
   },
   "outputs": [
    {
     "data": {
      "text/plain": [
       "<AxesSubplot:>"
      ]
     },
     "execution_count": 15,
     "metadata": {},
     "output_type": "execute_result"
    },
    {
     "data": {
      "image/png": "[encoded data removed]",
      "text/plain": [
       "<Figure size 432x288 with 1 Axes>"
      ]
     },
     "metadata": {
      "needs_background": "light"
     },
     "output_type": "display_data"
    }
   ],
   "source": [
    "sns.boxplot(data=mae_test_knn_all)"
   ]
  },
  {
   "cell_type": "markdown",
   "metadata": {},
   "source": [
    "Since $k=6$ gives us the lowest MAE, that's what we'll set it to."
   ]
  },
  {
   "cell_type": "code",
   "execution_count": 16,
   "metadata": {
    "execution": {
     "iopub.execute_input": "2021-07-27T05:13:57.242749Z",
     "iopub.status.busy": "2021-07-27T05:13:57.242553Z",
     "iopub.status.idle": "2021-07-27T05:14:04.727701Z",
     "shell.execute_reply": "2021-07-27T05:14:04.727014Z",
     "shell.execute_reply.started": "2021-07-27T05:13:57.242726Z"
    },
    "tags": []
   },
   "outputs": [],
   "source": [
    "n_sim = 1000\n",
    "\n",
    "mae_train_knn = []\n",
    "mae_test_knn = []\n",
    "for i in range(n_sim):\n",
    "\n",
    "    x_train, x_test, y_train, y_test = train_test_split(x, y, test_size=0.2, random_state=i)\n",
    "\n",
    "    model = KNeighborsRegressor(n_neighbors=6).fit(x_train, y_train)\n",
    "\n",
    "    fitted = model.predict(x_train)\n",
    "    y_hat = model.predict(x_test)\n",
    "\n",
    "    mae_train_knn.append(mean_absolute_error(y_train, fitted))\n",
    "    mae_test_knn.append(mean_absolute_error(y_test, y_hat))\n",
    "\n",
    "mae_train_knn = np.array(mae_train_knn)\n",
    "mae_test_knn = np.array(mae_test_knn)"
   ]
  },
  {
   "cell_type": "code",
   "execution_count": 17,
   "metadata": {
    "execution": {
     "iopub.execute_input": "2021-07-27T05:14:04.729042Z",
     "iopub.status.busy": "2021-07-27T05:14:04.728846Z",
     "iopub.status.idle": "2021-07-27T05:14:04.734488Z",
     "shell.execute_reply": "2021-07-27T05:14:04.733327Z",
     "shell.execute_reply.started": "2021-07-27T05:14:04.729017Z"
    },
    "tags": []
   },
   "outputs": [
    {
     "name": "stdout",
     "output_type": "stream",
     "text": [
      "Avg. Train MAE k-NN (k=6) = 894.8315650684931\n",
      " Avg. Test MAE k-NN (k=6) = 1067.3852052154195\n",
      "---\n",
      "Std. Train MAE k-NN (k=6) = 16.045479486581506\n",
      " Std. Test MAE k-NN (k=6) = 54.069435726754115\n"
     ]
    }
   ],
   "source": [
    "print('Avg. Train MAE k-NN (k=6) =', mae_train_knn.mean())\n",
    "print(' Avg. Test MAE k-NN (k=6) =', mae_test_knn.mean())\n",
    "print('---')\n",
    "print('Std. Train MAE k-NN (k=6) =', mae_train_knn.std())\n",
    "print(' Std. Test MAE k-NN (k=6) =', mae_test_knn.std())"
   ]
  },
  {
   "cell_type": "code",
   "execution_count": 18,
   "metadata": {
    "execution": {
     "iopub.execute_input": "2021-07-27T05:14:04.735691Z",
     "iopub.status.busy": "2021-07-27T05:14:04.735467Z",
     "iopub.status.idle": "2021-07-27T05:14:04.893615Z",
     "shell.execute_reply": "2021-07-27T05:14:04.892812Z",
     "shell.execute_reply.started": "2021-07-27T05:14:04.735666Z"
    }
   },
   "outputs": [
    {
     "data": {
      "text/plain": [
       "<AxesSubplot:>"
      ]
     },
     "execution_count": 18,
     "metadata": {},
     "output_type": "execute_result"
    },
    {
     "data": {
      "image/png": "[encoded data removed]",
      "text/plain": [
       "<Figure size 432x288 with 1 Axes>"
      ]
     },
     "metadata": {
      "needs_background": "light"
     },
     "output_type": "display_data"
    }
   ],
   "source": [
    "sns.boxplot(data=[mae_train_knn, mae_test_knn])"
   ]
  },
  {
   "cell_type": "markdown",
   "metadata": {},
   "source": [
    "---\n",
    "\n",
    "#### Example. Leave-One-Out Cross-Validation"
   ]
  },
  {
   "cell_type": "code",
   "execution_count": 23,
   "metadata": {
    "execution": {
     "iopub.execute_input": "2021-07-27T05:18:04.796218Z",
     "iopub.status.busy": "2021-07-27T05:18:04.795728Z",
     "iopub.status.idle": "2021-07-27T05:20:03.465685Z",
     "shell.execute_reply": "2021-07-27T05:20:03.464888Z",
     "shell.execute_reply.started": "2021-07-27T05:18:04.796167Z"
    },
    "tags": []
   },
   "outputs": [
    {
     "name": "stdout",
     "output_type": "stream",
     "text": [
      "k = 1  Avg. Test MAE Mean Method = 1343.749658002736\n",
      "k = 2  Avg. Test MAE Mean Method = 1193.655950752394\n",
      "k = 3  Avg. Test MAE Mean Method = 1115.8207934336526\n",
      "k = 4  Avg. Test MAE Mean Method = 1073.016415868673\n",
      "k = 5  Avg. Test MAE Mean Method = 1059.2355677154583\n",
      "k = 6  Avg. Test MAE Mean Method = 1050.548335613315\n",
      "k = 7  Avg. Test MAE Mean Method = 1053.313269493844\n",
      "k = 8  Avg. Test MAE Mean Method = 1058.6285909712722\n",
      "k = 9  Avg. Test MAE Mean Method = 1055.6963064295485\n",
      "k = 10  Avg. Test MAE Mean Method = 1053.6061559507523\n",
      "k = 11  Avg. Test MAE Mean Method = 1054.8256435766696\n",
      "k = 12  Avg. Test MAE Mean Method = 1061.9188326493388\n",
      "k = 13  Avg. Test MAE Mean Method = 1065.0811322740187\n",
      "k = 14  Avg. Test MAE Mean Method = 1069.9983388704318\n",
      "k = 15  Avg. Test MAE Mean Method = 1071.406292749658\n",
      "k = 16  Avg. Test MAE Mean Method = 1076.359182626539\n",
      "k = 17  Avg. Test MAE Mean Method = 1083.7050776534966\n",
      "k = 18  Avg. Test MAE Mean Method = 1083.7865177078584\n",
      "k = 19  Avg. Test MAE Mean Method = 1088.7565699474405\n",
      "k = 20  Avg. Test MAE Mean Method = 1095.893296853625\n"
     ]
    }
   ],
   "source": [
    "from sklearn.model_selection import LeaveOneOut\n",
    "\n",
    "k_grid = range(1, 21)\n",
    "loocv = LeaveOneOut()\n",
    "\n",
    "mae_test_knn_all = []\n",
    "for k in k_grid:\n",
    "    \n",
    "    mae_train_knn = []\n",
    "    mae_test_knn = []\n",
    "    \n",
    "    for train_index, test_index in loocv.split(x):\n",
    "\n",
    "        x_train, x_test = x[train_index], x[test_index]\n",
    "        y_train, y_test = y[train_index], y[test_index]\n",
    "    \n",
    "        model = KNeighborsRegressor(n_neighbors=k).fit(x_train, y_train)\n",
    "\n",
    "        fitted = model.predict(x_train)\n",
    "        y_hat = model.predict(x_test)\n",
    "\n",
    "        mae_train_knn.append(mean_absolute_error(y_train, fitted))\n",
    "        mae_test_knn.append(mean_absolute_error(y_test, y_hat))\n",
    "\n",
    "    mae_train_knn = np.array(mae_train_knn)\n",
    "    mae_test_knn = np.array(mae_test_knn)\n",
    "    \n",
    "    print('k =', k, ' Avg. Test MAE Mean Method =', mae_test_knn.mean())\n",
    "    mae_test_knn_all.append(mae_test_knn)"
   ]
  },
  {
   "cell_type": "code",
   "execution_count": 24,
   "metadata": {
    "execution": {
     "iopub.execute_input": "2021-07-27T05:20:03.468105Z",
     "iopub.status.busy": "2021-07-27T05:20:03.467860Z",
     "iopub.status.idle": "2021-07-27T05:20:03.857595Z",
     "shell.execute_reply": "2021-07-27T05:20:03.856888Z",
     "shell.execute_reply.started": "2021-07-27T05:20:03.468046Z"
    },
    "tags": []
   },
   "outputs": [
    {
     "data": {
      "text/plain": [
       "<AxesSubplot:>"
      ]
     },
     "execution_count": 24,
     "metadata": {},
     "output_type": "execute_result"
    },
    {
     "data": {
      "image/png": "[encoded data removed]",
      "text/plain": [
       "<Figure size 432x288 with 1 Axes>"
      ]
     },
     "metadata": {
      "needs_background": "light"
     },
     "output_type": "display_data"
    }
   ],
   "source": [
    "sns.boxplot(data=mae_test_knn_all)"
   ]
  },
  {
   "cell_type": "markdown",
   "metadata": {},
   "source": [
    "---\n",
    "\n",
    "#### Example. k-Fold Cross-Validation"
   ]
  },
  {
   "cell_type": "code",
   "execution_count": 28,
   "metadata": {
    "execution": {
     "iopub.execute_input": "2021-07-27T05:40:19.172036Z",
     "iopub.status.busy": "2021-07-27T05:40:19.171604Z",
     "iopub.status.idle": "2021-07-27T05:40:20.784587Z",
     "shell.execute_reply": "2021-07-27T05:40:20.783734Z",
     "shell.execute_reply.started": "2021-07-27T05:40:19.171987Z"
    },
    "tags": []
   },
   "outputs": [
    {
     "name": "stdout",
     "output_type": "stream",
     "text": [
      "k = 1  Avg. Test MAE Mean Method = 1351.8579229914844\n",
      "k = 2  Avg. Test MAE Mean Method = 1189.7839318770825\n",
      "k = 3  Avg. Test MAE Mean Method = 1102.8785388127853\n",
      "k = 4  Avg. Test MAE Mean Method = 1075.307617549056\n",
      "k = 5  Avg. Test MAE Mean Method = 1069.3184968530175\n",
      "k = 6  Avg. Test MAE Mean Method = 1061.3621837591018\n",
      "k = 7  Avg. Test MAE Mean Method = 1055.5225895171102\n",
      "k = 8  Avg. Test MAE Mean Method = 1061.1319719548314\n",
      "k = 9  Avg. Test MAE Mean Method = 1058.2533958616148\n",
      "k = 10  Avg. Test MAE Mean Method = 1055.8363013698631\n",
      "k = 11  Avg. Test MAE Mean Method = 1057.486991350005\n",
      "k = 12  Avg. Test MAE Mean Method = 1063.9142570652846\n",
      "k = 13  Avg. Test MAE Mean Method = 1065.7708569475692\n",
      "k = 14  Avg. Test MAE Mean Method = 1068.944659385413\n",
      "k = 15  Avg. Test MAE Mean Method = 1072.6998296927065\n",
      "k = 16  Avg. Test MAE Mean Method = 1074.3874062847094\n",
      "k = 17  Avg. Test MAE Mean Method = 1076.9791373565345\n",
      "k = 18  Avg. Test MAE Mean Method = 1084.876371919865\n",
      "k = 19  Avg. Test MAE Mean Method = 1092.5381807907402\n",
      "k = 20  Avg. Test MAE Mean Method = 1094.2713282117734\n"
     ]
    }
   ],
   "source": [
    "from sklearn.model_selection import KFold\n",
    "\n",
    "k_grid = range(1, 21)\n",
    "kf = KFold(n_splits=10, random_state=1, shuffle=True)\n",
    "\n",
    "mae_test_knn_all = []\n",
    "for k in k_grid:\n",
    "    \n",
    "    mae_train_knn = []\n",
    "    mae_test_knn = []\n",
    "    \n",
    "    for train_index, test_index in kf.split(x):\n",
    "\n",
    "        x_train, x_test = x[train_index], x[test_index]\n",
    "        y_train, y_test = y[train_index], y[test_index]\n",
    "    \n",
    "        model = KNeighborsRegressor(n_neighbors=k).fit(x_train, y_train)\n",
    "\n",
    "        fitted = model.predict(x_train)\n",
    "        y_hat = model.predict(x_test)\n",
    "\n",
    "        mae_train_knn.append(mean_absolute_error(y_train, fitted))\n",
    "        mae_test_knn.append(mean_absolute_error(y_test, y_hat))\n",
    "\n",
    "    mae_train_knn = np.array(mae_train_knn)\n",
    "    mae_test_knn = np.array(mae_test_knn)\n",
    "    \n",
    "    print('k =', k, ' Avg. Test MAE Mean Method =', mae_test_knn.mean())\n",
    "    mae_test_knn_all.append(mae_test_knn)"
   ]
  },
  {
   "cell_type": "markdown",
   "metadata": {},
   "source": [
    "---\n",
    "\n",
    "#### Example. Grid Search and Repeated k-Fold with `sklearn`"
   ]
  },
  {
   "cell_type": "code",
   "execution_count": 35,
   "metadata": {
    "execution": {
     "iopub.execute_input": "2021-07-27T05:54:00.467118Z",
     "iopub.status.busy": "2021-07-27T05:54:00.466686Z",
     "iopub.status.idle": "2021-07-27T05:54:55.033927Z",
     "shell.execute_reply": "2021-07-27T05:54:55.033295Z",
     "shell.execute_reply.started": "2021-07-27T05:54:00.467058Z"
    },
    "tags": []
   },
   "outputs": [
    {
     "data": {
      "text/plain": [
       "GridSearchCV(cv=RepeatedKFold(n_repeats=100, n_splits=10, random_state=1),\n",
       "             estimator=KNeighborsRegressor(),\n",
       "             param_grid={'n_neighbors': range(1, 21)},\n",
       "             scoring='neg_mean_absolute_error')"
      ]
     },
     "execution_count": 35,
     "metadata": {},
     "output_type": "execute_result"
    }
   ],
   "source": [
    "from sklearn.model_selection import GridSearchCV\n",
    "from sklearn.model_selection import RepeatedKFold\n",
    "\n",
    "param_grid = {'n_neighbors': range(1, 21)}\n",
    "\n",
    "cv = RepeatedKFold(n_splits=10, n_repeats=100, random_state=1)\n",
    "\n",
    "search = GridSearchCV(estimator=KNeighborsRegressor(), param_grid=param_grid, scoring='neg_mean_absolute_error', cv=cv)\n",
    "search.fit(x, y)"
   ]
  },
  {
   "cell_type": "code",
   "execution_count": 36,
   "metadata": {
    "execution": {
     "iopub.execute_input": "2021-07-27T05:54:55.035595Z",
     "iopub.status.busy": "2021-07-27T05:54:55.035410Z",
     "iopub.status.idle": "2021-07-27T05:54:55.083207Z",
     "shell.execute_reply": "2021-07-27T05:54:55.082700Z",
     "shell.execute_reply.started": "2021-07-27T05:54:55.035569Z"
    },
    "tags": []
   },
   "outputs": [
    {
     "data": {
      "text/html": [
       "<div>\n",
       "<style scoped>\n",
       "    .dataframe tbody tr th:only-of-type {\n",
       "        vertical-align: middle;\n",
       "    }\n",
       "\n",
       "    .dataframe tbody tr th {\n",
       "        vertical-align: top;\n",
       "    }\n",
       "\n",
       "    .dataframe thead th {\n",
       "        text-align: right;\n",
       "    }\n",
       "</style>\n",
       "<table border=\"1\" class=\"dataframe\">\n",
       "  <thead>\n",
       "    <tr style=\"text-align: right;\">\n",
       "      <th></th>\n",
       "      <th>params</th>\n",
       "      <th>rank_test_score</th>\n",
       "      <th>mean_test_score</th>\n",
       "      <th>std_test_score</th>\n",
       "    </tr>\n",
       "    <tr>\n",
       "      <th>n_neighbors</th>\n",
       "      <th></th>\n",
       "      <th></th>\n",
       "      <th></th>\n",
       "      <th></th>\n",
       "    </tr>\n",
       "  </thead>\n",
       "  <tbody>\n",
       "    <tr>\n",
       "      <th>6</th>\n",
       "      <td>{'n_neighbors': 6}</td>\n",
       "      <td>1</td>\n",
       "      <td>-1060.360158</td>\n",
       "      <td>83.178170</td>\n",
       "    </tr>\n",
       "    <tr>\n",
       "      <th>9</th>\n",
       "      <td>{'n_neighbors': 9}</td>\n",
       "      <td>2</td>\n",
       "      <td>-1061.175276</td>\n",
       "      <td>79.410859</td>\n",
       "    </tr>\n",
       "    <tr>\n",
       "      <th>8</th>\n",
       "      <td>{'n_neighbors': 8}</td>\n",
       "      <td>3</td>\n",
       "      <td>-1062.564910</td>\n",
       "      <td>81.366958</td>\n",
       "    </tr>\n",
       "    <tr>\n",
       "      <th>7</th>\n",
       "      <td>{'n_neighbors': 7}</td>\n",
       "      <td>4</td>\n",
       "      <td>-1062.771278</td>\n",
       "      <td>81.633977</td>\n",
       "    </tr>\n",
       "    <tr>\n",
       "      <th>10</th>\n",
       "      <td>{'n_neighbors': 10}</td>\n",
       "      <td>5</td>\n",
       "      <td>-1063.193423</td>\n",
       "      <td>79.025828</td>\n",
       "    </tr>\n",
       "    <tr>\n",
       "      <th>5</th>\n",
       "      <td>{'n_neighbors': 5}</td>\n",
       "      <td>6</td>\n",
       "      <td>-1066.579953</td>\n",
       "      <td>84.365036</td>\n",
       "    </tr>\n",
       "    <tr>\n",
       "      <th>11</th>\n",
       "      <td>{'n_neighbors': 11}</td>\n",
       "      <td>7</td>\n",
       "      <td>-1066.692697</td>\n",
       "      <td>78.183029</td>\n",
       "    </tr>\n",
       "    <tr>\n",
       "      <th>12</th>\n",
       "      <td>{'n_neighbors': 12}</td>\n",
       "      <td>8</td>\n",
       "      <td>-1071.422097</td>\n",
       "      <td>77.608919</td>\n",
       "    </tr>\n",
       "    <tr>\n",
       "      <th>13</th>\n",
       "      <td>{'n_neighbors': 13}</td>\n",
       "      <td>9</td>\n",
       "      <td>-1074.909559</td>\n",
       "      <td>77.183736</td>\n",
       "    </tr>\n",
       "    <tr>\n",
       "      <th>4</th>\n",
       "      <td>{'n_neighbors': 4}</td>\n",
       "      <td>10</td>\n",
       "      <td>-1077.491454</td>\n",
       "      <td>84.004977</td>\n",
       "    </tr>\n",
       "    <tr>\n",
       "      <th>14</th>\n",
       "      <td>{'n_neighbors': 14}</td>\n",
       "      <td>11</td>\n",
       "      <td>-1079.386834</td>\n",
       "      <td>77.278864</td>\n",
       "    </tr>\n",
       "    <tr>\n",
       "      <th>15</th>\n",
       "      <td>{'n_neighbors': 15}</td>\n",
       "      <td>12</td>\n",
       "      <td>-1083.780349</td>\n",
       "      <td>76.854587</td>\n",
       "    </tr>\n",
       "    <tr>\n",
       "      <th>16</th>\n",
       "      <td>{'n_neighbors': 16}</td>\n",
       "      <td>13</td>\n",
       "      <td>-1088.499000</td>\n",
       "      <td>76.856578</td>\n",
       "    </tr>\n",
       "    <tr>\n",
       "      <th>17</th>\n",
       "      <td>{'n_neighbors': 17}</td>\n",
       "      <td>14</td>\n",
       "      <td>-1092.330949</td>\n",
       "      <td>76.781844</td>\n",
       "    </tr>\n",
       "    <tr>\n",
       "      <th>18</th>\n",
       "      <td>{'n_neighbors': 18}</td>\n",
       "      <td>15</td>\n",
       "      <td>-1096.025147</td>\n",
       "      <td>76.672560</td>\n",
       "    </tr>\n",
       "    <tr>\n",
       "      <th>19</th>\n",
       "      <td>{'n_neighbors': 19}</td>\n",
       "      <td>16</td>\n",
       "      <td>-1099.794147</td>\n",
       "      <td>76.465350</td>\n",
       "    </tr>\n",
       "    <tr>\n",
       "      <th>20</th>\n",
       "      <td>{'n_neighbors': 20}</td>\n",
       "      <td>17</td>\n",
       "      <td>-1101.613896</td>\n",
       "      <td>76.196896</td>\n",
       "    </tr>\n",
       "    <tr>\n",
       "      <th>3</th>\n",
       "      <td>{'n_neighbors': 3}</td>\n",
       "      <td>18</td>\n",
       "      <td>-1114.135731</td>\n",
       "      <td>85.822928</td>\n",
       "    </tr>\n",
       "    <tr>\n",
       "      <th>2</th>\n",
       "      <td>{'n_neighbors': 2}</td>\n",
       "      <td>19</td>\n",
       "      <td>-1191.821692</td>\n",
       "      <td>94.368282</td>\n",
       "    </tr>\n",
       "    <tr>\n",
       "      <th>1</th>\n",
       "      <td>{'n_neighbors': 1}</td>\n",
       "      <td>20</td>\n",
       "      <td>-1345.847363</td>\n",
       "      <td>115.672457</td>\n",
       "    </tr>\n",
       "  </tbody>\n",
       "</table>\n",
       "</div>"
      ],
      "text/plain": [
       "                          params  rank_test_score  mean_test_score  \\\n",
       "n_neighbors                                                          \n",
       "6             {'n_neighbors': 6}                1     -1060.360158   \n",
       "9             {'n_neighbors': 9}                2     -1061.175276   \n",
       "8             {'n_neighbors': 8}                3     -1062.564910   \n",
       "7             {'n_neighbors': 7}                4     -1062.771278   \n",
       "10           {'n_neighbors': 10}                5     -1063.193423   \n",
       "5             {'n_neighbors': 5}                6     -1066.579953   \n",
       "11           {'n_neighbors': 11}                7     -1066.692697   \n",
       "12           {'n_neighbors': 12}                8     -1071.422097   \n",
       "13           {'n_neighbors': 13}                9     -1074.909559   \n",
       "4             {'n_neighbors': 4}               10     -1077.491454   \n",
       "14           {'n_neighbors': 14}               11     -1079.386834   \n",
       "15           {'n_neighbors': 15}               12     -1083.780349   \n",
       "16           {'n_neighbors': 16}               13     -1088.499000   \n",
       "17           {'n_neighbors': 17}               14     -1092.330949   \n",
       "18           {'n_neighbors': 18}               15     -1096.025147   \n",
       "19           {'n_neighbors': 19}               16     -1099.794147   \n",
       "20           {'n_neighbors': 20}               17     -1101.613896   \n",
       "3             {'n_neighbors': 3}               18     -1114.135731   \n",
       "2             {'n_neighbors': 2}               19     -1191.821692   \n",
       "1             {'n_neighbors': 1}               20     -1345.847363   \n",
       "\n",
       "             std_test_score  \n",
       "n_neighbors                  \n",
       "6                 83.178170  \n",
       "9                 79.410859  \n",
       "8                 81.366958  \n",
       "7                 81.633977  \n",
       "10                79.025828  \n",
       "5                 84.365036  \n",
       "11                78.183029  \n",
       "12                77.608919  \n",
       "13                77.183736  \n",
       "4                 84.004977  \n",
       "14                77.278864  \n",
       "15                76.854587  \n",
       "16                76.856578  \n",
       "17                76.781844  \n",
       "18                76.672560  \n",
       "19                76.465350  \n",
       "20                76.196896  \n",
       "3                 85.822928  \n",
       "2                 94.368282  \n",
       "1                115.672457  "
      ]
     },
     "execution_count": 36,
     "metadata": {},
     "output_type": "execute_result"
    }
   ],
   "source": [
    "results_df = pd.DataFrame(search.cv_results_)\n",
    "results_df = results_df.sort_values(by=['rank_test_score'])\n",
    "results_df = (\n",
    "    results_df\n",
    "    .set_index(results_df[\"params\"].apply(\n",
    "        lambda x: \"_\".join(str(val) for val in x.values()))\n",
    "    )\n",
    "    .rename_axis('n_neighbors')\n",
    ")\n",
    "results_df[\n",
    "    ['params', 'rank_test_score', 'mean_test_score', 'std_test_score']\n",
    "]"
   ]
  },
  {
   "cell_type": "markdown",
   "metadata": {},
   "source": [
    "Is the 1st rank model significantly better than the second rank? See [`here`](https://scikit-learn.org/stable/auto_examples/model_selection/plot_grid_search_stats.html#) for an example on statistical tests on ranked scores!"
   ]
  },
  {
   "cell_type": "code",
   "execution_count": null,
   "metadata": {},
   "outputs": [],
   "source": []
  }
 ],
 "metadata": {
  "kernelspec": {
   "display_name": "Python 3 (ipykernel)",
   "language": "python",
   "name": "python3"
  },
  "language_info": {
   "codemirror_mode": {
    "name": "ipython",
    "version": 3
   },
   "file_extension": ".py",
   "mimetype": "text/x-python",
   "name": "python",
   "nbconvert_exporter": "python",
   "pygments_lexer": "ipython3",
   "version": "3.8.12"
  },
  "latex_envs": {
   "LaTeX_envs_menu_present": true,
   "autoclose": false,
   "autocomplete": true,
   "bibliofile": "biblio.bib",
   "cite_by": "apalike",
   "current_citInitial": 1,
   "eqLabelWithNumbers": true,
   "eqNumInitial": 1,
   "hotkeys": {
    "equation": "Ctrl-E",
    "itemize": "Ctrl-I"
   },
   "labels_anchors": false,
   "latex_user_defs": false,
   "report_style_numbering": false,
   "user_envs_cfg": false
  },
  "toc": {
   "base_numbering": 1,
   "nav_menu": {},
   "number_sections": true,
   "sideBar": true,
   "skip_h1_title": false,
   "title_cell": "Table of Contents",
   "title_sidebar": "Contents",
   "toc_cell": false,
   "toc_position": {},
   "toc_section_display": true,
   "toc_window_display": false
  }
 },
 "nbformat": 4,
 "nbformat_minor": 4
}
