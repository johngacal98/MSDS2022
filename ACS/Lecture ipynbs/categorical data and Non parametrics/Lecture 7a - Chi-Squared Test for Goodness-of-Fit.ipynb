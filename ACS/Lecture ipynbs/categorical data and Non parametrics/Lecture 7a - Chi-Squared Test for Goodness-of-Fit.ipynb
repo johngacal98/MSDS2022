{
 "cells": [
  {
   "cell_type": "markdown",
   "metadata": {},
   "source": [
    "# Lecture 7a - Chi-Squared Test for Goodness-of-Fit\n",
    "\n",
    "From DeGroot Chapter 10:\n",
    "\n",
    "`In some problems, we have one specific distribution in mind for the data we will observe. If that one distribution is not appropriate, we do not necessarily have a parametric family of alternative distributions in mind. In these cases, and others, we can still test the null hypothesis that the data come from the one specific distribution against the alternative hypothesis that the data do not come from that distribution.`\n",
    "\n",
    "The chi-squared test is typically used as a goodness-of-fit test. It is a formal method to determine how well a proposed model really fits the data we observe."
   ]
  },
  {
   "cell_type": "markdown",
   "metadata": {},
   "source": [
    "## Categorical Data\n",
    "\n",
    "Suppose that a large population consists of items of $k$ different types.\n",
    "\n",
    "Let $p_i$ denote the probability that an item selected at random will be of type $i$ where $i = 1, \\ldots, k$.\n",
    "\n",
    "Let $p_1^0, \\ldots, p_k^0$ be specific numbers that represents our hypothesis regarding the probabilities. We wish to test the following:\n",
    "\n",
    "\\begin{align*}\n",
    "    H_0 &: p_i = p_i^0 \\ \\ \\ \\text{for} \\ i = 1, \\ldots, k\\\\ \n",
    "    H_1 &: p_i \\neq p_i^0 \\ \\ \\ \\text{for at least one} \\ i\n",
    "\\end{align*}\n",
    "\n",
    "Assume that a random sample of size $n$ is to be taken from the population.\n",
    "\n",
    "Furthermore, let $N_i$ denote the number of observations in the random sample that are of type $i$. Thus,\n",
    "\n",
    "\\begin{align*}\n",
    "    \\sum_{i=1}^{k} N_i &= n\n",
    "\\end{align*}\n"
   ]
  },
  {
   "cell_type": "markdown",
   "metadata": {},
   "source": [
    "## The Chi-Squared Statistic\n",
    "\n",
    "The following statistic\n",
    "\n",
    "\\begin{align*}\n",
    "    Q &= \\sum_{i=1}^{k} \\frac{(N_i - n p_i^0)^2}{n p_i^0}\\\\\n",
    "    &= \\sum_{i=1}^{k} \\frac{(\\text{observed}  - \\text{expected})^2}{\\text{expected}}\n",
    "\\end{align*}\n",
    "\n",
    "has the property that if $H_0$ is true and the sample size $n \\rightarrow \\infty$, then $Q$ converges in distribution to the $\\chi^2$ distribution with $k-1$ degrees of freedom.\n",
    "\n",
    "This was proved by Karl Pearson in 1900."
   ]
  },
  {
   "cell_type": "markdown",
   "metadata": {},
   "source": [
    "## Example - Poll Data\n",
    "\n",
    "The Bureau of Business and Economic Research at the University of Montana conducted a poll of opinions of Montana residents in May 1992.\n",
    "\n",
    "Among other things, respondents were asked whether their personal financial status was worse, the same, or better than one year ago.\n",
    "\n",
    "Here are some results of that poll:\n",
    "\n",
    "| Worse |  Same | Better | Total |\n",
    "| --- | --- | --- | ---: |\n",
    "| 58 |  64 | 67 | 189 |\n",
    "\n",
    "Suppose we were interested in whether the respondents' answers are uniformly distributed over the three possible responses.\n",
    "\n",
    "We can set this up as a hypothesis testing problem. Specifically, we can use the Chi-Squared Test with the following hypotheses:\n",
    "\n",
    "\\begin{align*}\n",
    "    H_0 &: p_i = \\frac{1}{3} \\ \\ \\ \\text{for} \\ i = 1, 2, 3\\\\ \n",
    "    H_1 &: p_i \\neq \\frac{1}{3} \\ \\ \\ \\text{for at least one} \\ i\n",
    "\\end{align*}\n",
    "\n",
    "Calculating $Q$ yields,\n",
    "\n",
    "\\begin{align*}\n",
    "    Q &= \\frac{(58 - 189/3)^2}{189/3} + \\frac{(64 - 189/3)^2}{189/3} + \\frac{(67 - 189/3)^2}{189/3}\\\\\n",
    "    &= \\frac{(58 - 63)^2}{63} + \\frac{(64 - 63)^2}{63} + \\frac{(67 - 63)^2}{63}\\\\\n",
    "    &= \\frac{2}{3} \\approx 0.6667\n",
    "\\end{align*}\n",
    "\n",
    "$Q$ here has 2 degrees of freedom since $k = 3$. \n",
    "\n",
    "We can then calculate the p-value using a $\\chi^2$ table or using code:"
   ]
  },
  {
   "cell_type": "code",
   "execution_count": 8,
   "metadata": {
    "ExecuteTime": {
     "end_time": "2021-08-11T04:34:32.222348Z",
     "start_time": "2021-08-11T04:34:32.214654Z"
    }
   },
   "outputs": [
    {
     "name": "stdout",
     "output_type": "stream",
     "text": [
      "Chi-Squared Statistic: 0.6666666666666666\n",
      "p-value: 0.7165313105737892\n"
     ]
    }
   ],
   "source": [
    "import numpy as np\n",
    "import matplotlib.pyplot as plt\n",
    "from scipy.stats import chi2\n",
    "\n",
    "plt.rcParams['figure.figsize'] = [7.5, 7.5]\n",
    "\n",
    "obs = [58, 64, 67]\n",
    "total = np.sum(obs)\n",
    "h0 = [1/3, 1/3, 1/3] # probability distribution over classes\n",
    "\n",
    "k = 3\n",
    "Q = 0\n",
    "for i in range(k):\n",
    "    Q = Q + ((obs[i] - total*h0[i])**2)/(total*h0[i])\n",
    "\n",
    "p_value = 1 - chi2.cdf(Q, k - 1)\n",
    "print('Chi-Squared Statistic:', Q)\n",
    "print('p-value:', p_value)"
   ]
  },
  {
   "cell_type": "code",
   "execution_count": 14,
   "metadata": {
    "ExecuteTime": {
     "end_time": "2021-08-11T04:37:27.169593Z",
     "start_time": "2021-08-11T04:37:27.004996Z"
    }
   },
   "outputs": [
    {
     "data": {
      "image/png": "[encoded data removed]",
      "text/plain": [
       "<Figure size 540x540 with 1 Axes>"
      ]
     },
     "metadata": {
      "needs_background": "light"
     },
     "output_type": "display_data"
    }
   ],
   "source": [
    "x = np.linspace(chi2.ppf(0.01, k - 1), chi2.ppf(0.99, k - 1), 100)\n",
    "x_shade = np.linspace(Q, chi2.ppf(0.99, k - 1), 100)\n",
    "\n",
    "plt.plot(x, chi2.pdf(x, k - 1), color='tab:blue')\n",
    "plt.axvline(Q, color='tab:blue', linestyle='--')\n",
    "plt.fill_between(x_shade, chi2.pdf(x_shade, k - 1), color='tab:blue', alpha=0.5)\n",
    "plt.show()"
   ]
  },
  {
   "cell_type": "markdown",
   "metadata": {},
   "source": [
    "Therefore, we would only reject the null at $\\alpha$ levels greater than $0.717$.\n",
    "\n",
    "---\n",
    "\n",
    "Alternatively, suppose we were testing at $\\alpha = 0.05$. We could calculate the chi-squared <b><i>critical value</b></i>:"
   ]
  },
  {
   "cell_type": "code",
   "execution_count": 15,
   "metadata": {},
   "outputs": [
    {
     "name": "stdout",
     "output_type": "stream",
     "text": [
      "Chi-Squared Critical Value: 5.991464547107979\n"
     ]
    }
   ],
   "source": [
    "alpha = 0.05\n",
    "Q_crit = chi2.ppf(1 - alpha, k - 1)\n",
    "\n",
    "print('Chi-Squared Critical Value:', Q_crit)"
   ]
  },
  {
   "cell_type": "markdown",
   "metadata": {},
   "source": [
    "Since our statistic is much much lower than the critical value, i.e. $0.666 < 5.991$, we cannot reject the null hypothesis.\n",
    "\n",
    "Therefore, we can conclude that the proposed model of \"uniformly distributed over the three possible responses\" is a good fit."
   ]
  },
  {
   "cell_type": "markdown",
   "metadata": {},
   "source": [
    "---\n",
    "\n",
    "<i>Note: Usually we want to reject the null hypothesis. In this case however, we want to \"accept\" the null.</i>\n",
    "\n",
    "---\n"
   ]
  },
  {
   "cell_type": "markdown",
   "metadata": {},
   "source": [
    "## Score-Based Approach for Model Selection\n",
    "\n",
    "For the example above, we could do multiple chi-squared tests on different proposed models. \n",
    "\n",
    "We could then choose the model that gives us the lowest chi-squared statistic $Q$ (or the highest p-value).\n",
    "\n",
    "We'll return to this idea of a score-based model selection when we discuss the Kolmogorov–Smirnov test."
   ]
  },
  {
   "cell_type": "markdown",
   "metadata": {},
   "source": [
    "---\n",
    "\n",
    "<i>Note: Other score-based methods include choosing models with the highest likelihood, e.g. Likelihood Ratio Test (LRT), Akaike Information Criterion (AIC), Bayesian Information Criterion (BIC).</i>\n",
    "\n",
    "---\n"
   ]
  },
  {
   "cell_type": "markdown",
   "metadata": {},
   "source": [
    "## Example - Anomaly Detection\n",
    "\n",
    "In the game rock-paper-scissors, Kenny expects to win, tie, and lose with equal frequency.\n",
    "\n",
    "He plays the game often, but suspects that his opponent is cheating somehow.\n",
    "\n",
    "He decides to use a statistical test to detect if there is cheating going on and collects the following data:\n",
    "\n",
    "| Win |  Loss | Tie | Total |\n",
    "| --- | --- | --- | ---: |\n",
    "| 4 |  13 | 7 | 24 |\n",
    "\n",
    "Following the example above, the hypotheses are:\n",
    "\n",
    "\\begin{align*}\n",
    "    H_0 &: p_i = \\frac{1}{3} \\ \\ \\ \\text{for} \\ i = 1, 2, 3\\\\ \n",
    "    H_1 &: p_i \\neq \\frac{1}{3} \\ \\ \\ \\text{for at least one} \\ i\n",
    "\\end{align*}\n",
    "\n",
    "Calculating $Q$ yields,\n",
    "\n",
    "\\begin{align*}\n",
    "    Q &= \\frac{(4 - 24/3)^2}{24/3} + \\frac{(13 - 24/3)^2}{24/3} + \\frac{(7 - 24/3)^2}{24/3}\\\\\n",
    "    &= \\frac{(4 - 8)^2}{8} + \\frac{(13 - 8)^2}{8} + \\frac{(7 - 8)^2}{8}\\\\\n",
    "    &= \\frac{21}{4} = 5.25\n",
    "\\end{align*}\n",
    "\n",
    "$Q$ here has 2 degrees of freedom since $k = 3$. \n",
    "\n",
    "From the previous example, we know that the chi-squared critical value is $5.991$ for $\\alpha = 0.05$.\n",
    "\n",
    "Thus, since $5.25 < 5.991$, we cannot reject the null hypothesis at this significance level.\n",
    "\n",
    "In other words, we cannot say definitively that cheating is going on."
   ]
  },
  {
   "cell_type": "markdown",
   "metadata": {},
   "source": [
    "## Exercise - Blood Types\n",
    "\n",
    "Suppose we collect data on the actual counts of people with the four basic blood types:\n",
    "\n",
    "| A |  B | AB | O | Total |\n",
    "| --- | --- | --- | --- | ---: |\n",
    "| 2162 | 738 | 228 | 2876 | 6004\n",
    "\n",
    "According to the DOH, the theoretical probabilities of blood types for Filipinos is given by:\n",
    "\n",
    "| A |  B | AB | O |\n",
    "| --- | --- | --- | --- |\n",
    "| 1/3 | 1/8 | 1/24 | 1/2 |\n",
    "\n",
    "Test the hypothesis that the theoretical probabilities are the probabilities with which the data we collected were sampled."
   ]
  },
  {
   "cell_type": "code",
   "execution_count": null,
   "metadata": {},
   "outputs": [],
   "source": []
  }
 ],
 "metadata": {
  "kernelspec": {
   "display_name": "Python 3",
   "language": "python",
   "name": "python3"
  },
  "language_info": {
   "codemirror_mode": {
    "name": "ipython",
    "version": 3
   },
   "file_extension": ".py",
   "mimetype": "text/x-python",
   "name": "python",
   "nbconvert_exporter": "python",
   "pygments_lexer": "ipython3",
   "version": "3.8.8"
  },
  "latex_envs": {
   "LaTeX_envs_menu_present": true,
   "autoclose": false,
   "autocomplete": true,
   "bibliofile": "biblio.bib",
   "cite_by": "apalike",
   "current_citInitial": 1,
   "eqLabelWithNumbers": true,
   "eqNumInitial": 1,
   "hotkeys": {
    "equation": "Ctrl-E",
    "itemize": "Ctrl-I"
   },
   "labels_anchors": false,
   "latex_user_defs": false,
   "report_style_numbering": false,
   "user_envs_cfg": false
  },
  "toc": {
   "base_numbering": 1,
   "nav_menu": {},
   "number_sections": true,
   "sideBar": true,
   "skip_h1_title": false,
   "title_cell": "Table of Contents",
   "title_sidebar": "Contents",
   "toc_cell": false,
   "toc_position": {},
   "toc_section_display": true,
   "toc_window_display": false
  }
 },
 "nbformat": 4,
 "nbformat_minor": 4
}
