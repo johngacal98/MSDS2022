{
 "cells": [
  {
   "cell_type": "markdown",
   "metadata": {},
   "source": [
    "# Lecture 7b - Chi-Squared Test for Independence\n",
    "\n",
    "The chi-squared test can also be used to test for independence."
   ]
  },
  {
   "cell_type": "markdown",
   "metadata": {},
   "source": [
    "## Example - Do the herbs growing in my back yard prevent COVID?\n",
    "\n",
    "Suppose we wished to test whether a couple of common \"herbs\" help prevent COVID.\n",
    "\n",
    "We take a group of people and randomly assign them to one of three groups: Herb 1, Herb 2, and Placebo.\n",
    "\n",
    "After the experiment, we collect the data and place them in a <b><i>contingency table</b></i>:\n",
    "\n",
    "| &nbsp; |  Herb 1 | Herb 2 | Placebo | Row Total |\n",
    "| :- | :-: | - | - | -: |\n",
    "| Sick |  20 | 30 | 30 | <b>80</b> |\n",
    "| Not Sick |  100 | 110 | 90 | <b>300</b> |\n",
    "| <b>Column Total</b> | <b>120</b> | <b>140</b> | <b>120</b> | <b>380</b> |\n",
    "\n",
    "Note that there are six groups here, so $k = 6$.\n",
    "\n",
    "We can set this up as a hypothesis testing problem:\n",
    "\n",
    "\\begin{align*}\n",
    "    H_0 &: \\text{Herbs do nothing} \\\\ \n",
    "    H_1 &: \\text{Herbs do something (could be good or bad)} \n",
    "\\end{align*}\n",
    "\n",
    "Let's convert these hypotheses to something more formal so that we can use the chi-squared test.\n",
    "\n",
    "\"Herbs do nothing\" means that it doesn't matter what medicine group you're in, the probability that you are sick (or not sick) is independent of your medicine group. \n",
    "\n",
    "In other words, the probability is completely captured by the row totals:\n",
    "\n",
    "\\begin{align*}\n",
    "    p_{\\text{sick}} &= 80/380 \\approx 0.21\\\\\n",
    "    p_{\\text{not sick}} &= 300/380 \\approx 0.79\n",
    "\\end{align*}\n",
    "\n",
    "In other words,\n",
    "\n",
    "\\begin{align*}\n",
    "    H_0 &: p_{\\text{sick}} = 0.21 \\ \\ \\text{and} \\ \\ p_{\\text{not sick}} = 0.79 \\\\ \n",
    "    H_1 &: \\text{Herbs do something}\n",
    "\\end{align*}\n",
    "\n",
    "Thus, if $H_0$ were true, the following table summarizes what we <b><u>expect</b></u> to see:\n",
    "\n",
    "| &nbsp; |  Herb 1 | Herb 2 | Placebo | Row Total |\n",
    "| :- | :-: | - | - | -: |\n",
    "| Expected Sick |  25.3 | 29.4 | 25.3 | <b>80</b> |\n",
    "| Expected Not Sick |  94.7 | 110.6 | 94.7 | <b>300</b> |\n",
    "| <b>Column Total</b> | <b>120</b> | <b>140</b> | <b>120</b> | <b>380</b> |\n",
    "\n",
    "Calculating $Q$ yields,\n",
    "\n",
    "\\begin{align*}\n",
    "    Q &= \\sum_{i=1}^{k} \\frac{(\\text{observed}  - \\text{expected})^2}{\\text{expected}}\\\\\n",
    "    &= \\frac{(20 - 25.3)^2}{25.3} + \\frac{(30 - 29.4)^2}{29.4} + \\frac{(30 - 25.3)^2}{25.3} + \\frac{(100 - 94.7)^2}{94.7} + \\frac{(110 - 110.6)^2}{110.6} + \\frac{(90 - 94.7)^2}{94.7}\\\\\n",
    "    &\\approx 2.53\n",
    "\\end{align*}\n",
    "\n",
    "For contingency tables like this, the degrees of freedom of $Q$ is given by $\\text{df} = (r - 1)(c - 1) = 2$.\n",
    "\n",
    "We can then calculate the p-value using a $\\chi^2$ table or using code:"
   ]
  },
  {
   "cell_type": "code",
   "execution_count": 1,
   "metadata": {},
   "outputs": [
    {
     "name": "stdout",
     "output_type": "stream",
     "text": [
      "p-value: 0.28223929614052334\n"
     ]
    }
   ],
   "source": [
    "import numpy as np\n",
    "from scipy.stats import chi2\n",
    "\n",
    "p_value = 1 - chi2.cdf(2.53, 2)\n",
    "print('p-value:', p_value)"
   ]
  },
  {
   "cell_type": "markdown",
   "metadata": {},
   "source": [
    "Therefore, we would only reject the null at $\\alpha$ levels greater than $0.282$.\n",
    "\n",
    "For example, suppose we were testing at $\\alpha = 0.10$. We could calculate the chi-squared <b><i>critical value</b></i>:"
   ]
  },
  {
   "cell_type": "code",
   "execution_count": 3,
   "metadata": {},
   "outputs": [
    {
     "name": "stdout",
     "output_type": "stream",
     "text": [
      "Chi-Squared Critical Value: 4.605170185988092\n"
     ]
    }
   ],
   "source": [
    "alpha = 0.1\n",
    "Q_crit = chi2.ppf(1 - alpha, 2)\n",
    "\n",
    "print('Chi-Squared Critical Value:', Q_crit)"
   ]
  },
  {
   "cell_type": "markdown",
   "metadata": {},
   "source": [
    "Since our statistic is much lower than the critical value, i.e. $2.53 < 4.61$, we cannot reject the null hypothesis.\n",
    "\n",
    "Therefore, we do not have enough evidence to suggest that the herbs do something (beneficial or detrimental) for COVID."
   ]
  },
  {
   "cell_type": "markdown",
   "metadata": {},
   "source": [
    "## Example - Hand and Foot Length\n",
    "\n",
    "Suppose we suspect that a person's foot length is related to their hand length.\n",
    "\n",
    "We sample a bunch of people and collect the following data:\n",
    "\n",
    "| &nbsp; |  Right foot longer | Left foot longer | Both feet same | Row Total |\n",
    "| :- | :-: | - | - | -: |\n",
    "| Right hand longer |  11 | 3 | 8 | <b>22</b> |\n",
    "| Left hand longer |  2 | 9 | 14 | <b>25</b> |\n",
    "| Both hands same |  12 | 13 | 28 | <b>53</b> |\n",
    "| <b>Column Total</b> | <b>25</b> | <b>25</b> | <b>50</b> | <b>100</b> |\n",
    "\n",
    "Note that there are nine groups here, so $k = 9$.\n",
    "\n",
    "We can set this up as a hypothesis testing problem:\n",
    "\n",
    "\\begin{align*}\n",
    "    H_0 &: \\text{Foot and hand length are independent} \\\\ \n",
    "    H_1 &: \\text{Foot and hand length are NOT independent} \n",
    "\\end{align*}\n",
    "\n",
    "Note that if foot and hand length are independent, knowledge of one random variable does not affect the calculations of the probabilities of the other random variable.\n",
    "\n",
    "Thus, the probabilities of foot or hand length are summarized by the marginals (i.e. the row and column totals):\n",
    "\n",
    "\\begin{align*}\n",
    "    p_{\\text{right hand longer}} &= 0.22\\\\\n",
    "    p_{\\text{left hand longer}} &= 0.25\\\\\n",
    "    p_{\\text{both hands same}} &= 0.53\n",
    "\\end{align*}\n",
    "\n",
    "and\n",
    "\n",
    "\\begin{align*}\n",
    "    p_{\\text{right foot longer}} &= 0.25\\\\\n",
    "    p_{\\text{left foot longer}} &= 0.25\\\\\n",
    "    p_{\\text{both feet same}} &= 0.50\n",
    "\\end{align*}\n",
    "\n",
    "Since they are independent, the probability that a person belongs to one of the nine groups is just given by the product of the marginal probabilities. We can then construct the table of <b><u>expected</b></u> observations:\n",
    "\n",
    "| &nbsp; |  Right foot longer | Left foot longer | Both feet same | Row Total |\n",
    "| :- | :-: | - | - | -: |\n",
    "| Right hand longer |  5.5 | 5.5 | 11 | <b>22</b> |\n",
    "| Left hand longer |  6.25 | 6.25 | 12.5 | <b>25</b> |\n",
    "| Both hands same |  13.25 | 13.25 | 26.5 | <b>53</b> |\n",
    "| <b>Column Total</b> | <b>25</b> | <b>25</b> | <b>50</b> | <b>100</b> |\n",
    "\n",
    "Calculating $Q$ yields,\n",
    "\n",
    "\\begin{align*}\n",
    "    Q &= \\sum_{i=1}^{k} \\frac{(\\text{observed}  - \\text{expected})^2}{\\text{expected}}\\\\\n",
    "    &= \\frac{(11 - 5.5)^2}{5.5} + \\frac{(3 - 5.5)^2}{5.5} + \\frac{(8 - 11)^2}{11} + \\frac{(2 - 6.25)^2}{6.25} + \\frac{(9 - 6.25)^2}{6.25} + \\frac{(14 - 12.5)^2}{12.5} + \\frac{(12 - 13.25)^2}{13.25} + \\frac{(13 - 13.25)^2}{13.25} + \\frac{(28 - 26.5)^2}{26.5}\\\\\n",
    "    &\\approx 11.942\n",
    "\\end{align*}\n",
    "\n",
    "Again, the degrees of freedom of $Q$ is given by $\\text{df} = (r - 1)(c - 1) = 4$.\n",
    "\n",
    "We can then calculate the p-value using a $\\chi^2$ table or using code:"
   ]
  },
  {
   "cell_type": "code",
   "execution_count": 3,
   "metadata": {},
   "outputs": [
    {
     "name": "stdout",
     "output_type": "stream",
     "text": [
      "p-value: 0.017787820214710037\n"
     ]
    }
   ],
   "source": [
    "p_value = 1 - chi2.cdf(11.942, 4)\n",
    "print('p-value:', p_value)"
   ]
  },
  {
   "cell_type": "markdown",
   "metadata": {},
   "source": [
    "Thus, for a significance level of $\\alpha = 0.05$, we reject the null hypothesis that foot and hand length are independent.\n",
    "\n",
    "In other words, they are (probably) not independent."
   ]
  },
  {
   "cell_type": "code",
   "execution_count": null,
   "metadata": {},
   "outputs": [],
   "source": []
  }
 ],
 "metadata": {
  "kernelspec": {
   "display_name": "Python 3",
   "language": "python",
   "name": "python3"
  },
  "language_info": {
   "codemirror_mode": {
    "name": "ipython",
    "version": 3
   },
   "file_extension": ".py",
   "mimetype": "text/x-python",
   "name": "python",
   "nbconvert_exporter": "python",
   "pygments_lexer": "ipython3",
   "version": "3.8.8"
  },
  "latex_envs": {
   "LaTeX_envs_menu_present": true,
   "autoclose": false,
   "autocomplete": true,
   "bibliofile": "biblio.bib",
   "cite_by": "apalike",
   "current_citInitial": 1,
   "eqLabelWithNumbers": true,
   "eqNumInitial": 1,
   "hotkeys": {
    "equation": "Ctrl-E",
    "itemize": "Ctrl-I"
   },
   "labels_anchors": false,
   "latex_user_defs": false,
   "report_style_numbering": false,
   "user_envs_cfg": false
  },
  "toc": {
   "base_numbering": 1,
   "nav_menu": {},
   "number_sections": true,
   "sideBar": true,
   "skip_h1_title": false,
   "title_cell": "Table of Contents",
   "title_sidebar": "Contents",
   "toc_cell": false,
   "toc_position": {},
   "toc_section_display": true,
   "toc_window_display": false
  }
 },
 "nbformat": 4,
 "nbformat_minor": 4
}
