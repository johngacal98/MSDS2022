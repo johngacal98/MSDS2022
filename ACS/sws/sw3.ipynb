{
 "cells": [
  {
   "cell_type": "markdown",
   "id": "7aa153e1",
   "metadata": {
    "deletable": false,
    "editable": false,
    "nbgrader": {
     "cell_type": "markdown",
     "checksum": "e95d1ea1e7702d46122915a80a76f534",
     "grade": false,
     "grade_id": "cell-e37e61065ac146ce",
     "locked": true,
     "schema_version": 3,
     "solution": false,
     "task": false
    }
   },
   "source": [
    "# Applied Computational Statistics (ACS)\n",
    "\n",
    "## SW3\n",
    "\n",
    "Submit your answers <b>individually</b>.\n",
    "\n",
    "Make sure to follow all the prescribed naming conventions set in the code below."
   ]
  },
  {
   "cell_type": "code",
   "execution_count": 85,
   "id": "c45a9a3a",
   "metadata": {
    "ExecuteTime": {
     "end_time": "2021-08-04T16:06:37.392809Z",
     "start_time": "2021-08-04T16:06:37.383869Z"
    },
    "deletable": false,
    "editable": false,
    "nbgrader": {
     "cell_type": "code",
     "checksum": "7d037c7548ab584b72e1bc6d97625590",
     "grade": false,
     "grade_id": "cell-9f02ae4cb4c885eb",
     "locked": true,
     "schema_version": 3,
     "solution": false,
     "task": false
    }
   },
   "outputs": [],
   "source": [
    "import numpy as np\n",
    "import pandas as pd\n",
    "import matplotlib.pyplot as plt\n",
    "import seaborn as sns\n",
    "import torch\n",
    "\n",
    "from sklearn.neighbors import KNeighborsRegressor\n",
    "from sklearn.model_selection import GridSearchCV\n",
    "from sklearn.model_selection import KFold\n",
    "from sklearn.metrics import mean_squared_error\n",
    "\n",
    "atol = 1e-06\n",
    "rtol = 1e-05"
   ]
  },
  {
   "cell_type": "markdown",
   "id": "8eddc15b",
   "metadata": {
    "deletable": false,
    "editable": false,
    "nbgrader": {
     "cell_type": "markdown",
     "checksum": "5149d6548a82e36586ed98e6ced743df",
     "grade": false,
     "grade_id": "cell-db9228721c35455b",
     "locked": true,
     "schema_version": 3,
     "solution": false,
     "task": false
    }
   },
   "source": [
    "---\n",
    "\n",
    "### MLE Exercise"
   ]
  },
  {
   "cell_type": "markdown",
   "id": "b5df3af0",
   "metadata": {
    "deletable": false,
    "editable": false,
    "nbgrader": {
     "cell_type": "markdown",
     "checksum": "fd76ea17523187ad02e5018740c36a01",
     "grade": false,
     "grade_id": "cell-9b2b6d13c0d89e23",
     "locked": true,
     "schema_version": 3,
     "solution": false,
     "task": false
    }
   },
   "source": [
    "#### Q1.\n",
    "\n",
    "Implement a training loop in `PyTorch` that calculates the maximum likelihood estimates of the parameters of a Normal distribution ($\\mu$ and $\\sigma$) using the data in `mle_data.csv`.\n",
    "\n",
    "For the assert:\n",
    "\n",
    "1. $x$ should be a `torch.tensor` containing the data.\n",
    "\n",
    "2. The final estimates for $\\mu$ and $\\sigma$ should be a scalar."
   ]
  },
  {
   "cell_type": "code",
   "execution_count": 86,
   "id": "09f2cbfa",
   "metadata": {
    "ExecuteTime": {
     "end_time": "2021-08-04T16:06:37.417482Z",
     "start_time": "2021-08-04T16:06:37.395936Z"
    }
   },
   "outputs": [
    {
     "data": {
      "text/html": [
       "<div>\n",
       "<style scoped>\n",
       "    .dataframe tbody tr th:only-of-type {\n",
       "        vertical-align: middle;\n",
       "    }\n",
       "\n",
       "    .dataframe tbody tr th {\n",
       "        vertical-align: top;\n",
       "    }\n",
       "\n",
       "    .dataframe thead th {\n",
       "        text-align: right;\n",
       "    }\n",
       "</style>\n",
       "<table border=\"1\" class=\"dataframe\">\n",
       "  <thead>\n",
       "    <tr style=\"text-align: right;\">\n",
       "      <th></th>\n",
       "      <th>x</th>\n",
       "    </tr>\n",
       "  </thead>\n",
       "  <tbody>\n",
       "    <tr>\n",
       "      <th>0</th>\n",
       "      <td>181.217268</td>\n",
       "    </tr>\n",
       "    <tr>\n",
       "      <th>1</th>\n",
       "      <td>69.412179</td>\n",
       "    </tr>\n",
       "    <tr>\n",
       "      <th>2</th>\n",
       "      <td>73.591412</td>\n",
       "    </tr>\n",
       "    <tr>\n",
       "      <th>3</th>\n",
       "      <td>46.351569</td>\n",
       "    </tr>\n",
       "    <tr>\n",
       "      <th>4</th>\n",
       "      <td>143.270381</td>\n",
       "    </tr>\n",
       "    <tr>\n",
       "      <th>...</th>\n",
       "      <td>...</td>\n",
       "    </tr>\n",
       "    <tr>\n",
       "      <th>995</th>\n",
       "      <td>94.177793</td>\n",
       "    </tr>\n",
       "    <tr>\n",
       "      <th>996</th>\n",
       "      <td>-13.864900</td>\n",
       "    </tr>\n",
       "    <tr>\n",
       "      <th>997</th>\n",
       "      <td>96.518773</td>\n",
       "    </tr>\n",
       "    <tr>\n",
       "      <th>998</th>\n",
       "      <td>117.693521</td>\n",
       "    </tr>\n",
       "    <tr>\n",
       "      <th>999</th>\n",
       "      <td>90.652249</td>\n",
       "    </tr>\n",
       "  </tbody>\n",
       "</table>\n",
       "<p>1000 rows × 1 columns</p>\n",
       "</div>"
      ],
      "text/plain": [
       "              x\n",
       "0    181.217268\n",
       "1     69.412179\n",
       "2     73.591412\n",
       "3     46.351569\n",
       "4    143.270381\n",
       "..          ...\n",
       "995   94.177793\n",
       "996  -13.864900\n",
       "997   96.518773\n",
       "998  117.693521\n",
       "999   90.652249\n",
       "\n",
       "[1000 rows x 1 columns]"
      ]
     },
     "execution_count": 86,
     "metadata": {},
     "output_type": "execute_result"
    }
   ],
   "source": [
    "df = pd.read_csv('mle_data.csv')\n",
    "df"
   ]
  },
  {
   "cell_type": "code",
   "execution_count": 87,
   "id": "68efb2e1",
   "metadata": {
    "ExecuteTime": {
     "end_time": "2021-08-04T16:06:37.427358Z",
     "start_time": "2021-08-04T16:06:37.420895Z"
    }
   },
   "outputs": [
    {
     "data": {
      "text/plain": [
       "49.074750209128005"
      ]
     },
     "execution_count": 87,
     "metadata": {},
     "output_type": "execute_result"
    }
   ],
   "source": [
    "df['x'].std()"
   ]
  },
  {
   "cell_type": "code",
   "execution_count": 88,
   "id": "eea5c97d",
   "metadata": {
    "ExecuteTime": {
     "end_time": "2021-08-04T16:06:37.440913Z",
     "start_time": "2021-08-04T16:06:37.430856Z"
    }
   },
   "outputs": [],
   "source": [
    "x = torch.tensor(df['x']).type(torch.FloatTensor)\n",
    "x.requires_grad = True\n",
    "# initialize guesses\n",
    "mu = torch.tensor(200.0, requires_grad=True)\n",
    "sigma = torch.tensor(20.0, requires_grad=True)\n"
   ]
  },
  {
   "cell_type": "code",
   "execution_count": 89,
   "id": "cc1197fa",
   "metadata": {
    "ExecuteTime": {
     "end_time": "2021-08-04T16:06:37.993457Z",
     "start_time": "2021-08-04T16:06:37.444355Z"
    },
    "deletable": false,
    "nbgrader": {
     "cell_type": "code",
     "checksum": "22302078e858ec0ea5ee6da12e4389ad",
     "grade": false,
     "grade_id": "cell-803975c4f01b8662",
     "locked": false,
     "schema_version": 3,
     "solution": true,
     "task": false
    }
   },
   "outputs": [
    {
     "name": "stdout",
     "output_type": "stream",
     "text": [
      "neg-loglik = 18941.619140625 mu = 200.0 dL/dmu = 245.14840698242188 stdev = 20.0 dL/dstdev = -1452.695556640625\n",
      "neg-loglik = 5834.14013671875 mu = 146.22000122070312 dL/dmu = 3.297300100326538 stdev = 115.88999938964844 dL/dstdev = 5.823200225830078\n",
      "neg-loglik = 5338.3798828125 mu = 110.70999908447266 dL/dmu = 2.8447000980377197 stdev = 55.5099983215332 dL/dstdev = 3.5009000301361084\n",
      "neg-loglik = 5311.7900390625 mu = 102.08999633789062 dL/dmu = 0.061500001698732376 stdev = 49.04999923706055 dL/dstdev = 0.0027000000700354576\n",
      "neg-loglik = 5311.77978515625 mu = 101.94000244140625 dL/dmu = 0.0008999999845400453 stdev = 49.04999923706055 dL/dstdev = 0.0\n",
      "neg-loglik = 5311.77978515625 mu = 101.94000244140625 dL/dmu = 0.0 stdev = 49.04999923706055 dL/dstdev = 0.0\n",
      "neg-loglik = 5311.77978515625 mu = 101.94000244140625 dL/dmu = 0.0 stdev = 49.04999923706055 dL/dstdev = 0.0\n",
      "neg-loglik = 5311.77978515625 mu = 101.94000244140625 dL/dmu = 0.0 stdev = 49.04999923706055 dL/dstdev = 0.0\n",
      "neg-loglik = 5311.77978515625 mu = 101.94000244140625 dL/dmu = 0.0 stdev = 49.04999923706055 dL/dstdev = 0.0\n",
      "neg-loglik = 5311.77978515625 mu = 101.94000244140625 dL/dmu = 0.0 stdev = 49.04999923706055 dL/dstdev = 0.0\n"
     ]
    }
   ],
   "source": [
    "def neg_loglik_fn(x, mu, sigma):\n",
    "    # YOUR CODE HERE\n",
    "    normal_pdf = (\n",
    "        (1 / torch.sqrt(2 * torch.tensor(np.pi) * (sigma**2)))\n",
    "        * torch.exp(-0.5 * ((x-mu) / sigma)**2)\n",
    "    )\n",
    "    return -torch.sum(torch.log(normal_pdf))\n",
    "\n",
    "    \n",
    "lr = 0.1\n",
    "\n",
    "for t in range(1000):\n",
    "    neg_loglik = neg_loglik_fn(x, mu, sigma)\n",
    "    neg_loglik.backward()\n",
    "    \n",
    "    if t%100 == 0:\n",
    "        print(f'neg-loglik = {neg_loglik.data.numpy().round(2)}',\n",
    "              f'mu = {mu.data.numpy().round(2)}',\n",
    "              f'dL/dmu = {mu.grad.data.numpy().round(4)}',\n",
    "              f'stdev = {sigma.data.numpy().round(2)}',\n",
    "             f'dL/dstdev = {sigma.grad.data.numpy().round(4)}')\n",
    "    mu.data -= lr * mu.grad.data\n",
    "    sigma.data -= lr * sigma.grad.data\n",
    "    \n",
    "    mu.grad.data.zero_()\n",
    "    sigma.grad.data.zero_()\n",
    "    \n",
    "\n",
    "mu = mu.data.numpy()\n",
    "sigma = sigma.data.numpy()"
   ]
  },
  {
   "cell_type": "code",
   "execution_count": 90,
   "id": "8cda4953",
   "metadata": {
    "ExecuteTime": {
     "end_time": "2021-08-04T16:06:38.000038Z",
     "start_time": "2021-08-04T16:06:37.996171Z"
    },
    "deletable": false,
    "editable": false,
    "nbgrader": {
     "cell_type": "code",
     "checksum": "7b0ad2c265ce4bdba6e19e1489ffd026",
     "grade": true,
     "grade_id": "cell-2e543edf2fe9b6d0",
     "locked": true,
     "points": 1,
     "schema_version": 3,
     "solution": false,
     "task": false
    }
   },
   "outputs": [],
   "source": [
    "assert np.isclose(mu, torch.mean(x).data.numpy())"
   ]
  },
  {
   "cell_type": "code",
   "execution_count": 91,
   "id": "30082a82",
   "metadata": {
    "ExecuteTime": {
     "end_time": "2021-08-04T16:06:38.006157Z",
     "start_time": "2021-08-04T16:06:38.002770Z"
    },
    "deletable": false,
    "editable": false,
    "nbgrader": {
     "cell_type": "code",
     "checksum": "b999775859acbd0c3f4f2748344fcbc0",
     "grade": true,
     "grade_id": "cell-942eee87123f33dc",
     "locked": true,
     "points": 1,
     "schema_version": 3,
     "solution": false,
     "task": false
    }
   },
   "outputs": [],
   "source": [
    "# Hidden Test"
   ]
  },
  {
   "cell_type": "markdown",
   "id": "d65739a6",
   "metadata": {
    "deletable": false,
    "editable": false,
    "nbgrader": {
     "cell_type": "markdown",
     "checksum": "036c215c173c62a15a6123bad334005f",
     "grade": false,
     "grade_id": "cell-54b3f65b1609efe7",
     "locked": true,
     "schema_version": 3,
     "solution": false,
     "task": false
    }
   },
   "source": [
    "---\n",
    "\n",
    "### Cross-Validation Exercise"
   ]
  },
  {
   "cell_type": "markdown",
   "id": "310e2368",
   "metadata": {
    "deletable": false,
    "editable": false,
    "nbgrader": {
     "cell_type": "markdown",
     "checksum": "7954baf6aeccba0f00226f98ed0b9cf2",
     "grade": false,
     "grade_id": "cell-fce6b0198a2f9223",
     "locked": true,
     "schema_version": 3,
     "solution": false,
     "task": false
    }
   },
   "source": [
    "#### Q1.\n",
    "\n",
    "Using the training data in `cv_train.csv`, use 10-Fold CV (with `random_state=1`) to select the best $k$ (from $1$ to $50$) in a k-NN regression model.\n",
    "\n",
    "For the scoring criterion, use the <b>root mean square error</b>,\n",
    "\n",
    "\\begin{align*}\n",
    "    \\text{RMSE} &= \\sqrt{\\frac{1}{n}\\sum_{i=1}^{n}(y_i - \\hat{y}_i)^2}\n",
    "\\end{align*}\n",
    "\n",
    "Store the best $k$ in `k_optim`."
   ]
  },
  {
   "cell_type": "code",
   "execution_count": 92,
   "id": "28df71cc",
   "metadata": {
    "ExecuteTime": {
     "end_time": "2021-08-04T16:06:38.029738Z",
     "start_time": "2021-08-04T16:06:38.009078Z"
    }
   },
   "outputs": [
    {
     "data": {
      "text/html": [
       "<div>\n",
       "<style scoped>\n",
       "    .dataframe tbody tr th:only-of-type {\n",
       "        vertical-align: middle;\n",
       "    }\n",
       "\n",
       "    .dataframe tbody tr th {\n",
       "        vertical-align: top;\n",
       "    }\n",
       "\n",
       "    .dataframe thead th {\n",
       "        text-align: right;\n",
       "    }\n",
       "</style>\n",
       "<table border=\"1\" class=\"dataframe\">\n",
       "  <thead>\n",
       "    <tr style=\"text-align: right;\">\n",
       "      <th></th>\n",
       "      <th>x</th>\n",
       "      <th>y</th>\n",
       "    </tr>\n",
       "  </thead>\n",
       "  <tbody>\n",
       "    <tr>\n",
       "      <th>0</th>\n",
       "      <td>4.438178</td>\n",
       "      <td>235.403163</td>\n",
       "    </tr>\n",
       "    <tr>\n",
       "      <th>1</th>\n",
       "      <td>4.991009</td>\n",
       "      <td>28.536899</td>\n",
       "    </tr>\n",
       "    <tr>\n",
       "      <th>2</th>\n",
       "      <td>-3.383234</td>\n",
       "      <td>-20.244820</td>\n",
       "    </tr>\n",
       "    <tr>\n",
       "      <th>3</th>\n",
       "      <td>-13.455054</td>\n",
       "      <td>413.908490</td>\n",
       "    </tr>\n",
       "    <tr>\n",
       "      <th>4</th>\n",
       "      <td>-5.329361</td>\n",
       "      <td>166.088298</td>\n",
       "    </tr>\n",
       "    <tr>\n",
       "      <th>...</th>\n",
       "      <td>...</td>\n",
       "      <td>...</td>\n",
       "    </tr>\n",
       "    <tr>\n",
       "      <th>8995</th>\n",
       "      <td>2.515027</td>\n",
       "      <td>159.444066</td>\n",
       "    </tr>\n",
       "    <tr>\n",
       "      <th>8996</th>\n",
       "      <td>-10.034567</td>\n",
       "      <td>235.769378</td>\n",
       "    </tr>\n",
       "    <tr>\n",
       "      <th>8997</th>\n",
       "      <td>0.890880</td>\n",
       "      <td>108.278526</td>\n",
       "    </tr>\n",
       "    <tr>\n",
       "      <th>8998</th>\n",
       "      <td>2.139057</td>\n",
       "      <td>-14.263007</td>\n",
       "    </tr>\n",
       "    <tr>\n",
       "      <th>8999</th>\n",
       "      <td>1.113835</td>\n",
       "      <td>46.990239</td>\n",
       "    </tr>\n",
       "  </tbody>\n",
       "</table>\n",
       "<p>9000 rows × 2 columns</p>\n",
       "</div>"
      ],
      "text/plain": [
       "              x           y\n",
       "0      4.438178  235.403163\n",
       "1      4.991009   28.536899\n",
       "2     -3.383234  -20.244820\n",
       "3    -13.455054  413.908490\n",
       "4     -5.329361  166.088298\n",
       "...         ...         ...\n",
       "8995   2.515027  159.444066\n",
       "8996 -10.034567  235.769378\n",
       "8997   0.890880  108.278526\n",
       "8998   2.139057  -14.263007\n",
       "8999   1.113835   46.990239\n",
       "\n",
       "[9000 rows x 2 columns]"
      ]
     },
     "execution_count": 92,
     "metadata": {},
     "output_type": "execute_result"
    }
   ],
   "source": [
    "df = pd.read_csv('cv_train.csv')\n",
    "df"
   ]
  },
  {
   "cell_type": "code",
   "execution_count": 93,
   "id": "ddab6726",
   "metadata": {
    "ExecuteTime": {
     "end_time": "2021-08-04T16:06:54.770661Z",
     "start_time": "2021-08-04T16:06:38.033560Z"
    },
    "deletable": false,
    "nbgrader": {
     "cell_type": "code",
     "checksum": "c901a0cc609478bf5e5d1f249e1e0cec",
     "grade": false,
     "grade_id": "cell-1623b6f3266a82eb",
     "locked": false,
     "schema_version": 3,
     "solution": true,
     "task": false
    }
   },
   "outputs": [
    {
     "name": "stdout",
     "output_type": "stream",
     "text": [
      "k = 1 -- Avg. Test RMSE = 142.18603746648506\n",
      "k = 2 -- Avg. Test RMSE = 123.59690241213293\n",
      "k = 3 -- Avg. Test RMSE = 116.34334519321006\n",
      "k = 4 -- Avg. Test RMSE = 113.2315525393014\n",
      "k = 5 -- Avg. Test RMSE = 110.70578927826114\n",
      "k = 6 -- Avg. Test RMSE = 109.34831945801292\n",
      "k = 7 -- Avg. Test RMSE = 108.12233525934967\n",
      "k = 8 -- Avg. Test RMSE = 107.30173721699514\n",
      "k = 9 -- Avg. Test RMSE = 106.94768459528734\n",
      "k = 10 -- Avg. Test RMSE = 106.44848502025529\n",
      "k = 11 -- Avg. Test RMSE = 106.03310593585365\n",
      "k = 12 -- Avg. Test RMSE = 105.80394818052096\n",
      "k = 13 -- Avg. Test RMSE = 105.58954065008695\n",
      "k = 14 -- Avg. Test RMSE = 105.41722589855556\n",
      "k = 15 -- Avg. Test RMSE = 105.34232488166774\n",
      "k = 16 -- Avg. Test RMSE = 105.22920427953326\n",
      "k = 17 -- Avg. Test RMSE = 105.26825220324118\n",
      "k = 18 -- Avg. Test RMSE = 105.0443642197504\n",
      "k = 19 -- Avg. Test RMSE = 104.99052786356961\n",
      "k = 20 -- Avg. Test RMSE = 104.9217558731996\n",
      "k = 21 -- Avg. Test RMSE = 104.82958674098602\n",
      "k = 22 -- Avg. Test RMSE = 104.76530442776713\n",
      "k = 23 -- Avg. Test RMSE = 104.74006912962075\n",
      "k = 24 -- Avg. Test RMSE = 104.77511438575621\n",
      "k = 25 -- Avg. Test RMSE = 104.7970301347411\n",
      "k = 26 -- Avg. Test RMSE = 104.77941213826311\n",
      "k = 27 -- Avg. Test RMSE = 104.7288476531229\n",
      "k = 28 -- Avg. Test RMSE = 104.7041103245845\n",
      "k = 29 -- Avg. Test RMSE = 104.65346054070149\n",
      "k = 30 -- Avg. Test RMSE = 104.70503318783753\n",
      "k = 31 -- Avg. Test RMSE = 104.67801335854588\n",
      "k = 32 -- Avg. Test RMSE = 104.69954876263166\n",
      "k = 33 -- Avg. Test RMSE = 104.71925349029584\n",
      "k = 34 -- Avg. Test RMSE = 104.73594121755528\n",
      "k = 35 -- Avg. Test RMSE = 104.75416389631252\n",
      "k = 36 -- Avg. Test RMSE = 104.77832903172222\n",
      "k = 37 -- Avg. Test RMSE = 104.80714550637944\n",
      "k = 38 -- Avg. Test RMSE = 104.81866644373906\n",
      "k = 39 -- Avg. Test RMSE = 104.82829056396994\n",
      "k = 40 -- Avg. Test RMSE = 104.88282653506124\n",
      "k = 41 -- Avg. Test RMSE = 104.89561668821129\n",
      "k = 42 -- Avg. Test RMSE = 104.8840981617127\n",
      "k = 43 -- Avg. Test RMSE = 104.91888740511055\n",
      "k = 44 -- Avg. Test RMSE = 104.90136307049036\n",
      "k = 45 -- Avg. Test RMSE = 104.93489552805315\n",
      "k = 46 -- Avg. Test RMSE = 105.02903686710343\n",
      "k = 47 -- Avg. Test RMSE = 105.08140347534643\n",
      "k = 48 -- Avg. Test RMSE = 105.14586981880632\n",
      "k = 49 -- Avg. Test RMSE = 105.1613949772191\n",
      "k = 50 -- Avg. Test RMSE = 105.23875797394813\n"
     ]
    }
   ],
   "source": [
    "x = df['x'].to_numpy().reshape(-1,1)\n",
    "y = df['y']\n",
    "\n",
    "\n",
    "rmse_all = {}\n",
    "\n",
    "k_grid  = range(1, 51)\n",
    "kf = KFold(n_splits = 10, random_state=1, shuffle=True)\n",
    "\n",
    "rmse_test_knn_all = []\n",
    "\n",
    "\n",
    "for k in k_grid:\n",
    "    rmse_train_knn = []\n",
    "    rmse_test_knn = []\n",
    "    \n",
    "    for train_index, test_index in kf.split(x):\n",
    "        x_train, x_test = x[train_index], x[test_index]\n",
    "        y_train, y_test = y[train_index], y[test_index]\n",
    "        \n",
    "        model = KNeighborsRegressor(n_neighbors=k).fit(x_train, y_train)\n",
    "        \n",
    "        fitted = model.predict(x_train)\n",
    "        y_hat = model.predict(x_test)\n",
    "        \n",
    "        # squared = False or get the square root of mean_squared_error\n",
    "        # without the squared parameter\n",
    "        rmse_train_knn.append(mean_squared_error(y_train,fitted, squared=False))\n",
    "        rmse_test_knn.append(mean_squared_error(y_test, y_hat, squared=False))\n",
    "        \n",
    "    rmse_train_knn = np.array([rmse_train_knn])\n",
    "    rmse_test_knn = np.array([rmse_test_knn])\n",
    "    \n",
    "    print(f'k = {k} -- Avg. Test RMSE = {rmse_test_knn.mean()}')\n",
    "    rmse_test_knn_all.append(rmse_test_knn)\n",
    "    rmse_all[k] = rmse_test_knn.mean()\n",
    "\n",
    "# YOUR CODE HERE\n"
   ]
  },
  {
   "cell_type": "code",
   "execution_count": 94,
   "id": "7bfdc0da",
   "metadata": {
    "ExecuteTime": {
     "end_time": "2021-08-04T16:06:54.780378Z",
     "start_time": "2021-08-04T16:06:54.773009Z"
    }
   },
   "outputs": [
    {
     "data": {
      "text/plain": [
       "(29, 104.65346054070149)"
      ]
     },
     "execution_count": 94,
     "metadata": {},
     "output_type": "execute_result"
    }
   ],
   "source": [
    "k_optim = pd.Series(rmse_all).idxmin()\n",
    "k_optim, pd.Series(rmse_all).min()"
   ]
  },
  {
   "cell_type": "code",
   "execution_count": 95,
   "id": "3793c16b",
   "metadata": {
    "ExecuteTime": {
     "end_time": "2021-08-04T16:06:54.785622Z",
     "start_time": "2021-08-04T16:06:54.782278Z"
    },
    "deletable": false,
    "editable": false,
    "nbgrader": {
     "cell_type": "code",
     "checksum": "4cd17351151ea6f87b3abaab99293ccf",
     "grade": true,
     "grade_id": "cell-d43497d3da4286e5",
     "locked": true,
     "points": 1,
     "schema_version": 3,
     "solution": false,
     "task": false
    }
   },
   "outputs": [],
   "source": [
    "assert k_optim == 29"
   ]
  },
  {
   "cell_type": "markdown",
   "id": "83e1b6a5",
   "metadata": {
    "deletable": false,
    "editable": false,
    "nbgrader": {
     "cell_type": "markdown",
     "checksum": "c01932c926e0e44899b46855043f1420",
     "grade": false,
     "grade_id": "cell-1e387360fb08ae18",
     "locked": true,
     "schema_version": 3,
     "solution": false,
     "task": false
    }
   },
   "source": [
    "---\n",
    "\n",
    "### Bootstrap Exercise"
   ]
  },
  {
   "cell_type": "markdown",
   "id": "13416f5b",
   "metadata": {
    "deletable": false,
    "editable": false,
    "nbgrader": {
     "cell_type": "markdown",
     "checksum": "acc97ee6d7b8a35bd39813d7c64b512b",
     "grade": false,
     "grade_id": "cell-381498401158656f",
     "locked": true,
     "schema_version": 3,
     "solution": false,
     "task": false
    }
   },
   "source": [
    "#### Q1.\n",
    "\n",
    "Using optimal $k$ solved in the last section, fit a k-NN model to the training data `cv_train.csv` and calculate the RMSE on the test data in `cv_test.csv`."
   ]
  },
  {
   "cell_type": "code",
   "execution_count": 96,
   "id": "82acceef",
   "metadata": {
    "ExecuteTime": {
     "end_time": "2021-08-04T16:06:54.804175Z",
     "start_time": "2021-08-04T16:06:54.787706Z"
    }
   },
   "outputs": [],
   "source": [
    "df_train = pd.read_csv('cv_train.csv')\n",
    "df_test = pd.read_csv('cv_test.csv')"
   ]
  },
  {
   "cell_type": "code",
   "execution_count": 97,
   "id": "69f8fc10",
   "metadata": {
    "ExecuteTime": {
     "end_time": "2021-08-04T16:06:54.826414Z",
     "start_time": "2021-08-04T16:06:54.805761Z"
    }
   },
   "outputs": [
    {
     "name": "stdout",
     "output_type": "stream",
     "text": [
      "    ----df_train----"
     ]
    },
    {
     "data": {
      "text/html": [
       "<div>\n",
       "<style scoped>\n",
       "    .dataframe tbody tr th:only-of-type {\n",
       "        vertical-align: middle;\n",
       "    }\n",
       "\n",
       "    .dataframe tbody tr th {\n",
       "        vertical-align: top;\n",
       "    }\n",
       "\n",
       "    .dataframe thead th {\n",
       "        text-align: right;\n",
       "    }\n",
       "</style>\n",
       "<table border=\"1\" class=\"dataframe\">\n",
       "  <thead>\n",
       "    <tr style=\"text-align: right;\">\n",
       "      <th></th>\n",
       "      <th>x</th>\n",
       "      <th>y</th>\n",
       "    </tr>\n",
       "  </thead>\n",
       "  <tbody>\n",
       "    <tr>\n",
       "      <th>0</th>\n",
       "      <td>4.438178</td>\n",
       "      <td>235.403163</td>\n",
       "    </tr>\n",
       "    <tr>\n",
       "      <th>1</th>\n",
       "      <td>4.991009</td>\n",
       "      <td>28.536899</td>\n",
       "    </tr>\n",
       "    <tr>\n",
       "      <th>2</th>\n",
       "      <td>-3.383234</td>\n",
       "      <td>-20.244820</td>\n",
       "    </tr>\n",
       "    <tr>\n",
       "      <th>3</th>\n",
       "      <td>-13.455054</td>\n",
       "      <td>413.908490</td>\n",
       "    </tr>\n",
       "    <tr>\n",
       "      <th>4</th>\n",
       "      <td>-5.329361</td>\n",
       "      <td>166.088298</td>\n",
       "    </tr>\n",
       "    <tr>\n",
       "      <th>...</th>\n",
       "      <td>...</td>\n",
       "      <td>...</td>\n",
       "    </tr>\n",
       "    <tr>\n",
       "      <th>8995</th>\n",
       "      <td>2.515027</td>\n",
       "      <td>159.444066</td>\n",
       "    </tr>\n",
       "    <tr>\n",
       "      <th>8996</th>\n",
       "      <td>-10.034567</td>\n",
       "      <td>235.769378</td>\n",
       "    </tr>\n",
       "    <tr>\n",
       "      <th>8997</th>\n",
       "      <td>0.890880</td>\n",
       "      <td>108.278526</td>\n",
       "    </tr>\n",
       "    <tr>\n",
       "      <th>8998</th>\n",
       "      <td>2.139057</td>\n",
       "      <td>-14.263007</td>\n",
       "    </tr>\n",
       "    <tr>\n",
       "      <th>8999</th>\n",
       "      <td>1.113835</td>\n",
       "      <td>46.990239</td>\n",
       "    </tr>\n",
       "  </tbody>\n",
       "</table>\n",
       "<p>9000 rows × 2 columns</p>\n",
       "</div>"
      ],
      "text/plain": [
       "              x           y\n",
       "0      4.438178  235.403163\n",
       "1      4.991009   28.536899\n",
       "2     -3.383234  -20.244820\n",
       "3    -13.455054  413.908490\n",
       "4     -5.329361  166.088298\n",
       "...         ...         ...\n",
       "8995   2.515027  159.444066\n",
       "8996 -10.034567  235.769378\n",
       "8997   0.890880  108.278526\n",
       "8998   2.139057  -14.263007\n",
       "8999   1.113835   46.990239\n",
       "\n",
       "[9000 rows x 2 columns]"
      ]
     },
     "metadata": {},
     "output_type": "display_data"
    },
    {
     "name": "stdout",
     "output_type": "stream",
     "text": [
      "    ----df_test----"
     ]
    },
    {
     "data": {
      "text/html": [
       "<div>\n",
       "<style scoped>\n",
       "    .dataframe tbody tr th:only-of-type {\n",
       "        vertical-align: middle;\n",
       "    }\n",
       "\n",
       "    .dataframe tbody tr th {\n",
       "        vertical-align: top;\n",
       "    }\n",
       "\n",
       "    .dataframe thead th {\n",
       "        text-align: right;\n",
       "    }\n",
       "</style>\n",
       "<table border=\"1\" class=\"dataframe\">\n",
       "  <thead>\n",
       "    <tr style=\"text-align: right;\">\n",
       "      <th></th>\n",
       "      <th>x</th>\n",
       "      <th>y</th>\n",
       "    </tr>\n",
       "  </thead>\n",
       "  <tbody>\n",
       "    <tr>\n",
       "      <th>0</th>\n",
       "      <td>1.384249</td>\n",
       "      <td>-28.158847</td>\n",
       "    </tr>\n",
       "    <tr>\n",
       "      <th>1</th>\n",
       "      <td>2.357853</td>\n",
       "      <td>20.767435</td>\n",
       "    </tr>\n",
       "    <tr>\n",
       "      <th>2</th>\n",
       "      <td>-4.183601</td>\n",
       "      <td>-164.479264</td>\n",
       "    </tr>\n",
       "    <tr>\n",
       "      <th>3</th>\n",
       "      <td>2.365556</td>\n",
       "      <td>190.545763</td>\n",
       "    </tr>\n",
       "    <tr>\n",
       "      <th>4</th>\n",
       "      <td>-5.110197</td>\n",
       "      <td>-106.221617</td>\n",
       "    </tr>\n",
       "    <tr>\n",
       "      <th>...</th>\n",
       "      <td>...</td>\n",
       "      <td>...</td>\n",
       "    </tr>\n",
       "    <tr>\n",
       "      <th>995</th>\n",
       "      <td>1.568204</td>\n",
       "      <td>23.707379</td>\n",
       "    </tr>\n",
       "    <tr>\n",
       "      <th>996</th>\n",
       "      <td>0.074237</td>\n",
       "      <td>62.037567</td>\n",
       "    </tr>\n",
       "    <tr>\n",
       "      <th>997</th>\n",
       "      <td>6.079593</td>\n",
       "      <td>104.595255</td>\n",
       "    </tr>\n",
       "    <tr>\n",
       "      <th>998</th>\n",
       "      <td>-0.852969</td>\n",
       "      <td>8.987755</td>\n",
       "    </tr>\n",
       "    <tr>\n",
       "      <th>999</th>\n",
       "      <td>5.293551</td>\n",
       "      <td>119.330674</td>\n",
       "    </tr>\n",
       "  </tbody>\n",
       "</table>\n",
       "<p>1000 rows × 2 columns</p>\n",
       "</div>"
      ],
      "text/plain": [
       "            x           y\n",
       "0    1.384249  -28.158847\n",
       "1    2.357853   20.767435\n",
       "2   -4.183601 -164.479264\n",
       "3    2.365556  190.545763\n",
       "4   -5.110197 -106.221617\n",
       "..        ...         ...\n",
       "995  1.568204   23.707379\n",
       "996  0.074237   62.037567\n",
       "997  6.079593  104.595255\n",
       "998 -0.852969    8.987755\n",
       "999  5.293551  119.330674\n",
       "\n",
       "[1000 rows x 2 columns]"
      ]
     },
     "metadata": {},
     "output_type": "display_data"
    }
   ],
   "source": [
    "print('    ----df_train----', end='')\n",
    "display(df_train)\n",
    "print('    ----df_test----', end='')\n",
    "display(df_test)"
   ]
  },
  {
   "cell_type": "code",
   "execution_count": 98,
   "id": "e58da4b5",
   "metadata": {
    "ExecuteTime": {
     "end_time": "2021-08-04T16:06:54.878466Z",
     "start_time": "2021-08-04T16:06:54.828001Z"
    },
    "deletable": false,
    "nbgrader": {
     "cell_type": "code",
     "checksum": "8d1d65c0883a953dd8f51f1baf75d160",
     "grade": false,
     "grade_id": "cell-608007ad8b4bca84",
     "locked": false,
     "schema_version": 3,
     "solution": true,
     "task": false
    }
   },
   "outputs": [
    {
     "data": {
      "text/plain": [
       "102.00535713349203"
      ]
     },
     "execution_count": 98,
     "metadata": {},
     "output_type": "execute_result"
    }
   ],
   "source": [
    "x_train = df_train['x'].to_numpy().reshape(-1, 1)\n",
    "y_train = df_train['y']\n",
    "x_test = df_test['x'].to_numpy().reshape(-1, 1)\n",
    "y_test = df_test['y']\n",
    "\n",
    "rmse_train_knn = []\n",
    "rmse_test_knn = []\n",
    "\n",
    "model = KNeighborsRegressor(n_neighbors=k_optim).fit(x_train, y_train)\n",
    "fitted = model.predict(x_train)\n",
    "y_hat = model.predict(x_test)\n",
    "\n",
    "rmse_train_knn.append(mean_squared_error(y_train, fitted, squared=False))\n",
    "rmse_test_knn.append(mean_squared_error(y_test, y_hat, squared=False))\n",
    "\n",
    "rmse_train_knn = np.array(rmse_train_knn)\n",
    "rmse_test_knn = np.array(rmse_test_knn)\n",
    "\n",
    "\n",
    "\n",
    "rmse_test = rmse_test_knn.mean()\n",
    "rmse_test"
   ]
  },
  {
   "cell_type": "code",
   "execution_count": 99,
   "id": "adc293c0",
   "metadata": {
    "ExecuteTime": {
     "end_time": "2021-08-04T16:06:54.883445Z",
     "start_time": "2021-08-04T16:06:54.880016Z"
    },
    "deletable": false,
    "editable": false,
    "nbgrader": {
     "cell_type": "code",
     "checksum": "bf7781afc0bdcfdb5472e04b115b1ce2",
     "grade": true,
     "grade_id": "cell-aaca02703fdbc05e",
     "locked": true,
     "points": 1,
     "schema_version": 3,
     "solution": false,
     "task": false
    }
   },
   "outputs": [],
   "source": [
    "assert np.isclose(rmse_test, 102.00535713349203)"
   ]
  },
  {
   "cell_type": "markdown",
   "id": "7dd37d6b",
   "metadata": {
    "deletable": false,
    "editable": false,
    "nbgrader": {
     "cell_type": "markdown",
     "checksum": "f8342641b13a6ddb136288e7efe8d470",
     "grade": false,
     "grade_id": "cell-21ac5fc251e02ecf",
     "locked": true,
     "schema_version": 3,
     "solution": false,
     "task": false
    }
   },
   "source": [
    "#### Q2.\n",
    "\n",
    "Using bootstrap, calculate the 95% prediction interval (orange shade) and plot it against the test set and your model's predictions (red line).\n",
    "\n",
    "For the assert, place your 95% lower and upper bounds in `pi_95`. It will check the first column which should contain the 95% lower bound and upper bound for the prediction when $x = -23.288090752195814$.\n",
    "\n",
    "Run enough simulations to meet the tolerance defined by the assert."
   ]
  },
  {
   "cell_type": "code",
   "execution_count": 105,
   "id": "44dfb937",
   "metadata": {
    "ExecuteTime": {
     "end_time": "2021-08-04T16:13:29.370574Z",
     "start_time": "2021-08-04T16:12:59.921460Z"
    },
    "deletable": false,
    "nbgrader": {
     "cell_type": "code",
     "checksum": "163a32d0d399116cd68cbd16d1e62ba8",
     "grade": false,
     "grade_id": "cell-4fb5c56c283a2e47",
     "locked": false,
     "schema_version": 3,
     "solution": true,
     "task": false
    }
   },
   "outputs": [
    {
     "data": {
      "image/png": "[encoded data removed]",
      "text/plain": [
       "<Figure size 720x720 with 1 Axes>"
      ]
     },
     "metadata": {
      "needs_background": "light"
     },
     "output_type": "display_data"
    }
   ],
   "source": [
    "# YOUR CODE HERE\n",
    "\n",
    "x_train = df_train['x'].to_numpy().reshape(-1, 1)\n",
    "y_train = df_train['y']\n",
    "x_test = df_test['x'].to_numpy().reshape(-1, 1)\n",
    "y_test = df_test['y']\n",
    "\n",
    "model = KNeighborsRegressor(n_neighbors=k_optim).fit(x_train, y_train)\n",
    "\n",
    "n = x_train.shape[0]\n",
    "\n",
    "x_range = np.arange(x_train.min(), x_train.max()+0.1, 0.1).reshape(-1, 1)\n",
    "\n",
    "fig, ax = plt.subplots(figsize=(10, 10))\n",
    "plt.scatter(x_test, y_test)\n",
    "plt.plot(x_range, model.predict(x_range), color='r')\n",
    "\n",
    "sim_size = 3400\n",
    "\n",
    "pred_vec = []\n",
    "\n",
    "for i in range(sim_size):\n",
    "    samp_ind = np.random.choice(range(n), size=n, replace=True)\n",
    "    x_boot = x_train[samp_ind].reshape(-1, 1)\n",
    "    y_boot = y_train[samp_ind]\n",
    "    \n",
    "    \n",
    "    model = KNeighborsRegressor(n_neighbors=k_optim).fit(x_boot, y_boot)\n",
    "    pred_vec.append(model.predict(x_range))\n",
    "    \n",
    "pred_vec = np.array(pred_vec)\n",
    "pi_95 = np.nanquantile(pred_vec, q=[0.025, 0.975], axis=0)\n",
    "ax.fill_between(x_range.flatten(), pi_95[0, :], pi_95[1, :], color='tab:orange', alpha=0.2)\n",
    "\n",
    "\n",
    "\n",
    "\n",
    "plt.show()\n"
   ]
  },
  {
   "cell_type": "code",
   "execution_count": 101,
   "id": "70073813",
   "metadata": {
    "ExecuteTime": {
     "end_time": "2021-08-04T16:07:37.669088Z",
     "start_time": "2021-08-04T16:07:37.664645Z"
    }
   },
   "outputs": [
    {
     "data": {
      "text/plain": [
       "array([[1190.38606591, 1190.38606591, 1190.38606591, ..., 1216.57265668,\n",
       "        1216.57265668, 1216.57265668],\n",
       "       [1445.02158584, 1445.02158584, 1445.02158584, ..., 1536.13757064,\n",
       "        1536.13757064, 1536.13757064]])"
      ]
     },
     "execution_count": 101,
     "metadata": {},
     "output_type": "execute_result"
    }
   ],
   "source": [
    "pi_95"
   ]
  },
  {
   "cell_type": "code",
   "execution_count": 102,
   "id": "bf38ee7d",
   "metadata": {
    "ExecuteTime": {
     "end_time": "2021-08-04T16:07:37.674377Z",
     "start_time": "2021-08-04T16:07:37.670990Z"
    },
    "deletable": false,
    "editable": false,
    "nbgrader": {
     "cell_type": "code",
     "checksum": "9b732572d9362ce787bc401bac071954",
     "grade": true,
     "grade_id": "cell-73c7d913dad27a07",
     "locked": true,
     "points": 1,
     "schema_version": 3,
     "solution": false,
     "task": false
    }
   },
   "outputs": [],
   "source": [
    "# 95% PI lower and upper bound for the prediction when x = -23.288090752195814\n",
    "# Each bound must be between these values (which are themselves estimates of 99%-ile bounds of these statistics!)\n",
    "assert 1175.41252481 <= pi_95[0, 0] <= 1196.5568916\n",
    "assert 1434.3119279 <= pi_95[1, 0] <= 1457.71248042"
   ]
  },
  {
   "cell_type": "markdown",
   "id": "9ce8d725",
   "metadata": {
    "deletable": false,
    "editable": false,
    "nbgrader": {
     "cell_type": "markdown",
     "checksum": "59a48bf91c1356d17f25ad793069823b",
     "grade": false,
     "grade_id": "cell-3946e24c8fdb6df6",
     "locked": true,
     "schema_version": 3,
     "solution": false,
     "task": false
    }
   },
   "source": [
    "Very cool. :)"
   ]
  }
 ],
 "metadata": {
  "kernelspec": {
   "display_name": "Python 3",
   "language": "python",
   "name": "python3"
  },
  "language_info": {
   "codemirror_mode": {
    "name": "ipython",
    "version": 3
   },
   "file_extension": ".py",
   "mimetype": "text/x-python",
   "name": "python",
   "nbconvert_exporter": "python",
   "pygments_lexer": "ipython3",
   "version": "3.8.8"
  },
  "toc": {
   "base_numbering": 1,
   "nav_menu": {},
   "number_sections": true,
   "sideBar": true,
   "skip_h1_title": false,
   "title_cell": "Table of Contents",
   "title_sidebar": "Contents",
   "toc_cell": false,
   "toc_position": {},
   "toc_section_display": true,
   "toc_window_display": false
  }
 },
 "nbformat": 4,
 "nbformat_minor": 5
}
