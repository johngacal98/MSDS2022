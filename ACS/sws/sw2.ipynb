{
 "cells": [
  {
   "cell_type": "markdown",
   "id": "7f42ff79",
   "metadata": {
    "deletable": false,
    "editable": false,
    "nbgrader": {
     "cell_type": "markdown",
     "checksum": "52e69c3af9025198e4ddf7918c8c9841",
     "grade": false,
     "grade_id": "cell-edb5fb2617f0d07c",
     "locked": true,
     "schema_version": 3,
     "solution": false,
     "task": false
    }
   },
   "source": [
    "# Applied Computational Statistics (ACS)\n",
    "\n",
    "## SW2\n",
    "\n",
    "Submit your answers <b>individually</b>."
   ]
  },
  {
   "cell_type": "code",
   "execution_count": 157,
   "id": "731c6583",
   "metadata": {
    "ExecuteTime": {
     "end_time": "2021-07-15T14:03:56.327787Z",
     "start_time": "2021-07-15T14:03:56.323810Z"
    },
    "deletable": false,
    "editable": false,
    "nbgrader": {
     "cell_type": "code",
     "checksum": "60514440a40fd21be8764a3a8587f431",
     "grade": false,
     "grade_id": "cell-d8f2159e428e94a8",
     "locked": true,
     "schema_version": 3,
     "solution": false,
     "task": false
    }
   },
   "outputs": [],
   "source": [
    "import numpy as np\n",
    "\n",
    "atol = 0.01"
   ]
  },
  {
   "cell_type": "markdown",
   "id": "547483a1",
   "metadata": {
    "deletable": false,
    "editable": false,
    "nbgrader": {
     "cell_type": "markdown",
     "checksum": "95f7deb536251813809f52fbe846e1ea",
     "grade": false,
     "grade_id": "cell-a9dcef40622b8d4d",
     "locked": true,
     "schema_version": 3,
     "solution": false,
     "task": false
    }
   },
   "source": [
    "---\n",
    "\n",
    "### Dungeons & Dragons Revisited\n",
    "\n",
    "This seatwork presents a collection of D&D related questions. Hopefully, answering them inspires you to play D&D.\n",
    "\n",
    "Click [`here`](https://media.wizards.com/2018/dnd/downloads/DnD_BasicRules_2018.pdf) to read the free basic rules for 5th Edition D&D. (not required)\n",
    "\n",
    "Some notes:\n",
    "\n",
    "1. When using a Monte Carlo approach, make sure to set your sample/simulation size to be large enough such that your results are stable.\n",
    "\n",
    "\n",
    "2. There are many possible ways to simulate the problems below. Certain methods will be more efficient and less samples to converge. Try to be as efficient as possible, otherwise your solution may not converge to the accepted tolerance (absolute tolerance of 0.01).\n",
    "\n",
    "\n",
    "3. If your implementation takes more than a minute to run, you will not recieve points for the question!"
   ]
  },
  {
   "cell_type": "markdown",
   "id": "14c2a30c",
   "metadata": {
    "deletable": false,
    "editable": false,
    "nbgrader": {
     "cell_type": "markdown",
     "checksum": "a49077db538ca18c5a901fab8b724978",
     "grade": false,
     "grade_id": "cell-3b46d09927d97ca9",
     "locked": true,
     "schema_version": 3,
     "solution": false,
     "task": false
    }
   },
   "source": [
    "#### Q1.\n",
    "\n",
    "Your character, a level 1 fighter, attacks a goblin with a longsword. \n",
    "\n",
    "An attack will hit if your <b><i>Attack Roll</b></i> is equal to or exceeds the target's <b><i>Armor Class (AC)</b></i>.\n",
    "\n",
    "You make an attack roll by rolling a d20 and adding your <b><i>Ability Modifier</b></i> (Strength in this case) and <b><i>Proficiency Bonus</b></i>.\n",
    "\n",
    "Suppose that you have a strength modifier of +3, a proficiency bonus of +2, and that the goblin's AC is 12.\n",
    "\n",
    "Calculate the probability that your attack will hit the goblin.\n",
    "\n",
    "<i>Note: The ability modifier used for a melee weapon attack is Strength, and the ability modifier used for a ranged weapon attack is Dexterity. Weapons that have the finesse or thrown property break this rule.</i>"
   ]
  },
  {
   "cell_type": "code",
   "execution_count": 158,
   "id": "dd0ad9ea",
   "metadata": {
    "ExecuteTime": {
     "end_time": "2021-07-15T14:04:03.627867Z",
     "start_time": "2021-07-15T14:03:56.330969Z"
    },
    "deletable": false,
    "nbgrader": {
     "cell_type": "code",
     "checksum": "f36b736bd8f227437fcec25d26dadbbf",
     "grade": false,
     "grade_id": "cell-a19ac28a90a93866",
     "locked": false,
     "schema_version": 3,
     "solution": true,
     "task": false
    }
   },
   "outputs": [
    {
     "name": "stdout",
     "output_type": "stream",
     "text": [
      "Probability of a Hit: 0.700258\n"
     ]
    }
   ],
   "source": [
    "def p_hit(str_mod=0, prof_bonus=0, target_ac=10):\n",
    "    \n",
    "    p_hit = 0\n",
    "    \n",
    "    # YOUR CODE HERE\n",
    "    np.random.seed(1)\n",
    "    simnum = 1000000\n",
    "    rolls = []\n",
    "    d20 = list(range(1,21))\n",
    "    for i in range(0,simnum):\n",
    "        roll = np.random.choice(d20)\n",
    "        if roll >= target_ac - str_mod - prof_bonus:\n",
    "            rolls.append(roll)\n",
    "\n",
    "    p_hit = len(rolls)/simnum    \n",
    "    \n",
    "    return p_hit\n",
    "\n",
    "print('Probability of a Hit:', p_hit(str_mod=3, prof_bonus=2, target_ac=12))"
   ]
  },
  {
   "cell_type": "code",
   "execution_count": 159,
   "id": "05f0f6ef",
   "metadata": {
    "ExecuteTime": {
     "end_time": "2021-07-15T14:04:03.633215Z",
     "start_time": "2021-07-15T14:04:03.630453Z"
    }
   },
   "outputs": [],
   "source": [
    "# events\n",
    "# A1 = Hit goblin       d20 + Ab Mod + Prof Bon >= AC\n",
    "# A2 = Miss Goblin      d20 + Ab Mod + Prof Bon < AC\n",
    "\n",
    "# Sample Space includes modifiers and bonus:\n",
    "# {6-25}\n",
    "# Misses - 6/20\n",
    "# Hits - 14/20 or 70%"
   ]
  },
  {
   "cell_type": "code",
   "execution_count": 160,
   "id": "2906b1d8",
   "metadata": {
    "ExecuteTime": {
     "end_time": "2021-07-15T14:04:03.641340Z",
     "start_time": "2021-07-15T14:04:03.635332Z"
    }
   },
   "outputs": [
    {
     "data": {
      "text/plain": [
       "0.7"
      ]
     },
     "execution_count": 160,
     "metadata": {},
     "output_type": "execute_result"
    }
   ],
   "source": [
    "# another sol\n",
    "prof_bonus = 2\n",
    "str_mod = 3\n",
    "target_ac = 12\n",
    "rolls = np.arange(1,21) + prof_bonus + str_mod\n",
    "(rolls >= target_ac).sum() / len(rolls)\n"
   ]
  },
  {
   "cell_type": "code",
   "execution_count": 161,
   "id": "31847a0d",
   "metadata": {
    "ExecuteTime": {
     "end_time": "2021-07-15T14:04:03.645496Z",
     "start_time": "2021-07-15T14:04:03.643046Z"
    },
    "deletable": false,
    "editable": false,
    "nbgrader": {
     "cell_type": "code",
     "checksum": "bd809edc6547c79f18a3cb0291123597",
     "grade": true,
     "grade_id": "cell-e294849a96708469",
     "locked": true,
     "points": 0.25,
     "schema_version": 3,
     "solution": false,
     "task": false
    }
   },
   "outputs": [],
   "source": [
    "# Hidden Test 1\n"
   ]
  },
  {
   "cell_type": "code",
   "execution_count": 162,
   "id": "5139a73a",
   "metadata": {
    "ExecuteTime": {
     "end_time": "2021-07-15T14:04:03.649940Z",
     "start_time": "2021-07-15T14:04:03.647108Z"
    },
    "deletable": false,
    "editable": false,
    "nbgrader": {
     "cell_type": "code",
     "checksum": "86de2a42ecdd3dad21c85413983181ae",
     "grade": true,
     "grade_id": "cell-e4ab09d7a7736b62",
     "locked": true,
     "points": 0.75,
     "schema_version": 3,
     "solution": false,
     "task": false
    }
   },
   "outputs": [],
   "source": [
    "# Hidden Test 2, 3, 4\n"
   ]
  },
  {
   "cell_type": "markdown",
   "id": "fb876aef",
   "metadata": {
    "deletable": false,
    "editable": false,
    "nbgrader": {
     "cell_type": "markdown",
     "checksum": "15fb9722bcc2f021fb963f9cafc1a87e",
     "grade": false,
     "grade_id": "cell-1b7bfb18623d1ad8",
     "locked": true,
     "schema_version": 3,
     "solution": false,
     "task": false
    }
   },
   "source": [
    "#### Q2.\n",
    "\n",
    "Your character, a level 5 wizard, casts the <b><i>Fireball</b></i> spell which deals 8d6 fire damage in a 20-foot-radius sphere. \n",
    "\n",
    "Unfortunately, one of your party members was caught in the blast!\n",
    "\n",
    "Calculate the 90th percentile of the potential damage dealt to your (former) friend.\n",
    "\n",
    "<i>Note for the experienced player: Assume that your friend fails their dexterity saving throw and takes full damage.</i>"
   ]
  },
  {
   "cell_type": "code",
   "execution_count": 163,
   "id": "607f2f48",
   "metadata": {
    "ExecuteTime": {
     "end_time": "2021-07-15T14:04:06.443905Z",
     "start_time": "2021-07-15T14:04:03.651703Z"
    },
    "deletable": false,
    "nbgrader": {
     "cell_type": "code",
     "checksum": "2c2beb098fe7e0d9006765563111276f",
     "grade": false,
     "grade_id": "cell-f581d75100f6c20c",
     "locked": false,
     "schema_version": 3,
     "solution": true,
     "task": false
    }
   },
   "outputs": [
    {
     "name": "stdout",
     "output_type": "stream",
     "text": [
      "90%-ile of Fireball Damage: 34.0\n"
     ]
    }
   ],
   "source": [
    "def fireball_dmg(ptile=0.5):\n",
    "    \n",
    "    fireball_dmg_ptile = 0\n",
    "    np.random.seed(1)\n",
    "    rolls = []\n",
    "    for i in range(100000):\n",
    "        roll = np.random.choice([1,2,3,4,5,6], size=8)\n",
    "        rolls.append(sum(roll))\n",
    "    rolls = np.array(rolls)\n",
    "\n",
    "    fireball_dmg_ptile = np.quantile(rolls, ptile)\n",
    "    \n",
    "    return fireball_dmg_ptile\n",
    "\n",
    "print('90%-ile of Fireball Damage:', fireball_dmg(ptile=0.9))"
   ]
  },
  {
   "cell_type": "code",
   "execution_count": 164,
   "id": "7731016e",
   "metadata": {
    "ExecuteTime": {
     "end_time": "2021-07-15T14:04:06.448131Z",
     "start_time": "2021-07-15T14:04:06.445836Z"
    },
    "deletable": false,
    "editable": false,
    "nbgrader": {
     "cell_type": "code",
     "checksum": "e448ae41b926e41b791cf5993cd8bd37",
     "grade": true,
     "grade_id": "cell-7d135558d9551c5e",
     "locked": true,
     "points": 0.25,
     "schema_version": 3,
     "solution": false,
     "task": false
    }
   },
   "outputs": [],
   "source": [
    "# Hidden Test 1\n"
   ]
  },
  {
   "cell_type": "code",
   "execution_count": 165,
   "id": "1192fbf3",
   "metadata": {
    "ExecuteTime": {
     "end_time": "2021-07-15T14:04:14.383512Z",
     "start_time": "2021-07-15T14:04:06.450862Z"
    },
    "deletable": false,
    "editable": false,
    "nbgrader": {
     "cell_type": "code",
     "checksum": "608b2904d004dcd3f1549aa9e3d2cc66",
     "grade": true,
     "grade_id": "cell-d8cb24435397a0ce",
     "locked": true,
     "points": 0.75,
     "schema_version": 3,
     "solution": false,
     "task": false
    }
   },
   "outputs": [],
   "source": [
    "# Hidden Test 2, 3, 4\n"
   ]
  },
  {
   "cell_type": "markdown",
   "id": "50c0fad2",
   "metadata": {
    "deletable": false,
    "editable": false,
    "nbgrader": {
     "cell_type": "markdown",
     "checksum": "f8c605b38c24fb1ae5519abee053b824",
     "grade": false,
     "grade_id": "cell-13e9018073a124c2",
     "locked": true,
     "schema_version": 3,
     "solution": false,
     "task": false
    }
   },
   "source": [
    "#### Q3.\n",
    "\n",
    "Your character has just been reduced to 0 <b><i>Hit Points (HP)</b></i> (because of a fireball) and is now dying. They must now make several <b><i>Death Saving Throws</b></i> to determine their fate.\n",
    "\n",
    "Death saving throws are rolled every turn until you get three successes or three failures.\n",
    "\n",
    "To make a death saving throw, simply roll a d20. If the roll is 10 or higher, you succeed. Otherwise, you fail.\n",
    "\n",
    "On your third success, you become stable. On your third failure, you die.\n",
    "\n",
    "If you roll a 1, it counts as two failures. \n",
    "\n",
    "If you roll a 20, you regain 1 hit point. In which case, you regain consciousness and can fight once more!\n",
    "\n",
    "Calculate the probability that your character dies."
   ]
  },
  {
   "cell_type": "code",
   "execution_count": 166,
   "id": "d8a3c155",
   "metadata": {
    "ExecuteTime": {
     "end_time": "2021-07-15T14:04:44.014416Z",
     "start_time": "2021-07-15T14:04:14.386988Z"
    },
    "deletable": false,
    "nbgrader": {
     "cell_type": "code",
     "checksum": "48750ed70b11abc730e6bf2da1fd845a",
     "grade": false,
     "grade_id": "cell-5539f3dae3e9c08e",
     "locked": false,
     "schema_version": 3,
     "solution": true,
     "task": false
    }
   },
   "outputs": [
    {
     "name": "stdout",
     "output_type": "stream",
     "text": [
      "Probability that you die: 0.404409\n"
     ]
    }
   ],
   "source": [
    "def p_death():\n",
    "    p_death = 0\n",
    "    simnum = 1000\n",
    "    d20 = list(range(1,21))\n",
    "    np.random.seed(1)\n",
    "    li = []\n",
    "    for _ in range(1000000):\n",
    "        succeed = False\n",
    "        count_suc = 0\n",
    "        count_fail = 0\n",
    "        for i in range(100000000):\n",
    "            roll = np.random.choice(d20)\n",
    "            if 10 <= roll <= 19:\n",
    "                count_suc += 1\n",
    "            elif roll == 1:\n",
    "                count_fail += 2\n",
    "            elif roll == 20:\n",
    "                succeed = True\n",
    "                break\n",
    "            else:\n",
    "                count_fail += 1\n",
    "            if count_suc == 3:\n",
    "                succeed = True\n",
    "                break\n",
    "            if count_fail >= 3:\n",
    "                succeed = False\n",
    "                break \n",
    "        li.append(succeed)\n",
    "    p_death = len([i for i in li if i is False])/len(li)\n",
    "    return p_death\n",
    "\n",
    "print('Probability that you die:', p_death())"
   ]
  },
  {
   "cell_type": "markdown",
   "id": "d7a8aaa6",
   "metadata": {},
   "source": [
    "### NEVERMIND THE PORTIONS BELOW JUST MAKING ALTERNATIVE SOLS"
   ]
  },
  {
   "cell_type": "code",
   "execution_count": 167,
   "id": "831f90d5",
   "metadata": {
    "ExecuteTime": {
     "end_time": "2021-07-15T14:04:44.022336Z",
     "start_time": "2021-07-15T14:04:44.016144Z"
    }
   },
   "outputs": [
    {
     "data": {
      "text/plain": [
       "array([[ 6, 12, 13,  9, 10],\n",
       "       [12,  6, 16,  1, 17],\n",
       "       [ 2, 13,  8, 14,  7],\n",
       "       [19,  6, 19, 12, 11],\n",
       "       [15, 19,  5, 10, 18],\n",
       "       [ 1, 14, 10, 10,  8],\n",
       "       [ 2,  1, 18,  9, 14],\n",
       "       [20, 16, 11,  9,  8],\n",
       "       [ 4,  7, 18,  4,  5],\n",
       "       [18, 12, 13, 17, 14]])"
      ]
     },
     "execution_count": 167,
     "metadata": {},
     "output_type": "execute_result"
    }
   ],
   "source": [
    "trials = 10\n",
    "throws = 5\n",
    "np.random.seed(1)\n",
    "rolls = np.random.randint(1,21, size=(trials, throws))\n",
    "rolls"
   ]
  },
  {
   "cell_type": "code",
   "execution_count": 168,
   "id": "bf849dfc",
   "metadata": {
    "ExecuteTime": {
     "end_time": "2021-07-15T14:04:44.031902Z",
     "start_time": "2021-07-15T14:04:44.024568Z"
    }
   },
   "outputs": [
    {
     "data": {
      "text/plain": [
       "array([[0., 0., 0., 0., 0.],\n",
       "       [0., 0., 0., 0., 0.],\n",
       "       [0., 0., 0., 0., 0.],\n",
       "       [0., 0., 0., 0., 0.],\n",
       "       [0., 0., 0., 0., 0.],\n",
       "       [0., 0., 0., 0., 0.],\n",
       "       [0., 0., 0., 0., 0.],\n",
       "       [0., 0., 0., 0., 0.],\n",
       "       [0., 0., 0., 0., 0.],\n",
       "       [0., 0., 0., 0., 0.]])"
      ]
     },
     "execution_count": 168,
     "metadata": {},
     "output_type": "execute_result"
    }
   ],
   "source": [
    "succ = np.zeros(shape=(trials, throws))\n",
    "fails = np.zeros(shape=(trials, throws))\n",
    "\n",
    "succ"
   ]
  },
  {
   "cell_type": "code",
   "execution_count": 169,
   "id": "b6770752",
   "metadata": {
    "ExecuteTime": {
     "end_time": "2021-07-15T14:04:44.038662Z",
     "start_time": "2021-07-15T14:04:44.033366Z"
    }
   },
   "outputs": [
    {
     "data": {
      "text/plain": [
       "array([[0., 1., 1., 0., 1.],\n",
       "       [1., 0., 1., 0., 1.],\n",
       "       [0., 1., 0., 1., 0.],\n",
       "       [1., 0., 1., 1., 1.],\n",
       "       [1., 1., 0., 1., 1.],\n",
       "       [0., 1., 1., 1., 0.],\n",
       "       [0., 0., 1., 0., 1.],\n",
       "       [3., 1., 1., 0., 0.],\n",
       "       [0., 0., 1., 0., 0.],\n",
       "       [1., 1., 1., 1., 1.]])"
      ]
     },
     "execution_count": 169,
     "metadata": {},
     "output_type": "execute_result"
    }
   ],
   "source": [
    "fails[rolls<10] = 1\n",
    "succ[rolls >= 10] = 1\n",
    "succ[rolls == 20] = 3\n",
    "fails[rolls == 1] = 2\n",
    "\n",
    "succ"
   ]
  },
  {
   "cell_type": "code",
   "execution_count": 170,
   "id": "eb949837",
   "metadata": {
    "ExecuteTime": {
     "end_time": "2021-07-15T14:04:44.044475Z",
     "start_time": "2021-07-15T14:04:44.040094Z"
    }
   },
   "outputs": [
    {
     "data": {
      "text/plain": [
       "array([[1., 0., 0., 1., 0.],\n",
       "       [0., 1., 0., 2., 0.],\n",
       "       [1., 0., 1., 0., 1.],\n",
       "       [0., 1., 0., 0., 0.],\n",
       "       [0., 0., 1., 0., 0.],\n",
       "       [2., 0., 0., 0., 1.],\n",
       "       [1., 2., 0., 1., 0.],\n",
       "       [0., 0., 0., 1., 1.],\n",
       "       [1., 1., 0., 1., 1.],\n",
       "       [0., 0., 0., 0., 0.]])"
      ]
     },
     "execution_count": 170,
     "metadata": {},
     "output_type": "execute_result"
    }
   ],
   "source": [
    "fails"
   ]
  },
  {
   "cell_type": "markdown",
   "id": "db6fb9e0",
   "metadata": {},
   "source": [
    "### END OF ALTERNATIVE SOLS TRIALS"
   ]
  },
  {
   "cell_type": "code",
   "execution_count": 171,
   "id": "ac311078",
   "metadata": {
    "ExecuteTime": {
     "end_time": "2021-07-15T14:04:44.048433Z",
     "start_time": "2021-07-15T14:04:44.046046Z"
    },
    "deletable": false,
    "editable": false,
    "nbgrader": {
     "cell_type": "code",
     "checksum": "24158bc1fae297ac93a6277a56f82d37",
     "grade": true,
     "grade_id": "cell-ca4ba950a5500e97",
     "locked": true,
     "points": 1,
     "schema_version": 3,
     "solution": false,
     "task": false
    }
   },
   "outputs": [],
   "source": [
    "# Hidden Test 1\n"
   ]
  },
  {
   "cell_type": "markdown",
   "id": "bbe85f65",
   "metadata": {
    "deletable": false,
    "editable": false,
    "nbgrader": {
     "cell_type": "markdown",
     "checksum": "69947666c26fd95132ed2fbb98bdf08e",
     "grade": false,
     "grade_id": "cell-664206f94ac94dab",
     "locked": true,
     "schema_version": 3,
     "solution": false,
     "task": false
    }
   },
   "source": [
    "#### Q4.\n",
    "\n",
    "Your character, a ranger, uses a longbow to fire an arrow at a dragon. \n",
    "\n",
    "Suppose that you have a Dex modifier of +5, a proficiency bonus of +4, and that the dragon's AC is 20.\n",
    "\n",
    "In addition, one of your companions is distracting the dragon granting you <b><i>Advantage</b></i>. When making the roll, you may roll the d20 twice and take the higher result.\n",
    "\n",
    "Calculate the probability that your arrow will hit the dragon.\n",
    "\n",
    "Implement advantage as a boolean in the function below (i.e. you should still get the correct probability if the flag is set to False).\n",
    "\n",
    "<i>Note: The ability modifier used for a melee weapon attack is Strength, and the ability modifier used for a ranged weapon attack is Dexterity. Weapons that have the finesse or thrown property break this rule.</i>"
   ]
  },
  {
   "cell_type": "code",
   "execution_count": 182,
   "id": "9e76cab4",
   "metadata": {
    "ExecuteTime": {
     "end_time": "2021-07-15T14:11:09.005678Z",
     "start_time": "2021-07-15T14:10:22.634594Z"
    },
    "deletable": false,
    "nbgrader": {
     "cell_type": "code",
     "checksum": "6d97fe5dcbc3718e4c9b5628135b1ddb",
     "grade": false,
     "grade_id": "cell-ffc080e9a6e96c75",
     "locked": false,
     "schema_version": 3,
     "solution": true,
     "task": false
    }
   },
   "outputs": [
    {
     "name": "stdout",
     "output_type": "stream",
     "text": [
      "Probability of a Hit: 0.7498535\n"
     ]
    }
   ],
   "source": [
    "def p_hit_2(abl_mod=0, prof_bonus=0, target_ac=10, advantage=False):\n",
    "    np.random.seed(2)\n",
    "    \n",
    "    simnum = 2000000\n",
    "    minimum = target_ac - abl_mod - prof_bonus\n",
    "    li = []\n",
    "    \n",
    "    k = 2 if advantage is True else 1\n",
    "    \n",
    "    for _ in range(simnum):\n",
    "        roll = np.random.choice(np.arange(1,21), k)\n",
    "        li.append(max(roll))\n",
    "    \n",
    "    li = np.array(li)\n",
    "    p_hit = len(li[li>=minimum]) / simnum\n",
    "    \n",
    "    return p_hit\n",
    "\n",
    "print('Probability of a Hit:', p_hit_2(abl_mod=5, prof_bonus=4, target_ac=20, advantage=True))"
   ]
  },
  {
   "cell_type": "code",
   "execution_count": 173,
   "id": "5bb9d721",
   "metadata": {
    "ExecuteTime": {
     "end_time": "2021-07-15T14:05:06.625684Z",
     "start_time": "2021-07-15T14:05:06.622598Z"
    }
   },
   "outputs": [],
   "source": [
    "# Dex = 5\n",
    "# p_bon = 4\n",
    "\n",
    "# Dex + p_bon + roll >= 20\n",
    "\n",
    "# p(roll>=11) \n",
    "# = 1-p(roll<11)\n",
    "# = 1 - 1/2 * 1/2\n",
    "# = 1-1/4 = 0.75 or 75% for advantage = false\n",
    "\n",
    "# = 1 - 1/2 or 0.5 for advantage = true\n"
   ]
  },
  {
   "cell_type": "code",
   "execution_count": 174,
   "id": "6fd52484",
   "metadata": {
    "ExecuteTime": {
     "end_time": "2021-07-15T14:05:06.631009Z",
     "start_time": "2021-07-15T14:05:06.627153Z"
    },
    "deletable": false,
    "editable": false,
    "nbgrader": {
     "cell_type": "code",
     "checksum": "ba290e1ea774eb684c34e8ca7cc04097",
     "grade": true,
     "grade_id": "cell-ae6a8c291a2f5d31",
     "locked": true,
     "points": 0.25,
     "schema_version": 3,
     "solution": false,
     "task": false
    }
   },
   "outputs": [],
   "source": [
    "# Hidden Test 1\n"
   ]
  },
  {
   "cell_type": "code",
   "execution_count": null,
   "id": "0d133d7b",
   "metadata": {},
   "outputs": [],
   "source": []
  },
  {
   "cell_type": "code",
   "execution_count": 175,
   "id": "baa64cdb",
   "metadata": {
    "ExecuteTime": {
     "end_time": "2021-07-15T14:05:06.636540Z",
     "start_time": "2021-07-15T14:05:06.632531Z"
    },
    "deletable": false,
    "editable": false,
    "nbgrader": {
     "cell_type": "code",
     "checksum": "6dd38ea319aacaaa78ad7d9621b1c6e4",
     "grade": true,
     "grade_id": "cell-45ebd1df612342a5",
     "locked": true,
     "points": 0.75,
     "schema_version": 3,
     "solution": false,
     "task": false
    }
   },
   "outputs": [],
   "source": [
    "# Hidden Test 2, 3, 4\n"
   ]
  },
  {
   "cell_type": "markdown",
   "id": "2ed68d16",
   "metadata": {
    "deletable": false,
    "editable": false,
    "nbgrader": {
     "cell_type": "markdown",
     "checksum": "9d8a5a9f9b0267151aee29a8c57a8575",
     "grade": false,
     "grade_id": "cell-0017c7429fa94e7b",
     "locked": true,
     "schema_version": 3,
     "solution": false,
     "task": false
    }
   },
   "source": [
    "#### Q5.\n",
    "\n",
    "Your character, a level 5 wizard, casts the <b><i>Fireball</b></i> spell which deals 8d6 fire damage in a 20-foot-radius sphere. \n",
    "\n",
    "Once again, your companion was caught in the blast! This time however, they expected this to happen and were not caught unprepared. \n",
    "\n",
    "They must now make a <b><i>Dexterity Saving Throw</b></i> against your <b><i>Spell Save DC</b></i> (difficulty class). \n",
    "\n",
    "If he succeeds (rolls equal to or above the DC), he only takes half damage. Otherwise, he takes full damage.\n",
    "\n",
    "To make a saving throw, roll a d20 and add the appropriate modifiers.\n",
    "\n",
    "Suppose that your spell save DC is a 15 and that your companion has a +6 total to their Dex saving throw.\n",
    "\n",
    "Calculate the expected amount of damage done to your companion."
   ]
  },
  {
   "cell_type": "code",
   "execution_count": 176,
   "id": "a09629f0",
   "metadata": {
    "ExecuteTime": {
     "end_time": "2021-07-15T14:05:25.043271Z",
     "start_time": "2021-07-15T14:05:06.638406Z"
    },
    "deletable": false,
    "nbgrader": {
     "cell_type": "code",
     "checksum": "593c5285128023ab0d438a04e84aff75",
     "grade": false,
     "grade_id": "cell-6c74356d34609ee0",
     "locked": false,
     "schema_version": 3,
     "solution": true,
     "task": false
    }
   },
   "outputs": [
    {
     "name": "stdout",
     "output_type": "stream",
     "text": [
      "Expected Fireball Damage: 19.594123\n"
     ]
    }
   ],
   "source": [
    "def fireball_dmg_expected(spell_dc=10, dex_saving_mod=0):\n",
    "    np.random.seed(1)\n",
    "    n = 1000000\n",
    "    fireball_sim = []\n",
    "    \n",
    "    for i in range(n):\n",
    "        roll_1d20 = np.random.randint(low=1, high=21)\n",
    "        roll_8d6 = np.random.randint(low=1, high=7, size=8).sum()\n",
    "        \n",
    "        if roll_1d20 + dex_saving_mod >= spell_dc:\n",
    "            fireball_sim.append(roll_8d6/2)\n",
    "        else:\n",
    "            fireball_sim.append(roll_8d6)\n",
    "    fireball_dmg_expected = np.mean(fireball_sim)\n",
    "    \n",
    "    return fireball_dmg_expected\n",
    "\n",
    "print('Expected Fireball Damage:', fireball_dmg_expected(spell_dc=15, dex_saving_mod=6))"
   ]
  },
  {
   "cell_type": "code",
   "execution_count": null,
   "id": "bcf9e9e6",
   "metadata": {},
   "outputs": [],
   "source": []
  },
  {
   "cell_type": "code",
   "execution_count": 177,
   "id": "84b516fd",
   "metadata": {
    "ExecuteTime": {
     "end_time": "2021-07-15T14:05:25.048301Z",
     "start_time": "2021-07-15T14:05:25.045337Z"
    },
    "deletable": false,
    "editable": false,
    "nbgrader": {
     "cell_type": "code",
     "checksum": "ff9239f2748cd41d509ef0444d220057",
     "grade": true,
     "grade_id": "cell-03f50ec0ad7f258a",
     "locked": true,
     "points": 0.25,
     "schema_version": 3,
     "solution": false,
     "task": false
    }
   },
   "outputs": [],
   "source": [
    "## Hidden Test 1\n"
   ]
  },
  {
   "cell_type": "code",
   "execution_count": 178,
   "id": "6857094f",
   "metadata": {
    "ExecuteTime": {
     "end_time": "2021-07-15T14:05:25.054179Z",
     "start_time": "2021-07-15T14:05:25.049890Z"
    },
    "deletable": false,
    "editable": false,
    "nbgrader": {
     "cell_type": "code",
     "checksum": "9b062e6f715fd05f881442cfbfeade0a",
     "grade": true,
     "grade_id": "cell-c5f352cd3a741a91",
     "locked": true,
     "points": 0.75,
     "schema_version": 3,
     "solution": false,
     "task": false
    }
   },
   "outputs": [],
   "source": [
    "# Hidden Test 2, 3, 4\n"
   ]
  },
  {
   "cell_type": "code",
   "execution_count": null,
   "id": "fda0f9ef",
   "metadata": {},
   "outputs": [],
   "source": []
  }
 ],
 "metadata": {
  "kernelspec": {
   "display_name": "Python 3",
   "language": "python",
   "name": "python3"
  },
  "language_info": {
   "codemirror_mode": {
    "name": "ipython",
    "version": 3
   },
   "file_extension": ".py",
   "mimetype": "text/x-python",
   "name": "python",
   "nbconvert_exporter": "python",
   "pygments_lexer": "ipython3",
   "version": "3.8.8"
  },
  "toc": {
   "base_numbering": 1,
   "nav_menu": {},
   "number_sections": true,
   "sideBar": true,
   "skip_h1_title": false,
   "title_cell": "Table of Contents",
   "title_sidebar": "Contents",
   "toc_cell": false,
   "toc_position": {},
   "toc_section_display": true,
   "toc_window_display": false
  }
 },
 "nbformat": 4,
 "nbformat_minor": 5
}
