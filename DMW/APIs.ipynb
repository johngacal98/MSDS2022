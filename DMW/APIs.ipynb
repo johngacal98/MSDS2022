{
 "cells": [
  {
   "cell_type": "code",
   "execution_count": 1,
   "id": "2bf0a620",
   "metadata": {},
   "outputs": [],
   "source": [
    "import requests"
   ]
  },
  {
   "cell_type": "code",
   "execution_count": 3,
   "id": "a921f286",
   "metadata": {},
   "outputs": [
    {
     "data": {
      "text/plain": [
       "'{\"batchcomplete\":\"\",\"query\":{\"normalized\":[{\"from\":\"Main_page\",\"to\":\"Main page\"}],\"pages\":{\"217225\":{\"pageid\":217225,\"ns\":0,\"title\":\"Main page\"}}}}'"
      ]
     },
     "execution_count": 3,
     "metadata": {},
     "output_type": "execute_result"
    }
   ],
   "source": [
    "requests.get(\n",
    "    'https://en.wikipedia.org/w/api.php',\n",
    "    params={\n",
    "        'action': 'query',\n",
    "        'titles': 'Main_page',\n",
    "        'format': 'json'\n",
    "    }\n",
    ").text"
   ]
  },
  {
   "cell_type": "code",
   "execution_count": 5,
   "id": "b7fcad85",
   "metadata": {},
   "outputs": [
    {
     "data": {
      "text/plain": [
       "{'batchcomplete': '',\n",
       " 'query': {'normalized': [{'from': 'Main_page', 'to': 'Main page'}],\n",
       "  'pages': {'217225': {'pageid': 217225, 'ns': 0, 'title': 'Main page'}}}}"
      ]
     },
     "execution_count": 5,
     "metadata": {},
     "output_type": "execute_result"
    }
   ],
   "source": [
    "js = requests.get(\n",
    "        'https://en.wikipedia.org/w/api.php',\n",
    "        params={\n",
    "            'action': 'query',\n",
    "            'titles': 'Main_page',\n",
    "            'format': 'json'\n",
    "        }\n",
    "    ).json()\n",
    "js"
   ]
  },
  {
   "cell_type": "code",
   "execution_count": 12,
   "id": "837effdd",
   "metadata": {},
   "outputs": [
    {
     "data": {
      "text/plain": [
       "217225"
      ]
     },
     "execution_count": 12,
     "metadata": {},
     "output_type": "execute_result"
    }
   ],
   "source": [
    "js['query']['pages']['217225']['pageid']"
   ]
  },
  {
   "cell_type": "code",
   "execution_count": 14,
   "id": "7ba998ae",
   "metadata": {},
   "outputs": [
    {
     "data": {
      "text/plain": [
       "{'batchcomplete': '',\n",
       " 'query': {'normalized': [{'from': 'Main_Page', 'to': 'Main Page'},\n",
       "   {'from': 'Data_science', 'to': 'Data science'}],\n",
       "  'pages': {'35458904': {'pageid': 35458904, 'ns': 0, 'title': 'Data science'},\n",
       "   '15580374': {'pageid': 15580374, 'ns': 0, 'title': 'Main Page'}}}}"
      ]
     },
     "execution_count": 14,
     "metadata": {},
     "output_type": "execute_result"
    }
   ],
   "source": [
    "js2 = requests.get(\n",
    "        'https://en.wikipedia.org/w/api.php',\n",
    "        params={\n",
    "            'action': 'query',\n",
    "            'titles': 'Main_Page|Data_science',\n",
    "            'format': 'json'\n",
    "        }\n",
    "    ).json()\n",
    "js2"
   ]
  },
  {
   "cell_type": "code",
   "execution_count": 16,
   "id": "fe4b02f7",
   "metadata": {},
   "outputs": [
    {
     "data": {
      "text/plain": [
       "['Main Page', 'Data science']"
      ]
     },
     "execution_count": 16,
     "metadata": {},
     "output_type": "execute_result"
    }
   ],
   "source": [
    "[r['to'] for r in js2['query']['normalized']]"
   ]
  },
  {
   "cell_type": "code",
   "execution_count": 17,
   "id": "2bca943c",
   "metadata": {},
   "outputs": [],
   "source": [
    "from operator import itemgetter"
   ]
  },
  {
   "cell_type": "code",
   "execution_count": 18,
   "id": "add7ecc5",
   "metadata": {},
   "outputs": [
    {
     "data": {
      "text/plain": [
       "['Main Page', 'Data science']"
      ]
     },
     "execution_count": 18,
     "metadata": {},
     "output_type": "execute_result"
    }
   ],
   "source": [
    "list(map(itemgetter('to'), js2['query']['normalized']))"
   ]
  },
  {
   "cell_type": "code",
   "execution_count": 19,
   "id": "1fbc6dcd",
   "metadata": {},
   "outputs": [
    {
     "data": {
      "text/plain": [
       "{'batchcomplete': '',\n",
       " 'query': {'normalized': [{'from': 'Main_Page', 'to': 'Main Page'},\n",
       "   {'from': 'Data_science', 'to': 'Data science'}],\n",
       "  'pages': {'35458904': {'pageid': 35458904,\n",
       "    'ns': 0,\n",
       "    'title': 'Data science',\n",
       "    'revisions': [{'revid': 1032554507,\n",
       "      'parentid': 1032519031,\n",
       "      'user': 'GünniX',\n",
       "      'timestamp': '2021-07-08T04:47:02Z',\n",
       "      'comment': '[[MOS:SECTIONORDER]]'}]},\n",
       "   '15580374': {'pageid': 15580374,\n",
       "    'ns': 0,\n",
       "    'title': 'Main Page',\n",
       "    'revisions': [{'revid': 1004593520,\n",
       "      'parentid': 1004592788,\n",
       "      'user': 'Izno',\n",
       "      'timestamp': '2021-02-03T11:11:30Z',\n",
       "      'comment': 'Undid revision 1004592788 by [[Special:Contributions/Izno|Izno]] ([[User talk:Izno|talk]]) rv that for now'}]}}}}"
      ]
     },
     "execution_count": 19,
     "metadata": {},
     "output_type": "execute_result"
    }
   ],
   "source": [
    "js3 = requests.get(\n",
    "        'https://en.wikipedia.org/w/api.php',\n",
    "        params={\n",
    "            'action': 'query',\n",
    "            'prop': 'revisions',\n",
    "            'titles': 'Main_Page|Data_science',\n",
    "            'format': 'json'\n",
    "        }\n",
    "    ).json()\n",
    "js3"
   ]
  },
  {
   "cell_type": "code",
   "execution_count": 20,
   "id": "34f3e9e8",
   "metadata": {},
   "outputs": [
    {
     "data": {
      "text/plain": [
       "{'continue': {'rvcontinue': '20200723124331|969106878', 'continue': '||'},\n",
       " 'query': {'normalized': [{'from': 'Main_Page', 'to': 'Main Page'}],\n",
       "  'pages': {'15580374': {'pageid': 15580374,\n",
       "    'ns': 0,\n",
       "    'title': 'Main Page',\n",
       "    'revisions': [{'revid': 1004593520,\n",
       "      'parentid': 1004592788,\n",
       "      'user': 'Izno',\n",
       "      'timestamp': '2021-02-03T11:11:30Z',\n",
       "      'comment': 'Undid revision 1004592788 by [[Special:Contributions/Izno|Izno]] ([[User talk:Izno|talk]]) rv that for now'},\n",
       "     {'revid': 1004592788,\n",
       "      'parentid': 987965326,\n",
       "      'user': 'Izno',\n",
       "      'timestamp': '2021-02-03T11:03:39Z',\n",
       "      'comment': 'smh why was that there'},\n",
       "     {'revid': 987965326,\n",
       "      'parentid': 987932269,\n",
       "      'user': 'Izno',\n",
       "      'timestamp': '2020-11-10T08:18:07Z',\n",
       "      'comment': 'per MSGJ and a distinct lack of consensus. The main page even for admins is not the place for BOLD...'},\n",
       "     {'revid': 987932269,\n",
       "      'parentid': 987919396,\n",
       "      'user': 'John M Wolfson',\n",
       "      'timestamp': '2020-11-10T02:32:23Z',\n",
       "      'comment': 'POTD'},\n",
       "     {'revid': 987919396,\n",
       "      'parentid': 987903491,\n",
       "      'user': 'John M Wolfson',\n",
       "      'timestamp': '2020-11-10T00:46:58Z',\n",
       "      'comment': 'Actual POTD link per talk'},\n",
       "     {'revid': 987903491,\n",
       "      'parentid': 987899553,\n",
       "      'minor': '',\n",
       "      'user': 'John M Wolfson',\n",
       "      'timestamp': '2020-11-09T22:39:34Z',\n",
       "      'comment': 'NBSPs in span per talk'},\n",
       "     {'revid': 987899553,\n",
       "      'parentid': 986033447,\n",
       "      'user': 'John M Wolfson',\n",
       "      'timestamp': '2020-11-09T22:11:11Z',\n",
       "      'comment': 'Added \"edit\" links for sysops for each section; my skills are not sufficient to make them display on the right edge of the headers like I intended, and this is NOT tested on a mobile device'},\n",
       "     {'revid': 986033447,\n",
       "      'parentid': 969106986,\n",
       "      'user': 'Stephen',\n",
       "      'timestamp': '2020-10-29T11:51:03Z',\n",
       "      'comment': 'Arts moved to The arts'},\n",
       "     {'revid': 969106986,\n",
       "      'parentid': 969106918,\n",
       "      'user': 'The Blade of the Northern Lights',\n",
       "      'timestamp': '2020-07-23T12:44:21Z',\n",
       "      'comment': 'OK, there we go.'},\n",
       "     {'revid': 969106918,\n",
       "      'parentid': 969106878,\n",
       "      'user': 'The Blade of the Northern Lights',\n",
       "      'timestamp': '2020-07-23T12:43:46Z',\n",
       "      'comment': 'Undid revision 969106878 by [[Special:Contributions/The Blade of the Northern Lights|The Blade of the Northern Lights]] ([[User talk:The Blade of the Northern Lights|talk]])'}]}}}}"
      ]
     },
     "execution_count": 20,
     "metadata": {},
     "output_type": "execute_result"
    }
   ],
   "source": [
    "js4 = requests.get(\n",
    "        'https://en.wikipedia.org/w/api.php',\n",
    "        params={\n",
    "            'action': 'query',\n",
    "            'prop': 'revisions',\n",
    "            'rvlimit': 10,\n",
    "            'titles': 'Main_Page',\n",
    "            'format': 'json'\n",
    "        }\n",
    "    ).json()\n",
    "js4"
   ]
  },
  {
   "cell_type": "code",
   "execution_count": 22,
   "id": "b4aac169",
   "metadata": {},
   "outputs": [
    {
     "data": {
      "text/plain": [
       "{'continue': {'rvcontinue': '20200511060652|956043591', 'continue': '||'},\n",
       " 'query': {'normalized': [{'from': 'Main_Page', 'to': 'Main Page'}],\n",
       "  'pages': {'15580374': {'pageid': 15580374,\n",
       "    'ns': 0,\n",
       "    'title': 'Main Page',\n",
       "    'revisions': [{'revid': 969106878,\n",
       "      'parentid': 965245433,\n",
       "      'user': 'The Blade of the Northern Lights',\n",
       "      'timestamp': '2020-07-23T12:43:31Z',\n",
       "      'comment': 'Per request on my talkpage'},\n",
       "     {'revid': 965245433,\n",
       "      'parentid': 963906162,\n",
       "      'user': 'The Blade of the Northern Lights',\n",
       "      'timestamp': '2020-06-30T07:05:28Z',\n",
       "      'comment': \"Consistency; one pipe in this section had no spaces and one didn't\"},\n",
       "     {'revid': 963906162,\n",
       "      'parentid': 963809708,\n",
       "      'user': 'Ianblair23',\n",
       "      'timestamp': '2020-06-22T13:37:29Z',\n",
       "      'comment': 'link to [[Help:Introduction to Wikipedia]] per [[Talk:Main Page/Archive 199#that anyone can edit. 2|discussion]]'},\n",
       "     {'revid': 963809708,\n",
       "      'parentid': 956868703,\n",
       "      'user': 'The Blade of the Northern Lights',\n",
       "      'timestamp': '2020-06-21T22:52:16Z',\n",
       "      'comment': 'Rm stray space in markup'},\n",
       "     {'revid': 956868703,\n",
       "      'parentid': 956823667,\n",
       "      'user': 'Izno',\n",
       "      'timestamp': '2020-05-15T19:17:30Z',\n",
       "      'comment': 'push the rest of the non-responsive changes'},\n",
       "     {'revid': 956823667,\n",
       "      'parentid': 956737346,\n",
       "      'user': 'Izno',\n",
       "      'timestamp': '2020-05-15T14:26:24Z',\n",
       "      'comment': 'move a bit more to css'},\n",
       "     {'revid': 956737346,\n",
       "      'parentid': 956737310,\n",
       "      'user': 'Izno',\n",
       "      'timestamp': '2020-05-15T01:06:39Z',\n",
       "      'comment': 'nope'},\n",
       "     {'revid': 956737310,\n",
       "      'parentid': 956729244,\n",
       "      'user': 'Izno',\n",
       "      'timestamp': '2020-05-15T01:06:19Z',\n",
       "      'comment': 'h2s now'},\n",
       "     {'revid': 956729244,\n",
       "      'parentid': 956321551,\n",
       "      'user': 'Izno',\n",
       "      'timestamp': '2020-05-15T00:04:04Z',\n",
       "      'comment': 'integrate first (easy) cut'},\n",
       "     {'revid': 956321551,\n",
       "      'parentid': 956043591,\n",
       "      'user': 'Izno',\n",
       "      'timestamp': '2020-05-12T18:36:35Z',\n",
       "      'comment': 'switch to mine'}]}}}}"
      ]
     },
     "execution_count": 22,
     "metadata": {},
     "output_type": "execute_result"
    }
   ],
   "source": [
    "js5 = requests.get(\n",
    "        'https://en.wikipedia.org/w/api.php',\n",
    "        params={\n",
    "            'action': 'query',\n",
    "            'prop': 'revisions',\n",
    "            'rvlimit': 10,\n",
    "            'titles': 'Main_Page',\n",
    "            'format': 'json',\n",
    "            'rvcontinue': '20200723124331|969106878' ,\n",
    "            'continue': '||'\n",
    "        }\n",
    "    ).json()\n",
    "js5"
   ]
  },
  {
   "cell_type": "code",
   "execution_count": 23,
   "id": "5b9cbabe",
   "metadata": {},
   "outputs": [
    {
     "data": {
      "text/plain": [
       "{'continue': {'clcontinue': '23440|Articles_containing_Bikol-language_text',\n",
       "  'continue': '||info'},\n",
       " 'query': {'normalized': [{'from': 'Main_Page', 'to': 'Main Page'}],\n",
       "  'pages': {'35458904': {'pageid': 35458904,\n",
       "    'ns': 0,\n",
       "    'title': 'Data science',\n",
       "    'contentmodel': 'wikitext',\n",
       "    'pagelanguage': 'en',\n",
       "    'pagelanguagehtmlcode': 'en',\n",
       "    'pagelanguagedir': 'ltr',\n",
       "    'touched': '2021-07-12T05:12:17Z',\n",
       "    'lastrevid': 1032554507,\n",
       "    'length': 17460},\n",
       "   '15580374': {'pageid': 15580374,\n",
       "    'ns': 0,\n",
       "    'title': 'Main Page',\n",
       "    'contentmodel': 'wikitext',\n",
       "    'pagelanguage': 'en',\n",
       "    'pagelanguagehtmlcode': 'en',\n",
       "    'pagelanguagedir': 'ltr',\n",
       "    'touched': '2021-07-23T05:33:27Z',\n",
       "    'lastrevid': 1004593520,\n",
       "    'length': 3508},\n",
       "   '23440': {'pageid': 23440,\n",
       "    'ns': 0,\n",
       "    'title': 'Philippines',\n",
       "    'contentmodel': 'wikitext',\n",
       "    'pagelanguage': 'en',\n",
       "    'pagelanguagehtmlcode': 'en',\n",
       "    'pagelanguagedir': 'ltr',\n",
       "    'touched': '2021-07-22T14:27:37Z',\n",
       "    'lastrevid': 1034911698,\n",
       "    'length': 337874,\n",
       "    'categories': [{'ns': 14,\n",
       "      'title': 'Category:All Wikipedia articles in need of updating'},\n",
       "     {'ns': 14,\n",
       "      'title': 'Category:All Wikipedia articles written in Philippine English'},\n",
       "     {'ns': 14,\n",
       "      'title': 'Category:All articles containing potentially dated statements'},\n",
       "     {'ns': 14, 'title': 'Category:All articles lacking reliable references'},\n",
       "     {'ns': 14, 'title': 'Category:All articles with dead external links'},\n",
       "     {'ns': 14, 'title': 'Category:All articles with failed verification'},\n",
       "     {'ns': 14, 'title': 'Category:All articles with incomplete citations'},\n",
       "     {'ns': 14, 'title': 'Category:All articles with self-published sources'},\n",
       "     {'ns': 14, 'title': 'Category:Articles containing Aklan-language text'},\n",
       "     {'ns': 14,\n",
       "      'title': 'Category:Articles containing Arabic-language text'}]}}}}"
      ]
     },
     "execution_count": 23,
     "metadata": {},
     "output_type": "execute_result"
    }
   ],
   "source": [
    "js6 = requests.get(\n",
    "        'https://en.wikipedia.org/w/api.php',\n",
    "        params={\n",
    "            'action': 'query',\n",
    "            'prop': 'info|categories',\n",
    "            \n",
    "            'titles': 'Main_Page|Data science|Philippines',\n",
    "            'format': 'json',\n",
    "            \n",
    "            \n",
    "        }\n",
    "    ).json()\n",
    "js6"
   ]
  },
  {
   "cell_type": "code",
   "execution_count": 24,
   "id": "050c8b7f",
   "metadata": {},
   "outputs": [
    {
     "data": {
      "text/plain": [
       "['typhoon',\n",
       " ['Typhoon',\n",
       "  'Typhoon Haiyan',\n",
       "  'Typhoon Ketsana',\n",
       "  'Typhoon-class submarine',\n",
       "  'Typhoon Goni',\n",
       "  'Typhoon Mangkhut',\n",
       "  'Typhoon Bopha',\n",
       "  'Typhoon Vamco',\n",
       "  'Typhoon Morakot',\n",
       "  'Typhoons in the Philippines'],\n",
       " ['', '', '', '', '', '', '', '', '', ''],\n",
       " ['https://en.wikipedia.org/wiki/Typhoon',\n",
       "  'https://en.wikipedia.org/wiki/Typhoon_Haiyan',\n",
       "  'https://en.wikipedia.org/wiki/Typhoon_Ketsana',\n",
       "  'https://en.wikipedia.org/wiki/Typhoon-class_submarine',\n",
       "  'https://en.wikipedia.org/wiki/Typhoon_Goni',\n",
       "  'https://en.wikipedia.org/wiki/Typhoon_Mangkhut',\n",
       "  'https://en.wikipedia.org/wiki/Typhoon_Bopha',\n",
       "  'https://en.wikipedia.org/wiki/Typhoon_Vamco',\n",
       "  'https://en.wikipedia.org/wiki/Typhoon_Morakot',\n",
       "  'https://en.wikipedia.org/wiki/Typhoons_in_the_Philippines']]"
      ]
     },
     "execution_count": 24,
     "metadata": {},
     "output_type": "execute_result"
    }
   ],
   "source": [
    "js7 = requests.get(\n",
    "        'https://en.wikipedia.org/w/api.php',\n",
    "        params={\n",
    "            'action': 'opensearch',\n",
    "            'search': 'typhoon',\n",
    "            \n",
    "            \n",
    "            'format': 'json',\n",
    "            \n",
    "            \n",
    "        }\n",
    "    ).json()\n",
    "js7"
   ]
  },
  {
   "cell_type": "markdown",
   "id": "8fdbc8b2",
   "metadata": {},
   "source": [
    "### YOUTUBE"
   ]
  },
  {
   "cell_type": "code",
   "execution_count": 1,
   "id": "633c1e69",
   "metadata": {
    "execution": {
     "iopub.execute_input": "2021-08-02T13:32:37.310397Z",
     "iopub.status.busy": "2021-08-02T13:32:37.310397Z",
     "iopub.status.idle": "2021-08-02T13:32:37.514851Z",
     "shell.execute_reply": "2021-08-02T13:32:37.513972Z",
     "shell.execute_reply.started": "2021-08-02T13:32:37.310397Z"
    },
    "tags": []
   },
   "outputs": [],
   "source": [
    "import getpass\n",
    "import requests"
   ]
  },
  {
   "cell_type": "code",
   "execution_count": 33,
   "id": "a46603fa",
   "metadata": {},
   "outputs": [
    {
     "name": "stdout",
     "output_type": "stream",
     "text": [
      "········\n"
     ]
    },
    {
     "data": {
      "text/plain": [
       "{'kind': 'youtube#activityListResponse',\n",
       " 'etag': 'yQXeSG3MYoX82Qs-A82SaHIrMjE',\n",
       " 'items': [{'kind': 'youtube#activity',\n",
       "   'etag': 'ptHjg2tdSG5eGWMpbXkYEAOTSEM',\n",
       "   'id': 'MTUxNjE0NzU2MjI1MTYxNDc1NjIyNTAwMDIzMQ',\n",
       "   'snippet': {'publishedAt': '2021-03-03T07:23:45+00:00',\n",
       "    'channelId': 'UCkl-_L_kkCH-QibRVnEtwOg',\n",
       "    'title': 'MSDS Industry-Driven Project Capstone Interview: ADB',\n",
       "    'description': 'As a Master of Science in Data Science student, you get the opportunity to work as a junior data science consultant and collaborate with industry partners like the Asian Development Bank. This is how one MSDS capstone project team made an impact with ADB Director of Macroeconomic Research Division Abdul Abiad.\\n\\nApply now for the MSDS full-time degree program. Schedule an admissions consultation call with our team now at msds@aim.edu or visit aim.edu/msds.',\n",
       "    'thumbnails': {'default': {'url': 'https://i.ytimg.com/vi/38GkEsJSqlQ/default.jpg',\n",
       "      'width': 120,\n",
       "      'height': 90},\n",
       "     'medium': {'url': 'https://i.ytimg.com/vi/38GkEsJSqlQ/mqdefault.jpg',\n",
       "      'width': 320,\n",
       "      'height': 180},\n",
       "     'high': {'url': 'https://i.ytimg.com/vi/38GkEsJSqlQ/hqdefault.jpg',\n",
       "      'width': 480,\n",
       "      'height': 360},\n",
       "     'standard': {'url': 'https://i.ytimg.com/vi/38GkEsJSqlQ/sddefault.jpg',\n",
       "      'width': 640,\n",
       "      'height': 480},\n",
       "     'maxres': {'url': 'https://i.ytimg.com/vi/38GkEsJSqlQ/maxresdefault.jpg',\n",
       "      'width': 1280,\n",
       "      'height': 720}},\n",
       "    'channelTitle': 'Asian Institute of Management',\n",
       "    'type': 'upload'},\n",
       "   'contentDetails': {'upload': {'videoId': '38GkEsJSqlQ'}}},\n",
       "  {'kind': 'youtube#activity',\n",
       "   'etag': 'vj18EZcgZw4tCkfNA555jtiC9hc',\n",
       "   'id': 'MTUxNjE0NzU2MDAyMTYxNDc1NjAwMjAwMDY1Ng',\n",
       "   'snippet': {'publishedAt': '2021-03-03T07:20:02+00:00',\n",
       "    'channelId': 'UCkl-_L_kkCH-QibRVnEtwOg',\n",
       "    'title': 'MSDS Industry-Driven Project Capstone Interview: Proweaver',\n",
       "    'description': \"As a culminating activity, Master of Science in Data Science students are tasked to apply all their learnings and solve real-world data science projects provided by third-party stakeholders to ensure they are fully equipped and knowledgeable to work on actual use cases. Here's an interview with Atty. Joseph Ladion, CEO of digital marketing services company Proweaver PH, on how our students were able to help the organization identify valuable and actionable insights that can maximize Proweaver's business potential.\\n\\nApply now for the MSDS full-time degree program. Schedule an admissions consultation call with our team now at msds@aim.edu or visit aim.edu/msds.\",\n",
       "    'thumbnails': {'default': {'url': 'https://i.ytimg.com/vi/Kr7G6XPoWd0/default.jpg',\n",
       "      'width': 120,\n",
       "      'height': 90},\n",
       "     'medium': {'url': 'https://i.ytimg.com/vi/Kr7G6XPoWd0/mqdefault.jpg',\n",
       "      'width': 320,\n",
       "      'height': 180},\n",
       "     'high': {'url': 'https://i.ytimg.com/vi/Kr7G6XPoWd0/hqdefault.jpg',\n",
       "      'width': 480,\n",
       "      'height': 360},\n",
       "     'standard': {'url': 'https://i.ytimg.com/vi/Kr7G6XPoWd0/sddefault.jpg',\n",
       "      'width': 640,\n",
       "      'height': 480},\n",
       "     'maxres': {'url': 'https://i.ytimg.com/vi/Kr7G6XPoWd0/maxresdefault.jpg',\n",
       "      'width': 1280,\n",
       "      'height': 720}},\n",
       "    'channelTitle': 'Asian Institute of Management',\n",
       "    'type': 'upload'},\n",
       "   'contentDetails': {'upload': {'videoId': 'Kr7G6XPoWd0'}}},\n",
       "  {'kind': 'youtube#activity',\n",
       "   'etag': 'F4DToWiONyqd0Hg6ln9JPYBnYhQ',\n",
       "   'id': 'MTUxNjEyNDI5ODgzMTYxMjQyOTg4MzAwMDg5MQ',\n",
       "   'snippet': {'publishedAt': '2021-02-04T09:11:23+00:00',\n",
       "    'channelId': 'UCkl-_L_kkCH-QibRVnEtwOg',\n",
       "    'title': 'EMDRCM Live! What are the ways to prepare the youth for DRRM?',\n",
       "    'description': '\"Welcome to EMDRCM Live! Join us for a conversation on the ways to prepare the youth for DRRM.\\n\\nJoin our growing community: go.aim.edu/emdrcmlive\\n****************************\\nThe EMDRCM Live! is an EMDRCM student and alumni-led platform that aims to build a community of resilience leaders, game-changers, and champions through regular peer sharings, mentorships, and online learnings.\\n*******************************\\nJumpstart your application: go.aim.edu/emdrcmonlineapplication\\nContact us: emdrcm@aim.edu\\nVisit: devatwork.aim.edu\\n\\n#EMdrcmPOWERED #EMDRCMLeadForth #LeadInspireTransform #AIM\"',\n",
       "    'thumbnails': {'default': {'url': 'https://i.ytimg.com/vi/SdR9nkuiCDo/default.jpg',\n",
       "      'width': 120,\n",
       "      'height': 90},\n",
       "     'medium': {'url': 'https://i.ytimg.com/vi/SdR9nkuiCDo/mqdefault.jpg',\n",
       "      'width': 320,\n",
       "      'height': 180},\n",
       "     'high': {'url': 'https://i.ytimg.com/vi/SdR9nkuiCDo/hqdefault.jpg',\n",
       "      'width': 480,\n",
       "      'height': 360},\n",
       "     'standard': {'url': 'https://i.ytimg.com/vi/SdR9nkuiCDo/sddefault.jpg',\n",
       "      'width': 640,\n",
       "      'height': 480}},\n",
       "    'channelTitle': 'Asian Institute of Management',\n",
       "    'type': 'upload'},\n",
       "   'contentDetails': {'upload': {'videoId': 'SdR9nkuiCDo'}}},\n",
       "  {'kind': 'youtube#activity',\n",
       "   'etag': '0lYAcEuLE2HulxOS9oU5qorngVQ',\n",
       "   'id': 'MTUxNjEyNDI5Nzg2MTYxMjQyOTc4NjAwMDM0OQ',\n",
       "   'snippet': {'publishedAt': '2021-02-04T09:09:46+00:00',\n",
       "    'channelId': 'UCkl-_L_kkCH-QibRVnEtwOg',\n",
       "    'title': 'Special Webcast-International Day for Disaster Risk Reduction and ASEAN Day for Disaster Management',\n",
       "    'description': '',\n",
       "    'thumbnails': {'default': {'url': 'https://i.ytimg.com/vi/xtS8qil-v_4/default.jpg',\n",
       "      'width': 120,\n",
       "      'height': 90},\n",
       "     'medium': {'url': 'https://i.ytimg.com/vi/xtS8qil-v_4/mqdefault.jpg',\n",
       "      'width': 320,\n",
       "      'height': 180},\n",
       "     'high': {'url': 'https://i.ytimg.com/vi/xtS8qil-v_4/hqdefault.jpg',\n",
       "      'width': 480,\n",
       "      'height': 360},\n",
       "     'standard': {'url': 'https://i.ytimg.com/vi/xtS8qil-v_4/sddefault.jpg',\n",
       "      'width': 640,\n",
       "      'height': 480}},\n",
       "    'channelTitle': 'Asian Institute of Management',\n",
       "    'type': 'upload'},\n",
       "   'contentDetails': {'upload': {'videoId': 'xtS8qil-v_4'}}},\n",
       "  {'kind': 'youtube#activity',\n",
       "   'etag': 'mXyIUqVixRAuVxM6kOmCF7UJRdI',\n",
       "   'id': 'MTUxNjEyNDI4NDYyMTYxMjQyODQ2MjAwMDY4OA',\n",
       "   'snippet': {'publishedAt': '2021-02-04T08:47:42+00:00',\n",
       "    'channelId': 'UCkl-_L_kkCH-QibRVnEtwOg',\n",
       "    'title': 'Personal Journey: How has life been like for DRRM Officers?',\n",
       "    'description': '\"Welcome to EMDRCM Live! Join us for a conversation on the personal journey of DRRM Officers amid the pandemic.\\n\\nJoin our growing community: go.aim.edu/emdrcmlive\\n****************************\\nThe EMDRCM Live! is an EMDRCM student and alumni-led platform that aims to build a community of resilience leaders, game-changers, and champions through regular peer sharings, mentorships, and online learnings.\\n*******************************\\nJumpstart your application: go.aim.edu/emdrcmonlineapplication\\nContact us: emdrcm@aim.edu\\nVisit: devatwork.aim.edu\\n\\n#EMdrcmPOWERED #EMDRCMLeadForth #LeadInspireTransform #AIM\"',\n",
       "    'thumbnails': {'default': {'url': 'https://i.ytimg.com/vi/NIq6TZr3uvU/default.jpg',\n",
       "      'width': 120,\n",
       "      'height': 90},\n",
       "     'medium': {'url': 'https://i.ytimg.com/vi/NIq6TZr3uvU/mqdefault.jpg',\n",
       "      'width': 320,\n",
       "      'height': 180},\n",
       "     'high': {'url': 'https://i.ytimg.com/vi/NIq6TZr3uvU/hqdefault.jpg',\n",
       "      'width': 480,\n",
       "      'height': 360},\n",
       "     'standard': {'url': 'https://i.ytimg.com/vi/NIq6TZr3uvU/sddefault.jpg',\n",
       "      'width': 640,\n",
       "      'height': 480}},\n",
       "    'channelTitle': 'Asian Institute of Management',\n",
       "    'type': 'upload'},\n",
       "   'contentDetails': {'upload': {'videoId': 'NIq6TZr3uvU'}}}],\n",
       " 'nextPageToken': 'CAUQAA',\n",
       " 'pageInfo': {'totalResults': 20, 'resultsPerPage': 5}}"
      ]
     },
     "execution_count": 33,
     "metadata": {},
     "output_type": "execute_result"
    }
   ],
   "source": [
    "endpoint = 'https://www.googleapis.com/youtube/v3'\n",
    "\n",
    "requests.get('https://www.googleapis.com/youtube/v3/activities',\n",
    "    params={\n",
    "        'key': getpass.getpass(),\n",
    "        'part': 'contentDetails,snippet',\n",
    "        'channelId': 'UCkl-_L_kkCH-QibRVnEtwOg'\n",
    "    }\n",
    ").json()"
   ]
  },
  {
   "cell_type": "code",
   "execution_count": 35,
   "id": "ddda0bc1",
   "metadata": {},
   "outputs": [
    {
     "name": "stdout",
     "output_type": "stream",
     "text": [
      "········\n"
     ]
    },
    {
     "data": {
      "text/plain": [
       "{'kind': 'youtube#captionListResponse',\n",
       " 'etag': 'i2jk3PpvS_GrXirF4aYk0z86GCI',\n",
       " 'items': [{'kind': 'youtube#caption',\n",
       "   'etag': 'bFcEn3OaDzQhg6r7lWtidprpaUY',\n",
       "   'id': 'bDpVRqNWfzI9jVfvYKmEnRmMraGSby50oal4ifCQWc8=',\n",
       "   'snippet': {'videoId': 'VTKPfFo_fPY',\n",
       "    'lastUpdated': '2020-11-23T04:09:26.250487Z',\n",
       "    'trackKind': 'asr',\n",
       "    'language': 'en',\n",
       "    'name': '',\n",
       "    'audioTrackType': 'unknown',\n",
       "    'isCC': False,\n",
       "    'isLarge': False,\n",
       "    'isEasyReader': False,\n",
       "    'isDraft': False,\n",
       "    'isAutoSynced': False,\n",
       "    'status': 'serving'}}]}"
      ]
     },
     "execution_count": 35,
     "metadata": {},
     "output_type": "execute_result"
    }
   ],
   "source": [
    "endpoint = 'https://www.googleapis.com/youtube/v3'\n",
    "\n",
    "requests.get(endpoint + '/captions',\n",
    "    params={\n",
    "        'key': getpass.getpass(), \n",
    "        'part': 'snippet', \n",
    "        'videoId': 'VTKPfFo_fPY'\n",
    "    }\n",
    ").json()"
   ]
  },
  {
   "cell_type": "markdown",
   "id": "7284a662",
   "metadata": {},
   "source": [
    "### TWITTER"
   ]
  },
  {
   "cell_type": "code",
   "execution_count": 40,
   "id": "9a530f30",
   "metadata": {},
   "outputs": [
    {
     "name": "stdout",
     "output_type": "stream",
     "text": [
      "········\n"
     ]
    },
    {
     "data": {
      "text/plain": [
       "{'data': [{'id': '1418473834647212032',\n",
       "   'text': '@RajapaksaNamal @Olympics @NBCOlympics @olympicchannel @OlympicLK @Tokyo2020LiveEN Stay home aneh 😒'},\n",
       "  {'id': '1418473834089308160',\n",
       "   'text': 'RT @NineKornchid_PH: [UPDATE] 210723 - Nine (INTO1-高卿尘) Weibo Post \\n\\n\"I hope every cheer we give will empower the athletes 🎉 Looking forwar…'},\n",
       "  {'id': '1418473832688484352',\n",
       "   'text': 'RT @Tokyo2020hi: Tejaswini Sawant, a three-time Commonwealth Games gold medalist and former World Champion, is making her Olympic debut at…'},\n",
       "  {'id': '1418473831610470407',\n",
       "   'text': 'RT @Olympics: How much do you think has changed since the Tokyo 1964 games? 👀\\n\\n#StrongerTogether https://t.co/vpHJ9JRr8J'},\n",
       "  {'id': '1418473831048568833',\n",
       "   'text': 'RT @K24Tv: National rugby sevens team Shujaa leaves for Kurume City for a two-week camp ahead of the Tokyo Olympics. #TeamKenya https://t.c…'},\n",
       "  {'id': '1418473830385782793',\n",
       "   'text': 'インドネシアは2036年のオリンピックに立候補するらしいが、腹壊す選手、続出しそうだな😂\\n https://t.co/uh3n2S1lAy'},\n",
       "  {'id': '1418473830092181510',\n",
       "   'text': 'RT @narendramodi: Wishing PM @sugawitter and 🇯🇵 the very best for #Tokyo2020 @Olympics and @Paralympics. We look forward to a season of inc…'},\n",
       "  {'id': '1418473829987282944',\n",
       "   'text': '#FotoProfilBaru\\n#Tokyo2020 \\n#Olympics \\n#TeamIndonesia \\n#TeamINA \\nIndonesia bisa! 🇮🇩 https://t.co/QPWP7PpMi4'},\n",
       "  {'id': '1418473829840527367',\n",
       "   'text': 'RT @velsmells: Can you imagine writing a character for your gay epic novel where he shoves a sword up his ass and then years down the line…'},\n",
       "  {'id': '1418473827814625282',\n",
       "   'text': 'RT @narendramodi: Wishing PM @sugawitter and 🇯🇵 the very best for #Tokyo2020 @Olympics and @Paralympics. We look forward to a season of inc…'}],\n",
       " 'meta': {'newest_id': '1418473834647212032',\n",
       "  'oldest_id': '1418473827814625282',\n",
       "  'result_count': 10,\n",
       "  'next_token': 'b26v89c19zqg8o3fpdja2783yrn7ouaqc6njajfkczbst'}}"
      ]
     },
     "execution_count": 40,
     "metadata": {},
     "output_type": "execute_result"
    }
   ],
   "source": [
    "endpoint = 'https://api.twitter.com/2/tweets/search/recent'\n",
    "bearer_token = getpass.getpass()\n",
    "requests.get(endpoint,\n",
    "    params={\n",
    "        'query': 'olympics'\n",
    "    },\n",
    "    headers = {\n",
    "        'Authorization': f'Bearer {bearer_token}'\n",
    "    }\n",
    ").json()"
   ]
  },
  {
   "cell_type": "markdown",
   "id": "2be2ee42",
   "metadata": {},
   "source": [
    "### scraping data from a website that uses an internal API"
   ]
  },
  {
   "cell_type": "code",
   "execution_count": 41,
   "id": "847419d1",
   "metadata": {},
   "outputs": [],
   "source": [
    "# rewatch recording"
   ]
  }
 ],
 "metadata": {
  "kernelspec": {
   "display_name": "Python 3",
   "language": "python",
   "name": "python3"
  },
  "language_info": {
   "codemirror_mode": {
    "name": "ipython",
    "version": 3
   },
   "file_extension": ".py",
   "mimetype": "text/x-python",
   "name": "python",
   "nbconvert_exporter": "python",
   "pygments_lexer": "ipython3",
   "version": "3.8.10"
  },
  "toc-autonumbering": false
 },
 "nbformat": 4,
 "nbformat_minor": 5
}
