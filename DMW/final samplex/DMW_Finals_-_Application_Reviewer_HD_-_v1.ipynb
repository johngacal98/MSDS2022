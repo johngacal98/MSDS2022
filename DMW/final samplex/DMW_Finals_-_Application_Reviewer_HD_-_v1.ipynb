{
 "cells": [
  {
   "cell_type": "markdown",
   "id": "5cca0a04",
   "metadata": {},
   "source": [
    "# Reviewer for Finals in DMW"
   ]
  },
  {
   "cell_type": "markdown",
   "id": "3402964a",
   "metadata": {},
   "source": [
    "This reviewer is meant to supplement the Reader’s existing reviewers and notes. The author of this notebook shall not assume any responsibility on the accuracy and completeness of any information provided in this reviewer. The Reader is\n",
    "expected to exercise prudence in reading through the reviewer and is free to comment on its accuracy and\n",
    "completeness for everyone's benefit."
   ]
  },
  {
   "cell_type": "code",
   "execution_count": 1,
   "id": "06ec5043",
   "metadata": {
    "ExecuteTime": {
     "end_time": "2021-08-30T15:55:58.112762Z",
     "start_time": "2021-08-30T15:55:57.282826Z"
    }
   },
   "outputs": [],
   "source": [
    "import numpy as np\n",
    "import pandas as pd\n",
    "import matplotlib.pyplot as plt\n",
    "from numpy.testing import (assert_equal, assert_almost_equal, \n",
    "                           assert_array_equal, assert_array_almost_equal)"
   ]
  },
  {
   "cell_type": "markdown",
   "id": "67577874",
   "metadata": {},
   "source": [
    "In this reviewer, we will use the `Heart Disease UCI Dataset`. A detailed description of dataset can be accessed [here](https://towardsdatascience.com/heart-disease-uci-diagnosis-prediction-b1943ee835a7). This dataset is available in [kaggle](https://www.kaggle.com/ronitf/heart-disease-uci)."
   ]
  },
  {
   "cell_type": "markdown",
   "id": "7333f837",
   "metadata": {},
   "source": [
    "Information about the Heart Disease UCI Dataset\n",
    "----\n",
    "\n",
    "- `age`: The person’s age in years\n",
    "\n",
    "- `sex`: The person’s sex (1 = male, 0 = female)\n",
    "\n",
    "- `cp`: chest pain type\n",
    "   - Value 0: asymptomatic\n",
    "   - Value 1: atypical angina\n",
    "   - Value 2: non-anginal pain\n",
    "   - Value 3: typical angina\n",
    "    \n",
    "- `trestbps`: The person’s resting blood pressure (mm Hg on admission to the hospital)\n",
    "\n",
    "- `chol`: The person’s cholesterol measurement in mg/dl\n",
    "\n",
    "- `fbs`: The person’s fasting blood sugar (> 120 mg/dl, 1 = true; 0 = false)\n",
    "\n",
    "- `restecg`: resting electrocardiographic results\n",
    "    - Value 0: showing probable or definite left ventricular hypertrophy by Estes’ criteria\n",
    "    - Value 1: normal\n",
    "    - Value 2: having ST-T wave abnormality (T wave inversions and/or ST elevation or depression of > 0.05 mV)\n",
    "\n",
    "- `thalach`: The person’s maximum heart rate achieved\n",
    "\n",
    "- `exang`: Exercise induced angina (1 = yes; 0 = no)\n",
    "\n",
    "- `oldpeak`: ST depression induced by exercise relative to rest (‘ST’ relates to positions on the ECG plot. See more here)\n",
    "\n",
    "- `slope`: the slope of the peak exercise ST segment — 0: downsloping; 1: flat; 2: upsloping\n",
    "    - 0: downsloping\n",
    "    - 1: flat\n",
    "    - 2: upsloping\n",
    "\n",
    "- `ca`: The number of major vessels (0–3)\n",
    "\n",
    "- `thal`: A blood disorder called thalassemia Value 0: NULL (dropped from the dataset previously\n",
    "    - 1: fixed defect (no blood flow in some part of the heart)\n",
    "    - 2: normal blood flow\n",
    "    - 3: reversible defect (a blood flow is observed but it is not normal)\n",
    "\n",
    "- `target`: Heart disease (1 = no, 0= yes)"
   ]
  },
  {
   "cell_type": "code",
   "execution_count": 46,
   "id": "0eed511c",
   "metadata": {
    "ExecuteTime": {
     "end_time": "2021-08-30T16:58:55.971884Z",
     "start_time": "2021-08-30T16:58:55.941207Z"
    }
   },
   "outputs": [
    {
     "data": {
      "text/html": [
       "<div>\n",
       "<style scoped>\n",
       "    .dataframe tbody tr th:only-of-type {\n",
       "        vertical-align: middle;\n",
       "    }\n",
       "\n",
       "    .dataframe tbody tr th {\n",
       "        vertical-align: top;\n",
       "    }\n",
       "\n",
       "    .dataframe thead th {\n",
       "        text-align: right;\n",
       "    }\n",
       "</style>\n",
       "<table border=\"1\" class=\"dataframe\">\n",
       "  <thead>\n",
       "    <tr style=\"text-align: right;\">\n",
       "      <th></th>\n",
       "      <th>age</th>\n",
       "      <th>sex</th>\n",
       "      <th>cp</th>\n",
       "      <th>trestbps</th>\n",
       "      <th>chol</th>\n",
       "      <th>fbs</th>\n",
       "      <th>restecg</th>\n",
       "      <th>thalach</th>\n",
       "      <th>exang</th>\n",
       "      <th>oldpeak</th>\n",
       "      <th>slope</th>\n",
       "      <th>ca</th>\n",
       "      <th>thal</th>\n",
       "      <th>target</th>\n",
       "    </tr>\n",
       "  </thead>\n",
       "  <tbody>\n",
       "    <tr>\n",
       "      <th>0</th>\n",
       "      <td>63</td>\n",
       "      <td>1</td>\n",
       "      <td>3</td>\n",
       "      <td>145</td>\n",
       "      <td>233</td>\n",
       "      <td>1</td>\n",
       "      <td>0</td>\n",
       "      <td>150</td>\n",
       "      <td>0</td>\n",
       "      <td>2.3</td>\n",
       "      <td>0</td>\n",
       "      <td>0</td>\n",
       "      <td>1</td>\n",
       "      <td>1</td>\n",
       "    </tr>\n",
       "    <tr>\n",
       "      <th>1</th>\n",
       "      <td>37</td>\n",
       "      <td>1</td>\n",
       "      <td>2</td>\n",
       "      <td>130</td>\n",
       "      <td>250</td>\n",
       "      <td>0</td>\n",
       "      <td>1</td>\n",
       "      <td>187</td>\n",
       "      <td>0</td>\n",
       "      <td>3.5</td>\n",
       "      <td>0</td>\n",
       "      <td>0</td>\n",
       "      <td>2</td>\n",
       "      <td>1</td>\n",
       "    </tr>\n",
       "    <tr>\n",
       "      <th>2</th>\n",
       "      <td>41</td>\n",
       "      <td>0</td>\n",
       "      <td>1</td>\n",
       "      <td>130</td>\n",
       "      <td>204</td>\n",
       "      <td>0</td>\n",
       "      <td>0</td>\n",
       "      <td>172</td>\n",
       "      <td>0</td>\n",
       "      <td>1.4</td>\n",
       "      <td>2</td>\n",
       "      <td>0</td>\n",
       "      <td>2</td>\n",
       "      <td>1</td>\n",
       "    </tr>\n",
       "    <tr>\n",
       "      <th>3</th>\n",
       "      <td>56</td>\n",
       "      <td>1</td>\n",
       "      <td>1</td>\n",
       "      <td>120</td>\n",
       "      <td>236</td>\n",
       "      <td>0</td>\n",
       "      <td>1</td>\n",
       "      <td>178</td>\n",
       "      <td>0</td>\n",
       "      <td>0.8</td>\n",
       "      <td>2</td>\n",
       "      <td>0</td>\n",
       "      <td>2</td>\n",
       "      <td>1</td>\n",
       "    </tr>\n",
       "    <tr>\n",
       "      <th>4</th>\n",
       "      <td>57</td>\n",
       "      <td>0</td>\n",
       "      <td>0</td>\n",
       "      <td>120</td>\n",
       "      <td>354</td>\n",
       "      <td>0</td>\n",
       "      <td>1</td>\n",
       "      <td>163</td>\n",
       "      <td>1</td>\n",
       "      <td>0.6</td>\n",
       "      <td>2</td>\n",
       "      <td>0</td>\n",
       "      <td>2</td>\n",
       "      <td>1</td>\n",
       "    </tr>\n",
       "  </tbody>\n",
       "</table>\n",
       "</div>"
      ],
      "text/plain": [
       "   age  sex  cp  trestbps  chol  fbs  restecg  thalach  exang  oldpeak  slope  \\\n",
       "0   63    1   3       145   233    1        0      150      0      2.3      0   \n",
       "1   37    1   2       130   250    0        1      187      0      3.5      0   \n",
       "2   41    0   1       130   204    0        0      172      0      1.4      2   \n",
       "3   56    1   1       120   236    0        1      178      0      0.8      2   \n",
       "4   57    0   0       120   354    0        1      163      1      0.6      2   \n",
       "\n",
       "   ca  thal  target  \n",
       "0   0     1       1  \n",
       "1   0     2       1  \n",
       "2   0     2       1  \n",
       "3   0     2       1  \n",
       "4   0     2       1  "
      ]
     },
     "execution_count": 46,
     "metadata": {},
     "output_type": "execute_result"
    }
   ],
   "source": [
    "# read UCI Heart Disease Data\n",
    "df = pd.read_csv('heart.csv')\n",
    "df.head()"
   ]
  },
  {
   "cell_type": "code",
   "execution_count": 47,
   "id": "a65b17ba",
   "metadata": {
    "ExecuteTime": {
     "end_time": "2021-08-30T16:58:56.115509Z",
     "start_time": "2021-08-30T16:58:56.105836Z"
    }
   },
   "outputs": [
    {
     "data": {
      "text/plain": [
       "(303, 14)"
      ]
     },
     "execution_count": 47,
     "metadata": {},
     "output_type": "execute_result"
    }
   ],
   "source": [
    "# check shape of data\n",
    "df.shape"
   ]
  },
  {
   "cell_type": "code",
   "execution_count": 48,
   "id": "623b88b3",
   "metadata": {
    "ExecuteTime": {
     "end_time": "2021-08-30T16:58:56.298035Z",
     "start_time": "2021-08-30T16:58:56.274979Z"
    }
   },
   "outputs": [
    {
     "name": "stdout",
     "output_type": "stream",
     "text": [
      "<class 'pandas.core.frame.DataFrame'>\n",
      "RangeIndex: 303 entries, 0 to 302\n",
      "Data columns (total 14 columns):\n",
      " #   Column    Non-Null Count  Dtype  \n",
      "---  ------    --------------  -----  \n",
      " 0   age       303 non-null    int64  \n",
      " 1   sex       303 non-null    int64  \n",
      " 2   cp        303 non-null    int64  \n",
      " 3   trestbps  303 non-null    int64  \n",
      " 4   chol      303 non-null    int64  \n",
      " 5   fbs       303 non-null    int64  \n",
      " 6   restecg   303 non-null    int64  \n",
      " 7   thalach   303 non-null    int64  \n",
      " 8   exang     303 non-null    int64  \n",
      " 9   oldpeak   303 non-null    float64\n",
      " 10  slope     303 non-null    int64  \n",
      " 11  ca        303 non-null    int64  \n",
      " 12  thal      303 non-null    int64  \n",
      " 13  target    303 non-null    int64  \n",
      "dtypes: float64(1), int64(13)\n",
      "memory usage: 33.3 KB\n"
     ]
    }
   ],
   "source": [
    "# check data types of dataset\n",
    "df.info()"
   ]
  },
  {
   "cell_type": "markdown",
   "id": "59c6eee2",
   "metadata": {},
   "source": [
    "# Preliminaries"
   ]
  },
  {
   "cell_type": "markdown",
   "id": "9b502403",
   "metadata": {},
   "source": [
    "The following are some preliminaries that need to be done in order to perform further analysis to a given dataset:\n",
    "- Find **target feature**.\n",
    "- Identify **numeric**, **categorical**, and **bag-of-words** feature.\n",
    "- Perform `one-hot` encoding if **categorical** variables are present.\n",
    "- Perform `TF-IDF` vectorization if **bag-of-words** feature/s are present.\n",
    "- Concatenate features - we do this after we get the numeric, categorical, BoW"
   ]
  },
  {
   "cell_type": "markdown",
   "id": "2f27c933",
   "metadata": {},
   "source": [
    "Identify Numeric, Categoric, *Bag-of-Words* Columns/Features\n",
    "---\n",
    "\n",
    "|Column/Attribute Name| Data Type | Description |\n",
    "| :--- | :--- | :---- |\n",
    "| age | int | numeric |\n",
    "| sex | int |categoric|\n",
    "| cp |int | categoric |\n",
    "| trestbps |int | numeric |\n",
    "| chol | int| numeric |\n",
    "| fbs | int | categoric |\n",
    "| restecg | int| categoric |\n",
    "| thalach | int| numeric |\n",
    "| exang | int| categoric |\n",
    "| oldpeak | float | numeric |\n",
    "| slope | int| categoric |\n",
    "| ca | int| numeric |\n",
    "| thal | int| categoric |\n",
    "| target | int| categoric |"
   ]
  },
  {
   "cell_type": "code",
   "execution_count": 49,
   "id": "53184b41",
   "metadata": {
    "ExecuteTime": {
     "end_time": "2021-08-30T16:58:56.862583Z",
     "start_time": "2021-08-30T16:58:56.858373Z"
    }
   },
   "outputs": [],
   "source": [
    "# we need to perform OHE for those that are categorical figures "
   ]
  },
  {
   "cell_type": "code",
   "execution_count": 50,
   "id": "dfa11b55",
   "metadata": {
    "ExecuteTime": {
     "end_time": "2021-08-30T16:58:57.021296Z",
     "start_time": "2021-08-30T16:58:57.010341Z"
    }
   },
   "outputs": [
    {
     "data": {
      "text/plain": [
       "0      1\n",
       "1      1\n",
       "2      1\n",
       "3      1\n",
       "4      1\n",
       "      ..\n",
       "298    0\n",
       "299    0\n",
       "300    0\n",
       "301    0\n",
       "302    0\n",
       "Name: target, Length: 303, dtype: int64"
      ]
     },
     "execution_count": 50,
     "metadata": {},
     "output_type": "execute_result"
    }
   ],
   "source": [
    "# get target feature\n",
    "df_target = df['target']\n",
    "df_target"
   ]
  },
  {
   "cell_type": "code",
   "execution_count": 51,
   "id": "faf50d2e",
   "metadata": {
    "ExecuteTime": {
     "end_time": "2021-08-30T16:58:57.204423Z",
     "start_time": "2021-08-30T16:58:57.178614Z"
    }
   },
   "outputs": [
    {
     "data": {
      "text/html": [
       "<div>\n",
       "<style scoped>\n",
       "    .dataframe tbody tr th:only-of-type {\n",
       "        vertical-align: middle;\n",
       "    }\n",
       "\n",
       "    .dataframe tbody tr th {\n",
       "        vertical-align: top;\n",
       "    }\n",
       "\n",
       "    .dataframe thead th {\n",
       "        text-align: right;\n",
       "    }\n",
       "</style>\n",
       "<table border=\"1\" class=\"dataframe\">\n",
       "  <thead>\n",
       "    <tr style=\"text-align: right;\">\n",
       "      <th></th>\n",
       "      <th>age</th>\n",
       "      <th>trestbps</th>\n",
       "      <th>chol</th>\n",
       "      <th>thalach</th>\n",
       "      <th>oldpeak</th>\n",
       "      <th>ca</th>\n",
       "    </tr>\n",
       "  </thead>\n",
       "  <tbody>\n",
       "    <tr>\n",
       "      <th>0</th>\n",
       "      <td>63</td>\n",
       "      <td>145</td>\n",
       "      <td>233</td>\n",
       "      <td>150</td>\n",
       "      <td>2.3</td>\n",
       "      <td>0</td>\n",
       "    </tr>\n",
       "    <tr>\n",
       "      <th>1</th>\n",
       "      <td>37</td>\n",
       "      <td>130</td>\n",
       "      <td>250</td>\n",
       "      <td>187</td>\n",
       "      <td>3.5</td>\n",
       "      <td>0</td>\n",
       "    </tr>\n",
       "    <tr>\n",
       "      <th>2</th>\n",
       "      <td>41</td>\n",
       "      <td>130</td>\n",
       "      <td>204</td>\n",
       "      <td>172</td>\n",
       "      <td>1.4</td>\n",
       "      <td>0</td>\n",
       "    </tr>\n",
       "    <tr>\n",
       "      <th>3</th>\n",
       "      <td>56</td>\n",
       "      <td>120</td>\n",
       "      <td>236</td>\n",
       "      <td>178</td>\n",
       "      <td>0.8</td>\n",
       "      <td>0</td>\n",
       "    </tr>\n",
       "    <tr>\n",
       "      <th>4</th>\n",
       "      <td>57</td>\n",
       "      <td>120</td>\n",
       "      <td>354</td>\n",
       "      <td>163</td>\n",
       "      <td>0.6</td>\n",
       "      <td>0</td>\n",
       "    </tr>\n",
       "    <tr>\n",
       "      <th>...</th>\n",
       "      <td>...</td>\n",
       "      <td>...</td>\n",
       "      <td>...</td>\n",
       "      <td>...</td>\n",
       "      <td>...</td>\n",
       "      <td>...</td>\n",
       "    </tr>\n",
       "    <tr>\n",
       "      <th>298</th>\n",
       "      <td>57</td>\n",
       "      <td>140</td>\n",
       "      <td>241</td>\n",
       "      <td>123</td>\n",
       "      <td>0.2</td>\n",
       "      <td>0</td>\n",
       "    </tr>\n",
       "    <tr>\n",
       "      <th>299</th>\n",
       "      <td>45</td>\n",
       "      <td>110</td>\n",
       "      <td>264</td>\n",
       "      <td>132</td>\n",
       "      <td>1.2</td>\n",
       "      <td>0</td>\n",
       "    </tr>\n",
       "    <tr>\n",
       "      <th>300</th>\n",
       "      <td>68</td>\n",
       "      <td>144</td>\n",
       "      <td>193</td>\n",
       "      <td>141</td>\n",
       "      <td>3.4</td>\n",
       "      <td>2</td>\n",
       "    </tr>\n",
       "    <tr>\n",
       "      <th>301</th>\n",
       "      <td>57</td>\n",
       "      <td>130</td>\n",
       "      <td>131</td>\n",
       "      <td>115</td>\n",
       "      <td>1.2</td>\n",
       "      <td>1</td>\n",
       "    </tr>\n",
       "    <tr>\n",
       "      <th>302</th>\n",
       "      <td>57</td>\n",
       "      <td>130</td>\n",
       "      <td>236</td>\n",
       "      <td>174</td>\n",
       "      <td>0.0</td>\n",
       "      <td>1</td>\n",
       "    </tr>\n",
       "  </tbody>\n",
       "</table>\n",
       "<p>303 rows × 6 columns</p>\n",
       "</div>"
      ],
      "text/plain": [
       "     age  trestbps  chol  thalach  oldpeak  ca\n",
       "0     63       145   233      150      2.3   0\n",
       "1     37       130   250      187      3.5   0\n",
       "2     41       130   204      172      1.4   0\n",
       "3     56       120   236      178      0.8   0\n",
       "4     57       120   354      163      0.6   0\n",
       "..   ...       ...   ...      ...      ...  ..\n",
       "298   57       140   241      123      0.2   0\n",
       "299   45       110   264      132      1.2   0\n",
       "300   68       144   193      141      3.4   2\n",
       "301   57       130   131      115      1.2   1\n",
       "302   57       130   236      174      0.0   1\n",
       "\n",
       "[303 rows x 6 columns]"
      ]
     },
     "execution_count": 51,
     "metadata": {},
     "output_type": "execute_result"
    }
   ],
   "source": [
    "# get numeric columns\n",
    "col_num = ['age', 'trestbps', 'chol', 'thalach', 'oldpeak', 'ca']\n",
    "df_num = df[col_num]\n",
    "df_num"
   ]
  },
  {
   "cell_type": "code",
   "execution_count": 52,
   "id": "823fd208",
   "metadata": {
    "ExecuteTime": {
     "end_time": "2021-08-30T16:58:57.328237Z",
     "start_time": "2021-08-30T16:58:57.305025Z"
    }
   },
   "outputs": [
    {
     "name": "stdout",
     "output_type": "stream",
     "text": [
      "<class 'pandas.core.frame.DataFrame'>\n",
      "RangeIndex: 303 entries, 0 to 302\n",
      "Data columns (total 4 columns):\n",
      " #   Column   Non-Null Count  Dtype\n",
      "---  ------   --------------  -----\n",
      " 0   cp       303 non-null    int64\n",
      " 1   restecg  303 non-null    int64\n",
      " 2   slope    303 non-null    int64\n",
      " 3   thal     303 non-null    int64\n",
      "dtypes: int64(4)\n",
      "memory usage: 9.6 KB\n"
     ]
    }
   ],
   "source": [
    "# get categoric columns with three or more variables\n",
    "# we just perform OHE on those categories which has more than 2 \n",
    "col_cat_3 = ['cp', 'restecg', 'slope', 'thal']\n",
    "df_cat_3 = df[col_cat_3]\n",
    "df_cat_3\n",
    "df_cat_3.info()\n",
    "\n",
    "# the data types are still integer"
   ]
  },
  {
   "cell_type": "code",
   "execution_count": 53,
   "id": "d6a1b31a",
   "metadata": {
    "ExecuteTime": {
     "end_time": "2021-08-30T16:58:57.526966Z",
     "start_time": "2021-08-30T16:58:57.511403Z"
    }
   },
   "outputs": [
    {
     "data": {
      "text/html": [
       "<div>\n",
       "<style scoped>\n",
       "    .dataframe tbody tr th:only-of-type {\n",
       "        vertical-align: middle;\n",
       "    }\n",
       "\n",
       "    .dataframe tbody tr th {\n",
       "        vertical-align: top;\n",
       "    }\n",
       "\n",
       "    .dataframe thead th {\n",
       "        text-align: right;\n",
       "    }\n",
       "</style>\n",
       "<table border=\"1\" class=\"dataframe\">\n",
       "  <thead>\n",
       "    <tr style=\"text-align: right;\">\n",
       "      <th></th>\n",
       "      <th>cp</th>\n",
       "      <th>restecg</th>\n",
       "      <th>slope</th>\n",
       "      <th>thal</th>\n",
       "    </tr>\n",
       "  </thead>\n",
       "  <tbody>\n",
       "    <tr>\n",
       "      <th>0</th>\n",
       "      <td>3</td>\n",
       "      <td>0</td>\n",
       "      <td>0</td>\n",
       "      <td>1</td>\n",
       "    </tr>\n",
       "    <tr>\n",
       "      <th>1</th>\n",
       "      <td>2</td>\n",
       "      <td>1</td>\n",
       "      <td>0</td>\n",
       "      <td>2</td>\n",
       "    </tr>\n",
       "    <tr>\n",
       "      <th>2</th>\n",
       "      <td>1</td>\n",
       "      <td>0</td>\n",
       "      <td>2</td>\n",
       "      <td>2</td>\n",
       "    </tr>\n",
       "    <tr>\n",
       "      <th>3</th>\n",
       "      <td>1</td>\n",
       "      <td>1</td>\n",
       "      <td>2</td>\n",
       "      <td>2</td>\n",
       "    </tr>\n",
       "    <tr>\n",
       "      <th>4</th>\n",
       "      <td>0</td>\n",
       "      <td>1</td>\n",
       "      <td>2</td>\n",
       "      <td>2</td>\n",
       "    </tr>\n",
       "  </tbody>\n",
       "</table>\n",
       "</div>"
      ],
      "text/plain": [
       "   cp  restecg  slope  thal\n",
       "0   3        0      0     1\n",
       "1   2        1      0     2\n",
       "2   1        0      2     2\n",
       "3   1        1      2     2\n",
       "4   0        1      2     2"
      ]
     },
     "execution_count": 53,
     "metadata": {},
     "output_type": "execute_result"
    }
   ],
   "source": [
    "df_cat_3.head()"
   ]
  },
  {
   "cell_type": "code",
   "execution_count": 54,
   "id": "db6a5f28",
   "metadata": {
    "ExecuteTime": {
     "end_time": "2021-08-30T16:58:57.670833Z",
     "start_time": "2021-08-30T16:58:57.650451Z"
    }
   },
   "outputs": [
    {
     "data": {
      "text/html": [
       "<div>\n",
       "<style scoped>\n",
       "    .dataframe tbody tr th:only-of-type {\n",
       "        vertical-align: middle;\n",
       "    }\n",
       "\n",
       "    .dataframe tbody tr th {\n",
       "        vertical-align: top;\n",
       "    }\n",
       "\n",
       "    .dataframe thead th {\n",
       "        text-align: right;\n",
       "    }\n",
       "</style>\n",
       "<table border=\"1\" class=\"dataframe\">\n",
       "  <thead>\n",
       "    <tr style=\"text-align: right;\">\n",
       "      <th></th>\n",
       "      <th>cp</th>\n",
       "      <th>restecg</th>\n",
       "      <th>slope</th>\n",
       "      <th>thal</th>\n",
       "    </tr>\n",
       "  </thead>\n",
       "  <tbody>\n",
       "    <tr>\n",
       "      <th>0</th>\n",
       "      <td>3</td>\n",
       "      <td>0</td>\n",
       "      <td>0</td>\n",
       "      <td>1</td>\n",
       "    </tr>\n",
       "    <tr>\n",
       "      <th>1</th>\n",
       "      <td>2</td>\n",
       "      <td>1</td>\n",
       "      <td>0</td>\n",
       "      <td>2</td>\n",
       "    </tr>\n",
       "    <tr>\n",
       "      <th>2</th>\n",
       "      <td>1</td>\n",
       "      <td>0</td>\n",
       "      <td>2</td>\n",
       "      <td>2</td>\n",
       "    </tr>\n",
       "    <tr>\n",
       "      <th>3</th>\n",
       "      <td>1</td>\n",
       "      <td>1</td>\n",
       "      <td>2</td>\n",
       "      <td>2</td>\n",
       "    </tr>\n",
       "    <tr>\n",
       "      <th>4</th>\n",
       "      <td>0</td>\n",
       "      <td>1</td>\n",
       "      <td>2</td>\n",
       "      <td>2</td>\n",
       "    </tr>\n",
       "  </tbody>\n",
       "</table>\n",
       "</div>"
      ],
      "text/plain": [
       "   cp  restecg  slope  thal\n",
       "0   3        0      0     1\n",
       "1   2        1      0     2\n",
       "2   1        0      2     2\n",
       "3   1        1      2     2\n",
       "4   0        1      2     2"
      ]
     },
     "execution_count": 54,
     "metadata": {},
     "output_type": "execute_result"
    }
   ],
   "source": [
    "df_trial = pd.get_dummies(df_cat_3)\n",
    "df_trial.head()\n",
    "\n",
    "# same lang as before kasi binasa siya as integer\n",
    "# hence, we need to astype the categorical"
   ]
  },
  {
   "cell_type": "code",
   "execution_count": 55,
   "id": "e7f395e8",
   "metadata": {
    "ExecuteTime": {
     "end_time": "2021-08-30T16:58:57.869871Z",
     "start_time": "2021-08-30T16:58:57.835148Z"
    }
   },
   "outputs": [
    {
     "name": "stdout",
     "output_type": "stream",
     "text": [
      "<class 'pandas.core.frame.DataFrame'>\n",
      "RangeIndex: 303 entries, 0 to 302\n",
      "Data columns (total 4 columns):\n",
      " #   Column   Non-Null Count  Dtype   \n",
      "---  ------   --------------  -----   \n",
      " 0   cp       303 non-null    category\n",
      " 1   restecg  303 non-null    category\n",
      " 2   slope    303 non-null    category\n",
      " 3   thal     303 non-null    category\n",
      "dtypes: category(4)\n",
      "memory usage: 2.0 KB\n"
     ]
    },
    {
     "name": "stderr",
     "output_type": "stream",
     "text": [
      "<ipython-input-55-3f8390306613>:6: SettingWithCopyWarning: \n",
      "A value is trying to be set on a copy of a slice from a DataFrame.\n",
      "Try using .loc[row_indexer,col_indexer] = value instead\n",
      "\n",
      "See the caveats in the documentation: https://pandas.pydata.org/pandas-docs/stable/user_guide/indexing.html#returning-a-view-versus-a-copy\n",
      "  df_cat_3[col] = df_cat_3[col].astype('category')\n"
     ]
    }
   ],
   "source": [
    "# this is what we are going to OHE\n",
    "# I need to perform the numeric into categorical variable\n",
    "\n",
    "# since integer, make these values categorical\n",
    "for col in col_cat_3:\n",
    "    df_cat_3[col] = df_cat_3[col].astype('category')\n",
    "df_cat_3.info()"
   ]
  },
  {
   "cell_type": "code",
   "execution_count": 56,
   "id": "70fad3c7",
   "metadata": {
    "ExecuteTime": {
     "end_time": "2021-08-30T16:58:58.040868Z",
     "start_time": "2021-08-30T16:58:58.010910Z"
    }
   },
   "outputs": [
    {
     "data": {
      "text/html": [
       "<div>\n",
       "<style scoped>\n",
       "    .dataframe tbody tr th:only-of-type {\n",
       "        vertical-align: middle;\n",
       "    }\n",
       "\n",
       "    .dataframe tbody tr th {\n",
       "        vertical-align: top;\n",
       "    }\n",
       "\n",
       "    .dataframe thead th {\n",
       "        text-align: right;\n",
       "    }\n",
       "</style>\n",
       "<table border=\"1\" class=\"dataframe\">\n",
       "  <thead>\n",
       "    <tr style=\"text-align: right;\">\n",
       "      <th></th>\n",
       "      <th>cp_0</th>\n",
       "      <th>cp_1</th>\n",
       "      <th>cp_2</th>\n",
       "      <th>cp_3</th>\n",
       "      <th>restecg_0</th>\n",
       "      <th>restecg_1</th>\n",
       "      <th>restecg_2</th>\n",
       "      <th>slope_0</th>\n",
       "      <th>slope_1</th>\n",
       "      <th>slope_2</th>\n",
       "      <th>thal_0</th>\n",
       "      <th>thal_1</th>\n",
       "      <th>thal_2</th>\n",
       "      <th>thal_3</th>\n",
       "    </tr>\n",
       "  </thead>\n",
       "  <tbody>\n",
       "    <tr>\n",
       "      <th>0</th>\n",
       "      <td>0</td>\n",
       "      <td>0</td>\n",
       "      <td>0</td>\n",
       "      <td>1</td>\n",
       "      <td>1</td>\n",
       "      <td>0</td>\n",
       "      <td>0</td>\n",
       "      <td>1</td>\n",
       "      <td>0</td>\n",
       "      <td>0</td>\n",
       "      <td>0</td>\n",
       "      <td>1</td>\n",
       "      <td>0</td>\n",
       "      <td>0</td>\n",
       "    </tr>\n",
       "    <tr>\n",
       "      <th>1</th>\n",
       "      <td>0</td>\n",
       "      <td>0</td>\n",
       "      <td>1</td>\n",
       "      <td>0</td>\n",
       "      <td>0</td>\n",
       "      <td>1</td>\n",
       "      <td>0</td>\n",
       "      <td>1</td>\n",
       "      <td>0</td>\n",
       "      <td>0</td>\n",
       "      <td>0</td>\n",
       "      <td>0</td>\n",
       "      <td>1</td>\n",
       "      <td>0</td>\n",
       "    </tr>\n",
       "    <tr>\n",
       "      <th>2</th>\n",
       "      <td>0</td>\n",
       "      <td>1</td>\n",
       "      <td>0</td>\n",
       "      <td>0</td>\n",
       "      <td>1</td>\n",
       "      <td>0</td>\n",
       "      <td>0</td>\n",
       "      <td>0</td>\n",
       "      <td>0</td>\n",
       "      <td>1</td>\n",
       "      <td>0</td>\n",
       "      <td>0</td>\n",
       "      <td>1</td>\n",
       "      <td>0</td>\n",
       "    </tr>\n",
       "    <tr>\n",
       "      <th>3</th>\n",
       "      <td>0</td>\n",
       "      <td>1</td>\n",
       "      <td>0</td>\n",
       "      <td>0</td>\n",
       "      <td>0</td>\n",
       "      <td>1</td>\n",
       "      <td>0</td>\n",
       "      <td>0</td>\n",
       "      <td>0</td>\n",
       "      <td>1</td>\n",
       "      <td>0</td>\n",
       "      <td>0</td>\n",
       "      <td>1</td>\n",
       "      <td>0</td>\n",
       "    </tr>\n",
       "    <tr>\n",
       "      <th>4</th>\n",
       "      <td>1</td>\n",
       "      <td>0</td>\n",
       "      <td>0</td>\n",
       "      <td>0</td>\n",
       "      <td>0</td>\n",
       "      <td>1</td>\n",
       "      <td>0</td>\n",
       "      <td>0</td>\n",
       "      <td>0</td>\n",
       "      <td>1</td>\n",
       "      <td>0</td>\n",
       "      <td>0</td>\n",
       "      <td>1</td>\n",
       "      <td>0</td>\n",
       "    </tr>\n",
       "  </tbody>\n",
       "</table>\n",
       "</div>"
      ],
      "text/plain": [
       "   cp_0  cp_1  cp_2  cp_3  restecg_0  restecg_1  restecg_2  slope_0  slope_1  \\\n",
       "0     0     0     0     1          1          0          0        1        0   \n",
       "1     0     0     1     0          0          1          0        1        0   \n",
       "2     0     1     0     0          1          0          0        0        0   \n",
       "3     0     1     0     0          0          1          0        0        0   \n",
       "4     1     0     0     0          0          1          0        0        0   \n",
       "\n",
       "   slope_2  thal_0  thal_1  thal_2  thal_3  \n",
       "0        0       0       1       0       0  \n",
       "1        0       0       0       1       0  \n",
       "2        1       0       0       1       0  \n",
       "3        1       0       0       1       0  \n",
       "4        1       0       0       1       0  "
      ]
     },
     "execution_count": 56,
     "metadata": {},
     "output_type": "execute_result"
    }
   ],
   "source": [
    "# perform one-hot encoding on categoric columns with three or more variables\n",
    "df_cat_3_one_hot = pd.get_dummies(df_cat_3)\n",
    "df_cat_3_one_hot.head()"
   ]
  },
  {
   "cell_type": "code",
   "execution_count": 57,
   "id": "7a4ab39b",
   "metadata": {
    "ExecuteTime": {
     "end_time": "2021-08-30T16:58:58.196800Z",
     "start_time": "2021-08-30T16:58:58.178049Z"
    }
   },
   "outputs": [
    {
     "data": {
      "text/html": [
       "<div>\n",
       "<style scoped>\n",
       "    .dataframe tbody tr th:only-of-type {\n",
       "        vertical-align: middle;\n",
       "    }\n",
       "\n",
       "    .dataframe tbody tr th {\n",
       "        vertical-align: top;\n",
       "    }\n",
       "\n",
       "    .dataframe thead th {\n",
       "        text-align: right;\n",
       "    }\n",
       "</style>\n",
       "<table border=\"1\" class=\"dataframe\">\n",
       "  <thead>\n",
       "    <tr style=\"text-align: right;\">\n",
       "      <th></th>\n",
       "      <th>sex</th>\n",
       "      <th>fbs</th>\n",
       "      <th>exang</th>\n",
       "    </tr>\n",
       "  </thead>\n",
       "  <tbody>\n",
       "    <tr>\n",
       "      <th>0</th>\n",
       "      <td>1</td>\n",
       "      <td>1</td>\n",
       "      <td>0</td>\n",
       "    </tr>\n",
       "    <tr>\n",
       "      <th>1</th>\n",
       "      <td>1</td>\n",
       "      <td>0</td>\n",
       "      <td>0</td>\n",
       "    </tr>\n",
       "    <tr>\n",
       "      <th>2</th>\n",
       "      <td>0</td>\n",
       "      <td>0</td>\n",
       "      <td>0</td>\n",
       "    </tr>\n",
       "    <tr>\n",
       "      <th>3</th>\n",
       "      <td>1</td>\n",
       "      <td>0</td>\n",
       "      <td>0</td>\n",
       "    </tr>\n",
       "    <tr>\n",
       "      <th>4</th>\n",
       "      <td>0</td>\n",
       "      <td>0</td>\n",
       "      <td>1</td>\n",
       "    </tr>\n",
       "  </tbody>\n",
       "</table>\n",
       "</div>"
      ],
      "text/plain": [
       "   sex  fbs  exang\n",
       "0    1    1      0\n",
       "1    1    0      0\n",
       "2    0    0      0\n",
       "3    1    0      0\n",
       "4    0    0      1"
      ]
     },
     "execution_count": 57,
     "metadata": {},
     "output_type": "execute_result"
    }
   ],
   "source": [
    "# get categoric columns with 2 variables only\n",
    "col_cat_2 = ['sex', 'fbs', 'exang']\n",
    "df_cat_2 = df[col_cat_2]\n",
    "df_cat_2.head()"
   ]
  },
  {
   "cell_type": "code",
   "execution_count": 58,
   "id": "21bf2f45",
   "metadata": {
    "ExecuteTime": {
     "end_time": "2021-08-30T16:58:58.379186Z",
     "start_time": "2021-08-30T16:58:58.345883Z"
    }
   },
   "outputs": [
    {
     "data": {
      "text/html": [
       "<div>\n",
       "<style scoped>\n",
       "    .dataframe tbody tr th:only-of-type {\n",
       "        vertical-align: middle;\n",
       "    }\n",
       "\n",
       "    .dataframe tbody tr th {\n",
       "        vertical-align: top;\n",
       "    }\n",
       "\n",
       "    .dataframe thead th {\n",
       "        text-align: right;\n",
       "    }\n",
       "</style>\n",
       "<table border=\"1\" class=\"dataframe\">\n",
       "  <thead>\n",
       "    <tr style=\"text-align: right;\">\n",
       "      <th></th>\n",
       "      <th>age</th>\n",
       "      <th>trestbps</th>\n",
       "      <th>chol</th>\n",
       "      <th>thalach</th>\n",
       "      <th>oldpeak</th>\n",
       "      <th>ca</th>\n",
       "      <th>sex</th>\n",
       "      <th>fbs</th>\n",
       "      <th>exang</th>\n",
       "      <th>cp_0</th>\n",
       "      <th>...</th>\n",
       "      <th>restecg_1</th>\n",
       "      <th>restecg_2</th>\n",
       "      <th>slope_0</th>\n",
       "      <th>slope_1</th>\n",
       "      <th>slope_2</th>\n",
       "      <th>thal_0</th>\n",
       "      <th>thal_1</th>\n",
       "      <th>thal_2</th>\n",
       "      <th>thal_3</th>\n",
       "      <th>target</th>\n",
       "    </tr>\n",
       "  </thead>\n",
       "  <tbody>\n",
       "    <tr>\n",
       "      <th>0</th>\n",
       "      <td>63</td>\n",
       "      <td>145</td>\n",
       "      <td>233</td>\n",
       "      <td>150</td>\n",
       "      <td>2.3</td>\n",
       "      <td>0</td>\n",
       "      <td>1</td>\n",
       "      <td>1</td>\n",
       "      <td>0</td>\n",
       "      <td>0</td>\n",
       "      <td>...</td>\n",
       "      <td>0</td>\n",
       "      <td>0</td>\n",
       "      <td>1</td>\n",
       "      <td>0</td>\n",
       "      <td>0</td>\n",
       "      <td>0</td>\n",
       "      <td>1</td>\n",
       "      <td>0</td>\n",
       "      <td>0</td>\n",
       "      <td>1</td>\n",
       "    </tr>\n",
       "    <tr>\n",
       "      <th>1</th>\n",
       "      <td>37</td>\n",
       "      <td>130</td>\n",
       "      <td>250</td>\n",
       "      <td>187</td>\n",
       "      <td>3.5</td>\n",
       "      <td>0</td>\n",
       "      <td>1</td>\n",
       "      <td>0</td>\n",
       "      <td>0</td>\n",
       "      <td>0</td>\n",
       "      <td>...</td>\n",
       "      <td>1</td>\n",
       "      <td>0</td>\n",
       "      <td>1</td>\n",
       "      <td>0</td>\n",
       "      <td>0</td>\n",
       "      <td>0</td>\n",
       "      <td>0</td>\n",
       "      <td>1</td>\n",
       "      <td>0</td>\n",
       "      <td>1</td>\n",
       "    </tr>\n",
       "    <tr>\n",
       "      <th>2</th>\n",
       "      <td>41</td>\n",
       "      <td>130</td>\n",
       "      <td>204</td>\n",
       "      <td>172</td>\n",
       "      <td>1.4</td>\n",
       "      <td>0</td>\n",
       "      <td>0</td>\n",
       "      <td>0</td>\n",
       "      <td>0</td>\n",
       "      <td>0</td>\n",
       "      <td>...</td>\n",
       "      <td>0</td>\n",
       "      <td>0</td>\n",
       "      <td>0</td>\n",
       "      <td>0</td>\n",
       "      <td>1</td>\n",
       "      <td>0</td>\n",
       "      <td>0</td>\n",
       "      <td>1</td>\n",
       "      <td>0</td>\n",
       "      <td>1</td>\n",
       "    </tr>\n",
       "    <tr>\n",
       "      <th>3</th>\n",
       "      <td>56</td>\n",
       "      <td>120</td>\n",
       "      <td>236</td>\n",
       "      <td>178</td>\n",
       "      <td>0.8</td>\n",
       "      <td>0</td>\n",
       "      <td>1</td>\n",
       "      <td>0</td>\n",
       "      <td>0</td>\n",
       "      <td>0</td>\n",
       "      <td>...</td>\n",
       "      <td>1</td>\n",
       "      <td>0</td>\n",
       "      <td>0</td>\n",
       "      <td>0</td>\n",
       "      <td>1</td>\n",
       "      <td>0</td>\n",
       "      <td>0</td>\n",
       "      <td>1</td>\n",
       "      <td>0</td>\n",
       "      <td>1</td>\n",
       "    </tr>\n",
       "    <tr>\n",
       "      <th>4</th>\n",
       "      <td>57</td>\n",
       "      <td>120</td>\n",
       "      <td>354</td>\n",
       "      <td>163</td>\n",
       "      <td>0.6</td>\n",
       "      <td>0</td>\n",
       "      <td>0</td>\n",
       "      <td>0</td>\n",
       "      <td>1</td>\n",
       "      <td>1</td>\n",
       "      <td>...</td>\n",
       "      <td>1</td>\n",
       "      <td>0</td>\n",
       "      <td>0</td>\n",
       "      <td>0</td>\n",
       "      <td>1</td>\n",
       "      <td>0</td>\n",
       "      <td>0</td>\n",
       "      <td>1</td>\n",
       "      <td>0</td>\n",
       "      <td>1</td>\n",
       "    </tr>\n",
       "  </tbody>\n",
       "</table>\n",
       "<p>5 rows × 24 columns</p>\n",
       "</div>"
      ],
      "text/plain": [
       "   age  trestbps  chol  thalach  oldpeak  ca  sex  fbs  exang  cp_0  ...  \\\n",
       "0   63       145   233      150      2.3   0    1    1      0     0  ...   \n",
       "1   37       130   250      187      3.5   0    1    0      0     0  ...   \n",
       "2   41       130   204      172      1.4   0    0    0      0     0  ...   \n",
       "3   56       120   236      178      0.8   0    1    0      0     0  ...   \n",
       "4   57       120   354      163      0.6   0    0    0      1     1  ...   \n",
       "\n",
       "   restecg_1  restecg_2  slope_0  slope_1  slope_2  thal_0  thal_1  thal_2  \\\n",
       "0          0          0        1        0        0       0       1       0   \n",
       "1          1          0        1        0        0       0       0       1   \n",
       "2          0          0        0        0        1       0       0       1   \n",
       "3          1          0        0        0        1       0       0       1   \n",
       "4          1          0        0        0        1       0       0       1   \n",
       "\n",
       "   thal_3  target  \n",
       "0       0       1  \n",
       "1       0       1  \n",
       "2       0       1  \n",
       "3       0       1  \n",
       "4       0       1  \n",
       "\n",
       "[5 rows x 24 columns]"
      ]
     },
     "execution_count": 58,
     "metadata": {},
     "output_type": "execute_result"
    }
   ],
   "source": [
    "# concatenate dataframe\n",
    "df_final = pd.concat([df_num, df_cat_2, df_cat_3_one_hot, df_target], axis=1)\n",
    "df_final.head()\n",
    "\n",
    "# we added the df target first because IR muna\n",
    "# we should remove this pag nasa SVD na tayo"
   ]
  },
  {
   "cell_type": "code",
   "execution_count": 59,
   "id": "213db75c",
   "metadata": {
    "ExecuteTime": {
     "end_time": "2021-08-30T16:58:58.547648Z",
     "start_time": "2021-08-30T16:58:58.521663Z"
    }
   },
   "outputs": [
    {
     "name": "stdout",
     "output_type": "stream",
     "text": [
      "<class 'pandas.core.frame.DataFrame'>\n",
      "RangeIndex: 303 entries, 0 to 302\n",
      "Data columns (total 24 columns):\n",
      " #   Column     Non-Null Count  Dtype  \n",
      "---  ------     --------------  -----  \n",
      " 0   age        303 non-null    int64  \n",
      " 1   trestbps   303 non-null    int64  \n",
      " 2   chol       303 non-null    int64  \n",
      " 3   thalach    303 non-null    int64  \n",
      " 4   oldpeak    303 non-null    float64\n",
      " 5   ca         303 non-null    int64  \n",
      " 6   sex        303 non-null    int64  \n",
      " 7   fbs        303 non-null    int64  \n",
      " 8   exang      303 non-null    int64  \n",
      " 9   cp_0       303 non-null    uint8  \n",
      " 10  cp_1       303 non-null    uint8  \n",
      " 11  cp_2       303 non-null    uint8  \n",
      " 12  cp_3       303 non-null    uint8  \n",
      " 13  restecg_0  303 non-null    uint8  \n",
      " 14  restecg_1  303 non-null    uint8  \n",
      " 15  restecg_2  303 non-null    uint8  \n",
      " 16  slope_0    303 non-null    uint8  \n",
      " 17  slope_1    303 non-null    uint8  \n",
      " 18  slope_2    303 non-null    uint8  \n",
      " 19  thal_0     303 non-null    uint8  \n",
      " 20  thal_1     303 non-null    uint8  \n",
      " 21  thal_2     303 non-null    uint8  \n",
      " 22  thal_3     303 non-null    uint8  \n",
      " 23  target     303 non-null    int64  \n",
      "dtypes: float64(1), int64(9), uint8(14)\n",
      "memory usage: 27.9 KB\n"
     ]
    }
   ],
   "source": [
    "df_final.info()\n",
    "\n",
    "# we have 24 columns\n",
    "# without the target, we have 23 columns"
   ]
  },
  {
   "cell_type": "markdown",
   "id": "4fabce89",
   "metadata": {},
   "source": [
    "# Information Retrieval"
   ]
  },
  {
   "cell_type": "markdown",
   "id": "573207a0",
   "metadata": {},
   "source": [
    "## Practice Problem 1"
   ]
  },
  {
   "cell_type": "markdown",
   "id": "cae39c05",
   "metadata": {},
   "source": [
    "Create a function `closest_euc_p1` that accepts `df_final` and returns the 10 patient `id`s (this is the index) by increasing Euclidean distance from patient `id` `200`, precision and recall. A result is considered relevant if it comes from the same `target` as the query."
   ]
  },
  {
   "cell_type": "code",
   "execution_count": 60,
   "id": "f3e53625",
   "metadata": {
    "ExecuteTime": {
     "end_time": "2021-08-30T16:58:59.239076Z",
     "start_time": "2021-08-30T16:58:59.227269Z"
    }
   },
   "outputs": [
    {
     "data": {
      "text/plain": [
       "array([ 44., 110., 197., 177.,   0.,   1.,   1.,   0.,   0.,   1.,   0.,\n",
       "         0.,   0.,   1.,   0.,   0.,   0.,   0.,   1.,   0.,   0.,   1.,\n",
       "         0.,   0.])"
      ]
     },
     "execution_count": 60,
     "metadata": {},
     "output_type": "execute_result"
    }
   ],
   "source": [
    "# This is an IR problem -- included yung target feature!\n",
    "query = df_final.loc[200].to_numpy()\n",
    "# query.shape\n",
    "query\n",
    "\n",
    "# this is the features of patient 200\n",
    "# we do this so that we know who is patient 200?"
   ]
  },
  {
   "cell_type": "code",
   "execution_count": 61,
   "id": "7493a107",
   "metadata": {
    "ExecuteTime": {
     "end_time": "2021-08-30T16:58:59.406937Z",
     "start_time": "2021-08-30T16:58:59.402951Z"
    }
   },
   "outputs": [],
   "source": [
    "# included yung target feature!"
   ]
  },
  {
   "cell_type": "code",
   "execution_count": 62,
   "id": "01b98df2",
   "metadata": {
    "ExecuteTime": {
     "end_time": "2021-08-30T16:58:59.581585Z",
     "start_time": "2021-08-30T16:58:59.577692Z"
    }
   },
   "outputs": [],
   "source": [
    "# FOR COSINE\n",
    "# if cosine distance = 0 --> similar\n",
    "# if consie similarity = 0 --> dissimilar (opposite of cosine distance)"
   ]
  },
  {
   "cell_type": "code",
   "execution_count": 63,
   "id": "7bf6475d",
   "metadata": {
    "ExecuteTime": {
     "end_time": "2021-08-30T16:58:59.757388Z",
     "start_time": "2021-08-30T16:58:59.738745Z"
    }
   },
   "outputs": [],
   "source": [
    "from scipy.spatial.distance import euclidean, cityblock, cosine\n",
    "# the cosine above is cosine distance\n",
    "\n",
    "def nearest_k(query, objects, k, dist):\n",
    "    \"\"\"Return the indices to objects most similar to query\"\"\"\n",
    "    return np.argsort([dist(query, obj) for obj in objects])[:k]\n",
    "\n",
    "def closest_euc_p1(df_final):\n",
    "    # get query\n",
    "    query = df_final.loc[200].to_numpy() # this is the patient id\n",
    "    \n",
    "    # get actual\n",
    "    actual = query[23] # the patient does not have a heart disease - TARGET\n",
    "    \n",
    "    # get objects\n",
    "    objects = df_final.to_numpy() # search the whole dataset\n",
    "    \n",
    "    # get all labels - to compare si patient 200 with all of these\n",
    "    all_labels = (df_final.to_numpy())[:, 23] # this is the target label\n",
    "    all_labels = np.array(all_labels)\n",
    "    \n",
    "    # get res - this is the function from above\n",
    "    res = nearest_k(query, objects, 10, euclidean)\n",
    "    \n",
    "    # we now compare the precision and recall\n",
    "    \n",
    "    # get relevant res\n",
    "    rel = 0\n",
    "    for i in res:\n",
    "        if all_labels[i] == actual:\n",
    "            rel += 1\n",
    "        else:\n",
    "            rel += 0\n",
    "    \n",
    "    # get irrelevant res\n",
    "    irr = 0\n",
    "    for i in range(len(all_labels)):\n",
    "        if (all_labels[i] != actual) and (i not in res):\n",
    "            irr += 1\n",
    "        else:\n",
    "            irr += 0\n",
    "    \n",
    "    # get tp, fp, fn, tn\n",
    "    tp = rel\n",
    "    fp = len(res) - tp\n",
    "    fn = len(all_labels) - len(res) - irr\n",
    "    tn = irr\n",
    "    \n",
    "    # calculate for precision and recall\n",
    "    prec = tp/(tp + fp)\n",
    "    rec = tp/(tp + fn)\n",
    "    return res, prec, rec"
   ]
  },
  {
   "cell_type": "code",
   "execution_count": 64,
   "id": "03be4995",
   "metadata": {
    "ExecuteTime": {
     "end_time": "2021-08-30T16:58:59.936273Z",
     "start_time": "2021-08-30T16:58:59.914041Z"
    }
   },
   "outputs": [
    {
     "data": {
      "text/plain": [
       "(array([200, 118,  30, 157, 142, 124,  58,  62, 113,   2]),\n",
       " 0.1,\n",
       " 0.00641025641025641)"
      ]
     },
     "execution_count": 64,
     "metadata": {},
     "output_type": "execute_result"
    }
   ],
   "source": [
    "res, prec, rec = closest_euc_p1(df_final)\n",
    "res, prec, rec\n",
    "\n",
    "# the array contains the indices of the most similar results\n",
    "## descending -- is the most similar to 200\n",
    "\n",
    "# we have low prec, rec\n",
    "# could it be that the they are not normalized/standardized?"
   ]
  },
  {
   "cell_type": "code",
   "execution_count": 65,
   "id": "a98b7d16",
   "metadata": {
    "ExecuteTime": {
     "end_time": "2021-08-30T16:59:00.396436Z",
     "start_time": "2021-08-30T16:59:00.363265Z"
    }
   },
   "outputs": [
    {
     "data": {
      "text/html": [
       "<div>\n",
       "<style scoped>\n",
       "    .dataframe tbody tr th:only-of-type {\n",
       "        vertical-align: middle;\n",
       "    }\n",
       "\n",
       "    .dataframe tbody tr th {\n",
       "        vertical-align: top;\n",
       "    }\n",
       "\n",
       "    .dataframe thead th {\n",
       "        text-align: right;\n",
       "    }\n",
       "</style>\n",
       "<table border=\"1\" class=\"dataframe\">\n",
       "  <thead>\n",
       "    <tr style=\"text-align: right;\">\n",
       "      <th></th>\n",
       "      <th>age</th>\n",
       "      <th>trestbps</th>\n",
       "      <th>chol</th>\n",
       "      <th>thalach</th>\n",
       "      <th>oldpeak</th>\n",
       "      <th>ca</th>\n",
       "      <th>sex</th>\n",
       "      <th>fbs</th>\n",
       "      <th>exang</th>\n",
       "      <th>cp_0</th>\n",
       "      <th>...</th>\n",
       "      <th>restecg_1</th>\n",
       "      <th>restecg_2</th>\n",
       "      <th>slope_0</th>\n",
       "      <th>slope_1</th>\n",
       "      <th>slope_2</th>\n",
       "      <th>thal_0</th>\n",
       "      <th>thal_1</th>\n",
       "      <th>thal_2</th>\n",
       "      <th>thal_3</th>\n",
       "      <th>target</th>\n",
       "    </tr>\n",
       "  </thead>\n",
       "  <tbody>\n",
       "    <tr>\n",
       "      <th>200</th>\n",
       "      <td>44</td>\n",
       "      <td>110</td>\n",
       "      <td>197</td>\n",
       "      <td>177</td>\n",
       "      <td>0.0</td>\n",
       "      <td>1</td>\n",
       "      <td>1</td>\n",
       "      <td>0</td>\n",
       "      <td>0</td>\n",
       "      <td>1</td>\n",
       "      <td>...</td>\n",
       "      <td>0</td>\n",
       "      <td>0</td>\n",
       "      <td>0</td>\n",
       "      <td>0</td>\n",
       "      <td>1</td>\n",
       "      <td>0</td>\n",
       "      <td>0</td>\n",
       "      <td>1</td>\n",
       "      <td>0</td>\n",
       "      <td>0</td>\n",
       "    </tr>\n",
       "    <tr>\n",
       "      <th>118</th>\n",
       "      <td>46</td>\n",
       "      <td>105</td>\n",
       "      <td>204</td>\n",
       "      <td>172</td>\n",
       "      <td>0.0</td>\n",
       "      <td>0</td>\n",
       "      <td>0</td>\n",
       "      <td>0</td>\n",
       "      <td>0</td>\n",
       "      <td>0</td>\n",
       "      <td>...</td>\n",
       "      <td>1</td>\n",
       "      <td>0</td>\n",
       "      <td>0</td>\n",
       "      <td>0</td>\n",
       "      <td>1</td>\n",
       "      <td>0</td>\n",
       "      <td>0</td>\n",
       "      <td>1</td>\n",
       "      <td>0</td>\n",
       "      <td>1</td>\n",
       "    </tr>\n",
       "    <tr>\n",
       "      <th>30</th>\n",
       "      <td>41</td>\n",
       "      <td>105</td>\n",
       "      <td>198</td>\n",
       "      <td>168</td>\n",
       "      <td>0.0</td>\n",
       "      <td>1</td>\n",
       "      <td>0</td>\n",
       "      <td>0</td>\n",
       "      <td>0</td>\n",
       "      <td>0</td>\n",
       "      <td>...</td>\n",
       "      <td>1</td>\n",
       "      <td>0</td>\n",
       "      <td>0</td>\n",
       "      <td>0</td>\n",
       "      <td>1</td>\n",
       "      <td>0</td>\n",
       "      <td>0</td>\n",
       "      <td>1</td>\n",
       "      <td>0</td>\n",
       "      <td>1</td>\n",
       "    </tr>\n",
       "    <tr>\n",
       "      <th>157</th>\n",
       "      <td>35</td>\n",
       "      <td>122</td>\n",
       "      <td>192</td>\n",
       "      <td>174</td>\n",
       "      <td>0.0</td>\n",
       "      <td>0</td>\n",
       "      <td>1</td>\n",
       "      <td>0</td>\n",
       "      <td>0</td>\n",
       "      <td>0</td>\n",
       "      <td>...</td>\n",
       "      <td>1</td>\n",
       "      <td>0</td>\n",
       "      <td>0</td>\n",
       "      <td>0</td>\n",
       "      <td>1</td>\n",
       "      <td>0</td>\n",
       "      <td>0</td>\n",
       "      <td>1</td>\n",
       "      <td>0</td>\n",
       "      <td>1</td>\n",
       "    </tr>\n",
       "    <tr>\n",
       "      <th>142</th>\n",
       "      <td>42</td>\n",
       "      <td>120</td>\n",
       "      <td>209</td>\n",
       "      <td>173</td>\n",
       "      <td>0.0</td>\n",
       "      <td>0</td>\n",
       "      <td>0</td>\n",
       "      <td>0</td>\n",
       "      <td>0</td>\n",
       "      <td>0</td>\n",
       "      <td>...</td>\n",
       "      <td>1</td>\n",
       "      <td>0</td>\n",
       "      <td>0</td>\n",
       "      <td>1</td>\n",
       "      <td>0</td>\n",
       "      <td>0</td>\n",
       "      <td>0</td>\n",
       "      <td>1</td>\n",
       "      <td>0</td>\n",
       "      <td>1</td>\n",
       "    </tr>\n",
       "    <tr>\n",
       "      <th>124</th>\n",
       "      <td>39</td>\n",
       "      <td>94</td>\n",
       "      <td>199</td>\n",
       "      <td>179</td>\n",
       "      <td>0.0</td>\n",
       "      <td>0</td>\n",
       "      <td>0</td>\n",
       "      <td>0</td>\n",
       "      <td>0</td>\n",
       "      <td>0</td>\n",
       "      <td>...</td>\n",
       "      <td>1</td>\n",
       "      <td>0</td>\n",
       "      <td>0</td>\n",
       "      <td>0</td>\n",
       "      <td>1</td>\n",
       "      <td>0</td>\n",
       "      <td>0</td>\n",
       "      <td>1</td>\n",
       "      <td>0</td>\n",
       "      <td>1</td>\n",
       "    </tr>\n",
       "    <tr>\n",
       "      <th>58</th>\n",
       "      <td>34</td>\n",
       "      <td>118</td>\n",
       "      <td>182</td>\n",
       "      <td>174</td>\n",
       "      <td>0.0</td>\n",
       "      <td>0</td>\n",
       "      <td>1</td>\n",
       "      <td>0</td>\n",
       "      <td>0</td>\n",
       "      <td>0</td>\n",
       "      <td>...</td>\n",
       "      <td>0</td>\n",
       "      <td>0</td>\n",
       "      <td>0</td>\n",
       "      <td>0</td>\n",
       "      <td>1</td>\n",
       "      <td>0</td>\n",
       "      <td>0</td>\n",
       "      <td>1</td>\n",
       "      <td>0</td>\n",
       "      <td>1</td>\n",
       "    </tr>\n",
       "    <tr>\n",
       "      <th>62</th>\n",
       "      <td>52</td>\n",
       "      <td>118</td>\n",
       "      <td>186</td>\n",
       "      <td>190</td>\n",
       "      <td>0.0</td>\n",
       "      <td>0</td>\n",
       "      <td>1</td>\n",
       "      <td>0</td>\n",
       "      <td>0</td>\n",
       "      <td>0</td>\n",
       "      <td>...</td>\n",
       "      <td>0</td>\n",
       "      <td>0</td>\n",
       "      <td>0</td>\n",
       "      <td>1</td>\n",
       "      <td>0</td>\n",
       "      <td>0</td>\n",
       "      <td>1</td>\n",
       "      <td>0</td>\n",
       "      <td>0</td>\n",
       "      <td>1</td>\n",
       "    </tr>\n",
       "    <tr>\n",
       "      <th>113</th>\n",
       "      <td>43</td>\n",
       "      <td>110</td>\n",
       "      <td>211</td>\n",
       "      <td>161</td>\n",
       "      <td>0.0</td>\n",
       "      <td>0</td>\n",
       "      <td>1</td>\n",
       "      <td>0</td>\n",
       "      <td>0</td>\n",
       "      <td>1</td>\n",
       "      <td>...</td>\n",
       "      <td>1</td>\n",
       "      <td>0</td>\n",
       "      <td>0</td>\n",
       "      <td>0</td>\n",
       "      <td>1</td>\n",
       "      <td>0</td>\n",
       "      <td>0</td>\n",
       "      <td>0</td>\n",
       "      <td>1</td>\n",
       "      <td>1</td>\n",
       "    </tr>\n",
       "    <tr>\n",
       "      <th>2</th>\n",
       "      <td>41</td>\n",
       "      <td>130</td>\n",
       "      <td>204</td>\n",
       "      <td>172</td>\n",
       "      <td>1.4</td>\n",
       "      <td>0</td>\n",
       "      <td>0</td>\n",
       "      <td>0</td>\n",
       "      <td>0</td>\n",
       "      <td>0</td>\n",
       "      <td>...</td>\n",
       "      <td>0</td>\n",
       "      <td>0</td>\n",
       "      <td>0</td>\n",
       "      <td>0</td>\n",
       "      <td>1</td>\n",
       "      <td>0</td>\n",
       "      <td>0</td>\n",
       "      <td>1</td>\n",
       "      <td>0</td>\n",
       "      <td>1</td>\n",
       "    </tr>\n",
       "  </tbody>\n",
       "</table>\n",
       "<p>10 rows × 24 columns</p>\n",
       "</div>"
      ],
      "text/plain": [
       "     age  trestbps  chol  thalach  oldpeak  ca  sex  fbs  exang  cp_0  ...  \\\n",
       "200   44       110   197      177      0.0   1    1    0      0     1  ...   \n",
       "118   46       105   204      172      0.0   0    0    0      0     0  ...   \n",
       "30    41       105   198      168      0.0   1    0    0      0     0  ...   \n",
       "157   35       122   192      174      0.0   0    1    0      0     0  ...   \n",
       "142   42       120   209      173      0.0   0    0    0      0     0  ...   \n",
       "124   39        94   199      179      0.0   0    0    0      0     0  ...   \n",
       "58    34       118   182      174      0.0   0    1    0      0     0  ...   \n",
       "62    52       118   186      190      0.0   0    1    0      0     0  ...   \n",
       "113   43       110   211      161      0.0   0    1    0      0     1  ...   \n",
       "2     41       130   204      172      1.4   0    0    0      0     0  ...   \n",
       "\n",
       "     restecg_1  restecg_2  slope_0  slope_1  slope_2  thal_0  thal_1  thal_2  \\\n",
       "200          0          0        0        0        1       0       0       1   \n",
       "118          1          0        0        0        1       0       0       1   \n",
       "30           1          0        0        0        1       0       0       1   \n",
       "157          1          0        0        0        1       0       0       1   \n",
       "142          1          0        0        1        0       0       0       1   \n",
       "124          1          0        0        0        1       0       0       1   \n",
       "58           0          0        0        0        1       0       0       1   \n",
       "62           0          0        0        1        0       0       1       0   \n",
       "113          1          0        0        0        1       0       0       0   \n",
       "2            0          0        0        0        1       0       0       1   \n",
       "\n",
       "     thal_3  target  \n",
       "200       0       0  \n",
       "118       0       1  \n",
       "30        0       1  \n",
       "157       0       1  \n",
       "142       0       1  \n",
       "124       0       1  \n",
       "58        0       1  \n",
       "62        0       1  \n",
       "113       1       1  \n",
       "2         0       1  \n",
       "\n",
       "[10 rows x 24 columns]"
      ]
     },
     "execution_count": 65,
     "metadata": {},
     "output_type": "execute_result"
    }
   ],
   "source": [
    "df_final.loc[res]\n",
    "\n",
    "# isa lang ang tama nya, kaya 0.1 lang yung precision"
   ]
  },
  {
   "cell_type": "code",
   "execution_count": 66,
   "id": "609a50ae",
   "metadata": {
    "ExecuteTime": {
     "end_time": "2021-08-30T16:59:00.580709Z",
     "start_time": "2021-08-30T16:59:00.576821Z"
    }
   },
   "outputs": [],
   "source": [
    "# we need to normalize\n",
    "# standardize scaler --> it is good for data that has outliers - pero di siya okay for NMF (because we cannot have neg values)\n",
    "# min-max --> works best for bounded values [if we know the bounds of the features], may be used for NMF\n",
    "## but know that there are drawbacks "
   ]
  },
  {
   "cell_type": "markdown",
   "id": "a60387c7",
   "metadata": {},
   "source": [
    "## Practice Problem 2"
   ]
  },
  {
   "cell_type": "markdown",
   "id": "bbf6c770",
   "metadata": {},
   "source": [
    "Create a function `compute_auc_euc_p2` that accepts `df_final` and returns the AUC distance when the patient `id` `200` is the query and Euclidean distance is the metric. A result is considered relevant if it comes from the same `target` as the query."
   ]
  },
  {
   "cell_type": "code",
   "execution_count": 67,
   "id": "afd434a5",
   "metadata": {
    "ExecuteTime": {
     "end_time": "2021-08-30T16:59:01.295161Z",
     "start_time": "2021-08-30T16:59:01.291328Z"
    }
   },
   "outputs": [],
   "source": [
    "# AUC -- area under the curve of the PR curve\n",
    "# The ideal value of AUC is 1"
   ]
  },
  {
   "cell_type": "code",
   "execution_count": 72,
   "id": "dd23a966",
   "metadata": {
    "ExecuteTime": {
     "end_time": "2021-08-30T16:59:34.440252Z",
     "start_time": "2021-08-30T16:59:34.422054Z"
    }
   },
   "outputs": [],
   "source": [
    "def get_confusion(actual, results, all_labels):\n",
    "    index_labels = set(range(len(all_labels)))\n",
    "    index_results = set(results)\n",
    "    index_non = list(index_labels - index_results)\n",
    "    label_non = []\n",
    "    for i in index_non:\n",
    "        label_non.append(all_labels[i])\n",
    "    label_res = []\n",
    "    for i in results:\n",
    "        label_res.append(all_labels[i])\n",
    "    TP = 0\n",
    "    for i in label_res:\n",
    "        if i == actual:\n",
    "            TP += 1\n",
    "    FP = len(label_res) - TP\n",
    "    FN = 0\n",
    "    for i in label_non:\n",
    "        if i == actual:\n",
    "            FN += 1\n",
    "    TN = len(label_non) - FN\n",
    "    matrix = pd.DataFrame({'relevant': [TP, FN], 'irrelevant':[FP, TN]})\n",
    "    matrix.index = ['relevant', 'irrelevant']\n",
    "    return matrix\n",
    "\n",
    "def precision(confusion):\n",
    "    r = confusion.iloc[0, 0]\n",
    "    k = r + confusion.iloc[0, 1]\n",
    "    p = r/k\n",
    "    return p\n",
    "\n",
    "def recall(confusion):\n",
    "    r = confusion.iloc[0, 0]\n",
    "    n = r + confusion.iloc[1, 0]\n",
    "    rec = r/n\n",
    "    return rec\n",
    "\n",
    "def auc_pr(query, objects, dist, actual, all_labels):\n",
    "    \"\"\"Return the area under the PR curve\"\"\"\n",
    "    init_rec, init_prec = [0], [1]\n",
    "    k_res = nearest_k(query, objects, len(objects), dist)\n",
    "    \n",
    "    for k in range(1, len(objects) + 1):\n",
    "        results = k_res[:k]\n",
    "        confusion = get_confusion(actual, results, all_labels)\n",
    "        init_rec.append(recall(confusion))\n",
    "        init_prec.append(precision(confusion))\n",
    "        \n",
    "    area_curve = np.trapz(init_prec, init_rec)\n",
    "    return area_curve"
   ]
  },
  {
   "cell_type": "code",
   "execution_count": 73,
   "id": "4ed0f861",
   "metadata": {
    "ExecuteTime": {
     "end_time": "2021-08-30T16:59:38.283976Z",
     "start_time": "2021-08-30T16:59:38.275838Z"
    }
   },
   "outputs": [],
   "source": [
    "def compute_auc_euc_p2(df_final):\n",
    "    # get query\n",
    "    query = df_final.loc[200].to_numpy()\n",
    "    \n",
    "    # get actual\n",
    "    actual = query[23]\n",
    "    \n",
    "    # get objects\n",
    "    objects = df_final.to_numpy()\n",
    "    \n",
    "    # get all labels\n",
    "    all_labels = (df_final.to_numpy())[:, 23]\n",
    "    all_labels = np.array(all_labels)\n",
    "    \n",
    "    # get the area under the curve using auc_pr\n",
    "    auc = auc_pr(query, objects, euclidean, actual, all_labels)\n",
    "    return auc"
   ]
  },
  {
   "cell_type": "code",
   "execution_count": 75,
   "id": "a92118c4",
   "metadata": {
    "ExecuteTime": {
     "end_time": "2021-08-30T17:00:42.734446Z",
     "start_time": "2021-08-30T17:00:42.475039Z"
    }
   },
   "outputs": [
    {
     "data": {
      "text/plain": [
       "0.3571243542385059"
      ]
     },
     "execution_count": 75,
     "metadata": {},
     "output_type": "execute_result"
    }
   ],
   "source": [
    "compute_auc_euc_p2(df_final)\n",
    "\n",
    "# this is not good looking -- should be 60%\n",
    "# since we did not scale \n",
    "\n",
    "# the ideal is 1"
   ]
  },
  {
   "cell_type": "markdown",
   "id": "8b569e09",
   "metadata": {},
   "source": [
    "## Practice Problem 2 (Aside)"
   ]
  },
  {
   "cell_type": "markdown",
   "id": "598f935b",
   "metadata": {},
   "source": [
    "Plot the PR-curve of the results given above. What can you say about the resulting graph?"
   ]
  },
  {
   "cell_type": "code",
   "execution_count": 77,
   "id": "04873de6",
   "metadata": {
    "ExecuteTime": {
     "end_time": "2021-08-30T17:01:34.408182Z",
     "start_time": "2021-08-30T17:01:34.395348Z"
    }
   },
   "outputs": [],
   "source": [
    "def pr_curve(query, objects, dist, actual, all_labels):\n",
    "    init_rec, init_prec = [0], [1]\n",
    "    k_res = nearest_k(query, objects, len(objects), dist)\n",
    "    \n",
    "    for k in range(1, len(objects) + 1):\n",
    "        results = k_res[:k]\n",
    "        confusion = get_confusion(actual, results, all_labels)\n",
    "        init_rec.append(recall(confusion))\n",
    "        init_prec.append(precision(confusion))\n",
    "\n",
    "    fig, ax = plt.subplots(1, 1)\n",
    "    ax.set_xlabel('recall')\n",
    "    ax.set_ylabel('precision')\n",
    "    ax.set_aspect('equal')\n",
    "    ax.step(init_rec, init_prec, where='post')\n",
    "    ax.fill_between(init_rec, init_prec, step='post')\n",
    "    ax.set_ylim((0, 1))\n",
    "    ax.set_xlim((0, 1))\n",
    "    plt.show()\n",
    "    return ax"
   ]
  },
  {
   "cell_type": "code",
   "execution_count": 78,
   "id": "d1e6a60b",
   "metadata": {
    "ExecuteTime": {
     "end_time": "2021-08-30T17:01:47.344177Z",
     "start_time": "2021-08-30T17:01:47.335141Z"
    }
   },
   "outputs": [],
   "source": [
    "# get query\n",
    "query = df_final.loc[200].to_numpy()\n",
    "\n",
    "# get actual\n",
    "actual = query[23]\n",
    "\n",
    "# get objects\n",
    "objects = df_final.to_numpy()\n",
    "\n",
    "# get all labels\n",
    "all_labels = (df_final.to_numpy())[:, 23]\n",
    "all_labels = np.array(all_labels)"
   ]
  },
  {
   "cell_type": "code",
   "execution_count": 80,
   "id": "482b17cb",
   "metadata": {
    "ExecuteTime": {
     "end_time": "2021-08-30T17:02:04.710105Z",
     "start_time": "2021-08-30T17:02:04.323450Z"
    }
   },
   "outputs": [
    {
     "data": {
      "image/png": "[encoded data removed]",
      "text/plain": [
       "<Figure size 432x288 with 1 Axes>"
      ]
     },
     "metadata": {
      "needs_background": "light"
     },
     "output_type": "display_data"
    }
   ],
   "source": [
    "pr_curve(query, objects, euclidean, actual, all_labels);\n",
    "\n",
    "# the ideal is that the area is 100% filled"
   ]
  },
  {
   "cell_type": "code",
   "execution_count": null,
   "id": "41acaf72",
   "metadata": {},
   "outputs": [],
   "source": []
  },
  {
   "cell_type": "markdown",
   "id": "3782ed67",
   "metadata": {},
   "source": [
    "# Dimensionality Reduction and Clustering"
   ]
  },
  {
   "cell_type": "markdown",
   "id": "97b3a52a",
   "metadata": {},
   "source": [
    "Note that when performing dimensionality reduction and clustering, the `target` feature is removed from the dataset."
   ]
  },
  {
   "cell_type": "code",
   "execution_count": 81,
   "id": "2bd687c0",
   "metadata": {
    "ExecuteTime": {
     "end_time": "2021-08-30T17:04:25.521097Z",
     "start_time": "2021-08-30T17:04:25.516767Z"
    }
   },
   "outputs": [],
   "source": [
    "# the target feature should be removed from the dataset -- similar to the exercises\n",
    "# the ground truth is the 'target' -- but this is not always given"
   ]
  },
  {
   "cell_type": "markdown",
   "id": "216646d7",
   "metadata": {},
   "source": [
    "## Practice Problem 3"
   ]
  },
  {
   "cell_type": "markdown",
   "id": "96124b0b",
   "metadata": {},
   "source": [
    "Perform dimensionality reduction on `df_final` using one of the methods discussed in class. Justify your choice of dimensionality reduction method."
   ]
  },
  {
   "cell_type": "markdown",
   "id": "b63a1951",
   "metadata": {},
   "source": [
    "Your answer here"
   ]
  },
  {
   "cell_type": "code",
   "execution_count": 82,
   "id": "54336c13",
   "metadata": {
    "ExecuteTime": {
     "end_time": "2021-08-30T17:04:52.976814Z",
     "start_time": "2021-08-30T17:04:51.866458Z"
    }
   },
   "outputs": [],
   "source": [
    "from sklearn.preprocessing import MinMaxScaler"
   ]
  },
  {
   "cell_type": "code",
   "execution_count": 83,
   "id": "41f25521",
   "metadata": {
    "ExecuteTime": {
     "end_time": "2021-08-30T17:05:44.760301Z",
     "start_time": "2021-08-30T17:05:44.741654Z"
    }
   },
   "outputs": [],
   "source": [
    "# Drop the target\n",
    "df_final = df_final.drop('target', axis=1)\n",
    "\n",
    "# Scale the dataset - where the target was already dropped\n",
    "mms = MinMaxScaler()\n",
    "df_final_scaled = mms.fit_transform(df_final)"
   ]
  },
  {
   "cell_type": "code",
   "execution_count": 86,
   "id": "2228275e",
   "metadata": {
    "ExecuteTime": {
     "end_time": "2021-08-30T17:12:16.433898Z",
     "start_time": "2021-08-30T17:12:16.426574Z"
    }
   },
   "outputs": [],
   "source": [
    "# Place function on truncated_svd\n",
    "def truncated_svd(X):\n",
    "    \"\"\"Return the truncated svd\n",
    "    \n",
    "    PARAMETERS\n",
    "    ----------\n",
    "    X: array where columns are features and rows are observations\n",
    "    \n",
    "    RETURNS\n",
    "    -------\n",
    "    q, s, p, nssd: array\n",
    "    nssd: normalized sum of squared distance from the origin\n",
    "    \"\"\"\n",
    "    \n",
    "    q, s, p = np.linalg.svd(X)\n",
    "    sigma = np.diag(s)\n",
    "    nssd = s**2/sum(s**2)\n",
    "    return q, sigma, p.T, nssd"
   ]
  },
  {
   "cell_type": "code",
   "execution_count": 95,
   "id": "d3394c52",
   "metadata": {
    "ExecuteTime": {
     "end_time": "2021-08-30T17:15:07.825053Z",
     "start_time": "2021-08-30T17:15:07.644881Z"
    }
   },
   "outputs": [],
   "source": [
    "# Perform SVD\n",
    "q, sigma, p, nssd = truncated_svd(df_final_scaled)\n",
    "\n",
    "# nssd --> variance explained (not sigma)"
   ]
  },
  {
   "cell_type": "code",
   "execution_count": 110,
   "id": "14a5b3d1",
   "metadata": {
    "ExecuteTime": {
     "end_time": "2021-08-30T17:20:34.099226Z",
     "start_time": "2021-08-30T17:20:34.089855Z"
    }
   },
   "outputs": [
    {
     "data": {
      "text/plain": [
       "array([0.52236379, 0.64963779, 0.72734163, 0.78458732, 0.83234776,\n",
       "       0.86482945, 0.8894277 , 0.91121117, 0.9319245 , 0.94731904,\n",
       "       0.96088474, 0.97195335, 0.9813351 , 0.98647712, 0.989928  ,\n",
       "       0.99287387, 0.99544974, 0.99726332, 0.99879546, 1.        ,\n",
       "       1.        , 1.        , 1.        ])"
      ]
     },
     "execution_count": 110,
     "metadata": {},
     "output_type": "execute_result"
    }
   ],
   "source": [
    "# Check how many SVs needed for certain variance explained\n",
    "# these are already in percentage!\n",
    "s = nssd\n",
    "s.cumsum()/s.sum()"
   ]
  },
  {
   "cell_type": "code",
   "execution_count": 111,
   "id": "e9335cf9",
   "metadata": {
    "ExecuteTime": {
     "end_time": "2021-08-30T17:21:39.401118Z",
     "start_time": "2021-08-30T17:21:39.393891Z"
    }
   },
   "outputs": [
    {
     "data": {
      "text/plain": [
       "(303, 23)"
      ]
     },
     "execution_count": 111,
     "metadata": {},
     "output_type": "execute_result"
    }
   ],
   "source": [
    "# Check the final shape\n",
    "df_final_scaled.shape"
   ]
  },
  {
   "cell_type": "code",
   "execution_count": 112,
   "id": "e5aa285d",
   "metadata": {
    "ExecuteTime": {
     "end_time": "2021-08-30T17:22:15.459447Z",
     "start_time": "2021-08-30T17:22:15.449488Z"
    }
   },
   "outputs": [
    {
     "data": {
      "text/plain": [
       "(303, 23)"
      ]
     },
     "execution_count": 112,
     "metadata": {},
     "output_type": "execute_result"
    }
   ],
   "source": [
    "num_vec = 8\n",
    "\n",
    "# if we multiply q, nssd-diag, and p --> we get the same shape as the original matrix\n",
    "((q[:, :num_vec] @ np.diag(s[:num_vec])) @ p[:num_vec]).shape\n",
    "\n",
    "# SVD helps us truncate the data"
   ]
  },
  {
   "cell_type": "code",
   "execution_count": 113,
   "id": "680b6ebf",
   "metadata": {
    "ExecuteTime": {
     "end_time": "2021-08-30T17:23:09.268580Z",
     "start_time": "2021-08-30T17:23:09.255608Z"
    }
   },
   "outputs": [],
   "source": [
    "# Plot SVD\n",
    "def plot_svd(X_new, features, p):\n",
    "    \"\"\"\n",
    "    Plot transformed data and features on to the first two singular vectors\n",
    "\n",
    "    Parameters\n",
    "    ----------\n",
    "    X_new : array\n",
    "        Transformed data\n",
    "    featurs : sequence of str\n",
    "        Feature names\n",
    "    p : array\n",
    "        P matrix\n",
    "    \"\"\"\n",
    "    fig, ax = plt.subplots(1, 2, subplot_kw=dict(aspect='equal'),\n",
    "                           gridspec_kw=dict(wspace=0.4), dpi=150)\n",
    "    ax[0].scatter(X_new[:, 0], X_new[:, 1])\n",
    "    ax[0].set_xlabel('SV1')\n",
    "    ax[0].set_ylabel('SV2')\n",
    "\n",
    "    for feature, vec in zip(features, p):\n",
    "        ax[1].arrow(0, 0, vec[0], vec[1], width=0.01, ec='none', fc='r')\n",
    "        ax[1].text(vec[0], vec[1], feature, ha='center', color='r', fontsize=5)\n",
    "    ax[1].set_xlim(-1, 1)\n",
    "    ax[1].set_ylim(-1, 1)\n",
    "    ax[1].set_xlabel('SV1')\n",
    "    ax[1].set_ylabel('SV2')"
   ]
  },
  {
   "cell_type": "code",
   "execution_count": 115,
   "id": "8be84ee0",
   "metadata": {
    "ExecuteTime": {
     "end_time": "2021-08-30T17:29:34.976913Z",
     "start_time": "2021-08-30T17:29:34.640046Z"
    }
   },
   "outputs": [
    {
     "data": {
      "image/png": "[encoded data removed]",
      "text/plain": [
       "<Figure size 900x600 with 2 Axes>"
      ]
     },
     "metadata": {
      "needs_background": "light"
     },
     "output_type": "display_data"
    }
   ],
   "source": [
    "# Set variables\n",
    "X_scaled = df_final_scaled\n",
    "X_new_svd = X_scaled.dot(p[:, :2]) # from Manual SVD in the Codes Reviewer - 2 singular vectors for plotting purposes\n",
    "features = df_final.columns # the original df, not the scaled one\n",
    "p=p\n",
    "\n",
    "plot_svd(X_new_svd, features, p)"
   ]
  },
  {
   "cell_type": "markdown",
   "id": "bc40af29",
   "metadata": {},
   "source": [
    "## Practice Problem 4"
   ]
  },
  {
   "cell_type": "markdown",
   "id": "5a171e3a",
   "metadata": {},
   "source": [
    "Interpret the results of the dimensionality reduction."
   ]
  },
  {
   "cell_type": "markdown",
   "id": "85a0bb8c",
   "metadata": {},
   "source": [
    "**Interpretation GUIDE**\n",
    "\n",
    "* **Coordinates**: What do the directions of each PC mean? Use the general direction of the transformed dimensions as a guide.\n",
    "* **Correlations**: Which groups of transformed dimensions point toward the same direction? Which are opposite to each other? These suggest correlation or anticorrelation.\n",
    "* **Clusters**: Which points clump together?\n",
    "* **Funnels**: Are there points that are wide on one side and narrow on the other? This suggest dependence of principal components.\n",
    "* **Voids**: Are there unusually unpopulated areas? This suggests certain combinations of values are unlikely to occur."
   ]
  },
  {
   "cell_type": "markdown",
   "id": "5d7af69d",
   "metadata": {},
   "source": [
    "## Practice Problem 5"
   ]
  },
  {
   "cell_type": "markdown",
   "id": "6c156b92",
   "metadata": {},
   "source": [
    "Cluster `df_final` (with reduced dimensions), i.e., assign a cluster label to each patient, using an representative based clustering method. What is the best value for the number of clusters? Justify your choice of method and your best number of clusters."
   ]
  },
  {
   "cell_type": "markdown",
   "id": "f536253e",
   "metadata": {},
   "source": [
    "Your answer here"
   ]
  },
  {
   "cell_type": "code",
   "execution_count": 119,
   "id": "e7f935c8",
   "metadata": {
    "ExecuteTime": {
     "end_time": "2021-08-30T17:35:57.321007Z",
     "start_time": "2021-08-30T17:35:56.440380Z"
    }
   },
   "outputs": [
    {
     "data": {
      "text/plain": [
       "<AxesSubplot:>"
      ]
     },
     "execution_count": 119,
     "metadata": {},
     "output_type": "execute_result"
    },
    {
     "data": {
      "image/png": "[encoded data removed]",
      "text/plain": [
       "<Figure size 432x288 with 1 Axes>"
      ]
     },
     "metadata": {
      "needs_background": "light"
     },
     "output_type": "display_data"
    }
   ],
   "source": [
    "# We could use inertia to get the elbow - this is to justify the value for the number of clusters\n",
    "\n",
    "from sklearn.cluster import KMeans\n",
    "sse = pd.Series(index=range(2, 12), dtype='float64')\n",
    "\n",
    "for k in range(2, 12):\n",
    "    km = KMeans(k)\n",
    "    km.fit_predict(df_final_scaled)\n",
    "    inertia = km.inertia_\n",
    "    sse[k] = inertia\n",
    "\n",
    "sse.plot()\n",
    "# by looking at the plot, elbow is at k=4"
   ]
  },
  {
   "cell_type": "code",
   "execution_count": 124,
   "id": "2b4b0f0a",
   "metadata": {
    "ExecuteTime": {
     "end_time": "2021-08-30T17:48:42.704656Z",
     "start_time": "2021-08-30T17:48:42.493574Z"
    }
   },
   "outputs": [
    {
     "data": {
      "image/png": "[encoded data removed]",
      "text/plain": [
       "<Figure size 432x288 with 1 Axes>"
      ]
     },
     "metadata": {
      "needs_background": "light"
     },
     "output_type": "display_data"
    }
   ],
   "source": [
    "# Plot it using KMeans where cluster=4\n",
    "km4 = KMeans(4)\n",
    "y_pred = km4.fit_predict(df_final_scaled) # we predict the scaled dataset\n",
    "plt.scatter(X_new_svd[:,0], X_new_svd[:,1], c=y_pred, cmap=\"Set1\");"
   ]
  },
  {
   "cell_type": "code",
   "execution_count": null,
   "id": "a2a9679c",
   "metadata": {},
   "outputs": [],
   "source": []
  },
  {
   "cell_type": "markdown",
   "id": "02c03151",
   "metadata": {},
   "source": [
    "## Practice Problem 6"
   ]
  },
  {
   "cell_type": "markdown",
   "id": "1aa2823b",
   "metadata": {},
   "source": [
    "Cluster `df_final` (with reduced dimensions), i.e., assign a cluster label to each patient, using an agglomerative clustering method. What is the best value for the number of clusters? Justify your choice of method and your best number of clusters."
   ]
  },
  {
   "cell_type": "markdown",
   "id": "5f820a4c",
   "metadata": {},
   "source": [
    "Your answer here"
   ]
  },
  {
   "cell_type": "code",
   "execution_count": 127,
   "id": "aba61d18",
   "metadata": {
    "ExecuteTime": {
     "end_time": "2021-08-30T17:51:16.821350Z",
     "start_time": "2021-08-30T17:51:16.654022Z"
    }
   },
   "outputs": [
    {
     "data": {
      "image/png": "[encoded data removed]",
      "text/plain": [
       "<Figure size 432x288 with 1 Axes>"
      ]
     },
     "metadata": {
      "needs_background": "light"
     },
     "output_type": "display_data"
    }
   ],
   "source": [
    "from sklearn.cluster import AgglomerativeClustering\n",
    "\n",
    "agc = AgglomerativeClustering(5)\n",
    "y_agc = agc.fit_predict(df_final_scaled)\n",
    "plt.scatter(X_new_svd[:,0], X_new_svd[:,1], c=y_agc, cmap=\"Set1\");"
   ]
  },
  {
   "cell_type": "code",
   "execution_count": 129,
   "id": "54574e6c",
   "metadata": {
    "ExecuteTime": {
     "end_time": "2021-08-30T17:52:59.855537Z",
     "start_time": "2021-08-30T17:52:50.764074Z"
    }
   },
   "outputs": [
    {
     "data": {
      "image/png": "[encoded data removed]",
      "text/plain": [
       "<Figure size 3600x900 with 1 Axes>"
      ]
     },
     "metadata": {
      "needs_background": "light"
     },
     "output_type": "display_data"
    }
   ],
   "source": [
    "# Plot dendogram\n",
    "\n",
    "# Import packages\n",
    "from scipy.cluster.hierarchy import linkage, dendrogram\n",
    "\n",
    "# Form linkage matrix\n",
    "method = 'ward'\n",
    "Z = linkage(df_final_scaled, method=method, optimal_ordering=True)\n",
    "\n",
    "# Set up subplot\n",
    "fig, ax = plt.subplots(figsize=(12,3), dpi=300)\n",
    "\n",
    "# Set the plot as dendigram\n",
    "dn = dendrogram(Z, ax=ax)\n",
    "\n",
    "# Set y label as 'Delta'\n",
    "ax.set_ylabel(r'$\\Delta$');"
   ]
  },
  {
   "cell_type": "code",
   "execution_count": 130,
   "id": "60a50303",
   "metadata": {
    "ExecuteTime": {
     "end_time": "2021-08-30T17:54:00.412675Z",
     "start_time": "2021-08-30T17:54:00.261792Z"
    }
   },
   "outputs": [
    {
     "data": {
      "image/png": "[encoded data removed]",
      "text/plain": [
       "<Figure size 432x288 with 1 Axes>"
      ]
     },
     "metadata": {
      "needs_background": "light"
     },
     "output_type": "display_data"
    }
   ],
   "source": [
    "# seems like we only have 2 clusters. Let's run the agglomerative method once again\n",
    "\n",
    "agc = AgglomerativeClustering(2)\n",
    "y_agc = agc.fit_predict(df_final_scaled)\n",
    "plt.scatter(X_new_svd[:,0], X_new_svd[:,1], c=y_agc, cmap=\"Set1\");"
   ]
  },
  {
   "cell_type": "code",
   "execution_count": null,
   "id": "f71f496c",
   "metadata": {},
   "outputs": [],
   "source": []
  }
 ],
 "metadata": {
  "kernelspec": {
   "display_name": "Python 3",
   "language": "python",
   "name": "python3"
  },
  "language_info": {
   "codemirror_mode": {
    "name": "ipython",
    "version": 3
   },
   "file_extension": ".py",
   "mimetype": "text/x-python",
   "name": "python",
   "nbconvert_exporter": "python",
   "pygments_lexer": "ipython3",
   "version": "3.8.10"
  },
  "toc": {
   "base_numbering": 1,
   "nav_menu": {},
   "number_sections": true,
   "sideBar": true,
   "skip_h1_title": false,
   "title_cell": "Table of Contents",
   "title_sidebar": "Contents",
   "toc_cell": false,
   "toc_position": {},
   "toc_section_display": true,
   "toc_window_display": true
  }
 },
 "nbformat": 4,
 "nbformat_minor": 5
}
