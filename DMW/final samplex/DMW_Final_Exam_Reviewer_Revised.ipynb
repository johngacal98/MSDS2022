{
 "cells": [
  {
   "cell_type": "markdown",
   "id": "5cca0a04",
   "metadata": {},
   "source": [
    "# Reviewer for Finals in DMW"
   ]
  },
  {
   "cell_type": "markdown",
   "id": "3402964a",
   "metadata": {},
   "source": [
    "This reviewer is meant to supplement the Reader’s existing reviewers and notes. The author of this notebook shall not assume any responsibility on the accuracy and completeness of any information provided in this reviewer. The Reader is\n",
    "expected to exercise prudence in reading through the reviewer and is free to comment on its accuracy and\n",
    "completeness for everyone's benefit."
   ]
  },
  {
   "cell_type": "code",
   "execution_count": 1,
   "id": "06ec5043",
   "metadata": {
    "ExecuteTime": {
     "end_time": "2021-08-30T11:36:54.569458Z",
     "start_time": "2021-08-30T11:36:53.860537Z"
    }
   },
   "outputs": [],
   "source": [
    "import numpy as np\n",
    "import pandas as pd\n",
    "import matplotlib.pyplot as plt\n",
    "from numpy.testing import (assert_equal, assert_almost_equal, \n",
    "                           assert_array_equal, assert_array_almost_equal)"
   ]
  },
  {
   "cell_type": "markdown",
   "id": "67577874",
   "metadata": {},
   "source": [
    "In this reviewer, we will use the `Heart Disease UCI Dataset`. A detailed description of dataset can be accessed [here](https://towardsdatascience.com/heart-disease-uci-diagnosis-prediction-b1943ee835a7). This dataset is available in [kaggle](https://www.kaggle.com/ronitf/heart-disease-uci)."
   ]
  },
  {
   "cell_type": "markdown",
   "id": "7333f837",
   "metadata": {},
   "source": [
    "Information about the Heart Disease UCI Dataset\n",
    "---\n",
    "\n",
    "- `age`: The person’s age in years\n",
    "\n",
    "- `sex`: The person’s sex (1 = male, 0 = female)\n",
    "\n",
    "- `cp`: chest pain type\n",
    "   - Value 0: asymptomatic\n",
    "   - Value 1: atypical angina\n",
    "   - Value 2: non-anginal pain\n",
    "   - Value 3: typical angina\n",
    "    \n",
    "- `trestbps`: The person’s resting blood pressure (mm Hg on admission to the hospital)\n",
    "\n",
    "- `chol`: The person’s cholesterol measurement in mg/dl\n",
    "\n",
    "- `fbs`: The person’s fasting blood sugar (> 120 mg/dl, 1 = true; 0 = false)\n",
    "\n",
    "- `restecg`: resting electrocardiographic results\n",
    "    - Value 0: showing probable or definite left ventricular hypertrophy by Estes’ criteria\n",
    "    - Value 1: normal\n",
    "    - Value 2: having ST-T wave abnormality (T wave inversions and/or ST elevation or depression of > 0.05 mV)\n",
    "\n",
    "- `thalach`: The person’s maximum heart rate achieved\n",
    "\n",
    "- `exang`: Exercise induced angina (1 = yes; 0 = no)\n",
    "\n",
    "- `oldpeak`: ST depression induced by exercise relative to rest (‘ST’ relates to positions on the ECG plot. See more here)\n",
    "\n",
    "- `slope`: the slope of the peak exercise ST segment — 0: downsloping; 1: flat; 2: upsloping\n",
    "    - 0: downsloping\n",
    "    - 1: flat\n",
    "    - 2: upsloping\n",
    "\n",
    "- `ca`: The number of major vessels (0–3)\n",
    "\n",
    "- `thal`: A blood disorder called thalassemia Value 0: NULL (dropped from the dataset previously\n",
    "    - 1: fixed defect (no blood flow in some part of the heart)\n",
    "    - 2: normal blood flow\n",
    "    - 3: reversible defect (a blood flow is observed but it is not normal)\n",
    "\n",
    "- `target`: Heart disease (1 = no, 0= yes)"
   ]
  },
  {
   "cell_type": "code",
   "execution_count": 2,
   "id": "0eed511c",
   "metadata": {
    "ExecuteTime": {
     "end_time": "2021-08-30T11:36:54.593861Z",
     "start_time": "2021-08-30T11:36:54.571547Z"
    }
   },
   "outputs": [
    {
     "data": {
      "text/html": [
       "<div>\n",
       "<style scoped>\n",
       "    .dataframe tbody tr th:only-of-type {\n",
       "        vertical-align: middle;\n",
       "    }\n",
       "\n",
       "    .dataframe tbody tr th {\n",
       "        vertical-align: top;\n",
       "    }\n",
       "\n",
       "    .dataframe thead th {\n",
       "        text-align: right;\n",
       "    }\n",
       "</style>\n",
       "<table border=\"1\" class=\"dataframe\">\n",
       "  <thead>\n",
       "    <tr style=\"text-align: right;\">\n",
       "      <th></th>\n",
       "      <th>age</th>\n",
       "      <th>sex</th>\n",
       "      <th>cp</th>\n",
       "      <th>trestbps</th>\n",
       "      <th>chol</th>\n",
       "      <th>fbs</th>\n",
       "      <th>restecg</th>\n",
       "      <th>thalach</th>\n",
       "      <th>exang</th>\n",
       "      <th>oldpeak</th>\n",
       "      <th>slope</th>\n",
       "      <th>ca</th>\n",
       "      <th>thal</th>\n",
       "      <th>target</th>\n",
       "    </tr>\n",
       "  </thead>\n",
       "  <tbody>\n",
       "    <tr>\n",
       "      <th>0</th>\n",
       "      <td>63</td>\n",
       "      <td>1</td>\n",
       "      <td>3</td>\n",
       "      <td>145</td>\n",
       "      <td>233</td>\n",
       "      <td>1</td>\n",
       "      <td>0</td>\n",
       "      <td>150</td>\n",
       "      <td>0</td>\n",
       "      <td>2.3</td>\n",
       "      <td>0</td>\n",
       "      <td>0</td>\n",
       "      <td>1</td>\n",
       "      <td>1</td>\n",
       "    </tr>\n",
       "    <tr>\n",
       "      <th>1</th>\n",
       "      <td>37</td>\n",
       "      <td>1</td>\n",
       "      <td>2</td>\n",
       "      <td>130</td>\n",
       "      <td>250</td>\n",
       "      <td>0</td>\n",
       "      <td>1</td>\n",
       "      <td>187</td>\n",
       "      <td>0</td>\n",
       "      <td>3.5</td>\n",
       "      <td>0</td>\n",
       "      <td>0</td>\n",
       "      <td>2</td>\n",
       "      <td>1</td>\n",
       "    </tr>\n",
       "    <tr>\n",
       "      <th>2</th>\n",
       "      <td>41</td>\n",
       "      <td>0</td>\n",
       "      <td>1</td>\n",
       "      <td>130</td>\n",
       "      <td>204</td>\n",
       "      <td>0</td>\n",
       "      <td>0</td>\n",
       "      <td>172</td>\n",
       "      <td>0</td>\n",
       "      <td>1.4</td>\n",
       "      <td>2</td>\n",
       "      <td>0</td>\n",
       "      <td>2</td>\n",
       "      <td>1</td>\n",
       "    </tr>\n",
       "    <tr>\n",
       "      <th>3</th>\n",
       "      <td>56</td>\n",
       "      <td>1</td>\n",
       "      <td>1</td>\n",
       "      <td>120</td>\n",
       "      <td>236</td>\n",
       "      <td>0</td>\n",
       "      <td>1</td>\n",
       "      <td>178</td>\n",
       "      <td>0</td>\n",
       "      <td>0.8</td>\n",
       "      <td>2</td>\n",
       "      <td>0</td>\n",
       "      <td>2</td>\n",
       "      <td>1</td>\n",
       "    </tr>\n",
       "    <tr>\n",
       "      <th>4</th>\n",
       "      <td>57</td>\n",
       "      <td>0</td>\n",
       "      <td>0</td>\n",
       "      <td>120</td>\n",
       "      <td>354</td>\n",
       "      <td>0</td>\n",
       "      <td>1</td>\n",
       "      <td>163</td>\n",
       "      <td>1</td>\n",
       "      <td>0.6</td>\n",
       "      <td>2</td>\n",
       "      <td>0</td>\n",
       "      <td>2</td>\n",
       "      <td>1</td>\n",
       "    </tr>\n",
       "  </tbody>\n",
       "</table>\n",
       "</div>"
      ],
      "text/plain": [
       "   age  sex  cp  trestbps  chol  fbs  restecg  thalach  exang  oldpeak  slope  \\\n",
       "0   63    1   3       145   233    1        0      150      0      2.3      0   \n",
       "1   37    1   2       130   250    0        1      187      0      3.5      0   \n",
       "2   41    0   1       130   204    0        0      172      0      1.4      2   \n",
       "3   56    1   1       120   236    0        1      178      0      0.8      2   \n",
       "4   57    0   0       120   354    0        1      163      1      0.6      2   \n",
       "\n",
       "   ca  thal  target  \n",
       "0   0     1       1  \n",
       "1   0     2       1  \n",
       "2   0     2       1  \n",
       "3   0     2       1  \n",
       "4   0     2       1  "
      ]
     },
     "execution_count": 2,
     "metadata": {},
     "output_type": "execute_result"
    }
   ],
   "source": [
    "# read UCI Heart Disease Data\n",
    "df = pd.read_csv('heart.csv')\n",
    "df.head()"
   ]
  },
  {
   "cell_type": "code",
   "execution_count": 3,
   "id": "a65b17ba",
   "metadata": {
    "ExecuteTime": {
     "end_time": "2021-08-30T11:36:54.599126Z",
     "start_time": "2021-08-30T11:36:54.595819Z"
    }
   },
   "outputs": [
    {
     "data": {
      "text/plain": [
       "(303, 14)"
      ]
     },
     "execution_count": 3,
     "metadata": {},
     "output_type": "execute_result"
    }
   ],
   "source": [
    "# check shape of data\n",
    "df.shape"
   ]
  },
  {
   "cell_type": "code",
   "execution_count": 4,
   "id": "623b88b3",
   "metadata": {
    "ExecuteTime": {
     "end_time": "2021-08-30T11:36:54.614089Z",
     "start_time": "2021-08-30T11:36:54.600929Z"
    }
   },
   "outputs": [
    {
     "name": "stdout",
     "output_type": "stream",
     "text": [
      "<class 'pandas.core.frame.DataFrame'>\n",
      "RangeIndex: 303 entries, 0 to 302\n",
      "Data columns (total 14 columns):\n",
      " #   Column    Non-Null Count  Dtype  \n",
      "---  ------    --------------  -----  \n",
      " 0   age       303 non-null    int64  \n",
      " 1   sex       303 non-null    int64  \n",
      " 2   cp        303 non-null    int64  \n",
      " 3   trestbps  303 non-null    int64  \n",
      " 4   chol      303 non-null    int64  \n",
      " 5   fbs       303 non-null    int64  \n",
      " 6   restecg   303 non-null    int64  \n",
      " 7   thalach   303 non-null    int64  \n",
      " 8   exang     303 non-null    int64  \n",
      " 9   oldpeak   303 non-null    float64\n",
      " 10  slope     303 non-null    int64  \n",
      " 11  ca        303 non-null    int64  \n",
      " 12  thal      303 non-null    int64  \n",
      " 13  target    303 non-null    int64  \n",
      "dtypes: float64(1), int64(13)\n",
      "memory usage: 33.3 KB\n"
     ]
    }
   ],
   "source": [
    "# check data types of dataset\n",
    "df.info()"
   ]
  },
  {
   "cell_type": "markdown",
   "id": "59c6eee2",
   "metadata": {},
   "source": [
    "# Preliminaries"
   ]
  },
  {
   "cell_type": "markdown",
   "id": "9b502403",
   "metadata": {},
   "source": [
    "The following are some preliminaries that need to be done in order to perform further analysis to a given dataset:\n",
    "- Find **target feature**.\n",
    "- Identify **numeric**, **categorical**, and **bag-of-words** feature.\n",
    "- Perform `one-hot` encoding if **categorical** variables are present.\n",
    "- Perform `TF-IDF` vectorization if **bag-of-words** feature/s are present."
   ]
  },
  {
   "cell_type": "markdown",
   "id": "2f27c933",
   "metadata": {},
   "source": [
    "Identify Numeric, Categoric, *Bag-of-Words* Columns/Features\n",
    "---\n",
    "\n",
    "|Column/Attribute Name| Data Type | Description |\n",
    "| :--- | :--- | :---- |\n",
    "| age | int | numeric |\n",
    "| sex | int |categoric|\n",
    "| cp |int | categoric |\n",
    "| trestbps |int | numeric |\n",
    "| chol | int| numeric |\n",
    "| fbs | int | categoric |\n",
    "| restecg | int| categoric |\n",
    "| thalach | int| numeric |\n",
    "| exang | int| categoric |\n",
    "| oldpeak | float | numeric |\n",
    "| slope | int| categoric |\n",
    "| ca | int| numeric |\n",
    "| thal | int| categoric |\n",
    "| target | int| categoric |"
   ]
  },
  {
   "cell_type": "code",
   "execution_count": 5,
   "id": "dfa11b55",
   "metadata": {
    "ExecuteTime": {
     "end_time": "2021-08-30T11:36:54.620843Z",
     "start_time": "2021-08-30T11:36:54.615687Z"
    }
   },
   "outputs": [
    {
     "data": {
      "text/plain": [
       "0      1\n",
       "1      1\n",
       "2      1\n",
       "3      1\n",
       "4      1\n",
       "      ..\n",
       "298    0\n",
       "299    0\n",
       "300    0\n",
       "301    0\n",
       "302    0\n",
       "Name: target, Length: 303, dtype: int64"
      ]
     },
     "execution_count": 5,
     "metadata": {},
     "output_type": "execute_result"
    }
   ],
   "source": [
    "# get target feature\n",
    "df_target = df['target']\n",
    "df_target"
   ]
  },
  {
   "cell_type": "code",
   "execution_count": 6,
   "id": "faf50d2e",
   "metadata": {
    "ExecuteTime": {
     "end_time": "2021-08-30T11:36:54.638480Z",
     "start_time": "2021-08-30T11:36:54.622573Z"
    }
   },
   "outputs": [
    {
     "data": {
      "text/html": [
       "<div>\n",
       "<style scoped>\n",
       "    .dataframe tbody tr th:only-of-type {\n",
       "        vertical-align: middle;\n",
       "    }\n",
       "\n",
       "    .dataframe tbody tr th {\n",
       "        vertical-align: top;\n",
       "    }\n",
       "\n",
       "    .dataframe thead th {\n",
       "        text-align: right;\n",
       "    }\n",
       "</style>\n",
       "<table border=\"1\" class=\"dataframe\">\n",
       "  <thead>\n",
       "    <tr style=\"text-align: right;\">\n",
       "      <th></th>\n",
       "      <th>age</th>\n",
       "      <th>trestbps</th>\n",
       "      <th>chol</th>\n",
       "      <th>thalach</th>\n",
       "      <th>oldpeak</th>\n",
       "      <th>ca</th>\n",
       "    </tr>\n",
       "  </thead>\n",
       "  <tbody>\n",
       "    <tr>\n",
       "      <th>0</th>\n",
       "      <td>63</td>\n",
       "      <td>145</td>\n",
       "      <td>233</td>\n",
       "      <td>150</td>\n",
       "      <td>2.3</td>\n",
       "      <td>0</td>\n",
       "    </tr>\n",
       "    <tr>\n",
       "      <th>1</th>\n",
       "      <td>37</td>\n",
       "      <td>130</td>\n",
       "      <td>250</td>\n",
       "      <td>187</td>\n",
       "      <td>3.5</td>\n",
       "      <td>0</td>\n",
       "    </tr>\n",
       "    <tr>\n",
       "      <th>2</th>\n",
       "      <td>41</td>\n",
       "      <td>130</td>\n",
       "      <td>204</td>\n",
       "      <td>172</td>\n",
       "      <td>1.4</td>\n",
       "      <td>0</td>\n",
       "    </tr>\n",
       "    <tr>\n",
       "      <th>3</th>\n",
       "      <td>56</td>\n",
       "      <td>120</td>\n",
       "      <td>236</td>\n",
       "      <td>178</td>\n",
       "      <td>0.8</td>\n",
       "      <td>0</td>\n",
       "    </tr>\n",
       "    <tr>\n",
       "      <th>4</th>\n",
       "      <td>57</td>\n",
       "      <td>120</td>\n",
       "      <td>354</td>\n",
       "      <td>163</td>\n",
       "      <td>0.6</td>\n",
       "      <td>0</td>\n",
       "    </tr>\n",
       "    <tr>\n",
       "      <th>...</th>\n",
       "      <td>...</td>\n",
       "      <td>...</td>\n",
       "      <td>...</td>\n",
       "      <td>...</td>\n",
       "      <td>...</td>\n",
       "      <td>...</td>\n",
       "    </tr>\n",
       "    <tr>\n",
       "      <th>298</th>\n",
       "      <td>57</td>\n",
       "      <td>140</td>\n",
       "      <td>241</td>\n",
       "      <td>123</td>\n",
       "      <td>0.2</td>\n",
       "      <td>0</td>\n",
       "    </tr>\n",
       "    <tr>\n",
       "      <th>299</th>\n",
       "      <td>45</td>\n",
       "      <td>110</td>\n",
       "      <td>264</td>\n",
       "      <td>132</td>\n",
       "      <td>1.2</td>\n",
       "      <td>0</td>\n",
       "    </tr>\n",
       "    <tr>\n",
       "      <th>300</th>\n",
       "      <td>68</td>\n",
       "      <td>144</td>\n",
       "      <td>193</td>\n",
       "      <td>141</td>\n",
       "      <td>3.4</td>\n",
       "      <td>2</td>\n",
       "    </tr>\n",
       "    <tr>\n",
       "      <th>301</th>\n",
       "      <td>57</td>\n",
       "      <td>130</td>\n",
       "      <td>131</td>\n",
       "      <td>115</td>\n",
       "      <td>1.2</td>\n",
       "      <td>1</td>\n",
       "    </tr>\n",
       "    <tr>\n",
       "      <th>302</th>\n",
       "      <td>57</td>\n",
       "      <td>130</td>\n",
       "      <td>236</td>\n",
       "      <td>174</td>\n",
       "      <td>0.0</td>\n",
       "      <td>1</td>\n",
       "    </tr>\n",
       "  </tbody>\n",
       "</table>\n",
       "<p>303 rows × 6 columns</p>\n",
       "</div>"
      ],
      "text/plain": [
       "     age  trestbps  chol  thalach  oldpeak  ca\n",
       "0     63       145   233      150      2.3   0\n",
       "1     37       130   250      187      3.5   0\n",
       "2     41       130   204      172      1.4   0\n",
       "3     56       120   236      178      0.8   0\n",
       "4     57       120   354      163      0.6   0\n",
       "..   ...       ...   ...      ...      ...  ..\n",
       "298   57       140   241      123      0.2   0\n",
       "299   45       110   264      132      1.2   0\n",
       "300   68       144   193      141      3.4   2\n",
       "301   57       130   131      115      1.2   1\n",
       "302   57       130   236      174      0.0   1\n",
       "\n",
       "[303 rows x 6 columns]"
      ]
     },
     "execution_count": 6,
     "metadata": {},
     "output_type": "execute_result"
    }
   ],
   "source": [
    "# get numeric columns\n",
    "col_num = ['age', 'trestbps', 'chol', 'thalach', 'oldpeak', 'ca']\n",
    "df_num = df[col_num]\n",
    "df_num"
   ]
  },
  {
   "cell_type": "code",
   "execution_count": 7,
   "id": "823fd208",
   "metadata": {
    "ExecuteTime": {
     "end_time": "2021-08-30T11:36:54.650868Z",
     "start_time": "2021-08-30T11:36:54.639957Z"
    }
   },
   "outputs": [
    {
     "data": {
      "text/html": [
       "<div>\n",
       "<style scoped>\n",
       "    .dataframe tbody tr th:only-of-type {\n",
       "        vertical-align: middle;\n",
       "    }\n",
       "\n",
       "    .dataframe tbody tr th {\n",
       "        vertical-align: top;\n",
       "    }\n",
       "\n",
       "    .dataframe thead th {\n",
       "        text-align: right;\n",
       "    }\n",
       "</style>\n",
       "<table border=\"1\" class=\"dataframe\">\n",
       "  <thead>\n",
       "    <tr style=\"text-align: right;\">\n",
       "      <th></th>\n",
       "      <th>cp</th>\n",
       "      <th>restecg</th>\n",
       "      <th>slope</th>\n",
       "      <th>thal</th>\n",
       "    </tr>\n",
       "  </thead>\n",
       "  <tbody>\n",
       "    <tr>\n",
       "      <th>0</th>\n",
       "      <td>3</td>\n",
       "      <td>0</td>\n",
       "      <td>0</td>\n",
       "      <td>1</td>\n",
       "    </tr>\n",
       "    <tr>\n",
       "      <th>1</th>\n",
       "      <td>2</td>\n",
       "      <td>1</td>\n",
       "      <td>0</td>\n",
       "      <td>2</td>\n",
       "    </tr>\n",
       "    <tr>\n",
       "      <th>2</th>\n",
       "      <td>1</td>\n",
       "      <td>0</td>\n",
       "      <td>2</td>\n",
       "      <td>2</td>\n",
       "    </tr>\n",
       "    <tr>\n",
       "      <th>3</th>\n",
       "      <td>1</td>\n",
       "      <td>1</td>\n",
       "      <td>2</td>\n",
       "      <td>2</td>\n",
       "    </tr>\n",
       "    <tr>\n",
       "      <th>4</th>\n",
       "      <td>0</td>\n",
       "      <td>1</td>\n",
       "      <td>2</td>\n",
       "      <td>2</td>\n",
       "    </tr>\n",
       "    <tr>\n",
       "      <th>...</th>\n",
       "      <td>...</td>\n",
       "      <td>...</td>\n",
       "      <td>...</td>\n",
       "      <td>...</td>\n",
       "    </tr>\n",
       "    <tr>\n",
       "      <th>298</th>\n",
       "      <td>0</td>\n",
       "      <td>1</td>\n",
       "      <td>1</td>\n",
       "      <td>3</td>\n",
       "    </tr>\n",
       "    <tr>\n",
       "      <th>299</th>\n",
       "      <td>3</td>\n",
       "      <td>1</td>\n",
       "      <td>1</td>\n",
       "      <td>3</td>\n",
       "    </tr>\n",
       "    <tr>\n",
       "      <th>300</th>\n",
       "      <td>0</td>\n",
       "      <td>1</td>\n",
       "      <td>1</td>\n",
       "      <td>3</td>\n",
       "    </tr>\n",
       "    <tr>\n",
       "      <th>301</th>\n",
       "      <td>0</td>\n",
       "      <td>1</td>\n",
       "      <td>1</td>\n",
       "      <td>3</td>\n",
       "    </tr>\n",
       "    <tr>\n",
       "      <th>302</th>\n",
       "      <td>1</td>\n",
       "      <td>0</td>\n",
       "      <td>1</td>\n",
       "      <td>2</td>\n",
       "    </tr>\n",
       "  </tbody>\n",
       "</table>\n",
       "<p>303 rows × 4 columns</p>\n",
       "</div>"
      ],
      "text/plain": [
       "     cp  restecg  slope  thal\n",
       "0     3        0      0     1\n",
       "1     2        1      0     2\n",
       "2     1        0      2     2\n",
       "3     1        1      2     2\n",
       "4     0        1      2     2\n",
       "..   ..      ...    ...   ...\n",
       "298   0        1      1     3\n",
       "299   3        1      1     3\n",
       "300   0        1      1     3\n",
       "301   0        1      1     3\n",
       "302   1        0      1     2\n",
       "\n",
       "[303 rows x 4 columns]"
      ]
     },
     "execution_count": 7,
     "metadata": {},
     "output_type": "execute_result"
    }
   ],
   "source": [
    "# get categoric columns with three or more variables\n",
    "col_cat_3 = ['cp', 'restecg', 'slope', 'thal']\n",
    "df_cat_3 = df[col_cat_3]\n",
    "df_cat_3"
   ]
  },
  {
   "cell_type": "code",
   "execution_count": 8,
   "id": "e7f395e8",
   "metadata": {
    "ExecuteTime": {
     "end_time": "2021-08-30T11:36:54.669466Z",
     "start_time": "2021-08-30T11:36:54.652490Z"
    }
   },
   "outputs": [
    {
     "name": "stdout",
     "output_type": "stream",
     "text": [
      "<class 'pandas.core.frame.DataFrame'>\n",
      "RangeIndex: 303 entries, 0 to 302\n",
      "Data columns (total 4 columns):\n",
      " #   Column   Non-Null Count  Dtype   \n",
      "---  ------   --------------  -----   \n",
      " 0   cp       303 non-null    category\n",
      " 1   restecg  303 non-null    category\n",
      " 2   slope    303 non-null    category\n",
      " 3   thal     303 non-null    category\n",
      "dtypes: category(4)\n",
      "memory usage: 2.0 KB\n"
     ]
    },
    {
     "name": "stderr",
     "output_type": "stream",
     "text": [
      "<ipython-input-8-620bd21ea111>:3: SettingWithCopyWarning: \n",
      "A value is trying to be set on a copy of a slice from a DataFrame.\n",
      "Try using .loc[row_indexer,col_indexer] = value instead\n",
      "\n",
      "See the caveats in the documentation: https://pandas.pydata.org/pandas-docs/stable/user_guide/indexing.html#returning-a-view-versus-a-copy\n",
      "  df_cat_3[col] = df_cat_3[col].astype('category')\n"
     ]
    }
   ],
   "source": [
    "# since integer, make these values categorical\n",
    "for col in col_cat_3:\n",
    "    df_cat_3[col] = df_cat_3[col].astype('category')\n",
    "df_cat_3.info()"
   ]
  },
  {
   "cell_type": "code",
   "execution_count": 9,
   "id": "70fad3c7",
   "metadata": {
    "ExecuteTime": {
     "end_time": "2021-08-30T11:36:54.691998Z",
     "start_time": "2021-08-30T11:36:54.672440Z"
    }
   },
   "outputs": [
    {
     "data": {
      "text/html": [
       "<div>\n",
       "<style scoped>\n",
       "    .dataframe tbody tr th:only-of-type {\n",
       "        vertical-align: middle;\n",
       "    }\n",
       "\n",
       "    .dataframe tbody tr th {\n",
       "        vertical-align: top;\n",
       "    }\n",
       "\n",
       "    .dataframe thead th {\n",
       "        text-align: right;\n",
       "    }\n",
       "</style>\n",
       "<table border=\"1\" class=\"dataframe\">\n",
       "  <thead>\n",
       "    <tr style=\"text-align: right;\">\n",
       "      <th></th>\n",
       "      <th>cp_0</th>\n",
       "      <th>cp_1</th>\n",
       "      <th>cp_2</th>\n",
       "      <th>cp_3</th>\n",
       "      <th>restecg_0</th>\n",
       "      <th>restecg_1</th>\n",
       "      <th>restecg_2</th>\n",
       "      <th>slope_0</th>\n",
       "      <th>slope_1</th>\n",
       "      <th>slope_2</th>\n",
       "      <th>thal_0</th>\n",
       "      <th>thal_1</th>\n",
       "      <th>thal_2</th>\n",
       "      <th>thal_3</th>\n",
       "    </tr>\n",
       "  </thead>\n",
       "  <tbody>\n",
       "    <tr>\n",
       "      <th>0</th>\n",
       "      <td>0</td>\n",
       "      <td>0</td>\n",
       "      <td>0</td>\n",
       "      <td>1</td>\n",
       "      <td>1</td>\n",
       "      <td>0</td>\n",
       "      <td>0</td>\n",
       "      <td>1</td>\n",
       "      <td>0</td>\n",
       "      <td>0</td>\n",
       "      <td>0</td>\n",
       "      <td>1</td>\n",
       "      <td>0</td>\n",
       "      <td>0</td>\n",
       "    </tr>\n",
       "    <tr>\n",
       "      <th>1</th>\n",
       "      <td>0</td>\n",
       "      <td>0</td>\n",
       "      <td>1</td>\n",
       "      <td>0</td>\n",
       "      <td>0</td>\n",
       "      <td>1</td>\n",
       "      <td>0</td>\n",
       "      <td>1</td>\n",
       "      <td>0</td>\n",
       "      <td>0</td>\n",
       "      <td>0</td>\n",
       "      <td>0</td>\n",
       "      <td>1</td>\n",
       "      <td>0</td>\n",
       "    </tr>\n",
       "    <tr>\n",
       "      <th>2</th>\n",
       "      <td>0</td>\n",
       "      <td>1</td>\n",
       "      <td>0</td>\n",
       "      <td>0</td>\n",
       "      <td>1</td>\n",
       "      <td>0</td>\n",
       "      <td>0</td>\n",
       "      <td>0</td>\n",
       "      <td>0</td>\n",
       "      <td>1</td>\n",
       "      <td>0</td>\n",
       "      <td>0</td>\n",
       "      <td>1</td>\n",
       "      <td>0</td>\n",
       "    </tr>\n",
       "    <tr>\n",
       "      <th>3</th>\n",
       "      <td>0</td>\n",
       "      <td>1</td>\n",
       "      <td>0</td>\n",
       "      <td>0</td>\n",
       "      <td>0</td>\n",
       "      <td>1</td>\n",
       "      <td>0</td>\n",
       "      <td>0</td>\n",
       "      <td>0</td>\n",
       "      <td>1</td>\n",
       "      <td>0</td>\n",
       "      <td>0</td>\n",
       "      <td>1</td>\n",
       "      <td>0</td>\n",
       "    </tr>\n",
       "    <tr>\n",
       "      <th>4</th>\n",
       "      <td>1</td>\n",
       "      <td>0</td>\n",
       "      <td>0</td>\n",
       "      <td>0</td>\n",
       "      <td>0</td>\n",
       "      <td>1</td>\n",
       "      <td>0</td>\n",
       "      <td>0</td>\n",
       "      <td>0</td>\n",
       "      <td>1</td>\n",
       "      <td>0</td>\n",
       "      <td>0</td>\n",
       "      <td>1</td>\n",
       "      <td>0</td>\n",
       "    </tr>\n",
       "  </tbody>\n",
       "</table>\n",
       "</div>"
      ],
      "text/plain": [
       "   cp_0  cp_1  cp_2  cp_3  restecg_0  restecg_1  restecg_2  slope_0  slope_1  \\\n",
       "0     0     0     0     1          1          0          0        1        0   \n",
       "1     0     0     1     0          0          1          0        1        0   \n",
       "2     0     1     0     0          1          0          0        0        0   \n",
       "3     0     1     0     0          0          1          0        0        0   \n",
       "4     1     0     0     0          0          1          0        0        0   \n",
       "\n",
       "   slope_2  thal_0  thal_1  thal_2  thal_3  \n",
       "0        0       0       1       0       0  \n",
       "1        0       0       0       1       0  \n",
       "2        1       0       0       1       0  \n",
       "3        1       0       0       1       0  \n",
       "4        1       0       0       1       0  "
      ]
     },
     "execution_count": 9,
     "metadata": {},
     "output_type": "execute_result"
    }
   ],
   "source": [
    "# perform one-hot encoding on categoric columns with three or more variables\n",
    "df_cat_3_one_hot = pd.get_dummies(df_cat_3)\n",
    "df_cat_3_one_hot.head()"
   ]
  },
  {
   "cell_type": "code",
   "execution_count": 10,
   "id": "7a4ab39b",
   "metadata": {
    "ExecuteTime": {
     "end_time": "2021-08-30T11:36:54.702201Z",
     "start_time": "2021-08-30T11:36:54.694036Z"
    }
   },
   "outputs": [
    {
     "data": {
      "text/html": [
       "<div>\n",
       "<style scoped>\n",
       "    .dataframe tbody tr th:only-of-type {\n",
       "        vertical-align: middle;\n",
       "    }\n",
       "\n",
       "    .dataframe tbody tr th {\n",
       "        vertical-align: top;\n",
       "    }\n",
       "\n",
       "    .dataframe thead th {\n",
       "        text-align: right;\n",
       "    }\n",
       "</style>\n",
       "<table border=\"1\" class=\"dataframe\">\n",
       "  <thead>\n",
       "    <tr style=\"text-align: right;\">\n",
       "      <th></th>\n",
       "      <th>sex</th>\n",
       "      <th>fbs</th>\n",
       "      <th>exang</th>\n",
       "    </tr>\n",
       "  </thead>\n",
       "  <tbody>\n",
       "    <tr>\n",
       "      <th>0</th>\n",
       "      <td>1</td>\n",
       "      <td>1</td>\n",
       "      <td>0</td>\n",
       "    </tr>\n",
       "    <tr>\n",
       "      <th>1</th>\n",
       "      <td>1</td>\n",
       "      <td>0</td>\n",
       "      <td>0</td>\n",
       "    </tr>\n",
       "    <tr>\n",
       "      <th>2</th>\n",
       "      <td>0</td>\n",
       "      <td>0</td>\n",
       "      <td>0</td>\n",
       "    </tr>\n",
       "    <tr>\n",
       "      <th>3</th>\n",
       "      <td>1</td>\n",
       "      <td>0</td>\n",
       "      <td>0</td>\n",
       "    </tr>\n",
       "    <tr>\n",
       "      <th>4</th>\n",
       "      <td>0</td>\n",
       "      <td>0</td>\n",
       "      <td>1</td>\n",
       "    </tr>\n",
       "  </tbody>\n",
       "</table>\n",
       "</div>"
      ],
      "text/plain": [
       "   sex  fbs  exang\n",
       "0    1    1      0\n",
       "1    1    0      0\n",
       "2    0    0      0\n",
       "3    1    0      0\n",
       "4    0    0      1"
      ]
     },
     "execution_count": 10,
     "metadata": {},
     "output_type": "execute_result"
    }
   ],
   "source": [
    "# get categoric columns with 2 variables only\n",
    "col_cat_2 = ['sex', 'fbs', 'exang']\n",
    "df_cat_2 = df[col_cat_2]\n",
    "df_cat_2.head()"
   ]
  },
  {
   "cell_type": "code",
   "execution_count": 11,
   "id": "21bf2f45",
   "metadata": {
    "ExecuteTime": {
     "end_time": "2021-08-30T11:36:54.726231Z",
     "start_time": "2021-08-30T11:36:54.703799Z"
    }
   },
   "outputs": [
    {
     "data": {
      "text/html": [
       "<div>\n",
       "<style scoped>\n",
       "    .dataframe tbody tr th:only-of-type {\n",
       "        vertical-align: middle;\n",
       "    }\n",
       "\n",
       "    .dataframe tbody tr th {\n",
       "        vertical-align: top;\n",
       "    }\n",
       "\n",
       "    .dataframe thead th {\n",
       "        text-align: right;\n",
       "    }\n",
       "</style>\n",
       "<table border=\"1\" class=\"dataframe\">\n",
       "  <thead>\n",
       "    <tr style=\"text-align: right;\">\n",
       "      <th></th>\n",
       "      <th>age</th>\n",
       "      <th>trestbps</th>\n",
       "      <th>chol</th>\n",
       "      <th>thalach</th>\n",
       "      <th>oldpeak</th>\n",
       "      <th>ca</th>\n",
       "      <th>sex</th>\n",
       "      <th>fbs</th>\n",
       "      <th>exang</th>\n",
       "      <th>cp_0</th>\n",
       "      <th>...</th>\n",
       "      <th>restecg_1</th>\n",
       "      <th>restecg_2</th>\n",
       "      <th>slope_0</th>\n",
       "      <th>slope_1</th>\n",
       "      <th>slope_2</th>\n",
       "      <th>thal_0</th>\n",
       "      <th>thal_1</th>\n",
       "      <th>thal_2</th>\n",
       "      <th>thal_3</th>\n",
       "      <th>target</th>\n",
       "    </tr>\n",
       "  </thead>\n",
       "  <tbody>\n",
       "    <tr>\n",
       "      <th>0</th>\n",
       "      <td>63</td>\n",
       "      <td>145</td>\n",
       "      <td>233</td>\n",
       "      <td>150</td>\n",
       "      <td>2.3</td>\n",
       "      <td>0</td>\n",
       "      <td>1</td>\n",
       "      <td>1</td>\n",
       "      <td>0</td>\n",
       "      <td>0</td>\n",
       "      <td>...</td>\n",
       "      <td>0</td>\n",
       "      <td>0</td>\n",
       "      <td>1</td>\n",
       "      <td>0</td>\n",
       "      <td>0</td>\n",
       "      <td>0</td>\n",
       "      <td>1</td>\n",
       "      <td>0</td>\n",
       "      <td>0</td>\n",
       "      <td>1</td>\n",
       "    </tr>\n",
       "    <tr>\n",
       "      <th>1</th>\n",
       "      <td>37</td>\n",
       "      <td>130</td>\n",
       "      <td>250</td>\n",
       "      <td>187</td>\n",
       "      <td>3.5</td>\n",
       "      <td>0</td>\n",
       "      <td>1</td>\n",
       "      <td>0</td>\n",
       "      <td>0</td>\n",
       "      <td>0</td>\n",
       "      <td>...</td>\n",
       "      <td>1</td>\n",
       "      <td>0</td>\n",
       "      <td>1</td>\n",
       "      <td>0</td>\n",
       "      <td>0</td>\n",
       "      <td>0</td>\n",
       "      <td>0</td>\n",
       "      <td>1</td>\n",
       "      <td>0</td>\n",
       "      <td>1</td>\n",
       "    </tr>\n",
       "    <tr>\n",
       "      <th>2</th>\n",
       "      <td>41</td>\n",
       "      <td>130</td>\n",
       "      <td>204</td>\n",
       "      <td>172</td>\n",
       "      <td>1.4</td>\n",
       "      <td>0</td>\n",
       "      <td>0</td>\n",
       "      <td>0</td>\n",
       "      <td>0</td>\n",
       "      <td>0</td>\n",
       "      <td>...</td>\n",
       "      <td>0</td>\n",
       "      <td>0</td>\n",
       "      <td>0</td>\n",
       "      <td>0</td>\n",
       "      <td>1</td>\n",
       "      <td>0</td>\n",
       "      <td>0</td>\n",
       "      <td>1</td>\n",
       "      <td>0</td>\n",
       "      <td>1</td>\n",
       "    </tr>\n",
       "    <tr>\n",
       "      <th>3</th>\n",
       "      <td>56</td>\n",
       "      <td>120</td>\n",
       "      <td>236</td>\n",
       "      <td>178</td>\n",
       "      <td>0.8</td>\n",
       "      <td>0</td>\n",
       "      <td>1</td>\n",
       "      <td>0</td>\n",
       "      <td>0</td>\n",
       "      <td>0</td>\n",
       "      <td>...</td>\n",
       "      <td>1</td>\n",
       "      <td>0</td>\n",
       "      <td>0</td>\n",
       "      <td>0</td>\n",
       "      <td>1</td>\n",
       "      <td>0</td>\n",
       "      <td>0</td>\n",
       "      <td>1</td>\n",
       "      <td>0</td>\n",
       "      <td>1</td>\n",
       "    </tr>\n",
       "    <tr>\n",
       "      <th>4</th>\n",
       "      <td>57</td>\n",
       "      <td>120</td>\n",
       "      <td>354</td>\n",
       "      <td>163</td>\n",
       "      <td>0.6</td>\n",
       "      <td>0</td>\n",
       "      <td>0</td>\n",
       "      <td>0</td>\n",
       "      <td>1</td>\n",
       "      <td>1</td>\n",
       "      <td>...</td>\n",
       "      <td>1</td>\n",
       "      <td>0</td>\n",
       "      <td>0</td>\n",
       "      <td>0</td>\n",
       "      <td>1</td>\n",
       "      <td>0</td>\n",
       "      <td>0</td>\n",
       "      <td>1</td>\n",
       "      <td>0</td>\n",
       "      <td>1</td>\n",
       "    </tr>\n",
       "  </tbody>\n",
       "</table>\n",
       "<p>5 rows × 24 columns</p>\n",
       "</div>"
      ],
      "text/plain": [
       "   age  trestbps  chol  thalach  oldpeak  ca  sex  fbs  exang  cp_0  ...  \\\n",
       "0   63       145   233      150      2.3   0    1    1      0     0  ...   \n",
       "1   37       130   250      187      3.5   0    1    0      0     0  ...   \n",
       "2   41       130   204      172      1.4   0    0    0      0     0  ...   \n",
       "3   56       120   236      178      0.8   0    1    0      0     0  ...   \n",
       "4   57       120   354      163      0.6   0    0    0      1     1  ...   \n",
       "\n",
       "   restecg_1  restecg_2  slope_0  slope_1  slope_2  thal_0  thal_1  thal_2  \\\n",
       "0          0          0        1        0        0       0       1       0   \n",
       "1          1          0        1        0        0       0       0       1   \n",
       "2          0          0        0        0        1       0       0       1   \n",
       "3          1          0        0        0        1       0       0       1   \n",
       "4          1          0        0        0        1       0       0       1   \n",
       "\n",
       "   thal_3  target  \n",
       "0       0       1  \n",
       "1       0       1  \n",
       "2       0       1  \n",
       "3       0       1  \n",
       "4       0       1  \n",
       "\n",
       "[5 rows x 24 columns]"
      ]
     },
     "execution_count": 11,
     "metadata": {},
     "output_type": "execute_result"
    }
   ],
   "source": [
    "# concatenate dataframe\n",
    "df_final = pd.concat([df_num, df_cat_2, df_cat_3_one_hot, df_target], axis=1)\n",
    "df_final.head()"
   ]
  },
  {
   "cell_type": "markdown",
   "id": "4fabce89",
   "metadata": {},
   "source": [
    "# Information Retrieval"
   ]
  },
  {
   "cell_type": "markdown",
   "id": "573207a0",
   "metadata": {},
   "source": [
    "## Practice Problem 1"
   ]
  },
  {
   "cell_type": "markdown",
   "id": "cae39c05",
   "metadata": {},
   "source": [
    "Create a function `closest_euc_p1` that accepts `df_final` and returns the 10 patient `id`s (this is the index) by increasing Euclidean distance from patient `id` `200`, precision and recall. A result is considered relevant if it comes from the same `target` as the query."
   ]
  },
  {
   "cell_type": "code",
   "execution_count": 12,
   "id": "7bf6475d",
   "metadata": {
    "ExecuteTime": {
     "end_time": "2021-08-30T11:36:54.796122Z",
     "start_time": "2021-08-30T11:36:54.727806Z"
    }
   },
   "outputs": [],
   "source": [
    "from scipy.spatial.distance import euclidean, cityblock, cosine\n",
    "\n",
    "def nearest_k(query, objects, k, dist):\n",
    "    \"\"\"Return the indices to objects most similar to query\"\"\"\n",
    "    return np.argsort([dist(query, obj) for obj in objects])[:k]\n",
    "\n",
    "def closest_euc_p1(df_final):\n",
    "    # get query\n",
    "    query = df_final.loc[200].to_numpy()\n",
    "    \n",
    "    # get actual\n",
    "    actual = query[23]\n",
    "    \n",
    "    # get objects\n",
    "    objects = df_final.to_numpy()\n",
    "    \n",
    "    # get all labels\n",
    "    all_labels = (df_final.to_numpy())[:, 23]\n",
    "    all_labels = np.array(all_labels)\n",
    "    \n",
    "    # get res\n",
    "    res = nearest_k(query, objects, 10, euclidean)\n",
    "    \n",
    "    # get relevant res\n",
    "    rel = 0\n",
    "    for i in res:\n",
    "        if all_labels[i] == actual:\n",
    "            rel += 1\n",
    "        else:\n",
    "            rel += 0\n",
    "    \n",
    "    # get irrelevant res\n",
    "    irr = 0\n",
    "    for i in range(len(all_labels)):\n",
    "        if (all_labels[i] != actual) and (i not in res):\n",
    "            irr += 1\n",
    "        else:\n",
    "            irr += 0\n",
    "    \n",
    "    # get tp, fp, fn, tn\n",
    "    tp = rel\n",
    "    fp = len(res) - tp\n",
    "    fn = len(all_labels) - len(res) - irr\n",
    "    tn = irr\n",
    "    \n",
    "    # calculate for precision and recall\n",
    "    prec = tp/(tp + fp)\n",
    "    rec = tp/(tp + fn)\n",
    "    return res, prec, rec"
   ]
  },
  {
   "cell_type": "code",
   "execution_count": 13,
   "id": "03be4995",
   "metadata": {
    "ExecuteTime": {
     "end_time": "2021-08-30T11:36:54.828512Z",
     "start_time": "2021-08-30T11:36:54.797809Z"
    }
   },
   "outputs": [
    {
     "data": {
      "text/plain": [
       "(array([200, 118,  30, 157, 142, 124,  58,  62, 113,   2]),\n",
       " 0.1,\n",
       " 0.00641025641025641)"
      ]
     },
     "execution_count": 13,
     "metadata": {},
     "output_type": "execute_result"
    }
   ],
   "source": [
    "res, prec, rec = closest_euc_p1(df_final)\n",
    "res, prec, rec"
   ]
  },
  {
   "cell_type": "code",
   "execution_count": 14,
   "id": "a98b7d16",
   "metadata": {
    "ExecuteTime": {
     "end_time": "2021-08-30T11:36:54.854069Z",
     "start_time": "2021-08-30T11:36:54.830185Z"
    }
   },
   "outputs": [
    {
     "data": {
      "text/html": [
       "<div>\n",
       "<style scoped>\n",
       "    .dataframe tbody tr th:only-of-type {\n",
       "        vertical-align: middle;\n",
       "    }\n",
       "\n",
       "    .dataframe tbody tr th {\n",
       "        vertical-align: top;\n",
       "    }\n",
       "\n",
       "    .dataframe thead th {\n",
       "        text-align: right;\n",
       "    }\n",
       "</style>\n",
       "<table border=\"1\" class=\"dataframe\">\n",
       "  <thead>\n",
       "    <tr style=\"text-align: right;\">\n",
       "      <th></th>\n",
       "      <th>age</th>\n",
       "      <th>trestbps</th>\n",
       "      <th>chol</th>\n",
       "      <th>thalach</th>\n",
       "      <th>oldpeak</th>\n",
       "      <th>ca</th>\n",
       "      <th>sex</th>\n",
       "      <th>fbs</th>\n",
       "      <th>exang</th>\n",
       "      <th>cp_0</th>\n",
       "      <th>...</th>\n",
       "      <th>restecg_1</th>\n",
       "      <th>restecg_2</th>\n",
       "      <th>slope_0</th>\n",
       "      <th>slope_1</th>\n",
       "      <th>slope_2</th>\n",
       "      <th>thal_0</th>\n",
       "      <th>thal_1</th>\n",
       "      <th>thal_2</th>\n",
       "      <th>thal_3</th>\n",
       "      <th>target</th>\n",
       "    </tr>\n",
       "  </thead>\n",
       "  <tbody>\n",
       "    <tr>\n",
       "      <th>200</th>\n",
       "      <td>44</td>\n",
       "      <td>110</td>\n",
       "      <td>197</td>\n",
       "      <td>177</td>\n",
       "      <td>0.0</td>\n",
       "      <td>1</td>\n",
       "      <td>1</td>\n",
       "      <td>0</td>\n",
       "      <td>0</td>\n",
       "      <td>1</td>\n",
       "      <td>...</td>\n",
       "      <td>0</td>\n",
       "      <td>0</td>\n",
       "      <td>0</td>\n",
       "      <td>0</td>\n",
       "      <td>1</td>\n",
       "      <td>0</td>\n",
       "      <td>0</td>\n",
       "      <td>1</td>\n",
       "      <td>0</td>\n",
       "      <td>0</td>\n",
       "    </tr>\n",
       "    <tr>\n",
       "      <th>118</th>\n",
       "      <td>46</td>\n",
       "      <td>105</td>\n",
       "      <td>204</td>\n",
       "      <td>172</td>\n",
       "      <td>0.0</td>\n",
       "      <td>0</td>\n",
       "      <td>0</td>\n",
       "      <td>0</td>\n",
       "      <td>0</td>\n",
       "      <td>0</td>\n",
       "      <td>...</td>\n",
       "      <td>1</td>\n",
       "      <td>0</td>\n",
       "      <td>0</td>\n",
       "      <td>0</td>\n",
       "      <td>1</td>\n",
       "      <td>0</td>\n",
       "      <td>0</td>\n",
       "      <td>1</td>\n",
       "      <td>0</td>\n",
       "      <td>1</td>\n",
       "    </tr>\n",
       "    <tr>\n",
       "      <th>30</th>\n",
       "      <td>41</td>\n",
       "      <td>105</td>\n",
       "      <td>198</td>\n",
       "      <td>168</td>\n",
       "      <td>0.0</td>\n",
       "      <td>1</td>\n",
       "      <td>0</td>\n",
       "      <td>0</td>\n",
       "      <td>0</td>\n",
       "      <td>0</td>\n",
       "      <td>...</td>\n",
       "      <td>1</td>\n",
       "      <td>0</td>\n",
       "      <td>0</td>\n",
       "      <td>0</td>\n",
       "      <td>1</td>\n",
       "      <td>0</td>\n",
       "      <td>0</td>\n",
       "      <td>1</td>\n",
       "      <td>0</td>\n",
       "      <td>1</td>\n",
       "    </tr>\n",
       "    <tr>\n",
       "      <th>157</th>\n",
       "      <td>35</td>\n",
       "      <td>122</td>\n",
       "      <td>192</td>\n",
       "      <td>174</td>\n",
       "      <td>0.0</td>\n",
       "      <td>0</td>\n",
       "      <td>1</td>\n",
       "      <td>0</td>\n",
       "      <td>0</td>\n",
       "      <td>0</td>\n",
       "      <td>...</td>\n",
       "      <td>1</td>\n",
       "      <td>0</td>\n",
       "      <td>0</td>\n",
       "      <td>0</td>\n",
       "      <td>1</td>\n",
       "      <td>0</td>\n",
       "      <td>0</td>\n",
       "      <td>1</td>\n",
       "      <td>0</td>\n",
       "      <td>1</td>\n",
       "    </tr>\n",
       "    <tr>\n",
       "      <th>142</th>\n",
       "      <td>42</td>\n",
       "      <td>120</td>\n",
       "      <td>209</td>\n",
       "      <td>173</td>\n",
       "      <td>0.0</td>\n",
       "      <td>0</td>\n",
       "      <td>0</td>\n",
       "      <td>0</td>\n",
       "      <td>0</td>\n",
       "      <td>0</td>\n",
       "      <td>...</td>\n",
       "      <td>1</td>\n",
       "      <td>0</td>\n",
       "      <td>0</td>\n",
       "      <td>1</td>\n",
       "      <td>0</td>\n",
       "      <td>0</td>\n",
       "      <td>0</td>\n",
       "      <td>1</td>\n",
       "      <td>0</td>\n",
       "      <td>1</td>\n",
       "    </tr>\n",
       "    <tr>\n",
       "      <th>124</th>\n",
       "      <td>39</td>\n",
       "      <td>94</td>\n",
       "      <td>199</td>\n",
       "      <td>179</td>\n",
       "      <td>0.0</td>\n",
       "      <td>0</td>\n",
       "      <td>0</td>\n",
       "      <td>0</td>\n",
       "      <td>0</td>\n",
       "      <td>0</td>\n",
       "      <td>...</td>\n",
       "      <td>1</td>\n",
       "      <td>0</td>\n",
       "      <td>0</td>\n",
       "      <td>0</td>\n",
       "      <td>1</td>\n",
       "      <td>0</td>\n",
       "      <td>0</td>\n",
       "      <td>1</td>\n",
       "      <td>0</td>\n",
       "      <td>1</td>\n",
       "    </tr>\n",
       "    <tr>\n",
       "      <th>58</th>\n",
       "      <td>34</td>\n",
       "      <td>118</td>\n",
       "      <td>182</td>\n",
       "      <td>174</td>\n",
       "      <td>0.0</td>\n",
       "      <td>0</td>\n",
       "      <td>1</td>\n",
       "      <td>0</td>\n",
       "      <td>0</td>\n",
       "      <td>0</td>\n",
       "      <td>...</td>\n",
       "      <td>0</td>\n",
       "      <td>0</td>\n",
       "      <td>0</td>\n",
       "      <td>0</td>\n",
       "      <td>1</td>\n",
       "      <td>0</td>\n",
       "      <td>0</td>\n",
       "      <td>1</td>\n",
       "      <td>0</td>\n",
       "      <td>1</td>\n",
       "    </tr>\n",
       "    <tr>\n",
       "      <th>62</th>\n",
       "      <td>52</td>\n",
       "      <td>118</td>\n",
       "      <td>186</td>\n",
       "      <td>190</td>\n",
       "      <td>0.0</td>\n",
       "      <td>0</td>\n",
       "      <td>1</td>\n",
       "      <td>0</td>\n",
       "      <td>0</td>\n",
       "      <td>0</td>\n",
       "      <td>...</td>\n",
       "      <td>0</td>\n",
       "      <td>0</td>\n",
       "      <td>0</td>\n",
       "      <td>1</td>\n",
       "      <td>0</td>\n",
       "      <td>0</td>\n",
       "      <td>1</td>\n",
       "      <td>0</td>\n",
       "      <td>0</td>\n",
       "      <td>1</td>\n",
       "    </tr>\n",
       "    <tr>\n",
       "      <th>113</th>\n",
       "      <td>43</td>\n",
       "      <td>110</td>\n",
       "      <td>211</td>\n",
       "      <td>161</td>\n",
       "      <td>0.0</td>\n",
       "      <td>0</td>\n",
       "      <td>1</td>\n",
       "      <td>0</td>\n",
       "      <td>0</td>\n",
       "      <td>1</td>\n",
       "      <td>...</td>\n",
       "      <td>1</td>\n",
       "      <td>0</td>\n",
       "      <td>0</td>\n",
       "      <td>0</td>\n",
       "      <td>1</td>\n",
       "      <td>0</td>\n",
       "      <td>0</td>\n",
       "      <td>0</td>\n",
       "      <td>1</td>\n",
       "      <td>1</td>\n",
       "    </tr>\n",
       "    <tr>\n",
       "      <th>2</th>\n",
       "      <td>41</td>\n",
       "      <td>130</td>\n",
       "      <td>204</td>\n",
       "      <td>172</td>\n",
       "      <td>1.4</td>\n",
       "      <td>0</td>\n",
       "      <td>0</td>\n",
       "      <td>0</td>\n",
       "      <td>0</td>\n",
       "      <td>0</td>\n",
       "      <td>...</td>\n",
       "      <td>0</td>\n",
       "      <td>0</td>\n",
       "      <td>0</td>\n",
       "      <td>0</td>\n",
       "      <td>1</td>\n",
       "      <td>0</td>\n",
       "      <td>0</td>\n",
       "      <td>1</td>\n",
       "      <td>0</td>\n",
       "      <td>1</td>\n",
       "    </tr>\n",
       "  </tbody>\n",
       "</table>\n",
       "<p>10 rows × 24 columns</p>\n",
       "</div>"
      ],
      "text/plain": [
       "     age  trestbps  chol  thalach  oldpeak  ca  sex  fbs  exang  cp_0  ...  \\\n",
       "200   44       110   197      177      0.0   1    1    0      0     1  ...   \n",
       "118   46       105   204      172      0.0   0    0    0      0     0  ...   \n",
       "30    41       105   198      168      0.0   1    0    0      0     0  ...   \n",
       "157   35       122   192      174      0.0   0    1    0      0     0  ...   \n",
       "142   42       120   209      173      0.0   0    0    0      0     0  ...   \n",
       "124   39        94   199      179      0.0   0    0    0      0     0  ...   \n",
       "58    34       118   182      174      0.0   0    1    0      0     0  ...   \n",
       "62    52       118   186      190      0.0   0    1    0      0     0  ...   \n",
       "113   43       110   211      161      0.0   0    1    0      0     1  ...   \n",
       "2     41       130   204      172      1.4   0    0    0      0     0  ...   \n",
       "\n",
       "     restecg_1  restecg_2  slope_0  slope_1  slope_2  thal_0  thal_1  thal_2  \\\n",
       "200          0          0        0        0        1       0       0       1   \n",
       "118          1          0        0        0        1       0       0       1   \n",
       "30           1          0        0        0        1       0       0       1   \n",
       "157          1          0        0        0        1       0       0       1   \n",
       "142          1          0        0        1        0       0       0       1   \n",
       "124          1          0        0        0        1       0       0       1   \n",
       "58           0          0        0        0        1       0       0       1   \n",
       "62           0          0        0        1        0       0       1       0   \n",
       "113          1          0        0        0        1       0       0       0   \n",
       "2            0          0        0        0        1       0       0       1   \n",
       "\n",
       "     thal_3  target  \n",
       "200       0       0  \n",
       "118       0       1  \n",
       "30        0       1  \n",
       "157       0       1  \n",
       "142       0       1  \n",
       "124       0       1  \n",
       "58        0       1  \n",
       "62        0       1  \n",
       "113       1       1  \n",
       "2         0       1  \n",
       "\n",
       "[10 rows x 24 columns]"
      ]
     },
     "execution_count": 14,
     "metadata": {},
     "output_type": "execute_result"
    }
   ],
   "source": [
    "df_final.loc[res]"
   ]
  },
  {
   "cell_type": "markdown",
   "id": "a60387c7",
   "metadata": {},
   "source": [
    "## Practice Problem 2"
   ]
  },
  {
   "cell_type": "markdown",
   "id": "bbf6c770",
   "metadata": {},
   "source": [
    "Create a function `compute_auc_euc_p2` that accepts `df_final` and returns the AUC distance when the patient `id` `200` is the query and Euclidean distance is the metric. A result is considered relevant if it comes from the same `target` as the query."
   ]
  },
  {
   "cell_type": "code",
   "execution_count": 16,
   "id": "dd23a966",
   "metadata": {
    "ExecuteTime": {
     "end_time": "2021-08-30T11:36:54.871696Z",
     "start_time": "2021-08-30T11:36:54.862648Z"
    }
   },
   "outputs": [],
   "source": [
    "def get_confusion(actual, results, all_labels):\n",
    "    index_labels = set(range(len(all_labels)))\n",
    "    index_results = set(results)\n",
    "    index_non = list(index_labels - index_results)\n",
    "    label_non = []\n",
    "    for i in index_non:\n",
    "        label_non.append(all_labels[i])\n",
    "    label_res = []\n",
    "    for i in results:\n",
    "        label_res.append(all_labels[i])\n",
    "    TP = 0\n",
    "    for i in label_res:\n",
    "        if i == actual:\n",
    "            TP += 1\n",
    "    FP = len(label_res) - TP\n",
    "    FN = 0\n",
    "    for i in label_non:\n",
    "        if i == actual:\n",
    "            FN += 1\n",
    "    TN = len(label_non) - FN\n",
    "    matrix = pd.DataFrame({'relevant': [TP, FN], 'irrelevant':[FP, TN]})\n",
    "    matrix.index = ['relevant', 'irrelevant']\n",
    "    return matrix\n",
    "\n",
    "def precision(confusion):\n",
    "    r = confusion.iloc[0, 0]\n",
    "    k = r + confusion.iloc[0, 1]\n",
    "    p = r/k\n",
    "    return p\n",
    "\n",
    "def recall(confusion):\n",
    "    r = confusion.iloc[0, 0]\n",
    "    n = r + confusion.iloc[1, 0]\n",
    "    rec = r/n\n",
    "    return rec\n",
    "\n",
    "def auc_pr(query, objects, dist, actual, all_labels):\n",
    "    init_rec, init_prec = [0], [1]\n",
    "    k_res = nearest_k(query, objects, len(objects), dist)\n",
    "    \n",
    "    for k in range(1, len(objects) + 1):\n",
    "        results = k_res[:k]\n",
    "        confusion = get_confusion(actual, results, all_labels)\n",
    "        init_rec.append(recall(confusion))\n",
    "        init_prec.append(precision(confusion))\n",
    "        \n",
    "    area_curve = np.trapz(init_prec, init_rec)\n",
    "    return area_curve"
   ]
  },
  {
   "cell_type": "code",
   "execution_count": 17,
   "id": "4ed0f861",
   "metadata": {
    "ExecuteTime": {
     "end_time": "2021-08-30T11:36:54.876670Z",
     "start_time": "2021-08-30T11:36:54.873163Z"
    }
   },
   "outputs": [],
   "source": [
    "def compute_auc_euc_p2(df_final):\n",
    "    # get query\n",
    "    query = df_final.loc[200].to_numpy()\n",
    "    \n",
    "    # get actual\n",
    "    actual = query[23]\n",
    "    \n",
    "    # get objects\n",
    "    objects = df_final.to_numpy()\n",
    "    \n",
    "    # get all labels\n",
    "    all_labels = (df_final.to_numpy())[:, 23]\n",
    "    all_labels = np.array(all_labels)\n",
    "    \n",
    "    auc = auc_pr(query, objects, euclidean, actual, all_labels)\n",
    "    return auc"
   ]
  },
  {
   "cell_type": "code",
   "execution_count": 18,
   "id": "a92118c4",
   "metadata": {
    "ExecuteTime": {
     "end_time": "2021-08-30T11:36:55.244149Z",
     "start_time": "2021-08-30T11:36:54.878123Z"
    }
   },
   "outputs": [
    {
     "data": {
      "text/plain": [
       "0.3571243542385059"
      ]
     },
     "execution_count": 18,
     "metadata": {},
     "output_type": "execute_result"
    }
   ],
   "source": [
    "compute_auc_euc_p2(df_final)"
   ]
  },
  {
   "cell_type": "markdown",
   "id": "8b569e09",
   "metadata": {},
   "source": [
    "## Practice Problem 2 (Aside)"
   ]
  },
  {
   "cell_type": "markdown",
   "id": "598f935b",
   "metadata": {},
   "source": [
    "Plot the PR-curve of the results given above. What can you say about the resulting graph?"
   ]
  },
  {
   "cell_type": "code",
   "execution_count": 19,
   "id": "04873de6",
   "metadata": {
    "ExecuteTime": {
     "end_time": "2021-08-30T11:36:55.251324Z",
     "start_time": "2021-08-30T11:36:55.245835Z"
    }
   },
   "outputs": [],
   "source": [
    "def pr_curve(query, objects, dist, actual, all_labels):\n",
    "    init_rec, init_prec = [0], [1]\n",
    "    k_res = nearest_k(query, objects, len(objects), dist)\n",
    "    \n",
    "    for k in range(1, len(objects) + 1):\n",
    "        results = k_res[:k]\n",
    "        confusion = get_confusion(actual, results, all_labels)\n",
    "        init_rec.append(recall(confusion))\n",
    "        init_prec.append(precision(confusion))\n",
    "\n",
    "    fig, ax = plt.subplots(1, 1)\n",
    "    ax.set_xlabel('recall')\n",
    "    ax.set_ylabel('precision')\n",
    "    ax.set_aspect('equal')\n",
    "    ax.step(init_rec, init_prec, where='post')\n",
    "    ax.fill_between(init_rec, init_prec, step='post')\n",
    "    ax.set_ylim((0, 1))\n",
    "    ax.set_xlim((0, 1))\n",
    "    plt.show()\n",
    "    return ax"
   ]
  },
  {
   "cell_type": "code",
   "execution_count": 20,
   "id": "d1e6a60b",
   "metadata": {
    "ExecuteTime": {
     "end_time": "2021-08-30T11:36:55.256756Z",
     "start_time": "2021-08-30T11:36:55.252786Z"
    }
   },
   "outputs": [],
   "source": [
    "# get query\n",
    "query = df_final.loc[200].to_numpy()\n",
    "\n",
    "# get actual\n",
    "actual = query[23]\n",
    "\n",
    "# get objects\n",
    "objects = df_final.to_numpy()\n",
    "\n",
    "# get all labels\n",
    "all_labels = (df_final.to_numpy())[:, 23]\n",
    "all_labels = np.array(all_labels)"
   ]
  },
  {
   "cell_type": "code",
   "execution_count": 21,
   "id": "482b17cb",
   "metadata": {
    "ExecuteTime": {
     "end_time": "2021-08-30T11:36:55.796451Z",
     "start_time": "2021-08-30T11:36:55.258252Z"
    }
   },
   "outputs": [
    {
     "data": {
      "image/png": "[encoded data removed]",
      "text/plain": [
       "<Figure size 432x288 with 1 Axes>"
      ]
     },
     "metadata": {
      "needs_background": "light"
     },
     "output_type": "display_data"
    }
   ],
   "source": [
    "pr_curve(query, objects, euclidean, actual, all_labels);"
   ]
  },
  {
   "cell_type": "markdown",
   "id": "3782ed67",
   "metadata": {},
   "source": [
    "# Dimensionality Reduction and Clustering"
   ]
  },
  {
   "cell_type": "markdown",
   "id": "97b3a52a",
   "metadata": {},
   "source": [
    "Note that when performing dimensionality reduction and clustering, the `target` feature is removed from the dataset."
   ]
  },
  {
   "cell_type": "markdown",
   "id": "216646d7",
   "metadata": {},
   "source": [
    "## Practice Problem 3"
   ]
  },
  {
   "cell_type": "markdown",
   "id": "96124b0b",
   "metadata": {},
   "source": [
    "Perform dimensionality reduction on `df_final` using one of the methods discussed in class. Justify your choice of dimensionality reduction method."
   ]
  },
  {
   "cell_type": "markdown",
   "id": "b63a1951",
   "metadata": {},
   "source": [
    "Your answer here"
   ]
  },
  {
   "cell_type": "code",
   "execution_count": 22,
   "id": "54336c13",
   "metadata": {
    "ExecuteTime": {
     "end_time": "2021-08-30T11:36:55.800812Z",
     "start_time": "2021-08-30T11:36:55.798362Z"
    }
   },
   "outputs": [],
   "source": [
    "# Your code here"
   ]
  },
  {
   "cell_type": "markdown",
   "id": "bc40af29",
   "metadata": {},
   "source": [
    "## Practice Problem 4"
   ]
  },
  {
   "cell_type": "markdown",
   "id": "5a171e3a",
   "metadata": {},
   "source": [
    "Interpret the results of the dimensionality reduction."
   ]
  },
  {
   "cell_type": "markdown",
   "id": "85a0bb8c",
   "metadata": {},
   "source": [
    "Your answer here"
   ]
  },
  {
   "cell_type": "markdown",
   "id": "5d7af69d",
   "metadata": {},
   "source": [
    "## Practice Problem 5"
   ]
  },
  {
   "cell_type": "markdown",
   "id": "6c156b92",
   "metadata": {},
   "source": [
    "Cluster `df_final` (with reduced dimensions), i.e., assign a cluster label to each patient, using an representative based clustering method. What is the best value for the number of clusters? Justify your choice of method and your best number of clusters."
   ]
  },
  {
   "cell_type": "markdown",
   "id": "f536253e",
   "metadata": {},
   "source": [
    "Your answer here"
   ]
  },
  {
   "cell_type": "code",
   "execution_count": 23,
   "id": "e7f935c8",
   "metadata": {
    "ExecuteTime": {
     "end_time": "2021-08-30T11:36:55.804616Z",
     "start_time": "2021-08-30T11:36:55.802295Z"
    }
   },
   "outputs": [],
   "source": [
    "# Your code here"
   ]
  },
  {
   "cell_type": "markdown",
   "id": "02c03151",
   "metadata": {},
   "source": [
    "## Practice Problem 6"
   ]
  },
  {
   "cell_type": "markdown",
   "id": "1aa2823b",
   "metadata": {},
   "source": [
    "Cluster `df_final` (with reduced dimensions), i.e., assign a cluster label to each patient, using an agglomerative clustering method. What is the best value for the number of clusters? Justify your choice of method and your best number of clusters."
   ]
  },
  {
   "cell_type": "markdown",
   "id": "5f820a4c",
   "metadata": {},
   "source": [
    "Your answer here"
   ]
  },
  {
   "cell_type": "code",
   "execution_count": 24,
   "id": "aba61d18",
   "metadata": {
    "ExecuteTime": {
     "end_time": "2021-08-30T11:36:55.808495Z",
     "start_time": "2021-08-30T11:36:55.806240Z"
    }
   },
   "outputs": [],
   "source": [
    "# Your code here"
   ]
  }
 ],
 "metadata": {
  "kernelspec": {
   "display_name": "Python 3",
   "language": "python",
   "name": "python3"
  },
  "language_info": {
   "codemirror_mode": {
    "name": "ipython",
    "version": 3
   },
   "file_extension": ".py",
   "mimetype": "text/x-python",
   "name": "python",
   "nbconvert_exporter": "python",
   "pygments_lexer": "ipython3",
   "version": "3.8.10"
  }
 },
 "nbformat": 4,
 "nbformat_minor": 5
}
