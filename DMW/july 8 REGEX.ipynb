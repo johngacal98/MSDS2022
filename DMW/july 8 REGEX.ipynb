{
 "cells": [
  {
   "cell_type": "code",
   "execution_count": 1,
   "id": "e8af8167",
   "metadata": {},
   "outputs": [],
   "source": [
    "import re"
   ]
  },
  {
   "cell_type": "code",
   "execution_count": 2,
   "id": "8427bd64",
   "metadata": {},
   "outputs": [],
   "source": [
    "text = 'Hello world! How are you! How do you do?'"
   ]
  },
  {
   "cell_type": "code",
   "execution_count": 3,
   "id": "cd9e43dd",
   "metadata": {},
   "outputs": [],
   "source": [
    "def starts_with_foo(text):\n",
    "    \"\"\"True if text starts with foo\"\"\"\n",
    "    return text.startswith('foo')\n"
   ]
  },
  {
   "cell_type": "code",
   "execution_count": 4,
   "id": "175ed69f",
   "metadata": {},
   "outputs": [],
   "source": [
    "def starts_with_foo_insensitive(text):\n",
    "    return text.lower().startswith('foo')"
   ]
  },
  {
   "cell_type": "code",
   "execution_count": 5,
   "id": "67eb28a7",
   "metadata": {},
   "outputs": [],
   "source": [
    "def ends_with_foo_insensitive(text):\n",
    "    return text.lower().endswith('foo')"
   ]
  },
  {
   "cell_type": "code",
   "execution_count": 6,
   "id": "ae54907c",
   "metadata": {},
   "outputs": [],
   "source": [
    "def has_foo(text):\n",
    "    return 'foo' in text"
   ]
  },
  {
   "cell_type": "code",
   "execution_count": 7,
   "id": "ddb64611",
   "metadata": {},
   "outputs": [],
   "source": [
    "def has_foo_insensitive(text):\n",
    "    return 'foo' in text.lower()"
   ]
  },
  {
   "cell_type": "code",
   "execution_count": 8,
   "id": "0d5a1e1b",
   "metadata": {},
   "outputs": [],
   "source": [
    "def begins_with_number(text):\n",
    "    return text[0].isdigit()"
   ]
  },
  {
   "cell_type": "code",
   "execution_count": 9,
   "id": "4213aa5a",
   "metadata": {},
   "outputs": [],
   "source": [
    "def begins_with_number_then_character(text):\n",
    "    return text[0].isdigit() and text[1].isalpha()"
   ]
  },
  {
   "cell_type": "markdown",
   "id": "808b4295",
   "metadata": {},
   "source": [
    "Using regex..."
   ]
  },
  {
   "cell_type": "code",
   "execution_count": 10,
   "id": "c7234f18",
   "metadata": {},
   "outputs": [],
   "source": [
    "def starts_with_foo(text):\n",
    "    \"\"\"True if text starts with foo\"\"\"\n",
    "    return re.match('^foo', text) is not None\n"
   ]
  },
  {
   "cell_type": "code",
   "execution_count": 11,
   "id": "bd4c18f2",
   "metadata": {},
   "outputs": [],
   "source": [
    "def starts_with_foo_insensitive(text):\n",
    "    return re.match('^foo', text, re.I) is not None"
   ]
  },
  {
   "cell_type": "code",
   "execution_count": 12,
   "id": "6aebdb6f",
   "metadata": {},
   "outputs": [],
   "source": [
    "def ends_with_foo_insensitive(text):\n",
    "    return re.search('foo$', text, re.I) is not None"
   ]
  },
  {
   "cell_type": "code",
   "execution_count": 13,
   "id": "4e9308f9",
   "metadata": {},
   "outputs": [],
   "source": [
    "def has_foo(text):\n",
    "    return re.search('foo', text) is not None"
   ]
  },
  {
   "cell_type": "code",
   "execution_count": 14,
   "id": "cd3a4f8d",
   "metadata": {},
   "outputs": [],
   "source": [
    "def begins_with_number(text):\n",
    "    return re.match(r'^\\d', text) is not None"
   ]
  },
  {
   "cell_type": "code",
   "execution_count": 15,
   "id": "cd2db16e",
   "metadata": {},
   "outputs": [],
   "source": [
    "def begins_with_number_then_character(text):\n",
    "    return re.match(r'^\\d\\w', text) is not None"
   ]
  },
  {
   "cell_type": "code",
   "execution_count": null,
   "id": "fc4b80e3",
   "metadata": {},
   "outputs": [],
   "source": []
  },
  {
   "cell_type": "code",
   "execution_count": null,
   "id": "36e6a9b4",
   "metadata": {},
   "outputs": [],
   "source": []
  },
  {
   "cell_type": "code",
   "execution_count": 16,
   "id": "4bdbb62b",
   "metadata": {},
   "outputs": [
    {
     "data": {
      "text/plain": [
       "<re.Match object; span=(0, 2), match='1a'>"
      ]
     },
     "execution_count": 16,
     "metadata": {},
     "output_type": "execute_result"
    }
   ],
   "source": [
    "re.match(r'^\\d\\w', '1a')"
   ]
  },
  {
   "cell_type": "code",
   "execution_count": 17,
   "id": "0945db22",
   "metadata": {},
   "outputs": [],
   "source": [
    "lazydog = '''The quick brown fox jumps over the lazydog. The quick brown fox jumps over the lazy dog. \n",
    "The quick brown. the. she he. ,he, ^he'''\n"
   ]
  },
  {
   "cell_type": "code",
   "execution_count": 18,
   "id": "b044601b",
   "metadata": {},
   "outputs": [],
   "source": [
    "m = re.match('The', lazydog)"
   ]
  },
  {
   "cell_type": "code",
   "execution_count": 19,
   "id": "c05b2141",
   "metadata": {},
   "outputs": [
    {
     "data": {
      "text/plain": [
       "'The'"
      ]
     },
     "execution_count": 19,
     "metadata": {},
     "output_type": "execute_result"
    }
   ],
   "source": [
    "m.group()"
   ]
  },
  {
   "cell_type": "code",
   "execution_count": 20,
   "id": "ceb812a2",
   "metadata": {},
   "outputs": [
    {
     "data": {
      "text/plain": [
       "'The'"
      ]
     },
     "execution_count": 20,
     "metadata": {},
     "output_type": "execute_result"
    }
   ],
   "source": [
    "m.group(0)"
   ]
  },
  {
   "cell_type": "code",
   "execution_count": 21,
   "id": "88b14454",
   "metadata": {},
   "outputs": [],
   "source": [
    "s = re.search('The', lazydog)"
   ]
  },
  {
   "cell_type": "code",
   "execution_count": 22,
   "id": "e3a19b9f",
   "metadata": {},
   "outputs": [
    {
     "data": {
      "text/plain": [
       "0"
      ]
     },
     "execution_count": 22,
     "metadata": {},
     "output_type": "execute_result"
    }
   ],
   "source": [
    "s.start()"
   ]
  },
  {
   "cell_type": "code",
   "execution_count": 23,
   "id": "4cd29e85",
   "metadata": {},
   "outputs": [
    {
     "data": {
      "text/plain": [
       "3"
      ]
     },
     "execution_count": 23,
     "metadata": {},
     "output_type": "execute_result"
    }
   ],
   "source": [
    "s.end()"
   ]
  },
  {
   "cell_type": "code",
   "execution_count": 24,
   "id": "8bf292ee",
   "metadata": {},
   "outputs": [
    {
     "data": {
      "text/plain": [
       "['The', 'The', 'The']"
      ]
     },
     "execution_count": 24,
     "metadata": {},
     "output_type": "execute_result"
    }
   ],
   "source": [
    "re.findall('The', lazydog)"
   ]
  },
  {
   "cell_type": "code",
   "execution_count": 25,
   "id": "232c08c2",
   "metadata": {},
   "outputs": [
    {
     "data": {
      "text/plain": [
       "['The', 'the', 'The', 'the', 'The', 'the']"
      ]
     },
     "execution_count": 25,
     "metadata": {},
     "output_type": "execute_result"
    }
   ],
   "source": [
    "re.findall('[Tt]he', lazydog) #Finds The, the"
   ]
  },
  {
   "cell_type": "code",
   "execution_count": 26,
   "id": "66a79cdb",
   "metadata": {},
   "outputs": [
    {
     "data": {
      "text/plain": [
       "['The', 'the', 'The', 'the', 'The', 'the', 'she']"
      ]
     },
     "execution_count": 26,
     "metadata": {},
     "output_type": "execute_result"
    }
   ],
   "source": [
    "re.findall('[sTt]he', lazydog) #finds she, The, the"
   ]
  },
  {
   "cell_type": "code",
   "execution_count": 27,
   "id": "4e542bac",
   "metadata": {},
   "outputs": [
    {
     "data": {
      "text/plain": [
       "['The', 'the', 'The', 'the', 'The', 'the', 'she', ' he', ',he']"
      ]
     },
     "execution_count": 27,
     "metadata": {},
     "output_type": "execute_result"
    }
   ],
   "source": [
    "re.findall('[sTt, ]he', lazydog)  #The, the, she, ,he, he"
   ]
  },
  {
   "cell_type": "code",
   "execution_count": 28,
   "id": "79869d0e",
   "metadata": {},
   "outputs": [
    {
     "data": {
      "text/plain": [
       "['The', 'the', 'The', 'the', 'The', 'the']"
      ]
     },
     "execution_count": 28,
     "metadata": {},
     "output_type": "execute_result"
    }
   ],
   "source": [
    "re.findall('[Tt][he]e', lazydog) #The, the, Tee, tee"
   ]
  },
  {
   "cell_type": "code",
   "execution_count": 29,
   "id": "d6317f2f",
   "metadata": {},
   "outputs": [
    {
     "data": {
      "text/plain": [
       "['The', 'The', 'The', 'she', ' he', ',he', '^he']"
      ]
     },
     "execution_count": 29,
     "metadata": {},
     "output_type": "execute_result"
    }
   ],
   "source": [
    "#excluding a char t\n",
    "re.findall('[^t]he', lazydog) #not the"
   ]
  },
  {
   "cell_type": "code",
   "execution_count": 30,
   "id": "ffdf1100",
   "metadata": {},
   "outputs": [
    {
     "data": {
      "text/plain": [
       "['the', 'the', 'the', '^he']"
      ]
     },
     "execution_count": 30,
     "metadata": {},
     "output_type": "execute_result"
    }
   ],
   "source": [
    "re.findall('[t^]he', lazydog) #the, ^he"
   ]
  },
  {
   "cell_type": "code",
   "execution_count": 31,
   "id": "1e862783",
   "metadata": {},
   "outputs": [
    {
     "data": {
      "text/plain": [
       "[]"
      ]
     },
     "execution_count": 31,
     "metadata": {},
     "output_type": "execute_result"
    }
   ],
   "source": [
    "re.findall('[a-d]he', lazydog) #ahe, bhe, che, dhe"
   ]
  },
  {
   "cell_type": "code",
   "execution_count": 32,
   "id": "b48568af",
   "metadata": {},
   "outputs": [
    {
     "data": {
      "text/plain": [
       "[]"
      ]
     },
     "execution_count": 32,
     "metadata": {},
     "output_type": "execute_result"
    }
   ],
   "source": [
    "re.findall(r'^he', lazydog) #^he"
   ]
  },
  {
   "cell_type": "code",
   "execution_count": 33,
   "id": "8bd6f92d",
   "metadata": {},
   "outputs": [
    {
     "data": {
      "text/plain": [
       "['T',\n",
       " 'h',\n",
       " 'e',\n",
       " 'q',\n",
       " 'u',\n",
       " 'i',\n",
       " 'c',\n",
       " 'k',\n",
       " 'b',\n",
       " 'r',\n",
       " 'o',\n",
       " 'w',\n",
       " 'n',\n",
       " 'f',\n",
       " 'o',\n",
       " 'x',\n",
       " 'j',\n",
       " 'u',\n",
       " 'm',\n",
       " 'p',\n",
       " 's',\n",
       " 'o',\n",
       " 'v',\n",
       " 'e',\n",
       " 'r',\n",
       " 't',\n",
       " 'h',\n",
       " 'e',\n",
       " 'l',\n",
       " 'a',\n",
       " 'z',\n",
       " 'y',\n",
       " 'd',\n",
       " 'o',\n",
       " 'g',\n",
       " 'T',\n",
       " 'h',\n",
       " 'e',\n",
       " 'q',\n",
       " 'u',\n",
       " 'i',\n",
       " 'c',\n",
       " 'k',\n",
       " 'b',\n",
       " 'r',\n",
       " 'o',\n",
       " 'w',\n",
       " 'n',\n",
       " 'f',\n",
       " 'o',\n",
       " 'x',\n",
       " 'j',\n",
       " 'u',\n",
       " 'm',\n",
       " 'p',\n",
       " 's',\n",
       " 'o',\n",
       " 'v',\n",
       " 'e',\n",
       " 'r',\n",
       " 't',\n",
       " 'h',\n",
       " 'e',\n",
       " 'l',\n",
       " 'a',\n",
       " 'z',\n",
       " 'y',\n",
       " 'd',\n",
       " 'o',\n",
       " 'g',\n",
       " 'T',\n",
       " 'h',\n",
       " 'e',\n",
       " 'q',\n",
       " 'u',\n",
       " 'i',\n",
       " 'c',\n",
       " 'k',\n",
       " 'b',\n",
       " 'r',\n",
       " 'o',\n",
       " 'w',\n",
       " 'n',\n",
       " 't',\n",
       " 'h',\n",
       " 'e',\n",
       " 's',\n",
       " 'h',\n",
       " 'e',\n",
       " 'h',\n",
       " 'e',\n",
       " 'h',\n",
       " 'e',\n",
       " 'h',\n",
       " 'e']"
      ]
     },
     "execution_count": 33,
     "metadata": {},
     "output_type": "execute_result"
    }
   ],
   "source": [
    "re.findall('[a-zA-Z]', lazydog) #any alphabetic char"
   ]
  },
  {
   "cell_type": "code",
   "execution_count": 34,
   "id": "c44958fd",
   "metadata": {},
   "outputs": [
    {
     "data": {
      "text/plain": [
       "['The', 'the', 'The', 'the', 'The', 'the', 'she', ' he', ',he', '^he']"
      ]
     },
     "execution_count": 34,
     "metadata": {},
     "output_type": "execute_result"
    }
   ],
   "source": [
    "re.findall('.he', lazydog) #ahe, bhe, che,..., zhe, Ahe,..,Zhe, 0he,..,9he, <whitespace>he"
   ]
  },
  {
   "cell_type": "code",
   "execution_count": 35,
   "id": "9618d6d8",
   "metadata": {},
   "outputs": [
    {
     "data": {
      "text/plain": [
       "['1', '2', '3']"
      ]
     },
     "execution_count": 35,
     "metadata": {},
     "output_type": "execute_result"
    }
   ],
   "source": [
    "re.findall(r'\\d', '1.23') #decimal digit"
   ]
  },
  {
   "cell_type": "code",
   "execution_count": 36,
   "id": "b5003397",
   "metadata": {},
   "outputs": [
    {
     "data": {
      "text/plain": [
       "['a', 'b', 'c']"
      ]
     },
     "execution_count": 36,
     "metadata": {},
     "output_type": "execute_result"
    }
   ],
   "source": [
    "re.findall(r'\\D', '123abc') # not decimal digit"
   ]
  },
  {
   "cell_type": "code",
   "execution_count": 37,
   "id": "129d934f",
   "metadata": {},
   "outputs": [
    {
     "data": {
      "text/plain": [
       "[' brown ']"
      ]
     },
     "execution_count": 37,
     "metadata": {},
     "output_type": "execute_result"
    }
   ],
   "source": [
    "#\\s is whitespace\n",
    "re.findall(r'\\sbrown\\s', 'brown. brown. brown ') #brown"
   ]
  },
  {
   "cell_type": "code",
   "execution_count": 38,
   "id": "ac12cdf2",
   "metadata": {},
   "outputs": [
    {
     "data": {
      "text/plain": [
       "['T',\n",
       " 'h',\n",
       " 'e',\n",
       " 'q',\n",
       " 'u',\n",
       " 'i',\n",
       " 'c',\n",
       " 'k',\n",
       " 'b',\n",
       " 'r',\n",
       " 'o',\n",
       " 'w',\n",
       " 'n',\n",
       " 'f',\n",
       " 'o',\n",
       " 'x',\n",
       " 'j',\n",
       " 'u',\n",
       " 'm',\n",
       " 'p',\n",
       " 's',\n",
       " 'o',\n",
       " 'v',\n",
       " 'e',\n",
       " 'r',\n",
       " 't',\n",
       " 'h',\n",
       " 'e',\n",
       " 'l',\n",
       " 'a',\n",
       " 'z',\n",
       " 'y',\n",
       " 'd',\n",
       " 'o',\n",
       " 'g',\n",
       " 'T',\n",
       " 'h',\n",
       " 'e',\n",
       " 'q',\n",
       " 'u',\n",
       " 'i',\n",
       " 'c',\n",
       " 'k',\n",
       " 'b',\n",
       " 'r',\n",
       " 'o',\n",
       " 'w',\n",
       " 'n',\n",
       " 'f',\n",
       " 'o',\n",
       " 'x',\n",
       " 'j',\n",
       " 'u',\n",
       " 'm',\n",
       " 'p',\n",
       " 's',\n",
       " 'o',\n",
       " 'v',\n",
       " 'e',\n",
       " 'r',\n",
       " 't',\n",
       " 'h',\n",
       " 'e',\n",
       " 'l',\n",
       " 'a',\n",
       " 'z',\n",
       " 'y',\n",
       " 'd',\n",
       " 'o',\n",
       " 'g',\n",
       " 'T',\n",
       " 'h',\n",
       " 'e',\n",
       " 'q',\n",
       " 'u',\n",
       " 'i',\n",
       " 'c',\n",
       " 'k',\n",
       " 'b',\n",
       " 'r',\n",
       " 'o',\n",
       " 'w',\n",
       " 'n',\n",
       " 't',\n",
       " 'h',\n",
       " 'e',\n",
       " 's',\n",
       " 'h',\n",
       " 'e',\n",
       " 'h',\n",
       " 'e',\n",
       " 'h',\n",
       " 'e',\n",
       " 'h',\n",
       " 'e']"
      ]
     },
     "execution_count": 38,
     "metadata": {},
     "output_type": "execute_result"
    }
   ],
   "source": [
    "#\\w any char a-z A-Z 0-9 _ \n",
    "#\\W is opposite of \\w\n",
    "re.findall(r'\\w', lazydog) #[a-zA-Z0-9_]"
   ]
  },
  {
   "cell_type": "code",
   "execution_count": 39,
   "id": "216f0338",
   "metadata": {},
   "outputs": [],
   "source": [
    "twinkle = '''Twinkle, twinkle, little star\n",
    "How I wonder what you are\n",
    "Up above the world so high\n",
    "Like a diamond in the sky\n",
    "Twinkle, twinkle little star\n",
    "How I wonder what you are\n",
    "When the blazing sun is gone\n",
    "When he nothing shines upon\n",
    "Then you show your little light\n",
    "Twinkle, twinkle, all the night\n",
    "Twinkle, twinkle, little star\n",
    "How I wonder what you are'''"
   ]
  },
  {
   "cell_type": "code",
   "execution_count": 40,
   "id": "fb099c04",
   "metadata": {},
   "outputs": [
    {
     "data": {
      "text/plain": [
       "['',\n",
       " '',\n",
       " '',\n",
       " '',\n",
       " '',\n",
       " '',\n",
       " '',\n",
       " '',\n",
       " '',\n",
       " 't',\n",
       " '',\n",
       " '',\n",
       " '',\n",
       " '',\n",
       " '',\n",
       " '',\n",
       " '',\n",
       " '',\n",
       " '',\n",
       " '',\n",
       " 'tt',\n",
       " '',\n",
       " '',\n",
       " '',\n",
       " '',\n",
       " 't',\n",
       " '',\n",
       " '',\n",
       " '',\n",
       " '',\n",
       " '',\n",
       " '',\n",
       " '',\n",
       " '',\n",
       " '',\n",
       " '',\n",
       " '',\n",
       " '',\n",
       " '',\n",
       " '',\n",
       " '',\n",
       " '',\n",
       " '',\n",
       " '',\n",
       " '',\n",
       " 't',\n",
       " '',\n",
       " '',\n",
       " '',\n",
       " '',\n",
       " '',\n",
       " '',\n",
       " '',\n",
       " '',\n",
       " '',\n",
       " '',\n",
       " '',\n",
       " '',\n",
       " '',\n",
       " '',\n",
       " '',\n",
       " '',\n",
       " '',\n",
       " '',\n",
       " 't',\n",
       " '',\n",
       " '',\n",
       " '',\n",
       " '',\n",
       " '',\n",
       " '',\n",
       " '',\n",
       " '',\n",
       " '',\n",
       " '',\n",
       " '',\n",
       " '',\n",
       " '',\n",
       " '',\n",
       " '',\n",
       " '',\n",
       " '',\n",
       " '',\n",
       " '',\n",
       " '',\n",
       " '',\n",
       " '',\n",
       " '',\n",
       " '',\n",
       " '',\n",
       " '',\n",
       " '',\n",
       " '',\n",
       " '',\n",
       " '',\n",
       " '',\n",
       " '',\n",
       " '',\n",
       " '',\n",
       " '',\n",
       " 't',\n",
       " '',\n",
       " '',\n",
       " '',\n",
       " '',\n",
       " '',\n",
       " '',\n",
       " '',\n",
       " '',\n",
       " '',\n",
       " '',\n",
       " '',\n",
       " '',\n",
       " '',\n",
       " '',\n",
       " '',\n",
       " '',\n",
       " 't',\n",
       " '',\n",
       " '',\n",
       " '',\n",
       " '',\n",
       " '',\n",
       " '',\n",
       " '',\n",
       " '',\n",
       " '',\n",
       " 'tt',\n",
       " '',\n",
       " '',\n",
       " '',\n",
       " '',\n",
       " 't',\n",
       " '',\n",
       " '',\n",
       " '',\n",
       " '',\n",
       " '',\n",
       " '',\n",
       " '',\n",
       " '',\n",
       " '',\n",
       " '',\n",
       " '',\n",
       " '',\n",
       " '',\n",
       " '',\n",
       " '',\n",
       " '',\n",
       " '',\n",
       " '',\n",
       " '',\n",
       " 't',\n",
       " '',\n",
       " '',\n",
       " '',\n",
       " '',\n",
       " '',\n",
       " '',\n",
       " '',\n",
       " '',\n",
       " '',\n",
       " '',\n",
       " '',\n",
       " '',\n",
       " '',\n",
       " '',\n",
       " 't',\n",
       " '',\n",
       " '',\n",
       " '',\n",
       " '',\n",
       " '',\n",
       " '',\n",
       " '',\n",
       " '',\n",
       " '',\n",
       " '',\n",
       " '',\n",
       " '',\n",
       " '',\n",
       " '',\n",
       " '',\n",
       " '',\n",
       " '',\n",
       " '',\n",
       " '',\n",
       " '',\n",
       " '',\n",
       " '',\n",
       " '',\n",
       " '',\n",
       " '',\n",
       " '',\n",
       " '',\n",
       " '',\n",
       " '',\n",
       " '',\n",
       " '',\n",
       " '',\n",
       " '',\n",
       " 't',\n",
       " '',\n",
       " '',\n",
       " '',\n",
       " '',\n",
       " '',\n",
       " '',\n",
       " '',\n",
       " '',\n",
       " '',\n",
       " '',\n",
       " '',\n",
       " '',\n",
       " '',\n",
       " '',\n",
       " '',\n",
       " '',\n",
       " '',\n",
       " '',\n",
       " '',\n",
       " '',\n",
       " '',\n",
       " '',\n",
       " '',\n",
       " '',\n",
       " '',\n",
       " '',\n",
       " '',\n",
       " '',\n",
       " '',\n",
       " '',\n",
       " '',\n",
       " '',\n",
       " '',\n",
       " '',\n",
       " '',\n",
       " '',\n",
       " '',\n",
       " '',\n",
       " 'tt',\n",
       " '',\n",
       " '',\n",
       " '',\n",
       " '',\n",
       " '',\n",
       " '',\n",
       " '',\n",
       " 't',\n",
       " '',\n",
       " '',\n",
       " '',\n",
       " '',\n",
       " '',\n",
       " '',\n",
       " '',\n",
       " '',\n",
       " '',\n",
       " '',\n",
       " 't',\n",
       " '',\n",
       " '',\n",
       " '',\n",
       " '',\n",
       " '',\n",
       " '',\n",
       " '',\n",
       " '',\n",
       " '',\n",
       " '',\n",
       " '',\n",
       " '',\n",
       " 't',\n",
       " '',\n",
       " '',\n",
       " '',\n",
       " '',\n",
       " '',\n",
       " '',\n",
       " '',\n",
       " 't',\n",
       " '',\n",
       " '',\n",
       " '',\n",
       " '',\n",
       " '',\n",
       " '',\n",
       " '',\n",
       " '',\n",
       " '',\n",
       " '',\n",
       " 't',\n",
       " '',\n",
       " '',\n",
       " '',\n",
       " '',\n",
       " '',\n",
       " '',\n",
       " '',\n",
       " '',\n",
       " '',\n",
       " '',\n",
       " 'tt',\n",
       " '',\n",
       " '',\n",
       " '',\n",
       " '',\n",
       " 't',\n",
       " '',\n",
       " '',\n",
       " '',\n",
       " '',\n",
       " '',\n",
       " '',\n",
       " '',\n",
       " '',\n",
       " '',\n",
       " '',\n",
       " '',\n",
       " '',\n",
       " '',\n",
       " '',\n",
       " '',\n",
       " '',\n",
       " '',\n",
       " '',\n",
       " '',\n",
       " 't',\n",
       " '',\n",
       " '',\n",
       " '',\n",
       " '',\n",
       " '',\n",
       " '',\n",
       " '',\n",
       " '',\n",
       " '']"
      ]
     },
     "execution_count": 40,
     "metadata": {},
     "output_type": "execute_result"
    }
   ],
   "source": [
    "re.findall(r't*', twinkle)"
   ]
  },
  {
   "cell_type": "code",
   "execution_count": 41,
   "id": "79c4920a",
   "metadata": {},
   "outputs": [],
   "source": [
    "repeat = 'aabbccabababacba shdhddddjdjdjjjdkdkdkdkdl'"
   ]
  },
  {
   "cell_type": "code",
   "execution_count": 42,
   "id": "0562cc0a",
   "metadata": {},
   "outputs": [
    {
     "data": {
      "text/plain": [
       "['a', 'a', 'a', 'a', 'a', 'a', 'a']"
      ]
     },
     "execution_count": 42,
     "metadata": {},
     "output_type": "execute_result"
    }
   ],
   "source": [
    "re.findall('a',repeat)"
   ]
  },
  {
   "cell_type": "code",
   "execution_count": 43,
   "id": "04b1348c",
   "metadata": {},
   "outputs": [
    {
     "data": {
      "text/plain": [
       "['aa',\n",
       " '',\n",
       " '',\n",
       " '',\n",
       " '',\n",
       " 'a',\n",
       " '',\n",
       " 'a',\n",
       " '',\n",
       " 'a',\n",
       " '',\n",
       " 'a',\n",
       " '',\n",
       " '',\n",
       " 'a',\n",
       " '',\n",
       " '',\n",
       " '',\n",
       " '',\n",
       " '',\n",
       " '',\n",
       " '',\n",
       " '',\n",
       " '',\n",
       " '',\n",
       " '',\n",
       " '',\n",
       " '',\n",
       " '',\n",
       " '',\n",
       " '',\n",
       " '',\n",
       " '',\n",
       " '',\n",
       " '',\n",
       " '',\n",
       " '',\n",
       " '',\n",
       " '',\n",
       " '',\n",
       " '',\n",
       " '']"
      ]
     },
     "execution_count": 43,
     "metadata": {},
     "output_type": "execute_result"
    }
   ],
   "source": [
    "re.findall('a*', repeat)"
   ]
  },
  {
   "cell_type": "code",
   "execution_count": 44,
   "id": "41605b96",
   "metadata": {},
   "outputs": [
    {
     "data": {
      "text/plain": [
       "['',\n",
       " '',\n",
       " '',\n",
       " '',\n",
       " '',\n",
       " '',\n",
       " '',\n",
       " '',\n",
       " '',\n",
       " '',\n",
       " '',\n",
       " '',\n",
       " '',\n",
       " '',\n",
       " '',\n",
       " '',\n",
       " '',\n",
       " '',\n",
       " '',\n",
       " 'd',\n",
       " '',\n",
       " 'd',\n",
       " 'd',\n",
       " 'd',\n",
       " 'd',\n",
       " '',\n",
       " 'd',\n",
       " '',\n",
       " 'd',\n",
       " '',\n",
       " '',\n",
       " '',\n",
       " 'd',\n",
       " '',\n",
       " 'd',\n",
       " '',\n",
       " 'd',\n",
       " '',\n",
       " 'd',\n",
       " '',\n",
       " 'd',\n",
       " '',\n",
       " '']"
      ]
     },
     "execution_count": 44,
     "metadata": {},
     "output_type": "execute_result"
    }
   ],
   "source": [
    "re.findall('d?', repeat)"
   ]
  },
  {
   "cell_type": "code",
   "execution_count": 45,
   "id": "857b3574",
   "metadata": {},
   "outputs": [
    {
     "data": {
      "text/plain": [
       "['aabb',\n",
       " '',\n",
       " '',\n",
       " 'abababa',\n",
       " '',\n",
       " 'ba',\n",
       " '',\n",
       " '',\n",
       " '',\n",
       " '',\n",
       " '',\n",
       " '',\n",
       " '',\n",
       " '',\n",
       " '',\n",
       " '',\n",
       " '',\n",
       " '',\n",
       " '',\n",
       " '',\n",
       " '',\n",
       " '',\n",
       " '',\n",
       " '',\n",
       " '',\n",
       " '',\n",
       " '',\n",
       " '',\n",
       " '',\n",
       " '',\n",
       " '',\n",
       " '',\n",
       " '']"
      ]
     },
     "execution_count": 45,
     "metadata": {},
     "output_type": "execute_result"
    }
   ],
   "source": [
    "re.findall('[ab]*', repeat)\n"
   ]
  },
  {
   "cell_type": "code",
   "execution_count": 46,
   "id": "8b76791a",
   "metadata": {},
   "outputs": [
    {
     "data": {
      "text/plain": [
       "['aa', 'bb', 'ab', 'ab', 'ab', 'a', 'ba']"
      ]
     },
     "execution_count": 46,
     "metadata": {},
     "output_type": "execute_result"
    }
   ],
   "source": [
    "re.findall('[ab]{1,2}', repeat)"
   ]
  },
  {
   "cell_type": "code",
   "execution_count": 47,
   "id": "e8ecf912",
   "metadata": {},
   "outputs": [
    {
     "data": {
      "text/plain": [
       "['aabb', 'abababa', 'ba']"
      ]
     },
     "execution_count": 47,
     "metadata": {},
     "output_type": "execute_result"
    }
   ],
   "source": [
    "re.findall('[ab]{1,}', repeat)"
   ]
  },
  {
   "cell_type": "code",
   "execution_count": 48,
   "id": "7cd400de",
   "metadata": {},
   "outputs": [
    {
     "data": {
      "text/plain": [
       "['a', 'a', 'b', 'b', 'a', 'b', 'a', 'b', 'a', 'b', 'a', 'b', 'a']"
      ]
     },
     "execution_count": 48,
     "metadata": {},
     "output_type": "execute_result"
    }
   ],
   "source": [
    "re.findall('[ab]{1}', repeat)\n"
   ]
  },
  {
   "cell_type": "code",
   "execution_count": 49,
   "id": "f7c71ecd",
   "metadata": {},
   "outputs": [
    {
     "data": {
      "text/plain": [
       "['a', 'a', 'b', 'b', 'a', 'b', 'a', 'b', 'a', 'b', 'a', 'b', 'a']"
      ]
     },
     "execution_count": 49,
     "metadata": {},
     "output_type": "execute_result"
    }
   ],
   "source": [
    "#makes it non-greedy means it stops adding characters once it finds 1\n",
    "# in this example apprently same as [ab]{1} output\n",
    "#? after a repition \n",
    "re.findall('[ab]{1,}?', repeat)"
   ]
  },
  {
   "cell_type": "code",
   "execution_count": 50,
   "id": "7a1ec0ec",
   "metadata": {},
   "outputs": [],
   "source": [
    "littlelamb = 'little big lamb lamb'"
   ]
  },
  {
   "cell_type": "code",
   "execution_count": 51,
   "id": "ac9d48c6",
   "metadata": {},
   "outputs": [
    {
     "data": {
      "text/plain": [
       "['little big lamb lamb']"
      ]
     },
     "execution_count": 51,
     "metadata": {},
     "output_type": "execute_result"
    }
   ],
   "source": [
    "re.findall('little .*lamb', littlelamb)"
   ]
  },
  {
   "cell_type": "code",
   "execution_count": 52,
   "id": "6e923d8c",
   "metadata": {},
   "outputs": [
    {
     "data": {
      "text/plain": [
       "['little big lamb']"
      ]
     },
     "execution_count": 52,
     "metadata": {},
     "output_type": "execute_result"
    }
   ],
   "source": [
    "#stops after the first lamb (non-greedy)\n",
    "re.findall('little .*?lamb', littlelamb)"
   ]
  },
  {
   "cell_type": "code",
   "execution_count": 53,
   "id": "5a1efbf0",
   "metadata": {},
   "outputs": [
    {
     "data": {
      "text/plain": [
       "['b', 'a', 'b', 'a', 'b']"
      ]
     },
     "execution_count": 53,
     "metadata": {},
     "output_type": "execute_result"
    }
   ],
   "source": [
    "re.findall('a|b', littlelamb)\n"
   ]
  },
  {
   "cell_type": "code",
   "execution_count": 54,
   "id": "c7be1d63",
   "metadata": {},
   "outputs": [
    {
     "data": {
      "text/plain": [
       "['i', 'i', 'la', 'la']"
      ]
     },
     "execution_count": 54,
     "metadata": {},
     "output_type": "execute_result"
    }
   ],
   "source": [
    "re.findall('la|i', littlelamb)"
   ]
  },
  {
   "cell_type": "code",
   "execution_count": 55,
   "id": "27b7897c",
   "metadata": {},
   "outputs": [
    {
     "data": {
      "text/plain": [
       "['lit', 'lam', 'lam']"
      ]
     },
     "execution_count": 55,
     "metadata": {},
     "output_type": "execute_result"
    }
   ],
   "source": [
    "re.findall('lit|lam', littlelamb)"
   ]
  },
  {
   "cell_type": "code",
   "execution_count": 56,
   "id": "941bb958",
   "metadata": {},
   "outputs": [
    {
     "data": {
      "text/plain": [
       "[]"
      ]
     },
     "execution_count": 56,
     "metadata": {},
     "output_type": "execute_result"
    }
   ],
   "source": [
    "re.findall('l[it][am]', littlelamb) #lia, lim, lta, ltm\n"
   ]
  },
  {
   "cell_type": "code",
   "execution_count": 57,
   "id": "24a8e422",
   "metadata": {},
   "outputs": [
    {
     "data": {
      "text/plain": [
       "['little']"
      ]
     },
     "execution_count": 57,
     "metadata": {},
     "output_type": "execute_result"
    }
   ],
   "source": [
    "re.findall('^little', littlelamb)"
   ]
  },
  {
   "cell_type": "code",
   "execution_count": 58,
   "id": "fec44765",
   "metadata": {},
   "outputs": [
    {
     "data": {
      "text/plain": [
       "[]"
      ]
     },
     "execution_count": 58,
     "metadata": {},
     "output_type": "execute_result"
    }
   ],
   "source": [
    "re.findall('little$', littlelamb)"
   ]
  },
  {
   "cell_type": "code",
   "execution_count": 59,
   "id": "9c20aaa7",
   "metadata": {},
   "outputs": [
    {
     "data": {
      "text/plain": [
       "['lamb']"
      ]
     },
     "execution_count": 59,
     "metadata": {},
     "output_type": "execute_result"
    }
   ],
   "source": [
    "re.findall('lamb$', littlelamb)"
   ]
  },
  {
   "cell_type": "code",
   "execution_count": 82,
   "id": "b4d204e8",
   "metadata": {},
   "outputs": [],
   "source": [
    "doobi =\"\"\"Doobi doobi dapp dapp(3x)\n",
    "Doobi doobi dipp dipp\n",
    "Doobi doobi dapp dapp\n",
    "Du dapp da dapp\n",
    "Bee-Beep beep beep beep beep beep beep beep\n",
    "Dibby dabba\n",
    "Dooboo dabba (3x)\n",
    "Beep beep beep Beep Beep beep Beep Beep\n",
    "Sabi ng jeep, sabi ng jeep, sabi ng\n",
    "Bee bee bee bee bee bee bee bee bee bee bee beep (fast)\n",
    "Pubo purro bap bap\n",
    "Purro pab bap bap\n",
    "Beep (18x)\n",
    "Beep, beep, beep, beep\"\"\""
   ]
  },
  {
   "cell_type": "code",
   "execution_count": 61,
   "id": "5eca90bc",
   "metadata": {},
   "outputs": [
    {
     "data": {
      "text/plain": [
       "['Doobi', 'doobi', 'Doobi', 'doobi', 'Doobi', 'doobi']"
      ]
     },
     "execution_count": 61,
     "metadata": {},
     "output_type": "execute_result"
    }
   ],
   "source": [
    "re.findall(r'Doobi|doobi', doobi)"
   ]
  },
  {
   "cell_type": "code",
   "execution_count": 62,
   "id": "e266b932",
   "metadata": {},
   "outputs": [
    {
     "data": {
      "text/plain": [
       "['Doobi', 'doobi', 'Doobi', 'doobi', 'Doobi', 'doobi']"
      ]
     },
     "execution_count": 62,
     "metadata": {},
     "output_type": "execute_result"
    }
   ],
   "source": [
    "re.findall(r'[Dd]oobi', doobi)"
   ]
  },
  {
   "cell_type": "code",
   "execution_count": null,
   "id": "b245c53e",
   "metadata": {},
   "outputs": [],
   "source": []
  },
  {
   "cell_type": "code",
   "execution_count": null,
   "id": "5fa2fa98",
   "metadata": {},
   "outputs": [],
   "source": []
  },
  {
   "cell_type": "code",
   "execution_count": 64,
   "id": "b5001c7f",
   "metadata": {},
   "outputs": [
    {
     "data": {
      "text/plain": [
       "[]"
      ]
     },
     "execution_count": 64,
     "metadata": {},
     "output_type": "execute_result"
    }
   ],
   "source": [
    "re.findall(r'^[Bb]eep', doobi) #start of string"
   ]
  },
  {
   "cell_type": "code",
   "execution_count": 65,
   "id": "72d4ba9f",
   "metadata": {},
   "outputs": [
    {
     "data": {
      "text/plain": [
       "['Beep', 'Beep', 'Beep']"
      ]
     },
     "execution_count": 65,
     "metadata": {},
     "output_type": "execute_result"
    }
   ],
   "source": [
    "re.findall(r'^[Bb]eep', doobi, flags=re.MULTILINE) #reads per line instead or re.M"
   ]
  },
  {
   "cell_type": "code",
   "execution_count": 66,
   "id": "bf2d6b15",
   "metadata": {},
   "outputs": [
    {
     "data": {
      "text/plain": [
       "['Beep', 'Beep', 'Beep']"
      ]
     },
     "execution_count": 66,
     "metadata": {},
     "output_type": "execute_result"
    }
   ],
   "source": [
    "re.findall(r'(?m)^[Bb]eep', doobi)"
   ]
  },
  {
   "cell_type": "code",
   "execution_count": 67,
   "id": "d777f484",
   "metadata": {},
   "outputs": [
    {
     "data": {
      "text/plain": [
       "['beep']"
      ]
     },
     "execution_count": 67,
     "metadata": {},
     "output_type": "execute_result"
    }
   ],
   "source": [
    "re.findall(r'beep$', doobi)"
   ]
  },
  {
   "cell_type": "code",
   "execution_count": 68,
   "id": "c82a9360",
   "metadata": {},
   "outputs": [
    {
     "data": {
      "text/plain": [
       "['beep']"
      ]
     },
     "execution_count": 68,
     "metadata": {},
     "output_type": "execute_result"
    }
   ],
   "source": [
    "re.findall(r'beep$', doobi, flags=re.M)"
   ]
  },
  {
   "cell_type": "code",
   "execution_count": 69,
   "id": "e95d489c",
   "metadata": {},
   "outputs": [
    {
     "data": {
      "text/plain": [
       "['Beep', 'Beep', 'beep']"
      ]
     },
     "execution_count": 69,
     "metadata": {},
     "output_type": "execute_result"
    }
   ],
   "source": [
    "re.findall(r'beep$', doobi, flags=re.M|re.I)"
   ]
  },
  {
   "cell_type": "code",
   "execution_count": 71,
   "id": "baf68ca6",
   "metadata": {},
   "outputs": [
    {
     "data": {
      "text/plain": [
       "[]"
      ]
     },
     "execution_count": 71,
     "metadata": {},
     "output_type": "execute_result"
    }
   ],
   "source": [
    "re.findall(r'beep (?=beep)', doobi) #lookahead"
   ]
  },
  {
   "cell_type": "code",
   "execution_count": 72,
   "id": "eedea433",
   "metadata": {},
   "outputs": [
    {
     "data": {
      "text/plain": [
       "[]"
      ]
     },
     "execution_count": 72,
     "metadata": {},
     "output_type": "execute_result"
    }
   ],
   "source": [
    "re.findall(r'(?<=beep) beep', doobi)"
   ]
  },
  {
   "cell_type": "code",
   "execution_count": 78,
   "id": "3b0e796f",
   "metadata": {},
   "outputs": [
    {
     "data": {
      "text/plain": [
       "<re.Match object; span=(99, 104), match=' beep'>"
      ]
     },
     "execution_count": 78,
     "metadata": {},
     "output_type": "execute_result"
    }
   ],
   "source": [
    "result = re.search(r'(?P<foo> beep)', doobi)\n",
    "result"
   ]
  },
  {
   "cell_type": "code",
   "execution_count": 76,
   "id": "8a00db9d",
   "metadata": {},
   "outputs": [
    {
     "data": {
      "text/plain": [
       "' beep'"
      ]
     },
     "execution_count": 76,
     "metadata": {},
     "output_type": "execute_result"
    }
   ],
   "source": [
    "result['foo']"
   ]
  },
  {
   "cell_type": "code",
   "execution_count": 77,
   "id": "1912c703",
   "metadata": {},
   "outputs": [
    {
     "data": {
      "text/plain": [
       "'Doobi doobi dapp dapp(3x)\\nDoobi doobi dipp dipp\\nDoobi doobi dapp dapp\\nDu dapp da dapp\\nBee-Beep foo bar Beep foo bar Beep Beep\\nDibby dabba\\nDooboo dabba (3x)\\nBeep foo bar Beep foo bar Beep Beep\\nSabi ng jeep, sabi ng jeep, sabi ng\\nBee bee bee bee bee bee bee bee bee bee bee beep (fast)\\nPubo purro bap bap\\nPurro pab bap bap\\nBeep (18x)\\nBeep, beep, beep, beep'"
      ]
     },
     "execution_count": 77,
     "metadata": {},
     "output_type": "execute_result"
    }
   ],
   "source": [
    "re.sub(r'[Bb]eep beep', 'foo bar', doobi)"
   ]
  },
  {
   "cell_type": "code",
   "execution_count": 81,
   "id": "c2946859",
   "metadata": {},
   "outputs": [
    {
     "data": {
      "text/plain": [
       "'Doobi doobi dapp dapp(3x)\\nDoobi doobi dipp dipp\\nDoobi doobi dapp dapp\\nDu dapp da dapp\\nBee-Beep Beep beep Beep Beep beep Beep Beep\\nDibby dabba\\nDooboo dabba (3x)\\nBeep Beep beep Beep Beep beep Beep Beep\\nSabi ng jeep, sabi ng jeep, sabi ng\\nBee bee bee bee bee bee bee bee bee bee bee beep (fast)\\nPubo purro bap bap\\nPurro pab bap bap\\nBeep (18x)\\nBeep, beep, beep, beep'"
      ]
     },
     "execution_count": 81,
     "metadata": {},
     "output_type": "execute_result"
    }
   ],
   "source": [
    "doobi"
   ]
  },
  {
   "cell_type": "code",
   "execution_count": 83,
   "id": "2d8b7f29",
   "metadata": {},
   "outputs": [
    {
     "data": {
      "text/plain": [
       "['beep', 'beep', 'beep', 'beep']"
      ]
     },
     "execution_count": 83,
     "metadata": {},
     "output_type": "execute_result"
    }
   ],
   "source": [
    "re.findall(r'(beep) \\1', doobi)"
   ]
  },
  {
   "cell_type": "code",
   "execution_count": 84,
   "id": "f3824f20",
   "metadata": {},
   "outputs": [
    {
     "data": {
      "text/plain": [
       "<re.Match object; span=(95, 104), match='beep beep'>"
      ]
     },
     "execution_count": 84,
     "metadata": {},
     "output_type": "execute_result"
    }
   ],
   "source": [
    "re.search(r'(beep) \\1', doobi)"
   ]
  },
  {
   "cell_type": "code",
   "execution_count": null,
   "id": "c006eace",
   "metadata": {},
   "outputs": [],
   "source": []
  },
  {
   "cell_type": "code",
   "execution_count": 92,
   "id": "cedb268b",
   "metadata": {},
   "outputs": [
    {
     "data": {
      "text/plain": [
       "<re.Match object; span=(0, 4), match='-02-'>"
      ]
     },
     "execution_count": 92,
     "metadata": {},
     "output_type": "execute_result"
    }
   ],
   "source": [
    "#conditionals\n",
    "t = '02-'\n",
    "t = '/02/'\n",
    "t = '-02-'\n",
    "\n",
    "re.match(r'(?P<del>[-/])02(?P=del)' ,t)\n",
    "\n"
   ]
  }
 ],
 "metadata": {
  "kernelspec": {
   "display_name": "Python 3",
   "language": "python",
   "name": "python3"
  },
  "language_info": {
   "codemirror_mode": {
    "name": "ipython",
    "version": 3
   },
   "file_extension": ".py",
   "mimetype": "text/x-python",
   "name": "python",
   "nbconvert_exporter": "python",
   "pygments_lexer": "ipython3",
   "version": "3.8.10"
  }
 },
 "nbformat": 4,
 "nbformat_minor": 5
}
