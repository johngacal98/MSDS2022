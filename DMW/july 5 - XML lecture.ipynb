{
 "cells": [
  {
   "cell_type": "code",
   "execution_count": 1,
   "id": "eb0643c4",
   "metadata": {},
   "outputs": [],
   "source": [
    "from xml.etree import ElementTree as ET"
   ]
  },
  {
   "cell_type": "code",
   "execution_count": 2,
   "id": "df572f20",
   "metadata": {},
   "outputs": [],
   "source": [
    "root = ET.fromstring(\"\"\"<?xml version=\"1.0\"?>\n",
    "<data>\n",
    "    <country name=\"Liechtenstein\">\n",
    "        <rank>1</rank>\n",
    "        <year>2008</year>\n",
    "        <gdppc>141100</gdppc>\n",
    "        <neighbor name=\"Austria\" direction=\"E\"/>\n",
    "        <neighbor name=\"Switzerland\" direction=\"W\"/>\n",
    "    </country>\n",
    "    <country name=\"Singapore\">\n",
    "        <rank>4</rank>\n",
    "        <year>2011</year>\n",
    "        <gdppc>59900</gdppc>\n",
    "        <neighbor name=\"Malaysia\" direction=\"N\"/>\n",
    "    </country>\n",
    "    <country name=\"Panama\">\n",
    "        <rank>68</rank>\n",
    "        <year>2011</year>\n",
    "        <gdppc>13600</gdppc>\n",
    "        <neighbor name=\"Costa Rica\" direction=\"W\"/>\n",
    "        <neighbor name=\"Colombia\" direction=\"E\"/>\n",
    "    </country>\n",
    "</data>\n",
    "\"\"\")"
   ]
  },
  {
   "cell_type": "code",
   "execution_count": 3,
   "id": "a79bb40e",
   "metadata": {},
   "outputs": [
    {
     "data": {
      "text/plain": [
       "<Element 'data' at 0x00000184DC8ECC20>"
      ]
     },
     "execution_count": 3,
     "metadata": {},
     "output_type": "execute_result"
    }
   ],
   "source": [
    "root"
   ]
  },
  {
   "cell_type": "code",
   "execution_count": 4,
   "id": "e629385e",
   "metadata": {},
   "outputs": [
    {
     "data": {
      "text/plain": [
       "'\\n    '"
      ]
     },
     "execution_count": 4,
     "metadata": {},
     "output_type": "execute_result"
    }
   ],
   "source": [
    "root.text"
   ]
  },
  {
   "cell_type": "code",
   "execution_count": 7,
   "id": "9e065f60",
   "metadata": {},
   "outputs": [
    {
     "data": {
      "text/plain": [
       "<Element 'country' at 0x00000184DC9198B0>"
      ]
     },
     "execution_count": 7,
     "metadata": {},
     "output_type": "execute_result"
    }
   ],
   "source": [
    "root[0]"
   ]
  },
  {
   "cell_type": "code",
   "execution_count": 10,
   "id": "6a5e2459",
   "metadata": {},
   "outputs": [
    {
     "data": {
      "text/plain": [
       "{'name': 'Liechtenstein'}"
      ]
     },
     "execution_count": 10,
     "metadata": {},
     "output_type": "execute_result"
    }
   ],
   "source": [
    "root[0].attrib"
   ]
  },
  {
   "cell_type": "code",
   "execution_count": 11,
   "id": "862494cc",
   "metadata": {},
   "outputs": [
    {
     "data": {
      "text/plain": [
       "'Liechtenstein'"
      ]
     },
     "execution_count": 11,
     "metadata": {},
     "output_type": "execute_result"
    }
   ],
   "source": [
    "root[0].get('name')"
   ]
  },
  {
   "cell_type": "code",
   "execution_count": 13,
   "id": "81fe4292",
   "metadata": {},
   "outputs": [
    {
     "name": "stdout",
     "output_type": "stream",
     "text": [
      "Liechtenstein\n",
      "Singapore\n",
      "Panama\n"
     ]
    }
   ],
   "source": [
    "for child in root:\n",
    "    print(child.get('name'))"
   ]
  },
  {
   "cell_type": "code",
   "execution_count": 15,
   "id": "ca649d97",
   "metadata": {},
   "outputs": [
    {
     "name": "stdout",
     "output_type": "stream",
     "text": [
      "Liechtenstein\n",
      "Singapore\n",
      "Panama\n"
     ]
    }
   ],
   "source": [
    "for child in root.findall('country'):\n",
    "    print(child.get('name'))"
   ]
  },
  {
   "cell_type": "code",
   "execution_count": 18,
   "id": "66794697",
   "metadata": {},
   "outputs": [
    {
     "data": {
      "text/plain": [
       "'Liechtenstein'"
      ]
     },
     "execution_count": 18,
     "metadata": {},
     "output_type": "execute_result"
    }
   ],
   "source": [
    "#.find returns the first instance or first child of the root\n",
    "root.find('country').get('name')"
   ]
  },
  {
   "cell_type": "code",
   "execution_count": 19,
   "id": "42a026ec",
   "metadata": {},
   "outputs": [
    {
     "data": {
      "text/plain": [
       "[<Element 'data' at 0x00000184DC8ECC20>]"
      ]
     },
     "execution_count": 19,
     "metadata": {},
     "output_type": "execute_result"
    }
   ],
   "source": [
    "#using xpath\n",
    "root.findall('.')"
   ]
  },
  {
   "cell_type": "code",
   "execution_count": 20,
   "id": "ecf89aa5",
   "metadata": {},
   "outputs": [
    {
     "data": {
      "text/plain": [
       "[<Element 'country' at 0x00000184DC9198B0>,\n",
       " <Element 'country' at 0x00000184DC919EA0>,\n",
       " <Element 'country' at 0x00000184DC91A090>]"
      ]
     },
     "execution_count": 20,
     "metadata": {},
     "output_type": "execute_result"
    }
   ],
   "source": [
    "root.findall('./country')"
   ]
  },
  {
   "cell_type": "code",
   "execution_count": 21,
   "id": "c0fc44b1",
   "metadata": {},
   "outputs": [
    {
     "name": "stdout",
     "output_type": "stream",
     "text": [
      "Austria\n",
      "Switzerland\n",
      "Malaysia\n",
      "Costa Rica\n",
      "Colombia\n"
     ]
    }
   ],
   "source": [
    "for child in root.findall('./country/neighbor'):\n",
    "    print(child.get('name'))"
   ]
  },
  {
   "cell_type": "code",
   "execution_count": 22,
   "id": "5ae97b3d",
   "metadata": {},
   "outputs": [
    {
     "name": "stdout",
     "output_type": "stream",
     "text": [
      "Switzerland\n",
      "Malaysia\n",
      "Colombia\n"
     ]
    }
   ],
   "source": [
    "#last neighbor for every country\n",
    "for child in root.findall('./country/neighbor[last()]'):\n",
    "    print(child.get('name'))"
   ]
  },
  {
   "cell_type": "code",
   "execution_count": 23,
   "id": "7c844d15",
   "metadata": {},
   "outputs": [
    {
     "name": "stdout",
     "output_type": "stream",
     "text": [
      "Liechtenstein\n"
     ]
    }
   ],
   "source": [
    "\n",
    "for child in root.findall('./country[@name=\"Liechtenstein\"]'):\n",
    "    print(child.get('name'))"
   ]
  },
  {
   "cell_type": "code",
   "execution_count": 25,
   "id": "db42ec77",
   "metadata": {},
   "outputs": [
    {
     "name": "stdout",
     "output_type": "stream",
     "text": [
      "Liechtenstein\n"
     ]
    }
   ],
   "source": [
    "for child in root.findall('./country[last()-2]'):\n",
    "    print(child.get('name'))"
   ]
  },
  {
   "cell_type": "code",
   "execution_count": 26,
   "id": "627973a1",
   "metadata": {},
   "outputs": [
    {
     "name": "stdout",
     "output_type": "stream",
     "text": [
      "Liechtenstein\n"
     ]
    }
   ],
   "source": [
    "for child in root.findall('./*[last()-2]'):\n",
    "    print(child.get('name'))"
   ]
  },
  {
   "cell_type": "code",
   "execution_count": 27,
   "id": "a401e110",
   "metadata": {},
   "outputs": [
    {
     "name": "stdout",
     "output_type": "stream",
     "text": [
      "country\n"
     ]
    }
   ],
   "source": [
    "for child in root.findall('./country[last()-2]'):\n",
    "    print(child.tag)"
   ]
  },
  {
   "cell_type": "code",
   "execution_count": 28,
   "id": "637a26a3",
   "metadata": {},
   "outputs": [
    {
     "name": "stdout",
     "output_type": "stream",
     "text": [
      "Austria\n",
      "Switzerland\n",
      "Malaysia\n",
      "Costa Rica\n",
      "Colombia\n"
     ]
    }
   ],
   "source": [
    "for child in root.findall('.//neighbor'):\n",
    "    print(child.get('name'))"
   ]
  },
  {
   "cell_type": "code",
   "execution_count": 29,
   "id": "888d0472",
   "metadata": {},
   "outputs": [
    {
     "name": "stdout",
     "output_type": "stream",
     "text": [
      "Austria\n",
      "Switzerland\n",
      "Malaysia\n",
      "Costa Rica\n",
      "Colombia\n"
     ]
    }
   ],
   "source": [
    "for child in root.findall('./country//neighbor'):\n",
    "    print(child.get('name'))"
   ]
  },
  {
   "cell_type": "code",
   "execution_count": 31,
   "id": "2c5659ca",
   "metadata": {},
   "outputs": [
    {
     "name": "stdout",
     "output_type": "stream",
     "text": [
      "Liechtenstein\n"
     ]
    }
   ],
   "source": [
    "#countries with austria as neighbor\n",
    "#.//neighbor means looking for neighbor\n",
    "#neighbor[@name=\"Austria\"] means looking for Austria as neighbor'\n",
    "#/.. means moving up the heirarchy (moving up to the parent) to return the country which has austria as neighbor\n",
    "\n",
    "for child in root.findall('.//neighbor[@name=\"Austria\"]/..'):\n",
    "    print(child.get('name'))"
   ]
  },
  {
   "cell_type": "code",
   "execution_count": 32,
   "id": "5efddcee",
   "metadata": {},
   "outputs": [
    {
     "name": "stdout",
     "output_type": "stream",
     "text": [
      "Liechtenstein 5\n",
      "Singapore 4\n",
      "Panama 5\n"
     ]
    }
   ],
   "source": [
    "#number of children per country\n",
    "for country in root.findall('country'):\n",
    "    print(country.get('name'), len(country))"
   ]
  },
  {
   "cell_type": "code",
   "execution_count": 33,
   "id": "71d9f24a",
   "metadata": {},
   "outputs": [
    {
     "name": "stdout",
     "output_type": "stream",
     "text": [
      "data 3\n",
      "country 5\n",
      "rank 0\n",
      "year 0\n",
      "gdppc 0\n",
      "neighbor 0\n",
      "neighbor 0\n",
      "country 4\n",
      "rank 0\n",
      "year 0\n",
      "gdppc 0\n",
      "neighbor 0\n",
      "country 5\n",
      "rank 0\n",
      "year 0\n",
      "gdppc 0\n",
      "neighbor 0\n",
      "neighbor 0\n"
     ]
    }
   ],
   "source": [
    "#number of children per element\n",
    "for child in root.iter():\n",
    "    print(child.tag, len(child))"
   ]
  },
  {
   "cell_type": "code",
   "execution_count": 36,
   "id": "3ec46db7",
   "metadata": {},
   "outputs": [
    {
     "name": "stdout",
     "output_type": "stream",
     "text": [
      "Liechtenstein 1\n",
      "Singapore 4\n",
      "Panama 68\n"
     ]
    }
   ],
   "source": [
    "for country in root.findall('country'):\n",
    "    rank = int(country.find('rank').text)\n",
    "    print(country.get('name'), rank)"
   ]
  },
  {
   "cell_type": "code",
   "execution_count": 37,
   "id": "41a74045",
   "metadata": {},
   "outputs": [],
   "source": [
    "root2 = ET.fromstring(\"\"\"<?xml version=\"1.0\"?>\n",
    "<actors xmlns:fictional=\"http://characters.example.com\"\n",
    "xmlns=\"http://people.example.com\">\n",
    "<actor>\n",
    "<name>John Cleese</name>\n",
    "<fictional:character>Lancelot</fictional:character>\n",
    "<fictional:character>Archie Leach</fictional:character>\n",
    "</actor>\n",
    "<actor>\n",
    "<name>Eric Idle</name>\n",
    "<fictional:character>Sir Robin</fictional:character>\n",
    "<fictional:character>Gunther</fictional:character>\n",
    "<fictional:character>Commander Clement</fictional:character>\n",
    "</actor>\n",
    "</actors>\"\"\")"
   ]
  },
  {
   "cell_type": "code",
   "execution_count": 38,
   "id": "610499c9",
   "metadata": {},
   "outputs": [
    {
     "data": {
      "text/plain": [
       "'{http://people.example.com}actors'"
      ]
     },
     "execution_count": 38,
     "metadata": {},
     "output_type": "execute_result"
    }
   ],
   "source": [
    "root2.tag"
   ]
  },
  {
   "cell_type": "code",
   "execution_count": 39,
   "id": "6e5ed80e",
   "metadata": {},
   "outputs": [
    {
     "data": {
      "text/plain": [
       "[]"
      ]
     },
     "execution_count": 39,
     "metadata": {},
     "output_type": "execute_result"
    }
   ],
   "source": [
    "root2.findall('actor')\n",
    "#returns empty "
   ]
  },
  {
   "cell_type": "code",
   "execution_count": 40,
   "id": "8a0e3e9b",
   "metadata": {},
   "outputs": [
    {
     "data": {
      "text/plain": [
       "[<Element '{http://people.example.com}actor' at 0x00000184DC9EA1D0>,\n",
       " <Element '{http://people.example.com}actor' at 0x00000184DC9EA590>]"
      ]
     },
     "execution_count": 40,
     "metadata": {},
     "output_type": "execute_result"
    }
   ],
   "source": [
    "# inside the {} is the namespace\n",
    "root2.findall('{http://people.example.com}actor')\n"
   ]
  },
  {
   "cell_type": "code",
   "execution_count": 43,
   "id": "8988b69a",
   "metadata": {},
   "outputs": [
    {
     "data": {
      "text/plain": [
       "[]"
      ]
     },
     "execution_count": 43,
     "metadata": {},
     "output_type": "execute_result"
    }
   ],
   "source": [
    "root2.findall('.//{http://people.example.com}character')"
   ]
  },
  {
   "cell_type": "code",
   "execution_count": 42,
   "id": "7e1236c5",
   "metadata": {},
   "outputs": [
    {
     "data": {
      "text/plain": [
       "[<Element '{http://characters.example.com}character' at 0x00000184DC9EA2C0>,\n",
       " <Element '{http://characters.example.com}character' at 0x00000184DC9EA5E0>,\n",
       " <Element '{http://characters.example.com}character' at 0x00000184DC9EA680>,\n",
       " <Element '{http://characters.example.com}character' at 0x00000184DC9EA540>,\n",
       " <Element '{http://characters.example.com}character' at 0x00000184DC9EA720>]"
      ]
     },
     "execution_count": 42,
     "metadata": {},
     "output_type": "execute_result"
    }
   ],
   "source": [
    "root2.findall('.//{http://characters.example.com}character')"
   ]
  },
  {
   "cell_type": "code",
   "execution_count": 46,
   "id": "8c4a35f9",
   "metadata": {},
   "outputs": [],
   "source": [
    "#easier way to do it\n",
    "ns = {\n",
    "    'fictional': 'http://characters.example.com',\n",
    "    'foo': 'http://people.example.com' #default\n",
    "}"
   ]
  },
  {
   "cell_type": "code",
   "execution_count": 47,
   "id": "7626ed64",
   "metadata": {},
   "outputs": [
    {
     "data": {
      "text/plain": [
       "[<Element '{http://people.example.com}actor' at 0x00000184DC9EA1D0>,\n",
       " <Element '{http://people.example.com}actor' at 0x00000184DC9EA590>]"
      ]
     },
     "execution_count": 47,
     "metadata": {},
     "output_type": "execute_result"
    }
   ],
   "source": [
    "root2.findall('foo:actor', ns)"
   ]
  },
  {
   "cell_type": "code",
   "execution_count": 48,
   "id": "cc6e4a19",
   "metadata": {},
   "outputs": [
    {
     "data": {
      "text/plain": [
       "[<Element '{http://characters.example.com}character' at 0x00000184DC9EA2C0>,\n",
       " <Element '{http://characters.example.com}character' at 0x00000184DC9EA5E0>,\n",
       " <Element '{http://characters.example.com}character' at 0x00000184DC9EA680>,\n",
       " <Element '{http://characters.example.com}character' at 0x00000184DC9EA540>,\n",
       " <Element '{http://characters.example.com}character' at 0x00000184DC9EA720>]"
      ]
     },
     "execution_count": 48,
     "metadata": {},
     "output_type": "execute_result"
    }
   ],
   "source": [
    "root2.findall('.//fictional:character', ns)"
   ]
  },
  {
   "cell_type": "code",
   "execution_count": 54,
   "id": "85f92e38",
   "metadata": {},
   "outputs": [
    {
     "data": {
      "text/plain": [
       "'4'"
      ]
     },
     "execution_count": 54,
     "metadata": {},
     "output_type": "execute_result"
    }
   ],
   "source": []
  }
 ],
 "metadata": {
  "kernelspec": {
   "display_name": "Python 3",
   "language": "python",
   "name": "python3"
  },
  "language_info": {
   "codemirror_mode": {
    "name": "ipython",
    "version": 3
   },
   "file_extension": ".py",
   "mimetype": "text/x-python",
   "name": "python",
   "nbconvert_exporter": "python",
   "pygments_lexer": "ipython3",
   "version": "3.8.10"
  }
 },
 "nbformat": 4,
 "nbformat_minor": 5
}
