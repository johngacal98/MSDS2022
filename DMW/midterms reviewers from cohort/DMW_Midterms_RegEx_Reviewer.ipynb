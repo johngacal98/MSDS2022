{
 "cells": [
  {
   "cell_type": "code",
   "execution_count": 1,
   "id": "00f529da",
   "metadata": {
    "ExecuteTime": {
     "end_time": "2021-08-02T13:22:34.837195Z",
     "start_time": "2021-08-02T13:22:34.504166Z"
    },
    "execution": {
     "iopub.execute_input": "2021-08-02T17:43:05.519477Z",
     "iopub.status.busy": "2021-08-02T17:43:05.519477Z",
     "iopub.status.idle": "2021-08-02T17:43:05.681555Z",
     "shell.execute_reply": "2021-08-02T17:43:05.679575Z",
     "shell.execute_reply.started": "2021-08-02T17:43:05.519477Z"
    },
    "id": "00f529da",
    "tags": []
   },
   "outputs": [],
   "source": [
    "import re\n",
    "from numpy.testing import assert_equal"
   ]
  },
  {
   "cell_type": "markdown",
   "id": "SERrD_t6iqOy",
   "metadata": {
    "id": "SERrD_t6iqOy"
   },
   "source": [
    "#### Note : Reviewer is still incomplete. Adding some notes on advanced RegEx applications (e.g. Look Aheads, if-else, groups)"
   ]
  },
  {
   "cell_type": "markdown",
   "id": "821eb7b4",
   "metadata": {
    "ExecuteTime": {
     "end_time": "2021-08-02T11:15:45.644142Z",
     "start_time": "2021-08-02T11:15:45.640499Z"
    },
    "id": "821eb7b4"
   },
   "source": [
    "# Recommended External Guides and Tools for RegEx"
   ]
  },
  {
   "cell_type": "markdown",
   "id": "eee388b2",
   "metadata": {
    "id": "eee388b2"
   },
   "source": [
    "1. Official Documentation of RegEx in Python 3\n",
    "    * https://docs.python.org/3/howto/regex.html\n",
    "2. Regex 101\n",
    "    * Highly recommended site for testing regex since it lists down all valid Python3 RegExs.\n",
    "    * https://regex101.com\n",
    "3. RegEx Cheatsheet\n",
    "    * https://cheatography.com/davechild/cheat-sheets/regular-expressions/\n",
    "    \n",
    "\n",
    "**DISCLAIMER** : Contents of this reviewer shall contain mostly use-cases and explainations of the regex exercises. For a more comprehensive guide on syntax and list of expressions, see the resources listed above "
   ]
  },
  {
   "cell_type": "markdown",
   "id": "cecf41ac",
   "metadata": {
    "id": "cecf41ac"
   },
   "source": [
    "# Python RegEx Commands"
   ]
  },
  {
   "cell_type": "markdown",
   "id": "3fe4fcc2",
   "metadata": {
    "ExecuteTime": {
     "end_time": "2021-08-02T14:45:57.618939Z",
     "start_time": "2021-08-02T14:45:57.614540Z"
    },
    "id": "3fe4fcc2"
   },
   "source": [
    "## Methods and Attributes"
   ]
  },
  {
   "cell_type": "markdown",
   "id": "6889022c",
   "metadata": {
    "id": "6889022c"
   },
   "source": [
    "### re.compile()\n",
    "Create a pattern object for searching or matching RegEx. This is useful if RegEx will be used multiple times."
   ]
  },
  {
   "cell_type": "code",
   "execution_count": 3,
   "id": "ce28316c",
   "metadata": {
    "ExecuteTime": {
     "end_time": "2021-08-02T14:55:00.978749Z",
     "start_time": "2021-08-02T14:55:00.972752Z"
    },
    "execution": {
     "iopub.execute_input": "2021-08-02T17:43:10.949886Z",
     "iopub.status.busy": "2021-08-02T17:43:10.949886Z",
     "iopub.status.idle": "2021-08-02T17:43:10.960817Z",
     "shell.execute_reply": "2021-08-02T17:43:10.960817Z",
     "shell.execute_reply.started": "2021-08-02T17:43:10.949886Z"
    },
    "id": "ce28316c",
    "outputId": "7242f418-eda3-44d9-d069-384980c53d3a",
    "tags": []
   },
   "outputs": [
    {
     "data": {
      "text/plain": [
       "re.compile(r'(\\w+ish\\w+)', re.UNICODE)"
      ]
     },
     "execution_count": 3,
     "metadata": {},
     "output_type": "execute_result"
    }
   ],
   "source": [
    "text = \"Fishes are not dog's dishes\"\n",
    "p = re.compile('(\\w+ish\\w+)')\n"
   ]
  },
  {
   "cell_type": "markdown",
   "id": "4d0acbcc",
   "metadata": {
    "id": "4d0acbcc"
   },
   "source": [
    "#### re.match()\n",
    "Determine if the RegEx matches at the beginning of the string."
   ]
  },
  {
   "cell_type": "code",
   "execution_count": null,
   "id": "94417894",
   "metadata": {
    "ExecuteTime": {
     "end_time": "2021-08-02T14:58:49.417694Z",
     "start_time": "2021-08-02T14:58:49.412256Z"
    },
    "id": "94417894",
    "outputId": "5d9a6461-309d-46c8-898e-db86ca5d1e4a"
   },
   "outputs": [
    {
     "name": "stdout",
     "output_type": "stream",
     "text": [
      "<re.Match object; span=(0, 6), match='Fishes'>\n"
     ]
    }
   ],
   "source": [
    "print(p.match(text))"
   ]
  },
  {
   "cell_type": "markdown",
   "id": "11aa1bad",
   "metadata": {
    "id": "11aa1bad"
   },
   "source": [
    "#### re.search()\n",
    "Scan through a string, looking for any location where this RegEx matches."
   ]
  },
  {
   "cell_type": "code",
   "execution_count": null,
   "id": "26199d38",
   "metadata": {
    "ExecuteTime": {
     "end_time": "2021-08-02T14:58:59.785550Z",
     "start_time": "2021-08-02T14:58:59.780637Z"
    },
    "id": "26199d38",
    "outputId": "c76907d7-12e6-45dd-9b21-e7d2a495caf3"
   },
   "outputs": [
    {
     "name": "stdout",
     "output_type": "stream",
     "text": [
      "<re.Match object; span=(0, 6), match='Fishes'>\n"
     ]
    }
   ],
   "source": [
    "print(p.search(text))"
   ]
  },
  {
   "cell_type": "markdown",
   "id": "0f8db9d9",
   "metadata": {
    "id": "0f8db9d9"
   },
   "source": [
    "#### re.findall()\n",
    "Find all substrings where the RegEx matches, and returns them as a list."
   ]
  },
  {
   "cell_type": "code",
   "execution_count": null,
   "id": "b1a7dc20",
   "metadata": {
    "ExecuteTime": {
     "end_time": "2021-08-02T14:58:42.940763Z",
     "start_time": "2021-08-02T14:58:42.935566Z"
    },
    "id": "b1a7dc20",
    "outputId": "6c0d3fb4-166e-432b-d549-b5750f77812d"
   },
   "outputs": [
    {
     "name": "stdout",
     "output_type": "stream",
     "text": [
      "['Fishes', 'dishes']\n"
     ]
    }
   ],
   "source": [
    "print(p.findall(text))"
   ]
  },
  {
   "cell_type": "markdown",
   "id": "b8c7ccc9",
   "metadata": {
    "id": "b8c7ccc9"
   },
   "source": [
    "#### re.finditer()\n",
    "Find all substrings where the RegEx matches, and returns them as an iterator.RegEx"
   ]
  },
  {
   "cell_type": "code",
   "execution_count": null,
   "id": "c4a286ee",
   "metadata": {
    "ExecuteTime": {
     "end_time": "2021-08-02T14:59:40.560634Z",
     "start_time": "2021-08-02T14:59:40.553197Z"
    },
    "id": "c4a286ee",
    "outputId": "0f5e3b69-801c-4783-852d-dd8a6eb3a48e"
   },
   "outputs": [
    {
     "name": "stdout",
     "output_type": "stream",
     "text": [
      "<callable_iterator object at 0x7f36d0972520>\n",
      "[<re.Match object; span=(0, 6), match='Fishes'>, <re.Match object; span=(21, 27), match='dishes'>]\n"
     ]
    }
   ],
   "source": [
    "print(p.finditer(text))\n",
    "print([x for x in p.finditer(text)])"
   ]
  },
  {
   "cell_type": "markdown",
   "id": "718a7223",
   "metadata": {
    "id": "718a7223"
   },
   "source": [
    "#### RegEx Object Attributes"
   ]
  },
  {
   "cell_type": "code",
   "execution_count": 4,
   "id": "bd3aca51",
   "metadata": {
    "ExecuteTime": {
     "end_time": "2021-08-02T15:02:22.198655Z",
     "start_time": "2021-08-02T15:02:22.195300Z"
    },
    "execution": {
     "iopub.execute_input": "2021-08-02T17:44:32.752199Z",
     "iopub.status.busy": "2021-08-02T17:44:32.752199Z",
     "iopub.status.idle": "2021-08-02T17:44:32.771148Z",
     "shell.execute_reply": "2021-08-02T17:44:32.770151Z",
     "shell.execute_reply.started": "2021-08-02T17:44:32.752199Z"
    },
    "id": "bd3aca51",
    "tags": []
   },
   "outputs": [],
   "source": [
    "m = p.match(text)"
   ]
  },
  {
   "cell_type": "markdown",
   "id": "a24fe81f",
   "metadata": {
    "id": "a24fe81f"
   },
   "source": [
    "**group()**\n",
    "\n",
    "Return the string matched by the RegEx"
   ]
  },
  {
   "cell_type": "code",
   "execution_count": 5,
   "id": "1fe235ad",
   "metadata": {
    "ExecuteTime": {
     "end_time": "2021-08-02T15:02:22.433431Z",
     "start_time": "2021-08-02T15:02:22.427742Z"
    },
    "execution": {
     "iopub.execute_input": "2021-08-02T17:44:34.430638Z",
     "iopub.status.busy": "2021-08-02T17:44:34.430638Z",
     "iopub.status.idle": "2021-08-02T17:44:34.442606Z",
     "shell.execute_reply": "2021-08-02T17:44:34.441643Z",
     "shell.execute_reply.started": "2021-08-02T17:44:34.430638Z"
    },
    "id": "1fe235ad",
    "outputId": "e1b1e1ea-b5ab-4607-c297-32b90f45bb4c",
    "tags": []
   },
   "outputs": [
    {
     "data": {
      "text/plain": [
       "'Fishes'"
      ]
     },
     "execution_count": 5,
     "metadata": {},
     "output_type": "execute_result"
    }
   ],
   "source": [
    "m.group()"
   ]
  },
  {
   "cell_type": "markdown",
   "id": "081dbb13",
   "metadata": {
    "id": "081dbb13"
   },
   "source": [
    "**start() and end()**\n",
    "\n",
    "Return the starting/ending position of the match"
   ]
  },
  {
   "cell_type": "code",
   "execution_count": null,
   "id": "d3816457",
   "metadata": {
    "ExecuteTime": {
     "end_time": "2021-08-02T15:03:12.843929Z",
     "start_time": "2021-08-02T15:03:12.837329Z"
    },
    "id": "d3816457",
    "outputId": "d3782566-8e75-4943-9448-0ecc3252e156"
   },
   "outputs": [
    {
     "data": {
      "text/plain": [
       "(0, 6)"
      ]
     },
     "execution_count": 53,
     "metadata": {
      "tags": []
     },
     "output_type": "execute_result"
    }
   ],
   "source": [
    "m.start(),m.end()"
   ]
  },
  {
   "cell_type": "markdown",
   "id": "1442fbf0",
   "metadata": {
    "ExecuteTime": {
     "end_time": "2021-08-02T15:03:31.658830Z",
     "start_time": "2021-08-02T15:03:31.653370Z"
    },
    "id": "1442fbf0"
   },
   "source": [
    "**span()**\n",
    "\n",
    "Return a tuple containing the (start, end) positions of the match"
   ]
  },
  {
   "cell_type": "code",
   "execution_count": null,
   "id": "c2d6895d",
   "metadata": {
    "ExecuteTime": {
     "end_time": "2021-08-02T15:04:29.554248Z",
     "start_time": "2021-08-02T15:04:29.547711Z"
    },
    "id": "c2d6895d",
    "outputId": "f1abd08b-e619-4373-a814-cc7249b855b2",
    "scrolled": true
   },
   "outputs": [
    {
     "data": {
      "text/plain": [
       "(0, 6)"
      ]
     },
     "execution_count": 56,
     "metadata": {
      "tags": []
     },
     "output_type": "execute_result"
    }
   ],
   "source": [
    "m.span()"
   ]
  },
  {
   "cell_type": "markdown",
   "id": "9b629fc2",
   "metadata": {
    "id": "9b629fc2"
   },
   "source": [
    "### String Manipulation"
   ]
  },
  {
   "cell_type": "code",
   "execution_count": null,
   "id": "0f65f591",
   "metadata": {
    "ExecuteTime": {
     "end_time": "2021-08-02T15:09:40.041996Z",
     "start_time": "2021-08-02T15:09:40.038029Z"
    },
    "id": "0f65f591"
   },
   "outputs": [],
   "source": [
    "text = 'words are not words but maybe words shouldnt be words'"
   ]
  },
  {
   "cell_type": "markdown",
   "id": "73b3280a",
   "metadata": {
    "id": "73b3280a"
   },
   "source": [
    "#### re.split()\n",
    "Split the string into a list, splitting it wherever the RegEx matches"
   ]
  },
  {
   "cell_type": "code",
   "execution_count": null,
   "id": "ef5ccbc7",
   "metadata": {
    "ExecuteTime": {
     "end_time": "2021-08-02T15:09:40.819910Z",
     "start_time": "2021-08-02T15:09:40.813183Z"
    },
    "id": "ef5ccbc7",
    "outputId": "0765ff7f-1022-432c-9396-bb45fc9994be"
   },
   "outputs": [
    {
     "data": {
      "text/plain": [
       "['', ' are not ', ' but maybe ', ' shouldnt be ', '']"
      ]
     },
     "execution_count": 59,
     "metadata": {
      "tags": []
     },
     "output_type": "execute_result"
    }
   ],
   "source": [
    "re.split('words',text)"
   ]
  },
  {
   "cell_type": "code",
   "execution_count": null,
   "id": "9979e29b",
   "metadata": {
    "ExecuteTime": {
     "end_time": "2021-08-02T15:10:13.082879Z",
     "start_time": "2021-08-02T15:10:13.076201Z"
    },
    "id": "9979e29b",
    "outputId": "94077306-ad64-47a0-c23b-e485c5a97b83"
   },
   "outputs": [
    {
     "data": {
      "text/plain": [
       "['', ' are not ', ' but maybe words shouldnt be words']"
      ]
     },
     "execution_count": 61,
     "metadata": {
      "tags": []
     },
     "output_type": "execute_result"
    }
   ],
   "source": [
    "re.split('words',text, maxsplit = 2)"
   ]
  },
  {
   "cell_type": "markdown",
   "id": "a3374f3b",
   "metadata": {
    "id": "a3374f3b"
   },
   "source": [
    "#### re.sub()\n",
    "Find all substrings where the RegEx matches, and replace them with a different string"
   ]
  },
  {
   "cell_type": "code",
   "execution_count": null,
   "id": "a8c56838",
   "metadata": {
    "ExecuteTime": {
     "end_time": "2021-08-02T15:11:00.763837Z",
     "start_time": "2021-08-02T15:11:00.757051Z"
    },
    "id": "a8c56838",
    "outputId": "cc6f1a34-edeb-46fc-ff88-bb43be1501a7"
   },
   "outputs": [
    {
     "data": {
      "text/plain": [
       "'humans are not humans but maybe humans shouldnt be humans'"
      ]
     },
     "execution_count": 63,
     "metadata": {
      "tags": []
     },
     "output_type": "execute_result"
    }
   ],
   "source": [
    "re.sub('words','humans', text)"
   ]
  },
  {
   "cell_type": "code",
   "execution_count": null,
   "id": "838e6dd1",
   "metadata": {
    "ExecuteTime": {
     "end_time": "2021-08-02T15:11:10.371220Z",
     "start_time": "2021-08-02T15:11:10.364749Z"
    },
    "id": "838e6dd1",
    "outputId": "62373c13-2835-47f1-eff5-cbcbe5ae61d5"
   },
   "outputs": [
    {
     "data": {
      "text/plain": [
       "'humans are not words but maybe words shouldnt be words'"
      ]
     },
     "execution_count": 64,
     "metadata": {
      "tags": []
     },
     "output_type": "execute_result"
    }
   ],
   "source": [
    "re.sub('words','humans', text, count = 1)"
   ]
  },
  {
   "cell_type": "markdown",
   "id": "c9916938",
   "metadata": {
    "id": "c9916938"
   },
   "source": [
    "#### re.subn()\n",
    "Does the same thing as sub(), but returns the new string and the number of replacements"
   ]
  },
  {
   "cell_type": "code",
   "execution_count": null,
   "id": "00ed56da",
   "metadata": {
    "ExecuteTime": {
     "end_time": "2021-08-02T15:11:35.623837Z",
     "start_time": "2021-08-02T15:11:35.617708Z"
    },
    "id": "00ed56da",
    "outputId": "d764cf8c-a52a-494b-e72b-7952dbf94357"
   },
   "outputs": [
    {
     "data": {
      "text/plain": [
       "('humans are not humans but maybe humans shouldnt be humans', 4)"
      ]
     },
     "execution_count": 65,
     "metadata": {
      "tags": []
     },
     "output_type": "execute_result"
    }
   ],
   "source": [
    "re.subn('words','humans', text)"
   ]
  },
  {
   "cell_type": "code",
   "execution_count": null,
   "id": "e3e48daf",
   "metadata": {
    "ExecuteTime": {
     "end_time": "2021-08-02T15:11:42.700934Z",
     "start_time": "2021-08-02T15:11:42.693927Z"
    },
    "id": "e3e48daf",
    "outputId": "2e17cefe-1d17-4cbb-dea1-de9b3d0d17cd"
   },
   "outputs": [
    {
     "data": {
      "text/plain": [
       "('humans are not words but maybe words shouldnt be words', 1)"
      ]
     },
     "execution_count": 66,
     "metadata": {
      "tags": []
     },
     "output_type": "execute_result"
    }
   ],
   "source": [
    "re.subn('words','humans', text, count = 1)"
   ]
  },
  {
   "cell_type": "markdown",
   "id": "cb138199",
   "metadata": {
    "id": "cb138199"
   },
   "source": [
    "# Exercises and Assignment1 Explanations"
   ]
  },
  {
   "cell_type": "markdown",
   "id": "908a650c",
   "metadata": {
    "id": "908a650c"
   },
   "source": [
    "## RegEx Exercise"
   ]
  },
  {
   "cell_type": "markdown",
   "id": "830f54cf",
   "metadata": {
    "id": "830f54cf"
   },
   "source": [
    "### Is Date?\n",
    "Create a function `is_date` that uses python regular expressions to check whether the input string follows any of the following date format:\n",
    "\n",
    "* yyyy-mm-dd\n",
    "* yyyy/mm/dd\n",
    "* mm-dd-yyyy\n",
    "* mm/dd/yyyy\n",
    "* dd-mm-yyyy\n",
    "* dd/mm/yyyy\n",
    "\n",
    "It should return `True` if it does and `False` otherwise. No need to check whether the input is a valid date."
   ]
  },
  {
   "cell_type": "markdown",
   "id": "36ddc5e9",
   "metadata": {
    "id": "36ddc5e9"
   },
   "source": [
    "**SUMMARY**\n",
    "1. Generate variables for each component of a date to avoid unneccessary redundancies to the writing statements\n",
    "```python\n",
    "yyyy = '([1-9][0-9]{3})' # Matches Year\n",
    "dd = '(0[1-9]|[12][0-9]|3[01])' # Matches Day\n",
    "mm = '(0[1-9]|1[012])' # Matches Month\n",
    "```\n",
    "2. Create RegEx statements (For this number, ill discuss only one portion since the other portions are just variations).\n",
    "\n",
    "    * **Skeleton**\n",
    "\n",
    "        * `^(()|()|())$`\n",
    "\n",
    "            * `^` \n",
    "                * Anchor to start of line\n",
    "\n",
    "            * `$` \n",
    "                * Anchor to end of line\n",
    "\n",
    "            * `(...)|(...)|(...)` \n",
    "                * Or Statements to Capture Variations \n",
    "    * **For Matching Dates (What goes inside `(...)`)**\n",
    "\n",
    "        * `fr'({yyyy}(?P<del>[-/]){mm}(?P=del){dd})'`\n",
    "\n",
    "            * `{yyyy}`, `{mm}`, and `{dd}` are python format strings flagged by `f` in the beginning of the string.\n",
    "            * `(?P<del>[-/])` \n",
    "                * is a named capturing group where `del` is the name of the group and it captures\n",
    "            if the delimiter is either a `-` or a `/`.\n",
    "            * `(?P=del)` \n",
    "                * matches the same text matched by the previously named capture group `del`.                "
   ]
  },
  {
   "cell_type": "code",
   "execution_count": null,
   "id": "0daccc33",
   "metadata": {
    "ExecuteTime": {
     "end_time": "2021-08-02T11:44:27.886311Z",
     "start_time": "2021-08-02T11:44:27.879355Z"
    },
    "id": "0daccc33"
   },
   "outputs": [],
   "source": [
    "def is_date(test_str):\n",
    "    '''Check if input test_str matches the following date formats:\n",
    "    \n",
    "    * yyyy-mm-dd\n",
    "    * yyyy/mm/dd\n",
    "    * mm-dd-yyyy\n",
    "    * mm/dd/yyyy\n",
    "    * dd-mm-yyyy\n",
    "    * dd/mm/yyyy\n",
    "    \n",
    "    Parameters\n",
    "    -------\n",
    "    test_str: str\n",
    "        Input string to check for date format.\n",
    "\n",
    "    Returns\n",
    "    -------\n",
    "    is_valid_date : bool\n",
    "        Boolean that determines if input string follows a valid\n",
    "        date format.\n",
    "    '''\n",
    "    yyyy = '([1-9][0-9]{3})' # Matches Year\n",
    "    dd = '(0[1-9]|[12][0-9]|3[01])' # Matches Day\n",
    "    mm = '(0[1-9]|1[012])' # Matches Month\n",
    "    pattern = fr'^(({yyyy}(?P<del>[-/]){mm}(?P=del){dd})|' +\\ # Deals with first two formats\n",
    "              fr'({mm}(?P<del2>[-/]){dd}(?P=del2){yyyy})|' +\\ # Deals with 3rd and 4\n",
    "              fr'({dd}(?P<del3>[-/]){mm}(?P=del3){yyyy}))$' # Deals with last two formats\n",
    "    return re.match(pattern,test_str) is not None"
   ]
  },
  {
   "cell_type": "code",
   "execution_count": null,
   "id": "3fdc5d5a",
   "metadata": {
    "id": "3fdc5d5a"
   },
   "outputs": [],
   "source": [
    "assert_equal(is_date('2020-05-18'), True)\n",
    "assert_equal(is_date('2020/05/18'), True)\n",
    "assert_equal(is_date('05-18-2020'), True)\n",
    "assert_equal(is_date('05/18/2020'), True)\n",
    "assert_equal(is_date('18-05-2020'), True)\n",
    "assert_equal(is_date('18/05/2020'), True)\n",
    "assert_equal(is_date('5-18-2020'), False)\n",
    "assert_equal(is_date('5/18/2020'), False)\n",
    "assert_equal(is_date('18-5-2020'), False)\n",
    "assert_equal(is_date('18/5/2020'), False)\n",
    "assert_equal(is_date('2020-054-18'), False)\n",
    "assert_equal(is_date('2020-05-181'), False)\n",
    "assert_equal(is_date('202-05-18'), False)"
   ]
  },
  {
   "cell_type": "markdown",
   "id": "aa704935",
   "metadata": {
    "id": "aa704935"
   },
   "source": [
    "### Find Data\n",
    "Create a function `find_data` that returns all occurrences of `data set` or `dataset` in `text` as a list of strings in the same order as they appear in `text`."
   ]
  },
  {
   "cell_type": "markdown",
   "id": "81c35c13",
   "metadata": {
    "id": "81c35c13"
   },
   "source": [
    "**SUMMARY**\n",
    "\n",
    "* **RegEx Skeleton**\n",
    "\n",
    "    * `(\\bdata\\s?set\\b)`\n",
    "\n",
    "        * `\\bdata`\n",
    "            * using `\\b` as a word boundary, we prevent matches where `data` is just the tail-end of a word\n",
    "\n",
    "        * `\\s?`\n",
    "            * Specifies the possibility of encountering a whitespace either once or not at all.\n",
    "\n",
    "        * `set\\b`\n",
    "            * matches the word `set`. Note that the pattern included the whitespace before this part - thus we need not worry for cases that set is the tail-end of a word. The `\\b` ensures that a non-word character borders `set` (e.g. `seta`).\n"
   ]
  },
  {
   "cell_type": "code",
   "execution_count": null,
   "id": "3736e66d",
   "metadata": {
    "ExecuteTime": {
     "end_time": "2021-08-02T12:41:02.475677Z",
     "start_time": "2021-08-02T12:41:02.470602Z"
    },
    "id": "3736e66d"
   },
   "outputs": [],
   "source": [
    "def find_data(text):\n",
    "    '''Return all instances of of the strings, 'data set' and 'dataset'\n",
    "    within the input string.\n",
    "    \n",
    "    Parameters\n",
    "    -------\n",
    "    text: str\n",
    "        Input string to parse\n",
    "\n",
    "    Returns\n",
    "    -------\n",
    "    occurances : list of strings\n",
    "        List containing all instances of 'data set' and 'dataset' in order\n",
    "        of appearance.\n",
    "    '''\n",
    "    return re.findall(r'(\\bdata\\s?set\\b)',text)"
   ]
  },
  {
   "cell_type": "code",
   "execution_count": null,
   "id": "b59a38ac",
   "metadata": {
    "id": "b59a38ac"
   },
   "outputs": [],
   "source": [
    "text = \"\"\"\n",
    "My dataset is bigger than your data set. Your data set is so tiny, ten of your\n",
    "data sets can fit inside my dataset. Ten of your data sets inside one of my\n",
    "data set! Your data set doesn't stand a chance.\n",
    "\"\"\"\n",
    "assert_equal(\n",
    "    find_data(text), \n",
    "    ['dataset', 'data set', 'data set', 'dataset', 'data set', 'data set'])"
   ]
  },
  {
   "cell_type": "markdown",
   "id": "61601e25",
   "metadata": {
    "id": "61601e25"
   },
   "source": [
    "### Find Lamb\n",
    "Create a function `find_data` that returns all phrases in `text` that begin with the word `little` and end with the word `lamb` as a list of strings in the same order as they appear in `text`."
   ]
  },
  {
   "cell_type": "markdown",
   "id": "b1153d15",
   "metadata": {
    "id": "b1153d15"
   },
   "source": [
    "**SUMMARY**\n",
    "\n",
    "* **RegEx Skeleton**\n",
    "\n",
    "    * `(\\blittle\\b.*?\\blamb\\b)`\n",
    "\n",
    "        * `\\blittle\\b`\n",
    "            * using `\\b` as a word boundary, we prevent matches where `little` is either just the front-end or tail-end of a word\n",
    "\n",
    "        * `.*?`\n",
    "            * is a non-greedy pattern to capture words and characterns between `little` and `lamb`.\n",
    "\n",
    "        * `\\blamb\\b`\n",
    "            * using `\\b` as a word boundary, we prevent matches where `lamb` is either just the front-end or tail-end of a word (e.g. `lambchops`, `kulambo`)\n"
   ]
  },
  {
   "cell_type": "code",
   "execution_count": null,
   "id": "56d12800",
   "metadata": {
    "ExecuteTime": {
     "end_time": "2021-08-02T12:41:02.475677Z",
     "start_time": "2021-08-02T12:41:02.470602Z"
    },
    "id": "56d12800"
   },
   "outputs": [],
   "source": [
    "def find_lamb(text):\n",
    "    '''Return all phrases starting with the word 'lamb' and ending\n",
    "    with the word 'lamb'.\n",
    "    \n",
    "    Parameters\n",
    "    -------\n",
    "    text: str\n",
    "        Input string to parse\n",
    "\n",
    "    Returns\n",
    "    -------\n",
    "    occurances : list of strings\n",
    "        List containing all instances of phrases starting with the word\n",
    "        'lamb' and ending with the word 'lamb' in order of appearance.\n",
    "    '''\n",
    "    return re.findall(r'(\\blittle\\b.*?\\blamb\\b)',text)"
   ]
  },
  {
   "cell_type": "code",
   "execution_count": null,
   "id": "675a8eda",
   "metadata": {
    "id": "675a8eda"
   },
   "outputs": [],
   "source": [
    "text = \"\"\"\n",
    "Mary had a little lamb, little lamb, little lamb\n",
    "Mary had a little brown lamb, little brown lamb, little brown lamb\n",
    "Whose wool is as brown as wood\n",
    "\"\"\"\n",
    "assert_equal(\n",
    "    find_lamb(text), \n",
    "    ['little lamb',\n",
    "     'little lamb',\n",
    "     'little lamb',\n",
    "     'little brown lamb',\n",
    "     'little brown lamb',\n",
    "     'little brown lamb'])"
   ]
  },
  {
   "cell_type": "markdown",
   "id": "81f12b37",
   "metadata": {
    "id": "81f12b37"
   },
   "source": [
    "### Repeat Alternate (Replacement/Substitution Problem)\n",
    "Create a function `repeat_alternate` that returns a string where every other word of `text` is repeated."
   ]
  },
  {
   "cell_type": "markdown",
   "id": "a4350f48",
   "metadata": {
    "id": "a4350f48"
   },
   "source": [
    "**SUMMARY**\n",
    "\n",
    "* **RegEx Skeleton (Matches)**\n",
    "\n",
    "    * `\\s*?(\\b\\S+?\\b)\\s(\\b\\S+?\\b\\s)`\n",
    "\n",
    "        * `\\s*?`\n",
    "            * Captures any leading whitespaces and accounts for spaces every two words.\n",
    "\n",
    "        * `(\\b\\S+?\\b)` \n",
    "            * First word capture.\n",
    "\n",
    "        * `\\s`\n",
    "            * Whitespace between first word capture and second word capture\n",
    "            \n",
    "        * `(\\b\\S+?\\b\\s)`\n",
    "            * Second word capture. Notice that we made it non-greedy so that the match does not extend beyond one-word. \n",
    "            \n",
    "* **RegEx Skeleton (Replacement)**\n",
    "\n",
    "    * `\\1 \\1 \\2`\n",
    "\n",
    "        * `\\1` is the first word capture\n",
    "        * `\\1 \\1` is two `first word captures` in sequence\n",
    "        * `\\1 \\1 \\2` adds the second word capture to the two `first word captures`."
   ]
  },
  {
   "cell_type": "code",
   "execution_count": null,
   "id": "c2c7bd25",
   "metadata": {
    "ExecuteTime": {
     "end_time": "2021-08-02T13:22:28.134769Z",
     "start_time": "2021-08-02T13:22:28.128588Z"
    },
    "id": "c2c7bd25"
   },
   "outputs": [],
   "source": [
    "def repeat_alternate(text):\n",
    "    '''Return an altered text input where every other word (starting\n",
    "    from the first word) is repeated.\n",
    "    \n",
    "    Parameters\n",
    "    -------\n",
    "    text: str\n",
    "        Input string to alter\n",
    "\n",
    "    Returns\n",
    "    -------\n",
    "    modified_text : str\n",
    "        Altered string\n",
    "    '''\n",
    "    pattern = r'\\s*?(\\b\\S+?\\b)\\s(\\b\\S+?\\b\\s)'\n",
    "    replacement = r'\\1 \\1 \\2'\n",
    "    return re.sub(pattern,replacement,text)"
   ]
  },
  {
   "cell_type": "code",
   "execution_count": null,
   "id": "5737671c",
   "metadata": {
    "ExecuteTime": {
     "end_time": "2021-08-02T13:22:39.511553Z",
     "start_time": "2021-08-02T13:22:39.504947Z"
    },
    "id": "5737671c"
   },
   "outputs": [],
   "source": [
    "text = (\"Peter Piper picked a peck of pickled peppers \"\n",
    "        \"A peck of pickled peppers Peter Piper picked \"\n",
    "        \"If Peter Piper picked a peck of pickled peppers \"\n",
    "        \"Where's the peck of pickled peppers Peter Piper picked \")\n",
    "assert_equal(\n",
    "    repeat_alternate(text),\n",
    "    (\"Peter Peter Piper picked picked a peck peck of pickled pickled peppers \"\n",
    "     \"A A peck of of pickled peppers peppers Peter Piper Piper picked If If \"\n",
    "     \"Peter Piper Piper picked a a peck of of pickled peppers peppers \"\n",
    "     \"Where's the the peck of of pickled peppers peppers Peter Piper Piper \"\n",
    "     \"picked \")\n",
    ")"
   ]
  },
  {
   "cell_type": "markdown",
   "id": "ef5450b6",
   "metadata": {
    "id": "ef5450b6"
   },
   "source": [
    "### Whats on the Bus\n",
    "Create a function `whats_on_the_bus` that will return the unique items that are on the bus according to the `text`."
   ]
  },
  {
   "cell_type": "markdown",
   "id": "fcf550b4",
   "metadata": {
    "id": "fcf550b4"
   },
   "source": [
    "**SUMMARY**\n",
    "\n",
    "* **RegEx Skeleton**\n",
    "\n",
    "    * `The ([A-Za-z]+?) on the bus`\n",
    "\n",
    "        * Since we know that the format for specifying whats on the bus, we simply create a capturing\n",
    "        group `([A-Za-z]+?)` for the item on the bus."
   ]
  },
  {
   "cell_type": "code",
   "execution_count": null,
   "id": "436af3f6",
   "metadata": {
    "ExecuteTime": {
     "end_time": "2021-08-02T13:24:09.109516Z",
     "start_time": "2021-08-02T13:24:09.104453Z"
    },
    "id": "436af3f6"
   },
   "outputs": [],
   "source": [
    "def whats_on_the_bus(text):\n",
    "    '''Find unique objects that are on the bus.\n",
    "    \n",
    "    Parameters\n",
    "    -------\n",
    "    text: str\n",
    "        Input string to parse.\n",
    "\n",
    "    Returns\n",
    "    -------\n",
    "    objects : set\n",
    "        Unique items on the bus.\n",
    "    '''\n",
    "    return set(re.findall(r'The ([A-Za-z]+?) on the bus',text))"
   ]
  },
  {
   "cell_type": "code",
   "execution_count": null,
   "id": "f31104f4",
   "metadata": {
    "ExecuteTime": {
     "end_time": "2021-08-02T13:24:09.920558Z",
     "start_time": "2021-08-02T13:24:09.913157Z"
    },
    "id": "f31104f4"
   },
   "outputs": [],
   "source": [
    "text = \"\"\"\n",
    "The wheels on the bus go round and round\n",
    "Round and round, round and round\n",
    "The wheels on the bus go round and round\n",
    "All day long\n",
    "The wipers on the bus go swish, swish, swish\n",
    "Swish, swish, swish, swish, swish, swish\n",
    "The wipers on the bus go swish, swish, swish\n",
    "All day long\n",
    "The horn on the bus goes beep, beep, beep\n",
    "Beep, beep, beep, beep, beep, beep\n",
    "The horn on the bus goes beep, beep, beep\n",
    "All day long\n",
    "The babies on the bus go wah, wah, wah\n",
    "Wah, wah, wah, wah, wah, wah\n",
    "The babies on the bus go wah, wah, wah\n",
    "All day long\n",
    "The wheels on the bus go round and round\n",
    "Round and round, round and round\n",
    "The wheels on the bus go round and round\n",
    "All day long\n",
    "\"\"\"\n",
    "items = whats_on_the_bus(text)\n",
    "assert_equal(len(items), 4)\n",
    "assert_equal(set(items), set(['babies', 'horn', 'wheels', 'wipers']))"
   ]
  },
  {
   "cell_type": "markdown",
   "id": "1ad4d4ba",
   "metadata": {
    "id": "1ad4d4ba"
   },
   "source": [
    "### String to List\n",
    "Create a function `to_list` that returns the list of items in `text` which were delimited by `,`, `+` or `and`."
   ]
  },
  {
   "cell_type": "markdown",
   "id": "983b18eb",
   "metadata": {
    "id": "983b18eb"
   },
   "source": [
    "**SUMMARY**\n",
    "\n",
    "* We can use `re.split()` for this particular problem! Recall that `re.split` delimits our string based on the patterns we specify.\n",
    "\n",
    "* I think this problem is pretty clear so no further explanation needed :)"
   ]
  },
  {
   "cell_type": "code",
   "execution_count": null,
   "id": "ce9879b7",
   "metadata": {
    "ExecuteTime": {
     "end_time": "2021-08-02T12:41:02.475677Z",
     "start_time": "2021-08-02T12:41:02.470602Z"
    },
    "id": "ce9879b7"
   },
   "outputs": [],
   "source": [
    "def to_list(text):\n",
    "    '''Split input text into a list with respect to the following delimiters:\n",
    "    \n",
    "    * ,\n",
    "    * +\n",
    "    * and\n",
    "    * white-spaces\n",
    "    \n",
    "    Parameters\n",
    "    -------\n",
    "    text: str\n",
    "        Input string to parse.\n",
    "\n",
    "    Returns\n",
    "    -------\n",
    "    list of text : list\n",
    "        List of words from input string with respect to possible delimiters. \n",
    "    '''\n",
    "    return re.split('[\\+\\,]|and',text)"
   ]
  },
  {
   "cell_type": "code",
   "execution_count": null,
   "id": "a70dc69f",
   "metadata": {
    "id": "a70dc69f"
   },
   "outputs": [],
   "source": [
    "text = \"a,b,candfoo bar+bazandd e+fee fi fo\"\n",
    "assert_equal(\n",
    "    to_list(text), \n",
    "    ['a', 'b', 'c', 'foo bar', 'baz', 'd e', 'fee fi fo'])"
   ]
  },
  {
   "cell_type": "markdown",
   "id": "92edd1c1",
   "metadata": {
    "id": "92edd1c1"
   },
   "source": [
    "### Product of Matches\n",
    "Create a function `march_product` that returns the product of each `m by n` pair in `text`."
   ]
  },
  {
   "cell_type": "markdown",
   "id": "0c48a8c6",
   "metadata": {
    "id": "0c48a8c6"
   },
   "source": [
    "**SUMMARY**\n",
    "\n",
    "* Since the RegEx for this problem is straightforward, the main concern in this problem is how to utilize the capturing groups and get the product of each pair of capturing group. Luckily `re.match` gives us a list of tuples of capturing groups therefore we can use a list comprehension to perform our multiplication.\n",
    "\n",
    "* **RegEx Skeleton**\n",
    "\n",
    "    * `(\\d+) by (\\d+)`\n",
    "\n",
    "        * This RegEx problem only requires that we extract the integers that are separated by the word `by` (based on input string). Explanation is left to the reader :)\n"
   ]
  },
  {
   "cell_type": "code",
   "execution_count": null,
   "id": "f2aa2f35",
   "metadata": {
    "ExecuteTime": {
     "end_time": "2021-08-02T12:41:02.475677Z",
     "start_time": "2021-08-02T12:41:02.470602Z"
    },
    "id": "f2aa2f35"
   },
   "outputs": [],
   "source": [
    "def march_product(text):\n",
    "    '''Calculate the product (total number of ants per group)\n",
    "    of each group of ants that are marching.\n",
    "    \n",
    "    Parameters\n",
    "    -------\n",
    "    text: str\n",
    "        Input string to parse.\n",
    "\n",
    "    Returns\n",
    "    -------\n",
    "    list of products : list of integers\n",
    "        List of number of ants that are marching in each group.\n",
    "    '''\n",
    "    matches = re.findall(r'(\\d+) by (\\d+)',text)\n",
    "    return [int(m[0])*int(m[1]) for m in matches]"
   ]
  },
  {
   "cell_type": "code",
   "execution_count": null,
   "id": "ca992c4d",
   "metadata": {
    "id": "ca992c4d"
   },
   "outputs": [],
   "source": [
    "text = \"\"\"\n",
    "The ants go marching 1 by 1, hurrah, hurrah\n",
    "The ants go marching 2 by 13, hurrah, hurrah\n",
    "The ants go marching 42 by 8,\n",
    "The little one stops to suck his thumb\n",
    "And they all go marching down to the ground\n",
    "To get out of the rain, BOOM! BOOM! BOOM!\n",
    "\n",
    "The ants go marching 9 by 16, hurrah, hurrah\n",
    "The ants go marching 54 by 7, hurrah, hurrah\n",
    "The ants go marching 8 by 42,\n",
    "The little one stops to tie his shoe\n",
    "And they all go marching down to the ground\n",
    "To get out of the rain, BOOM! BOOM! BOOM!\n",
    "\"\"\"\n",
    "assert_equal(march_product(text), [1, 26, 336, 144, 378, 336])"
   ]
  },
  {
   "cell_type": "markdown",
   "id": "fbcfff35",
   "metadata": {
    "id": "fbcfff35"
   },
   "source": [
    "### Get BIG\n",
    "Create a function `get_big` that will take in `items` and return the list of `ITEM`s that begin with `Big` but with an SKU that is not all numbers."
   ]
  },
  {
   "cell_type": "markdown",
   "id": "bb8be38d",
   "metadata": {
    "id": "bb8be38d"
   },
   "source": [
    "**SUMMARY**\n",
    "\n",
    "* **RegEx Skeleton**\n",
    "\n",
    "    * `^(?:[A-Z0-9]*(?:[A-Z]\\d|\\d[A-Z]|[A-Z])\\S*?) (Big\\b.*)$`\n",
    "\n",
    "        * `^` \n",
    "            * Anchor to start of line\n",
    "\n",
    "        * `(?:[A-Z0-9]*(?:[A-Z]\\d|\\d[A-Z]|[A-Z])\\S*?)`\n",
    "            * Nested Non-Capturing Groups\n",
    "            * `[A-Z0-9]*` \n",
    "                * Accounts for all leading character before a valid pair of character is found.\n",
    "            * `(?:[A-Z]\\d|\\d[A-Z]|[A-Z])`\n",
    "                * Searches for valid pairs\n",
    "                    * a number succeeding a letter\n",
    "                    * a letter succeeding a number\n",
    "                    * a letter (for instances that SKU is just a single character)\n",
    "            * `\\S*?`\n",
    "                * To account for trailing non-whitespace characters.\n",
    "        * `(Big\\b.*)$`\n",
    "            * Matches phrases that start with the word `Big`.\n",
    "\n",
    "        * `$` \n",
    "            * Anchor to end of line"
   ]
  },
  {
   "cell_type": "code",
   "execution_count": null,
   "id": "94b97eb7",
   "metadata": {
    "ExecuteTime": {
     "end_time": "2021-08-02T14:03:26.973858Z",
     "start_time": "2021-08-02T14:03:26.968670Z"
    },
    "id": "94b97eb7"
   },
   "outputs": [],
   "source": [
    "def get_big(items):\n",
    "    '''Identify items with an SKU that is a combination of numbers and\n",
    "    letters with an item name starting with \"Big\".\n",
    "    \n",
    "    Parameters\n",
    "    -------\n",
    "    items: str\n",
    "        Input string to parse.\n",
    "\n",
    "    Returns\n",
    "    -------\n",
    "    big_items: list of strings\n",
    "        List of items that match the pattern desired.\n",
    "    '''\n",
    "    pattern = r'^(?:[A-Z0-9]*(?:[A-Z]\\d|\\d[A-Z]|[A-Z])\\S*?) (Big\\b.*)$'\n",
    "    return re.findall(pattern,items,re.M)"
   ]
  },
  {
   "cell_type": "code",
   "execution_count": null,
   "id": "cefc4dfb",
   "metadata": {
    "ExecuteTime": {
     "end_time": "2021-08-02T14:01:22.686558Z",
     "start_time": "2021-08-02T14:01:22.680434Z"
    },
    "id": "cefc4dfb"
   },
   "outputs": [],
   "source": [
    "items = \"\"\"SKU ITEM\n",
    "1A Big Red Box\n",
    "A0 Big Bad Wolf\n",
    "A1 Bigrams and Trigrams\n",
    "02 Big Big World\n",
    "BC Ain't Big Shoes\n",
    "3C Bigger not Big\"\"\"\n",
    "\n",
    "assert_equal(get_big(items), ['Big Red Box', 'Big Bad Wolf'])"
   ]
  },
  {
   "cell_type": "code",
   "execution_count": null,
   "id": "74205d02",
   "metadata": {
    "ExecuteTime": {
     "end_time": "2021-08-02T14:00:26.353538Z",
     "start_time": "2021-08-02T14:00:26.336299Z"
    },
    "id": "74205d02",
    "outputId": "231d65d7-6bc7-4dd4-c6c6-4dbf3190dcfa"
   },
   "outputs": [
    {
     "data": {
      "text/plain": [
       "['Big Red Box', 'Big Bad Wolf', 'Big Big World']"
      ]
     },
     "execution_count": 17,
     "metadata": {
      "tags": []
     },
     "output_type": "execute_result"
    }
   ],
   "source": [
    "get_big(items)"
   ]
  },
  {
   "cell_type": "markdown",
   "id": "cebf09b7",
   "metadata": {
    "id": "cebf09b7"
   },
   "source": [
    "### Find Chris\n",
    "Create a function `find_data` that returns all phrases in `text` that begin with the word `little` and end with the word `lamb` as a list of strings in the same order as they appear in `text`."
   ]
  },
  {
   "cell_type": "markdown",
   "id": "9425fdef",
   "metadata": {
    "id": "9425fdef"
   },
   "source": [
    "**SUMMARY**\n",
    "\n",
    "* `re.I` flag that the RegEx is case-insensitive\n",
    "\n",
    "* **RegEx Skeleton**\n",
    "\n",
    "    * `(\\w*Chris\\w*) [^BM].*`\n",
    "\n",
    "        * `(\\w*Chris\\w*)`\n",
    "            * matches all words that contains the word `Chris`\n",
    "\n",
    "        * `[^BM].*`\n",
    "            * Gets all Last Names that doesnt start with `B` or `M`"
   ]
  },
  {
   "cell_type": "code",
   "execution_count": null,
   "id": "25b306e1",
   "metadata": {
    "ExecuteTime": {
     "end_time": "2021-08-02T14:06:28.126344Z",
     "start_time": "2021-08-02T14:06:28.121191Z"
    },
    "id": "25b306e1"
   },
   "outputs": [],
   "source": [
    "def find_chris(test_str):\n",
    "    '''Find all first names of names with firstnames containing\n",
    "    the case-insensitive word 'Chris' and a last name that doesnt\n",
    "    start with a B or an M.\n",
    "    \n",
    "    Parameters\n",
    "    -------\n",
    "    test_str: str\n",
    "        Input string to parse.\n",
    "\n",
    "    Returns\n",
    "    -------\n",
    "    chris_names: list of strings\n",
    "        List of first names that followed the desired pattern.\n",
    "    '''\n",
    "    return re.findall(r'(\\w*Chris\\w*) [^BM].*', test_str, re.I)"
   ]
  },
  {
   "cell_type": "code",
   "execution_count": null,
   "id": "a9998eb2",
   "metadata": {
    "ExecuteTime": {
     "end_time": "2021-08-02T14:06:29.575616Z",
     "start_time": "2021-08-02T14:06:29.569049Z"
    },
    "id": "a9998eb2"
   },
   "outputs": [],
   "source": [
    "names = '''ID FIRST_NAME LAST_NAME\n",
    "1 Christian Alis\n",
    "A Chris Monterola\n",
    "A1 Chris Hemsworth\n",
    "02 Christian Bale\n",
    "BC Christopher Nolan\n",
    "3C Christopher de Leon\n",
    "4F Marichris Chu'''\n",
    "\n",
    "res = find_chris(names)\n",
    "assert_equal(type(res), list)\n",
    "assert_equal(set(res), \n",
    "             set(['Christian', 'Chris', 'Christopher', 'Christopher', \n",
    "                  'Marichris']))"
   ]
  },
  {
   "cell_type": "markdown",
   "id": "2d82244a",
   "metadata": {
    "id": "2d82244a"
   },
   "source": [
    "### Parse Logs\n",
    "Create a function `get_client` that accepts `server_log` and returns a list of client IP , date/time of server access, and status code tuples from `log`. The value of `server_log` is shown below with relevant information highlighted in red.\n",
    "<pre>\n",
    "<font color=\"red\">66.249.65.159</font> - - [<font color=\"red\">06/May/2019:19:10:38 +0800</font>] \"GET /news/53f8d72920ba2744fe873ebc.html HTTP/1.1\" <font color=\"red\">404</font> 177 \"-\" \"Mozilla/5.0 (iPhone; CPU iPhone OS 6_0 like Mac OS X) AppleWebKit/536.26 (KHTML, like Gecko) Version/6.0 Mobile/10A5376e Safari/8536.25 (compatible; Googlebot/2.1; +http://www.google.com/bot.html)\"\n",
    "<font color=\"red\">66.249.65.3</font> - - [<font color=\"red\">06/May/2019:19:11:24 +0800</font>] \"GET /?q=%E0%A6%AB%E0%A6%BE%E0%A7%9F%E0%A6%BE%E0%A6%B0 HTTP/1.1\" <font color=\"red\">200</font> 4223 \"-\" \"Mozilla/5.0 (compatible; Googlebot/2.1; +http://www.google.com/bot.html)\"\n",
    "<font color=\"red\">127.0.0.1</font> - - [<font color=\"red\">06/May/2019:19:12:14 +0800</font>] \"GET /?q=%E0%A6%A6%E0%A7%8B%E0%A7%9F%E0%A6%BE HTTP/1.1\" <font color=\"red\">200</font> 4356 \"-\" \"Mozilla/5.0 (compatible; Googlebot/2.1; +http://www.google.com/bot.html)\"\n",
    "</pre>"
   ]
  },
  {
   "cell_type": "markdown",
   "id": "325942f4",
   "metadata": {
    "id": "325942f4"
   },
   "source": [
    "**SUMMARY**\n",
    "\n",
    "* **RegEx Skeleton**\n",
    "\n",
    "    * `(?:(\\d{1,3}\\.\\d{1,3}.\\d{1,3}.\\d{1,3}) - - \\[(.*)\\] \\\".*?\\\" (\\d{3}))`\n",
    "\n",
    "        * `(?:(\\d{1,3}\\.\\d{1,3}.\\d{1,3}.\\d{1,3})`\n",
    "            * Matches the IP-address of log entries. Note that this requires a bit of domain knowledge since it was not mentioned that each value of an IP address may contain up to 3 digits.\n",
    "\n",
    "        * `\\[(.*)\\]?`\n",
    "            * Captures the timestamp that is contained within square brackets.\n",
    "        \n",
    "        * `\\\".*?\\\"`\n",
    "            * Accounts for the HTTP methods that are contained inside quotation marks\n",
    "            \n",
    "        * `(\\d{3})`\n",
    "            * Matches the first group of three digits after the HTTP methods (which in this case is error code)\n"
   ]
  },
  {
   "cell_type": "code",
   "execution_count": null,
   "id": "13165d3c",
   "metadata": {
    "ExecuteTime": {
     "end_time": "2021-08-02T14:14:47.804300Z",
     "start_time": "2021-08-02T14:14:47.799211Z"
    },
    "id": "13165d3c"
   },
   "outputs": [],
   "source": [
    "def get_client(server_log):\n",
    "    '''Extract relevant information from server log. The following\n",
    "    information is retrieved:\n",
    "    * IPv4 Address\n",
    "    * Date of Log\n",
    "    * Error Code Encountered\n",
    "    \n",
    "    Parameters\n",
    "    -------\n",
    "    server_log: str\n",
    "        String of server logs.\n",
    "\n",
    "    Returns\n",
    "    -------\n",
    "    info: list of tuples\n",
    "        List of relevant server log information\n",
    "    '''\n",
    "    pattern = r'(?:(\\d{1,3}\\.\\d{1,3}.\\d{1,3}.\\d{1,3})' +\\\n",
    "               ' - - \\[(.*)\\] \\\".*?\\\" (\\d{3}))'\n",
    "    return re.findall(pattern,server_log)"
   ]
  },
  {
   "cell_type": "code",
   "execution_count": null,
   "id": "269754e6",
   "metadata": {
    "ExecuteTime": {
     "end_time": "2021-08-02T14:14:48.144513Z",
     "start_time": "2021-08-02T14:14:48.138228Z"
    },
    "id": "269754e6"
   },
   "outputs": [],
   "source": [
    "server_log = '''66.249.65.159 - - [06/May/2019:19:10:38 +0800] \"GET /news/53f8d72920ba2744fe873ebc.html HTTP/1.1\" 404 177 \"-\" \"Mozilla/5.0 (iPhone; CPU iPhone OS 6_0 like Mac OS X) AppleWebKit/536.26 (KHTML, like Gecko) Version/6.0 Mobile/10A5376e Safari/8536.25 (compatible; Googlebot/2.1; +http://www.google.com/bot.html)\"\n",
    "66.249.65.3 - - [06/May/2019:19:11:24 +0800] \"GET /?q=%E0%A6%AB%E0%A6%BE%E0%A7%9F%E0%A6%BE%E0%A6%B0 HTTP/1.1\" 200 4223 \"-\" \"Mozilla/5.0 (compatible; Googlebot/2.1; +http://www.google.com/bot.html)\"\n",
    "127.0.0.1 - - [06/May/2019:19:12:14 +0800] \"GET /?q=%E0%A6%A6%E0%A7%8B%E0%A7%9F%E0%A6%BE HTTP/1.1\" 200 4356 \"-\" \"Mozilla/5.0 (compatible; Googlebot/2.1; +http://www.google.com/bot.html)\"'''\n",
    "\n",
    "assert_equal(get_client(server_log),\n",
    "             [('66.249.65.159', '06/May/2019:19:10:38 +0800', '404'),\n",
    "              ('66.249.65.3', '06/May/2019:19:11:24 +0800', '200'),\n",
    "              ('127.0.0.1', '06/May/2019:19:12:14 +0800', '200')])"
   ]
  },
  {
   "cell_type": "markdown",
   "id": "686e5b9b",
   "metadata": {
    "id": "686e5b9b"
   },
   "source": [
    "## Assignment 1"
   ]
  },
  {
   "cell_type": "markdown",
   "id": "5fa6312a",
   "metadata": {
    "id": "5fa6312a"
   },
   "source": [
    "### Get Previous Word"
   ]
  },
  {
   "cell_type": "markdown",
   "id": "97fb7f5a",
   "metadata": {
    "id": "97fb7f5a"
   },
   "source": [
    "**SUMMARY**\n",
    "\n",
    "* Make use of `re.escape` for literal search terms.\n",
    "\n",
    "* **RegEx Skeleton**\n",
    "\n",
    "    * `fr'(\\w+?)(?=\\b(?:[^.]\\W*?)\\b{re.escape(search_term)}\\b)'`\n",
    "\n",
    "        * `(\\w+?)`\n",
    "            * The Previous Word that we are looking for.\n",
    "\n",
    "        * `(?=\\b(?:[^.]\\W*?)`\n",
    "            * A look ahead function that checks if the `Previous Word` is found at the end of a sentence (rejects the match if it is) and also accounts for non-word characters (special characters and whitespace). \n",
    "        \n",
    "        * `\\b{re.escape(search_term)}\\b`\n",
    "            * Search Word\n"
   ]
  },
  {
   "cell_type": "code",
   "execution_count": null,
   "id": "e1b7c5ea",
   "metadata": {
    "ExecuteTime": {
     "end_time": "2021-08-02T14:25:15.587125Z",
     "start_time": "2021-08-02T14:25:15.580185Z"
    },
    "id": "e1b7c5ea"
   },
   "outputs": [],
   "source": [
    "def get_prev_word(inp, search_term):\n",
    "    \"\"\"Return the previous word of a given `search_term` with respect to\n",
    "    the input string, `inp`.\n",
    "    \n",
    "    Words located at the start of a sentence have no previous words.\n",
    "\n",
    "    Parameters\n",
    "    ----------\n",
    "    inp: string\n",
    "        String to parse\n",
    "    search_term : string\n",
    "        Word to search for previous words for\n",
    "\n",
    "    Returns\n",
    "    -------\n",
    "    matches : list\n",
    "        List of RegEx matches corresponding to words that are located\n",
    "        immediately before a search_term.\n",
    "    \"\"\"\n",
    "    pattern = fr'(\\w+?)(?=\\b(?:[^.][\\W]*?)\\b{re.escape(search_term)}\\b)' #.* -> \\.\\*\n",
    "    return re.findall(pattern, inp)"
   ]
  },
  {
   "cell_type": "code",
   "execution_count": null,
   "id": "2ff3975f",
   "metadata": {
    "ExecuteTime": {
     "end_time": "2021-08-02T14:25:34.755818Z",
     "start_time": "2021-08-02T14:25:34.741710Z"
    },
    "id": "2ff3975f"
   },
   "outputs": [],
   "source": [
    "test_inp = ('Data wrangling, sometimes referred to as data munging, is the '\n",
    "            'process of transforming and mapping data from one \"raw\" data '\n",
    "            'form into another format with the intent of making it more '\n",
    "            'appropriate and valuable for a variety of downstream purposes '\n",
    "            'such as analytics. A data wrangler is a person who performs '\n",
    "            'these transformation operations.\\n'\n",
    "            'This may include further munging, data visualization, data '\n",
    "            'aggregation, training a statistical model, as well as many '\n",
    "            'other potential uses. Data munging as a process typically '\n",
    "            'follows a set of general steps which begin with extracting the '\n",
    "            'data in a raw form from the data source, \"munging\" the raw data '\n",
    "            'using algorithms or parsing the data into predefined data '\n",
    "            'structures, and finally depositing the resulting content into a '\n",
    "            'data sink for storage and future use.')\n",
    "\n",
    "assert isinstance(get_prev_word('', ''), list)\n",
    "assert_equal(get_prev_word(test_inp, '.*'), [])\n",
    "assert_equal(get_prev_word(test_inp, 'Data'), [])\n",
    "assert_equal(get_prev_word(test_inp, 'This'), [])\n",
    "assert_equal(get_prev_word(test_inp, 'wrangling'), ['Data'])\n",
    "assert_equal(get_prev_word(test_inp, 'the'),\n",
    "             ['is', 'with', 'extracting', 'from', 'munging', \n",
    "              'parsing', 'depositing'])\n",
    "assert_equal(get_prev_word(test_inp, 'analytics'), ['as'])"
   ]
  },
  {
   "cell_type": "markdown",
   "id": "23cc6708",
   "metadata": {
    "id": "23cc6708"
   },
   "source": [
    "### Get Next Word"
   ]
  },
  {
   "cell_type": "markdown",
   "id": "12bb4871",
   "metadata": {
    "id": "12bb4871"
   },
   "source": [
    "**SUMMARY**\n",
    "\n",
    "* Make use of `re.escape` for literal search terms.\n",
    "\n",
    "* Note that this is a similar implementation with 3.2.1 and is only different in order. Check explanation of this RegEx from 3.2.1\n"
   ]
  },
  {
   "cell_type": "code",
   "execution_count": null,
   "id": "da6f8b3c",
   "metadata": {
    "ExecuteTime": {
     "end_time": "2021-08-02T14:27:25.461446Z",
     "start_time": "2021-08-02T14:27:25.456122Z"
    },
    "id": "da6f8b3c"
   },
   "outputs": [],
   "source": [
    "def get_next_word(inp, search_term):\n",
    "    \"\"\"Return the next word of a given `search_term` with respect to\n",
    "    the input string, `inp`.\n",
    "    \n",
    "    Words located at the start of a sentence have no previous words.\n",
    "\n",
    "    Parameters\n",
    "    ----------\n",
    "    inp: string\n",
    "        String to parse\n",
    "    search_term : string\n",
    "        Word to check for next words for\n",
    "\n",
    "    Returns\n",
    "    -------\n",
    "    matches : list\n",
    "        List of RegEx matches corresponding to words that are located\n",
    "        immediately after a search_term.\n",
    "    \"\"\"\n",
    "    pattern = fr'(?<=\\b{re.escape(search_term)}\\b)(?:[^.][\\W]*?)(\\b\\w+\\b)'\n",
    "    return re.findall(pattern, inp)"
   ]
  },
  {
   "cell_type": "code",
   "execution_count": null,
   "id": "28ce383e",
   "metadata": {
    "ExecuteTime": {
     "end_time": "2021-08-02T14:28:02.034014Z",
     "start_time": "2021-08-02T14:28:02.020487Z"
    },
    "id": "28ce383e"
   },
   "outputs": [],
   "source": [
    "assert isinstance(get_prev_word('', ''), list)\n",
    "assert_equal(get_next_word(test_inp, '.*'), [])\n",
    "assert_equal(get_next_word(test_inp, 'Data'), ['wrangling', 'munging'])\n",
    "assert_equal(get_next_word(test_inp, 'data'), \n",
    "             ['munging', 'from', 'form', 'wrangler', 'visualization',\n",
    "              'aggregation', 'in', 'source', 'using', 'into', 'structures',\n",
    "              'sink'])\n",
    "assert_equal(get_next_word(test_inp, 'analytics'), [])\n",
    "assert_equal(get_next_word(test_inp, 'operations'), [])\n",
    "assert_equal(get_next_word(test_inp, 'visualization'), ['data'])\n",
    "assert_equal(get_next_word(test_inp, 'aggregation'), ['training'])\n",
    "assert_equal(get_next_word(test_inp, 'source'), ['munging'])"
   ]
  },
  {
   "cell_type": "markdown",
   "id": "e2cf9d46",
   "metadata": {
    "id": "e2cf9d46"
   },
   "source": [
    "### Parse Access Logs"
   ]
  },
  {
   "cell_type": "markdown",
   "id": "f7c30f26",
   "metadata": {
    "id": "f7c30f26"
   },
   "source": [
    "**SUMMARY**\n",
    "\n",
    "* **RegEx Skeleton**\n",
    "\n",
    "    * `fr'(.*?) - \\((.*?)\\)\\[(.*?)\\](?:{info_pattern}|{error_pattern})'`\n",
    "\n",
    "        * `(.*?) - \\((.*?)\\)\\[(.*?)\\]`\n",
    "            * Three capturing groups that captures `date`, `logger`, and `severity`.\n",
    "\n",
    "        * `(?:{info_pattern}|{error_pattern})`\n",
    "            * A non-capturing group that checks for two different patterns.\n",
    "            * Info-Pattern\n",
    "                * `(?:(?<!\\[ERROR\\])\\[(.*?)\\]: (.*?) (.*?)  (.*?) (\\d+))`\n",
    "                    * `(?<!\\[ERROR\\])`\n",
    "                        * Look behind pattern to check that `severity` is not equal to `[ERROR]`.\n",
    "                    * `\\[(.*?)\\]: (.*?) (.*?)  (.*?) (\\d+))`\n",
    "                        * Five capturing groups that captures `ip`, `method`, `url`, `response_code`, `bytes`\n",
    "            * Error-Pattern\n",
    "                * `(?:(?<=\\[ERROR\\]): ((?:.+\\n?){4}))`\n",
    "                    * `(?<!\\[ERROR\\])`\n",
    "                        * Look behind pattern to check that `severity` is equal to `[ERROR]`.\n",
    "                    * `((?:.+\\n?){4}))`\n",
    "                        * Capture the next four lines of text which should be equal to `error`."
   ]
  },
  {
   "cell_type": "code",
   "execution_count": null,
   "id": "bee4ca94",
   "metadata": {
    "ExecuteTime": {
     "end_time": "2021-08-02T14:34:52.323586Z",
     "start_time": "2021-08-02T14:34:52.315687Z"
    },
    "id": "bee4ca94"
   },
   "outputs": [],
   "source": [
    "def parse_access_log(log):\n",
    "    \"\"\"Return a list of dictionaries based on the logs of a webserver.\n",
    "    Dictionay keys are as follows : `date`, `logger`, `severity`, `ip`,\n",
    "    `method`, `url`, `response_code`, `bytes`, `error`\n",
    "\n",
    "    Parameters\n",
    "    ----------\n",
    "    log: string\n",
    "        String of webserver logs to parse\n",
    "\n",
    "    Returns\n",
    "    -------\n",
    "    dictionaries : list of dictionaries\n",
    "        List of dictionaires containing labeled information about\n",
    "        web server logs.\n",
    "    \"\"\"\n",
    "    dictionaries = []\n",
    "    dictionary_keys = ['date','logger','severity','ip',\n",
    "                       'method','url','response_code','bytes',\n",
    "                       'error'] #err_msg in example\n",
    "    info_pattern = r'(?:(?<!\\[ERROR\\])\\[(.*?)\\]: (.*?) (.*?)  (.*?) (\\d+))'\n",
    "    error_pattern = r'(?:(?<=\\[ERROR\\]): ((?:.+\\n?){4}))'\n",
    "    pattern = fr'(.*?) - \\((.*?)\\)\\[(.*?)\\](?:{info_pattern}|{error_pattern})'\n",
    "    matches = re.findall(pattern, access_logs, re.M)\n",
    "    for m in matches:\n",
    "        m = [t if t != '' else None for t in m]\n",
    "        d = dict(list(zip(dictionary_keys,m)))\n",
    "        dictionaries.append(d)\n",
    "    return dictionaries"
   ]
  },
  {
   "cell_type": "code",
   "execution_count": null,
   "id": "c2691c38",
   "metadata": {
    "ExecuteTime": {
     "end_time": "2021-08-02T14:25:34.755818Z",
     "start_time": "2021-08-02T14:25:34.741710Z"
    },
    "id": "c2691c38"
   },
   "outputs": [],
   "source": [
    "access_logs = '''2018-07-12 10:53:32 - (network)[INFO][127.0.0.1:57534]: GET http://127.0.0.1:8081/v1/get/landuse?lng=121.02787971496582&lat=14.606591351724205&d=500  200 1883\n",
    "2018-07-12 10:54:14 - (network)[INFO][127.0.0.1:57534]: GET http://127.0.0.1:8081/v1/get/landuse?lng=120.54113388061523&lat=14.67892177840028&d=500  200 1884\n",
    "2018-07-12 10:54:17 - (network)[INFO][127.0.0.1:57534]: GET http://127.0.0.1:8081/v1/get/landuse?lng=120.27711868286133&lat=14.82400863570895&d=500  200 719\n",
    "2018-07-12 10:54:20 - (network)[INFO][127.0.0.1:57534]: GET http://127.0.0.1:8081/v1/get/landuse?lng=120.91775894165039&lat=14.096787557861887&d=500  200 345\n",
    "2018-07-12 11:48:05 - (sanic)[ERROR]: Traceback (most recent call last):\n",
    "  File \"/anaconda3/envs/server/lib/python3.6/site-packages/sanic/router.py\", line 356, in _get\n",
    "    raise NotFound('Requested URL {} not found'.format(url))\n",
    "sanic.exceptions.NotFound: Requested URL /v1/get/not_exist not found'''\n",
    "parsed_log = parse_access_log(access_logs)\n",
    "assert_equal(len(parsed_log), 5)\n",
    "assert_equal(parsed_log[0],\n",
    "             {'date': '2018-07-12 10:53:32',\n",
    "              'logger': 'network',\n",
    "              'severity': 'INFO',\n",
    "              'ip': '127.0.0.1:57534',\n",
    "              'method': 'GET',\n",
    "              'url': 'http://127.0.0.1:8081/v1/get/landuse?lng=121.02787971496582&lat=14.606591351724205&d=500',\n",
    "              'response_code': '200',\n",
    "              'bytes': '1883',\n",
    "              'error': None})\n",
    "assert_equal(parsed_log[-1],\n",
    "             {'date': '2018-07-12 11:48:05',\n",
    "              'logger': 'sanic',\n",
    "              'severity': 'ERROR',\n",
    "              'ip': None,\n",
    "              'method': None,\n",
    "              'url': None,\n",
    "              'response_code': None,\n",
    "              'bytes': None,\n",
    "              'error': '''Traceback (most recent call last):\n",
    "  File \"/anaconda3/envs/server/lib/python3.6/site-packages/sanic/router.py\", line 356, in _get\n",
    "    raise NotFound('Requested URL {} not found'.format(url))\n",
    "sanic.exceptions.NotFound: Requested URL /v1/get/not_exist not found'''})"
   ]
  },
  {
   "cell_type": "markdown",
   "id": "0070fd8c",
   "metadata": {
    "id": "0070fd8c"
   },
   "source": [
    "### Repeating Words"
   ]
  },
  {
   "cell_type": "markdown",
   "id": "911c0305",
   "metadata": {
    "id": "911c0305"
   },
   "source": [
    "**SUMMARY**\n",
    "\n",
    "* Pass the `re.I` flag so that the RegEx is case-insensitive\n",
    "\n",
    "* **RegEx Skeleton**\n",
    "\n",
    "    * `((\\b\\w+\\b)(\\W+?\\2){1,}\\b)`\n",
    "    \n",
    "        * `((...)(...))`\n",
    "            * The outermost paranthesis acts as the First capturing group.\n",
    "\n",
    "            * `(\\b\\w+\\b)`\n",
    "                * Second capturing group.\n",
    "\n",
    "            * `(\\W+?\\2){1,}\\b`\n",
    "                * Checks if the succeding words (`\\2`) are equal to the `second capturing group`.\n",
    "                * `{1,}` is the same as `+`\n",
    "                * The reason that it returns only one of the repeating words and every single instance of the word is because quantifiers only returns the last match of a capturing group.\n",
    "* **QUESTION** : Can it be possible to not use capturing groups?\n",
    "    * Yes! You can use look aheads which are non-capturing groups."
   ]
  },
  {
   "cell_type": "code",
   "execution_count": null,
   "id": "31d3935e",
   "metadata": {
    "ExecuteTime": {
     "end_time": "2021-08-02T14:34:52.323586Z",
     "start_time": "2021-08-02T14:34:52.315687Z"
    },
    "id": "31d3935e"
   },
   "outputs": [],
   "source": [
    "def repeating_words(text):\n",
    "    \"\"\"Return lists of strings that containing phrases that are repeating\n",
    "    words.\n",
    "\n",
    "    Parameters\n",
    "    ----------\n",
    "    text: string\n",
    "        String to check for repeating words for\n",
    "\n",
    "    Returns\n",
    "    -------\n",
    "    matches : list of strings\n",
    "        List of strings that contain case-insensitive phrases of \n",
    "        repeating words \n",
    "    \"\"\"\n",
    "    matches = re.findall(r'((\\b\\w+\\b)(\\W+?\\2){1,}\\b)',text, re.I)\n",
    "    return [m[0] for m in matches]"
   ]
  },
  {
   "cell_type": "code",
   "execution_count": null,
   "id": "cfe01491",
   "metadata": {
    "ExecuteTime": {
     "end_time": "2021-08-02T14:25:34.755818Z",
     "start_time": "2021-08-02T14:25:34.741710Z"
    },
    "id": "cfe01491"
   },
   "outputs": [],
   "source": [
    "text = \"\"\"\n",
    "Row, row, row your boat\n",
    "Gently down the stream\n",
    "Merrily merrily, merrily, merrily\n",
    "Life is but a dream\n",
    "\"\"\"\n",
    "score = 1\n",
    "try:\n",
    "    assert_equal(\n",
    "        repeating_words(text),\n",
    "        ['Row, row, row', 'Merrily merrily, merrily, merrily']\n",
    "    )\n",
    "except:\n",
    "    score = 0.9\n",
    "score"
   ]
  },
  {
   "cell_type": "markdown",
   "id": "16c059b1",
   "metadata": {
    "id": "16c059b1"
   },
   "source": [
    "**NOTE** : I did not include #10 red_stuff since instructions were confusing and no definite rule was given"
   ]
  },
  {
   "cell_type": "markdown",
   "id": "e2830984",
   "metadata": {
    "id": "e2830984"
   },
   "source": [
    "# Common RegEx Applications"
   ]
  },
  {
   "cell_type": "markdown",
   "id": "fccc54dd",
   "metadata": {
    "id": "fccc54dd"
   },
   "source": [
    "## File Extension Manipulation"
   ]
  },
  {
   "cell_type": "code",
   "execution_count": null,
   "id": "5354f040",
   "metadata": {
    "ExecuteTime": {
     "end_time": "2021-08-02T15:23:27.940046Z",
     "start_time": "2021-08-02T15:23:27.935888Z"
    },
    "id": "5354f040"
   },
   "outputs": [],
   "source": [
    "text = 'ASIAN.html.csv'"
   ]
  },
  {
   "cell_type": "code",
   "execution_count": null,
   "id": "02f11b6e",
   "metadata": {
    "ExecuteTime": {
     "end_time": "2021-08-02T15:25:44.751538Z",
     "start_time": "2021-08-02T15:25:44.744772Z"
    },
    "id": "02f11b6e",
    "outputId": "c007de39-efc2-4418-da83-f52e9addeb78"
   },
   "outputs": [
    {
     "data": {
      "text/plain": [
       "'ASIAN.csv'"
      ]
     },
     "execution_count": 76,
     "metadata": {
      "tags": []
     },
     "output_type": "execute_result"
    }
   ],
   "source": [
    "re.sub(r'^([^.]+).([^.]+).([^.]+)$',r'\\1.\\3',text)"
   ]
  },
  {
   "cell_type": "markdown",
   "id": "5efdd40d",
   "metadata": {
    "id": "5efdd40d"
   },
   "source": [
    "## Search for a Text (e.g. 10 character words containing audi)"
   ]
  },
  {
   "cell_type": "code",
   "execution_count": null,
   "id": "204bb911",
   "metadata": {
    "ExecuteTime": {
     "end_time": "2021-08-02T15:30:49.394181Z",
     "start_time": "2021-08-02T15:30:49.386977Z"
    },
    "id": "204bb911",
    "outputId": "90684b33-bb57-46ad-cd30-f27b92325972"
   },
   "outputs": [
    {
     "data": {
      "text/plain": [
       "<re.Match object; span=(0, 10), match='Fraudicius'>"
      ]
     },
     "execution_count": 83,
     "metadata": {
      "tags": []
     },
     "output_type": "execute_result"
    }
   ],
   "source": [
    "text = 'Fraudicius cars are not sellable but are attractive to people'\n",
    "re.search(r'(?=\\b\\w{10}\\b)\\w*?audi\\w*',text)"
   ]
  },
  {
   "cell_type": "markdown",
   "id": "4e70b49e",
   "metadata": {
    "id": "4e70b49e"
   },
   "source": [
    "## Check if two words co-occur in a sentence"
   ]
  },
  {
   "cell_type": "code",
   "execution_count": null,
   "id": "6c8d1a88",
   "metadata": {
    "ExecuteTime": {
     "end_time": "2021-08-02T15:37:44.931691Z",
     "start_time": "2021-08-02T15:37:44.924568Z"
    },
    "id": "6c8d1a88",
    "outputId": "0ab0f377-3b6a-4aff-b4c7-81c2e1a9b616"
   },
   "outputs": [
    {
     "data": {
      "text/plain": [
       "NoneType"
      ]
     },
     "execution_count": 88,
     "metadata": {
      "tags": []
     },
     "output_type": "execute_result"
    }
   ],
   "source": [
    "text = \"The Philippines has a good leader and that is a fact - but this is in Leni\"\n",
    "pattern = r\"^(?=.*\\bgood leader\\b).*\\bDuterte\\b.*$\"\n",
    "re.search(pattern,text)"
   ]
  },
  {
   "cell_type": "code",
   "execution_count": null,
   "id": "3811b18a",
   "metadata": {
    "ExecuteTime": {
     "end_time": "2021-08-02T15:35:13.498888Z",
     "start_time": "2021-08-02T15:35:13.492025Z"
    },
    "id": "3811b18a",
    "outputId": "2a62334f-074a-44be-c4cd-bae5f3c069a2"
   },
   "outputs": [
    {
     "data": {
      "text/plain": [
       "<re.Match object; span=(0, 78), match='The Philippines has a good leader and that is a f>"
      ]
     },
     "execution_count": 86,
     "metadata": {
      "tags": []
     },
     "output_type": "execute_result"
    }
   ],
   "source": [
    "text = \"The Philippines has a good leader and that is a fact - but this not in Duterte\"\n",
    "pattern = r\"^(?=.*\\bgood leader\\b).*\\bDuterte\\b.*$\"\n",
    "re.search(pattern,text)"
   ]
  },
  {
   "cell_type": "code",
   "execution_count": null,
   "id": "51c18679",
   "metadata": {
    "ExecuteTime": {
     "end_time": "2021-08-02T15:35:47.811639Z",
     "start_time": "2021-08-02T15:35:47.804048Z"
    },
    "id": "51c18679",
    "outputId": "43f245f2-110f-4745-d207-b3c49a336593"
   },
   "outputs": [
    {
     "data": {
      "text/plain": [
       "<re.Match object; span=(0, 28), match='Duterte is not a good leader'>"
      ]
     },
     "execution_count": 87,
     "metadata": {
      "tags": []
     },
     "output_type": "execute_result"
    }
   ],
   "source": [
    "text = \"Duterte is not a good leader\"\n",
    "pattern = r\"^(?=.*\\bgood leader\\b).*\\bDuterte\\b.*$\"\n",
    "re.search(pattern,text)"
   ]
  },
  {
   "cell_type": "markdown",
   "id": "64db80ca",
   "metadata": {
    "id": "64db80ca"
   },
   "source": [
    "## Check if valid email address"
   ]
  },
  {
   "cell_type": "code",
   "execution_count": null,
   "id": "499bae7e",
   "metadata": {
    "ExecuteTime": {
     "end_time": "2021-08-02T15:38:43.053628Z",
     "start_time": "2021-08-02T15:38:43.044684Z"
    },
    "id": "499bae7e",
    "outputId": "7787517f-f9a8-4e91-e8f5-ec4083ce2fe2"
   },
   "outputs": [
    {
     "name": "stdout",
     "output_type": "stream",
     "text": [
      "Valid email lt2.edu@aim.ph\n",
      "Valid email aim@aim.aim\n"
     ]
    }
   ],
   "source": [
    "emails = ['lt2.edu@aim.ph',\n",
    "         'food4thought@yahoo,com',\n",
    "         'aim@aim.aim']\n",
    "for email in emails:\n",
    "    match = re.search('^[A-Z0-9._%+-]+@(?:[A-Z0-9-]+\\.)+[A-Z]{2,6}$', email, re.I)\n",
    "    if match is not None:\n",
    "        print('Valid email',email)"
   ]
  },
  {
   "cell_type": "markdown",
   "id": "fe90ab2c",
   "metadata": {
    "id": "fe90ab2c"
   },
   "source": [
    "# Advanced RegEx Techniques"
   ]
  },
  {
   "cell_type": "markdown",
   "id": "_10LqBK1tYwh",
   "metadata": {
    "id": "_10LqBK1tYwh"
   },
   "source": [
    "## Groups\n",
    "Groups and Back-references in our exercises have been barely touched. However, these groups and callbacks are powerful tools that can simplify your RegEx!"
   ]
  },
  {
   "cell_type": "markdown",
   "id": "UpaaXfrKtYuE",
   "metadata": {
    "id": "UpaaXfrKtYuE"
   },
   "source": [
    "### Types\n",
    "* Capturing Group `(...)`.\n",
    "    * Capture characters that matches the pattern inside the capturing group\n",
    "    * Referred by their order of implementation when used for back-referencing and for substitutions\n",
    "        * from `\\1` to `\\9`, any number of groups above 9 would fail. For these cases, I recommend using named groups to keep track\n",
    "* Named Groups  `(?<name>...)`.\n",
    "    * Same as capturing groups but with a given name\n",
    "    * For cases of back-referencing you may call it using the following syntax `(?P=name)`\n",
    "    * For replacement strings, you may call the groups via the following syntax `\\g<name>`"
   ]
  },
  {
   "cell_type": "markdown",
   "id": "65C6aIELtfpU",
   "metadata": {
    "id": "65C6aIELtfpU"
   },
   "source": [
    "#### Capturing Groups"
   ]
  },
  {
   "cell_type": "code",
   "execution_count": null,
   "id": "62db3a49",
   "metadata": {
    "colab": {
     "base_uri": "https://localhost:8080/"
    },
    "id": "62db3a49",
    "outputId": "588462e7-fa87-4f13-82a9-24995489a9ab"
   },
   "outputs": [
    {
     "data": {
      "text/plain": [
       "('John', 'Doe', 'MSDS', '2022', 'aim.edu')"
      ]
     },
     "execution_count": 3,
     "metadata": {
      "tags": []
     },
     "output_type": "execute_result"
    }
   ],
   "source": [
    "text = 'JohnDoe.MSDS2022@aim.edu'\n",
    "pattern = r'^([A-Z][a-z]*)([A-Z][a-z]*)\\.([A-Z]+)(\\d+)@(.*?)$'\n",
    "match = re.match(pattern,text)\n",
    "match.groups()"
   ]
  },
  {
   "cell_type": "code",
   "execution_count": null,
   "id": "tVdFdHiDtjxf",
   "metadata": {
    "colab": {
     "base_uri": "https://localhost:8080/",
     "height": 36
    },
    "id": "tVdFdHiDtjxf",
    "outputId": "b2bbacf0-4570-456a-db0f-a17086936629"
   },
   "outputs": [
    {
     "data": {
      "application/vnd.google.colaboratory.intrinsic+json": {
       "type": "string"
      },
      "text/plain": [
       "'JohnDoe@aim.edu'"
      ]
     },
     "execution_count": 4,
     "metadata": {
      "tags": []
     },
     "output_type": "execute_result"
    }
   ],
   "source": [
    "re.sub(pattern, r'\\1\\2@\\5', text)"
   ]
  },
  {
   "cell_type": "markdown",
   "id": "DEWmnLh5tlyI",
   "metadata": {
    "id": "DEWmnLh5tlyI"
   },
   "source": [
    "#### Named-Capturing Groups"
   ]
  },
  {
   "cell_type": "code",
   "execution_count": null,
   "id": "ED8VAxK_tnu1",
   "metadata": {
    "colab": {
     "base_uri": "https://localhost:8080/"
    },
    "id": "ED8VAxK_tnu1",
    "outputId": "f445d70d-562d-485b-d20e-5a624053b34a"
   },
   "outputs": [
    {
     "data": {
      "text/plain": [
       "('John', 'Doe', 'MSDS', '2022', 'aim.edu')"
      ]
     },
     "execution_count": 5,
     "metadata": {
      "tags": []
     },
     "output_type": "execute_result"
    }
   ],
   "source": [
    "text = 'JohnDoe.MSDS2022@aim.edu'\n",
    "named_pattern = r'(?P<firstname>[A-Z][a-z]*)(?P<lastname>[A-Z][a-z]*)\\.(?P<program>[A-Z]+)(?P<batch>\\d+)@(?P<domain>.*)'\n",
    "match = re.match(named_pattern,text)\n",
    "match.groups()"
   ]
  },
  {
   "cell_type": "code",
   "execution_count": null,
   "id": "FcttYhAZtp7U",
   "metadata": {
    "colab": {
     "base_uri": "https://localhost:8080/",
     "height": 36
    },
    "id": "FcttYhAZtp7U",
    "outputId": "6cf29792-f449-4bad-8ff5-dcaaeeb0449b"
   },
   "outputs": [
    {
     "data": {
      "application/vnd.google.colaboratory.intrinsic+json": {
       "type": "string"
      },
      "text/plain": [
       "'JohnDoe@aim.edu'"
      ]
     },
     "execution_count": 6,
     "metadata": {
      "tags": []
     },
     "output_type": "execute_result"
    }
   ],
   "source": [
    "re.sub(named_pattern, r'\\g<firstname>\\g<lastname>@\\g<domain>', text)"
   ]
  },
  {
   "cell_type": "markdown",
   "id": "Or4G3-UxuK6r",
   "metadata": {
    "id": "Or4G3-UxuK6r"
   },
   "source": [
    "## Lookarounds"
   ]
  },
  {
   "cell_type": "markdown",
   "id": "OzFzBGBLuOcy",
   "metadata": {
    "id": "OzFzBGBLuOcy"
   },
   "source": [
    "Lookarounds are non-capturing groups which aims to look at either the prior or succeeding characters in our text.\n",
    "### Types\n",
    "* Lookahead `(?=...)`.\n",
    "    * Asserts that what immediately follows the current position in the string matches our pattern\n",
    "\n",
    "* Lookbehind  `(?<name>...)`.\n",
    "    * \tAsserts that what immediately precedes the current position in the string matches our pattern\n",
    "    \n",
    "* Negated Lookarounds\n",
    "    * Just replace the `=` sign in the lookahead and lookbehind with a `!`"
   ]
  },
  {
   "cell_type": "markdown",
   "id": "1M0PBNztuK4W",
   "metadata": {
    "id": "1M0PBNztuK4W"
   },
   "source": [
    "### Examples"
   ]
  },
  {
   "cell_type": "markdown",
   "id": "HKPSZ51VuK1i",
   "metadata": {
    "id": "HKPSZ51VuK1i"
   },
   "source": [
    "Password Validation where we have the following requirements:\n",
    "\n",
    "* The password must have between six and ten word characters\n",
    "* It must include at least one lowercase character \n",
    "* It must inclusde at least three uppercase characters \n",
    "* It must include at least one digit"
   ]
  },
  {
   "cell_type": "code",
   "execution_count": null,
   "id": "bWgJjFxduKyq",
   "metadata": {
    "id": "bWgJjFxduKyq"
   },
   "outputs": [],
   "source": [
    "#The password must have between six and ten word characters\n",
    "rule1 = r'^(?=\\w{6,10}).*$'\n",
    "\n",
    "#It must include at least one lowercase character \n",
    "rule2 = r'^(?=[^a-z]*[a-z]).*'\n",
    "\n",
    "#It must include at least three uppercase characters \n",
    "#Note that I used a trick here where I inserted a non-capturing group\n",
    "#(?:...) to get 3 different matches of unique uppercase characters\n",
    "rule3 = r'^(?=(?:[^A-Z]*[A-Z]){3}).*$'\n",
    "\n",
    "#It must include at least one digit\n",
    "rule4 = r'^(?=\\D*\\d).*$'\n",
    "\n",
    "#Since we wish to capture all these rules simultaneously, we simply combine them into a single RegEx and removing redundancies (^, .*, $).\n",
    "password_regex = r'^(?=\\w{6,10})(?=[^a-z]*[a-z])(?=(?:[^A-Z]*[A-Z]){3})(?=\\D*\\d).*$' "
   ]
  },
  {
   "cell_type": "code",
   "execution_count": null,
   "id": "N7jXxtAHyjAT",
   "metadata": {
    "id": "N7jXxtAHyjAT"
   },
   "outputs": [],
   "source": [
    "password_trials = ['AAAa0abc','AaAa0abc','Lor3MIpsuM']"
   ]
  },
  {
   "cell_type": "code",
   "execution_count": null,
   "id": "T_cY40KeuKo8",
   "metadata": {
    "colab": {
     "base_uri": "https://localhost:8080/"
    },
    "id": "T_cY40KeuKo8",
    "outputId": "bb93af99-0bef-4741-92eb-04cf60df3834"
   },
   "outputs": [
    {
     "name": "stdout",
     "output_type": "stream",
     "text": [
      "VALID! AAAa0abc\n",
      "INVALID! AaAa0abc\n",
      "VALID! Lor3MIpsuM\n"
     ]
    }
   ],
   "source": [
    "for p in password_trials:\n",
    "  if re.match(password_regex,p) is not None:\n",
    "    print('VALID!',p)\n",
    "  else:\n",
    "    print('INVALID!',p)"
   ]
  },
  {
   "cell_type": "markdown",
   "id": "IeFB0PT_zQqp",
   "metadata": {
    "id": "IeFB0PT_zQqp"
   },
   "source": [
    "# I'll add more tomorrow. Im sleepy :)"
   ]
  },
  {
   "cell_type": "markdown",
   "id": "e08e9682",
   "metadata": {
    "id": "e08e9682"
   },
   "source": [
    "# BONUS : Styling your RegEx\n",
    "This is a simple summary of how I approach regex problems."
   ]
  },
  {
   "cell_type": "code",
   "execution_count": null,
   "id": "9d3e06b6",
   "metadata": {
    "id": "9d3e06b6"
   },
   "outputs": [],
   "source": []
  }
 ],
 "metadata": {
  "colab": {
   "collapsed_sections": [
    "718a7223",
    "9b629fc2",
    "73b3280a",
    "a3374f3b",
    "c9916938",
    "61601e25",
    "81f12b37",
    "ef5450b6",
    "1ad4d4ba",
    "92edd1c1",
    "fbcfff35",
    "cebf09b7"
   ],
   "name": "DMW Midterms RegEx Reviewer.ipynb",
   "provenance": [],
   "toc_visible": true
  },
  "kernelspec": {
   "display_name": "Python 3",
   "language": "python",
   "name": "python3"
  },
  "language_info": {
   "codemirror_mode": {
    "name": "ipython",
    "version": 3
   },
   "file_extension": ".py",
   "mimetype": "text/x-python",
   "name": "python",
   "nbconvert_exporter": "python",
   "pygments_lexer": "ipython3",
   "version": "3.8.10"
  },
  "toc": {
   "base_numbering": 1,
   "nav_menu": {},
   "number_sections": true,
   "sideBar": true,
   "skip_h1_title": false,
   "title_cell": "Table of Contents",
   "title_sidebar": "Contents",
   "toc_cell": false,
   "toc_position": {
    "height": "calc(100% - 180px)",
    "left": "10px",
    "top": "150px",
    "width": "417.552px"
   },
   "toc_section_display": true,
   "toc_window_display": true
  }
 },
 "nbformat": 4,
 "nbformat_minor": 5
}
