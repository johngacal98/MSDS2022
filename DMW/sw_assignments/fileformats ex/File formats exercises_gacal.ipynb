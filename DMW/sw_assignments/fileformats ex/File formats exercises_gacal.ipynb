{
 "cells": [
  {
   "cell_type": "code",
   "execution_count": 1,
   "metadata": {
    "ExecuteTime": {
     "end_time": "2021-07-05T01:27:22.658840Z",
     "start_time": "2021-07-05T01:27:22.424786Z"
    },
    "deletable": false,
    "editable": false,
    "nbgrader": {
     "cell_type": "code",
     "checksum": "38812ebc8fdd09eb269290f15412fb2d",
     "grade": false,
     "grade_id": "cell-1e15ead888a3de39",
     "locked": true,
     "schema_version": 3,
     "solution": false
    }
   },
   "outputs": [],
   "source": [
    "import pandas as pd\n",
    "import numpy as np\n",
    "import csv\n",
    "import json\n",
    "\n",
    "from numpy.testing import assert_equal, assert_array_equal\n",
    "from xml.etree import ElementTree as ET"
   ]
  },
  {
   "cell_type": "code",
   "execution_count": null,
   "metadata": {},
   "outputs": [],
   "source": []
  },
  {
   "cell_type": "code",
   "execution_count": 2,
   "metadata": {},
   "outputs": [],
   "source": [
    "%load_ext pycodestyle_magic\n",
    "%pycodestyle_on"
   ]
  },
  {
   "cell_type": "markdown",
   "metadata": {
    "deletable": false,
    "editable": false,
    "nbgrader": {
     "cell_type": "markdown",
     "checksum": "707ba521f06529173dfb5261df24c105",
     "grade": false,
     "grade_id": "cell-4417d6dfffa19988",
     "locked": true,
     "schema_version": 3,
     "solution": false,
     "task": false
    }
   },
   "source": [
    "## Problem 1\n",
    "Create a function `list_recipes` that returns the list of ingredients in `recipe_xml` in order of appearance."
   ]
  },
  {
   "cell_type": "code",
   "execution_count": 66,
   "metadata": {
    "ExecuteTime": {
     "end_time": "2020-05-20T18:54:27.002809Z",
     "start_time": "2020-05-20T18:54:26.999741Z"
    },
    "deletable": false,
    "nbgrader": {
     "cell_type": "code",
     "checksum": "2b9485bdfda9ba48c6222982b85e0e93",
     "grade": false,
     "grade_id": "cell-33864b6e0edcf546",
     "locked": false,
     "schema_version": 3,
     "solution": true,
     "task": false
    }
   },
   "outputs": [],
   "source": [
    "def list_recipes(recipe_xml):\n",
    "    \"\"\"Return list of ingredients in order of appearance\n",
    "\n",
    "    Parameters\n",
    "    ----------\n",
    "    recipe_xml : xml\n",
    "        Input file\n",
    "\n",
    "    Returns\n",
    "    -------\n",
    "    list\n",
    "        List of ingredients in the input file\n",
    "    \"\"\"\n",
    "    p_1 = ET.fromstring(recipe_xml)\n",
    "    return [ing.text for ing in p_1.findall('ingredient')]"
   ]
  },
  {
   "cell_type": "code",
   "execution_count": 4,
   "metadata": {
    "ExecuteTime": {
     "end_time": "2020-05-20T18:55:02.402586Z",
     "start_time": "2020-05-20T18:55:02.394738Z"
    },
    "deletable": false,
    "editable": false,
    "nbgrader": {
     "cell_type": "code",
     "checksum": "8aebcf0981faae55bd4861cfaab32f4f",
     "grade": true,
     "grade_id": "cell-4337573f6dd4a79b",
     "locked": true,
     "points": 1,
     "schema_version": 3,
     "solution": false,
     "task": false
    }
   },
   "outputs": [
    {
     "name": "stderr",
     "output_type": "stream",
     "text": [
      "1:18: W291 trailing whitespace\n"
     ]
    }
   ],
   "source": [
    "# sample xml from \n",
    "# https://www.arangodb.com/docs/stable/drivers/java-examples-xml-data.html\n",
    "recipe_xml = \"\"\"\n",
    "<recipe _id=\"RawDocument/6834407522\" _key=\"6834407522\" _rev=\"6834407522\"\n",
    "         cook_time=\"3 hours\" name=\"bread\" prep_time=\"5 mins\">\n",
    "  <title>Basic bread</title>\n",
    "  <ingredient amount=\"8\" unit=\"dL\">Flour</ingredient>\n",
    "  <ingredient amount=\"10\" unit=\"grams\">Yeast</ingredient>\n",
    "  <ingredient amount=\"4\" state=\"warm\" unit=\"dL\">Water</ingredient>\n",
    "  <ingredient amount=\"1\" unit=\"teaspoon\">Salt</ingredient>\n",
    "  <instructions>\n",
    "    <step>Mix all ingredients together.</step>\n",
    "    <step>Knead thoroughly.</step>\n",
    "    <step>Cover with a cloth, and leave for one hour in warm room.</step>\n",
    "    <step>Knead again.</step>\n",
    "    <step>Place in a bread baking tin.</step>\n",
    "    <step>Cover with a cloth, and leave for one hour in warm room.</step>\n",
    "    <step>Bake in the oven at 180(degrees)C for 30 minutes.</step>\n",
    "  </instructions>\n",
    "</recipe>\n",
    "\"\"\"\n",
    "assert_equal(list_recipes(recipe_xml), ['Flour', 'Yeast', 'Water', 'Salt'])"
   ]
  },
  {
   "cell_type": "markdown",
   "metadata": {
    "deletable": false,
    "editable": false,
    "nbgrader": {
     "cell_type": "markdown",
     "checksum": "0af27e37c93ce147ea60cf7d34da2470",
     "grade": false,
     "grade_id": "cell-1619e3aadbf4f70c",
     "locked": true,
     "schema_version": 3,
     "solution": false,
     "task": false
    }
   },
   "source": [
    "## Problem 2\n",
    "Create a function `catalog_sizes` that returns the unique catalog sizes in `catalog_xml`."
   ]
  },
  {
   "cell_type": "code",
   "execution_count": 64,
   "metadata": {
    "ExecuteTime": {
     "end_time": "2020-05-20T19:03:52.275027Z",
     "start_time": "2020-05-20T19:03:52.271256Z"
    },
    "deletable": false,
    "nbgrader": {
     "cell_type": "code",
     "checksum": "8de2f14197c56b0adbb66067e20d0508",
     "grade": false,
     "grade_id": "cell-a21d4ac6a412d849",
     "locked": false,
     "schema_version": 3,
     "solution": true,
     "task": false
    }
   },
   "outputs": [],
   "source": [
    "def catalog_sizes(catalog_xml):\n",
    "    \"\"\"Return the unique catalog sizes in catalog_xml\n",
    "\n",
    "    Parameters\n",
    "    ----------\n",
    "    catalog_xml : xml\n",
    "        Input file\n",
    "\n",
    "    Returns\n",
    "    -------\n",
    "    list\n",
    "        List of catalog sizes from input file\n",
    "    \"\"\"\n",
    "    p_2 = ET.fromstring(catalog_xml)\n",
    "    return list(set([sz.get('description') for sz in p_2.findall('.//size')]))"
   ]
  },
  {
   "cell_type": "code",
   "execution_count": 65,
   "metadata": {
    "ExecuteTime": {
     "end_time": "2020-05-21T00:56:25.711775Z",
     "start_time": "2020-05-21T00:56:25.707729Z"
    },
    "deletable": false,
    "editable": false,
    "nbgrader": {
     "cell_type": "code",
     "checksum": "a79e2181d9a97fe4a6a27801b5f6c6d5",
     "grade": true,
     "grade_id": "cell-07980462b8053784",
     "locked": true,
     "points": 1,
     "schema_version": 3,
     "solution": false,
     "task": false
    }
   },
   "outputs": [
    {
     "name": "stderr",
     "output_type": "stream",
     "text": [
      "1:18: W291 trailing whitespace\n",
      "46:49: W291 trailing whitespace\n"
     ]
    }
   ],
   "source": [
    "# sample xml from \n",
    "# https://www.service-architecture.com/articles/object-oriented-databases/xml_file_for_complex_data.html\n",
    "catalog_xml = \"\"\"<?xml version=\"1.0\"?>\n",
    "<?xml-stylesheet href=\"catalog.xsl\" type=\"text/xsl\"?>\n",
    "<!DOCTYPE catalog SYSTEM \"catalog.dtd\">\n",
    "<catalog>\n",
    "   <product description=\"Cardigan Sweater\" product_image=\"cardigan.jpg\">\n",
    "      <catalog_item gender=\"Men's\">\n",
    "         <item_number>QWZ5671</item_number>\n",
    "         <price>39.95</price>\n",
    "         <size description=\"Medium\">\n",
    "            <color_swatch image=\"red_cardigan.jpg\">Red</color_swatch>\n",
    "            <color_swatch image=\"burgundy_cardigan.jpg\">Burgundy</color_swatch>\n",
    "         </size>\n",
    "         <size description=\"Large\">\n",
    "            <color_swatch image=\"red_cardigan.jpg\">Red</color_swatch>\n",
    "            <color_swatch image=\"burgundy_cardigan.jpg\">Burgundy</color_swatch>\n",
    "         </size>\n",
    "      </catalog_item>\n",
    "      <catalog_item gender=\"Women's\">\n",
    "         <item_number>RRX9856</item_number>\n",
    "         <price>42.50</price>\n",
    "         <size description=\"Small\">\n",
    "            <color_swatch image=\"red_cardigan.jpg\">Red</color_swatch>\n",
    "            <color_swatch image=\"navy_cardigan.jpg\">Navy</color_swatch>\n",
    "            <color_swatch image=\"burgundy_cardigan.jpg\">Burgundy</color_swatch>\n",
    "         </size>\n",
    "         <size description=\"Medium\">\n",
    "            <color_swatch image=\"red_cardigan.jpg\">Red</color_swatch>\n",
    "            <color_swatch image=\"navy_cardigan.jpg\">Navy</color_swatch>\n",
    "            <color_swatch image=\"burgundy_cardigan.jpg\">Burgundy</color_swatch>\n",
    "            <color_swatch image=\"black_cardigan.jpg\">Black</color_swatch>\n",
    "         </size>\n",
    "         <size description=\"Large\">\n",
    "            <color_swatch image=\"navy_cardigan.jpg\">Navy</color_swatch>\n",
    "            <color_swatch image=\"black_cardigan.jpg\">Black</color_swatch>\n",
    "         </size>\n",
    "         <size description=\"Extra Large\">\n",
    "            <color_swatch image=\"burgundy_cardigan.jpg\">Burgundy</color_swatch>\n",
    "            <color_swatch image=\"black_cardigan.jpg\">Black</color_swatch>\n",
    "         </size>\n",
    "      </catalog_item>\n",
    "   </product>\n",
    "</catalog>\n",
    "\"\"\"\n",
    "assert_equal(sorted(catalog_sizes(catalog_xml)), \n",
    "             ['Extra Large', 'Large', 'Medium', 'Small'])"
   ]
  },
  {
   "cell_type": "markdown",
   "metadata": {
    "deletable": false,
    "editable": false,
    "nbgrader": {
     "cell_type": "markdown",
     "checksum": "5239fc3f5e736399cdb6cef0fbdaeb29",
     "grade": false,
     "grade_id": "cell-4499df636e5859a0",
     "locked": true,
     "schema_version": 3,
     "solution": false
    }
   },
   "source": [
    "## Problem 3\n",
    "Create a function `find_fantasy` that returns the list of book titles having `Fantasy` as `genre` in `books_xml`, in order of appearance."
   ]
  },
  {
   "cell_type": "code",
   "execution_count": 35,
   "metadata": {
    "ExecuteTime": {
     "end_time": "2020-05-20T19:10:08.421979Z",
     "start_time": "2020-05-20T19:10:08.415232Z"
    },
    "deletable": false,
    "nbgrader": {
     "cell_type": "code",
     "checksum": "daf81769134cf2a65229ae35485fec58",
     "grade": false,
     "grade_id": "cell-81a1f94ed04e9109",
     "locked": false,
     "schema_version": 3,
     "solution": true
    }
   },
   "outputs": [],
   "source": [
    "def find_fantasy(books_xml):\n",
    "    \"\"\"Return the list of book titles from books_xml\n",
    "\n",
    "    Parameters\n",
    "    ----------\n",
    "    books_xml : xml\n",
    "        Input file\n",
    "\n",
    "    Returns\n",
    "    -------\n",
    "    list\n",
    "        List of book titles having Fantasy as genre in books_xml\n",
    "    \"\"\"\n",
    "    p_3 = ET.fromstring(books_xml)\n",
    "    return ([t.find('title').text for t in p_3.findall('./book')\n",
    "             if t.find('genre').text == 'Fantasy'])"
   ]
  },
  {
   "cell_type": "code",
   "execution_count": null,
   "metadata": {},
   "outputs": [],
   "source": []
  },
  {
   "cell_type": "code",
   "execution_count": 36,
   "metadata": {
    "ExecuteTime": {
     "end_time": "2020-05-20T19:14:06.030952Z",
     "start_time": "2020-05-20T19:14:06.025074Z"
    },
    "deletable": false,
    "editable": false,
    "nbgrader": {
     "cell_type": "code",
     "checksum": "1d1dc9fcca1b0ca153349966b200eeb8",
     "grade": true,
     "grade_id": "cell-57a919fb32df4338",
     "locked": true,
     "points": 1,
     "schema_version": 3,
     "solution": false,
     "task": false
    }
   },
   "outputs": [
    {
     "name": "stderr",
     "output_type": "stream",
     "text": [
      "11:61: W291 trailing whitespace\n",
      "20:65: W291 trailing whitespace\n",
      "21:63: W291 trailing whitespace\n",
      "30:58: W291 trailing whitespace\n",
      "31:54: W291 trailing whitespace\n",
      "40:62: W291 trailing whitespace\n",
      "41:60: W291 trailing whitespace\n",
      "42:53: W291 trailing whitespace\n",
      "51:61: W291 trailing whitespace\n",
      "52:59: W291 trailing whitespace\n",
      "61:59: W291 trailing whitespace\n",
      "70:59: W291 trailing whitespace\n",
      "89:62: W291 trailing whitespace\n",
      "98:62: W291 trailing whitespace\n",
      "107:61: W291 trailing whitespace\n",
      "108:69: W291 trailing whitespace\n",
      "118:64: W291 trailing whitespace\n",
      "119:50: W291 trailing whitespace\n",
      "124:29: W291 trailing whitespace\n",
      "125:41: W291 trailing whitespace\n"
     ]
    }
   ],
   "source": [
    "# sample xml from\n",
    "# https://docs.microsoft.com/en-us/previous-versions/windows/desktop/ms762271(v=vs.85)\n",
    "books_xml = '''<?xml version=\"1.0\"?>\n",
    "<catalog>\n",
    "   <book id=\"bk101\">\n",
    "      <author>Gambardella, Matthew</author>\n",
    "      <title>XML Developer's Guide</title>\n",
    "      <genre>Computer</genre>\n",
    "      <price>44.95</price>\n",
    "      <publish_date>2000-10-01</publish_date>\n",
    "      <description>An in-depth look at creating applications \n",
    "      with XML.</description>\n",
    "   </book>\n",
    "   <book id=\"bk102\">\n",
    "      <author>Ralls, Kim</author>\n",
    "      <title>Midnight Rain</title>\n",
    "      <genre>Fantasy</genre>\n",
    "      <price>5.95</price>\n",
    "      <publish_date>2000-12-16</publish_date>\n",
    "      <description>A former architect battles corporate zombies, \n",
    "      an evil sorceress, and her own childhood to become queen \n",
    "      of the world.</description>\n",
    "   </book>\n",
    "   <book id=\"bk103\">\n",
    "      <author>Corets, Eva</author>\n",
    "      <title>Maeve Ascendant</title>\n",
    "      <genre>Fantasy</genre>\n",
    "      <price>5.95</price>\n",
    "      <publish_date>2000-11-17</publish_date>\n",
    "      <description>After the collapse of a nanotechnology \n",
    "      society in England, the young survivors lay the \n",
    "      foundation for a new society.</description>\n",
    "   </book>\n",
    "   <book id=\"bk104\">\n",
    "      <author>Corets, Eva</author>\n",
    "      <title>Oberon's Legacy</title>\n",
    "      <genre>Fantasy</genre>\n",
    "      <price>5.95</price>\n",
    "      <publish_date>2001-03-10</publish_date>\n",
    "      <description>In post-apocalypse England, the mysterious \n",
    "      agent known only as Oberon helps to create a new life \n",
    "      for the inhabitants of London. Sequel to Maeve \n",
    "      Ascendant.</description>\n",
    "   </book>\n",
    "   <book id=\"bk105\">\n",
    "      <author>Corets, Eva</author>\n",
    "      <title>The Sundered Grail</title>\n",
    "      <genre>Fantasy</genre>\n",
    "      <price>5.95</price>\n",
    "      <publish_date>2001-09-10</publish_date>\n",
    "      <description>The two daughters of Maeve, half-sisters, \n",
    "      battle one another for control of England. Sequel to \n",
    "      Oberon's Legacy.</description>\n",
    "   </book>\n",
    "   <book id=\"bk106\">\n",
    "      <author>Randall, Cynthia</author>\n",
    "      <title>Lover Birds</title>\n",
    "      <genre>Romance</genre>\n",
    "      <price>4.95</price>\n",
    "      <publish_date>2000-09-02</publish_date>\n",
    "      <description>When Carla meets Paul at an ornithology \n",
    "      conference, tempers fly as feathers get ruffled.</description>\n",
    "   </book>\n",
    "   <book id=\"bk107\">\n",
    "      <author>Thurman, Paula</author>\n",
    "      <title>Splish Splash</title>\n",
    "      <genre>Romance</genre>\n",
    "      <price>4.95</price>\n",
    "      <publish_date>2000-11-02</publish_date>\n",
    "      <description>A deep sea diver finds true love twenty \n",
    "      thousand leagues beneath the sea.</description>\n",
    "   </book>\n",
    "   <book id=\"bk108\">\n",
    "      <author>Knorr, Stefan</author>\n",
    "      <title>Creepy Crawlies</title>\n",
    "      <genre>Horror</genre>\n",
    "      <price>4.95</price>\n",
    "      <publish_date>2000-12-06</publish_date>\n",
    "      <description>An anthology of horror stories about roaches,\n",
    "      centipedes, scorpions  and other insects.</description>\n",
    "   </book>\n",
    "   <book id=\"bk109\">\n",
    "      <author>Kress, Peter</author>\n",
    "      <title>Paradox Lost</title>\n",
    "      <genre>Science Fiction</genre>\n",
    "      <price>6.95</price>\n",
    "      <publish_date>2000-11-02</publish_date>\n",
    "      <description>After an inadvertant trip through a Heisenberg\n",
    "      Uncertainty Device, James Salway discovers the problems \n",
    "      of being quantum.</description>\n",
    "   </book>\n",
    "   <book id=\"bk110\">\n",
    "      <author>O'Brien, Tim</author>\n",
    "      <title>Microsoft .NET: The Programming Bible</title>\n",
    "      <genre>Computer</genre>\n",
    "      <price>36.95</price>\n",
    "      <publish_date>2000-12-09</publish_date>\n",
    "      <description>Microsoft's .NET initiative is explored in \n",
    "      detail in this deep programmer's reference.</description>\n",
    "   </book>\n",
    "   <book id=\"bk111\">\n",
    "      <author>O'Brien, Tim</author>\n",
    "      <title>MSXML3: A Comprehensive Guide</title>\n",
    "      <genre>Computer</genre>\n",
    "      <price>36.95</price>\n",
    "      <publish_date>2000-12-01</publish_date>\n",
    "      <description>The Microsoft MSXML3 parser is covered in \n",
    "      detail, with attention to XML DOM interfaces, XSLT processing, \n",
    "      SAX and more.</description>\n",
    "   </book>\n",
    "   <book id=\"bk112\">\n",
    "      <author>Galos, Mike</author>\n",
    "      <title>Visual Studio 7: A Comprehensive Guide</title>\n",
    "      <genre>Computer</genre>\n",
    "      <price>49.95</price>\n",
    "      <publish_date>2001-04-16</publish_date>\n",
    "      <description>Microsoft Visual Studio 7 is explored in depth,\n",
    "      looking at how Visual Basic, Visual C++, C#, and ASP+ are \n",
    "      integrated into a comprehensive development \n",
    "      environment.</description>\n",
    "   </book>\n",
    "</catalog>'''\n",
    "assert_equal(\n",
    "    find_fantasy(books_xml), \n",
    "    ['Midnight Rain', 'Maeve Ascendant', \n",
    "     \"Oberon's Legacy\", 'The Sundered Grail'])"
   ]
  },
  {
   "cell_type": "markdown",
   "metadata": {
    "deletable": false,
    "editable": false,
    "nbgrader": {
     "cell_type": "markdown",
     "checksum": "83d0d1801d0014c19076185fde0c385c",
     "grade": false,
     "grade_id": "cell-588312ea35ff73e5",
     "locked": true,
     "schema_version": 3,
     "solution": false
    }
   },
   "source": [
    "## Problem 4\n",
    "Create a function `dct2str` that accepts `dct` and returns it as a JSON string. Create a function `dct2file` that accepts `dct` and saves it into a JSON file `dct.json`."
   ]
  },
  {
   "cell_type": "code",
   "execution_count": 48,
   "metadata": {
    "ExecuteTime": {
     "end_time": "2020-05-21T01:29:42.001091Z",
     "start_time": "2020-05-21T01:29:41.995339Z"
    },
    "deletable": false,
    "nbgrader": {
     "cell_type": "code",
     "checksum": "578101f3c928ea303f99767b34695153",
     "grade": false,
     "grade_id": "cell-431b8fe2f9281337",
     "locked": false,
     "schema_version": 3,
     "solution": true
    }
   },
   "outputs": [],
   "source": [
    "def dct2str(dct):\n",
    "    \"\"\"Accept dct and return a JSON string.\n",
    "\n",
    "    Parameters\n",
    "    ----------\n",
    "    dct : dict\n",
    "        Input dictionary\n",
    "    \"\"\"\n",
    "    return json.dumps(dct)\n",
    "\n",
    "\n",
    "def dct2file(dct):\n",
    "    \"\"\"Accepts dct and save into a JSON file.\n",
    "\n",
    "    Parameters\n",
    "    ----------\n",
    "    dct : dict\n",
    "        Input file to be converted to dictionary\n",
    "    \"\"\"\n",
    "    with open('dct.json', 'w') as f:\n",
    "        json.dump(dct, f)"
   ]
  },
  {
   "cell_type": "code",
   "execution_count": 11,
   "metadata": {
    "ExecuteTime": {
     "end_time": "2020-05-21T01:32:12.649953Z",
     "start_time": "2020-05-21T01:32:11.941861Z"
    },
    "deletable": false,
    "editable": false,
    "nbgrader": {
     "cell_type": "code",
     "checksum": "5ece04df9ae38db1c1abb5ad9b790e17",
     "grade": true,
     "grade_id": "cell-e1005d07fafb6cf2",
     "locked": true,
     "points": 1,
     "schema_version": 3,
     "solution": false
    }
   },
   "outputs": [
    {
     "name": "stderr",
     "output_type": "stream",
     "text": [
      "16:6: E225 missing whitespace around operator\n"
     ]
    }
   ],
   "source": [
    "dct = {\n",
    "    'j': 1,\n",
    "    's': '''Multi-line\n",
    "String''',\n",
    "    'o': {\n",
    "        'a': 1.2,\n",
    "        'b': [1, 2, 3]\n",
    "    },\n",
    "    'n': None\n",
    "}\n",
    "\n",
    "assert_equal(dct2str(dct),\n",
    "             '{\"j\": 1, \"s\": \"Multi-line\\\\nString\", '\n",
    "             '\"o\": {\"a\": 1.2, \"b\": [1, 2, 3]}, \"n\": null}')\n",
    "\n",
    "!rm -f dct.json\n",
    "dct2file(dct)\n",
    "assert_equal(json.load(open('dct.json')), dct)"
   ]
  },
  {
   "cell_type": "markdown",
   "metadata": {
    "deletable": false,
    "editable": false,
    "nbgrader": {
     "cell_type": "markdown",
     "checksum": "da527c3e9928d32739413305228212f3",
     "grade": false,
     "grade_id": "cell-2467f961ccf45775",
     "locked": true,
     "schema_version": 3,
     "solution": false
    }
   },
   "source": [
    "## Problem 5\n",
    "Create a function `count_journals` that reads `/mnt/data/public/covid19-lake/alleninstitute/CORD19/json/metadata/part-00000-81803174-7752-4489-8eeb-081318af9653-c000.json` and returns the list of journals along with their count sorted by decreasing count then by ascending lexicographic order of the journal name."
   ]
  },
  {
   "cell_type": "code",
   "execution_count": 67,
   "metadata": {
    "ExecuteTime": {
     "end_time": "2020-05-21T06:21:34.840041Z",
     "start_time": "2020-05-21T06:21:34.832206Z"
    },
    "deletable": false,
    "nbgrader": {
     "cell_type": "code",
     "checksum": "6d5d290aa84a48580322108d8dcc57ab",
     "grade": false,
     "grade_id": "cell-60333be989271fb4",
     "locked": false,
     "schema_version": 3,
     "solution": true
    }
   },
   "outputs": [],
   "source": [
    "def count_journals():\n",
    "    \"\"\"Read a json file then return a list of journals and their counts\n",
    "\n",
    "    Returns\n",
    "    -------\n",
    "    list\n",
    "        List of journals along with their count sorted by\n",
    "        decreasing count then by ascending lexicographic\n",
    "        order of the journal name.\n",
    "    \"\"\"\n",
    "    df_5 = pd.read_json('/mnt/data/public/covid19-lake/alleninstitute/CORD19/'\n",
    "                        'json/metadata/part-00000-81803174-7752-4489-8eeb-081'\n",
    "                        '318af9653-c000.json', lines=True)\n",
    "    df_count = df_5['journal'].value_counts().reset_index()\n",
    "    return [(a, b) for a, b in zip(df_count['index'].to_list(),\n",
    "            df_count['journal'].to_list())]"
   ]
  },
  {
   "cell_type": "code",
   "execution_count": 13,
   "metadata": {
    "ExecuteTime": {
     "end_time": "2020-05-21T06:21:35.824414Z",
     "start_time": "2020-05-21T06:21:35.113804Z"
    },
    "deletable": false,
    "editable": false,
    "nbgrader": {
     "cell_type": "code",
     "checksum": "27ae5891bdfce8c0645cb3b6fe580474",
     "grade": true,
     "grade_id": "cell-d6cec3d695a3e53a",
     "locked": true,
     "points": 1,
     "schema_version": 3,
     "solution": false
    }
   },
   "outputs": [],
   "source": [
    "journal_count = count_journals()\n",
    "assert_equal(len(journal_count), 4886)\n",
    "assert_equal(\n",
    "    journal_count[:10],\n",
    "    [('', 4067),\n",
    "     ('Journal of Virology', 1740),\n",
    "     ('PLoS One', 1567),\n",
    "     ('Virology', 865),\n",
    "     ('Emerg Infect Dis', 749),\n",
    "     ('The Lancet', 597),\n",
    "     ('Viruses', 569),\n",
    "     ('Arch Virol', 504),\n",
    "     ('Virus Research', 495),\n",
    "     ('Sci Rep', 491)]\n",
    ")"
   ]
  },
  {
   "cell_type": "markdown",
   "metadata": {
    "deletable": false,
    "editable": false,
    "nbgrader": {
     "cell_type": "markdown",
     "checksum": "553719d2d81403f1a346a0675a306dba",
     "grade": false,
     "grade_id": "cell-91426b95dbe196db",
     "locked": true,
     "schema_version": 3,
     "solution": false,
     "task": false
    }
   },
   "source": [
    "## Problem 6\n",
    "Create a function `business_labels` that reads `/mnt/data/public/yelp/challenge12/yelp_dataset/yelp_academic_dataset_photo.json` and returns a `pandas` `Series` where the index is the `business_id` and the values are the set of `label`s posted for that business."
   ]
  },
  {
   "cell_type": "code",
   "execution_count": 68,
   "metadata": {
    "ExecuteTime": {
     "end_time": "2020-05-21T07:28:52.688322Z",
     "start_time": "2020-05-21T07:28:52.683173Z"
    },
    "deletable": false,
    "nbgrader": {
     "cell_type": "code",
     "checksum": "7ea466674839ce445548f214c23bfba0",
     "grade": false,
     "grade_id": "cell-0937af4b013334cc",
     "locked": false,
     "schema_version": 3,
     "solution": true,
     "task": false
    }
   },
   "outputs": [],
   "source": [
    "def business_labels():\n",
    "    \"\"\"Return a Series with buisiness id and labels posted\n",
    "\n",
    "   Returns:\n",
    "    -------\n",
    "    pandas.Series\n",
    "        Series where the index is the business_id and\n",
    "        the values are the set of labels posted for that business\n",
    "    \"\"\"\n",
    "    df_6 = pd.read_json('/mnt/data/public/yelp/challenge12/yelp_dataset/'\n",
    "                        'yelp_academic_dataset_photo.json', lines=True)\n",
    "    return df_6.groupby('business_id')['label'].apply(set)"
   ]
  },
  {
   "cell_type": "code",
   "execution_count": 15,
   "metadata": {
    "ExecuteTime": {
     "end_time": "2020-05-21T07:28:54.540563Z",
     "start_time": "2020-05-21T07:28:52.887199Z"
    },
    "deletable": false,
    "editable": false,
    "nbgrader": {
     "cell_type": "code",
     "checksum": "5adfa342d799bbefbcf60173e65b930e",
     "grade": true,
     "grade_id": "cell-82a3fb99ae6b1ad3",
     "locked": true,
     "points": 1,
     "schema_version": 3,
     "solution": false,
     "task": false
    }
   },
   "outputs": [],
   "source": [
    "bl = business_labels()\n",
    "assert isinstance(bl, pd.Series)\n",
    "assert_equal(len(bl), 32976)\n",
    "assert_array_equal(\n",
    "    bl.index[:10],\n",
    "    ['--1UhMGODdWsrMastO9DZw', '--6MefnULPED_I942VcFNA',\n",
    "     '--9e1ONYQuAa-CB_Rrw7Tw', '--DaPTJW3-tB1vP-PfdTEg',\n",
    "     '--FBCX-N37CMYDfs790Bnw', '--KCl2FvVQpvjzmZSPyviA',\n",
    "     '--Ni3oJ4VOqfOEu7Sj2Vzg', '--S62v0QgkqQaVUhFnNHrw',\n",
    "     '--SrzpvFLwP_YFwB_Cetow', '--cZ6Hhc9F7VkKXxHMVZSQ']\n",
    ")\n",
    "assert_equal(\n",
    "    bl[:10].tolist(),\n",
    "    [{'inside'},\n",
    "     {'food'},\n",
    "     {'drink', 'food', 'inside', 'outside'},\n",
    "     {'outside'},\n",
    "     {'food', 'outside'},\n",
    "     {'food'},\n",
    "     {'food'},\n",
    "     {'drink', 'food'},\n",
    "     {'food', 'inside'},\n",
    "     {'drink', 'food', 'inside', 'outside'}]\n",
    ")"
   ]
  },
  {
   "cell_type": "markdown",
   "metadata": {
    "deletable": false,
    "editable": false,
    "nbgrader": {
     "cell_type": "markdown",
     "checksum": "30d1e8c30a5572503fbb52d7ea09d6a6",
     "grade": false,
     "grade_id": "cell-ff5040c3800d36da",
     "locked": true,
     "schema_version": 3,
     "solution": false,
     "task": false
    }
   },
   "source": [
    "## Problem 7\n",
    "Create a function `get_businesses` that reads the first 10000 lines of `/mnt/data/public/yelp/challenge12/yelp_dataset/yelp_academic_dataset_business.json` and returns a `pandas` `DataFrame`. The columns of the data frame correspond to the keys in all of the lines with nested keys separated by a dot (`.`). The index of the data frame correspond to the `business_id`."
   ]
  },
  {
   "cell_type": "code",
   "execution_count": 69,
   "metadata": {
    "ExecuteTime": {
     "end_time": "2020-05-21T20:12:37.592232Z",
     "start_time": "2020-05-21T20:12:37.586230Z"
    },
    "deletable": false,
    "nbgrader": {
     "cell_type": "code",
     "checksum": "81535b918e2443c4464087e8b58ca41b",
     "grade": false,
     "grade_id": "cell-35a479c7fb9bf59d",
     "locked": false,
     "schema_version": 3,
     "solution": true,
     "task": false
    }
   },
   "outputs": [],
   "source": [
    "def get_businesses():\n",
    "    \"\"\"Return a dataframe with indices corresponding to business_id\n",
    "\n",
    "    Returns\n",
    "    -------\n",
    "    pandas.DataFrame\n",
    "        The columns of the data frame correspond to the keys in all\n",
    "        of the lines with nested keys separated by a dot (.).\n",
    "        The index of the data frame correspond to the business_id.\n",
    "    \"\"\"\n",
    "    df_7 = pd.read_json('/mnt/data/public/yelp/challenge12/yelp_dataset/'\n",
    "                        'yelp_academic_dataset_business.json',\n",
    "                        lines=True,\n",
    "                        nrows=10000)\n",
    "    json7 = df_7.to_json(orient='records')\n",
    "    load7 = json.loads(json7)\n",
    "    return pd.json_normalize(load7).set_index('business_id')"
   ]
  },
  {
   "cell_type": "code",
   "execution_count": 17,
   "metadata": {
    "ExecuteTime": {
     "end_time": "2020-05-21T20:45:40.889863Z",
     "start_time": "2020-05-21T20:45:39.315473Z"
    },
    "deletable": false,
    "editable": false,
    "nbgrader": {
     "cell_type": "code",
     "checksum": "5abfbdaec82ea3246364fdf01ccbf282",
     "grade": true,
     "grade_id": "cell-b5fa356b408b44ac",
     "locked": true,
     "points": 1,
     "schema_version": 3,
     "solution": false,
     "task": false
    }
   },
   "outputs": [
    {
     "name": "stderr",
     "output_type": "stream",
     "text": [
      "20:27: E231 missing whitespace after ','\n",
      "21:75: W291 trailing whitespace\n",
      "23:74: W291 trailing whitespace\n",
      "29:73: W291 trailing whitespace\n",
      "31:77: W291 trailing whitespace\n",
      "33:73: W291 trailing whitespace\n",
      "35:72: W291 trailing whitespace\n",
      "37:77: W291 trailing whitespace\n",
      "44:73: W291 trailing whitespace\n",
      "45:31: W291 trailing whitespace\n",
      "48:28: E231 missing whitespace after ','\n",
      "49:72: W291 trailing whitespace\n",
      "51:78: W291 trailing whitespace\n",
      "53:74: W291 trailing whitespace\n",
      "55:74: W291 trailing whitespace\n",
      "57:77: W291 trailing whitespace\n",
      "59:75: W291 trailing whitespace\n",
      "65:76: W291 trailing whitespace\n",
      "72:77: W291 trailing whitespace\n"
     ]
    }
   ],
   "source": [
    "df_businesses = get_businesses()\n",
    "df_businesses = df_businesses[df_businesses.columns.sort_values()]\n",
    "assert_equal(df_businesses.shape, (10000, 60))\n",
    "assert_array_equal(\n",
    "    df_businesses.columns[:10],\n",
    "    ['address', 'attributes', 'attributes.AcceptsInsurance',\n",
    "     'attributes.AgesAllowed', 'attributes.Alcohol', 'attributes.Ambience',\n",
    "     'attributes.BYOB', 'attributes.BYOBCorkage', 'attributes.BestNights',\n",
    "     'attributes.BikeParking']\n",
    ")\n",
    "assert_array_equal(\n",
    "    df_businesses.index[:10],\n",
    "    ['Apn5Q_b6Nz61Tq4XzPdf9A', 'AjEbIBw6ZFfln7ePHha9PA',\n",
    "     'O8S5hYJ1SMc8fA4QBtVujA', 'bFzdJJ3wp3PZssNEsyU23g',\n",
    "     '8USyCYqpScwiNEb58Bt6CA', '45bWSZtniwPRiqlivpS8Og',\n",
    "     '9A2quhZLyWk0akUetBd8hQ', '6OuOZAok8ikONMS_T3EzXg',\n",
    "     '8-NRKkPY1UiFXW20WXKiXg', 'UTm5QZThPQlT35mkAcGOjg']\n",
    ")\n",
    "assert_equal(\n",
    "    df_businesses.iloc[:10,:10].to_numpy().tolist(),\n",
    "    [['1314 44 Avenue NE', np.nan, np.nan, np.nan, np.nan, np.nan, np.nan, \n",
    "      np.nan, np.nan, 'False'],\n",
    "     ['', np.nan, np.nan, np.nan, 'none', np.nan, np.nan, np.nan, np.nan, \n",
    "      'False'],\n",
    "     ['1335 rue Beaubien E', np.nan, np.nan, np.nan, 'beer_and_wine',\n",
    "      \"{'romantic': False, 'intimate': False, 'classy': False, \"\n",
    "      \"'hipster': False, 'touristy': False, 'trendy': False, \"\n",
    "      \"'upscale': False, 'casual': False}\", np.nan, np.nan, np.nan, 'True'],\n",
    "     ['211 W Monroe St', np.nan, np.nan, np.nan, np.nan, np.nan, np.nan, \n",
    "      np.nan, np.nan, np.nan],\n",
    "     ['2005 Alyth Place SE', np.nan, np.nan, np.nan, np.nan, np.nan, np.nan, \n",
    "      np.nan, np.nan, np.nan],\n",
    "     ['20235 N Cave Creek Rd, Ste 1115', np.nan, np.nan, np.nan, np.nan, \n",
    "      np.nan, np.nan, np.nan, np.nan, 'True'],\n",
    "     ['631 Bloor St W', np.nan, np.nan, np.nan, np.nan, np.nan, np.nan, \n",
    "      np.nan, np.nan, np.nan],\n",
    "     ['3417 Derry Road E, Unit 103', np.nan, np.nan, np.nan, 'none', np.nan, \n",
    "      np.nan, np.nan, np.nan, np.nan],\n",
    "     ['1440 N. Dysart Ave', np.nan, np.nan, np.nan, 'none',\n",
    "      \"{'romantic': False, 'intimate': False, 'classy': False, \"\n",
    "      \"'hipster': False, 'divey': False, 'touristy': False, \"\n",
    "      \"'trendy': False, 'upscale': False, 'casual': True}\",\n",
    "      np.nan, np.nan, np.nan, 'True'],\n",
    "     ['209 Oakland Ave', np.nan, np.nan, np.nan, np.nan, np.nan, np.nan, \n",
    "      np.nan, np.nan, 'True']] \n",
    ")\n",
    "assert_equal(\n",
    "    df_businesses.iloc[-10:,:10].to_numpy().tolist(),\n",
    "    [['3302 E Main St', np.nan, np.nan, np.nan, np.nan, np.nan, np.nan, \n",
    "      np.nan, np.nan, np.nan],\n",
    "     ['2714 E University Dr', np.nan, np.nan, np.nan, np.nan, np.nan, np.nan, \n",
    "      np.nan, np.nan, 'True'],\n",
    "     ['', np.nan, np.nan, np.nan, np.nan, np.nan, np.nan, np.nan, np.nan, \n",
    "      np.nan],\n",
    "     ['340 Eagle Street, Unit 3', np.nan, np.nan, np.nan, np.nan, np.nan, \n",
    "      np.nan, np.nan, np.nan, np.nan],\n",
    "     ['86 Gerrard Street E', np.nan, np.nan, np.nan, 'none', np.nan, np.nan, \n",
    "      np.nan, np.nan, 'True'],\n",
    "     ['15215 N Kierland Blvd, Ste 165B1A', np.nan, np.nan, np.nan, np.nan, \n",
    "      np.nan, np.nan, np.nan, np.nan, np.nan],\n",
    "     ['7950 S Rainbow Blvd', np.nan, np.nan, np.nan, 'full_bar',\n",
    "      \"{'romantic': False, 'intimate': False, 'classy': False, \"\n",
    "      \"'hipster': False, 'divey': False, 'touristy': False, 'trendy': False, \"\n",
    "      \"'upscale': False, 'casual': False}\", np.nan, np.nan, np.nan, 'False'],\n",
    "     ['375 Queen Street W', np.nan, np.nan, np.nan, np.nan, np.nan, np.nan, \n",
    "      np.nan, np.nan, 'True'],\n",
    "     ['1409 Potomac Ave', np.nan, np.nan, np.nan, 'none',\n",
    "      \"{'romantic': False, 'intimate': False, 'classy': False, \"\n",
    "      \"'hipster': False, 'divey': False, 'touristy': False, 'trendy': False, \"\n",
    "      \"'upscale': False, 'casual': True}\",\n",
    "      np.nan, np.nan, np.nan, 'True'],\n",
    "     ['1353 E McKellips Rd', np.nan, np.nan, np.nan, np.nan, np.nan, np.nan, \n",
    "      np.nan, np.nan, 'True']]\n",
    ")"
   ]
  },
  {
   "cell_type": "markdown",
   "metadata": {
    "deletable": false,
    "editable": false,
    "nbgrader": {
     "cell_type": "markdown",
     "checksum": "3f66de4e18790e3e3cbf311c496b4608",
     "grade": false,
     "grade_id": "cell-c74422b5a8b1880a",
     "locked": true,
     "schema_version": 3,
     "solution": false
    }
   },
   "source": [
    "## Problem 8\n",
    "Create a function `pop_ncr` that reads `NCR.xlsx` and returns a `pandas` `DataFrame` with two columns, `City, Municipality, and Barangay` and `Total Population`. Empty cells should be excluded from the DataFrame."
   ]
  },
  {
   "cell_type": "code",
   "execution_count": 55,
   "metadata": {
    "ExecuteTime": {
     "end_time": "2020-09-14T10:30:13.090159Z",
     "start_time": "2020-09-14T10:30:13.079481Z"
    },
    "deletable": false,
    "nbgrader": {
     "cell_type": "code",
     "checksum": "3dbf86d219213f37b4e44a4d64ef6ce5",
     "grade": false,
     "grade_id": "cell-97abc7823ff16a10",
     "locked": false,
     "schema_version": 3,
     "solution": true
    }
   },
   "outputs": [],
   "source": [
    "def pop_ncr():\n",
    "    \"\"\"Return a data frame with select columns\n",
    "\n",
    "    Returns\n",
    "    -------\n",
    "    df_8 : pandas.DataFrame\n",
    "        Columns include City, Municipality, and Barangay\n",
    "        and Total Population. Empty cells are excluded\n",
    "        from the DataFrame.\n",
    "    \"\"\"\n",
    "    df_8 = pd.read_excel('NCR.xlsx', skiprows=5, usecols=[1, 2]).dropna()\n",
    "    df_8.columns = ['City, Municipality, and Barangay', 'Total Population']\n",
    "    return df_8"
   ]
  },
  {
   "cell_type": "code",
   "execution_count": 19,
   "metadata": {
    "ExecuteTime": {
     "end_time": "2020-09-14T10:34:01.648011Z",
     "start_time": "2020-09-14T10:34:01.525463Z"
    },
    "deletable": false,
    "editable": false,
    "nbgrader": {
     "cell_type": "code",
     "checksum": "973af1f466dde611d304c36c96514f25",
     "grade": true,
     "grade_id": "cell-737d5b7ba35d426f",
     "locked": true,
     "points": 1,
     "schema_version": 3,
     "solution": false
    }
   },
   "outputs": [
    {
     "name": "stderr",
     "output_type": "stream",
     "text": [
      "3:45: W291 trailing whitespace\n",
      "5:47: W291 trailing whitespace\n",
      "7:48: W291 trailing whitespace\n",
      "9:46: W291 trailing whitespace\n",
      "11:1: W391 blank line at end of file\n"
     ]
    }
   ],
   "source": [
    "df_ncr = pop_ncr()\n",
    "assert_equal(df_ncr.shape, (1738, 2))\n",
    "assert_equal(df_ncr.iloc[0].values.tolist(), \n",
    "             ['NATIONAL CAPITAL REGION', 12877253.0])\n",
    "assert_equal(df_ncr.iloc[100].values.tolist(), \n",
    "             ['Barangay 104', 5334.0])\n",
    "assert_equal(df_ncr.iloc[1000].values.tolist(), \n",
    "             ['Bagumbayan', 13832.0])\n",
    "assert_equal(df_ncr.iloc[-1].values.tolist(), \n",
    "             ['South Signal Village ', 39214.0])\n"
   ]
  },
  {
   "cell_type": "markdown",
   "metadata": {
    "deletable": false,
    "editable": false,
    "nbgrader": {
     "cell_type": "markdown",
     "checksum": "1a4171da2fd9d5924cc1f70f95019ab1",
     "grade": false,
     "grade_id": "cell-c4ede361705e6854",
     "locked": true,
     "schema_version": 3,
     "solution": false
    }
   },
   "source": [
    "## Problem 9\n",
    "Create a function `dump_airbnb_beds` that reads `/mnt/data/public/insideairbnb/data.insideairbnb.com/united-kingdom/england/london/2015-04-06/data/listings.csv.gz` then creates the Excel file `airbnb.xlsx`. Each sheet of the file corresponds to the `bed_type` and contains the `host_location` and `price` only."
   ]
  },
  {
   "cell_type": "code",
   "execution_count": 70,
   "metadata": {
    "ExecuteTime": {
     "end_time": "2020-05-13T19:55:57.748376Z",
     "start_time": "2020-05-13T19:55:57.703762Z"
    },
    "deletable": false,
    "nbgrader": {
     "cell_type": "code",
     "checksum": "6e2310b8bbb0e83f4d8d8b937d0812e8",
     "grade": false,
     "grade_id": "cell-dd0f28d4f6f1e9c0",
     "locked": false,
     "schema_version": 3,
     "solution": true
    }
   },
   "outputs": [],
   "source": [
    "def dump_airbnb_beds():\n",
    "    \"\"\"Create an excel file with each sheet corresponding to each bed type\"\"\"\n",
    "    df_9 = pd.read_csv('/mnt/data/public/insideairbnb/data.insideairbnb.com/'\n",
    "                       'united-kingdom/england/london/2015-04-06/data/'\n",
    "                       'listings.csv.gz',\n",
    "                       compression='gzip',\n",
    "                       usecols=['bed_type', 'host_location', 'price'])\n",
    "    unique = df_9['bed_type'].sort_values().unique()\n",
    "    with pd.ExcelWriter('airbnb.xlsx') as writer:\n",
    "        for btype in unique:\n",
    "            (df_9[df_9['bed_type'] == 'Airbed'][['host_location', 'price']]\n",
    "             .to_excel(writer, index=None, sheet_name=btype))"
   ]
  },
  {
   "cell_type": "code",
   "execution_count": 58,
   "metadata": {
    "ExecuteTime": {
     "end_time": "2020-05-13T19:56:37.152283Z",
     "start_time": "2020-05-13T19:55:58.678628Z"
    },
    "deletable": false,
    "editable": false,
    "nbgrader": {
     "cell_type": "code",
     "checksum": "5de3dd1c474055df2beb7c79d8ebfc0a",
     "grade": true,
     "grade_id": "cell-2ef6085733502f59",
     "locked": true,
     "points": 1,
     "schema_version": 3,
     "solution": false
    }
   },
   "outputs": [],
   "source": [
    "!rm -f airbnb.xlsx\n",
    "dump_airbnb_beds()\n",
    "airbnb_sheets = pd.read_excel('airbnb.xlsx', None)\n",
    "assert_equal(list(airbnb_sheets.keys()), \n",
    "             ['Airbed', 'Couch', 'Futon', 'Pull-out Sofa', 'Real Bed'])\n",
    "for df in airbnb_sheets.values():\n",
    "    assert_equal(df.columns.tolist(), ['host_location', 'price'])"
   ]
  },
  {
   "cell_type": "markdown",
   "metadata": {
    "deletable": false,
    "editable": false,
    "nbgrader": {
     "cell_type": "markdown",
     "checksum": "b1e26d32270d57bf2030364962f1d3cf",
     "grade": false,
     "grade_id": "cell-187b442b2bee2b44",
     "locked": true,
     "schema_version": 3,
     "solution": false,
     "task": false
    }
   },
   "source": [
    "## Problem 10\n",
    "Create a function `age_counts` that will read `/mnt/data/public/census/_PHILIPPINES_Statistical Tables.xls` and return a `pandas` `DataFrame` with index corresponding to the single-year age and columns corresponding to `Both Sexes`, `Male`, and `Female` `Total` and `Household` population."
   ]
  },
  {
   "cell_type": "code",
   "execution_count": 59,
   "metadata": {},
   "outputs": [],
   "source": [
    "# import os"
   ]
  },
  {
   "cell_type": "code",
   "execution_count": 24,
   "metadata": {},
   "outputs": [],
   "source": [
    "# os.getcwd()"
   ]
  },
  {
   "cell_type": "code",
   "execution_count": 25,
   "metadata": {},
   "outputs": [
    {
     "name": "stderr",
     "output_type": "stream",
     "text": [
      "1:1: E265 block comment should start with '# '\n",
      "1:80: E501 line too long (120 > 79 characters)\n"
     ]
    }
   ],
   "source": [
    "###!cp '/mnt/data/public/census/_PHILIPPINES_Statistical Tables.xls' /home/msds2022/jgacal/dmw2022/fileformats-exercises"
   ]
  },
  {
   "cell_type": "code",
   "execution_count": 71,
   "metadata": {
    "ExecuteTime": {
     "end_time": "2020-05-22T02:48:43.443070Z",
     "start_time": "2020-05-22T02:48:43.437571Z"
    },
    "deletable": false,
    "nbgrader": {
     "cell_type": "code",
     "checksum": "92c640285e05b4a383a55202a7c64c5a",
     "grade": false,
     "grade_id": "cell-a9fb1369df080846",
     "locked": false,
     "schema_version": 3,
     "solution": true,
     "task": false
    }
   },
   "outputs": [],
   "source": [
    "def age_counts():\n",
    "    \"\"\"Return a dataframe with age as the index and details in the columns\n",
    "\n",
    "    Returns\n",
    "    -------\n",
    "    df_10_final : pandas.DataFrame\n",
    "        df with index corresponding to the single-year age and columns\n",
    "        corresponding to Both Sexes, Male, and Female\n",
    "        Total and Household population.\n",
    "    \"\"\"\n",
    "    df1_10 = pd.read_excel('/mnt/data/public/census/_PHILIPPINES_Statistical '\n",
    "                           'Tables.xls',\n",
    "                           sheet_name='T2',\n",
    "                           skiprows=6,\n",
    "                           nrows=81,\n",
    "                           usecols='A:B, D:E',\n",
    "                           names=['SYA', 'Both Sexes (Total)',\n",
    "                                  'Male (Total)', 'Female (Total)']).dropna()\n",
    "    df2_10 = (pd.read_excel('/mnt/data/public/census/_PHILIPPINES_Statistical'\n",
    "                            ' Tables.xls',\n",
    "                            sheet_name='T3',\n",
    "                            skiprows=6,\n",
    "                            nrows=81,\n",
    "                            usecols='A:D',\n",
    "                            names=['SYA', 'Both Sexes (Household)',\n",
    "                                   'Male (Household)', 'Female (Household)'])\n",
    "              .dropna())\n",
    "    df_10_final = df1_10.merge(df2_10, how='left', on='SYA')\n",
    "    return df_10_final.set_index('SYA')"
   ]
  },
  {
   "cell_type": "code",
   "execution_count": 63,
   "metadata": {
    "ExecuteTime": {
     "end_time": "2020-05-22T03:10:58.055144Z",
     "start_time": "2020-05-22T03:10:57.579824Z"
    },
    "deletable": false,
    "editable": false,
    "nbgrader": {
     "cell_type": "code",
     "checksum": "6cfe0f5f4ea6135b247c65a00202f5c7",
     "grade": true,
     "grade_id": "cell-2ae92eff74a7a407",
     "locked": true,
     "points": 1,
     "schema_version": 3,
     "solution": false,
     "task": false
    }
   },
   "outputs": [],
   "source": [
    "df_age_counts = age_counts()\n",
    "assert_equal(df_age_counts.shape, (81, 6))\n",
    "assert_array_equal(\n",
    "    df_age_counts.columns,\n",
    "    ['Both Sexes (Total)', 'Male (Total)', 'Female (Total)',\n",
    "     'Both Sexes (Household)', 'Male (Household)', 'Female (Household)'])\n",
    "assert_equal(\n",
    "    df_age_counts.index[:10].tolist(),\n",
    "    ['Under  1', 1, 2, 3, 4, 5, 6, 7, 8, 9]\n",
    ")\n",
    "assert_equal(\n",
    "    df_age_counts.iloc[:10].to_numpy().tolist(),\n",
    "    [[2076015.0, 1073401.0, 1002614.0, 2075441.0, 1073092.0, 1002349.0],\n",
    "     [2090987.0, 1079503.0, 1011484.0, 2090349.0, 1079136.0, 1011213.0],\n",
    "     [2191622.0, 1131865.0, 1059757.0, 2191020.0, 1131539.0, 1059481.0],\n",
    "     [2235349.0, 1155396.0, 1079953.0, 2234812.0, 1155121.0, 1079691.0],\n",
    "     [2224958.0, 1150320.0, 1074638.0, 2224376.0, 1150008.0, 1074368.0],\n",
    "     [2181326.0, 1127218.0, 1054108.0, 2180700.0, 1126910.0, 1053790.0],\n",
    "     [2173491.0, 1120396.0, 1053095.0, 2172796.0, 1120019.0, 1052777.0],\n",
    "     [2237482.0, 1156157.0, 1081325.0, 2236650.0, 1155729.0, 1080921.0],\n",
    "     [2140435.0, 1104671.0, 1035764.0, 2139569.0, 1104226.0, 1035343.0],\n",
    "     [2110186.0, 1088395.0, 1021791.0, 2109160.0, 1087838.0, 1021322.0]]\n",
    ")"
   ]
  }
 ],
 "metadata": {
  "hide_input": false,
  "kernelspec": {
   "display_name": "Python 3",
   "language": "python",
   "name": "python3"
  },
  "language_info": {
   "codemirror_mode": {
    "name": "ipython",
    "version": 3
   },
   "file_extension": ".py",
   "mimetype": "text/x-python",
   "name": "python",
   "nbconvert_exporter": "python",
   "pygments_lexer": "ipython3",
   "version": "3.8.10"
  },
  "toc": {
   "base_numbering": 1,
   "nav_menu": {},
   "number_sections": false,
   "sideBar": true,
   "skip_h1_title": false,
   "title_cell": "Table of Contents",
   "title_sidebar": "Contents",
   "toc_cell": false,
   "toc_position": {},
   "toc_section_display": true,
   "toc_window_display": false
  }
 },
 "nbformat": 4,
 "nbformat_minor": 2
}
