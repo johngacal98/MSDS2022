{
 "cells": [
  {
   "cell_type": "code",
   "execution_count": 1,
   "metadata": {
    "ExecuteTime": {
     "end_time": "2021-07-18T08:32:14.113523Z",
     "start_time": "2021-07-18T08:32:13.459265Z"
    },
    "deletable": false,
    "editable": false,
    "nbgrader": {
     "cell_type": "code",
     "checksum": "507a2b18938afa4c896b500f2120136f",
     "grade": false,
     "grade_id": "cell-498c6678c6ffaf01",
     "locked": true,
     "schema_version": 3,
     "solution": false
    }
   },
   "outputs": [],
   "source": [
    "import sqlite3\n",
    "import pandas as pd\n",
    "from sqlalchemy import create_engine\n",
    "from numpy.testing import assert_equal, assert_array_equal"
   ]
  },
  {
   "cell_type": "markdown",
   "metadata": {
    "deletable": false,
    "editable": false,
    "nbgrader": {
     "cell_type": "markdown",
     "checksum": "da26af4a1396e8678db8a4a06306df2c",
     "grade": false,
     "grade_id": "cell-1c7eee671c6923bb",
     "locked": true,
     "schema_version": 3,
     "solution": false
    }
   },
   "source": [
    "## Problem 1\n",
    "Create a function `create_tables` that returns a connection to an in-memory SQLite database. This database should have a table `employee` having the following columns:\n",
    "\n",
    "* `full_name` that cannot be null and is text\n",
    "* `age` that is an integer and can be null\n",
    "* `rating` that is float and cannot be null\n",
    "* `remarks` that is text and can be null"
   ]
  },
  {
   "cell_type": "code",
   "execution_count": 2,
   "metadata": {
    "ExecuteTime": {
     "end_time": "2021-07-18T08:32:14.119001Z",
     "start_time": "2021-07-18T08:32:14.115639Z"
    },
    "deletable": false,
    "nbgrader": {
     "cell_type": "code",
     "checksum": "7b5fcf5f7fec0d2a023c839e16907aac",
     "grade": false,
     "grade_id": "cell-502eb27e21e9d793",
     "locked": false,
     "schema_version": 3,
     "solution": true,
     "task": false
    }
   },
   "outputs": [],
   "source": [
    "def create_tables():\n",
    "    \"\"\"Create table employee and return an in-memory SQLite databas connection\n",
    "   \n",
    "    Returns\n",
    "    -------\n",
    "    SQLite db with columns full_name, age, rating and remarks\n",
    "    \"\"\"\n",
    "    conn = sqlite3.connect(':memory:')\n",
    "    cursor = conn.cursor()\n",
    "    \n",
    "    cursor.execute(\"\"\"\n",
    "    CREATE TABLE IF NOT EXISTS employee (\n",
    "        full_name TEXT NOT NULL,\n",
    "        age INT,\n",
    "        rating FLOAT NOT NULL,\n",
    "        remarks TEXT\n",
    "        )\n",
    "    \"\"\")\n",
    "    return cursor"
   ]
  },
  {
   "cell_type": "code",
   "execution_count": 3,
   "metadata": {
    "ExecuteTime": {
     "end_time": "2021-07-18T08:32:14.126600Z",
     "start_time": "2021-07-18T08:32:14.121754Z"
    },
    "deletable": false,
    "editable": false,
    "nbgrader": {
     "cell_type": "code",
     "checksum": "b5cc5e0f0c8d31a7f4858a694f18697c",
     "grade": true,
     "grade_id": "cell-a888ecc8c8c047cf",
     "locked": true,
     "points": 1,
     "schema_version": 3,
     "solution": false
    }
   },
   "outputs": [],
   "source": [
    "conn = create_tables()\n",
    "# Note: each RDBMS has its own way of querying the table information\n",
    "res = conn.execute(\"PRAGMA table_info('employee')\").fetchall()\n",
    "conn.close()\n",
    "assert_equal(len(res), 4)\n",
    "assert_equal(\n",
    "    [col[1]  for col in res],\n",
    "    ['full_name', 'age', 'rating', 'remarks']\n",
    ")"
   ]
  },
  {
   "cell_type": "markdown",
   "metadata": {
    "deletable": false,
    "editable": false,
    "nbgrader": {
     "cell_type": "markdown",
     "checksum": "fffbecf0b4606d9090ad19f3c7c8de93",
     "grade": false,
     "grade_id": "cell-c70e5677f901b53c",
     "locked": true,
     "schema_version": 3,
     "solution": false
    }
   },
   "source": [
    "## Problem 2 \n",
    "Create a function `insert_values` that saves into the table `players` in `conn` the rows given by `rows`."
   ]
  },
  {
   "cell_type": "code",
   "execution_count": 4,
   "metadata": {
    "ExecuteTime": {
     "end_time": "2021-07-18T08:32:14.133567Z",
     "start_time": "2021-07-18T08:32:14.128919Z"
    },
    "deletable": false,
    "nbgrader": {
     "cell_type": "code",
     "checksum": "22223681f0a25ae859739a8345ca7b1c",
     "grade": false,
     "grade_id": "cell-f249e8e267e6f61d",
     "locked": false,
     "schema_version": 3,
     "solution": true,
     "task": false
    }
   },
   "outputs": [],
   "source": [
    "def insert_values(conn, rows):\n",
    "    \"\"\"Save player stats into the table 'players'\n",
    "    \n",
    "    Parameters\n",
    "    ----------\n",
    "    conn: sqlite3.Connection \n",
    "    rows: list\n",
    "        player stats\n",
    "    \"\"\"\n",
    "    cursor = conn.cursor()\n",
    "    for r in rows:\n",
    "        cursor.execute(\"\"\"\n",
    "            INSERT INTO players VALUES (?, ?, ?, ?)\n",
    "        \"\"\", r)"
   ]
  },
  {
   "cell_type": "code",
   "execution_count": 5,
   "metadata": {
    "ExecuteTime": {
     "end_time": "2021-07-18T08:32:14.150641Z",
     "start_time": "2021-07-18T08:32:14.137229Z"
    },
    "deletable": false,
    "editable": false,
    "nbgrader": {
     "cell_type": "code",
     "checksum": "f30327244760869b33aa9d3ca789539a",
     "grade": true,
     "grade_id": "cell-e6afcb302259b31c",
     "locked": true,
     "points": 1,
     "schema_version": 3,
     "solution": false,
     "task": false
    }
   },
   "outputs": [],
   "source": [
    "rows = [\n",
    "    ['Gino B.', 101, 69, 192],\n",
    "    ['Big D', 46, 23, 88],\n",
    "    ['VD', 57, 18, 49],\n",
    "    ['Bossti', 108, 77, 256]\n",
    "]\n",
    "conn = sqlite3.connect('exercises.db')\n",
    "conn.execute('DELETE FROM players')\n",
    "insert_values(conn, rows)\n",
    "res = conn.execute('SELECT * FROM players').fetchall()\n",
    "conn.close()\n",
    "assert_equal(\n",
    "    res,\n",
    "    [('Gino B.', 101, 69, 192),\n",
    "     ('Big D', 46, 23, 88),\n",
    "     ('VD', 57, 18, 49),\n",
    "     ('Bossti', 108, 77, 256)]\n",
    ")"
   ]
  },
  {
   "cell_type": "markdown",
   "metadata": {
    "deletable": false,
    "editable": false,
    "nbgrader": {
     "cell_type": "markdown",
     "checksum": "26f4337ac1b1b4fd6ebcd918a64de280",
     "grade": false,
     "grade_id": "cell-01e0387e45e85ff6",
     "locked": true,
     "schema_version": 3,
     "solution": false,
     "task": false
    }
   },
   "source": [
    "## Problem 3\n",
    "Create a function `append_values` that appends the content of data frame `df` to the `reactions` table in `conn`."
   ]
  },
  {
   "cell_type": "code",
   "execution_count": 6,
   "metadata": {
    "ExecuteTime": {
     "end_time": "2021-07-18T08:32:14.155091Z",
     "start_time": "2021-07-18T08:32:14.152133Z"
    },
    "deletable": false,
    "nbgrader": {
     "cell_type": "code",
     "checksum": "40fe4fb1271e388356f8e3ca7fac0e96",
     "grade": false,
     "grade_id": "cell-c4bbc7583e214ed2",
     "locked": false,
     "schema_version": 3,
     "solution": true,
     "task": false
    }
   },
   "outputs": [],
   "source": [
    "def append_values(conn, df):\n",
    "    \"\"\"Append the contents of a dataframe to the reactions \n",
    "    table in a db.\n",
    "    \n",
    "    Parameters\n",
    "    ----------\n",
    "    conn: sqlite3.Connection \n",
    "    df: pandas DataFrame\n",
    "    \"\"\"\n",
    "    arr = df.values\n",
    "    cursor = conn.cursor()\n",
    "    for r in arr:\n",
    "        cursor.execute(\"\"\"\n",
    "            INSERT INTO reactions VALUES (?,?,?,?)\n",
    "        \"\"\", r)\n",
    "    # df.to_sql('reactions', conn, if_exists='append', index=False)"
   ]
  },
  {
   "cell_type": "code",
   "execution_count": 7,
   "metadata": {
    "ExecuteTime": {
     "end_time": "2021-07-18T08:32:14.167604Z",
     "start_time": "2021-07-18T08:32:14.156746Z"
    },
    "deletable": false,
    "editable": false,
    "nbgrader": {
     "cell_type": "code",
     "checksum": "50437a725aa01eeb518808ab9b6dbccf",
     "grade": true,
     "grade_id": "cell-899324875c53dc88",
     "locked": true,
     "points": 1,
     "schema_version": 3,
     "solution": false,
     "task": false
    }
   },
   "outputs": [],
   "source": [
    "df = pd.DataFrame([\n",
    "        [15, 23, 1, 0],\n",
    "        [3, 98, 0, 5],\n",
    "        [62, 37, 2, 3],\n",
    "        [81, 46, 7, 1],\n",
    "        [29, 17, 4, 2]\n",
    "    ],\n",
    "    columns=['post_id', 'user_id', 'up', 'down'])\n",
    "\n",
    "conn = sqlite3.connect('exercises.db')\n",
    "conn.execute('DELETE FROM reactions')\n",
    "append_values(conn, df)\n",
    "append_values(conn, df)\n",
    "conn.close()"
   ]
  },
  {
   "cell_type": "markdown",
   "metadata": {
    "deletable": false,
    "editable": false,
    "nbgrader": {
     "cell_type": "markdown",
     "checksum": "1aebe01608ec776f81abbae4f8a38f43",
     "grade": false,
     "grade_id": "cell-6e1182f071d4faa5",
     "locked": true,
     "schema_version": 3,
     "solution": false,
     "task": false
    }
   },
   "source": [
    "## Problem 4\n",
    "Create a function `read_table` that reads the sqlite database file `db` and returns the contents of the `transactions` table as a `pandas` `DataFrame`."
   ]
  },
  {
   "cell_type": "code",
   "execution_count": 8,
   "metadata": {
    "ExecuteTime": {
     "end_time": "2021-07-18T08:32:14.171934Z",
     "start_time": "2021-07-18T08:32:14.169021Z"
    },
    "deletable": false,
    "nbgrader": {
     "cell_type": "code",
     "checksum": "36e182f6395f6b25158e5f1398fc66be",
     "grade": false,
     "grade_id": "cell-620202cfc57e7c16",
     "locked": false,
     "schema_version": 3,
     "solution": true,
     "task": false
    }
   },
   "outputs": [],
   "source": [
    "def read_table(db):\n",
    "    \"\"\"Read transactions table from database and return a pandas DataFrame\n",
    "    \n",
    "    Parameters\n",
    "    ----------\n",
    "    db: str\n",
    "        relative filepath of database file\n",
    "    \n",
    "    Returns\n",
    "    -------\n",
    "    pandas DataFrame\n",
    "    \"\"\"\n",
    "    engine = create_engine('sqlite:///' + db)\n",
    "    with engine.connect() as conn:\n",
    "        df = pd.read_sql('SELECT * FROM transactions', conn)\n",
    "    return df"
   ]
  },
  {
   "cell_type": "code",
   "execution_count": 9,
   "metadata": {
    "ExecuteTime": {
     "end_time": "2021-07-18T08:32:17.198522Z",
     "start_time": "2021-07-18T08:32:14.174538Z"
    },
    "deletable": false,
    "editable": false,
    "nbgrader": {
     "cell_type": "code",
     "checksum": "a27e786cdaa2bda5bb30676f99c2cd4e",
     "grade": true,
     "grade_id": "cell-096dd825999f59b8",
     "locked": true,
     "points": 1,
     "schema_version": 3,
     "solution": false,
     "task": false
    }
   },
   "outputs": [],
   "source": [
    "df_trans = read_table('exercises.db')\n",
    "assert_equal(type(df_trans), pd.DataFrame)\n",
    "assert_equal(df_trans.shape, (541909, 8))\n",
    "assert_array_equal(\n",
    "    df_trans.columns.tolist(),\n",
    "    ['InvoiceNo', 'StockCode', 'Description', 'Quantity', 'InvoiceDate',\n",
    "     'UnitPrice', 'CustomerID', 'Country']\n",
    ")\n",
    "assert_equal(\n",
    "    df_trans.iloc[:5].to_numpy().tolist(),\n",
    "    [['536365',  '85123A',  'WHITE HANGING HEART T-LIGHT HOLDER',  6,  \n",
    "      '01/12/2010 8:26',  2.55,  17850.0,  'United Kingdom'], \n",
    "     ['536365',  '71053',  'WHITE METAL LANTERN',  6,  '01/12/2010 8:26',  \n",
    "      3.39,  17850.0,  'United Kingdom'], \n",
    "     ['536365',  '84406B',  'CREAM CUPID HEARTS COAT HANGER',  8,  \n",
    "      '01/12/2010 8:26',  2.75,  17850.0,  'United Kingdom'], \n",
    "     ['536365',  '84029G',  'KNITTED UNION FLAG HOT WATER BOTTLE',  6,  \n",
    "      '01/12/2010 8:26',  3.39,  17850.0,  'United Kingdom'], \n",
    "     ['536365',  '84029E',  'RED WOOLLY HOTTIE WHITE HEART.',  6,  \n",
    "      '01/12/2010 8:26',  3.39,  17850.0,  'United Kingdom']]\n",
    ")"
   ]
  },
  {
   "cell_type": "markdown",
   "metadata": {
    "deletable": false,
    "editable": false,
    "nbgrader": {
     "cell_type": "markdown",
     "checksum": "41e31455c5456e3371853e175a428960",
     "grade": false,
     "grade_id": "cell-6bfa76c36e8f147a",
     "locked": true,
     "schema_version": 3,
     "solution": false,
     "task": false
    }
   },
   "source": [
    "## Problem 5\n",
    "Create a function `stocks_more_than_5` that reads the sqlite database file `db` and returns the rows of the `transactions` table with `Quantity` greater than 5, as a `pandas` `DataFrame`. Return only the columns `StockCode`, `Description` and `Quantity`. Use only a single SQL statement to answer this problem."
   ]
  },
  {
   "cell_type": "code",
   "execution_count": 10,
   "metadata": {
    "ExecuteTime": {
     "end_time": "2021-07-18T08:32:17.204910Z",
     "start_time": "2021-07-18T08:32:17.201227Z"
    },
    "deletable": false,
    "nbgrader": {
     "cell_type": "code",
     "checksum": "b51d85bda9fa62470d3f8fbf631fcb20",
     "grade": false,
     "grade_id": "cell-699adf7d145b41d4",
     "locked": false,
     "schema_version": 3,
     "solution": true,
     "task": false
    }
   },
   "outputs": [],
   "source": [
    "def stocks_more_than_5(db):\n",
    "    \"\"\"Return a pandas Dataframe with quantity column values greater than 5\n",
    "    \n",
    "    Parameters\n",
    "    ----------\n",
    "    db: SQLite\n",
    "    \n",
    "    Returns\n",
    "    -------\n",
    "    pandas DataFrame\n",
    "    \"\"\"\n",
    "    engine = create_engine('sqlite:///' + db)\n",
    "    with engine.connect() as conn:\n",
    "        df = pd.read_sql(\"\"\"\n",
    "            SELECT StockCode, Description, Quantity\n",
    "            FROM transactions\n",
    "            WHERE Quantity > 5\"\"\", conn)\n",
    "    return df"
   ]
  },
  {
   "cell_type": "code",
   "execution_count": 11,
   "metadata": {
    "ExecuteTime": {
     "end_time": "2021-07-18T08:32:17.878105Z",
     "start_time": "2021-07-18T08:32:17.206404Z"
    },
    "deletable": false,
    "editable": false,
    "nbgrader": {
     "cell_type": "code",
     "checksum": "dbc57c12db259d1c1f361f007b7dc6fd",
     "grade": true,
     "grade_id": "cell-b20c0b3fbd139e7a",
     "locked": true,
     "points": 1,
     "schema_version": 3,
     "solution": false,
     "task": false
    }
   },
   "outputs": [],
   "source": [
    "df_stocks = stocks_more_than_5('exercises.db')\n",
    "assert_equal(type(df_stocks), pd.DataFrame)\n",
    "assert_equal(df_stocks.shape, (213867, 3))\n",
    "assert_array_equal(\n",
    "    df_stocks.columns,\n",
    "    ['StockCode', 'Description', 'Quantity']\n",
    ")\n",
    "assert_equal(\n",
    "    df_stocks.iloc[:5].to_numpy().tolist(),\n",
    "    [['85123A', 'WHITE HANGING HEART T-LIGHT HOLDER', 6],\n",
    "     ['71053', 'WHITE METAL LANTERN', 6],\n",
    "     ['84406B', 'CREAM CUPID HEARTS COAT HANGER', 8],\n",
    "     ['84029G', 'KNITTED UNION FLAG HOT WATER BOTTLE', 6],\n",
    "     ['84029E', 'RED WOOLLY HOTTIE WHITE HEART.', 6]]\n",
    ")"
   ]
  },
  {
   "cell_type": "markdown",
   "metadata": {
    "deletable": false,
    "editable": false,
    "nbgrader": {
     "cell_type": "markdown",
     "checksum": "2801df329f3d48c08f04c647ca721043",
     "grade": false,
     "grade_id": "cell-57bf72c1576a6feb",
     "locked": true,
     "schema_version": 3,
     "solution": false,
     "task": false
    }
   },
   "source": [
    "## Problem 6\n",
    "Create a function `get_invoices` that reads the sqlite database file `db`. The rows of the `transactions` table is grouped by `InvoiceNo` and a `pandas` `DataFrame` is returned with the following columns:\n",
    "* `InvoiceNo`: `InvoiceNo` of the group\n",
    "* `ItemCount`: Number of rows in the group\n",
    "* `TotalQuantity`: Total `Quantity` in the group\n",
    "\n",
    "The rows are sorted by decreasing `ItemCount`.\n",
    "\n",
    "Your answer should be a single SQL statement that will perform all of the required operations."
   ]
  },
  {
   "cell_type": "code",
   "execution_count": 12,
   "metadata": {
    "ExecuteTime": {
     "end_time": "2021-07-18T08:32:17.883434Z",
     "start_time": "2021-07-18T08:32:17.879961Z"
    },
    "deletable": false,
    "nbgrader": {
     "cell_type": "code",
     "checksum": "23e1c73ed6d42a6661d8be78bf22a481",
     "grade": false,
     "grade_id": "cell-26d8cd87ca270a41",
     "locked": false,
     "schema_version": 3,
     "solution": true,
     "task": false
    }
   },
   "outputs": [],
   "source": [
    "def get_invoices(db):\n",
    "    \"\"\"\n",
    "    Group the transactions by InvoiceNo and return a pandas DataFrame\n",
    "    with columns InvoiceNo, ItemCount and TotalQuantity.\n",
    "    \n",
    "    Parameters\n",
    "    ----------\n",
    "    db: str\n",
    "        relative filepath of database file\n",
    "    \n",
    "    Returns\n",
    "    -------\n",
    "    pandas DataFrame\n",
    "    \"\"\"\n",
    "    engine = create_engine('sqlite:///' + db)\n",
    "    with engine.connect() as conn:\n",
    "        df = pd.read_sql(\"\"\"\n",
    "        SELECT \n",
    "            InvoiceNo, \n",
    "            COUNT(InvoiceNo) AS ItemCount,\n",
    "            SUM(Quantity) AS TotalQuantity\n",
    "        FROM transactions\n",
    "        GROUP BY InvoiceNo\n",
    "        ORDER BY ItemCount DESC\"\"\", conn)\n",
    "    return df"
   ]
  },
  {
   "cell_type": "code",
   "execution_count": 13,
   "metadata": {
    "ExecuteTime": {
     "end_time": "2021-07-18T08:32:18.337466Z",
     "start_time": "2021-07-18T08:32:17.885066Z"
    },
    "deletable": false,
    "editable": false,
    "nbgrader": {
     "cell_type": "code",
     "checksum": "dc16048a395e96943399bca7ee2d0651",
     "grade": true,
     "grade_id": "cell-91c43f46821f8ad7",
     "locked": true,
     "points": 1,
     "schema_version": 3,
     "solution": false,
     "task": false
    }
   },
   "outputs": [],
   "source": [
    "df_invoices = get_invoices('exercises.db')\n",
    "assert_equal(type(df_invoices), pd.DataFrame)\n",
    "assert_equal(df_invoices.shape, (25900, 3))\n",
    "assert_equal(\n",
    "    df_invoices.columns.tolist(),\n",
    "    ['InvoiceNo', 'ItemCount', 'TotalQuantity']\n",
    ")\n",
    "assert_equal(\n",
    "    df_invoices.iloc[:10].to_numpy().tolist(),\n",
    "    [['573585', 1114, 5198],\n",
    "     ['581219', 749, 2151],\n",
    "     ['581492', 731, 2011],\n",
    "     ['580729', 721, 2456],\n",
    "     ['558475', 705, 4137],\n",
    "     ['579777', 687, 1763],\n",
    "     ['581217', 676, 1853],\n",
    "     ['537434', 675, 1869],\n",
    "     ['580730', 662, 1858],\n",
    "     ['538071', 652, 1643]]\n",
    ")"
   ]
  },
  {
   "cell_type": "markdown",
   "metadata": {
    "deletable": false,
    "editable": false,
    "nbgrader": {
     "cell_type": "markdown",
     "checksum": "47009506744c2fc7951c491d860fb336",
     "grade": false,
     "grade_id": "cell-1161276af5d2faa4",
     "locked": true,
     "schema_version": 3,
     "solution": false,
     "task": false
    }
   },
   "source": [
    "## Problem 7\n",
    "Create a function `white_department` that accepts a SQLAlchemy connection and returns a `pandas` `Series`. The index of the series is the `department_id` and the values are the number of rows in `products`, having `product_name` that starts with the case-sensitive word `White`, that belongs to that `department_id`. Sort by decreasing number of rows. Your answer should be a single SQL statement that will perform all of the required operations. "
   ]
  },
  {
   "cell_type": "code",
   "execution_count": 14,
   "metadata": {
    "ExecuteTime": {
     "end_time": "2021-07-18T08:32:18.342551Z",
     "start_time": "2021-07-18T08:32:18.339375Z"
    },
    "deletable": false,
    "nbgrader": {
     "cell_type": "code",
     "checksum": "24707c12596d0bc3ea6afd9f499390c3",
     "grade": false,
     "grade_id": "cell-3265d1fae2380e8d",
     "locked": false,
     "schema_version": 3,
     "solution": true,
     "task": false
    }
   },
   "outputs": [],
   "source": [
    "def white_department(conn):\n",
    "    \"\"\"Return a pandas Series of the number of rows in products that \n",
    "    have 'White' in the product name.\n",
    "    \n",
    "    Parameters\n",
    "    ----------\n",
    "    conn: connection to SQLite db\n",
    "    \n",
    "    Returns\n",
    "    -------\n",
    "    pandas Series \n",
    "    \"\"\"\n",
    "    engine = create_engine('sqlite:///exercises.db')\n",
    "    with engine.connect() as conn:\n",
    "        ser = pd.read_sql(\"\"\"\n",
    "        SELECT department_id, product_name, COUNT(*) AS white\n",
    "        FROM products\n",
    "        WHERE LOWER(product_name) LIKE 'white %'\n",
    "        GROUP BY department_id\n",
    "        ORDER BY white DESC\n",
    "        \"\"\", conn, index_col='department_id')['white']\n",
    "    return ser    "
   ]
  },
  {
   "cell_type": "code",
   "execution_count": 15,
   "metadata": {
    "ExecuteTime": {
     "end_time": "2021-07-18T08:32:18.391521Z",
     "start_time": "2021-07-18T08:32:18.344308Z"
    }
   },
   "outputs": [
    {
     "data": {
      "text/html": [
       "<div>\n",
       "<style scoped>\n",
       "    .dataframe tbody tr th:only-of-type {\n",
       "        vertical-align: middle;\n",
       "    }\n",
       "\n",
       "    .dataframe tbody tr th {\n",
       "        vertical-align: top;\n",
       "    }\n",
       "\n",
       "    .dataframe thead th {\n",
       "        text-align: right;\n",
       "    }\n",
       "</style>\n",
       "<table border=\"1\" class=\"dataframe\">\n",
       "  <thead>\n",
       "    <tr style=\"text-align: right;\">\n",
       "      <th></th>\n",
       "      <th>product_name</th>\n",
       "      <th>white</th>\n",
       "    </tr>\n",
       "    <tr>\n",
       "      <th>department_id</th>\n",
       "      <th></th>\n",
       "      <th></th>\n",
       "    </tr>\n",
       "  </thead>\n",
       "  <tbody>\n",
       "    <tr>\n",
       "      <th>13</th>\n",
       "      <td>White Writing Gel</td>\n",
       "      <td>42</td>\n",
       "    </tr>\n",
       "    <tr>\n",
       "      <th>19</th>\n",
       "      <td>White Cheddar Popcorn</td>\n",
       "      <td>40</td>\n",
       "    </tr>\n",
       "    <tr>\n",
       "      <th>17</th>\n",
       "      <td>White Revive Laundry Stain Remover 45 Loads</td>\n",
       "      <td>28</td>\n",
       "    </tr>\n",
       "    <tr>\n",
       "      <th>7</th>\n",
       "      <td>White Tea Lavender Probiotic Kefir Water No. 2</td>\n",
       "      <td>28</td>\n",
       "    </tr>\n",
       "    <tr>\n",
       "      <th>4</th>\n",
       "      <td>White Pearl Onions</td>\n",
       "      <td>20</td>\n",
       "    </tr>\n",
       "    <tr>\n",
       "      <th>15</th>\n",
       "      <td>White Chicken Chili</td>\n",
       "      <td>18</td>\n",
       "    </tr>\n",
       "    <tr>\n",
       "      <th>3</th>\n",
       "      <td>White Hot Dog Rolls</td>\n",
       "      <td>18</td>\n",
       "    </tr>\n",
       "    <tr>\n",
       "      <th>1</th>\n",
       "      <td>White Chocolate Mint Ice Cream</td>\n",
       "      <td>16</td>\n",
       "    </tr>\n",
       "    <tr>\n",
       "      <th>9</th>\n",
       "      <td>White Cheddar Macaroni &amp; Cheese</td>\n",
       "      <td>15</td>\n",
       "    </tr>\n",
       "    <tr>\n",
       "      <th>11</th>\n",
       "      <td>White Label Antiperspirant, Night</td>\n",
       "      <td>12</td>\n",
       "    </tr>\n",
       "    <tr>\n",
       "      <th>16</th>\n",
       "      <td>White Sweet Cream Unsalted Butter</td>\n",
       "      <td>11</td>\n",
       "    </tr>\n",
       "    <tr>\n",
       "      <th>5</th>\n",
       "      <td>White Wine Winemaker's Blend California, 2010</td>\n",
       "      <td>10</td>\n",
       "    </tr>\n",
       "    <tr>\n",
       "      <th>6</th>\n",
       "      <td>White Miso Soup Mix</td>\n",
       "      <td>8</td>\n",
       "    </tr>\n",
       "    <tr>\n",
       "      <th>8</th>\n",
       "      <td>White Meat Chicken Cat Food</td>\n",
       "      <td>7</td>\n",
       "    </tr>\n",
       "    <tr>\n",
       "      <th>21</th>\n",
       "      <td>White Apple Cauliflower &amp; Leek Organic Baby Food</td>\n",
       "      <td>6</td>\n",
       "    </tr>\n",
       "    <tr>\n",
       "      <th>20</th>\n",
       "      <td>White Wine Salami, Pinot Grigio</td>\n",
       "      <td>4</td>\n",
       "    </tr>\n",
       "    <tr>\n",
       "      <th>18</th>\n",
       "      <td>White Buttermints</td>\n",
       "      <td>3</td>\n",
       "    </tr>\n",
       "    <tr>\n",
       "      <th>2</th>\n",
       "      <td>White Tea &amp; Berry Fusion Antibacterial Hand So...</td>\n",
       "      <td>3</td>\n",
       "    </tr>\n",
       "  </tbody>\n",
       "</table>\n",
       "</div>"
      ],
      "text/plain": [
       "                                                    product_name  white\n",
       "department_id                                                          \n",
       "13                                             White Writing Gel     42\n",
       "19                                         White Cheddar Popcorn     40\n",
       "17                   White Revive Laundry Stain Remover 45 Loads     28\n",
       "7                 White Tea Lavender Probiotic Kefir Water No. 2     28\n",
       "4                                             White Pearl Onions     20\n",
       "15                                           White Chicken Chili     18\n",
       "3                                            White Hot Dog Rolls     18\n",
       "1                                 White Chocolate Mint Ice Cream     16\n",
       "9                                White Cheddar Macaroni & Cheese     15\n",
       "11                             White Label Antiperspirant, Night     12\n",
       "16                             White Sweet Cream Unsalted Butter     11\n",
       "5                  White Wine Winemaker's Blend California, 2010     10\n",
       "6                                            White Miso Soup Mix      8\n",
       "8                                    White Meat Chicken Cat Food      7\n",
       "21              White Apple Cauliflower & Leek Organic Baby Food      6\n",
       "20                               White Wine Salami, Pinot Grigio      4\n",
       "18                                             White Buttermints      3\n",
       "2              White Tea & Berry Fusion Antibacterial Hand So...      3"
      ]
     },
     "execution_count": 15,
     "metadata": {},
     "output_type": "execute_result"
    }
   ],
   "source": [
    "engine = create_engine('sqlite:///exercises.db')\n",
    "with engine.connect() as conn:\n",
    "    df = pd.read_sql(\"\"\"\n",
    "    SELECT department_id, product_name, COUNT(*) AS white\n",
    "    FROM products\n",
    "    WHERE LOWER(product_name) LIKE 'white %'\n",
    "    GROUP BY department_id\n",
    "    ORDER BY white DESC\n",
    "    \"\"\", conn, index_col='department_id')\n",
    "df"
   ]
  },
  {
   "cell_type": "code",
   "execution_count": 16,
   "metadata": {
    "ExecuteTime": {
     "end_time": "2021-07-18T08:32:18.423068Z",
     "start_time": "2021-07-18T08:32:18.393255Z"
    },
    "deletable": false,
    "editable": false,
    "nbgrader": {
     "cell_type": "code",
     "checksum": "988c3946905b1ce59e7aa235ebe807f5",
     "grade": true,
     "grade_id": "cell-2423f048a08d6e72",
     "locked": true,
     "points": 1,
     "schema_version": 3,
     "solution": false,
     "task": false
    }
   },
   "outputs": [],
   "source": [
    "engine = create_engine('sqlite:///exercises.db')\n",
    "with engine.connect() as conn:\n",
    "    df_white = white_department(conn)\n",
    "assert isinstance(df_white, pd.Series)\n",
    "assert_equal(len(df_white), 18)\n",
    "assert_equal(\n",
    "    df_white.index[:10].tolist(), \n",
    "    [13, 19, 17, 7, 4, 15, 3, 1, 9, 11])\n",
    "assert_equal(\n",
    "    df_white[:10].tolist(),\n",
    "    [42, 40, 28, 28, 20, 18, 18, 16, 15, 12]\n",
    ")"
   ]
  },
  {
   "cell_type": "markdown",
   "metadata": {
    "deletable": false,
    "editable": false,
    "nbgrader": {
     "cell_type": "markdown",
     "checksum": "3f7c8d1c26692b4346f5f53c3de7ab03",
     "grade": false,
     "grade_id": "cell-45545ac16289170b",
     "locked": true,
     "schema_version": 3,
     "solution": false,
     "task": false
    }
   },
   "source": [
    "## Problem 8\n",
    "Create a function `count_aisle_products` that accepts a SQLAlchemy connection and returns a `pandas` `DataFrame`. It has the following columns:\n",
    "* `aisle_id` of product in `products`\n",
    "* `aisle` from `aisles` based on `aisle_id`\n",
    "* `product_count` which is the number of products in `products` with `aisle_id`\n",
    "\n",
    "Only aisles with `product_count` less than 100 should be included. Sort by increasing `product_count`. Your answer should be a single SQL statement that will perform all of the required operations."
   ]
  },
  {
   "cell_type": "code",
   "execution_count": 17,
   "metadata": {
    "ExecuteTime": {
     "end_time": "2021-07-18T08:32:18.427950Z",
     "start_time": "2021-07-18T08:32:18.424782Z"
    },
    "deletable": false,
    "nbgrader": {
     "cell_type": "code",
     "checksum": "7179da3549d929b554c5558c3e751c1a",
     "grade": false,
     "grade_id": "cell-ec9ad5757b176f2c",
     "locked": false,
     "schema_version": 3,
     "solution": true,
     "task": false
    }
   },
   "outputs": [],
   "source": [
    "def count_aisle_products(conn):\n",
    "    \"\"\"Return a DataFrame that contains aisles with product count less\n",
    "    than 100.\n",
    "    \n",
    "    Parameters\n",
    "    ----------\n",
    "    conn: connection to SQLite db\n",
    "    \n",
    "    Returns\n",
    "    -------\n",
    "    pandas DataFrame\n",
    "    \"\"\"\n",
    "    with engine.connect() as conn:\n",
    "        df = pd.read_sql(\"\"\"\n",
    "        SELECT p.aisle_id, a.aisle, COUNT(*) as product_count\n",
    "        FROM products AS p\n",
    "        JOIN aisles AS a\n",
    "        ON p.aisle_id = a.aisle_id\n",
    "        GROUP BY p.aisle_id\n",
    "        HAVING product_count < 100\n",
    "        ORDER BY product_count\n",
    "        \"\"\", conn)\n",
    "    return df"
   ]
  },
  {
   "cell_type": "code",
   "execution_count": 18,
   "metadata": {
    "ExecuteTime": {
     "end_time": "2021-07-18T08:32:18.625184Z",
     "start_time": "2021-07-18T08:32:18.429770Z"
    }
   },
   "outputs": [
    {
     "data": {
      "text/html": [
       "<div>\n",
       "<style scoped>\n",
       "    .dataframe tbody tr th:only-of-type {\n",
       "        vertical-align: middle;\n",
       "    }\n",
       "\n",
       "    .dataframe tbody tr th {\n",
       "        vertical-align: top;\n",
       "    }\n",
       "\n",
       "    .dataframe thead th {\n",
       "        text-align: right;\n",
       "    }\n",
       "</style>\n",
       "<table border=\"1\" class=\"dataframe\">\n",
       "  <thead>\n",
       "    <tr style=\"text-align: right;\">\n",
       "      <th></th>\n",
       "      <th>product_id</th>\n",
       "      <th>product_name</th>\n",
       "      <th>aisle_id</th>\n",
       "      <th>department_id</th>\n",
       "    </tr>\n",
       "  </thead>\n",
       "  <tbody>\n",
       "    <tr>\n",
       "      <th>0</th>\n",
       "      <td>1</td>\n",
       "      <td>Chocolate Sandwich Cookies</td>\n",
       "      <td>61</td>\n",
       "      <td>19</td>\n",
       "    </tr>\n",
       "    <tr>\n",
       "      <th>1</th>\n",
       "      <td>2</td>\n",
       "      <td>All-Seasons Salt</td>\n",
       "      <td>104</td>\n",
       "      <td>13</td>\n",
       "    </tr>\n",
       "    <tr>\n",
       "      <th>2</th>\n",
       "      <td>3</td>\n",
       "      <td>Robust Golden Unsweetened Oolong Tea</td>\n",
       "      <td>94</td>\n",
       "      <td>7</td>\n",
       "    </tr>\n",
       "    <tr>\n",
       "      <th>3</th>\n",
       "      <td>4</td>\n",
       "      <td>Smart Ones Classic Favorites Mini Rigatoni Wit...</td>\n",
       "      <td>38</td>\n",
       "      <td>1</td>\n",
       "    </tr>\n",
       "    <tr>\n",
       "      <th>4</th>\n",
       "      <td>5</td>\n",
       "      <td>Green Chile Anytime Sauce</td>\n",
       "      <td>5</td>\n",
       "      <td>13</td>\n",
       "    </tr>\n",
       "    <tr>\n",
       "      <th>...</th>\n",
       "      <td>...</td>\n",
       "      <td>...</td>\n",
       "      <td>...</td>\n",
       "      <td>...</td>\n",
       "    </tr>\n",
       "    <tr>\n",
       "      <th>49683</th>\n",
       "      <td>49684</td>\n",
       "      <td>Vodka, Triple Distilled, Twist of Vanilla</td>\n",
       "      <td>124</td>\n",
       "      <td>5</td>\n",
       "    </tr>\n",
       "    <tr>\n",
       "      <th>49684</th>\n",
       "      <td>49685</td>\n",
       "      <td>En Croute Roast Hazelnut Cranberry</td>\n",
       "      <td>42</td>\n",
       "      <td>1</td>\n",
       "    </tr>\n",
       "    <tr>\n",
       "      <th>49685</th>\n",
       "      <td>49686</td>\n",
       "      <td>Artisan Baguette</td>\n",
       "      <td>112</td>\n",
       "      <td>3</td>\n",
       "    </tr>\n",
       "    <tr>\n",
       "      <th>49686</th>\n",
       "      <td>49687</td>\n",
       "      <td>Smartblend Healthy Metabolism Dry Cat Food</td>\n",
       "      <td>41</td>\n",
       "      <td>8</td>\n",
       "    </tr>\n",
       "    <tr>\n",
       "      <th>49687</th>\n",
       "      <td>49688</td>\n",
       "      <td>Fresh Foaming Cleanser</td>\n",
       "      <td>73</td>\n",
       "      <td>11</td>\n",
       "    </tr>\n",
       "  </tbody>\n",
       "</table>\n",
       "<p>49688 rows × 4 columns</p>\n",
       "</div>"
      ],
      "text/plain": [
       "       product_id                                       product_name  \\\n",
       "0               1                         Chocolate Sandwich Cookies   \n",
       "1               2                                   All-Seasons Salt   \n",
       "2               3               Robust Golden Unsweetened Oolong Tea   \n",
       "3               4  Smart Ones Classic Favorites Mini Rigatoni Wit...   \n",
       "4               5                          Green Chile Anytime Sauce   \n",
       "...           ...                                                ...   \n",
       "49683       49684          Vodka, Triple Distilled, Twist of Vanilla   \n",
       "49684       49685                 En Croute Roast Hazelnut Cranberry   \n",
       "49685       49686                                   Artisan Baguette   \n",
       "49686       49687         Smartblend Healthy Metabolism Dry Cat Food   \n",
       "49687       49688                             Fresh Foaming Cleanser   \n",
       "\n",
       "       aisle_id  department_id  \n",
       "0            61             19  \n",
       "1           104             13  \n",
       "2            94              7  \n",
       "3            38              1  \n",
       "4             5             13  \n",
       "...         ...            ...  \n",
       "49683       124              5  \n",
       "49684        42              1  \n",
       "49685       112              3  \n",
       "49686        41              8  \n",
       "49687        73             11  \n",
       "\n",
       "[49688 rows x 4 columns]"
      ]
     },
     "execution_count": 18,
     "metadata": {},
     "output_type": "execute_result"
    }
   ],
   "source": [
    "engine = create_engine('sqlite:///exercises.db')\n",
    "with engine.connect() as conn:\n",
    "    df = pd.read_sql(\"\"\"\n",
    "    SELECT *\n",
    "    FROM products\n",
    "    \"\"\", conn)\n",
    "df"
   ]
  },
  {
   "cell_type": "code",
   "execution_count": 19,
   "metadata": {
    "ExecuteTime": {
     "end_time": "2021-07-18T08:32:18.641648Z",
     "start_time": "2021-07-18T08:32:18.626774Z"
    }
   },
   "outputs": [
    {
     "data": {
      "text/html": [
       "<div>\n",
       "<style scoped>\n",
       "    .dataframe tbody tr th:only-of-type {\n",
       "        vertical-align: middle;\n",
       "    }\n",
       "\n",
       "    .dataframe tbody tr th {\n",
       "        vertical-align: top;\n",
       "    }\n",
       "\n",
       "    .dataframe thead th {\n",
       "        text-align: right;\n",
       "    }\n",
       "</style>\n",
       "<table border=\"1\" class=\"dataframe\">\n",
       "  <thead>\n",
       "    <tr style=\"text-align: right;\">\n",
       "      <th></th>\n",
       "      <th>aisle_id</th>\n",
       "      <th>aisle</th>\n",
       "    </tr>\n",
       "  </thead>\n",
       "  <tbody>\n",
       "    <tr>\n",
       "      <th>0</th>\n",
       "      <td>1</td>\n",
       "      <td>prepared soups salads</td>\n",
       "    </tr>\n",
       "    <tr>\n",
       "      <th>1</th>\n",
       "      <td>2</td>\n",
       "      <td>specialty cheeses</td>\n",
       "    </tr>\n",
       "    <tr>\n",
       "      <th>2</th>\n",
       "      <td>3</td>\n",
       "      <td>energy granola bars</td>\n",
       "    </tr>\n",
       "    <tr>\n",
       "      <th>3</th>\n",
       "      <td>4</td>\n",
       "      <td>instant foods</td>\n",
       "    </tr>\n",
       "    <tr>\n",
       "      <th>4</th>\n",
       "      <td>5</td>\n",
       "      <td>marinades meat preparation</td>\n",
       "    </tr>\n",
       "    <tr>\n",
       "      <th>...</th>\n",
       "      <td>...</td>\n",
       "      <td>...</td>\n",
       "    </tr>\n",
       "    <tr>\n",
       "      <th>129</th>\n",
       "      <td>130</td>\n",
       "      <td>hot cereal pancake mixes</td>\n",
       "    </tr>\n",
       "    <tr>\n",
       "      <th>130</th>\n",
       "      <td>131</td>\n",
       "      <td>dry pasta</td>\n",
       "    </tr>\n",
       "    <tr>\n",
       "      <th>131</th>\n",
       "      <td>132</td>\n",
       "      <td>beauty</td>\n",
       "    </tr>\n",
       "    <tr>\n",
       "      <th>132</th>\n",
       "      <td>133</td>\n",
       "      <td>muscles joints pain relief</td>\n",
       "    </tr>\n",
       "    <tr>\n",
       "      <th>133</th>\n",
       "      <td>134</td>\n",
       "      <td>specialty wines champagnes</td>\n",
       "    </tr>\n",
       "  </tbody>\n",
       "</table>\n",
       "<p>134 rows × 2 columns</p>\n",
       "</div>"
      ],
      "text/plain": [
       "     aisle_id                       aisle\n",
       "0           1       prepared soups salads\n",
       "1           2           specialty cheeses\n",
       "2           3         energy granola bars\n",
       "3           4               instant foods\n",
       "4           5  marinades meat preparation\n",
       "..        ...                         ...\n",
       "129       130    hot cereal pancake mixes\n",
       "130       131                   dry pasta\n",
       "131       132                      beauty\n",
       "132       133  muscles joints pain relief\n",
       "133       134  specialty wines champagnes\n",
       "\n",
       "[134 rows x 2 columns]"
      ]
     },
     "execution_count": 19,
     "metadata": {},
     "output_type": "execute_result"
    }
   ],
   "source": [
    "with engine.connect() as conn:\n",
    "    df = pd.read_sql(\"\"\"\n",
    "    SELECT *\n",
    "    FROM aisles\n",
    "    \"\"\", conn)\n",
    "df"
   ]
  },
  {
   "cell_type": "code",
   "execution_count": null,
   "metadata": {},
   "outputs": [],
   "source": []
  },
  {
   "cell_type": "code",
   "execution_count": 20,
   "metadata": {
    "ExecuteTime": {
     "end_time": "2021-07-18T08:32:18.690988Z",
     "start_time": "2021-07-18T08:32:18.642990Z"
    },
    "deletable": false,
    "editable": false,
    "nbgrader": {
     "cell_type": "code",
     "checksum": "f5fd3d1931de55f350b3f8153d33d95f",
     "grade": true,
     "grade_id": "cell-105746b58a698953",
     "locked": true,
     "points": 1,
     "schema_version": 3,
     "solution": false,
     "task": false
    }
   },
   "outputs": [],
   "source": [
    "engine = create_engine('sqlite:///exercises.db')\n",
    "with engine.connect() as conn:\n",
    "    df_aisle = count_aisle_products(conn)\n",
    "assert_equal(type(df_aisle), pd.DataFrame)\n",
    "assert_equal(df_aisle.shape, (15, 3))\n",
    "assert_equal(\n",
    "    df_aisle.columns.tolist(),\n",
    "    ['aisle_id', 'aisle', 'product_count']\n",
    ")\n",
    "assert_equal(\n",
    "    df_aisle.iloc[:5].to_numpy().tolist(),\n",
    "    [[18, 'bulk dried fruits vegetables', 12],\n",
    "     [68, 'bulk grains rice dried goods', 26],\n",
    "     [32, 'packaged produce', 32],\n",
    "     [82, 'baby accessories', 44],\n",
    "     [113, 'frozen juice', 47]]\n",
    ")"
   ]
  },
  {
   "cell_type": "markdown",
   "metadata": {
    "deletable": false,
    "editable": false,
    "nbgrader": {
     "cell_type": "markdown",
     "checksum": "53ce6b09aae511c73b801d80312ad6b3",
     "grade": false,
     "grade_id": "cell-fcf5fec1c88ef2ea",
     "locked": true,
     "schema_version": 3,
     "solution": false,
     "task": false
    }
   },
   "source": [
    "## Problem 9\n",
    "Create a function `concat_cols` that accepts a SQLAlchemy connection and sets the value of `col3` for rows with even `col2` to the concatenation of `col` and `col2`. Your answer should be a single SQL statement that will perform all of the required operations."
   ]
  },
  {
   "cell_type": "code",
   "execution_count": 21,
   "metadata": {
    "ExecuteTime": {
     "end_time": "2021-07-18T08:32:18.695603Z",
     "start_time": "2021-07-18T08:32:18.692881Z"
    },
    "deletable": false,
    "nbgrader": {
     "cell_type": "code",
     "checksum": "6aca8c73894bb113c0c9d8a04f5a6645",
     "grade": false,
     "grade_id": "cell-6aa3166e8a253261",
     "locked": false,
     "schema_version": 3,
     "solution": true,
     "task": false
    }
   },
   "outputs": [],
   "source": [
    "def concat_cols(conn):\n",
    "    \"\"\"Concatenates col1 and col2 values to col3 where col2 values are even\n",
    "    \n",
    "    Parameters\n",
    "    ----------\n",
    "    conn: connection to SQLite db\n",
    "    \"\"\"\n",
    "    conn.execute(\"\"\"UPDATE cols\n",
    "    SET col3 = col1||col2\n",
    "    WHERE col2%2 = 0\n",
    "    \"\"\")"
   ]
  },
  {
   "cell_type": "code",
   "execution_count": null,
   "metadata": {
    "ExecuteTime": {
     "end_time": "2021-07-18T07:50:34.960139Z",
     "start_time": "2021-07-18T07:50:34.938611Z"
    }
   },
   "outputs": [],
   "source": []
  },
  {
   "cell_type": "code",
   "execution_count": 22,
   "metadata": {
    "ExecuteTime": {
     "end_time": "2021-07-18T08:32:18.710541Z",
     "start_time": "2021-07-18T08:32:18.697400Z"
    },
    "deletable": false,
    "editable": false,
    "nbgrader": {
     "cell_type": "code",
     "checksum": "82fbd4fd24b7f4f81c11ed38c9c74f27",
     "grade": true,
     "grade_id": "cell-6a62376696db15bc",
     "locked": true,
     "points": 1,
     "schema_version": 3,
     "solution": false,
     "task": false
    }
   },
   "outputs": [],
   "source": [
    "with create_engine('sqlite:///').connect() as conn:\n",
    "    conn.execute(\"\"\"\n",
    "    CREATE TABLE cols (\n",
    "        col1 TEXT,\n",
    "        col2 INT,\n",
    "        col3 TEXT\n",
    "    )\"\"\")\n",
    "    conn.execute(\"\"\"\n",
    "    INSERT INTO cols (col1, col2)\n",
    "    VALUES ('a', 1), ('b', 2), ('c', 3), ('d', 4), ('e', 5)\n",
    "    \"\"\")\n",
    "    concat_cols(conn)\n",
    "    df_concat = pd.read_sql('cols', conn)\n",
    "assert_equal(df_concat.shape, (5, 3))\n",
    "assert_array_equal(df_concat.columns, ['col1', 'col2', 'col3'])"
   ]
  },
  {
   "cell_type": "code",
   "execution_count": null,
   "metadata": {
    "ExecuteTime": {
     "end_time": "2021-07-18T07:58:42.763091Z",
     "start_time": "2021-07-18T07:58:42.750630Z"
    }
   },
   "outputs": [],
   "source": []
  },
  {
   "cell_type": "markdown",
   "metadata": {
    "deletable": false,
    "editable": false,
    "nbgrader": {
     "cell_type": "markdown",
     "checksum": "4384a024cdd64bc654c97c888a5f0cda",
     "grade": false,
     "grade_id": "cell-e4e7dc4052aedaea",
     "locked": true,
     "schema_version": 3,
     "solution": false,
     "task": false
    }
   },
   "source": [
    "## Problem 10\n",
    "Create a function `del_row` that accepts a SQLAlchemy connection and deletes rows with a `col1` value of `d`. Your answer should be a single SQL statement that will perform all of the required operations."
   ]
  },
  {
   "cell_type": "code",
   "execution_count": 23,
   "metadata": {
    "ExecuteTime": {
     "end_time": "2021-07-18T08:32:18.715324Z",
     "start_time": "2021-07-18T08:32:18.712486Z"
    },
    "deletable": false,
    "nbgrader": {
     "cell_type": "code",
     "checksum": "902847e178734e6b9c2bd52b4f192e9f",
     "grade": false,
     "grade_id": "cell-a910fc5c1cfdf4a8",
     "locked": false,
     "schema_version": 3,
     "solution": true,
     "task": false
    }
   },
   "outputs": [],
   "source": [
    "def del_row(conn):\n",
    "    \"\"\"Delete row in a db with col1 value of d\n",
    "    \n",
    "    Parameters\n",
    "    ----------\n",
    "    conn: connection to SQLite db\n",
    "    \"\"\"\n",
    "    conn.execute(\"\"\"DELETE FROM cols\n",
    "    WHERE col1 LIKE 'd'\"\"\")"
   ]
  },
  {
   "cell_type": "code",
   "execution_count": 24,
   "metadata": {
    "ExecuteTime": {
     "end_time": "2021-07-18T08:32:18.731374Z",
     "start_time": "2021-07-18T08:32:18.717193Z"
    }
   },
   "outputs": [
    {
     "data": {
      "text/html": [
       "<div>\n",
       "<style scoped>\n",
       "    .dataframe tbody tr th:only-of-type {\n",
       "        vertical-align: middle;\n",
       "    }\n",
       "\n",
       "    .dataframe tbody tr th {\n",
       "        vertical-align: top;\n",
       "    }\n",
       "\n",
       "    .dataframe thead th {\n",
       "        text-align: right;\n",
       "    }\n",
       "</style>\n",
       "<table border=\"1\" class=\"dataframe\">\n",
       "  <thead>\n",
       "    <tr style=\"text-align: right;\">\n",
       "      <th></th>\n",
       "      <th>col1</th>\n",
       "      <th>col2</th>\n",
       "    </tr>\n",
       "  </thead>\n",
       "  <tbody>\n",
       "    <tr>\n",
       "      <th>0</th>\n",
       "      <td>a</td>\n",
       "      <td>1</td>\n",
       "    </tr>\n",
       "    <tr>\n",
       "      <th>1</th>\n",
       "      <td>b</td>\n",
       "      <td>2</td>\n",
       "    </tr>\n",
       "    <tr>\n",
       "      <th>2</th>\n",
       "      <td>c</td>\n",
       "      <td>3</td>\n",
       "    </tr>\n",
       "    <tr>\n",
       "      <th>3</th>\n",
       "      <td>e</td>\n",
       "      <td>5</td>\n",
       "    </tr>\n",
       "  </tbody>\n",
       "</table>\n",
       "</div>"
      ],
      "text/plain": [
       "  col1  col2\n",
       "0    a     1\n",
       "1    b     2\n",
       "2    c     3\n",
       "3    e     5"
      ]
     },
     "execution_count": 24,
     "metadata": {},
     "output_type": "execute_result"
    }
   ],
   "source": [
    "with create_engine('sqlite:///').connect() as conn:\n",
    "    conn.execute(\"\"\"\n",
    "    CREATE TABLE cols (\n",
    "        col1 TEXT,\n",
    "        col2 INT\n",
    "    )\"\"\")\n",
    "    conn.execute(\"\"\"\n",
    "    INSERT INTO cols\n",
    "    VALUES ('a', 1), ('b', 2), ('c', 3), ('d', 4), ('e', 5)\n",
    "    \"\"\")\n",
    "    conn.execute(\"\"\"DELETE FROM cols\n",
    "    WHERE col1 LIKE 'd'\"\"\")\n",
    "    df_del = pd.read_sql('cols', conn)\n",
    "df_del"
   ]
  },
  {
   "cell_type": "code",
   "execution_count": 25,
   "metadata": {
    "ExecuteTime": {
     "end_time": "2021-07-18T08:32:18.742997Z",
     "start_time": "2021-07-18T08:32:18.733256Z"
    },
    "deletable": false,
    "editable": false,
    "nbgrader": {
     "cell_type": "code",
     "checksum": "fa0919daa517f3332770bad088b326f6",
     "grade": true,
     "grade_id": "cell-63ccdc1b92e8275a",
     "locked": true,
     "points": 1,
     "schema_version": 3,
     "solution": false,
     "task": false
    }
   },
   "outputs": [],
   "source": [
    "with create_engine('sqlite:///').connect() as conn:\n",
    "    conn.execute(\"\"\"\n",
    "    CREATE TABLE cols (\n",
    "        col1 TEXT,\n",
    "        col2 INT\n",
    "    )\"\"\")\n",
    "    conn.execute(\"\"\"\n",
    "    INSERT INTO cols\n",
    "    VALUES ('a', 1), ('b', 2), ('c', 3), ('d', 4), ('e', 5)\n",
    "    \"\"\")\n",
    "    del_row(conn)\n",
    "    df_del = pd.read_sql('cols', conn)\n",
    "assert_equal(df_del.shape, (4, 2))\n",
    "assert_array_equal(df_del.columns, ['col1', 'col2'])"
   ]
  }
 ],
 "metadata": {
  "hide_input": false,
  "kernelspec": {
   "display_name": "Python 3",
   "language": "python",
   "name": "python3"
  },
  "language_info": {
   "codemirror_mode": {
    "name": "ipython",
    "version": 3
   },
   "file_extension": ".py",
   "mimetype": "text/x-python",
   "name": "python",
   "nbconvert_exporter": "python",
   "pygments_lexer": "ipython3",
   "version": "3.8.10"
  },
  "toc": {
   "base_numbering": 1,
   "nav_menu": {},
   "number_sections": false,
   "sideBar": true,
   "skip_h1_title": false,
   "title_cell": "Table of Contents",
   "title_sidebar": "Contents",
   "toc_cell": false,
   "toc_position": {},
   "toc_section_display": true,
   "toc_window_display": false
  }
 },
 "nbformat": 4,
 "nbformat_minor": 4
}
