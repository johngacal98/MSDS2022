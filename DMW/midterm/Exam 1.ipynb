{
 "cells": [
  {
   "cell_type": "code",
   "execution_count": 1,
   "metadata": {
    "ExecuteTime": {
     "end_time": "2021-08-03T10:15:09.582835Z",
     "start_time": "2021-08-03T10:15:08.936989Z"
    },
    "deletable": false,
    "editable": false,
    "nbgrader": {
     "cell_type": "code",
     "checksum": "8dab196d89c67b56d99fdcde63694912",
     "grade": false,
     "grade_id": "cell-f32826d46e619606",
     "locked": true,
     "schema_version": 3,
     "solution": false
    }
   },
   "outputs": [],
   "source": [
    "import requests\n",
    "import json\n",
    "import gzip\n",
    "import bz2\n",
    "import csv\n",
    "import re\n",
    "import sqlite3\n",
    "import numpy as np\n",
    "import pandas as pd\n",
    "from datetime import datetime\n",
    "from bs4 import BeautifulSoup\n",
    "from numpy.testing import (assert_equal, assert_array_equal, \n",
    "                           assert_array_almost_equal)"
   ]
  },
  {
   "cell_type": "markdown",
   "metadata": {
    "deletable": false,
    "editable": false,
    "nbgrader": {
     "cell_type": "markdown",
     "checksum": "cdd971c3a22188a9c804c92404d3de8e",
     "grade": false,
     "grade_id": "cell-e162be23f6cb55e5",
     "locked": true,
     "schema_version": 3,
     "solution": false,
     "task": false
    }
   },
   "source": [
    "# Problem 1 [25 pts]"
   ]
  },
  {
   "cell_type": "markdown",
   "metadata": {
    "deletable": false,
    "editable": false,
    "nbgrader": {
     "cell_type": "markdown",
     "checksum": "2bf5a59fc1a37c68e5c1e2bab8bd8852",
     "grade": false,
     "grade_id": "cell-c85799896b685e37",
     "locked": true,
     "schema_version": 3,
     "solution": false,
     "task": false
    }
   },
   "source": [
    "## Problem 1a [10 pts]\n",
    "\n",
    "Create a function `count_foreignlang` that will read `/mnt/data/public/mtgjson/AllIdentifiers.json` and return a list of tuples where the first element is a `foreignData` `language` and the second element is the number of times that `language` is found in a `foreignData`. Return only the 10 most frequent `language` sorted by decreasing number of occurrences."
   ]
  },
  {
   "cell_type": "code",
   "execution_count": 54,
   "metadata": {
    "ExecuteTime": {
     "end_time": "2021-08-03T10:58:35.830883Z",
     "start_time": "2021-08-03T10:58:35.822434Z"
    },
    "deletable": false,
    "nbgrader": {
     "cell_type": "code",
     "checksum": "dca3cb93b7620c32023e9ec753897eda",
     "grade": false,
     "grade_id": "cell-34734bc6d55b13a2",
     "locked": false,
     "schema_version": 3,
     "solution": true,
     "task": false
    }
   },
   "outputs": [],
   "source": [
    "def count_foreignlang():\n",
    "    with open('/mnt/data/public/mtgjson/AllIdentifiers.json') as f:\n",
    "        j = json.load(f)\n",
    "    count_list = []\n",
    "    for key in j['data']:\n",
    "        try:\n",
    "            language_list = j['data'][key]['foreignData']\n",
    "\n",
    "        except:\n",
    "            continue\n",
    "        else:\n",
    "            language_list = j['data'][key]['foreignData']\n",
    "            for i in language_list:\n",
    "                count_list.append(i['language'])\n",
    "    ser = pd.Series(count_list).value_counts()[:10]\n",
    "    return [(a,b) for a,b in zip(ser.index, ser)]\n"
   ]
  },
  {
   "cell_type": "code",
   "execution_count": 55,
   "metadata": {
    "ExecuteTime": {
     "end_time": "2021-08-03T10:58:43.435037Z",
     "start_time": "2021-08-03T10:58:37.117219Z"
    },
    "deletable": false,
    "editable": false,
    "nbgrader": {
     "cell_type": "code",
     "checksum": "4ab85159f91307d57404bfcaa3dc3476",
     "grade": true,
     "grade_id": "cell-387a1e18a0a45cdb",
     "locked": true,
     "points": 10,
     "schema_version": 3,
     "solution": false,
     "task": false
    }
   },
   "outputs": [],
   "source": [
    "cfl = count_foreignlang()\n",
    "assert_equal(\n",
    "    cfl[:5],\n",
    "    [('Japanese', 34191),\n",
    "     ('French', 32260),\n",
    "     ('German', 31849),\n",
    "     ('Italian', 31660),\n",
    "     ('Spanish', 31595)]\n",
    ")"
   ]
  },
  {
   "cell_type": "markdown",
   "metadata": {
    "deletable": false,
    "editable": false,
    "nbgrader": {
     "cell_type": "markdown",
     "checksum": "e827f5e4b0ad8ab265ccce84c8ecdf70",
     "grade": false,
     "grade_id": "cell-8ec3f3beaca3c488",
     "locked": true,
     "schema_version": 3,
     "solution": false
    }
   },
   "source": [
    "## Problem 1b [10 pts]\n",
    "\n",
    "Create a function `count_masters` that reads `/mnt/data/public/discogs/2011/discogs_20111110_masters.xml.gz` and returns a list of tuples where the first element is a year and the second element is the number of masters released on that year. Return only the 10 most frequent years sorted by decreasing frequency.\n",
    "\n",
    "Hint: you may create a file object for a gzipped file `foo.gz` using `gzip.open('foo.gz')`"
   ]
  },
  {
   "cell_type": "markdown",
   "metadata": {},
   "source": [
    "genre = pop"
   ]
  },
  {
   "cell_type": "code",
   "execution_count": 56,
   "metadata": {
    "ExecuteTime": {
     "end_time": "2021-08-03T10:58:48.823377Z",
     "start_time": "2021-08-03T10:58:48.818870Z"
    }
   },
   "outputs": [],
   "source": [
    "from xml.etree import ElementTree as ET"
   ]
  },
  {
   "cell_type": "code",
   "execution_count": 57,
   "metadata": {
    "ExecuteTime": {
     "end_time": "2021-08-03T10:58:49.822207Z",
     "start_time": "2021-08-03T10:58:49.815528Z"
    },
    "deletable": false,
    "nbgrader": {
     "cell_type": "code",
     "checksum": "77efeb672d5c3aaed943661640efa1ac",
     "grade": false,
     "grade_id": "cell-1a157ebc769db623",
     "locked": false,
     "schema_version": 3,
     "solution": true,
     "task": false
    }
   },
   "outputs": [],
   "source": [
    "\n",
    "def count_masters():\n",
    "    with gzip.open('/mnt/data/public/discogs/2011/discogs_20111110_masters.xml.gz', 'rb') as f:\n",
    "        tree = ET.parse(f)\n",
    "        root = tree.getroot()\n",
    "    ser = pd.Series([i.text for i in root.findall('.//genre[.=\"Pop\"]/../..//year')]).value_counts()\n",
    "    return [(a,b) for a,b in zip(ser.index, ser)][:10]  "
   ]
  },
  {
   "cell_type": "code",
   "execution_count": 58,
   "metadata": {
    "ExecuteTime": {
     "end_time": "2021-08-03T10:59:14.949509Z",
     "start_time": "2021-08-03T10:58:50.548654Z"
    },
    "deletable": false,
    "editable": false,
    "nbgrader": {
     "cell_type": "code",
     "checksum": "e15706e8ea98177bdf9ebee13c8390ac",
     "grade": true,
     "grade_id": "cell-ba232a51d2a124ca",
     "locked": true,
     "points": 10,
     "schema_version": 3,
     "solution": false,
     "task": false
    }
   },
   "outputs": [],
   "source": [
    "cm = count_masters()\n",
    "assert_equal(\n",
    "    cm[:5],\n",
    "    [('1988', 1317),\n",
    "     ('1989', 1279),\n",
    "     ('1990', 1222),\n",
    "     ('2009', 1147),\n",
    "     ('1987', 1134)]\n",
    ")"
   ]
  },
  {
   "cell_type": "markdown",
   "metadata": {
    "deletable": false,
    "editable": false,
    "nbgrader": {
     "cell_type": "markdown",
     "checksum": "8b3357a8e3477f6d3fba1368cfc53ccf",
     "grade": false,
     "grade_id": "cell-f7c38f2c46f41239",
     "locked": true,
     "schema_version": 3,
     "solution": false,
     "task": false
    }
   },
   "source": [
    "## Problem 1c [5 pts]\n",
    "Create a function `barangay_population` that reads sheet `NCR by barangay` of `/mnt/data/public/census/2020/NCR.xlsx` and returns a `pandas` `DataFrame` with columns `Barangay` and `Population` sorted by decreasing population."
   ]
  },
  {
   "cell_type": "code",
   "execution_count": 59,
   "metadata": {
    "ExecuteTime": {
     "end_time": "2021-08-03T10:59:17.766506Z",
     "start_time": "2021-08-03T10:59:17.759682Z"
    },
    "deletable": false,
    "nbgrader": {
     "cell_type": "code",
     "checksum": "8e08324f2ae295b43f4572488d223f20",
     "grade": false,
     "grade_id": "cell-4fc1ace8072577bf",
     "locked": false,
     "schema_version": 3,
     "solution": true,
     "task": false
    }
   },
   "outputs": [],
   "source": [
    "def barangay_population():\n",
    "    df = pd.read_excel('/mnt/data/public/census/2020/NCR.xlsx',\n",
    "                  sheet_name='NCR by barangay',\n",
    "                 skiprows=10,\n",
    "                 nrows=1769,\n",
    "                 usecols='C:D',\n",
    "                 names=['Barangay','Population'])\n",
    "    df = df.dropna()\n",
    "    df = df[~(df['Barangay'].str.contains('CITY|PATEROS|TONDO|BINONDO|QUIAPO|SAN NICOLAS|SANTA CRUZ|SAMPALOC|SAN MIGUEL|ERMITA|INTRAMUROS|MALATE|PACO|PANDACAN|PORT|SANTA ANA', regex=True))]\n",
    "    return df.sort_values(by='Population', ascending=False)"
   ]
  },
  {
   "cell_type": "code",
   "execution_count": 60,
   "metadata": {
    "ExecuteTime": {
     "end_time": "2021-08-03T10:59:19.139801Z",
     "start_time": "2021-08-03T10:59:18.790835Z"
    },
    "deletable": false,
    "editable": false,
    "nbgrader": {
     "cell_type": "code",
     "checksum": "3a31552eea60399f705f2803dfd257c5",
     "grade": true,
     "grade_id": "cell-a20ac1b01cb0aa89",
     "locked": true,
     "points": 5,
     "schema_version": 3,
     "solution": false,
     "task": false
    }
   },
   "outputs": [],
   "source": [
    "df_bp = barangay_population()\n",
    "assert_equal(df_bp.shape, (1710, 2))\n",
    "assert_equal(df_bp.columns.tolist(), ['Barangay', 'Population'])\n",
    "assert_equal(\n",
    "    df_bp.iloc[:10].to_numpy().tolist(),\n",
    "    [['Barangay 176', 261729.0],\n",
    "     ['Commonwealth', 213229.0],\n",
    "     ['Batasan Hills', 166572.0],\n",
    "     ['Pinagbuhatan', 163598.0],\n",
    "     ['Payatas', 139740.0],\n",
    "     ['Poblacion', 120115.0],\n",
    "     ['Holy Spirit', 111901.0],\n",
    "     ['Barangay 171', 111713.0],\n",
    "     ['Pasong Tamo', 110738.0],\n",
    "     ['Barangay 178', 110224.0]]\n",
    ")"
   ]
  },
  {
   "cell_type": "markdown",
   "metadata": {
    "deletable": false,
    "editable": false,
    "nbgrader": {
     "cell_type": "markdown",
     "checksum": "6cb5457e7b97a27536eaaba693989a48",
     "grade": false,
     "grade_id": "cell-3a6bd1d940ae52ff",
     "locked": true,
     "schema_version": 3,
     "solution": false,
     "task": false
    }
   },
   "source": [
    "# Problem 2"
   ]
  },
  {
   "cell_type": "markdown",
   "metadata": {
    "deletable": false,
    "editable": false,
    "nbgrader": {
     "cell_type": "markdown",
     "checksum": "f38c8ed5807ad82ea9f7004787ebf9a1",
     "grade": false,
     "grade_id": "cell-3f1fbe7f6464e097",
     "locked": true,
     "schema_version": 3,
     "solution": false
    }
   },
   "source": [
    "## Problem 2a [15 pts]\n",
    "\n",
    "Create a function `find_streets` that reads `'/mnt/data/public/gutenberg/1/3/135/135-0.txt` and returns a list of tuples. The first element are street names in the form of `Rue de ___` (case-sensitive) and the second element corresponds to the number of times they occurred in the text. Don't concatenate lines. Return only the 10 most frequent streets sorted by decreasing frequency then name.\n",
    "\n",
    "Hint: look at the resulting captured text then clean them further as required"
   ]
  },
  {
   "cell_type": "code",
   "execution_count": 278,
   "metadata": {
    "ExecuteTime": {
     "end_time": "2021-08-03T09:48:46.809776Z",
     "start_time": "2021-08-03T09:48:46.804934Z"
    },
    "deletable": false,
    "nbgrader": {
     "cell_type": "code",
     "checksum": "d1f2833685ea164f5737f2c23f026ffb",
     "grade": false,
     "grade_id": "cell-92374a2099c9a223",
     "locked": false,
     "schema_version": 3,
     "solution": true,
     "task": false
    }
   },
   "outputs": [],
   "source": [
    "def find_streets():\n",
    "    with open('/mnt/data/public/gutenberg/1/3/135/135-0.txt', 'r') as f:\n",
    "        text = f.read()\n",
    "    reg = re.findall('Rue de (?:[\\w\\'\\\"]+\\s*[\\w\\'\\\"]*)', text)\n",
    "    reg\n",
    "    return pd.Series(reg).value_counts()"
   ]
  },
  {
   "cell_type": "code",
   "execution_count": 37,
   "metadata": {
    "ExecuteTime": {
     "end_time": "2021-08-03T10:50:41.776571Z",
     "start_time": "2021-08-03T10:50:41.742780Z"
    }
   },
   "outputs": [
    {
     "data": {
      "text/plain": [
       "['Rue de Chaffaut',\n",
       " 'Rue de Chaffaut',\n",
       " 'Rue de La Harpe',\n",
       " 'Rue de Rivoli',\n",
       " 'Rue de Paris',\n",
       " \"Rue de l'Ourcine\",\n",
       " 'Rue de Pontoise',\n",
       " \"Rue de l'Épée\",\n",
       " \"Rue de l'Arbalète\",\n",
       " 'Rue de la Clef',\n",
       " 'Rue de Pontoise',\n",
       " 'Rue de Pontoise',\n",
       " 'Rue de Sèvres',\n",
       " 'Rue de Vaugirard',\n",
       " \"Rue de l'Université\",\n",
       " 'Rue de Normandie and',\n",
       " 'Rue de Saintonge there',\n",
       " \"Rue de l'Ouest\\nside\",\n",
       " \"Rue de l'Ouest\",\n",
       " \"Rue de l'Ouest\",\n",
       " \"Rue de l'Ouest\",\n",
       " \"Rue de l'Ouest\",\n",
       " \"Rue de l'Ouest\",\n",
       " 'Rue de la Tour',\n",
       " 'Rue de Pontoise',\n",
       " 'Rue de Pontoise',\n",
       " 'Rue de la Barrière',\n",
       " 'Rue de Charonne were',\n",
       " 'Rue de Cotte',\n",
       " 'Rue de Reuilly\\nfound',\n",
       " 'Rue de la\\nPaix',\n",
       " 'Rue de Grenelle',\n",
       " 'Rue de Grès',\n",
       " 'Rue de Vaugirard',\n",
       " 'Rue de la\\nVerrerie',\n",
       " 'Rue de la Santé',\n",
       " 'Rue de Babylone was',\n",
       " 'Rue de Babylone',\n",
       " \"Rue de l'Ouest\",\n",
       " \"Rue de l'Homme Armé\",\n",
       " \"Rue de l'Ouest\",\n",
       " 'Rue de Babylone and',\n",
       " 'Rue de Babylone',\n",
       " 'Rue de Babylone',\n",
       " 'Rue de Varennes a',\n",
       " 'Rue de Bourgogne and',\n",
       " \"Rue de l'Ouest\",\n",
       " \"Rue de l'Ouest\",\n",
       " \"Rue de l'Ouest\",\n",
       " 'Rue de Sèvres',\n",
       " 'Rue de Babylone with',\n",
       " 'Rue de Babylone',\n",
       " 'Rue de Babylone',\n",
       " \"Rue de l'Ouest\",\n",
       " 'Rue de la Verrerie',\n",
       " 'Rue de la Verrerie_',\n",
       " 'Rue de la Chanvrerie',\n",
       " 'Rue de Bercy',\n",
       " 'Rue de Temple after',\n",
       " 'Rue de la\\nCorderie',\n",
       " 'Rue de Paris was',\n",
       " 'Rue de Thorigny',\n",
       " 'Rue de Thorigny busied',\n",
       " 'Rue de la Verrerie',\n",
       " 'Rue de la Verrerie',\n",
       " 'Rue de la Chanvrerie',\n",
       " 'Rue de la\\nChanvrerie',\n",
       " 'Rue de la\\nGrande',\n",
       " 'Rue de la Chanvrerie',\n",
       " 'Rue de la Petite',\n",
       " 'Rue de la Chanvrerie',\n",
       " 'Rue de Prêcheurs',\n",
       " 'Rue de la Chanvrerie',\n",
       " 'Rue de la Chanvrerie',\n",
       " 'Rue de la Chanvrerie',\n",
       " 'Rue de la Chanvrerie',\n",
       " 'Rue de la Chanvrerie',\n",
       " 'Rue de Cygne',\n",
       " 'Rue de la Chanvrerie',\n",
       " 'Rue de la Chanvrerie',\n",
       " 'Rue de la Chanvrerie',\n",
       " 'Rue de la Chanvrerie',\n",
       " 'Rue de la Petite',\n",
       " 'Rue de la Chanvrerie',\n",
       " 'Rue de Rivoli',\n",
       " 'Rue de Béthisy',\n",
       " 'Rue de la Poterie',\n",
       " 'Rue de la Chanvrerie',\n",
       " 'Rue de la Chanvrerie',\n",
       " 'Rue de la\\nChanvrerie',\n",
       " 'Rue de la Petite',\n",
       " 'Rue de la Chanvrerie',\n",
       " 'Rue de la Petite',\n",
       " 'Rue de la\\nVerrerie',\n",
       " \"Rue de l'Homme Armé\",\n",
       " \"Rue de l'Homme Armé\",\n",
       " 'Rue de la Chanvrerie',\n",
       " \"Rue de l'Homme Armé\",\n",
       " \"Rue de l'Homme Armé\",\n",
       " \"Rue de l'Homme Armé\",\n",
       " 'Rue de Babylone',\n",
       " \"Rue de l'Homme Armé\",\n",
       " \"Rue de l'Homme Armé\",\n",
       " \"Rue de l'Homme\\nArmé\",\n",
       " \"Rue de l'Homme Armé\",\n",
       " 'Rue de la\\nChanvrerie',\n",
       " \"Rue de l'Homme Armé\",\n",
       " 'Rue de la Chanvrerie',\n",
       " 'Rue de la\\nChanvrerie',\n",
       " 'Rue de la Petite',\n",
       " 'Rue de la Petite',\n",
       " 'Rue de la Chanvrerie',\n",
       " 'Rue de la Chanvrerie',\n",
       " 'Rue de la Cossonerie',\n",
       " 'Rue de la\\nChanvrerie',\n",
       " 'Rue de la Chanvrerie',\n",
       " 'Rue de la Chanvrerie',\n",
       " \"Rue de l'Homme\\nArmé\",\n",
       " \"Rue de l'Homme Armé\",\n",
       " 'Rue de Pontoise',\n",
       " 'Rue de la Chanvrerie',\n",
       " 'Rue de la\\nChanvrerie',\n",
       " 'Rue de la Petite',\n",
       " 'Rue de la Roquette',\n",
       " 'Rue de Lappe',\n",
       " \"Rue de l'Échaudé\",\n",
       " 'Rue de la Mortellerie',\n",
       " \"Rue de l'Écharpe\",\n",
       " 'Rue de la Paix',\n",
       " \"Rue de l'Ourcine\",\n",
       " \"Rue de l'Étoile\",\n",
       " 'Rue de Tournon',\n",
       " 'Rue de Provence',\n",
       " \"Rue de l'Homme Armé\",\n",
       " \"Rue de l'Homme Armé\",\n",
       " \"Rue de l'Homme Armé\",\n",
       " \"Rue de l'Homme Armé\",\n",
       " 'Rue de Rivoli',\n",
       " \"Rue de l'Homme Armé\",\n",
       " \"Rue de l'Homme Armé\",\n",
       " \"Rue de l'Homme Armé\",\n",
       " 'Rue de la Chanvrerie',\n",
       " 'Rue de la Chanvrerie',\n",
       " 'Rue de la Chanvrerie',\n",
       " \"Rue de l'Homme Armé\",\n",
       " \"Rue de l'Homme Armé\",\n",
       " \"Rue de l'Homme Armé\",\n",
       " \"Rue de l'Homme Armé\",\n",
       " \"Rue de l'Homme Armé\",\n",
       " \"Rue de l'Homme Armé\",\n",
       " \"Rue de l'Homme\\nArmé\",\n",
       " \"Rue de l'Écharpe\",\n",
       " \"Rue de l'Hôpital\",\n",
       " \"Rue de l'Homme Armé\",\n",
       " \"Rue de l'Homme Armé\"]"
      ]
     },
     "execution_count": 37,
     "metadata": {},
     "output_type": "execute_result"
    }
   ],
   "source": [
    "with open('/mnt/data/public/gutenberg/1/3/135/135-0.txt', 'r') as f:\n",
    "    text = f.read()\n",
    "reg = re.findall('Rue de (?:[\\w\\'\\\"]+\\s*[\\w\\'\\\"]*)', text)\n",
    "reg"
   ]
  },
  {
   "cell_type": "code",
   "execution_count": 48,
   "metadata": {
    "ExecuteTime": {
     "end_time": "2021-08-03T10:53:49.180510Z",
     "start_time": "2021-08-03T10:53:49.169535Z"
    }
   },
   "outputs": [
    {
     "data": {
      "text/plain": [
       "['Rue de Chaffaut',\n",
       " 'Rue de Chaffaut',\n",
       " 'Rue de La Harpe',\n",
       " 'Rue de Rivoli',\n",
       " 'Rue de Paris',\n",
       " \"Rue de l'Ourcine\",\n",
       " 'Rue de Pontoise',\n",
       " \"Rue de l'Épée\",\n",
       " \"Rue de l'Arbalète\",\n",
       " 'Rue de la Clef',\n",
       " 'Rue de Pontoise',\n",
       " 'Rue de Pontoise',\n",
       " 'Rue de Sèvres',\n",
       " 'Rue de Vaugirard',\n",
       " \"Rue de l'Université\",\n",
       " 'Rue de Normandie and',\n",
       " 'Rue de Saintonge there',\n",
       " \"Rue de l'Ouest\\nside\",\n",
       " \"Rue de l'Ouest\",\n",
       " \"Rue de l'Ouest\",\n",
       " \"Rue de l'Ouest\",\n",
       " \"Rue de l'Ouest\",\n",
       " \"Rue de l'Ouest\",\n",
       " 'Rue de la Tour',\n",
       " 'Rue de Pontoise',\n",
       " 'Rue de Pontoise',\n",
       " 'Rue de la Barrière',\n",
       " 'Rue de Charonne were',\n",
       " 'Rue de Cotte',\n",
       " 'Rue de Reuilly\\nfound',\n",
       " 'Rue de la\\nPaix',\n",
       " 'Rue de Grenelle',\n",
       " 'Rue de Grès',\n",
       " 'Rue de Vaugirard',\n",
       " 'Rue de la\\nVerrerie',\n",
       " 'Rue de la Santé',\n",
       " 'Rue de Babylone was',\n",
       " 'Rue de Babylone',\n",
       " \"Rue de l'Ouest\",\n",
       " \"Rue de l'Homme Armé\",\n",
       " \"Rue de l'Ouest\",\n",
       " 'Rue de Babylone and',\n",
       " 'Rue de Babylone',\n",
       " 'Rue de Babylone',\n",
       " 'Rue de Varennes a',\n",
       " 'Rue de Bourgogne and',\n",
       " \"Rue de l'Ouest\",\n",
       " \"Rue de l'Ouest\",\n",
       " \"Rue de l'Ouest\",\n",
       " 'Rue de Sèvres',\n",
       " 'Rue de Babylone with',\n",
       " 'Rue de Babylone',\n",
       " 'Rue de Babylone',\n",
       " \"Rue de l'Ouest\",\n",
       " 'Rue de la Verrerie',\n",
       " 'Rue de la Verrerie_',\n",
       " 'Rue de la Chanvrerie',\n",
       " 'Rue de Bercy',\n",
       " 'Rue de Temple after',\n",
       " 'Rue de la\\nCorderie',\n",
       " 'Rue de Paris was',\n",
       " 'Rue de Thorigny',\n",
       " 'Rue de Thorigny busied',\n",
       " 'Rue de la Verrerie',\n",
       " 'Rue de la Verrerie',\n",
       " 'Rue de la Chanvrerie',\n",
       " 'Rue de la\\nChanvrerie',\n",
       " 'Rue de la\\nGrande',\n",
       " 'Rue de la Chanvrerie',\n",
       " 'Rue de la Petite',\n",
       " 'Rue de la Chanvrerie',\n",
       " 'Rue de Prêcheurs',\n",
       " 'Rue de la Chanvrerie',\n",
       " 'Rue de la Chanvrerie',\n",
       " 'Rue de la Chanvrerie',\n",
       " 'Rue de la Chanvrerie',\n",
       " 'Rue de la Chanvrerie',\n",
       " 'Rue de Cygne',\n",
       " 'Rue de la Chanvrerie',\n",
       " 'Rue de la Chanvrerie',\n",
       " 'Rue de la Chanvrerie',\n",
       " 'Rue de la Chanvrerie',\n",
       " 'Rue de la Petite',\n",
       " 'Rue de la Chanvrerie',\n",
       " 'Rue de Rivoli',\n",
       " 'Rue de Béthisy',\n",
       " 'Rue de la Poterie',\n",
       " 'Rue de la Chanvrerie',\n",
       " 'Rue de la Chanvrerie',\n",
       " 'Rue de la\\nChanvrerie',\n",
       " 'Rue de la Petite',\n",
       " 'Rue de la Chanvrerie',\n",
       " 'Rue de la Petite',\n",
       " 'Rue de la\\nVerrerie',\n",
       " \"Rue de l'Homme Armé\",\n",
       " \"Rue de l'Homme Armé\",\n",
       " 'Rue de la Chanvrerie',\n",
       " \"Rue de l'Homme Armé\",\n",
       " \"Rue de l'Homme Armé\",\n",
       " \"Rue de l'Homme Armé\",\n",
       " 'Rue de Babylone',\n",
       " \"Rue de l'Homme Armé\",\n",
       " \"Rue de l'Homme Armé\",\n",
       " \"Rue de l'Homme\\nArmé\",\n",
       " \"Rue de l'Homme Armé\",\n",
       " 'Rue de la\\nChanvrerie',\n",
       " \"Rue de l'Homme Armé\",\n",
       " 'Rue de la Chanvrerie',\n",
       " 'Rue de la\\nChanvrerie',\n",
       " 'Rue de la Petite',\n",
       " 'Rue de la Petite',\n",
       " 'Rue de la Chanvrerie',\n",
       " 'Rue de la Chanvrerie',\n",
       " 'Rue de la Cossonerie',\n",
       " 'Rue de la\\nChanvrerie',\n",
       " 'Rue de la Chanvrerie',\n",
       " 'Rue de la Chanvrerie',\n",
       " \"Rue de l'Homme\\nArmé\",\n",
       " \"Rue de l'Homme Armé\",\n",
       " 'Rue de Pontoise',\n",
       " 'Rue de la Chanvrerie',\n",
       " 'Rue de la\\nChanvrerie',\n",
       " 'Rue de la Petite',\n",
       " 'Rue de la Roquette',\n",
       " 'Rue de Lappe',\n",
       " \"Rue de l'Échaudé\",\n",
       " 'Rue de la Mortellerie',\n",
       " \"Rue de l'Écharpe\",\n",
       " 'Rue de la Paix',\n",
       " \"Rue de l'Ourcine\",\n",
       " \"Rue de l'Étoile\",\n",
       " 'Rue de Tournon',\n",
       " 'Rue de Provence',\n",
       " \"Rue de l'Homme Armé\",\n",
       " \"Rue de l'Homme Armé\",\n",
       " \"Rue de l'Homme Armé\",\n",
       " \"Rue de l'Homme Armé\",\n",
       " 'Rue de Rivoli',\n",
       " \"Rue de l'Homme Armé\",\n",
       " \"Rue de l'Homme Armé\",\n",
       " \"Rue de l'Homme Armé\",\n",
       " 'Rue de la Chanvrerie',\n",
       " 'Rue de la Chanvrerie',\n",
       " 'Rue de la Chanvrerie',\n",
       " \"Rue de l'Homme Armé\",\n",
       " \"Rue de l'Homme Armé\",\n",
       " \"Rue de l'Homme Armé\",\n",
       " \"Rue de l'Homme Armé\",\n",
       " \"Rue de l'Homme Armé\",\n",
       " \"Rue de l'Homme Armé\",\n",
       " \"Rue de l'Homme\\nArmé\",\n",
       " \"Rue de l'Écharpe\",\n",
       " \"Rue de l'Hôpital\",\n",
       " \"Rue de l'Homme Armé\",\n",
       " \"Rue de l'Homme Armé\"]"
      ]
     },
     "execution_count": 48,
     "metadata": {},
     "output_type": "execute_result"
    }
   ],
   "source": [
    "reg = re.findall('(Rue de (?:[\\w\\'\\\"]+\\s*[\\w\\'\\\"]*))', text)\n",
    "reg"
   ]
  },
  {
   "cell_type": "code",
   "execution_count": null,
   "metadata": {
    "ExecuteTime": {
     "end_time": "2021-08-03T03:16:05.051612Z",
     "start_time": "2021-08-03T03:16:05.014081Z"
    },
    "deletable": false,
    "editable": false,
    "nbgrader": {
     "cell_type": "code",
     "checksum": "d360142ba0dca858679ec8f6e1d354bd",
     "grade": true,
     "grade_id": "cell-b713499a21616f02",
     "locked": true,
     "points": 15,
     "schema_version": 3,
     "solution": false,
     "task": false
    }
   },
   "outputs": [],
   "source": [
    "fs = find_streets()\n",
    "assert_equal(\n",
    "    fs[:5],\n",
    "    [('Rue de la Chanvrerie', 27),\n",
    "     (\"Rue de l'Homme Armé\", 26),\n",
    "     (\"Rue de l'Ouest\", 12),\n",
    "     ('Rue de la', 11),\n",
    "     ('Rue de Babylone', 9)]\n",
    ")"
   ]
  },
  {
   "cell_type": "markdown",
   "metadata": {
    "deletable": false,
    "editable": false,
    "nbgrader": {
     "cell_type": "markdown",
     "checksum": "44ba643483b85f9aa3d5892552e9e798",
     "grade": false,
     "grade_id": "cell-78f40697adbacb8b",
     "locked": true,
     "schema_version": 3,
     "solution": false,
     "task": false
    }
   },
   "source": [
    "## Problem 2b [10 pts]\n",
    "\n",
    "Create a function `find_anti` that reads `/mnt/data/public/agora/Agora.csv` and returns a pandas `Series` with index corresponding to the first case-insensitive alphabetic word in `Item Description` that begins with `anti` or `anti-`, and value corresponding to the number of rows that word was identified. Return only the 10 most frequent words sorted by decreasing frequency then by ascending name."
   ]
  },
  {
   "cell_type": "markdown",
   "metadata": {},
   "source": [
    "sensistive dapat"
   ]
  },
  {
   "cell_type": "code",
   "execution_count": 53,
   "metadata": {
    "ExecuteTime": {
     "end_time": "2021-08-03T10:57:48.603684Z",
     "start_time": "2021-08-03T10:57:48.595348Z"
    },
    "deletable": false,
    "nbgrader": {
     "cell_type": "code",
     "checksum": "f6418c7465c469387a4d6a9ce9143af7",
     "grade": false,
     "grade_id": "cell-367cac43560ce937",
     "locked": false,
     "schema_version": 3,
     "solution": true,
     "task": false
    }
   },
   "outputs": [],
   "source": [
    "def find_anti():\n",
    "    df10 = pd.read_csv('/mnt/data/public/agora/Agora.csv').dropna(subset=[' Item Description'])\n",
    "    df_anti = df10[df10[' Item Description'].str.contains('[^\\w]\\s?anti-?', regex=True)]\n",
    "    df_anti['anti'] = df_anti[' Item Description'].apply(lambda x: re.findall(r'(anti-?\\w+)', x))\n",
    "    df_anti['anti'] = df_anti['anti'].astype(str)\n",
    "    df_anti['anti'] = df_anti['anti'].apply(lambda x: x[1:-1])\n",
    "    df_anti['anti'] = df_anti['anti'].apply(lambda x: x[1:-1])\n",
    "    return df_anti.groupby('anti')[' Item'].count().sort_values(ascending=False)"
   ]
  },
  {
   "cell_type": "code",
   "execution_count": 87,
   "metadata": {
    "ExecuteTime": {
     "end_time": "2021-08-03T08:11:50.695367Z",
     "start_time": "2021-08-03T08:11:50.067604Z"
    }
   },
   "outputs": [],
   "source": [
    "df10 = pd.read_csv('/mnt/data/public/agora/Agora.csv').dropna(subset=[' Item Description'])\n",
    "# df10 = pd.read_csv('/mnt/data/public/agora/Agora.csv')"
   ]
  },
  {
   "cell_type": "code",
   "execution_count": 61,
   "metadata": {
    "ExecuteTime": {
     "end_time": "2021-08-03T08:00:48.622193Z",
     "start_time": "2021-08-03T08:00:48.563527Z"
    }
   },
   "outputs": [
    {
     "data": {
      "text/plain": [
       "Vendor                   0\n",
       " Category                0\n",
       " Item                    0\n",
       " Item Description        0\n",
       " Price                   2\n",
       " Origin               9875\n",
       " Destination         49134\n",
       " Rating                 11\n",
       " Remarks             97058\n",
       "dtype: int64"
      ]
     },
     "execution_count": 61,
     "metadata": {},
     "output_type": "execute_result"
    }
   ],
   "source": [
    "df10.isna().sum()"
   ]
  },
  {
   "cell_type": "code",
   "execution_count": null,
   "metadata": {},
   "outputs": [],
   "source": []
  },
  {
   "cell_type": "code",
   "execution_count": 73,
   "metadata": {
    "ExecuteTime": {
     "end_time": "2021-08-03T08:06:00.116550Z",
     "start_time": "2021-08-03T08:05:59.949795Z"
    }
   },
   "outputs": [],
   "source": [
    "df10['anti-'] = df10[' Item Description'].apply(lambda x: re.match('\\S?anti-?',x))"
   ]
  },
  {
   "cell_type": "code",
   "execution_count": 97,
   "metadata": {
    "ExecuteTime": {
     "end_time": "2021-08-03T08:15:23.281481Z",
     "start_time": "2021-08-03T08:15:22.694268Z"
    }
   },
   "outputs": [
    {
     "data": {
      "text/html": [
       "<div>\n",
       "<style scoped>\n",
       "    .dataframe tbody tr th:only-of-type {\n",
       "        vertical-align: middle;\n",
       "    }\n",
       "\n",
       "    .dataframe tbody tr th {\n",
       "        vertical-align: top;\n",
       "    }\n",
       "\n",
       "    .dataframe thead th {\n",
       "        text-align: right;\n",
       "    }\n",
       "</style>\n",
       "<table border=\"1\" class=\"dataframe\">\n",
       "  <thead>\n",
       "    <tr style=\"text-align: right;\">\n",
       "      <th></th>\n",
       "      <th>Vendor</th>\n",
       "      <th>Category</th>\n",
       "      <th>Item</th>\n",
       "      <th>Item Description</th>\n",
       "      <th>Price</th>\n",
       "      <th>Origin</th>\n",
       "      <th>Destination</th>\n",
       "      <th>Rating</th>\n",
       "      <th>Remarks</th>\n",
       "    </tr>\n",
       "  </thead>\n",
       "  <tbody>\n",
       "    <tr>\n",
       "      <th>1394</th>\n",
       "      <td>KryptykOG</td>\n",
       "      <td>Data/Software</td>\n",
       "      <td>Portable USB APPS MEGAPACK *Huge*</td>\n",
       "      <td>Great for business trips! This listing is a pe...</td>\n",
       "      <td>0.007499999999999978 BTC</td>\n",
       "      <td>Torland</td>\n",
       "      <td>NaN</td>\n",
       "      <td>4.93/5</td>\n",
       "      <td>NaN</td>\n",
       "    </tr>\n",
       "    <tr>\n",
       "      <th>1456</th>\n",
       "      <td>sereal</td>\n",
       "      <td>Data/Software</td>\n",
       "      <td>Malwarebytes Anti-Malware Premium : license</td>\n",
       "      <td>Malwarebytes Anti-Malware Premium license. Ful...</td>\n",
       "      <td>0.05078811515873015 BTC</td>\n",
       "      <td>Torland</td>\n",
       "      <td>NaN</td>\n",
       "      <td>4.97/5</td>\n",
       "      <td>NaN</td>\n",
       "    </tr>\n",
       "    <tr>\n",
       "      <th>2168</th>\n",
       "      <td>captainkirk</td>\n",
       "      <td>Information/eBooks</td>\n",
       "      <td>eBay Listings That Sell For Dummies</td>\n",
       "      <td>No matter what you want to sell on eBay—auto p...</td>\n",
       "      <td>0.003456964111111111 BTC</td>\n",
       "      <td>Internet</td>\n",
       "      <td>Everywhere</td>\n",
       "      <td>4.988/5</td>\n",
       "      <td>NaN</td>\n",
       "    </tr>\n",
       "    <tr>\n",
       "      <th>2554</th>\n",
       "      <td>stiffstyles</td>\n",
       "      <td>Drugs/Steroids</td>\n",
       "      <td>100iu HGH- Kigtropin human growth hormone</td>\n",
       "      <td>NO AUSSIE ORDERS  100iu HGH- Kigtropin human g...</td>\n",
       "      <td>2.334650155 BTC</td>\n",
       "      <td>Torland</td>\n",
       "      <td>NaN</td>\n",
       "      <td>4.92/5</td>\n",
       "      <td>Average price may be skewed outliar &gt; .5 BTC f...</td>\n",
       "    </tr>\n",
       "    <tr>\n",
       "      <th>2878</th>\n",
       "      <td>theben</td>\n",
       "      <td>Drugs/Steroids</td>\n",
       "      <td>Tamoxifen Citrate (Genesis)  100 tabs x 10mg</td>\n",
       "      <td>Nolvadex®   a trade name for the drug tamoxife...</td>\n",
       "      <td>0.16246157464285724 BTC</td>\n",
       "      <td>EU</td>\n",
       "      <td>NaN</td>\n",
       "      <td>5.00/5</td>\n",
       "      <td>NaN</td>\n",
       "    </tr>\n",
       "    <tr>\n",
       "      <th>...</th>\n",
       "      <td>...</td>\n",
       "      <td>...</td>\n",
       "      <td>...</td>\n",
       "      <td>...</td>\n",
       "      <td>...</td>\n",
       "      <td>...</td>\n",
       "      <td>...</td>\n",
       "      <td>...</td>\n",
       "      <td>...</td>\n",
       "    </tr>\n",
       "    <tr>\n",
       "      <th>105285</th>\n",
       "      <td>hammau21</td>\n",
       "      <td>Drugs/Benzos</td>\n",
       "      <td>10x Xanax 2mg</td>\n",
       "      <td>2mg Xanax Bars. Xanax (alprazolam) is a benzod...</td>\n",
       "      <td>0.07319572 BTC</td>\n",
       "      <td>USA</td>\n",
       "      <td>NaN</td>\n",
       "      <td>~5/5</td>\n",
       "      <td>NaN</td>\n",
       "    </tr>\n",
       "    <tr>\n",
       "      <th>105292</th>\n",
       "      <td>hammau21</td>\n",
       "      <td>Drugs/Benzos</td>\n",
       "      <td>25x Xanax 2mg</td>\n",
       "      <td>2mg Xanax Bars. Xanax (alprazolam) is a benzod...</td>\n",
       "      <td>0.15684798 BTC</td>\n",
       "      <td>USA</td>\n",
       "      <td>USA</td>\n",
       "      <td>~5/5</td>\n",
       "      <td>NaN</td>\n",
       "    </tr>\n",
       "    <tr>\n",
       "      <th>105604</th>\n",
       "      <td>RushDelivery</td>\n",
       "      <td>Drugs/Cannabis/Synthetics</td>\n",
       "      <td>Cesamet (nabilone) 0.5mg capsules (brand) [x5]</td>\n",
       "      <td>This listing is for 5 Canadian brand name Cesa...</td>\n",
       "      <td>0.15332472 BTC</td>\n",
       "      <td>Canada</td>\n",
       "      <td>Worldwide</td>\n",
       "      <td>[0 deals]</td>\n",
       "      <td>NaN</td>\n",
       "    </tr>\n",
       "    <tr>\n",
       "      <th>109219</th>\n",
       "      <td>fake</td>\n",
       "      <td>Counterfeits/Electronics</td>\n",
       "      <td>Telefonul anti interceptare</td>\n",
       "      <td>Afla acum daca telefonul iti este ascultat.  T...</td>\n",
       "      <td>1.2678413350000004 BTC</td>\n",
       "      <td>NaN</td>\n",
       "      <td>NaN</td>\n",
       "      <td>4.782/5</td>\n",
       "      <td>Average price may be skewed outliar &gt; .5 BTC f...</td>\n",
       "    </tr>\n",
       "    <tr>\n",
       "      <th>109674</th>\n",
       "      <td>TheAmericanOutfit</td>\n",
       "      <td>Drugs/Opioids/Opium</td>\n",
       "      <td>Methadone</td>\n",
       "      <td>Methadone (also known as Symoron  Dolophine  A...</td>\n",
       "      <td>0.052524395 BTC</td>\n",
       "      <td>USA</td>\n",
       "      <td>NaN</td>\n",
       "      <td>[0 deals]</td>\n",
       "      <td>NaN</td>\n",
       "    </tr>\n",
       "  </tbody>\n",
       "</table>\n",
       "<p>427 rows × 9 columns</p>\n",
       "</div>"
      ],
      "text/plain": [
       "                   Vendor                   Category  \\\n",
       "1394            KryptykOG              Data/Software   \n",
       "1456               sereal              Data/Software   \n",
       "2168          captainkirk         Information/eBooks   \n",
       "2554          stiffstyles             Drugs/Steroids   \n",
       "2878               theben             Drugs/Steroids   \n",
       "...                   ...                        ...   \n",
       "105285           hammau21               Drugs/Benzos   \n",
       "105292           hammau21               Drugs/Benzos   \n",
       "105604       RushDelivery  Drugs/Cannabis/Synthetics   \n",
       "109219               fake   Counterfeits/Electronics   \n",
       "109674  TheAmericanOutfit        Drugs/Opioids/Opium   \n",
       "\n",
       "                                                  Item  \\\n",
       "1394                 Portable USB APPS MEGAPACK *Huge*   \n",
       "1456       Malwarebytes Anti-Malware Premium : license   \n",
       "2168               eBay Listings That Sell For Dummies   \n",
       "2554         100iu HGH- Kigtropin human growth hormone   \n",
       "2878      Tamoxifen Citrate (Genesis)  100 tabs x 10mg   \n",
       "...                                                ...   \n",
       "105285                                   10x Xanax 2mg   \n",
       "105292                                   25x Xanax 2mg   \n",
       "105604  Cesamet (nabilone) 0.5mg capsules (brand) [x5]   \n",
       "109219                     Telefonul anti interceptare   \n",
       "109674                                       Methadone   \n",
       "\n",
       "                                         Item Description  \\\n",
       "1394    Great for business trips! This listing is a pe...   \n",
       "1456    Malwarebytes Anti-Malware Premium license. Ful...   \n",
       "2168    No matter what you want to sell on eBay—auto p...   \n",
       "2554    NO AUSSIE ORDERS  100iu HGH- Kigtropin human g...   \n",
       "2878    Nolvadex®   a trade name for the drug tamoxife...   \n",
       "...                                                   ...   \n",
       "105285  2mg Xanax Bars. Xanax (alprazolam) is a benzod...   \n",
       "105292  2mg Xanax Bars. Xanax (alprazolam) is a benzod...   \n",
       "105604  This listing is for 5 Canadian brand name Cesa...   \n",
       "109219  Afla acum daca telefonul iti este ascultat.  T...   \n",
       "109674  Methadone (also known as Symoron  Dolophine  A...   \n",
       "\n",
       "                           Price    Origin  Destination     Rating  \\\n",
       "1394    0.007499999999999978 BTC   Torland          NaN     4.93/5   \n",
       "1456     0.05078811515873015 BTC   Torland          NaN     4.97/5   \n",
       "2168    0.003456964111111111 BTC  Internet   Everywhere    4.988/5   \n",
       "2554             2.334650155 BTC   Torland          NaN     4.92/5   \n",
       "2878     0.16246157464285724 BTC        EU          NaN     5.00/5   \n",
       "...                          ...       ...          ...        ...   \n",
       "105285            0.07319572 BTC       USA          NaN       ~5/5   \n",
       "105292            0.15684798 BTC       USA          USA       ~5/5   \n",
       "105604            0.15332472 BTC    Canada    Worldwide  [0 deals]   \n",
       "109219    1.2678413350000004 BTC       NaN          NaN    4.782/5   \n",
       "109674           0.052524395 BTC       USA          NaN  [0 deals]   \n",
       "\n",
       "                                                  Remarks  \n",
       "1394                                                  NaN  \n",
       "1456                                                  NaN  \n",
       "2168                                                  NaN  \n",
       "2554    Average price may be skewed outliar > .5 BTC f...  \n",
       "2878                                                  NaN  \n",
       "...                                                   ...  \n",
       "105285                                                NaN  \n",
       "105292                                                NaN  \n",
       "105604                                                NaN  \n",
       "109219  Average price may be skewed outliar > .5 BTC f...  \n",
       "109674                                                NaN  \n",
       "\n",
       "[427 rows x 9 columns]"
      ]
     },
     "execution_count": 97,
     "metadata": {},
     "output_type": "execute_result"
    }
   ],
   "source": []
  },
  {
   "cell_type": "code",
   "execution_count": 138,
   "metadata": {
    "ExecuteTime": {
     "end_time": "2021-08-03T08:30:04.450126Z",
     "start_time": "2021-08-03T08:30:03.315559Z"
    },
    "deletable": false,
    "editable": false,
    "nbgrader": {
     "cell_type": "code",
     "checksum": "0b6c6f209aff8d16fffb876d819601a9",
     "grade": true,
     "grade_id": "cell-f0d524f922f7faa9",
     "locked": true,
     "points": 10,
     "schema_version": 3,
     "solution": false,
     "task": false
    }
   },
   "outputs": [
    {
     "name": "stderr",
     "output_type": "stream",
     "text": [
      "<ipython-input-137-8d00d615f67a>:4: SettingWithCopyWarning: \n",
      "A value is trying to be set on a copy of a slice from a DataFrame.\n",
      "Try using .loc[row_indexer,col_indexer] = value instead\n",
      "\n",
      "See the caveats in the documentation: https://pandas.pydata.org/pandas-docs/stable/user_guide/indexing.html#returning-a-view-versus-a-copy\n",
      "  df_anti['anti'] = df_anti[' Item Description'].apply(lambda x: re.findall(r'(anti-?\\w+)', x))\n",
      "<ipython-input-137-8d00d615f67a>:5: SettingWithCopyWarning: \n",
      "A value is trying to be set on a copy of a slice from a DataFrame.\n",
      "Try using .loc[row_indexer,col_indexer] = value instead\n",
      "\n",
      "See the caveats in the documentation: https://pandas.pydata.org/pandas-docs/stable/user_guide/indexing.html#returning-a-view-versus-a-copy\n",
      "  df_anti['anti'] = df_anti['anti'].astype(str)\n",
      "<ipython-input-137-8d00d615f67a>:6: SettingWithCopyWarning: \n",
      "A value is trying to be set on a copy of a slice from a DataFrame.\n",
      "Try using .loc[row_indexer,col_indexer] = value instead\n",
      "\n",
      "See the caveats in the documentation: https://pandas.pydata.org/pandas-docs/stable/user_guide/indexing.html#returning-a-view-versus-a-copy\n",
      "  df_anti['anti'] = df_anti['anti'].apply(lambda x: x[1:-1])\n"
     ]
    },
    {
     "ename": "AssertionError",
     "evalue": "\nItems are not equal:\nitem=0\n\n ACTUAL: \"'anti-inflammatory'\"\n DESIRED: 'anti-inflammatory'",
     "output_type": "error",
     "traceback": [
      "\u001b[0;31m---------------------------------------------------------------------------\u001b[0m",
      "\u001b[0;31mAssertionError\u001b[0m                            Traceback (most recent call last)",
      "\u001b[0;32m<ipython-input-138-b1f3e198fa1a>\u001b[0m in \u001b[0;36m<module>\u001b[0;34m\u001b[0m\n\u001b[1;32m      1\u001b[0m \u001b[0mantis\u001b[0m \u001b[0;34m=\u001b[0m \u001b[0mfind_anti\u001b[0m\u001b[0;34m(\u001b[0m\u001b[0;34m)\u001b[0m\u001b[0;34m\u001b[0m\u001b[0;34m\u001b[0m\u001b[0m\n\u001b[0;32m----> 2\u001b[0;31m assert_equal(\n\u001b[0m\u001b[1;32m      3\u001b[0m     \u001b[0mantis\u001b[0m\u001b[0;34m.\u001b[0m\u001b[0mindex\u001b[0m\u001b[0;34m[\u001b[0m\u001b[0;34m:\u001b[0m\u001b[0;36m5\u001b[0m\u001b[0;34m]\u001b[0m\u001b[0;34m.\u001b[0m\u001b[0mtolist\u001b[0m\u001b[0;34m(\u001b[0m\u001b[0;34m)\u001b[0m\u001b[0;34m,\u001b[0m\u001b[0;34m\u001b[0m\u001b[0;34m\u001b[0m\u001b[0m\n\u001b[1;32m      4\u001b[0m     ['anti-inflammatory', 'anti-depressant', 'antidepressant', 'antibiotic',\n\u001b[1;32m      5\u001b[0m      'anti-magnetic']\n",
      "    \u001b[0;31m[... skipping hidden 1 frame]\u001b[0m\n",
      "\u001b[0;32m/opt/conda/lib/python3.8/site-packages/numpy/testing/_private/utils.py\u001b[0m in \u001b[0;36massert_equal\u001b[0;34m(actual, desired, err_msg, verbose)\u001b[0m\n\u001b[1;32m    419\u001b[0m         \u001b[0;31m# Explicitly use __eq__ for comparison, gh-2552\u001b[0m\u001b[0;34m\u001b[0m\u001b[0;34m\u001b[0m\u001b[0;34m\u001b[0m\u001b[0m\n\u001b[1;32m    420\u001b[0m         \u001b[0;32mif\u001b[0m \u001b[0;32mnot\u001b[0m \u001b[0;34m(\u001b[0m\u001b[0mdesired\u001b[0m \u001b[0;34m==\u001b[0m \u001b[0mactual\u001b[0m\u001b[0;34m)\u001b[0m\u001b[0;34m:\u001b[0m\u001b[0;34m\u001b[0m\u001b[0;34m\u001b[0m\u001b[0m\n\u001b[0;32m--> 421\u001b[0;31m             \u001b[0;32mraise\u001b[0m \u001b[0mAssertionError\u001b[0m\u001b[0;34m(\u001b[0m\u001b[0mmsg\u001b[0m\u001b[0;34m)\u001b[0m\u001b[0;34m\u001b[0m\u001b[0;34m\u001b[0m\u001b[0m\n\u001b[0m\u001b[1;32m    422\u001b[0m \u001b[0;34m\u001b[0m\u001b[0m\n\u001b[1;32m    423\u001b[0m     \u001b[0;32mexcept\u001b[0m \u001b[0;34m(\u001b[0m\u001b[0mDeprecationWarning\u001b[0m\u001b[0;34m,\u001b[0m \u001b[0mFutureWarning\u001b[0m\u001b[0;34m)\u001b[0m \u001b[0;32mas\u001b[0m \u001b[0me\u001b[0m\u001b[0;34m:\u001b[0m\u001b[0;34m\u001b[0m\u001b[0;34m\u001b[0m\u001b[0m\n",
      "\u001b[0;31mAssertionError\u001b[0m: \nItems are not equal:\nitem=0\n\n ACTUAL: \"'anti-inflammatory'\"\n DESIRED: 'anti-inflammatory'"
     ]
    }
   ],
   "source": [
    "antis = find_anti()\n",
    "assert_equal(\n",
    "    antis.index[:5].tolist(),\n",
    "    ['anti-inflammatory', 'anti-depressant', 'antidepressant', 'antibiotic',\n",
    "     'anti-magnetic']\n",
    ")\n",
    "assert_equal(\n",
    "    antis[:5].tolist(),\n",
    "    [31, 29, 26, 24, 21]\n",
    ")"
   ]
  },
  {
   "cell_type": "markdown",
   "metadata": {
    "deletable": false,
    "editable": false,
    "nbgrader": {
     "cell_type": "markdown",
     "checksum": "2d5f89f70fe5b2ff846971e5267871f3",
     "grade": false,
     "grade_id": "cell-242ed71b2327749f",
     "locked": true,
     "schema_version": 3,
     "solution": false,
     "task": false
    }
   },
   "source": [
    "# Problem 3 [25 pts]"
   ]
  },
  {
   "cell_type": "markdown",
   "metadata": {
    "deletable": false,
    "editable": false,
    "nbgrader": {
     "cell_type": "markdown",
     "checksum": "05adb62b3169356cca17594672c3d667",
     "grade": false,
     "grade_id": "cell-3ecaefa7cbd693b4",
     "locked": true,
     "schema_version": 3,
     "solution": false,
     "task": false
    }
   },
   "source": [
    "For this problem, you will work on the sqlite database `/mnt/data/public/nle2019.db`."
   ]
  },
  {
   "cell_type": "markdown",
   "metadata": {
    "ExecuteTime": {
     "end_time": "2021-08-03T04:26:57.771678Z",
     "start_time": "2021-08-03T04:26:57.765007Z"
    },
    "deletable": false,
    "editable": false,
    "nbgrader": {
     "cell_type": "markdown",
     "checksum": "cdf9738ba82fbbe6eea4a9dccace68a8",
     "grade": false,
     "grade_id": "cell-1c9fc47667979bbf",
     "locked": true,
     "schema_version": 3,
     "solution": false,
     "task": false
    }
   },
   "source": [
    "The schema of the tables within the database is shown below."
   ]
  },
  {
   "cell_type": "markdown",
   "metadata": {
    "deletable": false,
    "editable": false,
    "nbgrader": {
     "cell_type": "markdown",
     "checksum": "07c363359ff05c221378b71afd1fb511",
     "grade": false,
     "grade_id": "cell-b5ac64297cc3d502",
     "locked": true,
     "schema_version": 3,
     "solution": false,
     "task": false
    }
   },
   "source": [
    "<img src=\"election_schema.png\" width=\"600px\" />"
   ]
  },
  {
   "cell_type": "markdown",
   "metadata": {},
   "source": [
    "## Problem 3a [10 pts]\n",
    "\n",
    "Create a function `get_num_members` that returns a pandas data framee of all party names and the number of candidates in each party running for a national position. The list should be sorted first in descending number of members then in ascending party names."
   ]
  },
  {
   "cell_type": "code",
   "execution_count": 61,
   "metadata": {
    "ExecuteTime": {
     "end_time": "2021-08-03T10:59:36.271571Z",
     "start_time": "2021-08-03T10:59:36.267063Z"
    },
    "deletable": false,
    "nbgrader": {
     "cell_type": "code",
     "checksum": "f7b721925205f93b6eaefcccd6fa5cce",
     "grade": false,
     "grade_id": "cell-011e02ebe43f9c58",
     "locked": false,
     "schema_version": 3,
     "solution": true,
     "task": false
    }
   },
   "outputs": [],
   "source": [
    "def get_num_members():\n",
    "    with sqlite3.connect('/mnt/data/public/nle2019.db') as conn:\n",
    "        query = \"\"\"\n",
    "        SELECT party, COUNT(name) as count\n",
    "        FROM candidate\n",
    "        WHERE level = 'national'\n",
    "        GROUP BY party\n",
    "        ORDER BY count DESC, party ASC\n",
    "        \"\"\"\n",
    "    df = pd.read_sql(query, conn)\n",
    "    return df"
   ]
  },
  {
   "cell_type": "code",
   "execution_count": 62,
   "metadata": {
    "ExecuteTime": {
     "end_time": "2021-08-03T11:00:03.996381Z",
     "start_time": "2021-08-03T10:59:37.317522Z"
    }
   },
   "outputs": [
    {
     "ename": "KeyboardInterrupt",
     "evalue": "",
     "output_type": "error",
     "traceback": [
      "\u001b[0;31m---------------------------------------------------------------------------\u001b[0m",
      "\u001b[0;31mKeyboardInterrupt\u001b[0m                         Traceback (most recent call last)",
      "\u001b[0;32m<ipython-input-62-53fea0084c38>\u001b[0m in \u001b[0;36m<module>\u001b[0;34m\u001b[0m\n\u001b[1;32m      4\u001b[0m \u001b[0mtable_list\u001b[0m \u001b[0;34m=\u001b[0m \u001b[0;34m[\u001b[0m\u001b[0ma\u001b[0m \u001b[0;32mfor\u001b[0m \u001b[0ma\u001b[0m \u001b[0;32min\u001b[0m \u001b[0mcursor\u001b[0m\u001b[0;34m.\u001b[0m\u001b[0mexecute\u001b[0m\u001b[0;34m(\u001b[0m\u001b[0;34m\"SELECT name FROM sqlite_master WHERE type = 'table'\"\u001b[0m\u001b[0;34m)\u001b[0m\u001b[0;34m]\u001b[0m\u001b[0;34m\u001b[0m\u001b[0;34m\u001b[0m\u001b[0m\n\u001b[1;32m      5\u001b[0m \u001b[0mdf_cand\u001b[0m \u001b[0;34m=\u001b[0m \u001b[0mpd\u001b[0m\u001b[0;34m.\u001b[0m\u001b[0mread_sql\u001b[0m\u001b[0;34m(\u001b[0m\u001b[0;34m'select * from candidate'\u001b[0m\u001b[0;34m,\u001b[0m \u001b[0mconn\u001b[0m\u001b[0;34m)\u001b[0m\u001b[0;34m\u001b[0m\u001b[0;34m\u001b[0m\u001b[0m\n\u001b[0;32m----> 6\u001b[0;31m \u001b[0mdf_result\u001b[0m \u001b[0;34m=\u001b[0m \u001b[0mpd\u001b[0m\u001b[0;34m.\u001b[0m\u001b[0mread_sql\u001b[0m\u001b[0;34m(\u001b[0m\u001b[0;34m'select * from result'\u001b[0m\u001b[0;34m,\u001b[0m \u001b[0mconn\u001b[0m\u001b[0;34m)\u001b[0m\u001b[0;34m\u001b[0m\u001b[0;34m\u001b[0m\u001b[0m\n\u001b[0m\u001b[1;32m      7\u001b[0m \u001b[0mprint\u001b[0m\u001b[0;34m(\u001b[0m\u001b[0mtable_list\u001b[0m\u001b[0;34m)\u001b[0m\u001b[0;34m\u001b[0m\u001b[0;34m\u001b[0m\u001b[0m\n\u001b[1;32m      8\u001b[0m \u001b[0mconn\u001b[0m\u001b[0;34m.\u001b[0m\u001b[0mclose\u001b[0m\u001b[0;34m(\u001b[0m\u001b[0;34m)\u001b[0m\u001b[0;34m\u001b[0m\u001b[0;34m\u001b[0m\u001b[0m\n",
      "\u001b[0;32m/opt/conda/lib/python3.8/site-packages/pandas/io/sql.py\u001b[0m in \u001b[0;36mread_sql\u001b[0;34m(sql, con, index_col, coerce_float, params, parse_dates, columns, chunksize)\u001b[0m\n\u001b[1;32m    493\u001b[0m \u001b[0;34m\u001b[0m\u001b[0m\n\u001b[1;32m    494\u001b[0m     \u001b[0;32mif\u001b[0m \u001b[0misinstance\u001b[0m\u001b[0;34m(\u001b[0m\u001b[0mpandas_sql\u001b[0m\u001b[0;34m,\u001b[0m \u001b[0mSQLiteDatabase\u001b[0m\u001b[0;34m)\u001b[0m\u001b[0;34m:\u001b[0m\u001b[0;34m\u001b[0m\u001b[0;34m\u001b[0m\u001b[0m\n\u001b[0;32m--> 495\u001b[0;31m         return pandas_sql.read_query(\n\u001b[0m\u001b[1;32m    496\u001b[0m             \u001b[0msql\u001b[0m\u001b[0;34m,\u001b[0m\u001b[0;34m\u001b[0m\u001b[0;34m\u001b[0m\u001b[0m\n\u001b[1;32m    497\u001b[0m             \u001b[0mindex_col\u001b[0m\u001b[0;34m=\u001b[0m\u001b[0mindex_col\u001b[0m\u001b[0;34m,\u001b[0m\u001b[0;34m\u001b[0m\u001b[0;34m\u001b[0m\u001b[0m\n",
      "\u001b[0;32m/opt/conda/lib/python3.8/site-packages/pandas/io/sql.py\u001b[0m in \u001b[0;36mread_query\u001b[0;34m(self, sql, index_col, coerce_float, params, parse_dates, chunksize)\u001b[0m\n\u001b[1;32m   1782\u001b[0m             )\n\u001b[1;32m   1783\u001b[0m         \u001b[0;32melse\u001b[0m\u001b[0;34m:\u001b[0m\u001b[0;34m\u001b[0m\u001b[0;34m\u001b[0m\u001b[0m\n\u001b[0;32m-> 1784\u001b[0;31m             \u001b[0mdata\u001b[0m \u001b[0;34m=\u001b[0m \u001b[0mself\u001b[0m\u001b[0;34m.\u001b[0m\u001b[0m_fetchall_as_list\u001b[0m\u001b[0;34m(\u001b[0m\u001b[0mcursor\u001b[0m\u001b[0;34m)\u001b[0m\u001b[0;34m\u001b[0m\u001b[0;34m\u001b[0m\u001b[0m\n\u001b[0m\u001b[1;32m   1785\u001b[0m             \u001b[0mcursor\u001b[0m\u001b[0;34m.\u001b[0m\u001b[0mclose\u001b[0m\u001b[0;34m(\u001b[0m\u001b[0;34m)\u001b[0m\u001b[0;34m\u001b[0m\u001b[0;34m\u001b[0m\u001b[0m\n\u001b[1;32m   1786\u001b[0m \u001b[0;34m\u001b[0m\u001b[0m\n",
      "\u001b[0;32m/opt/conda/lib/python3.8/site-packages/pandas/io/sql.py\u001b[0m in \u001b[0;36m_fetchall_as_list\u001b[0;34m(self, cur)\u001b[0m\n\u001b[1;32m   1795\u001b[0m \u001b[0;34m\u001b[0m\u001b[0m\n\u001b[1;32m   1796\u001b[0m     \u001b[0;32mdef\u001b[0m \u001b[0m_fetchall_as_list\u001b[0m\u001b[0;34m(\u001b[0m\u001b[0mself\u001b[0m\u001b[0;34m,\u001b[0m \u001b[0mcur\u001b[0m\u001b[0;34m)\u001b[0m\u001b[0;34m:\u001b[0m\u001b[0;34m\u001b[0m\u001b[0;34m\u001b[0m\u001b[0m\n\u001b[0;32m-> 1797\u001b[0;31m         \u001b[0mresult\u001b[0m \u001b[0;34m=\u001b[0m \u001b[0mcur\u001b[0m\u001b[0;34m.\u001b[0m\u001b[0mfetchall\u001b[0m\u001b[0;34m(\u001b[0m\u001b[0;34m)\u001b[0m\u001b[0;34m\u001b[0m\u001b[0;34m\u001b[0m\u001b[0m\n\u001b[0m\u001b[1;32m   1798\u001b[0m         \u001b[0;32mif\u001b[0m \u001b[0;32mnot\u001b[0m \u001b[0misinstance\u001b[0m\u001b[0;34m(\u001b[0m\u001b[0mresult\u001b[0m\u001b[0;34m,\u001b[0m \u001b[0mlist\u001b[0m\u001b[0;34m)\u001b[0m\u001b[0;34m:\u001b[0m\u001b[0;34m\u001b[0m\u001b[0;34m\u001b[0m\u001b[0m\n\u001b[1;32m   1799\u001b[0m             \u001b[0mresult\u001b[0m \u001b[0;34m=\u001b[0m \u001b[0mlist\u001b[0m\u001b[0;34m(\u001b[0m\u001b[0mresult\u001b[0m\u001b[0;34m)\u001b[0m\u001b[0;34m\u001b[0m\u001b[0;34m\u001b[0m\u001b[0m\n",
      "\u001b[0;31mKeyboardInterrupt\u001b[0m: "
     ]
    }
   ],
   "source": [
    "conn = sqlite3.connect('/mnt/data/public/nle2019.db')\n",
    "cursor = conn.cursor()\n",
    "\n",
    "table_list = [a for a in cursor.execute(\"SELECT name FROM sqlite_master WHERE type = 'table'\")]\n",
    "df_cand = pd.read_sql('select * from candidate', conn)\n",
    "df_result = pd.read_sql('select * from result', conn)\n",
    "print(table_list)\n",
    "conn.close()"
   ]
  },
  {
   "cell_type": "code",
   "execution_count": 63,
   "metadata": {
    "ExecuteTime": {
     "end_time": "2021-08-03T11:00:06.907785Z",
     "start_time": "2021-08-03T11:00:06.879321Z"
    },
    "deletable": false,
    "editable": false,
    "nbgrader": {
     "cell_type": "code",
     "checksum": "33f9b1449a92fca8789e70172392c62f",
     "grade": true,
     "grade_id": "cell-46947579eac10152",
     "locked": true,
     "points": 10,
     "schema_version": 3,
     "solution": false,
     "task": false
    }
   },
   "outputs": [],
   "source": [
    "df_parties = get_num_members()\n",
    "assert_equal(df_parties.shape, (153, 2))\n",
    "assert_equal(\n",
    "    df_parties.iloc[:10].to_numpy().tolist(), \n",
    "    [('LGBTQ PARTY', 17),\n",
    "     ('LABOR PARTY PHILIPPINES', 8),\n",
    "     ('LIBERAL PARTY', 6),\n",
    "     ('KATIPUNAN NG DEMOKRATIKONG PILIPINO(KDP)', 5),\n",
    "     ('PARTIDO DEMOKRATIKO PILIPINO LAKAS NG BAYAN', 5),\n",
    "     ('NACIONALISTA PARTY', 3),\n",
    "     ('LAKAS CHRISTIAN  MUSLIM DEMOCRATS', 2),\n",
    "     (\"NATIONALIST PEOPLE'S COALITION\", 2),\n",
    "     ('PARTIDO FEDERAL NG PILIPINAS', 2),\n",
    "     ('PWERSA NG MASANG  PILIPINO', 2)])"
   ]
  },
  {
   "cell_type": "markdown",
   "metadata": {},
   "source": [
    "## Problem 3b [15 pts]\n",
    "\n",
    "Create a function `count_votes` that accepts a case-insensitive search key `name` and returns a pandas data frame of matched candidate names and the total vote for the candidate/s. The input search key can match anywhere in the candidate name and the output should be sorted in descending number of votes then in ascending candidate name."
   ]
  },
  {
   "cell_type": "code",
   "execution_count": 64,
   "metadata": {
    "ExecuteTime": {
     "end_time": "2021-08-03T11:00:11.627800Z",
     "start_time": "2021-08-03T11:00:11.621637Z"
    },
    "deletable": false,
    "nbgrader": {
     "cell_type": "code",
     "checksum": "3fd0ad47d36a52dbd6ddecbabb95b360",
     "grade": false,
     "grade_id": "cell-4921510325633726",
     "locked": false,
     "schema_version": 3,
     "solution": true,
     "task": false
    }
   },
   "outputs": [],
   "source": [
    "def count_votes(name):\n",
    "    name = name.replace('_', '\\_').replace('%','\\%')\n",
    "    name = f\"'%{name}%'\"\n",
    "    with sqlite3.connect('/mnt/data/public/nle2019.db') as conn:\n",
    "        query = f\"\"\"\n",
    "        SELECT c.name, SUM(r.votes) as sum_v\n",
    "        FROM candidate as c\n",
    "        JOIN result as r\n",
    "        ON c.id = r.candidate_id\n",
    "        WHERE LOWER(c.name) LIKE LOWER({name})\n",
    "        GROUP BY c.name\n",
    "        ORDER BY sum_v DESC, c.name ASC\n",
    "        \"\"\"\n",
    "    df = pd.read_sql(query, conn)\n",
    "    return df"
   ]
  },
  {
   "cell_type": "code",
   "execution_count": 30,
   "metadata": {
    "ExecuteTime": {
     "end_time": "2021-08-03T10:32:52.822169Z",
     "start_time": "2021-08-03T10:32:52.816432Z"
    }
   },
   "outputs": [],
   "source": [
    "# def count_votes(name):\n",
    "#     name = name.replace('_', '\\_').replace('%','\\%')\n",
    "#     name = f\"'%{name}%'\"\n",
    "#     with sqlite3.connect('/mnt/data/public/nle2019.db') as conn:\n",
    "#         query = f\"\"\"\n",
    "#         SELECT c.name, SUM(r.votes) as sum_v\n",
    "#         FROM candidate as c\n",
    "#         JOIN result as r\n",
    "#         ON c.id = r.candidate_id\n",
    "#         WHERE LOWER(c.name) LIKE LOWER({name})\n",
    "#         GROUP BY c.name\n",
    "#         ORDER BY sum_v DESC, c.name ASC\n",
    "#         \"\"\"\n",
    "#     df = pd.read_sql(query, conn)\n",
    "#     return df"
   ]
  },
  {
   "cell_type": "code",
   "execution_count": 31,
   "metadata": {
    "ExecuteTime": {
     "end_time": "2021-08-03T10:32:55.870173Z",
     "start_time": "2021-08-03T10:32:55.472381Z"
    }
   },
   "outputs": [
    {
     "data": {
      "text/html": [
       "<div>\n",
       "<style scoped>\n",
       "    .dataframe tbody tr th:only-of-type {\n",
       "        vertical-align: middle;\n",
       "    }\n",
       "\n",
       "    .dataframe tbody tr th {\n",
       "        vertical-align: top;\n",
       "    }\n",
       "\n",
       "    .dataframe thead th {\n",
       "        text-align: right;\n",
       "    }\n",
       "</style>\n",
       "<table border=\"1\" class=\"dataframe\">\n",
       "  <thead>\n",
       "    <tr style=\"text-align: right;\">\n",
       "      <th></th>\n",
       "      <th>name</th>\n",
       "      <th>sum_v</th>\n",
       "    </tr>\n",
       "  </thead>\n",
       "  <tbody>\n",
       "    <tr>\n",
       "      <th>0</th>\n",
       "      <td>VILLAR, CYNTHIA (NP)</td>\n",
       "      <td>25128563</td>\n",
       "    </tr>\n",
       "    <tr>\n",
       "      <th>1</th>\n",
       "      <td>VILLARICA,ATORNI HENRY(PDPLBN)</td>\n",
       "      <td>191992</td>\n",
       "    </tr>\n",
       "    <tr>\n",
       "      <th>2</th>\n",
       "      <td>VILLAR, CAMILLE (NP)</td>\n",
       "      <td>173917</td>\n",
       "    </tr>\n",
       "    <tr>\n",
       "      <th>3</th>\n",
       "      <td>VILLAROSA, FLORA (NP)</td>\n",
       "      <td>88638</td>\n",
       "    </tr>\n",
       "    <tr>\n",
       "      <th>4</th>\n",
       "      <td>VILLAROSA, JOSE (UNA)</td>\n",
       "      <td>65862</td>\n",
       "    </tr>\n",
       "    <tr>\n",
       "      <th>5</th>\n",
       "      <td>VILLAROSA, JASON (LAKAS)</td>\n",
       "      <td>61440</td>\n",
       "    </tr>\n",
       "    <tr>\n",
       "      <th>6</th>\n",
       "      <td>VILLARICA, LINABELLE (PDPLBN)</td>\n",
       "      <td>44774</td>\n",
       "    </tr>\n",
       "    <tr>\n",
       "      <th>7</th>\n",
       "      <td>VILLARANTE, LITO (NPC)</td>\n",
       "      <td>43786</td>\n",
       "    </tr>\n",
       "    <tr>\n",
       "      <th>8</th>\n",
       "      <td>VILLARANTE, ROMEO (NPC)</td>\n",
       "      <td>32175</td>\n",
       "    </tr>\n",
       "    <tr>\n",
       "      <th>9</th>\n",
       "      <td>VILLARICA, WILLIAM (PDPLBN)</td>\n",
       "      <td>31355</td>\n",
       "    </tr>\n",
       "  </tbody>\n",
       "</table>\n",
       "</div>"
      ],
      "text/plain": [
       "                             name     sum_v\n",
       "0            VILLAR, CYNTHIA (NP)  25128563\n",
       "1  VILLARICA,ATORNI HENRY(PDPLBN)    191992\n",
       "2            VILLAR, CAMILLE (NP)    173917\n",
       "3           VILLAROSA, FLORA (NP)     88638\n",
       "4           VILLAROSA, JOSE (UNA)     65862\n",
       "5        VILLAROSA, JASON (LAKAS)     61440\n",
       "6   VILLARICA, LINABELLE (PDPLBN)     44774\n",
       "7          VILLARANTE, LITO (NPC)     43786\n",
       "8         VILLARANTE, ROMEO (NPC)     32175\n",
       "9     VILLARICA, WILLIAM (PDPLBN)     31355"
      ]
     },
     "execution_count": 31,
     "metadata": {},
     "output_type": "execute_result"
    }
   ],
   "source": [
    "count_votes('vIlLaR').iloc[:10]"
   ]
  },
  {
   "cell_type": "code",
   "execution_count": 65,
   "metadata": {
    "ExecuteTime": {
     "end_time": "2021-08-03T11:00:15.048592Z",
     "start_time": "2021-08-03T11:00:14.663153Z"
    },
    "deletable": false,
    "editable": false,
    "nbgrader": {
     "cell_type": "code",
     "checksum": "7e07fbfc909c407443672af3ae77c72f",
     "grade": true,
     "grade_id": "cell-e1344a1fddbf1f80",
     "locked": true,
     "points": 15,
     "schema_version": 3,
     "solution": false,
     "task": false
    }
   },
   "outputs": [],
   "source": [
    "df_votes = count_votes('vIlLaR')\n",
    "assert_equal(df_votes.shape, (94, 2))\n",
    "assert_array_equal(\n",
    "    df_votes.iloc[:10].to_numpy().tolist(), \n",
    "    [['VILLAR, CYNTHIA (NP)', 25128563],\n",
    "     ['VILLARICA,ATORNI HENRY(PDPLBN)', 191992],\n",
    "     ['VILLAR, CAMILLE (NP)', 173917],\n",
    "     ['VILLAROSA, FLORA (NP)', 88638],\n",
    "     ['VILLAROSA, JOSE (UNA)', 65862],\n",
    "     ['VILLAROSA, JASON (LAKAS)', 61440],\n",
    "     ['VILLARICA, LINABELLE (PDPLBN)', 44774],\n",
    "     ['VILLARANTE, LITO (NPC)', 43786],\n",
    "     ['VILLARANTE, ROMEO (NPC)', 32175],\n",
    "     ['VILLARICA, WILLIAM (PDPLBN)', 31355]])\n",
    "assert_array_equal(count_votes('%hi').shape, (0, 2))\n",
    "assert_array_equal(count_votes('hi_').shape, (0, 2))"
   ]
  },
  {
   "cell_type": "markdown",
   "metadata": {},
   "source": [
    "# Problem 4 [25 pts]"
   ]
  },
  {
   "cell_type": "markdown",
   "metadata": {
    "deletable": false,
    "editable": false,
    "nbgrader": {
     "cell_type": "markdown",
     "checksum": "2e3fb015a75810c745b0579cd4004871",
     "grade": false,
     "grade_id": "cell-87c9d2c99376ef98",
     "locked": true,
     "schema_version": 3,
     "solution": false,
     "task": false
    }
   },
   "source": [
    "## Problem 4a [15 pts]\n",
    "\n",
    "Write a function `get_results` that would return a list of tuples containing page titles and page urls from the search engine results page in https://server.accesslab.aim.edu/exam1/search.htm. Ignore sponsored, feedback, and video results."
   ]
  },
  {
   "cell_type": "code",
   "execution_count": 231,
   "metadata": {
    "ExecuteTime": {
     "end_time": "2021-08-03T09:31:59.852765Z",
     "start_time": "2021-08-03T09:31:59.845959Z"
    },
    "deletable": false,
    "nbgrader": {
     "cell_type": "code",
     "checksum": "7dc17347ebdac279398f96864abc6d16",
     "grade": false,
     "grade_id": "cell-5b85974106f42433",
     "locked": false,
     "schema_version": 3,
     "solution": true,
     "task": false
    }
   },
   "outputs": [],
   "source": [
    "def get_results():\n",
    "    page = requests.get('https://server.accesslab.aim.edu/exam1/search.htm')\n",
    "    page\n",
    "    soup = BeautifulSoup(page.text)\n",
    "    li=[]\n",
    "    for i in soup.find_all('div', class_=\"r\")[4:]:\n",
    "        li.append((i.find('h3').text,i.find('a')['href']))\n",
    "    return li"
   ]
  },
  {
   "cell_type": "code",
   "execution_count": 232,
   "metadata": {
    "ExecuteTime": {
     "end_time": "2021-08-03T09:32:00.999412Z",
     "start_time": "2021-08-03T09:32:00.841068Z"
    },
    "deletable": false,
    "editable": false,
    "nbgrader": {
     "cell_type": "code",
     "checksum": "1bad5bc5d5cd861d57e4b960b062b89c",
     "grade": true,
     "grade_id": "cell-fbbecdc0befd655a",
     "locked": true,
     "points": 15,
     "schema_version": 3,
     "solution": false,
     "task": false
    }
   },
   "outputs": [],
   "source": [
    "search_res = get_results()\n",
    "assert_equal(len(search_res), 9)\n",
    "assert_equal(len(search_res[0]), 2)\n",
    "assert_equal(\n",
    "    search_res[:5],\n",
    "    [('Data mining - Wikipedia', 'https://en.wikipedia.org/wiki/Data_mining'),\n",
    "     ('What is data mining? | SAS',\n",
    "      'https://www.sas.com/en_ph/insights/analytics/data-mining.html'),\n",
    "     ('Data Mining Definition - Investopedia',\n",
    "      'https://www.investopedia.com/terms/d/datamining.asp'),\n",
    "     ('What is Data Mining? Definition of Data Mining, Data Mining ...',\n",
    "      'https://economictimes.indiatimes.com/definition/data-mining'),\n",
    "     ('Data Mining Explained | MicroStrategy',\n",
    "      'https://www.microstrategy.com/us/resources/introductory-guides/'\n",
    "      'data-mining-explained')]\n",
    ")"
   ]
  },
  {
   "cell_type": "markdown",
   "metadata": {},
   "source": [
    "# Problem 4b [10 pts]\n",
    "\n",
    "Create a function `crawl_page` that crawls the API responses from https://server.accesslab.aim.edu/exam1/scraping.html and returns the text message of the last API page."
   ]
  },
  {
   "cell_type": "code",
   "execution_count": 295,
   "metadata": {
    "ExecuteTime": {
     "end_time": "2021-08-03T09:53:27.629386Z",
     "start_time": "2021-08-03T09:53:27.625114Z"
    },
    "deletable": false,
    "nbgrader": {
     "cell_type": "code",
     "checksum": "d83bdb28a89fe988ad4bbb48bc832644",
     "grade": false,
     "grade_id": "cell-7707469992173c27",
     "locked": false,
     "schema_version": 3,
     "solution": true,
     "task": false
    }
   },
   "outputs": [],
   "source": [
    "def crawl_page():\n",
    "    page = requests.get('https://server.accesslab.aim.edu/exam1/scraping.html')\n",
    "    return page"
   ]
  },
  {
   "cell_type": "code",
   "execution_count": 296,
   "metadata": {
    "ExecuteTime": {
     "end_time": "2021-08-03T09:53:34.319891Z",
     "start_time": "2021-08-03T09:53:34.256322Z"
    }
   },
   "outputs": [
    {
     "data": {
      "text/plain": [
       "<Response [200]>"
      ]
     },
     "execution_count": 296,
     "metadata": {},
     "output_type": "execute_result"
    }
   ],
   "source": [
    "requests.get('https://server.accesslab.aim.edu/exam1/scraping.html')"
   ]
  },
  {
   "cell_type": "code",
   "execution_count": null,
   "metadata": {
    "ExecuteTime": {
     "end_time": "2021-08-03T04:59:59.287091Z",
     "start_time": "2021-08-03T04:59:59.179034Z"
    },
    "deletable": false,
    "editable": false,
    "nbgrader": {
     "cell_type": "code",
     "checksum": "948de34c7a86207e3bb5a2c366f7aeeb",
     "grade": true,
     "grade_id": "cell-2811ae18fc1832d8",
     "locked": true,
     "points": 10,
     "schema_version": 3,
     "solution": false,
     "task": false
    }
   },
   "outputs": [],
   "source": [
    "output = crawl_page()\n",
    "assert_equal(type(output), str)"
   ]
  },
  {
   "cell_type": "markdown",
   "metadata": {
    "deletable": false,
    "editable": false,
    "nbgrader": {
     "cell_type": "markdown",
     "checksum": "feabb7819feaecf95826c672f47b71af",
     "grade": false,
     "grade_id": "cell-54f7cb8ad540885c",
     "locked": true,
     "schema_version": 3,
     "solution": false,
     "task": false
    }
   },
   "source": [
    "# Lab mini-project 1 contribution"
   ]
  },
  {
   "cell_type": "markdown",
   "metadata": {
    "deletable": false,
    "editable": false,
    "nbgrader": {
     "cell_type": "markdown",
     "checksum": "90f90959d723b20dae6976c44348aee8",
     "grade": false,
     "grade_id": "cell-0d9a15582e746e01",
     "locked": true,
     "schema_version": 3,
     "solution": false
    }
   },
   "source": [
    "Please answer the form [here](https://forms.office.com/Pages/ResponsePage.aspx?id=Zz3KImWBbke5GEsuMeBHur1KLEXNIepKmjRDCXWIriRUNEVXUkdFRkxWNFpFOEJRSjBTUFQzWlk2TC4u)."
   ]
  }
 ],
 "metadata": {
  "hide_input": false,
  "kernelspec": {
   "display_name": "Python 3",
   "language": "python",
   "name": "python3"
  },
  "language_info": {
   "codemirror_mode": {
    "name": "ipython",
    "version": 3
   },
   "file_extension": ".py",
   "mimetype": "text/x-python",
   "name": "python",
   "nbconvert_exporter": "python",
   "pygments_lexer": "ipython3",
   "version": "3.8.8"
  },
  "nbdime-conflicts": {
   "local_diff": [
    {
     "key": "toc",
     "op": "add",
     "value": {
      "base_numbering": 1,
      "nav_menu": {},
      "number_sections": true,
      "sideBar": true,
      "skip_h1_title": false,
      "title_cell": "Table of Contents",
      "title_sidebar": "Contents",
      "toc_cell": false,
      "toc_position": {},
      "toc_section_display": true,
      "toc_window_display": false
     }
    }
   ],
   "remote_diff": [
    {
     "key": "toc",
     "op": "add",
     "value": {
      "base_numbering": 1,
      "nav_menu": {},
      "number_sections": false,
      "sideBar": true,
      "skip_h1_title": false,
      "title_cell": "Table of Contents",
      "title_sidebar": "Contents",
      "toc_cell": false,
      "toc_position": {},
      "toc_section_display": true,
      "toc_window_display": false
     }
    }
   ]
  },
  "toc": {
   "base_numbering": 1,
   "nav_menu": {},
   "number_sections": true,
   "sideBar": true,
   "skip_h1_title": false,
   "title_cell": "Table of Contents",
   "title_sidebar": "Contents",
   "toc_cell": false,
   "toc_position": {},
   "toc_section_display": true,
   "toc_window_display": false
  }
 },
 "nbformat": 4,
 "nbformat_minor": 2
}
