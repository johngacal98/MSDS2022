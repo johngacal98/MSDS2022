{
 "cells": [
  {
   "cell_type": "markdown",
   "id": "4609093b",
   "metadata": {},
   "source": [
    "JavaScript Object Notation (JSON)"
   ]
  },
  {
   "cell_type": "code",
   "execution_count": 10,
   "id": "7b7566ec",
   "metadata": {},
   "outputs": [],
   "source": [
    "import json\n",
    "import pandas as pd"
   ]
  },
  {
   "cell_type": "code",
   "execution_count": 6,
   "id": "a9ca7fa3",
   "metadata": {},
   "outputs": [],
   "source": [
    "contact = json.loads(\"\"\"{ \n",
    "    \"firstName\": \"John\", \n",
    "    \"lastName\": \"Smith\", \n",
    "    \"isAlive\": true, \n",
    "    \"age\": 27, \n",
    "    \"address\": { \n",
    "        \"streetAddress\": \"21 2nd Street\", \n",
    "        \"city\": \"New York\", \n",
    "        \"state\": \"NY\", \n",
    "        \"postalCode\": \"10021-3100\"\n",
    "    }, \n",
    "    \"phoneNumbers\": [ \n",
    "    { \n",
    "    \"type\": \"home\", \n",
    "    \"number\": \"212 555-1234\"\n",
    "    }, \n",
    "    {\n",
    "    \"type\": \"office\", \n",
    "    \"number\": \"646 555-4567\"\n",
    "    } \n",
    "    ], \n",
    "    \"children\": [], \n",
    "    \"spouse\": null\n",
    "}\"\"\")"
   ]
  },
  {
   "cell_type": "code",
   "execution_count": null,
   "id": "f05aaf19",
   "metadata": {},
   "outputs": [],
   "source": []
  },
  {
   "cell_type": "code",
   "execution_count": null,
   "id": "8e232b58",
   "metadata": {},
   "outputs": [],
   "source": []
  },
  {
   "cell_type": "code",
   "execution_count": 7,
   "id": "1ac04036",
   "metadata": {},
   "outputs": [
    {
     "name": "stdout",
     "output_type": "stream",
     "text": [
      "{\n",
      "    \"address\": {\n",
      "        \"city\": \"New York\",\n",
      "        \"postalCode\": \"10021-3100\",\n",
      "        \"state\": \"NY\",\n",
      "        \"streetAddress\": \"21 2nd Street\"\n",
      "    },\n",
      "    \"age\": 27,\n",
      "    \"children\": [],\n",
      "    \"firstName\": \"John\",\n",
      "    \"isAlive\": true,\n",
      "    \"lastName\": \"Smith\",\n",
      "    \"phoneNumbers\": [\n",
      "        {\n",
      "            \"number\": \"212 555-1234\",\n",
      "            \"type\": \"home\"\n",
      "        },\n",
      "        {\n",
      "            \"number\": \"646 555-4567\",\n",
      "            \"type\": \"office\"\n",
      "        }\n",
      "    ],\n",
      "    \"spouse\": null\n",
      "}\n"
     ]
    }
   ],
   "source": [
    "print(json.dumps(contact, indent=4, sort_keys=True))"
   ]
  },
  {
   "cell_type": "code",
   "execution_count": 8,
   "id": "e9e029fd",
   "metadata": {},
   "outputs": [],
   "source": [
    "#creating a json file \n",
    "with open('contact.json', 'w') as f:\n",
    "    json.dump(contact, f)"
   ]
  },
  {
   "cell_type": "code",
   "execution_count": 9,
   "id": "c6260208",
   "metadata": {},
   "outputs": [
    {
     "name": "stdout",
     "output_type": "stream",
     "text": [
      "{'firstName': 'John', 'lastName': 'Smith', 'isAlive': True, 'age': 27, 'address': {'streetAddress': '21 2nd Street', 'city': 'New York', 'state': 'NY', 'postalCode': '10021-3100'}, 'phoneNumbers': [{'type': 'home', 'number': '212 555-1234'}, {'type': 'office', 'number': '646 555-4567'}], 'children': [], 'spouse': None}\n"
     ]
    }
   ],
   "source": [
    "#loading the created file\n",
    "with open('contact.json') as f:\n",
    "    print(json.load(f))"
   ]
  },
  {
   "cell_type": "code",
   "execution_count": 17,
   "id": "8f2c2feb",
   "metadata": {},
   "outputs": [
    {
     "data": {
      "text/html": [
       "<div>\n",
       "<style scoped>\n",
       "    .dataframe tbody tr th:only-of-type {\n",
       "        vertical-align: middle;\n",
       "    }\n",
       "\n",
       "    .dataframe tbody tr th {\n",
       "        vertical-align: top;\n",
       "    }\n",
       "\n",
       "    .dataframe thead th {\n",
       "        text-align: right;\n",
       "    }\n",
       "</style>\n",
       "<table border=\"1\" class=\"dataframe\">\n",
       "  <thead>\n",
       "    <tr style=\"text-align: right;\">\n",
       "      <th></th>\n",
       "      <th>firstName</th>\n",
       "      <th>lastName</th>\n",
       "      <th>isAlive</th>\n",
       "      <th>age</th>\n",
       "      <th>address</th>\n",
       "      <th>phoneNumbers</th>\n",
       "      <th>children</th>\n",
       "      <th>spouse</th>\n",
       "    </tr>\n",
       "  </thead>\n",
       "  <tbody>\n",
       "    <tr>\n",
       "      <th>0</th>\n",
       "      <td>John</td>\n",
       "      <td>Smith</td>\n",
       "      <td>True</td>\n",
       "      <td>27</td>\n",
       "      <td>{'streetAddress': '21 2nd Street', 'city': 'Ne...</td>\n",
       "      <td>[{'type': 'home', 'number': '212 555-1234'}, {...</td>\n",
       "      <td>[]</td>\n",
       "      <td>NaN</td>\n",
       "    </tr>\n",
       "  </tbody>\n",
       "</table>\n",
       "</div>"
      ],
      "text/plain": [
       "  firstName lastName  isAlive  age  \\\n",
       "0      John    Smith     True   27   \n",
       "\n",
       "                                             address  \\\n",
       "0  {'streetAddress': '21 2nd Street', 'city': 'Ne...   \n",
       "\n",
       "                                        phoneNumbers children  spouse  \n",
       "0  [{'type': 'home', 'number': '212 555-1234'}, {...       []     NaN  "
      ]
     },
     "execution_count": 17,
     "metadata": {},
     "output_type": "execute_result"
    }
   ],
   "source": [
    "#using pandas\n",
    "df_contact = pd.read_json('contact.json', lines=True)\n",
    "df_contact"
   ]
  },
  {
   "cell_type": "code",
   "execution_count": 15,
   "id": "06f4c85f",
   "metadata": {},
   "outputs": [
    {
     "data": {
      "text/plain": [
       "'{\"firstName\":{\"0\":\"John\"},\"lastName\":{\"0\":\"Smith\"},\"isAlive\":{\"0\":true},\"age\":{\"0\":27},\"address\":{\"0\":{\"streetAddress\":\"21 2nd Street\",\"city\":\"New York\",\"state\":\"NY\",\"postalCode\":\"10021-3100\"}},\"phoneNumbers\":{\"0\":[{\"type\":\"home\",\"number\":\"212 555-1234\"},{\"type\":\"office\",\"number\":\"646 555-4567\"}]},\"children\":{\"0\":[]},\"spouse\":{\"0\":null}}'"
      ]
     },
     "execution_count": 15,
     "metadata": {},
     "output_type": "execute_result"
    }
   ],
   "source": [
    "#converting to json\n",
    "#if u dont specify a file name, it returns a string\n",
    "#default orient option is columns\n",
    "df_contact.to_json()"
   ]
  },
  {
   "cell_type": "code",
   "execution_count": 18,
   "id": "2c069566",
   "metadata": {},
   "outputs": [
    {
     "data": {
      "text/plain": [
       "'{\"0\":{\"firstName\":\"John\",\"lastName\":\"Smith\",\"isAlive\":true,\"age\":27,\"address\":{\"streetAddress\":\"21 2nd Street\",\"city\":\"New York\",\"state\":\"NY\",\"postalCode\":\"10021-3100\"},\"phoneNumbers\":[{\"type\":\"home\",\"number\":\"212 555-1234\"},{\"type\":\"office\",\"number\":\"646 555-4567\"}],\"children\":[],\"spouse\":null}}'"
      ]
     },
     "execution_count": 18,
     "metadata": {},
     "output_type": "execute_result"
    }
   ],
   "source": [
    "#using ortient option index\n",
    "df_contact.to_json(orient='index')"
   ]
  },
  {
   "cell_type": "code",
   "execution_count": 19,
   "id": "de010e32",
   "metadata": {},
   "outputs": [
    {
     "data": {
      "text/plain": [
       "'[{\"firstName\":\"John\",\"lastName\":\"Smith\",\"isAlive\":true,\"age\":27,\"address\":{\"streetAddress\":\"21 2nd Street\",\"city\":\"New York\",\"state\":\"NY\",\"postalCode\":\"10021-3100\"},\"phoneNumbers\":[{\"type\":\"home\",\"number\":\"212 555-1234\"},{\"type\":\"office\",\"number\":\"646 555-4567\"}],\"children\":[],\"spouse\":null}]'"
      ]
     },
     "execution_count": 19,
     "metadata": {},
     "output_type": "execute_result"
    }
   ],
   "source": [
    "df_contact.to_json(orient='records')"
   ]
  },
  {
   "cell_type": "code",
   "execution_count": 20,
   "id": "73fa0e5a",
   "metadata": {},
   "outputs": [
    {
     "data": {
      "text/plain": [
       "'[[\"John\",\"Smith\",true,27,{\"streetAddress\":\"21 2nd Street\",\"city\":\"New York\",\"state\":\"NY\",\"postalCode\":\"10021-3100\"},[{\"type\":\"home\",\"number\":\"212 555-1234\"},{\"type\":\"office\",\"number\":\"646 555-4567\"}],[],null]]'"
      ]
     },
     "execution_count": 20,
     "metadata": {},
     "output_type": "execute_result"
    }
   ],
   "source": [
    "df_contact.to_json(orient='values')"
   ]
  },
  {
   "cell_type": "code",
   "execution_count": 21,
   "id": "a9fe8573",
   "metadata": {},
   "outputs": [
    {
     "data": {
      "text/plain": [
       "'{\"firstName\":\"John\",\"lastName\":\"Smith\",\"isAlive\":true,\"age\":27,\"address\":{\"streetAddress\":\"21 2nd Street\",\"city\":\"New York\",\"state\":\"NY\",\"postalCode\":\"10021-3100\"},\"phoneNumbers\":[{\"type\":\"home\",\"number\":\"212 555-1234\"},{\"type\":\"office\",\"number\":\"646 555-4567\"}],\"children\":[],\"spouse\":null}\\n'"
      ]
     },
     "execution_count": 21,
     "metadata": {},
     "output_type": "execute_result"
    }
   ],
   "source": [
    "df_contact.to_json(orient='records', lines=True)"
   ]
  },
  {
   "cell_type": "markdown",
   "id": "3e58695e",
   "metadata": {},
   "source": [
    "pd.json_normalize() #check lecture slides"
   ]
  },
  {
   "cell_type": "markdown",
   "id": "5e31cf97",
   "metadata": {},
   "source": [
    "EXCEL FILES"
   ]
  },
  {
   "cell_type": "code",
   "execution_count": null,
   "id": "6111fad0",
   "metadata": {},
   "outputs": [],
   "source": []
  }
 ],
 "metadata": {
  "kernelspec": {
   "display_name": "Python 3",
   "language": "python",
   "name": "python3"
  },
  "language_info": {
   "codemirror_mode": {
    "name": "ipython",
    "version": 3
   },
   "file_extension": ".py",
   "mimetype": "text/x-python",
   "name": "python",
   "nbconvert_exporter": "python",
   "pygments_lexer": "ipython3",
   "version": "3.8.10"
  }
 },
 "nbformat": 4,
 "nbformat_minor": 5
}
