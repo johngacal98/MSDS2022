{
 "cells": [
  {
   "cell_type": "markdown",
   "metadata": {
    "hide_input": true
   },
   "source": [
    "# Principal Component Analysis\n",
    "**Written by Christian Alis**"
   ]
  },
  {
   "cell_type": "markdown",
   "metadata": {},
   "source": [
    "## Dimensionality Reduction"
   ]
  },
  {
   "cell_type": "markdown",
   "metadata": {},
   "source": [
    "A benefit of the techniques that we have discussed so far is that we are able to work with a very large number of dimensions simultaneously which is something that is not humanly possible. However, in general, we want to work with as few dimensions as possible. Let's look at one reason why is that so.\n",
    "\n",
    "\n",
    "Consider a unit hypercube of dimensionality $d$ fully located in the nonnegative quadrant with one corner at the origin. We then take the $L_2$-norm distance of random points in the cube to the origin. We define contrast as the ratio of the variation of the distances to the mean distance. The plot of the contrast for different values of $d$ is shown below.\n",
    "\n",
    "<img src=\"contrast.png\" />"
   ]
  },
  {
   "cell_type": "code",
   "execution_count": 1,
   "metadata": {
    "ExecuteTime": {
     "end_time": "2021-08-06T09:05:10.065250Z",
     "start_time": "2021-08-06T09:05:08.939996Z"
    },
    "hide_input": true
   },
   "outputs": [],
   "source": [
    "import numpy as np\n",
    "import matplotlib.pyplot as plt\n",
    "from scipy.spatial.distance import euclidean\n",
    "from sklearn.preprocessing import StandardScaler\n",
    "from sklearn.feature_extraction.text import TfidfVectorizer\n",
    "from sklearn.datasets import load_wine, fetch_20newsgroups, load_boston\n",
    "from numpy.testing import assert_equal, assert_array_almost_equal"
   ]
  },
  {
   "cell_type": "code",
   "execution_count": 2,
   "metadata": {
    "ExecuteTime": {
     "end_time": "2021-08-06T09:05:14.425998Z",
     "start_time": "2021-08-06T09:05:11.881551Z"
    },
    "hide_input": true
   },
   "outputs": [
    {
     "data": {
      "image/png": "[encoded data removed]",
      "text/plain": [
       "<Figure size 432x288 with 1 Axes>"
      ]
     },
     "metadata": {
      "needs_background": "light"
     },
     "output_type": "display_data"
    }
   ],
   "source": [
    "fig, ax = plt.subplots()\n",
    "contrasts = []\n",
    "ds = np.logspace(0, 3, 10).astype(int)\n",
    "for d in ds:\n",
    "    distances = [euclidean(np.zeros(d), np.random.random(d)) \n",
    "                 for _ in range(10000)]\n",
    "    # (mu + 3*sigma) - (mu - 3*sigma)\n",
    "    contrasts.append(6*np.std(distances) / np.mean(distances))\n",
    "ax.plot(ds, contrasts, '-o')\n",
    "ax.set_xlabel('$d$')\n",
    "ax.set_ylabel('Contrast');"
   ]
  },
  {
   "cell_type": "markdown",
   "metadata": {},
   "source": [
    "Higher dimensions make the contrast of $L_p$-norms smaller making it harder to distinguish different classes. For distributions that are naturally of lower dimension, the additional dimensions is an added complication that makes it more difficult to gain insights from the data."
   ]
  },
  {
   "cell_type": "markdown",
   "metadata": {
    "deletable": false,
    "editable": false,
    "nbgrader": {
     "cell_type": "markdown",
     "checksum": "a1b0bcd49be3744cd78ea19610e2b17a",
     "grade": false,
     "grade_id": "cell-a1161f32f608ca6e",
     "locked": true,
     "schema_version": 3,
     "solution": false,
     "task": false
    }
   },
   "source": [
    "**Problem 1**\n",
    "\n",
    "Write down one more benefit or advantage of having fewer dimensions."
   ]
  },
  {
   "cell_type": "markdown",
   "metadata": {
    "deletable": false,
    "nbgrader": {
     "cell_type": "markdown",
     "checksum": "02808bee758dce7a2a8838b8a3b98bf9",
     "grade": true,
     "grade_id": "cell-82f7e3e315794c5d",
     "locked": false,
     "points": 1,
     "schema_version": 3,
     "solution": true,
     "task": false
    }
   },
   "source": [
    "easier interpretability, can also reduce complexity of the model, can be easier or faster to run"
   ]
  },
  {
   "cell_type": "markdown",
   "metadata": {},
   "source": [
    "In these set of exercises, we will explore three dimensionality reduction by matrix decomposition techniques. A benefit of these techniques is that the resulting dimensions are interpretable and their importance can be estimated. By using these techniques, we would be able to visualize higher-dimension datasets along the two or three most important dimensions."
   ]
  },
  {
   "cell_type": "markdown",
   "metadata": {},
   "source": [
    "## Dimensionality reduction by axis rotation"
   ]
  },
  {
   "cell_type": "markdown",
   "metadata": {},
   "source": [
    "The figures in this section are screenshots from [Powell and Lehe](https://setosa.io/ev/principal-component-analysis/). You are encouraged to visit that webpage.\n",
    "\n",
    "Consider the dataset consisting of five points shown below. The points are two-dimensional but visually, they look like a line i.e., one dimensional. If we rotate the axis such that the $x$-axis is the red axis and the $y$-axis is the green axis, we'll get the plot on the right below. The points look like a horizontal line now.\n",
    "\n",
    "<img src=\"line-plots.png\" style=\"width: 50em\" />\n",
    "\n",
    "If we compare the components along the red and green axes (below right) and the original $x$ and $y$ axes (below left), we can see that the range or spread or variance along the $x$-axis is similar to the variance along the $y$-axis. On the other hand, the variance along the green axis is very small, practically negligible, compared to the variance along the red axis. Knowing the coordinate of a point along the red axis would be more informative or useful than knowing the coordinate along the green axis since the coordinates along the latter are quite similar anyway. We can, therefore, discard the green axis and just work with the red axis without losing much information. That is, we reduce the number of dimensions by retaining only high-variance axes.\n",
    "\n",
    "<img src=\"line-pcs.png\" style=\"width: 50em\" />"
   ]
  },
  {
   "cell_type": "markdown",
   "metadata": {},
   "source": [
    "Let us now look at another dataset which is shown below. This time the points are arranged in a circular or star pattern. Rotating the axes to red and green doesn't really change much the pattern (upper right). Furthermore, the variance in the coordinates along the red and green axes (lower right) are almost the same. Thus, picking just one of the axes would result to a significant loss in information similar to what would happen if we just pick the $x$ or $y$ axis.\n",
    "\n",
    "<img src=\"star-plots.png\" style=\"width: 50em\" />\n",
    "<img src=\"star-pcs.png\" style=\"width: 50em\" />\n",
    "\n",
    "The star pattern is inherently two-dimensional unlike a linear pattern which is inherently one-dimensional so it is not surprising that we can't just reduce it to a single dimension without a significant loss of information. However, if the star pattern is embedded in more than two dimensions, say we specify three dimensions for each point coordinate, we would be able to reduce the number of dimensions into just two by following the same process: rotating the coordinate system so that it coincides with the red and green axes then discarding the other axes. This is the general idea of dimensionality reduction by axis rotation.\n",
    "\n",
    "The process for finding the red and green axes and reducing the dimensions by rotating the coordinate system to them is part of Principal Component Analysis (PCA). The red and green axes are known as the principal components. A dataset embedded in $N$ dimensions has $N$ principal components. The principal components are orthogonal to each other and, by convention, also orthonormalized. The set of principal components is the set of axes that maximizes the explained variance. Principal components are named from 1st to $N$th ordered from the axis with the most explained variance. In the examples, PC1 is the first principal component and corresponds to the axis with the most explained variance, PC2 is the second principal component with the second most explained variance, and so on. "
   ]
  },
  {
   "cell_type": "markdown",
   "metadata": {},
   "source": [
    "The Euclidean distance or $L_2$-norm is rotation and translation invariant hence its value won't change if we perform PCA on the data."
   ]
  },
  {
   "cell_type": "markdown",
   "metadata": {},
   "source": [
    "## Derivation"
   ]
  },
  {
   "cell_type": "markdown",
   "metadata": {},
   "source": [
    "Consider the dataset shown below. We want to find the first principal component of the dataset. To do so, let us first pick a point $\\vec x_{i,0}$. To make our life easier, we will mean-center the dataset so that the new coordinates of the point is $\\vec x_i = \\vec x_{i,0} - \\vec{\\bar x}$, where $\\vec{\\bar x}$ is the centroid of the dataset. \n",
    "\n",
    "<img src=\"pca-deriv.png\" style=\"width: 30em\" />\n",
    "\n",
    "We now consider a unit vector $\\hat w$ that passes through the origin. The projection of $\\vec x_i$ on $\\hat w$ is given by $(\\vec x_i \\cdot \\hat w) \\hat w$. The difference of $\\vec x_i$ with its projection is known as the residual. The square of the residual is\n",
    "$$\n",
    "\\begin{align}\n",
    "\\left\\|\\vec x_i - (\\vec x_i \\cdot \\hat w) \\hat w \\right\\|^2 \n",
    "    &= \n",
    "    \\left[\\vec x_i - (\\vec x_i \\cdot \\hat w) \\hat w \\right] \\cdot \n",
    "    \\left[\\vec x_i - (\\vec x_i \\cdot \\hat w) \\hat w \\right] \\\\\n",
    "    &=\n",
    "    \\vec x_i \\cdot \\vec x_i \n",
    "    - 2(\\vec x_i \\cdot \\hat w)(\\vec x_i \\cdot \\hat w) \n",
    "    + (\\vec x_i \\cdot \\hat w)^2 \\hat w \\cdot \\hat w \\\\\n",
    "    &=\n",
    "    \\left\\|\\vec x_i\\right\\|^2\n",
    "    - 2(\\vec x_i \\cdot \\hat w)^2\n",
    "    + (\\vec x_i \\cdot \\hat w)^2 \\\\\n",
    "    &=\n",
    "    \\left\\|\\vec x_i\\right\\|^2\n",
    "    - (\\vec x_i \\cdot \\hat w)^2.\n",
    "\\end{align}\n",
    "$$\n",
    "We want to orient $\\hat w$ such that it preserves as much information as possible. That is, we want to minimize the residual sum of squares (RSS),\n",
    "$$\n",
    "\\begin{align}\n",
    "\\hat w &= \\mathop{\\mathrm{argmin}}_{\\hat w'} RSS(\\hat w') \\\\\n",
    "    &= \n",
    "    \\mathop{\\mathrm{argmin}}_{\\hat w'} \n",
    "    \\sum_{i=1}^n \\left[ \\left\\|\\vec x_i\\right\\|^2 - (\\vec x_i \\cdot \\hat w')^2 \\right] \\\\\n",
    "    &= \n",
    "    \\mathop{\\mathrm{argmax}}_{\\hat w'} \n",
    "    \\sum_{i=1}^n (\\vec x_i \\cdot \\hat w')^2 \\\\\n",
    "    &= \n",
    "    \\mathop{\\mathrm{argmax}}_{\\hat w'} \n",
    "    \\frac{1}{n} \\sum_{i=1}^n (\\vec x_i \\cdot \\hat w')^2 \\\\\n",
    "    &= \n",
    "    \\mathop{\\mathrm{argmax}}_{\\hat w'} \n",
    "    \\left(\\frac{1}{n} \\sum_{i=1}^n \\vec x_i \\cdot \\hat w'\\right)^2 + Var[\\vec x \\cdot \\hat w'] \\\\\n",
    "    &= \n",
    "    \\mathop{\\mathrm{argmax}}_{\\hat w'} Var[\\vec x \\cdot \\hat w']\n",
    "\\end{align}\n",
    "$$\n",
    "The principal component maximizes the variance of the projection of the dataset on that axis. Let $\\mathbf{X}$ be a matrix with rows corresponding to each point and columns corresponding to the components of that point in the mean-centered coordinate system, and $\\mathbf{w'}$ be $\\hat w'$ in vector form. We can then write,\n",
    "$$\n",
    "\\begin{align}\n",
    "\\hat w &= \\mathop{\\mathrm{argmax}}_{\\hat w'} \n",
    "    \\frac{1}{n} \\sum_{i=1}^n (\\vec x_i \\cdot \\hat w')^2 \\\\\n",
    "    &=\n",
    "    \\mathop{\\mathrm{argmax}}_{\\mathbf{w'}}\n",
    "    \\frac{1}{n} (\\mathbf{Xw'})^T (\\mathbf{Xw'}) \\\\\n",
    "    &=\n",
    "    \\mathop{\\mathrm{argmax}}_{\\mathbf{w'}}\n",
    "    \\frac{1}{n} (\\mathbf{w'^T X^T X w'}) \\\\\n",
    "    &=\n",
    "    \\mathop{\\mathrm{argmax}}_{\\mathbf{w'}}\n",
    "    \\mathbf{w'}^T \\frac{\\mathbf{X}^T \\mathbf{X}}{n} \\mathbf{w'} \\\\\n",
    "    &=\n",
    "    \\mathop{\\mathrm{argmax}}_{\\mathbf{w'}}\n",
    "    \\mathbf{w'}^T \\mathbf{Vw'},\n",
    "\\end{align}\n",
    "$$\n",
    "where $V$ is the covariance matrix of the dataset in the mean-centered coordinate system. We can convert the problem of solving for $\\hat w$ into an optimization problem: maximize $\\mathbf{w'}^T \\mathbf{Vw'}$ subject to the constraint $\\mathbf{w'}^T\\mathbf{w'}=1$. Using the method of Lagrange,\n",
    "$$\n",
    "\\begin{align}\n",
    "u &= \\mathbf{w'}^T \\mathbf{Vw'} - \\lambda (\\mathbf{w'}^T\\mathbf{w'} - 1) \\\\\n",
    "\\frac{\\partial u}{\\partial \\mathbf{w'}} &= 2\\mathbf{Vw'} - 2\\lambda\\mathbf{w'} \\\\\n",
    "0 &= 2\\mathbf{Vw'} - 2\\lambda\\mathbf{w'} \\\\\n",
    "\\mathbf{Vw'} &= \\lambda\\mathbf{w'}.\n",
    "\\end{align}\n",
    "$$\n",
    "The principal components are therefore the eigenvectors of the covariance matrix. The explained variance of the $i$th PC is given by $\\frac{\\lambda_i}{\\sum_i \\lambda_i}$. If we decide to keep only $k$ principal components, the cumulative variance explained is simply $\\frac{\\sum_i^k \\lambda_i}{\\sum_i \\lambda_i}$."
   ]
  },
  {
   "cell_type": "markdown",
   "metadata": {
    "deletable": false,
    "editable": false,
    "nbgrader": {
     "cell_type": "markdown",
     "checksum": "76fc2429550ad1c367349f2ff86d7e00",
     "grade": false,
     "grade_id": "cell-e51a2aa4fc672a44",
     "locked": true,
     "schema_version": 3,
     "solution": false
    }
   },
   "source": [
    "**Problem 2**\n",
    "\n",
    "Create a function `pca` that accepts the design matrix and returns the rotated design matrix, the new coordinate system and the variance explained. Do not use scikit-learn."
   ]
  },
  {
   "cell_type": "code",
   "execution_count": 73,
   "metadata": {
    "ExecuteTime": {
     "end_time": "2021-08-06T10:18:35.570274Z",
     "start_time": "2021-08-06T10:18:35.563736Z"
    },
    "deletable": false,
    "nbgrader": {
     "cell_type": "code",
     "checksum": "4fd3a58922f69e761f6c9dd1f009a6db",
     "grade": false,
     "grade_id": "cell-7897bbf2efeaeac2",
     "locked": false,
     "schema_version": 3,
     "solution": true
    }
   },
   "outputs": [],
   "source": [
    "def pca(X):\n",
    "    #center the data\n",
    "    scaled_X = (X - X.mean(axis=0))\n",
    "    #get the covariance matrix\n",
    "    covariance_matrix = np.cov(scaled_X, rowvar=False)\n",
    "\n",
    "    # Get Eigen Vectors and Eigen Values\n",
    "    eigen_values, eigen_vectors = np.linalg.eig(covariance_matrix)\n",
    "\n",
    "    # Get index sorting key based on Eigen Values\n",
    "    sorted_key = np.argsort(eigen_values)[::-1]\n",
    "    \n",
    "    # Get num_components of Eigen Values and Eigen Vectors\n",
    "    eigen_values, eigen_vectors = eigen_values[sorted_key], eigen_vectors[:, sorted_key]\n",
    "\n",
    "    # Dot product of original data and eigen_vectors are the principal component values\n",
    "    # This is the \"projection\" step of the original points on to the Principal Component\n",
    "    principal_components=np.dot(scaled_X,eigen_vectors)\n",
    "\n",
    "    w = eigen_vectors\n",
    "    X_new = principal_components\n",
    "    variance_explained = eigen_values/np.sum(eigen_values)\n",
    "    return (X_new, w, variance_explained)"
   ]
  },
  {
   "cell_type": "code",
   "execution_count": 71,
   "metadata": {
    "ExecuteTime": {
     "end_time": "2021-08-06T10:18:17.439681Z",
     "start_time": "2021-08-06T10:18:17.427869Z"
    }
   },
   "outputs": [
    {
     "data": {
      "text/plain": [
       "(array([[ 0.02468545, -1.47709396, -0.80158847, ...,  0.35511145,\n",
       "         -1.10605152,  0.64907094],\n",
       "        [-2.39567346, -1.80390224, -0.25078673, ...,  0.91330604,\n",
       "         -0.63428498, -0.39663796],\n",
       "        [ 4.42828144, -2.37393436, -0.2826466 , ..., -0.35360286,\n",
       "         -0.19470309, -0.27003739],\n",
       "        ...,\n",
       "        [-3.07344324,  0.75602588,  3.30390712, ..., -0.58388232,\n",
       "          0.26950369,  0.7527958 ],\n",
       "        [ 1.1297456 , -0.40040931, -3.25577455, ..., -0.54215703,\n",
       "          0.90209738, -0.19093161],\n",
       "        [ 2.54474154,  0.02109206, -3.35354058, ...,  0.64211977,\n",
       "          0.36023195, -0.27011661]]),\n",
       " array([[ 0.10984443, -0.04466866,  0.07609874, ..., -0.03393016,\n",
       "         -0.13415692, -0.03920861],\n",
       "        [-0.28396031, -0.00477609, -0.03622612, ...,  0.08081226,\n",
       "         -0.09031394, -0.07773882],\n",
       "        [ 0.05705867,  0.27807525,  0.05816591, ..., -0.10776023,\n",
       "         -0.07039395, -0.11090248],\n",
       "        ...,\n",
       "        [-0.06105265,  0.16056326,  0.25785328, ...,  0.27819179,\n",
       "         -0.18583879, -0.27479912],\n",
       "        [ 0.05292068, -0.18049373, -0.01957765, ...,  0.00168937,\n",
       "         -0.04231653, -0.12209915],\n",
       "        [ 0.00465711, -0.0654675 , -0.19386848, ...,  0.01053345,\n",
       "          0.0264749 , -0.31585945]]),\n",
       " array([0.05514495, 0.05093447, 0.04686112, 0.04541824, 0.0417751 ,\n",
       "        0.04042561, 0.03748936, 0.03665323, 0.03535593, 0.03329312,\n",
       "        0.03171108, 0.03092831, 0.03034847, 0.02810203, 0.02782875,\n",
       "        0.02735915, 0.02624865, 0.02284415, 0.02275653, 0.02221227,\n",
       "        0.02133299, 0.02000732, 0.01933165, 0.01790702, 0.0163503 ,\n",
       "        0.01617711, 0.01537182, 0.01454005, 0.01374209, 0.01320736,\n",
       "        0.01247083, 0.01207433, 0.01156622, 0.01071121, 0.0100162 ,\n",
       "        0.00892829, 0.00863282, 0.00816045, 0.00797206, 0.00704973,\n",
       "        0.00656006, 0.00617182, 0.00521013, 0.00473074, 0.00398392,\n",
       "        0.00384367, 0.00329324, 0.00308605, 0.00216056, 0.00171943]))"
      ]
     },
     "execution_count": 71,
     "metadata": {},
     "output_type": "execute_result"
    }
   ],
   "source": [
    "    #center the data\n",
    "    X = 5 * np.random.RandomState(1337).random([100, 50]) - 2\n",
    "    scaled_X = (X - X.mean(axis=0))\n",
    "    #get the covariance matrix\n",
    "    covariance_matrix = np.cov(scaled_X, rowvar=False)\n",
    "\n",
    "    # Get Eigen Vectors and Eigen Values\n",
    "    eigen_values, eigen_vectors = np.linalg.eig(covariance_matrix)\n",
    "\n",
    "    # Get index sorting key based on Eigen Values\n",
    "    sorted_key = np.argsort(eigen_values)[::-1]\n",
    "    \n",
    "    # Get num_components of Eigen Values and Eigen Vectors\n",
    "    eigen_values, eigen_vectors = eigen_values[sorted_key], eigen_vectors[:, sorted_key]\n",
    "\n",
    "    # Dot product of original data and eigen_vectors are the principal component values\n",
    "    # This is the \"projection\" step of the original points on to the Principal Component\n",
    "    principal_components=np.dot(scaled_X,eigen_vectors)\n",
    "\n",
    "    w = eigen_vectors\n",
    "    X_new = principal_components\n",
    "    variance_explained = eigen_values/np.sum(eigen_values)\n",
    "    (X_new, w, variance_explained)"
   ]
  },
  {
   "cell_type": "code",
   "execution_count": 70,
   "metadata": {
    "ExecuteTime": {
     "end_time": "2021-08-06T10:18:01.124491Z",
     "start_time": "2021-08-06T10:18:01.120007Z"
    }
   },
   "outputs": [
    {
     "data": {
      "text/plain": [
       "array([0.        , 0.0095668 , 0.0191336 , 0.02870041, 0.03826721,\n",
       "       0.04783401, 0.05740081, 0.06696762, 0.07653442, 0.08610122])"
      ]
     },
     "execution_count": 70,
     "metadata": {},
     "output_type": "execute_result"
    }
   ],
   "source": [
    "variance_explained[:10]"
   ]
  },
  {
   "cell_type": "code",
   "execution_count": 74,
   "metadata": {
    "ExecuteTime": {
     "end_time": "2021-08-06T10:18:38.475975Z",
     "start_time": "2021-08-06T10:18:38.463696Z"
    },
    "deletable": false,
    "editable": false,
    "nbgrader": {
     "cell_type": "code",
     "checksum": "134613b18f950a91ffaed10f9f99503f",
     "grade": true,
     "grade_id": "cell-0b2f27cf8baf5e2e",
     "locked": true,
     "points": 1,
     "schema_version": 3,
     "solution": false,
     "task": false
    }
   },
   "outputs": [],
   "source": [
    "X = 5 * np.random.RandomState(1337).random([100, 50]) - 2\n",
    "X_new, w, variance_explained = pca(X)\n",
    "assert_equal(X_new.shape, (100, 50))\n",
    "assert_equal(w.shape, (50, 50))\n",
    "assert_equal(variance_explained.shape, (50,))\n",
    "assert_array_almost_equal(\n",
    "    np.abs(X_new[0,:10]),\n",
    "    [0.02468545, 1.47709396, 0.80158847, 1.46281537, 3.15858308,\n",
    "     0.6204976 , 0.34812499, 1.11621307, 1.00099442, 0.14032812]\n",
    ")\n",
    "assert_array_almost_equal(\n",
    "    np.abs(X_new[0,-10:]),\n",
    "    [0.22097258, 0.41180542, 0.45345479, 0.04780374, 1.39858904,\n",
    "     0.4074328 , 0.1689932 , 0.35511145, 1.10605152, 0.64907094]\n",
    ")\n",
    "assert_array_almost_equal(\n",
    "    np.abs(w[0,:10]),\n",
    "    [0.10984443, 0.04466866,  0.07609874, 0.20949   , 0.16766863,\n",
    "     0.16917997, 0.12601683,  0.01216497, 0.0848295 , 0.27422712]\n",
    ")\n",
    "assert_array_almost_equal(\n",
    "    np.abs(w[0,-10:]),\n",
    "    [0.03102559,  0.31369297, 0.25129197,  0.25058488, 0.13686937,\n",
    "     0.1097446 ,  0.02934478, 0.03393016,  0.13415692, 0.03920861]\n",
    ")\n",
    "assert_array_almost_equal(\n",
    "    variance_explained[:10],\n",
    "    [0.05514495, 0.05093447, 0.04686112, 0.04541824, 0.0417751 ,\n",
    "     0.04042561, 0.03748936, 0.03665323, 0.03535593, 0.03329312]\n",
    ")"
   ]
  },
  {
   "cell_type": "markdown",
   "metadata": {},
   "source": [
    "## PCA on the Boston House Prices dataset"
   ]
  },
  {
   "cell_type": "markdown",
   "metadata": {},
   "source": [
    "For this section, we will work with the [Boston House Prices](http://scikit-learn.org/stable/datasets/index.html#boston-house-prices-dataset) dataset."
   ]
  },
  {
   "cell_type": "code",
   "execution_count": 75,
   "metadata": {
    "ExecuteTime": {
     "end_time": "2021-08-06T10:18:42.902557Z",
     "start_time": "2021-08-06T10:18:42.892155Z"
    }
   },
   "outputs": [
    {
     "name": "stdout",
     "output_type": "stream",
     "text": [
      ".. _boston_dataset:\n",
      "\n",
      "Boston house prices dataset\n",
      "---------------------------\n",
      "\n",
      "**Data Set Characteristics:**  \n",
      "\n",
      "    :Number of Instances: 506 \n",
      "\n",
      "    :Number of Attributes: 13 numeric/categorical predictive. Median Value (attribute 14) is usually the target.\n",
      "\n",
      "    :Attribute Information (in order):\n",
      "        - CRIM     per capita crime rate by town\n",
      "        - ZN       proportion of residential land zoned for lots over 25,000 sq.ft.\n",
      "        - INDUS    proportion of non-retail business acres per town\n",
      "        - CHAS     Charles River dummy variable (= 1 if tract bounds river; 0 otherwise)\n",
      "        - NOX      nitric oxides concentration (parts per 10 million)\n",
      "        - RM       average number of rooms per dwelling\n",
      "        - AGE      proportion of owner-occupied units built prior to 1940\n",
      "        - DIS      weighted distances to five Boston employment centres\n",
      "        - RAD      index of accessibility to radial highways\n",
      "        - TAX      full-value property-tax rate per $10,000\n",
      "        - PTRATIO  pupil-teacher ratio by town\n",
      "        - B        1000(Bk - 0.63)^2 where Bk is the proportion of blacks by town\n",
      "        - LSTAT    % lower status of the population\n",
      "        - MEDV     Median value of owner-occupied homes in $1000's\n",
      "\n",
      "    :Missing Attribute Values: None\n",
      "\n",
      "    :Creator: Harrison, D. and Rubinfeld, D.L.\n",
      "\n",
      "This is a copy of UCI ML housing dataset.\n",
      "https://archive.ics.uci.edu/ml/machine-learning-databases/housing/\n",
      "\n",
      "\n",
      "This dataset was taken from the StatLib library which is maintained at Carnegie Mellon University.\n",
      "\n",
      "The Boston house-price data of Harrison, D. and Rubinfeld, D.L. 'Hedonic\n",
      "prices and the demand for clean air', J. Environ. Economics & Management,\n",
      "vol.5, 81-102, 1978.   Used in Belsley, Kuh & Welsch, 'Regression diagnostics\n",
      "...', Wiley, 1980.   N.B. Various transformations are used in the table on\n",
      "pages 244-261 of the latter.\n",
      "\n",
      "The Boston house-price data has been used in many machine learning papers that address regression\n",
      "problems.   \n",
      "     \n",
      ".. topic:: References\n",
      "\n",
      "   - Belsley, Kuh & Welsch, 'Regression diagnostics: Identifying Influential Data and Sources of Collinearity', Wiley, 1980. 244-261.\n",
      "   - Quinlan,R. (1993). Combining Instance-Based and Model-Based Learning. In Proceedings on the Tenth International Conference of Machine Learning, 236-243, University of Massachusetts, Amherst. Morgan Kaufmann.\n",
      "\n"
     ]
    }
   ],
   "source": [
    "bhp = load_boston()\n",
    "print(bhp.DESCR)"
   ]
  },
  {
   "cell_type": "markdown",
   "metadata": {},
   "source": [
    "We remove the indicator variable and standardize the features."
   ]
  },
  {
   "cell_type": "code",
   "execution_count": 76,
   "metadata": {
    "ExecuteTime": {
     "end_time": "2021-08-06T10:18:46.031239Z",
     "start_time": "2021-08-06T10:18:46.027252Z"
    }
   },
   "outputs": [],
   "source": [
    "X = np.hstack((bhp.data[:,:3], bhp.data[:,4:]))\n",
    "X = (X - X.mean(axis=0)) / X.std(axis=0)"
   ]
  },
  {
   "cell_type": "markdown",
   "metadata": {
    "ExecuteTime": {
     "end_time": "2018-05-24T22:14:32.858521Z",
     "start_time": "2018-05-24T22:14:32.854984Z"
    }
   },
   "source": [
    "Let us rotate the axes and plot them along the first two principal components."
   ]
  },
  {
   "cell_type": "code",
   "execution_count": 77,
   "metadata": {
    "ExecuteTime": {
     "end_time": "2021-08-06T10:18:47.755369Z",
     "start_time": "2021-08-06T10:18:47.751833Z"
    }
   },
   "outputs": [],
   "source": [
    "X_new, w, variance_explained = pca(X)"
   ]
  },
  {
   "cell_type": "code",
   "execution_count": 54,
   "metadata": {
    "ExecuteTime": {
     "end_time": "2021-08-06T10:13:37.131744Z",
     "start_time": "2021-08-06T10:13:36.960573Z"
    }
   },
   "outputs": [
    {
     "data": {
      "image/png": "[encoded data removed]",
      "text/plain": [
       "<Figure size 432x288 with 1 Axes>"
      ]
     },
     "metadata": {
      "needs_background": "light"
     },
     "output_type": "display_data"
    }
   ],
   "source": [
    "plt.scatter(X_new[:,0], X_new[:,1])\n",
    "plt.xlabel('PC1')\n",
    "plt.ylabel('PC2');"
   ]
  },
  {
   "cell_type": "markdown",
   "metadata": {
    "ExecuteTime": {
     "end_time": "2018-05-24T22:39:43.022510Z",
     "start_time": "2018-05-24T22:39:43.017538Z"
    }
   },
   "source": [
    "We plot the variance explained by each principal component below. This is known as a scree plot."
   ]
  },
  {
   "cell_type": "code",
   "execution_count": 78,
   "metadata": {
    "ExecuteTime": {
     "end_time": "2021-08-06T10:18:50.391174Z",
     "start_time": "2021-08-06T10:18:50.243741Z"
    }
   },
   "outputs": [
    {
     "data": {
      "image/png": "[encoded data removed]",
      "text/plain": [
       "<Figure size 432x288 with 1 Axes>"
      ]
     },
     "metadata": {
      "needs_background": "light"
     },
     "output_type": "display_data"
    }
   ],
   "source": [
    "plt.plot(range(1, len(variance_explained)+1), variance_explained, 'o-')\n",
    "plt.ylim(0,1)\n",
    "plt.xlabel('PC')\n",
    "plt.ylabel('variance explained');"
   ]
  },
  {
   "cell_type": "markdown",
   "metadata": {
    "ExecuteTime": {
     "end_time": "2018-05-24T23:09:07.858982Z",
     "start_time": "2018-05-24T23:09:07.853978Z"
    }
   },
   "source": [
    "The first principal component already explains 51% of the observed variance. We perform dimensionality reduction by selecting $q < p$ principal components from the original $p$ dimensions. In practice, we look at the total variance explained by the $q$ principal components and select the value of $q$ based on the desired total variance explained."
   ]
  },
  {
   "cell_type": "code",
   "execution_count": 79,
   "metadata": {
    "ExecuteTime": {
     "end_time": "2021-08-06T10:18:53.159458Z",
     "start_time": "2021-08-06T10:18:53.007894Z"
    }
   },
   "outputs": [
    {
     "data": {
      "image/png": "[encoded data removed]",
      "text/plain": [
       "<Figure size 432x288 with 1 Axes>"
      ]
     },
     "metadata": {
      "needs_background": "light"
     },
     "output_type": "display_data"
    }
   ],
   "source": [
    "plt.plot(range(1, len(variance_explained)+1), \n",
    "         variance_explained.cumsum(), 'o-')\n",
    "plt.ylim(0,1)\n",
    "plt.xlabel('number of PCs')\n",
    "plt.ylabel('cumulative variance explained');"
   ]
  },
  {
   "cell_type": "markdown",
   "metadata": {},
   "source": [
    "Let us arbitrarily set a total variance explained threshold of 90%. This corresponds to seven PCs. To project the standardized values to 7 dimensions, we truncate $\\mathbf{w}$ to retain only the first 7 columns (eigenvectors) then (right) multiply it to $\\mathbf{X}$. Another approach is to just retain the first 7 columns of `X_new`."
   ]
  },
  {
   "cell_type": "markdown",
   "metadata": {},
   "source": [
    "To ease interpretation, let us plot the original coordinates into the new PCs."
   ]
  },
  {
   "cell_type": "code",
   "execution_count": 80,
   "metadata": {
    "ExecuteTime": {
     "end_time": "2021-08-06T10:18:55.360481Z",
     "start_time": "2021-08-06T10:18:55.118922Z"
    }
   },
   "outputs": [
    {
     "data": {
      "image/png": "[encoded data removed]",
      "text/plain": [
       "<Figure size 900x600 with 1 Axes>"
      ]
     },
     "metadata": {
      "needs_background": "light"
     },
     "output_type": "display_data"
    }
   ],
   "source": [
    "fig, ax = plt.subplots(1, 1, subplot_kw=dict(aspect='equal'), dpi=150)\n",
    "ax.scatter(X_new[:,0], X_new[:,1])\n",
    "features = np.concatenate((bhp.feature_names[:3], bhp.feature_names[4:]))\n",
    "for feature, vec in zip(features, w):\n",
    "    ax.arrow(0, 0, 5*vec[0], 5*vec[1], width=0.1, ec='none', fc='r')\n",
    "    ax.text(7*vec[0], 7*vec[1], feature, ha='center', color='r')\n",
    "ax.set_xlim(-6, 6)\n",
    "ax.set_ylim(-6, 6)\n",
    "ax.set_xlabel('PC1')\n",
    "ax.set_ylabel('PC2');"
   ]
  },
  {
   "cell_type": "markdown",
   "metadata": {},
   "source": [
    "A benefit of PCA is that its results are interpretable. Here are some of the things you can look at when interpreting the resulting scatter plot.\n",
    "\n",
    "* **Coordinates**: What do the directions of each PC mean? Use the general direction of the transformed dimensions as a guide.\n",
    "* **Correlations**: Which groups of transformed dimensions point toward the same direction? Which are opposite to each other? These suggest correlation or anticorrelation.\n",
    "* **Clusters**: Which points clump together?\n",
    "* **Funnels**: Are there points that are wide on one side and narrow on the other? This suggest dependence of principal components.\n",
    "* **Voids**: Are there unusually unpopulated areas? This suggests certain combinations of values are unlikely to occur."
   ]
  },
  {
   "cell_type": "markdown",
   "metadata": {
    "deletable": false,
    "editable": false,
    "nbgrader": {
     "cell_type": "markdown",
     "checksum": "d71e827b0dce0bfe39f76d3ab1c6b2f3",
     "grade": false,
     "grade_id": "cell-19b57896df4c3f56",
     "locked": true,
     "schema_version": 3,
     "solution": false,
     "task": false
    }
   },
   "source": [
    "**Problem 3**\n",
    "\n",
    "Interpret the plot above."
   ]
  },
  {
   "cell_type": "markdown",
   "metadata": {
    "deletable": false,
    "nbgrader": {
     "cell_type": "markdown",
     "checksum": "d997983d5f7fdfa2203e57bd54204e54",
     "grade": true,
     "grade_id": "cell-20e9bd8d02ccbad2",
     "locked": false,
     "points": 1,
     "schema_version": 3,
     "solution": true
    }
   },
   "source": [
    "YOUR ANSWER HERE"
   ]
  },
  {
   "cell_type": "markdown",
   "metadata": {
    "deletable": false,
    "editable": false,
    "nbgrader": {
     "cell_type": "markdown",
     "checksum": "1176199908c9e97eb6a6ae70d8107168",
     "grade": false,
     "grade_id": "cell-c27a944a580fc914",
     "locked": true,
     "points": 3,
     "schema_version": 3,
     "solution": false,
     "task": true
    }
   },
   "source": [
    "**Problem 4 [3 pts]**\n",
    "\n",
    "Perform PCA on the wines dataset. Make sure to include the number of PCs to be retained and its justification, as well as interpretation."
   ]
  },
  {
   "cell_type": "markdown",
   "metadata": {},
   "source": [
    "## References\n",
    "* C. Shalizi, Statistics 36-350 lecture notes, http://www.stat.cmu.edu/~cshalizi/350/lectures/10/lecture-10.pdf\n",
    "* C. Aggarwal, Data Mining: The Textbook, Chapter 2."
   ]
  }
 ],
 "metadata": {
  "hide_input": false,
  "kernelspec": {
   "display_name": "Python 3",
   "language": "python",
   "name": "python3"
  },
  "language_info": {
   "codemirror_mode": {
    "name": "ipython",
    "version": 3
   },
   "file_extension": ".py",
   "mimetype": "text/x-python",
   "name": "python",
   "nbconvert_exporter": "python",
   "pygments_lexer": "ipython3",
   "version": "3.8.10"
  },
  "toc": {
   "base_numbering": 1,
   "nav_menu": {},
   "number_sections": true,
   "sideBar": true,
   "skip_h1_title": false,
   "title_cell": "Table of Contents",
   "title_sidebar": "Contents",
   "toc_cell": false,
   "toc_position": {},
   "toc_section_display": true,
   "toc_window_display": false
  }
 },
 "nbformat": 4,
 "nbformat_minor": 4
}
