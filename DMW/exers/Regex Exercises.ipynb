{
 "cells": [
  {
   "cell_type": "markdown",
   "metadata": {
    "deletable": false,
    "editable": false,
    "nbgrader": {
     "cell_type": "markdown",
     "checksum": "6fad15216f5baa69ab19edfb6053c89e",
     "grade": false,
     "grade_id": "cell-84fc838e495a90a2",
     "locked": true,
     "schema_version": 3,
     "solution": false,
     "task": false
    }
   },
   "source": [
    "For this set of exercises, all answers should be the result of a single call to a `re` function."
   ]
  },
  {
   "cell_type": "code",
   "execution_count": null,
   "metadata": {},
   "outputs": [],
   "source": []
  },
  {
   "cell_type": "code",
   "execution_count": 1,
   "metadata": {
    "ExecuteTime": {
     "end_time": "2021-07-06T14:36:41.070515Z",
     "start_time": "2021-07-06T14:36:40.764766Z"
    },
    "deletable": false,
    "editable": false,
    "execution": {
     "iopub.execute_input": "2021-08-02T15:42:28.111634Z",
     "iopub.status.busy": "2021-08-02T15:42:28.111634Z",
     "iopub.status.idle": "2021-08-02T15:42:28.456711Z",
     "shell.execute_reply": "2021-08-02T15:42:28.455795Z",
     "shell.execute_reply.started": "2021-08-02T15:42:28.111634Z"
    },
    "nbgrader": {
     "cell_type": "code",
     "checksum": "3120237c3255b998509998932029c5cd",
     "grade": false,
     "grade_id": "cell-da789fa3c7a31d5c",
     "locked": true,
     "schema_version": 3,
     "solution": false
    },
    "tags": []
   },
   "outputs": [],
   "source": [
    "import re\n",
    "from numpy.testing import assert_equal"
   ]
  },
  {
   "cell_type": "markdown",
   "metadata": {
    "deletable": false,
    "editable": false,
    "nbgrader": {
     "cell_type": "markdown",
     "checksum": "cccffbc01b0181ced36ff7b5c48880bf",
     "grade": false,
     "grade_id": "cell-9d896ac62acab965",
     "locked": true,
     "schema_version": 3,
     "solution": false
    }
   },
   "source": [
    "## Problem 1\n",
    "Create a function `is_date` that uses python regular expressions to check whether the input string follows any of the following date format:\n",
    "\n",
    "* yyyy-mm-dd\n",
    "* yyyy/mm/dd\n",
    "* mm-dd-yyyy\n",
    "* mm/dd/yyyy\n",
    "* dd-mm-yyyy\n",
    "* dd/mm/yyyy\n",
    "\n",
    "It should return `True` if it does and `False` otherwise. No need to check whether the input is a valid date."
   ]
  },
  {
   "cell_type": "code",
   "execution_count": 89,
   "metadata": {},
   "outputs": [
    {
     "name": "stdout",
     "output_type": "stream",
     "text": [
      "The pycodestyle_magic extension is already loaded. To reload it, use:\n",
      "  %reload_ext pycodestyle_magic\n"
     ]
    }
   ],
   "source": [
    "%load_ext pycodestyle_magic\n",
    "%pycodestyle_on"
   ]
  },
  {
   "cell_type": "code",
   "execution_count": 90,
   "metadata": {
    "ExecuteTime": {
     "end_time": "2021-07-06T14:36:46.901540Z",
     "start_time": "2021-07-06T14:36:46.896840Z"
    },
    "deletable": false,
    "nbgrader": {
     "cell_type": "code",
     "checksum": "6d799343768e8d92412d3f1646607391",
     "grade": false,
     "grade_id": "cell-fa81bd9b31310679",
     "locked": false,
     "schema_version": 3,
     "solution": true,
     "task": false
    }
   },
   "outputs": [
    {
     "name": "stderr",
     "output_type": "stream",
     "text": [
      "19:14: W605 invalid escape sequence '\\d'\n",
      "22:15: W605 invalid escape sequence '\\d'\n",
      "25:14: W605 invalid escape sequence '\\d'\n",
      "28:15: W605 invalid escape sequence '\\d'\n"
     ]
    }
   ],
   "source": [
    "def is_date(test_str):\n",
    "    \"\"\"Return True if string input is in correct format; False otherwise\n",
    "\n",
    "    Parameters\n",
    "    ----------\n",
    "    test_str : str\n",
    "        Input string\n",
    "\n",
    "    Returns\n",
    "    -------\n",
    "    Bool\n",
    "    \"\"\"\n",
    "    YMD = (r'^(\\d{4})(-)((0[1-9])|(1[0-2]))(-)'\n",
    "           '((0[1-9])|([1-2][0-9])|(3[0-1]))$')\n",
    "    YMD2 = (r'^(\\d{4})(/)((0[1-9])|(1[0-2]))(/)'\n",
    "            '((0[1-9])|([1-2][0-9])|(3[0-1]))$')\n",
    "    MDY = (r'((0[1-9])|(1[0-2]))(-)'\n",
    "           '((0[1-9])|([1-2][0-9])|(3[0-1]))(-)'\n",
    "           '(\\d{4})$')\n",
    "    MDY2 = (r'((0[1-9])|(1[0-2]))(/)'\n",
    "            '((0[1-9])|([1-2][0-9])|(3[0-1]))(/)'\n",
    "            '(\\d{4})$')\n",
    "    DMY = (r'((0[1-9])|([1-2][0-9])|(3[0-1]))(-)'\n",
    "           '((0[1-9])|(1[0-2]))(-)'\n",
    "           '(\\d{4})$')\n",
    "    DMY2 = (r'((0[1-9])|([1-2][0-9])|(3[0-1]))(/)'\n",
    "            '((0[1-9])|(1[0-2]))(/)'\n",
    "            '(\\d{4})$')\n",
    "    return (re.match('|'.join([YMD, YMD2, MDY, DMY, MDY2, DMY2]), test_str)\n",
    "            is not None)"
   ]
  },
  {
   "cell_type": "code",
   "execution_count": 110,
   "metadata": {
    "execution": {
     "iopub.execute_input": "2021-08-02T16:17:41.239715Z",
     "iopub.status.busy": "2021-08-02T16:17:41.239715Z",
     "iopub.status.idle": "2021-08-02T16:17:41.255673Z",
     "shell.execute_reply": "2021-08-02T16:17:41.254701Z",
     "shell.execute_reply.started": "2021-08-02T16:17:41.239715Z"
    },
    "tags": []
   },
   "outputs": [],
   "source": [
    "# yyyy-mm-dd\n",
    "# yyyy/mm/dd\n",
    "# mm-dd-yyyy\n",
    "# mm/dd/yyyy\n",
    "# dd-mm-yyyy\n",
    "# dd/mm/yyyy\n",
    "def is_date(text):\n",
    "    # yyyy-mm-dd\n",
    "    re.findall(r'[1-9][0-9]{3}[-/](?:(?:0[1-9])|(?:1[0-2]))[-/](?:(?:[0-2][0-9])|(?:3[01]))', text)\n",
    "    ymd = r'[1-9][0-9]{3}[-/](?:(?:0[1-9])|(?:1[0-2]))[-/](?:(?:[0-2][0-9])|(?:3[01]))$'\n",
    "    # yyyy-dd-mm\n",
    "    re.findall(r'[1-9][0-9]{3}[-/](?:(?:[0-2][0-9])|(?:3[01]))[-/](?:(?:0[1-9])|(?:1[0-2]))', text)\n",
    "    ydm = r'[1-9][0-9]{3}[-/](?:(?:[0-2][0-9])|(?:3[01]))[-/](?:(?:0[1-9])|(?:1[0-2]))$'\n",
    "    # dd-mm-yyyy\n",
    "    re.findall(r'(?:(?:[0-2][0-9])|(?:3[01]))[-/](?:(?:0[1-9])|(?:1[0-2]))[-/][1-9][0-9]{3}', text)\n",
    "    dmy = r'(?:(?:[0-2][0-9])|(?:3[01]))[-/](?:(?:0[1-9])|(?:1[0-2]))[-/][1-9][0-9]{3}$'\n",
    "    # mm-dd-yyyy\n",
    "    re.findall(r'(?:(?:0[1-9])|(?:1[0-2]))[-/](?:(?:[0-2][0-9])|(?:3[01]))[-/][1-9][0-9]{3}', text)\n",
    "    mdy = r'(?:(?:0[1-9])|(?:1[0-2]))[-/](?:(?:[0-2][0-9])|(?:3[01]))[-/][1-9][0-9]{3}$'\n",
    "\n",
    "    compiled = fr'(?:{ymd})|(?:{ydm})|(?:{dmy})|(?:{mdy})'\n",
    "\n",
    "    return re.match(compiled, text) is not None"
   ]
  },
  {
   "cell_type": "code",
   "execution_count": 69,
   "metadata": {
    "execution": {
     "iopub.execute_input": "2021-08-02T16:11:44.426925Z",
     "iopub.status.busy": "2021-08-02T16:11:44.426925Z",
     "iopub.status.idle": "2021-08-02T16:11:44.436898Z",
     "shell.execute_reply": "2021-08-02T16:11:44.435901Z",
     "shell.execute_reply.started": "2021-08-02T16:11:44.426925Z"
    },
    "tags": []
   },
   "outputs": [
    {
     "data": {
      "text/plain": [
       "[]"
      ]
     },
     "execution_count": 69,
     "metadata": {},
     "output_type": "execute_result"
    }
   ],
   "source": [
    "re.findall(r'[1-9][0-9]{3}[-/](?:(?:0[1-9])|(?:1[0-2]))[-/](?:(?:[0-2][0-9])|(?:3[01]))', '5-18-2020')"
   ]
  },
  {
   "cell_type": "code",
   "execution_count": 109,
   "metadata": {
    "execution": {
     "iopub.execute_input": "2021-08-02T16:17:25.654099Z",
     "iopub.status.busy": "2021-08-02T16:17:25.654099Z",
     "iopub.status.idle": "2021-08-02T16:17:25.669058Z",
     "shell.execute_reply": "2021-08-02T16:17:25.669058Z",
     "shell.execute_reply.started": "2021-08-02T16:17:25.654099Z"
    },
    "tags": []
   },
   "outputs": [
    {
     "data": {
      "text/plain": [
       "[]"
      ]
     },
     "execution_count": 109,
     "metadata": {},
     "output_type": "execute_result"
    }
   ],
   "source": [
    "is_date('5-18-2020')"
   ]
  },
  {
   "cell_type": "code",
   "execution_count": 111,
   "metadata": {
    "ExecuteTime": {
     "end_time": "2021-07-06T14:37:18.371123Z",
     "start_time": "2021-07-06T14:37:18.347358Z"
    },
    "deletable": false,
    "editable": false,
    "execution": {
     "iopub.execute_input": "2021-08-02T16:17:42.898407Z",
     "iopub.status.busy": "2021-08-02T16:17:42.898407Z",
     "iopub.status.idle": "2021-08-02T16:17:42.917322Z",
     "shell.execute_reply": "2021-08-02T16:17:42.916359Z",
     "shell.execute_reply.started": "2021-08-02T16:17:42.898407Z"
    },
    "nbgrader": {
     "cell_type": "code",
     "checksum": "4728d8b6145caec037a0ab672e959467",
     "grade": true,
     "grade_id": "cell-ab95141581705770",
     "locked": true,
     "points": 1,
     "schema_version": 3,
     "solution": false,
     "task": false
    },
    "tags": []
   },
   "outputs": [],
   "source": [
    "assert_equal(is_date('2020-05-18'), True)\n",
    "assert_equal(is_date('2020/05/18'), True)\n",
    "assert_equal(is_date('05-18-2020'), True)\n",
    "assert_equal(is_date('05/18/2020'), True)\n",
    "assert_equal(is_date('18-05-2020'), True)\n",
    "assert_equal(is_date('18/05/2020'), True)\n",
    "assert_equal(is_date('5-18-2020'), False)\n",
    "assert_equal(is_date('5/18/2020'), False)\n",
    "assert_equal(is_date('18-5-2020'), False)\n",
    "assert_equal(is_date('18/5/2020'), False)\n",
    "assert_equal(is_date('2020-054-18'), False)\n",
    "assert_equal(is_date('2020-05-181'), False)\n",
    "assert_equal(is_date('202-05-18'), False)"
   ]
  },
  {
   "cell_type": "markdown",
   "metadata": {
    "deletable": false,
    "editable": false,
    "nbgrader": {
     "cell_type": "markdown",
     "checksum": "75e2ea28a1fa9e6bbcaa852bcf7f2fdf",
     "grade": false,
     "grade_id": "cell-9f08327de3437c41",
     "locked": true,
     "schema_version": 3,
     "solution": false
    }
   },
   "source": [
    "## Problem 2\n",
    "Create a function `find_data` that returns all occurrences of `data set` or `dataset` in `text` as a list of strings in the same order as they appear in `text`."
   ]
  },
  {
   "cell_type": "code",
   "execution_count": 92,
   "metadata": {
    "ExecuteTime": {
     "end_time": "2021-07-06T23:39:33.751255Z",
     "start_time": "2021-07-06T23:39:33.745321Z"
    },
    "deletable": false,
    "nbgrader": {
     "cell_type": "code",
     "checksum": "6c0a276875e05abe76dbbb3dd527ca20",
     "grade": false,
     "grade_id": "cell-488abc2ed1aa5177",
     "locked": false,
     "schema_version": 3,
     "solution": true,
     "task": false
    }
   },
   "outputs": [],
   "source": [
    "def find_data(text):\n",
    "    \"\"\"\n",
    "    Returns all instances of data set or dataset in text as a list of strings\n",
    "    in the same order as they appear\n",
    "\n",
    "    Parameters\n",
    "    ----------\n",
    "    text : str\n",
    "        Input string\n",
    "\n",
    "    Returns\n",
    "    -------\n",
    "    List\n",
    "    \"\"\"\n",
    "    return [i.group() for i in re.finditer(r'\\bdataset\\b|\\bdata\\sset\\b', text)]"
   ]
  },
  {
   "cell_type": "code",
   "execution_count": 113,
   "metadata": {
    "execution": {
     "iopub.execute_input": "2021-08-02T16:19:19.063605Z",
     "iopub.status.busy": "2021-08-02T16:19:19.062608Z",
     "iopub.status.idle": "2021-08-02T16:19:19.069589Z",
     "shell.execute_reply": "2021-08-02T16:19:19.069589Z",
     "shell.execute_reply.started": "2021-08-02T16:19:19.062608Z"
    },
    "tags": []
   },
   "outputs": [],
   "source": [
    "text = \"\"\"\n",
    "My dataset is bigger than your data set. Your data set is so tiny, ten of your\n",
    "data sets can fit inside my dataset. Ten of your data sets inside one of my\n",
    "data set! Your data set doesn't stand a chance.\n",
    "\"\"\"\n",
    "def find_data(text):\n",
    "    return re.findall(r'\\bdata\\s?set\\b', text)"
   ]
  },
  {
   "cell_type": "code",
   "execution_count": 114,
   "metadata": {
    "ExecuteTime": {
     "end_time": "2021-07-06T23:39:35.935853Z",
     "start_time": "2021-07-06T23:39:35.929424Z"
    },
    "deletable": false,
    "editable": false,
    "execution": {
     "iopub.execute_input": "2021-08-02T16:19:20.568292Z",
     "iopub.status.busy": "2021-08-02T16:19:20.568292Z",
     "iopub.status.idle": "2021-08-02T16:19:20.586242Z",
     "shell.execute_reply": "2021-08-02T16:19:20.585246Z",
     "shell.execute_reply.started": "2021-08-02T16:19:20.568292Z"
    },
    "nbgrader": {
     "cell_type": "code",
     "checksum": "4186c934410871dfb7dca36d2054b0b8",
     "grade": true,
     "grade_id": "cell-56d01f65a5255b8c",
     "locked": true,
     "points": 1,
     "schema_version": 3,
     "solution": false,
     "task": false
    },
    "tags": []
   },
   "outputs": [],
   "source": [
    "text = \"\"\"\n",
    "My dataset is bigger than your data set. Your data set is so tiny, ten of your\n",
    "data sets can fit inside my dataset. Ten of your data sets inside one of my\n",
    "data set! Your data set doesn't stand a chance.\n",
    "\"\"\"\n",
    "assert_equal(\n",
    "    find_data(text), \n",
    "    ['dataset', 'data set', 'data set', 'dataset', 'data set', 'data set'])"
   ]
  },
  {
   "cell_type": "markdown",
   "metadata": {
    "ExecuteTime": {
     "end_time": "2019-05-06T04:30:31.342470Z",
     "start_time": "2019-05-06T04:30:31.332861Z"
    },
    "deletable": false,
    "editable": false,
    "nbgrader": {
     "cell_type": "markdown",
     "checksum": "c638a7431b1cea2af3cfa18017a2feea",
     "grade": false,
     "grade_id": "cell-67bd49e59ede699b",
     "locked": true,
     "schema_version": 3,
     "solution": false
    }
   },
   "source": [
    "## Problem 3\n",
    "Create a function `find_data` that returns all phrases in `text` that begin with the word `little` and end with the word `lamb` as a list of strings in the same order as they appear in `text`."
   ]
  },
  {
   "cell_type": "code",
   "execution_count": 94,
   "metadata": {
    "ExecuteTime": {
     "end_time": "2021-07-06T14:39:00.207632Z",
     "start_time": "2021-07-06T14:39:00.203152Z"
    },
    "deletable": false,
    "nbgrader": {
     "cell_type": "code",
     "checksum": "5615efed0d6820b145e202b0595e1f4c",
     "grade": false,
     "grade_id": "cell-d320f306907bed75",
     "locked": false,
     "schema_version": 3,
     "solution": true,
     "task": false
    }
   },
   "outputs": [],
   "source": [
    "def find_lamb(text):\n",
    "    \"\"\"\n",
    "    Return all phrases in text that begin with the word little and end with\n",
    "    the word lamb as a list of strings in the same order as they appear in\n",
    "    text\n",
    "\n",
    "    Parameters\n",
    "    ----------\n",
    "    text : str\n",
    "        Input string\n",
    "\n",
    "    Returns\n",
    "    -------\n",
    "    List\n",
    "    \"\"\"\n",
    "    return re.findall(r'\\blittle\\b.*?\\blamb\\b', text)"
   ]
  },
  {
   "cell_type": "code",
   "execution_count": 116,
   "metadata": {
    "execution": {
     "iopub.execute_input": "2021-08-02T16:28:36.337762Z",
     "iopub.status.busy": "2021-08-02T16:28:36.337762Z",
     "iopub.status.idle": "2021-08-02T16:28:36.351302Z",
     "shell.execute_reply": "2021-08-02T16:28:36.351302Z",
     "shell.execute_reply.started": "2021-08-02T16:28:36.337762Z"
    },
    "tags": []
   },
   "outputs": [
    {
     "data": {
      "text/plain": [
       "['little lamb, little lamb, little lamb',\n",
       " 'little brown lamb, little brown lamb, little brown lamb']"
      ]
     },
     "execution_count": 116,
     "metadata": {},
     "output_type": "execute_result"
    }
   ],
   "source": [
    "text = \"\"\"\n",
    "Mary had a little lamb, little lamb, little lamb\n",
    "Mary had a little brown lamb, little brown lamb, little brown lamb\n",
    "Whose wool is as brown as wood\n",
    "\"\"\"\n",
    "re.findall(r'\\blittle\\b.*\\slamb\\b', text)"
   ]
  },
  {
   "cell_type": "code",
   "execution_count": 95,
   "metadata": {
    "ExecuteTime": {
     "end_time": "2021-07-06T14:39:08.911693Z",
     "start_time": "2021-07-06T14:39:08.906033Z"
    },
    "deletable": false,
    "editable": false,
    "nbgrader": {
     "cell_type": "code",
     "checksum": "c9fca2a068bd48995abde3a506816e92",
     "grade": true,
     "grade_id": "cell-baa90ee7745a4128",
     "locked": true,
     "points": 1,
     "schema_version": 3,
     "solution": false,
     "task": false
    }
   },
   "outputs": [
    {
     "name": "stderr",
     "output_type": "stream",
     "text": [
      "7:21: W291 trailing whitespace\n"
     ]
    }
   ],
   "source": [
    "text = \"\"\"\n",
    "Mary had a little lamb, little lamb, little lamb\n",
    "Mary had a little brown lamb, little brown lamb, little brown lamb\n",
    "Whose wool is as brown as wood\n",
    "\"\"\"\n",
    "assert_equal(\n",
    "    find_lamb(text), \n",
    "    ['little lamb',\n",
    "     'little lamb',\n",
    "     'little lamb',\n",
    "     'little brown lamb',\n",
    "     'little brown lamb',\n",
    "     'little brown lamb'])"
   ]
  },
  {
   "cell_type": "markdown",
   "metadata": {
    "deletable": false,
    "editable": false,
    "nbgrader": {
     "cell_type": "markdown",
     "checksum": "e18cf2ce583c5845edec65b5c065d08e",
     "grade": false,
     "grade_id": "cell-0f535a1998a8a516",
     "locked": true,
     "schema_version": 3,
     "solution": false
    }
   },
   "source": [
    "## Problem 4\n",
    "Create a function `repeat_alternate` that returns a string where every other word of `text` is repeated."
   ]
  },
  {
   "cell_type": "code",
   "execution_count": 96,
   "metadata": {
    "ExecuteTime": {
     "end_time": "2021-07-06T14:39:19.261176Z",
     "start_time": "2021-07-06T14:39:19.257247Z"
    },
    "deletable": false,
    "nbgrader": {
     "cell_type": "code",
     "checksum": "06401905b42048c6804691b1be663305",
     "grade": false,
     "grade_id": "cell-0292708fb072d973",
     "locked": false,
     "schema_version": 3,
     "solution": true,
     "task": false
    }
   },
   "outputs": [],
   "source": [
    "def repeat_alternate(text):\n",
    "    \"\"\"\n",
    "    return a string where every other word of text is repeated.\n",
    "\n",
    "    Parameters\n",
    "    ----------\n",
    "    text : str\n",
    "        Input string\n",
    "\n",
    "    Returns\n",
    "    -------\n",
    "    Str\n",
    "    \"\"\"\n",
    "    # ''.join([i + i if x%2 == 0 else i for x,i in enumerate\n",
    "    # (re.findall(r'\\S+\\s?', text))]) works as well\n",
    "    return re.sub(r'\\s*(\\b\\S*\\b)\\s(\\b\\S*\\b\\s)', r'\\1 \\1 \\2', text)"
   ]
  },
  {
   "cell_type": "code",
   "execution_count": 122,
   "metadata": {
    "execution": {
     "iopub.execute_input": "2021-08-02T17:22:41.659610Z",
     "iopub.status.busy": "2021-08-02T17:22:41.659610Z",
     "iopub.status.idle": "2021-08-02T17:22:41.664597Z",
     "shell.execute_reply": "2021-08-02T17:22:41.664597Z",
     "shell.execute_reply.started": "2021-08-02T17:22:41.659610Z"
    },
    "tags": []
   },
   "outputs": [],
   "source": [
    "text = (\"Peter Piper picked a peck of pickled peppers \"\n",
    "        \"A peck of pickled peppers Peter Piper picked \"\n",
    "        \"If Peter Piper picked a peck of pickled peppers \"\n",
    "        \"Where's the peck of pickled peppers Peter Piper picked \")\n",
    "def repeat_alternate(text):\n",
    "    return re.sub(r'\\s*(\\b\\S+\\b)\\s(\\b\\S+\\b\\s)', r'\\1 \\1 \\2', text)"
   ]
  },
  {
   "cell_type": "code",
   "execution_count": 123,
   "metadata": {
    "ExecuteTime": {
     "end_time": "2021-07-06T14:39:31.911705Z",
     "start_time": "2021-07-06T14:39:31.906100Z"
    },
    "deletable": false,
    "editable": false,
    "execution": {
     "iopub.execute_input": "2021-08-02T17:22:42.466453Z",
     "iopub.status.busy": "2021-08-02T17:22:42.466453Z",
     "iopub.status.idle": "2021-08-02T17:22:42.482413Z",
     "shell.execute_reply": "2021-08-02T17:22:42.481414Z",
     "shell.execute_reply.started": "2021-08-02T17:22:42.466453Z"
    },
    "nbgrader": {
     "cell_type": "code",
     "checksum": "4a6396e7ca8f90fac7eef917e67f1a02",
     "grade": true,
     "grade_id": "cell-e59aff47d6e9536d",
     "locked": true,
     "points": 1,
     "schema_version": 3,
     "solution": false,
     "task": false
    },
    "tags": []
   },
   "outputs": [],
   "source": [
    "text = (\"Peter Piper picked a peck of pickled peppers \"\n",
    "        \"A peck of pickled peppers Peter Piper picked \"\n",
    "        \"If Peter Piper picked a peck of pickled peppers \"\n",
    "        \"Where's the peck of pickled peppers Peter Piper picked \")\n",
    "assert_equal(\n",
    "    repeat_alternate(text),\n",
    "    (\"Peter Peter Piper picked picked a peck peck of pickled pickled peppers \"\n",
    "     \"A A peck of of pickled peppers peppers Peter Piper Piper picked If If \"\n",
    "     \"Peter Piper Piper picked a a peck of of pickled peppers peppers \"\n",
    "     \"Where's the the peck of of pickled peppers peppers Peter Piper Piper \"\n",
    "     \"picked \")\n",
    ")"
   ]
  },
  {
   "cell_type": "markdown",
   "metadata": {
    "deletable": false,
    "editable": false,
    "nbgrader": {
     "cell_type": "markdown",
     "checksum": "cb0b5de35073eb810c731cb92df9362d",
     "grade": false,
     "grade_id": "cell-00078fc1e236e0b0",
     "locked": true,
     "schema_version": 3,
     "solution": false
    }
   },
   "source": [
    "## Problem 5\n",
    "Create a function `whats_on_the_bus` that will return the unique items that are on the bus according to the `text`."
   ]
  },
  {
   "cell_type": "code",
   "execution_count": 98,
   "metadata": {
    "ExecuteTime": {
     "end_time": "2021-07-06T14:39:42.318844Z",
     "start_time": "2021-07-06T14:39:42.314519Z"
    },
    "deletable": false,
    "nbgrader": {
     "cell_type": "code",
     "checksum": "a31f6398d55b35fa187667c1e1454d7a",
     "grade": false,
     "grade_id": "cell-c02c23356e069e11",
     "locked": false,
     "schema_version": 3,
     "solution": true,
     "task": false
    }
   },
   "outputs": [
    {
     "name": "stderr",
     "output_type": "stream",
     "text": [
      "14:33: W605 invalid escape sequence '\\w'\n"
     ]
    }
   ],
   "source": [
    "def whats_on_the_bus(text):\n",
    "    \"\"\"\n",
    "    Return the unique items that are on the bus according to the text.\n",
    "\n",
    "    Parameters\n",
    "    ----------\n",
    "    text : str\n",
    "        Input string\n",
    "\n",
    "    Returns\n",
    "    -------\n",
    "    Set\n",
    "    \"\"\"\n",
    "    return set(re.findall('The (\\w+) on the bus', text))"
   ]
  },
  {
   "cell_type": "code",
   "execution_count": 130,
   "metadata": {
    "execution": {
     "iopub.execute_input": "2021-08-02T18:07:00.835817Z",
     "iopub.status.busy": "2021-08-02T18:07:00.835817Z",
     "iopub.status.idle": "2021-08-02T18:07:00.855764Z",
     "shell.execute_reply": "2021-08-02T18:07:00.854770Z",
     "shell.execute_reply.started": "2021-08-02T18:07:00.835817Z"
    },
    "tags": []
   },
   "outputs": [
    {
     "data": {
      "text/plain": [
       "['wheels',\n",
       " 'wheels',\n",
       " 'wipers',\n",
       " 'wipers',\n",
       " 'horn',\n",
       " 'horn',\n",
       " 'babies',\n",
       " 'babies',\n",
       " 'wheels',\n",
       " 'wheels']"
      ]
     },
     "execution_count": 130,
     "metadata": {},
     "output_type": "execute_result"
    }
   ],
   "source": [
    "text = \"\"\"\n",
    "The wheels on the bus go round and round\n",
    "Round and round, round and round\n",
    "The wheels on the bus go round and round\n",
    "All day long\n",
    "The wipers on the bus go swish, swish, swish\n",
    "Swish, swish, swish, swish, swish, swish\n",
    "The wipers on the bus go swish, swish, swish\n",
    "All day long\n",
    "The horn on the bus goes beep, beep, beep\n",
    "Beep, beep, beep, beep, beep, beep\n",
    "The horn on the bus goes beep, beep, beep\n",
    "All day long\n",
    "The babies on the bus go wah, wah, wah\n",
    "Wah, wah, wah, wah, wah, wah\n",
    "The babies on the bus go wah, wah, wah\n",
    "All day long\n",
    "The wheels on the bus go round and round\n",
    "Round and round, round and round\n",
    "The wheels on the bus go round and round\n",
    "All day long\n",
    "\"\"\"\n",
    "re.findall(r'The ([A-Za-z]+?) on the bus',text)"
   ]
  },
  {
   "cell_type": "code",
   "execution_count": 99,
   "metadata": {
    "ExecuteTime": {
     "end_time": "2021-07-06T14:40:22.946984Z",
     "start_time": "2021-07-06T14:40:22.940681Z"
    },
    "deletable": false,
    "editable": false,
    "nbgrader": {
     "cell_type": "code",
     "checksum": "b3ed78ac21a7fe2dd79e180bf83950fd",
     "grade": true,
     "grade_id": "cell-2f60e46012eb1b21",
     "locked": true,
     "points": 1,
     "schema_version": 3,
     "solution": false,
     "task": false
    }
   },
   "outputs": [],
   "source": [
    "text = \"\"\"\n",
    "The wheels on the bus go round and round\n",
    "Round and round, round and round\n",
    "The wheels on the bus go round and round\n",
    "All day long\n",
    "The wipers on the bus go swish, swish, swish\n",
    "Swish, swish, swish, swish, swish, swish\n",
    "The wipers on the bus go swish, swish, swish\n",
    "All day long\n",
    "The horn on the bus goes beep, beep, beep\n",
    "Beep, beep, beep, beep, beep, beep\n",
    "The horn on the bus goes beep, beep, beep\n",
    "All day long\n",
    "The babies on the bus go wah, wah, wah\n",
    "Wah, wah, wah, wah, wah, wah\n",
    "The babies on the bus go wah, wah, wah\n",
    "All day long\n",
    "The wheels on the bus go round and round\n",
    "Round and round, round and round\n",
    "The wheels on the bus go round and round\n",
    "All day long\n",
    "\"\"\"\n",
    "items = whats_on_the_bus(text)\n",
    "assert_equal(len(items), 4)\n",
    "assert_equal(set(items), set(['babies', 'horn', 'wheels', 'wipers']))"
   ]
  },
  {
   "cell_type": "markdown",
   "metadata": {
    "deletable": false,
    "editable": false,
    "nbgrader": {
     "cell_type": "markdown",
     "checksum": "ddc0c7ea7ec3983eb3db760fe9349b55",
     "grade": false,
     "grade_id": "cell-bc810e6ba63dcd83",
     "locked": true,
     "schema_version": 3,
     "solution": false
    }
   },
   "source": [
    "## Problem 6\n",
    "Create a function `to_list` that returns the list of items in `text` which were delimited by `,`, `+` or `and`."
   ]
  },
  {
   "cell_type": "code",
   "execution_count": 100,
   "metadata": {
    "ExecuteTime": {
     "end_time": "2021-07-06T14:40:45.892264Z",
     "start_time": "2021-07-06T14:40:45.887986Z"
    },
    "deletable": false,
    "nbgrader": {
     "cell_type": "code",
     "checksum": "106f1bc2b2a0d12f3222eaf2caae9617",
     "grade": false,
     "grade_id": "cell-5c113a9f3ffb394c",
     "locked": false,
     "schema_version": 3,
     "solution": true,
     "task": false
    }
   },
   "outputs": [],
   "source": [
    "def to_list(text):\n",
    "    \"\"\"\n",
    "    Return the unique items that are on the bus according to the text.\n",
    "\n",
    "    Parameters\n",
    "    ----------\n",
    "    text : str\n",
    "        Input string\n",
    "\n",
    "    Returns\n",
    "    -------\n",
    "    Set\n",
    "    \"\"\"\n",
    "    return re.split('[+,]|and', text)"
   ]
  },
  {
   "cell_type": "code",
   "execution_count": 101,
   "metadata": {
    "ExecuteTime": {
     "end_time": "2021-07-06T14:40:47.258458Z",
     "start_time": "2021-07-06T14:40:46.725047Z"
    },
    "deletable": false,
    "editable": false,
    "nbgrader": {
     "cell_type": "code",
     "checksum": "e7adb0648782dbb488ca88e1ebc576aa",
     "grade": true,
     "grade_id": "cell-607d1cbe582c1369",
     "locked": true,
     "points": 1,
     "schema_version": 3,
     "solution": false,
     "task": false
    }
   },
   "outputs": [
    {
     "name": "stderr",
     "output_type": "stream",
     "text": [
      "3:19: W291 trailing whitespace\n"
     ]
    }
   ],
   "source": [
    "text = \"a,b,candfoo bar+bazandd e+fee fi fo\"\n",
    "assert_equal(\n",
    "    to_list(text), \n",
    "    ['a', 'b', 'c', 'foo bar', 'baz', 'd e', 'fee fi fo'])"
   ]
  },
  {
   "cell_type": "markdown",
   "metadata": {
    "deletable": false,
    "editable": false,
    "nbgrader": {
     "cell_type": "markdown",
     "checksum": "2859c95baf1fd2ea36af0bf95ce2642f",
     "grade": false,
     "grade_id": "cell-fd89b1d3c9f6cd78",
     "locked": true,
     "schema_version": 3,
     "solution": false
    }
   },
   "source": [
    "## Problem 7\n",
    "Create a function `march_product` that returns the product of each `m by n` pair in `text`."
   ]
  },
  {
   "cell_type": "code",
   "execution_count": 102,
   "metadata": {
    "ExecuteTime": {
     "end_time": "2021-07-06T14:41:03.863775Z",
     "start_time": "2021-07-06T14:41:03.858687Z"
    },
    "deletable": false,
    "nbgrader": {
     "cell_type": "code",
     "checksum": "2670558d00347adfac15fca1998f1c12",
     "grade": false,
     "grade_id": "cell-6fed3554cb468af7",
     "locked": false,
     "schema_version": 3,
     "solution": true,
     "task": false
    }
   },
   "outputs": [],
   "source": [
    "def march_product(text):\n",
    "    \"\"\"\n",
    "    Returns the product of each m by n pair in text\n",
    "\n",
    "    Parameters\n",
    "    ----------\n",
    "    text : str\n",
    "        Input string\n",
    "\n",
    "    Returns\n",
    "    -------\n",
    "    List\n",
    "    \"\"\"\n",
    "    pair = re.findall(r'(\\d+) by (\\d+)', text)\n",
    "    return [int(p[0])*int(p[1]) for p in pair]"
   ]
  },
  {
   "cell_type": "code",
   "execution_count": 103,
   "metadata": {
    "ExecuteTime": {
     "end_time": "2021-07-06T14:41:04.760943Z",
     "start_time": "2021-07-06T14:41:04.667716Z"
    },
    "deletable": false,
    "editable": false,
    "nbgrader": {
     "cell_type": "code",
     "checksum": "df0f4fa28fa3dc12bf34c0e6e64d964a",
     "grade": true,
     "grade_id": "cell-952d45adcb46ba4b",
     "locked": true,
     "points": 1,
     "schema_version": 3,
     "solution": false,
     "task": false
    }
   },
   "outputs": [],
   "source": [
    "text = \"\"\"\n",
    "The ants go marching 1 by 1, hurrah, hurrah\n",
    "The ants go marching 2 by 13, hurrah, hurrah\n",
    "The ants go marching 42 by 8,\n",
    "The little one stops to suck his thumb\n",
    "And they all go marching down to the ground\n",
    "To get out of the rain, BOOM! BOOM! BOOM!\n",
    "\n",
    "The ants go marching 9 by 16, hurrah, hurrah\n",
    "The ants go marching 54 by 7, hurrah, hurrah\n",
    "The ants go marching 8 by 42,\n",
    "The little one stops to tie his shoe\n",
    "And they all go marching down to the ground\n",
    "To get out of the rain, BOOM! BOOM! BOOM!\n",
    "\"\"\"\n",
    "assert_equal(march_product(text), [1, 26, 336, 144, 378, 336])"
   ]
  },
  {
   "cell_type": "markdown",
   "metadata": {
    "deletable": false,
    "editable": false,
    "nbgrader": {
     "cell_type": "markdown",
     "checksum": "2746671088fcf21f2c4b4d054801282e",
     "grade": false,
     "grade_id": "cell-10844443b1407356",
     "locked": true,
     "schema_version": 3,
     "solution": false
    }
   },
   "source": [
    "## Problem 8\n",
    "Create a function `get_big` that will take in `items` and return the list of `ITEM`s that begin with `Big` but with an SKU that is not all numbers."
   ]
  },
  {
   "cell_type": "code",
   "execution_count": 112,
   "metadata": {
    "ExecuteTime": {
     "end_time": "2021-07-06T14:41:17.284226Z",
     "start_time": "2021-07-06T14:41:17.279691Z"
    },
    "deletable": false,
    "nbgrader": {
     "cell_type": "code",
     "checksum": "e72c8901ae47819d832bc4682ef4eb1a",
     "grade": false,
     "grade_id": "cell-88383b660155ed69",
     "locked": false,
     "schema_version": 3,
     "solution": true,
     "task": false
    }
   },
   "outputs": [],
   "source": [
    "def get_big(items):\n",
    "    \"\"\"\n",
    "    Return the list of ITEMs that begin with Big but with an SKU that\n",
    "    is not all numbers.\n",
    "\n",
    "    Parameters\n",
    "    ----------\n",
    "    items : str\n",
    "        Input string\n",
    "\n",
    "    Returns\n",
    "    -------\n",
    "    List\n",
    "    \"\"\"\n",
    "    matches = re.findall(r'\\n\\d*[A-Za-z]+\\d*[A-Za-z]*\\s(Big\\s.*)', items)\n",
    "    return matches"
   ]
  },
  {
   "cell_type": "code",
   "execution_count": 154,
   "metadata": {
    "execution": {
     "iopub.execute_input": "2021-08-02T18:56:34.789760Z",
     "iopub.status.busy": "2021-08-02T18:56:34.789760Z",
     "iopub.status.idle": "2021-08-02T18:56:34.802727Z",
     "shell.execute_reply": "2021-08-02T18:56:34.801743Z",
     "shell.execute_reply.started": "2021-08-02T18:56:34.789760Z"
    },
    "tags": []
   },
   "outputs": [
    {
     "data": {
      "text/plain": [
       "['Big Red Box', 'Big Bad Wolf']"
      ]
     },
     "execution_count": 154,
     "metadata": {},
     "output_type": "execute_result"
    }
   ],
   "source": [
    "items = \"\"\"SKU ITEM\n",
    "1A Big Red Box\n",
    "A0 Big Bad Wolf\n",
    "A1 Bigrams and Trigrams\n",
    "02 Big Big World\n",
    "BC Ain't Big Shoes\n",
    "3C Bigger not Big\"\"\"\n",
    "re.findall(r'^(?:[A-Z0-9]*(?:[A-Z]\\d|\\d[A-Z]|[A-Z])\\S*?) (Big\\b\\s.*)', items, re.M)"
   ]
  },
  {
   "cell_type": "code",
   "execution_count": 105,
   "metadata": {
    "ExecuteTime": {
     "end_time": "2021-07-06T14:41:18.269965Z",
     "start_time": "2021-07-06T14:41:18.264945Z"
    },
    "deletable": false,
    "editable": false,
    "nbgrader": {
     "cell_type": "code",
     "checksum": "2707c11017338def9bfd1350c7299610",
     "grade": true,
     "grade_id": "cell-5efce4622970508a",
     "locked": true,
     "points": 1,
     "schema_version": 3,
     "solution": false
    }
   },
   "outputs": [],
   "source": [
    "items = \"\"\"SKU ITEM\n",
    "1A Big Red Box\n",
    "A0 Big Bad Wolf\n",
    "A1 Bigrams and Trigrams\n",
    "02 Big Big World\n",
    "BC Ain't Big Shoes\n",
    "3C Bigger not Big\"\"\"\n",
    "\n",
    "assert_equal(get_big(items), ['Big Red Box', 'Big Bad Wolf'])"
   ]
  },
  {
   "cell_type": "markdown",
   "metadata": {
    "deletable": false,
    "editable": false,
    "nbgrader": {
     "cell_type": "markdown",
     "checksum": "3b4c9a3c23c72281708f77a2bc964500",
     "grade": false,
     "grade_id": "cell-98feb53ba53ac2ec",
     "locked": true,
     "schema_version": 3,
     "solution": false
    }
   },
   "source": [
    "## Problem 9\n",
    "Create a function `find_chris` that accepts `names` as input and returns a list of all first names in `names` that contain the case-insensitive string `Chris` but with a last name that doesn't start with `B` or `M`."
   ]
  },
  {
   "cell_type": "code",
   "execution_count": 111,
   "metadata": {
    "ExecuteTime": {
     "end_time": "2021-07-06T14:41:30.050398Z",
     "start_time": "2021-07-06T14:41:30.046444Z"
    },
    "deletable": false,
    "nbgrader": {
     "cell_type": "code",
     "checksum": "e698636898ebb67f4443747d7206e9e2",
     "grade": false,
     "grade_id": "cell-c05a229e79e90f6f",
     "locked": false,
     "schema_version": 3,
     "solution": true
    }
   },
   "outputs": [],
   "source": [
    "def find_chris(test_str):\n",
    "    \"\"\"\n",
    "    Accept names as input and return a list of all first names in names\n",
    "    that contain the case-insensitive string Chris but with a last name\n",
    "    that doesn't start with B or M\n",
    "\n",
    "    Parameters\n",
    "    ----------\n",
    "    test_str : str\n",
    "        Input string\n",
    "\n",
    "    Returns\n",
    "    -------\n",
    "    List\n",
    "    \"\"\"\n",
    "    return re.findall(r'(\\w*chris\\w*) [^BM]', names, re.I)"
   ]
  },
  {
   "cell_type": "code",
   "execution_count": 107,
   "metadata": {
    "ExecuteTime": {
     "end_time": "2021-07-06T14:41:32.240660Z",
     "start_time": "2021-07-06T14:41:32.233997Z"
    },
    "deletable": false,
    "editable": false,
    "nbgrader": {
     "cell_type": "code",
     "checksum": "debd8ea266487e3e4fb564098ce1af09",
     "grade": true,
     "grade_id": "cell-18375dd7af7df523",
     "locked": true,
     "points": 1,
     "schema_version": 3,
     "solution": false
    }
   },
   "outputs": [
    {
     "name": "stderr",
     "output_type": "stream",
     "text": [
      "12:23: W291 trailing whitespace\n",
      "13:70: W291 trailing whitespace\n"
     ]
    }
   ],
   "source": [
    "names = '''ID FIRST_NAME LAST_NAME\n",
    "1 Christian Alis\n",
    "A Chris Monterola\n",
    "A1 Chris Hemsworth\n",
    "02 Christian Bale\n",
    "BC Christopher Nolan\n",
    "3C Christopher de Leon\n",
    "4F Marichris Chu'''\n",
    "\n",
    "res = find_chris(names)\n",
    "assert_equal(type(res), list)\n",
    "assert_equal(set(res), \n",
    "             set(['Christian', 'Chris', 'Christopher', 'Christopher', \n",
    "                  'Marichris']))"
   ]
  },
  {
   "cell_type": "markdown",
   "metadata": {
    "deletable": false,
    "editable": false,
    "nbgrader": {
     "cell_type": "markdown",
     "checksum": "563164a66de5e05c9ac0eb9ebdf54213",
     "grade": false,
     "grade_id": "cell-99cea48ea2ee3bab",
     "locked": true,
     "schema_version": 3,
     "solution": false
    }
   },
   "source": [
    "## Problem 10\n",
    "Create a function `get_client` that accepts `server_log` and returns a list of client IP , date/time of server access, and status code tuples from `log`. The value of `server_log` is shown below with relevant information highlighted in red.\n",
    "<pre>\n",
    "<font color=\"red\">66.249.65.159</font> - - [<font color=\"red\">06/May/2019:19:10:38 +0800</font>] \"GET /news/53f8d72920ba2744fe873ebc.html HTTP/1.1\" <font color=\"red\">404</font> 177 \"-\" \"Mozilla/5.0 (iPhone; CPU iPhone OS 6_0 like Mac OS X) AppleWebKit/536.26 (KHTML, like Gecko) Version/6.0 Mobile/10A5376e Safari/8536.25 (compatible; Googlebot/2.1; +http://www.google.com/bot.html)\"\n",
    "<font color=\"red\">66.249.65.3</font> - - [<font color=\"red\">06/May/2019:19:11:24 +0800</font>] \"GET /?q=%E0%A6%AB%E0%A6%BE%E0%A7%9F%E0%A6%BE%E0%A6%B0 HTTP/1.1\" <font color=\"red\">200</font> 4223 \"-\" \"Mozilla/5.0 (compatible; Googlebot/2.1; +http://www.google.com/bot.html)\"\n",
    "<font color=\"red\">127.0.0.1</font> - - [<font color=\"red\">06/May/2019:19:12:14 +0800</font>] \"GET /?q=%E0%A6%A6%E0%A7%8B%E0%A7%9F%E0%A6%BE HTTP/1.1\" <font color=\"red\">200</font> 4356 \"-\" \"Mozilla/5.0 (compatible; Googlebot/2.1; +http://www.google.com/bot.html)\"\n",
    "</pre>"
   ]
  },
  {
   "cell_type": "code",
   "execution_count": 110,
   "metadata": {
    "ExecuteTime": {
     "end_time": "2021-07-06T14:41:47.220017Z",
     "start_time": "2021-07-06T14:41:47.215549Z"
    },
    "deletable": false,
    "nbgrader": {
     "cell_type": "code",
     "checksum": "182ba6810df9c7821cbe33d5fb4fdb51",
     "grade": false,
     "grade_id": "cell-75cc18ad07495089",
     "locked": false,
     "schema_version": 3,
     "solution": true
    }
   },
   "outputs": [],
   "source": [
    "def get_client(server_log):\n",
    "    \"\"\"\n",
    "    Accept server_log and return a list of client IP , date/time of server\n",
    "    access, and status code tuples from log.\n",
    "\n",
    "    Parameters\n",
    "    ----------\n",
    "    server_log : str\n",
    "        Input string\n",
    "\n",
    "    Returns\n",
    "    -------\n",
    "    List\n",
    "    \"\"\"\n",
    "    return re.findall(r'(\\d+.\\d+.\\d+.\\d+)\\s-\\s-\\s\\[(.*)\\]\\s\\\".*?\\\"\\s(\\d{3})',\n",
    "                      server_log)"
   ]
  },
  {
   "cell_type": "code",
   "execution_count": 109,
   "metadata": {
    "ExecuteTime": {
     "end_time": "2021-07-06T14:41:48.471659Z",
     "start_time": "2021-07-06T14:41:48.464967Z"
    },
    "deletable": false,
    "editable": false,
    "nbgrader": {
     "cell_type": "code",
     "checksum": "1efb6e178c1775ec90bfd7eec8691a91",
     "grade": true,
     "grade_id": "cell-8fec960a9068214d",
     "locked": true,
     "points": 1,
     "schema_version": 3,
     "solution": false
    }
   },
   "outputs": [
    {
     "name": "stderr",
     "output_type": "stream",
     "text": [
      "1:80: E501 line too long (324 > 79 characters)\n",
      "2:80: E501 line too long (197 > 79 characters)\n",
      "3:80: E501 line too long (189 > 79 characters)\n"
     ]
    }
   ],
   "source": [
    "server_log = '''66.249.65.159 - - [06/May/2019:19:10:38 +0800] \"GET /news/53f8d72920ba2744fe873ebc.html HTTP/1.1\" 404 177 \"-\" \"Mozilla/5.0 (iPhone; CPU iPhone OS 6_0 like Mac OS X) AppleWebKit/536.26 (KHTML, like Gecko) Version/6.0 Mobile/10A5376e Safari/8536.25 (compatible; Googlebot/2.1; +http://www.google.com/bot.html)\"\n",
    "66.249.65.3 - - [06/May/2019:19:11:24 +0800] \"GET /?q=%E0%A6%AB%E0%A6%BE%E0%A7%9F%E0%A6%BE%E0%A6%B0 HTTP/1.1\" 200 4223 \"-\" \"Mozilla/5.0 (compatible; Googlebot/2.1; +http://www.google.com/bot.html)\"\n",
    "127.0.0.1 - - [06/May/2019:19:12:14 +0800] \"GET /?q=%E0%A6%A6%E0%A7%8B%E0%A7%9F%E0%A6%BE HTTP/1.1\" 200 4356 \"-\" \"Mozilla/5.0 (compatible; Googlebot/2.1; +http://www.google.com/bot.html)\"'''\n",
    "\n",
    "assert_equal(get_client(server_log),\n",
    "             [('66.249.65.159', '06/May/2019:19:10:38 +0800', '404'),\n",
    "              ('66.249.65.3', '06/May/2019:19:11:24 +0800', '200'),\n",
    "              ('127.0.0.1', '06/May/2019:19:12:14 +0800', '200')])"
   ]
  }
 ],
 "metadata": {
  "hide_input": false,
  "kernelspec": {
   "display_name": "Python 3",
   "language": "python",
   "name": "python3"
  },
  "language_info": {
   "codemirror_mode": {
    "name": "ipython",
    "version": 3
   },
   "file_extension": ".py",
   "mimetype": "text/x-python",
   "name": "python",
   "nbconvert_exporter": "python",
   "pygments_lexer": "ipython3",
   "version": "3.8.10"
  },
  "toc": {
   "base_numbering": 1,
   "nav_menu": {},
   "number_sections": false,
   "sideBar": true,
   "skip_h1_title": false,
   "title_cell": "Table of Contents",
   "title_sidebar": "Contents",
   "toc_cell": false,
   "toc_position": {},
   "toc_section_display": true,
   "toc_window_display": false
  }
 },
 "nbformat": 4,
 "nbformat_minor": 4
}
