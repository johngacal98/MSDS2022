{
 "cells": [
  {
   "cell_type": "markdown",
   "metadata": {},
   "source": [
    "# DONT RUN. OUTPUT WILL BE GONE"
   ]
  },
  {
   "cell_type": "code",
   "execution_count": 2,
   "metadata": {
    "ExecuteTime": {
     "end_time": "2021-09-02T04:49:07.370089Z",
     "start_time": "2021-09-02T04:49:07.080330Z"
    }
   },
   "outputs": [],
   "source": [
    "import numpy as np\n",
    "import pandas as pd\n",
    "import matplotlib.pyplot as plt\n",
    "from numpy.testing import (assert_equal, assert_almost_equal,\n",
    "                           assert_array_equal, assert_array_almost_equal)"
   ]
  },
  {
   "cell_type": "markdown",
   "metadata": {
    "deletable": false,
    "editable": false,
    "nbgrader": {
     "cell_type": "markdown",
     "checksum": "3f66b09799cb4a22cc7a1905ec66c677",
     "grade": false,
     "grade_id": "cell-d6e5fad4c400cbc8",
     "locked": true,
     "schema_version": 3,
     "solution": false,
     "task": false
    }
   },
   "source": [
    "## Problem 1 [1 pt]\n",
    "\n",
    "Create a function `get_reviews` that reads `/mnt/data/public/insideairbnb/data.insideairbnb.com/united-kingdom/scotland/edinburgh/2016-07-09/data/reviews.csv.gz` and returns a DataFrame with each row corresponding to a review. The index should be the review `id` and the first column should be the `reviewer_id`. The rest of the columns should be the TF-IDF representation of the review `comments`. The TF-IDF columns should be sorted alphabetically. \n",
    "\n",
    "Use `TfidfVectorizer` to create the TF-IDF representation. Convert the `comments` into lowercase first. For this problem, a word (token) is defined to be a sequence of alphabetical characters prefixed and suffixed by a word boundary. Consider only words that occur in at least 1000 reviews. Follow the idf definition in the previous lecture,\n",
    "$$\\text{idf}_w = \\log{\\frac{n}{n_w}},$$\n",
    "Do not normalize the TF-IDF vector of each document. Do not include empty words ('') and drop rows that only have empty words. "
   ]
  },
  {
   "cell_type": "code",
   "execution_count": 38,
   "metadata": {
    "ExecuteTime": {
     "end_time": "2021-09-02T06:06:51.046131Z",
     "start_time": "2021-09-02T06:06:51.028802Z"
    },
    "deletable": false,
    "nbgrader": {
     "cell_type": "code",
     "checksum": "b29de95c3f28b9ad4bf4ba317669424d",
     "grade": false,
     "grade_id": "cell-604d2954e3cc8171",
     "locked": false,
     "schema_version": 3,
     "solution": true,
     "task": false
    }
   },
   "outputs": [],
   "source": [
    "from sklearn.feature_extraction.text import TfidfVectorizer\n",
    "\n",
    "\n",
    "class TFIDF:\n",
    "    def __init__(self, df):\n",
    "        \"\"\"Store the idf of each column\"\"\"\n",
    "        self.idf = np.log(df.shape[0] /\n",
    "                          df[df > 0].notna().sum())\n",
    "\n",
    "    def tfidf(self, values):\n",
    "        \"\"\"Standard values per column\"\"\"\n",
    "        return values * self.idf\n",
    "\n",
    "\n",
    "def get_reviews():\n",
    "    \"\"\"Return tf-idf representation of each review.\"\"\"\n",
    "\n",
    "    df = pd.read_csv('/mnt/data/public/insideairbnb/data.insideairbnb.com/'\n",
    "                     'united-kingdom/scotland/edinburgh/2016-07-09/'\n",
    "                     'data/reviews.csv.gz', compression='gzip')\n",
    "    df = df[['id', 'reviewer_id', 'comments']].dropna(subset=['comments'])\n",
    "    df.index = list(range(df.shape[0]))\n",
    "    tfidf_vectorizer = TfidfVectorizer(lowercase=True,\n",
    "                                       token_pattern=r'(?u)\\b[A-Za-z]+\\b',\n",
    "                                       min_df=1000, use_idf=False,\n",
    "                                       norm=None)\n",
    "    bow_airbnb = tfidf_vectorizer.fit_transform(df['comments'])\n",
    "    tfidf = pd.DataFrame(bow_airbnb.toarray(),\n",
    "                         columns=tfidf_vectorizer.get_feature_names())\n",
    "    tfidf = TFIDF(tfidf).tfidf(tfidf)\n",
    "    tfidf = tfidf.loc[~(tfidf == 0).all(axis=1)]\n",
    "    result = pd.merge(df, tfidf, how='right',\n",
    "                      left_index=True, right_index=True)\n",
    "    result = result.set_index('id').drop('comments', axis=1)\n",
    "    return result"
   ]
  },
  {
   "cell_type": "code",
   "execution_count": 39,
   "metadata": {
    "ExecuteTime": {
     "end_time": "2021-09-02T06:07:04.578077Z",
     "start_time": "2021-09-02T06:06:52.928068Z"
    },
    "deletable": false,
    "editable": false,
    "nbgrader": {
     "cell_type": "code",
     "checksum": "0d4b839e1ec4adb7fbbc18d441dd58f9",
     "grade": true,
     "grade_id": "cell-d04b83e5da4495b9",
     "locked": true,
     "points": 1,
     "schema_version": 3,
     "solution": false,
     "task": false
    }
   },
   "outputs": [
    {
     "name": "stderr",
     "output_type": "stream",
     "text": [
      "2:40: W291 trailing whitespace\n",
      "3:71: W291 trailing whitespace\n",
      "4:78: W291 trailing whitespace\n",
      "8:27: E231 missing whitespace after ','\n",
      "9:33: E231 missing whitespace after ','\n",
      "9:61: W291 trailing whitespace\n",
      "10:21: E201 whitespace after '['\n",
      "10:75: W291 trailing whitespace\n",
      "11:21: E128 22\n",
      "11:75: W291 trailing whitespace\n",
      "12:21: E128 22\n"
     ]
    }
   ],
   "source": [
    "df_bow = get_reviews()\n",
    "assert_array_equal(df_bow.columns[:10], \n",
    "                   ['reviewer_id', 'a', 'able', 'about', 'absolutely', \n",
    "                    'access', 'accessible', 'accommodating', 'accommodation', \n",
    "                    'accurate'])\n",
    "assert_equal(df_bow.shape, (105390, 621))\n",
    "assert_equal(df_bow.index[0], 60060297)\n",
    "assert_equal(df_bow.iloc[0,0], 17059927)\n",
    "assert_array_equal(df_bow.iloc[0,:].to_numpy().nonzero()[0], \n",
    "                   [  0,   7,  25,  65, 123, 193, 206, 213, 245, 274, 333, \n",
    "                    353, 358, 362, 402, 450, 466, 495, 511, 519, 569, 582, \n",
    "                    588, 589, 595])\n",
    "assert_almost_equal(df_bow.iloc[0, 7], 3.1663363011050603)"
   ]
  },
  {
   "cell_type": "markdown",
   "metadata": {
    "deletable": false,
    "editable": false,
    "nbgrader": {
     "cell_type": "markdown",
     "checksum": "05cdf3f376ad4e02a6d14ed87f3cd034",
     "grade": false,
     "grade_id": "cell-f0c754007e2b2d60",
     "locked": true,
     "schema_version": 3,
     "solution": false,
     "task": false
    }
   },
   "source": [
    "## Problem 2 [1 pt]\n",
    "\n",
    "Create a function `closest_euc` that accepts `df_bow` and returns the 10 closest review `id`s by increasing Euclidean distance from review `id` `80416123`, precision and recall. A result is considered relevant if it comes from the same `review_id` as the query (`reviewer_id == 24782827`)."
   ]
  },
  {
   "cell_type": "code",
   "execution_count": 48,
   "metadata": {
    "ExecuteTime": {
     "end_time": "2021-09-02T06:07:54.916625Z",
     "start_time": "2021-09-02T06:07:54.900728Z"
    },
    "deletable": false,
    "nbgrader": {
     "cell_type": "code",
     "checksum": "94449dc6bbd736159bbd04439bd4264a",
     "grade": false,
     "grade_id": "cell-23be2c362343ae48",
     "locked": false,
     "schema_version": 3,
     "solution": true,
     "task": false
    }
   },
   "outputs": [],
   "source": [
    "from scipy.spatial.distance import cdist\n",
    "\n",
    "\n",
    "def closest_euc(df_bow):\n",
    "    \"\"\"Return the ten closest reviews to id 80416123, along with\"\"\"\n",
    "\n",
    "    #  relevant if `reviewer_id` == 24782827\n",
    "    relevant_ids = df_bow[df_bow['reviewer_id'] == 24782827].index\n",
    "    df_bow_new = df_bow.reset_index('id')\n",
    "\n",
    "    #  filter query\n",
    "    query = df_bow_new[df_bow_new['id'] == 80416123]\n",
    "\n",
    "    #  get euclidean distance of query to each review\n",
    "    result_dist = cdist(query.iloc[:, 2:],\n",
    "                        df_bow_new.iloc[:, 2:], metric='euclidean')[0]\n",
    "\n",
    "    #  generate indices of the top 10 closest reviews\n",
    "    #  this includes the same review with id 80416123\n",
    "    top_10 = df_bow.index[result_dist.argsort()[:10]]\n",
    "\n",
    "    #  get the ids of the returned results\n",
    "    returned_ids = df_bow_new[df_bow_new['id'].isin(top_10)]['id'].values\n",
    "\n",
    "    #  construct confusion matrix using relevant and returned data\n",
    "    tp = np.isin(returned_ids, relevant_ids).sum()\n",
    "    fp = len(returned_ids) - np.isin(returned_ids, relevant_ids).sum()\n",
    "    fn = len(relevant_ids) - np.isin(relevant_ids, returned_ids).sum()\n",
    "    tn = df_bow_new.shape[0] - tp - fp - fn\n",
    "\n",
    "    # calculate for precision and recall\n",
    "    precision = tp / (tp + fp)\n",
    "    recall = tp / (tp + fn)\n",
    "    return returned_ids, precision, recall"
   ]
  },
  {
   "cell_type": "code",
   "execution_count": 49,
   "metadata": {
    "ExecuteTime": {
     "end_time": "2021-09-02T06:07:57.785553Z",
     "start_time": "2021-09-02T06:07:56.875285Z"
    },
    "deletable": false,
    "editable": false,
    "nbgrader": {
     "cell_type": "code",
     "checksum": "33b1fa1249837441ea4856fe7ae5ef02",
     "grade": true,
     "grade_id": "cell-9d322542978e4e46",
     "locked": true,
     "points": 1,
     "schema_version": 3,
     "solution": false,
     "task": false
    }
   },
   "outputs": [],
   "source": [
    "closest_ids_euc, p_euc, r_euc = closest_euc(df_bow)\n",
    "assert_equal(len(closest_ids_euc), 10)"
   ]
  },
  {
   "cell_type": "markdown",
   "metadata": {
    "deletable": false,
    "editable": false,
    "nbgrader": {
     "cell_type": "markdown",
     "checksum": "dc289f6d9d10d4ab44c6962c9d94d93f",
     "grade": false,
     "grade_id": "cell-5dbb65997f293117",
     "locked": true,
     "schema_version": 3,
     "solution": false,
     "task": false
    }
   },
   "source": [
    "## Problem 3 [1 pt]\n",
    "\n",
    "Create a function `compute_auc_euc` that accepts `df_bow` and returns the AUC distance when the review `id` `80416123` is the query and Euclidean distance is the metric. A result is considered relevant if it comes from the same `review_id` as the query (`reviewer_id == 24782827`)."
   ]
  },
  {
   "cell_type": "code",
   "execution_count": 56,
   "metadata": {
    "ExecuteTime": {
     "end_time": "2021-09-02T06:08:33.090681Z",
     "start_time": "2021-09-02T06:08:33.073033Z"
    },
    "deletable": false,
    "nbgrader": {
     "cell_type": "code",
     "checksum": "0906688d971fddbaf008594a6228eb7a",
     "grade": false,
     "grade_id": "cell-ea351340a8566b50",
     "locked": false,
     "schema_version": 3,
     "solution": true,
     "task": false
    }
   },
   "outputs": [],
   "source": [
    "from scipy.spatial.distance import euclidean\n",
    "\n",
    "\n",
    "def nearest_k(query, objects, k, dist):\n",
    "    \"\"\"Return the indices to objects most similar to query\n",
    "\n",
    "    Parameters\n",
    "    ----------\n",
    "    query : ndarray\n",
    "        query object represented in the same form vector representation as the\n",
    "        objects\n",
    "    objects : ndarray\n",
    "        vector-represented objects in the database; rows correspond to\n",
    "        objects, columns correspond to features\n",
    "    k : int\n",
    "        number of most similar objects to return\n",
    "    dist : function\n",
    "        accepts two ndarrays as parameters then returns their distance\n",
    "\n",
    "    Returns\n",
    "    -------\n",
    "    most_similar : ndarray\n",
    "        Indices to the most similar objects in the database\n",
    "    \"\"\"\n",
    "    return np.argsort([dist(query, obj) for obj in objects])[:k]\n",
    "\n",
    "\n",
    "def pr_curve(query, objects, dist, actual, all_labels):\n",
    "    \"\"\"Return the precision-recall curve for a given query.\"\"\"\n",
    "    all_labels = np.asarray(all_labels)\n",
    "    results = nearest_k(query, objects, len(all_labels), dist)\n",
    "    rs = (all_labels[results] == actual).cumsum()\n",
    "    N = (all_labels == actual).sum()\n",
    "    precisions = rs / np.arange(1, len(rs)+1)\n",
    "    recalls = rs / N\n",
    "    recalls = [0] + recalls.tolist()\n",
    "    precisions = [1] + precisions.tolist()\n",
    "    return np.trapz(precisions, recalls)\n",
    "\n",
    "\n",
    "def compute_auc_euc(df_bow):\n",
    "    \"\"\"Calculate AUC for precision-recall values, using Euclidean distance.\"\"\"\n",
    "    label = df_bow['reviewer_id']\n",
    "    objects = df_bow.iloc[:, 1:]\n",
    "    query = df_bow[df_bow.index == 80416123].iloc[:, 1:]\n",
    "    query_label = df_bow[df_bow.index == 80416123].iloc[:, 0].values[0]\n",
    "    auc = pr_curve(query.to_numpy(), objects.to_numpy(),\n",
    "                   euclidean, query_label, label.to_list())\n",
    "    return auc"
   ]
  },
  {
   "cell_type": "code",
   "execution_count": 57,
   "metadata": {
    "ExecuteTime": {
     "end_time": "2021-09-02T06:08:36.581830Z",
     "start_time": "2021-09-02T06:08:33.993623Z"
    },
    "deletable": false,
    "editable": false,
    "nbgrader": {
     "cell_type": "code",
     "checksum": "dd5e31614eb87c4e7dc7ac1cbfac667b",
     "grade": true,
     "grade_id": "cell-c68d727c89b430a3",
     "locked": true,
     "points": 1,
     "schema_version": 3,
     "solution": false,
     "task": false
    }
   },
   "outputs": [],
   "source": [
    "auc_euc = compute_auc_euc(df_bow)"
   ]
  },
  {
   "cell_type": "markdown",
   "metadata": {
    "deletable": false,
    "editable": false,
    "nbgrader": {
     "cell_type": "markdown",
     "checksum": "3757163b340f5abc337dea1c658ad271",
     "grade": false,
     "grade_id": "cell-094ca5349f3ce889",
     "locked": true,
     "schema_version": 3,
     "solution": false,
     "task": false
    }
   },
   "source": [
    "## Problem 4 [2 pts]\n",
    "\n",
    "Create a function `closest_quote_cos` that accepts `df_bow` and returns the 10 closest review `id`s by increasing cosine distance from the text \"Great place in the heart of the city.\""
   ]
  },
  {
   "cell_type": "code",
   "execution_count": 65,
   "metadata": {
    "ExecuteTime": {
     "end_time": "2021-09-02T06:09:13.674227Z",
     "start_time": "2021-09-02T06:09:13.654687Z"
    },
    "deletable": false,
    "nbgrader": {
     "cell_type": "code",
     "checksum": "aa2252b39de8ff42abd0e66767115744",
     "grade": false,
     "grade_id": "cell-a784bba4c94f1baf",
     "locked": false,
     "schema_version": 3,
     "solution": true,
     "task": false
    }
   },
   "outputs": [],
   "source": [
    "from scipy.spatial.distance import cdist\n",
    "\n",
    "\n",
    "def closest_quote_cos(df_bow):\n",
    "    \"\"\"Return ten reviews with smallest cosine distance from a given text.\"\"\"\n",
    "    df_bow = df_bow.reset_index('id')\n",
    "    df_bow = df_bow.set_index(['id', 'reviewer_id'])\n",
    "\n",
    "    #  reverting tfidf back to a term-frequency matrix by dividing each\n",
    "    #  score by their corresponding idf values\n",
    "    orig_n = 106054\n",
    "    nw = np.count_nonzero(df_bow, axis=0)\n",
    "    idf = np.log(orig_n/nw)\n",
    "    df_bow = df_bow / idf\n",
    "    df_bow = df_bow.reset_index('reviewer_id')\n",
    "\n",
    "    #  adding the term frequency scores of the text query in the corpus\n",
    "    text = [\"Great place in the heart of the city.\"]\n",
    "    tfidf_vectorizer = TfidfVectorizer(lowercase=True,\n",
    "                                       token_pattern=r'(?u)\\b[A-Za-z]+\\b',\n",
    "                                       use_idf=False, norm=None)\n",
    "    text_tfidf = tfidf_vectorizer.fit_transform(text)\n",
    "    tfidf = pd.DataFrame(text_tfidf.toarray(),\n",
    "                         columns=tfidf_vectorizer.get_feature_names())\n",
    "    tfidf['reviewer_id'] = 'query'\n",
    "    df_bow_new = pd.concat([df_bow, tfidf]).fillna(0)\n",
    "\n",
    "    #  reconstructing the tfidf matrix with the query in it\n",
    "    df_bow_new = df_bow_new.set_index('reviewer_id')\n",
    "    nw = np.count_nonzero(df_bow_new, axis=0)\n",
    "    idf = np.log((orig_n+1)/nw)\n",
    "    df_bow_new = df_bow_new * idf\n",
    "    df_bow_new = df_bow_new.reset_index('reviewer_id')\n",
    "\n",
    "    #  filtering the query and calculating the cosine distance of the\n",
    "    #  query vector relative to all other vectors, except the query since\n",
    "    #  query is not part of the original corpus\n",
    "    query = df_bow_new[df_bow_new['reviewer_id'] == 'query'].iloc[:, 1:]\n",
    "    result_dist = cdist(query, df_bow_new.iloc[:-1, 1:], metric='cosine')[0]\n",
    "\n",
    "    #  generate ids of top 10 most similar with the text query\n",
    "    top_10 = df_bow.index[result_dist.argsort()[:10]]\n",
    "    return top_10"
   ]
  },
  {
   "cell_type": "code",
   "execution_count": 66,
   "metadata": {
    "ExecuteTime": {
     "end_time": "2021-09-02T06:09:18.613386Z",
     "start_time": "2021-09-02T06:09:14.661809Z"
    },
    "deletable": false,
    "editable": false,
    "nbgrader": {
     "cell_type": "code",
     "checksum": "cb8b5a23b24df64009cd3883bf3d9c0a",
     "grade": true,
     "grade_id": "cell-7dae4057cc197655",
     "locked": true,
     "points": 2,
     "schema_version": 3,
     "solution": false,
     "task": false
    }
   },
   "outputs": [],
   "source": [
    "closest_ids_quote = closest_quote_cos(df_bow)\n",
    "assert_equal(len(closest_ids_quote), 10)"
   ]
  },
  {
   "cell_type": "markdown",
   "metadata": {
    "deletable": false,
    "editable": false,
    "nbgrader": {
     "cell_type": "markdown",
     "checksum": "4d824aebf5fb85e0ee59e74f95c17219",
     "grade": false,
     "grade_id": "cell-358509c3e027c0c9",
     "locked": true,
     "points": 1,
     "schema_version": 3,
     "solution": false,
     "task": true
    }
   },
   "source": [
    "## Problem 5 [1 pt]\n",
    "Perform dimensionality reduction on `df_jokes` using one of the methods discussed in class."
   ]
  },
  {
   "cell_type": "markdown",
   "metadata": {},
   "source": [
    "To be able to generate meaningful themes among the customer reviews in AirBnB, it is important to first remove both English and French stop words as some of the reviews in the corpus are in French. To do this, we load the `STOP_WORDS` of the `spacy` library for both the French and English language.\n",
    "\n",
    "Likewise, this analysis would only consider words that are alphabetical (i.e. no numbers or any punctuation/special characters) that have a length of 3 characters of more. In order to also consider the collocations and dependence of words among each other, this analysis would also allow tokens to be bigrams (aside from just taking unigrams into consideration). Lastly, the tf-idf matrix only includes words that appear in at least 1% of all reviews but not more than 70% of all reviews."
   ]
  },
  {
   "cell_type": "code",
   "execution_count": 70,
   "metadata": {
    "ExecuteTime": {
     "end_time": "2021-09-02T06:16:40.544974Z",
     "start_time": "2021-09-02T06:16:28.529513Z"
    }
   },
   "outputs": [
    {
     "data": {
      "text/html": [
       "<div>\n",
       "<style scoped>\n",
       "    .dataframe tbody tr th:only-of-type {\n",
       "        vertical-align: middle;\n",
       "    }\n",
       "\n",
       "    .dataframe tbody tr th {\n",
       "        vertical-align: top;\n",
       "    }\n",
       "\n",
       "    .dataframe thead th {\n",
       "        text-align: right;\n",
       "    }\n",
       "</style>\n",
       "<table border=\"1\" class=\"dataframe\">\n",
       "  <thead>\n",
       "    <tr style=\"text-align: right;\">\n",
       "      <th></th>\n",
       "      <th>able</th>\n",
       "      <th>absolutely</th>\n",
       "      <th>access</th>\n",
       "      <th>accessible</th>\n",
       "      <th>accommodating</th>\n",
       "      <th>accommodation</th>\n",
       "      <th>accurate</th>\n",
       "      <th>advice</th>\n",
       "      <th>airbnb</th>\n",
       "      <th>airbnb experience</th>\n",
       "      <th>...</th>\n",
       "      <th>windows</th>\n",
       "      <th>wine</th>\n",
       "      <th>wish</th>\n",
       "      <th>wonderful</th>\n",
       "      <th>wonderful host</th>\n",
       "      <th>wonderful stay</th>\n",
       "      <th>wonderful time</th>\n",
       "      <th>work</th>\n",
       "      <th>worked</th>\n",
       "      <th>worth</th>\n",
       "    </tr>\n",
       "  </thead>\n",
       "  <tbody>\n",
       "    <tr>\n",
       "      <th>0</th>\n",
       "      <td>0.000000</td>\n",
       "      <td>0.000000</td>\n",
       "      <td>0.0</td>\n",
       "      <td>0.0</td>\n",
       "      <td>0.357504</td>\n",
       "      <td>0.0</td>\n",
       "      <td>0.0</td>\n",
       "      <td>0.0</td>\n",
       "      <td>0.000000</td>\n",
       "      <td>0.000000</td>\n",
       "      <td>...</td>\n",
       "      <td>0.0</td>\n",
       "      <td>0.000000</td>\n",
       "      <td>0.0</td>\n",
       "      <td>0.000000</td>\n",
       "      <td>0.0</td>\n",
       "      <td>0.0</td>\n",
       "      <td>0.0</td>\n",
       "      <td>0.000000</td>\n",
       "      <td>0.0</td>\n",
       "      <td>0.0</td>\n",
       "    </tr>\n",
       "    <tr>\n",
       "      <th>1</th>\n",
       "      <td>0.000000</td>\n",
       "      <td>0.000000</td>\n",
       "      <td>0.0</td>\n",
       "      <td>0.0</td>\n",
       "      <td>0.240939</td>\n",
       "      <td>0.0</td>\n",
       "      <td>0.0</td>\n",
       "      <td>0.0</td>\n",
       "      <td>0.235878</td>\n",
       "      <td>0.321999</td>\n",
       "      <td>...</td>\n",
       "      <td>0.0</td>\n",
       "      <td>0.000000</td>\n",
       "      <td>0.0</td>\n",
       "      <td>0.000000</td>\n",
       "      <td>0.0</td>\n",
       "      <td>0.0</td>\n",
       "      <td>0.0</td>\n",
       "      <td>0.000000</td>\n",
       "      <td>0.0</td>\n",
       "      <td>0.0</td>\n",
       "    </tr>\n",
       "    <tr>\n",
       "      <th>2</th>\n",
       "      <td>0.000000</td>\n",
       "      <td>0.000000</td>\n",
       "      <td>0.0</td>\n",
       "      <td>0.0</td>\n",
       "      <td>0.000000</td>\n",
       "      <td>0.0</td>\n",
       "      <td>0.0</td>\n",
       "      <td>0.0</td>\n",
       "      <td>0.000000</td>\n",
       "      <td>0.000000</td>\n",
       "      <td>...</td>\n",
       "      <td>0.0</td>\n",
       "      <td>0.000000</td>\n",
       "      <td>0.0</td>\n",
       "      <td>0.000000</td>\n",
       "      <td>0.0</td>\n",
       "      <td>0.0</td>\n",
       "      <td>0.0</td>\n",
       "      <td>0.000000</td>\n",
       "      <td>0.0</td>\n",
       "      <td>0.0</td>\n",
       "    </tr>\n",
       "    <tr>\n",
       "      <th>3</th>\n",
       "      <td>0.000000</td>\n",
       "      <td>0.000000</td>\n",
       "      <td>0.0</td>\n",
       "      <td>0.0</td>\n",
       "      <td>0.181579</td>\n",
       "      <td>0.0</td>\n",
       "      <td>0.0</td>\n",
       "      <td>0.0</td>\n",
       "      <td>0.000000</td>\n",
       "      <td>0.000000</td>\n",
       "      <td>...</td>\n",
       "      <td>0.0</td>\n",
       "      <td>0.000000</td>\n",
       "      <td>0.0</td>\n",
       "      <td>0.142402</td>\n",
       "      <td>0.0</td>\n",
       "      <td>0.0</td>\n",
       "      <td>0.0</td>\n",
       "      <td>0.000000</td>\n",
       "      <td>0.0</td>\n",
       "      <td>0.0</td>\n",
       "    </tr>\n",
       "    <tr>\n",
       "      <th>4</th>\n",
       "      <td>0.000000</td>\n",
       "      <td>0.000000</td>\n",
       "      <td>0.0</td>\n",
       "      <td>0.0</td>\n",
       "      <td>0.000000</td>\n",
       "      <td>0.0</td>\n",
       "      <td>0.0</td>\n",
       "      <td>0.0</td>\n",
       "      <td>0.000000</td>\n",
       "      <td>0.000000</td>\n",
       "      <td>...</td>\n",
       "      <td>0.0</td>\n",
       "      <td>0.000000</td>\n",
       "      <td>0.0</td>\n",
       "      <td>0.000000</td>\n",
       "      <td>0.0</td>\n",
       "      <td>0.0</td>\n",
       "      <td>0.0</td>\n",
       "      <td>0.000000</td>\n",
       "      <td>0.0</td>\n",
       "      <td>0.0</td>\n",
       "    </tr>\n",
       "    <tr>\n",
       "      <th>...</th>\n",
       "      <td>...</td>\n",
       "      <td>...</td>\n",
       "      <td>...</td>\n",
       "      <td>...</td>\n",
       "      <td>...</td>\n",
       "      <td>...</td>\n",
       "      <td>...</td>\n",
       "      <td>...</td>\n",
       "      <td>...</td>\n",
       "      <td>...</td>\n",
       "      <td>...</td>\n",
       "      <td>...</td>\n",
       "      <td>...</td>\n",
       "      <td>...</td>\n",
       "      <td>...</td>\n",
       "      <td>...</td>\n",
       "      <td>...</td>\n",
       "      <td>...</td>\n",
       "      <td>...</td>\n",
       "      <td>...</td>\n",
       "      <td>...</td>\n",
       "    </tr>\n",
       "    <tr>\n",
       "      <th>106049</th>\n",
       "      <td>0.000000</td>\n",
       "      <td>0.000000</td>\n",
       "      <td>0.0</td>\n",
       "      <td>0.0</td>\n",
       "      <td>0.000000</td>\n",
       "      <td>0.0</td>\n",
       "      <td>0.0</td>\n",
       "      <td>0.0</td>\n",
       "      <td>0.000000</td>\n",
       "      <td>0.000000</td>\n",
       "      <td>...</td>\n",
       "      <td>0.0</td>\n",
       "      <td>0.235025</td>\n",
       "      <td>0.0</td>\n",
       "      <td>0.140926</td>\n",
       "      <td>0.0</td>\n",
       "      <td>0.0</td>\n",
       "      <td>0.0</td>\n",
       "      <td>0.000000</td>\n",
       "      <td>0.0</td>\n",
       "      <td>0.0</td>\n",
       "    </tr>\n",
       "    <tr>\n",
       "      <th>106050</th>\n",
       "      <td>0.000000</td>\n",
       "      <td>0.000000</td>\n",
       "      <td>0.0</td>\n",
       "      <td>0.0</td>\n",
       "      <td>0.000000</td>\n",
       "      <td>0.0</td>\n",
       "      <td>0.0</td>\n",
       "      <td>0.0</td>\n",
       "      <td>0.000000</td>\n",
       "      <td>0.000000</td>\n",
       "      <td>...</td>\n",
       "      <td>0.0</td>\n",
       "      <td>0.000000</td>\n",
       "      <td>0.0</td>\n",
       "      <td>0.000000</td>\n",
       "      <td>0.0</td>\n",
       "      <td>0.0</td>\n",
       "      <td>0.0</td>\n",
       "      <td>0.244956</td>\n",
       "      <td>0.0</td>\n",
       "      <td>0.0</td>\n",
       "    </tr>\n",
       "    <tr>\n",
       "      <th>106051</th>\n",
       "      <td>0.209854</td>\n",
       "      <td>0.000000</td>\n",
       "      <td>0.0</td>\n",
       "      <td>0.0</td>\n",
       "      <td>0.000000</td>\n",
       "      <td>0.0</td>\n",
       "      <td>0.0</td>\n",
       "      <td>0.0</td>\n",
       "      <td>0.000000</td>\n",
       "      <td>0.000000</td>\n",
       "      <td>...</td>\n",
       "      <td>0.0</td>\n",
       "      <td>0.000000</td>\n",
       "      <td>0.0</td>\n",
       "      <td>0.000000</td>\n",
       "      <td>0.0</td>\n",
       "      <td>0.0</td>\n",
       "      <td>0.0</td>\n",
       "      <td>0.000000</td>\n",
       "      <td>0.0</td>\n",
       "      <td>0.0</td>\n",
       "    </tr>\n",
       "    <tr>\n",
       "      <th>106052</th>\n",
       "      <td>0.000000</td>\n",
       "      <td>0.326175</td>\n",
       "      <td>0.0</td>\n",
       "      <td>0.0</td>\n",
       "      <td>0.000000</td>\n",
       "      <td>0.0</td>\n",
       "      <td>0.0</td>\n",
       "      <td>0.0</td>\n",
       "      <td>0.000000</td>\n",
       "      <td>0.000000</td>\n",
       "      <td>...</td>\n",
       "      <td>0.0</td>\n",
       "      <td>0.000000</td>\n",
       "      <td>0.0</td>\n",
       "      <td>0.000000</td>\n",
       "      <td>0.0</td>\n",
       "      <td>0.0</td>\n",
       "      <td>0.0</td>\n",
       "      <td>0.000000</td>\n",
       "      <td>0.0</td>\n",
       "      <td>0.0</td>\n",
       "    </tr>\n",
       "    <tr>\n",
       "      <th>106053</th>\n",
       "      <td>0.000000</td>\n",
       "      <td>0.000000</td>\n",
       "      <td>0.0</td>\n",
       "      <td>0.0</td>\n",
       "      <td>0.000000</td>\n",
       "      <td>0.0</td>\n",
       "      <td>0.0</td>\n",
       "      <td>0.0</td>\n",
       "      <td>0.000000</td>\n",
       "      <td>0.000000</td>\n",
       "      <td>...</td>\n",
       "      <td>0.0</td>\n",
       "      <td>0.000000</td>\n",
       "      <td>0.0</td>\n",
       "      <td>0.000000</td>\n",
       "      <td>0.0</td>\n",
       "      <td>0.0</td>\n",
       "      <td>0.0</td>\n",
       "      <td>0.000000</td>\n",
       "      <td>0.0</td>\n",
       "      <td>0.0</td>\n",
       "    </tr>\n",
       "  </tbody>\n",
       "</table>\n",
       "<p>106054 rows × 506 columns</p>\n",
       "</div>"
      ],
      "text/plain": [
       "            able  absolutely  access  accessible  accommodating  \\\n",
       "0       0.000000    0.000000     0.0         0.0       0.357504   \n",
       "1       0.000000    0.000000     0.0         0.0       0.240939   \n",
       "2       0.000000    0.000000     0.0         0.0       0.000000   \n",
       "3       0.000000    0.000000     0.0         0.0       0.181579   \n",
       "4       0.000000    0.000000     0.0         0.0       0.000000   \n",
       "...          ...         ...     ...         ...            ...   \n",
       "106049  0.000000    0.000000     0.0         0.0       0.000000   \n",
       "106050  0.000000    0.000000     0.0         0.0       0.000000   \n",
       "106051  0.209854    0.000000     0.0         0.0       0.000000   \n",
       "106052  0.000000    0.326175     0.0         0.0       0.000000   \n",
       "106053  0.000000    0.000000     0.0         0.0       0.000000   \n",
       "\n",
       "        accommodation  accurate  advice    airbnb  airbnb experience  ...  \\\n",
       "0                 0.0       0.0     0.0  0.000000           0.000000  ...   \n",
       "1                 0.0       0.0     0.0  0.235878           0.321999  ...   \n",
       "2                 0.0       0.0     0.0  0.000000           0.000000  ...   \n",
       "3                 0.0       0.0     0.0  0.000000           0.000000  ...   \n",
       "4                 0.0       0.0     0.0  0.000000           0.000000  ...   \n",
       "...               ...       ...     ...       ...                ...  ...   \n",
       "106049            0.0       0.0     0.0  0.000000           0.000000  ...   \n",
       "106050            0.0       0.0     0.0  0.000000           0.000000  ...   \n",
       "106051            0.0       0.0     0.0  0.000000           0.000000  ...   \n",
       "106052            0.0       0.0     0.0  0.000000           0.000000  ...   \n",
       "106053            0.0       0.0     0.0  0.000000           0.000000  ...   \n",
       "\n",
       "        windows      wine  wish  wonderful  wonderful host  wonderful stay  \\\n",
       "0           0.0  0.000000   0.0   0.000000             0.0             0.0   \n",
       "1           0.0  0.000000   0.0   0.000000             0.0             0.0   \n",
       "2           0.0  0.000000   0.0   0.000000             0.0             0.0   \n",
       "3           0.0  0.000000   0.0   0.142402             0.0             0.0   \n",
       "4           0.0  0.000000   0.0   0.000000             0.0             0.0   \n",
       "...         ...       ...   ...        ...             ...             ...   \n",
       "106049      0.0  0.235025   0.0   0.140926             0.0             0.0   \n",
       "106050      0.0  0.000000   0.0   0.000000             0.0             0.0   \n",
       "106051      0.0  0.000000   0.0   0.000000             0.0             0.0   \n",
       "106052      0.0  0.000000   0.0   0.000000             0.0             0.0   \n",
       "106053      0.0  0.000000   0.0   0.000000             0.0             0.0   \n",
       "\n",
       "        wonderful time      work  worked  worth  \n",
       "0                  0.0  0.000000     0.0    0.0  \n",
       "1                  0.0  0.000000     0.0    0.0  \n",
       "2                  0.0  0.000000     0.0    0.0  \n",
       "3                  0.0  0.000000     0.0    0.0  \n",
       "4                  0.0  0.000000     0.0    0.0  \n",
       "...                ...       ...     ...    ...  \n",
       "106049             0.0  0.000000     0.0    0.0  \n",
       "106050             0.0  0.244956     0.0    0.0  \n",
       "106051             0.0  0.000000     0.0    0.0  \n",
       "106052             0.0  0.000000     0.0    0.0  \n",
       "106053             0.0  0.000000     0.0    0.0  \n",
       "\n",
       "[106054 rows x 506 columns]"
      ]
     },
     "execution_count": 70,
     "metadata": {},
     "output_type": "execute_result"
    }
   ],
   "source": [
    "from sklearn.feature_extraction.text import TfidfVectorizer\n",
    "from spacy.lang.fr.stop_words import STOP_WORDS as fr_stop\n",
    "from spacy.lang.en.stop_words import STOP_WORDS as en_stop\n",
    "import warnings\n",
    "warnings.filterwarnings('ignore')\n",
    "\n",
    "\n",
    "def cleaner_tfidf():\n",
    "    \"\"\"Return a tf-idf matrix that removes all English and French stopwords.\n",
    "\n",
    "    This tf-idf matrix also excludes words that consists of less than three\n",
    "    alphabetical characters, and only includes words that appear in at\n",
    "    at least 1% of all reviews but not more than 70% of all reviews.\n",
    "    Likewise, this tf-idf matrix allows for the possibility of bigrams when\n",
    "    tokenizing the text.\n",
    "\n",
    "    Returns\n",
    "    -------\n",
    "    tfidf : pandas.DataFrame\n",
    "        A pandas dataframe containing the corresponding tf-idf scores of\n",
    "        each word in a review.\n",
    "    \"\"\"\n",
    "    stopwords_list = list(fr_stop) + list(en_stop)\n",
    "    df = pd.read_csv('/mnt/data/public/insideairbnb/data.insideairbnb.com/'\n",
    "                     'united-kingdom/scotland/edinburgh/2016-07-09/'\n",
    "                     'data/reviews.csv.gz', compression='gzip')\n",
    "    df = df[['id', 'reviewer_id', 'comments']].dropna(subset=['comments'])\n",
    "    df.index = list(range(df.shape[0]))\n",
    "    tfidf_vectorizer = TfidfVectorizer(lowercase=True,\n",
    "                                       stop_words=stopwords_list,\n",
    "                                       token_pattern=r'(?u)\\b[a-z]{3,}\\b',\n",
    "                                       ngram_range=(1, 2),\n",
    "                                       min_df=0.01, max_df=0.7)\n",
    "    bow_airbnb = tfidf_vectorizer.fit_transform(df['comments'])\n",
    "    tfidf = pd.DataFrame(bow_airbnb.toarray(),\n",
    "                         columns=tfidf_vectorizer.get_feature_names())\n",
    "    return tfidf\n",
    "\n",
    "\n",
    "tfidf = cleaner_tfidf()\n",
    "tfidf"
   ]
  },
  {
   "cell_type": "code",
   "execution_count": 71,
   "metadata": {
    "ExecuteTime": {
     "end_time": "2021-09-02T06:16:52.725039Z",
     "start_time": "2021-09-02T06:16:47.257411Z"
    }
   },
   "outputs": [],
   "source": [
    "import scipy\n",
    "\n",
    "\n",
    "def get_min_svs(X):\n",
    "    \"\"\"Return the explained variance information of the design matrix.\"\"\"\n",
    "    svs = scipy.linalg.svdvals(X)\n",
    "    svs_exp = svs / svs.sum()\n",
    "    svs_cum_exp = svs_exp.cumsum()\n",
    "    return svs_exp, svs_cum_exp\n",
    "\n",
    "\n",
    "exp_var, cum_exp_var = get_min_svs(tfidf)"
   ]
  },
  {
   "cell_type": "code",
   "execution_count": 72,
   "metadata": {
    "ExecuteTime": {
     "end_time": "2021-09-02T06:17:05.203382Z",
     "start_time": "2021-09-02T06:17:05.190121Z"
    }
   },
   "outputs": [],
   "source": [
    "def plot_var_explained(exp_var, cum_exp_var, thresh):\n",
    "    \"\"\"Visualize the amount of explained variance per singular value.\"\"\"\n",
    "    fig, ax1 = plt.subplots(figsize=(8, 5))\n",
    "    ax1.plot(list(range(1, 507)), exp_var, color='dodgerblue')\n",
    "    ax1.set_ylabel('Explained Variance')\n",
    "    ax1.set_xlabel('SVD')\n",
    "    ax2 = ax1.twinx()\n",
    "    ax2.plot(list(range(1, 507)), cum_exp_var, color='green')\n",
    "    ax2.set_ylabel('Cumulative Variance')\n",
    "    fig = plt.suptitle('Variance Explained by Singular Values '\n",
    "                       '- AirBnB Dataset\\n', fontsize=16)\n",
    "    fig = plt.axvline(np.where(exp_var.cumsum() >= thresh)[0][0] + 1,\n",
    "                      alpha=0.5, color='red', linestyle='--')\n",
    "    fig = plt.axhline(thresh, alpha=0.5, color='red', linestyle='--')\n",
    "    return fig"
   ]
  },
  {
   "cell_type": "code",
   "execution_count": 73,
   "metadata": {
    "ExecuteTime": {
     "end_time": "2021-09-02T06:20:21.484189Z",
     "start_time": "2021-09-02T06:17:09.976990Z"
    }
   },
   "outputs": [],
   "source": [
    "from sklearn.decomposition import TruncatedSVD\n",
    "\n",
    "svd = TruncatedSVD(n_components=min_svs)\n",
    "tfidf_new = svd.fit_transform(tfidf)\n",
    "min_svs = np.where(exp_var.cumsum() >= 0.75)[0][0]"
   ]
  },
  {
   "cell_type": "code",
   "execution_count": 78,
   "metadata": {
    "ExecuteTime": {
     "end_time": "2021-09-02T06:21:12.615945Z",
     "start_time": "2021-09-02T06:21:07.729427Z"
    }
   },
   "outputs": [
    {
     "data": {
      "image/png": "[encoded data removed]",
      "text/plain": [
       "<Figure size 900x600 with 2 Axes>"
      ]
     },
     "metadata": {
      "needs_background": "light"
     },
     "output_type": "display_data"
    }
   ],
   "source": [
    "p = svd.components_.T\n",
    "feature_names = tfidf.columns\n",
    "plot_svd(tfidf_new, feature_names, p);"
   ]
  },
  {
   "cell_type": "code",
   "execution_count": 79,
   "metadata": {
    "ExecuteTime": {
     "end_time": "2021-09-02T06:21:28.597988Z",
     "start_time": "2021-09-02T06:21:28.592173Z"
    }
   },
   "outputs": [],
   "source": [
    "def LSA_plot(p, coefs, color, title):\n",
    "    \"\"\"Visualize the Top 6 singular values after latent semantic analysis.\"\"\"\n",
    "    fig, ax = plt.subplots(nrows=3, ncols=2, figsize=(15, 10))\n",
    "    ax = ax.flatten()\n",
    "    for i in range(6):\n",
    "        order = np.argsort(np.abs(p[:, i]))[-10:]\n",
    "        ax[i].barh([coefs[o] for o in order], p[order, i],\n",
    "                   color=color)\n",
    "        ax[i].set_title(f'SV{i+1}')\n",
    "    fig = plt.suptitle(title, fontsize=14)\n",
    "    fig = plt.tight_layout()\n",
    "    return fig, ax"
   ]
  },
  {
   "cell_type": "markdown",
   "metadata": {
    "deletable": false,
    "editable": false,
    "nbgrader": {
     "cell_type": "markdown",
     "checksum": "5b8c6490d09ded47de4a127617adee2c",
     "grade": false,
     "grade_id": "cell-5fc8afcee70364f2",
     "locked": true,
     "points": 1,
     "schema_version": 3,
     "solution": false,
     "task": true
    }
   },
   "source": [
    "## Problem 6 [1 pt]\n",
    "\n",
    "Justify your choice of dimensionality reduction method."
   ]
  },
  {
   "cell_type": "markdown",
   "metadata": {},
   "source": [
    "Since I am working with text data, the tfidf matrix that I would be generating after transforming the AirBnB listing reviews into structured format is expected to be sparse. Since this is the case, I must use a dimensionality reduction technique that does not require my data to be mean-centered (as doing so would make the transformation process much longer since the tfidf matrix already became dense). Hence, it is more appropriate to use the truncated singular value decomposition (SVD) as this does not require my data to be mean-centered in order to proceed with the transformation."
   ]
  },
  {
   "cell_type": "markdown",
   "metadata": {
    "deletable": false,
    "editable": false,
    "nbgrader": {
     "cell_type": "markdown",
     "checksum": "5d2acc6fa3adced3dfaa8bf6073ccfd6",
     "grade": false,
     "grade_id": "cell-8426d8bc0837578a",
     "locked": true,
     "points": 1,
     "schema_version": 3,
     "solution": false,
     "task": true
    }
   },
   "source": [
    "## Problem 7 [1 pt]\n",
    "\n",
    "How many dimensions did you retain? Justify your choice."
   ]
  },
  {
   "cell_type": "code",
   "execution_count": 80,
   "metadata": {
    "ExecuteTime": {
     "end_time": "2021-09-02T06:21:33.380209Z",
     "start_time": "2021-09-02T06:21:33.088878Z"
    }
   },
   "outputs": [
    {
     "data": {
      "image/png": "[encoded data removed]",
      "text/plain": [
       "<Figure size 576x360 with 2 Axes>"
      ]
     },
     "metadata": {
      "needs_background": "light"
     },
     "output_type": "display_data"
    }
   ],
   "source": [
    "plot_var_explained(exp_var, cum_exp_var, 0.75);"
   ]
  },
  {
   "cell_type": "markdown",
   "metadata": {},
   "source": [
    "Since my resulting tfidf matrix had generated 506 columns, I would like to be able to reduce it such the resulting transformation from Truncated SVD still explains a significant amount of the variation in the original matrix. From the visualization above, we could see that 75% of the variance in the entire tfidf matrix is accounted for by 313 singular values. Hence, I retained 313 dimensions in the dataset and then implemented latent semantic analysis in order to identify underlying themes between a set of documents (in this case, the customer reviews) and the terms that each document contain. "
   ]
  },
  {
   "cell_type": "markdown",
   "metadata": {
    "deletable": false,
    "editable": false,
    "nbgrader": {
     "cell_type": "markdown",
     "checksum": "5eb6d5b2f1358ed7e84d0e4bb293e24b",
     "grade": false,
     "grade_id": "cell-ed7d4dbd8cabfef4",
     "locked": true,
     "points": 2,
     "schema_version": 3,
     "solution": false,
     "task": true
    }
   },
   "source": [
    "## Problem 8 [2 pts]\n",
    "\n",
    "Interpret the results of the dimensionality reduction."
   ]
  },
  {
   "cell_type": "code",
   "execution_count": 25,
   "metadata": {
    "ExecuteTime": {
     "end_time": "2021-09-02T05:23:11.245549Z",
     "start_time": "2021-09-02T05:23:09.589123Z"
    }
   },
   "outputs": [
    {
     "data": {
      "image/png": "[encoded data removed]",
      "text/plain": [
       "<Figure size 1080x720 with 6 Axes>"
      ]
     },
     "metadata": {
      "needs_background": "light"
     },
     "output_type": "display_data"
    }
   ],
   "source": [
    "p = svd.components_.T\n",
    "feature_names = tfidf.columns\n",
    "LSA_plot(p, feature_names, 'tomato', 'Top 6 SVs - AirBnB Dataset\\n');"
   ]
  },
  {
   "cell_type": "markdown",
   "metadata": {},
   "source": [
    "For easier appreciation, I visualized the weights for each singular vector as there are a lot of original features (hence it is hard to read the labels and the arrows). We can see that each singular value discusses a specific theme about AirBnBs. The first singular value discusses the over-all experience of tourists when they go to AirBnBs in Edinburgh, United Kingdom. Generally, tourists that went to this city have stayed in flats or apartments and had a relatively good experience during their stay. Most of their affirmative feedback is related to the cleanliness of the place. The second singular value talks about the location of the AirBnBs and how this provides convenience to the tourists as most of the apartments in Edinburgh are located at the center (where most tourist activity generally takes place). It is also convenient in the sense that it is near different modes of transportation such as buses.\n",
    "\n",
    "The third singular value creates a spectrum among houses and apartments. In the positive axis, the convenience provided by apartments in terms of location is being talked about here. On the other hand, the negative axis of the third singular value talks about how nice the different rooms in a house are. \n",
    "\n",
    "The fourth singular value revolves around themes that could possibly lead to customer disatisfaction, such as the cancellation of AirBnB reservations along with the automated posting of cancellations done by AirBnB whenever hosts tend to cancel pre-booked reservations. \n",
    "\n",
    "The fifth singular value shows a spectrum among flats and apartments/houses. On the positive axis, the cleanliness and the strategic location of all flats in Edinburgh are being discussed. On the negative axis, comments about how nice the rooms are in the apartments/houses are given.\n",
    "\n",
    "Lastly, the sixth singular value talks about the importance of having a good host that would provide the tourists convenience (in terms of the setting up the reservation, and making sure that cancellations are avoided) along with a good AirBnB experience (by ensuring that the host would make the rooms clean).\n",
    "\n",
    "From these six singular values, we can conclude that the cleanliness of the AirBnB, the strategicness of its location (in particular, how close it is to the center), along with the cooperativeness of the hosts in providing their customers a good experience, are considerations that tourists take into account when choosing an AirBnB at  Edinburgh."
   ]
  }
 ],
 "metadata": {
  "hide_input": false,
  "kernelspec": {
   "display_name": "Python 3",
   "language": "python",
   "name": "python3"
  },
  "language_info": {
   "codemirror_mode": {
    "name": "ipython",
    "version": 3
   },
   "file_extension": ".py",
   "mimetype": "text/x-python",
   "name": "python",
   "nbconvert_exporter": "python",
   "pygments_lexer": "ipython3",
   "version": "3.8.10"
  },
  "toc": {
   "base_numbering": 1,
   "nav_menu": {},
   "number_sections": true,
   "sideBar": true,
   "skip_h1_title": false,
   "title_cell": "Table of Contents",
   "title_sidebar": "Contents",
   "toc_cell": false,
   "toc_position": {},
   "toc_section_display": true,
   "toc_window_display": false
  }
 },
 "nbformat": 4,
 "nbformat_minor": 4
}
