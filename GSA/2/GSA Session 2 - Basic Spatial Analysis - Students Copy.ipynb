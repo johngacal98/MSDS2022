{
 "cells": [
  {
   "cell_type": "markdown",
   "metadata": {},
   "source": [
    "# Basic Spatial Analysis\n",
    "In this notebook, we will learn how to\n",
    "- create geometries\n",
    "- perform measurements\n",
    "- compute for spatial relationships\n",
    "- perform spatial operators between objects"
   ]
  },
  {
   "cell_type": "code",
   "execution_count": 1,
   "metadata": {
    "ExecuteTime": {
     "end_time": "2020-01-28T23:41:32.299275Z",
     "start_time": "2020-01-28T23:41:31.748242Z"
    },
    "execution": {
     "iopub.execute_input": "2021-10-05T07:49:32.903893Z",
     "iopub.status.busy": "2021-10-05T07:49:32.902897Z",
     "iopub.status.idle": "2021-10-05T07:49:33.736863Z",
     "shell.execute_reply": "2021-10-05T07:49:33.736863Z",
     "shell.execute_reply.started": "2021-10-05T07:49:32.903893Z"
    },
    "tags": []
   },
   "outputs": [],
   "source": [
    "import sqlite3\n",
    "import matplotlib.pyplot as plt\n",
    "import pandas as pd\n",
    "from shapely.wkt import loads\n",
    "from shapely.geometry import Point, LineString, Polygon"
   ]
  },
  {
   "cell_type": "markdown",
   "metadata": {},
   "source": [
    "## 1. Create Objects using Shapely"
   ]
  },
  {
   "cell_type": "code",
   "execution_count": 2,
   "metadata": {
    "ExecuteTime": {
     "end_time": "2020-01-28T23:41:32.307628Z",
     "start_time": "2020-01-28T23:41:32.302142Z"
    },
    "execution": {
     "iopub.execute_input": "2021-10-05T07:49:33.737859Z",
     "iopub.status.busy": "2021-10-05T07:49:33.737859Z",
     "iopub.status.idle": "2021-10-05T07:49:33.752822Z",
     "shell.execute_reply": "2021-10-05T07:49:33.751824Z",
     "shell.execute_reply.started": "2021-10-05T07:49:33.737859Z"
    },
    "tags": []
   },
   "outputs": [],
   "source": [
    "# Create Point Objects\n",
    "p1 = Point(0, 0)\n",
    "p2 = Point(1, 0)\n",
    "p3 = Point(2, 3)"
   ]
  },
  {
   "cell_type": "code",
   "execution_count": 3,
   "metadata": {
    "ExecuteTime": {
     "end_time": "2020-01-28T23:41:32.323284Z",
     "start_time": "2020-01-28T23:41:32.313153Z"
    },
    "execution": {
     "iopub.execute_input": "2021-10-05T07:49:33.756812Z",
     "iopub.status.busy": "2021-10-05T07:49:33.755816Z",
     "iopub.status.idle": "2021-10-05T07:49:33.768779Z",
     "shell.execute_reply": "2021-10-05T07:49:33.767781Z",
     "shell.execute_reply.started": "2021-10-05T07:49:33.756812Z"
    },
    "tags": []
   },
   "outputs": [],
   "source": [
    "# Create Line Objects\n",
    "l1 = LineString([[0, 1], [0, 2], [3, 4]])\n",
    "l2 = LineString(((2, 0), (3, 1), (2, 1), (3, 0)))"
   ]
  },
  {
   "cell_type": "code",
   "execution_count": 4,
   "metadata": {
    "ExecuteTime": {
     "end_time": "2020-01-28T23:41:32.331756Z",
     "start_time": "2020-01-28T23:41:32.326920Z"
    },
    "execution": {
     "iopub.execute_input": "2021-10-05T07:49:33.771773Z",
     "iopub.status.busy": "2021-10-05T07:49:33.770778Z",
     "iopub.status.idle": "2021-10-05T07:49:33.784737Z",
     "shell.execute_reply": "2021-10-05T07:49:33.783741Z",
     "shell.execute_reply.started": "2021-10-05T07:49:33.771773Z"
    },
    "tags": []
   },
   "outputs": [],
   "source": [
    "# Create Polygons\n",
    "poly1 = Polygon([[4, 0], [5, 1], [5, 5]])"
   ]
  },
  {
   "cell_type": "code",
   "execution_count": 5,
   "metadata": {
    "ExecuteTime": {
     "end_time": "2020-01-28T23:41:32.534112Z",
     "start_time": "2020-01-28T23:41:32.334875Z"
    },
    "execution": {
     "iopub.execute_input": "2021-10-05T07:49:33.786731Z",
     "iopub.status.busy": "2021-10-05T07:49:33.785736Z",
     "iopub.status.idle": "2021-10-05T07:49:33.998164Z",
     "shell.execute_reply": "2021-10-05T07:49:33.997166Z",
     "shell.execute_reply.started": "2021-10-05T07:49:33.786731Z"
    },
    "tags": []
   },
   "outputs": [
    {
     "data": {
      "text/plain": [
       "[<matplotlib.lines.Line2D at 0x1b2539a4880>]"
      ]
     },
     "execution_count": 5,
     "metadata": {},
     "output_type": "execute_result"
    },
    {
     "data": {
      "image/png": "[encoded data removed]",
      "text/plain": [
       "<Figure size 432x288 with 1 Axes>"
      ]
     },
     "metadata": {
      "needs_background": "light"
     },
     "output_type": "display_data"
    }
   ],
   "source": [
    "# Visualize the Objects using Matplotlib\n",
    "plt.plot(*p1.xy, marker='.')\n",
    "plt.plot(*p2.xy, marker='.')\n",
    "plt.plot(*p3.xy, marker='.')\n",
    "plt.plot(*l1.xy, marker='.')\n",
    "plt.plot(*l2.xy, marker='.')\n",
    "plt.plot(*poly1.exterior.xy, marker='.')"
   ]
  },
  {
   "cell_type": "markdown",
   "metadata": {},
   "source": [
    "## 2. SQL Review"
   ]
  },
  {
   "cell_type": "code",
   "execution_count": 14,
   "metadata": {
    "ExecuteTime": {
     "end_time": "2020-01-28T23:41:32.546179Z",
     "start_time": "2020-01-28T23:41:32.536039Z"
    },
    "execution": {
     "iopub.execute_input": "2021-10-05T07:59:22.815231Z",
     "iopub.status.busy": "2021-10-05T07:59:22.814235Z",
     "iopub.status.idle": "2021-10-05T07:59:22.842127Z",
     "shell.execute_reply": "2021-10-05T07:59:22.841174Z",
     "shell.execute_reply.started": "2021-10-05T07:59:22.815231Z"
    },
    "tags": []
   },
   "outputs": [
    {
     "ename": "OperationalError",
     "evalue": "The specified module could not be found.\r\n",
     "output_type": "error",
     "traceback": [
      "\u001b[1;31m---------------------------------------------------------------------------\u001b[0m",
      "\u001b[1;31mOperationalError\u001b[0m                          Traceback (most recent call last)",
      "\u001b[1;32m~\\AppData\\Local\\Temp/ipykernel_14112/3052431849.py\u001b[0m in \u001b[0;36m<module>\u001b[1;34m\u001b[0m\n\u001b[0;32m      3\u001b[0m \u001b[0mconn\u001b[0m\u001b[1;33m.\u001b[0m\u001b[0menable_load_extension\u001b[0m\u001b[1;33m(\u001b[0m\u001b[1;32mTrue\u001b[0m\u001b[1;33m)\u001b[0m\u001b[1;33m\u001b[0m\u001b[1;33m\u001b[0m\u001b[0m\n\u001b[0;32m      4\u001b[0m \u001b[1;31m# conn.load_extension('mod_spatialite')\u001b[0m\u001b[1;33m\u001b[0m\u001b[1;33m\u001b[0m\u001b[1;33m\u001b[0m\u001b[0m\n\u001b[1;32m----> 5\u001b[1;33m \u001b[0mconn\u001b[0m\u001b[1;33m.\u001b[0m\u001b[0mexecute\u001b[0m\u001b[1;33m(\u001b[0m\u001b[1;34m\"select load_extension('mod_spatialite.dll')\"\u001b[0m\u001b[1;33m)\u001b[0m\u001b[1;33m\u001b[0m\u001b[1;33m\u001b[0m\u001b[0m\n\u001b[0m",
      "\u001b[1;31mOperationalError\u001b[0m: The specified module could not be found.\r\n"
     ]
    }
   ],
   "source": [
    "# Establish a connection to our sample database \"map.sqlite\"\n",
    "conn = sqlite3.connect('map.sqlite')\n",
    "conn.enable_load_extension(True)\n",
    "# conn.load_extension('mod_spatialite')\n",
    "conn.execute(\"select load_extension('mod_spatialite.dll')\")"
   ]
  },
  {
   "cell_type": "code",
   "execution_count": null,
   "metadata": {
    "ExecuteTime": {
     "end_time": "2020-01-28T23:41:32.550689Z",
     "start_time": "2020-01-28T23:41:32.547907Z"
    },
    "execution": {
     "iopub.status.busy": "2021-10-05T07:49:34.371671Z",
     "iopub.status.idle": "2021-10-05T07:49:34.371671Z",
     "shell.execute_reply": "2021-10-05T07:49:34.371671Z",
     "shell.execute_reply.started": "2021-10-05T07:49:34.371671Z"
    }
   },
   "outputs": [],
   "source": [
    "# How do you show all tables from the DB?\n"
   ]
  },
  {
   "cell_type": "code",
   "execution_count": null,
   "metadata": {
    "ExecuteTime": {
     "end_time": "2020-01-28T23:41:32.556611Z",
     "start_time": "2020-01-28T23:41:32.553244Z"
    },
    "execution": {
     "iopub.status.busy": "2021-10-05T07:49:34.372669Z",
     "iopub.status.idle": "2021-10-05T07:49:34.372669Z",
     "shell.execute_reply": "2021-10-05T07:49:34.372669Z",
     "shell.execute_reply.started": "2021-10-05T07:49:34.372669Z"
    }
   },
   "outputs": [],
   "source": [
    "# Show first five rows for the table amenity_points\n"
   ]
  },
  {
   "cell_type": "code",
   "execution_count": null,
   "metadata": {
    "ExecuteTime": {
     "end_time": "2020-01-28T23:41:32.563454Z",
     "start_time": "2020-01-28T23:41:32.558568Z"
    },
    "execution": {
     "iopub.status.busy": "2021-10-05T07:49:34.374707Z",
     "iopub.status.idle": "2021-10-05T07:49:34.375662Z",
     "shell.execute_reply": "2021-10-05T07:49:34.374707Z",
     "shell.execute_reply.started": "2021-10-05T07:49:34.374707Z"
    }
   },
   "outputs": [],
   "source": [
    "# Show amenity points with names\n"
   ]
  },
  {
   "cell_type": "code",
   "execution_count": null,
   "metadata": {
    "ExecuteTime": {
     "end_time": "2020-01-28T23:41:32.569180Z",
     "start_time": "2020-01-28T23:41:32.565317Z"
    },
    "execution": {
     "iopub.status.busy": "2021-10-05T07:49:34.376659Z",
     "iopub.status.idle": "2021-10-05T07:49:34.376659Z",
     "shell.execute_reply": "2021-10-05T07:49:34.376659Z",
     "shell.execute_reply.started": "2021-10-05T07:49:34.376659Z"
    },
    "scrolled": true
   },
   "outputs": [],
   "source": [
    "# What are the amenity types in the amenity_points table?\n"
   ]
  },
  {
   "cell_type": "markdown",
   "metadata": {
    "ExecuteTime": {
     "end_time": "2020-01-28T23:05:11.077348Z",
     "start_time": "2020-01-28T23:05:11.073000Z"
    }
   },
   "source": [
    "#### Exercise: Rank the amenities by most frequent to least frequent."
   ]
  },
  {
   "cell_type": "code",
   "execution_count": null,
   "metadata": {
    "ExecuteTime": {
     "end_time": "2020-01-28T23:41:32.574767Z",
     "start_time": "2020-01-28T23:41:32.571604Z"
    },
    "execution": {
     "iopub.status.busy": "2021-10-05T07:49:34.377657Z",
     "iopub.status.idle": "2021-10-05T07:49:34.378680Z",
     "shell.execute_reply": "2021-10-05T07:49:34.378680Z",
     "shell.execute_reply.started": "2021-10-05T07:49:34.378680Z"
    },
    "scrolled": true
   },
   "outputs": [],
   "source": [
    "# Your Code Here\n"
   ]
  },
  {
   "cell_type": "markdown",
   "metadata": {},
   "source": [
    "## 3. Creating Geometries Through SQL\n",
    "We will now create points, lines, and polygons using SQL commands\n",
    "- ST_MakePoint / MakePoint\n",
    "- ST_MakeLine / MakeLine\n",
    "- ST_MakePolygon / MakePolygon\n",
    "- ST_GeomFromText"
   ]
  },
  {
   "cell_type": "code",
   "execution_count": null,
   "metadata": {
    "ExecuteTime": {
     "end_time": "2020-01-28T23:41:32.580188Z",
     "start_time": "2020-01-28T23:41:32.577048Z"
    },
    "execution": {
     "iopub.status.busy": "2021-10-05T07:49:34.378680Z",
     "iopub.status.idle": "2021-10-05T07:49:34.379651Z",
     "shell.execute_reply": "2021-10-05T07:49:34.378680Z",
     "shell.execute_reply.started": "2021-10-05T07:49:34.378680Z"
    }
   },
   "outputs": [],
   "source": [
    "# Creating Points\n"
   ]
  },
  {
   "cell_type": "code",
   "execution_count": null,
   "metadata": {
    "ExecuteTime": {
     "end_time": "2020-01-28T23:41:32.586590Z",
     "start_time": "2020-01-28T23:41:32.582725Z"
    },
    "execution": {
     "iopub.status.busy": "2021-10-05T07:49:34.379651Z",
     "iopub.status.idle": "2021-10-05T07:49:34.380647Z",
     "shell.execute_reply": "2021-10-05T07:49:34.380647Z",
     "shell.execute_reply.started": "2021-10-05T07:49:34.380647Z"
    }
   },
   "outputs": [],
   "source": [
    "## Use ST_AsText to make the geometry Human Readable\n"
   ]
  },
  {
   "cell_type": "code",
   "execution_count": null,
   "metadata": {
    "ExecuteTime": {
     "end_time": "2020-01-28T23:41:32.592331Z",
     "start_time": "2020-01-28T23:41:32.589006Z"
    },
    "execution": {
     "iopub.status.busy": "2021-10-05T07:49:34.381651Z",
     "iopub.status.idle": "2021-10-05T07:49:34.382643Z",
     "shell.execute_reply": "2021-10-05T07:49:34.382643Z",
     "shell.execute_reply.started": "2021-10-05T07:49:34.382643Z"
    }
   },
   "outputs": [],
   "source": [
    "# If we want to use our shapely object, we use:\n"
   ]
  },
  {
   "cell_type": "code",
   "execution_count": null,
   "metadata": {
    "ExecuteTime": {
     "end_time": "2020-01-28T23:41:32.598263Z",
     "start_time": "2020-01-28T23:41:32.594978Z"
    },
    "execution": {
     "iopub.status.busy": "2021-10-05T07:49:34.383641Z",
     "iopub.status.idle": "2021-10-05T07:49:34.383641Z",
     "shell.execute_reply": "2021-10-05T07:49:34.383641Z",
     "shell.execute_reply.started": "2021-10-05T07:49:34.383641Z"
    }
   },
   "outputs": [],
   "source": [
    "# We lose info on the SRID, we use SetSRID to add SR information\n"
   ]
  },
  {
   "cell_type": "code",
   "execution_count": null,
   "metadata": {
    "ExecuteTime": {
     "end_time": "2020-01-28T23:41:32.604563Z",
     "start_time": "2020-01-28T23:41:32.601139Z"
    }
   },
   "outputs": [],
   "source": [
    "# Creating Lines\n"
   ]
  },
  {
   "cell_type": "code",
   "execution_count": null,
   "metadata": {
    "ExecuteTime": {
     "end_time": "2020-01-28T23:41:32.610788Z",
     "start_time": "2020-01-28T23:41:32.607285Z"
    }
   },
   "outputs": [],
   "source": [
    "# Use our shapely object to create a line\n"
   ]
  },
  {
   "cell_type": "markdown",
   "metadata": {
    "ExecuteTime": {
     "end_time": "2020-01-28T22:27:18.983297Z",
     "start_time": "2020-01-28T22:27:18.978652Z"
    }
   },
   "source": [
    "#### Exercise: Create a Polygon going from (0,0) to (0,1) to (1,0) and back to (0,0)\n"
   ]
  },
  {
   "cell_type": "code",
   "execution_count": null,
   "metadata": {
    "ExecuteTime": {
     "end_time": "2020-01-28T23:41:32.616717Z",
     "start_time": "2020-01-28T23:41:32.613308Z"
    }
   },
   "outputs": [],
   "source": [
    "# Your Code Here"
   ]
  },
  {
   "cell_type": "markdown",
   "metadata": {},
   "source": [
    "##  4. Measurements"
   ]
  },
  {
   "cell_type": "markdown",
   "metadata": {},
   "source": [
    "### Proximity\n",
    "- ST_Distance\n",
    "- ST_DWithin / PtDistWithin"
   ]
  },
  {
   "cell_type": "code",
   "execution_count": null,
   "metadata": {
    "ExecuteTime": {
     "end_time": "2020-01-28T23:41:32.757360Z",
     "start_time": "2020-01-28T23:41:32.618992Z"
    }
   },
   "outputs": [],
   "source": [
    "plt.plot(*p1.xy, marker='.')\n",
    "plt.plot(*p2.xy, marker='.')\n",
    "plt.plot(*p3.xy, marker='.')\n",
    "plt.plot(*l1.xy, marker='.')\n",
    "plt.plot(*l2.xy, marker='.')\n",
    "plt.plot(*poly1.exterior.xy, marker='.')"
   ]
  },
  {
   "cell_type": "code",
   "execution_count": null,
   "metadata": {
    "ExecuteTime": {
     "end_time": "2020-01-28T23:41:32.761915Z",
     "start_time": "2020-01-28T23:41:32.759315Z"
    }
   },
   "outputs": [],
   "source": [
    "# Use ST_Distance to compute distance between p1 and p2\n"
   ]
  },
  {
   "cell_type": "code",
   "execution_count": null,
   "metadata": {
    "ExecuteTime": {
     "end_time": "2020-01-28T23:41:32.806913Z",
     "start_time": "2020-01-28T23:41:32.764321Z"
    }
   },
   "outputs": [],
   "source": [
    "# What is the distance between p1 and l1?\n"
   ]
  },
  {
   "cell_type": "code",
   "execution_count": null,
   "metadata": {
    "ExecuteTime": {
     "end_time": "2020-01-28T23:41:32.815839Z",
     "start_time": "2020-01-28T23:41:32.811520Z"
    }
   },
   "outputs": [],
   "source": [
    "# ST_DWithin / PTDistWithin returns a boolean if two points are within a specified distance from each other\n"
   ]
  },
  {
   "cell_type": "code",
   "execution_count": null,
   "metadata": {
    "ExecuteTime": {
     "end_time": "2020-01-28T23:41:32.827440Z",
     "start_time": "2020-01-28T23:41:32.823588Z"
    }
   },
   "outputs": [],
   "source": [
    "# What is the distance between l1 and l2?\n"
   ]
  },
  {
   "cell_type": "markdown",
   "metadata": {},
   "source": [
    "### Measurements\n",
    " - ST_NPoints\n",
    " - ST_Length / GLength\n",
    " - ST_Area\n",
    " - ST_Perimeter"
   ]
  },
  {
   "cell_type": "code",
   "execution_count": null,
   "metadata": {
    "ExecuteTime": {
     "end_time": "2020-01-28T23:41:32.834398Z",
     "start_time": "2020-01-28T23:41:32.830740Z"
    },
    "execution": {
     "iopub.status.busy": "2021-10-05T07:49:34.398599Z",
     "iopub.status.idle": "2021-10-05T07:49:34.398599Z",
     "shell.execute_reply": "2021-10-05T07:49:34.398599Z",
     "shell.execute_reply.started": "2021-10-05T07:49:34.398599Z"
    }
   },
   "outputs": [],
   "source": [
    "# How many points are there in l1?"
   ]
  },
  {
   "cell_type": "code",
   "execution_count": null,
   "metadata": {
    "ExecuteTime": {
     "end_time": "2020-01-28T23:41:32.841129Z",
     "start_time": "2020-01-28T23:41:32.837274Z"
    },
    "execution": {
     "iopub.status.busy": "2021-10-05T07:49:34.399597Z",
     "iopub.status.idle": "2021-10-05T07:49:34.400597Z",
     "shell.execute_reply": "2021-10-05T07:49:34.400597Z",
     "shell.execute_reply.started": "2021-10-05T07:49:34.400597Z"
    }
   },
   "outputs": [],
   "source": [
    "# What is the total length of l2?"
   ]
  },
  {
   "cell_type": "code",
   "execution_count": null,
   "metadata": {
    "ExecuteTime": {
     "end_time": "2020-01-28T23:41:32.848237Z",
     "start_time": "2020-01-28T23:41:32.844051Z"
    },
    "execution": {
     "iopub.status.busy": "2021-10-05T07:49:34.402590Z",
     "iopub.status.idle": "2021-10-05T07:49:34.403589Z",
     "shell.execute_reply": "2021-10-05T07:49:34.402590Z",
     "shell.execute_reply.started": "2021-10-05T07:49:34.402590Z"
    }
   },
   "outputs": [],
   "source": [
    "# What is the area of poly1?"
   ]
  },
  {
   "cell_type": "code",
   "execution_count": null,
   "metadata": {
    "ExecuteTime": {
     "end_time": "2020-01-28T23:41:32.855963Z",
     "start_time": "2020-01-28T23:41:32.852137Z"
    },
    "execution": {
     "iopub.status.busy": "2021-10-05T07:49:34.405584Z",
     "iopub.status.idle": "2021-10-05T07:49:34.406580Z",
     "shell.execute_reply": "2021-10-05T07:49:34.405584Z",
     "shell.execute_reply.started": "2021-10-05T07:49:34.405584Z"
    }
   },
   "outputs": [],
   "source": [
    "# What is the perimeter of poly1?"
   ]
  },
  {
   "cell_type": "markdown",
   "metadata": {},
   "source": [
    "## 5. Spatial Relationship\n",
    " - ST_IsSimple"
   ]
  },
  {
   "cell_type": "code",
   "execution_count": null,
   "metadata": {
    "ExecuteTime": {
     "end_time": "2020-01-28T23:41:32.863321Z",
     "start_time": "2020-01-28T23:41:32.859231Z"
    },
    "execution": {
     "iopub.status.busy": "2021-10-05T07:49:34.407603Z",
     "iopub.status.idle": "2021-10-05T07:49:34.407603Z",
     "shell.execute_reply": "2021-10-05T07:49:34.407603Z",
     "shell.execute_reply.started": "2021-10-05T07:49:34.407603Z"
    }
   },
   "outputs": [],
   "source": [
    "# What is ST_IsSimple? (use l1 then l2 to check)\n"
   ]
  },
  {
   "cell_type": "markdown",
   "metadata": {},
   "source": [
    "#### Add more polygons"
   ]
  },
  {
   "cell_type": "code",
   "execution_count": null,
   "metadata": {
    "ExecuteTime": {
     "end_time": "2020-01-28T23:41:32.876828Z",
     "start_time": "2020-01-28T23:41:32.866602Z"
    },
    "execution": {
     "iopub.status.busy": "2021-10-05T07:49:34.408573Z",
     "iopub.status.idle": "2021-10-05T07:49:34.409580Z",
     "shell.execute_reply": "2021-10-05T07:49:34.409580Z",
     "shell.execute_reply.started": "2021-10-05T07:49:34.409580Z"
    }
   },
   "outputs": [],
   "source": [
    "poly2 = Polygon([[1, 1], [1, 4], [4, 4], [4, 1]])\n",
    "poly3 = Polygon([[2, 2], [2, 3], [4.75, 3], [4.75, 2]])\n",
    "poly4 = Polygon([[-1, 2], [-1, 3], [4.75, 3], [4.75, 2]])\n",
    "poly5 = Polygon([[1.5, 1.5], [1.5, 2.5], [2.5, 2.5], [2.5, 1.5]])"
   ]
  },
  {
   "cell_type": "code",
   "execution_count": null,
   "metadata": {
    "ExecuteTime": {
     "end_time": "2020-01-28T23:41:33.037144Z",
     "start_time": "2020-01-28T23:41:32.879249Z"
    },
    "execution": {
     "iopub.status.busy": "2021-10-05T07:49:34.410569Z",
     "iopub.status.idle": "2021-10-05T07:49:34.411606Z",
     "shell.execute_reply": "2021-10-05T07:49:34.411606Z",
     "shell.execute_reply.started": "2021-10-05T07:49:34.410569Z"
    }
   },
   "outputs": [],
   "source": [
    "plt.plot(*poly1.exterior.xy)\n",
    "plt.plot(*poly2.exterior.xy)\n",
    "plt.plot(*poly3.exterior.xy)\n",
    "plt.plot(*poly4.exterior.xy)\n",
    "plt.plot(*poly5.exterior.xy)"
   ]
  },
  {
   "cell_type": "markdown",
   "metadata": {
    "ExecuteTime": {
     "end_time": "2020-01-28T23:09:04.719686Z",
     "start_time": "2020-01-28T23:09:04.707308Z"
    }
   },
   "source": [
    "#### Exercise: Use the five polygons to determine the functionalites of the following functions:\n",
    "- ST_Disjoint\n",
    "- ST_Intersects\n",
    "- ST_Overlaps\n",
    "- ST_Within / ST_Contains"
   ]
  },
  {
   "cell_type": "code",
   "execution_count": null,
   "metadata": {
    "ExecuteTime": {
     "end_time": "2020-01-28T23:41:33.045410Z",
     "start_time": "2020-01-28T23:41:33.040787Z"
    },
    "execution": {
     "iopub.status.busy": "2021-10-05T07:49:34.412587Z",
     "iopub.status.idle": "2021-10-05T07:49:34.412587Z",
     "shell.execute_reply": "2021-10-05T07:49:34.412587Z",
     "shell.execute_reply.started": "2021-10-05T07:49:34.412587Z"
    }
   },
   "outputs": [],
   "source": [
    "# Your Code Here"
   ]
  },
  {
   "cell_type": "markdown",
   "metadata": {
    "ExecuteTime": {
     "end_time": "2020-01-28T23:14:52.894477Z",
     "start_time": "2020-01-28T23:14:52.889046Z"
    }
   },
   "source": [
    "#### Other Functions\n",
    "- ST_Equals\n",
    "- ST_Touches"
   ]
  },
  {
   "cell_type": "markdown",
   "metadata": {},
   "source": [
    "## 6. Spatial Operators\n",
    "- ST_Union\n",
    "- ST_Intersection\n",
    "- ST_Difference\n",
    "- ST_SymDifference\n",
    "- ST_Buffer"
   ]
  },
  {
   "cell_type": "code",
   "execution_count": null,
   "metadata": {
    "ExecuteTime": {
     "end_time": "2020-01-28T23:41:33.053901Z",
     "start_time": "2020-01-28T23:41:33.049320Z"
    },
    "execution": {
     "iopub.status.busy": "2021-10-05T07:49:34.413584Z",
     "iopub.status.idle": "2021-10-05T07:49:34.413584Z",
     "shell.execute_reply": "2021-10-05T07:49:34.413584Z",
     "shell.execute_reply.started": "2021-10-05T07:49:34.413584Z"
    }
   },
   "outputs": [],
   "source": [
    "# Code Here"
   ]
  },
  {
   "cell_type": "markdown",
   "metadata": {},
   "source": [
    "## Exercise"
   ]
  },
  {
   "cell_type": "markdown",
   "metadata": {},
   "source": [
    "Using shapely and the functions that we discussed, create a map of the Gamboa-Salcedo-Benavidez-Paseo block with all the possible objects that you can include. Answer the following questions:\n",
    "1. What is the perimeter of the entire block?\n",
    "2. What is the total length of the streets within the block? (include the boundary streets)\n",
    "3. What is the area of the perimeter block?\n",
    "4. What is the distance of Herco Center from the Mosaic Tower?\n",
    "\n",
    "\n",
    "![logo](aim_map.PNG)"
   ]
  },
  {
   "cell_type": "code",
   "execution_count": null,
   "metadata": {
    "ExecuteTime": {
     "end_time": "2020-01-28T23:41:33.062089Z",
     "start_time": "2020-01-28T23:41:33.057836Z"
    },
    "execution": {
     "iopub.status.busy": "2021-10-05T07:49:34.415560Z",
     "iopub.status.idle": "2021-10-05T07:49:34.416551Z",
     "shell.execute_reply": "2021-10-05T07:49:34.416551Z",
     "shell.execute_reply.started": "2021-10-05T07:49:34.416551Z"
    },
    "tags": []
   },
   "outputs": [],
   "source": [
    "#Your Code here"
   ]
  }
 ],
 "metadata": {
  "kernelspec": {
   "display_name": "Python 3 (ipykernel)",
   "language": "python",
   "name": "python3"
  },
  "language_info": {
   "codemirror_mode": {
    "name": "ipython",
    "version": 3
   },
   "file_extension": ".py",
   "mimetype": "text/x-python",
   "name": "python",
   "nbconvert_exporter": "python",
   "pygments_lexer": "ipython3",
   "version": "3.8.10"
  }
 },
 "nbformat": 4,
 "nbformat_minor": 4
}
