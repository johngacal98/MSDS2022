{
 "cells": [
  {
   "cell_type": "markdown",
   "metadata": {},
   "source": [
    "# Basic Spatial Analysis\n",
    "In this notebook, we will learn how to\n",
    "- create geometries\n",
    "- perform measurements\n",
    "- compute for spatial relationships\n",
    "- perform spatial operators between objects"
   ]
  },
  {
   "cell_type": "code",
   "execution_count": null,
   "metadata": {},
   "outputs": [],
   "source": []
  },
  {
   "cell_type": "code",
   "execution_count": 143,
   "metadata": {
    "ExecuteTime": {
     "end_time": "2021-10-09T19:34:07.076512Z",
     "start_time": "2021-10-09T19:34:07.066484Z"
    }
   },
   "outputs": [],
   "source": [
    "import sqlite3\n",
    "import matplotlib.pyplot as plt\n",
    "import pandas as pd\n",
    "from shapely.wkt import loads\n",
    "from shapely.geometry import Point, LineString, Polygon\n",
    "\n",
    "plt.rcParams['figure.figsize'] = (15,7)"
   ]
  },
  {
   "cell_type": "markdown",
   "metadata": {},
   "source": [
    "## 1. Create Objects using Shapely"
   ]
  },
  {
   "cell_type": "code",
   "execution_count": 3,
   "metadata": {
    "ExecuteTime": {
     "end_time": "2021-10-09T15:32:16.562034Z",
     "start_time": "2021-10-09T15:32:16.554492Z"
    }
   },
   "outputs": [],
   "source": [
    "# Create Point Objects\n",
    "p1 = Point(0, 0)\n",
    "p2 = Point(1, 0)\n",
    "p3 = Point(2, 3)"
   ]
  },
  {
   "cell_type": "code",
   "execution_count": 4,
   "metadata": {
    "ExecuteTime": {
     "end_time": "2021-10-09T15:32:16.572060Z",
     "start_time": "2021-10-09T15:32:16.565558Z"
    }
   },
   "outputs": [
    {
     "name": "stdout",
     "output_type": "stream",
     "text": [
      "POINT (0 0)\n"
     ]
    }
   ],
   "source": [
    "print(p1)"
   ]
  },
  {
   "cell_type": "code",
   "execution_count": 5,
   "metadata": {
    "ExecuteTime": {
     "end_time": "2021-10-09T15:32:16.581017Z",
     "start_time": "2021-10-09T15:32:16.575093Z"
    }
   },
   "outputs": [],
   "source": [
    "# Create Line Objects\n",
    "l1 = LineString([[0, 1], [0, 2], [3, 4]])\n",
    "l2 = LineString(((2, 0), (3, 1), (2, 1), (3, 0)))"
   ]
  },
  {
   "cell_type": "code",
   "execution_count": 6,
   "metadata": {
    "ExecuteTime": {
     "end_time": "2021-10-09T15:32:16.590544Z",
     "start_time": "2021-10-09T15:32:16.585674Z"
    }
   },
   "outputs": [],
   "source": [
    "# Create Polygons\n",
    "poly1 = Polygon([[4, 0], [5, 1], [5, 5]])"
   ]
  },
  {
   "cell_type": "code",
   "execution_count": 7,
   "metadata": {
    "ExecuteTime": {
     "end_time": "2021-10-09T15:32:16.744320Z",
     "start_time": "2021-10-09T15:32:16.593445Z"
    }
   },
   "outputs": [
    {
     "data": {
      "text/plain": [
       "[<matplotlib.lines.Line2D at 0x7f6ca0034af0>]"
      ]
     },
     "execution_count": 7,
     "metadata": {},
     "output_type": "execute_result"
    },
    {
     "data": {
      "image/png": "[encoded data removed]",
      "text/plain": [
       "<Figure size 432x288 with 1 Axes>"
      ]
     },
     "metadata": {
      "needs_background": "light"
     },
     "output_type": "display_data"
    }
   ],
   "source": [
    "# Visualize the Objects using Matplotlib\n",
    "plt.plot(*p1.xy, marker='.')\n",
    "plt.plot(*p2.xy, marker='.')\n",
    "plt.plot(*p3.xy, marker='.')\n",
    "plt.plot(*l1.xy, marker='.')\n",
    "plt.plot(*l2.xy, marker='.')\n",
    "plt.plot(*poly1.exterior.xy, marker='.')"
   ]
  },
  {
   "cell_type": "markdown",
   "metadata": {},
   "source": [
    "## 2. SQL Review"
   ]
  },
  {
   "cell_type": "code",
   "execution_count": 8,
   "metadata": {
    "ExecuteTime": {
     "end_time": "2021-10-09T15:32:16.830023Z",
     "start_time": "2021-10-09T15:32:16.746691Z"
    }
   },
   "outputs": [],
   "source": [
    "# Establish a connection to our sample database \"map.sqlite\"\n",
    "conn = sqlite3.connect('map.sqlite')\n",
    "conn.enable_load_extension(True)\n",
    "conn.load_extension('mod_spatialite')"
   ]
  },
  {
   "cell_type": "code",
   "execution_count": 9,
   "metadata": {
    "ExecuteTime": {
     "end_time": "2021-10-09T15:32:17.195628Z",
     "start_time": "2021-10-09T15:32:16.833116Z"
    }
   },
   "outputs": [
    {
     "data": {
      "text/plain": [
       "[('geometry_columns',),\n",
       " ('spatial_ref_sys',),\n",
       " ('addresses',),\n",
       " ('sqlite_sequence',),\n",
       " ('buildings',),\n",
       " ('water_areas',),\n",
       " ('water_lines',),\n",
       " ('roads',),\n",
       " ('stations',),\n",
       " ('amenity_points',),\n",
       " ('amenity_polygons',),\n",
       " ('trees',),\n",
       " ('tunnels',),\n",
       " ('bridges',),\n",
       " ('landcover',),\n",
       " ('power_lines',),\n",
       " ('power_line_columns',)]"
      ]
     },
     "execution_count": 9,
     "metadata": {},
     "output_type": "execute_result"
    }
   ],
   "source": [
    "# How do you show all tables from the DB?\n",
    "conn.execute('''\n",
    "SELECT name\n",
    "FROM sqlite_master\n",
    "WHERE\n",
    "type='table';\n",
    "''').fetchall()"
   ]
  },
  {
   "cell_type": "code",
   "execution_count": 10,
   "metadata": {
    "ExecuteTime": {
     "end_time": "2021-10-09T15:32:17.285898Z",
     "start_time": "2021-10-09T15:32:17.199119Z"
    }
   },
   "outputs": [],
   "source": [
    "df = pd.read_sql('''\n",
    "SELECT name\n",
    "FROM sqlite_master\n",
    "WHERE type='table'\n",
    "LIMIT 5\n",
    "''', conn)"
   ]
  },
  {
   "cell_type": "code",
   "execution_count": 11,
   "metadata": {
    "ExecuteTime": {
     "end_time": "2021-10-09T15:32:17.303024Z",
     "start_time": "2021-10-09T15:32:17.289246Z"
    },
    "scrolled": true
   },
   "outputs": [
    {
     "data": {
      "text/html": [
       "<div>\n",
       "<style scoped>\n",
       "    .dataframe tbody tr th:only-of-type {\n",
       "        vertical-align: middle;\n",
       "    }\n",
       "\n",
       "    .dataframe tbody tr th {\n",
       "        vertical-align: top;\n",
       "    }\n",
       "\n",
       "    .dataframe thead th {\n",
       "        text-align: right;\n",
       "    }\n",
       "</style>\n",
       "<table border=\"1\" class=\"dataframe\">\n",
       "  <thead>\n",
       "    <tr style=\"text-align: right;\">\n",
       "      <th></th>\n",
       "      <th>name</th>\n",
       "    </tr>\n",
       "  </thead>\n",
       "  <tbody>\n",
       "    <tr>\n",
       "      <th>0</th>\n",
       "      <td>geometry_columns</td>\n",
       "    </tr>\n",
       "    <tr>\n",
       "      <th>1</th>\n",
       "      <td>spatial_ref_sys</td>\n",
       "    </tr>\n",
       "    <tr>\n",
       "      <th>2</th>\n",
       "      <td>addresses</td>\n",
       "    </tr>\n",
       "    <tr>\n",
       "      <th>3</th>\n",
       "      <td>sqlite_sequence</td>\n",
       "    </tr>\n",
       "    <tr>\n",
       "      <th>4</th>\n",
       "      <td>buildings</td>\n",
       "    </tr>\n",
       "  </tbody>\n",
       "</table>\n",
       "</div>"
      ],
      "text/plain": [
       "               name\n",
       "0  geometry_columns\n",
       "1   spatial_ref_sys\n",
       "2         addresses\n",
       "3   sqlite_sequence\n",
       "4         buildings"
      ]
     },
     "execution_count": 11,
     "metadata": {},
     "output_type": "execute_result"
    }
   ],
   "source": [
    "df"
   ]
  },
  {
   "cell_type": "code",
   "execution_count": 12,
   "metadata": {
    "ExecuteTime": {
     "end_time": "2021-10-09T15:32:17.335039Z",
     "start_time": "2021-10-09T15:32:17.305711Z"
    }
   },
   "outputs": [
    {
     "data": {
      "text/html": [
       "<div>\n",
       "<style scoped>\n",
       "    .dataframe tbody tr th:only-of-type {\n",
       "        vertical-align: middle;\n",
       "    }\n",
       "\n",
       "    .dataframe tbody tr th {\n",
       "        vertical-align: top;\n",
       "    }\n",
       "\n",
       "    .dataframe thead th {\n",
       "        text-align: right;\n",
       "    }\n",
       "</style>\n",
       "<table border=\"1\" class=\"dataframe\">\n",
       "  <thead>\n",
       "    <tr style=\"text-align: right;\">\n",
       "      <th></th>\n",
       "      <th>ogc_fid</th>\n",
       "      <th>GEOMETRY</th>\n",
       "      <th>osm_id</th>\n",
       "      <th>highway</th>\n",
       "      <th>amenity</th>\n",
       "      <th>name</th>\n",
       "      <th>operator</th>\n",
       "      <th>sport</th>\n",
       "      <th>addr:housenumber</th>\n",
       "      <th>leisure</th>\n",
       "      <th>...</th>\n",
       "      <th>facebook</th>\n",
       "      <th>drink:espresso</th>\n",
       "      <th>drink:filter_coffee</th>\n",
       "      <th>official_name</th>\n",
       "      <th>fax</th>\n",
       "      <th>old_name</th>\n",
       "      <th>description</th>\n",
       "      <th>share_taxi</th>\n",
       "      <th>bicycle_parking</th>\n",
       "      <th>addr:unit</th>\n",
       "    </tr>\n",
       "  </thead>\n",
       "  <tbody>\n",
       "    <tr>\n",
       "      <th>0</th>\n",
       "      <td>1</td>\n",
       "      <td>b'\\x01\\x01\\x00\\x00\\x00\\xa6\\xb38\\x08\\xdf@^@hi]Y...</td>\n",
       "      <td>27049508</td>\n",
       "      <td>traffic_signals</td>\n",
       "      <td>None</td>\n",
       "      <td>None</td>\n",
       "      <td>None</td>\n",
       "      <td>None</td>\n",
       "      <td>None</td>\n",
       "      <td>None</td>\n",
       "      <td>...</td>\n",
       "      <td>None</td>\n",
       "      <td>None</td>\n",
       "      <td>None</td>\n",
       "      <td>None</td>\n",
       "      <td>None</td>\n",
       "      <td>None</td>\n",
       "      <td>None</td>\n",
       "      <td>None</td>\n",
       "      <td>None</td>\n",
       "      <td>None</td>\n",
       "    </tr>\n",
       "    <tr>\n",
       "      <th>1</th>\n",
       "      <td>2</td>\n",
       "      <td>b'\\x01\\x01\\x00\\x00\\x00\\xc2s\\xa5T\\xf8@^@\\xd5V\\x...</td>\n",
       "      <td>6687031928</td>\n",
       "      <td>traffic_signals</td>\n",
       "      <td>None</td>\n",
       "      <td>None</td>\n",
       "      <td>None</td>\n",
       "      <td>None</td>\n",
       "      <td>None</td>\n",
       "      <td>None</td>\n",
       "      <td>...</td>\n",
       "      <td>None</td>\n",
       "      <td>None</td>\n",
       "      <td>None</td>\n",
       "      <td>None</td>\n",
       "      <td>None</td>\n",
       "      <td>None</td>\n",
       "      <td>None</td>\n",
       "      <td>None</td>\n",
       "      <td>None</td>\n",
       "      <td>None</td>\n",
       "    </tr>\n",
       "    <tr>\n",
       "      <th>2</th>\n",
       "      <td>3</td>\n",
       "      <td>b'\\x01\\x01\\x00\\x00\\x00\\x86\\xdcV\\xc4\\xfa@^@B\\x1...</td>\n",
       "      <td>6687031926</td>\n",
       "      <td>traffic_signals</td>\n",
       "      <td>None</td>\n",
       "      <td>None</td>\n",
       "      <td>None</td>\n",
       "      <td>None</td>\n",
       "      <td>None</td>\n",
       "      <td>None</td>\n",
       "      <td>...</td>\n",
       "      <td>None</td>\n",
       "      <td>None</td>\n",
       "      <td>None</td>\n",
       "      <td>None</td>\n",
       "      <td>None</td>\n",
       "      <td>None</td>\n",
       "      <td>None</td>\n",
       "      <td>None</td>\n",
       "      <td>None</td>\n",
       "      <td>None</td>\n",
       "    </tr>\n",
       "    <tr>\n",
       "      <th>3</th>\n",
       "      <td>4</td>\n",
       "      <td>b'\\x01\\x01\\x00\\x00\\x00~\\x9aI\\x8a\\xfe@^@\\x17\\xd...</td>\n",
       "      <td>313868248</td>\n",
       "      <td>traffic_signals</td>\n",
       "      <td>None</td>\n",
       "      <td>None</td>\n",
       "      <td>None</td>\n",
       "      <td>None</td>\n",
       "      <td>None</td>\n",
       "      <td>None</td>\n",
       "      <td>...</td>\n",
       "      <td>None</td>\n",
       "      <td>None</td>\n",
       "      <td>None</td>\n",
       "      <td>None</td>\n",
       "      <td>None</td>\n",
       "      <td>None</td>\n",
       "      <td>None</td>\n",
       "      <td>None</td>\n",
       "      <td>None</td>\n",
       "      <td>None</td>\n",
       "    </tr>\n",
       "    <tr>\n",
       "      <th>4</th>\n",
       "      <td>5</td>\n",
       "      <td>b'\\x01\\x01\\x00\\x00\\x00\\xfd\\x8e&lt;k\\x12A^@\\xc2\\x1...</td>\n",
       "      <td>7016175494</td>\n",
       "      <td>None</td>\n",
       "      <td>restaurant</td>\n",
       "      <td>Azami</td>\n",
       "      <td>None</td>\n",
       "      <td>None</td>\n",
       "      <td>None</td>\n",
       "      <td>None</td>\n",
       "      <td>...</td>\n",
       "      <td>None</td>\n",
       "      <td>None</td>\n",
       "      <td>None</td>\n",
       "      <td>None</td>\n",
       "      <td>None</td>\n",
       "      <td>None</td>\n",
       "      <td>None</td>\n",
       "      <td>None</td>\n",
       "      <td>None</td>\n",
       "      <td>None</td>\n",
       "    </tr>\n",
       "  </tbody>\n",
       "</table>\n",
       "<p>5 rows × 69 columns</p>\n",
       "</div>"
      ],
      "text/plain": [
       "   ogc_fid                                           GEOMETRY      osm_id  \\\n",
       "0        1  b'\\x01\\x01\\x00\\x00\\x00\\xa6\\xb38\\x08\\xdf@^@hi]Y...    27049508   \n",
       "1        2  b'\\x01\\x01\\x00\\x00\\x00\\xc2s\\xa5T\\xf8@^@\\xd5V\\x...  6687031928   \n",
       "2        3  b'\\x01\\x01\\x00\\x00\\x00\\x86\\xdcV\\xc4\\xfa@^@B\\x1...  6687031926   \n",
       "3        4  b'\\x01\\x01\\x00\\x00\\x00~\\x9aI\\x8a\\xfe@^@\\x17\\xd...   313868248   \n",
       "4        5  b'\\x01\\x01\\x00\\x00\\x00\\xfd\\x8e<k\\x12A^@\\xc2\\x1...  7016175494   \n",
       "\n",
       "           highway     amenity   name operator sport addr:housenumber leisure  \\\n",
       "0  traffic_signals        None   None     None  None             None    None   \n",
       "1  traffic_signals        None   None     None  None             None    None   \n",
       "2  traffic_signals        None   None     None  None             None    None   \n",
       "3  traffic_signals        None   None     None  None             None    None   \n",
       "4             None  restaurant  Azami     None  None             None    None   \n",
       "\n",
       "   ... facebook drink:espresso drink:filter_coffee official_name   fax  \\\n",
       "0  ...     None           None                None          None  None   \n",
       "1  ...     None           None                None          None  None   \n",
       "2  ...     None           None                None          None  None   \n",
       "3  ...     None           None                None          None  None   \n",
       "4  ...     None           None                None          None  None   \n",
       "\n",
       "  old_name description share_taxi bicycle_parking addr:unit  \n",
       "0     None        None       None            None      None  \n",
       "1     None        None       None            None      None  \n",
       "2     None        None       None            None      None  \n",
       "3     None        None       None            None      None  \n",
       "4     None        None       None            None      None  \n",
       "\n",
       "[5 rows x 69 columns]"
      ]
     },
     "execution_count": 12,
     "metadata": {},
     "output_type": "execute_result"
    }
   ],
   "source": [
    "# Show first five rows for the table amenity_points\n",
    "pd.read_sql('''\n",
    "SELECT *\n",
    "FROM amenity_points\n",
    "LIMIT 5\n",
    "''', conn)"
   ]
  },
  {
   "cell_type": "code",
   "execution_count": 13,
   "metadata": {
    "ExecuteTime": {
     "end_time": "2021-10-09T15:32:17.374674Z",
     "start_time": "2021-10-09T15:32:17.337659Z"
    }
   },
   "outputs": [
    {
     "data": {
      "text/html": [
       "<div>\n",
       "<style scoped>\n",
       "    .dataframe tbody tr th:only-of-type {\n",
       "        vertical-align: middle;\n",
       "    }\n",
       "\n",
       "    .dataframe tbody tr th {\n",
       "        vertical-align: top;\n",
       "    }\n",
       "\n",
       "    .dataframe thead th {\n",
       "        text-align: right;\n",
       "    }\n",
       "</style>\n",
       "<table border=\"1\" class=\"dataframe\">\n",
       "  <thead>\n",
       "    <tr style=\"text-align: right;\">\n",
       "      <th></th>\n",
       "      <th>ogc_fid</th>\n",
       "      <th>GEOMETRY</th>\n",
       "      <th>osm_id</th>\n",
       "      <th>highway</th>\n",
       "      <th>amenity</th>\n",
       "      <th>name</th>\n",
       "      <th>operator</th>\n",
       "      <th>sport</th>\n",
       "      <th>addr:housenumber</th>\n",
       "      <th>leisure</th>\n",
       "      <th>...</th>\n",
       "      <th>facebook</th>\n",
       "      <th>drink:espresso</th>\n",
       "      <th>drink:filter_coffee</th>\n",
       "      <th>official_name</th>\n",
       "      <th>fax</th>\n",
       "      <th>old_name</th>\n",
       "      <th>description</th>\n",
       "      <th>share_taxi</th>\n",
       "      <th>bicycle_parking</th>\n",
       "      <th>addr:unit</th>\n",
       "    </tr>\n",
       "  </thead>\n",
       "  <tbody>\n",
       "    <tr>\n",
       "      <th>0</th>\n",
       "      <td>5</td>\n",
       "      <td>b'\\x01\\x01\\x00\\x00\\x00\\xfd\\x8e&lt;k\\x12A^@\\xc2\\x1...</td>\n",
       "      <td>7016175494</td>\n",
       "      <td>None</td>\n",
       "      <td>restaurant</td>\n",
       "      <td>Azami</td>\n",
       "      <td>None</td>\n",
       "      <td>None</td>\n",
       "      <td>None</td>\n",
       "      <td>None</td>\n",
       "      <td>...</td>\n",
       "      <td>None</td>\n",
       "      <td>None</td>\n",
       "      <td>None</td>\n",
       "      <td>None</td>\n",
       "      <td>None</td>\n",
       "      <td>None</td>\n",
       "      <td>None</td>\n",
       "      <td>None</td>\n",
       "      <td>None</td>\n",
       "      <td>None</td>\n",
       "    </tr>\n",
       "    <tr>\n",
       "      <th>1</th>\n",
       "      <td>6</td>\n",
       "      <td>b'\\x01\\x01\\x00\\x00\\x000\\x1d)\\x11\\x17A^@!0 \\xc5...</td>\n",
       "      <td>6688502276</td>\n",
       "      <td>None</td>\n",
       "      <td>parking_entrance</td>\n",
       "      <td>One Corporate Plaza Basement Parking</td>\n",
       "      <td>None</td>\n",
       "      <td>None</td>\n",
       "      <td>None</td>\n",
       "      <td>None</td>\n",
       "      <td>...</td>\n",
       "      <td>None</td>\n",
       "      <td>None</td>\n",
       "      <td>None</td>\n",
       "      <td>None</td>\n",
       "      <td>None</td>\n",
       "      <td>None</td>\n",
       "      <td>None</td>\n",
       "      <td>None</td>\n",
       "      <td>None</td>\n",
       "      <td>None</td>\n",
       "    </tr>\n",
       "    <tr>\n",
       "      <th>2</th>\n",
       "      <td>7</td>\n",
       "      <td>b'\\x01\\x01\\x00\\x00\\x00\\x92\\x15\\rc\\x1cA^@Nk\\x89...</td>\n",
       "      <td>659639221</td>\n",
       "      <td>None</td>\n",
       "      <td>bank</td>\n",
       "      <td>BDO</td>\n",
       "      <td>BDO Unibank</td>\n",
       "      <td>None</td>\n",
       "      <td>None</td>\n",
       "      <td>None</td>\n",
       "      <td>...</td>\n",
       "      <td>None</td>\n",
       "      <td>None</td>\n",
       "      <td>None</td>\n",
       "      <td>None</td>\n",
       "      <td>None</td>\n",
       "      <td>None</td>\n",
       "      <td>None</td>\n",
       "      <td>None</td>\n",
       "      <td>None</td>\n",
       "      <td>None</td>\n",
       "    </tr>\n",
       "    <tr>\n",
       "      <th>3</th>\n",
       "      <td>8</td>\n",
       "      <td>b'\\x01\\x01\\x00\\x00\\x00\\x13-\\xd4\\xf5\\x1fA^@\\xc5...</td>\n",
       "      <td>6679558277</td>\n",
       "      <td>None</td>\n",
       "      <td>None</td>\n",
       "      <td>Elorde Top Team</td>\n",
       "      <td>None</td>\n",
       "      <td>boxing;kickboxing;weightlifting</td>\n",
       "      <td>843</td>\n",
       "      <td>fitness_centre</td>\n",
       "      <td>...</td>\n",
       "      <td>None</td>\n",
       "      <td>None</td>\n",
       "      <td>None</td>\n",
       "      <td>None</td>\n",
       "      <td>None</td>\n",
       "      <td>None</td>\n",
       "      <td>None</td>\n",
       "      <td>None</td>\n",
       "      <td>None</td>\n",
       "      <td>None</td>\n",
       "    </tr>\n",
       "    <tr>\n",
       "      <th>4</th>\n",
       "      <td>9</td>\n",
       "      <td>b'\\x01\\x01\\x00\\x00\\x00\\xe17\\xcf\"%A^@\\xe8=\\x84\\...</td>\n",
       "      <td>4515017489</td>\n",
       "      <td>None</td>\n",
       "      <td>embassy</td>\n",
       "      <td>Bulgarian Consulate</td>\n",
       "      <td>None</td>\n",
       "      <td>None</td>\n",
       "      <td>None</td>\n",
       "      <td>None</td>\n",
       "      <td>...</td>\n",
       "      <td>None</td>\n",
       "      <td>None</td>\n",
       "      <td>None</td>\n",
       "      <td>None</td>\n",
       "      <td>None</td>\n",
       "      <td>None</td>\n",
       "      <td>None</td>\n",
       "      <td>None</td>\n",
       "      <td>None</td>\n",
       "      <td>None</td>\n",
       "    </tr>\n",
       "    <tr>\n",
       "      <th>5</th>\n",
       "      <td>11</td>\n",
       "      <td>b'\\x01\\x01\\x00\\x00\\x00\\x91\\xf0\\xbd\\xbfAA^@\\xf1...</td>\n",
       "      <td>255072280</td>\n",
       "      <td>None</td>\n",
       "      <td>None</td>\n",
       "      <td>Pasia</td>\n",
       "      <td>None</td>\n",
       "      <td>None</td>\n",
       "      <td>None</td>\n",
       "      <td>None</td>\n",
       "      <td>...</td>\n",
       "      <td>None</td>\n",
       "      <td>None</td>\n",
       "      <td>None</td>\n",
       "      <td>None</td>\n",
       "      <td>None</td>\n",
       "      <td>None</td>\n",
       "      <td>None</td>\n",
       "      <td>None</td>\n",
       "      <td>None</td>\n",
       "      <td>None</td>\n",
       "    </tr>\n",
       "    <tr>\n",
       "      <th>6</th>\n",
       "      <td>12</td>\n",
       "      <td>b'\\x01\\x01\\x00\\x00\\x002\\x16\\xf2\\xad4A^@X?\\x91\\...</td>\n",
       "      <td>6320066120</td>\n",
       "      <td>None</td>\n",
       "      <td>cafe</td>\n",
       "      <td>Hineleban Cafe</td>\n",
       "      <td>None</td>\n",
       "      <td>None</td>\n",
       "      <td>830</td>\n",
       "      <td>None</td>\n",
       "      <td>...</td>\n",
       "      <td>None</td>\n",
       "      <td>None</td>\n",
       "      <td>None</td>\n",
       "      <td>None</td>\n",
       "      <td>None</td>\n",
       "      <td>None</td>\n",
       "      <td>None</td>\n",
       "      <td>None</td>\n",
       "      <td>None</td>\n",
       "      <td>None</td>\n",
       "    </tr>\n",
       "    <tr>\n",
       "      <th>7</th>\n",
       "      <td>13</td>\n",
       "      <td>b'\\x01\\x01\\x00\\x00\\x00\\x15\\xfdF\\xe04A^@\\x0f\\xe...</td>\n",
       "      <td>6320063102</td>\n",
       "      <td>None</td>\n",
       "      <td>None</td>\n",
       "      <td>Gran Trail Cycles Makati</td>\n",
       "      <td>None</td>\n",
       "      <td>None</td>\n",
       "      <td>830</td>\n",
       "      <td>None</td>\n",
       "      <td>...</td>\n",
       "      <td>None</td>\n",
       "      <td>None</td>\n",
       "      <td>None</td>\n",
       "      <td>None</td>\n",
       "      <td>None</td>\n",
       "      <td>None</td>\n",
       "      <td>None</td>\n",
       "      <td>None</td>\n",
       "      <td>None</td>\n",
       "      <td>None</td>\n",
       "    </tr>\n",
       "    <tr>\n",
       "      <th>8</th>\n",
       "      <td>14</td>\n",
       "      <td>b'\\x01\\x01\\x00\\x00\\x00C\\x02F\\x977A^@\\x89\\x87\\x...</td>\n",
       "      <td>432151356</td>\n",
       "      <td>None</td>\n",
       "      <td>bank</td>\n",
       "      <td>Citibank Savings</td>\n",
       "      <td>None</td>\n",
       "      <td>None</td>\n",
       "      <td>None</td>\n",
       "      <td>None</td>\n",
       "      <td>...</td>\n",
       "      <td>None</td>\n",
       "      <td>None</td>\n",
       "      <td>None</td>\n",
       "      <td>None</td>\n",
       "      <td>None</td>\n",
       "      <td>None</td>\n",
       "      <td>None</td>\n",
       "      <td>None</td>\n",
       "      <td>None</td>\n",
       "      <td>None</td>\n",
       "    </tr>\n",
       "    <tr>\n",
       "      <th>9</th>\n",
       "      <td>17</td>\n",
       "      <td>b'\\x01\\x01\\x00\\x00\\x00\\x8dj\\xc7\\xc31A^@u\\x84\\x...</td>\n",
       "      <td>7029669570</td>\n",
       "      <td>None</td>\n",
       "      <td>restaurant</td>\n",
       "      <td>Croque Cafe + Bakery</td>\n",
       "      <td>None</td>\n",
       "      <td>None</td>\n",
       "      <td>None</td>\n",
       "      <td>None</td>\n",
       "      <td>...</td>\n",
       "      <td>None</td>\n",
       "      <td>None</td>\n",
       "      <td>None</td>\n",
       "      <td>None</td>\n",
       "      <td>None</td>\n",
       "      <td>None</td>\n",
       "      <td>None</td>\n",
       "      <td>None</td>\n",
       "      <td>None</td>\n",
       "      <td>None</td>\n",
       "    </tr>\n",
       "  </tbody>\n",
       "</table>\n",
       "<p>10 rows × 69 columns</p>\n",
       "</div>"
      ],
      "text/plain": [
       "   ogc_fid                                           GEOMETRY      osm_id  \\\n",
       "0        5  b'\\x01\\x01\\x00\\x00\\x00\\xfd\\x8e<k\\x12A^@\\xc2\\x1...  7016175494   \n",
       "1        6  b'\\x01\\x01\\x00\\x00\\x000\\x1d)\\x11\\x17A^@!0 \\xc5...  6688502276   \n",
       "2        7  b'\\x01\\x01\\x00\\x00\\x00\\x92\\x15\\rc\\x1cA^@Nk\\x89...   659639221   \n",
       "3        8  b'\\x01\\x01\\x00\\x00\\x00\\x13-\\xd4\\xf5\\x1fA^@\\xc5...  6679558277   \n",
       "4        9  b'\\x01\\x01\\x00\\x00\\x00\\xe17\\xcf\"%A^@\\xe8=\\x84\\...  4515017489   \n",
       "5       11  b'\\x01\\x01\\x00\\x00\\x00\\x91\\xf0\\xbd\\xbfAA^@\\xf1...   255072280   \n",
       "6       12  b'\\x01\\x01\\x00\\x00\\x002\\x16\\xf2\\xad4A^@X?\\x91\\...  6320066120   \n",
       "7       13  b'\\x01\\x01\\x00\\x00\\x00\\x15\\xfdF\\xe04A^@\\x0f\\xe...  6320063102   \n",
       "8       14  b'\\x01\\x01\\x00\\x00\\x00C\\x02F\\x977A^@\\x89\\x87\\x...   432151356   \n",
       "9       17  b'\\x01\\x01\\x00\\x00\\x00\\x8dj\\xc7\\xc31A^@u\\x84\\x...  7029669570   \n",
       "\n",
       "  highway           amenity                                  name  \\\n",
       "0    None        restaurant                                 Azami   \n",
       "1    None  parking_entrance  One Corporate Plaza Basement Parking   \n",
       "2    None              bank                                   BDO   \n",
       "3    None              None                       Elorde Top Team   \n",
       "4    None           embassy                   Bulgarian Consulate   \n",
       "5    None              None                                 Pasia   \n",
       "6    None              cafe                        Hineleban Cafe   \n",
       "7    None              None              Gran Trail Cycles Makati   \n",
       "8    None              bank                      Citibank Savings   \n",
       "9    None        restaurant                  Croque Cafe + Bakery   \n",
       "\n",
       "      operator                            sport addr:housenumber  \\\n",
       "0         None                             None             None   \n",
       "1         None                             None             None   \n",
       "2  BDO Unibank                             None             None   \n",
       "3         None  boxing;kickboxing;weightlifting              843   \n",
       "4         None                             None             None   \n",
       "5         None                             None             None   \n",
       "6         None                             None              830   \n",
       "7         None                             None              830   \n",
       "8         None                             None             None   \n",
       "9         None                             None             None   \n",
       "\n",
       "          leisure  ... facebook drink:espresso drink:filter_coffee  \\\n",
       "0            None  ...     None           None                None   \n",
       "1            None  ...     None           None                None   \n",
       "2            None  ...     None           None                None   \n",
       "3  fitness_centre  ...     None           None                None   \n",
       "4            None  ...     None           None                None   \n",
       "5            None  ...     None           None                None   \n",
       "6            None  ...     None           None                None   \n",
       "7            None  ...     None           None                None   \n",
       "8            None  ...     None           None                None   \n",
       "9            None  ...     None           None                None   \n",
       "\n",
       "  official_name   fax old_name description share_taxi bicycle_parking  \\\n",
       "0          None  None     None        None       None            None   \n",
       "1          None  None     None        None       None            None   \n",
       "2          None  None     None        None       None            None   \n",
       "3          None  None     None        None       None            None   \n",
       "4          None  None     None        None       None            None   \n",
       "5          None  None     None        None       None            None   \n",
       "6          None  None     None        None       None            None   \n",
       "7          None  None     None        None       None            None   \n",
       "8          None  None     None        None       None            None   \n",
       "9          None  None     None        None       None            None   \n",
       "\n",
       "  addr:unit  \n",
       "0      None  \n",
       "1      None  \n",
       "2      None  \n",
       "3      None  \n",
       "4      None  \n",
       "5      None  \n",
       "6      None  \n",
       "7      None  \n",
       "8      None  \n",
       "9      None  \n",
       "\n",
       "[10 rows x 69 columns]"
      ]
     },
     "execution_count": 13,
     "metadata": {},
     "output_type": "execute_result"
    }
   ],
   "source": [
    "# Show amenity points with names\n",
    "pd.read_sql('''\n",
    "SELECT *\n",
    "FROM amenity_points\n",
    "WHERE name != \"None\"\n",
    "LIMIT 10\n",
    "''', conn)"
   ]
  },
  {
   "cell_type": "code",
   "execution_count": 14,
   "metadata": {
    "ExecuteTime": {
     "end_time": "2021-10-09T15:32:17.408036Z",
     "start_time": "2021-10-09T15:32:17.377272Z"
    },
    "scrolled": true
   },
   "outputs": [
    {
     "data": {
      "text/html": [
       "<div>\n",
       "<style scoped>\n",
       "    .dataframe tbody tr th:only-of-type {\n",
       "        vertical-align: middle;\n",
       "    }\n",
       "\n",
       "    .dataframe tbody tr th {\n",
       "        vertical-align: top;\n",
       "    }\n",
       "\n",
       "    .dataframe thead th {\n",
       "        text-align: right;\n",
       "    }\n",
       "</style>\n",
       "<table border=\"1\" class=\"dataframe\">\n",
       "  <thead>\n",
       "    <tr style=\"text-align: right;\">\n",
       "      <th></th>\n",
       "      <th>amenity</th>\n",
       "    </tr>\n",
       "  </thead>\n",
       "  <tbody>\n",
       "    <tr>\n",
       "      <th>0</th>\n",
       "      <td>None</td>\n",
       "    </tr>\n",
       "    <tr>\n",
       "      <th>1</th>\n",
       "      <td>restaurant</td>\n",
       "    </tr>\n",
       "    <tr>\n",
       "      <th>2</th>\n",
       "      <td>parking_entrance</td>\n",
       "    </tr>\n",
       "    <tr>\n",
       "      <th>3</th>\n",
       "      <td>bank</td>\n",
       "    </tr>\n",
       "    <tr>\n",
       "      <th>4</th>\n",
       "      <td>embassy</td>\n",
       "    </tr>\n",
       "    <tr>\n",
       "      <th>5</th>\n",
       "      <td>cafe</td>\n",
       "    </tr>\n",
       "    <tr>\n",
       "      <th>6</th>\n",
       "      <td>fast_food</td>\n",
       "    </tr>\n",
       "    <tr>\n",
       "      <th>7</th>\n",
       "      <td>dentist</td>\n",
       "    </tr>\n",
       "    <tr>\n",
       "      <th>8</th>\n",
       "      <td>bar</td>\n",
       "    </tr>\n",
       "    <tr>\n",
       "      <th>9</th>\n",
       "      <td>pharmacy</td>\n",
       "    </tr>\n",
       "    <tr>\n",
       "      <th>10</th>\n",
       "      <td>bureau_de_change</td>\n",
       "    </tr>\n",
       "    <tr>\n",
       "      <th>11</th>\n",
       "      <td>parking</td>\n",
       "    </tr>\n",
       "    <tr>\n",
       "      <th>12</th>\n",
       "      <td>nightclub</td>\n",
       "    </tr>\n",
       "    <tr>\n",
       "      <th>13</th>\n",
       "      <td>atm</td>\n",
       "    </tr>\n",
       "    <tr>\n",
       "      <th>14</th>\n",
       "      <td>bicycle_parking</td>\n",
       "    </tr>\n",
       "    <tr>\n",
       "      <th>15</th>\n",
       "      <td>cinema</td>\n",
       "    </tr>\n",
       "    <tr>\n",
       "      <th>16</th>\n",
       "      <td>pub</td>\n",
       "    </tr>\n",
       "    <tr>\n",
       "      <th>17</th>\n",
       "      <td>coworking_space</td>\n",
       "    </tr>\n",
       "    <tr>\n",
       "      <th>18</th>\n",
       "      <td>post_office</td>\n",
       "    </tr>\n",
       "    <tr>\n",
       "      <th>19</th>\n",
       "      <td>library</td>\n",
       "    </tr>\n",
       "  </tbody>\n",
       "</table>\n",
       "</div>"
      ],
      "text/plain": [
       "             amenity\n",
       "0               None\n",
       "1         restaurant\n",
       "2   parking_entrance\n",
       "3               bank\n",
       "4            embassy\n",
       "5               cafe\n",
       "6          fast_food\n",
       "7            dentist\n",
       "8                bar\n",
       "9           pharmacy\n",
       "10  bureau_de_change\n",
       "11           parking\n",
       "12         nightclub\n",
       "13               atm\n",
       "14   bicycle_parking\n",
       "15            cinema\n",
       "16               pub\n",
       "17   coworking_space\n",
       "18       post_office\n",
       "19           library"
      ]
     },
     "execution_count": 14,
     "metadata": {},
     "output_type": "execute_result"
    }
   ],
   "source": [
    "# What are the amenity types in the amenity_points table?\n",
    "pd.read_sql('''\n",
    "SELECT DISTINCT a.amenity\n",
    "FROM amenity_points as a\n",
    "''', conn)"
   ]
  },
  {
   "cell_type": "code",
   "execution_count": 15,
   "metadata": {
    "ExecuteTime": {
     "end_time": "2021-10-09T15:32:17.426523Z",
     "start_time": "2021-10-09T15:32:17.414143Z"
    }
   },
   "outputs": [
    {
     "data": {
      "text/html": [
       "<div>\n",
       "<style scoped>\n",
       "    .dataframe tbody tr th:only-of-type {\n",
       "        vertical-align: middle;\n",
       "    }\n",
       "\n",
       "    .dataframe tbody tr th {\n",
       "        vertical-align: top;\n",
       "    }\n",
       "\n",
       "    .dataframe thead th {\n",
       "        text-align: right;\n",
       "    }\n",
       "</style>\n",
       "<table border=\"1\" class=\"dataframe\">\n",
       "  <thead>\n",
       "    <tr style=\"text-align: right;\">\n",
       "      <th></th>\n",
       "      <th>amenity</th>\n",
       "    </tr>\n",
       "  </thead>\n",
       "  <tbody>\n",
       "    <tr>\n",
       "      <th>0</th>\n",
       "      <td>None</td>\n",
       "    </tr>\n",
       "    <tr>\n",
       "      <th>1</th>\n",
       "      <td>atm</td>\n",
       "    </tr>\n",
       "    <tr>\n",
       "      <th>2</th>\n",
       "      <td>bank</td>\n",
       "    </tr>\n",
       "    <tr>\n",
       "      <th>3</th>\n",
       "      <td>bar</td>\n",
       "    </tr>\n",
       "    <tr>\n",
       "      <th>4</th>\n",
       "      <td>bicycle_parking</td>\n",
       "    </tr>\n",
       "    <tr>\n",
       "      <th>5</th>\n",
       "      <td>bureau_de_change</td>\n",
       "    </tr>\n",
       "    <tr>\n",
       "      <th>6</th>\n",
       "      <td>cafe</td>\n",
       "    </tr>\n",
       "    <tr>\n",
       "      <th>7</th>\n",
       "      <td>cinema</td>\n",
       "    </tr>\n",
       "    <tr>\n",
       "      <th>8</th>\n",
       "      <td>coworking_space</td>\n",
       "    </tr>\n",
       "    <tr>\n",
       "      <th>9</th>\n",
       "      <td>dentist</td>\n",
       "    </tr>\n",
       "    <tr>\n",
       "      <th>10</th>\n",
       "      <td>embassy</td>\n",
       "    </tr>\n",
       "    <tr>\n",
       "      <th>11</th>\n",
       "      <td>fast_food</td>\n",
       "    </tr>\n",
       "    <tr>\n",
       "      <th>12</th>\n",
       "      <td>library</td>\n",
       "    </tr>\n",
       "    <tr>\n",
       "      <th>13</th>\n",
       "      <td>nightclub</td>\n",
       "    </tr>\n",
       "    <tr>\n",
       "      <th>14</th>\n",
       "      <td>parking</td>\n",
       "    </tr>\n",
       "    <tr>\n",
       "      <th>15</th>\n",
       "      <td>parking_entrance</td>\n",
       "    </tr>\n",
       "    <tr>\n",
       "      <th>16</th>\n",
       "      <td>pharmacy</td>\n",
       "    </tr>\n",
       "    <tr>\n",
       "      <th>17</th>\n",
       "      <td>post_office</td>\n",
       "    </tr>\n",
       "    <tr>\n",
       "      <th>18</th>\n",
       "      <td>pub</td>\n",
       "    </tr>\n",
       "    <tr>\n",
       "      <th>19</th>\n",
       "      <td>restaurant</td>\n",
       "    </tr>\n",
       "  </tbody>\n",
       "</table>\n",
       "</div>"
      ],
      "text/plain": [
       "             amenity\n",
       "0               None\n",
       "1                atm\n",
       "2               bank\n",
       "3                bar\n",
       "4    bicycle_parking\n",
       "5   bureau_de_change\n",
       "6               cafe\n",
       "7             cinema\n",
       "8    coworking_space\n",
       "9            dentist\n",
       "10           embassy\n",
       "11         fast_food\n",
       "12           library\n",
       "13         nightclub\n",
       "14           parking\n",
       "15  parking_entrance\n",
       "16          pharmacy\n",
       "17       post_office\n",
       "18               pub\n",
       "19        restaurant"
      ]
     },
     "execution_count": 15,
     "metadata": {},
     "output_type": "execute_result"
    }
   ],
   "source": [
    "pd.read_sql('''\n",
    "SELECT amenity\n",
    "FROM amenity_points\n",
    "GROUP BY 1\n",
    "''', conn)"
   ]
  },
  {
   "cell_type": "markdown",
   "metadata": {
    "ExecuteTime": {
     "end_time": "2020-01-28T23:05:11.077348Z",
     "start_time": "2020-01-28T23:05:11.073000Z"
    }
   },
   "source": [
    "#### Exercise: Rank the amenities by most frequent to least frequent."
   ]
  },
  {
   "cell_type": "code",
   "execution_count": 16,
   "metadata": {
    "ExecuteTime": {
     "end_time": "2021-10-09T15:32:17.441150Z",
     "start_time": "2021-10-09T15:32:17.429379Z"
    },
    "scrolled": true
   },
   "outputs": [
    {
     "data": {
      "text/html": [
       "<div>\n",
       "<style scoped>\n",
       "    .dataframe tbody tr th:only-of-type {\n",
       "        vertical-align: middle;\n",
       "    }\n",
       "\n",
       "    .dataframe tbody tr th {\n",
       "        vertical-align: top;\n",
       "    }\n",
       "\n",
       "    .dataframe thead th {\n",
       "        text-align: right;\n",
       "    }\n",
       "</style>\n",
       "<table border=\"1\" class=\"dataframe\">\n",
       "  <thead>\n",
       "    <tr style=\"text-align: right;\">\n",
       "      <th></th>\n",
       "      <th>amenity</th>\n",
       "      <th>count(*)</th>\n",
       "    </tr>\n",
       "  </thead>\n",
       "  <tbody>\n",
       "    <tr>\n",
       "      <th>0</th>\n",
       "      <td>restaurant</td>\n",
       "      <td>59</td>\n",
       "    </tr>\n",
       "    <tr>\n",
       "      <th>1</th>\n",
       "      <td>bank</td>\n",
       "      <td>51</td>\n",
       "    </tr>\n",
       "    <tr>\n",
       "      <th>2</th>\n",
       "      <td>cafe</td>\n",
       "      <td>16</td>\n",
       "    </tr>\n",
       "    <tr>\n",
       "      <th>3</th>\n",
       "      <td>fast_food</td>\n",
       "      <td>11</td>\n",
       "    </tr>\n",
       "    <tr>\n",
       "      <th>4</th>\n",
       "      <td>parking_entrance</td>\n",
       "      <td>7</td>\n",
       "    </tr>\n",
       "    <tr>\n",
       "      <th>5</th>\n",
       "      <td>bar</td>\n",
       "      <td>6</td>\n",
       "    </tr>\n",
       "    <tr>\n",
       "      <th>6</th>\n",
       "      <td>parking</td>\n",
       "      <td>4</td>\n",
       "    </tr>\n",
       "    <tr>\n",
       "      <th>7</th>\n",
       "      <td>embassy</td>\n",
       "      <td>4</td>\n",
       "    </tr>\n",
       "    <tr>\n",
       "      <th>8</th>\n",
       "      <td>bicycle_parking</td>\n",
       "      <td>3</td>\n",
       "    </tr>\n",
       "    <tr>\n",
       "      <th>9</th>\n",
       "      <td>pub</td>\n",
       "      <td>2</td>\n",
       "    </tr>\n",
       "    <tr>\n",
       "      <th>10</th>\n",
       "      <td>pharmacy</td>\n",
       "      <td>2</td>\n",
       "    </tr>\n",
       "    <tr>\n",
       "      <th>11</th>\n",
       "      <td>dentist</td>\n",
       "      <td>2</td>\n",
       "    </tr>\n",
       "    <tr>\n",
       "      <th>12</th>\n",
       "      <td>cinema</td>\n",
       "      <td>2</td>\n",
       "    </tr>\n",
       "    <tr>\n",
       "      <th>13</th>\n",
       "      <td>bureau_de_change</td>\n",
       "      <td>2</td>\n",
       "    </tr>\n",
       "    <tr>\n",
       "      <th>14</th>\n",
       "      <td>atm</td>\n",
       "      <td>2</td>\n",
       "    </tr>\n",
       "    <tr>\n",
       "      <th>15</th>\n",
       "      <td>post_office</td>\n",
       "      <td>1</td>\n",
       "    </tr>\n",
       "    <tr>\n",
       "      <th>16</th>\n",
       "      <td>nightclub</td>\n",
       "      <td>1</td>\n",
       "    </tr>\n",
       "    <tr>\n",
       "      <th>17</th>\n",
       "      <td>library</td>\n",
       "      <td>1</td>\n",
       "    </tr>\n",
       "    <tr>\n",
       "      <th>18</th>\n",
       "      <td>coworking_space</td>\n",
       "      <td>1</td>\n",
       "    </tr>\n",
       "  </tbody>\n",
       "</table>\n",
       "</div>"
      ],
      "text/plain": [
       "             amenity  count(*)\n",
       "0         restaurant        59\n",
       "1               bank        51\n",
       "2               cafe        16\n",
       "3          fast_food        11\n",
       "4   parking_entrance         7\n",
       "5                bar         6\n",
       "6            parking         4\n",
       "7            embassy         4\n",
       "8    bicycle_parking         3\n",
       "9                pub         2\n",
       "10          pharmacy         2\n",
       "11           dentist         2\n",
       "12            cinema         2\n",
       "13  bureau_de_change         2\n",
       "14               atm         2\n",
       "15       post_office         1\n",
       "16         nightclub         1\n",
       "17           library         1\n",
       "18   coworking_space         1"
      ]
     },
     "execution_count": 16,
     "metadata": {},
     "output_type": "execute_result"
    }
   ],
   "source": [
    "# Your Code Here\n",
    "pd.read_sql('''\n",
    "SELECT amenity, count(*)\n",
    "FROM amenity_points\n",
    "WHERE amenity IS NOT NULL\n",
    "GROUP BY 1\n",
    "ORDER BY 2 DESC\n",
    "''',conn)"
   ]
  },
  {
   "cell_type": "markdown",
   "metadata": {},
   "source": [
    "## 3. Creating Geometries Through SQL\n",
    "We will now create points, lines, and polygons using SQL commands\n",
    "- ST_MakePoint / MakePoint\n",
    "- ST_MakeLine / MakeLine\n",
    "- ST_MakePolygon / MakePolygon\n",
    "- ST_GeomFromText"
   ]
  },
  {
   "cell_type": "code",
   "execution_count": 17,
   "metadata": {
    "ExecuteTime": {
     "end_time": "2021-10-09T15:32:17.452748Z",
     "start_time": "2021-10-09T15:32:17.443701Z"
    }
   },
   "outputs": [
    {
     "data": {
      "text/html": [
       "<div>\n",
       "<style scoped>\n",
       "    .dataframe tbody tr th:only-of-type {\n",
       "        vertical-align: middle;\n",
       "    }\n",
       "\n",
       "    .dataframe tbody tr th {\n",
       "        vertical-align: top;\n",
       "    }\n",
       "\n",
       "    .dataframe thead th {\n",
       "        text-align: right;\n",
       "    }\n",
       "</style>\n",
       "<table border=\"1\" class=\"dataframe\">\n",
       "  <thead>\n",
       "    <tr style=\"text-align: right;\">\n",
       "      <th></th>\n",
       "      <th>point</th>\n",
       "    </tr>\n",
       "  </thead>\n",
       "  <tbody>\n",
       "    <tr>\n",
       "      <th>0</th>\n",
       "      <td>b'\\x00\\x01\\xe6\\x10\\x00\\x00\\x00\\x00\\x00\\x00\\x00...</td>\n",
       "    </tr>\n",
       "  </tbody>\n",
       "</table>\n",
       "</div>"
      ],
      "text/plain": [
       "                                               point\n",
       "0  b'\\x00\\x01\\xe6\\x10\\x00\\x00\\x00\\x00\\x00\\x00\\x00..."
      ]
     },
     "execution_count": 17,
     "metadata": {},
     "output_type": "execute_result"
    }
   ],
   "source": [
    "# Creating Points\n",
    "pd.read_sql('''\n",
    "SELECT MakePoint(1,0,4326) as point\n",
    "''', conn)"
   ]
  },
  {
   "cell_type": "code",
   "execution_count": 18,
   "metadata": {
    "ExecuteTime": {
     "end_time": "2021-10-09T15:32:17.463182Z",
     "start_time": "2021-10-09T15:32:17.455173Z"
    }
   },
   "outputs": [
    {
     "data": {
      "text/html": [
       "<div>\n",
       "<style scoped>\n",
       "    .dataframe tbody tr th:only-of-type {\n",
       "        vertical-align: middle;\n",
       "    }\n",
       "\n",
       "    .dataframe tbody tr th {\n",
       "        vertical-align: top;\n",
       "    }\n",
       "\n",
       "    .dataframe thead th {\n",
       "        text-align: right;\n",
       "    }\n",
       "</style>\n",
       "<table border=\"1\" class=\"dataframe\">\n",
       "  <thead>\n",
       "    <tr style=\"text-align: right;\">\n",
       "      <th></th>\n",
       "      <th>point</th>\n",
       "    </tr>\n",
       "  </thead>\n",
       "  <tbody>\n",
       "    <tr>\n",
       "      <th>0</th>\n",
       "      <td>POINT(1 0)</td>\n",
       "    </tr>\n",
       "  </tbody>\n",
       "</table>\n",
       "</div>"
      ],
      "text/plain": [
       "        point\n",
       "0  POINT(1 0)"
      ]
     },
     "execution_count": 18,
     "metadata": {},
     "output_type": "execute_result"
    }
   ],
   "source": [
    "## Use ST_AsText to make the geometry Human Readable\n",
    "pd.read_sql('''\n",
    "SELECT ST_AsText(MakePoint(1,0,4326)) as point\n",
    "''',conn)"
   ]
  },
  {
   "cell_type": "code",
   "execution_count": 19,
   "metadata": {
    "ExecuteTime": {
     "end_time": "2021-10-09T15:32:17.474249Z",
     "start_time": "2021-10-09T15:32:17.465568Z"
    }
   },
   "outputs": [
    {
     "data": {
      "text/html": [
       "<div>\n",
       "<style scoped>\n",
       "    .dataframe tbody tr th:only-of-type {\n",
       "        vertical-align: middle;\n",
       "    }\n",
       "\n",
       "    .dataframe tbody tr th {\n",
       "        vertical-align: top;\n",
       "    }\n",
       "\n",
       "    .dataframe thead th {\n",
       "        text-align: right;\n",
       "    }\n",
       "</style>\n",
       "<table border=\"1\" class=\"dataframe\">\n",
       "  <thead>\n",
       "    <tr style=\"text-align: right;\">\n",
       "      <th></th>\n",
       "      <th>point</th>\n",
       "    </tr>\n",
       "  </thead>\n",
       "  <tbody>\n",
       "    <tr>\n",
       "      <th>0</th>\n",
       "      <td>POINT(0 0)</td>\n",
       "    </tr>\n",
       "  </tbody>\n",
       "</table>\n",
       "</div>"
      ],
      "text/plain": [
       "        point\n",
       "0  POINT(0 0)"
      ]
     },
     "execution_count": 19,
     "metadata": {},
     "output_type": "execute_result"
    }
   ],
   "source": [
    "# If we want to use our shapely object, we use:\n",
    "pd.read_sql('''\n",
    "SELECT ST_AsText(GeomFromText(?)) as point\n",
    "''', conn, params = [p1.wkt])"
   ]
  },
  {
   "cell_type": "code",
   "execution_count": 20,
   "metadata": {
    "ExecuteTime": {
     "end_time": "2021-10-09T15:32:17.484172Z",
     "start_time": "2021-10-09T15:32:17.475994Z"
    }
   },
   "outputs": [
    {
     "data": {
      "text/html": [
       "<div>\n",
       "<style scoped>\n",
       "    .dataframe tbody tr th:only-of-type {\n",
       "        vertical-align: middle;\n",
       "    }\n",
       "\n",
       "    .dataframe tbody tr th {\n",
       "        vertical-align: top;\n",
       "    }\n",
       "\n",
       "    .dataframe thead th {\n",
       "        text-align: right;\n",
       "    }\n",
       "</style>\n",
       "<table border=\"1\" class=\"dataframe\">\n",
       "  <thead>\n",
       "    <tr style=\"text-align: right;\">\n",
       "      <th></th>\n",
       "      <th>point</th>\n",
       "    </tr>\n",
       "  </thead>\n",
       "  <tbody>\n",
       "    <tr>\n",
       "      <th>0</th>\n",
       "      <td>POINT(0 0)</td>\n",
       "    </tr>\n",
       "  </tbody>\n",
       "</table>\n",
       "</div>"
      ],
      "text/plain": [
       "        point\n",
       "0  POINT(0 0)"
      ]
     },
     "execution_count": 20,
     "metadata": {},
     "output_type": "execute_result"
    }
   ],
   "source": [
    "# We lose info on the SRID, we use SetSRID to add SR information\n",
    "pd.read_sql('''\n",
    "SELECT ST_AsText(SetSRID(GeomFromText(?),4326)) as point\n",
    "''', conn, params = [p1.wkt])"
   ]
  },
  {
   "cell_type": "code",
   "execution_count": 21,
   "metadata": {
    "ExecuteTime": {
     "end_time": "2021-10-09T15:32:17.493427Z",
     "start_time": "2021-10-09T15:32:17.485853Z"
    }
   },
   "outputs": [
    {
     "data": {
      "text/html": [
       "<div>\n",
       "<style scoped>\n",
       "    .dataframe tbody tr th:only-of-type {\n",
       "        vertical-align: middle;\n",
       "    }\n",
       "\n",
       "    .dataframe tbody tr th {\n",
       "        vertical-align: top;\n",
       "    }\n",
       "\n",
       "    .dataframe thead th {\n",
       "        text-align: right;\n",
       "    }\n",
       "</style>\n",
       "<table border=\"1\" class=\"dataframe\">\n",
       "  <thead>\n",
       "    <tr style=\"text-align: right;\">\n",
       "      <th></th>\n",
       "      <th>line</th>\n",
       "    </tr>\n",
       "  </thead>\n",
       "  <tbody>\n",
       "    <tr>\n",
       "      <th>0</th>\n",
       "      <td>LINESTRING(1 0, 2 0)</td>\n",
       "    </tr>\n",
       "  </tbody>\n",
       "</table>\n",
       "</div>"
      ],
      "text/plain": [
       "                   line\n",
       "0  LINESTRING(1 0, 2 0)"
      ]
     },
     "execution_count": 21,
     "metadata": {},
     "output_type": "execute_result"
    }
   ],
   "source": [
    "# Creating Lines\n",
    "pd.read_sql('''\n",
    "SELECT ST_AsText(MakeLine(MakePoint(1,0),MakePoint(2,0))) as line\n",
    "''', conn)"
   ]
  },
  {
   "cell_type": "code",
   "execution_count": 22,
   "metadata": {
    "ExecuteTime": {
     "end_time": "2021-10-09T15:32:17.503454Z",
     "start_time": "2021-10-09T15:32:17.495399Z"
    }
   },
   "outputs": [
    {
     "data": {
      "text/html": [
       "<div>\n",
       "<style scoped>\n",
       "    .dataframe tbody tr th:only-of-type {\n",
       "        vertical-align: middle;\n",
       "    }\n",
       "\n",
       "    .dataframe tbody tr th {\n",
       "        vertical-align: top;\n",
       "    }\n",
       "\n",
       "    .dataframe thead th {\n",
       "        text-align: right;\n",
       "    }\n",
       "</style>\n",
       "<table border=\"1\" class=\"dataframe\">\n",
       "  <thead>\n",
       "    <tr style=\"text-align: right;\">\n",
       "      <th></th>\n",
       "      <th>line</th>\n",
       "    </tr>\n",
       "  </thead>\n",
       "  <tbody>\n",
       "    <tr>\n",
       "      <th>0</th>\n",
       "      <td>LINESTRING(0 1, 0 2, 3 4)</td>\n",
       "    </tr>\n",
       "  </tbody>\n",
       "</table>\n",
       "</div>"
      ],
      "text/plain": [
       "                        line\n",
       "0  LINESTRING(0 1, 0 2, 3 4)"
      ]
     },
     "execution_count": 22,
     "metadata": {},
     "output_type": "execute_result"
    }
   ],
   "source": [
    "# Use our shapely object to create a line\n",
    "pd.read_sql('''\n",
    "SELECT ST_AsText(SetSRID(GeomFromText(?),4326)) as line\n",
    "''', conn, params = [l1.wkt])"
   ]
  },
  {
   "cell_type": "markdown",
   "metadata": {
    "ExecuteTime": {
     "end_time": "2020-01-28T22:27:18.983297Z",
     "start_time": "2020-01-28T22:27:18.978652Z"
    }
   },
   "source": [
    "#### Exercise: Create a Polygon going from (0,0) to (0,1) to (1,0) and back to (0,0)\n"
   ]
  },
  {
   "cell_type": "code",
   "execution_count": 23,
   "metadata": {
    "ExecuteTime": {
     "end_time": "2021-10-09T15:32:17.508951Z",
     "start_time": "2021-10-09T15:32:17.505117Z"
    }
   },
   "outputs": [],
   "source": [
    "# Your Code\n",
    "poly = Polygon([[0, 0], [0, 1], [1, 0], [1,1]])"
   ]
  },
  {
   "cell_type": "code",
   "execution_count": 24,
   "metadata": {
    "ExecuteTime": {
     "end_time": "2021-10-09T15:32:17.516451Z",
     "start_time": "2021-10-09T15:32:17.511514Z"
    }
   },
   "outputs": [
    {
     "data": {
      "image/svg+xml": [
       "<svg xmlns=\"http://www.w3.org/2000/svg\" xmlns:xlink=\"http://www.w3.org/1999/xlink\" width=\"100.0\" height=\"100.0\" viewBox=\"-0.04 -0.04 1.08 1.08\" preserveAspectRatio=\"xMinYMin meet\"><g transform=\"matrix(1,0,0,-1,0,1.0)\"><path fill-rule=\"evenodd\" fill=\"#ff3333\" stroke=\"#555555\" stroke-width=\"0.0216\" opacity=\"0.6\" d=\"M 0.0,0.0 L 0.0,1.0 L 1.0,0.0 L 1.0,1.0 L 0.0,0.0 z\" /></g></svg>"
      ],
      "text/plain": [
       "<shapely.geometry.polygon.Polygon at 0x7f6c9d0375b0>"
      ]
     },
     "execution_count": 24,
     "metadata": {},
     "output_type": "execute_result"
    }
   ],
   "source": [
    "poly"
   ]
  },
  {
   "cell_type": "code",
   "execution_count": 25,
   "metadata": {
    "ExecuteTime": {
     "end_time": "2021-10-09T15:32:17.527086Z",
     "start_time": "2021-10-09T15:32:17.518337Z"
    }
   },
   "outputs": [
    {
     "data": {
      "text/html": [
       "<div>\n",
       "<style scoped>\n",
       "    .dataframe tbody tr th:only-of-type {\n",
       "        vertical-align: middle;\n",
       "    }\n",
       "\n",
       "    .dataframe tbody tr th {\n",
       "        vertical-align: top;\n",
       "    }\n",
       "\n",
       "    .dataframe thead th {\n",
       "        text-align: right;\n",
       "    }\n",
       "</style>\n",
       "<table border=\"1\" class=\"dataframe\">\n",
       "  <thead>\n",
       "    <tr style=\"text-align: right;\">\n",
       "      <th></th>\n",
       "      <th>poly</th>\n",
       "    </tr>\n",
       "  </thead>\n",
       "  <tbody>\n",
       "    <tr>\n",
       "      <th>0</th>\n",
       "      <td>POLYGON((0 0, 0 1, 1 0, 1 1, 0 0))</td>\n",
       "    </tr>\n",
       "  </tbody>\n",
       "</table>\n",
       "</div>"
      ],
      "text/plain": [
       "                                 poly\n",
       "0  POLYGON((0 0, 0 1, 1 0, 1 1, 0 0))"
      ]
     },
     "execution_count": 25,
     "metadata": {},
     "output_type": "execute_result"
    }
   ],
   "source": [
    "pd.read_sql('''\n",
    "SELECT ST_AsText(SetSRID(GeomFromText(?),4326)) as poly\n",
    "''', conn, params=[poly.wkt])"
   ]
  },
  {
   "cell_type": "markdown",
   "metadata": {},
   "source": [
    "##  4. Measurements"
   ]
  },
  {
   "cell_type": "markdown",
   "metadata": {},
   "source": [
    "### Proximity\n",
    "- ST_Distance\n",
    "- ST_DWithin / PtDistWithin"
   ]
  },
  {
   "cell_type": "code",
   "execution_count": 26,
   "metadata": {
    "ExecuteTime": {
     "end_time": "2021-10-09T15:32:17.651204Z",
     "start_time": "2021-10-09T15:32:17.529059Z"
    }
   },
   "outputs": [
    {
     "data": {
      "text/plain": [
       "[<matplotlib.lines.Line2D at 0x7f6c9d007670>]"
      ]
     },
     "execution_count": 26,
     "metadata": {},
     "output_type": "execute_result"
    },
    {
     "data": {
      "image/png": "[encoded data removed]",
      "text/plain": [
       "<Figure size 432x288 with 1 Axes>"
      ]
     },
     "metadata": {
      "needs_background": "light"
     },
     "output_type": "display_data"
    }
   ],
   "source": [
    "plt.plot(*p1.xy, marker='.')\n",
    "plt.plot(*p2.xy, marker='.')\n",
    "plt.plot(*p3.xy, marker='.')\n",
    "plt.plot(*l1.xy, marker='.')\n",
    "plt.plot(*l2.xy, marker='.')\n",
    "plt.plot(*poly1.exterior.xy, marker='.')"
   ]
  },
  {
   "cell_type": "code",
   "execution_count": 27,
   "metadata": {
    "ExecuteTime": {
     "end_time": "2021-10-09T15:32:17.662348Z",
     "start_time": "2021-10-09T15:32:17.653368Z"
    }
   },
   "outputs": [
    {
     "data": {
      "text/html": [
       "<div>\n",
       "<style scoped>\n",
       "    .dataframe tbody tr th:only-of-type {\n",
       "        vertical-align: middle;\n",
       "    }\n",
       "\n",
       "    .dataframe tbody tr th {\n",
       "        vertical-align: top;\n",
       "    }\n",
       "\n",
       "    .dataframe thead th {\n",
       "        text-align: right;\n",
       "    }\n",
       "</style>\n",
       "<table border=\"1\" class=\"dataframe\">\n",
       "  <thead>\n",
       "    <tr style=\"text-align: right;\">\n",
       "      <th></th>\n",
       "      <th>dist</th>\n",
       "    </tr>\n",
       "  </thead>\n",
       "  <tbody>\n",
       "    <tr>\n",
       "      <th>0</th>\n",
       "      <td>1.0</td>\n",
       "    </tr>\n",
       "  </tbody>\n",
       "</table>\n",
       "</div>"
      ],
      "text/plain": [
       "   dist\n",
       "0   1.0"
      ]
     },
     "execution_count": 27,
     "metadata": {},
     "output_type": "execute_result"
    }
   ],
   "source": [
    "# Use ST_Distance to compute distance between p1 and p2\n",
    "pd.read_sql('''\n",
    "SELECT ST_Distance(ST_GeomFromText(?),ST_GeomFromText(?)) as dist\n",
    "''',conn,params = [p1.wkt,p2.wkt])"
   ]
  },
  {
   "cell_type": "code",
   "execution_count": 28,
   "metadata": {
    "ExecuteTime": {
     "end_time": "2021-10-09T15:32:17.673534Z",
     "start_time": "2021-10-09T15:32:17.664776Z"
    }
   },
   "outputs": [
    {
     "data": {
      "text/html": [
       "<div>\n",
       "<style scoped>\n",
       "    .dataframe tbody tr th:only-of-type {\n",
       "        vertical-align: middle;\n",
       "    }\n",
       "\n",
       "    .dataframe tbody tr th {\n",
       "        vertical-align: top;\n",
       "    }\n",
       "\n",
       "    .dataframe thead th {\n",
       "        text-align: right;\n",
       "    }\n",
       "</style>\n",
       "<table border=\"1\" class=\"dataframe\">\n",
       "  <thead>\n",
       "    <tr style=\"text-align: right;\">\n",
       "      <th></th>\n",
       "      <th>dist</th>\n",
       "    </tr>\n",
       "  </thead>\n",
       "  <tbody>\n",
       "    <tr>\n",
       "      <th>0</th>\n",
       "      <td>1.0</td>\n",
       "    </tr>\n",
       "  </tbody>\n",
       "</table>\n",
       "</div>"
      ],
      "text/plain": [
       "   dist\n",
       "0   1.0"
      ]
     },
     "execution_count": 28,
     "metadata": {},
     "output_type": "execute_result"
    }
   ],
   "source": [
    "# What is the distance between p1 and l1?\n",
    "pd.read_sql('''\n",
    "SELECT ST_Distance(ST_GeomFromText(?),ST_GeomFromText(?)) as dist\n",
    "''',conn,params = [p1.wkt,l1.wkt])"
   ]
  },
  {
   "cell_type": "code",
   "execution_count": 29,
   "metadata": {
    "ExecuteTime": {
     "end_time": "2021-10-09T15:32:17.683282Z",
     "start_time": "2021-10-09T15:32:17.675556Z"
    }
   },
   "outputs": [
    {
     "data": {
      "text/html": [
       "<div>\n",
       "<style scoped>\n",
       "    .dataframe tbody tr th:only-of-type {\n",
       "        vertical-align: middle;\n",
       "    }\n",
       "\n",
       "    .dataframe tbody tr th {\n",
       "        vertical-align: top;\n",
       "    }\n",
       "\n",
       "    .dataframe thead th {\n",
       "        text-align: right;\n",
       "    }\n",
       "</style>\n",
       "<table border=\"1\" class=\"dataframe\">\n",
       "  <thead>\n",
       "    <tr style=\"text-align: right;\">\n",
       "      <th></th>\n",
       "      <th>dist</th>\n",
       "    </tr>\n",
       "  </thead>\n",
       "  <tbody>\n",
       "    <tr>\n",
       "      <th>0</th>\n",
       "      <td>0.27735</td>\n",
       "    </tr>\n",
       "  </tbody>\n",
       "</table>\n",
       "</div>"
      ],
      "text/plain": [
       "      dist\n",
       "0  0.27735"
      ]
     },
     "execution_count": 29,
     "metadata": {},
     "output_type": "execute_result"
    }
   ],
   "source": [
    "# What is the distance between p1 and l1?\n",
    "pd.read_sql('''\n",
    "SELECT ST_Distance(ST_GeomFromText(?),ST_GeomFromText(?)) as dist\n",
    "''',conn,params = [p3.wkt,l1.wkt])"
   ]
  },
  {
   "cell_type": "code",
   "execution_count": 30,
   "metadata": {
    "ExecuteTime": {
     "end_time": "2021-10-09T15:32:17.692757Z",
     "start_time": "2021-10-09T15:32:17.684814Z"
    }
   },
   "outputs": [
    {
     "data": {
      "text/html": [
       "<div>\n",
       "<style scoped>\n",
       "    .dataframe tbody tr th:only-of-type {\n",
       "        vertical-align: middle;\n",
       "    }\n",
       "\n",
       "    .dataframe tbody tr th {\n",
       "        vertical-align: top;\n",
       "    }\n",
       "\n",
       "    .dataframe thead th {\n",
       "        text-align: right;\n",
       "    }\n",
       "</style>\n",
       "<table border=\"1\" class=\"dataframe\">\n",
       "  <thead>\n",
       "    <tr style=\"text-align: right;\">\n",
       "      <th></th>\n",
       "      <th>within</th>\n",
       "    </tr>\n",
       "  </thead>\n",
       "  <tbody>\n",
       "    <tr>\n",
       "      <th>0</th>\n",
       "      <td>0</td>\n",
       "    </tr>\n",
       "  </tbody>\n",
       "</table>\n",
       "</div>"
      ],
      "text/plain": [
       "   within\n",
       "0       0"
      ]
     },
     "execution_count": 30,
     "metadata": {},
     "output_type": "execute_result"
    }
   ],
   "source": [
    "# ST_DWithin / PTDistWithin returns a boolean if two points are within a specified distance from each other\n",
    "pd.read_sql('''\n",
    "SELECT PTDistWithin(ST_GeomFromText(?),ST_GeomFromText(?),0.5) as within\n",
    "''',conn,params = [p1.wkt,p2.wkt])"
   ]
  },
  {
   "cell_type": "code",
   "execution_count": 31,
   "metadata": {
    "ExecuteTime": {
     "end_time": "2021-10-09T15:32:17.698263Z",
     "start_time": "2021-10-09T15:32:17.695282Z"
    }
   },
   "outputs": [],
   "source": [
    "# What is the distance between l1 and l2?\n"
   ]
  },
  {
   "cell_type": "markdown",
   "metadata": {},
   "source": [
    "### Measurements\n",
    " - ST_NPoints\n",
    " - ST_Length / GLength\n",
    " - ST_Area\n",
    " - ST_Perimeter"
   ]
  },
  {
   "cell_type": "code",
   "execution_count": 32,
   "metadata": {
    "ExecuteTime": {
     "end_time": "2021-10-09T15:32:17.707343Z",
     "start_time": "2021-10-09T15:32:17.699832Z"
    }
   },
   "outputs": [
    {
     "data": {
      "text/html": [
       "<div>\n",
       "<style scoped>\n",
       "    .dataframe tbody tr th:only-of-type {\n",
       "        vertical-align: middle;\n",
       "    }\n",
       "\n",
       "    .dataframe tbody tr th {\n",
       "        vertical-align: top;\n",
       "    }\n",
       "\n",
       "    .dataframe thead th {\n",
       "        text-align: right;\n",
       "    }\n",
       "</style>\n",
       "<table border=\"1\" class=\"dataframe\">\n",
       "  <thead>\n",
       "    <tr style=\"text-align: right;\">\n",
       "      <th></th>\n",
       "      <th>points</th>\n",
       "    </tr>\n",
       "  </thead>\n",
       "  <tbody>\n",
       "    <tr>\n",
       "      <th>0</th>\n",
       "      <td>3</td>\n",
       "    </tr>\n",
       "  </tbody>\n",
       "</table>\n",
       "</div>"
      ],
      "text/plain": [
       "   points\n",
       "0       3"
      ]
     },
     "execution_count": 32,
     "metadata": {},
     "output_type": "execute_result"
    }
   ],
   "source": [
    "# How many points are there in l1?\n",
    "pd.read_sql('''\n",
    "SELECT ST_NPoints(ST_GeomFromText(?)) as points\n",
    "''', conn, params = [l1.wkt])"
   ]
  },
  {
   "cell_type": "code",
   "execution_count": 33,
   "metadata": {
    "ExecuteTime": {
     "end_time": "2021-10-09T15:32:17.716910Z",
     "start_time": "2021-10-09T15:32:17.709464Z"
    }
   },
   "outputs": [
    {
     "data": {
      "text/html": [
       "<div>\n",
       "<style scoped>\n",
       "    .dataframe tbody tr th:only-of-type {\n",
       "        vertical-align: middle;\n",
       "    }\n",
       "\n",
       "    .dataframe tbody tr th {\n",
       "        vertical-align: top;\n",
       "    }\n",
       "\n",
       "    .dataframe thead th {\n",
       "        text-align: right;\n",
       "    }\n",
       "</style>\n",
       "<table border=\"1\" class=\"dataframe\">\n",
       "  <thead>\n",
       "    <tr style=\"text-align: right;\">\n",
       "      <th></th>\n",
       "      <th>points</th>\n",
       "    </tr>\n",
       "  </thead>\n",
       "  <tbody>\n",
       "    <tr>\n",
       "      <th>0</th>\n",
       "      <td>3.828427</td>\n",
       "    </tr>\n",
       "  </tbody>\n",
       "</table>\n",
       "</div>"
      ],
      "text/plain": [
       "     points\n",
       "0  3.828427"
      ]
     },
     "execution_count": 33,
     "metadata": {},
     "output_type": "execute_result"
    }
   ],
   "source": [
    "# What is the total length of l2?\n",
    "pd.read_sql('''\n",
    "SELECT ST_Length(ST_GeomFromText(?)) as points\n",
    "''', conn, params = [l2.wkt])"
   ]
  },
  {
   "cell_type": "code",
   "execution_count": 34,
   "metadata": {
    "ExecuteTime": {
     "end_time": "2021-10-09T15:32:17.727098Z",
     "start_time": "2021-10-09T15:32:17.719112Z"
    }
   },
   "outputs": [
    {
     "data": {
      "text/html": [
       "<div>\n",
       "<style scoped>\n",
       "    .dataframe tbody tr th:only-of-type {\n",
       "        vertical-align: middle;\n",
       "    }\n",
       "\n",
       "    .dataframe tbody tr th {\n",
       "        vertical-align: top;\n",
       "    }\n",
       "\n",
       "    .dataframe thead th {\n",
       "        text-align: right;\n",
       "    }\n",
       "</style>\n",
       "<table border=\"1\" class=\"dataframe\">\n",
       "  <thead>\n",
       "    <tr style=\"text-align: right;\">\n",
       "      <th></th>\n",
       "      <th>points</th>\n",
       "    </tr>\n",
       "  </thead>\n",
       "  <tbody>\n",
       "    <tr>\n",
       "      <th>0</th>\n",
       "      <td>2.0</td>\n",
       "    </tr>\n",
       "  </tbody>\n",
       "</table>\n",
       "</div>"
      ],
      "text/plain": [
       "   points\n",
       "0     2.0"
      ]
     },
     "execution_count": 34,
     "metadata": {},
     "output_type": "execute_result"
    }
   ],
   "source": [
    "# What is the area of poly1?\n",
    "pd.read_sql('''\n",
    "SELECT ST_Area(ST_GeomFromText(?)) as points\n",
    "''', conn, params = [poly1.wkt])"
   ]
  },
  {
   "cell_type": "code",
   "execution_count": 35,
   "metadata": {
    "ExecuteTime": {
     "end_time": "2021-10-09T15:32:17.742380Z",
     "start_time": "2021-10-09T15:32:17.729643Z"
    }
   },
   "outputs": [
    {
     "data": {
      "text/html": [
       "<div>\n",
       "<style scoped>\n",
       "    .dataframe tbody tr th:only-of-type {\n",
       "        vertical-align: middle;\n",
       "    }\n",
       "\n",
       "    .dataframe tbody tr th {\n",
       "        vertical-align: top;\n",
       "    }\n",
       "\n",
       "    .dataframe thead th {\n",
       "        text-align: right;\n",
       "    }\n",
       "</style>\n",
       "<table border=\"1\" class=\"dataframe\">\n",
       "  <thead>\n",
       "    <tr style=\"text-align: right;\">\n",
       "      <th></th>\n",
       "      <th>points</th>\n",
       "    </tr>\n",
       "  </thead>\n",
       "  <tbody>\n",
       "    <tr>\n",
       "      <th>0</th>\n",
       "      <td>10.513233</td>\n",
       "    </tr>\n",
       "  </tbody>\n",
       "</table>\n",
       "</div>"
      ],
      "text/plain": [
       "      points\n",
       "0  10.513233"
      ]
     },
     "execution_count": 35,
     "metadata": {},
     "output_type": "execute_result"
    }
   ],
   "source": [
    "# What is the perimeter of poly1?\n",
    "pd.read_sql('''\n",
    "SELECT ST_Perimeter(ST_GeomFromText(?)) as points\n",
    "''', conn, params = [poly1.wkt])"
   ]
  },
  {
   "cell_type": "markdown",
   "metadata": {},
   "source": [
    "## 5. Spatial Relationship\n",
    " - ST_IsSimple"
   ]
  },
  {
   "cell_type": "code",
   "execution_count": 36,
   "metadata": {
    "ExecuteTime": {
     "end_time": "2021-10-09T15:32:17.749562Z",
     "start_time": "2021-10-09T15:32:17.745205Z"
    }
   },
   "outputs": [],
   "source": [
    "# What is ST_IsSimple? (use l1 then l2 to check)\n"
   ]
  },
  {
   "cell_type": "markdown",
   "metadata": {},
   "source": [
    "#### Add more polygons"
   ]
  },
  {
   "cell_type": "code",
   "execution_count": 37,
   "metadata": {
    "ExecuteTime": {
     "end_time": "2021-10-09T15:32:17.762440Z",
     "start_time": "2021-10-09T15:32:17.754549Z"
    }
   },
   "outputs": [],
   "source": [
    "poly2 = Polygon([[1, 1], [1, 4], [4, 4], [4, 1]])\n",
    "poly3 = Polygon([[2, 2], [2, 3], [4.75, 3], [4.75, 2]])\n",
    "poly4 = Polygon([[-1, 2], [-1, 3], [4.75, 3], [4.75, 2]])\n",
    "poly5 = Polygon([[1.5, 1.5], [1.5, 2.5], [2.5, 2.5], [2.5, 1.5]])"
   ]
  },
  {
   "cell_type": "code",
   "execution_count": 38,
   "metadata": {
    "ExecuteTime": {
     "end_time": "2021-10-09T15:32:17.894540Z",
     "start_time": "2021-10-09T15:32:17.765410Z"
    }
   },
   "outputs": [
    {
     "data": {
      "text/plain": [
       "[<matplotlib.lines.Line2D at 0x7f6c9cf96fd0>]"
      ]
     },
     "execution_count": 38,
     "metadata": {},
     "output_type": "execute_result"
    },
    {
     "data": {
      "image/png": "[encoded data removed]",
      "text/plain": [
       "<Figure size 432x288 with 1 Axes>"
      ]
     },
     "metadata": {
      "needs_background": "light"
     },
     "output_type": "display_data"
    }
   ],
   "source": [
    "plt.plot(*poly1.exterior.xy)\n",
    "plt.plot(*poly2.exterior.xy)\n",
    "plt.plot(*poly3.exterior.xy)\n",
    "plt.plot(*poly4.exterior.xy)\n",
    "plt.plot(*poly5.exterior.xy)"
   ]
  },
  {
   "cell_type": "markdown",
   "metadata": {
    "ExecuteTime": {
     "end_time": "2020-01-28T23:09:04.719686Z",
     "start_time": "2020-01-28T23:09:04.707308Z"
    }
   },
   "source": [
    "#### Exercise: Use the five polygons to determine the functionalites of the following functions:\n",
    "- ST_Disjoint\n",
    "- ST_Intersects\n",
    "- ST_Overlaps\n",
    "- ST_Within / ST_Contains"
   ]
  },
  {
   "cell_type": "code",
   "execution_count": 39,
   "metadata": {
    "ExecuteTime": {
     "end_time": "2021-10-09T15:32:18.002475Z",
     "start_time": "2021-10-09T15:32:17.896453Z"
    }
   },
   "outputs": [
    {
     "data": {
      "text/plain": [
       "[<matplotlib.lines.Line2D at 0x7f6c9cf0f070>]"
      ]
     },
     "execution_count": 39,
     "metadata": {},
     "output_type": "execute_result"
    },
    {
     "data": {
      "image/png": "[encoded data removed]",
      "text/plain": [
       "<Figure size 432x288 with 1 Axes>"
      ]
     },
     "metadata": {
      "needs_background": "light"
     },
     "output_type": "display_data"
    }
   ],
   "source": [
    "plt.plot(*poly1.exterior.xy)\n",
    "plt.plot(*poly3.exterior.xy)"
   ]
  },
  {
   "cell_type": "code",
   "execution_count": 40,
   "metadata": {
    "ExecuteTime": {
     "end_time": "2021-10-09T15:32:18.016111Z",
     "start_time": "2021-10-09T15:32:18.005334Z"
    }
   },
   "outputs": [
    {
     "data": {
      "image/svg+xml": [
       "<svg xmlns=\"http://www.w3.org/2000/svg\" xmlns:xlink=\"http://www.w3.org/1999/xlink\" width=\"100.0\" height=\"100.0\" viewBox=\"1.8 -0.2 3.4000000000000004 5.4\" preserveAspectRatio=\"xMinYMin meet\"><g transform=\"matrix(1,0,0,-1,0,5.0)\"><g><path fill-rule=\"evenodd\" fill=\"#66cc99\" stroke=\"#555555\" stroke-width=\"0.10800000000000001\" opacity=\"0.6\" d=\"M 5.0,5.0 L 5.0,1.0 L 4.0,0.0 L 4.4,2.0 L 4.75,2.0 L 4.75,3.0 L 4.6,3.0 L 5.0,5.0 z\" /><path fill-rule=\"evenodd\" fill=\"#66cc99\" stroke=\"#555555\" stroke-width=\"0.10800000000000001\" opacity=\"0.6\" d=\"M 4.4,2.0 L 2.0,2.0 L 2.0,3.0 L 4.6,3.0 L 4.4,2.0 z\" /></g></g></svg>"
      ],
      "text/plain": [
       "<shapely.geometry.multipolygon.MultiPolygon at 0x7f6c9ceae610>"
      ]
     },
     "execution_count": 40,
     "metadata": {},
     "output_type": "execute_result"
    }
   ],
   "source": [
    "# Your Code Here\n",
    "df = pd.read_sql('''\n",
    "SELECT ST_AsText(ST_SymDifference(ST_GeomFromText(?), ST_GeomFromText(?)))as poly\n",
    "''', conn, params=[poly1.wkt, poly3.wkt])\n",
    "loads(df.poly[0])"
   ]
  },
  {
   "cell_type": "code",
   "execution_count": 41,
   "metadata": {
    "ExecuteTime": {
     "end_time": "2021-10-09T15:32:18.024341Z",
     "start_time": "2021-10-09T15:32:18.018969Z"
    }
   },
   "outputs": [],
   "source": [
    "l1 = LineString([[0, 0], [0, 1]])\n",
    "l2 = LineString(((0, 1), (0, 0)))"
   ]
  },
  {
   "cell_type": "code",
   "execution_count": 42,
   "metadata": {
    "ExecuteTime": {
     "end_time": "2021-10-09T15:32:18.043107Z",
     "start_time": "2021-10-09T15:32:18.031692Z"
    }
   },
   "outputs": [
    {
     "data": {
      "text/html": [
       "<div>\n",
       "<style scoped>\n",
       "    .dataframe tbody tr th:only-of-type {\n",
       "        vertical-align: middle;\n",
       "    }\n",
       "\n",
       "    .dataframe tbody tr th {\n",
       "        vertical-align: top;\n",
       "    }\n",
       "\n",
       "    .dataframe thead th {\n",
       "        text-align: right;\n",
       "    }\n",
       "</style>\n",
       "<table border=\"1\" class=\"dataframe\">\n",
       "  <thead>\n",
       "    <tr style=\"text-align: right;\">\n",
       "      <th></th>\n",
       "      <th>dist</th>\n",
       "    </tr>\n",
       "  </thead>\n",
       "  <tbody>\n",
       "    <tr>\n",
       "      <th>0</th>\n",
       "      <td>1</td>\n",
       "    </tr>\n",
       "  </tbody>\n",
       "</table>\n",
       "</div>"
      ],
      "text/plain": [
       "   dist\n",
       "0     1"
      ]
     },
     "execution_count": 42,
     "metadata": {},
     "output_type": "execute_result"
    }
   ],
   "source": [
    "pd.read_sql('''\n",
    "SELECT ST_Equals(ST_GeomFromText(?), ST_GeomFromText(?)) as dist\n",
    "''', conn, params=[l1.wkt, l2.wkt])"
   ]
  },
  {
   "cell_type": "markdown",
   "metadata": {
    "ExecuteTime": {
     "end_time": "2020-01-28T23:14:52.894477Z",
     "start_time": "2020-01-28T23:14:52.889046Z"
    }
   },
   "source": [
    "#### Other Functions\n",
    "- ST_Equals\n",
    "- ST_Touches"
   ]
  },
  {
   "cell_type": "markdown",
   "metadata": {},
   "source": [
    "## 6. Spatial Operators\n",
    "- ST_Union\n",
    "- ST_Intersection\n",
    "- ST_Difference\n",
    "- ST_SymDifference\n",
    "- ST_Buffer"
   ]
  },
  {
   "cell_type": "code",
   "execution_count": 43,
   "metadata": {
    "ExecuteTime": {
     "end_time": "2021-10-09T15:32:18.060926Z",
     "start_time": "2021-10-09T15:32:18.045864Z"
    }
   },
   "outputs": [
    {
     "data": {
      "text/html": [
       "<div>\n",
       "<style scoped>\n",
       "    .dataframe tbody tr th:only-of-type {\n",
       "        vertical-align: middle;\n",
       "    }\n",
       "\n",
       "    .dataframe tbody tr th {\n",
       "        vertical-align: top;\n",
       "    }\n",
       "\n",
       "    .dataframe thead th {\n",
       "        text-align: right;\n",
       "    }\n",
       "</style>\n",
       "<table border=\"1\" class=\"dataframe\">\n",
       "  <thead>\n",
       "    <tr style=\"text-align: right;\">\n",
       "      <th></th>\n",
       "      <th>dist</th>\n",
       "    </tr>\n",
       "  </thead>\n",
       "  <tbody>\n",
       "    <tr>\n",
       "      <th>0</th>\n",
       "      <td>b'\\x00\\x01\\x00\\x00\\x00\\x00\\x00\\x00\\x00\\x00\\x00...</td>\n",
       "    </tr>\n",
       "  </tbody>\n",
       "</table>\n",
       "</div>"
      ],
      "text/plain": [
       "                                                dist\n",
       "0  b'\\x00\\x01\\x00\\x00\\x00\\x00\\x00\\x00\\x00\\x00\\x00..."
      ]
     },
     "execution_count": 43,
     "metadata": {},
     "output_type": "execute_result"
    }
   ],
   "source": [
    "# Code Here\n",
    "# Your Code Here\n",
    "pd.read_sql('''\n",
    "SELECT ST_Union(ST_GeomFromText(?), ST_GeomFromText(?)) as dist\n",
    "''', conn, params=[poly1.wkt, poly3.wkt])"
   ]
  },
  {
   "cell_type": "markdown",
   "metadata": {},
   "source": [
    "## Exercise"
   ]
  },
  {
   "cell_type": "markdown",
   "metadata": {},
   "source": [
    "Using shapely and the functions that we discussed, create a map of the Gamboa-Salcedo-Benavidez-Paseo block with all the possible objects that you can include. Answer the following questions:\n",
    "1. What is the perimeter of the entire block?\n",
    "2. What is the total length of the streets within the block? (include the boundary streets)\n",
    "3. What is the area of the perimeter block?\n",
    "4. What is the distance of Herco Center from the Mosaic Tower?\n",
    "\n",
    "\n",
    "![logo](aim_map.PNG)"
   ]
  },
  {
   "cell_type": "code",
   "execution_count": 44,
   "metadata": {
    "ExecuteTime": {
     "end_time": "2021-10-09T15:32:18.067918Z",
     "start_time": "2021-10-09T15:32:18.063765Z"
    }
   },
   "outputs": [],
   "source": [
    "# #Your Code here\n",
    "\n",
    "# # Create Point Objects\n",
    "# p1 = Point(0, 0)\n",
    "# p2 = Point(1, 0)\n",
    "# p3 = Point(2, 3)\n",
    "# # Create Line Objects\n",
    "# l1 = LineString([[0, 1], [0, 2], [3, 4]])\n",
    "# l2 = LineString(((2, 0), (3, 1), (2, 1), (3, 0)))\n",
    "# # Create Polygons\n",
    "# poly1 = Polygon([[4, 0], [5, 1], [5, 5]])\n",
    "\n",
    "# plt.plot(*p1.xy, marker='.')\n",
    "# plt.plot(*p2.xy, marker='.')\n",
    "# plt.plot(*p3.xy, marker='.')\n",
    "# plt.plot(*l1.xy, marker='.')\n",
    "# plt.plot(*l2.xy, marker='.')\n",
    "# plt.plot(*poly1.exterior.xy, marker='.')"
   ]
  },
  {
   "cell_type": "code",
   "execution_count": 148,
   "metadata": {
    "ExecuteTime": {
     "end_time": "2021-10-09T19:38:15.295443Z",
     "start_time": "2021-10-09T19:38:15.124675Z"
    }
   },
   "outputs": [
    {
     "data": {
      "image/png": "[encoded data removed]",
      "text/plain": [
       "<Figure size 1080x504 with 1 Axes>"
      ]
     },
     "metadata": {
      "needs_background": "light"
     },
     "output_type": "display_data"
    }
   ],
   "source": [
    "GT = LineString([[53,-37], [742, -196]])\n",
    "TS = LineString([[742, -196], [725, -312]])\n",
    "S = LineString([[725,-312], [68, -179]])\n",
    "SaS = LineString([[68,-179], [53, -37]])\n",
    "\n",
    "TA = LineString([[725,-312], [711, -433]])\n",
    "A = LineString([[90,-333], [711, -433]])\n",
    "SaA = LineString([[53, -37], [88, -335]])\n",
    "\n",
    "TJ = LineString([[711, -433], [703, -552]])\n",
    "J = LineString([[703, -552], [108, -475]])\n",
    "SaJ = LineString([[90,-333], [108, -475]])\n",
    "\n",
    "TB = LineString([[703, -552], [693, -672]])\n",
    "B = LineString([[693, -672], [135, -608]])\n",
    "SaB = LineString([[108, -475], [135, -608]])\n",
    "\n",
    "\n",
    "GP = LineString([[742, -196], [981, -259]])\n",
    "P = LineString([[981, -259], [942, -696]])\n",
    "BP = LineString([[693, -672], [942, -696]])\n",
    "x = LineString([[703, -552], [693, -672]])\n",
    "\n",
    "\n",
    "herco = Point(323, -580)\n",
    "mosaic = Point(662, -373)\n",
    "\n",
    "\n",
    "plt.plot(*GT.xy, marker='.')\n",
    "plt.plot(*TS.xy, marker='.')\n",
    "plt.plot(*S.xy, marker='.')\n",
    "plt.plot(*SaS.xy, marker='.')\n",
    "\n",
    "plt.plot(*TA.xy, marker='.')\n",
    "plt.plot(*A.xy, marker='.')\n",
    "plt.plot(*SaA.xy, marker='.')\n",
    "\n",
    "plt.plot(*TJ.xy, marker='.')\n",
    "plt.plot(*J.xy, marker='.')\n",
    "plt.plot(*SaJ.xy, marker='.')\n",
    "plt.plot(*TB.xy, marker='.')\n",
    "plt.plot(*B.xy, marker='.')\n",
    "plt.plot(*SaB.xy, marker='.')\n",
    "\n",
    "\n",
    "plt.plot(*GP.xy, marker='.')\n",
    "plt.plot(*P.xy, marker='.')\n",
    "plt.plot(*BP.xy, marker='.')\n",
    "\n",
    "plt.plot(*herco.xy, marker='$HC$', markersize=15)\n",
    "plt.plot(*mosaic.xy, marker='$MT$', markersize=15)\n",
    "plt.show()\n",
    "# plt.plot(*SaB.xy, marker='.')"
   ]
  },
  {
   "cell_type": "markdown",
   "metadata": {},
   "source": [
    "## Q1"
   ]
  },
  {
   "cell_type": "code",
   "execution_count": 98,
   "metadata": {
    "ExecuteTime": {
     "end_time": "2021-10-09T16:09:57.465304Z",
     "start_time": "2021-10-09T16:09:57.446495Z"
    }
   },
   "outputs": [
    {
     "name": "stdout",
     "output_type": "stream",
     "text": [
      "Perimeter of Entire Block : 2926.508759591212\n"
     ]
    }
   ],
   "source": [
    "# What is the perimeter of the entire block?\n",
    "entire_block = pd.read_sql('''\n",
    "SELECT \n",
    "    ST_Length(ST_GeomFromText(?)) as GT,\n",
    "    ST_Length(ST_GeomFromText(?)) as GP,\n",
    "    ST_Length(ST_GeomFromText(?)) as P,\n",
    "    ST_Length(ST_GeomFromText(?)) as BP,\n",
    "    ST_Length(ST_GeomFromText(?)) as B,\n",
    "    ST_Length(ST_GeomFromText(?)) as SaB,\n",
    "    ST_Length(ST_GeomFromText(?)) as SaJ,\n",
    "    ST_Length(ST_GeomFromText(?)) as SaA,\n",
    "    ST_Length(ST_GeomFromText(?)) as SaS\n",
    "''', conn, params = [GT.wkt, GP.wkt, P.wkt, BP.wkt, B.wkt, SaB.wkt, SaJ.wkt, SaA.wkt, SaS.wkt]).T\n",
    "entire_block.columns=['Points']\n",
    "print('Perimeter of Entire Block :',entire_block.sum().values[0])"
   ]
  },
  {
   "cell_type": "markdown",
   "metadata": {},
   "source": [
    "## Q2"
   ]
  },
  {
   "cell_type": "code",
   "execution_count": 125,
   "metadata": {
    "ExecuteTime": {
     "end_time": "2021-10-09T18:57:45.136062Z",
     "start_time": "2021-10-09T18:57:45.090344Z"
    }
   },
   "outputs": [
    {
     "name": "stdout",
     "output_type": "stream",
     "text": [
      "Length of Soria:  670.3267859783018\n",
      "Length of Aguirre:  629.0\n",
      "Length of Jimenez:  599.9616654420514\n",
      "Length of Trasierra:  478.7308469367739\n",
      "\n",
      "Boundary\n",
      "---------\n",
      "Length of Gamboa:  954.2721086222891\n",
      "Length of Paseo De Roxas:  438.73682316395553\n",
      "Length of Benavidez:  811.8122116836262\n",
      "Length of Salcedo:  721.6876161213409\n"
     ]
    }
   ],
   "source": [
    "# What is the total length of the streets within the block? (include the boundary streets)\n",
    "\n",
    "def Length_of(street, name, print_=True):\n",
    "    street = pd.read_sql(f'''\n",
    "    SELECT \n",
    "        ST_Length(ST_GeomFromText(?)) as street\n",
    "    ''', conn, params = [street.wkt]).T\n",
    "    street.columns=['Points']\n",
    "    if print_:\n",
    "        print(f'Length of {name}: ', street.values[0][0])\n",
    "    return street.values[0][0]\n",
    "\n",
    "\n",
    "Length_of(S,'Soria')\n",
    "Length_of(A,'Aguirre')\n",
    "Length_of(J,'Jimenez')\n",
    "print('Length of Trasierra: ', Length_of(TS,'', False) + Length_of(TA,'', False)+ Length_of(TJ,'', False)+ Length_of(TB,'', False));\n",
    "\n",
    "print('\\nBoundary\\n---------')\n",
    "print('Length of Gamboa: ', Length_of(GT,'', False) + Length_of(GP,'', False))\n",
    "Length_of(P,'Paseo De Roxas')\n",
    "print('Length of Benavidez: ', Length_of(B,'', False) + Length_of(BP,'', False))\n",
    "print('Length of Salcedo: ', Length_of(SaS,'', False) + Length_of(SaA,'', False) + Length_of(SaJ,'', False) + Length_of(SaB,'', False));"
   ]
  },
  {
   "cell_type": "code",
   "execution_count": 150,
   "metadata": {
    "ExecuteTime": {
     "end_time": "2021-10-10T08:55:15.960436Z",
     "start_time": "2021-10-10T08:55:15.923336Z"
    }
   },
   "outputs": [
    {
     "name": "stdout",
     "output_type": "stream",
     "text": [
      "Length of Soria:  670.3267859783018\n",
      "Length of Aguirre:  629.0\n",
      "Length of Jimenez:  599.9616654420514\n",
      "Length of Paseo De Roxas:  438.73682316395553\n",
      "Total Lenght of streets:  5304.52805794834\n"
     ]
    }
   ],
   "source": [
    "total = sum([Length_of(S,'Soria'), Length_of(A,'Aguirre'),\n",
    "            Length_of(J,'Jimenez'), Length_of(TS,'', False) ,\n",
    "            Length_of(TA,'', False), Length_of(TJ,'', False),\n",
    "            Length_of(TB,'', False), Length_of(GT,'', False),\n",
    "            Length_of(GP,'', False), Length_of(P,'Paseo De Roxas'),\n",
    "            Length_of(B,'', False), Length_of(BP,'', False), \n",
    "            Length_of(SaS,'', False), Length_of(SaA,'', False), \n",
    "            Length_of(SaJ,'', False), Length_of(SaB,'', False)])\n",
    "print('Total Lenght of streets: ', total)"
   ]
  },
  {
   "cell_type": "markdown",
   "metadata": {},
   "source": [
    "## Q3"
   ]
  },
  {
   "cell_type": "code",
   "execution_count": 128,
   "metadata": {
    "ExecuteTime": {
     "end_time": "2021-10-09T19:27:23.217575Z",
     "start_time": "2021-10-09T19:27:23.084982Z"
    },
    "tags": []
   },
   "outputs": [
    {
     "data": {
      "text/html": [
       "<div>\n",
       "<style scoped>\n",
       "    .dataframe tbody tr th:only-of-type {\n",
       "        vertical-align: middle;\n",
       "    }\n",
       "\n",
       "    .dataframe tbody tr th {\n",
       "        vertical-align: top;\n",
       "    }\n",
       "\n",
       "    .dataframe thead th {\n",
       "        text-align: right;\n",
       "    }\n",
       "</style>\n",
       "<table border=\"1\" class=\"dataframe\">\n",
       "  <thead>\n",
       "    <tr style=\"text-align: right;\">\n",
       "      <th></th>\n",
       "      <th>points</th>\n",
       "    </tr>\n",
       "  </thead>\n",
       "  <tbody>\n",
       "    <tr>\n",
       "      <th>0</th>\n",
       "      <td>433887.5</td>\n",
       "    </tr>\n",
       "  </tbody>\n",
       "</table>\n",
       "</div>"
      ],
      "text/plain": [
       "     points\n",
       "0  433887.5"
      ]
     },
     "execution_count": 128,
     "metadata": {},
     "output_type": "execute_result"
    },
    {
     "data": {
      "image/png": "[encoded data removed]",
      "text/plain": [
       "<Figure size 432x288 with 1 Axes>"
      ]
     },
     "metadata": {
      "needs_background": "light"
     },
     "output_type": "display_data"
    }
   ],
   "source": [
    "block = Polygon([[135, -608], [942, -696], [981, -259], [53,-37], [135, -608]])\n",
    "plt.plot(*block.exterior.xy, marker='.')\n",
    "\n",
    "pd.read_sql('''\n",
    "SELECT ST_Area(ST_GeomFromText(?)) as points\n",
    "''', conn, params = [block.wkt])"
   ]
  },
  {
   "cell_type": "markdown",
   "metadata": {},
   "source": [
    "## Q4"
   ]
  },
  {
   "cell_type": "code",
   "execution_count": 147,
   "metadata": {
    "ExecuteTime": {
     "end_time": "2021-10-09T19:36:43.275213Z",
     "start_time": "2021-10-09T19:36:43.259429Z"
    }
   },
   "outputs": [
    {
     "data": {
      "text/html": [
       "<div>\n",
       "<style scoped>\n",
       "    .dataframe tbody tr th:only-of-type {\n",
       "        vertical-align: middle;\n",
       "    }\n",
       "\n",
       "    .dataframe tbody tr th {\n",
       "        vertical-align: top;\n",
       "    }\n",
       "\n",
       "    .dataframe thead th {\n",
       "        text-align: right;\n",
       "    }\n",
       "</style>\n",
       "<table border=\"1\" class=\"dataframe\">\n",
       "  <thead>\n",
       "    <tr style=\"text-align: right;\">\n",
       "      <th></th>\n",
       "      <th>dist_between_Herco_Center_and_Mosaic_Tower</th>\n",
       "    </tr>\n",
       "  </thead>\n",
       "  <tbody>\n",
       "    <tr>\n",
       "      <th>0</th>\n",
       "      <td>397.202719</td>\n",
       "    </tr>\n",
       "  </tbody>\n",
       "</table>\n",
       "</div>"
      ],
      "text/plain": [
       "   dist_between_Herco_Center_and_Mosaic_Tower\n",
       "0                                  397.202719"
      ]
     },
     "execution_count": 147,
     "metadata": {},
     "output_type": "execute_result"
    }
   ],
   "source": [
    "pd.read_sql('''\n",
    "SELECT ST_Distance(ST_GeomFromText(?),ST_GeomFromText(?)) as dist_between_Herco_Center_and_Mosaic_Tower\n",
    "''',conn,params = [herco.wkt,mosaic.wkt])"
   ]
  },
  {
   "cell_type": "code",
   "execution_count": null,
   "metadata": {},
   "outputs": [],
   "source": []
  }
 ],
 "metadata": {
  "kernelspec": {
   "display_name": "Python 3 (ipykernel)",
   "language": "python",
   "name": "python3"
  },
  "language_info": {
   "codemirror_mode": {
    "name": "ipython",
    "version": 3
   },
   "file_extension": ".py",
   "mimetype": "text/x-python",
   "name": "python",
   "nbconvert_exporter": "python",
   "pygments_lexer": "ipython3",
   "version": "3.8.11"
  },
  "toc": {
   "base_numbering": 1,
   "nav_menu": {},
   "number_sections": true,
   "sideBar": true,
   "skip_h1_title": false,
   "title_cell": "Table of Contents",
   "title_sidebar": "Contents",
   "toc_cell": false,
   "toc_position": {},
   "toc_section_display": true,
   "toc_window_display": true
  }
 },
 "nbformat": 4,
 "nbformat_minor": 4
}
