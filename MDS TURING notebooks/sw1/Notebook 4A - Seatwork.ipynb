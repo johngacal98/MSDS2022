{
 "cells": [
  {
   "cell_type": "markdown",
   "metadata": {},
   "source": [
    "## Notebook 4A: Seatwork\n",
    "\n",
    "This seatwork should be submitted <b>by LT</b>.   \n",
    "\n",
    "LT Number:\n",
    "\n",
    "Names:"
   ]
  },
  {
   "cell_type": "markdown",
   "metadata": {},
   "source": [
    "#### Q1.\n",
    "\n",
    "Given the following:\n",
    "\n",
    "\\begin{align*}\n",
    "    \\begin{bmatrix}\n",
    "    1 & 3 & 3 & -2\\\\\n",
    "    2 & 2 & 1 & 1\\\\\n",
    "    4 & 2 & -1 & 5\\\\\n",
    "    -3 & 2 & -5 & 5\n",
    "    \\end{bmatrix} \\begin{bmatrix}\n",
    "    x_1\\\\\n",
    "    x_2\\\\\n",
    "    x_3\\\\\n",
    "    x_4\n",
    "    \\end{bmatrix} =\n",
    "    \\begin{bmatrix}\n",
    "    1\\\\\n",
    "    2\\\\\n",
    "    3\\\\\n",
    "    4\n",
    "    \\end{bmatrix}\n",
    "\\end{align*}"
   ]
  },
  {
   "cell_type": "markdown",
   "metadata": {},
   "source": [
    "Do the following:\n",
    "\n",
    "1) Calculate $\\text{det}(A)$.\n",
    "\n",
    "2) Solve for $x$ using Cramer's Rule."
   ]
  },
  {
   "cell_type": "markdown",
   "metadata": {},
   "source": [
    "#### Q2. \n",
    "\n",
    "Given the following:\n",
    "\n",
    "\\begin{align*}\n",
    "    \\begin{bmatrix}\n",
    "    1 & 3 & 5\\\\\n",
    "    2 & 2 & 2\\\\\n",
    "    2 & 3 & -1\n",
    "    \\end{bmatrix} \\begin{bmatrix}\n",
    "    x_1\\\\\n",
    "    x_2\\\\\n",
    "    x_3\n",
    "    \\end{bmatrix} =\n",
    "    \\begin{bmatrix}\n",
    "    1\\\\\n",
    "    2\\\\\n",
    "    3\n",
    "    \\end{bmatrix}\n",
    "\\end{align*}"
   ]
  },
  {
   "cell_type": "markdown",
   "metadata": {},
   "source": [
    "Do the following:\n",
    "\n",
    "1) Calculate $A^{-1}$ using the method of cofactors.\n",
    "\n",
    "2) Solve for $x$ by evaluating $A^{-1}b$."
   ]
  }
 ],
 "metadata": {
  "kernelspec": {
   "display_name": "Python 3",
   "language": "python",
   "name": "python3"
  },
  "language_info": {
   "codemirror_mode": {
    "name": "ipython",
    "version": 3
   },
   "file_extension": ".py",
   "mimetype": "text/x-python",
   "name": "python",
   "nbconvert_exporter": "python",
   "pygments_lexer": "ipython3",
   "version": "3.7.7"
  },
  "latex_envs": {
   "LaTeX_envs_menu_present": true,
   "autoclose": false,
   "autocomplete": true,
   "bibliofile": "biblio.bib",
   "cite_by": "apalike",
   "current_citInitial": 1,
   "eqLabelWithNumbers": true,
   "eqNumInitial": 1,
   "hotkeys": {
    "equation": "Ctrl-E",
    "itemize": "Ctrl-I"
   },
   "labels_anchors": false,
   "latex_user_defs": false,
   "report_style_numbering": false,
   "user_envs_cfg": false
  }
 },
 "nbformat": 4,
 "nbformat_minor": 2
}
