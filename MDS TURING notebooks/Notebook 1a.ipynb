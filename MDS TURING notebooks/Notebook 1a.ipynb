{
 "cells": [
  {
   "cell_type": "markdown",
   "metadata": {},
   "source": [
    "\n",
    "\n",
    "\n",
    "## Chapter 1:  Eight Common Mathematical Functions in the Real-World\n",
    "\n",
    "\n",
    "Author: [Christopher Monterola](https://www.chrismonterola.net), Sebastian Ibañez, Benjur Borja\n",
    "\n",
    "Copyright © 2018, 2019, 2020 Christopher Monterola, Sebastian Ibañez, Benjur Borja. All rights reserved.\n",
    "\n",
    "This notebook was written, conceptualized, and prepared for the Mathematics for Data Science course under AIM's MS in Data Science program. None of the content here shall be reproduced and/or distributed without the written permission of the authors. \n",
    "\n",
    "The authors would like to acknowledge the AIM MSDS program team members for their help and support in building the notebooks. \n",
    "\n",
    "\n",
    "THE SOFTWARE IS PROVIDED \"AS IS\", WITHOUT WARRANTY OF ANY KIND, EXPRESS OR IMPLIED, INCLUDING BUT NOT LIMITED TO THE WARRANTIES OF MERCHANTABILITY, FITNESS FOR A PARTICULAR PURPOSE AND NONINFRINGEMENT. IN NO EVENT SHALL THE\n",
    "AUTHORS OR COPYRIGHT HOLDERS BE LIABLE FOR ANY CLAIM, DAMAGES OR OTHER LIABILITY, WHETHER IN AN ACTION OF CONTRACT, TORT OR OTHERWISE, ARISING FROM, OUT OF OR IN CONNECTION WITH THE SOFTWARE OR THE USE OR OTHER DEALINGS IN THE\n",
    "SOFTWARE.\n",
    "\n",
    "---\n",
    "\n",
    "## Executive Summary\n",
    "\n",
    "We describe here the eight most common mathematical functions and their variants. One of the first steps in attacking a data science problem is understanding the behavior of data under consideration, and this includes: *functional classification* and *parameter estimation*. Most real-world relations that you encounter will fit into one of the eight (8) functions described here, or some combination of them.\n",
    "\n",
    "Lessons that can be learned in this notebook:\n",
    "\n",
    "1. Most common functional relations and their physical interpretation. What gives rise to such shapes, trends, or distributions? (part A)\n",
    "2. General demonstration of basic calculus: derivatives, inflection points, optimality conditions (parts A and B)\n",
    "3. Fitting procedures for parameter estimation (part B)\n",
    "\n",
    "\n",
    "The notebook (part A) describes the basic features of the following functions: \n",
    "\n",
    "1. Linear \n",
    "2. Quadratic \n",
    "3. Cubic \n",
    "4. Periodic \n",
    "5. Exponential \n",
    "6. Gaussian \n",
    "7. Power Law \n",
    "8. Sigmoid\n",
    "\n",
    "\n",
    "A nonlinear fitting algorithm is then introduced in the second part (part B) where users may input any test data for fitting.  "
   ]
  },
  {
   "cell_type": "markdown",
   "metadata": {},
   "source": [
    "## Part A. Eight Common Math Functions\n",
    "\n",
    "### 1. Linear Function / Line\n",
    "\n",
    "Line is the baseline of any fitting procedure. In mathematical form,\n",
    "\n",
    "\\begin{equation}\n",
    "f(x) = y = mx + b \n",
    "\\end{equation}\n",
    "\n",
    "where $b$ is the $y$-intercept (i.e., the value of $y$ when $x$ is zero) and the slope $m$ signifies the change in $y$ for every 1-unit change in $x$, or:\n",
    "\n",
    "\\begin{equation}\n",
    "m = f'(x)= \\frac{dy}{dx}= \\frac{y_2-y_1}{x_2-x_1}\n",
    "\\end{equation}\n",
    "\n",
    "<div class=\"alert alert-block alert-info\">\n",
    "<b>Number of Parameters:</b> 2 ($m$ and $b$)\n",
    "</div>\n",
    "\n",
    "\n",
    "#### Example 1\n",
    "Find the equation of the line passing through the points (1,1) and (3,5).\n",
    "\n",
    "<div class=\"alert alert-block alert-info\">\n",
    "\n",
    "Using the two-point formula:\n",
    "\n",
    "\\begin{equation}\n",
    "y - y_1 =\\frac{(y_2 – y_1)}{(x_2 – x_1)}(x – x_1)\n",
    "\\end{equation} \n",
    "\n",
    "> $ y - 1 =\\frac{(5 – 1)}{(3 – 1)}(x – 1)$ \n",
    "\n",
    "> $y - 1 =2(x – 1)$ \n",
    "\n",
    "> $y = 2x – 2 + 1$ \n",
    "\n",
    "> $y = 2x - 1$ \n",
    "</div>\n",
    "\n",
    "#### Example 2\n",
    "Find the equation of the line parallel to the first equation and passing through the point (2,-3).\n",
    "\n",
    "<div class=\"alert alert-block alert-info\">\n",
    "Using the point-slope formula:\n",
    "\n",
    "\\begin{equation}\n",
    "y - y_1 =m(x – x_1)\n",
    "\\end{equation}\n",
    "\n",
    ">$ y - (-3) =2(x – 2)$\n",
    "\n",
    ">$ y + 3 =2x – 4$\n",
    "\n",
    ">$ y =2x – 7$\n",
    "</div>\n",
    "\n",
    "#### Example 3\n",
    "A postpaid subscription to **Telco A** costs ₱200 per month plus ₱5 per call-minute. For a prepaid subscription, it costs ₱10 per call-minute with no fixed charge. \n",
    "\n",
    "(a) If, on average, I consume 50 call-minutes per month, which scheme should I subscribe to?  \n",
    "(b) At what call-minutes per month would the cost be equal for the two subscriptions?\n",
    "\n",
    "<div class=\"alert alert-block alert-info\">\n",
    "\n",
    "**(a)**  \n",
    "    \n",
    "Postpaid: $  y = 5x + 200 = 5*50 + 200 = 450$  \n",
    "Prepaid : $  y = 10x = 10*50 = 500$  \n",
    "\n",
    "**(b)**\n",
    "    \n",
    "Postpaid = Prepaid  \n",
    "$ 5x + 200 = 10x $  \n",
    "$ 200 = 5x $  \n",
    "$ x = 40 $ **call-minutes**\n",
    "\n",
    "</div>\n",
    "\n",
    "#### Example 4\n",
    "The lifetime $L$ of an oil valve (in days) is shown to vary proportional to usage $U$ (number of revolutions), which is given by $L = 0.03 U + 32$. If the uncertainty of measuring the usage is within $\\pm$ 1000 revolutions, what is the uncertainty of measuring the valve's lifetime?\n",
    "\n",
    "<div class=\"alert alert-block alert-info\">\n",
    "    \n",
    "> $\\frac{dL}{dU} = 0.03$\n",
    "    \n",
    "> $dL = 0.03dU$\n",
    "    \n",
    "> $dL = 0.03(1000)$\n",
    "\n",
    "> $dL = 30 \\ \\text{days}$\n",
    "    \n",
    "</div>"
   ]
  },
  {
   "cell_type": "markdown",
   "metadata": {},
   "source": [
    "#### Quiz 1 (Individual)\n",
    "\n",
    "What is the equation of the line with a y-intercept of 4 and passing through (-2, 2)?     \n",
    "\n",
    "<div class=\"alert alert-block alert-info\">\n",
    "\n",
    "> $y = mx + 4$\n",
    "    \n",
    "> $2 = m(-2) + 4$\n",
    "\n",
    "> $-2 = m(-2)$\n",
    "\n",
    "> $m = 1$\n",
    "    \n",
    "> $y = x + 4$\n",
    "    \n",
    "</div>"
   ]
  },
  {
   "cell_type": "markdown",
   "metadata": {},
   "source": [
    "#### Plotting Functions"
   ]
  },
  {
   "cell_type": "code",
   "execution_count": 120,
   "metadata": {
    "code_folding": []
   },
   "outputs": [],
   "source": [
    "# Libraries we need\n",
    "import numpy as np ## Used for math functions\n",
    "import matplotlib.pyplot as plt ## Used for plotting\n",
    "\n",
    "# Adjust size of the plots\n",
    "plt.rcParams['figure.figsize'] = [10, 7.5] ## Change numbers to make the plots taller/wider"
   ]
  },
  {
   "cell_type": "code",
   "execution_count": 121,
   "metadata": {},
   "outputs": [
    {
     "name": "stdout",
     "output_type": "stream",
     "text": [
      "[-10.          -9.59183673  -9.18367347  -8.7755102   -8.36734694\n",
      "  -7.95918367  -7.55102041  -7.14285714  -6.73469388  -6.32653061\n",
      "  -5.91836735  -5.51020408  -5.10204082  -4.69387755  -4.28571429\n",
      "  -3.87755102  -3.46938776  -3.06122449  -2.65306122  -2.24489796\n",
      "  -1.83673469  -1.42857143  -1.02040816  -0.6122449   -0.20408163\n",
      "   0.20408163   0.6122449    1.02040816   1.42857143   1.83673469\n",
      "   2.24489796   2.65306122   3.06122449   3.46938776   3.87755102\n",
      "   4.28571429   4.69387755   5.10204082   5.51020408   5.91836735\n",
      "   6.32653061   6.73469388   7.14285714   7.55102041   7.95918367\n",
      "   8.36734694   8.7755102    9.18367347   9.59183673  10.        ]\n"
     ]
    }
   ],
   "source": [
    "# Generate x values\n",
    "# Create an numpy array of 50 equally spaced numbers from -10 to 10\n",
    "x = np.linspace(-10, 10, 50)\n",
    "\n",
    "# Display the array\n",
    "print(x)"
   ]
  },
  {
   "cell_type": "code",
   "execution_count": 122,
   "metadata": {},
   "outputs": [
    {
     "data": {
      "image/png": "[encoded data removed]",
      "text/plain": [
       "<Figure size 720x540 with 1 Axes>"
      ]
     },
     "metadata": {
      "needs_background": "light"
     },
     "output_type": "display_data"
    }
   ],
   "source": [
    "# Define a function\n",
    "def linear(x, m, b):\n",
    "    return m*x + b\n",
    "\n",
    "# Calculate y values (i.e. f(x))\n",
    "# Choose your parameter values!\n",
    "y = linear(x, 2, 5) #arbitrary values\n",
    "\n",
    "# Plot the line\n",
    "plt.plot(x, y, 'b-') ## The argument 'b-' specifies that we want a \"blue line\"\n",
    "                     ## The argument 'r.' specifies that we want \"red dots\" (check the API online for more settings!)\n",
    "plt.title(\"Linear Function\")\n",
    "plt.xlabel('x')\n",
    "plt.ylabel('y')\n",
    "plt.show()"
   ]
  },
  {
   "cell_type": "markdown",
   "metadata": {},
   "source": [
    "### 2. Quadratic Function / Parabola\n",
    "\n",
    "Upon addition of a second-order term $x^2$, a quadratic equation is given by\n",
    "\n",
    "\\begin{equation}\n",
    "f(x) = y = ax^2 + bx + c\n",
    "         = a(x-r_1)(x-r_2).\n",
    "\\end{equation}\n",
    "\n",
    "Here, the roots $r_1$ and $r_2$ are the points when f(x) (or $y$) is zero and are given by:\n",
    "\n",
    "\\begin{equation}\n",
    "r_{1,2} =\\frac{-b\\pm\\sqrt{b^2-4ac}}{2a}\n",
    "\\end{equation}\n",
    "\n",
    "The minima (or maxima) of the equation, also known as the vertex, is given by x at $f'(x_{vertex})=0$ hence $x_{vertex}=\\frac{-b}{2a}$.\n",
    "\n",
    "<div class=\"alert alert-block alert-info\">\n",
    "<b>Number of Parameters:</b> 3 ($a$, $b$, $c$)\n",
    "</div>\n",
    "\n",
    "\n",
    "#### Example 1\n",
    "Find the roots of the equation: $ 2y + 16 = 2x^2 + 4x$\n",
    "\n",
    "<div class=\"alert alert-block alert-info\">\n",
    "    \n",
    "Rewriting the equation to the general form:\n",
    "\n",
    "\\begin{equation}\n",
    "y = ax^2 + bx +c\n",
    "\\end{equation}\n",
    "\n",
    ">$ 2y + 16 = 2x^2 + 4x$  \n",
    "\n",
    ">$ 2y = 2x^2 + 4x - 16$\n",
    "\n",
    ">$ y = x^2 + 2x - 8$  \n",
    "\n",
    "Solving for $r_{1,2}:$\n",
    "\n",
    "\\begin{equation}\n",
    "r_{1,2} =\\frac{-b \\pm \\sqrt{b^2 - 4ac}}{2a}\n",
    "\\end{equation}\n",
    "\n",
    ">$r_{1,2} =\\frac{-2 \\pm \\sqrt{2^2 - 4(1)(-8)}}{2(1)}$\n",
    "\n",
    ">$r_{1,2} =\\frac{-2 \\pm \\sqrt{4 + 32}}{2}$\n",
    "\n",
    ">$r_{1,2} =\\frac{-2 \\pm 6}{2}$\n",
    "\n",
    ">$r_1 =\\frac{-2 + 6}{2} = 2$\n",
    "\n",
    ">$r_2 =\\frac{-2 - 6}{2} = -4$\n",
    "\n",
    "</div>\n",
    "\n",
    "#### Example 2\n",
    "\n",
    "The trajectory of a basketball shot is given by $y = -4x^2 + 24x -32$, where $x$ and $y$ are the distance and height of the ball, respectively.  \n",
    "a) At what distance is the maximum height of the ball?  \n",
    "b) What is the height at this distance?\n",
    "\n",
    "<div class=\"alert alert-block alert-info\">\n",
    "\n",
    "**(a)** \n",
    "    \n",
    "The maximum height should be at the vertex:  \n",
    "\n",
    "\\begin{equation}\n",
    "x_{vertex} = \\frac{-b}{2a} = \\frac{-24}{2(-4)} = 3  \n",
    "\\end{equation}\n",
    "\n",
    "**(b)** \n",
    "\n",
    "The maximum height at this distance is:\n",
    "\n",
    "\\begin{equation}\n",
    "y = -4x_{vertex}^2 + 24x_{vertex} -32 = -4(3)^2 + 24(3) -32 = 4\n",
    "\\end{equation}\n",
    "\n",
    "</div>\n",
    "\n",
    "#### Example 3\n",
    "\n",
    "The lifetime $L$ of oil valve (in days) is shown to vary proportional to usage $U$ (number of revolutions) given by $L$ = 0.03 $U^2$ + .03$U$ + 32. If the uncertainty of measuring the usage is within $\\pm$ 1000 revolutions, what is the uncertainty of measuring the valve's lifetime?\n",
    "\n",
    "<div class=\"alert alert-block alert-info\">\n",
    "\n",
    "> $\\frac{dL}{dU} = (2)(0.03)U + 0.03$\n",
    "    \n",
    "> $dL = dU(0.06U + 0.03)$\n",
    "    \n",
    "> $dL = (1000)(0.06U + 0.03)$\n",
    "\n",
    "> $dL = 60U + 30 \\ \\text{days}$\n",
    "    \n",
    "Result indicates that the uncertainty is now dependent on usage.\n",
    "\n",
    "</div>\n",
    "\n",
    "\n"
   ]
  },
  {
   "cell_type": "code",
   "execution_count": 123,
   "metadata": {
    "code_folding": []
   },
   "outputs": [
    {
     "data": {
      "image/png": "[encoded data removed]",
      "text/plain": [
       "<Figure size 720x540 with 1 Axes>"
      ]
     },
     "metadata": {
      "needs_background": "light"
     },
     "output_type": "display_data"
    }
   ],
   "source": [
    "def quadratic(x, a, b, c):\n",
    "    return a*x*x + b*x + c ## x*x can also be expressed as x**2 or np.power(x, 2)\n",
    "\n",
    "y = quadratic(x, 1, 0, 0)\n",
    "\n",
    "plt.plot(x, y, 'b-')\n",
    "plt.title(\"Quadratic Function\")\n",
    "plt.xlabel('x')\n",
    "plt.ylabel('y')\n",
    "plt.show()"
   ]
  },
  {
   "cell_type": "markdown",
   "metadata": {},
   "source": [
    "### 3. Cubic Function\n",
    "\n",
    "With third-order terms, a cubic equation is given by\n",
    "\n",
    "\\begin{equation}\n",
    "f(x) = y = ax^3 + bx^2 + cx +d\n",
    "\\end{equation}\n",
    "\n",
    "The minima and maxima of cubic equations (also know as critical points $x_{\\texttt{crit}}$) are derived by taking the derivative of $f(x)$ and equating it to zero\n",
    "\n",
    "\\begin{equation}\n",
    "f'(x) = 3ax_{crit}^2 +2bx_{crit} + c=0\n",
    "\\end{equation}\n",
    "\n",
    "The minima of the equation, also known as the vertex, is given by \n",
    "\n",
    "\\begin{equation}\n",
    "x_{crit} =\\frac{-b\\pm\\sqrt{b^2-3ac}}{3a}\n",
    "\\end{equation}\n",
    "\n",
    "The inflection point or the change in concavity is given by $f''(x_{inflection})=6ax_{inflection}+2b =0$; and hence, can be analytically derived as:\n",
    "    \n",
    "\\begin{equation}\n",
    "x_{inflection} = \\frac{-b}{3a}\n",
    "\\end{equation}  \n",
    "\n",
    "<div class=\"alert alert-block alert-info\">\n",
    "\n",
    "**Number of Parameters:** 4 ($a$, $b$, $c$, $d$)\n",
    "\n",
    "</div>\n",
    "\n",
    "#### Example 1\n",
    "Find the critical points of the equation $ y = 2x^3 - 6x^2 - 48x + 24 $.\n",
    "\n",
    "<div class=\"alert alert-block alert-info\">\n",
    "    \n",
    "To find the critical points, we take the derivative and equate to zero: \n",
    "\n",
    "> $ y' = 6x^2 - 12x -48 = 0 $\n",
    "\n",
    "Solve for $x$ using the quadratic formula:  \n",
    "\n",
    ">$x_{crit} =\\frac{12 \\pm \\sqrt{12^2 - 4(6)(-48)}}{2(6)}$  \n",
    "\n",
    ">$x_{crit} =\\frac{12 \\pm \\sqrt{144 + 1152}}{12}$  \n",
    "\n",
    ">$x_{crit} =\\frac{12 \\pm 36}{12}$  \n",
    "\n",
    ">$x_{crit} = 4, -2$\n",
    "\n",
    "</div>\n",
    "\n",
    "#### Example 2\n",
    "Find the inflection point of the previous equation.\n",
    "\n",
    "<div class=\"alert alert-block alert-info\">\n",
    "    \n",
    "The inflection point is given by:  \n",
    "\n",
    "> $ f''(x_{inflection}) = 6ax_{inflection} +2b = 0 $\n",
    "\n",
    ">$ 6(2)x_{inflection} +2(-6) = 0$  \n",
    "\n",
    ">$ 12x_{inflection} = 12$ \n",
    "\n",
    ">$ x_{inflection} = 1$ \n",
    "\n",
    "</div>"
   ]
  },
  {
   "cell_type": "code",
   "execution_count": 124,
   "metadata": {
    "code_folding": []
   },
   "outputs": [
    {
     "data": {
      "image/png": "[encoded data removed]",
      "text/plain": [
       "<Figure size 720x540 with 1 Axes>"
      ]
     },
     "metadata": {
      "needs_background": "light"
     },
     "output_type": "display_data"
    }
   ],
   "source": [
    "def cubic(x, a, b, c, d):\n",
    "    return a*np.power(x, 3) + b*np.power(x, 2) + c*x + d\n",
    "\n",
    "y = cubic(x, 1, 1, 1, 1)\n",
    "\n",
    "plt.plot(x, y, 'b-')\n",
    "plt.title(\"Cubic Function\")\n",
    "plt.xlabel('x')\n",
    "plt.ylabel('y')\n",
    "plt.show()"
   ]
  },
  {
   "cell_type": "markdown",
   "metadata": {},
   "source": [
    "### 4. Periodic Functions\n",
    "\n",
    "Periodic functions are functions that repeat values after a period T (frequency = 1/T), or \n",
    "\n",
    "\\begin{equation}\n",
    "f(x + T) = f(x). \n",
    "\\end{equation}\n",
    "\n",
    "Examples include the sinusoidal functions $\\cos(x)$, $\\sin(x)$ that have periods of $2\\pi$, that is\n",
    "\n",
    "\n",
    "\\begin{equation}\n",
    "\\cos(x + 2\\pi) = \\cos(x)\n",
    "\\end{equation}\n",
    "\n",
    "\\begin{equation}\n",
    "\\sin(x + 2\\pi) = \\sin(x) \n",
    "\\end{equation}\n",
    "\n",
    "By definition, $f=1/T$ ($fT=1$); therefore, for a sinusoidal function with $T=2*\\pi$, we can rewrite the periodic functions cosine and sine as:\n",
    "\n",
    "\\begin{equation}\n",
    "f(x) = A \\cos(2\\pi f x + C) + D\n",
    "\\end{equation}\n",
    "\n",
    "\\begin{equation}\n",
    "f(x) = A \\sin(2\\pi fx  + C) + D\n",
    "\\end{equation}\n",
    "\n",
    "where A denotes the amplitude of $\\cos$ or $\\sin$; and the height from the lowest to the highest point is just $2A$. \n",
    "\n",
    "<div class=\"alert alert-block alert-info\">\n",
    "\n",
    "**Number of Parameters:** 4 ($A$, $T$ or $f$, $C$, $D$)\n",
    "\n",
    "</div>\n",
    "\n",
    "\n",
    "#### Example 1\n",
    "\n",
    "What is the amplitude and frequency of $f(x)=3 \\sin (2x)$\n",
    "\n",
    "<div class=\"alert alert-block alert-info\">\n",
    "    \n",
    "> $A = 3$\n",
    "\n",
    "> $2 \\pi f= 2$; hence, $f =\\frac{1}{ \\pi}$\n",
    "\n",
    "</div>\n",
    "\n",
    "#### Example 2\n",
    "\n",
    "Where are the highest and lowest points of $f(x)=3 \\sin (2x)$.\n",
    "\n",
    "<div class=\"alert alert-block alert-info\">\n",
    "    \n",
    "> $f'(x)=0=6 \\cos(2x)$ \n",
    "    \n",
    "> $2x = m*\\pi/2$ $\\quad$ where m =1,3,5, ...\n",
    "    \n",
    "> $x = m*\\pi/4$ $\\quad $ where m =1,3,5, ...\n",
    "\n",
    "</div>\n",
    "\n",
    "\n",
    "    \n",
    "#### Example 3\n",
    "\n",
    "Some scientists believe that the average temperature of the Earth is periodic over thousands of years because of gradual change in the climate. Suppose that the highest average temperature is $50^\\circ$ and the lowest is $30^\\circ$ and the time it takes from high to low is 20,000 years. You have then noticed that in the year 2000, the average temperature is at a high point of $50^\\circ$. What is the model (equation) that best describes Earth’s temperature?\n",
    "\n",
    "<div class=\"alert alert-block alert-info\">\n",
    "    \n",
    "We start with the general form: $ T(t) = A\\cos{(2\\pi{}ft -C)} + D$ \n",
    "\n",
    "The max and min Temp is 30 and 50, and since $cos()$ has the range (-1,1) we have:\n",
    "\n",
    "> $ T_{max} = A(1) + D $  \n",
    "> $ T_{min} = A(-1) + D $  \n",
    "\n",
    "> $ 50 = A(1) + D $  \n",
    "> $ 30 = A(-1) + D $  \n",
    "\n",
    ">$ A = 10, D = 40$\n",
    "\n",
    "The time it takes from high to low is 20,000 years which means that the period is:  \n",
    "\n",
    "> $T = 40,000$  \n",
    "\n",
    "Computing for $f$:  \n",
    "> $ f = \\frac{1}{T} = \\frac{1}{40,000}$\n",
    "\n",
    "We now have the form: $ T(t) = 10\\cos{(2\\pi{}\\frac{1}{40,000}t -C)} + 40$ \n",
    "\n",
    "Plugging the given:  \n",
    "> $T(2,000) = 50$  \n",
    "> $ 50 = 10\\cos{(2\\pi{}\\frac{1}{40,000}2,000 -C)} + 40$  \n",
    "> $ 10 = 10\\cos{(2\\pi{}\\frac{1}{40,000}2,000 -C)}$  \n",
    "> $ 1 = 1\\cos{(2\\pi{}\\frac{1}{40,000}2,000 -C)}$  \n",
    "\n",
    "But $cos(m) = 1$ if $m = 0$, so:  \n",
    "> $2\\pi{}\\frac{1}{40,000}2,000 - C = 0$  \n",
    "> $ C =\\frac{\\pi{}}{10} $\n",
    "\n",
    "Our final equation is now:\n",
    "> $ T(t) = 10\\cos{(2\\pi{}\\frac{1}{40,000}t - \\frac{\\pi{}}{10})} + 40$\n",
    "\n",
    "</div>\n"
   ]
  },
  {
   "cell_type": "code",
   "execution_count": 125,
   "metadata": {
    "code_folding": []
   },
   "outputs": [
    {
     "data": {
      "image/png": "[encoded data removed]",
      "text/plain": [
       "<Figure size 720x540 with 1 Axes>"
      ]
     },
     "metadata": {
      "needs_background": "light"
     },
     "output_type": "display_data"
    }
   ],
   "source": [
    "def sine(x, A, f, C, D):\n",
    "    return A * np.sin((2 * np.pi * f * x) + C) + D \n",
    "\n",
    "y = sine(x, 3, 1/np.pi, 0, 0)\n",
    "\n",
    "plt.plot(x, y, 'b-')\n",
    "plt.title(\"Sine Function\")\n",
    "plt.xlabel('x')\n",
    "plt.ylabel('y')\n",
    "plt.show()"
   ]
  },
  {
   "cell_type": "code",
   "execution_count": 126,
   "metadata": {},
   "outputs": [
    {
     "data": {
      "image/png": "[encoded data removed]",
      "text/plain": [
       "<Figure size 720x540 with 1 Axes>"
      ]
     },
     "metadata": {
      "needs_background": "light"
     },
     "output_type": "display_data"
    }
   ],
   "source": [
    "x_new = np.linspace(-10, 10, 1000)\n",
    "\n",
    "y = sine(x_new, 3, 1/np.pi, 0, 0)\n",
    "\n",
    "plt.plot(x_new, y, 'b-')\n",
    "plt.title(\"Sine Function\")\n",
    "plt.xlabel('x')\n",
    "plt.ylabel('y')\n",
    "plt.show()"
   ]
  },
  {
   "cell_type": "markdown",
   "metadata": {},
   "source": [
    "<div class=\"alert alert-block alert-info\">\n",
    "\n",
    "**Some Trick**: In case you have forgotten the derivative of a certain function, you can use [`sympy`](http://www.scipy-lectures.org/advanced/sympy.html) --- the symbolic computational tool of Python. Or you can use [`Wolfram Alpha`](https://www.wolframalpha.com/).\n",
    "\n",
    "</div>"
   ]
  },
  {
   "cell_type": "markdown",
   "metadata": {},
   "source": [
    "#### Sympy Demo"
   ]
  },
  {
   "cell_type": "code",
   "execution_count": 127,
   "metadata": {
    "code_folding": []
   },
   "outputs": [
    {
     "data": {
      "text/latex": [
       "$\\displaystyle z^{2} \\cosh{\\left(z \\right)} - 2 z \\sinh{\\left(z \\right)} + 2 \\cosh{\\left(z \\right)}$"
      ],
      "text/plain": [
       "z**2*cosh(z) - 2*z*sinh(z) + 2*cosh(z)"
      ]
     },
     "execution_count": 127,
     "metadata": {},
     "output_type": "execute_result"
    }
   ],
   "source": [
    "from sympy import *\n",
    "z = Symbol('z')\n",
    "integrate(z**2*sinh(z))\n",
    "#diff(sin(z**3))"
   ]
  },
  {
   "cell_type": "markdown",
   "metadata": {},
   "source": [
    "#### Quiz 2 (SLT)\n",
    "\n",
    "Let $f(x) = 3 \\cos (4x)$.\n",
    "\n",
    "1. What is the amplitude $A$ and frequency $f$ of $f(x)$?\n",
    "\n",
    "2. Calculate $f'(x)$.\n",
    "\n",
    "3. Calculate the roots of $f'(x)$ for $x \\geq 0$.\n",
    "\n",
    "<div class=\"alert alert-block alert-info\">\n",
    "    \n",
    "> $A = 3$\n",
    "\n",
    "> $2 \\pi f = 4$; hence, $f =\\frac{2}{ \\pi}$\n",
    "    \n",
    "> $f'(x) = 3(-4\\sin(4x)) = -12\\sin(4x)$\n",
    "    \n",
    "> $-12\\sin(4x) = 0$\n",
    "    \n",
    "> $\\sin(4x) = 0$\n",
    "    \n",
    "> Roots of $\\sin(x)$ are at $x^* = 0, \\pi, 2\\pi, 3\\pi, \\ldots$\n",
    "    \n",
    "> Therefore, roots of $\\sin(4x)$ are at $x^* = 0, \\frac{\\pi}{4}, \\frac{2\\pi}{4}, \\frac{3\\pi}{4}, \\ldots$\n",
    "\n",
    "</div>\n"
   ]
  },
  {
   "cell_type": "markdown",
   "metadata": {},
   "source": [
    "### 5. Exponential Function\n",
    "\n",
    "The exponential function is arguably one the most common patterns in many natural processes. The expression is given by \n",
    "\n",
    "\\begin{equation}\n",
    "f(x) = y = Ae^{bx} = A \\exp (b x) \n",
    "\\end{equation}\n",
    "\n",
    "If $x$ is time, the process is known as exponential decay and the above analytic form is derivable if the rate of a certain quantity $y$ varies proportionally to the present value of $y$ in the system or:\n",
    "\n",
    "\\begin{equation}\n",
    "rate=\\frac{dy}{dx}=b y\n",
    "\\end{equation}\n",
    "\n",
    "resulting to \n",
    "\n",
    "\\begin{equation}\n",
    "\\int{\\frac{dy}{y}}=\\int{b dx}\n",
    "\\end{equation}\n",
    "\n",
    "\\begin{equation}\n",
    "ln(y)= bx+constant\n",
    "\\end{equation}\n",
    "\n",
    "taking the exponential of both sides\n",
    "\n",
    "\\begin{equation}\n",
    "y=\\exp(bx+constant)=A \\exp (b x) \n",
    "\\end{equation}\n",
    "\n",
    "#### Exponential decay\n",
    "\n",
    "Exponential decay is given by:\n",
    "\n",
    "\\begin{equation}\n",
    "y=A \\exp(-bx)\n",
    "\\end{equation}\n",
    "\n",
    "It has no defined mean but is characterised by the time constant upon which the initial magnitude $A$ at $x=0$ reduces to $\\frac{A}{e}$ and this will happen when $x_{char} = \\frac{1}{b}$. The parameter $b$ which measures how fast the system decays is also referred to as decay constant.\n",
    "\n",
    "<div class=\"alert alert-block alert-info\">\n",
    "    \n",
    "**Number of Parameters:** 2 ($A$, $b$)       \n",
    "\n",
    "</div>"
   ]
  },
  {
   "cell_type": "code",
   "execution_count": 128,
   "metadata": {},
   "outputs": [
    {
     "data": {
      "text/plain": [
       "2.718281828459045"
      ]
     },
     "execution_count": 128,
     "metadata": {},
     "output_type": "execute_result"
    }
   ],
   "source": [
    "np.e"
   ]
  },
  {
   "cell_type": "code",
   "execution_count": 129,
   "metadata": {},
   "outputs": [
    {
     "name": "stderr",
     "output_type": "stream",
     "text": [
      "c:\\users\\basti\\appdata\\local\\programs\\python\\python36\\lib\\site-packages\\ipykernel_launcher.py:1: RuntimeWarning: divide by zero encountered in log\n",
      "  \"\"\"Entry point for launching an IPython kernel.\n"
     ]
    },
    {
     "data": {
      "text/plain": [
       "array([  0.,   1.,   2., -inf])"
      ]
     },
     "execution_count": 129,
     "metadata": {},
     "output_type": "execute_result"
    }
   ],
   "source": [
    "np.log([1, np.e, np.e**2, 0])#log in python is ln"
   ]
  },
  {
   "cell_type": "markdown",
   "metadata": {},
   "source": [
    "#### Example 1\n",
    "You opened a store and you served 1,000 customers on your first day. However, you have noticed that customers are decreasing each day. Assuming that the decay is exponential, find the decay constant if you have 400 customers after 7 days.\n",
    "\n",
    "<div class=\"alert alert-block alert-info\">\n",
    "    \n",
    "\\begin{equation}\n",
    "y = A e^{-bx}\n",
    "\\end{equation}\n",
    "\n",
    "First day:  \n",
    "\n",
    "> $y(0) = 1000 = A e^{-b(0)}$  \n",
    "> $A = 1000$\n",
    "\n",
    "Seventh day:\n",
    "\n",
    ">$y(7) = 400 = 1000 e^{-b(7)}$  \n",
    "> $ 400 = 1000 e^{-b(7)}$  \n",
    "> $ 0.4 = e^{-b(7)}$  \n",
    "> $ \\ln{0.4} = -b(7)$  \n",
    "> $ b = -\\frac{\\ln{0.4}}{7}=0.13$ per day\n",
    "\n",
    "</div>\n",
    "\n",
    "#### Example 2\n",
    "You are testing a new medicine inhibiting the growth of a bacteria culture. You have observed that the population is halved every 3.5 hours. Given that there were approximately 2000 bacteria to start with, how many bacteria will there be after 1 hour?\n",
    "\n",
    "<div class=\"alert alert-block alert-info\">\n",
    "\n",
    ">y = A e^{-bx}\n",
    "\n",
    "\n",
    "Initially:  \n",
    "\n",
    "> $y(0) = 2000 = A e^{-b(0)}$  \n",
    "> $A = 2000$\n",
    "\n",
    "After 3.5 hours,\n",
    "\n",
    "> $y(3.5) = 1000 = 2000 e^{-b(3.5)}$  \n",
    "> $ 0.5 = e^{-b(3.5)}$  \n",
    "> $ \\ln{0.5} = -b(3.5)$  \n",
    "> $ b = -\\frac{\\ln{0.5}}{3.5}=0.20$\n",
    "\n",
    "After 1 hour,\n",
    "> $y(1) = 2000 e^{-\\frac{\\ln{0.5}}{3.5}(1)}$  \n",
    "> $y \\approx 1640 $\n",
    "\n",
    "</div>\n"
   ]
  },
  {
   "cell_type": "code",
   "execution_count": 130,
   "metadata": {
    "code_folding": []
   },
   "outputs": [
    {
     "data": {
      "image/png": "[encoded data removed]",
      "text/plain": [
       "<Figure size 720x540 with 1 Axes>"
      ]
     },
     "metadata": {
      "needs_background": "light"
     },
     "output_type": "display_data"
    }
   ],
   "source": [
    "def exponential(x, A, b):\n",
    "    return A * np.exp(b * x)\n",
    "\n",
    "y = exponential(x, 1, -1)\n",
    "\n",
    "plt.plot(x, y, 'b-')\n",
    "plt.title(\"Exponential Function\")\n",
    "plt.xlabel('x')\n",
    "plt.ylabel('y')\n",
    "plt.show()"
   ]
  },
  {
   "cell_type": "markdown",
   "metadata": {},
   "source": [
    "### 6. Gaussian Function\n",
    "\n",
    "Gaussian functions often appear as the probability density function of a normally (unbiased) distributed random variable. It is derivable from the limits of a binary distribution and is parametrized by the mean or expected value $\\mu$ and variance $\\sigma^2$. This relation will be revisited in the next lesson (on the mathematics of Sampling). Gaussian is of the form:\n",
    "\n",
    "\\begin{equation}\n",
    "f(x) = \\frac{1}{\\sigma\\sqrt{2 \\pi}}  \\exp{\\frac{-(x-\\mu)^2}{2\\sigma^2}}\n",
    "\\end{equation}\n",
    "\n",
    "<div class=\"alert alert-block alert-info\">\n",
    "    \n",
    "**Number of Parameters:** 2 ($\\mu$, $\\sigma$)       \n",
    "\n",
    "</div>\n",
    "\n",
    "#### Example 1\n",
    "\n",
    "What is the mean and standard deviation of the following distribution: $f(x) = \\frac{1}{2\\sqrt{2 \\pi}}  \\exp{\\frac{-(x-5)^2}{8}}$?\n",
    "     \n",
    "\n",
    "#### Example 2\n",
    "Find the full width at half maximum (FWHM) of the standard gaussian form:  \n",
    "\n",
    "\\begin{equation}\n",
    "y = \\frac{1}{\\sigma{\\sqrt{2 \\pi{} }}} e^{-(x-\\mu{})^2/2\\sigma{}^2}\n",
    "\\end{equation}\n",
    "\n",
    "\n",
    "**FWHM is the distance between the two x values where $f(x_{1,2}) = \\frac{1}{2} f_{max}$.**\n",
    "\n",
    "<div class=\"alert alert-block alert-info\">\n",
    "    \n",
    ">$y = \\frac{1}{\\sqrt{2 \\pi{} \\sigma{}}} e^{-(x-\\mu{})^2/2\\sigma{}^2}$  \n",
    "\n",
    ">$f(x_{1,2}) = \\frac{1}{2} f(x_{max})$  \n",
    "\n",
    "but $f_{max}$ occurs at $x_{max} = \\mu{}$, so:\n",
    "\n",
    ">$f(x_{1,2}) = \\frac{1}{2} f(\\mu{}) = \\frac{1}{2}$\n",
    "\n",
    "Solving for $x_{1,2}$:  \n",
    "\n",
    "> $f(x_{1,2}) = e^-{(x_{1,2} - \\mu)^2/(2\\sigma^2)} = 2^{-1}$  \n",
    "> $-\\frac{(x_{1,2} - \\mu)^2}{2\\sigma^2} = -\\ln{2}$  \n",
    "> $(x_{1,2} - \\mu)^2 = 2\\sigma^2\\ln(2)$  \n",
    "> $x_{1,2} = \\pm \\sigma \\sqrt{2\\ln(2)} + \\mu$  \n",
    "\n",
    "The full width at half maximum is therefore given by\n",
    "\n",
    "> $FWHM = x_2 - x_1 = 2\\sqrt{2\\ln(2)}\\sigma \\approx 2.3548\\sigma$\n",
    "\n",
    "</div>\n",
    "\n"
   ]
  },
  {
   "cell_type": "markdown",
   "metadata": {},
   "source": [
    "#### Bonus Exercise\n",
    "1. Show that the area under the curve of a Gaussian function is equal to 1; that is,  $\\frac{1}{\\sigma\\sqrt{2 \\pi}} \\int_{-\\infty}^{\\infty}  \\exp{\\frac{-(x)^2}{2\\sigma^2}} dx =1$. (10 pts)\n",
    "\n",
    "2. Plot the sum of throwing two dice 1000 times. Model using a Gaussian curve the distribution. Determine the mean and variance. (10 pts)\n",
    "\n",
    "<div class=\"alert alert-block alert-info\">\n",
    "    \n",
    "> Medyo difficult ang #1. Yung #2 sa data sampling pa ma-cocover.\n",
    "\n",
    "</div>"
   ]
  },
  {
   "cell_type": "code",
   "execution_count": 131,
   "metadata": {},
   "outputs": [
    {
     "data": {
      "text/latex": [
       "$\\displaystyle \\frac{\\sqrt{\\pi}}{2}$"
      ],
      "text/plain": [
       "sqrt(pi)/2"
      ]
     },
     "execution_count": 131,
     "metadata": {},
     "output_type": "execute_result"
    }
   ],
   "source": [
    "from sympy import *\n",
    "z = Symbol('z')\n",
    "a = Symbol('a')\n",
    "integrate(exp(-z**2), (z, 0, oo))"
   ]
  },
  {
   "cell_type": "code",
   "execution_count": 132,
   "metadata": {
    "code_folding": []
   },
   "outputs": [
    {
     "data": {
      "image/png": "[encoded data removed]",
      "text/plain": [
       "<Figure size 720x540 with 1 Axes>"
      ]
     },
     "metadata": {
      "needs_background": "light"
     },
     "output_type": "display_data"
    }
   ],
   "source": [
    "def gaussian(x, mean, stdev):\n",
    "    return (1/np.sqrt(2 * np.pi * stdev**2)) * np.exp(-(x - mean)**2 / (2*stdev**2))\n",
    "\n",
    "y = gaussian(x_new, 0, 1)\n",
    "\n",
    "plt.plot(x_new, y, 'b-')\n",
    "plt.title(\"Gaussian Function\")\n",
    "plt.xlabel('x')\n",
    "plt.ylabel('y')\n",
    "plt.show()"
   ]
  },
  {
   "cell_type": "markdown",
   "metadata": {},
   "source": [
    "### 7. Power Law Function\n",
    "\n",
    "Pareto law, scaling laws, Beer's law, and the rich-getting-richer principle are among the variants of the so-called power law, which is given by:\n",
    "\n",
    "\n",
    "\\begin{equation}\n",
    "y= f(x) = A x^{-\\alpha}\n",
    "\\end{equation}\n",
    "\n",
    "Mathematically, if $x$ is a spatial parameter, a power law distribution implies the presence of long distance correlations or fractality. If $x$, on the other hand, is inter-event time distribution, it implies memory; that is, the system's behavior is a function of its historical record. \n",
    "\n",
    "Hence, a profound implication of having a power law distribution is that interaction is more critical than the attributes of its functional components in the dynamics of a given system. This is one of the quantifiable parameters in the field of *Complex Systems*.\n",
    "\n",
    "An easier way of visualising power law is by taking the logarithm of both sides and rearranging the terms, i.e.\n",
    "\n",
    "\\begin{equation}\n",
    "\\log y = log (A x^{-\\alpha}) = constant + \\log (x^{-\\alpha})\n",
    "\\end{equation}\n",
    "\n",
    "\\begin{equation}\n",
    "\\log y = -\\alpha * \\log x + b\n",
    "\\end{equation}\n",
    "\n",
    "As we can see, if $y$ and $x$ are plotted in the log-log scale, we see a line with slope equal to $-\\alpha$ and $y$-intercept equal to $b$. In *Complex Systems*, $\\alpha$ is referred to as the characteristic exponent while $b$ provides a hint on the total energy (or frequency) of the distribution under consideration.\n",
    "\n",
    "<div class=\"alert alert-block alert-info\">\n",
    "    \n",
    "**Number of Parameters:** 2 ($A$, $\\alpha$)       \n",
    "\n",
    "</div>\n",
    "\n",
    "#### Example 1\n",
    "Write the equation $y = 4x^{-2.5}$ in log-log form. What is the $y$-intercept and the slope in the log-log scale?\n",
    "\n",
    "<div class=\"alert alert-block alert-info\">\n",
    "    \n",
    "> $\\log(y) = \\log(4 x^{-2.5})$  \n",
    "> $\\log(y) = \\log(4) + \\log(x^{-2.5})$  \n",
    "> $\\log(y) = -2.5 \\log(x) + \\log(4)$\n",
    "\n",
    "**y-intercept =** $\\log(4)$   \n",
    "**slope =** $-2.5$\n",
    "\n",
    "</div>\n",
    "\n",
    "#### Example 2\n",
    "Show that the power law is scale invariant, that is, if $x$ increases by a factor $C_1$ (i.e. $x$ $\\rightarrow$ $C_1 x$), then the new $f(x)$ will be $C_2 f(x)$.\n",
    "\n",
    "<div class=\"alert alert-block alert-info\">\n",
    "    \n",
    "> $f(x) = ax^{-\\alpha}$  \n",
    "> $f(\\text{new } x) = a(C_1x)^{-\\alpha}$  \n",
    "> $f(\\text{new } x) = a C_1^{-\\alpha} x^{-\\alpha}$  \n",
    "> $f(\\text{new } x) = C_1^{-\\alpha} f(x)$  \n",
    "\n",
    "That is, scaling by a constant simply multiplies the original power-law relation by the constant. Thus, it follows that all power laws with particular scaling exponents are equivalent up to constant factors, since each is simply a scaled version of the others.\n",
    "\n",
    "</div>"
   ]
  },
  {
   "cell_type": "code",
   "execution_count": 133,
   "metadata": {
    "code_folding": []
   },
   "outputs": [
    {
     "data": {
      "image/png": "[encoded data removed]",
      "text/plain": [
       "<Figure size 720x540 with 1 Axes>"
      ]
     },
     "metadata": {
      "needs_background": "light"
     },
     "output_type": "display_data"
    }
   ],
   "source": [
    "def powerlaw(x, A, alpha):\n",
    "    return A * (np.power(x, -alpha))\n",
    "\n",
    "x_pos = np.linspace(0, 10, 50)\n",
    "x_pos = x_pos[1:] ## Drop the first element to get rid of the warning\n",
    "y = powerlaw(x_pos, 1, 2)\n",
    "\n",
    "plt.plot(x_pos, y, 'b-')\n",
    "plt.title(\"Power Law Function\")\n",
    "plt.xlabel('x')\n",
    "plt.ylabel('y')\n",
    "plt.show()"
   ]
  },
  {
   "cell_type": "markdown",
   "metadata": {},
   "source": [
    "### 8. Sigmoid Functions\n",
    "\n",
    "Sigmoid Functions are mathematical functions that follow the characteristic \"S\" curve. The function has many forms, but the most general form is the logistic equation given by:\n",
    "\n",
    "\\begin{equation}\n",
    "f(x) = \\frac{A}{1 + e^{-k(x-x_o)}} = A\\left(\\frac{e^{k(x-x_o)}}{e^{k(x-x_o)} + 1}\\right)\n",
    "\\end{equation}\n",
    "\n",
    "where $A$ is the maximum value, $x_o$ is the location of the midpoint, and $k$ is the steepness. In essence, sigmoids are defined by two horizontal asymptotes, which is why they are often used in learning curves, activation functions, and other growth models that exhibit an approximately exponential increase that saturates at a certain limit. Other sigmoid functions are:\n",
    "\n",
    "- hyperbolic tangent\n",
    "- arc tangent\n",
    "- error function\n",
    "- generalised logistic function\n",
    "\n",
    "Sigmoid-like functions are the most used functions when training neural networks as (1) they provide good approximations to the step function (the characteristic distribution of an *integrate-and-fire neuron*), and  (2) a sigmoid function has a defined derivative at the transition points. \n",
    "\n",
    "These two properties are important in the convergence of the so called gradient descent back-propagation method, an optimisation procedure that is arguably the most important mathematical procedure for training neural networks to learn patterns.\n",
    "\n",
    "A *tour de force* in neural network involves finding the optimal sigmoid function defined as a function that will be able to avoid local minima and at the same time gives the fastest convergence. The exact function resulting from this long mathematical debate and countless simulations has the form:\n",
    "\n",
    "\n",
    "\\begin{equation}\n",
    "f(x) = 1.7159 \\tanh {\\frac{2x}{3}}\n",
    "\\end{equation}\n",
    "\n",
    "<div class=\"alert alert-block alert-info\">\n",
    "    \n",
    "**Number of Parameters:** 3 ($A$, $x_o$, $k$)\n",
    "\n",
    "</div>\n",
    "\n",
    "#### Example 1\n",
    "Find the steepness $k$ and midpoint $x_o$ for the equation: \n",
    "\\begin{equation}\n",
    "f(x) = \\frac{2}{1 + e^{10-2x}}\n",
    "\\end{equation}\n",
    "\n",
    "<div class=\"alert alert-block alert-info\">\n",
    "    \n",
    "Comparing the exponential to the general form:  \n",
    "\n",
    ">$ e^{-k(x-x_o)} = e^{10-2x} $  \n",
    "\n",
    ">$ -k(x-x_o) = 10-2x $  \n",
    "\n",
    ">$ -k(x-x_o) = -2(x-5) $  \n",
    "\n",
    ">$ k = 2, x_o = 5 $\n",
    "\n",
    "</div>\n",
    "\n",
    "#### Example 2\n",
    "You have observed that the growth of a bacteria culture with limited nutrients is a logistic function. You find the equation for the growth to be:\n",
    "\\begin{equation}\n",
    "f(t) = \\frac{1000}{1 + e^{-0.5t+6}}\n",
    "\\end{equation}\n",
    "\n",
    "where $t$ is the time in hours.\n",
    "a) What is the population after 15 hours?\n",
    "b) At what time does the population reach its midpoint?\n",
    "\n",
    "<div class=\"alert alert-block alert-info\">\n",
    "    \n",
    "**(a)** Solving for t = 15,  \n",
    "\n",
    ">$ f(15) = \\frac{1000}{1 + e^{-0.5(15)+6}}$  \n",
    "\n",
    ">$ f(15) = \\frac{1000}{1 + e^{-1.5}} $  \n",
    "\n",
    ">$ f(15) \\approx{} 817.57 $\n",
    "\n",
    "**(b)** The midpoint is at half-max, which is given by x_o:\n",
    "\n",
    ">$ e^{-k(x-x_o)} = e^{-0.5t + 6} $  \n",
    "\n",
    ">$ -k(x-x_o) = -0.5t + 6 $  \n",
    "\n",
    ">$ -k(x-x_o) = -0.5(t-12) $  \n",
    "\n",
    ">$ x_o = 12 = t_{1/2}$\n",
    "\n",
    "</div>"
   ]
  },
  {
   "cell_type": "code",
   "execution_count": 134,
   "metadata": {
    "code_folding": []
   },
   "outputs": [
    {
     "data": {
      "image/png": "[encoded data removed]",
      "text/plain": [
       "<Figure size 720x540 with 1 Axes>"
      ]
     },
     "metadata": {
      "needs_background": "light"
     },
     "output_type": "display_data"
    }
   ],
   "source": [
    "def sigmoid(x, A, k, x0):\n",
    "    return A/(1 + np.exp(-k * (x - x0)))\n",
    "\n",
    "y = sigmoid(x, 1, 2, 0)\n",
    "\n",
    "plt.plot(x, y, 'b-')\n",
    "plt.title(\"Sigmoid Function\")\n",
    "plt.xlabel('x')\n",
    "plt.ylabel('y')\n",
    "plt.show()"
   ]
  },
  {
   "cell_type": "markdown",
   "metadata": {},
   "source": [
    "**Quiz 3 (SLT)**: \n",
    "\n",
    "Show that the derivative of $f(x) = \\frac{1}{1 + e^{-kx}}$ can be written as $f'(x)= k f(x) (1-f(x))$.\n",
    "\n",
    "<div class=\"alert alert-block alert-info\">\n",
    "\n",
    "> $(1 + e^{-kx})^{-1}$\n",
    "    \n",
    "> $-(1 + e^{-kx})^{-2}(-ke^{-kx})$ \n",
    "    \n",
    "> $ke^{-kx}(1 + e^{-kx})^{-2}$ \n",
    "    \n",
    "> $ke^{-kx}\\left(\\frac{e^{kx}}{e^{kx} + 1}\\right)\\left(\\frac{e^{kx}}{e^{kx} + 1}\\right)$ \n",
    "\n",
    "> $k\\left(\\frac{e^{kx}}{e^{kx} + 1}\\right)\\left(\\frac{1}{e^{kx} + 1}\\right)$     \n",
    "    \n",
    "> $k\\left(\\frac{e^{kx}}{e^{kx} + 1}\\right)\\left(\\frac{e^{kx} + 1 - e^{kx}}{e^{kx} + 1}\\right)$     \n",
    "    \n",
    "> $k\\left(\\frac{e^{kx}}{e^{kx} + 1}\\right)\\left(\\frac{e^{kx} + 1}{e^{kx} + 1} - \\frac{e^{kx}}{e^{kx} + 1}\\right)$   \n",
    "    \n",
    "> $kf(x)(1 - f(x))$    \n",
    "    \n",
    "</div>\n"
   ]
  },
  {
   "cell_type": "code",
   "execution_count": null,
   "metadata": {},
   "outputs": [],
   "source": []
  }
 ],
 "metadata": {
  "kernelspec": {
   "display_name": "Python 3",
   "language": "python",
   "name": "python3"
  },
  "language_info": {
   "codemirror_mode": {
    "name": "ipython",
    "version": 3
   },
   "file_extension": ".py",
   "mimetype": "text/x-python",
   "name": "python",
   "nbconvert_exporter": "python",
   "pygments_lexer": "ipython3",
   "version": "3.7.7"
  }
 },
 "nbformat": 4,
 "nbformat_minor": 4
}
