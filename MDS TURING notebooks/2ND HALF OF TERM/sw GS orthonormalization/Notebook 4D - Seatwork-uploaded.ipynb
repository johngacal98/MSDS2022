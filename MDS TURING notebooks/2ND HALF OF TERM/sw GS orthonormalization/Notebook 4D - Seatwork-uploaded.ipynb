{
 "cells": [
  {
   "cell_type": "markdown",
   "metadata": {},
   "source": [
    "## Notebook 4D: Seatwork\n",
    "\n",
    "<b>Instructions:</b> Submit your answers by <b>LT</b>.\n",
    "\n",
    "<u>LT Number</u>: <b>10</b>\n",
    "\n",
    "<u>Names</u>:\\\n",
    "<b>\n",
    "&emsp;Janica Lae Batang\\\n",
    "&emsp;Mary Honeylie Buitre\\\n",
    "&emsp;Paolo Jose de Guzman\\\n",
    "&emsp;John Francis Gacal\\\n",
    "&emsp;Vincent John Rivera</b>"
   ]
  },
  {
   "cell_type": "markdown",
   "metadata": {},
   "source": [
    "#### Q1.\n",
    "\n",
    "Convert the following vectors into an orthonormal basis:\n",
    "\n",
    "\\begin{align}\n",
    "    v_1 = \\begin{bmatrix}\n",
    "            2\\\\\n",
    "            -1\\\\\n",
    "            0\n",
    "        \\end{bmatrix} \\quad , \\quad\n",
    "    v_2 = \\begin{bmatrix}\n",
    "            1\\\\\n",
    "            0\\\\\n",
    "            -1\n",
    "        \\end{bmatrix} \\quad , \\quad\n",
    "    v_3 = \\begin{bmatrix}\n",
    "            3\\\\\n",
    "            7\\\\\n",
    "            -1\n",
    "        \\end{bmatrix}\n",
    "\\end{align}"
   ]
  },
  {
   "cell_type": "markdown",
   "metadata": {},
   "source": [
    "$\n",
    "u_1 = \\begin{bmatrix}\n",
    "2\\\\\n",
    "-1\\\\\n",
    "0\n",
    "\\end{bmatrix}\\\\\n",
    "u_2 = \\begin{bmatrix}\n",
    "1\\\\0\\\\-1\n",
    "\\end{bmatrix} - \\frac{1(2) + 0(-1) - 1(0)}{2^2 + (-1)^2 + (0)^2}\n",
    "\\begin{bmatrix}\n",
    "2\\\\-1\\\\0\n",
    "\\end{bmatrix} \n",
    "= \\begin{bmatrix}\n",
    "\\frac{1}{5}\\\\\\frac{2}{5}\\\\-1\n",
    "\\end{bmatrix}\\\\\n",
    "u_3 = \\begin{bmatrix}\n",
    "3\\\\7\\\\-1\n",
    "\\end{bmatrix} - \\frac{3(2) + 7(-1) - 1(0)}{2^2 + (-1)^2 + (0)^2}\n",
    "\\begin{bmatrix}\n",
    "2\\\\-1\\\\0\n",
    "\\end{bmatrix} - \\frac{3(\\frac{1}{5}) + 7(\\frac{2}{5}) - 1(-1)}{(\\frac{1}{5})^2 + (\\frac{2}{5})^2 + (-1)^2}\n",
    "\\begin{bmatrix}\n",
    "\\frac{1}{5}\\\\\\frac{2}{5}\\\\-1\n",
    "\\end{bmatrix}\n",
    "= \\begin{bmatrix}\n",
    "\\frac{8}{3}\\\\\\frac{16}{3}\\\\\\frac{8}{3}\n",
    "\\end{bmatrix}\\\\\n",
    "\\text{Normalizing}, \\\\\n",
    "u_1 = \\begin{bmatrix}\n",
    "\\frac{2\\sqrt{5}}{5}\\\\-\\frac{\\sqrt{5}}{5}\\\\0\n",
    "\\end{bmatrix}\n",
    "\\quad\n",
    "u_2 = \\begin{bmatrix}\n",
    "\\frac{\\sqrt{30}}{30}\\\\\\frac{\\sqrt{30}}{15}\\\\-\\frac{\\sqrt{30}}{6}\n",
    "\\end{bmatrix}\n",
    "\\quad\n",
    "u_3 = \\begin{bmatrix}\n",
    "\\frac{\\sqrt{6}}{6}\\\\\\frac{\\sqrt{6}}{3}\\\\\\frac{\\sqrt{6}}{6}\n",
    "\\end{bmatrix}\n",
    "$"
   ]
  },
  {
   "cell_type": "markdown",
   "metadata": {},
   "source": [
    "#### Answer:\n",
    "\n",
    "\\begin{align}\n",
    "    u_1 = \\begin{bmatrix}\n",
    "        \\frac{2\\sqrt{5}}{5}\\\\-\\frac{\\sqrt{5}}{5}\\\\0\n",
    "        \\end{bmatrix} \\quad , \\quad\n",
    "    u_2 = \\begin{bmatrix}\n",
    "        \\frac{\\sqrt{30}}{30}\\\\\\frac{\\sqrt{30}}{15}\\\\-\\frac{\\sqrt{30}}{6}\n",
    "        \\end{bmatrix} \\quad , \\quad\n",
    "    u_3 = \\begin{bmatrix}\n",
    "        \\frac{\\sqrt{6}}{6}\\\\\\frac{\\sqrt{6}}{3}\\\\-\\frac{\\sqrt{6}}{6}\n",
    "        \\end{bmatrix}\n",
    "\\end{align}"
   ]
  },
  {
   "cell_type": "markdown",
   "metadata": {},
   "source": [
    "#### Q2.\n",
    "\n",
    "Convert the following vectors into an orthonormal basis:\n",
    "\n",
    "\\begin{align}\n",
    "    v_1 = \\begin{bmatrix}\n",
    "            1\\\\\n",
    "            1\\\\\n",
    "            1\\\\\n",
    "            1\n",
    "        \\end{bmatrix} \\quad , \\quad\n",
    "    v_2 = \\begin{bmatrix}\n",
    "            1\\\\\n",
    "            1\\\\\n",
    "            1\\\\\n",
    "            0\n",
    "        \\end{bmatrix} \\quad , \\quad\n",
    "    v_3 = \\begin{bmatrix}\n",
    "            1\\\\\n",
    "            1\\\\\n",
    "            0\\\\\n",
    "            0\n",
    "        \\end{bmatrix} \\quad , \\quad\n",
    "    v_4 = \\begin{bmatrix}\n",
    "            1\\\\\n",
    "            0\\\\\n",
    "            0\\\\\n",
    "            0\n",
    "        \\end{bmatrix}\n",
    "\\end{align}"
   ]
  },
  {
   "cell_type": "markdown",
   "metadata": {},
   "source": [
    "$\n",
    "u_1 = \\begin{bmatrix}\n",
    "1\\\\1\\\\1\\\\1\n",
    "\\end{bmatrix}\\\\\n",
    "u_2 = \\begin{bmatrix}\n",
    "1\\\\1\\\\1\\\\0\n",
    "\\end{bmatrix} - \\frac{1(1)+1(1)+1(1)+0(1)}{1^2 + 1^2 + 1^2 + 1^2}\n",
    "\\begin{bmatrix}\n",
    "1\\\\1\\\\1\\\\1\n",
    "\\end{bmatrix} \n",
    "= \\begin{bmatrix}\n",
    "\\frac{1}{4}\\\\\\frac{1}{4}\\\\\\frac{1}{4}\\\\-\\frac{3}{4}\n",
    "\\end{bmatrix}\n",
    "\\\\\n",
    "u_3 = \\begin{bmatrix}\n",
    "1\\\\1\\\\0\\\\0\n",
    "\\end{bmatrix} - \\frac{1(1)+1(1)+0(1)+0(1)}{1^2 + 1^2 + 1^2 + 1^2}\n",
    "\\begin{bmatrix}\n",
    "1\\\\1\\\\1\\\\1\n",
    "\\end{bmatrix} - \\frac{1(\\frac{1}{4})+1(\\frac{1}{4})+0(\\frac{1}{4})+0(-\\frac{3}{4})}{(\\frac{1}{4})^2 + (\\frac{1}{4})^2 + (\\frac{1}{4})^2 + (-\\frac{3}{4})^2}\n",
    "\\begin{bmatrix}\n",
    "\\frac{1}{4}\\\\\\frac{1}{4}\\\\\\frac{1}{4}\\\\-\\frac{3}{4}\n",
    "\\end{bmatrix}\n",
    "= \\begin{bmatrix}\n",
    "\\frac{1}{3}\\\\\\frac{1}{3}\\\\-\\frac{2}{3}\\\\0\n",
    "\\end{bmatrix}\\\\\n",
    "u_4 = \\begin{bmatrix}\n",
    "1\\\\0\\\\0\\\\0\n",
    "\\end{bmatrix} - \\frac{1(1)+0(1)+0(1)+0(1)}{1^2 + 1^2 + 1^2 + 1^2}\n",
    "\\begin{bmatrix}\n",
    "1\\\\1\\\\1\\\\1\n",
    "\\end{bmatrix} - \\frac{1(\\frac{1}{4})+0(\\frac{1}{4})+0(\\frac{1}{4})+0(-\\frac{3}{4})}{(\\frac{1}{4})^2 + (\\frac{1}{4})^2 + (\\frac{1}{4})^2 + (-\\frac{3}{4})^2}\n",
    "\\begin{bmatrix}\n",
    "\\frac{1}{4}\\\\\\frac{1}{4}\\\\\\frac{1}{4}\\\\-\\frac{3}{4}\n",
    "\\end{bmatrix} - \\frac{1(\\frac{1}{3})+0(\\frac{1}{3})+0(-\\frac{2}{3})+0(0)}{(\\frac{1}{3})^2 + (\\frac{1}{3})^2 + (-\\frac{2}{3})^2 + (0)^2}\n",
    "\\begin{bmatrix}\n",
    "\\frac{1}{3}\\\\\\frac{1}{3}\\\\-\\frac{2}{3}\\\\0\n",
    "\\end{bmatrix}\n",
    "= \\begin{bmatrix}\n",
    "\\frac{1}{2}\\\\-\\frac{1}{2}\\\\0\\\\0\n",
    "\\end{bmatrix}\\\\\n",
    "\\text{Normalizing}, \\\\\n",
    "u_1 = \\begin{bmatrix}\n",
    "\\frac{1}{2}\\\\\\frac{1}{2}\\\\\\frac{1}{2}\\\\\\frac{1}{2}\n",
    "\\end{bmatrix}\n",
    "\\quad\n",
    "u_2 = \\begin{bmatrix}\n",
    "\\frac{\\sqrt{3}}{6}\\\\\\frac{\\sqrt{3}}{6}\\\\\\frac{\\sqrt{3}}{6}\\\\-\\frac{\\sqrt{3}}{2}\n",
    "\\end{bmatrix}\n",
    "\\quad\n",
    "u_3 = \\begin{bmatrix}\n",
    "\\frac{\\sqrt{6}}{6}\\\\\\frac{\\sqrt{6}}{6}\\\\-\\frac{\\sqrt{6}}{3}\\\\0\n",
    "\\end{bmatrix}\n",
    "\\quad\n",
    "u_4 = \\begin{bmatrix}\n",
    "\\frac{\\sqrt{2}}{2}\\\\-\\frac{\\sqrt{2}}{2}\\\\0\\\\0\n",
    "\\end{bmatrix}\n",
    "$"
   ]
  },
  {
   "cell_type": "markdown",
   "metadata": {},
   "source": [
    "#### Answer:\n",
    "\n",
    "\\begin{align}\n",
    "    u_1 = \\begin{bmatrix}\n",
    "            \\frac{1}{2}\\\\\\frac{1}{2}\\\\\\frac{1}{2}\\\\\\frac{1}{2}\n",
    "        \\end{bmatrix} \\quad , \\quad\n",
    "    u_2 = \\begin{bmatrix}\n",
    "            \\frac{\\sqrt{3}}{6}\\\\\\frac{\\sqrt{3}}{6}\\\\\\frac{\\sqrt{3}}{6}\\\\-\\frac{\\sqrt{3}}{2}\n",
    "        \\end{bmatrix} \\quad , \\quad\n",
    "    u_3 = \\begin{bmatrix}\n",
    "            \\frac{\\sqrt{6}}{6}\\\\\\frac{\\sqrt{6}}{6}\\\\-\\frac{\\sqrt{6}}{3}\\\\0\n",
    "        \\end{bmatrix} \\quad , \\quad\n",
    "    u_4 = \\begin{bmatrix}\n",
    "            \\frac{\\sqrt{2}}{2}\\\\-\\frac{\\sqrt{2}}{2}\\\\0\\\\0\n",
    "        \\end{bmatrix}\n",
    "\\end{align}"
   ]
  },
  {
   "cell_type": "code",
   "execution_count": 2,
   "metadata": {},
   "outputs": [],
   "source": []
  },
  {
   "cell_type": "code",
   "execution_count": 5,
   "metadata": {},
   "outputs": [],
   "source": [
    "import numpy as np\n",
    "\n",
    "def project(v, u):\n",
    "    return np.dot(u,v)/(np.linalg.norm(u)**2)*u\n",
    "\n",
    "def gram_schmidt(*vectors, normalize=True):\n",
    "    if not all([len(x)==len(vectors) for x in vectors]):\n",
    "        raise ValueError(\"The input must be n numpy.ndarray of length n each\")\n",
    "    \n",
    "    u_vectors = [None]*len(vectors)\n",
    "    \n",
    "    for j in range(len(vectors)):\n",
    "        u_vectors[j] = vectors[j]\n",
    "        \n",
    "        for k in range(j):\n",
    "            u_vectors[j] = u_vectors[j] - project(vectors[j], u_vectors[k])\n",
    "    \n",
    "    if normalize:\n",
    "        u_vectors = [u/np.linalg.norm(u) for u in u_vectors]\n",
    "        \n",
    "    return u_vectors"
   ]
  },
  {
   "cell_type": "code",
   "execution_count": 8,
   "metadata": {},
   "outputs": [
    {
     "data": {
      "text/plain": [
       "[array([0.4472136 , 0.89442719]), array([ 0.89442719, -0.4472136 ])]"
      ]
     },
     "execution_count": 8,
     "metadata": {},
     "output_type": "execute_result"
    }
   ],
   "source": [
    "gram_schmidt(np.array([1,2]),np.array([2,3]))"
   ]
  }
 ],
 "metadata": {
  "kernelspec": {
   "display_name": "Python 3",
   "language": "python",
   "name": "python3"
  },
  "language_info": {
   "codemirror_mode": {
    "name": "ipython",
    "version": 3
   },
   "file_extension": ".py",
   "mimetype": "text/x-python",
   "name": "python",
   "nbconvert_exporter": "python",
   "pygments_lexer": "ipython3",
   "version": "3.7.7"
  },
  "toc": {
   "base_numbering": 1,
   "nav_menu": {},
   "number_sections": true,
   "sideBar": true,
   "skip_h1_title": false,
   "title_cell": "Table of Contents",
   "title_sidebar": "Contents",
   "toc_cell": false,
   "toc_position": {},
   "toc_section_display": true,
   "toc_window_display": false
  },
  "varInspector": {
   "cols": {
    "lenName": 16,
    "lenType": 16,
    "lenVar": 40
   },
   "kernels_config": {
    "python": {
     "delete_cmd_postfix": "",
     "delete_cmd_prefix": "del ",
     "library": "var_list.py",
     "varRefreshCmd": "print(var_dic_list())"
    },
    "r": {
     "delete_cmd_postfix": ") ",
     "delete_cmd_prefix": "rm(",
     "library": "var_list.r",
     "varRefreshCmd": "cat(var_dic_list()) "
    }
   },
   "types_to_exclude": [
    "module",
    "function",
    "builtin_function_or_method",
    "instance",
    "_Feature"
   ],
   "window_display": false
  }
 },
 "nbformat": 4,
 "nbformat_minor": 2
}
