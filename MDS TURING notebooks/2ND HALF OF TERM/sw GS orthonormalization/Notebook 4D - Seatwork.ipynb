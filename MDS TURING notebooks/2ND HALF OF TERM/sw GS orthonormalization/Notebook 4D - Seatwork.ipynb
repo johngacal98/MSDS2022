{
 "cells": [
  {
   "cell_type": "markdown",
   "metadata": {},
   "source": [
    "## Notebook 4D: Seatwork\n",
    "\n",
    "<b>Instructions:</b> Submit your answers by <b>LT</b>."
   ]
  },
  {
   "cell_type": "markdown",
   "metadata": {},
   "source": [
    "#### Q1.\n",
    "\n",
    "Convert the following vectors into an orthonormal basis:\n",
    "\n",
    "\\begin{align}\n",
    "    v_1 = \\begin{bmatrix}\n",
    "            2\\\\\n",
    "            -1\\\\\n",
    "            0\n",
    "        \\end{bmatrix} \\quad , \\quad\n",
    "    v_2 = \\begin{bmatrix}\n",
    "            1\\\\\n",
    "            0\\\\\n",
    "            -1\n",
    "        \\end{bmatrix} \\quad , \\quad\n",
    "    v_3 = \\begin{bmatrix}\n",
    "            3\\\\\n",
    "            7\\\\\n",
    "            -1\n",
    "        \\end{bmatrix}\n",
    "\\end{align}"
   ]
  },
  {
   "cell_type": "markdown",
   "metadata": {},
   "source": [
    "#### Answer:\n",
    "\n",
    "\\begin{align}\n",
    "    u_1 = \\begin{bmatrix}\n",
    "            0\\\\\n",
    "            0\\\\\n",
    "            0\n",
    "        \\end{bmatrix} \\quad , \\quad\n",
    "    u_2 = \\begin{bmatrix}\n",
    "            0\\\\\n",
    "            0\\\\\n",
    "            0\n",
    "        \\end{bmatrix} \\quad , \\quad\n",
    "    u_3 = \\begin{bmatrix}\n",
    "            0\\\\\n",
    "            0\\\\\n",
    "            0\n",
    "        \\end{bmatrix}\n",
    "\\end{align}"
   ]
  },
  {
   "cell_type": "markdown",
   "metadata": {},
   "source": [
    "#### Q2.\n",
    "\n",
    "Convert the following vectors into an orthonormal basis:\n",
    "\n",
    "\\begin{align}\n",
    "    v_1 = \\begin{bmatrix}\n",
    "            1\\\\\n",
    "            1\\\\\n",
    "            1\\\\\n",
    "            1\n",
    "        \\end{bmatrix} \\quad , \\quad\n",
    "    v_2 = \\begin{bmatrix}\n",
    "            1\\\\\n",
    "            1\\\\\n",
    "            1\\\\\n",
    "            0\n",
    "        \\end{bmatrix} \\quad , \\quad\n",
    "    v_3 = \\begin{bmatrix}\n",
    "            1\\\\\n",
    "            1\\\\\n",
    "            0\\\\\n",
    "            0\n",
    "        \\end{bmatrix} \\quad , \\quad\n",
    "    v_4 = \\begin{bmatrix}\n",
    "            1\\\\\n",
    "            0\\\\\n",
    "            0\\\\\n",
    "            0\n",
    "        \\end{bmatrix}\n",
    "\\end{align}"
   ]
  },
  {
   "cell_type": "markdown",
   "metadata": {},
   "source": [
    "#### Answer:\n",
    "\n",
    "\\begin{align}\n",
    "    u_1 = \\begin{bmatrix}\n",
    "            0\\\\\n",
    "            0\\\\\n",
    "            0\\\\\n",
    "            0\n",
    "        \\end{bmatrix} \\quad , \\quad\n",
    "    u_2 = \\begin{bmatrix}\n",
    "            0\\\\\n",
    "            0\\\\\n",
    "            0\\\\\n",
    "            0\n",
    "        \\end{bmatrix} \\quad , \\quad\n",
    "    u_3 = \\begin{bmatrix}\n",
    "            0\\\\\n",
    "            0\\\\\n",
    "            0\\\\\n",
    "            0\n",
    "        \\end{bmatrix} \\quad , \\quad\n",
    "    u_4 = \\begin{bmatrix}\n",
    "            0\\\\\n",
    "            0\\\\\n",
    "            0\\\\\n",
    "            0\n",
    "        \\end{bmatrix}\n",
    "\\end{align}"
   ]
  },
  {
   "cell_type": "code",
   "execution_count": null,
   "metadata": {},
   "outputs": [],
   "source": []
  }
 ],
 "metadata": {
  "kernelspec": {
   "display_name": "Python 3",
   "language": "python",
   "name": "python3"
  },
  "language_info": {
   "codemirror_mode": {
    "name": "ipython",
    "version": 3
   },
   "file_extension": ".py",
   "mimetype": "text/x-python",
   "name": "python",
   "nbconvert_exporter": "python",
   "pygments_lexer": "ipython3",
   "version": "3.7.7"
  }
 },
 "nbformat": 4,
 "nbformat_minor": 2
}
