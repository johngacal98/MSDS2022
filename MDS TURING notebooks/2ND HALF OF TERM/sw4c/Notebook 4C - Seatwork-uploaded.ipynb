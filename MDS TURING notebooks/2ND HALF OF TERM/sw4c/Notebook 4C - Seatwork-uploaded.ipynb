{
 "cells": [
  {
   "cell_type": "markdown",
   "metadata": {},
   "source": [
    "## Notebook 4C: Seatwork\n",
    "\n",
    "<b>Instructions:</b> Submit your answers by <b>LT</b>.\n",
    "\n",
    "LT Number: 10\n",
    "\n",
    "Names:\\\n",
    "&emsp;Janica Lae Batang\\\n",
    "&emsp;Mary Honeylie Buitre\\\n",
    "&emsp;Paolo Jose de Guzman\\\n",
    "&emsp;John Francis Gacal\\\n",
    "&emsp;Vincent John Rivera"
   ]
  },
  {
   "cell_type": "markdown",
   "metadata": {},
   "source": [
    "### Q1.\n",
    "\n",
    "#### (a) Compute the eigenvalues and eigenvector of the matrix\n",
    "\n",
    "\\begin{align}\n",
    "    A = \\begin{bmatrix}\n",
    "            6 & 16 \\\\\n",
    "            -1 & -4\n",
    "        \\end{bmatrix}\n",
    "\\end{align}"
   ]
  },
  {
   "cell_type": "markdown",
   "metadata": {},
   "source": [
    "#### Answer:\n",
    "\\begin{align}\n",
    "\\text{det}(A - \\lambda I) = \n",
    "\\text{det}\\bigg(\n",
    "\\begin{bmatrix}\n",
    "6-\\lambda & 16 \\\\\n",
    "-1 & -4-\\lambda\n",
    "\\end{bmatrix}\n",
    "\\bigg) = 0\n",
    "\\end{align}\n",
    "\\\n",
    "Solution:\n",
    "\\begin{align}\n",
    "\\lambda^2 - 2 \\lambda - 8 = 0\n",
    "\\end{align}\n",
    "\n",
    "\\\n",
    "\\begin{align}\n",
    "    \\lambda_1 = 4 \\quad &, \\quad\n",
    "    v_1 = \\begin{bmatrix}\n",
    "            1\\\\\n",
    "            -\\frac{1}{8}\n",
    "        \\end{bmatrix}\n",
    "\\end{align}\n",
    "\n",
    "\\begin{align}\n",
    "    \\lambda_2 = -2 \\quad &, \\quad\n",
    "    v_2 = \\begin{bmatrix}\n",
    "            1\\\\\n",
    "            -\\frac{1}{2}\n",
    "        \\end{bmatrix}\n",
    "\\end{align}"
   ]
  },
  {
   "cell_type": "code",
   "execution_count": 4,
   "metadata": {
    "ExecuteTime": {
     "end_time": "2021-05-22T05:09:15.915069Z",
     "start_time": "2021-05-22T05:09:15.897078Z"
    }
   },
   "outputs": [
    {
     "name": "stdout",
     "output_type": "stream",
     "text": [
      "v1\n",
      " [[ 0.99227788]\n",
      " [-0.12403473]] \n",
      "\n",
      "v2\n",
      " [[ 0.99227788]\n",
      " [-0.49613894]]\n"
     ]
    }
   ],
   "source": [
    "#Checking answers through normalization\n",
    "v1 = np.array([[1],\n",
    "               [-1/8]])\n",
    "norm_v1 = np.sqrt(v1[0]**2 + v1[1]**2)\n",
    "normal_v1 = v1 / norm_v1\n",
    "print('v1\\n',normal_v1,'\\n')\n",
    "\n",
    "v2 = np.array([[1],\n",
    "               [-1/2]])\n",
    "norm_v2 = np.sqrt(v1[0]**2 + v1[1]**2)\n",
    "normal_v2 = v2 / norm_v2\n",
    "print('v2\\n',normal_v2)"
   ]
  },
  {
   "cell_type": "code",
   "execution_count": 1,
   "metadata": {
    "ExecuteTime": {
     "end_time": "2021-05-22T02:08:05.633022Z",
     "start_time": "2021-05-22T02:08:05.556529Z"
    }
   },
   "outputs": [
    {
     "name": "stdout",
     "output_type": "stream",
     "text": [
      "(array([ 4., -2.]), array([[ 0.99227788, -0.89442719],\n",
      "       [-0.12403473,  0.4472136 ]]))\n"
     ]
    }
   ],
   "source": [
    "# You may use numpy to check your answer\n",
    "\n",
    "import numpy as np\n",
    "\n",
    "A = np.array([[6, 16],\n",
    "             [-1, -4]])\n",
    "print(np.linalg.eig(A))"
   ]
  },
  {
   "cell_type": "markdown",
   "metadata": {},
   "source": [
    "#### (b) Compute the eigenvalues and eigenvector of the matrix\n",
    "\n",
    "\\begin{align}\n",
    "    A = \\begin{bmatrix}\n",
    "            4 & 0 & 1 \\\\\n",
    "            -1 & -6 & -2 \\\\\n",
    "            5 & 0 & 0\n",
    "        \\end{bmatrix}\n",
    "\\end{align}\n",
    "\n",
    "Once you have set up the characteristic polynomial, you can use the Newton-Raphson method to solve for all 3 roots."
   ]
  },
  {
   "cell_type": "code",
   "execution_count": 36,
   "metadata": {
    "ExecuteTime": {
     "end_time": "2021-05-22T03:09:42.278797Z",
     "start_time": "2021-05-22T03:09:42.250793Z"
    }
   },
   "outputs": [
    {
     "name": "stdout",
     "output_type": "stream",
     "text": [
      "Initial guess of x_k = 1\n",
      "k = 0 -- -- x_k[0] = 1.0000 -- -- f(x_k) = 56.0000\n",
      "k = 1 -- -- x_k[0] = -1.5455 -- -- f(x_k) = -15.9038\n",
      "k = 2 -- -- x_k[0] = -0.9778 -- -- f(x_k) = 0.6666\n",
      "k = 3 -- -- x_k[0] = -1.0000 -- -- f(x_k) = 0.0005\n",
      "k = 4 -- -- x_k[0] = -1.0000 -- -- f(x_k) = 0.0000\n",
      "k = 5 -- -- x_k[0] = -1.0000 -- -- f(x_k) = 0.0000\n",
      "\n",
      "\n",
      "Initial guess of x_k = 2\n",
      "k = 0 -- -- x_k[0] = 2.0000 -- -- f(x_k) = 72.0000\n",
      "k = 1 -- -- x_k[0] = -6.0000 -- -- f(x_k) = 0.0000\n",
      "k = 2 -- -- x_k[0] = -6.0000 -- -- f(x_k) = 0.0000\n",
      "k = 3 -- -- x_k[0] = -6.0000 -- -- f(x_k) = 0.0000\n",
      "k = 4 -- -- x_k[0] = -6.0000 -- -- f(x_k) = 0.0000\n",
      "k = 5 -- -- x_k[0] = -6.0000 -- -- f(x_k) = 0.0000\n",
      "\n",
      "\n",
      "Initial guess of x_k = 3\n",
      "k = 0 -- -- x_k[0] = 3.0000 -- -- f(x_k) = 72.0000\n",
      "k = 1 -- -- x_k[0] = 10.2000 -- -- f(x_k) = -943.4880\n",
      "k = 2 -- -- x_k[0] = 7.2873 -- -- f(x_k) = -251.8649\n",
      "k = 3 -- -- x_k[0] = 5.7078 -- -- f(x_k) = -55.5878\n",
      "k = 4 -- -- x_k[0] = 5.1008 -- -- f(x_k) = -6.8237\n",
      "k = 5 -- -- x_k[0] = 5.0025 -- -- f(x_k) = -0.1661\n",
      "k = 6 -- -- x_k[0] = 5.0000 -- -- f(x_k) = -0.0001\n",
      "k = 7 -- -- x_k[0] = 5.0000 -- -- f(x_k) = -0.0000\n",
      "k = 8 -- -- x_k[0] = 5.0000 -- -- f(x_k) = 0.0000\n",
      "k = 9 -- -- x_k[0] = 5.0000 -- -- f(x_k) = 0.0000\n"
     ]
    }
   ],
   "source": [
    "# Insert Newton-Raphson method here\n",
    "def f(x):\n",
    "    return -x**3 - 2*x**2 + 29*x + 30\n",
    "\n",
    "def df(x):\n",
    "    return -3*x**2 - 4*x + 29\n",
    "\n",
    "x_k = 1\n",
    "print('Initial guess of x_k =', x_k)\n",
    "for k in range(6):\n",
    "    print('k = %d --' %k, '-- x_k[0] = %.4f --' %x_k, '-- f(x_k) = %.4f' %f(x_k))\n",
    "    x_k = x_k - f(x_k)/df(x_k)\n",
    "    \n",
    "print('\\n')\n",
    "x_k = 2  \n",
    "print('Initial guess of x_k =', x_k)\n",
    "for k in range(6):\n",
    "    print('k = %d --' %k, '-- x_k[0] = %.4f --' %x_k, '-- f(x_k) = %.4f' %f(x_k))\n",
    "    x_k = x_k - f(x_k)/df(x_k)    \n",
    "\n",
    "print('\\n')\n",
    "x_k = 3\n",
    "print('Initial guess of x_k =', x_k)\n",
    "for k in range(10):\n",
    "    print('k = %d --' %k, '-- x_k[0] = %.4f --' %x_k, '-- f(x_k) = %.4f' %f(x_k))\n",
    "    x_k = x_k - f(x_k)/df(x_k) "
   ]
  },
  {
   "cell_type": "markdown",
   "metadata": {},
   "source": [
    "#### Answer:\n",
    "\n",
    "\\begin{align}\n",
    "\\text{det}(A - \\lambda I) = \n",
    "\\text{det}\\Bigg(\n",
    "\\begin{bmatrix}\n",
    "4-\\lambda & 0 & 1 \\\\\n",
    "-1 & -6-\\lambda & -2 \\\\\n",
    "5 & 0 & -\\lambda\n",
    "\\end{bmatrix}\n",
    "\\Bigg) = 0\n",
    "\\end{align}\n",
    "\n",
    "\n",
    "\\begin{align}\n",
    "\\begin{vmatrix}\n",
    "4-\\lambda & 0 & 1 \\\\\n",
    "-1 & -6-\\lambda & -2 \\\\\n",
    "5 & 0 & -\\lambda\n",
    "\\end{vmatrix}\n",
    "= (-6-\\lambda)(-1)^{2+2}\n",
    "\\begin{vmatrix}\n",
    "4-\\lambda & 1 \\\\\n",
    "5 & -\\lambda\n",
    "\\end{vmatrix}\n",
    "= (-\\lambda -6)(\\lambda^2 -4\\lambda -5)\n",
    "\\end{align}\n",
    "\n",
    "Solution:\n",
    "\\begin{align}\n",
    "-\\lambda^3-2\\lambda^2 + 29\\lambda +30 = 0\n",
    "\\end{align}\n",
    "\n",
    "\n",
    "\\begin{align}\n",
    "    \\lambda_1 = -1 \\quad &, \\quad\n",
    "    v_1 = \\begin{bmatrix}\n",
    "            1\\\\\n",
    "            \\frac{9}{5}\\\\\n",
    "            -5\n",
    "        \\end{bmatrix}\n",
    "\\end{align}\n",
    "\n",
    "\\begin{align}\n",
    "    \\lambda_2 = -6 \\quad &, \\quad\n",
    "    v_2 = \\begin{bmatrix}\n",
    "            0\\\\\n",
    "            1\\\\\n",
    "            0\n",
    "        \\end{bmatrix}\n",
    "\\end{align}\n",
    "\n",
    "\\begin{align}\n",
    "    \\lambda_3 = 5 \\quad &, \\quad\n",
    "    v_3 = \\begin{bmatrix}\n",
    "            1\\\\\n",
    "            -\\frac{3}{11}\\\\\n",
    "            1\n",
    "        \\end{bmatrix}\n",
    "\\end{align}"
   ]
  },
  {
   "cell_type": "code",
   "execution_count": 7,
   "metadata": {
    "ExecuteTime": {
     "end_time": "2021-05-22T05:10:35.444714Z",
     "start_time": "2021-05-22T05:10:35.435121Z"
    }
   },
   "outputs": [
    {
     "name": "stdout",
     "output_type": "stream",
     "text": [
      "v1\n",
      " [[ 0.18493168]\n",
      " [ 0.33287702]\n",
      " [-0.9246584 ]] \n",
      "\n",
      "v2\n",
      " [[0.]\n",
      " [1.]\n",
      " [0.]] \n",
      "\n",
      "v3\n",
      " [[ 0.69431384]\n",
      " [-0.18935832]\n",
      " [ 0.69431384]]\n"
     ]
    }
   ],
   "source": [
    "#Checking answers through normalization\n",
    "v1 = np.array([[1],\n",
    "               [9/5],\n",
    "               [-5]])\n",
    "norm_v1 = np.sqrt(v1[0]**2 + v1[1]**2 + v1[2]**2)\n",
    "normal_v1 = v1 / norm_v1\n",
    "print('v1\\n',normal_v1,'\\n')\n",
    "\n",
    "v2 = np.array([[0],\n",
    "               [1],\n",
    "               [0]])\n",
    "norm_v2 = np.sqrt(v2[0]**2 + v2[1]**2 + v2[2]**2)\n",
    "normal_v2 = v2 / norm_v2\n",
    "print('v2\\n',normal_v2,'\\n')\n",
    "\n",
    "v3 = np.array([[1],\n",
    "               [-3/11],\n",
    "               [1]])\n",
    "norm_v3 = np.sqrt(v3[0]**2 + v3[1]**2 + v3[2]**2)\n",
    "normal_v3 = v3 / norm_v3\n",
    "print('v3\\n',normal_v3)"
   ]
  },
  {
   "cell_type": "code",
   "execution_count": 24,
   "metadata": {
    "ExecuteTime": {
     "end_time": "2021-05-22T03:05:29.807982Z",
     "start_time": "2021-05-22T03:05:29.788982Z"
    }
   },
   "outputs": [
    {
     "name": "stdout",
     "output_type": "stream",
     "text": [
      "(array([-6.,  5., -1.]), array([[ 0.        ,  0.69431384, -0.18493168],\n",
      "       [ 1.        , -0.18935832, -0.33287702],\n",
      "       [ 0.        ,  0.69431384,  0.9246584 ]]))\n"
     ]
    }
   ],
   "source": [
    "# You may use numpy to check your answer\n",
    "import numpy as np\n",
    "\n",
    "A = np.array([[4, 0, 1],\n",
    "             [-1, -6, -2],\n",
    "             [5, 0, 0]])\n",
    "print(np.linalg.eig(A))"
   ]
  }
 ],
 "metadata": {
  "kernelspec": {
   "display_name": "Python 3",
   "language": "python",
   "name": "python3"
  },
  "language_info": {
   "codemirror_mode": {
    "name": "ipython",
    "version": 3
   },
   "file_extension": ".py",
   "mimetype": "text/x-python",
   "name": "python",
   "nbconvert_exporter": "python",
   "pygments_lexer": "ipython3",
   "version": "3.7.7"
  },
  "toc": {
   "base_numbering": 1,
   "nav_menu": {},
   "number_sections": true,
   "sideBar": true,
   "skip_h1_title": false,
   "title_cell": "Table of Contents",
   "title_sidebar": "Contents",
   "toc_cell": false,
   "toc_position": {},
   "toc_section_display": true,
   "toc_window_display": false
  },
  "varInspector": {
   "cols": {
    "lenName": 16,
    "lenType": 16,
    "lenVar": 40
   },
   "kernels_config": {
    "python": {
     "delete_cmd_postfix": "",
     "delete_cmd_prefix": "del ",
     "library": "var_list.py",
     "varRefreshCmd": "print(var_dic_list())"
    },
    "r": {
     "delete_cmd_postfix": ") ",
     "delete_cmd_prefix": "rm(",
     "library": "var_list.r",
     "varRefreshCmd": "cat(var_dic_list()) "
    }
   },
   "types_to_exclude": [
    "module",
    "function",
    "builtin_function_or_method",
    "instance",
    "_Feature"
   ],
   "window_display": false
  }
 },
 "nbformat": 4,
 "nbformat_minor": 2
}
