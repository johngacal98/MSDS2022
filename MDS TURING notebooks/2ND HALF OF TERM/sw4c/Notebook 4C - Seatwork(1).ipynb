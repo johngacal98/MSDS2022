{
 "cells": [
  {
   "cell_type": "markdown",
   "metadata": {},
   "source": [
    "## Notebook 4C: Seatwork\n",
    "\n",
    "<b>Instructions:</b> Submit your answers by <b>LT</b>."
   ]
  },
  {
   "cell_type": "markdown",
   "metadata": {},
   "source": [
    "### Q1.\n",
    "\n",
    "#### (a) Compute the eigenvalues and eigenvector of the matrix\n",
    "\n",
    "\\begin{align}\n",
    "    A = \\begin{bmatrix}\n",
    "            6 & 16 \\\\\n",
    "            -1 & -4\n",
    "        \\end{bmatrix}\n",
    "\\end{align}"
   ]
  },
  {
   "cell_type": "markdown",
   "metadata": {},
   "source": [
    "#### Answer:\n",
    "\n",
    "\\begin{align}\n",
    "    \\lambda_1 = 0 \\quad &, \\quad\n",
    "    v_1 = \\begin{bmatrix}\n",
    "            0\\\\\n",
    "            0\n",
    "        \\end{bmatrix}\n",
    "\\end{align}\n",
    "\n",
    "\\begin{align}\n",
    "    \\lambda_2 = 0 \\quad &, \\quad\n",
    "    v_2 = \\begin{bmatrix}\n",
    "            0\\\\\n",
    "            0\n",
    "        \\end{bmatrix}\n",
    "\\end{align}"
   ]
  },
  {
   "cell_type": "code",
   "execution_count": 4,
   "metadata": {},
   "outputs": [
    {
     "name": "stdout",
     "output_type": "stream",
     "text": [
      "(array([ 4., -2.]), array([[ 0.99227788, -0.89442719],\n",
      "       [-0.12403473,  0.4472136 ]]))\n"
     ]
    }
   ],
   "source": [
    "# You may use numpy to check your answer\n",
    "\n",
    "import numpy as np\n",
    "\n",
    "A = np.array([[6, 16],\n",
    "             [-1, -4]])\n",
    "\n",
    "print(np.linalg.eig(A))"
   ]
  },
  {
   "cell_type": "markdown",
   "metadata": {},
   "source": [
    "#### (b) Compute the eigenvalues and eigenvector of the matrix\n",
    "\n",
    "\\begin{align}\n",
    "    A = \\begin{bmatrix}\n",
    "            4 & 0 & 1 \\\\\n",
    "            -1 & -6 & -2 \\\\\n",
    "            5 & 0 & 0\n",
    "        \\end{bmatrix}\n",
    "\\end{align}\n",
    "\n",
    "Once you have set up the characteristic polynomial, you can use the Newton-Raphson method to solve for all 3 roots."
   ]
  },
  {
   "cell_type": "code",
   "execution_count": null,
   "metadata": {},
   "outputs": [],
   "source": [
    "# Insert Newton-Raphson method here"
   ]
  },
  {
   "cell_type": "markdown",
   "metadata": {},
   "source": [
    "#### Answer:\n",
    "\n",
    "\\begin{align}\n",
    "    \\lambda_1 = 0 \\quad &, \\quad\n",
    "    v_1 = \\begin{bmatrix}\n",
    "            0\\\\\n",
    "            0\\\\\n",
    "            0\n",
    "        \\end{bmatrix}\n",
    "\\end{align}\n",
    "\n",
    "\\begin{align}\n",
    "    \\lambda_2 = 0 \\quad &, \\quad\n",
    "    v_2 = \\begin{bmatrix}\n",
    "            0\\\\\n",
    "            0\\\\\n",
    "            0\n",
    "        \\end{bmatrix}\n",
    "\\end{align}\n",
    "\n",
    "\\begin{align}\n",
    "    \\lambda_3 = 0 \\quad &, \\quad\n",
    "    v_3 = \\begin{bmatrix}\n",
    "            0\\\\\n",
    "            0\\\\\n",
    "            0\n",
    "        \\end{bmatrix}\n",
    "\\end{align}"
   ]
  },
  {
   "cell_type": "code",
   "execution_count": 5,
   "metadata": {},
   "outputs": [
    {
     "name": "stdout",
     "output_type": "stream",
     "text": [
      "(array([-6.,  5., -1.]), array([[ 0.        ,  0.69431384, -0.18493168],\n",
      "       [ 1.        , -0.18935832, -0.33287702],\n",
      "       [ 0.        ,  0.69431384,  0.9246584 ]]))\n"
     ]
    }
   ],
   "source": [
    "# You may use numpy to check your answer\n",
    "\n",
    "import numpy as np\n",
    "\n",
    "A = np.array([[4, 0, 1],\n",
    "             [-1, -6, -2],\n",
    "             [5, 0, 0]])\n",
    "\n",
    "print(np.linalg.eig(A))"
   ]
  }
 ],
 "metadata": {
  "kernelspec": {
   "display_name": "Python 3",
   "language": "python",
   "name": "python3"
  },
  "language_info": {
   "codemirror_mode": {
    "name": "ipython",
    "version": 3
   },
   "file_extension": ".py",
   "mimetype": "text/x-python",
   "name": "python",
   "nbconvert_exporter": "python",
   "pygments_lexer": "ipython3",
   "version": "3.7.7"
  }
 },
 "nbformat": 4,
 "nbformat_minor": 2
}
