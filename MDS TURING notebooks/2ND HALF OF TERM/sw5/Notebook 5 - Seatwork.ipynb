{
 "cells": [
  {
   "cell_type": "markdown",
   "metadata": {},
   "source": [
    "## Notebook 5: Seatwork\n",
    "\n",
    "<b>Instructions:</b> Submit your answers by <b>LT</b>."
   ]
  },
  {
   "cell_type": "markdown",
   "metadata": {},
   "source": [
    "For this seatwork, we will be applying the methods we learned to solve systems of equations to constrained optimization problems.\n",
    "\n",
    "Use the method of Lagrange multipliers to solve the following constrained optimization problem.\n",
    "\n",
    "\\begin{equation}\n",
    "    \\min_\\mathbf{x} f(\\mathbf{x}) = 81x_1^2 + x_2^2\n",
    "\\end{equation}\n",
    "\n",
    "subject to\n",
    "\n",
    "\\begin{align}\n",
    "    4x_1^2 + x_2^2 &= 9\n",
    "\\end{align}\n",
    "\n",
    "#### Q1.\n",
    "\n",
    "Setup the Langrangian function and the system of first order conditions."
   ]
  },
  {
   "cell_type": "markdown",
   "metadata": {},
   "source": [
    "#### Answer.\n",
    "\n",
    "\\begin{align}\n",
    "    \\mathcal{L}(\\mathbf{x}, \\lambda) &= ?\n",
    "\\end{align}\n",
    "\n",
    "\\begin{align}\n",
    "    \\frac{\\partial \\mathcal{L}}{\\partial x_1} &= ? = 0\\\\\n",
    "    \\frac{\\partial \\mathcal{L}}{\\partial x_2} &= ? = 0\\\\\n",
    "    \\frac{\\partial \\mathcal{L}}{\\partial \\lambda} &= ? = 0\\\\\n",
    "\\end{align}"
   ]
  },
  {
   "cell_type": "markdown",
   "metadata": {},
   "source": [
    "#### Q2.\n",
    "\n",
    "Find the optimums of $f(x)$ by solving the above system of nonlinear equations using the Newton-Raphson method.\n",
    "\n",
    "<i>Hint</i>: There are 2 maximums and 2 minimums. You'll have to experiment with different initial guesses to find them."
   ]
  },
  {
   "cell_type": "code",
   "execution_count": 1,
   "metadata": {},
   "outputs": [],
   "source": [
    "import numpy as np"
   ]
  },
  {
   "cell_type": "code",
   "execution_count": 39,
   "metadata": {},
   "outputs": [
    {
     "name": "stdout",
     "output_type": "stream",
     "text": [
      "k = 0 -- -- x_k[0] = -10.000000 -- -- x_k[1] = 10.000000 -- -- x_k[2] = 10.000000 -- -- f(x_k) = [-820 -180  491]\n",
      "k = 1 -- -- x_k[0] = -8.895146 -- -- x_k[1] = -10.130583 -- -- x_k[2] = 19.117524 -- -- f(x_k) = [-80.5882922  367.08214954 410.12316547]\n",
      "k = 2 -- -- x_k[0] = -6.140714 -- -- x_k[1] = 0.437150 -- -- x_k[2] = 19.899322 -- -- f(x_k) = [-17.22728093 -16.52366859 142.02455047]\n",
      "k = 3 -- -- x_k[0] = -3.257527 -- -- x_k[1] = -0.004303 -- -- x_k[2] = 20.085350 -- -- f(x_k) = [-4.29081537  0.16424464 33.44594265]\n",
      "k = 4 -- -- x_k[0] = -1.974118 -- -- x_k[1] = 0.000022 -- -- x_k[2] = 20.185131 -- -- f(x_k) = [-1.02447635e+00 -8.63182639e-04  6.58856998e+00]\n",
      "k = 5 -- -- x_k[0] = -1.556934 -- -- x_k[1] = -0.000000 -- -- x_k[2] = 20.236291 -- -- f(x_k) = [-1.70747293e-01  2.30797087e-06  6.96171209e-01]\n",
      "k = 6 -- -- x_k[0] = -1.501041 -- -- x_k[1] = 0.000000 -- -- x_k[2] = 20.249508 -- -- f(x_k) = [-5.90965354e-03 -1.58680429e-09  1.24960240e-02]\n",
      "k = 7 -- -- x_k[0] = -1.500000 -- -- x_k[1] = -0.000000 -- -- x_k[2] = 20.250000 -- -- f(x_k) = [-4.09409205e-06  4.05408763e-14  4.33150303e-06]\n",
      "k = 8 -- -- x_k[0] = -1.500000 -- -- x_k[1] = 0.000000 -- -- x_k[2] = 20.250000 -- -- f(x_k) = [-1.02318154e-12 -7.18519505e-22  5.22248911e-13]\n",
      "k = 9 -- -- x_k[0] = -1.500000 -- -- x_k[1] = -0.000000 -- -- x_k[2] = 20.250000 -- -- f(x_k) = [0.00000000e+00 3.16795728e-36 0.00000000e+00]\n"
     ]
    }
   ],
   "source": [
    "# Insert code here\n",
    "def f(x):\n",
    "    return np.array([162*x[0]-8*x[2]*x[0], 2*x[1]-2*x[2]*x[1] ,(4*x[0]**2)+(x[1]**2)-9])\n",
    "\n",
    "def f_jacob(x):\n",
    "    return np.array([\n",
    "        [162-8*x[2], 0, -8*x[0]],\n",
    "        [0, 2-2*x[2], -2*x[1]],\n",
    "        [8*x[0], 2*x[1], 0]\n",
    "    ])\n",
    "\n",
    "x_k = np.array([-10,10,10]) #x1,x2,L\n",
    "\n",
    "for k in range(0,10):\n",
    "    print(\"k = %d --\" %k,\"-- x_k[0] = %.6f --\" %x_k[0],\"-- x_k[1] = %.6f --\" %x_k[1],\"-- x_k[2] = %.6f --\" %x_k[2], \"-- f(x_k) =\", f(x_k))\n",
    "    x_k = x_k - np.matmul(np.linalg.inv(f_jacob(x_k)), f(x_k))"
   ]
  },
  {
   "cell_type": "code",
   "execution_count": 33,
   "metadata": {},
   "outputs": [
    {
     "name": "stdout",
     "output_type": "stream",
     "text": [
      "x1 , x2 , Lambda\n",
      "[0, 3, 1]\n",
      "\n",
      "answer: 9\n",
      "\n",
      "x1 , x2 , Lambda\n",
      "[0, -3, 1]\n",
      "\n",
      "answer: 9\n",
      "\n",
      "x1 , x2 , Lambda\n",
      "[-1.5, 0, 20.25]\n",
      "\n",
      "answer: 182.25\n",
      "\n",
      "x1 , x2 , Lambda\n",
      "[1.5, 0, 20.25]\n",
      "\n",
      "answer: 182.25\n",
      "\n"
     ]
    }
   ],
   "source": [
    "ans = [\n",
    "    [0,3,1],\n",
    "    [0,-3,1],\n",
    "    [-1.5,0,20.25],\n",
    "    [1.5,0,20.25]\n",
    "]\n",
    "\n",
    "\n",
    "def ef(x):\n",
    "    for i in x:\n",
    "        print('x1 , x2 , Lambda')\n",
    "        print([a for a in i])\n",
    "        answer = 81*(i[0]**2) + i[1]**2\n",
    "        print(f'\\nanswer: {answer}\\n')\n",
    "    return \n",
    "\n",
    "ef(ans)\n"
   ]
  },
  {
   "cell_type": "markdown",
   "metadata": {},
   "source": [
    "#### Answer.\n",
    "\n",
    "\\begin{align}\n",
    "    \\mathbf{x}_{\\text{max}}^* = (?, ?) \\quad &, \\quad \\mathbf{x}_{\\text{max}}^* = (?, ?)\\\\\n",
    "    \\mathbf{x}_{\\text{min}}^* = (?, ?) \\quad &, \\quad \\mathbf{x}_{\\text{min}}^* = (?, ?)\n",
    "\\end{align}\n",
    "\n",
    "\\begin{align}\n",
    "    f(\\mathbf{x}_{\\text{max}}^*) &= ? \\\\\n",
    "    f(\\mathbf{x}_{\\text{min}}^*) &= ? \\\\\n",
    "\\end{align}"
   ]
  },
  {
   "cell_type": "markdown",
   "metadata": {},
   "source": [
    "#### Check.\n",
    "\n",
    "Solve the constrained optimization problem above using the `scipy.optimize` package."
   ]
  },
  {
   "cell_type": "code",
   "execution_count": 41,
   "metadata": {},
   "outputs": [
    {
     "name": "stdout",
     "output_type": "stream",
     "text": [
      "Object `scipy.optimize` not found.\n"
     ]
    }
   ],
   "source": [
    "# Insert code here\n",
    "from scipy.optimize import minimize\n",
    "from scipy.optimize import maximize\n",
    "\n",
    "\n",
    "\n"
   ]
  }
 ],
 "metadata": {
  "kernelspec": {
   "display_name": "Python 3",
   "language": "python",
   "name": "python3"
  },
  "language_info": {
   "codemirror_mode": {
    "name": "ipython",
    "version": 3
   },
   "file_extension": ".py",
   "mimetype": "text/x-python",
   "name": "python",
   "nbconvert_exporter": "python",
   "pygments_lexer": "ipython3",
   "version": "3.7.7"
  }
 },
 "nbformat": 4,
 "nbformat_minor": 4
}
