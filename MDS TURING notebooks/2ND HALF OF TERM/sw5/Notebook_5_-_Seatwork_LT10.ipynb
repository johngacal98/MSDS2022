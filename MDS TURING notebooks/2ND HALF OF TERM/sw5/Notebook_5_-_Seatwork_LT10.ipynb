{
 "cells": [
  {
   "cell_type": "markdown",
   "metadata": {},
   "source": [
    "## Notebook 5: Seatwork\n",
    "\n",
    "<b>Instructions:</b> Submit your answers by <b>LT</b>.\n",
    "\n",
    "<u>LT</u>: <b>10</b> \n",
    "\n",
    "<u>Names</u>:\\\n",
    "<b>\n",
    "&emsp;Janica Lae Batang\\\n",
    "&emsp;Mary Honeylie Buitre\\\n",
    "&emsp;Paolo Jose de Guzman\\\n",
    "&emsp;John Francis Gacal\\\n",
    "&emsp;Vincent John Rivera</b>"
   ]
  },
  {
   "cell_type": "markdown",
   "metadata": {},
   "source": [
    "For this seatwork, we will be applying the methods we learned to solve systems of equations to constrained optimization problems.\n",
    "\n",
    "Use the method of Lagrange multipliers to solve the following constrained optimization problem.\n",
    "\n",
    "\\begin{equation}\n",
    "    \\min_\\mathbf{x} f(\\mathbf{x}) = 81x_1^2 + x_2^2\n",
    "\\end{equation}\n",
    "\n",
    "subject to\n",
    "\n",
    "\\begin{align}\n",
    "    4x_1^2 + x_2^2 &= 9\n",
    "\\end{align}\n",
    "\n",
    "#### Q1.\n",
    "\n",
    "Setup the Langrangian function and the system of first order conditions."
   ]
  },
  {
   "cell_type": "markdown",
   "metadata": {},
   "source": [
    "#### Answer.\n",
    "\n",
    "\\begin{align}\n",
    "    \\mathcal{L}(\\mathbf{x}, \\lambda) = 81x_1^2 + x_2^2 - \\lambda(4x_1^2 + x_2^2 - 9)\n",
    "\\end{align}\n",
    "\n",
    "\\begin{align}\n",
    "    \\frac{\\partial \\mathcal{L}}{\\partial x_1} = 162x_1 -8\\lambda x_1 = 0\\\\\n",
    "    \\frac{\\partial \\mathcal{L}}{\\partial x_2} = 2x_2 - 2\\lambda x_2 = 0\\\\\n",
    "    \\frac{\\partial \\mathcal{L}}{\\partial \\lambda} = 4x_1^2 + x_2^2 - 9 = 0\\\\\n",
    "\\end{align}"
   ]
  },
  {
   "cell_type": "markdown",
   "metadata": {},
   "source": [
    "#### Q2.\n",
    "\n",
    "Find the optimums of $f(x)$ by solving the above system of nonlinear equations using the Newton-Raphson method.\n",
    "\n",
    "<i>Hint</i>: There are 2 maximums and 2 minimums. You'll have to experiment with different initial guesses to find them."
   ]
  },
  {
   "cell_type": "code",
   "execution_count": 3,
   "metadata": {
    "ExecuteTime": {
     "end_time": "2021-06-07T08:05:33.307569Z",
     "start_time": "2021-06-07T08:05:33.292566Z"
    }
   },
   "outputs": [],
   "source": [
    "# Insert code here\n",
    "def f(x):\n",
    "    return np.array([162*x[0] - 8*x[0]*x[2],\n",
    "                     2*x[1] - 2*x[1]*x[2],\n",
    "                     4*x[0]**2 + x[1]**2 - 9])\n",
    "\n",
    "def f_jacob(x):\n",
    "    return np.array([[162 - 8*x[2], 0, -8*x[0]],\n",
    "                     [0, 2-2*x[2], -2*x[1]],\n",
    "                     [8*x[0], 2*x[1], 0]])"
   ]
  },
  {
   "cell_type": "code",
   "execution_count": 4,
   "metadata": {
    "ExecuteTime": {
     "end_time": "2021-06-07T08:05:34.472721Z",
     "start_time": "2021-06-07T08:05:34.463126Z"
    }
   },
   "outputs": [
    {
     "name": "stdout",
     "output_type": "stream",
     "text": [
      "k = 0 -- -- x_k[0] = 1.000000 -- -- x_k[1] = 1.000000 -- -- x_k[2] = 1.000000 -- -- f(x_k) = [154   0  -4]\n",
      "k = 1 -- -- x_k[0] = 0.000000 -- -- x_k[1] = 7.000000 -- -- x_k[2] = 1.000000 -- -- f(x_k) = [ 0.  0. 40.]\n",
      "k = 2 -- -- x_k[0] = 0.000000 -- -- x_k[1] = 4.142857 -- -- x_k[2] = 1.000000 -- -- f(x_k) = [0.         0.         8.16326531]\n",
      "k = 3 -- -- x_k[0] = 0.000000 -- -- x_k[1] = 3.157635 -- -- x_k[2] = 1.000000 -- -- f(x_k) = [0.         0.         0.97066175]\n",
      "k = 4 -- -- x_k[0] = 0.000000 -- -- x_k[1] = 3.003935 -- -- x_k[2] = 1.000000 -- -- f(x_k) = [0.         0.         0.02362391]\n",
      "k = 5 -- -- x_k[0] = 0.000000 -- -- x_k[1] = 3.000003 -- -- x_k[2] = 1.000000 -- -- f(x_k) = [0.00000000e+00 0.00000000e+00 1.54618955e-05]\n",
      "k = 6 -- -- x_k[0] = 0.000000 -- -- x_k[1] = 3.000000 -- -- x_k[2] = 1.000000 -- -- f(x_k) = [0.00000000e+00 0.00000000e+00 6.64357458e-12]\n",
      "k = 7 -- -- x_k[0] = 0.000000 -- -- x_k[1] = 3.000000 -- -- x_k[2] = 1.000000 -- -- f(x_k) = [0. 0. 0.]\n",
      "k = 8 -- -- x_k[0] = 0.000000 -- -- x_k[1] = 3.000000 -- -- x_k[2] = 1.000000 -- -- f(x_k) = [0. 0. 0.]\n",
      "k = 9 -- -- x_k[0] = 0.000000 -- -- x_k[1] = 3.000000 -- -- x_k[2] = 1.000000 -- -- f(x_k) = [0. 0. 0.]\n"
     ]
    }
   ],
   "source": [
    "x_k = np.array([1,1,1])\n",
    "for k in range (0,10):\n",
    "    print(\"k = %d --\" %k,\"-- x_k[0] = %.6f --\" %x_k[0],\"-- x_k[1] = %.6f --\" %x_k[1],\"-- x_k[2] = %.6f --\" %x_k[2],\"-- f(x_k) =\", f(x_k))\n",
    "    x_k = x_k - np.matmul(np.linalg.inv(f_jacob(x_k)), f(x_k))"
   ]
  },
  {
   "cell_type": "code",
   "execution_count": 5,
   "metadata": {
    "ExecuteTime": {
     "end_time": "2021-06-07T08:05:36.026051Z",
     "start_time": "2021-06-07T08:05:36.015523Z"
    },
    "scrolled": true
   },
   "outputs": [
    {
     "name": "stdout",
     "output_type": "stream",
     "text": [
      "k = 0 -- -- x_k[0] = -1.000000 -- -- x_k[1] = -1.000000 -- -- x_k[2] = 1.000000 -- -- f(x_k) = [-154    0   -4]\n",
      "k = 1 -- -- x_k[0] = 0.000000 -- -- x_k[1] = -7.000000 -- -- x_k[2] = 1.000000 -- -- f(x_k) = [ 0.  0. 40.]\n",
      "k = 2 -- -- x_k[0] = 0.000000 -- -- x_k[1] = -4.142857 -- -- x_k[2] = 1.000000 -- -- f(x_k) = [0.         0.         8.16326531]\n",
      "k = 3 -- -- x_k[0] = 0.000000 -- -- x_k[1] = -3.157635 -- -- x_k[2] = 1.000000 -- -- f(x_k) = [0.         0.         0.97066175]\n",
      "k = 4 -- -- x_k[0] = 0.000000 -- -- x_k[1] = -3.003935 -- -- x_k[2] = 1.000000 -- -- f(x_k) = [0.         0.         0.02362391]\n",
      "k = 5 -- -- x_k[0] = 0.000000 -- -- x_k[1] = -3.000003 -- -- x_k[2] = 1.000000 -- -- f(x_k) = [0.00000000e+00 0.00000000e+00 1.54618955e-05]\n",
      "k = 6 -- -- x_k[0] = 0.000000 -- -- x_k[1] = -3.000000 -- -- x_k[2] = 1.000000 -- -- f(x_k) = [0.00000000e+00 0.00000000e+00 6.64357458e-12]\n",
      "k = 7 -- -- x_k[0] = 0.000000 -- -- x_k[1] = -3.000000 -- -- x_k[2] = 1.000000 -- -- f(x_k) = [0. 0. 0.]\n",
      "k = 8 -- -- x_k[0] = 0.000000 -- -- x_k[1] = -3.000000 -- -- x_k[2] = 1.000000 -- -- f(x_k) = [0. 0. 0.]\n",
      "k = 9 -- -- x_k[0] = 0.000000 -- -- x_k[1] = -3.000000 -- -- x_k[2] = 1.000000 -- -- f(x_k) = [0. 0. 0.]\n"
     ]
    }
   ],
   "source": [
    "x_k = np.array([-1,-1,1])\n",
    "for k in range (0,10):\n",
    "    print(\"k = %d --\" %k,\"-- x_k[0] = %.6f --\" %x_k[0],\"-- x_k[1] = %.6f --\" %x_k[1],\"-- x_k[2] = %.6f --\" %x_k[2],\"-- f(x_k) =\", f(x_k))\n",
    "    x_k = x_k - np.matmul(np.linalg.inv(f_jacob(x_k)), f(x_k))"
   ]
  },
  {
   "cell_type": "code",
   "execution_count": 6,
   "metadata": {
    "ExecuteTime": {
     "end_time": "2021-06-07T08:05:39.164817Z",
     "start_time": "2021-06-07T08:05:39.142511Z"
    },
    "scrolled": true
   },
   "outputs": [
    {
     "name": "stdout",
     "output_type": "stream",
     "text": [
      "k = 0 -- -- x_k[0] = 5.000000 -- -- x_k[1] = 5.000000 -- -- x_k[2] = 5.000000 -- -- f(x_k) = [610 -40 116]\n",
      "k = 1 -- -- x_k[0] = 71.466667 -- -- x_k[1] = -272.466667 -- -- x_k[2] = 222.973333 -- -- f(x_k) = [-115903.68711111  120960.66844444   94659.02222222]\n",
      "k = 2 -- -- x_k[0] = 38.344418 -- -- x_k[1] = -133.510351 -- -- x_k[2] = 114.205028 -- -- f(x_k) = [-28821.2069024   30228.08599085  23697.19124099]\n",
      "k = 3 -- -- x_k[0] = 21.991283 -- -- x_k[1] = -63.550308 -- -- x_k[2] = 60.319960 -- -- f(x_k) = [-7049.51848058  7539.60339254  5964.10769299]\n",
      "k = 4 -- -- x_k[0] = 14.107623 -- -- x_k[1] = -27.538418 -- -- x_k[2] = 34.614689 -- -- f(x_k) = [-1621.21290283  1851.39073408  1545.46456473]\n",
      "k = 5 -- -- x_k[0] = 9.845235 -- -- x_k[1] = -8.212557 -- -- x_k[2] = 24.590056 -- -- f(x_k) = [-341.83096737  387.46934399  446.16071641]\n",
      "k = 6 -- -- x_k[0] = 5.710455 -- -- x_k[1] = -0.876374 -- -- x_k[2] = 22.072727 -- -- f(x_k) = [-83.26880963  36.9351684  122.20521373]\n",
      "k = 7 -- -- x_k[0] = 3.067484 -- -- x_k[1] = -0.040719 -- -- x_k[2] = 21.093613 -- -- f(x_k) = [-20.70215843   1.63640168  28.63949545]\n",
      "k = 8 -- -- x_k[0] = 1.900556 -- -- x_k[1] = -0.001059 -- -- x_k[2] = 20.570926 -- -- f(x_k) = [-4.87950464  0.04145977  5.44845673]\n",
      "k = 9 -- -- x_k[0] = 1.542210 -- -- x_k[1] = -0.000014 -- -- x_k[2] = 20.310510 -- -- f(x_k) = [-7.46552720e-01  5.44334389e-04  5.13648665e-01]\n",
      "k = 10 -- -- x_k[0] = 1.500578 -- -- x_k[1] = -0.000000 -- -- x_k[2] = 20.251633 -- -- f(x_k) = [-1.96094067e-02  1.65457981e-06  6.93306446e-03]\n",
      "k = 11 -- -- x_k[0] = 1.500000 -- -- x_k[1] = -0.000000 -- -- x_k[2] = 20.250001 -- -- f(x_k) = [-7.54424147e-06  1.40324050e-10  1.33417731e-06]\n",
      "k = 12 -- -- x_k[0] = 1.500000 -- -- x_k[1] = -0.000000 -- -- x_k[2] = 20.250000 -- -- f(x_k) = [-5.40012479e-13  4.58284975e-18  4.79616347e-14]\n",
      "k = 13 -- -- x_k[0] = 1.500000 -- -- x_k[1] = -0.000000 -- -- x_k[2] = 20.250000 -- -- f(x_k) = [0.00000000e+00 1.11222454e-32 0.00000000e+00]\n",
      "k = 14 -- -- x_k[0] = 1.500000 -- -- x_k[1] = 0.000000 -- -- x_k[2] = 20.250000 -- -- f(x_k) = [0. 0. 0.]\n"
     ]
    }
   ],
   "source": [
    "x_k = np.array([5,5,5])\n",
    "for k in range (0,15):\n",
    "    print(\"k = %d --\" %k,\"-- x_k[0] = %.6f --\" %x_k[0],\"-- x_k[1] = %.6f --\" %x_k[1],\"-- x_k[2] = %.6f --\" %x_k[2],\"-- f(x_k) =\", f(x_k))\n",
    "    x_k = x_k - np.matmul(np.linalg.inv(f_jacob(x_k)), f(x_k))"
   ]
  },
  {
   "cell_type": "code",
   "execution_count": 7,
   "metadata": {
    "ExecuteTime": {
     "end_time": "2021-06-07T08:05:41.427238Z",
     "start_time": "2021-06-07T08:05:41.403370Z"
    },
    "scrolled": true
   },
   "outputs": [
    {
     "name": "stdout",
     "output_type": "stream",
     "text": [
      "k = 0 -- -- x_k[0] = -5.000000 -- -- x_k[1] = -5.000000 -- -- x_k[2] = 5.000000 -- -- f(x_k) = [-610   40  116]\n",
      "k = 1 -- -- x_k[0] = -71.466667 -- -- x_k[1] = 272.466667 -- -- x_k[2] = 222.973333 -- -- f(x_k) = [ 115903.68711111 -120960.66844444   94659.02222222]\n",
      "k = 2 -- -- x_k[0] = -38.344418 -- -- x_k[1] = 133.510351 -- -- x_k[2] = 114.205028 -- -- f(x_k) = [ 28821.2069024  -30228.08599085  23697.19124099]\n",
      "k = 3 -- -- x_k[0] = -21.991283 -- -- x_k[1] = 63.550308 -- -- x_k[2] = 60.319960 -- -- f(x_k) = [ 7049.51848058 -7539.60339254  5964.10769299]\n",
      "k = 4 -- -- x_k[0] = -14.107623 -- -- x_k[1] = 27.538418 -- -- x_k[2] = 34.614689 -- -- f(x_k) = [ 1621.21290283 -1851.39073408  1545.46456473]\n",
      "k = 5 -- -- x_k[0] = -9.845235 -- -- x_k[1] = 8.212557 -- -- x_k[2] = 24.590056 -- -- f(x_k) = [ 341.83096737 -387.46934399  446.16071641]\n",
      "k = 6 -- -- x_k[0] = -5.710455 -- -- x_k[1] = 0.876374 -- -- x_k[2] = 22.072727 -- -- f(x_k) = [ 83.26880963 -36.9351684  122.20521373]\n",
      "k = 7 -- -- x_k[0] = -3.067484 -- -- x_k[1] = 0.040719 -- -- x_k[2] = 21.093613 -- -- f(x_k) = [20.70215843 -1.63640168 28.63949545]\n",
      "k = 8 -- -- x_k[0] = -1.900556 -- -- x_k[1] = 0.001059 -- -- x_k[2] = 20.570926 -- -- f(x_k) = [ 4.87950464 -0.04145977  5.44845673]\n",
      "k = 9 -- -- x_k[0] = -1.542210 -- -- x_k[1] = 0.000014 -- -- x_k[2] = 20.310510 -- -- f(x_k) = [ 7.46552720e-01 -5.44334389e-04  5.13648665e-01]\n",
      "k = 10 -- -- x_k[0] = -1.500578 -- -- x_k[1] = 0.000000 -- -- x_k[2] = 20.251633 -- -- f(x_k) = [ 1.96094067e-02 -1.65457981e-06  6.93306446e-03]\n",
      "k = 11 -- -- x_k[0] = -1.500000 -- -- x_k[1] = 0.000000 -- -- x_k[2] = 20.250001 -- -- f(x_k) = [ 7.54424147e-06 -1.40324050e-10  1.33417731e-06]\n",
      "k = 12 -- -- x_k[0] = -1.500000 -- -- x_k[1] = 0.000000 -- -- x_k[2] = 20.250000 -- -- f(x_k) = [ 5.40012479e-13 -4.58284975e-18  4.79616347e-14]\n",
      "k = 13 -- -- x_k[0] = -1.500000 -- -- x_k[1] = 0.000000 -- -- x_k[2] = 20.250000 -- -- f(x_k) = [ 0.00000000e+00 -1.11222454e-32  0.00000000e+00]\n",
      "k = 14 -- -- x_k[0] = -1.500000 -- -- x_k[1] = 0.000000 -- -- x_k[2] = 20.250000 -- -- f(x_k) = [0. 0. 0.]\n"
     ]
    }
   ],
   "source": [
    "x_k = np.array([-5,-5,5])\n",
    "for k in range (0,15):\n",
    "    print(\"k = %d --\" %k,\"-- x_k[0] = %.6f --\" %x_k[0],\"-- x_k[1] = %.6f --\" %x_k[1],\"-- x_k[2] = %.6f --\" %x_k[2],\"-- f(x_k) =\", f(x_k))\n",
    "    x_k = x_k - np.matmul(np.linalg.inv(f_jacob(x_k)), f(x_k))"
   ]
  },
  {
   "cell_type": "code",
   "execution_count": 11,
   "metadata": {
    "ExecuteTime": {
     "end_time": "2021-06-07T08:06:21.674609Z",
     "start_time": "2021-06-07T08:06:21.655869Z"
    }
   },
   "outputs": [
    {
     "name": "stdout",
     "output_type": "stream",
     "text": [
      "x1 = 0, x2 = 3\n",
      "f(X) = 9\n",
      "\n",
      "x1 = 0, x2 = -3\n",
      "f(X) = 9\n",
      "\n",
      "x1 = -1.5, x2 = 0\n",
      "f(X) = 182.25\n",
      "\n",
      "x1 = 1.5, x2 = 0\n",
      "f(X) = 182.25\n",
      "\n"
     ]
    }
   ],
   "source": [
    "answers = [[0,3],\n",
    "           [0,-3],\n",
    "           [-1.5,0],\n",
    "           [1.5,0]]\n",
    "\n",
    "for i in answers:\n",
    "    print(f'x1 = {i[0]}, x2 = {i[1]}')\n",
    "    val = 81*i[0]**2 + i[1]**2\n",
    "    print(f'f(X) = {val}\\n')"
   ]
  },
  {
   "cell_type": "markdown",
   "metadata": {},
   "source": [
    "#### Answer.\n",
    "\n",
    "\\begin{align}\n",
    "    \\mathbf{x}_{\\text{max}}^* = (-1.5, 0) \\quad &, \\quad \\mathbf{x}_{\\text{max}}^* = (1.5, 0)\\\\\n",
    "    \\mathbf{x}_{\\text{min}}^* = (0, -3) \\quad &, \\quad \\mathbf{x}_{\\text{min}}^* = (0, 3)\n",
    "\\end{align}\n",
    "\n",
    "\\begin{align}\n",
    "    f(\\mathbf{x}_{\\text{max}}^*) &= 182.25 \\\\\n",
    "    f(\\mathbf{x}_{\\text{min}}^*) &= 9 \\\\\n",
    "\\end{align}"
   ]
  },
  {
   "cell_type": "markdown",
   "metadata": {},
   "source": [
    "#### Check.\n",
    "\n",
    "Solve the constrained optimization problem above using the `scipy.optimize` package."
   ]
  },
  {
   "cell_type": "code",
   "execution_count": 12,
   "metadata": {
    "ExecuteTime": {
     "end_time": "2021-06-07T08:06:23.333111Z",
     "start_time": "2021-06-07T08:06:23.299093Z"
    }
   },
   "outputs": [
    {
     "name": "stdout",
     "output_type": "stream",
     "text": [
      "Minimum\n",
      "Initial guess = [-1, -1]\n",
      "Function value: 9.0\n",
      "x: [-0. -3.]\n",
      "\n",
      "Initial guess = [1, 1]\n",
      "Function value: 9.0\n",
      "x: [-0.  3.]\n",
      "\n",
      "\n",
      "Maximum\n",
      "Initial guess = [-5, -5]\n",
      "Function value: 182.25\n",
      "x: [-1.5  0. ]\n",
      "\n",
      "Initial guess = [5, 5]\n",
      "Function value: 182.25\n",
      "x: [ 1.5 -0. ]\n",
      "\n"
     ]
    }
   ],
   "source": [
    "from scipy.optimize import minimize\n",
    "\n",
    "def obj(x, sign=1):\n",
    "    return sign*(81*x[0]**2 + x[1]**2)\n",
    "\n",
    "def cons(x):\n",
    "    return 4*x[0]**2 + x[1]**2 - 9\n",
    "\n",
    "cons = ({'type': 'eq',\n",
    "         'fun' : cons})\n",
    "\n",
    "g = [[-1,-1],[1,1]]\n",
    "g1 = [[-5,-5],[5,5]]\n",
    "\n",
    "print('Minimum')\n",
    "for i in g:\n",
    "    print(f'Initial guess = {i}')\n",
    "    check = minimize(obj, i, constraints=cons)\n",
    "    print(f'Function value: {round(check.fun,2)}')\n",
    "    print(f'x: {np.round(check.x,2)}\\n')\n",
    "    \n",
    "print('\\nMaximum')\n",
    "for i in g1:\n",
    "    print(f'Initial guess = {i}')\n",
    "    check = minimize(obj, i, args=(-1,), constraints=cons)\n",
    "    print(f'Function value: {round(-check.fun,2)}')\n",
    "    print(f'x: {np.round(check.x,2)}\\n')"
   ]
  }
 ],
 "metadata": {
  "kernelspec": {
   "display_name": "Python 3",
   "language": "python",
   "name": "python3"
  },
  "language_info": {
   "codemirror_mode": {
    "name": "ipython",
    "version": 3
   },
   "file_extension": ".py",
   "mimetype": "text/x-python",
   "name": "python",
   "nbconvert_exporter": "python",
   "pygments_lexer": "ipython3",
   "version": "3.7.7"
  },
  "toc": {
   "base_numbering": 1,
   "nav_menu": {},
   "number_sections": true,
   "sideBar": true,
   "skip_h1_title": false,
   "title_cell": "Table of Contents",
   "title_sidebar": "Contents",
   "toc_cell": false,
   "toc_position": {},
   "toc_section_display": true,
   "toc_window_display": false
  },
  "varInspector": {
   "cols": {
    "lenName": 16,
    "lenType": 16,
    "lenVar": 40
   },
   "kernels_config": {
    "python": {
     "delete_cmd_postfix": "",
     "delete_cmd_prefix": "del ",
     "library": "var_list.py",
     "varRefreshCmd": "print(var_dic_list())"
    },
    "r": {
     "delete_cmd_postfix": ") ",
     "delete_cmd_prefix": "rm(",
     "library": "var_list.r",
     "varRefreshCmd": "cat(var_dic_list()) "
    }
   },
   "types_to_exclude": [
    "module",
    "function",
    "builtin_function_or_method",
    "instance",
    "_Feature"
   ],
   "window_display": false
  }
 },
 "nbformat": 4,
 "nbformat_minor": 4
}
