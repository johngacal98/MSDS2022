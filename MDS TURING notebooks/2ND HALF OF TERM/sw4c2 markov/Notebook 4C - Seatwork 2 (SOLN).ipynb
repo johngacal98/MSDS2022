{
 "cells": [
  {
   "cell_type": "markdown",
   "metadata": {},
   "source": [
    "## Notebook 4C: Seatwork 2\n",
    "\n",
    "<b>Instructions:</b> Submit your answers by <b>LT</b>."
   ]
  },
  {
   "cell_type": "markdown",
   "metadata": {},
   "source": [
    "## Eigenvalue Application: Markov Chains\n",
    "\n",
    "A <b><i>Markov Chain</i></b> is a system that has $n$ possible states and passes through a series of transitions from one state to another.\n",
    "\n",
    "The probability of a transition from state $i$ to state $j$ is given by $a_{ij}$ where\n",
    "\n",
    "\\begin{align}\n",
    "    0 \\leq a_{ij} \\leq 1\n",
    "\\end{align}\n",
    "\n",
    "\\begin{align}\n",
    "    \\sum_{i = 1}^{n} a_{ij} = 1\n",
    "\\end{align}\n",
    "\n",
    "Consider the following <b><i>stock market state model</i></b>:\n",
    "\n",
    "<img src = \"stockmarket.png\" width = \"300\"/>\n",
    "\n",
    "The model is typically represented as a <b><i>probability transition matrix</i></b>, given by\n",
    "\n",
    "\\begin{align}\n",
    "    A = \\begin{bmatrix}\n",
    "        0.975 & 0.3 & 0.02\\\\\n",
    "        0.02 & 0.5 & 0.40\\\\\n",
    "        0.005 & 0.2 & 0.58\n",
    "    \\end{bmatrix}\n",
    "\\end{align}\n",
    "\n",
    "Note that each column contains the probabilities of moving to state $i$ given that you are in state $j$, such that\n",
    "\n",
    "- State $1$ corresponds to being in the Bull Market state\n",
    "- State $2$ corresponds to being in the Bear Market state\n",
    "- State $3$ corresponds to being in the Stagnant Market state\n",
    "\n",
    "Some examples:\n",
    "- Given that we are in a Bull Market (column 1), the probability that in the next time step we stay in a Bull Market is 97.5%.\n",
    "- Given that we are in a Stagnant Market (column 3), the probability that in the next time step we enter a Bear Market is 40%.\n",
    "- And so on...\n",
    "\n",
    "Given $A$, let $x_i^{(k)}$ denote the probability that the system is in state $i$ after transition $k$:\n",
    "\n",
    "\\begin{align}\n",
    "    x^{(k)} = \\begin{bmatrix}\n",
    "                x_1^{(k)}\\\\\n",
    "                x_2^{(k)}\\\\\n",
    "                x_3^{(k)}\n",
    "            \\end{bmatrix}\n",
    "\\end{align}\n",
    "\n",
    "If the initial <b><i>probability distribution vector</i></b> is $x^{(0)}$, then the probability distribution vector after $k$ steps is\n",
    "\n",
    "\\begin{align}\n",
    "    x^{(k)} = Ax^{(k-1)} = A^kx^{(0)}\n",
    "\\end{align}\n",
    "\n",
    "The long-term behavior of the system is therefore determined by the value of\n",
    "\n",
    "\\begin{align}\n",
    "    \\lim_{k \\rightarrow \\infty} A^k\n",
    "\\end{align}\n",
    "\n",
    "#### Q1.\n",
    "\n",
    "Suppose that the stock market is initially in a Bull Market.\n",
    "\n",
    "\\begin{align}\n",
    "    x^{(0)} = \\begin{bmatrix}\n",
    "                1\\\\\n",
    "                0\\\\\n",
    "                0\\\\\n",
    "            \\end{bmatrix}\n",
    "\\end{align}\n",
    "\n",
    "What is the probability distribution vector after three steps?"
   ]
  },
  {
   "cell_type": "code",
   "execution_count": 1,
   "metadata": {
    "ExecuteTime": {
     "end_time": "2021-05-27T05:07:41.530010Z",
     "start_time": "2021-05-27T05:07:41.521326Z"
    }
   },
   "outputs": [
    {
     "name": "stdout",
     "output_type": "stream",
     "text": [
      "[[0.94249237 0.0395945  0.01791313]]\n"
     ]
    }
   ],
   "source": [
    "# Insert code here\n",
    "\n",
    "import numpy as np\n",
    "\n",
    "A = np.matrix([[0.975, 0.3, 0.02],\n",
    "              [0.02, 0.5, 0.4],\n",
    "              [0.005, 0.2, 0.58]])\n",
    "\n",
    "x_0 = np.array([1, 0, 0])\n",
    "\n",
    "x_3 = np.linalg.matrix_power(A, 3).dot(x_0)\n",
    "\n",
    "print(x_3)"
   ]
  },
  {
   "cell_type": "markdown",
   "metadata": {},
   "source": [
    "#### Q2.\n",
    "\n",
    "What is the long-term value of the probability distribution vector? (i.e. $\\lim_{k \\rightarrow \\infty} x^{(k)}$)"
   ]
  },
  {
   "cell_type": "code",
   "execution_count": 3,
   "metadata": {
    "ExecuteTime": {
     "end_time": "2021-05-27T05:07:42.162845Z",
     "start_time": "2021-05-27T05:07:42.155956Z"
    }
   },
   "outputs": [
    {
     "name": "stdout",
     "output_type": "stream",
     "text": [
      "[[0.88495575 0.07079646 0.04424779]]\n"
     ]
    }
   ],
   "source": [
    "# Insert code here\n",
    "\n",
    "x_0 = np.array([1, 0, 0])\n",
    "\n",
    "x_n = np.linalg.matrix_power(A, 100).dot(x_0)\n",
    "    \n",
    "print(x_n)"
   ]
  },
  {
   "cell_type": "markdown",
   "metadata": {},
   "source": [
    "#### Q3.\n",
    "\n",
    "Does the long-term value of the probability distribution vector depend on the particular starting value $x^{(0)}$?"
   ]
  },
  {
   "cell_type": "markdown",
   "metadata": {},
   "source": [
    "#### Answer:\n",
    "\n",
    "No. (Try different starting values)"
   ]
  },
  {
   "cell_type": "code",
   "execution_count": 4,
   "metadata": {
    "ExecuteTime": {
     "end_time": "2021-05-27T05:07:43.866190Z",
     "start_time": "2021-05-27T05:07:43.858979Z"
    }
   },
   "outputs": [
    {
     "name": "stdout",
     "output_type": "stream",
     "text": [
      "[[0.88495575 0.07079646 0.04424779]]\n"
     ]
    }
   ],
   "source": [
    "# Insert code here\n",
    "import numpy as np\n",
    "x_0 = np.array([0, 1, 0])\n",
    "\n",
    "x_n = np.linalg.matrix_power(A, 100).dot(x_0)\n",
    "    \n",
    "print(x_n)"
   ]
  },
  {
   "cell_type": "markdown",
   "metadata": {},
   "source": [
    "#### Q4.\n",
    "\n",
    "What is the value of $\\lim_{k \\rightarrow \\infty} A^k$?"
   ]
  },
  {
   "cell_type": "code",
   "execution_count": 63,
   "metadata": {},
   "outputs": [
    {
     "name": "stdout",
     "output_type": "stream",
     "text": [
      "[[0.88495575 0.88495575 0.88495575]\n",
      " [0.07079646 0.07079646 0.07079646]\n",
      " [0.04424779 0.04424779 0.04424779]]\n"
     ]
    }
   ],
   "source": [
    "# Insert code here\n",
    "\n",
    "print(np.linalg.matrix_power(A, 100))"
   ]
  },
  {
   "cell_type": "markdown",
   "metadata": {},
   "source": [
    "#### Q5.\n",
    "\n",
    "Compute the eigenvalues and eigenvectors of $A$. "
   ]
  },
  {
   "cell_type": "code",
   "execution_count": 64,
   "metadata": {},
   "outputs": [
    {
     "name": "stdout",
     "output_type": "stream",
     "text": [
      "[1.         0.80382635 0.25117365]\n",
      "[[ 0.99557949  0.81563112  0.32258572]\n",
      " [ 0.07964636 -0.44036406 -0.8108726 ]\n",
      " [ 0.04977897 -0.37526706  0.48828688]]\n"
     ]
    }
   ],
   "source": [
    "# Insert code here\n",
    "\n",
    "eig_vals, eig_vecs = np.linalg.eig(A)\n",
    "\n",
    "print(eig_vals)\n",
    "print(eig_vecs)\n",
    "\n",
    "#print(eig_vecs[:, 0]/sum(eig_vecs[:, 0]))"
   ]
  },
  {
   "cell_type": "markdown",
   "metadata": {},
   "source": [
    "#### Q6.\n",
    "\n",
    "Explain your answer in <b>Q4</b> in terms of the eigenvalues and eigenvectors."
   ]
  },
  {
   "cell_type": "markdown",
   "metadata": {},
   "source": [
    "#### Answer:\n",
    "\n",
    "$\\lim_{k \\rightarrow \\infty} A^k = PD^k P^{-1}$"
   ]
  },
  {
   "cell_type": "code",
   "execution_count": 14,
   "metadata": {},
   "outputs": [
    {
     "name": "stdout",
     "output_type": "stream",
     "text": [
      "[[0.88495575 0.88495575 0.88495575]\n",
      " [0.07079646 0.07079646 0.07079646]\n",
      " [0.04424779 0.04424779 0.04424779]]\n"
     ]
    }
   ],
   "source": [
    "# Insert code here\n",
    "\n",
    "D_k = eig_vals**100\n",
    "print(eig_vecs*np.diag(D_k)*np.linalg.inv(eig_vecs))"
   ]
  },
  {
   "cell_type": "markdown",
   "metadata": {},
   "source": [
    "#### Q7.\n",
    "\n",
    "Must 1 always be an eigenvalue of the transition matrix of a Markov chain? Why?"
   ]
  },
  {
   "cell_type": "markdown",
   "metadata": {},
   "source": [
    "#### Answer:\n",
    "\n",
    "Yes. In fact, it must also be the largest eigenvalue (in absolute value). Otherwise $\\lim_{k \\rightarrow \\infty} A^k$ would (1) explode and (2) would not be a valid probability transition matrix."
   ]
  },
  {
   "cell_type": "markdown",
   "metadata": {},
   "source": [
    "#### Q8.\n",
    "\n",
    "A probability distribution vector $x$ is said to be <b><i>stationary</i></b> if $Ax = x$. \n",
    "\n",
    "How can you determine such a stationary value $x$ using the eigenvalues and eigenvectors of $A$?\n",
    "\n",
    "<i>Some Hints</i>:\n",
    "\n",
    "1) Recall the formal definition of an eigenvalue-eigenvector pair. Can you see its relation to the question being asked?\n",
    "\n",
    "2) Try solving <b>Q5</b> by hand <u>OR</u> try to understand what `numpy.linalg.eig` does to your eigenvectors."
   ]
  },
  {
   "cell_type": "markdown",
   "metadata": {},
   "source": [
    "#### Answer:\n",
    "\n",
    "The eigenvector pair of the eigenvalue $\\lambda_1 = 1$ gives the stationary probability distribution vector (when it is scaled to be a valid probability vector)."
   ]
  },
  {
   "cell_type": "code",
   "execution_count": 70,
   "metadata": {},
   "outputs": [
    {
     "name": "stdout",
     "output_type": "stream",
     "text": [
      "[[0.88495575]\n",
      " [0.07079646]\n",
      " [0.04424779]]\n"
     ]
    }
   ],
   "source": [
    "\n",
    "# Insert code here\n",
    "eig_vals, eig_vecs = np.linalg.eig(A)\n",
    "\n",
    "print(eig_vecs[:, 0]/sum(eig_vecs[:, 0]))"
   ]
  },
  {
   "cell_type": "markdown",
   "metadata": {},
   "source": [
    "#### Q9.\n",
    "\n",
    "How can you determine a stationary value $x$ <i>without</i> knowledge of the eigenvalues and eigenvectors of $A$?"
   ]
  },
  {
   "cell_type": "markdown",
   "metadata": {},
   "source": [
    "#### Answer:\n",
    "\n",
    "Numerically. Like in <b>Q2</b>."
   ]
  },
  {
   "cell_type": "markdown",
   "metadata": {},
   "source": [
    "#### Q10.\n",
    "\n",
    "Can there be more than one stationary distribution vector for a given Markov chain? If not, why? If so, give an example."
   ]
  },
  {
   "cell_type": "markdown",
   "metadata": {},
   "source": [
    "#### Answer:\n",
    "Yes.\n",
    "\n",
    "\\begin{align}\n",
    "    A = \\begin{bmatrix}\n",
    "        1 & 0\\\\\n",
    "        0 & 1\n",
    "    \\end{bmatrix}\n",
    "\\end{align}"
   ]
  },
  {
   "cell_type": "code",
   "execution_count": 9,
   "metadata": {
    "ExecuteTime": {
     "end_time": "2021-05-27T05:43:25.019709Z",
     "start_time": "2021-05-27T05:43:25.010472Z"
    }
   },
   "outputs": [
    {
     "name": "stdout",
     "output_type": "stream",
     "text": [
      "[[0.5 0.5]]\n",
      "[1. 1.]\n",
      "[[1. 0.]\n",
      " [0. 1.]]\n"
     ]
    }
   ],
   "source": [
    "# Insert code here\n",
    "\n",
    "I = np.matrix([[1, 0],\n",
    "              [0, 1]])\n",
    "\n",
    "x = np.array([0.5, 0.5])\n",
    "\n",
    "print(np.linalg.matrix_power(I, 3).dot(x))\n",
    "\n",
    "eig_vals, eig_vecs = np.linalg.eig(I)\n",
    "\n",
    "print(eig_vals)\n",
    "print(eig_vecs)"
   ]
  },
  {
   "cell_type": "markdown",
   "metadata": {},
   "source": [
    "#### Bonus.\n",
    "\n",
    "Is it possible for a Markov chain to <b><u>NOT</b></u> have a stationary distribution? If not, why? If so, give an example."
   ]
  },
  {
   "cell_type": "markdown",
   "metadata": {},
   "source": [
    "#### Answer:\n",
    "\n",
    "Yes, for an infinite state space. Let $S = {1, 2, 3, \\ldots}$ and $P(i, i+1) = 1$."
   ]
  }
 ],
 "metadata": {
  "kernelspec": {
   "display_name": "Python 3",
   "language": "python",
   "name": "python3"
  },
  "language_info": {
   "codemirror_mode": {
    "name": "ipython",
    "version": 3
   },
   "file_extension": ".py",
   "mimetype": "text/x-python",
   "name": "python",
   "nbconvert_exporter": "python",
   "pygments_lexer": "ipython3",
   "version": "3.7.7"
  },
  "latex_envs": {
   "LaTeX_envs_menu_present": true,
   "autoclose": false,
   "autocomplete": true,
   "bibliofile": "biblio.bib",
   "cite_by": "apalike",
   "current_citInitial": 1,
   "eqLabelWithNumbers": true,
   "eqNumInitial": 1,
   "hotkeys": {
    "equation": "Ctrl-E",
    "itemize": "Ctrl-I"
   },
   "labels_anchors": false,
   "latex_user_defs": false,
   "report_style_numbering": false,
   "user_envs_cfg": false
  }
 },
 "nbformat": 4,
 "nbformat_minor": 2
}
