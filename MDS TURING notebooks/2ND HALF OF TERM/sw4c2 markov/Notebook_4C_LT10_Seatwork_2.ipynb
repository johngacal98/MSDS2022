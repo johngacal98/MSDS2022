{
 "cells": [
  {
   "cell_type": "markdown",
   "metadata": {},
   "source": [
    "## Notebook 4C: Seatwork 2\n",
    "\n",
    "<b>Instructions:</b> Submit your answers by <b>LT</b>.\n",
    "\n",
    "LT Number: 10\n",
    "\n",
    "Names:\\\n",
    "&emsp;Janica Lae Batang\\\n",
    "&emsp;Mary Honeylie Buitre\\\n",
    "&emsp;Paolo Jose de Guzman\\\n",
    "&emsp;John Francis Gacal\\\n",
    "&emsp;Vincent John Rivera"
   ]
  },
  {
   "cell_type": "markdown",
   "metadata": {},
   "source": [
    "## Eigenvalue Application: Markov Chains\n",
    "\n",
    "A <b><i>Markov Chain</i></b> is a system that has $n$ possible states and passes through a series of transitions from one state to another.\n",
    "\n",
    "The probability of a transition from state $i$ to state $j$ is given by $a_{ij}$ where\n",
    "\n",
    "\\begin{align}\n",
    "    0 \\leq a_{ij} \\leq 1\n",
    "\\end{align}\n",
    "\n",
    "\\begin{align}\n",
    "    \\sum_{i = 1}^{n} a_{ij} = 1\n",
    "\\end{align}\n",
    "\n",
    "Consider the following <b><i>stock market state model</i></b>:\n",
    "\n",
    "<img src = \"stockmarket.png\" width = \"300\"/>\n",
    "\n",
    "The model is typically represented as a <b><i>probability transition matrix</i></b>, given by\n",
    "\n",
    "\\begin{align}\n",
    "    A = \\begin{bmatrix}\n",
    "        0.975 & 0.3 & 0.02\\\\\n",
    "        0.02 & 0.5 & 0.40\\\\\n",
    "        0.005 & 0.2 & 0.58\n",
    "    \\end{bmatrix}\n",
    "\\end{align}\n",
    "\n",
    "Note that each column contains the probabilities of moving to state $i$ given that you are in state $j$, such that\n",
    "\n",
    "- State $1$ corresponds to being in the Bull Market state\n",
    "- State $2$ corresponds to being in the Bear Market state\n",
    "- State $3$ corresponds to being in the Stagnant Market state\n",
    "\n",
    "Some examples:\n",
    "- Given that we are in a Bull Market (column 1), the probability that in the next time step we stay in a Bull Market is 97.5%.\n",
    "- Given that we are in a Stagnant Market (column 3), the probability that in the next time step we enter a Bear Market is 40%.\n",
    "- And so on...\n",
    "\n",
    "Given $A$, let $x_i^{(k)}$ denote the probability that the system is in state $i$ after transition $k$:\n",
    "\n",
    "\\begin{align}\n",
    "    x^{(k)} = \\begin{bmatrix}\n",
    "                x_1^{(k)}\\\\\n",
    "                x_2^{(k)}\\\\\n",
    "                x_3^{(k)}\n",
    "            \\end{bmatrix}\n",
    "\\end{align}\n",
    "\n",
    "If the initial <b><i>probability distribution vector</i></b> is $x^{(0)}$, then the probability distribution vector after $k$ steps is\n",
    "\n",
    "\\begin{align}\n",
    "    x^{(k)} = Ax^{(k-1)} = A^kx^{(0)}\n",
    "\\end{align}\n",
    "\n",
    "The long-term behavior of the system is therefore determined by the value of\n",
    "\n",
    "\\begin{align}\n",
    "    \\lim_{k \\rightarrow \\infty} A^k\n",
    "\\end{align}\n",
    "\n",
    "#### Q1.\n",
    "\n",
    "Suppose that the stock market is initially in a Bull Market.\n",
    "\n",
    "\\begin{align}\n",
    "    x^{(0)} = \\begin{bmatrix}\n",
    "                1\\\\\n",
    "                0\\\\\n",
    "                0\\\\\n",
    "            \\end{bmatrix}\n",
    "\\end{align}\n",
    "\n",
    "What is the probability distribution vector after three steps?"
   ]
  },
  {
   "cell_type": "code",
   "execution_count": 2,
   "metadata": {
    "ExecuteTime": {
     "end_time": "2021-05-24T06:53:12.671074Z",
     "start_time": "2021-05-24T06:53:12.659083Z"
    }
   },
   "outputs": [
    {
     "data": {
      "text/plain": [
       "array([0.94249237, 0.0395945 , 0.01791313])"
      ]
     },
     "execution_count": 2,
     "metadata": {},
     "output_type": "execute_result"
    }
   ],
   "source": [
    "import numpy as np\n",
    "# Insert code here\n",
    "A = np.array([[0.975, 0.3, 0.02],\n",
    "              [0.02, 0.5, 0.4],\n",
    "              [0.005, 0.2, 0.58]])\n",
    "\n",
    "x_0 = np.array([1, 0, 0])\n",
    "\n",
    "x_3 = np.matmul(np.linalg.matrix_power(A, 3),x_0)\n",
    "x_3"
   ]
  },
  {
   "cell_type": "markdown",
   "metadata": {},
   "source": [
    "#### Q2.\n",
    "\n",
    "What is the long-term value of the probability distribution vector? (i.e. $\\lim_{k \\rightarrow \\infty} x^{(k)}$)"
   ]
  },
  {
   "cell_type": "code",
   "execution_count": 166,
   "metadata": {
    "ExecuteTime": {
     "end_time": "2021-05-24T07:17:08.539529Z",
     "start_time": "2021-05-24T07:17:08.518522Z"
    },
    "scrolled": true
   },
   "outputs": [
    {
     "name": "stdout",
     "output_type": "stream",
     "text": [
      "i = 5 -- x_k = [0.92209163 0.0507379  0.02717047]\n",
      "i = 10 -- x_k = [0.89741677 0.06406867 0.03851455]\n",
      "i = 15 -- x_k = [0.88913757 0.06853867 0.04232376]\n",
      "i = 20 -- x_k = [0.88635913 0.07003877 0.0436021 ]\n",
      "i = 25 -- x_k = [0.88542672 0.07054218 0.0440311 ]\n",
      "i = 30 -- x_k = [0.8851138  0.07071113 0.04417507]\n",
      "i = 35 -- x_k = [0.88500879 0.07076782 0.04422338]\n",
      "i = 40 -- x_k = [0.88497355 0.07078685 0.0442396 ]\n",
      "i = 45 -- x_k = [0.88496173 0.07079324 0.04424504]\n",
      "i = 50 -- x_k = [0.88495776 0.07079538 0.04424687]\n",
      "i = 55 -- x_k = [0.88495642 0.0707961  0.04424748]\n",
      "i = 60 -- x_k = [0.88495598 0.07079634 0.04424768]\n",
      "i = 65 -- x_k = [0.88495583 0.07079642 0.04424775]\n",
      "i = 70 -- x_k = [0.88495578 0.07079645 0.04424778]\n",
      "i = 75 -- x_k = [0.88495576 0.07079646 0.04424778]\n",
      "i = 80 -- x_k = [0.88495576 0.07079646 0.04424779]\n",
      "i = 85 -- x_k = [0.88495575 0.07079646 0.04424779]\n",
      "i = 90 -- x_k = [0.88495575 0.07079646 0.04424779]\n",
      "i = 95 -- x_k = [0.88495575 0.07079646 0.04424779]\n"
     ]
    }
   ],
   "source": [
    "# Insert code here\n",
    "for i in range(1,100):\n",
    "    x_k = np.matmul(np.linalg.matrix_power(A, i),x_0)\n",
    "    if i % 5 == 0:\n",
    "        print(f'i = {i} -- x_k = {x_k}')"
   ]
  },
  {
   "cell_type": "code",
   "execution_count": 3,
   "metadata": {
    "ExecuteTime": {
     "end_time": "2021-05-24T06:57:36.371572Z",
     "start_time": "2021-05-24T06:57:36.353573Z"
    }
   },
   "outputs": [
    {
     "ename": "NameError",
     "evalue": "name 'i' is not defined",
     "output_type": "error",
     "traceback": [
      "\u001b[1;31m---------------------------------------------------------------------------\u001b[0m",
      "\u001b[1;31mNameError\u001b[0m                                 Traceback (most recent call last)",
      "\u001b[1;32m<ipython-input-3-84982c25d634>\u001b[0m in \u001b[0;36m<module>\u001b[1;34m\u001b[0m\n\u001b[0;32m      1\u001b[0m \u001b[1;31m# Insert code here\u001b[0m\u001b[1;33m\u001b[0m\u001b[1;33m\u001b[0m\u001b[1;33m\u001b[0m\u001b[0m\n\u001b[1;32m----> 2\u001b[1;33m \u001b[0mx_k\u001b[0m \u001b[1;33m=\u001b[0m \u001b[0mnp\u001b[0m\u001b[1;33m.\u001b[0m\u001b[0mmatmul\u001b[0m\u001b[1;33m(\u001b[0m\u001b[0mnp\u001b[0m\u001b[1;33m.\u001b[0m\u001b[0mlinalg\u001b[0m\u001b[1;33m.\u001b[0m\u001b[0mmatrix_power\u001b[0m\u001b[1;33m(\u001b[0m\u001b[0mA\u001b[0m\u001b[1;33m,\u001b[0m \u001b[0mi\u001b[0m\u001b[1;33m)\u001b[0m\u001b[1;33m,\u001b[0m\u001b[0mx_0\u001b[0m\u001b[1;33m)\u001b[0m\u001b[1;33m\u001b[0m\u001b[1;33m\u001b[0m\u001b[0m\n\u001b[0m\u001b[0;32m      3\u001b[0m \u001b[0mx_k\u001b[0m \u001b[1;33m=\u001b[0m \u001b[0mlimit\u001b[0m\u001b[1;33m(\u001b[0m\u001b[0mx_k\u001b[0m\u001b[1;33m,\u001b[0m\u001b[0mi\u001b[0m\u001b[1;33m,\u001b[0m\u001b[0moo\u001b[0m\u001b[1;33m)\u001b[0m\u001b[1;33m\u001b[0m\u001b[1;33m\u001b[0m\u001b[0m\n\u001b[0;32m      4\u001b[0m \u001b[0mprint\u001b[0m\u001b[1;33m(\u001b[0m\u001b[0mx_k\u001b[0m\u001b[1;33m)\u001b[0m\u001b[1;33m\u001b[0m\u001b[1;33m\u001b[0m\u001b[0m\n",
      "\u001b[1;31mNameError\u001b[0m: name 'i' is not defined"
     ]
    }
   ],
   "source": [
    "# Insert code here\n",
    "x_k = np.matmul(np.linalg.matrix_power(A, i),x_0)\n",
    "x_k = limit(x_k,i,oo)\n",
    "print(x_k)"
   ]
  },
  {
   "cell_type": "code",
   "execution_count": 266,
   "metadata": {
    "ExecuteTime": {
     "end_time": "2021-05-24T09:01:49.564323Z",
     "start_time": "2021-05-24T09:01:49.558332Z"
    }
   },
   "outputs": [
    {
     "name": "stdout",
     "output_type": "stream",
     "text": [
      "D =\n",
      "[[1.         0.         0.        ]\n",
      " [0.         0.80382635 0.        ]\n",
      " [0.         0.         0.25117365]]\n",
      "\n",
      "P =\n",
      "[[ 0.99557949  0.81563112  0.32258572]\n",
      " [ 0.07964636 -0.44036406 -0.8108726 ]\n",
      " [ 0.04977897 -0.37526706  0.48828688]]\n",
      "\n",
      "P Inverse =\n",
      "[[ 0.88888508  0.88888508  0.88888508]\n",
      " [ 0.13565548 -0.80459134 -1.42576345]\n",
      " [ 0.01363798 -0.70897751  0.86160445]]\n",
      "\n",
      "\n",
      "A_k =\n",
      "[[inf inf inf]\n",
      " [inf inf inf]\n",
      " [inf inf inf]]\n"
     ]
    }
   ],
   "source": [
    "eig_val, eig_vec = np.linalg.eig(A)\n",
    "D = np.diag(eig_val)\n",
    "print(f'D =\\n{D}\\n')\n",
    "P = eig_vec\n",
    "print(f'P =\\n{P}\\n')\n",
    "print(f'P Inverse =\\n{P.I}\\n')\n",
    "\n",
    "A_k = P @ D**np.inf @ P.I\n",
    "print(f'\\nA_k =\\n{A_k}')"
   ]
  },
  {
   "cell_type": "markdown",
   "metadata": {},
   "source": [
    "#### Q3.\n",
    "\n",
    "Does the long-term value of the probability distribution vector depend on the particular starting value $x^{(0)}$?"
   ]
  },
  {
   "cell_type": "markdown",
   "metadata": {},
   "source": [
    "#### Answer:\n",
    "\n",
    "No, the long-term value of the probability distribution vector does not depend on $x^{(0)}$ based on the codes below."
   ]
  },
  {
   "cell_type": "code",
   "execution_count": 125,
   "metadata": {
    "ExecuteTime": {
     "end_time": "2021-05-24T06:53:20.722146Z",
     "start_time": "2021-05-24T06:53:20.713140Z"
    }
   },
   "outputs": [
    {
     "name": "stdout",
     "output_type": "stream",
     "text": [
      "x_0 = [0.33333333 0.33333333 0.33333333] -- x_k = [0.884955751979813, 0.0707964603025572, 0.0442477877176238]\n",
      "x_0 = [0.5 0.5 0. ] -- x_k = [0.884955752100978, 0.0707964602371396, 0.0442477876618766]\n",
      "x_0 = [0.2 0.5 0.3] -- x_k = [0.884955751944952, 0.0707964603213788, 0.0442477877336631]\n"
     ]
    }
   ],
   "source": [
    "# Insert code here\n",
    "x_0_test = np.array([[1/3, 1/3, 1/3],\n",
    "                    [0.5,0.5,0],\n",
    "                    [0.2,0.5,0.3]])\n",
    "\n",
    "for j in x_0_test:\n",
    "    x_k = np.matmul(np.linalg.matrix_power(A, i),j)\n",
    "    x_k = limit(x_k,i,oo)\n",
    "    print(f'x_0 = {j} -- x_k = {x_k}')"
   ]
  },
  {
   "cell_type": "code",
   "execution_count": 134,
   "metadata": {
    "ExecuteTime": {
     "end_time": "2021-05-24T06:55:16.630103Z",
     "start_time": "2021-05-24T06:55:16.591357Z"
    }
   },
   "outputs": [
    {
     "name": "stdout",
     "output_type": "stream",
     "text": [
      "x_0 = [0.33333333 0.33333333 0.33333333]\n",
      "i = 5 -- x_k = [0.69385395 0.17393818 0.13220788]\n",
      "i = 10 -- x_k = [0.8208176  0.10542499 0.07375741]\n",
      "i = 15 -- x_k = [0.86343151 0.08241752 0.05415096]\n",
      "i = 20 -- x_k = [0.8777324  0.07469639 0.04757121]\n",
      "i = 25 -- x_k = [0.88253165 0.07210524 0.0453631 ]\n",
      "i = 30 -- x_k = [0.88414225 0.07123568 0.04462208]\n",
      "i = 35 -- x_k = [0.88468275 0.07094386 0.0443734 ]\n",
      "i = 40 -- x_k = [0.88486413 0.07084593 0.04428994]\n",
      "i = 45 -- x_k = [0.88492501 0.07081306 0.04426193]\n",
      "i = 50 -- x_k = [0.88494543 0.07080203 0.04425253]\n",
      "i = 55 -- x_k = [0.88495229 0.07079833 0.04424938]\n",
      "i = 60 -- x_k = [0.88495459 0.07079709 0.04424832]\n",
      "i = 65 -- x_k = [0.88495536 0.07079667 0.04424797]\n",
      "i = 70 -- x_k = [0.88495562 0.07079653 0.04424785]\n",
      "i = 75 -- x_k = [0.88495571 0.07079648 0.04424781]\n",
      "i = 80 -- x_k = [0.88495574 0.07079647 0.04424779]\n",
      "i = 85 -- x_k = [0.88495575 0.07079646 0.04424779]\n",
      "i = 90 -- x_k = [0.88495575 0.07079646 0.04424779]\n",
      "i = 95 -- x_k = [0.88495575 0.07079646 0.04424779]\n",
      "\n",
      "\n",
      "x_0 = [0.5 0.5 0. ]\n",
      "i = 5 -- x_k = [0.7932934 0.1205068 0.0861998]\n",
      "i = 10 -- x_k = [0.85423214 0.08738454 0.05838332]\n",
      "i = 15 -- x_k = [0.8746452  0.07636319 0.04899161]\n",
      "i = 20 -- x_k = [0.88149562 0.07266461 0.04583978]\n",
      "i = 25 -- x_k = [0.88379456 0.07142339 0.04478205]\n",
      "i = 30 -- x_k = [0.88456607 0.07100685 0.04442708]\n",
      "i = 35 -- x_k = [0.88482498 0.07086707 0.04430796]\n",
      "i = 40 -- x_k = [0.88491187 0.07082016 0.04426798]\n",
      "i = 45 -- x_k = [0.88494102 0.07080441 0.04425456]\n",
      "i = 50 -- x_k = [0.88495081 0.07079913 0.04425006]\n",
      "i = 55 -- x_k = [0.88495409 0.07079736 0.04424855]\n",
      "i = 60 -- x_k = [0.8849552  0.07079676 0.04424804]\n",
      "i = 65 -- x_k = [0.88495557 0.07079656 0.04424787]\n",
      "i = 70 -- x_k = [0.88495569 0.07079649 0.04424782]\n",
      "i = 75 -- x_k = [0.88495573 0.07079647 0.0442478 ]\n",
      "i = 80 -- x_k = [0.88495575 0.07079646 0.04424779]\n",
      "i = 85 -- x_k = [0.88495575 0.07079646 0.04424779]\n",
      "i = 90 -- x_k = [0.88495575 0.07079646 0.04424779]\n",
      "i = 95 -- x_k = [0.88495575 0.07079646 0.04424779]\n",
      "\n",
      "\n",
      "x_0 = [0.2 0.5 0.3]\n",
      "i = 5 -- x_k = [0.66515842 0.18952571 0.14531587]\n",
      "i = 10 -- x_k = [0.81120366 0.11061571 0.07818063]\n",
      "i = 15 -- x_k = [0.86020517 0.08415944 0.05563538]\n",
      "i = 20 -- x_k = [0.87664966 0.07528097 0.04806937]\n",
      "i = 25 -- x_k = [0.8821683  0.07230142 0.04553028]\n",
      "i = 30 -- x_k = [0.88402031 0.07130151 0.04467818]\n",
      "i = 35 -- x_k = [0.88464182 0.07096595 0.04439222]\n",
      "i = 40 -- x_k = [0.8848504  0.07085334 0.04429626]\n",
      "i = 45 -- x_k = [0.8849204  0.07081555 0.04426405]\n",
      "i = 50 -- x_k = [0.88494389 0.07080287 0.04425325]\n",
      "i = 55 -- x_k = [0.88495177 0.07079861 0.04424962]\n",
      "i = 60 -- x_k = [0.88495442 0.07079718 0.0442484 ]\n",
      "i = 65 -- x_k = [0.8849553  0.0707967  0.04424799]\n",
      "i = 70 -- x_k = [0.8849556  0.07079654 0.04424786]\n",
      "i = 75 -- x_k = [0.8849557  0.07079649 0.04424781]\n",
      "i = 80 -- x_k = [0.88495574 0.07079647 0.0442478 ]\n",
      "i = 85 -- x_k = [0.88495575 0.07079646 0.04424779]\n",
      "i = 90 -- x_k = [0.88495575 0.07079646 0.04424779]\n",
      "i = 95 -- x_k = [0.88495575 0.07079646 0.04424779]\n",
      "\n",
      "\n"
     ]
    }
   ],
   "source": [
    "x_0_test = np.array([[1/3, 1/3, 1/3],\n",
    "                     [0.5,0.5,0],\n",
    "                     [0.2,0.5,0.3]])\n",
    "for j in x_0_test:\n",
    "    print(f'x_0 = {j}')\n",
    "    for i in range(1,100):\n",
    "        x_k = np.matmul(np.linalg.matrix_power(A, i),j)\n",
    "        if i%5 == 0:\n",
    "            print(f'i = {i} -- x_k = {x_k.T}')\n",
    "    print('\\n')"
   ]
  },
  {
   "cell_type": "markdown",
   "metadata": {},
   "source": [
    "#### Q4.\n",
    "\n",
    "What is the value of $\\lim_{k \\rightarrow \\infty} A^k$?"
   ]
  },
  {
   "cell_type": "code",
   "execution_count": 187,
   "metadata": {
    "ExecuteTime": {
     "end_time": "2021-05-24T07:53:51.106271Z",
     "start_time": "2021-05-24T07:53:51.090277Z"
    },
    "scrolled": false
   },
   "outputs": [
    {
     "name": "stdout",
     "output_type": "stream",
     "text": [
      "[[0.88495575 0.88495575 0.88495575]\n",
      " [0.07079646 0.07079646 0.07079646]\n",
      " [0.04424779 0.04424779 0.04424779]]\n"
     ]
    }
   ],
   "source": [
    "# Insert code here\n",
    "A_k = np.linalg.matrix_power(A, 200)\n",
    "print(A_k)"
   ]
  },
  {
   "cell_type": "markdown",
   "metadata": {},
   "source": [
    "#### Q5.\n",
    "\n",
    "Compute the eigenvalues and eigenvectors of $A$. "
   ]
  },
  {
   "cell_type": "code",
   "execution_count": 160,
   "metadata": {
    "ExecuteTime": {
     "end_time": "2021-05-24T07:05:40.721925Z",
     "start_time": "2021-05-24T07:05:40.715386Z"
    }
   },
   "outputs": [
    {
     "name": "stdout",
     "output_type": "stream",
     "text": [
      "eigenvalues of A:\n",
      " [1.         0.80382635 0.25117365]\n",
      "\n",
      "eigenvectors of A: \n",
      "[[ 0.99557949  0.81563112  0.32258572]\n",
      " [ 0.07964636 -0.44036406 -0.8108726 ]\n",
      " [ 0.04977897 -0.37526706  0.48828688]]\n"
     ]
    }
   ],
   "source": [
    "# Insert code here\n",
    "print(f'eigenvalues of A:\\n {np.linalg.eig(A)[0]}\\n\\neigenvectors of A: \\n{np.linalg.eig(A)[1]}')"
   ]
  },
  {
   "cell_type": "markdown",
   "metadata": {},
   "source": [
    "#### Q6.\n",
    "\n",
    "Explain your answer in <b>Q4</b> in terms of the eigenvalues and eigenvectors."
   ]
  },
  {
   "cell_type": "markdown",
   "metadata": {},
   "source": [
    "#### Answer:\n",
    "\n",
    "Using Eigendecomposition, we can decompose $\\lim_{k \\rightarrow \\infty} A^k$ into $\\lim_{k \\rightarrow \\infty} A^k = \\lim_{k \\rightarrow \\infty} P D^{k} P^{-1}$"
   ]
  },
  {
   "cell_type": "code",
   "execution_count": 217,
   "metadata": {
    "ExecuteTime": {
     "end_time": "2021-05-24T08:15:17.640806Z",
     "start_time": "2021-05-24T08:15:17.624808Z"
    }
   },
   "outputs": [
    {
     "name": "stdout",
     "output_type": "stream",
     "text": [
      "D =\n",
      "[[1.         0.         0.        ]\n",
      " [0.         0.80382635 0.        ]\n",
      " [0.         0.         0.25117365]]\n",
      "\n",
      "P =\n",
      "[[ 0.99557949  0.81563112  0.32258572]\n",
      " [ 0.07964636 -0.44036406 -0.8108726 ]\n",
      " [ 0.04977897 -0.37526706  0.48828688]]\n",
      "\n",
      "P Inverse =\n",
      "[[ 0.88888508  0.88888508  0.88888508]\n",
      " [ 0.13565548 -0.80459134 -1.42576345]\n",
      " [ 0.01363798 -0.70897751  0.86160445]]\n",
      "\n",
      "\n",
      "A_k =\n",
      "[[0.88495575 0.88495575 0.88495575]\n",
      " [0.07079646 0.07079646 0.07079646]\n",
      " [0.04424779 0.04424779 0.04424779]]\n"
     ]
    }
   ],
   "source": [
    "# Insert code here\n",
    "eig_val, eig_vec = np.linalg.eig(A)\n",
    "D = np.matrix(np.diag(eig_val))\n",
    "print(f'D =\\n{D}\\n')\n",
    "P = np.matrix(eig_vec)\n",
    "print(f'P =\\n{P}\\n')\n",
    "print(f'P Inverse =\\n{P.I}\\n')\n",
    "\n",
    "A_k = P * np.linalg.matrix_power(D, 200) * P.I\n",
    "print(f'\\nA_k =\\n{A_k}')"
   ]
  },
  {
   "cell_type": "markdown",
   "metadata": {},
   "source": [
    "#### Q7.\n",
    "\n",
    "Must 1 always be an eigenvalue of the transition matrix of a Markov chain? Why?"
   ]
  },
  {
   "cell_type": "markdown",
   "metadata": {},
   "source": [
    "#### Answer:\n",
    "\n",
    "$\\lambda$ is an eigenvalue of $A$ if and only if: \\\n",
    "&emsp;&emsp;$\\text{det}(A-\\lambda • I) = 0$\n",
    "\n",
    "The determinant of $A - 1 • I = 0$\n",
    "\n",
    "Therefore, $\\lambda = 1$ is always an eigenvalue of the transition matrix of a Markov chain."
   ]
  },
  {
   "cell_type": "markdown",
   "metadata": {},
   "source": [
    "#### Q8.\n",
    "\n",
    "A probability distribution vector $x$ is said to be <b><i>stationary</i></b> if $Ax = x$. \n",
    "\n",
    "How can you determine such a stationary value $x$ using the eigenvalues and eigenvectors of $A$?\n",
    "\n",
    "<i>Some Hints</i>:\n",
    "\n",
    "1) Recall the formal definition of an eigenvalue-eigenvector pair. Can you see its relation to the question being asked?\n",
    "\n",
    "2) Try solving <b>Q5</b> by hand <u>OR</u> try to understand what `numpy.linalg.eig` does to your eigenvectors."
   ]
  },
  {
   "cell_type": "markdown",
   "metadata": {},
   "source": [
    "#### Answer:\n",
    "\n",
    "$x$ = eigenvector of $A$ where eigenvalue is 1\n",
    "\\begin{align}\n",
    "\\lambda = 1,\\  \n",
    "x = \\begin{bmatrix}\n",
    "0.99557949 \\\\\n",
    "0.07964636 \\\\\n",
    "0.04977897\n",
    "\\end{bmatrix}\n",
    "\\end{align}"
   ]
  },
  {
   "cell_type": "code",
   "execution_count": 244,
   "metadata": {
    "ExecuteTime": {
     "end_time": "2021-05-24T08:32:50.280453Z",
     "start_time": "2021-05-24T08:32:50.270453Z"
    }
   },
   "outputs": [
    {
     "name": "stdout",
     "output_type": "stream",
     "text": [
      "x =\n",
      "[[0.99557949]\n",
      " [0.07964636]\n",
      " [0.04977897]]\n",
      "\n",
      "\n",
      "Ax =\n",
      "[[0.99557949]\n",
      " [0.07964636]\n",
      " [0.04977897]]\n"
     ]
    }
   ],
   "source": [
    "# Insert code here\n",
    "eig_val, eig_vec = np.linalg.eig(A)\n",
    "x_stationary = eig_vec.T[0]\n",
    "x_stationary = x_stationary.T\n",
    "\n",
    "#Showing that Ax = x\n",
    "print(f'x =\\n{x_stationary}')\n",
    "print('\\n')\n",
    "prod = np.matmul(A, x_stationary)\n",
    "\n",
    "print(f'Ax =\\n{prod}')"
   ]
  },
  {
   "cell_type": "markdown",
   "metadata": {},
   "source": [
    "#### Q9.\n",
    "\n",
    "How can you determine a stationary value $x$ <i>without</i> knowledge of the eigenvalues and eigenvectors of $A$?"
   ]
  },
  {
   "cell_type": "markdown",
   "metadata": {},
   "source": [
    "#### Answer:\n",
    "\n",
    "We can use"
   ]
  },
  {
   "cell_type": "markdown",
   "metadata": {},
   "source": [
    "#### Q10.\n",
    "\n",
    "Can there be more than one stationary distribution vector for a given Markov chain? If not, why? If so, give an example."
   ]
  },
  {
   "cell_type": "markdown",
   "metadata": {},
   "source": [
    "#### Answer:\n",
    "\n",
    "(?)"
   ]
  },
  {
   "cell_type": "code",
   "execution_count": null,
   "metadata": {},
   "outputs": [],
   "source": [
    "# Insert code here"
   ]
  },
  {
   "cell_type": "markdown",
   "metadata": {},
   "source": [
    "#### Bonus.\n",
    "\n",
    "Is it possible for a Markov chain to <b><u>NOT</b></u> have a stationary distribution? If not, why? If so, give an example."
   ]
  },
  {
   "cell_type": "markdown",
   "metadata": {},
   "source": [
    "#### Answer:\n",
    "\n",
    "(?)"
   ]
  }
 ],
 "metadata": {
  "kernelspec": {
   "display_name": "Python 3",
   "language": "python",
   "name": "python3"
  },
  "language_info": {
   "codemirror_mode": {
    "name": "ipython",
    "version": 3
   },
   "file_extension": ".py",
   "mimetype": "text/x-python",
   "name": "python",
   "nbconvert_exporter": "python",
   "pygments_lexer": "ipython3",
   "version": "3.7.7"
  },
  "toc": {
   "base_numbering": 1,
   "nav_menu": {},
   "number_sections": true,
   "sideBar": true,
   "skip_h1_title": false,
   "title_cell": "Table of Contents",
   "title_sidebar": "Contents",
   "toc_cell": false,
   "toc_position": {},
   "toc_section_display": true,
   "toc_window_display": true
  },
  "varInspector": {
   "cols": {
    "lenName": 16,
    "lenType": 16,
    "lenVar": 40
   },
   "kernels_config": {
    "python": {
     "delete_cmd_postfix": "",
     "delete_cmd_prefix": "del ",
     "library": "var_list.py",
     "varRefreshCmd": "print(var_dic_list())"
    },
    "r": {
     "delete_cmd_postfix": ") ",
     "delete_cmd_prefix": "rm(",
     "library": "var_list.r",
     "varRefreshCmd": "cat(var_dic_list()) "
    }
   },
   "types_to_exclude": [
    "module",
    "function",
    "builtin_function_or_method",
    "instance",
    "_Feature"
   ],
   "window_display": false
  }
 },
 "nbformat": 4,
 "nbformat_minor": 2
}
