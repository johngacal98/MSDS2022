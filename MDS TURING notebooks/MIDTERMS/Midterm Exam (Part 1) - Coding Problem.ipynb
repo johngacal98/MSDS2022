{
 "cells": [
  {
   "cell_type": "markdown",
   "metadata": {},
   "source": [
    "# Mathematics for Data Science\n",
    "\n",
    "## Midterm Exam (Part 1) - Coding Problem\n",
    "\n",
    "This notebook should be submitted <b><u>individually</u></b>.   \n",
    "\n",
    "Name: John Gacal"
   ]
  },
  {
   "cell_type": "markdown",
   "metadata": {},
   "source": [
    "<b><u>Read the instructions and questions carefully.</u></b>\n",
    "\n",
    "Do <b><u>NOT</u></b> import any other libraries aside from those below."
   ]
  },
  {
   "cell_type": "code",
   "execution_count": 5,
   "metadata": {
    "ExecuteTime": {
     "end_time": "2021-05-10T09:38:19.788176Z",
     "start_time": "2021-05-10T09:38:19.642015Z"
    }
   },
   "outputs": [],
   "source": [
    "import numpy as np"
   ]
  },
  {
   "cell_type": "markdown",
   "metadata": {},
   "source": [
    "---\n",
    "\n",
    "## Inverting Matrices (10 pts.)"
   ]
  },
  {
   "cell_type": "markdown",
   "metadata": {},
   "source": [
    "### Q1. Determinant of an $n \\times n$ Matrix (5 pts.)\n",
    "\n",
    "Create a python function called `determinant` that can calculate the determinant of an $n \\times n$ matrix.\n",
    "\n",
    "Use it to calculate the determinant of the following matrices:\n",
    "\n",
    "\\begin{equation}\n",
    "    A = \\begin{bmatrix}\n",
    "    8 & 5 & 3\\\\\n",
    "    -3 & 10 & 2\\\\\n",
    "    2 & 0 & -4\\\\\n",
    "    \\end{bmatrix}\n",
    "\\end{equation}\n",
    "\n",
    "\\begin{equation}\n",
    "    B = \\begin{bmatrix}\n",
    "    1 & -3 & 5 & -7\\\\\n",
    "   -2 & 4 & -6 & 8\\\\\n",
    "    12 & 11 & 10 & 9\\\\\n",
    "    -13 & -14 & -15 & -16\n",
    "    \\end{bmatrix}\n",
    "\\end{equation}\n",
    "\n",
    "<b>Notes:</b> \n",
    "\n",
    "1. For this problem, the only `numpy` functions you may use are: `np.array`, `np.matrix`, and `np.delete` (i.e. do <b><u>NOT</b></u> use `np.ndarray.dot`, `np.matmul`, etc.).\n",
    "\n",
    "\n",
    "2. For simplicity, you may assume that the input dimensions are valid.\n",
    "\n",
    "\n",
    "3. You can use `np.linalg.det` to check your answer."
   ]
  },
  {
   "cell_type": "code",
   "execution_count": 21,
   "metadata": {
    "ExecuteTime": {
     "end_time": "2021-05-10T10:48:56.592188Z",
     "start_time": "2021-05-10T10:48:56.580247Z"
    }
   },
   "outputs": [
    {
     "name": "stdout",
     "output_type": "stream",
     "text": [
      "340\n",
      "340.0000000000001\n",
      "800\n",
      "799.9999999999999\n"
     ]
    }
   ],
   "source": [
    "# Your code here\n",
    "\n",
    "def determinant(A):\n",
    "    if A.shape == (2, 2):\n",
    "        return A[0, 0]*A[1, 1] - A[1, 0]*A[0, 1]\n",
    "    elif A.shape == (1,1):\n",
    "        return A[0][0]\n",
    "    \n",
    "    else:\n",
    "        i = 0\n",
    "        rolling_sum = 0\n",
    "        for j in range(A.shape[1]):\n",
    "            rolling_sum += ((-1)**(i+j+2))*A[i, j]*determinant(np.delete(A, j, 1)[i+1:])\n",
    "        return rolling_sum\n",
    "            \n",
    "A = np.array([[8, 5, 3], [-3, 10, 2], [2, 0, 4]])\n",
    "\n",
    "print(determinant(A))\n",
    "print(np.linalg.det(A))\n",
    "\n",
    "B = np.array([[1, -3, 5, -7], [-2, 4, -6, 8], [12, 11, 10, 9], [-13, -14, -15, -16]])\n",
    "\n",
    "print(determinant(B))\n",
    "print(np.linalg.det(B))\n",
    "\n"
   ]
  },
  {
   "cell_type": "markdown",
   "metadata": {},
   "source": [
    "### Q2. Method of Cofactors (5 pts.)\n",
    "\n",
    "Create a python function called `adjoint` that can calculate the adjoint of an $n \\times n$ matrix. \n",
    "\n",
    "Using the <b><i>method of cofactors</b></i>, calculate the inverse of the following matrices:\n",
    "\n",
    "\\begin{equation}\n",
    "    A = \\begin{bmatrix}\n",
    "    8 & 5 & 3\\\\\n",
    "    -3 & 10 & 2\\\\\n",
    "    2 & 0 & -4\\\\\n",
    "    \\end{bmatrix}\n",
    "\\end{equation}\n",
    "\n",
    "\\begin{equation}\n",
    "    B = \\begin{bmatrix}\n",
    "    1 & -3 & 5 & -7\\\\\n",
    "   -2 & 4 & -6 & 8\\\\\n",
    "    12 & 11 & 10 & 9\\\\\n",
    "    -13 & -14 & -15 & -16\n",
    "    \\end{bmatrix}\n",
    "\\end{equation}\n",
    "\n",
    "<b>Notes:</b> \n",
    "\n",
    "1. For this problem, the only `numpy` functions you may use are: `np.array`, `np.matrix`, `np.zeros`, `np.transpose / np.ndarray.T`, and `np.delete` (i.e. do <b><u>NOT</b></u> use `np.ndarray.dot`, `np.matmul`, etc.).\n",
    "\n",
    "\n",
    "2. For simplicity, you may assume that the input dimensions are valid.\n",
    "\n",
    "\n",
    "3. You can use `np.linalg.inv` to check your answer."
   ]
  },
  {
   "cell_type": "code",
   "execution_count": 22,
   "metadata": {
    "ExecuteTime": {
     "end_time": "2021-05-10T10:49:11.676079Z",
     "start_time": "2021-05-10T10:49:11.665841Z"
    }
   },
   "outputs": [
    {
     "name": "stdout",
     "output_type": "stream",
     "text": [
      "[[ 0.11764706 -0.05882353 -0.05882353]\n",
      " [ 0.04705882  0.07647059 -0.07352941]\n",
      " [-0.05882353  0.02941176  0.27941176]]\n",
      "[[ 0.11764706 -0.05882353 -0.05882353]\n",
      " [ 0.04705882  0.07647059 -0.07352941]\n",
      " [-0.05882353  0.02941176  0.27941176]]\n",
      "[[-0.75  -0.625  0.15   0.1  ]\n",
      " [ 1.     0.875  0.16   0.09 ]\n",
      " [ 0.25   0.125 -0.13  -0.12 ]\n",
      " [-0.5   -0.375 -0.14  -0.11 ]]\n",
      "[[-0.75  -0.625  0.15   0.1  ]\n",
      " [ 1.     0.875  0.16   0.09 ]\n",
      " [ 0.25   0.125 -0.13  -0.12 ]\n",
      " [-0.5   -0.375 -0.14  -0.11 ]]\n"
     ]
    }
   ],
   "source": [
    "def adjoint(A):\n",
    "    C = np.zeros(shape=(A.shape[0], A.shape[1]))\n",
    "    for i in range(A.shape[0]):\n",
    "        for j in range(A.shape[1]):\n",
    "            C[i, j] = ((-1)**(i+j+2))*determinant(np.delete(np.delete(A, i, 0), j, 1))\n",
    "    return np.transpose(C)\n",
    "\n",
    "print(adjoint(A)/determinant(A))\n",
    "print(np.linalg.inv(A))\n",
    "\n",
    "print(adjoint(B)/determinant(B))\n",
    "print(np.linalg.inv(B))"
   ]
  },
  {
   "cell_type": "code",
   "execution_count": null,
   "metadata": {},
   "outputs": [],
   "source": []
  }
 ],
 "metadata": {
  "kernelspec": {
   "display_name": "Python 3",
   "language": "python",
   "name": "python3"
  },
  "language_info": {
   "codemirror_mode": {
    "name": "ipython",
    "version": 3
   },
   "file_extension": ".py",
   "mimetype": "text/x-python",
   "name": "python",
   "nbconvert_exporter": "python",
   "pygments_lexer": "ipython3",
   "version": "3.7.7"
  },
  "latex_envs": {
   "LaTeX_envs_menu_present": true,
   "autoclose": false,
   "autocomplete": true,
   "bibliofile": "biblio.bib",
   "cite_by": "apalike",
   "current_citInitial": 1,
   "eqLabelWithNumbers": true,
   "eqNumInitial": 1,
   "hotkeys": {
    "equation": "Ctrl-E",
    "itemize": "Ctrl-I"
   },
   "labels_anchors": false,
   "latex_user_defs": false,
   "report_style_numbering": false,
   "user_envs_cfg": false
  }
 },
 "nbformat": 4,
 "nbformat_minor": 2
}
