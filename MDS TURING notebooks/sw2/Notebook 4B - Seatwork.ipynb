{
 "cells": [
  {
   "cell_type": "markdown",
   "metadata": {},
   "source": [
    "## Notebook 4B: Seatwork\n",
    "\n",
    "This seatwork should be submitted <b>by LT</b>.   \n",
    "\n",
    "LT Number: 10\n",
    "\n",
    "Names: Janica Lae Batang, Mary Honeylie Buitre, Paolo Jose de Guzman, John Francis Gacal, Vincent John Rivera"
   ]
  },
  {
   "cell_type": "markdown",
   "metadata": {},
   "source": [
    "---\n",
    "\n",
    "Bioremediation invloves the use of bacteria to consume toxic wastes. Very cool.\n",
    "\n",
    "At steady state, the bacterial density $x$ and nutrient concentration $y$ satisfy the following system of nonlinear equations:\n",
    "\n",
    "\\begin{align*}\n",
    "    \\gamma x y - x(1 + y) &= 0\\\\\n",
    "    - x y + (\\delta - y)(1 + y) &= 0\\\\\n",
    "\\end{align*}\n",
    "\n",
    "where $\\gamma$ and $\\delta$ are parameters that depend on various pyshical features of the system.\n",
    "\n",
    "For this problem, let $\\gamma = 5$ and $\\delta = 1$.\n",
    "\n",
    "<b><u>Solve this system using Gradient Descent and Newton-Raphson</b></u>.\n",
    "\n",
    "You should find at least one solution with a non-zero bacterial density (i.e. $x \\neq 0$), and one solution in which the bacterial population has died out (i.e. $x = 0$)."
   ]
  },
  {
   "cell_type": "markdown",
   "metadata": {},
   "source": [
    "---\n",
    "\n",
    "#### Gradient Descent"
   ]
  },
  {
   "cell_type": "code",
   "execution_count": 79,
   "metadata": {
    "ExecuteTime": {
     "end_time": "2021-05-10T07:37:01.101002Z",
     "start_time": "2021-05-10T07:37:01.067664Z"
    }
   },
   "outputs": [
    {
     "name": "stdout",
     "output_type": "stream",
     "text": [
      "alpha = 0.05\n",
      "k = 0 -- -- x_k[0] = -1.000000 -- -- x_k[1] = -1.000000 -- -- G(x_k) = 13.000000\n",
      "k = 10 -- -- x_k[0] = 0.379542 -- -- x_k[1] = 0.434217 -- -- G(x_k) = 0.248188\n",
      "k = 20 -- -- x_k[0] = 0.338464 -- -- x_k[1] = 0.549887 -- -- G(x_k) = 0.213239\n",
      "k = 30 -- -- x_k[0] = 0.206036 -- -- x_k[1] = 0.674682 -- -- G(x_k) = 0.143584\n",
      "k = 40 -- -- x_k[0] = 0.061481 -- -- x_k[1] = 0.860938 -- -- G(x_k) = 0.032475\n",
      "k = 50 -- -- x_k[0] = 0.010001 -- -- x_k[1] = 0.969534 -- -- G(x_k) = 0.001680\n",
      "k = 60 -- -- x_k[0] = 0.001552 -- -- x_k[1] = 0.994938 -- -- G(x_k) = 0.000047\n",
      "k = 70 -- -- x_k[0] = 0.000242 -- -- x_k[1] = 0.999204 -- -- G(x_k) = 0.000001\n",
      "k = 80 -- -- x_k[0] = 0.000038 -- -- x_k[1] = 0.999876 -- -- G(x_k) = 0.000000\n",
      "k = 90 -- -- x_k[0] = 0.000006 -- -- x_k[1] = 0.999981 -- -- G(x_k) = 0.000000\n",
      "k = 100 -- -- x_k[0] = 0.000001 -- -- x_k[1] = 0.999997 -- -- G(x_k) = 0.000000\n",
      "k = 110 -- -- x_k[0] = 0.000000 -- -- x_k[1] = 1.000000 -- -- G(x_k) = 0.000000\n",
      "k = 120 -- -- x_k[0] = 0.000000 -- -- x_k[1] = 1.000000 -- -- G(x_k) = 0.000000\n",
      "k = 130 -- -- x_k[0] = 0.000000 -- -- x_k[1] = 1.000000 -- -- G(x_k) = 0.000000\n",
      "k = 140 -- -- x_k[0] = 0.000000 -- -- x_k[1] = 1.000000 -- -- G(x_k) = 0.000000\n"
     ]
    }
   ],
   "source": [
    "import numpy as np\n",
    "\n",
    "def f(x):\n",
    "    return 5*x[0]*x[1] - x[0]*(1+x[1])\n",
    "\n",
    "def g(x):\n",
    "    return -(x[0]*x[1]) + (1-x[1])*(1+x[1])\n",
    "\n",
    "def G(x):\n",
    "    return (f(x)**2 + g(x)**2)/2\n",
    "\n",
    "x_k = np.array([-1, -1])\n",
    "alpha = 0.05\n",
    "print('alpha = %.2f' %alpha)\n",
    "\n",
    "for k in range(150):\n",
    "    if k % 10 == 0:\n",
    "        print(\"k = %d --\" %k,\"-- x_k[0] = %.6f --\" %x_k[0],\"-- x_k[1] = %.6f --\" %x_k[1], \"-- G(x_k) = %.6f\" %G(x_k))\n",
    "    x_k = x_k - alpha*np.array(\n",
    "        [17*x_k[0]*x_k[1]**2 - 8*x_k[0]*x_k[1] + x_k[1]**3 + x_k[0] - x_k[1], \n",
    "         17*x_k[1]*x_k[0]**2 + 3*x_k[0]*x_k[1]**2 + 2*x_k[1]**3 - 4*x_k[0]**2 - 2*x_k[1] - x_k[0]])"
   ]
  },
  {
   "cell_type": "markdown",
   "metadata": {},
   "source": [
    "\\begin{align*}\n",
    "\\text{Solution}: \\\n",
    "x = 0, \\\n",
    "y = 1\n",
    "\\end{align*}"
   ]
  },
  {
   "cell_type": "markdown",
   "metadata": {},
   "source": [
    "---\n",
    "\n",
    "#### Newton-Raphson"
   ]
  },
  {
   "cell_type": "code",
   "execution_count": 81,
   "metadata": {
    "ExecuteTime": {
     "end_time": "2021-05-10T07:37:45.669250Z",
     "start_time": "2021-05-10T07:37:45.637101Z"
    }
   },
   "outputs": [
    {
     "name": "stdout",
     "output_type": "stream",
     "text": [
      "(2,)\n",
      "k = 0 -- -- x_k[0] = -2.000000 -- -- x_k[1] = -2.000000 -- -- f(x_k) = [18 -7]\n",
      "k = 1 -- -- x_k[0] = -0.631579 -- -- x_k[1] = -1.289474 -- -- f(x_k) = [ 3.88919668 -1.47714681]\n",
      "k = 2 -- -- x_k[0] = -0.101396 -- -- x_k[1] = -1.042321 -- -- f(x_k) = [ 0.52414434 -0.19212047]\n",
      "k = 3 -- -- x_k[0] = -0.003223 -- -- x_k[1] = -1.001246 -- -- f(x_k) = [ 0.01613003 -0.0057197 ]\n",
      "k = 4 -- -- x_k[0] = -0.000003 -- -- x_k[1] = -1.000001 -- -- f(x_k) = [ 1.60270534e-05 -5.55553227e-06]\n",
      "k = 5 -- -- x_k[0] = -0.000000 -- -- x_k[1] = -1.000000 -- -- f(x_k) = [ 1.50661540e-11 -5.14707945e-12]\n",
      "k = 6 -- -- x_k[0] = -0.000000 -- -- x_k[1] = -1.000000 -- -- f(x_k) = [ 1.28600736e-23 -2.57201472e-24]\n",
      "k = 7 -- -- x_k[0] = 0.000000 -- -- x_k[1] = -1.000000 -- -- f(x_k) = [-0.  0.]\n",
      "k = 8 -- -- x_k[0] = 0.000000 -- -- x_k[1] = -1.000000 -- -- f(x_k) = [-0.  0.]\n",
      "k = 9 -- -- x_k[0] = 0.000000 -- -- x_k[1] = -1.000000 -- -- f(x_k) = [-0.  0.]\n"
     ]
    }
   ],
   "source": [
    "def f(x):\n",
    "    return np.array([5*x[0]*x[1] - x[0]*(1+x[1]), -(x[0]*x[1]) + (1-x[1])*(1+x[1])])\n",
    "\n",
    "def f_jacob(x):\n",
    "    return np.array([[4*x[1] - 1, 4*x[0]],\n",
    "                     [-x[1], -2*x[1] - x[0]]])\n",
    "\n",
    "x_k = np.array([-2, -2])\n",
    "\n",
    "print(x_k.shape)\n",
    "\n",
    "for k in range(0, 10):\n",
    "    print(\"k = %d --\" %k,\"-- x_k[0] = %.6f --\" %x_k[0],\"-- x_k[1] = %.6f --\" %x_k[1],\"-- f(x_k) =\", f(x_k))\n",
    "    x_k = x_k - np.matmul(np.linalg.inv(f_jacob(x_k)), f(x_k))"
   ]
  },
  {
   "cell_type": "markdown",
   "metadata": {
    "ExecuteTime": {
     "end_time": "2021-05-10T07:35:32.319142Z",
     "start_time": "2021-05-10T07:35:32.304001Z"
    }
   },
   "source": [
    "\\begin{align*}\n",
    "\\text{Solution}:\\\n",
    "x = 0, \\\n",
    "y = -1\n",
    "\\end{align*}"
   ]
  },
  {
   "cell_type": "code",
   "execution_count": null,
   "metadata": {},
   "outputs": [],
   "source": []
  }
 ],
 "metadata": {
  "kernelspec": {
   "display_name": "Python 3",
   "language": "python",
   "name": "python3"
  },
  "language_info": {
   "codemirror_mode": {
    "name": "ipython",
    "version": 3
   },
   "file_extension": ".py",
   "mimetype": "text/x-python",
   "name": "python",
   "nbconvert_exporter": "python",
   "pygments_lexer": "ipython3",
   "version": "3.7.7"
  },
  "latex_envs": {
   "LaTeX_envs_menu_present": true,
   "autoclose": false,
   "autocomplete": true,
   "bibliofile": "biblio.bib",
   "cite_by": "apalike",
   "current_citInitial": 1,
   "eqLabelWithNumbers": true,
   "eqNumInitial": 1,
   "hotkeys": {
    "equation": "Ctrl-E",
    "itemize": "Ctrl-I"
   },
   "labels_anchors": false,
   "latex_user_defs": false,
   "report_style_numbering": false,
   "user_envs_cfg": false
  },
  "toc": {
   "base_numbering": 1,
   "nav_menu": {},
   "number_sections": true,
   "sideBar": true,
   "skip_h1_title": false,
   "title_cell": "Table of Contents",
   "title_sidebar": "Contents",
   "toc_cell": false,
   "toc_position": {},
   "toc_section_display": true,
   "toc_window_display": false
  },
  "varInspector": {
   "cols": {
    "lenName": 16,
    "lenType": 16,
    "lenVar": 40
   },
   "kernels_config": {
    "python": {
     "delete_cmd_postfix": "",
     "delete_cmd_prefix": "del ",
     "library": "var_list.py",
     "varRefreshCmd": "print(var_dic_list())"
    },
    "r": {
     "delete_cmd_postfix": ") ",
     "delete_cmd_prefix": "rm(",
     "library": "var_list.r",
     "varRefreshCmd": "cat(var_dic_list()) "
    }
   },
   "types_to_exclude": [
    "module",
    "function",
    "builtin_function_or_method",
    "instance",
    "_Feature"
   ],
   "window_display": false
  }
 },
 "nbformat": 4,
 "nbformat_minor": 2
}
