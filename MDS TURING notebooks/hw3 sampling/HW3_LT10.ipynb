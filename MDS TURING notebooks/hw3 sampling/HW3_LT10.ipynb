{
 "cells": [
  {
   "cell_type": "markdown",
   "metadata": {},
   "source": [
    "# Homework 3\n",
    "\n",
    "This homework should be submitted <b>by LT</b>.   \n",
    "\n",
    "LT Number: 10\n",
    "\n",
    "Names: Janica Lae Batang, Mary Honeylie Buitre, Paolo Jose de Guzman, John Francis Gacal, Vincent John Rivera"
   ]
  },
  {
   "cell_type": "markdown",
   "metadata": {},
   "source": [
    "Do <b><u>NOT</u></b> import any other libraries aside from those below."
   ]
  },
  {
   "cell_type": "code",
   "execution_count": 2,
   "metadata": {
    "ExecuteTime": {
     "end_time": "2021-05-04T01:49:13.277431Z",
     "start_time": "2021-05-04T01:49:12.806255Z"
    }
   },
   "outputs": [],
   "source": [
    "import numpy as np\n",
    "from scipy.stats import norm"
   ]
  },
  {
   "cell_type": "markdown",
   "metadata": {},
   "source": [
    "## I. Calculating Expectations and Variance"
   ]
  },
  {
   "cell_type": "markdown",
   "metadata": {},
   "source": [
    "Let $X$ be the sum of the rolls of two independent and fair 6-sided dice.\n",
    "\n",
    "#### Q. Create a <b><u>numpy array</b></u> called `domain_X` and store the possible values of $X$. Print the variable."
   ]
  },
  {
   "cell_type": "code",
   "execution_count": 3,
   "metadata": {
    "ExecuteTime": {
     "end_time": "2021-05-04T01:49:14.717343Z",
     "start_time": "2021-05-04T01:49:14.709355Z"
    }
   },
   "outputs": [
    {
     "name": "stdout",
     "output_type": "stream",
     "text": [
      "[ 2  3  4  5  6  7  8  9 10 11 12]\n"
     ]
    }
   ],
   "source": [
    "die1 = [1,2,3,4,5,6] #possible outcomes for die1\n",
    "die2 = [1,2,3,4,5,6] #possible outcomes for die2\n",
    "\n",
    "y = [i + j for i in die1 for j in die2] #getting possible sums of 2 die rolled\n",
    "domain_X = np.array(list(set(y))) #getting unique sums as the domain of X\n",
    "\n",
    "print(domain_X)"
   ]
  },
  {
   "cell_type": "markdown",
   "metadata": {},
   "source": [
    "#### Q. Create a <b><u>numpy array</b></u> called `prob_vec` and store the probabilities associated with the outcomes above. Print the variable."
   ]
  },
  {
   "cell_type": "code",
   "execution_count": 6,
   "metadata": {
    "ExecuteTime": {
     "end_time": "2021-05-04T01:49:16.320859Z",
     "start_time": "2021-05-04T01:49:16.304783Z"
    }
   },
   "outputs": [
    {
     "name": "stdout",
     "output_type": "stream",
     "text": [
      "[ 2  3  4  5  6  7  8  9 10 11 12]: len:11\n",
      "[0.02777778 0.05555556 0.08333333 0.11111111 0.13888889 0.16666667\n",
      " 0.13888889 0.11111111 0.08333333 0.05555556 0.02777778]: len:11\n"
     ]
    }
   ],
   "source": [
    "prob_vec= []\n",
    "\n",
    "for i in set(y):\n",
    "    prob = y.count(i)/len(y) #getting probability of possible sum (sum/total no. of sums possible)\n",
    "    prob_vec.append(prob)\n",
    "\n",
    "prob_vec = np.array(prob_vec) #converting probabilities into a vector \n",
    "print(f'{domain_X}: len:{len(domain_X)}')\n",
    "print(f'{prob_vec}: len:{len(prob_vec)}')"
   ]
  },
  {
   "cell_type": "markdown",
   "metadata": {},
   "source": [
    "#### Q. Calculate and print $E[X]$."
   ]
  },
  {
   "cell_type": "code",
   "execution_count": 7,
   "metadata": {
    "ExecuteTime": {
     "end_time": "2021-05-04T01:49:21.774658Z",
     "start_time": "2021-05-04T01:49:17.463402Z"
    }
   },
   "outputs": [
    {
     "name": "stdout",
     "output_type": "stream",
     "text": [
      "Analytical:6.999999999999999\n",
      "Simulation:[6.99982]\n"
     ]
    }
   ],
   "source": [
    "#Analytical\n",
    "E_x_ana = sum(domain_X * prob_vec) #mean sum\n",
    "\n",
    "#Simulation\n",
    "sample_size = 100000\n",
    "n = 1\n",
    "\n",
    "X = []\n",
    "for i in range(0, sample_size):\n",
    "    dice_roll = np.random.choice(domain_X, size = n, replace = True, p = prob_vec) \n",
    "    X.append(dice_roll)\n",
    "\n",
    "E_x_sim = sum(X) / sample_size #average sum out of 100000 2-coin flips\n",
    "print(f'Analytical:{E_x_ana}\\nSimulation:{E_x_sim}') "
   ]
  },
  {
   "cell_type": "code",
   "execution_count": 16,
   "metadata": {},
   "outputs": [
    {
     "data": {
      "text/plain": [
       "6.98632"
      ]
     },
     "execution_count": 16,
     "metadata": {},
     "output_type": "execute_result"
    }
   ],
   "source": [
    "dice_roll = np.random.choice(domain_X, size = sample_size, replace = True, p = prob_vec) \n",
    "sum(dice_roll)/sample_size"
   ]
  },
  {
   "cell_type": "markdown",
   "metadata": {},
   "source": [
    "#### Q. Calculate and print $\\text{Var}(X)$."
   ]
  },
  {
   "cell_type": "code",
   "execution_count": 5,
   "metadata": {
    "ExecuteTime": {
     "end_time": "2021-05-04T01:49:25.203719Z",
     "start_time": "2021-05-04T01:49:25.191918Z"
    }
   },
   "outputs": [
    {
     "name": "stdout",
     "output_type": "stream",
     "text": [
      "5.833333333333336\n"
     ]
    }
   ],
   "source": [
    "Var_x = sum(domain_X**2 * prob_vec) - (E_x_ana**2)\n",
    "print(Var_x)"
   ]
  },
  {
   "cell_type": "markdown",
   "metadata": {},
   "source": [
    "## II. Data Sampling"
   ]
  },
  {
   "cell_type": "markdown",
   "metadata": {},
   "source": [
    "Suppose you have 2 candidates running for the Presidency: Einstein and Turing `['E', 'T']`.\n",
    "\n",
    "#### Q. Simulate 1,000,000 votes where the true proportion of votes is split 60-40 between Einstein and Turing, respectively. Print the first 5 entries."
   ]
  },
  {
   "cell_type": "code",
   "execution_count": 55,
   "metadata": {
    "ExecuteTime": {
     "end_time": "2021-05-04T01:49:27.445863Z",
     "start_time": "2021-05-04T01:49:27.373832Z"
    }
   },
   "outputs": [
    {
     "name": "stdout",
     "output_type": "stream",
     "text": [
      "['E', 'E', 'E', 'E', 'E']\n",
      "400046\n"
     ]
    }
   ],
   "source": [
    "np.random.seed(2) # Set seed to 2 so that everyone gets the same answer.\n",
    "\n",
    "candidates = ['E', 'T']\n",
    "p_vec = [0.6,0.4]\n",
    "population = 1000000\n",
    "#simulate 1M votes; votes contains 1M elements\n",
    "votes = np.random.choice(candidates, population, p = p_vec).tolist() \n",
    "\n",
    "print(votes[:5])"
   ]
  },
  {
   "cell_type": "markdown",
   "metadata": {},
   "source": [
    "#### Q. Sample 5000 votes from above. Print the first 5 entries. "
   ]
  },
  {
   "cell_type": "code",
   "execution_count": 56,
   "metadata": {
    "ExecuteTime": {
     "end_time": "2021-05-04T01:49:29.460270Z",
     "start_time": "2021-05-04T01:49:29.356237Z"
    }
   },
   "outputs": [
    {
     "name": "stdout",
     "output_type": "stream",
     "text": [
      "['T', 'T', 'T', 'T', 'T']\n"
     ]
    }
   ],
   "source": [
    "np.random.seed(5) # Set seed to 5 so that everyone gets the same answer.\n",
    "\n",
    "#get 5000 samples from the 1M votes\n",
    "vote_5000 = np.random.choice(votes, size = 5000, replace = True).tolist()\n",
    "\n",
    "print(vote_5000[:5])"
   ]
  },
  {
   "cell_type": "markdown",
   "metadata": {},
   "source": [
    "#### Q. Estimate `p_vec` using your sample of 5000 and print your estimate."
   ]
  },
  {
   "cell_type": "code",
   "execution_count": 60,
   "metadata": {
    "ExecuteTime": {
     "end_time": "2021-05-04T01:49:31.082007Z",
     "start_time": "2021-05-04T01:49:31.065981Z"
    }
   },
   "outputs": [
    {
     "name": "stdout",
     "output_type": "stream",
     "text": [
      "[0.5958, 0.4042]\n"
     ]
    }
   ],
   "source": [
    "# Insert code here\n",
    "vote_Einstein = vote_5000.count('E')\n",
    "vote_Turing = vote_5000.count('T')\n",
    "total_vote = len(vote_5000)\n",
    "\n",
    "p_vec_Einstein = vote_Einstein / total_vote\n",
    "p_vec_Turing = vote_Turing / total_vote\n",
    "p_vec = [p_vec_Einstein, p_vec_Turing]\n",
    "print(p_vec)"
   ]
  },
  {
   "cell_type": "markdown",
   "metadata": {},
   "source": [
    "#### Q. Calculate and print the z-score for a confidence level of 97.5%. "
   ]
  },
  {
   "cell_type": "code",
   "execution_count": 9,
   "metadata": {
    "ExecuteTime": {
     "end_time": "2021-05-04T01:49:33.411035Z",
     "start_time": "2021-05-04T01:49:33.395008Z"
    }
   },
   "outputs": [
    {
     "name": "stdout",
     "output_type": "stream",
     "text": [
      "2.241402727604947\n"
     ]
    }
   ],
   "source": [
    "alpha = 0.025\n",
    "z_score = norm.ppf(1 - alpha/2)\n",
    "\n",
    "print(z_score)"
   ]
  },
  {
   "cell_type": "markdown",
   "metadata": {},
   "source": [
    "#### Q. Calculate and print the ERR, CI lowerbound, and CI upperbound <b><u>for the Einstein probability</b></u>. "
   ]
  },
  {
   "cell_type": "code",
   "execution_count": 10,
   "metadata": {
    "ExecuteTime": {
     "end_time": "2021-05-04T01:49:35.067431Z",
     "start_time": "2021-05-04T01:49:35.047447Z"
    }
   },
   "outputs": [
    {
     "name": "stdout",
     "output_type": "stream",
     "text": [
      "ERR:0.015555475743291011\n",
      "CIL:0.580244524256709\n",
      "CIU:0.611355475743291\n"
     ]
    }
   ],
   "source": [
    "ERR = z_score*np.sqrt(p_vec_Einstein*(1-p_vec_Einstein)/len(vote_5000))\n",
    "CI_lowerbound = p_vec_Einstein - ERR\n",
    "CI_upperbound = p_vec_Einstein + ERR\n",
    "\n",
    "print(f\"ERR:{ERR}\\nCIL:{CI_lowerbound}\\nCIU:{CI_upperbound}\")"
   ]
  }
 ],
 "metadata": {
  "kernelspec": {
   "display_name": "Python 3",
   "language": "python",
   "name": "python3"
  },
  "language_info": {
   "codemirror_mode": {
    "name": "ipython",
    "version": 3
   },
   "file_extension": ".py",
   "mimetype": "text/x-python",
   "name": "python",
   "nbconvert_exporter": "python",
   "pygments_lexer": "ipython3",
   "version": "3.7.7"
  },
  "toc": {
   "base_numbering": 1,
   "nav_menu": {},
   "number_sections": true,
   "sideBar": true,
   "skip_h1_title": false,
   "title_cell": "Table of Contents",
   "title_sidebar": "Contents",
   "toc_cell": false,
   "toc_position": {},
   "toc_section_display": true,
   "toc_window_display": false
  },
  "varInspector": {
   "cols": {
    "lenName": 16,
    "lenType": 16,
    "lenVar": 40
   },
   "kernels_config": {
    "python": {
     "delete_cmd_postfix": "",
     "delete_cmd_prefix": "del ",
     "library": "var_list.py",
     "varRefreshCmd": "print(var_dic_list())"
    },
    "r": {
     "delete_cmd_postfix": ") ",
     "delete_cmd_prefix": "rm(",
     "library": "var_list.r",
     "varRefreshCmd": "cat(var_dic_list()) "
    }
   },
   "types_to_exclude": [
    "module",
    "function",
    "builtin_function_or_method",
    "instance",
    "_Feature"
   ],
   "window_display": false
  }
 },
 "nbformat": 4,
 "nbformat_minor": 2
}
