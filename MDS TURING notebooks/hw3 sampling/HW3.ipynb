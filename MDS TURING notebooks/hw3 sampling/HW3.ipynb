{
 "cells": [
  {
   "cell_type": "markdown",
   "metadata": {},
   "source": [
    "# Homework 3\n",
    "\n",
    "This homework should be submitted <b>by LT</b>.   \n",
    "\n",
    "LT Number:\n",
    "\n",
    "Names:"
   ]
  },
  {
   "cell_type": "markdown",
   "metadata": {},
   "source": [
    "Do <b><u>NOT</u></b> import any other libraries aside from those below."
   ]
  },
  {
   "cell_type": "code",
   "execution_count": 2,
   "metadata": {},
   "outputs": [],
   "source": [
    "import numpy as np\n",
    "from scipy.stats import norm"
   ]
  },
  {
   "cell_type": "markdown",
   "metadata": {},
   "source": [
    "## I. Calculating Expectations and Variance"
   ]
  },
  {
   "cell_type": "markdown",
   "metadata": {},
   "source": [
    "Let $X$ be the sum of the rolls of two independent and fair 6-sided dice.\n",
    "\n",
    "#### Q. Create a <b><u>numpy array</b></u> called `domain_X` and store the possible values of $X$. Print the variable."
   ]
  },
  {
   "cell_type": "code",
   "execution_count": 6,
   "metadata": {},
   "outputs": [
    {
     "name": "stdout",
     "output_type": "stream",
     "text": [
      "[ 2  3  4  5  6  7  8  9 10 11 12]\n"
     ]
    },
    {
     "data": {
      "text/plain": [
       "numpy.ndarray"
      ]
     },
     "execution_count": 6,
     "metadata": {},
     "output_type": "execute_result"
    }
   ],
   "source": [
    "\n",
    "# Insert code here\n",
    "pos_x_john = [(i1+i2) for i1 in range(1,7) for i2 in range(1,7)]\n",
    "domain_x_john = np.array(list(set(pos_x_john)))\n",
    "print(domain_x_john)\n",
    "type(domain_x_john)"
   ]
  },
  {
   "cell_type": "markdown",
   "metadata": {},
   "source": [
    "#### Q. Create a <b><u>numpy array</b></u> called `prob_vec` and store the probabilities associated with the outcomes above. Print the variable."
   ]
  },
  {
   "cell_type": "code",
   "execution_count": 7,
   "metadata": {},
   "outputs": [
    {
     "name": "stdout",
     "output_type": "stream",
     "text": [
      "a:2, count:1\n",
      "a:3, count:2\n",
      "a:4, count:3\n",
      "a:5, count:4\n",
      "a:6, count:5\n",
      "a:7, count:6\n",
      "a:8, count:5\n",
      "a:9, count:4\n",
      "a:10, count:3\n",
      "a:11, count:2\n",
      "a:12, count:1\n",
      "[0.02777778 0.05555556 0.08333333 0.11111111 0.13888889 0.16666667\n",
      " 0.13888889 0.11111111 0.08333333 0.05555556 0.02777778]\n"
     ]
    }
   ],
   "source": [
    "#append count of each sum possible (elements in domain_x)\n",
    "numerators_john = [] \n",
    "\n",
    "for a in domain_x_john:\n",
    "    print(f\"a:{a}, count:{pos_x_john.count(a)}\") #print Xs and counts to check\n",
    "    numerators_john.append(pos_x_john.count(a))\n",
    "    \n",
    "#probability = count/totalprobs = count / 36\n",
    "prob_vec_john = np.array([i3 / 36 for i3 in numerators_john]) \n",
    "print(prob_vec_john)"
   ]
  },
  {
   "cell_type": "markdown",
   "metadata": {},
   "source": [
    "#### Q. Calculate and print $E[X]$."
   ]
  },
  {
   "cell_type": "code",
   "execution_count": 8,
   "metadata": {},
   "outputs": [
    {
     "name": "stdout",
     "output_type": "stream",
     "text": [
      "6.999999999999999\n"
     ]
    }
   ],
   "source": [
    "\n",
    "EX_john = sum(domain_x_john * prob_vec_john)\n",
    "print(EX_john)"
   ]
  },
  {
   "cell_type": "markdown",
   "metadata": {},
   "source": [
    "#### Q. Calculate and print $\\text{Var}(X)$."
   ]
  },
  {
   "cell_type": "code",
   "execution_count": 9,
   "metadata": {},
   "outputs": [
    {
     "name": "stdout",
     "output_type": "stream",
     "text": [
      "5.833333333333336\n"
     ]
    }
   ],
   "source": [
    "var_x_john = sum(prob_vec_john * (domain_x_john)**2) - EX_john**2\n",
    "print(var_x_john)"
   ]
  },
  {
   "cell_type": "markdown",
   "metadata": {},
   "source": [
    "## II. Data Sampling"
   ]
  },
  {
   "cell_type": "markdown",
   "metadata": {},
   "source": [
    "Suppose you have 2 candidates running for the Presidency: Einstein and Turing `['E', 'T']`.\n",
    "\n",
    "#### Q. Simulate 1,000,000 votes where the true proportion of votes is split 60-40 between Einstein and Turing, respectively. Print the first 5 entries."
   ]
  },
  {
   "cell_type": "code",
   "execution_count": 11,
   "metadata": {},
   "outputs": [
    {
     "name": "stdout",
     "output_type": "stream",
     "text": [
      "['E' 'E' 'E' 'E' 'E']\n"
     ]
    }
   ],
   "source": [
    "np.random.seed(2) # Set seed to 2 so that everyone gets the same answer.\n",
    "\n",
    "# Insert code here\n",
    "n_john = 1000000\n",
    "possible_x_john = ['E','T']\n",
    "cand_probs_john = [0.6,0.4]\n",
    "vote_sim_john = np.random.choice(possible_x_john, size = n_john, p=cand_probs_john, replace = True)\n",
    "print(vote_sim_john[:5])"
   ]
  },
  {
   "cell_type": "markdown",
   "metadata": {},
   "source": [
    "#### Q. Sample 5000 votes from above. Print the first 5 entries. "
   ]
  },
  {
   "cell_type": "code",
   "execution_count": 19,
   "metadata": {},
   "outputs": [
    {
     "name": "stdout",
     "output_type": "stream",
     "text": [
      "['T' 'T' 'T' 'T' 'T']\n"
     ]
    }
   ],
   "source": [
    "np.random.seed(5) # Set seed to 5 so that everyone gets the same answer.\n",
    "\n",
    "# Insert code here\n",
    "vote_5000_john = np.random.choice(vote_sim_john, size=5000)\n",
    "print(vote_5000_john[:5])"
   ]
  },
  {
   "cell_type": "markdown",
   "metadata": {},
   "source": [
    "#### Q. Estimate `p_vec` using your sample of 5000 and print your estimate."
   ]
  },
  {
   "cell_type": "code",
   "execution_count": 15,
   "metadata": {},
   "outputs": [
    {
     "data": {
      "text/plain": [
       "(0.5958, 0.4042)"
      ]
     },
     "execution_count": 15,
     "metadata": {},
     "output_type": "execute_result"
    }
   ],
   "source": [
    "# Insert code here\n",
    "p_vec_E_john = list(vote_5000_john).count(possible_x_john[0])/len(vote_5000_john)\n",
    "p_vec_T_john = list(vote_5000_john).count(possible_x_john[1])/len(vote_5000_john)\n",
    "p_vec_5000_john = (p_vec_E_john,p_vec_T_john)\n",
    "p_vec_5000_john"
   ]
  },
  {
   "cell_type": "markdown",
   "metadata": {},
   "source": [
    "#### Q. Calculate and print the z-score for a confidence level of 97.5%. "
   ]
  },
  {
   "cell_type": "code",
   "execution_count": 17,
   "metadata": {},
   "outputs": [
    {
     "name": "stdout",
     "output_type": "stream",
     "text": [
      "2.241402727604947\n"
     ]
    }
   ],
   "source": [
    "# Insert code here\n",
    "from scipy.stats import norm\n",
    "\n",
    "alpha = 0.025\n",
    "z_score_john = norm.ppf(1 - alpha/2)\n",
    "print(z_score_john)"
   ]
  },
  {
   "cell_type": "markdown",
   "metadata": {},
   "source": [
    "#### Q. Calculate and print the ERR, CI lowerbound, and CI upperbound <b><u>for the Einstein probability</b></u>. "
   ]
  },
  {
   "cell_type": "code",
   "execution_count": 18,
   "metadata": {},
   "outputs": [
    {
     "name": "stdout",
     "output_type": "stream",
     "text": [
      "ERR:0.015555475743291011\n",
      "CIL:0.580244524256709\n",
      "CIU:0.611355475743291\n"
     ]
    }
   ],
   "source": [
    "ERR_john = z_score_john * (p_vec_E_john*(1-p_vec_E_john) / 5000)**0.5\n",
    "\n",
    "CI_lowerbound_john = p_vec_E_john - ERR_john\n",
    "CI_upperbound_john = p_vec_E_john + ERR_john\n",
    "\n",
    "print(f\"ERR:{ERR_john}\\nCIL:{CI_lowerbound_john}\\nCIU:{CI_upperbound_john}\")"
   ]
  }
 ],
 "metadata": {
  "kernelspec": {
   "display_name": "Python 3",
   "language": "python",
   "name": "python3"
  },
  "language_info": {
   "codemirror_mode": {
    "name": "ipython",
    "version": 3
   },
   "file_extension": ".py",
   "mimetype": "text/x-python",
   "name": "python",
   "nbconvert_exporter": "python",
   "pygments_lexer": "ipython3",
   "version": "3.7.7"
  }
 },
 "nbformat": 4,
 "nbformat_minor": 2
}
