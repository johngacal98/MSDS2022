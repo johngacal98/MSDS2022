{
 "cells": [
  {
   "cell_type": "markdown",
   "metadata": {},
   "source": [
    "## Chapter 3:  Introduction to Optimization\n",
    "\n",
    "Author: [Christopher Monterola](https://www.chrismonterola.net)\n",
    "\n",
    "Copyright © 2018 Christopher Monterola. All rights reserved.\n",
    "\n",
    "This notebook was written, conceptualized, and prepared for the Mathematics for Data Science course under AIM's MS in Data Science program. None of the content here shall be reproduced and/or distributed without the written permission of the author. \n",
    "\n",
    "The author would like to acknowledge the AIM MSDS program team members for their help and support in building the notebooks. \n",
    "\n",
    "\n",
    "THE SOFTWARE IS PROVIDED \"AS IS\", WITHOUT WARRANTY OF ANY KIND, EXPRESS OR IMPLIED, INCLUDING BUT NOT LIMITED TO THE WARRANTIES OF MERCHANTABILITY, FITNESS FOR A PARTICULAR PURPOSE AND NONINFRINGEMENT. IN NO EVENT SHALL THE\n",
    "AUTHORS OR COPYRIGHT HOLDERS BE LIABLE FOR ANY CLAIM, DAMAGES OR OTHER LIABILITY, WHETHER IN AN ACTION OF CONTRACT, TORT OR OTHERWISE, ARISING FROM, OUT OF OR IN CONNECTION WITH THE SOFTWARE OR THE USE OR OTHER DEALINGS IN THE\n",
    "SOFTWARE.\n",
    "\n",
    "---\n",
    "\n",
    "## Executive Summary\n",
    "\n",
    "Optimization cuts across many fields and is one of the most common analytics problems encountered in industries, government agencies, and other organizations/stakeholders. Optimization, loosely defined, is when you look for the optimal, i.e., maximum or minimum, solution (or setup or configuration) to a given problem or system. For example, to decongest a train system, you may try to optimize the number of trains deployed considering, of course, the cost. Other examples in industries and functional areas from corporate finance, investments, production, distribution, purchasing to human resources can be [sourced here](https://www.solver.com/examples-optimization-problems).\n",
    "\n",
    "Optimization is arguably the single most important concept in engineering and the natural sciences. For example, one can demonstrate  concepts such as a particle's trajectory (derivable using Newton's Laws of Motion) or even the trajectory of light (say, refraction) as mere consequences of minimizing the travel time of light or the particle as it moves through a given medium. In biology, protein folding or the structure formed by the reconfiguration of amino acids is a consequence of minimizing the energy associated with the interaction of amino acids. Humans walk or run while kangaroos hop because these are the most energy efficient motion for our body structures.\n",
    "\n",
    "In management, innovation, and governance, we now talk of the triple bottom line in assuring sustainability. The idea is to optimize the combination of **Profit, People, and Planet**.\n",
    "\n",
    "By keeping in mind that, in the grand scheme of things, something is conserved, minimized, or maximized improves one's intuition on how to accurately understand a system and its mechanisms as exhibited or revealed in the data coming from the system. Note that a mechanism-based understanding of a system allows one to go beyond predictive analytics as it now allows you to have control over a system's dynamics by tuning, for example, certain parameters in the system, which allows you to explore *\"what-if\"* scenarios.\n",
    "\n",
    "The goal of this lecture/notebook is to provide a general introduction needed to attack an optimization problem. As mentioned above, optimization can mean finding the maxima or minima of a given system subject to constraints. The notebook also provides a general introduction to the most basic methodology in optimization known as gradient-descent method. GD is at the core of most learning algorithms, including artificial neural networks (e.g. convolutional NN, recurrent NN, etc.). \n",
    "\n",
    "<div class=\"alert alert-block alert-info\">\n",
    "\n",
    "Lessons that can be learned in this notebook:\n",
    "\n",
    "1. Understand the basic principles of optimization.\n",
    "3. Implement Newton's method.\n",
    "2. Implement Gradient Descent method.\n",
    "\n",
    "</div>\n",
    "\n",
    "This lesson will only serve as an introduction to the optimization angle. In the last part of this course, we will revisit this idea and couple it with the expectation that you would be more equipped in mathematics and programming  to deal with variants of constrained optimization (e.g. Lagrange equations)."
   ]
  },
  {
   "cell_type": "code",
   "execution_count": 1,
   "metadata": {},
   "outputs": [],
   "source": [
    "import numpy as np\n",
    "import matplotlib.pyplot as plt"
   ]
  },
  {
   "cell_type": "markdown",
   "metadata": {},
   "source": [
    "### A Square is An Optimized Rectangle\n",
    "\n",
    "#### Example 1. \n",
    "\n",
    "Suppose you were given a wire and asked to form a rectangle with perimeter $P$ such that you will also produce the maximum enclosed area $A$.\n",
    "\n",
    "What are the best values for length $l$ and width $w$? \n",
    "\n",
    "The answer is a square with $l = w = \\frac{P}{4}$.\n",
    "\n",
    "Let's solve this problem using two approaches, both equally acceptable.  One is based on crunching all possible combinations and the other is based on calculus. \n",
    "\n",
    "We start by identifying the cost function of the problem which is $A = l w$.\n",
    "\n",
    "**Solution 1.** *Numerical Solution*. \n",
    "\n",
    "We can cast the problem by finding all the possible ranges of $l$ and $w$ that will maximize $A$ noting that $P= 2l + 2w$. Without loss of generality, we can assume that $P=4$ then run simulations for $l$ from 0 to 2 (maximum possible length is 2) where $l$ is related to $w$ by $2l + 2w = P =4$. Hence, $w$ is constrained to be $w=2-l$. Shown below is the resulting area for every combination of $l$ and $w$."
   ]
  },
  {
   "cell_type": "code",
   "execution_count": 2,
   "metadata": {
    "scrolled": true
   },
   "outputs": [
    {
     "name": "stdout",
     "output_type": "stream",
     "text": [
      "length = 0.00 -- -- width = 2.00 -- -- area = 0.00\n",
      "length = 0.10 -- -- width = 1.90 -- -- area = 0.19\n",
      "length = 0.20 -- -- width = 1.80 -- -- area = 0.36\n",
      "length = 0.30 -- -- width = 1.70 -- -- area = 0.51\n",
      "length = 0.40 -- -- width = 1.60 -- -- area = 0.64\n",
      "length = 0.50 -- -- width = 1.50 -- -- area = 0.75\n",
      "length = 0.60 -- -- width = 1.40 -- -- area = 0.84\n",
      "length = 0.70 -- -- width = 1.30 -- -- area = 0.91\n",
      "length = 0.80 -- -- width = 1.20 -- -- area = 0.96\n",
      "length = 0.90 -- -- width = 1.10 -- -- area = 0.99\n",
      "length = 1.00 -- -- width = 1.00 -- -- area = 1.00\n",
      "length = 1.10 -- -- width = 0.90 -- -- area = 0.99\n",
      "length = 1.20 -- -- width = 0.80 -- -- area = 0.96\n",
      "length = 1.30 -- -- width = 0.70 -- -- area = 0.91\n",
      "length = 1.40 -- -- width = 0.60 -- -- area = 0.84\n",
      "length = 1.50 -- -- width = 0.50 -- -- area = 0.75\n",
      "length = 1.60 -- -- width = 0.40 -- -- area = 0.64\n",
      "length = 1.70 -- -- width = 0.30 -- -- area = 0.51\n",
      "length = 1.80 -- -- width = 0.20 -- -- area = 0.36\n",
      "length = 1.90 -- -- width = 0.10 -- -- area = 0.19\n"
     ]
    }
   ],
   "source": [
    "# Set initial length to 0\n",
    "L = 0\n",
    "\n",
    "# Run length from 0 to 2\n",
    "L_max = 2\n",
    "\n",
    "# Define width as a function of the current length and max length\n",
    "def W(L_max, L):\n",
    "    return L_max - L\n",
    "\n",
    "# Increment of length (how finely we want to search)\n",
    "step_size = 0.1 \n",
    "\n",
    "while L < L_max:\n",
    "    prev_L = L\n",
    "    A = L*W(L_max, prev_L) # Area of the rectangle\n",
    "    print(\"length = %.2f --\" %L,\"-- width = %.2f --\" %W(L_max, prev_L), \"-- area = %.2f\" %A)\n",
    "    L += step_size"
   ]
  },
  {
   "cell_type": "code",
   "execution_count": 3,
   "metadata": {},
   "outputs": [
    {
     "data": {
      "image/png": "[encoded data removed]",
      "text/plain": [
       "<Figure size 432x288 with 1 Axes>"
      ]
     },
     "metadata": {
      "needs_background": "light"
     },
     "output_type": "display_data"
    }
   ],
   "source": [
    "L_range = np.arange(0, 2, 0.1)\n",
    "W_range = W(L_max, L_range)\n",
    "\n",
    "plt.plot(L_range, L_range*W_range, 'b-o')\n",
    "plt.title('Optimizing a Rectangle')\n",
    "plt.xlabel('Length')\n",
    "plt.ylabel('Area')\n",
    "plt.show()"
   ]
  },
  {
   "cell_type": "markdown",
   "metadata": {},
   "source": [
    "The above result clearly indicates that the ratio to get the maximum area is for `length:width = 1:1`, or a square.\n",
    "\n",
    "**Solution 2**. *Analytic Solution.* \n",
    "\n",
    "Using calculus, the solution is more straightforward and general. Again, we start by noting that the cost function to be maximized is the area $A=l w$; by imposing the constraint for $w= \\frac{P-2l}{2} $ with $P= constant$, the cost function is now:\n",
    "\n",
    "\\begin{equation}\n",
    "A=l\\frac{P-2l}{2}= \\frac{Pl}{2} - l^2\n",
    "\\end{equation}\n",
    "\n",
    "equating the derivative of $A$ wrt $l$ to zero will yield:\n",
    "\n",
    "\n",
    "\\begin{equation}\n",
    "\\frac{dA}{dl} =\\frac{P}{2} - 2 l =0.\n",
    "\\end{equation}\n",
    "\n",
    "Hence, $l=P/4$ and $w =\\frac{P-2l}{2}= P/4$. Therefore, the maximum area for a rectangle with perimeter P is $P^2/16$ and the ratio of $l:w$ is $l=w$ or 1:1. Note that $\\frac{d^2A}{dl^2} = -2 <0$, indicative that the optimal relation produced a maximum area $A$."
   ]
  },
  {
   "cell_type": "markdown",
   "metadata": {},
   "source": [
    "### Newton's Method (for optimization) in 1-D\n",
    "\n",
    "The basic idea behind Newton's method (as well as Gradient Descent) is to start with an initial guess $x_k$ and to iteratively refine the guess $x_{k+1} = x_k + h$ so that it moves closer to the actual minimum. In other words, we wish to find some $h$, such that:\n",
    "\n",
    "\\begin{equation}\n",
    "    f(x_{k+1}) = f(x_k + h) < f(x_k)\n",
    "\\end{equation}\n",
    "\n",
    "Newton's method uses a local quadratic approximation of the objective function obtained via a truncated Taylor series expansion:\n",
    "\n",
    "\\begin{equation}\n",
    "    f(x_k + h) \\approx f(x_k) + f'(x_k)h + \\frac{1}{2}f''(x_k)h^2\n",
    "\\end{equation}\n",
    "\n",
    "We then use differentiation to find the minimum of this quadratic function of $h$ (note that in this case, $h$ is our variable and we treat $x_k$ as a constant):\n",
    "\n",
    "\\begin{align*}\n",
    "    f'(x_k + h) &= 0\\\\\n",
    "    f'(x_k) + f''(x_k)h &= 0\\\\\n",
    "    h &= -\\frac{f'(x_k)}{f''(x_k)}\n",
    "\\end{align*}\n",
    "\n",
    "Thus, the iterative scheme for finding the minimum of $f(x)$ is given by the following algorithm:\n",
    "    \n",
    "1. Initialize a guess $x_k$\n",
    "\n",
    "2. For $k = 0, 1, 2, \\ldots$, calculate $x_{k+1} = x_{k} -\\frac{f'(x_{k})}{f''(x_{k})}$\n",
    "\n",
    "3. Terminate when tolerance is met"
   ]
  },
  {
   "cell_type": "markdown",
   "metadata": {},
   "source": [
    "#### Example 1.\n",
    "\n",
    "Suppose we wish to minimize the function:\n",
    "\n",
    "\\begin{equation}\n",
    "    f(x) = 0.5 - xe^{-x^2}\n",
    "\\end{equation}\n",
    "\n",
    "We calculate the first and second derivatives:\n",
    "\n",
    "\\begin{align*}\n",
    "    f'(x) &= (2x^2 - 1)e^{-x^2}\\\\\n",
    "    f''(x) &= 2x(3 - 2x^2)e^{-x^2}\n",
    "\\end{align*}\n",
    "\n",
    "The Newton iteration is then given by:\n",
    "\n",
    "\\begin{equation}\n",
    "    x_{k+1} = x_k - \\frac{2x_k^2 - 1}{2x_k(3 - 2x_k^2)}\n",
    "\\end{equation}"
   ]
  },
  {
   "cell_type": "code",
   "execution_count": 7,
   "metadata": {},
   "outputs": [
    {
     "name": "stdout",
     "output_type": "stream",
     "text": [
      "k = 0 -- -- x_k = 1.000000 -- -- f(x_k) = 0.132121\n",
      "k = 1 -- -- x_k = 0.500000 -- -- f(x_k) = 0.110600\n",
      "k = 2 -- -- x_k = 0.700000 -- -- f(x_k) = 0.071162\n",
      "k = 3 -- -- x_k = 0.707072 -- -- f(x_k) = 0.071118\n",
      "k = 4 -- -- x_k = 0.707107 -- -- f(x_k) = 0.071118\n",
      "k = 5 -- -- x_k = 0.707107 -- -- f(x_k) = 0.071118\n"
     ]
    }
   ],
   "source": [
    "# Newton's method implementation\n",
    "\n",
    "def f(x):\n",
    "    return 0.5 - x*np.exp(-x**2)\n",
    "\n",
    "x_k = 1 #arbitrary set to 1 to keep it simple\n",
    "for k in range(0, 6):\n",
    "    print(\"k = %d --\" %k,\"-- x_k = %.6f --\" %x_k, \"-- f(x_k) = %.6f\" %f(x_k))\n",
    "    x_k = x_k - (2*x_k**2 - 1)/(2*x_k*(3 - 2*x_k**2))"
   ]
  },
  {
   "cell_type": "code",
   "execution_count": 6,
   "metadata": {},
   "outputs": [
    {
     "data": {
      "image/png": "[encoded data removed]",
      "text/plain": [
       "<Figure size 432x288 with 1 Axes>"
      ]
     },
     "metadata": {
      "needs_background": "light"
     },
     "output_type": "display_data"
    },
    {
     "data": {
      "image/png": "[encoded data removed]",
      "text/plain": [
       "<Figure size 432x288 with 1 Axes>"
      ]
     },
     "metadata": {
      "needs_background": "light"
     },
     "output_type": "display_data"
    }
   ],
   "source": [
    "x = np.linspace(-5, 5, 50)\n",
    "\n",
    "plt.plot(x, f(x), 'b--')\n",
    "plt.title(\"f(x)\")\n",
    "plt.xlabel('x')\n",
    "plt.ylabel('y')\n",
    "plt.show()\n",
    "\n",
    "x = np.linspace(0, 2, 50)\n",
    "\n",
    "plt.plot(x, f(x), 'b--')\n",
    "plt.title(\"f(x)\")\n",
    "plt.xlabel('x')\n",
    "plt.ylabel('y')\n",
    "plt.show()"
   ]
  },
  {
   "cell_type": "markdown",
   "metadata": {},
   "source": [
    "We make note that if the initial guess is \"too far\", then the method may fail to converge, or it may converge to a maximum or inflection point. In some settings (like machine learning), one method to get around this is to try different initial guesses."
   ]
  },
  {
   "cell_type": "markdown",
   "metadata": {},
   "source": [
    "### Gradient Descent in 1-D\n",
    "\n",
    "Suppose that calculating the second derivative of our objective function $f''(x)$ is difficult or not feasible. We can use a first-order approximation called the Gradient Descent method (also called Steepest Descent).\n",
    "\n",
    "The algorithm is as follows:\n",
    "\n",
    "1. Initialize a guess $x_k$\n",
    "\n",
    "2. For $k = 0, 1, 2, \\ldots$, calculate $x_{k+1} = x_{k} - \\alpha f'(x_{k})$\n",
    "\n",
    "3. Terminate when tolerance is met\n",
    "    \n",
    "Here, $\\alpha$ is a hyperparameter called the learning rate."
   ]
  },
  {
   "cell_type": "markdown",
   "metadata": {},
   "source": [
    "#### Example 1.\n",
    "\n",
    "Suppose we wish to minimize the function:\n",
    "\n",
    "\\begin{equation}\n",
    "    f(x) = 0.5 - xe^{-x^2}\n",
    "\\end{equation}\n",
    "\n",
    "We calculate the first derivative:\n",
    "\n",
    "\\begin{align*}\n",
    "    f'(x) = (2x^2 - 1)e^{-x^2}\n",
    "\\end{align*}\n",
    "\n",
    "The GD iteration with learning rate $\\alpha$ is then given by:\n",
    "\n",
    "\\begin{equation}\n",
    "    x_{k+1} = x_k - \\alpha (2x_k^2 - 1)e^{-x_k^2}\n",
    "\\end{equation}"
   ]
  },
  {
   "cell_type": "code",
   "execution_count": 14,
   "metadata": {
    "scrolled": true
   },
   "outputs": [
    {
     "name": "stdout",
     "output_type": "stream",
     "text": [
      "alpha = 0.05\n",
      "k = 0 -- -- x_k = 1.000000 -- -- f(x_k) = 0.132121\n",
      "k = 1 -- -- x_k = 0.950000 -- -- f(x_k) = 0.114723\n",
      "k = 2 -- -- x_k = 0.909750 -- -- f(x_k) = 0.102369\n",
      "k = 3 -- -- x_k = 0.876985 -- -- f(x_k) = 0.093580\n",
      "k = 4 -- -- x_k = 0.850075 -- -- f(x_k) = 0.087310\n",
      "k = 5 -- -- x_k = 0.827812 -- -- f(x_k) = 0.082822\n",
      "k = 6 -- -- x_k = 0.809285 -- -- f(x_k) = 0.079599\n",
      "k = 7 -- -- x_k = 0.793791 -- -- f(x_k) = 0.077277\n",
      "k = 8 -- -- x_k = 0.780780 -- -- f(x_k) = 0.075600\n",
      "k = 9 -- -- x_k = 0.769819 -- -- f(x_k) = 0.074385\n",
      "k = 10 -- -- x_k = 0.760557 -- -- f(x_k) = 0.073503\n",
      "k = 11 -- -- x_k = 0.752712 -- -- f(x_k) = 0.072862\n",
      "k = 12 -- -- x_k = 0.746054 -- -- f(x_k) = 0.072394\n",
      "k = 13 -- -- x_k = 0.740395 -- -- f(x_k) = 0.072053\n",
      "k = 14 -- -- x_k = 0.735576 -- -- f(x_k) = 0.071804\n",
      "k = 15 -- -- x_k = 0.731469 -- -- f(x_k) = 0.071621\n",
      "k = 16 -- -- x_k = 0.727964 -- -- f(x_k) = 0.071487\n",
      "k = 17 -- -- x_k = 0.724971 -- -- f(x_k) = 0.071389\n",
      "k = 18 -- -- x_k = 0.722413 -- -- f(x_k) = 0.071318\n",
      "k = 19 -- -- x_k = 0.720225 -- -- f(x_k) = 0.071265\n",
      "k = 20 -- -- x_k = 0.718352 -- -- f(x_k) = 0.071226\n",
      "k = 21 -- -- x_k = 0.716749 -- -- f(x_k) = 0.071197\n",
      "k = 22 -- -- x_k = 0.715376 -- -- f(x_k) = 0.071176\n",
      "k = 23 -- -- x_k = 0.714200 -- -- f(x_k) = 0.071161\n",
      "k = 24 -- -- x_k = 0.713192 -- -- f(x_k) = 0.071150\n",
      "k = 25 -- -- x_k = 0.712328 -- -- f(x_k) = 0.071141\n",
      "k = 26 -- -- x_k = 0.711587 -- -- f(x_k) = 0.071135\n",
      "k = 27 -- -- x_k = 0.710951 -- -- f(x_k) = 0.071131\n",
      "k = 28 -- -- x_k = 0.710406 -- -- f(x_k) = 0.071127\n",
      "k = 29 -- -- x_k = 0.709938 -- -- f(x_k) = 0.071125\n",
      "k = 30 -- -- x_k = 0.709537 -- -- f(x_k) = 0.071123\n",
      "k = 31 -- -- x_k = 0.709193 -- -- f(x_k) = 0.071122\n",
      "k = 32 -- -- x_k = 0.708897 -- -- f(x_k) = 0.071121\n",
      "k = 33 -- -- x_k = 0.708644 -- -- f(x_k) = 0.071120\n",
      "k = 34 -- -- x_k = 0.708426 -- -- f(x_k) = 0.071120\n",
      "k = 35 -- -- x_k = 0.708239 -- -- f(x_k) = 0.071119\n",
      "k = 36 -- -- x_k = 0.708079 -- -- f(x_k) = 0.071119\n",
      "k = 37 -- -- x_k = 0.707941 -- -- f(x_k) = 0.071119\n",
      "k = 38 -- -- x_k = 0.707823 -- -- f(x_k) = 0.071118\n",
      "k = 39 -- -- x_k = 0.707722 -- -- f(x_k) = 0.071118\n",
      "k = 40 -- -- x_k = 0.707635 -- -- f(x_k) = 0.071118\n",
      "k = 41 -- -- x_k = 0.707560 -- -- f(x_k) = 0.071118\n",
      "k = 42 -- -- x_k = 0.707496 -- -- f(x_k) = 0.071118\n",
      "k = 43 -- -- x_k = 0.707441 -- -- f(x_k) = 0.071118\n",
      "k = 44 -- -- x_k = 0.707394 -- -- f(x_k) = 0.071118\n",
      "k = 45 -- -- x_k = 0.707353 -- -- f(x_k) = 0.071118\n",
      "k = 46 -- -- x_k = 0.707318 -- -- f(x_k) = 0.071118\n",
      "k = 47 -- -- x_k = 0.707288 -- -- f(x_k) = 0.071118\n",
      "k = 48 -- -- x_k = 0.707263 -- -- f(x_k) = 0.071118\n",
      "k = 49 -- -- x_k = 0.707241 -- -- f(x_k) = 0.071118\n",
      "k = 50 -- -- x_k = 0.707222 -- -- f(x_k) = 0.071118\n",
      "k = 51 -- -- x_k = 0.707205 -- -- f(x_k) = 0.071118\n",
      "k = 52 -- -- x_k = 0.707191 -- -- f(x_k) = 0.071118\n",
      "k = 53 -- -- x_k = 0.707180 -- -- f(x_k) = 0.071118\n",
      "k = 54 -- -- x_k = 0.707169 -- -- f(x_k) = 0.071118\n",
      "k = 55 -- -- x_k = 0.707160 -- -- f(x_k) = 0.071118\n",
      "k = 56 -- -- x_k = 0.707153 -- -- f(x_k) = 0.071118\n",
      "k = 57 -- -- x_k = 0.707146 -- -- f(x_k) = 0.071118\n",
      "k = 58 -- -- x_k = 0.707141 -- -- f(x_k) = 0.071118\n",
      "k = 59 -- -- x_k = 0.707136 -- -- f(x_k) = 0.071118\n",
      "k = 60 -- -- x_k = 0.707132 -- -- f(x_k) = 0.071118\n",
      "k = 61 -- -- x_k = 0.707128 -- -- f(x_k) = 0.071118\n",
      "k = 62 -- -- x_k = 0.707125 -- -- f(x_k) = 0.071118\n",
      "k = 63 -- -- x_k = 0.707123 -- -- f(x_k) = 0.071118\n",
      "k = 64 -- -- x_k = 0.707120 -- -- f(x_k) = 0.071118\n",
      "k = 65 -- -- x_k = 0.707118 -- -- f(x_k) = 0.071118\n",
      "k = 66 -- -- x_k = 0.707117 -- -- f(x_k) = 0.071118\n",
      "k = 67 -- -- x_k = 0.707115 -- -- f(x_k) = 0.071118\n",
      "k = 68 -- -- x_k = 0.707114 -- -- f(x_k) = 0.071118\n",
      "k = 69 -- -- x_k = 0.707113 -- -- f(x_k) = 0.071118\n",
      "k = 70 -- -- x_k = 0.707112 -- -- f(x_k) = 0.071118\n",
      "k = 71 -- -- x_k = 0.707111 -- -- f(x_k) = 0.071118\n",
      "k = 72 -- -- x_k = 0.707111 -- -- f(x_k) = 0.071118\n",
      "k = 73 -- -- x_k = 0.707110 -- -- f(x_k) = 0.071118\n",
      "k = 74 -- -- x_k = 0.707110 -- -- f(x_k) = 0.071118\n",
      "k = 75 -- -- x_k = 0.707109 -- -- f(x_k) = 0.071118\n",
      "k = 76 -- -- x_k = 0.707109 -- -- f(x_k) = 0.071118\n",
      "k = 77 -- -- x_k = 0.707109 -- -- f(x_k) = 0.071118\n",
      "k = 78 -- -- x_k = 0.707108 -- -- f(x_k) = 0.071118\n",
      "k = 79 -- -- x_k = 0.707108 -- -- f(x_k) = 0.071118\n",
      "k = 80 -- -- x_k = 0.707108 -- -- f(x_k) = 0.071118\n",
      "k = 81 -- -- x_k = 0.707108 -- -- f(x_k) = 0.071118\n",
      "k = 82 -- -- x_k = 0.707108 -- -- f(x_k) = 0.071118\n",
      "k = 83 -- -- x_k = 0.707108 -- -- f(x_k) = 0.071118\n",
      "k = 84 -- -- x_k = 0.707107 -- -- f(x_k) = 0.071118\n",
      "k = 85 -- -- x_k = 0.707107 -- -- f(x_k) = 0.071118\n",
      "k = 86 -- -- x_k = 0.707107 -- -- f(x_k) = 0.071118\n",
      "k = 87 -- -- x_k = 0.707107 -- -- f(x_k) = 0.071118\n",
      "k = 88 -- -- x_k = 0.707107 -- -- f(x_k) = 0.071118\n",
      "k = 89 -- -- x_k = 0.707107 -- -- f(x_k) = 0.071118\n",
      "k = 90 -- -- x_k = 0.707107 -- -- f(x_k) = 0.071118\n",
      "k = 91 -- -- x_k = 0.707107 -- -- f(x_k) = 0.071118\n",
      "k = 92 -- -- x_k = 0.707107 -- -- f(x_k) = 0.071118\n",
      "k = 93 -- -- x_k = 0.707107 -- -- f(x_k) = 0.071118\n",
      "k = 94 -- -- x_k = 0.707107 -- -- f(x_k) = 0.071118\n",
      "k = 95 -- -- x_k = 0.707107 -- -- f(x_k) = 0.071118\n",
      "k = 96 -- -- x_k = 0.707107 -- -- f(x_k) = 0.071118\n",
      "k = 97 -- -- x_k = 0.707107 -- -- f(x_k) = 0.071118\n",
      "k = 98 -- -- x_k = 0.707107 -- -- f(x_k) = 0.071118\n",
      "k = 99 -- -- x_k = 0.707107 -- -- f(x_k) = 0.071118\n"
     ]
    }
   ],
   "source": [
    "# Gradient descent implementation\n",
    "\n",
    "def f(x):\n",
    "    return 0.5 - x*np.exp(-x**2)\n",
    "\n",
    "x_k = 1 #arbitrary set to 1 to keep it simple\n",
    "alpha = 0.05\n",
    "print('alpha = %.2f' %alpha)\n",
    "for k in range(0, 100):\n",
    "    print(\"k = %d --\" %k,\"-- x_k = %.6f --\" %x_k, \"-- f(x_k) = %.6f\" %f(x_k))\n",
    "    x_k = x_k - alpha*(2*x_k**2 - 1)*np.exp(-x_k**2)"
   ]
  },
  {
   "cell_type": "markdown",
   "metadata": {},
   "source": [
    "### Gradient Descent in n-dimensions\n",
    "\n",
    "We can generalize the methods we've discussed so far to work in higher dimensions. Specifically, when our objective function $f(\\mathbf{x})$ is now a function of multiple variables, i.e. $f: \\mathbb{R}^n \\rightarrow \\mathbb{R}$.\n",
    "\n",
    "When this is the case, the \"first derivative\" of $f$ becomes a vector-valued function $\\nabla f: \\mathbb{R}^n \\rightarrow \\mathbb{R}^n$ defined by\n",
    "\n",
    "\\begin{equation}\n",
    "    \\nabla f(\\mathbf{x}) = \\nabla f(x_1, x_2, \\ldots, x_n) = \\begin{bmatrix}\n",
    "        \\frac{\\partial f(\\mathbf{x})}{\\partial x_1}\\\\\n",
    "        \\frac{\\partial f(\\mathbf{x})}{\\partial x_2}\\\\\n",
    "        \\vdots\\\\\n",
    "        \\frac{\\partial f(\\mathbf{x})}{\\partial x_n}\n",
    "    \\end{bmatrix}\n",
    "\\end{equation}\n",
    "\n",
    "We call this the <i>gradient</i> of $f$.\n",
    "\n",
    "The algorithm for the n-dimensional case is as follows:\n",
    "    \n",
    "1. Initialize a guess $\\mathbf{x}_k$ (now a vector)\n",
    "\n",
    "2. For $k = 0, 1, 2, \\ldots$, calculate $\\mathbf{x}_{k+1} = \\mathbf{x}_{k} - \\alpha \\nabla f(\\mathbf{x}_{k})$ (also a vector)\n",
    "\n",
    "3. Terminate when tolerance is met"
   ]
  },
  {
   "cell_type": "markdown",
   "metadata": {},
   "source": [
    "#### Example 1.\n",
    "\n",
    "Suppose we wish to minimize the function:\n",
    "\n",
    "\\begin{equation}\n",
    "    f(\\mathbf{x}) = 0.5x_1^2 + 2.5x_2^2\n",
    "\\end{equation}\n",
    "\n",
    "We calculate the gradient:\n",
    "\n",
    "\\begin{equation}\n",
    "    \\nabla f(\\mathbf{x}) = \\begin{bmatrix}\n",
    "        x_1\\\\\n",
    "        5x_2\n",
    "    \\end{bmatrix}\n",
    "\\end{equation}\n",
    "\n",
    "The GD iteration with learning rate $\\alpha$ is then given by:\n",
    "\n",
    "\\begin{equation}\n",
    "    \\mathbf{x}_{k+1} = \\mathbf{x}_k - \\alpha \\begin{bmatrix}\n",
    "        x_1\\\\\n",
    "        5x_2\n",
    "    \\end{bmatrix}\n",
    "\\end{equation}"
   ]
  },
  {
   "cell_type": "code",
   "execution_count": 39,
   "metadata": {
    "scrolled": true
   },
   "outputs": [
    {
     "name": "stdout",
     "output_type": "stream",
     "text": [
      "alpha = 0.33\n",
      "k = 0 -- -- x_k[0] = 5.000000 -- -- x_k[1] = 1.000000 -- -- f(x_k) = 15.000000\n",
      "k = 1 -- -- x_k[0] = 3.333333 -- -- x_k[1] = -0.666667 -- -- f(x_k) = 6.666667\n",
      "k = 2 -- -- x_k[0] = 2.222222 -- -- x_k[1] = 0.444444 -- -- f(x_k) = 2.962963\n",
      "k = 3 -- -- x_k[0] = 1.481481 -- -- x_k[1] = -0.296296 -- -- f(x_k) = 1.316872\n",
      "k = 4 -- -- x_k[0] = 0.987654 -- -- x_k[1] = 0.197531 -- -- f(x_k) = 0.585277\n",
      "k = 5 -- -- x_k[0] = 0.658436 -- -- x_k[1] = -0.131687 -- -- f(x_k) = 0.260123\n",
      "k = 6 -- -- x_k[0] = 0.438957 -- -- x_k[1] = 0.087791 -- -- f(x_k) = 0.115610\n",
      "k = 7 -- -- x_k[0] = 0.292638 -- -- x_k[1] = -0.058528 -- -- f(x_k) = 0.051382\n",
      "k = 8 -- -- x_k[0] = 0.195092 -- -- x_k[1] = 0.039018 -- -- f(x_k) = 0.022837\n",
      "k = 9 -- -- x_k[0] = 0.130061 -- -- x_k[1] = -0.026012 -- -- f(x_k) = 0.010150\n",
      "k = 10 -- -- x_k[0] = 0.086708 -- -- x_k[1] = 0.017342 -- -- f(x_k) = 0.004511\n",
      "k = 11 -- -- x_k[0] = 0.057805 -- -- x_k[1] = -0.011561 -- -- f(x_k) = 0.002005\n",
      "k = 12 -- -- x_k[0] = 0.038537 -- -- x_k[1] = 0.007707 -- -- f(x_k) = 0.000891\n",
      "k = 13 -- -- x_k[0] = 0.025691 -- -- x_k[1] = -0.005138 -- -- f(x_k) = 0.000396\n",
      "k = 14 -- -- x_k[0] = 0.017127 -- -- x_k[1] = 0.003425 -- -- f(x_k) = 0.000176\n",
      "k = 15 -- -- x_k[0] = 0.011418 -- -- x_k[1] = -0.002284 -- -- f(x_k) = 0.000078\n",
      "k = 16 -- -- x_k[0] = 0.007612 -- -- x_k[1] = 0.001522 -- -- f(x_k) = 0.000035\n",
      "k = 17 -- -- x_k[0] = 0.005075 -- -- x_k[1] = -0.001015 -- -- f(x_k) = 0.000015\n",
      "k = 18 -- -- x_k[0] = 0.003383 -- -- x_k[1] = 0.000677 -- -- f(x_k) = 0.000007\n",
      "k = 19 -- -- x_k[0] = 0.002255 -- -- x_k[1] = -0.000451 -- -- f(x_k) = 0.000003\n",
      "k = 20 -- -- x_k[0] = 0.001504 -- -- x_k[1] = 0.000301 -- -- f(x_k) = 0.000001\n",
      "k = 21 -- -- x_k[0] = 0.001002 -- -- x_k[1] = -0.000200 -- -- f(x_k) = 0.000001\n",
      "k = 22 -- -- x_k[0] = 0.000668 -- -- x_k[1] = 0.000134 -- -- f(x_k) = 0.000000\n",
      "k = 23 -- -- x_k[0] = 0.000446 -- -- x_k[1] = -0.000089 -- -- f(x_k) = 0.000000\n",
      "k = 24 -- -- x_k[0] = 0.000297 -- -- x_k[1] = 0.000059 -- -- f(x_k) = 0.000000\n",
      "k = 25 -- -- x_k[0] = 0.000198 -- -- x_k[1] = -0.000040 -- -- f(x_k) = 0.000000\n",
      "k = 26 -- -- x_k[0] = 0.000132 -- -- x_k[1] = 0.000026 -- -- f(x_k) = 0.000000\n",
      "k = 27 -- -- x_k[0] = 0.000088 -- -- x_k[1] = -0.000018 -- -- f(x_k) = 0.000000\n",
      "k = 28 -- -- x_k[0] = 0.000059 -- -- x_k[1] = 0.000012 -- -- f(x_k) = 0.000000\n",
      "k = 29 -- -- x_k[0] = 0.000039 -- -- x_k[1] = -0.000008 -- -- f(x_k) = 0.000000\n",
      "k = 30 -- -- x_k[0] = 0.000026 -- -- x_k[1] = 0.000005 -- -- f(x_k) = 0.000000\n",
      "k = 31 -- -- x_k[0] = 0.000017 -- -- x_k[1] = -0.000003 -- -- f(x_k) = 0.000000\n",
      "k = 32 -- -- x_k[0] = 0.000012 -- -- x_k[1] = 0.000002 -- -- f(x_k) = 0.000000\n",
      "k = 33 -- -- x_k[0] = 0.000008 -- -- x_k[1] = -0.000002 -- -- f(x_k) = 0.000000\n",
      "k = 34 -- -- x_k[0] = 0.000005 -- -- x_k[1] = 0.000001 -- -- f(x_k) = 0.000000\n",
      "k = 35 -- -- x_k[0] = 0.000003 -- -- x_k[1] = -0.000001 -- -- f(x_k) = 0.000000\n",
      "k = 36 -- -- x_k[0] = 0.000002 -- -- x_k[1] = 0.000000 -- -- f(x_k) = 0.000000\n",
      "k = 37 -- -- x_k[0] = 0.000002 -- -- x_k[1] = -0.000000 -- -- f(x_k) = 0.000000\n",
      "k = 38 -- -- x_k[0] = 0.000001 -- -- x_k[1] = 0.000000 -- -- f(x_k) = 0.000000\n",
      "k = 39 -- -- x_k[0] = 0.000001 -- -- x_k[1] = -0.000000 -- -- f(x_k) = 0.000000\n",
      "k = 40 -- -- x_k[0] = 0.000000 -- -- x_k[1] = 0.000000 -- -- f(x_k) = 0.000000\n",
      "k = 41 -- -- x_k[0] = 0.000000 -- -- x_k[1] = -0.000000 -- -- f(x_k) = 0.000000\n",
      "k = 42 -- -- x_k[0] = 0.000000 -- -- x_k[1] = 0.000000 -- -- f(x_k) = 0.000000\n",
      "k = 43 -- -- x_k[0] = 0.000000 -- -- x_k[1] = -0.000000 -- -- f(x_k) = 0.000000\n",
      "k = 44 -- -- x_k[0] = 0.000000 -- -- x_k[1] = 0.000000 -- -- f(x_k) = 0.000000\n",
      "k = 45 -- -- x_k[0] = 0.000000 -- -- x_k[1] = -0.000000 -- -- f(x_k) = 0.000000\n",
      "k = 46 -- -- x_k[0] = 0.000000 -- -- x_k[1] = 0.000000 -- -- f(x_k) = 0.000000\n",
      "k = 47 -- -- x_k[0] = 0.000000 -- -- x_k[1] = -0.000000 -- -- f(x_k) = 0.000000\n",
      "k = 48 -- -- x_k[0] = 0.000000 -- -- x_k[1] = 0.000000 -- -- f(x_k) = 0.000000\n",
      "k = 49 -- -- x_k[0] = 0.000000 -- -- x_k[1] = -0.000000 -- -- f(x_k) = 0.000000\n"
     ]
    }
   ],
   "source": [
    "# Gradient descent n-dim implementation\n",
    "\n",
    "def f(x):\n",
    "    return 0.5*x[0]**2 + 2.5*x[1]**2\n",
    "\n",
    "x_k = np.array([5, 1])\n",
    "alpha = 1/3\n",
    "print('alpha = %.2f' %alpha)\n",
    "for k in range(0, 50):\n",
    "    print(\"k = %d --\" %k,\"-- x_k[0] = %.6f --\" %x_k[0],\"-- x_k[1] = %.6f --\" %x_k[1], \"-- f(x_k) = %.6f\" %f(x_k))\n",
    "    x_k = x_k - alpha*np.array([x_k[0], 5*x_k[1]])"
   ]
  },
  {
   "cell_type": "code",
   "execution_count": null,
   "metadata": {},
   "outputs": [],
   "source": []
  }
 ],
 "metadata": {
  "kernelspec": {
   "display_name": "Python 3 (ipykernel)",
   "language": "python",
   "name": "python3"
  },
  "language_info": {
   "codemirror_mode": {
    "name": "ipython",
    "version": 3
   },
   "file_extension": ".py",
   "mimetype": "text/x-python",
   "name": "python",
   "nbconvert_exporter": "python",
   "pygments_lexer": "ipython3",
   "version": "3.8.11"
  }
 },
 "nbformat": 4,
 "nbformat_minor": 4
}
