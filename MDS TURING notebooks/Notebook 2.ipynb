{
 "cells": [
  {
   "cell_type": "markdown",
   "metadata": {},
   "source": [
    "## Lesson 2: Data Sampling: Mathematics and Guiding Principles\n",
    "\n",
    "Author: [Christopher Monterola](https://www.chrismonterola.net)\n",
    "\n",
    "Copyright © 2018, 2019 Christopher Monterola. All rights reserved.\n",
    "\n",
    "This notebook was written, conceptualized, and prepared for the Mathematics for Data Science course under AIM's MS in Data Science program. None of the content here shall be reproduced and/or distributed without the written permission of the author. \n",
    "\n",
    "The author would like to acknowledge the AIM MSDS program team members for their help and support in building the notebooks. \n",
    "\n",
    "\n",
    "THE SOFTWARE IS PROVIDED \"AS IS\", WITHOUT WARRANTY OF ANY KIND, EXPRESS OR IMPLIED, INCLUDING BUT NOT LIMITED TO THE WARRANTIES OF MERCHANTABILITY, FITNESS FOR A PARTICULAR PURPOSE AND NONINFRINGEMENT. IN NO EVENT SHALL THE\n",
    "AUTHORS OR COPYRIGHT HOLDERS BE LIABLE FOR ANY CLAIM, DAMAGES OR OTHER LIABILITY, WHETHER IN AN ACTION OF CONTRACT, TORT OR OTHERWISE, ARISING FROM, OUT OF OR IN CONNECTION WITH THE SOFTWARE OR THE USE OR OTHER DEALINGS IN THE\n",
    "SOFTWARE.\n",
    "\n",
    "---\n",
    "\n",
    "### Executive Summary\n",
    "Based on the practices of survey firms (e.g. Social Weather Station or Pulse Asia in the Philippines) randomly choosing 1,200 samples from a given population is enough to determine the socio-demographic profile of an entire population. How accurate is this claim? \n",
    "\n",
    "The population need not be small; as long as the sample is taken randomly, it should be acceptable. Survey organizations typically use the term **confidence interval** and **margin of error** supplementary to survey results. What do these mean and what do they actually represent? \n",
    "\n",
    "The perspective derivable in this lesson will provide a fundamental guide on how to assess the level of data granularity needed to come up with a sensible model. In particular, one will understand why only 1,200 of 50 million voters are needed to forecast election results, but almost all million transactions are needed to detect fraud.\n",
    "\n",
    "\n",
    "Lessons that can be learned in this notebook:\n",
    "\n",
    "1. General probability concept\n",
    "2. Meaning of confidence interval and margin of error\n",
    "3. Basic simulation of results with actual population using Monte Carlo method\n",
    "\n"
   ]
  },
  {
   "cell_type": "markdown",
   "metadata": {},
   "source": [
    "### 1. Binomial Distribution\n",
    "\n",
    "A binomial distribution results from experiments with two possible outcomes. An example of a binomial experiment is tossing a coin (heads or tails). \n",
    "\n",
    "The probability that a random variable $X$ has $k$ (where $k = 1, 2, \\ldots, n$) successes from $n$ observations is\n",
    "\n",
    "\\begin{equation}\n",
    "P (X = k) = \\binom{n}{k} p^k (1-p)^{n-k} = \\frac{n!}{k!(n-k)!}p^k (1-p)^{n-k}\n",
    "\\end{equation}\n",
    "\n",
    "The following conditions must apply when using a binomial distribution in describing the behavior of $X$:\n",
    "\n",
    "1. The number of observations $n$ is fixed.\n",
    "2. The observations must be independent of each other.\n",
    "3. Each observation must have **two outcomes** (success with probability $p$ or failure with probability $q = 1 - p$).\n",
    "4. The probability of success must be the same for all observations.\n",
    "\n",
    "In the case of a coin toss, $p$ is the probability of getting heads and $q = 1-p$ is the probability of getting tails; an unbiased/fair coin has the value $p = q = 0.5$.  The mean $\\mu$, variance $\\sigma^2$ of this distribution is given by:\n",
    "\n",
    "\\begin{equation}\n",
    "\\mu_X =np  \n",
    "\\end{equation}\n",
    "\n",
    "\\begin{equation}\n",
    "\\sigma^2_X = np(1-p)\n",
    "\\end{equation}\n",
    "\n",
    "**Example 1.**\n",
    "What is the probability $P$ that we will get tails if we flipped a coin? Where: $p=0.5,\\,n=1,\\,k=1$\n",
    "\n",
    "**Example 2.**\n",
    "What is the probability $P$ that we will get tails if we flip Scarface's coin (with both heads)? Where: $p=0,\\,n=1,\\,k=1$\n",
    "\n",
    "\n",
    "**Example 3.** \n",
    "What is the probability $P$ that we will get 40 tails with 100 coin tosses? Where: $p=0.5,\\,n=100,\\,k=40$\n"
   ]
  },
  {
   "cell_type": "code",
   "execution_count": 1,
   "metadata": {},
   "outputs": [
    {
     "name": "stdout",
     "output_type": "stream",
     "text": [
      "0.010843866711637987\n"
     ]
    }
   ],
   "source": [
    "from math import factorial\n",
    "\n",
    "n = 100\n",
    "p = 0.5\n",
    "k = 40\n",
    "\n",
    "P_of_40 = (factorial(n) / (factorial(k) * factorial(n - k))) * (p**k) * ((1 - p)**(n - k))\n",
    "\n",
    "print(P_of_40)"
   ]
  },
  {
   "cell_type": "markdown",
   "metadata": {},
   "source": [
    "#### Example 4a. Analytical Calculation\n",
    "Suppose you flip a fair coin 100 times. Let $X \\sim \\text{Binomial}(p = 0.5, n = 100)$, i.e. the number of heads in 100 flips.\n",
    "\n",
    "a) Calculate the probabilities $f(X = k)$ analytically (i.e. using the formula) and store the values in an array.\n",
    "\n",
    "b) Check that the sum of the probabilities equals 1.\n",
    "\n",
    "c) Plot the probability mass function. What does it look like?\n",
    "\n",
    "Note: Analytically, we know that $X$ has mean $np = 100(0.5) = 50$ and variance $np(1-p) = 100(0.5)(0.5) = 25$. "
   ]
  },
  {
   "cell_type": "code",
   "execution_count": 1,
   "metadata": {},
   "outputs": [
    {
     "name": "stdout",
     "output_type": "stream",
     "text": [
      "p_of_k: [7.888609052210118e-31, 7.888609052210118e-29, 3.9048614808440084e-27, 1.275588083742376e-25, 3.093301103075262e-24, 5.939138117904503e-23, 9.403635353348797e-22, 1.2627738903068384e-20, 1.4679746474816996e-19, 1.5005963063146263e-18, 1.3655426387463099e-17, 1.1172621589742536e-16, 8.286361012392381e-16, 5.609228993004073e-15, 3.485735159938246e-14, 1.9984881583645938e-13, 1.0616968341311906e-12, 5.2460314157070584e-12, 2.4190033750204773e-11, 1.0439909302719957e-10, 4.228163267601581e-10, 1.6107288638482212e-09, 5.7839809201822495e-09, 1.9615239642357194e-08, 6.2932227185896e-08, 1.9131397064512384e-07, 5.518672230147802e-07, 1.5125249815960645e-06, 3.943368702018311e-06, 9.790432639493739e-06, 2.3170690580135177e-05, 5.232091421320847e-05, 0.00011281697127223073, 0.00023247133474277854, 0.00045810527728723993, 0.0008638556657416525, 0.0015597393964779844, 0.0026979276047186746, 0.004472879976244119, 0.007110732269926549, 0.010843866711637984, 0.01586907323654339, 0.022292269546572856, 0.030068642644214567, 0.038952559789096126, 0.04847429662643074, 0.05795839814029763, 0.06659049999098027, 0.07352701040670738, 0.07802866410507721, 0.07958923738717873, 0.07802866410507721, 0.07352701040670738, 0.06659049999098027, 0.05795839814029763, 0.04847429662643074, 0.038952559789096126, 0.030068642644214567, 0.022292269546572856, 0.01586907323654339, 0.010843866711637984, 0.007110732269926549, 0.004472879976244119, 0.0026979276047186746, 0.0015597393964779844, 0.0008638556657416525, 0.00045810527728723993, 0.00023247133474277854, 0.00011281697127223073, 5.232091421320847e-05, 2.3170690580135177e-05, 9.790432639493739e-06, 3.943368702018311e-06, 1.5125249815960645e-06, 5.518672230147802e-07, 1.9131397064512384e-07, 6.2932227185896e-08, 1.9615239642357194e-08, 5.7839809201822495e-09, 1.6107288638482212e-09, 4.228163267601581e-10, 1.0439909302719957e-10, 2.4190033750204773e-11, 5.2460314157070584e-12, 1.0616968341311906e-12, 1.9984881583645938e-13, 3.485735159938246e-14, 5.609228993004073e-15, 8.286361012392381e-16, 1.1172621589742536e-16, 1.3655426387463099e-17, 1.5005963063146263e-18, 1.4679746474816996e-19, 1.2627738903068384e-20, 9.403635353348797e-22, 5.939138117904503e-23, 3.093301103075262e-24, 1.275588083742376e-25, 3.9048614808440084e-27, 7.888609052210118e-29, 7.888609052210118e-31]\n",
      "Sum of Probabilities = 1.0\n"
     ]
    },
    {
     "data": {
      "image/png": "[encoded data removed]",
      "text/plain": [
       "<Figure size 432x288 with 1 Axes>"
      ]
     },
     "metadata": {
      "needs_background": "light"
     },
     "output_type": "display_data"
    }
   ],
   "source": [
    "import numpy as np\n",
    "import matplotlib.pyplot as plt\n",
    "from scipy.special import binom\n",
    "\n",
    "n = 100\n",
    "p = 0.5\n",
    "\n",
    "k_values = np.arange(0, n + 1) #possible number of heads in 100 flips\n",
    "p_of_k = [binom(n, k) * (p**k) * ((1 - p)**(n - k)) for k in k_values] # Analytic solution\n",
    "print(f'p_of_k: {p_of_k}')\n",
    "print('Sum of Probabilities =', sum(p_of_k))\n",
    "\n",
    "plt.plot(k_values, p_of_k, 'r--')\n",
    "plt.title(\"PMF of X\")\n",
    "plt.xlabel('Value of k')\n",
    "plt.ylabel('f(X = k)')\n",
    "plt.show()"
   ]
  },
  {
   "cell_type": "markdown",
   "metadata": {},
   "source": [
    "#### Example 4b. Numerical Solution (Simulating Bernoulli r.v.s)\n",
    "Suppose we didn't know the formula of a Binomial distribution. Let's instead estimate $X$'s pmf by simulating Bernoulli random variables (i.e. flipping coins).\n",
    "\n",
    "a) Sample a <b><u>single</b></u> $X$ by simulating 100 coin flips and counting the number of heads.\n",
    "\n",
    "b) Sample $X$ 1000 times and plot the histogram against the pmf we calculated above.\n",
    "\n",
    "c) Sample $X$ 10000 times and plot the histogram against the pmf we calculated above. What happens?"
   ]
  },
  {
   "cell_type": "code",
   "execution_count": 3,
   "metadata": {},
   "outputs": [
    {
     "name": "stdout",
     "output_type": "stream",
     "text": [
      "[1 1 0 1 0 0 1 1 1 1 0 1 1 0 0 1 0 1 0 1 0 1 0 1 0 1 0 1 0 0 1 0 0 1 0 0 1\n",
      " 0 0 1 0 0 0 1 0 0 1 1 0 1 1 1 0 0 0 0 1 1 1 1 0 0 0 1 1 0 1 0 0 0 1 0 0 0\n",
      " 0 0 0 0 1 0 1 1 0 1 0 1 0 0 1 1 1 0 0 1 0 0 0 0 0 0]\n",
      "43\n"
     ]
    }
   ],
   "source": [
    "#simulating how many heads obtained from 100 coin flips\n",
    "n = 100\n",
    "possible_X = [0, 1]\n",
    "p = [0.5, 0.5]\n",
    "\n",
    "coin_flips = np.random.choice(possible_X, size = n, replace = True, p = p)\n",
    "X = sum(coin_flips)\n",
    "\n",
    "print(coin_flips)\n",
    "print(X)"
   ]
  },
  {
   "cell_type": "code",
   "execution_count": 12,
   "metadata": {},
   "outputs": [
    {
     "name": "stdout",
     "output_type": "stream",
     "text": [
      "[47 46 47 49 42]\n"
     ]
    },
    {
     "data": {
      "image/png": "[encoded data removed]",
      "text/plain": [
       "<Figure size 432x288 with 1 Axes>"
      ]
     },
     "metadata": {
      "needs_background": "light"
     },
     "output_type": "display_data"
    }
   ],
   "source": [
    "#simulating 10000 events of 100 coinflips\n",
    "sample_size = 10000\n",
    "n = 100\n",
    "possible_X = [0, 1]\n",
    "p = [0.5, 0.5]\n",
    "\n",
    "X = []\n",
    "for i in range(0, sample_size):\n",
    "    coin_flips = np.random.choice(possible_X, size = n, replace = True, p = p)\n",
    "    X.append(sum(coin_flips))\n",
    "\n",
    "X = np.random.binomial(n = 100, p = 0.5, size = sample_size) ## Short cut! Also a lot more efficient.\n",
    "print(X[:5])\n",
    "    \n",
    "plt.plot(k_values, p_of_k, 'r--')\n",
    "plt.hist(X, bins = 20, density = True)\n",
    "plt.title(\"PMF of X\")\n",
    "plt.xlabel('Value of k')\n",
    "plt.ylabel('f(X = k)')\n",
    "plt.show()"
   ]
  },
  {
   "cell_type": "markdown",
   "metadata": {},
   "source": [
    "#### Interactive Widget"
   ]
  },
  {
   "cell_type": "code",
   "execution_count": 5,
   "metadata": {},
   "outputs": [
    {
     "data": {
      "text/html": [
       "        <script type=\"text/javascript\">\n",
       "        window.PlotlyConfig = {MathJaxConfig: 'local'};\n",
       "        if (window.MathJax) {MathJax.Hub.Config({SVG: {font: \"STIX-Web\"}});}\n",
       "        if (typeof require !== 'undefined') {\n",
       "        require.undef(\"plotly\");\n",
       "        requirejs.config({\n",
       "            paths: {\n",
       "                'plotly': ['https://cdn.plot.ly/plotly-latest.min']\n",
       "            }\n",
       "        });\n",
       "        require(['plotly'], function(Plotly) {\n",
       "            window._Plotly = Plotly;\n",
       "        });\n",
       "        }\n",
       "        </script>\n",
       "        "
      ]
     },
     "metadata": {},
     "output_type": "display_data"
    },
    {
     "data": {
      "application/vnd.jupyter.widget-view+json": {
       "model_id": "1611fefb772e431f9de9d5694e26d4be",
       "version_major": 2,
       "version_minor": 0
      },
      "text/plain": [
       "interactive(children=(IntSlider(value=10, continuous_update=False, description='n', max=1000, min=1), FloatSli…"
      ]
     },
     "metadata": {},
     "output_type": "display_data"
    }
   ],
   "source": [
    "import ipywidgets as widgets\n",
    "from IPython.display import display\n",
    "import plotly.offline as pyoff\n",
    "import plotly.graph_objs as go\n",
    "import plotly.tools as tools\n",
    "pyoff.init_notebook_mode(connected=True)\n",
    "\n",
    "def totProbView(n, p, q):\n",
    "    pList = [binom(n,k)*(p**k)*(q**(n-k)) for k in range(n)]\n",
    "    kList = [k for k in range(n)]\n",
    "    print(\"Total probability = {0:.3f}\".format(sum(pList)))\n",
    "    pyoff.iplot({'data': [{\"x\": kList, \"y\": pList,\n",
    "                 'marker': {'color': '#1F77B4', 'size': 10, 'symbol': 'circle-open'},\n",
    "                 'mode': 'markers + lines',\n",
    "                 'type': 'scatter'}],\n",
    "                 'layout': {'title': \"Mean = {}\".format(int(n*p)),\n",
    "                  'xaxis': {'title': \"Value of k\"},\n",
    "                  'yaxis': {'title': \"Frequency\"}}})\n",
    "\n",
    "#Setup Slider and Bind Dependent Arguments\n",
    "pWidget = widgets.FloatSlider(min=0.0, max=0.99, step=0.01, value=0.5, continuous_update=False)\n",
    "qWidget = widgets.FloatSlider(min=0.0, max=0.99, step=0.01, value=0.5, continuous_update=False)\n",
    "nWidget = widgets.IntSlider(min=1, max=1000, step=1, value=10, continuous_update=False)\n",
    "\n",
    "def pUpdate(*args):\n",
    "    qWidget.value = 1.0 - pWidget.value\n",
    "    \n",
    "def qUpdate(*args):\n",
    "    pWidget.value = 1.0 - qWidget.value\n",
    "    \n",
    "pWidget.observe(pUpdate, 'value')\n",
    "qWidget.observe(qUpdate, 'value')\n",
    "\n",
    "widgets.interact(totProbView, p=pWidget, q=qWidget, n=nWidget);"
   ]
  },
  {
   "cell_type": "markdown",
   "metadata": {},
   "source": [
    "#### Example 5.  From Binomial to Gaussian distribution\n",
    "\n",
    "Note that as we increase $n$, our binomial distribution appears to become more \"gaussian\" like. In fact, we can show that, given $X$ is a binomial r.v., when $n \\rightarrow \\infty$ while $p$ remains fixed, the distribution of:\n",
    "\n",
    "\\begin{equation}\n",
    "\\frac{X - \\mu}{\\sigma} = \\frac{X - np}{\\sqrt{np(1-p)}}\n",
    "\\end{equation}\n",
    "\n",
    "approaches a Normal distribution with mean $0$ and variance $1$. This is the <b><i>de Moivre-Laplace Theorem</b></i>, which is a special case of the <b><i>Central Limit Theorem (CLT)</b></i>."
   ]
  },
  {
   "cell_type": "code",
   "execution_count": 23,
   "metadata": {},
   "outputs": [
    {
     "data": {
      "image/png": "[encoded data removed]",
      "text/plain": [
       "<Figure size 432x288 with 1 Axes>"
      ]
     },
     "metadata": {
      "needs_background": "light"
     },
     "output_type": "display_data"
    }
   ],
   "source": [
    "sim_num = 1000\n",
    "n = 1000000\n",
    "p = 0.5\n",
    "\n",
    "X = np.random.binomial(n, p, size = sim_num)\n",
    "X_normal = (X - n*p)/np.sqrt(n*p*(1-p))\n",
    "    \n",
    "plt.hist(X_normal, bins = 35, density = True)\n",
    "plt.title(\"Histogram of X_Normal\")\n",
    "plt.xlabel('X')\n",
    "plt.ylabel('f(X = x)')\n",
    "plt.show()"
   ]
  },
  {
   "cell_type": "markdown",
   "metadata": {},
   "source": [
    "### 2. Sampling Distribution, Confidence Interval, and Margin of Error\n",
    "\n",
    "Suppose we wished to know whether or not a coin was fair (i.e. is $p = 0.5$?). To find out, we can generate samples of coin flips and analyze proportion of results that come up as heads. Let's call our estimate of $p$ as $\\hat{p}$."
   ]
  },
  {
   "cell_type": "code",
   "execution_count": 11,
   "metadata": {},
   "outputs": [
    {
     "name": "stdout",
     "output_type": "stream",
     "text": [
      "[1 1 1 1 1 1 1 1 1 1 0 1 1 1 1 1 1 1 1 1 1 1 1 1 1 1 1 1 1 1 0 1 1 1 1 0 1\n",
      " 0 1 1 1 1 1 1 1 1 1 1 1 1 1 1 1 1 1 1 1 1 1 1 1 1 1 1 1 1 0 0 1 0 1 1 1 1\n",
      " 1 1 1 1 1 1 1 1 1 1 1 1 1 1 1 1 1 1 1 1 1 1 1 1 1 1]\n",
      "0.93\n"
     ]
    }
   ],
   "source": [
    "# Suppose we did not know what the \"true\" value of p was\n",
    "p = 0.9\n",
    "\n",
    "sample_size = 100\n",
    "\n",
    "coin_flips = np.random.binomial(n = 1, p = p, size = sample_size) ## Single coin flips only!\n",
    "p_hat = sum(coin_flips)/sample_size\n",
    "\n",
    "print(coin_flips)\n",
    "print(p_hat)"
   ]
  },
  {
   "cell_type": "markdown",
   "metadata": {},
   "source": [
    "Note that every time we run our code, we get a different $\\hat{p}$. This implies that $\\hat{p}$ itself is random and thus has a distribution associated with it. This is called a <b><i>sampling distribution</b></i>.\n",
    "\n",
    "If we collect enough $\\hat{p}$s we can plot its histogram to get an estimate of it's probability distribution."
   ]
  },
  {
   "cell_type": "code",
   "execution_count": 29,
   "metadata": {},
   "outputs": [
    {
     "data": {
      "image/png": "[encoded data removed]",
      "text/plain": [
       "<Figure size 432x288 with 1 Axes>"
      ]
     },
     "metadata": {
      "needs_background": "light"
     },
     "output_type": "display_data"
    }
   ],
   "source": [
    "sim_num = 10000 ## Number of p_hats to sample. NOTE: this is different from the sample size of coin flips!\n",
    "p_hat_list = []\n",
    "\n",
    "for i in range(0, sim_num):\n",
    "    coin_flips = np.random.binomial(n = 1, p = p, size = sample_size)\n",
    "    p_hat_list.append(sum(coin_flips)/sample_size)\n",
    "\n",
    "plt.hist(p_hat_list, bins = 20, density = True)\n",
    "plt.title(\"Histogram of p_hat\")\n",
    "plt.xlabel('p')\n",
    "plt.ylabel('Normalized Frequency')\n",
    "plt.show()"
   ]
  },
  {
   "cell_type": "markdown",
   "metadata": {},
   "source": [
    "As it turns out, one can prove that (for a large enough sample size $n$) the sampling distribution of $\\hat{p}$ follows a Normal distribution with the mean $\\mu_{\\hat{p}} = p$ and standard deviation $\\sigma_{\\hat{p}} = \\sqrt{\\frac{p(1-p)}{n}}$.\n",
    "\n",
    "Given that $\\hat{p}$ is random, how reliable is our estimate? Is there a way for us to quantify the uncertainty of our estimate?\n",
    "\n",
    "Yes! We can summarize the uncertainty of our estimate using <b><i>confidence intervals (CI)</b></i>.\n",
    "\n",
    "A confidence interval allows us to make statements about the range of plausible values for an unknown parameter (in this example $p$). The interval also has an associated \"confidence level\" that the true value of the parameter is in the proposed range.\n",
    "\n",
    "To calculate a confidence interval for our estimate $\\hat{p}$, we must first pick a confidence level $1 - \\alpha$. Suppose we choose a confidence level of $1 - \\alpha = 0.95$ which implies that $\\alpha = 0.05$. We then calculate the corresponding $z$-score:\n",
    "\n",
    "\\begin{equation}\n",
    "z = \\Phi^{-1}\\left(1 - \\frac{\\alpha}{2}\\right)\n",
    "\\end{equation}\n",
    "\n",
    "where $\\Phi(x)$ is the CDF of the standard normal distribution. To calculate the z-score, you can look up the values on a Z-table or write code:"
   ]
  },
  {
   "cell_type": "code",
   "execution_count": 9,
   "metadata": {},
   "outputs": [
    {
     "name": "stdout",
     "output_type": "stream",
     "text": [
      "1.959963984540054\n"
     ]
    }
   ],
   "source": [
    "from scipy.stats import norm\n",
    "\n",
    "alpha = 0.05\n",
    "z_score = norm.ppf(1 - alpha/2)\n",
    "\n",
    "print(z_score)"
   ]
  },
  {
   "cell_type": "markdown",
   "metadata": {},
   "source": [
    "The confidence interval is then given by:\n",
    "\n",
    "\\begin{equation}\n",
    "\\hat{p} \\pm z \\sqrt{\\frac{\\hat{p}(1-\\hat{p})}{n}}\n",
    "\\end{equation}\n",
    "\n",
    "The value $z \\sqrt{\\frac{\\hat{p}(1-\\hat{p})}{n}}$ is called the <b><i>margin of error (ERR)</b></i>. Note that since we don't know the true value $p$, we instead substitute $\\hat{p}$ into the formula for standard deviation. When we do this, the value is known as the <b><i>standard error (SE)</b></i>."
   ]
  },
  {
   "cell_type": "code",
   "execution_count": 10,
   "metadata": {},
   "outputs": [
    {
     "name": "stdout",
     "output_type": "stream",
     "text": [
      "0.09797859762680124\n",
      "0.39202140237319877\n",
      "0.5879785976268013\n"
     ]
    }
   ],
   "source": [
    "ERR = z_score*np.sqrt(p_hat*(1-p_hat)/sample_size)\n",
    "CI_lowerbound = p_hat - ERR\n",
    "CI_upperbound = p_hat + ERR\n",
    "\n",
    "print(ERR)\n",
    "print(CI_lowerbound)\n",
    "print(CI_upperbound)"
   ]
  },
  {
   "cell_type": "markdown",
   "metadata": {},
   "source": [
    "Using the calculated values, we can now say the following: <b><u>With 95% confidence, the true value of our parameter lies between 0.3920 and 0.5879.</b></u>\n",
    "\n",
    "What does 95% confidence mean? Note that because $\\hat{p}$ is random, the ERR and CI bounds are also random (i.e. they change depending on what we sample). The interpretation is thus: if we repeat the sampling process many times, the true value of $p$ will be contained in the confidence interval 95% of the time.\n",
    "\n",
    "#### Break\n",
    "\n",
    "As you can probably tell, a lower margin of error is desirable. In cases where we can control our sample size (e.g. when taking a survey), we can instead set both our confidence level and margin of error to some target then calculate how many samples we need.\n",
    "\n",
    "\\begin{equation}\n",
    "\\text{ERR} = z_\\alpha \\sqrt{\\frac{\\hat{p}(1-\\hat{p})}{n}}\n",
    "\\end{equation}\n",
    "\n",
    "Note that the max value of $p(1-p)$ is $0.25$. You can verify this yourself using the code below."
   ]
  },
  {
   "cell_type": "code",
   "execution_count": 11,
   "metadata": {},
   "outputs": [
    {
     "data": {
      "image/png": "[encoded data removed]",
      "text/plain": [
       "<Figure size 432x288 with 1 Axes>"
      ]
     },
     "metadata": {
      "needs_background": "light"
     },
     "output_type": "display_data"
    }
   ],
   "source": [
    "def my_function(x):\n",
    "    return x*(1 - x)\n",
    "\n",
    "x_range = np.linspace(0, 1, 100)\n",
    "\n",
    "plt.plot(x_range, my_function(x_range), 'b--')\n",
    "plt.show()"
   ]
  },
  {
   "cell_type": "markdown",
   "metadata": {},
   "source": [
    "Thus we can simplify our equation to,\n",
    "\n",
    "\\begin{align*}\n",
    "\\text{ERR} &\\approx z_\\alpha \\sqrt{\\frac{1/4}{n}} \\\\\n",
    "\\text{ERR}^2 &\\approx z_\\alpha^2 \\frac{1/4}{n} \\\\\n",
    "n &\\approx \\frac{z_\\alpha^2}{4(\\text{ERR}^2)} \\\\\n",
    "\\end{align*}\n",
    "\n",
    "Using this expression, we can calculate the minimum number of samples required to meet a target confidence level and margin of error."
   ]
  },
  {
   "cell_type": "code",
   "execution_count": 19,
   "metadata": {},
   "outputs": [
    {
     "name": "stdout",
     "output_type": "stream",
     "text": [
      "Samples needed: 1182.3511297919745\n"
     ]
    }
   ],
   "source": [
    "ERR = 0.0285 #arbitrary\n",
    "alpha = 0.05\n",
    "z_score = norm.ppf(1 - alpha/2)\n",
    "n = z_score**2/(4*(ERR**2))\n",
    "\n",
    "print('Minimum required samples :', n)"
   ]
  },
  {
   "cell_type": "code",
   "execution_count": 13,
   "metadata": {},
   "outputs": [
    {
     "data": {
      "image/png": "[encoded data removed]",
      "text/plain": [
       "<Figure size 432x288 with 1 Axes>"
      ]
     },
     "metadata": {
      "needs_background": "light"
     },
     "output_type": "display_data"
    },
    {
     "data": {
      "image/png": "[encoded data removed]",
      "text/plain": [
       "<Figure size 432x288 with 1 Axes>"
      ]
     },
     "metadata": {
      "needs_background": "light"
     },
     "output_type": "display_data"
    }
   ],
   "source": [
    "import scipy.stats as stats\n",
    "\n",
    "def my_range(start, end, step):\n",
    "    while start <= end:\n",
    "        yield start\n",
    "        start += step\n",
    "        \n",
    "ERR1=0.01\n",
    "n_list1 =[stats.norm.ppf(1-((1-CI)/2))**2/(4*(ERR1**2)) \\\n",
    "          for CI in my_range(.7,.995,.01)] \n",
    "CI_list1=[CI for CI in my_range(.7,.995,.01)]\n",
    "\n",
    "ERR2=0.015\n",
    "n_list2 =[stats.norm.ppf(1-((1-CI)/2))**2/(4*(ERR2**2)) \\\n",
    "          for CI in my_range(.7,.995,.01)] \n",
    "CI_list2=[CI for CI in my_range(.7,.995,.01)]\n",
    "\n",
    "ERR3=0.02\n",
    "n_list3 =[stats.norm.ppf(1-((1-CI)/2))**2/(4*(ERR3**2)) \\\n",
    "          for CI in my_range(.7,.995,.01)] \n",
    "CI_list3=[CI for CI in my_range(.7,.995,.01)]\n",
    "\n",
    "ERR4=0.03\n",
    "n_list4 =[stats.norm.ppf(1-((1-CI)/2))**2/(4*(ERR4**2)) \\\n",
    "          for CI in my_range(.7,.995,.01)] \n",
    "CI_list4=[CI for CI in my_range(.7,.995,.01)]\n",
    "\n",
    "ERR5=0.05\n",
    "n_list5 =[stats.norm.ppf(1-((1-CI)/2))**2/(4*(ERR5**2)) \\\n",
    "          for CI in my_range(.7,.995,.01)] \n",
    "CI_list5=[CI for CI in my_range(.7,.995,.01)]\n",
    "\n",
    "plt.figure(1)\n",
    "plt.plot(CI_list1,n_list1,'ro-',CI_list2,n_list2,'bo-',\\\n",
    "         CI_list3,n_list3,'go-',CI_list4,n_list4,'ko-')\n",
    "plt.xlabel(\"Confidence Interval\")\n",
    "plt.ylabel(\"Samples Needed\")\n",
    "plt.title(\"%Error Margins = 1(red), 1.5(blue), 2(green), 3(black)\")\n",
    "\n",
    "plt.figure(2)\n",
    "plt.plot(CI_list4,n_list4,'ko-')\n",
    "plt.xlabel(\"Confidence Interval\")\n",
    "plt.ylabel(\"Samples Needed\")\n",
    "plt.title(\"Error Margin = 3%\")\n",
    "\n",
    "\n",
    "plt.show()"
   ]
  },
  {
   "cell_type": "code",
   "execution_count": 14,
   "metadata": {},
   "outputs": [
    {
     "data": {
      "application/vnd.jupyter.widget-view+json": {
       "model_id": "24d2c45ba32b44b29aec8149cc9bc462",
       "version_major": 2,
       "version_minor": 0
      },
      "text/plain": [
       "interactive(children=(FloatSlider(value=0.01, description='err', max=0.1, min=0.01, step=0.005), Output()), _d…"
      ]
     },
     "metadata": {},
     "output_type": "display_data"
    }
   ],
   "source": [
    "def my_range(start, end, step):\n",
    "    while start <= end:\n",
    "        yield start\n",
    "        start += step\n",
    "        \n",
    "def getNeededSamples(err):\n",
    "    n_list = [stats.norm.ppf(1-((1-CI)/2))**2/(4*(err**2)) \\\n",
    "              for CI in my_range(.7, .995, .01)]\n",
    "    CI_list = [CI for CI in my_range(.7, .995, .01)]\n",
    "    \n",
    "    \n",
    "    myplot = [go.Scatter(x=CI_list, y=n_list,\n",
    "                         marker={'color': '#1F77B4', 'size': 10, 'symbol': 'circle-open'},\n",
    "                         mode='markers + lines')]\n",
    "    \n",
    "    pyoff.iplot(go.Figure(data=myplot, \n",
    "                          layout=go.Layout(title = 'Error Margins = {}'.format(err*100),\n",
    "                                           xaxis=dict(title = 'Confidence Interval'), \n",
    "                                           yaxis=dict(title='Sample Needed'))))\n",
    "    \n",
    "    \n",
    "errWidget = widgets.FloatSlider(min=0.01, max=0.1, step=0.005, value=0.01)\n",
    "\n",
    "widgets.interact(getNeededSamples, err = errWidget);"
   ]
  },
  {
   "cell_type": "markdown",
   "metadata": {},
   "source": [
    "#### Example 6. Election Sampling\n",
    "\n",
    "#### Example 6A.\n",
    "\n",
    "Assume you have five candidates A to E (**`candidates = [\"A\", \"B\", \"C\", \"D\", \"E\"]`**) and the voters preference are such that:\n",
    "\n",
    "Candidate A = 35%\n",
    "\n",
    "Candidate B = 25%\n",
    "\n",
    "Candidate C = 20%\n",
    "\n",
    "Candidate D = 15%\n",
    "\n",
    "Candidate E = 5%\n",
    "\n",
    "Generate 50 Million individuals (**`population = 50000000`**), which is close to the actual voting population of the Philippines, who vote in a manner consistent with these percentages. "
   ]
  },
  {
   "cell_type": "code",
   "execution_count": 15,
   "metadata": {},
   "outputs": [
    {
     "name": "stdout",
     "output_type": "stream",
     "text": [
      "['B', 'A', 'E', 'B', 'A', 'B', 'D', 'B', 'D', 'D', 'E', 'D', 'C', 'C', 'B', 'C', 'A', 'D', 'B', 'A', 'A', 'A', 'C', 'B', 'B', 'D', 'C', 'B', 'C', 'B', 'C', 'C', 'B', 'C', 'A', 'A', 'A', 'B', 'C', 'A', 'B', 'A', 'B', 'B', 'B', 'A', 'A', 'B', 'A', 'E', 'A', 'C', 'D', 'C', 'B', 'C', 'B', 'C', 'B', 'A', 'E', 'B', 'A', 'B', 'A', 'A', 'C', 'A', 'A', 'A', 'A', 'B', 'A', 'D', 'B', 'B', 'B', 'C', 'B', 'D', 'A', 'A', 'A', 'B', 'A', 'A', 'B', 'C', 'B', 'A', 'E', 'A', 'A', 'B', 'D', 'E', 'A', 'A', 'A', 'B']\n",
      "Votes for A = 175220\n",
      "Votes for B = 124743\n",
      "Votes for C = 99924\n",
      "Votes for D = 74995\n",
      "Votes for E = 25118\n"
     ]
    }
   ],
   "source": [
    "population = 500000\n",
    "candidates = ['A', 'B', 'C', 'D', 'E']\n",
    "p_vec = [.35, .25, .20, .15, .05]\n",
    "\n",
    "votes = np.random.choice(candidates, population, p = p_vec).tolist() ## Convert to list so we can use the count() fnc\n",
    "\n",
    "print(votes[:100])\n",
    "\n",
    "print('Votes for A =', votes.count('A'))\n",
    "print('Votes for B =', votes.count('B'))\n",
    "print('Votes for C =', votes.count('C'))\n",
    "print('Votes for D =', votes.count('D'))\n",
    "print('Votes for E =', votes.count('E'))"
   ]
  },
  {
   "cell_type": "markdown",
   "metadata": {},
   "source": [
    "#### Example 6B.\n",
    "\n",
    "If your sample the population of 50 million with just 50 to 10,000 voters, how accurate your representation will be?"
   ]
  },
  {
   "cell_type": "code",
   "execution_count": 16,
   "metadata": {},
   "outputs": [
    {
     "name": "stdout",
     "output_type": "stream",
     "text": [
      "['D', 'C', 'D', 'B', 'C', 'D', 'A', 'C', 'A', 'B', 'C', 'C', 'A', 'C', 'C', 'A', 'D', 'A', 'B', 'C', 'C', 'A', 'B', 'C', 'D', 'B', 'A', 'D', 'A', 'A', 'A', 'D', 'B', 'A', 'A', 'C', 'A', 'C', 'B', 'C', 'C', 'C', 'C', 'B', 'B', 'B', 'A', 'A', 'A', 'D']\n"
     ]
    }
   ],
   "source": [
    "sample_50 = np.random.choice(votes, 50).tolist()\n",
    "sample_10000 = np.random.choice(votes, 10000).tolist()\n",
    "\n",
    "print(sample_50)"
   ]
  },
  {
   "cell_type": "code",
   "execution_count": 17,
   "metadata": {},
   "outputs": [
    {
     "data": {
      "application/vnd.jupyter.widget-view+json": {
       "model_id": "54cbd1348e9243c9b0fedcc002405e57",
       "version_major": 2,
       "version_minor": 0
      },
      "text/plain": [
       "interactive(children=(IntSlider(value=50, continuous_update=False, description='sample_pop1', max=2000, min=50…"
      ]
     },
     "metadata": {},
     "output_type": "display_data"
    }
   ],
   "source": [
    "from collections import Counter\n",
    "import pandas as pd\n",
    "\n",
    "tableau10 = ['#1F77B4', '#FF7F0E', '#2CA02C', '#D62728', '#9467BD', \n",
    "             '#8C564B', '#CFECF9', '#7F7F7F', '#BCBD22', '#17BECF']\n",
    "\n",
    "sampled_population_reference = 10000\n",
    "\n",
    "def get_sample_votes(sample_pop1, sample_pop2, votes):\n",
    "    sample = {}\n",
    "    for pop in [sample_pop1, sample_pop2]:\n",
    "        sample[\"SS_{}\".format(pop)] = dict(Counter(np.random.choice(votes,pop)))\n",
    "    df = pd.DataFrame.from_dict(sample)\n",
    "    \n",
    "    df.reset_index(inplace=True)\n",
    "    df.columns = [\"candidate\"] + list(df.columns[1:])\n",
    "    df = pd.melt(df, id_vars = \"candidate\", value_vars=list(df.columns[1:]))\n",
    "    \n",
    "    df[\"total\"] = df.groupby('variable').value.transform(\"sum\")\n",
    "    df[\"pct\"] = df.apply(lambda x: x[\"value\"]*100/x[\"total\"] , axis=1)\n",
    "    df[\"error\"] = df.apply(lambda x: (100*1.96/(4*x[\"total\"])**.5), axis=1)\n",
    "\n",
    "\n",
    "    \n",
    "    df = df.sort_values([\"candidate\",\"total\"])\n",
    "    data = []\n",
    "    \n",
    "    i = 0\n",
    "    for ky in sample.keys():\n",
    "        data.append(go.Bar(x=df[df[\"variable\"] == ky][\"candidate\"],\n",
    "                           y=df[df[\"variable\"] == ky][\"pct\"],\n",
    "                           name = ky,\n",
    "                           marker_color = tableau10[i],\n",
    "                           error_y = dict(type='data', array=df[df[\"variable\"] == ky][\"error\"].values)))\n",
    "        i = i + 1\n",
    "        \n",
    "    layout = go.Layout(\n",
    "            title = \"Survey scenario for different number of randomly surveyed individuals (Population = 50 million)\",\n",
    "            barmode = 'group',\n",
    "            xaxis = dict(title = 'Candidates'),\n",
    "            yaxis = dict(title = '% of Total Votes'))\n",
    "    fig = go.Figure(data=data, layout=layout, )\n",
    "    pyoff.iplot(fig)\n",
    "\n",
    "sample_pop1_widget = widgets.IntSlider(min=50, max=2000, step = 50, value=50, continuous_update=False)\n",
    "widgets.interact(get_sample_votes, sample_pop1=sample_pop1_widget, sample_pop2=widgets.fixed(sampled_population_reference), votes = widgets.fixed(votes));"
   ]
  },
  {
   "cell_type": "markdown",
   "metadata": {},
   "source": [
    "### Concluding Remarks\n",
    "\n",
    "1. Our estimates change every run because our samples change every run. \n",
    "2. More samples results in better accuracy and a smaller CI/ERR.\n",
    "3. Surveys that are not done right can be misleading. In this example, we can uniformly sample from the whole population. In real life, we need to consider other variables when sampling (e.g. geography, socio-economic indicators, cognitive biases).\n",
    "4. We only need approx. 1200 samples to get \"good\" estimates (0.000024 of 50 million). 95% confidence + 0.0285 ERR."
   ]
  },
  {
   "cell_type": "code",
   "execution_count": null,
   "metadata": {},
   "outputs": [],
   "source": []
  }
 ],
 "metadata": {
  "kernelspec": {
   "display_name": "Python 3",
   "language": "python",
   "name": "python3"
  },
  "language_info": {
   "codemirror_mode": {
    "name": "ipython",
    "version": 3
   },
   "file_extension": ".py",
   "mimetype": "text/x-python",
   "name": "python",
   "nbconvert_exporter": "python",
   "pygments_lexer": "ipython3",
   "version": "3.7.7"
  }
 },
 "nbformat": 4,
 "nbformat_minor": 4
}
