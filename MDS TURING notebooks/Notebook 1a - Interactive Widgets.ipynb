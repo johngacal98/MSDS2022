{
 "cells": [
  {
   "cell_type": "markdown",
   "metadata": {},
   "source": [
    "## Interactive Widgets\n",
    "\n",
    "This notebook creates interactive graphs of the eight functions discussed in class. Play around with the parameters to get a feel for how each of them changes the shape of the function."
   ]
  },
  {
   "cell_type": "code",
   "execution_count": 11,
   "metadata": {},
   "outputs": [],
   "source": [
    "import numpy as np\n",
    "import matplotlib.pyplot as plt\n",
    "    \n",
    "%matplotlib inline\n",
    "plt.rcParams[\"font.family\"] = \"Times New Roman\"\n",
    "tableau10 = ['#1F77B4', '#FF7F0E', '#2CA02C', '#D62728', '#9467BD', \n",
    "             '#8C564B', '#CFECF9', '#7F7F7F', '#BCBD22', '#17BECF']"
   ]
  },
  {
   "cell_type": "code",
   "execution_count": 12,
   "metadata": {},
   "outputs": [
    {
     "data": {
      "text/html": [
       "        <script type=\"text/javascript\">\n",
       "        window.PlotlyConfig = {MathJaxConfig: 'local'};\n",
       "        if (window.MathJax) {MathJax.Hub.Config({SVG: {font: \"STIX-Web\"}});}\n",
       "        if (typeof require !== 'undefined') {\n",
       "        require.undef(\"plotly\");\n",
       "        requirejs.config({\n",
       "            paths: {\n",
       "                'plotly': ['https://cdn.plot.ly/plotly-latest.min']\n",
       "            }\n",
       "        });\n",
       "        require(['plotly'], function(Plotly) {\n",
       "            window._Plotly = Plotly;\n",
       "        });\n",
       "        }\n",
       "        </script>\n",
       "        "
      ]
     },
     "metadata": {},
     "output_type": "display_data"
    }
   ],
   "source": [
    "import ipywidgets as widgets\n",
    "from IPython.display import display\n",
    "import plotly.offline as pyoff\n",
    "import plotly.graph_objs as go\n",
    "import plotly.tools as tools\n",
    "pyoff.init_notebook_mode(connected=True)"
   ]
  },
  {
   "cell_type": "code",
   "execution_count": 13,
   "metadata": {
    "code_folding": []
   },
   "outputs": [
    {
     "data": {
      "application/vnd.jupyter.widget-view+json": {
       "model_id": "aa3721cb732c4e799d63c90af2d851f2",
       "version_major": 2,
       "version_minor": 0
      },
      "text/plain": [
       "interactive(children=(FloatSlider(value=2.0, description='m', max=5.0, min=-5.0, step=0.5), FloatSlider(value=…"
      ]
     },
     "metadata": {},
     "output_type": "display_data"
    }
   ],
   "source": [
    "def lin_func_interactive(m, b):\n",
    "    x1 = np.arange(-5., 5., 0.5)\n",
    "    x2 = np.arange(-5., 5., 0.02)\n",
    "    \n",
    "    trace1 = go.Scatter(x = x1,\n",
    "                        y = (m*x1 + b),\n",
    "                        mode = 'markers',\n",
    "                        marker = dict(size = 15,\n",
    "                                      color = 'rgba(31, 119, 180, 0.75)',\n",
    "                                      line = dict(width = 2,\n",
    "                                                  color = 'rgba(0, 107, 264, 1)')),\n",
    "                        name = '')\n",
    "    \n",
    "    trace2 = go.Scatter(x = x2,\n",
    "                        y = (m*x2 + b),\n",
    "                        mode = 'lines',\n",
    "                        line = dict(width = 3,\n",
    "                                    color = tableau10[1]),\n",
    "                        name = 'Linear Function')\n",
    "    \n",
    "    layout = go.Layout(xaxis = dict(autorange = False,\n",
    "                                    showgrid = True,\n",
    "                                    range = [-5, 5],\n",
    "                                    title = r'x',\n",
    "                                    titlefont = dict(size = 25),\n",
    "                                    tickfont = dict(size=15)),\n",
    "                       yaxis = dict(autorange = False,\n",
    "                                    showgrid = True,\n",
    "                                    range = [-15, 15],\n",
    "                                    title = r'y',\n",
    "                                    titlefont = dict(size = 25),\n",
    "                                    tickfont = dict(size=15)),\n",
    "                       title = 'Linear Plot',\n",
    "                       titlefont = dict(size = 20),\n",
    "                       showlegend = False)\n",
    "    \n",
    "    fig = go.Figure(data = [trace2, trace1],\n",
    "                    layout = layout)\n",
    "    pyoff.iplot(fig)\n",
    "    return\n",
    "\n",
    "m_widget = widgets.FloatSlider(min = -5.,\n",
    "                               max = 5.,\n",
    "                               step = 0.5,\n",
    "                               value = 2)\n",
    "b_widget = widgets.FloatSlider(min = -5.,\n",
    "                               max = 5.,\n",
    "                               step = 0.5,\n",
    "                               value = 3)\n",
    "widgets.interact(lin_func_interactive,\n",
    "                 m = m_widget,\n",
    "                 b = b_widget);"
   ]
  },
  {
   "cell_type": "code",
   "execution_count": 14,
   "metadata": {
    "code_folding": []
   },
   "outputs": [
    {
     "data": {
      "application/vnd.jupyter.widget-view+json": {
       "model_id": "2762ada15ea44ea78d78954fd0463843",
       "version_major": 2,
       "version_minor": 0
      },
      "text/plain": [
       "interactive(children=(FloatSlider(value=2.0, description='a', max=5.0, min=-5.0, step=0.5), FloatSlider(value=…"
      ]
     },
     "metadata": {},
     "output_type": "display_data"
    }
   ],
   "source": [
    "def parabola_interactive(a, r1, r2):\n",
    "    x1 = np.arange(-10., 10., 0.4)\n",
    "    x2 = np.arange(-10., 10., 0.02)\n",
    "    \n",
    "    trace1 = go.Scatter(x = x1,\n",
    "                        y = a * (x1 - r1) * (x1 - r2),\n",
    "                        mode = 'markers',\n",
    "                        marker = dict(size = 15,\n",
    "                                      color = 'rgba(31, 119, 180, 0.75)',\n",
    "                                      line = dict(width=2,\n",
    "                                                  color='rgba(0, 0, 255, 0.6)')),\n",
    "                        name = '')\n",
    "    \n",
    "    trace2 = go.Scatter(x = x2,\n",
    "                        y = a * (x2 - r1) * (x2 - r2),\n",
    "                        mode = 'lines',\n",
    "                        line = dict(width = 3,\n",
    "                                    color = tableau10[1]),\n",
    "                        name = \"Parabolic Function\")\n",
    "    \n",
    "    layout = go.Layout(xaxis = dict(autorange = False,\n",
    "                                    showgrid = True,\n",
    "                                    range = [-10, 10],\n",
    "                                    title = r'x',\n",
    "                                    titlefont = dict(size = 25),\n",
    "                                    tickfont = dict(size = 15)),\n",
    "                       yaxis = dict(autorange = False,\n",
    "                                    showgrid = True,\n",
    "                                    range = [-100, 100],\n",
    "                                    title = 'y',\n",
    "                                    titlefont = dict(size = 25),\n",
    "                                    tickfont = dict(size = 15)),\n",
    "                       title = 'Parabola',\n",
    "                       titlefont = dict(size = 20),\n",
    "                       showlegend = False)\n",
    "    fig = go.Figure(data = [trace2, trace1],\n",
    "                    layout = layout)\n",
    "    pyoff.iplot(fig)\n",
    "\n",
    "a_widget = widgets.FloatSlider(min = -5.,\n",
    "                               max = 5.,\n",
    "                               step = 0.5,\n",
    "                               value = 2)\n",
    "r1_widget = widgets.FloatSlider(min = -5.,\n",
    "                                max = 5.,\n",
    "                                step = 0.5,\n",
    "                                value = -3)\n",
    "r2_widget = widgets.FloatSlider(min = -5.,\n",
    "                                max = 5.,\n",
    "                                step = 0.5,\n",
    "                                value = 3)\n",
    "widgets.interact(parabola_interactive,\n",
    "                 a = a_widget,\n",
    "                 r1 = r1_widget,\n",
    "                 r2 = r2_widget);"
   ]
  },
  {
   "cell_type": "code",
   "execution_count": 15,
   "metadata": {
    "code_folding": []
   },
   "outputs": [
    {
     "data": {
      "application/vnd.jupyter.widget-view+json": {
       "model_id": "fc86dd68e451412fabe3a1c33aab58b4",
       "version_major": 2,
       "version_minor": 0
      },
      "text/plain": [
       "interactive(children=(FloatSlider(value=1.0, description='a', max=10.0, min=-10.0, step=0.5), FloatSlider(valu…"
      ]
     },
     "metadata": {},
     "output_type": "display_data"
    }
   ],
   "source": [
    "def cubic_interactive(a, b, c, d):\n",
    "    x1 = np.arange(-5., 5., 0.4)\n",
    "    x2 = np.arange(-5., 5., 0.02)\n",
    "    trace1 = go.Scatter(x = x1,\n",
    "                        y = (a*x1**3) + (b*x1**2) + (c*x1) + d,\n",
    "                        mode = 'markers',\n",
    "                        marker = dict(size = 15,\n",
    "                                      color = 'rgba(31, 119, 180, 0.75)',\n",
    "                                      line = dict(width = 2,\n",
    "                                                  color = 'rgba(0, 0, 255, 1)')),\n",
    "                        name = '')\n",
    "    \n",
    "    trace2 = go.Scatter(x = x2,\n",
    "                        y = (a*x2**3) + (b*x2**2) + (c*x2) + d,\n",
    "                        mode = 'lines',\n",
    "                        line = dict(width = 3,\n",
    "                                    color = tableau10[1]),\n",
    "                        name = \"Cubic Function\")\n",
    "    \n",
    "    layout = go.Layout(xaxis = dict(autorange = False,\n",
    "                                    showgrid = True,\n",
    "                                    range = [-10, 10],\n",
    "                                    title = 'x', titlefont = dict(size = 25),\n",
    "                                    tickfont = dict(size = 15)),\n",
    "                       yaxis = dict(autorange = False,\n",
    "                                    showgrid = True,\n",
    "                                    range = [-100, 100],\n",
    "                                    title = 'y',\n",
    "                                    titlefont = dict(size = 25),\n",
    "                                    tickfont = dict(size = 15)),\n",
    "                       title = 'Cubic Function',\n",
    "                       titlefont = dict(size = 20),\n",
    "                       showlegend = False)\n",
    "    fig = go.Figure(data = [trace2, trace1],\n",
    "                    layout = layout)\n",
    "    pyoff.iplot(fig)\n",
    "\n",
    "a_widget = widgets.FloatSlider(min = -10., max = 10.,\n",
    "                               step = 0.5, value = 1)\n",
    "b_widget = widgets.FloatSlider(min = -10., max = 10.,\n",
    "                               step = 0.5, value = 2)\n",
    "c_widget = widgets.FloatSlider(min = -50., max = 10.,\n",
    "                               step = 0.5, value = -9)\n",
    "d_widget = widgets.FloatSlider(min = -10., max = 24.,\n",
    "                               step = 0.5, value = 5)\n",
    "widgets.interact(cubic_interactive,\n",
    "                 a = a_widget,\n",
    "                 b = b_widget,\n",
    "                 c = c_widget,\n",
    "                 d = d_widget);"
   ]
  },
  {
   "cell_type": "code",
   "execution_count": 16,
   "metadata": {
    "code_folding": []
   },
   "outputs": [
    {
     "data": {
      "application/vnd.jupyter.widget-view+json": {
       "model_id": "4969f2bc28d7440d8a0c467679c62073",
       "version_major": 2,
       "version_minor": 0
      },
      "text/plain": [
       "interactive(children=(FloatSlider(value=1.0, description='A', max=10.0, min=-10.0, step=0.5), FloatSlider(valu…"
      ]
     },
     "metadata": {},
     "output_type": "display_data"
    }
   ],
   "source": [
    "def sinusoid_interactive(A, T):\n",
    "    x1 = np.arange(-5., 5., 0.02)\n",
    "    x2 = np.arange(-5., 5., 0.02)\n",
    "\n",
    "    trace1 = go.Scatter(x = x1,\n",
    "                        y = 20* np.cos((5 * x1) +3 +A),\n",
    "                        #y=12*np.cos(3*x1+2),\n",
    "                        mode = 'markers',\n",
    "                        marker = dict(size = 12,\n",
    "                                      color = 'rgba(31, 119, 180, 0.75)',\n",
    "                                      line = dict(width = 2,\n",
    "                                                  color = 'rgba(0, 0, 0, 1.0)')),\n",
    "                        name = '')\n",
    "    \n",
    "    trace2 = go.Scatter(x = x2,\n",
    "                        y = 20 * np.cos((5 * x2) +3+ A),\n",
    "                        #y=12*np.cos(3*x2+2),\n",
    "                        mode = 'lines',\n",
    "                        line = dict(width = 3,\n",
    "                                    color = tableau10[1]),\n",
    "                        name = \"Sinusoidal Function\")\n",
    "    \n",
    "    layout = go.Layout(xaxis = dict(autorange = False,\n",
    "                                    showgrid = True,\n",
    "                                    range = [-5, 5],\n",
    "                                    title = 'x',\n",
    "                                    titlefont = dict(size = 25),\n",
    "                                    tickfont = dict(size = 15)),\n",
    "                       yaxis = dict(autorange = False,\n",
    "                                    showgrid = True,\n",
    "                                    range = [-25, 25],\n",
    "                                    title = 'y',\n",
    "                                    titlefont = dict(size = 25),\n",
    "                                    tickfont = dict(size = 15)),\n",
    "                       title = 'Sinusoid',\n",
    "                       titlefont = dict(size = 20),\n",
    "                       showlegend = False)\n",
    "    \n",
    "    fig = go.Figure(data = [trace2, trace1],\n",
    "                    layout = layout)\n",
    "    pyoff.iplot(fig)\n",
    "\n",
    "A_widget = widgets.FloatSlider(min = -10.,\n",
    "                               max = 10.,\n",
    "                               step = 0.5,\n",
    "                               value = 1)\n",
    "T_widget = widgets.FloatSlider(min = 0.5,\n",
    "                               max = 10.,\n",
    "                               step = 0.5,\n",
    "                               value = 2)\n",
    "widgets.interact(sinusoid_interactive,\n",
    "                 A = A_widget,\n",
    "                 T = T_widget);"
   ]
  },
  {
   "cell_type": "code",
   "execution_count": 17,
   "metadata": {
    "code_folding": []
   },
   "outputs": [
    {
     "data": {
      "application/vnd.jupyter.widget-view+json": {
       "model_id": "abbb62069bf046d0a173107f8be62b06",
       "version_major": 2,
       "version_minor": 0
      },
      "text/plain": [
       "interactive(children=(FloatSlider(value=2.0, description='A', max=10.0, min=-10.0, step=0.5), FloatSlider(valu…"
      ]
     },
     "metadata": {},
     "output_type": "display_data"
    }
   ],
   "source": [
    "def exponential_interactive(A, b):\n",
    "    x1 = np.arange(-1., 4., 0.1)\n",
    "    x2 = np.arange(-1., 4., 0.02)\n",
    "    \n",
    "    trace1 = go.Scatter(x = x1,\n",
    "                        y = A * np.exp(b * x1),\n",
    "                        mode = 'markers',\n",
    "                        marker = dict(size = 15,\n",
    "                                      color = 'rgba(31, 119, 180, 0.75)',\n",
    "                                      line = dict(width = 2,\n",
    "                                                  color = 'rgba(0, 0, 0, 1.0)')),\n",
    "                        name = '')\n",
    "    \n",
    "    trace2 = go.Scatter(x = x2,\n",
    "                        y = A * np.exp(b * x2),\n",
    "                        mode = 'lines',\n",
    "                        line = dict(width = 3,\n",
    "                                    color = tableau10[1]),\n",
    "                        name = \"Exponential Function\")\n",
    "    \n",
    "    layout = go.Layout(xaxis = dict(autorange = False,\n",
    "                                    showgrid = True,\n",
    "                                    range = [-1, 4],\n",
    "                                    title = 'x',\n",
    "                                    titlefont = dict(size = 25),\n",
    "                                    tickfont = dict(size = 15)),\n",
    "                       yaxis = dict(autorange = True,\n",
    "                                    showgrid = True,\n",
    "                                    title = 'y',\n",
    "                                    titlefont = dict(size = 25),\n",
    "                                    tickfont = dict(size = 15)),\n",
    "                       title = 'Exponential',\n",
    "                       titlefont = dict(size = 20),\n",
    "                       showlegend = False)\n",
    "    \n",
    "    fig = go.Figure(data = [trace2, trace1],\n",
    "                    layout = layout)\n",
    "    pyoff.iplot(fig)\n",
    "\n",
    "A_widget = widgets.FloatSlider(min = -10.,\n",
    "                               max = 10.,\n",
    "                               step = 0.5,\n",
    "                               value = 2)\n",
    "b_widget = widgets.FloatSlider(min = -5,\n",
    "                               max = 10.,\n",
    "                               step = 0.5,\n",
    "                               value = 2)\n",
    "widgets.interact(exponential_interactive,\n",
    "                 A = A_widget,\n",
    "                 b = b_widget);"
   ]
  },
  {
   "cell_type": "code",
   "execution_count": 18,
   "metadata": {
    "code_folding": []
   },
   "outputs": [
    {
     "data": {
      "application/vnd.jupyter.widget-view+json": {
       "model_id": "ddbafe04ac84491abaf37b06a9953875",
       "version_major": 2,
       "version_minor": 0
      },
      "text/plain": [
       "interactive(children=(FloatSlider(value=0.0, description='mean', max=10.0, min=-10.0, step=0.5), FloatSlider(v…"
      ]
     },
     "metadata": {},
     "output_type": "display_data"
    }
   ],
   "source": [
    "def gaussian_interactive(mean, stdev):\n",
    "    x1 = np.arange(-7., 7., 0.5)\n",
    "    x2 = np.arange(-7., 7., 0.02)\n",
    "    \n",
    "    trace1 = go.Scatter(x = x1,\n",
    "                        y = np.exp(-((x1 - mean) / stdev)**2) * (2 * np.pi * stdev)**-1,\n",
    "                        mode = 'markers',\n",
    "                        marker = dict(size = 15,\n",
    "                                      color = 'rgba(31, 119, 180, 0.75)',\n",
    "                                      line = dict(width = 1,\n",
    "                                                  color = 'rgba(0, 0, 0, 1.0)')),\n",
    "                        name = '')\n",
    "    \n",
    "    trace2 = go.Scatter(x = x2,\n",
    "                        y = np.exp(-((x2 - mean) / stdev)**2) * (2 * np.pi * stdev)**-1,\n",
    "                        mode = 'lines',\n",
    "                        line = dict(width = 3,\n",
    "                                    color = tableau10[1]),\n",
    "                        name = \"Gaussian Function\")\n",
    "    \n",
    "    layout = go.Layout(xaxis = dict(autorange = False,\n",
    "                                    showgrid = True,\n",
    "                                    range = [-7, 7],\n",
    "                                    title = 'x',\n",
    "                                    titlefont = dict(size = 25),\n",
    "                                    tickfont = dict(size = 15)),\n",
    "                       yaxis = dict(autorange = True,\n",
    "                                    showgrid = True,\n",
    "                                    title = 'y',\n",
    "                                    titlefont = dict(size = 25),\n",
    "                                    tickfont = dict(size = 15)),\n",
    "                       title = 'Gaussian or Normal distribution',\n",
    "                       titlefont = dict(size = 20),\n",
    "                       showlegend = False)\n",
    "    \n",
    "    fig = go.Figure(data = [trace2, trace1],\n",
    "                    layout = layout)\n",
    "    pyoff.iplot(fig)\n",
    "\n",
    "mean_widget = widgets.FloatSlider(min = -10.,\n",
    "                                  max = 10.,\n",
    "                                  step = 0.5,\n",
    "                                  value = 0)\n",
    "stdev_widget = widgets.FloatSlider(min = 0.5,\n",
    "                                   max = 10.,\n",
    "                                   step = 0.5,\n",
    "                                   value = 2)\n",
    "widgets.interact(gaussian_interactive,\n",
    "                 mean = mean_widget,\n",
    "                 stdev = stdev_widget);"
   ]
  },
  {
   "cell_type": "code",
   "execution_count": 19,
   "metadata": {
    "code_folding": []
   },
   "outputs": [
    {
     "data": {
      "application/vnd.jupyter.widget-view+json": {
       "model_id": "7fc7c69e5d7a4b2b9467ea811e54b3eb",
       "version_major": 2,
       "version_minor": 0
      },
      "text/plain": [
       "interactive(children=(FloatSlider(value=1.0, description='A', max=10.0, min=0.1, step=0.5), FloatSlider(value=…"
      ]
     },
     "metadata": {},
     "output_type": "display_data"
    }
   ],
   "source": [
    "def power_interactive(A, alpha):\n",
    "    x1 = np.arange(0.01, 100., 0.5)\n",
    "    x2 = np.arange(0.01, 100., 0.02)\n",
    "    \n",
    "    trace1 = go.Scatter(x = x1,\n",
    "                        y = A * np.power(x1, -alpha),\n",
    "                        mode = 'markers',\n",
    "                        marker = dict(size = 10,\n",
    "                                      color = 'rgba(31, 119, 180, 0.75)',\n",
    "                                      line = dict(width = 2,\n",
    "                                                  color = 'rgba(0, 0, 0, 1.0)')),\n",
    "                        name = '')\n",
    "    \n",
    "    trace2 = go.Scatter(x = x2,\n",
    "                        y = A * np.power(x2, -alpha),\n",
    "                        mode = 'lines',\n",
    "                        line = dict(width = 3,\n",
    "                                    color = tableau10[1]),\n",
    "                                    #color = 'rgba(0, 255, 0, 0.6)'),\n",
    "                        name = \"Power Law\")\n",
    "    \n",
    "    layout = go.Layout(xaxis = dict(autorange = True,\n",
    "                                    showgrid = True,\n",
    "                                    title = 'x',\n",
    "                                    type = 'log',\n",
    "                                    titlefont = dict(size = 25),\n",
    "                                    tickfont = dict(size = 15)),\n",
    "                       yaxis=dict(autorange = True,\n",
    "                                  showgrid = True,\n",
    "                                  title = 'y',\n",
    "                                  type = 'log',\n",
    "                                  titlefont = dict(size = 25),\n",
    "                                  tickfont = dict(size = 15)),\n",
    "                       title = 'Power Law',\n",
    "                       titlefont = dict(size = 20),\n",
    "                       showlegend = False)\n",
    "    \n",
    "    fig = go.Figure(data = [trace2, trace1],\n",
    "                    layout = layout)\n",
    "    pyoff.iplot(fig)\n",
    "\n",
    "A_widget = widgets.FloatSlider(min = 0.1,\n",
    "                               max = 10.,\n",
    "                               step = 0.5,\n",
    "                               value = 1)\n",
    "alpha_widget = widgets.FloatSlider(min = -5,\n",
    "                                   max = 5.,\n",
    "                                   step = 0.5,\n",
    "                                   value = 1)\n",
    "widgets.interact(power_interactive,\n",
    "                 A = A_widget,\n",
    "                 alpha = alpha_widget);"
   ]
  },
  {
   "cell_type": "code",
   "execution_count": 20,
   "metadata": {
    "code_folding": []
   },
   "outputs": [
    {
     "data": {
      "application/vnd.jupyter.widget-view+json": {
       "model_id": "77a61aad247749f6bc70ad04cb0153bc",
       "version_major": 2,
       "version_minor": 0
      },
      "text/plain": [
       "interactive(children=(FloatSlider(value=1.0, description='A', max=10.0, min=-10.0, step=0.5), FloatSlider(valu…"
      ]
     },
     "metadata": {},
     "output_type": "display_data"
    }
   ],
   "source": [
    "def sigmoid_interactive(A, x0, k):\n",
    "    x1 = np.arange(-10., 10., 0.5)\n",
    "    x2 = np.arange(-10., 10., 0.02)\n",
    "    \n",
    "    trace1 = go.Scatter(x = x1,\n",
    "                        y = A/(1+np.exp(-k*(x1-x0))),\n",
    "                        mode = 'markers',\n",
    "                        marker = dict(size = 15,\n",
    "                                      color = 'rgba(31, 119, 180, 0.75)',\n",
    "                                      line = dict(width = 2,\n",
    "                                                  color = 'rgba(0, 0, 0, 1.0)')),\n",
    "                        name = '')\n",
    "    \n",
    "    trace2 = go.Scatter(x = x2,\n",
    "                        y = A/(1+np.exp(-k*(x2-x0))),\n",
    "                        mode = 'lines',\n",
    "                        line = dict(width = 3,\n",
    "                                    color = tableau10[1]),\n",
    "                        name = \"Sigmoidal Function\")\n",
    "    \n",
    "    layout = go.Layout(xaxis = dict(autorange = False,\n",
    "                                    showgrid = True,\n",
    "                                    range = [-10, 10],\n",
    "                                    title = 'x',\n",
    "                                    titlefont = dict(size = 25),\n",
    "                                    tickfont = dict(size = 15)),\n",
    "                       yaxis = dict(autorange = True,\n",
    "                                    showgrid = True,\n",
    "                                    title = 'y',\n",
    "                                    titlefont = dict(size = 25),\n",
    "                                    tickfont = dict(size = 15)),\n",
    "                       title = 'Sigmoid',\n",
    "                       titlefont = dict(size = 20),\n",
    "                       showlegend = False)\n",
    "    \n",
    "    fig = go.Figure(data = [trace2, trace1],\n",
    "                    layout = layout)\n",
    "    pyoff.iplot(fig)\n",
    "\n",
    "A_widget = widgets.FloatSlider(min = -10.,\n",
    "                               max = 10.,\n",
    "                               step = 0.5,\n",
    "                               value = 1)\n",
    "x0_widget = widgets.FloatSlider(min = -5.,\n",
    "                                max = 5.,\n",
    "                                step = 0.5,\n",
    "                                value = 0)\n",
    "k_widget = widgets.FloatSlider(min = -5.,\n",
    "                               max = 5.,\n",
    "                               step = 1.0,\n",
    "                               value = 1)\n",
    "\n",
    "widgets.interact(sigmoid_interactive,\n",
    "                 A = A_widget,\n",
    "                 x0 = x0_widget,\n",
    "                 k = k_widget);"
   ]
  },
  {
   "cell_type": "code",
   "execution_count": null,
   "metadata": {},
   "outputs": [],
   "source": []
  },
  {
   "cell_type": "code",
   "execution_count": null,
   "metadata": {},
   "outputs": [],
   "source": []
  }
 ],
 "metadata": {
  "kernelspec": {
   "display_name": "Python 3",
   "language": "python",
   "name": "python3"
  },
  "language_info": {
   "codemirror_mode": {
    "name": "ipython",
    "version": 3
   },
   "file_extension": ".py",
   "mimetype": "text/x-python",
   "name": "python",
   "nbconvert_exporter": "python",
   "pygments_lexer": "ipython3",
   "version": "3.7.7"
  }
 },
 "nbformat": 4,
 "nbformat_minor": 4
}
